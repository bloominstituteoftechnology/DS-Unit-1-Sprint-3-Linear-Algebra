{
 "cells": [
  {
   "cell_type": "markdown",
   "id": "e3895b81",
   "metadata": {
    "deletable": false,
    "editable": false,
    "nbgrader": {
     "cell_type": "markdown",
     "checksum": "317096ab3749644280bcbdb5aeb91254",
     "grade": false,
     "grade_id": "cell-f58e10aaf72965dd",
     "locked": true,
     "schema_version": 3,
     "solution": false,
     "task": false
    }
   },
   "source": [
    "# Data Science - Unit 1 Sprint 3\n",
    "\n",
    "## Sprint Challenge - Linear Algebra"
   ]
  },
  {
   "cell_type": "markdown",
   "id": "83aa737d",
   "metadata": {
    "deletable": false,
    "editable": false,
    "nbgrader": {
     "cell_type": "markdown",
     "checksum": "558f331caa508b0a6bf7d4dd464c7e91",
     "grade": false,
     "grade_id": "cell-0234294a36472548",
     "locked": true,
     "schema_version": 3,
     "solution": false,
     "task": false
    }
   },
   "source": [
    "## Welcome to the final Sprint Challenge of Unit 1!\n",
    "\n",
    "In this challenge, we're going to explore two different datasets where you can demonstrate your skills with fitting linear regression models and practicing some of the linear algebra concepts you learned.\n",
    "\n",
    "**Make sure to follow the instructions in each task carefully!** The autograded tests are very specific in that they are designed to test on the exact instructions.\n",
    "\n",
    "Good luck!\n"
   ]
  },
  {
   "cell_type": "markdown",
   "id": "ff53860d",
   "metadata": {
    "deletable": false,
    "editable": false,
    "nbgrader": {
     "cell_type": "markdown",
     "checksum": "95b01a8876dc36672e96f6facfab6d88",
     "grade": false,
     "grade_id": "cell-2ff6a7fb46e99cff",
     "locked": true,
     "schema_version": 3,
     "solution": false,
     "task": false
    }
   },
   "source": [
    "## Part A: Linear Regression\n",
    "\n",
    "### Use the following information to complete Tasks 1 - 11\n",
    "\n",
    "### Dataset description\n",
    "\n",
    "The data you will work on for this Sprint Challenge is from the World Happiness Report. The report compiles data from a survey of hundreds of countries and looks at factors such as economic production, social support, life expectancy, freedom, absence of corruption, and generosity to determine a happiness \"score\". \n",
    "\n",
    "In this Sprint Challenge, we're only going to look at the report for years 2018 and 2019. We're going to see how much the happiness \"score\" depends on some of the factors listed above.\n",
    "\n",
    "For more information about the data, you can look here: [Kaggle: World Happiness Report](https://www.kaggle.com/unsdsn/world-happiness)"
   ]
  },
  {
   "cell_type": "markdown",
   "id": "280dcfdc",
   "metadata": {
    "deletable": false,
    "editable": false,
    "nbgrader": {
     "cell_type": "markdown",
     "checksum": "d2a70f70326f16794761c05528ff829b",
     "grade": false,
     "grade_id": "cell-a35750bfc3481af3",
     "locked": true,
     "schema_version": 3,
     "solution": false,
     "task": false
    }
   },
   "source": [
    "### Task 1 - Load the data\n",
    "\n",
    "* import both `pandas` and `numpy`\n",
    "* use the URL provided to read in your DataFrame\n",
    "* load the CSV file as a DataFrame with the name `happy`.\n",
    "* the shape of your DataFrame should be `(312, 8)`"
   ]
  },
  {
   "cell_type": "code",
   "execution_count": null,
   "id": "af3af2bf",
   "metadata": {
    "deletable": false,
    "nbgrader": {
     "cell_type": "code",
     "checksum": "00fb24de4d91ba59fa41a21c27831de1",
     "grade": false,
     "grade_id": "cell-f1a80be29ed2136b",
     "locked": false,
     "schema_version": 3,
     "solution": true,
     "task": false
    }
   },
   "outputs": [],
   "source": [
    "# Task 1\n",
    "\n",
    "# URL provided\n",
    "url = \"https://raw.githubusercontent.com/bloominstituteoftechnology/data-science-practice-datasets/main/unit_1/Happy/happiness_years18_19.csv\"\n",
    "\n",
    "# YOUR CODE HERE\n",
    "raise NotImplementedError()\n",
    "\n",
    "# Print out the DataFrame\n",
    "happy.head()\n",
    "#happy.shape"
   ]
  },
  {
   "cell_type": "code",
   "execution_count": null,
   "id": "5f349ff1",
   "metadata": {
    "deletable": false,
    "editable": false,
    "nbgrader": {
     "cell_type": "code",
     "checksum": "027ce1ae824f890c0f5eecf9969db439",
     "grade": true,
     "grade_id": "cell-2705155963a7f7ee",
     "locked": true,
     "points": 1,
     "schema_version": 3,
     "solution": false,
     "task": false
    }
   },
   "outputs": [],
   "source": [
    "# Task 1 - Test\n",
    "\n",
    "assert isinstance(happy, pd.DataFrame), 'Have you created a DataFrame named `happy`?'\n",
    "assert len(happy) == 312\n"
   ]
  },
  {
   "cell_type": "markdown",
   "id": "0e61f53e",
   "metadata": {
    "deletable": false,
    "editable": false,
    "nbgrader": {
     "cell_type": "markdown",
     "checksum": "9cf857b9577db43e0d9559a45f20804f",
     "grade": false,
     "grade_id": "cell-757df11f4f0c5b11",
     "locked": true,
     "schema_version": 3,
     "solution": false,
     "task": false
    }
   },
   "source": [
    "**Task 2** - Explore the data and find NaNs\n",
    "\n",
    "Now you want to take a look at the dataset, determine the variable types of the columns, identify missing values, and generally better understand your data.\n",
    "\n",
    "**Your tasks**\n",
    "\n",
    "* Use describe() to learn about any missing values, the data types, and descriptive statistics for each numeric value\n",
    "* Determine the total number of null values, assign that value to the variable `num_null`."
   ]
  },
  {
   "cell_type": "code",
   "execution_count": null,
   "id": "119577ef",
   "metadata": {
    "deletable": false,
    "nbgrader": {
     "cell_type": "code",
     "checksum": "e12732463b1d7c58035d259cf846c0f9",
     "grade": false,
     "grade_id": "cell-7bd9d697a65a5dc0",
     "locked": false,
     "schema_version": 3,
     "solution": true,
     "task": false
    }
   },
   "outputs": [],
   "source": [
    "# Task 2\n",
    "\n",
    "# YOUR CODE HERE\n",
    "raise NotImplementedError()\n",
    "\n",
    "# Print out your integer result\n",
    "print(\"The total number of null values is:\", num_null)"
   ]
  },
  {
   "cell_type": "code",
   "execution_count": null,
   "id": "8153dba2",
   "metadata": {
    "deletable": false,
    "editable": false,
    "nbgrader": {
     "cell_type": "code",
     "checksum": "1bd202ac1541caafb55043ccf6d0439b",
     "grade": true,
     "grade_id": "cell-63b9e97cc9499e3b",
     "locked": true,
     "points": 1,
     "schema_version": 3,
     "solution": false,
     "task": false
    }
   },
   "outputs": [],
   "source": [
    "# Task 2 - Test\n",
    "import numpy as np\n",
    "assert isinstance(num_null, np.int64), 'The sum of the NaN values should be an integer.'\n"
   ]
  },
  {
   "cell_type": "markdown",
   "id": "b2aabdca",
   "metadata": {
    "deletable": false,
    "editable": false,
    "nbgrader": {
     "cell_type": "markdown",
     "checksum": "2c6e3f3a5cc582cb08baa7785749a537",
     "grade": false,
     "grade_id": "cell-7d5ca1f6328d3ddf",
     "locked": true,
     "schema_version": 3,
     "solution": false,
     "task": false
    }
   },
   "source": [
    "**Task 3** - Calculate Nulls\n",
    "\n",
    "As you may have noticed in the previous task, the column `Perceptions_corruption` has a lot of missing values. What is the percentage of missing values in that column? \n",
    "\n",
    "\n",
    "* Calculate the percentage of NaN values in `Perceptions_corruption` and assign the result to the variable `corruption_nan`; the value should be a **float** between `0.0` and `100.0`."
   ]
  },
  {
   "cell_type": "code",
   "execution_count": null,
   "id": "8c60192e",
   "metadata": {
    "deletable": false,
    "nbgrader": {
     "cell_type": "code",
     "checksum": "79e9200ccd07d12686421e6f02918926",
     "grade": false,
     "grade_id": "cell-2e67f2f9c09478cb",
     "locked": false,
     "schema_version": 3,
     "solution": true,
     "task": false
    }
   },
   "outputs": [],
   "source": [
    "# Task 3\n",
    "\n",
    "# YOUR CODE HERE\n",
    "raise NotImplementedError()\n",
    "\n",
    "# Print the percentage of NaN values\n",
    "print(corruption_nan)\n"
   ]
  },
  {
   "cell_type": "code",
   "execution_count": null,
   "id": "065ab2b0",
   "metadata": {
    "deletable": false,
    "editable": false,
    "nbgrader": {
     "cell_type": "code",
     "checksum": "1960ad4c13179db1312cd4905ca639fe",
     "grade": true,
     "grade_id": "cell-ea33612447f59937",
     "locked": true,
     "points": 1,
     "schema_version": 3,
     "solution": false,
     "task": false
    }
   },
   "outputs": [],
   "source": [
    "# Task 3- Test\n",
    "\n",
    "assert isinstance(corruption_nan, float), 'The percentage of NaN values should be a float.'\n",
    "assert corruption_nan >= 1, 'Make sure you calculated the percentage and not the decimal fraction.'\n"
   ]
  },
  {
   "cell_type": "markdown",
   "id": "5c3ac777",
   "metadata": {
    "deletable": false,
    "editable": false,
    "nbgrader": {
     "cell_type": "markdown",
     "checksum": "1976479b49f26f0d6a3c9decbdc52a38",
     "grade": false,
     "grade_id": "cell-ebc7d4d22a46465b",
     "locked": true,
     "schema_version": 3,
     "solution": false,
     "task": false
    }
   },
   "source": [
    "**Task 4 -** Nulls\n",
    "\n",
    "There are a few different approaches we can take when we have null values in our dataset: \n",
    "* We can choose to drop the column or null values. (Not always the best approach)\n",
    "* We can do additional research to find out why those values are missing. \n",
    "* We can impute the missing values with new values. \n",
    "\n",
    "For this next task, you will take the third step and impute the missing values in `Perceptions_corrption` with a value \n",
    "that makes sense to you. Describe your reasoning in the following markdown cell. "
   ]
  },
  {
   "cell_type": "code",
   "execution_count": null,
   "id": "03c29fab",
   "metadata": {
    "deletable": false,
    "nbgrader": {
     "cell_type": "code",
     "checksum": "f55d8891788ca3cd903d69eb9c494d45",
     "grade": false,
     "grade_id": "cell-6f59b2bc20e14d98",
     "locked": false,
     "schema_version": 3,
     "solution": true,
     "task": false
    }
   },
   "outputs": [],
   "source": [
    "# Task 4\n",
    "\n",
    "# YOUR CODE HERE\n",
    "raise NotImplementedError()"
   ]
  },
  {
   "cell_type": "markdown",
   "id": "d775d7ef",
   "metadata": {
    "deletable": false,
    "editable": false,
    "nbgrader": {
     "cell_type": "markdown",
     "checksum": "d8ade59b897f1041bdb11b66fb741d1c",
     "grade": false,
     "grade_id": "cell-d69faac90e0d31a3",
     "locked": true,
     "points": 0,
     "schema_version": 3,
     "solution": false,
     "task": true
    }
   },
   "source": [
    "**Task 4 Written answer:**\n",
    "\n",
    "Your Answer Here: "
   ]
  },
  {
   "cell_type": "code",
   "execution_count": null,
   "id": "861c6a39",
   "metadata": {
    "deletable": false,
    "editable": false,
    "nbgrader": {
     "cell_type": "code",
     "checksum": "9c83548fc91e6ea21f8440b63be5a1a2",
     "grade": true,
     "grade_id": "cell-9eb6ab022348547c",
     "locked": true,
     "points": 1,
     "schema_version": 3,
     "solution": false,
     "task": false
    }
   },
   "outputs": [],
   "source": [
    "# Task 4 - Test\n",
    "\n",
    "assert happy.isna().sum().sum() == 0, \"Do you still have null values in 'Perceptions_corruption' column?\"\n",
    "# Hidden tests - you will see the results when you submit to Canvas"
   ]
  },
  {
   "cell_type": "markdown",
   "id": "9e3d0a3e",
   "metadata": {
    "deletable": false,
    "editable": false,
    "nbgrader": {
     "cell_type": "markdown",
     "checksum": "da1a4a9d8b5c0f0d3b6a00addb989d2a",
     "grade": false,
     "grade_id": "cell-6bc34395bc7dcdfb",
     "locked": true,
     "schema_version": 3,
     "solution": false,
     "task": false
    }
   },
   "source": [
    "##### **Task 5** - Visualize the dataset\n",
    "\n",
    "Next, we'll create a visualization for this dataset. We know from the introduction that we're trying to predict the happiness score from the other factors. Before we do let, let's visualize the dataset using a seaborn `pairplot` to look at all of the columns plotted as \"pairs\".\n",
    "\n",
    "**Your tasks**\n",
    "\n",
    "* Use the seaborn library `sns.pairplot()` function to create your visualization (use the starter code provided)\n",
    "\n",
    "This task will not be autograded - but it is part of completing the challenge."
   ]
  },
  {
   "cell_type": "code",
   "execution_count": null,
   "id": "c9fd3ec3",
   "metadata": {
    "deletable": false,
    "nbgrader": {
     "cell_type": "code",
     "checksum": "59ca75f42e425a16c40291ecb2240bba",
     "grade": true,
     "grade_id": "cell-db0eb4d5ae8b9a7e",
     "locked": false,
     "points": 0,
     "schema_version": 3,
     "solution": true,
     "task": false
    }
   },
   "outputs": [],
   "source": [
    "# Task 5\n",
    "\n",
    "# Import seaborn\n",
    "import seaborn as sns\n",
    "\n",
    "\n",
    "# YOUR CODE HERE\n",
    "raise NotImplementedError()\n",
    "\n"
   ]
  },
  {
   "cell_type": "markdown",
   "id": "687e2135",
   "metadata": {
    "deletable": false,
    "editable": false,
    "nbgrader": {
     "cell_type": "markdown",
     "checksum": "78bebe1ad7f8aaca4b0dee403783cd29",
     "grade": false,
     "grade_id": "cell-33fb2d6047ffeaf5",
     "locked": true,
     "schema_version": 3,
     "solution": false,
     "task": false
    }
   },
   "source": [
    "**Task 6** - Choose your dependent and independent variables\n",
    "\n",
    "Before we fit a linear regression to the variables in this data set, we need to determine the dependent variable (the target or y variable) and independent variable (the feature or x variable). For this dataset, we have one dependent variable and a few choices for the independent variable(s). Using the information about the data set and what you know from previous tasks, complete the following:\n",
    "\n",
    "* Assign the dependent variable to `y_var`\n",
    "* Choose **one** independent variable and assign it to `x_var`"
   ]
  },
  {
   "cell_type": "code",
   "execution_count": null,
   "id": "4fae9a21",
   "metadata": {
    "deletable": false,
    "nbgrader": {
     "cell_type": "code",
     "checksum": "8dd5983f99723d6aad961ecedb052c8c",
     "grade": false,
     "grade_id": "cell-d26be23c92844c4c",
     "locked": false,
     "schema_version": 3,
     "solution": true,
     "task": false
    }
   },
   "outputs": [],
   "source": [
    "# Task 6\n",
    "\n",
    "# YOUR CODE HERE\n",
    "raise NotImplementedError()"
   ]
  },
  {
   "cell_type": "markdown",
   "id": "c8c76490",
   "metadata": {
    "deletable": false,
    "editable": false,
    "nbgrader": {
     "cell_type": "markdown",
     "checksum": "249fd73123b201b778ded2e69da892bd",
     "grade": false,
     "grade_id": "cell-9a4ab3a4c5bfdb43",
     "locked": true,
     "schema_version": 3,
     "solution": false,
     "task": false
    }
   },
   "source": [
    "**Task 6 Test**"
   ]
  },
  {
   "cell_type": "code",
   "execution_count": null,
   "id": "a7213ad0",
   "metadata": {
    "deletable": false,
    "editable": false,
    "nbgrader": {
     "cell_type": "code",
     "checksum": "82c7c3c49c4887fbb45039dd5b2a6cde",
     "grade": true,
     "grade_id": "cell-b055ed975e478676",
     "locked": true,
     "points": 1,
     "schema_version": 3,
     "solution": false,
     "task": false
    }
   },
   "outputs": [],
   "source": [
    "# Task 6 - Test\n",
    "\n",
    "# Hidden tests - you will see the results when you submit to Canvas"
   ]
  },
  {
   "cell_type": "markdown",
   "id": "ec2a608a",
   "metadata": {
    "deletable": false,
    "editable": false,
    "nbgrader": {
     "cell_type": "markdown",
     "checksum": "a57c26dc8ce81e8aea4c42c9d054bb4b",
     "grade": false,
     "grade_id": "cell-ed907c95da151458",
     "locked": true,
     "schema_version": 3,
     "solution": false,
     "task": false
    }
   },
   "source": [
    "**Task 7** - Fit a line using seaborn\n",
    "\n",
    "Before we fit the linear regression model, we'll check how well a line fits. Because you have some choices for which independent variable to select, we're going to complete the rest of our analysis using `GDP per capita` as the independent variable, and using `Score` as the dependent (target) variable.\n",
    "\n",
    "**Your tasks:**\n",
    "\n",
    "* Create a scatter plot using seaborn with `GDP_per_capita` and `Score`\n",
    "* Use `sns.lmplot()` and Assign this to an object called `seaborn_line`\n",
    "* Answer the questions about your plot (not autograded).\n"
   ]
  },
  {
   "cell_type": "code",
   "execution_count": null,
   "id": "88d85c10",
   "metadata": {
    "deletable": false,
    "nbgrader": {
     "cell_type": "code",
     "checksum": "3e8cbff6b104749ddfe75e0d04d0ee6d",
     "grade": false,
     "grade_id": "cell-3b68e509e5896df8",
     "locked": false,
     "schema_version": 3,
     "solution": true,
     "task": false
    }
   },
   "outputs": [],
   "source": [
    "# Task 7\n",
    "import matplotlib.pyplot as plt\n",
    "# YOUR CODE HERE\n",
    "raise NotImplementedError()"
   ]
  },
  {
   "cell_type": "code",
   "execution_count": null,
   "id": "6d82ffc7",
   "metadata": {
    "deletable": false,
    "editable": false,
    "nbgrader": {
     "cell_type": "code",
     "checksum": "f4fc8668bfbe2d70945a317c60944bc7",
     "grade": true,
     "grade_id": "cell-458677297846204a",
     "locked": true,
     "points": 1,
     "schema_version": 3,
     "solution": false,
     "task": false
    }
   },
   "outputs": [],
   "source": [
    "# Task 7 - Test\n",
    "\n",
    "# Hidden tests - you will see the results when you submit to Canvas"
   ]
  },
  {
   "cell_type": "markdown",
   "id": "0598148b",
   "metadata": {
    "deletable": false,
    "editable": false,
    "nbgrader": {
     "cell_type": "markdown",
     "checksum": "f1239ed62af0e64d3adb08f56d8476b8",
     "grade": false,
     "grade_id": "cell-edf591b481857b69",
     "locked": true,
     "points": 0,
     "schema_version": 3,
     "solution": false,
     "task": true
    }
   },
   "source": [
    "**Task 7** - Short answer\n",
    "\n",
    "1. Does it make sense to fit a linear model to these two variables? In other words, are there any problems with this data like extreme outliers, non-linearity, etc.\n",
    "2. Over what range of your independent variable does the linear model not fit the data well? Over what range does a line fit the data well?\n"
   ]
  },
  {
   "cell_type": "markdown",
   "id": "9d8a6f2d",
   "metadata": {
    "deletable": false,
    "editable": false,
    "nbgrader": {
     "cell_type": "markdown",
     "checksum": "8e471812109fa5eaacc7bd3031787595",
     "grade": false,
     "grade_id": "cell-ae45b862cc2a6907",
     "locked": true,
     "points": 0,
     "schema_version": 3,
     "solution": false,
     "task": true
    }
   },
   "source": [
    "Your Answer Here: "
   ]
  },
  {
   "cell_type": "markdown",
   "id": "a074e84b",
   "metadata": {
    "deletable": false,
    "editable": false,
    "nbgrader": {
     "cell_type": "markdown",
     "checksum": "4a593dd3e8a2985be50d7b9e9a6b6c41",
     "grade": false,
     "grade_id": "cell-4518bf14e0040fb2",
     "locked": true,
     "schema_version": 3,
     "solution": false,
     "task": false
    }
   },
   "source": [
    "**Task 8** - Fit a linear regression model\n",
    "\n",
    "Now it's time to fit the linear regression model! We have two variables (`GDP_per_capita` and `Score`) that we are going to use in our model.\n",
    "\n",
    "**Your tasks:**\n",
    "\n",
    "*  Use the provided import for the `statsmodels.formula.api` library `ols` method\n",
    "*  Fit a **single variable linear regression model** and assign the model to the variable `model_1`\n",
    "* Print out the model summary and assign the value of R-squared for this model to `r_square_model_1`. Your value should be defined to three decimal places (example: `r_square_model_1 = 0.123`)\n"
   ]
  },
  {
   "cell_type": "code",
   "execution_count": null,
   "id": "1809395f",
   "metadata": {
    "deletable": false,
    "nbgrader": {
     "cell_type": "code",
     "checksum": "4777bc894ab05c47c634914c030e0162",
     "grade": false,
     "grade_id": "cell-dbf9594e492ccd24",
     "locked": false,
     "schema_version": 3,
     "solution": true,
     "task": false
    }
   },
   "outputs": [],
   "source": [
    "# Task 8\n",
    "\n",
    "# Import the OLS model from statsmodels\n",
    "from statsmodels.formula.api import ols\n",
    "\n",
    "# YOUR CODE HERE\n",
    "raise NotImplementedError()\n",
    "\n",
    "# Print the model summary\n",
    "print(model_1.summary())"
   ]
  },
  {
   "cell_type": "code",
   "execution_count": null,
   "id": "6174b995",
   "metadata": {
    "deletable": false,
    "editable": false,
    "nbgrader": {
     "cell_type": "code",
     "checksum": "f250c5273a79f6b870e64413651005c1",
     "grade": true,
     "grade_id": "cell-d65d85270cd5409b",
     "locked": true,
     "points": 1,
     "schema_version": 3,
     "solution": false,
     "task": false
    }
   },
   "outputs": [],
   "source": [
    "#Task 8 - Test\n",
    "\n",
    "# Hidden tests - you will see the results when you submit to Canvas"
   ]
  },
  {
   "cell_type": "markdown",
   "id": "75c07d16",
   "metadata": {
    "deletable": false,
    "editable": false,
    "nbgrader": {
     "cell_type": "markdown",
     "checksum": "a364ba1760af7eade184021fded295a5",
     "grade": false,
     "grade_id": "cell-e7ad6f194e91d421",
     "locked": true,
     "schema_version": 3,
     "solution": false,
     "task": false
    }
   },
   "source": [
    "**Task 9** - Interpret your model\n",
    "\n",
    "Using the model summary you printed out above, answer the following questions.\n",
    "\n",
    "* Assign the slope of `GDP_per_capita` to the variable `slope_model_1`; define it to two decimal places (example: 1.23). This variable should be a float.\n",
    "* Assign the p-value for this model parameter to `pval_model_1`.\n",
    "* Assign the 95% confidence interval to the variables `ci_low` (lower value) and `ci_upper` (upper value); define them to two decimal places.\n",
    "\n"
   ]
  },
  {
   "cell_type": "code",
   "execution_count": null,
   "id": "e6fb24b6",
   "metadata": {
    "deletable": false,
    "nbgrader": {
     "cell_type": "code",
     "checksum": "bd3986a701ab642a33dda3b65b0f937f",
     "grade": false,
     "grade_id": "cell-a964b9c7fd55f7c5",
     "locked": false,
     "schema_version": 3,
     "solution": true,
     "task": false
    }
   },
   "outputs": [],
   "source": [
    "# Task 9\n",
    "\n",
    "# YOUR CODE HERE\n",
    "raise NotImplementedError()"
   ]
  },
  {
   "cell_type": "code",
   "execution_count": null,
   "id": "aa3d546b",
   "metadata": {
    "deletable": false,
    "editable": false,
    "nbgrader": {
     "cell_type": "code",
     "checksum": "b83e989430b2224a0413a97f26f3342a",
     "grade": true,
     "grade_id": "cell-358d73b530fa55b8",
     "locked": true,
     "points": 1,
     "schema_version": 3,
     "solution": false,
     "task": false
    }
   },
   "outputs": [],
   "source": [
    "# Task 9 - Test\n",
    "\n",
    "# Hidden tests - you will see the results when you submit to Canvas"
   ]
  },
  {
   "cell_type": "markdown",
   "id": "06bd02a8",
   "metadata": {
    "deletable": false,
    "editable": false,
    "nbgrader": {
     "cell_type": "markdown",
     "checksum": "ce209734c007eaa976184750a6baac88",
     "grade": false,
     "grade_id": "cell-792dc64eb02567cb",
     "locked": true,
     "schema_version": 3,
     "solution": false,
     "task": false
    }
   },
   "source": [
    "**Task 10** - Fit a multiple predictor linear regression model\n",
    "\n",
    "For this next task, we'll add in an additional independent or predictor variable. Let's look back at the pairplot and choose another variable - we'll use `Social_support`. Recall from the Guided Projects and Module Projects that we are looking to see if adding the variable `Social_support` is statistically significant after accounting for the `GDP_per_capita` variable.\n",
    "\n",
    "Fit a linear regression model using two predictor variables: `GDP_per_capita` and `Social_support`.\n",
    "\n",
    "**Your tasks:**\n",
    "\n",
    "* Fit a model with both predictor variables and assign the model to `model_2`.\n",
    "* Print out the model summary and assign the value of R-squared for this model to `r_square_model_2`. Your value should be defined to three decimal places.\n",
    "* Assign the value of the adjusted R-square to `adj_r_square_model_2`. Your value should be defined to three decimal places."
   ]
  },
  {
   "cell_type": "code",
   "execution_count": null,
   "id": "12774ac4",
   "metadata": {
    "deletable": false,
    "nbgrader": {
     "cell_type": "code",
     "checksum": "ed53bcf7a8abb4348948d5457d8ac7ff",
     "grade": false,
     "grade_id": "cell-ccb857faace3a504",
     "locked": false,
     "schema_version": 3,
     "solution": true,
     "task": false
    }
   },
   "outputs": [],
   "source": [
    "# Task 10\n",
    "\n",
    "# YOUR CODE HERE\n",
    "raise NotImplementedError()\n",
    "\n",
    "# Print the model summary\n",
    "print(model_2.summary())"
   ]
  },
  {
   "cell_type": "code",
   "execution_count": null,
   "id": "8d236a90",
   "metadata": {
    "deletable": false,
    "editable": false,
    "nbgrader": {
     "cell_type": "code",
     "checksum": "e01782912b9415f488cdd18e8272a711",
     "grade": true,
     "grade_id": "cell-5297aae8d9abe718",
     "locked": true,
     "points": 1,
     "schema_version": 3,
     "solution": false,
     "task": false
    }
   },
   "outputs": [],
   "source": [
    "# Task 10 - Test\n",
    "\n",
    "# Hidden tests - you will see the results when you submit to Canvas"
   ]
  },
  {
   "cell_type": "markdown",
   "id": "498e544e",
   "metadata": {
    "deletable": false,
    "editable": false,
    "nbgrader": {
     "cell_type": "markdown",
     "checksum": "b95c4d8bc1f10bf651bbd24422a0adc4",
     "grade": false,
     "grade_id": "cell-b0b66ec96a2837fb",
     "locked": true,
     "schema_version": 3,
     "solution": false,
     "task": false
    }
   },
   "source": [
    "**Task 11** - Making a prediction and calculating the residual\n",
    "\n",
    "We're going to use our model to make a prediction. Refer to the `happy` DataFrame and find the `GDP_per_capita` score for \"Iceland\" (index 4).  Then when we have a prediction, we can calculate the residual.  **There are actually two row entries for Iceland, both with slightly different column values. Use the column values that you can see when you print `happy.head()`.**\n",
    "\n",
    "**Prediction**\n",
    "* Assign the `GDP_per_capita` value to the variable `x_iceland`; it should be float and defined out to two decimal places.\n",
    "* Using your slope and intercept values from `model_1`, calculate the `Score` for Iceland (`x_iceland`); assign this value to `predict_iceland` and it should be a float.\n",
    "\n",
    "**Residual**\n",
    "* Assign the observed `Score` for Iceland and assign it to the variable `observe_iceland`; it should be float and defined out to two decimal places *(careful with the rounding!)*.\n",
    "* Determine the residual for the prediction you made and assign it to the variable `residual_iceland` (use your Guided Project or Module Project notebooks if you need a reminder of how to do a residual calculation).\n",
    "\n",
    "Hint: Define your slope and intercept values out to two decimal places! Your resulting prediction for Iceland should have at least two decimal places. **Make sure to use the parameters from the first model (`model_1`)**."
   ]
  },
  {
   "cell_type": "code",
   "execution_count": null,
   "id": "742d1c39",
   "metadata": {},
   "outputs": [],
   "source": []
  },
  {
   "cell_type": "code",
   "execution_count": null,
   "id": "fab2e42b",
   "metadata": {
    "deletable": false,
    "nbgrader": {
     "cell_type": "code",
     "checksum": "a6d0eb7fdbd09d62102ed8a843f30c37",
     "grade": false,
     "grade_id": "cell-486affa58df700a6",
     "locked": false,
     "schema_version": 3,
     "solution": true,
     "task": false
    }
   },
   "outputs": [],
   "source": [
    "# Task 11\n",
    "\n",
    "# YOUR CODE HERE\n",
    "raise NotImplementedError()\n",
    "\n",
    "# View your prediction\n",
    "print('Prediction for Iceland :', predict_iceland)\n",
    "print('Residual for Iceland prediction :', residual_iceland)"
   ]
  },
  {
   "cell_type": "code",
   "execution_count": null,
   "id": "2e0eda78",
   "metadata": {
    "deletable": false,
    "editable": false,
    "nbgrader": {
     "cell_type": "code",
     "checksum": "0305be838155547edec48ead76031a9f",
     "grade": true,
     "grade_id": "cell-8b8658d631163250",
     "locked": true,
     "points": 1,
     "schema_version": 3,
     "solution": false,
     "task": false
    }
   },
   "outputs": [],
   "source": [
    "# Task 11 - Test\n",
    "\n",
    "assert residual_iceland >= 0, 'Check your residual calculation (use observed - predicted).'\n",
    "assert round(x_iceland, 1) == 1.3, 'Check your Iceland GDP value.'\n",
    "assert round(observe_iceland, 1) == 7.5, 'Check your Iceland observation value for \"Score\".'\n",
    "\n",
    "# Hidden tests - you will see the results when you submit to Canvas"
   ]
  },
  {
   "cell_type": "markdown",
   "id": "c6068ada",
   "metadata": {
    "deletable": false,
    "editable": false,
    "nbgrader": {
     "cell_type": "markdown",
     "checksum": "a950534a4e97758779b6e1b23ebf5446",
     "grade": false,
     "grade_id": "cell-49403e417036197c",
     "locked": true,
     "schema_version": 3,
     "solution": false,
     "task": false
    }
   },
   "source": [
    "## Part B: Vectors and cosine similarity\n",
    "\n",
    "In this part of the challenge, we're going to look at how similar two vectors are. Remember, we can calculate the **cosine similarity** between two vectors by using this equation:\n",
    "\n",
    "$$\\cos \\theta= \\frac{\\mathbf {A} \\cdot \\mathbf {B} }{\\left\\|\\mathbf {A} \\right\\|\\left\\|\\mathbf {B} \\right\\|}$$\n",
    "\n",
    "$\\qquad$\n",
    "\n",
    "where\n",
    "\n",
    "* The numerator is the dot product of the vectors $\\mathbf {A}$ and $\\mathbf {B}$\n",
    "* The denominator is the norm of $\\mathbf {A}$ times the norm of $\\mathbf {B}$\n",
    "\n",
    "### Three documents, two authors\n",
    "\n",
    "For this task, you will calculate the cosine similarity between three vectors. But here's the interesting part: each vector represents a \"chunk\" of text from a novel (a few chapters of text). This text was cleaned to remove non-alphanumeric characters and numbers and then each document was transformed into a vector representation as described below.\n",
    "\n",
    "### Document vectors\n",
    "\n",
    "In the dataset you are going to load below, each row represents a word that occurs in at least one of the documents. So all the rows are all the words that are in our three documents.\n",
    "\n",
    "Each column represents a document (doc0, doc1, doc2). Now the fun part: the value in each cell is how frequently that word (row) occurs in that document (term-frequency) divided by how many documents that words appears in (document-frequency).\n",
    "\n",
    "`cell value = term_frequency / document_frequency`\n",
    "\n",
    "Use the above information to complete the remaining tasks."
   ]
  },
  {
   "cell_type": "markdown",
   "id": "fbd0ff84",
   "metadata": {
    "deletable": false,
    "editable": false,
    "nbgrader": {
     "cell_type": "markdown",
     "checksum": "f487b034509c9f7c6e8393608f083612",
     "grade": false,
     "grade_id": "cell-f4fb08daef47cce5",
     "locked": true,
     "schema_version": 3,
     "solution": false,
     "task": false
    }
   },
   "source": [
    "**Task 12** - Explore the text documents\n",
    "\n",
    "You will be using cosine similarity to compare each document vector to the others. Remember that there are three documents, but two authors. Your task is to use the cosine similarity calculations to determine which two document vectors are most similar (written by the same author).\n",
    "\n",
    "**Your tasks:**\n",
    "\n",
    "* Load in the CSV file that contains the document vectors (this is coded for you - just run the cell)\n",
    "* Look at the DataFrame you just loaded in any way that helps you understand the format, what's included in the data, the shape of the DataFrame, etc.\n",
    "\n",
    "**You can use document vectors just as they are - you don't need to code anything for Task 12.**"
   ]
  },
  {
   "cell_type": "code",
   "execution_count": null,
   "id": "cc32e03e",
   "metadata": {
    "deletable": false,
    "editable": false,
    "nbgrader": {
     "cell_type": "code",
     "checksum": "91965a01b13c021e2ce67e59134eaba3",
     "grade": false,
     "grade_id": "cell-94928b6ed63efcf0",
     "locked": true,
     "schema_version": 3,
     "solution": false,
     "task": false
    }
   },
   "outputs": [],
   "source": [
    "# Imports\n",
    "import pandas as pd\n",
    "\n",
    "# Load the data\n",
    "url = 'https://raw.githubusercontent.com/bloominstituteoftechnology/data-science-practice-datasets/main/unit_4/unit1_nlp/text_vectors.csv'\n",
    "text = pd.read_csv(url)\n"
   ]
  },
  {
   "cell_type": "markdown",
   "id": "257bc535",
   "metadata": {
    "deletable": false,
    "editable": false,
    "nbgrader": {
     "cell_type": "markdown",
     "checksum": "2b7e0fb1b5ca3f76d06a8f703e09d45e",
     "grade": false,
     "grade_id": "cell-ff5c602854832d11",
     "locked": true,
     "schema_version": 3,
     "solution": false,
     "task": false
    }
   },
   "source": [
    "**Task 12** - Calculate cosine similarity\n",
    "\n",
    "* Calculate the cosine similarity for **three pairs of vectors** and assign the results to the following variables (each variable will be a float):\n",
    "\n",
    "  * assign the cosine similarity of doc0-doc1 to `cosine_doc0_1`\n",
    "  * assign the cosine similarity of doc0-doc2 to `cosine_doc0_2`\n",
    "  * assign the cosine similarity of doc1-doc2 to `cosine_doc1_2`\n",
    "\n",
    "* Print out the results so you can refer to them for the short answer section.\n",
    "* Answer the questions after you have completed the cosine similarity calculations."
   ]
  },
  {
   "cell_type": "code",
   "execution_count": null,
   "id": "dfabef6c",
   "metadata": {
    "deletable": false,
    "nbgrader": {
     "cell_type": "code",
     "checksum": "5d92c8c54db12ae26d58d3a3a0fc84ba",
     "grade": false,
     "grade_id": "cell-b8e0827adc3a522d",
     "locked": false,
     "schema_version": 3,
     "solution": true,
     "task": false
    }
   },
   "outputs": [],
   "source": [
    "# Task 12\n",
    "\n",
    "# Use these imports for your cosine calculations (DON'T DELETE)\n",
    "from numpy import dot\n",
    "from numpy.linalg import norm\n",
    "\n",
    "# YOUR CODE HERE\n",
    "raise NotImplementedError()\n",
    "\n",
    "# Print out the results\n",
    "print('Cosine similarity for doc0-doc1:', cosine_doc0_1)\n",
    "print('Cosine similarity for doc0-doc2:', cosine_doc0_2)\n",
    "print('Cosine similarity for doc1-doc2:', cosine_doc1_2)\n"
   ]
  },
  {
   "cell_type": "markdown",
   "id": "01e4e1f1",
   "metadata": {
    "deletable": false,
    "editable": false,
    "nbgrader": {
     "cell_type": "markdown",
     "checksum": "1894d404180c53762fdef41f409c5a95",
     "grade": false,
     "grade_id": "cell-313808d09077d5ff",
     "locked": true,
     "points": 0,
     "schema_version": 3,
     "solution": false,
     "task": true
    }
   },
   "source": [
    "**Task 12** - Short answer\n",
    "\n",
    "1. Using your cosine similarity calculations, which two documents are most similar?\n",
    "2. If doc1 and doc2 were written by the same author, are your cosine similarity calculations consistent with this statement?\n",
    "3. What process would we need to follow to add an additional document column? In other words, why can't we just stick another column with (term-frequency/document-frequency) values onto our current DataFrame `text`?\n",
    "\n",
    "This task will not be autograded - but it is part of completing the challenge.\n"
   ]
  },
  {
   "cell_type": "markdown",
   "id": "d7813c15",
   "metadata": {
    "deletable": false,
    "editable": false,
    "nbgrader": {
     "cell_type": "markdown",
     "checksum": "b7147ae561d30b405150d8332d48a3ef",
     "grade": false,
     "grade_id": "cell-9250658fe17db036",
     "locked": true,
     "points": 0,
     "schema_version": 3,
     "solution": false,
     "task": true
    }
   },
   "source": [
    "\n",
    "Your Answer Here: "
   ]
  },
  {
   "cell_type": "code",
   "execution_count": null,
   "id": "7696127d",
   "metadata": {
    "deletable": false,
    "editable": false,
    "nbgrader": {
     "cell_type": "code",
     "checksum": "8710271c7c13844d770cd3c7de8c0042",
     "grade": true,
     "grade_id": "cell-06109d0f4c5533d1",
     "locked": true,
     "points": 1,
     "schema_version": 3,
     "solution": false,
     "task": false
    }
   },
   "outputs": [],
   "source": [
    "# Task 12 - Test\n",
    "\n",
    "# Hidden tests - you will see the results when you submit to Canvas"
   ]
  },
  {
   "cell_type": "markdown",
   "id": "6540c2d0",
   "metadata": {
    "deletable": false,
    "editable": false,
    "nbgrader": {
     "cell_type": "markdown",
     "checksum": "352cb32d5c9424c344cb4b4a45640872",
     "grade": false,
     "grade_id": "cell-a9f2fecc6bc02590",
     "locked": true,
     "schema_version": 3,
     "solution": false,
     "task": false
    }
   },
   "source": [
    "**Additional Information about the texts used in this analysis:**\n",
    "\n",
    "You can find the raw text [here](https://github.com/LambdaSchool/data-science-practice-datasets/tree/main/unit_4/unit1_nlp). Document 0 (doc0) is chapters 1-3 from \"Pride and Predjudice\" by Jane Austen. Document 1 (doc1) is chapters 1- 4 from \"Frankenstein\" by Mary Shelley. Document 2 is also from \"Frankenstein\", chapters 11-14."
   ]
  },
  {
   "cell_type": "code",
   "execution_count": null,
   "id": "090afb48",
   "metadata": {},
   "outputs": [],
   "source": []
  }
 ],
 "metadata": {
  "kernelspec": {
   "display_name": "Python 3",
   "language": "python",
   "name": "python3"
  },
  "language_info": {
   "codemirror_mode": {
    "name": "ipython",
    "version": 3
   },
   "file_extension": ".py",
   "mimetype": "text/x-python",
   "name": "python",
   "nbconvert_exporter": "python",
   "pygments_lexer": "ipython3",
   "version": "3.8.8"
  }
 },
 "nbformat": 4,
 "nbformat_minor": 5
}
