{
  "nbformat": 4,
  "nbformat_minor": 0,
  "metadata": {
    "colab": {
      "name": "Copy of LS_DS_131_Vectors_and_Matrices_Assignment.ipynb",
      "provenance": [],
      "collapsed_sections": [],
      "include_colab_link": true
    },
    "kernelspec": {
      "name": "python3",
      "display_name": "Python 3"
    }
  },
  "cells": [
    {
      "cell_type": "markdown",
      "metadata": {
        "id": "view-in-github",
        "colab_type": "text"
      },
      "source": [
        "<a href=\"https://colab.research.google.com/github/oxfordfictionary/DS-Unit-1-Sprint-3-Linear-Algebra/blob/master/Copy_of_LS_DS_131_Vectors_and_Matrices_Assignment.ipynb\" target=\"_parent\"><img src=\"https://colab.research.google.com/assets/colab-badge.svg\" alt=\"Open In Colab\"/></a>"
      ]
    },
    {
      "cell_type": "markdown",
      "metadata": {
        "id": "yXA3GwWhY9KL",
        "colab_type": "text"
      },
      "source": [
        "# Part 1 - Scalars and Vectors\n",
        "\n",
        "For the questions below it is not sufficient to simply provide answer to the questions, but you must solve the problems and show your work using python (the NumPy library will help a lot!) Translate the vectors and matrices into their appropriate python  representations and use numpy or functions that you write yourself to demonstrate the result or property. "
      ]
    },
    {
      "cell_type": "code",
      "metadata": {
        "id": "5V3b5iY5V0-t",
        "colab_type": "code",
        "colab": {}
      },
      "source": [
        "#imports\n",
        "import numpy as np\n",
        "import matplotlib.pyplot as plt\n",
        "from mpl_toolkits.mplot3d import Axes3D\n",
        "import pandas as pd"
      ],
      "execution_count": 0,
      "outputs": []
    },
    {
      "cell_type": "markdown",
      "metadata": {
        "id": "oNOTv43_Zi9L",
        "colab_type": "text"
      },
      "source": [
        "## 1.1 Create a two-dimensional vector and plot it on a graph"
      ]
    },
    {
      "cell_type": "code",
      "metadata": {
        "id": "XNqjzQzrkVG7",
        "colab_type": "code",
        "colab": {}
      },
      "source": [
        "a = np.array([1, 2])\n",
        "b = np.array([2, 3])"
      ],
      "execution_count": 0,
      "outputs": []
    },
    {
      "cell_type": "code",
      "metadata": {
        "id": "uE1QhrupWPtq",
        "colab_type": "code",
        "outputId": "3d89d7c8-775d-4fef-8cfb-622edb331df2",
        "colab": {
          "base_uri": "https://localhost:8080/",
          "height": 307
        }
      },
      "source": [
        "#plotting\n",
        "fig, ax = plt.subplots()\n",
        "ax.grid()\n",
        "plt.xlim(-1, 10)\n",
        "plt.ylim(-1, 10)\n",
        "\n",
        "plt.arrow(0,0, #plt.arrow displays lines with arrowhead on the end\n",
        "          a[0],\n",
        "          a[1],\n",
        "          head_width=.02,\n",
        "          head_length=.02,\n",
        "          linewidth=3,\n",
        "          color = 'red')\n",
        "\n",
        "plt.arrow(0,0, \n",
        "          b[0],\n",
        "          b[1],\n",
        "          head_width=.02,\n",
        "          head_length=.02,\n",
        "          linewidth=3,\n",
        "          color = 'blue')\n",
        "\n",
        "plt.show()\n",
        "\n",
        "''' Cameron's list comprehension version I don't yet understand\n",
        "fig, ax = plt.subplots()\n",
        "ax.grid()\n",
        "plt.xlim(-.2,.8)\n",
        "plt.ylim(-.1,.6)\n",
        "formatting = {\"head_width\": .02, \"head_length\" : .02, 'linewidth':2}\n",
        "vectors = [('gold', yellow), ('crimson', red), ('darkcyan', blue)]\n",
        "[plt.arrow(0, 0, *vector, **formatting, color=mycolor) for mycolor, vector in vectors];\n",
        "'''"
      ],
      "execution_count": 24,
      "outputs": [
        {
          "output_type": "display_data",
          "data": {
            "image/png": "[encoded data removed]",
            "text/plain": [
              "<Figure size 432x288 with 1 Axes>"
            ]
          },
          "metadata": {
            "tags": []
          }
        },
        {
          "output_type": "execute_result",
          "data": {
            "text/plain": [
              "' Cameron\\'s list comprehension version I don\\'t yet understand\\nfig, ax = plt.subplots()\\nax.grid()\\nplt.xlim(-.2,.8)\\nplt.ylim(-.1,.6)\\nformatting = {\"head_width\": .02, \"head_length\" : .02, \\'linewidth\\':2}\\nvectors = [(\\'gold\\', yellow), (\\'crimson\\', red), (\\'darkcyan\\', blue)]\\n[plt.arrow(0, 0, *vector, **formatting, color=mycolor) for mycolor, vector in vectors];\\n'"
            ]
          },
          "metadata": {
            "tags": []
          },
          "execution_count": 24
        }
      ]
    },
    {
      "cell_type": "markdown",
      "metadata": {
        "id": "unKFT619lk3e",
        "colab_type": "text"
      },
      "source": [
        "## 1.2 Create a three-dimensional vecor and plot it on a graph"
      ]
    },
    {
      "cell_type": "code",
      "metadata": {
        "id": "T_Ut1FOynyjp",
        "colab_type": "code",
        "colab": {}
      },
      "source": [
        "from pylab import *"
      ],
      "execution_count": 0,
      "outputs": []
    },
    {
      "cell_type": "code",
      "metadata": {
        "id": "atUEd3T6llKm",
        "colab_type": "code",
        "outputId": "eb755498-5c1f-43f3-fd83-c92d21d0576f",
        "colab": {
          "base_uri": "https://localhost:8080/",
          "height": 35
        }
      },
      "source": [
        "# These arrays will be 3-D vectors\n",
        "vectors = np.array([[0, 0, 0, 2, 3, 7], \n",
        "                    [0, 0, 0, 4, 3, 2],\n",
        "                    [0, 0, 0, 1, 5, 9]])\n",
        "\n",
        "vectors[0]"
      ],
      "execution_count": 42,
      "outputs": [
        {
          "output_type": "execute_result",
          "data": {
            "text/plain": [
              "array([0, 0, 0, 2, 3, 7])"
            ]
          },
          "metadata": {
            "tags": []
          },
          "execution_count": 42
        }
      ]
    },
    {
      "cell_type": "code",
      "metadata": {
        "id": "aQgHRE9nYKvh",
        "colab_type": "code",
        "outputId": "9f13ac29-90df-41df-809b-af3a507d83f8",
        "colab": {
          "base_uri": "https://localhost:8080/",
          "height": 35
        }
      },
      "source": [
        "# Will create an index that can be assigned variables. Variables must be the\n",
        "#same length as the row in the array they represent. \n",
        "zip(*vectors)"
      ],
      "execution_count": 43,
      "outputs": [
        {
          "output_type": "execute_result",
          "data": {
            "text/plain": [
              "<zip at 0x7f2384fa9948>"
            ]
          },
          "metadata": {
            "tags": []
          },
          "execution_count": 43
        }
      ]
    },
    {
      "cell_type": "code",
      "metadata": {
        "id": "AGMKYf1rml-L",
        "colab_type": "code",
        "outputId": "70bd46b3-c8e4-43a7-eda7-0a942c0542f4",
        "colab": {
          "base_uri": "https://localhost:8080/",
          "height": 121
        }
      },
      "source": [
        "#each letter reflects a vector\n",
        "# vectors go down the columns, left to right\n",
        "# each 3d vector has a value at all three letters\n",
        "X, Y, Z, U, V, W = zip(*vectors)\n",
        "for letter in [X, Y, Z, U, V, W]:\n",
        "    print(letter)"
      ],
      "execution_count": 44,
      "outputs": [
        {
          "output_type": "stream",
          "text": [
            "(0, 0, 0)\n",
            "(0, 0, 0)\n",
            "(0, 0, 0)\n",
            "(2, 4, 1)\n",
            "(3, 3, 5)\n",
            "(7, 2, 9)\n"
          ],
          "name": "stdout"
        }
      ]
    },
    {
      "cell_type": "code",
      "metadata": {
        "id": "9vpWLSfmmpsz",
        "colab_type": "code",
        "outputId": "06fe5302-570f-43e7-923a-a88ba4c6a100",
        "colab": {
          "base_uri": "https://localhost:8080/",
          "height": 248
        }
      },
      "source": [
        "# SCALED VECTOR PLOT\n",
        "fig = plt.figure()\n",
        "ax = fig.add_subplot(111, projection='3d')\n",
        "ax.quiver(X[0], Y[0], Z[0], U[0], V[0], W[0], length=1, color='purple')\n",
        "ax.quiver(X[1], Y[1], Z[1], U[1], V[1], W[1], length=1, color='pink') \n",
        "ax.quiver(X[2], Y[2], Z[2], U[2], V[2], W[2], length=1, color='teal') \n",
        "\n",
        "ax.quiver(X[0], Y[0], Z[0], U[0], V[0], W[0], length=pi, color='black') # pi\n",
        "ax.quiver(X[1], Y[1], Z[1], U[1], V[1], W[1], length=e, color='red')  # e\n",
        "ax.quiver(X[2], Y[2], Z[2], U[2], V[2], W[2], length=5, color='navy') # 5\n",
        "\n",
        "\n",
        "ax.set_xlim([0, 10]) \n",
        "ax.set_ylim([0, 10])\n",
        "ax.set_zlim([0, 10])\n",
        "ax.set_xlabel('X')\n",
        "ax.set_ylabel('Y')\n",
        "ax.set_zlabel('Z')\n",
        "plt.show()"
      ],
      "execution_count": 64,
      "outputs": [
        {
          "output_type": "display_data",
          "data": {
            "image/png": "[encoded data removed]",
            "text/plain": [
              "<Figure size 432x288 with 1 Axes>"
            ]
          },
          "metadata": {
            "tags": []
          }
        }
      ]
    },
    {
      "cell_type": "markdown",
      "metadata": {
        "id": "b7qFxbKxZmI2",
        "colab_type": "text"
      },
      "source": [
        "## 1.3 Scale the vectors you created in 1.1 by $5$, $\\pi$, and $-e$ and plot all four vectors (original + 3 scaled vectors) on a graph. What do you notice about these vectors? "
      ]
    },
    {
      "cell_type": "code",
      "metadata": {
        "id": "ah6zMSLJdJwL",
        "colab_type": "code",
        "outputId": "63d09b39-f207-4dea-f7df-74f74a156cc5",
        "colab": {
          "base_uri": "https://localhost:8080/",
          "height": 52
        }
      },
      "source": [
        "from math import e, pi\n",
        "print(e)\n",
        "print(pi)"
      ],
      "execution_count": 46,
      "outputs": [
        {
          "output_type": "stream",
          "text": [
            "2.718281828459045\n",
            "3.141592653589793\n"
          ],
          "name": "stdout"
        }
      ]
    },
    {
      "cell_type": "code",
      "metadata": {
        "id": "3qpwDlzXkVf5",
        "colab_type": "code",
        "outputId": "0658db30-90bb-4a25-8f80-5d228fbd779b",
        "colab": {
          "base_uri": "https://localhost:8080/",
          "height": 69
        }
      },
      "source": [
        "# I would love to be able to make a function of this but I'm doing\n",
        "# all of this by hand for now\n",
        "# making the variables V for 'vector'\n",
        "V2 = np.multiply(vectors, pi)\n",
        "V3 = np.multiply(vectors, e)\n",
        "V4 = np.multiply(vectors, 5)\n",
        "V2\n",
        "V3\n",
        "V4"
      ],
      "execution_count": 51,
      "outputs": [
        {
          "output_type": "execute_result",
          "data": {
            "text/plain": [
              "array([[ 0,  0,  0, 10, 15, 35],\n",
              "       [ 0,  0,  0, 20, 15, 10],\n",
              "       [ 0,  0,  0,  5, 25, 45]])"
            ]
          },
          "metadata": {
            "tags": []
          },
          "execution_count": 51
        }
      ]
    },
    {
      "cell_type": "code",
      "metadata": {
        "id": "SDtJS9PuDNQT",
        "colab_type": "code",
        "colab": {
          "base_uri": "https://localhost:8080/",
          "height": 248
        },
        "outputId": "6d4b036e-d55c-4c35-d1ca-86ae06e26cad"
      },
      "source": [
        "# PLOTTING SCALARS e, pi, 5\n",
        "#from mpl_toolkits.mplot3d import Axes3D\n",
        "\n",
        "fig = plt.figure()\n",
        "ax = fig.add_subplot(111, projection='3d')\n",
        "ax.quiver(X[0], Y[0], Z[0], U[0], V[0], W[0], length=1, color='purple')\n",
        "ax.quiver(X[1], Y[1], Z[1], U[1], V[1], W[1], length=1, color='pink') \n",
        "ax.quiver(X[2], Y[2], Z[2], U[2], V[2], W[2], length=1, color='teal') \n",
        "\n",
        "ax.quiver(X[0], Y[0], Z[0], U[0], V[0], W[0], length=pi, color='black') # pi\n",
        "ax.quiver(X[1], Y[1], Z[1], U[1], V[1], W[1], length=e, color='red')  # e\n",
        "ax.quiver(X[2], Y[2], Z[2], U[2], V[2], W[2], length=5, color='navy') # 5\n",
        "\n",
        "\n",
        "ax.set_xlim([0, 10]) \n",
        "ax.set_ylim([0, 40])\n",
        "ax.set_zlim([0, 40])\n",
        "ax.set_xlabel('X')\n",
        "ax.set_ylabel('Y')\n",
        "ax.set_zlabel('Z')\n",
        "plt.show()"
      ],
      "execution_count": 68,
      "outputs": [
        {
          "output_type": "display_data",
          "data": {
            "image/png": "[encoded data removed]",
            "text/plain": [
              "<Figure size 432x288 with 1 Axes>"
            ]
          },
          "metadata": {
            "tags": []
          }
        }
      ]
    },
    {
      "cell_type": "markdown",
      "metadata": {
        "id": "wrgqa6sWimbH",
        "colab_type": "text"
      },
      "source": [
        "## 1.4 Graph vectors $\\vec{a}$ and $\\vec{b}$ and plot them on a graph\n",
        "\n",
        "\\begin{align}\n",
        "\\vec{a} = \\begin{bmatrix} 5 \\\\ 7 \\end{bmatrix}\n",
        "\\qquad\n",
        "\\vec{b} = \\begin{bmatrix} 3 \\\\4 \\end{bmatrix}\n",
        "\\end{align}"
      ]
    },
    {
      "cell_type": "code",
      "metadata": {
        "id": "I1BGXA_skV-b",
        "colab_type": "code",
        "colab": {}
      },
      "source": [
        "veca = np.array([[5], [7]])\n",
        "vecb = np.array([[3], [4]])\n"
      ],
      "execution_count": 0,
      "outputs": []
    },
    {
      "cell_type": "code",
      "metadata": {
        "id": "rZ96cpsfo_Hj",
        "colab_type": "code",
        "colab": {
          "base_uri": "https://localhost:8080/",
          "height": 269
        },
        "outputId": "09aae643-4a98-4eef-b893-4421c5c43f22"
      },
      "source": [
        "#plotting\n",
        "fig, ax = plt.subplots()\n",
        "ax.grid()\n",
        "plt.xlim(0, 5)\n",
        "plt.ylim(0, 5)\n",
        "\n",
        "plt.arrow(0,0, \n",
        "          a[0],\n",
        "          a[1],\n",
        "          head_width=.03,\n",
        "          head_length=.03,\n",
        "          linewidth=3,\n",
        "          color = 'gold')\n",
        "\n",
        "plt.arrow(0,0, \n",
        "          b[0],\n",
        "          b[1],\n",
        "          head_width=.02,\n",
        "          head_length=.02,\n",
        "          linewidth=3,\n",
        "          color = 'blue')\n",
        "\n",
        "plt.show()"
      ],
      "execution_count": 77,
      "outputs": [
        {
          "output_type": "display_data",
          "data": {
            "image/png": "[encoded data removed]",
            "text/plain": [
              "<Figure size 432x288 with 1 Axes>"
            ]
          },
          "metadata": {
            "tags": []
          }
        }
      ]
    },
    {
      "cell_type": "markdown",
      "metadata": {
        "id": "QN6RU_3gizpw",
        "colab_type": "text"
      },
      "source": [
        "## 1.5 find $\\vec{a} - \\vec{b}$ and plot the result on the same graph as $\\vec{a}$ and $\\vec{b}$. Is there a relationship between vectors $\\vec{a} \\thinspace, \\vec{b} \\thinspace \\text{and} \\thinspace \\vec{a-b}$"
      ]
    },
    {
      "cell_type": "code",
      "metadata": {
        "id": "AGZ2ao8go-e4",
        "colab_type": "code",
        "colab": {}
      },
      "source": [
        "np.linalg.norm("
      ],
      "execution_count": 0,
      "outputs": []
    },
    {
      "cell_type": "code",
      "metadata": {
        "id": "68sWHIOPkXp5",
        "colab_type": "code",
        "colab": {}
      },
      "source": [
        ""
      ],
      "execution_count": 0,
      "outputs": []
    },
    {
      "cell_type": "markdown",
      "metadata": {
        "id": "1ZPVuJAlehu_",
        "colab_type": "text"
      },
      "source": [
        "## 1.6 Find $c \\cdot d$\n",
        "\n",
        "\\begin{align}\n",
        "\\vec{c} = \\begin{bmatrix}7 & 22 & 4 & 16\\end{bmatrix}\n",
        "\\qquad\n",
        "\\vec{d} = \\begin{bmatrix}12 & 6 & 2 & 9\\end{bmatrix}\n",
        "\\end{align}\n"
      ]
    },
    {
      "cell_type": "code",
      "metadata": {
        "id": "2_cZQFCskYNr",
        "colab_type": "code",
        "colab": {
          "base_uri": "https://localhost:8080/",
          "height": 35
        },
        "outputId": "dcac5393-8160-4531-a143-faaa84c408fb"
      },
      "source": [
        "c = np.array([7, 22, 4, 16])\n",
        "d = np.array([12, 6, 2, 9])\n",
        "\n",
        "# using index notation\n",
        "# using index notation\n",
        "(c[0]*d[0]) + (c[1]*d[1]) + c[2]*d[2]"
      ],
      "execution_count": 78,
      "outputs": [
        {
          "output_type": "execute_result",
          "data": {
            "text/plain": [
              "224"
            ]
          },
          "metadata": {
            "tags": []
          },
          "execution_count": 78
        }
      ]
    },
    {
      "cell_type": "markdown",
      "metadata": {
        "id": "cLm8yokpfg9B",
        "colab_type": "text"
      },
      "source": [
        "##  1.7 Find $e \\times f$\n",
        "\n",
        "\\begin{align}\n",
        "\\vec{e} = \\begin{bmatrix} 5 \\\\ 7 \\\\ 2 \\end{bmatrix}\n",
        "\\qquad\n",
        "\\vec{f} = \\begin{bmatrix} 3 \\\\4 \\\\ 6 \\end{bmatrix}\n",
        "\\end{align}"
      ]
    },
    {
      "cell_type": "code",
      "metadata": {
        "id": "ku-TdCKAkYs8",
        "colab_type": "code",
        "colab": {
          "base_uri": "https://localhost:8080/",
          "height": 87
        },
        "outputId": "9362c885-f318-4899-dc1e-4244741f08a4"
      },
      "source": [
        "e = ([[5], [7], [2]])\n",
        "f = ([[3], [4], [6]])\n",
        "print('Cross Product: \\n', np.cross(e,f,axis=0))"
      ],
      "execution_count": 80,
      "outputs": [
        {
          "output_type": "stream",
          "text": [
            "Cross Product: \n",
            " [[ 34]\n",
            " [-24]\n",
            " [ -1]]\n"
          ],
          "name": "stdout"
        }
      ]
    },
    {
      "cell_type": "markdown",
      "metadata": {
        "id": "-TN8wO2-h53s",
        "colab_type": "text"
      },
      "source": [
        "## 1.8 Find $||g||$ and then find $||h||$. Which is longer?\n",
        "\n",
        "\\begin{align}\n",
        "\\vec{g} = \\begin{bmatrix} 1 \\\\ 1 \\\\ 1 \\\\ 8 \\end{bmatrix}\n",
        "\\qquad\n",
        "\\vec{h} = \\begin{bmatrix} 3 \\\\3 \\\\ 3 \\\\ 3 \\end{bmatrix}\n",
        "\\end{align}"
      ]
    },
    {
      "cell_type": "code",
      "metadata": {
        "id": "-5VKOMKBlgaA",
        "colab_type": "code",
        "colab": {
          "base_uri": "https://localhost:8080/",
          "height": 191
        },
        "outputId": "798f5bd6-a83a-43e6-c25a-c1401b805c1a"
      },
      "source": [
        "# g is longer!\n",
        "#making the arrays\n",
        "g = np.array([[1],\n",
        "             [1],\n",
        "             [1],\n",
        "             [8]])\n",
        "h = np.array([[3],\n",
        "             [3],\n",
        "             [3],\n",
        "             [3]])\n",
        "#getting lengths\n",
        "norm_g = np.linalg.norm(g)\n",
        "norm_h = np.linalg.norm(h)\n",
        "# printing codes\n",
        "print(g, \"\\n Norm of g:\", norm_g)\n",
        "print(h, \"\\n Norm of h:\", norm_h)"
      ],
      "execution_count": 99,
      "outputs": [
        {
          "output_type": "stream",
          "text": [
            "[[1]\n",
            " [1]\n",
            " [1]\n",
            " [8]] \n",
            " Norm of g: 8.18535277187245\n",
            "[[3]\n",
            " [3]\n",
            " [3]\n",
            " [3]] \n",
            " Norm of h: 6.0\n"
          ],
          "name": "stdout"
        }
      ]
    },
    {
      "cell_type": "markdown",
      "metadata": {
        "id": "njrWIMS-ZAoH",
        "colab_type": "text"
      },
      "source": [
        "# Part 2 - Matrices"
      ]
    },
    {
      "cell_type": "markdown",
      "metadata": {
        "id": "GjkcAVIOmOnn",
        "colab_type": "text"
      },
      "source": [
        "## 2.1 What are the dimensions of the following matrices? Which of the following can be multiplied together? See if you can find all of the different legal combinations.\n",
        "\\begin{align}\n",
        "A = \\begin{bmatrix}\n",
        "1 & 2 \\\\\n",
        "3 & 4 \\\\\n",
        "5 & 6\n",
        "\\end{bmatrix}\n",
        "\\qquad\n",
        "B = \\begin{bmatrix}\n",
        "2 & 4 & 6 \\\\\n",
        "\\end{bmatrix}\n",
        "\\qquad\n",
        "C = \\begin{bmatrix}\n",
        "9 & 6 & 3 \\\\\n",
        "4 & 7 & 11\n",
        "\\end{bmatrix}\n",
        "\\qquad\n",
        "D = \\begin{bmatrix}\n",
        "1 & 0 & 0 \\\\\n",
        "0 & 1 & 0 \\\\\n",
        "0 & 0 & 1\n",
        "\\end{bmatrix}\n",
        "\\qquad\n",
        "E = \\begin{bmatrix}\n",
        "1 & 3 \\\\\n",
        "5 & 7\n",
        "\\end{bmatrix}\n",
        "\\end{align}"
      ]
    },
    {
      "cell_type": "code",
      "metadata": {
        "id": "Z69c-uPtnbIx",
        "colab_type": "code",
        "outputId": "ce0a3151-b66e-4a8b-86e1-2a8da7d1a75c",
        "colab": {
          "base_uri": "https://localhost:8080/",
          "height": 35
        }
      },
      "source": [
        "A = ([[1, 2],\n",
        "      [3, 4],\n",
        "      [5, 6]])\n",
        "B = ([2, 4, 6])\n",
        "C = ([[9, 6, 3],\n",
        "      [4, 7, 11]])\n",
        "D = ([[1, 0, 0],\n",
        "      [0, 1, 0],\n",
        "      [0, 0, 1]])\n",
        "E = ([[1, 3],\n",
        "      [5, 7]])\n",
        "\n",
        "''' \n",
        "dimensions\n",
        "A = 2 x 3\n",
        "B = 1 x 3\n",
        "C = 3 x 2\n",
        "D = 3 x 3\n",
        "E = 2 x 2\n",
        "\n",
        "Possible combinations:\n",
        "A or B or D * C or D\n",
        "E or C * A or E '''"
      ],
      "execution_count": 0,
      "outputs": [
        {
          "output_type": "execute_result",
          "data": {
            "text/plain": [
              "' dimensions\\nA = 2 x 3\\nB = 1 x 3\\nC = 3 x 2\\nD = 3 x 3\\nE = 2 x 2\\n\\nPossible combinations:\\nA or B or D * C or D\\nE or C * A or E '"
            ]
          },
          "metadata": {
            "tags": []
          },
          "execution_count": 40
        }
      ]
    },
    {
      "cell_type": "markdown",
      "metadata": {
        "id": "lMOlCoM3ncGa",
        "colab_type": "text"
      },
      "source": [
        "## 2.2 Find the following products: CD, AE, and BA. What are the dimensions of the resulting matrices? How does that relate to the dimensions of their factor matrices?"
      ]
    },
    {
      "cell_type": "code",
      "metadata": {
        "id": "zhKwiSItoE2F",
        "colab_type": "code",
        "outputId": "940ce462-44f6-44e3-e41c-7c81947b952e",
        "colab": {
          "base_uri": "https://localhost:8080/",
          "height": 52
        }
      },
      "source": [
        "np.matmul(C, D) # resulting dimension is 3 x 2"
      ],
      "execution_count": 0,
      "outputs": [
        {
          "output_type": "execute_result",
          "data": {
            "text/plain": [
              "array([[ 9,  6,  3],\n",
              "       [ 4,  7, 11]])"
            ]
          },
          "metadata": {
            "tags": []
          },
          "execution_count": 41
        }
      ]
    },
    {
      "cell_type": "code",
      "metadata": {
        "id": "KjTS9WoKwzEo",
        "colab_type": "code",
        "outputId": "9e03e063-4c3c-4992-c469-d1f30e0caa84",
        "colab": {
          "base_uri": "https://localhost:8080/",
          "height": 69
        }
      },
      "source": [
        "np.matmul(A, E) # resulting dimension is 2 x 3"
      ],
      "execution_count": 0,
      "outputs": [
        {
          "output_type": "execute_result",
          "data": {
            "text/plain": [
              "array([[11, 17],\n",
              "       [23, 37],\n",
              "       [35, 57]])"
            ]
          },
          "metadata": {
            "tags": []
          },
          "execution_count": 42
        }
      ]
    },
    {
      "cell_type": "code",
      "metadata": {
        "id": "ch1u-wUPw67z",
        "colab_type": "code",
        "outputId": "b9015b69-7e92-4ddb-a6c6-97e7c857f76c",
        "colab": {
          "base_uri": "https://localhost:8080/",
          "height": 35
        }
      },
      "source": [
        "np.matmul(B, A) # resulting dimension is 2 x 2"
      ],
      "execution_count": 0,
      "outputs": [
        {
          "output_type": "execute_result",
          "data": {
            "text/plain": [
              "array([44, 56])"
            ]
          },
          "metadata": {
            "tags": []
          },
          "execution_count": 44
        }
      ]
    },
    {
      "cell_type": "markdown",
      "metadata": {
        "id": "p2jmaGLgoFPN",
        "colab_type": "text"
      },
      "source": [
        "## 2.3  Find $F^{T}$. How are the numbers along the main diagonal (top left to bottom right) of the original matrix and its transpose related? What are the dimensions of $F$? What are the dimensions of $F^{T}$?\n",
        "\n",
        "\\begin{align}\n",
        "F = \n",
        "\\begin{bmatrix}\n",
        "20 & 19 & 18 & 17 \\\\\n",
        "16 & 15 & 14 & 13 \\\\\n",
        "12 & 11 & 10 & 9 \\\\\n",
        "8 & 7 & 6 & 5 \\\\\n",
        "4 & 3 & 2 & 1\n",
        "\\end{bmatrix}\n",
        "\\end{align}"
      ]
    },
    {
      "cell_type": "code",
      "metadata": {
        "id": "Wl3ElwgLqaAn",
        "colab_type": "code",
        "colab": {}
      },
      "source": [
        "F = np.array([[20, 19, 18, 17],\n",
        "     [16, 15, 14, 13],\n",
        "     [12, 11, 10, 9],\n",
        "     [8, 7, 6, 5],\n",
        "     [4, 3, 2, 1]])"
      ],
      "execution_count": 0,
      "outputs": []
    },
    {
      "cell_type": "code",
      "metadata": {
        "id": "5M3_elO-r1EZ",
        "colab_type": "code",
        "colab": {}
      },
      "source": [
        "#converting to a matrix\n",
        "FM = pd.DataFrame(F)"
      ],
      "execution_count": 0,
      "outputs": []
    },
    {
      "cell_type": "code",
      "metadata": {
        "id": "FipRBVTGsBaG",
        "colab_type": "code",
        "colab": {
          "base_uri": "https://localhost:8080/",
          "height": 171
        },
        "outputId": "f14ffd8a-565d-48ab-caca-1ef7c629888a"
      },
      "source": [
        "#transposing \n",
        "FM.T"
      ],
      "execution_count": 97,
      "outputs": [
        {
          "output_type": "execute_result",
          "data": {
            "text/html": [
              "<div>\n",
              "<style scoped>\n",
              "    .dataframe tbody tr th:only-of-type {\n",
              "        vertical-align: middle;\n",
              "    }\n",
              "\n",
              "    .dataframe tbody tr th {\n",
              "        vertical-align: top;\n",
              "    }\n",
              "\n",
              "    .dataframe thead th {\n",
              "        text-align: right;\n",
              "    }\n",
              "</style>\n",
              "<table border=\"1\" class=\"dataframe\">\n",
              "  <thead>\n",
              "    <tr style=\"text-align: right;\">\n",
              "      <th></th>\n",
              "      <th>0</th>\n",
              "      <th>1</th>\n",
              "      <th>2</th>\n",
              "      <th>3</th>\n",
              "      <th>4</th>\n",
              "    </tr>\n",
              "  </thead>\n",
              "  <tbody>\n",
              "    <tr>\n",
              "      <th>0</th>\n",
              "      <td>20</td>\n",
              "      <td>16</td>\n",
              "      <td>12</td>\n",
              "      <td>8</td>\n",
              "      <td>4</td>\n",
              "    </tr>\n",
              "    <tr>\n",
              "      <th>1</th>\n",
              "      <td>19</td>\n",
              "      <td>15</td>\n",
              "      <td>11</td>\n",
              "      <td>7</td>\n",
              "      <td>3</td>\n",
              "    </tr>\n",
              "    <tr>\n",
              "      <th>2</th>\n",
              "      <td>18</td>\n",
              "      <td>14</td>\n",
              "      <td>10</td>\n",
              "      <td>6</td>\n",
              "      <td>2</td>\n",
              "    </tr>\n",
              "    <tr>\n",
              "      <th>3</th>\n",
              "      <td>17</td>\n",
              "      <td>13</td>\n",
              "      <td>9</td>\n",
              "      <td>5</td>\n",
              "      <td>1</td>\n",
              "    </tr>\n",
              "  </tbody>\n",
              "</table>\n",
              "</div>"
            ],
            "text/plain": [
              "    0   1   2  3  4\n",
              "0  20  16  12  8  4\n",
              "1  19  15  11  7  3\n",
              "2  18  14  10  6  2\n",
              "3  17  13   9  5  1"
            ]
          },
          "metadata": {
            "tags": []
          },
          "execution_count": 97
        }
      ]
    },
    {
      "cell_type": "code",
      "metadata": {
        "id": "yDyoc-SUsEXE",
        "colab_type": "code",
        "colab": {}
      },
      "source": [
        "# the transposed version flips the matrix along a diagonal plane\n",
        "# such that 20, 15, 10, and 5 retain their original positions and \n",
        "# the rest of the numbers flip to a mirror image position"
      ],
      "execution_count": 0,
      "outputs": []
    },
    {
      "cell_type": "markdown",
      "metadata": {
        "id": "13ik2LEEZLHn",
        "colab_type": "text"
      },
      "source": [
        "# Part 3 - Square Matrices"
      ]
    },
    {
      "cell_type": "markdown",
      "metadata": {
        "id": "sDBAPUwfp7f7",
        "colab_type": "text"
      },
      "source": [
        "## 3.1 Find $IG$ (be sure to show your work) 😃\n",
        "\n",
        "You don't have to do anything crazy complicated here to show your work, just create the G matrix as specified below, and a corresponding 2x2 Identity matrix and then multiply them together to show the result. You don't need to write LaTeX or anything like that (unless you want to).\n",
        "\n",
        "\\begin{align}\n",
        "G= \n",
        "\\begin{bmatrix}\n",
        "13 & 14 \\\\\n",
        "21 & 12 \n",
        "\\end{bmatrix}\n",
        "\\end{align}"
      ]
    },
    {
      "cell_type": "code",
      "metadata": {
        "id": "ZnqvZBOYqar3",
        "colab_type": "code",
        "outputId": "4e5654ab-64b1-4551-caca-9d6fb83307e2",
        "colab": {
          "base_uri": "https://localhost:8080/",
          "height": 52
        }
      },
      "source": [
        "G = ([13, 14],\n",
        "     [21, 12])\n",
        "I = ([1, 0],\n",
        "     [0, 1])\n",
        "\n",
        "np.matmul(I,G)"
      ],
      "execution_count": 0,
      "outputs": [
        {
          "output_type": "execute_result",
          "data": {
            "text/plain": [
              "array([[13, 14],\n",
              "       [21, 12]])"
            ]
          },
          "metadata": {
            "tags": []
          },
          "execution_count": 24
        }
      ]
    },
    {
      "cell_type": "markdown",
      "metadata": {
        "id": "DZ_0XTDQqpMT",
        "colab_type": "text"
      },
      "source": [
        "## 3.2 Find $|H|$ and then find $|J|$.\n",
        "\n",
        "\\begin{align}\n",
        "H= \n",
        "\\begin{bmatrix}\n",
        "12 & 11 \\\\\n",
        "7 & 10 \n",
        "\\end{bmatrix}\n",
        "\\qquad\n",
        "J= \n",
        "\\begin{bmatrix}\n",
        "0 & 1 & 2 \\\\\n",
        "7 & 10 & 4 \\\\\n",
        "3 & 2 & 0\n",
        "\\end{bmatrix}\n",
        "\\end{align}\n"
      ]
    },
    {
      "cell_type": "code",
      "metadata": {
        "id": "5QShhoXyrjDS",
        "colab_type": "code",
        "outputId": "8a69b959-829e-42fc-d7b1-61ea251db91a",
        "colab": {
          "base_uri": "https://localhost:8080/",
          "height": 35
        }
      },
      "source": [
        "# copying the matrices above into notebook\n",
        "H = np.array([[12, 11],\n",
        "              [7,10]])\n",
        "np.linalg.det(H)"
      ],
      "execution_count": 0,
      "outputs": [
        {
          "output_type": "execute_result",
          "data": {
            "text/plain": [
              "43.000000000000014"
            ]
          },
          "metadata": {
            "tags": []
          },
          "execution_count": 25
        }
      ]
    },
    {
      "cell_type": "code",
      "metadata": {
        "id": "Ertl4zOZs6lN",
        "colab_type": "code",
        "outputId": "d2b1e548-eeeb-4d79-c587-0ff7cd878e4d",
        "colab": {
          "base_uri": "https://localhost:8080/",
          "height": 35
        }
      },
      "source": [
        "# see above\n",
        "J = np.array([[0, 1, 2],\n",
        "              [7, 10, 4],\n",
        "              [3, 2, 0]])\n",
        "np.linalg.det(J)"
      ],
      "execution_count": 0,
      "outputs": [
        {
          "output_type": "execute_result",
          "data": {
            "text/plain": [
              "-19.999999999999996"
            ]
          },
          "metadata": {
            "tags": []
          },
          "execution_count": 27
        }
      ]
    },
    {
      "cell_type": "markdown",
      "metadata": {
        "id": "2gZl1CFwrXSH",
        "colab_type": "text"
      },
      "source": [
        "## 3.3 Find $H^{-1}$ and then find $J^{-1}$"
      ]
    },
    {
      "cell_type": "code",
      "metadata": {
        "id": "nyX6De2-rio1",
        "colab_type": "code",
        "outputId": "bea3bbec-31d1-4945-8f76-2f8bc7ec372f",
        "colab": {
          "base_uri": "https://localhost:8080/",
          "height": 52
        }
      },
      "source": [
        "\n",
        "#show as dataframe first\n",
        "pd.DataFrame(H)\n",
        "# inverse\n",
        "H_inverse = np.linalg.inv(H)\n",
        "print(H_inverse)"
      ],
      "execution_count": 0,
      "outputs": [
        {
          "output_type": "stream",
          "text": [
            "[[ 0.23255814 -0.25581395]\n",
            " [-0.1627907   0.27906977]]\n"
          ],
          "name": "stdout"
        }
      ]
    },
    {
      "cell_type": "code",
      "metadata": {
        "id": "M_8KtKsst6sm",
        "colab_type": "code",
        "outputId": "f039416e-3b9f-45e0-bfd4-ae4ebe05e726",
        "colab": {
          "base_uri": "https://localhost:8080/",
          "height": 69
        }
      },
      "source": [
        "\n",
        "#show as dataframe first\n",
        "pd.DataFrame(J)\n",
        "# inverse\n",
        "J_inverse = np.linalg.inv(J)\n",
        "print(J_inverse)"
      ],
      "execution_count": 0,
      "outputs": [
        {
          "output_type": "stream",
          "text": [
            "[[ 0.4  -0.2   0.8 ]\n",
            " [-0.6   0.3  -0.7 ]\n",
            " [ 0.8  -0.15  0.35]]\n"
          ],
          "name": "stdout"
        }
      ]
    },
    {
      "cell_type": "markdown",
      "metadata": {
        "id": "Vvd4Pe86rjhW",
        "colab_type": "text"
      },
      "source": [
        "## 3.4 Find $HH^{-1}$ and then find $J^{-1}J$. Is $HH^{-1} == J^{-1}J$? Why or Why not? \n",
        "\n",
        "Please ignore Python rounding errors. If necessary, format your output so that it rounds to 5 significant digits (the fifth decimal place)."
      ]
    },
    {
      "cell_type": "code",
      "metadata": {
        "id": "wYhFT-jguKEx",
        "colab_type": "code",
        "outputId": "5f13acbe-3f7b-4536-ca91-46b9eb1dc24d",
        "colab": {
          "base_uri": "https://localhost:8080/",
          "height": 52
        }
      },
      "source": [
        "# NOTE: ONLY A SQUARE MATRIX WITH NON-ZERO DETERMINANT CAN BE INVERTED\n",
        "# For H\n",
        "np.matmul(H, H_inverse)"
      ],
      "execution_count": 0,
      "outputs": [
        {
          "output_type": "execute_result",
          "data": {
            "text/plain": [
              "array([[1.00000000e+00, 5.55111512e-16],\n",
              "       [2.22044605e-16, 1.00000000e+00]])"
            ]
          },
          "metadata": {
            "tags": []
          },
          "execution_count": 34
        }
      ]
    },
    {
      "cell_type": "code",
      "metadata": {
        "id": "LCXg0SB-uUvv",
        "colab_type": "code",
        "outputId": "8d24c755-8ecd-465d-d160-ce61bc9ed451",
        "colab": {
          "base_uri": "https://localhost:8080/",
          "height": 69
        }
      },
      "source": [
        "# For J\n",
        "np.matmul(J, J_inverse)"
      ],
      "execution_count": 0,
      "outputs": [
        {
          "output_type": "execute_result",
          "data": {
            "text/plain": [
              "array([[ 1.00000000e+00, -5.55111512e-17,  0.00000000e+00],\n",
              "       [ 0.00000000e+00,  1.00000000e+00,  0.00000000e+00],\n",
              "       [ 0.00000000e+00,  0.00000000e+00,  1.00000000e+00]])"
            ]
          },
          "metadata": {
            "tags": []
          },
          "execution_count": 35
        }
      ]
    },
    {
      "cell_type": "markdown",
      "metadata": {
        "id": "V0iTO4McYjtk",
        "colab_type": "text"
      },
      "source": [
        "# Stretch Goals: \n",
        "\n",
        "A reminder that these challenges are optional. If you finish your work quickly we welcome you to work on them. If there are other activities that you feel like will help your understanding of the above topics more, feel free to work on that. Topics from the Stretch Goals sections will never end up on Sprint Challenges. You don't have to do these in order, you don't have to do all of them. \n",
        "\n",
        "- Write a function that can calculate the dot product of any two vectors of equal length that are passed to it.\n",
        "- Write a function that can calculate the norm of any vector\n",
        "- Prove to yourself again that the vectors in 1.9 are orthogonal by graphing them. \n",
        "- Research how to plot a 3d graph with animations so that you can make the graph rotate (this will be easier in a local notebook than in google colab)\n",
        "- Create and plot a matrix on a 2d graph.\n",
        "- Create and plot a matrix on a 3d graph.\n",
        "- Plot two vectors that are not collinear on a 2d graph. Calculate the determinant of the 2x2 matrix that these vectors form. How does this determinant relate to the graphical interpretation of the vectors?\n",
        "\n"
      ]
    }
  ]
}