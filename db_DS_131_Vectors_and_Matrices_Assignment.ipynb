{
  "nbformat": 4,
  "nbformat_minor": 0,
  "metadata": {
    "colab": {
      "name": "db_DS_131_Vectors_and_Matrices_Assignment.ipynb",
      "provenance": [],
      "collapsed_sections": [],
      "include_colab_link": true
    },
    "kernelspec": {
      "name": "python3",
      "display_name": "Python 3"
    }
  },
  "cells": [
    {
      "cell_type": "markdown",
      "metadata": {
        "id": "view-in-github",
        "colab_type": "text"
      },
      "source": [
        "<a href=\"https://colab.research.google.com/github/Daniel-Benson-Poe/DS-Unit-1-Sprint-3-Linear-Algebra/blob/master/db_DS_131_Vectors_and_Matrices_Assignment.ipynb\" target=\"_parent\"><img src=\"https://colab.research.google.com/assets/colab-badge.svg\" alt=\"Open In Colab\"/></a>"
      ]
    },
    {
      "cell_type": "markdown",
      "metadata": {
        "id": "yXA3GwWhY9KL",
        "colab_type": "text"
      },
      "source": [
        "# Part 1 - Scalars and Vectors\n",
        "\n",
        "For the questions below it is not sufficient to simply provide answer to the questions, but you must solve the problems and show your work using python (the NumPy library will help a lot!) Translate the vectors and matrices into their appropriate python  representations and use numpy or functions that you write yourself to demonstrate the result or property. "
      ]
    },
    {
      "cell_type": "code",
      "metadata": {
        "id": "6w0GBIspkt2J",
        "colab_type": "code",
        "colab": {}
      },
      "source": [
        "# Imports\n",
        "import numpy as np\n",
        "import pandas as pd\n",
        "import matplotlib.pyplot as plt"
      ],
      "execution_count": 0,
      "outputs": []
    },
    {
      "cell_type": "markdown",
      "metadata": {
        "id": "oNOTv43_Zi9L",
        "colab_type": "text"
      },
      "source": [
        "## 1.1 Create a two-dimensional vector and plot it on a graph"
      ]
    },
    {
      "cell_type": "code",
      "metadata": {
        "id": "XNqjzQzrkVG7",
        "colab_type": "code",
        "outputId": "133b3972-a5ea-46b8-87cd-4fc07b298693",
        "colab": {
          "base_uri": "https://localhost:8080/",
          "height": 33
        }
      },
      "source": [
        "# First let's create a two-dimensional row vector\n",
        "a = np.array([14,25])\n",
        "a"
      ],
      "execution_count": 2,
      "outputs": [
        {
          "output_type": "execute_result",
          "data": {
            "text/plain": [
              "array([14, 25])"
            ]
          },
          "metadata": {
            "tags": []
          },
          "execution_count": 2
        }
      ]
    },
    {
      "cell_type": "code",
      "metadata": {
        "id": "GqNLwblplU5o",
        "colab_type": "code",
        "outputId": "f8d22ac2-1338-445b-c714-68cb30f658fc",
        "colab": {
          "base_uri": "https://localhost:8080/",
          "height": 268
        }
      },
      "source": [
        "# Let's graph that\n",
        "fig, ax = plt.subplots()\n",
        "ax.grid()\n",
        "plt.xlim(0, 20)\n",
        "plt.ylim(0, 30)\n",
        "plt.arrow(0,0,\n",
        "          *a,\n",
        "          head_width=.9,\n",
        "          head_length=.9,\n",
        "          length_includes_head=True,\n",
        "          linewidth=2,\n",
        "          color='red')\n",
        "plt.show()"
      ],
      "execution_count": 3,
      "outputs": [
        {
          "output_type": "display_data",
          "data": {
            "image/png": "[encoded data removed]",
            "text/plain": [
              "<Figure size 432x288 with 1 Axes>"
            ]
          },
          "metadata": {
            "tags": []
          }
        }
      ]
    },
    {
      "cell_type": "code",
      "metadata": {
        "id": "XoVYNEuB9fCx",
        "colab_type": "code",
        "outputId": "bf186a31-6579-44c3-96d0-de2befcb66fd",
        "colab": {
          "base_uri": "https://localhost:8080/",
          "height": 50
        }
      },
      "source": [
        "# Let's test that same vector using two-dimensional column vectoring\n",
        "a_col = np.array([[14],\n",
        "                  [24]])\n",
        "a_col"
      ],
      "execution_count": 4,
      "outputs": [
        {
          "output_type": "execute_result",
          "data": {
            "text/plain": [
              "array([[14],\n",
              "       [24]])"
            ]
          },
          "metadata": {
            "tags": []
          },
          "execution_count": 4
        }
      ]
    },
    {
      "cell_type": "code",
      "metadata": {
        "id": "ncFXuUCy_utY",
        "colab_type": "code",
        "outputId": "b190ad02-8a36-4427-be2e-c9df8e64983a",
        "colab": {
          "base_uri": "https://localhost:8080/",
          "height": 268
        }
      },
      "source": [
        "# Let's graph that\n",
        "fig, ax = plt.subplots()\n",
        "ax.grid()\n",
        "plt.xlim(0,20)\n",
        "plt.ylim(0,30)\n",
        "plt.arrow(0,0,\n",
        "          a_col[0][0],\n",
        "          a_col[1][0],\n",
        "          head_width=.9,\n",
        "          head_length=.9,\n",
        "          linewidth=2,\n",
        "          color='pink')\n",
        "plt.show()"
      ],
      "execution_count": 5,
      "outputs": [
        {
          "output_type": "display_data",
          "data": {
            "image/png": "[encoded data removed]",
            "text/plain": [
              "<Figure size 432x288 with 1 Axes>"
            ]
          },
          "metadata": {
            "tags": []
          }
        }
      ]
    },
    {
      "cell_type": "markdown",
      "metadata": {
        "id": "unKFT619lk3e",
        "colab_type": "text"
      },
      "source": [
        "## 1.2 Create a three-dimensional vecor and plot it on a graph"
      ]
    },
    {
      "cell_type": "code",
      "metadata": {
        "id": "atUEd3T6llKm",
        "colab_type": "code",
        "outputId": "95a51110-c523-4b5a-fda0-c60066187ac9",
        "colab": {
          "base_uri": "https://localhost:8080/",
          "height": 33
        }
      },
      "source": [
        "# Let's create our 3 dimensional row vector\n",
        "b = np.array([[0,0,0,\n",
        "              4, 2, 8]])\n",
        "b"
      ],
      "execution_count": 6,
      "outputs": [
        {
          "output_type": "execute_result",
          "data": {
            "text/plain": [
              "array([[0, 0, 0, 4, 2, 8]])"
            ]
          },
          "metadata": {
            "tags": []
          },
          "execution_count": 6
        }
      ]
    },
    {
      "cell_type": "code",
      "metadata": {
        "id": "F9vMV17Sg27X",
        "colab_type": "code",
        "outputId": "69aa7dc7-d5a3-4225-f997-fe081a2de116",
        "colab": {
          "base_uri": "https://localhost:8080/",
          "height": 115
        }
      },
      "source": [
        "# Unziip vector\n",
        "X, Y, Z, U, V, W = zip(*b)\n",
        "for letter in [X,Y,Z,U,V,W]:\n",
        "  print(letter)"
      ],
      "execution_count": 7,
      "outputs": [
        {
          "output_type": "stream",
          "text": [
            "(0,)\n",
            "(0,)\n",
            "(0,)\n",
            "(4,)\n",
            "(2,)\n",
            "(8,)\n"
          ],
          "name": "stdout"
        }
      ]
    },
    {
      "cell_type": "code",
      "metadata": {
        "id": "2pz2HXEjEhjr",
        "colab_type": "code",
        "outputId": "e9115087-53d6-4470-b0f3-e9a308c9e6d6",
        "colab": {
          "base_uri": "https://localhost:8080/",
          "height": 247
        }
      },
      "source": [
        "# Graph it!\n",
        "from mpl_toolkits.mplot3d import Axes3D\n",
        "\n",
        "fig = plt.figure()\n",
        "ax = fig.add_subplot(111, projection='3d')\n",
        "ax.quiver(X, Y, Z, U, V, W, length=1, color='dodgerblue', linewidth=6)\n",
        "ax.set_xlim([0,10])\n",
        "ax.set_ylim([0,10])\n",
        "ax.set_zlim([0,10])\n",
        "ax.set_xlabel('X')\n",
        "ax.set_ylabel('Y')\n",
        "ax.set_zlabel('Z')\n",
        "plt.show()"
      ],
      "execution_count": 8,
      "outputs": [
        {
          "output_type": "display_data",
          "data": {
            "image/png": "[encoded data removed]",
            "text/plain": [
              "<Figure size 432x288 with 1 Axes>"
            ]
          },
          "metadata": {
            "tags": []
          }
        }
      ]
    },
    {
      "cell_type": "markdown",
      "metadata": {
        "id": "b7qFxbKxZmI2",
        "colab_type": "text"
      },
      "source": [
        "## 1.3 Scale the vectors you created in 1.1 by $5$, $\\pi$, and $-e$ and plot all four vectors (original + 3 scaled vectors) on a graph. What do you notice about these vectors? "
      ]
    },
    {
      "cell_type": "code",
      "metadata": {
        "id": "ah6zMSLJdJwL",
        "colab_type": "code",
        "outputId": "6e2e5769-7630-4060-9e68-94f05a68e89a",
        "colab": {
          "base_uri": "https://localhost:8080/",
          "height": 50
        }
      },
      "source": [
        "from math import e, pi\n",
        "print(e)\n",
        "print(pi)"
      ],
      "execution_count": 9,
      "outputs": [
        {
          "output_type": "stream",
          "text": [
            "2.718281828459045\n",
            "3.141592653589793\n"
          ],
          "name": "stdout"
        }
      ]
    },
    {
      "cell_type": "code",
      "metadata": {
        "id": "3qpwDlzXkVf5",
        "colab_type": "code",
        "outputId": "e5834b91-f502-4157-c379-f32553c605d7",
        "colab": {
          "base_uri": "https://localhost:8080/",
          "height": 33
        }
      },
      "source": [
        "# Recall the vector we created in 1.1\n",
        "a"
      ],
      "execution_count": 10,
      "outputs": [
        {
          "output_type": "execute_result",
          "data": {
            "text/plain": [
              "array([14, 25])"
            ]
          },
          "metadata": {
            "tags": []
          },
          "execution_count": 10
        }
      ]
    },
    {
      "cell_type": "code",
      "metadata": {
        "id": "0sqtiGRYjfjK",
        "colab_type": "code",
        "outputId": "a304251f-757c-46b5-d3f1-5baf3ea67404",
        "colab": {
          "base_uri": "https://localhost:8080/",
          "height": 33
        }
      },
      "source": [
        "# Let's scale that array by 5, pi, and -e\n",
        "a_scaled = np.multiply(a, 5)\n",
        "a_scaled"
      ],
      "execution_count": 11,
      "outputs": [
        {
          "output_type": "execute_result",
          "data": {
            "text/plain": [
              "array([ 70, 125])"
            ]
          },
          "metadata": {
            "tags": []
          },
          "execution_count": 11
        }
      ]
    },
    {
      "cell_type": "code",
      "metadata": {
        "id": "BpgBJJKjj4KJ",
        "colab_type": "code",
        "outputId": "a2ed9326-e900-4c93-b240-7b06e19ffb13",
        "colab": {
          "base_uri": "https://localhost:8080/",
          "height": 33
        }
      },
      "source": [
        "# Now scale it by pi\n",
        "a_pi = np.multiply(a, pi)\n",
        "a_pi"
      ],
      "execution_count": 12,
      "outputs": [
        {
          "output_type": "execute_result",
          "data": {
            "text/plain": [
              "array([43.98229715, 78.53981634])"
            ]
          },
          "metadata": {
            "tags": []
          },
          "execution_count": 12
        }
      ]
    },
    {
      "cell_type": "code",
      "metadata": {
        "id": "VYU8I1b4j_x8",
        "colab_type": "code",
        "outputId": "e2da0ddc-1afc-49b5-86f0-1ae10cdfe76a",
        "colab": {
          "base_uri": "https://localhost:8080/",
          "height": 33
        }
      },
      "source": [
        "# Finally scale by -e\n",
        "a_e = np.multiply(a, -e)\n",
        "a_e"
      ],
      "execution_count": 13,
      "outputs": [
        {
          "output_type": "execute_result",
          "data": {
            "text/plain": [
              "array([-38.0559456 , -67.95704571])"
            ]
          },
          "metadata": {
            "tags": []
          },
          "execution_count": 13
        }
      ]
    },
    {
      "cell_type": "code",
      "metadata": {
        "id": "9Xy61_sdkE41",
        "colab_type": "code",
        "outputId": "6b47fdd7-791d-478a-f781-f03366adc1f0",
        "colab": {
          "base_uri": "https://localhost:8080/",
          "height": 268
        }
      },
      "source": [
        "# Let's graph all four of those now!\n",
        "fig, ax = plt.subplots()\n",
        "ax.grid()\n",
        "plt.xlim(-80, 150)\n",
        "plt.ylim(-80, 150)\n",
        "plt.arrow(0,0,\n",
        "          *a,\n",
        "          head_width=5,\n",
        "          head_length=5,\n",
        "          linewidth=10,\n",
        "          color='red')\n",
        "\n",
        "plt.arrow(0,0,\n",
        "          *a_scaled,\n",
        "          head_width=5,\n",
        "          head_length=5,\n",
        "          linewidth=3,\n",
        "          color='blue')\n",
        "\n",
        "plt.arrow(0,0,\n",
        "          *a_pi,\n",
        "          head_width=5,\n",
        "          head_length=5,\n",
        "          linewidth=5,\n",
        "          color='green')\n",
        "\n",
        "plt.arrow(0,0,\n",
        "          *a_e,\n",
        "          head_width=5,\n",
        "          head_length=5,\n",
        "          linewidth=5,\n",
        "          color='purple')\n",
        "plt.show()"
      ],
      "execution_count": 14,
      "outputs": [
        {
          "output_type": "display_data",
          "data": {
            "image/png": "[encoded data removed]",
            "text/plain": [
              "<Figure size 432x288 with 1 Axes>"
            ]
          },
          "metadata": {
            "tags": []
          }
        }
      ]
    },
    {
      "cell_type": "code",
      "metadata": {
        "id": "5Eb-Ba8okE0g",
        "colab_type": "code",
        "colab": {}
      },
      "source": [
        "# All of these vectors follow the exact same line; esentially scaling a\n",
        "# vector appears to literally stretch that vector out in either the exact\n",
        "# same direction it was originally going, or the exact opposite (negative)\n",
        "# direction."
      ],
      "execution_count": 0,
      "outputs": []
    },
    {
      "cell_type": "markdown",
      "metadata": {
        "id": "wrgqa6sWimbH",
        "colab_type": "text"
      },
      "source": [
        "## 1.4 Graph vectors $\\vec{a}$ and $\\vec{b}$ and plot them on a graph\n",
        "\n",
        "\\begin{align}\n",
        "\\vec{a} = \\begin{bmatrix} 5 \\\\ 7 \\end{bmatrix}\n",
        "\\qquad\n",
        "\\vec{b} = \\begin{bmatrix} 3 \\\\4 \\end{bmatrix}\n",
        "\\end{align}"
      ]
    },
    {
      "cell_type": "code",
      "metadata": {
        "id": "I1BGXA_skV-b",
        "colab_type": "code",
        "outputId": "1a3cb63f-9ece-4b42-facc-c394ca70e1e7",
        "colab": {
          "base_uri": "https://localhost:8080/",
          "height": 98
        }
      },
      "source": [
        "# First create vectors a and b\n",
        "a_vec = np.array([[5],\n",
        "                 [7]])\n",
        "b_vec = np.array([[3],\n",
        "                  [4]])\n",
        "print(a_vec, '\\n\\n', b_vec)"
      ],
      "execution_count": 16,
      "outputs": [
        {
          "output_type": "stream",
          "text": [
            "[[5]\n",
            " [7]] \n",
            "\n",
            " [[3]\n",
            " [4]]\n"
          ],
          "name": "stdout"
        }
      ]
    },
    {
      "cell_type": "code",
      "metadata": {
        "id": "vX0BHzCJmgXf",
        "colab_type": "code",
        "outputId": "f9a11c4b-75ba-4671-e1c1-b16adeff1fea",
        "colab": {
          "base_uri": "https://localhost:8080/",
          "height": 268
        }
      },
      "source": [
        "# Now plot these on a graph\n",
        "fig, ax = plt.subplots()\n",
        "ax.grid()\n",
        "plt.xlim(0,10)\n",
        "plt.ylim(0,10)\n",
        "plt.arrow(0,0,\n",
        "          a_vec[0][0],\n",
        "          a_vec[1][0],\n",
        "          head_width=.5,\n",
        "          head_length=.5,\n",
        "          linewidth=2,\n",
        "          color='gold')\n",
        "plt.arrow(0,0,\n",
        "          b_vec[0][0],\n",
        "          b_vec[1][0],\n",
        "          head_width=.5,\n",
        "          head_length=.5,\n",
        "          linewidth=2,\n",
        "          color='purple')\n",
        "plt.show()"
      ],
      "execution_count": 17,
      "outputs": [
        {
          "output_type": "display_data",
          "data": {
            "image/png": "[encoded data removed]",
            "text/plain": [
              "<Figure size 432x288 with 1 Axes>"
            ]
          },
          "metadata": {
            "tags": []
          }
        }
      ]
    },
    {
      "cell_type": "markdown",
      "metadata": {
        "id": "QN6RU_3gizpw",
        "colab_type": "text"
      },
      "source": [
        "## 1.5 find $\\vec{a} - \\vec{b}$ and plot the result on the same graph as $\\vec{a}$ and $\\vec{b}$. Is there a relationship between vectors $\\vec{a} \\thinspace, \\vec{b} \\thinspace \\text{and} \\thinspace \\vec{a-b}$"
      ]
    },
    {
      "cell_type": "code",
      "metadata": {
        "id": "jIQbhAJwp6dt",
        "colab_type": "code",
        "outputId": "90366669-21ed-4279-add0-8ac7702354bf",
        "colab": {
          "base_uri": "https://localhost:8080/",
          "height": 98
        }
      },
      "source": [
        "# Remind ourselves what a_vec and b_vec were\n",
        "print(a_vec, \"\\n\\n\", b_vec)"
      ],
      "execution_count": 18,
      "outputs": [
        {
          "output_type": "stream",
          "text": [
            "[[5]\n",
            " [7]] \n",
            "\n",
            " [[3]\n",
            " [4]]\n"
          ],
          "name": "stdout"
        }
      ]
    },
    {
      "cell_type": "code",
      "metadata": {
        "id": "68sWHIOPkXp5",
        "colab_type": "code",
        "outputId": "8e7575ea-efca-4972-d7e9-8308e0bd24a7",
        "colab": {
          "base_uri": "https://localhost:8080/",
          "height": 50
        }
      },
      "source": [
        "# Let's find a - b and set that to a variable\n",
        "a_b_diff = a_vec - b_vec\n",
        "a_b_diff"
      ],
      "execution_count": 19,
      "outputs": [
        {
          "output_type": "execute_result",
          "data": {
            "text/plain": [
              "array([[2],\n",
              "       [3]])"
            ]
          },
          "metadata": {
            "tags": []
          },
          "execution_count": 19
        }
      ]
    },
    {
      "cell_type": "code",
      "metadata": {
        "id": "544poMOTqBSu",
        "colab_type": "code",
        "outputId": "f4c5bd45-2f1c-4aba-d978-c2322326fbbd",
        "colab": {
          "base_uri": "https://localhost:8080/",
          "height": 268
        }
      },
      "source": [
        "# Now add the difference to the graph we created above\n",
        "# Now plot these on a graph\n",
        "fig, ax = plt.subplots()\n",
        "ax.grid()\n",
        "plt.xlim(0,10)\n",
        "plt.ylim(0,10)\n",
        "plt.arrow(0,0,\n",
        "          a_vec[0][0],\n",
        "          a_vec[1][0],\n",
        "          head_width=.5,\n",
        "          head_length=.5,\n",
        "          linewidth=2,\n",
        "          color='gold')\n",
        "plt.arrow(0,0,\n",
        "          b_vec[0][0],\n",
        "          b_vec[1][0],\n",
        "          head_width=.5,\n",
        "          head_length=.5,\n",
        "          linewidth=2,\n",
        "          color='purple')\n",
        "# Let's make the difference vector twice as large as the others to really show it\n",
        "plt.arrow(0,0,\n",
        "          a_b_diff[0][0],\n",
        "          a_b_diff[1][0],\n",
        "          head_width=1,\n",
        "          head_length=1,\n",
        "          linewidth=4,\n",
        "          color='darkred')\n",
        "plt.show()"
      ],
      "execution_count": 20,
      "outputs": [
        {
          "output_type": "display_data",
          "data": {
            "image/png": "[encoded data removed]",
            "text/plain": [
              "<Figure size 432x288 with 1 Axes>"
            ]
          },
          "metadata": {
            "tags": []
          }
        }
      ]
    },
    {
      "cell_type": "markdown",
      "metadata": {
        "id": "1ZPVuJAlehu_",
        "colab_type": "text"
      },
      "source": [
        "## 1.6 Find $c \\cdot d$\n",
        "\n",
        "\\begin{align}\n",
        "\\vec{c} = \\begin{bmatrix}7 & 22 & 4 & 16\\end{bmatrix}\n",
        "\\qquad\n",
        "\\vec{d} = \\begin{bmatrix}12 & 6 & 2 & 9\\end{bmatrix}\n",
        "\\end{align}\n"
      ]
    },
    {
      "cell_type": "code",
      "metadata": {
        "id": "2_cZQFCskYNr",
        "colab_type": "code",
        "outputId": "14ab0668-9d35-4348-b708-fa4becd2bba4",
        "colab": {
          "base_uri": "https://localhost:8080/",
          "height": 66
        }
      },
      "source": [
        "# First let's create our c and d vectors\n",
        "c_vec = np.array([7, 22, 4, 16])\n",
        "d_vec = np.array([12, 6, 2, 9])\n",
        "print(c_vec, \"\\n\\n\", d_vec)"
      ],
      "execution_count": 21,
      "outputs": [
        {
          "output_type": "stream",
          "text": [
            "[ 7 22  4 16] \n",
            "\n",
            " [12  6  2  9]\n"
          ],
          "name": "stdout"
        }
      ]
    },
    {
      "cell_type": "code",
      "metadata": {
        "id": "8kZN8GyNrJV0",
        "colab_type": "code",
        "outputId": "c308e4b6-296a-4114-cded-48cbdf5d272a",
        "colab": {
          "base_uri": "https://localhost:8080/",
          "height": 33
        }
      },
      "source": [
        "# Now let's find the dot product of those and set it to a variable\n",
        "c_d_dot = np.dot(c_vec, d_vec)\n",
        "c_d_dot"
      ],
      "execution_count": 22,
      "outputs": [
        {
          "output_type": "execute_result",
          "data": {
            "text/plain": [
              "368"
            ]
          },
          "metadata": {
            "tags": []
          },
          "execution_count": 22
        }
      ]
    },
    {
      "cell_type": "markdown",
      "metadata": {
        "id": "cLm8yokpfg9B",
        "colab_type": "text"
      },
      "source": [
        "##  1.7 Find $e \\times f$\n",
        "\n",
        "\\begin{align}\n",
        "\\vec{e} = \\begin{bmatrix} 5 \\\\ 7 \\\\ 2 \\end{bmatrix}\n",
        "\\qquad\n",
        "\\vec{f} = \\begin{bmatrix} 3 \\\\4 \\\\ 6 \\end{bmatrix}\n",
        "\\end{align}"
      ]
    },
    {
      "cell_type": "code",
      "metadata": {
        "id": "ku-TdCKAkYs8",
        "colab_type": "code",
        "outputId": "243515df-8fc5-4213-b2f1-e8b3ce20371e",
        "colab": {
          "base_uri": "https://localhost:8080/",
          "height": 131
        }
      },
      "source": [
        "# First create our e and f vectors\n",
        "e_vec = np.array([[5],\n",
        "                  [7],\n",
        "                  [2]])\n",
        "f_vec = np.array([[3],\n",
        "                  [4],\n",
        "                  [6]])\n",
        "\n",
        "print(e_vec, \"\\n\\n\", f_vec)"
      ],
      "execution_count": 23,
      "outputs": [
        {
          "output_type": "stream",
          "text": [
            "[[5]\n",
            " [7]\n",
            " [2]] \n",
            "\n",
            " [[3]\n",
            " [4]\n",
            " [6]]\n"
          ],
          "name": "stdout"
        }
      ]
    },
    {
      "cell_type": "code",
      "metadata": {
        "id": "76XMPSobsaek",
        "colab_type": "code",
        "outputId": "73d24571-bd04-46c9-8e6c-3f6e2d2dbff0",
        "colab": {
          "base_uri": "https://localhost:8080/",
          "height": 66
        }
      },
      "source": [
        "# Now let's find the cross product\n",
        "e_f_cross = np.cross(e_vec, f_vec, axis=0)\n",
        "e_f_cross"
      ],
      "execution_count": 24,
      "outputs": [
        {
          "output_type": "execute_result",
          "data": {
            "text/plain": [
              "array([[ 34],\n",
              "       [-24],\n",
              "       [ -1]])"
            ]
          },
          "metadata": {
            "tags": []
          },
          "execution_count": 24
        }
      ]
    },
    {
      "cell_type": "markdown",
      "metadata": {
        "id": "-TN8wO2-h53s",
        "colab_type": "text"
      },
      "source": [
        "## 1.8 Find $||g||$ and then find $||h||$. Which is longer?\n",
        "\n",
        "\\begin{align}\n",
        "\\vec{g} = \\begin{bmatrix} 1 \\\\ 1 \\\\ 1 \\\\ 8 \\end{bmatrix}\n",
        "\\qquad\n",
        "\\vec{h} = \\begin{bmatrix} 3 \\\\3 \\\\ 3 \\\\ 3 \\end{bmatrix}\n",
        "\\end{align}"
      ]
    },
    {
      "cell_type": "code",
      "metadata": {
        "id": "-5VKOMKBlgaA",
        "colab_type": "code",
        "outputId": "31e4a52e-f737-45d5-81e2-636658a7f7c4",
        "colab": {
          "base_uri": "https://localhost:8080/",
          "height": 163
        }
      },
      "source": [
        "# First create our g and h vectors\n",
        "g_vec = np.array([[1],\n",
        "                  [1],\n",
        "                  [1],\n",
        "                  [8]])\n",
        "h_vec = np.array([[3],\n",
        "                  [3],\n",
        "                  [3],\n",
        "                  [3]])\n",
        "print(g_vec, \"\\n\\n\", h_vec)"
      ],
      "execution_count": 25,
      "outputs": [
        {
          "output_type": "stream",
          "text": [
            "[[1]\n",
            " [1]\n",
            " [1]\n",
            " [8]] \n",
            "\n",
            " [[3]\n",
            " [3]\n",
            " [3]\n",
            " [3]]\n"
          ],
          "name": "stdout"
        }
      ]
    },
    {
      "cell_type": "code",
      "metadata": {
        "id": "vyWDO4IEtHp9",
        "colab_type": "code",
        "outputId": "5032b8b4-f53f-4e1c-bd7c-5c25139b3ee1",
        "colab": {
          "base_uri": "https://localhost:8080/",
          "height": 50
        }
      },
      "source": [
        "# Now let's find the norm (length) of each and compare to see which one is longer\n",
        "norm_g = np.linalg.norm(g_vec)\n",
        "norm_h = np.linalg.norm(h_vec)\n",
        "print(norm_g, \"\\n\", norm_h)"
      ],
      "execution_count": 26,
      "outputs": [
        {
          "output_type": "stream",
          "text": [
            "8.18535277187245 \n",
            " 6.0\n"
          ],
          "name": "stdout"
        }
      ]
    },
    {
      "cell_type": "code",
      "metadata": {
        "id": "GNlIlxxatZHf",
        "colab_type": "code",
        "colab": {}
      },
      "source": [
        "# g is definitely the longer of the two vectors"
      ],
      "execution_count": 0,
      "outputs": []
    },
    {
      "cell_type": "markdown",
      "metadata": {
        "id": "njrWIMS-ZAoH",
        "colab_type": "text"
      },
      "source": [
        "# Part 2 - Matrices"
      ]
    },
    {
      "cell_type": "markdown",
      "metadata": {
        "id": "GjkcAVIOmOnn",
        "colab_type": "text"
      },
      "source": [
        "## 2.1 What are the dimensions of the following matrices? Which of the following can be multiplied together? See if you can find all of the different legal combinations.\n",
        "\\begin{align}\n",
        "A = \\begin{bmatrix}\n",
        "1 & 2 \\\\\n",
        "3 & 4 \\\\\n",
        "5 & 6\n",
        "\\end{bmatrix}\n",
        "\\qquad\n",
        "B = \\begin{bmatrix}\n",
        "2 & 4 & 6 \\\\\n",
        "\\end{bmatrix}\n",
        "\\qquad\n",
        "C = \\begin{bmatrix}\n",
        "9 & 6 & 3 \\\\\n",
        "4 & 7 & 11\n",
        "\\end{bmatrix}\n",
        "\\qquad\n",
        "D = \\begin{bmatrix}\n",
        "1 & 0 & 0 \\\\\n",
        "0 & 1 & 0 \\\\\n",
        "0 & 0 & 1\n",
        "\\end{bmatrix}\n",
        "\\qquad\n",
        "E = \\begin{bmatrix}\n",
        "1 & 3 \\\\\n",
        "5 & 7\n",
        "\\end{bmatrix}\n",
        "\\end{align}"
      ]
    },
    {
      "cell_type": "code",
      "metadata": {
        "id": "Z69c-uPtnbIx",
        "colab_type": "code",
        "colab": {}
      },
      "source": [
        "# A is a 3 by 2 dimensional matriix\n",
        "# B is a 1 by 3 dimensional matrix\n",
        "# C is a 2 by 3 dimensional matrix\n",
        "# D is a 3 by 3 dimensional matrix\n",
        "# E is a 2 by 2 dimensional matrix\n",
        "\n",
        "# The rule for multiplying matrices is that the number of columns of the first matrix \n",
        "# must equal the number of rows of the second matrix;\n",
        "# Furthermore, matrix multiplication is not commutative.\n",
        "# As such, we an conclude that A can be multiplied with C and E;\n",
        "# B can be multiplied with A and D;\n",
        "# C can be multipled with A and D;\n",
        "# D can be multiplied with A;\n",
        "# E can be multiplied with C"
      ],
      "execution_count": 0,
      "outputs": []
    },
    {
      "cell_type": "code",
      "metadata": {
        "id": "JL6FipZOz8GJ",
        "colab_type": "code",
        "colab": {}
      },
      "source": [
        "# Let's check that these assumptions are indeed correct by performing the \n",
        "# above multiplications"
      ],
      "execution_count": 0,
      "outputs": []
    },
    {
      "cell_type": "code",
      "metadata": {
        "id": "uawPXLP8z8D3",
        "colab_type": "code",
        "outputId": "f281a5fc-ff17-43cc-b932-64004c27d25c",
        "colab": {
          "base_uri": "https://localhost:8080/",
          "height": 261
        }
      },
      "source": [
        "# First let's create the matrices\n",
        "A = np.array([[1,2],\n",
        "              [3,4],\n",
        "              [5,6]])\n",
        "B = np.array([[2,4,6]])\n",
        "C = np.array([[9,6,3],\n",
        "              [4,7,11]])\n",
        "D = np.array([[1,0,0],\n",
        "              [0,1,0],\n",
        "              [0,0,1]])\n",
        "E = np.array([[1,3],\n",
        "              [5,7]])\n",
        "\n",
        "print(A, \"\\n\\n\", B, \"\\n\\n\", C, \"\\n\\n\", D, \"\\n\\n\", E)"
      ],
      "execution_count": 30,
      "outputs": [
        {
          "output_type": "stream",
          "text": [
            "[[1 2]\n",
            " [3 4]\n",
            " [5 6]] \n",
            "\n",
            " [[2 4 6]] \n",
            "\n",
            " [[ 9  6  3]\n",
            " [ 4  7 11]] \n",
            "\n",
            " [[1 0 0]\n",
            " [0 1 0]\n",
            " [0 0 1]] \n",
            "\n",
            " [[1 3]\n",
            " [5 7]]\n"
          ],
          "name": "stdout"
        }
      ]
    },
    {
      "cell_type": "code",
      "metadata": {
        "id": "yNdwda9nz8B0",
        "colab_type": "code",
        "outputId": "3f583452-2764-4a75-825d-e63ea4dfdb34",
        "colab": {
          "base_uri": "https://localhost:8080/",
          "height": 131
        }
      },
      "source": [
        "# Multiply A with C and E\n",
        "AC = np.matmul(A,C)\n",
        "AE = np.matmul(A,E)\n",
        "print(AC, \"\\n\\n\", AE)"
      ],
      "execution_count": 31,
      "outputs": [
        {
          "output_type": "stream",
          "text": [
            "[[17 20 25]\n",
            " [43 46 53]\n",
            " [69 72 81]] \n",
            "\n",
            " [[11 17]\n",
            " [23 37]\n",
            " [35 57]]\n"
          ],
          "name": "stdout"
        }
      ]
    },
    {
      "cell_type": "code",
      "metadata": {
        "id": "XlhgbXzfz7_i",
        "colab_type": "code",
        "outputId": "c3355d63-e064-4a20-98f4-4e020815217e",
        "colab": {
          "base_uri": "https://localhost:8080/",
          "height": 66
        }
      },
      "source": [
        "# Multiply B with A and D\n",
        "BA = np.matmul(B,A)\n",
        "BD = np.matmul(B,D)\n",
        "print(BA, \"\\n\\n\", BD)"
      ],
      "execution_count": 32,
      "outputs": [
        {
          "output_type": "stream",
          "text": [
            "[[44 56]] \n",
            "\n",
            " [[2 4 6]]\n"
          ],
          "name": "stdout"
        }
      ]
    },
    {
      "cell_type": "code",
      "metadata": {
        "id": "hToWf7s1z78d",
        "colab_type": "code",
        "outputId": "acea1ce9-1a9f-4e44-dc78-e53e4ff319f3",
        "colab": {
          "base_uri": "https://localhost:8080/",
          "height": 98
        }
      },
      "source": [
        "# Multiply C with A and D\n",
        "CA = np.matmul(C,A)\n",
        "CD = np.matmul(C,D)\n",
        "print(CA, \"\\n\\n\", CD)"
      ],
      "execution_count": 33,
      "outputs": [
        {
          "output_type": "stream",
          "text": [
            "[[ 42  60]\n",
            " [ 80 102]] \n",
            "\n",
            " [[ 9  6  3]\n",
            " [ 4  7 11]]\n"
          ],
          "name": "stdout"
        }
      ]
    },
    {
      "cell_type": "code",
      "metadata": {
        "id": "o3D3gDmb0dPM",
        "colab_type": "code",
        "outputId": "e958af96-1367-4880-cbd1-a2750116c3d2",
        "colab": {
          "base_uri": "https://localhost:8080/",
          "height": 66
        }
      },
      "source": [
        "# Multiply D with A\n",
        "DA = np.matmul(D,A)\n",
        "print(DA) # Proof of identity matrix, anyone?"
      ],
      "execution_count": 34,
      "outputs": [
        {
          "output_type": "stream",
          "text": [
            "[[1 2]\n",
            " [3 4]\n",
            " [5 6]]\n"
          ],
          "name": "stdout"
        }
      ]
    },
    {
      "cell_type": "code",
      "metadata": {
        "id": "CM3zbA5c0dNG",
        "colab_type": "code",
        "outputId": "4dd3a215-7d06-42a2-ddc3-426bacba328e",
        "colab": {
          "base_uri": "https://localhost:8080/",
          "height": 50
        }
      },
      "source": [
        "# Multiply E with C\n",
        "EC = np.matmul(E,C)\n",
        "print(EC)"
      ],
      "execution_count": 35,
      "outputs": [
        {
          "output_type": "stream",
          "text": [
            "[[21 27 36]\n",
            " [73 79 92]]\n"
          ],
          "name": "stdout"
        }
      ]
    },
    {
      "cell_type": "markdown",
      "metadata": {
        "id": "lMOlCoM3ncGa",
        "colab_type": "text"
      },
      "source": [
        "## 2.2 Find the following products: CD, AE, and BA. What are the dimensions of the resulting matrices? How does that relate to the dimensions of their factor matrices?"
      ]
    },
    {
      "cell_type": "code",
      "metadata": {
        "id": "fedwHcW786kJ",
        "colab_type": "code",
        "outputId": "44d445e1-afea-468b-fec3-8dfee6469abe",
        "colab": {
          "base_uri": "https://localhost:8080/",
          "height": 261
        }
      },
      "source": [
        "# Refresh our memory on the factor matrices\n",
        "print(A, \"\\n\\n\", B, \"\\n\\n\", C, \"\\n\\n\", D, \"\\n\\n\", E)"
      ],
      "execution_count": 36,
      "outputs": [
        {
          "output_type": "stream",
          "text": [
            "[[1 2]\n",
            " [3 4]\n",
            " [5 6]] \n",
            "\n",
            " [[2 4 6]] \n",
            "\n",
            " [[ 9  6  3]\n",
            " [ 4  7 11]] \n",
            "\n",
            " [[1 0 0]\n",
            " [0 1 0]\n",
            " [0 0 1]] \n",
            "\n",
            " [[1 3]\n",
            " [5 7]]\n"
          ],
          "name": "stdout"
        }
      ]
    },
    {
      "cell_type": "code",
      "metadata": {
        "id": "zhKwiSItoE2F",
        "colab_type": "code",
        "outputId": "713cdda3-526c-4ea1-c56d-36a7eb752c0a",
        "colab": {
          "base_uri": "https://localhost:8080/",
          "height": 147
        }
      },
      "source": [
        "# We found these products above, so let's print them and refresh our memory.\n",
        "print(CD, \"\\n\\n\", AE, \"\\n\\n\", BA)"
      ],
      "execution_count": 37,
      "outputs": [
        {
          "output_type": "stream",
          "text": [
            "[[ 9  6  3]\n",
            " [ 4  7 11]] \n",
            "\n",
            " [[11 17]\n",
            " [23 37]\n",
            " [35 57]] \n",
            "\n",
            " [[44 56]]\n"
          ],
          "name": "stdout"
        }
      ]
    },
    {
      "cell_type": "code",
      "metadata": {
        "id": "71UIgiy-6fHw",
        "colab_type": "code",
        "colab": {}
      },
      "source": [
        "# CD is a 2 by 3 dimensional matrix\n",
        "# AE is a 3 by 2 dimensional matrix\n",
        "# BA is a 1 by 2 dimensional matrix\n",
        "# They relate to their factor matrices in that the resulting matrix will have \n",
        "# the same row dimensions as the leading factor matrix and the same column\n",
        "# dimensions as the proceeding factor matrix."
      ],
      "execution_count": 0,
      "outputs": []
    },
    {
      "cell_type": "markdown",
      "metadata": {
        "id": "p2jmaGLgoFPN",
        "colab_type": "text"
      },
      "source": [
        "## 2.3  Find $F^{T}$. How are the numbers along the main diagonal (top left to bottom right) of the original matrix and its transpose related? What are the dimensions of $F$? What are the dimensions of $F^{T}$?\n",
        "\n",
        "\\begin{align}\n",
        "F = \n",
        "\\begin{bmatrix}\n",
        "20 & 19 & 18 & 17 \\\\\n",
        "16 & 15 & 14 & 13 \\\\\n",
        "12 & 11 & 10 & 9 \\\\\n",
        "8 & 7 & 6 & 5 \\\\\n",
        "4 & 3 & 2 & 1\n",
        "\\end{bmatrix}\n",
        "\\end{align}"
      ]
    },
    {
      "cell_type": "code",
      "metadata": {
        "id": "Wl3ElwgLqaAn",
        "colab_type": "code",
        "outputId": "a2c9c6ea-2dc0-4ff3-a6cc-a01517c84582",
        "colab": {
          "base_uri": "https://localhost:8080/",
          "height": 98
        }
      },
      "source": [
        "# First create the matrix\n",
        "F = np.array([[20,19,18,17],\n",
        "              [16,15,14,13],\n",
        "              [12,11,10,9],\n",
        "              [8,7,6,5],\n",
        "              [4,3,2,1]])\n",
        "F"
      ],
      "execution_count": 39,
      "outputs": [
        {
          "output_type": "execute_result",
          "data": {
            "text/plain": [
              "array([[20, 19, 18, 17],\n",
              "       [16, 15, 14, 13],\n",
              "       [12, 11, 10,  9],\n",
              "       [ 8,  7,  6,  5],\n",
              "       [ 4,  3,  2,  1]])"
            ]
          },
          "metadata": {
            "tags": []
          },
          "execution_count": 39
        }
      ]
    },
    {
      "cell_type": "code",
      "metadata": {
        "id": "ilcbk9RM7oHH",
        "colab_type": "code",
        "outputId": "977d8243-4394-4d8d-abd2-aacc5b69fa9f",
        "colab": {
          "base_uri": "https://localhost:8080/",
          "height": 180
        }
      },
      "source": [
        "# Let's transpose that now and compare the two matrices\n",
        "F_trans = F.T\n",
        "print(F, \"\\n\\n\", F_trans)"
      ],
      "execution_count": 40,
      "outputs": [
        {
          "output_type": "stream",
          "text": [
            "[[20 19 18 17]\n",
            " [16 15 14 13]\n",
            " [12 11 10  9]\n",
            " [ 8  7  6  5]\n",
            " [ 4  3  2  1]] \n",
            "\n",
            " [[20 16 12  8  4]\n",
            " [19 15 11  7  3]\n",
            " [18 14 10  6  2]\n",
            " [17 13  9  5  1]]\n"
          ],
          "name": "stdout"
        }
      ]
    },
    {
      "cell_type": "code",
      "metadata": {
        "id": "au749bnM8JW1",
        "colab_type": "code",
        "outputId": "d812fd1c-dba1-42fd-d37b-d0db4c6ea6e9",
        "colab": {
          "base_uri": "https://localhost:8080/",
          "height": 212
        }
      },
      "source": [
        "# This would look better in dataframe form\n",
        "F_df = pd.DataFrame(F)\n",
        "F_trans_df = pd.DataFrame(F_trans)\n",
        "print(F_df.head(), \"\\n\\n\", F_trans_df)"
      ],
      "execution_count": 41,
      "outputs": [
        {
          "output_type": "stream",
          "text": [
            "    0   1   2   3\n",
            "0  20  19  18  17\n",
            "1  16  15  14  13\n",
            "2  12  11  10   9\n",
            "3   8   7   6   5\n",
            "4   4   3   2   1 \n",
            "\n",
            "     0   1   2  3  4\n",
            "0  20  16  12  8  4\n",
            "1  19  15  11  7  3\n",
            "2  18  14  10  6  2\n",
            "3  17  13   9  5  1\n"
          ],
          "name": "stdout"
        }
      ]
    },
    {
      "cell_type": "code",
      "metadata": {
        "id": "sPZkzZv08X5Y",
        "colab_type": "code",
        "colab": {}
      },
      "source": [
        "# The diagonal numbers of both the original matrix and the transposed matrix \n",
        "# are the exact same. The dimensions of the original matrix is 5 by 4, \n",
        "# while the dimensions of the transposed matrix is 4 by 5."
      ],
      "execution_count": 0,
      "outputs": []
    },
    {
      "cell_type": "markdown",
      "metadata": {
        "id": "13ik2LEEZLHn",
        "colab_type": "text"
      },
      "source": [
        "# Part 3 - Square Matrices"
      ]
    },
    {
      "cell_type": "markdown",
      "metadata": {
        "id": "sDBAPUwfp7f7",
        "colab_type": "text"
      },
      "source": [
        "## 3.1 Find $IG$ (be sure to show your work) 😃\n",
        "\n",
        "You don't have to do anything crazy complicated here to show your work, just create the G matrix as specified below, and a corresponding 2x2 Identity matrix and then multiply them together to show the result. You don't need to write LaTeX or anything like that (unless you want to).\n",
        "\n",
        "\\begin{align}\n",
        "G= \n",
        "\\begin{bmatrix}\n",
        "13 & 14 \\\\\n",
        "21 & 12 \n",
        "\\end{bmatrix}\n",
        "\\end{align}"
      ]
    },
    {
      "cell_type": "code",
      "metadata": {
        "id": "ZnqvZBOYqar3",
        "colab_type": "code",
        "outputId": "e66408f5-5a61-4b07-c7d2-7b8bf9c500db",
        "colab": {
          "base_uri": "https://localhost:8080/",
          "height": 98
        }
      },
      "source": [
        "# Create our matrices\n",
        "G = np.array([[13,14],\n",
        "              [21,12]])\n",
        "I = np.array([[1,0],\n",
        "              [0,1]]) # Identity matrix\n",
        "print(G, \"\\n\\n\", I)"
      ],
      "execution_count": 43,
      "outputs": [
        {
          "output_type": "stream",
          "text": [
            "[[13 14]\n",
            " [21 12]] \n",
            "\n",
            " [[1 0]\n",
            " [0 1]]\n"
          ],
          "name": "stdout"
        }
      ]
    },
    {
      "cell_type": "code",
      "metadata": {
        "id": "kQwZa54OJUG4",
        "colab_type": "code",
        "colab": {}
      },
      "source": [
        "# Now let's find IG\n",
        "# [(13*1 + 13*0), (13*0 + 14*1)]\n",
        "# [(21*1 + 21*0), (21*0 + 12*1)]\n",
        "\n",
        "# This will equate to a matrix equal to the following:\n",
        "# [13, 14]\n",
        "# [21, 12]\n",
        "# An answer that makes sense considering that we are dealing with the identity\n",
        "# matrix"
      ],
      "execution_count": 0,
      "outputs": []
    },
    {
      "cell_type": "markdown",
      "metadata": {
        "id": "DZ_0XTDQqpMT",
        "colab_type": "text"
      },
      "source": [
        "## 3.2 Find $|H|$ and then find $|J|$.\n",
        "\n",
        "\\begin{align}\n",
        "H= \n",
        "\\begin{bmatrix}\n",
        "12 & 11 \\\\\n",
        "7 & 10 \n",
        "\\end{bmatrix}\n",
        "\\qquad\n",
        "J= \n",
        "\\begin{bmatrix}\n",
        "0 & 1 & 2 \\\\\n",
        "7 & 10 & 4 \\\\\n",
        "3 & 2 & 0\n",
        "\\end{bmatrix}\n",
        "\\end{align}\n"
      ]
    },
    {
      "cell_type": "code",
      "metadata": {
        "id": "5QShhoXyrjDS",
        "colab_type": "code",
        "outputId": "32ea2901-bf31-48d5-b068-e4512dedc27e",
        "colab": {
          "base_uri": "https://localhost:8080/",
          "height": 115
        }
      },
      "source": [
        "# First create our matrices\n",
        "H = np.array([[12,11],\n",
        "              [7,10]])\n",
        "J = np.array([[0,1,2],\n",
        "              [7,10,4],\n",
        "              [3,2,0]])\n",
        "print(H, \"\\n\\n\", J)\n",
        "\n"
      ],
      "execution_count": 45,
      "outputs": [
        {
          "output_type": "stream",
          "text": [
            "[[12 11]\n",
            " [ 7 10]] \n",
            "\n",
            " [[ 0  1  2]\n",
            " [ 7 10  4]\n",
            " [ 3  2  0]]\n"
          ],
          "name": "stdout"
        }
      ]
    },
    {
      "cell_type": "code",
      "metadata": {
        "id": "qUIQ4FhWvH-A",
        "colab_type": "code",
        "outputId": "7e1ea611-8594-4052-9c78-eebff6859e13",
        "colab": {
          "base_uri": "https://localhost:8080/",
          "height": 66
        }
      },
      "source": [
        "# Now find the determinant of both H and J\n",
        "H_determ = np.linalg.det(H)\n",
        "J_determ = np.linalg.det(J)\n",
        "print(H_determ, \"\\n\\n\", J_determ)"
      ],
      "execution_count": 46,
      "outputs": [
        {
          "output_type": "stream",
          "text": [
            "43.000000000000014 \n",
            "\n",
            " -19.999999999999996\n"
          ],
          "name": "stdout"
        }
      ]
    },
    {
      "cell_type": "markdown",
      "metadata": {
        "id": "2gZl1CFwrXSH",
        "colab_type": "text"
      },
      "source": [
        "## 3.3 Find $H^{-1}$ and then find $J^{-1}$"
      ]
    },
    {
      "cell_type": "code",
      "metadata": {
        "id": "nyX6De2-rio1",
        "colab_type": "code",
        "outputId": "de38646e-4297-4ae9-be1e-86b5405d83a4",
        "colab": {
          "base_uri": "https://localhost:8080/",
          "height": 115
        }
      },
      "source": [
        "# Now let's find the inverse of H and the inverse of J\n",
        "H_inv = np.linalg.inv(H)\n",
        "J_inv = np.linalg.inv(J)\n",
        "print(H_inv, \"\\n\\n\", J_inv)"
      ],
      "execution_count": 47,
      "outputs": [
        {
          "output_type": "stream",
          "text": [
            "[[ 0.23255814 -0.25581395]\n",
            " [-0.1627907   0.27906977]] \n",
            "\n",
            " [[ 0.4  -0.2   0.8 ]\n",
            " [-0.6   0.3  -0.7 ]\n",
            " [ 0.8  -0.15  0.35]]\n"
          ],
          "name": "stdout"
        }
      ]
    },
    {
      "cell_type": "markdown",
      "metadata": {
        "id": "Vvd4Pe86rjhW",
        "colab_type": "text"
      },
      "source": [
        "## 3.4 Find $HH^{-1}$ and then find $J^{-1}J$. Is $HH^{-1} == J^{-1}J$? Why or Why not? \n",
        "\n",
        "Please ignore Python rounding errors. If necessary, format your output so that it rounds to 5 significant digits (the fifth decimal place)."
      ]
    },
    {
      "cell_type": "code",
      "metadata": {
        "id": "Nv1-cM2OxC3w",
        "colab_type": "code",
        "outputId": "846a5165-1623-4516-81b1-564602341242",
        "colab": {
          "base_uri": "https://localhost:8080/",
          "height": 115
        }
      },
      "source": [
        "# Now let's find the matrix multiplication between H and H_inverse and J_inverse and J\n",
        "np.set_printoptions(precision=5, suppress=True)\n",
        "H_inv_H = np.matmul(H, H_inv)\n",
        "J_inv_J = np.matmul(J_inv, J)\n",
        "print(H_inv_H, \"\\n\\n\", J_inv_J)"
      ],
      "execution_count": 48,
      "outputs": [
        {
          "output_type": "stream",
          "text": [
            "[[1. 0.]\n",
            " [0. 1.]] \n",
            "\n",
            " [[ 1.  0.  0.]\n",
            " [-0.  1.  0.]\n",
            " [-0. -0.  1.]]\n"
          ],
          "name": "stdout"
        }
      ]
    },
    {
      "cell_type": "code",
      "metadata": {
        "id": "RtaQZvMsm6An",
        "colab_type": "code",
        "outputId": "f49ff1b1-5668-41dc-ac1a-2cd0938242c9",
        "colab": {
          "base_uri": "https://localhost:8080/",
          "height": 66
        }
      },
      "source": [
        "# The above matrix multiplications each return identity matrices, as we would \n",
        "# expect. Note also that the two output matrices are \n",
        "H_inv_H == J_inv_J"
      ],
      "execution_count": 49,
      "outputs": [
        {
          "output_type": "stream",
          "text": [
            "/usr/local/lib/python3.6/dist-packages/ipykernel_launcher.py:1: DeprecationWarning: elementwise comparison failed; this will raise an error in the future.\n",
            "  \"\"\"Entry point for launching an IPython kernel.\n"
          ],
          "name": "stderr"
        },
        {
          "output_type": "execute_result",
          "data": {
            "text/plain": [
              "False"
            ]
          },
          "metadata": {
            "tags": []
          },
          "execution_count": 49
        }
      ]
    },
    {
      "cell_type": "code",
      "metadata": {
        "id": "wqySk68EmRzm",
        "colab_type": "code",
        "colab": {}
      },
      "source": [
        "# Numerically the two matrix multiplications are not the same. One equates to \n",
        "# a 2 by 2 dimensional matrix and the other equates to a 3 by 3 dimensional\n",
        "# matrix. Conceptually, both are identitty matrices, however."
      ],
      "execution_count": 0,
      "outputs": []
    },
    {
      "cell_type": "markdown",
      "metadata": {
        "id": "V0iTO4McYjtk",
        "colab_type": "text"
      },
      "source": [
        "# Stretch Goals: \n",
        "\n",
        "A reminder that these challenges are optional. If you finish your work quickly we welcome you to work on them. If there are other activities that you feel like will help your understanding of the above topics more, feel free to work on that. Topics from the Stretch Goals sections will never end up on Sprint Challenges. You don't have to do these in order, you don't have to do all of them. \n",
        "\n",
        "- Write a function that can calculate the dot product of any two vectors of equal length that are passed to it.\n",
        "- Write a function that can calculate the norm of any vector\n",
        "- Prove to yourself again that the vectors in 1.9 are orthogonal by graphing them. \n",
        "- Research how to plot a 3d graph with animations so that you can make the graph rotate (this will be easier in a local notebook than in google colab)\n",
        "- Create and plot a matrix on a 2d graph.\n",
        "- Create and plot a matrix on a 3d graph.\n",
        "- Plot two vectors that are not collinear on a 2d graph. Calculate the determinant of the 2x2 matrix that these vectors form. How does this determinant relate to the graphical interpretation of the vectors?\n",
        "\n"
      ]
    },
    {
      "cell_type": "code",
      "metadata": {
        "id": "9GTy-2L_3TnO",
        "colab_type": "code",
        "colab": {}
      },
      "source": [
        "# Function that calculates dot product of two vectors\n",
        "def dot_prod(vec1, vec2):\n",
        "  return np.dot(vec1, vec2)"
      ],
      "execution_count": 0,
      "outputs": []
    },
    {
      "cell_type": "code",
      "metadata": {
        "id": "tJ8RUrHd3VrC",
        "colab_type": "code",
        "colab": {}
      },
      "source": [
        "# Let's test it out now!\n",
        "# First create some vectors\n",
        "import random\n",
        "vec_a = np.array([12, 8, 13, 9])\n",
        "vec_b = np.array([5, 18, 2, 0])\n",
        "vec_c = np.array([random.randint(0, 20), random.randint(0, 20), random.randint(0, 20)])\n",
        "vec_d = np.array([random.randint(0, 20), random.randint(0, 20), random.randint(0, 20)])\n",
        "vec_e = np.array([random.randint(0, 20), random.randint(0, 20), random.randint(0, 20), random.randint(0, 20), random.randint(0, 20)])\n",
        "vec_f = np.array([random.randint(0, 20), random.randint(0, 20), random.randint(0, 20), random.randint(0, 20), random.randint(0, 20)])"
      ],
      "execution_count": 0,
      "outputs": []
    },
    {
      "cell_type": "code",
      "metadata": {
        "id": "S4w-lOJj3Yyj",
        "colab_type": "code",
        "colab": {
          "base_uri": "https://localhost:8080/",
          "height": 33
        },
        "outputId": "07482ae6-43dc-4f01-feba-61e0743054f8"
      },
      "source": [
        "# Let's find the dot product of vec_a and vec_b\n",
        "dot_prod(vec_a, vec_b)"
      ],
      "execution_count": 53,
      "outputs": [
        {
          "output_type": "execute_result",
          "data": {
            "text/plain": [
              "230"
            ]
          },
          "metadata": {
            "tags": []
          },
          "execution_count": 53
        }
      ]
    },
    {
      "cell_type": "code",
      "metadata": {
        "id": "FgbJHPZA3gA3",
        "colab_type": "code",
        "colab": {
          "base_uri": "https://localhost:8080/",
          "height": 33
        },
        "outputId": "fd7d8302-e224-4da0-f560-9f211eddc504"
      },
      "source": [
        "# Now find the dot product of vec_c and vec_d\n",
        "dot_prod(vec_c, vec_d)"
      ],
      "execution_count": 54,
      "outputs": [
        {
          "output_type": "execute_result",
          "data": {
            "text/plain": [
              "197"
            ]
          },
          "metadata": {
            "tags": []
          },
          "execution_count": 54
        }
      ]
    },
    {
      "cell_type": "code",
      "metadata": {
        "id": "5_fp8toL3iUT",
        "colab_type": "code",
        "colab": {
          "base_uri": "https://localhost:8080/",
          "height": 33
        },
        "outputId": "5af735b6-5f1b-42d0-cbae-bbc87879d8c5"
      },
      "source": [
        "# and vec_e, vec_f\n",
        "dot_prod(vec_e, vec_f)"
      ],
      "execution_count": 55,
      "outputs": [
        {
          "output_type": "execute_result",
          "data": {
            "text/plain": [
              "545"
            ]
          },
          "metadata": {
            "tags": []
          },
          "execution_count": 55
        }
      ]
    },
    {
      "cell_type": "code",
      "metadata": {
        "id": "llCCJL1G3kXz",
        "colab_type": "code",
        "colab": {
          "base_uri": "https://localhost:8080/",
          "height": 256
        },
        "outputId": "aed16eb8-ccfa-4c49-ce3c-6b1a75dbce10"
      },
      "source": [
        "# Let's confirm that it DOESN'T work with vectors of different lengths\n",
        " dot_prod(vec_a, vec_d)"
      ],
      "execution_count": 56,
      "outputs": [
        {
          "output_type": "error",
          "ename": "ValueError",
          "evalue": "ignored",
          "traceback": [
            "\u001b[0;31m---------------------------------------------------------------------------\u001b[0m",
            "\u001b[0;31mValueError\u001b[0m                                Traceback (most recent call last)",
            "\u001b[0;32m<ipython-input-56-5d6d93c2090a>\u001b[0m in \u001b[0;36m<module>\u001b[0;34m()\u001b[0m\n\u001b[0;32m----> 1\u001b[0;31m \u001b[0mdot_prod\u001b[0m\u001b[0;34m(\u001b[0m\u001b[0mvec_a\u001b[0m\u001b[0;34m,\u001b[0m \u001b[0mvec_d\u001b[0m\u001b[0;34m)\u001b[0m\u001b[0;34m\u001b[0m\u001b[0;34m\u001b[0m\u001b[0m\n\u001b[0m",
            "\u001b[0;32m<ipython-input-50-9f3310276705>\u001b[0m in \u001b[0;36mdot_prod\u001b[0;34m(vec1, vec2)\u001b[0m\n\u001b[1;32m      1\u001b[0m \u001b[0;32mdef\u001b[0m \u001b[0mdot_prod\u001b[0m\u001b[0;34m(\u001b[0m\u001b[0mvec1\u001b[0m\u001b[0;34m,\u001b[0m \u001b[0mvec2\u001b[0m\u001b[0;34m)\u001b[0m\u001b[0;34m:\u001b[0m\u001b[0;34m\u001b[0m\u001b[0;34m\u001b[0m\u001b[0m\n\u001b[0;32m----> 2\u001b[0;31m   \u001b[0;32mreturn\u001b[0m \u001b[0mnp\u001b[0m\u001b[0;34m.\u001b[0m\u001b[0mdot\u001b[0m\u001b[0;34m(\u001b[0m\u001b[0mvec1\u001b[0m\u001b[0;34m,\u001b[0m \u001b[0mvec2\u001b[0m\u001b[0;34m)\u001b[0m\u001b[0;34m\u001b[0m\u001b[0;34m\u001b[0m\u001b[0m\n\u001b[0m",
            "\u001b[0;32m<__array_function__ internals>\u001b[0m in \u001b[0;36mdot\u001b[0;34m(*args, **kwargs)\u001b[0m\n",
            "\u001b[0;31mValueError\u001b[0m: shapes (4,) and (3,) not aligned: 4 (dim 0) != 3 (dim 0)"
          ]
        }
      ]
    },
    {
      "cell_type": "code",
      "metadata": {
        "id": "e3ZiN2CM3nRd",
        "colab_type": "code",
        "colab": {}
      },
      "source": [
        "# Now let's write a function that calculates the norm of any vector\n",
        "def norm_calc(vec):\n",
        "  return np.linalg.norm(vec)"
      ],
      "execution_count": 0,
      "outputs": []
    },
    {
      "cell_type": "code",
      "metadata": {
        "id": "Pj7TmrAm3rop",
        "colab_type": "code",
        "colab": {
          "base_uri": "https://localhost:8080/",
          "height": 50
        },
        "outputId": "a8150aa0-ab2c-435b-b461-51f9e8f4471d"
      },
      "source": [
        "# Let's use the vectors we created above to check if this works. Let's compare\n",
        "# the first one with the numpy code to ensure our function works correctly\n",
        "print(norm_calc(vec_a))\n",
        "np.linalg.norm(vec_a)"
      ],
      "execution_count": 58,
      "outputs": [
        {
          "output_type": "stream",
          "text": [
            "21.400934559032695\n"
          ],
          "name": "stdout"
        },
        {
          "output_type": "execute_result",
          "data": {
            "text/plain": [
              "21.400934559032695"
            ]
          },
          "metadata": {
            "tags": []
          },
          "execution_count": 58
        }
      ]
    },
    {
      "cell_type": "code",
      "metadata": {
        "id": "ktZNjpmz3uE0",
        "colab_type": "code",
        "colab": {
          "base_uri": "https://localhost:8080/",
          "height": 98
        },
        "outputId": "21961ad2-364d-4a9d-a5ca-3d8b7b9046aa"
      },
      "source": [
        "# Now let's find the norm of the rest\n",
        "print(norm_calc(vec_b)) \n",
        "print(norm_calc(vec_c)) \n",
        "print(norm_calc(vec_d)) \n",
        "print(norm_calc(vec_e)) \n",
        "print(norm_calc(vec_f)) "
      ],
      "execution_count": 59,
      "outputs": [
        {
          "output_type": "stream",
          "text": [
            "18.788294228055936\n",
            "14.071247279470288\n",
            "14.177446878757825\n",
            "28.722813232690143\n",
            "23.08679276123039\n"
          ],
          "name": "stdout"
        }
      ]
    },
    {
      "cell_type": "code",
      "metadata": {
        "id": "CQyxgASd3wIs",
        "colab_type": "code",
        "colab": {}
      },
      "source": [
        "# Create a random matrix\n",
        "Z = np.array([[random.randint(0,20), random.randint(0,20), random.randint(0,20)],\n",
        "             [random.randint(0,20), random.randint(0,20), random.randint(0,20)],\n",
        "    ])"
      ],
      "execution_count": 0,
      "outputs": []
    },
    {
      "cell_type": "code",
      "metadata": {
        "id": "KckRgX0Y3y3l",
        "colab_type": "code",
        "colab": {
          "base_uri": "https://localhost:8080/",
          "height": 105
        },
        "outputId": "09b0a105-eea4-4374-93ed-256e9086b8f1"
      },
      "source": [
        "# Get a look at the values\n",
        "pd.DataFrame(Z)"
      ],
      "execution_count": 61,
      "outputs": [
        {
          "output_type": "execute_result",
          "data": {
            "text/html": [
              "<div>\n",
              "<style scoped>\n",
              "    .dataframe tbody tr th:only-of-type {\n",
              "        vertical-align: middle;\n",
              "    }\n",
              "\n",
              "    .dataframe tbody tr th {\n",
              "        vertical-align: top;\n",
              "    }\n",
              "\n",
              "    .dataframe thead th {\n",
              "        text-align: right;\n",
              "    }\n",
              "</style>\n",
              "<table border=\"1\" class=\"dataframe\">\n",
              "  <thead>\n",
              "    <tr style=\"text-align: right;\">\n",
              "      <th></th>\n",
              "      <th>0</th>\n",
              "      <th>1</th>\n",
              "      <th>2</th>\n",
              "    </tr>\n",
              "  </thead>\n",
              "  <tbody>\n",
              "    <tr>\n",
              "      <th>0</th>\n",
              "      <td>17</td>\n",
              "      <td>16</td>\n",
              "      <td>1</td>\n",
              "    </tr>\n",
              "    <tr>\n",
              "      <th>1</th>\n",
              "      <td>1</td>\n",
              "      <td>2</td>\n",
              "      <td>4</td>\n",
              "    </tr>\n",
              "  </tbody>\n",
              "</table>\n",
              "</div>"
            ],
            "text/plain": [
              "    0   1  2\n",
              "0  17  16  1\n",
              "1   1   2  4"
            ]
          },
          "metadata": {
            "tags": []
          },
          "execution_count": 61
        }
      ]
    },
    {
      "cell_type": "code",
      "metadata": {
        "id": "1Edldj-N308q",
        "colab_type": "code",
        "colab": {
          "base_uri": "https://localhost:8080/",
          "height": 268
        },
        "outputId": "457e07ce-9594-4846-e602-a8467291b04b"
      },
      "source": [
        "# Graph it!\n",
        "fig, ax = plt.subplots()\n",
        "ax.grid()\n",
        "plt.xlim(-1, 20)\n",
        "plt.ylim(-1, 20)\n",
        "\n",
        "for mycolor, matrix in [('red', Z[0]), ('red', Z[1])]:\n",
        "  plt.arrow(0, 0, \n",
        "          matrix[0],\n",
        "          matrix[1],\n",
        "          head_width=0.2,\n",
        "          head_length=0.2,\n",
        "          linewidth=3,\n",
        "          color=mycolor)\n",
        "\n",
        "plt.show();"
      ],
      "execution_count": 62,
      "outputs": [
        {
          "output_type": "display_data",
          "data": {
            "image/png": "[encoded data removed]",
            "text/plain": [
              "<Figure size 432x288 with 1 Axes>"
            ]
          },
          "metadata": {
            "tags": []
          }
        }
      ]
    },
    {
      "cell_type": "code",
      "metadata": {
        "id": "_14QDhAA33QP",
        "colab_type": "code",
        "colab": {}
      },
      "source": [
        "# Create a second matrix\n",
        "Y = np.array([[random.randint(0,20), random.randint(0,20), random.randint(0,20)],\n",
        "             [random.randint(0,20), random.randint(0,20), random.randint(0,20)],\n",
        "    ])"
      ],
      "execution_count": 0,
      "outputs": []
    },
    {
      "cell_type": "code",
      "metadata": {
        "id": "BR_H2vM235SO",
        "colab_type": "code",
        "colab": {
          "base_uri": "https://localhost:8080/",
          "height": 105
        },
        "outputId": "604d3c51-b612-42ae-a31d-fb62f3a71844"
      },
      "source": [
        "# Get a look at its values\n",
        "pd.DataFrame(Y)"
      ],
      "execution_count": 64,
      "outputs": [
        {
          "output_type": "execute_result",
          "data": {
            "text/html": [
              "<div>\n",
              "<style scoped>\n",
              "    .dataframe tbody tr th:only-of-type {\n",
              "        vertical-align: middle;\n",
              "    }\n",
              "\n",
              "    .dataframe tbody tr th {\n",
              "        vertical-align: top;\n",
              "    }\n",
              "\n",
              "    .dataframe thead th {\n",
              "        text-align: right;\n",
              "    }\n",
              "</style>\n",
              "<table border=\"1\" class=\"dataframe\">\n",
              "  <thead>\n",
              "    <tr style=\"text-align: right;\">\n",
              "      <th></th>\n",
              "      <th>0</th>\n",
              "      <th>1</th>\n",
              "      <th>2</th>\n",
              "    </tr>\n",
              "  </thead>\n",
              "  <tbody>\n",
              "    <tr>\n",
              "      <th>0</th>\n",
              "      <td>6</td>\n",
              "      <td>17</td>\n",
              "      <td>16</td>\n",
              "    </tr>\n",
              "    <tr>\n",
              "      <th>1</th>\n",
              "      <td>19</td>\n",
              "      <td>6</td>\n",
              "      <td>13</td>\n",
              "    </tr>\n",
              "  </tbody>\n",
              "</table>\n",
              "</div>"
            ],
            "text/plain": [
              "    0   1   2\n",
              "0   6  17  16\n",
              "1  19   6  13"
            ]
          },
          "metadata": {
            "tags": []
          },
          "execution_count": 64
        }
      ]
    },
    {
      "cell_type": "code",
      "metadata": {
        "id": "Gfe5Nb1P37Iy",
        "colab_type": "code",
        "colab": {
          "base_uri": "https://localhost:8080/",
          "height": 33
        },
        "outputId": "c70d9558-0480-45b7-c0ea-0675baa60d68"
      },
      "source": [
        "# Checking what Y[position] actually means\n",
        "Y[0]"
      ],
      "execution_count": 65,
      "outputs": [
        {
          "output_type": "execute_result",
          "data": {
            "text/plain": [
              "array([ 6, 17, 16])"
            ]
          },
          "metadata": {
            "tags": []
          },
          "execution_count": 65
        }
      ]
    },
    {
      "cell_type": "code",
      "metadata": {
        "id": "AZchHHIC38xl",
        "colab_type": "code",
        "colab": {
          "base_uri": "https://localhost:8080/",
          "height": 33
        },
        "outputId": "26397e14-f5d6-4224-c72c-0c4083343a08"
      },
      "source": [
        "Y[1]"
      ],
      "execution_count": 66,
      "outputs": [
        {
          "output_type": "execute_result",
          "data": {
            "text/plain": [
              "array([19,  6, 13])"
            ]
          },
          "metadata": {
            "tags": []
          },
          "execution_count": 66
        }
      ]
    },
    {
      "cell_type": "code",
      "metadata": {
        "id": "RpoLybz33-ke",
        "colab_type": "code",
        "colab": {
          "base_uri": "https://localhost:8080/",
          "height": 268
        },
        "outputId": "94e804f0-d5ca-490c-965d-e6a91470a402"
      },
      "source": [
        "# Graph it\n",
        "fig, ax = plt.subplots()\n",
        "ax.grid()\n",
        "plt.xlim(-1, 20)\n",
        "plt.ylim(-1, 20)\n",
        "\n",
        "for mycolor, matrix in [('green', Y[0]), ('green', Y[1])]:\n",
        "  plt.arrow(0, 0, \n",
        "          matrix[0],\n",
        "          matrix[1],\n",
        "          head_width=0.2,\n",
        "          head_length=0.2,\n",
        "          linewidth=3,\n",
        "          color=mycolor)\n",
        "\n",
        "plt.show();"
      ],
      "execution_count": 67,
      "outputs": [
        {
          "output_type": "display_data",
          "data": {
            "image/png": "[encoded data removed]",
            "text/plain": [
              "<Figure size 432x288 with 1 Axes>"
            ]
          },
          "metadata": {
            "tags": []
          }
        }
      ]
    },
    {
      "cell_type": "code",
      "metadata": {
        "id": "cFvDha9l4BMq",
        "colab_type": "code",
        "colab": {
          "base_uri": "https://localhost:8080/",
          "height": 268
        },
        "outputId": "0dbbc9c7-3260-48b8-e15a-fccdd1b21a0e"
      },
      "source": [
        "# Let's try graphing them together now!\n",
        "fig, ax = plt.subplots()\n",
        "ax.grid()\n",
        "plt.xlim(-1, 20)\n",
        "plt.ylim(-1, 20)\n",
        "\n",
        "for mycolor, matrix in [('red', Z[0]), ('red', Z[1]),\n",
        "                        ('green', Y[0]), ('green', Y[1])]:\n",
        "  plt.arrow(0, 0, \n",
        "          matrix[0],\n",
        "          matrix[1],\n",
        "          head_width=0.2,\n",
        "          head_length=0.2,\n",
        "          linewidth=3,\n",
        "          color=mycolor)\n",
        "\n",
        "plt.show();"
      ],
      "execution_count": 68,
      "outputs": [
        {
          "output_type": "display_data",
          "data": {
            "image/png": "[encoded data removed]",
            "text/plain": [
              "<Figure size 432x288 with 1 Axes>"
            ]
          },
          "metadata": {
            "tags": []
          }
        }
      ]
    },
    {
      "cell_type": "code",
      "metadata": {
        "id": "cu6bsN7v4Ddc",
        "colab_type": "code",
        "colab": {}
      },
      "source": [
        "# Let's practice some more!\n",
        "X = np.array([[random.randint(0,100), random.randint(0,100), random.randint(0,100), random.randint(0,100), random.randint(0,100)],\n",
        "              [random.randint(0,100), random.randint(0,100), random.randint(0,100), random.randint(0,100), random.randint(0,100)]])"
      ],
      "execution_count": 0,
      "outputs": []
    },
    {
      "cell_type": "code",
      "metadata": {
        "id": "p7Qh86Ln4FxP",
        "colab_type": "code",
        "colab": {
          "base_uri": "https://localhost:8080/",
          "height": 105
        },
        "outputId": "e6067d0b-92a2-48b5-ee5e-c4887b4583aa"
      },
      "source": [
        "pd.DataFrame(X)"
      ],
      "execution_count": 70,
      "outputs": [
        {
          "output_type": "execute_result",
          "data": {
            "text/html": [
              "<div>\n",
              "<style scoped>\n",
              "    .dataframe tbody tr th:only-of-type {\n",
              "        vertical-align: middle;\n",
              "    }\n",
              "\n",
              "    .dataframe tbody tr th {\n",
              "        vertical-align: top;\n",
              "    }\n",
              "\n",
              "    .dataframe thead th {\n",
              "        text-align: right;\n",
              "    }\n",
              "</style>\n",
              "<table border=\"1\" class=\"dataframe\">\n",
              "  <thead>\n",
              "    <tr style=\"text-align: right;\">\n",
              "      <th></th>\n",
              "      <th>0</th>\n",
              "      <th>1</th>\n",
              "      <th>2</th>\n",
              "      <th>3</th>\n",
              "      <th>4</th>\n",
              "    </tr>\n",
              "  </thead>\n",
              "  <tbody>\n",
              "    <tr>\n",
              "      <th>0</th>\n",
              "      <td>22</td>\n",
              "      <td>7</td>\n",
              "      <td>57</td>\n",
              "      <td>38</td>\n",
              "      <td>59</td>\n",
              "    </tr>\n",
              "    <tr>\n",
              "      <th>1</th>\n",
              "      <td>52</td>\n",
              "      <td>59</td>\n",
              "      <td>87</td>\n",
              "      <td>77</td>\n",
              "      <td>46</td>\n",
              "    </tr>\n",
              "  </tbody>\n",
              "</table>\n",
              "</div>"
            ],
            "text/plain": [
              "    0   1   2   3   4\n",
              "0  22   7  57  38  59\n",
              "1  52  59  87  77  46"
            ]
          },
          "metadata": {
            "tags": []
          },
          "execution_count": 70
        }
      ]
    },
    {
      "cell_type": "code",
      "metadata": {
        "id": "PFFeoBAj4HtZ",
        "colab_type": "code",
        "colab": {}
      },
      "source": [
        "W = np.array([[random.randint(0,100), random.randint(0,100), random.randint(0,100), random.randint(0,100), random.randint(0,100)],\n",
        "              [random.randint(0,100), random.randint(0,100), random.randint(0,100), random.randint(0,100), random.randint(0,100)]])"
      ],
      "execution_count": 0,
      "outputs": []
    },
    {
      "cell_type": "code",
      "metadata": {
        "id": "b01I0t6n4Jec",
        "colab_type": "code",
        "colab": {
          "base_uri": "https://localhost:8080/",
          "height": 105
        },
        "outputId": "b16a99c9-0953-4e7d-d787-568a257721ae"
      },
      "source": [
        "pd.DataFrame(W)"
      ],
      "execution_count": 72,
      "outputs": [
        {
          "output_type": "execute_result",
          "data": {
            "text/html": [
              "<div>\n",
              "<style scoped>\n",
              "    .dataframe tbody tr th:only-of-type {\n",
              "        vertical-align: middle;\n",
              "    }\n",
              "\n",
              "    .dataframe tbody tr th {\n",
              "        vertical-align: top;\n",
              "    }\n",
              "\n",
              "    .dataframe thead th {\n",
              "        text-align: right;\n",
              "    }\n",
              "</style>\n",
              "<table border=\"1\" class=\"dataframe\">\n",
              "  <thead>\n",
              "    <tr style=\"text-align: right;\">\n",
              "      <th></th>\n",
              "      <th>0</th>\n",
              "      <th>1</th>\n",
              "      <th>2</th>\n",
              "      <th>3</th>\n",
              "      <th>4</th>\n",
              "    </tr>\n",
              "  </thead>\n",
              "  <tbody>\n",
              "    <tr>\n",
              "      <th>0</th>\n",
              "      <td>37</td>\n",
              "      <td>27</td>\n",
              "      <td>20</td>\n",
              "      <td>74</td>\n",
              "      <td>69</td>\n",
              "    </tr>\n",
              "    <tr>\n",
              "      <th>1</th>\n",
              "      <td>41</td>\n",
              "      <td>16</td>\n",
              "      <td>11</td>\n",
              "      <td>33</td>\n",
              "      <td>55</td>\n",
              "    </tr>\n",
              "  </tbody>\n",
              "</table>\n",
              "</div>"
            ],
            "text/plain": [
              "    0   1   2   3   4\n",
              "0  37  27  20  74  69\n",
              "1  41  16  11  33  55"
            ]
          },
          "metadata": {
            "tags": []
          },
          "execution_count": 72
        }
      ]
    },
    {
      "cell_type": "code",
      "metadata": {
        "id": "Fku-4C954K9J",
        "colab_type": "code",
        "colab": {}
      },
      "source": [
        "V = np.array([[random.randint(0,100), random.randint(0,100), random.randint(0,100), random.randint(0,100), random.randint(0,100)],\n",
        "              [random.randint(0,100), random.randint(0,100), random.randint(0,100), random.randint(0,100), random.randint(0,100)]])"
      ],
      "execution_count": 0,
      "outputs": []
    },
    {
      "cell_type": "code",
      "metadata": {
        "id": "dIz-EZEY67Mk",
        "colab_type": "code",
        "colab": {
          "base_uri": "https://localhost:8080/",
          "height": 105
        },
        "outputId": "5a793e98-4d5d-4fc3-e547-41f3604915f5"
      },
      "source": [
        "pd.DataFrame(V)"
      ],
      "execution_count": 74,
      "outputs": [
        {
          "output_type": "execute_result",
          "data": {
            "text/html": [
              "<div>\n",
              "<style scoped>\n",
              "    .dataframe tbody tr th:only-of-type {\n",
              "        vertical-align: middle;\n",
              "    }\n",
              "\n",
              "    .dataframe tbody tr th {\n",
              "        vertical-align: top;\n",
              "    }\n",
              "\n",
              "    .dataframe thead th {\n",
              "        text-align: right;\n",
              "    }\n",
              "</style>\n",
              "<table border=\"1\" class=\"dataframe\">\n",
              "  <thead>\n",
              "    <tr style=\"text-align: right;\">\n",
              "      <th></th>\n",
              "      <th>0</th>\n",
              "      <th>1</th>\n",
              "      <th>2</th>\n",
              "      <th>3</th>\n",
              "      <th>4</th>\n",
              "    </tr>\n",
              "  </thead>\n",
              "  <tbody>\n",
              "    <tr>\n",
              "      <th>0</th>\n",
              "      <td>12</td>\n",
              "      <td>92</td>\n",
              "      <td>45</td>\n",
              "      <td>62</td>\n",
              "      <td>8</td>\n",
              "    </tr>\n",
              "    <tr>\n",
              "      <th>1</th>\n",
              "      <td>9</td>\n",
              "      <td>97</td>\n",
              "      <td>60</td>\n",
              "      <td>79</td>\n",
              "      <td>68</td>\n",
              "    </tr>\n",
              "  </tbody>\n",
              "</table>\n",
              "</div>"
            ],
            "text/plain": [
              "    0   1   2   3   4\n",
              "0  12  92  45  62   8\n",
              "1   9  97  60  79  68"
            ]
          },
          "metadata": {
            "tags": []
          },
          "execution_count": 74
        }
      ]
    },
    {
      "cell_type": "code",
      "metadata": {
        "id": "hKR3LSvD69JN",
        "colab_type": "code",
        "colab": {
          "base_uri": "https://localhost:8080/",
          "height": 268
        },
        "outputId": "29ca24a6-c0ef-4c70-a3f8-6ef0f9a31236"
      },
      "source": [
        "# Now graph these three together!\n",
        "fig, ax = plt.subplots()\n",
        "ax.grid()\n",
        "plt.xlim(-1, 100)\n",
        "plt.ylim(-1, 100)\n",
        "\n",
        "for mycolor, matrix in [('purple', X[0]), ('purple', X[1]),\n",
        "                        ('maroon', W[0]), ('maroon', W[1]),\n",
        "                        ('magenta', V[0]), ('magenta', V[1])]:\n",
        "  plt.arrow(0, 0, \n",
        "          matrix[0],\n",
        "          matrix[1],\n",
        "          head_width=0.2,\n",
        "          head_length=0.2,\n",
        "          linewidth=3,\n",
        "          color=mycolor)\n",
        "\n",
        "plt.show();"
      ],
      "execution_count": 75,
      "outputs": [
        {
          "output_type": "display_data",
          "data": {
            "image/png": "[encoded data removed]",
            "text/plain": [
              "<Figure size 432x288 with 1 Axes>"
            ]
          },
          "metadata": {
            "tags": []
          }
        }
      ]
    },
    {
      "cell_type": "code",
      "metadata": {
        "id": "XQoeVrd96_lO",
        "colab_type": "code",
        "colab": {}
      },
      "source": [
        "# Let's create a function specifically for creating random 2 Dimensional matrices\n",
        "# using given range and number of columns desired\n",
        "def matrix_2D_creator(min, max, numcolumns):\n",
        "  first_row = []\n",
        "  second_row = []\n",
        "  for count in range (numcolumns):\n",
        "    first_row.append(random.randint(min,max))\n",
        "    second_row.append(random.randint(min,max))\n",
        "  return np.array([first_row,\n",
        "                  second_row])"
      ],
      "execution_count": 0,
      "outputs": []
    },
    {
      "cell_type": "code",
      "metadata": {
        "id": "_aYS_7hL7Cw_",
        "colab_type": "code",
        "colab": {
          "base_uri": "https://localhost:8080/",
          "height": 50
        },
        "outputId": "147e5620-4c7a-455a-d1c2-5c267c72641f"
      },
      "source": [
        "matrix_2D_creator(0, 10, 4)"
      ],
      "execution_count": 77,
      "outputs": [
        {
          "output_type": "execute_result",
          "data": {
            "text/plain": [
              "array([[1, 0, 5, 7],\n",
              "       [4, 4, 8, 7]])"
            ]
          },
          "metadata": {
            "tags": []
          },
          "execution_count": 77
        }
      ]
    },
    {
      "cell_type": "code",
      "metadata": {
        "id": "Dws-x8vE7E8m",
        "colab_type": "code",
        "colab": {
          "base_uri": "https://localhost:8080/",
          "height": 50
        },
        "outputId": "7357d168-e622-4401-9207-8ceaf53dc393"
      },
      "source": [
        "matrix_2D_creator(0, 20, 2)"
      ],
      "execution_count": 78,
      "outputs": [
        {
          "output_type": "execute_result",
          "data": {
            "text/plain": [
              "array([[18, 14],\n",
              "       [ 3,  1]])"
            ]
          },
          "metadata": {
            "tags": []
          },
          "execution_count": 78
        }
      ]
    },
    {
      "cell_type": "code",
      "metadata": {
        "id": "jEWMayAA7GWP",
        "colab_type": "code",
        "colab": {
          "base_uri": "https://localhost:8080/",
          "height": 50
        },
        "outputId": "6c271417-ed30-4cd5-8ef8-f0b8fb4d6ad8"
      },
      "source": [
        "matrix_2D_creator(10, 50, 10)"
      ],
      "execution_count": 79,
      "outputs": [
        {
          "output_type": "execute_result",
          "data": {
            "text/plain": [
              "array([[13, 44, 45, 18, 45, 13, 11, 16, 34, 36],\n",
              "       [24, 39, 20, 27, 28, 50, 50, 38, 24, 36]])"
            ]
          },
          "metadata": {
            "tags": []
          },
          "execution_count": 79
        }
      ]
    },
    {
      "cell_type": "code",
      "metadata": {
        "id": "O1jUt5I27ID_",
        "colab_type": "code",
        "colab": {}
      },
      "source": [
        "# Now let's create a function that will graph 3 given 2-Dimensional matrices\n",
        "def matrix_grapher(matrix1, color1, matrix2, color2, matrix3, color3, xmin, xmax, ymin, ymax):\n",
        "    fig, ax = plt.subplots()\n",
        "    ax.grid()\n",
        "    plt.xlim(xmin, xmax)\n",
        "    plt.ylim(ymin, ymax)\n",
        "\n",
        "    for mycolor, matrix in [(color1, matrix1[0]), (color1, matrix1[1]),\n",
        "                            (color2, matrix2[0]), (color2, matrix2[1]),\n",
        "                            (color3, matrix3[0]), (color3, matrix3[1])]:\n",
        "      plt.arrow(0, 0, \n",
        "              matrix[0],\n",
        "              matrix[1],\n",
        "              head_width=0.2,\n",
        "              head_length=0.2,\n",
        "              linewidth=3,\n",
        "              color=mycolor)\n",
        "\n",
        "    plt.show();"
      ],
      "execution_count": 0,
      "outputs": []
    },
    {
      "cell_type": "code",
      "metadata": {
        "id": "oFgJbrCD7KvQ",
        "colab_type": "code",
        "colab": {
          "base_uri": "https://localhost:8080/",
          "height": 268
        },
        "outputId": "6d1771f1-e90c-4d99-fa19-410f139a18ef"
      },
      "source": [
        "# Let's make sure our function works\n",
        "matrix_grapher(X, 'purple', W, 'maroon', V, 'magenta', -1, 100, -1, 100)"
      ],
      "execution_count": 81,
      "outputs": [
        {
          "output_type": "display_data",
          "data": {
            "image/png": "[encoded data removed]",
            "text/plain": [
              "<Figure size 432x288 with 1 Axes>"
            ]
          },
          "metadata": {
            "tags": []
          }
        }
      ]
    },
    {
      "cell_type": "code",
      "metadata": {
        "id": "wLG3-wd17NKP",
        "colab_type": "code",
        "colab": {}
      },
      "source": [
        "# Now let's create some matrices and visualize them on a 2D graph!"
      ],
      "execution_count": 0,
      "outputs": []
    },
    {
      "cell_type": "code",
      "metadata": {
        "id": "8a_R-Zk37P--",
        "colab_type": "code",
        "colab": {}
      },
      "source": [
        "Q = matrix_2D_creator(0, 25, 5)\n",
        "R = matrix_2D_creator(0, 25, 5)\n",
        "S = matrix_2D_creator(0, 25, 5)\n",
        "T = matrix_2D_creator(50, 200, 10)\n",
        "U = matrix_2D_creator(50, 200, 10)\n",
        "V = matrix_2D_creator(50, 200, 10)"
      ],
      "execution_count": 0,
      "outputs": []
    },
    {
      "cell_type": "code",
      "metadata": {
        "id": "gnf14l-I7R7v",
        "colab_type": "code",
        "colab": {
          "base_uri": "https://localhost:8080/",
          "height": 50
        },
        "outputId": "f098ceb4-ff0b-4a17-c5e0-55191d267f8d"
      },
      "source": [
        "Q"
      ],
      "execution_count": 84,
      "outputs": [
        {
          "output_type": "execute_result",
          "data": {
            "text/plain": [
              "array([[ 1, 18, 18, 22, 25],\n",
              "       [ 4, 15,  7, 22, 23]])"
            ]
          },
          "metadata": {
            "tags": []
          },
          "execution_count": 84
        }
      ]
    },
    {
      "cell_type": "code",
      "metadata": {
        "id": "J1Ez0TJO7T3X",
        "colab_type": "code",
        "colab": {
          "base_uri": "https://localhost:8080/",
          "height": 268
        },
        "outputId": "2b50c6b9-1562-4c03-9156-64b7754872de"
      },
      "source": [
        "# Graph the first three\n",
        "matrix_grapher(Q, 'gold', R, 'silver', S, 'magenta', 0, 30, 0, 30)"
      ],
      "execution_count": 85,
      "outputs": [
        {
          "output_type": "display_data",
          "data": {
            "image/png": "[encoded data removed]",
            "text/plain": [
              "<Figure size 432x288 with 1 Axes>"
            ]
          },
          "metadata": {
            "tags": []
          }
        }
      ]
    },
    {
      "cell_type": "code",
      "metadata": {
        "id": "NtwuKerT7Vo_",
        "colab_type": "code",
        "colab": {
          "base_uri": "https://localhost:8080/",
          "height": 268
        },
        "outputId": "0edb8e60-5a09-4726-ab49-2754f44c4784"
      },
      "source": [
        "# Graph the second three\n",
        "matrix_grapher(T, 'red', U, 'green', V, 'blue', 0, 200, 0, 200)"
      ],
      "execution_count": 86,
      "outputs": [
        {
          "output_type": "display_data",
          "data": {
            "image/png": "[encoded data removed]",
            "text/plain": [
              "<Figure size 432x288 with 1 Axes>"
            ]
          },
          "metadata": {
            "tags": []
          }
        }
      ]
    },
    {
      "cell_type": "code",
      "metadata": {
        "id": "Q0b8cXaS7XN_",
        "colab_type": "code",
        "colab": {}
      },
      "source": [
        "# Function that creates random 3-dimensional matrices\n",
        "# using given range and number of columns desired\n",
        "def matrix_3D_creator(min, max, numcolumns):\n",
        "  first_row = []\n",
        "  second_row = []\n",
        "  third_row = []\n",
        "  for count in range (numcolumns):\n",
        "    first_row.append(random.randint(min,max))\n",
        "    second_row.append(random.randint(min,max))\n",
        "    third_row.append(random.randint(min,max))\n",
        "  return np.array([first_row,\n",
        "                  second_row,\n",
        "                   third_row])"
      ],
      "execution_count": 0,
      "outputs": []
    },
    {
      "cell_type": "code",
      "metadata": {
        "id": "e0Wl5d6B7ZqQ",
        "colab_type": "code",
        "colab": {
          "base_uri": "https://localhost:8080/",
          "height": 133
        },
        "outputId": "856661b0-c628-423e-bcbe-801a51761e65"
      },
      "source": [
        "# Test out our function\n",
        "AA = matrix_3D_creator(0, 20, 4)\n",
        "pd.DataFrame(AA)"
      ],
      "execution_count": 88,
      "outputs": [
        {
          "output_type": "execute_result",
          "data": {
            "text/html": [
              "<div>\n",
              "<style scoped>\n",
              "    .dataframe tbody tr th:only-of-type {\n",
              "        vertical-align: middle;\n",
              "    }\n",
              "\n",
              "    .dataframe tbody tr th {\n",
              "        vertical-align: top;\n",
              "    }\n",
              "\n",
              "    .dataframe thead th {\n",
              "        text-align: right;\n",
              "    }\n",
              "</style>\n",
              "<table border=\"1\" class=\"dataframe\">\n",
              "  <thead>\n",
              "    <tr style=\"text-align: right;\">\n",
              "      <th></th>\n",
              "      <th>0</th>\n",
              "      <th>1</th>\n",
              "      <th>2</th>\n",
              "      <th>3</th>\n",
              "    </tr>\n",
              "  </thead>\n",
              "  <tbody>\n",
              "    <tr>\n",
              "      <th>0</th>\n",
              "      <td>1</td>\n",
              "      <td>2</td>\n",
              "      <td>12</td>\n",
              "      <td>17</td>\n",
              "    </tr>\n",
              "    <tr>\n",
              "      <th>1</th>\n",
              "      <td>11</td>\n",
              "      <td>1</td>\n",
              "      <td>6</td>\n",
              "      <td>20</td>\n",
              "    </tr>\n",
              "    <tr>\n",
              "      <th>2</th>\n",
              "      <td>2</td>\n",
              "      <td>18</td>\n",
              "      <td>7</td>\n",
              "      <td>14</td>\n",
              "    </tr>\n",
              "  </tbody>\n",
              "</table>\n",
              "</div>"
            ],
            "text/plain": [
              "    0   1   2   3\n",
              "0   1   2  12  17\n",
              "1  11   1   6  20\n",
              "2   2  18   7  14"
            ]
          },
          "metadata": {
            "tags": []
          },
          "execution_count": 88
        }
      ]
    },
    {
      "cell_type": "code",
      "metadata": {
        "id": "wXhcKH8K7cMA",
        "colab_type": "code",
        "colab": {
          "base_uri": "https://localhost:8080/",
          "height": 133
        },
        "outputId": "3a96f4c3-9f43-4b7a-f0e7-75693dce008f"
      },
      "source": [
        "BB = matrix_3D_creator(0, 50, 6)\n",
        "pd.DataFrame(BB)"
      ],
      "execution_count": 89,
      "outputs": [
        {
          "output_type": "execute_result",
          "data": {
            "text/html": [
              "<div>\n",
              "<style scoped>\n",
              "    .dataframe tbody tr th:only-of-type {\n",
              "        vertical-align: middle;\n",
              "    }\n",
              "\n",
              "    .dataframe tbody tr th {\n",
              "        vertical-align: top;\n",
              "    }\n",
              "\n",
              "    .dataframe thead th {\n",
              "        text-align: right;\n",
              "    }\n",
              "</style>\n",
              "<table border=\"1\" class=\"dataframe\">\n",
              "  <thead>\n",
              "    <tr style=\"text-align: right;\">\n",
              "      <th></th>\n",
              "      <th>0</th>\n",
              "      <th>1</th>\n",
              "      <th>2</th>\n",
              "      <th>3</th>\n",
              "      <th>4</th>\n",
              "      <th>5</th>\n",
              "    </tr>\n",
              "  </thead>\n",
              "  <tbody>\n",
              "    <tr>\n",
              "      <th>0</th>\n",
              "      <td>28</td>\n",
              "      <td>34</td>\n",
              "      <td>33</td>\n",
              "      <td>47</td>\n",
              "      <td>38</td>\n",
              "      <td>11</td>\n",
              "    </tr>\n",
              "    <tr>\n",
              "      <th>1</th>\n",
              "      <td>41</td>\n",
              "      <td>50</td>\n",
              "      <td>5</td>\n",
              "      <td>42</td>\n",
              "      <td>0</td>\n",
              "      <td>27</td>\n",
              "    </tr>\n",
              "    <tr>\n",
              "      <th>2</th>\n",
              "      <td>11</td>\n",
              "      <td>28</td>\n",
              "      <td>38</td>\n",
              "      <td>18</td>\n",
              "      <td>15</td>\n",
              "      <td>43</td>\n",
              "    </tr>\n",
              "  </tbody>\n",
              "</table>\n",
              "</div>"
            ],
            "text/plain": [
              "    0   1   2   3   4   5\n",
              "0  28  34  33  47  38  11\n",
              "1  41  50   5  42   0  27\n",
              "2  11  28  38  18  15  43"
            ]
          },
          "metadata": {
            "tags": []
          },
          "execution_count": 89
        }
      ]
    },
    {
      "cell_type": "code",
      "metadata": {
        "id": "BQJycDmp7eCZ",
        "colab_type": "code",
        "colab": {
          "base_uri": "https://localhost:8080/",
          "height": 133
        },
        "outputId": "b966fa3f-1a6b-40e8-f7f6-9ca6cb9ac89a"
      },
      "source": [
        "CC = matrix_3D_creator(0, 100, 3)\n",
        "pd.DataFrame(CC)"
      ],
      "execution_count": 90,
      "outputs": [
        {
          "output_type": "execute_result",
          "data": {
            "text/html": [
              "<div>\n",
              "<style scoped>\n",
              "    .dataframe tbody tr th:only-of-type {\n",
              "        vertical-align: middle;\n",
              "    }\n",
              "\n",
              "    .dataframe tbody tr th {\n",
              "        vertical-align: top;\n",
              "    }\n",
              "\n",
              "    .dataframe thead th {\n",
              "        text-align: right;\n",
              "    }\n",
              "</style>\n",
              "<table border=\"1\" class=\"dataframe\">\n",
              "  <thead>\n",
              "    <tr style=\"text-align: right;\">\n",
              "      <th></th>\n",
              "      <th>0</th>\n",
              "      <th>1</th>\n",
              "      <th>2</th>\n",
              "    </tr>\n",
              "  </thead>\n",
              "  <tbody>\n",
              "    <tr>\n",
              "      <th>0</th>\n",
              "      <td>10</td>\n",
              "      <td>79</td>\n",
              "      <td>57</td>\n",
              "    </tr>\n",
              "    <tr>\n",
              "      <th>1</th>\n",
              "      <td>16</td>\n",
              "      <td>92</td>\n",
              "      <td>28</td>\n",
              "    </tr>\n",
              "    <tr>\n",
              "      <th>2</th>\n",
              "      <td>26</td>\n",
              "      <td>76</td>\n",
              "      <td>19</td>\n",
              "    </tr>\n",
              "  </tbody>\n",
              "</table>\n",
              "</div>"
            ],
            "text/plain": [
              "    0   1   2\n",
              "0  10  79  57\n",
              "1  16  92  28\n",
              "2  26  76  19"
            ]
          },
          "metadata": {
            "tags": []
          },
          "execution_count": 90
        }
      ]
    },
    {
      "cell_type": "code",
      "metadata": {
        "id": "h9WUxCDn7fw4",
        "colab_type": "code",
        "colab": {}
      },
      "source": [
        "# Now let's create a function that plots given matrices onto a 3D graph; \n",
        "# can go from 1 to 6 columns\n",
        "def matrix_3D_Grapher(columnnumbs, matrix, color1, color2, color3, xmin, xmax, ymin, ymax, zmin, zmax):\n",
        "  if columnnumbs == 1:\n",
        "    mat = np.array([[0, 0, 0, 0, 0, matrix[0]],\n",
        "                   [0, 0, 0, 0, 0, matrix[1]],\n",
        "                   [0, 0, 0, 0, 0, matrix[2]]])\n",
        "    \n",
        "  if columnnumbs == 2:\n",
        "    mat = np.array([[0, 0, 0, 0, matrix[0][0], matrix[0][1]],\n",
        "                   [0, 0, 0, 0, matrix[1][0], matrix[1][1]],\n",
        "                   [0, 0, 0, 0, matrix[2][0], matrix[2][1]]])\n",
        "\n",
        "  if columnnumbs == 3:\n",
        "    mat = np.array([[0, 0, 0, matrix[0][0], matrix[0][1], matrix[0][2]],\n",
        "                   [0, 0, 0, matrix[1][0], matrix[1][1], matrix[1][2]],\n",
        "                   [0, 0, 0, matrix[2][0], matrix[2][1], matrix[2][2]]])\n",
        "\n",
        "  if columnnumbs == 4:\n",
        "    mat = np.array([[0, 0, matrix[0][0], matrix[0][1], matrix[0][2], matrix[0][3]],\n",
        "                   [0, 0, matrix[1][0], matrix[1][1], matrix[1][2], matrix[1][3]],\n",
        "                   [0, 0, matrix[2][0], matrix[2][1], matrix[2][2], matrix[2][3]]])\n",
        "\n",
        "  if columnnumbs == 5:\n",
        "    mat = np.array([[0, matrix[0][0], matrix[0][1], matrix[0][2], matrix[0][3], matrix[0][4]],\n",
        "                   [0, matrix[1][0], matrix[1][1], matrix[1][2], matrix[1][3], matrix[1][4]],\n",
        "                   [0, matrix[2][0], matrix[2][1], matrix[2][2], matrix[2][3], matrix[2][4]]])\n",
        "\n",
        "  if columnnumbs == 6:\n",
        "    mat = np.array([[matrix[0][0], matrix[0][1], matrix[0][2], matrix[0][3], matrix[0][4], matrix[0][5]],\n",
        "                   [matrix[1][0], matrix[1][1], matrix[1][2], matrix[1][3], matrix[1][4], matrix[1][5]],\n",
        "                   [matrix[2][0], matrix[2][1], matrix[2][2], matrix[2][3], matrix[2][4], matrix[2][5]]])\n",
        "\n",
        "  X, Y, Z, U, V, W = zip(*mat)\n",
        "  fig = plt.figure()\n",
        "  ax = fig.add_subplot(111, projection='3d')\n",
        "  ax.quiver(X[0], Y[0], Z[0], U[0], V[0], W[0], length=1, color=color1)\n",
        "  ax.quiver(X[1], Y[1], Z[1], U[1], V[1], W[1], length=1, color=color2)\n",
        "  ax.quiver(X[2], Y[2], Z[2], U[2], V[2], W[2], length=1, color=color3)\n",
        "\n",
        "  ax.set_xlim([xmin, xmax])\n",
        "  ax.set_ylim([ymin, ymax])\n",
        "  ax.set_zlim([zmin, zmax])\n",
        "  ax.set_xlabel('X')\n",
        "  ax.set_ylabel('Y')\n",
        "  ax.set_zlabel('Z')\n",
        "  plt.show()"
      ],
      "execution_count": 0,
      "outputs": []
    },
    {
      "cell_type": "code",
      "metadata": {
        "id": "dw0u0jgG7kCw",
        "colab_type": "code",
        "colab": {
          "base_uri": "https://localhost:8080/",
          "height": 247
        },
        "outputId": "6cbbe41e-8e8a-468a-a140-cc7fcb002533"
      },
      "source": [
        "# Now let's test it out\n",
        "matrix_3D_Grapher(4, AA, 'gold', 'silver', 'magenta', 0, 20, 0, 20, 0, 20)"
      ],
      "execution_count": 92,
      "outputs": [
        {
          "output_type": "display_data",
          "data": {
            "image/png": "[encoded data removed]",
            "text/plain": [
              "<Figure size 432x288 with 1 Axes>"
            ]
          },
          "metadata": {
            "tags": []
          }
        }
      ]
    },
    {
      "cell_type": "code",
      "metadata": {
        "id": "14PrS-pp7lvA",
        "colab_type": "code",
        "colab": {
          "base_uri": "https://localhost:8080/",
          "height": 247
        },
        "outputId": "14fd30d6-bc8d-495a-f097-288f5ff1463f"
      },
      "source": [
        "# Second test\n",
        "matrix_3D_Grapher(6, BB, 'red', 'blue', 'orange', 0, 60, 0, 60, 0, 60)"
      ],
      "execution_count": 93,
      "outputs": [
        {
          "output_type": "display_data",
          "data": {
            "image/png": "[encoded data removed]",
            "text/plain": [
              "<Figure size 432x288 with 1 Axes>"
            ]
          },
          "metadata": {
            "tags": []
          }
        }
      ]
    },
    {
      "cell_type": "code",
      "metadata": {
        "id": "vwAr_IGY7nhI",
        "colab_type": "code",
        "colab": {
          "base_uri": "https://localhost:8080/",
          "height": 247
        },
        "outputId": "d1882d27-0f84-487d-93ef-fdf39000a7bb"
      },
      "source": [
        "# Third test\n",
        "matrix_3D_Grapher(3, CC, 'brown', 'black', 'purple', 0, 100, 0, 100, 0, 100)"
      ],
      "execution_count": 94,
      "outputs": [
        {
          "output_type": "display_data",
          "data": {
            "image/png": "[encoded data removed]",
            "text/plain": [
              "<Figure size 432x288 with 1 Axes>"
            ]
          },
          "metadata": {
            "tags": []
          }
        }
      ]
    },
    {
      "cell_type": "code",
      "metadata": {
        "id": "EdZa4H0j7pna",
        "colab_type": "code",
        "colab": {}
      },
      "source": [
        ""
      ],
      "execution_count": 0,
      "outputs": []
    }
  ]
}