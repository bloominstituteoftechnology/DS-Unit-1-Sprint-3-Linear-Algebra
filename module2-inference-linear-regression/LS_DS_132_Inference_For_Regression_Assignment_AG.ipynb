{
  "nbformat": 4,
  "nbformat_minor": 0,
  "metadata": {
    "colab": {
      "name": "LS_DS_132_Inference_For_Regression_Assignment_AG.ipynb",
      "provenance": [],
      "collapsed_sections": []
    },
    "kernelspec": {
      "display_name": "Python 3",
      "language": "python",
      "name": "python3"
    },
    "language_info": {
      "codemirror_mode": {
        "name": "ipython",
        "version": 3
      },
      "file_extension": ".py",
      "mimetype": "text/x-python",
      "name": "python",
      "nbconvert_exporter": "python",
      "pygments_lexer": "ipython3",
      "version": "3.8.8"
    }
  },
  "cells": [
    {
      "cell_type": "markdown",
      "metadata": {
        "id": "BjJXpmH7KX7d"
      },
      "source": [
        "## Autograded Notebook (Canvas & CodeGrade)\n",
        "\n",
        "This notebook will be automatically graded. It is designed to test your answers and award points for the correct answers. Following the instructions for each Task carefully.\n",
        "\n",
        "### Instructions\n",
        "\n",
        "* **Download this notebook** as you would any other ipynb file\n",
        "* **Upload** to Google Colab or work locally (if you have that set-up)\n",
        "* **Delete `raise NotImplementedError()`**\n",
        "* Write your code in the `# YOUR CODE HERE` space\n",
        "* **Execute** the Test cells that contain `assert` statements - these help you check your work (others contain hidden tests that will be checked when you submit through Canvas)\n",
        "* **Save** your notebook when you are finished\n",
        "* **Download** as a `ipynb` file (if working in Colab)\n",
        "* **Upload** your complete notebook to Canvas (there will be additional instructions in Slack and/or Canvas)"
      ]
    },
    {
      "cell_type": "markdown",
      "metadata": {
        "id": "RQw2GTc8oDRw"
      },
      "source": [
        "# Unit 1 Sprint 3 Module 2\n",
        "\n",
        "## Module Project: Inference for Linear Regression\n",
        "\n",
        "### Learning Objectives\n",
        "\n",
        "* identify the appropriate hypotheses to test for a statistically significant relationship between two quantitative variables\n",
        "* conduct and interpret a t-test for the slope parameter\n",
        "* identify the appropriate parts of the output of a linear regression model and use them to build a confidence interval for the slope term.\n",
        "* make the connection between the t-test for a population mean and a t-test for a slope coefficient.\n",
        "* identify violations of the assumptions for linear regression\n",
        "\n",
        "### Total notebook points: 16"
      ]
    },
    {
      "cell_type": "markdown",
      "metadata": {
        "id": "MHWnltybtm8_"
      },
      "source": [
        "## Introduction\n",
        "\n",
        "### Statistical significance between head size and brain weight in healthy adult humans\n",
        "\n",
        "The `Brainhead.csv` dataset provides information on 237 individuals who were subject to post-mortem examination at the Middlesex Hospital in London around the turn of the 20th century. Study authors used cadavers to see if a relationship between brain weight and other more easily measured physiological characterizes such as age, sex, and head size could be determined. \n",
        "\n",
        "The end goal was to develop a way to estimate a person’s brain size while they were still alive (as the living aren’t keen on having their brains taken out and weighed).\n",
        "\n",
        "**We wish to determine if there is a linear relationship between head size and brain weight in healthy human adults.**\n",
        "\n",
        "Source: R.J. Gladstone (1905). \"A Study of the Relations of the Brain to the Size of the Head\", Biometrika, Vol. 4, pp105-123.\n",
        "\n",
        "\n",
        "**Use the above information to complete Tasks 1 - 10.**"
      ]
    },
    {
      "cell_type": "markdown",
      "metadata": {
        "id": "VoVBnlaaQHqw"
      },
      "source": [
        "\n",
        "\n",
        "Recall from the Module 1 Project that we were working with the brain weight variable (`Brain`) and the head size (`Head`) variables. We identified the dependent and independent variables, plotted our variables on the appropriate axes, and then described the strength of the relationship.\n",
        "\n",
        "* `Brain` (brain weight in g) - **dependent** variable (y)\n",
        "* `Head` (the head size in cubic cm - **independent** variable (x)\n",
        "\n",
        "Now, we're going to bring back some statistics from Sprint 2 and look at the statistical association between head size and brain weight.\n",
        "\n"
      ]
    },
    {
      "cell_type": "markdown",
      "metadata": {
        "id": "vO7saCVHjuEh"
      },
      "source": [
        "**Task 1** - Statistical tests\n",
        "\n",
        "What type of statistical test will we use to determine if there is a statistically significant association between head size and brain weight in the population?  Specify your answer in the next code block using `Answer = `.  For example, if the correct answer is choice B, you'll type `Answer = 'B'`.\n",
        "\n",
        "A: A beta test\n",
        "\n",
        "B: A chi-square test\n",
        "\n",
        "C: A Bayesian test\n",
        "\n",
        "D: A t-test\n"
      ]
    },
    {
      "cell_type": "code",
      "metadata": {
        "deletable": false,
        "id": "zUazJShUjuEu",
        "nbgrader": {
          "cell_type": "code",
          "checksum": "30d16ab596e07651d52804d7b294740b",
          "grade": false,
          "grade_id": "cell-07bbb2a930fdc4a8",
          "locked": false,
          "schema_version": 3,
          "solution": true,
          "task": false
        }
      },
      "source": [
        "# Task 1\n",
        "\n",
        "# YOUR CODE HERE\n",
        "Answer = 'D'"
      ],
      "execution_count": null,
      "outputs": []
    },
    {
      "cell_type": "markdown",
      "metadata": {
        "id": "Zw9E0WTqjuEu"
      },
      "source": [
        "**Task 1 Test**"
      ]
    },
    {
      "cell_type": "code",
      "metadata": {
        "deletable": false,
        "editable": false,
        "nbgrader": {
          "cell_type": "code",
          "checksum": "a269b1ef8247c59889166f681731c23d",
          "grade": true,
          "grade_id": "cell-926f6d1e0cfe693d",
          "locked": true,
          "points": 1,
          "schema_version": 3,
          "solution": false,
          "task": false
        },
        "id": "HsKVnio0KX7l"
      },
      "source": [
        "# Task 1 - Test\n",
        "# Hidden tests - you will see the results when you submit to Canvas"
      ],
      "execution_count": null,
      "outputs": []
    },
    {
      "cell_type": "markdown",
      "metadata": {
        "id": "N2INn9IjpcQv"
      },
      "source": [
        "**Task 2** - Hypotheses for linear regression\n",
        "\n",
        "Select the null and alternative hypotheses you would use to test for a statistically significant association between head size and brain weight.  Specify your answer in the next code block using `Answer = `.  For example, if the correct answer is choice B, you'll type `Answer = 'B'`.\n",
        "\n",
        "A: $H_0: \\beta_1 = 0$ vs. $H_a: \\beta_1 \\neq 0$\n",
        "\n",
        "B: A$H_0: \\beta_0 = 0$ vs. $H_a: \\beta_0 \\neq 0$\n",
        "\n",
        "C: $H_0: \\beta_1 \\neq 0$ vs. $H_a: \\beta_1 = 0$\n",
        "\n",
        "D: $H_0: \\beta_0 = \\beta_1 $ vs. $H_a: \\beta_0 \\neq \\beta_1$\n"
      ]
    },
    {
      "cell_type": "code",
      "metadata": {
        "deletable": false,
        "id": "UENkK4C9pcQv",
        "nbgrader": {
          "cell_type": "code",
          "checksum": "cef09e0e49274df3834549a0e45cf83e",
          "grade": false,
          "grade_id": "cell-57418db46031ec24",
          "locked": false,
          "schema_version": 3,
          "solution": true,
          "task": false
        }
      },
      "source": [
        "# Task 2\n",
        "\n",
        "# YOUR CODE HERE\n",
        "Answer = 'A'"
      ],
      "execution_count": null,
      "outputs": []
    },
    {
      "cell_type": "markdown",
      "metadata": {
        "id": "tSqVznCtpcQw"
      },
      "source": [
        "**Task 2 Test**"
      ]
    },
    {
      "cell_type": "code",
      "metadata": {
        "deletable": false,
        "editable": false,
        "nbgrader": {
          "cell_type": "code",
          "checksum": "d64fa871e696ee4091463c64bf174037",
          "grade": true,
          "grade_id": "cell-4d7da361b388c8fa",
          "locked": true,
          "points": 1,
          "schema_version": 3,
          "solution": false,
          "task": false
        },
        "id": "cIiy4OQ_KX7n"
      },
      "source": [
        "# Task 2 - Test\n",
        "# Hidden tests - you will see the results when you submit to Canvas"
      ],
      "execution_count": null,
      "outputs": []
    },
    {
      "cell_type": "markdown",
      "metadata": {
        "id": "Y6_O8rXOoZYJ"
      },
      "source": [
        "**Task 3** - Load the data\n",
        "\n",
        "As we usually begin, let's load the data! The URL has been provided.\n",
        "\n",
        "* load your CSV file into a DataFrame named `df`"
      ]
    },
    {
      "cell_type": "code",
      "metadata": {
        "colab": {
          "base_uri": "https://localhost:8080/"
        },
        "deletable": false,
        "id": "0NKz1DvXQHqq",
        "nbgrader": {
          "cell_type": "code",
          "checksum": "afbad68122fdad4323a3ed60e07570ad",
          "grade": false,
          "grade_id": "cell-dce60d72fa032dbb",
          "locked": false,
          "schema_version": 3,
          "solution": true,
          "task": false
        },
        "outputId": "db36922e-4555-4034-be78-430ba2f4660d"
      },
      "source": [
        "# Task 3\n",
        "\n",
        "# Imports\n",
        "import pandas as pd\n",
        "import numpy as np\n",
        "\n",
        "data_url = 'https://raw.githubusercontent.com/LambdaSchool/data-science-practice-datasets/main/unit_1/Brainhead/Brainhead.csv'\n",
        "\n",
        "# YOUR CODE HERE\n",
        "df = pd.read_csv(data_url)\n",
        "\n",
        "# Print out your DataFrame\n",
        "print(df.head())"
      ],
      "execution_count": 2,
      "outputs": [
        {
          "output_type": "stream",
          "name": "stdout",
          "text": [
            "   Gender  Age  Head  Brain\n",
            "0       1    1  4512   1530\n",
            "1       1    1  3738   1297\n",
            "2       1    1  4261   1335\n",
            "3       1    1  3777   1282\n",
            "4       1    1  4177   1590\n"
          ]
        }
      ]
    },
    {
      "cell_type": "markdown",
      "metadata": {
        "id": "FyHPiQH4qV_G"
      },
      "source": [
        "**Task 3 Test** "
      ]
    },
    {
      "cell_type": "code",
      "metadata": {
        "deletable": false,
        "editable": false,
        "id": "HFFrErUXoZYK",
        "nbgrader": {
          "cell_type": "code",
          "checksum": "39976eebd0286a707056f4d366fd4aec",
          "grade": true,
          "grade_id": "cell-d4edaaeebedaf8ff",
          "locked": true,
          "points": 1,
          "schema_version": 3,
          "solution": false,
          "task": false
        }
      },
      "source": [
        "# Task 3 - Test\n",
        "assert isinstance(df, pd.DataFrame), 'Have you created a DataFrame named `df`?'\n",
        "assert len(df) == 237"
      ],
      "execution_count": 4,
      "outputs": []
    },
    {
      "cell_type": "markdown",
      "metadata": {
        "id": "UIqgn0THlinM"
      },
      "source": [
        "**Task 4** - Fit OLS model\n",
        "\n",
        "Now, we're going to fit a regression model to our two variables. We're going to use `statsmodels.formula.api` and import the `ols` model. This import has been provided for you.\n",
        "\n",
        "* Fit a model and name your variable `model`\n",
        "* Using the `model.params[1]` method, assign the slope to the variable `slope`. Your variable should be a float (`numpy.float64`).\n",
        "* Using the same `model.params[0]` method, assign the intercept to the variable `intercept`. Your variable should be a float (`numpy.float64`).\n",
        "* Print out your model summary.\n",
        "\n",
        "*Hint: Make sure to use the format Y ~ X for the model input.*"
      ]
    },
    {
      "cell_type": "code",
      "metadata": {
        "colab": {
          "base_uri": "https://localhost:8080/"
        },
        "deletable": false,
        "id": "wX7UBNNBRMtr",
        "nbgrader": {
          "cell_type": "code",
          "checksum": "d89dfdcdfb87c4bd6f15fc70ceb91ea8",
          "grade": false,
          "grade_id": "cell-e9560546a99c90ac",
          "locked": false,
          "schema_version": 3,
          "solution": true,
          "task": false
        },
        "outputId": "f9fcb451-8ed7-4ce1-94cb-146f9344b760"
      },
      "source": [
        "# Task 4\n",
        "\n",
        "# Import statsmodels - DON'T Delete\n",
        "from statsmodels.formula.api import ols\n",
        "\n",
        "# Set-up and fit the model in one step\n",
        "# (format Y ~ X)\n",
        "\n",
        "#Linear Regression Model\n",
        "model = ols('Brain~Head', data=df).fit()\n",
        "\n",
        "#Model Parameters\n",
        "intercept, slope = model.params\n",
        "print('Intercept:', intercept)\n",
        "print('Slope:', slope); print()\n",
        "\n",
        "#Model Summary\n",
        "print(model.summary())"
      ],
      "execution_count": 6,
      "outputs": [
        {
          "output_type": "stream",
          "name": "stdout",
          "text": [
            "Intercept: 325.5734210494421\n",
            "Slope: 0.263429339489399\n",
            "\n",
            "                            OLS Regression Results                            \n",
            "==============================================================================\n",
            "Dep. Variable:                  Brain   R-squared:                       0.639\n",
            "Model:                            OLS   Adj. R-squared:                  0.638\n",
            "Method:                 Least Squares   F-statistic:                     416.5\n",
            "Date:                Tue, 09 Nov 2021   Prob (F-statistic):           5.96e-54\n",
            "Time:                        19:35:34   Log-Likelihood:                -1350.3\n",
            "No. Observations:                 237   AIC:                             2705.\n",
            "Df Residuals:                     235   BIC:                             2711.\n",
            "Df Model:                           1                                         \n",
            "Covariance Type:            nonrobust                                         \n",
            "==============================================================================\n",
            "                 coef    std err          t      P>|t|      [0.025      0.975]\n",
            "------------------------------------------------------------------------------\n",
            "Intercept    325.5734     47.141      6.906      0.000     232.701     418.446\n",
            "Head           0.2634      0.013     20.409      0.000       0.238       0.289\n",
            "==============================================================================\n",
            "Omnibus:                        8.329   Durbin-Watson:                   1.843\n",
            "Prob(Omnibus):                  0.016   Jarque-Bera (JB):                8.665\n",
            "Skew:                           0.366   Prob(JB):                       0.0131\n",
            "Kurtosis:                       3.584   Cond. No.                     3.66e+04\n",
            "==============================================================================\n",
            "\n",
            "Warnings:\n",
            "[1] Standard Errors assume that the covariance matrix of the errors is correctly specified.\n",
            "[2] The condition number is large, 3.66e+04. This might indicate that there are\n",
            "strong multicollinearity or other numerical problems.\n"
          ]
        }
      ]
    },
    {
      "cell_type": "markdown",
      "metadata": {
        "id": "Lv15liBjoZYM"
      },
      "source": [
        "**Task 4 - Test**"
      ]
    },
    {
      "cell_type": "code",
      "metadata": {
        "deletable": false,
        "editable": false,
        "id": "ihR0b9UGoZYM",
        "nbgrader": {
          "cell_type": "code",
          "checksum": "e39ea344463a8b2bed9a253f20467f57",
          "grade": true,
          "grade_id": "cell-100a97e8d1184783",
          "locked": true,
          "points": 2,
          "schema_version": 3,
          "solution": false,
          "task": false
        }
      },
      "source": [
        "# Task 4 - Test\n",
        "\n",
        "# Hidden tests - you will see the results when you submit to Canvas"
      ],
      "execution_count": null,
      "outputs": []
    },
    {
      "cell_type": "markdown",
      "metadata": {
        "id": "4eJsXuRLxKrz"
      },
      "source": [
        "**Task 5** - Formulate the statistical model\n",
        "\n",
        "Using the model parameters returned above, you will now write out the statistical model as a linear equation. Remember, we are predicting brain weight from head size.\n",
        "\n",
        "* write your equation in Python\n",
        "    * assign the dependent variable to `y_hat`\n",
        "    * assign the independent variable to `x` with a value of `4000`\n",
        "    * use the variables you created earlier for the slope and intercept"
      ]
    },
    {
      "cell_type": "code",
      "metadata": {
        "colab": {
          "base_uri": "https://localhost:8080/"
        },
        "deletable": false,
        "id": "Qa123dkvoZYM",
        "nbgrader": {
          "cell_type": "code",
          "checksum": "9e6144dbf08e1b5bf4856f3c8d9cec54",
          "grade": false,
          "grade_id": "cell-1ddf887e0e3e603e",
          "locked": false,
          "schema_version": 3,
          "solution": true,
          "task": false
        },
        "outputId": "2e4b2c40-9cd5-4496-e1fa-7a689d3bd48e"
      },
      "source": [
        "# Task 5\n",
        "\n",
        "# YOUR CODE HERE\n",
        "x = 4000 #Independent variable, head size, 4000 cm^3\n",
        "y_hat = intercept + x*slope #Model prediction, brain weight, g\n",
        "print(y_hat); print()\n",
        "\n",
        "print(\"There is no observation for 4000 cm^3\")\n",
        "print(\"but there are values close to it\")\n",
        "print(df[ abs(4000 - df['Head']) < 10  ][ ['Head', 'Brain'] ] )"
      ],
      "execution_count": 19,
      "outputs": [
        {
          "output_type": "stream",
          "name": "stdout",
          "text": [
            "1379.290779007038\n",
            "\n",
            "There is no observation for 4000 cm^3\n",
            "but there are values close to it\n",
            "     Head  Brain\n",
            "11   3993   1380\n",
            "70   4008   1468\n",
            "158  4006   1302\n",
            "182  4005   1280\n",
            "207  3995   1296\n"
          ]
        }
      ]
    },
    {
      "cell_type": "markdown",
      "metadata": {
        "id": "ueoAux45oZYN"
      },
      "source": [
        "**Task 5 - Test**"
      ]
    },
    {
      "cell_type": "code",
      "metadata": {
        "deletable": false,
        "editable": false,
        "id": "nsaiIXpIoZYN",
        "nbgrader": {
          "cell_type": "code",
          "checksum": "db80aa1b4da2167e2de055290be23a81",
          "grade": true,
          "grade_id": "cell-f73a4aaf70997ef3",
          "locked": true,
          "points": 1,
          "schema_version": 3,
          "solution": false,
          "task": false
        }
      },
      "source": [
        "# Task 5 - Test\n",
        "\n",
        "# Hidden tests - you will see the results when you submit to Canvas"
      ],
      "execution_count": null,
      "outputs": []
    },
    {
      "cell_type": "markdown",
      "metadata": {
        "id": "GI170a6-o6hx"
      },
      "source": [
        "**Task 6** - Statistical parameters\n",
        "\n",
        "Now that we have fit a model, we're going to pull out the statistical parameters.\n",
        "\n",
        "* assign the standard error to the variable `std_err`\n",
        "* assign the value of the t-statistics to the variable `t_stat`\n",
        "* assign the p-value for the slope to the variable `p_slope`\n",
        "\n",
        "**Assign values out to the 1/1000 place (for example, `777.555`)**"
      ]
    },
    {
      "cell_type": "code",
      "metadata": {
        "deletable": false,
        "id": "5BOoS5k7oZYO",
        "nbgrader": {
          "cell_type": "code",
          "checksum": "dafd4e6c9ff25556240f389265201be2",
          "grade": false,
          "grade_id": "cell-0088cec3b26fca73",
          "locked": false,
          "schema_version": 3,
          "solution": true,
          "task": false
        },
        "outputId": "b3daa6cc-0161-4f00-a284-fb38eba6d9dd",
        "colab": {
          "base_uri": "https://localhost:8080/"
        }
      },
      "source": [
        "# Task 6\n",
        "\n",
        "# T-TEST FOR SLOPE\n",
        "t_test = model.t_test([0,1]) #Takes in covariance matrix argument, [0,1] is default, NO IDEA WHAT THIS MEANS\n",
        "print(t_test); print() #First dimension =0 corresponds to slope, =1 corresponds to intercept\n",
        "\n",
        "#EXTRACTING VALUES FROM T-TEST\n",
        "std_err = t_test.sd[0][0].round(3); print(\"Standard Error:\", std_err)\n",
        "t_stat = t_test.tvalue[0][0].round(3); print(\"T-Stat:\", t_stat)\n",
        "p_slope = t_test.pvalue.round(3); print(\"P-value:\", p_slope)\n",
        "print()\n",
        "\n",
        "# INFORMATION SUMMARY\n",
        "print(model.summary()); print()"
      ],
      "execution_count": 66,
      "outputs": [
        {
          "output_type": "stream",
          "name": "stdout",
          "text": [
            "                             Test for Constraints                             \n",
            "==============================================================================\n",
            "                 coef    std err          t      P>|t|      [0.025      0.975]\n",
            "------------------------------------------------------------------------------\n",
            "c0             0.2634      0.013     20.409      0.000       0.238       0.289\n",
            "==============================================================================\n",
            "\n",
            "Standard Error: 0.013\n",
            "T-Stat: 20.409\n",
            "P-value: 0.0\n",
            "\n",
            "                            OLS Regression Results                            \n",
            "==============================================================================\n",
            "Dep. Variable:                  Brain   R-squared:                       0.639\n",
            "Model:                            OLS   Adj. R-squared:                  0.638\n",
            "Method:                 Least Squares   F-statistic:                     416.5\n",
            "Date:                Tue, 09 Nov 2021   Prob (F-statistic):           5.96e-54\n",
            "Time:                        21:16:03   Log-Likelihood:                -1350.3\n",
            "No. Observations:                 237   AIC:                             2705.\n",
            "Df Residuals:                     235   BIC:                             2711.\n",
            "Df Model:                           1                                         \n",
            "Covariance Type:            nonrobust                                         \n",
            "==============================================================================\n",
            "                 coef    std err          t      P>|t|      [0.025      0.975]\n",
            "------------------------------------------------------------------------------\n",
            "Intercept    325.5734     47.141      6.906      0.000     232.701     418.446\n",
            "Head           0.2634      0.013     20.409      0.000       0.238       0.289\n",
            "==============================================================================\n",
            "Omnibus:                        8.329   Durbin-Watson:                   1.843\n",
            "Prob(Omnibus):                  0.016   Jarque-Bera (JB):                8.665\n",
            "Skew:                           0.366   Prob(JB):                       0.0131\n",
            "Kurtosis:                       3.584   Cond. No.                     3.66e+04\n",
            "==============================================================================\n",
            "\n",
            "Warnings:\n",
            "[1] Standard Errors assume that the covariance matrix of the errors is correctly specified.\n",
            "[2] The condition number is large, 3.66e+04. This might indicate that there are\n",
            "strong multicollinearity or other numerical problems.\n",
            "\n"
          ]
        }
      ]
    },
    {
      "cell_type": "markdown",
      "metadata": {
        "id": "cuxDxoHfoZYO"
      },
      "source": [
        "**Task 6 - Test**"
      ]
    },
    {
      "cell_type": "code",
      "metadata": {
        "deletable": false,
        "editable": false,
        "id": "COgHQz15oZYP",
        "nbgrader": {
          "cell_type": "code",
          "checksum": "4f80b8628244131c0a47ee35cbb8f13d",
          "grade": true,
          "grade_id": "cell-3b6f76045e89854a",
          "locked": true,
          "points": 1,
          "schema_version": 3,
          "solution": false,
          "task": false
        }
      },
      "source": [
        "# Task 6 - Test\n",
        "\n",
        "# Hidden tests - you will see the results when you submit to Canvas"
      ],
      "execution_count": null,
      "outputs": []
    },
    {
      "cell_type": "markdown",
      "metadata": {
        "id": "u-SZmGhfsIjM"
      },
      "source": [
        "**Task 7** - Hypothesis Test\n",
        "\n",
        "Conduct your hypothesis test and select the answer below that best describes the conclusion at the 0.05 significance level.  Specify your answer in the next code block using `Answer = `.  For example, if the correct answer is choice B, you'll type `Answer = 'B'`.\n",
        "\n",
        "A: We reject the null hypothesis and conclude there is no association between head size and brain weight.\n",
        "\n",
        "B: We reject the null hypothesis and conclude there is an association between head size and brain weight.\n",
        "\n",
        "C: We fail to reject the null hypothesis and conclude there is no association between head size and brain weight.\n",
        "\n",
        "D: We fail to reject the null hypothesis and conclude there is an association between head size and brain weight.\n"
      ]
    },
    {
      "cell_type": "code",
      "metadata": {
        "deletable": false,
        "id": "UKlmYuRvsIjX",
        "nbgrader": {
          "cell_type": "code",
          "checksum": "1fbc3ddb131ab3245580c1e38866c587",
          "grade": false,
          "grade_id": "cell-8a9fb0cf3d1b46d7",
          "locked": false,
          "schema_version": 3,
          "solution": true,
          "task": false
        }
      },
      "source": [
        "# Task 7\n",
        "\n",
        "# YOUR CODE HERE\n",
        "\n",
        "Answer = 'B'"
      ],
      "execution_count": 69,
      "outputs": []
    },
    {
      "cell_type": "markdown",
      "metadata": {
        "id": "dG87trUqsIjX"
      },
      "source": [
        "**Task 7 Test**"
      ]
    },
    {
      "cell_type": "code",
      "metadata": {
        "deletable": false,
        "editable": false,
        "id": "3Q_iMLwksIjY",
        "nbgrader": {
          "cell_type": "code",
          "checksum": "db38c6d4257b594ff862e308b8451bd7",
          "grade": true,
          "grade_id": "cell-3970fbb1a3eaefb5",
          "locked": true,
          "points": 1,
          "schema_version": 3,
          "solution": false,
          "task": false
        }
      },
      "source": [
        "# Task 7 - Test\n",
        "# Hidden tests - you will see the results when you submit to Canvas"
      ],
      "execution_count": null,
      "outputs": []
    },
    {
      "cell_type": "markdown",
      "metadata": {
        "id": "urjBkvcjszDQ"
      },
      "source": [
        "**Task 8** - Hypothesis Test for the intercept\n",
        "\n",
        "Conduct a hypothesis test for the intercept and select the answer below that best describes the conclusion at the 0.05 significance level.  Specify your answer in the next code block using `Answer = `.  For example, if the correct answer is choice B, you'll type `Answer = 'B'`.\n",
        "\n",
        "A: We reject the null hypothesis and conclude there is no association between head size and brain weight.\n",
        "\n",
        "B: We fail to reject the null hypothesis and conclude there is no association between head size and brain weight.\n",
        "\n",
        "C: It does not make sense to interpret or conduct a hypothesis test for the intercept because 0 is not a value of x in our dataset.\n",
        "\n",
        "D: It does not make sense to interpret or conduct a hypothesis test for the intercept because the slope is statistically significant.\n"
      ]
    },
    {
      "cell_type": "code",
      "metadata": {
        "deletable": false,
        "id": "TjbnWFqCszDR",
        "nbgrader": {
          "cell_type": "code",
          "checksum": "1b68029d33accc47eb69147251dfa05e",
          "grade": false,
          "grade_id": "cell-a8ea8470352ac330",
          "locked": false,
          "schema_version": 3,
          "solution": true,
          "task": false
        },
        "outputId": "27ce4fbe-7ad6-457e-c47a-a7fb60beaaee",
        "colab": {
          "base_uri": "https://localhost:8080/"
        }
      },
      "source": [
        "# Task 8\n",
        "\n",
        "# VALUE-RANGE OF INDEPENDENT VARIABLE\n",
        "print('Head Size Sample Range = [', df['Head'].min(), df['Head'].max(), ']'); print()\n",
        "\n",
        "# T-TEST FOR INTERCEPT\n",
        "t_test2 = model.t_test([1,1]) #Takes in covariance matrix argument, [0,1] is default, NO IDEA WHAT THIS MEANS\n",
        "print(t_test2); print() #First dimension =0 corresponds to slope, =1 corresponds to intercept\n",
        "\n",
        "#EXTRACTING VALUES FROM T-TEST\n",
        "std_err2 = t_test2.sd[0][0].round(3); print(\"Standard Error:\", std_err2)\n",
        "t_stat2 = t_test2.tvalue[0][0].round(3); print(\"T-Stat:\", t_stat2)\n",
        "p_slope2 = t_test2.pvalue.round(3); print(\"P-value:\", p_slope2)\n",
        "print()\n",
        "\n",
        "Answer = 'C'"
      ],
      "execution_count": 79,
      "outputs": [
        {
          "output_type": "stream",
          "name": "stdout",
          "text": [
            "Head Size Sample Range = [ 2720 4747 ]\n",
            "\n",
            "                             Test for Constraints                             \n",
            "==============================================================================\n",
            "                 coef    std err          t      P>|t|      [0.025      0.975]\n",
            "------------------------------------------------------------------------------\n",
            "c0           325.8369     47.128      6.914      0.000     232.989     418.684\n",
            "==============================================================================\n",
            "\n",
            "Standard Error: 47.128\n",
            "T-Stat: 6.914\n",
            "P-value: 0.0\n",
            "\n"
          ]
        }
      ]
    },
    {
      "cell_type": "markdown",
      "metadata": {
        "id": "Gg3hCRDKszDR"
      },
      "source": [
        "**Task 8 Test**"
      ]
    },
    {
      "cell_type": "code",
      "metadata": {
        "deletable": false,
        "editable": false,
        "nbgrader": {
          "cell_type": "code",
          "checksum": "3632420378d524cc074b13cbe7681065",
          "grade": true,
          "grade_id": "cell-a3a3433557e73bac",
          "locked": true,
          "points": 1,
          "schema_version": 3,
          "solution": false,
          "task": false
        },
        "id": "tXgCkuM1KX7u"
      },
      "source": [
        "# Task 8 - Test\n",
        "# Hidden tests - you will see the results when you submit to Canvas"
      ],
      "execution_count": null,
      "outputs": []
    },
    {
      "cell_type": "markdown",
      "metadata": {
        "id": "3gr8OoX8qpqY"
      },
      "source": [
        "**Task 9** - Confidence Interval\n",
        "\n",
        "Calculate the 95% confidence interval for your slope term. Use your model summary to find these values. Assign them values out to the 1/1000 place (for example, `ci_low = 0.345`)\n",
        "\n",
        "* assign the lower value of brain size to `brain_low`\n",
        "* assign the upper value of brain size to `brain_upper`\n"
      ]
    },
    {
      "cell_type": "code",
      "metadata": {
        "deletable": false,
        "id": "3Cgv5jBVoZYQ",
        "nbgrader": {
          "cell_type": "code",
          "checksum": "afec160321145d97b9a260c25f2fd816",
          "grade": false,
          "grade_id": "cell-cebcd0240ee16185",
          "locked": false,
          "schema_version": 3,
          "solution": true,
          "task": false
        },
        "outputId": "a6ff766e-fffb-4e29-a7d2-6f501d5260ee",
        "colab": {
          "base_uri": "https://localhost:8080/"
        }
      },
      "source": [
        "# Task 9\n",
        "\n",
        "# YOUR CODE HERE\n",
        "\n",
        "#CONFIDENCE INTERVAL\n",
        "ci = model.conf_int(alpha=0.05)\n",
        "brain_low =  ci[0][1].round(3)\n",
        "brain_upper =  ci[1][1].round(3)\n",
        "print(\"Lower Bound for Slope:\", brain_low)\n",
        "print(\"Upper Bound for Slope:\", brain_upper)\n",
        "print()\n",
        "\n",
        "# INFORMATION SUMMARY\n",
        "print(model.summary()); print()"
      ],
      "execution_count": 101,
      "outputs": [
        {
          "output_type": "stream",
          "name": "stdout",
          "text": [
            "Lower Bound for Slope: 0.238\n",
            "Upper Bound for Slope: 0.289\n",
            "\n",
            "                            OLS Regression Results                            \n",
            "==============================================================================\n",
            "Dep. Variable:                  Brain   R-squared:                       0.639\n",
            "Model:                            OLS   Adj. R-squared:                  0.638\n",
            "Method:                 Least Squares   F-statistic:                     416.5\n",
            "Date:                Tue, 09 Nov 2021   Prob (F-statistic):           5.96e-54\n",
            "Time:                        21:42:13   Log-Likelihood:                -1350.3\n",
            "No. Observations:                 237   AIC:                             2705.\n",
            "Df Residuals:                     235   BIC:                             2711.\n",
            "Df Model:                           1                                         \n",
            "Covariance Type:            nonrobust                                         \n",
            "==============================================================================\n",
            "                 coef    std err          t      P>|t|      [0.025      0.975]\n",
            "------------------------------------------------------------------------------\n",
            "Intercept    325.5734     47.141      6.906      0.000     232.701     418.446\n",
            "Head           0.2634      0.013     20.409      0.000       0.238       0.289\n",
            "==============================================================================\n",
            "Omnibus:                        8.329   Durbin-Watson:                   1.843\n",
            "Prob(Omnibus):                  0.016   Jarque-Bera (JB):                8.665\n",
            "Skew:                           0.366   Prob(JB):                       0.0131\n",
            "Kurtosis:                       3.584   Cond. No.                     3.66e+04\n",
            "==============================================================================\n",
            "\n",
            "Warnings:\n",
            "[1] Standard Errors assume that the covariance matrix of the errors is correctly specified.\n",
            "[2] The condition number is large, 3.66e+04. This might indicate that there are\n",
            "strong multicollinearity or other numerical problems.\n",
            "\n"
          ]
        }
      ]
    },
    {
      "cell_type": "markdown",
      "metadata": {
        "id": "dXAKwtzzoZYQ"
      },
      "source": [
        "**Task 9 - Test**"
      ]
    },
    {
      "cell_type": "code",
      "metadata": {
        "deletable": false,
        "editable": false,
        "id": "uegq5FlPoZYR",
        "nbgrader": {
          "cell_type": "code",
          "checksum": "95fa39b488143b49dd7249ace4b0bb19",
          "grade": true,
          "grade_id": "cell-9a0563abb4c16599",
          "locked": true,
          "points": 1,
          "schema_version": 3,
          "solution": false,
          "task": false
        }
      },
      "source": [
        "# Task 9 - Test\n",
        "\n",
        "# Hidden tests - you will see the results when you submit to Canvas"
      ],
      "execution_count": null,
      "outputs": []
    },
    {
      "cell_type": "markdown",
      "metadata": {
        "id": "12WjHAT91iBl"
      },
      "source": [
        "**Task 10** - Plot confidence intervals\n",
        "\n",
        "Plot the confidence limits on both the slope and intercept terms with a shaded area around our regression line. The easiest way to do this is using `seaborn` with the `ci` parameter set to the confidence level you want (the default is `ci=95`). This plot will not be autograded."
      ]
    },
    {
      "cell_type": "code",
      "metadata": {
        "colab": {
          "base_uri": "https://localhost:8080/",
          "height": 369
        },
        "deletable": false,
        "id": "onUkdEAiTK19",
        "nbgrader": {
          "cell_type": "code",
          "checksum": "9db093932f7a52d3f19ba957d23c6423",
          "grade": false,
          "grade_id": "cell-be916b022e3948d5",
          "locked": false,
          "schema_version": 3,
          "solution": true,
          "task": false
        },
        "outputId": "fe417d5f-50fc-4134-d2b9-ac8f48e028de"
      },
      "source": [
        "# Task 10\n",
        "\n",
        "# YOUR CODE HERE\n",
        "import seaborn as sns\n",
        "import matplotlib.pyplot as plt\n",
        "\n",
        "sns.lmplot(x='Head', y='Brain', data=df, ci=95);\n",
        "plt.show()"
      ],
      "execution_count": 114,
      "outputs": [
        {
          "output_type": "display_data",
          "data": {
            "image/png": "[encoded data removed]",
            "text/plain": [
              "<Figure size 360x360 with 1 Axes>"
            ]
          },
          "metadata": {
            "needs_background": "light"
          }
        }
      ]
    },
    {
      "cell_type": "markdown",
      "metadata": {
        "id": "P6g6wHkNS2qB"
      },
      "source": [
        "**Task 10** - Correlation (short answer)\n",
        "\n",
        "Does it seem plausible that larger head size causes greater brain weight?  Or is it possible that something else causes differences in both of those factors?\n",
        "\n",
        "ANSWER: It does not seem plausible that a larger head size *causes* greater brain weight. The opposite would make more sense from an evolutionary perspective, but any causal relationship would be ultimately be determined by structural constraints that we have no reason to suspect are linear. \n",
        "\n"
      ]
    },
    {
      "cell_type": "markdown",
      "metadata": {
        "id": "DHNJ5vpJCGSf"
      },
      "source": [
        "## Part B\n",
        "\n",
        "### Sleep Data\n",
        "\n",
        "Use the following information to answer Tasks 11 - 18 in the rest of this project:\n",
        "\n",
        "Researchers recorded data on sleep duration as well as a set of ecological and constitutional variables for a selection of mammal species. This data is available in the Sleep.csv dataset; the URL is provided below. \n",
        "\n",
        "(*Source: Allison, T. and Cicchetti, D. (1976), \"Sleep in Mammals: Ecological and Constitutional Correlates\",  Science, November 12, vol. 194, pp. 732-734.*)\n",
        "\n",
        "**Data Dictionary:**\n",
        "\n",
        "| Variable Name |            Description           |                                                                 Details                                                                 |              |   |\n",
        "|:-------------:|:--------------------------------:|:---------------------------------------------------------------------------------------------------------------------------------------:|--------------|---|\n",
        "| Animal        |            Animal name           |                                                            Character [string]                                                           |    |   |\n",
        "| Body          |            Body weight           |                                                               Numeric [kg]                                                              |       |   |\n",
        "| Brain         |           Brain weight           |                                                               Numeric [g]                                                               |  |   |\n",
        "| SWsleep       | Slow wave (“non-dreaming”) sleep | Numeric [hours]                                                                                                                         |              |   |\n",
        "| Parasleep     | Paradoxical (“dreaming”) sleep   | Numeric [hours]                                                                                                                         |              |   |\n",
        "| Totsleep      | Total sleep                      | Numeric [hours]                                                                                                                         |              |   |\n",
        "| Life          | Maximum life expectancy          | Numeric [years]                                                                                                                         |              |   |\n",
        "| Gest          | Gestation time                   | Numeric [days]                                                                                                                          |              |   |\n",
        "| Pred          | Predation index                  | Numeric [1 – 5] 1 = least likely to be preyed upon, 5 = most likely to be preyed upon                                                   |              |   |\n",
        "| Exposure      | Sleep exposure index             | Numeric [1 – 5] 1 = least amount of exposure during sleep (mammal sleeps indoors or in a den), 5 = most amount of exposure during sleep |              |   |\n",
        "| Danger        | Overall danger index             | Numeric [ 1 – 5] 1 = least amount of danger from other animals, 5 = most amount of danger from other animals                            |              |   |\n",
        "\n"
      ]
    },
    {
      "cell_type": "markdown",
      "metadata": {
        "id": "_jWUvkC6oZYU"
      },
      "source": [
        "**Task 11**\n",
        "\n",
        "Before we can look at the data, we need to load in the data. The URL has been provided.\n",
        "\n",
        "* load in the CSV file as a DataFrame and assign it to the variable `df_sleep`\n",
        "* make sure to view the DataFrame!"
      ]
    },
    {
      "cell_type": "code",
      "metadata": {
        "colab": {
          "base_uri": "https://localhost:8080/"
        },
        "deletable": false,
        "id": "KD1W8-eyoZYW",
        "nbgrader": {
          "cell_type": "code",
          "checksum": "d0e435549804197fc03c03f02de62bd7",
          "grade": false,
          "grade_id": "cell-8b27985340fda74e",
          "locked": false,
          "schema_version": 3,
          "solution": true,
          "task": false
        },
        "outputId": "2cbf6ae6-ed2f-4e05-8b4e-0acd3b50ba1a"
      },
      "source": [
        "# Task 11\n",
        "\n",
        "data_url_2 = 'https://raw.githubusercontent.com/LambdaSchool/data-science-practice-datasets/main/unit_1/Sleep/Sleep.csv'\n",
        "\n",
        "# YOUR CODE HERE\n",
        "df_sleep = pd.read_csv(data_url_2)\n",
        "\n",
        "# Print out your DataFrame\n",
        "print(df_sleep.head())"
      ],
      "execution_count": 115,
      "outputs": [
        {
          "output_type": "stream",
          "name": "stdout",
          "text": [
            "                      Animal      Body   Brain  ...  Pred  Exposure  Danger\n",
            "0  African_giant_pouched_rat     1.000     6.6  ...     3         1       3\n",
            "1             Asian_elephant  2547.000  4603.0  ...     3         5       4\n",
            "2                     Baboon    10.550   179.5  ...     4         4       4\n",
            "3              Big_brown_bat     0.023     0.3  ...     1         1       1\n",
            "4            Brazilian_tapir   160.000   169.0  ...     4         5       4\n",
            "\n",
            "[5 rows x 11 columns]\n"
          ]
        }
      ]
    },
    {
      "cell_type": "markdown",
      "metadata": {
        "id": "jc8OPiUFoZYX"
      },
      "source": [
        "**Task 11 - Test**"
      ]
    },
    {
      "cell_type": "code",
      "metadata": {
        "deletable": false,
        "editable": false,
        "id": "4XY6D1fmoZYX",
        "nbgrader": {
          "cell_type": "code",
          "checksum": "00840b6fa7b8e36616743511270f4a70",
          "grade": true,
          "grade_id": "cell-728b04417127d100",
          "locked": true,
          "points": 1,
          "schema_version": 3,
          "solution": false,
          "task": false
        }
      },
      "source": [
        "# Task 11 - Test\n",
        "\n",
        "assert isinstance(df_sleep, pd.DataFrame), 'Have you created a DataFrame named `df_sleep`?'\n",
        "assert len(df_sleep) == 42\n"
      ],
      "execution_count": 116,
      "outputs": []
    },
    {
      "cell_type": "markdown",
      "metadata": {
        "id": "XXgWAA5HJQiL"
      },
      "source": [
        "**Task 12** - Plot to check for linearity\n",
        "\n",
        "Plot the relationship between *gestation time* and time spent in *dreaming sleep*. This plot will not be autograded.\n",
        "\n",
        "* you can use `seaborn` for your plot, with the `regplot()` or `lmplot()`\n",
        "* include the regression line but turn off the confidence interval (`ci=None`)\n",
        "\n",
        "Select the answer that best describes the relationship between gestation time and time spent in dreaming sleep. Specify your answer in the next code block using `Answer = `.  For example, if the correct answer is choice B, you'll type `Answer = 'B'`.\n",
        "\n",
        "A: Gestation time and time spent in dreaming sleep appear to have a linear relationship.  The linear regression line shown in the figure seems to fit the data well.\n",
        "\n",
        "B: Gestation time and time spent in dreaming sleep appear to have a non-linear relationship.  The linear regression line shown in the figure does not seem to fit the data well.\n",
        "\n",
        "C: Gestation time and time spent in dreaming sleep appear to have no relationship.  The linear regression line shown in the figure seems to fit the data well.\n",
        "\n",
        "D: Gestation time and time spent in dreaming sleep appear to have a linear relationship.  The linear regression line shown in the figure does not seem to fit the data well."
      ]
    },
    {
      "cell_type": "code",
      "metadata": {
        "colab": {
          "base_uri": "https://localhost:8080/",
          "height": 454
        },
        "deletable": false,
        "id": "wJzQvGZSC7Qd",
        "nbgrader": {
          "cell_type": "code",
          "checksum": "1030bc2576cbbe04207f8fa62faf61b6",
          "grade": false,
          "grade_id": "cell-6b9a56b997acc63d",
          "locked": false,
          "schema_version": 3,
          "solution": true,
          "task": false
        },
        "outputId": "a360f544-b903-4e0c-9d08-07fc21b1eb95"
      },
      "source": [
        "# Task 12\n",
        "\n",
        "# YOUR CODE HERE\n",
        "\n",
        "print(df_sleep.columns); print()\n",
        "\n",
        "sns.lmplot(x='Parasleep', y='Gest', data=df_sleep, ci=None); print()\n",
        "\n",
        "Answer = 'B'"
      ],
      "execution_count": 119,
      "outputs": [
        {
          "output_type": "stream",
          "name": "stdout",
          "text": [
            "Index(['Animal', 'Body', 'Brain', 'SWsleep', 'Parasleep', 'Totsleep', 'Life',\n",
            "       'Gest', 'Pred', 'Exposure', 'Danger'],\n",
            "      dtype='object')\n",
            "\n",
            "\n"
          ]
        },
        {
          "output_type": "display_data",
          "data": {
            "image/png": "[encoded data removed]",
            "text/plain": [
              "<Figure size 360x360 with 1 Axes>"
            ]
          },
          "metadata": {
            "needs_background": "light"
          }
        }
      ]
    },
    {
      "cell_type": "markdown",
      "metadata": {
        "id": "dPLdJ9N5vHS0"
      },
      "source": [
        "**Task 12 Test**"
      ]
    },
    {
      "cell_type": "code",
      "metadata": {
        "deletable": false,
        "editable": false,
        "nbgrader": {
          "cell_type": "code",
          "checksum": "f30c02142e128ad41c393c92b0c999f6",
          "grade": true,
          "grade_id": "cell-9ac8291f88c21441",
          "locked": true,
          "points": 1,
          "schema_version": 3,
          "solution": false,
          "task": false
        },
        "id": "Ryl_-kN3KX7w"
      },
      "source": [
        "# Task 12 - Test\n",
        "# Hidden tests - you will see the results when you submit to Canvas"
      ],
      "execution_count": null,
      "outputs": []
    },
    {
      "cell_type": "markdown",
      "metadata": {
        "id": "rCvDBL8ryeeH"
      },
      "source": [
        "**Task 13** - Transform a variable\n",
        "\n",
        "Let's try something new: taking the log of a variable to transform it. Then we'll look at the relationship between the log of that variable and the other variable (which will remain the same)\n",
        "\n",
        "* Create a new variable with the log of gestational time and add it as a column to `df_sleep` with the name `log_gest` \n",
        "\n",
        "*Hint: use the natural log `np.log()`*"
      ]
    },
    {
      "cell_type": "code",
      "metadata": {
        "colab": {
          "base_uri": "https://localhost:8080/"
        },
        "deletable": false,
        "id": "rjlHxOvrQCex",
        "nbgrader": {
          "cell_type": "code",
          "checksum": "49fb07e335341ef24602fa6df3dc1715",
          "grade": false,
          "grade_id": "cell-d811349ababa8892",
          "locked": false,
          "schema_version": 3,
          "solution": true,
          "task": false
        },
        "outputId": "21292537-6de8-4f64-eda4-e91aa8a0feae"
      },
      "source": [
        "# Task 13\n",
        "\n",
        "# YOUR CODE HERE\n",
        "df_sleep['log_gest'] = np.log(df_sleep['Gest'])\n",
        "\n",
        "# Look at your new column\n",
        "print(df_sleep.head())"
      ],
      "execution_count": 121,
      "outputs": [
        {
          "output_type": "stream",
          "name": "stdout",
          "text": [
            "                      Animal      Body   Brain  ...  Exposure  Danger  log_gest\n",
            "0  African_giant_pouched_rat     1.000     6.6  ...         1       3  3.737670\n",
            "1             Asian_elephant  2547.000  4603.0  ...         5       4  6.436150\n",
            "2                     Baboon    10.550   179.5  ...         4       4  5.192957\n",
            "3              Big_brown_bat     0.023     0.3  ...         1       1  3.555348\n",
            "4            Brazilian_tapir   160.000   169.0  ...         5       4  5.971262\n",
            "\n",
            "[5 rows x 12 columns]\n"
          ]
        }
      ]
    },
    {
      "cell_type": "markdown",
      "metadata": {
        "id": "GcoQ8sI1oZYY"
      },
      "source": [
        "**Task 13 - Test**"
      ]
    },
    {
      "cell_type": "code",
      "metadata": {
        "deletable": false,
        "editable": false,
        "id": "xfAziDVQoZYY",
        "nbgrader": {
          "cell_type": "code",
          "checksum": "2b674177c99cd05c292f28a4bf11f195",
          "grade": true,
          "grade_id": "cell-94ac629ec8bbe280",
          "locked": true,
          "points": 1,
          "schema_version": 3,
          "solution": false,
          "task": false
        }
      },
      "source": [
        "# Task 13 - Test\n",
        "\n",
        "# Hidden tests - you will see the results when you submit to Canvas"
      ],
      "execution_count": null,
      "outputs": []
    },
    {
      "cell_type": "markdown",
      "metadata": {
        "id": "TEMavWb0xBqz"
      },
      "source": [
        "**Task 14** - Plot a new relationship\n",
        "\n",
        "Plot the relationship between *log of gestation time* and time spent in *dreaming sleep*. This plot will not be autograded.\n",
        "\n",
        "* you can use `seaborn` for your plot, with the `regplot()` or `lmplot()`\n",
        "* include the regression line but turn off the confidence interval (`ci=None`)\n",
        "\n",
        "Select the answer that best describes the relationship between the log of gestation time and time spent in dreaming sleep. Specify your answer in the next code block using `Answer = `.  For example, if the correct answer is choice B, you'll type `Answer = 'B'`.\n",
        "\n",
        "A: The log of gestation time and time spent in dreaming sleep appear to have a linear relationship.  The linear regression line shown in the figure seems to fit the data well.\n",
        "\n",
        "B: The log of gestation time and time spent in dreaming sleep appear to have a non-linear relationship.  The linear regression line shown in the figure does not seem to fit the data well.\n",
        "\n",
        "C: The log of gestation time and time spent in dreaming sleep appear to have no relationship.  The linear regression line shown in the figure seems to fit the data well.\n",
        "\n",
        "D: The log of gestation time and time spent in dreaming sleep appear to have a linear relationship.  The linear regression line shown in the figure does not seem to fit the data well."
      ]
    },
    {
      "cell_type": "code",
      "metadata": {
        "deletable": false,
        "nbgrader": {
          "cell_type": "code",
          "checksum": "e7d418c13c0f852a12b8c9b73bb72f79",
          "grade": false,
          "grade_id": "cell-6607d864b2e34089",
          "locked": false,
          "schema_version": 3,
          "solution": true,
          "task": false
        },
        "id": "uT5haQxEKX7x",
        "outputId": "ff96b4a0-9ace-41ca-fc68-4f74698cc6e4",
        "colab": {
          "base_uri": "https://localhost:8080/",
          "height": 386
        }
      },
      "source": [
        "# Task 14\n",
        "\n",
        "# YOUR CODE HERE\n",
        "sns.lmplot(x='Parasleep', y='log_gest', data=df_sleep, ci=None); print()\n",
        "\n",
        "Answer = 'D'"
      ],
      "execution_count": 122,
      "outputs": [
        {
          "output_type": "stream",
          "name": "stdout",
          "text": [
            "\n"
          ]
        },
        {
          "output_type": "display_data",
          "data": {
            "image/png": "[encoded data removed]",
            "text/plain": [
              "<Figure size 360x360 with 1 Axes>"
            ]
          },
          "metadata": {
            "needs_background": "light"
          }
        }
      ]
    },
    {
      "cell_type": "markdown",
      "metadata": {
        "id": "WQQxN3WfxBrB"
      },
      "source": [
        "**Task 14 Test**"
      ]
    },
    {
      "cell_type": "code",
      "metadata": {
        "deletable": false,
        "editable": false,
        "nbgrader": {
          "cell_type": "code",
          "checksum": "5d9063bce694db0a7996d1e9fdad853d",
          "grade": true,
          "grade_id": "cell-4d42d4ebe8c5c6d1",
          "locked": true,
          "points": 1,
          "schema_version": 3,
          "solution": false,
          "task": false
        },
        "id": "PtcR1cpOKX7y"
      },
      "source": [
        "# Task 14 - Test\n",
        "# Hidden tests - you will see the results when you submit to Canvas"
      ],
      "execution_count": null,
      "outputs": []
    },
    {
      "cell_type": "markdown",
      "metadata": {
        "id": "XNGUTN6KyzMJ"
      },
      "source": [
        "**Task 15** - Model the sleep data\n",
        "\n",
        "Next, create a model of the relationship between the log of gestation time and dreaming sleep using the `statsmodels.formula.api`. Remember that the `statsmodels` import was made earlier.\n",
        "\n",
        "* Fit a OLS model and assign it to the variable `model_sleep` (remember to enter the model in the format Y ~ X).\n",
        "* Print out your model summary.\n",
        "* Answer the questions below to interpret your results."
      ]
    },
    {
      "cell_type": "code",
      "metadata": {
        "deletable": false,
        "id": "NcLmKYKIzBHA",
        "nbgrader": {
          "cell_type": "code",
          "checksum": "2f5716b001a1663636fea1e086814469",
          "grade": false,
          "grade_id": "cell-a08ff1b8439746f9",
          "locked": false,
          "schema_version": 3,
          "solution": true,
          "task": false
        }
      },
      "source": [
        "# Task 15\n",
        "\n",
        "# YOUR CODE HERE\n",
        "raise NotImplementedError()\n",
        "\n",
        "# Print the model summary\n",
        "print(model_sleep.summary())"
      ],
      "execution_count": null,
      "outputs": []
    },
    {
      "cell_type": "markdown",
      "metadata": {
        "id": "14CFGJvcoZYZ"
      },
      "source": [
        "**Task 15 Test**"
      ]
    },
    {
      "cell_type": "code",
      "metadata": {
        "deletable": false,
        "editable": false,
        "id": "C2ZAy4AqoZYd",
        "nbgrader": {
          "cell_type": "code",
          "checksum": "2f4af9aa3d722dbb067f71dd4231aec6",
          "grade": true,
          "grade_id": "cell-dbf3e67eb3732036",
          "locked": true,
          "points": 1,
          "schema_version": 3,
          "solution": false,
          "task": false
        }
      },
      "source": [
        "# Task 15 - Test\n",
        "\n",
        "# Hidden tests - you will see the results when you submit to Canvas"
      ],
      "execution_count": null,
      "outputs": []
    },
    {
      "cell_type": "markdown",
      "metadata": {
        "id": "ILG89x64zLq2"
      },
      "source": [
        "**Task 16** - Statistical significance of sleep data (short answer)\n",
        "\n",
        "Is the *log of gestational time* statistically significantly associated with time spent in *dreaming sleep* at the alpha = 0.05 level?\n",
        "\n",
        "ANSWER:"
      ]
    },
    {
      "cell_type": "markdown",
      "metadata": {
        "id": "zxYnHyZSzil_"
      },
      "source": [
        "**Task 17** - Predicting dreaming sleep from gestation time\n",
        "\n",
        "The final task! Using the model we just created, predict the amount of dreaming sleep for a mammal that gestates her young for 262 days (this is the gestation time).\n",
        "\n",
        "* Assign the gestation time to the variable `x_predict`. This variable will be an integer.\n",
        "* Take the log of `x_predict` and assign it to the variable `ln_x_predict`. THis variable will be a float.\n",
        "* Use the `slope` and `intercept` variables from your `model_sleep` to complete the calculation. \n",
        "* Your result should be a float and assigned to the variable `sleep_predict`."
      ]
    },
    {
      "cell_type": "code",
      "metadata": {
        "deletable": false,
        "id": "xM63vMkEXxcc",
        "nbgrader": {
          "cell_type": "code",
          "checksum": "5fab997ef0d6595b7e2316eb00a5d1af",
          "grade": false,
          "grade_id": "cell-b516863ad6936f72",
          "locked": false,
          "schema_version": 3,
          "solution": true,
          "task": false
        }
      },
      "source": [
        "# Task 17\n",
        "\n",
        "# YOUR CODE HERE\n",
        "raise NotImplementedError()\n",
        "\n",
        "# Print out the log of x and the predicted sleep value\n",
        "print('ln 262 = ', ln_x_predict)\n",
        "print('Predicted dreaming sleep = ', sleep_predict)"
      ],
      "execution_count": null,
      "outputs": []
    },
    {
      "cell_type": "markdown",
      "metadata": {
        "id": "od_1MxySoZYe"
      },
      "source": [
        "**Task 17 Test**"
      ]
    },
    {
      "cell_type": "code",
      "metadata": {
        "deletable": false,
        "editable": false,
        "id": "P8J3ndgIoZYe",
        "nbgrader": {
          "cell_type": "code",
          "checksum": "c77907e08d3a0431a1e6434dd83ebe2e",
          "grade": true,
          "grade_id": "cell-772974b44d216ef9",
          "locked": true,
          "points": 1,
          "schema_version": 3,
          "solution": false,
          "task": false
        }
      },
      "source": [
        "# Task 16\n",
        "\n",
        "assert ln_x_predict == np.log(x_predict), 'Did you use the correct log calculation?'\n",
        "\n"
      ],
      "execution_count": null,
      "outputs": []
    }
  ]
}