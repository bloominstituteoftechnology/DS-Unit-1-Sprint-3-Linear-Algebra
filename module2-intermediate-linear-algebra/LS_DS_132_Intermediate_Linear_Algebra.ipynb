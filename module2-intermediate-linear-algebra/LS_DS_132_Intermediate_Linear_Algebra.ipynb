{
  "nbformat": 4,
  "nbformat_minor": 0,
  "metadata": {
    "colab": {
      "name": "LS_DS_132_Intermediate_Linear_Algebra.ipynb",
      "provenance": [],
      "collapsed_sections": []
    },
    "kernelspec": {
      "name": "python3",
      "display_name": "Python 3"
    }
  },
  "cells": [
    {
      "cell_type": "markdown",
      "metadata": {
        "id": "5QG7znERi8TQ",
        "colab_type": "text"
      },
      "source": [
        "# First a little bit of statistics review:"
      ]
    },
    {
      "cell_type": "markdown",
      "metadata": {
        "id": "1eF6horugVIl",
        "colab_type": "text"
      },
      "source": [
        "# Variance\n",
        "\n",
        "Variance is a measure of the spread of numbers in a dataset. Variance is the average of the squared differences from the mean. So naturally, you can't find the variance of something unless you calculate it's mean first. Lets get some data and find its variance."
      ]
    },
    {
      "cell_type": "code",
      "metadata": {
        "id": "syFvOD-sfbFK",
        "colab_type": "code",
        "outputId": "7f3cdb27-f8d1-4cf6-d261-0661047c9af8",
        "colab": {
          "base_uri": "https://localhost:8080/",
          "height": 197
        }
      },
      "source": [
        "import pandas as pd\n",
        "import numpy as np\n",
        "import matplotlib.pyplot as plt\n",
        "import random\n",
        "\n",
        "# Lets generate two variables with 50 random integers each.\n",
        "variance_one = []\n",
        "variance_two = []\n",
        "for x in range(200):\n",
        "  variance_one.append(random.randint(25,75))\n",
        "  variance_two.append(random.randint(0,100))\n",
        "  \n",
        "variance_data = {'v1': variance_one, 'v2': variance_two}\n",
        "\n",
        "variance_df = pd.DataFrame(variance_data)\n",
        "variance_df['zeros'] = pd.Series(list(np.zeros(200)))\n",
        "\n",
        "variance_df.head()"
      ],
      "execution_count": 5,
      "outputs": [
        {
          "output_type": "execute_result",
          "data": {
            "text/html": [
              "<div>\n",
              "<style scoped>\n",
              "    .dataframe tbody tr th:only-of-type {\n",
              "        vertical-align: middle;\n",
              "    }\n",
              "\n",
              "    .dataframe tbody tr th {\n",
              "        vertical-align: top;\n",
              "    }\n",
              "\n",
              "    .dataframe thead th {\n",
              "        text-align: right;\n",
              "    }\n",
              "</style>\n",
              "<table border=\"1\" class=\"dataframe\">\n",
              "  <thead>\n",
              "    <tr style=\"text-align: right;\">\n",
              "      <th></th>\n",
              "      <th>v1</th>\n",
              "      <th>v2</th>\n",
              "      <th>zeros</th>\n",
              "    </tr>\n",
              "  </thead>\n",
              "  <tbody>\n",
              "    <tr>\n",
              "      <th>0</th>\n",
              "      <td>60</td>\n",
              "      <td>71</td>\n",
              "      <td>0.0</td>\n",
              "    </tr>\n",
              "    <tr>\n",
              "      <th>1</th>\n",
              "      <td>71</td>\n",
              "      <td>32</td>\n",
              "      <td>0.0</td>\n",
              "    </tr>\n",
              "    <tr>\n",
              "      <th>2</th>\n",
              "      <td>66</td>\n",
              "      <td>2</td>\n",
              "      <td>0.0</td>\n",
              "    </tr>\n",
              "    <tr>\n",
              "      <th>3</th>\n",
              "      <td>67</td>\n",
              "      <td>47</td>\n",
              "      <td>0.0</td>\n",
              "    </tr>\n",
              "    <tr>\n",
              "      <th>4</th>\n",
              "      <td>48</td>\n",
              "      <td>84</td>\n",
              "      <td>0.0</td>\n",
              "    </tr>\n",
              "  </tbody>\n",
              "</table>\n",
              "</div>"
            ],
            "text/plain": [
              "   v1  v2  zeros\n",
              "0  60  71    0.0\n",
              "1  71  32    0.0\n",
              "2  66   2    0.0\n",
              "3  67  47    0.0\n",
              "4  48  84    0.0"
            ]
          },
          "metadata": {
            "tags": []
          },
          "execution_count": 5
        }
      ]
    },
    {
      "cell_type": "code",
      "metadata": {
        "id": "EWVbFiRZgrRI",
        "colab_type": "code",
        "outputId": "36444c90-6620-44d6-de55-4121c1fc365f",
        "colab": {
          "base_uri": "https://localhost:8080/",
          "height": 544
        }
      },
      "source": [
        "# Now some scatter plots\n",
        "\n",
        "plt.scatter(variance_df.v1, variance_df.zeros)\n",
        "plt.xlim(0,100)\n",
        "plt.title(\"Plot One\")\n",
        "plt.show()\n",
        "\n",
        "plt.scatter(variance_df.v2, variance_df.zeros)\n",
        "plt.xlim(0,100)\n",
        "plt.title(\"Plot Two\")\n",
        "plt.show()"
      ],
      "execution_count": 6,
      "outputs": [
        {
          "output_type": "display_data",
          "data": {
            "image/png": "[encoded data removed]",
            "text/plain": [
              "<Figure size 432x288 with 1 Axes>"
            ]
          },
          "metadata": {
            "tags": []
          }
        },
        {
          "output_type": "display_data",
          "data": {
            "image/png": "[encoded data removed]",
            "text/plain": [
              "<Figure size 432x288 with 1 Axes>"
            ]
          },
          "metadata": {
            "tags": []
          }
        }
      ]
    },
    {
      "cell_type": "markdown",
      "metadata": {
        "id": "4zka9GhTguP5",
        "colab_type": "text"
      },
      "source": [
        "Now I know this isn't complicated, but each of the above plots has the same number of points, but we can tell visually that \"Plot Two\" has the greater variance because its points are more spread out. What if we didn't trust our eyes though? Lets calculate the variance of each of these variables to prove it to ourselves\n",
        "\n",
        "$\\overline{X}$ is the symbol for the mean of the dataset.\n",
        "\n",
        "$n-1$ is the number of observations from the sample.\n",
        "\n",
        "$v$ or variance is sometimes denoted by a lowercase v. But you'll also see it referred to as $\\sigma^{2}$.\n",
        "\n",
        "\\begin{align}\n",
        "v = \\frac{\\sum{(X_{i} - \\overline{X})^{2}} }{n-1}\n",
        "\\end{align}\n",
        "\n",
        "How do we calculate a simple average? We add up all of the values and then divide by the total number of values. this is why there is a sum in the numerator and N in the denomenator. \n",
        "\n",
        "However in this calculation, we're not just summing the values like we would if we were calculateing the mean, we are summing the squared difference between each point and the mean. (The squared distance between each point in the mean.)"
      ]
    },
    {
      "cell_type": "code",
      "metadata": {
        "id": "XqNzgMPXgrga",
        "colab_type": "code",
        "outputId": "b8eeb290-81ae-44ba-8ac0-5e92ef03532e",
        "colab": {
          "base_uri": "https://localhost:8080/",
          "height": 233
        }
      },
      "source": [
        "# Since we generated these random values in a range centered around 50, that's \n",
        "# about where their means should be.\n",
        "\n",
        "# Find the means for each variable\n",
        "v1_mean = variance_df.v1.mean()\n",
        "print(\"v1 mean: \", v1_mean)\n",
        "v2_mean = variance_df.v2.mean()\n",
        "print(\"v2 mean: \", v2_mean)\n",
        "\n",
        "# Find the distance between each point and its corresponding mean\n",
        "\n",
        "variance_df['v1_distance'] = variance_df.v1-v1_mean\n",
        "variance_df['v2_distance'] = variance_df.v2-v2_mean\n",
        "\n",
        "variance_df.head()"
      ],
      "execution_count": 7,
      "outputs": [
        {
          "output_type": "stream",
          "text": [
            "v1 mean:  51.33\n",
            "v2 mean:  46.9\n"
          ],
          "name": "stdout"
        },
        {
          "output_type": "execute_result",
          "data": {
            "text/html": [
              "<div>\n",
              "<style scoped>\n",
              "    .dataframe tbody tr th:only-of-type {\n",
              "        vertical-align: middle;\n",
              "    }\n",
              "\n",
              "    .dataframe tbody tr th {\n",
              "        vertical-align: top;\n",
              "    }\n",
              "\n",
              "    .dataframe thead th {\n",
              "        text-align: right;\n",
              "    }\n",
              "</style>\n",
              "<table border=\"1\" class=\"dataframe\">\n",
              "  <thead>\n",
              "    <tr style=\"text-align: right;\">\n",
              "      <th></th>\n",
              "      <th>v1</th>\n",
              "      <th>v2</th>\n",
              "      <th>zeros</th>\n",
              "      <th>v1_distance</th>\n",
              "      <th>v2_distance</th>\n",
              "    </tr>\n",
              "  </thead>\n",
              "  <tbody>\n",
              "    <tr>\n",
              "      <th>0</th>\n",
              "      <td>60</td>\n",
              "      <td>71</td>\n",
              "      <td>0.0</td>\n",
              "      <td>8.67</td>\n",
              "      <td>24.1</td>\n",
              "    </tr>\n",
              "    <tr>\n",
              "      <th>1</th>\n",
              "      <td>71</td>\n",
              "      <td>32</td>\n",
              "      <td>0.0</td>\n",
              "      <td>19.67</td>\n",
              "      <td>-14.9</td>\n",
              "    </tr>\n",
              "    <tr>\n",
              "      <th>2</th>\n",
              "      <td>66</td>\n",
              "      <td>2</td>\n",
              "      <td>0.0</td>\n",
              "      <td>14.67</td>\n",
              "      <td>-44.9</td>\n",
              "    </tr>\n",
              "    <tr>\n",
              "      <th>3</th>\n",
              "      <td>67</td>\n",
              "      <td>47</td>\n",
              "      <td>0.0</td>\n",
              "      <td>15.67</td>\n",
              "      <td>0.1</td>\n",
              "    </tr>\n",
              "    <tr>\n",
              "      <th>4</th>\n",
              "      <td>48</td>\n",
              "      <td>84</td>\n",
              "      <td>0.0</td>\n",
              "      <td>-3.33</td>\n",
              "      <td>37.1</td>\n",
              "    </tr>\n",
              "  </tbody>\n",
              "</table>\n",
              "</div>"
            ],
            "text/plain": [
              "   v1  v2  zeros  v1_distance  v2_distance\n",
              "0  60  71    0.0         8.67         24.1\n",
              "1  71  32    0.0        19.67        -14.9\n",
              "2  66   2    0.0        14.67        -44.9\n",
              "3  67  47    0.0        15.67          0.1\n",
              "4  48  84    0.0        -3.33         37.1"
            ]
          },
          "metadata": {
            "tags": []
          },
          "execution_count": 7
        }
      ]
    },
    {
      "cell_type": "code",
      "metadata": {
        "id": "NEWaTv0mg3--",
        "colab_type": "code",
        "outputId": "16b3c425-86a6-4201-d5b5-b368fad74dc3",
        "colab": {
          "base_uri": "https://localhost:8080/",
          "height": 197
        }
      },
      "source": [
        "# Now we'll square the distances from the means\n",
        "variance_df['v1_squared_distance'] = variance_df.v1_distance**2\n",
        "variance_df['v2_squared_distance'] = variance_df.v2_distance**2\n",
        "\n",
        "# Notice that squaring the distances turns all of our negative values into positive ones?\n",
        "\n",
        "variance_df.head()"
      ],
      "execution_count": 8,
      "outputs": [
        {
          "output_type": "execute_result",
          "data": {
            "text/html": [
              "<div>\n",
              "<style scoped>\n",
              "    .dataframe tbody tr th:only-of-type {\n",
              "        vertical-align: middle;\n",
              "    }\n",
              "\n",
              "    .dataframe tbody tr th {\n",
              "        vertical-align: top;\n",
              "    }\n",
              "\n",
              "    .dataframe thead th {\n",
              "        text-align: right;\n",
              "    }\n",
              "</style>\n",
              "<table border=\"1\" class=\"dataframe\">\n",
              "  <thead>\n",
              "    <tr style=\"text-align: right;\">\n",
              "      <th></th>\n",
              "      <th>v1</th>\n",
              "      <th>v2</th>\n",
              "      <th>zeros</th>\n",
              "      <th>v1_distance</th>\n",
              "      <th>v2_distance</th>\n",
              "      <th>v1_squared_distance</th>\n",
              "      <th>v2_squared_distance</th>\n",
              "    </tr>\n",
              "  </thead>\n",
              "  <tbody>\n",
              "    <tr>\n",
              "      <th>0</th>\n",
              "      <td>60</td>\n",
              "      <td>71</td>\n",
              "      <td>0.0</td>\n",
              "      <td>8.67</td>\n",
              "      <td>24.1</td>\n",
              "      <td>75.1689</td>\n",
              "      <td>580.81</td>\n",
              "    </tr>\n",
              "    <tr>\n",
              "      <th>1</th>\n",
              "      <td>71</td>\n",
              "      <td>32</td>\n",
              "      <td>0.0</td>\n",
              "      <td>19.67</td>\n",
              "      <td>-14.9</td>\n",
              "      <td>386.9089</td>\n",
              "      <td>222.01</td>\n",
              "    </tr>\n",
              "    <tr>\n",
              "      <th>2</th>\n",
              "      <td>66</td>\n",
              "      <td>2</td>\n",
              "      <td>0.0</td>\n",
              "      <td>14.67</td>\n",
              "      <td>-44.9</td>\n",
              "      <td>215.2089</td>\n",
              "      <td>2016.01</td>\n",
              "    </tr>\n",
              "    <tr>\n",
              "      <th>3</th>\n",
              "      <td>67</td>\n",
              "      <td>47</td>\n",
              "      <td>0.0</td>\n",
              "      <td>15.67</td>\n",
              "      <td>0.1</td>\n",
              "      <td>245.5489</td>\n",
              "      <td>0.01</td>\n",
              "    </tr>\n",
              "    <tr>\n",
              "      <th>4</th>\n",
              "      <td>48</td>\n",
              "      <td>84</td>\n",
              "      <td>0.0</td>\n",
              "      <td>-3.33</td>\n",
              "      <td>37.1</td>\n",
              "      <td>11.0889</td>\n",
              "      <td>1376.41</td>\n",
              "    </tr>\n",
              "  </tbody>\n",
              "</table>\n",
              "</div>"
            ],
            "text/plain": [
              "   v1  v2  zeros  ...  v2_distance  v1_squared_distance  v2_squared_distance\n",
              "0  60  71    0.0  ...         24.1              75.1689               580.81\n",
              "1  71  32    0.0  ...        -14.9             386.9089               222.01\n",
              "2  66   2    0.0  ...        -44.9             215.2089              2016.01\n",
              "3  67  47    0.0  ...          0.1             245.5489                 0.01\n",
              "4  48  84    0.0  ...         37.1              11.0889              1376.41\n",
              "\n",
              "[5 rows x 7 columns]"
            ]
          },
          "metadata": {
            "tags": []
          },
          "execution_count": 8
        }
      ]
    },
    {
      "cell_type": "code",
      "metadata": {
        "id": "0OvbytzqhALh",
        "colab_type": "code",
        "outputId": "971b3f4c-a9b1-49ae-b0f9-2b846cf0166a",
        "colab": {
          "base_uri": "https://localhost:8080/",
          "height": 70
        }
      },
      "source": [
        "# Now we'll sum the squared distances and divide by the number of observations.\n",
        "observations = len(variance_df)\n",
        "print(\"Number of Observations: \", observations)\n",
        "\n",
        "Variance_One = variance_df.v1_squared_distance.sum()/(observations - 1)\n",
        "Variance_Two = variance_df.v2_squared_distance.sum()/(observations - 1)\n",
        "\n",
        "print(\"Variance One: \", Variance_One)\n",
        "print(\"Variance Two: \", Variance_Two)"
      ],
      "execution_count": 10,
      "outputs": [
        {
          "output_type": "stream",
          "text": [
            "Number of Observations:  200\n",
            "Variance One:  203.5689447236181\n",
            "Variance Two:  829.6582914572864\n"
          ],
          "name": "stdout"
        }
      ]
    },
    {
      "cell_type": "code",
      "metadata": {
        "id": "vDDfCAnXYAua",
        "colab_type": "code",
        "colab": {}
      },
      "source": [
        ""
      ],
      "execution_count": 0,
      "outputs": []
    },
    {
      "cell_type": "markdown",
      "metadata": {
        "id": "2y6g5cYdhJCe",
        "colab_type": "text"
      },
      "source": [
        "Woah, so what is the domain of V1 and V2?\n",
        "\n",
        "Well, V1 goes from 25 to 75 so its range is ~50 and V2 goes from 0 to 100 so its range is about 100\n",
        "\n",
        "So even though V2 is roughly twice as spread out, how much bigger is its variance than V1?"
      ]
    },
    {
      "cell_type": "code",
      "metadata": {
        "id": "JlyP6RX5hB-s",
        "colab_type": "code",
        "outputId": "c88a837e-47b5-414f-be58-f298fc90ebdc",
        "colab": {
          "base_uri": "https://localhost:8080/",
          "height": 34
        }
      },
      "source": [
        "print(\"How many times bigger is Variance_One than Variance_Two? \", Variance_Two/Variance_One)\n",
        "\n",
        "# About 3.86 times bigger! Why is that? "
      ],
      "execution_count": 11,
      "outputs": [
        {
          "output_type": "stream",
          "text": [
            "How many times bigger is Variance_One than Variance_Two?  4.075564141591924\n"
          ],
          "name": "stdout"
        }
      ]
    },
    {
      "cell_type": "markdown",
      "metadata": {
        "id": "jCjtuBpchM4s",
        "colab_type": "text"
      },
      "source": [
        "## A note about my code quality\n",
        "\n",
        "Why did I go to the trouble of calculating all of that by hand, and add a bunch of extra useless rows to my dataframe? That is some bad code! \n",
        "\n",
        "Because I wanted to make sure that you understood all of the parts of the equation. I didn't want the function to be some magic thing that you  put numbers in and out popped a variance. Taking time to understand the equation will reinforce your intuition about the spread of the data. After all, I could have just done this:"
      ]
    },
    {
      "cell_type": "code",
      "metadata": {
        "id": "1qO_uRm4hDWG",
        "colab_type": "code",
        "outputId": "587b26b9-aab1-4a63-c1af-4ea7e6cf4187",
        "colab": {
          "base_uri": "https://localhost:8080/",
          "height": 50
        }
      },
      "source": [
        "print(variance_df.v1.var(ddof=1))\n",
        "print(variance_df.v2.var(ddof=1))"
      ],
      "execution_count": 0,
      "outputs": [
        {
          "output_type": "stream",
          "text": [
            "179.91183673469385\n",
            "1053.3310204081633\n"
          ],
          "name": "stdout"
        }
      ]
    },
    {
      "cell_type": "markdown",
      "metadata": {
        "id": "edNOmpFWhQnQ",
        "colab_type": "text"
      },
      "source": [
        "But wait! Those variance values are different than the ones we calculated above, oh no! This is because variance is calculated slightly differently for a population vs a sample. Lets clarify this a little bit. \n",
        "\n",
        "The **POPULATION VARIANCE** $\\sigma^{2}$ is a **PARAMETER** (aspect, property, attribute, etc) of the population.\n",
        "\n",
        "The **SAMPLE VARIANCE** $s^{2}$ is a **STATISTIC** (estimated attribute) of the sample.\n",
        "\n",
        "We use the sample statistic to **estimate** the population parameter.\n",
        "\n",
        "The sample variance $s^{2}$ is an estimate of the population variance $\\sigma^{2}$.\n",
        "\n",
        "Basically, if you're calculating a **sample** variance, you need to divide by $N-1$ or else your estimate will be a little biased. The equation that we were originally working from is for a **population variance**. \n",
        "\n",
        "If we use the ddof=0 parameter (default is ddof=1) in our equation, we should get the same result. \"ddof\" stands for Denominator Degrees of Freedom."
      ]
    },
    {
      "cell_type": "code",
      "metadata": {
        "id": "kjV56K7lhO7v",
        "colab_type": "code",
        "outputId": "7e1d6593-7a57-453a-d2bc-c109a6acd46b",
        "colab": {
          "base_uri": "https://localhost:8080/",
          "height": 87
        }
      },
      "source": [
        "# Pandas variance calculation, automatically does via sample\n",
        "print(variance_df.v1.var())\n",
        "print(variance_df.v2.var())\n",
        "\n",
        "# Numpy variance calculation, automatically does via population, can be fixed with ddof=1\n",
        "print(np.var(variance_df.v1, ddof=1))\n",
        "print(np.var(variance_df.v2, ddof=1))"
      ],
      "execution_count": 16,
      "outputs": [
        {
          "output_type": "stream",
          "text": [
            "203.5689447236181\n",
            "829.6582914572862\n",
            "203.5689447236181\n",
            "829.6582914572862\n"
          ],
          "name": "stdout"
        }
      ]
    },
    {
      "cell_type": "markdown",
      "metadata": {
        "id": "5kHEYk3Ziaad",
        "colab_type": "text"
      },
      "source": [
        "# Standard Deviation\n",
        "\n",
        "If you understand how variance is calculated, then standard deviation is a cinch. The standard deviation is the square root $\\sqrt()$ of the variance.\n",
        "\n",
        "## So why would we use one over the other?\n",
        "\n",
        "Remember how we squared all of the distances from the mean before we added them all up? Well then taking the square root of the variance will put our measures back in the same units as the mean. So the Standard Deviation is a measure of spread of the data that is expressed in the same units as the mean of the data. Variance is the average squared distance from the mean, and the Standard Deviation is the average distance from the mean. You'll remember that when we did hypothesis testing and explored the normal distribution we talked in terms of standard deviations, and not in terms of variance for this reason."
      ]
    },
    {
      "cell_type": "code",
      "metadata": {
        "id": "7hSnkDQJiyev",
        "colab_type": "code",
        "outputId": "5d3641c6-ecef-450d-f1c5-e37560a8098f",
        "colab": {
          "base_uri": "https://localhost:8080/",
          "height": 52
        }
      },
      "source": [
        "print(variance_df.v1.std(ddof=0))\n",
        "print(variance_df.v2.std(ddof=0))"
      ],
      "execution_count": 12,
      "outputs": [
        {
          "output_type": "stream",
          "text": [
            "14.232044828484767\n",
            "28.73168982151937\n"
          ],
          "name": "stdout"
        }
      ]
    },
    {
      "cell_type": "markdown",
      "metadata": {
        "id": "VOFz37RxhX4N",
        "colab_type": "text"
      },
      "source": [
        "# Covariance\n",
        "\n",
        "Covariance is a measure of how changes in one variable are associated with changes in a second variable. It's a measure of how they Co (together) Vary (move) or how they move in relation to each other. For this topic we're not really going to dive into the formula, I just want you to be able to understand the topic intuitively. Since this measure is about two variables, graphs that will help us visualize things in two dimensions will help us demonstrate this idea. (scatterplots)\n",
        "\n",
        "![Covariance](https://www.statisticshowto.datasciencecentral.com/wp-content/uploads/2013/12/g-covariance.gif)\n",
        "\n",
        "Lets look at the first scatterplot. the y variable has high values where the x variable has low values. This is a negative covariance because as one variable increases (moves), the other decreases (moves in the opposite direction).\n",
        "\n",
        "In the second scatterplot we see no relation between high and low values of either variable, therefore this cloud of points has a near 0 covariance\n",
        "\n",
        "In the third graph, we see that the y variable takes on low values in the same range where the x value takes on low values, and simiarly with high values. Because the areas of their high and low values match, we would expect this cloud of points to have a positive covariance.\n",
        "\n",
        "![move opposite](https://www.prosoundweb.com/images/uploads/PhasePolarFigure3.jpg)\n",
        "\n",
        " ![spurious-correlation](https://raw.githubusercontent.com/ryanallredblog/ryanallredblog.github.io/master/img/spurious-correlations.png)\n",
        "\n",
        "Check out how popular this site is: \n",
        "\n",
        "<https://tylervigen.com>\n",
        "\n",
        "<https://www.similarweb.com/website/tylervigen.com#overview>"
      ]
    },
    {
      "cell_type": "markdown",
      "metadata": {
        "id": "d0ztiA_iheG1",
        "colab_type": "text"
      },
      "source": [
        "## Interpeting Covariance\n",
        "\n",
        "A large positive or negative covariance indicates a strong relationship between two variables. However, you can't necessarily compare covariances between sets of variables that have a different scale, since the covariance of variables that take on high values will always be higher than  since covariance values are unbounded, they could take on arbitrarily high or low values. This means that you can't compare the covariances between variables that have a different scale. Two variablespositive covariance variable that has a large scale will always have a higher covariance than a variable with an equally strong relationship, yet smaller scale. This means that we need a way to regularlize\n",
        "\n",
        "One of the challenges with covariance is that its value is unbounded and variables that take on larger values will have a larger covariance irrespective of \n",
        "\n",
        "Let me show you what I mean:"
      ]
    },
    {
      "cell_type": "code",
      "metadata": {
        "id": "6qa-a_AzhT7R",
        "colab_type": "code",
        "outputId": "6382765c-f0b7-4fde-d336-3f22d12518e7",
        "colab": {
          "base_uri": "https://localhost:8080/",
          "height": 521
        }
      },
      "source": [
        "a = [1,2,3,4,5,6,7,8,9]\n",
        "b = [1,2,3,4,5,6,7,8,9]\n",
        "c = [10,20,30,40,50,60,70,80,90]\n",
        "d = [10,20,30,40,50,60,70,80,90]\n",
        "\n",
        "fake_data = {\"a\": a, \"b\": b, \"c\": c, \"d\": d,}\n",
        "\n",
        "df = pd.DataFrame(fake_data)\n",
        "\n",
        "plt.scatter(df.a, df.b)\n",
        "plt.xlim(0,100)\n",
        "plt.ylim(0,100)\n",
        "plt.show()\n",
        "\n",
        "plt.scatter(df.c, df.d)\n",
        "plt.xlim(0,100)\n",
        "plt.ylim(0,100)\n",
        "plt.show()"
      ],
      "execution_count": 17,
      "outputs": [
        {
          "output_type": "display_data",
          "data": {
            "image/png": "[encoded data removed]",
            "text/plain": [
              "<Figure size 432x288 with 1 Axes>"
            ]
          },
          "metadata": {
            "tags": []
          }
        },
        {
          "output_type": "display_data",
          "data": {
            "image/png": "[encoded data removed]",
            "text/plain": [
              "<Figure size 432x288 with 1 Axes>"
            ]
          },
          "metadata": {
            "tags": []
          }
        }
      ]
    },
    {
      "cell_type": "markdown",
      "metadata": {
        "id": "le50FVcNhjI2",
        "colab_type": "text"
      },
      "source": [
        "Which of the above sets of variables has a stronger relationship?\n",
        "\n",
        "Which has the stronger covariance?"
      ]
    },
    {
      "cell_type": "markdown",
      "metadata": {
        "id": "YDajsMPwhlZU",
        "colab_type": "text"
      },
      "source": [
        "# The Variance-Covariance Matrix\n",
        "\n",
        "In order to answer this problem we're going to use a tool called a variance-covariance matrix. \n",
        "\n",
        "This is  matrix that compares each variable with every other variable in a dataset and returns to us variance values along the main diagonal, and covariance values everywhere else. "
      ]
    },
    {
      "cell_type": "code",
      "metadata": {
        "id": "eouW-AEDhgtZ",
        "colab_type": "code",
        "outputId": "72ef0b7b-4fde-4853-ba32-9023281fdb5d",
        "colab": {
          "base_uri": "https://localhost:8080/",
          "height": 167
        }
      },
      "source": [
        "df.cov()"
      ],
      "execution_count": 18,
      "outputs": [
        {
          "output_type": "execute_result",
          "data": {
            "text/html": [
              "<div>\n",
              "<style scoped>\n",
              "    .dataframe tbody tr th:only-of-type {\n",
              "        vertical-align: middle;\n",
              "    }\n",
              "\n",
              "    .dataframe tbody tr th {\n",
              "        vertical-align: top;\n",
              "    }\n",
              "\n",
              "    .dataframe thead th {\n",
              "        text-align: right;\n",
              "    }\n",
              "</style>\n",
              "<table border=\"1\" class=\"dataframe\">\n",
              "  <thead>\n",
              "    <tr style=\"text-align: right;\">\n",
              "      <th></th>\n",
              "      <th>a</th>\n",
              "      <th>b</th>\n",
              "      <th>c</th>\n",
              "      <th>d</th>\n",
              "    </tr>\n",
              "  </thead>\n",
              "  <tbody>\n",
              "    <tr>\n",
              "      <th>a</th>\n",
              "      <td>7.5</td>\n",
              "      <td>7.5</td>\n",
              "      <td>75.0</td>\n",
              "      <td>75.0</td>\n",
              "    </tr>\n",
              "    <tr>\n",
              "      <th>b</th>\n",
              "      <td>7.5</td>\n",
              "      <td>7.5</td>\n",
              "      <td>75.0</td>\n",
              "      <td>75.0</td>\n",
              "    </tr>\n",
              "    <tr>\n",
              "      <th>c</th>\n",
              "      <td>75.0</td>\n",
              "      <td>75.0</td>\n",
              "      <td>750.0</td>\n",
              "      <td>750.0</td>\n",
              "    </tr>\n",
              "    <tr>\n",
              "      <th>d</th>\n",
              "      <td>75.0</td>\n",
              "      <td>75.0</td>\n",
              "      <td>750.0</td>\n",
              "      <td>750.0</td>\n",
              "    </tr>\n",
              "  </tbody>\n",
              "</table>\n",
              "</div>"
            ],
            "text/plain": [
              "      a     b      c      d\n",
              "a   7.5   7.5   75.0   75.0\n",
              "b   7.5   7.5   75.0   75.0\n",
              "c  75.0  75.0  750.0  750.0\n",
              "d  75.0  75.0  750.0  750.0"
            ]
          },
          "metadata": {
            "tags": []
          },
          "execution_count": 18
        }
      ]
    },
    {
      "cell_type": "markdown",
      "metadata": {
        "id": "Oj90iiJ1hixA",
        "colab_type": "text"
      },
      "source": [
        "What type of special square matrix is the variance-covariance matrix?\n",
        "\n",
        "The two sets of variables above show relationships that are equal in their strength, yet their covariance values are wildly different. \n",
        "\n",
        "How can we counteract this problem?\n",
        "\n",
        "What if there was some statistic of a distribution that represented how spread out the data was that we could use to standardize the units/scale of the variables?"
      ]
    },
    {
      "cell_type": "markdown",
      "metadata": {
        "id": "vaoTvHL_htKw",
        "colab_type": "text"
      },
      "source": [
        "# Correlation Coefficient\n",
        "\n",
        "Well, it just so happens that we do have such a measure of spread of a variable. It's called the Standard Deviation! And we already learned about it. If we divide our covariance values by the product of the standard deviations of the two variables, we'll end up with what's called the Correlation Coefficient. (Sometimes just referred to as the correlation). \n",
        "\n",
        "Correlation Coefficients have a fixed range from -1 to +1 with 0 representing no linear relationship between the data. \n",
        "\n",
        "In most use cases the correlation coefficient is an improvement over measures of covariance because:\n",
        "\n",
        "- Covariance can take on practically any number while a correlation is limited: -1 to +1.\n",
        "- Because of it’s numerical limitations, correlation is more useful for determining how strong the relationship is between the two variables.\n",
        "- Correlation does not have units. Covariance always has units\n",
        "- Correlation isn’t affected by changes in the center (i.e. mean) or scale of the variables\n",
        "\n",
        "[Statistics How To - Covariance](https://www.statisticshowto.datasciencecentral.com/covariance/)\n",
        "\n",
        "The correlation coefficient is usually represented by a lower case $r$.\n",
        "\n",
        "\\begin{align}\n",
        "r = \\frac{cov(X,Y)}{\\sigma_{X}\\sigma_{Y}}\n",
        "\\end{align}"
      ]
    },
    {
      "cell_type": "code",
      "metadata": {
        "id": "CsptKUELhp9U",
        "colab_type": "code",
        "outputId": "559a4f2a-b34b-4aa0-c493-4ed4ee552548",
        "colab": {
          "base_uri": "https://localhost:8080/",
          "height": 167
        }
      },
      "source": [
        "df.corr()"
      ],
      "execution_count": 19,
      "outputs": [
        {
          "output_type": "execute_result",
          "data": {
            "text/html": [
              "<div>\n",
              "<style scoped>\n",
              "    .dataframe tbody tr th:only-of-type {\n",
              "        vertical-align: middle;\n",
              "    }\n",
              "\n",
              "    .dataframe tbody tr th {\n",
              "        vertical-align: top;\n",
              "    }\n",
              "\n",
              "    .dataframe thead th {\n",
              "        text-align: right;\n",
              "    }\n",
              "</style>\n",
              "<table border=\"1\" class=\"dataframe\">\n",
              "  <thead>\n",
              "    <tr style=\"text-align: right;\">\n",
              "      <th></th>\n",
              "      <th>a</th>\n",
              "      <th>b</th>\n",
              "      <th>c</th>\n",
              "      <th>d</th>\n",
              "    </tr>\n",
              "  </thead>\n",
              "  <tbody>\n",
              "    <tr>\n",
              "      <th>a</th>\n",
              "      <td>1.0</td>\n",
              "      <td>1.0</td>\n",
              "      <td>1.0</td>\n",
              "      <td>1.0</td>\n",
              "    </tr>\n",
              "    <tr>\n",
              "      <th>b</th>\n",
              "      <td>1.0</td>\n",
              "      <td>1.0</td>\n",
              "      <td>1.0</td>\n",
              "      <td>1.0</td>\n",
              "    </tr>\n",
              "    <tr>\n",
              "      <th>c</th>\n",
              "      <td>1.0</td>\n",
              "      <td>1.0</td>\n",
              "      <td>1.0</td>\n",
              "      <td>1.0</td>\n",
              "    </tr>\n",
              "    <tr>\n",
              "      <th>d</th>\n",
              "      <td>1.0</td>\n",
              "      <td>1.0</td>\n",
              "      <td>1.0</td>\n",
              "      <td>1.0</td>\n",
              "    </tr>\n",
              "  </tbody>\n",
              "</table>\n",
              "</div>"
            ],
            "text/plain": [
              "     a    b    c    d\n",
              "a  1.0  1.0  1.0  1.0\n",
              "b  1.0  1.0  1.0  1.0\n",
              "c  1.0  1.0  1.0  1.0\n",
              "d  1.0  1.0  1.0  1.0"
            ]
          },
          "metadata": {
            "tags": []
          },
          "execution_count": 19
        }
      ]
    },
    {
      "cell_type": "code",
      "metadata": {
        "id": "QUs_-cXKef9v",
        "colab_type": "code",
        "colab": {
          "base_uri": "https://localhost:8080/",
          "height": 34
        },
        "outputId": "6c03cc82-af24-445f-dabd-ee3d8952e8ef"
      },
      "source": [
        "np.std(df.c, ddof=1)"
      ],
      "execution_count": 20,
      "outputs": [
        {
          "output_type": "execute_result",
          "data": {
            "text/plain": [
              "27.386127875258307"
            ]
          },
          "metadata": {
            "tags": []
          },
          "execution_count": 20
        }
      ]
    },
    {
      "cell_type": "code",
      "metadata": {
        "id": "rJBUANX0ejtj",
        "colab_type": "code",
        "colab": {
          "base_uri": "https://localhost:8080/",
          "height": 34
        },
        "outputId": "d223da62-8c10-44ed-d82a-548c3c54dc4e"
      },
      "source": [
        "np.std(df.d, ddof=1)"
      ],
      "execution_count": 21,
      "outputs": [
        {
          "output_type": "execute_result",
          "data": {
            "text/plain": [
              "27.386127875258307"
            ]
          },
          "metadata": {
            "tags": []
          },
          "execution_count": 21
        }
      ]
    },
    {
      "cell_type": "code",
      "metadata": {
        "id": "VQYRY2EQesN9",
        "colab_type": "code",
        "colab": {
          "base_uri": "https://localhost:8080/",
          "height": 34
        },
        "outputId": "c63972ff-a2bf-4eaf-ba37-77240f6e0de5"
      },
      "source": [
        "np.std(df.d, ddof=1)*np.std(df.c, ddof=1)"
      ],
      "execution_count": 22,
      "outputs": [
        {
          "output_type": "execute_result",
          "data": {
            "text/plain": [
              "750.0000000000001"
            ]
          },
          "metadata": {
            "tags": []
          },
          "execution_count": 22
        }
      ]
    },
    {
      "cell_type": "markdown",
      "metadata": {
        "id": "qBnfjEfnhx7c",
        "colab_type": "text"
      },
      "source": [
        "Correlation coefficients of 1 tell us that all of these varaibles have a perfectly linear positive correlation with one another. \n",
        "\n",
        "![Correlation-Coefficients](https://upload.wikimedia.org/wikipedia/commons/thumb/d/d4/Correlation_examples2.svg/1200px-Correlation_examples2.svg.png)\n",
        "\n",
        "Correlation and other sample statistics are somewhat limited in their ability to tell us about the shape/patterns in the data.\n",
        "\n",
        "[Anscombe's Quartet](https://en.wikipedia.org/wiki/Anscombe%27s_quartet)\n",
        "\n",
        "![Anscombe's Quartet](https://upload.wikimedia.org/wikipedia/commons/thumb/e/ec/Anscombe%27s_quartet_3.svg/850px-Anscombe%27s_quartet_3.svg.png)\n",
        "\n",
        "Or take it to the next level with the [Datasaurus Dozen](https://www.autodeskresearch.com/publications/samestats)\n"
      ]
    },
    {
      "cell_type": "markdown",
      "metadata": {
        "id": "QnaCekp1h7iK",
        "colab_type": "text"
      },
      "source": [
        "# Orthogonality\n",
        "\n",
        "Orthogonality is another word for \"perpendicularity\" or things (vectors or matrices) existing at right angles to one another. Two vectors that are perpendicular to one another are orthogonal."
      ]
    },
    {
      "cell_type": "markdown",
      "metadata": {
        "id": "Q1sd0kDiRDeC",
        "colab_type": "text"
      },
      "source": [
        "## How to tell if two vectors are orthogonal\n",
        "\n",
        "Two vectors are orthogonal to each other if their dot product will be zero. \n",
        "\n",
        "Lets look at a couple of examples to see this in action:"
      ]
    },
    {
      "cell_type": "code",
      "metadata": {
        "id": "BO9JKzpDUqJN",
        "colab_type": "code",
        "outputId": "07e34ae3-3840-4399-d94f-41dab34b5b8c",
        "colab": {
          "base_uri": "https://localhost:8080/",
          "height": 281
        }
      },
      "source": [
        "vector_1 = [0, 2]\n",
        "vector_2 = [2, 0]\n",
        "\n",
        "# Plot the Scaled Vectors\n",
        "plt.arrow(0,0, vector_1[0], vector_1[1],head_width=.05, head_length=0.05, color ='red')\n",
        "plt.arrow(0,0, vector_2[0], vector_2[1],head_width=.05, head_length=0.05, color ='green')\n",
        "plt.xlim(-1,3)          \n",
        "plt.ylim(-1,3)\n",
        "plt.title(\"Orthogonal Vectors\")\n",
        "plt.show()"
      ],
      "execution_count": 23,
      "outputs": [
        {
          "output_type": "display_data",
          "data": {
            "image/png": "[encoded data removed]",
            "text/plain": [
              "<Figure size 432x288 with 1 Axes>"
            ]
          },
          "metadata": {
            "tags": []
          }
        }
      ]
    },
    {
      "cell_type": "markdown",
      "metadata": {
        "id": "g5141Y3pU4C5",
        "colab_type": "text"
      },
      "source": [
        "Clearly we can see that the above vectors are perpendicular to each other, what does the formula say?\n",
        "\n",
        "\\begin{align}\n",
        "a = \\begin{bmatrix} 0 & 2\\end{bmatrix}\n",
        "\\qquad\n",
        "b = \\begin{bmatrix} 2 & 0\\end{bmatrix}\n",
        "\\\\\n",
        "a \\cdot b = (0)(2) + (2)(0) = 0\n",
        "\\end{align}"
      ]
    },
    {
      "cell_type": "code",
      "metadata": {
        "id": "g15k5VLkUtLC",
        "colab_type": "code",
        "outputId": "a505c042-e3bd-4527-faf0-66254045815a",
        "colab": {
          "base_uri": "https://localhost:8080/",
          "height": 281
        }
      },
      "source": [
        "vector_1 = [-2, 2]\n",
        "vector_2 = [2, 2]\n",
        "\n",
        "# Plot the Scaled Vectors\n",
        "plt.arrow(0,0, vector_1[0], vector_1[1],head_width=.05, head_length=0.05, color ='red')\n",
        "plt.arrow(0,0, vector_2[0], vector_2[1],head_width=.05, head_length=0.05, color ='green')\n",
        "plt.xlim(-3,3)          \n",
        "plt.ylim(-1,3)\n",
        "plt.title(\"Orthogonal Vectors\")\n",
        "plt.show()"
      ],
      "execution_count": 24,
      "outputs": [
        {
          "output_type": "display_data",
          "data": {
            "image/png": "[encoded data removed]",
            "text/plain": [
              "<Figure size 432x288 with 1 Axes>"
            ]
          },
          "metadata": {
            "tags": []
          }
        }
      ]
    },
    {
      "cell_type": "markdown",
      "metadata": {
        "id": "FcoxB_bhVfAz",
        "colab_type": "text"
      },
      "source": [
        "Again the dot product is zero.\n",
        "\n",
        "\\begin{align}\n",
        "a = \\begin{bmatrix} -2 & 2\\end{bmatrix}\n",
        "\\qquad\n",
        "b = \\begin{bmatrix} 2 & 2\\end{bmatrix}\n",
        "\\\\\n",
        "a \\cdot b = (-2)(2) + (2)(2) = 0\n",
        "\\end{align}\n"
      ]
    },
    {
      "cell_type": "markdown",
      "metadata": {
        "id": "RuCV78PpNwB8",
        "colab_type": "text"
      },
      "source": [
        "# Unit Vectors\n",
        "\n",
        "In Linear Algebra a unit vector is any vector of \"unit length\" (1). You can turn any non-zero vector into a unit vector by dividing it by its norm (length/magnitude).\n",
        "\n",
        "for example if I have the vector \n",
        "\n",
        "\\begin{align}\n",
        " b = \\begin{bmatrix} 1 \\\\ 2 \\\\  2 \\end{bmatrix}\n",
        "\\end{align}\n",
        "\n",
        " and I want to turn it into a unit vector, first I will calculate its norm\n",
        " \n",
        " \\begin{align}\n",
        " ||b|| = \\sqrt{1^2 + 2^2 + 2^2} = \\sqrt{1 + 4 + 4} = \\sqrt{9} = 3\n",
        "\\end{align}\n",
        "\n",
        "I can turn b into a unit vector by dividing it by its norm. Once something has been turned into a unit vector we'll put a ^ \"hat\" symbol over it to denote that it is now a unit vector.\n",
        "\n",
        " \\begin{align}\n",
        " \\hat{b} = \\frac{1}{||b||}b = \\frac{1}{3}\\begin{bmatrix} 1 \\\\ 2 \\\\  2 \\end{bmatrix} = \\begin{bmatrix} \\frac{1}{3} \\\\ \\frac{2}{3} \\\\  \\frac{2}{3} \\end{bmatrix}\n",
        "\\end{align}\n",
        "\n",
        "You might frequently see mentioned the unit vectors used to denote a certain dimensional space. \n",
        "\n",
        "$\\mathbb{R}$ unit vector: $\\hat{i} = \\begin{bmatrix} 1 \\end{bmatrix}$\n",
        "\n",
        "\n",
        "$\\mathbb{R}^2$ unit vectors: $\\hat{i} = \\begin{bmatrix} 1 \\\\ 0 \\end{bmatrix}$, $\\hat{j} = \\begin{bmatrix} 0 \\\\ 1 \\end{bmatrix}$\n",
        "\n",
        "$\\mathbb{R}^3$ unit vectors: $\\hat{i} = \\begin{bmatrix} 1 \\\\ 0 \\\\ 0 \\end{bmatrix}$, $\\hat{j} = \\begin{bmatrix} 0 \\\\ 1 \\\\ 0 \\end{bmatrix}$,  $\\hat{k} = \\begin{bmatrix} 0 \\\\ 0 \\\\ 1 \\end{bmatrix}$\n",
        "\n",
        "You'll notice that in the corresponding space, these basis vectors are the rows/columns of the identity matrix."
      ]
    },
    {
      "cell_type": "code",
      "metadata": {
        "id": "j4x2-DCqK4bN",
        "colab_type": "code",
        "outputId": "ed3e4d8a-d3bf-4442-a68a-d7af708be5ff",
        "colab": {
          "base_uri": "https://localhost:8080/",
          "height": 336
        }
      },
      "source": [
        "# Axis Bounds\n",
        "plt.xlim(-1,2)          \n",
        "plt.ylim(-1,2)\n",
        "\n",
        "# Unit Vectors\n",
        "i_hat = [1,0]\n",
        "j_hat = [0,1]\n",
        "\n",
        "# Fix Axes\n",
        "plt.axes().set_aspect('equal')\n",
        "\n",
        "# PLot Vectors\n",
        "plt.arrow(0, 0, i_hat[0], i_hat[1], linewidth=3, head_width=.05, head_length=0.05, color ='red')\n",
        "plt.arrow(0, 0, j_hat[0], j_hat[1], linewidth=3, head_width=.05, head_length=0.05, color ='blue')\n",
        "plt.title(\"basis vectors in R^2\")\n",
        "plt.show()"
      ],
      "execution_count": 25,
      "outputs": [
        {
          "output_type": "stream",
          "text": [
            "/usr/local/lib/python3.6/dist-packages/ipykernel_launcher.py:9: MatplotlibDeprecationWarning: Adding an axes using the same arguments as a previous axes currently reuses the earlier instance.  In a future version, a new instance will always be created and returned.  Meanwhile, this warning can be suppressed, and the future behavior ensured, by passing a unique label to each axes instance.\n",
            "  if __name__ == '__main__':\n"
          ],
          "name": "stderr"
        },
        {
          "output_type": "display_data",
          "data": {
            "image/png": "[encoded data removed]",
            "text/plain": [
              "<Figure size 432x288 with 1 Axes>"
            ]
          },
          "metadata": {
            "tags": []
          }
        }
      ]
    },
    {
      "cell_type": "markdown",
      "metadata": {
        "id": "_w-7ECSzMJXS",
        "colab_type": "text"
      },
      "source": [
        "## Vectors as linear combinations of scalars and unit vectors\n",
        "\n",
        "Any vector (or matrix) can be be described in terms of a linear combination of scaled unit vectors. Lets look at an example.\n",
        "\n",
        "\\begin{align}\n",
        "c = \\begin{bmatrix} 2 \\\\ 3 \\end{bmatrix}\n",
        "\\end{align}\n",
        "\n",
        "We think about a vector that starts at the origin and extends to point $(2,3)$\n",
        "\n",
        "Lets rewrite this in terms of a linear combination of scaled unit vectors:\n",
        "\n",
        "\\begin{align}\n",
        "c = \\begin{bmatrix} 2 \\\\ 3 \\end{bmatrix} = 2\\begin{bmatrix} 1 \\\\ 0 \\end{bmatrix} + 3\\begin{bmatrix} 0 \\\\ 1 \\end{bmatrix} = 2\\hat{i} + 3\\hat{j}\n",
        "\\end{align}\n",
        "\n",
        "This says that matrix $\\begin{bmatrix} 2 \\\\ 3 \\end{bmatrix}$ will result from scaling the $\\hat{i}$ unit vector by 2, the $\\hat{j}$ vector by 3 and then adding the two together.\n",
        "\n",
        "We can describe any vector in $\\mathbb{R}^2$ in this way. Well, we can describe any vector in any dimensionality this way provided we use all of the unit vectors for that space and scale them all appropriately. In this examply we just happen to be using a vector whose dimension is 2."
      ]
    },
    {
      "cell_type": "markdown",
      "metadata": {
        "id": "eiYx3xqgO3gR",
        "colab_type": "text"
      },
      "source": [
        "# Span\n",
        "\n",
        "The span is the set of all possible vectors that can be created with a linear combination of two vectors (just as we described above).\n",
        "\n",
        "A linear combination of two vectors just means that we're composing to vectors (via addition or subtraction) to create a new vector. \n",
        "\n",
        "## Linearly Dependent Vectors\n",
        "\n",
        "Two vectors that live on the same line are what's called linearly dependent. This means that there is no linear combination (no way to add, or subtract scaled version of these vectors from each other) that will ever allow us to create a vector that lies outside of that line. \n",
        "\n",
        "In this case, the span of these vectors (lets say the green one and the red one for example - could be just those two or a whole set) is the line that they lie on, since that's what can be produced by scaling and composing them together.\n",
        "\n",
        "The span is the graphical area that we're able to cover via a linear combination of a set of vectors.\n",
        "\n",
        "## Linearly Independent Vectors\n",
        "\n",
        "Linearly independent vectors are vectors that don't lie on the same line as each other. If two vectors are linearly independent, then there ought to be some linear combination of them that could represent any vector in the space ($\\mathbb{R}^2$ in this case).\n",
        "\n",
        "\\begin{align}\n",
        "d = \\begin{bmatrix} 5 \\\\ 10 \\end{bmatrix}\n",
        "\\end{align}\n",
        "\n",
        "\\begin{align}\n",
        "e = \\begin{bmatrix} 2 \\\\ 4 \\end{bmatrix}\n",
        "\\end{align}"
      ]
    },
    {
      "cell_type": "code",
      "metadata": {
        "id": "o1PCWU-BqVxI",
        "colab_type": "code",
        "colab": {}
      },
      "source": [
        "# Vector d could be made using a linear combination of vector e\n",
        "# Reduncancy: I can use vectors to make other vectors that I have"
      ],
      "execution_count": 0,
      "outputs": []
    },
    {
      "cell_type": "code",
      "metadata": {
        "id": "RAlWBSXZQYn5",
        "colab_type": "code",
        "outputId": "f94c4370-2720-4d64-825b-b335ede7a0f9",
        "colab": {
          "base_uri": "https://localhost:8080/",
          "height": 281
        }
      },
      "source": [
        "# Plot Linearly Dependent Vectors\n",
        "\n",
        "# Axis Bounds\n",
        "plt.xlim(-1.1,4)          \n",
        "plt.ylim(-1.1,4)\n",
        "\n",
        "# Original Vector\n",
        "v = [1,0] \n",
        "\n",
        "# Scaled Vectors\n",
        "v2 = np.multiply(3, v)\n",
        "v3 = np.multiply(-1,v)\n",
        "\n",
        "# Get Vals for L\n",
        "axes = plt.gca()\n",
        "x_vals = np.array(axes.get_xlim())\n",
        "y_vals = 0*x_vals\n",
        "\n",
        "# Plot Vectors and L\n",
        "plt.plot(x_vals, y_vals, '--', color='b', linewidth=1)\n",
        "plt.arrow(0,0, v2[0], v2[1], linewidth=3, head_width=.05, head_length=0.05, color ='yellow')\n",
        "plt.arrow(0,0, v[0], v[1], linewidth=3, head_width=.05, head_length=0.05, color ='green')\n",
        "plt.arrow(0,0, v3[0], v3[1], linewidth=3, head_width=.05, head_length=0.05, color ='red')\n",
        "\n",
        "plt.title(\"Linearly Dependent Vectors\")\n",
        "plt.show()"
      ],
      "execution_count": 26,
      "outputs": [
        {
          "output_type": "display_data",
          "data": {
            "image/png": "[encoded data removed]",
            "text/plain": [
              "<Figure size 432x288 with 1 Axes>"
            ]
          },
          "metadata": {
            "tags": []
          }
        }
      ]
    },
    {
      "cell_type": "code",
      "metadata": {
        "id": "LCZwwJswRqYt",
        "colab_type": "code",
        "outputId": "8ad92041-7c2d-4774-9df8-3fc50055f00b",
        "colab": {
          "base_uri": "https://localhost:8080/",
          "height": 281
        }
      },
      "source": [
        "# Plot Linearly Dependent Vectors\n",
        "\n",
        "# Axis Bounds\n",
        "plt.xlim(-2,3.5)          \n",
        "plt.ylim(-1,3)\n",
        "\n",
        "# Original Vector\n",
        "a = [-1.5,.5] \n",
        "b = [3, 1]\n",
        "\n",
        "# Plot Vectors\n",
        "plt.arrow(0,0, a[0], a[1], linewidth=3, head_width=.05, head_length=0.05, color ='blue')\n",
        "plt.arrow(0,0, b[0], b[1], linewidth=3, head_width=.05, head_length=0.05, color ='red')\n",
        "\n",
        "plt.title(\"Linearly Independent Vectors\")\n",
        "plt.show()"
      ],
      "execution_count": 27,
      "outputs": [
        {
          "output_type": "display_data",
          "data": {
            "image/png": "[encoded data removed]",
            "text/plain": [
              "<Figure size 432x288 with 1 Axes>"
            ]
          },
          "metadata": {
            "tags": []
          }
        }
      ]
    },
    {
      "cell_type": "code",
      "metadata": {
        "id": "G1CKZUdLsEGo",
        "colab_type": "code",
        "colab": {}
      },
      "source": [
        "# Compose these two vectors using a linear combination\n",
        "# what does this linear combination result in? It results in a new vector\n",
        "\n",
        "# based on how I change the scalars here, I could use these two vectors\n",
        "# to make any point in 2D space"
      ],
      "execution_count": 0,
      "outputs": []
    },
    {
      "cell_type": "markdown",
      "metadata": {
        "id": "y8-zbeKntJxp",
        "colab_type": "text"
      },
      "source": [
        "## The dimension of space that is spanned by a set of vectors is equal to the number of linearly independent vectors in that set of vectors.\n",
        "\n",
        "Example: I have 5 vectors, but three are redundant, what is the dimensionality of space that is spanned by the set of five vectors?"
      ]
    },
    {
      "cell_type": "markdown",
      "metadata": {
        "id": "gRQb0BFqO44V",
        "colab_type": "text"
      },
      "source": [
        "# Basis\n",
        "\n",
        "The basis of a vector space $V$ is a set of vectors that are linearly independent and that span the vector space $V$.\n",
        "\n",
        "A set of vectors spans a space if their linear combinations fill the space.\n",
        "\n",
        "For example, the unit vectors in the \"Linearly Independent Vectors\" plot above form a basis for the vector space $\\mathbb{R}^2$ becayse they are linearly independent and span that space.\n",
        "\n",
        "## Orthogonal Basis\n",
        "\n",
        "An orthogonal basis is a set of vectors that are linearly independent, span the vector space, and are orthogonal to each other. Remember that vectors are orthogonal if their dot product equals zero.\n",
        "\n",
        "## Orthonormal Basis\n",
        "\n",
        "An orthonormal basis is a set of vectors that are linearly independent, span the vector space, are orthogonal to eachother and each have unit length. \n",
        "\n",
        "For more on this topic (it's thrilling, I know) you might research the Gram-Schmidt process -which is a method for orthonormalizing a set of vectors in an inner product space.\n",
        "\n",
        "The unit vectors form an orthonormal basis for whatever vector space that they are spanning."
      ]
    },
    {
      "cell_type": "markdown",
      "metadata": {
        "id": "MyyqxO8DO7TP",
        "colab_type": "text"
      },
      "source": [
        "# Rank\n",
        "\n",
        "The rank of a matrix is the dimension of the vector space spanned by its columns. Just because a matrix has a certain number of rows or columns (dimensionality) doesn't neccessarily mean that it will span that dimensional space. Sometimes there exists a sort of redundancy within the rows/columns of a matrix (linear dependence) that becomes apparent when we reduce a matrix to row-echelon form via Gaussian Elimination.\n",
        "\n",
        "## Gaussian Elimination \n",
        "\n",
        "Gaussian Elimination is a process that seeks to take any given matrix and reduce it down to what is called \"Row-Echelon form.\" A matrix is in Row-Echelon form when it has a 1 as its leading entry (furthest left) in each row, and zeroes at every position below that main entry. These matrices will usually wind up as a sort of upper-triangular matrix (not necessarly square) with ones on the main diagonal. \n",
        "\n",
        "![row-echelon form](http://www.mathwords.com/r/r_assets/r61.gif)\n",
        "\n",
        "Gaussian Elimination takes a matrix and converts it to row-echelon form by doing combinations of three different row operations:\n",
        "\n",
        "1) You can swap any two rows\n",
        "\n",
        "2) You can multiply entire rows by scalars\n",
        "\n",
        "3) You can add/subtract rows from each other\n",
        "\n",
        "This takes some practice to do by hand but once mastered becomes the fastest way to find the rank of a matrix.\n",
        "\n",
        "For example lets look at the following matrix:\n",
        "\n",
        "\\begin{align}\n",
        " P = \\begin{bmatrix}\n",
        "  1 & 0 & 1 \\\\\n",
        "  -2 & -3 & 1 \\\\\n",
        "  3 & 3 & 0 \n",
        " \\end{bmatrix}\n",
        "\\end{align}\n",
        "\n",
        "Now, lets use gaussian elimination to get this matrix in row-echelon form\n",
        "\n",
        "Step 1: Add 2 times the 1st row to the 2nd row\n",
        "\n",
        "\\begin{align}\n",
        " P = \\begin{bmatrix}\n",
        "  1 & 0 & 1 \\\\\n",
        "  0 & -3 & -3 \\\\\n",
        "  3 & 3 & 0 \n",
        " \\end{bmatrix}\n",
        "\\end{align}\n",
        "\n",
        "Step 2: Add -3 times the 1st row to the 3rd row\n",
        "\n",
        "\\begin{align}\n",
        " P = \\begin{bmatrix}\n",
        "  1 & 0 & 1 \\\\\n",
        "  0 & -3 & 3 \\\\\n",
        "  0 & 3 & -3 \n",
        " \\end{bmatrix}\n",
        "\\end{align}\n",
        "\n",
        "Step 3: Multiply the 2nd row by -1/3\n",
        "\n",
        "\\begin{align}\n",
        " P = \\begin{bmatrix}\n",
        "  1 & 0 & 1 \\\\\n",
        "  0 & 1 & -1 \\\\\n",
        "  0 & 3 & -3 \n",
        " \\end{bmatrix}\n",
        "\\end{align}\n",
        "\n",
        "Step 4: Add -3 times the 2nd row to the 3rd row\n",
        "\n",
        "\\begin{align}\n",
        " P = \\begin{bmatrix}\n",
        "  1 & 0 & 1 \\\\\n",
        "  0 & 1 & -1 \\\\\n",
        "  0 & 0 & 0 \n",
        " \\end{bmatrix}\n",
        "\\end{align}\n",
        "\n",
        "Now that we have this in row-echelon form we can see that we had one row that was linearly dependent (could be composed as a linear combination of other rows). That's why we were left with a row of zeros in place of it. If we look closely we will see that the first row equals the second row plus the third row. \n",
        "\n",
        "Because we had two rows with leading 1s (these are called pivot values) left after the matrix was in row-echelon form, we know that its Rank is 2. \n",
        "\n",
        "What does this mean? This means that even though the original matrix is a 3x3 matrix, it can't span $\\mathbb{R}^3$, only $\\mathbb{R}^2$"
      ]
    },
    {
      "cell_type": "markdown",
      "metadata": {
        "id": "9K9C_OHjhz3B",
        "colab_type": "text"
      },
      "source": [
        "# Linear Projections in $\\mathbb{R}^{2}$\n",
        "\n",
        "Assume that we have some line $L$ in $\\mathbb{R}^{2}$."
      ]
    },
    {
      "cell_type": "code",
      "metadata": {
        "id": "Cp_QRhVPchp4",
        "colab_type": "code",
        "outputId": "49b2f1ab-1f49-4edf-fdb2-98f0081f3c07",
        "colab": {
          "base_uri": "https://localhost:8080/",
          "height": 363
        }
      },
      "source": [
        "# Plot a line\n",
        "plt.xlim(-1,4)          \n",
        "plt.ylim(-1,4)\n",
        "axes = plt.gca()\n",
        "x_vals = np.array(axes.get_xlim())\n",
        "y_vals = 0*x_vals\n",
        "plt.plot(x_vals, y_vals, '--', color='b')\n",
        "plt.title(\"A Line\")\n",
        "plt.show()"
      ],
      "execution_count": 0,
      "outputs": [
        {
          "output_type": "display_data",
          "data": {
            "image/png": "[encoded data removed]",
            "text/plain": [
              "<matplotlib.figure.Figure at 0x7f85d6337198>"
            ]
          },
          "metadata": {
            "tags": []
          }
        }
      ]
    },
    {
      "cell_type": "markdown",
      "metadata": {
        "id": "faAeCF-_fQgv",
        "colab_type": "text"
      },
      "source": [
        "We know that if we have a vector $v$ that lies on that line, if we scale that vector in any direction, the resulting vectors can only exist on that line."
      ]
    },
    {
      "cell_type": "code",
      "metadata": {
        "id": "saQTXeIlfcQk",
        "colab_type": "code",
        "outputId": "169b2e09-264a-4249-d94a-463e6c09abeb",
        "colab": {
          "base_uri": "https://localhost:8080/",
          "height": 363
        }
      },
      "source": [
        "# Plot a line\n",
        "\n",
        "# Axis Bounds\n",
        "plt.xlim(-1.1,4)          \n",
        "plt.ylim(-1.1,4)\n",
        "\n",
        "# Original Vector\n",
        "v = [1,0] \n",
        "\n",
        "# Scaled Vectors\n",
        "v2 = np.multiply(3, v)\n",
        "v3 = np.multiply(-1,v)\n",
        "\n",
        "# Get Vals for L\n",
        "axes = plt.gca()\n",
        "x_vals = np.array(axes.get_xlim())\n",
        "y_vals = 0*x_vals\n",
        "\n",
        "# Plot Vectors and L\n",
        "plt.plot(x_vals, y_vals, '--', color='b', linewidth=1)\n",
        "plt.arrow(0,0, v2[0], v2[1], linewidth=3, head_width=.05, head_length=0.05, color ='yellow')\n",
        "plt.arrow(0,0, v[0], v[1], linewidth=3, head_width=.05, head_length=0.05, color ='green')\n",
        "plt.arrow(0,0, v3[0], v3[1], linewidth=3, head_width=.05, head_length=0.05, color ='red')\n",
        "\n",
        "plt.title(\"v scaled two different ways\")\n",
        "plt.show()"
      ],
      "execution_count": 0,
      "outputs": [
        {
          "output_type": "display_data",
          "data": {
            "image/png": "[encoded data removed]",
            "text/plain": [
              "<matplotlib.figure.Figure at 0x7f85d64c6198>"
            ]
          },
          "metadata": {
            "tags": []
          }
        }
      ]
    },
    {
      "cell_type": "markdown",
      "metadata": {
        "id": "eH59242AkL2C",
        "colab_type": "text"
      },
      "source": [
        "Lets call the green vector $v$\n",
        "\n",
        "This means that line $L$ is equal to vector $v$ scaled by all of the potential scalars in $\\mathbb{R}$. We can represent this scaling factor by a constant $c$. Therefore, line $L$ is vector $v$ scaled by any scalar $c$.\n",
        "\n",
        "\\begin{align}\n",
        "L = cv\n",
        "\\end{align}\n",
        "\n",
        "Now, say that we have a second vector $w$ that we want to \"project\" onto line L"
      ]
    },
    {
      "cell_type": "code",
      "metadata": {
        "id": "XUXGGq3uk4Ka",
        "colab_type": "code",
        "outputId": "933311f7-be30-4c29-aa11-ddece686ff39",
        "colab": {
          "base_uri": "https://localhost:8080/",
          "height": 363
        }
      },
      "source": [
        "# Plot a line\n",
        "\n",
        "# Axis Bounds\n",
        "plt.xlim(-1.1,4)          \n",
        "plt.ylim(-1.1,4)\n",
        "\n",
        "# Original Vector\n",
        "v = [1,0] \n",
        "w = [2,2]\n",
        "\n",
        "# Get Vals for L\n",
        "axes = plt.gca()\n",
        "x_vals = np.array(axes.get_xlim())\n",
        "y_vals = 0*x_vals\n",
        "\n",
        "# Plot Vectors and L\n",
        "plt.plot(x_vals, y_vals, '--', color='b', linewidth=1)\n",
        "plt.arrow(0, 0, v[0], v[1], linewidth=3, head_width=.05, head_length=0.05, color ='green')\n",
        "plt.arrow(0, 0, w[0], w[1], linewidth=3, head_width=.05, head_length=0.05, color ='red')\n",
        "\n",
        "plt.title(\"vector w\")\n",
        "plt.show()"
      ],
      "execution_count": 0,
      "outputs": [
        {
          "output_type": "display_data",
          "data": {
            "image/png": "[encoded data removed]",
            "text/plain": [
              "<matplotlib.figure.Figure at 0x7f85d6587a90>"
            ]
          },
          "metadata": {
            "tags": []
          }
        }
      ]
    },
    {
      "cell_type": "markdown",
      "metadata": {
        "id": "sRP9f3AElTPl",
        "colab_type": "text"
      },
      "source": [
        "## Projection as a shadow cast onto the target vector at a right angle\n",
        "\n",
        "This is the intuition that I want you to develop. Imagine that we are shining a light down onto lin $L$ from a direction that is exactly orthogonal to it. In this case shining a light onto $L$ from a direction that is orthogonal to it is as if we were shining a light down from directly above. How long will the shadow be?\n",
        "\n",
        "Imagine that you're **projecting** light from above to cast a shadow onto the x-axis.\n",
        "\n",
        "Well since $L$ is literally the x-axis you can probably tell that the length of the projection of $w$ onto $L$ is 2.\n",
        "\n",
        "A projection onto an axis is the same as just setting the variable that doesn't match the axis to 0. in our case the coordinates of vector $w$ is $(2,2)$ so it projects onto the x-axis at (2,0) -> just setting the y value to 0.\n",
        "\n",
        "### Notation\n",
        "\n",
        "In linear algebra we write the projection of w onto L like this: \n",
        "\n",
        "\\begin{align}proj_{L}(\\vec{w})\\end{align}"
      ]
    },
    {
      "cell_type": "code",
      "metadata": {
        "id": "V6h7LIAWpjkm",
        "colab_type": "code",
        "outputId": "ae48bde0-23f0-4a84-c6ef-66927565d93b",
        "colab": {
          "base_uri": "https://localhost:8080/",
          "height": 363
        }
      },
      "source": [
        "# Axis Bounds\n",
        "plt.xlim(-1.1,4)          \n",
        "plt.ylim(-1.1,4)\n",
        "\n",
        "# Original Vector\n",
        "v = [1,0] \n",
        "w = [2,2]\n",
        "proj = [2,0]\n",
        "\n",
        "# Get Vals for L\n",
        "axes = plt.gca()\n",
        "x_vals = np.array(axes.get_xlim())\n",
        "y_vals = 0*x_vals\n",
        "\n",
        "# Plot Vectors and L\n",
        "plt.plot(x_vals, y_vals, '--', color='b', linewidth=1)\n",
        "plt.arrow(0, 0, proj[0], proj[1], linewidth=3, head_width=.05, head_length=0.05, color ='gray')\n",
        "plt.arrow(0, 0, v[0], v[1], linewidth=3, head_width=.05, head_length=0.05, color ='green')\n",
        "plt.arrow(0, 0, w[0], w[1], linewidth=3, head_width=.05, head_length=0.05, color ='red')\n",
        "\n",
        "plt.title(\"Shadow of w\")\n",
        "plt.show()"
      ],
      "execution_count": 0,
      "outputs": [
        {
          "output_type": "display_data",
          "data": {
            "image/png": "[encoded data removed]",
            "text/plain": [
              "<matplotlib.figure.Figure at 0x7f85d633c358>"
            ]
          },
          "metadata": {
            "tags": []
          }
        }
      ]
    },
    {
      "cell_type": "markdown",
      "metadata": {
        "id": "1c5lGO9Br4LD",
        "colab_type": "text"
      },
      "source": [
        "The problem here is that we can't just draw a vector and call it a day, we can only define that vector in terms of our $v$ (green) vector.\n",
        "\n",
        "Our gray vector is defined as:\n",
        "\n",
        "\\begin{align}\n",
        "cv = proj_{L}(w)\n",
        "\\end{align}\n",
        "\n",
        "But what if $L$ wasn't on the x-axis? How would calculate the projection?"
      ]
    },
    {
      "cell_type": "code",
      "metadata": {
        "id": "4AEH3UNgsgwH",
        "colab_type": "code",
        "outputId": "67357afe-fe7c-48cd-b47d-e742718ab4fa",
        "colab": {
          "base_uri": "https://localhost:8080/",
          "height": 417
        }
      },
      "source": [
        "# Axis Bounds\n",
        "plt.xlim(-1.1,4)          \n",
        "plt.ylim(-1.1,4)\n",
        "\n",
        "# Original Vector\n",
        "v = [1,1/2] \n",
        "w = [2,2]\n",
        "proj = np.multiply(2.4,v)\n",
        "\n",
        "# Set axes\n",
        "axes = plt.gca()\n",
        "plt.axes().set_aspect('equal')\n",
        "\n",
        "# Get Vals for L\n",
        "x_vals = np.array(axes.get_xlim())\n",
        "y_vals = 1/2*x_vals\n",
        "\n",
        "# Plot Vectors and L\n",
        "plt.plot(x_vals, y_vals, '--', color='b', linewidth=1)\n",
        "plt.arrow(0, 0, proj[0], proj[1], linewidth=3, head_width=.05, head_length=0.05, color ='gray')\n",
        "plt.arrow(0, 0, v[0], v[1], linewidth=3, head_width=.05, head_length=0.05, color ='green')\n",
        "plt.arrow(0, 0, w[0], w[1], linewidth=3, head_width=.05, head_length=0.05, color ='red')\n",
        "\n",
        "plt.title(\"non x-axis projection\")\n",
        "plt.show()"
      ],
      "execution_count": 0,
      "outputs": [
        {
          "output_type": "stream",
          "text": [
            "/usr/local/lib/python3.6/dist-packages/matplotlib/cbook/deprecation.py:106: MatplotlibDeprecationWarning: Adding an axes using the same arguments as a previous axes currently reuses the earlier instance.  In a future version, a new instance will always be created and returned.  Meanwhile, this warning can be suppressed, and the future behavior ensured, by passing a unique label to each axes instance.\n",
            "  warnings.warn(message, mplDeprecation, stacklevel=1)\n"
          ],
          "name": "stderr"
        },
        {
          "output_type": "display_data",
          "data": {
            "image/png": "[encoded data removed]",
            "text/plain": [
              "<matplotlib.figure.Figure at 0x7f85d6415b38>"
            ]
          },
          "metadata": {
            "tags": []
          }
        }
      ]
    },
    {
      "cell_type": "markdown",
      "metadata": {
        "id": "MLEIt2cPzLJ_",
        "colab_type": "text"
      },
      "source": [
        "Remember, that it doesn't matter how long our $v$ (green) vectors is, we're just looking for the c value that can scale that vector to give us the gray vector $proj_{L}(w)$. "
      ]
    },
    {
      "cell_type": "code",
      "metadata": {
        "id": "RwvZkHBvzZYJ",
        "colab_type": "code",
        "outputId": "f4931a47-f252-443b-f5be-35609c88f418",
        "colab": {
          "base_uri": "https://localhost:8080/",
          "height": 417
        }
      },
      "source": [
        "# Axis Bounds\n",
        "plt.xlim(-1.1,4)          \n",
        "plt.ylim(-1.1,4)\n",
        "\n",
        "# Original Vector\n",
        "v = [1,1/2] \n",
        "w = [2,2]\n",
        "proj = np.multiply(2.4,v)\n",
        "x_minus_proj = w-proj\n",
        "\n",
        "# Set axes\n",
        "axes = plt.gca()\n",
        "plt.axes().set_aspect('equal')\n",
        "\n",
        "# Get Vals for L\n",
        "x_vals = np.array(axes.get_xlim())\n",
        "y_vals = 1/2*x_vals\n",
        "\n",
        "# Plot Vectors and L\n",
        "plt.plot(x_vals, y_vals, '--', color='b', linewidth=1)\n",
        "plt.arrow(0, 0, proj[0], proj[1], linewidth=3, head_width=.05, head_length=0.05, color ='gray')\n",
        "plt.arrow(0, 0, v[0], v[1], linewidth=3, head_width=.05, head_length=0.05, color ='green')\n",
        "plt.arrow(0, 0, w[0], w[1], linewidth=3, head_width=.05, head_length=0.05, color ='red')\n",
        "plt.arrow(proj[0], proj[1], x_minus_proj[0], x_minus_proj[1], linewidth=3, head_width=.05, head_length=0.05, color = 'yellow')\n",
        "\n",
        "plt.title(\"non x-axis projection\")\n",
        "plt.show()"
      ],
      "execution_count": 0,
      "outputs": [
        {
          "output_type": "stream",
          "text": [
            "/usr/local/lib/python3.6/dist-packages/matplotlib/cbook/deprecation.py:106: MatplotlibDeprecationWarning: Adding an axes using the same arguments as a previous axes currently reuses the earlier instance.  In a future version, a new instance will always be created and returned.  Meanwhile, this warning can be suppressed, and the future behavior ensured, by passing a unique label to each axes instance.\n",
            "  warnings.warn(message, mplDeprecation, stacklevel=1)\n"
          ],
          "name": "stderr"
        },
        {
          "output_type": "display_data",
          "data": {
            "image/png": "[encoded data removed]",
            "text/plain": [
              "<matplotlib.figure.Figure at 0x7f85d60c6b38>"
            ]
          },
          "metadata": {
            "tags": []
          }
        }
      ]
    },
    {
      "cell_type": "markdown",
      "metadata": {
        "id": "fXBpFhuK0Kev",
        "colab_type": "text"
      },
      "source": [
        "Lets use a trick. We're going to imagine that there is yellow vector that is orthogonal to $L$, that starts at the tip of our projection (gray) and ends at the tip of $w$ (red).\n",
        "\n",
        "### Here's the hard part\n",
        "\n",
        "This may not be intuitive, but we can define that yellow vector as $w-proj_{L}(w)$. Remember how two vectors added together act like we had placed one at the end of the other? Well this is the opposite, if we take some vector and subtract another vector, the tip moves to the end of the subtracted vector.\n",
        "\n",
        "Since we defined $proj_{L}(w)$ as $cv$ (above). We then rewrite the yellow vector as:\n",
        "\n",
        "\\begin{align}\n",
        "yellow = w-cv\n",
        "\\end{align}\n",
        "\n",
        "Since we know that our yellow vector is orthogonal to $v$ we can then set up the following equation:\n",
        "\n",
        "\\begin{align}\n",
        "v \\cdot (w-cv) = 0\n",
        "\\end{align}\n",
        "\n",
        "(remember that the dot product of two orthogonal vectors is 0)\n",
        "\n",
        "Now solving for $c$ we get\n",
        "\n",
        "1) Distribute the dot product\n",
        "\n",
        "\\begin{align}\n",
        "v \\cdot w - c(v \\cdot v) = 0\n",
        "\\end{align} \n",
        "\n",
        "2) add $c(v \\cdot v)$ to both sides\n",
        "\n",
        "\\begin{align}\n",
        "v \\cdot w = c(v \\cdot v)\n",
        "\\end{align} \n",
        "\n",
        "3) divide by $v \\cdot v$\n",
        "\n",
        "\\begin{align}\n",
        "c = \\frac{w \\cdot v}{v \\cdot v}\n",
        "\\end{align}\n",
        "\n",
        "Since $cv = proj_{L}(w)$ we know that: \n",
        "\n",
        "\\begin{align}\n",
        "proj_{L}(w) =  \\frac{w \\cdot v}{v \\cdot v}v\n",
        "\\end{align}\n",
        "\n",
        "This is the equation for the projection of any vector $w$ onto any line $L$!"
      ]
    },
    {
      "cell_type": "markdown",
      "metadata": {
        "id": "AMxgmcMB-KcO",
        "colab_type": "text"
      },
      "source": [
        "Think about if we were trying to project an already orthogonal vector onto a line:"
      ]
    },
    {
      "cell_type": "code",
      "metadata": {
        "id": "do_qBN5y7zbH",
        "colab_type": "code",
        "outputId": "f37cfe3a-96e3-4b8f-f7b7-9d0173c15f3e",
        "colab": {
          "base_uri": "https://localhost:8080/",
          "height": 363
        }
      },
      "source": [
        "# Axis Bounds\n",
        "plt.xlim(-1.1,4)          \n",
        "plt.ylim(-1.1,4)\n",
        "\n",
        "# Original Vector\n",
        "# v = [1,0] \n",
        "w = [0,2]\n",
        "proj = [2,0]\n",
        "\n",
        "# Get Vals for L\n",
        "axes = plt.gca()\n",
        "x_vals = np.array(axes.get_xlim())\n",
        "y_vals = 0*x_vals\n",
        "\n",
        "# Plot Vectors and L\n",
        "plt.plot(x_vals, y_vals, '--', color='b', linewidth=1)\n",
        "plt.arrow(0, 0, w[0], w[1], linewidth=3, head_width=.05, head_length=0.05, color ='red')\n",
        "\n",
        "plt.title(\"Shadow of w\")\n",
        "plt.show()"
      ],
      "execution_count": 0,
      "outputs": [
        {
          "output_type": "display_data",
          "data": {
            "image/png": "[encoded data removed]",
            "text/plain": [
              "<matplotlib.figure.Figure at 0x7f85d5f72400>"
            ]
          },
          "metadata": {
            "tags": []
          }
        }
      ]
    },
    {
      "cell_type": "markdown",
      "metadata": {
        "id": "RewQxqRh7zn8",
        "colab_type": "text"
      },
      "source": [
        "Now that you have a feel for linear projections, you can see that the $proj_{L}(w)$ is 0 mainly because $w \\cdot v$ is 0.\n",
        "\n",
        "Why have I gone to all of this trouble to explain linear projections? Because I think the intuition behind it is one of the most important things to grasp in linear algebra. We can find the shortest distance between some data point (vector) and a line best via an orthogonal projection onto that line. We can now move data points onto any given line and be certain that they move as little as possible from their original position. \n"
      ]
    },
    {
      "cell_type": "markdown",
      "metadata": {
        "id": "80BeKbv7jhwO",
        "colab_type": "text"
      },
      "source": [
        "The square of the norm of a vector is equivalent to the dot product of a vector with itself. \n",
        "\n",
        "The dot product of a vector and itself can be rewritten as that vector times the transpose of itself. "
      ]
    }
  ]
}