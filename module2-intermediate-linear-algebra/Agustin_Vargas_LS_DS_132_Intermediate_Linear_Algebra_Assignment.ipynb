{
  "nbformat": 4,
  "nbformat_minor": 0,
  "metadata": {
    "colab": {
      "name": "Agustin Vargas-LS_DS_132_Intermediate_Linear_Algebra_Assignment.ipynb",
      "provenance": [],
      "collapsed_sections": [
        "GSNiYn8lr6nN",
        "3d4izUhQvh2_",
        "7K0Xfh8MvYkl",
        "7AS4V1Nhvvxz",
        "MiNjyqiEz5SG",
        "MK_TpWqk1Evk",
        "Kpit6WWO1b8l",
        "dAdUQuep1_yJ",
        "o39UyP-I5lpP",
        "ajfBqYe45sT5",
        "TrJ0MT_n3SvO",
        "86iXLzwM2z8l",
        "YeUZVHRM6PpT",
        "20yPFBDUxxnS",
        "EHmUxbcY6vD3",
        "TKkrPwRM-Oar"
      ],
      "include_colab_link": true
    },
    "kernelspec": {
      "name": "python3",
      "display_name": "Python 3"
    }
  },
  "cells": [
    {
      "cell_type": "markdown",
      "metadata": {
        "id": "view-in-github",
        "colab_type": "text"
      },
      "source": [
        "<a href=\"https://colab.research.google.com/github/AVData/DS-Unit-1-Sprint-3-Linear-Algebra/blob/master/module2-intermediate-linear-algebra/Agustin_Vargas_LS_DS_132_Intermediate_Linear_Algebra_Assignment.ipynb\" target=\"_parent\"><img src=\"https://colab.research.google.com/assets/colab-badge.svg\" alt=\"Open In Colab\"/></a>"
      ]
    },
    {
      "cell_type": "markdown",
      "metadata": {
        "id": "GSNiYn8lr6nN",
        "colab_type": "text"
      },
      "source": [
        "# Statistics"
      ]
    },
    {
      "cell_type": "markdown",
      "metadata": {
        "id": "3d4izUhQvh2_",
        "colab_type": "text"
      },
      "source": [
        "## 1.1 Sales for the past week was the following amounts: [3505, 2400, 3027, 2798, 3700, 3250, 2689]. Without using library functions, what is the mean, variance, and standard deviation of of sales from last week? (for extra bonus points, write your own function that can calculate these two values for any sized list)"
      ]
    },
    {
      "cell_type": "code",
      "metadata": {
        "id": "F7K1oRdTxdb6",
        "colab_type": "code",
        "colab": {
          "base_uri": "https://localhost:8080/",
          "height": 34
        },
        "outputId": "8564f1aa-c078-4fa5-daf3-5f6c6430c677"
      },
      "source": [
        "sales = [3505, 2400, 3027, 2798, 3700, 3250, 2689]\n",
        "\n",
        "sales"
      ],
      "execution_count": 226,
      "outputs": [
        {
          "output_type": "execute_result",
          "data": {
            "text/plain": [
              "[3505, 2400, 3027, 2798, 3700, 3250, 2689]"
            ]
          },
          "metadata": {
            "tags": []
          },
          "execution_count": 226
        }
      ]
    },
    {
      "cell_type": "code",
      "metadata": {
        "id": "u2Aek3D078OF",
        "colab_type": "code",
        "colab": {
          "base_uri": "https://localhost:8080/",
          "height": 51
        },
        "outputId": "13a84c0f-98bb-4cb1-af03-176882f0792f"
      },
      "source": [
        "# Mean Formula\n",
        "\n",
        "def mean(lst):\n",
        "  return round(float((sum(lst))/len(lst)), 4)      \n",
        "  # Take the sum of the lst, devide by len(lst) and make it into a float,\n",
        "  # otherwise it can't be used with .extend() method as a NoneType\n",
        "\n",
        "print(mean(sales))\n",
        "type(mean(sales)) "
      ],
      "execution_count": 228,
      "outputs": [
        {
          "output_type": "stream",
          "text": [
            "3052.7143\n"
          ],
          "name": "stdout"
        },
        {
          "output_type": "execute_result",
          "data": {
            "text/plain": [
              "float"
            ]
          },
          "metadata": {
            "tags": []
          },
          "execution_count": 228
        }
      ]
    },
    {
      "cell_type": "code",
      "metadata": {
        "id": "W7Kc0tBa8nxY",
        "colab_type": "code",
        "colab": {
          "base_uri": "https://localhost:8080/",
          "height": 51
        },
        "outputId": "2841431d-cbec-4664-ac1c-7c1981bd1129"
      },
      "source": [
        "# Variance formula\n",
        "\n",
        "# The formula for Variance needs to have the difference between each list\n",
        "# element and the mean, then squared, and all devided by N - 1\n",
        "\n",
        "def sample_variance(lst):\n",
        "  variance = []        # we create an empty listto add our var-vals\n",
        "  for i in lst:        # run a For loop on th lst to obrtain sqrd-diff-vals\n",
        "    diff = [((i - mean(lst))**2)]\n",
        "    variance.extend(diff) # use .extend() to add sqrd-diff-vals to var-list\n",
        "  return round(float(sum(variance)/(len(lst)-1)), 4) # print results rounded to 4 dec places\n",
        "\n",
        "print(sample_variance(sales))\n",
        "type(sample_variance(sales))"
      ],
      "execution_count": 229,
      "outputs": [
        {
          "output_type": "stream",
          "text": [
            "214387.9048\n"
          ],
          "name": "stdout"
        },
        {
          "output_type": "execute_result",
          "data": {
            "text/plain": [
              "float"
            ]
          },
          "metadata": {
            "tags": []
          },
          "execution_count": 229
        }
      ]
    },
    {
      "cell_type": "code",
      "metadata": {
        "id": "ZCPOhJeF9fjy",
        "colab_type": "code",
        "colab": {
          "base_uri": "https://localhost:8080/",
          "height": 51
        },
        "outputId": "edbbc583-386f-4a97-ebdd-ae52b2c583e5"
      },
      "source": [
        "# Standard Deviation of Sample formula for a list\n",
        "\n",
        "def standard_dev(lst):\n",
        "  sample_variance(lst)\n",
        "  # print('Standard Deviation:', round(((sample_variance(lst))**(1/2)), 4))\n",
        "  return round((sample_variance(lst))**(1/2), 4)\n",
        "\n",
        "print(standard_dev(sales))\n",
        "type(standard_dev(sales))"
      ],
      "execution_count": 248,
      "outputs": [
        {
          "output_type": "stream",
          "text": [
            "463.0204\n"
          ],
          "name": "stdout"
        },
        {
          "output_type": "execute_result",
          "data": {
            "text/plain": [
              "float"
            ]
          },
          "metadata": {
            "tags": []
          },
          "execution_count": 248
        }
      ]
    },
    {
      "cell_type": "markdown",
      "metadata": {
        "id": "oh63KaOctEp_",
        "colab_type": "text"
      },
      "source": [
        "## 1.2 Find the covariance between last week's sales numbers and the number of customers that entered the store last week: [127, 80, 105, 92, 120, 115, 93] (you may use librray functions for calculating the covariance since we didn't specifically talk about its formula)"
      ]
    },
    {
      "cell_type": "code",
      "metadata": {
        "id": "G7ZB0krot564",
        "colab_type": "code",
        "colab": {
          "base_uri": "https://localhost:8080/",
          "height": 34
        },
        "outputId": "e1139773-7808-4909-d79e-0d5e17d9b87c"
      },
      "source": [
        "num_cust_last_wk = [127, 80, 105, 92, 120, 115, 93]\n",
        "num_cust_last_wk"
      ],
      "execution_count": 233,
      "outputs": [
        {
          "output_type": "execute_result",
          "data": {
            "text/plain": [
              "[127, 80, 105, 92, 120, 115, 93]"
            ]
          },
          "metadata": {
            "tags": []
          },
          "execution_count": 233
        }
      ]
    },
    {
      "cell_type": "code",
      "metadata": {
        "id": "5RsJGMfhBSsF",
        "colab_type": "code",
        "colab": {}
      },
      "source": [
        "import pandas as pd"
      ],
      "execution_count": 0,
      "outputs": []
    },
    {
      "cell_type": "code",
      "metadata": {
        "id": "Fz96LwJqBCE8",
        "colab_type": "code",
        "colab": {
          "base_uri": "https://localhost:8080/",
          "height": 266
        },
        "outputId": "e1c8a769-94ff-4041-e2d0-f0290c27bf90"
      },
      "source": [
        "sales_cust = {\"Sales\": sales, \"Customers\": num_cust_last_wk}\n",
        "\n",
        "sales_cust_df = pd.DataFrame(sales_cust)\n",
        "sales_cust_df"
      ],
      "execution_count": 255,
      "outputs": [
        {
          "output_type": "execute_result",
          "data": {
            "text/html": [
              "<div>\n",
              "<style scoped>\n",
              "    .dataframe tbody tr th:only-of-type {\n",
              "        vertical-align: middle;\n",
              "    }\n",
              "\n",
              "    .dataframe tbody tr th {\n",
              "        vertical-align: top;\n",
              "    }\n",
              "\n",
              "    .dataframe thead th {\n",
              "        text-align: right;\n",
              "    }\n",
              "</style>\n",
              "<table border=\"1\" class=\"dataframe\">\n",
              "  <thead>\n",
              "    <tr style=\"text-align: right;\">\n",
              "      <th></th>\n",
              "      <th>Sales</th>\n",
              "      <th>Customers</th>\n",
              "    </tr>\n",
              "  </thead>\n",
              "  <tbody>\n",
              "    <tr>\n",
              "      <th>0</th>\n",
              "      <td>3505</td>\n",
              "      <td>127</td>\n",
              "    </tr>\n",
              "    <tr>\n",
              "      <th>1</th>\n",
              "      <td>2400</td>\n",
              "      <td>80</td>\n",
              "    </tr>\n",
              "    <tr>\n",
              "      <th>2</th>\n",
              "      <td>3027</td>\n",
              "      <td>105</td>\n",
              "    </tr>\n",
              "    <tr>\n",
              "      <th>3</th>\n",
              "      <td>2798</td>\n",
              "      <td>92</td>\n",
              "    </tr>\n",
              "    <tr>\n",
              "      <th>4</th>\n",
              "      <td>3700</td>\n",
              "      <td>120</td>\n",
              "    </tr>\n",
              "    <tr>\n",
              "      <th>5</th>\n",
              "      <td>3250</td>\n",
              "      <td>115</td>\n",
              "    </tr>\n",
              "    <tr>\n",
              "      <th>6</th>\n",
              "      <td>2689</td>\n",
              "      <td>93</td>\n",
              "    </tr>\n",
              "  </tbody>\n",
              "</table>\n",
              "</div>"
            ],
            "text/plain": [
              "   Sales  Customers\n",
              "0   3505        127\n",
              "1   2400         80\n",
              "2   3027        105\n",
              "3   2798         92\n",
              "4   3700        120\n",
              "5   3250        115\n",
              "6   2689         93"
            ]
          },
          "metadata": {
            "tags": []
          },
          "execution_count": 255
        }
      ]
    },
    {
      "cell_type": "code",
      "metadata": {
        "id": "D7WkR1pdCFQs",
        "colab_type": "code",
        "colab": {
          "base_uri": "https://localhost:8080/",
          "height": 145
        },
        "outputId": "b7a1617e-00b5-4491-f38a-3bd04e573d63"
      },
      "source": [
        "print(\"Covariance between last week's sales\\nand nubmer of customers this week\")\n",
        "round(sales_cust_df.cov(), 2)"
      ],
      "execution_count": 261,
      "outputs": [
        {
          "output_type": "stream",
          "text": [
            "Covariance between last week's sales\n",
            "and nubmer of customers this week\n"
          ],
          "name": "stdout"
        },
        {
          "output_type": "execute_result",
          "data": {
            "text/html": [
              "<div>\n",
              "<style scoped>\n",
              "    .dataframe tbody tr th:only-of-type {\n",
              "        vertical-align: middle;\n",
              "    }\n",
              "\n",
              "    .dataframe tbody tr th {\n",
              "        vertical-align: top;\n",
              "    }\n",
              "\n",
              "    .dataframe thead th {\n",
              "        text-align: right;\n",
              "    }\n",
              "</style>\n",
              "<table border=\"1\" class=\"dataframe\">\n",
              "  <thead>\n",
              "    <tr style=\"text-align: right;\">\n",
              "      <th></th>\n",
              "      <th>Sales</th>\n",
              "      <th>Customers</th>\n",
              "    </tr>\n",
              "  </thead>\n",
              "  <tbody>\n",
              "    <tr>\n",
              "      <th>Sales</th>\n",
              "      <td>214387.90</td>\n",
              "      <td>7604.36</td>\n",
              "    </tr>\n",
              "    <tr>\n",
              "      <th>Customers</th>\n",
              "      <td>7604.36</td>\n",
              "      <td>290.95</td>\n",
              "    </tr>\n",
              "  </tbody>\n",
              "</table>\n",
              "</div>"
            ],
            "text/plain": [
              "               Sales  Customers\n",
              "Sales      214387.90    7604.36\n",
              "Customers    7604.36     290.95"
            ]
          },
          "metadata": {
            "tags": []
          },
          "execution_count": 261
        }
      ]
    },
    {
      "cell_type": "markdown",
      "metadata": {
        "id": "J9SbUY9mt66I",
        "colab_type": "text"
      },
      "source": [
        "## 1.3 Find the standard deviation of customers who entered the store last week. Then, use the standard deviations of both sales and customers to standardize the covariance to find the correlation coefficient that summarizes the relationship between sales and customers. (You may use library functions to check your work.)"
      ]
    },
    {
      "cell_type": "code",
      "metadata": {
        "id": "vFJms2YRrKhY",
        "colab_type": "code",
        "colab": {
          "base_uri": "https://localhost:8080/",
          "height": 34
        },
        "outputId": "7bcde31b-e616-46f1-b7e7-5f7e88c54d88"
      },
      "source": [
        "# Finding the standard dev for customers\n",
        "\n",
        "std_dev_cust = standard_dev(num_cust_last_wk)\n",
        "std_dev_cust"
      ],
      "execution_count": 249,
      "outputs": [
        {
          "output_type": "execute_result",
          "data": {
            "text/plain": [
              "17.0573"
            ]
          },
          "metadata": {
            "tags": []
          },
          "execution_count": 249
        }
      ]
    },
    {
      "cell_type": "code",
      "metadata": {
        "id": "LBn14ilVPGgY",
        "colab_type": "code",
        "colab": {
          "base_uri": "https://localhost:8080/",
          "height": 34
        },
        "outputId": "2d1c4939-019d-4039-e490-dac0a1066a74"
      },
      "source": [
        "std_dev_sales = standard_dev(sales)\n",
        "std_dev_sales"
      ],
      "execution_count": 260,
      "outputs": [
        {
          "output_type": "execute_result",
          "data": {
            "text/plain": [
              "463.0204"
            ]
          },
          "metadata": {
            "tags": []
          },
          "execution_count": 260
        }
      ]
    },
    {
      "cell_type": "code",
      "metadata": {
        "id": "uaU04wGuEeJy",
        "colab_type": "code",
        "colab": {
          "base_uri": "https://localhost:8080/",
          "height": 34
        },
        "outputId": "a1f1e563-18ec-49ae-999b-dfa1ae381143"
      },
      "source": [
        "r = round(((7604.36)/(std_dev_sales*std_dev_cust)), 4)\n",
        "r"
      ],
      "execution_count": 263,
      "outputs": [
        {
          "output_type": "execute_result",
          "data": {
            "text/plain": [
              "0.9628"
            ]
          },
          "metadata": {
            "tags": []
          },
          "execution_count": 263
        }
      ]
    },
    {
      "cell_type": "code",
      "metadata": {
        "id": "73Pb3I-EEfPG",
        "colab_type": "code",
        "colab": {
          "base_uri": "https://localhost:8080/",
          "height": 111
        },
        "outputId": "1ab569f2-15f4-4680-de67-4c2883d6da48"
      },
      "source": [
        "round(sales_cust_df.corr(), 4)"
      ],
      "execution_count": 264,
      "outputs": [
        {
          "output_type": "execute_result",
          "data": {
            "text/html": [
              "<div>\n",
              "<style scoped>\n",
              "    .dataframe tbody tr th:only-of-type {\n",
              "        vertical-align: middle;\n",
              "    }\n",
              "\n",
              "    .dataframe tbody tr th {\n",
              "        vertical-align: top;\n",
              "    }\n",
              "\n",
              "    .dataframe thead th {\n",
              "        text-align: right;\n",
              "    }\n",
              "</style>\n",
              "<table border=\"1\" class=\"dataframe\">\n",
              "  <thead>\n",
              "    <tr style=\"text-align: right;\">\n",
              "      <th></th>\n",
              "      <th>Sales</th>\n",
              "      <th>Customers</th>\n",
              "    </tr>\n",
              "  </thead>\n",
              "  <tbody>\n",
              "    <tr>\n",
              "      <th>Sales</th>\n",
              "      <td>1.0000</td>\n",
              "      <td>0.9628</td>\n",
              "    </tr>\n",
              "    <tr>\n",
              "      <th>Customers</th>\n",
              "      <td>0.9628</td>\n",
              "      <td>1.0000</td>\n",
              "    </tr>\n",
              "  </tbody>\n",
              "</table>\n",
              "</div>"
            ],
            "text/plain": [
              "            Sales  Customers\n",
              "Sales      1.0000     0.9628\n",
              "Customers  0.9628     1.0000"
            ]
          },
          "metadata": {
            "tags": []
          },
          "execution_count": 264
        }
      ]
    },
    {
      "cell_type": "markdown",
      "metadata": {
        "id": "IbZVf7nmujPJ",
        "colab_type": "text"
      },
      "source": [
        "## 1.4 Use pandas to import a cleaned version of the titanic dataset from the following link: [Titanic Dataset](https://raw.githubusercontent.com/Geoyi/Cleaning-Titanic-Data/master/titanic_clean.csv)\n",
        "\n",
        "## Calculate the variance-covariance matrix and correlation matrix for the titanic dataset's numeric columns. (you can encode some of the categorical variables and include them as a stretch goal if you finish early)"
      ]
    },
    {
      "cell_type": "code",
      "metadata": {
        "id": "0TWgUIiaCFzq",
        "colab_type": "code",
        "colab": {}
      },
      "source": [
        "import pandas as pd"
      ],
      "execution_count": 0,
      "outputs": []
    },
    {
      "cell_type": "code",
      "metadata": {
        "id": "KtMSzOPtqGfb",
        "colab_type": "code",
        "colab": {}
      },
      "source": [
        "titanic_df = pd.read_csv('https://raw.githubusercontent.com/Geoyi/Cleaning-Titanic-Data/master/titanic_clean.csv')"
      ],
      "execution_count": 0,
      "outputs": []
    },
    {
      "cell_type": "code",
      "metadata": {
        "id": "XtFOB-5WqR0i",
        "colab_type": "code",
        "colab": {}
      },
      "source": [
        "titanic_df.head()"
      ],
      "execution_count": 0,
      "outputs": []
    },
    {
      "cell_type": "code",
      "metadata": {
        "id": "r8R53Byurjuy",
        "colab_type": "code",
        "colab": {
          "base_uri": "https://localhost:8080/",
          "height": 173
        },
        "outputId": "7a2d85e1-0259-44ef-a5c1-fad941ecec60"
      },
      "source": [
        "titanic_df.describe(exclude='number')"
      ],
      "execution_count": 20,
      "outputs": [
        {
          "output_type": "execute_result",
          "data": {
            "text/html": [
              "<div>\n",
              "<style scoped>\n",
              "    .dataframe tbody tr th:only-of-type {\n",
              "        vertical-align: middle;\n",
              "    }\n",
              "\n",
              "    .dataframe tbody tr th {\n",
              "        vertical-align: top;\n",
              "    }\n",
              "\n",
              "    .dataframe thead th {\n",
              "        text-align: right;\n",
              "    }\n",
              "</style>\n",
              "<table border=\"1\" class=\"dataframe\">\n",
              "  <thead>\n",
              "    <tr style=\"text-align: right;\">\n",
              "      <th></th>\n",
              "      <th>name</th>\n",
              "      <th>sex</th>\n",
              "      <th>ticket</th>\n",
              "      <th>cabin</th>\n",
              "      <th>embarked</th>\n",
              "      <th>boat</th>\n",
              "      <th>home.dest</th>\n",
              "    </tr>\n",
              "  </thead>\n",
              "  <tbody>\n",
              "    <tr>\n",
              "      <th>count</th>\n",
              "      <td>1309</td>\n",
              "      <td>1309</td>\n",
              "      <td>1309</td>\n",
              "      <td>295</td>\n",
              "      <td>1310</td>\n",
              "      <td>486</td>\n",
              "      <td>745</td>\n",
              "    </tr>\n",
              "    <tr>\n",
              "      <th>unique</th>\n",
              "      <td>1307</td>\n",
              "      <td>2</td>\n",
              "      <td>929</td>\n",
              "      <td>186</td>\n",
              "      <td>3</td>\n",
              "      <td>27</td>\n",
              "      <td>369</td>\n",
              "    </tr>\n",
              "    <tr>\n",
              "      <th>top</th>\n",
              "      <td>Connolly, Miss. Kate</td>\n",
              "      <td>male</td>\n",
              "      <td>CA. 2343</td>\n",
              "      <td>C23 C25 C27</td>\n",
              "      <td>S</td>\n",
              "      <td>13</td>\n",
              "      <td>New York, NY</td>\n",
              "    </tr>\n",
              "    <tr>\n",
              "      <th>freq</th>\n",
              "      <td>2</td>\n",
              "      <td>843</td>\n",
              "      <td>11</td>\n",
              "      <td>6</td>\n",
              "      <td>917</td>\n",
              "      <td>39</td>\n",
              "      <td>64</td>\n",
              "    </tr>\n",
              "  </tbody>\n",
              "</table>\n",
              "</div>"
            ],
            "text/plain": [
              "                        name   sex    ticket  ... embarked boat     home.dest\n",
              "count                   1309  1309      1309  ...     1310  486           745\n",
              "unique                  1307     2       929  ...        3   27           369\n",
              "top     Connolly, Miss. Kate  male  CA. 2343  ...        S   13  New York, NY\n",
              "freq                       2   843        11  ...      917   39            64\n",
              "\n",
              "[4 rows x 7 columns]"
            ]
          },
          "metadata": {
            "tags": []
          },
          "execution_count": 20
        }
      ]
    },
    {
      "cell_type": "code",
      "metadata": {
        "id": "CUb3FMuVuIGa",
        "colab_type": "code",
        "colab": {
          "base_uri": "https://localhost:8080/",
          "height": 142
        },
        "outputId": "f6700d6c-8864-4458-b061-79040f0fc659"
      },
      "source": [
        "titanic_df_num = titanic_df.drop(columns=['Unnamed: 0', 'name', 'sex', 'ticket', \n",
        "                                          'cabin', 'embarked', \n",
        "                                          'boat', 'home.dest'], index=0)\n",
        "titanic_df_num.head(3)"
      ],
      "execution_count": 47,
      "outputs": [
        {
          "output_type": "execute_result",
          "data": {
            "text/html": [
              "<div>\n",
              "<style scoped>\n",
              "    .dataframe tbody tr th:only-of-type {\n",
              "        vertical-align: middle;\n",
              "    }\n",
              "\n",
              "    .dataframe tbody tr th {\n",
              "        vertical-align: top;\n",
              "    }\n",
              "\n",
              "    .dataframe thead th {\n",
              "        text-align: right;\n",
              "    }\n",
              "</style>\n",
              "<table border=\"1\" class=\"dataframe\">\n",
              "  <thead>\n",
              "    <tr style=\"text-align: right;\">\n",
              "      <th></th>\n",
              "      <th>pclass</th>\n",
              "      <th>survived</th>\n",
              "      <th>age</th>\n",
              "      <th>sibsp</th>\n",
              "      <th>parch</th>\n",
              "      <th>fare</th>\n",
              "      <th>body</th>\n",
              "      <th>has_cabin_number</th>\n",
              "    </tr>\n",
              "  </thead>\n",
              "  <tbody>\n",
              "    <tr>\n",
              "      <th>1</th>\n",
              "      <td>1.0</td>\n",
              "      <td>1.0</td>\n",
              "      <td>0.9167</td>\n",
              "      <td>1.0</td>\n",
              "      <td>2.0</td>\n",
              "      <td>151.55</td>\n",
              "      <td>NaN</td>\n",
              "      <td>1</td>\n",
              "    </tr>\n",
              "    <tr>\n",
              "      <th>2</th>\n",
              "      <td>1.0</td>\n",
              "      <td>0.0</td>\n",
              "      <td>2.0000</td>\n",
              "      <td>1.0</td>\n",
              "      <td>2.0</td>\n",
              "      <td>151.55</td>\n",
              "      <td>NaN</td>\n",
              "      <td>1</td>\n",
              "    </tr>\n",
              "    <tr>\n",
              "      <th>3</th>\n",
              "      <td>1.0</td>\n",
              "      <td>0.0</td>\n",
              "      <td>30.0000</td>\n",
              "      <td>1.0</td>\n",
              "      <td>2.0</td>\n",
              "      <td>151.55</td>\n",
              "      <td>135.0</td>\n",
              "      <td>1</td>\n",
              "    </tr>\n",
              "  </tbody>\n",
              "</table>\n",
              "</div>"
            ],
            "text/plain": [
              "   pclass  survived      age  sibsp  parch    fare   body  has_cabin_number\n",
              "1     1.0       1.0   0.9167    1.0    2.0  151.55    NaN                 1\n",
              "2     1.0       0.0   2.0000    1.0    2.0  151.55    NaN                 1\n",
              "3     1.0       0.0  30.0000    1.0    2.0  151.55  135.0                 1"
            ]
          },
          "metadata": {
            "tags": []
          },
          "execution_count": 47
        }
      ]
    },
    {
      "cell_type": "code",
      "metadata": {
        "id": "hgZeR90JvwV4",
        "colab_type": "code",
        "colab": {
          "base_uri": "https://localhost:8080/",
          "height": 170
        },
        "outputId": "2472909f-6eb7-4912-f504-35cbb3b48fa7"
      },
      "source": [
        "titanic_df_num.isnull().sum()"
      ],
      "execution_count": 48,
      "outputs": [
        {
          "output_type": "execute_result",
          "data": {
            "text/plain": [
              "pclass                 1\n",
              "survived               1\n",
              "age                    0\n",
              "sibsp                  1\n",
              "parch                  1\n",
              "fare                   2\n",
              "body                1188\n",
              "has_cabin_number       0\n",
              "dtype: int64"
            ]
          },
          "metadata": {
            "tags": []
          },
          "execution_count": 48
        }
      ]
    },
    {
      "cell_type": "code",
      "metadata": {
        "id": "iDqbQj8kwAm9",
        "colab_type": "code",
        "colab": {
          "base_uri": "https://localhost:8080/",
          "height": 142
        },
        "outputId": "e659e5d6-4357-4a7f-c72c-04afd8df376d"
      },
      "source": [
        "titanic_df_num = titanic_df_num.fillna(round(titanic_df_num.mean(), 2))\n",
        "titanic_df_num.head(3)"
      ],
      "execution_count": 49,
      "outputs": [
        {
          "output_type": "execute_result",
          "data": {
            "text/html": [
              "<div>\n",
              "<style scoped>\n",
              "    .dataframe tbody tr th:only-of-type {\n",
              "        vertical-align: middle;\n",
              "    }\n",
              "\n",
              "    .dataframe tbody tr th {\n",
              "        vertical-align: top;\n",
              "    }\n",
              "\n",
              "    .dataframe thead th {\n",
              "        text-align: right;\n",
              "    }\n",
              "</style>\n",
              "<table border=\"1\" class=\"dataframe\">\n",
              "  <thead>\n",
              "    <tr style=\"text-align: right;\">\n",
              "      <th></th>\n",
              "      <th>pclass</th>\n",
              "      <th>survived</th>\n",
              "      <th>age</th>\n",
              "      <th>sibsp</th>\n",
              "      <th>parch</th>\n",
              "      <th>fare</th>\n",
              "      <th>body</th>\n",
              "      <th>has_cabin_number</th>\n",
              "    </tr>\n",
              "  </thead>\n",
              "  <tbody>\n",
              "    <tr>\n",
              "      <th>1</th>\n",
              "      <td>1.0</td>\n",
              "      <td>1.0</td>\n",
              "      <td>0.9167</td>\n",
              "      <td>1.0</td>\n",
              "      <td>2.0</td>\n",
              "      <td>151.55</td>\n",
              "      <td>160.81</td>\n",
              "      <td>1</td>\n",
              "    </tr>\n",
              "    <tr>\n",
              "      <th>2</th>\n",
              "      <td>1.0</td>\n",
              "      <td>0.0</td>\n",
              "      <td>2.0000</td>\n",
              "      <td>1.0</td>\n",
              "      <td>2.0</td>\n",
              "      <td>151.55</td>\n",
              "      <td>160.81</td>\n",
              "      <td>1</td>\n",
              "    </tr>\n",
              "    <tr>\n",
              "      <th>3</th>\n",
              "      <td>1.0</td>\n",
              "      <td>0.0</td>\n",
              "      <td>30.0000</td>\n",
              "      <td>1.0</td>\n",
              "      <td>2.0</td>\n",
              "      <td>151.55</td>\n",
              "      <td>135.00</td>\n",
              "      <td>1</td>\n",
              "    </tr>\n",
              "  </tbody>\n",
              "</table>\n",
              "</div>"
            ],
            "text/plain": [
              "   pclass  survived      age  sibsp  parch    fare    body  has_cabin_number\n",
              "1     1.0       1.0   0.9167    1.0    2.0  151.55  160.81                 1\n",
              "2     1.0       0.0   2.0000    1.0    2.0  151.55  160.81                 1\n",
              "3     1.0       0.0  30.0000    1.0    2.0  151.55  135.00                 1"
            ]
          },
          "metadata": {
            "tags": []
          },
          "execution_count": 49
        }
      ]
    },
    {
      "cell_type": "code",
      "metadata": {
        "id": "WFYOqAgIwsKi",
        "colab_type": "code",
        "colab": {
          "base_uri": "https://localhost:8080/",
          "height": 170
        },
        "outputId": "a4b40c2e-87b0-4f50-d9ec-924575df32e1"
      },
      "source": [
        "titanic_df_num.isnull().sum()"
      ],
      "execution_count": 50,
      "outputs": [
        {
          "output_type": "execute_result",
          "data": {
            "text/plain": [
              "pclass              0\n",
              "survived            0\n",
              "age                 0\n",
              "sibsp               0\n",
              "parch               0\n",
              "fare                0\n",
              "body                0\n",
              "has_cabin_number    0\n",
              "dtype: int64"
            ]
          },
          "metadata": {
            "tags": []
          },
          "execution_count": 50
        }
      ]
    },
    {
      "cell_type": "code",
      "metadata": {
        "id": "pDhoqinRxiXC",
        "colab_type": "code",
        "colab": {
          "base_uri": "https://localhost:8080/",
          "height": 297
        },
        "outputId": "9935f452-690e-495b-fb78-bd037232ce0b"
      },
      "source": [
        "round(titanic_df_num.cov(), 2)"
      ],
      "execution_count": 53,
      "outputs": [
        {
          "output_type": "execute_result",
          "data": {
            "text/html": [
              "<div>\n",
              "<style scoped>\n",
              "    .dataframe tbody tr th:only-of-type {\n",
              "        vertical-align: middle;\n",
              "    }\n",
              "\n",
              "    .dataframe tbody tr th {\n",
              "        vertical-align: top;\n",
              "    }\n",
              "\n",
              "    .dataframe thead th {\n",
              "        text-align: right;\n",
              "    }\n",
              "</style>\n",
              "<table border=\"1\" class=\"dataframe\">\n",
              "  <thead>\n",
              "    <tr style=\"text-align: right;\">\n",
              "      <th></th>\n",
              "      <th>pclass</th>\n",
              "      <th>survived</th>\n",
              "      <th>age</th>\n",
              "      <th>sibsp</th>\n",
              "      <th>parch</th>\n",
              "      <th>fare</th>\n",
              "      <th>body</th>\n",
              "      <th>has_cabin_number</th>\n",
              "    </tr>\n",
              "  </thead>\n",
              "  <tbody>\n",
              "    <tr>\n",
              "      <th>pclass</th>\n",
              "      <td>0.70</td>\n",
              "      <td>-0.13</td>\n",
              "      <td>-3.96</td>\n",
              "      <td>0.05</td>\n",
              "      <td>0.01</td>\n",
              "      <td>-24.03</td>\n",
              "      <td>-0.26</td>\n",
              "      <td>-0.25</td>\n",
              "    </tr>\n",
              "    <tr>\n",
              "      <th>survived</th>\n",
              "      <td>-0.13</td>\n",
              "      <td>0.24</td>\n",
              "      <td>-0.31</td>\n",
              "      <td>-0.01</td>\n",
              "      <td>0.03</td>\n",
              "      <td>6.06</td>\n",
              "      <td>0.00</td>\n",
              "      <td>0.06</td>\n",
              "    </tr>\n",
              "    <tr>\n",
              "      <th>age</th>\n",
              "      <td>-3.96</td>\n",
              "      <td>-0.31</td>\n",
              "      <td>165.98</td>\n",
              "      <td>-2.56</td>\n",
              "      <td>-1.46</td>\n",
              "      <td>114.45</td>\n",
              "      <td>7.49</td>\n",
              "      <td>1.46</td>\n",
              "    </tr>\n",
              "    <tr>\n",
              "      <th>sibsp</th>\n",
              "      <td>0.05</td>\n",
              "      <td>-0.01</td>\n",
              "      <td>-2.56</td>\n",
              "      <td>1.08</td>\n",
              "      <td>0.34</td>\n",
              "      <td>8.70</td>\n",
              "      <td>-0.80</td>\n",
              "      <td>-0.00</td>\n",
              "    </tr>\n",
              "    <tr>\n",
              "      <th>parch</th>\n",
              "      <td>0.01</td>\n",
              "      <td>0.03</td>\n",
              "      <td>-1.46</td>\n",
              "      <td>0.34</td>\n",
              "      <td>0.75</td>\n",
              "      <td>9.97</td>\n",
              "      <td>0.39</td>\n",
              "      <td>0.01</td>\n",
              "    </tr>\n",
              "    <tr>\n",
              "      <th>fare</th>\n",
              "      <td>-24.03</td>\n",
              "      <td>6.06</td>\n",
              "      <td>114.45</td>\n",
              "      <td>8.70</td>\n",
              "      <td>9.97</td>\n",
              "      <td>2652.66</td>\n",
              "      <td>-16.21</td>\n",
              "      <td>10.86</td>\n",
              "    </tr>\n",
              "    <tr>\n",
              "      <th>body</th>\n",
              "      <td>-0.26</td>\n",
              "      <td>0.00</td>\n",
              "      <td>7.49</td>\n",
              "      <td>-0.80</td>\n",
              "      <td>0.39</td>\n",
              "      <td>-16.21</td>\n",
              "      <td>875.66</td>\n",
              "      <td>0.33</td>\n",
              "    </tr>\n",
              "    <tr>\n",
              "      <th>has_cabin_number</th>\n",
              "      <td>-0.25</td>\n",
              "      <td>0.06</td>\n",
              "      <td>1.46</td>\n",
              "      <td>-0.00</td>\n",
              "      <td>0.01</td>\n",
              "      <td>10.86</td>\n",
              "      <td>0.33</td>\n",
              "      <td>0.17</td>\n",
              "    </tr>\n",
              "  </tbody>\n",
              "</table>\n",
              "</div>"
            ],
            "text/plain": [
              "                  pclass  survived     age  ...     fare    body  has_cabin_number\n",
              "pclass              0.70     -0.13   -3.96  ...   -24.03   -0.26             -0.25\n",
              "survived           -0.13      0.24   -0.31  ...     6.06    0.00              0.06\n",
              "age                -3.96     -0.31  165.98  ...   114.45    7.49              1.46\n",
              "sibsp               0.05     -0.01   -2.56  ...     8.70   -0.80             -0.00\n",
              "parch               0.01      0.03   -1.46  ...     9.97    0.39              0.01\n",
              "fare              -24.03      6.06  114.45  ...  2652.66  -16.21             10.86\n",
              "body               -0.26      0.00    7.49  ...   -16.21  875.66              0.33\n",
              "has_cabin_number   -0.25      0.06    1.46  ...    10.86    0.33              0.17\n",
              "\n",
              "[8 rows x 8 columns]"
            ]
          },
          "metadata": {
            "tags": []
          },
          "execution_count": 53
        }
      ]
    },
    {
      "cell_type": "code",
      "metadata": {
        "id": "HkIdM4DUxoRM",
        "colab_type": "code",
        "colab": {
          "base_uri": "https://localhost:8080/",
          "height": 297
        },
        "outputId": "6ea9427a-2cb5-413a-9901-1a45fa92648c"
      },
      "source": [
        "round(titanic_df_num.corr(), 2)"
      ],
      "execution_count": 52,
      "outputs": [
        {
          "output_type": "execute_result",
          "data": {
            "text/html": [
              "<div>\n",
              "<style scoped>\n",
              "    .dataframe tbody tr th:only-of-type {\n",
              "        vertical-align: middle;\n",
              "    }\n",
              "\n",
              "    .dataframe tbody tr th {\n",
              "        vertical-align: top;\n",
              "    }\n",
              "\n",
              "    .dataframe thead th {\n",
              "        text-align: right;\n",
              "    }\n",
              "</style>\n",
              "<table border=\"1\" class=\"dataframe\">\n",
              "  <thead>\n",
              "    <tr style=\"text-align: right;\">\n",
              "      <th></th>\n",
              "      <th>pclass</th>\n",
              "      <th>survived</th>\n",
              "      <th>age</th>\n",
              "      <th>sibsp</th>\n",
              "      <th>parch</th>\n",
              "      <th>fare</th>\n",
              "      <th>body</th>\n",
              "      <th>has_cabin_number</th>\n",
              "    </tr>\n",
              "  </thead>\n",
              "  <tbody>\n",
              "    <tr>\n",
              "      <th>pclass</th>\n",
              "      <td>1.00</td>\n",
              "      <td>-0.31</td>\n",
              "      <td>-0.37</td>\n",
              "      <td>0.06</td>\n",
              "      <td>0.02</td>\n",
              "      <td>-0.56</td>\n",
              "      <td>-0.01</td>\n",
              "      <td>-0.71</td>\n",
              "    </tr>\n",
              "    <tr>\n",
              "      <th>survived</th>\n",
              "      <td>-0.31</td>\n",
              "      <td>1.00</td>\n",
              "      <td>-0.05</td>\n",
              "      <td>-0.03</td>\n",
              "      <td>0.08</td>\n",
              "      <td>0.24</td>\n",
              "      <td>0.00</td>\n",
              "      <td>0.30</td>\n",
              "    </tr>\n",
              "    <tr>\n",
              "      <th>age</th>\n",
              "      <td>-0.37</td>\n",
              "      <td>-0.05</td>\n",
              "      <td>1.00</td>\n",
              "      <td>-0.19</td>\n",
              "      <td>-0.13</td>\n",
              "      <td>0.17</td>\n",
              "      <td>0.02</td>\n",
              "      <td>0.27</td>\n",
              "    </tr>\n",
              "    <tr>\n",
              "      <th>sibsp</th>\n",
              "      <td>0.06</td>\n",
              "      <td>-0.03</td>\n",
              "      <td>-0.19</td>\n",
              "      <td>1.00</td>\n",
              "      <td>0.37</td>\n",
              "      <td>0.16</td>\n",
              "      <td>-0.03</td>\n",
              "      <td>-0.01</td>\n",
              "    </tr>\n",
              "    <tr>\n",
              "      <th>parch</th>\n",
              "      <td>0.02</td>\n",
              "      <td>0.08</td>\n",
              "      <td>-0.13</td>\n",
              "      <td>0.37</td>\n",
              "      <td>1.00</td>\n",
              "      <td>0.22</td>\n",
              "      <td>0.02</td>\n",
              "      <td>0.04</td>\n",
              "    </tr>\n",
              "    <tr>\n",
              "      <th>fare</th>\n",
              "      <td>-0.56</td>\n",
              "      <td>0.24</td>\n",
              "      <td>0.17</td>\n",
              "      <td>0.16</td>\n",
              "      <td>0.22</td>\n",
              "      <td>1.00</td>\n",
              "      <td>-0.01</td>\n",
              "      <td>0.51</td>\n",
              "    </tr>\n",
              "    <tr>\n",
              "      <th>body</th>\n",
              "      <td>-0.01</td>\n",
              "      <td>0.00</td>\n",
              "      <td>0.02</td>\n",
              "      <td>-0.03</td>\n",
              "      <td>0.02</td>\n",
              "      <td>-0.01</td>\n",
              "      <td>1.00</td>\n",
              "      <td>0.03</td>\n",
              "    </tr>\n",
              "    <tr>\n",
              "      <th>has_cabin_number</th>\n",
              "      <td>-0.71</td>\n",
              "      <td>0.30</td>\n",
              "      <td>0.27</td>\n",
              "      <td>-0.01</td>\n",
              "      <td>0.04</td>\n",
              "      <td>0.51</td>\n",
              "      <td>0.03</td>\n",
              "      <td>1.00</td>\n",
              "    </tr>\n",
              "  </tbody>\n",
              "</table>\n",
              "</div>"
            ],
            "text/plain": [
              "                  pclass  survived   age  ...  fare  body  has_cabin_number\n",
              "pclass              1.00     -0.31 -0.37  ... -0.56 -0.01             -0.71\n",
              "survived           -0.31      1.00 -0.05  ...  0.24  0.00              0.30\n",
              "age                -0.37     -0.05  1.00  ...  0.17  0.02              0.27\n",
              "sibsp               0.06     -0.03 -0.19  ...  0.16 -0.03             -0.01\n",
              "parch               0.02      0.08 -0.13  ...  0.22  0.02              0.04\n",
              "fare               -0.56      0.24  0.17  ...  1.00 -0.01              0.51\n",
              "body               -0.01      0.00  0.02  ... -0.01  1.00              0.03\n",
              "has_cabin_number   -0.71      0.30  0.27  ...  0.51  0.03              1.00\n",
              "\n",
              "[8 rows x 8 columns]"
            ]
          },
          "metadata": {
            "tags": []
          },
          "execution_count": 52
        }
      ]
    },
    {
      "cell_type": "markdown",
      "metadata": {
        "id": "7K0Xfh8MvYkl",
        "colab_type": "text"
      },
      "source": [
        "# Orthogonality"
      ]
    },
    {
      "cell_type": "markdown",
      "metadata": {
        "id": "Pe3eOZ2fvdZ-",
        "colab_type": "text"
      },
      "source": [
        "\n",
        "## 2.1 Plot two vectors that are orthogonal to each other. What is a synonym for orthogonal?"
      ]
    },
    {
      "cell_type": "code",
      "metadata": {
        "id": "YLSBk7hJvvCx",
        "colab_type": "code",
        "colab": {
          "base_uri": "https://localhost:8080/",
          "height": 315
        },
        "outputId": "ae1103dd-af6e-42c9-deb3-35c36e69b139"
      },
      "source": [
        "# In order to plot two orthogonal vectors we need matplotlib.pyplot library\n",
        "import matplotlib.pyplot as plt\n",
        "\n",
        "# creating the vectors\n",
        "orth_vec_1 = [1, 0]\n",
        "orth_vec_2 = [0, 1]\n",
        "\n",
        "# plotting the vectors for a visual rep.\n",
        "plt.arrow(0,0, orth_vec_1[0], orth_vec_1[1],head_width=.05, head_length=0.05, color ='g')\n",
        "plt.arrow(0,0, orth_vec_2[0], orth_vec_2[1],head_width=.05, head_length=0.05, color ='b')\n",
        "plt.xlim(-.25,1.25)          \n",
        "plt.ylim(-.25,1.25)\n",
        "plt.title(\"Orthogonal Vectors\")\n",
        "plt.show()\n",
        "\n",
        "print('Two vectors that are orthogonal to one another', '\\n', \n",
        "      'are also called perpendicular vectors')"
      ],
      "execution_count": 83,
      "outputs": [
        {
          "output_type": "display_data",
          "data": {
            "image/png": "[encoded data removed]",
            "text/plain": [
              "<Figure size 432x288 with 1 Axes>"
            ]
          },
          "metadata": {
            "tags": []
          }
        },
        {
          "output_type": "stream",
          "text": [
            "Two vectors that are orthogonal to one another \n",
            " are also called perpendicular vectors\n"
          ],
          "name": "stdout"
        }
      ]
    },
    {
      "cell_type": "markdown",
      "metadata": {
        "id": "7AS4V1Nhvvxz",
        "colab_type": "text"
      },
      "source": [
        "## 2.2 Are the following vectors orthogonal? Why or why not?\n",
        "\n",
        "\\begin{align}\n",
        "a = \\begin{bmatrix} -5 \\\\ 3 \\\\ 7 \\end{bmatrix}\n",
        "\\qquad\n",
        "b = \\begin{bmatrix} 6 \\\\ -8 \\\\ 2 \\end{bmatrix}\n",
        "\\end{align}"
      ]
    },
    {
      "cell_type": "code",
      "metadata": {
        "id": "F_-y54YSz47k",
        "colab_type": "code",
        "colab": {
          "base_uri": "https://localhost:8080/",
          "height": 85
        },
        "outputId": "46ca78d2-81ba-4196-8217-3b2fee032e40"
      },
      "source": [
        "# we can find this out two different ways\n",
        "\n",
        "# First lets utilize the mathematical approach\n",
        "# If the dot product of two vectors is 0, then they are said to be orthogonal\n",
        "\n",
        "# Let's import numpy\n",
        "import numpy as np\n",
        "\n",
        "# Creating the vectors\n",
        "vec_a = np.array([-5, 3, 7])\n",
        "print('Vector a:', vec_a)\n",
        "print('\\n')\n",
        "vec_b = np.array([6, -8, 2])\n",
        "print('Vector b:', vec_b)\n"
      ],
      "execution_count": 2,
      "outputs": [
        {
          "output_type": "stream",
          "text": [
            "Vector a: [-5  3  7]\n",
            "\n",
            "\n",
            "Vector b: [ 6 -8  2]\n"
          ],
          "name": "stdout"
        }
      ]
    },
    {
      "cell_type": "code",
      "metadata": {
        "id": "anpuPsE31CFA",
        "colab_type": "code",
        "colab": {
          "base_uri": "https://localhost:8080/",
          "height": 51
        },
        "outputId": "e070abb4-7fbb-4a39-f900-e5a5d514ecc9"
      },
      "source": [
        "# Using the dot product from numpy\n",
        "\n",
        "dot_a_b = np.dot(vec_a, vec_b)\n",
        "print('Orthogonal if dot product is 0', '\\n', dot_a_b)"
      ],
      "execution_count": 93,
      "outputs": [
        {
          "output_type": "stream",
          "text": [
            "Orthogonal if dot product is 0 \n",
            " -40\n"
          ],
          "name": "stdout"
        }
      ]
    },
    {
      "cell_type": "code",
      "metadata": {
        "id": "sFpXU7Dk2C92",
        "colab_type": "code",
        "colab": {
          "base_uri": "https://localhost:8080/",
          "height": 316
        },
        "outputId": "0271d7c8-209f-4144-dfda-6cc0020008c9"
      },
      "source": [
        "# Graphical rop of non-perpendicular vectors\n",
        "from mpl_toolkits.mplot3d import Axes3D\n",
        "\n",
        "vec_a = [-5, 3, 7]\n",
        "vec_b = [6, -8, 2]\n",
        "\n",
        "vectors = np.array([[0, 0, 0, -5, 3, 7], \n",
        "                    [0, 0, 0, 6, -8, 2]])\n",
        "\n",
        "Y, X, Z, U, V, W = zip(*vectors)\n",
        "fig = plt.figure()\n",
        "ax = fig.add_subplot(111, projection='3d')\n",
        "ax.quiver(Y, X, Z, U, V, W, length=1)\n",
        "ax.set_xlim([-7, 7])\n",
        "ax.set_ylim([-10, 5])\n",
        "ax.set_zlim([-5, 5])\n",
        "ax.set_xlabel('X')\n",
        "ax.set_ylabel('Y')\n",
        "ax.set_zlabel('Z')\n",
        "plt.show();\n",
        "print('\\n')\n",
        "print('We can see that the vectors are not at right angles', '\\n', \n",
        "      'to one another on the three dimensional graph')"
      ],
      "execution_count": 103,
      "outputs": [
        {
          "output_type": "display_data",
          "data": {
            "image/png": "[encoded data removed]",
            "text/plain": [
              "<Figure size 432x288 with 1 Axes>"
            ]
          },
          "metadata": {
            "tags": []
          }
        },
        {
          "output_type": "stream",
          "text": [
            "\n",
            "\n",
            "We can see that the vectors are not at right angles \n",
            " to one another on the three dimensional graph\n"
          ],
          "name": "stdout"
        }
      ]
    },
    {
      "cell_type": "markdown",
      "metadata": {
        "id": "MiNjyqiEz5SG",
        "colab_type": "text"
      },
      "source": [
        "## 2.3 Compute the following values: What do these quantities have in common?\n",
        "\n",
        "## What is $||c||^2$? \n",
        "\n",
        "## What is $c \\cdot c$? \n",
        "\n",
        "## What is $c^{T}c$?\n",
        "\n",
        "\\begin{align}\n",
        "c = \\begin{bmatrix} 2 & -15 & 6 & 20 \\end{bmatrix}\n",
        "\\end{align}"
      ]
    },
    {
      "cell_type": "code",
      "metadata": {
        "id": "IlV_uaYK1EQB",
        "colab_type": "code",
        "colab": {}
      },
      "source": [
        "# Creating the vector\n",
        "\n",
        "vec_c = np.array([[2, -15, 6, 20]])\n",
        "# np.transpose(vec_c)"
      ],
      "execution_count": 0,
      "outputs": []
    },
    {
      "cell_type": "code",
      "metadata": {
        "id": "YLBb85fui6FO",
        "colab_type": "code",
        "colab": {}
      },
      "source": [
        "import pandas as pd"
      ],
      "execution_count": 0,
      "outputs": []
    },
    {
      "cell_type": "code",
      "metadata": {
        "id": "LreMgY3Y5G0L",
        "colab_type": "code",
        "colab": {
          "base_uri": "https://localhost:8080/",
          "height": 34
        },
        "outputId": "024e7849-e77a-4195-dd7e-f2b5c1f0db36"
      },
      "source": [
        "# Computing the Norm (the square root of the sum of the squared elements)\n",
        "def norm_of_vec(vec):\n",
        "  norm =[]\n",
        "  for i in vec:\n",
        "    norm.extend((i)**2)\n",
        "  return sum(norm)\n",
        "print('Vector Norm:', norm_of_vec(vec_c))"
      ],
      "execution_count": 30,
      "outputs": [
        {
          "output_type": "stream",
          "text": [
            "Vector Norm: 665\n"
          ],
          "name": "stdout"
        }
      ]
    },
    {
      "cell_type": "code",
      "metadata": {
        "id": "O_3dNzxGwqhY",
        "colab_type": "code",
        "colab": {
          "base_uri": "https://localhost:8080/",
          "height": 34
        },
        "outputId": "55a076a4-5b46-4c93-d5dd-0bb9879d59b3"
      },
      "source": [
        "# computing the dot product of the same vector\n",
        "\n",
        "print('Vector dot product:', np.vdot(vec_c, vec_c))"
      ],
      "execution_count": 32,
      "outputs": [
        {
          "output_type": "stream",
          "text": [
            "Vector dot product: 665\n"
          ],
          "name": "stdout"
        }
      ]
    },
    {
      "cell_type": "code",
      "metadata": {
        "id": "uc7S8Erf-cDr",
        "colab_type": "code",
        "colab": {
          "base_uri": "https://localhost:8080/",
          "height": 102
        },
        "outputId": "76a00b70-ee7a-4425-ba0b-eb78ddc3f53d"
      },
      "source": [
        "# computing the matmult of the vector transpose and the vector\n",
        "\n",
        "vec_c_trans = np.transpose(vec_c)\n",
        "print('Vector c-Transpose mult Vector c:', '\\n', np.matmul(vec_c_trans, vec_c))"
      ],
      "execution_count": 34,
      "outputs": [
        {
          "output_type": "stream",
          "text": [
            "Vector c-Transpose mult Vector c: \n",
            " [[   4  -30   12   40]\n",
            " [ -30  225  -90 -300]\n",
            " [  12  -90   36  120]\n",
            " [  40 -300  120  400]]\n"
          ],
          "name": "stdout"
        }
      ]
    },
    {
      "cell_type": "markdown",
      "metadata": {
        "id": "MK_TpWqk1Evk",
        "colab_type": "text"
      },
      "source": [
        "# Unit Vectors"
      ]
    },
    {
      "cell_type": "markdown",
      "metadata": {
        "id": "Kpit6WWO1b8l",
        "colab_type": "text"
      },
      "source": [
        "## 3.1 Using Latex, write the following vectors as a linear combination of scalars and unit vectors:\n",
        "\n",
        "\\begin{align}\n",
        "d = \\begin{bmatrix} 7 \\\\ 12 \\end{bmatrix}\n",
        "\\qquad\n",
        "e = \\begin{bmatrix} 2 \\\\ 11 \\\\ -8  \\end{bmatrix}\n",
        "\\end{align}"
      ]
    },
    {
      "cell_type": "markdown",
      "metadata": {
        "id": "oBCj1sDW2ouC",
        "colab_type": "text"
      },
      "source": [
        "\\begin{align}\n",
        "d = \\begin{bmatrix} 7 \\\\ 12 \\end{bmatrix}\n",
        "\\end{align}\n",
        "\n",
        "\n",
        "\\begin{align}\n",
        "d = \\begin{bmatrix} 7 \\\\ 12 \\end{bmatrix} = 7\\begin{bmatrix} 1 \\\\ 0 \\end{bmatrix} + 12\\begin{bmatrix} 0 \\\\ 1 \\end{bmatrix} = 7\\hat{i} + 12\\hat{j}\n",
        "\\end{align}"
      ]
    },
    {
      "cell_type": "markdown",
      "metadata": {
        "id": "JM3T-eQMmkNH",
        "colab_type": "text"
      },
      "source": [
        "\\begin{align}\n",
        "e = \\begin{bmatrix} 2 \\\\ 11 \\\\ -8 \\end{bmatrix}\n",
        "\\end{align}\n",
        "\n",
        "\\begin{align}\n",
        "e = \\begin{bmatrix} 2 \\\\ 11 \\\\ -8 \\end{bmatrix} = 2\\begin{bmatrix} 1 \\\\ 0 \\\\ 0 \\end{bmatrix} + 11\\begin{bmatrix} 0 \\\\ 1 \\\\ 0 \\end{bmatrix} - 8\\begin{bmatrix} 0 \\\\ 0 \\\\ 1 \\end{bmatrix} = 2\\hat{i} + 11\\hat{j} - 8\\hat{k}\n",
        "\\end{align}"
      ]
    },
    {
      "cell_type": "code",
      "metadata": {
        "id": "F2W7RpzqnMae",
        "colab_type": "code",
        "colab": {}
      },
      "source": [
        ""
      ],
      "execution_count": 0,
      "outputs": []
    },
    {
      "cell_type": "markdown",
      "metadata": {
        "id": "dAdUQuep1_yJ",
        "colab_type": "text"
      },
      "source": [
        "## 3.2 Turn vector $f$ into a unit vector:\n",
        "\n",
        "\\begin{align}\n",
        "f = \\begin{bmatrix} 4 & 12 & 11 & 9 & 2 \\end{bmatrix}\n",
        "\\end{align}"
      ]
    },
    {
      "cell_type": "code",
      "metadata": {
        "id": "I3W8ZiHR1_Fa",
        "colab_type": "code",
        "colab": {
          "base_uri": "https://localhost:8080/",
          "height": 102
        },
        "outputId": "60ab24fb-8b90-41ed-aafc-8124d1870b89"
      },
      "source": [
        "# In order to turn f into a unit vector, we must first find the norm\n",
        "# then devide the vector elements by the norm of the vector\n",
        "\n",
        "vec_f = np.array([[4, 12, 11, 9, 2]])\n",
        "print('Vector f:', vec_f, '\\n')\n",
        "norm_f = norm_of_vec(vec_f)\n",
        "print('Norm of f:', norm_f, '\\n')\n",
        "vec_f_hat = (1/norm_f)*(vec_f)\n",
        "print('Unit vector f:', vec_f_hat)"
      ],
      "execution_count": 99,
      "outputs": [
        {
          "output_type": "stream",
          "text": [
            "Vector f: [[ 4 12 11  9  2]] \n",
            "\n",
            "Norm of f: 366 \n",
            "\n",
            "Unit vector f: [[0.01092896 0.03278689 0.03005464 0.02459016 0.00546448]]\n"
          ],
          "name": "stdout"
        }
      ]
    },
    {
      "cell_type": "markdown",
      "metadata": {
        "id": "o39UyP-I5lpP",
        "colab_type": "text"
      },
      "source": [
        "# Linear Independence / Dependence "
      ]
    },
    {
      "cell_type": "markdown",
      "metadata": {
        "id": "ajfBqYe45sT5",
        "colab_type": "text"
      },
      "source": [
        "## 4.1 Plot two vectors that are linearly dependent and two vectors that are linearly independent (bonus points if done in $\\mathbb{R}^3$)."
      ]
    },
    {
      "cell_type": "code",
      "metadata": {
        "id": "DVCKNaJ0pFYH",
        "colab_type": "code",
        "colab": {}
      },
      "source": [
        "import matplotlib.pyplot as plt"
      ],
      "execution_count": 0,
      "outputs": []
    },
    {
      "cell_type": "code",
      "metadata": {
        "id": "5daxEapCou-w",
        "colab_type": "code",
        "colab": {
          "base_uri": "https://localhost:8080/",
          "height": 281
        },
        "outputId": "6153dc70-f312-4c13-f652-e0673027512f"
      },
      "source": [
        "# Lin Dep Vecs Plot\n",
        "\n",
        "plt.xlim(-7, 11)          \n",
        "plt.ylim(-1, 5)\n",
        "\n",
        "# the vectors\n",
        "unit_vec = [10,0] \n",
        "vec_scaled_2 = np.multiply(-.5, unit_vec)\n",
        "\n",
        "# values for line blut line plot\n",
        "axes = plt.gca()\n",
        "x_vals = np.array(axes.get_xlim())\n",
        "y_vals = 0*x_vals\n",
        "\n",
        "# Plotting the line and vectors\n",
        "plt.plot(x_vals, y_vals, color='b', linewidth=1)\n",
        "plt.arrow(0,0, unit_vec[0], unit_vec[1], linewidth=5, head_width=.07, \n",
        "          head_length=0.07, color ='green')\n",
        "plt.arrow(0,0, vec_scaled_2[0], vec_scaled_2[1], linewidth=5, head_width=.07,\n",
        "          head_length=0.07, color ='yellow')\n",
        "\n",
        "plt.title(\"Linearly Dependent Vectors\")\n",
        "plt.show()"
      ],
      "execution_count": 69,
      "outputs": [
        {
          "output_type": "display_data",
          "data": {
            "image/png": "[encoded data removed]",
            "text/plain": [
              "<Figure size 432x288 with 1 Axes>"
            ]
          },
          "metadata": {
            "tags": []
          }
        }
      ]
    },
    {
      "cell_type": "code",
      "metadata": {
        "id": "WI8boFBGsXVN",
        "colab_type": "code",
        "colab": {
          "base_uri": "https://localhost:8080/",
          "height": 281
        },
        "outputId": "9f309deb-b4e2-46fb-de5d-b3d8acd52b4f"
      },
      "source": [
        "# Lin Indep. Vecs Plot\n",
        "\n",
        "plt.xlim(-5,5)          \n",
        "plt.ylim(-5,5)\n",
        "\n",
        "# Vectors\n",
        "vec_1 = [-3.5, 4] \n",
        "vec_2 = [-4, 3]\n",
        "\n",
        "# \n",
        "plt.arrow(0,0, vec_1[0], vec_1[1], linewidth=3, head_width=.05, head_length=0.05, color ='y')\n",
        "plt.arrow(0,0, vec_2[0], vec_2[1], linewidth=3, head_width=.05, head_length=0.05, color ='g')\n",
        "\n",
        "plt.title(\"Lin Indep Vectors\")\n",
        "plt.show()"
      ],
      "execution_count": 82,
      "outputs": [
        {
          "output_type": "display_data",
          "data": {
            "image/png": "[encoded data removed]",
            "text/plain": [
              "<Figure size 432x288 with 1 Axes>"
            ]
          },
          "metadata": {
            "tags": []
          }
        }
      ]
    },
    {
      "cell_type": "markdown",
      "metadata": {
        "id": "TrJ0MT_n3SvO",
        "colab_type": "text"
      },
      "source": [
        "# Span"
      ]
    },
    {
      "cell_type": "markdown",
      "metadata": {
        "id": "86iXLzwM2z8l",
        "colab_type": "text"
      },
      "source": [
        "## 5.1 What is the span of the following vectors?\n",
        "\n",
        "\\begin{align}\n",
        "g = \\begin{bmatrix} 1 & 2 \\end{bmatrix}\n",
        "\\qquad\n",
        "h = \\begin{bmatrix} 4 & 8 \\end{bmatrix}\n",
        "\\end{align}"
      ]
    },
    {
      "cell_type": "code",
      "metadata": {
        "id": "G2LK2RWL39Q4",
        "colab_type": "code",
        "colab": {}
      },
      "source": [
        "# From lookinga the vectors, I can already see that they are linearly dependent\n",
        "# and I can also see that the span is R^1\n",
        "\n",
        "vec_g = np.array([1, 2])\n",
        "vec_h = np.array([4, 8])\n",
        "\n",
        "# It's easy to see that each vector is a linear combination of the other, hence\n",
        "# we can find the pivito values for the first row, and say that the vectors are\n",
        "# of Rank 1, and span the number line (first dimension of space)"
      ],
      "execution_count": 0,
      "outputs": []
    },
    {
      "cell_type": "markdown",
      "metadata": {
        "id": "l1deylUj4IHH",
        "colab_type": "text"
      },
      "source": [
        "## 5.2 What is the span of $\\{l, m, n\\}$?\n",
        "\n",
        "\\begin{align}\n",
        "l = \\begin{bmatrix} 1 & 2 & 3 \\end{bmatrix}\n",
        "\\qquad\n",
        "m = \\begin{bmatrix} -1 & 0 & 7 \\end{bmatrix}\n",
        "\\qquad\n",
        "n = \\begin{bmatrix} 4 & 8  & 2\\end{bmatrix}\n",
        "\\end{align}"
      ]
    },
    {
      "cell_type": "code",
      "metadata": {
        "id": "p1i_ueD25ZcP",
        "colab_type": "code",
        "colab": {
          "base_uri": "https://localhost:8080/",
          "height": 68
        },
        "outputId": "0d0f4615-0805-4e06-c38d-40ef884cf437"
      },
      "source": [
        "vec_l = np.array([1, 2, 3])\n",
        "vec_m = np.array([-1, 0, 7])\n",
        "vec_n = np.array([4, 8, 2])\n",
        "\n",
        "red_row_mat = np.array([vec_l, vec_m, vec_n])\n",
        "red_row_mat"
      ],
      "execution_count": 147,
      "outputs": [
        {
          "output_type": "execute_result",
          "data": {
            "text/plain": [
              "array([[ 1,  2,  3],\n",
              "       [-1,  0,  7],\n",
              "       [ 4,  8,  2]])"
            ]
          },
          "metadata": {
            "tags": []
          },
          "execution_count": 147
        }
      ]
    },
    {
      "cell_type": "code",
      "metadata": {
        "id": "9l3hOG9m2zxp",
        "colab_type": "code",
        "colab": {
          "base_uri": "https://localhost:8080/",
          "height": 68
        },
        "outputId": "7d45a921-9b40-46bb-91ee-f1aac6bd56f4"
      },
      "source": [
        "red_row_mat = np.array([(-1*vec_m), vec_l, vec_n])\n",
        "red_row_mat "
      ],
      "execution_count": 148,
      "outputs": [
        {
          "output_type": "execute_result",
          "data": {
            "text/plain": [
              "array([[ 1,  0, -7],\n",
              "       [ 1,  2,  3],\n",
              "       [ 4,  8,  2]])"
            ]
          },
          "metadata": {
            "tags": []
          },
          "execution_count": 148
        }
      ]
    },
    {
      "cell_type": "code",
      "metadata": {
        "id": "2EwkHa6O3HrX",
        "colab_type": "code",
        "colab": {
          "base_uri": "https://localhost:8080/",
          "height": 68
        },
        "outputId": "574dff3d-4962-40c3-d99d-78e07c7cd336"
      },
      "source": [
        "red_row_mat = np.array([(-1*vec_m), (vec_m+vec_l), vec_n])\n",
        "\n",
        "red_row_mat"
      ],
      "execution_count": 149,
      "outputs": [
        {
          "output_type": "execute_result",
          "data": {
            "text/plain": [
              "array([[ 1,  0, -7],\n",
              "       [ 0,  2, 10],\n",
              "       [ 4,  8,  2]])"
            ]
          },
          "metadata": {
            "tags": []
          },
          "execution_count": 149
        }
      ]
    },
    {
      "cell_type": "code",
      "metadata": {
        "id": "_VV2abvh30wJ",
        "colab_type": "code",
        "colab": {
          "base_uri": "https://localhost:8080/",
          "height": 68
        },
        "outputId": "1c589cef-ddfb-4750-940f-b18e24e196c9"
      },
      "source": [
        "new_vec_l = (vec_m+vec_l)/2\n",
        "red_row_mat = np.array([(-1*vec_m), new_vec_l, vec_n])\n",
        "red_row_mat"
      ],
      "execution_count": 150,
      "outputs": [
        {
          "output_type": "execute_result",
          "data": {
            "text/plain": [
              "array([[ 1.,  0., -7.],\n",
              "       [ 0.,  1.,  5.],\n",
              "       [ 4.,  8.,  2.]])"
            ]
          },
          "metadata": {
            "tags": []
          },
          "execution_count": 150
        }
      ]
    },
    {
      "cell_type": "code",
      "metadata": {
        "id": "kibyrA1r49oB",
        "colab_type": "code",
        "colab": {
          "base_uri": "https://localhost:8080/",
          "height": 68
        },
        "outputId": "5a4e5571-23e4-47c3-c8e9-adade6effea5"
      },
      "source": [
        "red_row_mat = np.array([(-1*vec_m), ((vec_m+vec_l)/2), ((4*vec_m)+vec_n)])\n",
        "red_row_mat"
      ],
      "execution_count": 151,
      "outputs": [
        {
          "output_type": "execute_result",
          "data": {
            "text/plain": [
              "array([[ 1.,  0., -7.],\n",
              "       [ 0.,  1.,  5.],\n",
              "       [ 0.,  8., 30.]])"
            ]
          },
          "metadata": {
            "tags": []
          },
          "execution_count": 151
        }
      ]
    },
    {
      "cell_type": "code",
      "metadata": {
        "id": "JS1RdO-s5RVz",
        "colab_type": "code",
        "colab": {
          "base_uri": "https://localhost:8080/",
          "height": 136
        },
        "outputId": "a1b9567a-c238-4b32-c943-5950b8d84df6"
      },
      "source": [
        "red_row_mat = np.array([(-1*vec_m), ((vec_m+vec_l)/2), (((-8*((vec_m+vec_l)/2))+((4*vec_m)+vec_n))/-10)])\n",
        "print('It seems that from the recduced row echolon form', '\\n',\n",
        "      'the matrix is of Rank 3, and it spans', '\\n',\n",
        "      'three dimensional space', '\\n', '\\n', red_row_mat)"
      ],
      "execution_count": 152,
      "outputs": [
        {
          "output_type": "stream",
          "text": [
            "It seems that from the recduced row echolon form \n",
            " the matrix is of Rank 3, and it spans \n",
            " three dimensional space \n",
            " \n",
            " [[ 1.  0. -7.]\n",
            " [ 0.  1.  5.]\n",
            " [-0. -0.  1.]]\n"
          ],
          "name": "stdout"
        }
      ]
    },
    {
      "cell_type": "markdown",
      "metadata": {
        "id": "IBqe7X1732kX",
        "colab_type": "text"
      },
      "source": [
        "# Basis"
      ]
    },
    {
      "cell_type": "markdown",
      "metadata": {
        "id": "YeUZVHRM6PpT",
        "colab_type": "text"
      },
      "source": [
        "## 6.1 Graph two vectors that form a basis for $\\mathbb{R}^2$\n",
        "\n"
      ]
    },
    {
      "cell_type": "code",
      "metadata": {
        "id": "utvF3Pkt8NP6",
        "colab_type": "code",
        "colab": {
          "base_uri": "https://localhost:8080/",
          "height": 332
        },
        "outputId": "f4a83968-8963-444c-d98d-9a60e6a9c8c2"
      },
      "source": [
        "# In order to plot two orthogonal vectors we need matplotlib.pyplot library\n",
        "import matplotlib.pyplot as plt\n",
        "\n",
        "# creating the vectors\n",
        "orth_vec_1 = [1, 0]\n",
        "orth_vec_2 = [0, 1]\n",
        "\n",
        "# plotting the vectors for a visual rep.\n",
        "plt.arrow(0,0, orth_vec_1[0], orth_vec_1[1],head_width=.05, head_length=0.05, color ='g')\n",
        "plt.arrow(0,0, orth_vec_2[0], orth_vec_2[1],head_width=.05, head_length=0.05, color ='b')\n",
        "plt.xlim(-.25,1.25)          \n",
        "plt.ylim(-.25,1.25)\n",
        "plt.title(\"Linearly Independent Vectors\")\n",
        "plt.show()\n",
        "\n",
        "print('These two vectors that are orthogonal and also', '\\n',\n",
        "      'lineraly independent, which also means they span', '\\n',\n",
        "      'the R^2 space')"
      ],
      "execution_count": 157,
      "outputs": [
        {
          "output_type": "display_data",
          "data": {
            "image/png": "[encoded data removed]",
            "text/plain": [
              "<Figure size 432x288 with 1 Axes>"
            ]
          },
          "metadata": {
            "tags": []
          }
        },
        {
          "output_type": "stream",
          "text": [
            "These two vectors that are orthogonal and also \n",
            " lineraly independent, which also means they span \n",
            " the R^2 space\n"
          ],
          "name": "stdout"
        }
      ]
    },
    {
      "cell_type": "markdown",
      "metadata": {
        "id": "20yPFBDUxxnS",
        "colab_type": "text"
      },
      "source": [
        "## 6.2 What does it mean to form a basis?"
      ]
    },
    {
      "cell_type": "markdown",
      "metadata": {
        "id": "3w4tEayT8M0o",
        "colab_type": "text"
      },
      "source": [
        "**To form a basis refers to forming a basis of a vector space; which is to take a set of n number of linearly independent vectors where their linear combinations fill the (vector) space**"
      ]
    },
    {
      "cell_type": "markdown",
      "metadata": {
        "id": "EHmUxbcY6vD3",
        "colab_type": "text"
      },
      "source": [
        "# Rank"
      ]
    },
    {
      "cell_type": "markdown",
      "metadata": {
        "id": "IpJwt9kw6v8U",
        "colab_type": "text"
      },
      "source": [
        "## 7.1 What is the Rank of P?\n",
        "\n",
        "\\begin{align}\n",
        "P = \\begin{bmatrix} \n",
        "1 & 2 & 3 \\\\\n",
        " -1 & 0 & 7 \\\\\n",
        "4 & 8  & 2\n",
        "\\end{bmatrix}\n",
        "\\end{align}"
      ]
    },
    {
      "cell_type": "markdown",
      "metadata": {
        "id": "rFwfadAZEAnV",
        "colab_type": "text"
      },
      "source": [
        "**The Rank of P is 3, as can be seen in 5.2**"
      ]
    },
    {
      "cell_type": "markdown",
      "metadata": {
        "id": "jGqFMBYY7mHD",
        "colab_type": "text"
      },
      "source": [
        "## 7.2 What does the rank of a matrix tell us?"
      ]
    },
    {
      "cell_type": "markdown",
      "metadata": {
        "id": "Vjg1IiCD8nnP",
        "colab_type": "text"
      },
      "source": [
        "**The rank of a matrix tells us what vector space the matrix spans.**"
      ]
    },
    {
      "cell_type": "markdown",
      "metadata": {
        "id": "0Db2sc_V8QD6",
        "colab_type": "text"
      },
      "source": [
        "# Linear Projections\n",
        "\n",
        "## 8.1 Line $L$ is formed by all of the vectors that can be created by scaling vector $v$ \n",
        "\\begin{align}\n",
        "v = \\begin{bmatrix} 1 & 3 \\end{bmatrix}\n",
        "\\end{align}\n",
        "\n",
        "\\begin{align}\n",
        "w = \\begin{bmatrix} -1 & 2 \\end{bmatrix}\n",
        "\\end{align}\n",
        "\n",
        "## find $proj_{L}(w)$\n",
        "\n",
        "## graph your projected vector to check your work (make sure your axis are square/even)"
      ]
    },
    {
      "cell_type": "code",
      "metadata": {
        "id": "hp5z2WTBCNKx",
        "colab_type": "code",
        "colab": {}
      },
      "source": [
        "vec_v = np.array([1, 3])\n",
        "vec_w = np.array([-1, 2])"
      ],
      "execution_count": 0,
      "outputs": []
    },
    {
      "cell_type": "code",
      "metadata": {
        "id": "4kiJn95zEqxA",
        "colab_type": "code",
        "colab": {
          "base_uri": "https://localhost:8080/",
          "height": 34
        },
        "outputId": "9a7e51b6-59b3-45ef-9a73-6225890315db"
      },
      "source": [
        "proj_L_w = (np.vdot(vec_w, vec_v)/np.vdot(vec_v, vec_v))*vec_v\n",
        "proj_L_w"
      ],
      "execution_count": 163,
      "outputs": [
        {
          "output_type": "execute_result",
          "data": {
            "text/plain": [
              "array([0.5, 1.5])"
            ]
          },
          "metadata": {
            "tags": []
          },
          "execution_count": 163
        }
      ]
    },
    {
      "cell_type": "code",
      "metadata": {
        "id": "gv6-IBpiGZer",
        "colab_type": "code",
        "colab": {
          "base_uri": "https://localhost:8080/",
          "height": 352
        },
        "outputId": "67b876e3-c6d0-464b-ca95-3fd2a7d61fab"
      },
      "source": [
        "# Axis Bounds\n",
        "plt.xlim(-3.4,3.4)          \n",
        "plt.ylim(-3.4,3.4)\n",
        "\n",
        "# Original Vector\n",
        "v = np.array([1,3]) \n",
        "w = np.array([-1,2])\n",
        "proj = np.array([0.5, 1.5])\n",
        "x_minus_proj = w-proj\n",
        "\n",
        "# Set axes\n",
        "axes = plt.gca()\n",
        "plt.axes().set_aspect('equal')\n",
        "\n",
        "# x_vals = np.array(axes.get_xlim())\n",
        "y_vals = 3*x_vals\n",
        "\n",
        "# Plot Vectors and L\n",
        "plt.plot(x_vals, y_vals, '--', color='b', linewidth=1)\n",
        "plt.arrow(0, 0, v[0], v[1], linewidth=3, head_width=.05, head_length=0.05, color ='yellow')\n",
        "plt.arrow(0, 0, proj[0], proj[1], linewidth=3, head_width=.05, head_length=0.05, color ='gray')\n",
        "plt.arrow(0, 0, w[0], w[1], linewidth=3, head_width=.05, head_length=0.05, color ='green')\n",
        "plt.arrow(proj[0], proj[1], x_minus_proj[0], x_minus_proj[1], linewidth=3, head_width=.05, head_length=0.05, color = 'red')\n",
        "\n",
        "plt.title(\"non x-axis projection\")\n",
        "plt.show();\n",
        "\n",
        "print('Projected vector is plotted in gray')"
      ],
      "execution_count": 233,
      "outputs": [
        {
          "output_type": "stream",
          "text": [
            "/usr/local/lib/python3.6/dist-packages/ipykernel_launcher.py:12: MatplotlibDeprecationWarning: Adding an axes using the same arguments as a previous axes currently reuses the earlier instance.  In a future version, a new instance will always be created and returned.  Meanwhile, this warning can be suppressed, and the future behavior ensured, by passing a unique label to each axes instance.\n",
            "  if sys.path[0] == '':\n"
          ],
          "name": "stderr"
        },
        {
          "output_type": "display_data",
          "data": {
            "image/png": "[encoded data removed]",
            "text/plain": [
              "<Figure size 432x288 with 1 Axes>"
            ]
          },
          "metadata": {
            "tags": []
          }
        },
        {
          "output_type": "stream",
          "text": [
            "Projected vector is plotted in gray\n"
          ],
          "name": "stdout"
        }
      ]
    },
    {
      "cell_type": "markdown",
      "metadata": {
        "id": "TKkrPwRM-Oar",
        "colab_type": "text"
      },
      "source": [
        "# Stretch Goal\n",
        "\n",
        "## For vectors that begin at the origin, the coordinates of where the vector ends can be interpreted as regular data points. (See 3Blue1Brown videos about Spans, Basis, etc.)\n",
        "\n",
        "## Write a function that can calculate the linear projection of each point (x,y) (vector) onto the line y=x. run the function and plot the original points in blue and the new projected points on the line y=x in red. \n",
        "\n",
        "## For extra points plot the orthogonal vectors as a dashed line from the original blue points to the projected red points."
      ]
    },
    {
      "cell_type": "code",
      "metadata": {
        "id": "cp52kZra-ykj",
        "colab_type": "code",
        "outputId": "12502200-eafe-4e20-bfb7-2d539c6027cb",
        "colab": {
          "base_uri": "https://localhost:8080/",
          "height": 347
        }
      },
      "source": [
        "import pandas as pd\n",
        "import matplotlib.pyplot as plt\n",
        "\n",
        "# Creating a dataframe for you to work with -Feel free to not use the dataframe if you don't want to.\n",
        "x_values = [1, 4, 7, 3, 9, 4, 5 ]\n",
        "y_values = [4, 2, 5, 0, 8, 2, 8]\n",
        "\n",
        "data = {\"x\": x_values, \"y\": y_values}\n",
        "\n",
        "df = pd.DataFrame(data)\n",
        "\n",
        "df.head()\n",
        "\n",
        "plt.scatter(df.x, df.y)\n",
        "plt.show()"
      ],
      "execution_count": 0,
      "outputs": [
        {
          "output_type": "display_data",
          "data": {
            "image/png": "[encoded data removed]",
            "text/plain": [
              "<matplotlib.figure.Figure at 0x7f787cfb2978>"
            ]
          },
          "metadata": {
            "tags": []
          }
        }
      ]
    },
    {
      "cell_type": "code",
      "metadata": {
        "id": "EZTA6Tj6BGDb",
        "colab_type": "code",
        "colab": {}
      },
      "source": [
        ""
      ],
      "execution_count": 0,
      "outputs": []
    }
  ]
}