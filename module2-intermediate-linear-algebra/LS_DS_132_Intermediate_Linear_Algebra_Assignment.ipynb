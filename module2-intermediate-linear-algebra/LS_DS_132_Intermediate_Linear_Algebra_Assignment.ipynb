{
  "nbformat": 4,
  "nbformat_minor": 0,
  "metadata": {
    "colab": {
      "name": "LS_DS_132_Intermediate_Linear_Algebra_Assignment.ipynb",
      "provenance": [],
      "collapsed_sections": [],
      "include_colab_link": true
    },
    "kernelspec": {
      "name": "python3",
      "display_name": "Python 3"
    }
  },
  "cells": [
    {
      "cell_type": "markdown",
      "metadata": {
        "id": "view-in-github",
        "colab_type": "text"
      },
      "source": [
        "<a href=\"https://colab.research.google.com/github/danielbrioli/DS-Unit-1-Sprint-3-Linear-Algebra/blob/master/module2-intermediate-linear-algebra/LS_DS_132_Intermediate_Linear_Algebra_Assignment.ipynb\" target=\"_parent\"><img src=\"https://colab.research.google.com/assets/colab-badge.svg\" alt=\"Open In Colab\"/></a>"
      ]
    },
    {
      "cell_type": "markdown",
      "metadata": {
        "id": "GSNiYn8lr6nN",
        "colab_type": "text"
      },
      "source": [
        "# Statistics"
      ]
    },
    {
      "cell_type": "markdown",
      "metadata": {
        "id": "3d4izUhQvh2_",
        "colab_type": "text"
      },
      "source": [
        "## 1.1 Sales for the past week was the following amounts: [3505, 2400, 3027, 2798, 3700, 3250, 2689]. Without using library functions, what is the mean, variance, and standard deviation of of sales from last week? (for extra bonus points, write your own function that can calculate these two values for any sized list)"
      ]
    },
    {
      "cell_type": "code",
      "metadata": {
        "id": "w1iZfYvBtEA1",
        "colab_type": "code",
        "colab": {}
      },
      "source": [
        "def mvs(num_set):\n",
        "  num_count = 0\n",
        "  num_sum = 0\n",
        "  var = 0\n",
        "  for value in num_set:\n",
        "    num_sum = num_sum + value\n",
        "    num_count = num_count + 1\n",
        "  mean = num_sum / num_count\n",
        "  for value in num_set:\n",
        "    var = var + (value - mean)**2\n",
        "  var = var / (num_count - 1)\n",
        "  std = var**0.5\n",
        "  return mean, var, std"
      ],
      "execution_count": 0,
      "outputs": []
    },
    {
      "cell_type": "code",
      "metadata": {
        "id": "PT373QFyJFd5",
        "colab_type": "code",
        "colab": {
          "base_uri": "https://localhost:8080/",
          "height": 34
        },
        "outputId": "115add9c-ae5f-4433-91b2-9c01e5f5408f"
      },
      "source": [
        "test_list = [3505, 2400, 3027, 2798, 3700, 3250, 2689]\n",
        "\n",
        "print(mvs(test_list))"
      ],
      "execution_count": 4,
      "outputs": [
        {
          "output_type": "stream",
          "text": [
            "(3052.714285714286, 214387.90476190473, 463.0204150595357)\n"
          ],
          "name": "stdout"
        }
      ]
    },
    {
      "cell_type": "markdown",
      "metadata": {
        "id": "oh63KaOctEp_",
        "colab_type": "text"
      },
      "source": [
        "## 1.2 Find the covariance between last week's sales numbers and the number of customers that entered the store last week: [127, 80, 105, 92, 120, 115, 93] (you may use librray functions for calculating the covariance since we didn't specifically talk about its formula)"
      ]
    },
    {
      "cell_type": "code",
      "metadata": {
        "id": "G7ZB0krot564",
        "colab_type": "code",
        "colab": {
          "base_uri": "https://localhost:8080/",
          "height": 68
        },
        "outputId": "ae43f731-33b6-45ae-aa2b-4ec421e3e4b7"
      },
      "source": [
        "test_list2 = [127, 80, 105, 92, 120, 115, 93]\n",
        "\n",
        "import numpy as np\n",
        "\n",
        "test_cov = np.cov(test_list, test_list2)\n",
        "\n",
        "print(test_cov) # The covariance is 7604.3571~"
      ],
      "execution_count": 7,
      "outputs": [
        {
          "output_type": "stream",
          "text": [
            "[[214387.9047619    7604.35714286]\n",
            " [  7604.35714286    290.95238095]]\n",
            "7604.357142857142\n"
          ],
          "name": "stdout"
        }
      ]
    },
    {
      "cell_type": "markdown",
      "metadata": {
        "id": "J9SbUY9mt66I",
        "colab_type": "text"
      },
      "source": [
        "## 1.3 Find the standard deviation of customers who entered the store last week. Then, use the standard deviations of both sales and customers to standardize the covariance to find the correlation coefficient that summarizes the relationship between sales and customers. (You may use library functions to check your work.)"
      ]
    },
    {
      "cell_type": "code",
      "metadata": {
        "id": "vFJms2YRrKhY",
        "colab_type": "code",
        "colab": {
          "base_uri": "https://localhost:8080/",
          "height": 68
        },
        "outputId": "d2e6788f-f6f6-4ca9-ed79-4d080f1816d7"
      },
      "source": [
        "sales = [3505, 2400, 3027, 2798, 3700, 3250, 2689]\n",
        "customers = [127, 80, 105, 92, 120, 115, 93]\n",
        "sal_mean, sal_var, sal_std = mvs(sales)\n",
        "cus_mean, cus_var, cus_std = mvs(customers)\n",
        "\n",
        "cor_co = test_cov[0][1] / (sal_std * cus_std)\n",
        "\n",
        "print(cor_co)\n",
        "print(np.corrcoef(sales, customers)) # testing with library function"
      ],
      "execution_count": 9,
      "outputs": [
        {
          "output_type": "stream",
          "text": [
            "0.9628339778148909\n",
            "[[1.         0.96283398]\n",
            " [0.96283398 1.        ]]\n"
          ],
          "name": "stdout"
        }
      ]
    },
    {
      "cell_type": "markdown",
      "metadata": {
        "id": "IbZVf7nmujPJ",
        "colab_type": "text"
      },
      "source": [
        "## 1.4 Use pandas to import a cleaned version of the titanic dataset from the following link: [Titanic Dataset](https://raw.githubusercontent.com/Geoyi/Cleaning-Titanic-Data/master/titanic_clean.csv)\n",
        "\n",
        "## Calculate the variance-covariance matrix and correlation matrix for the titanic dataset's numeric columns. (you can encode some of the categorical variables and include them as a stretch goal if you finish early)"
      ]
    },
    {
      "cell_type": "code",
      "metadata": {
        "id": "0TWgUIiaCFzq",
        "colab_type": "code",
        "colab": {
          "base_uri": "https://localhost:8080/",
          "height": 425
        },
        "outputId": "d94db35d-5c6d-4193-f00a-8b369dcd4cdc"
      },
      "source": [
        "import pandas as pd\n",
        "\n",
        "titanic_df = pd.read_csv(\"https://raw.githubusercontent.com/Geoyi/Cleaning-Titanic-Data/master/titanic_clean.csv\")\n",
        "\n",
        "titanic_num_df = titanic_df.select_dtypes(include='number')\n",
        "\n",
        "varcov = titanic_num_df.cov()\n",
        "corrco = titanic_num_df.corr()\n",
        "\n",
        "print(varcov)\n",
        "print(corrco)"
      ],
      "execution_count": 20,
      "outputs": [
        {
          "output_type": "stream",
          "text": [
            "                     Unnamed: 0      pclass  ...         body  has_cabin_number\n",
            "Unnamed: 0        143117.500000  284.357034  ...   591.579132        -95.438885\n",
            "pclass               284.357034    0.701969  ...    -2.876653         -0.249992\n",
            "survived             -53.967125   -0.127248  ...     0.000000          0.061406\n",
            "age                -1442.939812   -3.954605  ...    81.622922          1.463138\n",
            "sibsp                 25.828746    0.053090  ...    -8.708471         -0.003946\n",
            "parch                  1.172783    0.013287  ...     4.237190          0.013316\n",
            "fare               -9410.735123  -24.227788  ...  -179.164684         10.976961\n",
            "body                 591.579132   -2.876653  ...  9544.688567          3.625689\n",
            "has_cabin_number     -95.438885   -0.249992  ...     3.625689          0.174613\n",
            "\n",
            "[9 rows x 9 columns]\n",
            "                  Unnamed: 0    pclass  ...      body  has_cabin_number\n",
            "Unnamed: 0          1.000000  0.897822  ...  0.015558         -0.603727\n",
            "pclass              0.897822  1.000000  ... -0.034642         -0.713857\n",
            "survived           -0.293717 -0.312469  ...       NaN          0.302250\n",
            "age                -0.296172 -0.366370  ...  0.059059          0.271887\n",
            "sibsp               0.065594  0.060832  ... -0.099961         -0.009064\n",
            "parch               0.003584  0.018322  ...  0.051099          0.036806\n",
            "fare               -0.481215 -0.558629  ... -0.043110          0.507253\n",
            "body                0.015558 -0.034642  ...  1.000000          0.083796\n",
            "has_cabin_number   -0.603727 -0.713857  ...  0.083796          1.000000\n",
            "\n",
            "[9 rows x 9 columns]\n"
          ],
          "name": "stdout"
        }
      ]
    },
    {
      "cell_type": "markdown",
      "metadata": {
        "id": "7K0Xfh8MvYkl",
        "colab_type": "text"
      },
      "source": [
        "# Orthogonality"
      ]
    },
    {
      "cell_type": "markdown",
      "metadata": {
        "id": "Pe3eOZ2fvdZ-",
        "colab_type": "text"
      },
      "source": [
        "## 2.1 Plot two vectors that are orthogonal to each other. What is a synonym for orthogonal?"
      ]
    },
    {
      "cell_type": "code",
      "metadata": {
        "id": "YLSBk7hJvvCx",
        "colab_type": "code",
        "colab": {
          "base_uri": "https://localhost:8080/",
          "height": 286
        },
        "outputId": "9a887017-6dd1-4c30-b5b1-b1f76422fdab"
      },
      "source": [
        "import matplotlib.pyplot as plt\n",
        "\n",
        "v2_a = [1,0]\n",
        "v2_b = [0,1]\n",
        "\n",
        "plt.xlim(right=2, left=-2)\n",
        "plt.ylim(top=2, bottom=-2)\n",
        "plt.arrow(0, 0, v2_a[0], v2_a[1], head_width=.25, head_length=0.1, color = 'red')\n",
        "plt.arrow(0, 0, v2_b[0], v2_b[1], head_width=.25, head_length=0.1, color = 'green')\n",
        "plt.show()\n",
        "\n",
        "print(np.dot(v2_a, v2_b))\n",
        "\n",
        "# A synonym for orthogonal in this case is \"perpendicular\""
      ],
      "execution_count": 22,
      "outputs": [
        {
          "output_type": "display_data",
          "data": {
            "image/png": "[encoded data removed]",
            "text/plain": [
              "<Figure size 432x288 with 1 Axes>"
            ]
          },
          "metadata": {
            "tags": []
          }
        },
        {
          "output_type": "stream",
          "text": [
            "0\n"
          ],
          "name": "stdout"
        }
      ]
    },
    {
      "cell_type": "markdown",
      "metadata": {
        "id": "7AS4V1Nhvvxz",
        "colab_type": "text"
      },
      "source": [
        "## 2.2 Are the following vectors orthogonal? Why or why not?\n",
        "\n",
        "\\begin{align}\n",
        "a = \\begin{bmatrix} -5 \\\\ 3 \\\\ 7 \\end{bmatrix}\n",
        "\\qquad\n",
        "b = \\begin{bmatrix} 6 \\\\ -8 \\\\ 2 \\end{bmatrix}\n",
        "\\end{align}"
      ]
    },
    {
      "cell_type": "code",
      "metadata": {
        "id": "F_-y54YSz47k",
        "colab_type": "code",
        "colab": {
          "base_uri": "https://localhost:8080/",
          "height": 34
        },
        "outputId": "b6ce5476-fb40-463b-d38c-7e392fb7c28d"
      },
      "source": [
        "v3_a = [-5, 3, 7]\n",
        "v3_b = [6, -8, 2]\n",
        "\n",
        "print(np.dot(v3_a, v3_b))\n",
        "\n",
        "# These vectors are not orthogonal because their dot product does not equal 0."
      ],
      "execution_count": 21,
      "outputs": [
        {
          "output_type": "stream",
          "text": [
            "-40\n"
          ],
          "name": "stdout"
        }
      ]
    },
    {
      "cell_type": "markdown",
      "metadata": {
        "id": "MiNjyqiEz5SG",
        "colab_type": "text"
      },
      "source": [
        "## 2.3 Compute the following values: What do these quantities have in common?\n",
        "\n",
        "## What is $||c||^2$? \n",
        "\n",
        "## What is $c \\cdot c$? \n",
        "\n",
        "## What is $c^{T}c$?\n",
        "\n",
        "\\begin{align}\n",
        "c = \\begin{bmatrix} 2 & -15 & 6 & 20 \\end{bmatrix}\n",
        "\\end{align}"
      ]
    },
    {
      "cell_type": "code",
      "metadata": {
        "id": "IlV_uaYK1EQB",
        "colab_type": "code",
        "colab": {
          "base_uri": "https://localhost:8080/",
          "height": 68
        },
        "outputId": "e6579d80-5a19-49d7-c3e2-81c0538375ac"
      },
      "source": [
        "v4_c = [2, -15, 6, 20]\n",
        "v4_c2 = [[2],[-15],[6],[20]] # I guess I should have just used v4_c.T but w/e\n",
        "\n",
        "print(np.linalg.norm(v4_c)**2) # The norm\n",
        "print(np.dot(v4_c, v4_c))      # The dot product with itself\n",
        "print(np.matmul(v4_c, v4_c2))  # Its transform times itself\n",
        "\n",
        "# They're all equal as per the end of the lecture notebook."
      ],
      "execution_count": 29,
      "outputs": [
        {
          "output_type": "stream",
          "text": [
            "665.0\n",
            "665\n",
            "[665]\n"
          ],
          "name": "stdout"
        }
      ]
    },
    {
      "cell_type": "markdown",
      "metadata": {
        "id": "MK_TpWqk1Evk",
        "colab_type": "text"
      },
      "source": [
        "# Unit Vectors"
      ]
    },
    {
      "cell_type": "markdown",
      "metadata": {
        "id": "Kpit6WWO1b8l",
        "colab_type": "text"
      },
      "source": [
        "## 3.1 Using Latex, write the following vectors as a linear combination of scalars and unit vectors:\n",
        "\n",
        "\\begin{align}\n",
        "d = \\begin{bmatrix} 7 \\\\ 12 \\end{bmatrix}\n",
        "\\qquad\n",
        "e = \\begin{bmatrix} 2 \\\\ 11 \\\\ -8  \\end{bmatrix}\n",
        "\\end{align}"
      ]
    },
    {
      "cell_type": "markdown",
      "metadata": {
        "id": "oBCj1sDW2ouC",
        "colab_type": "text"
      },
      "source": [
        "\\begin{align}\n",
        "d = \\begin{bmatrix} 7 \\\\ 12 \\end{bmatrix} = 7 * \\begin{bmatrix} 1 \\\\ 0 \\end{bmatrix} + 12 * \\begin{bmatrix} 0 \\\\ 1 \\end{bmatrix}\n",
        "\\end{align}\n",
        "\\begin{align}\n",
        "\\qquad\n",
        "\\end{align}\n",
        "\\begin{align}\n",
        "e = \\begin{bmatrix} 2 \\\\ 11 \\\\ -8  \\end{bmatrix} = 2 * \\begin{bmatrix} 1 \\\\ 0 \\\\ 0 \\end{bmatrix} + 11 * \\begin{bmatrix} 0 \\\\ 1 \\\\ 0 \\end{bmatrix} + (-8) * \\begin{bmatrix} 0 \\\\ 0 \\\\ 1 \\end{bmatrix}\n",
        "\\end{align}"
      ]
    },
    {
      "cell_type": "markdown",
      "metadata": {
        "id": "dAdUQuep1_yJ",
        "colab_type": "text"
      },
      "source": [
        "## 3.2 Turn vector $f$ into a unit vector:\n",
        "\n",
        "\\begin{align}\n",
        "f = \\begin{bmatrix} 4 & 12 & 11 & 9 & 2 \\end{bmatrix}\n",
        "\\end{align}"
      ]
    },
    {
      "cell_type": "code",
      "metadata": {
        "id": "I3W8ZiHR1_Fa",
        "colab_type": "code",
        "colab": {
          "base_uri": "https://localhost:8080/",
          "height": 34
        },
        "outputId": "16579fdb-0846-4145-e474-c3b9cd03157f"
      },
      "source": [
        "v5_f = [4, 12, 11, 9, 2]\n",
        "\n",
        "v5_f_norm = np.linalg.norm(v5_f)\n",
        "\n",
        "v5_f_hat = np.divide(v5_f, v5_f_norm)\n",
        "\n",
        "print(v5_f_hat)"
      ],
      "execution_count": 32,
      "outputs": [
        {
          "output_type": "stream",
          "text": [
            "[0.20908335 0.62725005 0.57497921 0.47043754 0.10454167]\n"
          ],
          "name": "stdout"
        }
      ]
    },
    {
      "cell_type": "markdown",
      "metadata": {
        "id": "o39UyP-I5lpP",
        "colab_type": "text"
      },
      "source": [
        "# Linear Independence / Dependence "
      ]
    },
    {
      "cell_type": "markdown",
      "metadata": {
        "id": "ajfBqYe45sT5",
        "colab_type": "text"
      },
      "source": [
        "## 4.1 Plot two vectors that are linearly dependent and two vectors that are linearly independent (bonus points if done in $\\mathbb{R}^3$)."
      ]
    },
    {
      "cell_type": "code",
      "metadata": {
        "id": "b2Wqge5Yj8hj",
        "colab_type": "code",
        "colab": {
          "base_uri": "https://localhost:8080/",
          "height": 269
        },
        "outputId": "0a0f1619-17c2-46a3-8804-6a42982f8eda"
      },
      "source": [
        "v2_1 = [1,1]\n",
        "v2_2 = [2,2]\n",
        "\n",
        "v2_3 = [1,0]\n",
        "v2_4 = [0,1]\n",
        "\n",
        "plt.xlim(right=3, left=-3)\n",
        "plt.ylim(top=3, bottom=-3)\n",
        "plt.arrow(0, 0, v2_2[0], v2_2[1], head_width=.25, head_length=0.1, color = 'green')\n",
        "plt.arrow(0, 0, v2_1[0], v2_1[1], head_width=.25, head_length=0.1, color = 'red')\n",
        "plt.arrow(0, 0, v2_3[0], v2_3[1], head_width=.25, head_length=0.1, color = 'blue')\n",
        "plt.arrow(0, 0, v2_4[0], v2_4[1], head_width=.25, head_length=0.1, color = 'black')\n",
        "plt.show()\n",
        "\n",
        "# Red and green are linearly dependent. Blue and black are independent."
      ],
      "execution_count": 33,
      "outputs": [
        {
          "output_type": "display_data",
          "data": {
            "image/png": "[encoded data removed]",
            "text/plain": [
              "<Figure size 432x288 with 1 Axes>"
            ]
          },
          "metadata": {
            "tags": []
          }
        }
      ]
    },
    {
      "cell_type": "markdown",
      "metadata": {
        "id": "TrJ0MT_n3SvO",
        "colab_type": "text"
      },
      "source": [
        "# Span"
      ]
    },
    {
      "cell_type": "markdown",
      "metadata": {
        "id": "86iXLzwM2z8l",
        "colab_type": "text"
      },
      "source": [
        "## 5.1 What is the span of the following vectors?\n",
        "\n",
        "\\begin{align}\n",
        "g = \\begin{bmatrix} 1 & 2 \\end{bmatrix}\n",
        "\\qquad\n",
        "h = \\begin{bmatrix} 4 & 8 \\end{bmatrix}\n",
        "\\end{align}"
      ]
    },
    {
      "cell_type": "code",
      "metadata": {
        "id": "G2LK2RWL39Q4",
        "colab_type": "code",
        "colab": {}
      },
      "source": [
        "# The span of g and h is only the line that they both lie on, since they are\n",
        "# linearly dependent."
      ],
      "execution_count": 0,
      "outputs": []
    },
    {
      "cell_type": "markdown",
      "metadata": {
        "id": "l1deylUj4IHH",
        "colab_type": "text"
      },
      "source": [
        "## 5.2 What is the span of $\\{l, m, n\\}$?\n",
        "\n",
        "\\begin{align}\n",
        "l = \\begin{bmatrix} 1 & 2 & 3 \\end{bmatrix}\n",
        "\\qquad\n",
        "m = \\begin{bmatrix} -1 & 0 & 7 \\end{bmatrix}\n",
        "\\qquad\n",
        "n = \\begin{bmatrix} 4 & 8  & 2\\end{bmatrix}\n",
        "\\end{align}"
      ]
    },
    {
      "cell_type": "code",
      "metadata": {
        "id": "p1i_ueD25ZcP",
        "colab_type": "code",
        "colab": {}
      },
      "source": [
        "# I believe these are linearly independent and as such their span is all\n",
        "# vectors in R3."
      ],
      "execution_count": 0,
      "outputs": []
    },
    {
      "cell_type": "markdown",
      "metadata": {
        "id": "IBqe7X1732kX",
        "colab_type": "text"
      },
      "source": [
        "# Basis"
      ]
    },
    {
      "cell_type": "markdown",
      "metadata": {
        "id": "YeUZVHRM6PpT",
        "colab_type": "text"
      },
      "source": [
        "## 6.1 Graph two vectors that form a basis for $\\mathbb{R}^2$\n",
        "\n"
      ]
    },
    {
      "cell_type": "code",
      "metadata": {
        "id": "utvF3Pkt8NP6",
        "colab_type": "code",
        "colab": {
          "base_uri": "https://localhost:8080/",
          "height": 269
        },
        "outputId": "09df1ba7-ff07-45b3-dfcc-2d6622fa1763"
      },
      "source": [
        "v2_5 = [0,1]\n",
        "v2_6 = [1,0]\n",
        "\n",
        "plt.xlim(right=3, left=-3)\n",
        "plt.ylim(top=3, bottom=-3)\n",
        "plt.arrow(0, 0, v2_5[0], v2_5[1], head_width=.25, head_length=0.1, color = 'green')\n",
        "plt.arrow(0, 0, v2_6[0], v2_6[1], head_width=.25, head_length=0.1, color = 'red')\n",
        "plt.show()"
      ],
      "execution_count": 34,
      "outputs": [
        {
          "output_type": "display_data",
          "data": {
            "image/png": "[encoded data removed]",
            "text/plain": [
              "<Figure size 432x288 with 1 Axes>"
            ]
          },
          "metadata": {
            "tags": []
          }
        }
      ]
    },
    {
      "cell_type": "markdown",
      "metadata": {
        "id": "20yPFBDUxxnS",
        "colab_type": "text"
      },
      "source": [
        "## 6.2 What does it mean to form a basis?"
      ]
    },
    {
      "cell_type": "markdown",
      "metadata": {
        "id": "3w4tEayT8M0o",
        "colab_type": "text"
      },
      "source": [
        "If a set of vectors form a basis for a vector space, it means that their combination spans the entire vector space, and that they are linearly independent."
      ]
    },
    {
      "cell_type": "markdown",
      "metadata": {
        "id": "EHmUxbcY6vD3",
        "colab_type": "text"
      },
      "source": [
        "# Rank"
      ]
    },
    {
      "cell_type": "markdown",
      "metadata": {
        "id": "IpJwt9kw6v8U",
        "colab_type": "text"
      },
      "source": [
        "## 7.1 What is the Rank of P?\n",
        "\n",
        "\\begin{align}\n",
        "P = \\begin{bmatrix} \n",
        "1 & 2 & 3 \\\\\n",
        " -1 & 0 & 7 \\\\\n",
        "4 & 8  & 2\n",
        "\\end{bmatrix}\n",
        "\\end{align}"
      ]
    },
    {
      "cell_type": "code",
      "metadata": {
        "id": "HQXHLtNztgKY",
        "colab_type": "code",
        "colab": {
          "base_uri": "https://localhost:8080/",
          "height": 34
        },
        "outputId": "8859d2a0-b536-49de-8336-67ce55d25a78"
      },
      "source": [
        "p = [[1,2,3],[-1,0,7],[4,8,2]]\n",
        "\n",
        "print(np.linalg.matrix_rank(p))"
      ],
      "execution_count": 37,
      "outputs": [
        {
          "output_type": "stream",
          "text": [
            "3\n"
          ],
          "name": "stdout"
        }
      ]
    },
    {
      "cell_type": "markdown",
      "metadata": {
        "id": "jGqFMBYY7mHD",
        "colab_type": "text"
      },
      "source": [
        "## 7.2 What does the rank of a matrix tell us?"
      ]
    },
    {
      "cell_type": "markdown",
      "metadata": {
        "id": "Vjg1IiCD8nnP",
        "colab_type": "text"
      },
      "source": [
        "It is the dimension of the vector space spanned by the matrix's columns."
      ]
    },
    {
      "cell_type": "markdown",
      "metadata": {
        "id": "0Db2sc_V8QD6",
        "colab_type": "text"
      },
      "source": [
        "# Linear Projections\n",
        "\n",
        "## 8.1 Line $L$ is formed by all of the vectors that can be created by scaling vector $v$ \n",
        "\\begin{align}\n",
        "v = \\begin{bmatrix} 1 & 3 \\end{bmatrix}\n",
        "\\end{align}\n",
        "\n",
        "\\begin{align}\n",
        "w = \\begin{bmatrix} -1 & 2 \\end{bmatrix}\n",
        "\\end{align}\n",
        "\n",
        "## find $proj_{L}(w)$\n",
        "\n",
        "## graph your projected vector to check your work (make sure your axis are square/even)"
      ]
    },
    {
      "cell_type": "code",
      "metadata": {
        "id": "hp5z2WTBCNKx",
        "colab_type": "code",
        "colab": {
          "base_uri": "https://localhost:8080/",
          "height": 264
        },
        "outputId": "783b540d-e89b-41dc-c532-1c788619e7ae"
      },
      "source": [
        "v2_v = np.array([1, 3])\n",
        "v2_w = np.array([-1, 2])\n",
        "\n",
        "v2_v_norm = np.linalg.norm(v2_v)\n",
        "\n",
        "proj = (np.dot(v2_w, v2_v)/v2_v_norm**2)*v2_v\n",
        "\n",
        "#above is getting close-ish but I am not sure how to get it the rest of the way\n",
        "#right at the moment\n",
        "\n",
        "plt.xlim(right=5, left=-5)\n",
        "plt.ylim(top=5, bottom=-5)\n",
        "plt.tick_params(axis='both',which='both',direction='inout')\n",
        "plt.arrow(0, 0, 1.5, 4.5, head_width=.25, head_length=0.1, color = 'blue')\n",
        "plt.arrow(0, 0, -1.5, -4.5, head_width=.25, head_length=0.1, color = 'blue')\n",
        "plt.arrow(0, 0, v2_w[0], v2_w[1], head_width=.25, head_length=0.1, color = 'red')\n",
        "plt.arrow(0, 0, proj[0], proj[1], head_width=.25, head_length=0.1, color = 'green')\n",
        "plt.show()\n",
        "\n",
        "#print(np.dot(v2_w, v2_v))\n",
        "#print(proj_w_on_v)"
      ],
      "execution_count": 58,
      "outputs": [
        {
          "output_type": "display_data",
          "data": {
            "image/png": "[encoded data removed]",
            "text/plain": [
              "<Figure size 432x288 with 1 Axes>"
            ]
          },
          "metadata": {
            "tags": []
          }
        }
      ]
    },
    {
      "cell_type": "markdown",
      "metadata": {
        "id": "TKkrPwRM-Oar",
        "colab_type": "text"
      },
      "source": [
        "# Stretch Goal\n",
        "\n",
        "## For vectors that begin at the origin, the coordinates of where the vector ends can be interpreted as regular data points. (See 3Blue1Brown videos about Spans, Basis, etc.)\n",
        "\n",
        "## Write a function that can calculate the linear projection of each point (x,y) (vector) onto the line y=x. run the function and plot the original points in blue and the new projected points on the line y=x in red. \n",
        "\n",
        "## For extra points plot the orthogonal vectors as a dashed line from the original blue points to the projected red points."
      ]
    },
    {
      "cell_type": "code",
      "metadata": {
        "id": "cp52kZra-ykj",
        "colab_type": "code",
        "outputId": "12502200-eafe-4e20-bfb7-2d539c6027cb",
        "colab": {
          "base_uri": "https://localhost:8080/",
          "height": 347
        }
      },
      "source": [
        "import pandas as pd\n",
        "import matplotlib.pyplot as plt\n",
        "\n",
        "# Creating a dataframe for you to work with -Feel free to not use the dataframe if you don't want to.\n",
        "x_values = [1, 4, 7, 3, 9, 4, 5 ]\n",
        "y_values = [4, 2, 5, 0, 8, 2, 8]\n",
        "\n",
        "data = {\"x\": x_values, \"y\": y_values}\n",
        "\n",
        "df = pd.DataFrame(data)\n",
        "\n",
        "df.head()\n",
        "\n",
        "plt.scatter(df.x, df.y)\n",
        "plt.show()"
      ],
      "execution_count": 0,
      "outputs": [
        {
          "output_type": "display_data",
          "data": {
            "image/png": "[encoded data removed]",
            "text/plain": [
              "<matplotlib.figure.Figure at 0x7f787cfb2978>"
            ]
          },
          "metadata": {
            "tags": []
          }
        }
      ]
    },
    {
      "cell_type": "code",
      "metadata": {
        "id": "EZTA6Tj6BGDb",
        "colab_type": "code",
        "colab": {}
      },
      "source": [
        ""
      ],
      "execution_count": 0,
      "outputs": []
    }
  ]
}