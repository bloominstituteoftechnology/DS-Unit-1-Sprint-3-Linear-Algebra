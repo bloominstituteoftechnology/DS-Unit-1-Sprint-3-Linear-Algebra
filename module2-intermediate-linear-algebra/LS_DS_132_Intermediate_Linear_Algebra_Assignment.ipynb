{
  "nbformat": 4,
  "nbformat_minor": 0,
  "metadata": {
    "colab": {
      "name": "LS_DS_132_Intermediate_Linear_Algebra_Assignment.ipynb",
      "provenance": [],
      "collapsed_sections": []
    },
    "kernelspec": {
      "name": "python3",
      "display_name": "Python 3"
    }
  },
  "cells": [
    {
      "cell_type": "markdown",
      "metadata": {
        "colab_type": "text",
        "id": "GSNiYn8lr6nN"
      },
      "source": [
        "# Statistics"
      ]
    },
    {
      "cell_type": "markdown",
      "metadata": {
        "colab_type": "text",
        "id": "3d4izUhQvh2_"
      },
      "source": [
        "## 1.1 Sales for the past week was the following amounts: [3505, 2400, 3027, 2798, 3700, 3250, 2689]. Without using library functions, what is the mean, variance, and standard deviation of of sales from last week? (for extra bonus points, write your own function that can calculate these two values for any sized list)"
      ]
    },
    {
      "cell_type": "code",
      "execution_count": 20,
      "metadata": {},
      "outputs": [],
      "source": [
        "import numpy as np\n",
        "import pandas as pd\n",
        "import math"
      ]
    },
    {
      "cell_type": "code",
      "execution_count": 27,
      "metadata": {},
      "outputs": [],
      "source": [
        "amounts = [3505, 2400, 3027, 2798, 3700, 3250, 2698]"
      ]
    },
    {
      "cell_type": "code",
      "execution_count": 28,
      "metadata": {},
      "outputs": [
        {
          "data": {
            "text/plain": "3054.0"
          },
          "execution_count": 28,
          "metadata": {},
          "output_type": "execute_result"
        }
      ],
      "source": [
        "# find the mean\n",
        "total = sum(amounts)\n",
        "mean_amounts = total/len(amounts)\n",
        "mean_amounts"
      ]
    },
    {
      "cell_type": "code",
      "execution_count": 29,
      "metadata": {},
      "outputs": [],
      "source": [
        "# find the variance\n",
        "# first write a function\n",
        "def subtract_mean(number):\n",
        "    return number - mean_amounts\n"
      ]
    },
    {
      "cell_type": "code",
      "execution_count": 30,
      "metadata": {},
      "outputs": [
        {
          "data": {
            "text/plain": "[451.0, -654.0, -27.0, -256.0, 646.0, 196.0, -356.0]"
          },
          "execution_count": 30,
          "metadata": {},
          "output_type": "execute_result"
        }
      ],
      "source": [
        "# use 'map' to apply that function to our list\n",
        "distances = list(map(subtract_mean, amounts))\n",
        "distances"
      ]
    },
    {
      "cell_type": "code",
      "execution_count": 13,
      "metadata": {},
      "outputs": [
        {
          "data": {
            "text/plain": "[203401.0, 427716.0, 729.0, 65536.0, 417316.0, 38416.0, 126736.0]"
          },
          "execution_count": 13,
          "metadata": {},
          "output_type": "execute_result"
        }
      ],
      "source": [
        "# square and sum all of those distances\n",
        "squared_distances = list(map(lambda x: x**2, distances))\n",
        "squared_distances"
      ]
    },
    {
      "cell_type": "code",
      "execution_count": 14,
      "metadata": {},
      "outputs": [],
      "source": [
        "# how long is our list?\n",
        "# for a sample taken from a population\n",
        "list_len_sample = len(squared_distances) - 1\n",
        "\n",
        "# for a whole population (no sample)\n",
        "list_len_pop = len(squared_distances)"
      ]
    },
    {
      "cell_type": "code",
      "execution_count": 31,
      "metadata": {},
      "outputs": [
        {
          "name": "stdout",
          "output_type": "stream",
          "text": "182835.71\n"
        }
      ],
      "source": [
        "# calculate variance\n",
        "variance_amounts = sum(squared_distances)/list_len_pop\n",
        "print('{:.2f}'.format(variance_amounts))"
      ]
    },
    {
      "cell_type": "code",
      "execution_count": 32,
      "metadata": {},
      "outputs": [
        {
          "name": "stdout",
          "output_type": "stream",
          "text": "427.59\n427.59\n"
        }
      ],
      "source": [
        "# find the std\n",
        "print('{:.2f}'.format(math.sqrt(variance_amounts)))\n",
        "print('{:.2f}'.format(np.sqrt(variance_amounts)))"
      ]
    },
    {
      "cell_type": "markdown",
      "metadata": {
        "colab_type": "text",
        "id": "oh63KaOctEp_"
      },
      "source": [
        "## 1.2 Find the covariance between last week's sales numbers and the number of customers that entered the store last week: [127, 80, 105, 92, 120, 115, 93] (you may use librray functions for calculating the covariance since we didn't specifically talk about its formula)"
      ]
    },
    {
      "cell_type": "code",
      "execution_count": 18,
      "metadata": {},
      "outputs": [],
      "source": [
        "num_customers = [127, 80, 105, 92, 120, 115, 93]"
      ]
    },
    {
      "cell_type": "code",
      "execution_count": 33,
      "metadata": {},
      "outputs": [
        {
          "data": {
            "text/plain": "array([[213308.33333333,   7587.        ],\n       [  7587.        ,    290.95238095]])"
          },
          "execution_count": 33,
          "metadata": {},
          "output_type": "execute_result"
        }
      ],
      "source": [
        "# using numpy\n",
        "np.cov(amounts, num_customers)"
      ]
    },
    {
      "cell_type": "code",
      "execution_count": 34,
      "metadata": {},
      "outputs": [
        {
          "data": {
            "text/html": "<div>\n<style scoped>\n    .dataframe tbody tr th:only-of-type {\n        vertical-align: middle;\n    }\n\n    .dataframe tbody tr th {\n        vertical-align: top;\n    }\n\n    .dataframe thead th {\n        text-align: right;\n    }\n</style>\n<table border=\"1\" class=\"dataframe\">\n  <thead>\n    <tr style=\"text-align: right;\">\n      <th></th>\n      <th>amounts</th>\n      <th>num_customers</th>\n    </tr>\n  </thead>\n  <tbody>\n    <tr>\n      <td>0</td>\n      <td>3505</td>\n      <td>127</td>\n    </tr>\n    <tr>\n      <td>1</td>\n      <td>2400</td>\n      <td>80</td>\n    </tr>\n    <tr>\n      <td>2</td>\n      <td>3027</td>\n      <td>105</td>\n    </tr>\n    <tr>\n      <td>3</td>\n      <td>2798</td>\n      <td>92</td>\n    </tr>\n    <tr>\n      <td>4</td>\n      <td>3700</td>\n      <td>120</td>\n    </tr>\n    <tr>\n      <td>5</td>\n      <td>3250</td>\n      <td>115</td>\n    </tr>\n    <tr>\n      <td>6</td>\n      <td>2698</td>\n      <td>93</td>\n    </tr>\n  </tbody>\n</table>\n</div>",
            "text/plain": "   amounts  num_customers\n0     3505            127\n1     2400             80\n2     3027            105\n3     2798             92\n4     3700            120\n5     3250            115\n6     2698             93"
          },
          "execution_count": 34,
          "metadata": {},
          "output_type": "execute_result"
        }
      ],
      "source": [
        "# using pandas\n",
        "sales_df = pd.DataFrame({'amounts': amounts})\n",
        "sales_df['num_customers'] = pd.Series(num_customers)\n",
        "sales_df"
      ]
    },
    {
      "cell_type": "code",
      "execution_count": 35,
      "metadata": {},
      "outputs": [
        {
          "data": {
            "text/html": "<div>\n<style scoped>\n    .dataframe tbody tr th:only-of-type {\n        vertical-align: middle;\n    }\n\n    .dataframe tbody tr th {\n        vertical-align: top;\n    }\n\n    .dataframe thead th {\n        text-align: right;\n    }\n</style>\n<table border=\"1\" class=\"dataframe\">\n  <thead>\n    <tr style=\"text-align: right;\">\n      <th></th>\n      <th>amounts</th>\n      <th>num_customers</th>\n    </tr>\n  </thead>\n  <tbody>\n    <tr>\n      <td>amounts</td>\n      <td>213308.333333</td>\n      <td>7587.000000</td>\n    </tr>\n    <tr>\n      <td>num_customers</td>\n      <td>7587.000000</td>\n      <td>290.952381</td>\n    </tr>\n  </tbody>\n</table>\n</div>",
            "text/plain": "                     amounts  num_customers\namounts        213308.333333    7587.000000\nnum_customers    7587.000000     290.952381"
          },
          "execution_count": 35,
          "metadata": {},
          "output_type": "execute_result"
        }
      ],
      "source": [
        "sales_df.cov()"
      ]
    },
    {
      "cell_type": "markdown",
      "metadata": {
        "colab_type": "text",
        "id": "J9SbUY9mt66I"
      },
      "source": [
        "## 1.3 Find the standard deviation of customers who entered the store last week. Then, use the standard deviations of both sales and customers to standardize the covariance to find the correlation coefficient that summarizes the relationship between sales and customers. (You may use library functions to check your work.)"
      ]
    },
    {
      "cell_type": "code",
      "execution_count": 36,
      "metadata": {},
      "outputs": [
        {
          "name": "stdout",
          "output_type": "stream",
          "text": "std of number of customeres entered the store last week:  17.06\n"
        }
      ],
      "source": [
        "std_num_customers = sales_df['num_customers'].std()\n",
        "print('std of number of customeres entered the store last week: ', '{:.2f}'.format(std_num_customers))"
      ]
    },
    {
      "cell_type": "code",
      "execution_count": 55,
      "metadata": {},
      "outputs": [
        {
          "name": "stdout",
          "output_type": "stream",
          "text": "the correlation coefficient:  0.96306\n"
        }
      ],
      "source": [
        "mean_amounts = sales_df['amounts'].mean()\n",
        "mean_num_customers = sales_df['num_customers'].mean()\n",
        "\n",
        "std_amounts = sales_df['amounts'].std()\n",
        "std_num_customers = sales_df['num_customers'].std()\n",
        "z = []\n",
        "for idx, row in sales_df.iterrows():\n",
        "    z_x = (sales_df['amounts'][idx] - mean_amounts) / std_amounts\n",
        "    z_y = (sales_df['num_customers'][idx] - mean_num_customers) / std_num_customers\n",
        "    z.append(z_x * z_y)\n",
        "\n",
        "corr_coeff = sum(z) / (len(sales_df.index)-1)\n",
        "print('the correlation coefficient: ', '{:.5f}'.format(corr_coeff))"
      ]
    },
    {
      "cell_type": "code",
      "execution_count": 56,
      "metadata": {},
      "outputs": [
        {
          "data": {
            "text/html": "<div>\n<style scoped>\n    .dataframe tbody tr th:only-of-type {\n        vertical-align: middle;\n    }\n\n    .dataframe tbody tr th {\n        vertical-align: top;\n    }\n\n    .dataframe thead th {\n        text-align: right;\n    }\n</style>\n<table border=\"1\" class=\"dataframe\">\n  <thead>\n    <tr style=\"text-align: right;\">\n      <th></th>\n      <th>amounts</th>\n      <th>num_customers</th>\n    </tr>\n  </thead>\n  <tbody>\n    <tr>\n      <td>amounts</td>\n      <td>1.000000</td>\n      <td>0.963064</td>\n    </tr>\n    <tr>\n      <td>num_customers</td>\n      <td>0.963064</td>\n      <td>1.000000</td>\n    </tr>\n  </tbody>\n</table>\n</div>",
            "text/plain": "                amounts  num_customers\namounts        1.000000       0.963064\nnum_customers  0.963064       1.000000"
          },
          "execution_count": 56,
          "metadata": {},
          "output_type": "execute_result"
        }
      ],
      "source": [
        "# check if my calculation is correct using library\n",
        "sales_df.corr()\n",
        "\n",
        "# 0.96306 looks good"
      ]
    },
    {
      "cell_type": "markdown",
      "metadata": {
        "colab_type": "text",
        "id": "IbZVf7nmujPJ"
      },
      "source": [
        "## 1.4 Use pandas to import a cleaned version of the titanic dataset from the following link: [Titanic Dataset](https://raw.githubusercontent.com/Geoyi/Cleaning-Titanic-Data/master/titanic_clean.csv)\n",
        "\n",
        "## Calculate the variance-covariance matrix and correlation matrix for the titanic dataset's numeric columns. (you can encode some of the categorical variables and include them as a stretch goal if you finish early)"
      ]
    },
    {
      "cell_type": "code",
      "execution_count": 79,
      "metadata": {},
      "outputs": [
        {
          "data": {
            "text/html": "<div>\n<style scoped>\n    .dataframe tbody tr th:only-of-type {\n        vertical-align: middle;\n    }\n\n    .dataframe tbody tr th {\n        vertical-align: top;\n    }\n\n    .dataframe thead th {\n        text-align: right;\n    }\n</style>\n<table border=\"1\" class=\"dataframe\">\n  <thead>\n    <tr style=\"text-align: right;\">\n      <th></th>\n      <th>Unnamed: 0</th>\n      <th>pclass</th>\n      <th>survived</th>\n      <th>age</th>\n      <th>sibsp</th>\n      <th>parch</th>\n      <th>fare</th>\n      <th>body</th>\n      <th>has_cabin_number</th>\n    </tr>\n  </thead>\n  <tbody>\n    <tr>\n      <td>0</td>\n      <td>1</td>\n      <td>1.0</td>\n      <td>1.0</td>\n      <td>29.0000</td>\n      <td>0.0</td>\n      <td>0.0</td>\n      <td>211.3375</td>\n      <td>NaN</td>\n      <td>1</td>\n    </tr>\n    <tr>\n      <td>1</td>\n      <td>2</td>\n      <td>1.0</td>\n      <td>1.0</td>\n      <td>0.9167</td>\n      <td>1.0</td>\n      <td>2.0</td>\n      <td>151.5500</td>\n      <td>NaN</td>\n      <td>1</td>\n    </tr>\n    <tr>\n      <td>2</td>\n      <td>3</td>\n      <td>1.0</td>\n      <td>0.0</td>\n      <td>2.0000</td>\n      <td>1.0</td>\n      <td>2.0</td>\n      <td>151.5500</td>\n      <td>NaN</td>\n      <td>1</td>\n    </tr>\n    <tr>\n      <td>3</td>\n      <td>4</td>\n      <td>1.0</td>\n      <td>0.0</td>\n      <td>30.0000</td>\n      <td>1.0</td>\n      <td>2.0</td>\n      <td>151.5500</td>\n      <td>135.0</td>\n      <td>1</td>\n    </tr>\n    <tr>\n      <td>4</td>\n      <td>5</td>\n      <td>1.0</td>\n      <td>0.0</td>\n      <td>25.0000</td>\n      <td>1.0</td>\n      <td>2.0</td>\n      <td>151.5500</td>\n      <td>NaN</td>\n      <td>1</td>\n    </tr>\n  </tbody>\n</table>\n</div>",
            "text/plain": "   Unnamed: 0  pclass  survived      age  sibsp  parch      fare   body  \\\n0           1     1.0       1.0  29.0000    0.0    0.0  211.3375    NaN   \n1           2     1.0       1.0   0.9167    1.0    2.0  151.5500    NaN   \n2           3     1.0       0.0   2.0000    1.0    2.0  151.5500    NaN   \n3           4     1.0       0.0  30.0000    1.0    2.0  151.5500  135.0   \n4           5     1.0       0.0  25.0000    1.0    2.0  151.5500    NaN   \n\n   has_cabin_number  \n0                 1  \n1                 1  \n2                 1  \n3                 1  \n4                 1  "
          },
          "execution_count": 79,
          "metadata": {},
          "output_type": "execute_result"
        }
      ],
      "source": [
        "url = 'https://raw.githubusercontent.com/Geoyi/Cleaning-Titanic-Data/master/titanic_clean.csv'\n",
        "df = pd.read_csv(url)\n",
        "# df.drop(['Unnamed: 0'], axis=1) // wanted to drop the first column but not working for some reason\n",
        "df = df._get_numeric_data()\n",
        "df.head()"
      ]
    },
    {
      "cell_type": "code",
      "execution_count": 80,
      "metadata": {},
      "outputs": [
        {
          "data": {
            "text/html": "<div>\n<style scoped>\n    .dataframe tbody tr th:only-of-type {\n        vertical-align: middle;\n    }\n\n    .dataframe tbody tr th {\n        vertical-align: top;\n    }\n\n    .dataframe thead th {\n        text-align: right;\n    }\n</style>\n<table border=\"1\" class=\"dataframe\">\n  <thead>\n    <tr style=\"text-align: right;\">\n      <th></th>\n      <th>Unnamed: 0</th>\n      <th>pclass</th>\n      <th>survived</th>\n      <th>age</th>\n      <th>sibsp</th>\n      <th>parch</th>\n      <th>fare</th>\n      <th>body</th>\n      <th>has_cabin_number</th>\n    </tr>\n  </thead>\n  <tbody>\n    <tr>\n      <td>Unnamed: 0</td>\n      <td>143117.500000</td>\n      <td>284.357034</td>\n      <td>-53.967125</td>\n      <td>-1442.939812</td>\n      <td>25.828746</td>\n      <td>1.172783</td>\n      <td>-9410.735123</td>\n      <td>591.579132</td>\n      <td>-95.438885</td>\n    </tr>\n    <tr>\n      <td>pclass</td>\n      <td>284.357034</td>\n      <td>0.701969</td>\n      <td>-0.127248</td>\n      <td>-3.954605</td>\n      <td>0.053090</td>\n      <td>0.013287</td>\n      <td>-24.227788</td>\n      <td>-2.876653</td>\n      <td>-0.249992</td>\n    </tr>\n    <tr>\n      <td>survived</td>\n      <td>-53.967125</td>\n      <td>-0.127248</td>\n      <td>0.236250</td>\n      <td>-0.314343</td>\n      <td>-0.014088</td>\n      <td>0.034776</td>\n      <td>6.146023</td>\n      <td>0.000000</td>\n      <td>0.061406</td>\n    </tr>\n    <tr>\n      <td>age</td>\n      <td>-1442.939812</td>\n      <td>-3.954605</td>\n      <td>-0.314343</td>\n      <td>165.850021</td>\n      <td>-2.559806</td>\n      <td>-1.459378</td>\n      <td>114.416613</td>\n      <td>81.622922</td>\n      <td>1.463138</td>\n    </tr>\n    <tr>\n      <td>sibsp</td>\n      <td>25.828746</td>\n      <td>0.053090</td>\n      <td>-0.014088</td>\n      <td>-2.559806</td>\n      <td>1.085052</td>\n      <td>0.336833</td>\n      <td>8.641768</td>\n      <td>-8.708471</td>\n      <td>-0.003946</td>\n    </tr>\n    <tr>\n      <td>parch</td>\n      <td>1.172783</td>\n      <td>0.013287</td>\n      <td>0.034776</td>\n      <td>-1.459378</td>\n      <td>0.336833</td>\n      <td>0.749195</td>\n      <td>9.928031</td>\n      <td>4.237190</td>\n      <td>0.013316</td>\n    </tr>\n    <tr>\n      <td>fare</td>\n      <td>-9410.735123</td>\n      <td>-24.227788</td>\n      <td>6.146023</td>\n      <td>114.416613</td>\n      <td>8.641768</td>\n      <td>9.928031</td>\n      <td>2678.959738</td>\n      <td>-179.164684</td>\n      <td>10.976961</td>\n    </tr>\n    <tr>\n      <td>body</td>\n      <td>591.579132</td>\n      <td>-2.876653</td>\n      <td>0.000000</td>\n      <td>81.622922</td>\n      <td>-8.708471</td>\n      <td>4.237190</td>\n      <td>-179.164684</td>\n      <td>9544.688567</td>\n      <td>3.625689</td>\n    </tr>\n    <tr>\n      <td>has_cabin_number</td>\n      <td>-95.438885</td>\n      <td>-0.249992</td>\n      <td>0.061406</td>\n      <td>1.463138</td>\n      <td>-0.003946</td>\n      <td>0.013316</td>\n      <td>10.976961</td>\n      <td>3.625689</td>\n      <td>0.174613</td>\n    </tr>\n  </tbody>\n</table>\n</div>",
            "text/plain": "                     Unnamed: 0      pclass   survived          age  \\\nUnnamed: 0        143117.500000  284.357034 -53.967125 -1442.939812   \npclass               284.357034    0.701969  -0.127248    -3.954605   \nsurvived             -53.967125   -0.127248   0.236250    -0.314343   \nage                -1442.939812   -3.954605  -0.314343   165.850021   \nsibsp                 25.828746    0.053090  -0.014088    -2.559806   \nparch                  1.172783    0.013287   0.034776    -1.459378   \nfare               -9410.735123  -24.227788   6.146023   114.416613   \nbody                 591.579132   -2.876653   0.000000    81.622922   \nhas_cabin_number     -95.438885   -0.249992   0.061406     1.463138   \n\n                      sibsp     parch         fare         body  \\\nUnnamed: 0        25.828746  1.172783 -9410.735123   591.579132   \npclass             0.053090  0.013287   -24.227788    -2.876653   \nsurvived          -0.014088  0.034776     6.146023     0.000000   \nage               -2.559806 -1.459378   114.416613    81.622922   \nsibsp              1.085052  0.336833     8.641768    -8.708471   \nparch              0.336833  0.749195     9.928031     4.237190   \nfare               8.641768  9.928031  2678.959738  -179.164684   \nbody              -8.708471  4.237190  -179.164684  9544.688567   \nhas_cabin_number  -0.003946  0.013316    10.976961     3.625689   \n\n                  has_cabin_number  \nUnnamed: 0              -95.438885  \npclass                   -0.249992  \nsurvived                  0.061406  \nage                       1.463138  \nsibsp                    -0.003946  \nparch                     0.013316  \nfare                     10.976961  \nbody                      3.625689  \nhas_cabin_number          0.174613  "
          },
          "execution_count": 80,
          "metadata": {},
          "output_type": "execute_result"
        }
      ],
      "source": [
        "# variance-covariance matrix\n",
        "df.cov()"
      ]
    },
    {
      "cell_type": "code",
      "execution_count": 81,
      "metadata": {},
      "outputs": [
        {
          "data": {
            "text/html": "<div>\n<style scoped>\n    .dataframe tbody tr th:only-of-type {\n        vertical-align: middle;\n    }\n\n    .dataframe tbody tr th {\n        vertical-align: top;\n    }\n\n    .dataframe thead th {\n        text-align: right;\n    }\n</style>\n<table border=\"1\" class=\"dataframe\">\n  <thead>\n    <tr style=\"text-align: right;\">\n      <th></th>\n      <th>Unnamed: 0</th>\n      <th>pclass</th>\n      <th>survived</th>\n      <th>age</th>\n      <th>sibsp</th>\n      <th>parch</th>\n      <th>fare</th>\n      <th>body</th>\n      <th>has_cabin_number</th>\n    </tr>\n  </thead>\n  <tbody>\n    <tr>\n      <td>Unnamed: 0</td>\n      <td>1.000000</td>\n      <td>0.897822</td>\n      <td>-0.293717</td>\n      <td>-0.296172</td>\n      <td>0.065594</td>\n      <td>0.003584</td>\n      <td>-0.481215</td>\n      <td>0.015558</td>\n      <td>-0.603727</td>\n    </tr>\n    <tr>\n      <td>pclass</td>\n      <td>0.897822</td>\n      <td>1.000000</td>\n      <td>-0.312469</td>\n      <td>-0.366370</td>\n      <td>0.060832</td>\n      <td>0.018322</td>\n      <td>-0.558629</td>\n      <td>-0.034642</td>\n      <td>-0.713857</td>\n    </tr>\n    <tr>\n      <td>survived</td>\n      <td>-0.293717</td>\n      <td>-0.312469</td>\n      <td>1.000000</td>\n      <td>-0.050199</td>\n      <td>-0.027825</td>\n      <td>0.082660</td>\n      <td>0.244265</td>\n      <td>NaN</td>\n      <td>0.302250</td>\n    </tr>\n    <tr>\n      <td>age</td>\n      <td>-0.296172</td>\n      <td>-0.366370</td>\n      <td>-0.050199</td>\n      <td>1.000000</td>\n      <td>-0.190747</td>\n      <td>-0.130872</td>\n      <td>0.171892</td>\n      <td>0.059059</td>\n      <td>0.271887</td>\n    </tr>\n    <tr>\n      <td>sibsp</td>\n      <td>0.065594</td>\n      <td>0.060832</td>\n      <td>-0.027825</td>\n      <td>-0.190747</td>\n      <td>1.000000</td>\n      <td>0.373587</td>\n      <td>0.160238</td>\n      <td>-0.099961</td>\n      <td>-0.009064</td>\n    </tr>\n    <tr>\n      <td>parch</td>\n      <td>0.003584</td>\n      <td>0.018322</td>\n      <td>0.082660</td>\n      <td>-0.130872</td>\n      <td>0.373587</td>\n      <td>1.000000</td>\n      <td>0.221539</td>\n      <td>0.051099</td>\n      <td>0.036806</td>\n    </tr>\n    <tr>\n      <td>fare</td>\n      <td>-0.481215</td>\n      <td>-0.558629</td>\n      <td>0.244265</td>\n      <td>0.171892</td>\n      <td>0.160238</td>\n      <td>0.221539</td>\n      <td>1.000000</td>\n      <td>-0.043110</td>\n      <td>0.507253</td>\n    </tr>\n    <tr>\n      <td>body</td>\n      <td>0.015558</td>\n      <td>-0.034642</td>\n      <td>NaN</td>\n      <td>0.059059</td>\n      <td>-0.099961</td>\n      <td>0.051099</td>\n      <td>-0.043110</td>\n      <td>1.000000</td>\n      <td>0.083796</td>\n    </tr>\n    <tr>\n      <td>has_cabin_number</td>\n      <td>-0.603727</td>\n      <td>-0.713857</td>\n      <td>0.302250</td>\n      <td>0.271887</td>\n      <td>-0.009064</td>\n      <td>0.036806</td>\n      <td>0.507253</td>\n      <td>0.083796</td>\n      <td>1.000000</td>\n    </tr>\n  </tbody>\n</table>\n</div>",
            "text/plain": "                  Unnamed: 0    pclass  survived       age     sibsp  \\\nUnnamed: 0          1.000000  0.897822 -0.293717 -0.296172  0.065594   \npclass              0.897822  1.000000 -0.312469 -0.366370  0.060832   \nsurvived           -0.293717 -0.312469  1.000000 -0.050199 -0.027825   \nage                -0.296172 -0.366370 -0.050199  1.000000 -0.190747   \nsibsp               0.065594  0.060832 -0.027825 -0.190747  1.000000   \nparch               0.003584  0.018322  0.082660 -0.130872  0.373587   \nfare               -0.481215 -0.558629  0.244265  0.171892  0.160238   \nbody                0.015558 -0.034642       NaN  0.059059 -0.099961   \nhas_cabin_number   -0.603727 -0.713857  0.302250  0.271887 -0.009064   \n\n                     parch      fare      body  has_cabin_number  \nUnnamed: 0        0.003584 -0.481215  0.015558         -0.603727  \npclass            0.018322 -0.558629 -0.034642         -0.713857  \nsurvived          0.082660  0.244265       NaN          0.302250  \nage              -0.130872  0.171892  0.059059          0.271887  \nsibsp             0.373587  0.160238 -0.099961         -0.009064  \nparch             1.000000  0.221539  0.051099          0.036806  \nfare              0.221539  1.000000 -0.043110          0.507253  \nbody              0.051099 -0.043110  1.000000          0.083796  \nhas_cabin_number  0.036806  0.507253  0.083796          1.000000  "
          },
          "execution_count": 81,
          "metadata": {},
          "output_type": "execute_result"
        }
      ],
      "source": [
        "# correlation matirx\n",
        "df.corr()"
      ]
    },
    {
      "cell_type": "code",
      "execution_count": 82,
      "metadata": {},
      "outputs": [
        {
          "data": {
            "image/png": "[encoded data removed]",
            "image/svg+xml": "<?xml version=\"1.0\" encoding=\"utf-8\" standalone=\"no\"?>\n<!DOCTYPE svg PUBLIC \"-//W3C//DTD SVG 1.1//EN\"\n  \"http://www.w3.org/Graphics/SVG/1.1/DTD/svg11.dtd\">\n<!-- Created with matplotlib (https://matplotlib.org/) -->\n<svg height=\"257.778125pt\" version=\"1.1\" viewBox=\"0 0 250.9625 257.778125\" width=\"250.9625pt\" xmlns=\"http://www.w3.org/2000/svg\" xmlns:xlink=\"http://www.w3.org/1999/xlink\">\n <defs>\n  <style type=\"text/css\">\n*{stroke-linecap:butt;stroke-linejoin:round;}\n  </style>\n </defs>\n <g id=\"figure_1\">\n  <g id=\"patch_1\">\n   <path d=\"M 0 257.778125 \nL 250.9625 257.778125 \nL 250.9625 0 \nL 0 0 \nz\n\" style=\"fill:none;\"/>\n  </g>\n  <g id=\"axes_1\">\n   <g id=\"patch_2\">\n    <path d=\"M 20.5625 247.078125 \nL 243.7625 247.078125 \nL 243.7625 23.878125 \nL 20.5625 23.878125 \nz\n\" style=\"fill:#ffffff;\"/>\n   </g>\n   <g clip-path=\"url(#p25ac3b5831)\">\n    <image height=\"224\" id=\"imaged29ca10b22\" transform=\"scale(1 -1)translate(0 -224)\" width=\"224\" x=\"20.5625\" xlink:href=\"data:image/png;base64,\niVBORw0KGgoAAAANSUhEUgAAAOAAAADgCAYAAAAaLWrhAAAABHNCSVQICAgIfAhkiAAABHNJREFUeJzt3L+v3mMch/H79DxtHZTEoCWCE9JFOjCwMhnEarBYdNBYSAx2QiTYGCQSEf0DiN1EkFgMmoaUxqKDpH60tM6pwWz89Fperz/gfuc5J1e+22fr8WOnrq1he79cmJ5YP3z04PjG/j9b4xs7Z24YfX//8Ojza6217nv03PjG2S/und945t3xjQPjC8D/EiCEBAghAUJIgBASIIQECCEBQkiAEBIghAQIIQFCSIAQEiCEBAghAUJIgBASIIQECCEBQkiAEBIghAQIIQFCaPPjyfvHR7avzG+ce/rF8au597/y5vgR40O/z75/eWf8J6yfPt0d3zj7wjvjG8c/eG58wxcQQgKEkAAhJEAICRBCAoSQACEkQAgJEEIChJAAISRACAkQQgKEkAAhJEAICRBCAoSQACEkQAgJEEIChJAAISRACG3u+fjX8ZEDv10a3/jj/dfHL85evbQ/PbEu3jJ7X/jaDXuj76+11pln3xvfOPH2qfGN40+cG9/wBYSQACEkQAgJEEIChJAAISRACAkQQgKEkAAhJEAICRBCAoSQACEkQAgJEEIChJAAISRACAkQQgKEkAAhJEAICRBCm5+evG1+5cD8xsFfxu/yrpvPj0+sq49fHH3/20dOj76/1lq7n5wc3zh8ZP7//cNnu+MbvoAQEiCEBAghAUJIgBASIIQECCEBQkiAEBIghAQIIQFCSIAQEiCEBAghAUJIgBASIIQECCEBQkiAEBIghAQIIQFCaLO3M3/gdF2HiUMXt8Y3Npfnf8g3w4dzT3z59Oj7a6219df2+MbOhfn/95Uj4xO+gFASIIQECCEBQkiAEBIghAQIIQFCSIAQEiCEBAghAUJIgBASIIQECCEBQkiAEBIghAQIIQFCSIAQEiCEBAihzdGv98ZHDv4+v3HhocPjG1+99u74xsMvPzf6/sGd0ef/88D++MSlo/M3Wq/e/ff4hi8ghAQIIQFCSIAQEiCEBAghAUJIgBASIIQECCEBQkiAEBIghAQIIQFCSIAQEiCEBAghAUJIgBASIIQECCEBQkiAENpcj5G9nfnOv33xnfGNE2+dGt+4dmz2/Su3zh+0vXbj/CHm759/aWt6Y/f0q+N/LF9ACAkQQgKEkAAhJEAICRBCAoSQACEkQAgJEEIChJAAISRACAkQQgKEkAAhJEAICRBCAoSQACEkQAgJEEIChJAAIbT13fk7xo+PHj940/TEevTkyfGN7cv74xs/P3Zo9P3tK+P3bNfuhz+Pb5x/6q7xjTvf+Hx8wxcQQgKEkAAhJEAICRBCAoSQACEkQAgJEEIChJAAISRACAkQQgKEkAAhJEAICRBCAoSQACEkQAgJEEIChJAAISRACG2ux9Hcs1f/HN/Y38wfnN0/sj2+saZ/xvxt4bV/y43jG3uz94vXWmttH719fMMXEEIChJAAISRACAkQQgKEkAAhJEAICRBCAoSQACEkQAgJEEIChJAAISRACAkQQgKEkAAhJEAICRBCAoSQACEkQAj9C4G2d3corHCyAAAAAElFTkSuQmCC\" y=\"-23.078125\"/>\n   </g>\n   <g id=\"matplotlib.axis_1\">\n    <g id=\"xtick_1\">\n     <g id=\"line2d_1\">\n      <defs>\n       <path d=\"M 0 0 \nL 0 3.5 \n\" id=\"m13415cb3a3\" style=\"stroke:#000000;stroke-width:0.8;\"/>\n      </defs>\n      <g>\n       <use style=\"stroke:#000000;stroke-width:0.8;\" x=\"32.9625\" xlink:href=\"#m13415cb3a3\" y=\"247.078125\"/>\n      </g>\n     </g>\n     <g id=\"line2d_2\">\n      <defs>\n       <path d=\"M 0 0 \nL 0 -3.5 \n\" id=\"mdfbdbb4be7\" style=\"stroke:#000000;stroke-width:0.8;\"/>\n      </defs>\n      <g>\n       <use style=\"stroke:#000000;stroke-width:0.8;\" x=\"32.9625\" xlink:href=\"#mdfbdbb4be7\" y=\"23.878125\"/>\n      </g>\n     </g>\n     <g id=\"text_1\">\n      <!-- 0 -->\n      <defs>\n       <path d=\"M 31.78125 66.40625 \nQ 24.171875 66.40625 20.328125 58.90625 \nQ 16.5 51.421875 16.5 36.375 \nQ 16.5 21.390625 20.328125 13.890625 \nQ 24.171875 6.390625 31.78125 6.390625 \nQ 39.453125 6.390625 43.28125 13.890625 \nQ 47.125 21.390625 47.125 36.375 \nQ 47.125 51.421875 43.28125 58.90625 \nQ 39.453125 66.40625 31.78125 66.40625 \nz\nM 31.78125 74.21875 \nQ 44.046875 74.21875 50.515625 64.515625 \nQ 56.984375 54.828125 56.984375 36.375 \nQ 56.984375 17.96875 50.515625 8.265625 \nQ 44.046875 -1.421875 31.78125 -1.421875 \nQ 19.53125 -1.421875 13.0625 8.265625 \nQ 6.59375 17.96875 6.59375 36.375 \nQ 6.59375 54.828125 13.0625 64.515625 \nQ 19.53125 74.21875 31.78125 74.21875 \nz\n\" id=\"DejaVuSans-48\"/>\n      </defs>\n      <g transform=\"translate(29.78125 14.798438)scale(0.1 -0.1)\">\n       <use xlink:href=\"#DejaVuSans-48\"/>\n      </g>\n     </g>\n    </g>\n    <g id=\"xtick_2\">\n     <g id=\"line2d_3\">\n      <g>\n       <use style=\"stroke:#000000;stroke-width:0.8;\" x=\"57.7625\" xlink:href=\"#m13415cb3a3\" y=\"247.078125\"/>\n      </g>\n     </g>\n     <g id=\"line2d_4\">\n      <g>\n       <use style=\"stroke:#000000;stroke-width:0.8;\" x=\"57.7625\" xlink:href=\"#mdfbdbb4be7\" y=\"23.878125\"/>\n      </g>\n     </g>\n     <g id=\"text_2\">\n      <!-- 1 -->\n      <defs>\n       <path d=\"M 12.40625 8.296875 \nL 28.515625 8.296875 \nL 28.515625 63.921875 \nL 10.984375 60.40625 \nL 10.984375 69.390625 \nL 28.421875 72.90625 \nL 38.28125 72.90625 \nL 38.28125 8.296875 \nL 54.390625 8.296875 \nL 54.390625 0 \nL 12.40625 0 \nz\n\" id=\"DejaVuSans-49\"/>\n      </defs>\n      <g transform=\"translate(54.58125 14.798438)scale(0.1 -0.1)\">\n       <use xlink:href=\"#DejaVuSans-49\"/>\n      </g>\n     </g>\n    </g>\n    <g id=\"xtick_3\">\n     <g id=\"line2d_5\">\n      <g>\n       <use style=\"stroke:#000000;stroke-width:0.8;\" x=\"82.5625\" xlink:href=\"#m13415cb3a3\" y=\"247.078125\"/>\n      </g>\n     </g>\n     <g id=\"line2d_6\">\n      <g>\n       <use style=\"stroke:#000000;stroke-width:0.8;\" x=\"82.5625\" xlink:href=\"#mdfbdbb4be7\" y=\"23.878125\"/>\n      </g>\n     </g>\n     <g id=\"text_3\">\n      <!-- 2 -->\n      <defs>\n       <path d=\"M 19.1875 8.296875 \nL 53.609375 8.296875 \nL 53.609375 0 \nL 7.328125 0 \nL 7.328125 8.296875 \nQ 12.9375 14.109375 22.625 23.890625 \nQ 32.328125 33.6875 34.8125 36.53125 \nQ 39.546875 41.84375 41.421875 45.53125 \nQ 43.3125 49.21875 43.3125 52.78125 \nQ 43.3125 58.59375 39.234375 62.25 \nQ 35.15625 65.921875 28.609375 65.921875 \nQ 23.96875 65.921875 18.8125 64.3125 \nQ 13.671875 62.703125 7.8125 59.421875 \nL 7.8125 69.390625 \nQ 13.765625 71.78125 18.9375 73 \nQ 24.125 74.21875 28.421875 74.21875 \nQ 39.75 74.21875 46.484375 68.546875 \nQ 53.21875 62.890625 53.21875 53.421875 \nQ 53.21875 48.921875 51.53125 44.890625 \nQ 49.859375 40.875 45.40625 35.40625 \nQ 44.1875 33.984375 37.640625 27.21875 \nQ 31.109375 20.453125 19.1875 8.296875 \nz\n\" id=\"DejaVuSans-50\"/>\n      </defs>\n      <g transform=\"translate(79.38125 14.798438)scale(0.1 -0.1)\">\n       <use xlink:href=\"#DejaVuSans-50\"/>\n      </g>\n     </g>\n    </g>\n    <g id=\"xtick_4\">\n     <g id=\"line2d_7\">\n      <g>\n       <use style=\"stroke:#000000;stroke-width:0.8;\" x=\"107.3625\" xlink:href=\"#m13415cb3a3\" y=\"247.078125\"/>\n      </g>\n     </g>\n     <g id=\"line2d_8\">\n      <g>\n       <use style=\"stroke:#000000;stroke-width:0.8;\" x=\"107.3625\" xlink:href=\"#mdfbdbb4be7\" y=\"23.878125\"/>\n      </g>\n     </g>\n     <g id=\"text_4\">\n      <!-- 3 -->\n      <defs>\n       <path d=\"M 40.578125 39.3125 \nQ 47.65625 37.796875 51.625 33 \nQ 55.609375 28.21875 55.609375 21.1875 \nQ 55.609375 10.40625 48.1875 4.484375 \nQ 40.765625 -1.421875 27.09375 -1.421875 \nQ 22.515625 -1.421875 17.65625 -0.515625 \nQ 12.796875 0.390625 7.625 2.203125 \nL 7.625 11.71875 \nQ 11.71875 9.328125 16.59375 8.109375 \nQ 21.484375 6.890625 26.8125 6.890625 \nQ 36.078125 6.890625 40.9375 10.546875 \nQ 45.796875 14.203125 45.796875 21.1875 \nQ 45.796875 27.640625 41.28125 31.265625 \nQ 36.765625 34.90625 28.71875 34.90625 \nL 20.21875 34.90625 \nL 20.21875 43.015625 \nL 29.109375 43.015625 \nQ 36.375 43.015625 40.234375 45.921875 \nQ 44.09375 48.828125 44.09375 54.296875 \nQ 44.09375 59.90625 40.109375 62.90625 \nQ 36.140625 65.921875 28.71875 65.921875 \nQ 24.65625 65.921875 20.015625 65.03125 \nQ 15.375 64.15625 9.8125 62.3125 \nL 9.8125 71.09375 \nQ 15.4375 72.65625 20.34375 73.4375 \nQ 25.25 74.21875 29.59375 74.21875 \nQ 40.828125 74.21875 47.359375 69.109375 \nQ 53.90625 64.015625 53.90625 55.328125 \nQ 53.90625 49.265625 50.4375 45.09375 \nQ 46.96875 40.921875 40.578125 39.3125 \nz\n\" id=\"DejaVuSans-51\"/>\n      </defs>\n      <g transform=\"translate(104.18125 14.798438)scale(0.1 -0.1)\">\n       <use xlink:href=\"#DejaVuSans-51\"/>\n      </g>\n     </g>\n    </g>\n    <g id=\"xtick_5\">\n     <g id=\"line2d_9\">\n      <g>\n       <use style=\"stroke:#000000;stroke-width:0.8;\" x=\"132.1625\" xlink:href=\"#m13415cb3a3\" y=\"247.078125\"/>\n      </g>\n     </g>\n     <g id=\"line2d_10\">\n      <g>\n       <use style=\"stroke:#000000;stroke-width:0.8;\" x=\"132.1625\" xlink:href=\"#mdfbdbb4be7\" y=\"23.878125\"/>\n      </g>\n     </g>\n     <g id=\"text_5\">\n      <!-- 4 -->\n      <defs>\n       <path d=\"M 37.796875 64.3125 \nL 12.890625 25.390625 \nL 37.796875 25.390625 \nz\nM 35.203125 72.90625 \nL 47.609375 72.90625 \nL 47.609375 25.390625 \nL 58.015625 25.390625 \nL 58.015625 17.1875 \nL 47.609375 17.1875 \nL 47.609375 0 \nL 37.796875 0 \nL 37.796875 17.1875 \nL 4.890625 17.1875 \nL 4.890625 26.703125 \nz\n\" id=\"DejaVuSans-52\"/>\n      </defs>\n      <g transform=\"translate(128.98125 14.798438)scale(0.1 -0.1)\">\n       <use xlink:href=\"#DejaVuSans-52\"/>\n      </g>\n     </g>\n    </g>\n    <g id=\"xtick_6\">\n     <g id=\"line2d_11\">\n      <g>\n       <use style=\"stroke:#000000;stroke-width:0.8;\" x=\"156.9625\" xlink:href=\"#m13415cb3a3\" y=\"247.078125\"/>\n      </g>\n     </g>\n     <g id=\"line2d_12\">\n      <g>\n       <use style=\"stroke:#000000;stroke-width:0.8;\" x=\"156.9625\" xlink:href=\"#mdfbdbb4be7\" y=\"23.878125\"/>\n      </g>\n     </g>\n     <g id=\"text_6\">\n      <!-- 5 -->\n      <defs>\n       <path d=\"M 10.796875 72.90625 \nL 49.515625 72.90625 \nL 49.515625 64.59375 \nL 19.828125 64.59375 \nL 19.828125 46.734375 \nQ 21.96875 47.46875 24.109375 47.828125 \nQ 26.265625 48.1875 28.421875 48.1875 \nQ 40.625 48.1875 47.75 41.5 \nQ 54.890625 34.8125 54.890625 23.390625 \nQ 54.890625 11.625 47.5625 5.09375 \nQ 40.234375 -1.421875 26.90625 -1.421875 \nQ 22.3125 -1.421875 17.546875 -0.640625 \nQ 12.796875 0.140625 7.71875 1.703125 \nL 7.71875 11.625 \nQ 12.109375 9.234375 16.796875 8.0625 \nQ 21.484375 6.890625 26.703125 6.890625 \nQ 35.15625 6.890625 40.078125 11.328125 \nQ 45.015625 15.765625 45.015625 23.390625 \nQ 45.015625 31 40.078125 35.4375 \nQ 35.15625 39.890625 26.703125 39.890625 \nQ 22.75 39.890625 18.8125 39.015625 \nQ 14.890625 38.140625 10.796875 36.28125 \nz\n\" id=\"DejaVuSans-53\"/>\n      </defs>\n      <g transform=\"translate(153.78125 14.798438)scale(0.1 -0.1)\">\n       <use xlink:href=\"#DejaVuSans-53\"/>\n      </g>\n     </g>\n    </g>\n    <g id=\"xtick_7\">\n     <g id=\"line2d_13\">\n      <g>\n       <use style=\"stroke:#000000;stroke-width:0.8;\" x=\"181.7625\" xlink:href=\"#m13415cb3a3\" y=\"247.078125\"/>\n      </g>\n     </g>\n     <g id=\"line2d_14\">\n      <g>\n       <use style=\"stroke:#000000;stroke-width:0.8;\" x=\"181.7625\" xlink:href=\"#mdfbdbb4be7\" y=\"23.878125\"/>\n      </g>\n     </g>\n     <g id=\"text_7\">\n      <!-- 6 -->\n      <defs>\n       <path d=\"M 33.015625 40.375 \nQ 26.375 40.375 22.484375 35.828125 \nQ 18.609375 31.296875 18.609375 23.390625 \nQ 18.609375 15.53125 22.484375 10.953125 \nQ 26.375 6.390625 33.015625 6.390625 \nQ 39.65625 6.390625 43.53125 10.953125 \nQ 47.40625 15.53125 47.40625 23.390625 \nQ 47.40625 31.296875 43.53125 35.828125 \nQ 39.65625 40.375 33.015625 40.375 \nz\nM 52.59375 71.296875 \nL 52.59375 62.3125 \nQ 48.875 64.0625 45.09375 64.984375 \nQ 41.3125 65.921875 37.59375 65.921875 \nQ 27.828125 65.921875 22.671875 59.328125 \nQ 17.53125 52.734375 16.796875 39.40625 \nQ 19.671875 43.65625 24.015625 45.921875 \nQ 28.375 48.1875 33.59375 48.1875 \nQ 44.578125 48.1875 50.953125 41.515625 \nQ 57.328125 34.859375 57.328125 23.390625 \nQ 57.328125 12.15625 50.6875 5.359375 \nQ 44.046875 -1.421875 33.015625 -1.421875 \nQ 20.359375 -1.421875 13.671875 8.265625 \nQ 6.984375 17.96875 6.984375 36.375 \nQ 6.984375 53.65625 15.1875 63.9375 \nQ 23.390625 74.21875 37.203125 74.21875 \nQ 40.921875 74.21875 44.703125 73.484375 \nQ 48.484375 72.75 52.59375 71.296875 \nz\n\" id=\"DejaVuSans-54\"/>\n      </defs>\n      <g transform=\"translate(178.58125 14.798438)scale(0.1 -0.1)\">\n       <use xlink:href=\"#DejaVuSans-54\"/>\n      </g>\n     </g>\n    </g>\n    <g id=\"xtick_8\">\n     <g id=\"line2d_15\">\n      <g>\n       <use style=\"stroke:#000000;stroke-width:0.8;\" x=\"206.5625\" xlink:href=\"#m13415cb3a3\" y=\"247.078125\"/>\n      </g>\n     </g>\n     <g id=\"line2d_16\">\n      <g>\n       <use style=\"stroke:#000000;stroke-width:0.8;\" x=\"206.5625\" xlink:href=\"#mdfbdbb4be7\" y=\"23.878125\"/>\n      </g>\n     </g>\n     <g id=\"text_8\">\n      <!-- 7 -->\n      <defs>\n       <path d=\"M 8.203125 72.90625 \nL 55.078125 72.90625 \nL 55.078125 68.703125 \nL 28.609375 0 \nL 18.3125 0 \nL 43.21875 64.59375 \nL 8.203125 64.59375 \nz\n\" id=\"DejaVuSans-55\"/>\n      </defs>\n      <g transform=\"translate(203.38125 14.798438)scale(0.1 -0.1)\">\n       <use xlink:href=\"#DejaVuSans-55\"/>\n      </g>\n     </g>\n    </g>\n    <g id=\"xtick_9\">\n     <g id=\"line2d_17\">\n      <g>\n       <use style=\"stroke:#000000;stroke-width:0.8;\" x=\"231.3625\" xlink:href=\"#m13415cb3a3\" y=\"247.078125\"/>\n      </g>\n     </g>\n     <g id=\"line2d_18\">\n      <g>\n       <use style=\"stroke:#000000;stroke-width:0.8;\" x=\"231.3625\" xlink:href=\"#mdfbdbb4be7\" y=\"23.878125\"/>\n      </g>\n     </g>\n     <g id=\"text_9\">\n      <!-- 8 -->\n      <defs>\n       <path d=\"M 31.78125 34.625 \nQ 24.75 34.625 20.71875 30.859375 \nQ 16.703125 27.09375 16.703125 20.515625 \nQ 16.703125 13.921875 20.71875 10.15625 \nQ 24.75 6.390625 31.78125 6.390625 \nQ 38.8125 6.390625 42.859375 10.171875 \nQ 46.921875 13.96875 46.921875 20.515625 \nQ 46.921875 27.09375 42.890625 30.859375 \nQ 38.875 34.625 31.78125 34.625 \nz\nM 21.921875 38.8125 \nQ 15.578125 40.375 12.03125 44.71875 \nQ 8.5 49.078125 8.5 55.328125 \nQ 8.5 64.0625 14.71875 69.140625 \nQ 20.953125 74.21875 31.78125 74.21875 \nQ 42.671875 74.21875 48.875 69.140625 \nQ 55.078125 64.0625 55.078125 55.328125 \nQ 55.078125 49.078125 51.53125 44.71875 \nQ 48 40.375 41.703125 38.8125 \nQ 48.828125 37.15625 52.796875 32.3125 \nQ 56.78125 27.484375 56.78125 20.515625 \nQ 56.78125 9.90625 50.3125 4.234375 \nQ 43.84375 -1.421875 31.78125 -1.421875 \nQ 19.734375 -1.421875 13.25 4.234375 \nQ 6.78125 9.90625 6.78125 20.515625 \nQ 6.78125 27.484375 10.78125 32.3125 \nQ 14.796875 37.15625 21.921875 38.8125 \nz\nM 18.3125 54.390625 \nQ 18.3125 48.734375 21.84375 45.5625 \nQ 25.390625 42.390625 31.78125 42.390625 \nQ 38.140625 42.390625 41.71875 45.5625 \nQ 45.3125 48.734375 45.3125 54.390625 \nQ 45.3125 60.0625 41.71875 63.234375 \nQ 38.140625 66.40625 31.78125 66.40625 \nQ 25.390625 66.40625 21.84375 63.234375 \nQ 18.3125 60.0625 18.3125 54.390625 \nz\n\" id=\"DejaVuSans-56\"/>\n      </defs>\n      <g transform=\"translate(228.18125 14.798438)scale(0.1 -0.1)\">\n       <use xlink:href=\"#DejaVuSans-56\"/>\n      </g>\n     </g>\n    </g>\n   </g>\n   <g id=\"matplotlib.axis_2\">\n    <g id=\"ytick_1\">\n     <g id=\"line2d_19\">\n      <defs>\n       <path d=\"M 0 0 \nL -3.5 0 \n\" id=\"ma62f29c98b\" style=\"stroke:#000000;stroke-width:0.8;\"/>\n      </defs>\n      <g>\n       <use style=\"stroke:#000000;stroke-width:0.8;\" x=\"20.5625\" xlink:href=\"#ma62f29c98b\" y=\"36.278125\"/>\n      </g>\n     </g>\n     <g id=\"text_10\">\n      <!-- 0 -->\n      <g transform=\"translate(7.2 40.077344)scale(0.1 -0.1)\">\n       <use xlink:href=\"#DejaVuSans-48\"/>\n      </g>\n     </g>\n    </g>\n    <g id=\"ytick_2\">\n     <g id=\"line2d_20\">\n      <g>\n       <use style=\"stroke:#000000;stroke-width:0.8;\" x=\"20.5625\" xlink:href=\"#ma62f29c98b\" y=\"61.078125\"/>\n      </g>\n     </g>\n     <g id=\"text_11\">\n      <!-- 1 -->\n      <g transform=\"translate(7.2 64.877344)scale(0.1 -0.1)\">\n       <use xlink:href=\"#DejaVuSans-49\"/>\n      </g>\n     </g>\n    </g>\n    <g id=\"ytick_3\">\n     <g id=\"line2d_21\">\n      <g>\n       <use style=\"stroke:#000000;stroke-width:0.8;\" x=\"20.5625\" xlink:href=\"#ma62f29c98b\" y=\"85.878125\"/>\n      </g>\n     </g>\n     <g id=\"text_12\">\n      <!-- 2 -->\n      <g transform=\"translate(7.2 89.677344)scale(0.1 -0.1)\">\n       <use xlink:href=\"#DejaVuSans-50\"/>\n      </g>\n     </g>\n    </g>\n    <g id=\"ytick_4\">\n     <g id=\"line2d_22\">\n      <g>\n       <use style=\"stroke:#000000;stroke-width:0.8;\" x=\"20.5625\" xlink:href=\"#ma62f29c98b\" y=\"110.678125\"/>\n      </g>\n     </g>\n     <g id=\"text_13\">\n      <!-- 3 -->\n      <g transform=\"translate(7.2 114.477344)scale(0.1 -0.1)\">\n       <use xlink:href=\"#DejaVuSans-51\"/>\n      </g>\n     </g>\n    </g>\n    <g id=\"ytick_5\">\n     <g id=\"line2d_23\">\n      <g>\n       <use style=\"stroke:#000000;stroke-width:0.8;\" x=\"20.5625\" xlink:href=\"#ma62f29c98b\" y=\"135.478125\"/>\n      </g>\n     </g>\n     <g id=\"text_14\">\n      <!-- 4 -->\n      <g transform=\"translate(7.2 139.277344)scale(0.1 -0.1)\">\n       <use xlink:href=\"#DejaVuSans-52\"/>\n      </g>\n     </g>\n    </g>\n    <g id=\"ytick_6\">\n     <g id=\"line2d_24\">\n      <g>\n       <use style=\"stroke:#000000;stroke-width:0.8;\" x=\"20.5625\" xlink:href=\"#ma62f29c98b\" y=\"160.278125\"/>\n      </g>\n     </g>\n     <g id=\"text_15\">\n      <!-- 5 -->\n      <g transform=\"translate(7.2 164.077344)scale(0.1 -0.1)\">\n       <use xlink:href=\"#DejaVuSans-53\"/>\n      </g>\n     </g>\n    </g>\n    <g id=\"ytick_7\">\n     <g id=\"line2d_25\">\n      <g>\n       <use style=\"stroke:#000000;stroke-width:0.8;\" x=\"20.5625\" xlink:href=\"#ma62f29c98b\" y=\"185.078125\"/>\n      </g>\n     </g>\n     <g id=\"text_16\">\n      <!-- 6 -->\n      <g transform=\"translate(7.2 188.877344)scale(0.1 -0.1)\">\n       <use xlink:href=\"#DejaVuSans-54\"/>\n      </g>\n     </g>\n    </g>\n    <g id=\"ytick_8\">\n     <g id=\"line2d_26\">\n      <g>\n       <use style=\"stroke:#000000;stroke-width:0.8;\" x=\"20.5625\" xlink:href=\"#ma62f29c98b\" y=\"209.878125\"/>\n      </g>\n     </g>\n     <g id=\"text_17\">\n      <!-- 7 -->\n      <g transform=\"translate(7.2 213.677344)scale(0.1 -0.1)\">\n       <use xlink:href=\"#DejaVuSans-55\"/>\n      </g>\n     </g>\n    </g>\n    <g id=\"ytick_9\">\n     <g id=\"line2d_27\">\n      <g>\n       <use style=\"stroke:#000000;stroke-width:0.8;\" x=\"20.5625\" xlink:href=\"#ma62f29c98b\" y=\"234.678125\"/>\n      </g>\n     </g>\n     <g id=\"text_18\">\n      <!-- 8 -->\n      <g transform=\"translate(7.2 238.477344)scale(0.1 -0.1)\">\n       <use xlink:href=\"#DejaVuSans-56\"/>\n      </g>\n     </g>\n    </g>\n   </g>\n   <g id=\"patch_3\">\n    <path d=\"M 20.5625 247.078125 \nL 20.5625 23.878125 \n\" style=\"fill:none;stroke:#000000;stroke-linecap:square;stroke-linejoin:miter;stroke-width:0.8;\"/>\n   </g>\n   <g id=\"patch_4\">\n    <path d=\"M 243.7625 247.078125 \nL 243.7625 23.878125 \n\" style=\"fill:none;stroke:#000000;stroke-linecap:square;stroke-linejoin:miter;stroke-width:0.8;\"/>\n   </g>\n   <g id=\"patch_5\">\n    <path d=\"M 20.5625 247.078125 \nL 243.7625 247.078125 \n\" style=\"fill:none;stroke:#000000;stroke-linecap:square;stroke-linejoin:miter;stroke-width:0.8;\"/>\n   </g>\n   <g id=\"patch_6\">\n    <path d=\"M 20.5625 23.878125 \nL 243.7625 23.878125 \n\" style=\"fill:none;stroke:#000000;stroke-linecap:square;stroke-linejoin:miter;stroke-width:0.8;\"/>\n   </g>\n  </g>\n </g>\n <defs>\n  <clipPath id=\"p25ac3b5831\">\n   <rect height=\"223.2\" width=\"223.2\" x=\"20.5625\" y=\"23.878125\"/>\n  </clipPath>\n </defs>\n</svg>\n",
            "text/plain": "<Figure size 288x288 with 1 Axes>"
          },
          "metadata": {
            "needs_background": "light"
          },
          "output_type": "display_data"
        }
      ],
      "source": [
        "import matplotlib.pyplot as plt\n",
        "plt.matshow(df.corr())\n",
        "plt.show()"
      ]
    },
    {
      "cell_type": "code",
      "execution_count": 83,
      "metadata": {},
      "outputs": [
        {
          "data": {
            "image/png": "[encoded data removed]",
            "image/svg+xml": "<?xml version=\"1.0\" encoding=\"utf-8\" standalone=\"no\"?>\n<!DOCTYPE svg PUBLIC \"-//W3C//DTD SVG 1.1//EN\"\n  \"http://www.w3.org/Graphics/SVG/1.1/DTD/svg11.dtd\">\n<!-- Created with matplotlib (https://matplotlib.org/) -->\n<svg height=\"336.432969pt\" version=\"1.1\" viewBox=\"0 0 441.928562 336.432969\" width=\"441.928562pt\" xmlns=\"http://www.w3.org/2000/svg\" xmlns:xlink=\"http://www.w3.org/1999/xlink\">\n <defs>\n  <style type=\"text/css\">\n*{stroke-linecap:butt;stroke-linejoin:round;}\n  </style>\n </defs>\n <g id=\"figure_1\">\n  <g id=\"patch_1\">\n   <path d=\"M 0 336.432969 \nL 441.928562 336.432969 \nL 441.928562 0 \nL 0 0 \nz\n\" style=\"fill:none;\"/>\n  </g>\n  <g id=\"axes_1\">\n   <g id=\"patch_2\">\n    <path d=\"M 107.99375 228.439219 \nL 375.83375 228.439219 \nL 375.83375 10.999219 \nL 107.99375 10.999219 \nz\n\" style=\"fill:#ffffff;\"/>\n   </g>\n   <g id=\"QuadMesh_1\">\n    <path clip-path=\"url(#p3c86cd8ff5)\" d=\"M 107.99375 -2.590781 \nL 137.75375 -2.590781 \nL 137.75375 24.589219 \nL 107.99375 24.589219 \nL 107.99375 -2.590781 \n\" style=\"fill:#faebdd;\"/>\n    <path clip-path=\"url(#p3c86cd8ff5)\" d=\"M 137.75375 -2.590781 \nL 167.51375 -2.590781 \nL 167.51375 24.589219 \nL 137.75375 24.589219 \nL 137.75375 -2.590781 \n\" style=\"fill:#f8d4bc;\"/>\n    <path clip-path=\"url(#p3c86cd8ff5)\" d=\"M 167.51375 -2.590781 \nL 197.27375 -2.590781 \nL 197.27375 24.589219 \nL 167.51375 24.589219 \nL 167.51375 -2.590781 \n\" style=\"fill:#5e1f52;\"/>\n    <path clip-path=\"url(#p3c86cd8ff5)\" d=\"M 197.27375 -2.590781 \nL 227.03375 -2.590781 \nL 227.03375 24.589219 \nL 197.27375 24.589219 \nL 197.27375 -2.590781 \n\" style=\"fill:#5e1f52;\"/>\n    <path clip-path=\"url(#p3c86cd8ff5)\" d=\"M 227.03375 -2.590781 \nL 256.79375 -2.590781 \nL 256.79375 24.589219 \nL 227.03375 24.589219 \nL 227.03375 -2.590781 \n\" style=\"fill:#b91657;\"/>\n    <path clip-path=\"url(#p3c86cd8ff5)\" d=\"M 256.79375 -2.590781 \nL 286.55375 -2.590781 \nL 286.55375 24.589219 \nL 256.79375 24.589219 \nL 256.79375 -2.590781 \n\" style=\"fill:#aa185a;\"/>\n    <path clip-path=\"url(#p3c86cd8ff5)\" d=\"M 286.55375 -2.590781 \nL 316.31375 -2.590781 \nL 316.31375 24.589219 \nL 286.55375 24.589219 \nL 286.55375 -2.590781 \n\" style=\"fill:#33183c;\"/>\n    <path clip-path=\"url(#p3c86cd8ff5)\" d=\"M 316.31375 -2.590781 \nL 346.07375 -2.590781 \nL 346.07375 24.589219 \nL 316.31375 24.589219 \nL 316.31375 -2.590781 \n\" style=\"fill:#ab185a;\"/>\n    <path clip-path=\"url(#p3c86cd8ff5)\" d=\"M 346.07375 -2.590781 \nL 375.83375 -2.590781 \nL 375.83375 24.589219 \nL 346.07375 24.589219 \nL 346.07375 -2.590781 \n\" style=\"fill:#180f29;\"/>\n    <path clip-path=\"url(#p3c86cd8ff5)\" d=\"M 107.99375 24.589219 \nL 137.75375 24.589219 \nL 137.75375 51.769219 \nL 107.99375 51.769219 \nL 107.99375 24.589219 \n\" style=\"fill:#f8d4bc;\"/>\n    <path clip-path=\"url(#p3c86cd8ff5)\" d=\"M 137.75375 24.589219 \nL 167.51375 24.589219 \nL 167.51375 51.769219 \nL 137.75375 51.769219 \nL 137.75375 24.589219 \n\" style=\"fill:#faebdd;\"/>\n    <path clip-path=\"url(#p3c86cd8ff5)\" d=\"M 167.51375 24.589219 \nL 197.27375 24.589219 \nL 197.27375 51.769219 \nL 167.51375 51.769219 \nL 167.51375 24.589219 \n\" style=\"fill:#591e50;\"/>\n    <path clip-path=\"url(#p3c86cd8ff5)\" d=\"M 197.27375 24.589219 \nL 227.03375 24.589219 \nL 227.03375 51.769219 \nL 197.27375 51.769219 \nL 197.27375 24.589219 \n\" style=\"fill:#4c1d4b;\"/>\n    <path clip-path=\"url(#p3c86cd8ff5)\" d=\"M 227.03375 24.589219 \nL 256.79375 24.589219 \nL 256.79375 51.769219 \nL 227.03375 51.769219 \nL 227.03375 24.589219 \n\" style=\"fill:#b71657;\"/>\n    <path clip-path=\"url(#p3c86cd8ff5)\" d=\"M 256.79375 24.589219 \nL 286.55375 24.589219 \nL 286.55375 51.769219 \nL 256.79375 51.769219 \nL 256.79375 24.589219 \n\" style=\"fill:#ad1759;\"/>\n    <path clip-path=\"url(#p3c86cd8ff5)\" d=\"M 286.55375 24.589219 \nL 316.31375 24.589219 \nL 316.31375 51.769219 \nL 286.55375 51.769219 \nL 286.55375 24.589219 \n\" style=\"fill:#221331;\"/>\n    <path clip-path=\"url(#p3c86cd8ff5)\" d=\"M 316.31375 24.589219 \nL 346.07375 24.589219 \nL 346.07375 51.769219 \nL 316.31375 51.769219 \nL 316.31375 24.589219 \n\" style=\"fill:#9f1a5b;\"/>\n    <path clip-path=\"url(#p3c86cd8ff5)\" d=\"M 346.07375 24.589219 \nL 375.83375 24.589219 \nL 375.83375 51.769219 \nL 346.07375 51.769219 \nL 346.07375 24.589219 \n\" style=\"fill:#03051a;\"/>\n    <path clip-path=\"url(#p3c86cd8ff5)\" d=\"M 107.99375 51.769219 \nL 137.75375 51.769219 \nL 137.75375 78.949219 \nL 107.99375 78.949219 \nL 107.99375 51.769219 \n\" style=\"fill:#5e1f52;\"/>\n    <path clip-path=\"url(#p3c86cd8ff5)\" d=\"M 137.75375 51.769219 \nL 167.51375 51.769219 \nL 167.51375 78.949219 \nL 137.75375 78.949219 \nL 137.75375 51.769219 \n\" style=\"fill:#591e50;\"/>\n    <path clip-path=\"url(#p3c86cd8ff5)\" d=\"M 167.51375 51.769219 \nL 197.27375 51.769219 \nL 197.27375 78.949219 \nL 167.51375 78.949219 \nL 167.51375 51.769219 \n\" style=\"fill:#faebdd;\"/>\n    <path clip-path=\"url(#p3c86cd8ff5)\" d=\"M 197.27375 51.769219 \nL 227.03375 51.769219 \nL 227.03375 78.949219 \nL 197.27375 78.949219 \nL 197.27375 51.769219 \n\" style=\"fill:#9c1b5b;\"/>\n    <path clip-path=\"url(#p3c86cd8ff5)\" d=\"M 227.03375 51.769219 \nL 256.79375 51.769219 \nL 256.79375 78.949219 \nL 227.03375 78.949219 \nL 227.03375 51.769219 \n\" style=\"fill:#a11a5b;\"/>\n    <path clip-path=\"url(#p3c86cd8ff5)\" d=\"M 256.79375 51.769219 \nL 286.55375 51.769219 \nL 286.55375 78.949219 \nL 256.79375 78.949219 \nL 256.79375 51.769219 \n\" style=\"fill:#bc1656;\"/>\n    <path clip-path=\"url(#p3c86cd8ff5)\" d=\"M 286.55375 51.769219 \nL 316.31375 51.769219 \nL 316.31375 78.949219 \nL 286.55375 78.949219 \nL 286.55375 51.769219 \n\" style=\"fill:#de2e44;\"/>\n    <path clip-path=\"url(#p3c86cd8ff5)\" d=\"M 316.31375 51.769219 \nL 346.07375 51.769219 \nL 346.07375 78.949219 \nL 316.31375 78.949219 \nL 316.31375 51.769219 \n\" style=\"fill:none;\"/>\n    <path clip-path=\"url(#p3c86cd8ff5)\" d=\"M 346.07375 51.769219 \nL 375.83375 51.769219 \nL 375.83375 78.949219 \nL 346.07375 78.949219 \nL 346.07375 51.769219 \n\" style=\"fill:#e63b40;\"/>\n    <path clip-path=\"url(#p3c86cd8ff5)\" d=\"M 107.99375 78.949219 \nL 137.75375 78.949219 \nL 137.75375 106.129219 \nL 107.99375 106.129219 \nL 107.99375 78.949219 \n\" style=\"fill:#5e1f52;\"/>\n    <path clip-path=\"url(#p3c86cd8ff5)\" d=\"M 137.75375 78.949219 \nL 167.51375 78.949219 \nL 167.51375 106.129219 \nL 137.75375 106.129219 \nL 137.75375 78.949219 \n\" style=\"fill:#4c1d4b;\"/>\n    <path clip-path=\"url(#p3c86cd8ff5)\" d=\"M 167.51375 78.949219 \nL 197.27375 78.949219 \nL 197.27375 106.129219 \nL 167.51375 106.129219 \nL 167.51375 78.949219 \n\" style=\"fill:#9c1b5b;\"/>\n    <path clip-path=\"url(#p3c86cd8ff5)\" d=\"M 197.27375 78.949219 \nL 227.03375 78.949219 \nL 227.03375 106.129219 \nL 197.27375 106.129219 \nL 197.27375 78.949219 \n\" style=\"fill:#faebdd;\"/>\n    <path clip-path=\"url(#p3c86cd8ff5)\" d=\"M 227.03375 78.949219 \nL 256.79375 78.949219 \nL 256.79375 106.129219 \nL 227.03375 106.129219 \nL 227.03375 78.949219 \n\" style=\"fill:#781f59;\"/>\n    <path clip-path=\"url(#p3c86cd8ff5)\" d=\"M 256.79375 78.949219 \nL 286.55375 78.949219 \nL 286.55375 106.129219 \nL 256.79375 106.129219 \nL 256.79375 78.949219 \n\" style=\"fill:#871e5b;\"/>\n    <path clip-path=\"url(#p3c86cd8ff5)\" d=\"M 286.55375 78.949219 \nL 316.31375 78.949219 \nL 316.31375 106.129219 \nL 286.55375 106.129219 \nL 286.55375 78.949219 \n\" style=\"fill:#d11f4c;\"/>\n    <path clip-path=\"url(#p3c86cd8ff5)\" d=\"M 316.31375 78.949219 \nL 346.07375 78.949219 \nL 346.07375 106.129219 \nL 316.31375 106.129219 \nL 316.31375 78.949219 \n\" style=\"fill:#b71657;\"/>\n    <path clip-path=\"url(#p3c86cd8ff5)\" d=\"M 346.07375 78.949219 \nL 375.83375 78.949219 \nL 375.83375 106.129219 \nL 346.07375 106.129219 \nL 346.07375 78.949219 \n\" style=\"fill:#e23442;\"/>\n    <path clip-path=\"url(#p3c86cd8ff5)\" d=\"M 107.99375 106.129219 \nL 137.75375 106.129219 \nL 137.75375 133.309219 \nL 107.99375 133.309219 \nL 107.99375 106.129219 \n\" style=\"fill:#b91657;\"/>\n    <path clip-path=\"url(#p3c86cd8ff5)\" d=\"M 137.75375 106.129219 \nL 167.51375 106.129219 \nL 167.51375 133.309219 \nL 137.75375 133.309219 \nL 137.75375 106.129219 \n\" style=\"fill:#b71657;\"/>\n    <path clip-path=\"url(#p3c86cd8ff5)\" d=\"M 167.51375 106.129219 \nL 197.27375 106.129219 \nL 197.27375 133.309219 \nL 167.51375 133.309219 \nL 167.51375 106.129219 \n\" style=\"fill:#a11a5b;\"/>\n    <path clip-path=\"url(#p3c86cd8ff5)\" d=\"M 197.27375 106.129219 \nL 227.03375 106.129219 \nL 227.03375 133.309219 \nL 197.27375 133.309219 \nL 197.27375 106.129219 \n\" style=\"fill:#781f59;\"/>\n    <path clip-path=\"url(#p3c86cd8ff5)\" d=\"M 227.03375 106.129219 \nL 256.79375 106.129219 \nL 256.79375 133.309219 \nL 227.03375 133.309219 \nL 227.03375 106.129219 \n\" style=\"fill:#faebdd;\"/>\n    <path clip-path=\"url(#p3c86cd8ff5)\" d=\"M 256.79375 106.129219 \nL 286.55375 106.129219 \nL 286.55375 133.309219 \nL 256.79375 133.309219 \nL 256.79375 106.129219 \n\" style=\"fill:#ed503e;\"/>\n    <path clip-path=\"url(#p3c86cd8ff5)\" d=\"M 286.55375 106.129219 \nL 316.31375 106.129219 \nL 316.31375 133.309219 \nL 286.55375 133.309219 \nL 286.55375 106.129219 \n\" style=\"fill:#ce1d4e;\"/>\n    <path clip-path=\"url(#p3c86cd8ff5)\" d=\"M 316.31375 106.129219 \nL 346.07375 106.129219 \nL 346.07375 133.309219 \nL 316.31375 133.309219 \nL 316.31375 106.129219 \n\" style=\"fill:#8e1d5b;\"/>\n    <path clip-path=\"url(#p3c86cd8ff5)\" d=\"M 346.07375 106.129219 \nL 375.83375 106.129219 \nL 375.83375 133.309219 \nL 346.07375 133.309219 \nL 346.07375 106.129219 \n\" style=\"fill:#a6195a;\"/>\n    <path clip-path=\"url(#p3c86cd8ff5)\" d=\"M 107.99375 133.309219 \nL 137.75375 133.309219 \nL 137.75375 160.489219 \nL 107.99375 160.489219 \nL 107.99375 133.309219 \n\" style=\"fill:#aa185a;\"/>\n    <path clip-path=\"url(#p3c86cd8ff5)\" d=\"M 137.75375 133.309219 \nL 167.51375 133.309219 \nL 167.51375 160.489219 \nL 137.75375 160.489219 \nL 137.75375 133.309219 \n\" style=\"fill:#ad1759;\"/>\n    <path clip-path=\"url(#p3c86cd8ff5)\" d=\"M 167.51375 133.309219 \nL 197.27375 133.309219 \nL 197.27375 160.489219 \nL 167.51375 160.489219 \nL 167.51375 133.309219 \n\" style=\"fill:#bc1656;\"/>\n    <path clip-path=\"url(#p3c86cd8ff5)\" d=\"M 197.27375 133.309219 \nL 227.03375 133.309219 \nL 227.03375 160.489219 \nL 197.27375 160.489219 \nL 197.27375 133.309219 \n\" style=\"fill:#871e5b;\"/>\n    <path clip-path=\"url(#p3c86cd8ff5)\" d=\"M 227.03375 133.309219 \nL 256.79375 133.309219 \nL 256.79375 160.489219 \nL 227.03375 160.489219 \nL 227.03375 133.309219 \n\" style=\"fill:#ed503e;\"/>\n    <path clip-path=\"url(#p3c86cd8ff5)\" d=\"M 256.79375 133.309219 \nL 286.55375 133.309219 \nL 286.55375 160.489219 \nL 256.79375 160.489219 \nL 256.79375 133.309219 \n\" style=\"fill:#faebdd;\"/>\n    <path clip-path=\"url(#p3c86cd8ff5)\" d=\"M 286.55375 133.309219 \nL 316.31375 133.309219 \nL 316.31375 160.489219 \nL 286.55375 160.489219 \nL 286.55375 133.309219 \n\" style=\"fill:#d92847;\"/>\n    <path clip-path=\"url(#p3c86cd8ff5)\" d=\"M 316.31375 133.309219 \nL 346.07375 133.309219 \nL 346.07375 160.489219 \nL 316.31375 160.489219 \nL 316.31375 133.309219 \n\" style=\"fill:#b51657;\"/>\n    <path clip-path=\"url(#p3c86cd8ff5)\" d=\"M 346.07375 133.309219 \nL 375.83375 133.309219 \nL 375.83375 160.489219 \nL 346.07375 160.489219 \nL 346.07375 133.309219 \n\" style=\"fill:#b21758;\"/>\n    <path clip-path=\"url(#p3c86cd8ff5)\" d=\"M 107.99375 160.489219 \nL 137.75375 160.489219 \nL 137.75375 187.669219 \nL 107.99375 187.669219 \nL 107.99375 160.489219 \n\" style=\"fill:#33183c;\"/>\n    <path clip-path=\"url(#p3c86cd8ff5)\" d=\"M 137.75375 160.489219 \nL 167.51375 160.489219 \nL 167.51375 187.669219 \nL 137.75375 187.669219 \nL 137.75375 160.489219 \n\" style=\"fill:#221331;\"/>\n    <path clip-path=\"url(#p3c86cd8ff5)\" d=\"M 167.51375 160.489219 \nL 197.27375 160.489219 \nL 197.27375 187.669219 \nL 167.51375 187.669219 \nL 167.51375 160.489219 \n\" style=\"fill:#de2e44;\"/>\n    <path clip-path=\"url(#p3c86cd8ff5)\" d=\"M 197.27375 160.489219 \nL 227.03375 160.489219 \nL 227.03375 187.669219 \nL 197.27375 187.669219 \nL 197.27375 160.489219 \n\" style=\"fill:#d11f4c;\"/>\n    <path clip-path=\"url(#p3c86cd8ff5)\" d=\"M 227.03375 160.489219 \nL 256.79375 160.489219 \nL 256.79375 187.669219 \nL 227.03375 187.669219 \nL 227.03375 160.489219 \n\" style=\"fill:#ce1d4e;\"/>\n    <path clip-path=\"url(#p3c86cd8ff5)\" d=\"M 256.79375 160.489219 \nL 286.55375 160.489219 \nL 286.55375 187.669219 \nL 256.79375 187.669219 \nL 256.79375 160.489219 \n\" style=\"fill:#d92847;\"/>\n    <path clip-path=\"url(#p3c86cd8ff5)\" d=\"M 286.55375 160.489219 \nL 316.31375 160.489219 \nL 316.31375 187.669219 \nL 286.55375 187.669219 \nL 286.55375 160.489219 \n\" style=\"fill:#faebdd;\"/>\n    <path clip-path=\"url(#p3c86cd8ff5)\" d=\"M 316.31375 160.489219 \nL 346.07375 160.489219 \nL 346.07375 187.669219 \nL 316.31375 187.669219 \nL 316.31375 160.489219 \n\" style=\"fill:#9e1a5b;\"/>\n    <path clip-path=\"url(#p3c86cd8ff5)\" d=\"M 346.07375 160.489219 \nL 375.83375 160.489219 \nL 375.83375 187.669219 \nL 346.07375 187.669219 \nL 346.07375 160.489219 \n\" style=\"fill:#f37651;\"/>\n    <path clip-path=\"url(#p3c86cd8ff5)\" d=\"M 107.99375 187.669219 \nL 137.75375 187.669219 \nL 137.75375 214.849219 \nL 107.99375 214.849219 \nL 107.99375 187.669219 \n\" style=\"fill:#ab185a;\"/>\n    <path clip-path=\"url(#p3c86cd8ff5)\" d=\"M 137.75375 187.669219 \nL 167.51375 187.669219 \nL 167.51375 214.849219 \nL 137.75375 214.849219 \nL 137.75375 187.669219 \n\" style=\"fill:#9f1a5b;\"/>\n    <path clip-path=\"url(#p3c86cd8ff5)\" d=\"M 167.51375 187.669219 \nL 197.27375 187.669219 \nL 197.27375 214.849219 \nL 167.51375 214.849219 \nL 167.51375 187.669219 \n\" style=\"fill:none;\"/>\n    <path clip-path=\"url(#p3c86cd8ff5)\" d=\"M 197.27375 187.669219 \nL 227.03375 187.669219 \nL 227.03375 214.849219 \nL 197.27375 214.849219 \nL 197.27375 187.669219 \n\" style=\"fill:#b71657;\"/>\n    <path clip-path=\"url(#p3c86cd8ff5)\" d=\"M 227.03375 187.669219 \nL 256.79375 187.669219 \nL 256.79375 214.849219 \nL 227.03375 214.849219 \nL 227.03375 187.669219 \n\" style=\"fill:#8e1d5b;\"/>\n    <path clip-path=\"url(#p3c86cd8ff5)\" d=\"M 256.79375 187.669219 \nL 286.55375 187.669219 \nL 286.55375 214.849219 \nL 256.79375 214.849219 \nL 256.79375 187.669219 \n\" style=\"fill:#b51657;\"/>\n    <path clip-path=\"url(#p3c86cd8ff5)\" d=\"M 286.55375 187.669219 \nL 316.31375 187.669219 \nL 316.31375 214.849219 \nL 286.55375 214.849219 \nL 286.55375 187.669219 \n\" style=\"fill:#9e1a5b;\"/>\n    <path clip-path=\"url(#p3c86cd8ff5)\" d=\"M 316.31375 187.669219 \nL 346.07375 187.669219 \nL 346.07375 214.849219 \nL 316.31375 214.849219 \nL 316.31375 187.669219 \n\" style=\"fill:#faebdd;\"/>\n    <path clip-path=\"url(#p3c86cd8ff5)\" d=\"M 346.07375 187.669219 \nL 375.83375 187.669219 \nL 375.83375 214.849219 \nL 346.07375 214.849219 \nL 346.07375 187.669219 \n\" style=\"fill:#bd1655;\"/>\n    <path clip-path=\"url(#p3c86cd8ff5)\" d=\"M 107.99375 214.849219 \nL 137.75375 214.849219 \nL 137.75375 242.029219 \nL 107.99375 242.029219 \nL 107.99375 214.849219 \n\" style=\"fill:#180f29;\"/>\n    <path clip-path=\"url(#p3c86cd8ff5)\" d=\"M 137.75375 214.849219 \nL 167.51375 214.849219 \nL 167.51375 242.029219 \nL 137.75375 242.029219 \nL 137.75375 214.849219 \n\" style=\"fill:#03051a;\"/>\n    <path clip-path=\"url(#p3c86cd8ff5)\" d=\"M 167.51375 214.849219 \nL 197.27375 214.849219 \nL 197.27375 242.029219 \nL 167.51375 242.029219 \nL 167.51375 214.849219 \n\" style=\"fill:#e63b40;\"/>\n    <path clip-path=\"url(#p3c86cd8ff5)\" d=\"M 197.27375 214.849219 \nL 227.03375 214.849219 \nL 227.03375 242.029219 \nL 197.27375 242.029219 \nL 197.27375 214.849219 \n\" style=\"fill:#e23442;\"/>\n    <path clip-path=\"url(#p3c86cd8ff5)\" d=\"M 227.03375 214.849219 \nL 256.79375 214.849219 \nL 256.79375 242.029219 \nL 227.03375 242.029219 \nL 227.03375 214.849219 \n\" style=\"fill:#a6195a;\"/>\n    <path clip-path=\"url(#p3c86cd8ff5)\" d=\"M 256.79375 214.849219 \nL 286.55375 214.849219 \nL 286.55375 242.029219 \nL 256.79375 242.029219 \nL 256.79375 214.849219 \n\" style=\"fill:#b21758;\"/>\n    <path clip-path=\"url(#p3c86cd8ff5)\" d=\"M 286.55375 214.849219 \nL 316.31375 214.849219 \nL 316.31375 242.029219 \nL 286.55375 242.029219 \nL 286.55375 214.849219 \n\" style=\"fill:#f37651;\"/>\n    <path clip-path=\"url(#p3c86cd8ff5)\" d=\"M 316.31375 214.849219 \nL 346.07375 214.849219 \nL 346.07375 242.029219 \nL 316.31375 242.029219 \nL 316.31375 214.849219 \n\" style=\"fill:#bd1655;\"/>\n    <path clip-path=\"url(#p3c86cd8ff5)\" d=\"M 346.07375 214.849219 \nL 375.83375 214.849219 \nL 375.83375 242.029219 \nL 346.07375 242.029219 \nL 346.07375 214.849219 \n\" style=\"fill:#faebdd;\"/>\n   </g>\n   <g id=\"matplotlib.axis_1\">\n    <g id=\"xtick_1\">\n     <g id=\"line2d_1\">\n      <defs>\n       <path d=\"M 0 0 \nL 0 3.5 \n\" id=\"m423394f64a\" style=\"stroke:#000000;stroke-width:0.8;\"/>\n      </defs>\n      <g>\n       <use style=\"stroke:#000000;stroke-width:0.8;\" x=\"122.87375\" xlink:href=\"#m423394f64a\" y=\"228.439219\"/>\n      </g>\n     </g>\n     <g id=\"text_1\">\n      <!-- Unnamed: 0 -->\n      <defs>\n       <path d=\"M 8.6875 72.90625 \nL 18.609375 72.90625 \nL 18.609375 28.609375 \nQ 18.609375 16.890625 22.84375 11.734375 \nQ 27.09375 6.59375 36.625 6.59375 \nQ 46.09375 6.59375 50.34375 11.734375 \nQ 54.59375 16.890625 54.59375 28.609375 \nL 54.59375 72.90625 \nL 64.5 72.90625 \nL 64.5 27.390625 \nQ 64.5 13.140625 57.4375 5.859375 \nQ 50.390625 -1.421875 36.625 -1.421875 \nQ 22.796875 -1.421875 15.734375 5.859375 \nQ 8.6875 13.140625 8.6875 27.390625 \nz\n\" id=\"DejaVuSans-85\"/>\n       <path d=\"M 54.890625 33.015625 \nL 54.890625 0 \nL 45.90625 0 \nL 45.90625 32.71875 \nQ 45.90625 40.484375 42.875 44.328125 \nQ 39.84375 48.1875 33.796875 48.1875 \nQ 26.515625 48.1875 22.3125 43.546875 \nQ 18.109375 38.921875 18.109375 30.90625 \nL 18.109375 0 \nL 9.078125 0 \nL 9.078125 54.6875 \nL 18.109375 54.6875 \nL 18.109375 46.1875 \nQ 21.34375 51.125 25.703125 53.5625 \nQ 30.078125 56 35.796875 56 \nQ 45.21875 56 50.046875 50.171875 \nQ 54.890625 44.34375 54.890625 33.015625 \nz\n\" id=\"DejaVuSans-110\"/>\n       <path d=\"M 34.28125 27.484375 \nQ 23.390625 27.484375 19.1875 25 \nQ 14.984375 22.515625 14.984375 16.5 \nQ 14.984375 11.71875 18.140625 8.90625 \nQ 21.296875 6.109375 26.703125 6.109375 \nQ 34.1875 6.109375 38.703125 11.40625 \nQ 43.21875 16.703125 43.21875 25.484375 \nL 43.21875 27.484375 \nz\nM 52.203125 31.203125 \nL 52.203125 0 \nL 43.21875 0 \nL 43.21875 8.296875 \nQ 40.140625 3.328125 35.546875 0.953125 \nQ 30.953125 -1.421875 24.3125 -1.421875 \nQ 15.921875 -1.421875 10.953125 3.296875 \nQ 6 8.015625 6 15.921875 \nQ 6 25.140625 12.171875 29.828125 \nQ 18.359375 34.515625 30.609375 34.515625 \nL 43.21875 34.515625 \nL 43.21875 35.40625 \nQ 43.21875 41.609375 39.140625 45 \nQ 35.0625 48.390625 27.6875 48.390625 \nQ 23 48.390625 18.546875 47.265625 \nQ 14.109375 46.140625 10.015625 43.890625 \nL 10.015625 52.203125 \nQ 14.9375 54.109375 19.578125 55.046875 \nQ 24.21875 56 28.609375 56 \nQ 40.484375 56 46.34375 49.84375 \nQ 52.203125 43.703125 52.203125 31.203125 \nz\n\" id=\"DejaVuSans-97\"/>\n       <path d=\"M 52 44.1875 \nQ 55.375 50.25 60.0625 53.125 \nQ 64.75 56 71.09375 56 \nQ 79.640625 56 84.28125 50.015625 \nQ 88.921875 44.046875 88.921875 33.015625 \nL 88.921875 0 \nL 79.890625 0 \nL 79.890625 32.71875 \nQ 79.890625 40.578125 77.09375 44.375 \nQ 74.3125 48.1875 68.609375 48.1875 \nQ 61.625 48.1875 57.5625 43.546875 \nQ 53.515625 38.921875 53.515625 30.90625 \nL 53.515625 0 \nL 44.484375 0 \nL 44.484375 32.71875 \nQ 44.484375 40.625 41.703125 44.40625 \nQ 38.921875 48.1875 33.109375 48.1875 \nQ 26.21875 48.1875 22.15625 43.53125 \nQ 18.109375 38.875 18.109375 30.90625 \nL 18.109375 0 \nL 9.078125 0 \nL 9.078125 54.6875 \nL 18.109375 54.6875 \nL 18.109375 46.1875 \nQ 21.1875 51.21875 25.484375 53.609375 \nQ 29.78125 56 35.6875 56 \nQ 41.65625 56 45.828125 52.96875 \nQ 50 49.953125 52 44.1875 \nz\n\" id=\"DejaVuSans-109\"/>\n       <path d=\"M 56.203125 29.59375 \nL 56.203125 25.203125 \nL 14.890625 25.203125 \nQ 15.484375 15.921875 20.484375 11.0625 \nQ 25.484375 6.203125 34.421875 6.203125 \nQ 39.59375 6.203125 44.453125 7.46875 \nQ 49.3125 8.734375 54.109375 11.28125 \nL 54.109375 2.78125 \nQ 49.265625 0.734375 44.1875 -0.34375 \nQ 39.109375 -1.421875 33.890625 -1.421875 \nQ 20.796875 -1.421875 13.15625 6.1875 \nQ 5.515625 13.8125 5.515625 26.8125 \nQ 5.515625 40.234375 12.765625 48.109375 \nQ 20.015625 56 32.328125 56 \nQ 43.359375 56 49.78125 48.890625 \nQ 56.203125 41.796875 56.203125 29.59375 \nz\nM 47.21875 32.234375 \nQ 47.125 39.59375 43.09375 43.984375 \nQ 39.0625 48.390625 32.421875 48.390625 \nQ 24.90625 48.390625 20.390625 44.140625 \nQ 15.875 39.890625 15.1875 32.171875 \nz\n\" id=\"DejaVuSans-101\"/>\n       <path d=\"M 45.40625 46.390625 \nL 45.40625 75.984375 \nL 54.390625 75.984375 \nL 54.390625 0 \nL 45.40625 0 \nL 45.40625 8.203125 \nQ 42.578125 3.328125 38.25 0.953125 \nQ 33.9375 -1.421875 27.875 -1.421875 \nQ 17.96875 -1.421875 11.734375 6.484375 \nQ 5.515625 14.40625 5.515625 27.296875 \nQ 5.515625 40.1875 11.734375 48.09375 \nQ 17.96875 56 27.875 56 \nQ 33.9375 56 38.25 53.625 \nQ 42.578125 51.265625 45.40625 46.390625 \nz\nM 14.796875 27.296875 \nQ 14.796875 17.390625 18.875 11.75 \nQ 22.953125 6.109375 30.078125 6.109375 \nQ 37.203125 6.109375 41.296875 11.75 \nQ 45.40625 17.390625 45.40625 27.296875 \nQ 45.40625 37.203125 41.296875 42.84375 \nQ 37.203125 48.484375 30.078125 48.484375 \nQ 22.953125 48.484375 18.875 42.84375 \nQ 14.796875 37.203125 14.796875 27.296875 \nz\n\" id=\"DejaVuSans-100\"/>\n       <path d=\"M 11.71875 12.40625 \nL 22.015625 12.40625 \nL 22.015625 0 \nL 11.71875 0 \nz\nM 11.71875 51.703125 \nL 22.015625 51.703125 \nL 22.015625 39.3125 \nL 11.71875 39.3125 \nz\n\" id=\"DejaVuSans-58\"/>\n       <path id=\"DejaVuSans-32\"/>\n       <path d=\"M 31.78125 66.40625 \nQ 24.171875 66.40625 20.328125 58.90625 \nQ 16.5 51.421875 16.5 36.375 \nQ 16.5 21.390625 20.328125 13.890625 \nQ 24.171875 6.390625 31.78125 6.390625 \nQ 39.453125 6.390625 43.28125 13.890625 \nQ 47.125 21.390625 47.125 36.375 \nQ 47.125 51.421875 43.28125 58.90625 \nQ 39.453125 66.40625 31.78125 66.40625 \nz\nM 31.78125 74.21875 \nQ 44.046875 74.21875 50.515625 64.515625 \nQ 56.984375 54.828125 56.984375 36.375 \nQ 56.984375 17.96875 50.515625 8.265625 \nQ 44.046875 -1.421875 31.78125 -1.421875 \nQ 19.53125 -1.421875 13.0625 8.265625 \nQ 6.59375 17.96875 6.59375 36.375 \nQ 6.59375 54.828125 13.0625 64.515625 \nQ 19.53125 74.21875 31.78125 74.21875 \nz\n\" id=\"DejaVuSans-48\"/>\n      </defs>\n      <g transform=\"translate(125.633125 296.712656)rotate(-90)scale(0.1 -0.1)\">\n       <use xlink:href=\"#DejaVuSans-85\"/>\n       <use x=\"73.193359\" xlink:href=\"#DejaVuSans-110\"/>\n       <use x=\"136.572266\" xlink:href=\"#DejaVuSans-110\"/>\n       <use x=\"199.951172\" xlink:href=\"#DejaVuSans-97\"/>\n       <use x=\"261.230469\" xlink:href=\"#DejaVuSans-109\"/>\n       <use x=\"358.642578\" xlink:href=\"#DejaVuSans-101\"/>\n       <use x=\"420.166016\" xlink:href=\"#DejaVuSans-100\"/>\n       <use x=\"483.642578\" xlink:href=\"#DejaVuSans-58\"/>\n       <use x=\"517.333984\" xlink:href=\"#DejaVuSans-32\"/>\n       <use x=\"549.121094\" xlink:href=\"#DejaVuSans-48\"/>\n      </g>\n     </g>\n    </g>\n    <g id=\"xtick_2\">\n     <g id=\"line2d_2\">\n      <g>\n       <use style=\"stroke:#000000;stroke-width:0.8;\" x=\"152.63375\" xlink:href=\"#m423394f64a\" y=\"228.439219\"/>\n      </g>\n     </g>\n     <g id=\"text_2\">\n      <!-- pclass -->\n      <defs>\n       <path d=\"M 18.109375 8.203125 \nL 18.109375 -20.796875 \nL 9.078125 -20.796875 \nL 9.078125 54.6875 \nL 18.109375 54.6875 \nL 18.109375 46.390625 \nQ 20.953125 51.265625 25.265625 53.625 \nQ 29.59375 56 35.59375 56 \nQ 45.5625 56 51.78125 48.09375 \nQ 58.015625 40.1875 58.015625 27.296875 \nQ 58.015625 14.40625 51.78125 6.484375 \nQ 45.5625 -1.421875 35.59375 -1.421875 \nQ 29.59375 -1.421875 25.265625 0.953125 \nQ 20.953125 3.328125 18.109375 8.203125 \nz\nM 48.6875 27.296875 \nQ 48.6875 37.203125 44.609375 42.84375 \nQ 40.53125 48.484375 33.40625 48.484375 \nQ 26.265625 48.484375 22.1875 42.84375 \nQ 18.109375 37.203125 18.109375 27.296875 \nQ 18.109375 17.390625 22.1875 11.75 \nQ 26.265625 6.109375 33.40625 6.109375 \nQ 40.53125 6.109375 44.609375 11.75 \nQ 48.6875 17.390625 48.6875 27.296875 \nz\n\" id=\"DejaVuSans-112\"/>\n       <path d=\"M 48.78125 52.59375 \nL 48.78125 44.1875 \nQ 44.96875 46.296875 41.140625 47.34375 \nQ 37.3125 48.390625 33.40625 48.390625 \nQ 24.65625 48.390625 19.8125 42.84375 \nQ 14.984375 37.3125 14.984375 27.296875 \nQ 14.984375 17.28125 19.8125 11.734375 \nQ 24.65625 6.203125 33.40625 6.203125 \nQ 37.3125 6.203125 41.140625 7.25 \nQ 44.96875 8.296875 48.78125 10.40625 \nL 48.78125 2.09375 \nQ 45.015625 0.34375 40.984375 -0.53125 \nQ 36.96875 -1.421875 32.421875 -1.421875 \nQ 20.0625 -1.421875 12.78125 6.34375 \nQ 5.515625 14.109375 5.515625 27.296875 \nQ 5.515625 40.671875 12.859375 48.328125 \nQ 20.21875 56 33.015625 56 \nQ 37.15625 56 41.109375 55.140625 \nQ 45.0625 54.296875 48.78125 52.59375 \nz\n\" id=\"DejaVuSans-99\"/>\n       <path d=\"M 9.421875 75.984375 \nL 18.40625 75.984375 \nL 18.40625 0 \nL 9.421875 0 \nz\n\" id=\"DejaVuSans-108\"/>\n       <path d=\"M 44.28125 53.078125 \nL 44.28125 44.578125 \nQ 40.484375 46.53125 36.375 47.5 \nQ 32.28125 48.484375 27.875 48.484375 \nQ 21.1875 48.484375 17.84375 46.4375 \nQ 14.5 44.390625 14.5 40.28125 \nQ 14.5 37.15625 16.890625 35.375 \nQ 19.28125 33.59375 26.515625 31.984375 \nL 29.59375 31.296875 \nQ 39.15625 29.25 43.1875 25.515625 \nQ 47.21875 21.78125 47.21875 15.09375 \nQ 47.21875 7.46875 41.1875 3.015625 \nQ 35.15625 -1.421875 24.609375 -1.421875 \nQ 20.21875 -1.421875 15.453125 -0.5625 \nQ 10.6875 0.296875 5.421875 2 \nL 5.421875 11.28125 \nQ 10.40625 8.6875 15.234375 7.390625 \nQ 20.0625 6.109375 24.8125 6.109375 \nQ 31.15625 6.109375 34.5625 8.28125 \nQ 37.984375 10.453125 37.984375 14.40625 \nQ 37.984375 18.0625 35.515625 20.015625 \nQ 33.0625 21.96875 24.703125 23.78125 \nL 21.578125 24.515625 \nQ 13.234375 26.265625 9.515625 29.90625 \nQ 5.8125 33.546875 5.8125 39.890625 \nQ 5.8125 47.609375 11.28125 51.796875 \nQ 16.75 56 26.8125 56 \nQ 31.78125 56 36.171875 55.265625 \nQ 40.578125 54.546875 44.28125 53.078125 \nz\n\" id=\"DejaVuSans-115\"/>\n      </defs>\n      <g transform=\"translate(155.393125 266.611094)rotate(-90)scale(0.1 -0.1)\">\n       <use xlink:href=\"#DejaVuSans-112\"/>\n       <use x=\"63.476562\" xlink:href=\"#DejaVuSans-99\"/>\n       <use x=\"118.457031\" xlink:href=\"#DejaVuSans-108\"/>\n       <use x=\"146.240234\" xlink:href=\"#DejaVuSans-97\"/>\n       <use x=\"207.519531\" xlink:href=\"#DejaVuSans-115\"/>\n       <use x=\"259.619141\" xlink:href=\"#DejaVuSans-115\"/>\n      </g>\n     </g>\n    </g>\n    <g id=\"xtick_3\">\n     <g id=\"line2d_3\">\n      <g>\n       <use style=\"stroke:#000000;stroke-width:0.8;\" x=\"182.39375\" xlink:href=\"#m423394f64a\" y=\"228.439219\"/>\n      </g>\n     </g>\n     <g id=\"text_3\">\n      <!-- survived -->\n      <defs>\n       <path d=\"M 8.5 21.578125 \nL 8.5 54.6875 \nL 17.484375 54.6875 \nL 17.484375 21.921875 \nQ 17.484375 14.15625 20.5 10.265625 \nQ 23.53125 6.390625 29.59375 6.390625 \nQ 36.859375 6.390625 41.078125 11.03125 \nQ 45.3125 15.671875 45.3125 23.6875 \nL 45.3125 54.6875 \nL 54.296875 54.6875 \nL 54.296875 0 \nL 45.3125 0 \nL 45.3125 8.40625 \nQ 42.046875 3.421875 37.71875 1 \nQ 33.40625 -1.421875 27.6875 -1.421875 \nQ 18.265625 -1.421875 13.375 4.4375 \nQ 8.5 10.296875 8.5 21.578125 \nz\nM 31.109375 56 \nz\n\" id=\"DejaVuSans-117\"/>\n       <path d=\"M 41.109375 46.296875 \nQ 39.59375 47.171875 37.8125 47.578125 \nQ 36.03125 48 33.890625 48 \nQ 26.265625 48 22.1875 43.046875 \nQ 18.109375 38.09375 18.109375 28.8125 \nL 18.109375 0 \nL 9.078125 0 \nL 9.078125 54.6875 \nL 18.109375 54.6875 \nL 18.109375 46.1875 \nQ 20.953125 51.171875 25.484375 53.578125 \nQ 30.03125 56 36.53125 56 \nQ 37.453125 56 38.578125 55.875 \nQ 39.703125 55.765625 41.0625 55.515625 \nz\n\" id=\"DejaVuSans-114\"/>\n       <path d=\"M 2.984375 54.6875 \nL 12.5 54.6875 \nL 29.59375 8.796875 \nL 46.6875 54.6875 \nL 56.203125 54.6875 \nL 35.6875 0 \nL 23.484375 0 \nz\n\" id=\"DejaVuSans-118\"/>\n       <path d=\"M 9.421875 54.6875 \nL 18.40625 54.6875 \nL 18.40625 0 \nL 9.421875 0 \nz\nM 9.421875 75.984375 \nL 18.40625 75.984375 \nL 18.40625 64.59375 \nL 9.421875 64.59375 \nz\n\" id=\"DejaVuSans-105\"/>\n      </defs>\n      <g transform=\"translate(185.153125 278.214219)rotate(-90)scale(0.1 -0.1)\">\n       <use xlink:href=\"#DejaVuSans-115\"/>\n       <use x=\"52.099609\" xlink:href=\"#DejaVuSans-117\"/>\n       <use x=\"115.478516\" xlink:href=\"#DejaVuSans-114\"/>\n       <use x=\"156.591797\" xlink:href=\"#DejaVuSans-118\"/>\n       <use x=\"215.771484\" xlink:href=\"#DejaVuSans-105\"/>\n       <use x=\"243.554688\" xlink:href=\"#DejaVuSans-118\"/>\n       <use x=\"302.734375\" xlink:href=\"#DejaVuSans-101\"/>\n       <use x=\"364.257812\" xlink:href=\"#DejaVuSans-100\"/>\n      </g>\n     </g>\n    </g>\n    <g id=\"xtick_4\">\n     <g id=\"line2d_4\">\n      <g>\n       <use style=\"stroke:#000000;stroke-width:0.8;\" x=\"212.15375\" xlink:href=\"#m423394f64a\" y=\"228.439219\"/>\n      </g>\n     </g>\n     <g id=\"text_4\">\n      <!-- age -->\n      <defs>\n       <path d=\"M 45.40625 27.984375 \nQ 45.40625 37.75 41.375 43.109375 \nQ 37.359375 48.484375 30.078125 48.484375 \nQ 22.859375 48.484375 18.828125 43.109375 \nQ 14.796875 37.75 14.796875 27.984375 \nQ 14.796875 18.265625 18.828125 12.890625 \nQ 22.859375 7.515625 30.078125 7.515625 \nQ 37.359375 7.515625 41.375 12.890625 \nQ 45.40625 18.265625 45.40625 27.984375 \nz\nM 54.390625 6.78125 \nQ 54.390625 -7.171875 48.1875 -13.984375 \nQ 42 -20.796875 29.203125 -20.796875 \nQ 24.46875 -20.796875 20.265625 -20.09375 \nQ 16.0625 -19.390625 12.109375 -17.921875 \nL 12.109375 -9.1875 \nQ 16.0625 -11.328125 19.921875 -12.34375 \nQ 23.78125 -13.375 27.78125 -13.375 \nQ 36.625 -13.375 41.015625 -8.765625 \nQ 45.40625 -4.15625 45.40625 5.171875 \nL 45.40625 9.625 \nQ 42.625 4.78125 38.28125 2.390625 \nQ 33.9375 0 27.875 0 \nQ 17.828125 0 11.671875 7.65625 \nQ 5.515625 15.328125 5.515625 27.984375 \nQ 5.515625 40.671875 11.671875 48.328125 \nQ 17.828125 56 27.875 56 \nQ 33.9375 56 38.28125 53.609375 \nQ 42.625 51.21875 45.40625 46.390625 \nL 45.40625 54.6875 \nL 54.390625 54.6875 \nz\n\" id=\"DejaVuSans-103\"/>\n      </defs>\n      <g transform=\"translate(214.913125 254.068906)rotate(-90)scale(0.1 -0.1)\">\n       <use xlink:href=\"#DejaVuSans-97\"/>\n       <use x=\"61.279297\" xlink:href=\"#DejaVuSans-103\"/>\n       <use x=\"124.755859\" xlink:href=\"#DejaVuSans-101\"/>\n      </g>\n     </g>\n    </g>\n    <g id=\"xtick_5\">\n     <g id=\"line2d_5\">\n      <g>\n       <use style=\"stroke:#000000;stroke-width:0.8;\" x=\"241.91375\" xlink:href=\"#m423394f64a\" y=\"228.439219\"/>\n      </g>\n     </g>\n     <g id=\"text_5\">\n      <!-- sibsp -->\n      <defs>\n       <path d=\"M 48.6875 27.296875 \nQ 48.6875 37.203125 44.609375 42.84375 \nQ 40.53125 48.484375 33.40625 48.484375 \nQ 26.265625 48.484375 22.1875 42.84375 \nQ 18.109375 37.203125 18.109375 27.296875 \nQ 18.109375 17.390625 22.1875 11.75 \nQ 26.265625 6.109375 33.40625 6.109375 \nQ 40.53125 6.109375 44.609375 11.75 \nQ 48.6875 17.390625 48.6875 27.296875 \nz\nM 18.109375 46.390625 \nQ 20.953125 51.265625 25.265625 53.625 \nQ 29.59375 56 35.59375 56 \nQ 45.5625 56 51.78125 48.09375 \nQ 58.015625 40.1875 58.015625 27.296875 \nQ 58.015625 14.40625 51.78125 6.484375 \nQ 45.5625 -1.421875 35.59375 -1.421875 \nQ 29.59375 -1.421875 25.265625 0.953125 \nQ 20.953125 3.328125 18.109375 8.203125 \nL 18.109375 0 \nL 9.078125 0 \nL 9.078125 75.984375 \nL 18.109375 75.984375 \nz\n\" id=\"DejaVuSans-98\"/>\n      </defs>\n      <g transform=\"translate(244.673125 261.332969)rotate(-90)scale(0.1 -0.1)\">\n       <use xlink:href=\"#DejaVuSans-115\"/>\n       <use x=\"52.099609\" xlink:href=\"#DejaVuSans-105\"/>\n       <use x=\"79.882812\" xlink:href=\"#DejaVuSans-98\"/>\n       <use x=\"143.359375\" xlink:href=\"#DejaVuSans-115\"/>\n       <use x=\"195.458984\" xlink:href=\"#DejaVuSans-112\"/>\n      </g>\n     </g>\n    </g>\n    <g id=\"xtick_6\">\n     <g id=\"line2d_6\">\n      <g>\n       <use style=\"stroke:#000000;stroke-width:0.8;\" x=\"271.67375\" xlink:href=\"#m423394f64a\" y=\"228.439219\"/>\n      </g>\n     </g>\n     <g id=\"text_6\">\n      <!-- parch -->\n      <defs>\n       <path d=\"M 54.890625 33.015625 \nL 54.890625 0 \nL 45.90625 0 \nL 45.90625 32.71875 \nQ 45.90625 40.484375 42.875 44.328125 \nQ 39.84375 48.1875 33.796875 48.1875 \nQ 26.515625 48.1875 22.3125 43.546875 \nQ 18.109375 38.921875 18.109375 30.90625 \nL 18.109375 0 \nL 9.078125 0 \nL 9.078125 75.984375 \nL 18.109375 75.984375 \nL 18.109375 46.1875 \nQ 21.34375 51.125 25.703125 53.5625 \nQ 30.078125 56 35.796875 56 \nQ 45.21875 56 50.046875 50.171875 \nQ 54.890625 44.34375 54.890625 33.015625 \nz\n\" id=\"DejaVuSans-104\"/>\n      </defs>\n      <g transform=\"translate(274.433125 263.859531)rotate(-90)scale(0.1 -0.1)\">\n       <use xlink:href=\"#DejaVuSans-112\"/>\n       <use x=\"63.476562\" xlink:href=\"#DejaVuSans-97\"/>\n       <use x=\"124.755859\" xlink:href=\"#DejaVuSans-114\"/>\n       <use x=\"165.837891\" xlink:href=\"#DejaVuSans-99\"/>\n       <use x=\"220.818359\" xlink:href=\"#DejaVuSans-104\"/>\n      </g>\n     </g>\n    </g>\n    <g id=\"xtick_7\">\n     <g id=\"line2d_7\">\n      <g>\n       <use style=\"stroke:#000000;stroke-width:0.8;\" x=\"301.43375\" xlink:href=\"#m423394f64a\" y=\"228.439219\"/>\n      </g>\n     </g>\n     <g id=\"text_7\">\n      <!-- fare -->\n      <defs>\n       <path d=\"M 37.109375 75.984375 \nL 37.109375 68.5 \nL 28.515625 68.5 \nQ 23.6875 68.5 21.796875 66.546875 \nQ 19.921875 64.59375 19.921875 59.515625 \nL 19.921875 54.6875 \nL 34.71875 54.6875 \nL 34.71875 47.703125 \nL 19.921875 47.703125 \nL 19.921875 0 \nL 10.890625 0 \nL 10.890625 47.703125 \nL 2.296875 47.703125 \nL 2.296875 54.6875 \nL 10.890625 54.6875 \nL 10.890625 58.5 \nQ 10.890625 67.625 15.140625 71.796875 \nQ 19.390625 75.984375 28.609375 75.984375 \nz\n\" id=\"DejaVuSans-102\"/>\n      </defs>\n      <g transform=\"translate(304.193125 255.348594)rotate(-90)scale(0.1 -0.1)\">\n       <use xlink:href=\"#DejaVuSans-102\"/>\n       <use x=\"35.205078\" xlink:href=\"#DejaVuSans-97\"/>\n       <use x=\"96.484375\" xlink:href=\"#DejaVuSans-114\"/>\n       <use x=\"137.566406\" xlink:href=\"#DejaVuSans-101\"/>\n      </g>\n     </g>\n    </g>\n    <g id=\"xtick_8\">\n     <g id=\"line2d_8\">\n      <g>\n       <use style=\"stroke:#000000;stroke-width:0.8;\" x=\"331.19375\" xlink:href=\"#m423394f64a\" y=\"228.439219\"/>\n      </g>\n     </g>\n     <g id=\"text_8\">\n      <!-- body -->\n      <defs>\n       <path d=\"M 30.609375 48.390625 \nQ 23.390625 48.390625 19.1875 42.75 \nQ 14.984375 37.109375 14.984375 27.296875 \nQ 14.984375 17.484375 19.15625 11.84375 \nQ 23.34375 6.203125 30.609375 6.203125 \nQ 37.796875 6.203125 41.984375 11.859375 \nQ 46.1875 17.53125 46.1875 27.296875 \nQ 46.1875 37.015625 41.984375 42.703125 \nQ 37.796875 48.390625 30.609375 48.390625 \nz\nM 30.609375 56 \nQ 42.328125 56 49.015625 48.375 \nQ 55.71875 40.765625 55.71875 27.296875 \nQ 55.71875 13.875 49.015625 6.21875 \nQ 42.328125 -1.421875 30.609375 -1.421875 \nQ 18.84375 -1.421875 12.171875 6.21875 \nQ 5.515625 13.875 5.515625 27.296875 \nQ 5.515625 40.765625 12.171875 48.375 \nQ 18.84375 56 30.609375 56 \nz\n\" id=\"DejaVuSans-111\"/>\n       <path d=\"M 32.171875 -5.078125 \nQ 28.375 -14.84375 24.75 -17.8125 \nQ 21.140625 -20.796875 15.09375 -20.796875 \nL 7.90625 -20.796875 \nL 7.90625 -13.28125 \nL 13.1875 -13.28125 \nQ 16.890625 -13.28125 18.9375 -11.515625 \nQ 21 -9.765625 23.484375 -3.21875 \nL 25.09375 0.875 \nL 2.984375 54.6875 \nL 12.5 54.6875 \nL 29.59375 11.921875 \nL 46.6875 54.6875 \nL 56.203125 54.6875 \nz\n\" id=\"DejaVuSans-121\"/>\n      </defs>\n      <g transform=\"translate(333.953125 260.173594)rotate(-90)scale(0.1 -0.1)\">\n       <use xlink:href=\"#DejaVuSans-98\"/>\n       <use x=\"63.476562\" xlink:href=\"#DejaVuSans-111\"/>\n       <use x=\"124.658203\" xlink:href=\"#DejaVuSans-100\"/>\n       <use x=\"188.134766\" xlink:href=\"#DejaVuSans-121\"/>\n      </g>\n     </g>\n    </g>\n    <g id=\"xtick_9\">\n     <g id=\"line2d_9\">\n      <g>\n       <use style=\"stroke:#000000;stroke-width:0.8;\" x=\"360.95375\" xlink:href=\"#m423394f64a\" y=\"228.439219\"/>\n      </g>\n     </g>\n     <g id=\"text_9\">\n      <!-- has_cabin_number -->\n      <defs>\n       <path d=\"M 50.984375 -16.609375 \nL 50.984375 -23.578125 \nL -0.984375 -23.578125 \nL -0.984375 -16.609375 \nz\n\" id=\"DejaVuSans-95\"/>\n      </defs>\n      <g transform=\"translate(363.574063 329.232969)rotate(-90)scale(0.1 -0.1)\">\n       <use xlink:href=\"#DejaVuSans-104\"/>\n       <use x=\"63.378906\" xlink:href=\"#DejaVuSans-97\"/>\n       <use x=\"124.658203\" xlink:href=\"#DejaVuSans-115\"/>\n       <use x=\"176.757812\" xlink:href=\"#DejaVuSans-95\"/>\n       <use x=\"226.757812\" xlink:href=\"#DejaVuSans-99\"/>\n       <use x=\"281.738281\" xlink:href=\"#DejaVuSans-97\"/>\n       <use x=\"343.017578\" xlink:href=\"#DejaVuSans-98\"/>\n       <use x=\"406.494141\" xlink:href=\"#DejaVuSans-105\"/>\n       <use x=\"434.277344\" xlink:href=\"#DejaVuSans-110\"/>\n       <use x=\"497.65625\" xlink:href=\"#DejaVuSans-95\"/>\n       <use x=\"547.65625\" xlink:href=\"#DejaVuSans-110\"/>\n       <use x=\"611.035156\" xlink:href=\"#DejaVuSans-117\"/>\n       <use x=\"674.414062\" xlink:href=\"#DejaVuSans-109\"/>\n       <use x=\"771.826172\" xlink:href=\"#DejaVuSans-98\"/>\n       <use x=\"835.302734\" xlink:href=\"#DejaVuSans-101\"/>\n       <use x=\"896.826172\" xlink:href=\"#DejaVuSans-114\"/>\n      </g>\n     </g>\n    </g>\n   </g>\n   <g id=\"matplotlib.axis_2\">\n    <g id=\"ytick_1\">\n     <g id=\"line2d_10\">\n      <defs>\n       <path d=\"M 0 0 \nL -3.5 0 \n\" id=\"m74b803e155\" style=\"stroke:#000000;stroke-width:0.8;\"/>\n      </defs>\n      <g>\n       <use style=\"stroke:#000000;stroke-width:0.8;\" x=\"107.99375\" xlink:href=\"#m74b803e155\" y=\"10.999219\"/>\n      </g>\n     </g>\n     <g id=\"text_10\">\n      <!-- Unnamed: 0 -->\n      <g transform=\"translate(39.720312 14.798437)scale(0.1 -0.1)\">\n       <use xlink:href=\"#DejaVuSans-85\"/>\n       <use x=\"73.193359\" xlink:href=\"#DejaVuSans-110\"/>\n       <use x=\"136.572266\" xlink:href=\"#DejaVuSans-110\"/>\n       <use x=\"199.951172\" xlink:href=\"#DejaVuSans-97\"/>\n       <use x=\"261.230469\" xlink:href=\"#DejaVuSans-109\"/>\n       <use x=\"358.642578\" xlink:href=\"#DejaVuSans-101\"/>\n       <use x=\"420.166016\" xlink:href=\"#DejaVuSans-100\"/>\n       <use x=\"483.642578\" xlink:href=\"#DejaVuSans-58\"/>\n       <use x=\"517.333984\" xlink:href=\"#DejaVuSans-32\"/>\n       <use x=\"549.121094\" xlink:href=\"#DejaVuSans-48\"/>\n      </g>\n     </g>\n    </g>\n    <g id=\"ytick_2\">\n     <g id=\"line2d_11\">\n      <g>\n       <use style=\"stroke:#000000;stroke-width:0.8;\" x=\"107.99375\" xlink:href=\"#m74b803e155\" y=\"38.179219\"/>\n      </g>\n     </g>\n     <g id=\"text_11\">\n      <!-- pclass -->\n      <g transform=\"translate(69.821875 41.978437)scale(0.1 -0.1)\">\n       <use xlink:href=\"#DejaVuSans-112\"/>\n       <use x=\"63.476562\" xlink:href=\"#DejaVuSans-99\"/>\n       <use x=\"118.457031\" xlink:href=\"#DejaVuSans-108\"/>\n       <use x=\"146.240234\" xlink:href=\"#DejaVuSans-97\"/>\n       <use x=\"207.519531\" xlink:href=\"#DejaVuSans-115\"/>\n       <use x=\"259.619141\" xlink:href=\"#DejaVuSans-115\"/>\n      </g>\n     </g>\n    </g>\n    <g id=\"ytick_3\">\n     <g id=\"line2d_12\">\n      <g>\n       <use style=\"stroke:#000000;stroke-width:0.8;\" x=\"107.99375\" xlink:href=\"#m74b803e155\" y=\"65.359219\"/>\n      </g>\n     </g>\n     <g id=\"text_12\">\n      <!-- survived -->\n      <g transform=\"translate(58.21875 69.158437)scale(0.1 -0.1)\">\n       <use xlink:href=\"#DejaVuSans-115\"/>\n       <use x=\"52.099609\" xlink:href=\"#DejaVuSans-117\"/>\n       <use x=\"115.478516\" xlink:href=\"#DejaVuSans-114\"/>\n       <use x=\"156.591797\" xlink:href=\"#DejaVuSans-118\"/>\n       <use x=\"215.771484\" xlink:href=\"#DejaVuSans-105\"/>\n       <use x=\"243.554688\" xlink:href=\"#DejaVuSans-118\"/>\n       <use x=\"302.734375\" xlink:href=\"#DejaVuSans-101\"/>\n       <use x=\"364.257812\" xlink:href=\"#DejaVuSans-100\"/>\n      </g>\n     </g>\n    </g>\n    <g id=\"ytick_4\">\n     <g id=\"line2d_13\">\n      <g>\n       <use style=\"stroke:#000000;stroke-width:0.8;\" x=\"107.99375\" xlink:href=\"#m74b803e155\" y=\"92.539219\"/>\n      </g>\n     </g>\n     <g id=\"text_13\">\n      <!-- age -->\n      <g transform=\"translate(82.364062 96.338437)scale(0.1 -0.1)\">\n       <use xlink:href=\"#DejaVuSans-97\"/>\n       <use x=\"61.279297\" xlink:href=\"#DejaVuSans-103\"/>\n       <use x=\"124.755859\" xlink:href=\"#DejaVuSans-101\"/>\n      </g>\n     </g>\n    </g>\n    <g id=\"ytick_5\">\n     <g id=\"line2d_14\">\n      <g>\n       <use style=\"stroke:#000000;stroke-width:0.8;\" x=\"107.99375\" xlink:href=\"#m74b803e155\" y=\"119.719219\"/>\n      </g>\n     </g>\n     <g id=\"text_14\">\n      <!-- sibsp -->\n      <g transform=\"translate(75.1 123.518437)scale(0.1 -0.1)\">\n       <use xlink:href=\"#DejaVuSans-115\"/>\n       <use x=\"52.099609\" xlink:href=\"#DejaVuSans-105\"/>\n       <use x=\"79.882812\" xlink:href=\"#DejaVuSans-98\"/>\n       <use x=\"143.359375\" xlink:href=\"#DejaVuSans-115\"/>\n       <use x=\"195.458984\" xlink:href=\"#DejaVuSans-112\"/>\n      </g>\n     </g>\n    </g>\n    <g id=\"ytick_6\">\n     <g id=\"line2d_15\">\n      <g>\n       <use style=\"stroke:#000000;stroke-width:0.8;\" x=\"107.99375\" xlink:href=\"#m74b803e155\" y=\"146.899219\"/>\n      </g>\n     </g>\n     <g id=\"text_15\">\n      <!-- parch -->\n      <g transform=\"translate(72.573437 150.698437)scale(0.1 -0.1)\">\n       <use xlink:href=\"#DejaVuSans-112\"/>\n       <use x=\"63.476562\" xlink:href=\"#DejaVuSans-97\"/>\n       <use x=\"124.755859\" xlink:href=\"#DejaVuSans-114\"/>\n       <use x=\"165.837891\" xlink:href=\"#DejaVuSans-99\"/>\n       <use x=\"220.818359\" xlink:href=\"#DejaVuSans-104\"/>\n      </g>\n     </g>\n    </g>\n    <g id=\"ytick_7\">\n     <g id=\"line2d_16\">\n      <g>\n       <use style=\"stroke:#000000;stroke-width:0.8;\" x=\"107.99375\" xlink:href=\"#m74b803e155\" y=\"174.079219\"/>\n      </g>\n     </g>\n     <g id=\"text_16\">\n      <!-- fare -->\n      <g transform=\"translate(81.084375 177.878437)scale(0.1 -0.1)\">\n       <use xlink:href=\"#DejaVuSans-102\"/>\n       <use x=\"35.205078\" xlink:href=\"#DejaVuSans-97\"/>\n       <use x=\"96.484375\" xlink:href=\"#DejaVuSans-114\"/>\n       <use x=\"137.566406\" xlink:href=\"#DejaVuSans-101\"/>\n      </g>\n     </g>\n    </g>\n    <g id=\"ytick_8\">\n     <g id=\"line2d_17\">\n      <g>\n       <use style=\"stroke:#000000;stroke-width:0.8;\" x=\"107.99375\" xlink:href=\"#m74b803e155\" y=\"201.259219\"/>\n      </g>\n     </g>\n     <g id=\"text_17\">\n      <!-- body -->\n      <g transform=\"translate(76.259375 205.058437)scale(0.1 -0.1)\">\n       <use xlink:href=\"#DejaVuSans-98\"/>\n       <use x=\"63.476562\" xlink:href=\"#DejaVuSans-111\"/>\n       <use x=\"124.658203\" xlink:href=\"#DejaVuSans-100\"/>\n       <use x=\"188.134766\" xlink:href=\"#DejaVuSans-121\"/>\n      </g>\n     </g>\n    </g>\n    <g id=\"ytick_9\">\n     <g id=\"line2d_18\">\n      <g>\n       <use style=\"stroke:#000000;stroke-width:0.8;\" x=\"107.99375\" xlink:href=\"#m74b803e155\" y=\"228.439219\"/>\n      </g>\n     </g>\n     <g id=\"text_18\">\n      <!-- has_cabin_number -->\n      <g transform=\"translate(7.2 232.238437)scale(0.1 -0.1)\">\n       <use xlink:href=\"#DejaVuSans-104\"/>\n       <use x=\"63.378906\" xlink:href=\"#DejaVuSans-97\"/>\n       <use x=\"124.658203\" xlink:href=\"#DejaVuSans-115\"/>\n       <use x=\"176.757812\" xlink:href=\"#DejaVuSans-95\"/>\n       <use x=\"226.757812\" xlink:href=\"#DejaVuSans-99\"/>\n       <use x=\"281.738281\" xlink:href=\"#DejaVuSans-97\"/>\n       <use x=\"343.017578\" xlink:href=\"#DejaVuSans-98\"/>\n       <use x=\"406.494141\" xlink:href=\"#DejaVuSans-105\"/>\n       <use x=\"434.277344\" xlink:href=\"#DejaVuSans-110\"/>\n       <use x=\"497.65625\" xlink:href=\"#DejaVuSans-95\"/>\n       <use x=\"547.65625\" xlink:href=\"#DejaVuSans-110\"/>\n       <use x=\"611.035156\" xlink:href=\"#DejaVuSans-117\"/>\n       <use x=\"674.414062\" xlink:href=\"#DejaVuSans-109\"/>\n       <use x=\"771.826172\" xlink:href=\"#DejaVuSans-98\"/>\n       <use x=\"835.302734\" xlink:href=\"#DejaVuSans-101\"/>\n       <use x=\"896.826172\" xlink:href=\"#DejaVuSans-114\"/>\n      </g>\n     </g>\n    </g>\n   </g>\n  </g>\n  <g id=\"axes_2\">\n   <g id=\"patch_3\">\n    <path clip-path=\"url(#pd6656f5aaf)\" d=\"M 392.57375 228.439219 \nL 392.57375 227.589844 \nL 392.57375 11.848594 \nL 392.57375 10.999219 \nL 403.44575 10.999219 \nL 403.44575 11.848594 \nL 403.44575 227.589844 \nL 403.44575 228.439219 \nz\n\" style=\"fill:#ffffff;stroke:#ffffff;stroke-linejoin:miter;stroke-width:0.01;\"/>\n   </g>\n   <image height=\"217\" id=\"image5557d0ded5\" transform=\"scale(1 -1)translate(0 -217)\" width=\"10\" x=\"393\" xlink:href=\"data:image/png;base64,\niVBORw0KGgoAAAANSUhEUgAAAAoAAADZCAYAAAAZmKE8AAAABHNCSVQICAgIfAhkiAAAAVlJREFUaIHVmNttBDEMAy1L10T6rzOXFsbAEEL2WyBF6mF7az4/3wO+qSoS9xJ4bMSuywKvLubqYnCOWLVfGd9HXkJuOLXHV00RA427JwZXZrNx9XGdg9uMfZuV4eNKVbOwzMbl9rDvZUlBRL+EXMxe4ybsgYjtzwyl9kvIzxmKmMjRpg6IQVfhkGoY+NC4lJqq9sXMHjUvod4Um6oD1AwyofoLqf1xHUpd1J5A4+rUfX4hIjQykGPBeZ1LA5sG+tTwIvVA3XADJMRwahT3gNgXNi682D/Ys6j6tp5jwB6IeOH5MUen9gPhk+tMzR41XOIvYjAifXPpOQao4dnF/3zgHB8CYY7cHqr60H8pvurCqpu9NTcN930s+MKOlBB3j44YUE0XgF/rYedHwkfdHh7Ix3VPjI/YtNb/QbUupkpvik3Va0sKI1Z/ZMRE49o+1uYU7p1cWLUt5g9EzSsjLZfDUgAAAABJRU5ErkJggg==\" y=\"-11\"/>\n   <g id=\"matplotlib.axis_3\"/>\n   <g id=\"matplotlib.axis_4\">\n    <g id=\"ytick_10\">\n     <g id=\"line2d_19\">\n      <defs>\n       <path d=\"M 0 0 \nL 3.5 0 \n\" id=\"mc14d313f8b\" style=\"stroke:#000000;stroke-width:0.8;\"/>\n      </defs>\n      <g>\n       <use style=\"stroke:#000000;stroke-width:0.8;\" x=\"403.44575\" xlink:href=\"#mc14d313f8b\" y=\"213.99393\"/>\n      </g>\n     </g>\n     <g id=\"text_19\">\n      <!-- −0.6 -->\n      <defs>\n       <path d=\"M 10.59375 35.5 \nL 73.1875 35.5 \nL 73.1875 27.203125 \nL 10.59375 27.203125 \nz\n\" id=\"DejaVuSans-8722\"/>\n       <path d=\"M 10.6875 12.40625 \nL 21 12.40625 \nL 21 0 \nL 10.6875 0 \nz\n\" id=\"DejaVuSans-46\"/>\n       <path d=\"M 33.015625 40.375 \nQ 26.375 40.375 22.484375 35.828125 \nQ 18.609375 31.296875 18.609375 23.390625 \nQ 18.609375 15.53125 22.484375 10.953125 \nQ 26.375 6.390625 33.015625 6.390625 \nQ 39.65625 6.390625 43.53125 10.953125 \nQ 47.40625 15.53125 47.40625 23.390625 \nQ 47.40625 31.296875 43.53125 35.828125 \nQ 39.65625 40.375 33.015625 40.375 \nz\nM 52.59375 71.296875 \nL 52.59375 62.3125 \nQ 48.875 64.0625 45.09375 64.984375 \nQ 41.3125 65.921875 37.59375 65.921875 \nQ 27.828125 65.921875 22.671875 59.328125 \nQ 17.53125 52.734375 16.796875 39.40625 \nQ 19.671875 43.65625 24.015625 45.921875 \nQ 28.375 48.1875 33.59375 48.1875 \nQ 44.578125 48.1875 50.953125 41.515625 \nQ 57.328125 34.859375 57.328125 23.390625 \nQ 57.328125 12.15625 50.6875 5.359375 \nQ 44.046875 -1.421875 33.015625 -1.421875 \nQ 20.359375 -1.421875 13.671875 8.265625 \nQ 6.984375 17.96875 6.984375 36.375 \nQ 6.984375 53.65625 15.1875 63.9375 \nQ 23.390625 74.21875 37.203125 74.21875 \nQ 40.921875 74.21875 44.703125 73.484375 \nQ 48.484375 72.75 52.59375 71.296875 \nz\n\" id=\"DejaVuSans-54\"/>\n      </defs>\n      <g transform=\"translate(410.44575 217.793149)scale(0.1 -0.1)\">\n       <use xlink:href=\"#DejaVuSans-8722\"/>\n       <use x=\"83.789062\" xlink:href=\"#DejaVuSans-48\"/>\n       <use x=\"147.412109\" xlink:href=\"#DejaVuSans-46\"/>\n       <use x=\"179.199219\" xlink:href=\"#DejaVuSans-54\"/>\n      </g>\n     </g>\n    </g>\n    <g id=\"ytick_11\">\n     <g id=\"line2d_20\">\n      <g>\n       <use style=\"stroke:#000000;stroke-width:0.8;\" x=\"403.44575\" xlink:href=\"#mc14d313f8b\" y=\"175.932422\"/>\n      </g>\n     </g>\n     <g id=\"text_20\">\n      <!-- −0.3 -->\n      <defs>\n       <path d=\"M 40.578125 39.3125 \nQ 47.65625 37.796875 51.625 33 \nQ 55.609375 28.21875 55.609375 21.1875 \nQ 55.609375 10.40625 48.1875 4.484375 \nQ 40.765625 -1.421875 27.09375 -1.421875 \nQ 22.515625 -1.421875 17.65625 -0.515625 \nQ 12.796875 0.390625 7.625 2.203125 \nL 7.625 11.71875 \nQ 11.71875 9.328125 16.59375 8.109375 \nQ 21.484375 6.890625 26.8125 6.890625 \nQ 36.078125 6.890625 40.9375 10.546875 \nQ 45.796875 14.203125 45.796875 21.1875 \nQ 45.796875 27.640625 41.28125 31.265625 \nQ 36.765625 34.90625 28.71875 34.90625 \nL 20.21875 34.90625 \nL 20.21875 43.015625 \nL 29.109375 43.015625 \nQ 36.375 43.015625 40.234375 45.921875 \nQ 44.09375 48.828125 44.09375 54.296875 \nQ 44.09375 59.90625 40.109375 62.90625 \nQ 36.140625 65.921875 28.71875 65.921875 \nQ 24.65625 65.921875 20.015625 65.03125 \nQ 15.375 64.15625 9.8125 62.3125 \nL 9.8125 71.09375 \nQ 15.4375 72.65625 20.34375 73.4375 \nQ 25.25 74.21875 29.59375 74.21875 \nQ 40.828125 74.21875 47.359375 69.109375 \nQ 53.90625 64.015625 53.90625 55.328125 \nQ 53.90625 49.265625 50.4375 45.09375 \nQ 46.96875 40.921875 40.578125 39.3125 \nz\n\" id=\"DejaVuSans-51\"/>\n      </defs>\n      <g transform=\"translate(410.44575 179.73164)scale(0.1 -0.1)\">\n       <use xlink:href=\"#DejaVuSans-8722\"/>\n       <use x=\"83.789062\" xlink:href=\"#DejaVuSans-48\"/>\n       <use x=\"147.412109\" xlink:href=\"#DejaVuSans-46\"/>\n       <use x=\"179.199219\" xlink:href=\"#DejaVuSans-51\"/>\n      </g>\n     </g>\n    </g>\n    <g id=\"ytick_12\">\n     <g id=\"line2d_21\">\n      <g>\n       <use style=\"stroke:#000000;stroke-width:0.8;\" x=\"403.44575\" xlink:href=\"#mc14d313f8b\" y=\"137.870913\"/>\n      </g>\n     </g>\n     <g id=\"text_21\">\n      <!-- 0.0 -->\n      <g transform=\"translate(410.44575 141.670132)scale(0.1 -0.1)\">\n       <use xlink:href=\"#DejaVuSans-48\"/>\n       <use x=\"63.623047\" xlink:href=\"#DejaVuSans-46\"/>\n       <use x=\"95.410156\" xlink:href=\"#DejaVuSans-48\"/>\n      </g>\n     </g>\n    </g>\n    <g id=\"ytick_13\">\n     <g id=\"line2d_22\">\n      <g>\n       <use style=\"stroke:#000000;stroke-width:0.8;\" x=\"403.44575\" xlink:href=\"#mc14d313f8b\" y=\"99.809405\"/>\n      </g>\n     </g>\n     <g id=\"text_22\">\n      <!-- 0.3 -->\n      <g transform=\"translate(410.44575 103.608624)scale(0.1 -0.1)\">\n       <use xlink:href=\"#DejaVuSans-48\"/>\n       <use x=\"63.623047\" xlink:href=\"#DejaVuSans-46\"/>\n       <use x=\"95.410156\" xlink:href=\"#DejaVuSans-51\"/>\n      </g>\n     </g>\n    </g>\n    <g id=\"ytick_14\">\n     <g id=\"line2d_23\">\n      <g>\n       <use style=\"stroke:#000000;stroke-width:0.8;\" x=\"403.44575\" xlink:href=\"#mc14d313f8b\" y=\"61.747897\"/>\n      </g>\n     </g>\n     <g id=\"text_23\">\n      <!-- 0.6 -->\n      <g transform=\"translate(410.44575 65.547115)scale(0.1 -0.1)\">\n       <use xlink:href=\"#DejaVuSans-48\"/>\n       <use x=\"63.623047\" xlink:href=\"#DejaVuSans-46\"/>\n       <use x=\"95.410156\" xlink:href=\"#DejaVuSans-54\"/>\n      </g>\n     </g>\n    </g>\n    <g id=\"ytick_15\">\n     <g id=\"line2d_24\">\n      <g>\n       <use style=\"stroke:#000000;stroke-width:0.8;\" x=\"403.44575\" xlink:href=\"#mc14d313f8b\" y=\"23.686388\"/>\n      </g>\n     </g>\n     <g id=\"text_24\">\n      <!-- 0.9 -->\n      <defs>\n       <path d=\"M 10.984375 1.515625 \nL 10.984375 10.5 \nQ 14.703125 8.734375 18.5 7.8125 \nQ 22.3125 6.890625 25.984375 6.890625 \nQ 35.75 6.890625 40.890625 13.453125 \nQ 46.046875 20.015625 46.78125 33.40625 \nQ 43.953125 29.203125 39.59375 26.953125 \nQ 35.25 24.703125 29.984375 24.703125 \nQ 19.046875 24.703125 12.671875 31.3125 \nQ 6.296875 37.9375 6.296875 49.421875 \nQ 6.296875 60.640625 12.9375 67.421875 \nQ 19.578125 74.21875 30.609375 74.21875 \nQ 43.265625 74.21875 49.921875 64.515625 \nQ 56.59375 54.828125 56.59375 36.375 \nQ 56.59375 19.140625 48.40625 8.859375 \nQ 40.234375 -1.421875 26.421875 -1.421875 \nQ 22.703125 -1.421875 18.890625 -0.6875 \nQ 15.09375 0.046875 10.984375 1.515625 \nz\nM 30.609375 32.421875 \nQ 37.25 32.421875 41.125 36.953125 \nQ 45.015625 41.5 45.015625 49.421875 \nQ 45.015625 57.28125 41.125 61.84375 \nQ 37.25 66.40625 30.609375 66.40625 \nQ 23.96875 66.40625 20.09375 61.84375 \nQ 16.21875 57.28125 16.21875 49.421875 \nQ 16.21875 41.5 20.09375 36.953125 \nQ 23.96875 32.421875 30.609375 32.421875 \nz\n\" id=\"DejaVuSans-57\"/>\n      </defs>\n      <g transform=\"translate(410.44575 27.485607)scale(0.1 -0.1)\">\n       <use xlink:href=\"#DejaVuSans-48\"/>\n       <use x=\"63.623047\" xlink:href=\"#DejaVuSans-46\"/>\n       <use x=\"95.410156\" xlink:href=\"#DejaVuSans-57\"/>\n      </g>\n     </g>\n    </g>\n   </g>\n   <g id=\"patch_4\">\n    <path d=\"M 392.57375 228.439219 \nL 392.57375 227.589844 \nL 392.57375 11.848594 \nL 392.57375 10.999219 \nL 403.44575 10.999219 \nL 403.44575 11.848594 \nL 403.44575 227.589844 \nL 403.44575 228.439219 \nz\n\" style=\"fill:none;\"/>\n   </g>\n  </g>\n </g>\n <defs>\n  <clipPath id=\"p3c86cd8ff5\">\n   <rect height=\"217.44\" width=\"267.84\" x=\"107.99375\" y=\"10.999219\"/>\n  </clipPath>\n  <clipPath id=\"pd6656f5aaf\">\n   <rect height=\"217.44\" width=\"10.872\" x=\"392.57375\" y=\"10.999219\"/>\n  </clipPath>\n </defs>\n</svg>\n",
            "text/plain": "<Figure size 432x288 with 2 Axes>"
          },
          "metadata": {
            "needs_background": "light"
          },
          "output_type": "display_data"
        }
      ],
      "source": [
        "import seaborn as sns\n",
        "sns.heatmap(df.corr());"
      ]
    },
    {
      "cell_type": "code",
      "execution_count": null,
      "metadata": {},
      "outputs": [],
      "source": []
    },
    {
      "cell_type": "code",
      "execution_count": null,
      "metadata": {},
      "outputs": [],
      "source": []
    },
    {
      "cell_type": "code",
      "execution_count": null,
      "metadata": {},
      "outputs": [],
      "source": []
    },
    {
      "cell_type": "code",
      "execution_count": null,
      "metadata": {},
      "outputs": [],
      "source": []
    },
    {
      "cell_type": "markdown",
      "metadata": {
        "colab_type": "text",
        "id": "7K0Xfh8MvYkl"
      },
      "source": [
        "# Orthogonality"
      ]
    },
    {
      "cell_type": "markdown",
      "metadata": {
        "colab_type": "text",
        "id": "Pe3eOZ2fvdZ-"
      },
      "source": [
        "## 2.1 Plot two vectors that are orthogonal to each other. What is a synonym for orthogonal?"
      ]
    },
    {
      "cell_type": "code",
      "execution_count": 0,
      "metadata": {
        "colab": {},
        "colab_type": "code",
        "id": "YLSBk7hJvvCx"
      },
      "outputs": [],
      "source": [
        ""
      ]
    },
    {
      "cell_type": "markdown",
      "metadata": {
        "colab_type": "text",
        "id": "7AS4V1Nhvvxz"
      },
      "source": [
        "## 2.2 Are the following vectors orthogonal? Why or why not?\n",
        "\n",
        "\\begin{align}\n",
        "a = \\begin{bmatrix} -5 \\\\ 3 \\\\ 7 \\end{bmatrix}\n",
        "\\qquad\n",
        "b = \\begin{bmatrix} 6 \\\\ -8 \\\\ 2 \\end{bmatrix}\n",
        "\\end{align}"
      ]
    },
    {
      "cell_type": "code",
      "execution_count": 0,
      "metadata": {
        "colab": {},
        "colab_type": "code",
        "id": "F_-y54YSz47k"
      },
      "outputs": [],
      "source": [
        ""
      ]
    },
    {
      "cell_type": "markdown",
      "metadata": {
        "colab_type": "text",
        "id": "MiNjyqiEz5SG"
      },
      "source": [
        "## 2.3 Compute the following values: What do these quantities have in common?\n",
        "\n",
        "## What is $||c||^2$? \n",
        "\n",
        "## What is $c \\cdot c$? \n",
        "\n",
        "## What is $c^{T}c$?\n",
        "\n",
        "\\begin{align}\n",
        "c = \\begin{bmatrix} 2 & -15 & 6 & 20 \\end{bmatrix}\n",
        "\\end{align}"
      ]
    },
    {
      "cell_type": "code",
      "execution_count": 0,
      "metadata": {
        "colab": {},
        "colab_type": "code",
        "id": "IlV_uaYK1EQB"
      },
      "outputs": [],
      "source": [
        ""
      ]
    },
    {
      "cell_type": "markdown",
      "metadata": {
        "colab_type": "text",
        "id": "MK_TpWqk1Evk"
      },
      "source": [
        "# Unit Vectors"
      ]
    },
    {
      "cell_type": "markdown",
      "metadata": {
        "colab_type": "text",
        "id": "Kpit6WWO1b8l"
      },
      "source": [
        "## 3.1 Using Latex, write the following vectors as a linear combination of scalars and unit vectors:\n",
        "\n",
        "\\begin{align}\n",
        "d = \\begin{bmatrix} 7 \\\\ 12 \\end{bmatrix}\n",
        "\\qquad\n",
        "e = \\begin{bmatrix} 2 \\\\ 11 \\\\ -8  \\end{bmatrix}\n",
        "\\end{align}"
      ]
    },
    {
      "cell_type": "markdown",
      "metadata": {
        "colab_type": "text",
        "id": "oBCj1sDW2ouC"
      },
      "source": [
        "Your text here"
      ]
    },
    {
      "cell_type": "markdown",
      "metadata": {
        "colab_type": "text",
        "id": "dAdUQuep1_yJ"
      },
      "source": [
        "## 3.2 Turn vector $f$ into a unit vector:\n",
        "\n",
        "\\begin{align}\n",
        "f = \\begin{bmatrix} 4 & 12 & 11 & 9 & 2 \\end{bmatrix}\n",
        "\\end{align}"
      ]
    },
    {
      "cell_type": "code",
      "execution_count": 0,
      "metadata": {
        "colab": {},
        "colab_type": "code",
        "id": "I3W8ZiHR1_Fa"
      },
      "outputs": [],
      "source": [
        ""
      ]
    },
    {
      "cell_type": "markdown",
      "metadata": {
        "colab_type": "text",
        "id": "o39UyP-I5lpP"
      },
      "source": [
        "# Linear Independence / Dependence "
      ]
    },
    {
      "cell_type": "markdown",
      "metadata": {
        "colab_type": "text",
        "id": "ajfBqYe45sT5"
      },
      "source": [
        "## 4.1 Plot two vectors that are linearly dependent and two vectors that are linearly independent (bonus points if done in $\\mathbb{R}^3$)."
      ]
    },
    {
      "cell_type": "markdown",
      "metadata": {
        "colab_type": "text",
        "id": "TrJ0MT_n3SvO"
      },
      "source": [
        "# Span"
      ]
    },
    {
      "cell_type": "markdown",
      "metadata": {
        "colab_type": "text",
        "id": "86iXLzwM2z8l"
      },
      "source": [
        "## 5.1 What is the span of the following vectors?\n",
        "\n",
        "\\begin{align}\n",
        "g = \\begin{bmatrix} 1 & 2 \\end{bmatrix}\n",
        "\\qquad\n",
        "h = \\begin{bmatrix} 4 & 8 \\end{bmatrix}\n",
        "\\end{align}"
      ]
    },
    {
      "cell_type": "code",
      "execution_count": 0,
      "metadata": {
        "colab": {},
        "colab_type": "code",
        "id": "G2LK2RWL39Q4"
      },
      "outputs": [],
      "source": [
        ""
      ]
    },
    {
      "cell_type": "markdown",
      "metadata": {
        "colab_type": "text",
        "id": "l1deylUj4IHH"
      },
      "source": [
        "## 5.2 What is the span of $\\{l, m, n\\}$?\n",
        "\n",
        "\\begin{align}\n",
        "l = \\begin{bmatrix} 1 & 2 & 3 \\end{bmatrix}\n",
        "\\qquad\n",
        "m = \\begin{bmatrix} -1 & 0 & 7 \\end{bmatrix}\n",
        "\\qquad\n",
        "n = \\begin{bmatrix} 4 & 8  & 2\\end{bmatrix}\n",
        "\\end{align}"
      ]
    },
    {
      "cell_type": "code",
      "execution_count": 0,
      "metadata": {
        "colab": {},
        "colab_type": "code",
        "id": "p1i_ueD25ZcP"
      },
      "outputs": [],
      "source": [
        ""
      ]
    },
    {
      "cell_type": "markdown",
      "metadata": {
        "colab_type": "text",
        "id": "IBqe7X1732kX"
      },
      "source": [
        "# Basis"
      ]
    },
    {
      "cell_type": "markdown",
      "metadata": {
        "colab_type": "text",
        "id": "YeUZVHRM6PpT"
      },
      "source": [
        "## 6.1 Graph two vectors that form a basis for $\\mathbb{R}^2$\n",
        "\n"
      ]
    },
    {
      "cell_type": "code",
      "execution_count": 0,
      "metadata": {
        "colab": {},
        "colab_type": "code",
        "id": "utvF3Pkt8NP6"
      },
      "outputs": [],
      "source": [
        ""
      ]
    },
    {
      "cell_type": "markdown",
      "metadata": {
        "colab_type": "text",
        "id": "20yPFBDUxxnS"
      },
      "source": [
        "## 6.2 What does it mean to form a basis?"
      ]
    },
    {
      "cell_type": "markdown",
      "metadata": {
        "colab_type": "text",
        "id": "3w4tEayT8M0o"
      },
      "source": [
        ""
      ]
    },
    {
      "cell_type": "markdown",
      "metadata": {
        "colab_type": "text",
        "id": "EHmUxbcY6vD3"
      },
      "source": [
        "# Rank"
      ]
    },
    {
      "cell_type": "markdown",
      "metadata": {
        "colab_type": "text",
        "id": "IpJwt9kw6v8U"
      },
      "source": [
        "## 7.1 What is the Rank of P?\n",
        "\n",
        "\\begin{align}\n",
        "P = \\begin{bmatrix} \n",
        "1 & 2 & 3 \\\\\n",
        " -1 & 0 & 7 \\\\\n",
        "4 & 8  & 2\n",
        "\\end{bmatrix}\n",
        "\\end{align}"
      ]
    },
    {
      "cell_type": "markdown",
      "metadata": {
        "colab_type": "text",
        "id": "jGqFMBYY7mHD"
      },
      "source": [
        "## 7.2 What does the rank of a matrix tell us?"
      ]
    },
    {
      "cell_type": "markdown",
      "metadata": {
        "colab_type": "text",
        "id": "Vjg1IiCD8nnP"
      },
      "source": [
        ""
      ]
    },
    {
      "cell_type": "markdown",
      "metadata": {
        "colab_type": "text",
        "id": "0Db2sc_V8QD6"
      },
      "source": [
        "# Linear Projections\n",
        "\n",
        "## 8.1 Line $L$ is formed by all of the vectors that can be created by scaling vector $v$ \n",
        "\\begin{align}\n",
        "v = \\begin{bmatrix} 1 & 3 \\end{bmatrix}\n",
        "\\end{align}\n",
        "\n",
        "\\begin{align}\n",
        "w = \\begin{bmatrix} -1 & 2 \\end{bmatrix}\n",
        "\\end{align}\n",
        "\n",
        "## find $proj_{L}(w)$\n",
        "\n",
        "## graph your projected vector to check your work (make sure your axis are square/even)"
      ]
    },
    {
      "cell_type": "code",
      "execution_count": 0,
      "metadata": {
        "colab": {},
        "colab_type": "code",
        "id": "hp5z2WTBCNKx"
      },
      "outputs": [],
      "source": [
        ""
      ]
    },
    {
      "cell_type": "markdown",
      "metadata": {
        "colab_type": "text",
        "id": "TKkrPwRM-Oar"
      },
      "source": [
        "# Stretch Goal\n",
        "\n",
        "## For vectors that begin at the origin, the coordinates of where the vector ends can be interpreted as regular data points. (See 3Blue1Brown videos about Spans, Basis, etc.)\n",
        "\n",
        "## Write a function that can calculate the linear projection of each point (x,y) (vector) onto the line y=x. run the function and plot the original points in blue and the new projected points on the line y=x in red. \n",
        "\n",
        "## For extra points plot the orthogonal vectors as a dashed line from the original blue points to the projected red points."
      ]
    },
    {
      "cell_type": "code",
      "execution_count": 0,
      "metadata": {
        "colab": {
          "base_uri": "https://localhost:8080/",
          "height": 347
        },
        "colab_type": "code",
        "id": "cp52kZra-ykj",
        "outputId": "12502200-eafe-4e20-bfb7-2d539c6027cb"
      },
      "outputs": [
        {
          "data": {
            "image/png": "[encoded data removed]",
            "text/plain": [
              "<matplotlib.figure.Figure at 0x7f787cfb2978>"
            ]
          },
          "metadata": {
            "tags": []
          },
          "output_type": "display_data"
        }
      ],
      "source": [
        "import pandas as pd\n",
        "import matplotlib.pyplot as plt\n",
        "\n",
        "# Creating a dataframe for you to work with -Feel free to not use the dataframe if you don't want to.\n",
        "x_values = [1, 4, 7, 3, 9, 4, 5 ]\n",
        "y_values = [4, 2, 5, 0, 8, 2, 8]\n",
        "\n",
        "data = {\"x\": x_values, \"y\": y_values}\n",
        "\n",
        "df = pd.DataFrame(data)\n",
        "\n",
        "df.head()\n",
        "\n",
        "plt.scatter(df.x, df.y)\n",
        "plt.show()"
      ]
    },
    {
      "cell_type": "code",
      "execution_count": 0,
      "metadata": {
        "colab": {},
        "colab_type": "code",
        "id": "EZTA6Tj6BGDb"
      },
      "outputs": [],
      "source": [
        ""
      ]
    }
  ]
}