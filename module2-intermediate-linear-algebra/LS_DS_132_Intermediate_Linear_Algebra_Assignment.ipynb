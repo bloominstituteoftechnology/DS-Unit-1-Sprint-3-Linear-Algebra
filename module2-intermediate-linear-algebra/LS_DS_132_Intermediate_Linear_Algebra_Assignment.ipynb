{
  "nbformat": 4,
  "nbformat_minor": 0,
  "metadata": {
    "colab": {
      "name": "LS_DS_132_Intermediate_Linear_Algebra_Assignment.ipynb",
      "provenance": [],
      "collapsed_sections": []
    },
    "kernelspec": {
      "name": "python3",
      "display_name": "Python 3"
    }
  },
  "cells": [
    {
      "cell_type": "markdown",
      "metadata": {
        "colab_type": "text",
        "id": "GSNiYn8lr6nN"
      },
      "source": [
        "# Statistics"
      ]
    },
    {
      "cell_type": "markdown",
      "metadata": {
        "colab_type": "text",
        "id": "3d4izUhQvh2_"
      },
      "source": [
        "## 1.1 Sales for the past week was the following amounts: [3505, 2400, 3027, 2798, 3700, 3250, 2689]. Without using library functions, what is the mean, variance, and standard deviation of of sales from last week? (for extra bonus points, write your own function that can calculate these two values for any sized list)"
      ]
    },
    {
      "cell_type": "code",
      "execution_count": 2,
      "metadata": {},
      "outputs": [],
      "source": [
        "import numpy as np\n",
        "import pandas as pd\n",
        "import math"
      ]
    },
    {
      "cell_type": "code",
      "execution_count": 3,
      "metadata": {},
      "outputs": [],
      "source": [
        "amounts = [3505, 2400, 3027, 2798, 3700, 3250, 2698]"
      ]
    },
    {
      "cell_type": "code",
      "execution_count": 4,
      "metadata": {},
      "outputs": [
        {
          "data": {
            "text/plain": "3054.0"
          },
          "execution_count": 4,
          "metadata": {},
          "output_type": "execute_result"
        }
      ],
      "source": [
        "# find the mean\n",
        "total = sum(amounts)\n",
        "mean_amounts = total/len(amounts)\n",
        "mean_amounts"
      ]
    },
    {
      "cell_type": "code",
      "execution_count": 5,
      "metadata": {},
      "outputs": [],
      "source": [
        "# find the variance\n",
        "# first write a function\n",
        "def subtract_mean(number):\n",
        "    return number - mean_amounts\n"
      ]
    },
    {
      "cell_type": "code",
      "execution_count": 6,
      "metadata": {},
      "outputs": [
        {
          "data": {
            "text/plain": "[451.0, -654.0, -27.0, -256.0, 646.0, 196.0, -356.0]"
          },
          "execution_count": 6,
          "metadata": {},
          "output_type": "execute_result"
        }
      ],
      "source": [
        "# use 'map' to apply that function to our list\n",
        "distances = list(map(subtract_mean, amounts))\n",
        "distances"
      ]
    },
    {
      "cell_type": "code",
      "execution_count": 7,
      "metadata": {},
      "outputs": [
        {
          "data": {
            "text/plain": "[203401.0, 427716.0, 729.0, 65536.0, 417316.0, 38416.0, 126736.0]"
          },
          "execution_count": 7,
          "metadata": {},
          "output_type": "execute_result"
        }
      ],
      "source": [
        "# square and sum all of those distances\n",
        "squared_distances = list(map(lambda x: x**2, distances))\n",
        "squared_distances"
      ]
    },
    {
      "cell_type": "code",
      "execution_count": 8,
      "metadata": {},
      "outputs": [],
      "source": [
        "# how long is our list?\n",
        "# for a sample taken from a population\n",
        "list_len_sample = len(squared_distances) - 1\n",
        "\n",
        "# for a whole population (no sample)\n",
        "list_len_pop = len(squared_distances)"
      ]
    },
    {
      "cell_type": "code",
      "execution_count": 9,
      "metadata": {},
      "outputs": [
        {
          "name": "stdout",
          "output_type": "stream",
          "text": "182835.71\n"
        }
      ],
      "source": [
        "# calculate variance\n",
        "variance_amounts = sum(squared_distances)/list_len_pop\n",
        "print('{:.2f}'.format(variance_amounts))"
      ]
    },
    {
      "cell_type": "code",
      "execution_count": 10,
      "metadata": {},
      "outputs": [
        {
          "name": "stdout",
          "output_type": "stream",
          "text": "427.59\n427.59\n"
        }
      ],
      "source": [
        "# find the std\n",
        "print('{:.2f}'.format(math.sqrt(variance_amounts)))\n",
        "print('{:.2f}'.format(np.sqrt(variance_amounts)))"
      ]
    },
    {
      "cell_type": "markdown",
      "metadata": {
        "colab_type": "text",
        "id": "oh63KaOctEp_"
      },
      "source": [
        "## 1.2 Find the covariance between last week's sales numbers and the number of customers that entered the store last week: [127, 80, 105, 92, 120, 115, 93] (you may use librray functions for calculating the covariance since we didn't specifically talk about its formula)"
      ]
    },
    {
      "cell_type": "code",
      "execution_count": 11,
      "metadata": {},
      "outputs": [],
      "source": [
        "num_customers = [127, 80, 105, 92, 120, 115, 93]"
      ]
    },
    {
      "cell_type": "code",
      "execution_count": 12,
      "metadata": {},
      "outputs": [
        {
          "data": {
            "text/plain": "array([[213308.33333333,   7587.        ],\n       [  7587.        ,    290.95238095]])"
          },
          "execution_count": 12,
          "metadata": {},
          "output_type": "execute_result"
        }
      ],
      "source": [
        "# using numpy\n",
        "np.cov(amounts, num_customers)"
      ]
    },
    {
      "cell_type": "code",
      "execution_count": 13,
      "metadata": {},
      "outputs": [
        {
          "data": {
            "text/html": "<div>\n<style scoped>\n    .dataframe tbody tr th:only-of-type {\n        vertical-align: middle;\n    }\n\n    .dataframe tbody tr th {\n        vertical-align: top;\n    }\n\n    .dataframe thead th {\n        text-align: right;\n    }\n</style>\n<table border=\"1\" class=\"dataframe\">\n  <thead>\n    <tr style=\"text-align: right;\">\n      <th></th>\n      <th>amounts</th>\n      <th>num_customers</th>\n    </tr>\n  </thead>\n  <tbody>\n    <tr>\n      <td>0</td>\n      <td>3505</td>\n      <td>127</td>\n    </tr>\n    <tr>\n      <td>1</td>\n      <td>2400</td>\n      <td>80</td>\n    </tr>\n    <tr>\n      <td>2</td>\n      <td>3027</td>\n      <td>105</td>\n    </tr>\n    <tr>\n      <td>3</td>\n      <td>2798</td>\n      <td>92</td>\n    </tr>\n    <tr>\n      <td>4</td>\n      <td>3700</td>\n      <td>120</td>\n    </tr>\n    <tr>\n      <td>5</td>\n      <td>3250</td>\n      <td>115</td>\n    </tr>\n    <tr>\n      <td>6</td>\n      <td>2698</td>\n      <td>93</td>\n    </tr>\n  </tbody>\n</table>\n</div>",
            "text/plain": "   amounts  num_customers\n0     3505            127\n1     2400             80\n2     3027            105\n3     2798             92\n4     3700            120\n5     3250            115\n6     2698             93"
          },
          "execution_count": 13,
          "metadata": {},
          "output_type": "execute_result"
        }
      ],
      "source": [
        "# using pandas\n",
        "sales_df = pd.DataFrame({'amounts': amounts})\n",
        "sales_df['num_customers'] = pd.Series(num_customers)\n",
        "sales_df"
      ]
    },
    {
      "cell_type": "code",
      "execution_count": 14,
      "metadata": {},
      "outputs": [
        {
          "data": {
            "text/html": "<div>\n<style scoped>\n    .dataframe tbody tr th:only-of-type {\n        vertical-align: middle;\n    }\n\n    .dataframe tbody tr th {\n        vertical-align: top;\n    }\n\n    .dataframe thead th {\n        text-align: right;\n    }\n</style>\n<table border=\"1\" class=\"dataframe\">\n  <thead>\n    <tr style=\"text-align: right;\">\n      <th></th>\n      <th>amounts</th>\n      <th>num_customers</th>\n    </tr>\n  </thead>\n  <tbody>\n    <tr>\n      <td>amounts</td>\n      <td>213308.333333</td>\n      <td>7587.000000</td>\n    </tr>\n    <tr>\n      <td>num_customers</td>\n      <td>7587.000000</td>\n      <td>290.952381</td>\n    </tr>\n  </tbody>\n</table>\n</div>",
            "text/plain": "                     amounts  num_customers\namounts        213308.333333    7587.000000\nnum_customers    7587.000000     290.952381"
          },
          "execution_count": 14,
          "metadata": {},
          "output_type": "execute_result"
        }
      ],
      "source": [
        "sales_df.cov()"
      ]
    },
    {
      "cell_type": "markdown",
      "metadata": {
        "colab_type": "text",
        "id": "J9SbUY9mt66I"
      },
      "source": [
        "## 1.3 Find the standard deviation of customers who entered the store last week. Then, use the standard deviations of both sales and customers to standardize the covariance to find the correlation coefficient that summarizes the relationship between sales and customers. (You may use library functions to check your work.)"
      ]
    },
    {
      "cell_type": "code",
      "execution_count": 15,
      "metadata": {},
      "outputs": [
        {
          "name": "stdout",
          "output_type": "stream",
          "text": "std of number of customeres entered the store last week:  17.06\n"
        }
      ],
      "source": [
        "std_num_customers = sales_df['num_customers'].std()\n",
        "print('std of number of customeres entered the store last week: ', '{:.2f}'.format(std_num_customers))"
      ]
    },
    {
      "cell_type": "code",
      "execution_count": 16,
      "metadata": {},
      "outputs": [
        {
          "name": "stdout",
          "output_type": "stream",
          "text": "the correlation coefficient:  0.96306\n"
        }
      ],
      "source": [
        "mean_amounts = sales_df['amounts'].mean()\n",
        "mean_num_customers = sales_df['num_customers'].mean()\n",
        "\n",
        "std_amounts = sales_df['amounts'].std()\n",
        "std_num_customers = sales_df['num_customers'].std()\n",
        "z = []\n",
        "for idx, row in sales_df.iterrows():\n",
        "    z_x = (sales_df['amounts'][idx] - mean_amounts) / std_amounts\n",
        "    z_y = (sales_df['num_customers'][idx] - mean_num_customers) / std_num_customers\n",
        "    z.append(z_x * z_y)\n",
        "\n",
        "corr_coeff = sum(z) / (len(sales_df.index)-1)\n",
        "print('the correlation coefficient: ', '{:.5f}'.format(corr_coeff))"
      ]
    },
    {
      "cell_type": "code",
      "execution_count": 17,
      "metadata": {},
      "outputs": [
        {
          "data": {
            "text/html": "<div>\n<style scoped>\n    .dataframe tbody tr th:only-of-type {\n        vertical-align: middle;\n    }\n\n    .dataframe tbody tr th {\n        vertical-align: top;\n    }\n\n    .dataframe thead th {\n        text-align: right;\n    }\n</style>\n<table border=\"1\" class=\"dataframe\">\n  <thead>\n    <tr style=\"text-align: right;\">\n      <th></th>\n      <th>amounts</th>\n      <th>num_customers</th>\n    </tr>\n  </thead>\n  <tbody>\n    <tr>\n      <td>amounts</td>\n      <td>1.000000</td>\n      <td>0.963064</td>\n    </tr>\n    <tr>\n      <td>num_customers</td>\n      <td>0.963064</td>\n      <td>1.000000</td>\n    </tr>\n  </tbody>\n</table>\n</div>",
            "text/plain": "                amounts  num_customers\namounts        1.000000       0.963064\nnum_customers  0.963064       1.000000"
          },
          "execution_count": 17,
          "metadata": {},
          "output_type": "execute_result"
        }
      ],
      "source": [
        "# check if my calculation is correct using library\n",
        "sales_df.corr()\n",
        "\n",
        "# 0.96306 looks good"
      ]
    },
    {
      "cell_type": "markdown",
      "metadata": {
        "colab_type": "text",
        "id": "IbZVf7nmujPJ"
      },
      "source": [
        "## 1.4 Use pandas to import a cleaned version of the titanic dataset from the following link: [Titanic Dataset](https://raw.githubusercontent.com/Geoyi/Cleaning-Titanic-Data/master/titanic_clean.csv)\n",
        "\n",
        "## Calculate the variance-covariance matrix and correlation matrix for the titanic dataset's numeric columns. (you can encode some of the categorical variables and include them as a stretch goal if you finish early)"
      ]
    },
    {
      "cell_type": "code",
      "execution_count": 18,
      "metadata": {},
      "outputs": [
        {
          "data": {
            "text/html": "<div>\n<style scoped>\n    .dataframe tbody tr th:only-of-type {\n        vertical-align: middle;\n    }\n\n    .dataframe tbody tr th {\n        vertical-align: top;\n    }\n\n    .dataframe thead th {\n        text-align: right;\n    }\n</style>\n<table border=\"1\" class=\"dataframe\">\n  <thead>\n    <tr style=\"text-align: right;\">\n      <th></th>\n      <th>Unnamed: 0</th>\n      <th>pclass</th>\n      <th>survived</th>\n      <th>age</th>\n      <th>sibsp</th>\n      <th>parch</th>\n      <th>fare</th>\n      <th>body</th>\n      <th>has_cabin_number</th>\n    </tr>\n  </thead>\n  <tbody>\n    <tr>\n      <td>0</td>\n      <td>1</td>\n      <td>1.0</td>\n      <td>1.0</td>\n      <td>29.0000</td>\n      <td>0.0</td>\n      <td>0.0</td>\n      <td>211.3375</td>\n      <td>NaN</td>\n      <td>1</td>\n    </tr>\n    <tr>\n      <td>1</td>\n      <td>2</td>\n      <td>1.0</td>\n      <td>1.0</td>\n      <td>0.9167</td>\n      <td>1.0</td>\n      <td>2.0</td>\n      <td>151.5500</td>\n      <td>NaN</td>\n      <td>1</td>\n    </tr>\n    <tr>\n      <td>2</td>\n      <td>3</td>\n      <td>1.0</td>\n      <td>0.0</td>\n      <td>2.0000</td>\n      <td>1.0</td>\n      <td>2.0</td>\n      <td>151.5500</td>\n      <td>NaN</td>\n      <td>1</td>\n    </tr>\n    <tr>\n      <td>3</td>\n      <td>4</td>\n      <td>1.0</td>\n      <td>0.0</td>\n      <td>30.0000</td>\n      <td>1.0</td>\n      <td>2.0</td>\n      <td>151.5500</td>\n      <td>135.0</td>\n      <td>1</td>\n    </tr>\n    <tr>\n      <td>4</td>\n      <td>5</td>\n      <td>1.0</td>\n      <td>0.0</td>\n      <td>25.0000</td>\n      <td>1.0</td>\n      <td>2.0</td>\n      <td>151.5500</td>\n      <td>NaN</td>\n      <td>1</td>\n    </tr>\n  </tbody>\n</table>\n</div>",
            "text/plain": "   Unnamed: 0  pclass  survived      age  sibsp  parch      fare   body  \\\n0           1     1.0       1.0  29.0000    0.0    0.0  211.3375    NaN   \n1           2     1.0       1.0   0.9167    1.0    2.0  151.5500    NaN   \n2           3     1.0       0.0   2.0000    1.0    2.0  151.5500    NaN   \n3           4     1.0       0.0  30.0000    1.0    2.0  151.5500  135.0   \n4           5     1.0       0.0  25.0000    1.0    2.0  151.5500    NaN   \n\n   has_cabin_number  \n0                 1  \n1                 1  \n2                 1  \n3                 1  \n4                 1  "
          },
          "execution_count": 18,
          "metadata": {},
          "output_type": "execute_result"
        }
      ],
      "source": [
        "url = 'https://raw.githubusercontent.com/Geoyi/Cleaning-Titanic-Data/master/titanic_clean.csv'\n",
        "df = pd.read_csv(url)\n",
        "# df.drop(['Unnamed: 0'], axis=1) // wanted to drop the first column but not working for some reason\n",
        "df = df._get_numeric_data()\n",
        "df.head()"
      ]
    },
    {
      "cell_type": "code",
      "execution_count": 19,
      "metadata": {},
      "outputs": [
        {
          "data": {
            "text/html": "<div>\n<style scoped>\n    .dataframe tbody tr th:only-of-type {\n        vertical-align: middle;\n    }\n\n    .dataframe tbody tr th {\n        vertical-align: top;\n    }\n\n    .dataframe thead th {\n        text-align: right;\n    }\n</style>\n<table border=\"1\" class=\"dataframe\">\n  <thead>\n    <tr style=\"text-align: right;\">\n      <th></th>\n      <th>Unnamed: 0</th>\n      <th>pclass</th>\n      <th>survived</th>\n      <th>age</th>\n      <th>sibsp</th>\n      <th>parch</th>\n      <th>fare</th>\n      <th>body</th>\n      <th>has_cabin_number</th>\n    </tr>\n  </thead>\n  <tbody>\n    <tr>\n      <td>Unnamed: 0</td>\n      <td>143117.500000</td>\n      <td>284.357034</td>\n      <td>-53.967125</td>\n      <td>-1442.939812</td>\n      <td>25.828746</td>\n      <td>1.172783</td>\n      <td>-9410.735123</td>\n      <td>591.579132</td>\n      <td>-95.438885</td>\n    </tr>\n    <tr>\n      <td>pclass</td>\n      <td>284.357034</td>\n      <td>0.701969</td>\n      <td>-0.127248</td>\n      <td>-3.954605</td>\n      <td>0.053090</td>\n      <td>0.013287</td>\n      <td>-24.227788</td>\n      <td>-2.876653</td>\n      <td>-0.249992</td>\n    </tr>\n    <tr>\n      <td>survived</td>\n      <td>-53.967125</td>\n      <td>-0.127248</td>\n      <td>0.236250</td>\n      <td>-0.314343</td>\n      <td>-0.014088</td>\n      <td>0.034776</td>\n      <td>6.146023</td>\n      <td>0.000000</td>\n      <td>0.061406</td>\n    </tr>\n    <tr>\n      <td>age</td>\n      <td>-1442.939812</td>\n      <td>-3.954605</td>\n      <td>-0.314343</td>\n      <td>165.850021</td>\n      <td>-2.559806</td>\n      <td>-1.459378</td>\n      <td>114.416613</td>\n      <td>81.622922</td>\n      <td>1.463138</td>\n    </tr>\n    <tr>\n      <td>sibsp</td>\n      <td>25.828746</td>\n      <td>0.053090</td>\n      <td>-0.014088</td>\n      <td>-2.559806</td>\n      <td>1.085052</td>\n      <td>0.336833</td>\n      <td>8.641768</td>\n      <td>-8.708471</td>\n      <td>-0.003946</td>\n    </tr>\n    <tr>\n      <td>parch</td>\n      <td>1.172783</td>\n      <td>0.013287</td>\n      <td>0.034776</td>\n      <td>-1.459378</td>\n      <td>0.336833</td>\n      <td>0.749195</td>\n      <td>9.928031</td>\n      <td>4.237190</td>\n      <td>0.013316</td>\n    </tr>\n    <tr>\n      <td>fare</td>\n      <td>-9410.735123</td>\n      <td>-24.227788</td>\n      <td>6.146023</td>\n      <td>114.416613</td>\n      <td>8.641768</td>\n      <td>9.928031</td>\n      <td>2678.959738</td>\n      <td>-179.164684</td>\n      <td>10.976961</td>\n    </tr>\n    <tr>\n      <td>body</td>\n      <td>591.579132</td>\n      <td>-2.876653</td>\n      <td>0.000000</td>\n      <td>81.622922</td>\n      <td>-8.708471</td>\n      <td>4.237190</td>\n      <td>-179.164684</td>\n      <td>9544.688567</td>\n      <td>3.625689</td>\n    </tr>\n    <tr>\n      <td>has_cabin_number</td>\n      <td>-95.438885</td>\n      <td>-0.249992</td>\n      <td>0.061406</td>\n      <td>1.463138</td>\n      <td>-0.003946</td>\n      <td>0.013316</td>\n      <td>10.976961</td>\n      <td>3.625689</td>\n      <td>0.174613</td>\n    </tr>\n  </tbody>\n</table>\n</div>",
            "text/plain": "                     Unnamed: 0      pclass   survived          age  \\\nUnnamed: 0        143117.500000  284.357034 -53.967125 -1442.939812   \npclass               284.357034    0.701969  -0.127248    -3.954605   \nsurvived             -53.967125   -0.127248   0.236250    -0.314343   \nage                -1442.939812   -3.954605  -0.314343   165.850021   \nsibsp                 25.828746    0.053090  -0.014088    -2.559806   \nparch                  1.172783    0.013287   0.034776    -1.459378   \nfare               -9410.735123  -24.227788   6.146023   114.416613   \nbody                 591.579132   -2.876653   0.000000    81.622922   \nhas_cabin_number     -95.438885   -0.249992   0.061406     1.463138   \n\n                      sibsp     parch         fare         body  \\\nUnnamed: 0        25.828746  1.172783 -9410.735123   591.579132   \npclass             0.053090  0.013287   -24.227788    -2.876653   \nsurvived          -0.014088  0.034776     6.146023     0.000000   \nage               -2.559806 -1.459378   114.416613    81.622922   \nsibsp              1.085052  0.336833     8.641768    -8.708471   \nparch              0.336833  0.749195     9.928031     4.237190   \nfare               8.641768  9.928031  2678.959738  -179.164684   \nbody              -8.708471  4.237190  -179.164684  9544.688567   \nhas_cabin_number  -0.003946  0.013316    10.976961     3.625689   \n\n                  has_cabin_number  \nUnnamed: 0              -95.438885  \npclass                   -0.249992  \nsurvived                  0.061406  \nage                       1.463138  \nsibsp                    -0.003946  \nparch                     0.013316  \nfare                     10.976961  \nbody                      3.625689  \nhas_cabin_number          0.174613  "
          },
          "execution_count": 19,
          "metadata": {},
          "output_type": "execute_result"
        }
      ],
      "source": [
        "# variance-covariance matrix\n",
        "df.cov()"
      ]
    },
    {
      "cell_type": "code",
      "execution_count": 20,
      "metadata": {},
      "outputs": [
        {
          "data": {
            "text/html": "<div>\n<style scoped>\n    .dataframe tbody tr th:only-of-type {\n        vertical-align: middle;\n    }\n\n    .dataframe tbody tr th {\n        vertical-align: top;\n    }\n\n    .dataframe thead th {\n        text-align: right;\n    }\n</style>\n<table border=\"1\" class=\"dataframe\">\n  <thead>\n    <tr style=\"text-align: right;\">\n      <th></th>\n      <th>Unnamed: 0</th>\n      <th>pclass</th>\n      <th>survived</th>\n      <th>age</th>\n      <th>sibsp</th>\n      <th>parch</th>\n      <th>fare</th>\n      <th>body</th>\n      <th>has_cabin_number</th>\n    </tr>\n  </thead>\n  <tbody>\n    <tr>\n      <td>Unnamed: 0</td>\n      <td>1.000000</td>\n      <td>0.897822</td>\n      <td>-0.293717</td>\n      <td>-0.296172</td>\n      <td>0.065594</td>\n      <td>0.003584</td>\n      <td>-0.481215</td>\n      <td>0.015558</td>\n      <td>-0.603727</td>\n    </tr>\n    <tr>\n      <td>pclass</td>\n      <td>0.897822</td>\n      <td>1.000000</td>\n      <td>-0.312469</td>\n      <td>-0.366370</td>\n      <td>0.060832</td>\n      <td>0.018322</td>\n      <td>-0.558629</td>\n      <td>-0.034642</td>\n      <td>-0.713857</td>\n    </tr>\n    <tr>\n      <td>survived</td>\n      <td>-0.293717</td>\n      <td>-0.312469</td>\n      <td>1.000000</td>\n      <td>-0.050199</td>\n      <td>-0.027825</td>\n      <td>0.082660</td>\n      <td>0.244265</td>\n      <td>NaN</td>\n      <td>0.302250</td>\n    </tr>\n    <tr>\n      <td>age</td>\n      <td>-0.296172</td>\n      <td>-0.366370</td>\n      <td>-0.050199</td>\n      <td>1.000000</td>\n      <td>-0.190747</td>\n      <td>-0.130872</td>\n      <td>0.171892</td>\n      <td>0.059059</td>\n      <td>0.271887</td>\n    </tr>\n    <tr>\n      <td>sibsp</td>\n      <td>0.065594</td>\n      <td>0.060832</td>\n      <td>-0.027825</td>\n      <td>-0.190747</td>\n      <td>1.000000</td>\n      <td>0.373587</td>\n      <td>0.160238</td>\n      <td>-0.099961</td>\n      <td>-0.009064</td>\n    </tr>\n    <tr>\n      <td>parch</td>\n      <td>0.003584</td>\n      <td>0.018322</td>\n      <td>0.082660</td>\n      <td>-0.130872</td>\n      <td>0.373587</td>\n      <td>1.000000</td>\n      <td>0.221539</td>\n      <td>0.051099</td>\n      <td>0.036806</td>\n    </tr>\n    <tr>\n      <td>fare</td>\n      <td>-0.481215</td>\n      <td>-0.558629</td>\n      <td>0.244265</td>\n      <td>0.171892</td>\n      <td>0.160238</td>\n      <td>0.221539</td>\n      <td>1.000000</td>\n      <td>-0.043110</td>\n      <td>0.507253</td>\n    </tr>\n    <tr>\n      <td>body</td>\n      <td>0.015558</td>\n      <td>-0.034642</td>\n      <td>NaN</td>\n      <td>0.059059</td>\n      <td>-0.099961</td>\n      <td>0.051099</td>\n      <td>-0.043110</td>\n      <td>1.000000</td>\n      <td>0.083796</td>\n    </tr>\n    <tr>\n      <td>has_cabin_number</td>\n      <td>-0.603727</td>\n      <td>-0.713857</td>\n      <td>0.302250</td>\n      <td>0.271887</td>\n      <td>-0.009064</td>\n      <td>0.036806</td>\n      <td>0.507253</td>\n      <td>0.083796</td>\n      <td>1.000000</td>\n    </tr>\n  </tbody>\n</table>\n</div>",
            "text/plain": "                  Unnamed: 0    pclass  survived       age     sibsp  \\\nUnnamed: 0          1.000000  0.897822 -0.293717 -0.296172  0.065594   \npclass              0.897822  1.000000 -0.312469 -0.366370  0.060832   \nsurvived           -0.293717 -0.312469  1.000000 -0.050199 -0.027825   \nage                -0.296172 -0.366370 -0.050199  1.000000 -0.190747   \nsibsp               0.065594  0.060832 -0.027825 -0.190747  1.000000   \nparch               0.003584  0.018322  0.082660 -0.130872  0.373587   \nfare               -0.481215 -0.558629  0.244265  0.171892  0.160238   \nbody                0.015558 -0.034642       NaN  0.059059 -0.099961   \nhas_cabin_number   -0.603727 -0.713857  0.302250  0.271887 -0.009064   \n\n                     parch      fare      body  has_cabin_number  \nUnnamed: 0        0.003584 -0.481215  0.015558         -0.603727  \npclass            0.018322 -0.558629 -0.034642         -0.713857  \nsurvived          0.082660  0.244265       NaN          0.302250  \nage              -0.130872  0.171892  0.059059          0.271887  \nsibsp             0.373587  0.160238 -0.099961         -0.009064  \nparch             1.000000  0.221539  0.051099          0.036806  \nfare              0.221539  1.000000 -0.043110          0.507253  \nbody              0.051099 -0.043110  1.000000          0.083796  \nhas_cabin_number  0.036806  0.507253  0.083796          1.000000  "
          },
          "execution_count": 20,
          "metadata": {},
          "output_type": "execute_result"
        }
      ],
      "source": [
        "# correlation matirx\n",
        "df.corr()"
      ]
    },
    {
      "cell_type": "code",
      "execution_count": 21,
      "metadata": {},
      "outputs": [
        {
          "data": {
            "text/plain": "<Figure size 480x480 with 1 Axes>"
          },
          "metadata": {},
          "output_type": "display_data"
        }
      ],
      "source": [
        "import matplotlib.pyplot as plt\n",
        "plt.matshow(df.corr())\n",
        "plt.show()"
      ]
    },
    {
      "cell_type": "code",
      "execution_count": 22,
      "metadata": {},
      "outputs": [
        {
          "data": {
            "image/png": "[encoded data removed]",
            "text/plain": "<Figure size 432x288 with 2 Axes>"
          },
          "metadata": {
            "needs_background": "light"
          },
          "output_type": "display_data"
        }
      ],
      "source": [
        "import seaborn as sns\n",
        "sns.heatmap(df.corr());"
      ]
    },
    {
      "cell_type": "markdown",
      "metadata": {
        "colab_type": "text",
        "id": "7K0Xfh8MvYkl"
      },
      "source": [
        "# Orthogonality"
      ]
    },
    {
      "cell_type": "markdown",
      "metadata": {
        "colab_type": "text",
        "id": "Pe3eOZ2fvdZ-"
      },
      "source": [
        "## 2.1 Plot two vectors that are orthogonal to each other. What is a synonym for orthogonal?"
      ]
    },
    {
      "cell_type": "code",
      "execution_count": 23,
      "metadata": {},
      "outputs": [],
      "source": [
        "vec_1 = np.array([2, 2])\n",
        "vec_2 = np.array([1, -1])"
      ]
    },
    {
      "cell_type": "code",
      "execution_count": 24,
      "metadata": {},
      "outputs": [
        {
          "data": {
            "text/plain": "0"
          },
          "execution_count": 24,
          "metadata": {},
          "output_type": "execute_result"
        }
      ],
      "source": [
        "np.dot(vec_1, vec_2)"
      ]
    },
    {
      "cell_type": "code",
      "execution_count": 25,
      "metadata": {},
      "outputs": [
        {
          "data": {
            "image/png": "[encoded data removed]",
            "text/plain": "<Figure size 288x288 with 1 Axes>"
          },
          "metadata": {
            "needs_background": "light"
          },
          "output_type": "display_data"
        }
      ],
      "source": [
        "fig, ax = plt.subplots(figsize=(4,4))\n",
        "ax.grid()\n",
        "plt.xlim(-2, 3)\n",
        "plt.ylim(-2, 3)\n",
        "plt.arrow(0, 0, *vec_1, head_width=.5, head_length=.5, length_includes_head=True, color='blue')\n",
        "plt.arrow(0, 0, *vec_2, head_width=.5, head_length=.5, length_includes_head=True, color='red')\n",
        "plt.show()"
      ]
    },
    {
      "cell_type": "code",
      "execution_count": 26,
      "metadata": {},
      "outputs": [],
      "source": [
        "# synonym for orthogonal is 'perpendicular'"
      ]
    },
    {
      "cell_type": "markdown",
      "metadata": {
        "colab_type": "text",
        "id": "7AS4V1Nhvvxz"
      },
      "source": [
        "## 2.2 Are the following vectors orthogonal? Why or why not?\n",
        "\n",
        "\\begin{align}\n",
        "a = \\begin{bmatrix} -5 \\\\ 3 \\\\ 7 \\end{bmatrix}\n",
        "\\qquad\n",
        "b = \\begin{bmatrix} 6 \\\\ -8 \\\\ 2 \\end{bmatrix}\n",
        "\\end{align}"
      ]
    },
    {
      "cell_type": "code",
      "execution_count": 27,
      "metadata": {},
      "outputs": [
        {
          "data": {
            "text/plain": "-40"
          },
          "execution_count": 27,
          "metadata": {},
          "output_type": "execute_result"
        }
      ],
      "source": [
        "vec_a = np.array([-5, 3, 7])\n",
        "vec_b = np.array([6, -8, 2])\n",
        "\n",
        "np.dot(vec_a, vec_b)\n",
        "# not orthogonal because we have non-zero dot product result, we get -40"
      ]
    },
    {
      "cell_type": "markdown",
      "metadata": {
        "colab_type": "text",
        "id": "MiNjyqiEz5SG"
      },
      "source": [
        "## 2.3 Compute the following values: What do these quantities have in common?\n",
        "\n",
        "## What is $||c||^2$? \n",
        "\n",
        "## What is $c \\cdot c$? \n",
        "\n",
        "## What is $c^{T}c$?\n",
        "\n",
        "\\begin{align}\n",
        "c = \\begin{bmatrix} 2 & -15 & 6 & 20 \\end{bmatrix}\n",
        "\\end{align}"
      ]
    },
    {
      "cell_type": "code",
      "execution_count": 28,
      "metadata": {},
      "outputs": [
        {
          "name": "stdout",
          "output_type": "stream",
          "text": "vec_c_norm_squared 665.0\nvec_c_dot_vec_c 665\nc_t_c 665\nresults are all the same\n"
        }
      ],
      "source": [
        "vec_c = np.array([2, -15, 6, 20])\n",
        "vec_c_norm_squared = np.linalg.norm(vec_c)**2\n",
        "c_dot_c = np.dot(vec_c, vec_c)\n",
        "c_t_c = np.matmul(vec_c.T, vec_c)\n",
        "\n",
        "print('vec_c_norm_squared', vec_c_norm_squared)\n",
        "print('vec_c_dot_vec_c', c_dot_c)\n",
        "print('c_t_c', c_t_c)\n",
        "\n",
        "print('results are all the same')"
      ]
    },
    {
      "cell_type": "markdown",
      "metadata": {
        "colab_type": "text",
        "id": "MK_TpWqk1Evk"
      },
      "source": [
        "# Unit Vectors"
      ]
    },
    {
      "cell_type": "markdown",
      "metadata": {
        "colab_type": "text",
        "id": "Kpit6WWO1b8l"
      },
      "source": [
        "## 3.1 Using Latex, write the following vectors as a linear combination of scalars and unit vectors:\n",
        "\n",
        "\\begin{align}\n",
        "d = \\begin{bmatrix} 7 \\\\ 12 \\end{bmatrix}\n",
        "\\qquad\n",
        "e = \\begin{bmatrix} 2 \\\\ 11 \\\\ -8  \\end{bmatrix}\n",
        "\\end{align}"
      ]
    },
    {
      "cell_type": "markdown",
      "metadata": {
        "colab_type": "text",
        "id": "oBCj1sDW2ouC"
      },
      "source": [
        "\\begin{align}\n",
        "d =\n",
        "7\n",
        "\\begin{bmatrix}1 \\\\ 0\\end{bmatrix} + \n",
        "12\n",
        "\\begin{bmatrix}0 \\\\ 1\\end{bmatrix}\n",
        "\\qquad\n",
        "\\end{align}Your text here"
      ]
    },
    {
      "cell_type": "markdown",
      "metadata": {},
      "source": [
        "\\begin{align}\n",
        "e =\n",
        "2\\begin{bmatrix} 1\\\\ 0 \\\\ 0 \\end{bmatrix} + \n",
        "11\\begin{bmatrix} 0\\\\ 1 \\\\ 0 \\end{bmatrix} - \n",
        "8\\begin{bmatrix} 0\\\\ 0 \\\\ 1 \\end{bmatrix}\n",
        "\\end{align}"
      ]
    },
    {
      "cell_type": "markdown",
      "metadata": {
        "colab_type": "text",
        "id": "dAdUQuep1_yJ"
      },
      "source": [
        "## 3.2 Turn vector $f$ into a unit vector:\n",
        "\n",
        "\\begin{align}\n",
        "f = \\begin{bmatrix} 4 & 12 & 11 & 9 & 2 \\end{bmatrix}\n",
        "\\end{align}"
      ]
    },
    {
      "cell_type": "code",
      "execution_count": 35,
      "metadata": {},
      "outputs": [
        {
          "name": "stdout",
          "output_type": "stream",
          "text": "f_unit_vec is [0.20908335 0.62725005 0.57497921 0.47043754 0.10454167]\nIn order to prove this, the reuslt is supposed to be zero 0.9999999999999999\n"
        }
      ],
      "source": [
        "vec_x = np.array([4, 12, 11, 9, 2])\n",
        "norm_vec_x = np.linalg.norm(vec_x)\n",
        "f_unit = vec_x/norm_vec_x\n",
        "print('f_unit_vec is', f_unit)\n",
        "print('In order to prove this, the reuslt is supposed to be zero', np.linalg.norm(f_unit))"
      ]
    },
    {
      "cell_type": "markdown",
      "metadata": {},
      "source": [
        "$$f = \\begin {bmatrix} .20908335 \\\\ .62725005 \\\\ .57497921 \\\\ .47043754 \\\\ .10454167 \\end{bmatrix}$$"
      ]
    },
    {
      "cell_type": "markdown",
      "metadata": {
        "colab_type": "text",
        "id": "o39UyP-I5lpP"
      },
      "source": [
        "# Linear Independence / Dependence "
      ]
    },
    {
      "cell_type": "markdown",
      "metadata": {
        "colab_type": "text",
        "id": "ajfBqYe45sT5"
      },
      "source": [
        "## 4.1 Plot two vectors that are linearly dependent and two vectors that are linearly independent (bonus points if done in $\\mathbb{R}^3$)."
      ]
    },
    {
      "cell_type": "code",
      "execution_count": 46,
      "metadata": {},
      "outputs": [],
      "source": [
        "# create some dependent vectors each other\n",
        "v_1 = np.array([1, 1])\n",
        "v_2 = np.array([2, 2])"
      ]
    },
    {
      "cell_type": "code",
      "execution_count": 47,
      "metadata": {},
      "outputs": [
        {
          "data": {
            "image/png": "[encoded data removed]",
            "text/plain": "<Figure size 288x288 with 1 Axes>"
          },
          "metadata": {
            "needs_background": "light"
          },
          "output_type": "display_data"
        }
      ],
      "source": [
        "fig, ax = plt.subplots(figsize=(4,4))\n",
        "ax.grid()\n",
        "plt.xlim(-2, 3)\n",
        "plt.ylim(-2, 3)\n",
        "plt.arrow(0, 0, *v_1, head_width=.5, head_length=.5, length_includes_head=True, color='blue')\n",
        "plt.arrow(0, 0, *v_2, head_width=.5, head_length=.5, length_includes_head=True, color='red')\n",
        "plt.show()"
      ]
    },
    {
      "cell_type": "code",
      "execution_count": 48,
      "metadata": {},
      "outputs": [],
      "source": [
        "# create some independent vectors each other\n",
        "v_3 = np.array([1, 1])\n",
        "v_4 = np.array([2, 3])"
      ]
    },
    {
      "cell_type": "code",
      "execution_count": 49,
      "metadata": {},
      "outputs": [
        {
          "data": {
            "image/png": "[encoded data removed]",
            "text/plain": "<Figure size 288x288 with 1 Axes>"
          },
          "metadata": {
            "needs_background": "light"
          },
          "output_type": "display_data"
        }
      ],
      "source": [
        "fig, ax = plt.subplots(figsize=(4,4))\n",
        "ax.grid()\n",
        "plt.xlim(-2, 3)\n",
        "plt.ylim(-2, 3)\n",
        "plt.arrow(0, 0, *v_3, head_width=.5, head_length=.5, length_includes_head=True, color='blue')\n",
        "plt.arrow(0, 0, *v_4, head_width=.5, head_length=.5, length_includes_head=True, color='red')\n",
        "plt.show()"
      ]
    },
    {
      "cell_type": "markdown",
      "metadata": {
        "colab_type": "text",
        "id": "TrJ0MT_n3SvO"
      },
      "source": [
        "# Span"
      ]
    },
    {
      "cell_type": "markdown",
      "metadata": {},
      "source": [
        "### From Lecture Note\n",
        "Suppose we have two vectors. The linear combination is as follows, where a and b are any scalars.\n",
        "\n",
        "\\begin{align}\n",
        "a\\begin{bmatrix} 1 & 3 \\end{bmatrix} +\n",
        "b\\begin{bmatrix} 2 & 1 \\end{bmatrix}\n",
        "\\end{align}\n",
        "\n",
        "Note that:\n",
        "* The set of all possible linear combinations (i.e., all possible values of a and b) is the span of these vectors. \n",
        "* A set of vectors _spans_ a space if their linear combinations fill the space.\n",
        "* The span of most pairs of 2D vectors is the entire infinite sheet of infinite space (unless they are colinear). "
      ]
    },
    {
      "cell_type": "markdown",
      "metadata": {
        "colab_type": "text",
        "id": "86iXLzwM2z8l"
      },
      "source": [
        "## 5.1 What is the span of the following vectors?\n",
        "\n",
        "\\begin{align}\n",
        "g = \\begin{bmatrix} 1 & 2 \\end{bmatrix}\n",
        "\\qquad\n",
        "h = \\begin{bmatrix} 4 & 8 \\end{bmatrix}\n",
        "\\end{align}"
      ]
    },
    {
      "cell_type": "code",
      "execution_count": 50,
      "metadata": {},
      "outputs": [],
      "source": [
        "vec_g = np.array([1, 2]).T\n",
        "vec_h = np.array([4, 8]).T"
      ]
    },
    {
      "cell_type": "markdown",
      "metadata": {},
      "source": [
        "$$\n",
        "\\\n",
        "$$"
      ]
    },
    {
      "cell_type": "markdown",
      "metadata": {
        "colab": {},
        "colab_type": "code",
        "id": "p1i_ueD25ZcP"
      },
      "source": [
        "$$ span = a\\begin{bmatrix} 1 \\\\ 2 \\end{bmatrix} + b\\begin{bmatrix} 4 \\\\ 8 \\end{bmatrix}$$"
      ]
    },
    {
      "cell_type": "markdown",
      "metadata": {
        "colab_type": "text",
        "id": "l1deylUj4IHH"
      },
      "source": [
        "## 5.2 What is the span of $\\{l, m, n\\}$?\n",
        "\n",
        "\\begin{align}\n",
        "l = \\begin{bmatrix} 1 & 2 & 3 \\end{bmatrix}\n",
        "\\qquad\n",
        "m = \\begin{bmatrix} -1 & 0 & 7 \\end{bmatrix}\n",
        "\\qquad\n",
        "n = \\begin{bmatrix} 4 & 8  & 2\\end{bmatrix}\n",
        "\\end{align}"
      ]
    },
    {
      "cell_type": "markdown",
      "metadata": {},
      "source": [
        "$$ span = a\\begin{bmatrix} 1 \\\\ 2 \\\\ 3 \\end{bmatrix} + b\\begin{bmatrix} -1 \\\\ 0 \\\\ 7 \\end{bmatrix} + c\\begin{bmatrix} 4 \\\\ 8 \\\\ 2 \\end{bmatrix}$$"
      ]
    },
    {
      "cell_type": "markdown",
      "metadata": {
        "colab_type": "text",
        "id": "IBqe7X1732kX"
      },
      "source": [
        "# Basis"
      ]
    },
    {
      "cell_type": "markdown",
      "metadata": {
        "colab_type": "text",
        "id": "YeUZVHRM6PpT"
      },
      "source": [
        "## 6.1 Graph two vectors that form a basis for $\\mathbb{R}^2$\n",
        "\n"
      ]
    },
    {
      "cell_type": "code",
      "execution_count": 55,
      "metadata": {},
      "outputs": [
        {
          "data": {
            "text/plain": "array([[0, 2, 3],\n       [4, 5, 7]])"
          },
          "execution_count": 55,
          "metadata": {},
          "output_type": "execute_result"
        }
      ],
      "source": [
        "# Rank two\n",
        "P = np.array([[0,2,3], [4,5,7]])\n",
        "P"
      ]
    },
    {
      "cell_type": "code",
      "execution_count": 56,
      "metadata": {},
      "outputs": [
        {
          "data": {
            "text/plain": "2"
          },
          "execution_count": 56,
          "metadata": {},
          "output_type": "execute_result"
        }
      ],
      "source": [
        "# calculate its rank\n",
        "np.linalg.matrix_rank(P)"
      ]
    },
    {
      "cell_type": "code",
      "execution_count": 61,
      "metadata": {},
      "outputs": [
        {
          "name": "stdout",
          "output_type": "stream",
          "text": "basis is\n [[ 0. -1.]\n [-1.  0.]] \n\nR is\n [[-4. -5. -7.]\n [ 0. -2. -3.]]\n"
        }
      ],
      "source": [
        "q,r = np.linalg.qr(P)\n",
        "print('basis is\\n', q, '\\n')\n",
        "print('R is\\n', r)"
      ]
    },
    {
      "cell_type": "markdown",
      "metadata": {
        "colab_type": "text",
        "id": "20yPFBDUxxnS"
      },
      "source": [
        "## 6.2 What does it mean to form a basis?"
      ]
    },
    {
      "cell_type": "markdown",
      "metadata": {},
      "source": [
        "- it means that there are independent column spaces"
      ]
    },
    {
      "cell_type": "markdown",
      "metadata": {
        "colab_type": "text",
        "id": "3w4tEayT8M0o"
      },
      "source": [
        ""
      ]
    },
    {
      "cell_type": "markdown",
      "metadata": {
        "colab_type": "text",
        "id": "EHmUxbcY6vD3"
      },
      "source": [
        "# Rank"
      ]
    },
    {
      "cell_type": "markdown",
      "metadata": {
        "colab_type": "text",
        "id": "IpJwt9kw6v8U"
      },
      "source": [
        "## 7.1 What is the Rank of P?\n",
        "\n",
        "\\begin{align}\n",
        "P = \\begin{bmatrix} \n",
        "1 & 2 & 3 \\\\\n",
        " -1 & 0 & 7 \\\\\n",
        "4 & 8  & 2\n",
        "\\end{bmatrix}\n",
        "\\end{align}"
      ]
    },
    {
      "cell_type": "code",
      "execution_count": 62,
      "metadata": {},
      "outputs": [
        {
          "data": {
            "text/plain": "array([[ 1,  2,  3],\n       [-1,  0,  7],\n       [ 4,  8,  2]])"
          },
          "execution_count": 62,
          "metadata": {},
          "output_type": "execute_result"
        }
      ],
      "source": [
        "# Rank two\n",
        "P = np.array([[1,2,3], [-1,0,7], [4, 8, 2]])\n",
        "P"
      ]
    },
    {
      "cell_type": "code",
      "execution_count": 63,
      "metadata": {},
      "outputs": [
        {
          "data": {
            "text/plain": "3"
          },
          "execution_count": 63,
          "metadata": {},
          "output_type": "execute_result"
        }
      ],
      "source": [
        "# calculate its rank\n",
        "np.linalg.matrix_rank(P)"
      ]
    },
    {
      "cell_type": "markdown",
      "metadata": {
        "colab_type": "text",
        "id": "jGqFMBYY7mHD"
      },
      "source": [
        "## 7.2 What does the rank of a matrix tell us?"
      ]
    },
    {
      "cell_type": "markdown",
      "metadata": {},
      "source": [
        "- The rank `3`means that the given 3x3 matrix has 3 linearly independent colum vector space"
      ]
    },
    {
      "cell_type": "markdown",
      "metadata": {
        "colab_type": "text",
        "id": "Vjg1IiCD8nnP"
      },
      "source": [
        ""
      ]
    },
    {
      "cell_type": "markdown",
      "metadata": {
        "colab_type": "text",
        "id": "0Db2sc_V8QD6"
      },
      "source": [
        "# Linear Projections -> now in Stretch Goals\n",
        "\n",
        "## 8.1 Line $L$ is formed by all of the vectors that can be created by scaling vector $v$ \n",
        "\\begin{align}\n",
        "v = \\begin{bmatrix} 1 & 3 \\end{bmatrix}\n",
        "\\end{align}\n",
        "\n",
        "\\begin{align}\n",
        "w = \\begin{bmatrix} -1 & 2 \\end{bmatrix}\n",
        "\\end{align}\n",
        "\n",
        "## find $proj_{L}(w)$\n",
        "\n",
        "## graph your projected vector to check your work (make sure your axis are square/even)"
      ]
    },
    {
      "cell_type": "code",
      "execution_count": 0,
      "metadata": {
        "colab": {},
        "colab_type": "code",
        "id": "hp5z2WTBCNKx"
      },
      "outputs": [],
      "source": [
        ""
      ]
    },
    {
      "cell_type": "markdown",
      "metadata": {
        "colab_type": "text",
        "id": "TKkrPwRM-Oar"
      },
      "source": [
        "# Stretch Goal\n",
        "\n",
        "## For vectors that begin at the origin, the coordinates of where the vector ends can be interpreted as regular data points. (See 3Blue1Brown videos about Spans, Basis, etc.)\n",
        "\n",
        "## Write a function that can calculate the linear projection of each point (x,y) (vector) onto the line y=x. run the function and plot the original points in blue and the new projected points on the line y=x in red. \n",
        "\n",
        "## For extra points plot the orthogonal vectors as a dashed line from the original blue points to the projected red points."
      ]
    },
    {
      "cell_type": "code",
      "execution_count": null,
      "metadata": {},
      "outputs": [],
      "source": [
        "import pandas as pd\n",
        "import matplotlib.pyplot as plt\n",
        "\n",
        "# Creating a dataframe for you to work with -Feel free to not use the dataframe if you don't want to.\n",
        "x_values = [1, 4, 7, 3, 9, 4, 5 ]\n",
        "y_values = [4, 2, 5, 0, 8, 2, 8]\n",
        "\n",
        "data = {\"x\": x_values, \"y\": y_values}\n",
        "\n",
        "df = pd.DataFrame(data)\n",
        "\n",
        "df.head()\n",
        "\n",
        "plt.scatter(df.x, df.y)\n",
        "plt.show()"
      ]
    },
    {
      "cell_type": "code",
      "execution_count": 0,
      "metadata": {
        "colab": {},
        "colab_type": "code",
        "id": "EZTA6Tj6BGDb"
      },
      "outputs": [],
      "source": [
        ""
      ]
    }
  ]
}