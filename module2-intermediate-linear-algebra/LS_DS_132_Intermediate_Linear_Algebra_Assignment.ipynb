{
  "nbformat": 4,
  "nbformat_minor": 0,
  "metadata": {
    "colab": {
      "name": "LS_DS_132_Intermediate_Linear_Algebra_Assignment.ipynb",
      "provenance": [],
      "collapsed_sections": []
    },
    "kernelspec": {
      "name": "python3",
      "display_name": "Python 3"
    }
  },
  "cells": [
    {
      "cell_type": "markdown",
      "metadata": {
        "id": "GSNiYn8lr6nN",
        "colab_type": "text"
      },
      "source": [
        "# Statistics"
      ]
    },
    {
      "cell_type": "markdown",
      "metadata": {
        "id": "3d4izUhQvh2_",
        "colab_type": "text"
      },
      "source": [
        "## 1.1 Sales for the past week was the following amounts: [3505, 2400, 3027, 2798, 3700, 3250, 2689]. Without using library functions, what is the mean, variance, and standard deviation of of sales from last week? (for extra bonus points, write your own function that can calculate these two values for any sized list)"
      ]
    },
    {
      "cell_type": "code",
      "metadata": {
        "id": "w1iZfYvBtEA1",
        "colab_type": "code",
        "colab": {
          "base_uri": "https://localhost:8080/",
          "height": 33
        },
        "outputId": "5d132f60-cb85-4719-f3db-c1020fa08bd2"
      },
      "source": [
        "#find the mean of sales\n",
        "\n",
        "sales = [3505, 2400, 3027, 2798, 3700, 3250, 2689]\n",
        "   \n",
        "total = sum(sales)\n",
        "count = len(sales)\n",
        "mean = total / count\n",
        "  \n",
        "\n",
        "\n",
        "mean"
      ],
      "execution_count": 26,
      "outputs": [
        {
          "output_type": "execute_result",
          "data": {
            "text/plain": [
              "3052.714285714286"
            ]
          },
          "metadata": {
            "tags": []
          },
          "execution_count": 26
        }
      ]
    },
    {
      "cell_type": "code",
      "metadata": {
        "id": "e2fx8mTeHH3l",
        "colab_type": "code",
        "colab": {
          "base_uri": "https://localhost:8080/",
          "height": 33
        },
        "outputId": "6467c093-85db-418b-c5f2-5d8c3878f0d8"
      },
      "source": [
        "# find the variance of the sales\n",
        "\n",
        "difference_from_mean = []\n",
        "\n",
        "for sale in sales:\n",
        "  difference_from_mean.append((sale - mean) ** 2)\n",
        "\n",
        "variance = sum(difference_from_mean) / (len(sales)-1)\n",
        "\n",
        "variance"
      ],
      "execution_count": 27,
      "outputs": [
        {
          "output_type": "execute_result",
          "data": {
            "text/plain": [
              "214387.90476190473"
            ]
          },
          "metadata": {
            "tags": []
          },
          "execution_count": 27
        }
      ]
    },
    {
      "cell_type": "code",
      "metadata": {
        "id": "LHc5aHISJh6-",
        "colab_type": "code",
        "colab": {
          "base_uri": "https://localhost:8080/",
          "height": 33
        },
        "outputId": "7156be08-24e3-4ac1-b562-a0d6cd0920b5"
      },
      "source": [
        "# find the standard deviation of the sales\n",
        "\n",
        "standard_deviation = variance ** (1/2)\n",
        "standard_deviation"
      ],
      "execution_count": 28,
      "outputs": [
        {
          "output_type": "execute_result",
          "data": {
            "text/plain": [
              "463.0204150595357"
            ]
          },
          "metadata": {
            "tags": []
          },
          "execution_count": 28
        }
      ]
    },
    {
      "cell_type": "markdown",
      "metadata": {
        "id": "oh63KaOctEp_",
        "colab_type": "text"
      },
      "source": [
        "## 1.2 Find the covariance between last week's sales numbers and the number of customers that entered the store last week: [127, 80, 105, 92, 120, 115, 93] (you may use librray functions for calculating the covariance since we didn't specifically talk about its formula)"
      ]
    },
    {
      "cell_type": "code",
      "metadata": {
        "id": "G7ZB0krot564",
        "colab_type": "code",
        "colab": {
          "base_uri": "https://localhost:8080/",
          "height": 50
        },
        "outputId": "c5c77ba2-d8c0-49f3-df8b-4ab3e873fb11"
      },
      "source": [
        "import pandas as pd\n",
        "import numpy as np\n",
        "\n",
        "\n",
        "sales = [3505, 2400, 3027, 2798, 3700, 3250, 2689]\n",
        "customers = [127, 80, 105, 92, 120, 115, 93]\n",
        "\n",
        "np.cov(sales, customers, ddof=1)\n",
        "\n"
      ],
      "execution_count": 41,
      "outputs": [
        {
          "output_type": "execute_result",
          "data": {
            "text/plain": [
              "array([[214387.9047619 ,   7604.35714286],\n",
              "       [  7604.35714286,    290.95238095]])"
            ]
          },
          "metadata": {
            "tags": []
          },
          "execution_count": 41
        }
      ]
    },
    {
      "cell_type": "markdown",
      "metadata": {
        "id": "J9SbUY9mt66I",
        "colab_type": "text"
      },
      "source": [
        "## 1.3 Find the standard deviation of customers who entered the store last week. Then, use the standard deviations of both sales and customers to standardize the covariance to find the correlation coefficient that summarizes the relationship between sales and customers. (You may use library functions to check your work.)"
      ]
    },
    {
      "cell_type": "code",
      "metadata": {
        "id": "vFJms2YRrKhY",
        "colab_type": "code",
        "colab": {
          "base_uri": "https://localhost:8080/",
          "height": 33
        },
        "outputId": "91bf3bb0-f685-46ab-90e9-92576bee6ff2"
      },
      "source": [
        "\n",
        "#find the mean of customers\n",
        "\n",
        "customers = [127, 80, 105, 92, 120, 115, 93]\n",
        "   \n",
        "total_customers = sum(customers)\n",
        "count_of_customers = len(customers)\n",
        "mean_customers = total_customers / count_of_customers\n",
        "  \n",
        "mean_customers"
      ],
      "execution_count": 33,
      "outputs": [
        {
          "output_type": "execute_result",
          "data": {
            "text/plain": [
              "104.57142857142857"
            ]
          },
          "metadata": {
            "tags": []
          },
          "execution_count": 33
        }
      ]
    },
    {
      "cell_type": "code",
      "metadata": {
        "id": "65MlvqmHNGAL",
        "colab_type": "code",
        "colab": {
          "base_uri": "https://localhost:8080/",
          "height": 33
        },
        "outputId": "70fc9d2b-f0ea-4a3d-96e9-4c7285afe518"
      },
      "source": [
        "# find the variance of the sales\n",
        "\n",
        "difference_from_mean_customers = []\n",
        "\n",
        "for customer in customers:\n",
        "  difference_from_mean_customers.append((customer - mean_customers) ** 2)\n",
        "\n",
        "variance_customers = sum(difference_from_mean_customers) / (len(customers)-1)\n",
        "\n",
        "variance_customers"
      ],
      "execution_count": 34,
      "outputs": [
        {
          "output_type": "execute_result",
          "data": {
            "text/plain": [
              "290.95238095238096"
            ]
          },
          "metadata": {
            "tags": []
          },
          "execution_count": 34
        }
      ]
    },
    {
      "cell_type": "code",
      "metadata": {
        "id": "fNQEgWyrNqUD",
        "colab_type": "code",
        "colab": {
          "base_uri": "https://localhost:8080/",
          "height": 33
        },
        "outputId": "291330c2-6c0b-436c-f972-0844bb2b5d67"
      },
      "source": [
        "# find the standard deviation of the sales\n",
        "\n",
        "standard_deviation_customers = variance_customers ** (1/2)\n",
        "standard_deviation_customers"
      ],
      "execution_count": 35,
      "outputs": [
        {
          "output_type": "execute_result",
          "data": {
            "text/plain": [
              "17.057326313123664"
            ]
          },
          "metadata": {
            "tags": []
          },
          "execution_count": 35
        }
      ]
    },
    {
      "cell_type": "code",
      "metadata": {
        "id": "Vrp_7ZlqNyVT",
        "colab_type": "code",
        "colab": {
          "base_uri": "https://localhost:8080/",
          "height": 33
        },
        "outputId": "98373124-0374-4452-d208-9ecbd4a1a25a"
      },
      "source": [
        "# Find the correlation coefficient of sales and customers\n",
        "\n",
        "# covariance between sales and customers from the above matrix is equal to 7604.35\n",
        "\n",
        "covariance = 7604.35\n",
        "\n",
        "correlation_sales_customers = covariance / (standard_deviation_customers * standard_deviation)\n",
        "\n",
        "correlation_sales_customers"
      ],
      "execution_count": 36,
      "outputs": [
        {
          "output_type": "execute_result",
          "data": {
            "text/plain": [
              "0.9628330734142393"
            ]
          },
          "metadata": {
            "tags": []
          },
          "execution_count": 36
        }
      ]
    },
    {
      "cell_type": "code",
      "metadata": {
        "id": "i-wYUFXSOqzg",
        "colab_type": "code",
        "colab": {
          "base_uri": "https://localhost:8080/",
          "height": 105
        },
        "outputId": "b02d1ede-27f0-4bde-9fa2-84cff8b80a9f"
      },
      "source": [
        "#verify correlation above by numpy\n",
        "\n",
        "sales_customers_df = {\"sales\": sales, \"customers\": customers}\n",
        "\n",
        "df = pd.DataFrame(sales_customers_df)\n",
        "\n",
        "\n",
        "df.corr()"
      ],
      "execution_count": 52,
      "outputs": [
        {
          "output_type": "execute_result",
          "data": {
            "text/html": [
              "<div>\n",
              "<style scoped>\n",
              "    .dataframe tbody tr th:only-of-type {\n",
              "        vertical-align: middle;\n",
              "    }\n",
              "\n",
              "    .dataframe tbody tr th {\n",
              "        vertical-align: top;\n",
              "    }\n",
              "\n",
              "    .dataframe thead th {\n",
              "        text-align: right;\n",
              "    }\n",
              "</style>\n",
              "<table border=\"1\" class=\"dataframe\">\n",
              "  <thead>\n",
              "    <tr style=\"text-align: right;\">\n",
              "      <th></th>\n",
              "      <th>sales</th>\n",
              "      <th>customers</th>\n",
              "    </tr>\n",
              "  </thead>\n",
              "  <tbody>\n",
              "    <tr>\n",
              "      <th>sales</th>\n",
              "      <td>1.000000</td>\n",
              "      <td>0.962834</td>\n",
              "    </tr>\n",
              "    <tr>\n",
              "      <th>customers</th>\n",
              "      <td>0.962834</td>\n",
              "      <td>1.000000</td>\n",
              "    </tr>\n",
              "  </tbody>\n",
              "</table>\n",
              "</div>"
            ],
            "text/plain": [
              "              sales  customers\n",
              "sales      1.000000   0.962834\n",
              "customers  0.962834   1.000000"
            ]
          },
          "metadata": {
            "tags": []
          },
          "execution_count": 52
        }
      ]
    },
    {
      "cell_type": "code",
      "metadata": {
        "id": "rSWFQDtuQLYI",
        "colab_type": "code",
        "colab": {
          "base_uri": "https://localhost:8080/",
          "height": 105
        },
        "outputId": "a6b7a058-8f48-4a8c-ba86-1b64e5b8d47b"
      },
      "source": [
        "#verify covariance by numpy\n",
        "\n",
        "df.cov()"
      ],
      "execution_count": 53,
      "outputs": [
        {
          "output_type": "execute_result",
          "data": {
            "text/html": [
              "<div>\n",
              "<style scoped>\n",
              "    .dataframe tbody tr th:only-of-type {\n",
              "        vertical-align: middle;\n",
              "    }\n",
              "\n",
              "    .dataframe tbody tr th {\n",
              "        vertical-align: top;\n",
              "    }\n",
              "\n",
              "    .dataframe thead th {\n",
              "        text-align: right;\n",
              "    }\n",
              "</style>\n",
              "<table border=\"1\" class=\"dataframe\">\n",
              "  <thead>\n",
              "    <tr style=\"text-align: right;\">\n",
              "      <th></th>\n",
              "      <th>sales</th>\n",
              "      <th>customers</th>\n",
              "    </tr>\n",
              "  </thead>\n",
              "  <tbody>\n",
              "    <tr>\n",
              "      <th>sales</th>\n",
              "      <td>214387.904762</td>\n",
              "      <td>7604.357143</td>\n",
              "    </tr>\n",
              "    <tr>\n",
              "      <th>customers</th>\n",
              "      <td>7604.357143</td>\n",
              "      <td>290.952381</td>\n",
              "    </tr>\n",
              "  </tbody>\n",
              "</table>\n",
              "</div>"
            ],
            "text/plain": [
              "                   sales    customers\n",
              "sales      214387.904762  7604.357143\n",
              "customers    7604.357143   290.952381"
            ]
          },
          "metadata": {
            "tags": []
          },
          "execution_count": 53
        }
      ]
    },
    {
      "cell_type": "markdown",
      "metadata": {
        "id": "IbZVf7nmujPJ",
        "colab_type": "text"
      },
      "source": [
        "## 1.4 Use pandas to import a cleaned version of the titanic dataset from the following link: [Titanic Dataset](https://raw.githubusercontent.com/Geoyi/Cleaning-Titanic-Data/master/titanic_clean.csv)\n",
        "\n",
        "## Calculate the variance-covariance matrix and correlation matrix for the titanic dataset's numeric columns. (you can encode some of the categorical variables and include them as a stretch goal if you finish early)"
      ]
    },
    {
      "cell_type": "code",
      "metadata": {
        "id": "0TWgUIiaCFzq",
        "colab_type": "code",
        "colab": {
          "base_uri": "https://localhost:8080/",
          "height": 191
        },
        "outputId": "d5f9f9a2-e687-46e5-a21c-f876374626bb"
      },
      "source": [
        "# read in Titanic Dataset\n",
        "\n",
        "titanic_df = pd.read_csv('https://raw.githubusercontent.com/Geoyi/Cleaning-Titanic-Data/master/titanic_clean.csv').drop('Unnamed: 0', axis=1)\n",
        "\n",
        "titanic_df.head()"
      ],
      "execution_count": 80,
      "outputs": [
        {
          "output_type": "execute_result",
          "data": {
            "text/html": [
              "<div>\n",
              "<style scoped>\n",
              "    .dataframe tbody tr th:only-of-type {\n",
              "        vertical-align: middle;\n",
              "    }\n",
              "\n",
              "    .dataframe tbody tr th {\n",
              "        vertical-align: top;\n",
              "    }\n",
              "\n",
              "    .dataframe thead th {\n",
              "        text-align: right;\n",
              "    }\n",
              "</style>\n",
              "<table border=\"1\" class=\"dataframe\">\n",
              "  <thead>\n",
              "    <tr style=\"text-align: right;\">\n",
              "      <th></th>\n",
              "      <th>pclass</th>\n",
              "      <th>survived</th>\n",
              "      <th>name</th>\n",
              "      <th>sex</th>\n",
              "      <th>age</th>\n",
              "      <th>sibsp</th>\n",
              "      <th>parch</th>\n",
              "      <th>ticket</th>\n",
              "      <th>fare</th>\n",
              "      <th>cabin</th>\n",
              "      <th>embarked</th>\n",
              "      <th>boat</th>\n",
              "      <th>body</th>\n",
              "      <th>home.dest</th>\n",
              "      <th>has_cabin_number</th>\n",
              "    </tr>\n",
              "  </thead>\n",
              "  <tbody>\n",
              "    <tr>\n",
              "      <th>0</th>\n",
              "      <td>1.0</td>\n",
              "      <td>1.0</td>\n",
              "      <td>Allen, Miss. Elisabeth Walton</td>\n",
              "      <td>female</td>\n",
              "      <td>29.0000</td>\n",
              "      <td>0.0</td>\n",
              "      <td>0.0</td>\n",
              "      <td>24160</td>\n",
              "      <td>211.3375</td>\n",
              "      <td>B5</td>\n",
              "      <td>S</td>\n",
              "      <td>2</td>\n",
              "      <td>NaN</td>\n",
              "      <td>St Louis, MO</td>\n",
              "      <td>1</td>\n",
              "    </tr>\n",
              "    <tr>\n",
              "      <th>1</th>\n",
              "      <td>1.0</td>\n",
              "      <td>1.0</td>\n",
              "      <td>Allison, Master. Hudson Trevor</td>\n",
              "      <td>male</td>\n",
              "      <td>0.9167</td>\n",
              "      <td>1.0</td>\n",
              "      <td>2.0</td>\n",
              "      <td>113781</td>\n",
              "      <td>151.5500</td>\n",
              "      <td>C22 C26</td>\n",
              "      <td>S</td>\n",
              "      <td>11</td>\n",
              "      <td>NaN</td>\n",
              "      <td>Montreal, PQ / Chesterville, ON</td>\n",
              "      <td>1</td>\n",
              "    </tr>\n",
              "    <tr>\n",
              "      <th>2</th>\n",
              "      <td>1.0</td>\n",
              "      <td>0.0</td>\n",
              "      <td>Allison, Miss. Helen Loraine</td>\n",
              "      <td>female</td>\n",
              "      <td>2.0000</td>\n",
              "      <td>1.0</td>\n",
              "      <td>2.0</td>\n",
              "      <td>113781</td>\n",
              "      <td>151.5500</td>\n",
              "      <td>C22 C26</td>\n",
              "      <td>S</td>\n",
              "      <td>NaN</td>\n",
              "      <td>NaN</td>\n",
              "      <td>Montreal, PQ / Chesterville, ON</td>\n",
              "      <td>1</td>\n",
              "    </tr>\n",
              "    <tr>\n",
              "      <th>3</th>\n",
              "      <td>1.0</td>\n",
              "      <td>0.0</td>\n",
              "      <td>Allison, Mr. Hudson Joshua Creighton</td>\n",
              "      <td>male</td>\n",
              "      <td>30.0000</td>\n",
              "      <td>1.0</td>\n",
              "      <td>2.0</td>\n",
              "      <td>113781</td>\n",
              "      <td>151.5500</td>\n",
              "      <td>C22 C26</td>\n",
              "      <td>S</td>\n",
              "      <td>NaN</td>\n",
              "      <td>135.0</td>\n",
              "      <td>Montreal, PQ / Chesterville, ON</td>\n",
              "      <td>1</td>\n",
              "    </tr>\n",
              "    <tr>\n",
              "      <th>4</th>\n",
              "      <td>1.0</td>\n",
              "      <td>0.0</td>\n",
              "      <td>Allison, Mrs. Hudson J C (Bessie Waldo Daniels)</td>\n",
              "      <td>female</td>\n",
              "      <td>25.0000</td>\n",
              "      <td>1.0</td>\n",
              "      <td>2.0</td>\n",
              "      <td>113781</td>\n",
              "      <td>151.5500</td>\n",
              "      <td>C22 C26</td>\n",
              "      <td>S</td>\n",
              "      <td>NaN</td>\n",
              "      <td>NaN</td>\n",
              "      <td>Montreal, PQ / Chesterville, ON</td>\n",
              "      <td>1</td>\n",
              "    </tr>\n",
              "  </tbody>\n",
              "</table>\n",
              "</div>"
            ],
            "text/plain": [
              "   pclass  survived  ...                        home.dest has_cabin_number\n",
              "0     1.0       1.0  ...                     St Louis, MO                1\n",
              "1     1.0       1.0  ...  Montreal, PQ / Chesterville, ON                1\n",
              "2     1.0       0.0  ...  Montreal, PQ / Chesterville, ON                1\n",
              "3     1.0       0.0  ...  Montreal, PQ / Chesterville, ON                1\n",
              "4     1.0       0.0  ...  Montreal, PQ / Chesterville, ON                1\n",
              "\n",
              "[5 rows x 15 columns]"
            ]
          },
          "metadata": {
            "tags": []
          },
          "execution_count": 80
        }
      ]
    },
    {
      "cell_type": "code",
      "metadata": {
        "id": "GWB56pTrQti5",
        "colab_type": "code",
        "colab": {
          "base_uri": "https://localhost:8080/",
          "height": 277
        },
        "outputId": "c174de28-2c8b-4afb-8a9d-04104814b0c6"
      },
      "source": [
        "#find types of columns\n",
        "\n",
        "titanic_df.dtypes"
      ],
      "execution_count": 81,
      "outputs": [
        {
          "output_type": "execute_result",
          "data": {
            "text/plain": [
              "pclass              float64\n",
              "survived            float64\n",
              "name                 object\n",
              "sex                  object\n",
              "age                 float64\n",
              "sibsp               float64\n",
              "parch               float64\n",
              "ticket               object\n",
              "fare                float64\n",
              "cabin                object\n",
              "embarked             object\n",
              "boat                 object\n",
              "body                float64\n",
              "home.dest            object\n",
              "has_cabin_number      int64\n",
              "dtype: object"
            ]
          },
          "metadata": {
            "tags": []
          },
          "execution_count": 81
        }
      ]
    },
    {
      "cell_type": "code",
      "metadata": {
        "id": "vUue6-MVRdxD",
        "colab_type": "code",
        "colab": {
          "base_uri": "https://localhost:8080/",
          "height": 277
        },
        "outputId": "2ee49eb7-d62b-491f-b990-2f1eb1dde06e"
      },
      "source": [
        "#null values\n",
        "\n",
        "titanic_df.isnull().sum()"
      ],
      "execution_count": 82,
      "outputs": [
        {
          "output_type": "execute_result",
          "data": {
            "text/plain": [
              "pclass                 1\n",
              "survived               1\n",
              "name                   1\n",
              "sex                    1\n",
              "age                    0\n",
              "sibsp                  1\n",
              "parch                  1\n",
              "ticket                 1\n",
              "fare                   2\n",
              "cabin               1015\n",
              "embarked               0\n",
              "boat                 824\n",
              "body                1189\n",
              "home.dest            565\n",
              "has_cabin_number       0\n",
              "dtype: int64"
            ]
          },
          "metadata": {
            "tags": []
          },
          "execution_count": 82
        }
      ]
    },
    {
      "cell_type": "markdown",
      "metadata": {
        "id": "e7FhzFkPVP5U",
        "colab_type": "text"
      },
      "source": [
        "## Calculate the variance-covariance matrix and correlation matrix for the titanic dataset's numeric columns. (you can encode some of the categorical variables and include them as a stretch goal if you finish early)"
      ]
    },
    {
      "cell_type": "code",
      "metadata": {
        "id": "QCgr6mpiRx7T",
        "colab_type": "code",
        "colab": {
          "base_uri": "https://localhost:8080/",
          "height": 191
        },
        "outputId": "13df1175-2993-4765-d439-0ee470e404db"
      },
      "source": [
        "numeric_columns = ['pclass', 'survived', 'age', 'sibsp', 'parch', 'fare', 'body', 'has_cabin_number' ]\n",
        "categorical_columns = ['name', 'sex', 'ticket', 'cabin', 'embarked', 'boat', 'home.dest']\n",
        "\n",
        "titanic_numeric_df = titanic_df.drop(categorical_columns, axis=1)\n",
        "\n",
        "titanic_numeric_df.head()\n",
        "\n"
      ],
      "execution_count": 84,
      "outputs": [
        {
          "output_type": "execute_result",
          "data": {
            "text/html": [
              "<div>\n",
              "<style scoped>\n",
              "    .dataframe tbody tr th:only-of-type {\n",
              "        vertical-align: middle;\n",
              "    }\n",
              "\n",
              "    .dataframe tbody tr th {\n",
              "        vertical-align: top;\n",
              "    }\n",
              "\n",
              "    .dataframe thead th {\n",
              "        text-align: right;\n",
              "    }\n",
              "</style>\n",
              "<table border=\"1\" class=\"dataframe\">\n",
              "  <thead>\n",
              "    <tr style=\"text-align: right;\">\n",
              "      <th></th>\n",
              "      <th>pclass</th>\n",
              "      <th>survived</th>\n",
              "      <th>age</th>\n",
              "      <th>sibsp</th>\n",
              "      <th>parch</th>\n",
              "      <th>fare</th>\n",
              "      <th>body</th>\n",
              "      <th>has_cabin_number</th>\n",
              "    </tr>\n",
              "  </thead>\n",
              "  <tbody>\n",
              "    <tr>\n",
              "      <th>0</th>\n",
              "      <td>1.0</td>\n",
              "      <td>1.0</td>\n",
              "      <td>29.0000</td>\n",
              "      <td>0.0</td>\n",
              "      <td>0.0</td>\n",
              "      <td>211.3375</td>\n",
              "      <td>NaN</td>\n",
              "      <td>1</td>\n",
              "    </tr>\n",
              "    <tr>\n",
              "      <th>1</th>\n",
              "      <td>1.0</td>\n",
              "      <td>1.0</td>\n",
              "      <td>0.9167</td>\n",
              "      <td>1.0</td>\n",
              "      <td>2.0</td>\n",
              "      <td>151.5500</td>\n",
              "      <td>NaN</td>\n",
              "      <td>1</td>\n",
              "    </tr>\n",
              "    <tr>\n",
              "      <th>2</th>\n",
              "      <td>1.0</td>\n",
              "      <td>0.0</td>\n",
              "      <td>2.0000</td>\n",
              "      <td>1.0</td>\n",
              "      <td>2.0</td>\n",
              "      <td>151.5500</td>\n",
              "      <td>NaN</td>\n",
              "      <td>1</td>\n",
              "    </tr>\n",
              "    <tr>\n",
              "      <th>3</th>\n",
              "      <td>1.0</td>\n",
              "      <td>0.0</td>\n",
              "      <td>30.0000</td>\n",
              "      <td>1.0</td>\n",
              "      <td>2.0</td>\n",
              "      <td>151.5500</td>\n",
              "      <td>135.0</td>\n",
              "      <td>1</td>\n",
              "    </tr>\n",
              "    <tr>\n",
              "      <th>4</th>\n",
              "      <td>1.0</td>\n",
              "      <td>0.0</td>\n",
              "      <td>25.0000</td>\n",
              "      <td>1.0</td>\n",
              "      <td>2.0</td>\n",
              "      <td>151.5500</td>\n",
              "      <td>NaN</td>\n",
              "      <td>1</td>\n",
              "    </tr>\n",
              "  </tbody>\n",
              "</table>\n",
              "</div>"
            ],
            "text/plain": [
              "   pclass  survived      age  sibsp  parch      fare   body  has_cabin_number\n",
              "0     1.0       1.0  29.0000    0.0    0.0  211.3375    NaN                 1\n",
              "1     1.0       1.0   0.9167    1.0    2.0  151.5500    NaN                 1\n",
              "2     1.0       0.0   2.0000    1.0    2.0  151.5500    NaN                 1\n",
              "3     1.0       0.0  30.0000    1.0    2.0  151.5500  135.0                 1\n",
              "4     1.0       0.0  25.0000    1.0    2.0  151.5500    NaN                 1"
            ]
          },
          "metadata": {
            "tags": []
          },
          "execution_count": 84
        }
      ]
    },
    {
      "cell_type": "code",
      "metadata": {
        "id": "9UOr165KVUCP",
        "colab_type": "code",
        "colab": {
          "base_uri": "https://localhost:8080/",
          "height": 277
        },
        "outputId": "bc5f5dac-be1e-4b5b-aeca-17e7b750b366"
      },
      "source": [
        "#variance-covariance matrix\n",
        "\n",
        "titanic_numeric_df.cov()"
      ],
      "execution_count": 99,
      "outputs": [
        {
          "output_type": "execute_result",
          "data": {
            "text/html": [
              "<div>\n",
              "<style scoped>\n",
              "    .dataframe tbody tr th:only-of-type {\n",
              "        vertical-align: middle;\n",
              "    }\n",
              "\n",
              "    .dataframe tbody tr th {\n",
              "        vertical-align: top;\n",
              "    }\n",
              "\n",
              "    .dataframe thead th {\n",
              "        text-align: right;\n",
              "    }\n",
              "</style>\n",
              "<table border=\"1\" class=\"dataframe\">\n",
              "  <thead>\n",
              "    <tr style=\"text-align: right;\">\n",
              "      <th></th>\n",
              "      <th>pclass</th>\n",
              "      <th>survived</th>\n",
              "      <th>age</th>\n",
              "      <th>sibsp</th>\n",
              "      <th>parch</th>\n",
              "      <th>fare</th>\n",
              "      <th>body</th>\n",
              "      <th>has_cabin_number</th>\n",
              "    </tr>\n",
              "  </thead>\n",
              "  <tbody>\n",
              "    <tr>\n",
              "      <th>pclass</th>\n",
              "      <td>0.701969</td>\n",
              "      <td>-0.127248</td>\n",
              "      <td>-3.954605</td>\n",
              "      <td>0.053090</td>\n",
              "      <td>0.013287</td>\n",
              "      <td>-24.227788</td>\n",
              "      <td>-2.876653</td>\n",
              "      <td>-0.249992</td>\n",
              "    </tr>\n",
              "    <tr>\n",
              "      <th>survived</th>\n",
              "      <td>-0.127248</td>\n",
              "      <td>0.236250</td>\n",
              "      <td>-0.314343</td>\n",
              "      <td>-0.014088</td>\n",
              "      <td>0.034776</td>\n",
              "      <td>6.146023</td>\n",
              "      <td>0.000000</td>\n",
              "      <td>0.061406</td>\n",
              "    </tr>\n",
              "    <tr>\n",
              "      <th>age</th>\n",
              "      <td>-3.954605</td>\n",
              "      <td>-0.314343</td>\n",
              "      <td>165.850021</td>\n",
              "      <td>-2.559806</td>\n",
              "      <td>-1.459378</td>\n",
              "      <td>114.416613</td>\n",
              "      <td>81.622922</td>\n",
              "      <td>1.463138</td>\n",
              "    </tr>\n",
              "    <tr>\n",
              "      <th>sibsp</th>\n",
              "      <td>0.053090</td>\n",
              "      <td>-0.014088</td>\n",
              "      <td>-2.559806</td>\n",
              "      <td>1.085052</td>\n",
              "      <td>0.336833</td>\n",
              "      <td>8.641768</td>\n",
              "      <td>-8.708471</td>\n",
              "      <td>-0.003946</td>\n",
              "    </tr>\n",
              "    <tr>\n",
              "      <th>parch</th>\n",
              "      <td>0.013287</td>\n",
              "      <td>0.034776</td>\n",
              "      <td>-1.459378</td>\n",
              "      <td>0.336833</td>\n",
              "      <td>0.749195</td>\n",
              "      <td>9.928031</td>\n",
              "      <td>4.237190</td>\n",
              "      <td>0.013316</td>\n",
              "    </tr>\n",
              "    <tr>\n",
              "      <th>fare</th>\n",
              "      <td>-24.227788</td>\n",
              "      <td>6.146023</td>\n",
              "      <td>114.416613</td>\n",
              "      <td>8.641768</td>\n",
              "      <td>9.928031</td>\n",
              "      <td>2678.959738</td>\n",
              "      <td>-179.164684</td>\n",
              "      <td>10.976961</td>\n",
              "    </tr>\n",
              "    <tr>\n",
              "      <th>body</th>\n",
              "      <td>-2.876653</td>\n",
              "      <td>0.000000</td>\n",
              "      <td>81.622922</td>\n",
              "      <td>-8.708471</td>\n",
              "      <td>4.237190</td>\n",
              "      <td>-179.164684</td>\n",
              "      <td>9544.688567</td>\n",
              "      <td>3.625689</td>\n",
              "    </tr>\n",
              "    <tr>\n",
              "      <th>has_cabin_number</th>\n",
              "      <td>-0.249992</td>\n",
              "      <td>0.061406</td>\n",
              "      <td>1.463138</td>\n",
              "      <td>-0.003946</td>\n",
              "      <td>0.013316</td>\n",
              "      <td>10.976961</td>\n",
              "      <td>3.625689</td>\n",
              "      <td>0.174613</td>\n",
              "    </tr>\n",
              "  </tbody>\n",
              "</table>\n",
              "</div>"
            ],
            "text/plain": [
              "                     pclass  survived  ...         body  has_cabin_number\n",
              "pclass             0.701969 -0.127248  ...    -2.876653         -0.249992\n",
              "survived          -0.127248  0.236250  ...     0.000000          0.061406\n",
              "age               -3.954605 -0.314343  ...    81.622922          1.463138\n",
              "sibsp              0.053090 -0.014088  ...    -8.708471         -0.003946\n",
              "parch              0.013287  0.034776  ...     4.237190          0.013316\n",
              "fare             -24.227788  6.146023  ...  -179.164684         10.976961\n",
              "body              -2.876653  0.000000  ...  9544.688567          3.625689\n",
              "has_cabin_number  -0.249992  0.061406  ...     3.625689          0.174613\n",
              "\n",
              "[8 rows x 8 columns]"
            ]
          },
          "metadata": {
            "tags": []
          },
          "execution_count": 99
        }
      ]
    },
    {
      "cell_type": "code",
      "metadata": {
        "id": "2TsdrNexVpvU",
        "colab_type": "code",
        "colab": {
          "base_uri": "https://localhost:8080/",
          "height": 277
        },
        "outputId": "6a06bd9f-b594-48fc-bfd7-540985bf7a53"
      },
      "source": [
        "#correlation matrix\n",
        "\n",
        "titanic_numeric_df.corr()"
      ],
      "execution_count": 100,
      "outputs": [
        {
          "output_type": "execute_result",
          "data": {
            "text/html": [
              "<div>\n",
              "<style scoped>\n",
              "    .dataframe tbody tr th:only-of-type {\n",
              "        vertical-align: middle;\n",
              "    }\n",
              "\n",
              "    .dataframe tbody tr th {\n",
              "        vertical-align: top;\n",
              "    }\n",
              "\n",
              "    .dataframe thead th {\n",
              "        text-align: right;\n",
              "    }\n",
              "</style>\n",
              "<table border=\"1\" class=\"dataframe\">\n",
              "  <thead>\n",
              "    <tr style=\"text-align: right;\">\n",
              "      <th></th>\n",
              "      <th>pclass</th>\n",
              "      <th>survived</th>\n",
              "      <th>age</th>\n",
              "      <th>sibsp</th>\n",
              "      <th>parch</th>\n",
              "      <th>fare</th>\n",
              "      <th>body</th>\n",
              "      <th>has_cabin_number</th>\n",
              "    </tr>\n",
              "  </thead>\n",
              "  <tbody>\n",
              "    <tr>\n",
              "      <th>pclass</th>\n",
              "      <td>1.000000</td>\n",
              "      <td>-0.312469</td>\n",
              "      <td>-0.366370</td>\n",
              "      <td>0.060832</td>\n",
              "      <td>0.018322</td>\n",
              "      <td>-0.558629</td>\n",
              "      <td>-0.034642</td>\n",
              "      <td>-0.713857</td>\n",
              "    </tr>\n",
              "    <tr>\n",
              "      <th>survived</th>\n",
              "      <td>-0.312469</td>\n",
              "      <td>1.000000</td>\n",
              "      <td>-0.050199</td>\n",
              "      <td>-0.027825</td>\n",
              "      <td>0.082660</td>\n",
              "      <td>0.244265</td>\n",
              "      <td>NaN</td>\n",
              "      <td>0.302250</td>\n",
              "    </tr>\n",
              "    <tr>\n",
              "      <th>age</th>\n",
              "      <td>-0.366370</td>\n",
              "      <td>-0.050199</td>\n",
              "      <td>1.000000</td>\n",
              "      <td>-0.190747</td>\n",
              "      <td>-0.130872</td>\n",
              "      <td>0.171892</td>\n",
              "      <td>0.059059</td>\n",
              "      <td>0.271887</td>\n",
              "    </tr>\n",
              "    <tr>\n",
              "      <th>sibsp</th>\n",
              "      <td>0.060832</td>\n",
              "      <td>-0.027825</td>\n",
              "      <td>-0.190747</td>\n",
              "      <td>1.000000</td>\n",
              "      <td>0.373587</td>\n",
              "      <td>0.160238</td>\n",
              "      <td>-0.099961</td>\n",
              "      <td>-0.009064</td>\n",
              "    </tr>\n",
              "    <tr>\n",
              "      <th>parch</th>\n",
              "      <td>0.018322</td>\n",
              "      <td>0.082660</td>\n",
              "      <td>-0.130872</td>\n",
              "      <td>0.373587</td>\n",
              "      <td>1.000000</td>\n",
              "      <td>0.221539</td>\n",
              "      <td>0.051099</td>\n",
              "      <td>0.036806</td>\n",
              "    </tr>\n",
              "    <tr>\n",
              "      <th>fare</th>\n",
              "      <td>-0.558629</td>\n",
              "      <td>0.244265</td>\n",
              "      <td>0.171892</td>\n",
              "      <td>0.160238</td>\n",
              "      <td>0.221539</td>\n",
              "      <td>1.000000</td>\n",
              "      <td>-0.043110</td>\n",
              "      <td>0.507253</td>\n",
              "    </tr>\n",
              "    <tr>\n",
              "      <th>body</th>\n",
              "      <td>-0.034642</td>\n",
              "      <td>NaN</td>\n",
              "      <td>0.059059</td>\n",
              "      <td>-0.099961</td>\n",
              "      <td>0.051099</td>\n",
              "      <td>-0.043110</td>\n",
              "      <td>1.000000</td>\n",
              "      <td>0.083796</td>\n",
              "    </tr>\n",
              "    <tr>\n",
              "      <th>has_cabin_number</th>\n",
              "      <td>-0.713857</td>\n",
              "      <td>0.302250</td>\n",
              "      <td>0.271887</td>\n",
              "      <td>-0.009064</td>\n",
              "      <td>0.036806</td>\n",
              "      <td>0.507253</td>\n",
              "      <td>0.083796</td>\n",
              "      <td>1.000000</td>\n",
              "    </tr>\n",
              "  </tbody>\n",
              "</table>\n",
              "</div>"
            ],
            "text/plain": [
              "                    pclass  survived  ...      body  has_cabin_number\n",
              "pclass            1.000000 -0.312469  ... -0.034642         -0.713857\n",
              "survived         -0.312469  1.000000  ...       NaN          0.302250\n",
              "age              -0.366370 -0.050199  ...  0.059059          0.271887\n",
              "sibsp             0.060832 -0.027825  ... -0.099961         -0.009064\n",
              "parch             0.018322  0.082660  ...  0.051099          0.036806\n",
              "fare             -0.558629  0.244265  ... -0.043110          0.507253\n",
              "body             -0.034642       NaN  ...  1.000000          0.083796\n",
              "has_cabin_number -0.713857  0.302250  ...  0.083796          1.000000\n",
              "\n",
              "[8 rows x 8 columns]"
            ]
          },
          "metadata": {
            "tags": []
          },
          "execution_count": 100
        }
      ]
    },
    {
      "cell_type": "markdown",
      "metadata": {
        "id": "7K0Xfh8MvYkl",
        "colab_type": "text"
      },
      "source": [
        "# Orthogonality"
      ]
    },
    {
      "cell_type": "markdown",
      "metadata": {
        "id": "Pe3eOZ2fvdZ-",
        "colab_type": "text"
      },
      "source": [
        "## 2.1 Plot two vectors that are orthogonal to each other. What is a synonym for orthogonal?"
      ]
    },
    {
      "cell_type": "code",
      "metadata": {
        "id": "YLSBk7hJvvCx",
        "colab_type": "code",
        "colab": {
          "base_uri": "https://localhost:8080/",
          "height": 281
        },
        "outputId": "c84113a1-fd3a-4e54-e6a9-f5013cb62a40"
      },
      "source": [
        "import matplotlib.pyplot as plt\n",
        "\n",
        "vector_a = [5, 0]\n",
        "vector_b = [0, 5]\n",
        "\n",
        "plt.arrow(0, 0, vector_a[0], vector_a[1], head_width=.25, head_length=.25, color='red')\n",
        "plt.arrow(0, 0, vector_b[0], vector_b[1], head_width=.25, head_length=.25, color='blue')\n",
        "plt.xlim(-2,8)\n",
        "plt.ylim(-2,8)\n",
        "plt.title('Orthogonal Vectors')\n",
        "plt.show()"
      ],
      "execution_count": 104,
      "outputs": [
        {
          "output_type": "display_data",
          "data": {
            "image/png": "[encoded data removed]",
            "text/plain": [
              "<Figure size 432x288 with 1 Axes>"
            ]
          },
          "metadata": {
            "tags": []
          }
        }
      ]
    },
    {
      "cell_type": "markdown",
      "metadata": {
        "id": "7AS4V1Nhvvxz",
        "colab_type": "text"
      },
      "source": [
        "## 2.2 Are the following vectors orthogonal? Why or why not?\n",
        "\n",
        "\\begin{align}\n",
        "a = \\begin{bmatrix} -5 \\\\ 3 \\\\ 7 \\end{bmatrix}\n",
        "\\qquad\n",
        "b = \\begin{bmatrix} 6 \\\\ -8 \\\\ 2 \\end{bmatrix}\n",
        "\\end{align}"
      ]
    },
    {
      "cell_type": "code",
      "metadata": {
        "id": "F_-y54YSz47k",
        "colab_type": "code",
        "colab": {}
      },
      "source": [
        ""
      ],
      "execution_count": 0,
      "outputs": []
    },
    {
      "cell_type": "markdown",
      "metadata": {
        "id": "MiNjyqiEz5SG",
        "colab_type": "text"
      },
      "source": [
        "## 2.3 Compute the following values: What do these quantities have in common?\n",
        "\n",
        "## What is $||c||^2$? \n",
        "\n",
        "## What is $c \\cdot c$? \n",
        "\n",
        "## What is $c^{T}c$?\n",
        "\n",
        "\\begin{align}\n",
        "c = \\begin{bmatrix} 2 & -15 & 6 & 20 \\end{bmatrix}\n",
        "\\end{align}"
      ]
    },
    {
      "cell_type": "code",
      "metadata": {
        "id": "IlV_uaYK1EQB",
        "colab_type": "code",
        "colab": {}
      },
      "source": [
        ""
      ],
      "execution_count": 0,
      "outputs": []
    },
    {
      "cell_type": "markdown",
      "metadata": {
        "id": "MK_TpWqk1Evk",
        "colab_type": "text"
      },
      "source": [
        "# Unit Vectors"
      ]
    },
    {
      "cell_type": "markdown",
      "metadata": {
        "id": "Kpit6WWO1b8l",
        "colab_type": "text"
      },
      "source": [
        "## 3.1 Using Latex, write the following vectors as a linear combination of scalars and unit vectors:\n",
        "\n",
        "\\begin{align}\n",
        "d = \\begin{bmatrix} 7 \\\\ 12 \\end{bmatrix}\n",
        "\\qquad\n",
        "e = \\begin{bmatrix} 2 \\\\ 11 \\\\ -8  \\end{bmatrix}\n",
        "\\end{align}"
      ]
    },
    {
      "cell_type": "markdown",
      "metadata": {
        "id": "oBCj1sDW2ouC",
        "colab_type": "text"
      },
      "source": [
        "Your text here"
      ]
    },
    {
      "cell_type": "markdown",
      "metadata": {
        "id": "dAdUQuep1_yJ",
        "colab_type": "text"
      },
      "source": [
        "## 3.2 Turn vector $f$ into a unit vector:\n",
        "\n",
        "\\begin{align}\n",
        "f = \\begin{bmatrix} 4 & 12 & 11 & 9 & 2 \\end{bmatrix}\n",
        "\\end{align}"
      ]
    },
    {
      "cell_type": "code",
      "metadata": {
        "id": "I3W8ZiHR1_Fa",
        "colab_type": "code",
        "colab": {}
      },
      "source": [
        ""
      ],
      "execution_count": 0,
      "outputs": []
    },
    {
      "cell_type": "markdown",
      "metadata": {
        "id": "o39UyP-I5lpP",
        "colab_type": "text"
      },
      "source": [
        "# Linear Independence / Dependence "
      ]
    },
    {
      "cell_type": "markdown",
      "metadata": {
        "id": "ajfBqYe45sT5",
        "colab_type": "text"
      },
      "source": [
        "## 4.1 Plot two vectors that are linearly dependent and two vectors that are linearly independent (bonus points if done in $\\mathbb{R}^3$)."
      ]
    },
    {
      "cell_type": "markdown",
      "metadata": {
        "id": "TrJ0MT_n3SvO",
        "colab_type": "text"
      },
      "source": [
        "# Span"
      ]
    },
    {
      "cell_type": "markdown",
      "metadata": {
        "id": "86iXLzwM2z8l",
        "colab_type": "text"
      },
      "source": [
        "## 5.1 What is the span of the following vectors?\n",
        "\n",
        "\\begin{align}\n",
        "g = \\begin{bmatrix} 1 & 2 \\end{bmatrix}\n",
        "\\qquad\n",
        "h = \\begin{bmatrix} 4 & 8 \\end{bmatrix}\n",
        "\\end{align}"
      ]
    },
    {
      "cell_type": "code",
      "metadata": {
        "id": "G2LK2RWL39Q4",
        "colab_type": "code",
        "colab": {}
      },
      "source": [
        ""
      ],
      "execution_count": 0,
      "outputs": []
    },
    {
      "cell_type": "markdown",
      "metadata": {
        "id": "l1deylUj4IHH",
        "colab_type": "text"
      },
      "source": [
        "## 5.2 What is the span of $\\{l, m, n\\}$?\n",
        "\n",
        "\\begin{align}\n",
        "l = \\begin{bmatrix} 1 & 2 & 3 \\end{bmatrix}\n",
        "\\qquad\n",
        "m = \\begin{bmatrix} -1 & 0 & 7 \\end{bmatrix}\n",
        "\\qquad\n",
        "n = \\begin{bmatrix} 4 & 8  & 2\\end{bmatrix}\n",
        "\\end{align}"
      ]
    },
    {
      "cell_type": "code",
      "metadata": {
        "id": "p1i_ueD25ZcP",
        "colab_type": "code",
        "colab": {}
      },
      "source": [
        ""
      ],
      "execution_count": 0,
      "outputs": []
    },
    {
      "cell_type": "markdown",
      "metadata": {
        "id": "IBqe7X1732kX",
        "colab_type": "text"
      },
      "source": [
        "# Basis"
      ]
    },
    {
      "cell_type": "markdown",
      "metadata": {
        "id": "YeUZVHRM6PpT",
        "colab_type": "text"
      },
      "source": [
        "## 6.1 Graph two vectors that form a basis for $\\mathbb{R}^2$\n",
        "\n"
      ]
    },
    {
      "cell_type": "code",
      "metadata": {
        "id": "utvF3Pkt8NP6",
        "colab_type": "code",
        "colab": {}
      },
      "source": [
        ""
      ],
      "execution_count": 0,
      "outputs": []
    },
    {
      "cell_type": "markdown",
      "metadata": {
        "id": "20yPFBDUxxnS",
        "colab_type": "text"
      },
      "source": [
        "## 6.2 What does it mean to form a basis?"
      ]
    },
    {
      "cell_type": "markdown",
      "metadata": {
        "id": "3w4tEayT8M0o",
        "colab_type": "text"
      },
      "source": [
        ""
      ]
    },
    {
      "cell_type": "markdown",
      "metadata": {
        "id": "EHmUxbcY6vD3",
        "colab_type": "text"
      },
      "source": [
        "# Rank"
      ]
    },
    {
      "cell_type": "markdown",
      "metadata": {
        "id": "IpJwt9kw6v8U",
        "colab_type": "text"
      },
      "source": [
        "## 7.1 What is the Rank of P?\n",
        "\n",
        "\\begin{align}\n",
        "P = \\begin{bmatrix} \n",
        "1 & 2 & 3 \\\\\n",
        " -1 & 0 & 7 \\\\\n",
        "4 & 8  & 2\n",
        "\\end{bmatrix}\n",
        "\\end{align}"
      ]
    },
    {
      "cell_type": "markdown",
      "metadata": {
        "id": "jGqFMBYY7mHD",
        "colab_type": "text"
      },
      "source": [
        "## 7.2 What does the rank of a matrix tell us?"
      ]
    },
    {
      "cell_type": "markdown",
      "metadata": {
        "id": "Vjg1IiCD8nnP",
        "colab_type": "text"
      },
      "source": [
        ""
      ]
    },
    {
      "cell_type": "markdown",
      "metadata": {
        "id": "0Db2sc_V8QD6",
        "colab_type": "text"
      },
      "source": [
        "# Linear Projections\n",
        "\n",
        "## 8.1 Line $L$ is formed by all of the vectors that can be created by scaling vector $v$ \n",
        "\\begin{align}\n",
        "v = \\begin{bmatrix} 1 & 3 \\end{bmatrix}\n",
        "\\end{align}\n",
        "\n",
        "\\begin{align}\n",
        "w = \\begin{bmatrix} -1 & 2 \\end{bmatrix}\n",
        "\\end{align}\n",
        "\n",
        "## find $proj_{L}(w)$\n",
        "\n",
        "## graph your projected vector to check your work (make sure your axis are square/even)"
      ]
    },
    {
      "cell_type": "code",
      "metadata": {
        "id": "hp5z2WTBCNKx",
        "colab_type": "code",
        "colab": {}
      },
      "source": [
        ""
      ],
      "execution_count": 0,
      "outputs": []
    },
    {
      "cell_type": "markdown",
      "metadata": {
        "id": "TKkrPwRM-Oar",
        "colab_type": "text"
      },
      "source": [
        "# Stretch Goal\n",
        "\n",
        "## For vectors that begin at the origin, the coordinates of where the vector ends can be interpreted as regular data points. (See 3Blue1Brown videos about Spans, Basis, etc.)\n",
        "\n",
        "## Write a function that can calculate the linear projection of each point (x,y) (vector) onto the line y=x. run the function and plot the original points in blue and the new projected points on the line y=x in red. \n",
        "\n",
        "## For extra points plot the orthogonal vectors as a dashed line from the original blue points to the projected red points."
      ]
    },
    {
      "cell_type": "code",
      "metadata": {
        "id": "cp52kZra-ykj",
        "colab_type": "code",
        "outputId": "12502200-eafe-4e20-bfb7-2d539c6027cb",
        "colab": {
          "base_uri": "https://localhost:8080/",
          "height": 347
        }
      },
      "source": [
        "import pandas as pd\n",
        "import matplotlib.pyplot as plt\n",
        "\n",
        "# Creating a dataframe for you to work with -Feel free to not use the dataframe if you don't want to.\n",
        "x_values = [1, 4, 7, 3, 9, 4, 5 ]\n",
        "y_values = [4, 2, 5, 0, 8, 2, 8]\n",
        "\n",
        "data = {\"x\": x_values, \"y\": y_values}\n",
        "\n",
        "df = pd.DataFrame(data)\n",
        "\n",
        "df.head()\n",
        "\n",
        "plt.scatter(df.x, df.y)\n",
        "plt.show()"
      ],
      "execution_count": 0,
      "outputs": [
        {
          "output_type": "display_data",
          "data": {
            "image/png": "[encoded data removed]",
            "text/plain": [
              "<matplotlib.figure.Figure at 0x7f787cfb2978>"
            ]
          },
          "metadata": {
            "tags": []
          }
        }
      ]
    },
    {
      "cell_type": "code",
      "metadata": {
        "id": "EZTA6Tj6BGDb",
        "colab_type": "code",
        "colab": {}
      },
      "source": [
        ""
      ],
      "execution_count": 0,
      "outputs": []
    }
  ]
}