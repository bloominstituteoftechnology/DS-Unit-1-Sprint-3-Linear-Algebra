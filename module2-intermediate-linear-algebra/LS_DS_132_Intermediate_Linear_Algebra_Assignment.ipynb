{
  "nbformat": 4,
  "nbformat_minor": 0,
  "metadata": {
    "colab": {
      "name": "Copy of LS_DS_132_Intermediate_Linear_Algebra_Assignment.ipynb",
      "provenance": [],
      "collapsed_sections": [],
      "include_colab_link": true
    },
    "kernelspec": {
      "name": "python3",
      "display_name": "Python 3"
    }
  },
  "cells": [
    {
      "cell_type": "markdown",
      "metadata": {
        "id": "view-in-github",
        "colab_type": "text"
      },
      "source": [
        "<a href=\"https://colab.research.google.com/github/karencfisher/DS-Unit-1-Sprint-3-Linear-Algebra/blob/master/module2-intermediate-linear-algebra/LS_DS_132_Intermediate_Linear_Algebra_Assignment.ipynb\" target=\"_parent\"><img src=\"https://colab.research.google.com/assets/colab-badge.svg\" alt=\"Open In Colab\"/></a>"
      ]
    },
    {
      "cell_type": "markdown",
      "metadata": {
        "id": "GSNiYn8lr6nN",
        "colab_type": "text"
      },
      "source": [
        "# Statistics"
      ]
    },
    {
      "cell_type": "code",
      "metadata": {
        "id": "KSajNyBXJ-Ag",
        "colab_type": "code",
        "colab": {}
      },
      "source": [
        "import numpy as np\n",
        "import pandas as pd\n",
        "import matplotlib.pyplot as plt\n"
      ],
      "execution_count": 0,
      "outputs": []
    },
    {
      "cell_type": "markdown",
      "metadata": {
        "id": "3d4izUhQvh2_",
        "colab_type": "text"
      },
      "source": [
        "## 1.1 Sales for the past week was the following amounts: [3505, 2400, 3027, 2798, 3700, 3250, 2689]. Without using library functions, what is the mean, variance, and standard deviation of of sales from last week? (for extra bonus points, write your own function that can calculate these two values for any sized list)"
      ]
    },
    {
      "cell_type": "code",
      "metadata": {
        "id": "w1iZfYvBtEA1",
        "colab_type": "code",
        "colab": {}
      },
      "source": [
        "def mvs(data):\n",
        "  '''\n",
        "  Calculate mean, variance, and standard deviation for an array.\n",
        "  \n",
        "  input: the array\n",
        "  output: dictionary with mean, variation, and standard deviation\n",
        "  '''\n",
        "\n",
        "  # size of array and mean\n",
        "  n = len(data)\n",
        "  mean = sum(data) / n\n",
        "\n",
        "  # variance and standard deviation\n",
        "  sq_differences = [(value - mean)**2 for value in data]\n",
        "  variance = sum(sq_differences) / (n - 1)\n",
        "  std = variance ** 0.5\n",
        "\n",
        "  # package up the results\n",
        "  results = {'mean': mean, 'variance': variance, 'standard_deviation': std}\n",
        "  return results"
      ],
      "execution_count": 0,
      "outputs": []
    },
    {
      "cell_type": "code",
      "metadata": {
        "id": "sXb1QNPgVjSu",
        "colab_type": "code",
        "outputId": "8ba66d30-49b7-4339-ea9d-b112909d02b5",
        "colab": {
          "base_uri": "https://localhost:8080/",
          "height": 85
        }
      },
      "source": [
        "sales = [3505, 2400, 3027, 2798, 3700, 3250, 2689]\n",
        "sales_stats = mvs(sales)\n",
        "pd.Series(sales_stats)"
      ],
      "execution_count": 3,
      "outputs": [
        {
          "output_type": "execute_result",
          "data": {
            "text/plain": [
              "mean                    3052.714286\n",
              "variance              214387.904762\n",
              "standard_deviation       463.020415\n",
              "dtype: float64"
            ]
          },
          "metadata": {
            "tags": []
          },
          "execution_count": 3
        }
      ]
    },
    {
      "cell_type": "markdown",
      "metadata": {
        "id": "oh63KaOctEp_",
        "colab_type": "text"
      },
      "source": [
        "## 1.2 Find the covariance between last week's sales numbers and the number of customers that entered the store last week: [127, 80, 105, 92, 120, 115, 93] (you may use library functions for calculating the covariance since we didn't specifically talk about its formula)"
      ]
    },
    {
      "cell_type": "markdown",
      "metadata": {
        "id": "nyRNM0GiQD2j",
        "colab_type": "text"
      },
      "source": [
        "Since I do know the formula, I'll write my own function (purely in Python alone) and check my results against the library function."
      ]
    },
    {
      "cell_type": "code",
      "metadata": {
        "id": "G7ZB0krot564",
        "colab_type": "code",
        "colab": {}
      },
      "source": [
        "def covariance(data):\n",
        "  '''\n",
        "  Calculates variances/covariances between arrays\n",
        "\n",
        "  input: list of arrays\n",
        "  output: variance-covariance matrix\n",
        "  '''\n",
        "\n",
        "  # Get mean and standard deviations for each array and make parallel list\n",
        "  data_mvs = []\n",
        "  size = len(data[0])\n",
        "  for item in data:\n",
        "    # Verify the size of each array is equal to the first array's size\n",
        "    assert len(item) == size, f'Array index {data.index(item)} is of different \\\n",
        "                                length.'   \n",
        "    data_mvs.append(mvs(item))\n",
        "\n",
        "  # calculate covariance/variation of each permutation of the two arrays\n",
        "  # building the matrix\n",
        "  matrix = []\n",
        "  for i in range(len(data)):\n",
        "    row = []\n",
        "    for j in range(len(data)):\n",
        "      # Find covariance\n",
        "      prod = [(data[i][x] - data_mvs[i]['mean']) * (data[j][x] - \\\n",
        "                              data_mvs[j]['mean']) for x in range(len(data[i]))]\n",
        "      cov = sum(prod) / (len(data[i]) - 1)\n",
        "      row.append(cov)\n",
        "    matrix.append(row)\n",
        "\n",
        "  return matrix"
      ],
      "execution_count": 0,
      "outputs": []
    },
    {
      "cell_type": "code",
      "metadata": {
        "id": "l26FcsUmbkas",
        "colab_type": "code",
        "colab": {}
      },
      "source": [
        "customers = [127, 80, 105, 92, 120, 115, 93]\n"
      ],
      "execution_count": 0,
      "outputs": []
    },
    {
      "cell_type": "code",
      "metadata": {
        "id": "tEVMb-V7f1tn",
        "colab_type": "code",
        "outputId": "7ceb737a-1aca-4fc1-b6d6-3343a83ee661",
        "colab": {
          "base_uri": "https://localhost:8080/",
          "height": 295
        }
      },
      "source": [
        "# See what we may expect\n",
        "plt.scatter(customers, sales)\n",
        "plt.xlabel('Customers')\n",
        "plt.ylabel('Sales')\n",
        "plt.title('Sales by customers');"
      ],
      "execution_count": 6,
      "outputs": [
        {
          "output_type": "display_data",
          "data": {
            "image/png": "[encoded data removed]",
            "text/plain": [
              "<Figure size 432x288 with 1 Axes>"
            ]
          },
          "metadata": {
            "tags": [],
            "needs_background": "light"
          }
        }
      ]
    },
    {
      "cell_type": "code",
      "metadata": {
        "id": "tGDjng6erzNc",
        "colab_type": "code",
        "outputId": "408700dc-059b-47a2-8695-dec728ea8577",
        "colab": {
          "base_uri": "https://localhost:8080/",
          "height": 111
        }
      },
      "source": [
        "# My function for variance-covariance\n",
        "covar = covariance([sales, customers])\n",
        "pd.DataFrame(covar)"
      ],
      "execution_count": 7,
      "outputs": [
        {
          "output_type": "execute_result",
          "data": {
            "text/html": [
              "<div>\n",
              "<style scoped>\n",
              "    .dataframe tbody tr th:only-of-type {\n",
              "        vertical-align: middle;\n",
              "    }\n",
              "\n",
              "    .dataframe tbody tr th {\n",
              "        vertical-align: top;\n",
              "    }\n",
              "\n",
              "    .dataframe thead th {\n",
              "        text-align: right;\n",
              "    }\n",
              "</style>\n",
              "<table border=\"1\" class=\"dataframe\">\n",
              "  <thead>\n",
              "    <tr style=\"text-align: right;\">\n",
              "      <th></th>\n",
              "      <th>0</th>\n",
              "      <th>1</th>\n",
              "    </tr>\n",
              "  </thead>\n",
              "  <tbody>\n",
              "    <tr>\n",
              "      <th>0</th>\n",
              "      <td>214387.904762</td>\n",
              "      <td>7604.357143</td>\n",
              "    </tr>\n",
              "    <tr>\n",
              "      <th>1</th>\n",
              "      <td>7604.357143</td>\n",
              "      <td>290.952381</td>\n",
              "    </tr>\n",
              "  </tbody>\n",
              "</table>\n",
              "</div>"
            ],
            "text/plain": [
              "               0            1\n",
              "0  214387.904762  7604.357143\n",
              "1    7604.357143   290.952381"
            ]
          },
          "metadata": {
            "tags": []
          },
          "execution_count": 7
        }
      ]
    },
    {
      "cell_type": "code",
      "metadata": {
        "id": "aXmtixK4ckDA",
        "colab_type": "code",
        "outputId": "93ef9db5-dd93-4e7f-9bf1-bc04b8fb6628",
        "colab": {
          "base_uri": "https://localhost:8080/",
          "height": 111
        }
      },
      "source": [
        "# Compare with library function from Numpy\n",
        "pd.DataFrame(np.cov(sales, customers))"
      ],
      "execution_count": 8,
      "outputs": [
        {
          "output_type": "execute_result",
          "data": {
            "text/html": [
              "<div>\n",
              "<style scoped>\n",
              "    .dataframe tbody tr th:only-of-type {\n",
              "        vertical-align: middle;\n",
              "    }\n",
              "\n",
              "    .dataframe tbody tr th {\n",
              "        vertical-align: top;\n",
              "    }\n",
              "\n",
              "    .dataframe thead th {\n",
              "        text-align: right;\n",
              "    }\n",
              "</style>\n",
              "<table border=\"1\" class=\"dataframe\">\n",
              "  <thead>\n",
              "    <tr style=\"text-align: right;\">\n",
              "      <th></th>\n",
              "      <th>0</th>\n",
              "      <th>1</th>\n",
              "    </tr>\n",
              "  </thead>\n",
              "  <tbody>\n",
              "    <tr>\n",
              "      <th>0</th>\n",
              "      <td>214387.904762</td>\n",
              "      <td>7604.357143</td>\n",
              "    </tr>\n",
              "    <tr>\n",
              "      <th>1</th>\n",
              "      <td>7604.357143</td>\n",
              "      <td>290.952381</td>\n",
              "    </tr>\n",
              "  </tbody>\n",
              "</table>\n",
              "</div>"
            ],
            "text/plain": [
              "               0            1\n",
              "0  214387.904762  7604.357143\n",
              "1    7604.357143   290.952381"
            ]
          },
          "metadata": {
            "tags": []
          },
          "execution_count": 8
        }
      ]
    },
    {
      "cell_type": "markdown",
      "metadata": {
        "id": "J9SbUY9mt66I",
        "colab_type": "text"
      },
      "source": [
        "## 1.3 Find the standard deviation of customers who entered the store last week. Then, use the standard deviations of both sales and customers to standardize the covariance to find the correlation coefficient that summarizes the relationship between sales and customers. (You may use library functions to check your work.)"
      ]
    },
    {
      "cell_type": "code",
      "metadata": {
        "id": "vFJms2YRrKhY",
        "colab_type": "code",
        "outputId": "c6958fe6-8852-4f67-f48d-6b2b09065b21",
        "colab": {
          "base_uri": "https://localhost:8080/",
          "height": 34
        }
      },
      "source": [
        "customer_stats = mvs(customers)\n",
        "r = covar[0][1] / (sales_stats['standard_deviation'] * \\\n",
        "                             customer_stats['standard_deviation'])\n",
        "print(f\"Correlation = {r}\")"
      ],
      "execution_count": 9,
      "outputs": [
        {
          "output_type": "stream",
          "text": [
            "Correlation = 0.9628339778148909\n"
          ],
          "name": "stdout"
        }
      ]
    },
    {
      "cell_type": "markdown",
      "metadata": {
        "id": "TFFHBG2WQURA",
        "colab_type": "text"
      },
      "source": [
        "I'll write a function to generate a correlation matrix as well (good practice -- also w/o library functions, just Python)."
      ]
    },
    {
      "cell_type": "code",
      "metadata": {
        "id": "LKvvTWikgD0N",
        "colab_type": "code",
        "colab": {}
      },
      "source": [
        "def correlation(data):\n",
        "  '''\n",
        "  Calculates correlations between arrays\n",
        "\n",
        "  input: list of arrays\n",
        "  output: variance-covariance matrix\n",
        "  '''\n",
        "\n",
        "  # Get mean and standard deviations for each array and make parallel list\n",
        "  data_mvs = []\n",
        "  size = len(data[0])\n",
        "  for item in data:\n",
        "    # Verify the size of each array is equal to the first array's size\n",
        "    assert len(item) == size, f'Array index {data.index(item)} is of different \\\n",
        "                                length.'                                               \n",
        "    data_mvs.append(mvs(item))\n",
        "\n",
        "  # calculate correlations of each permutation of the two arrays, building \n",
        "  # the matrix\n",
        "  matrix = []\n",
        "  for i in range(len(data)):\n",
        "    row = []\n",
        "    for j in range(len(data)):\n",
        "      # covariance\n",
        "      prod = [(data[i][x] - data_mvs[i]['mean']) * (data[j][x] - \\\n",
        "                              data_mvs[j]['mean']) for x in range(len(data[i]))]\n",
        "      cov = sum(prod) / (len(data[i]) - 1)\n",
        "      # correlation\n",
        "      r = cov / (data_mvs[i]['standard_deviation'] * data_mvs[j]['standard_deviation'])\n",
        "      row.append(r)\n",
        "    matrix.append(row)\n",
        "\n",
        "  return matrix\n"
      ],
      "execution_count": 0,
      "outputs": []
    },
    {
      "cell_type": "code",
      "metadata": {
        "id": "NOs16ASDkx0A",
        "colab_type": "code",
        "outputId": "602e56e5-10aa-4405-9b5e-35639ae15cbe",
        "colab": {
          "base_uri": "https://localhost:8080/",
          "height": 111
        }
      },
      "source": [
        "# My function\n",
        "corr = correlation([sales, customers])\n",
        "pd.DataFrame(corr)"
      ],
      "execution_count": 11,
      "outputs": [
        {
          "output_type": "execute_result",
          "data": {
            "text/html": [
              "<div>\n",
              "<style scoped>\n",
              "    .dataframe tbody tr th:only-of-type {\n",
              "        vertical-align: middle;\n",
              "    }\n",
              "\n",
              "    .dataframe tbody tr th {\n",
              "        vertical-align: top;\n",
              "    }\n",
              "\n",
              "    .dataframe thead th {\n",
              "        text-align: right;\n",
              "    }\n",
              "</style>\n",
              "<table border=\"1\" class=\"dataframe\">\n",
              "  <thead>\n",
              "    <tr style=\"text-align: right;\">\n",
              "      <th></th>\n",
              "      <th>0</th>\n",
              "      <th>1</th>\n",
              "    </tr>\n",
              "  </thead>\n",
              "  <tbody>\n",
              "    <tr>\n",
              "      <th>0</th>\n",
              "      <td>1.000000</td>\n",
              "      <td>0.962834</td>\n",
              "    </tr>\n",
              "    <tr>\n",
              "      <th>1</th>\n",
              "      <td>0.962834</td>\n",
              "      <td>1.000000</td>\n",
              "    </tr>\n",
              "  </tbody>\n",
              "</table>\n",
              "</div>"
            ],
            "text/plain": [
              "          0         1\n",
              "0  1.000000  0.962834\n",
              "1  0.962834  1.000000"
            ]
          },
          "metadata": {
            "tags": []
          },
          "execution_count": 11
        }
      ]
    },
    {
      "cell_type": "code",
      "metadata": {
        "id": "_O8dBhPYfiMq",
        "colab_type": "code",
        "outputId": "7935e38e-9af6-4cc8-abd7-042409a1c7be",
        "colab": {
          "base_uri": "https://localhost:8080/",
          "height": 111
        }
      },
      "source": [
        "# Compare with library function from Numpy\n",
        "pd.DataFrame(np.corrcoef(np.array(sales), customers))"
      ],
      "execution_count": 12,
      "outputs": [
        {
          "output_type": "execute_result",
          "data": {
            "text/html": [
              "<div>\n",
              "<style scoped>\n",
              "    .dataframe tbody tr th:only-of-type {\n",
              "        vertical-align: middle;\n",
              "    }\n",
              "\n",
              "    .dataframe tbody tr th {\n",
              "        vertical-align: top;\n",
              "    }\n",
              "\n",
              "    .dataframe thead th {\n",
              "        text-align: right;\n",
              "    }\n",
              "</style>\n",
              "<table border=\"1\" class=\"dataframe\">\n",
              "  <thead>\n",
              "    <tr style=\"text-align: right;\">\n",
              "      <th></th>\n",
              "      <th>0</th>\n",
              "      <th>1</th>\n",
              "    </tr>\n",
              "  </thead>\n",
              "  <tbody>\n",
              "    <tr>\n",
              "      <th>0</th>\n",
              "      <td>1.000000</td>\n",
              "      <td>0.962834</td>\n",
              "    </tr>\n",
              "    <tr>\n",
              "      <th>1</th>\n",
              "      <td>0.962834</td>\n",
              "      <td>1.000000</td>\n",
              "    </tr>\n",
              "  </tbody>\n",
              "</table>\n",
              "</div>"
            ],
            "text/plain": [
              "          0         1\n",
              "0  1.000000  0.962834\n",
              "1  0.962834  1.000000"
            ]
          },
          "metadata": {
            "tags": []
          },
          "execution_count": 12
        }
      ]
    },
    {
      "cell_type": "markdown",
      "metadata": {
        "id": "IbZVf7nmujPJ",
        "colab_type": "text"
      },
      "source": [
        "## 1.4 Use pandas to import a cleaned version of the titanic dataset from the following link: [Titanic Dataset](https://raw.githubusercontent.com/Geoyi/Cleaning-Titanic-Data/master/titanic_clean.csv)\n",
        "\n",
        "## Calculate the variance-covariance matrix and correlation matrix for the titanic dataset's numeric columns. (you can encode some of the categorical variables and include them as a stretch goal if you finish early)"
      ]
    },
    {
      "cell_type": "code",
      "metadata": {
        "id": "0TWgUIiaCFzq",
        "colab_type": "code",
        "outputId": "8bf2c311-9527-45bc-a267-9097612771ac",
        "colab": {
          "base_uri": "https://localhost:8080/",
          "height": 374
        }
      },
      "source": [
        "titanic_df = pd.read_csv('https://raw.githubusercontent.com/Geoyi/Cleaning-Titanic-Data/master/titanic_clean.csv')\n",
        "titanic_df.head()"
      ],
      "execution_count": 13,
      "outputs": [
        {
          "output_type": "execute_result",
          "data": {
            "text/html": [
              "<div>\n",
              "<style scoped>\n",
              "    .dataframe tbody tr th:only-of-type {\n",
              "        vertical-align: middle;\n",
              "    }\n",
              "\n",
              "    .dataframe tbody tr th {\n",
              "        vertical-align: top;\n",
              "    }\n",
              "\n",
              "    .dataframe thead th {\n",
              "        text-align: right;\n",
              "    }\n",
              "</style>\n",
              "<table border=\"1\" class=\"dataframe\">\n",
              "  <thead>\n",
              "    <tr style=\"text-align: right;\">\n",
              "      <th></th>\n",
              "      <th>Unnamed: 0</th>\n",
              "      <th>pclass</th>\n",
              "      <th>survived</th>\n",
              "      <th>name</th>\n",
              "      <th>sex</th>\n",
              "      <th>age</th>\n",
              "      <th>sibsp</th>\n",
              "      <th>parch</th>\n",
              "      <th>ticket</th>\n",
              "      <th>fare</th>\n",
              "      <th>cabin</th>\n",
              "      <th>embarked</th>\n",
              "      <th>boat</th>\n",
              "      <th>body</th>\n",
              "      <th>home.dest</th>\n",
              "      <th>has_cabin_number</th>\n",
              "    </tr>\n",
              "  </thead>\n",
              "  <tbody>\n",
              "    <tr>\n",
              "      <th>0</th>\n",
              "      <td>1</td>\n",
              "      <td>1.0</td>\n",
              "      <td>1.0</td>\n",
              "      <td>Allen, Miss. Elisabeth Walton</td>\n",
              "      <td>female</td>\n",
              "      <td>29.0000</td>\n",
              "      <td>0.0</td>\n",
              "      <td>0.0</td>\n",
              "      <td>24160</td>\n",
              "      <td>211.3375</td>\n",
              "      <td>B5</td>\n",
              "      <td>S</td>\n",
              "      <td>2</td>\n",
              "      <td>NaN</td>\n",
              "      <td>St Louis, MO</td>\n",
              "      <td>1</td>\n",
              "    </tr>\n",
              "    <tr>\n",
              "      <th>1</th>\n",
              "      <td>2</td>\n",
              "      <td>1.0</td>\n",
              "      <td>1.0</td>\n",
              "      <td>Allison, Master. Hudson Trevor</td>\n",
              "      <td>male</td>\n",
              "      <td>0.9167</td>\n",
              "      <td>1.0</td>\n",
              "      <td>2.0</td>\n",
              "      <td>113781</td>\n",
              "      <td>151.5500</td>\n",
              "      <td>C22 C26</td>\n",
              "      <td>S</td>\n",
              "      <td>11</td>\n",
              "      <td>NaN</td>\n",
              "      <td>Montreal, PQ / Chesterville, ON</td>\n",
              "      <td>1</td>\n",
              "    </tr>\n",
              "    <tr>\n",
              "      <th>2</th>\n",
              "      <td>3</td>\n",
              "      <td>1.0</td>\n",
              "      <td>0.0</td>\n",
              "      <td>Allison, Miss. Helen Loraine</td>\n",
              "      <td>female</td>\n",
              "      <td>2.0000</td>\n",
              "      <td>1.0</td>\n",
              "      <td>2.0</td>\n",
              "      <td>113781</td>\n",
              "      <td>151.5500</td>\n",
              "      <td>C22 C26</td>\n",
              "      <td>S</td>\n",
              "      <td>NaN</td>\n",
              "      <td>NaN</td>\n",
              "      <td>Montreal, PQ / Chesterville, ON</td>\n",
              "      <td>1</td>\n",
              "    </tr>\n",
              "    <tr>\n",
              "      <th>3</th>\n",
              "      <td>4</td>\n",
              "      <td>1.0</td>\n",
              "      <td>0.0</td>\n",
              "      <td>Allison, Mr. Hudson Joshua Creighton</td>\n",
              "      <td>male</td>\n",
              "      <td>30.0000</td>\n",
              "      <td>1.0</td>\n",
              "      <td>2.0</td>\n",
              "      <td>113781</td>\n",
              "      <td>151.5500</td>\n",
              "      <td>C22 C26</td>\n",
              "      <td>S</td>\n",
              "      <td>NaN</td>\n",
              "      <td>135.0</td>\n",
              "      <td>Montreal, PQ / Chesterville, ON</td>\n",
              "      <td>1</td>\n",
              "    </tr>\n",
              "    <tr>\n",
              "      <th>4</th>\n",
              "      <td>5</td>\n",
              "      <td>1.0</td>\n",
              "      <td>0.0</td>\n",
              "      <td>Allison, Mrs. Hudson J C (Bessie Waldo Daniels)</td>\n",
              "      <td>female</td>\n",
              "      <td>25.0000</td>\n",
              "      <td>1.0</td>\n",
              "      <td>2.0</td>\n",
              "      <td>113781</td>\n",
              "      <td>151.5500</td>\n",
              "      <td>C22 C26</td>\n",
              "      <td>S</td>\n",
              "      <td>NaN</td>\n",
              "      <td>NaN</td>\n",
              "      <td>Montreal, PQ / Chesterville, ON</td>\n",
              "      <td>1</td>\n",
              "    </tr>\n",
              "  </tbody>\n",
              "</table>\n",
              "</div>"
            ],
            "text/plain": [
              "   Unnamed: 0  pclass  ...                        home.dest has_cabin_number\n",
              "0           1     1.0  ...                     St Louis, MO                1\n",
              "1           2     1.0  ...  Montreal, PQ / Chesterville, ON                1\n",
              "2           3     1.0  ...  Montreal, PQ / Chesterville, ON                1\n",
              "3           4     1.0  ...  Montreal, PQ / Chesterville, ON                1\n",
              "4           5     1.0  ...  Montreal, PQ / Chesterville, ON                1\n",
              "\n",
              "[5 rows x 16 columns]"
            ]
          },
          "metadata": {
            "tags": []
          },
          "execution_count": 13
        }
      ]
    },
    {
      "cell_type": "markdown",
      "metadata": {
        "id": "Yse_oxp6DXfp",
        "colab_type": "text"
      },
      "source": [
        "Even though the filename claims it is a 'cleaned' version, there are still a lot of missing values. So will still need some cleaning and TLC."
      ]
    },
    {
      "cell_type": "code",
      "metadata": {
        "id": "miWLJlFw9Lae",
        "colab_type": "code",
        "outputId": "77e11973-46a2-4a9d-df59-3d996d82b1ab",
        "colab": {
          "base_uri": "https://localhost:8080/",
          "height": 306
        }
      },
      "source": [
        "titanic_df.dtypes"
      ],
      "execution_count": 14,
      "outputs": [
        {
          "output_type": "execute_result",
          "data": {
            "text/plain": [
              "Unnamed: 0            int64\n",
              "pclass              float64\n",
              "survived            float64\n",
              "name                 object\n",
              "sex                  object\n",
              "age                 float64\n",
              "sibsp               float64\n",
              "parch               float64\n",
              "ticket               object\n",
              "fare                float64\n",
              "cabin                object\n",
              "embarked             object\n",
              "boat                 object\n",
              "body                float64\n",
              "home.dest            object\n",
              "has_cabin_number      int64\n",
              "dtype: object"
            ]
          },
          "metadata": {
            "tags": []
          },
          "execution_count": 14
        }
      ]
    },
    {
      "cell_type": "code",
      "metadata": {
        "id": "JYK9izNe-AlW",
        "colab_type": "code",
        "outputId": "c79b8575-a98b-494c-fddc-6aa4bd41e4ff",
        "colab": {
          "base_uri": "https://localhost:8080/",
          "height": 306
        }
      },
      "source": [
        "titanic_df.isnull().sum()"
      ],
      "execution_count": 15,
      "outputs": [
        {
          "output_type": "execute_result",
          "data": {
            "text/plain": [
              "Unnamed: 0             0\n",
              "pclass                 1\n",
              "survived               1\n",
              "name                   1\n",
              "sex                    1\n",
              "age                    0\n",
              "sibsp                  1\n",
              "parch                  1\n",
              "ticket                 1\n",
              "fare                   2\n",
              "cabin               1015\n",
              "embarked               0\n",
              "boat                 824\n",
              "body                1189\n",
              "home.dest            565\n",
              "has_cabin_number       0\n",
              "dtype: int64"
            ]
          },
          "metadata": {
            "tags": []
          },
          "execution_count": 15
        }
      ]
    },
    {
      "cell_type": "code",
      "metadata": {
        "id": "IhBkHVFz-HJu",
        "colab_type": "code",
        "outputId": "55529ca4-52cb-4338-c0f9-7a1b0b4d3e1c",
        "colab": {
          "base_uri": "https://localhost:8080/",
          "height": 34
        }
      },
      "source": [
        "titanic_df.shape"
      ],
      "execution_count": 16,
      "outputs": [
        {
          "output_type": "execute_result",
          "data": {
            "text/plain": [
              "(1310, 16)"
            ]
          },
          "metadata": {
            "tags": []
          },
          "execution_count": 16
        }
      ]
    },
    {
      "cell_type": "code",
      "metadata": {
        "id": "tdDQFnhX-8hE",
        "colab_type": "code",
        "outputId": "149c01dd-e516-45c7-ccbd-529fed1d128f",
        "colab": {
          "base_uri": "https://localhost:8080/",
          "height": 306
        }
      },
      "source": [
        "# There are a lot of missing values. For all the missing string values, replace \n",
        "# NaN with 'unknown'\n",
        "columns = titanic_df.select_dtypes(include=object).columns.tolist()\n",
        "for col in columns:\n",
        "  titanic_df[col].fillna(value='unknown', inplace=True)\n",
        "\n",
        "titanic_df.isnull().sum()"
      ],
      "execution_count": 17,
      "outputs": [
        {
          "output_type": "execute_result",
          "data": {
            "text/plain": [
              "Unnamed: 0             0\n",
              "pclass                 1\n",
              "survived               1\n",
              "name                   0\n",
              "sex                    0\n",
              "age                    0\n",
              "sibsp                  1\n",
              "parch                  1\n",
              "ticket                 0\n",
              "fare                   2\n",
              "cabin                  0\n",
              "embarked               0\n",
              "boat                   0\n",
              "body                1189\n",
              "home.dest              0\n",
              "has_cabin_number       0\n",
              "dtype: int64"
            ]
          },
          "metadata": {
            "tags": []
          },
          "execution_count": 17
        }
      ]
    },
    {
      "cell_type": "code",
      "metadata": {
        "id": "-9r2gX_q_F6C",
        "colab_type": "code",
        "outputId": "e327c7ff-c7cd-4a6a-c5c4-bec38a79ea13",
        "colab": {
          "base_uri": "https://localhost:8080/",
          "height": 289
        }
      },
      "source": [
        "# 'Body' feature is 91% missing data, so just drop the column. That leaves a few \n",
        "# stragglers, so drop the remaining NaNs\n",
        "titanic_df.drop('body', axis=1, inplace=True)\n",
        "titanic_df.dropna(inplace=True)\n",
        "\n",
        "# Drop the 'unknwon' column (duplicate index)\n",
        "titanic_df.drop('Unnamed: 0', axis=1, inplace=True)\n",
        "\n",
        "# Check row size and nulls again\n",
        "print(titanic_df.shape)\n",
        "titanic_df.isnull().sum()"
      ],
      "execution_count": 18,
      "outputs": [
        {
          "output_type": "stream",
          "text": [
            "(1308, 14)\n"
          ],
          "name": "stdout"
        },
        {
          "output_type": "execute_result",
          "data": {
            "text/plain": [
              "pclass              0\n",
              "survived            0\n",
              "name                0\n",
              "sex                 0\n",
              "age                 0\n",
              "sibsp               0\n",
              "parch               0\n",
              "ticket              0\n",
              "fare                0\n",
              "cabin               0\n",
              "embarked            0\n",
              "boat                0\n",
              "home.dest           0\n",
              "has_cabin_number    0\n",
              "dtype: int64"
            ]
          },
          "metadata": {
            "tags": []
          },
          "execution_count": 18
        }
      ]
    },
    {
      "cell_type": "markdown",
      "metadata": {
        "id": "Ro7CqdcjLejp",
        "colab_type": "text"
      },
      "source": [
        "OK, now it's \"clean as a whistle.\" Use my functions to calculate the variance-covariance and correlation matrices on actual data. (\"Eating one's own dog food.\")"
      ]
    },
    {
      "cell_type": "code",
      "metadata": {
        "id": "I92dc4b5Dwjd",
        "colab_type": "code",
        "colab": {}
      },
      "source": [
        "# Get list of numeric columns\n",
        "numeric_columns = titanic_df.select_dtypes(include=np.number).columns.tolist()\n",
        "\n",
        "# Make list of numeric columns from the dataframe converted to python lists\n",
        "# compatible with my functions\n",
        "features = []\n",
        "for feature in numeric_columns:\n",
        "  features.append(titanic_df[feature].tolist())\n",
        "\n",
        "# Generate variance-covariance and correlation matrices for numeric values\n",
        "var_covar_matrix = pd.DataFrame(covariance(features), index=numeric_columns,\n",
        "                                columns=numeric_columns)\n",
        "corr_matrix = pd.DataFrame(correlation(features), index=numeric_columns,\n",
        "                                columns=numeric_columns)\n"
      ],
      "execution_count": 0,
      "outputs": []
    },
    {
      "cell_type": "code",
      "metadata": {
        "id": "1aFNYPw-IoKE",
        "colab_type": "code",
        "outputId": "bd25593b-aff1-4ccd-916c-6d3d53e7aa13",
        "colab": {
          "base_uri": "https://localhost:8080/",
          "height": 266
        }
      },
      "source": [
        "# Look at the resulting variance-covariance matrix\n",
        "var_covar_matrix"
      ],
      "execution_count": 20,
      "outputs": [
        {
          "output_type": "execute_result",
          "data": {
            "text/html": [
              "<div>\n",
              "<style scoped>\n",
              "    .dataframe tbody tr th:only-of-type {\n",
              "        vertical-align: middle;\n",
              "    }\n",
              "\n",
              "    .dataframe tbody tr th {\n",
              "        vertical-align: top;\n",
              "    }\n",
              "\n",
              "    .dataframe thead th {\n",
              "        text-align: right;\n",
              "    }\n",
              "</style>\n",
              "<table border=\"1\" class=\"dataframe\">\n",
              "  <thead>\n",
              "    <tr style=\"text-align: right;\">\n",
              "      <th></th>\n",
              "      <th>pclass</th>\n",
              "      <th>survived</th>\n",
              "      <th>age</th>\n",
              "      <th>sibsp</th>\n",
              "      <th>parch</th>\n",
              "      <th>fare</th>\n",
              "      <th>has_cabin_number</th>\n",
              "    </tr>\n",
              "  </thead>\n",
              "  <tbody>\n",
              "    <tr>\n",
              "      <th>pclass</th>\n",
              "      <td>0.702126</td>\n",
              "      <td>-0.127139</td>\n",
              "      <td>-3.974162</td>\n",
              "      <td>0.053400</td>\n",
              "      <td>0.013505</td>\n",
              "      <td>-24.227788</td>\n",
              "      <td>-0.250062</td>\n",
              "    </tr>\n",
              "    <tr>\n",
              "      <th>survived</th>\n",
              "      <td>-0.127139</td>\n",
              "      <td>0.236319</td>\n",
              "      <td>-0.305629</td>\n",
              "      <td>-0.014245</td>\n",
              "      <td>0.034690</td>\n",
              "      <td>6.146023</td>\n",
              "      <td>0.061387</td>\n",
              "    </tr>\n",
              "    <tr>\n",
              "      <th>age</th>\n",
              "      <td>-3.974162</td>\n",
              "      <td>-0.305629</td>\n",
              "      <td>165.385957</td>\n",
              "      <td>-2.550069</td>\n",
              "      <td>-1.451467</td>\n",
              "      <td>114.416613</td>\n",
              "      <td>1.470661</td>\n",
              "    </tr>\n",
              "    <tr>\n",
              "      <th>sibsp</th>\n",
              "      <td>0.053400</td>\n",
              "      <td>-0.014245</td>\n",
              "      <td>-2.550069</td>\n",
              "      <td>1.085692</td>\n",
              "      <td>0.336944</td>\n",
              "      <td>8.641768</td>\n",
              "      <td>-0.004036</td>\n",
              "    </tr>\n",
              "    <tr>\n",
              "      <th>parch</th>\n",
              "      <td>0.013505</td>\n",
              "      <td>0.034690</td>\n",
              "      <td>-1.451467</td>\n",
              "      <td>0.336944</td>\n",
              "      <td>0.749654</td>\n",
              "      <td>9.928031</td>\n",
              "      <td>0.013260</td>\n",
              "    </tr>\n",
              "    <tr>\n",
              "      <th>fare</th>\n",
              "      <td>-24.227788</td>\n",
              "      <td>6.146023</td>\n",
              "      <td>114.416613</td>\n",
              "      <td>8.641768</td>\n",
              "      <td>9.928031</td>\n",
              "      <td>2678.959738</td>\n",
              "      <td>10.976961</td>\n",
              "    </tr>\n",
              "    <tr>\n",
              "      <th>has_cabin_number</th>\n",
              "      <td>-0.250062</td>\n",
              "      <td>0.061387</td>\n",
              "      <td>1.470661</td>\n",
              "      <td>-0.004036</td>\n",
              "      <td>0.013260</td>\n",
              "      <td>10.976961</td>\n",
              "      <td>0.174803</td>\n",
              "    </tr>\n",
              "  </tbody>\n",
              "</table>\n",
              "</div>"
            ],
            "text/plain": [
              "                     pclass  survived  ...         fare  has_cabin_number\n",
              "pclass             0.702126 -0.127139  ...   -24.227788         -0.250062\n",
              "survived          -0.127139  0.236319  ...     6.146023          0.061387\n",
              "age               -3.974162 -0.305629  ...   114.416613          1.470661\n",
              "sibsp              0.053400 -0.014245  ...     8.641768         -0.004036\n",
              "parch              0.013505  0.034690  ...     9.928031          0.013260\n",
              "fare             -24.227788  6.146023  ...  2678.959738         10.976961\n",
              "has_cabin_number  -0.250062  0.061387  ...    10.976961          0.174803\n",
              "\n",
              "[7 rows x 7 columns]"
            ]
          },
          "metadata": {
            "tags": []
          },
          "execution_count": 20
        }
      ]
    },
    {
      "cell_type": "code",
      "metadata": {
        "id": "I1zO9d5nIy_f",
        "colab_type": "code",
        "outputId": "d12d0542-0b9d-4337-afae-e5f681ba8d7a",
        "colab": {
          "base_uri": "https://localhost:8080/",
          "height": 266
        }
      },
      "source": [
        "# And the correlation matrix\n",
        "corr_matrix"
      ],
      "execution_count": 21,
      "outputs": [
        {
          "output_type": "execute_result",
          "data": {
            "text/html": [
              "<div>\n",
              "<style scoped>\n",
              "    .dataframe tbody tr th:only-of-type {\n",
              "        vertical-align: middle;\n",
              "    }\n",
              "\n",
              "    .dataframe tbody tr th {\n",
              "        vertical-align: top;\n",
              "    }\n",
              "\n",
              "    .dataframe thead th {\n",
              "        text-align: right;\n",
              "    }\n",
              "</style>\n",
              "<table border=\"1\" class=\"dataframe\">\n",
              "  <thead>\n",
              "    <tr style=\"text-align: right;\">\n",
              "      <th></th>\n",
              "      <th>pclass</th>\n",
              "      <th>survived</th>\n",
              "      <th>age</th>\n",
              "      <th>sibsp</th>\n",
              "      <th>parch</th>\n",
              "      <th>fare</th>\n",
              "      <th>has_cabin_number</th>\n",
              "    </tr>\n",
              "  </thead>\n",
              "  <tbody>\n",
              "    <tr>\n",
              "      <th>pclass</th>\n",
              "      <td>1.000000</td>\n",
              "      <td>-0.312122</td>\n",
              "      <td>-0.368798</td>\n",
              "      <td>0.061162</td>\n",
              "      <td>0.018615</td>\n",
              "      <td>-0.558629</td>\n",
              "      <td>-0.713783</td>\n",
              "    </tr>\n",
              "    <tr>\n",
              "      <th>survived</th>\n",
              "      <td>-0.312122</td>\n",
              "      <td>1.000000</td>\n",
              "      <td>-0.048887</td>\n",
              "      <td>-0.028122</td>\n",
              "      <td>0.082418</td>\n",
              "      <td>0.244265</td>\n",
              "      <td>0.302031</td>\n",
              "    </tr>\n",
              "    <tr>\n",
              "      <th>age</th>\n",
              "      <td>-0.368798</td>\n",
              "      <td>-0.048887</td>\n",
              "      <td>1.000000</td>\n",
              "      <td>-0.190305</td>\n",
              "      <td>-0.130355</td>\n",
              "      <td>0.171892</td>\n",
              "      <td>0.273520</td>\n",
              "    </tr>\n",
              "    <tr>\n",
              "      <th>sibsp</th>\n",
              "      <td>0.061162</td>\n",
              "      <td>-0.028122</td>\n",
              "      <td>-0.190305</td>\n",
              "      <td>1.000000</td>\n",
              "      <td>0.373485</td>\n",
              "      <td>0.160238</td>\n",
              "      <td>-0.009264</td>\n",
              "    </tr>\n",
              "    <tr>\n",
              "      <th>parch</th>\n",
              "      <td>0.018615</td>\n",
              "      <td>0.082418</td>\n",
              "      <td>-0.130355</td>\n",
              "      <td>0.373485</td>\n",
              "      <td>1.000000</td>\n",
              "      <td>0.221539</td>\n",
              "      <td>0.036629</td>\n",
              "    </tr>\n",
              "    <tr>\n",
              "      <th>fare</th>\n",
              "      <td>-0.558629</td>\n",
              "      <td>0.244265</td>\n",
              "      <td>0.171892</td>\n",
              "      <td>0.160238</td>\n",
              "      <td>0.221539</td>\n",
              "      <td>1.000000</td>\n",
              "      <td>0.507253</td>\n",
              "    </tr>\n",
              "    <tr>\n",
              "      <th>has_cabin_number</th>\n",
              "      <td>-0.713783</td>\n",
              "      <td>0.302031</td>\n",
              "      <td>0.273520</td>\n",
              "      <td>-0.009264</td>\n",
              "      <td>0.036629</td>\n",
              "      <td>0.507253</td>\n",
              "      <td>1.000000</td>\n",
              "    </tr>\n",
              "  </tbody>\n",
              "</table>\n",
              "</div>"
            ],
            "text/plain": [
              "                    pclass  survived  ...      fare  has_cabin_number\n",
              "pclass            1.000000 -0.312122  ... -0.558629         -0.713783\n",
              "survived         -0.312122  1.000000  ...  0.244265          0.302031\n",
              "age              -0.368798 -0.048887  ...  0.171892          0.273520\n",
              "sibsp             0.061162 -0.028122  ...  0.160238         -0.009264\n",
              "parch             0.018615  0.082418  ...  0.221539          0.036629\n",
              "fare             -0.558629  0.244265  ...  1.000000          0.507253\n",
              "has_cabin_number -0.713783  0.302031  ...  0.507253          1.000000\n",
              "\n",
              "[7 rows x 7 columns]"
            ]
          },
          "metadata": {
            "tags": []
          },
          "execution_count": 21
        }
      ]
    },
    {
      "cell_type": "markdown",
      "metadata": {
        "id": "7K0Xfh8MvYkl",
        "colab_type": "text"
      },
      "source": [
        "# Orthogonality"
      ]
    },
    {
      "cell_type": "markdown",
      "metadata": {
        "id": "Pe3eOZ2fvdZ-",
        "colab_type": "text"
      },
      "source": [
        "## 2.1 Plot two vectors that are orthogonal to each other. What is a synonym for orthogonal?"
      ]
    },
    {
      "cell_type": "code",
      "metadata": {
        "id": "prxYfI9kdr78",
        "colab_type": "code",
        "colab": {}
      },
      "source": [
        "def plotVectors(vector1, vector2):\n",
        "  fig, ax = plt.subplots(figsize=(5, 5))\n",
        "  ax.grid()\n",
        "  plt.arrow(0, 0, vector1[0], vector1[1], color='blue', head_width=.3, head_length=.3)\n",
        "  plt.arrow(0, 0, vector2[0], vector2[1], color='red', head_width=.3, head_length=.3)\n",
        "  plt.xlim(-6, 6)\n",
        "  plt.ylim(-6, 6)\n",
        "  plt.title(f'Blue {vector1} Red {vector2}')\n",
        "  plt.show()"
      ],
      "execution_count": 0,
      "outputs": []
    },
    {
      "cell_type": "code",
      "metadata": {
        "id": "YLSBk7hJvvCx",
        "colab_type": "code",
        "outputId": "67a315cb-0919-416c-a566-d8c9f9887566",
        "colab": {
          "base_uri": "https://localhost:8080/",
          "height": 336
        }
      },
      "source": [
        "# Generate a random vector and another vector orthogonal to it\n",
        "v = np.random.randint(-5, 5, (2,))\n",
        "w = [v[1], -1 * v[0]]\n",
        "\n",
        "plotVectors(v, w)\n",
        "\n",
        "\n"
      ],
      "execution_count": 23,
      "outputs": [
        {
          "output_type": "display_data",
          "data": {
            "image/png": "[encoded data removed]",
            "text/plain": [
              "<Figure size 360x360 with 1 Axes>"
            ]
          },
          "metadata": {
            "tags": [],
            "needs_background": "light"
          }
        }
      ]
    },
    {
      "cell_type": "markdown",
      "metadata": {
        "id": "BwUX2Ccaphm0",
        "colab_type": "text"
      },
      "source": [
        "Synonym for orthogonal is perpendicular. However, that word may be confusing as one moves into higher dimensions."
      ]
    },
    {
      "cell_type": "markdown",
      "metadata": {
        "id": "7AS4V1Nhvvxz",
        "colab_type": "text"
      },
      "source": [
        "## 2.2 Are the following vectors orthogonal? Why or why not?\n",
        "\n",
        "\\begin{align}\n",
        "a = \\begin{bmatrix} -5 \\\\ 3 \\\\ 7 \\end{bmatrix}\n",
        "\\qquad\n",
        "b = \\begin{bmatrix} 6 \\\\ -8 \\\\ 2 \\end{bmatrix}\n",
        "\\end{align}"
      ]
    },
    {
      "cell_type": "code",
      "metadata": {
        "id": "aXhrjKc3bdyK",
        "colab_type": "code",
        "colab": {}
      },
      "source": [
        "def testOrthogonality(vector1, vector2):\n",
        "  dot_product = vector1.dot(vector2)\n",
        "  is_ortho = 'are' if dot_product == 0 else 'are not'\n",
        "  print(f'{a} and {b} {is_ortho} orthogonal. Their dot product is {dot_product}.')"
      ],
      "execution_count": 0,
      "outputs": []
    },
    {
      "cell_type": "code",
      "metadata": {
        "id": "F_-y54YSz47k",
        "colab_type": "code",
        "outputId": "29649cfa-1182-490f-8fc8-7f752344372b",
        "colab": {
          "base_uri": "https://localhost:8080/",
          "height": 34
        }
      },
      "source": [
        "a = np.array([-5, 3, 7])\n",
        "b = np.array([6, -8, 2])\n",
        "testOrthogonality(a, b)"
      ],
      "execution_count": 25,
      "outputs": [
        {
          "output_type": "stream",
          "text": [
            "[-5  3  7] and [ 6 -8  2] are not orthogonal. Their dot product is -40.\n"
          ],
          "name": "stdout"
        }
      ]
    },
    {
      "cell_type": "markdown",
      "metadata": {
        "id": "bGlPu7XZcOWd",
        "colab_type": "text"
      },
      "source": [
        "Dot products can serve to test to see if two vectors orthogonal, as it actually measures how close two vectors are with each other, how similarly they point. If their dot product is 0, they are orthogonal: they will be 90 degrees apart. By comparison, we can also test the previous vectors that we know are orthogonal:"
      ]
    },
    {
      "cell_type": "code",
      "metadata": {
        "id": "GPr6ELK0b0YW",
        "colab_type": "code",
        "outputId": "7e0589df-9cbf-4db8-d866-deed6366216a",
        "colab": {
          "base_uri": "https://localhost:8080/",
          "height": 34
        }
      },
      "source": [
        "testOrthogonality(v, w)"
      ],
      "execution_count": 26,
      "outputs": [
        {
          "output_type": "stream",
          "text": [
            "[-5  3  7] and [ 6 -8  2] are orthogonal. Their dot product is 0.\n"
          ],
          "name": "stdout"
        }
      ]
    },
    {
      "cell_type": "markdown",
      "metadata": {
        "id": "2enSR7nNfPuS",
        "colab_type": "text"
      },
      "source": [
        "Similarly, if the ***cross*** product of two vectors yields the 0 vector, they are colinear (or linearly dependent). I measures how differently the vectors point away from one another.\n",
        "\n",
        "For example:"
      ]
    },
    {
      "cell_type": "code",
      "metadata": {
        "id": "cOBGfRN8fb3m",
        "colab_type": "code",
        "outputId": "911697b0-9396-45de-9589-652738e95922",
        "colab": {
          "base_uri": "https://localhost:8080/",
          "height": 34
        }
      },
      "source": [
        "c = np.random.randint(-5, 5, (3,))\n",
        "d = np.array(c * -1)\n",
        "cross_product = np.cross(c, d)\n",
        "print(f'{c} X {d} = {cross_product}')"
      ],
      "execution_count": 27,
      "outputs": [
        {
          "output_type": "stream",
          "text": [
            "[ 0  4 -5] X [ 0 -4  5] = [0 0 0]\n"
          ],
          "name": "stdout"
        }
      ]
    },
    {
      "cell_type": "markdown",
      "metadata": {
        "id": "MiNjyqiEz5SG",
        "colab_type": "text"
      },
      "source": [
        "## 2.3 Compute the following values: What do these quantities have in common?\n",
        "\n",
        "## What is $||c||^2$? \n",
        "\n",
        "## What is $c \\cdot c$? \n",
        "\n",
        "## What is $c^{T}c$?\n",
        "\n",
        "\\begin{align}\n",
        "c = \\begin{bmatrix} 2 & -15 & 6 & 20 \\end{bmatrix}\n",
        "\\end{align}"
      ]
    },
    {
      "cell_type": "code",
      "metadata": {
        "id": "IlV_uaYK1EQB",
        "colab_type": "code",
        "outputId": "2c06f91d-c860-4748-cc7f-797b896959d0",
        "colab": {
          "base_uri": "https://localhost:8080/",
          "height": 34
        }
      },
      "source": [
        "c= np.array([2, -15, 6, 20])\n",
        "c_norm_squared = np.linalg.norm(c) ** 2\n",
        "c_dot = np.dot(c, c)\n",
        "c_cT_dot = np.dot(c, c.T)\n",
        "print(c, c_norm_squared, c_dot, c_cT_dot)"
      ],
      "execution_count": 28,
      "outputs": [
        {
          "output_type": "stream",
          "text": [
            "[  2 -15   6  20] 665.0 665 665\n"
          ],
          "name": "stdout"
        }
      ]
    },
    {
      "cell_type": "markdown",
      "metadata": {
        "id": "7IUFh34AjxnZ",
        "colab_type": "text"
      },
      "source": [
        "I could have told you without computation that they will be equal, algebraically. If you have any vector\n",
        "\n",
        "\\begin{align}\\vec{v} = (x_1, x_2, x_3, ... , x_n)\\end{align}\n",
        "\n",
        "Then\n",
        "\n",
        "\\begin{equation*}\n",
        "||\\vec{v}|| = \\sqrt{x_1^2 + x_2^2 + x_3^2 +... +x_n^2}\n",
        "\\end{equation*}\n",
        "\n",
        "Which is to say\n",
        "\n",
        "\\begin{equation*}\n",
        "||\\vec{v}|| = \\sqrt{x_1x_1 + x_2x_2 + x_3x_3 + ... + x_nx_n}\n",
        "\\end{equation*}\n",
        "\\\n",
        "And is thus the same thing as\n",
        "\n",
        "\\begin{equation*}\n",
        "||\\vec{v}|| = \\sqrt{\\vec{v}\\cdot\\vec{v}}\n",
        "\\end{equation*}\n",
        "\n",
        "\\\n",
        "so\n",
        "\n",
        "\\begin{equation*}\n",
        "||\\vec{v}||^2 = \\vec{v}\\cdot \\vec{v}\n",
        "\\end{equation*}\n",
        "\n",
        "\\\n",
        "and\n",
        "\n",
        "\\begin{equation*}\n",
        "\\vec{v}\\cdot\\vec{v} = \\vec{v}^T\\cdot\\vec{v}\n",
        "\\end{equation*}\n",
        "\n"
      ]
    },
    {
      "cell_type": "markdown",
      "metadata": {
        "id": "MK_TpWqk1Evk",
        "colab_type": "text"
      },
      "source": [
        "# Unit Vectors"
      ]
    },
    {
      "cell_type": "markdown",
      "metadata": {
        "id": "Kpit6WWO1b8l",
        "colab_type": "text"
      },
      "source": [
        "## 3.1 Using Latex, write the following vectors as a linear combination of scalars and unit vectors:\n",
        "\n",
        "\\begin{align}\n",
        "d = \\begin{bmatrix} 7 \\\\ 12 \\end{bmatrix}\n",
        "\\qquad\n",
        "e = \\begin{bmatrix} 2 \\\\ 11 \\\\ -8  \\end{bmatrix}\n",
        "\\end{align}"
      ]
    },
    {
      "cell_type": "markdown",
      "metadata": {
        "id": "oBCj1sDW2ouC",
        "colab_type": "text"
      },
      "source": [
        "\\begin{equation*}\n",
        "\\vec{d} = 7\\hat{i} + 12\\hat{j}\n",
        "\\end{equation*}\n",
        "\n",
        "\\begin{equation*}\n",
        "\\vec{e} = 2\\hat{i} + 11\\hat{j} - 8\\hat{k}\n",
        "\\end{equation*}"
      ]
    },
    {
      "cell_type": "markdown",
      "metadata": {
        "id": "dAdUQuep1_yJ",
        "colab_type": "text"
      },
      "source": [
        "## 3.2 Turn vector $f$ into a unit vector:\n",
        "\n",
        "\\begin{align}\n",
        "f = \\begin{bmatrix} 4 & 12 & 11 & 9 & 2 \\end{bmatrix}\n",
        "\\end{align}"
      ]
    },
    {
      "cell_type": "markdown",
      "metadata": {
        "id": "0I3cgNd152sq",
        "colab_type": "text"
      },
      "source": [
        "The ratios between the components of the vector over it's magnitude gives it's unit vector."
      ]
    },
    {
      "cell_type": "code",
      "metadata": {
        "id": "I3W8ZiHR1_Fa",
        "colab_type": "code",
        "outputId": "e588c7db-44c9-442a-eb5e-d1fbf8c279ef",
        "colab": {
          "base_uri": "https://localhost:8080/",
          "height": 34
        }
      },
      "source": [
        "f = np.array([4, 12, 11, 9, 2])\n",
        "f_hat = f/np.linalg.norm(f)\n",
        "print(f'unit vector of f = {f_hat}')"
      ],
      "execution_count": 29,
      "outputs": [
        {
          "output_type": "stream",
          "text": [
            "unit vector of f = [0.20908335 0.62725005 0.57497921 0.47043754 0.10454167]\n"
          ],
          "name": "stdout"
        }
      ]
    },
    {
      "cell_type": "markdown",
      "metadata": {
        "id": "JrjeQoei4vJK",
        "colab_type": "text"
      },
      "source": [
        "Of which magnitude $||\\hat{f}|| = 1$ (give or take some floating point error)."
      ]
    },
    {
      "cell_type": "code",
      "metadata": {
        "id": "C0Y2F4fP4l7u",
        "colab_type": "code",
        "outputId": "e6d54570-bf82-4961-86ee-7f38b92cfb6e",
        "colab": {
          "base_uri": "https://localhost:8080/",
          "height": 34
        }
      },
      "source": [
        "np.linalg.norm(f_hat)"
      ],
      "execution_count": 30,
      "outputs": [
        {
          "output_type": "execute_result",
          "data": {
            "text/plain": [
              "0.9999999999999999"
            ]
          },
          "metadata": {
            "tags": []
          },
          "execution_count": 30
        }
      ]
    },
    {
      "cell_type": "markdown",
      "metadata": {
        "id": "o39UyP-I5lpP",
        "colab_type": "text"
      },
      "source": [
        "# Linear Independence / Dependence "
      ]
    },
    {
      "cell_type": "markdown",
      "metadata": {
        "id": "ajfBqYe45sT5",
        "colab_type": "text"
      },
      "source": [
        "## 4.1 Plot two vectors that are linearly dependent and two vectors that are linearly independent (bonus points if done in $\\mathbb{R}^3$)."
      ]
    },
    {
      "cell_type": "code",
      "metadata": {
        "id": "-t0-M1ERuUOQ",
        "colab_type": "code",
        "colab": {}
      },
      "source": [
        "def plot3D(vectors):\n",
        "  '''\n",
        "  Plot 4 3D vectors\n",
        "  '''\n",
        "\n",
        "  color_list = ['blue', 'red', 'green', 'purple']\n",
        "  fig = plt.figure(figsize=(10, 10))\n",
        "  ax = fig.add_subplot(111, projection='3d')\n",
        "\n",
        "  for i, vector in enumerate(vectors):\n",
        "    ax.quiver(0, 0, 0, \n",
        "              vector[0], \n",
        "              vector[1], \n",
        "              vector[2],\n",
        "              linewidth=2, \n",
        "              length=1,\n",
        "              color=color_list[i])\n",
        "  ax.set_xlim([-6, 6])\n",
        "  ax.set_ylim([-6, 6])\n",
        "  ax.set_zlim([-6, 6]);"
      ],
      "execution_count": 0,
      "outputs": []
    },
    {
      "cell_type": "code",
      "metadata": {
        "id": "BX03O1Ngp6aZ",
        "colab_type": "code",
        "outputId": "b86d8f2d-0dfb-4f59-abe2-a4423b68d149",
        "colab": {
          "base_uri": "https://localhost:8080/",
          "height": 609
        }
      },
      "source": [
        "d_a = np.array([2, 3, 2])\n",
        "d_b = 2 * d_a\n",
        "\n",
        "i_a = np.array([6, 5, 3])\n",
        "i_b = np.array([-2, 5, 3])\n",
        "\n",
        "plot3D([d_b, d_a, i_a, i_b])\n",
        "\n",
        "print(f' Red {d_a} and Blue {d_b} are dependent (colinear).\\n', \n",
        "      f'Green {i_a} and Purple {i_b} are independent.')"
      ],
      "execution_count": 32,
      "outputs": [
        {
          "output_type": "stream",
          "text": [
            " Red [2 3 2] and Blue [4 6 4] are dependent (colinear).\n",
            " Green [6 5 3] and Purple [-2  5  3] are independent.\n"
          ],
          "name": "stdout"
        },
        {
          "output_type": "display_data",
          "data": {
            "image/png": "[encoded data removed]",
            "text/plain": [
              "<Figure size 720x720 with 1 Axes>"
            ]
          },
          "metadata": {
            "tags": [],
            "needs_background": "light"
          }
        }
      ]
    },
    {
      "cell_type": "markdown",
      "metadata": {
        "id": "TrJ0MT_n3SvO",
        "colab_type": "text"
      },
      "source": [
        "# Span"
      ]
    },
    {
      "cell_type": "markdown",
      "metadata": {
        "id": "86iXLzwM2z8l",
        "colab_type": "text"
      },
      "source": [
        "## 5.1 What is the span of the following vectors?\n",
        "\n",
        "\\begin{align}\n",
        "g = \\begin{bmatrix} 1 & 2 \\end{bmatrix}\n",
        "\\qquad\n",
        "h = \\begin{bmatrix} 4 & 8 \\end{bmatrix}\n",
        "\\end{align}"
      ]
    },
    {
      "cell_type": "markdown",
      "metadata": {
        "id": "JoioiFKh1q4w",
        "colab_type": "text"
      },
      "source": [
        "$\\vec{g}$ and $\\vec{h}$ are colinear and dependent linearly. $\\vec{h}=4\\vec{g}$. So they together have a span of 1: they can only span $ℝ$. Any linear combination with them will only reach points in that space."
      ]
    },
    {
      "cell_type": "markdown",
      "metadata": {
        "id": "l1deylUj4IHH",
        "colab_type": "text"
      },
      "source": [
        "## 5.2 What is the span of $\\{l, m, n\\}$?\n",
        "\n",
        "\\begin{align}\n",
        "l = \\begin{bmatrix} 1 & 2 & 3 \\end{bmatrix}\n",
        "\\qquad\n",
        "m = \\begin{bmatrix} -1 & 0 & 7 \\end{bmatrix}\n",
        "\\qquad\n",
        "n = \\begin{bmatrix} 4 & 8  & 2\\end{bmatrix}\n",
        "\\end{align}"
      ]
    },
    {
      "cell_type": "code",
      "metadata": {
        "id": "p1i_ueD25ZcP",
        "colab_type": "code",
        "outputId": "74b5fd63-44ba-438e-ee35-43de3af939d5",
        "colab": {
          "base_uri": "https://localhost:8080/",
          "height": 34
        }
      },
      "source": [
        "# quick check for independence (by cross product)\n",
        "l = np.array([1, 2, 3])\n",
        "m = np.array([-1, 0, 7])\n",
        "n = np.array([4, 8, 2])\n",
        "\n",
        "print(np.cross(l, m), np.cross(l, n), np.cross(m, n))"
      ],
      "execution_count": 33,
      "outputs": [
        {
          "output_type": "stream",
          "text": [
            "[ 14 -10   2] [-20  10   0] [-56  30  -8]\n"
          ],
          "name": "stdout"
        }
      ]
    },
    {
      "cell_type": "markdown",
      "metadata": {
        "id": "dyP2_CoT5jUb",
        "colab_type": "text"
      },
      "source": [
        "They are lineraly independent, so have span of 3 (they span $ℝ^3$, meaning they can be used in any linear combination to reach any point in that space)."
      ]
    },
    {
      "cell_type": "markdown",
      "metadata": {
        "id": "IBqe7X1732kX",
        "colab_type": "text"
      },
      "source": [
        "# Basis"
      ]
    },
    {
      "cell_type": "markdown",
      "metadata": {
        "id": "YeUZVHRM6PpT",
        "colab_type": "text"
      },
      "source": [
        "## 6.1 Graph two vectors that form a basis for $\\mathbb{R}^2$\n",
        "\n"
      ]
    },
    {
      "cell_type": "markdown",
      "metadata": {
        "id": "iHuCjeVz7Ztl",
        "colab_type": "text"
      },
      "source": [
        "Any two vectors that are linear combinations of $c_1\\hat{i}+c_2\\hat{j}$, and are linearly independent, will span $ℝ^2$"
      ]
    },
    {
      "cell_type": "code",
      "metadata": {
        "id": "utvF3Pkt8NP6",
        "colab_type": "code",
        "outputId": "52bbc6dc-6e75-4ea0-d80f-c0ca4ebacadd",
        "colab": {
          "base_uri": "https://localhost:8080/",
          "height": 336
        }
      },
      "source": [
        "x = np.array([1, 5])\n",
        "y = np.array([-3, 3])\n",
        "plotVectors(x, y)"
      ],
      "execution_count": 34,
      "outputs": [
        {
          "output_type": "display_data",
          "data": {
            "image/png": "[encoded data removed]",
            "text/plain": [
              "<Figure size 360x360 with 1 Axes>"
            ]
          },
          "metadata": {
            "tags": [],
            "needs_background": "light"
          }
        }
      ]
    },
    {
      "cell_type": "markdown",
      "metadata": {
        "id": "20yPFBDUxxnS",
        "colab_type": "text"
      },
      "source": [
        "## 6.2 What does it mean to form a basis?"
      ]
    },
    {
      "cell_type": "markdown",
      "metadata": {
        "id": "3w4tEayT8M0o",
        "colab_type": "text"
      },
      "source": [
        "Any set of vectors that members of the valid linear combinations in any given space $ℝ^n$, and are linearly independent (not redundant), can form the basis for that space."
      ]
    },
    {
      "cell_type": "markdown",
      "metadata": {
        "id": "EHmUxbcY6vD3",
        "colab_type": "text"
      },
      "source": [
        "# Rank"
      ]
    },
    {
      "cell_type": "markdown",
      "metadata": {
        "id": "IpJwt9kw6v8U",
        "colab_type": "text"
      },
      "source": [
        "## 7.1 What is the Rank of P?\n",
        "\n",
        "\\begin{align}\n",
        "P = \\begin{bmatrix} \n",
        "1 & 2 & 3 \\\\\n",
        " -1 & 0 & 7 \\\\\n",
        "4 & 8  & 2\n",
        "\\end{bmatrix}\n",
        "\\end{align}"
      ]
    },
    {
      "cell_type": "code",
      "metadata": {
        "id": "s7OtzMAT-U2o",
        "colab_type": "code",
        "outputId": "88b74f7e-9ffd-44df-8edd-2d81947bd37f",
        "colab": {
          "base_uri": "https://localhost:8080/",
          "height": 34
        }
      },
      "source": [
        "p = np.array([[1, 2, 3],\n",
        "             [-1, 0, 7],\n",
        "             [4, 8, 2]])\n",
        "\n",
        "np.linalg.matrix_rank(p)"
      ],
      "execution_count": 35,
      "outputs": [
        {
          "output_type": "execute_result",
          "data": {
            "text/plain": [
              "3"
            ]
          },
          "metadata": {
            "tags": []
          },
          "execution_count": 35
        }
      ]
    },
    {
      "cell_type": "markdown",
      "metadata": {
        "id": "x_6pTFUX-uEO",
        "colab_type": "text"
      },
      "source": [
        "The rank is 3 (all rows are linearly independent)."
      ]
    },
    {
      "cell_type": "markdown",
      "metadata": {
        "id": "jGqFMBYY7mHD",
        "colab_type": "text"
      },
      "source": [
        "## 7.2 What does the rank of a matrix tell us?"
      ]
    },
    {
      "cell_type": "markdown",
      "metadata": {
        "id": "Vjg1IiCD8nnP",
        "colab_type": "text"
      },
      "source": [
        "It tells us if any of it's rows are independent. E.g.,"
      ]
    },
    {
      "cell_type": "code",
      "metadata": {
        "id": "unMobN44-7-b",
        "colab_type": "code",
        "outputId": "00607976-e4b9-45d7-eb86-e2f4ad9f377d",
        "colab": {
          "base_uri": "https://localhost:8080/",
          "height": 34
        }
      },
      "source": [
        "q = np.array([[1, 2, 3],\n",
        "          [-2, 7, 5],\n",
        "          [2, 4, 6]])\n",
        "\n",
        "np.linalg.matrix_rank(q)"
      ],
      "execution_count": 36,
      "outputs": [
        {
          "output_type": "execute_result",
          "data": {
            "text/plain": [
              "2"
            ]
          },
          "metadata": {
            "tags": []
          },
          "execution_count": 36
        }
      ]
    },
    {
      "cell_type": "markdown",
      "metadata": {
        "id": "CqXcMYERAK4Z",
        "colab_type": "text"
      },
      "source": [
        "If the matrix has redundant (linearly dependent or colinear) rows. It also describes the dimensionality of the output a matrix used in a linear projection: if rank 2, a plane; if rank 3, a cube, and so forth. It also describes the span of the set of row vectors making up the matrix. "
      ]
    },
    {
      "cell_type": "markdown",
      "metadata": {
        "id": "0Db2sc_V8QD6",
        "colab_type": "text"
      },
      "source": [
        "# Linear Projections\n",
        "\n",
        "## 8.1 Line $L$ is formed by all of the vectors that can be created by scaling vector $v$ \n",
        "\\begin{align}\n",
        "v = \\begin{bmatrix} 1 & 3 \\end{bmatrix}\n",
        "\\end{align}\n",
        "\n",
        "\\begin{align}\n",
        "w = \\begin{bmatrix} -1 & 2 \\end{bmatrix}\n",
        "\\end{align}\n",
        "\n",
        "## find $proj_{L}(w)$\n",
        "\n",
        "## graph your projected vector to check your work (make sure your axis are square/even)"
      ]
    },
    {
      "cell_type": "markdown",
      "metadata": {
        "id": "fkjMQ2y7jzIS",
        "colab_type": "text"
      },
      "source": [
        "$proj_{L}(w)$ projects the vector $\\vec{w}$ onto the line $L$, as if it were casting a shadow on that line. Projecting two dimensions on to one."
      ]
    },
    {
      "cell_type": "code",
      "metadata": {
        "id": "slJjDlX3HXH8",
        "colab_type": "code",
        "outputId": "314fe5c6-87a7-41ca-b5ea-231550c1a7d9",
        "colab": {
          "base_uri": "https://localhost:8080/",
          "height": 358
        }
      },
      "source": [
        "v = np.array([1, 3])\n",
        "w = np.array([-1, 2])\n",
        "print(f'w (red) = {w}')\n",
        "\n",
        "# Calculate the projection\n",
        "fraction = np.dot(w, v) / np.dot(v, v)\n",
        "projection = np.multiply(fraction, v)\n",
        "print(f'Projection (blue) = {projection}')\n",
        "\n",
        "# find direction of 'light' (line orthogonal to L). It will be the line forming\n",
        "#all vectors scaling the vector created by subtracting w from it's projection.\n",
        "diff = projection - w\n",
        "\n",
        "# Set axes for the plot\n",
        "fig, ax = plt.subplots(figsize=(5, 5))\n",
        "ax.grid()\n",
        "ax.set_aspect('equal')\n",
        "\n",
        "# Set limits for the plot\n",
        "plt.xlim(-4,4)          \n",
        "plt.ylim(-4,4)\n",
        "axes = plt.gca()\n",
        "axes.set_aspect('equal')\n",
        "\n",
        "# Calculate the line L (slope is 3, as in v = [1 3])\n",
        "x_vals = np.array(axes.get_xlim())\n",
        "y_vals = v[1] / v[0] * x_vals\n",
        "# line orthogonal to L, intersecting w\n",
        "d_vals = diff[1] / diff[0] * x_vals + 1.75  \n",
        "plt.plot(x_vals, y_vals, '--', label=\"L\")\n",
        "plt.plot(x_vals, d_vals, '--', color='lightgray')\n",
        "plt.arrow(0, 0, w[0], w[1], head_width=.3, head_length=.3, color='red')\n",
        "plt.arrow(0, 0, projection[0], projection[1], head_width=.3, head_length=.3, \n",
        "          color='blue')\n",
        "\n",
        "plt.legend();"
      ],
      "execution_count": 37,
      "outputs": [
        {
          "output_type": "stream",
          "text": [
            "w (red) = [-1  2]\n",
            "Projection (blue) = [0.5 1.5]\n"
          ],
          "name": "stdout"
        },
        {
          "output_type": "display_data",
          "data": {
            "image/png": "[encoded data removed]",
            "text/plain": [
              "<Figure size 360x360 with 1 Axes>"
            ]
          },
          "metadata": {
            "tags": [],
            "needs_background": "light"
          }
        }
      ]
    },
    {
      "cell_type": "code",
      "metadata": {
        "id": "OrpotVr2er5U",
        "colab_type": "code",
        "colab": {
          "base_uri": "https://localhost:8080/",
          "height": 34
        },
        "outputId": "2b280aa1-a50e-468b-a3a2-9f6e1fe0b9a5"
      },
      "source": [
        "diff"
      ],
      "execution_count": 38,
      "outputs": [
        {
          "output_type": "execute_result",
          "data": {
            "text/plain": [
              "array([ 1.5, -0.5])"
            ]
          },
          "metadata": {
            "tags": []
          },
          "execution_count": 38
        }
      ]
    },
    {
      "cell_type": "markdown",
      "metadata": {
        "id": "Q3G7cjiWmnJR",
        "colab_type": "text"
      },
      "source": [
        "You can see this in the visualization. $\\vec{w}$ is the red vector; the blue vector is it's projection or 'shadow' on to the line $L$. The light gray line, orthogonal to L, intersects the end of w and the projection. The \"light source\" if you will. Two dimensions projected on to one dimensional space, like a shadow. (Pretty cool!)\n"
      ]
    },
    {
      "cell_type": "markdown",
      "metadata": {
        "id": "TKkrPwRM-Oar",
        "colab_type": "text"
      },
      "source": [
        "# Stretch Goal\n",
        "\n",
        "## For vectors that begin at the origin, the coordinates of where the vector ends can be interpreted as regular data points. (See 3Blue1Brown videos about Spans, Basis, etc.)\n",
        "\n",
        "## Write a function that can calculate the linear projection of each point (x,y) (vector) onto the line y=x. run the function and plot the original points in blue and the new projected points on the line y=x in red. \n",
        "\n",
        "## For extra points plot the orthogonal vectors as a dashed line from the original blue points to the projected red points."
      ]
    },
    {
      "cell_type": "code",
      "metadata": {
        "id": "WR00pdiXrdAC",
        "colab_type": "code",
        "colab": {}
      },
      "source": [
        "def projectPoint(x, y):\n",
        "  '''\n",
        "  Given point (x, y) find projected points on line defined by y = x\n",
        "  '''\n",
        "  \n",
        "  v = np.array([x, y])\n",
        "  l = np.array([1, 1])\n",
        "\n",
        "  # Calculate the projection\n",
        "  fraction = np.dot(v, l) / np.dot(l, l)\n",
        "  projection = np.multiply(fraction, l)\n",
        "  return projection\n"
      ],
      "execution_count": 0,
      "outputs": []
    },
    {
      "cell_type": "code",
      "metadata": {
        "id": "cp52kZra-ykj",
        "colab_type": "code",
        "outputId": "983b2da3-a9ca-46c5-c41f-e5676b78a997",
        "colab": {
          "base_uri": "https://localhost:8080/",
          "height": 320
        }
      },
      "source": [
        "import pandas as pd\n",
        "import matplotlib.pyplot as plt\n",
        "\n",
        "# Original points (changed one as there was a duplicate)\n",
        "x_values = [1, 4, 7, 3, 9, 5, 5 ]\n",
        "y_values = [4, 2, 5, 0, 8, 2, 8]\n",
        "\n",
        "# find the projected points\n",
        "project_x = []\n",
        "project_y = []\n",
        "for i in range(len(x_values)):\n",
        "  project = projectPoint(x_values[i], y_values[i])\n",
        "  project_x.append(project[0])\n",
        "  project_y.append(project[1])\n",
        "\n",
        "# setup the plot\n",
        "fig, ax = plt.subplots(figsize=(5, 5))\n",
        "ax.grid()\n",
        "ax.set_aspect('equal')\n",
        "plt.xlim(-1, 11)\n",
        "plt.ylim(-1, 11)\n",
        "\n",
        "# plot original points and the line (y = x)\n",
        "plt.scatter(x_values, y_values)\n",
        "plt.plot(range(-1, 13), range(-1, 13), '--', color=\"lightgray\")\n",
        "\n",
        "# plot the projected points\n",
        "plt.plot(project_x, project_y, 'o', color='red')\n",
        "\n",
        "# orthogonal vectors between original and projected points\n",
        "for i in range(len(x_values)):\n",
        "  # reconstitute the points as vectors\n",
        "  v = np.array([x_values[i], y_values[i]])\n",
        "  p = np.array([project_x[i], project_y[i]])\n",
        "  # basically, the difference between the original and projected vectors\n",
        "  d = p - v\n",
        "  # plot the orthogonal, from the original point to the projected point\n",
        "  plt.arrow(x_values[i], y_values[i], d[0], d[1], linestyle=':', color='gray')\n",
        "\n",
        "plt.show()"
      ],
      "execution_count": 45,
      "outputs": [
        {
          "output_type": "display_data",
          "data": {
            "image/png": "[encoded data removed]",
            "text/plain": [
              "<Figure size 360x360 with 1 Axes>"
            ]
          },
          "metadata": {
            "tags": [],
            "needs_background": "light"
          }
        }
      ]
    }
  ]
}