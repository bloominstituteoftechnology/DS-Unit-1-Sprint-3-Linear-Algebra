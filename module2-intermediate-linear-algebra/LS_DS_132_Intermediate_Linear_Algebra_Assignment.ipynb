{
  "nbformat": 4,
  "nbformat_minor": 0,
  "metadata": {
    "colab": {
      "name": "ASSIGNMENTLS_DS_132_Intermediate_Linear_Algebra_Assignment.ipynb",
      "provenance": [],
      "collapsed_sections": [],
      "include_colab_link": true
    },
    "kernelspec": {
      "name": "python3",
      "display_name": "Python 3"
    }
  },
  "cells": [
    {
      "cell_type": "markdown",
      "metadata": {
        "id": "view-in-github",
        "colab_type": "text"
      },
      "source": [
        "<a href=\"https://colab.research.google.com/github/Jwilson1172/DS-Unit-1-Sprint-3-Linear-Algebra/blob/master/module2-intermediate-linear-algebra/LS_DS_132_Intermediate_Linear_Algebra_Assignment.ipynb\" target=\"_parent\"><img src=\"https://colab.research.google.com/assets/colab-badge.svg\" alt=\"Open In Colab\"/></a>"
      ]
    },
    {
      "cell_type": "markdown",
      "metadata": {
        "id": "GSNiYn8lr6nN",
        "colab_type": "text"
      },
      "source": [
        "# Statistics"
      ]
    },
    {
      "cell_type": "markdown",
      "metadata": {
        "id": "3d4izUhQvh2_",
        "colab_type": "text"
      },
      "source": [
        "## 1.1 Sales for the past week was the following amounts: [3505, 2400, 3027, 2798, 3700, 3250, 2689]. Without using library functions, what is the mean, variance, and standard deviation of of sales from last week? (for extra bonus points, write your own function that can calculate these two values for any sized list)"
      ]
    },
    {
      "cell_type": "code",
      "metadata": {
        "id": "Helz3LFrnft6",
        "colab_type": "code",
        "colab": {}
      },
      "source": [
        "import pandas as pd\n",
        "import numpy as np\n",
        "import matplotlib.pyplot as plt"
      ],
      "execution_count": 0,
      "outputs": []
    },
    {
      "cell_type": "code",
      "metadata": {
        "id": "w1iZfYvBtEA1",
        "colab_type": "code",
        "colab": {}
      },
      "source": [
        "\n",
        "# find the variance of the input array\n",
        "def varr(ln:np.array):\n",
        "  n=len(ln)\n",
        "  mean=sum(ln)/n\n",
        "  distance= ln - mean\n",
        "  distance_squared= distance**2\n",
        "  return sum(distance_squared)/(n-1)\n",
        "\n",
        "# function that returns the std from varr\n",
        "def std_f(data):\n",
        "  return varr(data)**0.5\n"
      ],
      "execution_count": 0,
      "outputs": []
    },
    {
      "cell_type": "code",
      "metadata": {
        "id": "KD7njz4Lou_q",
        "colab_type": "code",
        "colab": {
          "base_uri": "https://localhost:8080/",
          "height": 68
        },
        "outputId": "8bbc17d3-9af5-4163-96b1-d0b98ac2579b"
      },
      "source": [
        "sales=np.array([3500,2400,3027,2798,3700,3250,2689])\n",
        "print(f\"Mean:{sum(sales)/len(sales)}\")\n",
        "print(f\"variance:{varr(sales)}\")\n",
        "print(f\"Standard deviation:{std_f(sales)}\")"
      ],
      "execution_count": 15,
      "outputs": [
        {
          "output_type": "stream",
          "text": [
            "Mean:3052.0\n",
            "variance:213637.66666666666\n",
            "Standard deviation:462.2095484373583\n"
          ],
          "name": "stdout"
        }
      ]
    },
    {
      "cell_type": "markdown",
      "metadata": {
        "id": "oh63KaOctEp_",
        "colab_type": "text"
      },
      "source": [
        "## 1.2 Find the covariance between last week's sales numbers and the number of customers that entered the store last week: [127, 80, 105, 92, 120, 115, 93] (you may use librray functions for calculating the covariance since we didn't specifically talk about its formula)"
      ]
    },
    {
      "cell_type": "code",
      "metadata": {
        "id": "LQvywzL5sLlo",
        "colab_type": "code",
        "colab": {}
      },
      "source": [
        "# function to calulate covariance\n",
        "def covarr(col1, col2):\n",
        "  return df[col1].cov(df[col2])\n",
        "\n",
        "# funtion to calulate correlation from covariance\n",
        "def corr(col1, col2):\n",
        "  cov = covarr(col1,col2)\n",
        "  return cov / ((std_f(df[col1]))*(std_f(df[col2])))\n"
      ],
      "execution_count": 0,
      "outputs": []
    },
    {
      "cell_type": "code",
      "metadata": {
        "id": "G7ZB0krot564",
        "colab_type": "code",
        "colab": {
          "base_uri": "https://localhost:8080/",
          "height": 102
        },
        "outputId": "eafdcb1b-ad10-4d45-de9b-a8ffc13563d2"
      },
      "source": [
        "customers=np.array([127,80,105,92,120,115,93])\n",
        "df=pd.DataFrame()\n",
        "df[\"sales\"]=sales\n",
        "df[\"customers\"]=customers\n",
        "\n",
        "print(f\"Calculated: {covarr('sales','customers')}\\npandas:\\n{df.cov()}\")\n",
        "\n"
      ],
      "execution_count": 32,
      "outputs": [
        {
          "output_type": "stream",
          "text": [
            "Calculated: 7585.666666666666\n",
            "pandas:\n",
            "                   sales    customers\n",
            "sales      213637.666667  7585.666667\n",
            "customers    7585.666667   290.952381\n"
          ],
          "name": "stdout"
        }
      ]
    },
    {
      "cell_type": "markdown",
      "metadata": {
        "id": "J9SbUY9mt66I",
        "colab_type": "text"
      },
      "source": [
        "## 1.3 Find the standard deviation of customers who entered the store last week. Then, use the standard deviations of both sales and customers to standardize the covariance to find the correlation coefficient that summarizes the relationship between sales and customers. (You may use library functions to check your work.)"
      ]
    },
    {
      "cell_type": "code",
      "metadata": {
        "id": "vFJms2YRrKhY",
        "colab_type": "code",
        "colab": {
          "base_uri": "https://localhost:8080/",
          "height": 119
        },
        "outputId": "dedc3592-9749-48aa-957e-01cd9ec81878"
      },
      "source": [
        "print(f\"Calulated:\\n{corr('sales','customers')}\\npandas:\\n{df.corr()}\")\n"
      ],
      "execution_count": 31,
      "outputs": [
        {
          "output_type": "stream",
          "text": [
            "Calulated:\n",
            "0.9621524366368894\n",
            "pandas:\n",
            "              sales  customers\n",
            "sales      1.000000   0.962152\n",
            "customers  0.962152   1.000000\n"
          ],
          "name": "stdout"
        }
      ]
    },
    {
      "cell_type": "markdown",
      "metadata": {
        "id": "IbZVf7nmujPJ",
        "colab_type": "text"
      },
      "source": [
        "## 1.4 Use pandas to import a cleaned version of the titanic dataset from the following link: [Titanic Dataset](https://raw.githubusercontent.com/Geoyi/Cleaning-Titanic-Data/master/titanic_clean.csv)\n",
        "\n",
        "## Calculate the variance-covariance matrix and correlation matrix for the titanic dataset's numeric columns. (you can encode some of the categorical variables and include them as a stretch goal if you finish early)"
      ]
    },
    {
      "cell_type": "code",
      "metadata": {
        "id": "0TWgUIiaCFzq",
        "colab_type": "code",
        "colab": {
          "base_uri": "https://localhost:8080/",
          "height": 391
        },
        "outputId": "8a7f0f49-511f-4df5-fc24-5b8becf815c0"
      },
      "source": [
        "t_df=pd.read_csv(\"https://raw.githubusercontent.com/Geoyi/Cleaning-Titanic-Data/master/titanic_clean.csv\")\n",
        "t_df=t_df.drop(\"Unnamed: 0\",axis=1)\n",
        "t_df.head()\n",
        "print(t_df.corr())\n",
        "print(t_df.cov())"
      ],
      "execution_count": 37,
      "outputs": [
        {
          "output_type": "stream",
          "text": [
            "                    pclass  survived  ...      body  has_cabin_number\n",
            "pclass            1.000000 -0.312469  ... -0.034642         -0.713857\n",
            "survived         -0.312469  1.000000  ...       NaN          0.302250\n",
            "age              -0.366370 -0.050199  ...  0.059059          0.271887\n",
            "sibsp             0.060832 -0.027825  ... -0.099961         -0.009064\n",
            "parch             0.018322  0.082660  ...  0.051099          0.036806\n",
            "fare             -0.558629  0.244265  ... -0.043110          0.507253\n",
            "body             -0.034642       NaN  ...  1.000000          0.083796\n",
            "has_cabin_number -0.713857  0.302250  ...  0.083796          1.000000\n",
            "\n",
            "[8 rows x 8 columns]\n",
            "                     pclass  survived  ...         body  has_cabin_number\n",
            "pclass             0.701969 -0.127248  ...    -2.876653         -0.249992\n",
            "survived          -0.127248  0.236250  ...     0.000000          0.061406\n",
            "age               -3.954605 -0.314343  ...    81.622922          1.463138\n",
            "sibsp              0.053090 -0.014088  ...    -8.708471         -0.003946\n",
            "parch              0.013287  0.034776  ...     4.237190          0.013316\n",
            "fare             -24.227788  6.146023  ...  -179.164684         10.976961\n",
            "body              -2.876653  0.000000  ...  9544.688567          3.625689\n",
            "has_cabin_number  -0.249992  0.061406  ...     3.625689          0.174613\n",
            "\n",
            "[8 rows x 8 columns]\n"
          ],
          "name": "stdout"
        }
      ]
    },
    {
      "cell_type": "markdown",
      "metadata": {
        "id": "7K0Xfh8MvYkl",
        "colab_type": "text"
      },
      "source": [
        "# Orthogonality"
      ]
    },
    {
      "cell_type": "markdown",
      "metadata": {
        "id": "Pe3eOZ2fvdZ-",
        "colab_type": "text"
      },
      "source": [
        "## 2.1 Plot two vectors that are orthogonal to each other. What is a synonym for orthogonal?"
      ]
    },
    {
      "cell_type": "markdown",
      "metadata": {
        "id": "ztpK9eT7uFCZ",
        "colab_type": "text"
      },
      "source": [
        "####The synonym for orthogonal is perpendicular"
      ]
    },
    {
      "cell_type": "code",
      "metadata": {
        "id": "YLSBk7hJvvCx",
        "colab_type": "code",
        "colab": {
          "base_uri": "https://localhost:8080/",
          "height": 281
        },
        "outputId": "79fd2d7d-5dee-4f9d-c872-d4e99b76ccda"
      },
      "source": [
        "v1=[5,0]\n",
        "v2=[0,5]\n",
        "\n",
        "plt.arrow(0,0,v1[0],v1[1],color='red',head_width=.5, head_length=0.5)\n",
        "plt.arrow(0,0,v2[0],v2[1],color='blue',head_width=.5, head_length=0.5)\n",
        "plt.xlim(-5,6)\n",
        "plt.ylim(-5,6)\n",
        "plt.title(\"othoginal vecors\")\n",
        "plt.show()"
      ],
      "execution_count": 42,
      "outputs": [
        {
          "output_type": "display_data",
          "data": {
            "image/png": "[encoded data removed]",
            "text/plain": [
              "<Figure size 432x288 with 1 Axes>"
            ]
          },
          "metadata": {
            "tags": []
          }
        }
      ]
    },
    {
      "cell_type": "markdown",
      "metadata": {
        "id": "7AS4V1Nhvvxz",
        "colab_type": "text"
      },
      "source": [
        "## 2.2 Are the following vectors orthogonal? Why or why not?\n",
        "\n",
        "\\begin{align}\n",
        "a = \\begin{bmatrix} -5 \\\\ 3 \\\\ 7 \\end{bmatrix}\n",
        "\\qquad\n",
        "b = \\begin{bmatrix} 6 \\\\ -8 \\\\ 2 \\end{bmatrix}\n",
        "\\end{align}"
      ]
    },
    {
      "cell_type": "markdown",
      "metadata": {
        "id": "jUfrVIRLwrEn",
        "colab_type": "text"
      },
      "source": [
        "####By definiton orthogonal vectors have a dot product of 0, so these are not orthogonal"
      ]
    },
    {
      "cell_type": "code",
      "metadata": {
        "id": "F_-y54YSz47k",
        "colab_type": "code",
        "colab": {
          "base_uri": "https://localhost:8080/",
          "height": 34
        },
        "outputId": "6ddd75f2-ac31-41a4-9d7d-80b57ac7d716"
      },
      "source": [
        "v1=[-5,3,7]\n",
        "v2=[6,-8,2]\n",
        "np.dot(v1,v2)"
      ],
      "execution_count": 45,
      "outputs": [
        {
          "output_type": "execute_result",
          "data": {
            "text/plain": [
              "-40"
            ]
          },
          "metadata": {
            "tags": []
          },
          "execution_count": 45
        }
      ]
    },
    {
      "cell_type": "markdown",
      "metadata": {
        "id": "MiNjyqiEz5SG",
        "colab_type": "text"
      },
      "source": [
        "## 2.3 Compute the following values: What do these quantities have in common?\n",
        "\n",
        "## What is $||c||^2$? \n",
        "\n",
        "## What is $c \\cdot c$? \n",
        "\n",
        "## What is $c^{T}c$?\n",
        "\n",
        "\\begin{align}\n",
        "c = \\begin{bmatrix} 2 & -15 & 6 & 20 \\end{bmatrix}\n",
        "\\end{align}"
      ]
    },
    {
      "cell_type": "code",
      "metadata": {
        "id": "IlV_uaYK1EQB",
        "colab_type": "code",
        "colab": {
          "base_uri": "https://localhost:8080/",
          "height": 68
        },
        "outputId": "c3d7f613-6f98-4ee1-fd15-15de0036902f"
      },
      "source": [
        "c=np.array([2,-15,6,20])\n",
        "print(f\"Norm^2:{np.linalg.norm(c)**2}\")\n",
        "print(f\"dot product:{np.dot(c,c)}\")\n",
        "print(f\"transposed product:{np.dot(c.T,c)}\")\n"
      ],
      "execution_count": 49,
      "outputs": [
        {
          "output_type": "stream",
          "text": [
            "Norm^2:665.0\n",
            "dot product:665\n",
            "transposed product:665\n"
          ],
          "name": "stdout"
        }
      ]
    },
    {
      "cell_type": "markdown",
      "metadata": {
        "id": "nA6vPu9NyC5n",
        "colab_type": "text"
      },
      "source": [
        "###answer:they all have the same value"
      ]
    },
    {
      "cell_type": "markdown",
      "metadata": {
        "id": "MK_TpWqk1Evk",
        "colab_type": "text"
      },
      "source": [
        "# Unit Vectors"
      ]
    },
    {
      "cell_type": "markdown",
      "metadata": {
        "id": "Kpit6WWO1b8l",
        "colab_type": "text"
      },
      "source": [
        "## 3.1 Using Latex, write the following vectors as a linear combination of scalars and unit vectors:\n",
        "\n",
        "\\begin{align}\n",
        "d = \\begin{bmatrix} 7 \\\\ 12 \\end{bmatrix}\n",
        "\\qquad\n",
        "e = \\begin{bmatrix} 2 \\\\ 11 \\\\ -8  \\end{bmatrix}\n",
        "\\end{align}"
      ]
    },
    {
      "cell_type": "markdown",
      "metadata": {
        "id": "p3T4uu8MGO9v",
        "colab_type": "text"
      },
      "source": [
        "\n",
        "$||d|| = \\sqrt{7^2 + 12^2} = \\sqrt{49+144} = \\sqrt{193}=13.8\\bar{9}$\n",
        "\n",
        "$\\hat{d}= \\frac{1}{||d||}d = \\frac{1}{13.98}\\begin{bmatrix} 7 \\\\ 12 \\end{bmatrix} = \\begin{bmatrix}\\frac{7}{13.98} \\\\ \\frac{12}{13.98} \\end{bmatrix}$\n",
        "\n",
        "\n",
        "\n",
        "$||e|| = \\sqrt{2^2+11^2-8^2} = \\sqrt{4+121+64} = \\sqrt{189}=13.7\\bar{4}$\n",
        "\n",
        "$\\hat{e} = \\frac{1}{||e||}e = \\frac{1}{13.74}\\begin{bmatrix} 2 \\\\ 11 \\\\ -8 \\end{bmatrix} = \\begin{bmatrix}\\frac{2}{13.74} \\\\ \\frac{11}{13.74} \\\\ \\frac{-8}{13.74} \\end{bmatrix}$"
      ]
    },
    {
      "cell_type": "markdown",
      "metadata": {
        "id": "dAdUQuep1_yJ",
        "colab_type": "text"
      },
      "source": [
        "## 3.2 Turn vector $f$ into a unit vector:\n",
        "\n",
        "\\begin{align}\n",
        "f = \\begin{bmatrix} 4 & 12 & 11 & 9 & 2 \\end{bmatrix}\n",
        "\\end{align}"
      ]
    },
    {
      "cell_type": "code",
      "metadata": {
        "id": "I3W8ZiHR1_Fa",
        "colab_type": "code",
        "colab": {
          "base_uri": "https://localhost:8080/",
          "height": 34
        },
        "outputId": "f97b5919-f87f-4e73-a584-7af515b314b4"
      },
      "source": [
        "f=[4,12,11,9,2]\n",
        "norm=np.linalg.norm(f)\n",
        "k=[x/norm for x in f ]\n",
        "print(k)"
      ],
      "execution_count": 62,
      "outputs": [
        {
          "output_type": "stream",
          "text": [
            "[0.20908334939572668, 0.62725004818718, 0.5749792108382483, 0.470437536140385, 0.10454167469786334]\n"
          ],
          "name": "stdout"
        }
      ]
    },
    {
      "cell_type": "markdown",
      "metadata": {
        "id": "o39UyP-I5lpP",
        "colab_type": "text"
      },
      "source": [
        "# Linear Independence / Dependence "
      ]
    },
    {
      "cell_type": "markdown",
      "metadata": {
        "id": "ajfBqYe45sT5",
        "colab_type": "text"
      },
      "source": [
        "## 4.1 Plot two vectors that are linearly dependent and two vectors that are linearly independent (bonus points if done in $\\mathbb{R}^3$)."
      ]
    },
    {
      "cell_type": "code",
      "metadata": {
        "id": "IJ8UJjKYM--r",
        "colab_type": "code",
        "colab": {
          "base_uri": "https://localhost:8080/",
          "height": 549
        },
        "outputId": "7344cf7d-234a-4c4d-bdbd-46357716e80a"
      },
      "source": [
        "v1=[0,3]\n",
        "v2=[0,5]\n",
        "plt.arrow(0,0,v1[0],v1[1],color='red',head_width=0.5, head_length=0.5)\n",
        "plt.arrow(0,0,v2[0],v2[1],color='blue',head_width=0.5, head_length=0.5)\n",
        "plt.title(\"dependant vectors\",fontweight='bold',fontsize=16)\n",
        "plt.ylim(-6,6)\n",
        "plt.xlim(-6,6)\n",
        "plt.show()\n",
        "\n",
        "v1=[1,2]\n",
        "v2=[3,5]\n",
        "plt.arrow(0,0,v1[0],v1[1],color='red',head_width=0.5, head_length=0.5)\n",
        "plt.arrow(0,0,v2[0],v2[1],color='blue',head_width=0.5, head_length=0.5)\n",
        "plt.title(\"independant vectors\",fontweight='bold',fontsize=16)\n",
        "plt.ylim(-6,6)\n",
        "plt.xlim(-6,6)\n",
        "plt.show()\n"
      ],
      "execution_count": 67,
      "outputs": [
        {
          "output_type": "display_data",
          "data": {
            "image/png": "[encoded data removed]",
            "text/plain": [
              "<Figure size 432x288 with 1 Axes>"
            ]
          },
          "metadata": {
            "tags": []
          }
        },
        {
          "output_type": "display_data",
          "data": {
            "image/png": "[encoded data removed]",
            "text/plain": [
              "<Figure size 432x288 with 1 Axes>"
            ]
          },
          "metadata": {
            "tags": []
          }
        }
      ]
    },
    {
      "cell_type": "markdown",
      "metadata": {
        "id": "TrJ0MT_n3SvO",
        "colab_type": "text"
      },
      "source": [
        "# Span"
      ]
    },
    {
      "cell_type": "markdown",
      "metadata": {
        "id": "86iXLzwM2z8l",
        "colab_type": "text"
      },
      "source": [
        "## 5.1 What is the span of the following vectors?\n",
        "\n",
        "\\begin{align}\n",
        "g = \\begin{bmatrix} 1 & 2 \\end{bmatrix}\n",
        "\\qquad\n",
        "h = \\begin{bmatrix} 4 & 8 \\end{bmatrix}\n",
        "\\end{align}"
      ]
    },
    {
      "cell_type": "markdown",
      "metadata": {
        "id": "d8n0hsRAtTSC",
        "colab_type": "text"
      },
      "source": [
        "the vectors have a span of all numbers ona  two dimentional plane"
      ]
    },
    {
      "cell_type": "code",
      "metadata": {
        "id": "G2LK2RWL39Q4",
        "colab_type": "code",
        "colab": {}
      },
      "source": [
        ""
      ],
      "execution_count": 0,
      "outputs": []
    },
    {
      "cell_type": "markdown",
      "metadata": {
        "id": "l1deylUj4IHH",
        "colab_type": "text"
      },
      "source": [
        "## 5.2 What is the span of $\\{l, m, n\\}$?\n",
        "\n",
        "\\begin{align}\n",
        "l = \\begin{bmatrix} 1 & 2 & 3 \\end{bmatrix}\n",
        "\\qquad\n",
        "m = \\begin{bmatrix} -1 & 0 & 7 \\end{bmatrix}\n",
        "\\qquad\n",
        "n = \\begin{bmatrix} 4 & 8  & 2\\end{bmatrix}\n",
        "\\end{align}"
      ]
    },
    {
      "cell_type": "markdown",
      "metadata": {
        "id": "_aZdvUi7t0d-",
        "colab_type": "text"
      },
      "source": [
        "the span of lmn have a span of all points in a 3d space"
      ]
    },
    {
      "cell_type": "code",
      "metadata": {
        "id": "p1i_ueD25ZcP",
        "colab_type": "code",
        "colab": {}
      },
      "source": [
        ""
      ],
      "execution_count": 0,
      "outputs": []
    },
    {
      "cell_type": "markdown",
      "metadata": {
        "id": "IBqe7X1732kX",
        "colab_type": "text"
      },
      "source": [
        "# Basis"
      ]
    },
    {
      "cell_type": "markdown",
      "metadata": {
        "id": "YeUZVHRM6PpT",
        "colab_type": "text"
      },
      "source": [
        "## 6.1 Graph two vectors that form a basis for $\\mathbb{R}^2$\n",
        "\n"
      ]
    },
    {
      "cell_type": "code",
      "metadata": {
        "id": "utvF3Pkt8NP6",
        "colab_type": "code",
        "colab": {
          "base_uri": "https://localhost:8080/",
          "height": 283
        },
        "outputId": "0bf827ca-713e-4f77-cc47-b1d674cc7748"
      },
      "source": [
        "v1=[1,0]\n",
        "v2=[0,1]\n",
        "\n",
        "plt.arrow(0,0,v1[0],v1[1],color='red',head_width=0.35, head_length=0.35)\n",
        "plt.arrow(0,0,v2[0],v2[1],color='blue',head_width=0.35, head_length=0.35)\n",
        "plt.title(\"plotting ihat and jhat\",fontweight='bold',fontsize=16)\n",
        "plt.ylim(-6,6)\n",
        "plt.xlim(-6,6)\n",
        "plt.show()\n"
      ],
      "execution_count": 70,
      "outputs": [
        {
          "output_type": "display_data",
          "data": {
            "image/png": "[encoded data removed]",
            "text/plain": [
              "<Figure size 432x288 with 1 Axes>"
            ]
          },
          "metadata": {
            "tags": []
          }
        }
      ]
    },
    {
      "cell_type": "markdown",
      "metadata": {
        "id": "20yPFBDUxxnS",
        "colab_type": "text"
      },
      "source": [
        "## 6.2 What does it mean to form a basis?"
      ]
    },
    {
      "cell_type": "markdown",
      "metadata": {
        "id": "3w4tEayT8M0o",
        "colab_type": "text"
      },
      "source": [
        "## to form a basis is to find every point on a particular plane that those vectors live in."
      ]
    },
    {
      "cell_type": "markdown",
      "metadata": {
        "id": "EHmUxbcY6vD3",
        "colab_type": "text"
      },
      "source": [
        "# Rank"
      ]
    },
    {
      "cell_type": "markdown",
      "metadata": {
        "id": "IpJwt9kw6v8U",
        "colab_type": "text"
      },
      "source": [
        "## 7.1 What is the Rank of P?\n",
        "\n",
        "\\begin{align}\n",
        "P = \\begin{bmatrix} \n",
        "1 & 2 & 3 \\\\\n",
        " -1 & 0 & 7 \\\\\n",
        "4 & 8  & 2\n",
        "\\end{bmatrix}\n",
        "\\end{align}"
      ]
    },
    {
      "cell_type": "markdown",
      "metadata": {
        "id": "EAmw7hAofwhn",
        "colab_type": "text"
      },
      "source": [
        "##the apperent rank of matrix P is 3 ranks"
      ]
    },
    {
      "cell_type": "markdown",
      "metadata": {
        "id": "jGqFMBYY7mHD",
        "colab_type": "text"
      },
      "source": [
        "## 7.2 What does the rank of a matrix tell us?"
      ]
    },
    {
      "cell_type": "markdown",
      "metadata": {
        "id": "Vjg1IiCD8nnP",
        "colab_type": "text"
      },
      "source": [
        "\n",
        "##Answer: weither or not there are redundant columns in the matrix"
      ]
    },
    {
      "cell_type": "markdown",
      "metadata": {
        "id": "TKkrPwRM-Oar",
        "colab_type": "text"
      },
      "source": [
        "# Stretch Goal\n",
        "\n",
        "## For vectors that begin at the origin, the coordinates of where the vector ends can be interpreted as regular data points. (See 3Blue1Brown videos about Spans, Basis, etc.)\n",
        "\n",
        "## Write a function that can calculate the linear projection of each point (x,y) (vector) onto the line y=x. run the function and plot the original points in blue and the new projected points on the line y=x in red. \n",
        "\n",
        "## For extra points plot the orthogonal vectors as a dashed line from the original blue points to the projected red points."
      ]
    },
    {
      "cell_type": "code",
      "metadata": {
        "id": "cp52kZra-ykj",
        "colab_type": "code",
        "outputId": "12502200-eafe-4e20-bfb7-2d539c6027cb",
        "colab": {
          "base_uri": "https://localhost:8080/",
          "height": 347
        }
      },
      "source": [
        "import pandas as pd\n",
        "import matplotlib.pyplot as plt\n",
        "\n",
        "# Creating a dataframe for you to work with -Feel free to not use the dataframe if you don't want to.\n",
        "x_values = [1, 4, 7, 3, 9, 4, 5 ]\n",
        "y_values = [4, 2, 5, 0, 8, 2, 8]\n",
        "\n",
        "data = {\"x\": x_values, \"y\": y_values}\n",
        "\n",
        "df = pd.DataFrame(data)\n",
        "\n",
        "df.head()\n",
        "\n",
        "plt.scatter(df.x, df.y)\n",
        "plt.show()"
      ],
      "execution_count": 0,
      "outputs": [
        {
          "output_type": "display_data",
          "data": {
            "image/png": "[encoded data removed]",
            "text/plain": [
              "<matplotlib.figure.Figure at 0x7f787cfb2978>"
            ]
          },
          "metadata": {
            "tags": []
          }
        }
      ]
    },
    {
      "cell_type": "code",
      "metadata": {
        "id": "EZTA6Tj6BGDb",
        "colab_type": "code",
        "colab": {}
      },
      "source": [
        ""
      ],
      "execution_count": 0,
      "outputs": []
    },
    {
      "cell_type": "markdown",
      "metadata": {
        "id": "0Db2sc_V8QD6",
        "colab_type": "text"
      },
      "source": [
        "# Linear Projections\n",
        "\n",
        "## 8.1 Line $L$ is formed by all of the vectors that can be created by scaling vector $v$ \n",
        "\\begin{align}\n",
        "v = \\begin{bmatrix} 1 & 3 \\end{bmatrix}\n",
        "\\end{align}\n",
        "\n",
        "\\begin{align}\n",
        "w = \\begin{bmatrix} -1 & 2 \\end{bmatrix}\n",
        "\\end{align}\n",
        "\n",
        "## find $proj_{L}(w)$\n",
        "\n",
        "## graph your projected vector to check your work (make sure your axis are square/even)"
      ]
    },
    {
      "cell_type": "code",
      "metadata": {
        "id": "hp5z2WTBCNKx",
        "colab_type": "code",
        "colab": {
          "base_uri": "https://localhost:8080/",
          "height": 34
        },
        "outputId": "74aad98f-31cd-4023-8949-9eba6fb78df8"
      },
      "source": [
        "\n",
        "v=[1,3]\n",
        "w=[-1,2]\n",
        "w_v=np.dot(w,v)\n",
        "v_v=np.dot(v,v)\n",
        "frac=w_v/v_v\n",
        "projection=np.multiply(frac,v)\n",
        "print(projection)"
      ],
      "execution_count": 77,
      "outputs": [
        {
          "output_type": "stream",
          "text": [
            "[0.5 1.5]\n"
          ],
          "name": "stdout"
        }
      ]
    },
    {
      "cell_type": "code",
      "metadata": {
        "id": "CBzu5EiTipS8",
        "colab_type": "code",
        "colab": {
          "base_uri": "https://localhost:8080/",
          "height": 487
        },
        "outputId": "5ea0dc38-bbd7-48d2-ec70-59d81c7c9e1e"
      },
      "source": [
        "plt.rcParams['figure.figsize']=[8,8]\n",
        "plt.rcParams['axes.facecolor']='#F0F0F0'\n",
        "ax,fig=plt.subplots()\n",
        "\n",
        "plt.xlim(-2,4)\n",
        "plt.ylim(-2,4)\n",
        "plt.arrow(0,0,v[0],v[1],color='r')\n",
        "plt.arrow(0,0,w[0],w[1],color='blue')\n",
        "plt.arrow(0,0,projection[0],projection[1],color='black')\n",
        "\n",
        "\n",
        "plt.show()"
      ],
      "execution_count": 82,
      "outputs": [
        {
          "output_type": "display_data",
          "data": {
            "image/png": "[encoded data removed]",
            "text/plain": [
              "<Figure size 576x576 with 1 Axes>"
            ]
          },
          "metadata": {
            "tags": []
          }
        }
      ]
    },
    {
      "cell_type": "code",
      "metadata": {
        "id": "1vkq6y5zj9qA",
        "colab_type": "code",
        "colab": {}
      },
      "source": [
        ""
      ],
      "execution_count": 0,
      "outputs": []
    }
  ]
}