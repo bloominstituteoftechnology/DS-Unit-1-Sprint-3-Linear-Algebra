{
  "nbformat": 4,
  "nbformat_minor": 0,
  "metadata": {
    "colab": {
      "name": "LS_DS_132_Intermediate_Linear_Algebra_Assignment.ipynb",
      "provenance": [],
      "collapsed_sections": []
    },
    "kernelspec": {
      "display_name": "Python 3",
      "language": "python",
      "name": "python3"
    },
    "language_info": {
      "codemirror_mode": {
        "name": "ipython",
        "version": 3
      },
      "file_extension": ".py",
      "mimetype": "text/x-python",
      "name": "python",
      "nbconvert_exporter": "python",
      "pygments_lexer": "ipython3",
      "version": "3.8.1"
    },
    "pycharm": {
      "stem_cell": {
        "cell_type": "raw",
        "source": [],
        "metadata": {
          "collapsed": false
        }
      }
    }
  },
  "cells": [
    {
      "cell_type": "markdown",
      "metadata": {
        "colab_type": "text",
        "id": "GSNiYn8lr6nN"
      },
      "source": [
        "# Statistics"
      ]
    },
    {
      "cell_type": "markdown",
      "metadata": {
        "colab_type": "text",
        "id": "3d4izUhQvh2_"
      },
      "source": [
        "## 1.1 Sales for the past week was the following amounts: [3505, 2400, 3027, 2798, 3700, 3250, 2689]. Without using library functions, what is the mean, variance, and standard deviation of of sales from last week? (for extra bonus points, write your own function that can calculate these two values for any sized list)"
      ]
    },
    {
      "cell_type": "code",
      "metadata": {
        "colab_type": "code",
        "id": "w1iZfYvBtEA1",
        "pycharm": {
          "is_executing": false
        },
        "outputId": "151f86b6-defd-4de7-c2c1-2e2622bd1af8",
        "colab": {}
      },
      "source": [
        "import numpy as np\n",
        "\n",
        "def mvstd(thelist):\n",
        "    # Mean\n",
        "    m = sum(thelist) / len(thelist)\n",
        "    \n",
        "    tmp = []\n",
        "    \n",
        "    for n in range(len(thelist)):\n",
        "        vt = (thelist[n] - m) ** 2\n",
        "        tmp.append(vt)\n",
        "        \n",
        "    # Varience \n",
        "    v = sum(tmp) / (len(tmp) -1)\n",
        "   \n",
        "    # Standard Deviation\n",
        "    std = v ** 0.5\n",
        "   \n",
        "    # List of mean, variance, and \n",
        "    # std for checking against Numpy\n",
        "    li = [m, v, std]\n",
        "    \n",
        "    # Compare\n",
        "    nm = np.mean(thelist)\n",
        "    nv = np.var(thelist, ddof=1)\n",
        "    ns = np .std(thelist, ddof=1)\n",
        "    nl = [nm, nv, ns]\n",
        "    \n",
        "    if li != nl:\n",
        "        raise Exception('Your calculations are not correct')\n",
        "    else:\n",
        "        return m, v, std\n",
        "    \n",
        "      \n",
        "sal = [3505, 2400, 3027, 2798, 3700, 3250, 2689]   \n",
        "sm, sv, ss = mvstd(sal) \n",
        "\n",
        "print('Mea : ', sm)\n",
        "print('Var : ', sv)\n",
        "print('Std : ', ss)\n",
        " \n",
        " #%% md\n",
        "\n",
        "## 1.2 Find the covariance between last week's sales numbers and the number of customers that entered the store last week: [127, 80, 105, 92, 120, 115, 93] (you may use librray functions for calculating the covariance since we didn't specifically talk about its formula)"
      ],
      "execution_count": 0,
      "outputs": [
        {
          "output_type": "stream",
          "text": [
            "Mea :  3052.714285714286\n",
            "Var :  214387.90476190473\n",
            "Std :  463.0204150595357\n"
          ],
          "name": "stdout"
        }
      ]
    },
    {
      "cell_type": "code",
      "metadata": {
        "colab_type": "code",
        "id": "G7ZB0krot564",
        "pycharm": {
          "is_executing": false
        },
        "outputId": "2e679846-140b-47fd-ac1e-f7bc689c590a",
        "colab": {}
      },
      "source": [
        "cust = [127, 80, 105, 92, 120, 115, 93]\n",
        "np.cov(sal, cust)\n"
      ],
      "execution_count": 0,
      "outputs": [
        {
          "output_type": "execute_result",
          "data": {
            "text/plain": [
              "array([[214387.9047619 ,   7604.35714286],\n",
              "       [  7604.35714286,    290.95238095]])"
            ]
          },
          "metadata": {
            "tags": []
          },
          "execution_count": 19
        }
      ]
    },
    {
      "cell_type": "markdown",
      "metadata": {
        "colab_type": "text",
        "id": "J9SbUY9mt66I"
      },
      "source": [
        "## 1.3 Find the standard deviation of customers who entered the store last week. Then, use the standard deviations of both sales and customers to standardize the covariance to find the correlation coefficient that summarizes the relationship between sales and customers. (You may use library functions to check your work.)"
      ]
    },
    {
      "cell_type": "code",
      "metadata": {
        "colab_type": "code",
        "id": "vFJms2YRrKhY",
        "pycharm": {
          "is_executing": false
        },
        "outputId": "e7636a1c-64a2-4cbf-e8ae-4bccb23db888",
        "colab": {}
      },
      "source": [
        "cm, cv, cs = mvstd(cust)\n",
        "# sm, sv and ss for sales.\n",
        "\n",
        "np.cov(sal, cust) / (ss * cs)\n"
      ],
      "execution_count": 0,
      "outputs": [
        {
          "output_type": "execute_result",
          "data": {
            "text/plain": [
              "array([[27.14495851,  0.96283398],\n",
              "       [ 0.96283398,  0.03683925]])"
            ]
          },
          "metadata": {
            "tags": []
          },
          "execution_count": 20
        }
      ]
    },
    {
      "cell_type": "markdown",
      "metadata": {
        "colab_type": "text",
        "id": "IbZVf7nmujPJ"
      },
      "source": [
        "## 1.4 Use pandas to import a cleaned version of the titanic dataset from the following link: [Titanic Dataset](https://raw.githubusercontent.com/Geoyi/Cleaning-Titanic-Data/master/titanic_clean.csv)\n",
        "\n",
        "## Calculate the variance-covariance matrix and correlation matrix for the titanic dataset's numeric columns. (you can encode some of the categorical variables and include them as a stretch goal if you finish early)"
      ]
    },
    {
      "cell_type": "code",
      "metadata": {
        "colab_type": "code",
        "id": "0TWgUIiaCFzq",
        "pycharm": {
          "is_executing": false
        },
        "outputId": "1f1740a9-45c3-47e6-c5bd-be6df3af0f94",
        "colab": {}
      },
      "source": [
        "import ssl\n",
        "ssl._create_default_https_context = ssl._create_unverified_context\n",
        "\n",
        "import pandas as pd\n",
        "df = pd.read_csv('https://raw.githubusercontent.com/Geoyi/Cleaning-Titanic-Data/master/titanic_clean.csv', \n",
        "                 index_col=0)\n",
        "\n",
        "print(df.cov())\n",
        "print(df.corr())\n"
      ],
      "execution_count": 0,
      "outputs": [
        {
          "output_type": "stream",
          "text": [
            "                     pclass  survived         age     sibsp     parch  \\\n",
            "pclass             0.701969 -0.127248   -3.954605  0.053090  0.013287   \n",
            "survived          -0.127248  0.236250   -0.314343 -0.014088  0.034776   \n",
            "age               -3.954605 -0.314343  165.850021 -2.559806 -1.459378   \n",
            "sibsp              0.053090 -0.014088   -2.559806  1.085052  0.336833   \n",
            "parch              0.013287  0.034776   -1.459378  0.336833  0.749195   \n",
            "fare             -24.227788  6.146023  114.416613  8.641768  9.928031   \n",
            "body              -2.876653  0.000000   81.622922 -8.708471  4.237190   \n",
            "has_cabin_number  -0.249992  0.061406    1.463138 -0.003946  0.013316   \n",
            "\n",
            "                         fare         body  has_cabin_number  \n",
            "pclass             -24.227788    -2.876653         -0.249992  \n",
            "survived             6.146023     0.000000          0.061406  \n",
            "age                114.416613    81.622922          1.463138  \n",
            "sibsp                8.641768    -8.708471         -0.003946  \n",
            "parch                9.928031     4.237190          0.013316  \n",
            "fare              2678.959738  -179.164684         10.976961  \n",
            "body              -179.164684  9544.688567          3.625689  \n",
            "has_cabin_number    10.976961     3.625689          0.174613  \n",
            "                    pclass  survived       age     sibsp     parch      fare  \\\n",
            "pclass            1.000000 -0.312469 -0.366370  0.060832  0.018322 -0.558629   \n",
            "survived         -0.312469  1.000000 -0.050199 -0.027825  0.082660  0.244265   \n",
            "age              -0.366370 -0.050199  1.000000 -0.190747 -0.130872  0.171892   \n",
            "sibsp             0.060832 -0.027825 -0.190747  1.000000  0.373587  0.160238   \n",
            "parch             0.018322  0.082660 -0.130872  0.373587  1.000000  0.221539   \n",
            "fare             -0.558629  0.244265  0.171892  0.160238  0.221539  1.000000   \n",
            "body             -0.034642       NaN  0.059059 -0.099961  0.051099 -0.043110   \n",
            "has_cabin_number -0.713857  0.302250  0.271887 -0.009064  0.036806  0.507253   \n",
            "\n",
            "                      body  has_cabin_number  \n",
            "pclass           -0.034642         -0.713857  \n",
            "survived               NaN          0.302250  \n",
            "age               0.059059          0.271887  \n",
            "sibsp            -0.099961         -0.009064  \n",
            "parch             0.051099          0.036806  \n",
            "fare             -0.043110          0.507253  \n",
            "body              1.000000          0.083796  \n",
            "has_cabin_number  0.083796          1.000000  \n"
          ],
          "name": "stdout"
        }
      ]
    },
    {
      "cell_type": "markdown",
      "metadata": {
        "colab_type": "text",
        "id": "7K0Xfh8MvYkl"
      },
      "source": [
        "# Orthogonality"
      ]
    },
    {
      "cell_type": "markdown",
      "metadata": {
        "colab_type": "text",
        "id": "Pe3eOZ2fvdZ-"
      },
      "source": [
        "## 2.1 Plot two vectors that are orthogonal to each other. What is a synonym for orthogonal?"
      ]
    },
    {
      "cell_type": "code",
      "metadata": {
        "colab_type": "code",
        "id": "YLSBk7hJvvCx",
        "pycharm": {
          "is_executing": false
        },
        "outputId": "0ccde220-6588-47d9-9ae7-083dadf13d42",
        "colab": {}
      },
      "source": [
        "# \"Orthogonal\" and \"perpendicular\" are synonymous \n",
        "\n",
        "import matplotlib.pyplot as plt\n",
        "\n",
        "a = np.array(\n",
        "    [5, 2]\n",
        ")\n",
        "b = np.array(\n",
        "    [2, -5]\n",
        ")\n",
        "\n",
        "plt.axes().set_aspect('equal')\n",
        "plt.arrow(0,0, \n",
        "          a[0], \n",
        "          a[1],\n",
        "          head_width=.1, \n",
        "          head_length=0.1, \n",
        "          color ='red'\n",
        "          )\n",
        "\n",
        "plt.arrow(0,0, \n",
        "          b[0], \n",
        "          b[1],\n",
        "          head_width=.1, \n",
        "          head_length=0.1, \n",
        "          color ='green'\n",
        "          )\n",
        "\n",
        "plt.xlim(-10, 10)\n",
        "plt.ylim(-10, 10)\n",
        "plt.show()\n"
      ],
      "execution_count": 0,
      "outputs": [
        {
          "output_type": "display_data",
          "data": {
            "text/plain": [
              "<Figure size 432x288 with 1 Axes>"
            ],
            "image/png": "[encoded data removed]"
          },
          "metadata": {
            "tags": [],
            "needs_background": "light"
          }
        }
      ]
    },
    {
      "cell_type": "markdown",
      "metadata": {
        "colab_type": "text",
        "id": "7AS4V1Nhvvxz"
      },
      "source": [
        "## 2.2 Are the following vectors orthogonal? Why or why not?\n",
        "\n",
        "\\begin{align}\n",
        "a = \\begin{bmatrix} -5 \\\\ 3 \\\\ 7 \\end{bmatrix}\n",
        "\\qquad\n",
        "b = \\begin{bmatrix} 6 \\\\ -8 \\\\ 2 \\end{bmatrix}\n",
        "\\end{align}"
      ]
    },
    {
      "cell_type": "code",
      "metadata": {
        "colab_type": "code",
        "id": "F_-y54YSz47k",
        "pycharm": {
          "is_executing": false
        },
        "outputId": "c769905b-1197-4214-99f6-22acab1ad129",
        "colab": {}
      },
      "source": [
        "# No they are not orthogonal. They are if and only if the dot product is zero\n",
        "\n",
        "a = np.array([-5,3,7])\n",
        "b = np.array([6,-8,2])\n",
        "\n",
        "plt.axes().set_aspect('equal')\n",
        "\n",
        "plt.arrow(0,0, \n",
        "          a[0], \n",
        "          a[1],\n",
        "          head_width=.1, \n",
        "          head_length=0.1, \n",
        "          color ='blue')\n",
        "\n",
        "plt.arrow(0,0, \n",
        "          b[0], \n",
        "          b[1],\n",
        "          head_width=.1, \n",
        "          head_length=0.1, \n",
        "          color ='yellow')\n",
        "\n",
        "plt.xlim(-10, 10)\n",
        "plt.ylim(-10, 10)\n",
        "plt.show()\n"
      ],
      "execution_count": 0,
      "outputs": [
        {
          "output_type": "display_data",
          "data": {
            "text/plain": [
              "<Figure size 432x288 with 1 Axes>"
            ],
            "image/png": "[encoded data removed]"
          },
          "metadata": {
            "tags": [],
            "needs_background": "light"
          }
        }
      ]
    },
    {
      "cell_type": "markdown",
      "metadata": {
        "colab_type": "text",
        "id": "MiNjyqiEz5SG"
      },
      "source": [
        "## 2.3 Compute the following values: What do these quantities have in common?\n",
        "\n",
        "## What is $||c||^2$? \n",
        "\n",
        "## What is $c \\cdot c$? \n",
        "\n",
        "## What is $c^{T}c$?\n",
        "\n",
        "\\begin{align}\n",
        "c = \\begin{bmatrix} 2 & -15 & 6 & 20 \\end{bmatrix}\n",
        "\\end{align}"
      ]
    },
    {
      "cell_type": "code",
      "metadata": {
        "colab_type": "code",
        "id": "IlV_uaYK1EQB",
        "pycharm": {
          "is_executing": false
        },
        "outputId": "3ef1f456-0f70-47a6-fc9c-08f33cc40813",
        "colab": {}
      },
      "source": [
        "import numpy.linalg as linalg\n",
        "c = np.array(\n",
        "    [2, -15, 6, 20]\n",
        ")\n",
        "\n",
        "#||c||^2\n",
        "# Idiot, vectors form a right triangle, the length of\n",
        "# which can be calculated with basic geomatry.  \n",
        "print(linalg.norm(c)**2)\n",
        "\n",
        "print(np.dot(c, c))\n",
        "\n",
        "print(np.matmul(c.T, c))\n",
        "\n"
      ],
      "execution_count": 0,
      "outputs": [
        {
          "output_type": "stream",
          "text": [
            "665.0\n",
            "665\n",
            "665\n"
          ],
          "name": "stdout"
        }
      ]
    },
    {
      "cell_type": "markdown",
      "metadata": {
        "colab_type": "text",
        "id": "MK_TpWqk1Evk"
      },
      "source": [
        "# Unit Vectors"
      ]
    },
    {
      "cell_type": "markdown",
      "metadata": {
        "colab_type": "text",
        "id": "Kpit6WWO1b8l"
      },
      "source": [
        "## 3.1 Using Latex, write the following vectors as a linear combination of scalars and unit vectors:\n",
        "\n",
        "\\begin{align}\n",
        "d = \\begin{bmatrix} 7 \\\\ 12 \\end{bmatrix}\n",
        "\\qquad\n",
        "e = \\begin{bmatrix} 2 \\\\ 11 \\\\ -8  \\end{bmatrix}\n",
        "\\end{align}"
      ]
    },
    {
      "cell_type": "markdown",
      "metadata": {
        "colab_type": "text",
        "id": "oBCj1sDW2ouC"
      },
      "source": [
        "Your text here"
      ]
    },
    {
      "cell_type": "markdown",
      "metadata": {
        "colab_type": "text",
        "id": "dAdUQuep1_yJ"
      },
      "source": [
        "## 3.2 Turn vector $f$ into a unit vector:\n",
        "\n",
        "\\begin{align}\n",
        "f = \\begin{bmatrix} 4 & 12 & 11 & 9 & 2 \\end{bmatrix}\n",
        "\\end{align}"
      ]
    },
    {
      "cell_type": "code",
      "metadata": {
        "colab_type": "code",
        "id": "I3W8ZiHR1_Fa",
        "pycharm": {
          "is_executing": false
        },
        "outputId": "c509d9f9-5818-466a-bd93-be122b062a8c",
        "colab": {}
      },
      "source": [
        "f = np.array(\n",
        "    [4, 12, 11, 9, 2]\n",
        ")\n",
        "\n",
        "uv = f * (1 / linalg.norm(f))\n",
        "print(uv)\n"
      ],
      "execution_count": 0,
      "outputs": [
        {
          "output_type": "stream",
          "text": [
            "[0.20908335 0.62725005 0.57497921 0.47043754 0.10454167]\n"
          ],
          "name": "stdout"
        }
      ]
    },
    {
      "cell_type": "markdown",
      "metadata": {
        "colab_type": "text",
        "id": "o39UyP-I5lpP"
      },
      "source": [
        "# Linear Independence / Dependence "
      ]
    },
    {
      "cell_type": "markdown",
      "metadata": {
        "colab_type": "text",
        "id": "ajfBqYe45sT5"
      },
      "source": [
        "## 4.1 Plot two vectors that are linearly dependent and two vectors that are linearly independent (bonus points if done in $\\mathbb{R}^3$)."
      ]
    },
    {
      "cell_type": "code",
      "metadata": {
        "pycharm": {
          "name": "#%%\n",
          "is_executing": false
        },
        "id": "FCDLtswe9Os0",
        "colab_type": "code",
        "outputId": "78b94192-5c20-4b47-9e18-9101ef02c505",
        "colab": {}
      },
      "source": [
        "va = [1,3]\n",
        "vb = [2,6]\n",
        "\n",
        "plt.arrow(0,0, \n",
        "          va[0], \n",
        "          va[1],\n",
        "          head_width=.1, \n",
        "          head_length=0.1, \n",
        "          color ='green')\n",
        "\n",
        "plt.arrow(1,3, \n",
        "          vb[0], \n",
        "          vb[1],\n",
        "          head_width=.1, \n",
        "          head_length=0.1, \n",
        "          color ='red')\n",
        "\n",
        "plt.xlim(-2, 12)\n",
        "plt.ylim(-2, 12)\n",
        "\n",
        "plt.show()\n"
      ],
      "execution_count": 0,
      "outputs": [
        {
          "output_type": "display_data",
          "data": {
            "text/plain": [
              "<Figure size 432x288 with 1 Axes>"
            ],
            "image/png": "[encoded data removed]"
          },
          "metadata": {
            "tags": [],
            "needs_background": "light"
          }
        }
      ]
    },
    {
      "cell_type": "code",
      "metadata": {
        "pycharm": {
          "name": "#%% mdva1 = [1,3]\n",
          "is_executing": false
        },
        "id": "DkYg6eKP9Os7",
        "colab_type": "code",
        "outputId": "36c7102d-5d5a-44cd-cebd-4c99f5e13bc5",
        "colab": {}
      },
      "source": [
        "va1 = [3,6]\n",
        "vb1 = [5,7]\n",
        "\n",
        "plt.arrow(0,0, \n",
        "          va1[0], \n",
        "          va1[1],\n",
        "          head_width=.1, \n",
        "          head_length=0.1, \n",
        "          color ='green')\n",
        "\n",
        "plt.arrow(0,0, \n",
        "          vb1[0], \n",
        "          vb1[1],\n",
        "          head_width=.1, \n",
        "          head_length=0.1, \n",
        "          color ='red')\n",
        "\n",
        "plt.xlim(-2, 12)\n",
        "plt.ylim(-2, 12)\n",
        "\n",
        "plt.show()\n",
        "\n"
      ],
      "execution_count": 0,
      "outputs": [
        {
          "output_type": "display_data",
          "data": {
            "text/plain": [
              "<Figure size 432x288 with 1 Axes>"
            ],
            "image/png": "[encoded data removed]"
          },
          "metadata": {
            "tags": [],
            "needs_background": "light"
          }
        }
      ]
    },
    {
      "cell_type": "code",
      "metadata": {
        "pycharm": {
          "name": "#%%\n"
        },
        "id": "QCK6Sdv49OtD",
        "colab_type": "code",
        "colab": {}
      },
      "source": [
        ""
      ],
      "execution_count": 0,
      "outputs": []
    },
    {
      "cell_type": "markdown",
      "metadata": {
        "colab_type": "text",
        "id": "86iXLzwM2z8l"
      },
      "source": [
        "## 5.1 What is the span of the following vectors?\n",
        "\n",
        "\\begin{align}\n",
        "g = \\begin{bmatrix} 1 & 2 \\end{bmatrix}\n",
        "\\qquad\n",
        "h = \\begin{bmatrix} 4 & 8 \\end{bmatrix}\n",
        "\\end{align}"
      ]
    },
    {
      "cell_type": "code",
      "metadata": {
        "colab_type": "code",
        "id": "G2LK2RWL39Q4",
        "pycharm": {
          "is_executing": false
        },
        "colab": {}
      },
      "source": [
        ""
      ],
      "execution_count": 0,
      "outputs": []
    },
    {
      "cell_type": "markdown",
      "metadata": {
        "colab_type": "text",
        "id": "l1deylUj4IHH"
      },
      "source": [
        "## 5.2 What is the span of $\\{l, m, n\\}$?\n",
        "\n",
        "\\begin{align}\n",
        "l = \\begin{bmatrix} 1 & 2 & 3 \\end{bmatrix}\n",
        "\\qquad\n",
        "m = \\begin{bmatrix} -1 & 0 & 7 \\end{bmatrix}\n",
        "\\qquad\n",
        "n = \\begin{bmatrix} 4 & 8  & 2\\end{bmatrix}\n",
        "\\end{align}"
      ]
    },
    {
      "cell_type": "code",
      "metadata": {
        "colab_type": "code",
        "id": "p1i_ueD25ZcP",
        "pycharm": {
          "is_executing": false
        },
        "colab": {}
      },
      "source": [
        ""
      ],
      "execution_count": 0,
      "outputs": []
    },
    {
      "cell_type": "markdown",
      "metadata": {
        "colab_type": "text",
        "id": "IBqe7X1732kX"
      },
      "source": [
        "# Basis"
      ]
    },
    {
      "cell_type": "markdown",
      "metadata": {
        "colab_type": "text",
        "id": "YeUZVHRM6PpT"
      },
      "source": [
        "## 6.1 Graph two vectors that form a basis for $\\mathbb{R}^2$\n",
        "\n"
      ]
    },
    {
      "cell_type": "code",
      "metadata": {
        "colab_type": "code",
        "id": "utvF3Pkt8NP6",
        "pycharm": {
          "is_executing": false
        },
        "colab": {}
      },
      "source": [
        ""
      ],
      "execution_count": 0,
      "outputs": []
    },
    {
      "cell_type": "markdown",
      "metadata": {
        "colab_type": "text",
        "id": "20yPFBDUxxnS"
      },
      "source": [
        "## 6.2 What does it mean to form a basis?"
      ]
    },
    {
      "cell_type": "markdown",
      "metadata": {
        "colab_type": "text",
        "id": "3w4tEayT8M0o"
      },
      "source": [
        ""
      ]
    },
    {
      "cell_type": "markdown",
      "metadata": {
        "colab_type": "text",
        "id": "EHmUxbcY6vD3"
      },
      "source": [
        "# Rank"
      ]
    },
    {
      "cell_type": "markdown",
      "metadata": {
        "colab_type": "text",
        "id": "IpJwt9kw6v8U"
      },
      "source": [
        "## 7.1 What is the Rank of P?\n",
        "\n",
        "\\begin{align}\n",
        "P = \\begin{bmatrix} \n",
        "1 & 2 & 3 \\\\\n",
        " -1 & 0 & 7 \\\\\n",
        "4 & 8  & 2\n",
        "\\end{bmatrix}\n",
        "\\end{align}"
      ]
    },
    {
      "cell_type": "markdown",
      "metadata": {
        "colab_type": "text",
        "id": "jGqFMBYY7mHD"
      },
      "source": [
        "## 7.2 What does the rank of a matrix tell us?"
      ]
    },
    {
      "cell_type": "markdown",
      "metadata": {
        "colab_type": "text",
        "id": "Vjg1IiCD8nnP"
      },
      "source": [
        ""
      ]
    },
    {
      "cell_type": "markdown",
      "metadata": {
        "colab_type": "text",
        "id": "0Db2sc_V8QD6"
      },
      "source": [
        "# Linear Projections\n",
        "\n",
        "## 8.1 Line $L$ is formed by all of the vectors that can be created by scaling vector $v$ \n",
        "\\begin{align}\n",
        "v = \\begin{bmatrix} 1 & 3 \\end{bmatrix}\n",
        "\\end{align}\n",
        "\n",
        "\\begin{align}\n",
        "w = \\begin{bmatrix} -1 & 2 \\end{bmatrix}\n",
        "\\end{align}\n",
        "\n",
        "## find $proj_{L}(w)$\n",
        "\n",
        "## graph your projected vector to check your work (make sure your axis are square/even)"
      ]
    },
    {
      "cell_type": "code",
      "metadata": {
        "colab_type": "code",
        "id": "hp5z2WTBCNKx",
        "pycharm": {
          "is_executing": false
        },
        "colab": {}
      },
      "source": [
        ""
      ],
      "execution_count": 0,
      "outputs": []
    },
    {
      "cell_type": "markdown",
      "metadata": {
        "colab_type": "text",
        "id": "TKkrPwRM-Oar"
      },
      "source": [
        "# Stretch Goal\n",
        "\n",
        "## For vectors that begin at the origin, the coordinates of where the vector ends can be interpreted as regular data points. (See 3Blue1Brown videos about Spans, Basis, etc.)\n",
        "\n",
        "## Write a function that can calculate the linear projection of each point (x,y) (vector) onto the line y=x. run the function and plot the original points in blue and the new projected points on the line y=x in red. \n",
        "\n",
        "## For extra points plot the orthogonal vectors as a dashed line from the original blue points to the projected red points."
      ]
    },
    {
      "cell_type": "code",
      "metadata": {
        "colab_type": "code",
        "id": "cp52kZra-ykj",
        "pycharm": {
          "is_executing": false
        },
        "colab": {}
      },
      "source": [
        "import pandas as pd\n",
        "import matplotlib.pyplot as plt\n",
        "\n",
        "# Creating a dataframe for you to work with -Feel free to not use the dataframe if you don't want to.\n",
        "x_values = [1, 4, 7, 3, 9, 4, 5 ]\n",
        "y_values = [4, 2, 5, 0, 8, 2, 8]\n",
        "\n",
        "data = {\"x\": x_values, \"y\": y_values}\n",
        "\n",
        "df = pd.DataFrame(data)\n",
        "\n",
        "df.head()\n",
        "\n",
        "plt.scatter(df.x, df.y)\n",
        "plt.show()"
      ],
      "execution_count": 0,
      "outputs": []
    },
    {
      "cell_type": "code",
      "metadata": {
        "colab_type": "code",
        "id": "EZTA6Tj6BGDb",
        "pycharm": {
          "is_executing": false
        },
        "colab": {}
      },
      "source": [
        ""
      ],
      "execution_count": 0,
      "outputs": []
    }
  ]
}