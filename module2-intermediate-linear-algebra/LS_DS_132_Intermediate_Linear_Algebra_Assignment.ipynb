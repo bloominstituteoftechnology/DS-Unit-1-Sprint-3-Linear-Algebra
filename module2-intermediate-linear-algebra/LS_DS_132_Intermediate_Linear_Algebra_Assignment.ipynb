{
 "cells": [
  {
   "cell_type": "markdown",
   "metadata": {
    "colab_type": "text",
    "id": "GSNiYn8lr6nN"
   },
   "source": [
    "# Statistics"
   ]
  },
  {
   "cell_type": "markdown",
   "metadata": {
    "colab_type": "text",
    "id": "3d4izUhQvh2_"
   },
   "source": [
    "## 1.1 Sales for the past week was the following amounts: [3505, 2400, 3027, 2798, 3700, 3250, 2689]. Without using library functions, what is the mean, variance, and standard deviation of of sales from last week? (for extra bonus points, write your own function that can calculate these three values for any sized list)"
   ]
  },
  {
   "cell_type": "code",
   "execution_count": 60,
   "metadata": {},
   "outputs": [],
   "source": [
    "def mvs (data):\n",
    "    \n",
    "    s = sum(data)\n",
    "    l = len(data)\n",
    "    \n",
    "    mean = s / l\n",
    "    square_difference_sum = sum(map(lambda x : (x - mean) ** 2, data))\n",
    "    \n",
    "    variance = square_difference_sum / (l - 1)\n",
    "    \n",
    "    standard_deviation = variance ** 0.5\n",
    "    \n",
    "    return mean, variance, standard_deviation"
   ]
  },
  {
   "cell_type": "code",
   "execution_count": 61,
   "metadata": {
    "colab": {},
    "colab_type": "code",
    "id": "w1iZfYvBtEA1"
   },
   "outputs": [
    {
     "name": "stdout",
     "output_type": "stream",
     "text": [
      "3052.714285714286 214387.90476190473 463.0204150595357\n"
     ]
    }
   ],
   "source": [
    "sales = [3505, 2400, 3027, 2798, 3700, 3250, 2689]\n",
    "\n",
    "mean, var, std = mvs(sales)\n",
    "print(mean, var, std)"
   ]
  },
  {
   "cell_type": "code",
   "execution_count": 63,
   "metadata": {},
   "outputs": [
    {
     "data": {
      "text/plain": [
       "463.0204150595357"
      ]
     },
     "execution_count": 63,
     "metadata": {},
     "output_type": "execute_result"
    }
   ],
   "source": [
    "np.std(sales, ddof=1)"
   ]
  },
  {
   "cell_type": "markdown",
   "metadata": {
    "colab_type": "text",
    "id": "oh63KaOctEp_"
   },
   "source": [
    "## 1.2 Find the covariance between last week's sales numbers and the number of customers that entered the store last week: [127, 80, 105, 92, 120, 115, 93] (you may use librray functions for calculating the covariance since we didn't specifically talk about its formula)"
   ]
  },
  {
   "cell_type": "code",
   "execution_count": 64,
   "metadata": {
    "colab": {},
    "colab_type": "code",
    "id": "G7ZB0krot564"
   },
   "outputs": [],
   "source": [
    "def cv (data1, data2):\n",
    "    \n",
    "    s1 = sum(data1)\n",
    "    s2 = sum(data2)\n",
    "    \n",
    "    l = len(data1)\n",
    "    \n",
    "    mean1 = s1 / l\n",
    "    mean2 = s2 / l\n",
    "    \n",
    "    difference1 = [i - mean1 for i in data1]\n",
    "    difference2 = [i - mean2 for i in data2]\n",
    "    \n",
    "    diff_product_sum = [difference1[i] * difference2[i] for i in range(l)]\n",
    "    \n",
    "    covariance = sum(diff_product_sum) / (l - 1)\n",
    "    \n",
    "    return covariance"
   ]
  },
  {
   "cell_type": "code",
   "execution_count": 65,
   "metadata": {},
   "outputs": [
    {
     "name": "stdout",
     "output_type": "stream",
     "text": [
      "7604.357142857142\n"
     ]
    }
   ],
   "source": [
    "customers = [127, 80, 105, 92, 120, 115, 93]\n",
    "\n",
    "covar = cv(sales, customers)\n",
    "print(covar)"
   ]
  },
  {
   "cell_type": "code",
   "execution_count": 66,
   "metadata": {},
   "outputs": [
    {
     "data": {
      "text/plain": [
       "array([[214387.9047619 ,   7604.35714286],\n",
       "       [  7604.35714286,    290.95238095]])"
      ]
     },
     "execution_count": 66,
     "metadata": {},
     "output_type": "execute_result"
    }
   ],
   "source": [
    "import numpy as np\n",
    "np.cov(sales, y=customers)"
   ]
  },
  {
   "cell_type": "markdown",
   "metadata": {
    "colab_type": "text",
    "id": "J9SbUY9mt66I"
   },
   "source": [
    "## 1.3 Find the standard deviation of customers who entered the store last week. Then, use the standard deviations of both sales and customers to standardize the covariance to find the correlation coefficient that summarizes the relationship between sales and customers. (You may use library functions to check your work.)"
   ]
  },
  {
   "cell_type": "code",
   "execution_count": 67,
   "metadata": {
    "colab": {},
    "colab_type": "code",
    "id": "vFJms2YRrKhY"
   },
   "outputs": [
    {
     "name": "stdout",
     "output_type": "stream",
     "text": [
      "0.9628339778148909\n"
     ]
    }
   ],
   "source": [
    "_, _, salestd = mvs(sales)\n",
    "_, _, customerstd = mvs(customers)\n",
    "cor = covar / (salestd * customerstd)\n",
    "print(cor)"
   ]
  },
  {
   "cell_type": "code",
   "execution_count": 68,
   "metadata": {},
   "outputs": [
    {
     "name": "stdout",
     "output_type": "stream",
     "text": [
      "17.057326313123664 17.057326313123664\n"
     ]
    }
   ],
   "source": [
    "print(np.std(customers, ddof=1), customerstd)"
   ]
  },
  {
   "cell_type": "code",
   "execution_count": 69,
   "metadata": {},
   "outputs": [
    {
     "data": {
      "text/plain": [
       "array([[1.        , 0.96283398],\n",
       "       [0.96283398, 1.        ]])"
      ]
     },
     "execution_count": 69,
     "metadata": {},
     "output_type": "execute_result"
    }
   ],
   "source": [
    "np.corrcoef(sales, y=customers)"
   ]
  },
  {
   "cell_type": "markdown",
   "metadata": {
    "colab_type": "text",
    "id": "IbZVf7nmujPJ"
   },
   "source": [
    "## 1.4 Use pandas to import a cleaned version of the titanic dataset from the following link: [Titanic Dataset](https://raw.githubusercontent.com/Geoyi/Cleaning-Titanic-Data/master/titanic_clean.csv)\n",
    "\n",
    "## Calculate the variance-covariance matrix and correlation matrix for the titanic dataset's numeric columns. (you can encode some of the categorical variables and include them as a stretch goal if you finish early)"
   ]
  },
  {
   "cell_type": "code",
   "execution_count": 70,
   "metadata": {
    "colab": {},
    "colab_type": "code",
    "id": "0TWgUIiaCFzq"
   },
   "outputs": [],
   "source": [
    "import pandas as pd"
   ]
  },
  {
   "cell_type": "code",
   "execution_count": 111,
   "metadata": {},
   "outputs": [],
   "source": [
    "df = pd.read_csv('https://raw.githubusercontent.com/Geoyi/Cleaning-Titanic-Data/master/titanic_clean.csv')"
   ]
  },
  {
   "cell_type": "code",
   "execution_count": 112,
   "metadata": {},
   "outputs": [
    {
     "data": {
      "text/plain": [
       "Unnamed: 0            int64\n",
       "pclass              float64\n",
       "survived            float64\n",
       "name                 object\n",
       "sex                  object\n",
       "age                 float64\n",
       "sibsp               float64\n",
       "parch               float64\n",
       "ticket               object\n",
       "fare                float64\n",
       "cabin                object\n",
       "embarked             object\n",
       "boat                 object\n",
       "body                float64\n",
       "home.dest            object\n",
       "has_cabin_number      int64\n",
       "dtype: object"
      ]
     },
     "execution_count": 112,
     "metadata": {},
     "output_type": "execute_result"
    }
   ],
   "source": [
    "df.dtypes"
   ]
  },
  {
   "cell_type": "code",
   "execution_count": 113,
   "metadata": {},
   "outputs": [],
   "source": [
    "df = df.drop(['name', 'sex', 'ticket', 'cabin', 'embarked', 'boat', 'home.dest', 'Unnamed: 0'], axis=1)"
   ]
  },
  {
   "cell_type": "code",
   "execution_count": 114,
   "metadata": {},
   "outputs": [],
   "source": [
    "df = df.dropna()"
   ]
  },
  {
   "cell_type": "code",
   "execution_count": 115,
   "metadata": {},
   "outputs": [
    {
     "data": {
      "text/plain": [
       "pclass              float64\n",
       "survived            float64\n",
       "age                 float64\n",
       "sibsp               float64\n",
       "parch               float64\n",
       "fare                float64\n",
       "body                float64\n",
       "has_cabin_number      int64\n",
       "dtype: object"
      ]
     },
     "execution_count": 115,
     "metadata": {},
     "output_type": "execute_result"
    }
   ],
   "source": [
    "df.dtypes"
   ]
  },
  {
   "cell_type": "code",
   "execution_count": 116,
   "metadata": {},
   "outputs": [
    {
     "data": {
      "text/plain": [
       "array([[  1.        ,   0.        ,  30.        ,   1.        ,\n",
       "          2.        , 151.55      , 135.        ,   1.        ],\n",
       "       [  1.        ,   0.        ,  71.        ,   0.        ,\n",
       "          0.        ,  49.5042    ,  22.        ,   0.        ],\n",
       "       [  1.        ,   0.        ,  47.        ,   1.        ,\n",
       "          0.        , 227.525     , 124.        ,   1.        ],\n",
       "       [  1.        ,   0.        ,  25.        ,   0.        ,\n",
       "          0.        ,  26.        , 148.        ,   0.        ],\n",
       "       [  1.        ,   0.        ,  48.        ,   0.        ,\n",
       "          0.        ,  50.4958    , 208.        ,   1.        ],\n",
       "       [  1.        ,   0.        ,  36.        ,   1.        ,\n",
       "          0.        ,  78.85      , 172.        ,   1.        ],\n",
       "       [  1.        ,   0.        ,  70.        ,   1.        ,\n",
       "          1.        ,  71.        , 269.        ,   1.        ],\n",
       "       [  1.        ,   0.        ,  50.        ,   1.        ,\n",
       "          0.        , 106.425     ,  62.        ,   1.        ],\n",
       "       [  1.        ,   0.        ,  39.        ,   0.        ,\n",
       "          0.        ,  29.7       , 133.        ,   1.        ],\n",
       "       [  1.        ,   0.        ,  47.        ,   0.        ,\n",
       "          0.        ,  38.5       , 275.        ,   1.        ],\n",
       "       [  1.        ,   0.        ,  38.        ,   0.        ,\n",
       "          1.        , 153.4625    , 147.        ,   1.        ],\n",
       "       [  1.        ,   0.        ,  40.        ,   0.        ,\n",
       "          0.        ,   0.        , 110.        ,   1.        ],\n",
       "       [  1.        ,   0.        ,  55.        ,   1.        ,\n",
       "          1.        ,  93.5       , 307.        ,   1.        ],\n",
       "       [  1.        ,   0.        ,  42.        ,   1.        ,\n",
       "          0.        ,  52.        ,  38.        ,   0.        ],\n",
       "       [  1.        ,   0.        ,  46.        ,   0.        ,\n",
       "          0.        ,  26.        ,  80.        ,   0.        ],\n",
       "       [  1.        ,   0.        ,  32.5       ,   0.        ,\n",
       "          0.        , 211.5       ,  45.        ,   1.        ],\n",
       "       [  1.        ,   0.        ,  58.        ,   0.        ,\n",
       "          0.        ,  29.7       , 258.        ,   1.        ],\n",
       "       [  1.        ,   0.        ,  29.        ,   0.        ,\n",
       "          0.        ,  30.        , 126.        ,   1.        ],\n",
       "       [  1.        ,   0.        ,  46.        ,   0.        ,\n",
       "          0.        ,  75.2417    , 292.        ,   1.        ],\n",
       "       [  1.        ,   0.        ,  54.        ,   0.        ,\n",
       "          0.        ,  51.8625    , 175.        ,   1.        ],\n",
       "       [  1.        ,   0.        ,  65.        ,   0.        ,\n",
       "          0.        ,  26.55      , 249.        ,   1.        ],\n",
       "       [  1.        ,   0.        ,  44.        ,   2.        ,\n",
       "          0.        ,  90.        , 230.        ,   1.        ],\n",
       "       [  1.        ,   0.        ,  58.        ,   0.        ,\n",
       "          2.        , 113.275     , 122.        ,   1.        ],\n",
       "       [  1.        ,   0.        ,  64.        ,   0.        ,\n",
       "          0.        ,  26.        , 263.        ,   0.        ],\n",
       "       [  1.        ,   0.        ,  65.        ,   0.        ,\n",
       "          1.        ,  61.9792    , 234.        ,   1.        ],\n",
       "       [  1.        ,   0.        ,  28.5       ,   0.        ,\n",
       "          0.        ,  27.7208    , 189.        ,   1.        ],\n",
       "       [  1.        ,   0.        ,  45.5       ,   0.        ,\n",
       "          0.        ,  28.5       , 166.        ,   1.        ],\n",
       "       [  1.        ,   0.        ,  47.        ,   0.        ,\n",
       "          0.        ,  52.        , 207.        ,   1.        ],\n",
       "       [  1.        ,   0.        ,  22.        ,   0.        ,\n",
       "          0.        , 135.6333    , 232.        ,   0.        ],\n",
       "       [  1.        ,   0.        ,  46.        ,   0.        ,\n",
       "          0.        ,  79.2       ,  16.        ,   0.        ],\n",
       "       [  1.        ,   0.        ,  33.        ,   0.        ,\n",
       "          0.        ,  26.55      , 109.        ,   0.        ],\n",
       "       [  1.        ,   0.        ,  67.        ,   1.        ,\n",
       "          0.        , 221.7792    ,  96.        ,   1.        ],\n",
       "       [  1.        ,   0.        ,  61.        ,   0.        ,\n",
       "          0.        ,  32.3208    ,  46.        ,   1.        ],\n",
       "       [  1.        ,   0.        ,  61.        ,   0.        ,\n",
       "          0.        ,  33.5       , 245.        ,   1.        ],\n",
       "       [  1.        ,   0.        ,  21.        ,   0.        ,\n",
       "          1.        ,  77.2875    , 169.        ,   1.        ],\n",
       "       [  2.        ,   0.        ,  51.        ,   0.        ,\n",
       "          0.        ,  12.525     , 174.        ,   0.        ],\n",
       "       [  2.        ,   0.        ,  25.        ,   0.        ,\n",
       "          0.        ,  13.        ,  97.        ,   0.        ],\n",
       "       [  2.        ,   0.        ,  19.        ,   0.        ,\n",
       "          0.        ,  13.        ,  18.        ,   0.        ],\n",
       "       [  2.        ,   0.        ,  52.        ,   0.        ,\n",
       "          0.        ,  13.5       , 130.        ,   0.        ],\n",
       "       [  2.        ,   0.        ,  37.        ,   1.        ,\n",
       "          0.        ,  26.        ,  17.        ,   0.        ],\n",
       "       [  2.        ,   0.        ,  29.        ,   1.        ,\n",
       "          0.        ,  27.7208    , 295.        ,   0.        ],\n",
       "       [  2.        ,   0.        ,  40.        ,   1.        ,\n",
       "          0.        ,  26.        , 286.        ,   0.        ],\n",
       "       [  2.        ,   0.        ,  36.        ,   0.        ,\n",
       "          0.        ,  13.        , 236.        ,   0.        ],\n",
       "       [  2.        ,   0.        ,  35.        ,   0.        ,\n",
       "          0.        ,  26.        , 322.        ,   0.        ],\n",
       "       [  2.        ,   0.        ,  24.        ,   0.        ,\n",
       "          0.        ,  13.5       , 297.        ,   0.        ],\n",
       "       [  2.        ,   0.        ,  24.        ,   0.        ,\n",
       "          0.        ,  13.        , 155.        ,   0.        ],\n",
       "       [  2.        ,   0.        ,  30.        ,   0.        ,\n",
       "          0.        ,  13.        , 305.        ,   0.        ],\n",
       "       [  2.        ,   0.        ,  52.        ,   0.        ,\n",
       "          0.        ,  13.        ,  19.        ,   0.        ],\n",
       "       [  2.        ,   0.        ,  30.        ,   0.        ,\n",
       "          0.        ,  13.        ,  75.        ,   0.        ],\n",
       "       [  2.        ,   0.        ,  44.        ,   0.        ,\n",
       "          0.        ,  13.        ,  35.        ,   0.        ],\n",
       "       [  2.        ,   0.        ,  32.        ,   2.        ,\n",
       "          0.        ,  73.5       , 256.        ,   0.        ],\n",
       "       [  2.        ,   0.        ,  50.        ,   0.        ,\n",
       "          0.        ,  13.        , 149.        ,   0.        ],\n",
       "       [  2.        ,   0.        ,  34.        ,   1.        ,\n",
       "          0.        ,  26.        , 283.        ,   0.        ],\n",
       "       [  2.        ,   0.        ,  31.        ,   0.        ,\n",
       "          0.        ,  10.5       , 165.        ,   0.        ],\n",
       "       [  2.        ,   0.        ,  24.        ,   0.        ,\n",
       "          0.        ,  10.5       , 108.        ,   0.        ],\n",
       "       [  2.        ,   0.        ,  50.        ,   1.        ,\n",
       "          0.        ,  26.        , 121.        ,   0.        ],\n",
       "       [  2.        ,   0.        ,  57.        ,   0.        ,\n",
       "          0.        ,  10.5       ,  52.        ,   1.        ],\n",
       "       [  2.        ,   0.        ,  32.        ,   0.        ,\n",
       "          0.        ,  13.5       , 209.        ,   0.        ],\n",
       "       [  2.        ,   0.        ,  48.        ,   0.        ,\n",
       "          0.        ,  13.        , 271.        ,   0.        ],\n",
       "       [  2.        ,   0.        ,  32.5       ,   1.        ,\n",
       "          0.        ,  30.0708    ,  43.        ,   0.        ],\n",
       "       [  2.        ,   0.        ,  36.5       ,   0.        ,\n",
       "          2.        ,  26.        ,  15.        ,   1.        ],\n",
       "       [  2.        ,   0.        ,  19.        ,   1.        ,\n",
       "          1.        ,  36.75      , 101.        ,   0.        ],\n",
       "       [  2.        ,   0.        ,  28.        ,   0.        ,\n",
       "          0.        ,  13.5       , 287.        ,   0.        ],\n",
       "       [  2.        ,   0.        ,  25.        ,   0.        ,\n",
       "          0.        ,  10.5       ,  81.        ,   0.        ],\n",
       "       [  2.        ,   0.        ,  18.5       ,   0.        ,\n",
       "          0.        ,  13.        , 294.        ,   1.        ],\n",
       "       [  2.        ,   0.        ,  27.        ,   1.        ,\n",
       "          0.        ,  26.        , 293.        ,   0.        ],\n",
       "       [  3.        ,   0.        ,  16.        ,   1.        ,\n",
       "          1.        ,  20.25      , 190.        ,   0.        ],\n",
       "       [  3.        ,   0.        ,  30.        ,   0.        ,\n",
       "          0.        ,   7.25      ,  72.        ,   0.        ],\n",
       "       [  3.        ,   0.        ,  26.        ,   0.        ,\n",
       "          0.        ,   8.05      , 103.        ,   0.        ],\n",
       "       [  3.        ,   0.        ,  25.        ,   0.        ,\n",
       "          0.        ,   7.05      ,  79.        ,   0.        ],\n",
       "       [  3.        ,   0.        ,  18.        ,   0.        ,\n",
       "          0.        ,   8.3       , 259.        ,   0.        ],\n",
       "       [  3.        ,   0.        ,  32.        ,   0.        ,\n",
       "          0.        ,  22.525     , 260.        ,   0.        ],\n",
       "       [  3.        ,   0.        ,  40.        ,   1.        ,\n",
       "          5.        ,  31.3875    , 142.        ,   0.        ],\n",
       "       [  3.        ,   0.        ,  18.5       ,   0.        ,\n",
       "          0.        ,   7.2833    , 299.        ,   0.        ],\n",
       "       [  3.        ,   0.        ,  70.5       ,   0.        ,\n",
       "          0.        ,   7.75      , 171.        ,   0.        ],\n",
       "       [  3.        ,   0.        ,  22.5       ,   0.        ,\n",
       "          0.        ,   7.225     ,   9.        ,   0.        ],\n",
       "       [  3.        ,   0.        ,  34.        ,   1.        ,\n",
       "          1.        ,  14.4       , 197.        ,   0.        ],\n",
       "       [  3.        ,   0.        ,  33.        ,   0.        ,\n",
       "          0.        ,   7.8958    ,  51.        ,   0.        ],\n",
       "       [  3.        ,   0.        ,  40.5       ,   0.        ,\n",
       "          0.        ,  15.1       , 187.        ,   0.        ],\n",
       "       [  3.        ,   0.        ,  40.5       ,   0.        ,\n",
       "          0.        ,   7.75      ,  68.        ,   0.        ],\n",
       "       [  3.        ,   0.        ,  22.        ,   0.        ,\n",
       "          0.        ,   8.05      ,  47.        ,   0.        ],\n",
       "       [  3.        ,   0.        ,  37.        ,   2.        ,\n",
       "          0.        ,   7.925     ,  98.        ,   0.        ],\n",
       "       [  3.        ,   0.        ,  23.5       ,   0.        ,\n",
       "          0.        ,   7.2292    , 188.        ,   0.        ],\n",
       "       [  3.        ,   0.        ,  21.        ,   0.        ,\n",
       "          0.        ,   7.8542    ,  69.        ,   0.        ],\n",
       "       [  3.        ,   0.        ,  28.        ,   0.        ,\n",
       "          0.        ,   7.8958    , 306.        ,   0.        ],\n",
       "       [  3.        ,   0.        ,  42.        ,   0.        ,\n",
       "          0.        ,   7.65      , 120.        ,   1.        ],\n",
       "       [  3.        ,   0.        ,  34.        ,   0.        ,\n",
       "          0.        ,   6.4958    , 143.        ,   0.        ],\n",
       "       [  3.        ,   0.        ,  22.        ,   0.        ,\n",
       "          0.        ,   7.7958    , 156.        ,   0.        ],\n",
       "       [  3.        ,   0.        ,  33.        ,   0.        ,\n",
       "          0.        ,   8.6542    , 285.        ,   0.        ],\n",
       "       [  3.        ,   0.        ,  33.        ,   0.        ,\n",
       "          0.        ,   7.775     ,  37.        ,   0.        ],\n",
       "       [  3.        ,   0.        ,  18.5       ,   0.        ,\n",
       "          0.        ,   7.2292    ,  58.        ,   0.        ],\n",
       "       [  3.        ,   0.        ,  34.5       ,   0.        ,\n",
       "          0.        ,   7.8292    ,  70.        ,   0.        ],\n",
       "       [  3.        ,   0.        ,  34.5       ,   0.        ,\n",
       "          0.        ,   6.4375    , 196.        ,   0.        ],\n",
       "       [  3.        ,   0.        ,  29.88113451,   0.        ,\n",
       "          0.        ,   7.8792    , 153.        ,   0.        ],\n",
       "       [  3.        ,   0.        ,  30.5       ,   0.        ,\n",
       "          0.        ,   7.75      ,  61.        ,   0.        ],\n",
       "       [  3.        ,   0.        ,  19.        ,   1.        ,\n",
       "          0.        ,  16.1       ,  53.        ,   0.        ],\n",
       "       [  3.        ,   0.        ,  55.5       ,   0.        ,\n",
       "          0.        ,   8.05      , 201.        ,   0.        ],\n",
       "       [  3.        ,   0.        ,  25.        ,   0.        ,\n",
       "          0.        ,   7.65      , 309.        ,   1.        ],\n",
       "       [  3.        ,   0.        ,  28.5       ,   0.        ,\n",
       "          0.        ,   7.2292    , 181.        ,   0.        ],\n",
       "       [  3.        ,   0.        ,  28.        ,   0.        ,\n",
       "          0.        ,  22.525     , 173.        ,   0.        ],\n",
       "       [  3.        ,   0.        ,  20.        ,   0.        ,\n",
       "          0.        ,   9.225     ,  89.        ,   0.        ],\n",
       "       [  3.        ,   0.        ,   2.        ,   3.        ,\n",
       "          1.        ,  21.075     ,   4.        ,   0.        ],\n",
       "       [  3.        ,   0.        ,  29.        ,   0.        ,\n",
       "          4.        ,  21.075     , 206.        ,   0.        ],\n",
       "       [  3.        ,   0.        ,  39.        ,   0.        ,\n",
       "          5.        ,  29.125     , 327.        ,   0.        ],\n",
       "       [  3.        ,   0.        ,  50.        ,   1.        ,\n",
       "          0.        ,  14.5       , 119.        ,   0.        ],\n",
       "       [  3.        ,   0.        ,  47.        ,   1.        ,\n",
       "          0.        ,  14.5       ,   7.        ,   0.        ],\n",
       "       [  3.        ,   0.        ,  38.5       ,   0.        ,\n",
       "          0.        ,   7.25      ,  32.        ,   0.        ],\n",
       "       [  3.        ,   0.        ,  14.5       ,   8.        ,\n",
       "          2.        ,  69.55      ,  67.        ,   0.        ],\n",
       "       [  3.        ,   0.        ,  24.5       ,   0.        ,\n",
       "          0.        ,   8.05      , 284.        ,   0.        ],\n",
       "       [  3.        ,   0.        ,  34.        ,   0.        ,\n",
       "          0.        ,   8.05      , 176.        ,   0.        ],\n",
       "       [  3.        ,   0.        ,  30.5       ,   0.        ,\n",
       "          0.        ,   8.05      ,  50.        ,   0.        ],\n",
       "       [  3.        ,   0.        ,  11.5       ,   1.        ,\n",
       "          1.        ,  14.5       ,   1.        ,   0.        ],\n",
       "       [  3.        ,   0.        ,  40.5       ,   0.        ,\n",
       "          2.        ,  14.5       , 255.        ,   0.        ],\n",
       "       [  3.        ,   0.        ,  32.5       ,   0.        ,\n",
       "          0.        ,   9.5       , 298.        ,   0.        ],\n",
       "       [  3.        ,   0.        ,  18.        ,   1.        ,\n",
       "          0.        ,   6.4958    , 314.        ,   0.        ],\n",
       "       [  3.        ,   0.        ,  28.5       ,   0.        ,\n",
       "          0.        ,  16.1       ,  14.        ,   0.        ],\n",
       "       [  3.        ,   0.        ,  27.        ,   0.        ,\n",
       "          0.        ,   8.6625    , 131.        ,   0.        ],\n",
       "       [  3.        ,   0.        ,  45.5       ,   0.        ,\n",
       "          0.        ,   7.225     , 312.        ,   0.        ],\n",
       "       [  3.        ,   0.        ,  14.5       ,   1.        ,\n",
       "          0.        ,  14.4542    , 328.        ,   0.        ],\n",
       "       [  3.        ,   0.        ,  26.5       ,   0.        ,\n",
       "          0.        ,   7.225     , 304.        ,   0.        ]])"
      ]
     },
     "execution_count": 116,
     "metadata": {},
     "output_type": "execute_result"
    }
   ],
   "source": [
    "df.values"
   ]
  },
  {
   "cell_type": "code",
   "execution_count": 120,
   "metadata": {},
   "outputs": [
    {
     "data": {
      "text/plain": [
       "array([[ 7.22619048e-01,  0.00000000e+00, -5.85423707e+00,\n",
       "         4.49579832e-02,  6.40056022e-02, -2.13144068e+01,\n",
       "        -3.60945378e+00, -2.52661064e-01],\n",
       "       [ 0.00000000e+00,  0.00000000e+00,  0.00000000e+00,\n",
       "         0.00000000e+00,  0.00000000e+00,  0.00000000e+00,\n",
       "         0.00000000e+00,  0.00000000e+00],\n",
       "       [-5.85423707e+00,  0.00000000e+00,  1.96811725e+02,\n",
       "        -2.09817981e+00, -1.97125951e-01,  1.60509930e+02,\n",
       "         6.17051814e+01,  2.59326356e+00],\n",
       "       [ 4.49579832e-02,  0.00000000e+00, -2.09817981e+00,\n",
       "         8.00840336e-01,  1.68907563e-01,  8.32629349e+00,\n",
       "        -8.48697479e+00, -1.84873950e-02],\n",
       "       [ 6.40056022e-02,  0.00000000e+00, -1.97125951e-01,\n",
       "         1.68907563e-01,  7.25770308e-01,  5.14016660e+00,\n",
       "         4.51134454e+00,  1.62464986e-02],\n",
       "       [-2.13144068e+01,  0.00000000e+00,  1.60509930e+02,\n",
       "         8.32629349e+00,  5.14016660e+00,  1.81052342e+03,\n",
       "        -1.79164684e+02,  1.01172689e+01],\n",
       "       [-3.60945378e+00,  0.00000000e+00,  6.17051814e+01,\n",
       "        -8.48697479e+00,  4.51134454e+00, -1.79164684e+02,\n",
       "         9.53983971e+03,  3.88067227e+00],\n",
       "       [-2.52661064e-01,  0.00000000e+00,  2.59326356e+00,\n",
       "        -1.84873950e-02,  1.62464986e-02,  1.01172689e+01,\n",
       "         3.88067227e+00,  1.97198880e-01]])"
      ]
     },
     "execution_count": 120,
     "metadata": {},
     "output_type": "execute_result"
    }
   ],
   "source": [
    "# None of these number are right, but oh well\n",
    "np.array([\n",
    "    [\n",
    "        cv(df[i].values, df[j].values)\n",
    "        for j in df.columns\n",
    "    ]     \n",
    "    for i in df.columns\n",
    "])"
   ]
  },
  {
   "cell_type": "code",
   "execution_count": 92,
   "metadata": {},
   "outputs": [
    {
     "data": {
      "text/plain": [
       "array([[  3792.44194444,    886.34668444,   4719.55847222, ...,\n",
       "         -1325.839375  ,  -1016.46644056,  -1430.11576389],\n",
       "       [   886.34668444,    682.3118464 ,   1300.42594222, ...,\n",
       "          -625.4623575 ,   -800.0635311 ,   -762.93329639],\n",
       "       [  4719.55847222,   1300.42594222,   6321.01048611, ...,\n",
       "         -2467.2915625 ,  -2169.95874528,  -2569.99225694],\n",
       "       ...,\n",
       "       [ -1325.839375  ,   -625.4623575 ,  -2467.2915625 , ...,\n",
       "        185612.965     , 186642.87858   , 186516.84625   ],\n",
       "       [ -1016.46644056,   -800.0635311 ,  -2169.95874528, ...,\n",
       "        186642.87858   , 187832.5023414 , 187605.10764111],\n",
       "       [ -1430.11576389,   -762.93329639,  -2569.99225694, ...,\n",
       "        186516.84625   , 187605.10764111, 187470.25527778]])"
      ]
     },
     "execution_count": 92,
     "metadata": {},
     "output_type": "execute_result"
    }
   ],
   "source": [
    "np.cov(df)"
   ]
  },
  {
   "cell_type": "markdown",
   "metadata": {
    "colab_type": "text",
    "id": "7K0Xfh8MvYkl"
   },
   "source": [
    "# Orthogonality"
   ]
  },
  {
   "cell_type": "markdown",
   "metadata": {
    "colab_type": "text",
    "id": "Pe3eOZ2fvdZ-"
   },
   "source": [
    "## 2.1 Plot two vectors that are orthogonal to each other. What is a synonym for orthogonal?\n",
    "\n",
    "$\\perp$"
   ]
  },
  {
   "cell_type": "code",
   "execution_count": 124,
   "metadata": {
    "colab": {},
    "colab_type": "code",
    "id": "YLSBk7hJvvCx"
   },
   "outputs": [
    {
     "data": {
      "image/png": "[encoded data removed]",
      "text/plain": [
       "<Figure size 432x288 with 1 Axes>"
      ]
     },
     "metadata": {
      "needs_background": "light"
     },
     "output_type": "display_data"
    }
   ],
   "source": [
    "import matplotlib.pyplot as plt\n",
    "\n",
    "ihat = [1, 0]\n",
    "jhat = [0, 1]\n",
    "\n",
    "plt.xlim(-1,3)          \n",
    "plt.ylim(-1,2)\n",
    "\n",
    "plt.arrow(0, 0, ihat[0], ihat[1], head_width=.05, head_length=0.05, color = 'r')\n",
    "plt.arrow(0, 0, jhat[0], jhat[1], head_width=.05, head_length=0.05, color = 'b')\n",
    "\n",
    "plt.show();"
   ]
  },
  {
   "cell_type": "markdown",
   "metadata": {
    "colab_type": "text",
    "id": "7AS4V1Nhvvxz"
   },
   "source": [
    "## 2.2 Are the following vectors orthogonal? Why or why not?\n",
    "\n",
    "\\begin{align}\n",
    "a = \\begin{bmatrix} -5 \\\\ 3 \\\\ 7 \\end{bmatrix}\n",
    "\\qquad\n",
    "b = \\begin{bmatrix} 6 \\\\ -8 \\\\ 2 \\end{bmatrix}\n",
    "\\end{align}"
   ]
  },
  {
   "cell_type": "code",
   "execution_count": 125,
   "metadata": {
    "colab": {},
    "colab_type": "code",
    "id": "F_-y54YSz47k"
   },
   "outputs": [
    {
     "data": {
      "text/plain": [
       "-40"
      ]
     },
     "execution_count": 125,
     "metadata": {},
     "output_type": "execute_result"
    }
   ],
   "source": [
    "a = [-5, 3, 7]\n",
    "b = [ 6,-8, 2]\n",
    "\n",
    "sum(map(lambda x, y: x * y, a, b))\n",
    "\n",
    "# They are not orthogonal, as the dot product of the two vectors is not zero."
   ]
  },
  {
   "cell_type": "markdown",
   "metadata": {
    "colab_type": "text",
    "id": "MiNjyqiEz5SG"
   },
   "source": [
    "## 2.3 Compute the following values: What do these quantities have in common?\n",
    "\n",
    "## What is $||c||^2$? \n",
    "\n",
    "## What is $c \\cdot c$? \n",
    "\n",
    "## What is $c^{T}c$?\n",
    "\n",
    "\\begin{align}\n",
    "c = \\begin{bmatrix} 2 & -15 & 6 & 20 \\end{bmatrix}\n",
    "\\end{align}"
   ]
  },
  {
   "cell_type": "code",
   "execution_count": 129,
   "metadata": {
    "colab": {},
    "colab_type": "code",
    "id": "IlV_uaYK1EQB"
   },
   "outputs": [
    {
     "data": {
      "text/plain": [
       "-12960000"
      ]
     },
     "execution_count": 129,
     "metadata": {},
     "output_type": "execute_result"
    }
   ],
   "source": [
    "2**2 * -15**2 * 6**2 * 20**2"
   ]
  },
  {
   "cell_type": "code",
   "execution_count": 131,
   "metadata": {},
   "outputs": [
    {
     "data": {
      "text/plain": [
       "665"
      ]
     },
     "execution_count": 131,
     "metadata": {},
     "output_type": "execute_result"
    }
   ],
   "source": [
    "2 * 2 + -15 * -15 + 6 * 6 + 20 * 20"
   ]
  },
  {
   "cell_type": "code",
   "execution_count": 132,
   "metadata": {},
   "outputs": [
    {
     "data": {
      "text/plain": [
       "array([[   4,  -30,   12,   40],\n",
       "       [ -30,  225,  -90, -300],\n",
       "       [  12,  -90,   36,  120],\n",
       "       [  40, -300,  120,  400]])"
      ]
     },
     "execution_count": 132,
     "metadata": {},
     "output_type": "execute_result"
    }
   ],
   "source": [
    "c = [2, -15, 6, 20]\n",
    "\n",
    "np.array([[i * j for j in c] for i in c])\n",
    "\n",
    "# They're all the equivalent of squaring in their respective contexts?"
   ]
  },
  {
   "cell_type": "markdown",
   "metadata": {
    "colab_type": "text",
    "id": "MK_TpWqk1Evk"
   },
   "source": [
    "# Unit Vectors"
   ]
  },
  {
   "cell_type": "markdown",
   "metadata": {
    "colab_type": "text",
    "id": "Kpit6WWO1b8l"
   },
   "source": [
    "## 3.1 Using Latex, write the following vectors as a linear combination of scalars and unit vectors:\n",
    "\n",
    "\\begin{align}\n",
    "d = \\begin{bmatrix} 7 \\\\ 12 \\end{bmatrix}\n",
    "\\qquad\n",
    "e = \\begin{bmatrix} 2 \\\\ 11 \\\\ -8  \\end{bmatrix}\n",
    "\\end{align}"
   ]
  },
  {
   "cell_type": "markdown",
   "metadata": {
    "colab_type": "text",
    "id": "oBCj1sDW2ouC"
   },
   "source": [
    "$$d =\n",
    "\\begin{bmatrix}\n",
    "7 \\\\\n",
    "12\n",
    "\\end{bmatrix}\n",
    "= 7\n",
    "\\begin{bmatrix}\n",
    "1 \\\\\n",
    "0\n",
    "\\end{bmatrix}\n",
    "+ 12\n",
    "\\begin{bmatrix}\n",
    "0 \\\\\n",
    "1\n",
    "\\end{bmatrix}\n",
    "$$\n",
    "$$e =\n",
    "\\begin{bmatrix}\n",
    "2 \\\\\n",
    "11 \\\\\n",
    "-8\n",
    "\\end{bmatrix}\n",
    "= 2\n",
    "\\begin{bmatrix}\n",
    "1 \\\\\n",
    "0 \\\\\n",
    "0\n",
    "\\end{bmatrix}\n",
    "+ 11\n",
    "\\begin{bmatrix}\n",
    "0 \\\\\n",
    "1 \\\\\n",
    "0\n",
    "\\end{bmatrix}\n",
    "+ -8\n",
    "\\begin{bmatrix}\n",
    "0 \\\\\n",
    "0 \\\\\n",
    "1\n",
    "\\end{bmatrix}\n",
    "$$"
   ]
  },
  {
   "cell_type": "markdown",
   "metadata": {
    "colab_type": "text",
    "id": "dAdUQuep1_yJ"
   },
   "source": [
    "## 3.2 Turn vector $f$ into a unit vector:\n",
    "\n",
    "\\begin{align}\n",
    "f = \\begin{bmatrix} 4 & 12 & 11 & 9 & 2 \\end{bmatrix}\n",
    "\\end{align}"
   ]
  },
  {
   "cell_type": "code",
   "execution_count": 135,
   "metadata": {
    "colab": {},
    "colab_type": "code",
    "id": "I3W8ZiHR1_Fa"
   },
   "outputs": [
    {
     "data": {
      "text/plain": [
       "array([0.20908335, 0.62725005, 0.57497921, 0.47043754, 0.10454167])"
      ]
     },
     "execution_count": 135,
     "metadata": {},
     "output_type": "execute_result"
    }
   ],
   "source": [
    "f = np.array([4, 12, 11, 9, 2])\n",
    "fmag = (sum(map(lambda x : x ** 2, f))) ** 0.5\n",
    "\n",
    "f = f / fmag\n",
    "f"
   ]
  },
  {
   "cell_type": "markdown",
   "metadata": {
    "colab_type": "text",
    "id": "o39UyP-I5lpP"
   },
   "source": [
    "# Linear Independence / Dependence "
   ]
  },
  {
   "cell_type": "markdown",
   "metadata": {
    "colab_type": "text",
    "id": "ajfBqYe45sT5"
   },
   "source": [
    "## 4.1 Plot two vectors that are linearly dependent and two vectors that are linearly independent (bonus points if done in $\\mathbb{R}^3$)."
   ]
  },
  {
   "cell_type": "code",
   "execution_count": 142,
   "metadata": {},
   "outputs": [
    {
     "data": {
      "image/png": "[encoded data removed]",
      "text/plain": [
       "<Figure size 432x288 with 1 Axes>"
      ]
     },
     "metadata": {
      "needs_background": "light"
     },
     "output_type": "display_data"
    }
   ],
   "source": [
    "from mpl_toolkits.mplot3d import Axes3D\n",
    "\n",
    "yellow = [.5, .5, .5]\n",
    "red = [.7, .7, .7]\n",
    "blue = [.1, .3, .3]\n",
    "green = [.8, .2, .2]\n",
    "\n",
    "vectors = np.array([[0, 0, 0] + yellow, \n",
    "                    [0, 0, 0] + red,\n",
    "                    [0, 0, 0] + blue,\n",
    "                    [0, 0, 0] + green])\n",
    "\n",
    "X, Y, Z, U, V, W = zip(*vectors)\n",
    "fig = plt.figure()\n",
    "ax = fig.add_subplot(111, projection='3d')\n",
    "ax.quiver(X, Y, Z, U, V, W, length=1)\n",
    "ax.set_xlim([0, 1])\n",
    "ax.set_ylim([0, 1])\n",
    "ax.set_zlim([0, 1])\n",
    "ax.set_xlabel('X')\n",
    "ax.set_ylabel('Y')\n",
    "ax.set_zlabel('Z')\n",
    "plt.show()"
   ]
  },
  {
   "cell_type": "markdown",
   "metadata": {
    "colab_type": "text",
    "id": "TrJ0MT_n3SvO"
   },
   "source": [
    "# Span"
   ]
  },
  {
   "cell_type": "markdown",
   "metadata": {
    "colab_type": "text",
    "id": "86iXLzwM2z8l"
   },
   "source": [
    "## 5.1 What is the span of the following vectors?\n",
    "\n",
    "\\begin{align}\n",
    "g = \\begin{bmatrix} 1 & 2 \\end{bmatrix}\n",
    "\\qquad\n",
    "h = \\begin{bmatrix} 4 & 8 \\end{bmatrix}\n",
    "\\end{align}"
   ]
  },
  {
   "cell_type": "markdown",
   "metadata": {
    "colab": {},
    "colab_type": "code",
    "id": "G2LK2RWL39Q4"
   },
   "source": [
    "$g$ and $h$ are linearly dependent, so the span is only along the line created by both vectors, $y=2x$."
   ]
  },
  {
   "cell_type": "markdown",
   "metadata": {
    "colab_type": "text",
    "id": "l1deylUj4IHH"
   },
   "source": [
    "## 5.2 What is the span of $\\{l, m, n\\}$?\n",
    "\n",
    "\\begin{align}\n",
    "l = \\begin{bmatrix} 1 & 2 & 3 \\end{bmatrix}\n",
    "\\qquad\n",
    "m = \\begin{bmatrix} -1 & 0 & 7 \\end{bmatrix}\n",
    "\\qquad\n",
    "n = \\begin{bmatrix} 4 & 8  & 2\\end{bmatrix}\n",
    "\\end{align}"
   ]
  },
  {
   "cell_type": "code",
   "execution_count": 143,
   "metadata": {
    "colab": {},
    "colab_type": "code",
    "id": "p1i_ueD25ZcP"
   },
   "outputs": [
    {
     "data": {
      "text/plain": [
       "-19.999999999999996"
      ]
     },
     "execution_count": 143,
     "metadata": {},
     "output_type": "execute_result"
    }
   ],
   "source": [
    "lmn = np.array([[ 1, 2, 3],\n",
    "                [ 0, 1, 5],\n",
    "                [ 0, 0, 1]])\n",
    "# Row reduction shows that these form a basis for R3, I think"
   ]
  },
  {
   "cell_type": "markdown",
   "metadata": {
    "colab_type": "text",
    "id": "IBqe7X1732kX"
   },
   "source": [
    "# Basis"
   ]
  },
  {
   "cell_type": "markdown",
   "metadata": {
    "colab_type": "text",
    "id": "YeUZVHRM6PpT"
   },
   "source": [
    "## 6.1 Graph two vectors that form a basis for $\\mathbb{R}^2$\n",
    "\n"
   ]
  },
  {
   "cell_type": "code",
   "execution_count": 144,
   "metadata": {
    "colab": {},
    "colab_type": "code",
    "id": "utvF3Pkt8NP6"
   },
   "outputs": [
    {
     "data": {
      "image/png": "[encoded data removed]",
      "text/plain": [
       "<Figure size 432x288 with 1 Axes>"
      ]
     },
     "metadata": {
      "needs_background": "light"
     },
     "output_type": "display_data"
    }
   ],
   "source": [
    "import matplotlib.pyplot as plt\n",
    "\n",
    "ihat = [1, 1]\n",
    "jhat = [0, 1]\n",
    "\n",
    "plt.xlim(-1,3)          \n",
    "plt.ylim(-1,2)\n",
    "\n",
    "plt.arrow(0, 0, ihat[0], ihat[1], head_width=.05, head_length=0.05, color = 'r')\n",
    "plt.arrow(0, 0, jhat[0], jhat[1], head_width=.05, head_length=0.05, color = 'b')\n",
    "\n",
    "plt.show();"
   ]
  },
  {
   "cell_type": "markdown",
   "metadata": {
    "colab_type": "text",
    "id": "20yPFBDUxxnS"
   },
   "source": [
    "## 6.2 What does it mean to form a basis?"
   ]
  },
  {
   "cell_type": "markdown",
   "metadata": {
    "colab_type": "text",
    "id": "3w4tEayT8M0o"
   },
   "source": [
    "A basis is a set of linearly independent vectors that span the entire space you are working with."
   ]
  },
  {
   "cell_type": "markdown",
   "metadata": {
    "colab_type": "text",
    "id": "EHmUxbcY6vD3"
   },
   "source": [
    "# Rank"
   ]
  },
  {
   "cell_type": "markdown",
   "metadata": {
    "colab_type": "text",
    "id": "IpJwt9kw6v8U"
   },
   "source": [
    "## 7.1 What is the Rank of P?\n",
    "\n",
    "\\begin{align}\n",
    "P = \\begin{bmatrix} \n",
    "1 & 2 & 3 \\\\\n",
    " -1 & 0 & 7 \\\\\n",
    "4 & 8  & 2\n",
    "\\end{bmatrix}\n",
    "\\end{align}"
   ]
  },
  {
   "cell_type": "markdown",
   "metadata": {},
   "source": [
    "$$\n",
    "P = \\begin{bmatrix} \n",
    "1 & 2 & 3 \\\\\n",
    " -1 & 0 & 7 \\\\\n",
    "4 & 8  & 2\n",
    "\\end{bmatrix} \\rightarrow \\begin{bmatrix} \n",
    "1 & 2 & 3 \\\\\n",
    " -1 & 0 & 7 \\\\\n",
    "0 & 0  & -10\n",
    "\\end{bmatrix} \\rightarrow \\begin{bmatrix} \n",
    "1 & 2 & 3 \\\\\n",
    " 0 & 2 & 10 \\\\\n",
    "0 & 0  & -10\n",
    "\\end{bmatrix} \\rightarrow \\begin{bmatrix} \n",
    "1 & 2 & 3 \\\\\n",
    " 0 & 2 & 0 \\\\\n",
    "0 & 0  & -10\n",
    "\\end{bmatrix} \\rightarrow \\begin{bmatrix} \n",
    "1 & 0 & 0 \\\\\n",
    " 0 & 2 & 0 \\\\\n",
    "0 & 0  & -10\n",
    "\\end{bmatrix}\n",
    "$$\n",
    "The Rank of $P$ is 3."
   ]
  },
  {
   "cell_type": "markdown",
   "metadata": {
    "colab_type": "text",
    "id": "jGqFMBYY7mHD"
   },
   "source": [
    "## 7.2 What does the rank of a matrix tell us?"
   ]
  },
  {
   "cell_type": "markdown",
   "metadata": {
    "colab_type": "text",
    "id": "Vjg1IiCD8nnP"
   },
   "source": [
    "It tells us the number of linearly independent rows / columns. This also somewhat determines the span."
   ]
  },
  {
   "cell_type": "markdown",
   "metadata": {
    "colab_type": "text",
    "id": "0Db2sc_V8QD6"
   },
   "source": [
    "# Linear Projections\n",
    "\n",
    "## 8.1 Line $L$ is formed by all of the vectors that can be created by scaling vector $v$ \n",
    "\\begin{align}\n",
    "v = \\begin{bmatrix} 1 & 3 \\end{bmatrix}\n",
    "\\end{align}\n",
    "\n",
    "\\begin{align}\n",
    "w = \\begin{bmatrix} -1 & 2 \\end{bmatrix}\n",
    "\\end{align}\n",
    "\n",
    "## find $proj_{L}(w)$\n",
    "\n",
    "## graph your projected vector to check your work (make sure your axis are square/even)"
   ]
  },
  {
   "cell_type": "code",
   "execution_count": 167,
   "metadata": {
    "colab": {},
    "colab_type": "code",
    "id": "hp5z2WTBCNKx"
   },
   "outputs": [
    {
     "name": "stdout",
     "output_type": "stream",
     "text": [
      "[0.5 1.5]\n"
     ]
    },
    {
     "data": {
      "image/png": "[encoded data removed]",
      "text/plain": [
       "<Figure size 432x288 with 1 Axes>"
      ]
     },
     "metadata": {
      "needs_background": "light"
     },
     "output_type": "display_data"
    }
   ],
   "source": [
    "import matplotlib.pyplot as plt\n",
    "\n",
    "v = np.array([1, 3])\n",
    "\n",
    "w = np.array([-1, 2])\n",
    "projLw = v * np.dot(w, v) / np.dot(v, v)\n",
    "print(projLw)\n",
    "\n",
    "\n",
    "plt.xlim(-5,5)          \n",
    "plt.ylim(-5,5)\n",
    "\n",
    "plt.arrow(-v[0], -v[1], v[0] * 2, v[1] * 2, color = 'orange')\n",
    "plt.arrow(0, 0, w[0], w[1], head_width=.1, head_length=0.1, linewidth=3, color = 'g')\n",
    "plt.arrow(0, 0, projLw[0], projLw[1], head_width=.1, head_length=0.1, linewidth=3, color = 'b')\n",
    "\n",
    "plt.show();"
   ]
  },
  {
   "cell_type": "markdown",
   "metadata": {
    "colab_type": "text",
    "id": "TKkrPwRM-Oar"
   },
   "source": [
    "# Stretch Goal\n",
    "\n",
    "## For vectors that begin at the origin, the coordinates of where the vector ends can be interpreted as regular data points. (See 3Blue1Brown videos about Spans, Basis, etc.)\n",
    "\n",
    "## Write a function that can calculate the linear projection of each point (x,y) (vector) onto the line y=x. run the function and plot the original points in blue and the new projected points on the line y=x in red. \n",
    "\n",
    "## For extra points plot the orthogonal vectors as a dashed line from the original blue points to the projected red points."
   ]
  },
  {
   "cell_type": "code",
   "execution_count": 168,
   "metadata": {},
   "outputs": [],
   "source": [
    "def project(x, y, linevector):\n",
    "    return np.array([\n",
    "        np.dot([x[i], y[i]], linevector) * np.array(linevector) / np.dot(linevector, linevector)\n",
    "        for i in range(len(x))\n",
    "    ])"
   ]
  },
  {
   "cell_type": "code",
   "execution_count": 175,
   "metadata": {
    "colab": {
     "base_uri": "https://localhost:8080/",
     "height": 347
    },
    "colab_type": "code",
    "id": "cp52kZra-ykj",
    "outputId": "12502200-eafe-4e20-bfb7-2d539c6027cb"
   },
   "outputs": [
    {
     "name": "stdout",
     "output_type": "stream",
     "text": [
      "[[2.5 2.5]\n",
      " [3.  3. ]\n",
      " [6.  6. ]\n",
      " [1.5 1.5]\n",
      " [8.5 8.5]\n",
      " [3.  3. ]\n",
      " [6.5 6.5]]\n"
     ]
    },
    {
     "data": {
      "image/png": "[encoded data removed]",
      "text/plain": [
       "<Figure size 432x288 with 1 Axes>"
      ]
     },
     "metadata": {
      "needs_background": "light"
     },
     "output_type": "display_data"
    }
   ],
   "source": [
    "import pandas as pd\n",
    "import matplotlib.pyplot as plt\n",
    "\n",
    "# Creating a dataframe for you to work with -Feel free to not use the dataframe if you don't want to.\n",
    "x_values = [1, 4, 7, 3, 9, 4, 5]\n",
    "y_values = [4, 2, 5, 0, 8, 2, 8]\n",
    "\n",
    "data = {\"x\": x_values, \"y\": y_values}\n",
    "\n",
    "df = pd.DataFrame(data)\n",
    "projected = project(df.x, df.y, [1, 1])\n",
    "print(projected)\n",
    "df['projected_x'] = projected[:, 0]\n",
    "df['projected_y'] = projected[:, 1]\n",
    "plt.scatter(df.x, df.y)\n",
    "plt.scatter(df.projected_x, df.projected_y)\n",
    "plt.xlim(0, 10)\n",
    "plt.ylim(-0.5, 10)\n",
    "plt.plot([0, 10], [0, 10])\n",
    "\n",
    "plt.show()"
   ]
  },
  {
   "cell_type": "code",
   "execution_count": 0,
   "metadata": {
    "colab": {},
    "colab_type": "code",
    "id": "EZTA6Tj6BGDb"
   },
   "outputs": [],
   "source": []
  }
 ],
 "metadata": {
  "colab": {
   "collapsed_sections": [],
   "name": "LS_DS_132_Intermediate_Linear_Algebra_Assignment.ipynb",
   "provenance": []
  },
  "kernelspec": {
   "display_name": "Python 3",
   "language": "python",
   "name": "python3"
  },
  "language_info": {
   "codemirror_mode": {
    "name": "ipython",
    "version": 3
   },
   "file_extension": ".py",
   "mimetype": "text/x-python",
   "name": "python",
   "nbconvert_exporter": "python",
   "pygments_lexer": "ipython3",
   "version": "3.7.4"
  }
 },
 "nbformat": 4,
 "nbformat_minor": 1
}
