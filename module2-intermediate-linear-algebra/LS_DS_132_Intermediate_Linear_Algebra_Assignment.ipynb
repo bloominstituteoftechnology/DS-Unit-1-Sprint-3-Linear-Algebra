{
  "nbformat": 4,
  "nbformat_minor": 0,
  "metadata": {
    "colab": {
      "name": "LS_DS_132_Intermediate_Linear_Algebra_Assignment.ipynb",
      "provenance": [],
      "collapsed_sections": []
    },
    "kernelspec": {
      "name": "python3",
      "display_name": "Python 3"
    }
  },
  "cells": [
    {
      "cell_type": "markdown",
      "metadata": {
        "id": "GSNiYn8lr6nN",
        "colab_type": "text"
      },
      "source": [
        "# Statistics"
      ]
    },
    {
      "cell_type": "markdown",
      "metadata": {
        "id": "3d4izUhQvh2_",
        "colab_type": "text"
      },
      "source": [
        "## 1.1 Sales for the past week was the following amounts: [3505, 2400, 3027, 2798, 3700, 3250, 2689]. Without using library functions, what is the mean, variance, and standard deviation of of sales from last week? (for extra bonus points, write your own function that can calculate these two values for any sized list)"
      ]
    },
    {
      "cell_type": "code",
      "metadata": {
        "id": "w1iZfYvBtEA1",
        "colab_type": "code",
        "colab": {}
      },
      "source": [
        "# Imports\n",
        "import pandas as pd\n",
        "import numpy as np\n",
        "import matplotlib.pyplot as plt"
      ],
      "execution_count": 0,
      "outputs": []
    },
    {
      "cell_type": "code",
      "metadata": {
        "id": "CviK78T4oH9r",
        "colab_type": "code",
        "outputId": "b91875fc-34ba-435f-b28b-05c3a219140a",
        "colab": {
          "base_uri": "https://localhost:8080/",
          "height": 34
        }
      },
      "source": [
        "# Put the data in a form of Numpy array\n",
        "sales=np.array([3205,2400,3027,2798,3700,3250,2689])\n",
        "sales"
      ],
      "execution_count": 2,
      "outputs": [
        {
          "output_type": "execute_result",
          "data": {
            "text/plain": [
              "array([3205, 2400, 3027, 2798, 3700, 3250, 2689])"
            ]
          },
          "metadata": {
            "tags": []
          },
          "execution_count": 2
        }
      ]
    },
    {
      "cell_type": "code",
      "metadata": {
        "id": "IhOJefl-rfEV",
        "colab_type": "code",
        "colab": {}
      },
      "source": [
        "# A function that calculates the mean\n",
        "def f_mean(number_list):\n",
        "  total=0\n",
        "  for i in number_list:\n",
        "    total+=i\n",
        "    average=total/len(number_list)\n",
        "  return average\n"
      ],
      "execution_count": 0,
      "outputs": []
    },
    {
      "cell_type": "code",
      "metadata": {
        "id": "RNJkPuueuWQW",
        "colab_type": "code",
        "outputId": "d7fc1a50-2326-4a10-ce36-fb44f6f8f54b",
        "colab": {
          "base_uri": "https://localhost:8080/",
          "height": 34
        }
      },
      "source": [
        "# A simple array just for tests\n",
        "a=np.array([1,2,3,4,5,6,7,8,9,10])\n",
        "a"
      ],
      "execution_count": 4,
      "outputs": [
        {
          "output_type": "execute_result",
          "data": {
            "text/plain": [
              "array([ 1,  2,  3,  4,  5,  6,  7,  8,  9, 10])"
            ]
          },
          "metadata": {
            "tags": []
          },
          "execution_count": 4
        }
      ]
    },
    {
      "cell_type": "code",
      "metadata": {
        "id": "1o8R-XCUx-qp",
        "colab_type": "code",
        "colab": {}
      },
      "source": [
        "# A function that calculates the variance\n",
        "def f_variance(number_list):\n",
        "  total=0\n",
        "  sum_squared=0\n",
        "  for i in number_list:\n",
        "    total+=i\n",
        "    average=total/len(number_list)\n",
        "  for i in number_list:\n",
        "    sum_squared+=(i-average)**2\n",
        "  variance=sum_squared/len(number_list)\n",
        "  return variance\n"
      ],
      "execution_count": 0,
      "outputs": []
    },
    {
      "cell_type": "code",
      "metadata": {
        "id": "esUuG5O-5QLP",
        "colab_type": "code",
        "colab": {}
      },
      "source": [
        "# A function that calculates the standard deviation\n",
        "def f_std(number_list):\n",
        "  total=0\n",
        "  sum_squared=0\n",
        "  for i in number_list:\n",
        "    total+=i\n",
        "    average=total/len(number_list)\n",
        "  for i in number_list:\n",
        "    sum_squared+=(i-average)**2\n",
        "  variance=sum_squared/len(number_list)\n",
        "  std_dev=(variance)**.5\n",
        "  return std_dev"
      ],
      "execution_count": 0,
      "outputs": []
    },
    {
      "cell_type": "code",
      "metadata": {
        "id": "J43Fn48lueLU",
        "colab_type": "code",
        "outputId": "ba9ad5c7-838f-4c8f-d358-c0df677b2e5e",
        "colab": {
          "base_uri": "https://localhost:8080/",
          "height": 141
        }
      },
      "source": [
        "# Test the correctness\n",
        "print('Test the correctness of the numbers calculated by my functions:')\n",
        "print('Mean manually:',f_mean(sales))\n",
        "print('Mean built-in:',np.mean(sales))\n",
        "print('Variance manually:',f_variance(sales))\n",
        "print('Variance built-in:',np.var(sales))\n",
        "print('Standard deviation manually:',f_std(sales))\n",
        "print('Standard deviation built-in:',sales.std(ddof=0))"
      ],
      "execution_count": 7,
      "outputs": [
        {
          "output_type": "stream",
          "text": [
            "Test the correctness of the numbers calculated by my functions:\n",
            "Mean manually: 3009.8571428571427\n",
            "Mean built-in: 3009.8571428571427\n",
            "Variance manually: 156014.12244897962\n",
            "Variance built-in: 156014.12244897962\n",
            "Standard deviation manually: 394.98623070808384\n",
            "Standard deviation built-in: 394.98623070808384\n"
          ],
          "name": "stdout"
        }
      ]
    },
    {
      "cell_type": "markdown",
      "metadata": {
        "id": "oh63KaOctEp_",
        "colab_type": "text"
      },
      "source": [
        "## 1.2 Find the covariance between last week's sales numbers and the number of customers that entered the store last week: [127, 80, 105, 92, 120, 115, 93] (you may use librray functions for calculating the covariance since we didn't specifically talk about its formula)"
      ]
    },
    {
      "cell_type": "code",
      "metadata": {
        "id": "G7ZB0krot564",
        "colab_type": "code",
        "outputId": "5212eb33-73cd-429d-c116-5151f607cc87",
        "colab": {
          "base_uri": "https://localhost:8080/",
          "height": 34
        }
      },
      "source": [
        "# Add the data about the number of customers\n",
        "customers=np.array([127,80,105,92,120,115,93])\n",
        "customers"
      ],
      "execution_count": 8,
      "outputs": [
        {
          "output_type": "execute_result",
          "data": {
            "text/plain": [
              "array([127,  80, 105,  92, 120, 115,  93])"
            ]
          },
          "metadata": {
            "tags": []
          },
          "execution_count": 8
        }
      ]
    },
    {
      "cell_type": "code",
      "metadata": {
        "id": "dossxteZXtGQ",
        "colab_type": "code",
        "colab": {}
      },
      "source": [
        "#s=[3205,2400,3027,2798,3700,3250,2689]\n",
        "#c=[127,80,105,92,120,115,93]"
      ],
      "execution_count": 0,
      "outputs": []
    },
    {
      "cell_type": "code",
      "metadata": {
        "id": "kkyqBTSnT98G",
        "colab_type": "code",
        "outputId": "c6ef6a69-9b64-4334-e35f-ae49b163566b",
        "colab": {
          "base_uri": "https://localhost:8080/",
          "height": 268
        }
      },
      "source": [
        "# Plot it on a graph\n",
        "fake_data = {\"s\": sales, \"c\": customers}\n",
        "\n",
        "df = pd.DataFrame(fake_data)\n",
        "\n",
        "plt.scatter(df.s, df.c)\n",
        "plt.xlim(2000,4000)\n",
        "plt.ylim(70,150)\n",
        "plt.show()"
      ],
      "execution_count": 10,
      "outputs": [
        {
          "output_type": "display_data",
          "data": {
            "image/png": "[encoded data removed]",
            "text/plain": [
              "<Figure size 432x288 with 1 Axes>"
            ]
          },
          "metadata": {
            "tags": []
          }
        }
      ]
    },
    {
      "cell_type": "code",
      "metadata": {
        "id": "ci6ibm52Wcg5",
        "colab_type": "code",
        "outputId": "c1d07439-c50a-4713-9f05-d040b86424c9",
        "colab": {
          "base_uri": "https://localhost:8080/",
          "height": 107
        }
      },
      "source": [
        "# Coviariance matrix\n",
        "covariance=np.cov(sales,customers)\n",
        "pd.DataFrame(covariance)"
      ],
      "execution_count": 11,
      "outputs": [
        {
          "output_type": "execute_result",
          "data": {
            "text/html": [
              "<div>\n",
              "<style scoped>\n",
              "    .dataframe tbody tr th:only-of-type {\n",
              "        vertical-align: middle;\n",
              "    }\n",
              "\n",
              "    .dataframe tbody tr th {\n",
              "        vertical-align: top;\n",
              "    }\n",
              "\n",
              "    .dataframe thead th {\n",
              "        text-align: right;\n",
              "    }\n",
              "</style>\n",
              "<table border=\"1\" class=\"dataframe\">\n",
              "  <thead>\n",
              "    <tr style=\"text-align: right;\">\n",
              "      <th></th>\n",
              "      <th>0</th>\n",
              "      <th>1</th>\n",
              "    </tr>\n",
              "  </thead>\n",
              "  <tbody>\n",
              "    <tr>\n",
              "      <th>0</th>\n",
              "      <td>182016.476190</td>\n",
              "      <td>6482.928571</td>\n",
              "    </tr>\n",
              "    <tr>\n",
              "      <th>1</th>\n",
              "      <td>6482.928571</td>\n",
              "      <td>290.952381</td>\n",
              "    </tr>\n",
              "  </tbody>\n",
              "</table>\n",
              "</div>"
            ],
            "text/plain": [
              "               0            1\n",
              "0  182016.476190  6482.928571\n",
              "1    6482.928571   290.952381"
            ]
          },
          "metadata": {
            "tags": []
          },
          "execution_count": 11
        }
      ]
    },
    {
      "cell_type": "code",
      "metadata": {
        "id": "vR-hnHXEqkiV",
        "colab_type": "code",
        "colab": {
          "base_uri": "https://localhost:8080/",
          "height": 107
        },
        "outputId": "bfe4c2e8-308f-4b07-a8b5-ba9adbb73f25"
      },
      "source": [
        "covariance=np.cov(sales,sales)\n",
        "pd.DataFrame(covariance)"
      ],
      "execution_count": 12,
      "outputs": [
        {
          "output_type": "execute_result",
          "data": {
            "text/html": [
              "<div>\n",
              "<style scoped>\n",
              "    .dataframe tbody tr th:only-of-type {\n",
              "        vertical-align: middle;\n",
              "    }\n",
              "\n",
              "    .dataframe tbody tr th {\n",
              "        vertical-align: top;\n",
              "    }\n",
              "\n",
              "    .dataframe thead th {\n",
              "        text-align: right;\n",
              "    }\n",
              "</style>\n",
              "<table border=\"1\" class=\"dataframe\">\n",
              "  <thead>\n",
              "    <tr style=\"text-align: right;\">\n",
              "      <th></th>\n",
              "      <th>0</th>\n",
              "      <th>1</th>\n",
              "    </tr>\n",
              "  </thead>\n",
              "  <tbody>\n",
              "    <tr>\n",
              "      <th>0</th>\n",
              "      <td>182016.47619</td>\n",
              "      <td>182016.47619</td>\n",
              "    </tr>\n",
              "    <tr>\n",
              "      <th>1</th>\n",
              "      <td>182016.47619</td>\n",
              "      <td>182016.47619</td>\n",
              "    </tr>\n",
              "  </tbody>\n",
              "</table>\n",
              "</div>"
            ],
            "text/plain": [
              "              0             1\n",
              "0  182016.47619  182016.47619\n",
              "1  182016.47619  182016.47619"
            ]
          },
          "metadata": {
            "tags": []
          },
          "execution_count": 12
        }
      ]
    },
    {
      "cell_type": "code",
      "metadata": {
        "id": "eaKn_R1huYRc",
        "colab_type": "code",
        "colab": {
          "base_uri": "https://localhost:8080/",
          "height": 158
        },
        "outputId": "b34f3647-1aed-482d-85ed-95abc21c8615"
      },
      "source": [
        "sales =  [3505, 2400, 3027, 2798, 3700, 3250, 2689]\n",
        "customers = [127, 80, 105, 92, 120, 115, 93]\n",
        "\n",
        "covariance=np.cov(sales,customers,bias=True)\n",
        "print(pd.DataFrame(covariance))\n",
        "\n",
        "\n",
        "sales_average=f_mean(sales)\n",
        "customers_average=f_mean(customers)\n",
        "\n",
        "print(sales)\n",
        "print(customers)\n",
        "sum_covar=0\n",
        "print('sales_average:',sales_average)\n",
        "print('customers_average:',customers_average)\n",
        "sales_var=0\n",
        "list(zip(sales,customers))\n",
        "\n",
        "for (sale,customer) in zip(sales,customers):\n",
        "  sum_covar+=(sales_average-sale)*(customers_average-customer)\n",
        "\n",
        "covar_aver=sum_covar/(len(sales))\n",
        "print('Covar aver:',covar_aver)\n",
        "#  print((sales_average-sale)*(customers_average-customer))\n",
        "#  print(sale,customer)\n",
        "#    sales_var.append\n",
        "#    sum_squared+=(i-average)**2\n",
        "#  variance=sum_squared/len(number_list)\n"
      ],
      "execution_count": 13,
      "outputs": [
        {
          "output_type": "stream",
          "text": [
            "               0            1\n",
            "0  183761.061224  6518.020408\n",
            "1    6518.020408   249.387755\n",
            "[3505, 2400, 3027, 2798, 3700, 3250, 2689]\n",
            "[127, 80, 105, 92, 120, 115, 93]\n",
            "sales_average: 3052.714285714286\n",
            "customers_average: 104.57142857142857\n",
            "Covar aver: 6518.020408163265\n"
          ],
          "name": "stdout"
        }
      ]
    },
    {
      "cell_type": "code",
      "metadata": {
        "id": "H90yZT70q7Ac",
        "colab_type": "code",
        "colab": {
          "base_uri": "https://localhost:8080/",
          "height": 105
        },
        "outputId": "e8db1ac5-6fd8-4080-bb95-45321a986ed4"
      },
      "source": [
        "sales_average=f_mean(sales)\n",
        "customers_average=f_mean(customers)\n",
        "print(sales_average)\n",
        "print(customers_average)\n",
        "sales_variance=f_variance(sales)\n",
        "customers_variance=f_variance(customers)\n",
        "print(sales_variance)\n",
        "print(customers_variance)\n",
        "print('covar',customers_variance*sales_variance)"
      ],
      "execution_count": 14,
      "outputs": [
        {
          "output_type": "stream",
          "text": [
            "3052.714285714286\n",
            "104.57142857142857\n",
            "183761.06122448976\n",
            "249.3877551020408\n",
            "covar 45827758.53394418\n"
          ],
          "name": "stdout"
        }
      ]
    },
    {
      "cell_type": "markdown",
      "metadata": {
        "id": "J9SbUY9mt66I",
        "colab_type": "text"
      },
      "source": [
        "## 1.3 Find the standard deviation of customers who entered the store last week. Then, use the standard deviations of both sales and customers to standardize the covariance to find the correlation coefficient that summarizes the relationship between sales and customers. (You may use library functions to check your work.)"
      ]
    },
    {
      "cell_type": "code",
      "metadata": {
        "id": "vFJms2YRrKhY",
        "colab_type": "code",
        "outputId": "96ebb537-581c-43ac-fcf8-2c5e34a786d6",
        "colab": {
          "base_uri": "https://localhost:8080/",
          "height": 52
        }
      },
      "source": [
        "# Use the previously written function to calculate\n",
        "# Standard Deviation for customers\n",
        "customers_std=f_std(customers)\n",
        "sales_std=f_std(sales)\n",
        "print('Standard Deviation (sales):',sales_std)\n",
        "print('Standard Deviation (customers):',customers_std)"
      ],
      "execution_count": 15,
      "outputs": [
        {
          "output_type": "stream",
          "text": [
            "Standard Deviation (sales): 428.67360686714756\n",
            "Standard Deviation (customers): 15.792015549069118\n"
          ],
          "name": "stdout"
        }
      ]
    },
    {
      "cell_type": "code",
      "metadata": {
        "id": "CKESm4J8fWDo",
        "colab_type": "code",
        "outputId": "46b78e83-f9d1-409d-fa4d-c8a59be23d3c",
        "colab": {
          "base_uri": "https://localhost:8080/",
          "height": 257
        }
      },
      "source": [
        "df = pd.DataFrame({'sales': sales, 'customers': customers})\n",
        "df"
      ],
      "execution_count": 16,
      "outputs": [
        {
          "output_type": "execute_result",
          "data": {
            "text/html": [
              "<div>\n",
              "<style scoped>\n",
              "    .dataframe tbody tr th:only-of-type {\n",
              "        vertical-align: middle;\n",
              "    }\n",
              "\n",
              "    .dataframe tbody tr th {\n",
              "        vertical-align: top;\n",
              "    }\n",
              "\n",
              "    .dataframe thead th {\n",
              "        text-align: right;\n",
              "    }\n",
              "</style>\n",
              "<table border=\"1\" class=\"dataframe\">\n",
              "  <thead>\n",
              "    <tr style=\"text-align: right;\">\n",
              "      <th></th>\n",
              "      <th>sales</th>\n",
              "      <th>customers</th>\n",
              "    </tr>\n",
              "  </thead>\n",
              "  <tbody>\n",
              "    <tr>\n",
              "      <th>0</th>\n",
              "      <td>3505</td>\n",
              "      <td>127</td>\n",
              "    </tr>\n",
              "    <tr>\n",
              "      <th>1</th>\n",
              "      <td>2400</td>\n",
              "      <td>80</td>\n",
              "    </tr>\n",
              "    <tr>\n",
              "      <th>2</th>\n",
              "      <td>3027</td>\n",
              "      <td>105</td>\n",
              "    </tr>\n",
              "    <tr>\n",
              "      <th>3</th>\n",
              "      <td>2798</td>\n",
              "      <td>92</td>\n",
              "    </tr>\n",
              "    <tr>\n",
              "      <th>4</th>\n",
              "      <td>3700</td>\n",
              "      <td>120</td>\n",
              "    </tr>\n",
              "    <tr>\n",
              "      <th>5</th>\n",
              "      <td>3250</td>\n",
              "      <td>115</td>\n",
              "    </tr>\n",
              "    <tr>\n",
              "      <th>6</th>\n",
              "      <td>2689</td>\n",
              "      <td>93</td>\n",
              "    </tr>\n",
              "  </tbody>\n",
              "</table>\n",
              "</div>"
            ],
            "text/plain": [
              "   sales  customers\n",
              "0   3505        127\n",
              "1   2400         80\n",
              "2   3027        105\n",
              "3   2798         92\n",
              "4   3700        120\n",
              "5   3250        115\n",
              "6   2689         93"
            ]
          },
          "metadata": {
            "tags": []
          },
          "execution_count": 16
        }
      ]
    },
    {
      "cell_type": "code",
      "metadata": {
        "id": "TeduSS9AgZP9",
        "colab_type": "code",
        "outputId": "9f80458a-5302-4484-d833-d6ca38e528f1",
        "colab": {
          "base_uri": "https://localhost:8080/",
          "height": 34
        }
      },
      "source": [
        "std_1 = np.std(df['sales'], ddof=1)\n",
        "std_2 = np.std(df['customers'], ddof=1)\n",
        "covar = df['sales'].cov(df['customers'])\n",
        "print(f\"Correlation coefficient: {covar / (std_1 * std_2):.2f}\")"
      ],
      "execution_count": 17,
      "outputs": [
        {
          "output_type": "stream",
          "text": [
            "Correlation coefficient: 0.96\n"
          ],
          "name": "stdout"
        }
      ]
    },
    {
      "cell_type": "code",
      "metadata": {
        "id": "wICHZvqYhTqN",
        "colab_type": "code",
        "outputId": "a948c0e0-fd88-4129-e4e8-2b3b37f44762",
        "colab": {
          "base_uri": "https://localhost:8080/",
          "height": 107
        }
      },
      "source": [
        "# Check\n",
        "df.corr()"
      ],
      "execution_count": 18,
      "outputs": [
        {
          "output_type": "execute_result",
          "data": {
            "text/html": [
              "<div>\n",
              "<style scoped>\n",
              "    .dataframe tbody tr th:only-of-type {\n",
              "        vertical-align: middle;\n",
              "    }\n",
              "\n",
              "    .dataframe tbody tr th {\n",
              "        vertical-align: top;\n",
              "    }\n",
              "\n",
              "    .dataframe thead th {\n",
              "        text-align: right;\n",
              "    }\n",
              "</style>\n",
              "<table border=\"1\" class=\"dataframe\">\n",
              "  <thead>\n",
              "    <tr style=\"text-align: right;\">\n",
              "      <th></th>\n",
              "      <th>sales</th>\n",
              "      <th>customers</th>\n",
              "    </tr>\n",
              "  </thead>\n",
              "  <tbody>\n",
              "    <tr>\n",
              "      <th>sales</th>\n",
              "      <td>1.000000</td>\n",
              "      <td>0.962834</td>\n",
              "    </tr>\n",
              "    <tr>\n",
              "      <th>customers</th>\n",
              "      <td>0.962834</td>\n",
              "      <td>1.000000</td>\n",
              "    </tr>\n",
              "  </tbody>\n",
              "</table>\n",
              "</div>"
            ],
            "text/plain": [
              "              sales  customers\n",
              "sales      1.000000   0.962834\n",
              "customers  0.962834   1.000000"
            ]
          },
          "metadata": {
            "tags": []
          },
          "execution_count": 18
        }
      ]
    },
    {
      "cell_type": "markdown",
      "metadata": {
        "id": "IbZVf7nmujPJ",
        "colab_type": "text"
      },
      "source": [
        "## 1.4 Use pandas to import a cleaned version of the titanic dataset from the following link: [Titanic Dataset](https://raw.githubusercontent.com/Geoyi/Cleaning-Titanic-Data/master/titanic_clean.csv)\n",
        "\n",
        "## Calculate the variance-covariance matrix and correlation matrix for the titanic dataset's numeric columns. (you can encode some of the categorical variables and include them as a stretch goal if you finish early)"
      ]
    },
    {
      "cell_type": "code",
      "metadata": {
        "id": "0TWgUIiaCFzq",
        "colab_type": "code",
        "outputId": "9dab4955-01ed-4296-a49c-f5e3dbe6b5ad",
        "colab": {
          "base_uri": "https://localhost:8080/",
          "height": 298
        }
      },
      "source": [
        "# Import the data\n",
        "url='https://raw.githubusercontent.com/Geoyi/Cleaning-Titanic-Data/master/titanic_clean.csv'\n",
        "titanic_df=pd.read_csv(url)\n",
        "print(titanic_df.shape)\n",
        "titanic_df.sample(5)"
      ],
      "execution_count": 19,
      "outputs": [
        {
          "output_type": "stream",
          "text": [
            "(1310, 16)\n"
          ],
          "name": "stdout"
        },
        {
          "output_type": "execute_result",
          "data": {
            "text/html": [
              "<div>\n",
              "<style scoped>\n",
              "    .dataframe tbody tr th:only-of-type {\n",
              "        vertical-align: middle;\n",
              "    }\n",
              "\n",
              "    .dataframe tbody tr th {\n",
              "        vertical-align: top;\n",
              "    }\n",
              "\n",
              "    .dataframe thead th {\n",
              "        text-align: right;\n",
              "    }\n",
              "</style>\n",
              "<table border=\"1\" class=\"dataframe\">\n",
              "  <thead>\n",
              "    <tr style=\"text-align: right;\">\n",
              "      <th></th>\n",
              "      <th>Unnamed: 0</th>\n",
              "      <th>pclass</th>\n",
              "      <th>survived</th>\n",
              "      <th>name</th>\n",
              "      <th>sex</th>\n",
              "      <th>age</th>\n",
              "      <th>sibsp</th>\n",
              "      <th>parch</th>\n",
              "      <th>ticket</th>\n",
              "      <th>fare</th>\n",
              "      <th>cabin</th>\n",
              "      <th>embarked</th>\n",
              "      <th>boat</th>\n",
              "      <th>body</th>\n",
              "      <th>home.dest</th>\n",
              "      <th>has_cabin_number</th>\n",
              "    </tr>\n",
              "  </thead>\n",
              "  <tbody>\n",
              "    <tr>\n",
              "      <th>115</th>\n",
              "      <td>116</td>\n",
              "      <td>1.0</td>\n",
              "      <td>0.0</td>\n",
              "      <td>Fortune, Mr. Mark</td>\n",
              "      <td>male</td>\n",
              "      <td>64.0</td>\n",
              "      <td>1.0</td>\n",
              "      <td>4.0</td>\n",
              "      <td>19950</td>\n",
              "      <td>263.0000</td>\n",
              "      <td>C23 C25 C27</td>\n",
              "      <td>S</td>\n",
              "      <td>NaN</td>\n",
              "      <td>NaN</td>\n",
              "      <td>Winnipeg, MB</td>\n",
              "      <td>1</td>\n",
              "    </tr>\n",
              "    <tr>\n",
              "      <th>1259</th>\n",
              "      <td>1260</td>\n",
              "      <td>3.0</td>\n",
              "      <td>0.0</td>\n",
              "      <td>Turcin, Mr. Stjepan</td>\n",
              "      <td>male</td>\n",
              "      <td>36.0</td>\n",
              "      <td>0.0</td>\n",
              "      <td>0.0</td>\n",
              "      <td>349247</td>\n",
              "      <td>7.8958</td>\n",
              "      <td>NaN</td>\n",
              "      <td>S</td>\n",
              "      <td>NaN</td>\n",
              "      <td>NaN</td>\n",
              "      <td>NaN</td>\n",
              "      <td>0</td>\n",
              "    </tr>\n",
              "    <tr>\n",
              "      <th>1300</th>\n",
              "      <td>1301</td>\n",
              "      <td>3.0</td>\n",
              "      <td>1.0</td>\n",
              "      <td>Yasbeck, Mrs. Antoni (Selini Alexander)</td>\n",
              "      <td>female</td>\n",
              "      <td>15.0</td>\n",
              "      <td>1.0</td>\n",
              "      <td>0.0</td>\n",
              "      <td>2659</td>\n",
              "      <td>14.4542</td>\n",
              "      <td>NaN</td>\n",
              "      <td>C</td>\n",
              "      <td>NaN</td>\n",
              "      <td>NaN</td>\n",
              "      <td>NaN</td>\n",
              "      <td>0</td>\n",
              "    </tr>\n",
              "    <tr>\n",
              "      <th>501</th>\n",
              "      <td>502</td>\n",
              "      <td>2.0</td>\n",
              "      <td>1.0</td>\n",
              "      <td>Mellinger, Miss. Madeleine Violet</td>\n",
              "      <td>female</td>\n",
              "      <td>13.0</td>\n",
              "      <td>0.0</td>\n",
              "      <td>1.0</td>\n",
              "      <td>250644</td>\n",
              "      <td>19.5000</td>\n",
              "      <td>NaN</td>\n",
              "      <td>S</td>\n",
              "      <td>14</td>\n",
              "      <td>NaN</td>\n",
              "      <td>England / Bennington, VT</td>\n",
              "      <td>0</td>\n",
              "    </tr>\n",
              "    <tr>\n",
              "      <th>1061</th>\n",
              "      <td>1062</td>\n",
              "      <td>3.0</td>\n",
              "      <td>1.0</td>\n",
              "      <td>Nilsson, Miss. Helmina Josefina</td>\n",
              "      <td>female</td>\n",
              "      <td>26.0</td>\n",
              "      <td>0.0</td>\n",
              "      <td>0.0</td>\n",
              "      <td>347470</td>\n",
              "      <td>7.8542</td>\n",
              "      <td>NaN</td>\n",
              "      <td>S</td>\n",
              "      <td>13</td>\n",
              "      <td>NaN</td>\n",
              "      <td>NaN</td>\n",
              "      <td>0</td>\n",
              "    </tr>\n",
              "  </tbody>\n",
              "</table>\n",
              "</div>"
            ],
            "text/plain": [
              "      Unnamed: 0  pclass  ...                 home.dest has_cabin_number\n",
              "115          116     1.0  ...              Winnipeg, MB                1\n",
              "1259        1260     3.0  ...                       NaN                0\n",
              "1300        1301     3.0  ...                       NaN                0\n",
              "501          502     2.0  ...  England / Bennington, VT                0\n",
              "1061        1062     3.0  ...                       NaN                0\n",
              "\n",
              "[5 rows x 16 columns]"
            ]
          },
          "metadata": {
            "tags": []
          },
          "execution_count": 19
        }
      ]
    },
    {
      "cell_type": "code",
      "metadata": {
        "id": "EQG5lyDV5VFC",
        "colab_type": "code",
        "colab": {
          "base_uri": "https://localhost:8080/",
          "height": 570
        },
        "outputId": "6a1ca1bf-cd24-4387-d150-ec97680c4f8d"
      },
      "source": [
        "# Find mean of two variables\n",
        "age_mean=titanic_df['age'].mean()\n",
        "print(\"age_mean:\",age_mean)\n",
        "fare_mean=titanic_df['fare'].mean()\n",
        "print(\"fare_mean:\",fare_mean)\n",
        "\n",
        "# Find the distance between each point and its corresponding mean\n",
        "titanic_df['age_distance']=titanic_df.age-age_mean\n",
        "titanic_df['fare_distance']=titanic_df.fare-fare_mean\n",
        "titanic_df.head()\n",
        "\n",
        "#titanic_new_data={'age':[titanic_df['age']],'fare':[titanic_df['fare']]}\n",
        "#titanic_calc=pd.DataFrame(titanic_new_data)\n",
        "#titanic_calc.head()"
      ],
      "execution_count": 20,
      "outputs": [
        {
          "output_type": "stream",
          "text": [
            "age_mean: 29.88113451242805\n",
            "fare_mean: 33.29547928134572\n"
          ],
          "name": "stdout"
        },
        {
          "output_type": "execute_result",
          "data": {
            "text/html": [
              "<div>\n",
              "<style scoped>\n",
              "    .dataframe tbody tr th:only-of-type {\n",
              "        vertical-align: middle;\n",
              "    }\n",
              "\n",
              "    .dataframe tbody tr th {\n",
              "        vertical-align: top;\n",
              "    }\n",
              "\n",
              "    .dataframe thead th {\n",
              "        text-align: right;\n",
              "    }\n",
              "</style>\n",
              "<table border=\"1\" class=\"dataframe\">\n",
              "  <thead>\n",
              "    <tr style=\"text-align: right;\">\n",
              "      <th></th>\n",
              "      <th>Unnamed: 0</th>\n",
              "      <th>pclass</th>\n",
              "      <th>survived</th>\n",
              "      <th>name</th>\n",
              "      <th>sex</th>\n",
              "      <th>age</th>\n",
              "      <th>sibsp</th>\n",
              "      <th>parch</th>\n",
              "      <th>ticket</th>\n",
              "      <th>fare</th>\n",
              "      <th>cabin</th>\n",
              "      <th>embarked</th>\n",
              "      <th>boat</th>\n",
              "      <th>body</th>\n",
              "      <th>home.dest</th>\n",
              "      <th>has_cabin_number</th>\n",
              "      <th>age_distance</th>\n",
              "      <th>fare_distance</th>\n",
              "    </tr>\n",
              "  </thead>\n",
              "  <tbody>\n",
              "    <tr>\n",
              "      <th>0</th>\n",
              "      <td>1</td>\n",
              "      <td>1.0</td>\n",
              "      <td>1.0</td>\n",
              "      <td>Allen, Miss. Elisabeth Walton</td>\n",
              "      <td>female</td>\n",
              "      <td>29.0000</td>\n",
              "      <td>0.0</td>\n",
              "      <td>0.0</td>\n",
              "      <td>24160</td>\n",
              "      <td>211.3375</td>\n",
              "      <td>B5</td>\n",
              "      <td>S</td>\n",
              "      <td>2</td>\n",
              "      <td>NaN</td>\n",
              "      <td>St Louis, MO</td>\n",
              "      <td>1</td>\n",
              "      <td>-0.881135</td>\n",
              "      <td>178.042021</td>\n",
              "    </tr>\n",
              "    <tr>\n",
              "      <th>1</th>\n",
              "      <td>2</td>\n",
              "      <td>1.0</td>\n",
              "      <td>1.0</td>\n",
              "      <td>Allison, Master. Hudson Trevor</td>\n",
              "      <td>male</td>\n",
              "      <td>0.9167</td>\n",
              "      <td>1.0</td>\n",
              "      <td>2.0</td>\n",
              "      <td>113781</td>\n",
              "      <td>151.5500</td>\n",
              "      <td>C22 C26</td>\n",
              "      <td>S</td>\n",
              "      <td>11</td>\n",
              "      <td>NaN</td>\n",
              "      <td>Montreal, PQ / Chesterville, ON</td>\n",
              "      <td>1</td>\n",
              "      <td>-28.964435</td>\n",
              "      <td>118.254521</td>\n",
              "    </tr>\n",
              "    <tr>\n",
              "      <th>2</th>\n",
              "      <td>3</td>\n",
              "      <td>1.0</td>\n",
              "      <td>0.0</td>\n",
              "      <td>Allison, Miss. Helen Loraine</td>\n",
              "      <td>female</td>\n",
              "      <td>2.0000</td>\n",
              "      <td>1.0</td>\n",
              "      <td>2.0</td>\n",
              "      <td>113781</td>\n",
              "      <td>151.5500</td>\n",
              "      <td>C22 C26</td>\n",
              "      <td>S</td>\n",
              "      <td>NaN</td>\n",
              "      <td>NaN</td>\n",
              "      <td>Montreal, PQ / Chesterville, ON</td>\n",
              "      <td>1</td>\n",
              "      <td>-27.881135</td>\n",
              "      <td>118.254521</td>\n",
              "    </tr>\n",
              "    <tr>\n",
              "      <th>3</th>\n",
              "      <td>4</td>\n",
              "      <td>1.0</td>\n",
              "      <td>0.0</td>\n",
              "      <td>Allison, Mr. Hudson Joshua Creighton</td>\n",
              "      <td>male</td>\n",
              "      <td>30.0000</td>\n",
              "      <td>1.0</td>\n",
              "      <td>2.0</td>\n",
              "      <td>113781</td>\n",
              "      <td>151.5500</td>\n",
              "      <td>C22 C26</td>\n",
              "      <td>S</td>\n",
              "      <td>NaN</td>\n",
              "      <td>135.0</td>\n",
              "      <td>Montreal, PQ / Chesterville, ON</td>\n",
              "      <td>1</td>\n",
              "      <td>0.118865</td>\n",
              "      <td>118.254521</td>\n",
              "    </tr>\n",
              "    <tr>\n",
              "      <th>4</th>\n",
              "      <td>5</td>\n",
              "      <td>1.0</td>\n",
              "      <td>0.0</td>\n",
              "      <td>Allison, Mrs. Hudson J C (Bessie Waldo Daniels)</td>\n",
              "      <td>female</td>\n",
              "      <td>25.0000</td>\n",
              "      <td>1.0</td>\n",
              "      <td>2.0</td>\n",
              "      <td>113781</td>\n",
              "      <td>151.5500</td>\n",
              "      <td>C22 C26</td>\n",
              "      <td>S</td>\n",
              "      <td>NaN</td>\n",
              "      <td>NaN</td>\n",
              "      <td>Montreal, PQ / Chesterville, ON</td>\n",
              "      <td>1</td>\n",
              "      <td>-4.881135</td>\n",
              "      <td>118.254521</td>\n",
              "    </tr>\n",
              "  </tbody>\n",
              "</table>\n",
              "</div>"
            ],
            "text/plain": [
              "   Unnamed: 0  pclass  survived  ... has_cabin_number age_distance  fare_distance\n",
              "0           1     1.0       1.0  ...                1    -0.881135     178.042021\n",
              "1           2     1.0       1.0  ...                1   -28.964435     118.254521\n",
              "2           3     1.0       0.0  ...                1   -27.881135     118.254521\n",
              "3           4     1.0       0.0  ...                1     0.118865     118.254521\n",
              "4           5     1.0       0.0  ...                1    -4.881135     118.254521\n",
              "\n",
              "[5 rows x 18 columns]"
            ]
          },
          "metadata": {
            "tags": []
          },
          "execution_count": 20
        }
      ]
    },
    {
      "cell_type": "code",
      "metadata": {
        "id": "qG3hHJ_vAJ88",
        "colab_type": "code",
        "colab": {
          "base_uri": "https://localhost:8080/",
          "height": 534
        },
        "outputId": "cb9e8c11-9ba4-4bb6-a198-01f9eccc1eb2"
      },
      "source": [
        "# Now square the distances\n",
        "titanic_df['age_squared_distance']=titanic_df.age_distance**2\n",
        "titanic_df['fare_squared_distance']=titanic_df.fare_distance**2\n",
        "titanic_df.head()"
      ],
      "execution_count": 21,
      "outputs": [
        {
          "output_type": "execute_result",
          "data": {
            "text/html": [
              "<div>\n",
              "<style scoped>\n",
              "    .dataframe tbody tr th:only-of-type {\n",
              "        vertical-align: middle;\n",
              "    }\n",
              "\n",
              "    .dataframe tbody tr th {\n",
              "        vertical-align: top;\n",
              "    }\n",
              "\n",
              "    .dataframe thead th {\n",
              "        text-align: right;\n",
              "    }\n",
              "</style>\n",
              "<table border=\"1\" class=\"dataframe\">\n",
              "  <thead>\n",
              "    <tr style=\"text-align: right;\">\n",
              "      <th></th>\n",
              "      <th>Unnamed: 0</th>\n",
              "      <th>pclass</th>\n",
              "      <th>survived</th>\n",
              "      <th>name</th>\n",
              "      <th>sex</th>\n",
              "      <th>age</th>\n",
              "      <th>sibsp</th>\n",
              "      <th>parch</th>\n",
              "      <th>ticket</th>\n",
              "      <th>fare</th>\n",
              "      <th>cabin</th>\n",
              "      <th>embarked</th>\n",
              "      <th>boat</th>\n",
              "      <th>body</th>\n",
              "      <th>home.dest</th>\n",
              "      <th>has_cabin_number</th>\n",
              "      <th>age_distance</th>\n",
              "      <th>fare_distance</th>\n",
              "      <th>age_squared_distance</th>\n",
              "      <th>fare_squared_distance</th>\n",
              "    </tr>\n",
              "  </thead>\n",
              "  <tbody>\n",
              "    <tr>\n",
              "      <th>0</th>\n",
              "      <td>1</td>\n",
              "      <td>1.0</td>\n",
              "      <td>1.0</td>\n",
              "      <td>Allen, Miss. Elisabeth Walton</td>\n",
              "      <td>female</td>\n",
              "      <td>29.0000</td>\n",
              "      <td>0.0</td>\n",
              "      <td>0.0</td>\n",
              "      <td>24160</td>\n",
              "      <td>211.3375</td>\n",
              "      <td>B5</td>\n",
              "      <td>S</td>\n",
              "      <td>2</td>\n",
              "      <td>NaN</td>\n",
              "      <td>St Louis, MO</td>\n",
              "      <td>1</td>\n",
              "      <td>-0.881135</td>\n",
              "      <td>178.042021</td>\n",
              "      <td>0.776398</td>\n",
              "      <td>31698.961142</td>\n",
              "    </tr>\n",
              "    <tr>\n",
              "      <th>1</th>\n",
              "      <td>2</td>\n",
              "      <td>1.0</td>\n",
              "      <td>1.0</td>\n",
              "      <td>Allison, Master. Hudson Trevor</td>\n",
              "      <td>male</td>\n",
              "      <td>0.9167</td>\n",
              "      <td>1.0</td>\n",
              "      <td>2.0</td>\n",
              "      <td>113781</td>\n",
              "      <td>151.5500</td>\n",
              "      <td>C22 C26</td>\n",
              "      <td>S</td>\n",
              "      <td>11</td>\n",
              "      <td>NaN</td>\n",
              "      <td>Montreal, PQ / Chesterville, ON</td>\n",
              "      <td>1</td>\n",
              "      <td>-28.964435</td>\n",
              "      <td>118.254521</td>\n",
              "      <td>838.938467</td>\n",
              "      <td>13984.131670</td>\n",
              "    </tr>\n",
              "    <tr>\n",
              "      <th>2</th>\n",
              "      <td>3</td>\n",
              "      <td>1.0</td>\n",
              "      <td>0.0</td>\n",
              "      <td>Allison, Miss. Helen Loraine</td>\n",
              "      <td>female</td>\n",
              "      <td>2.0000</td>\n",
              "      <td>1.0</td>\n",
              "      <td>2.0</td>\n",
              "      <td>113781</td>\n",
              "      <td>151.5500</td>\n",
              "      <td>C22 C26</td>\n",
              "      <td>S</td>\n",
              "      <td>NaN</td>\n",
              "      <td>NaN</td>\n",
              "      <td>Montreal, PQ / Chesterville, ON</td>\n",
              "      <td>1</td>\n",
              "      <td>-27.881135</td>\n",
              "      <td>118.254521</td>\n",
              "      <td>777.357662</td>\n",
              "      <td>13984.131670</td>\n",
              "    </tr>\n",
              "    <tr>\n",
              "      <th>3</th>\n",
              "      <td>4</td>\n",
              "      <td>1.0</td>\n",
              "      <td>0.0</td>\n",
              "      <td>Allison, Mr. Hudson Joshua Creighton</td>\n",
              "      <td>male</td>\n",
              "      <td>30.0000</td>\n",
              "      <td>1.0</td>\n",
              "      <td>2.0</td>\n",
              "      <td>113781</td>\n",
              "      <td>151.5500</td>\n",
              "      <td>C22 C26</td>\n",
              "      <td>S</td>\n",
              "      <td>NaN</td>\n",
              "      <td>135.0</td>\n",
              "      <td>Montreal, PQ / Chesterville, ON</td>\n",
              "      <td>1</td>\n",
              "      <td>0.118865</td>\n",
              "      <td>118.254521</td>\n",
              "      <td>0.014129</td>\n",
              "      <td>13984.131670</td>\n",
              "    </tr>\n",
              "    <tr>\n",
              "      <th>4</th>\n",
              "      <td>5</td>\n",
              "      <td>1.0</td>\n",
              "      <td>0.0</td>\n",
              "      <td>Allison, Mrs. Hudson J C (Bessie Waldo Daniels)</td>\n",
              "      <td>female</td>\n",
              "      <td>25.0000</td>\n",
              "      <td>1.0</td>\n",
              "      <td>2.0</td>\n",
              "      <td>113781</td>\n",
              "      <td>151.5500</td>\n",
              "      <td>C22 C26</td>\n",
              "      <td>S</td>\n",
              "      <td>NaN</td>\n",
              "      <td>NaN</td>\n",
              "      <td>Montreal, PQ / Chesterville, ON</td>\n",
              "      <td>1</td>\n",
              "      <td>-4.881135</td>\n",
              "      <td>118.254521</td>\n",
              "      <td>23.825474</td>\n",
              "      <td>13984.131670</td>\n",
              "    </tr>\n",
              "  </tbody>\n",
              "</table>\n",
              "</div>"
            ],
            "text/plain": [
              "   Unnamed: 0  pclass  ...  age_squared_distance fare_squared_distance\n",
              "0           1     1.0  ...              0.776398          31698.961142\n",
              "1           2     1.0  ...            838.938467          13984.131670\n",
              "2           3     1.0  ...            777.357662          13984.131670\n",
              "3           4     1.0  ...              0.014129          13984.131670\n",
              "4           5     1.0  ...             23.825474          13984.131670\n",
              "\n",
              "[5 rows x 20 columns]"
            ]
          },
          "metadata": {
            "tags": []
          },
          "execution_count": 21
        }
      ]
    },
    {
      "cell_type": "code",
      "metadata": {
        "id": "-41g-p2HAtvX",
        "colab_type": "code",
        "colab": {
          "base_uri": "https://localhost:8080/",
          "height": 105
        },
        "outputId": "ad243c02-d564-45a7-be29-4b76c481928c"
      },
      "source": [
        "# Final formula (covariance)\n",
        "observations=len(titanic_df)\n",
        "print('Number of observations:', observations)\n",
        "\n",
        "Variance_Age=titanic_df.age_squared_distance.sum()/observations\n",
        "Variance_Fare=titanic_df.fare_squared_distance.sum()/observations\n",
        "\n",
        "print(\"Age variance: \", Variance_Age)\n",
        "print(\"Fair variance: \", Variance_Fare)\n",
        "\n",
        "# Check the numbers by built-in command\n",
        "print(\"Age variance (code):\",titanic_df.age.var(ddof=0))\n",
        "print(\"Fare variance (code):\",titanic_df.fare.var(ddof=0))"
      ],
      "execution_count": 22,
      "outputs": [
        {
          "output_type": "stream",
          "text": [
            "Number of observations: 1310\n",
            "Age variance:  165.72341787151458\n",
            "Fair variance:  2672.824715592373\n",
            "Age variance (code): 165.72341787151473\n",
            "Fare variance (code): 2676.911603536706\n"
          ],
          "name": "stdout"
        }
      ]
    },
    {
      "cell_type": "code",
      "metadata": {
        "id": "Kmpoz8DsRihY",
        "colab_type": "code",
        "colab": {
          "base_uri": "https://localhost:8080/",
          "height": 552
        },
        "outputId": "9ce6c66a-03f5-493b-d63b-7bd98f855fbb"
      },
      "source": [
        "# Actual variance covariance\n",
        "titanic_df = titanic_df.drop(columns=['body'])\n",
        "print(\"variance covariance\\n\", titanic_df.cov().to_string())\n",
        "print()\n",
        "print(\"correlation matrix\\n\", titanic_df.corr().to_string())"
      ],
      "execution_count": 23,
      "outputs": [
        {
          "output_type": "stream",
          "text": [
            "variance covariance\n",
            "                          Unnamed: 0       pclass    survived           age       sibsp        parch           fare  has_cabin_number  age_distance  fare_distance  age_squared_distance  fare_squared_distance\n",
            "Unnamed: 0             1.431175e+05   284.357034  -53.967125  -1442.939812   25.828746     1.172783   -9410.735123        -95.438885  -1442.939812   -9410.735123         -20218.992346          -1.091942e+06\n",
            "pclass                 2.843570e+02     0.701969   -0.127248     -3.954605    0.053090     0.013287     -24.227788         -0.249992     -3.954605     -24.227788            -48.940566          -2.821305e+03\n",
            "survived              -5.396713e+01    -0.127248    0.236250     -0.314343   -0.014088     0.034776       6.146023          0.061406     -0.314343       6.146023             10.786117           8.739201e+02\n",
            "age                   -1.442940e+03    -3.954605   -0.314343    165.850021   -2.559806    -1.459378     114.416613          1.463138    165.850021     114.416613            972.667828           1.712652e+04\n",
            "sibsp                  2.582875e+01     0.053090   -0.014088     -2.559806    1.085052     0.336833       8.641768         -0.003946     -2.559806       8.641768             42.557478           1.818657e+02\n",
            "parch                  1.172783e+00     0.013287    0.034776     -1.459378    0.336833     0.749195       9.928031          0.013316     -1.459378       9.928031             45.453398           1.095787e+03\n",
            "fare                  -9.410735e+03   -24.227788    6.146023    114.416613    8.641768     9.928031    2678.959738         10.976961    114.416613    2678.959738           2088.529568           6.046978e+05\n",
            "has_cabin_number      -9.543888e+01    -0.249992    0.061406      1.463138   -0.003946     0.013316      10.976961          0.174613      1.463138      10.976961             23.256227           1.334188e+03\n",
            "age_distance          -1.442940e+03    -3.954605   -0.314343    165.850021   -2.559806    -1.459378     114.416613          1.463138    165.850021     114.416613            972.667828           1.712652e+04\n",
            "fare_distance         -9.410735e+03   -24.227788    6.146023    114.416613    8.641768     9.928031    2678.959738         10.976961    114.416613    2678.959738           2088.529568           6.046978e+05\n",
            "age_squared_distance  -2.021899e+04   -48.940566   10.786117    972.667828   42.557478    45.453398    2088.529568         23.256227    972.667828    2088.529568          80618.399108           1.875910e+05\n",
            "fare_squared_distance -1.091942e+06 -2821.304997  873.920059  17126.521490  181.865728  1095.787356  604697.846416       1334.188186  17126.521490  604697.846416         187591.022381           2.073965e+08\n",
            "\n",
            "correlation matrix\n",
            "                        Unnamed: 0    pclass  survived       age     sibsp     parch      fare  has_cabin_number  age_distance  fare_distance  age_squared_distance  fare_squared_distance\n",
            "Unnamed: 0               1.000000  0.897822 -0.293717 -0.296172  0.065594  0.003584 -0.481215         -0.603727     -0.296172      -0.481215             -0.188233              -0.200677\n",
            "pclass                   0.897822  1.000000 -0.312469 -0.366370  0.060832  0.018322 -0.558629         -0.713857     -0.366370      -0.558629             -0.205676              -0.233799\n",
            "survived                -0.293717 -0.312469  1.000000 -0.050199 -0.027825  0.082660  0.244265          0.302250     -0.050199       0.244265              0.078136               0.124831\n",
            "age                     -0.296172 -0.366370 -0.050199  1.000000 -0.190747 -0.130872  0.171892          0.271887      1.000000       0.171892              0.266005               0.092474\n",
            "sibsp                    0.065594  0.060832 -0.027825 -0.190747  1.000000  0.373587  0.160238         -0.009064     -0.190747       0.160238              0.143855               0.012120\n",
            "parch                    0.003584  0.018322  0.082660 -0.130872  0.373587  1.000000  0.221539          0.036806     -0.130872       0.221539              0.184902               0.087881\n",
            "fare                    -0.481215 -0.558629  0.244265  0.171892  0.160238  0.221539  1.000000          0.507253      0.171892       1.000000              0.142428               0.811250\n",
            "has_cabin_number        -0.603727 -0.713857  0.302250  0.271887 -0.009064  0.036806  0.507253          1.000000      0.271887       0.507253              0.196012               0.221586\n",
            "age_distance            -0.296172 -0.366370 -0.050199  1.000000 -0.190747 -0.130872  0.171892          0.271887      1.000000       0.171892              0.266005               0.092474\n",
            "fare_distance           -0.481215 -0.558629  0.244265  0.171892  0.160238  0.221539  1.000000          0.507253      0.171892       1.000000              0.142428               0.811250\n",
            "age_squared_distance    -0.188233 -0.205676  0.078136  0.266005  0.143855  0.184902  0.142428          0.196012      0.266005       0.142428              1.000000               0.045978\n",
            "fare_squared_distance   -0.200677 -0.233799  0.124831  0.092474  0.012120  0.087881  0.811250          0.221586      0.092474       0.811250              0.045978               1.000000\n"
          ],
          "name": "stdout"
        }
      ]
    },
    {
      "cell_type": "code",
      "metadata": {
        "id": "NPSMs3dgSAwI",
        "colab_type": "code",
        "colab": {
          "base_uri": "https://localhost:8080/",
          "height": 445
        },
        "outputId": "92c0baa2-9358-4d03-ad7b-561b382be557"
      },
      "source": [
        "print('Variance Covariance Matrix')\n",
        "titanic_df.cov()"
      ],
      "execution_count": 24,
      "outputs": [
        {
          "output_type": "stream",
          "text": [
            "Variance Covariance Matrix\n"
          ],
          "name": "stdout"
        },
        {
          "output_type": "execute_result",
          "data": {
            "text/html": [
              "<div>\n",
              "<style scoped>\n",
              "    .dataframe tbody tr th:only-of-type {\n",
              "        vertical-align: middle;\n",
              "    }\n",
              "\n",
              "    .dataframe tbody tr th {\n",
              "        vertical-align: top;\n",
              "    }\n",
              "\n",
              "    .dataframe thead th {\n",
              "        text-align: right;\n",
              "    }\n",
              "</style>\n",
              "<table border=\"1\" class=\"dataframe\">\n",
              "  <thead>\n",
              "    <tr style=\"text-align: right;\">\n",
              "      <th></th>\n",
              "      <th>Unnamed: 0</th>\n",
              "      <th>pclass</th>\n",
              "      <th>survived</th>\n",
              "      <th>age</th>\n",
              "      <th>sibsp</th>\n",
              "      <th>parch</th>\n",
              "      <th>fare</th>\n",
              "      <th>has_cabin_number</th>\n",
              "      <th>age_distance</th>\n",
              "      <th>fare_distance</th>\n",
              "      <th>age_squared_distance</th>\n",
              "      <th>fare_squared_distance</th>\n",
              "    </tr>\n",
              "  </thead>\n",
              "  <tbody>\n",
              "    <tr>\n",
              "      <th>Unnamed: 0</th>\n",
              "      <td>1.431175e+05</td>\n",
              "      <td>284.357034</td>\n",
              "      <td>-53.967125</td>\n",
              "      <td>-1442.939812</td>\n",
              "      <td>25.828746</td>\n",
              "      <td>1.172783</td>\n",
              "      <td>-9410.735123</td>\n",
              "      <td>-95.438885</td>\n",
              "      <td>-1442.939812</td>\n",
              "      <td>-9410.735123</td>\n",
              "      <td>-20218.992346</td>\n",
              "      <td>-1.091942e+06</td>\n",
              "    </tr>\n",
              "    <tr>\n",
              "      <th>pclass</th>\n",
              "      <td>2.843570e+02</td>\n",
              "      <td>0.701969</td>\n",
              "      <td>-0.127248</td>\n",
              "      <td>-3.954605</td>\n",
              "      <td>0.053090</td>\n",
              "      <td>0.013287</td>\n",
              "      <td>-24.227788</td>\n",
              "      <td>-0.249992</td>\n",
              "      <td>-3.954605</td>\n",
              "      <td>-24.227788</td>\n",
              "      <td>-48.940566</td>\n",
              "      <td>-2.821305e+03</td>\n",
              "    </tr>\n",
              "    <tr>\n",
              "      <th>survived</th>\n",
              "      <td>-5.396713e+01</td>\n",
              "      <td>-0.127248</td>\n",
              "      <td>0.236250</td>\n",
              "      <td>-0.314343</td>\n",
              "      <td>-0.014088</td>\n",
              "      <td>0.034776</td>\n",
              "      <td>6.146023</td>\n",
              "      <td>0.061406</td>\n",
              "      <td>-0.314343</td>\n",
              "      <td>6.146023</td>\n",
              "      <td>10.786117</td>\n",
              "      <td>8.739201e+02</td>\n",
              "    </tr>\n",
              "    <tr>\n",
              "      <th>age</th>\n",
              "      <td>-1.442940e+03</td>\n",
              "      <td>-3.954605</td>\n",
              "      <td>-0.314343</td>\n",
              "      <td>165.850021</td>\n",
              "      <td>-2.559806</td>\n",
              "      <td>-1.459378</td>\n",
              "      <td>114.416613</td>\n",
              "      <td>1.463138</td>\n",
              "      <td>165.850021</td>\n",
              "      <td>114.416613</td>\n",
              "      <td>972.667828</td>\n",
              "      <td>1.712652e+04</td>\n",
              "    </tr>\n",
              "    <tr>\n",
              "      <th>sibsp</th>\n",
              "      <td>2.582875e+01</td>\n",
              "      <td>0.053090</td>\n",
              "      <td>-0.014088</td>\n",
              "      <td>-2.559806</td>\n",
              "      <td>1.085052</td>\n",
              "      <td>0.336833</td>\n",
              "      <td>8.641768</td>\n",
              "      <td>-0.003946</td>\n",
              "      <td>-2.559806</td>\n",
              "      <td>8.641768</td>\n",
              "      <td>42.557478</td>\n",
              "      <td>1.818657e+02</td>\n",
              "    </tr>\n",
              "    <tr>\n",
              "      <th>parch</th>\n",
              "      <td>1.172783e+00</td>\n",
              "      <td>0.013287</td>\n",
              "      <td>0.034776</td>\n",
              "      <td>-1.459378</td>\n",
              "      <td>0.336833</td>\n",
              "      <td>0.749195</td>\n",
              "      <td>9.928031</td>\n",
              "      <td>0.013316</td>\n",
              "      <td>-1.459378</td>\n",
              "      <td>9.928031</td>\n",
              "      <td>45.453398</td>\n",
              "      <td>1.095787e+03</td>\n",
              "    </tr>\n",
              "    <tr>\n",
              "      <th>fare</th>\n",
              "      <td>-9.410735e+03</td>\n",
              "      <td>-24.227788</td>\n",
              "      <td>6.146023</td>\n",
              "      <td>114.416613</td>\n",
              "      <td>8.641768</td>\n",
              "      <td>9.928031</td>\n",
              "      <td>2678.959738</td>\n",
              "      <td>10.976961</td>\n",
              "      <td>114.416613</td>\n",
              "      <td>2678.959738</td>\n",
              "      <td>2088.529568</td>\n",
              "      <td>6.046978e+05</td>\n",
              "    </tr>\n",
              "    <tr>\n",
              "      <th>has_cabin_number</th>\n",
              "      <td>-9.543888e+01</td>\n",
              "      <td>-0.249992</td>\n",
              "      <td>0.061406</td>\n",
              "      <td>1.463138</td>\n",
              "      <td>-0.003946</td>\n",
              "      <td>0.013316</td>\n",
              "      <td>10.976961</td>\n",
              "      <td>0.174613</td>\n",
              "      <td>1.463138</td>\n",
              "      <td>10.976961</td>\n",
              "      <td>23.256227</td>\n",
              "      <td>1.334188e+03</td>\n",
              "    </tr>\n",
              "    <tr>\n",
              "      <th>age_distance</th>\n",
              "      <td>-1.442940e+03</td>\n",
              "      <td>-3.954605</td>\n",
              "      <td>-0.314343</td>\n",
              "      <td>165.850021</td>\n",
              "      <td>-2.559806</td>\n",
              "      <td>-1.459378</td>\n",
              "      <td>114.416613</td>\n",
              "      <td>1.463138</td>\n",
              "      <td>165.850021</td>\n",
              "      <td>114.416613</td>\n",
              "      <td>972.667828</td>\n",
              "      <td>1.712652e+04</td>\n",
              "    </tr>\n",
              "    <tr>\n",
              "      <th>fare_distance</th>\n",
              "      <td>-9.410735e+03</td>\n",
              "      <td>-24.227788</td>\n",
              "      <td>6.146023</td>\n",
              "      <td>114.416613</td>\n",
              "      <td>8.641768</td>\n",
              "      <td>9.928031</td>\n",
              "      <td>2678.959738</td>\n",
              "      <td>10.976961</td>\n",
              "      <td>114.416613</td>\n",
              "      <td>2678.959738</td>\n",
              "      <td>2088.529568</td>\n",
              "      <td>6.046978e+05</td>\n",
              "    </tr>\n",
              "    <tr>\n",
              "      <th>age_squared_distance</th>\n",
              "      <td>-2.021899e+04</td>\n",
              "      <td>-48.940566</td>\n",
              "      <td>10.786117</td>\n",
              "      <td>972.667828</td>\n",
              "      <td>42.557478</td>\n",
              "      <td>45.453398</td>\n",
              "      <td>2088.529568</td>\n",
              "      <td>23.256227</td>\n",
              "      <td>972.667828</td>\n",
              "      <td>2088.529568</td>\n",
              "      <td>80618.399108</td>\n",
              "      <td>1.875910e+05</td>\n",
              "    </tr>\n",
              "    <tr>\n",
              "      <th>fare_squared_distance</th>\n",
              "      <td>-1.091942e+06</td>\n",
              "      <td>-2821.304997</td>\n",
              "      <td>873.920059</td>\n",
              "      <td>17126.521490</td>\n",
              "      <td>181.865728</td>\n",
              "      <td>1095.787356</td>\n",
              "      <td>604697.846416</td>\n",
              "      <td>1334.188186</td>\n",
              "      <td>17126.521490</td>\n",
              "      <td>604697.846416</td>\n",
              "      <td>187591.022381</td>\n",
              "      <td>2.073965e+08</td>\n",
              "    </tr>\n",
              "  </tbody>\n",
              "</table>\n",
              "</div>"
            ],
            "text/plain": [
              "                         Unnamed: 0  ...  fare_squared_distance\n",
              "Unnamed: 0             1.431175e+05  ...          -1.091942e+06\n",
              "pclass                 2.843570e+02  ...          -2.821305e+03\n",
              "survived              -5.396713e+01  ...           8.739201e+02\n",
              "age                   -1.442940e+03  ...           1.712652e+04\n",
              "sibsp                  2.582875e+01  ...           1.818657e+02\n",
              "parch                  1.172783e+00  ...           1.095787e+03\n",
              "fare                  -9.410735e+03  ...           6.046978e+05\n",
              "has_cabin_number      -9.543888e+01  ...           1.334188e+03\n",
              "age_distance          -1.442940e+03  ...           1.712652e+04\n",
              "fare_distance         -9.410735e+03  ...           6.046978e+05\n",
              "age_squared_distance  -2.021899e+04  ...           1.875910e+05\n",
              "fare_squared_distance -1.091942e+06  ...           2.073965e+08\n",
              "\n",
              "[12 rows x 12 columns]"
            ]
          },
          "metadata": {
            "tags": []
          },
          "execution_count": 24
        }
      ]
    },
    {
      "cell_type": "code",
      "metadata": {
        "id": "r0yu6_vxSSfN",
        "colab_type": "code",
        "colab": {
          "base_uri": "https://localhost:8080/",
          "height": 462
        },
        "outputId": "6d474437-b20b-4e92-d64f-021ca8e23091"
      },
      "source": [
        "print('Correlation Matrix')\n",
        "titanic_df.corr()"
      ],
      "execution_count": 25,
      "outputs": [
        {
          "output_type": "stream",
          "text": [
            "Correlation Matrix\n"
          ],
          "name": "stdout"
        },
        {
          "output_type": "execute_result",
          "data": {
            "text/html": [
              "<div>\n",
              "<style scoped>\n",
              "    .dataframe tbody tr th:only-of-type {\n",
              "        vertical-align: middle;\n",
              "    }\n",
              "\n",
              "    .dataframe tbody tr th {\n",
              "        vertical-align: top;\n",
              "    }\n",
              "\n",
              "    .dataframe thead th {\n",
              "        text-align: right;\n",
              "    }\n",
              "</style>\n",
              "<table border=\"1\" class=\"dataframe\">\n",
              "  <thead>\n",
              "    <tr style=\"text-align: right;\">\n",
              "      <th></th>\n",
              "      <th>Unnamed: 0</th>\n",
              "      <th>pclass</th>\n",
              "      <th>survived</th>\n",
              "      <th>age</th>\n",
              "      <th>sibsp</th>\n",
              "      <th>parch</th>\n",
              "      <th>fare</th>\n",
              "      <th>has_cabin_number</th>\n",
              "      <th>age_distance</th>\n",
              "      <th>fare_distance</th>\n",
              "      <th>age_squared_distance</th>\n",
              "      <th>fare_squared_distance</th>\n",
              "    </tr>\n",
              "  </thead>\n",
              "  <tbody>\n",
              "    <tr>\n",
              "      <th>Unnamed: 0</th>\n",
              "      <td>1.000000</td>\n",
              "      <td>0.897822</td>\n",
              "      <td>-0.293717</td>\n",
              "      <td>-0.296172</td>\n",
              "      <td>0.065594</td>\n",
              "      <td>0.003584</td>\n",
              "      <td>-0.481215</td>\n",
              "      <td>-0.603727</td>\n",
              "      <td>-0.296172</td>\n",
              "      <td>-0.481215</td>\n",
              "      <td>-0.188233</td>\n",
              "      <td>-0.200677</td>\n",
              "    </tr>\n",
              "    <tr>\n",
              "      <th>pclass</th>\n",
              "      <td>0.897822</td>\n",
              "      <td>1.000000</td>\n",
              "      <td>-0.312469</td>\n",
              "      <td>-0.366370</td>\n",
              "      <td>0.060832</td>\n",
              "      <td>0.018322</td>\n",
              "      <td>-0.558629</td>\n",
              "      <td>-0.713857</td>\n",
              "      <td>-0.366370</td>\n",
              "      <td>-0.558629</td>\n",
              "      <td>-0.205676</td>\n",
              "      <td>-0.233799</td>\n",
              "    </tr>\n",
              "    <tr>\n",
              "      <th>survived</th>\n",
              "      <td>-0.293717</td>\n",
              "      <td>-0.312469</td>\n",
              "      <td>1.000000</td>\n",
              "      <td>-0.050199</td>\n",
              "      <td>-0.027825</td>\n",
              "      <td>0.082660</td>\n",
              "      <td>0.244265</td>\n",
              "      <td>0.302250</td>\n",
              "      <td>-0.050199</td>\n",
              "      <td>0.244265</td>\n",
              "      <td>0.078136</td>\n",
              "      <td>0.124831</td>\n",
              "    </tr>\n",
              "    <tr>\n",
              "      <th>age</th>\n",
              "      <td>-0.296172</td>\n",
              "      <td>-0.366370</td>\n",
              "      <td>-0.050199</td>\n",
              "      <td>1.000000</td>\n",
              "      <td>-0.190747</td>\n",
              "      <td>-0.130872</td>\n",
              "      <td>0.171892</td>\n",
              "      <td>0.271887</td>\n",
              "      <td>1.000000</td>\n",
              "      <td>0.171892</td>\n",
              "      <td>0.266005</td>\n",
              "      <td>0.092474</td>\n",
              "    </tr>\n",
              "    <tr>\n",
              "      <th>sibsp</th>\n",
              "      <td>0.065594</td>\n",
              "      <td>0.060832</td>\n",
              "      <td>-0.027825</td>\n",
              "      <td>-0.190747</td>\n",
              "      <td>1.000000</td>\n",
              "      <td>0.373587</td>\n",
              "      <td>0.160238</td>\n",
              "      <td>-0.009064</td>\n",
              "      <td>-0.190747</td>\n",
              "      <td>0.160238</td>\n",
              "      <td>0.143855</td>\n",
              "      <td>0.012120</td>\n",
              "    </tr>\n",
              "    <tr>\n",
              "      <th>parch</th>\n",
              "      <td>0.003584</td>\n",
              "      <td>0.018322</td>\n",
              "      <td>0.082660</td>\n",
              "      <td>-0.130872</td>\n",
              "      <td>0.373587</td>\n",
              "      <td>1.000000</td>\n",
              "      <td>0.221539</td>\n",
              "      <td>0.036806</td>\n",
              "      <td>-0.130872</td>\n",
              "      <td>0.221539</td>\n",
              "      <td>0.184902</td>\n",
              "      <td>0.087881</td>\n",
              "    </tr>\n",
              "    <tr>\n",
              "      <th>fare</th>\n",
              "      <td>-0.481215</td>\n",
              "      <td>-0.558629</td>\n",
              "      <td>0.244265</td>\n",
              "      <td>0.171892</td>\n",
              "      <td>0.160238</td>\n",
              "      <td>0.221539</td>\n",
              "      <td>1.000000</td>\n",
              "      <td>0.507253</td>\n",
              "      <td>0.171892</td>\n",
              "      <td>1.000000</td>\n",
              "      <td>0.142428</td>\n",
              "      <td>0.811250</td>\n",
              "    </tr>\n",
              "    <tr>\n",
              "      <th>has_cabin_number</th>\n",
              "      <td>-0.603727</td>\n",
              "      <td>-0.713857</td>\n",
              "      <td>0.302250</td>\n",
              "      <td>0.271887</td>\n",
              "      <td>-0.009064</td>\n",
              "      <td>0.036806</td>\n",
              "      <td>0.507253</td>\n",
              "      <td>1.000000</td>\n",
              "      <td>0.271887</td>\n",
              "      <td>0.507253</td>\n",
              "      <td>0.196012</td>\n",
              "      <td>0.221586</td>\n",
              "    </tr>\n",
              "    <tr>\n",
              "      <th>age_distance</th>\n",
              "      <td>-0.296172</td>\n",
              "      <td>-0.366370</td>\n",
              "      <td>-0.050199</td>\n",
              "      <td>1.000000</td>\n",
              "      <td>-0.190747</td>\n",
              "      <td>-0.130872</td>\n",
              "      <td>0.171892</td>\n",
              "      <td>0.271887</td>\n",
              "      <td>1.000000</td>\n",
              "      <td>0.171892</td>\n",
              "      <td>0.266005</td>\n",
              "      <td>0.092474</td>\n",
              "    </tr>\n",
              "    <tr>\n",
              "      <th>fare_distance</th>\n",
              "      <td>-0.481215</td>\n",
              "      <td>-0.558629</td>\n",
              "      <td>0.244265</td>\n",
              "      <td>0.171892</td>\n",
              "      <td>0.160238</td>\n",
              "      <td>0.221539</td>\n",
              "      <td>1.000000</td>\n",
              "      <td>0.507253</td>\n",
              "      <td>0.171892</td>\n",
              "      <td>1.000000</td>\n",
              "      <td>0.142428</td>\n",
              "      <td>0.811250</td>\n",
              "    </tr>\n",
              "    <tr>\n",
              "      <th>age_squared_distance</th>\n",
              "      <td>-0.188233</td>\n",
              "      <td>-0.205676</td>\n",
              "      <td>0.078136</td>\n",
              "      <td>0.266005</td>\n",
              "      <td>0.143855</td>\n",
              "      <td>0.184902</td>\n",
              "      <td>0.142428</td>\n",
              "      <td>0.196012</td>\n",
              "      <td>0.266005</td>\n",
              "      <td>0.142428</td>\n",
              "      <td>1.000000</td>\n",
              "      <td>0.045978</td>\n",
              "    </tr>\n",
              "    <tr>\n",
              "      <th>fare_squared_distance</th>\n",
              "      <td>-0.200677</td>\n",
              "      <td>-0.233799</td>\n",
              "      <td>0.124831</td>\n",
              "      <td>0.092474</td>\n",
              "      <td>0.012120</td>\n",
              "      <td>0.087881</td>\n",
              "      <td>0.811250</td>\n",
              "      <td>0.221586</td>\n",
              "      <td>0.092474</td>\n",
              "      <td>0.811250</td>\n",
              "      <td>0.045978</td>\n",
              "      <td>1.000000</td>\n",
              "    </tr>\n",
              "  </tbody>\n",
              "</table>\n",
              "</div>"
            ],
            "text/plain": [
              "                       Unnamed: 0  ...  fare_squared_distance\n",
              "Unnamed: 0               1.000000  ...              -0.200677\n",
              "pclass                   0.897822  ...              -0.233799\n",
              "survived                -0.293717  ...               0.124831\n",
              "age                     -0.296172  ...               0.092474\n",
              "sibsp                    0.065594  ...               0.012120\n",
              "parch                    0.003584  ...               0.087881\n",
              "fare                    -0.481215  ...               0.811250\n",
              "has_cabin_number        -0.603727  ...               0.221586\n",
              "age_distance            -0.296172  ...               0.092474\n",
              "fare_distance           -0.481215  ...               0.811250\n",
              "age_squared_distance    -0.188233  ...               0.045978\n",
              "fare_squared_distance   -0.200677  ...               1.000000\n",
              "\n",
              "[12 rows x 12 columns]"
            ]
          },
          "metadata": {
            "tags": []
          },
          "execution_count": 25
        }
      ]
    },
    {
      "cell_type": "code",
      "metadata": {
        "id": "hHFxwZyPU2Rq",
        "colab_type": "code",
        "colab": {
          "base_uri": "https://localhost:8080/",
          "height": 292
        },
        "outputId": "49eb9c51-fe3d-4be9-82e7-5f49ad8a4e23"
      },
      "source": [
        "# We can visualize the correlation\n",
        "import matplotlib.pyplot as plt\n",
        "plt.matshow(titanic_df.corr())\n",
        "plt.show"
      ],
      "execution_count": 26,
      "outputs": [
        {
          "output_type": "execute_result",
          "data": {
            "text/plain": [
              "<function matplotlib.pyplot.show>"
            ]
          },
          "metadata": {
            "tags": []
          },
          "execution_count": 26
        },
        {
          "output_type": "display_data",
          "data": {
            "image/png": "[encoded data removed]",
            "text/plain": [
              "<Figure size 288x288 with 1 Axes>"
            ]
          },
          "metadata": {
            "tags": []
          }
        }
      ]
    },
    {
      "cell_type": "code",
      "metadata": {
        "id": "Wmu4Jq2uVjoa",
        "colab_type": "code",
        "colab": {
          "base_uri": "https://localhost:8080/",
          "height": 373
        },
        "outputId": "52cda6aa-7eb9-4115-d282-420d6bc2d652"
      },
      "source": [
        "import seaborn as sns\n",
        "sns.heatmap(titanic_df.corr());"
      ],
      "execution_count": 27,
      "outputs": [
        {
          "output_type": "display_data",
          "data": {
            "image/png": "[encoded data removed]",
            "text/plain": [
              "<Figure size 432x288 with 2 Axes>"
            ]
          },
          "metadata": {
            "tags": []
          }
        }
      ]
    },
    {
      "cell_type": "markdown",
      "metadata": {
        "id": "TVuxJj7jVjhH",
        "colab_type": "text"
      },
      "source": [
        ""
      ]
    },
    {
      "cell_type": "markdown",
      "metadata": {
        "id": "7K0Xfh8MvYkl",
        "colab_type": "text"
      },
      "source": [
        "# Orthogonality"
      ]
    },
    {
      "cell_type": "markdown",
      "metadata": {
        "id": "Pe3eOZ2fvdZ-",
        "colab_type": "text"
      },
      "source": [
        "## 2.1 Plot two vectors that are orthogonal to each other. What is a synonym for orthogonal?"
      ]
    },
    {
      "cell_type": "code",
      "metadata": {
        "id": "YLSBk7hJvvCx",
        "colab_type": "code",
        "colab": {
          "base_uri": "https://localhost:8080/",
          "height": 352
        },
        "outputId": "d3dcb611-2663-4ee2-a9e3-6b3cad110938"
      },
      "source": [
        "# Orthogonal means perpendicular\n",
        "\n",
        "# Let's plot 2 orthogonal vectors\n",
        "v_1=np.random.randn(3)\n",
        "v_2=np.random.randn(3)\n",
        "v_2-=v_2.dot(v_1)*v_1/np.linalg.norm(v_1)**2\n",
        "print(v_1)\n",
        "print(v_2)\n",
        "print(\"DOT-product:\", v_1.dot(v_2))\n",
        "\n",
        "# Let's visualize them\n",
        "plt.arrow(0,0,v_1[0],v_1[1],head_width=.05,head_length=.05,color=\"red\")\n",
        "plt.arrow(0,0,v_2[0],v_2[1],head_width=.05,head_length=.05,color=\"green\")\n",
        "plt.xlim(-1,2)\n",
        "plt.ylim(-1,2)\n",
        "plt.title(\"Orthogonal vectors\")\n",
        "plt.show"
      ],
      "execution_count": 28,
      "outputs": [
        {
          "output_type": "stream",
          "text": [
            "[ 0.17047827  0.9007393  -0.25843646]\n",
            "[0.44397703 0.03086426 0.40044308]\n",
            "DOT-product: 6.938893903907228e-17\n"
          ],
          "name": "stdout"
        },
        {
          "output_type": "execute_result",
          "data": {
            "text/plain": [
              "<function matplotlib.pyplot.show>"
            ]
          },
          "metadata": {
            "tags": []
          },
          "execution_count": 28
        },
        {
          "output_type": "display_data",
          "data": {
            "image/png": "[encoded data removed]",
            "text/plain": [
              "<Figure size 432x288 with 1 Axes>"
            ]
          },
          "metadata": {
            "tags": []
          }
        }
      ]
    },
    {
      "cell_type": "markdown",
      "metadata": {
        "id": "7AS4V1Nhvvxz",
        "colab_type": "text"
      },
      "source": [
        "## 2.2 Are the following vectors orthogonal? Why or why not?\n",
        "\n",
        "\\begin{align}\n",
        "a = \\begin{bmatrix} -5 \\\\ 3 \\\\ 7 \\end{bmatrix}\n",
        "\\qquad\n",
        "b = \\begin{bmatrix} 6 \\\\ -8 \\\\ 2 \\end{bmatrix}\n",
        "\\end{align}"
      ]
    },
    {
      "cell_type": "code",
      "metadata": {
        "id": "F_-y54YSz47k",
        "colab_type": "code",
        "colab": {
          "base_uri": "https://localhost:8080/",
          "height": 352
        },
        "outputId": "fb626f07-1d98-409c-e6be-1fb4d6b38a04"
      },
      "source": [
        "vector_a=[-5,3,7]\n",
        "vector_b=[6,-8,2]\n",
        "print(vector_a)\n",
        "print(vector_b)\n",
        "print(\"DOT-product:\", np.dot(vector_a,vector_b))\n",
        "\n",
        "# Let's visualize them\n",
        "plt.arrow(0,0,vector_a[0],vector_a[1],head_width=.05,head_length=.05,color=\"red\")\n",
        "plt.arrow(0,0,vector_b[0],vector_b[1],head_width=.05,head_length=.05,color=\"green\")\n",
        "plt.xlim(-8,8)\n",
        "plt.ylim(-9,8)\n",
        "plt.title(\"Vectors a and b\")\n",
        "plt.show"
      ],
      "execution_count": 29,
      "outputs": [
        {
          "output_type": "stream",
          "text": [
            "[-5, 3, 7]\n",
            "[6, -8, 2]\n",
            "DOT-product: -40\n"
          ],
          "name": "stdout"
        },
        {
          "output_type": "execute_result",
          "data": {
            "text/plain": [
              "<function matplotlib.pyplot.show>"
            ]
          },
          "metadata": {
            "tags": []
          },
          "execution_count": 29
        },
        {
          "output_type": "display_data",
          "data": {
            "image/png": "[encoded data removed]",
            "text/plain": [
              "<Figure size 432x288 with 1 Axes>"
            ]
          },
          "metadata": {
            "tags": []
          }
        }
      ]
    },
    {
      "cell_type": "markdown",
      "metadata": {
        "id": "GCbfND35fRrI",
        "colab_type": "text"
      },
      "source": [
        "They are not orthogonal since dot-product isn't zero"
      ]
    },
    {
      "cell_type": "markdown",
      "metadata": {
        "id": "MiNjyqiEz5SG",
        "colab_type": "text"
      },
      "source": [
        "## 2.3 Compute the following values: What do these quantities have in common?\n",
        "\n",
        "## What is $||c||^2$? \n",
        "\n",
        "## What is $c \\cdot c$? \n",
        "\n",
        "## What is $c^{T}c$?\n",
        "\n",
        "\\begin{align}\n",
        "c = \\begin{bmatrix} 2 & -15 & 6 & 20 \\end{bmatrix}\n",
        "\\end{align}"
      ]
    },
    {
      "cell_type": "code",
      "metadata": {
        "id": "IlV_uaYK1EQB",
        "colab_type": "code",
        "colab": {
          "base_uri": "https://localhost:8080/",
          "height": 265
        },
        "outputId": "c2a7a49f-e233-42a4-b04c-2c8da526bc6f"
      },
      "source": [
        "# Import the data\n",
        "c=[2,-15,6,20]\n",
        "print(c)\n",
        "print('\\n')\n",
        "# ||𝑐||**2\n",
        "norm_c = np.linalg.norm(c)\n",
        "print('Norm of c:', norm_c)\n",
        "norm_c_squared = norm_c**2\n",
        "print('||𝑐||**2:', norm_c_squared)\n",
        "print('\\n')\n",
        "\n",
        "# Dot-product 𝑐⋅𝑐\n",
        "print('𝑐⋅𝑐:', np.dot(c,c))\n",
        "print('\\n')\n",
        "\n",
        "# 𝑐𝑇𝑐\n",
        "cT=[20,6,-15,2]\n",
        "print('𝑐T:', cT)\n",
        "print('\\n')\n",
        "print('𝑐Tc:', np.dot(cT,c))"
      ],
      "execution_count": 30,
      "outputs": [
        {
          "output_type": "stream",
          "text": [
            "[2, -15, 6, 20]\n",
            "\n",
            "\n",
            "Norm of c: 25.787593916455254\n",
            "||𝑐||**2: 665.0\n",
            "\n",
            "\n",
            "𝑐⋅𝑐: 665\n",
            "\n",
            "\n",
            "𝑐T: [20, 6, -15, 2]\n",
            "\n",
            "\n",
            "𝑐Tc: -100\n"
          ],
          "name": "stdout"
        }
      ]
    },
    {
      "cell_type": "code",
      "metadata": {
        "id": "iont9hyehHmj",
        "colab_type": "code",
        "colab": {}
      },
      "source": [
        ""
      ],
      "execution_count": 0,
      "outputs": []
    },
    {
      "cell_type": "markdown",
      "metadata": {
        "id": "MK_TpWqk1Evk",
        "colab_type": "text"
      },
      "source": [
        "# Unit Vectors"
      ]
    },
    {
      "cell_type": "markdown",
      "metadata": {
        "id": "Kpit6WWO1b8l",
        "colab_type": "text"
      },
      "source": [
        "## 3.1 Using Latex, write the following vectors as a linear combination of scalars and unit vectors:\n",
        "\n",
        "\\begin{align}\n",
        "d = \\begin{bmatrix} 7 \\\\ 12 \\end{bmatrix}\n",
        "\\qquad\n",
        "e = \\begin{bmatrix} 2 \\\\ 11 \\\\ -8  \\end{bmatrix}\n",
        "\\end{align}"
      ]
    },
    {
      "cell_type": "markdown",
      "metadata": {
        "id": "oBCj1sDW2ouC",
        "colab_type": "text"
      },
      "source": [
        "Your text here"
      ]
    },
    {
      "cell_type": "markdown",
      "metadata": {
        "id": "dAdUQuep1_yJ",
        "colab_type": "text"
      },
      "source": [
        "## 3.2 Turn vector $f$ into a unit vector:\n",
        "\n",
        "\\begin{align}\n",
        "f = \\begin{bmatrix} 4 & 12 & 11 & 9 & 2 \\end{bmatrix}\n",
        "\\end{align}"
      ]
    },
    {
      "cell_type": "code",
      "metadata": {
        "id": "I3W8ZiHR1_Fa",
        "colab_type": "code",
        "colab": {
          "base_uri": "https://localhost:8080/",
          "height": 141
        },
        "outputId": "2108e391-2343-4ac4-e18a-a9555cd751c2"
      },
      "source": [
        "f=[4,12,11,9,2]\n",
        "print('Vector f:',f)\n",
        "print('\\n')\n",
        "\n",
        "norm_f = np.linalg.norm(f)\n",
        "print('Norm of f:', norm_f)\n",
        "print('\\n')\n",
        "\n",
        "unit_f=f/norm_f\n",
        "unit_f\n",
        "print(np.linalg.norm(unit_f))"
      ],
      "execution_count": 31,
      "outputs": [
        {
          "output_type": "stream",
          "text": [
            "Vector f: [4, 12, 11, 9, 2]\n",
            "\n",
            "\n",
            "Norm of f: 19.131126469708992\n",
            "\n",
            "\n",
            "0.9999999999999999\n"
          ],
          "name": "stdout"
        }
      ]
    },
    {
      "cell_type": "markdown",
      "metadata": {
        "id": "o39UyP-I5lpP",
        "colab_type": "text"
      },
      "source": [
        "# Linear Independence / Dependence "
      ]
    },
    {
      "cell_type": "markdown",
      "metadata": {
        "id": "ajfBqYe45sT5",
        "colab_type": "text"
      },
      "source": [
        "## 4.1 Plot two vectors that are linearly dependent and two vectors that are linearly independent (bonus points if done in $\\mathbb{R}^3$)."
      ]
    },
    {
      "cell_type": "code",
      "metadata": {
        "id": "3WMWrstGv3ui",
        "colab_type": "code",
        "colab": {
          "base_uri": "https://localhost:8080/",
          "height": 281
        },
        "outputId": "ef3897d8-9785-497b-80cd-6b8f1f0e6a48"
      },
      "source": [
        "# Plot Linearly Dependent Vectors\n",
        "\n",
        "# Axis Bounds\n",
        "plt.xlim(-1.1,4)          \n",
        "plt.ylim(-1.1,4)\n",
        "\n",
        "# Original Vector\n",
        "v = [1,0] \n",
        "\n",
        "# Scaled Vectors\n",
        "v2 = np.multiply(3, v)\n",
        "\n",
        "# Get Vals for L\n",
        "axes = plt.gca()\n",
        "x_vals = np.array(axes.get_xlim())\n",
        "y_vals = 0*x_vals\n",
        "\n",
        "# Plot Vectors and L\n",
        "plt.plot(x_vals, y_vals, '--', color='b', linewidth=1)\n",
        "plt.arrow(0,0, v2[0], v2[1], linewidth=3, head_width=.05, head_length=0.05, color ='yellow')\n",
        "plt.arrow(0,0, v[0], v[1], linewidth=3, head_width=.05, head_length=0.05, color ='green')\n",
        "\n",
        "plt.title(\"Linearly Dependent Vectors\")\n",
        "plt.show()"
      ],
      "execution_count": 32,
      "outputs": [
        {
          "output_type": "display_data",
          "data": {
            "image/png": "[encoded data removed]",
            "text/plain": [
              "<Figure size 432x288 with 1 Axes>"
            ]
          },
          "metadata": {
            "tags": []
          }
        }
      ]
    },
    {
      "cell_type": "code",
      "metadata": {
        "id": "QLJDl5Dzv9di",
        "colab_type": "code",
        "colab": {
          "base_uri": "https://localhost:8080/",
          "height": 281
        },
        "outputId": "8b35af79-cf1f-4bd7-91ca-0baf151bb818"
      },
      "source": [
        "# Plot Linearly Dependent Vectors\n",
        "\n",
        "# Axis Bounds\n",
        "plt.xlim(-2,3.5)          \n",
        "plt.ylim(-1,3)\n",
        "\n",
        "# Original Vector\n",
        "a = [-1.5,.5] \n",
        "b = [3, 1]\n",
        "\n",
        "# Plot Vectors\n",
        "plt.arrow(0,0, a[0], a[1], linewidth=3, head_width=.05, head_length=0.05, color ='blue')\n",
        "plt.arrow(0,0, b[0], b[1], linewidth=3, head_width=.05, head_length=0.05, color ='red')\n",
        "\n",
        "plt.title(\"Linearly Independent Vectors\")\n",
        "plt.show()"
      ],
      "execution_count": 33,
      "outputs": [
        {
          "output_type": "display_data",
          "data": {
            "image/png": "[encoded data removed]",
            "text/plain": [
              "<Figure size 432x288 with 1 Axes>"
            ]
          },
          "metadata": {
            "tags": []
          }
        }
      ]
    },
    {
      "cell_type": "markdown",
      "metadata": {
        "id": "TrJ0MT_n3SvO",
        "colab_type": "text"
      },
      "source": [
        "# Span"
      ]
    },
    {
      "cell_type": "markdown",
      "metadata": {
        "id": "86iXLzwM2z8l",
        "colab_type": "text"
      },
      "source": [
        "## 5.1 What is the span of the following vectors?\n",
        "\n",
        "\\begin{align}\n",
        "g = \\begin{bmatrix} 1 & 2 \\end{bmatrix}\n",
        "\\qquad\n",
        "h = \\begin{bmatrix} 4 & 8 \\end{bmatrix}\n",
        "\\end{align}"
      ]
    },
    {
      "cell_type": "code",
      "metadata": {
        "id": "G2LK2RWL39Q4",
        "colab_type": "code",
        "colab": {
          "base_uri": "https://localhost:8080/",
          "height": 52
        },
        "outputId": "cb4da17d-7623-44dc-d0db-4df917edd363"
      },
      "source": [
        "g=np.array([1,2])\n",
        "h=np.array([4,8])\n",
        "print(g)\n",
        "print(h)\n",
        "\n",
        "# These two vectors a collinear so they lay on one line"
      ],
      "execution_count": 34,
      "outputs": [
        {
          "output_type": "stream",
          "text": [
            "[1 2]\n",
            "[4 8]\n"
          ],
          "name": "stdout"
        }
      ]
    },
    {
      "cell_type": "markdown",
      "metadata": {
        "id": "l1deylUj4IHH",
        "colab_type": "text"
      },
      "source": [
        "## 5.2 What is the span of $\\{l, m, n\\}$?\n",
        "\n",
        "\\begin{align}\n",
        "l = \\begin{bmatrix} 1 & 2 & 3 \\end{bmatrix}\n",
        "\\qquad\n",
        "m = \\begin{bmatrix} -1 & 0 & 7 \\end{bmatrix}\n",
        "\\qquad\n",
        "n = \\begin{bmatrix} 4 & 8  & 2\\end{bmatrix}\n",
        "\\end{align}"
      ]
    },
    {
      "cell_type": "code",
      "metadata": {
        "id": "p1i_ueD25ZcP",
        "colab_type": "code",
        "colab": {}
      },
      "source": [
        "l=np.array([1,2,3])\n",
        "m=np.array([-1,0,7])\n",
        "n=np.array([4,8,2])\n",
        "\n",
        "# a * [1 2 3] + b * [-1 0 7] ?= [4 8 2]\n",
        "# a = 4, b = 0\n",
        "# Therefore, vector n doesn't lie in the same plane with vectors l and m.\n",
        "# Thus, span is invinite 3-dimensional space"
      ],
      "execution_count": 0,
      "outputs": []
    },
    {
      "cell_type": "markdown",
      "metadata": {
        "id": "IBqe7X1732kX",
        "colab_type": "text"
      },
      "source": [
        "# Basis"
      ]
    },
    {
      "cell_type": "markdown",
      "metadata": {
        "id": "YeUZVHRM6PpT",
        "colab_type": "text"
      },
      "source": [
        "## 6.1 Graph two vectors that form a basis for $\\mathbb{R}^2$\n",
        "\n"
      ]
    },
    {
      "cell_type": "code",
      "metadata": {
        "id": "utvF3Pkt8NP6",
        "colab_type": "code",
        "colab": {
          "base_uri": "https://localhost:8080/",
          "height": 281
        },
        "outputId": "aa990740-24a7-4e70-f82f-495034d14f56"
      },
      "source": [
        "# Any 2 non-collinear vectors form basis for R^2\n",
        "\n",
        "# Axis Bounds\n",
        "plt.xlim(-2,3.5)          \n",
        "plt.ylim(-1,3)\n",
        "\n",
        "# Original Vector\n",
        "a = [-1.5,.5] \n",
        "b = [3, 1]\n",
        "\n",
        "# Plot Vectors\n",
        "plt.arrow(0,0, a[0], a[1], linewidth=3, head_width=.05, head_length=0.05, color ='blue')\n",
        "plt.arrow(0,0, b[0], b[1], linewidth=3, head_width=.05, head_length=0.05, color ='red')\n",
        "\n",
        "plt.title(\"Almost any 2 vectors\")\n",
        "plt.show()"
      ],
      "execution_count": 36,
      "outputs": [
        {
          "output_type": "display_data",
          "data": {
            "image/png": "[encoded data removed]",
            "text/plain": [
              "<Figure size 432x288 with 1 Axes>"
            ]
          },
          "metadata": {
            "tags": []
          }
        }
      ]
    },
    {
      "cell_type": "markdown",
      "metadata": {
        "id": "20yPFBDUxxnS",
        "colab_type": "text"
      },
      "source": [
        "## 6.2 What does it mean to form a basis?"
      ]
    },
    {
      "cell_type": "markdown",
      "metadata": {
        "id": "3w4tEayT8M0o",
        "colab_type": "text"
      },
      "source": [
        "It means to have some vectores that their span is the entire space. The amount of vectors equals the amount of dimensions"
      ]
    },
    {
      "cell_type": "markdown",
      "metadata": {
        "id": "EHmUxbcY6vD3",
        "colab_type": "text"
      },
      "source": [
        "# Rank"
      ]
    },
    {
      "cell_type": "markdown",
      "metadata": {
        "id": "IpJwt9kw6v8U",
        "colab_type": "text"
      },
      "source": [
        "## 7.1 What is the Rank of P?\n",
        "\n",
        "\\begin{align}\n",
        "P = \\begin{bmatrix} \n",
        "1 & 2 & 3 \\\\\n",
        " -1 & 0 & 7 \\\\\n",
        "4 & 8  & 2\n",
        "\\end{bmatrix}\n",
        "\\end{align}"
      ]
    },
    {
      "cell_type": "code",
      "metadata": {
        "id": "IlukaffbDlkH",
        "colab_type": "code",
        "colab": {
          "base_uri": "https://localhost:8080/",
          "height": 155
        },
        "outputId": "0e68cab6-319e-4364-a762-dff9b5ee4ec0"
      },
      "source": [
        "# Create matrix P\n",
        "P=np.array([[1,2,3],\n",
        "           [-1,0,7],\n",
        "           [4,8,2]])\n",
        "print(\"rank P =\",np.linalg.matrix_rank(P)) # Calculate rank and print\n",
        "pd.DataFrame(P)"
      ],
      "execution_count": 37,
      "outputs": [
        {
          "output_type": "stream",
          "text": [
            "rank P = 3\n"
          ],
          "name": "stdout"
        },
        {
          "output_type": "execute_result",
          "data": {
            "text/html": [
              "<div>\n",
              "<style scoped>\n",
              "    .dataframe tbody tr th:only-of-type {\n",
              "        vertical-align: middle;\n",
              "    }\n",
              "\n",
              "    .dataframe tbody tr th {\n",
              "        vertical-align: top;\n",
              "    }\n",
              "\n",
              "    .dataframe thead th {\n",
              "        text-align: right;\n",
              "    }\n",
              "</style>\n",
              "<table border=\"1\" class=\"dataframe\">\n",
              "  <thead>\n",
              "    <tr style=\"text-align: right;\">\n",
              "      <th></th>\n",
              "      <th>0</th>\n",
              "      <th>1</th>\n",
              "      <th>2</th>\n",
              "    </tr>\n",
              "  </thead>\n",
              "  <tbody>\n",
              "    <tr>\n",
              "      <th>0</th>\n",
              "      <td>1</td>\n",
              "      <td>2</td>\n",
              "      <td>3</td>\n",
              "    </tr>\n",
              "    <tr>\n",
              "      <th>1</th>\n",
              "      <td>-1</td>\n",
              "      <td>0</td>\n",
              "      <td>7</td>\n",
              "    </tr>\n",
              "    <tr>\n",
              "      <th>2</th>\n",
              "      <td>4</td>\n",
              "      <td>8</td>\n",
              "      <td>2</td>\n",
              "    </tr>\n",
              "  </tbody>\n",
              "</table>\n",
              "</div>"
            ],
            "text/plain": [
              "   0  1  2\n",
              "0  1  2  3\n",
              "1 -1  0  7\n",
              "2  4  8  2"
            ]
          },
          "metadata": {
            "tags": []
          },
          "execution_count": 37
        }
      ]
    },
    {
      "cell_type": "markdown",
      "metadata": {
        "id": "jGqFMBYY7mHD",
        "colab_type": "text"
      },
      "source": [
        "## 7.2 What does the rank of a matrix tell us?"
      ]
    },
    {
      "cell_type": "markdown",
      "metadata": {
        "id": "Vjg1IiCD8nnP",
        "colab_type": "text"
      },
      "source": [
        "It means that the 3 vectors form a 3-Dimensional span"
      ]
    },
    {
      "cell_type": "markdown",
      "metadata": {
        "id": "0Db2sc_V8QD6",
        "colab_type": "text"
      },
      "source": [
        "# Linear Projections\n",
        "\n",
        "## 8.1 Line $L$ is formed by all of the vectors that can be created by scaling vector $v$ \n",
        "\\begin{align}\n",
        "v = \\begin{bmatrix} 1 & 3 \\end{bmatrix}\n",
        "\\end{align}\n",
        "\n",
        "\\begin{align}\n",
        "w = \\begin{bmatrix} -1 & 2 \\end{bmatrix}\n",
        "\\end{align}\n",
        "\n",
        "## find $proj_{L}(w)$\n",
        "\n",
        "## graph your projected vector to check your work (make sure your axis are square/even)"
      ]
    },
    {
      "cell_type": "code",
      "metadata": {
        "id": "hp5z2WTBCNKx",
        "colab_type": "code",
        "colab": {
          "base_uri": "https://localhost:8080/",
          "height": 281
        },
        "outputId": "4c1e00ea-17b0-432a-dce0-8b0629f0bccd"
      },
      "source": [
        "# State the vectors v and w\n",
        "v=np.array([1,3])\n",
        "w=np.array([-1,2])\n",
        "\n",
        "# Get Vals for L\n",
        "axes = plt.gca()\n",
        "x_vals = 1 #np.array(axes.get_xlim())\n",
        "y_vals = 3 #0*x_vals\n",
        "\n",
        "# Plot a line\n",
        "plt.xlim(-1.5,2)          \n",
        "plt.ylim(-1,4)\n",
        "\n",
        "w_proj=np.array([0.1, 0.3])\n",
        "\n",
        "plt.arrow(0, 0, v[0], v[1], linewidth=3, head_width=.05, head_length=0.05, color ='green')\n",
        "plt.arrow(0, 0, w[0], w[1], linewidth=3, head_width=.05, head_length=0.05, color ='darkcyan')\n",
        "plt.arrow(0, 0, w_proj[0], w_proj[1], linewidth=5, head_width=.05, head_length=0.05, color ='crimson') # Projected\n",
        "plt.title(\"A Line\")\n",
        "plt.show()"
      ],
      "execution_count": 49,
      "outputs": [
        {
          "output_type": "display_data",
          "data": {
            "image/png": "[encoded data removed]",
            "text/plain": [
              "<Figure size 432x288 with 1 Axes>"
            ]
          },
          "metadata": {
            "tags": []
          }
        }
      ]
    },
    {
      "cell_type": "markdown",
      "metadata": {
        "id": "TKkrPwRM-Oar",
        "colab_type": "text"
      },
      "source": [
        "\n",
        "\n",
        "# Stretch Goal\n",
        "\n",
        "## For vectors that begin at the origin, the coordinates of where the vector ends can be interpreted as regular data points. (See 3Blue1Brown videos about Spans, Basis, etc.)\n",
        "\n",
        "## Write a function that can calculate the linear projection of each point (x,y) (vector) onto the line y=x. run the function and plot the original points in blue and the new projected points on the line y=x in red. \n",
        "\n",
        "## For extra points plot the orthogonal vectors as a dashed line from the original blue points to the projected red points."
      ]
    },
    {
      "cell_type": "code",
      "metadata": {
        "id": "cp52kZra-ykj",
        "colab_type": "code",
        "outputId": "47e0ad8d-a97a-4fb1-a530-49f2d7c0d311",
        "colab": {
          "base_uri": "https://localhost:8080/",
          "height": 264
        }
      },
      "source": [
        "import pandas as pd\n",
        "import matplotlib.pyplot as plt\n",
        "\n",
        "# Creating a dataframe for you to work with -Feel free to not use the dataframe if you don't want to.\n",
        "x_values = [1, 4, 7, 3, 9, 4, 5 ]\n",
        "y_values = [4, 2, 5, 0, 8, 2, 8]\n",
        "\n",
        "data = {\"x\": x_values, \"y\": y_values}\n",
        "\n",
        "df = pd.DataFrame(data)\n",
        "\n",
        "df.head()\n",
        "\n",
        "plt.scatter(df.x, df.y)\n",
        "plt.show()"
      ],
      "execution_count": 39,
      "outputs": [
        {
          "output_type": "display_data",
          "data": {
            "image/png": "[encoded data removed]",
            "text/plain": [
              "<Figure size 432x288 with 1 Axes>"
            ]
          },
          "metadata": {
            "tags": []
          }
        }
      ]
    },
    {
      "cell_type": "code",
      "metadata": {
        "id": "EZTA6Tj6BGDb",
        "colab_type": "code",
        "colab": {}
      },
      "source": [
        ""
      ],
      "execution_count": 0,
      "outputs": []
    }
  ]
}