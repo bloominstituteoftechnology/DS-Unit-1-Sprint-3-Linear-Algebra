{
  "nbformat": 4,
  "nbformat_minor": 0,
  "metadata": {
    "colab": {
      "name": "LS_DS_132_Intermediate_Linear_Algebra_Assignment.ipynb",
      "provenance": [],
      "collapsed_sections": [],
      "include_colab_link": true
    },
    "kernelspec": {
      "name": "python3",
      "display_name": "Python 3"
    }
  },
  "cells": [
    {
      "cell_type": "markdown",
      "metadata": {
        "id": "view-in-github",
        "colab_type": "text"
      },
      "source": [
        "<a href=\"https://colab.research.google.com/github/Lolo-17/DS-Unit-1-Sprint-3-Linear-Algebra/blob/master/module2-intermediate-linear-algebra/LS_DS_132_Intermediate_Linear_Algebra_Assignment.ipynb\" target=\"_parent\"><img src=\"https://colab.research.google.com/assets/colab-badge.svg\" alt=\"Open In Colab\"/></a>"
      ]
    },
    {
      "cell_type": "code",
      "metadata": {
        "id": "NvpKmd73aaOv",
        "colab_type": "code",
        "colab": {}
      },
      "source": [
        "# importing libraries\n",
        "import math\n",
        "import numpy as np\n",
        "import pandas as pd\n",
        "import matplotlib.pyplot as plt\n",
        "from mpl_toolkits.mplot3d import Axes3D"
      ],
      "execution_count": 470,
      "outputs": []
    },
    {
      "cell_type": "markdown",
      "metadata": {
        "id": "GSNiYn8lr6nN",
        "colab_type": "text"
      },
      "source": [
        "# Statistics"
      ]
    },
    {
      "cell_type": "markdown",
      "metadata": {
        "id": "3d4izUhQvh2_",
        "colab_type": "text"
      },
      "source": [
        "## 1.1 Sales for the past week was the following amounts: [3505, 2400, 3027, 2798, 3700, 3250, 2689]. Without using library functions, what is the mean, variance, and standard deviation of of sales from last week? (for extra bonus points, write your own function that can calculate these two values for any sized list)"
      ]
    },
    {
      "cell_type": "code",
      "metadata": {
        "id": "w1iZfYvBtEA1",
        "colab_type": "code",
        "colab": {}
      },
      "source": [
        "# Lester-handmade calculator of mean, variance,\n",
        "# deviation, covariance and correlation coefficient\n",
        "def getstats(values, values1):\n",
        "  # For first dataset\n",
        "  # mean, var and std\n",
        "  array = values.sum()\n",
        "  num = len(values)\n",
        "  mean = array/num\n",
        "  var = (((values-mean)**2).sum())/num\n",
        "  sd = math.sqrt(var)\n",
        "  # For second dataset\n",
        "  # mean, var and std\n",
        "  array1 = values1.sum()\n",
        "  num1 = len(values1)\n",
        "  mean1 = array1/num1\n",
        "  var1 = (((values1-mean1)**2).sum())/num1\n",
        "  sd1 = math.sqrt(var1)\n",
        "  # Get covariance between first\n",
        "  # and second dataset\n",
        "  n = (len(values)+len(values))/2\n",
        "  cov = ((values*values1).sum())/n - mean*mean1\n",
        "  # Get the correlation coefficient\n",
        "  r = cov/(math.sqrt(var)*math.sqrt(var1))\n",
        "  return mean, var, sd, mean1, var1, sd1, cov, r"
      ],
      "execution_count": 131,
      "outputs": []
    },
    {
      "cell_type": "code",
      "metadata": {
        "id": "Uul0KrtBmzSN",
        "colab_type": "code",
        "colab": {
          "base_uri": "https://localhost:8080/",
          "height": 67
        },
        "outputId": "2ee85be5-47e4-4f12-f092-5429f5a6d7e4"
      },
      "source": [
        "# Creating last week sales in a numpy \n",
        "# array and displaying mean, var \n",
        "# and std\n",
        "sales = np.array([3505, 2400, 3027, 2798, 3700, 3250, 2689])\n",
        "\n",
        "# Saving sales and number of customer\n",
        "# calculations onto a variable\n",
        "stat = getstats(sales, cust_num)\n",
        "print(\"Sales Mean:\", stat[0],\n",
        "      \"\\nSales Variance:\", stat[1],\n",
        "      \"\\nSales Standard Deviation\", stat[2])"
      ],
      "execution_count": 132,
      "outputs": [
        {
          "output_type": "stream",
          "text": [
            "Sales Mean: 3052.714285714286 \n",
            "Sales Variance: 183761.06122448976 \n",
            "Sales Standard Deviation 428.67360686714756\n"
          ],
          "name": "stdout"
        }
      ]
    },
    {
      "cell_type": "markdown",
      "metadata": {
        "id": "oh63KaOctEp_",
        "colab_type": "text"
      },
      "source": [
        "## 1.2 Find the covariance between last week's sales numbers and the number of customers that entered the store last week: [127, 80, 105, 92, 120, 115, 93] (you may use librray functions for calculating the covariance since we didn't specifically talk about its formula)"
      ]
    },
    {
      "cell_type": "code",
      "metadata": {
        "id": "G7ZB0krot564",
        "colab_type": "code",
        "colab": {
          "base_uri": "https://localhost:8080/",
          "height": 34
        },
        "outputId": "a79bcad4-bd26-4e92-df1c-242fad8dc48c"
      },
      "source": [
        "# Creating number of customers in a numpy \n",
        "# array and displaying covariance between\n",
        "# sales and number of customers\n",
        "cust_num = np.array([127, 80, 105, 92, 120, 115, 93])\n",
        "print(\"Covariance:\", stat[6])"
      ],
      "execution_count": 136,
      "outputs": [
        {
          "output_type": "stream",
          "text": [
            "Covariance: 6518.020408163255\n"
          ],
          "name": "stdout"
        }
      ]
    },
    {
      "cell_type": "code",
      "metadata": {
        "id": "6yd3PQ6mzzRV",
        "colab_type": "code",
        "colab": {}
      },
      "source": [
        "# Saving both datasets into a dataframe\n",
        "store = {'Sales': sales, 'Cust Num': cust_num}\n",
        "store_stats = pd.DataFrame(store)"
      ],
      "execution_count": 143,
      "outputs": []
    },
    {
      "cell_type": "markdown",
      "metadata": {
        "id": "J9SbUY9mt66I",
        "colab_type": "text"
      },
      "source": [
        "## 1.3 Find the standard deviation of customers who entered the store last week. Then, use the standard deviations of both sales and customers to standardize the covariance to find the correlation coefficient that summarizes the relationship between sales and customers. (You may use library functions to check your work.)"
      ]
    },
    {
      "cell_type": "code",
      "metadata": {
        "id": "D9zzHXUm0ubh",
        "colab_type": "code",
        "colab": {
          "base_uri": "https://localhost:8080/",
          "height": 34
        },
        "outputId": "306beff2-711b-45bc-9774-e3cfcba6a29f"
      },
      "source": [
        "# Displaying correlation coefficient\n",
        "# between sales and number of customers\n",
        "print('Correlation Coefficient:', stat[7])"
      ],
      "execution_count": 139,
      "outputs": [
        {
          "output_type": "stream",
          "text": [
            "Correlation Coefficient: 0.9628339778148893\n"
          ],
          "name": "stdout"
        }
      ]
    },
    {
      "cell_type": "markdown",
      "metadata": {
        "id": "IbZVf7nmujPJ",
        "colab_type": "text"
      },
      "source": [
        "## 1.4 Use pandas to import a cleaned version of the titanic dataset from the following link: [Titanic Dataset](https://raw.githubusercontent.com/Geoyi/Cleaning-Titanic-Data/master/titanic_clean.csv)\n",
        "\n",
        "## Calculate the variance-covariance matrix and correlation matrix for the titanic dataset's numeric columns. (you can encode some of the categorical variables and include them as a stretch goal if you finish early)"
      ]
    },
    {
      "cell_type": "code",
      "metadata": {
        "id": "0TWgUIiaCFzq",
        "colab_type": "code",
        "colab": {}
      },
      "source": [
        "# Reading the titanic data, saving it to a variable,\n",
        "# dropping redundant column and displaying first 5 rows\n",
        "td = pd.read_csv('https://raw.githubusercontent.com/Geoyi/Cleaning-Titanic-Data/master/titanic_clean.csv')\n",
        "td = td.drop('Unnamed: 0', axis=1)\n",
        "ph = {'Age': td['age'], 'Fare': td['fare'], 'Body': td['body']}\n",
        "df = pd.DataFrame(ph)\n",
        "print(td.shape)\n",
        "td.head()"
      ],
      "execution_count": null,
      "outputs": []
    },
    {
      "cell_type": "code",
      "metadata": {
        "id": "CEGyhjRb5qhx",
        "colab_type": "code",
        "colab": {}
      },
      "source": [
        "# Exploring data\n",
        "td.describe()"
      ],
      "execution_count": null,
      "outputs": []
    },
    {
      "cell_type": "code",
      "metadata": {
        "id": "75hlGD4u5woi",
        "colab_type": "code",
        "colab": {}
      },
      "source": [
        "# Exploring data\n",
        "td.describe(exclude='number')"
      ],
      "execution_count": null,
      "outputs": []
    },
    {
      "cell_type": "code",
      "metadata": {
        "id": "ew_738fN3qUC",
        "colab_type": "code",
        "colab": {}
      },
      "source": [
        "# Exploring data\n",
        "td.dtypes"
      ],
      "execution_count": null,
      "outputs": []
    },
    {
      "cell_type": "code",
      "metadata": {
        "id": "kwgmKblB-gOq",
        "colab_type": "code",
        "colab": {
          "base_uri": "https://localhost:8080/",
          "height": 136
        },
        "outputId": "e92ec0bc-9a71-40fe-df18-afb0ac80da08"
      },
      "source": [
        "# Displaying variance covariance matrix\n",
        "df.cov()"
      ],
      "execution_count": 206,
      "outputs": [
        {
          "output_type": "execute_result",
          "data": {
            "text/html": [
              "<div>\n",
              "<style scoped>\n",
              "    .dataframe tbody tr th:only-of-type {\n",
              "        vertical-align: middle;\n",
              "    }\n",
              "\n",
              "    .dataframe tbody tr th {\n",
              "        vertical-align: top;\n",
              "    }\n",
              "\n",
              "    .dataframe thead th {\n",
              "        text-align: right;\n",
              "    }\n",
              "</style>\n",
              "<table border=\"1\" class=\"dataframe\">\n",
              "  <thead>\n",
              "    <tr style=\"text-align: right;\">\n",
              "      <th></th>\n",
              "      <th>Age</th>\n",
              "      <th>Fare</th>\n",
              "      <th>Body</th>\n",
              "    </tr>\n",
              "  </thead>\n",
              "  <tbody>\n",
              "    <tr>\n",
              "      <th>Age</th>\n",
              "      <td>165.850021</td>\n",
              "      <td>114.416613</td>\n",
              "      <td>81.622922</td>\n",
              "    </tr>\n",
              "    <tr>\n",
              "      <th>Fare</th>\n",
              "      <td>114.416613</td>\n",
              "      <td>2678.959738</td>\n",
              "      <td>-179.164684</td>\n",
              "    </tr>\n",
              "    <tr>\n",
              "      <th>Body</th>\n",
              "      <td>81.622922</td>\n",
              "      <td>-179.164684</td>\n",
              "      <td>9544.688567</td>\n",
              "    </tr>\n",
              "  </tbody>\n",
              "</table>\n",
              "</div>"
            ],
            "text/plain": [
              "             Age         Fare         Body\n",
              "Age   165.850021   114.416613    81.622922\n",
              "Fare  114.416613  2678.959738  -179.164684\n",
              "Body   81.622922  -179.164684  9544.688567"
            ]
          },
          "metadata": {
            "tags": []
          },
          "execution_count": 206
        }
      ]
    },
    {
      "cell_type": "code",
      "metadata": {
        "id": "paGj4b_R_qG8",
        "colab_type": "code",
        "colab": {
          "base_uri": "https://localhost:8080/",
          "height": 136
        },
        "outputId": "d8d5f79e-ae64-4c8a-b282-54dd791b0ddd"
      },
      "source": [
        "# Displaying correlation matrix\n",
        "df.corr()"
      ],
      "execution_count": 207,
      "outputs": [
        {
          "output_type": "execute_result",
          "data": {
            "text/html": [
              "<div>\n",
              "<style scoped>\n",
              "    .dataframe tbody tr th:only-of-type {\n",
              "        vertical-align: middle;\n",
              "    }\n",
              "\n",
              "    .dataframe tbody tr th {\n",
              "        vertical-align: top;\n",
              "    }\n",
              "\n",
              "    .dataframe thead th {\n",
              "        text-align: right;\n",
              "    }\n",
              "</style>\n",
              "<table border=\"1\" class=\"dataframe\">\n",
              "  <thead>\n",
              "    <tr style=\"text-align: right;\">\n",
              "      <th></th>\n",
              "      <th>Age</th>\n",
              "      <th>Fare</th>\n",
              "      <th>Body</th>\n",
              "    </tr>\n",
              "  </thead>\n",
              "  <tbody>\n",
              "    <tr>\n",
              "      <th>Age</th>\n",
              "      <td>1.000000</td>\n",
              "      <td>0.171892</td>\n",
              "      <td>0.059059</td>\n",
              "    </tr>\n",
              "    <tr>\n",
              "      <th>Fare</th>\n",
              "      <td>0.171892</td>\n",
              "      <td>1.000000</td>\n",
              "      <td>-0.043110</td>\n",
              "    </tr>\n",
              "    <tr>\n",
              "      <th>Body</th>\n",
              "      <td>0.059059</td>\n",
              "      <td>-0.043110</td>\n",
              "      <td>1.000000</td>\n",
              "    </tr>\n",
              "  </tbody>\n",
              "</table>\n",
              "</div>"
            ],
            "text/plain": [
              "           Age      Fare      Body\n",
              "Age   1.000000  0.171892  0.059059\n",
              "Fare  0.171892  1.000000 -0.043110\n",
              "Body  0.059059 -0.043110  1.000000"
            ]
          },
          "metadata": {
            "tags": []
          },
          "execution_count": 207
        }
      ]
    },
    {
      "cell_type": "markdown",
      "metadata": {
        "id": "7K0Xfh8MvYkl",
        "colab_type": "text"
      },
      "source": [
        "# Orthogonality"
      ]
    },
    {
      "cell_type": "markdown",
      "metadata": {
        "id": "Pe3eOZ2fvdZ-",
        "colab_type": "text"
      },
      "source": [
        "## 2.1 Plot two vectors that are orthogonal to each other. What is a synonym for orthogonal?"
      ]
    },
    {
      "cell_type": "markdown",
      "metadata": {
        "id": "ntLti513DFWL",
        "colab_type": "text"
      },
      "source": [
        "Othorgonal synonym = **perpendicular**"
      ]
    },
    {
      "cell_type": "code",
      "metadata": {
        "id": "YLSBk7hJvvCx",
        "colab_type": "code",
        "colab": {
          "base_uri": "https://localhost:8080/",
          "height": 281
        },
        "outputId": "81faa58f-dff1-49e0-f712-58d6ff9cc161"
      },
      "source": [
        "# Plotting two orthogonal vectors\n",
        "v1 = [6, 0]\n",
        "v2 = [0, 6]\n",
        "plt.arrow(0,0, v1[0], v1[1], \n",
        "          lw=3, head_width=.25, head_length=.25, color='blue')\n",
        "plt.arrow(0,0, v2[0], v2[1], \n",
        "          lw=3, head_width=.25, head_length=.25, color='black')\n",
        "plt.xlim(-8,8)          \n",
        "plt.ylim(-8,8)\n",
        "plt.title('Orthogonal Vectors')\n",
        "plt.grid(axis='both', ls='--', lw=.5)\n",
        "plt.show()"
      ],
      "execution_count": 287,
      "outputs": [
        {
          "output_type": "display_data",
          "data": {
            "image/png": "[encoded data removed]",
            "text/plain": [
              "<Figure size 432x288 with 1 Axes>"
            ]
          },
          "metadata": {
            "tags": [],
            "needs_background": "light"
          }
        }
      ]
    },
    {
      "cell_type": "markdown",
      "metadata": {
        "id": "7AS4V1Nhvvxz",
        "colab_type": "text"
      },
      "source": [
        "## 2.2 Are the following vectors orthogonal? Why or why not?\n",
        "\n",
        "\\begin{align}\n",
        "a = \\begin{bmatrix} -5 \\\\ 3 \\\\ 7 \\end{bmatrix}\n",
        "\\qquad\n",
        "b = \\begin{bmatrix} 6 \\\\ -8 \\\\ 2 \\end{bmatrix}\n",
        "\\end{align}"
      ]
    },
    {
      "cell_type": "code",
      "metadata": {
        "id": "F_-y54YSz47k",
        "colab_type": "code",
        "colab": {
          "base_uri": "https://localhost:8080/",
          "height": 34
        },
        "outputId": "a0cd7679-9a0d-4cd3-ff5d-b3ad8a647e89"
      },
      "source": [
        "# Checking if A and B are orthogonal\n",
        "A = np.array([-5, 3, 7])\n",
        "B = np.array([6, -8, 2])\n",
        "(A*B).sum()\n",
        "\n",
        "# Since the dot product is not 0 and instead is [-40],\n",
        "# vectors A and B are not orthogonal"
      ],
      "execution_count": 225,
      "outputs": [
        {
          "output_type": "execute_result",
          "data": {
            "text/plain": [
              "-40"
            ]
          },
          "metadata": {
            "tags": []
          },
          "execution_count": 225
        }
      ]
    },
    {
      "cell_type": "markdown",
      "metadata": {
        "id": "MiNjyqiEz5SG",
        "colab_type": "text"
      },
      "source": [
        "## 2.3 Compute the following values: What do these quantities have in common?\n",
        "\n",
        "## What is $||c||^2$? \n",
        "\n",
        "## What is $c \\cdot c$? \n",
        "\n",
        "## What is $c^{T}c$?\n",
        "\n",
        "\\begin{align}\n",
        "c = \\begin{bmatrix} 2 & -15 & 6 & 20 \\end{bmatrix}\n",
        "\\end{align}"
      ]
    },
    {
      "cell_type": "code",
      "metadata": {
        "id": "IlV_uaYK1EQB",
        "colab_type": "code",
        "colab": {
          "base_uri": "https://localhost:8080/",
          "height": 67
        },
        "outputId": "a91fa815-09ee-48b4-fd75-08b74b5cb011"
      },
      "source": [
        "# Answering above questions below\n",
        "# in print\n",
        "C = np.array([2, 15, 6, 20])\n",
        "CT = C.T\n",
        "print('||c||2 is', np.sqrt(C**2).sum())\n",
        "print('c⋅c is', np.vdot(C,C))\n",
        "print('cTc is', np.matmul(C, CT))\n"
      ],
      "execution_count": 477,
      "outputs": [
        {
          "output_type": "stream",
          "text": [
            "||c||2 is 43.0\n",
            "c⋅c is 665\n",
            "cTc is 665\n"
          ],
          "name": "stdout"
        }
      ]
    },
    {
      "cell_type": "markdown",
      "metadata": {
        "id": "MK_TpWqk1Evk",
        "colab_type": "text"
      },
      "source": [
        "# Unit Vectors"
      ]
    },
    {
      "cell_type": "markdown",
      "metadata": {
        "id": "Kpit6WWO1b8l",
        "colab_type": "text"
      },
      "source": [
        "## 3.1 Using Latex, write the following vectors as a linear combination of scalars and unit vectors:\n",
        "\n",
        "\\begin{align}\n",
        "d = \\begin{bmatrix} 7 \\\\ 12 \\end{bmatrix}\n",
        "\\qquad\n",
        "e = \\begin{bmatrix} 2 \\\\ 11 \\\\ -8  \\end{bmatrix}\n",
        "\\end{align}"
      ]
    },
    {
      "cell_type": "markdown",
      "metadata": {
        "id": "sHRlxZ7CP7GG",
        "colab_type": "text"
      },
      "source": [
        "\\begin{align}\n",
        "d = \\begin{bmatrix} 7 \\\\ 12 \\end{bmatrix} = 7\\begin{bmatrix} 2 \\\\ 11 \\\\ -8 \\end{bmatrix} + 12\\begin{bmatrix} 2 \\\\ 11 \\\\ -8 \\end{bmatrix} = 7\\hat{i} + 12\\hat{j}\n",
        "\\end{align}\n",
        "\n",
        "\\begin{align}\n",
        "e = \\begin{bmatrix} 2 \\\\ 11 \\\\ -8 \\end{bmatrix} = 2\\begin{bmatrix} 7 \\\\ 12 \\end{bmatrix} + 11\\begin{bmatrix} 7 \\\\ 12 \\end{bmatrix} + (-8)\\begin{bmatrix} 7 \\\\ 12 \\end{bmatrix} = 2\\hat{i} + 11\\hat{j}+ (-8)\\hat{k}\n",
        "\\end{align}"
      ]
    },
    {
      "cell_type": "markdown",
      "metadata": {
        "id": "dAdUQuep1_yJ",
        "colab_type": "text"
      },
      "source": [
        "## 3.2 Turn vector $f$ into a unit vector:\n",
        "\n",
        "\\begin{align}\n",
        "f = \\begin{bmatrix} 4 & 12 & 11 & 9 & 2 \\end{bmatrix}\n",
        "\\end{align}"
      ]
    },
    {
      "cell_type": "code",
      "metadata": {
        "id": "I3W8ZiHR1_Fa",
        "colab_type": "code",
        "colab": {
          "base_uri": "https://localhost:8080/",
          "height": 101
        },
        "outputId": "ce566f50-6aad-4fbf-f8ac-39eddd9d3b51"
      },
      "source": [
        "# Turning f into a unit vector\n",
        "F = np.array([4,12,11,9,2])\n",
        "sq = (np.sqrt(F**2).sum())\n",
        "for v in F:\n",
        "  uv = v/sq\n",
        "  print(np.array([uv]))"
      ],
      "execution_count": 348,
      "outputs": [
        {
          "output_type": "stream",
          "text": [
            "[0.10526316]\n",
            "[0.31578947]\n",
            "[0.28947368]\n",
            "[0.23684211]\n",
            "[0.05263158]\n"
          ],
          "name": "stdout"
        }
      ]
    },
    {
      "cell_type": "markdown",
      "metadata": {
        "id": "o39UyP-I5lpP",
        "colab_type": "text"
      },
      "source": [
        "# Linear Independence / Dependence "
      ]
    },
    {
      "cell_type": "markdown",
      "metadata": {
        "id": "ajfBqYe45sT5",
        "colab_type": "text"
      },
      "source": [
        "## 4.1 Plot two vectors that are linearly dependent and two vectors that are linearly independent (bonus points if done in $\\mathbb{R}^3$)."
      ]
    },
    {
      "cell_type": "code",
      "metadata": {
        "id": "AgPB2L_4XydS",
        "colab_type": "code",
        "colab": {
          "base_uri": "https://localhost:8080/",
          "height": 281
        },
        "outputId": "4a68ace0-aa8b-40e0-9829-b72ff207a183"
      },
      "source": [
        "# First two dependent vectors graph\n",
        "\n",
        "v1 = [5,0]\n",
        "\n",
        "plt.xlim(-20, 20)          \n",
        "plt.ylim(-4, 4)\n",
        "v2 = np.multiply(3, v1)\n",
        "v3 = np.multiply(-2, v1)\n",
        "axes = plt.gca()\n",
        "x_vals = np.array(axes.get_xlim())\n",
        "y_vals = 0*x_vals\n",
        "plt.plot(x_vals, y_vals, ls='-', color='black', linewidth=.50)\n",
        "plt.arrow(0,0, v2[0], v2[1], lw=5, head_width=.05, head_length=0.25, color ='blue')\n",
        "plt.arrow(0,0, v3[0], v3[1], lw=5, head_width=.05, head_length=0.25, color ='red')\n",
        "plt.arrow(0,0, v1[0], v1[1], lw=5, head_width=.05, head_length=0.25, color ='green')\n",
        "plt.title(\"Two dependent vectors graph\")\n",
        "plt.show()"
      ],
      "execution_count": 362,
      "outputs": [
        {
          "output_type": "display_data",
          "data": {
            "image/png": "[encoded data removed]",
            "text/plain": [
              "<Figure size 432x288 with 1 Axes>"
            ]
          },
          "metadata": {
            "tags": [],
            "needs_background": "light"
          }
        }
      ]
    },
    {
      "cell_type": "code",
      "metadata": {
        "id": "douJcu9jYCBg",
        "colab_type": "code",
        "colab": {
          "base_uri": "https://localhost:8080/",
          "height": 281
        },
        "outputId": "8f9bd0b6-8f8c-49e8-cac7-00979f8dbfca"
      },
      "source": [
        "# Second two dependent vectors graph\n",
        "\n",
        "a = [4, -7] \n",
        "b = [-6, 5]\n",
        "plt.xlim(-10,10)          \n",
        "plt.ylim(-10,10)\n",
        "plt.arrow(0,0, a[0], a[1], linewidth=3, head_width=.25, head_length=0.25, color ='blue')\n",
        "plt.arrow(0,0, b[0], b[1], linewidth=3, head_width=.25, head_length=0.25, color ='red')\n",
        "plt.grid(axis='both', ls='--', lw=.5)\n",
        "\n",
        "plt.title(\"Two dependent vectors graph\")\n",
        "plt.show()"
      ],
      "execution_count": 372,
      "outputs": [
        {
          "output_type": "display_data",
          "data": {
            "image/png": "[encoded data removed]",
            "text/plain": [
              "<Figure size 432x288 with 1 Axes>"
            ]
          },
          "metadata": {
            "tags": [],
            "needs_background": "light"
          }
        }
      ]
    },
    {
      "cell_type": "markdown",
      "metadata": {
        "id": "TrJ0MT_n3SvO",
        "colab_type": "text"
      },
      "source": [
        "# Span"
      ]
    },
    {
      "cell_type": "markdown",
      "metadata": {
        "id": "86iXLzwM2z8l",
        "colab_type": "text"
      },
      "source": [
        "## 5.1 What is the span of the following vectors?\n",
        "\n",
        "\\begin{align}\n",
        "g = \\begin{bmatrix} 1 & 2 \\end{bmatrix}\n",
        "\\qquad\n",
        "h = \\begin{bmatrix} 4 & 8 \\end{bmatrix}\n",
        "\\end{align}"
      ]
    },
    {
      "cell_type": "code",
      "metadata": {
        "id": "G2LK2RWL39Q4",
        "colab_type": "code",
        "colab": {
          "base_uri": "https://localhost:8080/",
          "height": 385
        },
        "outputId": "4d594398-c304-49b5-ea57-531e4de96006"
      },
      "source": [
        "G = np.array([1,2])\n",
        "H = np.array([4,8])\n",
        "plt.xlim(-1,25)          \n",
        "plt.ylim(-1,25)\n",
        "i_hat = 3*np.array([1,2])\n",
        "j_hat = 2*np.array([4,8])\n",
        "c = 3*np.array([1,2]) + 2*np.array([4,8])\n",
        "plt.axes().set_aspect('equal')\n",
        "plt.arrow(0, 0, i_hat[0], i_hat[1], linewidth=3, head_width=.5, head_length=.5, color ='red')\n",
        "plt.arrow(0, 0, j_hat[0], j_hat[1], linewidth=3, head_width=.5, head_length=.5, color ='blue')\n",
        "plt.arrow(0, 0, c[0], c[1], linewidth=3, head_width=.5, head_length=.5, color ='green')\n",
        "plt.title(\"Span (dependent)\")\n",
        "print(i_hat)\n",
        "print(j_hat)\n",
        "print(c)\n",
        "plt.show()"
      ],
      "execution_count": 474,
      "outputs": [
        {
          "output_type": "stream",
          "text": [
            "[3 6]\n",
            "[ 8 16]\n",
            "[11 22]\n"
          ],
          "name": "stdout"
        },
        {
          "output_type": "stream",
          "text": [
            "/usr/local/lib/python3.6/dist-packages/ipykernel_launcher.py:8: MatplotlibDeprecationWarning: Adding an axes using the same arguments as a previous axes currently reuses the earlier instance.  In a future version, a new instance will always be created and returned.  Meanwhile, this warning can be suppressed, and the future behavior ensured, by passing a unique label to each axes instance.\n",
            "  \n"
          ],
          "name": "stderr"
        },
        {
          "output_type": "display_data",
          "data": {
            "image/png": "[encoded data removed]",
            "text/plain": [
              "<Figure size 432x288 with 1 Axes>"
            ]
          },
          "metadata": {
            "tags": [],
            "needs_background": "light"
          }
        }
      ]
    },
    {
      "cell_type": "markdown",
      "metadata": {
        "id": "l1deylUj4IHH",
        "colab_type": "text"
      },
      "source": [
        "## 5.2 What is the span of $\\{l, m, n\\}$?\n",
        "\n",
        "\\begin{align}\n",
        "l = \\begin{bmatrix} 1 & 2 & 3 \\end{bmatrix}\n",
        "\\qquad\n",
        "m = \\begin{bmatrix} -1 & 0 & 7 \\end{bmatrix}\n",
        "\\qquad\n",
        "n = \\begin{bmatrix} 4 & 8  & 2\\end{bmatrix}\n",
        "\\end{align}"
      ]
    },
    {
      "cell_type": "code",
      "metadata": {
        "id": "p1i_ueD25ZcP",
        "colab_type": "code",
        "colab": {
          "base_uri": "https://localhost:8080/",
          "height": 248
        },
        "outputId": "a9725c8d-08af-4ef1-e650-bddf3d56a4c0"
      },
      "source": [
        "L = np.array([1,2,3])\n",
        "M = np.array([-1,0,7])\n",
        "N = np.array([4,8,2])\n",
        "\n",
        "vectors = np.array([[0, 0, 0, 1, 2, 3], \n",
        "                    [0, 0, 0, -1, 0, 7],\n",
        "                    [0, 0, 0, 4, 8, 2]])\n",
        "\n",
        "X, Y, Z, U, V, W = zip(*vectors)\n",
        "fig = plt.figure()\n",
        "ax = fig.add_subplot(111, projection='3d')\n",
        "ax.quiver(X, Y, Z, U, V, W, length=1)\n",
        "ax.set_xlim([-2, 10])\n",
        "ax.set_ylim([-2, 10])\n",
        "ax.set_zlim([-2, 10])\n",
        "ax.set_xlabel('X')\n",
        "ax.set_ylabel('Y')\n",
        "ax.set_zlabel('Z')\n",
        "plt.title('Span (independent)')\n",
        "plt.show()"
      ],
      "execution_count": 475,
      "outputs": [
        {
          "output_type": "display_data",
          "data": {
            "image/png": "[encoded data removed]",
            "text/plain": [
              "<Figure size 432x288 with 1 Axes>"
            ]
          },
          "metadata": {
            "tags": [],
            "needs_background": "light"
          }
        }
      ]
    },
    {
      "cell_type": "markdown",
      "metadata": {
        "id": "IBqe7X1732kX",
        "colab_type": "text"
      },
      "source": [
        "# Basis"
      ]
    },
    {
      "cell_type": "markdown",
      "metadata": {
        "id": "YeUZVHRM6PpT",
        "colab_type": "text"
      },
      "source": [
        "## 6.1 Graph two vectors that form a basis for $\\mathbb{R}^2$\n",
        "\n"
      ]
    },
    {
      "cell_type": "code",
      "metadata": {
        "id": "utvF3Pkt8NP6",
        "colab_type": "code",
        "colab": {
          "base_uri": "https://localhost:8080/",
          "height": 334
        },
        "outputId": "175289f8-9f0f-4648-8390-ed22fdc2cc86"
      },
      "source": [
        "Q = np.array([[1,0],[-2,-3]])\n",
        "plt.xlim(-4,4)          \n",
        "plt.ylim(-4,4)\n",
        "plt.axes().set_aspect('equal')\n",
        "plt.arrow(0, 0, Q[0][0], Q[0][1], linewidth=3, head_width=.05, head_length=0.05, color ='red')\n",
        "plt.arrow(0, 0, Q[1][0], Q[1][1], linewidth=3, head_width=.05, head_length=0.05, color ='blue')\n",
        "plt.grid(axis='both', ls='--', lw=.5)\n",
        "plt.title(\"Two vectors in R^2 graph\")\n",
        "plt.show()"
      ],
      "execution_count": 400,
      "outputs": [
        {
          "output_type": "stream",
          "text": [
            "/usr/local/lib/python3.6/dist-packages/ipykernel_launcher.py:4: MatplotlibDeprecationWarning: Adding an axes using the same arguments as a previous axes currently reuses the earlier instance.  In a future version, a new instance will always be created and returned.  Meanwhile, this warning can be suppressed, and the future behavior ensured, by passing a unique label to each axes instance.\n",
            "  after removing the cwd from sys.path.\n"
          ],
          "name": "stderr"
        },
        {
          "output_type": "display_data",
          "data": {
            "image/png": "[encoded data removed]",
            "text/plain": [
              "<Figure size 432x288 with 1 Axes>"
            ]
          },
          "metadata": {
            "tags": [],
            "needs_background": "light"
          }
        }
      ]
    },
    {
      "cell_type": "markdown",
      "metadata": {
        "id": "20yPFBDUxxnS",
        "colab_type": "text"
      },
      "source": [
        "## 6.2 What does it mean to form a basis?"
      ]
    },
    {
      "cell_type": "markdown",
      "metadata": {
        "id": "a9rDYunwmQT0",
        "colab_type": "text"
      },
      "source": [
        "The basis of a vector space  V  is a set of vectors that are linearly independent and that span the vector space  V .\n",
        "\n",
        "A set of vectors spans a space if their linear combinations fill the space."
      ]
    },
    {
      "cell_type": "markdown",
      "metadata": {
        "id": "EHmUxbcY6vD3",
        "colab_type": "text"
      },
      "source": [
        "# Rank"
      ]
    },
    {
      "cell_type": "markdown",
      "metadata": {
        "id": "IpJwt9kw6v8U",
        "colab_type": "text"
      },
      "source": [
        "## 7.1 What is the Rank of P?\n",
        "\n",
        "\\begin{align}\n",
        "P = \\begin{bmatrix} \n",
        "1 & 2 & 3 \\\\\n",
        " -1 & 0 & 7 \\\\\n",
        "4 & 8  & 2\n",
        "\\end{bmatrix}\n",
        "\\end{align}"
      ]
    },
    {
      "cell_type": "code",
      "metadata": {
        "id": "kXDvC2_Qit1d",
        "colab_type": "code",
        "colab": {
          "base_uri": "https://localhost:8080/",
          "height": 34
        },
        "outputId": "d61fdeb1-c939-4917-9fd5-139a469a7b5a"
      },
      "source": [
        "# Getting the rank of P\n",
        "P = np.array([[1,2,3],[-1,0,7],[4,8,2]])\n",
        "np.linalg.matrix_rank(P)"
      ],
      "execution_count": 391,
      "outputs": [
        {
          "output_type": "execute_result",
          "data": {
            "text/plain": [
              "3"
            ]
          },
          "metadata": {
            "tags": []
          },
          "execution_count": 391
        }
      ]
    },
    {
      "cell_type": "markdown",
      "metadata": {
        "id": "jGqFMBYY7mHD",
        "colab_type": "text"
      },
      "source": [
        "## 7.2 What does the rank of a matrix tell us?"
      ]
    },
    {
      "cell_type": "markdown",
      "metadata": {
        "id": "Vjg1IiCD8nnP",
        "colab_type": "text"
      },
      "source": [
        "Rank 3 tells us that P is linear independent."
      ]
    },
    {
      "cell_type": "markdown",
      "metadata": {
        "id": "0Db2sc_V8QD6",
        "colab_type": "text"
      },
      "source": [
        "# Stretch Goal #1\n",
        "## Linear Projections\n",
        "\n",
        "## 8.1 Line $L$ is formed by all of the vectors that can be created by scaling vector $v$ \n",
        "\\begin{align}\n",
        "v = \\begin{bmatrix} 1 & 3 \\end{bmatrix}\n",
        "\\end{align}\n",
        "\n",
        "\\begin{align}\n",
        "w = \\begin{bmatrix} -1 & 2 \\end{bmatrix}\n",
        "\\end{align}\n",
        "\n",
        "## find $proj_{L}(w)$\n",
        "\n",
        "## graph your projected vector to check your work (make sure your axis are square/even)"
      ]
    },
    {
      "cell_type": "code",
      "metadata": {
        "id": "hp5z2WTBCNKx",
        "colab_type": "code",
        "colab": {}
      },
      "source": [
        ""
      ],
      "execution_count": null,
      "outputs": []
    },
    {
      "cell_type": "markdown",
      "metadata": {
        "id": "TKkrPwRM-Oar",
        "colab_type": "text"
      },
      "source": [
        "# Stretch Goal #2\n",
        "\n",
        "## For vectors that begin at the origin, the coordinates of where the vector ends can be interpreted as regular data points. (See 3Blue1Brown videos about Spans, Basis, etc.)\n",
        "\n",
        "## Write a function that can calculate the linear projection of each point (x,y) (vector) onto the line y=x. run the function and plot the original points in blue and the new projected points on the line y=x in red. \n",
        "\n",
        "## For extra points plot the orthogonal vectors as a dashed line from the original blue points to the projected red points."
      ]
    },
    {
      "cell_type": "code",
      "metadata": {
        "id": "cp52kZra-ykj",
        "colab_type": "code",
        "colab": {
          "base_uri": "https://localhost:8080/",
          "height": 347
        },
        "outputId": "12502200-eafe-4e20-bfb7-2d539c6027cb"
      },
      "source": [
        "import pandas as pd\n",
        "import matplotlib.pyplot as plt\n",
        "\n",
        "# Creating a dataframe for you to work with -Feel free to not use the dataframe if you don't want to.\n",
        "x_values = [1, 4, 7, 3, 9, 4, 5 ]\n",
        "y_values = [4, 2, 5, 0, 8, 2, 8]\n",
        "\n",
        "data = {\"x\": x_values, \"y\": y_values}\n",
        "\n",
        "df = pd.DataFrame(data)\n",
        "\n",
        "df.head()\n",
        "\n",
        "plt.scatter(df.x, df.y)\n",
        "plt.show()"
      ],
      "execution_count": null,
      "outputs": [
        {
          "output_type": "display_data",
          "data": {
            "image/png": "[encoded data removed]",
            "text/plain": [
              "<matplotlib.figure.Figure at 0x7f787cfb2978>"
            ]
          },
          "metadata": {
            "tags": []
          }
        }
      ]
    },
    {
      "cell_type": "code",
      "metadata": {
        "id": "EZTA6Tj6BGDb",
        "colab_type": "code",
        "colab": {}
      },
      "source": [
        ""
      ],
      "execution_count": null,
      "outputs": []
    }
  ]
}