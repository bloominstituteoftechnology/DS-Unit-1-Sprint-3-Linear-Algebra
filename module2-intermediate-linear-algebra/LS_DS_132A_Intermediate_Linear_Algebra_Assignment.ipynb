{
  "nbformat": 4,
  "nbformat_minor": 0,
  "metadata": {
    "colab": {
      "name": "LS_DS_132A_Intermediate_Linear_Algebra_Assignment.ipynb",
      "provenance": [],
      "collapsed_sections": [],
      "include_colab_link": true
    },
    "kernelspec": {
      "name": "python3",
      "display_name": "Python 3"
    }
  },
  "cells": [
    {
      "cell_type": "markdown",
      "metadata": {
        "id": "view-in-github",
        "colab_type": "text"
      },
      "source": [
        "<a href=\"https://colab.research.google.com/github/jacobpad/DS-Unit-1-Sprint-3-Linear-Algebra/blob/master/module2-intermediate-linear-algebra/LS_DS_132A_Intermediate_Linear_Algebra_Assignment.ipynb\" target=\"_parent\"><img src=\"https://colab.research.google.com/assets/colab-badge.svg\" alt=\"Open In Colab\"/></a>"
      ]
    },
    {
      "cell_type": "markdown",
      "metadata": {
        "id": "GSNiYn8lr6nN",
        "colab_type": "text"
      },
      "source": [
        "# Statistics"
      ]
    },
    {
      "cell_type": "markdown",
      "metadata": {
        "id": "3d4izUhQvh2_",
        "colab_type": "text"
      },
      "source": [
        "## 1.1 Sales for the past week was the following amounts: [3505, 2400, 3027, 2798, 3700, 3250, 2689]. Without using library functions, what is the mean, variance, and standard deviation of of sales from last week? (for extra bonus points, write your own function that can calculate these two values for any sized list)"
      ]
    },
    {
      "cell_type": "code",
      "metadata": {
        "id": "wclJQyBvatNM",
        "colab_type": "code",
        "colab": {}
      },
      "source": [
        "# A bunch of imports\n",
        "import pandas as pd\n",
        "import matplotlib.pyplot as plt\n",
        "import numpy as np\n",
        "import seaborn as sns\n",
        "import scipy.stats as stats\n",
        "import math"
      ],
      "execution_count": 0,
      "outputs": []
    },
    {
      "cell_type": "code",
      "metadata": {
        "id": "w1iZfYvBtEA1",
        "colab_type": "code",
        "outputId": "9757565e-3cff-41de-e235-3c03c88aa2f5",
        "colab": {
          "base_uri": "https://localhost:8080/",
          "height": 173
        }
      },
      "source": [
        "week_sales = [3505, 2400, 3027, 2798, 3700, 3250, 2689]\n",
        "\n",
        "sum = 0\n",
        "count = 0\n",
        "\n",
        "for i in week_sales:\n",
        "  sum += i\n",
        "\n",
        "for i in week_sales:\n",
        "  if i > 1:\n",
        "    count += 1\n",
        "\n",
        "mean = sum/7\n",
        "\n",
        "# Find varaince\n",
        "top = 0\n",
        "for i in week_sales:\n",
        "  top += (i-mean)**2\n",
        "\n",
        "\n",
        "\n",
        "varaince = top / (count-1)\n",
        "std = varaince**(1/2)\n",
        "\n",
        "print('Hard code Sum: ',sum)\n",
        "print('Hard code Mean: ',mean)\n",
        "print('Hard code Varaince: ',varaince)\n",
        "print('Hard code Standard Deviation: ',std)\n",
        "\n",
        "print('\\nThe real way Sum', np.sum(week_sales))\n",
        "print('The real way Mean: ',np.mean(week_sales))\n",
        "print('The real way Varaince: ',np.var(week_sales))\n",
        "print('The real way Standard Deviation: ',np.std(week_sales))"
      ],
      "execution_count": 2,
      "outputs": [
        {
          "output_type": "stream",
          "text": [
            "Hard code Sum:  21369\n",
            "Hard code Mean:  3052.714285714286\n",
            "Hard code Varaince:  214387.90476190473\n",
            "Hard code Standard Deviation:  463.0204150595357\n",
            "\n",
            "The real way Sum 21369\n",
            "The real way Mean:  3052.714285714286\n",
            "The real way Varaince:  183761.06122448976\n",
            "The real way Standard Deviation:  428.67360686714756\n"
          ],
          "name": "stdout"
        }
      ]
    },
    {
      "cell_type": "code",
      "metadata": {
        "id": "uN9J8Nr88NMl",
        "colab_type": "code",
        "outputId": "2ce21fb4-1970-48cf-cf68-a720eb810485",
        "colab": {
          "base_uri": "https://localhost:8080/",
          "height": 155
        }
      },
      "source": [
        "# The Function Way\n",
        "def calculations(data):\n",
        "  # Set variables\n",
        "  sum = 0\n",
        "  count = 0\n",
        "  top = 0\n",
        "\n",
        "  # Get the sum\n",
        "  for i in data:\n",
        "    sum += i\n",
        "\n",
        "  # Count the length\n",
        "  for i in data:\n",
        "    if i > 1:\n",
        "      count += 1\n",
        "\n",
        "  mean = sum/7\n",
        "\n",
        "  # Find varaince\n",
        "  for i in data:\n",
        "    top += (i-mean)**2\n",
        "\n",
        "  # Do math\n",
        "  varaince = top / (count-1)\n",
        "  std = varaince**(1/2)\n",
        "\n",
        "  return ('Sum:', sum, 'Mean:',mean, 'Varaince:', varaince, 'Standard Deviation:', std)\n",
        "\n",
        "# Call function\n",
        "calculations(week_sales)"
      ],
      "execution_count": 3,
      "outputs": [
        {
          "output_type": "execute_result",
          "data": {
            "text/plain": [
              "('Sum:',\n",
              " 21369,\n",
              " 'Mean:',\n",
              " 3052.714285714286,\n",
              " 'Varaince:',\n",
              " 214387.90476190473,\n",
              " 'Standard Deviation:',\n",
              " 463.0204150595357)"
            ]
          },
          "metadata": {
            "tags": []
          },
          "execution_count": 3
        }
      ]
    },
    {
      "cell_type": "markdown",
      "metadata": {
        "id": "oh63KaOctEp_",
        "colab_type": "text"
      },
      "source": [
        "## 1.2 Find the covariance between last week's sales numbers and the number of customers that entered the store last week: [127, 80, 105, 92, 120, 115, 93] (you may use librray functions for calculating the covariance since we didn't specifically talk about its formula)"
      ]
    },
    {
      "cell_type": "code",
      "metadata": {
        "id": "G7ZB0krot564",
        "colab_type": "code",
        "outputId": "9ede353d-85cf-44ba-fbf6-9b5ca8b9459e",
        "colab": {
          "base_uri": "https://localhost:8080/",
          "height": 212
        }
      },
      "source": [
        "# Last week's sales\n",
        "print('Last week\\'s sales:')\n",
        "print(week_sales)\n",
        "\n",
        "# Number of customers that entered the store last week\n",
        "num_of_cust = [127, 80, 105, 92, 120, 115, 93]\n",
        "print('\\nNumber of customers that entered the store last week:')\n",
        "print(num_of_cust)\n",
        "\n",
        "last_week = {\"week_sales\":week_sales, \"num_of_cust\":num_of_cust}\n",
        "\n",
        "df = pd.DataFrame(last_week)\n",
        "\n",
        "print('')\n",
        "\n",
        "df_cov = df.cov()\n",
        "df_cov"
      ],
      "execution_count": 4,
      "outputs": [
        {
          "output_type": "stream",
          "text": [
            "Last week's sales:\n",
            "[3505, 2400, 3027, 2798, 3700, 3250, 2689]\n",
            "\n",
            "Number of customers that entered the store last week:\n",
            "[127, 80, 105, 92, 120, 115, 93]\n",
            "\n"
          ],
          "name": "stdout"
        },
        {
          "output_type": "execute_result",
          "data": {
            "text/html": [
              "<div>\n",
              "<style scoped>\n",
              "    .dataframe tbody tr th:only-of-type {\n",
              "        vertical-align: middle;\n",
              "    }\n",
              "\n",
              "    .dataframe tbody tr th {\n",
              "        vertical-align: top;\n",
              "    }\n",
              "\n",
              "    .dataframe thead th {\n",
              "        text-align: right;\n",
              "    }\n",
              "</style>\n",
              "<table border=\"1\" class=\"dataframe\">\n",
              "  <thead>\n",
              "    <tr style=\"text-align: right;\">\n",
              "      <th></th>\n",
              "      <th>week_sales</th>\n",
              "      <th>num_of_cust</th>\n",
              "    </tr>\n",
              "  </thead>\n",
              "  <tbody>\n",
              "    <tr>\n",
              "      <th>week_sales</th>\n",
              "      <td>214387.904762</td>\n",
              "      <td>7604.357143</td>\n",
              "    </tr>\n",
              "    <tr>\n",
              "      <th>num_of_cust</th>\n",
              "      <td>7604.357143</td>\n",
              "      <td>290.952381</td>\n",
              "    </tr>\n",
              "  </tbody>\n",
              "</table>\n",
              "</div>"
            ],
            "text/plain": [
              "                week_sales  num_of_cust\n",
              "week_sales   214387.904762  7604.357143\n",
              "num_of_cust    7604.357143   290.952381"
            ]
          },
          "metadata": {
            "tags": []
          },
          "execution_count": 4
        }
      ]
    },
    {
      "cell_type": "markdown",
      "metadata": {
        "id": "J9SbUY9mt66I",
        "colab_type": "text"
      },
      "source": [
        "## 1.3 Find the standard deviation of customers who entered the store last week. Then, use the standard deviations of both sales and customers to standardize the covariance to find the correlation coefficient that summarizes the relationship between sales and customers. (You may use library functions to check your work.)"
      ]
    },
    {
      "cell_type": "code",
      "metadata": {
        "id": "vFJms2YRrKhY",
        "colab_type": "code",
        "outputId": "cb77ff97-e98c-4982-b864-7dc55367bfc6",
        "colab": {
          "base_uri": "https://localhost:8080/",
          "height": 86
        }
      },
      "source": [
        "# Find the standard deviation of customers who entered the store last week.\n",
        "std_num_of_cust = np.std(num_of_cust)\n",
        "print('Standard Deviation of customers:',std_num_of_cust)\n",
        "\n",
        "# Standardize the covariance to find the correlation coefficient\n",
        "# cov/2std's\n",
        "sales_cust_std = std*std_num_of_cust\n",
        "cov_stds = df_cov/(sales_cust_std)\n",
        "\n",
        "print(cov_stds)\n",
        "# print(sales_var.var(ddof=1))\n",
        "# print(sales_var.std(ddof=1))\n",
        "# print(cust_var.std(ddof=1))\n",
        "# print(cust_var(std(ssof=1)))"
      ],
      "execution_count": 5,
      "outputs": [
        {
          "output_type": "stream",
          "text": [
            "Standard Deviation of customers: 15.792015549069118\n",
            "             week_sales  num_of_cust\n",
            "week_sales    29.319906     1.039980\n",
            "num_of_cust    1.039980     0.039791\n"
          ],
          "name": "stdout"
        }
      ]
    },
    {
      "cell_type": "markdown",
      "metadata": {
        "id": "IbZVf7nmujPJ",
        "colab_type": "text"
      },
      "source": [
        "## 1.4 Use pandas to import a cleaned version of the titanic dataset from the following link: [Titanic Dataset](https://raw.githubusercontent.com/Geoyi/Cleaning-Titanic-Data/master/titanic_clean.csv)\n",
        "\n",
        "## Calculate the variance-covariance matrix and correlation matrix for the titanic dataset's numeric columns. (you can encode some of the categorical variables and include them as a stretch goal if you finish early)"
      ]
    },
    {
      "cell_type": "code",
      "metadata": {
        "id": "0TWgUIiaCFzq",
        "colab_type": "code",
        "colab": {}
      },
      "source": [
        "df1 = pd.read_csv('https://raw.githubusercontent.com/Geoyi/Cleaning-Titanic-Data/master/titanic_clean.csv')"
      ],
      "execution_count": 0,
      "outputs": []
    },
    {
      "cell_type": "code",
      "metadata": {
        "id": "jjsEatamVEa_",
        "colab_type": "code",
        "outputId": "3700b823-61ba-498b-97cc-e27d725d6990",
        "colab": {
          "base_uri": "https://localhost:8080/",
          "height": 167
        }
      },
      "source": [
        "df1.head(1)"
      ],
      "execution_count": 7,
      "outputs": [
        {
          "output_type": "execute_result",
          "data": {
            "text/html": [
              "<div>\n",
              "<style scoped>\n",
              "    .dataframe tbody tr th:only-of-type {\n",
              "        vertical-align: middle;\n",
              "    }\n",
              "\n",
              "    .dataframe tbody tr th {\n",
              "        vertical-align: top;\n",
              "    }\n",
              "\n",
              "    .dataframe thead th {\n",
              "        text-align: right;\n",
              "    }\n",
              "</style>\n",
              "<table border=\"1\" class=\"dataframe\">\n",
              "  <thead>\n",
              "    <tr style=\"text-align: right;\">\n",
              "      <th></th>\n",
              "      <th>Unnamed: 0</th>\n",
              "      <th>pclass</th>\n",
              "      <th>survived</th>\n",
              "      <th>name</th>\n",
              "      <th>sex</th>\n",
              "      <th>age</th>\n",
              "      <th>sibsp</th>\n",
              "      <th>parch</th>\n",
              "      <th>ticket</th>\n",
              "      <th>fare</th>\n",
              "      <th>cabin</th>\n",
              "      <th>embarked</th>\n",
              "      <th>boat</th>\n",
              "      <th>body</th>\n",
              "      <th>home.dest</th>\n",
              "      <th>has_cabin_number</th>\n",
              "    </tr>\n",
              "  </thead>\n",
              "  <tbody>\n",
              "    <tr>\n",
              "      <th>0</th>\n",
              "      <td>1</td>\n",
              "      <td>1.0</td>\n",
              "      <td>1.0</td>\n",
              "      <td>Allen, Miss. Elisabeth Walton</td>\n",
              "      <td>female</td>\n",
              "      <td>29.0</td>\n",
              "      <td>0.0</td>\n",
              "      <td>0.0</td>\n",
              "      <td>24160</td>\n",
              "      <td>211.3375</td>\n",
              "      <td>B5</td>\n",
              "      <td>S</td>\n",
              "      <td>2</td>\n",
              "      <td>NaN</td>\n",
              "      <td>St Louis, MO</td>\n",
              "      <td>1</td>\n",
              "    </tr>\n",
              "  </tbody>\n",
              "</table>\n",
              "</div>"
            ],
            "text/plain": [
              "   Unnamed: 0  pclass  survived  ... body     home.dest  has_cabin_number\n",
              "0           1     1.0       1.0  ...  NaN  St Louis, MO                 1\n",
              "\n",
              "[1 rows x 16 columns]"
            ]
          },
          "metadata": {
            "tags": []
          },
          "execution_count": 7
        }
      ]
    },
    {
      "cell_type": "code",
      "metadata": {
        "id": "zV3yfqM3ZJsx",
        "colab_type": "code",
        "colab": {}
      },
      "source": [
        "df1 = df1.drop(columns=['Unnamed: 0', 'name', 'sex', 'cabin', 'embarked', 'home.dest'])"
      ],
      "execution_count": 0,
      "outputs": []
    },
    {
      "cell_type": "code",
      "metadata": {
        "id": "0FJVdHAlY9YR",
        "colab_type": "code",
        "outputId": "d9d43cf9-4230-4839-8a58-b55d3251050e",
        "colab": {
          "base_uri": "https://localhost:8080/",
          "height": 98
        }
      },
      "source": [
        "df1.head(1)"
      ],
      "execution_count": 9,
      "outputs": [
        {
          "output_type": "execute_result",
          "data": {
            "text/html": [
              "<div>\n",
              "<style scoped>\n",
              "    .dataframe tbody tr th:only-of-type {\n",
              "        vertical-align: middle;\n",
              "    }\n",
              "\n",
              "    .dataframe tbody tr th {\n",
              "        vertical-align: top;\n",
              "    }\n",
              "\n",
              "    .dataframe thead th {\n",
              "        text-align: right;\n",
              "    }\n",
              "</style>\n",
              "<table border=\"1\" class=\"dataframe\">\n",
              "  <thead>\n",
              "    <tr style=\"text-align: right;\">\n",
              "      <th></th>\n",
              "      <th>pclass</th>\n",
              "      <th>survived</th>\n",
              "      <th>age</th>\n",
              "      <th>sibsp</th>\n",
              "      <th>parch</th>\n",
              "      <th>ticket</th>\n",
              "      <th>fare</th>\n",
              "      <th>boat</th>\n",
              "      <th>body</th>\n",
              "      <th>has_cabin_number</th>\n",
              "    </tr>\n",
              "  </thead>\n",
              "  <tbody>\n",
              "    <tr>\n",
              "      <th>0</th>\n",
              "      <td>1.0</td>\n",
              "      <td>1.0</td>\n",
              "      <td>29.0</td>\n",
              "      <td>0.0</td>\n",
              "      <td>0.0</td>\n",
              "      <td>24160</td>\n",
              "      <td>211.3375</td>\n",
              "      <td>2</td>\n",
              "      <td>NaN</td>\n",
              "      <td>1</td>\n",
              "    </tr>\n",
              "  </tbody>\n",
              "</table>\n",
              "</div>"
            ],
            "text/plain": [
              "   pclass  survived   age  sibsp  ...      fare boat  body has_cabin_number\n",
              "0     1.0       1.0  29.0    0.0  ...  211.3375    2   NaN                1\n",
              "\n",
              "[1 rows x 10 columns]"
            ]
          },
          "metadata": {
            "tags": []
          },
          "execution_count": 9
        }
      ]
    },
    {
      "cell_type": "code",
      "metadata": {
        "id": "AtS5MY-TZcRx",
        "colab_type": "code",
        "outputId": "af2159c1-fd5c-4115-9190-59ceb16df920",
        "colab": {
          "base_uri": "https://localhost:8080/",
          "height": 259
        }
      },
      "source": [
        "print(df1.cov())\n",
        "print(df.corr())"
      ],
      "execution_count": 10,
      "outputs": [
        {
          "output_type": "stream",
          "text": [
            "                     pclass  survived  ...         body  has_cabin_number\n",
            "pclass             0.701969 -0.127248  ...    -2.876653         -0.249992\n",
            "survived          -0.127248  0.236250  ...     0.000000          0.061406\n",
            "age               -3.954605 -0.314343  ...    81.622922          1.463138\n",
            "sibsp              0.053090 -0.014088  ...    -8.708471         -0.003946\n",
            "parch              0.013287  0.034776  ...     4.237190          0.013316\n",
            "fare             -24.227788  6.146023  ...  -179.164684         10.976961\n",
            "body              -2.876653  0.000000  ...  9544.688567          3.625689\n",
            "has_cabin_number  -0.249992  0.061406  ...     3.625689          0.174613\n",
            "\n",
            "[8 rows x 8 columns]\n",
            "             week_sales  num_of_cust\n",
            "week_sales     1.000000     0.962834\n",
            "num_of_cust    0.962834     1.000000\n"
          ],
          "name": "stdout"
        }
      ]
    },
    {
      "cell_type": "markdown",
      "metadata": {
        "id": "7K0Xfh8MvYkl",
        "colab_type": "text"
      },
      "source": [
        "# Orthogonality"
      ]
    },
    {
      "cell_type": "markdown",
      "metadata": {
        "id": "Pe3eOZ2fvdZ-",
        "colab_type": "text"
      },
      "source": [
        "## 2.1 Plot two vectors that are orthogonal to each other. What is a synonym for orthogonal?"
      ]
    },
    {
      "cell_type": "code",
      "metadata": {
        "id": "YLSBk7hJvvCx",
        "colab_type": "code",
        "outputId": "0c768576-7400-409e-f9fc-898ca1d13487",
        "colab": {
          "base_uri": "https://localhost:8080/",
          "height": 281
        }
      },
      "source": [
        "v1 = [2,0]\n",
        "v2 = [0,2]\n",
        "\n",
        "plt.arrow(0,0,v1[0],v1[1],head_width=.05, head_length=.05, color='red')\n",
        "plt.arrow(0,0,v2[0],v2[1],head_width=.05, head_length=.05, color='blue')\n",
        "plt.xlim(-1,3)\n",
        "plt.ylim(-1,3)\n",
        "plt.title('Two vectors that are orthogonal to each other');\n",
        "# They are perpendicular"
      ],
      "execution_count": 11,
      "outputs": [
        {
          "output_type": "display_data",
          "data": {
            "image/png": "[encoded data removed]",
            "text/plain": [
              "<Figure size 432x288 with 1 Axes>"
            ]
          },
          "metadata": {
            "tags": []
          }
        }
      ]
    },
    {
      "cell_type": "markdown",
      "metadata": {
        "id": "7AS4V1Nhvvxz",
        "colab_type": "text"
      },
      "source": [
        "## 2.2 Are the following vectors orthogonal? Why or why not?\n",
        "\n",
        "\\begin{align}\n",
        "a = \\begin{bmatrix} -5 \\\\ 3 \\\\ 7 \\end{bmatrix}\n",
        "\\qquad\n",
        "b = \\begin{bmatrix} 6 \\\\ -8 \\\\ 2 \\end{bmatrix}\n",
        "\\end{align}"
      ]
    },
    {
      "cell_type": "code",
      "metadata": {
        "id": "F_-y54YSz47k",
        "colab_type": "code",
        "outputId": "cbff24a0-b635-4b4f-ff36-ee64cb53b90f",
        "colab": {
          "base_uri": "https://localhost:8080/",
          "height": 52
        }
      },
      "source": [
        "a = ([-5,3,7])\n",
        "b = ([6,-8,2])\n",
        "# a dot b\n",
        "print(np.dot(a,b))\n",
        "print('They are not orthogonal because -40 doesn\\'t equal 0')"
      ],
      "execution_count": 12,
      "outputs": [
        {
          "output_type": "stream",
          "text": [
            "-40\n",
            "They are not orthogonal because -40 doesn't equal 0\n"
          ],
          "name": "stdout"
        }
      ]
    },
    {
      "cell_type": "markdown",
      "metadata": {
        "id": "MiNjyqiEz5SG",
        "colab_type": "text"
      },
      "source": [
        "## 2.3 Compute the following values: What do these quantities have in common?\n",
        "\n",
        "## What is $||c||^2$? \n",
        "\n",
        "## What is $c \\cdot c$? \n",
        "\n",
        "## What is $c^{T}c$?\n",
        "\n",
        "\\begin{align}\n",
        "c = \\begin{bmatrix} 2 & -15 & 6 & 20 \\end{bmatrix}\n",
        "\\end{align}"
      ]
    },
    {
      "cell_type": "code",
      "metadata": {
        "id": "IlV_uaYK1EQB",
        "colab_type": "code",
        "outputId": "33ad886e-c335-42be-e436-fe6f8b10b263",
        "colab": {
          "base_uri": "https://localhost:8080/",
          "height": 173
        }
      },
      "source": [
        "c = ([2,-15,6,20])\n",
        "c=np.array(c)\n",
        "# Norm\n",
        "print('Norm')\n",
        "print(np.linalg.norm(c))\n",
        "\n",
        "# Dot\n",
        "print('\\nDot')\n",
        "print(np.dot(c,c))\n",
        "\n",
        "# Transposed\n",
        "print('\\nTransposed')\n",
        "print(np.transpose(c))\n",
        "c_transposed = c.T \n",
        "print(c_transposed)"
      ],
      "execution_count": 13,
      "outputs": [
        {
          "output_type": "stream",
          "text": [
            "Norm\n",
            "25.787593916455254\n",
            "\n",
            "Dot\n",
            "665\n",
            "\n",
            "Transposed\n",
            "[  2 -15   6  20]\n",
            "[  2 -15   6  20]\n"
          ],
          "name": "stdout"
        }
      ]
    },
    {
      "cell_type": "markdown",
      "metadata": {
        "id": "MK_TpWqk1Evk",
        "colab_type": "text"
      },
      "source": [
        "# Unit Vectors"
      ]
    },
    {
      "cell_type": "markdown",
      "metadata": {
        "id": "Kpit6WWO1b8l",
        "colab_type": "text"
      },
      "source": [
        "## 3.1 Using Latex, write the following vectors as a linear combination of scalars and unit vectors:\n",
        "\n",
        "\\begin{align}\n",
        "d = \\begin{bmatrix} 7 \\\\ 12 \\end{bmatrix}\n",
        "\\qquad\n",
        "e = \\begin{bmatrix} 2 \\\\ 11 \\\\ -8  \\end{bmatrix}\n",
        "\\end{align}"
      ]
    },
    {
      "cell_type": "markdown",
      "metadata": {
        "id": "oBCj1sDW2ouC",
        "colab_type": "text"
      },
      "source": [
        "\\begin{align}d = 7\\hat{i} + 12 \\hat{j}\\end{align}\n",
        "\n",
        "\\begin{align}e = 2\\hat{i} + 11 \\hat{j} + -8\\hat{k}\\end{align}"
      ]
    },
    {
      "cell_type": "markdown",
      "metadata": {
        "id": "dAdUQuep1_yJ",
        "colab_type": "text"
      },
      "source": [
        "## 3.2 Turn vector $f$ into a unit vector:\n",
        "\n",
        "\\begin{align}\n",
        "f = \\begin{bmatrix} 4 & 12 & 11 & 9 & 2 \\end{bmatrix}\n",
        "\\end{align}"
      ]
    },
    {
      "cell_type": "markdown",
      "metadata": {
        "id": "7-sCdgOtwgPg",
        "colab_type": "text"
      },
      "source": [
        "First calulate the norm\n",
        " \\begin{align}\n",
        " ||f|| = \\sqrt{4^2 + 12^2 + 11^2 + 9^2 + 2^2} \n",
        "\\end{align}\n",
        "\\begin{align}\n",
        " ||f|| = \\sqrt{366}\n",
        "\\end{align}\n",
        "\\begin{align}\n",
        " ||f|| = 19.1311\n",
        "\\end{align}\n",
        "\n",
        "Now we can multiply our vector f by 1 over it's norm to get the unit vector\n",
        "\\begin{align}\n",
        " \\hat{f} = \\frac{1}{19.13}\\begin{bmatrix} 4 \\\\ 12 \\\\  11 \\\\ 9 \\\\ 2 \\end{bmatrix} = \\begin{bmatrix} \\frac{4}{19.13} \\\\ \\frac{12}{19.13} \\\\  \\frac{11}{19.13} \\\\ \\frac{9}{19.13} \\\\ \\frac{2}{19.13} \\end{bmatrix}\n",
        "\\end{align}"
      ]
    },
    {
      "cell_type": "code",
      "metadata": {
        "id": "I3W8ZiHR1_Fa",
        "colab_type": "code",
        "outputId": "85db4c89-ce0e-4bcb-b90b-83969b82d2f0",
        "colab": {
          "base_uri": "https://localhost:8080/",
          "height": 104
        }
      },
      "source": [
        "# Make array\n",
        "f = np.array([4,12,11,9,2])\n",
        "f_list = []\n",
        "total = 0\n",
        "\n",
        "# Find the norm and...\n",
        "# Append the norm (unit vector) of f to the list\n",
        "for i in f:\n",
        "  total = i / np.linalg.norm(f)\n",
        "  f_list.append(total)\n",
        "\n",
        "# Print the appended list\n",
        "f_list"
      ],
      "execution_count": 14,
      "outputs": [
        {
          "output_type": "execute_result",
          "data": {
            "text/plain": [
              "[0.20908334939572668,\n",
              " 0.62725004818718,\n",
              " 0.5749792108382483,\n",
              " 0.470437536140385,\n",
              " 0.10454167469786334]"
            ]
          },
          "metadata": {
            "tags": []
          },
          "execution_count": 14
        }
      ]
    },
    {
      "cell_type": "markdown",
      "metadata": {
        "id": "o39UyP-I5lpP",
        "colab_type": "text"
      },
      "source": [
        "# Linear Independence / Dependence "
      ]
    },
    {
      "cell_type": "markdown",
      "metadata": {
        "id": "ajfBqYe45sT5",
        "colab_type": "text"
      },
      "source": [
        "## 4.1 Plot two vectors that are linearly dependent and two vectors that are linearly independent (bonus points if done in $\\mathbb{R}^3$)."
      ]
    },
    {
      "cell_type": "code",
      "metadata": {
        "id": "1potr2dtzEAY",
        "colab_type": "code",
        "outputId": "60e82f79-4dae-4437-8d04-eec83c2fc6c5",
        "colab": {
          "base_uri": "https://localhost:8080/",
          "height": 286
        }
      },
      "source": [
        "# Plot vectors that are linearly dependent\n",
        "\n",
        "# Set vectors\n",
        "v1 = [0,6]\n",
        "v2 = [0,9]\n",
        "\n",
        "# Make plot\n",
        "plt.arrow(0,0,v1[0],v1[1],head_width=.5,head_length=.5,color='black')\n",
        "plt.arrow(0,0,v2[0],v2[1],head_width=.5,head_length=.5,color='red')\n",
        "plt.xlim(-.5,5)\n",
        "plt.ylim(-.5,10)"
      ],
      "execution_count": 15,
      "outputs": [
        {
          "output_type": "execute_result",
          "data": {
            "text/plain": [
              "(-0.5, 10)"
            ]
          },
          "metadata": {
            "tags": []
          },
          "execution_count": 15
        },
        {
          "output_type": "display_data",
          "data": {
            "image/png": "[encoded data removed]",
            "text/plain": [
              "<Figure size 432x288 with 1 Axes>"
            ]
          },
          "metadata": {
            "tags": []
          }
        }
      ]
    },
    {
      "cell_type": "code",
      "metadata": {
        "id": "80nD5R0WzDwn",
        "colab_type": "code",
        "outputId": "834a31c0-e8bd-4264-f991-387935a3a908",
        "colab": {
          "base_uri": "https://localhost:8080/",
          "height": 286
        }
      },
      "source": [
        "# Plot two vectors that are linearly independent\n",
        "# Set vectors\n",
        "v1 = [1,6]\n",
        "v2 = [0,9]\n",
        "\n",
        "# Make plot\n",
        "plt.arrow(0,0,v1[0],v1[1],head_width=.5,head_length=.5,color='black')\n",
        "plt.arrow(0,0,v2[0],v2[1],head_width=.5,head_length=.5,color='red')\n",
        "plt.xlim(-.5,5)\n",
        "plt.ylim(-.5,10)"
      ],
      "execution_count": 16,
      "outputs": [
        {
          "output_type": "execute_result",
          "data": {
            "text/plain": [
              "(-0.5, 10)"
            ]
          },
          "metadata": {
            "tags": []
          },
          "execution_count": 16
        },
        {
          "output_type": "display_data",
          "data": {
            "image/png": "[encoded data removed]",
            "text/plain": [
              "<Figure size 432x288 with 1 Axes>"
            ]
          },
          "metadata": {
            "tags": []
          }
        }
      ]
    },
    {
      "cell_type": "markdown",
      "metadata": {
        "id": "TrJ0MT_n3SvO",
        "colab_type": "text"
      },
      "source": [
        "# Span"
      ]
    },
    {
      "cell_type": "markdown",
      "metadata": {
        "id": "86iXLzwM2z8l",
        "colab_type": "text"
      },
      "source": [
        "## 5.1 What is the span of the following vectors?\n",
        "\n",
        "\\begin{align}\n",
        "g = \\begin{bmatrix} 1 & 2 \\end{bmatrix}\n",
        "\\qquad\n",
        "h = \\begin{bmatrix} 4 & 8 \\end{bmatrix}\n",
        "\\end{align}"
      ]
    },
    {
      "cell_type": "code",
      "metadata": {
        "id": "G2LK2RWL39Q4",
        "colab_type": "code",
        "outputId": "ed27fb91-e839-4fc8-c3e5-6826061d4375",
        "colab": {
          "base_uri": "https://localhost:8080/",
          "height": 52
        }
      },
      "source": [
        "# Span is the area of space that can be spanned by scaling the vectors (dimensionality)\n",
        "# To check the span of these two vectors, we have to check to see if they are linearly dependent (redundancy)\n",
        "g_and_h = np.asarray([[1,2], [4,8]])\n",
        "g_and_h\n",
        "\n",
        "# Dependant means redundant - linear independence means not redundent.\n",
        "# if 5 vectors exist, and 3 are dependant, the 5 vectors span 2 dimensional space because \n",
        "# 3 are redundant\n",
        "\n",
        "# Using Gaussian elimination (row reduction)\n",
        "# Multiply the first vector by -4 and add it to the second vector to 0 out the first column\n",
        "# result is [0,0]\n",
        "# Because only the first row has a leading 1 and the second row came out to all \n",
        "# 0's, it shows these 2 vectors were linearly dependent\n",
        "# as a result, the span of the following vectors is 1 (rank of the matrix was 1)"
      ],
      "execution_count": 17,
      "outputs": [
        {
          "output_type": "execute_result",
          "data": {
            "text/plain": [
              "array([[1, 2],\n",
              "       [4, 8]])"
            ]
          },
          "metadata": {
            "tags": []
          },
          "execution_count": 17
        }
      ]
    },
    {
      "cell_type": "markdown",
      "metadata": {
        "id": "l1deylUj4IHH",
        "colab_type": "text"
      },
      "source": [
        "## 5.2 What is the span of $\\{l, m, n\\}$?\n",
        "\n",
        "\\begin{align}\n",
        "l = \\begin{bmatrix} 1 & 2 & 3 \\end{bmatrix}\n",
        "\\qquad\n",
        "m = \\begin{bmatrix} -1 & 0 & 7 \\end{bmatrix}\n",
        "\\qquad\n",
        "n = \\begin{bmatrix} 4 & 8  & 2\\end{bmatrix}\n",
        "\\end{align}"
      ]
    },
    {
      "cell_type": "code",
      "metadata": {
        "id": "p1i_ueD25ZcP",
        "colab_type": "code",
        "outputId": "a823ed94-e6f1-40d8-c7ff-14ada2595715",
        "colab": {
          "base_uri": "https://localhost:8080/",
          "height": 248
        }
      },
      "source": [
        "import numpy as np\n",
        "from mpl_toolkits.mplot3d import Axes3D\n",
        "# Three coordinants of a 3-d vector\n",
        "l = [1,2,3]\n",
        "m = [-1,0,7]\n",
        "n = [4,8,2]\n",
        "\n",
        "# Array 'em\n",
        "vectors = np.array([[0,0,0,1,2,3],\n",
        "                    [0,0,0,-1,0,7],\n",
        "                    [0,0,0,4,8,2]])\n",
        "\n",
        "# Vector zip...???\n",
        "X,Y,Z,U,V,W = zip(*vectors)\n",
        "\n",
        "# Graph stuff\n",
        "fig = plt.figure()\n",
        "ax = fig.add_subplot(111, projection='3d')\n",
        "ax.quiver(X,Y,Z,U,V,W, length=1)\n",
        "ax.set_xlim([0,10])\n",
        "ax.set_ylim([-5,10])\n",
        "ax.set_zlim([0,10])\n",
        "\n",
        "# Label the graph\n",
        "ax.set_title('These span 3 dimensional space - R^3')\n",
        "ax.set_xlabel('X')\n",
        "ax.set_ylabel('Y')\n",
        "ax.set_zlabel('Z')\n",
        "plt.show()"
      ],
      "execution_count": 22,
      "outputs": [
        {
          "output_type": "display_data",
          "data": {
            "image/png": "[encoded data removed]",
            "text/plain": [
              "<Figure size 432x288 with 1 Axes>"
            ]
          },
          "metadata": {
            "tags": []
          }
        }
      ]
    },
    {
      "cell_type": "markdown",
      "metadata": {
        "id": "IBqe7X1732kX",
        "colab_type": "text"
      },
      "source": [
        "# Basis"
      ]
    },
    {
      "cell_type": "markdown",
      "metadata": {
        "id": "YeUZVHRM6PpT",
        "colab_type": "text"
      },
      "source": [
        "## 6.1 Graph two vectors that form a basis for $\\mathbb{R}^2$\n",
        "\n"
      ]
    },
    {
      "cell_type": "code",
      "metadata": {
        "id": "utvF3Pkt8NP6",
        "colab_type": "code",
        "colab": {
          "base_uri": "https://localhost:8080/",
          "height": 281
        },
        "outputId": "3b2b0c9d-8b42-48cd-da35-7b8e9afcbf65"
      },
      "source": [
        "# vectors\n",
        "v1 = [5,2]\n",
        "v2 = [2,3]\n",
        "\n",
        "# plot the vectors\n",
        "plt.arrow(0,0,v1[0],v1[1],head_width=.0,head_length=.0,color='blue')\n",
        "plt.arrow(0,0,v2[0],v2[1],head_width=.0,head_length=.0,color='green')\n",
        "\n",
        "plt.xlim(-1,6)\n",
        "plt.ylim(-1,6)\n",
        "plt.title('Graph two vectors that form a basis for  ℝ2');"
      ],
      "execution_count": 25,
      "outputs": [
        {
          "output_type": "display_data",
          "data": {
            "image/png": "[encoded data removed]",
            "text/plain": [
              "<Figure size 432x288 with 1 Axes>"
            ]
          },
          "metadata": {
            "tags": []
          }
        }
      ]
    },
    {
      "cell_type": "markdown",
      "metadata": {
        "id": "20yPFBDUxxnS",
        "colab_type": "text"
      },
      "source": [
        "## 6.2 What does it mean to form a basis?"
      ]
    },
    {
      "cell_type": "code",
      "metadata": {
        "id": "92UBi07hcFjA",
        "colab_type": "code",
        "colab": {}
      },
      "source": [
        "# Vectors that form a basis are linearly independent of eachother"
      ],
      "execution_count": 0,
      "outputs": []
    },
    {
      "cell_type": "markdown",
      "metadata": {
        "id": "EHmUxbcY6vD3",
        "colab_type": "text"
      },
      "source": [
        "# Rank"
      ]
    },
    {
      "cell_type": "markdown",
      "metadata": {
        "id": "IpJwt9kw6v8U",
        "colab_type": "text"
      },
      "source": [
        "## 7.1 What is the Rank of P?\n",
        "\n",
        "\\begin{align}\n",
        "P = \\begin{bmatrix} \n",
        "1 & 2 & 3 \\\\\n",
        " -1 & 0 & 7 \\\\\n",
        "4 & 8  & 2\n",
        "\\end{bmatrix}\n",
        "\\end{align}"
      ]
    },
    {
      "cell_type": "code",
      "metadata": {
        "id": "_q4upxFXcawE",
        "colab_type": "code",
        "colab": {}
      },
      "source": [
        "# The span/rank is ℝ3, P can cover all areas of 3 dimensional space"
      ],
      "execution_count": 0,
      "outputs": []
    },
    {
      "cell_type": "markdown",
      "metadata": {
        "id": "jGqFMBYY7mHD",
        "colab_type": "text"
      },
      "source": [
        "## 7.2 What does the rank of a matrix tell us?"
      ]
    },
    {
      "cell_type": "code",
      "metadata": {
        "id": "dPHCSZSNc15o",
        "colab_type": "code",
        "colab": {}
      },
      "source": [
        "# The rank lets us know which dimensions the vectors can exist in.\n",
        "# And we can tell that by the number of independence of the vectors\n",
        "# within a matrix"
      ],
      "execution_count": 0,
      "outputs": []
    },
    {
      "cell_type": "markdown",
      "metadata": {
        "id": "0Db2sc_V8QD6",
        "colab_type": "text"
      },
      "source": [
        "# Linear Projections\n",
        "\n",
        "## 8.1 Line $L$ is formed by all of the vectors that can be created by scaling vector $v$ \n",
        "\\begin{align}\n",
        "v = \\begin{bmatrix} 1 & 3 \\end{bmatrix}\n",
        "\\end{align}\n",
        "\n",
        "\\begin{align}\n",
        "w = \\begin{bmatrix} -1 & 2 \\end{bmatrix}\n",
        "\\end{align}\n",
        "\n",
        "## find $proj_{L}(w)$\n",
        "\n",
        "## graph your projected vector to check your work (make sure your axis are square/even)"
      ]
    },
    {
      "cell_type": "code",
      "metadata": {
        "id": "hp5z2WTBCNKx",
        "colab_type": "code",
        "colab": {}
      },
      "source": [
        ""
      ],
      "execution_count": 0,
      "outputs": []
    },
    {
      "cell_type": "markdown",
      "metadata": {
        "id": "TKkrPwRM-Oar",
        "colab_type": "text"
      },
      "source": [
        "# Stretch Goal\n",
        "\n",
        "## For vectors that begin at the origin, the coordinates of where the vector ends can be interpreted as regular data points. (See 3Blue1Brown videos about Spans, Basis, etc.)\n",
        "\n",
        "## Write a function that can calculate the linear projection of each point (x,y) (vector) onto the line y=x. run the function and plot the original points in blue and the new projected points on the line y=x in red. \n",
        "\n",
        "## For extra points plot the orthogonal vectors as a dashed line from the original blue points to the projected red points."
      ]
    },
    {
      "cell_type": "code",
      "metadata": {
        "id": "cp52kZra-ykj",
        "colab_type": "code",
        "colab": {
          "base_uri": "https://localhost:8080/",
          "height": 265
        },
        "outputId": "673cd7b3-9436-4a2b-896b-39e6bd3f5859"
      },
      "source": [
        "import pandas as pd\n",
        "import matplotlib.pyplot as plt\n",
        "\n",
        "# Creating a dataframe for you to work with -Feel free to not use the dataframe if you don't want to.\n",
        "x_values = [1, 4, 7, 3, 9, 4, 5 ]\n",
        "y_values = [4, 2, 5, 0, 8, 2, 8]\n",
        "\n",
        "data = {\"x\": x_values, \"y\": y_values}\n",
        "\n",
        "df = pd.DataFrame(data)\n",
        "\n",
        "df.head()\n",
        "\n",
        "plt.scatter(df.x, df.y)\n",
        "plt.show()"
      ],
      "execution_count": 19,
      "outputs": [
        {
          "output_type": "display_data",
          "data": {
            "image/png": "[encoded data removed]",
            "text/plain": [
              "<Figure size 432x288 with 1 Axes>"
            ]
          },
          "metadata": {
            "tags": []
          }
        }
      ]
    },
    {
      "cell_type": "code",
      "metadata": {
        "id": "EZTA6Tj6BGDb",
        "colab_type": "code",
        "colab": {}
      },
      "source": [
        ""
      ],
      "execution_count": 0,
      "outputs": []
    }
  ]
}