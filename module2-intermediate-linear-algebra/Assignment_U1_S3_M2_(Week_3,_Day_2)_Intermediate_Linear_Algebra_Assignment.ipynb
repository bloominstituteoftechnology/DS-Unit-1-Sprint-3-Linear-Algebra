{
  "nbformat": 4,
  "nbformat_minor": 0,
  "metadata": {
    "colab": {
      "name": "Assignment - U1-S3-M2 (Week 3, Day 2) - Intermediate_Linear_Algebra_Assignment.ipynb",
      "provenance": [],
      "collapsed_sections": [],
      "include_colab_link": true
    },
    "kernelspec": {
      "name": "python3",
      "display_name": "Python 3"
    }
  },
  "cells": [
    {
      "cell_type": "markdown",
      "metadata": {
        "id": "view-in-github",
        "colab_type": "text"
      },
      "source": [
        "<a href=\"https://colab.research.google.com/github/chrishuskey/DS-Unit-1-Sprint-3-Linear-Algebra/blob/master/module2-intermediate-linear-algebra/Assignment_U1_S3_M2_(Week_3%2C_Day_2)_Intermediate_Linear_Algebra_Assignment.ipynb\" target=\"_parent\"><img src=\"https://colab.research.google.com/assets/colab-badge.svg\" alt=\"Open In Colab\"/></a>"
      ]
    },
    {
      "cell_type": "markdown",
      "metadata": {
        "id": "GSNiYn8lr6nN",
        "colab_type": "text"
      },
      "source": [
        "# Statistics"
      ]
    },
    {
      "cell_type": "code",
      "metadata": {
        "id": "3McsmyTThSCn",
        "colab_type": "code",
        "colab": {}
      },
      "source": [
        "# Import libraries used in this notebook:\n",
        "from math import sqrt\n",
        "import numpy as np\n",
        "import pandas as pd\n",
        "import matplotlib.pyplot as plt"
      ],
      "execution_count": 0,
      "outputs": []
    },
    {
      "cell_type": "markdown",
      "metadata": {
        "id": "3d4izUhQvh2_",
        "colab_type": "text"
      },
      "source": [
        "## 1.1 Sales for the past week was the following amounts: [3505, 2400, 3027, 2798, 3700, 3250, 2689]. Without using library functions, what is the mean, variance, and standard deviation of of sales from last week? (for extra bonus points, write your own function that can calculate these two values for any sized list)"
      ]
    },
    {
      "cell_type": "code",
      "metadata": {
        "id": "p1jM1t79hlbY",
        "colab_type": "code",
        "colab": {}
      },
      "source": [
        "def mean_custom(numbers):\n",
        "  return sum(numbers) / len(numbers)"
      ],
      "execution_count": 0,
      "outputs": []
    },
    {
      "cell_type": "code",
      "metadata": {
        "id": "FuqkrUyThlUh",
        "colab_type": "code",
        "colab": {}
      },
      "source": [
        "def variance_custom(numbers, dof=1):\n",
        "  numbers = np.array(numbers, dtype='float')\n",
        "  if dof == 1:\n",
        "    # Return sample variance:\n",
        "    return np.var(numbers, ddof=1)  # [?? To do: Replace with custom function ??]\n",
        "  elif dof == 0:\n",
        "    # Return population variance:\n",
        "    return np.var(numbers, ddof=0)  # [?? To do: Replace with custom function ??]\n",
        "  else:\n",
        "    return None"
      ],
      "execution_count": 0,
      "outputs": []
    },
    {
      "cell_type": "code",
      "metadata": {
        "id": "MAAcrz_Khu9t",
        "colab_type": "code",
        "colab": {}
      },
      "source": [
        "def std_dev_custom (numbers, dof=1):\n",
        "  if dof == 1:\n",
        "    # Return sample standard deviation:\n",
        "    return sqrt(variance_custom(numbers, dof=1))\n",
        "  elif dof == 0:\n",
        "    # Return population std. dev.:\n",
        "    return sqrt(variance_custom(numbers, dof=0))\n",
        "  else:\n",
        "    return None"
      ],
      "execution_count": 0,
      "outputs": []
    },
    {
      "cell_type": "code",
      "metadata": {
        "id": "W8AntBRVqFlg",
        "colab_type": "code",
        "colab": {
          "base_uri": "https://localhost:8080/",
          "height": 119
        },
        "outputId": "828f6138-ad05-4465-f873-3449e435699b"
      },
      "source": [
        "# Get and print sales summary stats for last week:\n",
        "sales = np.array([3505, 2400, 3027, 2798, 3700, 3250, 2689])\n",
        "\n",
        "print('Sales Last Week:\\n')\n",
        "print('Total: $', np.sum(sales))\n",
        "print('Mean: $', round(mean_custom(sales), 2))\n",
        "print('Variance:', round(variance_custom(sales, dof=1), 2), '(in US$^2)')\n",
        "print('Standard deviation: $', round(std_dev_custom(sales, dof=1), 2))\n",
        "\n",
        "# Check answers:\n",
        "assert mean_custom(sales) == np.mean(sales)\n",
        "assert variance_custom(sales, dof=1) == np.var(sales, ddof=1)\n",
        "assert std_dev_custom(sales, dof=1) == np.std(sales, ddof=1)"
      ],
      "execution_count": 107,
      "outputs": [
        {
          "output_type": "stream",
          "text": [
            "Sales Last Week:\n",
            "\n",
            "Total: $ 21369\n",
            "Mean: $ 3052.71\n",
            "Variance: 214387.9 (in US$^2)\n",
            "Standard deviation: $ 463.02\n"
          ],
          "name": "stdout"
        }
      ]
    },
    {
      "cell_type": "markdown",
      "metadata": {
        "id": "oh63KaOctEp_",
        "colab_type": "text"
      },
      "source": [
        "## 1.2 Find the covariance between last week's sales numbers and the number of customers that entered the store last week: [127, 80, 105, 92, 120, 115, 93] (you may use library functions for calculating the covariance since we didn't specifically talk about its formula)"
      ]
    },
    {
      "cell_type": "code",
      "metadata": {
        "id": "G7ZB0krot564",
        "colab_type": "code",
        "colab": {}
      },
      "source": [
        "customers = np.array([127, 80, 105, 92, 120, 115, 93])"
      ],
      "execution_count": 0,
      "outputs": []
    },
    {
      "cell_type": "code",
      "metadata": {
        "id": "ubg7n15GsNq5",
        "colab_type": "code",
        "colab": {
          "base_uri": "https://localhost:8080/",
          "height": 85
        },
        "outputId": "bfa7c842-360d-49be-a6b8-50fb31f66c1c"
      },
      "source": [
        "# Make Pandas dataframe with our sales and customers data:\n",
        "sales_df = pd.DataFrame(sales, columns=['sales'])\n",
        "sales_df['customers'] = customers  \n",
        "# [?? There must be a way to do the above in 1 line instead of 2, while still starting with numpy arrays?  But can't figure it out bc of numpy transpose issue (except rewriting [] around every data point by hand to make it a column array, which doesn't scale...)... ??]\n",
        "\n",
        "# Find covariance and correlation coefficient:\n",
        "covar_matrix = sales_df.cov()  # Get covariance matrix\n",
        "corr_matrix = sales_df.corr()  # Get matrix with correlation coefficient\n",
        "\n",
        "# Print answer:\n",
        "print(\"Last Week: # of Customers in Our Physical Stores <-> Total Sales Revenue:\\n\")\n",
        "print(\"Correlation: r =\", round(corr_matrix.loc['sales', 'customers'], 2))\n",
        "print(\"Covariance:\", round(covar_matrix.loc['sales', 'customers'], 2))"
      ],
      "execution_count": 148,
      "outputs": [
        {
          "output_type": "stream",
          "text": [
            "Last Week: # of Customers in Our Physical Stores <-> Total Sales Revenue:\n",
            "\n",
            "Correlation: r = 0.96\n",
            "Covariance: 7604.36\n"
          ],
          "name": "stdout"
        }
      ]
    },
    {
      "cell_type": "code",
      "metadata": {
        "id": "c50BptL95NkN",
        "colab_type": "code",
        "colab": {
          "base_uri": "https://localhost:8080/",
          "height": 51
        },
        "outputId": "870acdab-a9cc-40bd-fd35-78e503ba6323"
      },
      "source": [
        "# By hand:  Calculate covariance of sales and # customers manually, and \n",
        "# compare to pandas result from above:\n",
        "covar_by_hand = sales_df.copy()\n",
        "covar_by_hand['sales_diff'] = covar_by_hand['sales'] - covar_by_hand['sales'].mean()\n",
        "covar_by_hand['cust_diff'] = covar_by_hand['customers'] - covar_by_hand['customers'].mean()\n",
        "covar_by_hand['multiplied'] = covar_by_hand['sales_diff'] * covar_by_hand['cust_diff']\n",
        "\n",
        "covar_manual = covar_by_hand['multiplied'].sum() / (len(covar_by_hand) - 1)\n",
        "print('Covariance (calculated manually):\\n r = ', round(covar_manual, 2))\n",
        "\n",
        "# Check answer:\n",
        "assert round(covar_manual, 10) == round(covar_matrix.loc['sales', 'customers'], 10)"
      ],
      "execution_count": 151,
      "outputs": [
        {
          "output_type": "stream",
          "text": [
            "Covariance (calculated manually):\n",
            " r =  7604.36\n"
          ],
          "name": "stdout"
        }
      ]
    },
    {
      "cell_type": "markdown",
      "metadata": {
        "id": "J9SbUY9mt66I",
        "colab_type": "text"
      },
      "source": [
        "## 1.3 Find the standard deviation of customers who entered the store last week. Then, use the standard deviations of both sales and customers to standardize the covariance to find the correlation coefficient that summarizes the relationship between sales and customers. (You may use library functions to check your work.)"
      ]
    },
    {
      "cell_type": "code",
      "metadata": {
        "id": "vFJms2YRrKhY",
        "colab_type": "code",
        "colab": {
          "base_uri": "https://localhost:8080/",
          "height": 51
        },
        "outputId": "8ce117ce-3f46-48a3-b8a6-bb8be4b6722a"
      },
      "source": [
        "sales_std_dev = np.std(sales, ddof=1)\n",
        "customers_std_dev = np.std(customers, ddof=1)\n",
        "print('Standard deviation in # of offline/physical customers per day:\\n', \n",
        "        round(customers_std_dev, 2), 'customers')"
      ],
      "execution_count": 152,
      "outputs": [
        {
          "output_type": "stream",
          "text": [
            "Standard deviation in # of offline/physical customers per day:\n",
            " 17.06 customers\n"
          ],
          "name": "stdout"
        }
      ]
    },
    {
      "cell_type": "code",
      "metadata": {
        "id": "WUT1rDxA2zGT",
        "colab_type": "code",
        "colab": {
          "base_uri": "https://localhost:8080/",
          "height": 51
        },
        "outputId": "f324ac1e-595d-40c6-e4ba-25be5b8f3462"
      },
      "source": [
        "# Calculate the correlation coefficient r manually, and compare with comp. calc. from above:\n",
        "corr_manual = covar_matrix.loc['sales', 'customers'] / (sales_std_dev * customers_std_dev)\n",
        "print('Correlation between # of physical/offline customers and total sales revenue:\\n r = ', \n",
        "        round(corr_manual, 2))\n",
        "\n",
        "# Check answer vs. comp. calc in 1.2 above:\n",
        "assert round(corr_manual, 10) == round(corr_matrix.loc['sales', 'customers'], 10)"
      ],
      "execution_count": 154,
      "outputs": [
        {
          "output_type": "stream",
          "text": [
            "Correlation between # of physical/offline customers and total sales revenue:\n",
            " r =  0.96\n"
          ],
          "name": "stdout"
        }
      ]
    },
    {
      "cell_type": "markdown",
      "metadata": {
        "id": "IbZVf7nmujPJ",
        "colab_type": "text"
      },
      "source": [
        "## 1.4 Use pandas to import a cleaned version of the titanic dataset from the following link: [Titanic Dataset](https://raw.githubusercontent.com/Geoyi/Cleaning-Titanic-Data/master/titanic_clean.csv)\n",
        "\n",
        "## Calculate the variance-covariance matrix and correlation matrix for the titanic dataset's numeric columns. (you can encode some of the categorical variables and include them as a stretch goal if you finish early)"
      ]
    },
    {
      "cell_type": "code",
      "metadata": {
        "id": "0TWgUIiaCFzq",
        "colab_type": "code",
        "colab": {}
      },
      "source": [
        "# Import the Titanic dataset and create a Pandas dataframe with the data:\n",
        "titanic_df = pd.read_csv('https://raw.githubusercontent.com/Geoyi/Cleaning-Titanic-Data/master/titanic_clean.csv', \n",
        "                            index_col=0)"
      ],
      "execution_count": 0,
      "outputs": []
    },
    {
      "cell_type": "code",
      "metadata": {
        "id": "Tv2yAKFYCSvm",
        "colab_type": "code",
        "colab": {}
      },
      "source": [
        "# Data prep.:\n",
        "\n",
        "# Add 0/1 numerical column for gender (categorical data), so we can work with it:\n",
        "titanic_df['is_female'] = titanic_df['sex'].replace({'female': 1, 'male': 0})  # Q:  Why do boolean values work with pd.corr(), but make pd.cov() fail (return an error)?  e.g., if I use titanic_df['is_female'] = titanic_df['sex'] == 'female' instead of replacing with 0/1 in this line --> titanic_df.cov() fails, while .corr() still works. ??]\n",
        "\n",
        "# Drop columns that are both irrelevant and have a ton (>40%) of missing (NaN) \n",
        "# values, because we don't need them for this exercise:\n",
        "titanic_df = titanic_df.drop(columns=['cabin', 'boat', 'body', 'home.dest'])\n",
        "\n",
        "# Many of the other columns have 1-2 NaN values (out of 1310 rows), so let's \n",
        "# just drop those few rows completely:\n",
        "titanic_df = titanic_df.dropna()"
      ],
      "execution_count": 0,
      "outputs": []
    },
    {
      "cell_type": "code",
      "metadata": {
        "id": "sMp-zVKd_VAz",
        "colab_type": "code",
        "colab": {
          "base_uri": "https://localhost:8080/",
          "height": 297
        },
        "outputId": "ba0765bc-0ee1-4bf4-92fd-fc516be35f72"
      },
      "source": [
        "# Covariance matrix for numerical columns (all except name, sex, ticket, embarked):\n",
        "cov_matrix_2 = titanic_df.cov()\n",
        "cov_matrix_2"
      ],
      "execution_count": 226,
      "outputs": [
        {
          "output_type": "execute_result",
          "data": {
            "text/html": [
              "<div>\n",
              "<style scoped>\n",
              "    .dataframe tbody tr th:only-of-type {\n",
              "        vertical-align: middle;\n",
              "    }\n",
              "\n",
              "    .dataframe tbody tr th {\n",
              "        vertical-align: top;\n",
              "    }\n",
              "\n",
              "    .dataframe thead th {\n",
              "        text-align: right;\n",
              "    }\n",
              "</style>\n",
              "<table border=\"1\" class=\"dataframe\">\n",
              "  <thead>\n",
              "    <tr style=\"text-align: right;\">\n",
              "      <th></th>\n",
              "      <th>pclass</th>\n",
              "      <th>survived</th>\n",
              "      <th>age</th>\n",
              "      <th>sibsp</th>\n",
              "      <th>parch</th>\n",
              "      <th>fare</th>\n",
              "      <th>has_cabin_number</th>\n",
              "      <th>is_female</th>\n",
              "    </tr>\n",
              "  </thead>\n",
              "  <tbody>\n",
              "    <tr>\n",
              "      <th>pclass</th>\n",
              "      <td>0.702126</td>\n",
              "      <td>-0.127139</td>\n",
              "      <td>-3.974162</td>\n",
              "      <td>0.053400</td>\n",
              "      <td>0.013505</td>\n",
              "      <td>-24.227788</td>\n",
              "      <td>-0.250062</td>\n",
              "      <td>-0.049857</td>\n",
              "    </tr>\n",
              "    <tr>\n",
              "      <th>survived</th>\n",
              "      <td>-0.127139</td>\n",
              "      <td>0.236319</td>\n",
              "      <td>-0.305629</td>\n",
              "      <td>-0.014245</td>\n",
              "      <td>0.034690</td>\n",
              "      <td>6.146023</td>\n",
              "      <td>0.061387</td>\n",
              "      <td>0.123080</td>\n",
              "    </tr>\n",
              "    <tr>\n",
              "      <th>age</th>\n",
              "      <td>-3.974162</td>\n",
              "      <td>-0.305629</td>\n",
              "      <td>165.385957</td>\n",
              "      <td>-2.550069</td>\n",
              "      <td>-1.451467</td>\n",
              "      <td>114.416613</td>\n",
              "      <td>1.470661</td>\n",
              "      <td>-0.346127</td>\n",
              "    </tr>\n",
              "    <tr>\n",
              "      <th>sibsp</th>\n",
              "      <td>0.053400</td>\n",
              "      <td>-0.014245</td>\n",
              "      <td>-2.550069</td>\n",
              "      <td>1.085692</td>\n",
              "      <td>0.336944</td>\n",
              "      <td>8.641768</td>\n",
              "      <td>-0.004036</td>\n",
              "      <td>0.054595</td>\n",
              "    </tr>\n",
              "    <tr>\n",
              "      <th>parch</th>\n",
              "      <td>0.013505</td>\n",
              "      <td>0.034690</td>\n",
              "      <td>-1.451467</td>\n",
              "      <td>0.336944</td>\n",
              "      <td>0.749654</td>\n",
              "      <td>9.928031</td>\n",
              "      <td>0.013260</td>\n",
              "      <td>0.088325</td>\n",
              "    </tr>\n",
              "    <tr>\n",
              "      <th>fare</th>\n",
              "      <td>-24.227788</td>\n",
              "      <td>6.146023</td>\n",
              "      <td>114.416613</td>\n",
              "      <td>8.641768</td>\n",
              "      <td>9.928031</td>\n",
              "      <td>2678.959738</td>\n",
              "      <td>10.976961</td>\n",
              "      <td>4.600321</td>\n",
              "    </tr>\n",
              "    <tr>\n",
              "      <th>has_cabin_number</th>\n",
              "      <td>-0.250062</td>\n",
              "      <td>0.061387</td>\n",
              "      <td>1.470661</td>\n",
              "      <td>-0.004036</td>\n",
              "      <td>0.013260</td>\n",
              "      <td>10.976961</td>\n",
              "      <td>0.174803</td>\n",
              "      <td>0.027468</td>\n",
              "    </tr>\n",
              "    <tr>\n",
              "      <th>is_female</th>\n",
              "      <td>-0.049857</td>\n",
              "      <td>0.123080</td>\n",
              "      <td>-0.346127</td>\n",
              "      <td>0.054595</td>\n",
              "      <td>0.088325</td>\n",
              "      <td>4.600321</td>\n",
              "      <td>0.027468</td>\n",
              "      <td>0.229517</td>\n",
              "    </tr>\n",
              "  </tbody>\n",
              "</table>\n",
              "</div>"
            ],
            "text/plain": [
              "                     pclass  survived  ...  has_cabin_number  is_female\n",
              "pclass             0.702126 -0.127139  ...         -0.250062  -0.049857\n",
              "survived          -0.127139  0.236319  ...          0.061387   0.123080\n",
              "age               -3.974162 -0.305629  ...          1.470661  -0.346127\n",
              "sibsp              0.053400 -0.014245  ...         -0.004036   0.054595\n",
              "parch              0.013505  0.034690  ...          0.013260   0.088325\n",
              "fare             -24.227788  6.146023  ...         10.976961   4.600321\n",
              "has_cabin_number  -0.250062  0.061387  ...          0.174803   0.027468\n",
              "is_female         -0.049857  0.123080  ...          0.027468   0.229517\n",
              "\n",
              "[8 rows x 8 columns]"
            ]
          },
          "metadata": {
            "tags": []
          },
          "execution_count": 226
        }
      ]
    },
    {
      "cell_type": "code",
      "metadata": {
        "id": "q5_Q3IRdDMqf",
        "colab_type": "code",
        "colab": {
          "base_uri": "https://localhost:8080/",
          "height": 297
        },
        "outputId": "c96b59a6-5a0d-4d76-bf63-055a6dfc716b"
      },
      "source": [
        "# Correlation coefficients matrix for numerical columns:\n",
        "corr_matrix_2 = titanic_df.corr()\n",
        "corr_matrix_2"
      ],
      "execution_count": 227,
      "outputs": [
        {
          "output_type": "execute_result",
          "data": {
            "text/html": [
              "<div>\n",
              "<style scoped>\n",
              "    .dataframe tbody tr th:only-of-type {\n",
              "        vertical-align: middle;\n",
              "    }\n",
              "\n",
              "    .dataframe tbody tr th {\n",
              "        vertical-align: top;\n",
              "    }\n",
              "\n",
              "    .dataframe thead th {\n",
              "        text-align: right;\n",
              "    }\n",
              "</style>\n",
              "<table border=\"1\" class=\"dataframe\">\n",
              "  <thead>\n",
              "    <tr style=\"text-align: right;\">\n",
              "      <th></th>\n",
              "      <th>pclass</th>\n",
              "      <th>survived</th>\n",
              "      <th>age</th>\n",
              "      <th>sibsp</th>\n",
              "      <th>parch</th>\n",
              "      <th>fare</th>\n",
              "      <th>has_cabin_number</th>\n",
              "      <th>is_female</th>\n",
              "    </tr>\n",
              "  </thead>\n",
              "  <tbody>\n",
              "    <tr>\n",
              "      <th>pclass</th>\n",
              "      <td>1.000000</td>\n",
              "      <td>-0.312122</td>\n",
              "      <td>-0.368798</td>\n",
              "      <td>0.061162</td>\n",
              "      <td>0.018615</td>\n",
              "      <td>-0.558629</td>\n",
              "      <td>-0.713783</td>\n",
              "      <td>-0.124198</td>\n",
              "    </tr>\n",
              "    <tr>\n",
              "      <th>survived</th>\n",
              "      <td>-0.312122</td>\n",
              "      <td>1.000000</td>\n",
              "      <td>-0.048887</td>\n",
              "      <td>-0.028122</td>\n",
              "      <td>0.082418</td>\n",
              "      <td>0.244265</td>\n",
              "      <td>0.302031</td>\n",
              "      <td>0.528483</td>\n",
              "    </tr>\n",
              "    <tr>\n",
              "      <th>age</th>\n",
              "      <td>-0.368798</td>\n",
              "      <td>-0.048887</td>\n",
              "      <td>1.000000</td>\n",
              "      <td>-0.190305</td>\n",
              "      <td>-0.130355</td>\n",
              "      <td>0.171892</td>\n",
              "      <td>0.273520</td>\n",
              "      <td>-0.056180</td>\n",
              "    </tr>\n",
              "    <tr>\n",
              "      <th>sibsp</th>\n",
              "      <td>0.061162</td>\n",
              "      <td>-0.028122</td>\n",
              "      <td>-0.190305</td>\n",
              "      <td>1.000000</td>\n",
              "      <td>0.373485</td>\n",
              "      <td>0.160238</td>\n",
              "      <td>-0.009264</td>\n",
              "      <td>0.109369</td>\n",
              "    </tr>\n",
              "    <tr>\n",
              "      <th>parch</th>\n",
              "      <td>0.018615</td>\n",
              "      <td>0.082418</td>\n",
              "      <td>-0.130355</td>\n",
              "      <td>0.373485</td>\n",
              "      <td>1.000000</td>\n",
              "      <td>0.221539</td>\n",
              "      <td>0.036629</td>\n",
              "      <td>0.212934</td>\n",
              "    </tr>\n",
              "    <tr>\n",
              "      <th>fare</th>\n",
              "      <td>-0.558629</td>\n",
              "      <td>0.244265</td>\n",
              "      <td>0.171892</td>\n",
              "      <td>0.160238</td>\n",
              "      <td>0.221539</td>\n",
              "      <td>1.000000</td>\n",
              "      <td>0.507253</td>\n",
              "      <td>0.185523</td>\n",
              "    </tr>\n",
              "    <tr>\n",
              "      <th>has_cabin_number</th>\n",
              "      <td>-0.713783</td>\n",
              "      <td>0.302031</td>\n",
              "      <td>0.273520</td>\n",
              "      <td>-0.009264</td>\n",
              "      <td>0.036629</td>\n",
              "      <td>0.507253</td>\n",
              "      <td>1.000000</td>\n",
              "      <td>0.137134</td>\n",
              "    </tr>\n",
              "    <tr>\n",
              "      <th>is_female</th>\n",
              "      <td>-0.124198</td>\n",
              "      <td>0.528483</td>\n",
              "      <td>-0.056180</td>\n",
              "      <td>0.109369</td>\n",
              "      <td>0.212934</td>\n",
              "      <td>0.185523</td>\n",
              "      <td>0.137134</td>\n",
              "      <td>1.000000</td>\n",
              "    </tr>\n",
              "  </tbody>\n",
              "</table>\n",
              "</div>"
            ],
            "text/plain": [
              "                    pclass  survived  ...  has_cabin_number  is_female\n",
              "pclass            1.000000 -0.312122  ...         -0.713783  -0.124198\n",
              "survived         -0.312122  1.000000  ...          0.302031   0.528483\n",
              "age              -0.368798 -0.048887  ...          0.273520  -0.056180\n",
              "sibsp             0.061162 -0.028122  ...         -0.009264   0.109369\n",
              "parch             0.018615  0.082418  ...          0.036629   0.212934\n",
              "fare             -0.558629  0.244265  ...          0.507253   0.185523\n",
              "has_cabin_number -0.713783  0.302031  ...          1.000000   0.137134\n",
              "is_female        -0.124198  0.528483  ...          0.137134   1.000000\n",
              "\n",
              "[8 rows x 8 columns]"
            ]
          },
          "metadata": {
            "tags": []
          },
          "execution_count": 227
        }
      ]
    },
    {
      "cell_type": "markdown",
      "metadata": {
        "id": "7K0Xfh8MvYkl",
        "colab_type": "text"
      },
      "source": [
        "# Orthogonality"
      ]
    },
    {
      "cell_type": "markdown",
      "metadata": {
        "id": "Pe3eOZ2fvdZ-",
        "colab_type": "text"
      },
      "source": [
        "## 2.1 Plot two vectors that are orthogonal to each other. What is a synonym for orthogonal?"
      ]
    },
    {
      "cell_type": "code",
      "metadata": {
        "id": "YLSBk7hJvvCx",
        "colab_type": "code",
        "colab": {
          "base_uri": "https://localhost:8080/",
          "height": 248
        },
        "outputId": "acca8182-27f1-4b41-b7a1-8ffc310df0ac"
      },
      "source": [
        "# Find orthogonal vectors:  If we pick v1 = [7, 9, 6] and v2 = [-5, -8, x] \n",
        "# (numbers in different directions that should show better on graph), then to \n",
        "# get v1 · v2 = 0 (--> orthogonal vectors), v2  must = [-5, -8, 107/6].\n",
        "v1 = np.array([7, 9, 6])\n",
        "v2 = np.array([-5, -8, 107/6])\n",
        "\n",
        "# Plot them so we can see:\n",
        "from mpl_toolkits.mplot3d import Axes3D\n",
        "\n",
        "fig = plt.figure()\n",
        "ax = plt.subplot(1, 1, 1, projection='3d')\n",
        "ax.quiver(0, 0, 0, v1[0], v1[1], v1[2], color='navy')\n",
        "ax.quiver(0, 0, 0, v2[0], v2[1], v2[2], color='steelblue')\n",
        "ax.set_title('Two Orthogonal Vectors')\n",
        "ax.set_xlim(-10, 10)\n",
        "ax.set_ylim(-10, 10)\n",
        "ax.set_zlim(0, 20)\n",
        "ax.set_xlabel('x')\n",
        "ax.set_ylabel('y')\n",
        "ax.set_zlabel('z')\n",
        "plt.show()\n",
        "\n",
        "# Check (visual):  Yup, these look like they could be orthogonal vectors!\n",
        "\n",
        "# Answer:  Orthogonal means \"perpendicular\" in however many dimensions the \n",
        "# vectors span (i.e., not necessarily in 2D -- the vectors could form a right \n",
        "# angle in 3D or more D only, but might not in 2D if squished to projections in 2D.)"
      ],
      "execution_count": 315,
      "outputs": [
        {
          "output_type": "display_data",
          "data": {
            "image/png": "[encoded data removed]",
            "text/plain": [
              "<Figure size 432x288 with 1 Axes>"
            ]
          },
          "metadata": {
            "tags": []
          }
        }
      ]
    },
    {
      "cell_type": "markdown",
      "metadata": {
        "id": "7AS4V1Nhvvxz",
        "colab_type": "text"
      },
      "source": [
        "## 2.2 Are the following vectors orthogonal? Why or why not?\n",
        "\n",
        "\\begin{align}\n",
        "a = \\begin{bmatrix} -5 \\\\ 3 \\\\ 7 \\end{bmatrix}\n",
        "\\qquad\n",
        "b = \\begin{bmatrix} 6 \\\\ -8 \\\\ 2 \\end{bmatrix}\n",
        "\\end{align}"
      ]
    },
    {
      "cell_type": "code",
      "metadata": {
        "id": "F_-y54YSz47k",
        "colab_type": "code",
        "colab": {
          "base_uri": "https://localhost:8080/",
          "height": 51
        },
        "outputId": "bd0f7107-9fe3-464a-e084-1417d9864e3d"
      },
      "source": [
        "v3 = np.array([-5, 3, 7])\n",
        "v4 = np.array([6, -8, 2])\n",
        "\n",
        "# If v3 · v4 = 0, which would be true if these two vectors are orthogonal.\n",
        "\n",
        "# Answer:  No, these two vectors are not orthogonal, because their dot product \n",
        "# is (-30 -24 + 14) = -40, not 0.  Two vectors are orthogonal <- IFF -> (if and \n",
        "# only if) their dot product is zero.\n",
        "print('No, these two vectors are not orthogonal, because:\\n v3 · v4 =', \n",
        "        np.dot(v3, v4), ', not zero.')"
      ],
      "execution_count": 252,
      "outputs": [
        {
          "output_type": "stream",
          "text": [
            "No, these two vectors are not orthogonal, because:\n",
            " v3 · v4 = -40 , not zero.\n"
          ],
          "name": "stdout"
        }
      ]
    },
    {
      "cell_type": "markdown",
      "metadata": {
        "id": "MiNjyqiEz5SG",
        "colab_type": "text"
      },
      "source": [
        "## 2.3 Compute the following values: What do these quantities have in common?\n",
        "\n",
        "## What is $||c||^2$? \n",
        "\n",
        "## What is $c \\cdot c$? \n",
        "\n",
        "## What is $c^{T}c$?\n",
        "\n",
        "\\begin{align}\n",
        "c = \\begin{bmatrix} 2 & -15 & 6 & 20 \\end{bmatrix}\n",
        "\\end{align}"
      ]
    },
    {
      "cell_type": "code",
      "metadata": {
        "id": "IlV_uaYK1EQB",
        "colab_type": "code",
        "colab": {
          "base_uri": "https://localhost:8080/",
          "height": 255
        },
        "outputId": "bd363782-6dc5-452a-ce23-0b3a8baa7142"
      },
      "source": [
        "# By hand:\n",
        "# Answer:  The above 3 are all equal.  ||v||^2 = v · v (the dot product of a \n",
        "# vector with itself equals its norm squared), and the product of a vector and \n",
        "# itself transposed into a column vector is by definition the same as the dot \n",
        "# product of that vector with itself (different ways of saying the same thing). \n",
        "# So the answers to the 2.3(i), 2.3(ii) and 2.3(iii) are the same: 665.  \n",
        "# (Calc: = 2*2 + -15*-15 + 6*6 + 20*20)\n",
        "c1 = np.array([2, -15, 6, 20])\n",
        "c1_T = np.array([[2], [-15], [6], [20]])\n",
        "\n",
        "# By computer (NumPy):\n",
        "# Check that manual calcs above are true:  Yes, they are (no error returned).\n",
        "assert np.dot(c1, c1) == np.linalg.norm(c1)**2 == np.matmul(c1, c1_T)[0] == np.matmul(c1, c1.transpose())\n",
        "\n",
        "# Print answers:\n",
        "print('What is ||c||^2?\\n')\n",
        "print(np.dot(c1, c1))\n",
        "\n",
        "print('\\nWhat is c · c?\\n')\n",
        "print(int(np.linalg.norm(c1)**2))\n",
        "\n",
        "print('\\nWhat is c_T(C)?\\n')\n",
        "print(np.matmul(c1, c1_T)[0])\n",
        "\n",
        "print('\\nCheck:  The above are all the same:')\n",
        "print(np.dot(c1, c1) == np.linalg.norm(c1)**2 == np.matmul(c1, c1_T)[0] == np.matmul(c1, c1.transpose()))"
      ],
      "execution_count": 288,
      "outputs": [
        {
          "output_type": "stream",
          "text": [
            "What is ||c||^2?\n",
            "\n",
            "665\n",
            "\n",
            "What is c · c?\n",
            "\n",
            "665\n",
            "\n",
            "What is c_T(C)?\n",
            "\n",
            "665\n",
            "\n",
            "Check:  The above are all the same:\n",
            "True\n"
          ],
          "name": "stdout"
        }
      ]
    },
    {
      "cell_type": "markdown",
      "metadata": {
        "id": "MK_TpWqk1Evk",
        "colab_type": "text"
      },
      "source": [
        "# Unit Vectors"
      ]
    },
    {
      "cell_type": "markdown",
      "metadata": {
        "id": "Kpit6WWO1b8l",
        "colab_type": "text"
      },
      "source": [
        "## 3.1 Using Latex, write the following vectors as a linear combination of scalars and unit vectors:\n",
        "\n",
        "\\begin{align}\n",
        "d = \\begin{bmatrix} 7 \\\\ 12 \\end{bmatrix}\n",
        "\\qquad\n",
        "e = \\begin{bmatrix} 2 \\\\ 11 \\\\ -8  \\end{bmatrix}\n",
        "\\end{align}"
      ]
    },
    {
      "cell_type": "markdown",
      "metadata": {
        "id": "oBCj1sDW2ouC",
        "colab_type": "text"
      },
      "source": [
        "**Answer:**\n",
        "\\begin{align}\n",
        "d = \\begin{bmatrix} 7 \\\\ 12 \\end{bmatrix} = 7 \\begin{bmatrix} 1 \\\\ 0 \\end{bmatrix} + 12 \\begin{bmatrix} 0 \\\\ 1 \\end{bmatrix}\n",
        "\\end{align}\n",
        "\n",
        "\\begin{align}\n",
        "\\newline\n",
        "e = \\begin{bmatrix} 2 \\\\ 11 \\\\ -8 \\end{bmatrix} = 2 \\begin{bmatrix} 1 \\\\ 0 \\\\ 0 \\end{bmatrix} + 11 \\begin{bmatrix} 0 \\\\ 1 \\\\\\ 0 \\end{bmatrix} - 8 \\begin{bmatrix} 0 \\\\ 0 \\\\ 1 \\end{bmatrix}\n",
        "\\end{align}"
      ]
    },
    {
      "cell_type": "markdown",
      "metadata": {
        "id": "dAdUQuep1_yJ",
        "colab_type": "text"
      },
      "source": [
        "## 3.2 Turn vector $f$ into a unit vector:\n",
        "\n",
        "\\begin{align}\n",
        "f = \\begin{bmatrix} 4 & 12 & 11 & 9 & 2 \\end{bmatrix}\n",
        "\\end{align}"
      ]
    },
    {
      "cell_type": "code",
      "metadata": {
        "id": "I3W8ZiHR1_Fa",
        "colab_type": "code",
        "colab": {
          "base_uri": "https://localhost:8080/",
          "height": 51
        },
        "outputId": "0c3995a9-b4d3-4da5-abcd-a197209f75be"
      },
      "source": [
        "# To turn f into a unit vector (of magnitude 1), we divide each of its \n",
        "# components by its magnitude:\n",
        "f1 = np.array([4, 12, 11, 9, 2])\n",
        "f_norm = np.linalg.norm(f1)  # Calc: = sqrt(4**2 + 12**2 + 11**2 + 9**2 + 2**2)\n",
        "f1_unit = f1 / f_norm  # this applies element-wise in NumPy\n",
        "print('Resulting f unit vector:')\n",
        "f1_unit"
      ],
      "execution_count": 310,
      "outputs": [
        {
          "output_type": "stream",
          "text": [
            "Resulting f unit vector:\n"
          ],
          "name": "stdout"
        },
        {
          "output_type": "execute_result",
          "data": {
            "text/plain": [
              "array([0.20908335, 0.62725005, 0.57497921, 0.47043754, 0.10454167])"
            ]
          },
          "metadata": {
            "tags": []
          },
          "execution_count": 310
        }
      ]
    },
    {
      "cell_type": "code",
      "metadata": {
        "id": "noqeatOqKcSi",
        "colab_type": "code",
        "colab": {
          "base_uri": "https://localhost:8080/",
          "height": 51
        },
        "outputId": "a4b328cd-ecca-4920-fcf1-1a607bac1efc"
      },
      "source": [
        "print('Norm of resulting f unit vector:\\n', round(np.linalg.norm(f1_unit), 10))\n",
        "\n",
        "# Check answer:\n",
        "assert 1 == round(np.linalg.norm(f1_unit), 10) == round(f1_unit[0]**2 + f1_unit[1]**2 + f1_unit[2]**2 + f1_unit[3]**2 + f1_unit[4]**2, 10)"
      ],
      "execution_count": 311,
      "outputs": [
        {
          "output_type": "stream",
          "text": [
            "Norm of resulting f unit vector:\n",
            " 1.0\n"
          ],
          "name": "stdout"
        }
      ]
    },
    {
      "cell_type": "markdown",
      "metadata": {
        "id": "o39UyP-I5lpP",
        "colab_type": "text"
      },
      "source": [
        "# Linear Independence / Dependence "
      ]
    },
    {
      "cell_type": "markdown",
      "metadata": {
        "id": "ajfBqYe45sT5",
        "colab_type": "text"
      },
      "source": [
        "## 4.1 Plot two vectors that are linearly dependent and two vectors that are linearly independent (bonus points if done in $\\mathbb{R}^3$)."
      ]
    },
    {
      "cell_type": "code",
      "metadata": {
        "id": "cQWIrbaOLZLB",
        "colab_type": "code",
        "colab": {}
      },
      "source": [
        "# Let's start with the vector [2, 5, 5] (arbitrarily selected numbers):\n",
        "v5 = np.array([2, 5, 5])\n",
        "\n",
        "# Linearly dependent vector: a scalar multiple of the first vector v5 \n",
        "# --> colinear, linearly dependent\n",
        "v6_dep = 3.5 * v5\n",
        "\n",
        "# Linearly independent vector: orthogonal to vector v5 --> linearly independent.\n",
        "# We arbitrarily select two numbers 4 and 1, and solve for the third:\n",
        "# v7_indep = [4, 1, x]\n",
        "# v5 and v7_indep are orthogonal <-IFF-> dot product = 0, so: \n",
        "# v5 · v7_indep = 2*4 + 5*1 + 5*x = 0  -->  x = -13/5, v7_indep = [4, 1, -13/5]\n",
        "v7_indep = np.array([4, 1, -13/5])\n",
        "\n",
        "# Check for orthogonality (and thus linear independence):\n",
        "assert np.dot(v5, v7_indep) == 0"
      ],
      "execution_count": 0,
      "outputs": []
    },
    {
      "cell_type": "code",
      "metadata": {
        "id": "Gntrp2YgO5o7",
        "colab_type": "code",
        "colab": {
          "base_uri": "https://localhost:8080/",
          "height": 34
        },
        "outputId": "bb3bee76-caa2-4865-9abe-0d335b3b6dab"
      },
      "source": [
        "v5"
      ],
      "execution_count": 317,
      "outputs": [
        {
          "output_type": "execute_result",
          "data": {
            "text/plain": [
              "array([2, 5, 5])"
            ]
          },
          "metadata": {
            "tags": []
          },
          "execution_count": 317
        }
      ]
    },
    {
      "cell_type": "code",
      "metadata": {
        "id": "eGAfzX9VO6xd",
        "colab_type": "code",
        "colab": {
          "base_uri": "https://localhost:8080/",
          "height": 34
        },
        "outputId": "a9501026-0af2-4529-d794-c69437e3b5c8"
      },
      "source": [
        "v6_dep"
      ],
      "execution_count": 318,
      "outputs": [
        {
          "output_type": "execute_result",
          "data": {
            "text/plain": [
              "array([ 7. , 17.5, 17.5])"
            ]
          },
          "metadata": {
            "tags": []
          },
          "execution_count": 318
        }
      ]
    },
    {
      "cell_type": "code",
      "metadata": {
        "id": "0RhHOp1uO70a",
        "colab_type": "code",
        "colab": {
          "base_uri": "https://localhost:8080/",
          "height": 34
        },
        "outputId": "8aad7eb1-75df-4fe5-c725-4f959a81f9bc"
      },
      "source": [
        "v7_indep"
      ],
      "execution_count": 319,
      "outputs": [
        {
          "output_type": "execute_result",
          "data": {
            "text/plain": [
              "array([ 4. ,  1. , -2.6])"
            ]
          },
          "metadata": {
            "tags": []
          },
          "execution_count": 319
        }
      ]
    },
    {
      "cell_type": "code",
      "metadata": {
        "id": "RYdrMEbFOTF8",
        "colab_type": "code",
        "colab": {
          "base_uri": "https://localhost:8080/",
          "height": 262
        },
        "outputId": "e0a9b8de-61dc-4bde-c07d-9e3143d18770"
      },
      "source": [
        "# Plot them so we can see:\n",
        "# from mpl_toolkits.mplot3d import Axes3D  (already imported above)\n",
        "\n",
        "fig = plt.figure()\n",
        "ax = plt.subplot(1, 1, 1, projection='3d')\n",
        "ax.quiver(0, 0, 0, v5[0], v5[1], v5[2], color='navy')\n",
        "ax.quiver(0, 0, 0, v6_dep[0], v6_dep[1], v6_dep[2], color='steelblue')\n",
        "ax.quiver(0, 0, 0, n[0], v7_indep[1], v7_indep[2], color='teal')\n",
        "ax.set_title('Linearly Dependent Vectors v5 and v6, and \\nLinearly Independent Vectors v5 and v7:')\n",
        "ax.set_xlim(-10, 10)\n",
        "ax.set_ylim(-10, 10)\n",
        "ax.set_zlim(0, 20)\n",
        "ax.set_xlabel('x')\n",
        "ax.set_ylabel('y')\n",
        "ax.set_zlabel('z')\n",
        "plt.show()\n",
        "\n",
        "# Check (visual):  \n",
        "# Yes, these look right (v5 and v6 as colinear, v5 and v7 as orthogonal)!"
      ],
      "execution_count": 322,
      "outputs": [
        {
          "output_type": "display_data",
          "data": {
            "image/png": "[encoded data removed]",
            "text/plain": [
              "<Figure size 432x288 with 1 Axes>"
            ]
          },
          "metadata": {
            "tags": []
          }
        }
      ]
    },
    {
      "cell_type": "markdown",
      "metadata": {
        "id": "TrJ0MT_n3SvO",
        "colab_type": "text"
      },
      "source": [
        "# Span"
      ]
    },
    {
      "cell_type": "markdown",
      "metadata": {
        "id": "86iXLzwM2z8l",
        "colab_type": "text"
      },
      "source": [
        "## 5.1 What is the span of the following vectors?\n",
        "\n",
        "\\begin{align}\n",
        "g = \\begin{bmatrix} 1 & 2 \\end{bmatrix}\n",
        "\\qquad\n",
        "h = \\begin{bmatrix} 4 & 8 \\end{bmatrix}\n",
        "\\end{align}"
      ]
    },
    {
      "cell_type": "code",
      "metadata": {
        "id": "G2LK2RWL39Q4",
        "colab_type": "code",
        "colab": {
          "base_uri": "https://localhost:8080/",
          "height": 349
        },
        "outputId": "5292e3b8-e276-44be-ec26-b147c6a2db5c"
      },
      "source": [
        "# Answer:  Vectors g and h are colinear --> linearly dependent --> they only span \n",
        "# 1 dimension, the line y = 2x.\n",
        "g1 = np.array([1, 2])\n",
        "h1 = np.array([4, 8])\n",
        "\n",
        "print('Answer:\\n  Vectors g and h are colinear --> linearly dependent \\n --> they only span 1 dimension, the line y = 2x.\\n')\n",
        "# Check to confirm:\n",
        "assert h1[0] == 4 * g1[0] and h1[1] == 4 * g1[1]\n",
        "\n",
        "# Plot to show this visually:\n",
        "plt.arrow(0, 0, h1[0], h1[1], linewidth=2, color='lightsteelblue', head_width=0.3, head_length=0.3)\n",
        "plt.arrow(0, 0, g1[0], g1[1], linewidth=2, color='navy', head_width=0.3, head_length=0.3)\n",
        "plt.title('Vectors g and h (4 * g) Span the 1D Line y = 2x:')\n",
        "plt.xlim(0, 10)\n",
        "plt.ylim(0, 10)\n",
        "plt.show()"
      ],
      "execution_count": 376,
      "outputs": [
        {
          "output_type": "stream",
          "text": [
            "Answer:\n",
            "  Vectors g and h are colinear --> linearly dependent \n",
            " --> they only span 1 dimension, the line y = 2x.\n",
            "\n"
          ],
          "name": "stdout"
        },
        {
          "output_type": "display_data",
          "data": {
            "image/png": "[encoded data removed]",
            "text/plain": [
              "<Figure size 432x288 with 1 Axes>"
            ]
          },
          "metadata": {
            "tags": []
          }
        }
      ]
    },
    {
      "cell_type": "markdown",
      "metadata": {
        "id": "l1deylUj4IHH",
        "colab_type": "text"
      },
      "source": [
        "## 5.2 What is the span of $\\{l, m, n\\}$?\n",
        "\n",
        "\\begin{align}\n",
        "l = \\begin{bmatrix} 1 & 2 & 3 \\end{bmatrix}\n",
        "\\qquad\n",
        "m = \\begin{bmatrix} -1 & 0 & 7 \\end{bmatrix}\n",
        "\\qquad\n",
        "n = \\begin{bmatrix} 4 & 8  & 2\\end{bmatrix}\n",
        "\\end{align}"
      ]
    },
    {
      "cell_type": "code",
      "metadata": {
        "id": "p1i_ueD25ZcP",
        "colab_type": "code",
        "colab": {
          "base_uri": "https://localhost:8080/",
          "height": 248
        },
        "outputId": "4b3d8866-643b-4836-b098-acdc28e98af0"
      },
      "source": [
        "l1 = np.array([1, 2, 3])\n",
        "m1 = np.array([-1, 0, 7])\n",
        "n1 = np.array([4, 8, 2])\n",
        "\n",
        "# Let's plot them and see if we can get a better sense of if they might be \n",
        "# linearly independent or not:\n",
        "fig = plt.figure()\n",
        "ax = plt.subplot(1, 1, 1, projection='3d')\n",
        "ax.quiver(0, 0, 0, l1[0], l1[1], l1[2], color='navy')\n",
        "ax.quiver(0, 0, 0, m1[0], m1[1], m1[2], color='steelblue')\n",
        "ax.quiver(0, 0, 0, n1[0], m1[1], m1[2], color='teal')\n",
        "ax.set_title('Vectors l, m and n:')\n",
        "ax.set_xlim(-5, 5)\n",
        "ax.set_ylim(0, 10)\n",
        "ax.set_zlim(0, 10)\n",
        "ax.set_xlabel('x')\n",
        "ax.set_ylabel('y')\n",
        "ax.set_zlabel('z')\n",
        "plt.show()"
      ],
      "execution_count": 383,
      "outputs": [
        {
          "output_type": "display_data",
          "data": {
            "image/png": "[encoded data removed]",
            "text/plain": [
              "<Figure size 432x288 with 1 Axes>"
            ]
          },
          "metadata": {
            "tags": []
          }
        }
      ]
    },
    {
      "cell_type": "markdown",
      "metadata": {
        "id": "gLooUKxabOPP",
        "colab_type": "text"
      },
      "source": [
        "Via Gaussian elimination (row reduction), we can see that our impression from the chart above was right: l, m and n are 3 linearly independent vectors.\n",
        "\n",
        "First, we put them into a 3x3 matrix, as linear equations (without a solutions column):\n",
        "\n",
        "\n",
        "\\begin{align}\n",
        " matrix = \\begin{bmatrix}\n",
        "  1 & 2 & 3 \\\\\n",
        "  -1 & 0 & 7 \\\\\n",
        "  4 & 8 & 2 \n",
        " \\end{bmatrix}\n",
        "\\end{align}\n",
        "\n",
        "Which reduces via Gaussian Elimination all the way down to the below row reduced echelon form --> which means these 3 vectors are linearly independent:\n",
        "\n",
        "\\begin{align}\n",
        " = \\begin{bmatrix}\n",
        "  1 & 0 & 0 \\\\\n",
        "  0 & 1 & 0 \\\\\n",
        "  0 & 0 & 1 \n",
        " \\end{bmatrix}\n",
        "\\end{align}\n",
        "\n",
        "**Answer:**\n",
        "\n",
        "Span:  As 3 linearly independent vectors in 3 dimensions (show by the rows of the matrix above), vectors l, m and n span all of 3D space (all possible values of x, y, z)."
      ]
    },
    {
      "cell_type": "markdown",
      "metadata": {
        "id": "IBqe7X1732kX",
        "colab_type": "text"
      },
      "source": [
        "# Basis"
      ]
    },
    {
      "cell_type": "markdown",
      "metadata": {
        "id": "YeUZVHRM6PpT",
        "colab_type": "text"
      },
      "source": [
        "## 6.1 Graph two vectors that form a basis for $\\mathbb{R}^2$\n",
        "\n"
      ]
    },
    {
      "cell_type": "code",
      "metadata": {
        "id": "utvF3Pkt8NP6",
        "colab_type": "code",
        "colab": {
          "base_uri": "https://localhost:8080/",
          "height": 296
        },
        "outputId": "566e838e-3da8-41fe-b9bb-88844e380ba4"
      },
      "source": [
        "# To get two linearly independent vectors, let's just take v8 = [3, 4] \n",
        "# (arbitrary numbers) and solve for x in v9 = [5, x] to find an orthogonal vector.\n",
        "v8 = np.array([3, 4])\n",
        "v9 = np.array([5, -15/4])  # Calc:  0 = v8 · v9 = 3*5 + 4*x  -->  x = -15/4\n",
        "\n",
        "# Check to make sure they are orthogonal (and therefore also linearly independent):\n",
        "assert np.dot(v8, v9) == 0\n",
        "\n",
        "# Plot them:\n",
        "plt.arrow(0, 0, v8[0], v8[1], linewidth=2, color='lightsteelblue', head_width=0.3, head_length=0.3)\n",
        "plt.arrow(0, 0, v9[0], v9[1], linewidth=2, color='navy', head_width=0.3, head_length=0.3)\n",
        "plt.title('Unit Vectors v8 and v9 Form a Basis for R^2 \\n (all of 2-dimensional space):')\n",
        "plt.xlim(0, 6)\n",
        "plt.ylim(-6, 6)\n",
        "plt.show()"
      ],
      "execution_count": 401,
      "outputs": [
        {
          "output_type": "display_data",
          "data": {
            "image/png": "[encoded data removed]",
            "text/plain": [
              "<Figure size 432x288 with 1 Axes>"
            ]
          },
          "metadata": {
            "tags": []
          }
        }
      ]
    },
    {
      "cell_type": "markdown",
      "metadata": {
        "id": "20yPFBDUxxnS",
        "colab_type": "text"
      },
      "source": [
        "## 6.2 What does it mean to form a basis?"
      ]
    },
    {
      "cell_type": "markdown",
      "metadata": {
        "id": "3w4tEayT8M0o",
        "colab_type": "text"
      },
      "source": [
        "Vectors that form a basis for a subspace are a set of linearly independent vectors (no redundancy, i.e., no linearly dependent vectors) that span the entire subspace R^n (where n = however many dimensions they span)."
      ]
    },
    {
      "cell_type": "markdown",
      "metadata": {
        "id": "EHmUxbcY6vD3",
        "colab_type": "text"
      },
      "source": [
        "# Rank"
      ]
    },
    {
      "cell_type": "markdown",
      "metadata": {
        "id": "IpJwt9kw6v8U",
        "colab_type": "text"
      },
      "source": [
        "## 7.1 What is the Rank of P?\n",
        "\n",
        "\\begin{align}\n",
        "P = \\begin{bmatrix} \n",
        "1 & 2 & 3 \\\\\n",
        " -1 & 0 & 7 \\\\\n",
        "4 & 8  & 2\n",
        "\\end{bmatrix}\n",
        "\\end{align}"
      ]
    },
    {
      "cell_type": "markdown",
      "metadata": {
        "id": "rFibM-Qbmjzb",
        "colab_type": "text"
      },
      "source": [
        "**Answer:**\n",
        "\n",
        "Rank:  3\n",
        "\n",
        "The above matrix is the same matrix we reduced in 5.1 (above) to the following reduced row echelon form:\n",
        "\n",
        "\\begin{align}\n",
        "P = \\begin{bmatrix} \n",
        "1 & 0 & 0 \\\\\n",
        " 0 & 1 & 0 \\\\\n",
        "0 & 0  & 1\n",
        "\\end{bmatrix}\n",
        "\\end{align}\n",
        "\n",
        "--> So because its 3 row vectors are linearly independent, this matrix has a rank of 3 and a nullity of 0."
      ]
    },
    {
      "cell_type": "markdown",
      "metadata": {
        "id": "jGqFMBYY7mHD",
        "colab_type": "text"
      },
      "source": [
        "## 7.2 What does the rank of a matrix tell us?"
      ]
    },
    {
      "cell_type": "markdown",
      "metadata": {
        "id": "Vjg1IiCD8nnP",
        "colab_type": "text"
      },
      "source": [
        "The rank tells us the number of linearly independent row vectors (or column vectors, if reduced to echelon form by column operations) the matrix has -- i.e., if any of its rows are linearly dependent --> redundant information when used as a system of linear equations we want to solve."
      ]
    },
    {
      "cell_type": "markdown",
      "metadata": {
        "id": "0Db2sc_V8QD6",
        "colab_type": "text"
      },
      "source": [
        "# Stretch Goal #1:  Linear Projections\n",
        "\n",
        "## 8.1 Line $L$ is formed by all of the vectors that can be created by scaling vector $v$ \n",
        "\\begin{align}\n",
        "v = \\begin{bmatrix} 1 & 3 \\end{bmatrix}\n",
        "\\end{align}\n",
        "\n",
        "\\begin{align}\n",
        "w = \\begin{bmatrix} -1 & 2 \\end{bmatrix}\n",
        "\\end{align}\n",
        "\n",
        "## find $proj_{L}(w)$\n",
        "\n",
        "## graph your projected vector to check your work (make sure your axis are square/even)"
      ]
    },
    {
      "cell_type": "code",
      "metadata": {
        "id": "hp5z2WTBCNKx",
        "colab_type": "code",
        "colab": {}
      },
      "source": [
        "v10 = np.array([1, 3])\n",
        "w = np.array([-1, 2])"
      ],
      "execution_count": 0,
      "outputs": []
    },
    {
      "cell_type": "markdown",
      "metadata": {
        "id": "PDmeNr77qhZO",
        "colab_type": "text"
      },
      "source": [
        "We can calculate the vector that is a projection of w onto Line L (where Line L is the span of vector v, i.e., the line y = 3x), as follows:\n",
        "\n",
        "\\begin{align}\n",
        "proj_{L}(w) =  \\frac{w \\cdot v}{v \\cdot v}v\n",
        "\\end{align}"
      ]
    },
    {
      "cell_type": "code",
      "metadata": {
        "id": "sZwrzYUFqgut",
        "colab_type": "code",
        "colab": {
          "base_uri": "https://localhost:8080/",
          "height": 34
        },
        "outputId": "25f4ce57-ac05-4323-8d99-d5fbc0aaedc4"
      },
      "source": [
        "# Find the vector that is a projection of w onto Line L:\n",
        "proj_w_on_L = np.dot(w, v10) / np.dot(v10, v10) * v10\n",
        "proj_w_on_L"
      ],
      "execution_count": 404,
      "outputs": [
        {
          "output_type": "execute_result",
          "data": {
            "text/plain": [
              "array([0.5, 1.5])"
            ]
          },
          "metadata": {
            "tags": []
          },
          "execution_count": 404
        }
      ]
    },
    {
      "cell_type": "code",
      "metadata": {
        "id": "brS0KYn1rfiw",
        "colab_type": "code",
        "colab": {
          "base_uri": "https://localhost:8080/",
          "height": 281
        },
        "outputId": "35b63154-cb05-4285-a28a-6b8e75a680c2"
      },
      "source": [
        "# Plot the vectors to see this visually:\n",
        "orthog_connector_line = w - proj_w_on_L\n",
        "\n",
        "plt.arrow(0, 0, v10[0], v10[1], linewidth=2, color='seagreen', head_width=0.1, head_length=0.1)\n",
        "plt.arrow(0, 0, w[0], w[1], linewidth=2, color='navy', head_width=0.1, head_length=0.1)\n",
        "plt.arrow(0, 0, proj_w_on_L[0], proj_w_on_L[1], linewidth=2, color='lightskyblue', head_width=0.1, head_length=0.1)\n",
        "plt.arrow(proj_w_on_L[0], proj_w_on_L[1], orthog_connector_line[0], orthog_connector_line[1], linestyle='--', linewidth=1, color='darkgrey', head_width=0.1, head_length=0.1)\n",
        "plt.title('Projection of Vector w onto Line L (the Span of Vector v)')\n",
        "plt.xlim(-1.5, 1.5)\n",
        "plt.ylim(0, 3.5)\n",
        "plt.show()\n",
        "\n",
        "# Check to make sure the gray line is actually orthogonal to Line L \n",
        "# (it doesn't look like a right angle on the below chart...), using the \n",
        "# Pythagorean Theorem:\n",
        "assert np.linalg.norm(proj_w_on_L)**2 + np.linalg.norm(orthog_connector_line)**2 == np.linalg.norm(w)**2"
      ],
      "execution_count": 454,
      "outputs": [
        {
          "output_type": "display_data",
          "data": {
            "image/png": "[encoded data removed]",
            "text/plain": [
              "<Figure size 432x288 with 1 Axes>"
            ]
          },
          "metadata": {
            "tags": []
          }
        }
      ]
    },
    {
      "cell_type": "markdown",
      "metadata": {
        "id": "TKkrPwRM-Oar",
        "colab_type": "text"
      },
      "source": [
        "# Stretch Goal #2:\n",
        "\n",
        "## For vectors that begin at the origin, the coordinates of where the vector ends can be interpreted as regular data points. (See 3Blue1Brown videos about Spans, Basis, etc.)\n",
        "\n",
        "## Write a function that can calculate the linear projection of each point (x,y) (vector) onto the line y=x. run the function and plot the original points in blue and the new projected points on the line y=x in red. \n",
        "\n",
        "## For extra points plot the orthogonal vectors as a dashed line from the original blue points to the projected red points."
      ]
    },
    {
      "cell_type": "code",
      "metadata": {
        "id": "cp52kZra-ykj",
        "colab_type": "code",
        "outputId": "76b0895c-1986-4a4c-b5ad-5b085adb2a80",
        "colab": {
          "base_uri": "https://localhost:8080/",
          "height": 269
        }
      },
      "source": [
        "import pandas as pd\n",
        "import matplotlib.pyplot as plt\n",
        "\n",
        "# Creating a dataframe for you to work with -Feel free to not use the dataframe if you don't want to.\n",
        "x_values = [1, 4, 7, 3, 9, 4, 5 ]\n",
        "y_values = [4, 2, 5, 0, 8, 2, 8]\n",
        "\n",
        "data = {\"x\": x_values, \"y\": y_values}\n",
        "\n",
        "df = pd.DataFrame(data)\n",
        "\n",
        "df.head()\n",
        "\n",
        "plt.scatter(df.x, df.y)\n",
        "plt.show()"
      ],
      "execution_count": 402,
      "outputs": [
        {
          "output_type": "display_data",
          "data": {
            "image/png": "[encoded data removed]",
            "text/plain": [
              "<Figure size 432x288 with 1 Axes>"
            ]
          },
          "metadata": {
            "tags": []
          }
        }
      ]
    }
  ]
}