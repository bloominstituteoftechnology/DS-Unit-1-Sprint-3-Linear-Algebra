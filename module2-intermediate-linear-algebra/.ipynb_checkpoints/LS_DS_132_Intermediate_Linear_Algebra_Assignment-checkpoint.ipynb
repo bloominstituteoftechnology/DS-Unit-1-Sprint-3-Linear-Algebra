{
 "cells": [
  {
   "cell_type": "markdown",
   "metadata": {
    "colab_type": "text",
    "id": "GSNiYn8lr6nN"
   },
   "source": [
    "# Statistics"
   ]
  },
  {
   "cell_type": "markdown",
   "metadata": {
    "colab_type": "text",
    "id": "3d4izUhQvh2_"
   },
   "source": [
    "## 1.1 Sales for the past week was the following amounts: [3505, 2400, 3027, 2798, 3700, 3250, 2689]. Without using library functions, what is the mean, variance, and standard deviation of of sales from last week? (for extra bonus points, write your own function that can calculate these two values for any sized list)"
   ]
  },
  {
   "cell_type": "code",
   "execution_count": 233,
   "metadata": {
    "colab": {},
    "colab_type": "code",
    "id": "w1iZfYvBtEA1"
   },
   "outputs": [
    {
     "name": "stdout",
     "output_type": "stream",
     "text": [
      "(3052.714285714286, 214387.90476190473, 463.0204150595357)\n",
      "(3052.714285714286, 214387.90476190473, 463.0204150595357)\n"
     ]
    },
    {
     "data": {
      "text/plain": [
       "True"
      ]
     },
     "execution_count": 233,
     "metadata": {},
     "output_type": "execute_result"
    }
   ],
   "source": [
    "import numpy as np\n",
    "\n",
    "sales = np.array([3505, 2400, 3027, 2798, 3700, 3250, 2689])\n",
    "\n",
    "def funstats(data):\n",
    "    \"\"\"take array or list, and return its mean, variance, and std\"\"\"\n",
    "\n",
    "    m = 0  #init mean\n",
    "    v = 0\n",
    "    s = 0  \n",
    "    n = len(data)\n",
    "    for x in data: \n",
    "        m += x\n",
    "    m = m/n\n",
    "    for x in data:\n",
    "        v += (x - m)**2\n",
    "    v = v / (n-1)\n",
    "    s = np.sqrt(v)\n",
    "    return m, v, s\n",
    "\n",
    "\n",
    "result = sales.mean(), sales.var(ddof=1), sales.std(ddof=1)     #numpy for checking \n",
    "\n",
    "print(result)\n",
    "print(funstats(sales))\n",
    "\n",
    "## lol TDD assertions\n",
    "result == funstats(sales)\n",
    "\n"
   ]
  },
  {
   "cell_type": "markdown",
   "metadata": {
    "colab_type": "text",
    "id": "oh63KaOctEp_"
   },
   "source": [
    "## 1.2 Find the covariance between last week's sales numbers and the number of customers that entered the store last week: [127, 80, 105, 92, 120, 115, 93] (you may use librray functions for calculating the covariance since we didn't specifically talk about its formula)"
   ]
  },
  {
   "cell_type": "code",
   "execution_count": 246,
   "metadata": {
    "colab": {},
    "colab_type": "code",
    "id": "G7ZB0krot564"
   },
   "outputs": [
    {
     "name": "stdout",
     "output_type": "stream",
     "text": [
      "numpy 7604.357142857142\n",
      "pandas 7604.357142857142\n"
     ]
    }
   ],
   "source": [
    "import pandas as pd\n",
    "cust = np.array( [127, 80, 105, 92, 120, 115, 93] )\n",
    "s_c_cov = np.cov(cust,sales, ddof=1)\n",
    "print('numpy', s_c_cov[1][0])    #via numpy\n",
    "##\n",
    "df = pd.DataFrame([cust, sales] )#, columns=['cust','sales'])\n",
    "df =df.T\n",
    "df.cov() == np.cov(sales,cust, ddof=1)     #close enough to be true in 3decimal places\n",
    "#n.cov(sales,cust, ddof=1)\n",
    "print('pandas', df.cov()[1][0])   #via pandas\n"
   ]
  },
  {
   "cell_type": "markdown",
   "metadata": {
    "colab_type": "text",
    "id": "J9SbUY9mt66I"
   },
   "source": [
    "## 1.3 \n",
    "\n",
    "Find the standard deviation of customers who entered the store last week. \n",
    "\n",
    "Then, use the standard deviations of both sales and customers to standardize the covariance to find the correlation coefficient that summarizes the relationship between sales and customers. (*You may use library functions to check your work.*)"
   ]
  },
  {
   "cell_type": "code",
   "execution_count": 253,
   "metadata": {
    "colab": {},
    "colab_type": "code",
    "id": "vFJms2YRrKhY"
   },
   "outputs": [
    {
     "name": "stdout",
     "output_type": "stream",
     "text": [
      "True\n",
      "0.9628339778148909\n"
     ]
    }
   ],
   "source": [
    "_,_,cust_std = funstats(cust)   #std cust\n",
    "_,_,sales_std = funstats(sales) #std sales\n",
    "\n",
    "corr =  s_c_cov[1][0]\n",
    "\n",
    "r = corr / (cust_std * sales_std)\n",
    "print(np.corrcoef(cust,sales)[1][0] == r)\n",
    "print(r)                                 #correlation coef betw cust and sales\n",
    "\n",
    "\n"
   ]
  },
  {
   "cell_type": "markdown",
   "metadata": {
    "colab_type": "text",
    "id": "IbZVf7nmujPJ"
   },
   "source": [
    "## 1.4 Use pandas to import a cleaned version of the titanic dataset from the following link: [Titanic Dataset](https://raw.githubusercontent.com/Geoyi/Cleaning-Titanic-Data/master/titanic_clean.csv)\n",
    "\n",
    "## Calculate the variance-covariance matrix and correlation matrix for the titanic dataset's numeric columns. (you can encode some of the categorical variables and include them as a stretch goal if you finish early)"
   ]
  },
  {
   "cell_type": "code",
   "execution_count": 260,
   "metadata": {
    "colab": {},
    "colab_type": "code",
    "id": "0TWgUIiaCFzq"
   },
   "outputs": [
    {
     "name": "stdout",
     "output_type": "stream",
     "text": [
      "                    pclass  survived       age     sibsp     parch      fare  \\\n",
      "pclass            1.000000 -0.312469 -0.366370  0.060832  0.018322 -0.558629   \n",
      "survived         -0.312469  1.000000 -0.050199 -0.027825  0.082660  0.244265   \n",
      "age              -0.366370 -0.050199  1.000000 -0.190747 -0.130872  0.171892   \n",
      "sibsp             0.060832 -0.027825 -0.190747  1.000000  0.373587  0.160238   \n",
      "parch             0.018322  0.082660 -0.130872  0.373587  1.000000  0.221539   \n",
      "fare             -0.558629  0.244265  0.171892  0.160238  0.221539  1.000000   \n",
      "body             -0.034642       NaN  0.059059 -0.099961  0.051099 -0.043110   \n",
      "has_cabin_number -0.713857  0.302250  0.271887 -0.009064  0.036806  0.507253   \n",
      "\n",
      "                      body  has_cabin_number  \n",
      "pclass           -0.034642         -0.713857  \n",
      "survived               NaN          0.302250  \n",
      "age               0.059059          0.271887  \n",
      "sibsp            -0.099961         -0.009064  \n",
      "parch             0.051099          0.036806  \n",
      "fare             -0.043110          0.507253  \n",
      "body              1.000000          0.083796  \n",
      "has_cabin_number  0.083796          1.000000  \n"
     ]
    },
    {
     "data": {
      "text/html": [
       "<div>\n",
       "<style scoped>\n",
       "    .dataframe tbody tr th:only-of-type {\n",
       "        vertical-align: middle;\n",
       "    }\n",
       "\n",
       "    .dataframe tbody tr th {\n",
       "        vertical-align: top;\n",
       "    }\n",
       "\n",
       "    .dataframe thead th {\n",
       "        text-align: right;\n",
       "    }\n",
       "</style>\n",
       "<table border=\"1\" class=\"dataframe\">\n",
       "  <thead>\n",
       "    <tr style=\"text-align: right;\">\n",
       "      <th></th>\n",
       "      <th>pclass</th>\n",
       "      <th>survived</th>\n",
       "      <th>age</th>\n",
       "      <th>sibsp</th>\n",
       "      <th>parch</th>\n",
       "      <th>fare</th>\n",
       "      <th>body</th>\n",
       "      <th>has_cabin_number</th>\n",
       "    </tr>\n",
       "  </thead>\n",
       "  <tbody>\n",
       "    <tr>\n",
       "      <td>pclass</td>\n",
       "      <td>0.701969</td>\n",
       "      <td>-0.127248</td>\n",
       "      <td>-3.954605</td>\n",
       "      <td>0.053090</td>\n",
       "      <td>0.013287</td>\n",
       "      <td>-24.227788</td>\n",
       "      <td>-2.876653</td>\n",
       "      <td>-0.249992</td>\n",
       "    </tr>\n",
       "    <tr>\n",
       "      <td>survived</td>\n",
       "      <td>-0.127248</td>\n",
       "      <td>0.236250</td>\n",
       "      <td>-0.314343</td>\n",
       "      <td>-0.014088</td>\n",
       "      <td>0.034776</td>\n",
       "      <td>6.146023</td>\n",
       "      <td>0.000000</td>\n",
       "      <td>0.061406</td>\n",
       "    </tr>\n",
       "    <tr>\n",
       "      <td>age</td>\n",
       "      <td>-3.954605</td>\n",
       "      <td>-0.314343</td>\n",
       "      <td>165.850021</td>\n",
       "      <td>-2.559806</td>\n",
       "      <td>-1.459378</td>\n",
       "      <td>114.416613</td>\n",
       "      <td>81.622922</td>\n",
       "      <td>1.463138</td>\n",
       "    </tr>\n",
       "    <tr>\n",
       "      <td>sibsp</td>\n",
       "      <td>0.053090</td>\n",
       "      <td>-0.014088</td>\n",
       "      <td>-2.559806</td>\n",
       "      <td>1.085052</td>\n",
       "      <td>0.336833</td>\n",
       "      <td>8.641768</td>\n",
       "      <td>-8.708471</td>\n",
       "      <td>-0.003946</td>\n",
       "    </tr>\n",
       "    <tr>\n",
       "      <td>parch</td>\n",
       "      <td>0.013287</td>\n",
       "      <td>0.034776</td>\n",
       "      <td>-1.459378</td>\n",
       "      <td>0.336833</td>\n",
       "      <td>0.749195</td>\n",
       "      <td>9.928031</td>\n",
       "      <td>4.237190</td>\n",
       "      <td>0.013316</td>\n",
       "    </tr>\n",
       "    <tr>\n",
       "      <td>fare</td>\n",
       "      <td>-24.227788</td>\n",
       "      <td>6.146023</td>\n",
       "      <td>114.416613</td>\n",
       "      <td>8.641768</td>\n",
       "      <td>9.928031</td>\n",
       "      <td>2678.959738</td>\n",
       "      <td>-179.164684</td>\n",
       "      <td>10.976961</td>\n",
       "    </tr>\n",
       "    <tr>\n",
       "      <td>body</td>\n",
       "      <td>-2.876653</td>\n",
       "      <td>0.000000</td>\n",
       "      <td>81.622922</td>\n",
       "      <td>-8.708471</td>\n",
       "      <td>4.237190</td>\n",
       "      <td>-179.164684</td>\n",
       "      <td>9544.688567</td>\n",
       "      <td>3.625689</td>\n",
       "    </tr>\n",
       "    <tr>\n",
       "      <td>has_cabin_number</td>\n",
       "      <td>-0.249992</td>\n",
       "      <td>0.061406</td>\n",
       "      <td>1.463138</td>\n",
       "      <td>-0.003946</td>\n",
       "      <td>0.013316</td>\n",
       "      <td>10.976961</td>\n",
       "      <td>3.625689</td>\n",
       "      <td>0.174613</td>\n",
       "    </tr>\n",
       "  </tbody>\n",
       "</table>\n",
       "</div>"
      ],
      "text/plain": [
       "                     pclass  survived         age     sibsp     parch  \\\n",
       "pclass             0.701969 -0.127248   -3.954605  0.053090  0.013287   \n",
       "survived          -0.127248  0.236250   -0.314343 -0.014088  0.034776   \n",
       "age               -3.954605 -0.314343  165.850021 -2.559806 -1.459378   \n",
       "sibsp              0.053090 -0.014088   -2.559806  1.085052  0.336833   \n",
       "parch              0.013287  0.034776   -1.459378  0.336833  0.749195   \n",
       "fare             -24.227788  6.146023  114.416613  8.641768  9.928031   \n",
       "body              -2.876653  0.000000   81.622922 -8.708471  4.237190   \n",
       "has_cabin_number  -0.249992  0.061406    1.463138 -0.003946  0.013316   \n",
       "\n",
       "                         fare         body  has_cabin_number  \n",
       "pclass             -24.227788    -2.876653         -0.249992  \n",
       "survived             6.146023     0.000000          0.061406  \n",
       "age                114.416613    81.622922          1.463138  \n",
       "sibsp                8.641768    -8.708471         -0.003946  \n",
       "parch                9.928031     4.237190          0.013316  \n",
       "fare              2678.959738  -179.164684         10.976961  \n",
       "body              -179.164684  9544.688567          3.625689  \n",
       "has_cabin_number    10.976961     3.625689          0.174613  "
      ]
     },
     "execution_count": 260,
     "metadata": {},
     "output_type": "execute_result"
    }
   ],
   "source": [
    "t = pd.read_csv('https://raw.githubusercontent.com/Geoyi/Cleaning-Titanic-Data/master/titanic_clean.csv')\n",
    "t.drop('Unnamed: 0',axis=1,inplace=True)\n",
    "numerical_cols = t.describe().columns\n",
    "covariance_matrix = t[numerical_cols].cov()\n",
    "correl_matrix = t[numerical_cols].corr()\n",
    "print(correl_matrix)\n",
    "covariance_matrix\n",
    "##TODO fix"
   ]
  },
  {
   "cell_type": "markdown",
   "metadata": {
    "colab_type": "text",
    "id": "7K0Xfh8MvYkl"
   },
   "source": [
    "# Orthogonality"
   ]
  },
  {
   "cell_type": "markdown",
   "metadata": {
    "colab_type": "text",
    "id": "Pe3eOZ2fvdZ-"
   },
   "source": [
    "## 2.1 Plot two vectors that are orthogonal to each other. What is a synonym for orthogonal?"
   ]
  },
  {
   "cell_type": "code",
   "execution_count": 122,
   "metadata": {
    "colab": {},
    "colab_type": "code",
    "id": "YLSBk7hJvvCx"
   },
   "outputs": [
    {
     "data": {
      "image/png": "[encoded data removed]",
      "text/plain": [
       "<Figure size 432x288 with 1 Axes>"
      ]
     },
     "metadata": {
      "needs_background": "light"
     },
     "output_type": "display_data"
    }
   ],
   "source": [
    "#orthogoal means perpendicular\n",
    "import matplotlib.pyplot as plt\n",
    "plt.xlim(-2,2)          \n",
    "plt.ylim(-2,2)\n",
    "\n",
    "a = [1,0] \n",
    "b = [0,1]\n",
    "\n",
    "# Plot Vectors\n",
    "plt.arrow(0,0, a[0], a[1], linewidth=3, head_width=.05, head_length=0.05, color ='blue')\n",
    "plt.arrow(0,0, b[0], b[1], linewidth=3, head_width=.05, head_length=0.05, color ='red')\n",
    "\n",
    "plt.title(\"Two orthogonal Vectors\")\n",
    "plt.grid(True)\n",
    "plt.show()\n"
   ]
  },
  {
   "cell_type": "markdown",
   "metadata": {
    "colab_type": "text",
    "id": "7AS4V1Nhvvxz"
   },
   "source": [
    "## 2.2 Are the following vectors orthogonal? Why or why not?\n",
    "\n",
    "\\begin{align}\n",
    "a = \\begin{bmatrix} -5 \\\\ 3 \\\\ 7 \\end{bmatrix}\n",
    "\\qquad\n",
    "b = \\begin{bmatrix} 6 \\\\ -8 \\\\ 2 \\end{bmatrix}\n",
    "\\end{align}"
   ]
  },
  {
   "cell_type": "code",
   "execution_count": 128,
   "metadata": {
    "colab": {},
    "colab_type": "code",
    "id": "F_-y54YSz47k"
   },
   "outputs": [
    {
     "ename": "AssertionError",
     "evalue": " a and b are NOT orthoonal",
     "output_type": "error",
     "traceback": [
      "\u001b[0;31m---------------------------------------------------------------------------\u001b[0m",
      "\u001b[0;31mAssertionError\u001b[0m                            Traceback (most recent call last)",
      "\u001b[0;32m<ipython-input-128-08b4b4d68dd1>\u001b[0m in \u001b[0;36m<module>\u001b[0;34m\u001b[0m\n\u001b[1;32m      2\u001b[0m \u001b[0mb\u001b[0m\u001b[0;34m=\u001b[0m \u001b[0mnp\u001b[0m\u001b[0;34m.\u001b[0m\u001b[0marray\u001b[0m\u001b[0;34m(\u001b[0m\u001b[0;34m[\u001b[0m\u001b[0;36m6\u001b[0m\u001b[0;34m,\u001b[0m \u001b[0;34m-\u001b[0m\u001b[0;36m8\u001b[0m\u001b[0;34m,\u001b[0m \u001b[0;36m2\u001b[0m\u001b[0;34m]\u001b[0m\u001b[0;34m)\u001b[0m\u001b[0;34m\u001b[0m\u001b[0;34m\u001b[0m\u001b[0m\n\u001b[1;32m      3\u001b[0m \u001b[0;31m# are a and b orthogonal?\u001b[0m\u001b[0;34m\u001b[0m\u001b[0;34m\u001b[0m\u001b[0;34m\u001b[0m\u001b[0m\n\u001b[0;32m----> 4\u001b[0;31m \u001b[0;32massert\u001b[0m \u001b[0mnp\u001b[0m\u001b[0;34m.\u001b[0m\u001b[0mdot\u001b[0m\u001b[0;34m(\u001b[0m\u001b[0ma\u001b[0m\u001b[0;34m,\u001b[0m\u001b[0mb\u001b[0m\u001b[0;34m)\u001b[0m \u001b[0;34m==\u001b[0m \u001b[0;36m0\u001b[0m\u001b[0;34m,\u001b[0m \u001b[0;34m\" a and b are NOT orthoonal\"\u001b[0m\u001b[0;34m\u001b[0m\u001b[0;34m\u001b[0m\u001b[0m\n\u001b[0m",
      "\u001b[0;31mAssertionError\u001b[0m:  a and b are NOT orthoonal"
     ]
    }
   ],
   "source": [
    "a =np.array([-5, 3,7])\n",
    "b= np.array([6, -8, 2])\n",
    "# are a and b orthogonal?\n",
    "\n",
    "assert np.dot(a,b) == 0, \" a and b are NOT orthogonal\"  #just for fun throws an error if the expression is false"
   ]
  },
  {
   "cell_type": "markdown",
   "metadata": {
    "colab_type": "text",
    "id": "MiNjyqiEz5SG"
   },
   "source": [
    "## 2.3 Compute the following values: What do these quantities have in common?\n",
    "\n",
    "## What is $||c||^2$? \n",
    "\n",
    "## What is $c \\cdot c$? \n",
    "\n",
    "## What is $c^{T}c$?\n",
    "\n",
    "\\begin{align}\n",
    "c = \\begin{bmatrix} 2 & -15 & 6 & 20 \\end{bmatrix}\n",
    "\\end{align}"
   ]
  },
  {
   "cell_type": "code",
   "execution_count": 276,
   "metadata": {
    "colab": {},
    "colab_type": "code",
    "id": "IlV_uaYK1EQB"
   },
   "outputs": [
    {
     "name": "stdout",
     "output_type": "stream",
     "text": [
      "sum of squares 665.0\n",
      "dot prod 665\n",
      "matrix product of c with its transpose 665\n"
     ]
    }
   ],
   "source": [
    "c = np.array([2,-15,6,20])\n",
    "\n",
    "#not sure if this is a trick but im reading it as \"what is the square of the norm of c?\" whihc since the norm\n",
    "# of c is the square root of the sum of squares, therefore the answer is the sum of squares of c:\n",
    "x = np.linalg.norm(c) #l2 norm\n",
    "print('sum of squares',x**2)\n",
    "\n",
    "print('dot prod', np.dot(c,c))    #dot product\n",
    "\n",
    "#\n",
    "print('matrix product of c with its transpose', np.matmul( c.T, c))\n"
   ]
  },
  {
   "cell_type": "markdown",
   "metadata": {
    "colab_type": "text",
    "id": "MK_TpWqk1Evk"
   },
   "source": [
    "# Unit Vectors"
   ]
  },
  {
   "cell_type": "markdown",
   "metadata": {
    "colab_type": "text",
    "id": "Kpit6WWO1b8l"
   },
   "source": [
    "## 3.1 Using Latex, write the following vectors as a linear combination of scalars and unit vectors:\n",
    "\n",
    "\\begin{align}\n",
    "d = \\begin{bmatrix} 7 \\\\ 12 \\end{bmatrix}\n",
    "\\qquad\n",
    "e = \\begin{bmatrix} 2 \\\\ 11 \\\\ -8  \\end{bmatrix}\n",
    "\\end{align}"
   ]
  },
  {
   "cell_type": "markdown",
   "metadata": {
    "colab_type": "text",
    "id": "oBCj1sDW2ouC"
   },
   "source": [
    "## Here you go:\n",
    "\n",
    "\\begin{align}\n",
    "d =  7 * \\begin{bmatrix} 1 \\\\ 0  \\end{bmatrix} + 12 * \\begin{bmatrix} 0 \\\\ 1 \\end{bmatrix}\n",
    "\\qquad\n",
    "f =  2 * \\begin{bmatrix} 1 \\\\ 0 \\\\ 0  \\end{bmatrix} + 11 * \\begin{bmatrix} 0 \\\\ 1 \\\\ 0  \\end{bmatrix} -  8 * \\begin{bmatrix} 0  \\\\ 0 \\\\ 1  \\end{bmatrix}\n",
    "\\end{align}"
   ]
  },
  {
   "cell_type": "markdown",
   "metadata": {
    "colab_type": "text",
    "id": "dAdUQuep1_yJ"
   },
   "source": [
    "## 3.2 Turn vector $f$ into a unit vector:\n",
    "\n",
    "\\begin{align}\n",
    "f = \\begin{bmatrix} 4 & 12 & 11 & 9 & 2 \\end{bmatrix}\n",
    "\\end{align}"
   ]
  },
  {
   "cell_type": "code",
   "execution_count": 278,
   "metadata": {
    "colab": {},
    "colab_type": "code",
    "id": "I3W8ZiHR1_Fa"
   },
   "outputs": [
    {
     "name": "stdout",
     "output_type": "stream",
     "text": [
      "[[ 4]\n",
      " [12]\n",
      " [11]\n",
      " [ 9]\n",
      " [ 2]]\n"
     ]
    }
   ],
   "source": [
    "f = np.array([[4,12,11,9,2]])\n",
    "f = f.transpose()\n",
    "print(f)"
   ]
  },
  {
   "cell_type": "markdown",
   "metadata": {
    "colab_type": "text",
    "id": "o39UyP-I5lpP"
   },
   "source": [
    "# Linear Independence / Dependence "
   ]
  },
  {
   "cell_type": "markdown",
   "metadata": {
    "colab_type": "text",
    "id": "ajfBqYe45sT5"
   },
   "source": [
    "## 4.1 Plot two vectors that are linearly dependent and two vectors that are linearly independent (bonus points if done in $\\mathbb{R}^3$)."
   ]
  },
  {
   "cell_type": "code",
   "execution_count": 179,
   "metadata": {},
   "outputs": [
    {
     "name": "stdout",
     "output_type": "stream",
     "text": [
      "[0.5 0.5 0.5]\n",
      "[ True  True  True]\n",
      "[ True  True  True]\n"
     ]
    },
    {
     "data": {
      "image/png": "[encoded data removed]",
      "text/plain": [
       "<Figure size 432x288 with 2 Axes>"
      ]
     },
     "metadata": {
      "needs_background": "light"
     },
     "output_type": "display_data"
    }
   ],
   "source": [
    "from mpl_toolkits.mplot3d import Axes3D\n",
    "\n",
    "v= np.array([.5, .5 , .5])\n",
    "origin = [0,0,0] # origin \n",
    "vprime = v * 2\n",
    "print (v)\n",
    "print(v - (.5 * vprime) == 0)\n",
    "fig = plt.figure()\n",
    "ax = fig.add_subplot(121, projection='3d')\n",
    "ax.quiver(*origin, *vector, length=1, color='blue')\n",
    "ax.quiver(*origin, *vprime, length=1, color='blue')\n",
    "\n",
    "\n",
    "ax.set_xlim([-1, 1])\n",
    "ax.set_ylim([-1, 1])\n",
    "ax.set_zlim([-1, 1])\n",
    "ax.set_xlabel('X')\n",
    "ax.set_ylabel('Y')\n",
    "ax.set_zlabel('Z')\n",
    "\n",
    "ax2 = fig.add_subplot(122, projection='3d')\n",
    "\n",
    "a = np.array([0,0,-1])\n",
    "b = np.array([1,0,0])\n",
    "\n",
    "ax2.quiver(*origin, *a, length=1, color='green')\n",
    "ax2.quiver(*origin, *b, length=1, color='red')\n",
    "\n",
    "ax2.set_xlim([-1, 1])\n",
    "ax2.set_ylim([-1, 1])\n",
    "ax2.set_zlim([-1, 1])\n",
    "ax2.set_xlabel('X')\n",
    "ax2.set_ylabel('Y')\n",
    "ax2.set_zlabel('Z')\n",
    "\n",
    "print(v - (.5 * vprime) == 0)  ##verifiy linear dependence\n",
    "\n"
   ]
  },
  {
   "cell_type": "markdown",
   "metadata": {
    "colab_type": "text",
    "id": "TrJ0MT_n3SvO"
   },
   "source": [
    "# Span"
   ]
  },
  {
   "cell_type": "markdown",
   "metadata": {
    "colab_type": "text",
    "id": "86iXLzwM2z8l"
   },
   "source": [
    "## 5.1 What is the span of the following vectors?\n",
    "\n",
    "\\begin{align}\n",
    "g = \\begin{bmatrix} 1 & 2 \\end{bmatrix}\n",
    "\\qquad\n",
    "h = \\begin{bmatrix} 4 & 8 \\end{bmatrix}\n",
    "\\end{align}"
   ]
  },
  {
   "cell_type": "code",
   "execution_count": 279,
   "metadata": {
    "colab": {},
    "colab_type": "code",
    "id": "G2LK2RWL39Q4"
   },
   "outputs": [
    {
     "name": "stdout",
     "output_type": "stream",
     "text": [
      "[-0.56 -1.12]\n"
     ]
    },
    {
     "data": {
      "image/png": "[encoded data removed]",
      "text/plain": [
       "<Figure size 432x288 with 1 Axes>"
      ]
     },
     "metadata": {
      "needs_background": "light"
     },
     "output_type": "display_data"
    }
   ],
   "source": [
    "# the span of vectors g,h is the set of all vectors that can be expressed as linear combinations of the two. \n",
    "# we can see that since h = 2*g, they are lie on the same line. Thus the span of g,h is the line through [1,2]\n",
    "plt.xlim(-2,5)          \n",
    "plt.ylim(-2,10)\n",
    "\n",
    "a = np.array([1,2])\n",
    "b = np.array([4,8])\n",
    "c = 12 * a - 3.14 * b  # c is a linear combination of a and b as shown in the plot, it is co-linear with a,b\n",
    "print(c)\n",
    "# Plot Vectors\n",
    "plt.arrow(0,0, b[0], b[1], linewidth=3, head_width=.05, head_length=0.05, color ='red')\n",
    "plt.arrow(0,0, a[0], a[1], linewidth=3, head_width=.05, head_length=0.05, color ='blue')\n",
    "plt.arrow(0,0, *c, linewidth=3, head_width=.05, head_length=0.05, color ='green')\n",
    "plt.text(*c, s=' 12 * a - 3.14 * b')\n",
    "\n",
    "\n",
    "plt.title(\"Two colinear Vectors\")\n",
    "plt.grid(True)\n",
    "plt.show()\n"
   ]
  },
  {
   "cell_type": "markdown",
   "metadata": {
    "colab_type": "text",
    "id": "l1deylUj4IHH"
   },
   "source": [
    "## 5.2 What is the span of $\\{l, m, n\\}$?\n",
    "\n",
    "\\begin{align}\n",
    "l = \\begin{bmatrix} 1 & 2 & 3 \\end{bmatrix}\n",
    "\\qquad\n",
    "m = \\begin{bmatrix} -1 & 0 & 7 \\end{bmatrix}\n",
    "\\qquad\n",
    "n = \\begin{bmatrix} 4 & 8  & 2\\end{bmatrix}\n",
    "\\end{align}"
   ]
  },
  {
   "cell_type": "code",
   "execution_count": 212,
   "metadata": {
    "colab": {},
    "colab_type": "code",
    "id": "p1i_ueD25ZcP"
   },
   "outputs": [
    {
     "name": "stdout",
     "output_type": "stream",
     "text": [
      " the span of {l,m,n] is the 3 -dimensional space R3\n"
     ]
    }
   ],
   "source": [
    "#compose to matrix\n",
    "#take rank will tell you # of lin indep vectors..\n",
    "# \n",
    "\n",
    "l = np.array([1,2,3])\n",
    "m = np.array([-1,0,7])\n",
    "n = np.array([4,8,2])\n",
    "m= np.array([l,m,n])\n",
    "#rowspace = span_of_rows(m)\n",
    "#rank(m) == dim(rowpsace)\n",
    "\n",
    "print(' the span of {l,m,n] is the',np.linalg.matrix_rank(m),'-dimensional space R3')"
   ]
  },
  {
   "cell_type": "markdown",
   "metadata": {
    "colab_type": "text",
    "id": "IBqe7X1732kX"
   },
   "source": [
    "# Basis"
   ]
  },
  {
   "cell_type": "markdown",
   "metadata": {
    "colab_type": "text",
    "id": "YeUZVHRM6PpT"
   },
   "source": [
    "## 6.1 Graph two vectors that form a basis for $\\mathbb{R}^2$\n",
    "\n"
   ]
  },
  {
   "cell_type": "code",
   "execution_count": 220,
   "metadata": {
    "colab": {},
    "colab_type": "code",
    "id": "utvF3Pkt8NP6"
   },
   "outputs": [
    {
     "data": {
      "image/png": "[encoded data removed]",
      "text/plain": [
       "<Figure size 432x288 with 1 Axes>"
      ]
     },
     "metadata": {
      "needs_background": "light"
     },
     "output_type": "display_data"
    }
   ],
   "source": [
    "# given a space \n",
    "plt.xlim(-2,5)          \n",
    "plt.ylim(-2,5)\n",
    "\n",
    "a = np.array([0,1]) #orthonormal bases for R-2\n",
    "b = np.array([1,0])\n",
    "# Plot Vectors\n",
    "plt.arrow(0,0, *a, linewidth=3, head_width=.05, head_length=0.05, color ='red')\n",
    "plt.arrow(0,0, *b, linewidth=3, head_width=.05, head_length=0.05, color ='green')\n",
    "plt.text(x=0,y=-.4,s=\"(0,0)\")\n",
    "\n",
    "\n",
    "plt.title(\"Two orthogonal Vectors are a basis for R-2\")\n",
    "plt.grid(True)\n",
    "plt.show()\n"
   ]
  },
  {
   "cell_type": "markdown",
   "metadata": {
    "colab_type": "text",
    "id": "20yPFBDUxxnS"
   },
   "source": [
    "## 6.2 What does it mean to form a basis?"
   ]
  },
  {
   "cell_type": "markdown",
   "metadata": {
    "colab_type": "text",
    "id": "3w4tEayT8M0o"
   },
   "source": [
    "The basis for a vector space V is a collection of linearly independent vectors that span V.That is, all points in the space can be reached by some linear combination of the collection of vectors. "
   ]
  },
  {
   "cell_type": "markdown",
   "metadata": {
    "colab_type": "text",
    "id": "EHmUxbcY6vD3"
   },
   "source": [
    "# Rank"
   ]
  },
  {
   "cell_type": "markdown",
   "metadata": {
    "colab_type": "text",
    "id": "IpJwt9kw6v8U"
   },
   "source": [
    "## 7.1 What is the Rank of P?\n",
    "\n",
    "\\begin{align}\n",
    "P = \\begin{bmatrix} \n",
    "1 & 2 & 3 \\\\\n",
    " -1 & 0 & 7 \\\\\n",
    "4 & 8  & 2\n",
    "\\end{bmatrix}\n",
    "\\end{align}"
   ]
  },
  {
   "cell_type": "code",
   "execution_count": 230,
   "metadata": {},
   "outputs": [
    {
     "name": "stdout",
     "output_type": "stream",
     "text": [
      "[[ 1  2  3]\n",
      " [-1  0  7]\n",
      " [ 4  8  2]]\n",
      "The rank of P is 3\n"
     ]
    }
   ],
   "source": [
    "p= np.array([[1,2,3], [(-1), 0, 7], [4, 8, 2]])\n",
    "print(p)\n",
    "print(\"The rank of P is\", np.linalg.matrix_rank(p))"
   ]
  },
  {
   "cell_type": "markdown",
   "metadata": {
    "colab_type": "text",
    "id": "jGqFMBYY7mHD"
   },
   "source": [
    "## 7.2 What does the rank of a matrix tell us?"
   ]
  },
  {
   "cell_type": "markdown",
   "metadata": {
    "colab_type": "text",
    "id": "Vjg1IiCD8nnP"
   },
   "source": []
  },
  {
   "cell_type": "markdown",
   "metadata": {
    "colab": {},
    "colab_type": "code",
    "id": "hp5z2WTBCNKx"
   },
   "source": [
    "The rank of a matrix is the dimension of the span of the rows of the matrix (row space)\n",
    "Basically what lowest number dimensions of the space we are dealing with not sure what the question above means?\n",
    "# Markdown\n",
    "## LateX $\\alpha^2$\n",
    "Markdown LateX: $\\alpha$\n"
   ]
  },
  {
   "cell_type": "markdown",
   "metadata": {
    "colab_type": "text",
    "id": "0Db2sc_V8QD6"
   },
   "source": [
    "# Linear Projections\n",
    "\n",
    "## 8.1 Line $L$ is formed by all of the vectors that can be created by scaling vector $v$ \n",
    "\\begin{align}\n",
    "v = \\begin{bmatrix} 1 & 3 \\end{bmatrix}\n",
    "\\end{align}\n",
    "\n",
    "\\begin{align}\n",
    "w = \\begin{bmatrix} -1 & 2 \\end{bmatrix}\n",
    "\\end{align}\n",
    "\n",
    "## find $proj_{L}(w)$\n",
    "\n",
    "## graph your projected vector to check your work (make sure your axis are square/even)"
   ]
  },
  {
   "cell_type": "markdown",
   "metadata": {
    "colab_type": "text",
    "id": "TKkrPwRM-Oar"
   },
   "source": [
    "# Stretch Goal\n",
    "\n",
    "## For vectors that begin at the origin, the coordinates of where the vector ends can be interpreted as regular data points. (See 3Blue1Brown videos about Spans, Basis, etc.)\n",
    "\n",
    "## Write a function that can calculate the linear projection of each point (x,y) (vector) onto the line y=x. run the function and plot the original points in blue and the new projected points on the line y=x in red. \n",
    "\n",
    "## For extra points plot the orthogonal vectors as a dashed line from the original blue points to the projected red points."
   ]
  },
  {
   "cell_type": "code",
   "execution_count": 0,
   "metadata": {
    "colab": {
     "base_uri": "https://localhost:8080/",
     "height": 347
    },
    "colab_type": "code",
    "id": "cp52kZra-ykj",
    "outputId": "12502200-eafe-4e20-bfb7-2d539c6027cb"
   },
   "outputs": [
    {
     "data": {
      "image/png": "[encoded data removed]",
      "text/plain": [
       "<matplotlib.figure.Figure at 0x7f787cfb2978>"
      ]
     },
     "metadata": {
      "tags": []
     },
     "output_type": "display_data"
    }
   ],
   "source": [
    "import pandas as pd\n",
    "import matplotlib.pyplot as plt\n",
    "\n",
    "# Creating a dataframe for you to work with -Feel free to not use the dataframe if you don't want to.\n",
    "x_values = [1, 4, 7, 3, 9, 4, 5 ]\n",
    "y_values = [4, 2, 5, 0, 8, 2, 8]\n",
    "\n",
    "data = {\"x\": x_values, \"y\": y_values}\n",
    "\n",
    "df = pd.DataFrame(data)\n",
    "\n",
    "df.head()\n",
    "\n",
    "plt.scatter(df.x, df.y)\n",
    "plt.show()"
   ]
  },
  {
   "cell_type": "code",
   "execution_count": 0,
   "metadata": {
    "colab": {},
    "colab_type": "code",
    "id": "EZTA6Tj6BGDb"
   },
   "outputs": [],
   "source": []
  }
 ],
 "metadata": {
  "celltoolbar": "Raw Cell Format",
  "colab": {
   "collapsed_sections": [],
   "name": "LS_DS_132_Intermediate_Linear_Algebra_Assignment.ipynb",
   "provenance": []
  },
  "kernelspec": {
   "display_name": "Python 3",
   "language": "python",
   "name": "python3"
  },
  "language_info": {
   "codemirror_mode": {
    "name": "ipython",
    "version": 3
   },
   "file_extension": ".py",
   "mimetype": "text/x-python",
   "name": "python",
   "nbconvert_exporter": "python",
   "pygments_lexer": "ipython3",
   "version": "3.7.4"
  }
 },
 "nbformat": 4,
 "nbformat_minor": 1
}
