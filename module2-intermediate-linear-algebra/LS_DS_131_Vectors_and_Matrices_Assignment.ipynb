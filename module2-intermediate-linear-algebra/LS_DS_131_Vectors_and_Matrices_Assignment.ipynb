{
  "nbformat": 4,
  "nbformat_minor": 0,
  "metadata": {
    "colab": {
      "name": "LS_DS_131_Vectors_and_Matrices_Assignment.ipynb",
      "provenance": [],
      "collapsed_sections": [],
      "include_colab_link": true
    },
    "kernelspec": {
      "name": "python3",
      "display_name": "Python 3"
    }
  },
  "cells": [
    {
      "cell_type": "markdown",
      "metadata": {
        "id": "view-in-github",
        "colab_type": "text"
      },
      "source": [
        "<a href=\"https://colab.research.google.com/github/johnnykoo84/DS-Unit-1-Sprint-3-Linear-Algebra/blob/master/module2-intermediate-linear-algebra/LS_DS_131_Vectors_and_Matrices_Assignment.ipynb\" target=\"_parent\"><img src=\"https://colab.research.google.com/assets/colab-badge.svg\" alt=\"Open In Colab\"/></a>"
      ]
    },
    {
      "cell_type": "markdown",
      "metadata": {
        "id": "yXA3GwWhY9KL",
        "colab_type": "text"
      },
      "source": [
        "# Part 1 - Scalars and Vectors\n",
        "\n",
        "For the questions below it is not sufficient to simply provide answer to the questions, but you must solve the problems and show your work using python (the NumPy library will help a lot!) Translate the vectors and matrices into their appropriate python  representations and use numpy or functions that you write yourself to demonstrate the result or property. "
      ]
    },
    {
      "cell_type": "code",
      "metadata": {
        "id": "9H7f_NXWZsCe",
        "colab_type": "code",
        "colab": {}
      },
      "source": [
        "# imports\n",
        "import math\n",
        "import numpy as np\n",
        "import pandas as pd\n",
        "import matplotlib.pyplot as plt"
      ],
      "execution_count": 0,
      "outputs": []
    },
    {
      "cell_type": "markdown",
      "metadata": {
        "id": "oNOTv43_Zi9L",
        "colab_type": "text"
      },
      "source": [
        "## 1.1 Create a two-dimensional vector and plot it on a graph"
      ]
    },
    {
      "cell_type": "code",
      "metadata": {
        "id": "XNqjzQzrkVG7",
        "colab_type": "code",
        "outputId": "440db23b-d257-49dc-b385-b35dd405fc62",
        "colab": {
          "base_uri": "https://localhost:8080/",
          "height": 283
        }
      },
      "source": [
        "vec_2d = np.array([1, 1])\n",
        "fig, ax = plt.subplots()\n",
        "ax.grid()\n",
        "plt.xlim(-0.25, 1.5)\n",
        "plt.ylim(-0.25, 1.5)\n",
        "\n",
        "plt.arrow(0, 0, vec_2d[0], vec_2d[1], head_width=.1, head_length=.1, length_includes_head=True, color='blue')"
      ],
      "execution_count": 3,
      "outputs": [
        {
          "output_type": "execute_result",
          "data": {
            "text/plain": [
              "<matplotlib.patches.FancyArrow at 0x7f6a1472cb00>"
            ]
          },
          "metadata": {
            "tags": []
          },
          "execution_count": 3
        },
        {
          "output_type": "display_data",
          "data": {
            "image/png": "[encoded data removed]",
            "text/plain": [
              "<Figure size 432x288 with 1 Axes>"
            ]
          },
          "metadata": {
            "tags": []
          }
        }
      ]
    },
    {
      "cell_type": "markdown",
      "metadata": {
        "id": "unKFT619lk3e",
        "colab_type": "text"
      },
      "source": [
        "## 1.2 Create a three-dimensional vecor and plot it on a graph"
      ]
    },
    {
      "cell_type": "code",
      "metadata": {
        "id": "atUEd3T6llKm",
        "colab_type": "code",
        "outputId": "37625e8c-65f6-4068-894c-e713728b7897",
        "colab": {
          "base_uri": "https://localhost:8080/",
          "height": 357
        }
      },
      "source": [
        "# display that in 3D\n",
        "from mpl_toolkits.mplot3d import Axes3D\n",
        "\n",
        "vec_3d = np.array([[0, 0, 0, 1, 1, 1]])\n",
        "vec_3d\n",
        "\n",
        "\n",
        "# unzip that vector\n",
        "X, Y, Z, U, V, W = zip(*vec_3d)\n",
        "for letter in [X, Y, Z, U, V, W]:\n",
        "    print(letter)\n",
        "\n",
        "fig = plt.figure()\n",
        "ax = fig.add_subplot(111, projection='3d')\n",
        "ax.quiver(X, Y, Z, U, V, W, length=1, color='blue', linewidth=2)\n",
        "ax.set_xlim([-0.25, 1.5])\n",
        "ax.set_ylim([-0.25, 1.5])\n",
        "ax.set_zlim([-0.25, 1.5])\n",
        "\n",
        "ax.set_xlabel('X')\n",
        "ax.set_ylabel('Y')\n",
        "ax.set_zlabel('Z')\n",
        "plt.show()"
      ],
      "execution_count": 4,
      "outputs": [
        {
          "output_type": "stream",
          "text": [
            "(0,)\n",
            "(0,)\n",
            "(0,)\n",
            "(1,)\n",
            "(1,)\n",
            "(1,)\n"
          ],
          "name": "stdout"
        },
        {
          "output_type": "display_data",
          "data": {
            "image/png": "[encoded data removed]",
            "text/plain": [
              "<Figure size 432x288 with 1 Axes>"
            ]
          },
          "metadata": {
            "tags": []
          }
        }
      ]
    },
    {
      "cell_type": "markdown",
      "metadata": {
        "id": "b7qFxbKxZmI2",
        "colab_type": "text"
      },
      "source": [
        "## 1.3 Scale the vectors you created in 1.1 by $5$, $\\pi$, and $-e$ and plot all four vectors (original + 3 scaled vectors) on a graph. What do you notice about these vectors? "
      ]
    },
    {
      "cell_type": "code",
      "metadata": {
        "id": "ah6zMSLJdJwL",
        "colab_type": "code",
        "outputId": "4a6cb726-a489-4e3e-94b8-ed678153dacc",
        "colab": {
          "base_uri": "https://localhost:8080/",
          "height": 54
        }
      },
      "source": [
        "from math import e, pi\n",
        "print(e)\n",
        "print(pi)"
      ],
      "execution_count": 5,
      "outputs": [
        {
          "output_type": "stream",
          "text": [
            "2.718281828459045\n",
            "3.141592653589793\n"
          ],
          "name": "stdout"
        }
      ]
    },
    {
      "cell_type": "code",
      "metadata": {
        "id": "3qpwDlzXkVf5",
        "colab_type": "code",
        "outputId": "ab2e4330-adb8-4968-e8c0-b3da704059d3",
        "colab": {
          "base_uri": "https://localhost:8080/",
          "height": 269
        }
      },
      "source": [
        "fig, ax = plt.subplots()\n",
        "ax.grid()\n",
        "plt.xlim(-5, 10)\n",
        "plt.ylim(-5, 10)\n",
        "for mycolor, vector, linewidth, head_width, head_length in [('gold', vec_2d, 20, 0.5, 0.5), ('cyan', vec_2d*5, 5, .5, .5), ('dodgerblue', vec_2d*pi, 8, 1, 1), ('purple', vec_2d*-e, 10, .3, .3)]:\n",
        "  plt.arrow(0,0,\n",
        "            *vector,\n",
        "            head_width=head_width,\n",
        "            head_length=head_length,\n",
        "            linewidth=linewidth,\n",
        "            color=mycolor)\n",
        "plt.show()"
      ],
      "execution_count": 6,
      "outputs": [
        {
          "output_type": "display_data",
          "data": {
            "image/png": "[encoded data removed]",
            "text/plain": [
              "<Figure size 432x288 with 1 Axes>"
            ]
          },
          "metadata": {
            "tags": []
          }
        }
      ]
    },
    {
      "cell_type": "markdown",
      "metadata": {
        "id": "wrgqa6sWimbH",
        "colab_type": "text"
      },
      "source": [
        "## 1.4 Graph vectors $\\vec{a}$ and $\\vec{b}$ and plot them on a graph\n",
        "\n",
        "\\begin{align}\n",
        "\\vec{a} = \\begin{bmatrix} 5 \\\\ 7 \\end{bmatrix}\n",
        "\\qquad\n",
        "\\vec{b} = \\begin{bmatrix} 3 \\\\4 \\end{bmatrix}\n",
        "\\end{align}"
      ]
    },
    {
      "cell_type": "code",
      "metadata": {
        "id": "I1BGXA_skV-b",
        "colab_type": "code",
        "outputId": "62506505-02f9-4cda-faa0-78946e2fd506",
        "colab": {
          "base_uri": "https://localhost:8080/",
          "height": 269
        }
      },
      "source": [
        "vec_a = np.array([5, 7])\n",
        "vec_b = np.array([3, 4])\n",
        "\n",
        "fig, ax = plt.subplots()\n",
        "ax.grid()\n",
        "plt.xlim(-1, 10)\n",
        "plt.ylim(-1, 10)\n",
        "\n",
        "plt.arrow(0, 0, *vec_a, linewidth=1, head_width=.5, head_length=.5, color='gold')\n",
        "plt.arrow(0, 0, *vec_b, linewidth=1, head_width=.5, head_length=.5, color='dodgerblue')\n",
        "\n",
        "plt.show()"
      ],
      "execution_count": 7,
      "outputs": [
        {
          "output_type": "display_data",
          "data": {
            "image/png": "[encoded data removed]",
            "text/plain": [
              "<Figure size 432x288 with 1 Axes>"
            ]
          },
          "metadata": {
            "tags": []
          }
        }
      ]
    },
    {
      "cell_type": "markdown",
      "metadata": {
        "id": "QN6RU_3gizpw",
        "colab_type": "text"
      },
      "source": [
        "## 1.5 find $\\vec{a} - \\vec{b}$ and plot the result on the same graph as $\\vec{a}$ and $\\vec{b}$. Is there a relationship between vectors $\\vec{a} \\thinspace, \\vec{b} \\thinspace \\text{and} \\thinspace \\vec{a-b}$"
      ]
    },
    {
      "cell_type": "code",
      "metadata": {
        "id": "68sWHIOPkXp5",
        "colab_type": "code",
        "outputId": "1cddf12e-449e-4144-97fb-64c5e4657641",
        "colab": {
          "base_uri": "https://localhost:8080/",
          "height": 269
        }
      },
      "source": [
        "vec_ab = vec_a - vec_b\n",
        "\n",
        "fig, ax = plt.subplots()\n",
        "ax.grid()\n",
        "plt.xlim(-1, 10)\n",
        "plt.ylim(-1, 10)\n",
        "\n",
        "plt.arrow(0, 0, *vec_a, linewidth=1, head_width=.5, head_length=.5, color='gold')\n",
        "plt.arrow(0, 0, *vec_b, linewidth=1, head_width=.5, head_length=.5, color='dodgerblue')\n",
        "plt.arrow(0, 0, *vec_ab, linewidth=1, head_width=.5, head_length=.5, color='red')\n",
        "\n",
        "plt.show()\n",
        "\n"
      ],
      "execution_count": 8,
      "outputs": [
        {
          "output_type": "display_data",
          "data": {
            "image/png": "[encoded data removed]",
            "text/plain": [
              "<Figure size 432x288 with 1 Axes>"
            ]
          },
          "metadata": {
            "tags": []
          }
        }
      ]
    },
    {
      "cell_type": "markdown",
      "metadata": {
        "id": "oQsXh7O_ns9x",
        "colab_type": "text"
      },
      "source": [
        "## is there a relationship b/w vec_a, vec_b and vec_ab?\n",
        "yes. vec_ab is a combination of vec_a and -vec_b"
      ]
    },
    {
      "cell_type": "markdown",
      "metadata": {
        "id": "1ZPVuJAlehu_",
        "colab_type": "text"
      },
      "source": [
        "## 1.6 Find $c \\cdot d$\n",
        "\n",
        "\\begin{align}\n",
        "\\vec{c} = \\begin{bmatrix}7 & 22 & 4 & 16\\end{bmatrix}\n",
        "\\qquad\n",
        "\\vec{d} = \\begin{bmatrix}12 & 6 & 2 & 9\\end{bmatrix}\n",
        "\\end{align}\n"
      ]
    },
    {
      "cell_type": "code",
      "metadata": {
        "id": "2_cZQFCskYNr",
        "colab_type": "code",
        "outputId": "c740054b-b0dd-48ab-fb18-3d4db0b3f112",
        "colab": {
          "base_uri": "https://localhost:8080/",
          "height": 35
        }
      },
      "source": [
        "vec_c = np.array([7, 22, 4, 16])\n",
        "vec_d = np.array([12, 6, 2, 9])\n",
        "np.dot(vec_c, vec_d)"
      ],
      "execution_count": 9,
      "outputs": [
        {
          "output_type": "execute_result",
          "data": {
            "text/plain": [
              "368"
            ]
          },
          "metadata": {
            "tags": []
          },
          "execution_count": 9
        }
      ]
    },
    {
      "cell_type": "markdown",
      "metadata": {
        "id": "cLm8yokpfg9B",
        "colab_type": "text"
      },
      "source": [
        "##  1.7 Find $e \\times f$\n",
        "\n",
        "\\begin{align}\n",
        "\\vec{e} = \\begin{bmatrix} 5 \\\\ 7 \\\\ 2 \\end{bmatrix}\n",
        "\\qquad\n",
        "\\vec{f} = \\begin{bmatrix} 3 \\\\4 \\\\ 6 \\end{bmatrix}\n",
        "\\end{align}"
      ]
    },
    {
      "cell_type": "code",
      "metadata": {
        "id": "ku-TdCKAkYs8",
        "colab_type": "code",
        "outputId": "f731837e-5841-4c79-eadb-cd8f41bf8416",
        "colab": {
          "base_uri": "https://localhost:8080/",
          "height": 72
        }
      },
      "source": [
        "vec_e = np.array([[5, 7, 2]]).T\n",
        "vec_f = np.array([[3, 4, 6]]).T\n",
        "np.cross(vec_e, vec_f, axis=0)"
      ],
      "execution_count": 10,
      "outputs": [
        {
          "output_type": "execute_result",
          "data": {
            "text/plain": [
              "array([[ 34],\n",
              "       [-24],\n",
              "       [ -1]])"
            ]
          },
          "metadata": {
            "tags": []
          },
          "execution_count": 10
        }
      ]
    },
    {
      "cell_type": "markdown",
      "metadata": {
        "id": "-TN8wO2-h53s",
        "colab_type": "text"
      },
      "source": [
        "## 1.8 Find $||g||$ and then find $||h||$. Which is longer?\n",
        "\n",
        "\\begin{align}\n",
        "\\vec{g} = \\begin{bmatrix} 1 \\\\ 1 \\\\ 1 \\\\ 8 \\end{bmatrix}\n",
        "\\qquad\n",
        "\\vec{h} = \\begin{bmatrix} 3 \\\\3 \\\\ 3 \\\\ 3 \\end{bmatrix}\n",
        "\\end{align}"
      ]
    },
    {
      "cell_type": "code",
      "metadata": {
        "id": "-5VKOMKBlgaA",
        "colab_type": "code",
        "outputId": "4355f006-d7b8-4f3d-916b-3489a82bd601",
        "colab": {
          "base_uri": "https://localhost:8080/",
          "height": 35
        }
      },
      "source": [
        "vec_g = np.array([1, 1, 1, 8])\n",
        "vec_h = np.array([3, 3, 3, 3])\n",
        "\n",
        "norm_g = np.linalg.norm(vec_g)\n",
        "norm_h = np.linalg.norm(vec_h)\n",
        "\n",
        "norm_g - norm_h\n",
        "# vec_g is longer"
      ],
      "execution_count": 11,
      "outputs": [
        {
          "output_type": "execute_result",
          "data": {
            "text/plain": [
              "2.1853527718724504"
            ]
          },
          "metadata": {
            "tags": []
          },
          "execution_count": 11
        }
      ]
    },
    {
      "cell_type": "markdown",
      "metadata": {
        "id": "njrWIMS-ZAoH",
        "colab_type": "text"
      },
      "source": [
        "# Part 2 - Matrices"
      ]
    },
    {
      "cell_type": "markdown",
      "metadata": {
        "id": "GjkcAVIOmOnn",
        "colab_type": "text"
      },
      "source": [
        "## 2.1 What are the dimensions of the following matrices? Which of the following can be multiplied together? See if you can find all of the different legal combinations.\n",
        "\\begin{align}\n",
        "A = \\begin{bmatrix}\n",
        "1 & 2 \\\\\n",
        "3 & 4 \\\\\n",
        "5 & 6\n",
        "\\end{bmatrix}\n",
        "\\qquad\n",
        "B = \\begin{bmatrix}\n",
        "2 & 4 & 6 \\\\\n",
        "\\end{bmatrix}\n",
        "\\qquad\n",
        "C = \\begin{bmatrix}\n",
        "9 & 6 & 3 \\\\\n",
        "4 & 7 & 11\n",
        "\\end{bmatrix}\n",
        "\\qquad\n",
        "D = \\begin{bmatrix}\n",
        "1 & 0 & 0 \\\\\n",
        "0 & 1 & 0 \\\\\n",
        "0 & 0 & 1\n",
        "\\end{bmatrix}\n",
        "\\qquad\n",
        "E = \\begin{bmatrix}\n",
        "1 & 3 \\\\\n",
        "5 & 7\n",
        "\\end{bmatrix}\n",
        "\\end{align}"
      ]
    },
    {
      "cell_type": "code",
      "metadata": {
        "id": "Z69c-uPtnbIx",
        "colab_type": "code",
        "outputId": "2f59f792-595d-4fd9-8d14-0300e5f2f9ec",
        "colab": {
          "base_uri": "https://localhost:8080/",
          "height": 108
        }
      },
      "source": [
        "vec_A = np.array([[1, 2], [3, 4], [5, 6]])\n",
        "vec_B = np.array([[2, 4, 6]])\n",
        "vec_C = np.array([[9, 6, 3], [4, 7, 11]])\n",
        "vec_D = np.identity(3)\n",
        "vec_E = np.array([[1, 3], [5, 7]])\n",
        "\n",
        "print('sahpe for vec_A: ', vec_A.shape)\n",
        "print('sahpe for vec_B: ', vec_B.shape)\n",
        "print('sahpe for vec_C: ', vec_C.shape)\n",
        "print('sahpe for vec_D: ', vec_D.shape)\n",
        "print('sahpe for vec_E: ', vec_E.shape)"
      ],
      "execution_count": 12,
      "outputs": [
        {
          "output_type": "stream",
          "text": [
            "sahpe for vec_A:  (3, 2)\n",
            "sahpe for vec_B:  (1, 3)\n",
            "sahpe for vec_C:  (2, 3)\n",
            "sahpe for vec_D:  (3, 3)\n",
            "sahpe for vec_E:  (2, 2)\n"
          ],
          "name": "stdout"
        }
      ]
    },
    {
      "cell_type": "markdown",
      "metadata": {
        "id": "kGxs57b0tu7N",
        "colab_type": "text"
      },
      "source": [
        "## possible combination for multiplication\n",
        "1. vec_A and vec_C\n",
        "2. vec_A and vec_E\n",
        "3. vec_B and vec_A\n",
        "4. vec_B and vec_D\n",
        "5. vec_C and vec_A\n",
        "6. vec_C and vec_D\n",
        "7. vec_D and vec_A\n",
        "8. vec_E and vec_C"
      ]
    },
    {
      "cell_type": "markdown",
      "metadata": {
        "id": "lMOlCoM3ncGa",
        "colab_type": "text"
      },
      "source": [
        "## 2.2 Find the following products: CD, AE, and BA. What are the dimensions of the resulting matrices? How does that relate to the dimensions of their factor matrices?"
      ]
    },
    {
      "cell_type": "code",
      "metadata": {
        "id": "zhKwiSItoE2F",
        "colab_type": "code",
        "outputId": "dded91bc-0b83-44a7-87f5-738d4e760997",
        "colab": {
          "base_uri": "https://localhost:8080/",
          "height": 54
        }
      },
      "source": [
        "vec_CxD = np.cross(vec_C, vec_D, axis=0)\n",
        "vec_AxE = np.cross(vec_A, vec_E, axis=0)\n",
        "# vec_BxA = np.cross(vec_B, vec_A, axis=0)\n",
        "print('dimensions for vec_CxD): ', vec_CxD.shape)\n",
        "print('dimensions for vec_AxE): ', vec_AxE.shape)\n",
        "# print('dimensions for vec_BxA): ', vec_BxA.shape)"
      ],
      "execution_count": 13,
      "outputs": [
        {
          "output_type": "stream",
          "text": [
            "dimensions for vec_CxD):  (3, 3)\n",
            "dimensions for vec_AxE):  (3, 2)\n"
          ],
          "name": "stdout"
        }
      ]
    },
    {
      "cell_type": "markdown",
      "metadata": {
        "id": "p2jmaGLgoFPN",
        "colab_type": "text"
      },
      "source": [
        "## 2.3  Find $F^{T}$. How are the numbers along the main diagonal (top left to bottom right) of the original matrix and its transpose related? What are the dimensions of $F$? What are the dimensions of $F^{T}$?\n",
        "\n",
        "\\begin{align}\n",
        "F = \n",
        "\\begin{bmatrix}\n",
        "20 & 19 & 18 & 17 \\\\\n",
        "16 & 15 & 14 & 13 \\\\\n",
        "12 & 11 & 10 & 9 \\\\\n",
        "8 & 7 & 6 & 5 \\\\\n",
        "4 & 3 & 2 & 1\n",
        "\\end{bmatrix}\n",
        "\\end{align}"
      ]
    },
    {
      "cell_type": "code",
      "metadata": {
        "id": "Wl3ElwgLqaAn",
        "colab_type": "code",
        "outputId": "3237f55e-e920-40ea-e85b-5a935b498c47",
        "colab": {
          "base_uri": "https://localhost:8080/",
          "height": 90
        }
      },
      "source": [
        "vec_F = np.array([\n",
        "                  [20, 19, 18, 17],\n",
        "                  [16, 15, 14, 13],\n",
        "                  [8, 7, 6, 5],\n",
        "                  [4, 3, 2, 1],\n",
        "])\n",
        "vec_F"
      ],
      "execution_count": 14,
      "outputs": [
        {
          "output_type": "execute_result",
          "data": {
            "text/plain": [
              "array([[20, 19, 18, 17],\n",
              "       [16, 15, 14, 13],\n",
              "       [ 8,  7,  6,  5],\n",
              "       [ 4,  3,  2,  1]])"
            ]
          },
          "metadata": {
            "tags": []
          },
          "execution_count": 14
        }
      ]
    },
    {
      "cell_type": "code",
      "metadata": {
        "id": "X09wSKVwylCn",
        "colab_type": "code",
        "outputId": "36a9781a-8855-450f-9225-630d1e512d45",
        "colab": {
          "base_uri": "https://localhost:8080/",
          "height": 35
        }
      },
      "source": [
        "vec_F.shape"
      ],
      "execution_count": 15,
      "outputs": [
        {
          "output_type": "execute_result",
          "data": {
            "text/plain": [
              "(4, 4)"
            ]
          },
          "metadata": {
            "tags": []
          },
          "execution_count": 15
        }
      ]
    },
    {
      "cell_type": "code",
      "metadata": {
        "id": "WA9Yy0OVyuhR",
        "colab_type": "code",
        "outputId": "7994026d-a8b4-4576-b47d-4b24789a94b9",
        "colab": {
          "base_uri": "https://localhost:8080/",
          "height": 90
        }
      },
      "source": [
        "vec_F.T"
      ],
      "execution_count": 16,
      "outputs": [
        {
          "output_type": "execute_result",
          "data": {
            "text/plain": [
              "array([[20, 16,  8,  4],\n",
              "       [19, 15,  7,  3],\n",
              "       [18, 14,  6,  2],\n",
              "       [17, 13,  5,  1]])"
            ]
          },
          "metadata": {
            "tags": []
          },
          "execution_count": 16
        }
      ]
    },
    {
      "cell_type": "code",
      "metadata": {
        "id": "cPcNjxAVynXi",
        "colab_type": "code",
        "outputId": "86399564-fe49-498e-a39b-efcd5544f435",
        "colab": {
          "base_uri": "https://localhost:8080/",
          "height": 35
        }
      },
      "source": [
        "vec_F.T.shape"
      ],
      "execution_count": 17,
      "outputs": [
        {
          "output_type": "execute_result",
          "data": {
            "text/plain": [
              "(4, 4)"
            ]
          },
          "metadata": {
            "tags": []
          },
          "execution_count": 17
        }
      ]
    },
    {
      "cell_type": "markdown",
      "metadata": {
        "id": "F4SEdIZgywPP",
        "colab_type": "text"
      },
      "source": [
        "# F and F_T\n",
        "the main diagonal values for vec_F and vec_F.T are the same"
      ]
    },
    {
      "cell_type": "markdown",
      "metadata": {
        "id": "13ik2LEEZLHn",
        "colab_type": "text"
      },
      "source": [
        "# Part 3 - Square Matrices"
      ]
    },
    {
      "cell_type": "markdown",
      "metadata": {
        "id": "sDBAPUwfp7f7",
        "colab_type": "text"
      },
      "source": [
        "## 3.1 Find $IG$ (be sure to show your work) 😃\n",
        "\n",
        "You don't have to do anything crazy complicated here to show your work, just create the G matrix as specified below, and a corresponding 2x2 Identity matrix and then multiply them together to show the result. You don't need to write LaTeX or anything like that (unless you want to).\n",
        "\n",
        "\\begin{align}\n",
        "G= \n",
        "\\begin{bmatrix}\n",
        "13 & 14 \\\\\n",
        "21 & 12 \n",
        "\\end{bmatrix}\n",
        "\\end{align}"
      ]
    },
    {
      "cell_type": "code",
      "metadata": {
        "id": "ZnqvZBOYqar3",
        "colab_type": "code",
        "outputId": "3ec632a7-8ad2-480a-996b-92818f32b6d6",
        "colab": {
          "base_uri": "https://localhost:8080/",
          "height": 272
        }
      },
      "source": [
        "vec_G = np.array([[13, 14], [21, 12]])\n",
        "vec_ix = np.identity(2)\n",
        "\n",
        "print('vec_G: \\n', vec_G)\n",
        "print('vec_ix: \\n', vec_ix)\n",
        "\n",
        "result_dot = np.dot(vec_G, vec_ix)\n",
        "result_cross = np.cross(vec_G, vec_ix, axis=0)\n",
        "print('dot product of vec_G x identity: \\n', result_dot)\n",
        "print('cross product of vec_G x identity: \\n', result_cross)\n",
        "# I was told that I am supposed to use matmul method here\n",
        "# I don't 100% understand why\n",
        "result = np.matmul(vec_G, vec_ix)\n",
        "print('mutiplication result of vec_G x and identity: \\n', result)\n"
      ],
      "execution_count": 18,
      "outputs": [
        {
          "output_type": "stream",
          "text": [
            "vec_G: \n",
            " [[13 14]\n",
            " [21 12]]\n",
            "vec_ix: \n",
            " [[1. 0.]\n",
            " [0. 1.]]\n",
            "dot product of vec_G x identity: \n",
            " [[13. 14.]\n",
            " [21. 12.]]\n",
            "cross product of vec_G x identity: \n",
            " [-21.  14.]\n",
            "mutiplication result of vec_G x and identity: \n",
            " [[13. 14.]\n",
            " [21. 12.]]\n"
          ],
          "name": "stdout"
        }
      ]
    },
    {
      "cell_type": "markdown",
      "metadata": {
        "id": "DZ_0XTDQqpMT",
        "colab_type": "text"
      },
      "source": [
        "## 3.2 Find $|H|$ and then find $|J|$.\n",
        "\n",
        "\\begin{align}\n",
        "H= \n",
        "\\begin{bmatrix}\n",
        "12 & 11 \\\\\n",
        "7 & 10 \n",
        "\\end{bmatrix}\n",
        "\\qquad\n",
        "J= \n",
        "\\begin{bmatrix}\n",
        "0 & 1 & 2 \\\\\n",
        "7 & 10 & 4 \\\\\n",
        "3 & 2 & 0\n",
        "\\end{bmatrix}\n",
        "\\end{align}\n"
      ]
    },
    {
      "cell_type": "code",
      "metadata": {
        "id": "5QShhoXyrjDS",
        "colab_type": "code",
        "colab": {
          "base_uri": "https://localhost:8080/",
          "height": 54
        },
        "outputId": "469cf9d1-0bca-42ce-a993-e086ade77f84"
      },
      "source": [
        "vec_H = np.array([[12, 11], [7, 10]])\n",
        "vec_J = np.array([[0, 1, 2], [7, 10, 4], [3, 2, 0]])\n",
        "\n",
        "norm_vec_H = np.linalg.norm(vec_H)\n",
        "norm_vec_J = np.linalg.norm(vec_J)\n",
        "\n",
        "print('norm for vec H is: ', '{0:.2f}'.format(norm_vec_H))\n",
        "print('norm for vec J is: ', '{0:.2f}'.format(norm_vec_J))"
      ],
      "execution_count": 27,
      "outputs": [
        {
          "output_type": "stream",
          "text": [
            "norm for vec H is:  20.35\n",
            "norm for vec J is:  13.53\n"
          ],
          "name": "stdout"
        }
      ]
    },
    {
      "cell_type": "markdown",
      "metadata": {
        "id": "2gZl1CFwrXSH",
        "colab_type": "text"
      },
      "source": [
        "## 3.3 Find $H^{-1}$ and then find $J^{-1}$"
      ]
    },
    {
      "cell_type": "code",
      "metadata": {
        "id": "nyX6De2-rio1",
        "colab_type": "code",
        "colab": {
          "base_uri": "https://localhost:8080/",
          "height": 145
        },
        "outputId": "79ebe216-8c51-4237-d4a0-59e6cbefe727"
      },
      "source": [
        "vec_H_inv = np.linalg.inv(vec_H)\n",
        "vec_J_inv = np.linalg.inv(vec_J)\n",
        "\n",
        "print('vec H inv is:\\n', vec_H_inv)\n",
        "print('vec J inv is:\\n', vec_J_inv)"
      ],
      "execution_count": 29,
      "outputs": [
        {
          "output_type": "stream",
          "text": [
            "vec H inv is:\n",
            " [[ 0.23255814 -0.25581395]\n",
            " [-0.1627907   0.27906977]]\n",
            "vec J inv is:\n",
            " [[ 0.4  -0.2   0.8 ]\n",
            " [-0.6   0.3  -0.7 ]\n",
            " [ 0.8  -0.15  0.35]]\n"
          ],
          "name": "stdout"
        }
      ]
    },
    {
      "cell_type": "markdown",
      "metadata": {
        "id": "Vvd4Pe86rjhW",
        "colab_type": "text"
      },
      "source": [
        "## 3.4 Find $HH^{-1}$ and then find $J^{-1}J$. Is $HH^{-1} == J^{-1}J$? Why or Why not? \n",
        "\n",
        "Please ignore Python rounding errors. If necessary, format your output so that it rounds to 5 significant digits (the fifth decimal place)."
      ]
    },
    {
      "cell_type": "code",
      "metadata": {
        "id": "Zsvfuq_XIeer",
        "colab_type": "code",
        "colab": {
          "base_uri": "https://localhost:8080/",
          "height": 145
        },
        "outputId": "e33237e0-0be6-4ee7-ef01-2250ea86399f"
      },
      "source": [
        "result_1 = np.matmul(vec_H, vec_H_inv)\n",
        "result_2 = np.matmul(vec_J, vec_J_inv)\n",
        "\n",
        "print('result H H^-1\\n', np.round(result_1))\n",
        "print('result J J^-1\\n', np.round(result_2))"
      ],
      "execution_count": 36,
      "outputs": [
        {
          "output_type": "stream",
          "text": [
            "result H H^-1\n",
            " [[1. 0.]\n",
            " [0. 1.]]\n",
            "result J J^-1\n",
            " [[ 1. -0.  0.]\n",
            " [ 0.  1.  0.]\n",
            " [ 0.  0.  1.]]\n"
          ],
          "name": "stdout"
        }
      ]
    },
    {
      "cell_type": "markdown",
      "metadata": {
        "id": "V0iTO4McYjtk",
        "colab_type": "text"
      },
      "source": [
        "# Stretch Goals: \n",
        "\n",
        "A reminder that these challenges are optional. If you finish your work quickly we welcome you to work on them. If there are other activities that you feel like will help your understanding of the above topics more, feel free to work on that. Topics from the Stretch Goals sections will never end up on Sprint Challenges. You don't have to do these in order, you don't have to do all of them. \n",
        "\n",
        "- Write a function that can calculate the dot product of any two vectors of equal length that are passed to it.\n",
        "- Write a function that can calculate the norm of any vector\n",
        "- Prove to yourself again that the vectors in 1.9 are orthogonal by graphing them. \n",
        "- Research how to plot a 3d graph with animations so that you can make the graph rotate (this will be easier in a local notebook than in google colab)\n",
        "- Create and plot a matrix on a 2d graph.\n",
        "- Create and plot a matrix on a 3d graph.\n",
        "- Plot two vectors that are not collinear on a 2d graph. Calculate the determinant of the 2x2 matrix that these vectors form. How does this determinant relate to the graphical interpretation of the vectors?\n",
        "\n"
      ]
    }
  ]
}