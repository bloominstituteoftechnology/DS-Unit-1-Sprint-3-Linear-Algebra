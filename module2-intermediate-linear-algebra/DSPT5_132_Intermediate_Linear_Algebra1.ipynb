{
  "nbformat": 4,
  "nbformat_minor": 0,
  "metadata": {
    "colab": {
      "name": "DSPT5_132_Intermediate_Linear_Algebra1.ipynb",
      "provenance": [],
      "collapsed_sections": [],
      "include_colab_link": true
    },
    "kernelspec": {
      "display_name": "Python 3",
      "language": "python",
      "name": "python3"
    },
    "language_info": {
      "codemirror_mode": {
        "name": "ipython",
        "version": 3
      },
      "file_extension": ".py",
      "mimetype": "text/x-python",
      "name": "python",
      "nbconvert_exporter": "python",
      "pygments_lexer": "ipython3",
      "version": "3.7.3"
    }
  },
  "cells": [
    {
      "cell_type": "markdown",
      "metadata": {
        "id": "view-in-github",
        "colab_type": "text"
      },
      "source": [
        "<a href=\"https://colab.research.google.com/github/jiobu1/DS-Unit-1-Sprint-3-Linear-Algebra/blob/master/module2-intermediate-linear-algebra/DSPT5_132_Intermediate_Linear_Algebra1.ipynb\" target=\"_parent\"><img src=\"https://colab.research.google.com/assets/colab-badge.svg\" alt=\"Open In Colab\"/></a>"
      ]
    },
    {
      "cell_type": "markdown",
      "metadata": {
        "colab_type": "text",
        "id": "GSNiYn8lr6nN"
      },
      "source": [
        "## 1. A review of statistical terms"
      ]
    },
    {
      "cell_type": "markdown",
      "metadata": {
        "colab_type": "text",
        "id": "3d4izUhQvh2_"
      },
      "source": [
        "### 1.1 Variance & Standard Deviation\n",
        "Suppose we have a list of widgets. What is the mean, variance, and standard deviation of this list?"
      ]
    },
    {
      "cell_type": "code",
      "metadata": {
        "id": "_ixh0yOhdT8p",
        "colab_type": "code",
        "colab": {}
      },
      "source": [
        "# here's the list.\n",
        "widgets = [451, 330, 570, 390, 410]"
      ],
      "execution_count": 0,
      "outputs": []
    },
    {
      "cell_type": "code",
      "metadata": {
        "id": "1d4sanqddT8t",
        "colab_type": "code",
        "colab": {}
      },
      "source": [
        "# which libraries should we import here?\n",
        "import numpy as np\n",
        "import pandas as pd\n",
        "import math"
      ],
      "execution_count": 0,
      "outputs": []
    },
    {
      "cell_type": "code",
      "metadata": {
        "id": "upq9JnN-dT8x",
        "colab_type": "code",
        "outputId": "6c7a08e7-ce65-4612-fc69-9dc6f7409cb3",
        "colab": {
          "base_uri": "https://localhost:8080/",
          "height": 34
        }
      },
      "source": [
        "# find the mean\n",
        "total = sum(widgets)\n",
        "mean_widgets=total/len(widgets)\n",
        "mean_widgets"
      ],
      "execution_count": 0,
      "outputs": [
        {
          "output_type": "execute_result",
          "data": {
            "text/plain": [
              "430.2"
            ]
          },
          "metadata": {
            "tags": []
          },
          "execution_count": 3
        }
      ]
    },
    {
      "cell_type": "markdown",
      "metadata": {
        "id": "Z5544OxddT84",
        "colab_type": "text"
      },
      "source": [
        "#### Variance"
      ]
    },
    {
      "cell_type": "code",
      "metadata": {
        "id": "0yUn12czdT85",
        "colab_type": "code",
        "outputId": "c60ada43-70e5-4ae9-a4fe-2318e910d707",
        "colab": {
          "base_uri": "https://localhost:8080/",
          "height": 34
        }
      },
      "source": [
        "# first write a little function \n",
        "def subtract_mean(number):\n",
        "  return number-mean_widgets\n",
        "# Note: this can be converted to lambda for efficiency:\n",
        "\n",
        "lambda x:x-mean-widgets"
      ],
      "execution_count": 0,
      "outputs": [
        {
          "output_type": "execute_result",
          "data": {
            "text/plain": [
              "<function __main__.<lambda>>"
            ]
          },
          "metadata": {
            "tags": []
          },
          "execution_count": 4
        }
      ]
    },
    {
      "cell_type": "code",
      "metadata": {
        "id": "Xbe1y44ldT89",
        "colab_type": "code",
        "outputId": "d51d58b4-02ad-4244-9446-df7cbc999b46",
        "colab": {
          "base_uri": "https://localhost:8080/",
          "height": 102
        }
      },
      "source": [
        "# use `map` to apply that function to our list \n",
        "distances = list(map(subtract_mean, widgets))\n",
        "distances"
      ],
      "execution_count": 0,
      "outputs": [
        {
          "output_type": "execute_result",
          "data": {
            "text/plain": [
              "[20.80000000000001,\n",
              " -100.19999999999999,\n",
              " 139.8,\n",
              " -40.19999999999999,\n",
              " -20.19999999999999]"
            ]
          },
          "metadata": {
            "tags": []
          },
          "execution_count": 5
        }
      ]
    },
    {
      "cell_type": "code",
      "metadata": {
        "id": "ZeF0jqGJdT9A",
        "colab_type": "code",
        "outputId": "3b04d987-a508-4b6d-ebaf-f3a5dd9d8ae7",
        "colab": {
          "base_uri": "https://localhost:8080/",
          "height": 102
        }
      },
      "source": [
        "# square and sum all of those distances\n",
        "squared_distances = list(map(lambda x: x**2, distances))\n",
        "squared_distances"
      ],
      "execution_count": 0,
      "outputs": [
        {
          "output_type": "execute_result",
          "data": {
            "text/plain": [
              "[432.6400000000005,\n",
              " 10040.039999999997,\n",
              " 19544.040000000005,\n",
              " 1616.039999999999,\n",
              " 408.03999999999957]"
            ]
          },
          "metadata": {
            "tags": []
          },
          "execution_count": 6
        }
      ]
    },
    {
      "cell_type": "code",
      "metadata": {
        "id": "bVT36XYadT9D",
        "colab_type": "code",
        "colab": {}
      },
      "source": [
        "# how long is our list?\n",
        "\n",
        "# for a sample taken from a population\n",
        "list_length_sample = len(squared_distances)-1\n",
        "\n",
        "# for a whole population (no sample)\n",
        "list_length_pop = len(squared_distances)"
      ],
      "execution_count": 0,
      "outputs": []
    },
    {
      "cell_type": "code",
      "metadata": {
        "id": "H8_Hkp2DdT9I",
        "colab_type": "code",
        "outputId": "07614927-5a87-4395-8880-e5396d40a591",
        "colab": {
          "base_uri": "https://localhost:8080/",
          "height": 34
        }
      },
      "source": [
        "# calculate variance\n",
        "variance_widgets = sum(squared_distances)/list_length_pop\n",
        "print('{:.2f}'.format(variance_widgets))"
      ],
      "execution_count": 0,
      "outputs": [
        {
          "output_type": "stream",
          "text": [
            "6408.16\n"
          ],
          "name": "stdout"
        }
      ]
    },
    {
      "cell_type": "markdown",
      "metadata": {
        "id": "GqzHG81AdT9L",
        "colab_type": "text"
      },
      "source": [
        "#### standard dev"
      ]
    },
    {
      "cell_type": "code",
      "metadata": {
        "id": "0wsvGWi2dT9N",
        "colab_type": "code",
        "outputId": "17502e84-35f2-43d4-9d55-13f854afc2a8",
        "colab": {
          "base_uri": "https://localhost:8080/",
          "height": 51
        }
      },
      "source": [
        "# calculate the standard deviation\n",
        "print('{:.2f}'.format(math.sqrt(variance_widgets)))\n",
        "print('{:.2f}'.format(np.sqrt(variance_widgets)))\n"
      ],
      "execution_count": 0,
      "outputs": [
        {
          "output_type": "stream",
          "text": [
            "80.05\n",
            "80.05\n"
          ],
          "name": "stdout"
        }
      ]
    },
    {
      "cell_type": "code",
      "metadata": {
        "id": "VSZfVyDidT9R",
        "colab_type": "code",
        "outputId": "e1de66e8-541f-4c8d-c310-bb7441a91dfe",
        "colab": {
          "base_uri": "https://localhost:8080/",
          "height": 68
        }
      },
      "source": [
        "# check our work using numpy\n",
        "print('{:.2f}'.format(np.mean(widgets)))\n",
        "print('{:.2f}'.format(np.var(widgets)))\n",
        "print('{:.2f}'.format(np.std(widgets)))"
      ],
      "execution_count": 0,
      "outputs": [
        {
          "output_type": "stream",
          "text": [
            "430.20\n",
            "6408.16\n",
            "80.05\n"
          ],
          "name": "stdout"
        }
      ]
    },
    {
      "cell_type": "code",
      "metadata": {
        "colab_type": "code",
        "id": "w1iZfYvBtEA1",
        "outputId": "bc79cc39-1cb5-47f9-c93f-36af6e0d4e5f",
        "colab": {
          "base_uri": "https://localhost:8080/",
          "height": 34
        }
      },
      "source": [
        "# check our work using pandas\n",
        "widgets_df = pd.DataFrame({'widgets':widgets})\n",
        "print('mean:', widgets_df['widgets'].mean())"
      ],
      "execution_count": 0,
      "outputs": [
        {
          "output_type": "stream",
          "text": [
            "mean: 430.2\n"
          ],
          "name": "stdout"
        }
      ]
    },
    {
      "cell_type": "code",
      "metadata": {
        "id": "YTzc7-kadT9Y",
        "colab_type": "code",
        "outputId": "8a9e8200-2551-49f3-ce2a-0ba6e93f70a5",
        "colab": {
          "base_uri": "https://localhost:8080/",
          "height": 51
        }
      },
      "source": [
        "# for a population\n",
        "print('{:.2f}'.format(widgets_df['widgets'].var(ddof=0)))\n",
        "print('{:.2f}'.format(widgets_df['widgets'].std(ddof=0)))"
      ],
      "execution_count": 0,
      "outputs": [
        {
          "output_type": "stream",
          "text": [
            "6408.16\n",
            "80.05\n"
          ],
          "name": "stdout"
        }
      ]
    },
    {
      "cell_type": "code",
      "metadata": {
        "id": "iRIOusUadT9b",
        "colab_type": "code",
        "outputId": "eba71979-38f2-434f-b4aa-a9252b961813",
        "colab": {
          "base_uri": "https://localhost:8080/",
          "height": 51
        }
      },
      "source": [
        "# for a sample\n",
        "print('{:.2f}'.format(widgets_df['widgets'].var(ddof=1)))\n",
        "print('{:.2f}'.format(widgets_df['widgets'].std(ddof=1)))"
      ],
      "execution_count": 0,
      "outputs": [
        {
          "output_type": "stream",
          "text": [
            "8010.20\n",
            "89.50\n"
          ],
          "name": "stdout"
        }
      ]
    },
    {
      "cell_type": "markdown",
      "metadata": {
        "colab_type": "text",
        "id": "oh63KaOctEp_"
      },
      "source": [
        "### 1.2 Covariance\n",
        "Find the covariance between widgets and gadgets."
      ]
    },
    {
      "cell_type": "code",
      "metadata": {
        "colab_type": "code",
        "id": "G7ZB0krot564",
        "colab": {}
      },
      "source": [
        "# make a new list\n",
        "gadgets = [410, 505, 371, 220, 625]"
      ],
      "execution_count": 0,
      "outputs": []
    },
    {
      "cell_type": "code",
      "metadata": {
        "id": "YSs3GMkWdT9i",
        "colab_type": "code",
        "outputId": "8358babb-c276-44c8-987e-0b1ba13fede2",
        "colab": {
          "base_uri": "https://localhost:8080/",
          "height": 51
        }
      },
      "source": [
        "# using numpy\n",
        "np.cov(widgets, gadgets)"
      ],
      "execution_count": 0,
      "outputs": [
        {
          "output_type": "execute_result",
          "data": {
            "text/plain": [
              "array([[ 8010.2 , -2919.05],\n",
              "       [-2919.05, 22889.7 ]])"
            ]
          },
          "metadata": {
            "tags": []
          },
          "execution_count": 15
        }
      ]
    },
    {
      "cell_type": "code",
      "metadata": {
        "id": "Bz1nV-60dT9l",
        "colab_type": "code",
        "outputId": "68a8c453-f45f-40ca-878b-b619700f7c25",
        "colab": {
          "base_uri": "https://localhost:8080/",
          "height": 204
        }
      },
      "source": [
        "# using pandas\n",
        "widgets_df['gadgets']= pd.Series(gadgets)\n",
        "widgets_df"
      ],
      "execution_count": 0,
      "outputs": [
        {
          "output_type": "execute_result",
          "data": {
            "text/html": [
              "<div>\n",
              "<style scoped>\n",
              "    .dataframe tbody tr th:only-of-type {\n",
              "        vertical-align: middle;\n",
              "    }\n",
              "\n",
              "    .dataframe tbody tr th {\n",
              "        vertical-align: top;\n",
              "    }\n",
              "\n",
              "    .dataframe thead th {\n",
              "        text-align: right;\n",
              "    }\n",
              "</style>\n",
              "<table border=\"1\" class=\"dataframe\">\n",
              "  <thead>\n",
              "    <tr style=\"text-align: right;\">\n",
              "      <th></th>\n",
              "      <th>widgets</th>\n",
              "      <th>gadgets</th>\n",
              "    </tr>\n",
              "  </thead>\n",
              "  <tbody>\n",
              "    <tr>\n",
              "      <th>0</th>\n",
              "      <td>451</td>\n",
              "      <td>410</td>\n",
              "    </tr>\n",
              "    <tr>\n",
              "      <th>1</th>\n",
              "      <td>330</td>\n",
              "      <td>505</td>\n",
              "    </tr>\n",
              "    <tr>\n",
              "      <th>2</th>\n",
              "      <td>570</td>\n",
              "      <td>371</td>\n",
              "    </tr>\n",
              "    <tr>\n",
              "      <th>3</th>\n",
              "      <td>390</td>\n",
              "      <td>220</td>\n",
              "    </tr>\n",
              "    <tr>\n",
              "      <th>4</th>\n",
              "      <td>410</td>\n",
              "      <td>625</td>\n",
              "    </tr>\n",
              "  </tbody>\n",
              "</table>\n",
              "</div>"
            ],
            "text/plain": [
              "   widgets  gadgets\n",
              "0      451      410\n",
              "1      330      505\n",
              "2      570      371\n",
              "3      390      220\n",
              "4      410      625"
            ]
          },
          "metadata": {
            "tags": []
          },
          "execution_count": 16
        }
      ]
    },
    {
      "cell_type": "code",
      "metadata": {
        "id": "hcrfgUevrOPP",
        "colab_type": "code",
        "outputId": "10890f40-5191-4b98-dd76-0f0a97f73d06",
        "colab": {
          "base_uri": "https://localhost:8080/",
          "height": 111
        }
      },
      "source": [
        "widgets_df.cov()"
      ],
      "execution_count": 0,
      "outputs": [
        {
          "output_type": "execute_result",
          "data": {
            "text/html": [
              "<div>\n",
              "<style scoped>\n",
              "    .dataframe tbody tr th:only-of-type {\n",
              "        vertical-align: middle;\n",
              "    }\n",
              "\n",
              "    .dataframe tbody tr th {\n",
              "        vertical-align: top;\n",
              "    }\n",
              "\n",
              "    .dataframe thead th {\n",
              "        text-align: right;\n",
              "    }\n",
              "</style>\n",
              "<table border=\"1\" class=\"dataframe\">\n",
              "  <thead>\n",
              "    <tr style=\"text-align: right;\">\n",
              "      <th></th>\n",
              "      <th>widgets</th>\n",
              "      <th>gadgets</th>\n",
              "    </tr>\n",
              "  </thead>\n",
              "  <tbody>\n",
              "    <tr>\n",
              "      <th>widgets</th>\n",
              "      <td>8010.20</td>\n",
              "      <td>-2919.05</td>\n",
              "    </tr>\n",
              "    <tr>\n",
              "      <th>gadgets</th>\n",
              "      <td>-2919.05</td>\n",
              "      <td>22889.70</td>\n",
              "    </tr>\n",
              "  </tbody>\n",
              "</table>\n",
              "</div>"
            ],
            "text/plain": [
              "         widgets   gadgets\n",
              "widgets  8010.20  -2919.05\n",
              "gadgets -2919.05  22889.70"
            ]
          },
          "metadata": {
            "tags": []
          },
          "execution_count": 17
        }
      ]
    },
    {
      "cell_type": "markdown",
      "metadata": {
        "colab_type": "text",
        "id": "J9SbUY9mt66I"
      },
      "source": [
        "### 1.3 Correlation Coefficient \n",
        "Find the correlation coefficient that summarizes the relationship between widgets and gadgets. "
      ]
    },
    {
      "cell_type": "code",
      "metadata": {
        "id": "-_fdZ2eHdT9o",
        "colab_type": "code",
        "colab": {}
      },
      "source": [
        "# Calculate the standard dev of both lists using pandas.\n",
        "std_w = widgets_df['widgets'].std(ddof=1)\n",
        "std_g = widgets_df['gadgets'].std(ddof=1)"
      ],
      "execution_count": 0,
      "outputs": []
    },
    {
      "cell_type": "code",
      "metadata": {
        "id": "TbjOs-EqdT9r",
        "colab_type": "code",
        "outputId": "82973e49-9e83-498d-9dc2-c82798fb621e",
        "colab": {
          "base_uri": "https://localhost:8080/",
          "height": 34
        }
      },
      "source": [
        "# Calculate covariance using pandas\n",
        "cov_wg = widgets_df['widgets'].cov(widgets_df['gadgets'])\n",
        "cov_wg"
      ],
      "execution_count": 0,
      "outputs": [
        {
          "output_type": "execute_result",
          "data": {
            "text/plain": [
              "-2919.0499999999997"
            ]
          },
          "metadata": {
            "tags": []
          },
          "execution_count": 19
        }
      ]
    },
    {
      "cell_type": "code",
      "metadata": {
        "id": "f6waG_nmdT9t",
        "colab_type": "code",
        "outputId": "760dc5a3-746b-4bb7-a13b-4a237f8bf285",
        "colab": {
          "base_uri": "https://localhost:8080/",
          "height": 34
        }
      },
      "source": [
        "# Calculate the denominator\n",
        "denom = std_w*std_g\n",
        "denom"
      ],
      "execution_count": 0,
      "outputs": [
        {
          "output_type": "execute_result",
          "data": {
            "text/plain": [
              "13540.719144122293"
            ]
          },
          "metadata": {
            "tags": []
          },
          "execution_count": 20
        }
      ]
    },
    {
      "cell_type": "code",
      "metadata": {
        "colab_type": "code",
        "id": "vFJms2YRrKhY",
        "outputId": "6628bc74-c34b-401a-a1d2-ebce2eb18bb9",
        "colab": {
          "base_uri": "https://localhost:8080/",
          "height": 34
        }
      },
      "source": [
        "# Calculate correlation\n",
        "corr_wg = cov_wg/denom\n",
        "corr_wg"
      ],
      "execution_count": 0,
      "outputs": [
        {
          "output_type": "execute_result",
          "data": {
            "text/plain": [
              "-0.2155756994093693"
            ]
          },
          "metadata": {
            "tags": []
          },
          "execution_count": 21
        }
      ]
    },
    {
      "cell_type": "code",
      "metadata": {
        "id": "sCzMv_wUdT9y",
        "colab_type": "code",
        "outputId": "964827bd-6756-40b6-be05-22c3adc05eda",
        "colab": {
          "base_uri": "https://localhost:8080/",
          "height": 34
        }
      },
      "source": [
        "## Check work using pandas\n",
        "widgets_df['widgets'].corr(widgets_df['gadgets'])"
      ],
      "execution_count": 0,
      "outputs": [
        {
          "output_type": "execute_result",
          "data": {
            "text/plain": [
              "-0.21557569940936924"
            ]
          },
          "metadata": {
            "tags": []
          },
          "execution_count": 22
        }
      ]
    },
    {
      "cell_type": "code",
      "metadata": {
        "id": "u4SylqfMdT90",
        "colab_type": "code",
        "outputId": "5ce9ff3d-f52b-4cdf-dc3a-26b05b94ff9c",
        "colab": {
          "base_uri": "https://localhost:8080/",
          "height": 111
        }
      },
      "source": [
        "# A shorter way to do this\n",
        "widgets_df.corr()"
      ],
      "execution_count": 0,
      "outputs": [
        {
          "output_type": "execute_result",
          "data": {
            "text/html": [
              "<div>\n",
              "<style scoped>\n",
              "    .dataframe tbody tr th:only-of-type {\n",
              "        vertical-align: middle;\n",
              "    }\n",
              "\n",
              "    .dataframe tbody tr th {\n",
              "        vertical-align: top;\n",
              "    }\n",
              "\n",
              "    .dataframe thead th {\n",
              "        text-align: right;\n",
              "    }\n",
              "</style>\n",
              "<table border=\"1\" class=\"dataframe\">\n",
              "  <thead>\n",
              "    <tr style=\"text-align: right;\">\n",
              "      <th></th>\n",
              "      <th>widgets</th>\n",
              "      <th>gadgets</th>\n",
              "    </tr>\n",
              "  </thead>\n",
              "  <tbody>\n",
              "    <tr>\n",
              "      <th>widgets</th>\n",
              "      <td>1.000000</td>\n",
              "      <td>-0.215576</td>\n",
              "    </tr>\n",
              "    <tr>\n",
              "      <th>gadgets</th>\n",
              "      <td>-0.215576</td>\n",
              "      <td>1.000000</td>\n",
              "    </tr>\n",
              "  </tbody>\n",
              "</table>\n",
              "</div>"
            ],
            "text/plain": [
              "          widgets   gadgets\n",
              "widgets  1.000000 -0.215576\n",
              "gadgets -0.215576  1.000000"
            ]
          },
          "metadata": {
            "tags": []
          },
          "execution_count": 23
        }
      ]
    },
    {
      "cell_type": "markdown",
      "metadata": {
        "colab_type": "text",
        "id": "IbZVf7nmujPJ"
      },
      "source": [
        "### 1.4 The Variance-Covariance Matrix\n",
        "Import a dataset of residential properties in Washington DC. Calculate the variance-covariance matrix and correlation matrix for the dataset's numeric columns."
      ]
    },
    {
      "cell_type": "code",
      "metadata": {
        "colab_type": "code",
        "id": "0TWgUIiaCFzq",
        "colab": {}
      },
      "source": [
        "# source: https://www.kaggle.com/christophercorrea/dc-residential-properties/\n",
        "url = 'https://raw.githubusercontent.com/austinlasseter/dash-scatterplot-housing/master/dchouses.csv'"
      ],
      "execution_count": 0,
      "outputs": []
    },
    {
      "cell_type": "code",
      "metadata": {
        "id": "yEA0Qf6ZuzYr",
        "colab_type": "code",
        "outputId": "6067dfaa-ded6-441c-8ff6-b71b8ebc8dda",
        "colab": {
          "base_uri": "https://localhost:8080/",
          "height": 204
        }
      },
      "source": [
        "houses = pd.read_csv(url)\n",
        "houses.head()"
      ],
      "execution_count": 0,
      "outputs": [
        {
          "output_type": "execute_result",
          "data": {
            "text/html": [
              "<div>\n",
              "<style scoped>\n",
              "    .dataframe tbody tr th:only-of-type {\n",
              "        vertical-align: middle;\n",
              "    }\n",
              "\n",
              "    .dataframe tbody tr th {\n",
              "        vertical-align: top;\n",
              "    }\n",
              "\n",
              "    .dataframe thead th {\n",
              "        text-align: right;\n",
              "    }\n",
              "</style>\n",
              "<table border=\"1\" class=\"dataframe\">\n",
              "  <thead>\n",
              "    <tr style=\"text-align: right;\">\n",
              "      <th></th>\n",
              "      <th>BATHRM</th>\n",
              "      <th>HF_BATHRM</th>\n",
              "      <th>KITCHENS</th>\n",
              "      <th>HEAT</th>\n",
              "      <th>AC</th>\n",
              "      <th>ROOMS</th>\n",
              "      <th>PRICE</th>\n",
              "    </tr>\n",
              "  </thead>\n",
              "  <tbody>\n",
              "    <tr>\n",
              "      <th>0</th>\n",
              "      <td>1</td>\n",
              "      <td>1</td>\n",
              "      <td>1.0</td>\n",
              "      <td>Forced Air</td>\n",
              "      <td>Y</td>\n",
              "      <td>6</td>\n",
              "      <td>NaN</td>\n",
              "    </tr>\n",
              "    <tr>\n",
              "      <th>1</th>\n",
              "      <td>2</td>\n",
              "      <td>1</td>\n",
              "      <td>1.0</td>\n",
              "      <td>Hot Water Rad</td>\n",
              "      <td>Y</td>\n",
              "      <td>8</td>\n",
              "      <td>460000.0</td>\n",
              "    </tr>\n",
              "    <tr>\n",
              "      <th>2</th>\n",
              "      <td>1</td>\n",
              "      <td>0</td>\n",
              "      <td>1.0</td>\n",
              "      <td>Hot Water Rad</td>\n",
              "      <td>N</td>\n",
              "      <td>6</td>\n",
              "      <td>NaN</td>\n",
              "    </tr>\n",
              "    <tr>\n",
              "      <th>3</th>\n",
              "      <td>1</td>\n",
              "      <td>0</td>\n",
              "      <td>1.0</td>\n",
              "      <td>Hot Water Rad</td>\n",
              "      <td>N</td>\n",
              "      <td>6</td>\n",
              "      <td>NaN</td>\n",
              "    </tr>\n",
              "    <tr>\n",
              "      <th>4</th>\n",
              "      <td>3</td>\n",
              "      <td>1</td>\n",
              "      <td>1.0</td>\n",
              "      <td>Warm Cool</td>\n",
              "      <td>Y</td>\n",
              "      <td>7</td>\n",
              "      <td>410220.0</td>\n",
              "    </tr>\n",
              "  </tbody>\n",
              "</table>\n",
              "</div>"
            ],
            "text/plain": [
              "   BATHRM  HF_BATHRM  KITCHENS           HEAT AC  ROOMS     PRICE\n",
              "0       1          1       1.0     Forced Air  Y      6       NaN\n",
              "1       2          1       1.0  Hot Water Rad  Y      8  460000.0\n",
              "2       1          0       1.0  Hot Water Rad  N      6       NaN\n",
              "3       1          0       1.0  Hot Water Rad  N      6       NaN\n",
              "4       3          1       1.0      Warm Cool  Y      7  410220.0"
            ]
          },
          "metadata": {
            "tags": []
          },
          "execution_count": 25
        }
      ]
    },
    {
      "cell_type": "code",
      "metadata": {
        "id": "xQ588PUpdT97",
        "colab_type": "code",
        "outputId": "444b0a05-96f8-4bf3-d787-9b893f88f42e",
        "colab": {
          "base_uri": "https://localhost:8080/",
          "height": 204
        }
      },
      "source": [
        "# calculate the covariance for the entire dataset\n",
        "houses.cov()"
      ],
      "execution_count": 0,
      "outputs": [
        {
          "output_type": "execute_result",
          "data": {
            "text/html": [
              "<div>\n",
              "<style scoped>\n",
              "    .dataframe tbody tr th:only-of-type {\n",
              "        vertical-align: middle;\n",
              "    }\n",
              "\n",
              "    .dataframe tbody tr th {\n",
              "        vertical-align: top;\n",
              "    }\n",
              "\n",
              "    .dataframe thead th {\n",
              "        text-align: right;\n",
              "    }\n",
              "</style>\n",
              "<table border=\"1\" class=\"dataframe\">\n",
              "  <thead>\n",
              "    <tr style=\"text-align: right;\">\n",
              "      <th></th>\n",
              "      <th>BATHRM</th>\n",
              "      <th>HF_BATHRM</th>\n",
              "      <th>KITCHENS</th>\n",
              "      <th>ROOMS</th>\n",
              "      <th>PRICE</th>\n",
              "    </tr>\n",
              "  </thead>\n",
              "  <tbody>\n",
              "    <tr>\n",
              "      <th>BATHRM</th>\n",
              "      <td>1.007166</td>\n",
              "      <td>0.125448</td>\n",
              "      <td>0.329582</td>\n",
              "      <td>1.866127e+00</td>\n",
              "      <td>-5.164766e+05</td>\n",
              "    </tr>\n",
              "    <tr>\n",
              "      <th>HF_BATHRM</th>\n",
              "      <td>0.125448</td>\n",
              "      <td>0.340972</td>\n",
              "      <td>-0.067744</td>\n",
              "      <td>4.989159e-01</td>\n",
              "      <td>4.109166e+05</td>\n",
              "    </tr>\n",
              "    <tr>\n",
              "      <th>KITCHENS</th>\n",
              "      <td>0.329582</td>\n",
              "      <td>-0.067744</td>\n",
              "      <td>0.420696</td>\n",
              "      <td>9.291807e-01</td>\n",
              "      <td>-6.497264e+03</td>\n",
              "    </tr>\n",
              "    <tr>\n",
              "      <th>ROOMS</th>\n",
              "      <td>1.866127</td>\n",
              "      <td>0.498916</td>\n",
              "      <td>0.929181</td>\n",
              "      <td>7.218137e+00</td>\n",
              "      <td>-3.030853e+06</td>\n",
              "    </tr>\n",
              "    <tr>\n",
              "      <th>PRICE</th>\n",
              "      <td>-516476.554036</td>\n",
              "      <td>410916.625989</td>\n",
              "      <td>-6497.264022</td>\n",
              "      <td>-3.030853e+06</td>\n",
              "      <td>1.551202e+14</td>\n",
              "    </tr>\n",
              "  </tbody>\n",
              "</table>\n",
              "</div>"
            ],
            "text/plain": [
              "                  BATHRM      HF_BATHRM  ...         ROOMS         PRICE\n",
              "BATHRM          1.007166       0.125448  ...  1.866127e+00 -5.164766e+05\n",
              "HF_BATHRM       0.125448       0.340972  ...  4.989159e-01  4.109166e+05\n",
              "KITCHENS        0.329582      -0.067744  ...  9.291807e-01 -6.497264e+03\n",
              "ROOMS           1.866127       0.498916  ...  7.218137e+00 -3.030853e+06\n",
              "PRICE     -516476.554036  410916.625989  ... -3.030853e+06  1.551202e+14\n",
              "\n",
              "[5 rows x 5 columns]"
            ]
          },
          "metadata": {
            "tags": []
          },
          "execution_count": 26
        }
      ]
    },
    {
      "cell_type": "code",
      "metadata": {
        "id": "7Q08vrOddT9-",
        "colab_type": "code",
        "outputId": "54de3d47-dc09-4992-f34d-4be06acff20b",
        "colab": {
          "base_uri": "https://localhost:8080/",
          "height": 204
        }
      },
      "source": [
        "# calculate the correlation for the entire dataset\n",
        "houses.corr()"
      ],
      "execution_count": 0,
      "outputs": [
        {
          "output_type": "execute_result",
          "data": {
            "text/html": [
              "<div>\n",
              "<style scoped>\n",
              "    .dataframe tbody tr th:only-of-type {\n",
              "        vertical-align: middle;\n",
              "    }\n",
              "\n",
              "    .dataframe tbody tr th {\n",
              "        vertical-align: top;\n",
              "    }\n",
              "\n",
              "    .dataframe thead th {\n",
              "        text-align: right;\n",
              "    }\n",
              "</style>\n",
              "<table border=\"1\" class=\"dataframe\">\n",
              "  <thead>\n",
              "    <tr style=\"text-align: right;\">\n",
              "      <th></th>\n",
              "      <th>BATHRM</th>\n",
              "      <th>HF_BATHRM</th>\n",
              "      <th>KITCHENS</th>\n",
              "      <th>ROOMS</th>\n",
              "      <th>PRICE</th>\n",
              "    </tr>\n",
              "  </thead>\n",
              "  <tbody>\n",
              "    <tr>\n",
              "      <th>BATHRM</th>\n",
              "      <td>1.000000</td>\n",
              "      <td>0.214070</td>\n",
              "      <td>0.461896</td>\n",
              "      <td>0.692115</td>\n",
              "      <td>-0.042109</td>\n",
              "    </tr>\n",
              "    <tr>\n",
              "      <th>HF_BATHRM</th>\n",
              "      <td>0.214070</td>\n",
              "      <td>1.000000</td>\n",
              "      <td>-0.173102</td>\n",
              "      <td>0.318021</td>\n",
              "      <td>0.058728</td>\n",
              "    </tr>\n",
              "    <tr>\n",
              "      <th>KITCHENS</th>\n",
              "      <td>0.461896</td>\n",
              "      <td>-0.173102</td>\n",
              "      <td>1.000000</td>\n",
              "      <td>0.592760</td>\n",
              "      <td>-0.021364</td>\n",
              "    </tr>\n",
              "    <tr>\n",
              "      <th>ROOMS</th>\n",
              "      <td>0.692115</td>\n",
              "      <td>0.318021</td>\n",
              "      <td>0.592760</td>\n",
              "      <td>1.000000</td>\n",
              "      <td>-0.088273</td>\n",
              "    </tr>\n",
              "    <tr>\n",
              "      <th>PRICE</th>\n",
              "      <td>-0.042109</td>\n",
              "      <td>0.058728</td>\n",
              "      <td>-0.021364</td>\n",
              "      <td>-0.088273</td>\n",
              "      <td>1.000000</td>\n",
              "    </tr>\n",
              "  </tbody>\n",
              "</table>\n",
              "</div>"
            ],
            "text/plain": [
              "             BATHRM  HF_BATHRM  KITCHENS     ROOMS     PRICE\n",
              "BATHRM     1.000000   0.214070  0.461896  0.692115 -0.042109\n",
              "HF_BATHRM  0.214070   1.000000 -0.173102  0.318021  0.058728\n",
              "KITCHENS   0.461896  -0.173102  1.000000  0.592760 -0.021364\n",
              "ROOMS      0.692115   0.318021  0.592760  1.000000 -0.088273\n",
              "PRICE     -0.042109   0.058728 -0.021364 -0.088273  1.000000"
            ]
          },
          "metadata": {
            "tags": []
          },
          "execution_count": 27
        }
      ]
    },
    {
      "cell_type": "code",
      "metadata": {
        "id": "5KRXfeeYvuZP",
        "colab_type": "code",
        "outputId": "ac99d281-30bb-4e3f-94a4-ea415ebff1b6",
        "colab": {
          "base_uri": "https://localhost:8080/",
          "height": 275
        }
      },
      "source": [
        "import matplotlib.pyplot as plt\n",
        "plt.matshow(houses.corr())\n",
        "plt.show()"
      ],
      "execution_count": 0,
      "outputs": [
        {
          "output_type": "display_data",
          "data": {
            "image/png": "[encoded data removed]",
            "text/plain": [
              "<Figure size 288x288 with 1 Axes>"
            ]
          },
          "metadata": {
            "tags": []
          }
        }
      ]
    },
    {
      "cell_type": "code",
      "metadata": {
        "id": "QW1LwFbyvz8z",
        "colab_type": "code",
        "outputId": "a57e0eb0-b7fa-493a-aab5-b83e8f874233",
        "colab": {
          "base_uri": "https://localhost:8080/",
          "height": 337
        }
      },
      "source": [
        "import seaborn as sns\n",
        "sns.heatmap(houses.corr() )"
      ],
      "execution_count": 0,
      "outputs": [
        {
          "output_type": "execute_result",
          "data": {
            "text/plain": [
              "<matplotlib.axes._subplots.AxesSubplot at 0x7f5b72656e80>"
            ]
          },
          "metadata": {
            "tags": []
          },
          "execution_count": 29
        },
        {
          "output_type": "display_data",
          "data": {
            "image/png": "[encoded data removed]",
            "text/plain": [
              "<Figure size 432x288 with 2 Axes>"
            ]
          },
          "metadata": {
            "tags": []
          }
        }
      ]
    },
    {
      "cell_type": "markdown",
      "metadata": {
        "colab_type": "text",
        "id": "7K0Xfh8MvYkl"
      },
      "source": [
        "## 2. Orthogonality"
      ]
    },
    {
      "cell_type": "markdown",
      "metadata": {
        "colab_type": "text",
        "id": "MiNjyqiEz5SG"
      },
      "source": [
        "### 2.1 Quick review of norm and dot product."
      ]
    },
    {
      "cell_type": "code",
      "metadata": {
        "id": "nqutB3_NdT-C",
        "colab_type": "code",
        "outputId": "0d105d8d-64ed-4105-c52e-38be94f0ae2e",
        "colab": {
          "base_uri": "https://localhost:8080/",
          "height": 51
        }
      },
      "source": [
        "# let's make a couple of vectors.\n",
        "v = np.random.randint(low = 1, high = 100, size = 3)\n",
        "x = np.random.randint(low = 1, high = 100, size = 3)\n",
        "print(v,'\\n', x)"
      ],
      "execution_count": 0,
      "outputs": [
        {
          "output_type": "stream",
          "text": [
            "[46 54 79] \n",
            " [ 3  6 82]\n"
          ],
          "name": "stdout"
        }
      ]
    },
    {
      "cell_type": "code",
      "metadata": {
        "id": "Mf5nraJ-dT-F",
        "colab_type": "code",
        "outputId": "4b848008-c67f-4cc3-dc7a-dc68f14fc32a",
        "colab": {
          "base_uri": "https://localhost:8080/",
          "height": 51
        }
      },
      "source": [
        "# quick: which one is longer? \n",
        "for vect in [v, x]:\n",
        "  norm = np.linalg.norm(vect)\n",
        "  print(norm)"
      ],
      "execution_count": 0,
      "outputs": [
        {
          "output_type": "stream",
          "text": [
            "106.17438485811914\n",
            "82.27393268830657\n"
          ],
          "name": "stdout"
        }
      ]
    },
    {
      "cell_type": "code",
      "metadata": {
        "id": "cw1ECSPpdT-I",
        "colab_type": "code",
        "outputId": "2188835d-7d4d-4e19-9523-1429e11bf0b8",
        "colab": {
          "base_uri": "https://localhost:8080/",
          "height": 34
        }
      },
      "source": [
        "# what's the dot product of x and v? using array broadcasting\n",
        "(v[0]*x[0]) + (v[1]*x[1]) + (v[2]*x[2])"
      ],
      "execution_count": 0,
      "outputs": [
        {
          "output_type": "execute_result",
          "data": {
            "text/plain": [
              "6940"
            ]
          },
          "metadata": {
            "tags": []
          },
          "execution_count": 32
        }
      ]
    },
    {
      "cell_type": "code",
      "metadata": {
        "colab_type": "code",
        "id": "IlV_uaYK1EQB",
        "outputId": "79ba16af-86fc-41cc-f94e-3aa745a407e8",
        "colab": {
          "base_uri": "https://localhost:8080/",
          "height": 34
        }
      },
      "source": [
        "# what's the dot product of x and v? using numpy\n",
        "np.dot(x, v)"
      ],
      "execution_count": 0,
      "outputs": [
        {
          "output_type": "execute_result",
          "data": {
            "text/plain": [
              "6940"
            ]
          },
          "metadata": {
            "tags": []
          },
          "execution_count": 33
        }
      ]
    },
    {
      "cell_type": "code",
      "metadata": {
        "id": "d-vwMbXodT-P",
        "colab_type": "code",
        "outputId": "0c5e9212-a837-48c9-eb53-f10eaa4c9f97",
        "colab": {
          "base_uri": "https://localhost:8080/",
          "height": 34
        }
      },
      "source": [
        "# there's another way to write this.\n",
        "x.dot(v)"
      ],
      "execution_count": 0,
      "outputs": [
        {
          "output_type": "execute_result",
          "data": {
            "text/plain": [
              "6940"
            ]
          },
          "metadata": {
            "tags": []
          },
          "execution_count": 34
        }
      ]
    },
    {
      "cell_type": "markdown",
      "metadata": {
        "colab_type": "text",
        "id": "Pe3eOZ2fvdZ-"
      },
      "source": [
        "### 2.2 Orthogonality"
      ]
    },
    {
      "cell_type": "code",
      "metadata": {
        "colab_type": "code",
        "id": "YLSBk7hJvvCx",
        "colab": {}
      },
      "source": [
        "# import \n",
        "import matplotlib.pyplot as plt"
      ],
      "execution_count": 0,
      "outputs": []
    },
    {
      "cell_type": "code",
      "metadata": {
        "id": "H_vW0YredT-U",
        "colab_type": "code",
        "colab": {}
      },
      "source": [
        "# choose some vectors\n",
        "vector_1 = [2, 2]\n",
        "vector_2 = [1, -1]"
      ],
      "execution_count": 0,
      "outputs": []
    },
    {
      "cell_type": "code",
      "metadata": {
        "id": "aeDxoztqdT-a",
        "colab_type": "code",
        "outputId": "27b9dcfb-621a-4be8-9e88-8ae22b590862",
        "colab": {
          "base_uri": "https://localhost:8080/",
          "height": 269
        }
      },
      "source": [
        "# Set up the figure so that x and y axes are symmetrical.\n",
        "fig, ax = plt.subplots(figsize=(4,4))\n",
        "ax.grid()\n",
        "plt.xlim(-2,3)          \n",
        "plt.ylim(-2,3)\n",
        "\n",
        "# Plot the vectors\n",
        "for vect in [vector_1, vector_2]:\n",
        "    plt.arrow(0,0, vect[0], vect[1], head_width=.2, head_length=0.2, linewidth=4)\n",
        "plt.show()"
      ],
      "execution_count": 0,
      "outputs": [
        {
          "output_type": "display_data",
          "data": {
            "image/png": "[encoded data removed]",
            "text/plain": [
              "<Figure size 288x288 with 1 Axes>"
            ]
          },
          "metadata": {
            "tags": []
          }
        }
      ]
    },
    {
      "cell_type": "markdown",
      "metadata": {
        "colab_type": "text",
        "id": "7AS4V1Nhvvxz"
      },
      "source": [
        "Are the following vectors orthogonal?"
      ]
    },
    {
      "cell_type": "code",
      "metadata": {
        "colab_type": "code",
        "id": "F_-y54YSz47k",
        "outputId": "e2d2a61a-453c-46b2-8d4f-60f49b5c20e8",
        "colab": {
          "base_uri": "https://localhost:8080/",
          "height": 34
        }
      },
      "source": [
        "# If dot product != 0, then vectors are not orthogonal.\n",
        "np.dot(vector_1, vector_2)"
      ],
      "execution_count": 0,
      "outputs": [
        {
          "output_type": "execute_result",
          "data": {
            "text/plain": [
              "0"
            ]
          },
          "metadata": {
            "tags": []
          },
          "execution_count": 38
        }
      ]
    },
    {
      "cell_type": "code",
      "metadata": {
        "id": "TQXwi2rodT-g",
        "colab_type": "code",
        "outputId": "d0655529-3c56-46d9-8d70-705858dfaf26",
        "colab": {
          "base_uri": "https://localhost:8080/",
          "height": 34
        }
      },
      "source": [
        "# If dot product = 0, then vectors are orthogonal.\n",
        "a = np.array([-7, 4])\n",
        "b = np.array([-5, 3])\n",
        "np.dot(a, b)"
      ],
      "execution_count": 0,
      "outputs": [
        {
          "output_type": "execute_result",
          "data": {
            "text/plain": [
              "47"
            ]
          },
          "metadata": {
            "tags": []
          },
          "execution_count": 39
        }
      ]
    },
    {
      "cell_type": "code",
      "metadata": {
        "id": "YL1cOOhZdT-i",
        "colab_type": "code",
        "outputId": "bcc44816-3774-473c-d398-66846459f099",
        "colab": {
          "base_uri": "https://localhost:8080/",
          "height": 34
        }
      },
      "source": [
        "# If dot product = 0, then vectors are orthogonal.\n",
        "a = np.array([0,4])\n",
        "b = np.array([-5,0])\n",
        "np.dot(a,b)"
      ],
      "execution_count": 0,
      "outputs": [
        {
          "output_type": "execute_result",
          "data": {
            "text/plain": [
              "0"
            ]
          },
          "metadata": {
            "tags": []
          },
          "execution_count": 75
        }
      ]
    },
    {
      "cell_type": "code",
      "metadata": {
        "id": "WKmr3CAhdT-k",
        "colab_type": "code",
        "outputId": "ff8815f7-45ad-478c-90f9-84d5517f90d0",
        "colab": {
          "base_uri": "https://localhost:8080/",
          "height": 34
        }
      },
      "source": [
        "# For any vector, generate another vector that is orthogonal to it.\n",
        "k = np.random.randn(3) # take any random vector.\n",
        "print(k)"
      ],
      "execution_count": 0,
      "outputs": [
        {
          "output_type": "stream",
          "text": [
            "[ 1.5323009  -0.30384728  2.07250122]\n"
          ],
          "name": "stdout"
        }
      ]
    },
    {
      "cell_type": "code",
      "metadata": {
        "id": "xh3PPvv90yg8",
        "colab_type": "code",
        "outputId": "611162fc-fadc-47ce-f3ac-34a964fa3e03",
        "colab": {
          "base_uri": "https://localhost:8080/",
          "height": 34
        }
      },
      "source": [
        "x = np.random.randn(3)\n",
        "x"
      ],
      "execution_count": 0,
      "outputs": [
        {
          "output_type": "execute_result",
          "data": {
            "text/plain": [
              "array([ 0.05469083, -0.44090905,  0.13527156])"
            ]
          },
          "metadata": {
            "tags": []
          },
          "execution_count": 78
        }
      ]
    },
    {
      "cell_type": "code",
      "metadata": {
        "id": "QZH9fqrR03qm",
        "colab_type": "code",
        "outputId": "31d1c99e-1565-4f39-d196-599021e198b9",
        "colab": {
          "base_uri": "https://localhost:8080/",
          "height": 34
        }
      },
      "source": [
        "x -= x.dot(k)*k/np.linalg.norm(k)**2\n",
        "print(x)"
      ],
      "execution_count": 0,
      "outputs": [
        {
          "output_type": "stream",
          "text": [
            "[-0.0586296  -0.41843819 -0.01799908]\n"
          ],
          "name": "stdout"
        }
      ]
    },
    {
      "cell_type": "code",
      "metadata": {
        "id": "byzpTKR21MMj",
        "colab_type": "code",
        "outputId": "d9b07941-248f-4dee-a352-46dd3af2e609",
        "colab": {
          "base_uri": "https://localhost:8080/",
          "height": 34
        }
      },
      "source": [
        "np.dot(x, k)"
      ],
      "execution_count": 0,
      "outputs": [
        {
          "output_type": "execute_result",
          "data": {
            "text/plain": [
              "6.245004513516506e-17"
            ]
          },
          "metadata": {
            "tags": []
          },
          "execution_count": 80
        }
      ]
    },
    {
      "cell_type": "markdown",
      "metadata": {
        "colab_type": "text",
        "id": "MK_TpWqk1Evk"
      },
      "source": [
        "## 3. Unit Vectors"
      ]
    },
    {
      "cell_type": "code",
      "metadata": {
        "colab_type": "code",
        "id": "I3W8ZiHR1_Fa",
        "outputId": "ae6cf195-f5e4-437c-8bed-4446c533729f",
        "colab": {
          "base_uri": "https://localhost:8080/",
          "height": 34
        }
      },
      "source": [
        "# Suppose we have a vector f.\n",
        "f = np.random.randint(1, 100, 5)\n",
        "f"
      ],
      "execution_count": 0,
      "outputs": [
        {
          "output_type": "execute_result",
          "data": {
            "text/plain": [
              "array([32, 66, 28, 97, 63])"
            ]
          },
          "metadata": {
            "tags": []
          },
          "execution_count": 45
        }
      ]
    },
    {
      "cell_type": "code",
      "metadata": {
        "id": "cHJrfUXFdT-t",
        "colab_type": "code",
        "outputId": "c4767d32-d6e0-4a7c-fb72-79c0ff0aaa96",
        "colab": {
          "base_uri": "https://localhost:8080/",
          "height": 34
        }
      },
      "source": [
        "# how long is it?\n",
        "norm_f = np.linalg.norm(f)\n",
        "norm_f"
      ],
      "execution_count": 0,
      "outputs": [
        {
          "output_type": "execute_result",
          "data": {
            "text/plain": [
              "139.79270367225894"
            ]
          },
          "metadata": {
            "tags": []
          },
          "execution_count": 46
        }
      ]
    },
    {
      "cell_type": "code",
      "metadata": {
        "id": "jBaIG_lodT-w",
        "colab_type": "code",
        "outputId": "56fc2220-8955-44d5-8411-334eb1b4a3c0",
        "colab": {
          "base_uri": "https://localhost:8080/",
          "height": 34
        }
      },
      "source": [
        "# find its unit vector. the hat symbol (f^) indicates it's a unit vector.\n",
        "f_hat = f/norm_f\n",
        "f_hat"
      ],
      "execution_count": 0,
      "outputs": [
        {
          "output_type": "execute_result",
          "data": {
            "text/plain": [
              "array([0.22891037, 0.47212765, 0.20029658, 0.69388457, 0.4506673 ])"
            ]
          },
          "metadata": {
            "tags": []
          },
          "execution_count": 47
        }
      ]
    },
    {
      "cell_type": "code",
      "metadata": {
        "id": "bKipRBqgdT-y",
        "colab_type": "code",
        "outputId": "f36a25a8-e8b9-4217-c35e-9837f17ab793",
        "colab": {
          "base_uri": "https://localhost:8080/",
          "height": 34
        }
      },
      "source": [
        "# how long is this?\n",
        "f_hat_norm = np.linalg.norm(f_hat)\n",
        "f_hat_norm"
      ],
      "execution_count": 0,
      "outputs": [
        {
          "output_type": "execute_result",
          "data": {
            "text/plain": [
              "1.0"
            ]
          },
          "metadata": {
            "tags": []
          },
          "execution_count": 48
        }
      ]
    },
    {
      "cell_type": "markdown",
      "metadata": {
        "colab_type": "text",
        "id": "o39UyP-I5lpP"
      },
      "source": [
        "## 4. Linear Independence / Dependence "
      ]
    },
    {
      "cell_type": "markdown",
      "metadata": {
        "colab_type": "text",
        "id": "ajfBqYe45sT5"
      },
      "source": [
        "Plot two vectors that are linearly dependent and two vectors that are linearly independent (bonus points if done in $\\mathbb{R}^3$)."
      ]
    },
    {
      "cell_type": "code",
      "metadata": {
        "id": "uibM6JZKdT-3",
        "colab_type": "code",
        "outputId": "df6f8bcc-66d9-4df3-9cc3-5fc33a0bce47",
        "colab": {
          "base_uri": "https://localhost:8080/",
          "height": 51
        }
      },
      "source": [
        "# Linearly dependent vectors\n",
        "vector_1 = [-.8, 1.3]\n",
        "vector_2 = np.multiply(vector_1, 2)\n",
        "print(vector_1, '\\n', vector_2)"
      ],
      "execution_count": 0,
      "outputs": [
        {
          "output_type": "stream",
          "text": [
            "[-0.8, 1.3] \n",
            " [-1.6  2.6]\n"
          ],
          "name": "stdout"
        }
      ]
    },
    {
      "cell_type": "code",
      "metadata": {
        "id": "IHv_KA88dT-5",
        "colab_type": "code",
        "outputId": "a5cd6dd3-b6d1-4619-cde6-7e2f4322491c",
        "colab": {
          "base_uri": "https://localhost:8080/",
          "height": 269
        }
      },
      "source": [
        "# Plot the vectors\n",
        "\n",
        "fig, ax = plt.subplots(figsize=(4,4))\n",
        "ax.grid()\n",
        "plt.xlim(-3,3)          \n",
        "plt.ylim(-3,3)\n",
        "\n",
        "for myvect, mycolor, width in [(vector_1, 'cyan', 15), (vector_2, 'crimson', 5)]:\n",
        "    plt.arrow(0,0,\n",
        "              myvect[0], \n",
        "              myvect[1], \n",
        "              head_width=.2, \n",
        "              head_length=0.2, \n",
        "              linewidth=width, \n",
        "              color=mycolor)"
      ],
      "execution_count": 0,
      "outputs": [
        {
          "output_type": "display_data",
          "data": {
            "image/png": "[encoded data removed]",
            "text/plain": [
              "<Figure size 288x288 with 1 Axes>"
            ]
          },
          "metadata": {
            "tags": []
          }
        }
      ]
    },
    {
      "cell_type": "code",
      "metadata": {
        "id": "qRLeq3a0dT-9",
        "colab_type": "code",
        "outputId": "93ad96b4-b7cf-4e4d-fb2a-27ef54ff2d06",
        "colab": {
          "base_uri": "https://localhost:8080/",
          "height": 51
        }
      },
      "source": [
        "# Linearly independent vectors, not orthogonal\n",
        "vector_1 = np.random.randint(low=-3, high=3, size=2)\n",
        "vector_2 = np.random.randint(low=-3, high=3, size=2)\n",
        "print(vector_1, '\\n', vector_2)"
      ],
      "execution_count": 0,
      "outputs": [
        {
          "output_type": "stream",
          "text": [
            "[ 1 -3] \n",
            " [-3 -2]\n"
          ],
          "name": "stdout"
        }
      ]
    },
    {
      "cell_type": "code",
      "metadata": {
        "id": "ftCgz8sKdT-_",
        "colab_type": "code",
        "outputId": "840f4932-bb97-46b4-e94d-03e06f2acf38",
        "colab": {
          "base_uri": "https://localhost:8080/",
          "height": 269
        }
      },
      "source": [
        "# Set up the grid\n",
        "fig, ax = plt.subplots(figsize=(4,4))\n",
        "ax.grid()\n",
        "plt.xlim(-3,3)          \n",
        "plt.ylim(-3,3)\n",
        "\n",
        "# Plot the vectors\n",
        "for myvect, mycolor, width in [(vector_1, 'cyan', 15), (vector_2, 'crimson', 5)]:\n",
        "    plt.arrow(0,0,\n",
        "              myvect[0], \n",
        "              myvect[1], \n",
        "              head_width=.2, \n",
        "              head_length=0.2, \n",
        "              linewidth=width, \n",
        "              color=mycolor)"
      ],
      "execution_count": 0,
      "outputs": [
        {
          "output_type": "display_data",
          "data": {
            "image/png": "[encoded data removed]",
            "text/plain": [
              "<Figure size 288x288 with 1 Axes>"
            ]
          },
          "metadata": {
            "tags": []
          }
        }
      ]
    },
    {
      "cell_type": "markdown",
      "metadata": {
        "colab_type": "text",
        "id": "TrJ0MT_n3SvO"
      },
      "source": [
        "## 5. Span"
      ]
    },
    {
      "cell_type": "markdown",
      "metadata": {
        "id": "gZaux7tP4gw-",
        "colab_type": "text"
      },
      "source": [
        "Suppose we have two vectors. The linear combination is as follows, where a and b are any scalars.\n",
        "\n",
        "\\begin{align}\n",
        "a\\begin{bmatrix} 1 & 3 \\end{bmatrix} +\n",
        "b\\begin{bmatrix} 2 & 1 \\end{bmatrix}\n",
        "\\end{align}\n",
        "\n",
        "Note that:\n",
        "* The set of all possible linear combinations (i.e., all possible values of a and b) is the span of these vectors. \n",
        "* A set of vectors _spans_ a space if their linear combinations fill the space.\n",
        "* The span of most pairs of 2D vectors is the entire infinite sheet of infinite space (unless they are colinear). "
      ]
    },
    {
      "cell_type": "code",
      "metadata": {
        "id": "8_CN6dtOdT_G",
        "colab_type": "code",
        "colab": {}
      },
      "source": [
        "# Let's take two vectors.\n",
        "vector_1 = np.array([1,3])\n",
        "vector_2 = np.array([2,1])"
      ],
      "execution_count": 0,
      "outputs": []
    },
    {
      "cell_type": "code",
      "metadata": {
        "id": "IySTUVN5dT_I",
        "colab_type": "code",
        "outputId": "f61d13cc-f59f-4431-f8f4-30128e9ae5e8",
        "colab": {
          "base_uri": "https://localhost:8080/",
          "height": 265
        }
      },
      "source": [
        "# Plot them on a grid\n",
        "fig, ax = plt.subplots(figsize=(4,4))\n",
        "ax.grid()\n",
        "plt.xlim(-5,5)          \n",
        "plt.ylim(-5,5)\n",
        "\n",
        "# Display\n",
        "for myvect in [vector_1, vector_2]:\n",
        "    plt.arrow(0,0,\n",
        "              myvect[0], \n",
        "              myvect[1], \n",
        "              head_width=.2, \n",
        "              head_length=0.2, \n",
        "              linewidth=10, \n",
        "              color='chartreuse')"
      ],
      "execution_count": 0,
      "outputs": [
        {
          "output_type": "display_data",
          "data": {
            "image/png": "[encoded data removed]",
            "text/plain": [
              "<Figure size 288x288 with 1 Axes>"
            ]
          },
          "metadata": {
            "tags": []
          }
        }
      ]
    },
    {
      "cell_type": "code",
      "metadata": {
        "id": "9LTnK_rSdT_L",
        "colab_type": "code",
        "outputId": "eef08a30-3641-41c1-b558-386cbe413265",
        "colab": {
          "base_uri": "https://localhost:8080/",
          "height": 34
        }
      },
      "source": [
        "# This is one possible linear combination:\n",
        "a,b=(2,3)\n",
        "linear_combo= np.multiply(vector_1, a) + np.multiply(vector_2, b) \n",
        "print(linear_combo)"
      ],
      "execution_count": 0,
      "outputs": [
        {
          "output_type": "stream",
          "text": [
            "[8 9]\n"
          ],
          "name": "stdout"
        }
      ]
    },
    {
      "cell_type": "code",
      "metadata": {
        "id": "M3l782ARdT_O",
        "colab_type": "code",
        "outputId": "37d6bef1-3958-4bba-b157-d4ae2f44988c",
        "colab": {
          "base_uri": "https://localhost:8080/",
          "height": 34
        }
      },
      "source": [
        "# This is a set of several linear combinations:\n",
        "muchos_combos=[]\n",
        "for (a,b) in [(2,3), (4,5), (6,7), (8,9)]:\n",
        "    linear_combo = np.multiply(vector_1, a) + np.multiply(vector_2, b) \n",
        "    muchos_combos.append(linear_combo)\n",
        "print(muchos_combos)"
      ],
      "execution_count": 0,
      "outputs": [
        {
          "output_type": "stream",
          "text": [
            "[array([8, 9]), array([14, 17]), array([20, 25]), array([26, 33])]\n"
          ],
          "name": "stdout"
        }
      ]
    },
    {
      "cell_type": "markdown",
      "metadata": {
        "colab_type": "text",
        "id": "IBqe7X1732kX"
      },
      "source": [
        "## 6. Basis"
      ]
    },
    {
      "cell_type": "markdown",
      "metadata": {
        "id": "iImgVwQpdT_Q",
        "colab_type": "text"
      },
      "source": [
        "In 2-dimensional space $\\mathbb{R}^2$, ANY vector (a,b) can be decomposed as the linear combination of the basis vectors (1,0) and (0,1). Since these are unit vectors, they are called \"orthonormal basis\".\n",
        "\n",
        "(a,b) = a(1,0) + b(0,1)"
      ]
    },
    {
      "cell_type": "code",
      "metadata": {
        "colab_type": "code",
        "id": "utvF3Pkt8NP6",
        "outputId": "c0e629b4-12b6-42e2-a16a-94c4a86e1a76",
        "colab": {
          "base_uri": "https://localhost:8080/",
          "height": 281
        }
      },
      "source": [
        "# find basis vectors in 2-d\n",
        "vector_1 = [-2, 2]\n",
        "vector_2 = [2, 2]\n",
        "\n",
        "# Plot the Scaled Vectors\n",
        "plt.arrow(0,0, vector_1[0], vector_1[1],head_width=.05, head_length=0.05, color ='red')\n",
        "plt.arrow(0,0, vector_2[0], vector_2[1],head_width=.05, head_length=0.05, color ='green')\n",
        "plt.xlim(-3,3)          \n",
        "plt.ylim(-1,3)\n",
        "plt.title(\"Basis for R^2\")\n",
        "plt.show()"
      ],
      "execution_count": 0,
      "outputs": [
        {
          "output_type": "display_data",
          "data": {
            "image/png": "[encoded data removed]",
            "text/plain": [
              "<Figure size 432x288 with 1 Axes>"
            ]
          },
          "metadata": {
            "tags": []
          }
        }
      ]
    },
    {
      "cell_type": "markdown",
      "metadata": {
        "colab_type": "text",
        "id": "EHmUxbcY6vD3"
      },
      "source": [
        "## 7. Rank"
      ]
    },
    {
      "cell_type": "code",
      "metadata": {
        "id": "qtrXLyU4dT_T",
        "colab_type": "code",
        "outputId": "ae9bc118-dd7a-473b-b1ef-5b8b48a0207d",
        "colab": {
          "base_uri": "https://localhost:8080/",
          "height": 34
        }
      },
      "source": [
        "# Rank two\n",
        "P = np.array([[1,2,3],[4,5,6]])\n",
        "\n",
        "#calculte its rank\n",
        "np.linalg.matrix_rank(P)"
      ],
      "execution_count": 0,
      "outputs": [
        {
          "output_type": "execute_result",
          "data": {
            "text/plain": [
              "2"
            ]
          },
          "metadata": {
            "tags": []
          },
          "execution_count": 58
        }
      ]
    },
    {
      "cell_type": "code",
      "metadata": {
        "id": "vSSjhRo-8MTR",
        "colab_type": "code",
        "outputId": "b4e07f68-32d5-477d-fd93-c3040a610252",
        "colab": {
          "base_uri": "https://localhost:8080/",
          "height": 68
        }
      },
      "source": [
        "# another example\n",
        "k=np.array([[1,0,1],\n",
        "[-2,-3,1],\n",
        "[3,3,0]])\n",
        "k"
      ],
      "execution_count": 0,
      "outputs": [
        {
          "output_type": "execute_result",
          "data": {
            "text/plain": [
              "array([[ 1,  0,  1],\n",
              "       [-2, -3,  1],\n",
              "       [ 3,  3,  0]])"
            ]
          },
          "metadata": {
            "tags": []
          },
          "execution_count": 59
        }
      ]
    },
    {
      "cell_type": "code",
      "metadata": {
        "id": "8DvTFEAk8ROJ",
        "colab_type": "code",
        "outputId": "532b9e65-2fe7-434f-dfa6-af43d1f906d1",
        "colab": {
          "base_uri": "https://localhost:8080/",
          "height": 34
        }
      },
      "source": [
        "# rank\n",
        "np.linalg.matrix_rank(k)"
      ],
      "execution_count": 0,
      "outputs": [
        {
          "output_type": "execute_result",
          "data": {
            "text/plain": [
              "2"
            ]
          },
          "metadata": {
            "tags": []
          },
          "execution_count": 60
        }
      ]
    },
    {
      "cell_type": "code",
      "metadata": {
        "id": "S5_VZ454dT_V",
        "colab_type": "code",
        "outputId": "38f4d6cd-e7c4-4d2a-f09f-d7bfc1fa2f62",
        "colab": {
          "base_uri": "https://localhost:8080/",
          "height": 51
        }
      },
      "source": [
        "# Return a 2-D array with ones on the diagonal and zeros elsewhere.\n",
        "np.eye(2)"
      ],
      "execution_count": 0,
      "outputs": [
        {
          "output_type": "execute_result",
          "data": {
            "text/plain": [
              "array([[1., 0.],\n",
              "       [0., 1.]])"
            ]
          },
          "metadata": {
            "tags": []
          },
          "execution_count": 61
        }
      ]
    },
    {
      "cell_type": "code",
      "metadata": {
        "id": "e-Q7jnLFdT_W",
        "colab_type": "code",
        "outputId": "fc2b4fb9-4131-4b52-ede1-af0e5249f923",
        "colab": {
          "base_uri": "https://localhost:8080/",
          "height": 34
        }
      },
      "source": [
        "# rank three\n",
        "P = np.array([[1,2,3],[-1,0,7],[4,8,2]])\n",
        "np.linalg.matrix_rank(P)"
      ],
      "execution_count": 0,
      "outputs": [
        {
          "output_type": "execute_result",
          "data": {
            "text/plain": [
              "3"
            ]
          },
          "metadata": {
            "tags": []
          },
          "execution_count": 62
        }
      ]
    },
    {
      "cell_type": "code",
      "metadata": {
        "id": "hVWXQRaudT_Y",
        "colab_type": "code",
        "outputId": "3cc698da-6b10-411a-f9a4-5362a47a9bd5",
        "colab": {
          "base_uri": "https://localhost:8080/",
          "height": 85
        }
      },
      "source": [
        "# rank four\n",
        "np.eye(4)"
      ],
      "execution_count": 0,
      "outputs": [
        {
          "output_type": "execute_result",
          "data": {
            "text/plain": [
              "array([[1., 0., 0., 0.],\n",
              "       [0., 1., 0., 0.],\n",
              "       [0., 0., 1., 0.],\n",
              "       [0., 0., 0., 1.]])"
            ]
          },
          "metadata": {
            "tags": []
          },
          "execution_count": 63
        }
      ]
    },
    {
      "cell_type": "code",
      "metadata": {
        "id": "2AScEO0CdT_b",
        "colab_type": "code",
        "outputId": "c0a3e489-41fc-4e28-f95d-739e0c579c22",
        "colab": {
          "base_uri": "https://localhost:8080/",
          "height": 34
        }
      },
      "source": [
        "# rank four\n",
        "np.linalg.matrix_rank(np.eye(4))"
      ],
      "execution_count": 0,
      "outputs": [
        {
          "output_type": "execute_result",
          "data": {
            "text/plain": [
              "4"
            ]
          },
          "metadata": {
            "tags": []
          },
          "execution_count": 64
        }
      ]
    },
    {
      "cell_type": "code",
      "metadata": {
        "id": "2iEZeaqgdT_d",
        "colab_type": "code",
        "outputId": "789a0f3a-c833-41d5-f24f-a1961cabd64c",
        "colab": {
          "base_uri": "https://localhost:8080/",
          "height": 51
        }
      },
      "source": [
        "# Rank zero\n",
        "P = np.array([0])\n",
        "print(np.linalg.matrix_rank(P))\n",
        "np.eye(0)"
      ],
      "execution_count": 0,
      "outputs": [
        {
          "output_type": "stream",
          "text": [
            "0\n"
          ],
          "name": "stdout"
        },
        {
          "output_type": "execute_result",
          "data": {
            "text/plain": [
              "array([], shape=(0, 0), dtype=float64)"
            ]
          },
          "metadata": {
            "tags": []
          },
          "execution_count": 65
        }
      ]
    },
    {
      "cell_type": "code",
      "metadata": {
        "id": "9y70JqCSdT_f",
        "colab_type": "code",
        "outputId": "a0ddad34-8a45-4b11-b359-880d1557eff9",
        "colab": {
          "base_uri": "https://localhost:8080/",
          "height": 34
        }
      },
      "source": [
        "# Rank one\n",
        "P = np.array([[1,2,3]])\n",
        "np.linalg.matrix_rank(P)"
      ],
      "execution_count": 0,
      "outputs": [
        {
          "output_type": "execute_result",
          "data": {
            "text/plain": [
              "1"
            ]
          },
          "metadata": {
            "tags": []
          },
          "execution_count": 66
        }
      ]
    },
    {
      "cell_type": "code",
      "metadata": {
        "id": "Nu07fBj6dT_h",
        "colab_type": "code",
        "outputId": "d6da1449-2494-4c16-cbbe-b1175007da6e",
        "colab": {
          "base_uri": "https://localhost:8080/",
          "height": 34
        }
      },
      "source": [
        "# Rank one\n",
        "np.eye(1)"
      ],
      "execution_count": 0,
      "outputs": [
        {
          "output_type": "execute_result",
          "data": {
            "text/plain": [
              "array([[1.]])"
            ]
          },
          "metadata": {
            "tags": []
          },
          "execution_count": 67
        }
      ]
    },
    {
      "cell_type": "markdown",
      "metadata": {
        "colab_type": "text",
        "id": "0Db2sc_V8QD6"
      },
      "source": [
        "## 8. Linear Projections\n",
        "\n",
        "Line $L$ is formed by all of the vectors that can be created by scaling vector $v$ "
      ]
    },
    {
      "cell_type": "code",
      "metadata": {
        "id": "P_hW3jEodT_k",
        "colab_type": "code",
        "colab": {}
      },
      "source": [
        "# Original Vector\n",
        "numpy_v = np.array([2,1])\n",
        "numpy_w = np.array([-3,3])"
      ],
      "execution_count": 0,
      "outputs": []
    },
    {
      "cell_type": "code",
      "metadata": {
        "id": "fTtCk2XNdT_m",
        "colab_type": "code",
        "colab": {}
      },
      "source": [
        "# dot product\n",
        "w_dot_v = np.dot(numpy_v, numpy_w)\n",
        "v_dot_v = np.dot(numpy_v, numpy_v)"
      ],
      "execution_count": 0,
      "outputs": []
    },
    {
      "cell_type": "code",
      "metadata": {
        "id": "zTFu0XrOdT_n",
        "colab_type": "code",
        "outputId": "e02b41c9-0984-4e27-e8e6-1cc3292ea216",
        "colab": {
          "base_uri": "https://localhost:8080/",
          "height": 34
        }
      },
      "source": [
        "# projection\n",
        "fraction = w_dot_v/v_dot_v\n",
        "projection = np.multiply(fraction,v)\n",
        "print(projection)"
      ],
      "execution_count": 0,
      "outputs": [
        {
          "output_type": "stream",
          "text": [
            "[-27.6 -32.4 -47.4]\n"
          ],
          "name": "stdout"
        }
      ]
    },
    {
      "cell_type": "code",
      "metadata": {
        "id": "1o85sQ7cdT_s",
        "colab_type": "code",
        "colab": {}
      },
      "source": [
        "# Get Vals for L\n",
        "x_vals = np.array(ax.get_xlim())\n",
        "y_vals = 3*x_vals"
      ],
      "execution_count": 0,
      "outputs": []
    },
    {
      "cell_type": "code",
      "metadata": {
        "colab_type": "code",
        "id": "hp5z2WTBCNKx",
        "outputId": "2bf98cb5-bd7e-438e-bc12-c5ef399dba4e",
        "colab": {
          "base_uri": "https://localhost:8080/",
          "height": 340
        }
      },
      "source": [
        "# Axis Bounds\n",
        "plt.xlim(-2,4)          \n",
        "plt.ylim(-2,4)\n",
        "\n",
        "# Set axes\n",
        "axes = plt.gca()\n",
        "plt.axes().set_aspect('equal')\n",
        "\n",
        "# Plot Vectors and L\n",
        "plt.plot(x_vals, y_vals, '--', color='b', linewidth=1)"
      ],
      "execution_count": 0,
      "outputs": [
        {
          "output_type": "stream",
          "text": [
            "/usr/local/lib/python3.6/dist-packages/ipykernel_launcher.py:6: MatplotlibDeprecationWarning: Adding an axes using the same arguments as a previous axes currently reuses the earlier instance.  In a future version, a new instance will always be created and returned.  Meanwhile, this warning can be suppressed, and the future behavior ensured, by passing a unique label to each axes instance.\n",
            "  \n"
          ],
          "name": "stderr"
        },
        {
          "output_type": "execute_result",
          "data": {
            "text/plain": [
              "[<matplotlib.lines.Line2D at 0x7f5b6ecdaf60>]"
            ]
          },
          "metadata": {
            "tags": []
          },
          "execution_count": 72
        },
        {
          "output_type": "display_data",
          "data": {
            "image/png": "[encoded data removed]",
            "text/plain": [
              "<Figure size 432x288 with 1 Axes>"
            ]
          },
          "metadata": {
            "tags": []
          }
        }
      ]
    }
  ]
}