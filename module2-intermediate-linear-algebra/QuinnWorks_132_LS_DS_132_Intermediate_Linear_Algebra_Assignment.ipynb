{
  "nbformat": 4,
  "nbformat_minor": 0,
  "metadata": {
    "colab": {
      "name": "QuinnWorks-132_LS_DS_132_Intermediate_Linear_Algebra_Assignment.ipynb",
      "provenance": [],
      "collapsed_sections": [],
      "include_colab_link": true
    },
    "kernelspec": {
      "name": "python3",
      "display_name": "Python 3"
    }
  },
  "cells": [
    {
      "cell_type": "markdown",
      "metadata": {
        "id": "view-in-github",
        "colab_type": "text"
      },
      "source": [
        "<a href=\"https://colab.research.google.com/github/Avery1493/DS-Unit-1-Sprint-3-Linear-Algebra/blob/master/module2-intermediate-linear-algebra/QuinnWorks_132_LS_DS_132_Intermediate_Linear_Algebra_Assignment.ipynb\" target=\"_parent\"><img src=\"https://colab.research.google.com/assets/colab-badge.svg\" alt=\"Open In Colab\"/></a>"
      ]
    },
    {
      "cell_type": "markdown",
      "metadata": {
        "id": "GSNiYn8lr6nN",
        "colab_type": "text"
      },
      "source": [
        "# Statistics"
      ]
    },
    {
      "cell_type": "markdown",
      "metadata": {
        "id": "3d4izUhQvh2_",
        "colab_type": "text"
      },
      "source": [
        "## 1.1 Sales for the past week was the following amounts: [3505, 2400, 3027, 2798, 3700, 3250, 2689]. Without using library functions, what is the mean, variance, and standard deviation of of sales from last week? (for extra bonus points, write your own function that can calculate these two values for any sized list)"
      ]
    },
    {
      "cell_type": "code",
      "metadata": {
        "id": "w1iZfYvBtEA1",
        "colab_type": "code",
        "colab": {}
      },
      "source": [
        "import numpy as np\n",
        "import pandas as pd"
      ],
      "execution_count": 0,
      "outputs": []
    },
    {
      "cell_type": "code",
      "metadata": {
        "id": "fYbGwQKbK3oQ",
        "colab_type": "code",
        "outputId": "01316757-58eb-4617-c8df-e2109d41672c",
        "colab": {
          "base_uri": "https://localhost:8080/",
          "height": 68
        }
      },
      "source": [
        "sales = [3505,2400,3027,2798,3700,3250,2689]\n",
        "print('MEAN:',np.mean(sales))\n",
        "print('VAR:',np.var(sales, ddof=1))\n",
        "print('STD:',np.std(sales, ddof=1))"
      ],
      "execution_count": 0,
      "outputs": [
        {
          "output_type": "stream",
          "text": [
            "MEAN: 3052.714285714286\n",
            "VAR: 214387.90476190473\n",
            "STD: 463.0204150595357\n"
          ],
          "name": "stdout"
        }
      ]
    },
    {
      "cell_type": "code",
      "metadata": {
        "id": "lVilsGgOLrXm",
        "colab_type": "code",
        "outputId": "25746bf2-cf78-4e49-9781-4fb2cf467e7c",
        "colab": {
          "base_uri": "https://localhost:8080/",
          "height": 34
        }
      },
      "source": [
        "#MEAN FUNCTION\n",
        "def mean(data_list):\n",
        "  n = len(data_list) \n",
        "  x = 0\n",
        "  for i in data_list:\n",
        "    x= x+i\n",
        "  return x/n\n",
        "\n",
        "mean(sales)"
      ],
      "execution_count": 0,
      "outputs": [
        {
          "output_type": "execute_result",
          "data": {
            "text/plain": [
              "3052.714285714286"
            ]
          },
          "metadata": {
            "tags": []
          },
          "execution_count": 3
        }
      ]
    },
    {
      "cell_type": "code",
      "metadata": {
        "id": "kBBVKQrFM4Sk",
        "colab_type": "code",
        "outputId": "4967bc18-4bc3-4ced-d95e-d8b68fcd83f8",
        "colab": {
          "base_uri": "https://localhost:8080/",
          "height": 34
        }
      },
      "source": [
        "#VARIENCE FUNCTION\n",
        "def var(data_list):\n",
        "  n = len(data_list) \n",
        "  x = mean(data_list)\n",
        "  v = []\n",
        "  for i in data_list:\n",
        "    v= np.append([v],[(i-x)**2])\n",
        "  a = v.copy()\n",
        "  b = 0\n",
        "  for i in a:\n",
        "    b = b+i\n",
        "  return b/(n-1)\n",
        "\n",
        "var(sales)"
      ],
      "execution_count": 0,
      "outputs": [
        {
          "output_type": "execute_result",
          "data": {
            "text/plain": [
              "214387.90476190473"
            ]
          },
          "metadata": {
            "tags": []
          },
          "execution_count": 4
        }
      ]
    },
    {
      "cell_type": "code",
      "metadata": {
        "id": "wVFWJbG-TsMI",
        "colab_type": "code",
        "outputId": "d2023344-8960-4b6b-ec7b-4680b6131e22",
        "colab": {
          "base_uri": "https://localhost:8080/",
          "height": 34
        }
      },
      "source": [
        "#STANDARD DEVIATION FUNCTION\n",
        "def stdv(data_list):\n",
        "  n = len(data_list) \n",
        "  x = mean(data_list)\n",
        "  v = []\n",
        "  for i in data_list:\n",
        "    v= np.append([v],[(i-x)**2])\n",
        "  a = v.copy()\n",
        "  b = 0\n",
        "  for i in a:\n",
        "    b = b+i\n",
        " \n",
        "  return (b/(n-1))**(1/2)\n",
        "\n",
        "stdv(sales)"
      ],
      "execution_count": 0,
      "outputs": [
        {
          "output_type": "execute_result",
          "data": {
            "text/plain": [
              "463.0204150595357"
            ]
          },
          "metadata": {
            "tags": []
          },
          "execution_count": 5
        }
      ]
    },
    {
      "cell_type": "code",
      "metadata": {
        "id": "9Vueh8TTzkVE",
        "colab_type": "code",
        "outputId": "ce86b363-5325-47d9-ca4d-32789ef9f845",
        "colab": {
          "base_uri": "https://localhost:8080/",
          "height": 68
        }
      },
      "source": [
        "#SHOWING THE SPREAD WITH MY FUNCTIONS\n",
        "print('MEAN:',mean(sales))\n",
        "print('VAR:',var(sales))\n",
        "print('STD:',stdv(sales))"
      ],
      "execution_count": 0,
      "outputs": [
        {
          "output_type": "stream",
          "text": [
            "MEAN: 3052.714285714286\n",
            "VAR: 214387.90476190473\n",
            "STD: 463.0204150595357\n"
          ],
          "name": "stdout"
        }
      ]
    },
    {
      "cell_type": "markdown",
      "metadata": {
        "id": "oh63KaOctEp_",
        "colab_type": "text"
      },
      "source": [
        "## 1.2 Find the covariance between last week's sales numbers and the number of customers that entered the store last week: [127, 80, 105, 92, 120, 115, 93] (you may use librray functions for calculating the covariance since we didn't specifically talk about its formula)"
      ]
    },
    {
      "cell_type": "code",
      "metadata": {
        "id": "pH05Nipv0AEB",
        "colab_type": "code",
        "colab": {}
      },
      "source": [
        "customers = [127,80,105,92,120,115,93]"
      ],
      "execution_count": 0,
      "outputs": []
    },
    {
      "cell_type": "code",
      "metadata": {
        "id": "G7ZB0krot564",
        "colab_type": "code",
        "outputId": "5ba1d5c8-ffb1-4d96-ee23-fd20db793738",
        "colab": {
          "base_uri": "https://localhost:8080/",
          "height": 68
        }
      },
      "source": [
        "print('MEAN:',mean(customers))\n",
        "print('VAR:',var(customers))\n",
        "print('STD:',stdv(customers))"
      ],
      "execution_count": 0,
      "outputs": [
        {
          "output_type": "stream",
          "text": [
            "MEAN: 104.57142857142857\n",
            "VAR: 290.95238095238096\n",
            "STD: 17.057326313123664\n"
          ],
          "name": "stdout"
        }
      ]
    },
    {
      "cell_type": "code",
      "metadata": {
        "id": "2w8EgTjt0QTS",
        "colab_type": "code",
        "outputId": "463470c7-3a01-426d-8234-9555f4b4b582",
        "colab": {
          "base_uri": "https://localhost:8080/",
          "height": 266
        }
      },
      "source": [
        "#COVARIANCE\n",
        "data = {'sales': sales, 'customers': customers}\n",
        "df = pd.DataFrame(data)\n",
        "df"
      ],
      "execution_count": 0,
      "outputs": [
        {
          "output_type": "execute_result",
          "data": {
            "text/html": [
              "<div>\n",
              "<style scoped>\n",
              "    .dataframe tbody tr th:only-of-type {\n",
              "        vertical-align: middle;\n",
              "    }\n",
              "\n",
              "    .dataframe tbody tr th {\n",
              "        vertical-align: top;\n",
              "    }\n",
              "\n",
              "    .dataframe thead th {\n",
              "        text-align: right;\n",
              "    }\n",
              "</style>\n",
              "<table border=\"1\" class=\"dataframe\">\n",
              "  <thead>\n",
              "    <tr style=\"text-align: right;\">\n",
              "      <th></th>\n",
              "      <th>sales</th>\n",
              "      <th>customers</th>\n",
              "    </tr>\n",
              "  </thead>\n",
              "  <tbody>\n",
              "    <tr>\n",
              "      <th>0</th>\n",
              "      <td>3505</td>\n",
              "      <td>127</td>\n",
              "    </tr>\n",
              "    <tr>\n",
              "      <th>1</th>\n",
              "      <td>2400</td>\n",
              "      <td>80</td>\n",
              "    </tr>\n",
              "    <tr>\n",
              "      <th>2</th>\n",
              "      <td>3027</td>\n",
              "      <td>105</td>\n",
              "    </tr>\n",
              "    <tr>\n",
              "      <th>3</th>\n",
              "      <td>2798</td>\n",
              "      <td>92</td>\n",
              "    </tr>\n",
              "    <tr>\n",
              "      <th>4</th>\n",
              "      <td>3700</td>\n",
              "      <td>120</td>\n",
              "    </tr>\n",
              "    <tr>\n",
              "      <th>5</th>\n",
              "      <td>3250</td>\n",
              "      <td>115</td>\n",
              "    </tr>\n",
              "    <tr>\n",
              "      <th>6</th>\n",
              "      <td>2689</td>\n",
              "      <td>93</td>\n",
              "    </tr>\n",
              "  </tbody>\n",
              "</table>\n",
              "</div>"
            ],
            "text/plain": [
              "   sales  customers\n",
              "0   3505        127\n",
              "1   2400         80\n",
              "2   3027        105\n",
              "3   2798         92\n",
              "4   3700        120\n",
              "5   3250        115\n",
              "6   2689         93"
            ]
          },
          "metadata": {
            "tags": []
          },
          "execution_count": 44
        }
      ]
    },
    {
      "cell_type": "code",
      "metadata": {
        "id": "8KvktoSe36Zb",
        "colab_type": "code",
        "outputId": "e90ace3c-88cd-456d-ed0a-73475d68d133",
        "colab": {
          "base_uri": "https://localhost:8080/",
          "height": 51
        }
      },
      "source": [
        "np.cov(sales,customers)"
      ],
      "execution_count": 0,
      "outputs": [
        {
          "output_type": "execute_result",
          "data": {
            "text/plain": [
              "array([[214387.9047619 ,   7604.35714286],\n",
              "       [  7604.35714286,    290.95238095]])"
            ]
          },
          "metadata": {
            "tags": []
          },
          "execution_count": 10
        }
      ]
    },
    {
      "cell_type": "code",
      "metadata": {
        "id": "ZTYfnFxE1y04",
        "colab_type": "code",
        "outputId": "77a20bf2-49e0-4792-d4fd-c662bb0ce1f5",
        "colab": {
          "base_uri": "https://localhost:8080/",
          "height": 111
        }
      },
      "source": [
        "var_cov = df.cov()\n",
        "var_cov "
      ],
      "execution_count": 0,
      "outputs": [
        {
          "output_type": "execute_result",
          "data": {
            "text/html": [
              "<div>\n",
              "<style scoped>\n",
              "    .dataframe tbody tr th:only-of-type {\n",
              "        vertical-align: middle;\n",
              "    }\n",
              "\n",
              "    .dataframe tbody tr th {\n",
              "        vertical-align: top;\n",
              "    }\n",
              "\n",
              "    .dataframe thead th {\n",
              "        text-align: right;\n",
              "    }\n",
              "</style>\n",
              "<table border=\"1\" class=\"dataframe\">\n",
              "  <thead>\n",
              "    <tr style=\"text-align: right;\">\n",
              "      <th></th>\n",
              "      <th>sales</th>\n",
              "      <th>customers</th>\n",
              "    </tr>\n",
              "  </thead>\n",
              "  <tbody>\n",
              "    <tr>\n",
              "      <th>sales</th>\n",
              "      <td>214387.904762</td>\n",
              "      <td>7604.357143</td>\n",
              "    </tr>\n",
              "    <tr>\n",
              "      <th>customers</th>\n",
              "      <td>7604.357143</td>\n",
              "      <td>290.952381</td>\n",
              "    </tr>\n",
              "  </tbody>\n",
              "</table>\n",
              "</div>"
            ],
            "text/plain": [
              "                   sales    customers\n",
              "sales      214387.904762  7604.357143\n",
              "customers    7604.357143   290.952381"
            ]
          },
          "metadata": {
            "tags": []
          },
          "execution_count": 11
        }
      ]
    },
    {
      "cell_type": "code",
      "metadata": {
        "id": "WS12vKjv4oiK",
        "colab_type": "code",
        "outputId": "fc6c22da-9f20-48e6-9633-d1ed0a060153",
        "colab": {
          "base_uri": "https://localhost:8080/",
          "height": 34
        }
      },
      "source": [
        "print('Covariance:',var_cov.sales[1])"
      ],
      "execution_count": 0,
      "outputs": [
        {
          "output_type": "stream",
          "text": [
            "Covariance: 7604.357142857142\n"
          ],
          "name": "stdout"
        }
      ]
    },
    {
      "cell_type": "markdown",
      "metadata": {
        "id": "J9SbUY9mt66I",
        "colab_type": "text"
      },
      "source": [
        "## 1.3 Find the standard deviation of customers who entered the store last week. Then, use the standard deviations of both sales and customers to standardize the covariance to find the correlation coefficient that summarizes the relationship between sales and customers. (You may use library functions to check your work.)"
      ]
    },
    {
      "cell_type": "markdown",
      "metadata": {
        "id": "GRpzbwyOnd5O",
        "colab_type": "text"
      },
      "source": [
        "![alt text](data:image/png;base64,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)"
      ]
    },
    {
      "cell_type": "code",
      "metadata": {
        "id": "HxMk7CZo_K9D",
        "colab_type": "code",
        "outputId": "8a384cc2-cf9b-4373-af1c-6f33f6589010",
        "colab": {
          "base_uri": "https://localhost:8080/",
          "height": 34
        }
      },
      "source": [
        "print('sigma: \\u03C3')"
      ],
      "execution_count": 0,
      "outputs": [
        {
          "output_type": "stream",
          "text": [
            "sigma: σ\n"
          ],
          "name": "stdout"
        }
      ]
    },
    {
      "cell_type": "code",
      "metadata": {
        "id": "vePGo-g2_TbB",
        "colab_type": "code",
        "colab": {}
      },
      "source": [
        "σx = stdv(sales)\n",
        "σy = stdv(customers)\n",
        "σxy = var_cov.sales[1]"
      ],
      "execution_count": 0,
      "outputs": []
    },
    {
      "cell_type": "code",
      "metadata": {
        "id": "vFJms2YRrKhY",
        "colab_type": "code",
        "outputId": "8655709a-d6cd-4501-d047-aef88568fcda",
        "colab": {
          "base_uri": "https://localhost:8080/",
          "height": 34
        }
      },
      "source": [
        "#CORRELATION COEFFICIENT\n",
        "r = σxy / (σx * σy)\n",
        "print('Correlation:',r)"
      ],
      "execution_count": 0,
      "outputs": [
        {
          "output_type": "stream",
          "text": [
            "Correlation: 0.9628339778148909\n"
          ],
          "name": "stdout"
        }
      ]
    },
    {
      "cell_type": "markdown",
      "metadata": {
        "id": "IbZVf7nmujPJ",
        "colab_type": "text"
      },
      "source": [
        "## 1.4 Use pandas to import a cleaned version of the titanic dataset from the following link: [Titanic Dataset](https://raw.githubusercontent.com/Geoyi/Cleaning-Titanic-Data/master/titanic_clean.csv)\n",
        "\n",
        "## Calculate the variance-covariance matrix and correlation matrix for the titanic dataset's numeric columns. (you can encode some of the categorical variables and include them as a stretch goal if you finish early)"
      ]
    },
    {
      "cell_type": "code",
      "metadata": {
        "id": "0TWgUIiaCFzq",
        "colab_type": "code",
        "outputId": "c40470d0-e8ad-49ea-bc80-89846eb7f70c",
        "colab": {
          "base_uri": "https://localhost:8080/",
          "height": 204
        }
      },
      "source": [
        "titanic = pd.read_csv('https://raw.githubusercontent.com/Geoyi/Cleaning-Titanic-Data/master/titanic_clean.csv')\n",
        "titanic = titanic.drop('Unnamed: 0', axis=1)\n",
        "titanic.head()"
      ],
      "execution_count": 0,
      "outputs": [
        {
          "output_type": "execute_result",
          "data": {
            "text/html": [
              "<div>\n",
              "<style scoped>\n",
              "    .dataframe tbody tr th:only-of-type {\n",
              "        vertical-align: middle;\n",
              "    }\n",
              "\n",
              "    .dataframe tbody tr th {\n",
              "        vertical-align: top;\n",
              "    }\n",
              "\n",
              "    .dataframe thead th {\n",
              "        text-align: right;\n",
              "    }\n",
              "</style>\n",
              "<table border=\"1\" class=\"dataframe\">\n",
              "  <thead>\n",
              "    <tr style=\"text-align: right;\">\n",
              "      <th></th>\n",
              "      <th>pclass</th>\n",
              "      <th>survived</th>\n",
              "      <th>name</th>\n",
              "      <th>sex</th>\n",
              "      <th>age</th>\n",
              "      <th>sibsp</th>\n",
              "      <th>parch</th>\n",
              "      <th>ticket</th>\n",
              "      <th>fare</th>\n",
              "      <th>cabin</th>\n",
              "      <th>embarked</th>\n",
              "      <th>boat</th>\n",
              "      <th>body</th>\n",
              "      <th>home.dest</th>\n",
              "      <th>has_cabin_number</th>\n",
              "    </tr>\n",
              "  </thead>\n",
              "  <tbody>\n",
              "    <tr>\n",
              "      <th>0</th>\n",
              "      <td>1.0</td>\n",
              "      <td>1.0</td>\n",
              "      <td>Allen, Miss. Elisabeth Walton</td>\n",
              "      <td>female</td>\n",
              "      <td>29.0000</td>\n",
              "      <td>0.0</td>\n",
              "      <td>0.0</td>\n",
              "      <td>24160</td>\n",
              "      <td>211.3375</td>\n",
              "      <td>B5</td>\n",
              "      <td>S</td>\n",
              "      <td>2</td>\n",
              "      <td>NaN</td>\n",
              "      <td>St Louis, MO</td>\n",
              "      <td>1</td>\n",
              "    </tr>\n",
              "    <tr>\n",
              "      <th>1</th>\n",
              "      <td>1.0</td>\n",
              "      <td>1.0</td>\n",
              "      <td>Allison, Master. Hudson Trevor</td>\n",
              "      <td>male</td>\n",
              "      <td>0.9167</td>\n",
              "      <td>1.0</td>\n",
              "      <td>2.0</td>\n",
              "      <td>113781</td>\n",
              "      <td>151.5500</td>\n",
              "      <td>C22 C26</td>\n",
              "      <td>S</td>\n",
              "      <td>11</td>\n",
              "      <td>NaN</td>\n",
              "      <td>Montreal, PQ / Chesterville, ON</td>\n",
              "      <td>1</td>\n",
              "    </tr>\n",
              "    <tr>\n",
              "      <th>2</th>\n",
              "      <td>1.0</td>\n",
              "      <td>0.0</td>\n",
              "      <td>Allison, Miss. Helen Loraine</td>\n",
              "      <td>female</td>\n",
              "      <td>2.0000</td>\n",
              "      <td>1.0</td>\n",
              "      <td>2.0</td>\n",
              "      <td>113781</td>\n",
              "      <td>151.5500</td>\n",
              "      <td>C22 C26</td>\n",
              "      <td>S</td>\n",
              "      <td>NaN</td>\n",
              "      <td>NaN</td>\n",
              "      <td>Montreal, PQ / Chesterville, ON</td>\n",
              "      <td>1</td>\n",
              "    </tr>\n",
              "    <tr>\n",
              "      <th>3</th>\n",
              "      <td>1.0</td>\n",
              "      <td>0.0</td>\n",
              "      <td>Allison, Mr. Hudson Joshua Creighton</td>\n",
              "      <td>male</td>\n",
              "      <td>30.0000</td>\n",
              "      <td>1.0</td>\n",
              "      <td>2.0</td>\n",
              "      <td>113781</td>\n",
              "      <td>151.5500</td>\n",
              "      <td>C22 C26</td>\n",
              "      <td>S</td>\n",
              "      <td>NaN</td>\n",
              "      <td>135.0</td>\n",
              "      <td>Montreal, PQ / Chesterville, ON</td>\n",
              "      <td>1</td>\n",
              "    </tr>\n",
              "    <tr>\n",
              "      <th>4</th>\n",
              "      <td>1.0</td>\n",
              "      <td>0.0</td>\n",
              "      <td>Allison, Mrs. Hudson J C (Bessie Waldo Daniels)</td>\n",
              "      <td>female</td>\n",
              "      <td>25.0000</td>\n",
              "      <td>1.0</td>\n",
              "      <td>2.0</td>\n",
              "      <td>113781</td>\n",
              "      <td>151.5500</td>\n",
              "      <td>C22 C26</td>\n",
              "      <td>S</td>\n",
              "      <td>NaN</td>\n",
              "      <td>NaN</td>\n",
              "      <td>Montreal, PQ / Chesterville, ON</td>\n",
              "      <td>1</td>\n",
              "    </tr>\n",
              "  </tbody>\n",
              "</table>\n",
              "</div>"
            ],
            "text/plain": [
              "   pclass  survived  ...                        home.dest has_cabin_number\n",
              "0     1.0       1.0  ...                     St Louis, MO                1\n",
              "1     1.0       1.0  ...  Montreal, PQ / Chesterville, ON                1\n",
              "2     1.0       0.0  ...  Montreal, PQ / Chesterville, ON                1\n",
              "3     1.0       0.0  ...  Montreal, PQ / Chesterville, ON                1\n",
              "4     1.0       0.0  ...  Montreal, PQ / Chesterville, ON                1\n",
              "\n",
              "[5 rows x 15 columns]"
            ]
          },
          "metadata": {
            "tags": []
          },
          "execution_count": 16
        }
      ]
    },
    {
      "cell_type": "code",
      "metadata": {
        "id": "WU_nNKibEDC1",
        "colab_type": "code",
        "outputId": "a2e75d45-8065-4c9e-8643-c46abe5b4f77",
        "colab": {
          "base_uri": "https://localhost:8080/",
          "height": 297
        }
      },
      "source": [
        "titanic.describe()"
      ],
      "execution_count": 0,
      "outputs": [
        {
          "output_type": "execute_result",
          "data": {
            "text/html": [
              "<div>\n",
              "<style scoped>\n",
              "    .dataframe tbody tr th:only-of-type {\n",
              "        vertical-align: middle;\n",
              "    }\n",
              "\n",
              "    .dataframe tbody tr th {\n",
              "        vertical-align: top;\n",
              "    }\n",
              "\n",
              "    .dataframe thead th {\n",
              "        text-align: right;\n",
              "    }\n",
              "</style>\n",
              "<table border=\"1\" class=\"dataframe\">\n",
              "  <thead>\n",
              "    <tr style=\"text-align: right;\">\n",
              "      <th></th>\n",
              "      <th>pclass</th>\n",
              "      <th>survived</th>\n",
              "      <th>age</th>\n",
              "      <th>sibsp</th>\n",
              "      <th>parch</th>\n",
              "      <th>fare</th>\n",
              "      <th>body</th>\n",
              "      <th>has_cabin_number</th>\n",
              "    </tr>\n",
              "  </thead>\n",
              "  <tbody>\n",
              "    <tr>\n",
              "      <th>count</th>\n",
              "      <td>1309.000000</td>\n",
              "      <td>1309.000000</td>\n",
              "      <td>1310.000000</td>\n",
              "      <td>1309.000000</td>\n",
              "      <td>1309.000000</td>\n",
              "      <td>1308.000000</td>\n",
              "      <td>121.000000</td>\n",
              "      <td>1310.000000</td>\n",
              "    </tr>\n",
              "    <tr>\n",
              "      <th>mean</th>\n",
              "      <td>2.294882</td>\n",
              "      <td>0.381971</td>\n",
              "      <td>29.881135</td>\n",
              "      <td>0.498854</td>\n",
              "      <td>0.385027</td>\n",
              "      <td>33.295479</td>\n",
              "      <td>160.809917</td>\n",
              "      <td>0.225191</td>\n",
              "    </tr>\n",
              "    <tr>\n",
              "      <th>std</th>\n",
              "      <td>0.837836</td>\n",
              "      <td>0.486055</td>\n",
              "      <td>12.878277</td>\n",
              "      <td>1.041658</td>\n",
              "      <td>0.865560</td>\n",
              "      <td>51.758668</td>\n",
              "      <td>97.696922</td>\n",
              "      <td>0.417867</td>\n",
              "    </tr>\n",
              "    <tr>\n",
              "      <th>min</th>\n",
              "      <td>1.000000</td>\n",
              "      <td>0.000000</td>\n",
              "      <td>0.166700</td>\n",
              "      <td>0.000000</td>\n",
              "      <td>0.000000</td>\n",
              "      <td>0.000000</td>\n",
              "      <td>1.000000</td>\n",
              "      <td>0.000000</td>\n",
              "    </tr>\n",
              "    <tr>\n",
              "      <th>25%</th>\n",
              "      <td>2.000000</td>\n",
              "      <td>0.000000</td>\n",
              "      <td>22.000000</td>\n",
              "      <td>0.000000</td>\n",
              "      <td>0.000000</td>\n",
              "      <td>7.895800</td>\n",
              "      <td>72.000000</td>\n",
              "      <td>0.000000</td>\n",
              "    </tr>\n",
              "    <tr>\n",
              "      <th>50%</th>\n",
              "      <td>3.000000</td>\n",
              "      <td>0.000000</td>\n",
              "      <td>29.881135</td>\n",
              "      <td>0.000000</td>\n",
              "      <td>0.000000</td>\n",
              "      <td>14.454200</td>\n",
              "      <td>155.000000</td>\n",
              "      <td>0.000000</td>\n",
              "    </tr>\n",
              "    <tr>\n",
              "      <th>75%</th>\n",
              "      <td>3.000000</td>\n",
              "      <td>1.000000</td>\n",
              "      <td>35.000000</td>\n",
              "      <td>1.000000</td>\n",
              "      <td>0.000000</td>\n",
              "      <td>31.275000</td>\n",
              "      <td>256.000000</td>\n",
              "      <td>0.000000</td>\n",
              "    </tr>\n",
              "    <tr>\n",
              "      <th>max</th>\n",
              "      <td>3.000000</td>\n",
              "      <td>1.000000</td>\n",
              "      <td>80.000000</td>\n",
              "      <td>8.000000</td>\n",
              "      <td>9.000000</td>\n",
              "      <td>512.329200</td>\n",
              "      <td>328.000000</td>\n",
              "      <td>1.000000</td>\n",
              "    </tr>\n",
              "  </tbody>\n",
              "</table>\n",
              "</div>"
            ],
            "text/plain": [
              "            pclass     survived  ...        body  has_cabin_number\n",
              "count  1309.000000  1309.000000  ...  121.000000       1310.000000\n",
              "mean      2.294882     0.381971  ...  160.809917          0.225191\n",
              "std       0.837836     0.486055  ...   97.696922          0.417867\n",
              "min       1.000000     0.000000  ...    1.000000          0.000000\n",
              "25%       2.000000     0.000000  ...   72.000000          0.000000\n",
              "50%       3.000000     0.000000  ...  155.000000          0.000000\n",
              "75%       3.000000     1.000000  ...  256.000000          0.000000\n",
              "max       3.000000     1.000000  ...  328.000000          1.000000\n",
              "\n",
              "[8 rows x 8 columns]"
            ]
          },
          "metadata": {
            "tags": []
          },
          "execution_count": 18
        }
      ]
    },
    {
      "cell_type": "code",
      "metadata": {
        "id": "tjaPrqIuEULu",
        "colab_type": "code",
        "outputId": "f562a445-8682-49f5-d159-f2f3e7974e0c",
        "colab": {
          "base_uri": "https://localhost:8080/",
          "height": 419
        }
      },
      "source": [
        "titanic2 = titanic[['pclass','survived','age','sibsp','parch','fare','body','has_cabin_number']]\n",
        "titanic2"
      ],
      "execution_count": 0,
      "outputs": [
        {
          "output_type": "execute_result",
          "data": {
            "text/html": [
              "<div>\n",
              "<style scoped>\n",
              "    .dataframe tbody tr th:only-of-type {\n",
              "        vertical-align: middle;\n",
              "    }\n",
              "\n",
              "    .dataframe tbody tr th {\n",
              "        vertical-align: top;\n",
              "    }\n",
              "\n",
              "    .dataframe thead th {\n",
              "        text-align: right;\n",
              "    }\n",
              "</style>\n",
              "<table border=\"1\" class=\"dataframe\">\n",
              "  <thead>\n",
              "    <tr style=\"text-align: right;\">\n",
              "      <th></th>\n",
              "      <th>pclass</th>\n",
              "      <th>survived</th>\n",
              "      <th>age</th>\n",
              "      <th>sibsp</th>\n",
              "      <th>parch</th>\n",
              "      <th>fare</th>\n",
              "      <th>body</th>\n",
              "      <th>has_cabin_number</th>\n",
              "    </tr>\n",
              "  </thead>\n",
              "  <tbody>\n",
              "    <tr>\n",
              "      <th>0</th>\n",
              "      <td>1.0</td>\n",
              "      <td>1.0</td>\n",
              "      <td>29.000000</td>\n",
              "      <td>0.0</td>\n",
              "      <td>0.0</td>\n",
              "      <td>211.3375</td>\n",
              "      <td>NaN</td>\n",
              "      <td>1</td>\n",
              "    </tr>\n",
              "    <tr>\n",
              "      <th>1</th>\n",
              "      <td>1.0</td>\n",
              "      <td>1.0</td>\n",
              "      <td>0.916700</td>\n",
              "      <td>1.0</td>\n",
              "      <td>2.0</td>\n",
              "      <td>151.5500</td>\n",
              "      <td>NaN</td>\n",
              "      <td>1</td>\n",
              "    </tr>\n",
              "    <tr>\n",
              "      <th>2</th>\n",
              "      <td>1.0</td>\n",
              "      <td>0.0</td>\n",
              "      <td>2.000000</td>\n",
              "      <td>1.0</td>\n",
              "      <td>2.0</td>\n",
              "      <td>151.5500</td>\n",
              "      <td>NaN</td>\n",
              "      <td>1</td>\n",
              "    </tr>\n",
              "    <tr>\n",
              "      <th>3</th>\n",
              "      <td>1.0</td>\n",
              "      <td>0.0</td>\n",
              "      <td>30.000000</td>\n",
              "      <td>1.0</td>\n",
              "      <td>2.0</td>\n",
              "      <td>151.5500</td>\n",
              "      <td>135.0</td>\n",
              "      <td>1</td>\n",
              "    </tr>\n",
              "    <tr>\n",
              "      <th>4</th>\n",
              "      <td>1.0</td>\n",
              "      <td>0.0</td>\n",
              "      <td>25.000000</td>\n",
              "      <td>1.0</td>\n",
              "      <td>2.0</td>\n",
              "      <td>151.5500</td>\n",
              "      <td>NaN</td>\n",
              "      <td>1</td>\n",
              "    </tr>\n",
              "    <tr>\n",
              "      <th>...</th>\n",
              "      <td>...</td>\n",
              "      <td>...</td>\n",
              "      <td>...</td>\n",
              "      <td>...</td>\n",
              "      <td>...</td>\n",
              "      <td>...</td>\n",
              "      <td>...</td>\n",
              "      <td>...</td>\n",
              "    </tr>\n",
              "    <tr>\n",
              "      <th>1305</th>\n",
              "      <td>3.0</td>\n",
              "      <td>0.0</td>\n",
              "      <td>29.881135</td>\n",
              "      <td>1.0</td>\n",
              "      <td>0.0</td>\n",
              "      <td>14.4542</td>\n",
              "      <td>NaN</td>\n",
              "      <td>0</td>\n",
              "    </tr>\n",
              "    <tr>\n",
              "      <th>1306</th>\n",
              "      <td>3.0</td>\n",
              "      <td>0.0</td>\n",
              "      <td>26.500000</td>\n",
              "      <td>0.0</td>\n",
              "      <td>0.0</td>\n",
              "      <td>7.2250</td>\n",
              "      <td>304.0</td>\n",
              "      <td>0</td>\n",
              "    </tr>\n",
              "    <tr>\n",
              "      <th>1307</th>\n",
              "      <td>3.0</td>\n",
              "      <td>0.0</td>\n",
              "      <td>27.000000</td>\n",
              "      <td>0.0</td>\n",
              "      <td>0.0</td>\n",
              "      <td>7.2250</td>\n",
              "      <td>NaN</td>\n",
              "      <td>0</td>\n",
              "    </tr>\n",
              "    <tr>\n",
              "      <th>1308</th>\n",
              "      <td>3.0</td>\n",
              "      <td>0.0</td>\n",
              "      <td>29.000000</td>\n",
              "      <td>0.0</td>\n",
              "      <td>0.0</td>\n",
              "      <td>7.8750</td>\n",
              "      <td>NaN</td>\n",
              "      <td>0</td>\n",
              "    </tr>\n",
              "    <tr>\n",
              "      <th>1309</th>\n",
              "      <td>NaN</td>\n",
              "      <td>NaN</td>\n",
              "      <td>29.881135</td>\n",
              "      <td>NaN</td>\n",
              "      <td>NaN</td>\n",
              "      <td>NaN</td>\n",
              "      <td>NaN</td>\n",
              "      <td>0</td>\n",
              "    </tr>\n",
              "  </tbody>\n",
              "</table>\n",
              "<p>1310 rows × 8 columns</p>\n",
              "</div>"
            ],
            "text/plain": [
              "      pclass  survived        age  ...      fare   body  has_cabin_number\n",
              "0        1.0       1.0  29.000000  ...  211.3375    NaN                 1\n",
              "1        1.0       1.0   0.916700  ...  151.5500    NaN                 1\n",
              "2        1.0       0.0   2.000000  ...  151.5500    NaN                 1\n",
              "3        1.0       0.0  30.000000  ...  151.5500  135.0                 1\n",
              "4        1.0       0.0  25.000000  ...  151.5500    NaN                 1\n",
              "...      ...       ...        ...  ...       ...    ...               ...\n",
              "1305     3.0       0.0  29.881135  ...   14.4542    NaN                 0\n",
              "1306     3.0       0.0  26.500000  ...    7.2250  304.0                 0\n",
              "1307     3.0       0.0  27.000000  ...    7.2250    NaN                 0\n",
              "1308     3.0       0.0  29.000000  ...    7.8750    NaN                 0\n",
              "1309     NaN       NaN  29.881135  ...       NaN    NaN                 0\n",
              "\n",
              "[1310 rows x 8 columns]"
            ]
          },
          "metadata": {
            "tags": []
          },
          "execution_count": 19
        }
      ]
    },
    {
      "cell_type": "code",
      "metadata": {
        "id": "Lmu1I6MuFN-n",
        "colab_type": "code",
        "outputId": "52388e4d-6f69-4c27-9c4e-28408f2ac43b",
        "colab": {
          "base_uri": "https://localhost:8080/",
          "height": 297
        }
      },
      "source": [
        "#TITANIC VARIANCE COVARIANCE MATRIX\n",
        "titanic2.cov()"
      ],
      "execution_count": 0,
      "outputs": [
        {
          "output_type": "execute_result",
          "data": {
            "text/html": [
              "<div>\n",
              "<style scoped>\n",
              "    .dataframe tbody tr th:only-of-type {\n",
              "        vertical-align: middle;\n",
              "    }\n",
              "\n",
              "    .dataframe tbody tr th {\n",
              "        vertical-align: top;\n",
              "    }\n",
              "\n",
              "    .dataframe thead th {\n",
              "        text-align: right;\n",
              "    }\n",
              "</style>\n",
              "<table border=\"1\" class=\"dataframe\">\n",
              "  <thead>\n",
              "    <tr style=\"text-align: right;\">\n",
              "      <th></th>\n",
              "      <th>pclass</th>\n",
              "      <th>survived</th>\n",
              "      <th>age</th>\n",
              "      <th>sibsp</th>\n",
              "      <th>parch</th>\n",
              "      <th>fare</th>\n",
              "      <th>body</th>\n",
              "      <th>has_cabin_number</th>\n",
              "    </tr>\n",
              "  </thead>\n",
              "  <tbody>\n",
              "    <tr>\n",
              "      <th>pclass</th>\n",
              "      <td>0.701969</td>\n",
              "      <td>-0.127248</td>\n",
              "      <td>-3.954605</td>\n",
              "      <td>0.053090</td>\n",
              "      <td>0.013287</td>\n",
              "      <td>-24.227788</td>\n",
              "      <td>-2.876653</td>\n",
              "      <td>-0.249992</td>\n",
              "    </tr>\n",
              "    <tr>\n",
              "      <th>survived</th>\n",
              "      <td>-0.127248</td>\n",
              "      <td>0.236250</td>\n",
              "      <td>-0.314343</td>\n",
              "      <td>-0.014088</td>\n",
              "      <td>0.034776</td>\n",
              "      <td>6.146023</td>\n",
              "      <td>0.000000</td>\n",
              "      <td>0.061406</td>\n",
              "    </tr>\n",
              "    <tr>\n",
              "      <th>age</th>\n",
              "      <td>-3.954605</td>\n",
              "      <td>-0.314343</td>\n",
              "      <td>165.850021</td>\n",
              "      <td>-2.559806</td>\n",
              "      <td>-1.459378</td>\n",
              "      <td>114.416613</td>\n",
              "      <td>81.622922</td>\n",
              "      <td>1.463138</td>\n",
              "    </tr>\n",
              "    <tr>\n",
              "      <th>sibsp</th>\n",
              "      <td>0.053090</td>\n",
              "      <td>-0.014088</td>\n",
              "      <td>-2.559806</td>\n",
              "      <td>1.085052</td>\n",
              "      <td>0.336833</td>\n",
              "      <td>8.641768</td>\n",
              "      <td>-8.708471</td>\n",
              "      <td>-0.003946</td>\n",
              "    </tr>\n",
              "    <tr>\n",
              "      <th>parch</th>\n",
              "      <td>0.013287</td>\n",
              "      <td>0.034776</td>\n",
              "      <td>-1.459378</td>\n",
              "      <td>0.336833</td>\n",
              "      <td>0.749195</td>\n",
              "      <td>9.928031</td>\n",
              "      <td>4.237190</td>\n",
              "      <td>0.013316</td>\n",
              "    </tr>\n",
              "    <tr>\n",
              "      <th>fare</th>\n",
              "      <td>-24.227788</td>\n",
              "      <td>6.146023</td>\n",
              "      <td>114.416613</td>\n",
              "      <td>8.641768</td>\n",
              "      <td>9.928031</td>\n",
              "      <td>2678.959738</td>\n",
              "      <td>-179.164684</td>\n",
              "      <td>10.976961</td>\n",
              "    </tr>\n",
              "    <tr>\n",
              "      <th>body</th>\n",
              "      <td>-2.876653</td>\n",
              "      <td>0.000000</td>\n",
              "      <td>81.622922</td>\n",
              "      <td>-8.708471</td>\n",
              "      <td>4.237190</td>\n",
              "      <td>-179.164684</td>\n",
              "      <td>9544.688567</td>\n",
              "      <td>3.625689</td>\n",
              "    </tr>\n",
              "    <tr>\n",
              "      <th>has_cabin_number</th>\n",
              "      <td>-0.249992</td>\n",
              "      <td>0.061406</td>\n",
              "      <td>1.463138</td>\n",
              "      <td>-0.003946</td>\n",
              "      <td>0.013316</td>\n",
              "      <td>10.976961</td>\n",
              "      <td>3.625689</td>\n",
              "      <td>0.174613</td>\n",
              "    </tr>\n",
              "  </tbody>\n",
              "</table>\n",
              "</div>"
            ],
            "text/plain": [
              "                     pclass  survived  ...         body  has_cabin_number\n",
              "pclass             0.701969 -0.127248  ...    -2.876653         -0.249992\n",
              "survived          -0.127248  0.236250  ...     0.000000          0.061406\n",
              "age               -3.954605 -0.314343  ...    81.622922          1.463138\n",
              "sibsp              0.053090 -0.014088  ...    -8.708471         -0.003946\n",
              "parch              0.013287  0.034776  ...     4.237190          0.013316\n",
              "fare             -24.227788  6.146023  ...  -179.164684         10.976961\n",
              "body              -2.876653  0.000000  ...  9544.688567          3.625689\n",
              "has_cabin_number  -0.249992  0.061406  ...     3.625689          0.174613\n",
              "\n",
              "[8 rows x 8 columns]"
            ]
          },
          "metadata": {
            "tags": []
          },
          "execution_count": 20
        }
      ]
    },
    {
      "cell_type": "markdown",
      "metadata": {
        "id": "7K0Xfh8MvYkl",
        "colab_type": "text"
      },
      "source": [
        "# Orthogonality"
      ]
    },
    {
      "cell_type": "markdown",
      "metadata": {
        "id": "Pe3eOZ2fvdZ-",
        "colab_type": "text"
      },
      "source": [
        "## 2.1 Plot two vectors that are orthogonal to each other. What is a synonym for orthogonal?"
      ]
    },
    {
      "cell_type": "code",
      "metadata": {
        "id": "YLSBk7hJvvCx",
        "colab_type": "code",
        "outputId": "fa458340-9493-4917-fc1a-0b2fcee7ea9f",
        "colab": {
          "base_uri": "https://localhost:8080/",
          "height": 269
        }
      },
      "source": [
        "#Perpendicular \n",
        "import matplotlib.pyplot as plt\n",
        "\n",
        "a = [0,1]\n",
        "b = [1.25,0]\n",
        "\n",
        "plt.arrow(0,0,a[0],a[1],head_width=.05, head_length=0.05)\n",
        "plt.arrow(0,0,b[0],b[1],head_width=.05, head_length=0.05)\n",
        "\n",
        "plt.xlim(-1,2)          \n",
        "plt.ylim(-1,2)\n",
        "plt.show()"
      ],
      "execution_count": 0,
      "outputs": [
        {
          "output_type": "display_data",
          "data": {
            "image/png": "[encoded data removed]",
            "text/plain": [
              "<Figure size 432x288 with 1 Axes>"
            ]
          },
          "metadata": {
            "tags": []
          }
        }
      ]
    },
    {
      "cell_type": "code",
      "metadata": {
        "id": "ecDwTRlzofJC",
        "colab_type": "code",
        "outputId": "513e6505-3e8b-4093-ea42-c3c45b9a5c06",
        "colab": {
          "base_uri": "https://localhost:8080/",
          "height": 34
        }
      },
      "source": [
        "a = np.array([0,1])\n",
        "b = np.array([1.25,0])\n",
        "np.dot(a,b)"
      ],
      "execution_count": 0,
      "outputs": [
        {
          "output_type": "execute_result",
          "data": {
            "text/plain": [
              "0.0"
            ]
          },
          "metadata": {
            "tags": []
          },
          "execution_count": 45
        }
      ]
    },
    {
      "cell_type": "markdown",
      "metadata": {
        "id": "7AS4V1Nhvvxz",
        "colab_type": "text"
      },
      "source": [
        "## 2.2 Are the following vectors orthogonal? Why or why not?\n",
        "\n",
        "\\begin{align}\n",
        "a = \\begin{bmatrix} -5 \\\\ 3 \\\\ 7 \\end{bmatrix}\n",
        "\\qquad\n",
        "b = \\begin{bmatrix} 6 \\\\ -8 \\\\ 2 \\end{bmatrix}\n",
        "\\end{align}"
      ]
    },
    {
      "cell_type": "code",
      "metadata": {
        "id": "F_-y54YSz47k",
        "colab_type": "code",
        "colab": {}
      },
      "source": [
        "a = np.array([-5,3,7])\n",
        "b = np.array([6,-8,2])"
      ],
      "execution_count": 0,
      "outputs": []
    },
    {
      "cell_type": "code",
      "metadata": {
        "id": "o3b9ipLAkNxn",
        "colab_type": "code",
        "outputId": "1243de27-858d-4df1-e6f0-f8007e45e805",
        "colab": {
          "base_uri": "https://localhost:8080/",
          "height": 34
        }
      },
      "source": [
        "# Vectors a and b are orthogonal because their dot product is zero.\n",
        "np.dot(a,b)"
      ],
      "execution_count": 0,
      "outputs": [
        {
          "output_type": "execute_result",
          "data": {
            "text/plain": [
              "-40"
            ]
          },
          "metadata": {
            "tags": []
          },
          "execution_count": 23
        }
      ]
    },
    {
      "cell_type": "markdown",
      "metadata": {
        "id": "MiNjyqiEz5SG",
        "colab_type": "text"
      },
      "source": [
        "## 2.3 Compute the following values: What do these quantities have in common?\n",
        "\n",
        "## What is $||c||^2$? \n",
        "\n",
        "## What is $c \\cdot c$? \n",
        "\n",
        "## What is $c^{T}c$?\n",
        "\n",
        "\\begin{align}\n",
        "c = \\begin{bmatrix} 2 & -15 & 6 & 20 \\end{bmatrix}\n",
        "\\end{align}"
      ]
    },
    {
      "cell_type": "code",
      "metadata": {
        "id": "IlV_uaYK1EQB",
        "colab_type": "code",
        "colab": {}
      },
      "source": [
        "#NORM SQUARED\n",
        "c = np.array([2,-15,6,20])"
      ],
      "execution_count": 0,
      "outputs": []
    },
    {
      "cell_type": "code",
      "metadata": {
        "id": "kZjXNyvDIaH5",
        "colab_type": "code",
        "outputId": "f4648d46-ab82-4072-c2b0-663618ff278b",
        "colab": {
          "base_uri": "https://localhost:8080/",
          "height": 34
        }
      },
      "source": [
        "np.linalg.norm(c)**2"
      ],
      "execution_count": 0,
      "outputs": [
        {
          "output_type": "execute_result",
          "data": {
            "text/plain": [
              "665.0"
            ]
          },
          "metadata": {
            "tags": []
          },
          "execution_count": 25
        }
      ]
    },
    {
      "cell_type": "code",
      "metadata": {
        "id": "gm9-GAthIaTu",
        "colab_type": "code",
        "outputId": "113f42ca-111a-40be-b557-a683e8e2bcbd",
        "colab": {
          "base_uri": "https://localhost:8080/",
          "height": 34
        }
      },
      "source": [
        "#DOT PRODUCT\n",
        "np.dot(c,c)"
      ],
      "execution_count": 0,
      "outputs": [
        {
          "output_type": "execute_result",
          "data": {
            "text/plain": [
              "665"
            ]
          },
          "metadata": {
            "tags": []
          },
          "execution_count": 26
        }
      ]
    },
    {
      "cell_type": "code",
      "metadata": {
        "id": "svZAT8UsIbRt",
        "colab_type": "code",
        "outputId": "fc524676-682c-4a45-9350-8d938843b834",
        "colab": {
          "base_uri": "https://localhost:8080/",
          "height": 34
        }
      },
      "source": [
        "#TRANSPOSED\n",
        "c.T * c"
      ],
      "execution_count": 0,
      "outputs": [
        {
          "output_type": "execute_result",
          "data": {
            "text/plain": [
              "array([  4, 225,  36, 400])"
            ]
          },
          "metadata": {
            "tags": []
          },
          "execution_count": 46
        }
      ]
    },
    {
      "cell_type": "code",
      "metadata": {
        "id": "chQBZeVopKus",
        "colab_type": "code",
        "outputId": "1686f3ca-4f53-4eec-aad7-f4973d571a2e",
        "colab": {
          "base_uri": "https://localhost:8080/",
          "height": 34
        }
      },
      "source": [
        "#cT . c\n",
        "np.dot(c.T,c)"
      ],
      "execution_count": 0,
      "outputs": [
        {
          "output_type": "execute_result",
          "data": {
            "text/plain": [
              "665"
            ]
          },
          "metadata": {
            "tags": []
          },
          "execution_count": 47
        }
      ]
    },
    {
      "cell_type": "markdown",
      "metadata": {
        "id": "MK_TpWqk1Evk",
        "colab_type": "text"
      },
      "source": [
        "# Unit Vectors"
      ]
    },
    {
      "cell_type": "markdown",
      "metadata": {
        "id": "Kpit6WWO1b8l",
        "colab_type": "text"
      },
      "source": [
        "## 3.1 Using Latex, write the following vectors as a linear combination of scalars and unit vectors:\n",
        "\n",
        "\\begin{align}\n",
        "d = \\begin{bmatrix} 7 \\\\ 12 \\end{bmatrix}\n",
        "\\qquad\n",
        "e = \\begin{bmatrix} 2 \\\\ 11 \\\\ -8  \\end{bmatrix}\n",
        "\\end{align}"
      ]
    },
    {
      "cell_type": "markdown",
      "metadata": {
        "id": "oBCj1sDW2ouC",
        "colab_type": "text"
      },
      "source": [
        "\\begin{align}\n",
        "d = \\begin{bmatrix} 7 \\\\ 12 \\end{bmatrix} = 7\n",
        "\\begin{bmatrix} 1 \\\\ 0 \\end{bmatrix} + 12\n",
        "\\begin{bmatrix} 0\\\\ 1 \\end{bmatrix} = 7 î + 12 ĵ\n",
        "\\end{align} \n",
        "\n",
        "\\begin{align}\n",
        "e = \\begin{bmatrix} 2 \\\\ 11\\\\-8 \\end{bmatrix} = 2\n",
        "\\begin{bmatrix} 1 \\\\ 0 \\\\0 \\end{bmatrix} + 11\n",
        "\\begin{bmatrix} 0\\\\ 1 \\\\0 \\end{bmatrix} + -8\n",
        "\\begin{bmatrix} 0 \\\\ 0 \\\\1 \\end{bmatrix} = 2 î + 11 ĵ -8 k̂\n",
        "\\end{align} \n",
        "\n",
        "\n"
      ]
    },
    {
      "cell_type": "code",
      "metadata": {
        "id": "3frb5CsHMET_",
        "colab_type": "code",
        "outputId": "cd4fc3d4-9454-49db-ea91-e0f083c563ff",
        "colab": {
          "base_uri": "https://localhost:8080/",
          "height": 85
        }
      },
      "source": [
        "print('i\\u0302')\n",
        "print('j\\u0302')\n",
        "print('k\\u0302')\n",
        "print('f\\u0302')"
      ],
      "execution_count": 0,
      "outputs": [
        {
          "output_type": "stream",
          "text": [
            "î\n",
            "ĵ\n",
            "k̂\n",
            "f̂\n"
          ],
          "name": "stdout"
        }
      ]
    },
    {
      "cell_type": "markdown",
      "metadata": {
        "id": "dAdUQuep1_yJ",
        "colab_type": "text"
      },
      "source": [
        "## 3.2 Turn vector $f$ into a unit vector:\n",
        "\n",
        "\\begin{align}\n",
        "f = \\begin{bmatrix} 4 & 12 & 11 & 9 & 2 \\end{bmatrix}\n",
        "\\end{align}"
      ]
    },
    {
      "cell_type": "code",
      "metadata": {
        "id": "I3W8ZiHR1_Fa",
        "colab_type": "code",
        "outputId": "dac95f4f-be7c-42be-b9a6-637f36376513",
        "colab": {
          "base_uri": "https://localhost:8080/",
          "height": 34
        }
      },
      "source": [
        "#DIVIDE EACH ELEMENT BY IT'S NORM\n",
        "f = np.array([[4,12,11,9,2]])\n",
        "fnorm = np.linalg.norm(f)\n",
        "fnorm"
      ],
      "execution_count": 0,
      "outputs": [
        {
          "output_type": "execute_result",
          "data": {
            "text/plain": [
              "19.131126469708992"
            ]
          },
          "metadata": {
            "tags": []
          },
          "execution_count": 29
        }
      ]
    },
    {
      "cell_type": "code",
      "metadata": {
        "id": "9ZCJTdaaSxbU",
        "colab_type": "code",
        "outputId": "9ee7bdf7-54a7-4902-9c98-e6aaf890fe3b",
        "colab": {
          "base_uri": "https://localhost:8080/",
          "height": 34
        }
      },
      "source": [
        "f̂ = f / fnorm\n",
        "f̂"
      ],
      "execution_count": 0,
      "outputs": [
        {
          "output_type": "execute_result",
          "data": {
            "text/plain": [
              "array([[0.20908335, 0.62725005, 0.57497921, 0.47043754, 0.10454167]])"
            ]
          },
          "metadata": {
            "tags": []
          },
          "execution_count": 30
        }
      ]
    },
    {
      "cell_type": "markdown",
      "metadata": {
        "id": "o39UyP-I5lpP",
        "colab_type": "text"
      },
      "source": [
        "# Linear Independence / Dependence "
      ]
    },
    {
      "cell_type": "markdown",
      "metadata": {
        "id": "ajfBqYe45sT5",
        "colab_type": "text"
      },
      "source": [
        "## 4.1 Plot two vectors that are linearly dependent and two vectors that are linearly independent (bonus points if done in $\\mathbb{R}^3$)."
      ]
    },
    {
      "cell_type": "code",
      "metadata": {
        "id": "acCsCmgyTkRH",
        "colab_type": "code",
        "outputId": "fd791116-ee6a-4298-98b9-469ef5cbbb2e",
        "colab": {
          "base_uri": "https://localhost:8080/",
          "height": 269
        }
      },
      "source": [
        "#LINEARLY DEPENDENT \n",
        "a = [1,1.8]\n",
        "b = [.5,.9]\n",
        "\n",
        "plt.arrow(0,0,a[0],a[1],head_width=.1, head_length=0.05, color='blue')\n",
        "plt.arrow(0,0,b[0],b[1],head_width=.1, head_length=0.05)\n",
        "\n",
        "plt.xlim(-1,2)          \n",
        "plt.ylim(-1,2)\n",
        "plt.show()"
      ],
      "execution_count": 0,
      "outputs": [
        {
          "output_type": "display_data",
          "data": {
            "image/png": "[encoded data removed]",
            "text/plain": [
              "<Figure size 432x288 with 1 Axes>"
            ]
          },
          "metadata": {
            "tags": []
          }
        }
      ]
    },
    {
      "cell_type": "code",
      "metadata": {
        "id": "lRFBxzF6TYQo",
        "colab_type": "code",
        "outputId": "e728ccee-8df7-4433-c323-1987309ff51e",
        "colab": {
          "base_uri": "https://localhost:8080/",
          "height": 269
        }
      },
      "source": [
        "#LINEARLY DEPENDENT \n",
        "a = [.8,.4]\n",
        "b = [1.6,0]\n",
        "\n",
        "plt.arrow(0,0,a[0],a[1],head_width=.1, head_length=0.05, color='blue')\n",
        "plt.arrow(0,0,b[0],b[1],head_width=.1, head_length=0.05)\n",
        "\n",
        "plt.xlim(-1,2)          \n",
        "plt.ylim(-1,2)\n",
        "plt.show()"
      ],
      "execution_count": 0,
      "outputs": [
        {
          "output_type": "display_data",
          "data": {
            "image/png": "[encoded data removed]",
            "text/plain": [
              "<Figure size 432x288 with 1 Axes>"
            ]
          },
          "metadata": {
            "tags": []
          }
        }
      ]
    },
    {
      "cell_type": "markdown",
      "metadata": {
        "id": "TrJ0MT_n3SvO",
        "colab_type": "text"
      },
      "source": [
        "# Span"
      ]
    },
    {
      "cell_type": "markdown",
      "metadata": {
        "id": "86iXLzwM2z8l",
        "colab_type": "text"
      },
      "source": [
        "## 5.1 What is the span of the following vectors?\n",
        "\n",
        "\\begin{align}\n",
        "g = \\begin{bmatrix} 1 & 2 \\end{bmatrix}\n",
        "\\qquad\n",
        "h = \\begin{bmatrix} 4 & 8 \\end{bmatrix}\n",
        "\\end{align}"
      ]
    },
    {
      "cell_type": "code",
      "metadata": {
        "id": "G2LK2RWL39Q4",
        "colab_type": "code",
        "outputId": "027f40d0-5edd-4787-8001-2577f9de8c98",
        "colab": {
          "base_uri": "https://localhost:8080/",
          "height": 269
        }
      },
      "source": [
        "#THE SPAN OF THESE VECTORS IS ONE (1) BECAUSE THE ARE LINEARLY DEPENDENT\n",
        "g = [1,2]\n",
        "h = [4,8]\n",
        "plt.arrow(0,0,h[0],h[1],head_width=.15, head_length=0.15, color = 'pink')\n",
        "plt.arrow(0,0,g[0],g[1],head_width=.15, head_length=0.15, color='blue')\n",
        "plt.xlim(0,5)          \n",
        "plt.ylim(0,9)\n",
        "plt.show()"
      ],
      "execution_count": 0,
      "outputs": [
        {
          "output_type": "display_data",
          "data": {
            "image/png": "[encoded data removed]",
            "text/plain": [
              "<Figure size 432x288 with 1 Axes>"
            ]
          },
          "metadata": {
            "tags": []
          }
        }
      ]
    },
    {
      "cell_type": "markdown",
      "metadata": {
        "id": "l1deylUj4IHH",
        "colab_type": "text"
      },
      "source": [
        "## 5.2 What is the span of $\\{l, m, n\\}$?\n",
        "\n",
        "\\begin{align}\n",
        "l = \\begin{bmatrix} 1 & 2 & 3 \\end{bmatrix}\n",
        "\\qquad\n",
        "m = \\begin{bmatrix} -1 & 0 & 7 \\end{bmatrix}\n",
        "\\qquad\n",
        "n = \\begin{bmatrix} 4 & 8  & 2\\end{bmatrix}\n",
        "\\end{align}"
      ]
    },
    {
      "cell_type": "code",
      "metadata": {
        "id": "p1i_ueD25ZcP",
        "colab_type": "code",
        "outputId": "7dd63d46-46e7-4064-c6df-60caa682092e",
        "colab": {
          "base_uri": "https://localhost:8080/",
          "height": 34
        }
      },
      "source": [
        "#THE SPAN OF THESE VECTORS IS THREE (3)\n",
        "lmn = np.array([[1,2,3],\n",
        "              [-1,0,7],\n",
        "              [4,8,2]])\n",
        "\n",
        "np.linalg.matrix_rank(lmn)\n"
      ],
      "execution_count": 0,
      "outputs": [
        {
          "output_type": "execute_result",
          "data": {
            "text/plain": [
              "3"
            ]
          },
          "metadata": {
            "tags": []
          },
          "execution_count": 34
        }
      ]
    },
    {
      "cell_type": "markdown",
      "metadata": {
        "id": "IBqe7X1732kX",
        "colab_type": "text"
      },
      "source": [
        "# Basis"
      ]
    },
    {
      "cell_type": "markdown",
      "metadata": {
        "id": "YeUZVHRM6PpT",
        "colab_type": "text"
      },
      "source": [
        "## 6.1 Graph two vectors that form a basis for $\\mathbb{R}^2$\n",
        "\n"
      ]
    },
    {
      "cell_type": "code",
      "metadata": {
        "id": "utvF3Pkt8NP6",
        "colab_type": "code",
        "outputId": "6ecf2f35-14ab-49b8-a8ce-013ad0e822df",
        "colab": {
          "base_uri": "https://localhost:8080/",
          "height": 269
        }
      },
      "source": [
        "a = [0,1]\n",
        "b = [1,0]\n",
        "\n",
        "plt.arrow(0,0,a[0],a[1],head_width=.05, head_length=0.05, color ='#fcba03')\n",
        "plt.arrow(0,0,b[0],b[1],head_width=.05, head_length=0.05, color ='#03fca5')\n",
        "\n",
        "plt.xlim(-.2,1.2)          \n",
        "plt.ylim(-.2,1.2)\n",
        "plt.show()"
      ],
      "execution_count": 0,
      "outputs": [
        {
          "output_type": "display_data",
          "data": {
            "image/png": "[encoded data removed]",
            "text/plain": [
              "<Figure size 432x288 with 1 Axes>"
            ]
          },
          "metadata": {
            "tags": []
          }
        }
      ]
    },
    {
      "cell_type": "markdown",
      "metadata": {
        "id": "20yPFBDUxxnS",
        "colab_type": "text"
      },
      "source": [
        "## 6.2 What does it mean to form a basis?"
      ]
    },
    {
      "cell_type": "markdown",
      "metadata": {
        "id": "3w4tEayT8M0o",
        "colab_type": "text"
      },
      "source": [
        "Basis  - every vector in the vector space is linearly independent and can fill the entire vector space."
      ]
    },
    {
      "cell_type": "markdown",
      "metadata": {
        "id": "EHmUxbcY6vD3",
        "colab_type": "text"
      },
      "source": [
        "# Rank"
      ]
    },
    {
      "cell_type": "markdown",
      "metadata": {
        "id": "IpJwt9kw6v8U",
        "colab_type": "text"
      },
      "source": [
        "## 7.1 What is the Rank of P?\n",
        "\n",
        "\\begin{align}\n",
        "P = \\begin{bmatrix} \n",
        "1 & 2 & 3 \\\\\n",
        " -1 & 0 & 7 \\\\\n",
        "4 & 8  & 2\n",
        "\\end{bmatrix}\n",
        "\\end{align}"
      ]
    },
    {
      "cell_type": "code",
      "metadata": {
        "id": "YpY_G1-iqER8",
        "colab_type": "code",
        "outputId": "21896593-1ac7-495f-b1c3-36f0ffeae0a5",
        "colab": {
          "base_uri": "https://localhost:8080/",
          "height": 34
        }
      },
      "source": [
        "lmn = np.array([[1,2,3],\n",
        "              [-1,0,7],\n",
        "              [4,8,2]])\n",
        "\n",
        "np.linalg.matrix_rank(lmn)"
      ],
      "execution_count": 0,
      "outputs": [
        {
          "output_type": "execute_result",
          "data": {
            "text/plain": [
              "3"
            ]
          },
          "metadata": {
            "tags": []
          },
          "execution_count": 36
        }
      ]
    },
    {
      "cell_type": "markdown",
      "metadata": {
        "id": "jGqFMBYY7mHD",
        "colab_type": "text"
      },
      "source": [
        "## 7.2 What does the rank of a matrix tell us?"
      ]
    },
    {
      "cell_type": "markdown",
      "metadata": {
        "id": "Vjg1IiCD8nnP",
        "colab_type": "text"
      },
      "source": [
        "The rank of this matrix tell us that demensions of the vector space.\n",
        "\n"
      ]
    },
    {
      "cell_type": "markdown",
      "metadata": {
        "id": "0Db2sc_V8QD6",
        "colab_type": "text"
      },
      "source": [
        "# Linear Projections\n",
        "\n",
        "## 8.1 Line $L$ is formed by all of the vectors that can be created by scaling vector $v$ \n",
        "\\begin{align}\n",
        "v = \\begin{bmatrix} 1 & 3 \\end{bmatrix}\n",
        "\\end{align}\n",
        "\n",
        "\\begin{align}\n",
        "w = \\begin{bmatrix} -1 & 2 \\end{bmatrix}\n",
        "\\end{align}\n",
        "\n",
        "## find $proj_{L}(w)$\n",
        "\n",
        "## graph your projected vector to check your work (make sure your axis are square/even)"
      ]
    },
    {
      "cell_type": "code",
      "metadata": {
        "id": "hp5z2WTBCNKx",
        "colab_type": "code",
        "outputId": "80d3dffd-3d54-41b2-ff2b-c659c052fa98",
        "colab": {
          "base_uri": "https://localhost:8080/",
          "height": 269
        }
      },
      "source": [
        "v = np.array([1,3])\n",
        "w = np.array([-1,2])\n",
        "#L = \n",
        "\n",
        "plt.arrow(0,0,v[0],v[1],head_width=.3,\n",
        "          head_length=0.2, color ='#fcba03') #vector v\n",
        "plt.arrow(0,0,w[0],w[1],head_width=.3,\n",
        "          head_length=0.2, color ='#03fca5') #vector w\n",
        "\n",
        "plt.xlim(-4,4)          \n",
        "plt.ylim(-4,4)\n",
        "plt.hlines(0,-4,4)\n",
        "plt.vlines(0,-4,4)\n",
        "import matplotlib.patches as mpatches\n",
        "gold_patch = mpatches.Patch(color='#fcba03', label='v')\n",
        "teal_patch = mpatches.Patch(color='#03fca5', label='w')\n",
        "plt.legend(handles=[gold_patch,teal_patch])\n",
        "plt.show()"
      ],
      "execution_count": 0,
      "outputs": [
        {
          "output_type": "display_data",
          "data": {
            "image/png": "[encoded data removed]",
            "text/plain": [
              "<Figure size 432x288 with 1 Axes>"
            ]
          },
          "metadata": {
            "tags": []
          }
        }
      ]
    },
    {
      "cell_type": "markdown",
      "metadata": {
        "id": "DC2ESg5ZsjhU",
        "colab_type": "text"
      },
      "source": [
        "![alt text](http://stweb.peelschools.org/jfsweb/mga4u/unit2/IMAGES2/vecpro1.gif)"
      ]
    },
    {
      "cell_type": "code",
      "metadata": {
        "id": "HhwEm6D1sxFG",
        "colab_type": "code",
        "outputId": "ec629258-2cb1-4bb5-88cf-34e92805da41",
        "colab": {
          "base_uri": "https://localhost:8080/",
          "height": 34
        }
      },
      "source": [
        "np.linalg.norm(v)**2"
      ],
      "execution_count": 0,
      "outputs": [
        {
          "output_type": "execute_result",
          "data": {
            "text/plain": [
              "10.000000000000002"
            ]
          },
          "metadata": {
            "tags": []
          },
          "execution_count": 38
        }
      ]
    },
    {
      "cell_type": "code",
      "metadata": {
        "id": "IJqYY-PEvdrB",
        "colab_type": "code",
        "outputId": "289d6ec6-bb6d-486c-ed4c-41fcf9bb45a4",
        "colab": {
          "base_uri": "https://localhost:8080/",
          "height": 34
        }
      },
      "source": [
        "projection = (np.dot(w,v) / (np.linalg.norm(v)**2))*v\n",
        "projection"
      ],
      "execution_count": 0,
      "outputs": [
        {
          "output_type": "execute_result",
          "data": {
            "text/plain": [
              "array([0.5, 1.5])"
            ]
          },
          "metadata": {
            "tags": []
          },
          "execution_count": 39
        }
      ]
    },
    {
      "cell_type": "code",
      "metadata": {
        "id": "71SRJ1daxCqp",
        "colab_type": "code",
        "outputId": "5c85f8fe-ad63-4e97-f4c6-9db1ccb3456c",
        "colab": {
          "base_uri": "https://localhost:8080/",
          "height": 269
        }
      },
      "source": [
        "#projL(w)\n",
        "plt.xlim(-4,4)          \n",
        "plt.ylim(-2,4)\n",
        "plt.hlines(0,-4,4)\n",
        "plt.vlines(0,-4,4)\n",
        "\n",
        "v = np.array([1,3])\n",
        "w = np.array([-1,2])\n",
        "x= np.linspace(-5,5)\n",
        "y=3*x\n",
        "plt.plot(x,y,color = 'dimgray', linestyle = '--') #Line L\n",
        "\n",
        "plt.arrow(0,0,v[0],v[1],head_width=.3, head_length=0.2,\n",
        "          color ='#fcba03', width=.05) #vector v\n",
        "plt.arrow(0,0,w[0],w[1],head_width=.3, head_length=0.2,\n",
        "          color ='#03fca5', width=.05) #vector w\n",
        "plt.arrow(0,0,projection[0],projection[1],head_width=.3,\n",
        "          head_length=0.2, color ='#e834eb',\n",
        "          width=.05) #vector w projected on v (line L)\n",
        "plt.plot((.5,-1),(1.5,2), linestyle='--')\n",
        "\n",
        "gold_patch = mpatches.Patch(color='#fcba03', label='v')\n",
        "teal_patch = mpatches.Patch(color='#03fca5', label='w')\n",
        "purple_patch = mpatches.Patch(color='#e834eb', label='p')\n",
        "pink_patch = mpatches.Patch(color='dimgray', label='L')\n",
        "plt.legend(handles=[gold_patch,teal_patch,purple_patch,pink_patch])\n",
        "\n",
        "plt.show()"
      ],
      "execution_count": 0,
      "outputs": [
        {
          "output_type": "display_data",
          "data": {
            "image/png": "[encoded data removed]",
            "text/plain": [
              "<Figure size 432x288 with 1 Axes>"
            ]
          },
          "metadata": {
            "tags": []
          }
        }
      ]
    },
    {
      "cell_type": "markdown",
      "metadata": {
        "id": "TKkrPwRM-Oar",
        "colab_type": "text"
      },
      "source": [
        "# Stretch Goal\n",
        "\n",
        "## For vectors that begin at the origin, the coordinates of where the vector ends can be interpreted as regular data points. (See 3Blue1Brown videos about Spans, Basis, etc.)\n",
        "\n",
        "## Write a function that can calculate the linear projection of each point (x,y) (vector) onto the line y=x. run the function and plot the original points in blue and the new projected points on the line y=x in red. \n",
        "\n",
        "## For extra points plot the orthogonal vectors as a dashed line from the original blue points to the projected red points."
      ]
    },
    {
      "cell_type": "code",
      "metadata": {
        "id": "cp52kZra-ykj",
        "colab_type": "code",
        "outputId": "bf633cf5-dae0-404e-a9ee-ea3e6e4ffe5f",
        "colab": {
          "base_uri": "https://localhost:8080/",
          "height": 265
        }
      },
      "source": [
        "import pandas as pd\n",
        "import matplotlib.pyplot as plt\n",
        "\n",
        "# Creating a dataframe for you to work with -Feel free to not use the dataframe if you don't want to.\n",
        "x_values = [1, 4, 7, 3, 9, 4, 5 ]\n",
        "y_values = [4, 2, 5, 0, 8, 2, 8]\n",
        "\n",
        "data = {\"x\": x_values, \"y\": y_values}\n",
        "\n",
        "df = pd.DataFrame(data)\n",
        "\n",
        "df.head()\n",
        "\n",
        "plt.scatter(df.x, df.y)\n",
        "plt.show()"
      ],
      "execution_count": 0,
      "outputs": [
        {
          "output_type": "display_data",
          "data": {
            "image/png": "[encoded data removed]",
            "text/plain": [
              "<Figure size 432x288 with 1 Axes>"
            ]
          },
          "metadata": {
            "tags": []
          }
        }
      ]
    },
    {
      "cell_type": "code",
      "metadata": {
        "id": "EZTA6Tj6BGDb",
        "colab_type": "code",
        "colab": {}
      },
      "source": [
        ""
      ],
      "execution_count": 0,
      "outputs": []
    }
  ]
}