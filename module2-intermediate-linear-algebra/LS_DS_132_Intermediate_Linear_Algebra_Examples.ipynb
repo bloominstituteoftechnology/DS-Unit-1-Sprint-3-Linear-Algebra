{
  "nbformat": 4,
  "nbformat_minor": 0,
  "metadata": {
    "colab": {
      "name": "LS_DS_132_Intermediate_Linear_Algebra_Examples.ipynb",
      "provenance": [],
      "collapsed_sections": [],
      "include_colab_link": true
    },
    "kernelspec": {
      "display_name": "Python 3",
      "language": "python",
      "name": "python3"
    },
    "language_info": {
      "codemirror_mode": {
        "name": "ipython",
        "version": 3
      },
      "file_extension": ".py",
      "mimetype": "text/x-python",
      "name": "python",
      "nbconvert_exporter": "python",
      "pygments_lexer": "ipython3",
      "version": "3.7.3"
    }
  },
  "cells": [
    {
      "cell_type": "markdown",
      "metadata": {
        "id": "view-in-github",
        "colab_type": "text"
      },
      "source": [
        "<a href=\"https://colab.research.google.com/github/Joseph-Maulin/DS-Unit-1-Sprint-3-Linear-Algebra/blob/master/LS_DS_132_Intermediate_Linear_Algebra_Examples.ipynb\" target=\"_parent\"><img src=\"https://colab.research.google.com/assets/colab-badge.svg\" alt=\"Open In Colab\"/></a>"
      ]
    },
    {
      "cell_type": "markdown",
      "metadata": {
        "colab_type": "text",
        "id": "GSNiYn8lr6nN"
      },
      "source": [
        "## 1. A review of statistical terms"
      ]
    },
    {
      "cell_type": "markdown",
      "metadata": {
        "colab_type": "text",
        "id": "3d4izUhQvh2_"
      },
      "source": [
        "### 1.1 Variance & Standard Deviation\n",
        "Suppose we have a list of widgets. What is the mean, variance, and standard deviation of this list?"
      ]
    },
    {
      "cell_type": "code",
      "metadata": {
        "id": "_ixh0yOhdT8p",
        "colab_type": "code",
        "colab": {}
      },
      "source": [
        "# here's the list.\n",
        "\n",
        "widgets = [451,330,570,390,410]"
      ],
      "execution_count": 0,
      "outputs": []
    },
    {
      "cell_type": "code",
      "metadata": {
        "id": "1d4sanqddT8t",
        "colab_type": "code",
        "colab": {}
      },
      "source": [
        "# which libraries should we import here?\n",
        "import numpy as np\n",
        "import pandas as pd\n",
        "import math"
      ],
      "execution_count": 0,
      "outputs": []
    },
    {
      "cell_type": "code",
      "metadata": {
        "id": "upq9JnN-dT8x",
        "colab_type": "code",
        "outputId": "fdeec62d-b5df-4734-f0d9-4d5d06a899a1",
        "colab": {
          "base_uri": "https://localhost:8080/",
          "height": 34
        }
      },
      "source": [
        "# find the mean\n",
        "total = sum(widgets)\n",
        "mean_widgets = total/len(widgets)\n",
        "mean_widgets"
      ],
      "execution_count": 7,
      "outputs": [
        {
          "output_type": "execute_result",
          "data": {
            "text/plain": [
              "430.2"
            ]
          },
          "metadata": {
            "tags": []
          },
          "execution_count": 7
        }
      ]
    },
    {
      "cell_type": "markdown",
      "metadata": {
        "id": "Z5544OxddT84",
        "colab_type": "text"
      },
      "source": [
        "#### Variance"
      ]
    },
    {
      "cell_type": "code",
      "metadata": {
        "id": "0yUn12czdT85",
        "colab_type": "code",
        "colab": {}
      },
      "source": [
        "# first write a little function \n",
        "subtract_mean = lambda x:x-mean_widgets\n",
        "# Note: this can be converted to lambda for efficiency:"
      ],
      "execution_count": 0,
      "outputs": []
    },
    {
      "cell_type": "code",
      "metadata": {
        "id": "Xbe1y44ldT89",
        "colab_type": "code",
        "outputId": "ffbc2612-ad68-4f9f-803c-50846bdf56b7",
        "colab": {
          "base_uri": "https://localhost:8080/",
          "height": 102
        }
      },
      "source": [
        "# use `map` to apply that function to our list \n",
        "distances = list(map(subtract_mean, widgets))\n",
        "distances"
      ],
      "execution_count": 9,
      "outputs": [
        {
          "output_type": "execute_result",
          "data": {
            "text/plain": [
              "[20.80000000000001,\n",
              " -100.19999999999999,\n",
              " 139.8,\n",
              " -40.19999999999999,\n",
              " -20.19999999999999]"
            ]
          },
          "metadata": {
            "tags": []
          },
          "execution_count": 9
        }
      ]
    },
    {
      "cell_type": "code",
      "metadata": {
        "id": "ZeF0jqGJdT9A",
        "colab_type": "code",
        "outputId": "4d7f33cd-a926-4a62-c54c-37534cc30d18",
        "colab": {
          "base_uri": "https://localhost:8080/",
          "height": 102
        }
      },
      "source": [
        "# square and sum all of those distances\n",
        "squared_distances = list(map(lambda x: x**2, distances))\n",
        "squared_distances"
      ],
      "execution_count": 10,
      "outputs": [
        {
          "output_type": "execute_result",
          "data": {
            "text/plain": [
              "[432.6400000000005,\n",
              " 10040.039999999997,\n",
              " 19544.040000000005,\n",
              " 1616.039999999999,\n",
              " 408.03999999999957]"
            ]
          },
          "metadata": {
            "tags": []
          },
          "execution_count": 10
        }
      ]
    },
    {
      "cell_type": "code",
      "metadata": {
        "id": "bVT36XYadT9D",
        "colab_type": "code",
        "colab": {}
      },
      "source": [
        "# how long is our list?\n",
        "# for a sample taken from a population\n",
        "list_length_S = len(squared_distances)-1\n",
        "# for a whole population (no sample)\n",
        "list_length_P = len(squared_distances)"
      ],
      "execution_count": 0,
      "outputs": []
    },
    {
      "cell_type": "code",
      "metadata": {
        "id": "H8_Hkp2DdT9I",
        "colab_type": "code",
        "outputId": "409a661e-ec15-4de8-8b2d-86377a97f5bc",
        "colab": {
          "base_uri": "https://localhost:8080/",
          "height": 34
        }
      },
      "source": [
        "# calculate variance\n",
        "variance_widgets = sum(squared_distances)/list_length_P\n",
        "variance_widgets"
      ],
      "execution_count": 12,
      "outputs": [
        {
          "output_type": "execute_result",
          "data": {
            "text/plain": [
              "6408.160000000001"
            ]
          },
          "metadata": {
            "tags": []
          },
          "execution_count": 12
        }
      ]
    },
    {
      "cell_type": "markdown",
      "metadata": {
        "id": "GqzHG81AdT9L",
        "colab_type": "text"
      },
      "source": [
        "#### standard dev"
      ]
    },
    {
      "cell_type": "code",
      "metadata": {
        "id": "0wsvGWi2dT9N",
        "colab_type": "code",
        "outputId": "6ca56c88-c424-486f-8aa1-8f0a1867c28c",
        "colab": {
          "base_uri": "https://localhost:8080/",
          "height": 34
        }
      },
      "source": [
        "# calculate the standard deviation\n",
        "widgets_std = math.sqrt(variance_widgets)\n",
        "widgets_std"
      ],
      "execution_count": 13,
      "outputs": [
        {
          "output_type": "execute_result",
          "data": {
            "text/plain": [
              "80.05098375410512"
            ]
          },
          "metadata": {
            "tags": []
          },
          "execution_count": 13
        }
      ]
    },
    {
      "cell_type": "code",
      "metadata": {
        "id": "Wk6yPTLIog4L",
        "colab_type": "code",
        "outputId": "d0516239-5e51-449c-c49d-2065fb230717",
        "colab": {
          "base_uri": "https://localhost:8080/",
          "height": 34
        }
      },
      "source": [
        "np.sqrt(variance_widgets)"
      ],
      "execution_count": 14,
      "outputs": [
        {
          "output_type": "execute_result",
          "data": {
            "text/plain": [
              "80.05098375410512"
            ]
          },
          "metadata": {
            "tags": []
          },
          "execution_count": 14
        }
      ]
    },
    {
      "cell_type": "code",
      "metadata": {
        "id": "VSZfVyDidT9R",
        "colab_type": "code",
        "outputId": "6d398e80-2b7b-43e2-8474-ef7f7b7e4b43",
        "colab": {
          "base_uri": "https://localhost:8080/",
          "height": 68
        }
      },
      "source": [
        "# check our work using numpy\n",
        "print(np.mean(widgets))\n",
        "print(np.var(widgets))\n",
        "print(np.std(widgets))"
      ],
      "execution_count": 15,
      "outputs": [
        {
          "output_type": "stream",
          "text": [
            "430.2\n",
            "6408.160000000001\n",
            "80.05098375410512\n"
          ],
          "name": "stdout"
        }
      ]
    },
    {
      "cell_type": "code",
      "metadata": {
        "colab_type": "code",
        "id": "w1iZfYvBtEA1",
        "outputId": "26e6f516-86d2-45bf-ac16-d92fce1b28ad",
        "colab": {
          "base_uri": "https://localhost:8080/",
          "height": 34
        }
      },
      "source": [
        "# check our work using pandas\n",
        "widgets_df = pd.DataFrame({\"widgets\":widgets})\n",
        "print('mean: ', widgets_df['widgets'].mean())"
      ],
      "execution_count": 16,
      "outputs": [
        {
          "output_type": "stream",
          "text": [
            "mean:  430.2\n"
          ],
          "name": "stdout"
        }
      ]
    },
    {
      "cell_type": "code",
      "metadata": {
        "id": "YTzc7-kadT9Y",
        "colab_type": "code",
        "outputId": "bd485b45-2726-49d7-a03e-22be656fde97",
        "colab": {
          "base_uri": "https://localhost:8080/",
          "height": 51
        }
      },
      "source": [
        "# for a population\n",
        "print(widgets_df['widgets'].var(ddof=0))\n",
        "print(widgets_df['widgets'].std(ddof=0))"
      ],
      "execution_count": 17,
      "outputs": [
        {
          "output_type": "stream",
          "text": [
            "6408.160000000001\n",
            "80.05098375410512\n"
          ],
          "name": "stdout"
        }
      ]
    },
    {
      "cell_type": "code",
      "metadata": {
        "id": "iRIOusUadT9b",
        "colab_type": "code",
        "outputId": "36d9a9d1-830e-40f2-8136-e3ede2a49b19",
        "colab": {
          "base_uri": "https://localhost:8080/",
          "height": 51
        }
      },
      "source": [
        "# for a sample\n",
        "print(widgets_df['widgets'].var()) #ddof=1 which is the default assuming sample\n",
        "print(widgets_df['widgets'].std())"
      ],
      "execution_count": 18,
      "outputs": [
        {
          "output_type": "stream",
          "text": [
            "8010.200000000001\n",
            "89.49972066995517\n"
          ],
          "name": "stdout"
        }
      ]
    },
    {
      "cell_type": "markdown",
      "metadata": {
        "colab_type": "text",
        "id": "oh63KaOctEp_"
      },
      "source": [
        "### 1.2 Covariance\n",
        "Find the covariance between widgets and gadgets."
      ]
    },
    {
      "cell_type": "code",
      "metadata": {
        "colab_type": "code",
        "id": "G7ZB0krot564",
        "colab": {}
      },
      "source": [
        "# make a new list\n",
        "gadgets = [410,505,371,220,625]"
      ],
      "execution_count": 0,
      "outputs": []
    },
    {
      "cell_type": "code",
      "metadata": {
        "id": "YSs3GMkWdT9i",
        "colab_type": "code",
        "outputId": "9f5aaa80-2f33-44e1-854f-44fdf27a4487",
        "colab": {
          "base_uri": "https://localhost:8080/",
          "height": 51
        }
      },
      "source": [
        "# using numpy\n",
        "np.cov(widgets, gadgets)"
      ],
      "execution_count": 20,
      "outputs": [
        {
          "output_type": "execute_result",
          "data": {
            "text/plain": [
              "array([[ 8010.2 , -2919.05],\n",
              "       [-2919.05, 22889.7 ]])"
            ]
          },
          "metadata": {
            "tags": []
          },
          "execution_count": 20
        }
      ]
    },
    {
      "cell_type": "code",
      "metadata": {
        "id": "Bz1nV-60dT9l",
        "colab_type": "code",
        "outputId": "41737c49-55e8-456e-d2e7-bf403ae48e9b",
        "colab": {
          "base_uri": "https://localhost:8080/",
          "height": 204
        }
      },
      "source": [
        "# using pandas\n",
        "widgets_df['gadgets'] = pd.Series(gadgets)\n",
        "widgets_df"
      ],
      "execution_count": 35,
      "outputs": [
        {
          "output_type": "execute_result",
          "data": {
            "text/html": [
              "<div>\n",
              "<style scoped>\n",
              "    .dataframe tbody tr th:only-of-type {\n",
              "        vertical-align: middle;\n",
              "    }\n",
              "\n",
              "    .dataframe tbody tr th {\n",
              "        vertical-align: top;\n",
              "    }\n",
              "\n",
              "    .dataframe thead th {\n",
              "        text-align: right;\n",
              "    }\n",
              "</style>\n",
              "<table border=\"1\" class=\"dataframe\">\n",
              "  <thead>\n",
              "    <tr style=\"text-align: right;\">\n",
              "      <th></th>\n",
              "      <th>widgets</th>\n",
              "      <th>gadgets</th>\n",
              "    </tr>\n",
              "  </thead>\n",
              "  <tbody>\n",
              "    <tr>\n",
              "      <th>0</th>\n",
              "      <td>451</td>\n",
              "      <td>410</td>\n",
              "    </tr>\n",
              "    <tr>\n",
              "      <th>1</th>\n",
              "      <td>330</td>\n",
              "      <td>505</td>\n",
              "    </tr>\n",
              "    <tr>\n",
              "      <th>2</th>\n",
              "      <td>570</td>\n",
              "      <td>371</td>\n",
              "    </tr>\n",
              "    <tr>\n",
              "      <th>3</th>\n",
              "      <td>390</td>\n",
              "      <td>220</td>\n",
              "    </tr>\n",
              "    <tr>\n",
              "      <th>4</th>\n",
              "      <td>410</td>\n",
              "      <td>625</td>\n",
              "    </tr>\n",
              "  </tbody>\n",
              "</table>\n",
              "</div>"
            ],
            "text/plain": [
              "   widgets  gadgets\n",
              "0      451      410\n",
              "1      330      505\n",
              "2      570      371\n",
              "3      390      220\n",
              "4      410      625"
            ]
          },
          "metadata": {
            "tags": []
          },
          "execution_count": 35
        }
      ]
    },
    {
      "cell_type": "code",
      "metadata": {
        "id": "rFhFZUjJrMln",
        "colab_type": "code",
        "colab": {
          "base_uri": "https://localhost:8080/",
          "height": 111
        },
        "outputId": "3a31c495-cc3d-4044-a392-6128531a62d3"
      },
      "source": [
        "widgets_df.cov()"
      ],
      "execution_count": 36,
      "outputs": [
        {
          "output_type": "execute_result",
          "data": {
            "text/html": [
              "<div>\n",
              "<style scoped>\n",
              "    .dataframe tbody tr th:only-of-type {\n",
              "        vertical-align: middle;\n",
              "    }\n",
              "\n",
              "    .dataframe tbody tr th {\n",
              "        vertical-align: top;\n",
              "    }\n",
              "\n",
              "    .dataframe thead th {\n",
              "        text-align: right;\n",
              "    }\n",
              "</style>\n",
              "<table border=\"1\" class=\"dataframe\">\n",
              "  <thead>\n",
              "    <tr style=\"text-align: right;\">\n",
              "      <th></th>\n",
              "      <th>widgets</th>\n",
              "      <th>gadgets</th>\n",
              "    </tr>\n",
              "  </thead>\n",
              "  <tbody>\n",
              "    <tr>\n",
              "      <th>widgets</th>\n",
              "      <td>8010.20</td>\n",
              "      <td>-2919.05</td>\n",
              "    </tr>\n",
              "    <tr>\n",
              "      <th>gadgets</th>\n",
              "      <td>-2919.05</td>\n",
              "      <td>22889.70</td>\n",
              "    </tr>\n",
              "  </tbody>\n",
              "</table>\n",
              "</div>"
            ],
            "text/plain": [
              "         widgets   gadgets\n",
              "widgets  8010.20  -2919.05\n",
              "gadgets -2919.05  22889.70"
            ]
          },
          "metadata": {
            "tags": []
          },
          "execution_count": 36
        }
      ]
    },
    {
      "cell_type": "markdown",
      "metadata": {
        "colab_type": "text",
        "id": "J9SbUY9mt66I"
      },
      "source": [
        "### 1.3 Correlation Coefficient \n",
        "Find the correlation coefficient that summarizes the relationship between widgets and gadgets. "
      ]
    },
    {
      "cell_type": "code",
      "metadata": {
        "id": "-_fdZ2eHdT9o",
        "colab_type": "code",
        "colab": {}
      },
      "source": [
        "# Calculate the standard dev of both lists using pandas.\n",
        "std_w = widgets_df['widgets'].std(ddof=1)\n",
        "std_g = widgets_df['gadgets'].std(ddof=1)"
      ],
      "execution_count": 0,
      "outputs": []
    },
    {
      "cell_type": "code",
      "metadata": {
        "id": "TbjOs-EqdT9r",
        "colab_type": "code",
        "outputId": "641d454c-6e26-4b21-b9f3-1080abd9ec1b",
        "colab": {
          "base_uri": "https://localhost:8080/",
          "height": 34
        }
      },
      "source": [
        "# Calculate covariance using pandas\n",
        "# r=cov(X,Y)/σXσY\n",
        "cov_wg = widgets_df['widgets'].cov(widgets_df['gadgets'])\n",
        "cov_wg"
      ],
      "execution_count": 45,
      "outputs": [
        {
          "output_type": "execute_result",
          "data": {
            "text/plain": [
              "-2919.0499999999997"
            ]
          },
          "metadata": {
            "tags": []
          },
          "execution_count": 45
        }
      ]
    },
    {
      "cell_type": "code",
      "metadata": {
        "id": "f6waG_nmdT9t",
        "colab_type": "code",
        "colab": {}
      },
      "source": [
        "# Calculate the denominator\n",
        "denom = std_w * std_g"
      ],
      "execution_count": 0,
      "outputs": []
    },
    {
      "cell_type": "code",
      "metadata": {
        "colab_type": "code",
        "id": "vFJms2YRrKhY",
        "outputId": "bbaebf8c-7050-4281-a830-434ec2a56e2a",
        "colab": {
          "base_uri": "https://localhost:8080/",
          "height": 34
        }
      },
      "source": [
        "# Calculate correlation\n",
        "corr_wg = cov_wg/denom\n",
        "corr_wg"
      ],
      "execution_count": 48,
      "outputs": [
        {
          "output_type": "execute_result",
          "data": {
            "text/plain": [
              "-0.2155756994093693"
            ]
          },
          "metadata": {
            "tags": []
          },
          "execution_count": 48
        }
      ]
    },
    {
      "cell_type": "code",
      "metadata": {
        "id": "sCzMv_wUdT9y",
        "colab_type": "code",
        "outputId": "49313446-e944-46c4-d0b0-5d8c57994187",
        "colab": {
          "base_uri": "https://localhost:8080/",
          "height": 34
        }
      },
      "source": [
        "## Check work using pandas\n",
        "widgets_df['widgets'].corr(widgets_df['gadgets'])"
      ],
      "execution_count": 49,
      "outputs": [
        {
          "output_type": "execute_result",
          "data": {
            "text/plain": [
              "-0.21557569940936924"
            ]
          },
          "metadata": {
            "tags": []
          },
          "execution_count": 49
        }
      ]
    },
    {
      "cell_type": "code",
      "metadata": {
        "id": "u4SylqfMdT90",
        "colab_type": "code",
        "outputId": "44480f74-4a7b-4462-8176-3b62ba2758b0",
        "colab": {
          "base_uri": "https://localhost:8080/",
          "height": 111
        }
      },
      "source": [
        "# A shorter way to do this\n",
        "widgets_df.corr()"
      ],
      "execution_count": 50,
      "outputs": [
        {
          "output_type": "execute_result",
          "data": {
            "text/html": [
              "<div>\n",
              "<style scoped>\n",
              "    .dataframe tbody tr th:only-of-type {\n",
              "        vertical-align: middle;\n",
              "    }\n",
              "\n",
              "    .dataframe tbody tr th {\n",
              "        vertical-align: top;\n",
              "    }\n",
              "\n",
              "    .dataframe thead th {\n",
              "        text-align: right;\n",
              "    }\n",
              "</style>\n",
              "<table border=\"1\" class=\"dataframe\">\n",
              "  <thead>\n",
              "    <tr style=\"text-align: right;\">\n",
              "      <th></th>\n",
              "      <th>widgets</th>\n",
              "      <th>gadgets</th>\n",
              "    </tr>\n",
              "  </thead>\n",
              "  <tbody>\n",
              "    <tr>\n",
              "      <th>widgets</th>\n",
              "      <td>1.000000</td>\n",
              "      <td>-0.215576</td>\n",
              "    </tr>\n",
              "    <tr>\n",
              "      <th>gadgets</th>\n",
              "      <td>-0.215576</td>\n",
              "      <td>1.000000</td>\n",
              "    </tr>\n",
              "  </tbody>\n",
              "</table>\n",
              "</div>"
            ],
            "text/plain": [
              "          widgets   gadgets\n",
              "widgets  1.000000 -0.215576\n",
              "gadgets -0.215576  1.000000"
            ]
          },
          "metadata": {
            "tags": []
          },
          "execution_count": 50
        }
      ]
    },
    {
      "cell_type": "markdown",
      "metadata": {
        "colab_type": "text",
        "id": "IbZVf7nmujPJ"
      },
      "source": [
        "### 1.4 The Variance-Covariance Matrix\n",
        "Import a dataset of residential properties in Washington DC. Calculate the variance-covariance matrix and correlation matrix for the dataset's numeric columns."
      ]
    },
    {
      "cell_type": "code",
      "metadata": {
        "colab_type": "code",
        "id": "0TWgUIiaCFzq",
        "colab": {}
      },
      "source": [
        "# source: https://www.kaggle.com/christophercorrea/dc-residential-properties/\n",
        "url = 'https://raw.githubusercontent.com/austinlasseter/dash-scatterplot-housing/master/dchouses.csv'\n"
      ],
      "execution_count": 0,
      "outputs": []
    },
    {
      "cell_type": "code",
      "metadata": {
        "id": "jHBcNi2SuzsI",
        "colab_type": "code",
        "colab": {
          "base_uri": "https://localhost:8080/",
          "height": 204
        },
        "outputId": "69563ed4-9269-4a1a-d54b-bc5da5f94405"
      },
      "source": [
        "houses = pd.read_csv(url)\n",
        "houses.head()"
      ],
      "execution_count": 52,
      "outputs": [
        {
          "output_type": "execute_result",
          "data": {
            "text/html": [
              "<div>\n",
              "<style scoped>\n",
              "    .dataframe tbody tr th:only-of-type {\n",
              "        vertical-align: middle;\n",
              "    }\n",
              "\n",
              "    .dataframe tbody tr th {\n",
              "        vertical-align: top;\n",
              "    }\n",
              "\n",
              "    .dataframe thead th {\n",
              "        text-align: right;\n",
              "    }\n",
              "</style>\n",
              "<table border=\"1\" class=\"dataframe\">\n",
              "  <thead>\n",
              "    <tr style=\"text-align: right;\">\n",
              "      <th></th>\n",
              "      <th>BATHRM</th>\n",
              "      <th>HF_BATHRM</th>\n",
              "      <th>KITCHENS</th>\n",
              "      <th>HEAT</th>\n",
              "      <th>AC</th>\n",
              "      <th>ROOMS</th>\n",
              "      <th>PRICE</th>\n",
              "    </tr>\n",
              "  </thead>\n",
              "  <tbody>\n",
              "    <tr>\n",
              "      <th>0</th>\n",
              "      <td>1</td>\n",
              "      <td>1</td>\n",
              "      <td>1.0</td>\n",
              "      <td>Forced Air</td>\n",
              "      <td>Y</td>\n",
              "      <td>6</td>\n",
              "      <td>NaN</td>\n",
              "    </tr>\n",
              "    <tr>\n",
              "      <th>1</th>\n",
              "      <td>2</td>\n",
              "      <td>1</td>\n",
              "      <td>1.0</td>\n",
              "      <td>Hot Water Rad</td>\n",
              "      <td>Y</td>\n",
              "      <td>8</td>\n",
              "      <td>460000.0</td>\n",
              "    </tr>\n",
              "    <tr>\n",
              "      <th>2</th>\n",
              "      <td>1</td>\n",
              "      <td>0</td>\n",
              "      <td>1.0</td>\n",
              "      <td>Hot Water Rad</td>\n",
              "      <td>N</td>\n",
              "      <td>6</td>\n",
              "      <td>NaN</td>\n",
              "    </tr>\n",
              "    <tr>\n",
              "      <th>3</th>\n",
              "      <td>1</td>\n",
              "      <td>0</td>\n",
              "      <td>1.0</td>\n",
              "      <td>Hot Water Rad</td>\n",
              "      <td>N</td>\n",
              "      <td>6</td>\n",
              "      <td>NaN</td>\n",
              "    </tr>\n",
              "    <tr>\n",
              "      <th>4</th>\n",
              "      <td>3</td>\n",
              "      <td>1</td>\n",
              "      <td>1.0</td>\n",
              "      <td>Warm Cool</td>\n",
              "      <td>Y</td>\n",
              "      <td>7</td>\n",
              "      <td>410220.0</td>\n",
              "    </tr>\n",
              "  </tbody>\n",
              "</table>\n",
              "</div>"
            ],
            "text/plain": [
              "   BATHRM  HF_BATHRM  KITCHENS           HEAT AC  ROOMS     PRICE\n",
              "0       1          1       1.0     Forced Air  Y      6       NaN\n",
              "1       2          1       1.0  Hot Water Rad  Y      8  460000.0\n",
              "2       1          0       1.0  Hot Water Rad  N      6       NaN\n",
              "3       1          0       1.0  Hot Water Rad  N      6       NaN\n",
              "4       3          1       1.0      Warm Cool  Y      7  410220.0"
            ]
          },
          "metadata": {
            "tags": []
          },
          "execution_count": 52
        }
      ]
    },
    {
      "cell_type": "code",
      "metadata": {
        "id": "__XPA6dUvT-f",
        "colab_type": "code",
        "colab": {
          "base_uri": "https://localhost:8080/",
          "height": 204
        },
        "outputId": "30dcfd48-bac7-49de-c007-ce0ccb27281a"
      },
      "source": [
        "houses['AC'] = houses['AC'].map({\"Y\":1, \"N\":0})\n",
        "houses.head()"
      ],
      "execution_count": 54,
      "outputs": [
        {
          "output_type": "execute_result",
          "data": {
            "text/html": [
              "<div>\n",
              "<style scoped>\n",
              "    .dataframe tbody tr th:only-of-type {\n",
              "        vertical-align: middle;\n",
              "    }\n",
              "\n",
              "    .dataframe tbody tr th {\n",
              "        vertical-align: top;\n",
              "    }\n",
              "\n",
              "    .dataframe thead th {\n",
              "        text-align: right;\n",
              "    }\n",
              "</style>\n",
              "<table border=\"1\" class=\"dataframe\">\n",
              "  <thead>\n",
              "    <tr style=\"text-align: right;\">\n",
              "      <th></th>\n",
              "      <th>BATHRM</th>\n",
              "      <th>HF_BATHRM</th>\n",
              "      <th>KITCHENS</th>\n",
              "      <th>HEAT</th>\n",
              "      <th>AC</th>\n",
              "      <th>ROOMS</th>\n",
              "      <th>PRICE</th>\n",
              "    </tr>\n",
              "  </thead>\n",
              "  <tbody>\n",
              "    <tr>\n",
              "      <th>0</th>\n",
              "      <td>1</td>\n",
              "      <td>1</td>\n",
              "      <td>1.0</td>\n",
              "      <td>Forced Air</td>\n",
              "      <td>1</td>\n",
              "      <td>6</td>\n",
              "      <td>NaN</td>\n",
              "    </tr>\n",
              "    <tr>\n",
              "      <th>1</th>\n",
              "      <td>2</td>\n",
              "      <td>1</td>\n",
              "      <td>1.0</td>\n",
              "      <td>Hot Water Rad</td>\n",
              "      <td>1</td>\n",
              "      <td>8</td>\n",
              "      <td>460000.0</td>\n",
              "    </tr>\n",
              "    <tr>\n",
              "      <th>2</th>\n",
              "      <td>1</td>\n",
              "      <td>0</td>\n",
              "      <td>1.0</td>\n",
              "      <td>Hot Water Rad</td>\n",
              "      <td>0</td>\n",
              "      <td>6</td>\n",
              "      <td>NaN</td>\n",
              "    </tr>\n",
              "    <tr>\n",
              "      <th>3</th>\n",
              "      <td>1</td>\n",
              "      <td>0</td>\n",
              "      <td>1.0</td>\n",
              "      <td>Hot Water Rad</td>\n",
              "      <td>0</td>\n",
              "      <td>6</td>\n",
              "      <td>NaN</td>\n",
              "    </tr>\n",
              "    <tr>\n",
              "      <th>4</th>\n",
              "      <td>3</td>\n",
              "      <td>1</td>\n",
              "      <td>1.0</td>\n",
              "      <td>Warm Cool</td>\n",
              "      <td>1</td>\n",
              "      <td>7</td>\n",
              "      <td>410220.0</td>\n",
              "    </tr>\n",
              "  </tbody>\n",
              "</table>\n",
              "</div>"
            ],
            "text/plain": [
              "   BATHRM  HF_BATHRM  KITCHENS           HEAT  AC  ROOMS     PRICE\n",
              "0       1          1       1.0     Forced Air   1      6       NaN\n",
              "1       2          1       1.0  Hot Water Rad   1      8  460000.0\n",
              "2       1          0       1.0  Hot Water Rad   0      6       NaN\n",
              "3       1          0       1.0  Hot Water Rad   0      6       NaN\n",
              "4       3          1       1.0      Warm Cool   1      7  410220.0"
            ]
          },
          "metadata": {
            "tags": []
          },
          "execution_count": 54
        }
      ]
    },
    {
      "cell_type": "code",
      "metadata": {
        "id": "7Q08vrOddT9-",
        "colab_type": "code",
        "outputId": "6f507b07-ebd2-4385-9d76-5c39f45c92af",
        "colab": {
          "base_uri": "https://localhost:8080/",
          "height": 235
        }
      },
      "source": [
        "# calculate the covariance for the entire dataset\n",
        "houses.cov()"
      ],
      "execution_count": 58,
      "outputs": [
        {
          "output_type": "execute_result",
          "data": {
            "text/html": [
              "<div>\n",
              "<style scoped>\n",
              "    .dataframe tbody tr th:only-of-type {\n",
              "        vertical-align: middle;\n",
              "    }\n",
              "\n",
              "    .dataframe tbody tr th {\n",
              "        vertical-align: top;\n",
              "    }\n",
              "\n",
              "    .dataframe thead th {\n",
              "        text-align: right;\n",
              "    }\n",
              "</style>\n",
              "<table border=\"1\" class=\"dataframe\">\n",
              "  <thead>\n",
              "    <tr style=\"text-align: right;\">\n",
              "      <th></th>\n",
              "      <th>BATHRM</th>\n",
              "      <th>HF_BATHRM</th>\n",
              "      <th>KITCHENS</th>\n",
              "      <th>AC</th>\n",
              "      <th>ROOMS</th>\n",
              "      <th>PRICE</th>\n",
              "    </tr>\n",
              "  </thead>\n",
              "  <tbody>\n",
              "    <tr>\n",
              "      <th>BATHRM</th>\n",
              "      <td>1.007166</td>\n",
              "      <td>0.125448</td>\n",
              "      <td>0.329582</td>\n",
              "      <td>0.056779</td>\n",
              "      <td>1.866127e+00</td>\n",
              "      <td>-5.164766e+05</td>\n",
              "    </tr>\n",
              "    <tr>\n",
              "      <th>HF_BATHRM</th>\n",
              "      <td>0.125448</td>\n",
              "      <td>0.340972</td>\n",
              "      <td>-0.067744</td>\n",
              "      <td>0.034268</td>\n",
              "      <td>4.989159e-01</td>\n",
              "      <td>4.109166e+05</td>\n",
              "    </tr>\n",
              "    <tr>\n",
              "      <th>KITCHENS</th>\n",
              "      <td>0.329582</td>\n",
              "      <td>-0.067744</td>\n",
              "      <td>0.420696</td>\n",
              "      <td>-0.048758</td>\n",
              "      <td>9.291807e-01</td>\n",
              "      <td>-6.497264e+03</td>\n",
              "    </tr>\n",
              "    <tr>\n",
              "      <th>AC</th>\n",
              "      <td>0.056779</td>\n",
              "      <td>0.034268</td>\n",
              "      <td>-0.048758</td>\n",
              "      <td>0.217093</td>\n",
              "      <td>-2.686306e-01</td>\n",
              "      <td>2.896332e+05</td>\n",
              "    </tr>\n",
              "    <tr>\n",
              "      <th>ROOMS</th>\n",
              "      <td>1.866127</td>\n",
              "      <td>0.498916</td>\n",
              "      <td>0.929181</td>\n",
              "      <td>-0.268631</td>\n",
              "      <td>7.218137e+00</td>\n",
              "      <td>-3.030853e+06</td>\n",
              "    </tr>\n",
              "    <tr>\n",
              "      <th>PRICE</th>\n",
              "      <td>-516476.554036</td>\n",
              "      <td>410916.625989</td>\n",
              "      <td>-6497.264022</td>\n",
              "      <td>289633.155131</td>\n",
              "      <td>-3.030853e+06</td>\n",
              "      <td>1.551202e+14</td>\n",
              "    </tr>\n",
              "  </tbody>\n",
              "</table>\n",
              "</div>"
            ],
            "text/plain": [
              "                  BATHRM      HF_BATHRM  ...         ROOMS         PRICE\n",
              "BATHRM          1.007166       0.125448  ...  1.866127e+00 -5.164766e+05\n",
              "HF_BATHRM       0.125448       0.340972  ...  4.989159e-01  4.109166e+05\n",
              "KITCHENS        0.329582      -0.067744  ...  9.291807e-01 -6.497264e+03\n",
              "AC              0.056779       0.034268  ... -2.686306e-01  2.896332e+05\n",
              "ROOMS           1.866127       0.498916  ...  7.218137e+00 -3.030853e+06\n",
              "PRICE     -516476.554036  410916.625989  ... -3.030853e+06  1.551202e+14\n",
              "\n",
              "[6 rows x 6 columns]"
            ]
          },
          "metadata": {
            "tags": []
          },
          "execution_count": 58
        }
      ]
    },
    {
      "cell_type": "code",
      "metadata": {
        "id": "xQ588PUpdT97",
        "colab_type": "code",
        "outputId": "1c40c11a-72d4-4a64-9a2d-47a0b380a150",
        "colab": {
          "base_uri": "https://localhost:8080/",
          "height": 235
        }
      },
      "source": [
        "# calculate the correlation for the entire dataset\n",
        "houses.corr()"
      ],
      "execution_count": 56,
      "outputs": [
        {
          "output_type": "execute_result",
          "data": {
            "text/html": [
              "<div>\n",
              "<style scoped>\n",
              "    .dataframe tbody tr th:only-of-type {\n",
              "        vertical-align: middle;\n",
              "    }\n",
              "\n",
              "    .dataframe tbody tr th {\n",
              "        vertical-align: top;\n",
              "    }\n",
              "\n",
              "    .dataframe thead th {\n",
              "        text-align: right;\n",
              "    }\n",
              "</style>\n",
              "<table border=\"1\" class=\"dataframe\">\n",
              "  <thead>\n",
              "    <tr style=\"text-align: right;\">\n",
              "      <th></th>\n",
              "      <th>BATHRM</th>\n",
              "      <th>HF_BATHRM</th>\n",
              "      <th>KITCHENS</th>\n",
              "      <th>AC</th>\n",
              "      <th>ROOMS</th>\n",
              "      <th>PRICE</th>\n",
              "    </tr>\n",
              "  </thead>\n",
              "  <tbody>\n",
              "    <tr>\n",
              "      <th>BATHRM</th>\n",
              "      <td>1.000000</td>\n",
              "      <td>0.214070</td>\n",
              "      <td>0.461896</td>\n",
              "      <td>0.121426</td>\n",
              "      <td>0.692115</td>\n",
              "      <td>-0.042109</td>\n",
              "    </tr>\n",
              "    <tr>\n",
              "      <th>HF_BATHRM</th>\n",
              "      <td>0.214070</td>\n",
              "      <td>1.000000</td>\n",
              "      <td>-0.173102</td>\n",
              "      <td>0.125953</td>\n",
              "      <td>0.318021</td>\n",
              "      <td>0.058728</td>\n",
              "    </tr>\n",
              "    <tr>\n",
              "      <th>KITCHENS</th>\n",
              "      <td>0.461896</td>\n",
              "      <td>-0.173102</td>\n",
              "      <td>1.000000</td>\n",
              "      <td>-0.151596</td>\n",
              "      <td>0.592760</td>\n",
              "      <td>-0.021364</td>\n",
              "    </tr>\n",
              "    <tr>\n",
              "      <th>AC</th>\n",
              "      <td>0.121426</td>\n",
              "      <td>0.125953</td>\n",
              "      <td>-0.151596</td>\n",
              "      <td>1.000000</td>\n",
              "      <td>-0.214595</td>\n",
              "      <td>0.056886</td>\n",
              "    </tr>\n",
              "    <tr>\n",
              "      <th>ROOMS</th>\n",
              "      <td>0.692115</td>\n",
              "      <td>0.318021</td>\n",
              "      <td>0.592760</td>\n",
              "      <td>-0.214595</td>\n",
              "      <td>1.000000</td>\n",
              "      <td>-0.088273</td>\n",
              "    </tr>\n",
              "    <tr>\n",
              "      <th>PRICE</th>\n",
              "      <td>-0.042109</td>\n",
              "      <td>0.058728</td>\n",
              "      <td>-0.021364</td>\n",
              "      <td>0.056886</td>\n",
              "      <td>-0.088273</td>\n",
              "      <td>1.000000</td>\n",
              "    </tr>\n",
              "  </tbody>\n",
              "</table>\n",
              "</div>"
            ],
            "text/plain": [
              "             BATHRM  HF_BATHRM  KITCHENS        AC     ROOMS     PRICE\n",
              "BATHRM     1.000000   0.214070  0.461896  0.121426  0.692115 -0.042109\n",
              "HF_BATHRM  0.214070   1.000000 -0.173102  0.125953  0.318021  0.058728\n",
              "KITCHENS   0.461896  -0.173102  1.000000 -0.151596  0.592760 -0.021364\n",
              "AC         0.121426   0.125953 -0.151596  1.000000 -0.214595  0.056886\n",
              "ROOMS      0.692115   0.318021  0.592760 -0.214595  1.000000 -0.088273\n",
              "PRICE     -0.042109   0.058728 -0.021364  0.056886 -0.088273  1.000000"
            ]
          },
          "metadata": {
            "tags": []
          },
          "execution_count": 56
        }
      ]
    },
    {
      "cell_type": "code",
      "metadata": {
        "id": "C7Uii9ACvpAU",
        "colab_type": "code",
        "colab": {
          "base_uri": "https://localhost:8080/",
          "height": 320
        },
        "outputId": "6ca73198-c245-48cf-a72d-570961d53353"
      },
      "source": [
        "import seaborn as sns\n",
        "\n",
        "sns.heatmap(houses.corr());\n"
      ],
      "execution_count": 57,
      "outputs": [
        {
          "output_type": "display_data",
          "data": {
            "image/png": "[encoded data removed]",
            "text/plain": [
              "<Figure size 432x288 with 2 Axes>"
            ]
          },
          "metadata": {
            "tags": []
          }
        }
      ]
    },
    {
      "cell_type": "markdown",
      "metadata": {
        "colab_type": "text",
        "id": "7K0Xfh8MvYkl"
      },
      "source": [
        "## 2. Orthogonality"
      ]
    },
    {
      "cell_type": "markdown",
      "metadata": {
        "colab_type": "text",
        "id": "MiNjyqiEz5SG"
      },
      "source": [
        "### 2.1 Quick review of norm and dot product."
      ]
    },
    {
      "cell_type": "code",
      "metadata": {
        "id": "nqutB3_NdT-C",
        "colab_type": "code",
        "outputId": "9a09f918-9a7e-4e41-c086-b0dc3cb0da41",
        "colab": {
          "base_uri": "https://localhost:8080/",
          "height": 51
        }
      },
      "source": [
        "# let's make a couple of vectors.\n",
        "v = np.random.randint(low=1, high=100, size=3)\n",
        "x = np.random.randint(low=1, high=100, size=3)\n",
        "\n",
        "print(v, \"\\n\", x)"
      ],
      "execution_count": 59,
      "outputs": [
        {
          "output_type": "stream",
          "text": [
            "[78 46 33] \n",
            " [74 36 64]\n"
          ],
          "name": "stdout"
        }
      ]
    },
    {
      "cell_type": "code",
      "metadata": {
        "id": "Mf5nraJ-dT-F",
        "colab_type": "code",
        "outputId": "e2a8bca3-a8e1-411d-dda6-e3ebb2ed3fd6",
        "colab": {
          "base_uri": "https://localhost:8080/",
          "height": 51
        }
      },
      "source": [
        "# quick: which one is longer? \n",
        "for vector in [v,x]:\n",
        "  print(np.linalg.norm(vector))"
      ],
      "execution_count": 65,
      "outputs": [
        {
          "output_type": "stream",
          "text": [
            "96.37945839233586\n",
            "104.24970023937719\n"
          ],
          "name": "stdout"
        }
      ]
    },
    {
      "cell_type": "code",
      "metadata": {
        "id": "cw1ECSPpdT-I",
        "colab_type": "code",
        "outputId": "ab7b76e9-2677-4b71-a3c3-fcad5bb42285",
        "colab": {
          "base_uri": "https://localhost:8080/",
          "height": 34
        }
      },
      "source": [
        "# what's the dot product of x and v? using array broadcasting\n",
        "(v[0]*x[0]) + (v[1]*x[1]) + (v[2]*x[2])"
      ],
      "execution_count": 66,
      "outputs": [
        {
          "output_type": "execute_result",
          "data": {
            "text/plain": [
              "9540"
            ]
          },
          "metadata": {
            "tags": []
          },
          "execution_count": 66
        }
      ]
    },
    {
      "cell_type": "code",
      "metadata": {
        "colab_type": "code",
        "id": "IlV_uaYK1EQB",
        "outputId": "32ffa89e-2a90-464d-91f4-7aa2e9faad9f",
        "colab": {
          "base_uri": "https://localhost:8080/",
          "height": 34
        }
      },
      "source": [
        "# what's the dot product of x and v? using numpy\n",
        "np.dot(v,x)"
      ],
      "execution_count": 67,
      "outputs": [
        {
          "output_type": "execute_result",
          "data": {
            "text/plain": [
              "9540"
            ]
          },
          "metadata": {
            "tags": []
          },
          "execution_count": 67
        }
      ]
    },
    {
      "cell_type": "code",
      "metadata": {
        "id": "d-vwMbXodT-P",
        "colab_type": "code",
        "outputId": "0a34ccdc-315c-47f4-a347-93d02b379743",
        "colab": {
          "base_uri": "https://localhost:8080/",
          "height": 34
        }
      },
      "source": [
        "# there's another way to write this.\n",
        "x.dot(v)"
      ],
      "execution_count": 68,
      "outputs": [
        {
          "output_type": "execute_result",
          "data": {
            "text/plain": [
              "9540"
            ]
          },
          "metadata": {
            "tags": []
          },
          "execution_count": 68
        }
      ]
    },
    {
      "cell_type": "markdown",
      "metadata": {
        "colab_type": "text",
        "id": "Pe3eOZ2fvdZ-"
      },
      "source": [
        "### 2.2 Orthogonality"
      ]
    },
    {
      "cell_type": "code",
      "metadata": {
        "colab_type": "code",
        "id": "YLSBk7hJvvCx",
        "colab": {}
      },
      "source": [
        "# import"
      ],
      "execution_count": 0,
      "outputs": []
    },
    {
      "cell_type": "code",
      "metadata": {
        "id": "H_vW0YredT-U",
        "colab_type": "code",
        "colab": {}
      },
      "source": [
        "# choose some vectors\n",
        "v1 = np.array([5,2])\n",
        "v2 = np.array([1,-1])"
      ],
      "execution_count": 0,
      "outputs": []
    },
    {
      "cell_type": "markdown",
      "metadata": {
        "colab_type": "text",
        "id": "7AS4V1Nhvvxz"
      },
      "source": [
        "Are the following vectors orthogonal?"
      ]
    },
    {
      "cell_type": "code",
      "metadata": {
        "colab_type": "code",
        "id": "F_-y54YSz47k",
        "outputId": "6671393c-a2e9-4d21-f9dc-fe7af269f619",
        "colab": {
          "base_uri": "https://localhost:8080/",
          "height": 34
        }
      },
      "source": [
        "# If dot product != 0, then vectors are not orthogonal.\n",
        "np.dot(v1, v2)"
      ],
      "execution_count": 83,
      "outputs": [
        {
          "output_type": "execute_result",
          "data": {
            "text/plain": [
              "3"
            ]
          },
          "metadata": {
            "tags": []
          },
          "execution_count": 83
        }
      ]
    },
    {
      "cell_type": "code",
      "metadata": {
        "id": "TQXwi2rodT-g",
        "colab_type": "code",
        "outputId": "efd6f99e-78b3-4f69-8552-051995ccf8b5",
        "colab": {
          "base_uri": "https://localhost:8080/",
          "height": 34
        }
      },
      "source": [
        "# If dot product = 0, then vectors are orthogonal.\n",
        "v1 = np.array([2,2])\n",
        "v2 = np.array([1,-1])\n",
        "np.dot(v1, v2)"
      ],
      "execution_count": 73,
      "outputs": [
        {
          "output_type": "execute_result",
          "data": {
            "text/plain": [
              "0"
            ]
          },
          "metadata": {
            "tags": []
          },
          "execution_count": 73
        }
      ]
    },
    {
      "cell_type": "code",
      "metadata": {
        "id": "WKmr3CAhdT-k",
        "colab_type": "code",
        "outputId": "d58d0c56-68d4-412c-ab19-af8aa4d789ed",
        "colab": {
          "base_uri": "https://localhost:8080/",
          "height": 34
        }
      },
      "source": [
        "# For any vector, generate another vector that is orthogonal to it.\n",
        "k = np.random.randint(low=1, high=100, size=3)\n",
        "k"
      ],
      "execution_count": 74,
      "outputs": [
        {
          "output_type": "execute_result",
          "data": {
            "text/plain": [
              "array([76, 82, 56])"
            ]
          },
          "metadata": {
            "tags": []
          },
          "execution_count": 74
        }
      ]
    },
    {
      "cell_type": "code",
      "metadata": {
        "id": "1kEWjLFR0tpQ",
        "colab_type": "code",
        "colab": {
          "base_uri": "https://localhost:8080/",
          "height": 34
        },
        "outputId": "771d8361-dc33-4d9a-e886-4a3101e76008"
      },
      "source": [
        "x = np.random.randint(low=1, high=100, size=3)\n",
        "x"
      ],
      "execution_count": 78,
      "outputs": [
        {
          "output_type": "execute_result",
          "data": {
            "text/plain": [
              "array([92, 28, 76])"
            ]
          },
          "metadata": {
            "tags": []
          },
          "execution_count": 78
        }
      ]
    },
    {
      "cell_type": "code",
      "metadata": {
        "id": "FL3VeUgg0z1A",
        "colab_type": "code",
        "colab": {
          "base_uri": "https://localhost:8080/",
          "height": 34
        },
        "outputId": "883b67c2-54d8-45fb-f4ee-461c8822d979"
      },
      "source": [
        "x = x - x.dot(k) * k/np.linalg.norm(k)**2\n",
        "x"
      ],
      "execution_count": 80,
      "outputs": [
        {
          "output_type": "execute_result",
          "data": {
            "text/plain": [
              "array([ 26.1683295 , -43.02890765,  27.49245331])"
            ]
          },
          "metadata": {
            "tags": []
          },
          "execution_count": 80
        }
      ]
    },
    {
      "cell_type": "code",
      "metadata": {
        "id": "9lsXlgxV1JKO",
        "colab_type": "code",
        "colab": {
          "base_uri": "https://localhost:8080/",
          "height": 34
        },
        "outputId": "cc859e62-d7e3-436e-c711-ebd6cc169185"
      },
      "source": [
        "np.dot(x,k)"
      ],
      "execution_count": 81,
      "outputs": [
        {
          "output_type": "execute_result",
          "data": {
            "text/plain": [
              "-9.094947017729282e-13"
            ]
          },
          "metadata": {
            "tags": []
          },
          "execution_count": 81
        }
      ]
    },
    {
      "cell_type": "markdown",
      "metadata": {
        "colab_type": "text",
        "id": "MK_TpWqk1Evk"
      },
      "source": [
        "## 3. Unit Vectors"
      ]
    },
    {
      "cell_type": "code",
      "metadata": {
        "colab_type": "code",
        "id": "I3W8ZiHR1_Fa",
        "outputId": "0017304d-f596-423e-e80d-665b8bbb7c05",
        "colab": {
          "base_uri": "https://localhost:8080/",
          "height": 34
        }
      },
      "source": [
        "# Suppose we have a vector f.\n",
        "f = np.random.randint(low=1, high=100, size=5)\n",
        "f"
      ],
      "execution_count": 84,
      "outputs": [
        {
          "output_type": "execute_result",
          "data": {
            "text/plain": [
              "array([83, 14, 34, 34, 50])"
            ]
          },
          "metadata": {
            "tags": []
          },
          "execution_count": 84
        }
      ]
    },
    {
      "cell_type": "code",
      "metadata": {
        "id": "cHJrfUXFdT-t",
        "colab_type": "code",
        "outputId": "89c36501-3d89-4f10-ec9b-42b9fcc786b4",
        "colab": {
          "base_uri": "https://localhost:8080/",
          "height": 34
        }
      },
      "source": [
        "# how long is it?\n",
        "norm_f = np.linalg.norm(f)\n",
        "norm_f"
      ],
      "execution_count": 88,
      "outputs": [
        {
          "output_type": "execute_result",
          "data": {
            "text/plain": [
              "109.07336980216573"
            ]
          },
          "metadata": {
            "tags": []
          },
          "execution_count": 88
        }
      ]
    },
    {
      "cell_type": "code",
      "metadata": {
        "id": "jBaIG_lodT-w",
        "colab_type": "code",
        "outputId": "da56a5d1-ad34-4be3-bbca-a5b777338b21",
        "colab": {
          "base_uri": "https://localhost:8080/",
          "height": 34
        }
      },
      "source": [
        "# find its unit vector. the hat symbol (f^) indicates it's a unit vector.\n",
        "f_hat = f/norm_f\n",
        "f_hat"
      ],
      "execution_count": 89,
      "outputs": [
        {
          "output_type": "execute_result",
          "data": {
            "text/plain": [
              "array([0.76095568, 0.12835397, 0.31171678, 0.31171678, 0.45840703])"
            ]
          },
          "metadata": {
            "tags": []
          },
          "execution_count": 89
        }
      ]
    },
    {
      "cell_type": "code",
      "metadata": {
        "id": "bKipRBqgdT-y",
        "colab_type": "code",
        "outputId": "f92607e4-1520-4458-8a53-6f2e2d3c9dd9",
        "colab": {
          "base_uri": "https://localhost:8080/",
          "height": 34
        }
      },
      "source": [
        "# how long is this?\n",
        "f_hat_norm = np.linalg.norm(f_hat)\n",
        "f_hat_norm"
      ],
      "execution_count": 90,
      "outputs": [
        {
          "output_type": "execute_result",
          "data": {
            "text/plain": [
              "1.0"
            ]
          },
          "metadata": {
            "tags": []
          },
          "execution_count": 90
        }
      ]
    },
    {
      "cell_type": "markdown",
      "metadata": {
        "colab_type": "text",
        "id": "o39UyP-I5lpP"
      },
      "source": [
        "## 4. Linear Independence / Dependence "
      ]
    },
    {
      "cell_type": "markdown",
      "metadata": {
        "colab_type": "text",
        "id": "ajfBqYe45sT5"
      },
      "source": [
        "Plot two vectors that are linearly dependent and two vectors that are linearly independent (bonus points if done in $\\mathbb{R}^3$)."
      ]
    },
    {
      "cell_type": "code",
      "metadata": {
        "id": "uibM6JZKdT-3",
        "colab_type": "code",
        "colab": {}
      },
      "source": [
        "# Linearly dependent vectors scaled version of same vector\n",
        "v1 = [-.8,1.3]\n",
        "v2 = np.multiply(v1, 2)"
      ],
      "execution_count": 0,
      "outputs": []
    },
    {
      "cell_type": "code",
      "metadata": {
        "id": "IHv_KA88dT-5",
        "colab_type": "code",
        "outputId": "32d7740a-2109-44a9-8ca5-3fcba195897d",
        "colab": {
          "base_uri": "https://localhost:8080/",
          "height": 286
        }
      },
      "source": [
        "# Plot the vectors\n",
        "\n",
        "fig, ax = plt.subplots(figsize=(4,4))\n",
        "ax.grid()\n",
        "plt.xlim(-3,3)          \n",
        "plt.ylim(-3,3)\n",
        "\n",
        "plt.arrow(0,0,*v1)\n",
        "plt.arrow(0,0,*v2)\n"
      ],
      "execution_count": 93,
      "outputs": [
        {
          "output_type": "execute_result",
          "data": {
            "text/plain": [
              "<matplotlib.patches.FancyArrow at 0x7f32e95c3ba8>"
            ]
          },
          "metadata": {
            "tags": []
          },
          "execution_count": 93
        },
        {
          "output_type": "display_data",
          "data": {
            "image/png": "[encoded data removed]",
            "text/plain": [
              "<Figure size 288x288 with 1 Axes>"
            ]
          },
          "metadata": {
            "tags": []
          }
        }
      ]
    },
    {
      "cell_type": "code",
      "metadata": {
        "id": "qRLeq3a0dT-9",
        "colab_type": "code",
        "colab": {}
      },
      "source": [
        "# Linearly independent vectors, not orthogonal"
      ],
      "execution_count": 0,
      "outputs": []
    },
    {
      "cell_type": "code",
      "metadata": {
        "id": "ftCgz8sKdT-_",
        "colab_type": "code",
        "colab": {}
      },
      "source": [
        "# Set up the grid\n",
        "fig, ax = plt.subplots(figsize=(4,4))\n",
        "ax.grid()\n",
        "plt.xlim(-3,3)          \n",
        "plt.ylim(-3,3)\n",
        "\n",
        "# Plot the vectors"
      ],
      "execution_count": 0,
      "outputs": []
    },
    {
      "cell_type": "markdown",
      "metadata": {
        "colab_type": "text",
        "id": "TrJ0MT_n3SvO"
      },
      "source": [
        "## 5. Span"
      ]
    },
    {
      "cell_type": "code",
      "metadata": {
        "colab_type": "code",
        "id": "p1i_ueD25ZcP",
        "colab": {}
      },
      "source": [
        "Suppose we have two vectors. The linear combination is as follows, where a and b are any scalars.\n",
        "\n",
        "\\begin{align}\n",
        "a\\begin{bmatrix} 1 & 3 \\end{bmatrix} +\n",
        "b\\begin{bmatrix} 2 & 1 \\end{bmatrix}\n",
        "\\end{align}\n",
        "\n",
        "Note that:\n",
        "* The set of all possible linear combinations (i.e., all possible values of a and b) is the span of these vectors. \n",
        "* A set of vectors _spans_ a space if their linear combinations fill the space.\n",
        "* The span of most pairs of 2D vectors is the entire infinite sheet of infinite space (unless they are colinear). "
      ],
      "execution_count": 0,
      "outputs": []
    },
    {
      "cell_type": "code",
      "metadata": {
        "id": "8_CN6dtOdT_G",
        "colab_type": "code",
        "colab": {}
      },
      "source": [
        "# Let's take two vectors.\n",
        "v1 = np.array([1,3])\n",
        "v2 = np.array([2,1])"
      ],
      "execution_count": 0,
      "outputs": []
    },
    {
      "cell_type": "code",
      "metadata": {
        "id": "IySTUVN5dT_I",
        "colab_type": "code",
        "outputId": "3ec4067d-597a-4be7-8ab0-cb10ea07d48a",
        "colab": {
          "base_uri": "https://localhost:8080/",
          "height": 282
        }
      },
      "source": [
        "# Plot them on a grid\n",
        "fig, ax = plt.subplots(figsize=(4,4))\n",
        "ax.grid()\n",
        "plt.xlim(-5,5)          \n",
        "plt.ylim(-5,5)\n",
        "\n",
        "plt.arrow(0,0,*v1,head_width=.25, head_length=.1, linewidth=.5, length_includes_head=True, color='g')\n",
        "plt.arrow(0,0,*v2,head_width=.25, head_length=.1, linewidth=.5, length_includes_head=True, color='r')\n",
        "\n",
        "# Display"
      ],
      "execution_count": 95,
      "outputs": [
        {
          "output_type": "execute_result",
          "data": {
            "text/plain": [
              "<matplotlib.patches.FancyArrow at 0x7f32e95253c8>"
            ]
          },
          "metadata": {
            "tags": []
          },
          "execution_count": 95
        },
        {
          "output_type": "display_data",
          "data": {
            "image/png": "[encoded data removed]",
            "text/plain": [
              "<Figure size 288x288 with 1 Axes>"
            ]
          },
          "metadata": {
            "tags": []
          }
        }
      ]
    },
    {
      "cell_type": "code",
      "metadata": {
        "id": "9LTnK_rSdT_L",
        "colab_type": "code",
        "outputId": "c2a1272b-7918-4adf-c590-9d08f62f9f8e",
        "colab": {
          "base_uri": "https://localhost:8080/",
          "height": 34
        }
      },
      "source": [
        "# This is one possible linear combination:\n",
        "a,b=(2,3)\n",
        "linear_combo = np.multiply(v1, a) + np.multiply(v2,b)\n",
        "linear_combo"
      ],
      "execution_count": 96,
      "outputs": [
        {
          "output_type": "execute_result",
          "data": {
            "text/plain": [
              "array([8, 9])"
            ]
          },
          "metadata": {
            "tags": []
          },
          "execution_count": 96
        }
      ]
    },
    {
      "cell_type": "code",
      "metadata": {
        "id": "M3l782ARdT_O",
        "colab_type": "code",
        "colab": {}
      },
      "source": [
        "# This is a set of several linear combinations:\n",
        "muchos_combos=[]\n",
        "for(a,b) in [(2,3), ]"
      ],
      "execution_count": 0,
      "outputs": []
    },
    {
      "cell_type": "markdown",
      "metadata": {
        "colab_type": "text",
        "id": "IBqe7X1732kX"
      },
      "source": [
        "## 6. Basis"
      ]
    },
    {
      "cell_type": "markdown",
      "metadata": {
        "id": "iImgVwQpdT_Q",
        "colab_type": "text"
      },
      "source": [
        "In 2-dimensional space $\\mathbb{R}^2$, ANY vector (a,b) can be decomposed as the linear combination of the basis vectors (1,0) and (0,1). Since these are unit vectors, they are called \"orthonormal basis\".\n",
        "\n",
        "(a,b) = a(1,0) + b(0,1)"
      ]
    },
    {
      "cell_type": "code",
      "metadata": {
        "colab_type": "code",
        "id": "utvF3Pkt8NP6",
        "colab": {}
      },
      "source": [
        "# find basis vectors in 2-d\n",
        "vector_1 = [-2, 2]\n",
        "vector_2 = [2, 2]\n",
        "\n",
        "# Plot the Scaled Vectors"
      ],
      "execution_count": 0,
      "outputs": []
    },
    {
      "cell_type": "markdown",
      "metadata": {
        "colab_type": "text",
        "id": "EHmUxbcY6vD3"
      },
      "source": [
        "## 7. Rank"
      ]
    },
    {
      "cell_type": "code",
      "metadata": {
        "id": "qtrXLyU4dT_T",
        "colab_type": "code",
        "colab": {}
      },
      "source": [
        "# Rank two\n",
        "P = np.array([[1,0,1],\n",
        "             [-2,-3,1],\n",
        "              [3,3,0]])"
      ],
      "execution_count": 0,
      "outputs": []
    },
    {
      "cell_type": "code",
      "metadata": {
        "id": "eAhmEEFx612x",
        "colab_type": "code",
        "colab": {
          "base_uri": "https://localhost:8080/",
          "height": 34
        },
        "outputId": "8af66b67-ed85-42c1-e176-04658b5f334e"
      },
      "source": [
        "np.linalg.matrix_rank(P)"
      ],
      "execution_count": 105,
      "outputs": [
        {
          "output_type": "execute_result",
          "data": {
            "text/plain": [
              "2"
            ]
          },
          "metadata": {
            "tags": []
          },
          "execution_count": 105
        }
      ]
    },
    {
      "cell_type": "code",
      "metadata": {
        "id": "S5_VZ454dT_V",
        "colab_type": "code",
        "outputId": "d964de83-12c9-49b4-d892-cf71485173d1",
        "colab": {
          "base_uri": "https://localhost:8080/",
          "height": 51
        }
      },
      "source": [
        "# Return a 2-D array with ones on the diagonal and zeros elsewhere.\n",
        "# identity matrix\n",
        "np.eye(2)"
      ],
      "execution_count": 106,
      "outputs": [
        {
          "output_type": "execute_result",
          "data": {
            "text/plain": [
              "array([[1., 0.],\n",
              "       [0., 1.]])"
            ]
          },
          "metadata": {
            "tags": []
          },
          "execution_count": 106
        }
      ]
    },
    {
      "cell_type": "code",
      "metadata": {
        "id": "KGIITWIW7w_E",
        "colab_type": "code",
        "colab": {
          "base_uri": "https://localhost:8080/",
          "height": 34
        },
        "outputId": "d85e7f82-ed50-4335-bd01-b4f6013158b6"
      },
      "source": [
        "np.linalg.matrix_rank(np.eye(2))"
      ],
      "execution_count": 107,
      "outputs": [
        {
          "output_type": "execute_result",
          "data": {
            "text/plain": [
              "2"
            ]
          },
          "metadata": {
            "tags": []
          },
          "execution_count": 107
        }
      ]
    },
    {
      "cell_type": "code",
      "metadata": {
        "id": "e-Q7jnLFdT_W",
        "colab_type": "code",
        "colab": {}
      },
      "source": [
        "# rank three\n",
        "P = np.array([[1,2,3],\n",
        "             [-1,0,7],\n",
        "             [4,8,2]])"
      ],
      "execution_count": 0,
      "outputs": []
    },
    {
      "cell_type": "code",
      "metadata": {
        "id": "SB41z9Jj7_T6",
        "colab_type": "code",
        "colab": {
          "base_uri": "https://localhost:8080/",
          "height": 34
        },
        "outputId": "cc0f68a2-5e7b-44e5-dc1c-ee5d5c34782c"
      },
      "source": [
        "np.linalg.matrix_rank(P)"
      ],
      "execution_count": 109,
      "outputs": [
        {
          "output_type": "execute_result",
          "data": {
            "text/plain": [
              "3"
            ]
          },
          "metadata": {
            "tags": []
          },
          "execution_count": 109
        }
      ]
    },
    {
      "cell_type": "code",
      "metadata": {
        "id": "hVWXQRaudT_Y",
        "colab_type": "code",
        "colab": {}
      },
      "source": [
        "# rank four\n"
      ],
      "execution_count": 0,
      "outputs": []
    },
    {
      "cell_type": "code",
      "metadata": {
        "id": "2AScEO0CdT_b",
        "colab_type": "code",
        "colab": {}
      },
      "source": [
        "# rank four"
      ],
      "execution_count": 0,
      "outputs": []
    },
    {
      "cell_type": "code",
      "metadata": {
        "id": "2iEZeaqgdT_d",
        "colab_type": "code",
        "outputId": "d1f6fc67-baf3-4c04-eef5-1c14effbf7ad",
        "colab": {
          "base_uri": "https://localhost:8080/",
          "height": 34
        }
      },
      "source": [
        "# Rank zero\n",
        "np.eye(0)"
      ],
      "execution_count": 110,
      "outputs": [
        {
          "output_type": "execute_result",
          "data": {
            "text/plain": [
              "array([], shape=(0, 0), dtype=float64)"
            ]
          },
          "metadata": {
            "tags": []
          },
          "execution_count": 110
        }
      ]
    },
    {
      "cell_type": "code",
      "metadata": {
        "id": "9y70JqCSdT_f",
        "colab_type": "code",
        "outputId": "c511ad01-8d25-4558-b1b3-e1b62dc015d2",
        "colab": {
          "base_uri": "https://localhost:8080/",
          "height": 34
        }
      },
      "source": [
        "# Rank one\n",
        "np.eye(1)"
      ],
      "execution_count": 111,
      "outputs": [
        {
          "output_type": "execute_result",
          "data": {
            "text/plain": [
              "array([[1.]])"
            ]
          },
          "metadata": {
            "tags": []
          },
          "execution_count": 111
        }
      ]
    },
    {
      "cell_type": "code",
      "metadata": {
        "id": "Nu07fBj6dT_h",
        "colab_type": "code",
        "outputId": "b0176965-a3b7-4d47-85d6-dcc4c9484ee0",
        "colab": {
          "base_uri": "https://localhost:8080/",
          "height": 34
        }
      },
      "source": [
        "# Rank one\n",
        "np.linalg.matrix_rank(np.array([1,2,3]))"
      ],
      "execution_count": 112,
      "outputs": [
        {
          "output_type": "execute_result",
          "data": {
            "text/plain": [
              "1"
            ]
          },
          "metadata": {
            "tags": []
          },
          "execution_count": 112
        }
      ]
    },
    {
      "cell_type": "markdown",
      "metadata": {
        "colab_type": "text",
        "id": "0Db2sc_V8QD6"
      },
      "source": [
        "## 8. Linear Projections\n",
        "\n",
        "Line $L$ is formed by all of the vectors that can be created by scaling vector $v$ "
      ]
    },
    {
      "cell_type": "code",
      "metadata": {
        "id": "P_hW3jEodT_k",
        "colab_type": "code",
        "colab": {}
      },
      "source": [
        "# Original Vector"
      ],
      "execution_count": 0,
      "outputs": []
    },
    {
      "cell_type": "code",
      "metadata": {
        "id": "fTtCk2XNdT_m",
        "colab_type": "code",
        "colab": {}
      },
      "source": [
        "# dot product"
      ],
      "execution_count": 0,
      "outputs": []
    },
    {
      "cell_type": "code",
      "metadata": {
        "id": "zTFu0XrOdT_n",
        "colab_type": "code",
        "colab": {}
      },
      "source": [
        "# projection"
      ],
      "execution_count": 0,
      "outputs": []
    },
    {
      "cell_type": "code",
      "metadata": {
        "id": "1o85sQ7cdT_s",
        "colab_type": "code",
        "colab": {}
      },
      "source": [
        "# Get Vals for L"
      ],
      "execution_count": 0,
      "outputs": []
    },
    {
      "cell_type": "code",
      "metadata": {
        "colab_type": "code",
        "id": "hp5z2WTBCNKx",
        "colab": {}
      },
      "source": [
        "# Axis Bounds\n",
        "plt.xlim(-2,4)          \n",
        "plt.ylim(-2,4)\n",
        "\n",
        "# Set axes\n",
        "axes = plt.gca()\n",
        "plt.axes().set_aspect('equal')\n",
        "\n",
        "# Plot Vectors and L"
      ],
      "execution_count": 0,
      "outputs": []
    },
    {
      "cell_type": "code",
      "metadata": {
        "id": "VnZGEsYZdT_w",
        "colab_type": "code",
        "colab": {}
      },
      "source": [
        ""
      ],
      "execution_count": 0,
      "outputs": []
    }
  ]
}
