{
  "nbformat": 4,
  "nbformat_minor": 0,
  "metadata": {
    "colab": {
      "name": "Tuesday_LA_Q&A_DS13.ipynb",
      "provenance": [],
      "collapsed_sections": [],
      "include_colab_link": true
    },
    "kernelspec": {
      "name": "python3",
      "display_name": "Python 3"
    }
  },
  "cells": [
    {
      "cell_type": "markdown",
      "metadata": {
        "id": "view-in-github",
        "colab_type": "text"
      },
      "source": [
        "<a href=\"https://colab.research.google.com/github/masonnystrom/DS-Unit-1-Sprint-3-Linear-Algebra/blob/master/module2-intermediate-linear-algebra/Tuesday_LA_Q%26A_DS13.ipynb\" target=\"_parent\"><img src=\"https://colab.research.google.com/assets/colab-badge.svg\" alt=\"Open In Colab\"/></a>"
      ]
    },
    {
      "cell_type": "code",
      "metadata": {
        "id": "WV6odzykXv6u",
        "colab_type": "code",
        "outputId": "47fc0c8f-7c9c-4b4c-e5bc-42aeb8854f63",
        "colab": {
          "base_uri": "https://localhost:8080/",
          "height": 333
        }
      },
      "source": [
        "import pandas as pd\n",
        "import numpy as np\n",
        "\n",
        "df = pd.read_csv('https://raw.githubusercontent.com/ryanleeallred/datasets/master/churn.csv', na_values=\"?\")\n",
        "print(df.shape)\n",
        "df.head()"
      ],
      "execution_count": 0,
      "outputs": [
        {
          "output_type": "stream",
          "text": [
            "(3333, 21)\n"
          ],
          "name": "stdout"
        },
        {
          "output_type": "execute_result",
          "data": {
            "text/html": [
              "<div>\n",
              "<style scoped>\n",
              "    .dataframe tbody tr th:only-of-type {\n",
              "        vertical-align: middle;\n",
              "    }\n",
              "\n",
              "    .dataframe tbody tr th {\n",
              "        vertical-align: top;\n",
              "    }\n",
              "\n",
              "    .dataframe thead th {\n",
              "        text-align: right;\n",
              "    }\n",
              "</style>\n",
              "<table border=\"1\" class=\"dataframe\">\n",
              "  <thead>\n",
              "    <tr style=\"text-align: right;\">\n",
              "      <th></th>\n",
              "      <th>State</th>\n",
              "      <th>Account Length</th>\n",
              "      <th>Area Code</th>\n",
              "      <th>Phone</th>\n",
              "      <th>Int'l Plan</th>\n",
              "      <th>VMail Plan</th>\n",
              "      <th>VMail Message</th>\n",
              "      <th>Day Mins</th>\n",
              "      <th>Day Calls</th>\n",
              "      <th>Day Charge</th>\n",
              "      <th>Eve Mins</th>\n",
              "      <th>Eve Calls</th>\n",
              "      <th>Eve Charge</th>\n",
              "      <th>Night Mins</th>\n",
              "      <th>Night Calls</th>\n",
              "      <th>Night Charge</th>\n",
              "      <th>Intl Mins</th>\n",
              "      <th>Intl Calls</th>\n",
              "      <th>Intl Charge</th>\n",
              "      <th>CustServ Calls</th>\n",
              "      <th>Churn?</th>\n",
              "    </tr>\n",
              "  </thead>\n",
              "  <tbody>\n",
              "    <tr>\n",
              "      <th>0</th>\n",
              "      <td>KS</td>\n",
              "      <td>128</td>\n",
              "      <td>415.0</td>\n",
              "      <td>382-4657</td>\n",
              "      <td>no</td>\n",
              "      <td>yes</td>\n",
              "      <td>25</td>\n",
              "      <td>265.1</td>\n",
              "      <td>110</td>\n",
              "      <td>NaN</td>\n",
              "      <td>197.4</td>\n",
              "      <td>99.0</td>\n",
              "      <td>16.78</td>\n",
              "      <td>244.7</td>\n",
              "      <td>91</td>\n",
              "      <td>11.01</td>\n",
              "      <td>10.0</td>\n",
              "      <td>3.0</td>\n",
              "      <td>2.70</td>\n",
              "      <td>1</td>\n",
              "      <td>False.</td>\n",
              "    </tr>\n",
              "    <tr>\n",
              "      <th>1</th>\n",
              "      <td>OH</td>\n",
              "      <td>107</td>\n",
              "      <td>415.0</td>\n",
              "      <td>371-7191</td>\n",
              "      <td>no</td>\n",
              "      <td>yes</td>\n",
              "      <td>26</td>\n",
              "      <td>161.6</td>\n",
              "      <td>123</td>\n",
              "      <td>NaN</td>\n",
              "      <td>195.5</td>\n",
              "      <td>103.0</td>\n",
              "      <td>16.62</td>\n",
              "      <td>254.4</td>\n",
              "      <td>103</td>\n",
              "      <td>11.45</td>\n",
              "      <td>13.7</td>\n",
              "      <td>3.0</td>\n",
              "      <td>3.70</td>\n",
              "      <td>1</td>\n",
              "      <td>False.</td>\n",
              "    </tr>\n",
              "    <tr>\n",
              "      <th>2</th>\n",
              "      <td>NJ</td>\n",
              "      <td>137</td>\n",
              "      <td>415.0</td>\n",
              "      <td>358-1921</td>\n",
              "      <td>no</td>\n",
              "      <td>no</td>\n",
              "      <td>0</td>\n",
              "      <td>243.4</td>\n",
              "      <td>114</td>\n",
              "      <td>NaN</td>\n",
              "      <td>121.2</td>\n",
              "      <td>110.0</td>\n",
              "      <td>10.30</td>\n",
              "      <td>162.6</td>\n",
              "      <td>104</td>\n",
              "      <td>7.32</td>\n",
              "      <td>12.2</td>\n",
              "      <td>5.0</td>\n",
              "      <td>3.29</td>\n",
              "      <td>0</td>\n",
              "      <td>False.</td>\n",
              "    </tr>\n",
              "    <tr>\n",
              "      <th>3</th>\n",
              "      <td>OH</td>\n",
              "      <td>84</td>\n",
              "      <td>408.0</td>\n",
              "      <td>375-9999</td>\n",
              "      <td>yes</td>\n",
              "      <td>no</td>\n",
              "      <td>0</td>\n",
              "      <td>299.4</td>\n",
              "      <td>71</td>\n",
              "      <td>50.90</td>\n",
              "      <td>61.9</td>\n",
              "      <td>88.0</td>\n",
              "      <td>5.26</td>\n",
              "      <td>196.9</td>\n",
              "      <td>89</td>\n",
              "      <td>8.86</td>\n",
              "      <td>6.6</td>\n",
              "      <td>7.0</td>\n",
              "      <td>1.78</td>\n",
              "      <td>2</td>\n",
              "      <td>False.</td>\n",
              "    </tr>\n",
              "    <tr>\n",
              "      <th>4</th>\n",
              "      <td>OK</td>\n",
              "      <td>75</td>\n",
              "      <td>415.0</td>\n",
              "      <td>330-6626</td>\n",
              "      <td>yes</td>\n",
              "      <td>no</td>\n",
              "      <td>0</td>\n",
              "      <td>166.7</td>\n",
              "      <td>113</td>\n",
              "      <td>28.34</td>\n",
              "      <td>148.3</td>\n",
              "      <td>122.0</td>\n",
              "      <td>12.61</td>\n",
              "      <td>186.9</td>\n",
              "      <td>121</td>\n",
              "      <td>8.41</td>\n",
              "      <td>10.1</td>\n",
              "      <td>3.0</td>\n",
              "      <td>2.73</td>\n",
              "      <td>3</td>\n",
              "      <td>False.</td>\n",
              "    </tr>\n",
              "  </tbody>\n",
              "</table>\n",
              "</div>"
            ],
            "text/plain": [
              "  State  Account Length  Area Code  ... Intl Charge CustServ Calls  Churn?\n",
              "0    KS             128      415.0  ...        2.70              1  False.\n",
              "1    OH             107      415.0  ...        3.70              1  False.\n",
              "2    NJ             137      415.0  ...        3.29              0  False.\n",
              "3    OH              84      408.0  ...        1.78              2  False.\n",
              "4    OK              75      415.0  ...        2.73              3  False.\n",
              "\n",
              "[5 rows x 21 columns]"
            ]
          },
          "metadata": {
            "tags": []
          },
          "execution_count": 2
        }
      ]
    },
    {
      "cell_type": "code",
      "metadata": {
        "id": "OeRvKM5lZjwN",
        "colab_type": "code",
        "outputId": "a040f756-dcf3-4c74-a5d2-d8695b26340a",
        "colab": {
          "base_uri": "https://localhost:8080/",
          "height": 386
        }
      },
      "source": [
        "df.dtypes"
      ],
      "execution_count": 0,
      "outputs": [
        {
          "output_type": "execute_result",
          "data": {
            "text/plain": [
              "State              object\n",
              "Account Length      int64\n",
              "Area Code         float64\n",
              "Phone              object\n",
              "Int'l Plan         object\n",
              "VMail Plan         object\n",
              "VMail Message       int64\n",
              "Day Mins          float64\n",
              "Day Calls           int64\n",
              "Day Charge        float64\n",
              "Eve Mins          float64\n",
              "Eve Calls         float64\n",
              "Eve Charge        float64\n",
              "Night Mins        float64\n",
              "Night Calls         int64\n",
              "Night Charge      float64\n",
              "Intl Mins         float64\n",
              "Intl Calls        float64\n",
              "Intl Charge       float64\n",
              "CustServ Calls      int64\n",
              "Churn?             object\n",
              "dtype: object"
            ]
          },
          "metadata": {
            "tags": []
          },
          "execution_count": 4
        }
      ]
    },
    {
      "cell_type": "code",
      "metadata": {
        "id": "Hts1AMIzZExe",
        "colab_type": "code",
        "outputId": "f6061650-317c-4cb9-cc07-db7935bde5e4",
        "colab": {
          "base_uri": "https://localhost:8080/",
          "height": 759
        }
      },
      "source": [
        "# Omitting non-numeric columns\n",
        "# The variance-covariance matrix, didn't have any problems with NaNs\n",
        "# Having a lot of NaNs could bias our results if we're not careful\n",
        "df.cov()"
      ],
      "execution_count": 0,
      "outputs": [
        {
          "output_type": "execute_result",
          "data": {
            "text/html": [
              "<div>\n",
              "<style scoped>\n",
              "    .dataframe tbody tr th:only-of-type {\n",
              "        vertical-align: middle;\n",
              "    }\n",
              "\n",
              "    .dataframe tbody tr th {\n",
              "        vertical-align: top;\n",
              "    }\n",
              "\n",
              "    .dataframe thead th {\n",
              "        text-align: right;\n",
              "    }\n",
              "</style>\n",
              "<table border=\"1\" class=\"dataframe\">\n",
              "  <thead>\n",
              "    <tr style=\"text-align: right;\">\n",
              "      <th></th>\n",
              "      <th>Account Length</th>\n",
              "      <th>Area Code</th>\n",
              "      <th>VMail Message</th>\n",
              "      <th>Day Mins</th>\n",
              "      <th>Day Calls</th>\n",
              "      <th>Day Charge</th>\n",
              "      <th>Eve Mins</th>\n",
              "      <th>Eve Calls</th>\n",
              "      <th>Eve Charge</th>\n",
              "      <th>Night Mins</th>\n",
              "      <th>Night Calls</th>\n",
              "      <th>Night Charge</th>\n",
              "      <th>Intl Mins</th>\n",
              "      <th>Intl Calls</th>\n",
              "      <th>Intl Charge</th>\n",
              "      <th>CustServ Calls</th>\n",
              "    </tr>\n",
              "  </thead>\n",
              "  <tbody>\n",
              "    <tr>\n",
              "      <th>Account Length</th>\n",
              "      <td>1585.800121</td>\n",
              "      <td>-13.372948</td>\n",
              "      <td>-2.522625</td>\n",
              "      <td>13.482587</td>\n",
              "      <td>30.744868</td>\n",
              "      <td>3.215017</td>\n",
              "      <td>-6.478258</td>\n",
              "      <td>4.555440</td>\n",
              "      <td>-1.157898</td>\n",
              "      <td>-18.035372</td>\n",
              "      <td>-10.267787</td>\n",
              "      <td>-1.094524</td>\n",
              "      <td>1.057726</td>\n",
              "      <td>2.395871</td>\n",
              "      <td>0.063971</td>\n",
              "      <td>-0.198853</td>\n",
              "    </tr>\n",
              "    <tr>\n",
              "      <th>Area Code</th>\n",
              "      <td>-13.372948</td>\n",
              "      <td>1783.756011</td>\n",
              "      <td>3.508020</td>\n",
              "      <td>-13.639378</td>\n",
              "      <td>-4.789236</td>\n",
              "      <td>-0.356335</td>\n",
              "      <td>0.016627</td>\n",
              "      <td>-9.489032</td>\n",
              "      <td>-0.958747</td>\n",
              "      <td>-11.800260</td>\n",
              "      <td>21.292588</td>\n",
              "      <td>-0.938606</td>\n",
              "      <td>-2.542666</td>\n",
              "      <td>-2.043087</td>\n",
              "      <td>-0.681977</td>\n",
              "      <td>1.457397</td>\n",
              "    </tr>\n",
              "    <tr>\n",
              "      <th>VMail Message</th>\n",
              "      <td>-2.522625</td>\n",
              "      <td>3.508020</td>\n",
              "      <td>187.371347</td>\n",
              "      <td>0.580257</td>\n",
              "      <td>-2.622978</td>\n",
              "      <td>0.171892</td>\n",
              "      <td>15.116027</td>\n",
              "      <td>-3.423722</td>\n",
              "      <td>1.037194</td>\n",
              "      <td>5.317445</td>\n",
              "      <td>1.908000</td>\n",
              "      <td>0.364813</td>\n",
              "      <td>0.109152</td>\n",
              "      <td>1.053178</td>\n",
              "      <td>0.018718</td>\n",
              "      <td>-0.238818</td>\n",
              "    </tr>\n",
              "    <tr>\n",
              "      <th>Day Mins</th>\n",
              "      <td>13.482587</td>\n",
              "      <td>-13.639378</td>\n",
              "      <td>0.580257</td>\n",
              "      <td>2966.696487</td>\n",
              "      <td>7.378949</td>\n",
              "      <td>502.619118</td>\n",
              "      <td>40.201256</td>\n",
              "      <td>29.162093</td>\n",
              "      <td>1.650353</td>\n",
              "      <td>11.909255</td>\n",
              "      <td>24.485216</td>\n",
              "      <td>0.535430</td>\n",
              "      <td>-1.544149</td>\n",
              "      <td>3.250778</td>\n",
              "      <td>-0.337187</td>\n",
              "      <td>-0.961790</td>\n",
              "    </tr>\n",
              "    <tr>\n",
              "      <th>Day Calls</th>\n",
              "      <td>30.744868</td>\n",
              "      <td>-4.789236</td>\n",
              "      <td>-2.622978</td>\n",
              "      <td>7.378949</td>\n",
              "      <td>402.768141</td>\n",
              "      <td>1.456594</td>\n",
              "      <td>-26.306009</td>\n",
              "      <td>2.830654</td>\n",
              "      <td>-1.855600</td>\n",
              "      <td>23.281243</td>\n",
              "      <td>-7.680491</td>\n",
              "      <td>1.044838</td>\n",
              "      <td>1.208268</td>\n",
              "      <td>0.564384</td>\n",
              "      <td>0.383805</td>\n",
              "      <td>-0.500080</td>\n",
              "    </tr>\n",
              "    <tr>\n",
              "      <th>Day Charge</th>\n",
              "      <td>3.215017</td>\n",
              "      <td>-0.356335</td>\n",
              "      <td>0.171892</td>\n",
              "      <td>502.619118</td>\n",
              "      <td>1.456594</td>\n",
              "      <td>85.445054</td>\n",
              "      <td>8.479263</td>\n",
              "      <td>5.204666</td>\n",
              "      <td>0.419907</td>\n",
              "      <td>3.246029</td>\n",
              "      <td>4.504519</td>\n",
              "      <td>0.166815</td>\n",
              "      <td>-0.282561</td>\n",
              "      <td>0.532663</td>\n",
              "      <td>-0.064965</td>\n",
              "      <td>-0.194807</td>\n",
              "    </tr>\n",
              "    <tr>\n",
              "      <th>Eve Mins</th>\n",
              "      <td>-6.478258</td>\n",
              "      <td>0.016627</td>\n",
              "      <td>15.116027</td>\n",
              "      <td>40.201256</td>\n",
              "      <td>-26.306009</td>\n",
              "      <td>8.479263</td>\n",
              "      <td>2570.041169</td>\n",
              "      <td>-12.169222</td>\n",
              "      <td>218.452983</td>\n",
              "      <td>-39.665216</td>\n",
              "      <td>1.438877</td>\n",
              "      <td>-0.979038</td>\n",
              "      <td>-1.055592</td>\n",
              "      <td>0.669116</td>\n",
              "      <td>-0.364663</td>\n",
              "      <td>-0.881191</td>\n",
              "    </tr>\n",
              "    <tr>\n",
              "      <th>Eve Calls</th>\n",
              "      <td>4.555440</td>\n",
              "      <td>-9.489032</td>\n",
              "      <td>-3.423722</td>\n",
              "      <td>29.162093</td>\n",
              "      <td>2.830654</td>\n",
              "      <td>5.204666</td>\n",
              "      <td>-12.169222</td>\n",
              "      <td>396.454605</td>\n",
              "      <td>-1.305866</td>\n",
              "      <td>5.256538</td>\n",
              "      <td>1.195693</td>\n",
              "      <td>0.197847</td>\n",
              "      <td>0.083955</td>\n",
              "      <td>0.406923</td>\n",
              "      <td>0.242833</td>\n",
              "      <td>0.140671</td>\n",
              "    </tr>\n",
              "    <tr>\n",
              "      <th>Eve Charge</th>\n",
              "      <td>-1.157898</td>\n",
              "      <td>-0.958747</td>\n",
              "      <td>1.037194</td>\n",
              "      <td>1.650353</td>\n",
              "      <td>-1.855600</td>\n",
              "      <td>0.419907</td>\n",
              "      <td>218.452983</td>\n",
              "      <td>-1.305866</td>\n",
              "      <td>18.581856</td>\n",
              "      <td>-2.745149</td>\n",
              "      <td>0.640738</td>\n",
              "      <td>-0.053464</td>\n",
              "      <td>-0.132894</td>\n",
              "      <td>0.068717</td>\n",
              "      <td>-0.053562</td>\n",
              "      <td>-0.073647</td>\n",
              "    </tr>\n",
              "    <tr>\n",
              "      <th>Night Mins</th>\n",
              "      <td>-18.035372</td>\n",
              "      <td>-11.800260</td>\n",
              "      <td>5.317445</td>\n",
              "      <td>11.909255</td>\n",
              "      <td>23.281243</td>\n",
              "      <td>3.246029</td>\n",
              "      <td>-39.665216</td>\n",
              "      <td>5.256538</td>\n",
              "      <td>-2.745149</td>\n",
              "      <td>2557.714002</td>\n",
              "      <td>11.088007</td>\n",
              "      <td>116.709910</td>\n",
              "      <td>-2.147180</td>\n",
              "      <td>0.351550</td>\n",
              "      <td>-0.241068</td>\n",
              "      <td>-0.617900</td>\n",
              "    </tr>\n",
              "    <tr>\n",
              "      <th>Night Calls</th>\n",
              "      <td>-10.267787</td>\n",
              "      <td>21.292588</td>\n",
              "      <td>1.908000</td>\n",
              "      <td>24.485216</td>\n",
              "      <td>-7.680491</td>\n",
              "      <td>4.504519</td>\n",
              "      <td>1.438877</td>\n",
              "      <td>1.195693</td>\n",
              "      <td>0.640738</td>\n",
              "      <td>11.088007</td>\n",
              "      <td>382.930472</td>\n",
              "      <td>0.405607</td>\n",
              "      <td>-0.743274</td>\n",
              "      <td>0.123365</td>\n",
              "      <td>-0.091651</td>\n",
              "      <td>-0.329551</td>\n",
              "    </tr>\n",
              "    <tr>\n",
              "      <th>Night Charge</th>\n",
              "      <td>-1.094524</td>\n",
              "      <td>-0.938606</td>\n",
              "      <td>0.364813</td>\n",
              "      <td>0.535430</td>\n",
              "      <td>1.044838</td>\n",
              "      <td>0.166815</td>\n",
              "      <td>-0.979038</td>\n",
              "      <td>0.197847</td>\n",
              "      <td>-0.053464</td>\n",
              "      <td>116.709910</td>\n",
              "      <td>0.405607</td>\n",
              "      <td>5.252061</td>\n",
              "      <td>-0.060894</td>\n",
              "      <td>0.002047</td>\n",
              "      <td>0.000035</td>\n",
              "      <td>-0.012676</td>\n",
              "    </tr>\n",
              "    <tr>\n",
              "      <th>Intl Mins</th>\n",
              "      <td>1.057726</td>\n",
              "      <td>-2.542666</td>\n",
              "      <td>0.109152</td>\n",
              "      <td>-1.544149</td>\n",
              "      <td>1.208268</td>\n",
              "      <td>-0.282561</td>\n",
              "      <td>-1.055592</td>\n",
              "      <td>0.083955</td>\n",
              "      <td>-0.132894</td>\n",
              "      <td>-2.147180</td>\n",
              "      <td>-0.743274</td>\n",
              "      <td>-0.060894</td>\n",
              "      <td>7.794368</td>\n",
              "      <td>0.200790</td>\n",
              "      <td>2.134261</td>\n",
              "      <td>-0.035403</td>\n",
              "    </tr>\n",
              "    <tr>\n",
              "      <th>Intl Calls</th>\n",
              "      <td>2.395871</td>\n",
              "      <td>-2.043087</td>\n",
              "      <td>1.053178</td>\n",
              "      <td>3.250778</td>\n",
              "      <td>0.564384</td>\n",
              "      <td>0.532663</td>\n",
              "      <td>0.669116</td>\n",
              "      <td>0.406923</td>\n",
              "      <td>0.068717</td>\n",
              "      <td>0.351550</td>\n",
              "      <td>0.123365</td>\n",
              "      <td>0.002047</td>\n",
              "      <td>0.200790</td>\n",
              "      <td>6.273313</td>\n",
              "      <td>0.061987</td>\n",
              "      <td>-0.078668</td>\n",
              "    </tr>\n",
              "    <tr>\n",
              "      <th>Intl Charge</th>\n",
              "      <td>0.063971</td>\n",
              "      <td>-0.681977</td>\n",
              "      <td>0.018718</td>\n",
              "      <td>-0.337187</td>\n",
              "      <td>0.383805</td>\n",
              "      <td>-0.064965</td>\n",
              "      <td>-0.364663</td>\n",
              "      <td>0.242833</td>\n",
              "      <td>-0.053562</td>\n",
              "      <td>-0.241068</td>\n",
              "      <td>-0.091651</td>\n",
              "      <td>0.000035</td>\n",
              "      <td>2.134261</td>\n",
              "      <td>0.061987</td>\n",
              "      <td>0.576240</td>\n",
              "      <td>-0.006034</td>\n",
              "    </tr>\n",
              "    <tr>\n",
              "      <th>CustServ Calls</th>\n",
              "      <td>-0.198853</td>\n",
              "      <td>1.457397</td>\n",
              "      <td>-0.238818</td>\n",
              "      <td>-0.961790</td>\n",
              "      <td>-0.500080</td>\n",
              "      <td>-0.194807</td>\n",
              "      <td>-0.881191</td>\n",
              "      <td>0.140671</td>\n",
              "      <td>-0.073647</td>\n",
              "      <td>-0.617900</td>\n",
              "      <td>-0.329551</td>\n",
              "      <td>-0.012676</td>\n",
              "      <td>-0.035403</td>\n",
              "      <td>-0.078668</td>\n",
              "      <td>-0.006034</td>\n",
              "      <td>1.730517</td>\n",
              "    </tr>\n",
              "  </tbody>\n",
              "</table>\n",
              "</div>"
            ],
            "text/plain": [
              "                Account Length    Area Code  ...  Intl Charge  CustServ Calls\n",
              "Account Length     1585.800121   -13.372948  ...     0.063971       -0.198853\n",
              "Area Code           -13.372948  1783.756011  ...    -0.681977        1.457397\n",
              "VMail Message        -2.522625     3.508020  ...     0.018718       -0.238818\n",
              "Day Mins             13.482587   -13.639378  ...    -0.337187       -0.961790\n",
              "Day Calls            30.744868    -4.789236  ...     0.383805       -0.500080\n",
              "Day Charge            3.215017    -0.356335  ...    -0.064965       -0.194807\n",
              "Eve Mins             -6.478258     0.016627  ...    -0.364663       -0.881191\n",
              "Eve Calls             4.555440    -9.489032  ...     0.242833        0.140671\n",
              "Eve Charge           -1.157898    -0.958747  ...    -0.053562       -0.073647\n",
              "Night Mins          -18.035372   -11.800260  ...    -0.241068       -0.617900\n",
              "Night Calls         -10.267787    21.292588  ...    -0.091651       -0.329551\n",
              "Night Charge         -1.094524    -0.938606  ...     0.000035       -0.012676\n",
              "Intl Mins             1.057726    -2.542666  ...     2.134261       -0.035403\n",
              "Intl Calls            2.395871    -2.043087  ...     0.061987       -0.078668\n",
              "Intl Charge           0.063971    -0.681977  ...     0.576240       -0.006034\n",
              "CustServ Calls       -0.198853     1.457397  ...    -0.006034        1.730517\n",
              "\n",
              "[16 rows x 16 columns]"
            ]
          },
          "metadata": {
            "tags": []
          },
          "execution_count": 3
        }
      ]
    },
    {
      "cell_type": "code",
      "metadata": {
        "id": "03BFx7QRZLkX",
        "colab_type": "code",
        "outputId": "42884277-863c-4462-af3a-f8c45b540040",
        "colab": {
          "base_uri": "https://localhost:8080/",
          "height": 67
        }
      },
      "source": [
        "# The numpy .cov() function will only accept numeric columns\n",
        "# Will return NaN values for any columns that have NaNs in them.\n",
        "# Calculates the variance-covariance matrix on the rows of our dataframe by default\n",
        "np.cov(df[['Account Length','Day Mins', 'Day Charge']], rowvar=False)"
      ],
      "execution_count": 0,
      "outputs": [
        {
          "output_type": "execute_result",
          "data": {
            "text/plain": [
              "array([[1585.80012059,   13.48258672,           nan],\n",
              "       [  13.48258672, 2966.69648652,           nan],\n",
              "       [          nan,           nan,           nan]])"
            ]
          },
          "metadata": {
            "tags": []
          },
          "execution_count": 16
        }
      ]
    },
    {
      "cell_type": "code",
      "metadata": {
        "id": "J6Fx42fyb1lA",
        "colab_type": "code",
        "outputId": "4b349f8a-5f4d-4c7e-d25d-8e704d7135da",
        "colab": {
          "base_uri": "https://localhost:8080/",
          "height": 67
        }
      },
      "source": [
        "np.cov(df[['Account Length','Day Mins', 'Day Charge']].T)"
      ],
      "execution_count": 0,
      "outputs": [
        {
          "output_type": "execute_result",
          "data": {
            "text/plain": [
              "array([[1585.80012059,   13.48258672,           nan],\n",
              "       [  13.48258672, 2966.69648652,           nan],\n",
              "       [          nan,           nan,           nan]])"
            ]
          },
          "metadata": {
            "tags": []
          },
          "execution_count": 17
        }
      ]
    },
    {
      "cell_type": "code",
      "metadata": {
        "id": "O1vG9sjobaz2",
        "colab_type": "code",
        "colab": {}
      },
      "source": [
        "# Compare the dataframe against the transposed version\n",
        "# df[['Account Length','Day Mins', 'Day Charge']]\n",
        "# df[['Account Length','Day Mins', 'Day Charge']].T"
      ],
      "execution_count": 0,
      "outputs": []
    },
    {
      "cell_type": "markdown",
      "metadata": {
        "id": "4El_5-_3ct0R",
        "colab_type": "text"
      },
      "source": [
        "## Variance, Standard Deviation, Covariance, and Correlation"
      ]
    },
    {
      "cell_type": "code",
      "metadata": {
        "id": "pfDKkxHyaSG-",
        "colab_type": "code",
        "outputId": "b0d87039-e189-48cb-d0ef-0262dc6d2267",
        "colab": {
          "base_uri": "https://localhost:8080/",
          "height": 195
        }
      },
      "source": [
        "inches_of_rain = [5,8,3,4,7,5,6,8,3,6,4,5]\n",
        "crop_yield_in_bushels = [2,9,4,6,9,4,7,9,7,3,2,3]\n",
        "\n",
        "# Check my work against these things:\n",
        "\n",
        "df = pd.DataFrame({'rain': inches_of_rain, 'yield': crop_yield_in_bushels})\n",
        "df.head()"
      ],
      "execution_count": 0,
      "outputs": [
        {
          "output_type": "execute_result",
          "data": {
            "text/html": [
              "<div>\n",
              "<style scoped>\n",
              "    .dataframe tbody tr th:only-of-type {\n",
              "        vertical-align: middle;\n",
              "    }\n",
              "\n",
              "    .dataframe tbody tr th {\n",
              "        vertical-align: top;\n",
              "    }\n",
              "\n",
              "    .dataframe thead th {\n",
              "        text-align: right;\n",
              "    }\n",
              "</style>\n",
              "<table border=\"1\" class=\"dataframe\">\n",
              "  <thead>\n",
              "    <tr style=\"text-align: right;\">\n",
              "      <th></th>\n",
              "      <th>rain</th>\n",
              "      <th>yield</th>\n",
              "    </tr>\n",
              "  </thead>\n",
              "  <tbody>\n",
              "    <tr>\n",
              "      <th>0</th>\n",
              "      <td>5</td>\n",
              "      <td>2</td>\n",
              "    </tr>\n",
              "    <tr>\n",
              "      <th>1</th>\n",
              "      <td>8</td>\n",
              "      <td>9</td>\n",
              "    </tr>\n",
              "    <tr>\n",
              "      <th>2</th>\n",
              "      <td>3</td>\n",
              "      <td>4</td>\n",
              "    </tr>\n",
              "    <tr>\n",
              "      <th>3</th>\n",
              "      <td>4</td>\n",
              "      <td>6</td>\n",
              "    </tr>\n",
              "    <tr>\n",
              "      <th>4</th>\n",
              "      <td>7</td>\n",
              "      <td>9</td>\n",
              "    </tr>\n",
              "  </tbody>\n",
              "</table>\n",
              "</div>"
            ],
            "text/plain": [
              "   rain  yield\n",
              "0     5      2\n",
              "1     8      9\n",
              "2     3      4\n",
              "3     4      6\n",
              "4     7      9"
            ]
          },
          "metadata": {
            "tags": []
          },
          "execution_count": 25
        }
      ]
    },
    {
      "cell_type": "code",
      "metadata": {
        "id": "45faetJ-bZGE",
        "colab_type": "code",
        "outputId": "f7b93623-9b58-4e7e-f472-4eadf48f57bf",
        "colab": {
          "base_uri": "https://localhost:8080/",
          "height": 34
        }
      },
      "source": [
        "df['rain'].var()"
      ],
      "execution_count": 0,
      "outputs": [
        {
          "output_type": "execute_result",
          "data": {
            "text/plain": [
              "2.96969696969697"
            ]
          },
          "metadata": {
            "tags": []
          },
          "execution_count": 26
        }
      ]
    },
    {
      "cell_type": "code",
      "metadata": {
        "id": "4qnXL0jMdgEx",
        "colab_type": "code",
        "outputId": "948c2a07-4176-46eb-df49-9b7ffc0b55b4",
        "colab": {
          "base_uri": "https://localhost:8080/",
          "height": 34
        }
      },
      "source": [
        "df['yield'].var()"
      ],
      "execution_count": 0,
      "outputs": [
        {
          "output_type": "execute_result",
          "data": {
            "text/plain": [
              "7.537878787878788"
            ]
          },
          "metadata": {
            "tags": []
          },
          "execution_count": 28
        }
      ]
    },
    {
      "cell_type": "code",
      "metadata": {
        "id": "FRIPrtvodhsd",
        "colab_type": "code",
        "outputId": "10b385e7-021f-4f85-867e-061d1f4a52bb",
        "colab": {
          "base_uri": "https://localhost:8080/",
          "height": 34
        }
      },
      "source": [
        "df['rain'].std()"
      ],
      "execution_count": 0,
      "outputs": [
        {
          "output_type": "execute_result",
          "data": {
            "text/plain": [
              "1.7232808737106584"
            ]
          },
          "metadata": {
            "tags": []
          },
          "execution_count": 30
        }
      ]
    },
    {
      "cell_type": "code",
      "metadata": {
        "id": "bztjyBr5dlSl",
        "colab_type": "code",
        "outputId": "49b6987d-a86b-4b7b-f1f9-031709d1ed1f",
        "colab": {
          "base_uri": "https://localhost:8080/",
          "height": 34
        }
      },
      "source": [
        "df['yield'].std()"
      ],
      "execution_count": 0,
      "outputs": [
        {
          "output_type": "execute_result",
          "data": {
            "text/plain": [
              "2.7455197664338145"
            ]
          },
          "metadata": {
            "tags": []
          },
          "execution_count": 31
        }
      ]
    },
    {
      "cell_type": "code",
      "metadata": {
        "id": "0vfEl5pcdoXN",
        "colab_type": "code",
        "outputId": "61303432-1f5f-42e0-e007-2900bf53e9a4",
        "colab": {
          "base_uri": "https://localhost:8080/",
          "height": 106
        }
      },
      "source": [
        "df.cov()"
      ],
      "execution_count": 0,
      "outputs": [
        {
          "output_type": "execute_result",
          "data": {
            "text/html": [
              "<div>\n",
              "<style scoped>\n",
              "    .dataframe tbody tr th:only-of-type {\n",
              "        vertical-align: middle;\n",
              "    }\n",
              "\n",
              "    .dataframe tbody tr th {\n",
              "        vertical-align: top;\n",
              "    }\n",
              "\n",
              "    .dataframe thead th {\n",
              "        text-align: right;\n",
              "    }\n",
              "</style>\n",
              "<table border=\"1\" class=\"dataframe\">\n",
              "  <thead>\n",
              "    <tr style=\"text-align: right;\">\n",
              "      <th></th>\n",
              "      <th>rain</th>\n",
              "      <th>yield</th>\n",
              "    </tr>\n",
              "  </thead>\n",
              "  <tbody>\n",
              "    <tr>\n",
              "      <th>rain</th>\n",
              "      <td>2.969697</td>\n",
              "      <td>2.757576</td>\n",
              "    </tr>\n",
              "    <tr>\n",
              "      <th>yield</th>\n",
              "      <td>2.757576</td>\n",
              "      <td>7.537879</td>\n",
              "    </tr>\n",
              "  </tbody>\n",
              "</table>\n",
              "</div>"
            ],
            "text/plain": [
              "           rain     yield\n",
              "rain   2.969697  2.757576\n",
              "yield  2.757576  7.537879"
            ]
          },
          "metadata": {
            "tags": []
          },
          "execution_count": 32
        }
      ]
    },
    {
      "cell_type": "code",
      "metadata": {
        "id": "WXRELHtVdp6g",
        "colab_type": "code",
        "outputId": "a7e15c74-c91f-4271-ff6f-b5151941d279",
        "colab": {
          "base_uri": "https://localhost:8080/",
          "height": 106
        }
      },
      "source": [
        "df.corr()"
      ],
      "execution_count": 0,
      "outputs": [
        {
          "output_type": "execute_result",
          "data": {
            "text/html": [
              "<div>\n",
              "<style scoped>\n",
              "    .dataframe tbody tr th:only-of-type {\n",
              "        vertical-align: middle;\n",
              "    }\n",
              "\n",
              "    .dataframe tbody tr th {\n",
              "        vertical-align: top;\n",
              "    }\n",
              "\n",
              "    .dataframe thead th {\n",
              "        text-align: right;\n",
              "    }\n",
              "</style>\n",
              "<table border=\"1\" class=\"dataframe\">\n",
              "  <thead>\n",
              "    <tr style=\"text-align: right;\">\n",
              "      <th></th>\n",
              "      <th>rain</th>\n",
              "      <th>yield</th>\n",
              "    </tr>\n",
              "  </thead>\n",
              "  <tbody>\n",
              "    <tr>\n",
              "      <th>rain</th>\n",
              "      <td>1.000000</td>\n",
              "      <td>0.582837</td>\n",
              "    </tr>\n",
              "    <tr>\n",
              "      <th>yield</th>\n",
              "      <td>0.582837</td>\n",
              "      <td>1.000000</td>\n",
              "    </tr>\n",
              "  </tbody>\n",
              "</table>\n",
              "</div>"
            ],
            "text/plain": [
              "           rain     yield\n",
              "rain   1.000000  0.582837\n",
              "yield  0.582837  1.000000"
            ]
          },
          "metadata": {
            "tags": []
          },
          "execution_count": 33
        }
      ]
    },
    {
      "cell_type": "code",
      "metadata": {
        "id": "MZHQIvmIguPL",
        "colab_type": "code",
        "colab": {}
      },
      "source": [
        "def mean(data):\n",
        "  ## implement here\n",
        "  return 0\n",
        "  "
      ],
      "execution_count": 0,
      "outputs": []
    },
    {
      "cell_type": "code",
      "metadata": {
        "id": "ivJceMXydqvs",
        "colab_type": "code",
        "outputId": "bd602f30-ebd3-4e73-8714-fd4aad898ee5",
        "colab": {
          "base_uri": "https://localhost:8080/",
          "height": 34
        }
      },
      "source": [
        "def variance(data):\n",
        "  data = np.array(data)\n",
        "  mean = np.mean(data)\n",
        "  distance = data - mean\n",
        "  distance_squared = distance**2\n",
        "  return distance_squared.sum()/(len(data)-1)\n",
        "\n",
        "variance(df['rain'])"
      ],
      "execution_count": 0,
      "outputs": [
        {
          "output_type": "execute_result",
          "data": {
            "text/plain": [
              "2.96969696969697"
            ]
          },
          "metadata": {
            "tags": []
          },
          "execution_count": 34
        }
      ]
    },
    {
      "cell_type": "code",
      "metadata": {
        "id": "twN0h4_jeCfn",
        "colab_type": "code",
        "outputId": "95d6548b-485e-4eb6-bdde-f4dbaf44ef2a",
        "colab": {
          "base_uri": "https://localhost:8080/",
          "height": 34
        }
      },
      "source": [
        "def variance(data):\n",
        "  return ((data - np.mean(np.array(data)))**2).sum()/(len(data)-1)\n",
        "\n",
        "variance(df['rain'])"
      ],
      "execution_count": 0,
      "outputs": [
        {
          "output_type": "execute_result",
          "data": {
            "text/plain": [
              "2.96969696969697"
            ]
          },
          "metadata": {
            "tags": []
          },
          "execution_count": 35
        }
      ]
    },
    {
      "cell_type": "code",
      "metadata": {
        "id": "flq47JvteVtm",
        "colab_type": "code",
        "outputId": "b6bcc2d9-cfab-4c28-c67b-ae9357d229eb",
        "colab": {
          "base_uri": "https://localhost:8080/",
          "height": 34
        }
      },
      "source": [
        "def std(data):\n",
        "  return np.sqrt(variance(data))\n",
        "\n",
        "rain_std = std(df['rain'])\n",
        "rain_std"
      ],
      "execution_count": 0,
      "outputs": [
        {
          "output_type": "execute_result",
          "data": {
            "text/plain": [
              "1.7232808737106584"
            ]
          },
          "metadata": {
            "tags": []
          },
          "execution_count": 37
        }
      ]
    },
    {
      "cell_type": "code",
      "metadata": {
        "id": "ukQkjVKKettt",
        "colab_type": "code",
        "colab": {}
      },
      "source": [
        "yield_std = std(df['yield'])"
      ],
      "execution_count": 0,
      "outputs": []
    },
    {
      "cell_type": "code",
      "metadata": {
        "id": "3nYNlGTYe2ov",
        "colab_type": "code",
        "outputId": "297346de-c123-4fe5-b0b7-db136fa25fa8",
        "colab": {
          "base_uri": "https://localhost:8080/",
          "height": 34
        }
      },
      "source": [
        "# Get covariance for a single pair of values\n",
        "# Get the covariance for just this pair.\n",
        "\n",
        "def covariance(var1, var2):\n",
        "  return df[var1].cov(df[var2])\n",
        "\n",
        "covariance('rain', 'yield')"
      ],
      "execution_count": 0,
      "outputs": [
        {
          "output_type": "execute_result",
          "data": {
            "text/plain": [
              "2.757575757575758"
            ]
          },
          "metadata": {
            "tags": []
          },
          "execution_count": 41
        }
      ]
    },
    {
      "cell_type": "code",
      "metadata": {
        "id": "Tey0sEqXe-6I",
        "colab_type": "code",
        "outputId": "513f4930-b0f7-46a7-e35a-1ec00014208c",
        "colab": {
          "base_uri": "https://localhost:8080/",
          "height": 34
        }
      },
      "source": [
        "def correlation(var1, var2):\n",
        "  cov = covariance(var1,var2)\n",
        "  return cov / ((std(df[var1]))*(std(df[var2])))\n",
        "\n",
        "correlation('rain','yield')"
      ],
      "execution_count": 0,
      "outputs": [
        {
          "output_type": "execute_result",
          "data": {
            "text/plain": [
              "0.5828365915608865"
            ]
          },
          "metadata": {
            "tags": []
          },
          "execution_count": 44
        }
      ]
    },
    {
      "cell_type": "markdown",
      "metadata": {
        "id": "osUQZ92GiLEy",
        "colab_type": "text"
      },
      "source": [
        "## Calculate the rank of a matrix"
      ]
    },
    {
      "cell_type": "code",
      "metadata": {
        "id": "-sQy3a00fjuX",
        "colab_type": "code",
        "outputId": "c19a6078-9b7e-4001-a95c-033b51d63ef3",
        "colab": {
          "base_uri": "https://localhost:8080/",
          "height": 34
        }
      },
      "source": [
        "A = np.array([[1,2,3],[2,4,6],[-1,9,2]])\n",
        "\n",
        "np.linalg.matrix_rank(A)"
      ],
      "execution_count": 0,
      "outputs": [
        {
          "output_type": "execute_result",
          "data": {
            "text/plain": [
              "2"
            ]
          },
          "metadata": {
            "tags": []
          },
          "execution_count": 48
        }
      ]
    }
  ]
}