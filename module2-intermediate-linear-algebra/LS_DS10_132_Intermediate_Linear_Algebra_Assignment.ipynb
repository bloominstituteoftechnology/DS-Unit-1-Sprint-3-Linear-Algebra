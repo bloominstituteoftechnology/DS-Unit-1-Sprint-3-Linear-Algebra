{
  "nbformat": 4,
  "nbformat_minor": 0,
  "metadata": {
    "colab": {
      "name": "LS_DS10_132_Intermediate_Linear_Algebra_Assignment.ipynb",
      "provenance": [],
      "collapsed_sections": [],
      "include_colab_link": true
    },
    "kernelspec": {
      "name": "python3",
      "display_name": "Python 3"
    }
  },
  "cells": [
    {
      "cell_type": "markdown",
      "metadata": {
        "id": "view-in-github",
        "colab_type": "text"
      },
      "source": [
        "<a href=\"https://colab.research.google.com/github/maiormarso/DS-Unit-1-Sprint-3-Linear-Algebra/blob/master/module2-intermediate-linear-algebra/LS_DS10_132_Intermediate_Linear_Algebra_Assignment.ipynb\" target=\"_parent\"><img src=\"https://colab.research.google.com/assets/colab-badge.svg\" alt=\"Open In Colab\"/></a>"
      ]
    },
    {
      "cell_type": "markdown",
      "metadata": {
        "id": "GSNiYn8lr6nN",
        "colab_type": "text"
      },
      "source": [
        "# Statistics"
      ]
    },
    {
      "cell_type": "markdown",
      "metadata": {
        "id": "3d4izUhQvh2_",
        "colab_type": "text"
      },
      "source": [
        "## 1.1 Sales for the past week was the following amounts: [3505, 2400, 3027, 2798, 3700, 3250, 2689]. Without using library functions, what is the mean, variance, and standard deviation of of sales from last week? (for extra bonus points, write your own function that can calculate these two values for any sized list)"
      ]
    },
    {
      "cell_type": "code",
      "metadata": {
        "id": "w1iZfYvBtEA1",
        "colab_type": "code",
        "colab": {
          "base_uri": "https://localhost:8080/",
          "height": 33
        },
        "outputId": "5a970c41-c825-44ee-cf99-b5a223271708"
      },
      "source": [
        "# Mean\n",
        "sales= [3505, 2400, 3027, 2798, 3700, 3250, 2689]\n",
        "n = len(sales)\n",
        "sales_sum = sum(sales)\n",
        "mean = sales_sum /n\n",
        "print(mean)"
      ],
      "execution_count": 78,
      "outputs": [
        {
          "output_type": "stream",
          "text": [
            "3052.714285714286\n"
          ],
          "name": "stdout"
        }
      ]
    },
    {
      "cell_type": "code",
      "metadata": {
        "id": "mxIzKIccjnJC",
        "colab_type": "code",
        "colab": {}
      },
      "source": [
        "various=([3505, 2400, 3027, 2798, 3700, 3250, 2689])\n",
        "def var(lst):\n",
        "    n = len(lst)\n",
        "    mean = sum(lst) / float(n)\n",
        "    return sum((mean - x)**2 for x in lst) /float(n -1)"
      ],
      "execution_count": 0,
      "outputs": []
    },
    {
      "cell_type": "code",
      "metadata": {
        "id": "GvJMDc7Oo3zC",
        "colab_type": "code",
        "colab": {
          "base_uri": "https://localhost:8080/",
          "height": 33
        },
        "outputId": "5d630c21-c630-4456-ede3-94835c11f83b"
      },
      "source": [
        "var(sales)"
      ],
      "execution_count": 80,
      "outputs": [
        {
          "output_type": "execute_result",
          "data": {
            "text/plain": [
              "214387.90476190473"
            ]
          },
          "metadata": {
            "tags": []
          },
          "execution_count": 80
        }
      ]
    },
    {
      "cell_type": "code",
      "metadata": {
        "id": "uZY7gH-s4KtE",
        "colab_type": "code",
        "colab": {}
      },
      "source": [
        "def std(sales):\n",
        "  std = (var(sales)**.5)\n",
        "  return std "
      ],
      "execution_count": 0,
      "outputs": []
    },
    {
      "cell_type": "code",
      "metadata": {
        "id": "Mc-V2CGsiLL1",
        "colab_type": "code",
        "colab": {
          "base_uri": "https://localhost:8080/",
          "height": 33
        },
        "outputId": "4f7287fd-d0bc-4d3e-8b07-38117a817ab3"
      },
      "source": [
        "std(sales)"
      ],
      "execution_count": 82,
      "outputs": [
        {
          "output_type": "execute_result",
          "data": {
            "text/plain": [
              "463.0204150595357"
            ]
          },
          "metadata": {
            "tags": []
          },
          "execution_count": 82
        }
      ]
    },
    {
      "cell_type": "markdown",
      "metadata": {
        "id": "oh63KaOctEp_",
        "colab_type": "text"
      },
      "source": [
        "## 1.2 Find the covariance between last week's sales numbers and the number of customers that entered the store last week: [127, 80, 105, 92, 120, 115, 93] (you may use librray functions for calculating the covariance since we didn't specifically talk about its formula)"
      ]
    },
    {
      "cell_type": "code",
      "metadata": {
        "id": "FXQWsyM_UI4i",
        "colab_type": "code",
        "colab": {
          "base_uri": "https://localhost:8080/",
          "height": 191
        },
        "outputId": "8bcd57f0-8c08-42cd-fffa-c22bb5aac74e"
      },
      "source": [
        "import pandas as pd\n",
        "custn = [127, 80, 105, 92, 120, 115, 93]\n",
        "sales = [3505, 2400, 3027, 2798, 3700, 3250, 2689]\n",
        "data = {\"custn\": custn, \"sales\": sales}\n",
        "df = pd.DataFrame(data)\n",
        "df.head()"
      ],
      "execution_count": 83,
      "outputs": [
        {
          "output_type": "execute_result",
          "data": {
            "text/html": [
              "<div>\n",
              "<style scoped>\n",
              "    .dataframe tbody tr th:only-of-type {\n",
              "        vertical-align: middle;\n",
              "    }\n",
              "\n",
              "    .dataframe tbody tr th {\n",
              "        vertical-align: top;\n",
              "    }\n",
              "\n",
              "    .dataframe thead th {\n",
              "        text-align: right;\n",
              "    }\n",
              "</style>\n",
              "<table border=\"1\" class=\"dataframe\">\n",
              "  <thead>\n",
              "    <tr style=\"text-align: right;\">\n",
              "      <th></th>\n",
              "      <th>custn</th>\n",
              "      <th>sales</th>\n",
              "    </tr>\n",
              "  </thead>\n",
              "  <tbody>\n",
              "    <tr>\n",
              "      <th>0</th>\n",
              "      <td>127</td>\n",
              "      <td>3505</td>\n",
              "    </tr>\n",
              "    <tr>\n",
              "      <th>1</th>\n",
              "      <td>80</td>\n",
              "      <td>2400</td>\n",
              "    </tr>\n",
              "    <tr>\n",
              "      <th>2</th>\n",
              "      <td>105</td>\n",
              "      <td>3027</td>\n",
              "    </tr>\n",
              "    <tr>\n",
              "      <th>3</th>\n",
              "      <td>92</td>\n",
              "      <td>2798</td>\n",
              "    </tr>\n",
              "    <tr>\n",
              "      <th>4</th>\n",
              "      <td>120</td>\n",
              "      <td>3700</td>\n",
              "    </tr>\n",
              "  </tbody>\n",
              "</table>\n",
              "</div>"
            ],
            "text/plain": [
              "   custn  sales\n",
              "0    127   3505\n",
              "1     80   2400\n",
              "2    105   3027\n",
              "3     92   2798\n",
              "4    120   3700"
            ]
          },
          "metadata": {
            "tags": []
          },
          "execution_count": 83
        }
      ]
    },
    {
      "cell_type": "code",
      "metadata": {
        "id": "G7ZB0krot564",
        "colab_type": "code",
        "colab": {
          "base_uri": "https://localhost:8080/",
          "height": 33
        },
        "outputId": "0848997f-8544-4ba0-bc64-7f7671eedd7e"
      },
      "source": [
        "import numpy as np\n",
        "cov_mm = np.stack((df.custn & df.sales), axis = 0)  \n",
        "print(\"Covariance between last week's customers and sales is: \",np.cov(cov_mm))"
      ],
      "execution_count": 84,
      "outputs": [
        {
          "output_type": "stream",
          "text": [
            "Covariance between last week's customers and sales is:  1116.9523809523807\n"
          ],
          "name": "stdout"
        }
      ]
    },
    {
      "cell_type": "markdown",
      "metadata": {
        "id": "J9SbUY9mt66I",
        "colab_type": "text"
      },
      "source": [
        "## 1.3 Find the standard deviation of customers who entered the store last week. Then, use the standard deviations of both sales and customers to standardize the covariance to find the correlation coefficient that summarizes the relationship between sales and customers. (You may use library functions to check your work.)"
      ]
    },
    {
      "cell_type": "code",
      "metadata": {
        "id": "vFJms2YRrKhY",
        "colab_type": "code",
        "colab": {
          "base_uri": "https://localhost:8080/",
          "height": 33
        },
        "outputId": "ecaf6431-9488-4f1e-a33b-a06a4bb4e1a9"
      },
      "source": [
        "custn = [127, 80, 105, 92, 120, 115, 93]\n",
        "sales = [3505, 2400, 3027, 2798, 3700, 3250, 2689]\n",
        "def std(custn):\n",
        "  std = var(custn)**.5\n",
        "  return std\n",
        "print(std(custn))"
      ],
      "execution_count": 85,
      "outputs": [
        {
          "output_type": "stream",
          "text": [
            "17.057326313123664\n"
          ],
          "name": "stdout"
        }
      ]
    },
    {
      "cell_type": "markdown",
      "metadata": {
        "id": "Ytv-jNiB8baa",
        "colab_type": "text"
      },
      "source": [
        ""
      ]
    },
    {
      "cell_type": "code",
      "metadata": {
        "id": "8ha4WWXNAYfd",
        "colab_type": "code",
        "colab": {}
      },
      "source": [
        ""
      ],
      "execution_count": 0,
      "outputs": []
    },
    {
      "cell_type": "code",
      "metadata": {
        "id": "gOx-uwuAAaFG",
        "colab_type": "code",
        "colab": {}
      },
      "source": [
        ""
      ],
      "execution_count": 0,
      "outputs": []
    },
    {
      "cell_type": "code",
      "metadata": {
        "id": "R36MYY2e23zH",
        "colab_type": "code",
        "colab": {
          "base_uri": "https://localhost:8080/",
          "height": 33
        },
        "outputId": "8be04e56-bd1d-420e-847a-dcf39e4dde00"
      },
      "source": [
        "def std(sales):\n",
        "  std = var(sales)**.5\n",
        "  return std\n",
        "print(std(sales))"
      ],
      "execution_count": 86,
      "outputs": [
        {
          "output_type": "stream",
          "text": [
            "463.0204150595357\n"
          ],
          "name": "stdout"
        }
      ]
    },
    {
      "cell_type": "code",
      "metadata": {
        "id": "C9DALhTtxvhP",
        "colab_type": "code",
        "colab": {
          "base_uri": "https://localhost:8080/",
          "height": 33
        },
        "outputId": "789c549a-665c-45e9-83dc-94d632c81074"
      },
      "source": [
        "custn = [127, 80, 105, 92, 120, 115, 93]\n",
        "sales = [3505, 2400, 3027, 2798, 3700, 3250, 2689]\n",
        "print(\"correlation:\", np.corrcoef(np.array((sales, custn)))[0, 1])"
      ],
      "execution_count": 87,
      "outputs": [
        {
          "output_type": "stream",
          "text": [
            "correlation: 0.9628339778148909\n"
          ],
          "name": "stdout"
        }
      ]
    },
    {
      "cell_type": "code",
      "metadata": {
        "id": "V7n9Xp_YBLD7",
        "colab_type": "code",
        "colab": {}
      },
      "source": [
        ""
      ],
      "execution_count": 0,
      "outputs": []
    },
    {
      "cell_type": "markdown",
      "metadata": {
        "id": "IbZVf7nmujPJ",
        "colab_type": "text"
      },
      "source": [
        "## 1.4 Use pandas to import a cleaned version of the titanic dataset from the following link: [Titanic Dataset](https://raw.githubusercontent.com/Geoyi/Cleaning-Titanic-Data/master/titanic_clean.csv)\n",
        "\n",
        "## Calculate the variance-covariance matrix and correlation matrix for the titanic dataset's numeric columns. (you can encode some of the categorical variables and include them as a stretch goal if you finish early)"
      ]
    },
    {
      "cell_type": "code",
      "metadata": {
        "colab_type": "code",
        "outputId": "092721fd-4b49-47f1-bd26-728cb9ae3606",
        "id": "Nn1NBavyMhy3",
        "colab": {
          "base_uri": "https://localhost:8080/",
          "height": 33
        }
      },
      "source": [
        "custn = [127, 80, 105, 92, 120, 115, 93]\n",
        "sales = [3505, 2400, 3027, 2798, 3700, 3250, 2689]\n",
        "print(\"correlation:\", np.corrcoef(np.array((sales, custn)))[0, 1])"
      ],
      "execution_count": 88,
      "outputs": [
        {
          "output_type": "stream",
          "text": [
            "correlation: 0.9628339778148909\n"
          ],
          "name": "stdout"
        }
      ]
    },
    {
      "cell_type": "code",
      "metadata": {
        "id": "0TWgUIiaCFzq",
        "colab_type": "code",
        "colab": {
          "base_uri": "https://localhost:8080/",
          "height": 33
        },
        "outputId": "aa23cedf-07d8-4569-b1c2-cb54962248e2"
      },
      "source": [
        "import pandas as pd\n",
        "\n",
        "titan = pd.read_csv('https://raw.githubusercontent.com/Geoyi/Cleaning-Titanic-Data/master/titanic_clean.csv')\n",
        "titan.shape"
      ],
      "execution_count": 89,
      "outputs": [
        {
          "output_type": "execute_result",
          "data": {
            "text/plain": [
              "(1310, 16)"
            ]
          },
          "metadata": {
            "tags": []
          },
          "execution_count": 89
        }
      ]
    },
    {
      "cell_type": "code",
      "metadata": {
        "id": "fUkrnB4DAcVK",
        "colab_type": "code",
        "colab": {}
      },
      "source": [
        "#titan=titan.drop(['Unnamed: 0'], axis=1)"
      ],
      "execution_count": 0,
      "outputs": []
    },
    {
      "cell_type": "code",
      "metadata": {
        "id": "gNLYMZmKA1_Y",
        "colab_type": "code",
        "colab": {
          "base_uri": "https://localhost:8080/",
          "height": 418
        },
        "outputId": "63308561-10cc-40b9-ca17-9e1a8d97b0c2"
      },
      "source": [
        "titan.head()"
      ],
      "execution_count": 91,
      "outputs": [
        {
          "output_type": "execute_result",
          "data": {
            "text/html": [
              "<div>\n",
              "<style scoped>\n",
              "    .dataframe tbody tr th:only-of-type {\n",
              "        vertical-align: middle;\n",
              "    }\n",
              "\n",
              "    .dataframe tbody tr th {\n",
              "        vertical-align: top;\n",
              "    }\n",
              "\n",
              "    .dataframe thead th {\n",
              "        text-align: right;\n",
              "    }\n",
              "</style>\n",
              "<table border=\"1\" class=\"dataframe\">\n",
              "  <thead>\n",
              "    <tr style=\"text-align: right;\">\n",
              "      <th></th>\n",
              "      <th>Unnamed: 0</th>\n",
              "      <th>pclass</th>\n",
              "      <th>survived</th>\n",
              "      <th>name</th>\n",
              "      <th>sex</th>\n",
              "      <th>age</th>\n",
              "      <th>sibsp</th>\n",
              "      <th>parch</th>\n",
              "      <th>ticket</th>\n",
              "      <th>fare</th>\n",
              "      <th>cabin</th>\n",
              "      <th>embarked</th>\n",
              "      <th>boat</th>\n",
              "      <th>body</th>\n",
              "      <th>home.dest</th>\n",
              "      <th>has_cabin_number</th>\n",
              "    </tr>\n",
              "  </thead>\n",
              "  <tbody>\n",
              "    <tr>\n",
              "      <th>0</th>\n",
              "      <td>1</td>\n",
              "      <td>1.0</td>\n",
              "      <td>1.0</td>\n",
              "      <td>Allen, Miss. Elisabeth Walton</td>\n",
              "      <td>female</td>\n",
              "      <td>29.0000</td>\n",
              "      <td>0.0</td>\n",
              "      <td>0.0</td>\n",
              "      <td>24160</td>\n",
              "      <td>211.3375</td>\n",
              "      <td>B5</td>\n",
              "      <td>S</td>\n",
              "      <td>2</td>\n",
              "      <td>NaN</td>\n",
              "      <td>St Louis, MO</td>\n",
              "      <td>1</td>\n",
              "    </tr>\n",
              "    <tr>\n",
              "      <th>1</th>\n",
              "      <td>2</td>\n",
              "      <td>1.0</td>\n",
              "      <td>1.0</td>\n",
              "      <td>Allison, Master. Hudson Trevor</td>\n",
              "      <td>male</td>\n",
              "      <td>0.9167</td>\n",
              "      <td>1.0</td>\n",
              "      <td>2.0</td>\n",
              "      <td>113781</td>\n",
              "      <td>151.5500</td>\n",
              "      <td>C22 C26</td>\n",
              "      <td>S</td>\n",
              "      <td>11</td>\n",
              "      <td>NaN</td>\n",
              "      <td>Montreal, PQ / Chesterville, ON</td>\n",
              "      <td>1</td>\n",
              "    </tr>\n",
              "    <tr>\n",
              "      <th>2</th>\n",
              "      <td>3</td>\n",
              "      <td>1.0</td>\n",
              "      <td>0.0</td>\n",
              "      <td>Allison, Miss. Helen Loraine</td>\n",
              "      <td>female</td>\n",
              "      <td>2.0000</td>\n",
              "      <td>1.0</td>\n",
              "      <td>2.0</td>\n",
              "      <td>113781</td>\n",
              "      <td>151.5500</td>\n",
              "      <td>C22 C26</td>\n",
              "      <td>S</td>\n",
              "      <td>NaN</td>\n",
              "      <td>NaN</td>\n",
              "      <td>Montreal, PQ / Chesterville, ON</td>\n",
              "      <td>1</td>\n",
              "    </tr>\n",
              "    <tr>\n",
              "      <th>3</th>\n",
              "      <td>4</td>\n",
              "      <td>1.0</td>\n",
              "      <td>0.0</td>\n",
              "      <td>Allison, Mr. Hudson Joshua Creighton</td>\n",
              "      <td>male</td>\n",
              "      <td>30.0000</td>\n",
              "      <td>1.0</td>\n",
              "      <td>2.0</td>\n",
              "      <td>113781</td>\n",
              "      <td>151.5500</td>\n",
              "      <td>C22 C26</td>\n",
              "      <td>S</td>\n",
              "      <td>NaN</td>\n",
              "      <td>135.0</td>\n",
              "      <td>Montreal, PQ / Chesterville, ON</td>\n",
              "      <td>1</td>\n",
              "    </tr>\n",
              "    <tr>\n",
              "      <th>4</th>\n",
              "      <td>5</td>\n",
              "      <td>1.0</td>\n",
              "      <td>0.0</td>\n",
              "      <td>Allison, Mrs. Hudson J C (Bessie Waldo Daniels)</td>\n",
              "      <td>female</td>\n",
              "      <td>25.0000</td>\n",
              "      <td>1.0</td>\n",
              "      <td>2.0</td>\n",
              "      <td>113781</td>\n",
              "      <td>151.5500</td>\n",
              "      <td>C22 C26</td>\n",
              "      <td>S</td>\n",
              "      <td>NaN</td>\n",
              "      <td>NaN</td>\n",
              "      <td>Montreal, PQ / Chesterville, ON</td>\n",
              "      <td>1</td>\n",
              "    </tr>\n",
              "  </tbody>\n",
              "</table>\n",
              "</div>"
            ],
            "text/plain": [
              "   Unnamed: 0  pclass  ...                        home.dest has_cabin_number\n",
              "0           1     1.0  ...                     St Louis, MO                1\n",
              "1           2     1.0  ...  Montreal, PQ / Chesterville, ON                1\n",
              "2           3     1.0  ...  Montreal, PQ / Chesterville, ON                1\n",
              "3           4     1.0  ...  Montreal, PQ / Chesterville, ON                1\n",
              "4           5     1.0  ...  Montreal, PQ / Chesterville, ON                1\n",
              "\n",
              "[5 rows x 16 columns]"
            ]
          },
          "metadata": {
            "tags": []
          },
          "execution_count": 91
        }
      ]
    },
    {
      "cell_type": "code",
      "metadata": {
        "id": "MOabExaqTxNB",
        "colab_type": "code",
        "colab": {
          "base_uri": "https://localhost:8080/",
          "height": 82
        },
        "outputId": "2a7eb85d-325f-4d4b-e065-3e37c2e3d042"
      },
      "source": [
        "import pandas as pd\n",
        "import numpy as np\n",
        "titan = pd.DataFrame(np.random.randint(0,100,size=(1310, 57)), columns=list('pclasssurvivedagesibspparchticketfareboathas_cabin_number'))\n",
        "print(df.cov())\n",
        "'name','sex','cabin','embarked','home.dest'"
      ],
      "execution_count": 92,
      "outputs": [
        {
          "output_type": "stream",
          "text": [
            "             custn          sales\n",
            "custn   290.952381    7604.357143\n",
            "sales  7604.357143  214387.904762\n"
          ],
          "name": "stdout"
        },
        {
          "output_type": "execute_result",
          "data": {
            "text/plain": [
              "('name', 'sex', 'cabin', 'embarked', 'home.dest')"
            ]
          },
          "metadata": {
            "tags": []
          },
          "execution_count": 92
        }
      ]
    },
    {
      "cell_type": "markdown",
      "metadata": {
        "id": "7K0Xfh8MvYkl",
        "colab_type": "text"
      },
      "source": [
        "# Orthogonality"
      ]
    },
    {
      "cell_type": "markdown",
      "metadata": {
        "id": "Pe3eOZ2fvdZ-",
        "colab_type": "text"
      },
      "source": [
        "## 2.1 Plot two vectors that are orthogonal to each other. What is a synonym for orthogonal?"
      ]
    },
    {
      "cell_type": "code",
      "metadata": {
        "id": "YLSBk7hJvvCx",
        "colab_type": "code",
        "colab": {
          "base_uri": "https://localhost:8080/",
          "height": 282
        },
        "outputId": "29a8a3e8-9c0c-48e9-d449-6fe5c25e9471"
      },
      "source": [
        "# orthogonal is perpidicul\n",
        "\n",
        "import matplotlib.pyplot as plt \n",
        "\n",
        "vector_1 = [0, 2]\n",
        "vector_2 = [2, 0]\n",
        "\n",
        "plt.arrow(0,0, vector_1[0], vector_1[1],head_width=.05, head_length=0.05, color ='red')\n",
        "plt.arrow(0,0, vector_2[0], vector_2[1],head_width=.05, head_length=0.05, color ='green')\n",
        "plt.xlim(-1,3)          \n",
        "plt.ylim(-1,3)\n",
        "plt.title(\"Orthogonal Vectors\")\n",
        "plt.show()"
      ],
      "execution_count": 93,
      "outputs": [
        {
          "output_type": "display_data",
          "data": {
            "image/png": "[encoded data removed]",
            "text/plain": [
              "<Figure size 432x288 with 1 Axes>"
            ]
          },
          "metadata": {
            "tags": []
          }
        }
      ]
    },
    {
      "cell_type": "markdown",
      "metadata": {
        "id": "7AS4V1Nhvvxz",
        "colab_type": "text"
      },
      "source": [
        "## 2.2 Are the following vectors orthogonal? Why or why not?\n",
        "\n",
        "\\begin{align}\n",
        "a = \\begin{bmatrix} -5 \\\\ 3 \\\\ 7 \\end{bmatrix}\n",
        "\\qquad\n",
        "b = \\begin{bmatrix} 6 \\\\ -8 \\\\ 2 \\end{bmatrix}\n",
        "\\end{align}"
      ]
    },
    {
      "cell_type": "code",
      "metadata": {
        "id": "rND5RBpiaJjD",
        "colab_type": "code",
        "colab": {
          "base_uri": "https://localhost:8080/",
          "height": 33
        },
        "outputId": "ff626361-23ea-458c-ddd3-124c7f06419e"
      },
      "source": [
        "5 * 6 + 3 * -8 + 7 * 2"
      ],
      "execution_count": 94,
      "outputs": [
        {
          "output_type": "execute_result",
          "data": {
            "text/plain": [
              "20"
            ]
          },
          "metadata": {
            "tags": []
          },
          "execution_count": 94
        }
      ]
    },
    {
      "cell_type": "markdown",
      "metadata": {
        "id": "cKlsuwlkZ54B",
        "colab_type": "text"
      },
      "source": [
        "# No, they are not orthogonal because their scalar product is not zero.\n",
        "# Two vectors are orthogonal if scalar product is zero\n",
        "\n"
      ]
    },
    {
      "cell_type": "markdown",
      "metadata": {
        "id": "MiNjyqiEz5SG",
        "colab_type": "text"
      },
      "source": [
        "## 2.3 Compute the following values: What do these quantities have in common?\n",
        "\n",
        "## What is $||c||^2$? \n",
        "\n",
        "## What is $c \\cdot c$? \n",
        "\n",
        "## What is $c^{T}c$?\n",
        "\n",
        "\\begin{align}\n",
        "c = \\begin{bmatrix} 2 & -15 & 6 & 20 \\end{bmatrix}\n",
        "\\end{align}"
      ]
    },
    {
      "cell_type": "code",
      "metadata": {
        "id": "IlV_uaYK1EQB",
        "colab_type": "code",
        "colab": {
          "base_uri": "https://localhost:8080/",
          "height": 33
        },
        "outputId": "5c1e023d-2b76-4648-b271-7314c25ea21d"
      },
      "source": [
        "665"
      ],
      "execution_count": 95,
      "outputs": [
        {
          "output_type": "execute_result",
          "data": {
            "text/plain": [
              "665"
            ]
          },
          "metadata": {
            "tags": []
          },
          "execution_count": 95
        }
      ]
    },
    {
      "cell_type": "code",
      "metadata": {
        "id": "FdrcthzuaYrD",
        "colab_type": "code",
        "colab": {
          "base_uri": "https://localhost:8080/",
          "height": 98
        },
        "outputId": "6dec32da-baa1-48fc-8669-3d02651a22ca"
      },
      "source": [
        "import numpy as np\n",
        "import matplotlib\n",
        "matplotlib.style.use('ggplot')\n",
        "c = np.array([2,-15, 6, 20])\n",
        "print(\"c =\", c)\n",
        "\n",
        "print(np.linalg.norm(c)**2)\n",
        "print(np.dot(c,c))\n",
        "print(np.matmul(c.T, c))\n",
        "\n",
        "print(\"These three statements are equivalent\") #they are all c"
      ],
      "execution_count": 96,
      "outputs": [
        {
          "output_type": "stream",
          "text": [
            "c = [  2 -15   6  20]\n",
            "665.0\n",
            "665\n",
            "665\n",
            "These three statements are equivalent\n"
          ],
          "name": "stdout"
        }
      ]
    },
    {
      "cell_type": "markdown",
      "metadata": {
        "id": "MK_TpWqk1Evk",
        "colab_type": "text"
      },
      "source": [
        "# Unit Vectors"
      ]
    },
    {
      "cell_type": "markdown",
      "metadata": {
        "id": "Kpit6WWO1b8l",
        "colab_type": "text"
      },
      "source": [
        "## 3.1 Using Latex, write the following vectors as a linear combination of scalars and unit vectors:\n",
        "\n",
        "\\begin{align}\n",
        "d = \\begin{bmatrix} 7 \\\\ 12 \\end{bmatrix}\n",
        "\\qquad\n",
        "e = \\begin{bmatrix} 2 \\\\ 11 \\\\ -8  \\end{bmatrix}\n",
        "\\end{align}"
      ]
    },
    {
      "cell_type": "markdown",
      "metadata": {
        "id": "oBCj1sDW2ouC",
        "colab_type": "text"
      },
      "source": [
        "Your text here"
      ]
    },
    {
      "cell_type": "markdown",
      "metadata": {
        "id": "dAdUQuep1_yJ",
        "colab_type": "text"
      },
      "source": [
        "## 3.2 Turn vector $f$ into a unit vector:\n",
        "\n",
        "\\begin{align}\n",
        "f = \\begin{bmatrix} 4 & 12 & 11 & 9 & 2 \\end{bmatrix}\n",
        "\\end{align}"
      ]
    },
    {
      "cell_type": "code",
      "metadata": {
        "id": "I3W8ZiHR1_Fa",
        "colab_type": "code",
        "colab": {
          "base_uri": "https://localhost:8080/",
          "height": 50
        },
        "outputId": "d0bb1f31-e953-4554-c798-34869e29943e"
      },
      "source": [
        "f = np.array([4,12,11,9,2])\n",
        "unit_vector = f/np.linalg.norm(f)\n",
        "print(unit_vector)\n",
        "\n",
        "# check work\n",
        "length_f = np.linalg.norm(unit_vector)\n",
        "print(length_f)"
      ],
      "execution_count": 97,
      "outputs": [
        {
          "output_type": "stream",
          "text": [
            "[0.20908335 0.62725005 0.57497921 0.47043754 0.10454167]\n",
            "0.9999999999999999\n"
          ],
          "name": "stdout"
        }
      ]
    },
    {
      "cell_type": "markdown",
      "metadata": {
        "id": "o39UyP-I5lpP",
        "colab_type": "text"
      },
      "source": [
        "# Linear Independence / Dependence "
      ]
    },
    {
      "cell_type": "markdown",
      "metadata": {
        "id": "ajfBqYe45sT5",
        "colab_type": "text"
      },
      "source": [
        "## 4.1 Plot two vectors that are linearly dependent and two vectors that are linearly independent (bonus points if done in $\\mathbb{R}^3$)."
      ]
    },
    {
      "cell_type": "code",
      "metadata": {
        "id": "32cg42G3a79Q",
        "colab_type": "code",
        "colab": {
          "base_uri": "https://localhost:8080/",
          "height": 282
        },
        "outputId": "90579612-df1f-4b9d-caca-c8a26246c6d6"
      },
      "source": [
        "# Axis Bounds\n",
        "plt.xlim(-1.1,4)          \n",
        "plt.ylim(-1.1,4)\n",
        "\n",
        "\n",
        "v = [1,0] \n",
        "w = [2,2]\n",
        "proj = [2,0]\n",
        "axes = plt.gca()\n",
        "x_vals = np.array(axes.get_xlim())\n",
        "y_vals = 0*x_vals\n",
        "\n",
        "plt.plot(x_vals, y_vals, '--', color='b', linewidth=1)\n",
        "plt.arrow(0, 0, proj[0], proj[1], linewidth=3, head_width=.05, head_length=0.05, color ='gray')\n",
        "plt.arrow(0, 0, v[0], v[1], linewidth=3, head_width=.05, head_length=0.05, color ='green')\n",
        "plt.title(\"Shadow of w\")\n",
        "plt.show()"
      ],
      "execution_count": 98,
      "outputs": [
        {
          "output_type": "display_data",
          "data": {
            "image/png": "[encoded data removed]",
            "text/plain": [
              "<Figure size 432x288 with 1 Axes>"
            ]
          },
          "metadata": {
            "tags": []
          }
        }
      ]
    },
    {
      "cell_type": "code",
      "metadata": {
        "id": "rrTwBUwyb-OK",
        "colab_type": "code",
        "colab": {
          "base_uri": "https://localhost:8080/",
          "height": 282
        },
        "outputId": "0c902280-ccd1-4382-c5ab-12638c127c94"
      },
      "source": [
        "vector_1 = [1, 1]\n",
        "vector_2 = [-3, 2]\n",
        "\n",
        "# Plot the Scaled Vectors\n",
        "plt.arrow(0,0, vector_1[0], vector_1[1],head_width=.05, head_length=0.05, color ='red')\n",
        "plt.arrow(0,0, vector_2[0], vector_2[1],head_width=.05, head_length=0.05, color ='green')\n",
        "plt.xlim(-1,3)          \n",
        "plt.ylim(-1,3)\n",
        "plt.title(\"Linear Independant\")\n",
        "plt.show()"
      ],
      "execution_count": 99,
      "outputs": [
        {
          "output_type": "display_data",
          "data": {
            "image/png": "[encoded data removed]",
            "text/plain": [
              "<Figure size 432x288 with 1 Axes>"
            ]
          },
          "metadata": {
            "tags": []
          }
        }
      ]
    },
    {
      "cell_type": "markdown",
      "metadata": {
        "id": "TrJ0MT_n3SvO",
        "colab_type": "text"
      },
      "source": [
        "# Span"
      ]
    },
    {
      "cell_type": "markdown",
      "metadata": {
        "id": "86iXLzwM2z8l",
        "colab_type": "text"
      },
      "source": [
        "## 5.1 What is the span of the following vectors?\n",
        "\n",
        "\\begin{align}\n",
        "g = \\begin{bmatrix} 1 & 2 \\end{bmatrix}\n",
        "\\qquad\n",
        "h = \\begin{bmatrix} 4 & 8 \\end{bmatrix}\n",
        "\\end{align}"
      ]
    },
    {
      "cell_type": "code",
      "metadata": {
        "id": "G2LK2RWL39Q4",
        "colab_type": "code",
        "colab": {}
      },
      "source": [
        ""
      ],
      "execution_count": 0,
      "outputs": []
    },
    {
      "cell_type": "markdown",
      "metadata": {
        "id": "l1deylUj4IHH",
        "colab_type": "text"
      },
      "source": [
        "## 5.2 What is the span of $\\{l, m, n\\}$?\n",
        "\n",
        "\\begin{align}\n",
        "l = \\begin{bmatrix} 1 & 2 & 3 \\end{bmatrix}\n",
        "\\qquad\n",
        "m = \\begin{bmatrix} -1 & 0 & 7 \\end{bmatrix}\n",
        "\\qquad\n",
        "n = \\begin{bmatrix} 4 & 8  & 2\\end{bmatrix}\n",
        "\\end{align}"
      ]
    },
    {
      "cell_type": "code",
      "metadata": {
        "id": "p1i_ueD25ZcP",
        "colab_type": "code",
        "colab": {}
      },
      "source": [
        ""
      ],
      "execution_count": 0,
      "outputs": []
    },
    {
      "cell_type": "markdown",
      "metadata": {
        "id": "IBqe7X1732kX",
        "colab_type": "text"
      },
      "source": [
        "# Basis"
      ]
    },
    {
      "cell_type": "markdown",
      "metadata": {
        "id": "YeUZVHRM6PpT",
        "colab_type": "text"
      },
      "source": [
        "## 6.1 Graph two vectors that form a basis for $\\mathbb{R}^2$\n",
        "\n"
      ]
    },
    {
      "cell_type": "code",
      "metadata": {
        "id": "utvF3Pkt8NP6",
        "colab_type": "code",
        "colab": {
          "base_uri": "https://localhost:8080/",
          "height": 282
        },
        "outputId": "63adf3c3-667c-4ad1-923a-1eb18bd41b74"
      },
      "source": [
        "vector_1 = [1, 1]\n",
        "vector_2 = [-3, 2]\n",
        "\n",
        "# Plot the Scaled Vectors\n",
        "plt.arrow(0,0, vector_1[0], vector_1[1],head_width=.05, head_length=0.05, color ='red')\n",
        "plt.arrow(0,0, vector_2[0], vector_2[1],head_width=.05, head_length=0.05, color ='green')\n",
        "plt.xlim(-3,3)          \n",
        "plt.ylim(-3,3)\n",
        "plt.title(\"Linear Independant\")\n",
        "plt.show()"
      ],
      "execution_count": 102,
      "outputs": [
        {
          "output_type": "display_data",
          "data": {
            "image/png": "[encoded data removed]",
            "text/plain": [
              "<Figure size 432x288 with 1 Axes>"
            ]
          },
          "metadata": {
            "tags": []
          }
        }
      ]
    },
    {
      "cell_type": "markdown",
      "metadata": {
        "id": "20yPFBDUxxnS",
        "colab_type": "text"
      },
      "source": [
        "## 6.2 What does it mean to form a basis?"
      ]
    },
    {
      "cell_type": "markdown",
      "metadata": {
        "id": "3w4tEayT8M0o",
        "colab_type": "text"
      },
      "source": [
        "The basis is created with a vector. and expanded with an addtional  independant or dependat vector "
      ]
    },
    {
      "cell_type": "markdown",
      "metadata": {
        "id": "EHmUxbcY6vD3",
        "colab_type": "text"
      },
      "source": [
        "# Rank"
      ]
    },
    {
      "cell_type": "markdown",
      "metadata": {
        "id": "IpJwt9kw6v8U",
        "colab_type": "text"
      },
      "source": [
        "## 7.1 What is the Rank of P?  The rank of P is 3\n",
        "\n",
        "\\begin{align}\n",
        "P = \\begin{bmatrix} \n",
        "1 & 2 & 3 \\\\\n",
        " -1 & 0 & 7 \\\\\n",
        "4 & 8  & 2\n",
        "\\end{bmatrix}\n",
        "\\end{align}"
      ]
    },
    {
      "cell_type": "code",
      "metadata": {
        "id": "mcc7adH63VBr",
        "colab_type": "code",
        "colab": {
          "base_uri": "https://localhost:8080/",
          "height": 33
        },
        "outputId": "c75df2b5-ab04-461c-d67c-529c864f0066"
      },
      "source": [
        "import numpy\n",
        "from numpy import matrix, ndim\n",
        "P = matrix([[1,2,3],[-1,0,7],[4,8,2]])\n",
        "# print(rank(A))\n",
        "numpy.linalg.matrix_rank(P)"
      ],
      "execution_count": 113,
      "outputs": [
        {
          "output_type": "execute_result",
          "data": {
            "text/plain": [
              "3"
            ]
          },
          "metadata": {
            "tags": []
          },
          "execution_count": 113
        }
      ]
    },
    {
      "cell_type": "markdown",
      "metadata": {
        "id": "jGqFMBYY7mHD",
        "colab_type": "text"
      },
      "source": [
        "## 7.2 What does the rank of a matrix tell us?"
      ]
    },
    {
      "cell_type": "markdown",
      "metadata": {
        "id": "Vjg1IiCD8nnP",
        "colab_type": "text"
      },
      "source": [
        "###Rank (linear algebra) In linear algebra, the rank of a matrix is the \n",
        "###dimension of the vector space generated (or spanned) by its columns. This \n",
        "###corresponds to the maximal number of linearly independent columns of . This, \n",
        "###in turn, is identical to the dimension of the space spanned by its rows.\n",
        "\n"
      ]
    },
    {
      "cell_type": "markdown",
      "metadata": {
        "id": "0Db2sc_V8QD6",
        "colab_type": "text"
      },
      "source": [
        "# Linear Projections\n",
        "\n",
        "## 8.1 Line $L$ is formed by all of the vectors that can be created by scaling vector $v$ \n",
        "\\begin{align}\n",
        "v = \\begin{bmatrix} 1 & 3 \\end{bmatrix}\n",
        "\\end{align}\n",
        "\n",
        "\\begin{align}\n",
        "w = \\begin{bmatrix} -1 & 2 \\end{bmatrix}\n",
        "\\end{align}\n",
        "\n",
        "## find $proj_{L}(w)$\n",
        "\n",
        "## graph your projected vector to check your work (make sure your axis are square/even)"
      ]
    },
    {
      "cell_type": "code",
      "metadata": {
        "id": "hp5z2WTBCNKx",
        "colab_type": "code",
        "colab": {
          "base_uri": "https://localhost:8080/",
          "height": 282
        },
        "outputId": "7d8903dc-f3ab-48fd-ca89-345ab350f0aa"
      },
      "source": [
        "vector_1 = [1, 3]\n",
        "vector_2 = [-1, 2]\n",
        "\n",
        "# Plot the Scaled Vectors\n",
        "plt.arrow(0,0, vector_1[0], vector_1[1],head_width=.05, head_length=0.05, color ='red')\n",
        "plt.arrow(0,0, vector_2[0], vector_2[1],head_width=.05, head_length=0.05, color ='green')\n",
        "plt.xlim(-3,3)          \n",
        "plt.ylim(-3,3)\n",
        "plt.title(\"Scaling vector v forms line L\")\n",
        "plt.show()"
      ],
      "execution_count": 117,
      "outputs": [
        {
          "output_type": "display_data",
          "data": {
            "image/png": "[encoded data removed]",
            "text/plain": [
              "<Figure size 432x288 with 1 Axes>"
            ]
          },
          "metadata": {
            "tags": []
          }
        }
      ]
    },
    {
      "cell_type": "markdown",
      "metadata": {
        "id": "TKkrPwRM-Oar",
        "colab_type": "text"
      },
      "source": [
        "# Stretch Goal\n",
        "\n",
        "## For vectors that begin at the origin, the coordinates of where the vector ends can be interpreted as regular data points. (See 3Blue1Brown videos about Spans, Basis, etc.)\n",
        "\n",
        "## Write a function that can calculate the linear projection of each point (x,y) (vector) onto the line y=x. run the function and plot the original points in blue and the new projected points on the line y=x in red. \n",
        "\n",
        "## For extra points plot the orthogonal vectors as a dashed line from the original blue points to the projected red points."
      ]
    },
    {
      "cell_type": "code",
      "metadata": {
        "id": "cp52kZra-ykj",
        "colab_type": "code",
        "outputId": "59b272f0-f780-4d8e-d3a5-051fe7d2fcda",
        "colab": {
          "base_uri": "https://localhost:8080/",
          "height": 265
        }
      },
      "source": [
        "import pandas as pd\n",
        "import matplotlib.pyplot as plt\n",
        "\n",
        "# Creating a dataframe for you to work with -Feel free to not use the dataframe if you don't want to.\n",
        "x_values = [1, 4, 7, 3, 9, 4, 5 ]\n",
        "y_values = [4, 2, 5, 0, 8, 2, 8]\n",
        "\n",
        "data = {\"x\": x_values, \"y\": y_values}\n",
        "\n",
        "df = pd.DataFrame(data)\n",
        "\n",
        "df.head()\n",
        "\n",
        "plt.scatter(df.x, df.y)\n",
        "plt.show()"
      ],
      "execution_count": 101,
      "outputs": [
        {
          "output_type": "display_data",
          "data": {
            "image/png": "[encoded data removed]",
            "text/plain": [
              "<Figure size 432x288 with 1 Axes>"
            ]
          },
          "metadata": {
            "tags": []
          }
        }
      ]
    },
    {
      "cell_type": "code",
      "metadata": {
        "id": "EZTA6Tj6BGDb",
        "colab_type": "code",
        "colab": {}
      },
      "source": [
        ""
      ],
      "execution_count": 0,
      "outputs": []
    }
  ]
}