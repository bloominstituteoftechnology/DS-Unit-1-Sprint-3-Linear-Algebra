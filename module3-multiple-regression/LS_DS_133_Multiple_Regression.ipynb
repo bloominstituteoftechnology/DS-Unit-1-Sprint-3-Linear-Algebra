{
  "nbformat": 4,
  "nbformat_minor": 0,
  "metadata": {
    "colab": {
      "name": "LS_DS_133_Multiple_Regression.ipynb",
      "provenance": [],
      "collapsed_sections": []
    },
    "kernelspec": {
      "display_name": "Python 3",
      "language": "python",
      "name": "python3"
    },
    "language_info": {
      "codemirror_mode": {
        "name": "ipython",
        "version": 3
      },
      "file_extension": ".py",
      "mimetype": "text/x-python",
      "name": "python",
      "nbconvert_exporter": "python",
      "pygments_lexer": "ipython3",
      "version": "3.8.8"
    }
  },
  "cells": [
    {
      "cell_type": "markdown",
      "metadata": {
        "id": "RQw2GTc8oDRw"
      },
      "source": [
        "Unit 1, Sprint 3, Module 3\n",
        "\n",
        "###Learning Objectives:\n",
        "- Model the relationship of multple predictor variables to a single outcome.\n",
        "- Conduct a t-test to determine the significance of individual variables in the model.\n",
        "- Compare model fit using R-squared"
      ]
    },
    {
      "cell_type": "markdown",
      "metadata": {
        "id": "NbIMllvwIDKL"
      },
      "source": [
        "# Objective - Model the relationship of multiple predictor variables to a single outcome"
      ]
    },
    {
      "cell_type": "markdown",
      "metadata": {
        "id": "uhmdnOzupL1N"
      },
      "source": [
        "### Returning to our forensic science example:\n",
        "\n"
      ]
    },
    {
      "cell_type": "markdown",
      "metadata": {
        "id": "K1ExqvbepUkB"
      },
      "source": [
        "Anyone who is a fan of detective TV shows has watched a scene where human remains are discovered and some sort of expert is called in to determine when the person died. But is this science fiction or science fact? Is it possible to use evidence from skeletal remains to determine how long a body has been buried (a decent approximation of how long the person has been dead)? \n",
        "\n",
        "\n"
      ]
    },
    {
      "cell_type": "markdown",
      "metadata": {
        "id": "OypdMHJop6bQ"
      },
      "source": [
        "Researchers sampled long bone material from bodies exhumed from coffin burials in two cemeteries in England. In each case, date of death and burial (and therefore interment time) was known. This data is given in the Longbones.csv dataset. "
      ]
    },
    {
      "cell_type": "markdown",
      "metadata": {
        "id": "lM5t4Yajp8mH"
      },
      "source": [
        "**We wish to determine if we can improve our model of the relationship between the nitrogen composition of the long bones of the skeleton and the length of time the body was interred.**\n",
        "\n",
        "Source: D.R. Jarvis (1997). \"Nitrogen Levels in Long Bones from Coffin Burials Interred for Periods of 26-90 Years,\" Forensic Science International, Vol85, pp199-208"
      ]
    },
    {
      "cell_type": "code",
      "metadata": {
        "colab": {
          "base_uri": "https://localhost:8080/",
          "height": 204
        },
        "id": "sJegaDmRn0a6",
        "outputId": "b0f3cda6-c0f1-4ce6-e55a-639c512c462b"
      },
      "source": [
        "#Import the Longbones.csv dataset from a URL and print the first few rows\n",
        "\n",
        "import pandas as pd\n",
        "import numpy as np\n",
        "\n",
        "\n",
        "data_url = 'https://raw.githubusercontent.com/LambdaSchool/data-science-practice-datasets/main/unit_1/Longbones/Longbones.csv'\n",
        "\n",
        "df = pd.read_csv(data_url, skipinitialspace=True, header=0)\n",
        "\n",
        "#Drop records with NAs and rename the dataset longbones\n",
        "\n",
        "longbones = df.dropna()\n",
        "\n",
        "longbones.head()"
      ],
      "execution_count": 1,
      "outputs": [
        {
          "output_type": "execute_result",
          "data": {
            "text/html": [
              "<div>\n",
              "<style scoped>\n",
              "    .dataframe tbody tr th:only-of-type {\n",
              "        vertical-align: middle;\n",
              "    }\n",
              "\n",
              "    .dataframe tbody tr th {\n",
              "        vertical-align: top;\n",
              "    }\n",
              "\n",
              "    .dataframe thead th {\n",
              "        text-align: right;\n",
              "    }\n",
              "</style>\n",
              "<table border=\"1\" class=\"dataframe\">\n",
              "  <thead>\n",
              "    <tr style=\"text-align: right;\">\n",
              "      <th></th>\n",
              "      <th>Site</th>\n",
              "      <th>Time</th>\n",
              "      <th>Depth</th>\n",
              "      <th>Lime</th>\n",
              "      <th>Age</th>\n",
              "      <th>Nitro</th>\n",
              "      <th>Oil</th>\n",
              "    </tr>\n",
              "  </thead>\n",
              "  <tbody>\n",
              "    <tr>\n",
              "      <th>3</th>\n",
              "      <td>1</td>\n",
              "      <td>71.8</td>\n",
              "      <td>7.6</td>\n",
              "      <td>1</td>\n",
              "      <td>65.0</td>\n",
              "      <td>3.88</td>\n",
              "      <td>0</td>\n",
              "    </tr>\n",
              "    <tr>\n",
              "      <th>4</th>\n",
              "      <td>1</td>\n",
              "      <td>70.6</td>\n",
              "      <td>7.5</td>\n",
              "      <td>1</td>\n",
              "      <td>42.0</td>\n",
              "      <td>3.53</td>\n",
              "      <td>0</td>\n",
              "    </tr>\n",
              "    <tr>\n",
              "      <th>5</th>\n",
              "      <td>1</td>\n",
              "      <td>68.0</td>\n",
              "      <td>7.0</td>\n",
              "      <td>1</td>\n",
              "      <td>28.0</td>\n",
              "      <td>3.93</td>\n",
              "      <td>0</td>\n",
              "    </tr>\n",
              "    <tr>\n",
              "      <th>6</th>\n",
              "      <td>1</td>\n",
              "      <td>71.6</td>\n",
              "      <td>8.0</td>\n",
              "      <td>1</td>\n",
              "      <td>35.0</td>\n",
              "      <td>3.88</td>\n",
              "      <td>0</td>\n",
              "    </tr>\n",
              "    <tr>\n",
              "      <th>7</th>\n",
              "      <td>1</td>\n",
              "      <td>70.2</td>\n",
              "      <td>6.0</td>\n",
              "      <td>1</td>\n",
              "      <td>44.0</td>\n",
              "      <td>3.64</td>\n",
              "      <td>0</td>\n",
              "    </tr>\n",
              "  </tbody>\n",
              "</table>\n",
              "</div>"
            ],
            "text/plain": [
              "   Site  Time  Depth  Lime   Age  Nitro  Oil\n",
              "3     1  71.8    7.6     1  65.0   3.88    0\n",
              "4     1  70.6    7.5     1  42.0   3.53    0\n",
              "5     1  68.0    7.0     1  28.0   3.93    0\n",
              "6     1  71.6    8.0     1  35.0   3.88    0\n",
              "7     1  70.2    6.0     1  44.0   3.64    0"
            ]
          },
          "metadata": {},
          "execution_count": 1
        }
      ]
    },
    {
      "cell_type": "markdown",
      "metadata": {
        "id": "UygPGJ5Iq4zZ"
      },
      "source": [
        "At the point we left off yesterday, we'd tested for and found a statistically significant relationship between long bone nitrogen composition and interment time."
      ]
    },
    {
      "cell_type": "markdown",
      "metadata": {
        "id": "UIqgn0THlinM"
      },
      "source": [
        "The null hypothesis is that they are **unrelated**.  The alternative hypothesis is that they **are related**.  In symbolic notation:\n",
        "\n",
        "Ho: $\\beta_1$ $=0$\n",
        "\n",
        "Ha: $\\beta_1 \\neq$ $0$"
      ]
    },
    {
      "cell_type": "code",
      "metadata": {
        "id": "sVZOz0j8xLb4",
        "outputId": "23a145ec-7e70-4174-d2a1-044886baf878",
        "colab": {
          "base_uri": "https://localhost:8080/"
        }
      },
      "source": [
        "from statsmodels.formula.api import ols\n",
        "#Enter the model in the format Y ~ X\n",
        "model = ols('Time ~ Nitro', data= longbones).fit()\n",
        "\n",
        "#Print the model summary\n",
        "print(model.summary())\n"
      ],
      "execution_count": 2,
      "outputs": [
        {
          "output_type": "stream",
          "name": "stderr",
          "text": [
            "/usr/local/lib/python3.7/dist-packages/statsmodels/tools/_testing.py:19: FutureWarning: pandas.util.testing is deprecated. Use the functions in the public API at pandas.testing instead.\n",
            "  import pandas.util.testing as tm\n"
          ]
        },
        {
          "output_type": "stream",
          "name": "stdout",
          "text": [
            "                            OLS Regression Results                            \n",
            "==============================================================================\n",
            "Dep. Variable:                   Time   R-squared:                       0.450\n",
            "Model:                            OLS   Adj. R-squared:                  0.433\n",
            "Method:                 Least Squares   F-statistic:                     26.96\n",
            "Date:                Wed, 10 Nov 2021   Prob (F-statistic):           1.05e-05\n",
            "Time:                        17:22:54   Log-Likelihood:                -141.08\n",
            "No. Observations:                  35   AIC:                             286.2\n",
            "Df Residuals:                      33   BIC:                             289.3\n",
            "Df Model:                           1                                         \n",
            "Covariance Type:            nonrobust                                         \n",
            "==============================================================================\n",
            "                 coef    std err          t      P>|t|      [0.025      0.975]\n",
            "------------------------------------------------------------------------------\n",
            "Intercept    316.8053     50.679      6.251      0.000     213.698     419.912\n",
            "Nitro        -69.2427     13.336     -5.192      0.000     -96.375     -42.110\n",
            "==============================================================================\n",
            "Omnibus:                        5.682   Durbin-Watson:                   1.325\n",
            "Prob(Omnibus):                  0.058   Jarque-Bera (JB):                2.336\n",
            "Skew:                           0.294   Prob(JB):                        0.311\n",
            "Kurtosis:                       1.880   Cond. No.                         86.8\n",
            "==============================================================================\n",
            "\n",
            "Warnings:\n",
            "[1] Standard Errors assume that the covariance matrix of the errors is correctly specified.\n"
          ]
        }
      ]
    },
    {
      "cell_type": "markdown",
      "metadata": {
        "id": "4eJsXuRLxKrz"
      },
      "source": [
        "Today let's take a look at some of the information about model fit displayed in the upper right hand side of the top box."
      ]
    },
    {
      "cell_type": "markdown",
      "metadata": {
        "id": "y21TW4n67mNq"
      },
      "source": [
        "**R-squared** (also abbreviated $R^2$) is equal to the square of the correlation coefficient.  It's a number between 0 and 1 that is often expressed as a percent.\n",
        "\n"
      ]
    },
    {
      "cell_type": "markdown",
      "metadata": {
        "id": "8GuTIO3Nvkyb"
      },
      "source": [
        "The interpretation of R-squared is \"the percent of the variability in the y variable that is explained by differences in the x variable(s)\".  \n"
      ]
    },
    {
      "cell_type": "markdown",
      "metadata": {
        "id": "ANlLU6MSvnN2"
      },
      "source": [
        "In this case, $R^2$ = 0.45.  The interpretation is that **45%** of the variability in interment length is explained by differences in nitrogen composition of the long bones.\n"
      ]
    },
    {
      "cell_type": "markdown",
      "metadata": {
        "id": "nh3IRa62vslY"
      },
      "source": [
        "\n",
        "That means that **55%** of the variability in interment time remains unexplained by the model.  "
      ]
    },
    {
      "cell_type": "markdown",
      "metadata": {
        "id": "kzf5OLiCwJxZ"
      },
      "source": [
        "This remaining variablility can be seen in the scatterplot where we have skeletons with the same nitrogen compositon but different interment times."
      ]
    },
    {
      "cell_type": "code",
      "metadata": {
        "id": "rdcccUuCv9Te",
        "outputId": "55d98789-aba7-468f-e50c-5db998824d30",
        "colab": {
          "base_uri": "https://localhost:8080/",
          "height": 369
        }
      },
      "source": [
        "#Use Seaborn to create the scatterplot and overlay the regression line\n",
        "\n",
        "import seaborn as sns\n",
        "\n",
        "#Turn off CI plotting for today\n",
        "\n",
        "sns.lmplot(x='Nitro', y='Time', data=longbones, ci=None);"
      ],
      "execution_count": 3,
      "outputs": [
        {
          "output_type": "display_data",
          "data": {
            "image/png": "[encoded data removed]",
            "text/plain": [
              "<Figure size 360x360 with 1 Axes>"
            ]
          },
          "metadata": {
            "needs_background": "light"
          }
        }
      ]
    },
    {
      "cell_type": "markdown",
      "metadata": {
        "id": "9VLKDiESxJSR"
      },
      "source": [
        "How do we address this unexplained variability?  \n",
        "\n",
        "Checking the other features to help understand why bones with the same nitrogen composition may have different interment times"
      ]
    },
    {
      "cell_type": "markdown",
      "metadata": {
        "id": "7H2VrTjeIMVE"
      },
      "source": [
        "# Objective - Conduct a t-test to determine the significance of individual variables in the model"
      ]
    },
    {
      "cell_type": "markdown",
      "metadata": {
        "id": "EmEI47CbC-ld"
      },
      "source": [
        "We can do this by adding additional terms to our model and testing to see if they are statistically significant.\n"
      ]
    },
    {
      "cell_type": "markdown",
      "metadata": {
        "id": "J4Zvv3fmDI2W"
      },
      "source": [
        "Simple linear regression model: $\\hat{y} = \\beta_0 + \\beta_1x$"
      ]
    },
    {
      "cell_type": "markdown",
      "metadata": {
        "id": "vXtOtQ-fDTaa"
      },
      "source": [
        "Multiple regresssion model: $\\hat{y} = \\beta_0 + \\beta_1x + \\beta_2x + \\beta_3x +...$"
      ]
    },
    {
      "cell_type": "markdown",
      "metadata": {
        "id": "3Tf30mj2EeYd"
      },
      "source": [
        "As with simple linear regression, we use t-tests to determine if model features are statistically significantly associated with the target. "
      ]
    },
    {
      "cell_type": "markdown",
      "metadata": {
        "id": "jXvMYjhBoWWy"
      },
      "source": [
        "\n",
        "Let's start by looking at Lime, which indicates if the body was buried with Quicklime or not.  \n"
      ]
    },
    {
      "cell_type": "markdown",
      "metadata": {
        "id": "GI170a6-o6hx"
      },
      "source": [
        "We can ask the question, \"Does burial with Quicklime change the relationship between long bone nitrogen composition and interment time?\""
      ]
    },
    {
      "cell_type": "code",
      "metadata": {
        "id": "Xglu5UEW5LWR",
        "outputId": "23841ca8-be34-45f0-b223-9f26af72c48a",
        "colab": {
          "base_uri": "https://localhost:8080/",
          "height": 279
        }
      },
      "source": [
        "sns.scatterplot(x='Lime', y='Time', data=longbones);"
      ],
      "execution_count": 5,
      "outputs": [
        {
          "output_type": "display_data",
          "data": {
            "image/png": "[encoded data removed]",
            "text/plain": [
              "<Figure size 432x288 with 1 Axes>"
            ]
          },
          "metadata": {
            "needs_background": "light"
          }
        }
      ]
    },
    {
      "cell_type": "code",
      "metadata": {
        "id": "bz4ODjNR5Xlv",
        "outputId": "08f379c0-583d-4312-8937-fa86baaed162",
        "colab": {
          "base_uri": "https://localhost:8080/",
          "height": 279
        }
      },
      "source": [
        "sns.scatterplot(x='Nitro', y='Time', hue='Lime', data=longbones);"
      ],
      "execution_count": 6,
      "outputs": [
        {
          "output_type": "display_data",
          "data": {
            "image/png": "[encoded data removed]",
            "text/plain": [
              "<Figure size 432x288 with 1 Axes>"
            ]
          },
          "metadata": {
            "needs_background": "light"
          }
        }
      ]
    },
    {
      "cell_type": "markdown",
      "metadata": {
        "id": "Zhj_5D2bpJIR"
      },
      "source": [
        "There does seem to be a different pattern in the relationship between nitrogen composition and interment time depending on if the body was buried with Quicklime, and we can test this claim formally using a hypothesis test."
      ]
    },
    {
      "cell_type": "markdown",
      "metadata": {
        "id": "KqRQiC4yCZwL"
      },
      "source": [
        "Our multiple regresssion model is: $\\hat{y} = \\beta_0 + \\beta_1x$Nitro + $\\beta_2x$Lime"
      ]
    },
    {
      "cell_type": "markdown",
      "metadata": {
        "id": "N_1Es6J1pla_"
      },
      "source": [
        "Now we can test the null hypothesis that burial with Quicklime is not associated with interment time against the alternative hypothesis that burial with Quicklime is associated with interment time.  In symbolic notation:\n",
        "\n",
        "Ho: $\\beta_2$ = $0$\n",
        "\n",
        "Ha: $\\beta_2 \\neq$ $0$"
      ]
    },
    {
      "cell_type": "markdown",
      "metadata": {
        "id": "xNBX1rq4fsLp"
      },
      "source": [
        "Because lime is an indicator variable that assigns observations to a particular category (as opposed to a continuous measurment), we have to specify that in the model with C()."
      ]
    },
    {
      "cell_type": "code",
      "metadata": {
        "id": "uY6TQZu2GE-R",
        "outputId": "b3f93d5e-1b5a-4d02-bc21-1b464410e17f",
        "colab": {
          "base_uri": "https://localhost:8080/"
        }
      },
      "source": [
        "from statsmodels.formula.api import ols\n",
        "\n",
        "#IN OLS YOU MUST SPECIFY WHEN WORKING WITH A CATEGORICAL VARIABLE\n",
        "# This is R Synxtax imported into Python (sklearn is different)\n",
        "\n",
        "#Enter the model in the format Y ~ X\n",
        "model = ols('Time ~ Nitro + C(Lime)', data= longbones).fit()\n",
        "\n",
        "#Print the model summary\n",
        "print(model.summary())"
      ],
      "execution_count": 7,
      "outputs": [
        {
          "output_type": "stream",
          "name": "stdout",
          "text": [
            "                            OLS Regression Results                            \n",
            "==============================================================================\n",
            "Dep. Variable:                   Time   R-squared:                       0.776\n",
            "Model:                            OLS   Adj. R-squared:                  0.762\n",
            "Method:                 Least Squares   F-statistic:                     55.56\n",
            "Date:                Wed, 10 Nov 2021   Prob (F-statistic):           3.90e-11\n",
            "Time:                        17:31:38   Log-Likelihood:                -125.31\n",
            "No. Observations:                  35   AIC:                             256.6\n",
            "Df Residuals:                      32   BIC:                             261.3\n",
            "Df Model:                           2                                         \n",
            "Covariance Type:            nonrobust                                         \n",
            "================================================================================\n",
            "                   coef    std err          t      P>|t|      [0.025      0.975]\n",
            "--------------------------------------------------------------------------------\n",
            "Intercept      180.4695     38.386      4.701      0.000     102.280     258.659\n",
            "C(Lime)[T.1]    25.4505      3.722      6.839      0.000      17.870      33.031\n",
            "Nitro          -35.6258      9.934     -3.586      0.001     -55.860     -15.392\n",
            "==============================================================================\n",
            "Omnibus:                        4.221   Durbin-Watson:                   1.601\n",
            "Prob(Omnibus):                  0.121   Jarque-Bera (JB):                2.325\n",
            "Skew:                           0.385   Prob(JB):                        0.313\n",
            "Kurtosis:                       2.000   Cond. No.                         102.\n",
            "==============================================================================\n",
            "\n",
            "Warnings:\n",
            "[1] Standard Errors assume that the covariance matrix of the errors is correctly specified.\n"
          ]
        }
      ]
    },
    {
      "cell_type": "code",
      "metadata": {
        "id": "rk6yFYfK7cyx",
        "outputId": "2abdb97c-58ae-4424-88d8-dfdd8d1482bd",
        "colab": {
          "base_uri": "https://localhost:8080/",
          "height": 457
        }
      },
      "source": [
        "import matplotlib.pyplot as plt\n",
        "\n",
        "sns.lmplot(x='Nitro', y='Time', data=longbones, hue='Lime', ci=None);\n",
        "\n",
        "intercept, slope_limes, slope_nitro = model.params\n",
        "x = np.linspace(3, 4, 1000)\n",
        "y_limes = intercept + slope_nitro*x +slope_limes\n",
        "#df_limes = pd.DataFrame()\n",
        "y_no_limes = intercept + slope_nitro*x\n",
        "sns.lineplot(x, y_limes);\n",
        "sns.lineplot(x, y_no_limes);\n",
        "plt.show()\n",
        "\n",
        "#THESE LINES BELOW ARE NOT PARALLEL\n",
        "# BECAUSE THEY ARE THE INDIVIDUAL LINEAR REGRESSIONS\n",
        "# NOT THE COMBINED ONE THAT WE ARE CALCULATING\n",
        "\n",
        "#CATEGORICAL VARIABLES GIVE PARALLEL LINES\n",
        "# BECAUSE THEY ARE EITHER ON (slope=1) OR OFF (slope=0)"
      ],
      "execution_count": 20,
      "outputs": [
        {
          "output_type": "stream",
          "name": "stderr",
          "text": [
            "/usr/local/lib/python3.7/dist-packages/seaborn/_decorators.py:43: FutureWarning: Pass the following variables as keyword args: x, y. From version 0.12, the only valid positional argument will be `data`, and passing other arguments without an explicit keyword will result in an error or misinterpretation.\n",
            "  FutureWarning\n",
            "/usr/local/lib/python3.7/dist-packages/seaborn/_decorators.py:43: FutureWarning: Pass the following variables as keyword args: x, y. From version 0.12, the only valid positional argument will be `data`, and passing other arguments without an explicit keyword will result in an error or misinterpretation.\n",
            "  FutureWarning\n"
          ]
        },
        {
          "output_type": "display_data",
          "data": {
            "image/png": "[encoded data removed]",
            "text/plain": [
              "<Figure size 402.375x360 with 1 Axes>"
            ]
          },
          "metadata": {
            "needs_background": "light"
          }
        }
      ]
    },
    {
      "cell_type": "markdown",
      "metadata": {
        "id": "55FQEaZup0xi"
      },
      "source": [
        "Now we see \"Lime\" appear in the model under Nitro alongside the model coefficient, standard error, t-test, p-value and CI."
      ]
    },
    {
      "cell_type": "markdown",
      "metadata": {
        "id": "Q39BIzI-IAqM"
      },
      "source": [
        "Both Nitro and Lime are statistically significant predictors of interment time so it makes sense to include both of them in our statistical model.\n",
        "\n",
        "We can write the model using the coefficients shown in the table as:\n",
        "\n",
        "$\\hat{y}$ = 180.47(Time) - 35.63(Nitro) + 25.45(Lime)\n",
        "\n"
      ]
    },
    {
      "cell_type": "markdown",
      "metadata": {
        "id": "gDSbzUi3gepJ"
      },
      "source": [
        "Let's look more closely at what is going on here.  The model is setting up a set of parallel lines - one for when Lime = 0 and one for when Lime = 1.\n",
        "\n",
        "When Lime = 0\n",
        "\n",
        "$\\hat{y}$ = 180.47(Time) - 35.63(Nitro) + 25.45(0)\n",
        "\n",
        "$\\hat{y}$ = 180.47(Time) - 35.63(Nitro)\n",
        "\n",
        "\n",
        "When Lime = 1\n",
        "\n",
        "$\\hat{y}$ = 180.47(Time) - 35.63(Nitro) + 25.45(1)\n",
        "\n",
        "$\\hat{y}$ = 205.92(Time) - 35.63(Nitro)\n"
      ]
    },
    {
      "cell_type": "markdown",
      "metadata": {
        "id": "Fv4Jm-xVlgG-"
      },
      "source": [
        "### Example of regression with an indicator variable:"
      ]
    },
    {
      "cell_type": "markdown",
      "metadata": {
        "id": "F76MSbTelb_o"
      },
      "source": [
        "![400px-Ancova_graph.jpg](data:image/jpeg;base64,/9j/4AAQSkZJRgABAQEAYABgAAD//gBBRmlsZSBzb3VyY2U6IC8vY29tbW9ucy53aWtpbWVkaWEub3JnL3dpa2kvRmlsZTpBbmNvdmFfZ3JhcGguanBn/9sAQwAGBAUGBQQGBgUGBwcGCAoQCgoJCQoUDg8MEBcUGBgXFBYWGh0lHxobIxwWFiAsICMmJykqKRkfLTAtKDAlKCko/9sAQwEHBwcKCAoTCgoTKBoWGigoKCgoKCgoKCgoKCgoKCgoKCgoKCgoKCgoKCgoKCgoKCgoKCgoKCgoKCgoKCgoKCgo/8AAEQgBQwGQAwEiAAIRAQMRAf/EABwAAQACAwEBAQAAAAAAAAAAAAAEBQEDBgcCCP/EAFMQAAEEAgADAwcFCwgIBAcBAAEAAgMEBREGEiETMWEHFBUiMlFxQVaBlNMjNTZDcnSCkZKysxYzNEJTc3XSJERSVGKVorElVZO0CEZjZKGjwcL/xAAXAQEBAQEAAAAAAAAAAAAAAAAAAQID/8QAKBEBAQABAwMDBAIDAAAAAAAAAAERAiExEjJRQWHwInGx0QMTkeHx/9oADAMBAAIRAxEAPwD9UoiICIiAiIgIiIPmUlsbnDvAJCgcN3pMnw7i787WNltVYp3tZ7Ic5gcQN/J1U6f+Yk/JP/ZU/A34E8P/AOH1/wCG1BdoiICIiAiIgIiICIiAiIgIiICIiAiIgIiICIiAiIgIiICIiAiIgIiICKBnctUweGvZTIyOjp0oXTzPDS4tY0bJ0Op6fIF94fKUszjor+Lsx2qUvN2c0Z214Di0lp+UbB0R0PeNhBMREQEREBERAREQEREBERAREQabv9Em/Id/2Kq+CfwMwH+H1/4bVaXP6LN+Q7/sVV8E/gZgP8Pr/wANqC6REQEREBERAREQEREBERAREQEREBERAREQEREBERAREQEREBERBx2f8oeCxGHw2Y7fzzD5K35q27UIlji9SRzpHkdzW9k4OP8AV0d9xXN5njzNY25kseW1zY9Ovx1axHQltBkXmUdpjTDG4OkkdzFo9Zo6FxPq6P3xdwVkK/E+NvcL1YZcdcy8F3J1TKIhA8bZLZYCeV3PE6RkjNbcS1w6825+A8luHxlfOULcsmTw96SE1qdkdaTIm8rGMkB5yW9zXbDmta1uzy7IcRmJ+Ip72JzeVx9LI5i7G3HzcLyRy2o4XhwEzWyROMMXOx7ZCZw7l0AXEDp6b5P8PmuHKD8NkJ6djEUfuOMma97rBgDncrZQWhoLGcjARvfLs63pS6bsJwzWZisTWih5AXNo0ouZ5J73Oa35T3lzu8nZK3/+MXz15MVAfyZpz/8A4Yf21MtzRcZu0912DtF8QM7ONrC9z+UAczzsnp3nxX2qwIiICIiAiIgIiICIiAiIg03f6JN+Q7/sVV8E/gZgP8Pr/wANqscl0x9n+6f+6VA4M/A/BfmEH8NqC4REQEREBERAREQEREBERAREQEREBERAREQEREBERARFjY2QgyhWC4DvUTIZKnj2sNywyIv6MYer3n3NaOrj4AFFkt2iZtfEsrImOfI4NY0bc5x0APEqn89yd46oVG04Sddvd3zHxbEDv9ot+C+o8DC+RsuSklyUzTsGyQWNPvbGNMHx1vxUb6JO6sOzrbOxh60uQP8AbNPJAOv9oejv0A5BjLt0byt9zYz/AKtSJiZ8HP3zu+gtHgrgjfyL6TB/ZjtmPyjUqNejAIaUEVeIHfJE0NG/f07z4qQBpZRVi225oiIiCIiAiIgIiICIiAiIgIiII2T+91r+6f8AulQODPwPwX5hB/Dap+T+91r+6f8AulQODPwPwX5hB/DaguEREBERAREQEREBERAREQEREBERAREQEREBERA2E2Fot2IasDprM0cMLfafK8NaPiSqoZaxcGsPRknbr+kWNww/RsczvobrxTLWnRq1cLzaqLWbqtnfBTEl+006MNQB5afc52w1n6RC1jDyWxvMXZbQ/wB3i3DB8C0Hmd8HOI8FaV4Y68LYoI2RRM6NYxoa0DwATdr6NPO/4UVWbI5mxdhfY9HsqTCCWKuOeUuMbJP5xw0OkjfZb3705WmPxVPHvfJXgDZXjT5nuL5H/lPcS4/SVA4aO8xxV/ibP/Z1l98ZT5KthXzYcy+csdvlhqCy940ejWF7B366k92x8uxEv8lu02nz5uugNLOx7wuXr5iW/wCT+lmjk8fQEtKK5YuNYZYI28ge8t5i31e/Rd3DvC4vJ8bcWYzEYvJZPGCsDRqWJYG4+Z4nlknLJYi8H/R3NYY3ND/6z9Eu5CFWHrqLA67WUBNjelovXK1CrJZuzw168eueWZ4YxuzrqT0HUrybirygZN8OayOGxWRhm4Pvv8/rzuDILtchzN9PXADHNnDuQjTCAXb2g9gRcdwpnsj/AClynDfEc1CbJV4Yr9WxUiMLLVWTbS4Rl7yCyRrmnqRp0Z/rLsUBERAREQEREBERAREQEREETLkjFXCO/sX6/ZKhcHdOEcIP/sYP4bVMzH3quf3L/wB0qJwd+CWE/MYP4bUFuiIgIiICIiAiIgIiICIiAiIgIiICIvlzgCdnuHVB9LDjpU0mdhmeY8VFLkZB0Jg/mmnxlPq/QCT4J5jkrp5sle82i/3eiS39qUjmP6IYpnw6f12d23zw+s3xJh8GI25XI1askp1HFJKA+Q/8Le8qifxfVvFzYszhMZED1fPdhlmPwY1/K34lzvguopYujSgMVWpDGxx2/Tdl597ierj4nqt/mlf+wi/YCE1adPbM/f8AX7y5WvkuEop22Z8/jLdxp22xZvRSOafe0b5WfogK1HFnDmvv/ifrsf8AmVr5pW/3eH9gKj4wy1Dhfh63mLeOsW4Kred8VOsJJOUdSdHQAABJJIAA+AThnVqurlv/AJW8Of8An+I+ux/5k/lbw5/5/iPrsX+ZWgqV9fzEX7AWfNK/9hF+wFWXP8GW696/xRYpWIbNd+THLLDIHtdqrXB0R06EEfQrbNYipma7ILom5GO52mGeSFwPKWn1o3NdrRI1vRU5jGxt5WNDW+4DQX0g567wbg7lYV5aLW1wysxsUMskTWNruLoQ0McA0NLiRrXyd+hrc/hnGyS0HzssWPMnNfC2xbmmbzNcXNe5rnkPc0nYc4EggEEaGrtEHL+UfiGfhjhiXJVYInyCWKEyz83Y1mveGmaXl9bkZvZ118QNkc1d42nycfDWO4Zz+CtWcpYkq2sxWi7evBIyF0gjbEJDqR/L6oe/QDXHqdA+lSteWu7NzWv0dOI3o/J06bXEV+DK0kmcyHHFjHZiTJRwRTsNIV6kccPMWeo5zyX80jzzueT7IHKAg451zO5yDJyXsTcztC3Hb4by2PoPZGzt4ZXMjswCSTTGPa97Xnm21wb38hK6nB8FZSSPEXuIMryZb0ezHZuKryz18rHHzhnOZGbBPO4kgA+u5u9aK6HHWK8FGGlwxi4/M4hyRcjBXqsHX2enUfkNI8VJGLs2xvKXXyNPfXrbhi+BIPM76XaPuVx5Z6vCRicVSxdClToQMjr0q7Klcb5nMiaAA3mOyejR3n5FYLXXhjrwsigjZHEwBrWMaA1o9wA7lsUaEREBERAREQEREBERAREQQ8z96rn9y/8AdKicHfglhPzGD+G1Sc4SMNeI7xXk/dKjcIDXCeFA7hSg/htQW6IiAiIgIiICIiAiIgIiwTrSDKLG1WXM3UrzOrtL7Nwf6vWb2kg+IHRo8XEBOF06bquJFmTpRb9+tQhEt2xHBGegL3Acx9w958Aq8jMX+r3x4uE/JHqafXxPqNP0P+KlUcNSqS9uyIyWiNGxM4ySnw53bIHgNDwUb6dM7r/j9/8AUb0jkLpLcbRMUZ/1m80xj4tj9t308nxWRg47JDsxPLkXDr2cvqwj4RD1T+lzHxVwG6KyBpMH9lnbt88vlrGsa1rGhrWjQA6ADwX1pEVcxERAVFxthrHEPC2Sw9W3DTdfgfWfNLXdMGse0tOmh7OvXod68Cr1EGqq2ZtaJtqSOSwGjtHxsLGud8pDSSQPDZ+K2oiAibVTJm4HSOioMkvzNOi2totafc55IaPhvfgrJalsnK134qHfyVWiWtsTBsr/AGImgukf+SwbJ+gKH5rkrp/0202nEfxNPq4jxlcP3Q0+KnUsdVoh3msLY3O6vf3vf4ucerj8SmJOUzbwhecZa6B5tXZQhP4y0OeQ/CNp0PiXb97Vsr4WsJmTXDJesMO2yWSHcp97W6DW/ogFWmkTN9Dp8saG9/KsoijQiIgIiICIiAsc3XWunvWV555VOzmsYqrTrcUTZ+Zs7qTsDaFdzGsMZf2rpHCLkJ7MfdA7v9UbQehovP8AgdvlHgsV/wCVDsFaxsheXalcLsDTos53MjbDI4dWuDWsHQEE9y9AQEREBERBBz33lv8A5vJ+6VH4Q/BTDfmUH8NqkZ77y3/zeT90qPwh+CmG/MoP4bUFsiIgIiICIiAibWC4DvQZWCdKFfylOhyC3O2N8h9SMAukf+Swbc76AoXnOVyAIp1W0YT3TXBzP+iJp/ecD/wplufx2zPEW808cETpZntjiaNue86a0e8k9yqHZs3PVw1OW8P7cnsoP2yNuH5AcvuLBVzKya+6XIWGHmbJacHBp97WABjT4gb8Vb633jqpuv0aff8AH7/ClbirV0by197mOH9HqEwx/S4Hnd+sA+5WdOnXpQCGnBFBCOoZEwNG/gFvCykmGdWvVqmLwxrppZRFWRERAREQETaxzDekGUVfdy1SrN2DpHS2iNivC0ySfEtHcPE6HitAOWunoI8bB46lnP0ew3/rVxeWeqcJ9u5XpwumtzRwRA655HBo38Sq92Rt3BrF0nch7rFsGJn0N9t36mg+9bqeIrVpxYLHT2v94nd2kn0E+yPBuh4Kx13pmQxby5fFVJMrfzMOamNtlO42BkTQY4S0wRSdWA+t1kPtF3cF0scbYY2sjaGsaNNawaAHu18ipOGeuY4q/wATZ/7SsoflKjpS8O9nkH1o2uk1G+1RltxB/I7vjjc071vRJ79a66Utyskjqd9Aeqc3d0K86dmKtfybY+LP4rJXbsGPpPmx1xkkr5JXt0xs0nLyuPOwl7iPV1zOA2AuOyeJyFfF8OR4zK+lsu6jTq1C5thzq00dkuknid3BhaS15folkLQS4EtJXvG0WAD12uCznlDqVuI8pwrXZNSz7IWMx9rIwltGzZljc6GMSA/K5rho8pcWPDdkIO+J0FQcZ8WYrg/D+k87P2FTtY4i4aJHO9rObl3shvMCdbIGzo6XEjjLL8VWeF6ODu1+H3ZfGT3pJrNbt3izC+NklRrHuZ1Y5zy/pvTDrl9oVvBFE8YZazmc5i3WKXFOBNaeZry+KrLE90E8cDuvJFO1zJGkO9bs99TooLCTjviHG3s9XdhvS0OPZ6ZEj3eZTHGyjmjayEtLnzMLZmlrgz+abshz9D0/H3K+Qo17lKVk9SxG2aGVh217HAFrh4EEFclwtwlk6tvFZLiTKQ3szi4JaEVqpCYvOqzgz+kc5eXP5ow/bS0BxOvl31eLoVcXj69HHwR16ldgjiijGmsaO4Ae5BKREQEREBeY+WC1TxtzC5SXM5zGXqcdt8foeiy1I6Etj7Z8gcxwETPU3vpstPeGkene5edcWRvzGUJt8GcU2GQQW8eX1rNFkVmvOGtkBDrAdynkY4bDXAgd3UKCZ5LcxNlqWT84yWdvTVrIhkGYx0dKWF3Ztfy8jGM/qva7ZH9YfIu5XEeTLES4yDJzXK/EDL1qaMyT5uSq6WRrI2sYG+buLA1rWjv0S4uJ3tduFb7JBERFEREFfxCeXBZE+6tKf+grVwo3l4YxDfdThH/62rZxH94Ml+bS/uFfPC/4N4r80h/cCCzREQERaLtuvSrma3PFBCOhfI8Nb+soSZ2jeSAO9Y2DvRVL6VtXRrE0XvYR0sWg6GP6ARzu/UAfegwptnmzNuS6N/zDR2UHf/sA7cPB5cpl06Md9x+fn3fUucrGR0NBsuQsN9V0dVocGn3OedMb8Cd+C+TUy17RuWWUIT+Jp+tIenyyuHT9FoPiraGKOGJsULGxxtGmsYAAPgAto7kx5Sa5O2IOPxlSgXuq1wyST25CS6R/5TztzvpKmtGgVlFWbbbmiIiIIiICIiAm0UTIZCrj2tdbmZEHdGgnbnn3NaOrj4AFEtwl7HvXy97GNc57g1rRsknQAVSbmRuf0GmK0R/H3AdnxEQO/wBotPgvpmEglc1+SllyEg6jzjRjafCMeqPjonxVx5TOeEXIcQvMW8Fi7mbcdjmrPjjib7tySOaCD3epzEfKFWSW85bI8/weaaz5YKc9WNpHuL+35z9HKPBdkAspnwdOeXM079ilD2VPg7KQR73yxyUwCfefu/U+K3+nMiP/AJWzH/rVPt1frmfKNkMniOCcxksI6qy5SrSWQbMTpW8rGlxAa0jZOtDZ0N7O9aMtaSPTmR+a2Y/9ap9usenMl81cx/61T7dX47kQUPCsNts+ct3aUtLz28JoopXsc/kEEMezyOcBsxu6bPTSviNoiDHKPH9aco3vr+tZRAXGcWcHR5viXG33QU7FKSvLjstVtN22zVd68ev+OOVoLfcHv0QV2aq35eB7nR0WPvStOi2votaf+J500fDe/BEuqTlzuB8m/D2Mw1vE3a783QnyEmSbFmuW52Mrx15S8b17R2duPM7ZOyunsW6OMZDAXRxaaGxQRt27Q6ANY0b0PALT5tet9bdkVYz+Kq+0fjIRv9kD4qXSoVqTXCtC1hd7Tu9z/wApx6n6SjOdV4b4Xc8bXac3mAOnDRHxC+0CI2IiICIiAvOfKtwdc4xfUqxxtlotp3mAOtPhbDccxnm07mt9sNIkb8uu03o6Xoy4vj3hvK52xTnwmXhxsrK9mlK+SJ7y2OcM5pYuV7eWZnZ+qTsDmcpRV+Rzh2zga+bMmDfgqdu1HNXoy222XxkQMbJ67XvHJ2gdyjm33kgbAHpAXI8CcH1OEJsxFimw18ZasRSVqUAIZAGwRxknfe9xYXE/L0J2dk9crblIIqqLiLDSz5SGPKUnSYpodfAnb/ooIcdyHfqdGuPX3Fa+G+KMHxNWln4fylPIxQv5JHVpQ/kPfo67kVcoqKDi7h6xxG/AQZrHyZpgPNSbO0yggbI5d94GyR3gDa+YOMeHLGZu4mHN49+RpRvlswNnaXQtZrnLuuhy7677vlQTuI/vBkvzaX9wr54X/BvFfmkP7gVP/KnB8S8MZqbh/K0slHXrytlNaYP5DyO1vXdvR179LOBzAdgMdBi4Jb8rasTS+MhsLTyN75T6p/R5j4JlrTpurh1J+VVt7MUqcvYSSF9ojba0LTJKR7+RuyB4nQ8VH8wyF7753jFH8teiTGD4GX2z+jyKxx9GrQhMVOvFAwnZDG65j7yflPieqm640Tm5+37Vu8vfP3NkeLgP9aTU05HgAeRn0l/wUiphakFhliQPtW291iy7tJB+Tvoz4NACtND3JoKl/kuMTaezAWURGBERAREQERCdICLVYsQ14Xy2JWRRN6ue9wa0fElVhys1sj0RUksNP4+bcMI+BI5nfotI8VcWpmRbnoq2xmazJ3V64kt2mnToaw53N/KPst/SIWo4ma2N5a4+wP7CHcMP0gEud+k4jwVpXghrwtirxRxRN9ljGhrR8AE2ib1ViHKXTueZmPhP9SDUkp+LyOUfANPxUqji6tJ7pK8X3d/R0zyXyOHi92yf1qcAB3BEydMERFGhERAVdn8NSz2Mlx2UiM1KbpLEJHsDx8rTykEg76g9CrFEGqrAyrWigiLyyNoa0ve57tD3ucSSfEklbUWHHSDKFQbmTrVphCXOkskbEETS95+gdw8ToLR/4ncPQsoRH4SzEfuN/wCpGbrnETbdqCrCZbUrIYwdc0jgAoRvWbX3uqO5T+Ptbjb9DfaP6gPFbqeMr15hMWumsD8fM4vk+gnuHgNBT9BExqvOyq9FCyAcpO+4e8xkckP7A7/0i5WUbGxsaxgDWNGgANAL7RF06Jp4EREaEREBERAREQCvGvKPRj4fuTW5+KPKJNJZbayBp4q3X5K9eIB0rh2jWhrGc7GgcxceYAAr2VcL5RqN2zZx82N4UZxC8Q2q03NlPMhHFK1jXxuGiJGvA3o9xYD36Qa/JVKRFmac1jiiW1UttjmZxDYryyxkxNeOQwkjkLXA7+U79x13hHVeZ+ROF1ODiCldx9ull6t1kVvz7KNv2JB2LDGS9rR6gYWtb8vQ767XpqVI8i4ZyWMocd8aeZ4rJMx01Cu2CGDCTsZK6EWHTtYDGGuduQED+uXdNr44QzPoXJcT5zIz5jLY2cY+BmTuYuSralmdI6IV2Q8jA9jTI1wLWA7lcCXa6ev8vif1rVYp17JiNmGKYxSCWMyMDuR43pw33EbPXxSK82uZypmfKRj6Fqtk6dLDXnPgHomzq7cdG+Pn7QR8jYWiV/rF3rO69GtBfwvCFLMHhuDhHJS8QeinYm9Bn60mH7JtBwb0fXlYzc8j3lxADpe0DnOIB6H9Ecnif1pyeJUMvF+EYszkLvGObyduxdo+hI8dFamxL8aLL2ds93LA9xcQ0SAc5ABLnBvRpXrPD7R6Bx35tF+4F8cTjXDWX/NJv3CtvD/3ix35tF+4FT2T9BERAREQEREBEWOboT06IMrBOiql2chlc6PGxyZCQdD5vrs2nxkJDfoBJ8FjzTI3STftitGfxFIkEj3OlI5j+iGlXHlnql4Sr+UqUXtjnmHbOG2wsaXyO+DGgk/qUXtcrd2IYWY+H/bn1JKfgxp5W/EuPwU2ljqtFjm1IWRcx28tHrPPvc7vcfEqUBpM44MW81W18NVZOyxY7S3aadiay7nLT72j2WfogKy0FlFMrJIIiIoiIgIiFARY2o12/XpNabUrIw46aCfWefc0d5PgES2SZqUvhzw1jnOIDW9SSegCrjbv29eZVW14/wC2tg717xGDv9otWW4eGRwffkkuyDqO30WNPgweqPjrfijPVb2x8jLCwdYyGS4f7RvqxD9M9D+jzJ5lbt9chaLWfLBVJY36X+0fo5R4K05eu010Q6be6ue4VhihyPE0ELGshZkmhrGjoP8ARK5P/wCST8SrPMZOviazZ7LbTmOdyAVqsth+9E+xG1ztaB66/wD4q/hn78cV/wCJt/8AaVl98Y0bOSw7qdanBcbK7llhmvy0wWaP4yJrnd+umta37tE3JjhJfmqLcPXykcslmlOxkkL6kL7Bka8AtLWsBcQQd7A7uqqhx3w66KhLHk2vhuxwzRSshkcxrJX8kZkcG6i5ngtHOW9QR3gqGzH8V0OD6+Jxk+MfkIKdasMhJI6MlwBbNIIxE5oIABYDsEn1hpunUmU8nr72LxmNr0a+OiFavStzRZadzuwim7QM5AxrZnEc+nv1oyvOj3OD09FgDW/FZQEREBERAREQEREBcB5TZ5JL2HxuPxOVyuWsMsTRQ083Li42xRmMSPkfG9vMdyRho072j3DZXfrzjyqRRXMrw/Ur4G9ms4PObVNtfMSYxsDGBjJZHSMeDzfdWNA0Tpzu4bQWXkyx1rH0MgL/AA2cFPNa7V3aZZ2SksnkaO0fK71tjQbok9Au1C4/ycVsnWoXBl8NbxMrphyR2c9LlS9vL7QfISWddjlHxXYICIiAiIgq+KiBwzlye4U5j/0FbcACMHjwe8V4x/0BaOLfwVzP5lN/DcpWF+9FH+4j/dCCYiITpARY5hsD3qvu5epXmNdr3T2x183rt55PpA9keLtBJMpbJysN+Cj3b1ajCZbk0cMe9Bz3a2fcPefAKABlrvUmPGwn5BqWc/T7DT+2pFLE1as3btjMtrWvOJnGSTxHMe4eA0PBXEnKZt4R3ZC5c6Y6m6NnyWLgMbfiI/bP08vxWRhGWCHZWxJfd/Zv9WEfCMdD+lzHxVtrwWUz4Ony+GRtYwMYA1jRprQNAD4L7A0iKNCIiAiIgIixzBBlNrVPYhgidLPIyKNvtPe4NA+JKrzkpbRHoyq+Zp/HTbii+gkczvoGvFGbqkWm/BV8+WrtmdBAJLVhp0Yq45i38o+y36SFrOLlsj/xO0+cH8TH9yi+kA7d+kSPBWEEEcETY4Y2RxtGgxjQAPgAifVfZSZGnncnG3zfIxYcb2exhbYkI8XO9UfQD8VEg4czFeV0sOdgbM4adL6OYXu+Li7ZXVhEWaZnNc36J4g+ckf/AC5n+ZY9GcQAfhGz/lzP8y6VcT5Za8NrybZ2CZtp8klaQV46xmD3zcp7NuovWI5tdD0Py9EaWYxXEJH4Rs/5ez/MnoniH5yR/wDL2f5lfVLEVurFYgcXRStD2EtLdg93Q9QtqCp4exMuLbefauOuWbljziWQxNjG+zZGAGj5OWNv07VsiICIiAiIgIiICIiAiIgIiIC8t8tVilXdi55MFfzGQoQXMnF5tl5McK0ETGCaXnjcCXfdGNa0An13dQNr1JcP5SsxwxgY6t/iTHyX54orBhjhqOsSNgLQ2w4tHQRBpbzl3q+z8ulKNHkpuSzNzVS5i7mLu07LI5YLWclyhcHRNe17XyE6aQ7po94O+oXfrkeBaHDuGnzWI4crywS0rEUdsTyyTPcTBGYyHyOc4tEfI0DehykADS64q1EaPIU5bNqtFbrvsVQ02ImyAvhDhtvON7bsdRvvC0YXN4rOVHWsJk6ORrNeY3TU52TMDgAS0lpI3og68QvH+FM/wRS4+8oNSCxjBjH4+B9iCOAubL2Qsm1zNDT2hHN63tE7117lI8nPGPCcsvEvFTLuOpR220onUacXO+tAHGOAzCNvWZ75iCBsMHI3Z5STJu1dnr/n9P0gKHnUHnxi7cVu0Hadnvl5+Xv5d9N921EqcRYS4/IMqZjHTux2/PRFaY41db32mj6nsu9rXsn3LzQ5nhTH/wDxA14KtrHwZOxjbNa2GN1LJafNWdGx7tesSxh5RvoGnWlz+LzfA/FmXz761rHYzEw4K7i4a1CDluSVnEGed0bWba1vIOzj0ToucR62glzCvVcjxFhOIOE8+cDmMbkxDTlEppWmTdnuN2ublJ1vR1v3FXuGIGHo7/sI/wB0LyfgrIxWMPxlTw2V9N8N1sWzzfJmnHBqXs5Q+APjjYyUNa2N2wNt5+Uk/J6Hi5snZxdSOtVjqRiCMdtb9Z3sjujaf3nD4LWGLqwv5ZWRROkke1jGjZc46A+JVV6YNp2sRWkuju7XfZwjr39ofaH5IcvqHC13vbLffLfmB2HWdFrT72xjTW/EDfirUDSbG99lR6Ot2+uTuvLD/q9TcLPpcPXd+sA+5WFSnXqRCGpBHBCOvJG0NG/gFIRLbVmmRgDSyiKKIiICIiAiLDjobQZ2hI96qzmIpXOZQjfdkHf2OuQfF5036ASfBY81vWju7aEEf9jUJB+mQ9T+iGox1543SLuRrVHtjllHbEbETAXyOHg0bKj9pk7g1FEyjEf682pJD8GA8o+JJ+Cl1KVemxza0LYuY7cR7Tj7ye8nxKlDuCGLearoMVXZM2ecPtWR1Etg85afe0ey39EBTwPftfSI1NMnAiIiiIiAhG/f+tEQEREBERAREQEREBERAREQEREBERAXkvl2jgsx0qEZzseUv0rtVs2Kx4vBtR/Yiw2WLYJadxkObohzR168rvWl5n5Yp8VX8wmuM4jOQr17VpsmBsivPHUjEZsF73Pa3s/5rY3zF3Ly9RtSjRwBm8dRy00Uty9mLebtxdrnTXigqzTuptmigjYHc7WiuGuG2kbJBeXHS9SZrXReSeTjhyhPlpnCTiWs7C3o3uxuUfTLO280bFFIOwBJDYHNaPW0S0E7cHFeuDoFakFFv4+rkBALsEc4gmbYiDxsNkadtcB7weo8eqlIigGh1REQU/GX4IZz8xn/AIblPxn3uq/3TP3QoHGf4IZz8xn/AIblPxn3uq/3TP3QgkoiICIiAiIgIsb10+VQLeUrQSmFrnTWf7CBvO/6QPZHi7QRLqk5WCj3bdenH2lqaOFh6AvdrZ9w95+ChaydrvczHxe5upZj9Pst/wCpb6WMrVZO2awyWdaM8rjJIfDmPUDwGgjPVbxPnz7NBvWrXSjULIz+OtgsH0M9o/Ty/FBiWTkOyUz7p/2H+rED4Rjof0tnxVroe5EOjPdu+WNDGta0BrQNAAaAC+kRGxERAREQEREBERAREQEREBERAREQEREBERAREQEREBERAXnHlQl81zuBsT8N5TPY99a9VtMx0DpJGMlbE3TtOALHAEFh7yA4dWL0deSeX/F28riY4IKFrKwuo3WR0Kk/LKLbhGK9ns+ZvaMjdzAjrymRruU62AvPJHVx9bGZA0cZxNTlfYHbS8QtPnE+mAM04kksa0Bo92j3nZPfrivJ9FfsZDiTNXKVzG1ctcinrUrnKJWNZXjjL3Na4hhcWezvemgnRK7VEgixtZ2iiLGysbO+5BU8ZfghnPzGf+G5T8Z97qv90z90Kt43/AzP/wCH2P4blbU/6JD+Q3/sg2oiwTpBlYcdKLeyFely+cStY53ss73OP/C0dT9AUR1nIXPVq1m1Yz1Etkbd9EYP7xHwRm65NllJI2NjnyODWNGy5x0Aq70sbB1i677f/wBXfJD+2e8fkhy+48RA9wkuukuyjqDY0WtPgweqPjrfirEN0ifVfZV+YWbf3xtvLD+Ir7iZ9Lt8zv1gH3KfWqwVYRFWhjhjHXkjaGjfwC3aRFmmTcAAGkREaEREBERAREQEREBERAREQEREBERAREQEREBERAREQEREBERAREQFwHlUwU/EMFSnX4Vw2adyzHz7KWuwZjyOQgtcxpl27X9Tl9jqR0XfrybjrgLNZTiG5k5/NOKcTJymLBZG5NUjrlrdAs5C6KQk9fuke9604a6yi38kEYgx2SrHjKPiiSK4eZ0TnSR0yWg9g17nve4D/ie4+/rtegfKuN8kj7FfgvHYe/hb2Ju4mtBSnZYjYGSyNibzSROY5zXtJ31B797AK7RW8o8r4NrVa3lF4/o18lO4zU6Mjp33TLKHuFjncC4kNLfV0AA1oDei+vJPbxmJxvF7H5GGOlW4gssEtm72hAd2YaXSSOJJc495OyT4rs63BnDFW5NbrcN4WG3MHtknjoxNe8PBDwXBuyHAne+/fVRH+T/hZsAhp4HG0YjPDPKylWjgE5ieHsbJyNHM0PAdynpsKFec+iKGA8rNfPQuwObsZjMy12GFrjkKTzCWP04SFrmR9m7maWgtBcd76LlcRirVHO+hpbGKxM13A5BmbzEOadcN1vI1rb07XBvZ6le4tJdv1nNGmgr9DVMBiKmXny1bE4+HKzgtmuR1mNmkB1sOeBzEdB3n5AvnH8N4PG1rdbHYbG1K9zfnMUFWONk+wQecAad0JHX3qxfXLyPg2hT4cxHlA4bqVcAZauIjsSXMMHtY8Pima2OZj3vLZByOdvm9ZrwdD5fa6h1Uh6E+o3/suczuGxmD4Cz9XC42lj6hpWZDBUgbCwuMRBPK0AbOh18FY1cY6zWiORsPstMbfuLfucXcP6oO3fpEozbZtI3y5eDtHRVWyXLDehjrjmDT7nO9lv0lfAgyFzfnE7Kcfyx1vWf9L3Dp9A+lWMMTIYmxxMYyNo01rBoD4AL7A0idNvdUWnj61NznV4w17/akJLnu/Kcdk/SVKA6d6yiNSScCIiKIiICIiAiIgIiICIiAiIgIiICIiAiIgIiICIiAiIgIiICIiAiIgIiICIiAhG+hCIgxyje9dVlEQEREBERBRcefgPxF/h1n+E5XcX80z4BUnHv4DcRf4dZ/hOV3F/Ns+AQfSIiAiIgIiICIiAiIgIiICIiAiIgIiICIiAiIgIiICIiAiIgIiICIiAiIgIiICIiAiIgIiICIiAiIgIiIKLj38BuIv8Os/wAJyu4v5tnwCovKCSOA+JCD1GMs/wAJyvwAAAO4ICIiAiIgIiICIiAiIgIiICIiAiIgIiICIiAiIgIiICIiAiIgIiICIiAiIgIiICIiAiIgIiICIiAiIgIiIKDyhfgDxL/hln+E5X6oPKF+APEv+GWf4TlfoCIiAiIgIiICIiAiIgIiICIiAiIgIiICIiAiIgIiICIiAiIgIiICIiAiIgIiICIiAiIgIiICIiAiIgIiIIeax8WWxF7HWHPZDbgkryOZoODXtLSRvfXRVR6By/zsyn1ap9kujRBznoHL/OzKfVqn2Segcv8AOzKfVqn2S6NEHOegcv8AOzKfVqn2Segcv87Mp9WqfZLoydLAKDnfQOX+dmU+rVPsk9A5f52ZT6tU+yXR7RBznoHL/OzKfVqn2Segcv8AOzKfVqn2S6NEHOegcv8AOzKfVqn2Segcv87Mp9WqfZLo0Qc56By/zsyn1ap9knoHL/OzKfVqn2S6NEHOegcv87Mp9WqfZJ6By/zsyn1ap9kuj2iDnPQOX+dmU+rVPsk9A5f52ZT6tU+yXRog5z0Dl/nZlPq1T7JPQOX+dmU+rVPsl0aIOc9A5f52ZT6tU+yT0Dl/nZlPq1T7JdGiDnPQOX+dmU+rVPsk9A5f52ZT6tU+yXRptBznoHL/ADsyn1ap9knoHL/OzKfVqn2S6NEHOegcv87Mp9WqfZJ6By/zsyn1ap9kuj2m0HOegcv87Mp9WqfZJ6By/wA7Mp9WqfZLo02g5z0Dl/nZlPq1T7JPQOX+dmU+rVPsl0YO0Qc56By/zsyn1ap9knoHL/OzKfVqn2S6NEHOegcv87Mp9WqfZJ6By/zsyn1ap9kujRBznoHL/OzKfVqn2Segcv8AOzKfVqn2S6PaIOc9A5f52ZT6tU+yT0Dl/nZlPq1T7JdGiDVTifBViilmfPIxoDpXta1zz8riGgAE+AAW1EQEREBERAREQEREBERAREQcV5TOJsjw3FiX0/NKlGzYMVzK3a8k9ei3kPIZGMc0gOfyt5y4NbvZPUKBjOPbr+M6/D1rET2mHEwX5cpjY+1qlzmvLnM9YuMR5NM0C4u6a+U9Fxjic3k4qv8AJ7iSbBSxud2pbSissmaR3FrxsEEbBBHedg9Nc1U8mFTHPx8OHyt+nj4sQ/C24eVrpLMBEhY4S9DE9r5Hv20aPQaAAUEbM+VeOvwjxDk6OCy/pLEQxTPx9uFsbyyQkMkPK92mbY8Eb5m8p20KwyvlQxeK7AZChl67/N227sbq7C7HQucWtfOA/wCXledM53aaSQBrdNgfI9TxuC4hxtrJCVuZosoyuq46Cm2MMMha8MiADnfdNku2Trv1oDOf8kz85kqOUv5qCfKebxVr89jCVLAsCNziHxtla4Qv09wPLtp9XbTpDZ1HGPH2L4Wsx17MVy3P5u67NHTja8wVmnRmfzOb6u96DduOjpp0ViHyhYafNx4mA2pb08kArRsh35zDLH2jbMZ3p0IAeHP+QsI1stDqzyjeTOrxdlquUis1at+OEVXvtYuvfY6EOc4BrJmkMcC53rD36IOhqWeBtcS1c7Hl7kd+rJFFByRtbG2m1nK+qY26aWvJc8u0CHBhAAYAqNWC8qWBy3ZvdHksfTnpPv1rmQqmCKxExodKWEnZLAdnYGx1bzDqtMHla4fdj79u2zIUm1IYrfZTwDtJq8sgjZMxjXOJaXHRB08fK0EjdJwJ5MLh4ZxFfjbJ27bK2Hdj4sYWxMbTM0XZzfdI/wCcPL6rSfZBPeTtbcd5IIauEy+OkykAZeMDWSU8NUqPjZHM2Qc5jaDI48oBJIHyhoKu2cJK6BvlLxAxORtz1cpXuUrLKbsZNW1bkmkAMTGRh2iXggjqOm98ujqu4d48s5C1P532tNkvEnoqvXtUC2VrPMmzmNw5xyu5uf7p6wI1oEEOE7PeT+PKX8zkIcpZqZG3aq3qk7I2u8znrx8jXBp6PBBdzNd3hxHToV843yfmvLXnu5q3etx5wZySeWGNpkk8183LNNAAbrqOmx0HXvUnO63hq4L8pLc9RpS5HCZTFS3MpLjIBPE0Ne9nbnftkjTYCHe5/QbHVSsj5ScXTiiMVPLXrE161joatSqJJZpq5IkDRzAa9VxBJA0DvShO8ndyLHzVqHElms6vlX5bEvFOJ/mL5DKZGEH+da7t5fa0Rsdeil4byfR43IYW27K27U2Nv3r7nyxsDp32mvD+blAA0XkjlA92knB6pOP8oWIvcUehYW3Bzzy1ILr4gK888QJkiY7m5uYcj+paGnkdonpv4zvlFxWGzU1GzWyklarIyK9koqpNSk94Ba2WQkaOnsJ5Q4ND2l2tqs4d8l1XBcbyZypbrOqmaeyyu7FVjO2SUuLh51y9qWAvcQNg60OYgaO/PeTx+WyuR5c7crYDLysnymKjgjIsvDGMIbLrnY1zY4w4DewDojagmP8AKPiY+JfQ762VHLfGMlumofNo7LmtLI3Sb738zdaB6kb1sbncXcY1+HLVaqcdl8ndtQS2Ia2Nq9u97Y3MDz3gN12jT6xAPcDsgGBJwJC8Xh59N/pXEEOfP3Meq6PsfuXf3Hse/v6lauNeHs/l+LsRcwGVkwza2NuQvvMgin0+SWsWxmOTvBEb3AjWiwbOjot1uEyPyhYOeCxYqyz2K0OFbnjLHF0dWdz61sg8/wBzd6pA0udt+U5uL4lyhv1MnYwUeOoXmy1KJl8zjl7YySzlp2GgNYdDbtBxDSA4jbf8lcDalOpg85kMZXbifQlvUUcz7Vb1iNlzdNfzPeS4DrzEaHQj6y/k0luy2W1OI7tGnfoV8XkK8VWJ/nFaJj26DnAljiJHjmHcD3E6Itx6M+zZPxlbq8SZirNahZViz9DGV/8ARDMSyetE8t217eUlzzp55g3/AGSrzh7jWpn85ZoY6jlX1YjK1mUNQinO+N3JI1km+pDtjZAB5XcpOlAyHAFe3k7Ntt6aITZmllxGyNummtFHGI9n5HCMHfeNrdwlwhb4ayFmOpn7T+HiZXVcU6tEPNnSPL3fddc7mtc5/KD3A6JdoJfb5wTjf5vf9IlPyoYu1g3ZSLHZswSzMhx7fMvWyReHFhr+tpwIY4kOLS0Dbg1U93ypOx3Ekj7+MzUeIbhYchJXOOPnFQ9vMyaSYb9VjWxt7idjZbzBbcf5LbFWK7a/lJMM5LcjvV71fHwV2RSsbK3ndCwBsj3tnkD3HRcOXu5QrSTgOa3Xy3pbO2b1zJ4I4WxYdXjj3t0zu1DW6aNdsQG+5o2SdlBu4h8o+IwmQlrvr5O7BVYyW/co1e2goMeA5rpnA7ALTzaaHEN6kAEbzlfKLicdxDJjJoMm6vBPHUt5SOrulUnkALI5JN9CeeMEgFre0bzEddV+X8m8t2e4ylxFepYrKwRwZem2Fj/OwyJsW2vd1iLo2hriN7AGtEbX1mPJwchmrzm523Bw7krUd7IYdleItnmYGbAl1zsY/so+Zo3vTtEcxT1PRCpeUl9AZSPLV7uSunPXcdQqYyoHzPihaHnpzAHlbsnrs/ICV0/F2XtQ5DhTH4yx5tLlcm2OR7o/W7COGSeRunDoXCIMPTYDz3FczxF5LTl8PksZHnJIauRyljI2I5cfBYBEwA5W842x7NbbICCCTsHprouJcFc5+EbOLa65NhchG55sy7kfA+F9eVxee9wbL2h31dyEDqQlx6Kj4nyiYzJ56vjY6mXhbYmnqw3Z6ZZVlsQl4fC2TZ9YCN7gdcpDSA7mBao1Dyq4G3Dfscl+GrXozZOCaWABt2tF1kkh04noC06eGuIcCARvVfwXwJlYLdO3n8pY8ypZO/fq4hsMPZxySzWAyQytHM5pjmLgwnYc/qegaImC8jlXEY/OUIcjAad/FzYuAsw9WKeKORvLzSTsaHyuA13lu+pds9RIXa7O2g4sru4RyHEVulk6NGnFNYcy3X7KZ8UbS7nawneiBsB2j7wCqY+VDDxVMrPdqZek/HiCQwWqZilnhmkEcc0bCdlhdsHenDR2B03ccd4y1kvJ5xFisewz3bWKsVYGEhnaSOhc1o2SANkjqTpc4/yauyVTM/ymz+Qyl6/Wjpw2jDFC6pDG/tWBrWDlc/tNOc4+1ytGgArKm69y/HeKxVnLwWWXnyYyapBOIaxlLnWSBEGNbsv6kAgDe+4FV9fygVshHizDHcxtqbMNxVmjkKJ7eN5idKGENkAZzMDXCQF7dHuJPSlzHk/zAxd2SPNWslnMjkcVPYuGGCEwCvOwukjZrk9VgLg1wdsj+tvStaPk9c19O5lc1ZyGXZmI8xZtmvHEJnMgdAyMMb0YwMI952Cd9UmM7l42V3DXFuZtQ8G371qJ9bKZPJYmzGIg0FzHzmB411BArFhG9HtCT1AXqIK87p8G2sbc4Pxtd3nGJxd69lp7MvK1xmk7URxhoO++1I7fdqIb6uC9ECk4W46rjhlERUEREBERAREQEREBERAREQEREBERAREQEREBERAREQEREBERAREQEREBERAREQEREBERAREQEREBERAREQEREBERB//Z)"
      ]
    },
    {
      "cell_type": "code",
      "metadata": {
        "id": "DFGVmMQFhQyw"
      },
      "source": [
        "#Color the points differently depending on if the body was buried with Quicklime or not.\n",
        "sns.lmplot(x=\"Nitro\", y=\"Time\", hue=\"Lime\", data=longbones, ci=None)"
      ],
      "execution_count": null,
      "outputs": []
    },
    {
      "cell_type": "markdown",
      "metadata": {
        "id": "3gr8OoX8qpqY"
      },
      "source": [
        "When we have a model with more than one feature, we talk about each one being significantly associated with the target *after taking into account the effects of the other variables*.\n",
        "\n",
        "After taking into account long bone nitrogen composition, burial with Quicklime is statistically significnatly associated with interment time.\n",
        "\n",
        "And vice versa.\n",
        "\n",
        "After taking into account burial with Quicklime, long bone nitrogen composition is statistically associated with interment time."
      ]
    },
    {
      "cell_type": "markdown",
      "metadata": {
        "id": "eucccNn4rDMD"
      },
      "source": [
        "Because we now have two significant predictors in our model instead of just one, we'd expect the percent of variability in y to be higher for the model with both nitrogen composition and Quicklime compared to the model with just nitrogen composition."
      ]
    },
    {
      "cell_type": "markdown",
      "metadata": {
        "id": "V_ALbOFsISIp"
      },
      "source": [
        "# Objective - Compare model fit using R-squared"
      ]
    },
    {
      "cell_type": "markdown",
      "metadata": {
        "id": "hYfLzVVwrzH2"
      },
      "source": [
        "The output above gives us multiple measures comparing model predictive ability and fit, but we are going to continue to focus on $R^2$ (AIC, BIC and log likelihood are all less easily interpretable measures of model fit).\n",
        "\n",
        "\n",
        "\n"
      ]
    },
    {
      "cell_type": "markdown",
      "metadata": {
        "id": "_iHNtE1-LM7r"
      },
      "source": [
        "However, $R^2$ on its own has a limitation. It will *usually* go up when you enter more factors in the model, even if they aren't statistically significant.\n",
        "\n",
        "Adjusted $R^2$ penalizes you just a little bit for adding in new model terms, so it will only increase if the new term really adds to the predictive ability of the model."
      ]
    },
    {
      "cell_type": "markdown",
      "metadata": {
        "id": "DBF7_XX0NqGA"
      },
      "source": [
        "In the model with just nitrogen composition, adjusted $R^2$ = \n",
        "\n",
        "In the model with both nitrogen composition and burial with Quicklime, adjusted $R^2$ = "
      ]
    },
    {
      "cell_type": "markdown",
      "metadata": {
        "id": "_YFlFydYsHuk"
      },
      "source": [
        "That's a huge _____________________ in predictive ability!\n"
      ]
    },
    {
      "cell_type": "markdown",
      "metadata": {
        "id": "xc1PYc1ysan9"
      },
      "source": [
        "Now we can say that about 76% of the variability in interment time can be explained by differences in long bone nitrogen composition and use of Quicklime at burial."
      ]
    },
    {
      "cell_type": "markdown",
      "metadata": {
        "id": "82l60bgp0vR5"
      },
      "source": [
        "Can we do even better?????"
      ]
    },
    {
      "cell_type": "markdown",
      "metadata": {
        "id": "2nEnFXNDtg5D"
      },
      "source": [
        "Let's add burial depth to the model."
      ]
    },
    {
      "cell_type": "markdown",
      "metadata": {
        "id": "II_IqVUIuO5E"
      },
      "source": [
        "Our multiple regresssion model is: $\\hat{y} = \\beta_0 + \\beta_1x$Nitro + $\\beta_2x$Lime + $\\beta_3x$Depth"
      ]
    },
    {
      "cell_type": "markdown",
      "metadata": {
        "id": "ZTnN18NN1H-c"
      },
      "source": [
        "This time we want to test the null hypothesis that - after accounting for differences in nitrogen composition and burial with Quicklime - burial depth is not associated with interment time against the alternative hypothesis is that burial depth is associated with interment time.  In symbolic notation:\n",
        "\n",
        "Ho: $\\beta_3$ = 0\n",
        "\n",
        "Ha: $\\beta_3 \\neq$ 0"
      ]
    },
    {
      "cell_type": "code",
      "metadata": {
        "id": "yPsXBJsAv-Rq",
        "outputId": "842d9603-322e-49ac-9d31-bf86e451c7a6",
        "colab": {
          "base_uri": "https://localhost:8080/"
        }
      },
      "source": [
        "from statsmodels.formula.api import ols\n",
        "\n",
        "#Enter the model in the format Y ~ X\n",
        "\n",
        "model = ols('Time ~ Nitro + C(Lime) + Depth', data=longbones).fit()\n",
        "\n",
        "#Print the model summary\n",
        "print(model.summary())"
      ],
      "execution_count": 21,
      "outputs": [
        {
          "output_type": "stream",
          "name": "stdout",
          "text": [
            "                            OLS Regression Results                            \n",
            "==============================================================================\n",
            "Dep. Variable:                   Time   R-squared:                       0.776\n",
            "Model:                            OLS   Adj. R-squared:                  0.755\n",
            "Method:                 Least Squares   F-statistic:                     35.88\n",
            "Date:                Wed, 10 Nov 2021   Prob (F-statistic):           3.34e-10\n",
            "Time:                        18:07:46   Log-Likelihood:                -125.31\n",
            "No. Observations:                  35   AIC:                             258.6\n",
            "Df Residuals:                      31   BIC:                             264.8\n",
            "Df Model:                           3                                         \n",
            "Covariance Type:            nonrobust                                         \n",
            "================================================================================\n",
            "                   coef    std err          t      P>|t|      [0.025      0.975]\n",
            "--------------------------------------------------------------------------------\n",
            "Intercept      180.4700     39.003      4.627      0.000     100.924     260.016\n",
            "C(Lime)[T.1]    25.4483      4.289      5.933      0.000      16.700      34.196\n",
            "Nitro          -35.6230     10.407     -3.423      0.002     -56.848     -14.398\n",
            "Depth           -0.0014      1.340     -0.001      0.999      -2.735       2.732\n",
            "==============================================================================\n",
            "Omnibus:                        4.224   Durbin-Watson:                   1.601\n",
            "Prob(Omnibus):                  0.121   Jarque-Bera (JB):                2.325\n",
            "Skew:                           0.385   Prob(JB):                        0.313\n",
            "Kurtosis:                       2.000   Cond. No.                         211.\n",
            "==============================================================================\n",
            "\n",
            "Warnings:\n",
            "[1] Standard Errors assume that the covariance matrix of the errors is correctly specified.\n"
          ]
        }
      ]
    },
    {
      "cell_type": "markdown",
      "metadata": {
        "id": "G4oNjo6t2BAs"
      },
      "source": [
        "In this case we see that we **fail to reject our null hypothesis** and we conclude that - after accounting for nitrogen composition and burial with Quicklime - burial depth is not associated with interment time."
      ]
    },
    {
      "cell_type": "markdown",
      "metadata": {
        "id": "vSMTSIetP38W"
      },
      "source": [
        "Looking at the adjusted $R^2$, we see the predictive ability of this model falls a tiny bit to _______________."
      ]
    },
    {
      "cell_type": "markdown",
      "metadata": {
        "id": "LJ-vZoArQFex"
      },
      "source": [
        "We will choose _____________ include burial depth in our model of interment time.  Our current best model remains:\n",
        "\n",
        "$\\hat{y}$ = \n",
        "\n"
      ]
    },
    {
      "cell_type": "markdown",
      "metadata": {
        "id": "ALHIkP4PwVWt"
      },
      "source": [
        "We have one more variable to consider.  Let's add age at the time of death to the previous model and see if that adds to the predictive ability."
      ]
    },
    {
      "cell_type": "markdown",
      "metadata": {
        "id": "m331yLSp4cgn"
      },
      "source": [
        "Our multiple regresssion model is: $\\hat{y} = \\beta_0 + \\beta_1x$Nitro + $\\beta_2x$Lime + $\\beta_3x$Age"
      ]
    },
    {
      "cell_type": "markdown",
      "metadata": {
        "id": "SSHWw7Rw35Lr"
      },
      "source": [
        "This time we want to test the null hypothesis that - after accounting for differences in nitrogen composition and burial with Quicklime - age at the time of death is not associated with interment time against the alternative hypothesis is that age at the time of death is associated with interment time.  In symbolic notation:\n",
        "\n",
        "Ho: $\\beta_3$ = 0\n",
        "\n",
        "Ha: $\\beta_3 \\neq$ 0"
      ]
    },
    {
      "cell_type": "code",
      "metadata": {
        "id": "2-9cswPmRV2D",
        "outputId": "cd4d0e71-8632-4828-f1af-bbb7c1ad2af8",
        "colab": {
          "base_uri": "https://localhost:8080/"
        }
      },
      "source": [
        "from statsmodels.formula.api import ols\n",
        "\n",
        "#Enter the model in the format Y ~ X\n",
        "\n",
        "model = ols('Time ~ Nitro + C(Lime) + Age', data=longbones).fit()\n",
        "\n",
        "#Print the model summary\n",
        "print(model.summary())"
      ],
      "execution_count": 22,
      "outputs": [
        {
          "output_type": "stream",
          "name": "stdout",
          "text": [
            "                            OLS Regression Results                            \n",
            "==============================================================================\n",
            "Dep. Variable:                   Time   R-squared:                       0.777\n",
            "Model:                            OLS   Adj. R-squared:                  0.755\n",
            "Method:                 Least Squares   F-statistic:                     35.91\n",
            "Date:                Wed, 10 Nov 2021   Prob (F-statistic):           3.30e-10\n",
            "Time:                        18:09:37   Log-Likelihood:                -125.30\n",
            "No. Observations:                  35   AIC:                             258.6\n",
            "Df Residuals:                      31   BIC:                             264.8\n",
            "Df Model:                           3                                         \n",
            "Covariance Type:            nonrobust                                         \n",
            "================================================================================\n",
            "                   coef    std err          t      P>|t|      [0.025      0.975]\n",
            "--------------------------------------------------------------------------------\n",
            "Intercept      178.8066     40.704      4.393      0.000      95.790     261.823\n",
            "C(Lime)[T.1]    25.3125      3.902      6.486      0.000      17.353      33.272\n",
            "Nitro          -35.3974     10.216     -3.465      0.002     -56.234     -14.561\n",
            "Age              0.0246      0.173      0.142      0.888      -0.328       0.377\n",
            "==============================================================================\n",
            "Omnibus:                        4.028   Durbin-Watson:                   1.600\n",
            "Prob(Omnibus):                  0.133   Jarque-Bera (JB):                2.333\n",
            "Skew:                           0.401   Prob(JB):                        0.312\n",
            "Kurtosis:                       2.023   Cond. No.                         967.\n",
            "==============================================================================\n",
            "\n",
            "Warnings:\n",
            "[1] Standard Errors assume that the covariance matrix of the errors is correctly specified.\n"
          ]
        }
      ]
    },
    {
      "cell_type": "markdown",
      "metadata": {
        "id": "wYBevsdf4R2H"
      },
      "source": [
        "Again we **fail to reject the null hypothesis** and we conclude that - after accounting for nitrogen composition and burial with Quicklime - age at the time of death is not associated with interment time.  The adjusted $R^2$ also **dropped** as when we added burial depth."
      ]
    },
    {
      "cell_type": "markdown",
      "metadata": {
        "id": "mAFnVF9UkoJj"
      },
      "source": [
        "In addition to what we call main or additive effects (things like Lime and depth added to the model with plus signs), we can also test for interaction effects.  i.e. Should the lines describing the relationship of nitro to interment time be parallel or have their own slopes?"
      ]
    },
    {
      "cell_type": "markdown",
      "metadata": {
        "id": "WTvtes8YmQ-t"
      },
      "source": [
        "![interactions.png](data:image/png;base64,iVBORw0KGgoAAAANSUhEUgAAAvUAAAHyCAYAAAEcqAE+AAAAAXNSR0IArs4c6QAAAARnQU1BAACxjwv8YQUAAAAJcEhZcwAAFxEAABcRAcom8z8AAJtiSURBVHhe7Z0HuO1E1YaxURREQIooVcUGFhAVEUEsWLGBBaxgQUFFwV5REHvvYhdFLD8WFBuiiFhQFBAVERERpAiKVMvl/95kcs3dZ5dk70n/3uf57kxyzs3JTmavrMysWbOSaZbHhtKk/DuUteCLvyK1XvzdQwkrh3LIXBHKWtgvlCal0xf/2lCOctdQtp1aL/5BoVyEjUNZBRz7d9Lbkq3quTSUeSY1qHl4WigT5r34TwhlE1xXOjitRmfcxR/Hz0I5i3E37i6hLHXxPxnKNvLOUC5K0Ys/i/VCOZX3h3ISfOW7xvWlN6TV0lwQykX5UShHuXkoE8Zd/Jg2DpZ/zRrgiaHM85NQjmORi39VKKextrSHtAEbH+KfiIy7cWeHsgl2CWWeL4RyHH8OZdV8i3+mnUgZbhbKNnF0KMtQ9uLfIpRzscjFf0Ao+0TRi//VUC7E90PZZd4TyqKsHspx/CGUtVDk4v8+lG3iiFDGZtrFPySU0Rh38R8l/TattoJXhLIOxl38yno6Tw+lSflNKGvBF39Far34TfrgbeRXoayFi0NpUnzxR7hHKOdh/VAWpdaL3wUODOU89PFFsFYeHsp52CaUpijLli2j929u9P+vDFVTliFf/EX681eRFrHRCbmLf9tQliJ38RfqdRRci9ek1bn4dCjfGMpC/DSUjTCm5d8+lIUYafnEI9EoFuERoZyXU0M5Hp3wYaMKPyqEfv+qUYUfGWOMMcb0l8+H0tTEl0IJn5WuSatmFozfLsKqoRyl1EtSC6A39AZpNSrXC+USPiI9LK0uRL574oahnIdF/m9bebk0V5fJJKa9ya4hTbzbAyB23OtczBs1bEx7OCWUGdcJpVlppZuE0oxQtf3Nu9hRuVso64YLRt98JuJGz8yJcMcf5EQMZ175C079j2k1OleHcpSFb/gzQtkXYo8z7BnKMjwzlCYCrw1lUZ4byrF8KpRmMpuFMhobSm16YmMzD0irCTx7HiPtJj2aHYGNJH6G8tMwR23u1BZn2gXTSmHRAXizIM7K0hAfDqWpmYV99bLEykHQdWq/8MYs55GhnIdDQ7kIh4dyHqrqzqiNRV5mdg5lUZhZPqpfSm+S3jJBT5+ge0v/F8pRdQaSG81L2WlB47hdKOdh0QDb+lm2bBlvsI2hv09Lnxv9/23HKfy4GNeKUJ0L/cFvhmop9P+avvjvDtXl6FJMisyohhZc/O1DOS9zvZXmLv7yeQJzXvz9Q1mKk/lnzotP/3aSwyDCxY9Bua+7yF38f4Zy3ou//P+X4Sv8M+fFhyTH2AIX/2rp0lGFH89Ev/u0cQo/nol+t3mzY4wxw4E3y0GxVyhjMm/fChf/yWm1EXoRX0rO4zPSqqmSv0gEMo1jkbQtZgJV56fhPaPJ9JP8fWJR35psLcZCvQUZS15AaiZ5++4I+QtOHf042SrBotOFqqQNiVlHF1e4cyjnJkZfeBOcGMpRFkojU5CFEoPztYgZn/IfqS3x+6tJZUe2quC0UEZn9KGyeSgXzXsTk1iZ0zPKxrV2flx3FncIZZ7YkxeiziosA5Ob28bjQjkJLv7e0guSrY5RuD+8RubpBkiWzJiTy0NZG22b8EYYey+5cSjbRpPTaPo4E94YY0wLWGSNkLoW+aoTuiXmpfSL2FmhnAcGVMz/KH3jFumivSiUpigLRKYlLFu2bJ9QrQz9jYWWTNL/p4e1ELoc0xYyi4sv/orkLn42D7c6chd/rqQQuYv/7VDGYmspyegxx8Vn7Vn+71/ZmPPiwyLPQJg+rSh38ecid/FhnVDGIhl8mOPiZyQ9sAtc/EVnlzCtaDI6sRdKc6dw1+/+W3IKd2OMMcaYaTSd7n0hd3seGgt/GIMv/gLkc5vNw+jFryKF+jTyF3+hroyiZBFli/K+UMK8LegboWyK/Bvwz0NZKZuGMgaLxni26eLHYFwjXCF6eZGLn0+5GIMfhrIp/hvKGPw9lFO5WSjLko+FjBXrc3wom6LQBSvArLDF5cx78TMWCb0bpS8XvzBlLv45oayKX4SyKc4NZW2sFco2MO7i89DKp3DPp29H+fTtoyncy3pdsS/+6N9fEtQ7z8WvKlq5FvduCrEu/qR117OLv/zn04JAxz39SehWFVVPlp4VTv67UBaFlZAyyrjZLwplqyJwq774rMb8hLQ6ljIX/+PSLdPq/Ixe/PNCOcryu1Uh4wKusJu8T2TKf2BcOlK2313KzzTEA2Mm5SSbf+tQjlLk4l8mlX2WTKRI2sSzQ1k1TUe7TXrm3D+UEDVEZtbFr3O2eVsvfmUskjA0Nv8IZVO0YSZ7wrJQ1okvvoj2QClJGy9+U9eidmL2Ks7D0aEcJL74A4a+o3zq9rxG07ZnoqtlXPp2NC51OzKmpyxbNH17Ga51nuHmqPDifyuU87LI9J6jpJek1bn4TSgLkw8BKUzu4t8zlDFpKvEG/TjMKpk3yIBoCCaKlM4bUWqFnDEtf5F1RrCZc6dvB/3+3OnbzUC4VyiNGUctYZNN8NhQGjOOwTV8llNfZEXAPvNlidHjIXQ2T2r4rFa5cMLiJtkvlKMw5XpajEWboAEyw+O+yVb1kI6WBvHGZKvfXBHKUd4gTWo7naDtJ0/Siuem1Yk8RhrMUF/NTGr4nadtDZ/YrFXSamdYaOXWllNkWcfPSF9Lq61i6pf2oFDWzdel7dJqLyEWmjk2r0+2ukupfuQRyM+1i5QPtKyTzAsY6w1U3fBfLL0irZoRfiYR+tBmFmn4RSBOZx7j8OtQEmdUtH39NJQJ7w/lotxFanoWYZ9gyPRYaXTpp7q5IJRNwZy6bO5I1LlyZRs+j6/z02prWDeUQwMLxmOcmUnj+GAoNwrlPDTd8GfNQeHzT+vYYJIR0+RulGzlKNLw95XaNHVilJuEkoUDiZC5abJlYLdQzkvdDX+PUMYkn5h0efRW7CXSYnGhlE1uLZM5ibwEDDANAXxbrF2VCz3WsQhCI+nmm274PwmlmU3Zlfi+KLH24jRXYBZVNfzKFuQsSp0Nf/9QmsncSoq1ZiaZ0i6Rsp6ZfHqIosSa80747kPSajuIPdt0B+kjadVMIWrigAr5Qyjnga7s1jJvw18zlGY6vEy9Jq12krIN/5pQtp4i84RmdRkNHW421+ftyVa/KDqPjM+/a1rtBqeH0phxlJ5A2RXc8M00etvwLw6lMeP4VSh7R5mGHzuRf1EWXQSyDqocRJpG1WkQyjT8pnJwk0e1NEXirTMYTW2C2rOo5/hKQTEQl6+X0YkSA01l9CeJJFis85lPqD5N75LKQjKCOxXQHSVWyqXOxKBHlxSJXOj+LCNCEdCnc/VZmoumHntNB0oV4c2hrBsnC4jFtWLZsmVvK6LwX6Ki414jXVlE4b/Uhv5mYZdGvxs9J6WOmaw9XgT9biWuqY67JNKxF9DwQ7URdGFbO6qpcyvT8KOn5tAxC3/Z9buVNHw1j0Xy07WXkYbPoASjd89ItmpgpOG/Q2rN4NmEhr9XKFeghoafvdiOvT41N/wXhrK7jDT8z0nEubOPeaSVLxc20vD5uySFzC5sky+64xp+PgXLIaFMqKHhwwnSk9Pqiosh1tzwm5qvQa7K/N+ev3dtpOHXzkjDbxVjGv5E9LtV+PhtcHU21bHXLaLwX4wxxhhjjDHGGGPqZf6uMdMJFlq3p2FIQUe3XRWJZj8fyqHSaLd2HZBbvs1wAybdhDMkBrc2lhhgu4cUCzf88bB/kexsrWFcw2cy+eZSU996Qm/zHCcR9lonpOcYx1AW2Jw0ANelHKk3D+VYJq2pSH7xOiPxSE1SlixXzLzrQk5jUsMfCpWM/NbMzUJJuvIVsiVDFY2mDHuGch6yhk+25gwWOI2BG357uVwigLKMYX6VdGBaTWmi4U9arWK1UM4LM4Bi9cYMPe3530PZJlh2OxrZ46Bq2pqgdhJu+O2hkgRmVTZ8UniTn3wSK4TStowfh3KoNN3wHxrKyqhidvynQjmJmN2OVVH53IMFYSLK9ml1CfTGkcN0kc6JpuY+lEmAsBCxGn6Rrk8mlXSFIg2fxtW2FWIguxeUTBzhZbAsdTf8b4dyFueF8lkS4zeTYFxn6sDmIg2/K1l/54HBsSFzZiirZlIvHKvHb5BWF+IGoVxCtrhWGbYJ5SzeG8ou0vWGT76aRWD9qKp4cCgzZrnGlVC04ZdJGd2HPvC2N3zcmGluVpa9mAn7LC3K3OkyxG74dJvXnhJmGtMa/qFSEd89o0+pJ/4Syj5AD01Z1+XnoZwH2gE+dkbsBUiiEGOGfJ8afEafGv48FGn4GMVphrGuMaK5WKThd2YFjDlo48hlncxr8XcMZS9ZFso+849QDpWy7klvr9esx1rfcMOfzSOkoYd29I7oCaE6BrPbzAAp0/CvH8q6qXLtWDf8gVKm4bOAQhO8IJRVUKbhvzaUdfO1UM7F66Q3FNDBUva7R5bUEdJJJcWMGVbmLqOmIio3DGXdTApSq5uHh7Juqvzim4xly5btJz2/iMJ/icqYv7P/mH2Jwn+pi/VCWTfNZAipIrOyDll4Mrdu8NdDtRb093YL1UGiz//uUJ1KmXvYSVrQ8L8ZqrUw0vCZJnlsWm0EJvHk8/NXjht+oMaGP3a9rYYbfvbZj5FogPnYlDrIXj6zcJH3h7IyRho+I7vMkuIdDpa7OzU1/Euld0qENR8uTZvpNxe3DOUSamr47wklrBBe0XDDbxMEGlaeCmak4efZQ6LTI6Gmhp/nb9L+abUGamr4E9GNGHoKkEGhtrFTUYX/YozJiJV4qY98KJSmZ9wilGYpHwyl6Rlu9JNxo+8pbvSTmdTo9wul6SiTGj0xMVUsrNAlJjV6eq3Ixzktf0ufuSqUnTWYk058Oyl6l2QFvD6UVcDq7eMgYREUTXTUN7rQLqYyLoAom0jdlUaPu1HFuRI1Oo4HSZ2/8Qvy61B2kqai5mKRWfr7hHKF/OYLMqnRm47T5kZP2udZFvXV0oXSh5OtuLH2bvQ9pa2NnskspBUs60b8XoqR/wfc6HtKmxr9UyVS2LWFIotTEO24aN7JrnN1KDsDCzE0CcFBX0mrraPIpBWeRIiGTwfAutKQoOuWz39viTBrUqXfVGoLO4dyBZpo9CwJenJabTWLzNQidwzzeZuaV9sGHh/K9UPZGupq9MR8n5NWO0PM6Ymk8yBD8WbJ1jB5mPRViRVZYvAZado7H1Y+WxRwBRe06kafrUDRRaqck/tIiYWom14utWnoeJiHF0lMoCnb0ZFQRaMnL3zT7woxqHMiOq7A2VKrswNXDG7vXtK0cPd5liRawjwrmYzjRGncsv5d5oehbAIexxdL834J+vBCvXsoCZVh9ZNYXdELNXpiU0aXYukTTTb6UbjOfAmKukNzPfZbSta7d3+pTMr1iaumlG30b5GygKs2UOXNbVOjH4UXYz77pM//71B2ufHj7k1jB4nPxwvyOBiphyXXYFajJ7U1/+lWyVb74NxwAaq4uW1u9BnbhnKU7HrwokhvSRXXpyo2kbZIqwuRhUD/RHqgRPqQhCKW/lWhbCPZzWQhsjtLuACx6EKjnwSpOZ6RVhO6MmpaZjHAWXxAIgFs1m15SiiX72gjD5Bo1NPWjOKDsGJ19hJdJHSgKKeFsq0UTZdCqvFPpNXW8tlQVgXhLcsbfVO516dBl9UhaXWlrUNZhJdJ30urUTg1lG0Fg9Alt2Uc9Mg8Nq3WR1saPatDvzittoa2NnrWhy2S1ewpoWwrja1J22Sj3yqUbaVtjX6jUBaFdaPIudm2p/k+oWyMJi4Iw+9doOlG/4NQzktm6ZlYk60+3jTMkWicuhr9S0LZJeaNC1mEi6RYC1h/XMqvMP6lUDYBnQ2DgPhqcqp3lT+Fsg7Kui5loc+6ibGWbaTezzFoe49HGaps9Mu7z3oMg0K9hUwEWTaCPhG70TOpJJbr0maOC2XvYCR3UsxDX4jV6NcKZd/Bld0xrXafj4XyeaEcCrMCnjLeHMqMrvROxYIY+K4Pkq0AI2Z8oJcmW8NieYDSDLKR0T5MnJmHZVKvGv2QKdrojekNbvRmcLjRm8HhRm8Gx39DacxgcKM3g8ON3gyOMo3+OaGsmyND2TTPDmXd9DH8pVHKNHoStjbB60LZNG8NZd3sGUoTCfL7kGioiH4USiZsEF1YRsT4ELpQRky1Q//K1WdpHkjFXUTfCOWWEtnZymg3iamiZcQc6sMkonopi6itaWw6S1MXlHwubYAvbxN8MpSmAaYlHa2SMtkiquSsUNbNUJc1HTRFsiKYWSxbtuxtRXStCP8lGjruatKVBZXla6wN/U0yhw0Wff7nh+pM9LsfCtVolGlzVbTPSg6qQxaecKGLWrsfqb/59FAdJG70FRxUh3SjbzFu9BUcVId0o28xQ2n0/Mex/3mRg05Chxxt9PyNn6fVFWlBo795KL8Tyrq5YyhrS7MyodFn00lXoIZGv0ooo7dPEgYxHWwJixx0EjrkaKN/mzR2gnYLGn32+X8rMUm+7gzQ/H1uPF8+VoWpfHRypNFnad4/HMoV0qTX0OjfHkr2sWrjCmuELdI+T5IuS6srsshBJ6FD5hs983NvLY39Oy1o9PBwafu0Wnujf4L0TGnNZCvNxV4pI40e8mtirWCcamj0gLHJ0rR/N5QJVbTPOhr9KCy8sJyWNPqMY6Vfp9VG4F400ejzsJ7A8jVia2r0GXeXfpVWU6pon000+hVoqNFnq2APEn3+A6R1Cypze6JRps2Vap862cMK6uDwX6KhY64hXVVQY981jDHGGGOMMcYYY4wxxhhjjDHGGGOMMTMhGZMxpWlLsqB5IJacSLr4IaSm1xAD3XY+Ko1LpkSjh9uE0phCtL3RMwVukjUnUy45JLOfbRfKqlkjlENkY2mTtNpdZjX6X4ayCcq6LXcJZZVk51T23PrCFdLf02rr2TaUS5jU6LmpuA1jMxHUwA6hhBtIZKdtA0Nt7BldyvA2MVPzpA+RzTSv29K/J5R5aGiTGtsJoayTVUM5RJ4cyi5wSSiXtJ0nhnKU/aU/SF9MturholCWgQ+0c1o1ZgVwxeBsibnXpyRbYlKjr5PrS+um1RUoMgc2+xZPehKYfoLbzT3fPNkaD2nM75FWE04PZeON/uRQjvLVUM4ia+x8qx8lsUqH6T/0oBVOMSg2lA5Iq802+knp8LLMWfNA8iXTX24SyoUgS1bd3DKU41gk5/wWEusemX7C2lRRWG7ya2JaHy8DH8aMg0XsolFnoz8olOOo+8tnusPYXKqLUEdjm7XG6p9Dacwo8y4FOpWqGz3rnBozD0V78EpTZaOfFbb8/VCa+NSdNjw2lYY7vDGUMXlzKKdxXCjN/Ex7R4L3h7Jr3DSUi7J3KJcQu9FfEMohQFAcg2OTlqpnwOzMKWLB4R9M0Q+lIybosxJ/+03SOFjQAnYMZRco0wfP6i98/tslW+PJBi6XEKvRE0qwUVqdChNC+gQXto2uxLckRi25L/uxo+U8OJSz2EXKltmZ1ZayRr+k8cdo9EV98+eG0pg8nw7lNHgyliXf6JmM9IZkSyza6L02v1mELBJylBh+PQvQ5ScWLf9brB44D0wZW76+0AyctaB+uhDzPxpywjlfnVajcz/pVWl1vka/wtKJM+h611lXwadvM3mXmNCUWucdl230h4SyCPnlFk29ZC9754SyTWSBY41lsSja6HcNZVHqykwwVOiVWdIrkSOz9B+QcEUvTLaa5RhpXCqX2pnV6JmQvcL6rWY550k0vPtK2cg2JeHaPK6zfbtLbO8kZUtyZtaOmT2EQ19Puhs7QnkjiYWjM+Oxfig3kJhlRkOe1ujvIzGpJuuv/2Ao6+ad0r5StqR9K5jV6LmwzDEsyu1DORS68MJIxovfpdXaeG8oAaPQKo4OZQxYn98MC55e8NBQjvLJULaKmI3eDIuPSHgCr062lvLPULaOGI1+yHlgzHimvW80zqKN/sahNCaDQLlWY/fGxGSfULaak0JpzKJ0ZmK/G71ZFAbKOkXRRk8u+Fa/nJhGYICucxRt9HeW3OhNHkaRaRP3T7Y6hN0bMzicc8YMjjaGnnaNopNpTEtwo1+cLUNZN0Rimjko0+gXySi8CMuT6beUe4WybtoS4DduQY06yMKmS1Om0Wdr+NTNPDPh6+QZoawbVtqoEjIFk1pvlpj6R8lsrbeUFHl7nl5Sj5buLZE2hLKIVpi2ygQRUiMU0eWh/IR0ZEmxXAo9RWXElwyxDE9Wn6UmODiUdcPNbwNMum6CaUvvROOMUNZN27OmfSGUdfPCUDbNxPR5FXPXUFZKU2u5/i2UjXLttdded9myZc8fo33H7Ltn+G/R0DG3H/kbzxnZzqvO9V5fFsq6qWXVmeg3siCkcmscNaQiaQsT9AWJvqq2jll4RLzM71aBrtVLQzUaOuZvpW0LCle8OC24YGVWjasNnZcbfUF0rV4cqtHQMQt7GvrdS0O1GH28YDFwoy+OG31JOtToySnznLS6IrqEdTT6Z4ZyCX28h270DTCm0ZNP/eVpdUV0Ceuy9GPvVU33kKVRxzbEGho9o9H004/9nIs2+myCQB0XMWHkgm0bysbz2o9p9HBUKBloWY4uYdWN/gWhZB8js1slW4GR360KMpa9I62u9JpQJtTQ6GmXP5H4nCSSOl5azqKNnjQPkB288tHRkQuWncuxEhf5/5KtBpjQ6DPeE8oEXcK6ffovhzJhxu/Ggr+R5bsh//tyamj0ZOCgKzu7zivE9C/a6OFB0m3TavUDVCMXbGXpFVKWDq+wXxebGY1+BXQJ62z0WL3V02rKlN+tis9Lm6bVWhp9HgapmNm3nBiNPoNhX0IKKmXKBeO8fpVW60fntSEXs6DKpEIsBPdFx31aEU25h7Wgc6iz0S9Bv9u5F9ks8akxy1G72ERNc6ci0u9OW4DNGGNMUR4WSjNcyqxKZBrmsdIt0qoxpWhqrQfTHpqaUGnmwMbezIuNvbGx7xA29mZeyhh7hm6fllZNj7Cx7xA29mZeyhh70oXsJRHTdaiULRdquk1ZY/85iXXJDpfmzmFk5qOMsWe+dpZ6hKVCGw3Z6RGHSBjArsFEsqJg7PMTvw6UvpFWTYcpauwx7LYXDfNcab20OhPSDf1RuqN0U8k3Lw6vl1iddUfprVJX1mE/IpRFYNrLX9JqAlNCmABous0VoSzCvyQe8kCmployGZn/sZ9U1Ngzbeen0p+k7SUmLprFwdjnk2TuKp2WVltNGWNv+kkZY28apoyxN9WAsb8srSYwXS7zgH4hkQm6jdjYGxv7DmFjPz8snkJXVqaq+HEo24aNvbGx7xA29sV4kfQPiXVa8lEE1FdY+CUya0o3lG4stW2NQxt7Y2PfIRh0ZbDVpJDHjoFEklj6ITgdVl5blLWk/NsRY0LLU6mZ1lMu69Z4WOom3wYYyCXtYZZo1yyF61SagyTSUg8NIoroG6dPvKkFkrtODGMP95FYCfNTydZSGLBmRUrSKbJMpx8G7SGGsQfeXlmzeZotyqK3eJOmHWycbA0TjP1V0nYScxbyY34T6buxZ9Frwv7OlTAaJh6xjP2i7C6dIP1BepfkCVv1EcvYx+Ax0slpNaFwMvIGwSbNs4jnqGfPNg9MWEd6ZVpdkT4Z+zdLZJDPIllMtbTF2M8CI8DyH3+V3i7hAJg4tMnYz+JW0rclumlvzo6GYB7N1dIpEkY6Uxn4/XeHEo3m86Y7dAldNPZPlZiUc5jE6lymGbpi7KdxPQnv6kcSr8Kvk7rgEbaFLhn7aeSDLkjnQDuImUaGQJjKl3wSePW7SRdID2RHHlaRa6uxpw/vHOk4aRN2mFbxg1D2Hb40jO3gETIngqVHTQpGZSg8UsI5ALpJZo0ZfE16Z1ptB++Xsr6epmDpVJYO/Y10b3aYTvDDUA4d3gyYTX6WxFK8Vb8Z8NqOB9cGhmTsp8GbAYumcm+exQ5B2HSV8LdKvX3UaexZJvdjEg2ErhiTwk3rYj+yjX0xSDb4PenPEg+DbACZSApSj5D+uQy0F1YJo0SEKTbF0I393aVrpKIPX8aO6K14XrKVOgjcw4uSrXJcKW0h/V6iO21naSqxjD3hP0REZGGMTEJisJRJSI6XnQ43Gy+ALJKkDWYCVRewsV+MzFijzBssAr+f73o9USKxWBMM0djThUO3Xgz+I2VtIOsiKgqhl3knkW7VfdLqeGIYe54s2Qmjts30bDtcs/xAMwM5hBO2HRv7ZvivRJshS+pLQx2y7x2RHnUxFGPPuCHjm23iQom2sLa0tZS1gwzeIN+XVlPa0GffZXh94iKjeVMT83+z/DerSGxTZqwutTE1AW9ypn3g8dVFX40937lLJIJEughjSEvCS78ouZulHDeQaAzM5MsMPdpbig2zSts6aM0MZDMfN5PybaerMA7RF+jzJuyS73Yv+YJkYz8Z1k3ldcksxcZ+MTJDf16yVQ4CHLZJq43SdWNP2gUiAQeBjX0K14C+cvqhm5xd1yVs7KfDzN1vptXofEl6clptNAyzi8aewdUD0uqwGJqxz2bK8US/X1o1c2Jjn8JYDeF0rKm7BjtqgO5XJnhlEA23wmBcTXTB2JPVl+6ZwS+D2FdjT/jip9OqqYihGnvCYzdMq42BsSe4IoMF3Vm0nsgMQvhWlojhrpq2GvtHSBdLXAcTIDFQ10MlXyxdLu2bbJm6YEJQH6F7hJTKXYaFduqATKNtgXkqR6dVM47vh7IrEPHCDfWCK83TdWPPVHO8v89JzO7uA3iyvHWQS6qOfFJNG3tSrDw9rZpZtNHY30PKlvq7SyhN++iKsc/mLNDHvUFaNZGo29jzgOYtnjQBpiRNGntijelr7Por81Bpm7F/poSnZ+qjDmP/BInFhzwzf0HqMvZktiRxDzlz8rmjTXdpytizNjDdLx+WupJHqK9UZeyPlLygfWTI+bAoPHHzswHpQ3u15DQM/YZEd7Fg4ZCs/fyaHSJL9vVyqbezGjtOzDepvA1hHoGJzOmhXJTNJeKMiYwxwyDmKkW87R0lfSLZMl0hdrfZbaW10qqJTSxjb4ZHX5akM/PjMZIOYWNv5sXG3tjYdwgbezMvNvbGxr5D2NibeWFQ1Qwb248OQQibMfPAKjlm2PwqlKYD2NibebGxNzb2HcLG3sxLFcaeuRkszDEk8tkru0YVxv6xUn5B9b5DSpid0mq1VGXsh+b19Wl5tqJUcY83lfZKq4OA9OIfSqudpApjz1ydIc2MfpDEguGVU5Wxjzm7sguQu2NoMNMxNttJO6TVQUCGygPTaichZQaeaUz9n3S33DbLL3KdWEGuavHwrVqjPEuq5eF2G4nUBjHF9HYiNV6W20ceExbPrlLMvvyxdGLFOkG6aER4uaP7FtW3pKFBLvk7ptVBwGfdLa2awNdCORTeKK2bVrvJaaEcCueH0izGK6Q68rC3hYdKO6dVExhaOOdXJFYX6yw/DeVQ+GsozWJ8UhpSVtRnS+RoN/9jWSiHwm9D2VlYhHlIDKmfuTDXXnvtysuWLTtbOr+gzhuzb5w+Fv5Eq9F5vmvkvEdV9POO6hfhT7QetYFn6HxPVnlSTOmYbw9/otXoXGHsZ1hE+vz/Cn8iLjp49MG4Ko5ZBTrNtXRho0eI6Jj0//cafca1pejLxumY/w7VVqPzZA2H6Oi4/wnV1qNzfb6+Q9FTVOu4nYhiqsrOVXVcG/tly/YJm9HQMX8Sqr1Fn9HGvgJ0XBt7G3sb+9joNG3s50Sf0ca+AnRcG3sbexv72Og0beznRJ9xmrE/QKINELbKItKFDYKO2Qdjf7BEiPIl0pPYURQdty/Gnvt4isSKebSFlaVC6LhdN/aEW/L5r5D4nUOkwkw57mKUOHDhE6jsZCOj05xm7PORFN+RCk/11zHt2a+00uslQu2YgVw45E7H7IOxJ9wOI3+oxAOPST2F0HH7Yux3l/4hMSmRB99rpAwmU01Ex+2DZ89Y4O+kC6VS9nDGcednyoE50V3TakL2e+Q4+aU0MWqgspONjE5zkrHP1t7NllF7q/TCtJoY/jOkLyZbY9Axh27suXaPke4gXSNlIWirSQeFciw6ZteN/QMlJs7BlhLXYtTYT/yMOm4fjH32/Xm3xJKm50lMMMqYuqC9jtt1Y4+tOFtiXkn2ZjPKWaFcwpTjLsaMA99MykItRyfE9NnYAw+110kPltaQWEMzA2N1fFpdio5pz34yrwrlWHTMPnj2k7iphKM0ER237332PAjOkSbOudBx+9xn/z1pajK4OY87mzkOTBqGz0ukMRh7Uyo72cjoNOfps+ez/Uz6tbQZO0bRMW3s50TH7LOxn4mO6wFaD9C2xtjPpLKTjYxOE2O/d9iMho45hDj71XT9mAByWmSRB6n16DwvlP4YW1357oDOdw3pHhVovfAnWo3O8zvSuDa8qI4If8IYY4wxxhhjjDHGGGOMMcYYY4wxxhhjjDHGGGOMMcYYY4wxxhhjjDHGmNhsKHV1YfajQmmM6RBkpFslrZoaeabU1WRGZDQ1w6UzidjMijxAyudhN/WAsf9LWk1gwY5j02rrsbEfNjb2HcXGfnFo/HkVAWP/9bSasJvEepxwP4ml+rZLttqHjf2wKWvst5JYyY2FjkyDLGLsHymdnFYHCQuUPDatrvQm6T0Sq+wUgcWVWYd0VelO7Bjh3tI90mrrKGPsWb0M4/BeiaXm/KDoPmWMPTbi+2nVNE1ZY8+q6B+TXiHtIk1dQq2HvEyqeoCStThZx/a70iPY0TKODmURMAx/kFhvE/1c8hhRtylj7HGGfpBWTUT+Jd0irRanjLF/vXRYWk1g7dUhGHuWWWRR7GnwBcirz7BAdFG2kbgePCCODHXTbcosi7iHNHEtZjM3V0gvlTJ7UyjY44nSpml1JttKV6XVhH9IJ6XVXsLnK/IgZE3U60s07DJrrrJIeReNXxljb/pHZ9bA7TGsb0z4dgbfyQPTasJaoVyBMsZ+CHxNoqumCBeHcl4w9sukiyQWNedpfajUdmzsh42N/WKwhvLp0iJdtP+UcLyfJ9GtTrdOHo6/BBv7lVZ6vDT24lTMOM8+2+ZNYS+pjffGxn7Y2NjPz+VS1vWC1pGq4LRQrsBQjT2vOfTDEw1TBH7vv2k1Ghj7C6W/Szypufmjq+Zz04jcaRM29sPGxr48mRPXKEMz9udKO6XVwuBh182HJQbPefKvxo4W4QG3YXNpKM10SIfSRI/BROjU7/tkh7dLGM+y3CGUZkVs7IcNb6JmMgdLh6TVdnGA1Edjf3fp/LRaCnIF0aViJmNjP2xs7MfzG2ncBMnW0CdjfwOJfvgNkq1yMFms6OzXoWNjP2xs7P8HNqMzYxh9MPakLXhaWp2LL4TSFMPGftjY2Kf98b9Lq92hq8b+udK30+pc3ErKEo+ZcvwilGaYXBLKIUKaGDIJdBJOfjTcr61sLjHxyDSLjX0zEL53w7TaKES0DQ3640n90WlIujV2am2LwMDfOa3ODSGM30qrZkFiGvu7SjdOq4Mhm1CD9mZHQfj9q6X1JbKisn1dqW6GZOy5xjFhvg4z5jnuJ9kxB2TLneu82mrsPyO9Nq0uxIOkw9OqiUQMY0+eJRpspvOkobC1RBciaZ/LwHXKT7CjzxijDxiRb6bVyum7sac/nvUkquDTUr7dzzODNjP2tKE/hvqTpJm0ydg/TBo7zde0CnfjNAO5mLaUyIPyV+mWUp58ksIq6auxf6H0lrS6EDgypGABIgRjM86zZzt7y7uJxOz8JTRt7PnbnGisV/l9pVenVVMRZ4TStAPyKO0v8T0iMVbV9M3Y42DytlUW8smztsWZUp1h25mxR6+SCP18s5QHp+BFafV/vEFqwthjMPDkY/E66S5p1VSMjf2w6VzI4QQwlmXgzWo/qc3zcdaUTk2rS/m4VNcIPw+WeQclpoFnY+rDxr45jpMek1Ybo8vGnoWI8gv9j5ItBbqRVDRJYmeo2tgTbVFF4iRyOD86rZqasbFvDiLKniFlqXIZ8KubLhp7coCxRjTgmZNkkMHNeWbbd5aqjD2DRRun1ai8L5SmOWzsF2fergCMfX7RixdIdUXhZHTJ2DO7/hyJtY+3Z8eQiWnsWSQbr6MqnIWyHTAgtSi0ucw7/TE7FuBGErmNmBzI4BUQkZDty2B7dN/dJCbLMKAF/H+iKdiXLei8tsQbKuJvATOw+R3+fwZjUI+U8t0su0vsY71mYCAtG1xDZRdfP0ZidTOiPR4icYzsnDKqNsZtNPZZSCrZAB4uMR/BjLCIsc83WlQFJ0tbpFXTEqb1eRblflK+7bRtgZYqIRxv0UmC4yCNdx3ea5PrTvNGRLTdzsnWirAuxzyZbgfD16UmZuHNYrtQmvYRw9ib7kKXSB2wgP+fpI8kW5OhK+v9adVM42ipTcaeJ/agBk06iI39sIlh7O8p5d/siJKhG/i2UlF+Kd0rrZoitMXY/0Pq4yIqfcTGftjE8ux/JGHoy+as4v+YOWibZ2/aj439sKmrGycPce9DTq0chaaM/R+kNs9EM5PhLcwMl0Wjp8qwj+Rw60j8QKrT6PIK5hmv3cbGfth8P5RVQsTPjmnVxKLJMCrTTWzsh02Vxh5ncEhhuLVShbEnR/MOaXWl/4bS9Acb+2ET29iTqpkkY6ZiYhv7CyWezpmymYmmP9jYD5sYxp5Zv3k78WLJVIy7cUxZmK5vhgvjfLEg7YNnyNfET0NpTFHcNTdsiOAzHYSMcMaUwcZ+2NjYdxQbe1OWKow9mSj3TquD4aOh7BpVGfssy+hQqL37qipjf0Uoh8KQxj6qMPasEETK3qFwc+mlabVzVGHsybw7uo5q36ljvsIKVGXsrwzlUPhtKIcAD7azJTISxhKhd+eN7CO9NVPzqxR/gxzxLABSpb4hsapUpq9JJ47si6HHSVVThbHn4TekiBzSXB+ZVuujKmNPCOaQOCuUZj5YCX/ztDoIeIu5f1o1gkVgdk2rtcMCMlVrdYkFdTLdXnr9yL4YaiTP2dDGAs4NpZmPw6QqlsdsK0+XHHL4P1hq8d5pdRCQyvlZabX7dHkF+nnwDMDF6Opg5bw8W1orrRrxHImVpoYCeX96k4uf/tAhwXqqJnDttdduvGzZMtYCjYqO2YnrrM/PrNDoVHXcKtC9Olz6ckF9XjpqZN+o+DndH61Ht+l6Otf1p2i9oHE/mya6hKpFf+RH0pWR1Yn1InXjrq9zvWrk3GPoqvAneoc+20bSbmEzGroXfw/VVlOVUa7quFWg+//uUI2CPvqqOmYnBnF1nqeGalR03EtDtTqqaGRdabhVNTIdkyiNXqLPZmNfAVUdtwp0/23sI6Pj2thXSVWNTMe0sS+J7oWNfUfQ/bexj4yOa2NfJVU1Mh1zqMb+I9JN0+pKJ0ivS6uz0b3ourGnz5X7vrVEqCG/V3jxoCnHbR26/5OMPTHmfJ8+JT2MHUXQR++LsWfxpp2k7ZKtEui4jRr7jSV+xvqQlIdIhehKw53RyB4r0ffOZyk1i1bHHKqxZ0nKz0r3lIjCyK4DMcKE7E40froXXTf2LMzBz74kvSHUicHmM79KeqU0kSnHbR26/9M8e+4168q+TPoCO2ahj95Hz54MspnjMxMdt3HP/gCJUMt/SoUbY1caboFG9lzp49Ivpe+yowg65lCNPTHVtJUzpbtLH5Qy3itdL60uRfeiD904f5NIJ8IsYR58GPsMrtmj0upSZhy3Vej+TzL2+c/AQ/9zaXWlD0tPlsaGYOqj98HYP0/iQZ+BsWexp9WSrRRmdY9Fx23U2L9cotHypf2JlP1ets7sGaFcQlca7oxGxmcgHIzp3oQFfkfKg0Ebi445VGM/Cabh8xAg7TZvjEvQvehrnz0Tin4obRM0ljmO2xi6//P02e8p9dnYT4NZxFPfcnTcVvfZ/yaUS+hKw52zkfGk/n1aHY+O2Xdj/8iwGQ3dCw/QdgTdfw/QRkbH9QBtlVTVyHTM3hp7Y9S+z5U+HVFHSJ3IFKrzPF12Y83Y0nGrXxJUf+RF0rgbsIjeHg7fanSRV9a5/lu6IqZ03M54acYYY4wxxpge8vxQmmFCdtL90qppO1UtK2b6z59DaYbJjSRCrU0HcD+xmZehrVFgVsSGvkPY0Jt5saEfNjb0HcKG3syLDf2wsaHvEDb0Zl5s6IeNDX2HsKE381LU0JPUyu2sf9jQdwh/Ac282NAPGxv6DuEvoJmXsoaektnQj5ZM9ylr6HeQyN5JQsTt2WHqo4yhJ9MaaXnJWEnGOTNsyhp6snqSl/wz0kWS6TZlDD2Lb1yTVhNeEUpTE2UMfX6FIHJs3yutmgXp6lvVuaGcxbium65+ZvM/yKtf1NAfI+2VVk0TlP3C3U5iIYmfSb5xceiq0ePNrgg29P1kM6moDaAnYO+0aprgslDOguXP+HI+SWI5rK9JT5XM4mRG71DpGWm1E/CwL0Jm6B+UbK200p0kG/ruw2IhRY03XTfcc/Lj0OXzbcnUCKv7FGFNKf/lpOvGhj4OXNeLpVtLB0n/lbpAUUOPk3Ch9B6Jz0pe7TUk023KGHpgRbrjpK9L67PD1EdRQw+sf3iBxKIZj5MeLJnFGfVu2ebB2naKGnrTT8oaetMgZQy9qYZxhv5maXWltSTGRNqIDf2wsaHvEDb0zYNhz74wG0iZ4X+oxJjIx5Ot9mFDP2xs6DuEDf38fETCKP812ZofBsSfI3Es+rIx9nk+Gcq2YUM/bGzoO4QN/fxgmDO9kx0VYUNv2ogNfYewoS/HttLvpe9LzPTLDP0WUmzWkfh7xCBXcfxFsaEfNjb0HcKGfja3kbLUD9uwIwdxwVWxskT0DXHHzEJsGzb0w8aGvkPY0I9nQ4lJHWdL92eHWcKJoVyUx0qvl1ZLtkxXuKO0R1pdCOaPkE6DsS4nO5vNK6VXpdXiMFHHpOA9HyZh3Hdnh5kIk6CYHb0oP5DyYx2PlEw3oFsxRibS/P1H35N2kcx43iWRBbYUZ4VyqNxAep/ETN9nscMUIpahJwNm/kt+e+lt0iUSX3hCTPlbpn3EMvRMwszu/1XsEDcJJRlzj5UeLvFdNamhf6NE19lzpRtLMxmqoX+1dL70omTLlCWWoYfPS/T33yPZWhFe6zH8f5b4nQdKph3EMvTAvZ/WbcM4WZY248PSA9LqICHC71/SGyQyCPOAJNnkVIZk6PeV8BTfLa3CDjM3MQ19GZhj8F6JPl08/kdJphliGvqy3EL6YFpN2C2UQwCP/h1pNeEJ0mlpdTJ9N/QMFvEZPyARvWLi0JShH2VzCc/mUumH0kMksmWa6mnS0I9CymTaQdZ33ZWkefQskOytDBh63nIzyAzKuGLGIaFcgT4aeqJkeNVnsQOe/CY+bTH0o9BvyastDf8E6WGSqYY2GfpRePMjWyrLFq7NjpbBOWXjEogxiKLQvvlcGbTzbFGob0ljJ1j2xdDzVDxJIrPmLdlhKqWthn4UwmTxfoguI1y2rYapi7TZ0I8Db5+BX9IkN8nR0sekvKEnIKQodD3vJ2X/F5uXh2MvocuG/rYSxv0UiUZn6qMrhn6UW0lELPCFZx6AB3fnp2uGfpR1JXJL0Q7qmHnOwjvMW8rGBz8qYahjz2XqhaG/ufQlicGH+7DDNEJXDf0opIOmz5NX4eMlx/EXp+uGPk82rvMJiUH+mO3g+hIPlDoCB3aVmMHPeiErzNrvgqFnItMREuGQzKI0zYOh5xW0b2wsvVliXgWrIfHF8eDueEgH0tdoFwb5M5jUxyJLGOyy0J/edFdRwh9D2TZ4veEi/UXq0jqqQ4EIprbmyY8J0RyEsjG4+3MpW/fWpJPZdk6rvQfDnzmZTOqb1Q7uLF0usb52K/hpKNsC4UZ/l0rncjC1QpI18vEPDaI56OrBAeEV/zFS3WSzRpuGUNahGPpRaAcMoGZRffcOJTBm2LpZ9m0w9KxFywQY4j/9mtwNhmroR8Hjf5NEV8+PJTy960lVsaPE32oDQzb0oxDdRe/IlclWSpUpG4gyLLXgUVOGnsECIh+I+WxjnKuZjg39ePDwCONj7ItojtiDu0x5xylqAzb0KQSIXC1tmWylMIZFlx/G/8XsiMxdpT+k1WLUaehpGL+VPie1pu+qYXaQ8rPauoINfTGI6skGd78jMXiJEYCjJKJ9ysyMxNDTXpgFTGge3ZzzDBLGwIY+jdR6a1qdyZOliyTi3rlnXLssFp61ocuAoceWHijxFsHk0KlUbejJPneGxGstiYnMitC397u02ils6OeDOH5y72df8ExFwdAvk7Lc/ftLTQVUDNnQMzaD0V6kq3neNgAYev4PjiKQ4uWXaXU8MQw9N/xkKUu0cweJgSqM+53YYSaCof+1ROY+PL6nSF3Ahn4x8jMby3zJMfSk98hT1kjEYoiGnth08irdL9lajHwbyOeuKQKGHgc6g/Oa2g4WNfR3kbKTRbyWDDmFaFkw9Fy3l0h4B6Tibeti4Hls6BeH1LxPTKuFwdAT8ZOxlpR9wRkP4MvP79TB0Aw94cRHptXGwdCzdnVG3tCz7OmZ0uHJVmBRQ08SqczII3/5y4Gh/01aTSA+PbthbcaGvhl4VadP9osSWQvJS/4cKWNWXveYDMXQ31NiLIQ23xayrhsiFunv/5E0mi+HrqXlxOi6YcCJuHdPHy8Phv70tJqwqpQZ+s9KRFiQha9t2NA3A6sJ8SVnBi+L5uRncAJG3oY+HkS2lH3rqoONJB7wjBVgw/eR8pCmmSR+y4lh6IcKERTZm8zMxP8TyLpustAscm2MZqNjub22YUPfTrYKqgPSQ+yUVnsHjisRNV1kfemEtPo/SIBj5iMz8plWlsrCGAcLJnxG4hjj+ufpb2sbzAwkesTMD10CLJUYi1dIhC7Tj4y3XTUEDpDvpk8QFUVM/CbJVjfBjjDWR5DH8vU4WpFwp2OQHhk+JOUNfWwYnM0PvLUJvIZD06qZg19JWbsh7UcX6ZuhJ3Kwq/diJt8IpZkNq7cwSSGf+54p8Fun1ehgBMgQSfa8ti2mYkO/GJmRR7HzkddFXww9SRPzKzb1Ehv6yawnMXvRC1AvxYZ+MZhNmRl6unDKUmZFoqrouqEn9QoRTEQq9R4b+hXJMgOSkGjvtGrGYENfDgbZL5H2TLYWgxQKPCCapsuGnvDUD6fVYWBDn8KEJRY2eUGyZWZhQz8d3gZZLKeKlMJ5Q79OKJugi4Z+F4n1g7Pl/AbDUA09XxZWTh+NPzXFsKFfSpaWlkUn9k2rlZAZ+iskQlypF02sFZMuGfossOHhydYAGaKh56bzBckSQ5ny2ND/Dzx3coPH6JYpwriumya6crpi6HkIDr7nYggXgPUeWZz3C8mWicGQDT2DeJ+SuAZNMMnQk++EGZHMmL2jVDVtN/RMQuStp6n71Cr6aujvK5HC1VTD0Aw9BhTIzLpXWm2MaR79fUJ5qrRuWq2MNht6krs9P60a6KOhZ83GmDMOzVLItfGytNpreAtkoQ9WRGsLmaFnBieprak/QcrDGgdVL0iCIW3bGhMsxMFcFzMCibO6zBYSue+Z1VblWp1mRUim1cc3JlY++5LERLgugNEf5f1SjHzps8CotmUiH8v5/UfKL+dncnQh9/ko5G94elpNsvmZ+umToSenO5DnhO6ILsPAMHluuD9VhHbmaYuhJ/96E1FHnaJrhp5l08qur2ji0wdDz4AqKaJJ9doXSDZHQi5Udf70pg39oyVW21pkOb/B0GZDTxQBr6FXhbppD1009KybgPdHnLtZnKYMPWs2MOkpG3g2BWijoX9YKAljG9cHaZqnK4YeDxfo7uuT594GmjD0h0mk9DYlaZOhv0wi9e/gpid3kLYbevKynyW5m6866jT0LJuIfVgz2TKlacrQEyGzh0R60DYM6JhytM3Qs7TeDyUMgqmHugw9NqLpuQudp25Df7dQkvSJkCjTTdpg6InlByYGDTaHSYNUbejJRcVKSSYCdRl61qY9Trp9smW6TpOGnjUCWLSZNXtNc1Rl6DnmslCaSMQy9M+SPihls/FuJzGJKb8ak+kPTCiKOcWcLpdPS+O+3Czd+COJtBamPZDSm7kHsfi9xCxfIqNMZIglXpTRtVPJCnl/yfSXraTHp9WFwRnItx8G4zMDQo4Zd8u0k7dIRMbFgLWr823ARCbGjDLygfgmDYuYhp546Hz7ISHVgyTTbt4kxVr4ZFcpu///ZYeJy9tCuSg83UmQlk0nN/0mpqEHkobRftw90x1iGnrg7YBuOlMBsQy9GRaxDb3pHrENvakQG3ozDzb0xoa+Q9jQm3mwoTc29B3Cht7Mgw29saHvEDb0Zh5s6I0NfYewoTfzYENvbOg7hA29mQcbemND3yFs6M083Elyrplh8w7JaYM7wiGhNKYM95B2TqtmoHxM8jJ+HeFloTSmDDb0xoa+Q9jQm3mwoTc29B3Cht7Mgw29saHvEDb0Zh5s6I0NfYewoTfzUJWhJ0XxkDg6lF2kKkPPou5DgtTMlVOFoWc92D3T6mB4XyiHQlWG/t+hHAqnhrKLVGXo/xXKoVBL/v0qDD3riZJffCjcQHpXWh0MVRn6K0M5FE4PZRepytD/LZRD4T+hrJQqDP0dpSEt/8Zyd4em1cFQlaG/NJRDgXVSu0pVhv7XoRwKl4SyUqow9PeXdkqrg2ATiYWSh8Q9pbul1ahcHMqh0OX+6I9L20h3iaxfjWzfTrp5DWKt6+tXrJWlUWppAy8JZUweLd01rQ6CzaQ90upguJ70lcj6knSN9MXcvq9JP6lBeJF/rFh8oa+Q6J7KtGxkO5bq4BbSnSXSYcQU94NegWx7RwmbUrVw1l5csQ6UDhsRXVWj+2JoBV4hvTqy/k96f277VdLh0qcqFgbixBp0jnRRTv8Iyu+LITyAocG1HRLnhtKk0Ob5Hg8J3mA6yf7SrdPqIKCb6sFp1SzIH0I5FC4IpUmh+2RoEWzfD2XneL20QVodBI+RtkurZkHODOVQ4M3N/A8CG96cVgfDMaHsHO+UhpSn+snS1mnVLEiXww3noZaIiw5B2uOD0upgYCyqkzAQcMO0Ogj2kbZIq2ZBfhnKoXB5KE0Kky3p+h0Snw9l5/h6KIfCK6W10qpZkKeFcii8KJTGdI7bhnIobBRKM8KyZcs+Jp1fQueN2TeqP1577bWtj0jSOV6Xcx0591H9Zcy+WeIaEXLYCXQd4KTIqiU/zKLoPj1KOnXk3BeWjvlXlXGdSx1wUx34G9LbIupzUicGMHWeJ0pXVqA3hj/RW9R2on8hdd2eJd0obLYWffSVdZ4HhM2o6LjPD9XWo3ONPsVfxzw7VFuNznNPtYPogSk67t5S3HFQDL30iLAZBZ3kXaVOGHp99kq8B33+b4Rqb6ni2um6HSB1xdAzTyUqOu7qOm5n+rF1roM29NLNwmY0dEwb+tjos1dl6Hs/llHFtdN1s6G3obeht6GPiz67Df2cVHHtdN1s6G3obeht6OOiz25DPydVXDtdNxt6G3obehv6uOiz29DPSRXXTtfNht6G3obehj4u+uw29HNSxbXTdbOh75ehXzWUhdExbeht6OOiz25DPydTrh1pjv8k8XP0DqkQum59MPSktj5FIi3zDyVWKSuEjtsXQ7+LxL0n1wu/80mpEDpmHww9WTr5/FdJ/5T4ThRCx6zd0JNL+XzpL9Jl7CiCTrIPhn5diaRUmbF6qFQYff4hG/rRCU/8XqGGruvWB0P/qFDCM6XT0upsdNy+dt1MaitL0DH7YOjzi5C8XSq8HKmO2ahHT54SVpeaiU6yD4b+pqHMKNxQQZ9/6F03d5eOlX4n8XukqJ2Jrltfum5YnIeFfz4gFV4QW8ftk6E/XmJVsTOk0bbCqk9j0TH7YOjXlr4jkaqaBWk+IxVCx6zd0N9H+rPEKyg3qtBasTrJvnTdPExiZaSjpWm/twR9/iEb+kdKfLkz+L3M0GP8aVNj0XXrg6FnxSnSefOZWSovM4YPkEjVPHExCh23L4b+JGnPtJqQtRXaxockckiNRcfsg6Hn866SVld6tpQZeto/3j2rj41N9aFj1mroybWQ/yLT15YZ+jdJE9f/1En2wdDTp8jKVhnZ77Fo9qnS36WJeXD0+Yds6Mnhz/XhS0AqCH4Po5cZ8IkLkOi69cHQ83lZc/c6El/sq6U8tKF90+qK6Lh9MfR8Bj43K9CRxTPfVmgLr0mrS9Ex+2Lo6cLbLdQ/J+VhTd6x6RN0zFoNPX2qnOATpPdI3Kx83yOvpDTkJegk+2DoeQLjzfMK9gVp9PduIrFS/lj0+YfedYMn+0KJxnwvKd9W+m7oiTQhPe2XJT7L6GA0Hv24haT7ZOiBz7h+Wl0htTn1vht6wDHeKq2utGEogfYxcdxGx2ykj56+Vow+yjfOD0p9NvTAayYeCa9ge7Ejx08lFlIYiz7/0A39NH4fyiXouvWlj34SJ0gT1zfQcfs6GJuH+/vatLoUHbMvhn4cjE18K62OR8dsdDB2lImjyDrJvhj6STDItGlaHY8+vw39UlhrmLDDX0tcwyXouvXZ0H9N4nPzpngwO0bRcftu6ElzjqfLOsw4kUvQMfts6On2ZfyCtzq6OJegY7bG0H9COlwiVnTJ6LlOss+GnkE2YsQxWN9jxzj0+W3o50DXre8e/VR03CF49FPRMfts6GeiY7bKo5+ITrLvHv1M9Plt6OdA120fqSuG/uVhMxo67g113C4Zelg3ss4Nh281Os8nSFlkTTR0zMdI8Q29DnrfsBkFHe/W0tANfe/z0eszflQ6LbJ+hhENf6K16BxvoHO9WmKVqZg6R3pO+DOtR+e6tXSPmNK13SYcvtVwnjrfU6Rx7Xhu6bisMhXX2eGA0vukwyLqAzrZ6CuvVIHO9Szpqgr00fAnjDHGGGOMMcYYY4wxxhhjjDHGGGOMMcYYY4wxxhhjjDHGGGOMMcYYY4wxxhhjjDHGGGOMMcYYY4wxxhhjjDHGGGOMMcYYY4wxxhhjjDHGGGNMV1k/lMYYY6bw4FB2kd+F0hhjzBSula6bVjvHqaE0w2Mzafe0arrEHUNp6gVD31Vs6IfLJtIj06rpEl02OF2G636Y9M9QP1TqCjb0w8WGvqPY0DcD1/3uaTWB7dXTauuxoR8uNvQdxYZ+cXaVvi89L9kqBtc930d/gXSXtNp6bOiHiw19R7GhX4wHSlzDTO+SijB63ZdJN02rKx0ntfm+2NAPl3kM/fOlZ6VV0xRtNihd4BIpM/LotVIRst/nS/AL6RQJMi//6lC2kXkMfVe6pcx0yhr6c6RnS1snW6YxMDbzwv8d6hf4zhLdLUBf+3ukRydbxVgzlHeS1k6rK9AXQ3+89HPpwxLtJfvcppuUNfSL2BcTkUUN/RppdVAcLr0hrVbGVaFsI0UN/c7SiWk1gQciht90lzKG/q8SNuIf0qfYYaKwsoSDWIqyhn5v6Wjp1tLQDD3dKv+RNk62quEG0nclrjFlG2EMoQivly6Tzg46U/qoZLrLPB799dKqicS2Et+nUpQx9D+SPiNh8D4uDcnQk7LgN2l1LM+R/iQNwZAVfQDtImVjD6Yf3F4qk74DG7FqWjWRuKv0h7RanDKGfvR3h2Lo8WD3TatjeYjEtcj0ZanPlHnToH/+XInJYadLDD6b7oI3eb+0Wgi+Dzb0ccHQnyHxvbpC4hpnEXsToSuiKBwwD9t9NvQ3lgh7pJzG0yWuRaaXSEX4unSztNop5ulSmnUNTTewoW8eDH0+WOMBEjPsp3JNKIvAAGGW0IgIkz4b+qdJTIKaxaOkT0g3kTD4fBGK8jeJJFFdo61jB6Z6yhp6Ex8MPeNdGTxIscUZYx+sZQw9A4UnSxz0KdLPpBtKfYM0vA9Pq5WCocejx9jfix0dwYZ+uNjQNw+G/i9pNYFum8zQf076tXT9ZCtHGUPfd4im+ZdUJH3wkyRmxS7ChRI37I3S26T8U7nN2NAPFxv6xdhOIjz5C8nWfNxNom+efnrsEHYjHwn1dgmnfAVs6FMOkj6dVmfCwCyGeVHw6O+QVhN+LD0jrbYaG/rhYkM/P3RzY5Qz/V2ah1WkW4XyodJo97kN/QRIY5DPJDkLJizEAEO/aVpNYFLJwWl1pR2kJ6TV1mFDP1xs6OeHa5c39D+VqoAegiUM2dAzu+zitFqIA6WZYUwluEh6VVpNuFTigbOBdCNpLamNy/bZ0A8XG/r52E36v7SahBg/Pq1G54XSiyXsCnZkOUM19MR1vymtFuLV0v5pNRo81V8USjTadcRA99fSaqs4NpRmeNjQl4dEh69Mq80xREPP3IFbptXClP39GFweyjZBt1XRsQzTP4j4uH9aNQVgrswj0mqzDMnQEyXDSHUZ8OTrZjWJCRCU67KjRWDoSYNhhsnDJKI+zGxIiZIPtmgUwgmHwDel56bVwpB6uKq+tGnQP387iTGE0lnqKsaGftgQ5VEmcGGoMKOeSZStIR9430cwmvR/M7BZlh1Daf6HDf2wsaGfDfamdZwXyj5CTPoJabUUpD8w47GhHzY29JNhUZ3/ptX20VdDT3rcMnmzMwiBYsEMMx4b+mFjQz+eraQ/ptV20jdDT+4YXp2W5HooAMmA7ptWzQRs6IeNDf1SSPD4jbTaXvpk6EljMG8OibYNerYVG/phY0O/Iq+RXpdW201fDD2DyvM2QKYiEx9sZmNDP2xs6P/HlyS8+U7QdUN/R2mRuQBbS/SvmWLY0A8bG/oU5uO0Jka+CF029KQxeEtanYvVQ2mKwzX7cFo1A8SGPp171KoY+SJ01dCTHuDWaXUuWKHlNmnVlGAdiTSoZpgwnZ98N0OFQI/rpNVu0TVDT0Klc9Lq3JBkaP20akpiQ98Mu0iLtvsY7C11qssiEiQY7HQWgbND2QUIYYqdQdKUw4a+GebJ01QFQzT0vPmflVa7C8tatR1WUuFpumgueBb6uHlaNXNiQ784D5HKJsvD0LMW6PbSUdJTpSYYmqFn0iUZKNsE60vnFywqRNsNPWsixliJhS+JB18XJ6ahX0+6c1odDHQb0s+bqSgYen5/P+nG0m+l90l1MyRDz8O4zJoVRSDmnvv4D4nv0jwwe790mpY2G/pfSbunVdMSYhn6f0t5g3dlSZEClgH1efVz6QcLiGyoR5TUZyW6APKfuygY+vxqY2tLZf5/LIZi6ImR3zOtRiO7Z5n4DszDFyXuQynaaOjpoqGrZskCt3PAcUhtYOJQlaG/njQUWLiFXExlFrPB0OPFZ9CmuW4ZrFS2WVqtlCEY+tMl5tfEBnuWb/MnSfPA7H9CnFlA6TKJt4OZtM3Qs9bhV9LqwnR6lLylxDL0rGdJiCwNPlsQ3Uwm67rZJNlKPc5PptWV3is9XKojjUffDT2Gc94ulVEIw8Qg8/bJ/QO6jz8qvSLZmo/PS7wdZnxPOiStTqZNhp40BvdIq6alxDL0phzbSfQZ0z+LJ/dxKc+DJBv6xeBBumiMPDPHefBWyWjXzVOk49JqwgqLgme0wdCzmlLM9VG5YaYa6Gd8R1o1LcKGfn5YnIiH56K8VXq9NE/m3DLQdfOCtJpwuJQNGpPYcUtpiQ1s2tCTxiDmE9BGvloI63ppWjUtYTfpY9I7papne+8l9cnQM7t+3hh5Fja6RHpOslUfX5V+KR0tYeSxedeV8lwVyuU0aejpD9s8rZqOYEM/bBj07ct3lregsjHyj5Uyo7phKOuGlayyctyAPg985luswGmhrJOdpPPTajQuCKWpFhv6YcO9zwaEu8zLpTen1UIcKP1IavuES8J4xz6Ijw9lXfC68cK0GoUsZMnUgw19s6wRyqbog6E/UnpyWp0I6c9PlEYHvdvO86VXSkQvZp5/wvdDWTWkMbhaYjDPdBcb+uYgoqNpp6brhp4ejEmRfYw9ZPM56HXoFXUY+sdLzHKNzbzLBpr5saFvDhv6xbhUGtev/jCJhHHkIOpkCuIiVG3oMfAY+piQ9N/dNc1gQ98cmaEnhI+SN+RbSHXSVUP/XykLe6RL4xPSD5OtgVCVoV9XYom/GGkMRnFKg+awoW+OzNBnC38w6Fa3w9M1Q0+MPJ48ZN0yzwzloKjC0DNCXUVqTwx87LcDUw4b+uYY13XDdp15grpk6ImR5/qcK71BqnoiU6uJbegvlu6TVqPCGwJx96ZZbOgX4/0SxgfdjR0lmGTogWi2n0l/TraqowuGnkldJCb7drJlEmIZegL3C2VRm5OtQmmahe6CGOGxxDBjpJZJi+Y3YllIHIH8wjTkumdfFmJGF2K2jwgwwGBtI9EVknnFTB9nX34BbH7OPpSR7dsi2UrDHh8lsVBFlkWSWapsP1pajR0iM/Lor+woQWboyWJJhMgJ0nekPJ+T+IxV0VZDn3nr5OgnvBAP3uRYxNCT24EpwGRPexc7KoBGxRfUtAMMIR7TImD08gYPMRHlgKCNJWDmYrYvM8TPkrJ9GY+TSAOAUc1gBiP7SAYGhPWytgHKBjD5O3jVPGiy45Mvhn3Z/wOMPvvyi2Lzf9h322QrNTQ8cFBm1OkfZpskU9lsSox09pmfzY6S8FlZv5TshzuwY4QLQ1kVbTL0JNjDc2dtgJuxQzDIOitGfpDMa+hZDT7/RZ03t/I0aFCdX6uxZ2Do85nz5iVLUYxI5TokmIwTO1qGt5Squ22AhHZrpdVG4OHKm8w4WEzmnmnVjDKvoceDyRv6KtIL7xNK0x5iGXpgcL2KqKwhwneQUGbiwfNvNrEhRXVTkx5ZsCX/ppXH60HPgAUM2gb9nqPZ2Ew7iGnoTfeoy9DjSDLATA6rWeNzrFaWjbuYCbCQQZugz/MXadW0EBv6YRPT0DMekk95zNjDu9NqIfh95uqYArTN0LPMlmkvNvTDJpahv0jKun1ZrJ2si/kB9lkQ5Ud8vClIWwy9I2u6gQ39sIll6DMjn6kMD5AGlb4gBm0w9ISJfSOtmpZjQz9sYhn6bLFzNC5MdBLPkz6QVk0Zmjb0ZItjVXPTDWzoh01dg7HjIAyX5fvMHDRp6OvM0WHiYEM/bJoy9Kzu5Bj5BWjK0DMtnFlsplswS7TKOG3Tbpow9KSKcIz8gjRh6DeS3pNWTcdgwspD06oZIB+RVk+rtUAeeU+qi0AbBmNNd7ChHzafkeowvCRwc4x8JBgI5cbVxXOkQ9Oq6Sg29MOmDkPPG//5adXEgDQDh6XVynmM9LK0ajqMDf2wqdrQs5YFA68mInUaetMPbOiHTZWGfj/J9qgC6jD0h0h486Yf2NAPm6oM/YckJkOZCqjK0N9LYiGAN0pPYofpDTb0w6YKQ09++R3TqqmCKgx9Pn8F3rzpFzb0wyamoT9WIn8+jqGpkNiGfkMpb+iR6Rc29MMmlqFnRTrbiZqowqP/g5TdPM+g7B8Y+oelVTNAYhl6ZthmduJf7DDVUcdgrOkXu0h3TatmgLCcX6yum50kFjs3FWNDb8pCLvBt06oZIN8NpekQGHpyVxhTFBv6YWND30F4BXtTWjWmEDb0w8aGvoPY0Juy2NAPGxv6DmJDb8pSlaG/USiHwr6h7Bo29B3Eht6UpSpDP7RY6j+FsmtUZei3COVQIENnbdjQm7JUZej/HcqhcHYou0ZVhv6cUA6FI0JZC1UZ+jWkZ6XVwXB4KPtOVYb+qlAOha4atqoM/R9DORS+HMpaqMrQry89M60OAsJUmUgyBDD0d0yrUflHKIfCn0PZNaoy9F3typqXb4eyFqoy9LeUhpS1kmXPPpBWe8+mEos188WMpbOk/4Qy24eH9/MadLz0zRr0WQlnINMVI9uxVDU29HH4XihroSpDP7TEVxtIB6VVMydDe3U/N5Rd4+PSV6SvRhTHo+uO7oxsH3/nLRXrrdKzpadXrH2ke4/ot2P2LartpbFg6KtYw/X+0g5pdRDQVUWDMfNzZiiHgtdEXZHzQlk3q9Qg3vhvMiLSM4/uW1RrSmPB0H9fwti/IaK+JPEamW2/XvqCdGTFwjMg/WnVwhu7JKd/SpeP7IuhG0pD4fRQDgUb+hUZ2vWgm7Lz7CVVMWDXVsjm+Ni0aubkZ6EcCheE0qQw7jMk/hLKTvMSaZO0OggeJN0vrZo5+WEoh8JFoTQpF4ZyKPw9lJ3mtRKrTQ0FFlhhMMTMD117Q+LkUJqUv4VyKBBl1nkYzV4rrQ6Cx0t3SasGli1btrP0/BLad8y+UXVmEp7OddbnefaYfbO0/7XXXtvX79WVoRwK3whlpxnKLNGM50hDeoOZiQxS9Nw1MnQH6bBMTms1GGOdK2F1UdExbyw9NWy2Gp3nY6Qvl9DhY/aN6n3h8K1H57qutP4UrTNm3yytFw7fGu4UyqFwi1CaQEWG/pCOGPqb6Fyjh9vqmBiPJ4fNVqPzjN7nrmNeE6qtR23gOJ3vtpH1KR33OuFPxEcHv6H+yFXSlZHVie4OnecxI+cdS+8Kf6J3qM3Y0EdGx+ySoY8eLqljdsbQ61w/H6rR0DEPVduqztDrD9DA9gibUdDxNpJYaLr16DwrWaVex/1xqPYOG3ob+lCNho5pQ1+DoY/aN6jjbSF1xdBX0sB03BNDtXfY0NvQh2o0dEwbehv66tB52tCXxIbehj5Uo6Fj2tDb0FeHztOGviQ29Db0oRoNHdOG3oa+OnSeNvQlmWHoSRdBmlYyFN6UHUXQ9eqLob+P9EJp62SrIDqmDX1H0Lna0IOOZ0M/TENPLPCj02qSJqOw56/r1QdD/1NpT4k1Uk+R3iYVQsfsi6EnjfmHJJIpktmxEDpmXww9azqQ4bdUXLyOaUNfJTpPG/qSTDH0GVtKpLIemqHPczepcBZDHbMPhh4j9wKJGb4Y/DL3vw+Gnuy3vM09UGKuwUulQuiYjRp6lsTiZl0mscAzqY9nouP1wdBjdOiC4POjUqtq6bhDNPS3l/jZ7tLmoZ7BAg0TQ051vfpg6EnZzbKJLPjzMen3EmwjvVtidbax6Jh98ehhVenWEvf/euyYhY7ZF48+g/xYv0yrs9ExGzX0ecPOcnqHpNXp6Hh9MPSrSTTYjEnGbSw67hANPV0VH02rK60rZb/Hl578+3RnjEXXqw+GPn9dHidlC65k2V6XhXIJOmYfDH1m3Lk+Dw71zNDfWGJNibHomH0w9PtK/5WOkI6SsvTcu0onSBNTZ+iYjRp6pv8fJ10qcSMKrZ2q4/Wl64aG+06JZdBotHnDPxUdd6hdN8dKpGl9h/QjduTou6HntZ1rw9sv6bxH87BjBMaiY/bB0JOv5j1pdaU1pMzQryM9RcKOjEXH7IOhz38vdpNYtxgyu0FW09XT6oromI0aek48++MvlxhkgZdJ5NxmKa0l6Hh9MPTcKJYEy+BacMPuLp0m8YpOn+RYdNwh99FPou+GfhrnSDdKq0vRMftg6IHuKh5oJD+knzrfdcN3Ziw6Zh8MPc4N342LJbL8jq6shgMwFh2zcUNPml4aIKkCDpMyWEZwrIer4/XB0L9Y4tWLi08Gy8zQZ1D/Ylpdio5rQ/8/6Ls/XuL/jb1mul59NvQsRbmtxADl2CUkdcy+GPpp9N3QT4NVx+gOHouO2aihh4dI2SBSPmTojVKfDT1wXT4pkbGTV/E8x0gsHD4WHdeGvgS6Xn029Lz50pXBa/vYL7OO2WdDj4HbX6Ld4DQtQcfss6Hns9FmnifRHbwEHbNxQz+Jg0K5BB2vL4Z+EgwqbZVWx6Pj2tCXQNfrdT029DPRMYfg0U9Ex+y7Rz8VHbOVhv5TEq/gX5OWhIzpeH029HTpnCcxsEJ3xFh03N4aen22q6VLI2tZpQ09EsHQf056WmSxytQ8Dlft6Dxt6COjY7bWo5+Ijtd3j34mOm5vDb0ZNmrb50ufjikZuehviVWh8/2yTnfNmNIx366yWkOvP8AEl2hwTInZYa1H51lVPnobemN6iL7b28tm7hRZ9wqHrwad9CrSR6SxT9o59Qmd+MTQwzahc/2ddEUFYsKEMcYYY4wxxhhjjDHdgOjJ20nMiDfGGGNMR2HNGbIAGGOGCdleCKR7UbJljIkC693wxdoo2TLGmOr5oEQaN2PMMMGpJ43fAcmWMSYKrNaMU09yeWOMqQM79cYMGzv1xlSAnXpjTN3YqTdm2NipN6YC7NQbY+rGTr0xw8ZOvTEVYKfeGFM3VTn1t5FY6NQZNYxpN3bqjakAO/XGmLqpwqknRd43JOwZq24bY9qLnXpjKsBOvTGmbqpy6r8qYc/2Y4cxprXU5dTfWNpYWivZMqbn2Kk3xtRN1U79OyWWaqaO40CJfiftLBljmqVKp56Run9JfOePkd4jHR22/ybdWjKml1Tl1D9O4rhXSj+WvikdL2UP2PdL15eMaQM3kx4g3TzZMlVTlVP/ZQn78l1pQynPqtKPJH5+EDuMMY1RlVP/PonvODbGmMHRRE991pv25GTLmOZ5g0SbfGOyZarmo9IZaTUa+Z76fdkxhqyzAef+OuwwxjQCITFXSc9ItuJAqM3PJL7j+DbGDI69paulDZKtePDAfLZ0ovRPiTfyKyR67v8j8aV7qmRMG3i9RJs8NNkyVXOExMM3Jjj1X5G4jy9gxxgYhufn7sUzplk2lfAJ8EFi8hGJ7zg2ZhzXCzKmlzChDKd7vWQrDmtIf5L4Yt2XHSMcKfEzO/WmLWROPQ8EQsOo87KbxWUShxmzR2noVOXUEz+b3a9l0qelZ0mvlM6V+NlnpBtIxpjmqMqph/2lyyS+74T5nS79OWz/SmKUwJheUoVTTy89D1G+QPTMf0KiB/R70sXS+RI/e6ZkTBvInHqM/x3ZMQLhIvz888mWWZQqnHpgTsTt0mrC5tLDpJ2ktdlhjGkFVTr1o3j+nhkMVTj1eXDwOfYNk63/sXIojWkDmVNPOY4dJH7+F4kFjsxiVOXUG2O6QZ1OvTGDoWqn3pgukDn170i2lrKPxM9/IGUTLInL3EMiuxM/O1wyxbBTb8ywsVNvTAXYqTdNQg84bfDp0i3Z0RBvlnDMs9AwUiNyTqRbOzXsw6EnDVsGk8uzEagTpE+mVVMAO/XGDBs79cZUgJ160wRZCslRkSXpQVLdrCvdXlol2Urz1u8obScVSfdKb72d+uLYqTdm2NipN6YC7NSbuiBc5f5Sll1mkl4jdQ166smcY4php96YYWOn3pgKsFNvYkNqQXq9Xy2xyM8FEg7cK6RtpIyHS8dJTD5FxKRvKXWFR0u/lVhEifMnZeJZ0melfJiOWYqdemOGjZ16YyrATr1ZBDLBMImUdKXnSb+W3iYRtrKaZMw4ePE5Ka0aYwbIJhJO/dOSrfZAGtxtpS2SLWPisKa0tVR5amWWU79cslNvpsHy20+SvigxmfRsiRjyXSU776YMZA/6uvS1ZKt5GB1i5evRMDBCqm4lGWPiczfpUulRyVazkKQhS4gwKkaa7y0ZswgfkGhPrGpeKa+V/iDdJNkyQ4e3yZ0l4sN/J+HAf1V6okTPijGL0iannoXGrpFGH+R5sWAeNvKnEhO8d5H8XTBmMegNx6knjLFpDpHGffcz/VDidwi35GWf52QGc8VumlaNmci7JNrS25OtCjlIIg7YTv3wIJ0khooeCkJnSNlICkdiHY2pirb11D9VuloafZAzgrmblIeVKcmM9AjpfRIPe0atcE74/rDewSMlVrY1xkymTU493E/K1hzJdLL0OGkaOPh85+mBPV5ifhXPUz6fMRmZU/9B6cUSYe/5tnaKRIfqwtip7z8MLdKIiHun1/GXEs7H9pIxddM2pz42G0mPl94i4fTjuPxR+q5EL81DJMIdmVBuzFBpm1NfJatLJI7gpYHOAnyub0nYAjMM3inhvP9ZYrQ3D51Fx0j8fOHwHDv1/WEz6ckSjYPegjMl4rjIt76GZEwb6LtTPwtesh8sseAZPYF/kvi+Et7DvgdKHi0zfWdITn0RsIs4ftgDMqmROY7w6LtLpvtkPfVvTbaWQidr5vQv5I/bqe8eOOiPlT4t4QycI31G2l2iR8CYNjN0p34aXJsNJb7LPARI+cpQ/kXStyV6//kZIUDGdBk79bMhXp9e3DzPkejt/4ZE+CyhgOtL2A5TDPykj0s40ZmulF4pVcWsmHo6ZPl5Pisco7mkfP2J9B/p59JM7NS3lxtKvL29WyLuPXuwP0Oit8+YLmKnfjH47vMg54FOrv9LJGw4hp8HxgMkYvr9kDdtxk59HEgrTarEvPPPtWXEnpE/4rTdCZBCZyhJD/LO/KiYK1UFhNVw/Ksk5nDhe3OfHibxgsbPTpPo1MlgvZssTPMwidHcmdipbwfcXBZnYjienjli714m3Vbyw9n0CTv11UHP3sYSDwo6A0jVSTz/36QsgweT+gjVM6ZJ7NRXDw7hLSS+84Ty5FOXryyxRgDJALAZfYSOUXrf6YX/hXQfCV4o5R35vAiNrALWP2BF/Sya4s4Sa/zsJd1JuoE0jY9JdupbCD1oz5PocedBSw88vWs7ScYMATv1zUJP0GMkFok7VqKnn9S1TORlHw6Ah/NN1dipb5bs+409wLEn1hu/5EFSHkYGN0irnYAOC1anJ1zlC9K0RcSYv0TGP8S6CW2GrDnMs5iJnfpqyB6cR0n0lDH5gTctvjBrScYMFTv17YYFtx4qvUmiZwjbxbwdYj3ZR8YO9/SbRbFT3w3oYcYevFEipptIgoOlPLN6mauGMGXWDyBNJCMS+XUEugxhVaRK5roz0oDIXsizkyxrY7FTvxispsqqqmSZ4cFHzuovSyzWtI5kjFkRhoSJIfxKsmW6BPduXSnLy/19Cbv3D4lJvaTKpdePIX9jpsEqrYwS8fw03eae0nulzB4QhcB2lavN7ynhuyLqJoARZuXQGydbZhKrSNtITDyhx4p87zzEni/dXjLGFIOYQuK7mfhj+gfpOHHsebbk8/TTk0acP6OVDOcT/2+GCyM+F0hRFtwxrYdeZ5z+v0tnSPRAE/KztlSELNc/9oT/63V2JvB+iSFWJhSYFCYtEGNFNglSRv5Kep3ExIbR9FLGmHJkTv1Hki0zJAi92kTCoSPFGx0k9LQR08+k3kMlhvr7lN2L5wa5x4mHdefZ/7BTbyA/d4fvPUlCCPE5WmLRTOLjSeH5CQnb0XWYV0koNvOXKrEHQ3bqGUZ+pkTjYRiQt0euB8tFZ2mEjDFxsVNvpkEvPnHW5ORnNPTCIFbEZnGeR0n5LB5t514SWTVYUKhor+QQsFNvxnEPidV2Gd17gTS6EB++2eckniHYiMwedGXk764S2XhIrYmDH50hOPU3lYjbO0JilVV6hajz4OjSw8FUA07mUyVCBhwSUD126s0iMJEXe06vPs+uv0r09pOz/x0SKemK9uiRv7vqHN55p54JhYz2EoOMvSHFXl/TCc7CTr0BnHRSa+KX8T0ml3wZsAf4coT35OGZTnjPLtKk7xj7D5TILPMqqY5Q6rxTT8cysKAo85CwRQtnHeuTU4/BZOEVUkTivJO1gTc+FmvqUkomUy87Sjx0GanJvmSmOuzUm6rgpZwHIw4j8fuEvDBxjzje4yVicp8l8SKQ5aXOxD7mTcUGp/4a6d8Sf4dMFqwSSc5qsojwgGc/ubOHhJ364UIGQBzuf0l8L+mdrwLsAR23hPTxvOH7j9OMP0g68fz3PxOjglU69zj12CPa/m8lrgHRIh+S8MU5B8KNSEYwF2106pkxzcIIk+DNbkuJOHeMNjOtmYTFYk3EwxtTBrIw8EViwrgzFlWPnXrTJDgR+Yd4XlVkZMp66nlpGBdDi4NBqAG/g6M/FOzUDwscZb5f5I/H9jeZIYvc9eNe7BFO9t2lqsCpv0y6SGK+zSiMMhIOzrnMZQ/a4NQzHEkvBTd79AIzYQJHnZzvDF/ieJGBhos+zfE3piiZU89w2Ccl2iEvirxFL5P42Xck5+aOg5160yQ8b5ikdoWUPWfIb03PYRWJEDKnnpHjSWuU8H3gdx6XbP0PhuVfI9G7f0d29Ag79f2HTFckGqFn+gBpValN0IPPWkJk5SHNMiE7VefcnxVTT6ZFeu6xB1yzDHx0wvZYMItjTKQNTj1f7sy4jhMZaIypisypJ1XWI9gxAg9lHH2G0G/DDrMQdurNkMB+EHpDBwHxu6OwVDz2hzVOsthfHuyHSITp7CDxAtK3FH526vsHURT7SnTGniI9XDIrgkPOuh686IzzN+4iXS1dJRGRAoSVM2/gRhK24SkSNoPolCW0JfyGyQzENGeOfCZWnnQ8vKmSfPjNuJh6wsHIi8vvPJ0dORhCvJ00cXU3swQ79WZI0LuG7fiStL/EGifZ8w0xKvg8aVIPIc48D3k79aaN8MxkHiMhJax02rcRpdgwf4DvPWluPx/qzPthpdjMJhwjTUviwos+HY289C+hTxNlTfdgYhoG4VgJg/BKqe5Yu8ypZ0RoXIgNy2RjsPidLAaOYcWXSLeWON9nS/ycoXIzHTv1xhSnr049WYpw6u+bbJkugeNOfDwTOllvYn3JLEaRcHLm/BEK/HtpNNXnct4n2ak3dYMjTIai7M10VF+QFk7tVBB6ivibOPW8MePA8/cxVqTJ42ek2mJYbBKk1cLAvTbZMtMgxSy9EsQ1G2OWQhjDkyRCcD4rYYPIzc323aQ+QAgB8+Smxgeb1kAaWTLGEFrzHMkLcdYHi3KdLBExkL1A8RLA6N4SP+lIibSPVU8OMCYPD6Yslds4MbmmLqPBA5Q3YOLVMohtZbY+Dug0+EKxIA4xrwyJmdlglHg4kGfcmLrZSvqulNkfnJQ3SE68UC849UweriKNqFkcYreZqEl42GkS4VKmGeg0ZG4OHZCEqiPi7IkyWDL5mB5JZv36rctUAQabRR1Y+pnFJVhsJWNNiRXhyAubOfNknNlPajucOwuYcb6E4Jji2Kk3TcGcmMzWjAoHk2wzph7s1LePDSXypTOxm/mMdSzGZCJjp97EgNRM+TdG3vLJ6sAbJT3hfYPV6xge30tiMRtEXD0psSalrTMpdupNU5D3eVzqZPQ9Cbtl6sFOfTsg/Ok4CUee+W1egLHj2Kk3ZWH+xUclFkggDRuxnsTbeeEmUwQ79aZqeLEmXOATEhP6GFnLoJOBpej/T+LZx9yZOnokCdUj1JUXiGeyY+DYqW+O3SXypLMAE22xjx1vg8VOvRkH7YGYLYbifiM9QTImBnbqTSxGJ4mRLu6r0gukidkhGoJzJa0lTj0O7dCxU18fdMSR05yOuJ9ITiPaY+zUDxuGm/NDzteTiIF/uTRuCWNjFsVOvZkHetMZFWR0kHk4pMDdUyJFahfIO/WskI4zyzZzjcgCw+RdFu4ZfVHpK3bqq4W1Uw6TWC2ZDEpMtjQDwE79cMBhf7J0gsQXnbSCLI1+B8mYurBTbyZBtilCY3BCWLp92gIsXQNnnedtFsNPesqbSBmsvkk63f9KjJL2HTv18WGkirkhrI7+OskTvweInfr+wYOQCZwsUsDkTWPahJ16wyrNeRgVxJEnvpd0sn0k31O/BzvGwMqy/JzY+76n2LRTH4cnSn8MIlGDGTh26vvDwRKOPD1dZKMxpo3YqR8Wt5NYDp0QExZxI2yGiXpDW/Aw79Q/jh1j2F/i51+U+P0NJFILsugM4Tks2EcvLNm2uj650U79fDDpm5XLGdX5kUT+cmOWY6e+G/DFfa9EXvSLpWOkx0vGdA2c+lMkFvwx/YCwGZw0nHdWYd5EMisyGn7zGYm4Z+D5y0I/7Gexny2lSXxY+pPU9Y4bO/XFIR6ehUIJzaLdbC4ZMxaMDD0Bduqbh54X4tvpwXy+xEMgw6sdmr7AktfnSIQamG5BL2HeLm0h0dnAsP8t2GGmguNOKk1ygRNy9BGJjpqTpDdLsxxcspExSbgPC969UCKtoh3U8bBQ4y8kVit/tXRjyZiZMKxHLl/THM+VSBv5Poke+RtJxvQVHuL0NBJqYNoLse3EuZMGj7CZoySyzYzGw5tq4XqzLggOMAsF9YUDJT4TL/km7dTbWzpPwj7yXTOmNGQY+GRaNRXAIihMimJYmqFGFnt4reSedzNU7NS3B3qMCYMgtzu9xfS8m/awvUSmsoukX0u/l4irZ1Jk19cOsVOf+geMzF8uHSvdXTJmIezUx4FhaVKS8YBclR0BUpa1bREUY5rETn39kBHrBmk1gXtAOlsmbDIZ05i6GapTz4szE6aZ6PoBaUPJmGjYqZ8fMjj8XSLv+0skjBO54I0xk7FTXy1MoGRkkCwp9OwywQ7nfWjZZky7GZJTfz+JlVwZcXmh5JF6Uxl26sdDbzvG5kUSaaOIK2V4rE+LoRjTBHbqFwfHnbUoWGjmdGlryZgu0Wenns490o4SH0/Y1CMkY2rBTv1KK20m7STlJ6jivPN2vU6yZYyJhZ364pDyMN/DjjNPKtBHSw6bMV2mb04981PeIV0lkXLaL9qmEYbo1N9Rwqk4X/qcxIQjJqx0fTEPY7qAnfrx3Ewi2wwpC8+QyHiC8766ZEzf6INTv5WEA3+N9H7JL9qmcfro1K8hkRryPRKp2Bj+wpE3xjTPkJ16HJhnS4T0/U7aUTJmiHTVqd9V4qWb+XSsJ+P4eNMquu7UYxDyeZMJm+GheSfJk1aNaR9DcOpZiCnfw7629EqJDFlkyjJm6LTdqceXICx3FwlbRUrq0yScemNaS5ucelI/shhWtox2JhbHYsVb4tvJp3yBRFYH4tf4wnl42pjucBuJ9Rr2SbbaBR0C5AXP259zpftLkyB0jxR1F0u8rDAMT2Ys9htjxnOQxHOceSJtYjfpP1LeBiCyST1IMqbVnCyRK7VpVpFYVXX0i5TpY5IxpvsQh8oD8vHJVnt4pjTO9mRikZjjJBx3P9yNWYw3STzz25aMghj5cd9/9EXJmFZDOrS3pdXGIe6dGPjRLxIPUqeSNKYftNWpBzLLjNofslmQ2ja/qJwxZjHa6tTDkyVCbTIbcGrYZ0zraZNTb4zpP2126o0x9dBmp96YzmKn3hhTJ3bqjTF26o2pADv1xpg6sVNvjLFTb0wF2Kk3xtSJnXpjjJ16YyrATr0xpk7s1Btj7NQbUwF26o0xdWKn3hhjp96YCrBTb4ypEzv1xhg79cZUgJ16Y0ydbCldIu2RbBljhsgbJZz6myZbxpgosMDC29OqMcZUzj2k/0r3TbaMMUPk49Ip0nWTLWNMFP4mvTStGmNM5WRO/c7JljFmiHxM+pVkp96YiFwsvSytGmNM5dipN8bYqTemAuzUG2PqxE69McZOvTEVYKfeGFMnduqNMXbqjakAO/XGmDrpklN/HYnsHKslW6aPrCXdOK2aGumSU7+qtK7kF5B+sqH0TmnzZKvjdMmpv4G0g7ResmX6yF2lW6VV01O65NTfSLpWOjDZMn2EtIpHp1VTI11y6p8hYQecU7+f3Fni/t472eo4XXLqcea58E9JtkwfOU/6SFo1PaVLTv1m0pXSU5Mt0zfoKGKtlg8mW6ZOuuTUv0TCV/KITj95gMQzaZtkq+N0yam/k/Rvaddky/QNDOafpUOSLdNXuuTU30G6XNoz2TJ9Yw3pdxJD76ZeuuTUHyz9SWLkzvQPFkL8u3T7ZKvjdMmpv5dEr9kuyZbpGzeT/iK9PNkyfaVLTv3dpEulRyZbpm8w+vt7yR0J9cPiU79Iq63nUImFOk0/2Vu6SNoi2eo4OPVdWXzqftI/pB2TLdM3NpXOlQ5Itkxf2VrCqf+q9A7pXS0VvbecIx0JXwzbo7/zbokVuZ8nPVvat+N6rkSvFS9c2Nsu6/4Sn4PJbxtNEM8SbM6rcvvaLCb19oU3S9dIjM6eE8q2ifNCjNZdlds3+nu0obOkX/dIP5N+JJ3Ycf1YOl765hQxr4b7+4PcvjaLEeSJ8IEvkI6T+EBtFefHhccI8HY/7ny5cZ+VPiwRl91lMTT5HolYvheHssvixfHJ0qOmiMmIrHCMszTu523SfSQyo5h+Q9gNo0ezYi0ZlieUY/WOi89Blo+NpXFOZZd0C4nPsaW01QRxfy+UGK0e9/O26eaSqZ8vS19Iq6aHvEb6ueRnes3sI/E2jKE23eN60vWniLCq8yVCHcb9vE3is5j+8zSJnri7JFumb2wnMTmf0QljxrGy9F3p08mW6SMfkH4irZlsmdqgx/oP0i2TLdM3HiTh1FMa0wZeKJ0p9SJ/sVkCHQmMVJP9wphxsEYFDh+On+knn5SI9rhhsmVqg8lMTFZhQqXpH7tLOPX3TLaMaZ63SIT9OT91P3mcdInEPA9jxkHvLRECByVbpo8cI30lrZo6+aj0U8lvU/2EiYZ/lbz4lGkL75XoSCDe3PQP1jwh+UIvUtmZSmBFaV789k+2TB85SWI+pqmZz0snSMQ0m/5BqAOT1jwZzLQFbA4hf14evp+QtYgFDZlYa8w41pbIBON5F/2F7GZvSKumTr4ukeHG9JNXSmS/wYgaY4wxM1m2bNl60n7S66VDK9BB0iEj++bVi6XbhFM3C3Lttdeupev5TGmRe/9a6eCRfVWJtvRonXf7O4p0kqvqZGn4x0o/rEDfkb49sq+0dJ7HqfyAxMIjJhK6rmvqmt5aus2c2ky6hbRFbl9VuqXEBCjTYXQP11G7g4+rvmebpXM8Mj3Vax3KEwFdx5V1Xf8lHZW/zi3W3tx8lQeEj2AioWt6oMTaF61H53mWRNpqEwFdyyfyvRKdsKs63z3C+RLW1W50kptypjppcni3Fp3fLcN5ekJmJHQt1w7X9FVc3w7oVOlb4fRNR9E9zNrd08Ou1qJzPED6t+Sl5iOg245Tf6X0irCr1eh8V9e5/kdybHZkdE2fz7XlGoddrUXnebb0obBpFkTXkg4TngGdSKCi88xe7tuffEHnmTj14hFhVyvRxbwrJ6mSHMUmArqca4VryloCrUfn+ROJcC7TYXQP7dQPFN12O/UmQdfUTv1A0bW0U18VOk879QNFl9NOvakd3UM79QNFt91OvUnQNbVTP1B0Le3UV4XO0079QNHltFNvakf30E79QNFtt1NvEnRN7dQPFF1LO/VVofO0Uz9QdDnt1Jva0T20Uz9QdNvt1JsEXVM79QNF19JOfVXoPO3UDxRdTjv1pnZ0D+3UDxTddjv1JkHX1E79QNG1tFNfFTpPO/UDRZfTTr2pHd3DRZx6nOvtJf4v7Ra7VVn+aJ2jnfqI6LYv6tRfR+LBeiupcmdQ52unviJ0Ted16u8ovUY6RmLlaFasP1x6qlTJIpc6Tzv1EdG1XMSpZyXpJ0qHSq+V9g77KkPnOQinnpvxBIkl2T8lHSa9WLqzFB1dTDv1kdHlXMSpX1+6l/QY6WHSVtIaUmXoPO3U9wDdw3mcepzqM6RvSqwSeTdpGwnj/heJFUZfIEVF52inPiK67fM49Tjy35XIaf4d6WDpuRKOHPu492zze1HR+dqprwhd03mc+h2l10tbSnkHnhf9v0q0hV3YEROdp536iOhazuPUk87899LrpB2kTaRbSntJV0jc+4dL0dF59t6p52GMI7+TdBOJL+WaEg/VZdKlEj0p0dDFtFMfGV3OeZz6x0oXSUdKj5dwru4vfVDiS3WBdFspOjpPO/U9QPcwdvgNBp6291sp6uJkOkc79RHRbY8dfrOBdLV0lRR9KF/na6e+InRNFw2/ubV0P2nXIF74sAP03kZF52mnPiK6lrHCb+hIRIzccO8/K0VH5zmo8Bsu6LrSZtJdpZ9JXNyo4Ty6mHbqI6PLGSv8Jushyxx7Rmyio/O0U98DdA/ncepXlhhupX39Xfq89DbphdKHJfb/Rhp16vl/z5d40N+AHWXQOdqpj4hu+7xOPZ0HmdN2ufQ76VSJnjv24djfXBqFFSAZVZzrZU/na6e+InRN53HqCbH5l0SvPKMz9N7SgYgPcoREW8DBy0NoRvazV7KjLDpPO/UR0bWcx6nnJe7nEvfxF9IbJDqSEX4B+z8j5SE082US+z8tPUoqjc5zED3110gY1zdJXCic7btLJ0lc3HHDIHeSviR9ItkqgS6mnfrI6HLO49RvLhECwT0m7OErEs48Q2J80dh/oJRnVQnj+2DpHtJ1pdLoPO3U9wDdw3mceobcaVuEXIzyLImf5Z16HvSsPszPcP4J3Snt2Okc7dRHRLd9HqeecCvuL8+WUbBHOHn/kTKnnk6GF0nPk+4iERL6fxLHIHyjMDpfO/UVoWta1qnn94ih5z7ux44cD5XOk/hZ3qm/t0SYHvxBOiitlkPnaac+IrqWZZ16fIZvSNxfOmny0HFDDz0/yzv1tBdCdPIcL/1ZKjVCoPPstVPPReLL828JBy0PDnf2xco79Uxs4QuBgX2PhPNXKv5RF9NOfWR0Ocs69TeUspGYB7FjBF7Y+Bm9pxmEaO0u4RTRU0oMPr/DS0ApdJ526nuA7uE8Tj1thzZzpUT7oUOBjoXzpVdLGOozpXGO+yESD3Q79Q2j2z6PU0+nAL1s3HdiZ3HQj5NoA/Tc/VHiZ7eQJoENIjSU+T+F0fnaqa8IXdN5eurxG7AbP5D+JvG9/760m0Qs/Q+lJ0uj8Oz6kzTai18Inaed+ojoWs7TU0+I9zskXuL5vuOD8p3GJ2DUhhd7woInsZF0ofQ+qaz/2fue+vUkhryJnefiMlnpLIkv2wESF27SZBV6de3UtwBdznl66omXP1HKvlQY1X9KGNN3SeyfFn6zrcSXcrSnZSY6Tzv1PUD3MHZM/Szs1LcE3fbYMfWz4L6RJYUwnXHhOVPR+dqprwhd00Vj6suwinS29KpkqyQ6Tzv1EdG1jBVTXwReBugEYLR2rkxpOs9BxdSXxU59S9DljBVTXwS+WF+TzpGIjSuNztNOfQ/QPazDqcdR2Fki5OsoiRdPemvvKxXO0qRztFMfEd32upx6HPgfS9gLemnnQudrp74idE3rcOqxMSdLp0h0OP1DYi4G8diFw0B1nnbqI6JrWYdTz1waRvLofNxTuo9EhAGhWptKhdF52qkfgWEPjDhxsfSYcZHfIhGmsbY0E11MO/WR0eWsw6knXOsnErmEs54yek2IgysVW6/ztFPfA3QP63Dq6TSgfeU7D8btm4rO0U59RHTb63DqSXVImB+xty+RmBxJDy0iBWrhXOY6Xzv1FaFrWmdP/ULoPO3UR0TXss6eesDuZyrVoQw6Tzv1sdHFtFMfGV3OOpx6siKRQ5gJaqS+RKQhYwJTqXAInaed+h6ge1h3+M3c6Bzt1EdEt73u8JuF0Pnaqa8IXdPMqS+dlapudJ5/lOzUR0LXsm6nfiF0nnbqY6OLaac+MrqcdYbfLIzO0059D9A9XCe0u6Oll7Vc3+VcRet7E7uAriNO/TXSS8OuVqPzXEXCqR/NuGEWRG3hKXyxdG15ybuizeI8BSE7JgK6pk/Mrqnq4+xu2/S1cL6kyG03OsnEqddJny59s63SKZ4UzpPUiCYCupZZj+nLVWzcduk8T5GY9GaM6SD6Hl9H3+H7SHtJ+3RAz5T2lEZT4xljjDHtITxgN5LuIG3VAd1OYpERY4wxxhhjjDHGGGOMMcYYY4wxxhhjjDHGGGOMMcYYY4wxxhhjjDHGGGOMMcYYY4wxxhhjjDHGGGOMMcYYY4wxxhhjjDHGGGOMMcYYY4wxxhhjjDHGGGOMMcYYY4wxxhhjjDHGGGOMMcYYY4wxxhhjjDHGGGOMMcYYY4wxxhhjjDHGGGOMMcYYY4wxxhhjjDHGGGOMMcYYY4wxxhhjjDHGGGNMV/mg9N20aowxxhhjzGI8XbpWOly6LjtMLXxeOjWtGmMGxDoS9nabZMsYY4yJxDMlnPojJDv19WGn3phhsomEzX1ksmWMqZSdpSukLZItY/pN5tR/ItlaaaV7S2+XcPJfLm0vmfjYqTdmmNipN6ZGHiDxhbttsmVMv8mcevSPsH1z6RbSU8I+fraXZOJhp96YYWKn3pgasVNvhkTm1H822VrKfaR/SX+RbskOEwU79cYMEzv1xtSInXrTNCtLh0jLJNpiXsdL9KLHInPqmbg1ji2lv0sXS7dhRw7O83nStyR/X8php96YYWKn3pgasVNvmualUubEj9NxUizy4TcHSzjqGTeReIngZ2+QriPBqtLbpAOlXSTmoNxDMsWxU2/MMKnaqSdU8hKJv3F5KA+QjBkkTTn160uPl3aQnIVkeKwhvV/6r4TD/DIJZ5m2mNcXpRtLsXiiRC/8k6SHSKdL2d/6p/QRaSNpEkysvVqyU1+OKp36G0k8xL8jnRn0VekZ0vUkY0xzVOnU7yRx7NMk7IAxg6cpp/7REn+XBz0OnhkGz5Zwir8njYa3dAE79fNRhVO/mnSUhB15pXR9KYNRl6MlfvYCdhhjGqEKp/4u0pHSKRLH/pvE9/2b0oukvC0wZlA05dQ/SuLv/lKyU99v7iXRI/5nid7xrsFI0q4S8fSMLtBu3ys9V7qDZGZThVOfhVL9WjpIet2IDpP4OXMkYo72GGOKU4VTT2jkKhIZyzj2CRIv8rzoe3TOtJGtJaIBzpA2ZEdVVOnU313Caef4V0rnS9dIPGS/JLH/F5Kd+v7B5FZ6Uf8jEVpTNsQKg02I1lrJluk635AIj4nJcyRsyP9JPOR5oI/KQ/LGNAvhjHxP6ciLzR4Sx2YuFHOfjGkrd5Xwg/8gkUa7Mqpy6omX57i/lcY5Zm+V+PnJkp36foBRfbPEff2MtK5UhtWlrHd1VOdJDnnpLjj1302r0VhTOlaifXxIWlvKw4vkdtKtky1jTBPQuUfnzn2TrbjYqTddIXPqfy/h864nMe+LhB10UPH9oDNzYcjmwZciplNPrxkpAznu69kxBoff9IfdpAukk6Q7s2NOMgM9SRw/JgzTOvayHqpw6jMYdic0iknVhOKcK9GZQMwt+zGexphm2FbCqb9fshUXO/WmK+DUXyRl/gzPqx2lTSX8YXrw2f8BaSHIAkJIDAeOSZamcFI6wqdL/Nw99d2E+DBCp0ghRhtaFGLtWc31a1IWspXpMundUj795KIQY32VxPE3Z4eplCqdemNMe6nSqWexwJ9KH5RuwA5jWkrWU3+WtA47RsAPplMKn2RPdswLKf6qcOrhTRInyBf6kxKO/tcl0hhS8rPfSZ7E1g3o8SSshvt5qBRlqEg8RiIvfJ2pTfkCkTGBNrgZO0yl2Kk3ZphU6dQb0xXy4Tc3Y8cIjDR9W8InodM7z8MlOsB/IM2MLqjSqc8gHIcl928vMXktgxjqG6ZV02KeL9Ej/xVpWg73MpARocnh0syp52FDrP47JEYE+EKhv0qvkRyeEwc79cYMEzv1pg3Qecw8rKbAqWeNHPyLT0g3lfLgZ/Ez1lzI5odtIbGfpCGEsv9GmjkiVYdTb7rHg6W/SKShjGmMsxRkpIZscoQGp/5CiXP5kTQ6mZLhL74XOP5bssMshJ16Y4aJnXrTFKRRJdsiz/lRsX5JnelP7yix8jHrKZCg5mdS/nwIO56W9vXtEqnB7dSbwvBWyBwIVnZlkaiY4EQzMYSQrDaQD78h/eY4mGjJzw9Jtswi2Kk3ZpjYqTdNQAIFOiXzjvOoWMSsK2ROfSvCb0x7IfzpndK/JCYbxR6eauvkpbxTPy6+DVidkJ/vk2ylC0aQE/0nEm/ZrLtAphXStxJiZiZjp96YYWKn3tQNPeH00LM2ylelvCOPeIbTLtsOYevMR/2ylEUWHCN9TJoYCm2nfpgwEYM4+R9LzHWITZb96NVSrAm1McnCb3jYcJ5HSPeUiPUnEw+ZfdhP7Ns0PiqdLVW6mEQPsFNvzDCxU2/qgpAantukhRxsNiQ79cNhB+lMiVj5XdlRAfeSyFn/3GSrvTCE9QQpW+WQN2JeRN4lHSDxpj+r9/1tEr0BWyVbZhJca8K6GOUwxgwLO/WmSug0/IiEM78fO4aOnfp+s4H0eYlUSi+T6pwY0kdwUAlXIjtOFSsk9hHWFzheIh2qMWZY3FsivJOc8sbEgvCTEySy1u3MDpNip75/MOxE2AtvrkxOnRQzHgMcXP7Ok5OtfsPDiTUW/in9SmLV0jMkVoIjrt6Mx069McPloRIjmndPtoxZDKIBiDZghflYKbZ7BcMVl0qTMoCY7vBYicmfOJxVG1B6/ZdJ/E1jpmGn3pjhYqfexOBZEiM+h0ltnKfXGogfPk+qsjfXVAeTXBmC4sXsSewwpmXYqTdmuNipN/OC805WPjoQsyx0ZgZ26rvHOhJpjgh7YSXUG0lVglNGGA+GeRt2GFMCO/XGDBc79aYsG0s/lfBNt2eHKY6d+u7AcsFMeGVFMlIvVg3OGBlL+Js7ssOYObBTb8xwsVNvisK8NdoKzwvWhTFzYKe+3dxfIg0lkzGdEsx0ETv1xgwXO/VmFqxgT+QBoTaOl18QO/Xtg5zpLNRDppX92VETa0ssRnWixEqzxsTATr0xw8VOvRkH6bVx4nHmn8MOEwc79e2AuHgWM/q39GHpxlJdbCb9TKId3IEdxkTETr0xw8VOvclDWA3PA5J7EIlgImOnvlmeIpGG8kfSndlhTM9g3YQfSJ9NtowxQ8JOvQHyy58r/VwiGsFUhJ36+tlOOk3iTXV3dtTM5tIvpNcmW8ZUy02lkyVGoowxw+Ihkp364fIMifzyZOxblR2mWuzU1wPX9wsS4TWvkq4r1c1dJCbd/lLySmymLkjBykvk25MtY/oN7Z01Q3aRrsOOgbOXRA/tlsmWGQJMdn2fxLzAF7DD1AdpEs+XnD6oGlh59SrpS9LN2dEgxO37TdnUjZ16MyQeJDH5jw4UJxxYaaW9JZx6z9fqP7eQfigRhbAzO0z9vFk6VVor2TIx2E26WDpDIo6sKe4pHSPRQ29MU9ipN0PigRJOPfbfnSh26ocAC0RdIJ0k4dibBnmjZKd+cRhaZLLrJRKTX5uCsJ77Sky+/ZZ0E8mYJrFTb5qEVL1kXsLRznSNRHtkEndsMqf+bOmjEkvcY4/Zzv7+NyRWzRwCdur7C6FVhNjQztucX34L6bHSHtLW7KgZ0neykCff/aexo0rs1M/PmtL7JSaBvFtaXWoDW0l25k1baJNTv5p0a+nV0m8lQuP+KTHPZD+Jn922QuHYkA3kkdIjGtDDpH0lwgJf3IAOlA6VmDT3sYqFo0FJKEDmTI/qcCk2mVN/mfQAdozwKOk/Eo4+7a3v2KnvF8wTeYdEG38uO1oK5/lSKf99z4vvPs+DOsCp/6LE3+X7UCl26svzPAmjfJzEg7ppyPXKhOe6GqgxZWiTU7+thCM/auAzMb8I54MMUVWINSHWk7gmZAWqW+tKzK1h7YAmRG9e3ZNHybpCOOTovf6ddCspNvnwm0kx9adI/M7Dk61+Y6e+H2A7vifxXerC6vbrSySByX/nR3UnqQ7yTv3jJDpdeSH6tHSE9DopWpi0nfpi3EfCSJ8lkdWgDdDjd4VEr5eXVjZtpU1OPaNpn5dGjXsmjGsTmalMf8ic+nMkRnNHIaUxdhvdhh2CFx3sOes5/Fni/9flcFSNnfpuc1eJ+8cClW3NL8/37NHSkRIjYRmEuBEWnbfxCD8On64ucOo5t+zvExqdOfGc41sk9jNqvPB6RXbqJ8PF/pp0tfRCqU3pyUhJuafkiVim7bQ1ph4ng8nkiF50Y2JAXnYe0MTQ47gT/vMeiXUaeNbyMzLj5GN7eehnL5OMvDKaZKfeNAn3Lcsvz+he28AfY/X9EyXOtc0LWuV76vHbxkF4Ij8/KtlaADv1K0IIy5skLi6NmSGntkAPUF8MvRkObXXqjakCnHN6Dgk3ythAIvSqyLwrUmLaqTdNgPPJCyj+Dx2ZTbKNdJDECME/JJz3SQ5x28k79axhMQ7mdPFz0p9nHcjYgI9Ip0t8h/4ovUSaGmptpz7lCRKZa34i3ZEdLYIV2Zhhzgqw12eHMR0ChwYbg60xxkyHNMhXSpsmW93HTn37YZ2i70tM7ualsk6IOmBO4GOkfDQEWauqyE7VBDj1n5Nw2gmx2V3KwzXnO4+fNy0NOveJkT8W9prIkJ163gTpQcSZJ91RG+GtjgZvTFfBOWE+CpkIjDFLoeftndJ3pW9LR4c6YoS2yzxdslPfTu4h/UU6Tapi0vgkXiERnsb8JjJyMYm/zzB6916JyflkvGIUJEtxS4jezyV66md12pIWk6xtN0u2JjA0p56Lkb0xHSK1cYIpKSnzQ7fGdBk79cYMF9Kn4ogMJS9/F3iqxFoNrN8Qe14eIWa7Sh+X/iCRupUEBPRWm/LwQvApiZevndgxi7dKv5L6nNeci4JDwfAG8UptXfGM8BqGX4q8sRnTFezUGzNc+N7TQ7lJsmWaAqcafw8f4wXsWBA6HneUGEnKJnnDzSXP/YsDa3rQAU1M/WclJtGSvOUwibDWsfA2RSzVpHy6XebBEunByDRA42srDD19WXpOsmVMv7BTb4YIHTMscMPy+W1Jg9wEduqbhXzthHQx2ZTMSovACrKEixC2/GaJDE599B07Td+c+ttJ5CWlV/5Z7Ggxzi1vhoCdejNE6MkkHzU9beTQHip26pshyy9PvDY2eBa0V6IYWHGadstCfF+X1pBMh+iDU0+je7dEjBhlG3OqZjBMxcxl8r8+TXLsvOk7durNEMk79UwGBBabIvPFIyQ6oIaAnfp6Ie3jMok47EmpD8miQohMPs6d+8MCaPTsmw7TZad+H+lyiZ7527Oj5WDYCQfKr3hmTN+xU2+GCE79NyScekIfSGXHvKkHSM+WyDjCz74j3VjqK3bq64FwGNrTuHh5Ftj7jcSkVdokvfHcD09e7SFdc+qZ/cvy2wwr8VZpjGk3durNEMGp/6aEo7UHO8bwIYmffzDZ6id26quDrIW0MV4aD5SeK5HN8ATJ2YYGShecehYnYDUu4uRZSrcLEBL0VelqiZ4ZY4aKnXrTJCxgw6juVySedaxsfFupavLhN5NGZ+lV5eecW5ZBhP9H5xWTEnkZ4PnXZezUx4VFmcgvT+cmmQvvJ71IIhlIm0OPTU201anHEB8skX6JVD4T0/e0EHpd/iptm2wZM2x4mOPUk6+6LdxZYqXm/aWHSH4Y9hNi13Gax4kwhHwqvtjkw2+OkUZTKZP6708SP38kOwT7qGex0GRG41lystTVCYt26ueHa0aHJpEJ9MCTSYn2gk+0pmTMEpp26teRtpDozcMIElJD7CFGjBVfjTHdhpUkeSixsmSTkG2K1G6ZUzcqHA+Gs+8m8RIyqu2kPMSwjv4OK/7llzZnsbsfS6O/xwtFHlaO/qP0e4mfk4aXXrjNpDwsFnOWlB2H/8NKhXl4YWGxH47B73BM/s/o8u+s6pj9zex3jpXy8d3U2cciMtnvsRLiS6Q8vBjxO/xNfoeS63lHKc8HpPzf5FiflvJsLvHZR//m46Q8xKXnj8Xv/0TKT/QjJGHcvUbkfq5yPRDawfESf4sVy8lCQp1JjNk5sBDitJ54HDc+F7/X1bVL7NRPhzWCGM3/pHSKhP0Z5SDpKqlNHSOmpTTh1DN8xPLXmWHL6z/S46WuwCxycrbycOFhZIxZkS0lVsPbO9lqDiaFTXPqcbbavJ6FmQ9GTPPPG5IV8FLS9kmC75L+LnU9fPMNEi9p6yVbJoMOTV7WmDxNVqRRiE5gEjVtwPMHTWGacOrvI+G85x+oeRGH2HboDeKtmp6wW7HDGDOWtjj1GdtLrCzN6AHie0wYjvMxm6ZhiX0WrCJLyb0lnss4f4ThxF7Ovy6Yw8AoBZ15Q4F79SrpJOliCRvzaqlIxx8vodilX0v2LUxpmKDDsrNNDO2x4iu5VJlQihgO9hCdMf2ibU69MW0Fp55eW3LYk0c8L8I0ukifnXqcdCZhsyL8aHhbWYhQoFPzCGlSfnljZnK0RBxolROG+gCGlhCboyTndjWmOHbqjRkufXPqcbi/IB0p4YgvOmGVhCA4846XN1GwUz+drSVmnDPZzSutGVMeO/XGDJe2OfU7SN+TiFVnHg3hMUQr3FUCFmpi1Xcme/PsZ6I4IcMxYQI6f5OV5XdlhzGxsFNvjKkSO/XGDJc2OfVkX8rP3xvVyyXmMVTlD5EJjCxTZGuibkx07NSvyL0kwmzsgBgTBzv1xgyXNjn1TJJn9dVxDj1ZkW4vVcFjJFJSknO+q3MjTEewU7/SSteRGAK7RuJLRz5rY0wc7NQbM1zaGFNPbzyTj1nTgbUUqpon9yaJBTTJhGNMLdipT8kvGGOMiYedemOGS98mys6CFKSsh3GZxIrGxtTKUJ36R0vk5x+36IMxJh5bSedJeyVbxpghMRSnnhXw6bxgpWI6MoxphCE59XzGp0jEz40urW6MqYbtJOJYH5JsGWOGxNskVl2nB7uPkNaSxTTJVU9WG2MaZWhO/S2lJhbaMmaoZE69lzo3Znh8VmJUvG8hrq+T6CCkNKY1sJIrCyr11anfV3qJ5AWjjGkGO/XGDJfPSH1x6llo6ksS+eV3Z4cxbQJHnmGxDydb/YFsNi+QeIt+NTuMMY1hp96Y4dIHp55Ul7+RzpacX960Fpz6k6TDkq3+cGvJq7QZ0w7s1BszXLrs1JO95nKJaAbnlzetp09OPZNVPOPcmPZhp96Y4dJFp54Rfo/0m87RB6eexR348j092TLGtA079cYMl6449fTEf0WiZ/5R7DCma3TBqeccnyURz8aKr/+WzpQOlvaXdpOMMe3FTr0xw6WtTv3K0kbSJtKnpF9KHu03nabtTv1a0qkSPfHj9E9pM8kY017s1BszXNrm1O8h0Tk46k/8VLqFZExnabtTv5r0dWn0y5eJ3vv1JGNMe7FTb8xwaZNTT0fhOdI4fwK9XjKms3Qlpp4hskOlY4M+IN1FMsa0n/tIhM7tkGwZY4ZE23rq15YOl1gFNnPmz5f2k4zpNF1x6o0x3eUB0n+lbZMtY8yQYLGm70peANKYirFTb4ypGjv1xgwXHPqj06oxpkp4c2Yi6vuTLWOMiY+demOGi516Y2qCGDcmjZDr3RhjqsBOvTHDxU69MTVhp94YUzV26o0ZLnbqjakJO/XGmKrpklNPZoxTpIclW6aPXCCx2JCpBzv1xtSEnXpjTNV0yaln8RlS3O2ZbJm+sYp0tvT2ZMvUQdec+l9JpM02/YTEML9Iq/2ja049E3vvKq2fbJk+wjLdt0qrpid0yam/g8Rqk49KtkzfWEP6k8S6J6YeuuTU42P8UfpQsmX6yJHSyWm1f3TNqV9dohftecmW6SOsEnxUWjU9oUtO/f0kVr+9b7Jl+gYLGfLMe2GyZeqgS079DSWc+rcmW6aPfFn6QVrtH11z6unBvUJ6QrJl+sbK0m+l9yVbpi88ROJl/JHSptJmLRXn9izpb9Kjw/a439tEYrn5NXsgPgffu6GwscQz7zHJlqmDLjn1vPQxkvPiZMv0jetLx0r01veSrjn1d5b+Ke2ebJm+gYPxe+ktyZbpE8Sq7yTt2GJtLx0i4dQ/XbqnNPo7O0j05j9N4ne6rr2kl0n0TL6543qjRKz8/0n0xo3Tj6SrpZ/k9rVZT5K6zvHSV9Nq69lc+rPEd8P0DxZcPVF6Z7LVQzKnHmPYBe4uXSrR82f6xwbSmdJrky1j6ue5EsPvt0m2TN/gxfI86eHJlqmDDaWDpHdJOFNt1dukz0h0HH5HonNp9Hd4afy0xMjDVzouXhr5HEwMJuNX10WcPC9kl03R5RKhoLzYj/t5m4Sd4iWzFDj1Z0jnS9+WaMhtFef3S4mbcVLYHv0dhlX4wr1XYpXcLovZ9xiQ50v790AHSI+XHjxFz5RIN8fnH/fzNuneEpOqTL+gp/7X0s2SLdM3dpN43m2XbBmzIth1nKlHJFumb6wnnS69ItnqIdeRtpBukmy1nz0kRhZum2wNA4aL+iDaGrG7q00R4Q0Y1Kfk9rVVpMYz/YPeRHquyFdv+ge2hY6DOyVbxqwI837+KuHcm/6B73iuRAeiaQFMYmMSy1bJlukbxCvTi+ZJbKYpyGHMSCBZMEz/4GF+oURnljGjMJpM+yDU1/SPu0iXSI9LtkzjMCOdcCGyUpj+8UCJXrT7J1vG1M8x0o/TqukhDLsTr7pOsmXMijBxHKf+9smW6Rt3k/j+e8XwlkCM+alSV8KFTDlYxZPMI2Q5MsaYKiCtnTHjeJFET+5Nky3TN8hcRnplogJMC/iwxGTZVZMt0zdIE8jCP7dOtowZ4dprr91g2bJlV0mXSGe2XFdLZ+mcmVNiFkTXcXVdz4uly8L1bbvO1jmDUzB3BzL14PgZY2rgCInURaafkE7wGomc5sYsQY7SRnhJKlkcqtXoHA/Wqf5dslMfAV3Hm4R7z9yq1qPzXCec75PDLhMBXc8/SX+RPtNW6bYfGe69Vy6OiK7nWyVe6q/ogP4pfTGcenfRh1hD2kTtedMKRC/demP2lxLnF45DRhYTCV3PG0obZ9e5rHRPbq7yphW2n+XS38A59IhPxwj3jYclqQlbjc7xEJ2qnfpI6DpmTv2zw65Wo/NcN5yvnfqI6HqeL707bLYS3fZVdY7XSF6ZNiK6nqdJnw2brUbneZDaAfa/u36mPgSOMkbsldLtW6wHh/Mk37iJgK7lauGaviNc47brxzpdspyYDqH7Zqd+oOg62qk3XFc79QNF1/NU6fNhs9XoPA+VLlVb6LRTnxmxp4ZdrUTnt0U4z13CLrMgupydMmI6z29KLBdtOoTumZ36gaLraKfecF3t1A8UXU879XWiD2CnfqDoctqpN5Wje2anfqDoOtqpN1xXO/UDRdfTTn2d6APYqR8oupx26k3l6J7ZqR8ouo526g3X1U79QNH1tFNfJ/oAduoHii6nnXpTObpnduoHiq6jnXrDdbVTP1B0Pe3U14k+gJ36gaLLaafeVI7u2TxO/ZrSTyQWHWHF4p8FsbIg+2gH0Vep1jnaqY+IruM8Tj0P1H2kP0nc6/9K/w71q6RPSWtJ0dF52qmvAF1PO/UDRdfTTn2d6APYqR8oupx26k3l6J7F7ql/vISD97VkKyI6Rzv1EdF1nMep59qvnVaX8HCJe/9raTV2xETnaae+AnQ9yzr1rA57tMS9/pd0jnRu2EZHSetK0dBtt1NfAbqeZZ16HOo9pBOk7GU+EysHHyytIUVH5zlop/560l0lelTeLr1VeqZ0Fyk6Oj879ZHR5VzEiNHoN5a2kbaXbiWtLlWGztNOfQfRPZvXqb+N9H7pbOnCoLNCiYE/RhrHetImabUcOkc79RHRdVwk/Obu0lukH0g48WdKf5a492dI0e2NztNOfQXoesbsqWfBQ9rAZ6Rozpduu536CtD1nMep30IatybNEyXu/Q+lKl7qB+vU48T9VHqpdHuJN+b1pcdKl0tc9IdI0dD52amPjC7nPEaMkIeLpdMk3pgfI+Gs8WLHMDn3/mFSdHSeduo7iO7ZPE79QRJt6RPJ1opgA/jZN5OtlA2k70jHSoTpsJ5Bacdc52inPiK6jvM49TtL3N+/SFuzIwf3mZ/9Qcqcep47PI+OlFjBnJ8RunMvqRQ6Tzv1FaDrOY9TfzOJZ9PJ0qUSoVf02mfPGe41nYtR0G23U18Bup7zht/gW/IC91HpqxLhmLzMc+/5vq8jRUXn6fCbwCoSwyE3lt4scdEPk6Kh87NTHxldzthGjAch9x5na2V2xETnaae+g+iezePU30e6UqI9YdSfIb1R+r2UxdUfJ43jvdIpUukHvs7RTn1EdB3ncep3kpZJ3H9GfwnFuYP0eukKiXtPO5jUU38TiR79jyRbJdB52qmvAF3Psk79KyTuM87gqIP1KCn7WfYd5/v6OOnH0nnSNVKpOTe67XbqK0DXs6xTz0s9L27nS9uxIwfRIdiGX0qZU383iQ6dV0r7SnzvaR/Yi1J2XOc5WKf+thJvz1y4H0n02O8lPUX6hsT+D0qjbCZ9TGLY7AbsKIrOz059ZHQ55zFi3LcDpb9J3Gcert+WviTxRWMf2/mhM75Yd5J4WNPzNtcXRudpp76D6J4tElPPQxu7QSgOzloG9UlxlXbqW4Ku4yLhN7eUcOB4oXuQRC894OAT9jfu/vJsIu6W50/pe6jztFNfAbqeZZ36R0g8S+iZf4f0UAmH7efS1RI/+6KUtYHrhxJw7v8h2alvAbqeZZ167jX3l4iAR0obStgC7j8jNvyM0dhpPfXfl4jJv1GyVRCd5yCdej7sdyUuLL0oeXjIjnPqeSDT23Zviben30nj4qUmovOzUx8ZXc55jBiGmfvLiMwoz5P4GSEQjN4AQ+C88NHbxheMLym/Q7hOKXSeduo7iO5Z7Imys6CN/iqtlkPnaKc+IrqOizj1ZSAk9I/S25KtOdF52qmvAF3PeWPq8Sm2lOgUyk+MvbWUveSNsqdkp74l6HrOG37Dd5p7ga+Br4kfCYTboXEdw8TiE7b36WSrJDrPwfbU31Di7fmfEg4aQ6K8PdNbyxeKt6l3SuNgCJ24KDv1DaPLOY8RYxIiExS578xMx3n6q4QR/YDEfmLfMqd+FHrSGFZnqKwUOk879R1E96wOp545PU+SniY9QSJDzt4S9mhSJpUl6Bzt1EdE17EOp56RYmwQ83zQbyWeMfTU0cNXGJ2nnfoK0PWMOVF2FvTy/13Kj+zNRLfdTn0F6HrO69SXgXBNJtK/LtmaE52nY+rnwE59S9DlrNOIcb/JL82Q2lwZknSeduo7iO5Z3T31c6NztFMfEV3Hunrqo6DztFNfAbqeVTv1OPBEBxBbzZwu0t1S/5ZEj+9MdNvt1FeArmfVTj0OPff8yxIdjoT/Zip07zN0nnbqC0Lv7v4Sk1+yWPxDwj5+NhOdn536yOhy1mHEuL+EZJGSbnN2COIgUakvjs7TTn0HUTvbOHx396DNtVk6xzdJl6lupz4Cuo6ZU98JJ1mnev0unW9X0PWss6d+LnTb7dRXgK5nHT31UdB52qmvC52fnfrI6HLWYcRw5O8nPVDaNScmvpEtqTA6Tzv1HUTt7Pq6b3eTHiQ9tOXaRRpNo2jmJNiYL0i/l87pgP4k/VKi989EQtfzAulNYbO16ByvVpt9Sdg0EdA1xan/XNhsNTrPgyU79XWg87NTHxldzk71TOg87dQbY0zHkN3eTzpc+nKLdZT0EalUyIaZjq7nMcF3u6wD+q90hk63F0796dK4ht4K6RSPC+dJj6+JgC4nTv1/JN5O1++Avi8xCdcYY4wxxhiTIcd+UznKW0vbtl061zurvHk4dWOMMcYYY4wxxhhjjKmblVb6fyPDJgACWUF2AAAAAElFTkSuQmCC)"
      ]
    },
    {
      "cell_type": "markdown",
      "metadata": {
        "id": "cir6jPlmmVd_"
      },
      "source": [
        "Check for interaction effects."
      ]
    },
    {
      "cell_type": "code",
      "metadata": {
        "id": "rOxvJWWflxV7",
        "outputId": "799ec8d7-2454-41e1-fa54-fac0b92ae818",
        "colab": {
          "base_uri": "https://localhost:8080/"
        }
      },
      "source": [
        "from statsmodels.formula.api import ols\n",
        "\n",
        "#Enter the model in the format Y ~ X\n",
        "\n",
        "model = ols('Time ~ Nitro + C(Lime) + Nitro*C(Lime)', data=longbones).fit()\n",
        "\n",
        "#Print the model summary\n",
        "print(model.summary())"
      ],
      "execution_count": 23,
      "outputs": [
        {
          "output_type": "stream",
          "name": "stdout",
          "text": [
            "                            OLS Regression Results                            \n",
            "==============================================================================\n",
            "Dep. Variable:                   Time   R-squared:                       0.779\n",
            "Model:                            OLS   Adj. R-squared:                  0.758\n",
            "Method:                 Least Squares   F-statistic:                     36.43\n",
            "Date:                Wed, 10 Nov 2021   Prob (F-statistic):           2.79e-10\n",
            "Time:                        18:11:30   Log-Likelihood:                -125.11\n",
            "No. Observations:                  35   AIC:                             258.2\n",
            "Df Residuals:                      31   BIC:                             264.4\n",
            "Df Model:                           3                                         \n",
            "Covariance Type:            nonrobust                                         \n",
            "======================================================================================\n",
            "                         coef    std err          t      P>|t|      [0.025      0.975]\n",
            "--------------------------------------------------------------------------------------\n",
            "Intercept            212.7250     65.871      3.229      0.003      78.381     347.069\n",
            "C(Lime)[T.1]         -23.0426     80.147     -0.288      0.776    -186.504     140.418\n",
            "Nitro                -43.9830     17.060     -2.578      0.015     -78.776      -9.190\n",
            "Nitro:C(Lime)[T.1]    12.7767     21.093      0.606      0.549     -30.244      55.797\n",
            "==============================================================================\n",
            "Omnibus:                        3.456   Durbin-Watson:                   1.635\n",
            "Prob(Omnibus):                  0.178   Jarque-Bera (JB):                2.410\n",
            "Skew:                           0.468   Prob(JB):                        0.300\n",
            "Kurtosis:                       2.119   Cond. No.                         276.\n",
            "==============================================================================\n",
            "\n",
            "Warnings:\n",
            "[1] Standard Errors assume that the covariance matrix of the errors is correctly specified.\n"
          ]
        }
      ]
    },
    {
      "cell_type": "markdown",
      "metadata": {
        "id": "twgiKjXBmZAT"
      },
      "source": [
        "**The Large p value and decreased Adj. R-Squared shows that there is no** interaction between Nitro and Lime"
      ]
    },
    {
      "cell_type": "markdown",
      "metadata": {
        "id": "ML2uKT1D7Qxe"
      },
      "source": [
        "Based on the data we have, the best model to predict interment time of a skeleton is:\n",
        "\n",
        "$\\hat{y}$ = 180.47 - 35.63 x Nitro + 25.45 x Lime"
      ]
    },
    {
      "cell_type": "markdown",
      "metadata": {
        "id": "5eijXEWKSaK3"
      },
      "source": [
        "Let's play CSI one more time and use it to make predictions about how long a body has been interred for different values of long bone nitrogen composition and Quicklime application."
      ]
    },
    {
      "cell_type": "markdown",
      "metadata": {
        "id": "wqv11_e7S7Ib"
      },
      "source": [
        "- A body that was not buried with Quicklime that has 3.88 g of nitrogen /100g of bone remaining in the long bones of the skeleton."
      ]
    },
    {
      "cell_type": "code",
      "metadata": {
        "id": "Az7aXj-N6sW6",
        "outputId": "40e8ac7b-3ef0-4b88-fe3e-372ede76a176",
        "colab": {
          "base_uri": "https://localhost:8080/"
        }
      },
      "source": [
        "#Make sure we're working with the correct model\n",
        "model = ols('Time ~ Nitro + C(Lime)', data=longbones).fit()\n",
        "\n",
        "\n",
        "#Specify the values of x we'd like to predict\n",
        "x1 = 0 #NOT BURIED WITH QUICKLIME\n",
        "x2 = 3.88\n",
        "\n",
        "#Extract the slope and intercept values from the model paramters\n",
        "intercept = model.params[0]\n",
        "slope1 = model.params[1]\n",
        "slope2 = model.params[2]\n",
        "\n",
        "#Use the model coefficients and plug the new value of x into the regression equation\n",
        "predicted = intercept + slope1*x1 + slope2*x2\n",
        "\n",
        "print(predicted)\n"
      ],
      "execution_count": 24,
      "outputs": [
        {
          "output_type": "stream",
          "name": "stdout",
          "text": [
            "42.24156065638019\n"
          ]
        }
      ]
    },
    {
      "cell_type": "markdown",
      "metadata": {
        "id": "B1O2nuW_3ixr"
      },
      "source": [
        "We estimate this body has been buried for about **42.24 years**"
      ]
    },
    {
      "cell_type": "markdown",
      "metadata": {
        "id": "-rhf7zmX9g3E"
      },
      "source": [
        "* A body that was buried with Quicklime and has 3.59 g of nitrogen per 100g of bone remaining in the long bones of the skeleton."
      ]
    },
    {
      "cell_type": "code",
      "metadata": {
        "id": "uswEbjkLUPq9",
        "outputId": "a8f825a6-c987-45f8-bd53-27a5fe2c1709",
        "colab": {
          "base_uri": "https://localhost:8080/"
        }
      },
      "source": [
        "#Make sure we're working with the correct model\n",
        "model = ols('Time ~ Nitro + C(Lime)', data=longbones).fit()\n",
        "\n",
        "\n",
        "#Specify the values of x we'd like to predict\n",
        "x1 = 1 \n",
        "x2 = 3.59\n",
        "\n",
        "#Extract the slope and intercept values from the model paramters\n",
        "intercept = model.params[0]\n",
        "slope1 = model.params[1]\n",
        "slope2 = model.params[2]\n",
        "\n",
        "#Use the model coefficients and plug the new value of x into the regression equation\n",
        "predicted = intercept + slope1*x1 + slope2*x2\n",
        "\n",
        "print(predicted)\n"
      ],
      "execution_count": 26,
      "outputs": [
        {
          "output_type": "stream",
          "name": "stdout",
          "text": [
            "78.02350105537052\n"
          ]
        }
      ]
    },
    {
      "cell_type": "markdown",
      "metadata": {
        "id": "RnDi8855VIPB"
      },
      "source": [
        "\n",
        "\n",
        "---\n",
        "\n"
      ]
    },
    {
      "cell_type": "markdown",
      "metadata": {
        "id": "9wOmYg06VLxt"
      },
      "source": [
        "What happens if I have a lot - like thousands - of potential features?"
      ]
    },
    {
      "cell_type": "markdown",
      "metadata": {
        "id": "hm8aqRPkVVzF"
      },
      "source": [
        "###The curse of dimensionality!"
      ]
    },
    {
      "cell_type": "markdown",
      "metadata": {
        "id": "KpVGx2Adhg7B"
      },
      "source": [
        "![machine_learning_2x.png](data:image/png;base64,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)"
      ]
    },
    {
      "cell_type": "markdown",
      "metadata": {
        "id": "fdo8dXXjhoom"
      },
      "source": [
        "Regression and other machine learning methods do not work well if your dataset contains more columns than rows.\n",
        "\n",
        "There are a few possible ways to handle this situation:\n",
        "1. Eliminating variables that you know are not related to your outcome\n",
        "\n",
        "2. Interactions between your features, combine any variables into more adequate features\n",
        "\n",
        "3. Dimensionality reduction techniques (like pricipal component analysis)"
      ]
    },
    {
      "cell_type": "markdown",
      "metadata": {
        "id": "DHNJ5vpJCGSf"
      },
      "source": [
        "#Let's return to the sleep example"
      ]
    },
    {
      "cell_type": "markdown",
      "metadata": {
        "id": "T1TDNIibteov"
      },
      "source": [
        "Import the Sleep.csv dataset from a URL and print the first few rows\n",
        "\n",
        "Researchers recorded data on sleep duration as well as a set of ecological and constitutional variables  for a selection of mammal species. This data appears in the Sleep.csv dataset. \n",
        "\n",
        "\n",
        "Source: Allison, T. and Cicchetti, D. (1976), \"Sleep in Mammals: Ecological and Constitutional Correlates\",  Science, November 12, vol. 194, pp. 732-734.\n",
        "\n",
        "\n",
        "\n",
        "Data Dictionary:\n",
        "\n",
        "| Variable Name |            Description           |                                                                 Details                                                                 |              |   |\n",
        "|:-------------:|:--------------------------------:|:---------------------------------------------------------------------------------------------------------------------------------------:|--------------|---|\n",
        "| Animal        |            Animal name           |                                                            Character [string]                                                           |    |   |\n",
        "| Body          |            Body weight           |                                                               Numeric [kg]                                                              |       |   |\n",
        "| Brain         |           Brain weight           |                                                               Numeric [g]                                                               |  |   |\n",
        "| SWsleep       | Slow wave (“non-dreaming”) sleep | Numeric [hours]                                                                                                                         |              |   |\n",
        "| Parasleep     | Paradoxical (“dreaming”) sleep   | Numeric [hours]                                                                                                                         |              |   |\n",
        "| Totsleep      | Total sleep                      | Numeric [hours]                                                                                                                         |              |   |\n",
        "| Life          | Maximum life expectancy          | Numeric [years]                                                                                                                         |              |   |\n",
        "| Gest          | Gestation time                   | Numeric [days]                                                                                                                          |              |   |\n",
        "| Pred          | Predation index                  | Numeric [1 – 5] 1 = least likely to be preyed upon, 5 = most likely to be preyed upon                                                   |              |   |\n",
        "| Exposure      | Sleep exposure index             | Numeric [1 – 5] 1 = least amount of exposure during sleep (mammal sleeps indoors or in a den), 5 = most amount of exposure during sleep |              |   |\n",
        "| Danger        | Overall danger index             | Numeric [ 1 – 5] 1 = least amount of danger from other animals, 5 = most amount of danger from other animals                            |              |   |\n",
        "\n"
      ]
    },
    {
      "cell_type": "code",
      "metadata": {
        "id": "lAGRV2LkuKyw",
        "outputId": "dd370169-90aa-4857-a093-7b6fa4da64f0",
        "colab": {
          "base_uri": "https://localhost:8080/",
          "height": 204
        }
      },
      "source": [
        "import pandas as pd\n",
        "\n",
        "data_url = 'https://raw.githubusercontent.com/LambdaSchool/data-science-practice-datasets/main/unit_1/Sleep/Sleep.csv'\n",
        "\n",
        "sleep = pd.read_csv(data_url, skipinitialspace=True, header=0)\n",
        "\n",
        "sleep.head()"
      ],
      "execution_count": 27,
      "outputs": [
        {
          "output_type": "execute_result",
          "data": {
            "text/html": [
              "<div>\n",
              "<style scoped>\n",
              "    .dataframe tbody tr th:only-of-type {\n",
              "        vertical-align: middle;\n",
              "    }\n",
              "\n",
              "    .dataframe tbody tr th {\n",
              "        vertical-align: top;\n",
              "    }\n",
              "\n",
              "    .dataframe thead th {\n",
              "        text-align: right;\n",
              "    }\n",
              "</style>\n",
              "<table border=\"1\" class=\"dataframe\">\n",
              "  <thead>\n",
              "    <tr style=\"text-align: right;\">\n",
              "      <th></th>\n",
              "      <th>Animal</th>\n",
              "      <th>Body</th>\n",
              "      <th>Brain</th>\n",
              "      <th>SWsleep</th>\n",
              "      <th>Parasleep</th>\n",
              "      <th>Totsleep</th>\n",
              "      <th>Life</th>\n",
              "      <th>Gest</th>\n",
              "      <th>Pred</th>\n",
              "      <th>Exposure</th>\n",
              "      <th>Danger</th>\n",
              "    </tr>\n",
              "  </thead>\n",
              "  <tbody>\n",
              "    <tr>\n",
              "      <th>0</th>\n",
              "      <td>African_giant_pouched_rat</td>\n",
              "      <td>1.000</td>\n",
              "      <td>6.6</td>\n",
              "      <td>6.3</td>\n",
              "      <td>2.0</td>\n",
              "      <td>8.3</td>\n",
              "      <td>4.5</td>\n",
              "      <td>42.0</td>\n",
              "      <td>3</td>\n",
              "      <td>1</td>\n",
              "      <td>3</td>\n",
              "    </tr>\n",
              "    <tr>\n",
              "      <th>1</th>\n",
              "      <td>Asian_elephant</td>\n",
              "      <td>2547.000</td>\n",
              "      <td>4603.0</td>\n",
              "      <td>2.1</td>\n",
              "      <td>1.8</td>\n",
              "      <td>3.9</td>\n",
              "      <td>69.0</td>\n",
              "      <td>624.0</td>\n",
              "      <td>3</td>\n",
              "      <td>5</td>\n",
              "      <td>4</td>\n",
              "    </tr>\n",
              "    <tr>\n",
              "      <th>2</th>\n",
              "      <td>Baboon</td>\n",
              "      <td>10.550</td>\n",
              "      <td>179.5</td>\n",
              "      <td>9.1</td>\n",
              "      <td>0.7</td>\n",
              "      <td>9.8</td>\n",
              "      <td>27.0</td>\n",
              "      <td>180.0</td>\n",
              "      <td>4</td>\n",
              "      <td>4</td>\n",
              "      <td>4</td>\n",
              "    </tr>\n",
              "    <tr>\n",
              "      <th>3</th>\n",
              "      <td>Big_brown_bat</td>\n",
              "      <td>0.023</td>\n",
              "      <td>0.3</td>\n",
              "      <td>15.8</td>\n",
              "      <td>3.9</td>\n",
              "      <td>19.7</td>\n",
              "      <td>19.0</td>\n",
              "      <td>35.0</td>\n",
              "      <td>1</td>\n",
              "      <td>1</td>\n",
              "      <td>1</td>\n",
              "    </tr>\n",
              "    <tr>\n",
              "      <th>4</th>\n",
              "      <td>Brazilian_tapir</td>\n",
              "      <td>160.000</td>\n",
              "      <td>169.0</td>\n",
              "      <td>5.2</td>\n",
              "      <td>1.0</td>\n",
              "      <td>6.2</td>\n",
              "      <td>30.4</td>\n",
              "      <td>392.0</td>\n",
              "      <td>4</td>\n",
              "      <td>5</td>\n",
              "      <td>4</td>\n",
              "    </tr>\n",
              "  </tbody>\n",
              "</table>\n",
              "</div>"
            ],
            "text/plain": [
              "                      Animal      Body   Brain  ...  Pred  Exposure  Danger\n",
              "0  African_giant_pouched_rat     1.000     6.6  ...     3         1       3\n",
              "1             Asian_elephant  2547.000  4603.0  ...     3         5       4\n",
              "2                     Baboon    10.550   179.5  ...     4         4       4\n",
              "3              Big_brown_bat     0.023     0.3  ...     1         1       1\n",
              "4            Brazilian_tapir   160.000   169.0  ...     4         5       4\n",
              "\n",
              "[5 rows x 11 columns]"
            ]
          },
          "metadata": {},
          "execution_count": 27
        }
      ]
    },
    {
      "cell_type": "markdown",
      "metadata": {
        "id": "aTzXglv0jhwu"
      },
      "source": [
        "We've determined that the log of life expenctancy and the log of gestation time were all *univariably* associated with time spent in dreaming sleep."
      ]
    },
    {
      "cell_type": "code",
      "metadata": {
        "id": "rjlHxOvrQCex",
        "outputId": "0a30059c-c67c-4f7c-8c1f-512c6a643967",
        "colab": {
          "base_uri": "https://localhost:8080/",
          "height": 204
        }
      },
      "source": [
        "#Calculate the log of life expenctancy, and gestation time.\n",
        "import numpy as np\n",
        "\n",
        "sleep['Log_life'] = np.log(sleep['Life'])\n",
        "sleep['Log_gest'] = np.log(sleep['Gest'])\n",
        "\n",
        "sleep.head()"
      ],
      "execution_count": 28,
      "outputs": [
        {
          "output_type": "execute_result",
          "data": {
            "text/html": [
              "<div>\n",
              "<style scoped>\n",
              "    .dataframe tbody tr th:only-of-type {\n",
              "        vertical-align: middle;\n",
              "    }\n",
              "\n",
              "    .dataframe tbody tr th {\n",
              "        vertical-align: top;\n",
              "    }\n",
              "\n",
              "    .dataframe thead th {\n",
              "        text-align: right;\n",
              "    }\n",
              "</style>\n",
              "<table border=\"1\" class=\"dataframe\">\n",
              "  <thead>\n",
              "    <tr style=\"text-align: right;\">\n",
              "      <th></th>\n",
              "      <th>Animal</th>\n",
              "      <th>Body</th>\n",
              "      <th>Brain</th>\n",
              "      <th>SWsleep</th>\n",
              "      <th>Parasleep</th>\n",
              "      <th>Totsleep</th>\n",
              "      <th>Life</th>\n",
              "      <th>Gest</th>\n",
              "      <th>Pred</th>\n",
              "      <th>Exposure</th>\n",
              "      <th>Danger</th>\n",
              "      <th>Log_life</th>\n",
              "      <th>Log_gest</th>\n",
              "    </tr>\n",
              "  </thead>\n",
              "  <tbody>\n",
              "    <tr>\n",
              "      <th>0</th>\n",
              "      <td>African_giant_pouched_rat</td>\n",
              "      <td>1.000</td>\n",
              "      <td>6.6</td>\n",
              "      <td>6.3</td>\n",
              "      <td>2.0</td>\n",
              "      <td>8.3</td>\n",
              "      <td>4.5</td>\n",
              "      <td>42.0</td>\n",
              "      <td>3</td>\n",
              "      <td>1</td>\n",
              "      <td>3</td>\n",
              "      <td>1.504077</td>\n",
              "      <td>3.737670</td>\n",
              "    </tr>\n",
              "    <tr>\n",
              "      <th>1</th>\n",
              "      <td>Asian_elephant</td>\n",
              "      <td>2547.000</td>\n",
              "      <td>4603.0</td>\n",
              "      <td>2.1</td>\n",
              "      <td>1.8</td>\n",
              "      <td>3.9</td>\n",
              "      <td>69.0</td>\n",
              "      <td>624.0</td>\n",
              "      <td>3</td>\n",
              "      <td>5</td>\n",
              "      <td>4</td>\n",
              "      <td>4.234107</td>\n",
              "      <td>6.436150</td>\n",
              "    </tr>\n",
              "    <tr>\n",
              "      <th>2</th>\n",
              "      <td>Baboon</td>\n",
              "      <td>10.550</td>\n",
              "      <td>179.5</td>\n",
              "      <td>9.1</td>\n",
              "      <td>0.7</td>\n",
              "      <td>9.8</td>\n",
              "      <td>27.0</td>\n",
              "      <td>180.0</td>\n",
              "      <td>4</td>\n",
              "      <td>4</td>\n",
              "      <td>4</td>\n",
              "      <td>3.295837</td>\n",
              "      <td>5.192957</td>\n",
              "    </tr>\n",
              "    <tr>\n",
              "      <th>3</th>\n",
              "      <td>Big_brown_bat</td>\n",
              "      <td>0.023</td>\n",
              "      <td>0.3</td>\n",
              "      <td>15.8</td>\n",
              "      <td>3.9</td>\n",
              "      <td>19.7</td>\n",
              "      <td>19.0</td>\n",
              "      <td>35.0</td>\n",
              "      <td>1</td>\n",
              "      <td>1</td>\n",
              "      <td>1</td>\n",
              "      <td>2.944439</td>\n",
              "      <td>3.555348</td>\n",
              "    </tr>\n",
              "    <tr>\n",
              "      <th>4</th>\n",
              "      <td>Brazilian_tapir</td>\n",
              "      <td>160.000</td>\n",
              "      <td>169.0</td>\n",
              "      <td>5.2</td>\n",
              "      <td>1.0</td>\n",
              "      <td>6.2</td>\n",
              "      <td>30.4</td>\n",
              "      <td>392.0</td>\n",
              "      <td>4</td>\n",
              "      <td>5</td>\n",
              "      <td>4</td>\n",
              "      <td>3.414443</td>\n",
              "      <td>5.971262</td>\n",
              "    </tr>\n",
              "  </tbody>\n",
              "</table>\n",
              "</div>"
            ],
            "text/plain": [
              "                      Animal      Body   Brain  ...  Danger  Log_life  Log_gest\n",
              "0  African_giant_pouched_rat     1.000     6.6  ...       3  1.504077  3.737670\n",
              "1             Asian_elephant  2547.000  4603.0  ...       4  4.234107  6.436150\n",
              "2                     Baboon    10.550   179.5  ...       4  3.295837  5.192957\n",
              "3              Big_brown_bat     0.023     0.3  ...       1  2.944439  3.555348\n",
              "4            Brazilian_tapir   160.000   169.0  ...       4  3.414443  5.971262\n",
              "\n",
              "[5 rows x 13 columns]"
            ]
          },
          "metadata": {},
          "execution_count": 28
        }
      ]
    },
    {
      "cell_type": "markdown",
      "metadata": {
        "id": "LoCnSYYok3by"
      },
      "source": [
        "Let's take a look at the R-squared for a model with just gestational time and then a model with both gestational time and life expectancy."
      ]
    },
    {
      "cell_type": "code",
      "metadata": {
        "id": "_usoFr94kBpG",
        "outputId": "4afa7792-f448-45bf-8a45-d54ad3991cbf",
        "colab": {
          "base_uri": "https://localhost:8080/"
        }
      },
      "source": [
        "from statsmodels.formula.api import ols\n",
        "\n",
        "#Enter the model in the format Y ~ X\n",
        "\n",
        "model = ols('Parasleep ~ Log_gest', data=sleep).fit()\n",
        "\n",
        "#Print the model summary\n",
        "print(model.summary())"
      ],
      "execution_count": 29,
      "outputs": [
        {
          "output_type": "stream",
          "name": "stdout",
          "text": [
            "                            OLS Regression Results                            \n",
            "==============================================================================\n",
            "Dep. Variable:              Parasleep   R-squared:                       0.328\n",
            "Model:                            OLS   Adj. R-squared:                  0.311\n",
            "Method:                 Least Squares   F-statistic:                     19.49\n",
            "Date:                Wed, 10 Nov 2021   Prob (F-statistic):           7.48e-05\n",
            "Time:                        18:21:02   Log-Likelihood:                -64.550\n",
            "No. Observations:                  42   AIC:                             133.1\n",
            "Df Residuals:                      40   BIC:                             136.6\n",
            "Df Model:                           1                                         \n",
            "Covariance Type:            nonrobust                                         \n",
            "==============================================================================\n",
            "                 coef    std err          t      P>|t|      [0.025      0.975]\n",
            "------------------------------------------------------------------------------\n",
            "Intercept      5.1762      0.763      6.782      0.000       3.634       6.719\n",
            "Log_gest      -0.7489      0.170     -4.414      0.000      -1.092      -0.406\n",
            "==============================================================================\n",
            "Omnibus:                        4.905   Durbin-Watson:                   1.977\n",
            "Prob(Omnibus):                  0.086   Jarque-Bera (JB):                3.709\n",
            "Skew:                           0.531   Prob(JB):                        0.156\n",
            "Kurtosis:                       3.995   Cond. No.                         20.2\n",
            "==============================================================================\n",
            "\n",
            "Warnings:\n",
            "[1] Standard Errors assume that the covariance matrix of the errors is correctly specified.\n"
          ]
        }
      ]
    },
    {
      "cell_type": "code",
      "metadata": {
        "id": "SZF7ksO9oKYY",
        "outputId": "2d597395-9110-4e3a-b2ec-c529f921386d",
        "colab": {
          "base_uri": "https://localhost:8080/"
        }
      },
      "source": [
        "from statsmodels.formula.api import ols\n",
        "\n",
        "#Enter the model in the format Y ~ X\n",
        "\n",
        "model = ols('Parasleep ~ Log_gest + Log_life', data=sleep).fit()\n",
        "\n",
        "#Print the model summary\n",
        "print(model.summary())"
      ],
      "execution_count": 30,
      "outputs": [
        {
          "output_type": "stream",
          "name": "stdout",
          "text": [
            "                            OLS Regression Results                            \n",
            "==============================================================================\n",
            "Dep. Variable:              Parasleep   R-squared:                       0.328\n",
            "Model:                            OLS   Adj. R-squared:                  0.294\n",
            "Method:                 Least Squares   F-statistic:                     9.523\n",
            "Date:                Wed, 10 Nov 2021   Prob (F-statistic):           0.000429\n",
            "Time:                        18:21:26   Log-Likelihood:                -64.533\n",
            "No. Observations:                  42   AIC:                             135.1\n",
            "Df Residuals:                      39   BIC:                             140.3\n",
            "Df Model:                           2                                         \n",
            "Covariance Type:            nonrobust                                         \n",
            "==============================================================================\n",
            "                 coef    std err          t      P>|t|      [0.025      0.975]\n",
            "------------------------------------------------------------------------------\n",
            "Intercept      5.1677      0.774      6.676      0.000       3.602       6.733\n",
            "Log_gest      -0.7234      0.224     -3.230      0.003      -1.176      -0.270\n",
            "Log_life      -0.0416      0.234     -0.178      0.860      -0.514       0.431\n",
            "==============================================================================\n",
            "Omnibus:                        4.905   Durbin-Watson:                   1.974\n",
            "Prob(Omnibus):                  0.086   Jarque-Bera (JB):                3.638\n",
            "Skew:                           0.565   Prob(JB):                        0.162\n",
            "Kurtosis:                       3.896   Cond. No.                         23.3\n",
            "==============================================================================\n",
            "\n",
            "Warnings:\n",
            "[1] Standard Errors assume that the covariance matrix of the errors is correctly specified.\n"
          ]
        }
      ]
    },
    {
      "cell_type": "markdown",
      "metadata": {
        "id": "n5N-OQkVoOkQ"
      },
      "source": [
        "Life expectancy is not associated with dreaming sleep after accounting for gestational time.  \n",
        "\n",
        "Sometimes this happens if you try to add in two features that are highly correlated with each other.  This problem is called multicollinearity.  \n",
        "\n",
        "Let's see if life expectancy and gestational time are correlated."
      ]
    },
    {
      "cell_type": "code",
      "metadata": {
        "id": "WYOrVfxGnSdg",
        "outputId": "1878acec-a2ca-4206-8b3b-ad68ed86224e",
        "colab": {
          "base_uri": "https://localhost:8080/"
        }
      },
      "source": [
        "import scipy.stats as st\n",
        "\n",
        "st.pearsonr(sleep['Life'], sleep['Gest'])"
      ],
      "execution_count": 31,
      "outputs": [
        {
          "output_type": "execute_result",
          "data": {
            "text/plain": [
              "(0.6463886639487773, 3.7623169353017022e-06)"
            ]
          },
          "metadata": {},
          "execution_count": 31
        }
      ]
    },
    {
      "cell_type": "code",
      "metadata": {
        "id": "zZDh7yVkok44",
        "outputId": "fbc91dbd-e066-452c-8a01-8c4a6ca2bf0d",
        "colab": {
          "base_uri": "https://localhost:8080/",
          "height": 369
        }
      },
      "source": [
        "sns.lmplot(x='Life',y='Gest',data=sleep,ci=None);"
      ],
      "execution_count": 34,
      "outputs": [
        {
          "output_type": "display_data",
          "data": {
            "image/png": "[encoded data removed]",
            "text/plain": [
              "<Figure size 360x360 with 1 Axes>"
            ]
          },
          "metadata": {
            "needs_background": "light"
          }
        }
      ]
    },
    {
      "cell_type": "markdown",
      "metadata": {
        "id": "hSVAwFHgntIF"
      },
      "source": [
        "It does look like they **are** correlated with each other.  This means that they aren't really contributing separate information to the model.\n",
        "\n",
        "What do do?  Include the one with the highest predictive ability."
      ]
    },
    {
      "cell_type": "code",
      "metadata": {
        "id": "k6nMi2-Qo_fP",
        "outputId": "161f35aa-3a33-498a-e744-f2d312a3499e",
        "colab": {
          "base_uri": "https://localhost:8080/"
        }
      },
      "source": [
        "from statsmodels.formula.api import ols\n",
        "\n",
        "#Enter the model in the format Y ~ X\n",
        "\n",
        "model = ols('Parasleep ~ Log_life', data=sleep).fit()\n",
        "\n",
        "#Print the model summary\n",
        "print(model.summary())"
      ],
      "execution_count": 35,
      "outputs": [
        {
          "output_type": "stream",
          "name": "stdout",
          "text": [
            "                            OLS Regression Results                            \n",
            "==============================================================================\n",
            "Dep. Variable:              Parasleep   R-squared:                       0.148\n",
            "Model:                            OLS   Adj. R-squared:                  0.127\n",
            "Method:                 Least Squares   F-statistic:                     6.970\n",
            "Date:                Wed, 10 Nov 2021   Prob (F-statistic):             0.0118\n",
            "Time:                        18:23:56   Log-Likelihood:                -69.511\n",
            "No. Observations:                  42   AIC:                             143.0\n",
            "Df Residuals:                      40   BIC:                             146.5\n",
            "Df Model:                           1                                         \n",
            "Covariance Type:            nonrobust                                         \n",
            "==============================================================================\n",
            "                 coef    std err          t      P>|t|      [0.025      0.975]\n",
            "------------------------------------------------------------------------------\n",
            "Intercept      3.2065      0.534      6.006      0.000       2.128       4.285\n",
            "Log_life      -0.5262      0.199     -2.640      0.012      -0.929      -0.123\n",
            "==============================================================================\n",
            "Omnibus:                       12.822   Durbin-Watson:                   1.945\n",
            "Prob(Omnibus):                  0.002   Jarque-Bera (JB):               13.004\n",
            "Skew:                           1.209   Prob(JB):                      0.00150\n",
            "Kurtosis:                       4.261   Cond. No.                         8.01\n",
            "==============================================================================\n",
            "\n",
            "Warnings:\n",
            "[1] Standard Errors assume that the covariance matrix of the errors is correctly specified.\n"
          ]
        }
      ]
    },
    {
      "cell_type": "markdown",
      "metadata": {
        "id": "VgVjbuldlyFx"
      },
      "source": [
        "The r-squared for **log_gest**, while not great, is definitely higher than the r-squared for **log_life**."
      ]
    },
    {
      "cell_type": "code",
      "metadata": {
        "id": "lT0-2zr7GGfO",
        "outputId": "995f191f-bd6d-43f6-ea71-95bac5ae8d62",
        "colab": {
          "base_uri": "https://localhost:8080/"
        }
      },
      "source": [
        "sleep['Danger'].value_counts()"
      ],
      "execution_count": 37,
      "outputs": [
        {
          "output_type": "execute_result",
          "data": {
            "text/plain": [
              "1    11\n",
              "2    10\n",
              "4     9\n",
              "3     7\n",
              "5     5\n",
              "Name: Danger, dtype: int64"
            ]
          },
          "metadata": {},
          "execution_count": 37
        }
      ]
    },
    {
      "cell_type": "markdown",
      "metadata": {
        "id": "EZjY-amCokU1"
      },
      "source": [
        "What about danger index?  - We'll focus on that because it is a feature that has been engineered to combine the exposure and predation index questions.\n",
        "\n",
        "\n"
      ]
    },
    {
      "cell_type": "code",
      "metadata": {
        "id": "-B41m6pfu0sO",
        "outputId": "93d2da9b-0cb7-41b8-84d4-7b5aeea8b56f",
        "colab": {
          "base_uri": "https://localhost:8080/",
          "height": 296
        }
      },
      "source": [
        "#Boxplot of danger index and sleep\n",
        "import seaborn as sns\n",
        "\n",
        "sns.boxplot(x='Danger',y='Parasleep',data=sleep)"
      ],
      "execution_count": 36,
      "outputs": [
        {
          "output_type": "execute_result",
          "data": {
            "text/plain": [
              "<matplotlib.axes._subplots.AxesSubplot at 0x7f12ef01a190>"
            ]
          },
          "metadata": {},
          "execution_count": 36
        },
        {
          "output_type": "display_data",
          "data": {
            "image/png": "[encoded data removed]",
            "text/plain": [
              "<Figure size 432x288 with 1 Axes>"
            ]
          },
          "metadata": {
            "needs_background": "light"
          }
        }
      ]
    },
    {
      "cell_type": "markdown",
      "metadata": {
        "id": "0qYTJvNMlfEY"
      },
      "source": [
        "Definitely seems like **animals in more danger experience less dreaming sleep**"
      ]
    },
    {
      "cell_type": "markdown",
      "metadata": {
        "id": "pqPqiO46u3P-"
      },
      "source": [
        "Again, this would model the relationship of gestational time to dreaming sleep using multiple parallel lines for each danger index"
      ]
    },
    {
      "cell_type": "markdown",
      "metadata": {
        "id": "7qqu7pYntNhm"
      },
      "source": [
        "![400px-Ancova_graph.jpg](data:image/jpeg;base64,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)"
      ]
    },
    {
      "cell_type": "code",
      "metadata": {
        "id": "OTt0WsdHsd2O",
        "outputId": "2c0f5fd0-87a3-47f9-c487-15fab748e44c",
        "colab": {
          "base_uri": "https://localhost:8080/",
          "height": 369
        }
      },
      "source": [
        "sns.lmplot(x='Log_gest',y='Parasleep',hue='Danger',data=sleep,ci=None, fit_reg=False);"
      ],
      "execution_count": 40,
      "outputs": [
        {
          "output_type": "display_data",
          "data": {
            "image/png": "[encoded data removed]",
            "text/plain": [
              "<Figure size 404.875x360 with 1 Axes>"
            ]
          },
          "metadata": {
            "needs_background": "light"
          }
        }
      ]
    },
    {
      "cell_type": "code",
      "metadata": {
        "id": "88qAqAKMoeCa",
        "outputId": "97f181b9-45ba-45c4-811f-1ad993e1c36c",
        "colab": {
          "base_uri": "https://localhost:8080/"
        }
      },
      "source": [
        "from statsmodels.formula.api import ols\n",
        "\n",
        "#Enter the model in the format Y ~ X\n",
        "\n",
        "model = ols('Parasleep ~ Log_gest + C(Danger)', data=sleep).fit()\n",
        "\n",
        "#Print the model summary\n",
        "print(model.summary())\n",
        "\n",
        "\n",
        "#AS WE CAN SEE BELOW, THE DANGER VARIABLE IS DIVIDED FOR EACH CATEGORICAL VALUE IT TAKES\n",
        "# There correlation is strong in each (low p-value, increased adj r squared)\n",
        "# Notice that the FIRST CATEGORY is MISSING b/c it is SET AS THE DEFAULT STATUS"
      ],
      "execution_count": 41,
      "outputs": [
        {
          "output_type": "stream",
          "name": "stdout",
          "text": [
            "                            OLS Regression Results                            \n",
            "==============================================================================\n",
            "Dep. Variable:              Parasleep   R-squared:                       0.557\n",
            "Model:                            OLS   Adj. R-squared:                  0.496\n",
            "Method:                 Least Squares   F-statistic:                     9.071\n",
            "Date:                Wed, 10 Nov 2021   Prob (F-statistic):           1.19e-05\n",
            "Time:                        18:27:41   Log-Likelihood:                -55.763\n",
            "No. Observations:                  42   AIC:                             123.5\n",
            "Df Residuals:                      36   BIC:                             134.0\n",
            "Df Model:                           5                                         \n",
            "Covariance Type:            nonrobust                                         \n",
            "==================================================================================\n",
            "                     coef    std err          t      P>|t|      [0.025      0.975]\n",
            "----------------------------------------------------------------------------------\n",
            "Intercept          5.8263      0.731      7.970      0.000       4.344       7.309\n",
            "C(Danger)[T.2]    -1.2319      0.431     -2.858      0.007      -2.106      -0.358\n",
            "C(Danger)[T.3]    -1.5368      0.479     -3.208      0.003      -2.508      -0.565\n",
            "C(Danger)[T.4]    -1.3989      0.461     -3.032      0.004      -2.334      -0.463\n",
            "C(Danger)[T.5]    -1.8772      0.547     -3.432      0.002      -2.987      -0.768\n",
            "Log_gest          -0.6523      0.160     -4.082      0.000      -0.976      -0.328\n",
            "==============================================================================\n",
            "Omnibus:                        2.732   Durbin-Watson:                   2.201\n",
            "Prob(Omnibus):                  0.255   Jarque-Bera (JB):                1.703\n",
            "Skew:                           0.268   Prob(JB):                        0.427\n",
            "Kurtosis:                       3.828   Cond. No.                         24.5\n",
            "==============================================================================\n",
            "\n",
            "Warnings:\n",
            "[1] Standard Errors assume that the covariance matrix of the errors is correctly specified.\n"
          ]
        }
      ]
    },
    {
      "cell_type": "markdown",
      "metadata": {
        "id": "kRu5w77Mp6Hg"
      },
      "source": [
        "The predictive ability of the model is **improved** by adding in the danger index.  Now the adjusted $R^2$ is **0.496**.  About **0.5**."
      ]
    },
    {
      "cell_type": "markdown",
      "metadata": {
        "id": "muGBUSNjqlRG"
      },
      "source": [
        "We can interpret the coefficient term for each of the danger index categories is the additional amount of dreaming sleep we expect animals in each danger category to get compared to animals in danger category 1.\n",
        "\n",
        "We know that we are comparing to danger catetgory 1 because that's the category that is missing.\n"
      ]
    },
    {
      "cell_type": "markdown",
      "metadata": {
        "id": "Tc8u86P2uckK"
      },
      "source": [
        "Because the coefficients are all negative numbers, we can see that having a higher danger index corresponds to **less dreaming sleep**.\n",
        "\n",
        "**Is it possible that there is an interaction?**"
      ]
    },
    {
      "cell_type": "code",
      "metadata": {
        "id": "qrDuzGlwtZ-7",
        "outputId": "d1dbebbe-9fbd-4b32-d2b3-355d68a8a5e3",
        "colab": {
          "base_uri": "https://localhost:8080/",
          "height": 369
        }
      },
      "source": [
        "sns.lmplot(x='Log_gest',y='Parasleep',hue='Danger',data=sleep,ci=None);"
      ],
      "execution_count": 44,
      "outputs": [
        {
          "output_type": "display_data",
          "data": {
            "image/png": "[encoded data removed]",
            "text/plain": [
              "<Figure size 404.875x360 with 1 Axes>"
            ]
          },
          "metadata": {
            "needs_background": "light"
          }
        }
      ]
    },
    {
      "cell_type": "markdown",
      "metadata": {
        "id": "x_D3TYTUtneB"
      },
      "source": [
        "Looks like gestational time doesn't really matter in danger categories 4 and 5 but it does in 1, 2 and 3 (danger catetgory 4 and 5 are the most at risk)."
      ]
    },
    {
      "cell_type": "code",
      "metadata": {
        "id": "V-IQq1-anxj7",
        "outputId": "98fc0a9c-2c45-47e5-8a55-e734d6fe8880",
        "colab": {
          "base_uri": "https://localhost:8080/"
        }
      },
      "source": [
        "from statsmodels.formula.api import ols\n",
        "\n",
        "#Enter the model in the format Y ~ X\n",
        "\n",
        "model = ols('Parasleep ~ Log_gest + C(Danger) + Log_gest*C(Danger)', data=sleep).fit()\n",
        "\n",
        "#Print the model summary\n",
        "print(model.summary())\n",
        "\n",
        "#WE SEE THAT THE INTERACTION IS NOT UNIFORM ACROSS ALL CATEGORIES"
      ],
      "execution_count": 45,
      "outputs": [
        {
          "output_type": "stream",
          "name": "stdout",
          "text": [
            "                            OLS Regression Results                            \n",
            "==============================================================================\n",
            "Dep. Variable:              Parasleep   R-squared:                       0.676\n",
            "Model:                            OLS   Adj. R-squared:                  0.585\n",
            "Method:                 Least Squares   F-statistic:                     7.417\n",
            "Date:                Wed, 10 Nov 2021   Prob (F-statistic):           9.21e-06\n",
            "Time:                        18:33:31   Log-Likelihood:                -49.219\n",
            "No. Observations:                  42   AIC:                             118.4\n",
            "Df Residuals:                      32   BIC:                             135.8\n",
            "Df Model:                           9                                         \n",
            "Covariance Type:            nonrobust                                         \n",
            "===========================================================================================\n",
            "                              coef    std err          t      P>|t|      [0.025      0.975]\n",
            "-------------------------------------------------------------------------------------------\n",
            "Intercept                   8.3843      1.099      7.626      0.000       6.145      10.624\n",
            "C(Danger)[T.2]             -4.4445      1.716     -2.591      0.014      -7.939      -0.950\n",
            "C(Danger)[T.3]             -3.6134      1.784     -2.026      0.051      -7.247       0.020\n",
            "C(Danger)[T.4]             -7.1942      1.972     -3.648      0.001     -11.212      -3.177\n",
            "C(Danger)[T.5]             -7.3556      2.646     -2.780      0.009     -12.746      -1.965\n",
            "Log_gest                   -1.2644      0.255     -4.958      0.000      -1.784      -0.745\n",
            "Log_gest:C(Danger)[T.2]     0.7723      0.405      1.906      0.066      -0.053       1.598\n",
            "Log_gest:C(Danger)[T.3]     0.4881      0.434      1.125      0.269      -0.396       1.372\n",
            "Log_gest:C(Danger)[T.4]     1.2619      0.412      3.065      0.004       0.423       2.101\n",
            "Log_gest:C(Danger)[T.5]     1.1984      0.540      2.217      0.034       0.097       2.299\n",
            "==============================================================================\n",
            "Omnibus:                        4.384   Durbin-Watson:                   2.282\n",
            "Prob(Omnibus):                  0.112   Jarque-Bera (JB):                3.713\n",
            "Skew:                          -0.332   Prob(JB):                        0.156\n",
            "Kurtosis:                       4.297   Cond. No.                         112.\n",
            "==============================================================================\n",
            "\n",
            "Warnings:\n",
            "[1] Standard Errors assume that the covariance matrix of the errors is correctly specified.\n"
          ]
        }
      ]
    },
    {
      "cell_type": "code",
      "metadata": {
        "id": "mUlhgEvcI_BJ",
        "outputId": "f1f8408d-f4c7-425e-e192-877024b6277d",
        "colab": {
          "base_uri": "https://localhost:8080/",
          "height": 204
        }
      },
      "source": [
        "pd.get_dummies(sleep['Danger']).head() #THIS IS WHAT IS HAPPENING TO CATEGORICAL VARIABLES BEHIND THE SCENES"
      ],
      "execution_count": 49,
      "outputs": [
        {
          "output_type": "execute_result",
          "data": {
            "text/html": [
              "<div>\n",
              "<style scoped>\n",
              "    .dataframe tbody tr th:only-of-type {\n",
              "        vertical-align: middle;\n",
              "    }\n",
              "\n",
              "    .dataframe tbody tr th {\n",
              "        vertical-align: top;\n",
              "    }\n",
              "\n",
              "    .dataframe thead th {\n",
              "        text-align: right;\n",
              "    }\n",
              "</style>\n",
              "<table border=\"1\" class=\"dataframe\">\n",
              "  <thead>\n",
              "    <tr style=\"text-align: right;\">\n",
              "      <th></th>\n",
              "      <th>1</th>\n",
              "      <th>2</th>\n",
              "      <th>3</th>\n",
              "      <th>4</th>\n",
              "      <th>5</th>\n",
              "    </tr>\n",
              "  </thead>\n",
              "  <tbody>\n",
              "    <tr>\n",
              "      <th>0</th>\n",
              "      <td>0</td>\n",
              "      <td>0</td>\n",
              "      <td>1</td>\n",
              "      <td>0</td>\n",
              "      <td>0</td>\n",
              "    </tr>\n",
              "    <tr>\n",
              "      <th>1</th>\n",
              "      <td>0</td>\n",
              "      <td>0</td>\n",
              "      <td>0</td>\n",
              "      <td>1</td>\n",
              "      <td>0</td>\n",
              "    </tr>\n",
              "    <tr>\n",
              "      <th>2</th>\n",
              "      <td>0</td>\n",
              "      <td>0</td>\n",
              "      <td>0</td>\n",
              "      <td>1</td>\n",
              "      <td>0</td>\n",
              "    </tr>\n",
              "    <tr>\n",
              "      <th>3</th>\n",
              "      <td>1</td>\n",
              "      <td>0</td>\n",
              "      <td>0</td>\n",
              "      <td>0</td>\n",
              "      <td>0</td>\n",
              "    </tr>\n",
              "    <tr>\n",
              "      <th>4</th>\n",
              "      <td>0</td>\n",
              "      <td>0</td>\n",
              "      <td>0</td>\n",
              "      <td>1</td>\n",
              "      <td>0</td>\n",
              "    </tr>\n",
              "  </tbody>\n",
              "</table>\n",
              "</div>"
            ],
            "text/plain": [
              "   1  2  3  4  5\n",
              "0  0  0  1  0  0\n",
              "1  0  0  0  1  0\n",
              "2  0  0  0  1  0\n",
              "3  1  0  0  0  0\n",
              "4  0  0  0  1  0"
            ]
          },
          "metadata": {},
          "execution_count": 49
        }
      ]
    },
    {
      "cell_type": "markdown",
      "metadata": {
        "id": "K4mTNE_atEDn"
      },
      "source": [
        "That's a lot of output, but let's look at a couple different things.\n",
        "\n",
        "1. The R-squared _____________\n",
        "\n",
        "2. We don't have to interpret every single p-value in our model results.  It can be enough to say that gestational time is important, danger level is important and that gestational time has a different impact on dreaming sleep for mammals that experience different amounts of danger.\n",
        "\n",
        "3. What's going on with gestational time?  _________________"
      ]
    },
    {
      "cell_type": "markdown",
      "metadata": {
        "id": "XTc00XaM4bHX"
      },
      "source": [
        "###One final word of warning:"
      ]
    },
    {
      "cell_type": "markdown",
      "metadata": {
        "id": "bLhdLuUu1T2k"
      },
      "source": [
        "![extrapolating (1).png](data:image/png;base64,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)"
      ]
    },
    {
      "cell_type": "markdown",
      "metadata": {
        "id": "lS-CCuA30iBF"
      },
      "source": [
        "## Now with SKLearn"
      ]
    },
    {
      "cell_type": "code",
      "metadata": {
        "id": "ykLWL2q50iBF"
      },
      "source": [
        "from sklearn.linear_model import LinearRegression"
      ],
      "execution_count": null,
      "outputs": []
    },
    {
      "cell_type": "code",
      "metadata": {
        "id": "Pw5AQfwq0iBG"
      },
      "source": [
        ""
      ],
      "execution_count": null,
      "outputs": []
    }
  ]
}