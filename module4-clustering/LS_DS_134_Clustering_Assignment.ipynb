{
  "nbformat": 4,
  "nbformat_minor": 0,
  "metadata": {
    "colab": {
      "name": "LS_DS_134_Clustering_Assignment.ipynb",
      "provenance": [],
      "collapsed_sections": []
    },
    "kernelspec": {
      "name": "python3",
      "display_name": "Python 3"
    }
  },
  "cells": [
    {
      "cell_type": "markdown",
      "metadata": {
        "id": "y-3rVFtGLMJM",
        "colab_type": "text"
      },
      "source": [
        "# K-Means Clustering"
      ]
    },
    {
      "cell_type": "markdown",
      "metadata": {
        "id": "_VS3FFSFLR3a",
        "colab_type": "text"
      },
      "source": [
        "# 1) Use the \"Breast Cancer Wisconsin (Diagnostic) Data Set\" from Kaggle to try and cluster types of cancer cells. \n",
        "\n",
        "Here's the original dataset for your reference:\n",
        "\n",
        "<https://www.kaggle.com/uciml/breast-cancer-wisconsin-data>"
      ]
    },
    {
      "cell_type": "markdown",
      "metadata": {
        "id": "899RK3bBn4OE",
        "colab_type": "text"
      },
      "source": [
        "## This is a supervised learning dataset\n",
        "\n",
        "(Because it has **labels** - The \"diagnosis\" column.)"
      ]
    },
    {
      "cell_type": "code",
      "metadata": {
        "id": "ws5R9X6hLJQ2",
        "colab_type": "code",
        "outputId": "4f42b1a4-825e-4f28-9966-8f0aafc6e896",
        "colab": {
          "base_uri": "https://localhost:8080/",
          "height": 263
        }
      },
      "source": [
        "import pandas as pd\n",
        "import numpy as np\n",
        "import matplotlib.pyplot as plt\n",
        "from sklearn.decomposition import PCA # You don't necessarily have to use this\n",
        "from sklearn.cluster import KMeans # You don't necessarily have to use this\n",
        "from sklearn.preprocessing import StandardScaler # You don't necessarily have to use this\n",
        "\n",
        "df = pd.read_csv(\"https://raw.githubusercontent.com/ryanleeallred/datasets/master/Cancer_Cells.csv\")\n",
        "print(df.shape)\n",
        "df.head()"
      ],
      "execution_count": 1,
      "outputs": [
        {
          "output_type": "stream",
          "text": [
            "(569, 33)\n"
          ],
          "name": "stdout"
        },
        {
          "output_type": "execute_result",
          "data": {
            "text/html": [
              "<div>\n",
              "<style scoped>\n",
              "    .dataframe tbody tr th:only-of-type {\n",
              "        vertical-align: middle;\n",
              "    }\n",
              "\n",
              "    .dataframe tbody tr th {\n",
              "        vertical-align: top;\n",
              "    }\n",
              "\n",
              "    .dataframe thead th {\n",
              "        text-align: right;\n",
              "    }\n",
              "</style>\n",
              "<table border=\"1\" class=\"dataframe\">\n",
              "  <thead>\n",
              "    <tr style=\"text-align: right;\">\n",
              "      <th></th>\n",
              "      <th>id</th>\n",
              "      <th>diagnosis</th>\n",
              "      <th>radius_mean</th>\n",
              "      <th>texture_mean</th>\n",
              "      <th>perimeter_mean</th>\n",
              "      <th>area_mean</th>\n",
              "      <th>smoothness_mean</th>\n",
              "      <th>compactness_mean</th>\n",
              "      <th>concavity_mean</th>\n",
              "      <th>concave points_mean</th>\n",
              "      <th>symmetry_mean</th>\n",
              "      <th>fractal_dimension_mean</th>\n",
              "      <th>radius_se</th>\n",
              "      <th>texture_se</th>\n",
              "      <th>perimeter_se</th>\n",
              "      <th>area_se</th>\n",
              "      <th>smoothness_se</th>\n",
              "      <th>compactness_se</th>\n",
              "      <th>concavity_se</th>\n",
              "      <th>concave points_se</th>\n",
              "      <th>symmetry_se</th>\n",
              "      <th>fractal_dimension_se</th>\n",
              "      <th>radius_worst</th>\n",
              "      <th>texture_worst</th>\n",
              "      <th>perimeter_worst</th>\n",
              "      <th>area_worst</th>\n",
              "      <th>smoothness_worst</th>\n",
              "      <th>compactness_worst</th>\n",
              "      <th>concavity_worst</th>\n",
              "      <th>concave points_worst</th>\n",
              "      <th>symmetry_worst</th>\n",
              "      <th>fractal_dimension_worst</th>\n",
              "      <th>Unnamed: 32</th>\n",
              "    </tr>\n",
              "  </thead>\n",
              "  <tbody>\n",
              "    <tr>\n",
              "      <th>0</th>\n",
              "      <td>842302</td>\n",
              "      <td>M</td>\n",
              "      <td>17.99</td>\n",
              "      <td>10.38</td>\n",
              "      <td>122.80</td>\n",
              "      <td>1001.0</td>\n",
              "      <td>0.11840</td>\n",
              "      <td>0.27760</td>\n",
              "      <td>0.3001</td>\n",
              "      <td>0.14710</td>\n",
              "      <td>0.2419</td>\n",
              "      <td>0.07871</td>\n",
              "      <td>1.0950</td>\n",
              "      <td>0.9053</td>\n",
              "      <td>8.589</td>\n",
              "      <td>153.40</td>\n",
              "      <td>0.006399</td>\n",
              "      <td>0.04904</td>\n",
              "      <td>0.05373</td>\n",
              "      <td>0.01587</td>\n",
              "      <td>0.03003</td>\n",
              "      <td>0.006193</td>\n",
              "      <td>25.38</td>\n",
              "      <td>17.33</td>\n",
              "      <td>184.60</td>\n",
              "      <td>2019.0</td>\n",
              "      <td>0.1622</td>\n",
              "      <td>0.6656</td>\n",
              "      <td>0.7119</td>\n",
              "      <td>0.2654</td>\n",
              "      <td>0.4601</td>\n",
              "      <td>0.11890</td>\n",
              "      <td>NaN</td>\n",
              "    </tr>\n",
              "    <tr>\n",
              "      <th>1</th>\n",
              "      <td>842517</td>\n",
              "      <td>M</td>\n",
              "      <td>20.57</td>\n",
              "      <td>17.77</td>\n",
              "      <td>132.90</td>\n",
              "      <td>1326.0</td>\n",
              "      <td>0.08474</td>\n",
              "      <td>0.07864</td>\n",
              "      <td>0.0869</td>\n",
              "      <td>0.07017</td>\n",
              "      <td>0.1812</td>\n",
              "      <td>0.05667</td>\n",
              "      <td>0.5435</td>\n",
              "      <td>0.7339</td>\n",
              "      <td>3.398</td>\n",
              "      <td>74.08</td>\n",
              "      <td>0.005225</td>\n",
              "      <td>0.01308</td>\n",
              "      <td>0.01860</td>\n",
              "      <td>0.01340</td>\n",
              "      <td>0.01389</td>\n",
              "      <td>0.003532</td>\n",
              "      <td>24.99</td>\n",
              "      <td>23.41</td>\n",
              "      <td>158.80</td>\n",
              "      <td>1956.0</td>\n",
              "      <td>0.1238</td>\n",
              "      <td>0.1866</td>\n",
              "      <td>0.2416</td>\n",
              "      <td>0.1860</td>\n",
              "      <td>0.2750</td>\n",
              "      <td>0.08902</td>\n",
              "      <td>NaN</td>\n",
              "    </tr>\n",
              "    <tr>\n",
              "      <th>2</th>\n",
              "      <td>84300903</td>\n",
              "      <td>M</td>\n",
              "      <td>19.69</td>\n",
              "      <td>21.25</td>\n",
              "      <td>130.00</td>\n",
              "      <td>1203.0</td>\n",
              "      <td>0.10960</td>\n",
              "      <td>0.15990</td>\n",
              "      <td>0.1974</td>\n",
              "      <td>0.12790</td>\n",
              "      <td>0.2069</td>\n",
              "      <td>0.05999</td>\n",
              "      <td>0.7456</td>\n",
              "      <td>0.7869</td>\n",
              "      <td>4.585</td>\n",
              "      <td>94.03</td>\n",
              "      <td>0.006150</td>\n",
              "      <td>0.04006</td>\n",
              "      <td>0.03832</td>\n",
              "      <td>0.02058</td>\n",
              "      <td>0.02250</td>\n",
              "      <td>0.004571</td>\n",
              "      <td>23.57</td>\n",
              "      <td>25.53</td>\n",
              "      <td>152.50</td>\n",
              "      <td>1709.0</td>\n",
              "      <td>0.1444</td>\n",
              "      <td>0.4245</td>\n",
              "      <td>0.4504</td>\n",
              "      <td>0.2430</td>\n",
              "      <td>0.3613</td>\n",
              "      <td>0.08758</td>\n",
              "      <td>NaN</td>\n",
              "    </tr>\n",
              "    <tr>\n",
              "      <th>3</th>\n",
              "      <td>84348301</td>\n",
              "      <td>M</td>\n",
              "      <td>11.42</td>\n",
              "      <td>20.38</td>\n",
              "      <td>77.58</td>\n",
              "      <td>386.1</td>\n",
              "      <td>0.14250</td>\n",
              "      <td>0.28390</td>\n",
              "      <td>0.2414</td>\n",
              "      <td>0.10520</td>\n",
              "      <td>0.2597</td>\n",
              "      <td>0.09744</td>\n",
              "      <td>0.4956</td>\n",
              "      <td>1.1560</td>\n",
              "      <td>3.445</td>\n",
              "      <td>27.23</td>\n",
              "      <td>0.009110</td>\n",
              "      <td>0.07458</td>\n",
              "      <td>0.05661</td>\n",
              "      <td>0.01867</td>\n",
              "      <td>0.05963</td>\n",
              "      <td>0.009208</td>\n",
              "      <td>14.91</td>\n",
              "      <td>26.50</td>\n",
              "      <td>98.87</td>\n",
              "      <td>567.7</td>\n",
              "      <td>0.2098</td>\n",
              "      <td>0.8663</td>\n",
              "      <td>0.6869</td>\n",
              "      <td>0.2575</td>\n",
              "      <td>0.6638</td>\n",
              "      <td>0.17300</td>\n",
              "      <td>NaN</td>\n",
              "    </tr>\n",
              "    <tr>\n",
              "      <th>4</th>\n",
              "      <td>84358402</td>\n",
              "      <td>M</td>\n",
              "      <td>20.29</td>\n",
              "      <td>14.34</td>\n",
              "      <td>135.10</td>\n",
              "      <td>1297.0</td>\n",
              "      <td>0.10030</td>\n",
              "      <td>0.13280</td>\n",
              "      <td>0.1980</td>\n",
              "      <td>0.10430</td>\n",
              "      <td>0.1809</td>\n",
              "      <td>0.05883</td>\n",
              "      <td>0.7572</td>\n",
              "      <td>0.7813</td>\n",
              "      <td>5.438</td>\n",
              "      <td>94.44</td>\n",
              "      <td>0.011490</td>\n",
              "      <td>0.02461</td>\n",
              "      <td>0.05688</td>\n",
              "      <td>0.01885</td>\n",
              "      <td>0.01756</td>\n",
              "      <td>0.005115</td>\n",
              "      <td>22.54</td>\n",
              "      <td>16.67</td>\n",
              "      <td>152.20</td>\n",
              "      <td>1575.0</td>\n",
              "      <td>0.1374</td>\n",
              "      <td>0.2050</td>\n",
              "      <td>0.4000</td>\n",
              "      <td>0.1625</td>\n",
              "      <td>0.2364</td>\n",
              "      <td>0.07678</td>\n",
              "      <td>NaN</td>\n",
              "    </tr>\n",
              "  </tbody>\n",
              "</table>\n",
              "</div>"
            ],
            "text/plain": [
              "         id diagnosis  ...  fractal_dimension_worst  Unnamed: 32\n",
              "0    842302         M  ...                  0.11890          NaN\n",
              "1    842517         M  ...                  0.08902          NaN\n",
              "2  84300903         M  ...                  0.08758          NaN\n",
              "3  84348301         M  ...                  0.17300          NaN\n",
              "4  84358402         M  ...                  0.07678          NaN\n",
              "\n",
              "[5 rows x 33 columns]"
            ]
          },
          "metadata": {
            "tags": []
          },
          "execution_count": 1
        }
      ]
    },
    {
      "cell_type": "markdown",
      "metadata": {
        "id": "IHDDqaU-ove4",
        "colab_type": "text"
      },
      "source": [
        "## Now it's an unsupervised learning dataset\n",
        "\n",
        "(Because we've removed the diagnosis label) - Use this version."
      ]
    },
    {
      "cell_type": "code",
      "metadata": {
        "id": "86MHoPJon_aC",
        "colab_type": "code",
        "outputId": "fe3f4a82-31e3-419f-f706-81f9fadaba1f",
        "colab": {
          "base_uri": "https://localhost:8080/",
          "height": 244
        }
      },
      "source": [
        "df = df.drop('diagnosis', axis=1)\n",
        "df.head()"
      ],
      "execution_count": 2,
      "outputs": [
        {
          "output_type": "execute_result",
          "data": {
            "text/html": [
              "<div>\n",
              "<style scoped>\n",
              "    .dataframe tbody tr th:only-of-type {\n",
              "        vertical-align: middle;\n",
              "    }\n",
              "\n",
              "    .dataframe tbody tr th {\n",
              "        vertical-align: top;\n",
              "    }\n",
              "\n",
              "    .dataframe thead th {\n",
              "        text-align: right;\n",
              "    }\n",
              "</style>\n",
              "<table border=\"1\" class=\"dataframe\">\n",
              "  <thead>\n",
              "    <tr style=\"text-align: right;\">\n",
              "      <th></th>\n",
              "      <th>id</th>\n",
              "      <th>radius_mean</th>\n",
              "      <th>texture_mean</th>\n",
              "      <th>perimeter_mean</th>\n",
              "      <th>area_mean</th>\n",
              "      <th>smoothness_mean</th>\n",
              "      <th>compactness_mean</th>\n",
              "      <th>concavity_mean</th>\n",
              "      <th>concave points_mean</th>\n",
              "      <th>symmetry_mean</th>\n",
              "      <th>fractal_dimension_mean</th>\n",
              "      <th>radius_se</th>\n",
              "      <th>texture_se</th>\n",
              "      <th>perimeter_se</th>\n",
              "      <th>area_se</th>\n",
              "      <th>smoothness_se</th>\n",
              "      <th>compactness_se</th>\n",
              "      <th>concavity_se</th>\n",
              "      <th>concave points_se</th>\n",
              "      <th>symmetry_se</th>\n",
              "      <th>fractal_dimension_se</th>\n",
              "      <th>radius_worst</th>\n",
              "      <th>texture_worst</th>\n",
              "      <th>perimeter_worst</th>\n",
              "      <th>area_worst</th>\n",
              "      <th>smoothness_worst</th>\n",
              "      <th>compactness_worst</th>\n",
              "      <th>concavity_worst</th>\n",
              "      <th>concave points_worst</th>\n",
              "      <th>symmetry_worst</th>\n",
              "      <th>fractal_dimension_worst</th>\n",
              "      <th>Unnamed: 32</th>\n",
              "    </tr>\n",
              "  </thead>\n",
              "  <tbody>\n",
              "    <tr>\n",
              "      <th>0</th>\n",
              "      <td>842302</td>\n",
              "      <td>17.99</td>\n",
              "      <td>10.38</td>\n",
              "      <td>122.80</td>\n",
              "      <td>1001.0</td>\n",
              "      <td>0.11840</td>\n",
              "      <td>0.27760</td>\n",
              "      <td>0.3001</td>\n",
              "      <td>0.14710</td>\n",
              "      <td>0.2419</td>\n",
              "      <td>0.07871</td>\n",
              "      <td>1.0950</td>\n",
              "      <td>0.9053</td>\n",
              "      <td>8.589</td>\n",
              "      <td>153.40</td>\n",
              "      <td>0.006399</td>\n",
              "      <td>0.04904</td>\n",
              "      <td>0.05373</td>\n",
              "      <td>0.01587</td>\n",
              "      <td>0.03003</td>\n",
              "      <td>0.006193</td>\n",
              "      <td>25.38</td>\n",
              "      <td>17.33</td>\n",
              "      <td>184.60</td>\n",
              "      <td>2019.0</td>\n",
              "      <td>0.1622</td>\n",
              "      <td>0.6656</td>\n",
              "      <td>0.7119</td>\n",
              "      <td>0.2654</td>\n",
              "      <td>0.4601</td>\n",
              "      <td>0.11890</td>\n",
              "      <td>NaN</td>\n",
              "    </tr>\n",
              "    <tr>\n",
              "      <th>1</th>\n",
              "      <td>842517</td>\n",
              "      <td>20.57</td>\n",
              "      <td>17.77</td>\n",
              "      <td>132.90</td>\n",
              "      <td>1326.0</td>\n",
              "      <td>0.08474</td>\n",
              "      <td>0.07864</td>\n",
              "      <td>0.0869</td>\n",
              "      <td>0.07017</td>\n",
              "      <td>0.1812</td>\n",
              "      <td>0.05667</td>\n",
              "      <td>0.5435</td>\n",
              "      <td>0.7339</td>\n",
              "      <td>3.398</td>\n",
              "      <td>74.08</td>\n",
              "      <td>0.005225</td>\n",
              "      <td>0.01308</td>\n",
              "      <td>0.01860</td>\n",
              "      <td>0.01340</td>\n",
              "      <td>0.01389</td>\n",
              "      <td>0.003532</td>\n",
              "      <td>24.99</td>\n",
              "      <td>23.41</td>\n",
              "      <td>158.80</td>\n",
              "      <td>1956.0</td>\n",
              "      <td>0.1238</td>\n",
              "      <td>0.1866</td>\n",
              "      <td>0.2416</td>\n",
              "      <td>0.1860</td>\n",
              "      <td>0.2750</td>\n",
              "      <td>0.08902</td>\n",
              "      <td>NaN</td>\n",
              "    </tr>\n",
              "    <tr>\n",
              "      <th>2</th>\n",
              "      <td>84300903</td>\n",
              "      <td>19.69</td>\n",
              "      <td>21.25</td>\n",
              "      <td>130.00</td>\n",
              "      <td>1203.0</td>\n",
              "      <td>0.10960</td>\n",
              "      <td>0.15990</td>\n",
              "      <td>0.1974</td>\n",
              "      <td>0.12790</td>\n",
              "      <td>0.2069</td>\n",
              "      <td>0.05999</td>\n",
              "      <td>0.7456</td>\n",
              "      <td>0.7869</td>\n",
              "      <td>4.585</td>\n",
              "      <td>94.03</td>\n",
              "      <td>0.006150</td>\n",
              "      <td>0.04006</td>\n",
              "      <td>0.03832</td>\n",
              "      <td>0.02058</td>\n",
              "      <td>0.02250</td>\n",
              "      <td>0.004571</td>\n",
              "      <td>23.57</td>\n",
              "      <td>25.53</td>\n",
              "      <td>152.50</td>\n",
              "      <td>1709.0</td>\n",
              "      <td>0.1444</td>\n",
              "      <td>0.4245</td>\n",
              "      <td>0.4504</td>\n",
              "      <td>0.2430</td>\n",
              "      <td>0.3613</td>\n",
              "      <td>0.08758</td>\n",
              "      <td>NaN</td>\n",
              "    </tr>\n",
              "    <tr>\n",
              "      <th>3</th>\n",
              "      <td>84348301</td>\n",
              "      <td>11.42</td>\n",
              "      <td>20.38</td>\n",
              "      <td>77.58</td>\n",
              "      <td>386.1</td>\n",
              "      <td>0.14250</td>\n",
              "      <td>0.28390</td>\n",
              "      <td>0.2414</td>\n",
              "      <td>0.10520</td>\n",
              "      <td>0.2597</td>\n",
              "      <td>0.09744</td>\n",
              "      <td>0.4956</td>\n",
              "      <td>1.1560</td>\n",
              "      <td>3.445</td>\n",
              "      <td>27.23</td>\n",
              "      <td>0.009110</td>\n",
              "      <td>0.07458</td>\n",
              "      <td>0.05661</td>\n",
              "      <td>0.01867</td>\n",
              "      <td>0.05963</td>\n",
              "      <td>0.009208</td>\n",
              "      <td>14.91</td>\n",
              "      <td>26.50</td>\n",
              "      <td>98.87</td>\n",
              "      <td>567.7</td>\n",
              "      <td>0.2098</td>\n",
              "      <td>0.8663</td>\n",
              "      <td>0.6869</td>\n",
              "      <td>0.2575</td>\n",
              "      <td>0.6638</td>\n",
              "      <td>0.17300</td>\n",
              "      <td>NaN</td>\n",
              "    </tr>\n",
              "    <tr>\n",
              "      <th>4</th>\n",
              "      <td>84358402</td>\n",
              "      <td>20.29</td>\n",
              "      <td>14.34</td>\n",
              "      <td>135.10</td>\n",
              "      <td>1297.0</td>\n",
              "      <td>0.10030</td>\n",
              "      <td>0.13280</td>\n",
              "      <td>0.1980</td>\n",
              "      <td>0.10430</td>\n",
              "      <td>0.1809</td>\n",
              "      <td>0.05883</td>\n",
              "      <td>0.7572</td>\n",
              "      <td>0.7813</td>\n",
              "      <td>5.438</td>\n",
              "      <td>94.44</td>\n",
              "      <td>0.011490</td>\n",
              "      <td>0.02461</td>\n",
              "      <td>0.05688</td>\n",
              "      <td>0.01885</td>\n",
              "      <td>0.01756</td>\n",
              "      <td>0.005115</td>\n",
              "      <td>22.54</td>\n",
              "      <td>16.67</td>\n",
              "      <td>152.20</td>\n",
              "      <td>1575.0</td>\n",
              "      <td>0.1374</td>\n",
              "      <td>0.2050</td>\n",
              "      <td>0.4000</td>\n",
              "      <td>0.1625</td>\n",
              "      <td>0.2364</td>\n",
              "      <td>0.07678</td>\n",
              "      <td>NaN</td>\n",
              "    </tr>\n",
              "  </tbody>\n",
              "</table>\n",
              "</div>"
            ],
            "text/plain": [
              "         id  radius_mean  ...  fractal_dimension_worst  Unnamed: 32\n",
              "0    842302        17.99  ...                  0.11890          NaN\n",
              "1    842517        20.57  ...                  0.08902          NaN\n",
              "2  84300903        19.69  ...                  0.08758          NaN\n",
              "3  84348301        11.42  ...                  0.17300          NaN\n",
              "4  84358402        20.29  ...                  0.07678          NaN\n",
              "\n",
              "[5 rows x 32 columns]"
            ]
          },
          "metadata": {
            "tags": []
          },
          "execution_count": 2
        }
      ]
    },
    {
      "cell_type": "markdown",
      "metadata": {
        "id": "rskC80k3OKMA",
        "colab_type": "text"
      },
      "source": [
        "## Let's do it!\n",
        "\n",
        "- You might want to do some data exploration to see if you can find specific columns that will help you find distinct clusters of cells\n",
        "- You might want to use the elbow method to decide on the number of clusters to use.\n"
      ]
    },
    {
      "cell_type": "code",
      "metadata": {
        "id": "XTinZ6MaSUNi",
        "colab_type": "code",
        "colab": {
          "base_uri": "https://localhost:8080/",
          "height": 646
        },
        "outputId": "39c0d26c-2df8-4546-f88b-9b36c1d0462d"
      },
      "source": [
        "# Check for nulls\n",
        "df.isnull().sum()"
      ],
      "execution_count": 3,
      "outputs": [
        {
          "output_type": "execute_result",
          "data": {
            "text/plain": [
              "id                           0\n",
              "radius_mean                  0\n",
              "texture_mean                 0\n",
              "perimeter_mean               0\n",
              "area_mean                    0\n",
              "smoothness_mean              0\n",
              "compactness_mean             0\n",
              "concavity_mean               0\n",
              "concave points_mean          0\n",
              "symmetry_mean                0\n",
              "fractal_dimension_mean       0\n",
              "radius_se                    0\n",
              "texture_se                   0\n",
              "perimeter_se                 0\n",
              "area_se                      0\n",
              "smoothness_se                0\n",
              "compactness_se               0\n",
              "concavity_se                 0\n",
              "concave points_se            0\n",
              "symmetry_se                  0\n",
              "fractal_dimension_se         0\n",
              "radius_worst                 0\n",
              "texture_worst                0\n",
              "perimeter_worst              0\n",
              "area_worst                   0\n",
              "smoothness_worst             0\n",
              "compactness_worst            0\n",
              "concavity_worst              0\n",
              "concave points_worst         0\n",
              "symmetry_worst               0\n",
              "fractal_dimension_worst      0\n",
              "Unnamed: 32                569\n",
              "dtype: int64"
            ]
          },
          "metadata": {
            "tags": []
          },
          "execution_count": 3
        }
      ]
    },
    {
      "cell_type": "code",
      "metadata": {
        "id": "TylAqg-rSd4o",
        "colab_type": "code",
        "colab": {
          "base_uri": "https://localhost:8080/",
          "height": 627
        },
        "outputId": "7fea2f5c-f06b-4fee-98bd-15366904a315"
      },
      "source": [
        "df = df.drop('Unnamed: 32', axis=1)\n",
        "df.isnull().sum()"
      ],
      "execution_count": 4,
      "outputs": [
        {
          "output_type": "execute_result",
          "data": {
            "text/plain": [
              "id                         0\n",
              "radius_mean                0\n",
              "texture_mean               0\n",
              "perimeter_mean             0\n",
              "area_mean                  0\n",
              "smoothness_mean            0\n",
              "compactness_mean           0\n",
              "concavity_mean             0\n",
              "concave points_mean        0\n",
              "symmetry_mean              0\n",
              "fractal_dimension_mean     0\n",
              "radius_se                  0\n",
              "texture_se                 0\n",
              "perimeter_se               0\n",
              "area_se                    0\n",
              "smoothness_se              0\n",
              "compactness_se             0\n",
              "concavity_se               0\n",
              "concave points_se          0\n",
              "symmetry_se                0\n",
              "fractal_dimension_se       0\n",
              "radius_worst               0\n",
              "texture_worst              0\n",
              "perimeter_worst            0\n",
              "area_worst                 0\n",
              "smoothness_worst           0\n",
              "compactness_worst          0\n",
              "concavity_worst            0\n",
              "concave points_worst       0\n",
              "symmetry_worst             0\n",
              "fractal_dimension_worst    0\n",
              "dtype: int64"
            ]
          },
          "metadata": {
            "tags": []
          },
          "execution_count": 4
        }
      ]
    },
    {
      "cell_type": "code",
      "metadata": {
        "id": "U92Y3jNKPpjJ",
        "colab_type": "code",
        "colab": {
          "base_uri": "https://localhost:8080/",
          "height": 382
        },
        "outputId": "d6e5b887-4237-4170-c532-604e8820b3c7"
      },
      "source": [
        "# See if anything jumps out of the correlation heatmap\n",
        "import seaborn as sns\n",
        "sns.heatmap(df.corr(), robust=True);"
      ],
      "execution_count": 5,
      "outputs": [
        {
          "output_type": "display_data",
          "data": {
            "image/png": "[encoded data removed]",
            "text/plain": [
              "<Figure size 432x288 with 2 Axes>"
            ]
          },
          "metadata": {
            "tags": []
          }
        }
      ]
    },
    {
      "cell_type": "markdown",
      "metadata": {
        "id": "TUcQkdDxS8tS",
        "colab_type": "text"
      },
      "source": [
        "Too many squares for me to learn anything super useful. Data looks to be grouped by [texture, area, compactness, concave_points, and fractal_dimension], each having a [mean, se, and worst] category. I don't see perimeter, smoothness, or a few others in the plot, but it looks like at least 10 groups to work with from the get-go."
      ]
    },
    {
      "cell_type": "code",
      "metadata": {
        "id": "kLIwy1rtUEeP",
        "colab_type": "code",
        "colab": {
          "base_uri": "https://localhost:8080/",
          "height": 295
        },
        "outputId": "64f1f7b4-3fe0-4e7e-dac0-0b7b8785a45f"
      },
      "source": [
        "# Make an elbow plot with the help of code from the lecture notebook\n",
        "sum_of_squared_distances = []\n",
        "K = range(1,15)\n",
        "for k in K:\n",
        "    km = KMeans(n_clusters=k)\n",
        "    km = km.fit(df)\n",
        "    sum_of_squared_distances.append(km.inertia_)\n",
        "\n",
        "plt.plot(K, sum_of_squared_distances, 'bx-')\n",
        "plt.xlabel('k')\n",
        "plt.ylabel('Sum_of_squared_distances')\n",
        "plt.title('Elbow Method For Optimal k')\n",
        "plt.show()"
      ],
      "execution_count": 6,
      "outputs": [
        {
          "output_type": "display_data",
          "data": {
            "image/png": "[encoded data removed]",
            "text/plain": [
              "<Figure size 432x288 with 1 Axes>"
            ]
          },
          "metadata": {
            "tags": []
          }
        }
      ]
    },
    {
      "cell_type": "markdown",
      "metadata": {
        "id": "_8miCWZ3Ursn",
        "colab_type": "text"
      },
      "source": [
        "Looks like 3 is all we really need, nice."
      ]
    },
    {
      "cell_type": "code",
      "metadata": {
        "id": "HUMMzgjeU7JC",
        "colab_type": "code",
        "colab": {
          "base_uri": "https://localhost:8080/",
          "height": 627
        },
        "outputId": "c6a34a58-c319-4868-91cb-74278c2d77d4"
      },
      "source": [
        "# Well, I haven't standardized the data yet,\n",
        "# so maybe I'm getting ahead of myself.\n",
        "df.dtypes"
      ],
      "execution_count": 7,
      "outputs": [
        {
          "output_type": "execute_result",
          "data": {
            "text/plain": [
              "id                           int64\n",
              "radius_mean                float64\n",
              "texture_mean               float64\n",
              "perimeter_mean             float64\n",
              "area_mean                  float64\n",
              "smoothness_mean            float64\n",
              "compactness_mean           float64\n",
              "concavity_mean             float64\n",
              "concave points_mean        float64\n",
              "symmetry_mean              float64\n",
              "fractal_dimension_mean     float64\n",
              "radius_se                  float64\n",
              "texture_se                 float64\n",
              "perimeter_se               float64\n",
              "area_se                    float64\n",
              "smoothness_se              float64\n",
              "compactness_se             float64\n",
              "concavity_se               float64\n",
              "concave points_se          float64\n",
              "symmetry_se                float64\n",
              "fractal_dimension_se       float64\n",
              "radius_worst               float64\n",
              "texture_worst              float64\n",
              "perimeter_worst            float64\n",
              "area_worst                 float64\n",
              "smoothness_worst           float64\n",
              "compactness_worst          float64\n",
              "concavity_worst            float64\n",
              "concave points_worst       float64\n",
              "symmetry_worst             float64\n",
              "fractal_dimension_worst    float64\n",
              "dtype: object"
            ]
          },
          "metadata": {
            "tags": []
          },
          "execution_count": 7
        }
      ]
    },
    {
      "cell_type": "code",
      "metadata": {
        "id": "ByK6tZb0VcJm",
        "colab_type": "code",
        "colab": {
          "base_uri": "https://localhost:8080/",
          "height": 265
        },
        "outputId": "4fde5650-3de5-472e-853a-0d25e97bbd90"
      },
      "source": [
        "# Traveling through time and using code from my sprint challenge / lecture notebook\n",
        "from sklearn.preprocessing import StandardScaler\n",
        "scaler = StandardScaler()\n",
        "standardized_df_as_np_array = scaler.fit_transform(df)\n",
        "standardized_df_as_np_array"
      ],
      "execution_count": 8,
      "outputs": [
        {
          "output_type": "execute_result",
          "data": {
            "text/plain": [
              "array([[-0.23640517,  1.09706398, -2.07333501, ...,  2.29607613,\n",
              "         2.75062224,  1.93701461],\n",
              "       [-0.23640344,  1.82982061, -0.35363241, ...,  1.0870843 ,\n",
              "        -0.24388967,  0.28118999],\n",
              "       [ 0.43174109,  1.57988811,  0.45618695, ...,  1.95500035,\n",
              "         1.152255  ,  0.20139121],\n",
              "       ...,\n",
              "       [-0.23572747,  0.70228425,  2.0455738 , ...,  0.41406869,\n",
              "        -1.10454895, -0.31840916],\n",
              "       [-0.23572517,  1.83834103,  2.33645719, ...,  2.28998549,\n",
              "         1.91908301,  2.21963528],\n",
              "       [-0.24240586, -1.80840125,  1.22179204, ..., -1.74506282,\n",
              "        -0.04813821, -0.75120669]])"
            ]
          },
          "metadata": {
            "tags": []
          },
          "execution_count": 8
        }
      ]
    },
    {
      "cell_type": "code",
      "metadata": {
        "id": "PPfHUIkPVpea",
        "colab_type": "code",
        "colab": {
          "base_uri": "https://localhost:8080/",
          "height": 295
        },
        "outputId": "263eb97a-cc40-4962-c07d-ce7585c691d9"
      },
      "source": [
        "# Check the elbow graph again\n",
        "sum_of_squared_distances = []\n",
        "K = range(1,15)\n",
        "for k in K:\n",
        "    km = KMeans(n_clusters=k)\n",
        "    km = km.fit(standardized_df_as_np_array.copy())\n",
        "    sum_of_squared_distances.append(km.inertia_)\n",
        "\n",
        "plt.plot(K, sum_of_squared_distances, 'bx-')\n",
        "plt.xlabel('k')\n",
        "plt.ylabel('Sum_of_squared_distances')\n",
        "plt.title('Elbow Method For Optimal k')\n",
        "plt.show()"
      ],
      "execution_count": 9,
      "outputs": [
        {
          "output_type": "display_data",
          "data": {
            "image/png": "[encoded data removed]",
            "text/plain": [
              "<Figure size 432x288 with 1 Axes>"
            ]
          },
          "metadata": {
            "tags": []
          }
        }
      ]
    },
    {
      "cell_type": "markdown",
      "metadata": {
        "id": "XGWh8cMgXwzz",
        "colab_type": "text"
      },
      "source": [
        "That looks considerably more realistic."
      ]
    },
    {
      "cell_type": "code",
      "metadata": {
        "id": "YHU72p1IYMF_",
        "colab_type": "code",
        "colab": {
          "base_uri": "https://localhost:8080/",
          "height": 246
        },
        "outputId": "01e897ae-15e3-4e52-f9db-e1551ae729ae"
      },
      "source": [
        "# Back to clustering (more sprint challenge code)\n",
        "\n",
        "# listen to the elbow plot, use 14 clusters\n",
        "# random state is set so this result stays constant across runs\n",
        "copy_df = standardized_df_as_np_array.copy()\n",
        "kmeans = KMeans(n_clusters=14, random_state=0).fit(copy_df)\n",
        "\n",
        "# stick that data in a dataframe\n",
        "cancer_df = pd.DataFrame(copy_df)\n",
        "\n",
        "# the labels in our kmeans object are ordered the same way\n",
        "# as the input data, so they can go right on into the df\n",
        "cancer_df['label'] = kmeans.labels_\n",
        "\n",
        "cancer_df['label']"
      ],
      "execution_count": 10,
      "outputs": [
        {
          "output_type": "execute_result",
          "data": {
            "text/plain": [
              "0      13\n",
              "1       5\n",
              "2       5\n",
              "3       2\n",
              "4       3\n",
              "       ..\n",
              "564     3\n",
              "565     3\n",
              "566     8\n",
              "567    13\n",
              "568    12\n",
              "Name: label, Length: 569, dtype: int32"
            ]
          },
          "metadata": {
            "tags": []
          },
          "execution_count": 10
        }
      ]
    },
    {
      "cell_type": "code",
      "metadata": {
        "id": "kNGd4FElaNR6",
        "colab_type": "code",
        "colab": {
          "base_uri": "https://localhost:8080/",
          "height": 383
        },
        "outputId": "67185674-052c-4072-ffe2-c5eb3ebaadc9"
      },
      "source": [
        "# Just remembered that we only care about whether\n",
        "# a cell is malignant or not.\n",
        "\n",
        "# forget the elbow plot, hope that n=2 maps to malignant y/n\n",
        "copy_df = standardized_df_as_np_array.copy()\n",
        "kmeans = KMeans(n_clusters=2, random_state=0).fit(copy_df)\n",
        "\n",
        "# stick that data in a dataframe\n",
        "cancer_df2 = pd.DataFrame(copy_df)\n",
        "\n",
        "# the labels in our kmeans object are ordered the same way\n",
        "# as the input data, so they can go right on into the df\n",
        "cancer_df2['label'] = kmeans.labels_\n",
        "\n",
        "cancer_df2.sample(10)"
      ],
      "execution_count": 11,
      "outputs": [
        {
          "output_type": "execute_result",
          "data": {
            "text/html": [
              "<div>\n",
              "<style scoped>\n",
              "    .dataframe tbody tr th:only-of-type {\n",
              "        vertical-align: middle;\n",
              "    }\n",
              "\n",
              "    .dataframe tbody tr th {\n",
              "        vertical-align: top;\n",
              "    }\n",
              "\n",
              "    .dataframe thead th {\n",
              "        text-align: right;\n",
              "    }\n",
              "</style>\n",
              "<table border=\"1\" class=\"dataframe\">\n",
              "  <thead>\n",
              "    <tr style=\"text-align: right;\">\n",
              "      <th></th>\n",
              "      <th>0</th>\n",
              "      <th>1</th>\n",
              "      <th>2</th>\n",
              "      <th>3</th>\n",
              "      <th>4</th>\n",
              "      <th>5</th>\n",
              "      <th>6</th>\n",
              "      <th>7</th>\n",
              "      <th>8</th>\n",
              "      <th>9</th>\n",
              "      <th>10</th>\n",
              "      <th>11</th>\n",
              "      <th>12</th>\n",
              "      <th>13</th>\n",
              "      <th>14</th>\n",
              "      <th>15</th>\n",
              "      <th>16</th>\n",
              "      <th>17</th>\n",
              "      <th>18</th>\n",
              "      <th>19</th>\n",
              "      <th>20</th>\n",
              "      <th>21</th>\n",
              "      <th>22</th>\n",
              "      <th>23</th>\n",
              "      <th>24</th>\n",
              "      <th>25</th>\n",
              "      <th>26</th>\n",
              "      <th>27</th>\n",
              "      <th>28</th>\n",
              "      <th>29</th>\n",
              "      <th>30</th>\n",
              "      <th>label</th>\n",
              "    </tr>\n",
              "  </thead>\n",
              "  <tbody>\n",
              "    <tr>\n",
              "      <th>398</th>\n",
              "      <td>-0.235909</td>\n",
              "      <td>-0.871154</td>\n",
              "      <td>-1.037790</td>\n",
              "      <td>-0.892140</td>\n",
              "      <td>-0.786932</td>\n",
              "      <td>-1.348605</td>\n",
              "      <td>-1.073809</td>\n",
              "      <td>-0.774382</td>\n",
              "      <td>-1.074916</td>\n",
              "      <td>-1.009919</td>\n",
              "      <td>-0.093223</td>\n",
              "      <td>-0.792843</td>\n",
              "      <td>-0.959341</td>\n",
              "      <td>-0.793563</td>\n",
              "      <td>-0.601903</td>\n",
              "      <td>-0.927364</td>\n",
              "      <td>-0.602944</td>\n",
              "      <td>-0.414254</td>\n",
              "      <td>-1.237358</td>\n",
              "      <td>-1.045186</td>\n",
              "      <td>-0.097552</td>\n",
              "      <td>-0.743259</td>\n",
              "      <td>-0.867505</td>\n",
              "      <td>-0.788467</td>\n",
              "      <td>-0.674833</td>\n",
              "      <td>-0.892875</td>\n",
              "      <td>-0.422174</td>\n",
              "      <td>-0.308426</td>\n",
              "      <td>-0.899073</td>\n",
              "      <td>-0.502735</td>\n",
              "      <td>0.423054</td>\n",
              "      <td>1</td>\n",
              "    </tr>\n",
              "    <tr>\n",
              "      <th>44</th>\n",
              "      <td>0.442450</td>\n",
              "      <td>-0.271884</td>\n",
              "      <td>0.586503</td>\n",
              "      <td>-0.269756</td>\n",
              "      <td>-0.350931</td>\n",
              "      <td>0.055489</td>\n",
              "      <td>0.006804</td>\n",
              "      <td>-0.077958</td>\n",
              "      <td>0.092880</td>\n",
              "      <td>-0.239570</td>\n",
              "      <td>-0.145674</td>\n",
              "      <td>-0.762886</td>\n",
              "      <td>-1.096868</td>\n",
              "      <td>-0.758416</td>\n",
              "      <td>-0.568680</td>\n",
              "      <td>-1.230376</td>\n",
              "      <td>-0.650450</td>\n",
              "      <td>-0.576061</td>\n",
              "      <td>-0.801825</td>\n",
              "      <td>-1.139627</td>\n",
              "      <td>-0.784835</td>\n",
              "      <td>-0.008116</td>\n",
              "      <td>0.686025</td>\n",
              "      <td>-0.052459</td>\n",
              "      <td>-0.245902</td>\n",
              "      <td>0.786039</td>\n",
              "      <td>0.866009</td>\n",
              "      <td>0.482686</td>\n",
              "      <td>0.701851</td>\n",
              "      <td>1.281677</td>\n",
              "      <td>0.677967</td>\n",
              "      <td>1</td>\n",
              "    </tr>\n",
              "    <tr>\n",
              "      <th>160</th>\n",
              "      <td>-0.173406</td>\n",
              "      <td>-0.675185</td>\n",
              "      <td>0.207191</td>\n",
              "      <td>-0.653649</td>\n",
              "      <td>-0.668618</td>\n",
              "      <td>0.892395</td>\n",
              "      <td>0.184948</td>\n",
              "      <td>-0.255736</td>\n",
              "      <td>-0.297641</td>\n",
              "      <td>0.662213</td>\n",
              "      <td>0.245584</td>\n",
              "      <td>0.348751</td>\n",
              "      <td>0.863894</td>\n",
              "      <td>0.524703</td>\n",
              "      <td>-0.043939</td>\n",
              "      <td>0.797373</td>\n",
              "      <td>-0.079818</td>\n",
              "      <td>0.324152</td>\n",
              "      <td>-0.044792</td>\n",
              "      <td>1.625806</td>\n",
              "      <td>0.478903</td>\n",
              "      <td>-0.610726</td>\n",
              "      <td>0.086759</td>\n",
              "      <td>-0.546606</td>\n",
              "      <td>-0.591860</td>\n",
              "      <td>0.150419</td>\n",
              "      <td>-0.413905</td>\n",
              "      <td>-0.367435</td>\n",
              "      <td>-0.540791</td>\n",
              "      <td>0.432343</td>\n",
              "      <td>-0.225865</td>\n",
              "      <td>1</td>\n",
              "    </tr>\n",
              "    <tr>\n",
              "      <th>110</th>\n",
              "      <td>-0.236231</td>\n",
              "      <td>-1.235545</td>\n",
              "      <td>-0.535144</td>\n",
              "      <td>-1.213835</td>\n",
              "      <td>-1.037213</td>\n",
              "      <td>0.522334</td>\n",
              "      <td>-0.384734</td>\n",
              "      <td>-0.570740</td>\n",
              "      <td>-0.803203</td>\n",
              "      <td>-0.831023</td>\n",
              "      <td>1.113158</td>\n",
              "      <td>-0.007839</td>\n",
              "      <td>0.375835</td>\n",
              "      <td>-0.058938</td>\n",
              "      <td>-0.384306</td>\n",
              "      <td>2.269766</td>\n",
              "      <td>0.214720</td>\n",
              "      <td>-0.154967</td>\n",
              "      <td>-0.254043</td>\n",
              "      <td>1.485355</td>\n",
              "      <td>0.318902</td>\n",
              "      <td>-1.080803</td>\n",
              "      <td>-0.685120</td>\n",
              "      <td>-1.059816</td>\n",
              "      <td>-0.902834</td>\n",
              "      <td>0.628230</td>\n",
              "      <td>-0.494694</td>\n",
              "      <td>-0.682153</td>\n",
              "      <td>-0.932876</td>\n",
              "      <td>-0.594948</td>\n",
              "      <td>0.040685</td>\n",
              "      <td>1</td>\n",
              "    </tr>\n",
              "    <tr>\n",
              "      <th>416</th>\n",
              "      <td>-0.235895</td>\n",
              "      <td>-1.341198</td>\n",
              "      <td>0.560905</td>\n",
              "      <td>-1.333287</td>\n",
              "      <td>-1.091251</td>\n",
              "      <td>0.572150</td>\n",
              "      <td>-0.810194</td>\n",
              "      <td>-0.857873</td>\n",
              "      <td>-0.937589</td>\n",
              "      <td>0.779043</td>\n",
              "      <td>0.455390</td>\n",
              "      <td>0.090331</td>\n",
              "      <td>3.013891</td>\n",
              "      <td>-0.052998</td>\n",
              "      <td>-0.333702</td>\n",
              "      <td>2.566444</td>\n",
              "      <td>-0.488371</td>\n",
              "      <td>-0.604244</td>\n",
              "      <td>-0.506441</td>\n",
              "      <td>1.198399</td>\n",
              "      <td>0.300746</td>\n",
              "      <td>-1.122220</td>\n",
              "      <td>0.905864</td>\n",
              "      <td>-1.147684</td>\n",
              "      <td>-0.916194</td>\n",
              "      <td>0.886862</td>\n",
              "      <td>-0.858566</td>\n",
              "      <td>-1.011215</td>\n",
              "      <td>-1.171020</td>\n",
              "      <td>-0.046520</td>\n",
              "      <td>-0.050197</td>\n",
              "      <td>1</td>\n",
              "    </tr>\n",
              "    <tr>\n",
              "      <th>390</th>\n",
              "      <td>0.479907</td>\n",
              "      <td>-1.098366</td>\n",
              "      <td>-1.645155</td>\n",
              "      <td>-1.079967</td>\n",
              "      <td>-0.947908</td>\n",
              "      <td>0.256176</td>\n",
              "      <td>-0.548095</td>\n",
              "      <td>-0.873441</td>\n",
              "      <td>-0.754194</td>\n",
              "      <td>-0.042419</td>\n",
              "      <td>0.410026</td>\n",
              "      <td>-0.772631</td>\n",
              "      <td>-1.214074</td>\n",
              "      <td>-0.751486</td>\n",
              "      <td>-0.626104</td>\n",
              "      <td>-0.453011</td>\n",
              "      <td>-0.661069</td>\n",
              "      <td>-0.775799</td>\n",
              "      <td>-0.789497</td>\n",
              "      <td>-0.140729</td>\n",
              "      <td>-0.538594</td>\n",
              "      <td>-1.012466</td>\n",
              "      <td>-1.632871</td>\n",
              "      <td>-1.013648</td>\n",
              "      <td>-0.854492</td>\n",
              "      <td>0.084665</td>\n",
              "      <td>-0.567850</td>\n",
              "      <td>-0.892524</td>\n",
              "      <td>-0.725490</td>\n",
              "      <td>0.058635</td>\n",
              "      <td>-0.372717</td>\n",
              "      <td>1</td>\n",
              "    </tr>\n",
              "    <tr>\n",
              "      <th>317</th>\n",
              "      <td>-0.235989</td>\n",
              "      <td>1.162387</td>\n",
              "      <td>-0.097655</td>\n",
              "      <td>1.101054</td>\n",
              "      <td>1.058322</td>\n",
              "      <td>0.078262</td>\n",
              "      <td>0.139464</td>\n",
              "      <td>0.303839</td>\n",
              "      <td>0.788802</td>\n",
              "      <td>-0.016862</td>\n",
              "      <td>-0.872905</td>\n",
              "      <td>-0.003869</td>\n",
              "      <td>-1.209357</td>\n",
              "      <td>-0.157944</td>\n",
              "      <td>0.188399</td>\n",
              "      <td>-0.740023</td>\n",
              "      <td>-0.496754</td>\n",
              "      <td>-0.259080</td>\n",
              "      <td>-0.059391</td>\n",
              "      <td>-0.943480</td>\n",
              "      <td>-0.508333</td>\n",
              "      <td>1.153617</td>\n",
              "      <td>-0.110282</td>\n",
              "      <td>1.001959</td>\n",
              "      <td>1.062512</td>\n",
              "      <td>0.483572</td>\n",
              "      <td>0.140173</td>\n",
              "      <td>0.542655</td>\n",
              "      <td>0.959181</td>\n",
              "      <td>-0.143587</td>\n",
              "      <td>-0.108937</td>\n",
              "      <td>0</td>\n",
              "    </tr>\n",
              "    <tr>\n",
              "      <th>257</th>\n",
              "      <td>-0.236049</td>\n",
              "      <td>0.338746</td>\n",
              "      <td>-0.469986</td>\n",
              "      <td>0.462606</td>\n",
              "      <td>0.166127</td>\n",
              "      <td>2.643065</td>\n",
              "      <td>2.351102</td>\n",
              "      <td>1.958584</td>\n",
              "      <td>1.941793</td>\n",
              "      <td>2.140845</td>\n",
              "      <td>1.865906</td>\n",
              "      <td>0.916840</td>\n",
              "      <td>-0.286400</td>\n",
              "      <td>0.591532</td>\n",
              "      <td>0.420737</td>\n",
              "      <td>1.036382</td>\n",
              "      <td>1.140251</td>\n",
              "      <td>0.594714</td>\n",
              "      <td>1.536752</td>\n",
              "      <td>-0.206112</td>\n",
              "      <td>1.840229</td>\n",
              "      <td>0.302508</td>\n",
              "      <td>-0.491336</td>\n",
              "      <td>0.373478</td>\n",
              "      <td>0.084761</td>\n",
              "      <td>1.934540</td>\n",
              "      <td>1.247056</td>\n",
              "      <td>0.818993</td>\n",
              "      <td>1.648946</td>\n",
              "      <td>0.577943</td>\n",
              "      <td>1.948098</td>\n",
              "      <td>0</td>\n",
              "    </tr>\n",
              "    <tr>\n",
              "      <th>300</th>\n",
              "      <td>-0.236004</td>\n",
              "      <td>1.534446</td>\n",
              "      <td>-0.090674</td>\n",
              "      <td>1.545908</td>\n",
              "      <td>1.598701</td>\n",
              "      <td>1.326504</td>\n",
              "      <td>1.134417</td>\n",
              "      <td>1.643454</td>\n",
              "      <td>1.477501</td>\n",
              "      <td>-0.071627</td>\n",
              "      <td>0.385927</td>\n",
              "      <td>2.547481</td>\n",
              "      <td>-0.101337</td>\n",
              "      <td>2.163749</td>\n",
              "      <td>2.038743</td>\n",
              "      <td>-0.328340</td>\n",
              "      <td>0.366181</td>\n",
              "      <td>0.811892</td>\n",
              "      <td>0.897646</td>\n",
              "      <td>-0.206112</td>\n",
              "      <td>0.375262</td>\n",
              "      <td>2.000585</td>\n",
              "      <td>0.091645</td>\n",
              "      <td>1.901492</td>\n",
              "      <td>2.061007</td>\n",
              "      <td>0.750970</td>\n",
              "      <td>1.000870</td>\n",
              "      <td>1.630733</td>\n",
              "      <td>1.269803</td>\n",
              "      <td>0.108787</td>\n",
              "      <td>0.850310</td>\n",
              "      <td>0</td>\n",
              "    </tr>\n",
              "    <tr>\n",
              "      <th>546</th>\n",
              "      <td>-0.235763</td>\n",
              "      <td>-1.081325</td>\n",
              "      <td>-0.684076</td>\n",
              "      <td>-1.098091</td>\n",
              "      <td>-0.938523</td>\n",
              "      <td>-0.143774</td>\n",
              "      <td>-1.030979</td>\n",
              "      <td>-0.987817</td>\n",
              "      <td>-1.120082</td>\n",
              "      <td>0.267911</td>\n",
              "      <td>-0.111652</td>\n",
              "      <td>-0.702973</td>\n",
              "      <td>-0.453320</td>\n",
              "      <td>-0.747526</td>\n",
              "      <td>-0.602123</td>\n",
              "      <td>0.015008</td>\n",
              "      <td>-1.018930</td>\n",
              "      <td>-0.721952</td>\n",
              "      <td>-1.022105</td>\n",
              "      <td>-0.598406</td>\n",
              "      <td>-0.449704</td>\n",
              "      <td>-1.039387</td>\n",
              "      <td>-0.636267</td>\n",
              "      <td>-1.076496</td>\n",
              "      <td>-0.871368</td>\n",
              "      <td>-0.169583</td>\n",
              "      <td>-1.055006</td>\n",
              "      <td>-1.095507</td>\n",
              "      <td>-1.382518</td>\n",
              "      <td>-0.355517</td>\n",
              "      <td>-0.551710</td>\n",
              "      <td>1</td>\n",
              "    </tr>\n",
              "  </tbody>\n",
              "</table>\n",
              "</div>"
            ],
            "text/plain": [
              "            0         1         2  ...        29        30  label\n",
              "398 -0.235909 -0.871154 -1.037790  ... -0.502735  0.423054      1\n",
              "44   0.442450 -0.271884  0.586503  ...  1.281677  0.677967      1\n",
              "160 -0.173406 -0.675185  0.207191  ...  0.432343 -0.225865      1\n",
              "110 -0.236231 -1.235545 -0.535144  ... -0.594948  0.040685      1\n",
              "416 -0.235895 -1.341198  0.560905  ... -0.046520 -0.050197      1\n",
              "390  0.479907 -1.098366 -1.645155  ...  0.058635 -0.372717      1\n",
              "317 -0.235989  1.162387 -0.097655  ... -0.143587 -0.108937      0\n",
              "257 -0.236049  0.338746 -0.469986  ...  0.577943  1.948098      0\n",
              "300 -0.236004  1.534446 -0.090674  ...  0.108787  0.850310      0\n",
              "546 -0.235763 -1.081325 -0.684076  ... -0.355517 -0.551710      1\n",
              "\n",
              "[10 rows x 32 columns]"
            ]
          },
          "metadata": {
            "tags": []
          },
          "execution_count": 11
        }
      ]
    },
    {
      "cell_type": "markdown",
      "metadata": {
        "id": "7ghqYSxrP_FE",
        "colab_type": "text"
      },
      "source": [
        "## Check you work: \n",
        "\n",
        "This is something that in a truly unsupervised learning situation **WOULD NOT BE POSSIBLE**. But for educational purposes go back and grab the true diagnosis column (label) from the original dataset. Take your cluster labels and compare them to the original diagnosis column. You can make scatterplots for each to see how they compare or you can calculate a percent accuracy score like: \n",
        "\\begin{align}\n",
        "\\frac{\\text{Num Correct Labels}}{\\text{Num Total Observations}}\n",
        "\\end{align}"
      ]
    },
    {
      "cell_type": "code",
      "metadata": {
        "id": "OIG7-yGLP-eA",
        "colab_type": "code",
        "colab": {}
      },
      "source": [
        "# add the original diagnosis column to the data\n",
        "og_df = pd.read_csv(\"https://raw.githubusercontent.com/ryanleeallred/datasets/master/Cancer_Cells.csv\")\n",
        "\n",
        "cancer_df2['og_diagnosis'] = og_df['diagnosis']"
      ],
      "execution_count": 0,
      "outputs": []
    },
    {
      "cell_type": "code",
      "metadata": {
        "id": "169dr3orfRfy",
        "colab_type": "code",
        "colab": {
          "base_uri": "https://localhost:8080/",
          "height": 279
        },
        "outputId": "82066c3b-da66-4a84-9c73-f390d809a412"
      },
      "source": [
        "# scatter the data across two random columns, colored by label\n",
        "sns.scatterplot(x=3, y=7, hue='label', data=cancer_df2);"
      ],
      "execution_count": 13,
      "outputs": [
        {
          "output_type": "display_data",
          "data": {
            "image/png": "[encoded data removed]",
            "text/plain": [
              "<Figure size 432x288 with 1 Axes>"
            ]
          },
          "metadata": {
            "tags": []
          }
        }
      ]
    },
    {
      "cell_type": "code",
      "metadata": {
        "id": "MaaDYWZ2gGtR",
        "colab_type": "code",
        "colab": {
          "base_uri": "https://localhost:8080/",
          "height": 279
        },
        "outputId": "9dfa82d3-9e38-4ae9-e97a-7c8e6894fa2d"
      },
      "source": [
        "# This time colored by the original diagnosis\n",
        "sns.scatterplot(x=3, y=7, hue='og_diagnosis', data=cancer_df2);"
      ],
      "execution_count": 14,
      "outputs": [
        {
          "output_type": "display_data",
          "data": {
            "image/png": "[encoded data removed]",
            "text/plain": [
              "<Figure size 432x288 with 1 Axes>"
            ]
          },
          "metadata": {
            "tags": []
          }
        }
      ]
    },
    {
      "cell_type": "markdown",
      "metadata": {
        "id": "iU__XztggXaV",
        "colab_type": "text"
      },
      "source": [
        "A heck of a lot closer than I expected."
      ]
    },
    {
      "cell_type": "markdown",
      "metadata": {
        "id": "BedOTS0eJ9_K",
        "colab_type": "text"
      },
      "source": [
        "# 2) Perform PCA on your dataset first and *then* use k-means clustering. \n",
        "\n",
        "- You need to standardize your data before PCA.\n",
        "- First try clustering just on PC1 and PC2 so that you can make a scatterplot of your clustering.\n",
        "- Then use use a scree plot to decide how many principal components to include in your clustering, and use however many principal components you need in order to retain 90% of the variation of the original dataset\n",
        "\n"
      ]
    },
    {
      "cell_type": "code",
      "metadata": {
        "id": "dW1AeAK8PNah",
        "colab_type": "code",
        "colab": {
          "base_uri": "https://localhost:8080/",
          "height": 150
        },
        "outputId": "60668ae5-ca9c-4978-f740-26cb80e70aeb"
      },
      "source": [
        "# more pre-made code\n",
        "from sklearn.decomposition import PCA\n",
        "\n",
        "# 2 components to start\n",
        "my_pca = PCA(2)\n",
        "pca_features = my_pca.fit_transform(standardized_df_as_np_array.copy())\n",
        "pca_features"
      ],
      "execution_count": 15,
      "outputs": [
        {
          "output_type": "execute_result",
          "data": {
            "text/plain": [
              "array([[ 9.18319983,  1.97127137],\n",
              "       [ 2.38329766, -3.75345877],\n",
              "       [ 5.74247239, -1.08035048],\n",
              "       ...,\n",
              "       [ 1.2518901 , -1.89397674],\n",
              "       [10.36503528,  1.69639755],\n",
              "       [-5.47826365, -0.67278804]])"
            ]
          },
          "metadata": {
            "tags": []
          },
          "execution_count": 15
        }
      ]
    },
    {
      "cell_type": "code",
      "metadata": {
        "id": "C8Tyc5LDiJgy",
        "colab_type": "code",
        "colab": {
          "base_uri": "https://localhost:8080/",
          "height": 206
        },
        "outputId": "e1d2431f-07bb-4363-ae8b-07fc0f82c892"
      },
      "source": [
        "pca_df = pd.DataFrame(pca_features)\n",
        "pca_df.head()"
      ],
      "execution_count": 16,
      "outputs": [
        {
          "output_type": "execute_result",
          "data": {
            "text/html": [
              "<div>\n",
              "<style scoped>\n",
              "    .dataframe tbody tr th:only-of-type {\n",
              "        vertical-align: middle;\n",
              "    }\n",
              "\n",
              "    .dataframe tbody tr th {\n",
              "        vertical-align: top;\n",
              "    }\n",
              "\n",
              "    .dataframe thead th {\n",
              "        text-align: right;\n",
              "    }\n",
              "</style>\n",
              "<table border=\"1\" class=\"dataframe\">\n",
              "  <thead>\n",
              "    <tr style=\"text-align: right;\">\n",
              "      <th></th>\n",
              "      <th>0</th>\n",
              "      <th>1</th>\n",
              "    </tr>\n",
              "  </thead>\n",
              "  <tbody>\n",
              "    <tr>\n",
              "      <th>0</th>\n",
              "      <td>9.183200</td>\n",
              "      <td>1.971271</td>\n",
              "    </tr>\n",
              "    <tr>\n",
              "      <th>1</th>\n",
              "      <td>2.383298</td>\n",
              "      <td>-3.753459</td>\n",
              "    </tr>\n",
              "    <tr>\n",
              "      <th>2</th>\n",
              "      <td>5.742472</td>\n",
              "      <td>-1.080350</td>\n",
              "    </tr>\n",
              "    <tr>\n",
              "      <th>3</th>\n",
              "      <td>7.124384</td>\n",
              "      <td>10.272225</td>\n",
              "    </tr>\n",
              "    <tr>\n",
              "      <th>4</th>\n",
              "      <td>3.945694</td>\n",
              "      <td>-1.959689</td>\n",
              "    </tr>\n",
              "  </tbody>\n",
              "</table>\n",
              "</div>"
            ],
            "text/plain": [
              "          0          1\n",
              "0  9.183200   1.971271\n",
              "1  2.383298  -3.753459\n",
              "2  5.742472  -1.080350\n",
              "3  7.124384  10.272225\n",
              "4  3.945694  -1.959689"
            ]
          },
          "metadata": {
            "tags": []
          },
          "execution_count": 16
        }
      ]
    },
    {
      "cell_type": "code",
      "metadata": {
        "id": "xs-O8zfEhthU",
        "colab_type": "code",
        "colab": {}
      },
      "source": [
        "# cancer_df3 = pd.DataFrame(standardized_df_as_np_array.copy())\n",
        "\n",
        "# cancer_df3['feature1'] = pca_df.iloc[:, 0]\n",
        "# cancer_df3['feature2'] = pca_df.iloc[:, 1]\n",
        "# cancer_df3.sample(10)"
      ],
      "execution_count": 0,
      "outputs": []
    },
    {
      "cell_type": "code",
      "metadata": {
        "id": "wTGmUFL3kF3O",
        "colab_type": "code",
        "colab": {
          "base_uri": "https://localhost:8080/",
          "height": 363
        },
        "outputId": "6a4fc86f-c50e-48c9-a9eb-4aeb647244c9"
      },
      "source": [
        "# too lazy to make a function this late in the game\n",
        "copy_df = pca_df.copy()\n",
        "kmeans = KMeans(n_clusters=2, random_state=0).fit(copy_df)\n",
        "\n",
        "# stick that data in a dataframe\n",
        "cancer_df3 = pd.DataFrame(copy_df)\n",
        "\n",
        "# the labels in our kmeans object are ordered the same way\n",
        "# as the input data, so they can go right on into the df\n",
        "cancer_df3['label'] = kmeans.labels_\n",
        "\n",
        "cancer_df3.sample(10)"
      ],
      "execution_count": 18,
      "outputs": [
        {
          "output_type": "execute_result",
          "data": {
            "text/html": [
              "<div>\n",
              "<style scoped>\n",
              "    .dataframe tbody tr th:only-of-type {\n",
              "        vertical-align: middle;\n",
              "    }\n",
              "\n",
              "    .dataframe tbody tr th {\n",
              "        vertical-align: top;\n",
              "    }\n",
              "\n",
              "    .dataframe thead th {\n",
              "        text-align: right;\n",
              "    }\n",
              "</style>\n",
              "<table border=\"1\" class=\"dataframe\">\n",
              "  <thead>\n",
              "    <tr style=\"text-align: right;\">\n",
              "      <th></th>\n",
              "      <th>0</th>\n",
              "      <th>1</th>\n",
              "      <th>label</th>\n",
              "    </tr>\n",
              "  </thead>\n",
              "  <tbody>\n",
              "    <tr>\n",
              "      <th>4</th>\n",
              "      <td>3.945694</td>\n",
              "      <td>-1.959689</td>\n",
              "      <td>1</td>\n",
              "    </tr>\n",
              "    <tr>\n",
              "      <th>392</th>\n",
              "      <td>4.142024</td>\n",
              "      <td>0.781630</td>\n",
              "      <td>1</td>\n",
              "    </tr>\n",
              "    <tr>\n",
              "      <th>245</th>\n",
              "      <td>-2.285982</td>\n",
              "      <td>2.075634</td>\n",
              "      <td>0</td>\n",
              "    </tr>\n",
              "    <tr>\n",
              "      <th>196</th>\n",
              "      <td>2.492173</td>\n",
              "      <td>2.283997</td>\n",
              "      <td>1</td>\n",
              "    </tr>\n",
              "    <tr>\n",
              "      <th>94</th>\n",
              "      <td>2.769390</td>\n",
              "      <td>0.569859</td>\n",
              "      <td>1</td>\n",
              "    </tr>\n",
              "    <tr>\n",
              "      <th>487</th>\n",
              "      <td>4.747985</td>\n",
              "      <td>-1.471132</td>\n",
              "      <td>1</td>\n",
              "    </tr>\n",
              "    <tr>\n",
              "      <th>157</th>\n",
              "      <td>-0.753736</td>\n",
              "      <td>-3.065453</td>\n",
              "      <td>0</td>\n",
              "    </tr>\n",
              "    <tr>\n",
              "      <th>185</th>\n",
              "      <td>-3.893046</td>\n",
              "      <td>0.815066</td>\n",
              "      <td>0</td>\n",
              "    </tr>\n",
              "    <tr>\n",
              "      <th>173</th>\n",
              "      <td>-3.488216</td>\n",
              "      <td>1.616708</td>\n",
              "      <td>0</td>\n",
              "    </tr>\n",
              "    <tr>\n",
              "      <th>330</th>\n",
              "      <td>1.779431</td>\n",
              "      <td>-0.254705</td>\n",
              "      <td>1</td>\n",
              "    </tr>\n",
              "  </tbody>\n",
              "</table>\n",
              "</div>"
            ],
            "text/plain": [
              "            0         1  label\n",
              "4    3.945694 -1.959689      1\n",
              "392  4.142024  0.781630      1\n",
              "245 -2.285982  2.075634      0\n",
              "196  2.492173  2.283997      1\n",
              "94   2.769390  0.569859      1\n",
              "487  4.747985 -1.471132      1\n",
              "157 -0.753736 -3.065453      0\n",
              "185 -3.893046  0.815066      0\n",
              "173 -3.488216  1.616708      0\n",
              "330  1.779431 -0.254705      1"
            ]
          },
          "metadata": {
            "tags": []
          },
          "execution_count": 18
        }
      ]
    },
    {
      "cell_type": "code",
      "metadata": {
        "id": "-qT6zFDqkmu8",
        "colab_type": "code",
        "colab": {
          "base_uri": "https://localhost:8080/",
          "height": 279
        },
        "outputId": "0357d773-ca67-4292-edd4-f5dd67ebd7dd"
      },
      "source": [
        "sns.scatterplot(x=0, y=1, hue='label', data=cancer_df3);"
      ],
      "execution_count": 19,
      "outputs": [
        {
          "output_type": "display_data",
          "data": {
            "image/png": "[encoded data removed]",
            "text/plain": [
              "<Figure size 432x288 with 1 Axes>"
            ]
          },
          "metadata": {
            "tags": []
          }
        }
      ]
    },
    {
      "cell_type": "code",
      "metadata": {
        "id": "poYvNRURkxDN",
        "colab_type": "code",
        "colab": {
          "base_uri": "https://localhost:8080/",
          "height": 279
        },
        "outputId": "f355eed9-9c48-4612-836e-40e049db0969"
      },
      "source": [
        "# add the original diagnosis again\n",
        "cancer_df3['og_diagnosis'] = og_df['diagnosis']\n",
        "sns.scatterplot(x=0, y=1, hue='og_diagnosis', data=cancer_df3);"
      ],
      "execution_count": 20,
      "outputs": [
        {
          "output_type": "display_data",
          "data": {
            "image/png": "[encoded data removed]",
            "text/plain": [
              "<Figure size 432x288 with 1 Axes>"
            ]
          },
          "metadata": {
            "tags": []
          }
        }
      ]
    },
    {
      "cell_type": "markdown",
      "metadata": {
        "id": "VXPX7WrhlDgt",
        "colab_type": "text"
      },
      "source": [
        "Again, not too shabby. Just flip the one's and zero's."
      ]
    },
    {
      "cell_type": "code",
      "metadata": {
        "id": "bqT3RHjJlQZ2",
        "colab_type": "code",
        "colab": {}
      },
      "source": [
        "# but not like this\n",
        "\n",
        "# cancer_df3['labels'].apply({1:0, 0:1})\n",
        "# sns.scatterplot(x=0, y=1, hue='label', data=cancer_df3);"
      ],
      "execution_count": 0,
      "outputs": []
    },
    {
      "cell_type": "code",
      "metadata": {
        "id": "9mqzr6Zlmjsd",
        "colab_type": "code",
        "colab": {}
      },
      "source": [
        "# (ty lecture notebook)\n",
        "\n",
        "def scree_plot(pca):\n",
        "    '''\n",
        "    Creates a scree plot associated with the principal components \n",
        "    \n",
        "    INPUT: pca - the result of instantian of PCA in scikit learn\n",
        "            \n",
        "    OUTPUT:\n",
        "            None\n",
        "    '''\n",
        "\n",
        "    # The underlying number values of the graph\n",
        "    num_components=len(pca.explained_variance_ratio_)\n",
        "    ind = np.arange(num_components)\n",
        "    vals = pca.explained_variance_ratio_\n",
        "    cumvals = np.cumsum(vals)\n",
        " \n",
        "    # fun with matplotlib\n",
        "    plt.figure(figsize=(18, 6))\n",
        "    ax = plt.subplot(111)\n",
        "    ax.bar(ind, vals)\n",
        "    ax.plot(ind, cumvals)\n",
        "\n",
        "    # annotate each component\n",
        "    for i in range(num_components):\n",
        "        ax.annotate(r\"%s\" % ((str(vals[i]*100)[:3])), (ind[i], vals[i]), va=\"bottom\", ha=\"center\", fontsize=4.5)\n",
        " \n",
        "    # more fun with pyplot\n",
        "    ax.xaxis.set_tick_params(width=0)\n",
        "    ax.yaxis.set_tick_params(width=2, length=12)\n",
        " \n",
        "    ax.set_xlabel(\"Principal Component\")\n",
        "    ax.set_ylabel(\"Variance Explained (%)\")\n",
        "    plt.title('Explained Variance Per Principal Component')"
      ],
      "execution_count": 0,
      "outputs": []
    },
    {
      "cell_type": "code",
      "metadata": {
        "id": "kCsUjufqmzd0",
        "colab_type": "code",
        "colab": {
          "base_uri": "https://localhost:8080/",
          "height": 404
        },
        "outputId": "d7bd9eec-3528-43c8-a350-1e14c4278a0a"
      },
      "source": [
        "scree_plot(my_pca)"
      ],
      "execution_count": 23,
      "outputs": [
        {
          "output_type": "display_data",
          "data": {
            "image/png": "[encoded data removed]",
            "text/plain": [
              "<Figure size 1296x432 with 1 Axes>"
            ]
          },
          "metadata": {
            "tags": []
          }
        }
      ]
    },
    {
      "cell_type": "code",
      "metadata": {
        "id": "XKUcyvwAnhwb",
        "colab_type": "code",
        "colab": {}
      },
      "source": [
        "# We got what we needed anyway, on to more pca\n",
        "my_pca2 = PCA(14)\n",
        "pca_features2 = my_pca2.fit_transform(standardized_df_as_np_array.copy())"
      ],
      "execution_count": 0,
      "outputs": []
    },
    {
      "cell_type": "code",
      "metadata": {
        "id": "ux4Ushzzn_Ov",
        "colab_type": "code",
        "colab": {
          "base_uri": "https://localhost:8080/",
          "height": 404
        },
        "outputId": "580d394f-5093-4e1e-f19a-5350f10df4bb"
      },
      "source": [
        "scree_plot(my_pca2)"
      ],
      "execution_count": 25,
      "outputs": [
        {
          "output_type": "display_data",
          "data": {
            "image/png": "[encoded data removed]",
            "text/plain": [
              "<Figure size 1296x432 with 1 Axes>"
            ]
          },
          "metadata": {
            "tags": []
          }
        }
      ]
    },
    {
      "cell_type": "markdown",
      "metadata": {
        "id": "SLTU7-nDobgO",
        "colab_type": "text"
      },
      "source": [
        "14 components are keeping the variance above 90%"
      ]
    },
    {
      "cell_type": "code",
      "metadata": {
        "id": "AuDXqceJo0iJ",
        "colab_type": "code",
        "colab": {}
      },
      "source": [
        "pca_df2 = pd.DataFrame(pca_features2)"
      ],
      "execution_count": 0,
      "outputs": []
    },
    {
      "cell_type": "code",
      "metadata": {
        "id": "LNEb3931ohuI",
        "colab_type": "code",
        "colab": {}
      },
      "source": [
        "# hello old friend\n",
        "copy_df = pca_df2.copy()\n",
        "kmeans = KMeans(n_clusters=2, random_state=0).fit(copy_df)\n",
        "\n",
        "cancer_df4 = pd.DataFrame(copy_df)\n",
        "\n",
        "cancer_df4['label'] = kmeans.labels_"
      ],
      "execution_count": 0,
      "outputs": []
    },
    {
      "cell_type": "code",
      "metadata": {
        "id": "giF4O3d-pbtG",
        "colab_type": "code",
        "colab": {}
      },
      "source": [
        "cancer_df4['og_diagnosis'] = og_df['diagnosis']"
      ],
      "execution_count": 0,
      "outputs": []
    },
    {
      "cell_type": "code",
      "metadata": {
        "id": "h2PGlYxSrnK9",
        "colab_type": "code",
        "colab": {
          "base_uri": "https://localhost:8080/",
          "height": 36
        },
        "outputId": "51d25e93-819c-44f6-845e-df14b33ba521"
      },
      "source": [
        "cancer_df4['og_diagnosis'].unique()"
      ],
      "execution_count": 29,
      "outputs": [
        {
          "output_type": "execute_result",
          "data": {
            "text/plain": [
              "array(['M', 'B'], dtype=object)"
            ]
          },
          "metadata": {
            "tags": []
          },
          "execution_count": 29
        }
      ]
    },
    {
      "cell_type": "code",
      "metadata": {
        "id": "TvCow55orQuQ",
        "colab_type": "code",
        "colab": {}
      },
      "source": [
        "cancer_df4['og_diagnosis'] = cancer_df4['og_diagnosis'].map({'M':1, 'B':0})"
      ],
      "execution_count": 0,
      "outputs": []
    },
    {
      "cell_type": "code",
      "metadata": {
        "id": "shop4dZYrM8f",
        "colab_type": "code",
        "colab": {
          "base_uri": "https://localhost:8080/",
          "height": 36
        },
        "outputId": "bd789262-028b-4fb5-ca57-3084586abe0d"
      },
      "source": [
        "# data frame where our kmeans prediction lines up with the original\n",
        "cancer_df4[cancer_df4['label'] == cancer_df4['og_diagnosis']].shape"
      ],
      "execution_count": 31,
      "outputs": [
        {
          "output_type": "execute_result",
          "data": {
            "text/plain": [
              "(518, 16)"
            ]
          },
          "metadata": {
            "tags": []
          },
          "execution_count": 31
        }
      ]
    },
    {
      "cell_type": "code",
      "metadata": {
        "id": "ReLSexJ6snCt",
        "colab_type": "code",
        "colab": {
          "base_uri": "https://localhost:8080/",
          "height": 36
        },
        "outputId": "08a35f21-fb7e-443f-e7a2-7ee5c9db76f0"
      },
      "source": [
        "# total rows\n",
        "cancer_df4.shape"
      ],
      "execution_count": 32,
      "outputs": [
        {
          "output_type": "execute_result",
          "data": {
            "text/plain": [
              "(569, 16)"
            ]
          },
          "metadata": {
            "tags": []
          },
          "execution_count": 32
        }
      ]
    },
    {
      "cell_type": "code",
      "metadata": {
        "id": "_X1kmWBHsp7b",
        "colab_type": "code",
        "colab": {
          "base_uri": "https://localhost:8080/",
          "height": 36
        },
        "outputId": "3d9835e4-1c3b-4519-83d8-1ccdfccf441a"
      },
      "source": [
        "correct = 518\n",
        "total = 569\n",
        "accuracy = correct / total\n",
        "print(accuracy)"
      ],
      "execution_count": 33,
      "outputs": [
        {
          "output_type": "stream",
          "text": [
            "0.9103690685413005\n"
          ],
          "name": "stdout"
        }
      ]
    },
    {
      "cell_type": "markdown",
      "metadata": {
        "id": "YhheivhitEYQ",
        "colab_type": "text"
      },
      "source": [
        "🎉"
      ]
    },
    {
      "cell_type": "markdown",
      "metadata": {
        "id": "PkrfbzfBROpP",
        "colab_type": "text"
      },
      "source": [
        "## Check your work: \n",
        "\n",
        "- Compare your PC1, PC2 clustering scatterplot to the clustering scatterplots you made on the raw data\n",
        "- Calculate accuracy scores for both the PC1,PC2 Principal component clustering and the 90% of explained variance clustering.\n",
        "\n",
        "How do your accuracy scores -when preprocessing the data with PCA- compare to the accuracy when simply clustering on the raw data?"
      ]
    },
    {
      "cell_type": "markdown",
      "metadata": {
        "id": "wKBwVaGOOYsq",
        "colab_type": "text"
      },
      "source": [
        "# Stretch Goals:\n",
        "\n",
        "- Study for the Sprint Challenge\n",
        "- Work on your Data Storytelling Project"
      ]
    },
    {
      "cell_type": "code",
      "metadata": {
        "id": "9p2djjY5LNWd",
        "colab_type": "code",
        "colab": {}
      },
      "source": [
        ""
      ],
      "execution_count": 0,
      "outputs": []
    }
  ]
}