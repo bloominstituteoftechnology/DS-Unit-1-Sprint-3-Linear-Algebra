{
  "nbformat": 4,
  "nbformat_minor": 0,
  "metadata": {
    "colab": {
      "name": " Linear_Algebra_Sprint_Challenge (3).ipynb",
      "provenance": [],
      "collapsed_sections": [],
      "include_colab_link": true
    },
    "kernelspec": {
      "name": "python3",
      "display_name": "Python 3"
    }
  },
  "cells": [
    {
      "cell_type": "markdown",
      "metadata": {
        "id": "view-in-github",
        "colab_type": "text"
      },
      "source": [
        "<a href=\"https://colab.research.google.com/github/maiormarso/DS-Unit-1-Sprint-3-Linear-Algebra/blob/master/module4-clustering/LS_DS9_135_Linear_Algebra_Sprint_Challenge_(3).ipynb\" target=\"_parent\"><img src=\"https://colab.research.google.com/assets/colab-badge.svg\" alt=\"Open In Colab\"/></a>"
      ]
    },
    {
      "cell_type": "markdown",
      "metadata": {
        "id": "-wQxiT7yC4_v",
        "colab_type": "text"
      },
      "source": [
        "#Linear Algebra"
      ]
    },
    {
      "cell_type": "markdown",
      "metadata": {
        "id": "aiUlaNJkECCL",
        "colab_type": "text"
      },
      "source": [
        "## 1.1 Graph vector $\\vec{a}$ \n",
        "\n",
        "\\begin{align}\n",
        "\\vec{a} = \\begin{bmatrix} 3 \\\\ 2 \\end{bmatrix}\n",
        "\\end{align}"
      ]
    },
    {
      "cell_type": "code",
      "metadata": {
        "id": "QpCKt0n5IeiY",
        "colab_type": "code",
        "outputId": "c6680d9b-9e91-493b-c683-d144955fd350",
        "colab": {
          "base_uri": "https://localhost:8080/",
          "height": 269
        }
      },
      "source": [
        "import math\n",
        "import matplotlib\n",
        "import matplotlib.pyplot as plt\n",
        "matplotlib.style.use('ggplot')\n",
        "import numpy as np\n",
        "\n",
        "# Vector Examples \n",
        "\n",
        "blue = [3,2]\n",
        "\n",
        "\n",
        "#plt.arrow(0, 0, yellow[0], yellow[1], head_width=.02, head_length=0.01, color = 'y')\n",
        "plt.arrow(0, 0, 3, 2, head_width=.02, head_length=0.01, color = 'b')\n",
        "\n",
        "plt.show()"
      ],
      "execution_count": 0,
      "outputs": [
        {
          "output_type": "display_data",
          "data": {
            "image/png": "[encoded data removed]",
            "text/plain": [
              "<Figure size 432x288 with 1 Axes>"
            ]
          },
          "metadata": {
            "tags": []
          }
        }
      ]
    },
    {
      "cell_type": "markdown",
      "metadata": {
        "id": "BDLB08NXEiUN",
        "colab_type": "text"
      },
      "source": [
        "## 1.2 Find $||\\vec{b}||$. What does the norm of a vector represent?\n",
        "\\begin{align}\n",
        "\\vec{b} = \\begin{bmatrix} 17 & -4 & -2 & 1\\end{bmatrix}\n",
        "\\end{align}\n"
      ]
    },
    {
      "cell_type": "markdown",
      "metadata": {
        "id": "qqD3oLutgGZ8",
        "colab_type": "text"
      },
      "source": [
        "The norm of a vector represents the length of the vector.\n",
        "The Norm is the square root of the sum of the squared elements of a vector."
      ]
    },
    {
      "cell_type": "markdown",
      "metadata": {
        "id": "vBbJ0ZyPD6RG",
        "colab_type": "text"
      },
      "source": [
        "## 1.3 Find $\\vec{c} \\cdot \\vec{d}$ - Are these vectors orthogonal? Why or why not?\n",
        "\n",
        "\\begin{align}\n",
        "\\vec{c} = \\begin{bmatrix}3 & 7 & -2 & 12\\end{bmatrix}\n",
        "\\qquad\n",
        "\\vec{d} = \\begin{bmatrix}9 & -7 & 4 & 6\\end{bmatrix}\n",
        "\\end{align}"
      ]
    },
    {
      "cell_type": "markdown",
      "metadata": {
        "id": "T5ZgUMaJiesy",
        "colab_type": "text"
      },
      "source": [
        ""
      ]
    },
    {
      "cell_type": "markdown",
      "metadata": {
        "id": "QwzSheNGfXoG",
        "colab_type": "text"
      },
      "source": [
        "No, they have nevative numbers"
      ]
    },
    {
      "cell_type": "code",
      "metadata": {
        "id": "9Yp7jNBphBh-",
        "colab_type": "code",
        "outputId": "4478f973-a602-48b0-8ad1-98dfb3aeb76d",
        "colab": {
          "base_uri": "https://localhost:8080/",
          "height": 189
        }
      },
      "source": [
        "import numpy as np\n",
        "np.dot(9)(4)+(7)(-71)+(-2)(4)+(12)(6)"
      ],
      "execution_count": 0,
      "outputs": [
        {
          "output_type": "error",
          "ename": "TypeError",
          "evalue": "ignored",
          "traceback": [
            "\u001b[0;31m---------------------------------------------------------------------------\u001b[0m",
            "\u001b[0;31mTypeError\u001b[0m                                 Traceback (most recent call last)",
            "\u001b[0;32m<ipython-input-5-32623ff99d2f>\u001b[0m in \u001b[0;36m<module>\u001b[0;34m()\u001b[0m\n\u001b[1;32m      1\u001b[0m \u001b[0;32mimport\u001b[0m \u001b[0mnumpy\u001b[0m \u001b[0;32mas\u001b[0m \u001b[0mnp\u001b[0m\u001b[0;34m\u001b[0m\u001b[0;34m\u001b[0m\u001b[0m\n\u001b[0;32m----> 2\u001b[0;31m \u001b[0mnp\u001b[0m\u001b[0;34m.\u001b[0m\u001b[0mdot\u001b[0m\u001b[0;34m(\u001b[0m\u001b[0;36m9\u001b[0m\u001b[0;34m)\u001b[0m\u001b[0;34m(\u001b[0m\u001b[0;36m4\u001b[0m\u001b[0;34m)\u001b[0m\u001b[0;34m+\u001b[0m\u001b[0;34m(\u001b[0m\u001b[0;36m7\u001b[0m\u001b[0;34m)\u001b[0m\u001b[0;34m(\u001b[0m\u001b[0;34m-\u001b[0m\u001b[0;36m71\u001b[0m\u001b[0;34m)\u001b[0m\u001b[0;34m+\u001b[0m\u001b[0;34m(\u001b[0m\u001b[0;34m-\u001b[0m\u001b[0;36m2\u001b[0m\u001b[0;34m)\u001b[0m\u001b[0;34m(\u001b[0m\u001b[0;36m4\u001b[0m\u001b[0;34m)\u001b[0m\u001b[0;34m+\u001b[0m\u001b[0;34m(\u001b[0m\u001b[0;36m12\u001b[0m\u001b[0;34m)\u001b[0m\u001b[0;34m(\u001b[0m\u001b[0;36m6\u001b[0m\u001b[0;34m)\u001b[0m\u001b[0;34m\u001b[0m\u001b[0;34m\u001b[0m\u001b[0m\n\u001b[0m",
            "\u001b[0;31mTypeError\u001b[0m: Required argument 'b' (pos 2) not found"
          ]
        }
      ]
    },
    {
      "cell_type": "markdown",
      "metadata": {
        "id": "gS85sJHWG7iU",
        "colab_type": "text"
      },
      "source": [
        "## 1.4 Find $E^{-1}$ and $E^{T}$\n",
        "\n",
        "\\begin{align}\n",
        "E = \n",
        "\\begin{bmatrix}\n",
        "    7 & 4 & 2 \\\\\n",
        "    1 & 3 & -1 \\\\\n",
        "    2 & 6 & -4\n",
        "\\end{bmatrix}\n",
        "\\end{align}"
      ]
    },
    {
      "cell_type": "code",
      "metadata": {
        "id": "QiISq5egIgSS",
        "colab_type": "code",
        "colab": {}
      },
      "source": [
        ""
      ],
      "execution_count": 0,
      "outputs": []
    },
    {
      "cell_type": "markdown",
      "metadata": {
        "id": "_DFQHO2HcPNz",
        "colab_type": "text"
      },
      "source": [
        "## 1.5 Find $|F|$ - What is one reason why the determinant of a matrix would be 0? \n",
        "\n",
        "\\begin{align}\n",
        "F = \n",
        "\\begin{bmatrix}\n",
        "    2 & -2 & 5 \\\\\n",
        "    4 & 1 & 10 \\\\\n",
        "    12 & 6 & 30\n",
        "\\end{bmatrix}\n",
        "\\end{align}"
      ]
    },
    {
      "cell_type": "markdown",
      "metadata": {
        "id": "F-5pQDHBbcOB",
        "colab_type": "text"
      },
      "source": [
        "Because 2 of the colums would be the same or double of each other or in the negative"
      ]
    },
    {
      "cell_type": "markdown",
      "metadata": {
        "id": "TPzrKzEvC5YU",
        "colab_type": "text"
      },
      "source": [
        "# Intermediate Linear Algebra"
      ]
    },
    {
      "cell_type": "markdown",
      "metadata": {
        "id": "ap-us2lBGQyi",
        "colab_type": "text"
      },
      "source": [
        "## 2.1 Suppose that the number of customers at a ski resort as well as the number of inches of fresh powder (snow)  was recorded for 7 days. \n",
        "\n",
        "### Customers: [820, 760, 1250, 990, 1080, 1450, 1600]\n",
        "\n",
        "### Inches of new snow: [0, 1, 7, 1, 0, 6, 4 ]\n",
        "\n",
        "## Find the mean, sample variance, and sample standard deviation for both the number of customers and inches of new snow for the week. Remember that on SCs you can use library functions, dataframes, .describe(), etc. \n",
        "\n"
      ]
    },
    {
      "cell_type": "code",
      "metadata": {
        "id": "xS-JuHl9JiiP",
        "colab_type": "code",
        "colab": {}
      },
      "source": [
        "customers = [820, 760, 1250, 990, 1080, 1450, 1600]\n",
        "snow = [0, 1, 7, 1, 0, 6, 4]"
      ],
      "execution_count": 0,
      "outputs": []
    },
    {
      "cell_type": "code",
      "metadata": {
        "id": "km7PdJwSsblI",
        "colab_type": "code",
        "outputId": "81c9f200-d05d-4787-953f-fad4f6fa43a4",
        "colab": {
          "base_uri": "https://localhost:8080/",
          "height": 258
        }
      },
      "source": [
        "# import pandas as pd \n",
        "import pandas as pd \n",
        "  \n",
        "data={'customers':[820, 760, 1250, 990, 1080, 1450, 1600],\n",
        "           'snow':[0, 1, 7, 1, 0, 6, 4]}\n",
        "df = pd.DataFrame(data)\n",
        "\n",
        "df.head(10)\n"
      ],
      "execution_count": 0,
      "outputs": [
        {
          "output_type": "execute_result",
          "data": {
            "text/html": [
              "<div>\n",
              "<style scoped>\n",
              "    .dataframe tbody tr th:only-of-type {\n",
              "        vertical-align: middle;\n",
              "    }\n",
              "\n",
              "    .dataframe tbody tr th {\n",
              "        vertical-align: top;\n",
              "    }\n",
              "\n",
              "    .dataframe thead th {\n",
              "        text-align: right;\n",
              "    }\n",
              "</style>\n",
              "<table border=\"1\" class=\"dataframe\">\n",
              "  <thead>\n",
              "    <tr style=\"text-align: right;\">\n",
              "      <th></th>\n",
              "      <th>customers</th>\n",
              "      <th>snow</th>\n",
              "    </tr>\n",
              "  </thead>\n",
              "  <tbody>\n",
              "    <tr>\n",
              "      <th>0</th>\n",
              "      <td>820</td>\n",
              "      <td>0</td>\n",
              "    </tr>\n",
              "    <tr>\n",
              "      <th>1</th>\n",
              "      <td>760</td>\n",
              "      <td>1</td>\n",
              "    </tr>\n",
              "    <tr>\n",
              "      <th>2</th>\n",
              "      <td>1250</td>\n",
              "      <td>7</td>\n",
              "    </tr>\n",
              "    <tr>\n",
              "      <th>3</th>\n",
              "      <td>990</td>\n",
              "      <td>1</td>\n",
              "    </tr>\n",
              "    <tr>\n",
              "      <th>4</th>\n",
              "      <td>1080</td>\n",
              "      <td>0</td>\n",
              "    </tr>\n",
              "    <tr>\n",
              "      <th>5</th>\n",
              "      <td>1450</td>\n",
              "      <td>6</td>\n",
              "    </tr>\n",
              "    <tr>\n",
              "      <th>6</th>\n",
              "      <td>1600</td>\n",
              "      <td>4</td>\n",
              "    </tr>\n",
              "  </tbody>\n",
              "</table>\n",
              "</div>"
            ],
            "text/plain": [
              "   customers  snow\n",
              "0        820     0\n",
              "1        760     1\n",
              "2       1250     7\n",
              "3        990     1\n",
              "4       1080     0\n",
              "5       1450     6\n",
              "6       1600     4"
            ]
          },
          "metadata": {
            "tags": []
          },
          "execution_count": 4
        }
      ]
    },
    {
      "cell_type": "code",
      "metadata": {
        "id": "4xCWj1XIz_tJ",
        "colab_type": "code",
        "outputId": "f2b395c5-f587-4b00-a5bc-f86f6f88451f",
        "colab": {
          "base_uri": "https://localhost:8080/",
          "height": 288
        }
      },
      "source": [
        "df.describe()"
      ],
      "execution_count": 0,
      "outputs": [
        {
          "output_type": "execute_result",
          "data": {
            "text/html": [
              "<div>\n",
              "<style scoped>\n",
              "    .dataframe tbody tr th:only-of-type {\n",
              "        vertical-align: middle;\n",
              "    }\n",
              "\n",
              "    .dataframe tbody tr th {\n",
              "        vertical-align: top;\n",
              "    }\n",
              "\n",
              "    .dataframe thead th {\n",
              "        text-align: right;\n",
              "    }\n",
              "</style>\n",
              "<table border=\"1\" class=\"dataframe\">\n",
              "  <thead>\n",
              "    <tr style=\"text-align: right;\">\n",
              "      <th></th>\n",
              "      <th>customers</th>\n",
              "      <th>snow</th>\n",
              "    </tr>\n",
              "  </thead>\n",
              "  <tbody>\n",
              "    <tr>\n",
              "      <th>count</th>\n",
              "      <td>7.000000</td>\n",
              "      <td>7.000000</td>\n",
              "    </tr>\n",
              "    <tr>\n",
              "      <th>mean</th>\n",
              "      <td>1135.714286</td>\n",
              "      <td>2.714286</td>\n",
              "    </tr>\n",
              "    <tr>\n",
              "      <th>std</th>\n",
              "      <td>314.264069</td>\n",
              "      <td>2.927700</td>\n",
              "    </tr>\n",
              "    <tr>\n",
              "      <th>min</th>\n",
              "      <td>760.000000</td>\n",
              "      <td>0.000000</td>\n",
              "    </tr>\n",
              "    <tr>\n",
              "      <th>25%</th>\n",
              "      <td>905.000000</td>\n",
              "      <td>0.500000</td>\n",
              "    </tr>\n",
              "    <tr>\n",
              "      <th>50%</th>\n",
              "      <td>1080.000000</td>\n",
              "      <td>1.000000</td>\n",
              "    </tr>\n",
              "    <tr>\n",
              "      <th>75%</th>\n",
              "      <td>1350.000000</td>\n",
              "      <td>5.000000</td>\n",
              "    </tr>\n",
              "    <tr>\n",
              "      <th>max</th>\n",
              "      <td>1600.000000</td>\n",
              "      <td>7.000000</td>\n",
              "    </tr>\n",
              "  </tbody>\n",
              "</table>\n",
              "</div>"
            ],
            "text/plain": [
              "         customers      snow\n",
              "count     7.000000  7.000000\n",
              "mean   1135.714286  2.714286\n",
              "std     314.264069  2.927700\n",
              "min     760.000000  0.000000\n",
              "25%     905.000000  0.500000\n",
              "50%    1080.000000  1.000000\n",
              "75%    1350.000000  5.000000\n",
              "max    1600.000000  7.000000"
            ]
          },
          "metadata": {
            "tags": []
          },
          "execution_count": 5
        }
      ]
    },
    {
      "cell_type": "code",
      "metadata": {
        "id": "cNxeVa0cg40d",
        "colab_type": "code",
        "outputId": "ef5defac-176a-4c3b-915b-189a89e13ce0",
        "colab": {
          "base_uri": "https://localhost:8080/",
          "height": 35
        }
      },
      "source": [
        "##### Your Code Here #####\n",
        "import numpy as np\n",
        "\n",
        "covariance = np.cov(df, ddof=0)[0][1]\n",
        "print(covariance)"
      ],
      "execution_count": 0,
      "outputs": [
        {
          "output_type": "stream",
          "text": [
            "155595.0\n"
          ],
          "name": "stdout"
        }
      ]
    },
    {
      "cell_type": "markdown",
      "metadata": {
        "id": "ixhZVGxfGVFh",
        "colab_type": "text"
      },
      "source": [
        "## 2.3 Find the variance-covariance matrix for the number of customers and inches of snow at the ski resort. "
      ]
    },
    {
      "cell_type": "code",
      "metadata": {
        "id": "IbglmVaxJjO7",
        "colab_type": "code",
        "outputId": "72d7c737-6258-4e20-f4c7-a09dfe9e683c",
        "colab": {
          "base_uri": "https://localhost:8080/",
          "height": 35
        }
      },
      "source": [
        "##### Your Code Here #####\n",
        "import numpy as np\n",
        "\n",
        "covariance = np.cov(df, ddof=0)[0][1]\n",
        "print(covariance)"
      ],
      "execution_count": 0,
      "outputs": [
        {
          "output_type": "stream",
          "text": [
            "155595.0\n"
          ],
          "name": "stdout"
        }
      ]
    },
    {
      "cell_type": "markdown",
      "metadata": {
        "id": "6Ks3_TbNC5yJ",
        "colab_type": "text"
      },
      "source": [
        "# PCA"
      ]
    },
    {
      "cell_type": "markdown",
      "metadata": {
        "id": "f6qJAPaaOdzD",
        "colab_type": "text"
      },
      "source": [
        "## 3.1 Standardize the data so that it has a mean of 0 and a standard deviation of 1. \n",
        "\n",
        "We have included some code to get you started so that you don't get stuck on something that isn't standardizing the data or PCA.\n",
        "\n",
        "This might be helpful:\n",
        "\n",
        "<https://scikit-learn.org/stable/modules/generated/sklearn.preprocessing.StandardScaler.html>"
      ]
    },
    {
      "cell_type": "code",
      "metadata": {
        "id": "bogsxfNyJlAw",
        "colab_type": "code",
        "outputId": "d7aa05ed-e4c5-4cd6-fe7d-d08b91d42dbd",
        "colab": {
          "base_uri": "https://localhost:8080/",
          "height": 223
        }
      },
      "source": [
        "# Let me get you some data to start you off.\n",
        "import pandas as pd\n",
        "import numpy as np\n",
        "import matplotlib\n",
        "matplotlib.style.use('ggplot')\n",
        "import matplotlib.pyplot as plt\n",
        "from sklearn.decomposition import PCA # You don't necessarily have to use this\n",
        "from sklearn.cluster import KMeans # You don't necessarily have to use this\n",
        "from sklearn.preprocessing import StandardScaler # You don't necessarily have to use this\n",
        "\n",
        "\n",
        "data = {\"Country\": [\"England\",\"Wales\",\"Scotland\",\"North Ireland\"], \n",
        "        \"Cheese\": [105,103,103,66], \n",
        "        \"Carcass_Meat\": [245,227,242,267], \n",
        "        \"Other_Meat\": [685, 803, 750, 586], \n",
        "        \"Fish\": [147, 160, 122, 93], \n",
        "        \"Fats_and_Oils\": [193, 235, 184, 209], \n",
        "        \"Sugars\": [156, 175, 147, 139], \n",
        "        \"Fresh_Potatoes\": [720, 874, 566, 1033], \n",
        "        \"Fresh_Veg\": [253, 265, 171, 143], \n",
        "        \"Other_Veg\": [488, 570, 418, 355], \n",
        "        \"Processed_Potatoes\": [198, 203, 220, 187], \n",
        "        \"Processed_Veg\": [360, 365, 337, 334], \n",
        "        \"Fresh_Fruit\": [1102, 1137, 957, 674], \n",
        "        \"Cereals\": [1472, 1582, 1462, 1494], \n",
        "        \"Beverages\": [57,73,53,47], \n",
        "        \"Soft_Drinks\": [1374, 1256, 1572, 1506], \n",
        "        \"Alcoholic Drinks\": [375, 475, 458, 135], \n",
        "        \"Confectionery\": [54, 64, 62, 41]}\n",
        "\n",
        "food = pd.DataFrame(data)\n",
        "\n",
        "# Look at the data\n",
        "food.head(1000)"
      ],
      "execution_count": 0,
      "outputs": [
        {
          "output_type": "execute_result",
          "data": {
            "text/html": [
              "<div>\n",
              "<style scoped>\n",
              "    .dataframe tbody tr th:only-of-type {\n",
              "        vertical-align: middle;\n",
              "    }\n",
              "\n",
              "    .dataframe tbody tr th {\n",
              "        vertical-align: top;\n",
              "    }\n",
              "\n",
              "    .dataframe thead th {\n",
              "        text-align: right;\n",
              "    }\n",
              "</style>\n",
              "<table border=\"1\" class=\"dataframe\">\n",
              "  <thead>\n",
              "    <tr style=\"text-align: right;\">\n",
              "      <th></th>\n",
              "      <th>Country</th>\n",
              "      <th>Cheese</th>\n",
              "      <th>Carcass_Meat</th>\n",
              "      <th>Other_Meat</th>\n",
              "      <th>Fish</th>\n",
              "      <th>Fats_and_Oils</th>\n",
              "      <th>Sugars</th>\n",
              "      <th>Fresh_Potatoes</th>\n",
              "      <th>Fresh_Veg</th>\n",
              "      <th>Other_Veg</th>\n",
              "      <th>Processed_Potatoes</th>\n",
              "      <th>Processed_Veg</th>\n",
              "      <th>Fresh_Fruit</th>\n",
              "      <th>Cereals</th>\n",
              "      <th>Beverages</th>\n",
              "      <th>Soft_Drinks</th>\n",
              "      <th>Alcoholic Drinks</th>\n",
              "      <th>Confectionery</th>\n",
              "    </tr>\n",
              "  </thead>\n",
              "  <tbody>\n",
              "    <tr>\n",
              "      <th>0</th>\n",
              "      <td>England</td>\n",
              "      <td>105</td>\n",
              "      <td>245</td>\n",
              "      <td>685</td>\n",
              "      <td>147</td>\n",
              "      <td>193</td>\n",
              "      <td>156</td>\n",
              "      <td>720</td>\n",
              "      <td>253</td>\n",
              "      <td>488</td>\n",
              "      <td>198</td>\n",
              "      <td>360</td>\n",
              "      <td>1102</td>\n",
              "      <td>1472</td>\n",
              "      <td>57</td>\n",
              "      <td>1374</td>\n",
              "      <td>375</td>\n",
              "      <td>54</td>\n",
              "    </tr>\n",
              "    <tr>\n",
              "      <th>1</th>\n",
              "      <td>Wales</td>\n",
              "      <td>103</td>\n",
              "      <td>227</td>\n",
              "      <td>803</td>\n",
              "      <td>160</td>\n",
              "      <td>235</td>\n",
              "      <td>175</td>\n",
              "      <td>874</td>\n",
              "      <td>265</td>\n",
              "      <td>570</td>\n",
              "      <td>203</td>\n",
              "      <td>365</td>\n",
              "      <td>1137</td>\n",
              "      <td>1582</td>\n",
              "      <td>73</td>\n",
              "      <td>1256</td>\n",
              "      <td>475</td>\n",
              "      <td>64</td>\n",
              "    </tr>\n",
              "    <tr>\n",
              "      <th>2</th>\n",
              "      <td>Scotland</td>\n",
              "      <td>103</td>\n",
              "      <td>242</td>\n",
              "      <td>750</td>\n",
              "      <td>122</td>\n",
              "      <td>184</td>\n",
              "      <td>147</td>\n",
              "      <td>566</td>\n",
              "      <td>171</td>\n",
              "      <td>418</td>\n",
              "      <td>220</td>\n",
              "      <td>337</td>\n",
              "      <td>957</td>\n",
              "      <td>1462</td>\n",
              "      <td>53</td>\n",
              "      <td>1572</td>\n",
              "      <td>458</td>\n",
              "      <td>62</td>\n",
              "    </tr>\n",
              "    <tr>\n",
              "      <th>3</th>\n",
              "      <td>North Ireland</td>\n",
              "      <td>66</td>\n",
              "      <td>267</td>\n",
              "      <td>586</td>\n",
              "      <td>93</td>\n",
              "      <td>209</td>\n",
              "      <td>139</td>\n",
              "      <td>1033</td>\n",
              "      <td>143</td>\n",
              "      <td>355</td>\n",
              "      <td>187</td>\n",
              "      <td>334</td>\n",
              "      <td>674</td>\n",
              "      <td>1494</td>\n",
              "      <td>47</td>\n",
              "      <td>1506</td>\n",
              "      <td>135</td>\n",
              "      <td>41</td>\n",
              "    </tr>\n",
              "  </tbody>\n",
              "</table>\n",
              "</div>"
            ],
            "text/plain": [
              "         Country  Cheese  ...  Alcoholic Drinks  Confectionery\n",
              "0        England     105  ...               375             54\n",
              "1          Wales     103  ...               475             64\n",
              "2       Scotland     103  ...               458             62\n",
              "3  North Ireland      66  ...               135             41\n",
              "\n",
              "[4 rows x 18 columns]"
            ]
          },
          "metadata": {
            "tags": []
          },
          "execution_count": 34
        }
      ]
    },
    {
      "cell_type": "code",
      "metadata": {
        "id": "_ijFKZaAz7pn",
        "colab_type": "code",
        "outputId": "ca19da9e-985b-45de-8d36-7034154cf491",
        "colab": {
          "base_uri": "https://localhost:8080/",
          "height": 115
        }
      },
      "source": [
        "food = food.drop('Country', axis=1)\n",
        "food.head(1)"
      ],
      "execution_count": 0,
      "outputs": [
        {
          "output_type": "execute_result",
          "data": {
            "text/html": [
              "<div>\n",
              "<style scoped>\n",
              "    .dataframe tbody tr th:only-of-type {\n",
              "        vertical-align: middle;\n",
              "    }\n",
              "\n",
              "    .dataframe tbody tr th {\n",
              "        vertical-align: top;\n",
              "    }\n",
              "\n",
              "    .dataframe thead th {\n",
              "        text-align: right;\n",
              "    }\n",
              "</style>\n",
              "<table border=\"1\" class=\"dataframe\">\n",
              "  <thead>\n",
              "    <tr style=\"text-align: right;\">\n",
              "      <th></th>\n",
              "      <th>Cheese</th>\n",
              "      <th>Carcass_Meat</th>\n",
              "      <th>Other_Meat</th>\n",
              "      <th>Fish</th>\n",
              "      <th>Fats_and_Oils</th>\n",
              "      <th>Sugars</th>\n",
              "      <th>Fresh_Potatoes</th>\n",
              "      <th>Fresh_Veg</th>\n",
              "      <th>Other_Veg</th>\n",
              "      <th>Processed_Potatoes</th>\n",
              "      <th>Processed_Veg</th>\n",
              "      <th>Fresh_Fruit</th>\n",
              "      <th>Cereals</th>\n",
              "      <th>Beverages</th>\n",
              "      <th>Soft_Drinks</th>\n",
              "      <th>Alcoholic Drinks</th>\n",
              "      <th>Confectionery</th>\n",
              "    </tr>\n",
              "  </thead>\n",
              "  <tbody>\n",
              "    <tr>\n",
              "      <th>0</th>\n",
              "      <td>105</td>\n",
              "      <td>245</td>\n",
              "      <td>685</td>\n",
              "      <td>147</td>\n",
              "      <td>193</td>\n",
              "      <td>156</td>\n",
              "      <td>720</td>\n",
              "      <td>253</td>\n",
              "      <td>488</td>\n",
              "      <td>198</td>\n",
              "      <td>360</td>\n",
              "      <td>1102</td>\n",
              "      <td>1472</td>\n",
              "      <td>57</td>\n",
              "      <td>1374</td>\n",
              "      <td>375</td>\n",
              "      <td>54</td>\n",
              "    </tr>\n",
              "  </tbody>\n",
              "</table>\n",
              "</div>"
            ],
            "text/plain": [
              "   Cheese  Carcass_Meat  ...  Alcoholic Drinks  Confectionery\n",
              "0     105           245  ...               375             54\n",
              "\n",
              "[1 rows x 17 columns]"
            ]
          },
          "metadata": {
            "tags": []
          },
          "execution_count": 22
        }
      ]
    },
    {
      "cell_type": "code",
      "metadata": {
        "id": "2HY91nOpaTTZ",
        "colab_type": "code",
        "outputId": "5ef53cde-b4dc-4f26-9388-bde27bd13f73",
        "colab": {
          "base_uri": "https://localhost:8080/",
          "height": 224
        }
      },
      "source": [
        "df = food.copy()\n",
        "print(df.shape)\n",
        "df.head()"
      ],
      "execution_count": 0,
      "outputs": [
        {
          "output_type": "stream",
          "text": [
            "(4, 17)\n"
          ],
          "name": "stdout"
        },
        {
          "output_type": "execute_result",
          "data": {
            "text/html": [
              "<div>\n",
              "<style scoped>\n",
              "    .dataframe tbody tr th:only-of-type {\n",
              "        vertical-align: middle;\n",
              "    }\n",
              "\n",
              "    .dataframe tbody tr th {\n",
              "        vertical-align: top;\n",
              "    }\n",
              "\n",
              "    .dataframe thead th {\n",
              "        text-align: right;\n",
              "    }\n",
              "</style>\n",
              "<table border=\"1\" class=\"dataframe\">\n",
              "  <thead>\n",
              "    <tr style=\"text-align: right;\">\n",
              "      <th></th>\n",
              "      <th>Cheese</th>\n",
              "      <th>Carcass_Meat</th>\n",
              "      <th>Other_Meat</th>\n",
              "      <th>Fish</th>\n",
              "      <th>Fats_and_Oils</th>\n",
              "      <th>Sugars</th>\n",
              "      <th>Fresh_Potatoes</th>\n",
              "      <th>Fresh_Veg</th>\n",
              "      <th>Other_Veg</th>\n",
              "      <th>Processed_Potatoes</th>\n",
              "      <th>Processed_Veg</th>\n",
              "      <th>Fresh_Fruit</th>\n",
              "      <th>Cereals</th>\n",
              "      <th>Beverages</th>\n",
              "      <th>Soft_Drinks</th>\n",
              "      <th>Alcoholic Drinks</th>\n",
              "      <th>Confectionery</th>\n",
              "    </tr>\n",
              "  </thead>\n",
              "  <tbody>\n",
              "    <tr>\n",
              "      <th>0</th>\n",
              "      <td>105</td>\n",
              "      <td>245</td>\n",
              "      <td>685</td>\n",
              "      <td>147</td>\n",
              "      <td>193</td>\n",
              "      <td>156</td>\n",
              "      <td>720</td>\n",
              "      <td>253</td>\n",
              "      <td>488</td>\n",
              "      <td>198</td>\n",
              "      <td>360</td>\n",
              "      <td>1102</td>\n",
              "      <td>1472</td>\n",
              "      <td>57</td>\n",
              "      <td>1374</td>\n",
              "      <td>375</td>\n",
              "      <td>54</td>\n",
              "    </tr>\n",
              "    <tr>\n",
              "      <th>1</th>\n",
              "      <td>103</td>\n",
              "      <td>227</td>\n",
              "      <td>803</td>\n",
              "      <td>160</td>\n",
              "      <td>235</td>\n",
              "      <td>175</td>\n",
              "      <td>874</td>\n",
              "      <td>265</td>\n",
              "      <td>570</td>\n",
              "      <td>203</td>\n",
              "      <td>365</td>\n",
              "      <td>1137</td>\n",
              "      <td>1582</td>\n",
              "      <td>73</td>\n",
              "      <td>1256</td>\n",
              "      <td>475</td>\n",
              "      <td>64</td>\n",
              "    </tr>\n",
              "    <tr>\n",
              "      <th>2</th>\n",
              "      <td>103</td>\n",
              "      <td>242</td>\n",
              "      <td>750</td>\n",
              "      <td>122</td>\n",
              "      <td>184</td>\n",
              "      <td>147</td>\n",
              "      <td>566</td>\n",
              "      <td>171</td>\n",
              "      <td>418</td>\n",
              "      <td>220</td>\n",
              "      <td>337</td>\n",
              "      <td>957</td>\n",
              "      <td>1462</td>\n",
              "      <td>53</td>\n",
              "      <td>1572</td>\n",
              "      <td>458</td>\n",
              "      <td>62</td>\n",
              "    </tr>\n",
              "    <tr>\n",
              "      <th>3</th>\n",
              "      <td>66</td>\n",
              "      <td>267</td>\n",
              "      <td>586</td>\n",
              "      <td>93</td>\n",
              "      <td>209</td>\n",
              "      <td>139</td>\n",
              "      <td>1033</td>\n",
              "      <td>143</td>\n",
              "      <td>355</td>\n",
              "      <td>187</td>\n",
              "      <td>334</td>\n",
              "      <td>674</td>\n",
              "      <td>1494</td>\n",
              "      <td>47</td>\n",
              "      <td>1506</td>\n",
              "      <td>135</td>\n",
              "      <td>41</td>\n",
              "    </tr>\n",
              "  </tbody>\n",
              "</table>\n",
              "</div>"
            ],
            "text/plain": [
              "   Cheese  Carcass_Meat  ...  Alcoholic Drinks  Confectionery\n",
              "0     105           245  ...               375             54\n",
              "1     103           227  ...               475             64\n",
              "2     103           242  ...               458             62\n",
              "3      66           267  ...               135             41\n",
              "\n",
              "[4 rows x 17 columns]"
            ]
          },
          "metadata": {
            "tags": []
          },
          "execution_count": 23
        }
      ]
    },
    {
      "cell_type": "code",
      "metadata": {
        "id": "HLTxjPdR07dU",
        "colab_type": "code",
        "outputId": "06173e9e-c255-4b6b-9ef4-3617ff66c9af",
        "colab": {
          "base_uri": "https://localhost:8080/",
          "height": 345
        }
      },
      "source": [
        "df.isna().sum()"
      ],
      "execution_count": 0,
      "outputs": [
        {
          "output_type": "execute_result",
          "data": {
            "text/plain": [
              "Cheese                0\n",
              "Carcass_Meat          0\n",
              "Other_Meat            0\n",
              "Fish                  0\n",
              "Fats_and_Oils         0\n",
              "Sugars                0\n",
              "Fresh_Potatoes        0\n",
              "Fresh_Veg             0\n",
              "Other_Veg             0\n",
              "Processed_Potatoes    0\n",
              "Processed_Veg         0\n",
              "Fresh_Fruit           0\n",
              "Cereals               0\n",
              "Beverages             0\n",
              "Soft_Drinks           0\n",
              "Alcoholic Drinks      0\n",
              "Confectionery         0\n",
              "dtype: int64"
            ]
          },
          "metadata": {
            "tags": []
          },
          "execution_count": 24
        }
      ]
    },
    {
      "cell_type": "code",
      "metadata": {
        "id": "q-4ds3hz1tDC",
        "colab_type": "code",
        "outputId": "cdc92653-1715-4b50-b499-240caa1afffc",
        "colab": {
          "base_uri": "https://localhost:8080/",
          "height": 35
        }
      },
      "source": [
        "df.shape"
      ],
      "execution_count": 0,
      "outputs": [
        {
          "output_type": "execute_result",
          "data": {
            "text/plain": [
              "(4, 17)"
            ]
          },
          "metadata": {
            "tags": []
          },
          "execution_count": 32
        }
      ]
    },
    {
      "cell_type": "code",
      "metadata": {
        "id": "EkhZYm-e2R8J",
        "colab_type": "code",
        "outputId": "a1568d6f-09b7-48c8-85fe-1f2107f84c89",
        "colab": {
          "base_uri": "https://localhost:8080/",
          "height": 35
        }
      },
      "source": [
        "from sklearn.cluster import KMeans \n",
        "kmeans = KMeans(n_clusters=3)\n",
        "kmeans.fit(df1)\n",
        "labels = kmeans.labels_\n",
        "\n",
        "print(labels)"
      ],
      "execution_count": 0,
      "outputs": [
        {
          "output_type": "stream",
          "text": [
            "[0 0 2 1]\n"
          ],
          "name": "stdout"
        }
      ]
    },
    {
      "cell_type": "code",
      "metadata": {
        "id": "coD-MsqM2tvU",
        "colab_type": "code",
        "outputId": "96ff3bc8-bb78-4ecb-e072-76d973566002",
        "colab": {
          "base_uri": "https://localhost:8080/",
          "height": 205
        }
      },
      "source": [
        "# Add our new labels to the dataframe\n",
        "new_series = pd.Series(labels)\n",
        "df1['clusters'] = new_series.values\n",
        "\n",
        "df1.head()"
      ],
      "execution_count": 0,
      "outputs": [
        {
          "output_type": "execute_result",
          "data": {
            "text/html": [
              "<div>\n",
              "<style scoped>\n",
              "    .dataframe tbody tr th:only-of-type {\n",
              "        vertical-align: middle;\n",
              "    }\n",
              "\n",
              "    .dataframe tbody tr th {\n",
              "        vertical-align: top;\n",
              "    }\n",
              "\n",
              "    .dataframe thead th {\n",
              "        text-align: right;\n",
              "    }\n",
              "</style>\n",
              "<table border=\"1\" class=\"dataframe\">\n",
              "  <thead>\n",
              "    <tr style=\"text-align: right;\">\n",
              "      <th></th>\n",
              "      <th>Cheese</th>\n",
              "      <th>Carcass_Meat</th>\n",
              "      <th>Other_Meat</th>\n",
              "      <th>Fish</th>\n",
              "      <th>Fats_and_Oils</th>\n",
              "      <th>Sugars</th>\n",
              "      <th>Fresh_Potatoes</th>\n",
              "      <th>Fresh_Veg</th>\n",
              "      <th>Other_Veg</th>\n",
              "      <th>Processed_Potatoes</th>\n",
              "      <th>Processed_Veg</th>\n",
              "      <th>Fresh_Fruit</th>\n",
              "      <th>Cereals</th>\n",
              "      <th>Beverages</th>\n",
              "      <th>Soft_Drinks</th>\n",
              "      <th>Alcoholic Drinks</th>\n",
              "      <th>Confectionery</th>\n",
              "      <th>clusters</th>\n",
              "    </tr>\n",
              "  </thead>\n",
              "  <tbody>\n",
              "    <tr>\n",
              "      <th>0</th>\n",
              "      <td>105</td>\n",
              "      <td>245</td>\n",
              "      <td>685</td>\n",
              "      <td>147</td>\n",
              "      <td>193</td>\n",
              "      <td>156</td>\n",
              "      <td>720</td>\n",
              "      <td>253</td>\n",
              "      <td>488</td>\n",
              "      <td>198</td>\n",
              "      <td>360</td>\n",
              "      <td>1102</td>\n",
              "      <td>1472</td>\n",
              "      <td>57</td>\n",
              "      <td>1374</td>\n",
              "      <td>375</td>\n",
              "      <td>54</td>\n",
              "      <td>0</td>\n",
              "    </tr>\n",
              "    <tr>\n",
              "      <th>1</th>\n",
              "      <td>103</td>\n",
              "      <td>227</td>\n",
              "      <td>803</td>\n",
              "      <td>160</td>\n",
              "      <td>235</td>\n",
              "      <td>175</td>\n",
              "      <td>874</td>\n",
              "      <td>265</td>\n",
              "      <td>570</td>\n",
              "      <td>203</td>\n",
              "      <td>365</td>\n",
              "      <td>1137</td>\n",
              "      <td>1582</td>\n",
              "      <td>73</td>\n",
              "      <td>1256</td>\n",
              "      <td>475</td>\n",
              "      <td>64</td>\n",
              "      <td>0</td>\n",
              "    </tr>\n",
              "    <tr>\n",
              "      <th>2</th>\n",
              "      <td>103</td>\n",
              "      <td>242</td>\n",
              "      <td>750</td>\n",
              "      <td>122</td>\n",
              "      <td>184</td>\n",
              "      <td>147</td>\n",
              "      <td>566</td>\n",
              "      <td>171</td>\n",
              "      <td>418</td>\n",
              "      <td>220</td>\n",
              "      <td>337</td>\n",
              "      <td>957</td>\n",
              "      <td>1462</td>\n",
              "      <td>53</td>\n",
              "      <td>1572</td>\n",
              "      <td>458</td>\n",
              "      <td>62</td>\n",
              "      <td>2</td>\n",
              "    </tr>\n",
              "    <tr>\n",
              "      <th>3</th>\n",
              "      <td>66</td>\n",
              "      <td>267</td>\n",
              "      <td>586</td>\n",
              "      <td>93</td>\n",
              "      <td>209</td>\n",
              "      <td>139</td>\n",
              "      <td>1033</td>\n",
              "      <td>143</td>\n",
              "      <td>355</td>\n",
              "      <td>187</td>\n",
              "      <td>334</td>\n",
              "      <td>674</td>\n",
              "      <td>1494</td>\n",
              "      <td>47</td>\n",
              "      <td>1506</td>\n",
              "      <td>135</td>\n",
              "      <td>41</td>\n",
              "      <td>1</td>\n",
              "    </tr>\n",
              "  </tbody>\n",
              "</table>\n",
              "</div>"
            ],
            "text/plain": [
              "   Cheese  Carcass_Meat  Other_Meat  ...  Alcoholic Drinks  Confectionery  clusters\n",
              "0     105           245         685  ...               375             54         0\n",
              "1     103           227         803  ...               475             64         0\n",
              "2     103           242         750  ...               458             62         2\n",
              "3      66           267         586  ...               135             41         1\n",
              "\n",
              "[4 rows x 18 columns]"
            ]
          },
          "metadata": {
            "tags": []
          },
          "execution_count": 43
        }
      ]
    },
    {
      "cell_type": "code",
      "metadata": {
        "id": "XQqoxptJ1a3S",
        "colab_type": "code",
        "colab": {}
      },
      "source": [
        "sum_of_squared_distances = []\n",
        "K = range(1,4)\n",
        "for k in K:\n",
        "    km = KMeans(n_clusters=k)\n",
        "    km = km.fit(df1)\n",
        "    sum_of_squared_distances.append(km.inertia_)"
      ],
      "execution_count": 0,
      "outputs": []
    },
    {
      "cell_type": "code",
      "metadata": {
        "id": "kYW3paye3b5F",
        "colab_type": "code",
        "outputId": "506ad4b2-34fa-427b-9021-7324b7108334",
        "colab": {
          "base_uri": "https://localhost:8080/",
          "height": 299
        }
      },
      "source": [
        "plt.plot(K, sum_of_squared_distances, 'bx-')\n",
        "plt.xlabel('k')\n",
        "plt.ylabel('Sum_of_squared_distances')\n",
        "plt.title('Elbow Method For Optimal k')\n",
        "plt.show()"
      ],
      "execution_count": 0,
      "outputs": [
        {
          "output_type": "display_data",
          "data": {
            "image/png": "[encoded data removed]",
            "text/plain": [
              "<Figure size 432x288 with 1 Axes>"
            ]
          },
          "metadata": {
            "tags": []
          }
        }
      ]
    },
    {
      "cell_type": "code",
      "metadata": {
        "id": "IJrDwOawy5H-",
        "colab_type": "code",
        "outputId": "9d0890c9-c0b6-47cb-efe6-5e8b453d5e61",
        "colab": {
          "base_uri": "https://localhost:8080/",
          "height": 308
        }
      },
      "source": [
        "from sklearn.preprocessing import StandardScaler\n",
        "scaler = StandardScaler()\n",
        "df = scaler.fit_transform(df)\n",
        "df"
      ],
      "execution_count": 0,
      "outputs": [
        {
          "output_type": "execute_result",
          "data": {
            "text/plain": [
              "array([[ 0.65827466, -0.01749546, -0.25954622,  0.64458535, -0.63242919,\n",
              "         0.13055067, -0.45007561,  0.86331183,  0.37773603, -0.33626508,\n",
              "         0.80547723,  0.73740709, -0.64432226, -0.05191741, -0.43523112,\n",
              "         0.10499766, -0.13830319, -0.90453403],\n",
              "       [ 0.53580495, -1.27716878,  1.19885635,  1.15244047,  1.53589947,\n",
              "         1.54795798,  0.43569619,  1.09352832,  1.40168163,  0.08406627,\n",
              "         1.17160324,  0.9292974 ,  1.67946294,  1.60943981, -1.40423624,\n",
              "         0.84182336,  0.96812236, -0.90453403],\n",
              "       [ 0.53580495, -0.22744102,  0.54381113, -0.33205912, -1.09707105,\n",
              "        -0.54085279, -1.33584741, -0.70983418, -0.49636387,  1.51319287,\n",
              "        -0.87870243, -0.0575671 , -0.85557546, -0.46725672,  1.19072664,\n",
              "         0.71656299,  0.74683725,  1.50755672],\n",
              "       [-1.72988456,  1.52210526, -1.48312126, -1.4649667 ,  0.19360077,\n",
              "        -1.13765587,  1.35022682, -1.24700598, -1.28305378, -1.26099406,\n",
              "        -1.09837804, -1.60913739, -0.17956522, -1.09026568,  0.64874072,\n",
              "        -1.66338402, -1.57665641,  0.30151134]])"
            ]
          },
          "metadata": {
            "tags": []
          },
          "execution_count": 71
        }
      ]
    },
    {
      "cell_type": "markdown",
      "metadata": {
        "id": "5U50KZkdJb_s",
        "colab_type": "text"
      },
      "source": [
        "## 3.2 Perform PCA on the data and graph Principal Component 1 against Principal Component 2. \n",
        "\n",
        "This might be helpful:\n",
        "\n",
        "<https://scikit-learn.org/stable/modules/generated/sklearn.decomposition.PCA.html>"
      ]
    },
    {
      "cell_type": "code",
      "metadata": {
        "id": "RqjwVokgP1fL",
        "colab_type": "code",
        "colab": {}
      },
      "source": [
        "from sklearn.decomposition import PCA"
      ],
      "execution_count": 0,
      "outputs": []
    },
    {
      "cell_type": "code",
      "metadata": {
        "id": "uzI-Yhlx5kdB",
        "colab_type": "code",
        "colab": {}
      },
      "source": [
        "pca = PCA(n_components=2)\n",
        "pdf = pca.fit_transform(df) \n",
        "pdf = pd.DataFrame(pdf,columns=['pc1','pc2'])"
      ],
      "execution_count": 0,
      "outputs": []
    },
    {
      "cell_type": "code",
      "metadata": {
        "id": "-wWyU2ty6Xd7",
        "colab_type": "code",
        "outputId": "bb955b3f-335a-4d2d-ace1-75b64c811642",
        "colab": {
          "base_uri": "https://localhost:8080/",
          "height": 168
        }
      },
      "source": [
        "pdf.head()"
      ],
      "execution_count": 0,
      "outputs": [
        {
          "output_type": "execute_result",
          "data": {
            "text/html": [
              "<div>\n",
              "<style scoped>\n",
              "    .dataframe tbody tr th:only-of-type {\n",
              "        vertical-align: middle;\n",
              "    }\n",
              "\n",
              "    .dataframe tbody tr th {\n",
              "        vertical-align: top;\n",
              "    }\n",
              "\n",
              "    .dataframe thead th {\n",
              "        text-align: right;\n",
              "    }\n",
              "</style>\n",
              "<table border=\"1\" class=\"dataframe\">\n",
              "  <thead>\n",
              "    <tr style=\"text-align: right;\">\n",
              "      <th></th>\n",
              "      <th>pc1</th>\n",
              "      <th>pc2</th>\n",
              "    </tr>\n",
              "  </thead>\n",
              "  <tbody>\n",
              "    <tr>\n",
              "      <th>0</th>\n",
              "      <td>-1.096891</td>\n",
              "      <td>0.007042</td>\n",
              "    </tr>\n",
              "    <tr>\n",
              "      <th>1</th>\n",
              "      <td>-4.652169</td>\n",
              "      <td>-1.507773</td>\n",
              "    </tr>\n",
              "    <tr>\n",
              "      <th>2</th>\n",
              "      <td>0.836521</td>\n",
              "      <td>3.527729</td>\n",
              "    </tr>\n",
              "    <tr>\n",
              "      <th>3</th>\n",
              "      <td>4.912539</td>\n",
              "      <td>-2.026999</td>\n",
              "    </tr>\n",
              "  </tbody>\n",
              "</table>\n",
              "</div>"
            ],
            "text/plain": [
              "        pc1       pc2\n",
              "0 -1.096891  0.007042\n",
              "1 -4.652169 -1.507773\n",
              "2  0.836521  3.527729\n",
              "3  4.912539 -2.026999"
            ]
          },
          "metadata": {
            "tags": []
          },
          "execution_count": 74
        }
      ]
    },
    {
      "cell_type": "code",
      "metadata": {
        "id": "H_cRG6XR-22M",
        "colab_type": "code",
        "outputId": "1144ec57-922e-47c0-b600-fe4ce078437e",
        "colab": {
          "base_uri": "https://localhost:8080/",
          "height": 305
        }
      },
      "source": [
        "pdf.plot.scatter(x='pc1', y='pc2')"
      ],
      "execution_count": 0,
      "outputs": [
        {
          "output_type": "execute_result",
          "data": {
            "text/plain": [
              "<matplotlib.axes._subplots.AxesSubplot at 0x7fedee4dce10>"
            ]
          },
          "metadata": {
            "tags": []
          },
          "execution_count": 87
        },
        {
          "output_type": "display_data",
          "data": {
            "image/png": "[encoded data removed]",
            "text/plain": [
              "<Figure size 432x288 with 1 Axes>"
            ]
          },
          "metadata": {
            "tags": []
          }
        }
      ]
    },
    {
      "cell_type": "code",
      "metadata": {
        "id": "kc4IzadL-7NF",
        "colab_type": "code",
        "colab": {}
      },
      "source": [
        "sum_of_squared_distances = []\n",
        "K = range(1,4)\n",
        "for k in K:\n",
        "    km = KMeans(n_clusters=k)\n",
        "    km = km.fit(df)\n",
        "    sum_of_squared_distances.append(km.inertia_)"
      ],
      "execution_count": 0,
      "outputs": []
    },
    {
      "cell_type": "code",
      "metadata": {
        "id": "8L8meGhi_PV6",
        "colab_type": "code",
        "outputId": "578bc112-6f7d-4f8b-e101-bd80c4a0b90a",
        "colab": {
          "base_uri": "https://localhost:8080/",
          "height": 299
        }
      },
      "source": [
        "plt.plot(K, sum_of_squared_distances, 'bx-')\n",
        "plt.xlabel('k')\n",
        "plt.ylabel('Sum_of_squared_distances')\n",
        "plt.title('Elbow Method For Optimal k')\n",
        "plt.show()"
      ],
      "execution_count": 0,
      "outputs": [
        {
          "output_type": "display_data",
          "data": {
            "image/png": "[encoded data removed]",
            "text/plain": [
              "<Figure size 432x288 with 1 Axes>"
            ]
          },
          "metadata": {
            "tags": []
          }
        }
      ]
    },
    {
      "cell_type": "code",
      "metadata": {
        "id": "8bhY6Rjo_al_",
        "colab_type": "code",
        "colab": {}
      },
      "source": [
        "km = KMeans(n_clusters=4)\n",
        "km = km.fit(df)"
      ],
      "execution_count": 0,
      "outputs": []
    },
    {
      "cell_type": "code",
      "metadata": {
        "id": "O9MmFQ5P_gae",
        "colab_type": "code",
        "outputId": "a510e6f5-61b2-4c11-95ba-051bb4ca3174",
        "colab": {
          "base_uri": "https://localhost:8080/",
          "height": 258
        }
      },
      "source": [
        "labels = km.labels_\n",
        "\n",
        "pdf.plot.scatter(x='pc1', y='pc2', c=labels, cmap='Spectral'); "
      ],
      "execution_count": 0,
      "outputs": [
        {
          "output_type": "display_data",
          "data": {
            "image/png": "[encoded data removed]",
            "text/plain": [
              "<Figure size 432x288 with 2 Axes>"
            ]
          },
          "metadata": {
            "tags": []
          }
        }
      ]
    },
    {
      "cell_type": "markdown",
      "metadata": {
        "id": "m_sdj4vvG_tg",
        "colab_type": "text"
      },
      "source": [
        "## 3.3 What are Eigenvalues and Eigenvectors? -In general, not just in PCA."
      ]
    },
    {
      "cell_type": "markdown",
      "metadata": {
        "id": "QlhJnyR2HUTR",
        "colab_type": "text"
      },
      "source": [
        "eigenvectors are the “axes” of the transformation represented by the matrix\n"
      ]
    },
    {
      "cell_type": "markdown",
      "metadata": {
        "id": "z-RzYKR0C6Wg",
        "colab_type": "text"
      },
      "source": [
        "# Clustering"
      ]
    },
    {
      "cell_type": "markdown",
      "metadata": {
        "id": "62efk4plJe54",
        "colab_type": "text"
      },
      "source": [
        "## 4.1 Use K-Means to cluster the following data and then graph your results. \n",
        "\n",
        "We have included some code to get you started so that you don't get stuck on something that isn't standardizing clustering.\n",
        "\n",
        "Prioritize calculating the clusters over graphing them. \n",
        "\n",
        "Scikit-Learn K-Means Documentation:\n",
        "\n",
        "<https://scikit-learn.org/stable/modules/generated/sklearn.cluster.KMeans.html>"
      ]
    },
    {
      "cell_type": "code",
      "metadata": {
        "id": "miK5Aeg-JlzJ",
        "colab_type": "code",
        "outputId": "5bb05f12-abc9-4313-9ac8-3c845704fce7",
        "colab": {
          "base_uri": "https://localhost:8080/",
          "height": 198
        }
      },
      "source": [
        "points = pd.read_csv('https://raw.githubusercontent.com/ryanleeallred/datasets/master/points.csv')\n",
        "points.head()"
      ],
      "execution_count": 0,
      "outputs": [
        {
          "output_type": "execute_result",
          "data": {
            "text/html": [
              "<div>\n",
              "<style scoped>\n",
              "    .dataframe tbody tr th:only-of-type {\n",
              "        vertical-align: middle;\n",
              "    }\n",
              "\n",
              "    .dataframe tbody tr th {\n",
              "        vertical-align: top;\n",
              "    }\n",
              "\n",
              "    .dataframe thead th {\n",
              "        text-align: right;\n",
              "    }\n",
              "</style>\n",
              "<table border=\"1\" class=\"dataframe\">\n",
              "  <thead>\n",
              "    <tr style=\"text-align: right;\">\n",
              "      <th></th>\n",
              "      <th>x</th>\n",
              "      <th>y</th>\n",
              "    </tr>\n",
              "  </thead>\n",
              "  <tbody>\n",
              "    <tr>\n",
              "      <th>0</th>\n",
              "      <td>-7.846803</td>\n",
              "      <td>-3.421277</td>\n",
              "    </tr>\n",
              "    <tr>\n",
              "      <th>1</th>\n",
              "      <td>-3.554323</td>\n",
              "      <td>-6.884729</td>\n",
              "    </tr>\n",
              "    <tr>\n",
              "      <th>2</th>\n",
              "      <td>-0.192822</td>\n",
              "      <td>-9.671030</td>\n",
              "    </tr>\n",
              "    <tr>\n",
              "      <th>3</th>\n",
              "      <td>-6.401456</td>\n",
              "      <td>-5.223972</td>\n",
              "    </tr>\n",
              "    <tr>\n",
              "      <th>4</th>\n",
              "      <td>-0.804026</td>\n",
              "      <td>-9.704457</td>\n",
              "    </tr>\n",
              "  </tbody>\n",
              "</table>\n",
              "</div>"
            ],
            "text/plain": [
              "          x         y\n",
              "0 -7.846803 -3.421277\n",
              "1 -3.554323 -6.884729\n",
              "2 -0.192822 -9.671030\n",
              "3 -6.401456 -5.223972\n",
              "4 -0.804026 -9.704457"
            ]
          },
          "metadata": {
            "tags": []
          },
          "execution_count": 58
        }
      ]
    },
    {
      "cell_type": "code",
      "metadata": {
        "id": "OrrJnPu0AHzt",
        "colab_type": "code",
        "colab": {}
      },
      "source": [
        "from sklearn.decomposition import PCA"
      ],
      "execution_count": 0,
      "outputs": []
    },
    {
      "cell_type": "code",
      "metadata": {
        "id": "yN-7IU94AMkX",
        "colab_type": "code",
        "colab": {}
      },
      "source": [
        "pca = PCA(n_components=2)\n",
        "pdf = pca.fit_transform(points) \n",
        "pdf = pd.DataFrame(pdf,columns=['pc1','pc2'])"
      ],
      "execution_count": 0,
      "outputs": []
    },
    {
      "cell_type": "code",
      "metadata": {
        "id": "_y_qgbZkAdqn",
        "colab_type": "code",
        "outputId": "0c2f04f2-8249-45e7-c4e7-5177ecc3b6a3",
        "colab": {
          "base_uri": "https://localhost:8080/",
          "height": 198
        }
      },
      "source": [
        "pdf.head()"
      ],
      "execution_count": 0,
      "outputs": [
        {
          "output_type": "execute_result",
          "data": {
            "text/html": [
              "<div>\n",
              "<style scoped>\n",
              "    .dataframe tbody tr th:only-of-type {\n",
              "        vertical-align: middle;\n",
              "    }\n",
              "\n",
              "    .dataframe tbody tr th {\n",
              "        vertical-align: top;\n",
              "    }\n",
              "\n",
              "    .dataframe thead th {\n",
              "        text-align: right;\n",
              "    }\n",
              "</style>\n",
              "<table border=\"1\" class=\"dataframe\">\n",
              "  <thead>\n",
              "    <tr style=\"text-align: right;\">\n",
              "      <th></th>\n",
              "      <th>pc1</th>\n",
              "      <th>pc2</th>\n",
              "    </tr>\n",
              "  </thead>\n",
              "  <tbody>\n",
              "    <tr>\n",
              "      <th>0</th>\n",
              "      <td>-2.797536</td>\n",
              "      <td>-4.762657</td>\n",
              "    </tr>\n",
              "    <tr>\n",
              "      <th>1</th>\n",
              "      <td>-3.608286</td>\n",
              "      <td>0.692943</td>\n",
              "    </tr>\n",
              "    <tr>\n",
              "      <th>2</th>\n",
              "      <td>-4.307011</td>\n",
              "      <td>5.002809</td>\n",
              "    </tr>\n",
              "    <tr>\n",
              "      <th>3</th>\n",
              "      <td>-3.619255</td>\n",
              "      <td>-2.603139</td>\n",
              "    </tr>\n",
              "    <tr>\n",
              "      <th>4</th>\n",
              "      <td>-4.645542</td>\n",
              "      <td>4.492825</td>\n",
              "    </tr>\n",
              "  </tbody>\n",
              "</table>\n",
              "</div>"
            ],
            "text/plain": [
              "        pc1       pc2\n",
              "0 -2.797536 -4.762657\n",
              "1 -3.608286  0.692943\n",
              "2 -4.307011  5.002809\n",
              "3 -3.619255 -2.603139\n",
              "4 -4.645542  4.492825"
            ]
          },
          "metadata": {
            "tags": []
          },
          "execution_count": 103
        }
      ]
    },
    {
      "cell_type": "code",
      "metadata": {
        "id": "DzjOOlEgAiJ3",
        "colab_type": "code",
        "outputId": "7cdcb85e-9a08-46be-9f6c-5b6211c0f820",
        "colab": {
          "base_uri": "https://localhost:8080/",
          "height": 305
        }
      },
      "source": [
        "pdf.plot.scatter(x='pc1', y='pc2')"
      ],
      "execution_count": 0,
      "outputs": [
        {
          "output_type": "execute_result",
          "data": {
            "text/plain": [
              "<matplotlib.axes._subplots.AxesSubplot at 0x7fedee20e390>"
            ]
          },
          "metadata": {
            "tags": []
          },
          "execution_count": 104
        },
        {
          "output_type": "display_data",
          "data": {
            "image/png": "[encoded data removed]",
            "text/plain": [
              "<Figure size 432x288 with 1 Axes>"
            ]
          },
          "metadata": {
            "tags": []
          }
        }
      ]
    },
    {
      "cell_type": "code",
      "metadata": {
        "id": "vsO1wLzT9TKk",
        "colab_type": "code",
        "colab": {}
      },
      "source": [
        "sum_of_squared_distances = []\n",
        "K = range(1,2)\n",
        "for k in K:\n",
        "    km = KMeans(n_clusters=k)\n",
        "    km = km.fit(points)\n",
        "    sum_of_squared_distances.append(km.inertia_)"
      ],
      "execution_count": 0,
      "outputs": []
    },
    {
      "cell_type": "code",
      "metadata": {
        "id": "qX0zKKznTzcI",
        "colab_type": "code",
        "colab": {}
      },
      "source": [
        "km = KMeans(n_clusters=2)\n",
        "km = km.fit(points)"
      ],
      "execution_count": 0,
      "outputs": []
    },
    {
      "cell_type": "code",
      "metadata": {
        "id": "NoPtNx158Ros",
        "colab_type": "code",
        "outputId": "adcbd969-3e2e-4af5-a5d8-c2035b712af8",
        "colab": {
          "base_uri": "https://localhost:8080/",
          "height": 258
        }
      },
      "source": [
        "labels = km.labels_\n",
        "\n",
        "pdf.plot.scatter(x='pc1', y='pc2', c=labels, cmap='Spectral');  "
      ],
      "execution_count": 0,
      "outputs": [
        {
          "output_type": "display_data",
          "data": {
            "image/png": "[encoded data removed]",
            "text/plain": [
              "<Figure size 432x288 with 2 Axes>"
            ]
          },
          "metadata": {
            "tags": []
          }
        }
      ]
    },
    {
      "cell_type": "markdown",
      "metadata": {
        "id": "oxxNyhv_FGKB",
        "colab_type": "text"
      },
      "source": [
        "# Stretch Goals (AKA how to get a 3):\n",
        "\n",
        "Complete the stretch goals for each section in order to get a 3 on that section.\n",
        "\n",
        "## Parts 1 & 2 (do all of the following): \n",
        "  - Comment your code well with both markdown and inline comments where appropriate\n",
        "  - Show your work with code and possibly LaTeX \n",
        "  - Justify your answers particularly well to show advanced mastery of this section\n",
        "\n",
        "## Part 3 (do all of the following): \n",
        " - Create a Scree Plot to show the Proportion of Explained Variance of each Principal Component (more than the first two)\n",
        "    - If you want to include a the cumulative proportion of explained variance, you might be interested in this NumPy Function: [numpy.cumsum](https://docs.scipy.org/doc/numpy/reference/generated/numpy.cumsum.html)\n",
        " - Give a top-notch explanation of eigenvalues and eigenvectors. Feel free to any materials, images, code, graphs, LaTeX, etc. to spruce up your answer.\n",
        "\n",
        "## Part 4 (do all of the following):\n",
        "- Justify your choice of k, both visually (scatterplot) and mathematically (elbow plot)."
      ]
    }
  ]
}