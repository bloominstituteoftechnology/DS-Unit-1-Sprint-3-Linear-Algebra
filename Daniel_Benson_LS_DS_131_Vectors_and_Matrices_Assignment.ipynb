{
  "nbformat": 4,
  "nbformat_minor": 0,
  "metadata": {
    "colab": {
      "name": "Daniel_Benson_LS_DS_131_Vectors_and_Matrices_Assignment.ipynb",
      "provenance": [],
      "collapsed_sections": [],
      "include_colab_link": true
    },
    "kernelspec": {
      "name": "python3",
      "display_name": "Python 3"
    }
  },
  "cells": [
    {
      "cell_type": "markdown",
      "metadata": {
        "id": "view-in-github",
        "colab_type": "text"
      },
      "source": [
        "<a href=\"https://colab.research.google.com/github/Daniel-Benson-Poe/DS-Unit-1-Sprint-3-Linear-Algebra/blob/master/Daniel_Benson_LS_DS_131_Vectors_and_Matrices_Assignment.ipynb\" target=\"_parent\"><img src=\"https://colab.research.google.com/assets/colab-badge.svg\" alt=\"Open In Colab\"/></a>"
      ]
    },
    {
      "cell_type": "markdown",
      "metadata": {
        "id": "yXA3GwWhY9KL",
        "colab_type": "text"
      },
      "source": [
        "# Part 1 - Scalars and Vectors\n",
        "\n",
        "For the questions below it is not sufficient to simply provide answer to the questions, but you must solve the problems and show your work using python (the NumPy library will help a lot!) Translate the vectors and matrices into their appropriate python  representations and use numpy or functions that you write yourself to demonstrate the result or property. "
      ]
    },
    {
      "cell_type": "code",
      "metadata": {
        "id": "CDH1W5pPU-TX",
        "colab_type": "code",
        "colab": {}
      },
      "source": [
        "# Imports\n",
        "import pandas as pd\n",
        "import numpy as np\n",
        "import math\n",
        "import matplotlib.pyplot as plt\n",
        "import random\n",
        "from mpl_toolkits.mplot3d import Axes3D"
      ],
      "execution_count": 0,
      "outputs": []
    },
    {
      "cell_type": "markdown",
      "metadata": {
        "id": "oNOTv43_Zi9L",
        "colab_type": "text"
      },
      "source": [
        "## 1.1 Create a two-dimensional vector and plot it on a graph"
      ]
    },
    {
      "cell_type": "code",
      "metadata": {
        "id": "XNqjzQzrkVG7",
        "colab_type": "code",
        "outputId": "30dcd44a-3d6c-4079-c6ae-49bb73c0fd83",
        "colab": {
          "base_uri": "https://localhost:8080/",
          "height": 51
        }
      },
      "source": [
        "# Create 2d vector\n",
        "a = np.array([[random.randint(0,10), random.randint(0,10)], [random.randint(0,10), random.randint(0,10)]])\n",
        "a"
      ],
      "execution_count": 0,
      "outputs": [
        {
          "output_type": "execute_result",
          "data": {
            "text/plain": [
              "array([[2, 2],\n",
              "       [6, 9]])"
            ]
          },
          "metadata": {
            "tags": []
          },
          "execution_count": 2
        }
      ]
    },
    {
      "cell_type": "code",
      "metadata": {
        "id": "uda5ROufW5IX",
        "colab_type": "code",
        "outputId": "f0d1577b-e18a-4941-ed8f-929b65e89a3a",
        "colab": {
          "base_uri": "https://localhost:8080/",
          "height": 269
        }
      },
      "source": [
        "# Create the plot\n",
        "fig, ax = plt.subplots()\n",
        "ax.grid()\n",
        "plt.xlim(-1, 10)\n",
        "plt.ylim(-1, 10)\n",
        "\n",
        "for mycolor, vector in [('red', a[0]), ('red', a[1])]:\n",
        "  plt.arrow(0, 0, \n",
        "          vector[0],\n",
        "          vector[1],\n",
        "          head_width=0.2,\n",
        "          head_length=0.2,\n",
        "          linewidth=3,\n",
        "          color=mycolor)\n",
        "\n",
        "plt.show();"
      ],
      "execution_count": 0,
      "outputs": [
        {
          "output_type": "display_data",
          "data": {
            "image/png": "[encoded data removed]",
            "text/plain": [
              "<Figure size 432x288 with 1 Axes>"
            ]
          },
          "metadata": {
            "tags": []
          }
        }
      ]
    },
    {
      "cell_type": "markdown",
      "metadata": {
        "id": "unKFT619lk3e",
        "colab_type": "text"
      },
      "source": [
        "## 1.2 Create a three-dimensional vecor and plot it on a graph"
      ]
    },
    {
      "cell_type": "code",
      "metadata": {
        "id": "atUEd3T6llKm",
        "colab_type": "code",
        "outputId": "a52af35b-8c65-4573-da6a-7826b6d021e3",
        "colab": {
          "base_uri": "https://localhost:8080/",
          "height": 68
        }
      },
      "source": [
        "# Create 3d vector\n",
        "b = np.array([[0, 0, 0, random.randint(0,10), random.randint(0,10), random.randint(0,10)],\n",
        "              [0, 0, 0, random.randint(0,10), random.randint(0,10), random.randint(0,10)],\n",
        "              [0, 0, 0, random.randint(0,10), random.randint(0,10), random.randint(0,10)]])\n",
        "b"
      ],
      "execution_count": 0,
      "outputs": [
        {
          "output_type": "execute_result",
          "data": {
            "text/plain": [
              "array([[ 0,  0,  0,  6, 10,  1],\n",
              "       [ 0,  0,  0,  9,  9,  7],\n",
              "       [ 0,  0,  0,  0, 10,  1]])"
            ]
          },
          "metadata": {
            "tags": []
          },
          "execution_count": 4
        }
      ]
    },
    {
      "cell_type": "code",
      "metadata": {
        "id": "l8O0GZFUccUV",
        "colab_type": "code",
        "colab": {}
      },
      "source": [
        "X,Y,Z, U,V,W = zip(*b)"
      ],
      "execution_count": 0,
      "outputs": []
    },
    {
      "cell_type": "code",
      "metadata": {
        "id": "mVgRCTrigwvB",
        "colab_type": "code",
        "outputId": "35c26886-c7bc-46b5-cea1-4dcb27ee2631",
        "colab": {
          "base_uri": "https://localhost:8080/",
          "height": 248
        }
      },
      "source": [
        "# Plot 3d vector\n",
        "from mpl_toolkits.mplot3d import Axes3D\n",
        "\n",
        "fig = plt.figure()\n",
        "ax = fig.add_subplot(111, projection='3d')\n",
        "ax.set_xlim([0,10])\n",
        "ax.set_ylim([0,10])\n",
        "ax.set_zlim([0,10])\n",
        "ax.set_xlabel('X')\n",
        "ax.set_ylabel('Y')\n",
        "ax.set_zlabel('Z')\n",
        "\n",
        "ax.quiver(X[0],Y[0],Z[0], U[0],V[0],W[0], length=1, color='blue')\n",
        "ax.quiver(X[1],Y[1],Z[1], U[1],V[1],W[1], length=1, color='blue')\n",
        "ax.quiver(X[2],Y[2],Z[2], U[2],V[2],W[2], length=1, color='blue')\n",
        "plt.show();\n"
      ],
      "execution_count": 0,
      "outputs": [
        {
          "output_type": "display_data",
          "data": {
            "image/png": "[encoded data removed]",
            "text/plain": [
              "<Figure size 432x288 with 1 Axes>"
            ]
          },
          "metadata": {
            "tags": []
          }
        }
      ]
    },
    {
      "cell_type": "markdown",
      "metadata": {
        "id": "b7qFxbKxZmI2",
        "colab_type": "text"
      },
      "source": [
        "## 1.3 Scale the vectors you created in 1.1 by $5$, $\\pi$, and $-e$ and plot all four vectors (original + 3 scaled vectors) on a graph. What do you notice about these vectors? "
      ]
    },
    {
      "cell_type": "code",
      "metadata": {
        "id": "ah6zMSLJdJwL",
        "colab_type": "code",
        "outputId": "7de7880b-6340-4834-99b6-48a597dd07b8",
        "colab": {
          "base_uri": "https://localhost:8080/",
          "height": 51
        }
      },
      "source": [
        "from math import e, pi\n",
        "print(e)\n",
        "print(pi)"
      ],
      "execution_count": 0,
      "outputs": [
        {
          "output_type": "stream",
          "text": [
            "2.718281828459045\n",
            "3.141592653589793\n"
          ],
          "name": "stdout"
        }
      ]
    },
    {
      "cell_type": "code",
      "metadata": {
        "id": "3qpwDlzXkVf5",
        "colab_type": "code",
        "outputId": "d2035219-c4e6-4c95-f882-ea64893c47e0",
        "colab": {
          "base_uri": "https://localhost:8080/",
          "height": 51
        }
      },
      "source": [
        "# Scale by 5\n",
        "c = np.multiply(5, a)\n",
        "c"
      ],
      "execution_count": 0,
      "outputs": [
        {
          "output_type": "execute_result",
          "data": {
            "text/plain": [
              "array([[10, 10],\n",
              "       [30, 45]])"
            ]
          },
          "metadata": {
            "tags": []
          },
          "execution_count": 8
        }
      ]
    },
    {
      "cell_type": "code",
      "metadata": {
        "id": "AnP4a5P9emKV",
        "colab_type": "code",
        "outputId": "8d5cbf1a-c4c2-4afc-e6dd-1905cfc35b26",
        "colab": {
          "base_uri": "https://localhost:8080/",
          "height": 51
        }
      },
      "source": [
        "# Scale by pi\n",
        "d = np.multiply(pi, a)\n",
        "d"
      ],
      "execution_count": 0,
      "outputs": [
        {
          "output_type": "execute_result",
          "data": {
            "text/plain": [
              "array([[ 6.28318531,  6.28318531],\n",
              "       [18.84955592, 28.27433388]])"
            ]
          },
          "metadata": {
            "tags": []
          },
          "execution_count": 10
        }
      ]
    },
    {
      "cell_type": "code",
      "metadata": {
        "id": "zBHY8MDgemY1",
        "colab_type": "code",
        "outputId": "ca7b14e7-038e-4c93-9658-42e8b7f667c0",
        "colab": {
          "base_uri": "https://localhost:8080/",
          "height": 51
        }
      },
      "source": [
        "# Scale by -e\n",
        "e = np.multiply(-e, a)\n",
        "e"
      ],
      "execution_count": 0,
      "outputs": [
        {
          "output_type": "execute_result",
          "data": {
            "text/plain": [
              "array([[ -5.43656366,  -5.43656366],\n",
              "       [-16.30969097, -24.46453646]])"
            ]
          },
          "metadata": {
            "tags": []
          },
          "execution_count": 11
        }
      ]
    },
    {
      "cell_type": "code",
      "metadata": {
        "id": "cD-S82Zqemlx",
        "colab_type": "code",
        "outputId": "30acfe51-f018-4780-a587-2b2cbda935fc",
        "colab": {
          "base_uri": "https://localhost:8080/",
          "height": 269
        }
      },
      "source": [
        "# Now let's graph those\n",
        "fig, ax = plt.subplots()\n",
        "ax.grid()\n",
        "plt.xlim(-30, 40)\n",
        "plt.ylim(-30, 50)\n",
        "\n",
        "for mycolor, vector, width, length, linewidth in [('red', a[0], 3, 2, 5), ('red', a[1], 3, 2, 5), ('green', c[0], .5, .5, 2), \n",
        "                        ('green', c[1], .5, .5, 2), ('blue', d[0], .5, .5, 2), ('blue', d[1], .5, .5, 2), \n",
        "                        ('orange', e[0], .5, .5, 2), ('orange', e[1], .5, .5, 2)]:\n",
        "  plt.arrow(0, 0, \n",
        "          vector[0],\n",
        "          vector[1],\n",
        "          head_width=width,\n",
        "          head_length=length,\n",
        "          linewidth=linewidth,\n",
        "          color=mycolor)\n",
        "\n",
        "plt.show();"
      ],
      "execution_count": 0,
      "outputs": [
        {
          "output_type": "display_data",
          "data": {
            "image/png": "[encoded data removed]",
            "text/plain": [
              "<Figure size 432x288 with 1 Axes>"
            ]
          },
          "metadata": {
            "tags": []
          }
        }
      ]
    },
    {
      "cell_type": "markdown",
      "metadata": {
        "id": "wrgqa6sWimbH",
        "colab_type": "text"
      },
      "source": [
        "## 1.4 Graph vectors $\\vec{a}$ and $\\vec{b}$ and plot them on a graph\n",
        "\n",
        "\\begin{align}\n",
        "\\vec{a} = \\begin{bmatrix} 5 \\\\ 7 \\end{bmatrix}\n",
        "\\qquad\n",
        "\\vec{b} = \\begin{bmatrix} 3 \\\\4 \\end{bmatrix}\n",
        "\\end{align}"
      ]
    },
    {
      "cell_type": "code",
      "metadata": {
        "id": "I1BGXA_skV-b",
        "colab_type": "code",
        "colab": {}
      },
      "source": [
        "v_a = np.array([[5], \n",
        "                [7]])\n",
        "v_b = np.array([[3],\n",
        "                [4]])"
      ],
      "execution_count": 0,
      "outputs": []
    },
    {
      "cell_type": "code",
      "metadata": {
        "id": "yOlAIq1y1QOj",
        "colab_type": "code",
        "outputId": "c8f3f30e-7cfb-4311-fb01-196c2e66d46a",
        "colab": {
          "base_uri": "https://localhost:8080/",
          "height": 85
        }
      },
      "source": [
        "print(v_a[0])\n",
        "print(v_a[1])\n",
        "print(v_b[0])\n",
        "print(v_b[1])"
      ],
      "execution_count": 0,
      "outputs": [
        {
          "output_type": "stream",
          "text": [
            "[5]\n",
            "[7]\n",
            "[3]\n",
            "[4]\n"
          ],
          "name": "stdout"
        }
      ]
    },
    {
      "cell_type": "code",
      "metadata": {
        "id": "9y7qD1HFyLGD",
        "colab_type": "code",
        "outputId": "d8255c0a-b5bf-47d5-acfe-f904ddef458d",
        "colab": {
          "base_uri": "https://localhost:8080/",
          "height": 269
        }
      },
      "source": [
        "# Let's graph those\n",
        "fig, ax = plt.subplots()\n",
        "ax.grid()\n",
        "plt.xlim(-1, 10)\n",
        "plt.ylim(-1, 10)\n",
        "\n",
        "plt.arrow(0, 0, \n",
        "          v_a[0][0],\n",
        "          v_a[1][0],\n",
        "          head_width=.2,\n",
        "          head_length=.2,\n",
        "          linewidth=3,\n",
        "          color='gold')\n",
        "plt.arrow(0, 0, \n",
        "          v_b[0][0],\n",
        "          v_b[1][0],\n",
        "          head_width=.2,\n",
        "          head_length=.2,\n",
        "          linewidth=3,\n",
        "          color='silver')\n",
        "\n",
        "plt.show();"
      ],
      "execution_count": 0,
      "outputs": [
        {
          "output_type": "display_data",
          "data": {
            "image/png": "[encoded data removed]",
            "text/plain": [
              "<Figure size 432x288 with 1 Axes>"
            ]
          },
          "metadata": {
            "tags": []
          }
        }
      ]
    },
    {
      "cell_type": "markdown",
      "metadata": {
        "id": "QN6RU_3gizpw",
        "colab_type": "text"
      },
      "source": [
        "## 1.5 find $\\vec{a} - \\vec{b}$ and plot the result on the same graph as $\\vec{a}$ and $\\vec{b}$. Is there a relationship between vectors $\\vec{a} \\thinspace, \\vec{b} \\thinspace \\text{and} \\thinspace \\vec{a-b}$"
      ]
    },
    {
      "cell_type": "code",
      "metadata": {
        "id": "68sWHIOPkXp5",
        "colab_type": "code",
        "outputId": "b108642c-77ae-4e88-d9bb-537f9a67b86d",
        "colab": {
          "base_uri": "https://localhost:8080/",
          "height": 51
        }
      },
      "source": [
        "# Create vector c and set it to vector a - vector b\n",
        "v_c = v_a - v_b\n",
        "v_c"
      ],
      "execution_count": 0,
      "outputs": [
        {
          "output_type": "execute_result",
          "data": {
            "text/plain": [
              "array([[2],\n",
              "       [3]])"
            ]
          },
          "metadata": {
            "tags": []
          },
          "execution_count": 7
        }
      ]
    },
    {
      "cell_type": "code",
      "metadata": {
        "id": "vu2A1FjXMHQ5",
        "colab_type": "code",
        "outputId": "e31476e6-170a-4531-ca7b-1b52695d271f",
        "colab": {
          "base_uri": "https://localhost:8080/",
          "height": 269
        }
      },
      "source": [
        "# Plot all three\n",
        "fig, ax = plt.subplots()\n",
        "ax.grid()\n",
        "plt.xlim(-1, 10)\n",
        "plt.ylim(-1, 10)\n",
        "\n",
        "plt.arrow(0, 0, \n",
        "          v_a[0][0],\n",
        "          v_a[1][0],\n",
        "          head_width=.2,\n",
        "          head_length=.2,\n",
        "          linewidth=3,\n",
        "          color='gold')\n",
        "plt.arrow(0, 0, \n",
        "          v_b[0][0],\n",
        "          v_b[1][0],\n",
        "          head_width=.2,\n",
        "          head_length=.2,\n",
        "          linewidth=3,\n",
        "          color='silver')\n",
        "plt.arrow(0, 0, \n",
        "          v_c[0][0],\n",
        "          v_c[1][0],\n",
        "          head_width=.2,\n",
        "          head_length=.2,\n",
        "          linewidth=3,\n",
        "          color='cyan')\n",
        "\n",
        "plt.show();"
      ],
      "execution_count": 0,
      "outputs": [
        {
          "output_type": "display_data",
          "data": {
            "image/png": "[encoded data removed]",
            "text/plain": [
              "<Figure size 432x288 with 1 Axes>"
            ]
          },
          "metadata": {
            "tags": []
          }
        }
      ]
    },
    {
      "cell_type": "markdown",
      "metadata": {
        "id": "1ZPVuJAlehu_",
        "colab_type": "text"
      },
      "source": [
        "## 1.6 Find $c \\cdot d$\n",
        "\n",
        "\\begin{align}\n",
        "\\vec{c} = \\begin{bmatrix}7 & 22 & 4 & 16\\end{bmatrix}\n",
        "\\qquad\n",
        "\\vec{d} = \\begin{bmatrix}12 & 6 & 2 & 9\\end{bmatrix}\n",
        "\\end{align}\n"
      ]
    },
    {
      "cell_type": "code",
      "metadata": {
        "id": "2_cZQFCskYNr",
        "colab_type": "code",
        "colab": {}
      },
      "source": [
        "# Create our c and d vectors\n",
        "vc = np.array([7,22,4,16])\n",
        "vd = np.array([12,6,2,9])"
      ],
      "execution_count": 0,
      "outputs": []
    },
    {
      "cell_type": "code",
      "metadata": {
        "id": "1gL-SGZuObLq",
        "colab_type": "code",
        "outputId": "b0eae94f-e0e3-4b0a-bd35-56376dcbee9e",
        "colab": {
          "base_uri": "https://localhost:8080/",
          "height": 34
        }
      },
      "source": [
        "# Now let's multiply those vectors\n",
        "ve = vc * vd\n",
        "print(ve)"
      ],
      "execution_count": 0,
      "outputs": [
        {
          "output_type": "stream",
          "text": [
            "[ 84 132   8 144]\n"
          ],
          "name": "stdout"
        }
      ]
    },
    {
      "cell_type": "code",
      "metadata": {
        "id": "WpPrWitkO_J_",
        "colab_type": "code",
        "outputId": "969fb70d-69b2-470f-bc64-3e4209c5f438",
        "colab": {
          "base_uri": "https://localhost:8080/",
          "height": 265
        }
      },
      "source": [
        "# Let's plot these!\n",
        "fig, ax = plt.subplots()\n",
        "ax.grid()\n",
        "plt.xlim(-1, 100)\n",
        "plt.ylim(-1, 150)\n",
        "\n",
        "plt.arrow(0, 0, \n",
        "          vc[0],\n",
        "          vc[1],\n",
        "          head_width=.2,\n",
        "          head_length=.2,\n",
        "          linewidth=3,\n",
        "          color='gold')\n",
        "plt.arrow(0, 0, \n",
        "          vc[2],\n",
        "          vc[3],\n",
        "          head_width=.2,\n",
        "          head_length=.2,\n",
        "          linewidth=3,\n",
        "          color='gold')\n",
        "plt.arrow(0, 0, \n",
        "          vd[0],\n",
        "          vd[1],\n",
        "          head_width=.2,\n",
        "          head_length=.2,\n",
        "          linewidth=3,\n",
        "          color='silver')\n",
        "plt.arrow(0, 0, \n",
        "          vd[2],\n",
        "          vd[3],\n",
        "          head_width=.2,\n",
        "          head_length=.2,\n",
        "          linewidth=3,\n",
        "          color='silver')\n",
        "plt.arrow(0, 0, \n",
        "          ve[0],\n",
        "          ve[1],\n",
        "          head_width=.2,\n",
        "          head_length=.2,\n",
        "          linewidth=3,\n",
        "          color='cyan')\n",
        "plt.arrow(0, 0, \n",
        "          ve[2],\n",
        "          ve[3],\n",
        "          head_width=.2,\n",
        "          head_length=.2,\n",
        "          linewidth=3,\n",
        "          color='cyan')\n",
        "\n",
        "plt.show();"
      ],
      "execution_count": 0,
      "outputs": [
        {
          "output_type": "display_data",
          "data": {
            "image/png": "[encoded data removed]",
            "text/plain": [
              "<Figure size 432x288 with 1 Axes>"
            ]
          },
          "metadata": {
            "tags": []
          }
        }
      ]
    },
    {
      "cell_type": "markdown",
      "metadata": {
        "id": "cLm8yokpfg9B",
        "colab_type": "text"
      },
      "source": [
        "##  1.7 Find $e \\times f$\n",
        "\n",
        "\\begin{align}\n",
        "\\vec{e} = \\begin{bmatrix} 5 \\\\ 7 \\\\ 2 \\end{bmatrix}\n",
        "\\qquad\n",
        "\\vec{f} = \\begin{bmatrix} 3 \\\\4 \\\\ 6 \\end{bmatrix}\n",
        "\\end{align}"
      ]
    },
    {
      "cell_type": "code",
      "metadata": {
        "id": "ku-TdCKAkYs8",
        "colab_type": "code",
        "outputId": "9a7a6876-ceec-42ff-fb46-fefb81bb6081",
        "colab": {
          "base_uri": "https://localhost:8080/",
          "height": 119
        }
      },
      "source": [
        "# Create our vectors\n",
        "v_e = np.array([[5],\n",
        "                [7],\n",
        "                [2]])\n",
        "v_f = np.array([[3],\n",
        "                [4],\n",
        "                [6]])\n",
        "print(v_e)\n",
        "print(v_f)"
      ],
      "execution_count": 0,
      "outputs": [
        {
          "output_type": "stream",
          "text": [
            "[[5]\n",
            " [7]\n",
            " [2]]\n",
            "[[3]\n",
            " [4]\n",
            " [6]]\n"
          ],
          "name": "stdout"
        }
      ]
    },
    {
      "cell_type": "code",
      "metadata": {
        "id": "nmTXIMIsSLZw",
        "colab_type": "code",
        "outputId": "b921b58e-3932-45b5-e2d1-7be5ca0d3354",
        "colab": {
          "base_uri": "https://localhost:8080/",
          "height": 68
        }
      },
      "source": [
        "v_g = np.cross(v_e, v_f, axis=0)\n",
        "print(v_g)"
      ],
      "execution_count": 0,
      "outputs": [
        {
          "output_type": "stream",
          "text": [
            "[[ 34]\n",
            " [-24]\n",
            " [ -1]]\n"
          ],
          "name": "stdout"
        }
      ]
    },
    {
      "cell_type": "markdown",
      "metadata": {
        "id": "-TN8wO2-h53s",
        "colab_type": "text"
      },
      "source": [
        "## 1.8 Find $||g||$ and then find $||h||$. Which is longer?\n",
        "\n",
        "\\begin{align}\n",
        "\\vec{g} = \\begin{bmatrix} 1 \\\\ 1 \\\\ 1 \\\\ 8 \\end{bmatrix}\n",
        "\\qquad\n",
        "\\vec{h} = \\begin{bmatrix} 3 \\\\3 \\\\ 3 \\\\ 3 \\end{bmatrix}\n",
        "\\end{align}"
      ]
    },
    {
      "cell_type": "code",
      "metadata": {
        "id": "-5VKOMKBlgaA",
        "colab_type": "code",
        "outputId": "7abdb1c0-051e-401e-fb4e-7ca2673bbe8b",
        "colab": {
          "base_uri": "https://localhost:8080/",
          "height": 153
        }
      },
      "source": [
        "# Create our vectors\n",
        "vg = np.array([[1],\n",
        "               [1],\n",
        "               [1],\n",
        "               [8]])\n",
        "vh = np.array([[3],\n",
        "               [3],\n",
        "               [3],\n",
        "               [3]])\n",
        "print(vg)\n",
        "print(vh)"
      ],
      "execution_count": 0,
      "outputs": [
        {
          "output_type": "stream",
          "text": [
            "[[1]\n",
            " [1]\n",
            " [1]\n",
            " [8]]\n",
            "[[3]\n",
            " [3]\n",
            " [3]\n",
            " [3]]\n"
          ],
          "name": "stdout"
        }
      ]
    },
    {
      "cell_type": "code",
      "metadata": {
        "id": "r8Hft63TTFZO",
        "colab_type": "code",
        "colab": {}
      },
      "source": [
        "# Find ||vg|| and ||vh||\n",
        "norm_g = np.linalg.norm(vg)\n",
        "norm_h = np.linalg.norm(vh)"
      ],
      "execution_count": 0,
      "outputs": []
    },
    {
      "cell_type": "code",
      "metadata": {
        "id": "pIUGYb2DTeLs",
        "colab_type": "code",
        "outputId": "7aa567ac-9891-44f8-b133-9464419d340d",
        "colab": {
          "base_uri": "https://localhost:8080/",
          "height": 51
        }
      },
      "source": [
        "# Compare the norms and find which one is longer\n",
        "print(norm_g)\n",
        "print(norm_h)"
      ],
      "execution_count": 0,
      "outputs": [
        {
          "output_type": "stream",
          "text": [
            "8.18535277187245\n",
            "6.0\n"
          ],
          "name": "stdout"
        }
      ]
    },
    {
      "cell_type": "code",
      "metadata": {
        "id": "QUDZR7h0To5z",
        "colab_type": "code",
        "colab": {}
      },
      "source": [
        "# The norm of g is clearly the longest"
      ],
      "execution_count": 0,
      "outputs": []
    },
    {
      "cell_type": "markdown",
      "metadata": {
        "id": "njrWIMS-ZAoH",
        "colab_type": "text"
      },
      "source": [
        "# Part 2 - Matrices"
      ]
    },
    {
      "cell_type": "markdown",
      "metadata": {
        "id": "GjkcAVIOmOnn",
        "colab_type": "text"
      },
      "source": [
        "## 2.1 What are the dimensions of the following matrices? Which of the following can be multiplied together? See if you can find all of the different legal combinations.\n",
        "\\begin{align}\n",
        "A = \\begin{bmatrix}\n",
        "1 & 2 \\\\\n",
        "3 & 4 \\\\\n",
        "5 & 6\n",
        "\\end{bmatrix}\n",
        "\\qquad\n",
        "B = \\begin{bmatrix}\n",
        "2 & 4 & 6 \\\\\n",
        "\\end{bmatrix}\n",
        "\\qquad\n",
        "C = \\begin{bmatrix}\n",
        "9 & 6 & 3 \\\\\n",
        "4 & 7 & 11\n",
        "\\end{bmatrix}\n",
        "\\qquad\n",
        "D = \\begin{bmatrix}\n",
        "1 & 0 & 0 \\\\\n",
        "0 & 1 & 0 \\\\\n",
        "0 & 0 & 1\n",
        "\\end{bmatrix}\n",
        "\\qquad\n",
        "E = \\begin{bmatrix}\n",
        "1 & 3 \\\\\n",
        "5 & 7\n",
        "\\end{bmatrix}\n",
        "\\end{align}"
      ]
    },
    {
      "cell_type": "code",
      "metadata": {
        "id": "Z69c-uPtnbIx",
        "colab_type": "code",
        "colab": {}
      },
      "source": [
        "# The matrices above consist of the following dimensions, in order:\n",
        "# A is 3 dimensional; B is 1 dimensional; C is 2 dimensional; D is 3 dimensional; E is 2 dimensional"
      ],
      "execution_count": 0,
      "outputs": []
    },
    {
      "cell_type": "code",
      "metadata": {
        "id": "okFgiKuFcJLo",
        "colab_type": "code",
        "colab": {}
      },
      "source": [
        "# The rule for multiplying matrices is that the number of columns of the first matrix \n",
        "# must equal the number of rows of the second matrix;\n",
        "# Furthermore, matrix multiplication is not commutative.\n",
        "# As such, we an conclude that A can be multiplied with C and E;\n",
        "# B can be multiplied with A and D;\n",
        "# C can be multipled with A and D;\n",
        "# D can be multiplied with A;\n",
        "# E can be multiplied with C"
      ],
      "execution_count": 0,
      "outputs": []
    },
    {
      "cell_type": "code",
      "metadata": {
        "id": "TMJ45YUQcseo",
        "colab_type": "code",
        "colab": {}
      },
      "source": [
        "# Let's check that these assumptions are indedd correct by performing the \n",
        "# above multiplications"
      ],
      "execution_count": 0,
      "outputs": []
    },
    {
      "cell_type": "code",
      "metadata": {
        "id": "K_cm4pLkdJ-5",
        "colab_type": "code",
        "colab": {}
      },
      "source": [
        "# Let's first create our matrices\n",
        "A = np.array([[1,2],\n",
        "     [3,4],\n",
        "     [5,6]])\n",
        "B = np.array([[2,4,6]])\n",
        "C = np.array([[9,6,3],\n",
        "             [4,7,11]])\n",
        "D = np.array([[1,0,0],\n",
        "              [0,1,0],\n",
        "              [0,0,1]])\n",
        "E = np.array([[1,3],\n",
        "             [5,7]])\n"
      ],
      "execution_count": 0,
      "outputs": []
    },
    {
      "cell_type": "code",
      "metadata": {
        "id": "DhrJKrOid4xn",
        "colab_type": "code",
        "outputId": "82b06d4a-ad3c-4056-f910-c91171053fd3",
        "colab": {
          "base_uri": "https://localhost:8080/",
          "height": 136
        }
      },
      "source": [
        "# Let's start by multiplying using A as our first matrix\n",
        "# Here we expect no problems multiplying A with C or E\n",
        "AC = np.matmul(A,C)\n",
        "print(AC)\n",
        "AE = np.matmul(A,E)\n",
        "print('\\n', AE)"
      ],
      "execution_count": 0,
      "outputs": [
        {
          "output_type": "stream",
          "text": [
            "[[17 20 25]\n",
            " [43 46 53]\n",
            " [69 72 81]]\n",
            "\n",
            " [[11 17]\n",
            " [23 37]\n",
            " [35 57]]\n"
          ],
          "name": "stdout"
        }
      ]
    },
    {
      "cell_type": "code",
      "metadata": {
        "id": "ALHR5ZlLq9xq",
        "colab_type": "code",
        "outputId": "9e47710f-67ce-4424-92df-bcd0fff6d985",
        "colab": {
          "base_uri": "https://localhost:8080/",
          "height": 68
        }
      },
      "source": [
        "# Let's test out B now\n",
        "# We expect no problems multiplying B with A or D\n",
        "BA = np.matmul(B,A)\n",
        "print(BA)\n",
        "BD = np.matmul(B,D)\n",
        "print('\\n', BD)"
      ],
      "execution_count": 0,
      "outputs": [
        {
          "output_type": "stream",
          "text": [
            "[[44 56]]\n",
            "\n",
            " [[2 4 6]]\n"
          ],
          "name": "stdout"
        }
      ]
    },
    {
      "cell_type": "code",
      "metadata": {
        "id": "KeVgzTyd36kF",
        "colab_type": "code",
        "outputId": "c65542d1-1b2e-418f-df9d-b37dc9e914fe",
        "colab": {
          "base_uri": "https://localhost:8080/",
          "height": 102
        }
      },
      "source": [
        "# Now C\n",
        "# We expect no problems multiplying C with A or D\n",
        "CA = np.matmul(C,A)\n",
        "print(CA)\n",
        "CD = np.matmul(C,D)\n",
        "print('\\n', CD)"
      ],
      "execution_count": 0,
      "outputs": [
        {
          "output_type": "stream",
          "text": [
            "[[ 42  60]\n",
            " [ 80 102]]\n",
            "\n",
            " [[ 9  6  3]\n",
            " [ 4  7 11]]\n"
          ],
          "name": "stdout"
        }
      ]
    },
    {
      "cell_type": "code",
      "metadata": {
        "id": "q3TPi6GF39-P",
        "colab_type": "code",
        "outputId": "b04069b6-4374-452f-8712-245e09fa6724",
        "colab": {
          "base_uri": "https://localhost:8080/",
          "height": 68
        }
      },
      "source": [
        "# And D\n",
        "# We expect no problems multiplying D with A\n",
        "DA = np.matmul(D,A)\n",
        "print(DA)"
      ],
      "execution_count": 0,
      "outputs": [
        {
          "output_type": "stream",
          "text": [
            "[[1 2]\n",
            " [3 4]\n",
            " [5 6]]\n"
          ],
          "name": "stdout"
        }
      ]
    },
    {
      "cell_type": "code",
      "metadata": {
        "id": "MNhFGweX5b2T",
        "colab_type": "code",
        "outputId": "fbdf8144-e982-4cab-ee51-81e660f168b4",
        "colab": {
          "base_uri": "https://localhost:8080/",
          "height": 51
        }
      },
      "source": [
        "# Finally E\n",
        "# We expect no problems multiplying E with C\n",
        "EC = np.matmul(E,C)\n",
        "print(EC)"
      ],
      "execution_count": 0,
      "outputs": [
        {
          "output_type": "stream",
          "text": [
            "[[21 27 36]\n",
            " [73 79 92]]\n"
          ],
          "name": "stdout"
        }
      ]
    },
    {
      "cell_type": "markdown",
      "metadata": {
        "id": "lMOlCoM3ncGa",
        "colab_type": "text"
      },
      "source": [
        "## 2.2 Find the following products: CD, AE, and BA. What are the dimensions of the resulting matrices? How does that relate to the dimensions of their factor matrices?"
      ]
    },
    {
      "cell_type": "code",
      "metadata": {
        "id": "zhKwiSItoE2F",
        "colab_type": "code",
        "colab": {}
      },
      "source": [
        "# These answers were found above. \n",
        "# CD results in a 2 dimensional matrix, while C was 2 dimensional and D was 3 dimensional\n",
        "# AE results in a 3 dimensional matrix, while A was 3 dimensional and E was 2 dimensional\n",
        "# BA results in a 1 dimensional matrix, while B was 1 dimensional and A was 3 dimensional\n",
        "# Essentially, the resulting matrix from a multiplication of two matrices\n",
        "# will be the same dimension as the first matrix in the multiplication \n"
      ],
      "execution_count": 0,
      "outputs": []
    },
    {
      "cell_type": "markdown",
      "metadata": {
        "id": "p2jmaGLgoFPN",
        "colab_type": "text"
      },
      "source": [
        "## 2.3  Find $F^{T}$. How are the numbers along the main diagonal (top left to bottom right) of the original matrix and its transpose related? What are the dimensions of $F$? What are the dimensions of $F^{T}$?\n",
        "\n",
        "\\begin{align}\n",
        "F = \n",
        "\\begin{bmatrix}\n",
        "20 & 19 & 18 & 17 \\\\\n",
        "16 & 15 & 14 & 13 \\\\\n",
        "12 & 11 & 10 & 9 \\\\\n",
        "8 & 7 & 6 & 5 \\\\\n",
        "4 & 3 & 2 & 1\n",
        "\\end{bmatrix}\n",
        "\\end{align}"
      ]
    },
    {
      "cell_type": "code",
      "metadata": {
        "id": "Wl3ElwgLqaAn",
        "colab_type": "code",
        "outputId": "f4b0046d-7e8d-4394-aa73-a799764cc019",
        "colab": {
          "base_uri": "https://localhost:8080/",
          "height": 204
        }
      },
      "source": [
        "# First let's create our F matrix\n",
        "F = np.array([[20, 19, 18, 17],\n",
        "     [16, 15, 14, 13],\n",
        "     [12, 11, 10, 9],\n",
        "     [8, 7, 6, 5],\n",
        "     [4, 3, 2, 1, ]])\n",
        "F = pd.DataFrame(F)\n",
        "F"
      ],
      "execution_count": 0,
      "outputs": [
        {
          "output_type": "execute_result",
          "data": {
            "text/html": [
              "<div>\n",
              "<style scoped>\n",
              "    .dataframe tbody tr th:only-of-type {\n",
              "        vertical-align: middle;\n",
              "    }\n",
              "\n",
              "    .dataframe tbody tr th {\n",
              "        vertical-align: top;\n",
              "    }\n",
              "\n",
              "    .dataframe thead th {\n",
              "        text-align: right;\n",
              "    }\n",
              "</style>\n",
              "<table border=\"1\" class=\"dataframe\">\n",
              "  <thead>\n",
              "    <tr style=\"text-align: right;\">\n",
              "      <th></th>\n",
              "      <th>0</th>\n",
              "      <th>1</th>\n",
              "      <th>2</th>\n",
              "      <th>3</th>\n",
              "    </tr>\n",
              "  </thead>\n",
              "  <tbody>\n",
              "    <tr>\n",
              "      <th>0</th>\n",
              "      <td>20</td>\n",
              "      <td>19</td>\n",
              "      <td>18</td>\n",
              "      <td>17</td>\n",
              "    </tr>\n",
              "    <tr>\n",
              "      <th>1</th>\n",
              "      <td>16</td>\n",
              "      <td>15</td>\n",
              "      <td>14</td>\n",
              "      <td>13</td>\n",
              "    </tr>\n",
              "    <tr>\n",
              "      <th>2</th>\n",
              "      <td>12</td>\n",
              "      <td>11</td>\n",
              "      <td>10</td>\n",
              "      <td>9</td>\n",
              "    </tr>\n",
              "    <tr>\n",
              "      <th>3</th>\n",
              "      <td>8</td>\n",
              "      <td>7</td>\n",
              "      <td>6</td>\n",
              "      <td>5</td>\n",
              "    </tr>\n",
              "    <tr>\n",
              "      <th>4</th>\n",
              "      <td>4</td>\n",
              "      <td>3</td>\n",
              "      <td>2</td>\n",
              "      <td>1</td>\n",
              "    </tr>\n",
              "  </tbody>\n",
              "</table>\n",
              "</div>"
            ],
            "text/plain": [
              "    0   1   2   3\n",
              "0  20  19  18  17\n",
              "1  16  15  14  13\n",
              "2  12  11  10   9\n",
              "3   8   7   6   5\n",
              "4   4   3   2   1"
            ]
          },
          "metadata": {
            "tags": []
          },
          "execution_count": 104
        }
      ]
    },
    {
      "cell_type": "code",
      "metadata": {
        "id": "A9QjEaEF88gg",
        "colab_type": "code",
        "outputId": "a702fb2d-4432-47d3-e081-5a8e4cc0824e",
        "colab": {
          "base_uri": "https://localhost:8080/",
          "height": 173
        }
      },
      "source": [
        "# Now let's transpose F\n",
        "F_T = F.T\n",
        "pd.DataFrame(F_T)"
      ],
      "execution_count": 0,
      "outputs": [
        {
          "output_type": "execute_result",
          "data": {
            "text/html": [
              "<div>\n",
              "<style scoped>\n",
              "    .dataframe tbody tr th:only-of-type {\n",
              "        vertical-align: middle;\n",
              "    }\n",
              "\n",
              "    .dataframe tbody tr th {\n",
              "        vertical-align: top;\n",
              "    }\n",
              "\n",
              "    .dataframe thead th {\n",
              "        text-align: right;\n",
              "    }\n",
              "</style>\n",
              "<table border=\"1\" class=\"dataframe\">\n",
              "  <thead>\n",
              "    <tr style=\"text-align: right;\">\n",
              "      <th></th>\n",
              "      <th>0</th>\n",
              "      <th>1</th>\n",
              "      <th>2</th>\n",
              "      <th>3</th>\n",
              "      <th>4</th>\n",
              "    </tr>\n",
              "  </thead>\n",
              "  <tbody>\n",
              "    <tr>\n",
              "      <th>0</th>\n",
              "      <td>20</td>\n",
              "      <td>16</td>\n",
              "      <td>12</td>\n",
              "      <td>8</td>\n",
              "      <td>4</td>\n",
              "    </tr>\n",
              "    <tr>\n",
              "      <th>1</th>\n",
              "      <td>19</td>\n",
              "      <td>15</td>\n",
              "      <td>11</td>\n",
              "      <td>7</td>\n",
              "      <td>3</td>\n",
              "    </tr>\n",
              "    <tr>\n",
              "      <th>2</th>\n",
              "      <td>18</td>\n",
              "      <td>14</td>\n",
              "      <td>10</td>\n",
              "      <td>6</td>\n",
              "      <td>2</td>\n",
              "    </tr>\n",
              "    <tr>\n",
              "      <th>3</th>\n",
              "      <td>17</td>\n",
              "      <td>13</td>\n",
              "      <td>9</td>\n",
              "      <td>5</td>\n",
              "      <td>1</td>\n",
              "    </tr>\n",
              "  </tbody>\n",
              "</table>\n",
              "</div>"
            ],
            "text/plain": [
              "    0   1   2  3  4\n",
              "0  20  16  12  8  4\n",
              "1  19  15  11  7  3\n",
              "2  18  14  10  6  2\n",
              "3  17  13   9  5  1"
            ]
          },
          "metadata": {
            "tags": []
          },
          "execution_count": 105
        }
      ]
    },
    {
      "cell_type": "code",
      "metadata": {
        "id": "t_oB__SH9dDA",
        "colab_type": "code",
        "colab": {}
      },
      "source": [
        "# Looking at the above matrices, we can determine the following:\n",
        "# The main diagonal through both matrices stays the same,\n",
        "# as is expected (20, 15, 10, 5)\n",
        "# The F matric is 5 dimensional\n",
        "# The F transposed matrix is 4 dimensional\n",
        "# Also expected, as the rows and columns switch."
      ],
      "execution_count": 0,
      "outputs": []
    },
    {
      "cell_type": "markdown",
      "metadata": {
        "id": "13ik2LEEZLHn",
        "colab_type": "text"
      },
      "source": [
        "# Part 3 - Square Matrices"
      ]
    },
    {
      "cell_type": "markdown",
      "metadata": {
        "id": "sDBAPUwfp7f7",
        "colab_type": "text"
      },
      "source": [
        "## 3.1 Find $IG$ (be sure to show your work) 😃\n",
        "\n",
        "You don't have to do anything crazy complicated here to show your work, just create the G matrix as specified below, and a corresponding 2x2 Identity matrix and then multiply them together to show the result. You don't need to write LaTeX or anything like that (unless you want to).\n",
        "\n",
        "\\begin{align}\n",
        "G= \n",
        "\\begin{bmatrix}\n",
        "13 & 14 \\\\\n",
        "21 & 12 \n",
        "\\end{bmatrix}\n",
        "\\end{align}"
      ]
    },
    {
      "cell_type": "code",
      "metadata": {
        "id": "ZnqvZBOYqar3",
        "colab_type": "code",
        "outputId": "026be1fc-6d8a-4f49-bd48-68cf175713e5",
        "colab": {
          "base_uri": "https://localhost:8080/",
          "height": 136
        }
      },
      "source": [
        "# First let's create our matrices\n",
        "G = np.array([[13,14],\n",
        "     [21,12]])\n",
        "I = np.array([[1,0],\n",
        "     [0,1]])\n",
        "print(pd.DataFrame(G))\n",
        "print('\\n', pd.DataFrame(I))"
      ],
      "execution_count": 0,
      "outputs": [
        {
          "output_type": "stream",
          "text": [
            "    0   1\n",
            "0  13  14\n",
            "1  21  12\n",
            "\n",
            "    0  1\n",
            "0  1  0\n",
            "1  0  1\n"
          ],
          "name": "stdout"
        }
      ]
    },
    {
      "cell_type": "code",
      "metadata": {
        "id": "NzuFTd4NIWre",
        "colab_type": "code",
        "outputId": "8aad4ed2-0203-49ba-c065-ec6c15ae0971",
        "colab": {
          "base_uri": "https://localhost:8080/",
          "height": 68
        }
      },
      "source": [
        "# Now let's multiply these together and show that the identity matrix \n",
        "# multiplied by our G matrix returns the exact same values from our\n",
        "# G matrix\n",
        "IG = np.matmul(I, G)\n",
        "print(pd.DataFrame(IG))"
      ],
      "execution_count": 0,
      "outputs": [
        {
          "output_type": "stream",
          "text": [
            "    0   1\n",
            "0  13  14\n",
            "1  21  12\n"
          ],
          "name": "stdout"
        }
      ]
    },
    {
      "cell_type": "markdown",
      "metadata": {
        "id": "DZ_0XTDQqpMT",
        "colab_type": "text"
      },
      "source": [
        "## 3.2 Find $|H|$ and then find $|J|$.\n",
        "\n",
        "\\begin{align}\n",
        "H= \n",
        "\\begin{bmatrix}\n",
        "12 & 11 \\\\\n",
        "7 & 10 \n",
        "\\end{bmatrix}\n",
        "\\qquad\n",
        "J= \n",
        "\\begin{bmatrix}\n",
        "0 & 1 & 2 \\\\\n",
        "7 & 10 & 4 \\\\\n",
        "3 & 2 & 0\n",
        "\\end{bmatrix}\n",
        "\\end{align}\n"
      ]
    },
    {
      "cell_type": "code",
      "metadata": {
        "id": "5QShhoXyrjDS",
        "colab_type": "code",
        "outputId": "9d2a710c-f7ad-499a-ef8f-8c7cc8e6c5d1",
        "colab": {
          "base_uri": "https://localhost:8080/",
          "height": 153
        }
      },
      "source": [
        "# Create the matrices\n",
        "H = np.array([[12,11],\n",
        "     [7,10]])\n",
        "J = np.array([[0,1,2],\n",
        "     [7,10,4],\n",
        "     [3,2,0]])\n",
        "print(pd.DataFrame(H))\n",
        "print('\\n', pd.DataFrame(J))"
      ],
      "execution_count": 0,
      "outputs": [
        {
          "output_type": "stream",
          "text": [
            "    0   1\n",
            "0  12  11\n",
            "1   7  10\n",
            "\n",
            "    0   1  2\n",
            "0  0   1  2\n",
            "1  7  10  4\n",
            "2  3   2  0\n"
          ],
          "name": "stdout"
        }
      ]
    },
    {
      "cell_type": "code",
      "metadata": {
        "id": "Wzt1iFkzLBn8",
        "colab_type": "code",
        "outputId": "dd5c2ef1-8e91-4cc4-a0cc-c54227040cfc",
        "colab": {
          "base_uri": "https://localhost:8080/",
          "height": 51
        }
      },
      "source": [
        "# Find the determinant for both H and J and print them \n",
        "H_det = np.linalg.det(H)\n",
        "print(H_det)\n",
        "J_det = np.linalg.det(J)\n",
        "print(J_det)"
      ],
      "execution_count": 0,
      "outputs": [
        {
          "output_type": "stream",
          "text": [
            "43.000000000000014\n",
            "-19.999999999999996\n"
          ],
          "name": "stdout"
        }
      ]
    },
    {
      "cell_type": "markdown",
      "metadata": {
        "id": "2gZl1CFwrXSH",
        "colab_type": "text"
      },
      "source": [
        "## 3.3 Find $H^{-1}$ and then find $J^{-1}$"
      ]
    },
    {
      "cell_type": "code",
      "metadata": {
        "id": "nyX6De2-rio1",
        "colab_type": "code",
        "outputId": "2abf32f7-4b05-4648-e9cc-9e58a6b5dbfb",
        "colab": {
          "base_uri": "https://localhost:8080/",
          "height": 153
        }
      },
      "source": [
        "# Let's look at our H and J matrices again to remember what we are working with\n",
        "print(pd.DataFrame(H))\n",
        "print('\\n', pd.DataFrame(J))"
      ],
      "execution_count": 0,
      "outputs": [
        {
          "output_type": "stream",
          "text": [
            "    0   1\n",
            "0  12  11\n",
            "1   7  10\n",
            "\n",
            "    0   1  2\n",
            "0  0   1  2\n",
            "1  7  10  4\n",
            "2  3   2  0\n"
          ],
          "name": "stdout"
        }
      ]
    },
    {
      "cell_type": "code",
      "metadata": {
        "id": "6zrPdEJ0Mm7L",
        "colab_type": "code",
        "outputId": "45fb2373-c376-4432-8a2d-3367b8a1344a",
        "colab": {
          "base_uri": "https://localhost:8080/",
          "height": 153
        }
      },
      "source": [
        "# Now let's find the inverse of both H and J and print them\n",
        "H_inv = np.linalg.inv(H)\n",
        "print(pd.DataFrame(H_inv))\n",
        "J_inv = np.linalg.inv(J)\n",
        "print('\\n', pd.DataFrame(J_inv))"
      ],
      "execution_count": 0,
      "outputs": [
        {
          "output_type": "stream",
          "text": [
            "          0         1\n",
            "0  0.232558 -0.255814\n",
            "1 -0.162791  0.279070\n",
            "\n",
            "      0     1     2\n",
            "0  0.4 -0.20  0.80\n",
            "1 -0.6  0.30 -0.70\n",
            "2  0.8 -0.15  0.35\n"
          ],
          "name": "stdout"
        }
      ]
    },
    {
      "cell_type": "markdown",
      "metadata": {
        "id": "Vvd4Pe86rjhW",
        "colab_type": "text"
      },
      "source": [
        "## 3.4 Find $HH^{-1}$ and then find $J^{-1}J$. Is $HH^{-1} == J^{-1}J$? Why or Why not? \n",
        "\n",
        "Please ignore Python rounding errors. If necessary, format your output so that it rounds to 5 significant digits (the fifth decimal place)."
      ]
    },
    {
      "cell_type": "code",
      "metadata": {
        "id": "MzhCH8w3NIcM",
        "colab_type": "code",
        "outputId": "8a1bb7df-d98a-4b46-dccb-73a21cd11b0c",
        "colab": {
          "base_uri": "https://localhost:8080/",
          "height": 68
        }
      },
      "source": [
        "# Let's multiply our H matrix and H_inv matrix\n",
        "H_H_inv = np.matmul(H, H_inv)\n",
        "print(pd.DataFrame(H_H_inv))"
      ],
      "execution_count": 0,
      "outputs": [
        {
          "output_type": "stream",
          "text": [
            "              0             1\n",
            "0  1.000000e+00  5.551115e-16\n",
            "1  2.220446e-16  1.000000e+00\n"
          ],
          "name": "stdout"
        }
      ]
    },
    {
      "cell_type": "code",
      "metadata": {
        "id": "2NhgTn3WOFdf",
        "colab_type": "code",
        "outputId": "5c79839a-0529-4ca0-8cb9-33514f4aff01",
        "colab": {
          "base_uri": "https://localhost:8080/",
          "height": 85
        }
      },
      "source": [
        "# Now let's do the same with our J and J_inv matrices\n",
        "J_J_inv = np.matmul(J, J_inv)\n",
        "print(pd.DataFrame(J_J_inv))"
      ],
      "execution_count": 0,
      "outputs": [
        {
          "output_type": "stream",
          "text": [
            "     0             1    2\n",
            "0  1.0 -5.551115e-17  0.0\n",
            "1  0.0  1.000000e+00  0.0\n",
            "2  0.0  0.000000e+00  1.0\n"
          ],
          "name": "stdout"
        }
      ]
    },
    {
      "cell_type": "code",
      "metadata": {
        "id": "lU2KcvQ-QuER",
        "colab_type": "code",
        "colab": {}
      },
      "source": [
        "# In each case above, multiplying the original matrix (H or J)\n",
        "# by their inverse (H_inv or J_inv) returned the identity matrix\n",
        "# This identity matrix only differs in its dimensions, but is \n",
        "# identical in every other way"
      ],
      "execution_count": 0,
      "outputs": []
    },
    {
      "cell_type": "markdown",
      "metadata": {
        "id": "V0iTO4McYjtk",
        "colab_type": "text"
      },
      "source": [
        "# Stretch Goals: \n",
        "\n",
        "A reminder that these challenges are optional. If you finish your work quickly we welcome you to work on them. If there are other activities that you feel like will help your understanding of the above topics more, feel free to work on that. Topics from the Stretch Goals sections will never end up on Sprint Challenges. You don't have to do these in order, you don't have to do all of them. \n",
        "\n",
        "- Write a function that can calculate the dot product of any two vectors of equal length that are passed to it.\n",
        "- Write a function that can calculate the norm of any vector\n",
        "- Prove to yourself again that the vectors in 1.9 are orthogonal by graphing them. \n",
        "- Research how to plot a 3d graph with animations so that you can make the graph rotate (this will be easier in a local notebook than in google colab)\n",
        "- Create and plot a matrix on a 2d graph.\n",
        "- Create and plot a matrix on a 3d graph.\n",
        "- Plot two vectors that are not collinear on a 2d graph. Calculate the determinant of the 2x2 matrix that these vectors form. How does this determinant relate to the graphical interpretation of the vectors?\n",
        "\n"
      ]
    },
    {
      "cell_type": "markdown",
      "metadata": {
        "id": "fF4ORz0IVM63",
        "colab_type": "text"
      },
      "source": [
        "# Write a function that can calculate the dot product of any two vectors of equal length that are passed to it."
      ]
    },
    {
      "cell_type": "code",
      "metadata": {
        "id": "NiDqo3LYRQxg",
        "colab_type": "code",
        "colab": {}
      },
      "source": [
        "# Function that calculates dot product of two vectors\n",
        "def dot_prod(vec1, vec2):\n",
        "  return np.dot(vec1, vec2)\n",
        "  "
      ],
      "execution_count": 0,
      "outputs": []
    },
    {
      "cell_type": "code",
      "metadata": {
        "id": "Gs5U0IoVR5dY",
        "colab_type": "code",
        "colab": {}
      },
      "source": [
        "# Let's test it out now!\n",
        "# First create some vectors\n",
        "vec_a = np.array([12, 8, 13, 9])\n",
        "vec_b = np.array([5, 18, 2, 0])\n",
        "vec_c = np.array([random.randint(0, 20), random.randint(0, 20), random.randint(0, 20)])\n",
        "vec_d = np.array([random.randint(0, 20), random.randint(0, 20), random.randint(0, 20)])\n",
        "vec_e = np.array([random.randint(0, 20), random.randint(0, 20), random.randint(0, 20), random.randint(0, 20), random.randint(0, 20)])\n",
        "vec_f = np.array([random.randint(0, 20), random.randint(0, 20), random.randint(0, 20), random.randint(0, 20), random.randint(0, 20)])\n"
      ],
      "execution_count": 0,
      "outputs": []
    },
    {
      "cell_type": "code",
      "metadata": {
        "id": "MJ1faq0JTtxD",
        "colab_type": "code",
        "outputId": "5f392cd7-f432-4e62-aa0a-e16f0b1c40a5",
        "colab": {
          "base_uri": "https://localhost:8080/",
          "height": 34
        }
      },
      "source": [
        "# Let's find the dot product of vec_a and vec_b\n",
        "dot_prod(vec_a, vec_b)"
      ],
      "execution_count": 4,
      "outputs": [
        {
          "output_type": "execute_result",
          "data": {
            "text/plain": [
              "230"
            ]
          },
          "metadata": {
            "tags": []
          },
          "execution_count": 4
        }
      ]
    },
    {
      "cell_type": "code",
      "metadata": {
        "id": "14N4ZR95VAQw",
        "colab_type": "code",
        "outputId": "4488fb6b-7180-4000-f1b3-f55a350d10ec",
        "colab": {
          "base_uri": "https://localhost:8080/",
          "height": 34
        }
      },
      "source": [
        "# Now find the dot product of vec_c and vec_d\n",
        "dot_prod(vec_c, vec_d)"
      ],
      "execution_count": 5,
      "outputs": [
        {
          "output_type": "execute_result",
          "data": {
            "text/plain": [
              "120"
            ]
          },
          "metadata": {
            "tags": []
          },
          "execution_count": 5
        }
      ]
    },
    {
      "cell_type": "code",
      "metadata": {
        "id": "7Mhnv30RVAiG",
        "colab_type": "code",
        "outputId": "a19f502f-d957-4ad9-8e75-a7c8f47210c2",
        "colab": {
          "base_uri": "https://localhost:8080/",
          "height": 34
        }
      },
      "source": [
        "# and vec_e, vec_f\n",
        "dot_prod(vec_e, vec_f)"
      ],
      "execution_count": 6,
      "outputs": [
        {
          "output_type": "execute_result",
          "data": {
            "text/plain": [
              "183"
            ]
          },
          "metadata": {
            "tags": []
          },
          "execution_count": 6
        }
      ]
    },
    {
      "cell_type": "code",
      "metadata": {
        "id": "ejMMqhnRUj3P",
        "colab_type": "code",
        "outputId": "47a04b11-b317-4770-faa6-f9863d119cf3",
        "colab": {
          "base_uri": "https://localhost:8080/",
          "height": 283
        }
      },
      "source": [
        "# Let's confirm that it DOESN'T work with vectors of different lengths\n",
        " dot_prod(vec_a, vec_d)"
      ],
      "execution_count": 7,
      "outputs": [
        {
          "output_type": "error",
          "ename": "ValueError",
          "evalue": "ignored",
          "traceback": [
            "\u001b[0;31m---------------------------------------------------------------------------\u001b[0m",
            "\u001b[0;31mValueError\u001b[0m                                Traceback (most recent call last)",
            "\u001b[0;32m<ipython-input-7-5d6d93c2090a>\u001b[0m in \u001b[0;36m<module>\u001b[0;34m()\u001b[0m\n\u001b[0;32m----> 1\u001b[0;31m \u001b[0mdot_prod\u001b[0m\u001b[0;34m(\u001b[0m\u001b[0mvec_a\u001b[0m\u001b[0;34m,\u001b[0m \u001b[0mvec_d\u001b[0m\u001b[0;34m)\u001b[0m\u001b[0;34m\u001b[0m\u001b[0;34m\u001b[0m\u001b[0m\n\u001b[0m",
            "\u001b[0;32m<ipython-input-2-d89523f3507c>\u001b[0m in \u001b[0;36mdot_prod\u001b[0;34m(vec1, vec2)\u001b[0m\n\u001b[1;32m      1\u001b[0m \u001b[0;32mdef\u001b[0m \u001b[0mdot_prod\u001b[0m\u001b[0;34m(\u001b[0m\u001b[0mvec1\u001b[0m\u001b[0;34m,\u001b[0m \u001b[0mvec2\u001b[0m\u001b[0;34m)\u001b[0m\u001b[0;34m:\u001b[0m\u001b[0;34m\u001b[0m\u001b[0;34m\u001b[0m\u001b[0m\n\u001b[0;32m----> 2\u001b[0;31m   \u001b[0;32mreturn\u001b[0m \u001b[0mnp\u001b[0m\u001b[0;34m.\u001b[0m\u001b[0mdot\u001b[0m\u001b[0;34m(\u001b[0m\u001b[0mvec1\u001b[0m\u001b[0;34m,\u001b[0m \u001b[0mvec2\u001b[0m\u001b[0;34m)\u001b[0m\u001b[0;34m\u001b[0m\u001b[0;34m\u001b[0m\u001b[0m\n\u001b[0m\u001b[1;32m      3\u001b[0m \u001b[0;34m\u001b[0m\u001b[0m\n",
            "\u001b[0;32m<__array_function__ internals>\u001b[0m in \u001b[0;36mdot\u001b[0;34m(*args, **kwargs)\u001b[0m\n",
            "\u001b[0;31mValueError\u001b[0m: shapes (4,) and (3,) not aligned: 4 (dim 0) != 3 (dim 0)"
          ]
        }
      ]
    },
    {
      "cell_type": "markdown",
      "metadata": {
        "id": "WzgaWs5NVQiH",
        "colab_type": "text"
      },
      "source": [
        "# Write a function that can calculate the norm of any vector"
      ]
    },
    {
      "cell_type": "code",
      "metadata": {
        "id": "5INi6C3tU8is",
        "colab_type": "code",
        "colab": {}
      },
      "source": [
        "# Function that calculates the norm of any vector\n",
        "def norm_calc(vec):\n",
        "  return np.linalg.norm(vec)"
      ],
      "execution_count": 0,
      "outputs": []
    },
    {
      "cell_type": "code",
      "metadata": {
        "id": "HbgVt93UbrvQ",
        "colab_type": "code",
        "outputId": "0798d11a-1caf-41b2-86fe-372f09f63102",
        "colab": {
          "base_uri": "https://localhost:8080/",
          "height": 51
        }
      },
      "source": [
        "# Let's use the vectors we created above to check if this works. Let's compare\n",
        "# the first one with the numpy code to ensure our function works correctly\n",
        "print(norm_calc(vec_a))\n",
        "np.linalg.norm(vec_a)"
      ],
      "execution_count": 9,
      "outputs": [
        {
          "output_type": "stream",
          "text": [
            "21.400934559032695\n"
          ],
          "name": "stdout"
        },
        {
          "output_type": "execute_result",
          "data": {
            "text/plain": [
              "21.400934559032695"
            ]
          },
          "metadata": {
            "tags": []
          },
          "execution_count": 9
        }
      ]
    },
    {
      "cell_type": "code",
      "metadata": {
        "id": "kMqudBFcb08n",
        "colab_type": "code",
        "outputId": "504c7c44-b5f3-401a-a693-2faa31d6faca",
        "colab": {
          "base_uri": "https://localhost:8080/",
          "height": 102
        }
      },
      "source": [
        "# Now let's find the norm of the rest\n",
        "print(norm_calc(vec_b)) \n",
        "print(norm_calc(vec_c)) \n",
        "print(norm_calc(vec_d)) \n",
        "print(norm_calc(vec_e)) \n",
        "print(norm_calc(vec_f)) "
      ],
      "execution_count": 10,
      "outputs": [
        {
          "output_type": "stream",
          "text": [
            "18.788294228055936\n",
            "14.7648230602334\n",
            "10.392304845413264\n",
            "12.409673645990857\n",
            "26.514147167125703\n"
          ],
          "name": "stdout"
        }
      ]
    },
    {
      "cell_type": "markdown",
      "metadata": {
        "id": "OzTxXz0DcV-T",
        "colab_type": "text"
      },
      "source": [
        "# Create and plot a matrix on a 2d graph"
      ]
    },
    {
      "cell_type": "code",
      "metadata": {
        "id": "Se9tpomacRCu",
        "colab_type": "code",
        "colab": {}
      },
      "source": [
        "# Create a random matrix\n",
        "Z = np.array([[random.randint(0,20), random.randint(0,20), random.randint(0,20)],\n",
        "             [random.randint(0,20), random.randint(0,20), random.randint(0,20)],\n",
        "    ])"
      ],
      "execution_count": 0,
      "outputs": []
    },
    {
      "cell_type": "code",
      "metadata": {
        "id": "2CcnUs8Xm2P_",
        "colab_type": "code",
        "outputId": "c99391eb-7d51-4dd2-8b24-e26be865f1d2",
        "colab": {
          "base_uri": "https://localhost:8080/",
          "height": 111
        }
      },
      "source": [
        "# Get a look at the values\n",
        "pd.DataFrame(Z)"
      ],
      "execution_count": 12,
      "outputs": [
        {
          "output_type": "execute_result",
          "data": {
            "text/html": [
              "<div>\n",
              "<style scoped>\n",
              "    .dataframe tbody tr th:only-of-type {\n",
              "        vertical-align: middle;\n",
              "    }\n",
              "\n",
              "    .dataframe tbody tr th {\n",
              "        vertical-align: top;\n",
              "    }\n",
              "\n",
              "    .dataframe thead th {\n",
              "        text-align: right;\n",
              "    }\n",
              "</style>\n",
              "<table border=\"1\" class=\"dataframe\">\n",
              "  <thead>\n",
              "    <tr style=\"text-align: right;\">\n",
              "      <th></th>\n",
              "      <th>0</th>\n",
              "      <th>1</th>\n",
              "      <th>2</th>\n",
              "    </tr>\n",
              "  </thead>\n",
              "  <tbody>\n",
              "    <tr>\n",
              "      <th>0</th>\n",
              "      <td>6</td>\n",
              "      <td>14</td>\n",
              "      <td>11</td>\n",
              "    </tr>\n",
              "    <tr>\n",
              "      <th>1</th>\n",
              "      <td>6</td>\n",
              "      <td>1</td>\n",
              "      <td>0</td>\n",
              "    </tr>\n",
              "  </tbody>\n",
              "</table>\n",
              "</div>"
            ],
            "text/plain": [
              "   0   1   2\n",
              "0  6  14  11\n",
              "1  6   1   0"
            ]
          },
          "metadata": {
            "tags": []
          },
          "execution_count": 12
        }
      ]
    },
    {
      "cell_type": "code",
      "metadata": {
        "id": "AjMF_i0Mm4r6",
        "colab_type": "code",
        "outputId": "6a6c843e-6a7a-4f5e-e621-c941dbcb6790",
        "colab": {
          "base_uri": "https://localhost:8080/",
          "height": 269
        }
      },
      "source": [
        "# Graph it!\n",
        "fig, ax = plt.subplots()\n",
        "ax.grid()\n",
        "plt.xlim(-1, 20)\n",
        "plt.ylim(-1, 20)\n",
        "\n",
        "for mycolor, matrix in [('red', Z[0]), ('red', Z[1])]:\n",
        "  plt.arrow(0, 0, \n",
        "          matrix[0],\n",
        "          matrix[1],\n",
        "          head_width=0.2,\n",
        "          head_length=0.2,\n",
        "          linewidth=3,\n",
        "          color=mycolor)\n",
        "\n",
        "plt.show();"
      ],
      "execution_count": 13,
      "outputs": [
        {
          "output_type": "display_data",
          "data": {
            "image/png": "[encoded data removed]",
            "text/plain": [
              "<Figure size 432x288 with 1 Axes>"
            ]
          },
          "metadata": {
            "tags": []
          }
        }
      ]
    },
    {
      "cell_type": "code",
      "metadata": {
        "id": "gdQ_YaaQpLbM",
        "colab_type": "code",
        "colab": {}
      },
      "source": [
        "# Create a second matrix\n",
        "Y = np.array([[random.randint(0,20), random.randint(0,20), random.randint(0,20)],\n",
        "             [random.randint(0,20), random.randint(0,20), random.randint(0,20)],\n",
        "    ])"
      ],
      "execution_count": 0,
      "outputs": []
    },
    {
      "cell_type": "code",
      "metadata": {
        "id": "Xlmg9K-6pZkf",
        "colab_type": "code",
        "outputId": "d6ac296a-dfe2-46c7-aef4-afa85434a70e",
        "colab": {
          "base_uri": "https://localhost:8080/",
          "height": 111
        }
      },
      "source": [
        "# Get a look at its values\n",
        "pd.DataFrame(Y)"
      ],
      "execution_count": 15,
      "outputs": [
        {
          "output_type": "execute_result",
          "data": {
            "text/html": [
              "<div>\n",
              "<style scoped>\n",
              "    .dataframe tbody tr th:only-of-type {\n",
              "        vertical-align: middle;\n",
              "    }\n",
              "\n",
              "    .dataframe tbody tr th {\n",
              "        vertical-align: top;\n",
              "    }\n",
              "\n",
              "    .dataframe thead th {\n",
              "        text-align: right;\n",
              "    }\n",
              "</style>\n",
              "<table border=\"1\" class=\"dataframe\">\n",
              "  <thead>\n",
              "    <tr style=\"text-align: right;\">\n",
              "      <th></th>\n",
              "      <th>0</th>\n",
              "      <th>1</th>\n",
              "      <th>2</th>\n",
              "    </tr>\n",
              "  </thead>\n",
              "  <tbody>\n",
              "    <tr>\n",
              "      <th>0</th>\n",
              "      <td>5</td>\n",
              "      <td>17</td>\n",
              "      <td>12</td>\n",
              "    </tr>\n",
              "    <tr>\n",
              "      <th>1</th>\n",
              "      <td>2</td>\n",
              "      <td>20</td>\n",
              "      <td>15</td>\n",
              "    </tr>\n",
              "  </tbody>\n",
              "</table>\n",
              "</div>"
            ],
            "text/plain": [
              "   0   1   2\n",
              "0  5  17  12\n",
              "1  2  20  15"
            ]
          },
          "metadata": {
            "tags": []
          },
          "execution_count": 15
        }
      ]
    },
    {
      "cell_type": "code",
      "metadata": {
        "id": "NvWHvFqopru-",
        "colab_type": "code",
        "outputId": "550899c4-e0b8-41a2-9a52-3a32d728a95a",
        "colab": {
          "base_uri": "https://localhost:8080/",
          "height": 34
        }
      },
      "source": [
        "# Checking what Y[position] actually means\n",
        "Y[0]"
      ],
      "execution_count": 16,
      "outputs": [
        {
          "output_type": "execute_result",
          "data": {
            "text/plain": [
              "array([ 5, 17, 12])"
            ]
          },
          "metadata": {
            "tags": []
          },
          "execution_count": 16
        }
      ]
    },
    {
      "cell_type": "code",
      "metadata": {
        "id": "sdM_E8wIptlE",
        "colab_type": "code",
        "outputId": "2355da73-da65-4107-df58-34cf19282393",
        "colab": {
          "base_uri": "https://localhost:8080/",
          "height": 34
        }
      },
      "source": [
        "Y[1]"
      ],
      "execution_count": 17,
      "outputs": [
        {
          "output_type": "execute_result",
          "data": {
            "text/plain": [
              "array([ 2, 20, 15])"
            ]
          },
          "metadata": {
            "tags": []
          },
          "execution_count": 17
        }
      ]
    },
    {
      "cell_type": "code",
      "metadata": {
        "id": "rDB-VOeUpbnu",
        "colab_type": "code",
        "outputId": "a72c3164-ddad-4e1d-c487-9519966533a3",
        "colab": {
          "base_uri": "https://localhost:8080/",
          "height": 269
        }
      },
      "source": [
        "# Graph it\n",
        "fig, ax = plt.subplots()\n",
        "ax.grid()\n",
        "plt.xlim(-1, 20)\n",
        "plt.ylim(-1, 20)\n",
        "\n",
        "for mycolor, matrix in [('green', Y[0]), ('green', Y[1])]:\n",
        "  plt.arrow(0, 0, \n",
        "          matrix[0],\n",
        "          matrix[1],\n",
        "          head_width=0.2,\n",
        "          head_length=0.2,\n",
        "          linewidth=3,\n",
        "          color=mycolor)\n",
        "\n",
        "plt.show();"
      ],
      "execution_count": 18,
      "outputs": [
        {
          "output_type": "display_data",
          "data": {
            "image/png": "[encoded data removed]",
            "text/plain": [
              "<Figure size 432x288 with 1 Axes>"
            ]
          },
          "metadata": {
            "tags": []
          }
        }
      ]
    },
    {
      "cell_type": "code",
      "metadata": {
        "id": "V7Drl_y3piuh",
        "colab_type": "code",
        "outputId": "f38e6d9e-6bb0-4df5-ceb4-73727551e7d2",
        "colab": {
          "base_uri": "https://localhost:8080/",
          "height": 269
        }
      },
      "source": [
        "# Let's try graphing them together now!\n",
        "fig, ax = plt.subplots()\n",
        "ax.grid()\n",
        "plt.xlim(-1, 20)\n",
        "plt.ylim(-1, 20)\n",
        "\n",
        "for mycolor, matrix in [('red', Z[0]), ('red', Z[1]),\n",
        "                        ('green', Y[0]), ('green', Y[1])]:\n",
        "  plt.arrow(0, 0, \n",
        "          matrix[0],\n",
        "          matrix[1],\n",
        "          head_width=0.2,\n",
        "          head_length=0.2,\n",
        "          linewidth=3,\n",
        "          color=mycolor)\n",
        "\n",
        "plt.show();"
      ],
      "execution_count": 19,
      "outputs": [
        {
          "output_type": "display_data",
          "data": {
            "image/png": "[encoded data removed]",
            "text/plain": [
              "<Figure size 432x288 with 1 Axes>"
            ]
          },
          "metadata": {
            "tags": []
          }
        }
      ]
    },
    {
      "cell_type": "code",
      "metadata": {
        "id": "77bYfT49qNJl",
        "colab_type": "code",
        "colab": {}
      },
      "source": [
        "# Let's practice some more!\n",
        "X = np.array([[random.randint(0,100), random.randint(0,100), random.randint(0,100), random.randint(0,100), random.randint(0,100)],\n",
        "              [random.randint(0,100), random.randint(0,100), random.randint(0,100), random.randint(0,100), random.randint(0,100)]])"
      ],
      "execution_count": 0,
      "outputs": []
    },
    {
      "cell_type": "code",
      "metadata": {
        "id": "lsoKhqHZq6lz",
        "colab_type": "code",
        "outputId": "64ace4aa-6df6-40cc-88fd-0fe22206986d",
        "colab": {
          "base_uri": "https://localhost:8080/",
          "height": 111
        }
      },
      "source": [
        "pd.DataFrame(X)"
      ],
      "execution_count": 21,
      "outputs": [
        {
          "output_type": "execute_result",
          "data": {
            "text/html": [
              "<div>\n",
              "<style scoped>\n",
              "    .dataframe tbody tr th:only-of-type {\n",
              "        vertical-align: middle;\n",
              "    }\n",
              "\n",
              "    .dataframe tbody tr th {\n",
              "        vertical-align: top;\n",
              "    }\n",
              "\n",
              "    .dataframe thead th {\n",
              "        text-align: right;\n",
              "    }\n",
              "</style>\n",
              "<table border=\"1\" class=\"dataframe\">\n",
              "  <thead>\n",
              "    <tr style=\"text-align: right;\">\n",
              "      <th></th>\n",
              "      <th>0</th>\n",
              "      <th>1</th>\n",
              "      <th>2</th>\n",
              "      <th>3</th>\n",
              "      <th>4</th>\n",
              "    </tr>\n",
              "  </thead>\n",
              "  <tbody>\n",
              "    <tr>\n",
              "      <th>0</th>\n",
              "      <td>85</td>\n",
              "      <td>99</td>\n",
              "      <td>63</td>\n",
              "      <td>33</td>\n",
              "      <td>3</td>\n",
              "    </tr>\n",
              "    <tr>\n",
              "      <th>1</th>\n",
              "      <td>73</td>\n",
              "      <td>64</td>\n",
              "      <td>67</td>\n",
              "      <td>27</td>\n",
              "      <td>45</td>\n",
              "    </tr>\n",
              "  </tbody>\n",
              "</table>\n",
              "</div>"
            ],
            "text/plain": [
              "    0   1   2   3   4\n",
              "0  85  99  63  33   3\n",
              "1  73  64  67  27  45"
            ]
          },
          "metadata": {
            "tags": []
          },
          "execution_count": 21
        }
      ]
    },
    {
      "cell_type": "code",
      "metadata": {
        "id": "u1SwnFRtrcA6",
        "colab_type": "code",
        "colab": {}
      },
      "source": [
        "W = np.array([[random.randint(0,100), random.randint(0,100), random.randint(0,100), random.randint(0,100), random.randint(0,100)],\n",
        "              [random.randint(0,100), random.randint(0,100), random.randint(0,100), random.randint(0,100), random.randint(0,100)]])"
      ],
      "execution_count": 0,
      "outputs": []
    },
    {
      "cell_type": "code",
      "metadata": {
        "id": "CQHzgdywsK2Q",
        "colab_type": "code",
        "outputId": "47be7533-2dd4-413e-ce30-4a637af23e0f",
        "colab": {
          "base_uri": "https://localhost:8080/",
          "height": 111
        }
      },
      "source": [
        "pd.DataFrame(W)"
      ],
      "execution_count": 23,
      "outputs": [
        {
          "output_type": "execute_result",
          "data": {
            "text/html": [
              "<div>\n",
              "<style scoped>\n",
              "    .dataframe tbody tr th:only-of-type {\n",
              "        vertical-align: middle;\n",
              "    }\n",
              "\n",
              "    .dataframe tbody tr th {\n",
              "        vertical-align: top;\n",
              "    }\n",
              "\n",
              "    .dataframe thead th {\n",
              "        text-align: right;\n",
              "    }\n",
              "</style>\n",
              "<table border=\"1\" class=\"dataframe\">\n",
              "  <thead>\n",
              "    <tr style=\"text-align: right;\">\n",
              "      <th></th>\n",
              "      <th>0</th>\n",
              "      <th>1</th>\n",
              "      <th>2</th>\n",
              "      <th>3</th>\n",
              "      <th>4</th>\n",
              "    </tr>\n",
              "  </thead>\n",
              "  <tbody>\n",
              "    <tr>\n",
              "      <th>0</th>\n",
              "      <td>50</td>\n",
              "      <td>45</td>\n",
              "      <td>8</td>\n",
              "      <td>45</td>\n",
              "      <td>22</td>\n",
              "    </tr>\n",
              "    <tr>\n",
              "      <th>1</th>\n",
              "      <td>62</td>\n",
              "      <td>36</td>\n",
              "      <td>89</td>\n",
              "      <td>77</td>\n",
              "      <td>8</td>\n",
              "    </tr>\n",
              "  </tbody>\n",
              "</table>\n",
              "</div>"
            ],
            "text/plain": [
              "    0   1   2   3   4\n",
              "0  50  45   8  45  22\n",
              "1  62  36  89  77   8"
            ]
          },
          "metadata": {
            "tags": []
          },
          "execution_count": 23
        }
      ]
    },
    {
      "cell_type": "code",
      "metadata": {
        "id": "1aL9eYf3sMkn",
        "colab_type": "code",
        "colab": {}
      },
      "source": [
        "V = np.array([[random.randint(0,100), random.randint(0,100), random.randint(0,100), random.randint(0,100), random.randint(0,100)],\n",
        "              [random.randint(0,100), random.randint(0,100), random.randint(0,100), random.randint(0,100), random.randint(0,100)]])"
      ],
      "execution_count": 0,
      "outputs": []
    },
    {
      "cell_type": "code",
      "metadata": {
        "id": "UdZPzaELsQEO",
        "colab_type": "code",
        "outputId": "f5a16390-3f89-4486-dd69-b1fdc393a77b",
        "colab": {
          "base_uri": "https://localhost:8080/",
          "height": 111
        }
      },
      "source": [
        "pd.DataFrame(V)"
      ],
      "execution_count": 25,
      "outputs": [
        {
          "output_type": "execute_result",
          "data": {
            "text/html": [
              "<div>\n",
              "<style scoped>\n",
              "    .dataframe tbody tr th:only-of-type {\n",
              "        vertical-align: middle;\n",
              "    }\n",
              "\n",
              "    .dataframe tbody tr th {\n",
              "        vertical-align: top;\n",
              "    }\n",
              "\n",
              "    .dataframe thead th {\n",
              "        text-align: right;\n",
              "    }\n",
              "</style>\n",
              "<table border=\"1\" class=\"dataframe\">\n",
              "  <thead>\n",
              "    <tr style=\"text-align: right;\">\n",
              "      <th></th>\n",
              "      <th>0</th>\n",
              "      <th>1</th>\n",
              "      <th>2</th>\n",
              "      <th>3</th>\n",
              "      <th>4</th>\n",
              "    </tr>\n",
              "  </thead>\n",
              "  <tbody>\n",
              "    <tr>\n",
              "      <th>0</th>\n",
              "      <td>46</td>\n",
              "      <td>22</td>\n",
              "      <td>80</td>\n",
              "      <td>78</td>\n",
              "      <td>27</td>\n",
              "    </tr>\n",
              "    <tr>\n",
              "      <th>1</th>\n",
              "      <td>94</td>\n",
              "      <td>8</td>\n",
              "      <td>52</td>\n",
              "      <td>23</td>\n",
              "      <td>23</td>\n",
              "    </tr>\n",
              "  </tbody>\n",
              "</table>\n",
              "</div>"
            ],
            "text/plain": [
              "    0   1   2   3   4\n",
              "0  46  22  80  78  27\n",
              "1  94   8  52  23  23"
            ]
          },
          "metadata": {
            "tags": []
          },
          "execution_count": 25
        }
      ]
    },
    {
      "cell_type": "code",
      "metadata": {
        "id": "0nx2e74msRrh",
        "colab_type": "code",
        "outputId": "58448b60-877e-4331-fa71-d3a368ee2cca",
        "colab": {
          "base_uri": "https://localhost:8080/",
          "height": 269
        }
      },
      "source": [
        "# Now graph these three together!\n",
        "fig, ax = plt.subplots()\n",
        "ax.grid()\n",
        "plt.xlim(-1, 100)\n",
        "plt.ylim(-1, 100)\n",
        "\n",
        "for mycolor, matrix in [('purple', X[0]), ('purple', X[1]),\n",
        "                        ('maroon', W[0]), ('maroon', W[1]),\n",
        "                        ('magenta', V[0]), ('magenta', V[1])]:\n",
        "  plt.arrow(0, 0, \n",
        "          matrix[0],\n",
        "          matrix[1],\n",
        "          head_width=0.2,\n",
        "          head_length=0.2,\n",
        "          linewidth=3,\n",
        "          color=mycolor)\n",
        "\n",
        "plt.show();"
      ],
      "execution_count": 26,
      "outputs": [
        {
          "output_type": "display_data",
          "data": {
            "image/png": "[encoded data removed]",
            "text/plain": [
              "<Figure size 432x288 with 1 Axes>"
            ]
          },
          "metadata": {
            "tags": []
          }
        }
      ]
    },
    {
      "cell_type": "code",
      "metadata": {
        "id": "sCSdyf0Gszkh",
        "colab_type": "code",
        "colab": {}
      },
      "source": [
        "# Let's create a function specifically for creating random 2 Dimensional matrices\n",
        "# using given range and number of columns desired\n",
        "def matrix_2D_creator(min, max, numcolumns):\n",
        "  first_row = []\n",
        "  second_row = []\n",
        "  for count in range (numcolumns):\n",
        "    first_row.append(random.randint(min,max))\n",
        "    second_row.append(random.randint(min,max))\n",
        "  return np.array([first_row,\n",
        "                  second_row])\n"
      ],
      "execution_count": 0,
      "outputs": []
    },
    {
      "cell_type": "code",
      "metadata": {
        "id": "BdM8af50uBVl",
        "colab_type": "code",
        "outputId": "cf34bdfc-6f51-4897-d7e9-04a7833eb4de",
        "colab": {
          "base_uri": "https://localhost:8080/",
          "height": 51
        }
      },
      "source": [
        "matrix_2D_creator(0, 10, 4)"
      ],
      "execution_count": 50,
      "outputs": [
        {
          "output_type": "execute_result",
          "data": {
            "text/plain": [
              "array([[10,  2,  1,  3],\n",
              "       [ 0,  3,  9,  2]])"
            ]
          },
          "metadata": {
            "tags": []
          },
          "execution_count": 50
        }
      ]
    },
    {
      "cell_type": "code",
      "metadata": {
        "id": "EkTLpoHbuF7c",
        "colab_type": "code",
        "outputId": "cb603e98-bc43-45b1-a884-f86e6da95092",
        "colab": {
          "base_uri": "https://localhost:8080/",
          "height": 51
        }
      },
      "source": [
        "matrix_2D_creator(0, 20, 2)"
      ],
      "execution_count": 51,
      "outputs": [
        {
          "output_type": "execute_result",
          "data": {
            "text/plain": [
              "array([[10, 11],\n",
              "       [11, 20]])"
            ]
          },
          "metadata": {
            "tags": []
          },
          "execution_count": 51
        }
      ]
    },
    {
      "cell_type": "code",
      "metadata": {
        "id": "JvStHsqLvMiP",
        "colab_type": "code",
        "outputId": "88a3ba2b-2793-4689-ba6c-2c4d2338d208",
        "colab": {
          "base_uri": "https://localhost:8080/",
          "height": 51
        }
      },
      "source": [
        "matrix_2D_creator(10, 50, 10)"
      ],
      "execution_count": 52,
      "outputs": [
        {
          "output_type": "execute_result",
          "data": {
            "text/plain": [
              "array([[36, 35, 21, 42, 29, 47, 23, 16, 18, 12],\n",
              "       [17, 12, 32, 46, 35, 29, 16, 33, 14, 36]])"
            ]
          },
          "metadata": {
            "tags": []
          },
          "execution_count": 52
        }
      ]
    },
    {
      "cell_type": "code",
      "metadata": {
        "id": "q4RaK542vSM-",
        "colab_type": "code",
        "colab": {}
      },
      "source": [
        "# Now let's create a function that will graph 3 given 2-Dimensional matrices\n",
        "def matrix_grapher(matrix1, color1, matrix2, color2, matrix3, color3, xmin, xmax, ymin, ymax):\n",
        "    fig, ax = plt.subplots()\n",
        "    ax.grid()\n",
        "    plt.xlim(xmin, xmax)\n",
        "    plt.ylim(ymin, ymax)\n",
        "\n",
        "    for mycolor, matrix in [(color1, matrix1[0]), (color1, matrix1[1]),\n",
        "                            (color2, matrix2[0]), (color2, matrix2[1]),\n",
        "                            (color3, matrix3[0]), (color3, matrix3[1])]:\n",
        "      plt.arrow(0, 0, \n",
        "              matrix[0],\n",
        "              matrix[1],\n",
        "              head_width=0.2,\n",
        "              head_length=0.2,\n",
        "              linewidth=3,\n",
        "              color=mycolor)\n",
        "\n",
        "    plt.show();"
      ],
      "execution_count": 0,
      "outputs": []
    },
    {
      "cell_type": "code",
      "metadata": {
        "id": "P4tK_-0ywoj7",
        "colab_type": "code",
        "outputId": "d8b5f35e-9c6d-426b-8540-56e353a0db54",
        "colab": {
          "base_uri": "https://localhost:8080/",
          "height": 269
        }
      },
      "source": [
        "# Let's make sure our function works\n",
        "matrix_grapher(X, 'purple', W, 'maroon', V, 'magenta', -1, 100, -1, 100)"
      ],
      "execution_count": 60,
      "outputs": [
        {
          "output_type": "display_data",
          "data": {
            "image/png": "[encoded data removed]",
            "text/plain": [
              "<Figure size 432x288 with 1 Axes>"
            ]
          },
          "metadata": {
            "tags": []
          }
        }
      ]
    },
    {
      "cell_type": "code",
      "metadata": {
        "id": "zCDrZhqLxN7k",
        "colab_type": "code",
        "colab": {}
      },
      "source": [
        "# Now let's create some matrices and visualize them on a 2D graph!"
      ],
      "execution_count": 0,
      "outputs": []
    },
    {
      "cell_type": "code",
      "metadata": {
        "id": "7apvElYqxWs7",
        "colab_type": "code",
        "colab": {}
      },
      "source": [
        "Q = matrix_2D_creator(0, 25, 5)\n",
        "R = matrix_2D_creator(0, 25, 5)\n",
        "S = matrix_2D_creator(0, 25, 5)\n",
        "T = matrix_2D_creator(50, 200, 10)\n",
        "U = matrix_2D_creator(50, 200, 10)\n",
        "V = matrix_2D_creator(50, 200, 10)"
      ],
      "execution_count": 0,
      "outputs": []
    },
    {
      "cell_type": "code",
      "metadata": {
        "id": "D9X8Vteg163R",
        "colab_type": "code",
        "outputId": "3c5a5574-8846-498b-b322-91483bc035c5",
        "colab": {
          "base_uri": "https://localhost:8080/",
          "height": 51
        }
      },
      "source": [
        "Q"
      ],
      "execution_count": 56,
      "outputs": [
        {
          "output_type": "execute_result",
          "data": {
            "text/plain": [
              "array([[25, 12,  6, 13, 23],\n",
              "       [21,  4, 19,  2, 18]])"
            ]
          },
          "metadata": {
            "tags": []
          },
          "execution_count": 56
        }
      ]
    },
    {
      "cell_type": "code",
      "metadata": {
        "id": "v8Ww6usH1W-I",
        "colab_type": "code",
        "outputId": "a6d3712e-a5f1-4f5d-ba2c-2aa2a195131d",
        "colab": {
          "base_uri": "https://localhost:8080/",
          "height": 269
        }
      },
      "source": [
        "# Graph the first three\n",
        "matrix_grapher(Q, 'gold', R, 'silver', S, 'magenta', 0, 30, 0, 30)"
      ],
      "execution_count": 58,
      "outputs": [
        {
          "output_type": "display_data",
          "data": {
            "image/png": "[encoded data removed]",
            "text/plain": [
              "<Figure size 432x288 with 1 Axes>"
            ]
          },
          "metadata": {
            "tags": []
          }
        }
      ]
    },
    {
      "cell_type": "code",
      "metadata": {
        "id": "JPEr9Yct1nf6",
        "colab_type": "code",
        "colab": {
          "base_uri": "https://localhost:8080/",
          "height": 269
        },
        "outputId": "6a7287ec-6c0a-4d54-ba48-c94a85bf04e9"
      },
      "source": [
        "# Graph the second three\n",
        "matrix_grapher(T, 'red', U, 'green', V, 'blue', 0, 200, 0, 200)"
      ],
      "execution_count": 59,
      "outputs": [
        {
          "output_type": "display_data",
          "data": {
            "image/png": "[encoded data removed]",
            "text/plain": [
              "<Figure size 432x288 with 1 Axes>"
            ]
          },
          "metadata": {
            "tags": []
          }
        }
      ]
    },
    {
      "cell_type": "markdown",
      "metadata": {
        "id": "CjQe31WbjGhs",
        "colab_type": "text"
      },
      "source": [
        "#Create and plot a matrix on a 3d graph."
      ]
    },
    {
      "cell_type": "code",
      "metadata": {
        "id": "7YAZfh8kicMs",
        "colab_type": "code",
        "colab": {}
      },
      "source": [
        "# Function that creates random 3-dimensional matrices\n",
        "# using given range and number of columns desired\n",
        "def matrix_3D_creator(min, max, numcolumns):\n",
        "  first_row = []\n",
        "  second_row = []\n",
        "  third_row = []\n",
        "  for count in range (numcolumns):\n",
        "    first_row.append(random.randint(min,max))\n",
        "    second_row.append(random.randint(min,max))\n",
        "    third_row.append(random.randint(min,max))\n",
        "  return np.array([first_row,\n",
        "                  second_row,\n",
        "                   third_row])"
      ],
      "execution_count": 0,
      "outputs": []
    },
    {
      "cell_type": "code",
      "metadata": {
        "id": "aIt1DI5mj2cI",
        "colab_type": "code",
        "colab": {
          "base_uri": "https://localhost:8080/",
          "height": 142
        },
        "outputId": "01e2f70d-c24a-4bb2-e70f-37f9a7b2a1ef"
      },
      "source": [
        "# Test out our function\n",
        "AA = matrix_3D_creator(0, 20, 4)\n",
        "pd.DataFrame(AA)"
      ],
      "execution_count": 65,
      "outputs": [
        {
          "output_type": "execute_result",
          "data": {
            "text/html": [
              "<div>\n",
              "<style scoped>\n",
              "    .dataframe tbody tr th:only-of-type {\n",
              "        vertical-align: middle;\n",
              "    }\n",
              "\n",
              "    .dataframe tbody tr th {\n",
              "        vertical-align: top;\n",
              "    }\n",
              "\n",
              "    .dataframe thead th {\n",
              "        text-align: right;\n",
              "    }\n",
              "</style>\n",
              "<table border=\"1\" class=\"dataframe\">\n",
              "  <thead>\n",
              "    <tr style=\"text-align: right;\">\n",
              "      <th></th>\n",
              "      <th>0</th>\n",
              "      <th>1</th>\n",
              "      <th>2</th>\n",
              "      <th>3</th>\n",
              "    </tr>\n",
              "  </thead>\n",
              "  <tbody>\n",
              "    <tr>\n",
              "      <th>0</th>\n",
              "      <td>19</td>\n",
              "      <td>11</td>\n",
              "      <td>13</td>\n",
              "      <td>0</td>\n",
              "    </tr>\n",
              "    <tr>\n",
              "      <th>1</th>\n",
              "      <td>3</td>\n",
              "      <td>20</td>\n",
              "      <td>13</td>\n",
              "      <td>18</td>\n",
              "    </tr>\n",
              "    <tr>\n",
              "      <th>2</th>\n",
              "      <td>1</td>\n",
              "      <td>19</td>\n",
              "      <td>16</td>\n",
              "      <td>0</td>\n",
              "    </tr>\n",
              "  </tbody>\n",
              "</table>\n",
              "</div>"
            ],
            "text/plain": [
              "    0   1   2   3\n",
              "0  19  11  13   0\n",
              "1   3  20  13  18\n",
              "2   1  19  16   0"
            ]
          },
          "metadata": {
            "tags": []
          },
          "execution_count": 65
        }
      ]
    },
    {
      "cell_type": "code",
      "metadata": {
        "id": "LdM-EakwkEHe",
        "colab_type": "code",
        "colab": {
          "base_uri": "https://localhost:8080/",
          "height": 142
        },
        "outputId": "38d4c4a7-2839-4beb-d4f6-6da981e37ca4"
      },
      "source": [
        "BB = matrix_3D_creator(0, 50, 6)\n",
        "pd.DataFrame(BB)"
      ],
      "execution_count": 66,
      "outputs": [
        {
          "output_type": "execute_result",
          "data": {
            "text/html": [
              "<div>\n",
              "<style scoped>\n",
              "    .dataframe tbody tr th:only-of-type {\n",
              "        vertical-align: middle;\n",
              "    }\n",
              "\n",
              "    .dataframe tbody tr th {\n",
              "        vertical-align: top;\n",
              "    }\n",
              "\n",
              "    .dataframe thead th {\n",
              "        text-align: right;\n",
              "    }\n",
              "</style>\n",
              "<table border=\"1\" class=\"dataframe\">\n",
              "  <thead>\n",
              "    <tr style=\"text-align: right;\">\n",
              "      <th></th>\n",
              "      <th>0</th>\n",
              "      <th>1</th>\n",
              "      <th>2</th>\n",
              "      <th>3</th>\n",
              "      <th>4</th>\n",
              "      <th>5</th>\n",
              "    </tr>\n",
              "  </thead>\n",
              "  <tbody>\n",
              "    <tr>\n",
              "      <th>0</th>\n",
              "      <td>36</td>\n",
              "      <td>15</td>\n",
              "      <td>26</td>\n",
              "      <td>23</td>\n",
              "      <td>5</td>\n",
              "      <td>24</td>\n",
              "    </tr>\n",
              "    <tr>\n",
              "      <th>1</th>\n",
              "      <td>1</td>\n",
              "      <td>47</td>\n",
              "      <td>7</td>\n",
              "      <td>36</td>\n",
              "      <td>25</td>\n",
              "      <td>30</td>\n",
              "    </tr>\n",
              "    <tr>\n",
              "      <th>2</th>\n",
              "      <td>30</td>\n",
              "      <td>15</td>\n",
              "      <td>37</td>\n",
              "      <td>14</td>\n",
              "      <td>46</td>\n",
              "      <td>26</td>\n",
              "    </tr>\n",
              "  </tbody>\n",
              "</table>\n",
              "</div>"
            ],
            "text/plain": [
              "    0   1   2   3   4   5\n",
              "0  36  15  26  23   5  24\n",
              "1   1  47   7  36  25  30\n",
              "2  30  15  37  14  46  26"
            ]
          },
          "metadata": {
            "tags": []
          },
          "execution_count": 66
        }
      ]
    },
    {
      "cell_type": "code",
      "metadata": {
        "id": "XlScu4p5kMtz",
        "colab_type": "code",
        "colab": {
          "base_uri": "https://localhost:8080/",
          "height": 142
        },
        "outputId": "8010c5f5-619c-4a10-e545-89fb447a8b84"
      },
      "source": [
        "CC = matrix_3D_creator(0, 100, 3)\n",
        "pd.DataFrame(CC)"
      ],
      "execution_count": 92,
      "outputs": [
        {
          "output_type": "execute_result",
          "data": {
            "text/html": [
              "<div>\n",
              "<style scoped>\n",
              "    .dataframe tbody tr th:only-of-type {\n",
              "        vertical-align: middle;\n",
              "    }\n",
              "\n",
              "    .dataframe tbody tr th {\n",
              "        vertical-align: top;\n",
              "    }\n",
              "\n",
              "    .dataframe thead th {\n",
              "        text-align: right;\n",
              "    }\n",
              "</style>\n",
              "<table border=\"1\" class=\"dataframe\">\n",
              "  <thead>\n",
              "    <tr style=\"text-align: right;\">\n",
              "      <th></th>\n",
              "      <th>0</th>\n",
              "      <th>1</th>\n",
              "      <th>2</th>\n",
              "    </tr>\n",
              "  </thead>\n",
              "  <tbody>\n",
              "    <tr>\n",
              "      <th>0</th>\n",
              "      <td>1</td>\n",
              "      <td>53</td>\n",
              "      <td>97</td>\n",
              "    </tr>\n",
              "    <tr>\n",
              "      <th>1</th>\n",
              "      <td>82</td>\n",
              "      <td>32</td>\n",
              "      <td>76</td>\n",
              "    </tr>\n",
              "    <tr>\n",
              "      <th>2</th>\n",
              "      <td>69</td>\n",
              "      <td>77</td>\n",
              "      <td>58</td>\n",
              "    </tr>\n",
              "  </tbody>\n",
              "</table>\n",
              "</div>"
            ],
            "text/plain": [
              "    0   1   2\n",
              "0   1  53  97\n",
              "1  82  32  76\n",
              "2  69  77  58"
            ]
          },
          "metadata": {
            "tags": []
          },
          "execution_count": 92
        }
      ]
    },
    {
      "cell_type": "code",
      "metadata": {
        "id": "Q4bYStjnkSeF",
        "colab_type": "code",
        "colab": {}
      },
      "source": [
        "# Now let's create a function that plots given matrices onto a 3D graph; \n",
        "# can go from 1 to 6 columns\n",
        "def matrix_3D_Grapher(columnnumbs, matrix, color1, color2, color3, xmin, xmax, ymin, ymax, zmin, zmax):\n",
        "  if columnnumbs == 1:\n",
        "    mat = np.array([[0, 0, 0, 0, 0, matrix[0]],\n",
        "                   [0, 0, 0, 0, 0, matrix[1]],\n",
        "                   [0, 0, 0, 0, 0, matrix[2]]])\n",
        "    \n",
        "  if columnnumbs == 2:\n",
        "    mat = np.array([[0, 0, 0, 0, matrix[0][0], matrix[0][1]],\n",
        "                   [0, 0, 0, 0, matrix[1][0], matrix[1][1]],\n",
        "                   [0, 0, 0, 0, matrix[2][0], matrix[2][1]]])\n",
        "\n",
        "  if columnnumbs == 3:\n",
        "    mat = np.array([[0, 0, 0, matrix[0][0], matrix[0][1], matrix[0][2]],\n",
        "                   [0, 0, 0, matrix[1][0], matrix[1][1], matrix[1][2]],\n",
        "                   [0, 0, 0, matrix[2][0], matrix[2][1], matrix[2][2]]])\n",
        "\n",
        "  if columnnumbs == 4:\n",
        "    mat = np.array([[0, 0, matrix[0][0], matrix[0][1], matrix[0][2], matrix[0][3]],\n",
        "                   [0, 0, matrix[1][0], matrix[1][1], matrix[1][2], matrix[1][3]],\n",
        "                   [0, 0, matrix[2][0], matrix[2][1], matrix[2][2], matrix[2][3]]])\n",
        "\n",
        "  if columnnumbs == 5:\n",
        "    mat = np.array([[0, matrix[0][0], matrix[0][1], matrix[0][2], matrix[0][3], matrix[0][4]],\n",
        "                   [0, matrix[1][0], matrix[1][1], matrix[1][2], matrix[1][3], matrix[1][4]],\n",
        "                   [0, matrix[2][0], matrix[2][1], matrix[2][2], matrix[2][3], matrix[2][4]]])\n",
        "\n",
        "  if columnnumbs == 6:\n",
        "    mat = np.array([[matrix[0][0], matrix[0][1], matrix[0][2], matrix[0][3], matrix[0][4], matrix[0][5]],\n",
        "                   [matrix[1][0], matrix[1][1], matrix[1][2], matrix[1][3], matrix[1][4], matrix[1][5]],\n",
        "                   [matrix[2][0], matrix[2][1], matrix[2][2], matrix[2][3], matrix[2][4], matrix[2][5]]])\n",
        "\n",
        "  X, Y, Z, U, V, W = zip(*mat)\n",
        "  fig = plt.figure()\n",
        "  ax = fig.add_subplot(111, projection='3d')\n",
        "  ax.quiver(X[0], Y[0], Z[0], U[0], V[0], W[0], length=1, color=color1)\n",
        "  ax.quiver(X[1], Y[1], Z[1], U[1], V[1], W[1], length=1, color=color2)\n",
        "  ax.quiver(X[2], Y[2], Z[2], U[2], V[2], W[2], length=1, color=color3)\n",
        "\n",
        "  ax.set_xlim([xmin, xmax])\n",
        "  ax.set_ylim([ymin, ymax])\n",
        "  ax.set_zlim([zmin, zmax])\n",
        "  ax.set_xlabel('X')\n",
        "  ax.set_ylabel('Y')\n",
        "  ax.set_zlabel('Z')\n",
        "  plt.show()"
      ],
      "execution_count": 0,
      "outputs": []
    },
    {
      "cell_type": "code",
      "metadata": {
        "id": "qhe-iqzGl4t2",
        "colab_type": "code",
        "colab": {
          "base_uri": "https://localhost:8080/",
          "height": 248
        },
        "outputId": "e237a0cb-ded5-4952-c094-ab9632c0b060"
      },
      "source": [
        "# Now let's test it out\n",
        "matrix_3D_Grapher(4, AA, 'gold', 'silver', 'magenta', 0, 20, 0, 20, 0, 20)"
      ],
      "execution_count": 98,
      "outputs": [
        {
          "output_type": "display_data",
          "data": {
            "image/png": "[encoded data removed]",
            "text/plain": [
              "<Figure size 432x288 with 1 Axes>"
            ]
          },
          "metadata": {
            "tags": []
          }
        }
      ]
    },
    {
      "cell_type": "code",
      "metadata": {
        "id": "7Yt0RzIfmLs_",
        "colab_type": "code",
        "colab": {
          "base_uri": "https://localhost:8080/",
          "height": 248
        },
        "outputId": "5b6729a2-ca5a-49c6-bc88-1692329c9168"
      },
      "source": [
        "# Second test\n",
        "matrix_3D_Grapher(6, BB, 'red', 'blue', 'orange', 0, 60, 0, 60, 0, 60)"
      ],
      "execution_count": 97,
      "outputs": [
        {
          "output_type": "display_data",
          "data": {
            "image/png": "[encoded data removed]",
            "text/plain": [
              "<Figure size 432x288 with 1 Axes>"
            ]
          },
          "metadata": {
            "tags": []
          }
        }
      ]
    },
    {
      "cell_type": "code",
      "metadata": {
        "id": "b1I1axBpq9m4",
        "colab_type": "code",
        "colab": {
          "base_uri": "https://localhost:8080/",
          "height": 248
        },
        "outputId": "635b6bff-b35f-4b94-f372-5d2a5544f4f3"
      },
      "source": [
        "# Third test\n",
        "matrix_3D_Grapher(3, CC, 'brown', 'black', 'purple', 0, 100, 0, 100, 0, 100)"
      ],
      "execution_count": 93,
      "outputs": [
        {
          "output_type": "display_data",
          "data": {
            "image/png": "[encoded data removed]",
            "text/plain": [
              "<Figure size 432x288 with 1 Axes>"
            ]
          },
          "metadata": {
            "tags": []
          }
        }
      ]
    },
    {
      "cell_type": "code",
      "metadata": {
        "id": "1B9OTH_PMvsr",
        "colab_type": "code",
        "colab": {}
      },
      "source": [
        ""
      ],
      "execution_count": 0,
      "outputs": []
    }
  ]
}