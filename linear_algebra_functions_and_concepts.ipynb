{
  "nbformat": 4,
  "nbformat_minor": 0,
  "metadata": {
    "colab": {
      "name": "linear_algebra_functions_and_concepts.ipynb",
      "provenance": [],
      "collapsed_sections": [],
      "include_colab_link": true
    },
    "kernelspec": {
      "name": "python3",
      "display_name": "Python 3"
    }
  },
  "cells": [
    {
      "cell_type": "markdown",
      "metadata": {
        "id": "view-in-github",
        "colab_type": "text"
      },
      "source": [
        "<a href=\"https://colab.research.google.com/github/Daniel-Benson-Poe/DS-Unit-1-Sprint-3-Linear-Algebra/blob/master/linear_algebra_functions_and_concepts.ipynb\" target=\"_parent\"><img src=\"https://colab.research.google.com/assets/colab-badge.svg\" alt=\"Open In Colab\"/></a>"
      ]
    },
    {
      "cell_type": "code",
      "metadata": {
        "id": "-8wLiSY7SW3S",
        "colab_type": "code",
        "colab": {}
      },
      "source": [
        "# Imports\n",
        "import pandas as pd\n",
        "import numpy as np\n",
        "import math\n",
        "import matplotlib.pyplot as plt\n",
        "import random\n",
        "from mpl_toolkits.mplot3d import Axes3D"
      ],
      "execution_count": 0,
      "outputs": []
    },
    {
      "cell_type": "code",
      "metadata": {
        "id": "ZYa6FNcAVn6u",
        "colab_type": "code",
        "colab": {}
      },
      "source": [
        "# How to scale vectors\n",
        "# Scale by 5\n",
        "c = np.array([2, 3, 5])\n",
        "c = np.multiply(5, 5)"
      ],
      "execution_count": 0,
      "outputs": []
    },
    {
      "cell_type": "code",
      "metadata": {
        "id": "Dw5r-bDSVsRS",
        "colab_type": "code",
        "colab": {}
      },
      "source": [
        "# 2-Dimensional Graph example\n",
        "fig, ax = plt.subplots()\n",
        "ax.grid()\n",
        "plt.xlim(-30, 40)\n",
        "plt.ylim(-30, 50)\n",
        "\n",
        "for mycolor, vector, width, length, linewidth in [('red', a[0], 3, 2, 5), ('red', a[1], 3, 2, 5), ('green', c[0], .5, .5, 2), \n",
        "                        ('green', c[1], .5, .5, 2), ('blue', d[0], .5, .5, 2), ('blue', d[1], .5, .5, 2), \n",
        "                        ('orange', e[0], .5, .5, 2), ('orange', e[1], .5, .5, 2)]:\n",
        "  plt.arrow(0, 0, \n",
        "          vector[0],\n",
        "          vector[1],\n",
        "          head_width=width,\n",
        "          head_length=length,\n",
        "          linewidth=linewidth,\n",
        "          color=mycolor)\n",
        "\n",
        "plt.show();"
      ],
      "execution_count": 0,
      "outputs": []
    },
    {
      "cell_type": "code",
      "metadata": {
        "id": "RdS2qn58WjDU",
        "colab_type": "code",
        "colab": {}
      },
      "source": [
        "# Multiplying vectors together\n",
        "ve = vc * vd\n",
        "print(ve)"
      ],
      "execution_count": 0,
      "outputs": []
    },
    {
      "cell_type": "code",
      "metadata": {
        "id": "fPXpXwZCW20c",
        "colab_type": "code",
        "colab": {}
      },
      "source": [
        "# How to cross multiply two vectors\n",
        "\n",
        "v_g = np.cross(v_e, v_f, axis=0)\n",
        "print(v_g)"
      ],
      "execution_count": 0,
      "outputs": []
    },
    {
      "cell_type": "code",
      "metadata": {
        "id": "A9mR9rt2W-vO",
        "colab_type": "code",
        "colab": {}
      },
      "source": [
        "# Finding norms of vectors and comparing their lengths\n",
        "norm_g = np.linalg.norm(vg)\n",
        "norm_h = np.linalg.norm(vh)"
      ],
      "execution_count": 0,
      "outputs": []
    },
    {
      "cell_type": "code",
      "metadata": {
        "id": "nHhdii2LXGhO",
        "colab_type": "code",
        "colab": {}
      },
      "source": [
        "# The rule for multiplying matrices is that the number of columns of the first matrix \n",
        "# must equal the number of rows of the second matrix;\n",
        "# Furthermore, matrix multiplication is not commutative."
      ],
      "execution_count": 0,
      "outputs": []
    },
    {
      "cell_type": "code",
      "metadata": {
        "id": "xNPvWx_tXVLG",
        "colab_type": "code",
        "colab": {}
      },
      "source": [
        "# Finding determinants of matrices\n",
        "H_det = np.linalg.det(H)\n",
        "print(H_det)\n",
        "J_det = np.linalg.det(J)\n",
        "print(J_det)"
      ],
      "execution_count": 0,
      "outputs": []
    },
    {
      "cell_type": "code",
      "metadata": {
        "id": "BkdjlcGAX1yQ",
        "colab_type": "code",
        "colab": {}
      },
      "source": [
        "# Finding inverse of matrix\n",
        "H_inv = np.linalg.inv(H)\n",
        "print(pd.DataFrame(H_inv))\n",
        "J_inv = np.linalg.inv(J)\n",
        "print('\\n', pd.DataFrame(J_inv))"
      ],
      "execution_count": 0,
      "outputs": []
    },
    {
      "cell_type": "markdown",
      "metadata": {
        "id": "iIGfCkeiZe1K",
        "colab_type": "text"
      },
      "source": [
        "#Useful Functions"
      ]
    },
    {
      "cell_type": "code",
      "metadata": {
        "id": "zTn8EsIpYDsl",
        "colab_type": "code",
        "colab": {}
      },
      "source": [
        "# Function that calculates dot product of two vectors\n",
        "def dot_prod(vec1, vec2):\n",
        "  return np.dot(vec1, vec2)"
      ],
      "execution_count": 0,
      "outputs": []
    },
    {
      "cell_type": "code",
      "metadata": {
        "id": "9aQL4el0Zkqg",
        "colab_type": "code",
        "colab": {}
      },
      "source": [
        "# Function that calculates the norm of any vector\n",
        "def norm_calc(vec):\n",
        "  return np.linalg.norm(vec)"
      ],
      "execution_count": 0,
      "outputs": []
    },
    {
      "cell_type": "code",
      "metadata": {
        "id": "YF9jSKtqZqQB",
        "colab_type": "code",
        "colab": {}
      },
      "source": [
        "# Let's create a function specifically for creating random 2 Dimensional matrices\n",
        "# using given range and number of columns desired\n",
        "def matrix_2D_creator(min, max, numcolumns):\n",
        "  first_row = []\n",
        "  second_row = []\n",
        "  for count in range (numcolumns):\n",
        "    first_row.append(random.randint(min,max))\n",
        "    second_row.append(random.randint(min,max))\n",
        "  return np.array([first_row,\n",
        "                  second_row])"
      ],
      "execution_count": 0,
      "outputs": []
    },
    {
      "cell_type": "code",
      "metadata": {
        "id": "RNEXhruwZzd7",
        "colab_type": "code",
        "colab": {}
      },
      "source": [
        "# Now let's create a function that will graph 3 given 2-Dimensional matrices\n",
        "def matrix_grapher(matrix1, color1, matrix2, color2, matrix3, color3, xmin, xmax, ymin, ymax):\n",
        "  fig, ax = plt.subplots()\n",
        "  ax.grid()\n",
        "  plt.xlim(xmin, xmax)\n",
        "  plt.ylim(ymin, ymax)\n",
        "\n",
        "  for mycolor, matrix in [(color1, matrix1[0]), (color1, matrix1[1]),\n",
        "                          (color2, matrix2[0]), (color2, matrix2[1]),\n",
        "                          (color3, matrix3[0]), (color3, matrix3[1])]:\n",
        "    plt.arrow(0, 0, \n",
        "            matrix[0],\n",
        "            matrix[1],\n",
        "            head_width=0.2,\n",
        "            head_length=0.2,\n",
        "            linewidth=3,\n",
        "            color=mycolor)\n",
        "\n",
        "  plt.show();"
      ],
      "execution_count": 0,
      "outputs": []
    },
    {
      "cell_type": "code",
      "metadata": {
        "id": "HRjEgvcla5pP",
        "colab_type": "code",
        "colab": {}
      },
      "source": [
        "# Function that creates random 3-dimensional matrices\n",
        "# using given range and number of columns desired\n",
        "def matrix_3D_creator(min, max, numcolumns):\n",
        "  first_row = []\n",
        "  second_row = []\n",
        "  third_row = []\n",
        "  for count in range (numcolumns):\n",
        "    first_row.append(random.randint(min,max))\n",
        "    second_row.append(random.randint(min,max))\n",
        "    third_row.append(random.randint(min,max))\n",
        "  return np.array([first_row,\n",
        "                  second_row,\n",
        "                   third_row])"
      ],
      "execution_count": 0,
      "outputs": []
    },
    {
      "cell_type": "code",
      "metadata": {
        "id": "-6Y6DkMsbBrc",
        "colab_type": "code",
        "colab": {}
      },
      "source": [
        "# Now let's create a function that plots given matrices onto a 3D graph; \n",
        "# can go from 1 to 6 columns\n",
        "def matrix_3D_Grapher(columnnumbs, matrix, color1, color2, color3, xmin, xmax, ymin, ymax, zmin, zmax):\n",
        "  if columnnumbs == 1:\n",
        "    mat = np.array([[0, 0, 0, 0, 0, matrix[0]],\n",
        "                   [0, 0, 0, 0, 0, matrix[1]],\n",
        "                   [0, 0, 0, 0, 0, matrix[2]]])\n",
        "    \n",
        "  if columnnumbs == 2:\n",
        "    mat = np.array([[0, 0, 0, 0, matrix[0][0], matrix[0][1]],\n",
        "                   [0, 0, 0, 0, matrix[1][0], matrix[1][1]],\n",
        "                   [0, 0, 0, 0, matrix[2][0], matrix[2][1]]])\n",
        "\n",
        "  if columnnumbs == 3:\n",
        "    mat = np.array([[0, 0, 0, matrix[0][0], matrix[0][1], matrix[0][2]],\n",
        "                   [0, 0, 0, matrix[1][0], matrix[1][1], matrix[1][2]],\n",
        "                   [0, 0, 0, matrix[2][0], matrix[2][1], matrix[2][2]]])\n",
        "\n",
        "  if columnnumbs == 4:\n",
        "    mat = np.array([[0, 0, matrix[0][0], matrix[0][1], matrix[0][2], matrix[0][3]],\n",
        "                   [0, 0, matrix[1][0], matrix[1][1], matrix[1][2], matrix[1][3]],\n",
        "                   [0, 0, matrix[2][0], matrix[2][1], matrix[2][2], matrix[2][3]]])\n",
        "\n",
        "  if columnnumbs == 5:\n",
        "    mat = np.array([[0, matrix[0][0], matrix[0][1], matrix[0][2], matrix[0][3], matrix[0][4]],\n",
        "                   [0, matrix[1][0], matrix[1][1], matrix[1][2], matrix[1][3], matrix[1][4]],\n",
        "                   [0, matrix[2][0], matrix[2][1], matrix[2][2], matrix[2][3], matrix[2][4]]])\n",
        "\n",
        "  if columnnumbs == 6:\n",
        "    mat = np.array([[matrix[0][0], matrix[0][1], matrix[0][2], matrix[0][3], matrix[0][4], matrix[0][5]],\n",
        "                   [matrix[1][0], matrix[1][1], matrix[1][2], matrix[1][3], matrix[1][4], matrix[1][5]],\n",
        "                   [matrix[2][0], matrix[2][1], matrix[2][2], matrix[2][3], matrix[2][4], matrix[2][5]]])\n",
        "\n",
        "  X, Y, Z, U, V, W = zip(*mat)\n",
        "  fig = plt.figure()\n",
        "  ax = fig.add_subplot(111, projection='3d')\n",
        "  ax.quiver(X[0], Y[0], Z[0], U[0], V[0], W[0], length=1, color=color1)\n",
        "  ax.quiver(X[1], Y[1], Z[1], U[1], V[1], W[1], length=1, color=color2)\n",
        "  ax.quiver(X[2], Y[2], Z[2], U[2], V[2], W[2], length=1, color=color3)\n",
        "\n",
        "  ax.set_xlim([xmin, xmax])\n",
        "  ax.set_ylim([ymin, ymax])\n",
        "  ax.set_zlim([zmin, zmax])\n",
        "  ax.set_xlabel('X')\n",
        "  ax.set_ylabel('Y')\n",
        "  ax.set_zlabel('Z')\n",
        "  plt.show()"
      ],
      "execution_count": 0,
      "outputs": []
    },
    {
      "cell_type": "code",
      "metadata": {
        "id": "hJh0M6LxbI_6",
        "colab_type": "code",
        "colab": {}
      },
      "source": [
        ""
      ],
      "execution_count": 0,
      "outputs": []
    }
  ]
}