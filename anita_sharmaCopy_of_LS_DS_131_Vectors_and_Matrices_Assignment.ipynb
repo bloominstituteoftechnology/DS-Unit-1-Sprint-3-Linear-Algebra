{
  "nbformat": 4,
  "nbformat_minor": 0,
  "metadata": {
    "colab": {
      "name": "anita_sharmaCopy of LS_DS_131_Vectors_and_Matrices_Assignment.ipynb",
      "provenance": [],
      "collapsed_sections": [],
      "include_colab_link": true
    },
    "kernelspec": {
      "name": "python3",
      "display_name": "Python 3"
    }
  },
  "cells": [
    {
      "cell_type": "markdown",
      "metadata": {
        "id": "view-in-github",
        "colab_type": "text"
      },
      "source": [
        "<a href=\"https://colab.research.google.com/github/anitashar/DS-Unit-1-Sprint-3-Linear-Algebra/blob/master/anita_sharmaCopy_of_LS_DS_131_Vectors_and_Matrices_Assignment.ipynb\" target=\"_parent\"><img src=\"https://colab.research.google.com/assets/colab-badge.svg\" alt=\"Open In Colab\"/></a>"
      ]
    },
    {
      "cell_type": "markdown",
      "metadata": {
        "id": "yXA3GwWhY9KL",
        "colab_type": "text"
      },
      "source": [
        "# Part 1 - Scalars and Vectors\n",
        "\n",
        "For the questions below it is not sufficient to simply provide answer to the questions, but you must solve the problems and show your work using python (the NumPy library will help a lot!) Translate the vectors and matrices into their appropriate python  representations and use numpy or functions that you write yourself to demonstrate the result or property. "
      ]
    },
    {
      "cell_type": "markdown",
      "metadata": {
        "id": "oNOTv43_Zi9L",
        "colab_type": "text"
      },
      "source": [
        "## 1.1 Create a two-dimensional vector and plot it on a graph"
      ]
    },
    {
      "cell_type": "code",
      "metadata": {
        "id": "XNqjzQzrkVG7",
        "colab_type": "code",
        "colab": {}
      },
      "source": [
        "import math\n",
        "import matplotlib.pyplot as plt\n",
        "import numpy as np"
      ],
      "execution_count": 0,
      "outputs": []
    },
    {
      "cell_type": "code",
      "metadata": {
        "id": "I8py9VHmwrkL",
        "colab_type": "code",
        "colab": {}
      },
      "source": [
        "# vector below\n",
        "yellow = [.5, .5]\n",
        "red = [.2, .1]\n",
        "blue = [.1, .3]"
      ],
      "execution_count": 0,
      "outputs": []
    },
    {
      "cell_type": "code",
      "metadata": {
        "id": "YsBM7Qxa5C8h",
        "colab_type": "code",
        "outputId": "54ad39fd-4266-49cf-c50d-a80eb20b62c9",
        "colab": {
          "base_uri": "https://localhost:8080/",
          "height": 85
        }
      },
      "source": [
        "# Examine their components\n",
        "print(yellow[0])\n",
        "\n",
        "for color in [yellow, red, blue]:\n",
        "    print(color[1])"
      ],
      "execution_count": 0,
      "outputs": [
        {
          "output_type": "stream",
          "text": [
            "0.5\n",
            "0.5\n",
            "0.1\n",
            "0.3\n"
          ],
          "name": "stdout"
        }
      ]
    },
    {
      "cell_type": "code",
      "metadata": {
        "id": "1k3PmT-R5DAg",
        "colab_type": "code",
        "outputId": "127e10bf-c5ad-4b49-fe5f-784930c7df4f",
        "colab": {
          "base_uri": "https://localhost:8080/",
          "height": 281
        }
      },
      "source": [
        "# 2 dim vector on a graph\n",
        "\n",
        "fig, ax = plt.subplots()\n",
        "ax.grid()\n",
        "plt.xlim(-.2,.8)\n",
        "plt.ylim(-.1,.6)\n",
        "\n",
        "plt.arrow(0, 0, yellow[0], yellow[1], head_width=.02, head_length=0.02, color = 'y')\n",
        "plt.arrow(0, 0, red[0], red[1], head_width=.02, head_length=0.02, color = 'r')\n",
        "plt.arrow(0, 0, blue[0], blue[1],  head_width=.02, head_length=0.02, color = 'b')\n",
        "plt.title('Vector Examples')\n",
        "plt.show()"
      ],
      "execution_count": 0,
      "outputs": [
        {
          "output_type": "display_data",
          "data": {
            "image/png": "[encoded data removed]",
            "text/plain": [
              "<Figure size 432x288 with 1 Axes>"
            ]
          },
          "metadata": {
            "tags": []
          }
        }
      ]
    },
    {
      "cell_type": "code",
      "metadata": {
        "id": "MYUQua5f5DUD",
        "colab_type": "code",
        "colab": {}
      },
      "source": [
        ""
      ],
      "execution_count": 0,
      "outputs": []
    },
    {
      "cell_type": "code",
      "metadata": {
        "id": "XX0ZjQqn5C5H",
        "colab_type": "code",
        "colab": {}
      },
      "source": [
        ""
      ],
      "execution_count": 0,
      "outputs": []
    },
    {
      "cell_type": "markdown",
      "metadata": {
        "id": "unKFT619lk3e",
        "colab_type": "text"
      },
      "source": [
        "## 1.2 Create a three-dimensional vecor and plot it on a graph"
      ]
    },
    {
      "cell_type": "code",
      "metadata": {
        "id": "atUEd3T6llKm",
        "colab_type": "code",
        "colab": {}
      },
      "source": [
        "# 3 dim vector\n",
        "yellow = [.5, .5, .5]\n",
        "red = [.2, .1, .0]\n",
        "blue = [.1, .3, .3 ]"
      ],
      "execution_count": 0,
      "outputs": []
    },
    {
      "cell_type": "code",
      "metadata": {
        "id": "a44P0-YQ5_XB",
        "colab_type": "code",
        "colab": {}
      },
      "source": [
        "vectors = np.array([[0, 0, 0, .5, .5, .5], \n",
        "                    [0, 0, 0, .2, .1, .0],\n",
        "                    [0, 0, 0, .1, .3, .3]])"
      ],
      "execution_count": 0,
      "outputs": []
    },
    {
      "cell_type": "code",
      "metadata": {
        "id": "BL44chel5_qF",
        "colab_type": "code",
        "outputId": "b5ecbaa6-2a2e-48ad-c666-5b228f191678",
        "colab": {
          "base_uri": "https://localhost:8080/",
          "height": 34
        }
      },
      "source": [
        "zip(*vectors)"
      ],
      "execution_count": 0,
      "outputs": [
        {
          "output_type": "execute_result",
          "data": {
            "text/plain": [
              "<zip at 0x7f01774812c8>"
            ]
          },
          "metadata": {
            "tags": []
          },
          "execution_count": 9
        }
      ]
    },
    {
      "cell_type": "code",
      "metadata": {
        "id": "oqoAKgvh5_wh",
        "colab_type": "code",
        "outputId": "130466a6-3f3c-4d37-c0ce-8fe5b127d30e",
        "colab": {
          "base_uri": "https://localhost:8080/",
          "height": 119
        }
      },
      "source": [
        "X, Y, Z, U, V, W = zip(*vectors)\n",
        "for letter in [X, Y, Z, U, V, W]:\n",
        "    print(letter)"
      ],
      "execution_count": 0,
      "outputs": [
        {
          "output_type": "stream",
          "text": [
            "(0.0, 0.0, 0.0)\n",
            "(0.0, 0.0, 0.0)\n",
            "(0.0, 0.0, 0.0)\n",
            "(0.5, 0.2, 0.1)\n",
            "(0.5, 0.1, 0.3)\n",
            "(0.5, 0.0, 0.3)\n"
          ],
          "name": "stdout"
        }
      ]
    },
    {
      "cell_type": "code",
      "metadata": {
        "id": "-164cl-95_m8",
        "colab_type": "code",
        "outputId": "e7ec2a19-7efb-4c57-d7ba-fb5bed7379ab",
        "colab": {
          "base_uri": "https://localhost:8080/",
          "height": 248
        }
      },
      "source": [
        "from mpl_toolkits.mplot3d import Axes3D\n",
        "\n",
        "fig = plt.figure()\n",
        "ax = fig.add_subplot(111, projection='3d')\n",
        "#ax.quiver(0, 0, 0, .5, .5, .5, length=1, color='gold')\n",
        "ax.quiver(X[0], Y[0], Z[0], U[0], V[0], W[0], length=1, color='gold')\n",
        "ax.quiver(X[1], Y[1], Z[1], U[1], V[1], W[1], length=1, color='crimson')\n",
        "ax.quiver(X[2], Y[2], Z[2], U[2], V[2], W[2], length=1, color='teal')\n",
        "\n",
        "ax.set_xlim([0, 1])\n",
        "ax.set_ylim([0, 1])\n",
        "ax.set_zlim([0, 1])\n",
        "ax.set_xlabel('X')\n",
        "ax.set_ylabel('Y')\n",
        "ax.set_zlabel('Z')\n",
        "plt.show()"
      ],
      "execution_count": 0,
      "outputs": [
        {
          "output_type": "display_data",
          "data": {
            "image/png": "[encoded data removed]",
            "text/plain": [
              "<Figure size 432x288 with 1 Axes>"
            ]
          },
          "metadata": {
            "tags": []
          }
        }
      ]
    },
    {
      "cell_type": "code",
      "metadata": {
        "id": "_CrB-nUe5_j2",
        "colab_type": "code",
        "colab": {}
      },
      "source": [
        ""
      ],
      "execution_count": 0,
      "outputs": []
    },
    {
      "cell_type": "code",
      "metadata": {
        "id": "H_qQgTND5_hR",
        "colab_type": "code",
        "colab": {}
      },
      "source": [
        ""
      ],
      "execution_count": 0,
      "outputs": []
    },
    {
      "cell_type": "code",
      "metadata": {
        "id": "AUAXDHbV5_fF",
        "colab_type": "code",
        "colab": {}
      },
      "source": [
        ""
      ],
      "execution_count": 0,
      "outputs": []
    },
    {
      "cell_type": "code",
      "metadata": {
        "id": "3QRUhPs65_bO",
        "colab_type": "code",
        "colab": {}
      },
      "source": [
        ""
      ],
      "execution_count": 0,
      "outputs": []
    },
    {
      "cell_type": "markdown",
      "metadata": {
        "id": "b7qFxbKxZmI2",
        "colab_type": "text"
      },
      "source": [
        "## 1.3 Scale the vectors you created in 1.1 by $5$, $\\pi$, and $-e$ and plot all four vectors (original + 3 scaled vectors) on a graph. What do you notice about these vectors? "
      ]
    },
    {
      "cell_type": "code",
      "metadata": {
        "id": "ah6zMSLJdJwL",
        "colab_type": "code",
        "outputId": "f9453db4-9141-45af-e5fb-21dad80ec62d",
        "colab": {
          "base_uri": "https://localhost:8080/",
          "height": 51
        }
      },
      "source": [
        "from math import e, pi\n",
        "print(e)\n",
        "print(pi)"
      ],
      "execution_count": 0,
      "outputs": [
        {
          "output_type": "stream",
          "text": [
            "2.718281828459045\n",
            "3.141592653589793\n"
          ],
          "name": "stdout"
        }
      ]
    },
    {
      "cell_type": "code",
      "metadata": {
        "id": "3qpwDlzXkVf5",
        "colab_type": "code",
        "colab": {}
      },
      "source": [
        "yellow = [.5, .5]\n",
        "red = [.2, .1]\n",
        "blue = [.1, .3]"
      ],
      "execution_count": 0,
      "outputs": []
    },
    {
      "cell_type": "code",
      "metadata": {
        "id": "o4LL9BLy8_hF",
        "colab_type": "code",
        "outputId": "188e5d45-75b1-4007-fd1c-b37b2f72b644",
        "colab": {
          "base_uri": "https://localhost:8080/",
          "height": 85
        }
      },
      "source": [
        "print(yellow[0])\n",
        "\n",
        "for color in [yellow, red, blue]:\n",
        "    print(color[1])"
      ],
      "execution_count": 0,
      "outputs": [
        {
          "output_type": "stream",
          "text": [
            "0.5\n",
            "0.5\n",
            "0.1\n",
            "0.3\n"
          ],
          "name": "stdout"
        }
      ]
    },
    {
      "cell_type": "code",
      "metadata": {
        "id": "R0OTgzP_8_vN",
        "colab_type": "code",
        "outputId": "d6d25a13-10f4-4984-ebf4-5e3ac4a7585d",
        "colab": {
          "base_uri": "https://localhost:8080/",
          "height": 281
        }
      },
      "source": [
        "fig, ax = plt.subplots()\n",
        "ax.grid()\n",
        "plt.xlim(-.2,.8)\n",
        "plt.ylim(-.1,.6)\n",
        "\n",
        "plt.arrow(0, 0, yellow[0], yellow[1], head_width=.02, head_length=0.01, color = 'y')\n",
        "plt.arrow(0, 0, .2, .1, head_width=.02, head_length=0.01, color = 'r')\n",
        "plt.arrow(0, 0, .1, .3,  head_width=.02, head_length=0.01, color = 'b')\n",
        "plt.title('Vector Examples')\n",
        "plt.show()"
      ],
      "execution_count": 0,
      "outputs": [
        {
          "output_type": "display_data",
          "data": {
            "image/png": "[encoded data removed]",
            "text/plain": [
              "<Figure size 432x288 with 1 Axes>"
            ]
          },
          "metadata": {
            "tags": []
          }
        }
      ]
    },
    {
      "cell_type": "code",
      "metadata": {
        "id": "6ov0szbI8_98",
        "colab_type": "code",
        "outputId": "c5fa89b8-b728-4508-bf50-e69fa3c2e2b1",
        "colab": {
          "base_uri": "https://localhost:8080/",
          "height": 34
        }
      },
      "source": [
        "blue_5 = np.multiply(5, blue)\n",
        "blue_5"
      ],
      "execution_count": 0,
      "outputs": [
        {
          "output_type": "execute_result",
          "data": {
            "text/plain": [
              "array([0.5, 1.5, 1.5])"
            ]
          },
          "metadata": {
            "tags": []
          },
          "execution_count": 13
        }
      ]
    },
    {
      "cell_type": "code",
      "metadata": {
        "id": "Mkjf17G2-nYu",
        "colab_type": "code",
        "outputId": "2ad23fe7-503d-47ec-b5c7-834ecb800e5c",
        "colab": {
          "base_uri": "https://localhost:8080/",
          "height": 34
        }
      },
      "source": [
        "blue_pi =np.multiply(pi,blue)\n",
        "blue_pi"
      ],
      "execution_count": 0,
      "outputs": [
        {
          "output_type": "execute_result",
          "data": {
            "text/plain": [
              "array([0.31415927, 0.9424778 , 0.9424778 ])"
            ]
          },
          "metadata": {
            "tags": []
          },
          "execution_count": 17
        }
      ]
    },
    {
      "cell_type": "code",
      "metadata": {
        "id": "EMkoon1I-noG",
        "colab_type": "code",
        "outputId": "1e55f02b-edb4-49ba-a558-b1c3d3707642",
        "colab": {
          "base_uri": "https://localhost:8080/",
          "height": 34
        }
      },
      "source": [
        "blue_e=np.multiply(-e,blue)\n",
        "blue_e"
      ],
      "execution_count": 0,
      "outputs": [
        {
          "output_type": "execute_result",
          "data": {
            "text/plain": [
              "array([-0.27182818, -0.81548455, -0.81548455])"
            ]
          },
          "metadata": {
            "tags": []
          },
          "execution_count": 18
        }
      ]
    },
    {
      "cell_type": "code",
      "metadata": {
        "id": "Vnyk5gRC9AHN",
        "colab_type": "code",
        "outputId": "ab28ffba-7b8f-4a6b-c679-0e91602d5507",
        "colab": {
          "base_uri": "https://localhost:8080/",
          "height": 269
        }
      },
      "source": [
        "blue_5 = np.multiply(5, blue)\n",
        "blue_pi =np.multiply(pi,blue)\n",
        "blue_e=np.multiply(-e,blue)\n",
        "fig, ax = plt.subplots()\n",
        "ax.grid()\n",
        "plt.xlim(-2,2)\n",
        "plt.ylim(-2,2)\n",
        "\n",
        "plt.arrow(0, 0, blue[0], blue[1], head_width=.2, head_length=0.2, color = 'blue')\n",
        "plt.arrow(0, 0, blue_5[0], blue_5[1], head_width=.2, head_length=0.2, color = 'cyan')\n",
        "plt.arrow(0, 0, blue_pi[0], blue_pi[1], head_width=.2, head_length=0.2, color = 'm')\n",
        "plt.arrow(0, 0, blue_e[0], blue_e[1],  head_width=.2, head_length=0.2, color = 'limegreen')\n",
        "\n",
        "plt.show()"
      ],
      "execution_count": 0,
      "outputs": [
        {
          "output_type": "display_data",
          "data": {
            "image/png": "[encoded data removed]",
            "text/plain": [
              "<Figure size 432x288 with 1 Axes>"
            ]
          },
          "metadata": {
            "tags": []
          }
        }
      ]
    },
    {
      "cell_type": "code",
      "metadata": {
        "id": "LZ1mVjFN8_7H",
        "colab_type": "code",
        "outputId": "201acc66-b8fb-417d-f6db-9ca6f6806f09",
        "colab": {
          "base_uri": "https://localhost:8080/",
          "height": 269
        }
      },
      "source": [
        "yellow_5 = np.multiply(5, yellow)\n",
        "yellow_pi =np.multiply(pi,yellow)\n",
        "yellow_e=np.multiply(-e,yellow)\n",
        "fig, ax = plt.subplots()\n",
        "ax.grid()\n",
        "plt.xlim(-4,4)\n",
        "plt.ylim(-4,4)\n",
        "\n",
        "plt.arrow(0, 0, yellow[0], yellow[1], head_width=.2, head_length=0.2, color = 'yellow')\n",
        "plt.arrow(0, 0, yellow_5[0], yellow_5[1], head_width=.2, head_length=0.2, color = 'cyan')\n",
        "plt.arrow(0, 0, yellow_pi[0], yellow_pi[1], head_width=.2, head_length=0.2, color = 'm')\n",
        "plt.arrow(0, 0, yellow_e[0], yellow_e[1],  head_width=.2, head_length=0.2, color = 'limegreen')\n",
        "\n",
        "plt.show()"
      ],
      "execution_count": 0,
      "outputs": [
        {
          "output_type": "display_data",
          "data": {
            "image/png": "[encoded data removed]",
            "text/plain": [
              "<Figure size 432x288 with 1 Axes>"
            ]
          },
          "metadata": {
            "tags": []
          }
        }
      ]
    },
    {
      "cell_type": "code",
      "metadata": {
        "id": "Wf0wWqoT8_4Z",
        "colab_type": "code",
        "outputId": "9f7f8910-61f0-4388-8362-72b08db075c7",
        "colab": {
          "base_uri": "https://localhost:8080/",
          "height": 269
        }
      },
      "source": [
        "red_5 = np.multiply(5, red)\n",
        "red_pi =np.multiply(pi,red)\n",
        "red_e=np.multiply(-e,red)\n",
        "fig, ax = plt.subplots()\n",
        "ax.grid()\n",
        "plt.xlim(-2,2)\n",
        "plt.ylim(-2,2)\n",
        "\n",
        "plt.arrow(0, 0, red[0], red[1], head_width=.2, head_length=0.2, color = 'red')\n",
        "plt.arrow(0, 0, red_5[0], red_5[1], head_width=.2, head_length=0.2, color = 'cyan')\n",
        "plt.arrow(0, 0, red_pi[0], red_pi[1], head_width=.2, head_length=0.2, color = 'm')\n",
        "plt.arrow(0, 0, red_e[0], red_e[1],  head_width=.2, head_length=0.2, color = 'limegreen')\n",
        "\n",
        "plt.show()"
      ],
      "execution_count": 0,
      "outputs": [
        {
          "output_type": "display_data",
          "data": {
            "image/png": "[encoded data removed]",
            "text/plain": [
              "<Figure size 432x288 with 1 Axes>"
            ]
          },
          "metadata": {
            "tags": []
          }
        }
      ]
    },
    {
      "cell_type": "code",
      "metadata": {
        "id": "Rj8Ez3708_16",
        "colab_type": "code",
        "colab": {}
      },
      "source": [
        ""
      ],
      "execution_count": 0,
      "outputs": []
    },
    {
      "cell_type": "code",
      "metadata": {
        "id": "AW7wB2uP8_rk",
        "colab_type": "code",
        "colab": {}
      },
      "source": [
        ""
      ],
      "execution_count": 0,
      "outputs": []
    },
    {
      "cell_type": "markdown",
      "metadata": {
        "id": "wrgqa6sWimbH",
        "colab_type": "text"
      },
      "source": [
        "## 1.4 Graph vectors $\\vec{a}$ and $\\vec{b}$ and plot them on a graph\n",
        "\n",
        "\\begin{align}\n",
        "\\vec{a} = \\begin{bmatrix} 5 \\\\ 7 \\end{bmatrix}\n",
        "\\qquad\n",
        "\\vec{b} = \\begin{bmatrix} 3 \\\\4 \\end{bmatrix}\n",
        "\\end{align}"
      ]
    },
    {
      "cell_type": "code",
      "metadata": {
        "id": "I1BGXA_skV-b",
        "colab_type": "code",
        "outputId": "1225b729-324e-4ab8-edc6-55351be9d1a6",
        "colab": {
          "base_uri": "https://localhost:8080/",
          "height": 269
        }
      },
      "source": [
        "a= np.array([5,7])\n",
        "b = np.array([3,4])\n",
        "\n",
        "fig, ax = plt.subplots()\n",
        "ax.grid()\n",
        "plt.xlim(0,10)\n",
        "plt.ylim(0,10)\n",
        "\n",
        "plt.arrow(0, 0, a[0], a[1], head_width=.4, head_length=0.4, linewidth=3,color = 'red')\n",
        "plt.arrow(0, 0, b[0], b[1], head_width=.4, head_length=0.4, linewidth=3,color = 'cyan')\n",
        "\n",
        "\n",
        "plt.show()\n",
        "\n",
        "\n"
      ],
      "execution_count": 0,
      "outputs": [
        {
          "output_type": "display_data",
          "data": {
            "image/png": "[encoded data removed]",
            "text/plain": [
              "<Figure size 432x288 with 1 Axes>"
            ]
          },
          "metadata": {
            "tags": []
          }
        }
      ]
    },
    {
      "cell_type": "markdown",
      "metadata": {
        "id": "QN6RU_3gizpw",
        "colab_type": "text"
      },
      "source": [
        "## 1.5 find $\\vec{a} - \\vec{b}$ and plot the result on the same graph as $\\vec{a}$ and $\\vec{b}$. Is there a relationship between vectors $\\vec{a} \\thinspace, \\vec{b} \\thinspace \\text{and} \\thinspace \\vec{a-b}$"
      ]
    },
    {
      "cell_type": "code",
      "metadata": {
        "id": "68sWHIOPkXp5",
        "colab_type": "code",
        "outputId": "4af101f8-72ef-4def-d9c4-af6f54ff3529",
        "colab": {
          "base_uri": "https://localhost:8080/",
          "height": 269
        }
      },
      "source": [
        "a= np.array([5,7])\n",
        "b = np.array([3,4])\n",
        "c=a-b\n",
        "\n",
        "fig, ax = plt.subplots()\n",
        "ax.grid()\n",
        "plt.xlim(0,10)\n",
        "plt.ylim(0,10)\n",
        "\n",
        "plt.arrow(0, 0, a[0], a[1], head_width=.4, head_length=0.4, linewidth=3,color = 'red')\n",
        "plt.arrow(0, 0, b[0], b[1], head_width=.4, head_length=0.4, linewidth=3,color = 'cyan')\n",
        "plt.arrow(b[0], b[1], c[0], c[1], head_width=.4, head_length=0.4, linewidth=3,color = 'blue')\n",
        "\n",
        "\n",
        "plt.show()"
      ],
      "execution_count": 0,
      "outputs": [
        {
          "output_type": "display_data",
          "data": {
            "image/png": "[encoded data removed]",
            "text/plain": [
              "<Figure size 432x288 with 1 Axes>"
            ]
          },
          "metadata": {
            "tags": []
          }
        }
      ]
    },
    {
      "cell_type": "code",
      "metadata": {
        "id": "qt44OcmANH8x",
        "colab_type": "code",
        "colab": {}
      },
      "source": [
        "a=b+(a-b) \n",
        "# forms a triangle"
      ],
      "execution_count": 0,
      "outputs": []
    },
    {
      "cell_type": "markdown",
      "metadata": {
        "id": "1ZPVuJAlehu_",
        "colab_type": "text"
      },
      "source": [
        "## 1.6 Find $c \\cdot d$\n",
        "\n",
        "\\begin{align}\n",
        "\\vec{c} = \\begin{bmatrix}7 & 22 & 4 & 16\\end{bmatrix}\n",
        "\\qquad\n",
        "\\vec{d} = \\begin{bmatrix}12 & 6 & 2 & 9\\end{bmatrix}\n",
        "\\end{align}\n"
      ]
    },
    {
      "cell_type": "code",
      "metadata": {
        "id": "2_cZQFCskYNr",
        "colab_type": "code",
        "outputId": "f4cf0881-3fe7-4cf4-9a60-b2f9c6922b2e",
        "colab": {
          "base_uri": "https://localhost:8080/",
          "height": 34
        }
      },
      "source": [
        "c = np.array([7,22,4,16])\n",
        "d = np.array([12,6,2,9])\n",
        "\n",
        "print(\"Dot Product:\", np.dot(c,d))"
      ],
      "execution_count": 0,
      "outputs": [
        {
          "output_type": "stream",
          "text": [
            "Dot Product: 368\n"
          ],
          "name": "stdout"
        }
      ]
    },
    {
      "cell_type": "markdown",
      "metadata": {
        "id": "cLm8yokpfg9B",
        "colab_type": "text"
      },
      "source": [
        "##  1.7 Find $e \\times f$\n",
        "\n",
        "\\begin{align}\n",
        "\\vec{e} = \\begin{bmatrix} 5 \\\\ 7 \\\\ 2 \\end{bmatrix}\n",
        "\\qquad\n",
        "\\vec{f} = \\begin{bmatrix} 3 \\\\4 \\\\ 6 \\end{bmatrix}\n",
        "\\end{align}"
      ]
    },
    {
      "cell_type": "code",
      "metadata": {
        "id": "ku-TdCKAkYs8",
        "colab_type": "code",
        "outputId": "d7a3b95d-65e3-4d58-d159-065f8bafbcb4",
        "colab": {
          "base_uri": "https://localhost:8080/",
          "height": 51
        }
      },
      "source": [
        "# cross product\n",
        "e=np.array([5,7,2])\n",
        "f=np.array([3,4,6])\n",
        "print('Cross Product: \\n', np.cross(e,f,axis=0))"
      ],
      "execution_count": 0,
      "outputs": [
        {
          "output_type": "stream",
          "text": [
            "Cross Product: \n",
            " [ 34 -24  -1]\n"
          ],
          "name": "stdout"
        }
      ]
    },
    {
      "cell_type": "markdown",
      "metadata": {
        "id": "-TN8wO2-h53s",
        "colab_type": "text"
      },
      "source": [
        "## 1.8 Find $||g||$ and then find $||h||$. Which is longer?\n",
        "\n",
        "\\begin{align}\n",
        "\\vec{g} = \\begin{bmatrix} 1 \\\\ 1 \\\\ 1 \\\\ 8 \\end{bmatrix}\n",
        "\\qquad\n",
        "\\vec{h} = \\begin{bmatrix} 3 \\\\3 \\\\ 3 \\\\ 3 \\end{bmatrix}\n",
        "\\end{align}"
      ]
    },
    {
      "cell_type": "code",
      "metadata": {
        "id": "-5VKOMKBlgaA",
        "colab_type": "code",
        "outputId": "ae4b16cb-cc13-4098-ff43-b3aad3367941",
        "colab": {
          "base_uri": "https://localhost:8080/",
          "height": 85
        }
      },
      "source": [
        "g=np.array([1,1,1,8])\n",
        "h=np.array([3,3,3,3])\n",
        "\n",
        "norm_g = np.linalg.norm(g)\n",
        "print(g, \"\\n Norm of g:\", norm_g)\n",
        "\n",
        "norm_h = np.linalg.norm(h)\n",
        "print(h, \"\\n Norm of h:\", norm_h)\n",
        "\n",
        "# g is longer"
      ],
      "execution_count": 0,
      "outputs": [
        {
          "output_type": "stream",
          "text": [
            "[1 1 1 8] \n",
            " Norm of g: 8.18535277187245\n",
            "[3 3 3 3] \n",
            " Norm of h: 6.0\n"
          ],
          "name": "stdout"
        }
      ]
    },
    {
      "cell_type": "markdown",
      "metadata": {
        "id": "njrWIMS-ZAoH",
        "colab_type": "text"
      },
      "source": [
        "# Part 2 - Matrices"
      ]
    },
    {
      "cell_type": "markdown",
      "metadata": {
        "id": "GjkcAVIOmOnn",
        "colab_type": "text"
      },
      "source": [
        "## 2.1 What are the dimensions of the following matrices? Which of the following can be multiplied together? See if you can find all of the different legal combinations.\n",
        "\\begin{align}\n",
        "A = \\begin{bmatrix}\n",
        "1 & 2 \\\\\n",
        "3 & 4 \\\\\n",
        "5 & 6\n",
        "\\end{bmatrix}\n",
        "\\qquad\n",
        "B = \\begin{bmatrix}\n",
        "2 & 4 & 6 \\\\\n",
        "\\end{bmatrix}\n",
        "\\qquad\n",
        "C = \\begin{bmatrix}\n",
        "9 & 6 & 3 \\\\\n",
        "4 & 7 & 11\n",
        "\\end{bmatrix}\n",
        "\\qquad\n",
        "D = \\begin{bmatrix}\n",
        "1 & 0 & 0 \\\\\n",
        "0 & 1 & 0 \\\\\n",
        "0 & 0 & 1\n",
        "\\end{bmatrix}\n",
        "\\qquad\n",
        "E = \\begin{bmatrix}\n",
        "1 & 3 \\\\\n",
        "5 & 7\n",
        "\\end{bmatrix}\n",
        "\\end{align}"
      ]
    },
    {
      "cell_type": "code",
      "metadata": {
        "id": "Z69c-uPtnbIx",
        "colab_type": "code",
        "outputId": "e0c60434-14c9-4e67-b218-bad73eea1fff",
        "colab": {
          "base_uri": "https://localhost:8080/",
          "height": 102
        }
      },
      "source": [
        "a = np.array([ [1,2], [3,4], [5, 6]])\n",
        "print(a.shape)\n",
        "\n",
        "b = np.array([2,4,6])\n",
        "print(b.shape)\n",
        "\n",
        "c = np.array([ [9,6,3], [4,7,11]])\n",
        "print(c.shape)\n",
        "\n",
        "d = np.array([ [1,0,0], [0,1,0], [0,0,1]])\n",
        "print(d.shape)\n",
        "\n",
        "e = np.array([[1,3],[5,7]])\n",
        "print(e.shape)\n",
        "\n",
        "\n",
        "# legal combination of a-- c,e\n",
        "# legal combination of c--a,b,d\n",
        "# legal combination of d-- a,b,d\n",
        "# legal combination of e-- c,e"
      ],
      "execution_count": 0,
      "outputs": [
        {
          "output_type": "stream",
          "text": [
            "(3, 2)\n",
            "(3,)\n",
            "(2, 3)\n",
            "(3, 3)\n",
            "(2, 2)\n"
          ],
          "name": "stdout"
        }
      ]
    },
    {
      "cell_type": "markdown",
      "metadata": {
        "id": "lMOlCoM3ncGa",
        "colab_type": "text"
      },
      "source": [
        "## 2.2 Find the following products: CD, AE, and BA. What are the dimensions of the resulting matrices? How does that relate to the dimensions of their factor matrices?"
      ]
    },
    {
      "cell_type": "code",
      "metadata": {
        "id": "zhKwiSItoE2F",
        "colab_type": "code",
        "outputId": "4833ef8f-4dcb-4570-b8e1-c363a850e1c9",
        "colab": {
          "base_uri": "https://localhost:8080/",
          "height": 68
        }
      },
      "source": [
        "cd=np.matmul(c,d)\n",
        "print(cd.shape)\n",
        "ae=np.matmul(a,e)\n",
        "print(ae.shape)\n",
        "ba=np.matmul(b,a)\n",
        "print(ba.shape)\n",
        "\n",
        "# row of first matrix & col of second matrix"
      ],
      "execution_count": 0,
      "outputs": [
        {
          "output_type": "stream",
          "text": [
            "(2, 3)\n",
            "(3, 2)\n",
            "(2,)\n"
          ],
          "name": "stdout"
        }
      ]
    },
    {
      "cell_type": "markdown",
      "metadata": {
        "id": "p2jmaGLgoFPN",
        "colab_type": "text"
      },
      "source": [
        "## 2.3  Find $F^{T}$. How are the numbers along the main diagonal (top left to bottom right) of the original matrix and its transpose related? What are the dimensions of $F$? What are the dimensions of $F^{T}$?\n",
        "\n",
        "\\begin{align}\n",
        "F = \n",
        "\\begin{bmatrix}\n",
        "20 & 19 & 18 & 17 \\\\\n",
        "16 & 15 & 14 & 13 \\\\\n",
        "12 & 11 & 10 & 9 \\\\\n",
        "8 & 7 & 6 & 5 \\\\\n",
        "4 & 3 & 2 & 1\n",
        "\\end{bmatrix}\n",
        "\\end{align}"
      ]
    },
    {
      "cell_type": "code",
      "metadata": {
        "id": "Wl3ElwgLqaAn",
        "colab_type": "code",
        "outputId": "74daa72c-3e9e-4967-c3d6-3eb1e29525d6",
        "colab": {
          "base_uri": "https://localhost:8080/",
          "height": 102
        }
      },
      "source": [
        "F=np.array([\n",
        "         [20,19,18,17],\n",
        "         [16,15,14,13],\n",
        "         [12,11,10,9],\n",
        "         [8,7,6,5],\n",
        "         [4,3,2,1]\n",
        "])\n",
        "Fm = np.asmatrix(F)\n",
        "Ft = Fm.T\n",
        "print(Ft)\n",
        "# diagonal remains the same\n",
        "Ft.shape"
      ],
      "execution_count": 0,
      "outputs": [
        {
          "output_type": "stream",
          "text": [
            "[[20 16 12  8  4]\n",
            " [19 15 11  7  3]\n",
            " [18 14 10  6  2]\n",
            " [17 13  9  5  1]]\n"
          ],
          "name": "stdout"
        },
        {
          "output_type": "execute_result",
          "data": {
            "text/plain": [
              "(4, 5)"
            ]
          },
          "metadata": {
            "tags": []
          },
          "execution_count": 78
        }
      ]
    },
    {
      "cell_type": "markdown",
      "metadata": {
        "id": "13ik2LEEZLHn",
        "colab_type": "text"
      },
      "source": [
        "# Part 3 - Square Matrices"
      ]
    },
    {
      "cell_type": "markdown",
      "metadata": {
        "id": "sDBAPUwfp7f7",
        "colab_type": "text"
      },
      "source": [
        "## 3.1 Find $IG$ (be sure to show your work) 😃\n",
        "\n",
        "You don't have to do anything crazy complicated here to show your work, just create the G matrix as specified below, and a corresponding 2x2 Identity matrix and then multiply them together to show the result. You don't need to write LaTeX or anything like that (unless you want to).\n",
        "\n",
        "\\begin{align}\n",
        "G= \n",
        "\\begin{bmatrix}\n",
        "13 & 14 \\\\\n",
        "21 & 12 \n",
        "\\end{bmatrix}\n",
        "\\end{align}"
      ]
    },
    {
      "cell_type": "code",
      "metadata": {
        "id": "ZnqvZBOYqar3",
        "colab_type": "code",
        "outputId": "e994e157-dae0-435b-b2d1-6710f66a1108",
        "colab": {
          "base_uri": "https://localhost:8080/",
          "height": 51
        }
      },
      "source": [
        "G=np.array([[13,14],[21,12]])\n",
        "I = np.array([[1,0],[0,1]])\n",
        "np.matmul(I,G)"
      ],
      "execution_count": 0,
      "outputs": [
        {
          "output_type": "execute_result",
          "data": {
            "text/plain": [
              "array([[13, 14],\n",
              "       [21, 12]])"
            ]
          },
          "metadata": {
            "tags": []
          },
          "execution_count": 80
        }
      ]
    },
    {
      "cell_type": "markdown",
      "metadata": {
        "id": "DZ_0XTDQqpMT",
        "colab_type": "text"
      },
      "source": [
        "## 3.2 Find $|H|$ and then find $|J|$.\n",
        "\n",
        "\\begin{align}\n",
        "H= \n",
        "\\begin{bmatrix}\n",
        "12 & 11 \\\\\n",
        "7 & 10 \n",
        "\\end{bmatrix}\n",
        "\\qquad\n",
        "J= \n",
        "\\begin{bmatrix}\n",
        "0 & 1 & 2 \\\\\n",
        "7 & 10 & 4 \\\\\n",
        "3 & 2 & 0\n",
        "\\end{bmatrix}\n",
        "\\end{align}\n"
      ]
    },
    {
      "cell_type": "code",
      "metadata": {
        "id": "5QShhoXyrjDS",
        "colab_type": "code",
        "outputId": "397f2d69-65dc-4a08-86a5-597101b983ab",
        "colab": {
          "base_uri": "https://localhost:8080/",
          "height": 51
        }
      },
      "source": [
        "H=np.array([[12,11],[7,10]])\n",
        "J=np.array([[0,1,2],[7,10,4],[3,2,0]])\n",
        "H_det = np.linalg.det(H)\n",
        "print(H_det)\n",
        "J_det = np.linalg.det(J)\n",
        "J_det"
      ],
      "execution_count": 0,
      "outputs": [
        {
          "output_type": "stream",
          "text": [
            "43.000000000000014\n"
          ],
          "name": "stdout"
        },
        {
          "output_type": "execute_result",
          "data": {
            "text/plain": [
              "-19.999999999999996"
            ]
          },
          "metadata": {
            "tags": []
          },
          "execution_count": 85
        }
      ]
    },
    {
      "cell_type": "markdown",
      "metadata": {
        "id": "2gZl1CFwrXSH",
        "colab_type": "text"
      },
      "source": [
        "## 3.3 Find $H^{-1}$ and then find $J^{-1}$"
      ]
    },
    {
      "cell_type": "code",
      "metadata": {
        "id": "nyX6De2-rio1",
        "colab_type": "code",
        "outputId": "2082b6f2-c67b-4b83-c2be-4acc2e465190",
        "colab": {
          "base_uri": "https://localhost:8080/",
          "height": 193
        }
      },
      "source": [
        "import pandas as pd\n",
        "H_inverse=np.linalg.inv(H)\n",
        "print(pd.DataFrame(H_inverse))\n",
        "J_inverse=np.linalg.inv(J)\n",
        "pd.DataFrame(J_inverse)"
      ],
      "execution_count": 0,
      "outputs": [
        {
          "output_type": "stream",
          "text": [
            "          0         1\n",
            "0  0.232558 -0.255814\n",
            "1 -0.162791  0.279070\n"
          ],
          "name": "stdout"
        },
        {
          "output_type": "execute_result",
          "data": {
            "text/html": [
              "<div>\n",
              "<style scoped>\n",
              "    .dataframe tbody tr th:only-of-type {\n",
              "        vertical-align: middle;\n",
              "    }\n",
              "\n",
              "    .dataframe tbody tr th {\n",
              "        vertical-align: top;\n",
              "    }\n",
              "\n",
              "    .dataframe thead th {\n",
              "        text-align: right;\n",
              "    }\n",
              "</style>\n",
              "<table border=\"1\" class=\"dataframe\">\n",
              "  <thead>\n",
              "    <tr style=\"text-align: right;\">\n",
              "      <th></th>\n",
              "      <th>0</th>\n",
              "      <th>1</th>\n",
              "      <th>2</th>\n",
              "    </tr>\n",
              "  </thead>\n",
              "  <tbody>\n",
              "    <tr>\n",
              "      <th>0</th>\n",
              "      <td>0.4</td>\n",
              "      <td>-0.20</td>\n",
              "      <td>0.80</td>\n",
              "    </tr>\n",
              "    <tr>\n",
              "      <th>1</th>\n",
              "      <td>-0.6</td>\n",
              "      <td>0.30</td>\n",
              "      <td>-0.70</td>\n",
              "    </tr>\n",
              "    <tr>\n",
              "      <th>2</th>\n",
              "      <td>0.8</td>\n",
              "      <td>-0.15</td>\n",
              "      <td>0.35</td>\n",
              "    </tr>\n",
              "  </tbody>\n",
              "</table>\n",
              "</div>"
            ],
            "text/plain": [
              "     0     1     2\n",
              "0  0.4 -0.20  0.80\n",
              "1 -0.6  0.30 -0.70\n",
              "2  0.8 -0.15  0.35"
            ]
          },
          "metadata": {
            "tags": []
          },
          "execution_count": 92
        }
      ]
    },
    {
      "cell_type": "markdown",
      "metadata": {
        "id": "Vvd4Pe86rjhW",
        "colab_type": "text"
      },
      "source": [
        "## 3.4 Find $HH^{-1}$ and then find $J^{-1}J$. Is $HH^{-1} == J^{-1}J$? Why or Why not? \n",
        "\n",
        "Please ignore Python rounding errors. If necessary, format your output so that it rounds to 5 significant digits (the fifth decimal place)."
      ]
    },
    {
      "cell_type": "code",
      "metadata": {
        "id": "d1zqMBMuXRy7",
        "colab_type": "code",
        "outputId": "5bf010e1-333c-4b68-c902-7be9107f6acf",
        "colab": {
          "base_uri": "https://localhost:8080/",
          "height": 119
        }
      },
      "source": [
        "H_mul = np.matmul(H, H_inverse)\n",
        "J_mul = np.matmul(J, J_inverse)\n",
        "print(H_mul)\n",
        "print(J_mul)\n",
        "\n",
        "print(H_mul.shape == J_mul.shape)\n",
        "\n",
        "# they are not equal as dimensionality of both matrices  are different"
      ],
      "execution_count": 0,
      "outputs": [
        {
          "output_type": "stream",
          "text": [
            "[[1.00000000e+00 5.55111512e-16]\n",
            " [2.22044605e-16 1.00000000e+00]]\n",
            "[[ 1.00000000e+00 -5.55111512e-17  0.00000000e+00]\n",
            " [ 0.00000000e+00  1.00000000e+00  0.00000000e+00]\n",
            " [ 0.00000000e+00  0.00000000e+00  1.00000000e+00]]\n",
            "False\n"
          ],
          "name": "stdout"
        }
      ]
    },
    {
      "cell_type": "markdown",
      "metadata": {
        "id": "V0iTO4McYjtk",
        "colab_type": "text"
      },
      "source": [
        "# Stretch Goals: \n",
        "\n",
        "A reminder that these challenges are optional. If you finish your work quickly we welcome you to work on them. If there are other activities that you feel like will help your understanding of the above topics more, feel free to work on that. Topics from the Stretch Goals sections will never end up on Sprint Challenges. You don't have to do these in order, you don't have to do all of them. \n",
        "\n",
        "- Write a function that can calculate the dot product of any two vectors of equal length that are passed to it.\n",
        "- Write a function that can calculate the norm of any vector\n",
        "- Prove to yourself again that the vectors in 1.9 are orthogonal by graphing them. \n",
        "- Research how to plot a 3d graph with animations so that you can make the graph rotate (this will be easier in a local notebook than in google colab)\n",
        "- Create and plot a matrix on a 2d graph.\n",
        "- Create and plot a matrix on a 3d graph.\n",
        "- Plot two vectors that are not collinear on a 2d graph. Calculate the determinant of the 2x2 matrix that these vectors form. How does this determinant relate to the graphical interpretation of the vectors?\n",
        "\n"
      ]
    }
  ]
}