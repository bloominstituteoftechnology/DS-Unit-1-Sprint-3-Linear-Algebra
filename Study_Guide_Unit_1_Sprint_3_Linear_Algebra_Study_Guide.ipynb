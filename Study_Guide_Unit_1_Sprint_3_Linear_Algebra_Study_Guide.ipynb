{
  "nbformat": 4,
  "nbformat_minor": 0,
  "metadata": {
    "colab": {
      "name": "Study Guide Unit 1 Sprint 3 - Linear Algebra - Study Guide.ipynb",
      "provenance": [],
      "collapsed_sections": [
        "IjAwwT2BdFW_",
        "WhCRNGcIpqLA",
        "0tGpkbE4tmc0",
        "IY34EYXT4UF6"
      ],
      "include_colab_link": true
    },
    "kernelspec": {
      "name": "python3",
      "display_name": "Python 3"
    }
  },
  "cells": [
    {
      "cell_type": "markdown",
      "metadata": {
        "id": "view-in-github",
        "colab_type": "text"
      },
      "source": [
        "<a href=\"https://colab.research.google.com/github/sampath11/DS-Unit-1-Sprint-3-Linear-Algebra/blob/master/Study_Guide_Unit_1_Sprint_3_Linear_Algebra_Study_Guide.ipynb\" target=\"_parent\"><img src=\"https://colab.research.google.com/assets/colab-badge.svg\" alt=\"Open In Colab\"/></a>"
      ]
    },
    {
      "cell_type": "markdown",
      "metadata": {
        "id": "cMiprvKNZHSH",
        "colab_type": "text"
      },
      "source": [
        "This study guide should reinforce and provide practice for all of the concepts you have seen in the past week. There are a mix of written questions and coding exercises, both are equally important to prepare you for the sprint challenge as well as to be able to speak on these topics comfortably in interviews and on the job.\n",
        "\n",
        "If you get stuck or are unsure of something remember the 20 minute rule. If that doesn't help, then research a solution with google and stackoverflow. Only once you have exausted these methods should you turn to your Team Lead - they won't be there on your SC or during an interview. That being said, don't hesitate to ask for help if you truly are stuck.\n",
        "\n",
        "Have fun studying!"
      ]
    },
    {
      "cell_type": "markdown",
      "metadata": {
        "id": "n9p56FSWj2Kc",
        "colab_type": "text"
      },
      "source": [
        "#Resources\n",
        "[Numpy Linear Algebra Documentation](https://docs.scipy.org/doc/numpy-1.15.1/reference/routines.linalg.html)\n",
        "\n",
        "[LaTex Cheat Sheet](https://wch.github.io/latexsheet/latexsheet.pdf)"
      ]
    },
    {
      "cell_type": "code",
      "metadata": {
        "id": "-e2sdAAUQ2dS",
        "colab_type": "code",
        "colab": {}
      },
      "source": [
        "import pandas as pd\n",
        "import numpy as np\n",
        "import matplotlib.pyplot as plt\n",
        "from sklearn.preprocessing import StandardScaler\n",
        "from sklearn.decomposition import PCA"
      ],
      "execution_count": 0,
      "outputs": []
    },
    {
      "cell_type": "markdown",
      "metadata": {
        "id": "VIoGpwj1SMP6",
        "colab_type": "text"
      },
      "source": [
        "# Vectors"
      ]
    },
    {
      "cell_type": "markdown",
      "metadata": {
        "id": "rCOmnIrFSRMz",
        "colab_type": "text"
      },
      "source": [
        "Define the following terms in your own words, do not simply copy and paste a definition found elsewhere but reword it to be understandable and memorable to you. *Double click the markdown to add your definitions*\n",
        "\n",
        "**Vector:** `Your Answer Here`\n",
        "\n",
        "**Scalar:** `Your Answer Here`\n",
        "\n",
        "**Norm:** `Your Answer Here`\n",
        "\n",
        "**Dot Product:** `Your Answer Here`\n",
        "\n",
        "**Cross Product:** `Your Answer Here`\n",
        "\n",
        "**Unit Vector:** `Your Answer Here`\n",
        "\n",
        "**Span:** `Your Answer Here`\n",
        "\n",
        "**Basis:** `Your Answer Here`"
      ]
    },
    {
      "cell_type": "markdown",
      "metadata": {
        "id": "hjDK-ncUVQDQ",
        "colab_type": "text"
      },
      "source": [
        "Use the following vectors to answer the questions below.\n",
        "\\begin{align}\n",
        "\\vec{a} = \\begin{bmatrix} 3 \\\\ 2 \\end{bmatrix}\n",
        "\\vec{b} = \\begin{bmatrix} 4 \\\\ -6 \\end{bmatrix}\n",
        "\\vec{c} = \\begin{bmatrix} 6 \\\\ 4 \\end{bmatrix}\n",
        "\\end{align}"
      ]
    },
    {
      "cell_type": "markdown",
      "metadata": {
        "id": "gu2qRyRbYYMr",
        "colab_type": "text"
      },
      "source": [
        "Graph all three vectors.\n",
        "- Make sure to color each vector for visual clarity\n",
        "- Label your x and y axis and title the graph (this should be habit any time you graph)"
      ]
    },
    {
      "cell_type": "code",
      "metadata": {
        "id": "wSt1H2N4YjT6",
        "colab_type": "code",
        "colab": {}
      },
      "source": [
        ""
      ],
      "execution_count": 0,
      "outputs": []
    },
    {
      "cell_type": "markdown",
      "metadata": {
        "id": "OSSWRNNpYkCa",
        "colab_type": "text"
      },
      "source": [
        "Find: \n",
        "- $\\vec{a} \\cdot \\vec{b}$\n",
        "- $\\vec{a} \\cdot \\vec{c}$\n",
        "- $\\vec{b} \\cdot \\vec{c}$ "
      ]
    },
    {
      "cell_type": "code",
      "metadata": {
        "id": "jp8rffcoZHaU",
        "colab_type": "code",
        "colab": {}
      },
      "source": [
        ""
      ],
      "execution_count": 0,
      "outputs": []
    },
    {
      "cell_type": "markdown",
      "metadata": {
        "id": "-DiheNfjZMgP",
        "colab_type": "text"
      },
      "source": [
        "Find:\n",
        "- $\\vec{a} \\times \\vec{b}$\n",
        "- $\\vec{a} \\times \\vec{c}$\n",
        "- $\\vec{b} \\times \\vec{c}$"
      ]
    },
    {
      "cell_type": "code",
      "metadata": {
        "id": "njBBAAZSZ_gm",
        "colab_type": "code",
        "colab": {}
      },
      "source": [
        ""
      ],
      "execution_count": 0,
      "outputs": []
    },
    {
      "cell_type": "markdown",
      "metadata": {
        "id": "eZf7MrzBaE99",
        "colab_type": "text"
      },
      "source": [
        "Find:\n",
        "- $||\\vec{a}||$\n",
        "- $||\\vec{b}||$\n",
        "- $||\\vec{c}||$"
      ]
    },
    {
      "cell_type": "code",
      "metadata": {
        "id": "To2NOc0naYtS",
        "colab_type": "code",
        "colab": {}
      },
      "source": [
        ""
      ],
      "execution_count": 0,
      "outputs": []
    },
    {
      "cell_type": "markdown",
      "metadata": {
        "id": "9spMDpj-agVq",
        "colab_type": "text"
      },
      "source": [
        "Using the vectors and calculations above, answer the following questions.\n",
        "\n",
        "1. What vectors are orthogonal to each other? How do we know that? `Your Answer Here`\n",
        "\n",
        "2. What is the longest vector? How do we know that? `Your Answer Here`\n",
        "\n",
        "3. Which vectors are linearly independent? How do we know that? `Your Answer Here`\n",
        "\n",
        "4. Which vector is formed from multiplying one of the other vectors by a scalar of 2? `Your Answer Here`"
      ]
    },
    {
      "cell_type": "markdown",
      "metadata": {
        "id": "-ucqMCJWdr71",
        "colab_type": "text"
      },
      "source": [
        "Using $\\vec{a}$, transform it into a unit vector."
      ]
    },
    {
      "cell_type": "code",
      "metadata": {
        "id": "cahmWZZBdrTW",
        "colab_type": "code",
        "colab": {}
      },
      "source": [
        ""
      ],
      "execution_count": 0,
      "outputs": []
    },
    {
      "cell_type": "markdown",
      "metadata": {
        "id": "Ym8IlKh-eCE8",
        "colab_type": "text"
      },
      "source": [
        "Using $\\vec{a}$ and LaTex, describe $\\vec{a}$ as a linear combination of scalars and unit vectors.\n",
        "\n",
        "*Double click the markdown and add your answer here.*"
      ]
    },
    {
      "cell_type": "markdown",
      "metadata": {
        "id": "IjAwwT2BdFW_",
        "colab_type": "text"
      },
      "source": [
        "# Matrices"
      ]
    },
    {
      "cell_type": "markdown",
      "metadata": {
        "id": "uxZVgAHde3I1",
        "colab_type": "text"
      },
      "source": [
        "Define the following terms in your own words, do not simply copy and paste a definition found elsewhere but reword it to be understandable and memorable to you. *Double click the markdown to add your definitions*\n",
        "\n",
        "**Matrix:** `Your Answer Here`\n",
        "\n",
        "**Dimensionality:** `Your Answer Here`\n",
        "\n",
        "**Transpose:** `Your Answer Here`\n",
        "\n",
        "**Determinant:** `Your Answer Here`\n",
        "\n",
        "**Inverse:** `Your Answer Here`\n",
        "\n",
        "**Rank:** `Your Answer Here`\n",
        "\n",
        "**Row-Echelon Form:** `Your Answer Here`\n",
        "\n",
        "**Identity Matrix:** `Your Answer Here`"
      ]
    },
    {
      "cell_type": "markdown",
      "metadata": {
        "id": "d8-ZpD_pgnlV",
        "colab_type": "text"
      },
      "source": [
        "Use the matrices below to answer the following questions.\n",
        "\n",
        "\\begin{align}\n",
        "    A = \\begin{bmatrix}\n",
        "           1 & 4\\\\\n",
        "           2 & 5\\\\\n",
        "           3 & 6 \n",
        "    \\end{bmatrix} \n",
        "    \\\n",
        "    B = \\begin{bmatrix}\n",
        "           1 & 2 & 3\\\\\n",
        "           4 & 5 & 6\n",
        "    \\end{bmatrix}\n",
        "    \\\n",
        "    C = \\begin{bmatrix}\n",
        "           1 & 2 & 3 & 4\\\\\n",
        "           5 & 3 & 7 & 9\\\\\n",
        "           3 & 7 & 7 & 7\\\\\n",
        "           2 & 4 & 6 & 8\\\\\n",
        "    \\end{bmatrix}\n",
        "\\end{align}"
      ]
    },
    {
      "cell_type": "markdown",
      "metadata": {
        "id": "dgYc01JrjKbb",
        "colab_type": "text"
      },
      "source": [
        "What are the dimensions of each matrix?\n",
        "- $A$: `Your Answer Here`\n",
        "- $B$: `Your Answer Here`\n",
        "- $C$: `Your Answer Here`"
      ]
    },
    {
      "cell_type": "markdown",
      "metadata": {
        "id": "Up5bJzfBjqev",
        "colab_type": "text"
      },
      "source": [
        "Do matrix multiplication with all valid combinations of $A$, $B$, and $C$.\n",
        "- Are there any combinations that cannot be multiplied? Why? `Your Answer Here`"
      ]
    },
    {
      "cell_type": "code",
      "metadata": {
        "id": "68diJCtxi6tr",
        "colab_type": "code",
        "colab": {}
      },
      "source": [
        "# Matrix Multiplication Here"
      ],
      "execution_count": 0,
      "outputs": []
    },
    {
      "cell_type": "markdown",
      "metadata": {
        "id": "VH3NjopzkSLN",
        "colab_type": "text"
      },
      "source": [
        "Find $T$ of each matrix."
      ]
    },
    {
      "cell_type": "code",
      "metadata": {
        "id": "NHFQFTc8knh9",
        "colab_type": "code",
        "colab": {}
      },
      "source": [
        ""
      ],
      "execution_count": 0,
      "outputs": []
    },
    {
      "cell_type": "markdown",
      "metadata": {
        "id": "B994bkDCl5QP",
        "colab_type": "text"
      },
      "source": [
        "Find the determinant of $C$"
      ]
    },
    {
      "cell_type": "code",
      "metadata": {
        "id": "pBbJHNbKm-gT",
        "colab_type": "code",
        "colab": {}
      },
      "source": [
        ""
      ],
      "execution_count": 0,
      "outputs": []
    },
    {
      "cell_type": "markdown",
      "metadata": {
        "id": "8QGB1NO-nAWZ",
        "colab_type": "text"
      },
      "source": [
        "What causes a determinant of 0?\n",
        "\n",
        "`Your Answer Here`"
      ]
    },
    {
      "cell_type": "markdown",
      "metadata": {
        "id": "PtJC8u8BnJLM",
        "colab_type": "text"
      },
      "source": [
        "Find the rank of $C$ (You may use a function to save time)"
      ]
    },
    {
      "cell_type": "code",
      "metadata": {
        "id": "SREkl6pQnf4Q",
        "colab_type": "code",
        "colab": {}
      },
      "source": [
        ""
      ],
      "execution_count": 0,
      "outputs": []
    },
    {
      "cell_type": "markdown",
      "metadata": {
        "id": "md8KrAfsninY",
        "colab_type": "text"
      },
      "source": [
        "What is Gaussian Elimination? What are the three row operations you can perform?\n",
        "\n",
        "`Your Answer Here`"
      ]
    },
    {
      "cell_type": "markdown",
      "metadata": {
        "id": "oG0K72c3n2iA",
        "colab_type": "text"
      },
      "source": [
        "Given:\n",
        "\\begin{align}\n",
        "    D = \\begin{bmatrix}\n",
        "           1 & 3\\\\\n",
        "           2 & 5\\\n",
        "    \\end{bmatrix} \n",
        "\\end{align}\n",
        "\n",
        "Find $D^{-1}$"
      ]
    },
    {
      "cell_type": "code",
      "metadata": {
        "id": "TRPxeKy0oI7y",
        "colab_type": "code",
        "colab": {}
      },
      "source": [
        ""
      ],
      "execution_count": 0,
      "outputs": []
    },
    {
      "cell_type": "markdown",
      "metadata": {
        "id": "MCimmBAfpS-Q",
        "colab_type": "text"
      },
      "source": [
        "Find $D^{-1}D$. What is the name of the resulting matrix?"
      ]
    },
    {
      "cell_type": "code",
      "metadata": {
        "id": "pwainl_To_CM",
        "colab_type": "code",
        "colab": {}
      },
      "source": [
        ""
      ],
      "execution_count": 0,
      "outputs": []
    },
    {
      "cell_type": "markdown",
      "metadata": {
        "id": "WhCRNGcIpqLA",
        "colab_type": "text"
      },
      "source": [
        "# Statistics"
      ]
    },
    {
      "cell_type": "markdown",
      "metadata": {
        "id": "C0YpgbY_puoV",
        "colab_type": "text"
      },
      "source": [
        "Define the following terms in your own words, do not simply copy and paste a definition found elsewhere but reword it to be understandable and memorable to you. *Double click the markdown to add your definitions*\n",
        "\n",
        "**Variance:** `Your Answer Here`\n",
        "\n",
        "**Covariance:** `Your Answer Here`\n",
        "\n",
        "**Correlation Coefficient:** `Your Answer Here`"
      ]
    },
    {
      "cell_type": "markdown",
      "metadata": {
        "id": "exHY2ZyRqooH",
        "colab_type": "text"
      },
      "source": [
        "Given the data below, answer the following questions.\n",
        "```\n",
        "tweetle_beatles = [100, 657, 42, 1001, 501]\n",
        "\n",
        "puddle_battles = [5, 0, 3, 10, 7]\n",
        "```"
      ]
    },
    {
      "cell_type": "markdown",
      "metadata": {
        "id": "WuvtpAq_sXkB",
        "colab_type": "text"
      },
      "source": [
        "Find the mean, variance, and standard deviation for `tweetle_beatles` and `puddle_battles`."
      ]
    },
    {
      "cell_type": "code",
      "metadata": {
        "id": "sjTmdaqSswr2",
        "colab_type": "code",
        "colab": {}
      },
      "source": [
        ""
      ],
      "execution_count": 0,
      "outputs": []
    },
    {
      "cell_type": "markdown",
      "metadata": {
        "id": "stBvJ8Lrs80J",
        "colab_type": "text"
      },
      "source": [
        "Find the variance-covariance matrix of `tweetle_beatles` and `puddle_battles`."
      ]
    },
    {
      "cell_type": "code",
      "metadata": {
        "id": "DwVOFOkEtFmv",
        "colab_type": "code",
        "colab": {}
      },
      "source": [
        ""
      ],
      "execution_count": 0,
      "outputs": []
    },
    {
      "cell_type": "markdown",
      "metadata": {
        "id": "bcg4CJa3tIB2",
        "colab_type": "text"
      },
      "source": [
        "Find the correlation coefficient of `tweetle_beatles` and `puddle_battles`."
      ]
    },
    {
      "cell_type": "code",
      "metadata": {
        "id": "RpmjphYOtU-r",
        "colab_type": "code",
        "colab": {}
      },
      "source": [
        ""
      ],
      "execution_count": 0,
      "outputs": []
    },
    {
      "cell_type": "markdown",
      "metadata": {
        "id": "6IfL4m6AtUUn",
        "colab_type": "text"
      },
      "source": [
        "Can we compare the variance of `tweetle_beatles` and `puddle_battles`? Why or why not?\n",
        "\n",
        "`Your Answer Here`"
      ]
    },
    {
      "cell_type": "markdown",
      "metadata": {
        "id": "-QQRf5NWwiJU",
        "colab_type": "text"
      },
      "source": [
        "What is the relationship between Variance and Standard Deviation?\n",
        "\n",
        "`Your Answer Here`"
      ]
    },
    {
      "cell_type": "markdown",
      "metadata": {
        "id": "0tGpkbE4tmc0",
        "colab_type": "text"
      },
      "source": [
        "# Dimensionality Reduction"
      ]
    },
    {
      "cell_type": "markdown",
      "metadata": {
        "id": "Qgfd6Ymctsh8",
        "colab_type": "text"
      },
      "source": [
        "Define the following terms in your own words, do not simply copy and paste a definition found elsewhere but reword it to be understandable and memorable to you. *Double click the markdown to add your definitions*\n",
        "\n",
        "**Projection:** `Your Answers Here`\n",
        "\n",
        "**Principle Component Analysis:** `Your Answer Here`\n",
        "\n",
        "**Eigenvalue:** `Your Answer Here`\n",
        "\n",
        "**Eigenvector:** `Your Answer Here`\n",
        "\n",
        "**Scree Plot:** `Your Answer Here`"
      ]
    },
    {
      "cell_type": "markdown",
      "metadata": {
        "id": "a557ulVkvPwu",
        "colab_type": "text"
      },
      "source": [
        "Line $L$ is formed by all vectors that can be created by scaling vector $v$. \n",
        "\\begin{align}\n",
        "\\vec{v} = \\begin{bmatrix} 1 \\\\ .5 \\end{bmatrix}\n",
        "\\vec{w} = \\begin{bmatrix} 2 \\\\ 2 \\end{bmatrix}\n",
        "\\end{align}\n",
        "Find $proj_{L}(\\vec{w})$"
      ]
    },
    {
      "cell_type": "code",
      "metadata": {
        "id": "9-j-V0levpSl",
        "colab_type": "code",
        "colab": {}
      },
      "source": [
        ""
      ],
      "execution_count": 0,
      "outputs": []
    },
    {
      "cell_type": "markdown",
      "metadata": {
        "id": "MxZXfPQTwOtV",
        "colab_type": "text"
      },
      "source": [
        "Graph your projected vector to check your work"
      ]
    },
    {
      "cell_type": "code",
      "metadata": {
        "id": "5VyqpWDcwU8L",
        "colab_type": "code",
        "colab": {}
      },
      "source": [
        ""
      ],
      "execution_count": 0,
      "outputs": []
    },
    {
      "cell_type": "markdown",
      "metadata": {
        "id": "cYp5oVRwwV_W",
        "colab_type": "text"
      },
      "source": [
        "What is the Curse of Dimensionality?\n",
        "\n",
        "`Your Answer Here`"
      ]
    },
    {
      "cell_type": "markdown",
      "metadata": {
        "id": "eNCqWVBTz4JR",
        "colab_type": "text"
      },
      "source": [
        "Use the dataset below to perform PCA with the numeric features."
      ]
    },
    {
      "cell_type": "code",
      "metadata": {
        "id": "GFmlBSLQ0IYU",
        "colab_type": "code",
        "outputId": "04518719-1112-4e21-e53e-d9e68390cd30",
        "colab": {
          "base_uri": "https://localhost:8080/",
          "height": 206
        }
      },
      "source": [
        "url = \"https://archive.ics.uci.edu/ml/machine-learning-databases/iris/iris.data\"\n",
        "df = pd.read_csv(url, names=['sepal length','sepal width','petal length','petal width','target'])\n",
        "df.head()"
      ],
      "execution_count": 0,
      "outputs": [
        {
          "output_type": "execute_result",
          "data": {
            "text/html": [
              "<div>\n",
              "<style scoped>\n",
              "    .dataframe tbody tr th:only-of-type {\n",
              "        vertical-align: middle;\n",
              "    }\n",
              "\n",
              "    .dataframe tbody tr th {\n",
              "        vertical-align: top;\n",
              "    }\n",
              "\n",
              "    .dataframe thead th {\n",
              "        text-align: right;\n",
              "    }\n",
              "</style>\n",
              "<table border=\"1\" class=\"dataframe\">\n",
              "  <thead>\n",
              "    <tr style=\"text-align: right;\">\n",
              "      <th></th>\n",
              "      <th>sepal length</th>\n",
              "      <th>sepal width</th>\n",
              "      <th>petal length</th>\n",
              "      <th>petal width</th>\n",
              "      <th>target</th>\n",
              "    </tr>\n",
              "  </thead>\n",
              "  <tbody>\n",
              "    <tr>\n",
              "      <th>0</th>\n",
              "      <td>5.1</td>\n",
              "      <td>3.5</td>\n",
              "      <td>1.4</td>\n",
              "      <td>0.2</td>\n",
              "      <td>Iris-setosa</td>\n",
              "    </tr>\n",
              "    <tr>\n",
              "      <th>1</th>\n",
              "      <td>4.9</td>\n",
              "      <td>3.0</td>\n",
              "      <td>1.4</td>\n",
              "      <td>0.2</td>\n",
              "      <td>Iris-setosa</td>\n",
              "    </tr>\n",
              "    <tr>\n",
              "      <th>2</th>\n",
              "      <td>4.7</td>\n",
              "      <td>3.2</td>\n",
              "      <td>1.3</td>\n",
              "      <td>0.2</td>\n",
              "      <td>Iris-setosa</td>\n",
              "    </tr>\n",
              "    <tr>\n",
              "      <th>3</th>\n",
              "      <td>4.6</td>\n",
              "      <td>3.1</td>\n",
              "      <td>1.5</td>\n",
              "      <td>0.2</td>\n",
              "      <td>Iris-setosa</td>\n",
              "    </tr>\n",
              "    <tr>\n",
              "      <th>4</th>\n",
              "      <td>5.0</td>\n",
              "      <td>3.6</td>\n",
              "      <td>1.4</td>\n",
              "      <td>0.2</td>\n",
              "      <td>Iris-setosa</td>\n",
              "    </tr>\n",
              "  </tbody>\n",
              "</table>\n",
              "</div>"
            ],
            "text/plain": [
              "   sepal length  sepal width  petal length  petal width       target\n",
              "0           5.1          3.5           1.4          0.2  Iris-setosa\n",
              "1           4.9          3.0           1.4          0.2  Iris-setosa\n",
              "2           4.7          3.2           1.3          0.2  Iris-setosa\n",
              "3           4.6          3.1           1.5          0.2  Iris-setosa\n",
              "4           5.0          3.6           1.4          0.2  Iris-setosa"
            ]
          },
          "metadata": {
            "tags": []
          },
          "execution_count": 46
        }
      ]
    },
    {
      "cell_type": "markdown",
      "metadata": {
        "id": "MAFmHFQE3Ij3",
        "colab_type": "text"
      },
      "source": [
        "Standardize your data"
      ]
    },
    {
      "cell_type": "code",
      "metadata": {
        "id": "TNdWsT0I0TMb",
        "colab_type": "code",
        "colab": {}
      },
      "source": [
        ""
      ],
      "execution_count": 0,
      "outputs": []
    },
    {
      "cell_type": "markdown",
      "metadata": {
        "id": "YfJxWlMz3SvD",
        "colab_type": "text"
      },
      "source": [
        "Use PCA to project to 2 dimensions"
      ]
    },
    {
      "cell_type": "code",
      "metadata": {
        "id": "WSqv6j423pVL",
        "colab_type": "code",
        "colab": {}
      },
      "source": [
        ""
      ],
      "execution_count": 0,
      "outputs": []
    },
    {
      "cell_type": "markdown",
      "metadata": {
        "id": "kivap4uE3sFK",
        "colab_type": "text"
      },
      "source": [
        "Graph your 2 principal components against each other."
      ]
    },
    {
      "cell_type": "code",
      "metadata": {
        "id": "r0Cmd0NM326w",
        "colab_type": "code",
        "colab": {}
      },
      "source": [
        ""
      ],
      "execution_count": 0,
      "outputs": []
    },
    {
      "cell_type": "markdown",
      "metadata": {
        "id": "MBdSt84O33Vx",
        "colab_type": "text"
      },
      "source": [
        "Give 2 examples of when you would use PCA. What would the trade-offs be?\n",
        "\n",
        "1. `Your Answer Here`\n",
        "\n",
        "2. `Your Answer Here`"
      ]
    },
    {
      "cell_type": "markdown",
      "metadata": {
        "id": "1bzmNtAh4XQd",
        "colab_type": "text"
      },
      "source": [
        "If you were calculating PCA by hand, what are the steps you would need to take?\n",
        "\n",
        "`Your Answer Here`"
      ]
    },
    {
      "cell_type": "markdown",
      "metadata": {
        "id": "IY34EYXT4UF6",
        "colab_type": "text"
      },
      "source": [
        "# Clustering"
      ]
    },
    {
      "cell_type": "markdown",
      "metadata": {
        "id": "PnvBvn184pEz",
        "colab_type": "text"
      },
      "source": [
        "Define the following terms in your own words, do not simply copy and paste a definition found elsewhere but reword it to be understandable and memorable to you. *Double click the markdown to add your definitions*\n",
        "\n",
        "**Supervised Learning:** `Your Answer Here`\n",
        "\n",
        "**Unsupervised Learning:** `Your Answer Here`\n",
        "\n",
        "**Reinforcement Learning:** `Your Answer Here`\n",
        "\n",
        "**Clustering:** `Your Answer Here`\n",
        "\n",
        "**Centroids:** `Your Answer Here`\n",
        "\n",
        "**No Free Lunch:** `Your Answer Here`"
      ]
    },
    {
      "cell_type": "markdown",
      "metadata": {
        "id": "bfhysUDA6NUr",
        "colab_type": "text"
      },
      "source": [
        "Use the iris dataframe above, choosing two of the numeric columns, to perform clustering on. Don't perform the clustering on the PCA'd dataset."
      ]
    },
    {
      "cell_type": "markdown",
      "metadata": {
        "id": "vS6rVGZj6v3W",
        "colab_type": "text"
      },
      "source": [
        "Plot the two features against each other"
      ]
    },
    {
      "cell_type": "code",
      "metadata": {
        "id": "SfXUW7h364x_",
        "colab_type": "code",
        "colab": {}
      },
      "source": [
        ""
      ],
      "execution_count": 0,
      "outputs": []
    },
    {
      "cell_type": "markdown",
      "metadata": {
        "id": "iDU6wgfb69eu",
        "colab_type": "text"
      },
      "source": [
        "There are three ways to decide how many clusters we should have. The easiest is that we know how many to expect due to outside knowledge or the data is labeled (`target` has three labels in it, thus we know there should be 3 clusters). What are the other two ways to figure out how many clusters there should be?\n",
        "\n",
        "1. `Your Answer Here`\n",
        "\n",
        "2. `Your Answer Here`"
      ]
    },
    {
      "cell_type": "markdown",
      "metadata": {
        "id": "KG9JmzHN7sKq",
        "colab_type": "text"
      },
      "source": [
        "Create an elbow plot to determine K."
      ]
    },
    {
      "cell_type": "code",
      "metadata": {
        "id": "meC181h971iK",
        "colab_type": "code",
        "colab": {}
      },
      "source": [
        ""
      ],
      "execution_count": 0,
      "outputs": []
    },
    {
      "cell_type": "markdown",
      "metadata": {
        "id": "hNjrAKfw72GB",
        "colab_type": "text"
      },
      "source": [
        "Perform clustering with K clusters."
      ]
    },
    {
      "cell_type": "code",
      "metadata": {
        "id": "WDE3lvkM8Aw0",
        "colab_type": "code",
        "colab": {}
      },
      "source": [
        ""
      ],
      "execution_count": 0,
      "outputs": []
    },
    {
      "cell_type": "markdown",
      "metadata": {
        "id": "GfhkI5kq8BB2",
        "colab_type": "text"
      },
      "source": [
        "Plot your clusters with the centroids distinct and each cluster of points a different color."
      ]
    },
    {
      "cell_type": "code",
      "metadata": {
        "id": "SdCH5vo29diO",
        "colab_type": "code",
        "colab": {}
      },
      "source": [
        ""
      ],
      "execution_count": 0,
      "outputs": []
    }
  ]
}