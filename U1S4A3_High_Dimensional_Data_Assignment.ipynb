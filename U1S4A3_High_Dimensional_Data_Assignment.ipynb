{
  "nbformat": 4,
  "nbformat_minor": 0,
  "metadata": {
    "colab": {
      "name": "U1S4A3 High Dimensional Data Assignment",
      "provenance": [],
      "collapsed_sections": [],
      "machine_shape": "hm",
      "include_colab_link": true
    },
    "kernelspec": {
      "name": "python3",
      "display_name": "Python 3"
    }
  },
  "cells": [
    {
      "cell_type": "markdown",
      "metadata": {
        "id": "view-in-github",
        "colab_type": "text"
      },
      "source": [
        "<a href=\"https://colab.research.google.com/github/brucebra000/DS-Unit-1-Sprint-3-Linear-Algebra/blob/master/U1S4A3_High_Dimensional_Data_Assignment.ipynb\" target=\"_parent\"><img src=\"https://colab.research.google.com/assets/colab-badge.svg\" alt=\"Open In Colab\"/></a>"
      ]
    },
    {
      "cell_type": "markdown",
      "metadata": {
        "id": "7wMWCkE1RZpM",
        "colab_type": "text"
      },
      "source": [
        "# Vertical Line Test"
      ]
    },
    {
      "cell_type": "code",
      "metadata": {
        "id": "9QAy76bqNts_",
        "colab_type": "code",
        "colab": {}
      },
      "source": [
        "import pandas as pd\n",
        "import numpy as np\n",
        "import matplotlib.pyplot as plt\n",
        "import math\n",
        "from numpy import array\n",
        "from sklearn.preprocessing import StandardScaler\n",
        "from sklearn.decomposition import PCA"
      ],
      "execution_count": 0,
      "outputs": []
    },
    {
      "cell_type": "markdown",
      "metadata": {
        "id": "W0-g7aprRv2j",
        "colab_type": "text"
      },
      "source": [
        "## 1.1 Create two graphs, one that passes the vertical line test and one that does not."
      ]
    },
    {
      "cell_type": "code",
      "metadata": {
        "id": "fIJhCtF6RW_U",
        "colab_type": "code",
        "outputId": "e011e4f7-39ef-4243-8ec6-06d1b406c231",
        "colab": {
          "base_uri": "https://localhost:8080/",
          "height": 281
        }
      },
      "source": [
        "plt.scatter([1, 3, 2], [2, 3, 1])\n",
        "plt.title('Passes the vertical line test')\n",
        "plt.show();"
      ],
      "execution_count": 0,
      "outputs": [
        {
          "output_type": "display_data",
          "data": {
            "image/png": "[encoded data removed]",
            "text/plain": [
              "<Figure size 432x288 with 1 Axes>"
            ]
          },
          "metadata": {
            "tags": []
          }
        }
      ]
    },
    {
      "cell_type": "code",
      "metadata": {
        "id": "DBTTCPT7OK2e",
        "colab_type": "code",
        "outputId": "b67b3a56-08ea-4753-94a8-db92e68d86cf",
        "colab": {
          "base_uri": "https://localhost:8080/",
          "height": 281
        }
      },
      "source": [
        "plt.scatter([1, 2, 2], [2, 1, 3])\n",
        "plt.title('Does not pass the vertical line test')\n",
        "plt.show();"
      ],
      "execution_count": 0,
      "outputs": [
        {
          "output_type": "display_data",
          "data": {
            "image/png": "[encoded data removed]",
            "text/plain": [
              "<Figure size 432x288 with 1 Axes>"
            ]
          },
          "metadata": {
            "tags": []
          }
        }
      ]
    },
    {
      "cell_type": "markdown",
      "metadata": {
        "id": "ckeTKqMgRy7g",
        "colab_type": "text"
      },
      "source": [
        "## 1.2 Why are graphs that don't pass the vertical line test not considered \"functions?\""
      ]
    },
    {
      "cell_type": "markdown",
      "metadata": {
        "id": "Gtl20YeDR6x-",
        "colab_type": "text"
      },
      "source": [
        "If the graph does not pass the vertical line test, that means it is not a function since a function can't have a different output when using the same input. In this case, an value X of 2 gave us a Y value of 1 and 3."
      ]
    },
    {
      "cell_type": "markdown",
      "metadata": {
        "id": "g21uN62xSKSk",
        "colab_type": "text"
      },
      "source": [
        "# Functions as Relations"
      ]
    },
    {
      "cell_type": "markdown",
      "metadata": {
        "id": "gwkcV-EMSMNd",
        "colab_type": "text"
      },
      "source": [
        "## 2.1 Which of the following relations are functions? Why?\n",
        "\n",
        "\\begin{align}\n",
        "\\text{Relation 1: } \\{(1, 2), (3, 2), (1, 3)\\}\n",
        "\\\\\n",
        "\\text{Relation 2: } \\{(1, 3), (2, 3), (6, 7)\\}\n",
        "\\\\\n",
        "\\text{Relation 3: } \\{(9, 4), (2, 1), (9, 6)\\}\n",
        "\\\\\n",
        "\\text{Relation 4: } \\{(6, 2), (8, 3), (6, 4)\\}\n",
        "\\\\\n",
        "\\text{Relation 5: } \\{(2, 6), (2, 7), (2, 4)\\}\n",
        "\\end{align}"
      ]
    },
    {
      "cell_type": "markdown",
      "metadata": {
        "id": "iq5xA12gPYmv",
        "colab_type": "text"
      },
      "source": [
        "Relation 2 is a function because it is the only relation that doesn't have an input produce two different outputs."
      ]
    },
    {
      "cell_type": "markdown",
      "metadata": {
        "id": "y0U30PrlTAAa",
        "colab_type": "text"
      },
      "source": [
        "# Functions as a mapping between dimensions\n"
      ]
    },
    {
      "cell_type": "markdown",
      "metadata": {
        "id": "pw-OU9qmT5Ua",
        "colab_type": "text"
      },
      "source": [
        "## 3.1 for the following functions what is the dimensionality of the domain (input) and codomain (range/output)?\n",
        "\n",
        "\\begin{align}\n",
        "m(𝑥_1,𝑥_2,𝑥_3)=(x_1+x_2, x_1+x_3, x_2+x_3)\n",
        "\\\\\n",
        "n(𝑥_1,𝑥_2,𝑥_3,𝑥_4)=(x_2^2 + x_3, x_2x_4)\n",
        "\\end{align}"
      ]
    },
    {
      "cell_type": "markdown",
      "metadata": {
        "id": "tw63iU5fQRW4",
        "colab_type": "text"
      },
      "source": [
        "\n",
        "\n",
        "1.   R3 > R3\n",
        "2.   R4 > R2\n",
        "\n"
      ]
    },
    {
      "cell_type": "markdown",
      "metadata": {
        "id": "k4tKHjdHUevC",
        "colab_type": "text"
      },
      "source": [
        "## 3.2 Do you think it's possible to create a function that maps from a lower dimensional space to a higher dimensional space? If so, provide an example."
      ]
    },
    {
      "cell_type": "markdown",
      "metadata": {
        "id": "WvYOXbYSQUCb",
        "colab_type": "text"
      },
      "source": [
        "As the function below shows, it is possible to create a function that maps a lower dimensional space into a higher dimensional space."
      ]
    },
    {
      "cell_type": "markdown",
      "metadata": {
        "id": "YvTfbVY5c1Up",
        "colab_type": "text"
      },
      "source": [
        "f(x,y) = (x - 3, y + 3, xy)"
      ]
    },
    {
      "cell_type": "markdown",
      "metadata": {
        "id": "2nEWvwVyVWdW",
        "colab_type": "text"
      },
      "source": [
        "# Vector Transformations"
      ]
    },
    {
      "cell_type": "markdown",
      "metadata": {
        "id": "1n0-6FsYVcVk",
        "colab_type": "text"
      },
      "source": [
        "## 4.1 Plug the corresponding unit vectors into each function. Use the output vectors to create a transformation matrix.\n",
        "\n",
        "\\begin{align}\n",
        "p(\\begin{bmatrix}x_1 \\\\ x_2 \\end{bmatrix}) = \\begin{bmatrix} x_1 + 3x_2 \\\\2 x_2 - x_1 \\\\  \\end{bmatrix}\n",
        "\\\\\n",
        "\\\\\n",
        "q(\\begin{bmatrix}x_1 \\\\ x_2 \\\\ x_3\\end{bmatrix}) = \\begin{bmatrix} 4x_1 + x_2 + 2x_3 \\\\2 x_2 - x_1 + 3x_3 \\\\ 5x_1 - 2x_3 + x_2  \\end{bmatrix}\n",
        "\\end{align}"
      ]
    },
    {
      "cell_type": "markdown",
      "metadata": {
        "id": "fSdM_HnhgMW1",
        "colab_type": "text"
      },
      "source": [
        "*   x1[1, 0] + x2[0,1]\n",
        "*   p[1, 0] = [1, -1], p[0, 1] = [3, 2]\n",
        "*   T = [1, -1], [3, 2]"
      ]
    },
    {
      "cell_type": "markdown",
      "metadata": {
        "id": "E-nzDjjgk6ev",
        "colab_type": "text"
      },
      "source": [
        "*   x1[1,0,0] + x2[0,1,0] + x3[0,0,1]\n",
        "*   q[1,0,0] = [4,-1,5], q[0,1,0] = [1,2,1], q[0,0,1] = [2,3,-2]\n",
        "*   T = [4,-1,5], [1,2,1], [2,3,-2]"
      ]
    },
    {
      "cell_type": "markdown",
      "metadata": {
        "id": "n5HUOQIxZ2gp",
        "colab_type": "text"
      },
      "source": [
        "## 4.2 Verify that your transformation matrices are correct by choosing an input matrix and calculating the result both via the traditional functions above and also via vector-matrix multiplication."
      ]
    },
    {
      "cell_type": "code",
      "metadata": {
        "id": "0UANR1IEaVWE",
        "colab_type": "code",
        "outputId": "81accc1e-4418-4571-cfef-8cbe61f891a6",
        "colab": {
          "base_uri": "https://localhost:8080/",
          "height": 53
        }
      },
      "source": [
        "vector = np.array([[2],[3]])\n",
        "pt = np.array([[1,-1],[3,2]])\n",
        "vmm = np.dot(pt, vector)\n",
        "vmm"
      ],
      "execution_count": 0,
      "outputs": [
        {
          "output_type": "execute_result",
          "data": {
            "text/plain": [
              "array([[-1],\n",
              "       [12]])"
            ]
          },
          "metadata": {
            "tags": []
          },
          "execution_count": 4
        }
      ]
    },
    {
      "cell_type": "code",
      "metadata": {
        "id": "GkwZ-ta0omfq",
        "colab_type": "code",
        "outputId": "c5fa9584-cb4d-479b-b70e-efc86b3eb3a6",
        "colab": {
          "base_uri": "https://localhost:8080/",
          "height": 71
        }
      },
      "source": [
        "vector2 = np.array([[1],[2],[3]])\n",
        "qt = np.array([[4, -1, 5], [1, 2, 1], [2, 3, -2]])\n",
        "vmm2 = np.dot(qt, vector2)\n",
        "vmm2"
      ],
      "execution_count": 0,
      "outputs": [
        {
          "output_type": "execute_result",
          "data": {
            "text/plain": [
              "array([[17],\n",
              "       [ 8],\n",
              "       [ 2]])"
            ]
          },
          "metadata": {
            "tags": []
          },
          "execution_count": 5
        }
      ]
    },
    {
      "cell_type": "markdown",
      "metadata": {
        "id": "vEoiri3mak7j",
        "colab_type": "text"
      },
      "source": [
        "# Eigenvalues and Eigenvectors"
      ]
    },
    {
      "cell_type": "markdown",
      "metadata": {
        "id": "5HY0R4u7anIr",
        "colab_type": "text"
      },
      "source": [
        "## 5.1 In your own words, give an explanation for the intuition behind eigenvalues and eigenvectors."
      ]
    },
    {
      "cell_type": "markdown",
      "metadata": {
        "id": "FO8fx8O6Qhht",
        "colab_type": "text"
      },
      "source": [
        "* An eigenvector does not get orientation after a transformation.\n",
        "* Eigenvalues are scalars that show how a eigenvector was scaled after a transformation."
      ]
    },
    {
      "cell_type": "markdown",
      "metadata": {
        "id": "VdehMwBtatKI",
        "colab_type": "text"
      },
      "source": [
        "# The Curse of Dimensionality"
      ]
    },
    {
      "cell_type": "markdown",
      "metadata": {
        "id": "4oVrJax-a3SK",
        "colab_type": "text"
      },
      "source": [
        "## 6.1 What are some of the challenges of working with high dimensional spaces?"
      ]
    },
    {
      "cell_type": "markdown",
      "metadata": {
        "id": "tlJC_Wt-Qjk3",
        "colab_type": "text"
      },
      "source": [
        "High dimensional spaces can be hard to read and diffucult for us to comprehend."
      ]
    },
    {
      "cell_type": "markdown",
      "metadata": {
        "id": "ZiBJxsZla88c",
        "colab_type": "text"
      },
      "source": [
        "## 6.2 What is the rule of thumb for how many observations you should have compared to parameters in your model?"
      ]
    },
    {
      "cell_type": "markdown",
      "metadata": {
        "id": "-pVevieLQkM9",
        "colab_type": "text"
      },
      "source": [
        "You should have about five times the number of observations as you have parameters."
      ]
    },
    {
      "cell_type": "markdown",
      "metadata": {
        "id": "NZmqdeygbHJx",
        "colab_type": "text"
      },
      "source": [
        "# Principal Component Analysis"
      ]
    },
    {
      "cell_type": "markdown",
      "metadata": {
        "id": "7iEheetpbJdN",
        "colab_type": "text"
      },
      "source": [
        "## 7.1 Code for loading and cleaning the 2013 national dataset from the [Housing Affordability Data System (HADS)](https://www.huduser.gov/portal/datasets/hads/hads.html) --housing data, can be found below. \n",
        "\n",
        "## Perform PCA on the processed dataset `national_processed` (Make sure you standardize your data!) and then make a scatterplot of PC1 against PC2. Some of our discussion and work around PCA with this dataset will continue during tomorrow's lecture and assignment.\n",
        "\n",
        "Not only does this dataset have decent amount columns to begin with (99), but in preparing the data for PCA we have also [one-hot-encoded](https://hackernoon.com/what-is-one-hot-encoding-why-and-when-do-you-have-to-use-it-e3c6186d008f#targetText=One%20hot%20encoding%20is%20a,the%20entry%20in%20the%20dataset.) all of the categorical variables. This has the effect of creating a new column for each individual category of each categorical variable. After processing this dataset has 64738 columns. --Das a lot of columns.\n",
        "\n",
        "Don't worry too much about the mechanics of one-hot encoding right now, you will learn and experiment with a whole bunch of categorical encoding approaches in unit 2. \n",
        "\n",
        "The code below will read in the dataset and perform the one-hot encoding of the categorical variables. Start adding your PCA code at the bottom of the provided code."
      ]
    },
    {
      "cell_type": "code",
      "metadata": {
        "id": "Us4nNFs02HlD",
        "colab_type": "code",
        "colab": {}
      },
      "source": [
        "import os.path\n",
        "from urllib.request import urlopen\n",
        "from zipfile import ZipFile\n",
        "from io import BytesIO\n",
        "import pandas as pd\n",
        "\n",
        "# Read National Data \n",
        "national_url = 'https://www.huduser.gov/portal/datasets/hads/hads2013n_ASCII.zip'\n",
        "national_file = 'thads2013n.txt'\n",
        "\n",
        "if os.path.exists(national_file):\n",
        "    national = pd.read_csv(national_file)\n",
        "else: \n",
        "    z_national = urlopen(national_url)\n",
        "    zip_national = ZipFile(BytesIO(z_national.read())).extract(national_file)\n",
        "    national = pd.read_csv(zip_national)"
      ],
      "execution_count": 0,
      "outputs": []
    },
    {
      "cell_type": "code",
      "metadata": {
        "id": "wy9AZVgZcHLZ",
        "colab_type": "code",
        "outputId": "9c6f60a9-c7af-4864-b8eb-27309bcbd78b",
        "colab": {
          "base_uri": "https://localhost:8080/",
          "height": 360
        }
      },
      "source": [
        "# Look at first 5 rows\n",
        "print(national.shape)\n",
        "national.head()"
      ],
      "execution_count": 0,
      "outputs": [
        {
          "output_type": "stream",
          "text": [
            "(64535, 99)\n"
          ],
          "name": "stdout"
        },
        {
          "output_type": "execute_result",
          "data": {
            "text/html": [
              "<div>\n",
              "<style scoped>\n",
              "    .dataframe tbody tr th:only-of-type {\n",
              "        vertical-align: middle;\n",
              "    }\n",
              "\n",
              "    .dataframe tbody tr th {\n",
              "        vertical-align: top;\n",
              "    }\n",
              "\n",
              "    .dataframe thead th {\n",
              "        text-align: right;\n",
              "    }\n",
              "</style>\n",
              "<table border=\"1\" class=\"dataframe\">\n",
              "  <thead>\n",
              "    <tr style=\"text-align: right;\">\n",
              "      <th></th>\n",
              "      <th>CONTROL</th>\n",
              "      <th>AGE1</th>\n",
              "      <th>METRO3</th>\n",
              "      <th>REGION</th>\n",
              "      <th>LMED</th>\n",
              "      <th>FMR</th>\n",
              "      <th>L30</th>\n",
              "      <th>L50</th>\n",
              "      <th>L80</th>\n",
              "      <th>IPOV</th>\n",
              "      <th>BEDRMS</th>\n",
              "      <th>BUILT</th>\n",
              "      <th>STATUS</th>\n",
              "      <th>TYPE</th>\n",
              "      <th>VALUE</th>\n",
              "      <th>VACANCY</th>\n",
              "      <th>TENURE</th>\n",
              "      <th>NUNITS</th>\n",
              "      <th>ROOMS</th>\n",
              "      <th>WEIGHT</th>\n",
              "      <th>PER</th>\n",
              "      <th>ZINC2</th>\n",
              "      <th>ZADEQ</th>\n",
              "      <th>ZSMHC</th>\n",
              "      <th>STRUCTURETYPE</th>\n",
              "      <th>OWNRENT</th>\n",
              "      <th>UTILITY</th>\n",
              "      <th>OTHERCOST</th>\n",
              "      <th>COST06</th>\n",
              "      <th>COST12</th>\n",
              "      <th>COST08</th>\n",
              "      <th>COSTMED</th>\n",
              "      <th>TOTSAL</th>\n",
              "      <th>ASSISTED</th>\n",
              "      <th>GLMED</th>\n",
              "      <th>GL30</th>\n",
              "      <th>GL50</th>\n",
              "      <th>GL80</th>\n",
              "      <th>APLMED</th>\n",
              "      <th>ABL30</th>\n",
              "      <th>...</th>\n",
              "      <th>COST08RELPOVCAT</th>\n",
              "      <th>COST08RELFMRPCT</th>\n",
              "      <th>COST08RELFMRCAT</th>\n",
              "      <th>COST12RELAMIPCT</th>\n",
              "      <th>COST12RELAMICAT</th>\n",
              "      <th>COST12RELPOVPCT</th>\n",
              "      <th>COST12RELPOVCAT</th>\n",
              "      <th>COST12RELFMRPCT</th>\n",
              "      <th>COST12RELFMRCAT</th>\n",
              "      <th>COSTMedRELAMIPCT</th>\n",
              "      <th>COSTMedRELAMICAT</th>\n",
              "      <th>COSTMedRELPOVPCT</th>\n",
              "      <th>COSTMedRELPOVCAT</th>\n",
              "      <th>COSTMedRELFMRPCT</th>\n",
              "      <th>COSTMedRELFMRCAT</th>\n",
              "      <th>FMTZADEQ</th>\n",
              "      <th>FMTMETRO3</th>\n",
              "      <th>FMTBUILT</th>\n",
              "      <th>FMTSTRUCTURETYPE</th>\n",
              "      <th>FMTBEDRMS</th>\n",
              "      <th>FMTOWNRENT</th>\n",
              "      <th>FMTCOST06RELPOVCAT</th>\n",
              "      <th>FMTCOST08RELPOVCAT</th>\n",
              "      <th>FMTCOST12RELPOVCAT</th>\n",
              "      <th>FMTCOSTMEDRELPOVCAT</th>\n",
              "      <th>FMTINCRELPOVCAT</th>\n",
              "      <th>FMTCOST06RELFMRCAT</th>\n",
              "      <th>FMTCOST08RELFMRCAT</th>\n",
              "      <th>FMTCOST12RELFMRCAT</th>\n",
              "      <th>FMTCOSTMEDRELFMRCAT</th>\n",
              "      <th>FMTINCRELFMRCAT</th>\n",
              "      <th>FMTCOST06RELAMICAT</th>\n",
              "      <th>FMTCOST08RELAMICAT</th>\n",
              "      <th>FMTCOST12RELAMICAT</th>\n",
              "      <th>FMTCOSTMEDRELAMICAT</th>\n",
              "      <th>FMTINCRELAMICAT</th>\n",
              "      <th>FMTASSISTED</th>\n",
              "      <th>FMTBURDEN</th>\n",
              "      <th>FMTREGION</th>\n",
              "      <th>FMTSTATUS</th>\n",
              "    </tr>\n",
              "  </thead>\n",
              "  <tbody>\n",
              "    <tr>\n",
              "      <th>0</th>\n",
              "      <td>'100003130103'</td>\n",
              "      <td>82</td>\n",
              "      <td>'3'</td>\n",
              "      <td>'1'</td>\n",
              "      <td>73738</td>\n",
              "      <td>956</td>\n",
              "      <td>15738</td>\n",
              "      <td>26213</td>\n",
              "      <td>40322</td>\n",
              "      <td>11067</td>\n",
              "      <td>2</td>\n",
              "      <td>2006</td>\n",
              "      <td>'1'</td>\n",
              "      <td>1</td>\n",
              "      <td>40000</td>\n",
              "      <td>-6</td>\n",
              "      <td>'1'</td>\n",
              "      <td>1</td>\n",
              "      <td>6</td>\n",
              "      <td>3117.394239</td>\n",
              "      <td>1</td>\n",
              "      <td>18021</td>\n",
              "      <td>'1'</td>\n",
              "      <td>533</td>\n",
              "      <td>1</td>\n",
              "      <td>'1'</td>\n",
              "      <td>169.000000</td>\n",
              "      <td>213.750000</td>\n",
              "      <td>648.588189</td>\n",
              "      <td>803.050535</td>\n",
              "      <td>696.905247</td>\n",
              "      <td>615.156712</td>\n",
              "      <td>0</td>\n",
              "      <td>-9</td>\n",
              "      <td>73738</td>\n",
              "      <td>15738</td>\n",
              "      <td>26213</td>\n",
              "      <td>40322</td>\n",
              "      <td>51616.6</td>\n",
              "      <td>20234.571429</td>\n",
              "      <td>...</td>\n",
              "      <td>4</td>\n",
              "      <td>72.898038</td>\n",
              "      <td>2</td>\n",
              "      <td>48.402635</td>\n",
              "      <td>2</td>\n",
              "      <td>290.250487</td>\n",
              "      <td>4</td>\n",
              "      <td>84.001102</td>\n",
              "      <td>2</td>\n",
              "      <td>37.077624</td>\n",
              "      <td>2</td>\n",
              "      <td>222.339102</td>\n",
              "      <td>4</td>\n",
              "      <td>64.346936</td>\n",
              "      <td>2</td>\n",
              "      <td>'1 Adequate'</td>\n",
              "      <td>'-5'</td>\n",
              "      <td>'2000-2009'</td>\n",
              "      <td>'1 Single Family'</td>\n",
              "      <td>'2 2BR'</td>\n",
              "      <td>'1 Owner'</td>\n",
              "      <td>'4 200%+ Poverty'</td>\n",
              "      <td>'4 200%+ Poverty'</td>\n",
              "      <td>'4 200%+ Poverty'</td>\n",
              "      <td>'4 200%+ Poverty'</td>\n",
              "      <td>'3 150-200% Poverty'</td>\n",
              "      <td>'2 50.1 - 100% FMR'</td>\n",
              "      <td>'2 50.1 - 100% FMR'</td>\n",
              "      <td>'2 50.1 - 100% FMR'</td>\n",
              "      <td>'2 50.1 - 100% FMR'</td>\n",
              "      <td>'1 LTE 50% FMR'</td>\n",
              "      <td>'2 30 - 50% AMI'</td>\n",
              "      <td>'2 30 - 50% AMI'</td>\n",
              "      <td>'2 30 - 50% AMI'</td>\n",
              "      <td>'2 30 - 50% AMI'</td>\n",
              "      <td>'2 30 - 50% AMI'</td>\n",
              "      <td>'.'</td>\n",
              "      <td>'2 30% to 50%'</td>\n",
              "      <td>'-5'</td>\n",
              "      <td>'-5'</td>\n",
              "    </tr>\n",
              "    <tr>\n",
              "      <th>1</th>\n",
              "      <td>'100006110249'</td>\n",
              "      <td>50</td>\n",
              "      <td>'5'</td>\n",
              "      <td>'3'</td>\n",
              "      <td>55846</td>\n",
              "      <td>1100</td>\n",
              "      <td>17165</td>\n",
              "      <td>28604</td>\n",
              "      <td>45744</td>\n",
              "      <td>24218</td>\n",
              "      <td>4</td>\n",
              "      <td>1980</td>\n",
              "      <td>'1'</td>\n",
              "      <td>1</td>\n",
              "      <td>130000</td>\n",
              "      <td>-6</td>\n",
              "      <td>'1'</td>\n",
              "      <td>1</td>\n",
              "      <td>6</td>\n",
              "      <td>2150.725544</td>\n",
              "      <td>4</td>\n",
              "      <td>122961</td>\n",
              "      <td>'1'</td>\n",
              "      <td>487</td>\n",
              "      <td>1</td>\n",
              "      <td>'1'</td>\n",
              "      <td>245.333333</td>\n",
              "      <td>58.333333</td>\n",
              "      <td>1167.640781</td>\n",
              "      <td>1669.643405</td>\n",
              "      <td>1324.671218</td>\n",
              "      <td>1058.988479</td>\n",
              "      <td>123000</td>\n",
              "      <td>-9</td>\n",
              "      <td>55846</td>\n",
              "      <td>17165</td>\n",
              "      <td>28604</td>\n",
              "      <td>45744</td>\n",
              "      <td>55846.0</td>\n",
              "      <td>19911.400000</td>\n",
              "      <td>...</td>\n",
              "      <td>4</td>\n",
              "      <td>120.424656</td>\n",
              "      <td>3</td>\n",
              "      <td>103.094063</td>\n",
              "      <td>6</td>\n",
              "      <td>275.768999</td>\n",
              "      <td>4</td>\n",
              "      <td>151.785764</td>\n",
              "      <td>3</td>\n",
              "      <td>65.388468</td>\n",
              "      <td>4</td>\n",
              "      <td>174.909320</td>\n",
              "      <td>3</td>\n",
              "      <td>96.271680</td>\n",
              "      <td>2</td>\n",
              "      <td>'1 Adequate'</td>\n",
              "      <td>'-5'</td>\n",
              "      <td>'1980-1989'</td>\n",
              "      <td>'1 Single Family'</td>\n",
              "      <td>'4 4BR+'</td>\n",
              "      <td>'1 Owner'</td>\n",
              "      <td>'3 150-200% Poverty'</td>\n",
              "      <td>'4 200%+ Poverty'</td>\n",
              "      <td>'4 200%+ Poverty'</td>\n",
              "      <td>'3 150-200% Poverty'</td>\n",
              "      <td>'4 200%+ Poverty'</td>\n",
              "      <td>'3 GT FMR'</td>\n",
              "      <td>'3 GT FMR'</td>\n",
              "      <td>'3 GT FMR'</td>\n",
              "      <td>'2 50.1 - 100% FMR'</td>\n",
              "      <td>'3 GT FMR'</td>\n",
              "      <td>'4 60 - 80% AMI'</td>\n",
              "      <td>'4 60 - 80% AMI'</td>\n",
              "      <td>'6 100 - 120% AMI'</td>\n",
              "      <td>'4 60 - 80% AMI'</td>\n",
              "      <td>'7 120% AMI +'</td>\n",
              "      <td>'.'</td>\n",
              "      <td>'1 Less than 30%'</td>\n",
              "      <td>'-5'</td>\n",
              "      <td>'-5'</td>\n",
              "    </tr>\n",
              "    <tr>\n",
              "      <th>2</th>\n",
              "      <td>'100006370140'</td>\n",
              "      <td>53</td>\n",
              "      <td>'5'</td>\n",
              "      <td>'3'</td>\n",
              "      <td>55846</td>\n",
              "      <td>1100</td>\n",
              "      <td>13750</td>\n",
              "      <td>22897</td>\n",
              "      <td>36614</td>\n",
              "      <td>15470</td>\n",
              "      <td>4</td>\n",
              "      <td>1985</td>\n",
              "      <td>'1'</td>\n",
              "      <td>1</td>\n",
              "      <td>150000</td>\n",
              "      <td>-6</td>\n",
              "      <td>'1'</td>\n",
              "      <td>1</td>\n",
              "      <td>7</td>\n",
              "      <td>2213.789404</td>\n",
              "      <td>2</td>\n",
              "      <td>27974</td>\n",
              "      <td>'1'</td>\n",
              "      <td>1405</td>\n",
              "      <td>1</td>\n",
              "      <td>'1'</td>\n",
              "      <td>159.000000</td>\n",
              "      <td>37.500000</td>\n",
              "      <td>1193.393209</td>\n",
              "      <td>1772.627006</td>\n",
              "      <td>1374.582175</td>\n",
              "      <td>1068.025168</td>\n",
              "      <td>28000</td>\n",
              "      <td>-9</td>\n",
              "      <td>55846</td>\n",
              "      <td>13750</td>\n",
              "      <td>22897</td>\n",
              "      <td>36614</td>\n",
              "      <td>44676.8</td>\n",
              "      <td>19937.500000</td>\n",
              "      <td>...</td>\n",
              "      <td>4</td>\n",
              "      <td>124.962016</td>\n",
              "      <td>3</td>\n",
              "      <td>109.452905</td>\n",
              "      <td>6</td>\n",
              "      <td>458.339239</td>\n",
              "      <td>4</td>\n",
              "      <td>161.147910</td>\n",
              "      <td>3</td>\n",
              "      <td>65.946449</td>\n",
              "      <td>4</td>\n",
              "      <td>276.153890</td>\n",
              "      <td>4</td>\n",
              "      <td>97.093197</td>\n",
              "      <td>2</td>\n",
              "      <td>'1 Adequate'</td>\n",
              "      <td>'-5'</td>\n",
              "      <td>'1980-1989'</td>\n",
              "      <td>'1 Single Family'</td>\n",
              "      <td>'4 4BR+'</td>\n",
              "      <td>'1 Owner'</td>\n",
              "      <td>'4 200%+ Poverty'</td>\n",
              "      <td>'4 200%+ Poverty'</td>\n",
              "      <td>'4 200%+ Poverty'</td>\n",
              "      <td>'4 200%+ Poverty'</td>\n",
              "      <td>'3 150-200% Poverty'</td>\n",
              "      <td>'3 GT FMR'</td>\n",
              "      <td>'3 GT FMR'</td>\n",
              "      <td>'3 GT FMR'</td>\n",
              "      <td>'2 50.1 - 100% FMR'</td>\n",
              "      <td>'2 50.1 - 100% FMR'</td>\n",
              "      <td>'4 60 - 80% AMI'</td>\n",
              "      <td>'5 80 - 100% AMI'</td>\n",
              "      <td>'6 100 - 120% AMI'</td>\n",
              "      <td>'4 60 - 80% AMI'</td>\n",
              "      <td>'4 60 - 80% AMI'</td>\n",
              "      <td>'.'</td>\n",
              "      <td>'3 50% or More'</td>\n",
              "      <td>'-5'</td>\n",
              "      <td>'-5'</td>\n",
              "    </tr>\n",
              "    <tr>\n",
              "      <th>3</th>\n",
              "      <td>'100006520140'</td>\n",
              "      <td>67</td>\n",
              "      <td>'5'</td>\n",
              "      <td>'3'</td>\n",
              "      <td>55846</td>\n",
              "      <td>949</td>\n",
              "      <td>13750</td>\n",
              "      <td>22897</td>\n",
              "      <td>36614</td>\n",
              "      <td>13964</td>\n",
              "      <td>3</td>\n",
              "      <td>1985</td>\n",
              "      <td>'1'</td>\n",
              "      <td>1</td>\n",
              "      <td>200000</td>\n",
              "      <td>-6</td>\n",
              "      <td>'1'</td>\n",
              "      <td>1</td>\n",
              "      <td>6</td>\n",
              "      <td>2364.585097</td>\n",
              "      <td>2</td>\n",
              "      <td>32220</td>\n",
              "      <td>'1'</td>\n",
              "      <td>279</td>\n",
              "      <td>1</td>\n",
              "      <td>'1'</td>\n",
              "      <td>179.000000</td>\n",
              "      <td>70.666667</td>\n",
              "      <td>1578.857612</td>\n",
              "      <td>2351.169341</td>\n",
              "      <td>1820.442900</td>\n",
              "      <td>1411.700224</td>\n",
              "      <td>0</td>\n",
              "      <td>-9</td>\n",
              "      <td>55846</td>\n",
              "      <td>13750</td>\n",
              "      <td>22897</td>\n",
              "      <td>36614</td>\n",
              "      <td>44676.8</td>\n",
              "      <td>17875.000000</td>\n",
              "      <td>...</td>\n",
              "      <td>4</td>\n",
              "      <td>191.827492</td>\n",
              "      <td>3</td>\n",
              "      <td>161.926709</td>\n",
              "      <td>7</td>\n",
              "      <td>673.494512</td>\n",
              "      <td>4</td>\n",
              "      <td>247.752301</td>\n",
              "      <td>3</td>\n",
              "      <td>97.224801</td>\n",
              "      <td>5</td>\n",
              "      <td>404.382763</td>\n",
              "      <td>4</td>\n",
              "      <td>148.756610</td>\n",
              "      <td>3</td>\n",
              "      <td>'1 Adequate'</td>\n",
              "      <td>'-5'</td>\n",
              "      <td>'1980-1989'</td>\n",
              "      <td>'1 Single Family'</td>\n",
              "      <td>'3 3BR'</td>\n",
              "      <td>'1 Owner'</td>\n",
              "      <td>'4 200%+ Poverty'</td>\n",
              "      <td>'4 200%+ Poverty'</td>\n",
              "      <td>'4 200%+ Poverty'</td>\n",
              "      <td>'4 200%+ Poverty'</td>\n",
              "      <td>'4 200%+ Poverty'</td>\n",
              "      <td>'3 GT FMR'</td>\n",
              "      <td>'3 GT FMR'</td>\n",
              "      <td>'3 GT FMR'</td>\n",
              "      <td>'3 GT FMR'</td>\n",
              "      <td>'2 50.1 - 100% FMR'</td>\n",
              "      <td>'6 100 - 120% AMI'</td>\n",
              "      <td>'7 120% AMI +'</td>\n",
              "      <td>'7 120% AMI +'</td>\n",
              "      <td>'5 80 - 100% AMI'</td>\n",
              "      <td>'4 60 - 80% AMI'</td>\n",
              "      <td>'.'</td>\n",
              "      <td>'1 Less than 30%'</td>\n",
              "      <td>'-5'</td>\n",
              "      <td>'-5'</td>\n",
              "    </tr>\n",
              "    <tr>\n",
              "      <th>4</th>\n",
              "      <td>'100007130148'</td>\n",
              "      <td>26</td>\n",
              "      <td>'1'</td>\n",
              "      <td>'3'</td>\n",
              "      <td>60991</td>\n",
              "      <td>737</td>\n",
              "      <td>14801</td>\n",
              "      <td>24628</td>\n",
              "      <td>39421</td>\n",
              "      <td>15492</td>\n",
              "      <td>2</td>\n",
              "      <td>1980</td>\n",
              "      <td>'1'</td>\n",
              "      <td>1</td>\n",
              "      <td>-6</td>\n",
              "      <td>-6</td>\n",
              "      <td>'2'</td>\n",
              "      <td>100</td>\n",
              "      <td>4</td>\n",
              "      <td>2314.524902</td>\n",
              "      <td>2</td>\n",
              "      <td>96874</td>\n",
              "      <td>'1'</td>\n",
              "      <td>759</td>\n",
              "      <td>5</td>\n",
              "      <td>'2'</td>\n",
              "      <td>146.000000</td>\n",
              "      <td>12.500000</td>\n",
              "      <td>759.000000</td>\n",
              "      <td>759.000000</td>\n",
              "      <td>759.000000</td>\n",
              "      <td>759.000000</td>\n",
              "      <td>96900</td>\n",
              "      <td>0</td>\n",
              "      <td>60991</td>\n",
              "      <td>14801</td>\n",
              "      <td>24628</td>\n",
              "      <td>39421</td>\n",
              "      <td>48792.8</td>\n",
              "      <td>16651.125000</td>\n",
              "      <td>...</td>\n",
              "      <td>3</td>\n",
              "      <td>102.985075</td>\n",
              "      <td>3</td>\n",
              "      <td>55.308707</td>\n",
              "      <td>3</td>\n",
              "      <td>195.972115</td>\n",
              "      <td>3</td>\n",
              "      <td>102.985075</td>\n",
              "      <td>3</td>\n",
              "      <td>55.308707</td>\n",
              "      <td>3</td>\n",
              "      <td>195.972115</td>\n",
              "      <td>3</td>\n",
              "      <td>102.985075</td>\n",
              "      <td>3</td>\n",
              "      <td>'1 Adequate'</td>\n",
              "      <td>'Central City'</td>\n",
              "      <td>'1980-1989'</td>\n",
              "      <td>'5 50+ units'</td>\n",
              "      <td>'2 2BR'</td>\n",
              "      <td>'2 Renter'</td>\n",
              "      <td>'3 150-200% Poverty'</td>\n",
              "      <td>'3 150-200% Poverty'</td>\n",
              "      <td>'3 150-200% Poverty'</td>\n",
              "      <td>'3 150-200% Poverty'</td>\n",
              "      <td>'4 200%+ Poverty'</td>\n",
              "      <td>'3 GT FMR'</td>\n",
              "      <td>'3 GT FMR'</td>\n",
              "      <td>'3 GT FMR'</td>\n",
              "      <td>'3 GT FMR'</td>\n",
              "      <td>'3 GT FMR'</td>\n",
              "      <td>'3 50 - 60% AMI'</td>\n",
              "      <td>'3 50 - 60% AMI'</td>\n",
              "      <td>'3 50 - 60% AMI'</td>\n",
              "      <td>'3 50 - 60% AMI'</td>\n",
              "      <td>'7 120% AMI +'</td>\n",
              "      <td>'0 Not Assisted'</td>\n",
              "      <td>'1 Less than 30%'</td>\n",
              "      <td>'-5'</td>\n",
              "      <td>'-5'</td>\n",
              "    </tr>\n",
              "  </tbody>\n",
              "</table>\n",
              "<p>5 rows × 99 columns</p>\n",
              "</div>"
            ],
            "text/plain": [
              "          CONTROL  AGE1 METRO3  ...          FMTBURDEN  FMTREGION  FMTSTATUS\n",
              "0  '100003130103'    82    '3'  ...     '2 30% to 50%'       '-5'       '-5'\n",
              "1  '100006110249'    50    '5'  ...  '1 Less than 30%'       '-5'       '-5'\n",
              "2  '100006370140'    53    '5'  ...    '3 50% or More'       '-5'       '-5'\n",
              "3  '100006520140'    67    '5'  ...  '1 Less than 30%'       '-5'       '-5'\n",
              "4  '100007130148'    26    '1'  ...  '1 Less than 30%'       '-5'       '-5'\n",
              "\n",
              "[5 rows x 99 columns]"
            ]
          },
          "metadata": {
            "tags": []
          },
          "execution_count": 7
        }
      ]
    },
    {
      "cell_type": "code",
      "metadata": {
        "id": "O5zrMTud2qFU",
        "colab_type": "code",
        "outputId": "09177586-cc05-41cd-9713-21fa8a294a10",
        "colab": {
          "base_uri": "https://localhost:8080/",
          "height": 1000
        }
      },
      "source": [
        "# Look at datatypes\n",
        "# a lot of object datatypes even though they look to be strings of numbers.\n",
        "national.dtypes"
      ],
      "execution_count": 0,
      "outputs": [
        {
          "output_type": "execute_result",
          "data": {
            "text/plain": [
              "CONTROL                 object\n",
              "AGE1                     int64\n",
              "METRO3                  object\n",
              "REGION                  object\n",
              "LMED                     int64\n",
              "FMR                      int64\n",
              "L30                      int64\n",
              "L50                      int64\n",
              "L80                      int64\n",
              "IPOV                     int64\n",
              "BEDRMS                   int64\n",
              "BUILT                    int64\n",
              "STATUS                  object\n",
              "TYPE                     int64\n",
              "VALUE                    int64\n",
              "VACANCY                  int64\n",
              "TENURE                  object\n",
              "NUNITS                   int64\n",
              "ROOMS                    int64\n",
              "WEIGHT                 float64\n",
              "PER                      int64\n",
              "ZINC2                    int64\n",
              "ZADEQ                   object\n",
              "ZSMHC                    int64\n",
              "STRUCTURETYPE            int64\n",
              "OWNRENT                 object\n",
              "UTILITY                float64\n",
              "OTHERCOST              float64\n",
              "COST06                 float64\n",
              "COST12                 float64\n",
              "                        ...   \n",
              "COSTMedRELAMICAT         int64\n",
              "COSTMedRELPOVPCT       float64\n",
              "COSTMedRELPOVCAT         int64\n",
              "COSTMedRELFMRPCT       float64\n",
              "COSTMedRELFMRCAT         int64\n",
              "FMTZADEQ                object\n",
              "FMTMETRO3               object\n",
              "FMTBUILT                object\n",
              "FMTSTRUCTURETYPE        object\n",
              "FMTBEDRMS               object\n",
              "FMTOWNRENT              object\n",
              "FMTCOST06RELPOVCAT      object\n",
              "FMTCOST08RELPOVCAT      object\n",
              "FMTCOST12RELPOVCAT      object\n",
              "FMTCOSTMEDRELPOVCAT     object\n",
              "FMTINCRELPOVCAT         object\n",
              "FMTCOST06RELFMRCAT      object\n",
              "FMTCOST08RELFMRCAT      object\n",
              "FMTCOST12RELFMRCAT      object\n",
              "FMTCOSTMEDRELFMRCAT     object\n",
              "FMTINCRELFMRCAT         object\n",
              "FMTCOST06RELAMICAT      object\n",
              "FMTCOST08RELAMICAT      object\n",
              "FMTCOST12RELAMICAT      object\n",
              "FMTCOSTMEDRELAMICAT     object\n",
              "FMTINCRELAMICAT         object\n",
              "FMTASSISTED             object\n",
              "FMTBURDEN               object\n",
              "FMTREGION               object\n",
              "FMTSTATUS               object\n",
              "Length: 99, dtype: object"
            ]
          },
          "metadata": {
            "tags": []
          },
          "execution_count": 8
        }
      ]
    },
    {
      "cell_type": "code",
      "metadata": {
        "id": "yIrOjVmd2yLz",
        "colab_type": "code",
        "outputId": "fdf6eb35-0af2-4d1e-cfbd-9158c4e3997d",
        "colab": {
          "base_uri": "https://localhost:8080/",
          "height": 35
        }
      },
      "source": [
        "# check for null values\n",
        "national.isnull().sum().any()"
      ],
      "execution_count": 0,
      "outputs": [
        {
          "output_type": "execute_result",
          "data": {
            "text/plain": [
              "False"
            ]
          },
          "metadata": {
            "tags": []
          },
          "execution_count": 9
        }
      ]
    },
    {
      "cell_type": "code",
      "metadata": {
        "id": "2u9tdmwX3KL_",
        "colab_type": "code",
        "outputId": "f5c45985-2f17-45ad-83b4-26f9e908687f",
        "colab": {
          "base_uri": "https://localhost:8080/",
          "height": 53
        }
      },
      "source": [
        "# check for number of categorical vs numeric columns\n",
        "cat_cols = national.columns[national.dtypes=='object']\n",
        "num_cols = national.columns[national.dtypes!='object']\n",
        "\n",
        "print(f'{len(cat_cols)} categorical columns')\n",
        "print(f'{len(num_cols)} numerical columns')"
      ],
      "execution_count": 0,
      "outputs": [
        {
          "output_type": "stream",
          "text": [
            "32 categorical columns\n",
            "67 numerical columns\n"
          ],
          "name": "stdout"
        }
      ]
    },
    {
      "cell_type": "code",
      "metadata": {
        "id": "UMHOtOs_3gcL",
        "colab_type": "code",
        "outputId": "fad55108-498a-44c2-cba8-450e0afb4e49",
        "colab": {
          "base_uri": "https://localhost:8080/",
          "height": 308
        }
      },
      "source": [
        "national_processed = national.copy()\n",
        "\n",
        "# Get One-Hot-Encoding of categorical variables\n",
        "national_processed = pd.get_dummies(national_processed)\n",
        "print(national_processed.shape)\n",
        "national_processed.head()"
      ],
      "execution_count": 0,
      "outputs": [
        {
          "output_type": "stream",
          "text": [
            "(64535, 64738)\n"
          ],
          "name": "stdout"
        },
        {
          "output_type": "execute_result",
          "data": {
            "text/html": [
              "<div>\n",
              "<style scoped>\n",
              "    .dataframe tbody tr th:only-of-type {\n",
              "        vertical-align: middle;\n",
              "    }\n",
              "\n",
              "    .dataframe tbody tr th {\n",
              "        vertical-align: top;\n",
              "    }\n",
              "\n",
              "    .dataframe thead th {\n",
              "        text-align: right;\n",
              "    }\n",
              "</style>\n",
              "<table border=\"1\" class=\"dataframe\">\n",
              "  <thead>\n",
              "    <tr style=\"text-align: right;\">\n",
              "      <th></th>\n",
              "      <th>AGE1</th>\n",
              "      <th>LMED</th>\n",
              "      <th>FMR</th>\n",
              "      <th>L30</th>\n",
              "      <th>L50</th>\n",
              "      <th>L80</th>\n",
              "      <th>IPOV</th>\n",
              "      <th>BEDRMS</th>\n",
              "      <th>BUILT</th>\n",
              "      <th>TYPE</th>\n",
              "      <th>VALUE</th>\n",
              "      <th>VACANCY</th>\n",
              "      <th>NUNITS</th>\n",
              "      <th>ROOMS</th>\n",
              "      <th>WEIGHT</th>\n",
              "      <th>PER</th>\n",
              "      <th>ZINC2</th>\n",
              "      <th>ZSMHC</th>\n",
              "      <th>STRUCTURETYPE</th>\n",
              "      <th>UTILITY</th>\n",
              "      <th>OTHERCOST</th>\n",
              "      <th>COST06</th>\n",
              "      <th>COST12</th>\n",
              "      <th>COST08</th>\n",
              "      <th>COSTMED</th>\n",
              "      <th>TOTSAL</th>\n",
              "      <th>ASSISTED</th>\n",
              "      <th>GLMED</th>\n",
              "      <th>GL30</th>\n",
              "      <th>GL50</th>\n",
              "      <th>GL80</th>\n",
              "      <th>APLMED</th>\n",
              "      <th>ABL30</th>\n",
              "      <th>ABL50</th>\n",
              "      <th>ABL80</th>\n",
              "      <th>ABLMED</th>\n",
              "      <th>BURDEN</th>\n",
              "      <th>INCRELAMIPCT</th>\n",
              "      <th>INCRELAMICAT</th>\n",
              "      <th>INCRELPOVPCT</th>\n",
              "      <th>...</th>\n",
              "      <th>FMTCOST08RELAMICAT_'1 LTE 30% AMI'</th>\n",
              "      <th>FMTCOST08RELAMICAT_'2 30 - 50% AMI'</th>\n",
              "      <th>FMTCOST08RELAMICAT_'3 50 - 60% AMI'</th>\n",
              "      <th>FMTCOST08RELAMICAT_'4 60 - 80% AMI'</th>\n",
              "      <th>FMTCOST08RELAMICAT_'5 80 - 100% AMI'</th>\n",
              "      <th>FMTCOST08RELAMICAT_'6 100 - 120% AMI'</th>\n",
              "      <th>FMTCOST08RELAMICAT_'7 120% AMI +'</th>\n",
              "      <th>FMTCOST12RELAMICAT_'1 LTE 30% AMI'</th>\n",
              "      <th>FMTCOST12RELAMICAT_'2 30 - 50% AMI'</th>\n",
              "      <th>FMTCOST12RELAMICAT_'3 50 - 60% AMI'</th>\n",
              "      <th>FMTCOST12RELAMICAT_'4 60 - 80% AMI'</th>\n",
              "      <th>FMTCOST12RELAMICAT_'5 80 - 100% AMI'</th>\n",
              "      <th>FMTCOST12RELAMICAT_'6 100 - 120% AMI'</th>\n",
              "      <th>FMTCOST12RELAMICAT_'7 120% AMI +'</th>\n",
              "      <th>FMTCOSTMEDRELAMICAT_'1 LTE 30% AMI'</th>\n",
              "      <th>FMTCOSTMEDRELAMICAT_'2 30 - 50% AMI'</th>\n",
              "      <th>FMTCOSTMEDRELAMICAT_'3 50 - 60% AMI'</th>\n",
              "      <th>FMTCOSTMEDRELAMICAT_'4 60 - 80% AMI'</th>\n",
              "      <th>FMTCOSTMEDRELAMICAT_'5 80 - 100% AMI'</th>\n",
              "      <th>FMTCOSTMEDRELAMICAT_'6 100 - 120% AMI'</th>\n",
              "      <th>FMTCOSTMEDRELAMICAT_'7 120% AMI +'</th>\n",
              "      <th>FMTINCRELAMICAT_'.'</th>\n",
              "      <th>FMTINCRELAMICAT_'1 LTE 30% AMI'</th>\n",
              "      <th>FMTINCRELAMICAT_'2 30 - 50% AMI'</th>\n",
              "      <th>FMTINCRELAMICAT_'3 50 - 60% AMI'</th>\n",
              "      <th>FMTINCRELAMICAT_'4 60 - 80% AMI'</th>\n",
              "      <th>FMTINCRELAMICAT_'5 80 - 100% AMI'</th>\n",
              "      <th>FMTINCRELAMICAT_'6 100 - 120% AMI'</th>\n",
              "      <th>FMTINCRELAMICAT_'7 120% AMI +'</th>\n",
              "      <th>FMTASSISTED_'.'</th>\n",
              "      <th>FMTASSISTED_'0 Not Assisted'</th>\n",
              "      <th>FMTASSISTED_'1 Assisted'</th>\n",
              "      <th>FMTBURDEN_'.'</th>\n",
              "      <th>FMTBURDEN_'1 Less than 30%'</th>\n",
              "      <th>FMTBURDEN_'2 30% to 50%'</th>\n",
              "      <th>FMTBURDEN_'3 50% or More'</th>\n",
              "      <th>FMTBURDEN_'4 No Income'</th>\n",
              "      <th>FMTREGION_'-5'</th>\n",
              "      <th>FMTREGION_'West'</th>\n",
              "      <th>FMTSTATUS_'-5'</th>\n",
              "    </tr>\n",
              "  </thead>\n",
              "  <tbody>\n",
              "    <tr>\n",
              "      <th>0</th>\n",
              "      <td>82</td>\n",
              "      <td>73738</td>\n",
              "      <td>956</td>\n",
              "      <td>15738</td>\n",
              "      <td>26213</td>\n",
              "      <td>40322</td>\n",
              "      <td>11067</td>\n",
              "      <td>2</td>\n",
              "      <td>2006</td>\n",
              "      <td>1</td>\n",
              "      <td>40000</td>\n",
              "      <td>-6</td>\n",
              "      <td>1</td>\n",
              "      <td>6</td>\n",
              "      <td>3117.394239</td>\n",
              "      <td>1</td>\n",
              "      <td>18021</td>\n",
              "      <td>533</td>\n",
              "      <td>1</td>\n",
              "      <td>169.000000</td>\n",
              "      <td>213.750000</td>\n",
              "      <td>648.588189</td>\n",
              "      <td>803.050535</td>\n",
              "      <td>696.905247</td>\n",
              "      <td>615.156712</td>\n",
              "      <td>0</td>\n",
              "      <td>-9</td>\n",
              "      <td>73738</td>\n",
              "      <td>15738</td>\n",
              "      <td>26213</td>\n",
              "      <td>40322</td>\n",
              "      <td>51616.6</td>\n",
              "      <td>20234.571429</td>\n",
              "      <td>33702.428571</td>\n",
              "      <td>51842.571429</td>\n",
              "      <td>66364.20</td>\n",
              "      <td>0.354919</td>\n",
              "      <td>34.913187</td>\n",
              "      <td>2</td>\n",
              "      <td>162.835457</td>\n",
              "      <td>...</td>\n",
              "      <td>0</td>\n",
              "      <td>1</td>\n",
              "      <td>0</td>\n",
              "      <td>0</td>\n",
              "      <td>0</td>\n",
              "      <td>0</td>\n",
              "      <td>0</td>\n",
              "      <td>0</td>\n",
              "      <td>1</td>\n",
              "      <td>0</td>\n",
              "      <td>0</td>\n",
              "      <td>0</td>\n",
              "      <td>0</td>\n",
              "      <td>0</td>\n",
              "      <td>0</td>\n",
              "      <td>1</td>\n",
              "      <td>0</td>\n",
              "      <td>0</td>\n",
              "      <td>0</td>\n",
              "      <td>0</td>\n",
              "      <td>0</td>\n",
              "      <td>0</td>\n",
              "      <td>0</td>\n",
              "      <td>1</td>\n",
              "      <td>0</td>\n",
              "      <td>0</td>\n",
              "      <td>0</td>\n",
              "      <td>0</td>\n",
              "      <td>0</td>\n",
              "      <td>1</td>\n",
              "      <td>0</td>\n",
              "      <td>0</td>\n",
              "      <td>0</td>\n",
              "      <td>0</td>\n",
              "      <td>1</td>\n",
              "      <td>0</td>\n",
              "      <td>0</td>\n",
              "      <td>1</td>\n",
              "      <td>0</td>\n",
              "      <td>1</td>\n",
              "    </tr>\n",
              "    <tr>\n",
              "      <th>1</th>\n",
              "      <td>50</td>\n",
              "      <td>55846</td>\n",
              "      <td>1100</td>\n",
              "      <td>17165</td>\n",
              "      <td>28604</td>\n",
              "      <td>45744</td>\n",
              "      <td>24218</td>\n",
              "      <td>4</td>\n",
              "      <td>1980</td>\n",
              "      <td>1</td>\n",
              "      <td>130000</td>\n",
              "      <td>-6</td>\n",
              "      <td>1</td>\n",
              "      <td>6</td>\n",
              "      <td>2150.725544</td>\n",
              "      <td>4</td>\n",
              "      <td>122961</td>\n",
              "      <td>487</td>\n",
              "      <td>1</td>\n",
              "      <td>245.333333</td>\n",
              "      <td>58.333333</td>\n",
              "      <td>1167.640781</td>\n",
              "      <td>1669.643405</td>\n",
              "      <td>1324.671218</td>\n",
              "      <td>1058.988479</td>\n",
              "      <td>123000</td>\n",
              "      <td>-9</td>\n",
              "      <td>55846</td>\n",
              "      <td>17165</td>\n",
              "      <td>28604</td>\n",
              "      <td>45744</td>\n",
              "      <td>55846.0</td>\n",
              "      <td>19911.400000</td>\n",
              "      <td>33180.640000</td>\n",
              "      <td>53063.040000</td>\n",
              "      <td>64781.36</td>\n",
              "      <td>0.047527</td>\n",
              "      <td>220.178706</td>\n",
              "      <td>7</td>\n",
              "      <td>507.725659</td>\n",
              "      <td>...</td>\n",
              "      <td>0</td>\n",
              "      <td>0</td>\n",
              "      <td>0</td>\n",
              "      <td>1</td>\n",
              "      <td>0</td>\n",
              "      <td>0</td>\n",
              "      <td>0</td>\n",
              "      <td>0</td>\n",
              "      <td>0</td>\n",
              "      <td>0</td>\n",
              "      <td>0</td>\n",
              "      <td>0</td>\n",
              "      <td>1</td>\n",
              "      <td>0</td>\n",
              "      <td>0</td>\n",
              "      <td>0</td>\n",
              "      <td>0</td>\n",
              "      <td>1</td>\n",
              "      <td>0</td>\n",
              "      <td>0</td>\n",
              "      <td>0</td>\n",
              "      <td>0</td>\n",
              "      <td>0</td>\n",
              "      <td>0</td>\n",
              "      <td>0</td>\n",
              "      <td>0</td>\n",
              "      <td>0</td>\n",
              "      <td>0</td>\n",
              "      <td>1</td>\n",
              "      <td>1</td>\n",
              "      <td>0</td>\n",
              "      <td>0</td>\n",
              "      <td>0</td>\n",
              "      <td>1</td>\n",
              "      <td>0</td>\n",
              "      <td>0</td>\n",
              "      <td>0</td>\n",
              "      <td>1</td>\n",
              "      <td>0</td>\n",
              "      <td>1</td>\n",
              "    </tr>\n",
              "    <tr>\n",
              "      <th>2</th>\n",
              "      <td>53</td>\n",
              "      <td>55846</td>\n",
              "      <td>1100</td>\n",
              "      <td>13750</td>\n",
              "      <td>22897</td>\n",
              "      <td>36614</td>\n",
              "      <td>15470</td>\n",
              "      <td>4</td>\n",
              "      <td>1985</td>\n",
              "      <td>1</td>\n",
              "      <td>150000</td>\n",
              "      <td>-6</td>\n",
              "      <td>1</td>\n",
              "      <td>7</td>\n",
              "      <td>2213.789404</td>\n",
              "      <td>2</td>\n",
              "      <td>27974</td>\n",
              "      <td>1405</td>\n",
              "      <td>1</td>\n",
              "      <td>159.000000</td>\n",
              "      <td>37.500000</td>\n",
              "      <td>1193.393209</td>\n",
              "      <td>1772.627006</td>\n",
              "      <td>1374.582175</td>\n",
              "      <td>1068.025168</td>\n",
              "      <td>28000</td>\n",
              "      <td>-9</td>\n",
              "      <td>55846</td>\n",
              "      <td>13750</td>\n",
              "      <td>22897</td>\n",
              "      <td>36614</td>\n",
              "      <td>44676.8</td>\n",
              "      <td>19937.500000</td>\n",
              "      <td>33200.650000</td>\n",
              "      <td>53090.300000</td>\n",
              "      <td>64781.36</td>\n",
              "      <td>0.602703</td>\n",
              "      <td>62.614153</td>\n",
              "      <td>4</td>\n",
              "      <td>180.827408</td>\n",
              "      <td>...</td>\n",
              "      <td>0</td>\n",
              "      <td>0</td>\n",
              "      <td>0</td>\n",
              "      <td>0</td>\n",
              "      <td>1</td>\n",
              "      <td>0</td>\n",
              "      <td>0</td>\n",
              "      <td>0</td>\n",
              "      <td>0</td>\n",
              "      <td>0</td>\n",
              "      <td>0</td>\n",
              "      <td>0</td>\n",
              "      <td>1</td>\n",
              "      <td>0</td>\n",
              "      <td>0</td>\n",
              "      <td>0</td>\n",
              "      <td>0</td>\n",
              "      <td>1</td>\n",
              "      <td>0</td>\n",
              "      <td>0</td>\n",
              "      <td>0</td>\n",
              "      <td>0</td>\n",
              "      <td>0</td>\n",
              "      <td>0</td>\n",
              "      <td>0</td>\n",
              "      <td>1</td>\n",
              "      <td>0</td>\n",
              "      <td>0</td>\n",
              "      <td>0</td>\n",
              "      <td>1</td>\n",
              "      <td>0</td>\n",
              "      <td>0</td>\n",
              "      <td>0</td>\n",
              "      <td>0</td>\n",
              "      <td>0</td>\n",
              "      <td>1</td>\n",
              "      <td>0</td>\n",
              "      <td>1</td>\n",
              "      <td>0</td>\n",
              "      <td>1</td>\n",
              "    </tr>\n",
              "    <tr>\n",
              "      <th>3</th>\n",
              "      <td>67</td>\n",
              "      <td>55846</td>\n",
              "      <td>949</td>\n",
              "      <td>13750</td>\n",
              "      <td>22897</td>\n",
              "      <td>36614</td>\n",
              "      <td>13964</td>\n",
              "      <td>3</td>\n",
              "      <td>1985</td>\n",
              "      <td>1</td>\n",
              "      <td>200000</td>\n",
              "      <td>-6</td>\n",
              "      <td>1</td>\n",
              "      <td>6</td>\n",
              "      <td>2364.585097</td>\n",
              "      <td>2</td>\n",
              "      <td>32220</td>\n",
              "      <td>279</td>\n",
              "      <td>1</td>\n",
              "      <td>179.000000</td>\n",
              "      <td>70.666667</td>\n",
              "      <td>1578.857612</td>\n",
              "      <td>2351.169341</td>\n",
              "      <td>1820.442900</td>\n",
              "      <td>1411.700224</td>\n",
              "      <td>0</td>\n",
              "      <td>-9</td>\n",
              "      <td>55846</td>\n",
              "      <td>13750</td>\n",
              "      <td>22897</td>\n",
              "      <td>36614</td>\n",
              "      <td>44676.8</td>\n",
              "      <td>17875.000000</td>\n",
              "      <td>29766.100000</td>\n",
              "      <td>47598.200000</td>\n",
              "      <td>58079.84</td>\n",
              "      <td>0.103911</td>\n",
              "      <td>72.117967</td>\n",
              "      <td>4</td>\n",
              "      <td>230.736179</td>\n",
              "      <td>...</td>\n",
              "      <td>0</td>\n",
              "      <td>0</td>\n",
              "      <td>0</td>\n",
              "      <td>0</td>\n",
              "      <td>0</td>\n",
              "      <td>0</td>\n",
              "      <td>1</td>\n",
              "      <td>0</td>\n",
              "      <td>0</td>\n",
              "      <td>0</td>\n",
              "      <td>0</td>\n",
              "      <td>0</td>\n",
              "      <td>0</td>\n",
              "      <td>1</td>\n",
              "      <td>0</td>\n",
              "      <td>0</td>\n",
              "      <td>0</td>\n",
              "      <td>0</td>\n",
              "      <td>1</td>\n",
              "      <td>0</td>\n",
              "      <td>0</td>\n",
              "      <td>0</td>\n",
              "      <td>0</td>\n",
              "      <td>0</td>\n",
              "      <td>0</td>\n",
              "      <td>1</td>\n",
              "      <td>0</td>\n",
              "      <td>0</td>\n",
              "      <td>0</td>\n",
              "      <td>1</td>\n",
              "      <td>0</td>\n",
              "      <td>0</td>\n",
              "      <td>0</td>\n",
              "      <td>1</td>\n",
              "      <td>0</td>\n",
              "      <td>0</td>\n",
              "      <td>0</td>\n",
              "      <td>1</td>\n",
              "      <td>0</td>\n",
              "      <td>1</td>\n",
              "    </tr>\n",
              "    <tr>\n",
              "      <th>4</th>\n",
              "      <td>26</td>\n",
              "      <td>60991</td>\n",
              "      <td>737</td>\n",
              "      <td>14801</td>\n",
              "      <td>24628</td>\n",
              "      <td>39421</td>\n",
              "      <td>15492</td>\n",
              "      <td>2</td>\n",
              "      <td>1980</td>\n",
              "      <td>1</td>\n",
              "      <td>-6</td>\n",
              "      <td>-6</td>\n",
              "      <td>100</td>\n",
              "      <td>4</td>\n",
              "      <td>2314.524902</td>\n",
              "      <td>2</td>\n",
              "      <td>96874</td>\n",
              "      <td>759</td>\n",
              "      <td>5</td>\n",
              "      <td>146.000000</td>\n",
              "      <td>12.500000</td>\n",
              "      <td>759.000000</td>\n",
              "      <td>759.000000</td>\n",
              "      <td>759.000000</td>\n",
              "      <td>759.000000</td>\n",
              "      <td>96900</td>\n",
              "      <td>0</td>\n",
              "      <td>60991</td>\n",
              "      <td>14801</td>\n",
              "      <td>24628</td>\n",
              "      <td>39421</td>\n",
              "      <td>48792.8</td>\n",
              "      <td>16651.125000</td>\n",
              "      <td>27706.500000</td>\n",
              "      <td>44348.625000</td>\n",
              "      <td>54891.90</td>\n",
              "      <td>0.094019</td>\n",
              "      <td>198.541588</td>\n",
              "      <td>7</td>\n",
              "      <td>625.316292</td>\n",
              "      <td>...</td>\n",
              "      <td>0</td>\n",
              "      <td>0</td>\n",
              "      <td>1</td>\n",
              "      <td>0</td>\n",
              "      <td>0</td>\n",
              "      <td>0</td>\n",
              "      <td>0</td>\n",
              "      <td>0</td>\n",
              "      <td>0</td>\n",
              "      <td>1</td>\n",
              "      <td>0</td>\n",
              "      <td>0</td>\n",
              "      <td>0</td>\n",
              "      <td>0</td>\n",
              "      <td>0</td>\n",
              "      <td>0</td>\n",
              "      <td>1</td>\n",
              "      <td>0</td>\n",
              "      <td>0</td>\n",
              "      <td>0</td>\n",
              "      <td>0</td>\n",
              "      <td>0</td>\n",
              "      <td>0</td>\n",
              "      <td>0</td>\n",
              "      <td>0</td>\n",
              "      <td>0</td>\n",
              "      <td>0</td>\n",
              "      <td>0</td>\n",
              "      <td>1</td>\n",
              "      <td>0</td>\n",
              "      <td>1</td>\n",
              "      <td>0</td>\n",
              "      <td>0</td>\n",
              "      <td>1</td>\n",
              "      <td>0</td>\n",
              "      <td>0</td>\n",
              "      <td>0</td>\n",
              "      <td>1</td>\n",
              "      <td>0</td>\n",
              "      <td>1</td>\n",
              "    </tr>\n",
              "  </tbody>\n",
              "</table>\n",
              "<p>5 rows × 64738 columns</p>\n",
              "</div>"
            ],
            "text/plain": [
              "   AGE1   LMED   FMR  ...  FMTREGION_'-5'  FMTREGION_'West'  FMTSTATUS_'-5'\n",
              "0    82  73738   956  ...               1                 0               1\n",
              "1    50  55846  1100  ...               1                 0               1\n",
              "2    53  55846  1100  ...               1                 0               1\n",
              "3    67  55846   949  ...               1                 0               1\n",
              "4    26  60991   737  ...               1                 0               1\n",
              "\n",
              "[5 rows x 64738 columns]"
            ]
          },
          "metadata": {
            "tags": []
          },
          "execution_count": 11
        }
      ]
    },
    {
      "cell_type": "code",
      "metadata": {
        "id": "WAJ8bjVcEwhA",
        "colab_type": "code",
        "outputId": "40b98946-4a51-4e6a-d074-fa1c4786bdd9",
        "colab": {
          "base_uri": "https://localhost:8080/",
          "height": 206
        }
      },
      "source": [
        "### Your Code Here\n",
        "x = national_processed[['AGE1', 'FMR']].copy()\n",
        "x.head()"
      ],
      "execution_count": 0,
      "outputs": [
        {
          "output_type": "execute_result",
          "data": {
            "text/html": [
              "<div>\n",
              "<style scoped>\n",
              "    .dataframe tbody tr th:only-of-type {\n",
              "        vertical-align: middle;\n",
              "    }\n",
              "\n",
              "    .dataframe tbody tr th {\n",
              "        vertical-align: top;\n",
              "    }\n",
              "\n",
              "    .dataframe thead th {\n",
              "        text-align: right;\n",
              "    }\n",
              "</style>\n",
              "<table border=\"1\" class=\"dataframe\">\n",
              "  <thead>\n",
              "    <tr style=\"text-align: right;\">\n",
              "      <th></th>\n",
              "      <th>AGE1</th>\n",
              "      <th>FMR</th>\n",
              "    </tr>\n",
              "  </thead>\n",
              "  <tbody>\n",
              "    <tr>\n",
              "      <th>0</th>\n",
              "      <td>82</td>\n",
              "      <td>956</td>\n",
              "    </tr>\n",
              "    <tr>\n",
              "      <th>1</th>\n",
              "      <td>50</td>\n",
              "      <td>1100</td>\n",
              "    </tr>\n",
              "    <tr>\n",
              "      <th>2</th>\n",
              "      <td>53</td>\n",
              "      <td>1100</td>\n",
              "    </tr>\n",
              "    <tr>\n",
              "      <th>3</th>\n",
              "      <td>67</td>\n",
              "      <td>949</td>\n",
              "    </tr>\n",
              "    <tr>\n",
              "      <th>4</th>\n",
              "      <td>26</td>\n",
              "      <td>737</td>\n",
              "    </tr>\n",
              "  </tbody>\n",
              "</table>\n",
              "</div>"
            ],
            "text/plain": [
              "   AGE1   FMR\n",
              "0    82   956\n",
              "1    50  1100\n",
              "2    53  1100\n",
              "3    67   949\n",
              "4    26   737"
            ]
          },
          "metadata": {
            "tags": []
          },
          "execution_count": 12
        }
      ]
    },
    {
      "cell_type": "code",
      "metadata": {
        "id": "dtKvqVk2w26Z",
        "colab_type": "code",
        "outputId": "83314033-3f13-4462-cde5-0e85bcb41538",
        "colab": {
          "base_uri": "https://localhost:8080/",
          "height": 71
        }
      },
      "source": [
        "mean = x.mean()\n",
        "mean"
      ],
      "execution_count": 0,
      "outputs": [
        {
          "output_type": "execute_result",
          "data": {
            "text/plain": [
              "AGE1      47.968932\n",
              "FMR     1164.395181\n",
              "dtype: float64"
            ]
          },
          "metadata": {
            "tags": []
          },
          "execution_count": 13
        }
      ]
    },
    {
      "cell_type": "code",
      "metadata": {
        "id": "8xxGJWXVNFBo",
        "colab_type": "code",
        "outputId": "052e2286-402e-41c0-f539-0633d2f58f80",
        "colab": {
          "base_uri": "https://localhost:8080/",
          "height": 35
        }
      },
      "source": [
        "centered = x - mean\n",
        "centered['AGE1'].mean(), centered['FMR'].mean()"
      ],
      "execution_count": 0,
      "outputs": [
        {
          "output_type": "execute_result",
          "data": {
            "text/plain": [
              "(5.79398137725147e-14, 6.856714168580009e-12)"
            ]
          },
          "metadata": {
            "tags": []
          },
          "execution_count": 14
        }
      ]
    },
    {
      "cell_type": "code",
      "metadata": {
        "id": "fYdqDLJUNjf9",
        "colab_type": "code",
        "outputId": "49a1e9e7-681c-4e92-83e3-29ba1183fe8b",
        "colab": {
          "base_uri": "https://localhost:8080/",
          "height": 35
        }
      },
      "source": [
        "centered['AGE1'].std(), centered['FMR'].std()"
      ],
      "execution_count": 0,
      "outputs": [
        {
          "output_type": "execute_result",
          "data": {
            "text/plain": [
              "(22.869373727428805, 394.11918834152436)"
            ]
          },
          "metadata": {
            "tags": []
          },
          "execution_count": 15
        }
      ]
    },
    {
      "cell_type": "code",
      "metadata": {
        "id": "MoTMV6syNsgQ",
        "colab_type": "code",
        "outputId": "0f754f77-0a16-4e0c-ecbf-c8bfff3a7f85",
        "colab": {
          "base_uri": "https://localhost:8080/",
          "height": 106
        }
      },
      "source": [
        "standard = centered / centered.std(ddof = 0)\n",
        "standard.mean(), standard.std()"
      ],
      "execution_count": 0,
      "outputs": [
        {
          "output_type": "execute_result",
          "data": {
            "text/plain": [
              "(AGE1    7.035375e-16\n",
              " FMR     1.357422e-15\n",
              " dtype: float64, AGE1    1.000008\n",
              " FMR     1.000008\n",
              " dtype: float64)"
            ]
          },
          "metadata": {
            "tags": []
          },
          "execution_count": 16
        }
      ]
    },
    {
      "cell_type": "code",
      "metadata": {
        "id": "E0HXiCl4OEGf",
        "colab_type": "code",
        "outputId": "d7e524a5-fef5-4194-f97c-c5ea3c4a3f3b",
        "colab": {
          "base_uri": "https://localhost:8080/",
          "height": 53
        }
      },
      "source": [
        "covariance = np.cov(standard.T)\n",
        "covariance"
      ],
      "execution_count": 0,
      "outputs": [
        {
          "output_type": "execute_result",
          "data": {
            "text/plain": [
              "array([[1.0000155, 0.0687571],\n",
              "       [0.0687571, 1.0000155]])"
            ]
          },
          "metadata": {
            "tags": []
          },
          "execution_count": 17
        }
      ]
    },
    {
      "cell_type": "code",
      "metadata": {
        "id": "o52QJQYPON4e",
        "colab_type": "code",
        "outputId": "34f27801-d24b-42ee-c09c-f7ec0ea59696",
        "colab": {
          "base_uri": "https://localhost:8080/",
          "height": 53
        }
      },
      "source": [
        "values, vectors = np.linalg.eig(covariance)\n",
        "values, vectors"
      ],
      "execution_count": 0,
      "outputs": [
        {
          "output_type": "execute_result",
          "data": {
            "text/plain": [
              "(array([1.06877259, 0.9312584 ]), array([[ 0.70710678, -0.70710678],\n",
              "        [ 0.70710678,  0.70710678]]))"
            ]
          },
          "metadata": {
            "tags": []
          },
          "execution_count": 18
        }
      ]
    },
    {
      "cell_type": "code",
      "metadata": {
        "id": "vhe-WcWMOamy",
        "colab_type": "code",
        "outputId": "8c2c1ece-6ab1-4ba3-b796-40dfb634ef7b",
        "colab": {
          "base_uri": "https://localhost:8080/",
          "height": 35
        }
      },
      "source": [
        "np.dot(vectors[0], vectors[1])"
      ],
      "execution_count": 0,
      "outputs": [
        {
          "output_type": "execute_result",
          "data": {
            "text/plain": [
              "0.0"
            ]
          },
          "metadata": {
            "tags": []
          },
          "execution_count": 19
        }
      ]
    },
    {
      "cell_type": "code",
      "metadata": {
        "id": "oBw4YbNmOhWy",
        "colab_type": "code",
        "outputId": "b006d576-2454-473f-9485-c47805561eb3",
        "colab": {
          "base_uri": "https://localhost:8080/",
          "height": 35
        }
      },
      "source": [
        "p = vectors.T.dot(standard.T)\n",
        "p.shape"
      ],
      "execution_count": 0,
      "outputs": [
        {
          "output_type": "execute_result",
          "data": {
            "text/plain": [
              "(2, 64535)"
            ]
          },
          "metadata": {
            "tags": []
          },
          "execution_count": 20
        }
      ]
    },
    {
      "cell_type": "code",
      "metadata": {
        "id": "mXOwOWOsOqHY",
        "colab_type": "code",
        "outputId": "be636072-aa39-4f00-eea8-217cb01b3492",
        "colab": {
          "base_uri": "https://localhost:8080/",
          "height": 142
        }
      },
      "source": [
        "p.T"
      ],
      "execution_count": 0,
      "outputs": [
        {
          "output_type": "execute_result",
          "data": {
            "text/plain": [
              "array([[ 0.67833361, -1.42612154],\n",
              "       [-0.0527353 , -0.17833501],\n",
              "       [ 0.04002355, -0.27109386],\n",
              "       ...,\n",
              "       [ 1.98488269,  3.52894226],\n",
              "       [-0.42837026, -0.9868446 ],\n",
              "       [-0.55916184, -1.67418927]])"
            ]
          },
          "metadata": {
            "tags": []
          },
          "execution_count": 21
        }
      ]
    },
    {
      "cell_type": "code",
      "metadata": {
        "id": "SyxnYpJrO9P8",
        "colab_type": "code",
        "outputId": "0aebba80-be9d-450e-9818-1030cbc802a0",
        "colab": {
          "base_uri": "https://localhost:8080/",
          "height": 283
        }
      },
      "source": [
        "plt.scatter(x['AGE1'], x['FMR'])\n",
        "plt.xlabel('AGE1')\n",
        "plt.ylabel('FMR')\n",
        "plt.show()"
      ],
      "execution_count": 0,
      "outputs": [
        {
          "output_type": "display_data",
          "data": {
            "image/png": "[encoded data removed]",
            "text/plain": [
              "<Figure size 432x288 with 1 Axes>"
            ]
          },
          "metadata": {
            "tags": []
          }
        }
      ]
    },
    {
      "cell_type": "markdown",
      "metadata": {
        "id": "RQx7UvsucIrL",
        "colab_type": "text"
      },
      "source": [
        "# Stretch Goals\n",
        "\n",
        "## 1) Perform further data exploration on the HADS national dataset (the version before we one-hot encoded it) Make scatterplots and see if you can see any resemblance between the original scatterplots and the plot of the principal components that you made in 7.1. \n",
        "\n",
        "(You may or may not not see very much resemblance depending on the variables you choose, and that's ok!)\n",
        "\n",
        "## 2) Study \"Scree Plots\" and then try and make one for your PCA dataset. How many principal conponents do you need to retain in order for your PCs to contain 90% of the explained variance? \n",
        "\n",
        "We will present this topic formally at the beginning of tomorrow's lecture, so if you figure this stretch goal out, you're ahead of the game. \n",
        "\n",
        "## 3) Explore further the intuition behind eigenvalues and eigenvectors by creating your very own eigenfaces:\n",
        "\n",
        "Prioritize self-study over this stretch goal if you are not semi-comfortable with the topics of PCA, Eigenvalues, and Eigenvectors.\n",
        "\n",
        "![Eigenfaces](https://i.pinimg.com/236x/1c/f1/01/1cf101a9859437a5d096a04b05be06b4--faces-tattoo.jpg)\n",
        "\n",
        "You don't necessarily have to use this resource, but this will get you started: \n",
        "[Eigenface Tutorial](https://sandipanweb.wordpress.com/2018/01/06/eigenfaces-and-a-simple-face-detector-with-pca-svd-in-python/)"
      ]
    }
  ]
}