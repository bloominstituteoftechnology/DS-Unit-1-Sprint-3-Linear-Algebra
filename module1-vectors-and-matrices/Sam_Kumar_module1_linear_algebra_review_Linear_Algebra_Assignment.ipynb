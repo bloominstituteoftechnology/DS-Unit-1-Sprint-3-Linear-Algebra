{
  "nbformat": 4,
  "nbformat_minor": 0,
  "metadata": {
    "colab": {
      "name": "Sam Kumar module1-linear-algebra-review_Linear_Algebra_Assignment.ipynb",
      "provenance": [],
      "collapsed_sections": [],
      "include_colab_link": true
    },
    "kernelspec": {
      "name": "python3",
      "display_name": "Python 3"
    }
  },
  "cells": [
    {
      "cell_type": "markdown",
      "metadata": {
        "id": "view-in-github",
        "colab_type": "text"
      },
      "source": [
        "<a href=\"https://colab.research.google.com/github/sampath11/DS-Unit-1-Sprint-3-Linear-Algebra/blob/master/module1-vectors-and-matrices/Sam_Kumar_module1_linear_algebra_review_Linear_Algebra_Assignment.ipynb\" target=\"_parent\"><img src=\"https://colab.research.google.com/assets/colab-badge.svg\" alt=\"Open In Colab\"/></a>"
      ]
    },
    {
      "cell_type": "markdown",
      "metadata": {
        "id": "yXA3GwWhY9KL",
        "colab_type": "text"
      },
      "source": [
        "# Part 1 - Scalars and Vectors\n",
        "\n",
        "For the questions below it is ***not*** sufficient to simply provide answer to the questions, but you must solve the problems and show your work using python (the NumPy library will help a lot!) Translate the vectors and matrices into their appropriate python  representations and use numpy or functions that you write yourself to demonstrate the result or property. "
      ]
    },
    {
      "cell_type": "markdown",
      "metadata": {
        "id": "oNOTv43_Zi9L",
        "colab_type": "text"
      },
      "source": [
        "## 1.1 Create a two-dimensional vector and plot it on a graph"
      ]
    },
    {
      "cell_type": "code",
      "metadata": {
        "id": "48N-ERGadYm_",
        "colab_type": "code",
        "colab": {}
      },
      "source": [
        "import pandas as pd\n",
        "import numpy as np\n",
        "import matplotlib.pyplot as plt\n"
      ],
      "execution_count": 0,
      "outputs": []
    },
    {
      "cell_type": "code",
      "metadata": {
        "id": "XNqjzQzrkVG7",
        "colab_type": "code",
        "outputId": "0db2dc48-1127-45a3-93e0-7823556bf00b",
        "colab": {
          "base_uri": "https://localhost:8080/",
          "height": 429
        }
      },
      "source": [
        "a = [2, 10]\n",
        "\n",
        "\n",
        "plt.figure(num=None, figsize=(8, 6), dpi=80, facecolor='w', edgecolor='k')\n",
        "plt.arrow ( 0, 0, a[0] , a[1], head_width = 0.0, head_length = 0.0, color='r')\n",
        "plt.xlim(0, 3)\n",
        "plt.ylim(0, 12)\n",
        "plt.title (\"Vector plots\")\n",
        "plt.show()"
      ],
      "execution_count": 2,
      "outputs": [
        {
          "output_type": "display_data",
          "data": {
            "image/png": "[encoded data removed]",
            "text/plain": [
              "<Figure size 640x480 with 1 Axes>"
            ]
          },
          "metadata": {
            "tags": []
          }
        }
      ]
    },
    {
      "cell_type": "markdown",
      "metadata": {
        "id": "unKFT619lk3e",
        "colab_type": "text"
      },
      "source": [
        "## 1.2 Create a three-dimensional vecor and plot it on a graph"
      ]
    },
    {
      "cell_type": "code",
      "metadata": {
        "id": "atUEd3T6llKm",
        "colab_type": "code",
        "outputId": "a576048b-1a63-43fa-a314-9d84be15520a",
        "colab": {
          "base_uri": "https://localhost:8080/",
          "height": 499
        }
      },
      "source": [
        "a = [5, 7]\n",
        "b = [4, 3]\n",
        "c = [2, 9]\n",
        "\n",
        "fig = plt.figure (figsize=(6, 8))\n",
        "fig.add_subplot(111, projection=None)\n",
        "plt.arrow (0, 0,a[0], a[1], color='red' )\n",
        "plt.arrow (0, 0, b[0], b[1], color='green')\n",
        "plt.arrow (0, 0, c[0], c[1], color = 'blue')\n",
        "\n",
        "plt.xlim(0, 15)\n",
        "plt.ylim (0, 10)\n",
        "#plt.zlim(0,10)\n",
        "plt.title (\"vector plots\")\n",
        "plt.show()\n",
        "\n",
        "\n"
      ],
      "execution_count": 3,
      "outputs": [
        {
          "output_type": "display_data",
          "data": {
            "image/png": "[encoded data removed]",
            "text/plain": [
              "<Figure size 432x576 with 1 Axes>"
            ]
          },
          "metadata": {
            "tags": [],
            "needs_background": "light"
          }
        }
      ]
    },
    {
      "cell_type": "code",
      "metadata": {
        "id": "JHVOcDNLynVA",
        "colab_type": "code",
        "outputId": "76aff3bf-3974-4953-9502-00dfb9c8ff51",
        "colab": {
          "base_uri": "https://localhost:8080/",
          "height": 34
        }
      },
      "source": [
        "## My notes - understand zip function\n",
        "\n",
        "a = (\"John\", \"Charles\", \"Mike\")\n",
        "b = (\"Jenny\", \"Christy\", \"Monica\")\n",
        "\n",
        "x = zip(a, b)\n",
        "x"
      ],
      "execution_count": 4,
      "outputs": [
        {
          "output_type": "execute_result",
          "data": {
            "text/plain": [
              "<zip at 0x7ff358d36588>"
            ]
          },
          "metadata": {
            "tags": []
          },
          "execution_count": 4
        }
      ]
    },
    {
      "cell_type": "code",
      "metadata": {
        "id": "PNs7DOSNwtqQ",
        "colab_type": "code",
        "outputId": "06104639-493f-4026-e940-67dd5f1bd452",
        "colab": {
          "base_uri": "https://localhost:8080/",
          "height": 466
        }
      },
      "source": [
        "### Lets do the above but in 3 dimensional\n",
        "\n",
        "from mpl_toolkits.mplot3d import Axes3D\n",
        "\n",
        "a = [5, 7, 3]\n",
        "b = [4, 3, 2]\n",
        "c = [2, 9, 1]\n",
        "\n",
        "vectors = np.array([ [0, 0, 0, a[0], a[1], a[2]],\n",
        "                    [0, 0, 0, b[0], b[1], b[2] ],\n",
        "                    [0, 0, 0, c[0], c[1], c[2] ]\n",
        "                  ])\n",
        "\n",
        "a, b, c, u, v, w = zip(*vectors)\n",
        "fig = plt.figure (figsize=(6, 8))\n",
        "ax = fig.add_subplot(111, projection='3d')\n",
        "\n",
        "ax.quiver (a, b, c, u, v, w, length=1)\n",
        "\n",
        "ax.set_xlim ([0,15])\n",
        "ax.set_ylim([0,10])\n",
        "ax.set_zlim([0,10])\n",
        "\n",
        "\n",
        "ax.set_xlabel  (\"X\")\n",
        "ax.set_ylabel (\"Y\")\n",
        "ax.set_zlabel (\"Z\")\n",
        "plt.title (\"vector plots\")\n",
        "plt.show()\n"
      ],
      "execution_count": 5,
      "outputs": [
        {
          "output_type": "display_data",
          "data": {
            "image/png": "[encoded data removed]",
            "text/plain": [
              "<Figure size 432x576 with 1 Axes>"
            ]
          },
          "metadata": {
            "tags": [],
            "needs_background": "light"
          }
        }
      ]
    },
    {
      "cell_type": "markdown",
      "metadata": {
        "id": "b7qFxbKxZmI2",
        "colab_type": "text"
      },
      "source": [
        "## 1.3 Scale the vectors you created in 1.1 by $5$, $\\pi$, and $-e$ and plot all four vectors (original + 3 scaled vectors) on a graph. What do you notice about these vectors? "
      ]
    },
    {
      "cell_type": "code",
      "metadata": {
        "id": "ah6zMSLJdJwL",
        "colab_type": "code",
        "outputId": "8fb9284d-23cb-405f-8256-883e978e4949",
        "colab": {
          "base_uri": "https://localhost:8080/",
          "height": 50
        }
      },
      "source": [
        "from math import e, pi\n",
        "print(e)\n",
        "print(pi)"
      ],
      "execution_count": 6,
      "outputs": [
        {
          "output_type": "stream",
          "text": [
            "2.718281828459045\n",
            "3.141592653589793\n"
          ],
          "name": "stdout"
        }
      ]
    },
    {
      "cell_type": "code",
      "metadata": {
        "id": "3qpwDlzXkVf5",
        "colab_type": "code",
        "outputId": "6d1e0a53-4048-418f-c712-24ec1ac8fcc9",
        "colab": {
          "base_uri": "https://localhost:8080/",
          "height": 462
        }
      },
      "source": [
        "a = np.array([0.5, 3])\n",
        "\n",
        "b = -e*a\n",
        "print (b)\n",
        "\n",
        "c = pi*a\n",
        "\n",
        "print ( \" c is : \", c)\n",
        "\n",
        "d = 5*a\n",
        "\n",
        "\n",
        "\n",
        "\n",
        "plt.figure(num=None, figsize=(8, 6), dpi=80, facecolor='w', edgecolor='k')\n",
        "plt.arrow ( 0, 0, a[0] , a[1], head_width = 0.0, head_length = 0.0, color='r')\n",
        "\n",
        "## plot the scaled vectors\n",
        "\n",
        "plt.arrow (0, 0, b[0], b[1], head_width=0.0, head_length=0.0, color='g')\n",
        "\n",
        "plt.arrow (0, 0, c[0], c[1], head_width=0.0, head_length=0.0, color='b')\n",
        "\n",
        "plt.arrow (0, 0, d[0], d[1], head_width=0.0, head_length=0.0, color='y')\n",
        "\n",
        "plt.xlim(-15, 20)\n",
        "plt.ylim(-15, 40)\n",
        "plt.title (\"Vector plots\")\n",
        "plt.show()"
      ],
      "execution_count": 7,
      "outputs": [
        {
          "output_type": "stream",
          "text": [
            "[-1.35914091 -8.15484549]\n",
            " c is :  [1.57079633 9.42477796]\n"
          ],
          "name": "stdout"
        },
        {
          "output_type": "display_data",
          "data": {
            "image/png": "[encoded data removed]",
            "text/plain": [
              "<Figure size 640x480 with 1 Axes>"
            ]
          },
          "metadata": {
            "tags": []
          }
        }
      ]
    },
    {
      "cell_type": "markdown",
      "metadata": {
        "id": "wrgqa6sWimbH",
        "colab_type": "text"
      },
      "source": [
        "## 1.4 Graph vectors $\\vec{a}$ and $\\vec{b}$ and plot them on a graph\n",
        "\n",
        "\\begin{align}\n",
        "\\vec{a} = \\begin{bmatrix} 5 \\\\ 7 \\end{bmatrix}\n",
        "\\qquad\n",
        "\\vec{b} = \\begin{bmatrix} 3 \\\\4 \\end{bmatrix}\n",
        "\\end{align}"
      ]
    },
    {
      "cell_type": "code",
      "metadata": {
        "id": "I1BGXA_skV-b",
        "colab_type": "code",
        "outputId": "71c71ff4-4d17-4f7e-cdb0-0b7a68140882",
        "colab": {
          "base_uri": "https://localhost:8080/",
          "height": 429
        }
      },
      "source": [
        "a = np.array([5, 7])\n",
        "\n",
        "b = np.array([7, 3])\n",
        "\n",
        "\n",
        "\n",
        "plt.figure (num=None, figsize=(8,6), dpi=80, facecolor='w', edgecolor='k')\n",
        "\n",
        "\n",
        "plt.arrow (0, 0, a[0], a[1], head_width =0.4, head_length=0.6, color='r')\n",
        "\n",
        "plt.arrow (0, 0, b[0], b[1], head_width=0.4, head_length=0.6, color='b')\n",
        "\n",
        "\n",
        "plt.xlim (0, 10)\n",
        "plt.ylim (0, 10)\n",
        "plt.title (\"Vector Plots\")\n",
        "plt.show()\n",
        "\n"
      ],
      "execution_count": 8,
      "outputs": [
        {
          "output_type": "display_data",
          "data": {
            "image/png": "[encoded data removed]",
            "text/plain": [
              "<Figure size 640x480 with 1 Axes>"
            ]
          },
          "metadata": {
            "tags": []
          }
        }
      ]
    },
    {
      "cell_type": "markdown",
      "metadata": {
        "id": "QN6RU_3gizpw",
        "colab_type": "text"
      },
      "source": [
        "## 1.5 find $\\vec{a} - \\vec{b}$ and plot the result on the same graph as $\\vec{a}$ and $\\vec{b}$. Is there a relationship between vectors $\\vec{a} \\thinspace, \\vec{b} \\thinspace \\text{and} \\thinspace \\vec{a-b}$"
      ]
    },
    {
      "cell_type": "code",
      "metadata": {
        "id": "68sWHIOPkXp5",
        "colab_type": "code",
        "outputId": "a3d21fee-061b-4b63-b2ff-91f99864a8ff",
        "colab": {
          "base_uri": "https://localhost:8080/",
          "height": 446
        }
      },
      "source": [
        "a = np.array([5, 7])\n",
        "\n",
        "b = np.array([7, 3])\n",
        "\n",
        "\n",
        "\n",
        "plt.figure (num=None, figsize=(8,6), dpi=80, facecolor='w', edgecolor='k')\n",
        "\n",
        "\n",
        "plt.arrow (0, 0, a[0], a[1], head_width =0.4, head_length=0.6, color='r')\n",
        "\n",
        "plt.arrow (0, 0, b[0], b[1], head_width=0.4, head_length=0.6, color='b')\n",
        "\n",
        "\n",
        "plt.xlim (-3, 10)\n",
        "plt.ylim (-3, 10)\n",
        "plt.title (\"Vector Plots\")\n",
        "\n",
        "\n",
        "c = a -b\n",
        "  \n",
        "print (c)\n",
        "\n",
        "plt.arrow (0, 0, c[0], c[1], head_width=0.4, head_length=0.6, color = 'y' )\n",
        "\n",
        "plt.show()\n"
      ],
      "execution_count": 9,
      "outputs": [
        {
          "output_type": "stream",
          "text": [
            "[-2  4]\n"
          ],
          "name": "stdout"
        },
        {
          "output_type": "display_data",
          "data": {
            "image/png": "[encoded data removed]",
            "text/plain": [
              "<Figure size 640x480 with 1 Axes>"
            ]
          },
          "metadata": {
            "tags": []
          }
        }
      ]
    },
    {
      "cell_type": "markdown",
      "metadata": {
        "id": "3u7Ul6Cb9f9O",
        "colab_type": "text"
      },
      "source": [
        "### There seems to be no discernable relationship between a, b, and a-b. I had to change x and y limit to -3 to even see a-b on the graph"
      ]
    },
    {
      "cell_type": "markdown",
      "metadata": {
        "id": "1ZPVuJAlehu_",
        "colab_type": "text"
      },
      "source": [
        "## 1.6 Find $c \\cdot d$\n",
        "\n",
        "\\begin{align}\n",
        "\\vec{c} = \\begin{bmatrix}7 & 22 & 4 & 16\\end{bmatrix}\n",
        "\\qquad\n",
        "\\vec{d} = \\begin{bmatrix}12 & 6 & 2 & 9\\end{bmatrix}\n",
        "\\end{align}\n"
      ]
    },
    {
      "cell_type": "code",
      "metadata": {
        "id": "2_cZQFCskYNr",
        "colab_type": "code",
        "outputId": "e6c8938e-b6af-464b-add8-ce56c4bf3576",
        "colab": {
          "base_uri": "https://localhost:8080/",
          "height": 67
        }
      },
      "source": [
        "c = np.array([7,22,4,16])\n",
        "\n",
        "d = np.array([12,6,2,9])\n",
        "\n",
        "print ( \"C array:\", c)\n",
        "print ( \"D array:\", d)\n",
        "\n",
        "\n",
        "e = np.dot (c, d)\n",
        "\n",
        "print (\"dot product c.d :\", e)\n"
      ],
      "execution_count": 10,
      "outputs": [
        {
          "output_type": "stream",
          "text": [
            "C array: [ 7 22  4 16]\n",
            "D array: [12  6  2  9]\n",
            "dot product c.d : 368\n"
          ],
          "name": "stdout"
        }
      ]
    },
    {
      "cell_type": "markdown",
      "metadata": {
        "id": "cLm8yokpfg9B",
        "colab_type": "text"
      },
      "source": [
        "##  1.7 Find $e \\times f$\n",
        "\n",
        "\\begin{align}\n",
        "\\vec{e} = \\begin{bmatrix} 5 \\\\ 7 \\\\ 2 \\end{bmatrix}\n",
        "\\qquad\n",
        "\\vec{f} = \\begin{bmatrix} 3 \\\\4 \\\\ 6 \\end{bmatrix}\n",
        "\\end{align}"
      ]
    },
    {
      "cell_type": "code",
      "metadata": {
        "id": "ku-TdCKAkYs8",
        "colab_type": "code",
        "outputId": "c3aac83b-0cdd-421a-9247-b63b1f52ac88",
        "colab": {
          "base_uri": "https://localhost:8080/",
          "height": 34
        }
      },
      "source": [
        "e = np.array ([5, 7, 2])\n",
        "\n",
        "\n",
        "\n",
        "f = np.array ([3, 4, 6])\n",
        "\n",
        "##print (\"before reshape:\", e, f)\n",
        "\n",
        "##e = e.reshape (-1,1)\n",
        "##f = f.reshape(-1,1)\n",
        "\n",
        "##print (\"After reshape:\", e, f)\n",
        "\n",
        "result = np.cross (e, f)\n",
        "\n",
        "print (\"result : \", result)\n"
      ],
      "execution_count": 11,
      "outputs": [
        {
          "output_type": "stream",
          "text": [
            "result :  [ 34 -24  -1]\n"
          ],
          "name": "stdout"
        }
      ]
    },
    {
      "cell_type": "markdown",
      "metadata": {
        "id": "-TN8wO2-h53s",
        "colab_type": "text"
      },
      "source": [
        "## 1.8 Find $||g||$ and then find $||h||$. Which is longer?\n",
        "\n",
        "\\begin{align}\n",
        "\\vec{g} = \\begin{bmatrix} 1 \\\\ 1 \\\\ 1 \\\\ 8 \\end{bmatrix}\n",
        "\\qquad\n",
        "\\vec{h} = \\begin{bmatrix} 3 \\\\3 \\\\ 3 \\\\ 3 \\end{bmatrix}\n",
        "\\end{align}"
      ]
    },
    {
      "cell_type": "code",
      "metadata": {
        "id": "-5VKOMKBlgaA",
        "colab_type": "code",
        "outputId": "891a1a5e-b1b3-4c11-98a8-3289a8dd339c",
        "colab": {
          "base_uri": "https://localhost:8080/",
          "height": 50
        }
      },
      "source": [
        "g = np.array ([1, 1, 1, 8])\n",
        "\n",
        "h = np.array([3, 3, 3, 3])\n",
        "\n",
        "norm_g = np.sqrt (g[0]**2 + g[1]**2 + g[2]**2 + g[3]**2)\n",
        "\n",
        "norm_h = np.sqrt (h[0]**2 + h[1]**2 + h[2]**2 + h[3]**2)\n",
        "\n",
        "print ( \"norm of g and h are:\", norm_g, norm_h)\n",
        "\n",
        "if (norm_g > norm_h):\n",
        "  print ( \"norm_g is greater than norm_h\", norm_g, norm_h)\n",
        "else:\n",
        "  print ( \"norm_h is greater than norm_g\", norm_h, norm_g)"
      ],
      "execution_count": 12,
      "outputs": [
        {
          "output_type": "stream",
          "text": [
            "norm of g and h are: 8.18535277187245 6.0\n",
            "norm_g is greater than norm_h 8.18535277187245 6.0\n"
          ],
          "name": "stdout"
        }
      ]
    },
    {
      "cell_type": "markdown",
      "metadata": {
        "id": "njrWIMS-ZAoH",
        "colab_type": "text"
      },
      "source": [
        "# Part 2 - Matrices"
      ]
    },
    {
      "cell_type": "markdown",
      "metadata": {
        "id": "GjkcAVIOmOnn",
        "colab_type": "text"
      },
      "source": [
        "## 2.1 What are the dimensions of the following matrices? Which of the following can be multiplied together? See if you can find all of the different legal combinations.\n",
        "\\begin{align}\n",
        "A = \\begin{bmatrix}\n",
        "1 & 2 \\\\\n",
        "3 & 4 \\\\\n",
        "5 & 6\n",
        "\\end{bmatrix}\n",
        "\\qquad\n",
        "B = \\begin{bmatrix}\n",
        "2 & 4 & 6 \\\\\n",
        "\\end{bmatrix}\n",
        "\\qquad\n",
        "C = \\begin{bmatrix}\n",
        "9 & 6 & 3 \\\\\n",
        "4 & 7 & 11\n",
        "\\end{bmatrix}\n",
        "\\qquad\n",
        "D = \\begin{bmatrix}\n",
        "1 & 0 & 0 \\\\\n",
        "0 & 1 & 0 \\\\\n",
        "0 & 0 & 1\n",
        "\\end{bmatrix}\n",
        "\\qquad\n",
        "E = \\begin{bmatrix}\n",
        "1 & 3 \\\\\n",
        "5 & 7\n",
        "\\end{bmatrix}\n",
        "\\end{align}"
      ]
    },
    {
      "cell_type": "code",
      "metadata": {
        "id": "Z69c-uPtnbIx",
        "colab_type": "code",
        "outputId": "99163989-e872-46b3-e39c-08d3fcd36167",
        "colab": {
          "base_uri": "https://localhost:8080/",
          "height": 302
        }
      },
      "source": [
        "# Dimensions of A is 2x3, B = 1x3 , C = 3x2, D=3x3, E = 2x2\n",
        "\n",
        "\n",
        "\n",
        "A = np.matrix ( '1, 2; 3,4; 5, 6')\n",
        "\n",
        "B = np.matrix ( '2; 4; 6')\n",
        "\n",
        "C = np.matrix ( '9, 6, 3; 4, 7, 11')\n",
        "\n",
        "D = np.matrix ( '1, 0, 0; 0, 1, 0; 0, 0, 1')\n",
        "\n",
        "E = np.matrix ( '1, 3; 5, 7')\n",
        "\n",
        "print ( \"Matrices A B C D E are\", A, B, C, D, E)\n",
        "\n",
        "\n",
        "##AB = A*B   - get this error shapes (3,2) and (3,1) not aligned: 2 (dim 1) != 3 (dim 0)\n",
        "AC = A*C\n",
        "\n",
        "print (\"AC\",  AC)\n",
        "##AD = A*D   -get error:  shapes (3,2) and (3,3) not aligned: 2 (dim 1) != 3 (dim 0)\n",
        "AE = A*E\n",
        "\n",
        "print ( \"AE\", AE)\n",
        "\n",
        "\n",
        "##BC = B*C  - get this error: shapes (3,1) and (2,3) not aligned: 1 (dim 1) != 2 (dim 0)\n",
        "##BD = B*D  - get this error: shapes (3,1) and (3,3) not aligned: 1 (dim 1) != 3 (dim 0)\n",
        "##BE= B*E  - get this error: shapes (3,1) and (2,2) not aligned: 1 (dim 1) != 2 (dim 0)\n",
        "\n",
        "CD = C*D\n",
        "\n",
        "print ( \"CD\", CD)\n",
        "##CE = C*E  - get this error: shapes (2,3) and (2,2) not aligned: 3 (dim 1) != 2 (dim 0)\n",
        "\n",
        "##DE = D*E  - get this error: shapes (3,3) and (2,2) not aligned: 3 (dim 1) != 2 (dim 0)\n"
      ],
      "execution_count": 14,
      "outputs": [
        {
          "output_type": "stream",
          "text": [
            "Matrices A B C D E are [[1 2]\n",
            " [3 4]\n",
            " [5 6]] [[2]\n",
            " [4]\n",
            " [6]] [[ 9  6  3]\n",
            " [ 4  7 11]] [[1 0 0]\n",
            " [0 1 0]\n",
            " [0 0 1]] [[1 3]\n",
            " [5 7]]\n",
            "AC [[17 20 25]\n",
            " [43 46 53]\n",
            " [69 72 81]]\n",
            "AE [[11 17]\n",
            " [23 37]\n",
            " [35 57]]\n",
            "CD [[ 9  6  3]\n",
            " [ 4  7 11]]\n"
          ],
          "name": "stdout"
        }
      ]
    },
    {
      "cell_type": "markdown",
      "metadata": {
        "id": "lMOlCoM3ncGa",
        "colab_type": "text"
      },
      "source": [
        "## 2.2 Find the following products: CD, AE, and BA. What are the dimensions of the resulting matrices? How does that relate to the dimensions of their factor matrices?"
      ]
    },
    {
      "cell_type": "code",
      "metadata": {
        "id": "zhKwiSItoE2F",
        "colab_type": "code",
        "outputId": "730c939e-695a-49b6-8071-bf9b3a902be2",
        "colab": {
          "base_uri": "https://localhost:8080/",
          "height": 134
        }
      },
      "source": [
        "\n",
        "\n",
        "print (\"CD is:\\n\", CD)\n",
        "\n",
        "print (\"AE is:\\n\", AE)\n",
        "\n",
        "##BA = B*A   - get this error: shapes (3,1) and (3,2) not aligned: 1 (dim 1) != 3 (dim 0)\n",
        "\n",
        "##print ( \"BA is :\\n\", BA)\n",
        "\n",
        "\n"
      ],
      "execution_count": 15,
      "outputs": [
        {
          "output_type": "stream",
          "text": [
            "CD is:\n",
            " [[ 9  6  3]\n",
            " [ 4  7 11]]\n",
            "AE is:\n",
            " [[11 17]\n",
            " [23 37]\n",
            " [35 57]]\n"
          ],
          "name": "stdout"
        }
      ]
    },
    {
      "cell_type": "markdown",
      "metadata": {
        "id": "g41naE-PPUtp",
        "colab_type": "text"
      },
      "source": [
        "#### We see that CD is 3X2 matrix, AE is 2X3 matrix, cannot multiply A*B as there shapes are not aligned (3,1)* (3,2)"
      ]
    },
    {
      "cell_type": "markdown",
      "metadata": {
        "id": "p2jmaGLgoFPN",
        "colab_type": "text"
      },
      "source": [
        "## 2.3  Find $F^{T}$. How are the numbers along the main diagonal (top left to bottom right) of the original matrix and its transpose related? What are the dimensions of $F$? What are the dimensions of $F^{T}$?\n",
        "\n",
        "\\begin{align}\n",
        "F = \n",
        "\\begin{bmatrix}\n",
        "20 & 19 & 18 & 17 \\\\\n",
        "16 & 15 & 14 & 13 \\\\\n",
        "12 & 11 & 10 & 9 \\\\\n",
        "8 & 7 & 6 & 5 \\\\\n",
        "4 & 3 & 2 & 1\n",
        "\\end{bmatrix}\n",
        "\\end{align}"
      ]
    },
    {
      "cell_type": "code",
      "metadata": {
        "id": "Wl3ElwgLqaAn",
        "colab_type": "code",
        "outputId": "1ea4a3da-7f64-4469-96ed-851409e166ec",
        "colab": {
          "base_uri": "https://localhost:8080/",
          "height": 202
        }
      },
      "source": [
        "F = np.matrix ( '20, 19, 18, 17; 16, 15, 14, 13; 12, 11, 10, 9; 8, 7, 6, 5; 4, 3, 2, 1')\n",
        "\n",
        "print (\"matrix F:\\n\", F)\n",
        "\n",
        "\n",
        "F_transpose = F.T\n",
        "\n",
        "print ( \"matrix f_transpose:\\n\", F_transpose)"
      ],
      "execution_count": 16,
      "outputs": [
        {
          "output_type": "stream",
          "text": [
            "matrix F:\n",
            " [[20 19 18 17]\n",
            " [16 15 14 13]\n",
            " [12 11 10  9]\n",
            " [ 8  7  6  5]\n",
            " [ 4  3  2  1]]\n",
            "matrix f_transpose:\n",
            " [[20 16 12  8  4]\n",
            " [19 15 11  7  3]\n",
            " [18 14 10  6  2]\n",
            " [17 13  9  5  1]]\n"
          ],
          "name": "stdout"
        }
      ]
    },
    {
      "cell_type": "markdown",
      "metadata": {
        "id": "eRvYdPmTQ2Wo",
        "colab_type": "text"
      },
      "source": [
        "##### We see that the dimensions of the F_transpose are 5X4, whereas the original matrix was 4*5. The diagonal has the same number/values\n"
      ]
    },
    {
      "cell_type": "markdown",
      "metadata": {
        "id": "13ik2LEEZLHn",
        "colab_type": "text"
      },
      "source": [
        "# Part 3 - Square Matrices"
      ]
    },
    {
      "cell_type": "markdown",
      "metadata": {
        "id": "sDBAPUwfp7f7",
        "colab_type": "text"
      },
      "source": [
        "## 3.1 Find $IG$ (be sure to show your work) 😃\n",
        "\n",
        "\\begin{align}\n",
        "G= \n",
        "\\begin{bmatrix}\n",
        "12 & 11 \\\\\n",
        "7 & 10 \n",
        "\\end{bmatrix}\n",
        "\\end{align}"
      ]
    },
    {
      "cell_type": "code",
      "metadata": {
        "id": "ZnqvZBOYqar3",
        "colab_type": "code",
        "outputId": "287d4efa-46d4-43d8-c4b8-3ab6354217ad",
        "colab": {
          "base_uri": "https://localhost:8080/",
          "height": 297
        }
      },
      "source": [
        "G = np.matrix ('12, 11; 7, 10')\n",
        "\n",
        "print ( \"G matrix:\\n\", G)\n",
        "\n",
        "\n",
        "I = np.eye(2)\n",
        "\n",
        "print (\"I matrix is:\\n\", I)\n",
        "\n",
        "G_Inv = I*G\n",
        "\n",
        "print ( \"IG matrix is :\\n\", IG)"
      ],
      "execution_count": 18,
      "outputs": [
        {
          "output_type": "stream",
          "text": [
            "G matrix:\n",
            " [[12 11]\n",
            " [ 7 10]]\n",
            "I matrix is:\n",
            " [[1. 0.]\n",
            " [0. 1.]]\n"
          ],
          "name": "stdout"
        },
        {
          "output_type": "error",
          "ename": "NameError",
          "evalue": "ignored",
          "traceback": [
            "\u001b[0;31m---------------------------------------------------------------------------\u001b[0m",
            "\u001b[0;31mNameError\u001b[0m                                 Traceback (most recent call last)",
            "\u001b[0;32m<ipython-input-18-2d732f315290>\u001b[0m in \u001b[0;36m<module>\u001b[0;34m()\u001b[0m\n\u001b[1;32m     10\u001b[0m \u001b[0mG_Inv\u001b[0m \u001b[0;34m=\u001b[0m \u001b[0mI\u001b[0m\u001b[0;34m*\u001b[0m\u001b[0mG\u001b[0m\u001b[0;34m\u001b[0m\u001b[0;34m\u001b[0m\u001b[0m\n\u001b[1;32m     11\u001b[0m \u001b[0;34m\u001b[0m\u001b[0m\n\u001b[0;32m---> 12\u001b[0;31m \u001b[0mprint\u001b[0m \u001b[0;34m(\u001b[0m \u001b[0;34m\"IG matrix is :\\n\"\u001b[0m\u001b[0;34m,\u001b[0m \u001b[0mIG\u001b[0m\u001b[0;34m)\u001b[0m\u001b[0;34m\u001b[0m\u001b[0;34m\u001b[0m\u001b[0m\n\u001b[0m",
            "\u001b[0;31mNameError\u001b[0m: name 'IG' is not defined"
          ]
        }
      ]
    },
    {
      "cell_type": "markdown",
      "metadata": {
        "id": "DZ_0XTDQqpMT",
        "colab_type": "text"
      },
      "source": [
        "## 3.2 Find $|H|$ and then find $|J|$.\n",
        "\n",
        "\\begin{align}\n",
        "H= \n",
        "\\begin{bmatrix}\n",
        "12 & 11 \\\\\n",
        "7 & 10 \n",
        "\\end{bmatrix}\n",
        "\\qquad\n",
        "J= \n",
        "\\begin{bmatrix}\n",
        "0 & 1 & 2 \\\\\n",
        "7 & 10 & 4 \\\\\n",
        "3 & 2 & 0\n",
        "\\end{bmatrix}\n",
        "\\end{align}\n"
      ]
    },
    {
      "cell_type": "code",
      "metadata": {
        "id": "5QShhoXyrjDS",
        "colab_type": "code",
        "outputId": "6a0d7586-7df8-4ca0-8007-1d85fcf80a72",
        "colab": {
          "base_uri": "https://localhost:8080/",
          "height": 101
        }
      },
      "source": [
        "H = np.matrix ('12, 11; 7, 10')\n",
        "\n",
        "det_H = H[0][0]\n",
        "\n",
        "print ( det_H)\n",
        "\n",
        "\n",
        "\n",
        "det_H = 12*10 - 7*11\n",
        "\n",
        "print ( \"Det_H is :\\n\", det_H)\n",
        "\n",
        "\n",
        "J = np.matrix ( '0, 1, 2; 7, 10, 4; 3, 2, 0')\n",
        "\n",
        "det_J = 0*(10*0) - 0*(4*2) - 1*(7*0) + 1*(3*4) + 2*(7*2) - 2*(3*10)  #  As first element of matrix is 0, equation is simpler\n",
        "\n",
        "print ( \"det_J is :\\n\", det_J)"
      ],
      "execution_count": 20,
      "outputs": [
        {
          "output_type": "stream",
          "text": [
            "[[12 11]]\n",
            "Det_H is :\n",
            " 43\n",
            "det_J is :\n",
            " -20\n"
          ],
          "name": "stdout"
        }
      ]
    },
    {
      "cell_type": "markdown",
      "metadata": {
        "id": "2gZl1CFwrXSH",
        "colab_type": "text"
      },
      "source": [
        "## 3.3 Find $H^{-1}$ and then find $J^{-1}$"
      ]
    },
    {
      "cell_type": "code",
      "metadata": {
        "id": "nyX6De2-rio1",
        "colab_type": "code",
        "outputId": "12be75dc-bdc5-408b-cd3f-9c15fe906ec0",
        "colab": {
          "base_uri": "https://localhost:8080/",
          "height": 386
        }
      },
      "source": [
        "## easiest way to calculte is multiply by identify matrix\n",
        "\n",
        "\n",
        "print ( H)\n",
        "\n",
        "print (I)\n",
        "\n",
        "H_inverse = np.linalg.inv(H)\n",
        "\n",
        "print ( \"H_Inverse:\\n\", H_inverse)\n",
        "\n",
        "print (J)\n",
        "\n",
        "I_3 = np.eye(3)\n",
        "\n",
        "print (\"I3:\\n\", I_3)\n",
        "\n",
        "J_inverse = J*I_3\n",
        "\n",
        "print ( \"J_inverse:\\n\", J_inverse)\n",
        "\n",
        "\n",
        "# alternate way is \n",
        "\n",
        "J_inverse = np.linalg.inv(J)\n",
        "\n",
        "print ( \"J_inverse (alt approach):\\n \", J_inverse)"
      ],
      "execution_count": 21,
      "outputs": [
        {
          "output_type": "stream",
          "text": [
            "[[12 11]\n",
            " [ 7 10]]\n",
            "[[1. 0.]\n",
            " [0. 1.]]\n",
            "H_Inverse:\n",
            " [[ 0.23255814 -0.25581395]\n",
            " [-0.1627907   0.27906977]]\n",
            "[[ 0  1  2]\n",
            " [ 7 10  4]\n",
            " [ 3  2  0]]\n",
            "I3:\n",
            " [[1. 0. 0.]\n",
            " [0. 1. 0.]\n",
            " [0. 0. 1.]]\n",
            "J_inverse:\n",
            " [[ 0.  1.  2.]\n",
            " [ 7. 10.  4.]\n",
            " [ 3.  2.  0.]]\n",
            "J_inverse (alt approach):\n",
            "  [[ 0.4  -0.2   0.8 ]\n",
            " [-0.6   0.3  -0.7 ]\n",
            " [ 0.8  -0.15  0.35]]\n"
          ],
          "name": "stdout"
        }
      ]
    },
    {
      "cell_type": "markdown",
      "metadata": {
        "id": "Vvd4Pe86rjhW",
        "colab_type": "text"
      },
      "source": [
        "## 3.4 Find $HH^{-1}$ and then find $J^{-1}J$. Is $HH^{-1} == J^{-1}J$? Why or Why not?"
      ]
    },
    {
      "cell_type": "code",
      "metadata": {
        "id": "eaVqotxPXt-q",
        "colab_type": "code",
        "outputId": "ebd2367a-7f00-409c-8b2b-1fc67c3991d5",
        "colab": {
          "base_uri": "https://localhost:8080/",
          "height": 101
        }
      },
      "source": [
        "print ( H*H_inverse)\n",
        "\n",
        "print ( J*J_inverse)"
      ],
      "execution_count": 22,
      "outputs": [
        {
          "output_type": "stream",
          "text": [
            "[[1.00000000e+00 5.55111512e-16]\n",
            " [2.22044605e-16 1.00000000e+00]]\n",
            "[[ 1.00000000e+00 -5.55111512e-17  0.00000000e+00]\n",
            " [ 0.00000000e+00  1.00000000e+00  0.00000000e+00]\n",
            " [ 0.00000000e+00  0.00000000e+00  1.00000000e+00]]\n"
          ],
          "name": "stdout"
        }
      ]
    },
    {
      "cell_type": "markdown",
      "metadata": {
        "id": "jzX5LIQ6YIu5",
        "colab_type": "text"
      },
      "source": [
        "####Based on the result we see square matrix are inversible.  and  H*H_inverse ==Identity matrix "
      ]
    },
    {
      "cell_type": "markdown",
      "metadata": {
        "id": "V0iTO4McYjtk",
        "colab_type": "text"
      },
      "source": [
        "# Stretch Goals: \n",
        "\n",
        "A reminder that these challenges are optional. If you finish your work quickly we welcome you to work on them. If there are other activities that you feel like will help your understanding of the above topics more, feel free to work on that. Topics from the Stretch Goals sections will never end up on Sprint Challenges. You don't have to do these in order, you don't have to do all of them. \n",
        "\n",
        "- Write a function that can calculate the dot product of any two vectors of equal length that are passed to it.\n",
        "- Write a function that can calculate the norm of any vector\n",
        "- Prove to yourself again that the vectors in 1.9 are orthogonal by graphing them. \n",
        "- Research how to plot a 3d graph with animations so that you can make the graph rotate (this will be easier in a local notebook than in google colab)\n",
        "- Create and plot a matrix on a 2d graph.\n",
        "- Create and plot a matrix on a 3d graph.\n",
        "- Plot two vectors that are not collinear on a 2d graph. Calculate the determinant of the 2x2 matrix that these vectors form. How does this determinant relate to the graphical interpretation of the vectors?\n",
        "\n"
      ]
    }
  ]
}