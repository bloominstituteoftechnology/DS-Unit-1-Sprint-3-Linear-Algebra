{
  "nbformat": 4,
  "nbformat_minor": 0,
  "metadata": {
    "colab": {
      "name": "Ryan_Koul_LS_DS15_131_Vectors_and_Matrices_Assignment.ipynb",
      "provenance": [],
      "collapsed_sections": [],
      "include_colab_link": true
    },
    "kernelspec": {
      "name": "python3",
      "display_name": "Python 3"
    }
  },
  "cells": [
    {
      "cell_type": "markdown",
      "metadata": {
        "id": "view-in-github",
        "colab_type": "text"
      },
      "source": [
        "<a href=\"https://colab.research.google.com/github/ryankoul/DS-Unit-1-Sprint-3-Linear-Algebra/blob/master/module1-vectors-and-matrices/Ryan_Koul_LS_DS15_131_Vectors_and_Matrices_Assignment.ipynb\" target=\"_parent\"><img src=\"https://colab.research.google.com/assets/colab-badge.svg\" alt=\"Open In Colab\"/></a>"
      ]
    },
    {
      "cell_type": "markdown",
      "metadata": {
        "id": "yXA3GwWhY9KL",
        "colab_type": "text"
      },
      "source": [
        "# Part 1 - Scalars and Vectors\n",
        "\n",
        "For the questions below it is not sufficient to simply provide answer to the questions, but you must solve the problems and show your work using python (the NumPy library will help a lot!) Translate the vectors and matrices into their appropriate python  representations and use numpy or functions that you write yourself to demonstrate the result or property. "
      ]
    },
    {
      "cell_type": "markdown",
      "metadata": {
        "id": "oNOTv43_Zi9L",
        "colab_type": "text"
      },
      "source": [
        "## 1.1 Create a two-dimensional vector and plot it on a graph"
      ]
    },
    {
      "cell_type": "code",
      "metadata": {
        "id": "XNqjzQzrkVG7",
        "colab_type": "code",
        "outputId": "8c05afce-6eb8-401f-ca18-11a3a495fac0",
        "colab": {
          "base_uri": "https://localhost:8080/",
          "height": 281
        }
      },
      "source": [
        "import math\n",
        "import numpy as np\n",
        "import matplotlib.pyplot as plt\n",
        "\n",
        "# Starting vector\n",
        "green = [1, 1]\n",
        "\n",
        "# Multiply by scalars\n",
        "red = np.multiply(-3, green)\n",
        "orange = np.multiply(-2, green)\n",
        "yellow = np.multiply(-1, green)\n",
        "blue = np.multiply(2, green)\n",
        "violet = np.multiply(3, green)\n",
        "\n",
        "# Scaled collinear vectors from origin\n",
        "# Order matters – plot biggest vectors first, then smaller ones so smaller ones don't get covered\n",
        "plt.arrow(0, 0, violet[0], violet[1], head_width=.2, head_length=.2, color='darkviolet')\n",
        "plt.arrow(0, 0, blue[0], blue[1], head_width=.2, head_length=.2, color='blue')\n",
        "plt.arrow(0, 0, green[0], green[1], head_width=.2, head_length=.2, color='green')\n",
        "plt.arrow(0, 0, red[0], red[1], head_width=.2, head_length=.2, color='red')\n",
        "plt.arrow(0, 0, orange[0], orange[1], head_width=.2, head_length=.2, color='orange')\n",
        "plt.arrow(0, 0, yellow[0], yellow[1], head_width=.2, head_length=.2, color='yellow')\n",
        "\n",
        "# Set x and y coordinate limits\n",
        "plt.xlim(-3.5, 3.5)\n",
        "plt.ylim(-3.5, 3.5)\n",
        "\n",
        "# Add gridlines\n",
        "plt.grid(b=True)\n",
        "\n",
        "# Bolden x & y axes\n",
        "plt.axhline(y=0, color='k')\n",
        "plt.axvline(x=0, color='k')\n",
        "\n",
        "plt.title('Two-Dimensional Collinear Vectors')\n",
        "plt.show()\n"
      ],
      "execution_count": 1,
      "outputs": [
        {
          "output_type": "display_data",
          "data": {
            "image/png": "[encoded data removed]",
            "text/plain": [
              "<Figure size 432x288 with 1 Axes>"
            ]
          },
          "metadata": {
            "tags": [],
            "needs_background": "light"
          }
        }
      ]
    },
    {
      "cell_type": "code",
      "metadata": {
        "id": "pz5V91z6GxP9",
        "colab_type": "code",
        "outputId": "53766a3d-4ae8-4d2b-9ae2-309a940b80d8",
        "colab": {
          "base_uri": "https://localhost:8080/",
          "height": 281
        }
      },
      "source": [
        "# Non-collinear vectors\n",
        "red = np.array([0.1, 0.4])\n",
        "green = np.array([0.3, 0.1])\n",
        "blue = np.array([0.7, 0.5])\n",
        "\n",
        "# Plot vectors\n",
        "plt.arrow(0, 0, red[0], red[1], head_width=.02, head_length=.02, color='r')\n",
        "plt.arrow(0, 0, green[0], green[1], head_width=.02, head_length=.02, color='g')\n",
        "plt.arrow(0, 0, blue[0], blue[1], head_width=.02, head_length=.02, color='b')\n",
        "\n",
        "# Set x and y coordinate limits\n",
        "plt.xlim(0, 1)\n",
        "plt.ylim(0, 1)\n",
        "\n",
        "# Add gridlines\n",
        "plt.grid(b=True)\n",
        "\n",
        "plt.title('Two-Dimensional Vectors')\n",
        "\n",
        "plt.show()"
      ],
      "execution_count": 2,
      "outputs": [
        {
          "output_type": "display_data",
          "data": {
            "image/png": "[encoded data removed]",
            "text/plain": [
              "<Figure size 432x288 with 1 Axes>"
            ]
          },
          "metadata": {
            "tags": [],
            "needs_background": "light"
          }
        }
      ]
    },
    {
      "cell_type": "markdown",
      "metadata": {
        "id": "unKFT619lk3e",
        "colab_type": "text"
      },
      "source": [
        "## 1.2 Create a three-dimensional vecor and plot it on a graph"
      ]
    },
    {
      "cell_type": "code",
      "metadata": {
        "id": "atUEd3T6llKm",
        "colab_type": "code",
        "outputId": "edc65bd8-5a56-4fc9-f2df-4d7edbfcecc2",
        "colab": {
          "base_uri": "https://localhost:8080/",
          "height": 248
        }
      },
      "source": [
        "from mpl_toolkits.mplot3d import Axes3D\n",
        "import numpy as np\n",
        "\n",
        "# Same x, y coordinate as above, with new z coordinate\n",
        "red = [0.1, 0.4, 0.3]\n",
        "green = [0.3,0.1,0.7]\n",
        "blue = [0.7,0.5,0.1]\n",
        "\n",
        "vectors = np.array([\n",
        "                    [0,0,0,0.1, 0.4, 0.3],\n",
        "                    [0,0,0,0.3,0.1,0.7],\n",
        "                    [0,0,0,0.7,0.5,0.1]\n",
        "                    ])\n",
        "\n",
        "fig = plt.figure()\n",
        "\n",
        "# Element-wise assignment through *args unpacking\n",
        "X, Y, Z, U, V, W = zip(*vectors)\n",
        "\n",
        "# 1x1 grid, 1st subplot\n",
        "ax = fig.add_subplot(1,1,1, projection='3d')\n",
        "ax.quiver(X, Y, Z, U, V, W, length=1) # Plot a field of arrows.\n",
        "\n",
        "ax.set_xlim([0, 1])\n",
        "ax.set_ylim([0, 1])\n",
        "ax.set_zlim([0, 1])\n",
        "\n",
        "ax.set_xlabel('X', labelpad=5)\n",
        "ax.set_ylabel('Y', labelpad=5)\n",
        "ax.set_zlabel('Z', labelpad=5)\n",
        "\n",
        "ax.set_title('Three-Dimensional Vectors, Scaled')\n",
        "\n",
        "plt.show()"
      ],
      "execution_count": 3,
      "outputs": [
        {
          "output_type": "display_data",
          "data": {
            "image/png": "[encoded data removed]",
            "text/plain": [
              "<Figure size 432x288 with 1 Axes>"
            ]
          },
          "metadata": {
            "tags": [],
            "needs_background": "light"
          }
        }
      ]
    },
    {
      "cell_type": "markdown",
      "metadata": {
        "id": "b7qFxbKxZmI2",
        "colab_type": "text"
      },
      "source": [
        "## 1.3 Scale the vectors you created in 1.1 by $5$, $\\pi$, and $-e$ and plot all four vectors (original + 3 scaled vectors) on a graph. What do you notice about these vectors? "
      ]
    },
    {
      "cell_type": "code",
      "metadata": {
        "id": "ah6zMSLJdJwL",
        "colab_type": "code",
        "outputId": "b2126035-5709-473a-a353-0e884372f7d1",
        "colab": {
          "base_uri": "https://localhost:8080/",
          "height": 281
        }
      },
      "source": [
        "from math import e, pi\n",
        "\n",
        "# We'll use the non-collinear vectors\n",
        "red = np.array([0.1, 0.4])\n",
        "green = np.array([0.3, 0.1])\n",
        "blue = np.array([0.7, 0.5])\n",
        "\n",
        "# Multiply by specified scalars\n",
        "green_scaled = np.multiply(5, green)\n",
        "red_scaled = np.multiply(math.pi, red)\n",
        "blue_scaled = np.multiply(math.e, blue)\n",
        "\n",
        "# Plot vectors and their corresponding scaled versions in same color\n",
        "plt.arrow(0, 0, red[0], red[1], head_width=.05, head_length=.05, color='r')\n",
        "plt.arrow(0, 0, red_scaled[0], red_scaled[1], head_width=.05, head_length=.05, color='r')\n",
        "plt.arrow(0, 0, green[0], green[1], head_width=.05, head_length=.05, color='g')\n",
        "plt.arrow(0, 0, green_scaled[0], green_scaled[1], head_width=.05, head_length=.05, color='g')\n",
        "plt.arrow(0, 0, blue[0], blue[1], head_width=.05, head_length=.05, color='b')\n",
        "plt.arrow(0, 0, blue_scaled[0], blue_scaled[1], head_width=.05, head_length=.05, color='b')\n",
        "\n",
        "# Set x and y coordinate limits\n",
        "plt.xlim(0, 2)\n",
        "plt.ylim(0, 2)\n",
        "\n",
        "# Add gridlines\n",
        "plt.grid(b=True)\n",
        "\n",
        "plt.title('Two Dimensional Color-Coded Vectors, Scaled')\n",
        "plt.show()"
      ],
      "execution_count": 4,
      "outputs": [
        {
          "output_type": "display_data",
          "data": {
            "image/png": "[encoded data removed]",
            "text/plain": [
              "<Figure size 432x288 with 1 Axes>"
            ]
          },
          "metadata": {
            "tags": [],
            "needs_background": "light"
          }
        }
      ]
    },
    {
      "cell_type": "markdown",
      "metadata": {
        "id": "X8I5oyK4NEW4",
        "colab_type": "text"
      },
      "source": [
        "These new scaled vectors are collinear/linearly dependent. They're just a linear transformation of the old vectors. We can express one in terms of the other, and their overlap on the graph reflects that."
      ]
    },
    {
      "cell_type": "markdown",
      "metadata": {
        "id": "wrgqa6sWimbH",
        "colab_type": "text"
      },
      "source": [
        "## 1.4 Graph vectors $\\vec{a}$ and $\\vec{b}$ and plot them on a graph\n",
        "\n",
        "\\begin{align}\n",
        "\\vec{a} = \\begin{bmatrix} 5 \\\\ 7 \\end{bmatrix}\n",
        "\\qquad\n",
        "\\vec{b} = \\begin{bmatrix} 3 \\\\4 \\end{bmatrix}\n",
        "\\end{align}"
      ]
    },
    {
      "cell_type": "code",
      "metadata": {
        "id": "I1BGXA_skV-b",
        "colab_type": "code",
        "outputId": "0ad0ff95-a142-4b3d-b960-eee62acc6dde",
        "colab": {
          "base_uri": "https://localhost:8080/",
          "height": 269
        }
      },
      "source": [
        "a = np.array([5, 7])\n",
        "b = np.array([3, 4])\n",
        "plt.arrow(0, 0, a[0], a[1], head_width=.2, head_length=.2, color='cyan')\n",
        "plt.arrow(0, 0, b[0], b[1], head_width=.2, head_length=.2, color='fuchsia')\n",
        "\n",
        "plt.xlim(0, 6)\n",
        "plt.ylim(0, 8)\n",
        "\n",
        "plt.show()\n"
      ],
      "execution_count": 5,
      "outputs": [
        {
          "output_type": "display_data",
          "data": {
            "image/png": "[encoded data removed]",
            "text/plain": [
              "<Figure size 432x288 with 1 Axes>"
            ]
          },
          "metadata": {
            "tags": [],
            "needs_background": "light"
          }
        }
      ]
    },
    {
      "cell_type": "markdown",
      "metadata": {
        "id": "QN6RU_3gizpw",
        "colab_type": "text"
      },
      "source": [
        "## 1.5 find $\\vec{a} - \\vec{b}$ and plot the result on the same graph as $\\vec{a}$ and $\\vec{b}$. Is there a relationship between vectors $\\vec{a} \\thinspace, \\vec{b} \\thinspace \\text{and} \\thinspace \\vec{a-b}$"
      ]
    },
    {
      "cell_type": "code",
      "metadata": {
        "id": "68sWHIOPkXp5",
        "colab_type": "code",
        "outputId": "54e48b94-01aa-417b-9f7f-a983baea9d0d",
        "colab": {
          "base_uri": "https://localhost:8080/",
          "height": 269
        }
      },
      "source": [
        "# Use element-wise operations of ndarrays\n",
        "a = np.array([5, 7])\n",
        "b = np.array([3, 4])\n",
        "c = a - b\n",
        "\n",
        "plt.arrow(0, 0, a[0], a[1], head_width=.2, head_length=.2, color='cyan')\n",
        "plt.arrow(0, 0, b[0], b[1], head_width=.2, head_length=.2, color='fuchsia')\n",
        "plt.arrow(0, 0, c[0], c[1], head_width=.2, head_length=.2, color='lime')\n",
        "\n",
        "plt.xlim(0, 6)\n",
        "plt.ylim(0, 8)\n",
        "\n",
        "plt.show()"
      ],
      "execution_count": 6,
      "outputs": [
        {
          "output_type": "display_data",
          "data": {
            "image/png": "[encoded data removed]",
            "text/plain": [
              "<Figure size 432x288 with 1 Axes>"
            ]
          },
          "metadata": {
            "tags": [],
            "needs_background": "light"
          }
        }
      ]
    },
    {
      "cell_type": "markdown",
      "metadata": {
        "id": "VN3CE0iDSEJE",
        "colab_type": "text"
      },
      "source": [
        "Here, $\\vec{a-b}$ is plotted from the origin, but by definition it has the same magnitude (norm) and direction as the vector connecting the tip of $\\vec{b}$ (in fuchsia) to the tip of $\\vec{a}$ (in cyan). It's the missing piece in a triangle that starts from the tip of the fuchsia arrow $\\vec{b}$ and ends at the tip of the cyan arrow $\\vec{a}$."
      ]
    },
    {
      "cell_type": "code",
      "metadata": {
        "id": "zWLoYsjAkSBz",
        "colab_type": "code",
        "outputId": "2a233184-a1f8-4b34-d46e-54be90e0b6b7",
        "colab": {
          "base_uri": "https://localhost:8080/",
          "height": 269
        }
      },
      "source": [
        "# Geometric demonstration\n",
        "a = np.array([5, 7])\n",
        "b = np.array([3, 4])\n",
        "c = a - b\n",
        "\n",
        "plt.arrow(0, 0, a[0], a[1], head_width=.01, head_length=.01, color='cyan')\n",
        "plt.arrow(0, 0, b[0], b[1], head_width=.01, head_length=.01, color='fuchsia')\n",
        "plt.arrow(b[0], b[1], c[0], c[1], head_width=.01, head_length=.01, color='lime')\n",
        "\n",
        "plt.xlim(0, 6)\n",
        "plt.ylim(0, 8)\n",
        "\n",
        "plt.show()"
      ],
      "execution_count": 7,
      "outputs": [
        {
          "output_type": "display_data",
          "data": {
            "image/png": "[encoded data removed]",
            "text/plain": [
              "<Figure size 432x288 with 1 Axes>"
            ]
          },
          "metadata": {
            "tags": [],
            "needs_background": "light"
          }
        }
      ]
    },
    {
      "cell_type": "markdown",
      "metadata": {
        "id": "1ZPVuJAlehu_",
        "colab_type": "text"
      },
      "source": [
        "## 1.6 Find $c \\cdot d$\n",
        "\n",
        "\\begin{align}\n",
        "\\vec{c} = \\begin{bmatrix}7 & 22 & 4 & 16\\end{bmatrix}\n",
        "\\qquad\n",
        "\\vec{d} = \\begin{bmatrix}12 & 6 & 2 & 9\\end{bmatrix}\n",
        "\\end{align}\n"
      ]
    },
    {
      "cell_type": "code",
      "metadata": {
        "id": "2_cZQFCskYNr",
        "colab_type": "code",
        "outputId": "d301eac7-2419-4220-8c78-8ee3e791bb42",
        "colab": {
          "base_uri": "https://localhost:8080/",
          "height": 34
        }
      },
      "source": [
        "c = np.array([7, 22, 4, 16])\n",
        "d = np.array([12, 6, 2, 9])\n",
        "dot_product = np.dot(c, d)\n",
        "dot_product"
      ],
      "execution_count": 8,
      "outputs": [
        {
          "output_type": "execute_result",
          "data": {
            "text/plain": [
              "368"
            ]
          },
          "metadata": {
            "tags": []
          },
          "execution_count": 8
        }
      ]
    },
    {
      "cell_type": "code",
      "metadata": {
        "id": "humSFvTyXDmx",
        "colab_type": "code",
        "outputId": "f06a9afc-aada-4056-c849-4909fea0a05a",
        "colab": {
          "base_uri": "https://localhost:8080/",
          "height": 34
        }
      },
      "source": [
        "c = np.array([7, 22, 4, 16])\n",
        "d = np.array([12, 6, 2, 9])\n",
        "\n",
        "dot_product = np.vdot(c,d)\n",
        "dot_product"
      ],
      "execution_count": 9,
      "outputs": [
        {
          "output_type": "execute_result",
          "data": {
            "text/plain": [
              "368"
            ]
          },
          "metadata": {
            "tags": []
          },
          "execution_count": 9
        }
      ]
    },
    {
      "cell_type": "markdown",
      "metadata": {
        "id": "cLm8yokpfg9B",
        "colab_type": "text"
      },
      "source": [
        "##  1.7 Find $e \\times f$\n",
        "\n",
        "\\begin{align}\n",
        "\\vec{e} = \\begin{bmatrix} 5 \\\\ 7 \\\\ 2 \\end{bmatrix}\n",
        "\\qquad\n",
        "\\vec{f} = \\begin{bmatrix} 3 \\\\4 \\\\ 6 \\end{bmatrix}\n",
        "\\end{align}"
      ]
    },
    {
      "cell_type": "code",
      "metadata": {
        "id": "ku-TdCKAkYs8",
        "colab_type": "code",
        "outputId": "68e45172-357f-4af6-b90d-4f1836531ba3",
        "colab": {
          "base_uri": "https://localhost:8080/",
          "height": 34
        }
      },
      "source": [
        "e = np.array([5,7,2])\n",
        "f = np.array([3,4,6])\n",
        "cross_product = np.cross(e,f)\n",
        "cross_product"
      ],
      "execution_count": 10,
      "outputs": [
        {
          "output_type": "execute_result",
          "data": {
            "text/plain": [
              "array([ 34, -24,  -1])"
            ]
          },
          "metadata": {
            "tags": []
          },
          "execution_count": 10
        }
      ]
    },
    {
      "cell_type": "markdown",
      "metadata": {
        "id": "-TN8wO2-h53s",
        "colab_type": "text"
      },
      "source": [
        "## 1.8 Find $||g||$ and then find $||h||$. Which is longer?\n",
        "\n",
        "\\begin{align}\n",
        "\\vec{g} = \\begin{bmatrix} 1 \\\\ 1 \\\\ 1 \\\\ 8 \\end{bmatrix}\n",
        "\\qquad\n",
        "\\vec{h} = \\begin{bmatrix} 3 \\\\3 \\\\ 3 \\\\ 3 \\end{bmatrix}\n",
        "\\end{align}"
      ]
    },
    {
      "cell_type": "code",
      "metadata": {
        "id": "-5VKOMKBlgaA",
        "colab_type": "code",
        "outputId": "6daea7fb-eedd-436f-dc40-d03255f9fd78",
        "colab": {
          "base_uri": "https://localhost:8080/",
          "height": 52
        }
      },
      "source": [
        "g = np.array([1,1,1,8])\n",
        "h = np.array([3,3,3,3])\n",
        "\n",
        "# g is bigger\n",
        "print('g:', np.linalg.norm(g)) # 8.18\n",
        "print('h:', np.linalg.norm(h)) # 6.0"
      ],
      "execution_count": 11,
      "outputs": [
        {
          "output_type": "stream",
          "text": [
            "g: 8.18535277187245\n",
            "h: 6.0\n"
          ],
          "name": "stdout"
        }
      ]
    },
    {
      "cell_type": "markdown",
      "metadata": {
        "id": "njrWIMS-ZAoH",
        "colab_type": "text"
      },
      "source": [
        "# Part 2 - Matrices"
      ]
    },
    {
      "cell_type": "markdown",
      "metadata": {
        "id": "GjkcAVIOmOnn",
        "colab_type": "text"
      },
      "source": [
        "## 2.1 What are the dimensions of the following matrices? Which of the following can be multiplied together? See if you can find all of the different legal combinations.\n",
        "\\begin{align}\n",
        "A = \\begin{bmatrix}\n",
        "1 & 2 \\\\\n",
        "3 & 4 \\\\\n",
        "5 & 6\n",
        "\\end{bmatrix}\n",
        "\\qquad\n",
        "B = \\begin{bmatrix}\n",
        "2 & 4 & 6 \\\\\n",
        "\\end{bmatrix}\n",
        "\\qquad\n",
        "C = \\begin{bmatrix}\n",
        "9 & 6 & 3 \\\\\n",
        "4 & 7 & 11\n",
        "\\end{bmatrix}\n",
        "\\qquad\n",
        "D = \\begin{bmatrix}\n",
        "1 & 0 & 0 \\\\\n",
        "0 & 1 & 0 \\\\\n",
        "0 & 0 & 1\n",
        "\\end{bmatrix}\n",
        "\\qquad\n",
        "E = \\begin{bmatrix}\n",
        "1 & 3 \\\\\n",
        "5 & 7\n",
        "\\end{bmatrix}\n",
        "\\end{align}"
      ]
    },
    {
      "cell_type": "code",
      "metadata": {
        "id": "Z69c-uPtnbIx",
        "colab_type": "code",
        "colab": {}
      },
      "source": [
        "# 3x2\n",
        "A = np.array([\n",
        "              [1,2],\n",
        "              [3,4],\n",
        "              [5,6]\n",
        "              ])\n",
        "# 1x3\n",
        "B = np.array([\n",
        "              [2,4,6]\n",
        "              ])\n",
        "# 2x3\n",
        "C = np.array([\n",
        "              [9,6,3],\n",
        "              [4,7,11]\n",
        "              ])\n",
        "# 3x3\n",
        "D = np.identity(3)\n",
        "\n",
        "# 2x2\n",
        "E = np.array([\n",
        "              [1,3],\n",
        "              [5,7]\n",
        "              ])"
      ],
      "execution_count": 0,
      "outputs": []
    },
    {
      "cell_type": "markdown",
      "metadata": {
        "id": "mPtjgogmODak",
        "colab_type": "text"
      },
      "source": [
        "10 allowable combinations:\n",
        "1. **A** x **C**\n",
        "2. **A** x **E**\n",
        "3. **B** x **A**\n",
        "4. **B** x **D**\n",
        "5. **C** x **A**\n",
        "6. **C** x **D**\n",
        "7. **D** x **A**\n",
        "8. **D** x **D**\n",
        "9. **E** x **C**\n",
        "10. **E** x **E**"
      ]
    },
    {
      "cell_type": "code",
      "metadata": {
        "id": "Bnyc9csDUL_x",
        "colab_type": "code",
        "outputId": "49123ca9-6cab-411f-cc70-d8d128abc907",
        "colab": {
          "base_uri": "https://localhost:8080/",
          "height": 208
        }
      },
      "source": [
        "# Personal stretch: How to programmatically check and count 2D matrix multiplicability?\n",
        "shapes = [matrix.shape for matrix in [A,B,C,D,E]]\n",
        "\n",
        "count = 0; pairs = []\n",
        "for a, b in shapes:\n",
        "  for i in range(len(shapes)):\n",
        "    if b == shapes[i][0]: # If column count of one matrix == row count of another matrix\n",
        "      pairs.append([(a,b), (shapes[i][0], shapes[i][1])]) # Add their shapes as a pair to a initialized list\n",
        "      count += 1 # And increment the count by 1\n",
        "\n",
        "print(f'There are {count} legal matrix multiplications.')\n",
        "pairs"
      ],
      "execution_count": 13,
      "outputs": [
        {
          "output_type": "stream",
          "text": [
            "There are 10 legal matrix multiplications.\n"
          ],
          "name": "stdout"
        },
        {
          "output_type": "execute_result",
          "data": {
            "text/plain": [
              "[[(3, 2), (2, 3)],\n",
              " [(3, 2), (2, 2)],\n",
              " [(1, 3), (3, 2)],\n",
              " [(1, 3), (3, 3)],\n",
              " [(2, 3), (3, 2)],\n",
              " [(2, 3), (3, 3)],\n",
              " [(3, 3), (3, 2)],\n",
              " [(3, 3), (3, 3)],\n",
              " [(2, 2), (2, 3)],\n",
              " [(2, 2), (2, 2)]]"
            ]
          },
          "metadata": {
            "tags": []
          },
          "execution_count": 13
        }
      ]
    },
    {
      "cell_type": "markdown",
      "metadata": {
        "id": "lMOlCoM3ncGa",
        "colab_type": "text"
      },
      "source": [
        "## 2.2 Find the following products: CD, AE, and BA. What are the dimensions of the resulting matrices? How does that relate to the dimensions of their factor matrices?"
      ]
    },
    {
      "cell_type": "markdown",
      "metadata": {
        "id": "frPPzl9lUJBX",
        "colab_type": "text"
      },
      "source": [
        "If two matrices can be multiplied, they can be multiplied in reverse order if and only if the row count of the first matrix == the column count of the second matrix. Equivalently (and more intuitively):\n",
        "\n",
        "Let **A** and **B** be matrices of any dimension.\n",
        "\n",
        "If **A**x**B** = **C** is allowed, then **B**x**A** is allowed if and only if C is a square matrix.\n",
        "\n",
        "If **C** is not a square matrix, the swapped multiplication (**B**x**A**) is not allowed."
      ]
    },
    {
      "cell_type": "code",
      "metadata": {
        "id": "zhKwiSItoE2F",
        "colab_type": "code",
        "outputId": "674b74dc-7e04-4e82-911b-270a04eeef6e",
        "colab": {
          "base_uri": "https://localhost:8080/",
          "height": 86
        }
      },
      "source": [
        "# If a matrix's # rows == another matrix's # columns, they can be multiplied\n",
        "# The resulting matrix will have the the row # of the first matrix, column # of the second\n",
        "\n",
        "CD = np.matmul(C, D)\n",
        "print(CD)\n",
        "print()\n",
        "assert CD.shape[0] == C.shape[0], CD.shape[1] == D.shape[1]\n",
        "print(C.shape, D.shape, '-->', CD.shape) # 2x3 X 3x3 –> 2x3"
      ],
      "execution_count": 14,
      "outputs": [
        {
          "output_type": "stream",
          "text": [
            "[[ 9.  6.  3.]\n",
            " [ 4.  7. 11.]]\n",
            "\n",
            "(2, 3) (3, 3) --> (2, 3)\n"
          ],
          "name": "stdout"
        }
      ]
    },
    {
      "cell_type": "code",
      "metadata": {
        "id": "zY_Gg2Vzk0th",
        "colab_type": "code",
        "outputId": "15d10dac-6606-4be8-989d-848aa2ef79c8",
        "colab": {
          "base_uri": "https://localhost:8080/",
          "height": 104
        }
      },
      "source": [
        "AE = np.matmul(A, E)\n",
        "print(AE)\n",
        "print()\n",
        "assert AE.shape[0] == A.shape[0], AE.shape[1] == E.shape[1]\n",
        "print(A.shape, E.shape, '-->', AE.shape) # 3x2 X 2x2 –> 3x2"
      ],
      "execution_count": 15,
      "outputs": [
        {
          "output_type": "stream",
          "text": [
            "[[11 17]\n",
            " [23 37]\n",
            " [35 57]]\n",
            "\n",
            "(3, 2) (2, 2) --> (3, 2)\n"
          ],
          "name": "stdout"
        }
      ]
    },
    {
      "cell_type": "code",
      "metadata": {
        "id": "zzR7xGUwk38F",
        "colab_type": "code",
        "outputId": "b0201a12-abf8-4a5b-876c-b5b2bf3a44b1",
        "colab": {
          "base_uri": "https://localhost:8080/",
          "height": 69
        }
      },
      "source": [
        "BA = np.matmul(B, A)\n",
        "print(BA)\n",
        "print()\n",
        "assert BA.shape[0] == B.shape[0], BA.shape[1] == A.shape[1]\n",
        "print(B.shape, A.shape, '-->', BA.shape) # 1x3 X 3x2 –> 1x2"
      ],
      "execution_count": 16,
      "outputs": [
        {
          "output_type": "stream",
          "text": [
            "[[44 56]]\n",
            "\n",
            "(1, 3) (3, 2) --> (1, 2)\n"
          ],
          "name": "stdout"
        }
      ]
    },
    {
      "cell_type": "markdown",
      "metadata": {
        "id": "p2jmaGLgoFPN",
        "colab_type": "text"
      },
      "source": [
        "## 2.3  Find $F^{T}$. How are the numbers along the main diagonal (top left to bottom right) of the original matrix and its transpose related? What are the dimensions of $F$? What are the dimensions of $F^{T}$?\n",
        "\n",
        "\\begin{align}\n",
        "F = \n",
        "\\begin{bmatrix}\n",
        "20 & 19 & 18 & 17 \\\\\n",
        "16 & 15 & 14 & 13 \\\\\n",
        "12 & 11 & 10 & 9 \\\\\n",
        "8 & 7 & 6 & 5 \\\\\n",
        "4 & 3 & 2 & 1\n",
        "\\end{bmatrix}\n",
        "\\end{align}"
      ]
    },
    {
      "cell_type": "code",
      "metadata": {
        "id": "Wl3ElwgLqaAn",
        "colab_type": "code",
        "outputId": "092d16af-c62a-4666-cfe8-993f11b05d8c",
        "colab": {
          "base_uri": "https://localhost:8080/",
          "height": 104
        }
      },
      "source": [
        "F = np.array([\n",
        "              [20, 19, 18, 17],\n",
        "              [16, 15, 14, 13],\n",
        "              [12, 11, 10,  9],\n",
        "              [8,  7,   6,  5],\n",
        "              [4,  3,   2,  1]\n",
        "              ])\n",
        "\n",
        "# F is not a square matrix, so transposing it (swapping its rows and columns)\n",
        "# will make a matrix of different dimensions\n",
        "\n",
        "# F's rows are now F.T's columns; F's columns are now F.T's rows\n",
        "assert F.shape[0] == F.T.shape[1], F.shap[1] == F.T.shape[0]\n",
        "print(f\"Shape of F: {F.shape}\")\n",
        "print(f\"Shape of F transpose: {F.T.shape}\")\n",
        "\n",
        "print()\n",
        "\n",
        "# Same values in main diagonal, by definition\n",
        "print(f\"Diagonal values of F: {F.diagonal()}\")\n",
        "print(f\"Diagonal values of F transpose: {F.T.diagonal()}\")"
      ],
      "execution_count": 17,
      "outputs": [
        {
          "output_type": "stream",
          "text": [
            "Shape of F: (5, 4)\n",
            "Shape of F transpose: (4, 5)\n",
            "\n",
            "Diagonal values of F: [20 15 10  5]\n",
            "Diagonal values of F transpose: [20 15 10  5]\n"
          ],
          "name": "stdout"
        }
      ]
    },
    {
      "cell_type": "markdown",
      "metadata": {
        "id": "13ik2LEEZLHn",
        "colab_type": "text"
      },
      "source": [
        "# Part 3 - Square Matrices"
      ]
    },
    {
      "cell_type": "markdown",
      "metadata": {
        "id": "sDBAPUwfp7f7",
        "colab_type": "text"
      },
      "source": [
        "## 3.1 Find $IG$ (be sure to show your work) 😃\n",
        "\n",
        "You don't have to do anything crazy complicated here to show your work, just create the G matrix as specified below, and a corresponding 2x2 Identity matrix and then multiply them together to show the result. You don't need to write LaTeX or anything like that (unless you want to).\n",
        "\n",
        "\\begin{align}\n",
        "G= \n",
        "\\begin{bmatrix}\n",
        "13 & 14 \\\\\n",
        "21 & 12 \n",
        "\\end{bmatrix}\n",
        "\\end{align}"
      ]
    },
    {
      "cell_type": "code",
      "metadata": {
        "id": "ZnqvZBOYqar3",
        "colab_type": "code",
        "outputId": "7a77de68-2067-40e6-bcbe-fa25e255d801",
        "colab": {
          "base_uri": "https://localhost:8080/",
          "height": 52
        }
      },
      "source": [
        "G = np.array([\n",
        "              [13,14],\n",
        "              [21,12]\n",
        "              ])\n",
        "I = np.identity(2)\n",
        "IG = np.matmul(G, I)\n",
        "IG"
      ],
      "execution_count": 18,
      "outputs": [
        {
          "output_type": "execute_result",
          "data": {
            "text/plain": [
              "array([[13., 14.],\n",
              "       [21., 12.]])"
            ]
          },
          "metadata": {
            "tags": []
          },
          "execution_count": 18
        }
      ]
    },
    {
      "cell_type": "markdown",
      "metadata": {
        "id": "DZ_0XTDQqpMT",
        "colab_type": "text"
      },
      "source": [
        "## 3.2 Find $|H|$ and then find $|J|$.\n",
        "\n",
        "\\begin{align}\n",
        "H= \n",
        "\\begin{bmatrix}\n",
        "12 & 11 \\\\\n",
        "7 & 10 \n",
        "\\end{bmatrix}\n",
        "\\qquad\n",
        "J= \n",
        "\\begin{bmatrix}\n",
        "0 & 1 & 2 \\\\\n",
        "7 & 10 & 4 \\\\\n",
        "3 & 2 & 0\n",
        "\\end{bmatrix}\n",
        "\\end{align}\n"
      ]
    },
    {
      "cell_type": "code",
      "metadata": {
        "id": "5QShhoXyrjDS",
        "colab_type": "code",
        "outputId": "5a8213ce-3901-4b4b-89f9-6bd487bae185",
        "colab": {
          "base_uri": "https://localhost:8080/",
          "height": 52
        }
      },
      "source": [
        "H = np.array([\n",
        "              [12, 11],\n",
        "              [7, 10]\n",
        "              ])\n",
        "\n",
        "J = np.array([\n",
        "              [0, 1, 2],\n",
        "              [7, 10, 4],\n",
        "              [3, 2, 0]\n",
        "              ])\n",
        "\n",
        "print(f\"H Norm: {np.linalg.norm(H)}\")\n",
        "print(f\"J Norm: {np.linalg.norm(J)}\")"
      ],
      "execution_count": 19,
      "outputs": [
        {
          "output_type": "stream",
          "text": [
            "H Norm: 20.346989949375804\n",
            "J Norm: 13.527749258468683\n"
          ],
          "name": "stdout"
        }
      ]
    },
    {
      "cell_type": "markdown",
      "metadata": {
        "id": "2gZl1CFwrXSH",
        "colab_type": "text"
      },
      "source": [
        "## 3.3 Find $H^{-1}$ and then find $J^{-1}$"
      ]
    },
    {
      "cell_type": "code",
      "metadata": {
        "id": "nyX6De2-rio1",
        "colab_type": "code",
        "outputId": "c7455d6d-1cbd-47fc-cacc-dbe2df02d48b",
        "colab": {
          "base_uri": "https://localhost:8080/",
          "height": 121
        }
      },
      "source": [
        "H_inv = np.linalg.inv(H)\n",
        "print(H_inv)\n",
        "\n",
        "print()\n",
        "\n",
        "J_inv = np.linalg.inv(J)\n",
        "print(J_inv)"
      ],
      "execution_count": 20,
      "outputs": [
        {
          "output_type": "stream",
          "text": [
            "[[ 0.23255814 -0.25581395]\n",
            " [-0.1627907   0.27906977]]\n",
            "\n",
            "[[ 0.4  -0.2   0.8 ]\n",
            " [-0.6   0.3  -0.7 ]\n",
            " [ 0.8  -0.15  0.35]]\n"
          ],
          "name": "stdout"
        }
      ]
    },
    {
      "cell_type": "markdown",
      "metadata": {
        "id": "Vvd4Pe86rjhW",
        "colab_type": "text"
      },
      "source": [
        "## 3.4 Find $HH^{-1}$ and then find $J^{-1}J$. Is $HH^{-1} == J^{-1}J$? Why or Why not? \n",
        "\n",
        "Please ignore Python rounding errors. If necessary, format your output so that it rounds to 5 significant digits (the fifth decimal place)."
      ]
    },
    {
      "cell_type": "code",
      "metadata": {
        "id": "1fbSD2LtpwJe",
        "colab_type": "code",
        "outputId": "1d946e3f-db46-4cc0-96c4-81a1dc3ea15e",
        "colab": {
          "base_uri": "https://localhost:8080/",
          "height": 104
        }
      },
      "source": [
        "# HH^-1 == identity matrix of similar dimension\n",
        "print(np.matmul(H, H_inv).round(5) == np.identity(H.shape[0])) # Only takes 1 val since it's a square\n",
        "print()\n",
        "print(np.matmul(H, H_inv).round(5))"
      ],
      "execution_count": 21,
      "outputs": [
        {
          "output_type": "stream",
          "text": [
            "[[ True  True]\n",
            " [ True  True]]\n",
            "\n",
            "[[1. 0.]\n",
            " [0. 1.]]\n"
          ],
          "name": "stdout"
        }
      ]
    },
    {
      "cell_type": "code",
      "metadata": {
        "id": "SZUOult6WruZ",
        "colab_type": "code",
        "outputId": "c72ee710-f13e-4162-f0a5-ad527b76d34e",
        "colab": {
          "base_uri": "https://localhost:8080/",
          "height": 139
        }
      },
      "source": [
        "# JJ^-1 == identity matrix of similar dimension\n",
        "print(np.matmul(J, J_inv).round(5) == np.identity(J.shape[0]))\n",
        "print()\n",
        "print(np.matmul(J, J_inv).round(5))"
      ],
      "execution_count": 22,
      "outputs": [
        {
          "output_type": "stream",
          "text": [
            "[[ True  True  True]\n",
            " [ True  True  True]\n",
            " [ True  True  True]]\n",
            "\n",
            "[[ 1. -0.  0.]\n",
            " [ 0.  1.  0.]\n",
            " [ 0.  0.  1.]]\n"
          ],
          "name": "stdout"
        }
      ]
    },
    {
      "cell_type": "markdown",
      "metadata": {
        "id": "r0pRQV-JrUkC",
        "colab_type": "text"
      },
      "source": [
        "A nonzero integer x multiplied by its reciprocal x^-1 == 1. (E.g. 2 multiplied by 1/2 == 1). \n",
        "\n",
        "Similarly, a matrix $A$ multiplied by its inverse $A^{-1}$  == the identity matrix – sort of like the matrix version of 1."
      ]
    },
    {
      "cell_type": "markdown",
      "metadata": {
        "id": "V0iTO4McYjtk",
        "colab_type": "text"
      },
      "source": [
        "# Stretch Goals: \n",
        "\n",
        "A reminder that these challenges are optional. If you finish your work quickly we welcome you to work on them. If there are other activities that you feel like will help your understanding of the above topics more, feel free to work on that. Topics from the Stretch Goals sections will never end up on Sprint Challenges. You don't have to do these in order, you don't have to do all of them. \n",
        "\n"
      ]
    },
    {
      "cell_type": "markdown",
      "metadata": {
        "id": "6Mb5JeFLWxAq",
        "colab_type": "text"
      },
      "source": [
        "Write a function that can calculate the dot product of any two vectors of equal length that are passed to it."
      ]
    },
    {
      "cell_type": "code",
      "metadata": {
        "id": "6FeEhAm6WxzD",
        "colab_type": "code",
        "colab": {}
      },
      "source": [
        "def dot_product(vec1, vec2):\n",
        "  \"\"\"Accepts two vectors.\n",
        "  Returns their dot product.\"\"\"\n",
        "  try:\n",
        "    return (vec1 * vec2).sum()\n",
        "  except ValueError:\n",
        "    print(\"Vector inputs must be same shape\")\n",
        "  except:\n",
        "    print(\"Something else went wrong\")\n",
        "\n",
        "# Test\n",
        "a = np.array([[1, 2]])\n",
        "b = np.array([[0, 1]])\n",
        "assert dot_product(a, b) == 2"
      ],
      "execution_count": 0,
      "outputs": []
    },
    {
      "cell_type": "markdown",
      "metadata": {
        "id": "7uq930XbPHx4",
        "colab_type": "text"
      },
      "source": [
        "Write a function that can calculate the norm of any vector"
      ]
    },
    {
      "cell_type": "code",
      "metadata": {
        "id": "q1qCxLWuYkvE",
        "colab_type": "code",
        "outputId": "edc1993f-9627-4983-e97c-198ad2da3291",
        "colab": {
          "base_uri": "https://localhost:8080/",
          "height": 34
        }
      },
      "source": [
        "def norm_finder(vec):\n",
        "  \"\"\"Accepts a vector of n dimensions, returns its norm.\"\"\"\n",
        "  import numpy as np # In case NumPy hasn't already been imported\n",
        "  vec = np.array(vec) # Cast as NumPy array\n",
        "  return np.sqrt([sum(v**2) for v in vec])\n",
        "\n",
        "c = np.array([[3, 4]])\n",
        "norm_finder(c)"
      ],
      "execution_count": 24,
      "outputs": [
        {
          "output_type": "execute_result",
          "data": {
            "text/plain": [
              "array([5.])"
            ]
          },
          "metadata": {
            "tags": []
          },
          "execution_count": 24
        }
      ]
    },
    {
      "cell_type": "markdown",
      "metadata": {
        "id": "-7mzRvcAPQC0",
        "colab_type": "text"
      },
      "source": [
        "Stretch: Plot two vectors that are not collinear on a 2d graph. Calculate the determinant of the 2x2 matrix that these vectors form. How does this determinant relate to the graphical interpretation of the vectors?"
      ]
    },
    {
      "cell_type": "code",
      "metadata": {
        "id": "qFI6hdgOaWfl",
        "colab_type": "code",
        "colab": {
          "base_uri": "https://localhost:8080/",
          "height": 298
        },
        "outputId": "533d1c13-e2bd-45df-92cf-98aa0b0b28c4"
      },
      "source": [
        "# # Not official stretch goal but still useful\n",
        "# def arrow_plotter_2D(*args):\n",
        "#   \"\"\"Accepts one or more ndarrays, returns them as arrows plotted from origin.\"\"\"\n",
        "#   return [plt.arrow(0, 0, arg[0], arg[1]) for arg in args]\n",
        "\n",
        "# Non-collinear vectors\n",
        "green = np.array([0.3, 0.1])\n",
        "red = np.array([0.1, 0.4])\n",
        "\n",
        "# Calculate determinant\n",
        "matrix = [green, red]\n",
        "\n",
        "determinant = np.linalg.det(matrix)\n",
        "print(f\"Determinant: {determinant}\")\n",
        "\n",
        "# Plot vectors\n",
        "plt.arrow(0, 0, green[0], green[1], head_width=.02, head_length=.02, color='g')\n",
        "plt.arrow(0, 0, red[0], red[1], head_width=.02, head_length=.02, color='r')\n",
        "\n",
        "# Set x and y coordinate limits\n",
        "plt.xlim(0, 1)\n",
        "plt.ylim(0, 1)\n",
        "\n",
        "# Add gridlines\n",
        "plt.grid(b=True)\n",
        "\n",
        "plt.title('Two-Dimensional Vectors')\n",
        "\n",
        "plt.show()\n"
      ],
      "execution_count": 26,
      "outputs": [
        {
          "output_type": "stream",
          "text": [
            "Determinant: 0.10999999999999997\n"
          ],
          "name": "stdout"
        },
        {
          "output_type": "display_data",
          "data": {
            "image/png": "[encoded data removed]",
            "text/plain": [
              "<Figure size 432x288 with 1 Axes>"
            ]
          },
          "metadata": {
            "tags": [],
            "needs_background": "light"
          }
        }
      ]
    },
    {
      "cell_type": "markdown",
      "metadata": {
        "id": "LaLiYEhx2nMi",
        "colab_type": "text"
      },
      "source": [
        "Graphically, the determinant is the factor by which a linear transformation changes any given area. \n",
        "- It answers the question \"Exactly how much does this transformation stretch or squish space?\"\n",
        "\n",
        "Under two conditions:\n",
        "   - Gridlines remain parallel and evenly spaced (no curves)\n",
        "   - The origin remains fixed\n",
        "\n",
        "The way a linear transformation changes any area == the way it changes *all* areas."
      ]
    },
    {
      "cell_type": "code",
      "metadata": {
        "id": "GgckCNrv3IUT",
        "colab_type": "code",
        "colab": {}
      },
      "source": [
        ""
      ],
      "execution_count": 0,
      "outputs": []
    },
    {
      "cell_type": "markdown",
      "metadata": {
        "id": "my6eB5wrPJgq",
        "colab_type": "text"
      },
      "source": [
        "Prove to yourself again that the vectors in 1.9 are orthogonal by graphing them. "
      ]
    },
    {
      "cell_type": "markdown",
      "metadata": {
        "id": "OAGQlZnyPLGh",
        "colab_type": "text"
      },
      "source": [
        "Research how to plot a 3d graph with animations so that you can make the graph rotate (this will be easier in a local notebook than in google colab)"
      ]
    },
    {
      "cell_type": "markdown",
      "metadata": {
        "id": "2SkbJWOiPMgU",
        "colab_type": "text"
      },
      "source": [
        "Create and plot a matrix on a 2d graph."
      ]
    },
    {
      "cell_type": "markdown",
      "metadata": {
        "id": "kRhQ4-rsPNjV",
        "colab_type": "text"
      },
      "source": [
        "Create and plot a matrix on a 3d graph."
      ]
    }
  ]
}