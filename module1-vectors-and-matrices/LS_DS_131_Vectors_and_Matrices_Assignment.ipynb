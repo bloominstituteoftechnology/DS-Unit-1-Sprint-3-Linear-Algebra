{
  "nbformat": 4,
  "nbformat_minor": 0,
  "metadata": {
    "colab": {
      "name": "LS_DS_131_Vectors_and_Matrices_Assignment.ipynb",
      "provenance": [],
      "collapsed_sections": []
    },
    "kernelspec": {
      "display_name": "Python 3",
      "language": "python",
      "name": "python3"
    },
    "language_info": {
      "codemirror_mode": {
        "name": "ipython",
        "version": 3
      },
      "file_extension": ".py",
      "mimetype": "text/x-python",
      "name": "python",
      "nbconvert_exporter": "python",
      "pygments_lexer": "ipython3",
      "version": "3.8.1"
    },
    "pycharm": {
      "stem_cell": {
        "cell_type": "raw",
        "source": [],
        "metadata": {
          "collapsed": false
        }
      }
    }
  },
  "cells": [
    {
      "cell_type": "markdown",
      "metadata": {
        "colab_type": "text",
        "id": "yXA3GwWhY9KL"
      },
      "source": [
        "# Part 1 - Scalars and Vectors\n",
        "\n",
        "For the questions below it is not sufficient to simply provide answer to the questions, but you must solve the problems and show your work using python (the NumPy library will help a lot!) Translate the vectors and matrices into their appropriate python  representations and use numpy or functions that you write yourself to demonstrate the result or property. "
      ]
    },
    {
      "cell_type": "markdown",
      "metadata": {
        "colab_type": "text",
        "id": "oNOTv43_Zi9L"
      },
      "source": [
        "## 1.1 Create a two-dimensional vector and plot it on a graph"
      ]
    },
    {
      "cell_type": "code",
      "metadata": {
        "colab_type": "code",
        "id": "XNqjzQzrkVG7",
        "outputId": "5eb24eb0-4b03-4339-895e-0d0bfe8b526a",
        "colab": {
          "base_uri": "https://localhost:8080/",
          "height": 286
        }
      },
      "source": [
        "import matplotlib.pyplot as plt\n",
        "from math import e, pi\n",
        "from mpl_toolkits.mplot3d import Axes3D\n",
        "import numpy as np\n",
        "import scipy\n",
        "\n",
        "td = np.array([\n",
        "               [1, 2],\n",
        "               [8, 8]\n",
        "               ])\n",
        "\n",
        "X = td[0][0] \n",
        "Y = td[0][1]\n",
        "U = td[1][0]\n",
        "V = td[1][1]\n",
        "\n",
        "fig, ax = plt.subplots()\n",
        "q = ax.quiver(X, Y, U, V,\n",
        "              units='xy' ,\n",
        "              scale=1, \n",
        "              color='red')\n",
        "\n",
        "plt.grid()\n",
        "\n",
        "ax.set_aspect('equal')\n",
        "\n",
        "plt.xlim(0,20)\n",
        "plt.ylim(0,20)"
      ],
      "execution_count": 0,
      "outputs": [
        {
          "output_type": "execute_result",
          "data": {
            "text/plain": [
              "(0, 20)"
            ]
          },
          "metadata": {
            "tags": []
          },
          "execution_count": 78
        },
        {
          "output_type": "display_data",
          "data": {
            "image/png": "[encoded data removed]",
            "text/plain": [
              "<Figure size 432x288 with 1 Axes>"
            ]
          },
          "metadata": {
            "tags": []
          }
        }
      ]
    },
    {
      "cell_type": "markdown",
      "metadata": {
        "colab_type": "text",
        "id": "unKFT619lk3e"
      },
      "source": [
        "## 1.2 Create a three-dimensional vecor and plot it on a graph"
      ]
    },
    {
      "cell_type": "code",
      "metadata": {
        "colab_type": "code",
        "id": "atUEd3T6llKm",
        "outputId": "409b2f4c-130a-4736-ef7d-9081f98dbb19",
        "colab": {
          "base_uri": "https://localhost:8080/",
          "height": 248
        }
      },
      "source": [
        "td = np.array([\n",
        "               [0, 0, 0],\n",
        "               [15, 15, 15]\n",
        "               ])\n",
        "\n",
        "X = td[0][0] \n",
        "Y = td[0][1]\n",
        "Z = td[0][2]\n",
        "U = td[1][0]\n",
        "V = td[1][1]\n",
        "W = td[1][2]\n",
        "\n",
        "from mpl_toolkits.mplot3d import Axes3D\n",
        "fig = plt.figure()\n",
        "\n",
        "ax = fig.gca(projection='3d')\n",
        "ax.set_xlim3d(0, 20)\n",
        "ax.set_ylim3d(0, 20)\n",
        "ax.set_zlim3d(0, 20)\n",
        "\n",
        "ax.quiver(X, Y, Z, U, V, W, length=30, normalize = True)\n",
        "plt.show()\n"
      ],
      "execution_count": 0,
      "outputs": [
        {
          "output_type": "display_data",
          "data": {
            "image/png": "[encoded data removed]",
            "text/plain": [
              "<Figure size 432x288 with 1 Axes>"
            ]
          },
          "metadata": {
            "tags": []
          }
        }
      ]
    },
    {
      "cell_type": "markdown",
      "metadata": {
        "colab_type": "text",
        "id": "b7qFxbKxZmI2"
      },
      "source": [
        "## 1.3 Scale the vectors you created in 1.1 by $5$, $\\pi$, and $-e$ and plot all four vectors (original + 3 scaled vectors) on a graph. What do you notice about these vectors? "
      ]
    },
    {
      "cell_type": "code",
      "metadata": {
        "colab_type": "code",
        "id": "ah6zMSLJdJwL",
        "outputId": "ac5c0a04-84d4-4e95-b352-80e14f22bc60",
        "colab": {
          "base_uri": "https://localhost:8080/",
          "height": 51
        }
      },
      "source": [
        "print(e)\n",
        "print(pi)"
      ],
      "execution_count": 0,
      "outputs": [
        {
          "output_type": "stream",
          "text": [
            "2.718281828459045\n",
            "3.141592653589793\n"
          ],
          "name": "stdout"
        }
      ]
    },
    {
      "cell_type": "code",
      "metadata": {
        "colab_type": "code",
        "id": "3qpwDlzXkVf5",
        "outputId": "e2445b36-e1f0-4654-b2b0-e3e847795bd9",
        "colab": {
          "base_uri": "https://localhost:8080/",
          "height": 269
        }
      },
      "source": [
        "first = 5 * td\n",
        "second = pi * td\n",
        "third = -e * td\n",
        "\n",
        "\n",
        "fig, ax = plt.subplots()\n",
        "q = ax.quiver(first[0][0], \n",
        "              first[0][1], \n",
        "              first[1][0], \n",
        "              first[1][1],\n",
        "              units='xy' ,\n",
        "              scale=1, \n",
        "              color='red')\n",
        "\n",
        "q = ax.quiver(second[0][0], \n",
        "              second[0][1], \n",
        "              second[1][0], \n",
        "              second[1][1],\n",
        "              units='xy' ,\n",
        "              scale=1, \n",
        "              color='green')\n",
        "\n",
        "q = ax.quiver(third[0][0], \n",
        "              third[0][1], \n",
        "              third[1][0], \n",
        "              third[1][1],\n",
        "              units='xy' ,\n",
        "              scale=1, \n",
        "              color='blue')\n",
        "\n",
        "plt.grid()\n",
        "\n",
        "ax.set_aspect('equal')\n",
        "\n",
        "plt.xlim(-100,100)\n",
        "plt.ylim(-100,100)\n",
        "\n",
        "\n",
        "plt.show()"
      ],
      "execution_count": 0,
      "outputs": [
        {
          "output_type": "display_data",
          "data": {
            "image/png": "[encoded data removed]",
            "text/plain": [
              "<Figure size 432x288 with 1 Axes>"
            ]
          },
          "metadata": {
            "tags": []
          }
        }
      ]
    },
    {
      "cell_type": "markdown",
      "metadata": {
        "colab_type": "text",
        "id": "wrgqa6sWimbH"
      },
      "source": [
        "## 1.4 Graph vectors $\\vec{a}$ and $\\vec{b}$ and plot them on a graph\n",
        "\n",
        "\\begin{align}\n",
        "\\vec{a} = \\begin{bmatrix} 5 \\\\ 7 \\end{bmatrix}\n",
        "\\qquad\n",
        "\\vec{b} = \\begin{bmatrix} 3 \\\\4 \\end{bmatrix}\n",
        "\\end{align}"
      ]
    },
    {
      "cell_type": "code",
      "metadata": {
        "colab_type": "code",
        "id": "I1BGXA_skV-b",
        "outputId": "b7acb320-c96c-44a4-fa21-765a308ae499",
        "colab": {
          "base_uri": "https://localhost:8080/",
          "height": 269
        }
      },
      "source": [
        "a = np.array([\n",
        "    [5],\n",
        "    [7]\n",
        "])\n",
        "b = np.array([\n",
        "    [3],\n",
        "    [4]\n",
        "])\n",
        "\n",
        "plt.arrow(0, 0, \n",
        "          a[0][0], \n",
        "          a[1][0], \n",
        "          head_width=.05, \n",
        "          head_length=0.05, \n",
        "          color ='blue'\n",
        "         )\n",
        "\n",
        "plt.arrow(0, 0, \n",
        "          a[0][0], \n",
        "          b[1][0], \n",
        "          head_width=.05, \n",
        "          head_length=0.05, \n",
        "          color ='red'\n",
        "         )\n",
        "\n",
        "plt.xlim(0, 6)\n",
        "plt.ylim(0, 8);"
      ],
      "execution_count": 0,
      "outputs": [
        {
          "output_type": "display_data",
          "data": {
            "image/png": "[encoded data removed]",
            "text/plain": [
              "<Figure size 432x288 with 1 Axes>"
            ]
          },
          "metadata": {
            "tags": []
          }
        }
      ]
    },
    {
      "cell_type": "markdown",
      "metadata": {
        "colab_type": "text",
        "id": "QN6RU_3gizpw"
      },
      "source": [
        "## 1.5 find $\\vec{a} - \\vec{b}$ and plot the result on the same graph as $\\vec{a}$ and $\\vec{b}$. Is there a relationship between vectors $\\vec{a} \\thinspace, \\vec{b} \\thinspace \\text{and} \\thinspace \\vec{a-b}$"
      ]
    },
    {
      "cell_type": "code",
      "metadata": {
        "colab_type": "code",
        "id": "68sWHIOPkXp5",
        "outputId": "c3aec551-775b-40ba-d820-6ac1e1efeb4e",
        "colab": {
          "base_uri": "https://localhost:8080/",
          "height": 269
        }
      },
      "source": [
        "c = a - b\n",
        "\n",
        "plt.arrow(0, 0, \n",
        "          a[0][0], \n",
        "          a[1][0], \n",
        "          head_width=.05, \n",
        "          head_length=0.05, \n",
        "          color ='blue'\n",
        "         )\n",
        "\n",
        "plt.arrow(0, 0, \n",
        "          b[0][0], \n",
        "          b[1][0], \n",
        "          head_width=.05, \n",
        "          head_length=0.05, \n",
        "          color ='red'\n",
        "         )\n",
        "\n",
        "plt.arrow(0, 0, \n",
        "          c[0][0], \n",
        "          c[1][0], \n",
        "          head_width=.05, \n",
        "          head_length=0.05, \n",
        "          color ='green'\n",
        "         )\n",
        "\n",
        "plt.xlim(0, 6)\n",
        "plt.ylim(0, 8);"
      ],
      "execution_count": 0,
      "outputs": [
        {
          "output_type": "display_data",
          "data": {
            "image/png": "[encoded data removed]",
            "text/plain": [
              "<Figure size 432x288 with 1 Axes>"
            ]
          },
          "metadata": {
            "tags": []
          }
        }
      ]
    },
    {
      "cell_type": "markdown",
      "metadata": {
        "colab_type": "text",
        "id": "1ZPVuJAlehu_"
      },
      "source": [
        "## 1.6 Find $c \\cdot d$\n",
        "\n",
        "\\begin{align}\n",
        "\\vec{c} = \\begin{bmatrix}7 & 22 & 4 & 16\\end{bmatrix}\n",
        "\\qquad\n",
        "\\vec{d} = \\begin{bmatrix}12 & 6 & 2 & 9\\end{bmatrix}\n",
        "\\end{align}\n"
      ]
    },
    {
      "cell_type": "code",
      "metadata": {
        "colab_type": "code",
        "id": "2_cZQFCskYNr",
        "outputId": "8c6ffc0d-bcbc-41a9-a676-7e3a5a2f30c4",
        "colab": {
          "base_uri": "https://localhost:8080/",
          "height": 34
        }
      },
      "source": [
        "c = np.array(\n",
        "    [7, 22, 4, 16]\n",
        ")\n",
        "d = np.array(\n",
        "    [12, 6, 2, 9]\n",
        ")\n",
        "\n",
        "print(\"c . d = \", np.dot(c, d))"
      ],
      "execution_count": 0,
      "outputs": [
        {
          "output_type": "stream",
          "text": [
            "c . d =  368\n"
          ],
          "name": "stdout"
        }
      ]
    },
    {
      "cell_type": "markdown",
      "metadata": {
        "colab_type": "text",
        "id": "cLm8yokpfg9B"
      },
      "source": [
        "##  1.7 Find $e \\times f$\n",
        "\n",
        "\\begin{align}\n",
        "\\vec{e} = \\begin{bmatrix} 5 \\\\ 7 \\\\ 2 \\end{bmatrix}\n",
        "\\qquad\n",
        "\\vec{f} = \\begin{bmatrix} 3 \\\\4 \\\\ 6 \\end{bmatrix}\n",
        "\\end{align}"
      ]
    },
    {
      "cell_type": "code",
      "metadata": {
        "colab_type": "code",
        "id": "ku-TdCKAkYs8",
        "outputId": "aa467481-ecd8-4b50-a99f-a71c195abbfc",
        "colab": {
          "base_uri": "https://localhost:8080/",
          "height": 85
        }
      },
      "source": [
        "e = np.array([\n",
        "    [5], \n",
        "    [7], \n",
        "    [2]\n",
        "])\n",
        "f = np.array([\n",
        "    [3], \n",
        "    [4], \n",
        "    [6]\n",
        "])\n",
        "\n",
        "print('ef = \\n', e*f)"
      ],
      "execution_count": 0,
      "outputs": [
        {
          "output_type": "stream",
          "text": [
            "ef = \n",
            " [[15]\n",
            " [28]\n",
            " [12]]\n"
          ],
          "name": "stdout"
        }
      ]
    },
    {
      "cell_type": "markdown",
      "metadata": {
        "colab_type": "text",
        "id": "-TN8wO2-h53s"
      },
      "source": [
        "## 1.8 Find $||g||$ and then find $||h||$. Which is longer?\n",
        "\n",
        "\\begin{align}\n",
        "\\vec{g} = \\begin{bmatrix} 1 \\\\ 1 \\\\ 1 \\\\ 8 \\end{bmatrix}\n",
        "\\qquad\n",
        "\\vec{h} = \\begin{bmatrix} 3 \\\\3 \\\\ 3 \\\\ 3 \\end{bmatrix}\n",
        "\\end{align}"
      ]
    },
    {
      "cell_type": "code",
      "metadata": {
        "colab_type": "code",
        "id": "-5VKOMKBlgaA",
        "outputId": "8e14e437-451a-49da-d248-5790e8341688",
        "colab": {
          "base_uri": "https://localhost:8080/",
          "height": 68
        }
      },
      "source": [
        "g = np.array([\n",
        "    [1], \n",
        "    [1], \n",
        "    [1], \n",
        "    [8]\n",
        "])\n",
        "h = np.array([\n",
        "    [3], \n",
        "    [3], \n",
        "    [3], \n",
        "    [3]\n",
        "])\n",
        "\n",
        "print('Norm(g):'+ str(np.linalg.norm(g)))\n",
        "print('Norm(h) '+ str(np.linalg.norm(h)))\n",
        "\n",
        "if np.linalg.norm(g) > np.linalg.norm(h):\n",
        "  print(\"g > h\")\n",
        "else:\n",
        "  print(\"h > g\")"
      ],
      "execution_count": 0,
      "outputs": [
        {
          "output_type": "stream",
          "text": [
            "Norm(g):8.18535277187245\n",
            "Norm(h) 6.0\n",
            "g > h\n"
          ],
          "name": "stdout"
        }
      ]
    },
    {
      "cell_type": "markdown",
      "metadata": {
        "colab_type": "text",
        "id": "njrWIMS-ZAoH"
      },
      "source": [
        "# Part 2 - Matrices"
      ]
    },
    {
      "cell_type": "markdown",
      "metadata": {
        "colab_type": "text",
        "id": "GjkcAVIOmOnn"
      },
      "source": [
        "## 2.1 What are the dimensions of the following matrices? Which of the following can be multiplied together? See if you can find all of the different legal combinations.\n",
        "\\begin{align}\n",
        "A = \\begin{bmatrix}\n",
        "1 & 2 \\\\\n",
        "3 & 4 \\\\\n",
        "5 & 6\n",
        "\\end{bmatrix}\n",
        "\\qquad\n",
        "B = \\begin{bmatrix}\n",
        "2 & 4 & 6 \\\\\n",
        "\\end{bmatrix}\n",
        "\\qquad\n",
        "C = \\begin{bmatrix}\n",
        "9 & 6 & 3 \\\\\n",
        "4 & 7 & 11\n",
        "\\end{bmatrix}\n",
        "\\qquad\n",
        "D = \\begin{bmatrix}\n",
        "1 & 0 & 0 \\\\\n",
        "0 & 1 & 0 \\\\\n",
        "0 & 0 & 1\n",
        "\\end{bmatrix}\n",
        "\\qquad\n",
        "E = \\begin{bmatrix}\n",
        "1 & 3 \\\\\n",
        "5 & 7\n",
        "\\end{bmatrix}\n",
        "\\end{align}"
      ]
    },
    {
      "cell_type": "code",
      "metadata": {
        "colab_type": "code",
        "id": "Z69c-uPtnbIx",
        "outputId": "1243ede5-e208-42f7-8ca0-f482b66d8f51",
        "colab": {
          "base_uri": "https://localhost:8080/",
          "height": 102
        }
      },
      "source": [
        "import numpy as np\n",
        "import numpy.linalg as linalg\n",
        "# You can multiply two matrices only if the number of columns in the \n",
        "# first matrix equals the number of rows in the second matrix\n",
        "# ****** \n",
        "# A * C, A * E\n",
        "# B * A, B * D\n",
        "# C * A, C * D\n",
        "# D * A\n",
        "# E * C\n",
        "\n",
        "A = np.array([\n",
        "    [1, 2],\n",
        "    [3, 4],\n",
        "    [5, 6]\n",
        "    ])\n",
        "print(A.shape)\n",
        "\n",
        "B = np.array(\n",
        "    [2, 4 ,6]\n",
        "    )\n",
        "print(B.shape)\n",
        "\n",
        "C = np.array([\n",
        "    [9, 6, 3],\n",
        "    [4, 7, 11]\n",
        "    ])\n",
        "print(C.shape)\n",
        "\n",
        "D = np.array([\n",
        "    [1, 0, 0], \n",
        "    [0, 1, 0], \n",
        "    [0, 0, 1]\n",
        "    ])\n",
        "print(D.shape)\n",
        "\n",
        "E = np.array([\n",
        "    [1, 3], \n",
        "    [5, 7]\n",
        "    ])\n",
        "print(E.shape)"
      ],
      "execution_count": 0,
      "outputs": [
        {
          "output_type": "stream",
          "text": [
            "(3, 2)\n",
            "(3,)\n",
            "(2, 3)\n",
            "(3, 3)\n",
            "(2, 2)\n"
          ],
          "name": "stdout"
        }
      ]
    },
    {
      "cell_type": "markdown",
      "metadata": {
        "colab_type": "text",
        "id": "lMOlCoM3ncGa"
      },
      "source": [
        "## 2.2 Find the following products: CD, AE, and BA. What are the dimensions of the resulting matrices? How does that relate to the dimensions of their factor matrices?"
      ]
    },
    {
      "cell_type": "code",
      "metadata": {
        "colab_type": "code",
        "id": "zhKwiSItoE2F",
        "outputId": "67c673d4-4a82-4079-e91b-8c3b51059999",
        "colab": {
          "base_uri": "https://localhost:8080/",
          "height": 204
        }
      },
      "source": [
        "CD = np.matmul(C, D)\n",
        "print('C  = ' + str(C.shape))\n",
        "print('D  = ' + str(D.shape))\n",
        "print('CD = ' + str(CD.shape))\n",
        "print('')\n",
        "\n",
        "AE = np.matmul(A, E)\n",
        "print('A  = ' + str(A.shape))\n",
        "print('E  = ' + str(E.shape))\n",
        "print('AE = ' + str(AE.shape))\n",
        "print('')\n",
        "\n",
        "BA = np.matmul(B, A)\n",
        "print('B  = ' + str(B.shape))\n",
        "print('A  = ' + str(A.shape))\n",
        "print('BA = ' + str(BA.shape))"
      ],
      "execution_count": 0,
      "outputs": [
        {
          "output_type": "stream",
          "text": [
            "C  = (2, 3)\n",
            "D  = (3, 3)\n",
            "CD = (2, 3)\n",
            "\n",
            "A  = (3, 2)\n",
            "E  = (2, 2)\n",
            "AE = (3, 2)\n",
            "\n",
            "B  = (3,)\n",
            "A  = (3, 2)\n",
            "BA = (2,)\n"
          ],
          "name": "stdout"
        }
      ]
    },
    {
      "cell_type": "markdown",
      "metadata": {
        "colab_type": "text",
        "id": "p2jmaGLgoFPN"
      },
      "source": [
        "## 2.3  Find $F^{T}$. How are the numbers along the main diagonal (top left to bottom right) of the original matrix and its transpose related? What are the dimensions of $F$? What are the dimensions of $F^{T}$?\n",
        "\n",
        "\\begin{align}\n",
        "F = \n",
        "\\begin{bmatrix}\n",
        "20 & 19 & 18 & 17 \\\\\n",
        "16 & 15 & 14 & 13 \\\\\n",
        "12 & 11 & 10 & 9 \\\\\n",
        "8 & 7 & 6 & 5 \\\\\n",
        "4 & 3 & 2 & 1\n",
        "\\end{bmatrix}\n",
        "\\end{align}"
      ]
    },
    {
      "cell_type": "code",
      "metadata": {
        "colab_type": "code",
        "id": "Wl3ElwgLqaAn",
        "outputId": "211b5760-4360-4327-b0af-7b93ff61ab0b",
        "colab": {
          "base_uri": "https://localhost:8080/",
          "height": 102
        }
      },
      "source": [
        "\n",
        "F = np.array([\n",
        "    [20, 19, 18, 17],\n",
        "    [16, 15, 14, 13],\n",
        "    [12, 11, 10, 9],\n",
        "    [8,   7,  6, 5],          \n",
        "    [4,   3,  2, 1]\n",
        "    ])\n",
        "\n",
        "print(\"F Transposed:\\n\", F.T)"
      ],
      "execution_count": 0,
      "outputs": [
        {
          "output_type": "stream",
          "text": [
            "F Transposed:\n",
            " [[20 16 12  8  4]\n",
            " [19 15 11  7  3]\n",
            " [18 14 10  6  2]\n",
            " [17 13  9  5  1]]\n"
          ],
          "name": "stdout"
        }
      ]
    },
    {
      "cell_type": "markdown",
      "metadata": {
        "colab_type": "text",
        "id": "13ik2LEEZLHn"
      },
      "source": [
        "# Part 3 - Square Matrices"
      ]
    },
    {
      "cell_type": "markdown",
      "metadata": {
        "colab_type": "text",
        "id": "sDBAPUwfp7f7"
      },
      "source": [
        "## 3.1 Find $IG$ (be sure to show your work) 😃\n",
        "\n",
        "You don't have to do anything crazy complicated here to show your work, just create the G matrix as specified below, and a corresponding 2x2 Identity matrix and then multiply them together to show the result. You don't need to write LaTeX or anything like that (unless you want to).\n",
        "\n",
        "\\begin{align}\n",
        "G= \n",
        "\\begin{bmatrix}\n",
        "13 & 14 \\\\\n",
        "21 & 12 \n",
        "\\end{bmatrix}\n",
        "\\end{align}"
      ]
    },
    {
      "cell_type": "code",
      "metadata": {
        "colab_type": "code",
        "id": "ZnqvZBOYqar3",
        "outputId": "9855d547-f67b-4fb9-e8aa-9dcd34797c2e",
        "colab": {
          "base_uri": "https://localhost:8080/",
          "height": 68
        }
      },
      "source": [
        "G = np.array([\n",
        "    [13, 14],\n",
        "    [21, 12]\n",
        "    ])\n",
        "\n",
        "I = np.array([\n",
        "    [1, 0],\n",
        "    [0, 1]\n",
        "    ])\n",
        "print('IG = \\n' + str(I*G))\n",
        "\n"
      ],
      "execution_count": 0,
      "outputs": [
        {
          "output_type": "stream",
          "text": [
            "IG = \n",
            "[[13  0]\n",
            " [ 0 12]]\n"
          ],
          "name": "stdout"
        }
      ]
    },
    {
      "cell_type": "markdown",
      "metadata": {
        "colab_type": "text",
        "id": "DZ_0XTDQqpMT"
      },
      "source": [
        "## 3.2 Find $|H|$ and then find $|J|$.\n",
        "\n",
        "\\begin{align}\n",
        "H= \n",
        "\\begin{bmatrix}\n",
        "12 & 11 \\\\\n",
        "7 & 10 \n",
        "\\end{bmatrix}\n",
        "\\qquad\n",
        "J= \n",
        "\\begin{bmatrix}\n",
        "0 & 1 & 2 \\\\\n",
        "7 & 10 & 4 \\\\\n",
        "3 & 2 & 0\n",
        "\\end{bmatrix}\n",
        "\\end{align}\n"
      ]
    },
    {
      "cell_type": "code",
      "metadata": {
        "colab_type": "code",
        "id": "5QShhoXyrjDS",
        "outputId": "df6e4ecc-cd46-4df5-ed58-d9bb23ca7a1d",
        "colab": {
          "base_uri": "https://localhost:8080/",
          "height": 51
        }
      },
      "source": [
        "H = np.array([\n",
        "    [12, 11],\n",
        "    [7,  10]\n",
        "    ])\n",
        "\n",
        "J = np.array([\n",
        "    [0,  1,  2],\n",
        "    [7,  10, 4],\n",
        "    [3,  2,  0]\n",
        "    ])\n",
        "\n",
        "print(\"|H| = \", round(linalg.det(H), 2))\n",
        "print(\"|J| = \", round(linalg.det(J), 2))\n",
        "     "
      ],
      "execution_count": 0,
      "outputs": [
        {
          "output_type": "stream",
          "text": [
            "|H| =  43.0\n",
            "|J| =  -20.0\n"
          ],
          "name": "stdout"
        }
      ]
    },
    {
      "cell_type": "markdown",
      "metadata": {
        "colab_type": "text",
        "id": "2gZl1CFwrXSH"
      },
      "source": [
        "## 3.3 Find $H^{-1}$ and then find $J^{-1}$"
      ]
    },
    {
      "cell_type": "code",
      "metadata": {
        "colab_type": "code",
        "id": "nyX6De2-rio1",
        "outputId": "d993fe3d-a0e3-49d4-9346-73aec761ff3f",
        "colab": {
          "base_uri": "https://localhost:8080/",
          "height": 136
        }
      },
      "source": [
        "print(\"H-1 = \\n\", linalg.inv(H))\n",
        "print(\"J-1 = \\n\", linalg.inv(J))"
      ],
      "execution_count": 0,
      "outputs": [
        {
          "output_type": "stream",
          "text": [
            "H-1 = \n",
            " [[ 0.23255814 -0.25581395]\n",
            " [-0.1627907   0.27906977]]\n",
            "J-1 = \n",
            " [[ 0.4  -0.2   0.8 ]\n",
            " [-0.6   0.3  -0.7 ]\n",
            " [ 0.8  -0.15  0.35]]\n"
          ],
          "name": "stdout"
        }
      ]
    },
    {
      "cell_type": "markdown",
      "metadata": {
        "colab_type": "text",
        "id": "Vvd4Pe86rjhW"
      },
      "source": [
        "## 3.4 Find $HH^{-1}$ and then find $J^{-1}J$. Is $HH^{-1} == J^{-1}J$? Why or Why not? \n",
        "\n",
        "Please ignore Python rounding errors. If necessary, format your output so that it rounds to 5 significant digits (the fifth decimal place)."
      ]
    },
    {
      "cell_type": "code",
      "metadata": {
        "pycharm": {
          "name": "#%%\n"
        },
        "id": "dIFM8_1YVjjU",
        "colab_type": "code",
        "outputId": "8257a50f-2414-47ce-95f2-da78418e3542",
        "colab": {
          "base_uri": "https://localhost:8080/",
          "height": 187
        }
      },
      "source": [
        "HH1= np.matmul(H, linalg.inv(H))\n",
        "print('HH1 = \\n' + str(HH1))\n",
        "\n",
        "J1J = np.matmul(linalg.inv(J), J)\n",
        "print('J1J = \\n' + str(J1J))\n",
        "\n",
        "\n",
        "if HH1 == J1J:\n",
        "    print('The are equal')\n",
        "else:\n",
        "    print('They are not equal')"
      ],
      "execution_count": 0,
      "outputs": [
        {
          "output_type": "stream",
          "text": [
            "HH1 = \n",
            "[[1.00000000e+00 5.55111512e-16]\n",
            " [2.22044605e-16 1.00000000e+00]]\n",
            "J1J = \n",
            "[[ 1.00000000e+00  2.22044605e-16  0.00000000e+00]\n",
            " [-1.11022302e-16  1.00000000e+00  0.00000000e+00]\n",
            " [-1.66533454e-16 -1.11022302e-16  1.00000000e+00]]\n",
            "They are not equal\n"
          ],
          "name": "stdout"
        },
        {
          "output_type": "stream",
          "text": [
            "/usr/local/lib/python3.6/dist-packages/ipykernel_launcher.py:8: DeprecationWarning: elementwise comparison failed; this will raise an error in the future.\n",
            "  \n"
          ],
          "name": "stderr"
        }
      ]
    },
    {
      "cell_type": "markdown",
      "metadata": {
        "id": "wbw1uXCSVjjc",
        "colab_type": "text"
      },
      "source": [
        "# Stretch Goals: \n",
        "\n",
        "A reminder that these challenges are optional. If you finish your work quickly we welcome you to work on them. If there are other activities that you feel like will help your understanding of the above topics more, feel free to work on that. Topics from the Stretch Goals sections will never end up on Sprint Challenges. You don't have to do these in order, you don't have to do all of them. \n",
        "\n",
        "- Write a function that can calculate the dot product of any two vectors of equal length that are passed to it.\n",
        "- Write a function that can calculate the norm of any vector\n",
        "- Prove to yourself again that the vectors in 1.9 are orthogonal by graphing them. \n",
        "- Research how to plot a 3d graph with animations so that you can make the graph rotate (this will be easier in a local notebook than in google colab)\n",
        "- Create and plot a matrix on a 2d graph.\n",
        "- Create and plot a matrix on a 3d graph.\n",
        "- Plot two vectors that are not collinear on a 2d graph. Calculate the determinant of the 2x2 matrix that these vectors form. How does this determinant relate to the graphical interpretation of the vectors?\n"
      ]
    },
    {
      "cell_type": "code",
      "metadata": {
        "jupyter": {
          "outputs_hidden": false
        },
        "pycharm": {
          "name": "#%%\n"
        },
        "id": "6sye7VoeVjje",
        "colab_type": "code",
        "colab": {}
      },
      "source": [
        "def calc_dot(A, B):\n",
        "    a_len = len(A)\n",
        "    b_len = len(B)\n",
        "    \n",
        "    if a_len != b_len:\n",
        "        raise Exception('They must be the same length')\n",
        "        \n",
        "    else:\n",
        "        return np.dot(A,B)\n",
        "    \n",
        "    \n",
        "def calc_norm(A):\n",
        "    return linalg.norm(A)\n",
        "    \n",
        "    \n",
        "    "
      ],
      "execution_count": 0,
      "outputs": []
    }
  ]
}