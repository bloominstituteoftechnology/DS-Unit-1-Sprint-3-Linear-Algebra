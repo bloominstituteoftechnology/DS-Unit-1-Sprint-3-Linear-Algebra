{
  "nbformat": 4,
  "nbformat_minor": 0,
  "metadata": {
    "colab": {
      "name": "Copy of LS_DS_131_Vectors_and_Matrices_Assignment.ipynb",
      "provenance": [],
      "collapsed_sections": [],
      "include_colab_link": true
    },
    "kernelspec": {
      "name": "python3",
      "display_name": "Python 3"
    }
  },
  "cells": [
    {
      "cell_type": "markdown",
      "metadata": {
        "id": "view-in-github",
        "colab_type": "text"
      },
      "source": [
        "<a href=\"https://colab.research.google.com/github/abdishifa234/DS-Unit-1-Sprint-3-Linear-Algebra/blob/master/module1-vectors-and-matrices/LS_DS_131_Vectors_and_Matrices_Assignment.ipynb\" target=\"_parent\"><img src=\"https://colab.research.google.com/assets/colab-badge.svg\" alt=\"Open In Colab\"/></a>"
      ]
    },
    {
      "cell_type": "markdown",
      "metadata": {
        "id": "yXA3GwWhY9KL",
        "colab_type": "text"
      },
      "source": [
        "# Part 1 - Scalars and Vectors\n",
        "\n",
        "For the questions below it is not sufficient to simply provide answer to the questions, but you must solve the problems and show your work using python (the NumPy library will help a lot!) Translate the vectors and matrices into their appropriate python  representations and use numpy or functions that you write yourself to demonstrate the result or property. "
      ]
    },
    {
      "cell_type": "markdown",
      "metadata": {
        "id": "oNOTv43_Zi9L",
        "colab_type": "text"
      },
      "source": [
        "## 1.1 Create a two-dimensional vector and plot it on a graph"
      ]
    },
    {
      "cell_type": "code",
      "metadata": {
        "id": "XNqjzQzrkVG7",
        "colab_type": "code",
        "colab": {}
      },
      "source": [
        "# imports needed for tasks\n",
        "import matplotlib.pyplot as plt\n",
        "import numpy as np\n",
        "import pandas as pd\n",
        "import math\n",
        "from mpl_toolkits.mplot3d import Axes3D"
      ],
      "execution_count": 1,
      "outputs": []
    },
    {
      "cell_type": "code",
      "metadata": {
        "id": "Qj9sdWUVBwfO",
        "colab_type": "code",
        "colab": {}
      },
      "source": [
        "array = np.arange(10)\n",
        "array"
      ],
      "execution_count": null,
      "outputs": []
    },
    {
      "cell_type": "code",
      "metadata": {
        "id": "mRt3UHUWCl_e",
        "colab_type": "code",
        "colab": {}
      },
      "source": [
        "array=[0.8,0.16]"
      ],
      "execution_count": 5,
      "outputs": []
    },
    {
      "cell_type": "code",
      "metadata": {
        "id": "4IN_EyHMDpzG",
        "colab_type": "code",
        "colab": {
          "base_uri": "https://localhost:8080/",
          "height": 281
        },
        "outputId": "6cf3b645-be85-4c6b-fd59-a65ba77ced9d"
      },
      "source": [
        "# plot a vector using matplotlib\n",
        "fig, ax = plt.subplots()\n",
        "ax.grid()\n",
        "plt.xlim(-.2,.9)\n",
        "plt.ylim(-.1,.6)\n",
        "\n",
        "plt.arrow(0, 0, \n",
        "          array[0], \n",
        "          array[1], \n",
        "          head_width=.02, \n",
        "          head_length=0.01,\n",
        "          linewidth=2,\n",
        "          color = 'gold')\n",
        "# plt.axhline(y=0, alpha=.5)\n",
        "# plt.axvline(x=0, alpha=.5)\n",
        "plt.title('First Graph')\n",
        "plt.show()"
      ],
      "execution_count": 6,
      "outputs": [
        {
          "output_type": "display_data",
          "data": {
            "image/png": "[encoded data removed]",
            "text/plain": [
              "<Figure size 432x288 with 1 Axes>"
            ]
          },
          "metadata": {
            "tags": [],
            "needs_background": "light"
          }
        }
      ]
    },
    {
      "cell_type": "code",
      "metadata": {
        "id": "RHgmbuZRE0Xn",
        "colab_type": "code",
        "colab": {
          "base_uri": "https://localhost:8080/",
          "height": 281
        },
        "outputId": "4a12585b-3fd3-4ff1-8068-6e4bc6bd4459"
      },
      "source": [
        "# creating a two dimenstional vector and plotting on the graph\n",
        "red = [.8, .16] \n",
        "\n",
        "\n",
        "plt.arrow(0, 0, .4, .8, head_width=.10, head_length=0.18, color = 'red')\n",
        "plt.xlim(-0.5,1)          \n",
        "plt.ylim(-0.2,1)\n",
        "plt.axhline(y=0, alpha=.5)\n",
        "plt.axvline(x=0, alpha=.5)\n",
        "plt.grid()\n",
        "plt.title('Second Graph')\n",
        "plt.show()"
      ],
      "execution_count": 7,
      "outputs": [
        {
          "output_type": "display_data",
          "data": {
            "image/png": "[encoded data removed]",
            "text/plain": [
              "<Figure size 432x288 with 1 Axes>"
            ]
          },
          "metadata": {
            "tags": [],
            "needs_background": "light"
          }
        }
      ]
    },
    {
      "cell_type": "markdown",
      "metadata": {
        "id": "unKFT619lk3e",
        "colab_type": "text"
      },
      "source": [
        "## 1.2 Create a three-dimensional vecor and plot it on a graph"
      ]
    },
    {
      "cell_type": "code",
      "metadata": {
        "id": "atUEd3T6llKm",
        "colab_type": "code",
        "colab": {}
      },
      "source": [
        "#lets crteat a three dimensional vector\n",
        "array = np.arange(27).reshape(3,3,3)\n",
        "array\n"
      ],
      "execution_count": null,
      "outputs": []
    },
    {
      "cell_type": "code",
      "metadata": {
        "id": "EPq9e04OJF47",
        "colab_type": "code",
        "colab": {}
      },
      "source": [
        "#lets crteat a three dimensional vector\n",
        "vectors = np.array([[0, 0, 0, .2, .4, .8], \n",
        "                    [0, 0, 0, .0, .0, .0],\n",
        "                    [0, 0, 0, .0, .0, .0]])"
      ],
      "execution_count": 9,
      "outputs": []
    },
    {
      "cell_type": "code",
      "metadata": {
        "id": "CCrVMiYFH3Vh",
        "colab_type": "code",
        "colab": {
          "base_uri": "https://localhost:8080/",
          "height": 248
        },
        "outputId": "7b1c2104-8099-4db9-9672-9376fc56eb94"
      },
      "source": [
        "#lets creat a graph\n",
        "X, Y, Z, U, V, W = zip(*vectors)\n",
        "fig = plt.figure()\n",
        "ax = fig.add_subplot(111, projection='3d')\n",
        "ax.quiver(X, Y, Z, U, V, W, length=1)\n",
        "ax.set_xlim([0, 1])\n",
        "ax.set_ylim([0, 1])\n",
        "ax.set_zlim([0, 1])\n",
        "ax.set_xlabel('X')\n",
        "ax.set_ylabel('Y')\n",
        "ax.set_zlabel('Z')\n",
        "plt.show()"
      ],
      "execution_count": 10,
      "outputs": [
        {
          "output_type": "display_data",
          "data": {
            "image/png": "[encoded data removed]",
            "text/plain": [
              "<Figure size 432x288 with 1 Axes>"
            ]
          },
          "metadata": {
            "tags": [],
            "needs_background": "light"
          }
        }
      ]
    },
    {
      "cell_type": "markdown",
      "metadata": {
        "id": "b7qFxbKxZmI2",
        "colab_type": "text"
      },
      "source": [
        "## 1.3 Scale the vectors you created in 1.1 by $5$, $\\pi$, and $-e$ and plot all four vectors (original + 3 scaled vectors) on a graph. What do you notice about these vectors? "
      ]
    },
    {
      "cell_type": "code",
      "metadata": {
        "id": "ah6zMSLJdJwL",
        "colab_type": "code",
        "colab": {
          "base_uri": "https://localhost:8080/",
          "height": 52
        },
        "outputId": "e409eb7a-eea8-429a-b5f8-8857e101123d"
      },
      "source": [
        "from math import e, pi\n",
        "print(e)\n",
        "print(pi)"
      ],
      "execution_count": 12,
      "outputs": [
        {
          "output_type": "stream",
          "text": [
            "2.718281828459045\n",
            "3.141592653589793\n"
          ],
          "name": "stdout"
        }
      ]
    },
    {
      "cell_type": "code",
      "metadata": {
        "id": "3qpwDlzXkVf5",
        "colab_type": "code",
        "colab": {}
      },
      "source": [
        "#scalling the vector above by Scalars of 5, π, −e\n",
        "red = [.4, .8] \n",
        "red=np.array([.4,.8])\n",
        "orange = np.multiply(5, red)\n",
        "yellow = red * np.pi\n",
        "green = red * -(np.exp(1))\n"
      ],
      "execution_count": 13,
      "outputs": []
    },
    {
      "cell_type": "code",
      "metadata": {
        "id": "V4BUGgaXQ-50",
        "colab_type": "code",
        "colab": {
          "base_uri": "https://localhost:8080/",
          "height": 269
        },
        "outputId": "87aa4839-be01-4436-cfe4-e4b3024f6f06"
      },
      "source": [
        "#lets draw the scaled vectors in one graph\n",
        "# using more efficient code.\n",
        "fig, ax = plt.subplots()\n",
        "ax.grid()\n",
        "plt.xlim(-.2,.8)\n",
        "plt.ylim(-.1,.6)\n",
        "\n",
        "for color, vector in [('gold',orange), ('crimson',yellow), ('darkcyan',green)]:\n",
        "    plt.arrow(0, 0,\n",
        "              vector[0],\n",
        "              vector[1],\n",
        "              head_width=.02,\n",
        "              head_length=0.01,\n",
        "              linewidth=2,\n",
        "              color = color)\n",
        "plt.show()"
      ],
      "execution_count": 14,
      "outputs": [
        {
          "output_type": "display_data",
          "data": {
            "image/png": "[encoded data removed]",
            "text/plain": [
              "<Figure size 432x288 with 1 Axes>"
            ]
          },
          "metadata": {
            "tags": [],
            "needs_background": "light"
          }
        }
      ]
    },
    {
      "cell_type": "code",
      "metadata": {
        "id": "dVWOpEnsVXi1",
        "colab_type": "code",
        "colab": {
          "base_uri": "https://localhost:8080/",
          "height": 281
        },
        "outputId": "a57f0946-8036-40e1-d6a8-8c5ab6975719"
      },
      "source": [
        "#Better code but found it \n",
        "red = np.array([.4, .8]) \n",
        "orange = np.multiply(5, red)\n",
        "yellow = red * np.pi\n",
        "green = red * -(np.exp(1))\n",
        "\n",
        "plt.arrow(0,0, orange[0], orange[1],head_width=.21, head_length=0.18, color ='orange')\n",
        "plt.arrow(0,0, yellow[0], yellow[1],head_width=.21, head_length=0.18, color ='yellow')\n",
        "plt.arrow(0,0, red[0], red[1],head_width=.21, head_length=0.18, color ='red')\n",
        "plt.arrow(0,0, green[0], green[1],head_width=.21, head_length=0.18, color ='green')\n",
        "plt.xlim(-1.3,2.2)          \n",
        "plt.ylim(-2.5,4.5)\n",
        "plt.axhline(y=0, alpha=.5)\n",
        "plt.axvline(x=0, alpha=.5)\n",
        "plt.title(\"Scaled Vectors\")\n",
        "plt.grid()\n",
        "plt.show()"
      ],
      "execution_count": 15,
      "outputs": [
        {
          "output_type": "display_data",
          "data": {
            "image/png": "[encoded data removed]",
            "text/plain": [
              "<Figure size 432x288 with 1 Axes>"
            ]
          },
          "metadata": {
            "tags": [],
            "needs_background": "light"
          }
        }
      ]
    },
    {
      "cell_type": "markdown",
      "metadata": {
        "id": "wrgqa6sWimbH",
        "colab_type": "text"
      },
      "source": [
        "## 1.4 Graph vectors $\\vec{a}$ and $\\vec{b}$ and plot them on a graph\n",
        "\n",
        "\\begin{align}\n",
        "\\vec{a} = \\begin{bmatrix} 5 \\\\ 7 \\end{bmatrix}\n",
        "\\qquad\n",
        "\\vec{b} = \\begin{bmatrix} 3 \\\\4 \\end{bmatrix}\n",
        "\\end{align}"
      ]
    },
    {
      "cell_type": "code",
      "metadata": {
        "id": "I1BGXA_skV-b",
        "colab_type": "code",
        "colab": {}
      },
      "source": [
        "#lets creat these vectors using numpy\n",
        "a=np.array([5,7])\n",
        "b=np.array([3,4])"
      ],
      "execution_count": 16,
      "outputs": []
    },
    {
      "cell_type": "code",
      "metadata": {
        "id": "tflLb2_HXRK3",
        "colab_type": "code",
        "colab": {
          "base_uri": "https://localhost:8080/",
          "height": 281
        },
        "outputId": "8d7f7924-d2c1-4c50-894b-ce07a86d6802"
      },
      "source": [
        "# plot vector a and vector b together\n",
        "a= np.array([5,7])\n",
        "b= np.array([3,4])\n",
        "\n",
        "\n",
        "plt.arrow(0,0, a[0], a[1],head_width=.28, head_length=0.18, color ='red')\n",
        "plt.arrow(0,0, b[0], b[1],head_width=.28, head_length=0.18, color ='blue')\n",
        "plt.xlim(-0.5,5.5)          \n",
        "plt.ylim(-0.5,8)\n",
        "plt.axhline(y=0, alpha=.5)\n",
        "plt.axvline(x=0, alpha=.5)\n",
        "plt.title(\"Vectors A and B\")\n",
        "plt.grid()\n",
        "plt.show()"
      ],
      "execution_count": 17,
      "outputs": [
        {
          "output_type": "display_data",
          "data": {
            "image/png": "[encoded data removed]",
            "text/plain": [
              "<Figure size 432x288 with 1 Axes>"
            ]
          },
          "metadata": {
            "tags": [],
            "needs_background": "light"
          }
        }
      ]
    },
    {
      "cell_type": "markdown",
      "metadata": {
        "id": "QN6RU_3gizpw",
        "colab_type": "text"
      },
      "source": [
        "## 1.5 find $\\vec{a} - \\vec{b}$ and plot the result on the same graph as $\\vec{a}$ and $\\vec{b}$. Is there a relationship between vectors $\\vec{a} \\thinspace, \\vec{b} \\thinspace \\text{and} \\thinspace \\vec{a-b}$"
      ]
    },
    {
      "cell_type": "code",
      "metadata": {
        "id": "68sWHIOPkXp5",
        "colab_type": "code",
        "colab": {
          "base_uri": "https://localhost:8080/",
          "height": 34
        },
        "outputId": "a714e25e-c3fe-42d1-b2cd-5c2116d26641"
      },
      "source": [
        "#find vector a minus vector b call it vector c\n",
        "c=a-b\n",
        "c"
      ],
      "execution_count": 18,
      "outputs": [
        {
          "output_type": "execute_result",
          "data": {
            "text/plain": [
              "array([2, 3])"
            ]
          },
          "metadata": {
            "tags": []
          },
          "execution_count": 18
        }
      ]
    },
    {
      "cell_type": "code",
      "metadata": {
        "id": "6TTOFiVRaA8E",
        "colab_type": "code",
        "colab": {
          "base_uri": "https://localhost:8080/",
          "height": 281
        },
        "outputId": "2eadae67-cf99-4a12-ac71-7891fb0dbba3"
      },
      "source": [
        "#lets graph the three vectors together \n",
        "\n",
        "plt.arrow(0,0, a[0], a[1],head_width=.28, head_length=0.18, color ='red')\n",
        "plt.arrow(0,0, b[0], b[1],head_width=.28, head_length=0.18, color ='blue')\n",
        "plt.arrow(0,0, c[0], c[1],head_width=.28, head_length=0.18, color ='orange')\n",
        "plt.xlim(-0.5,5.5)          \n",
        "plt.ylim(-0.5,8)\n",
        "plt.axhline(y=0, alpha=.5)\n",
        "plt.axvline(x=0, alpha=.5)\n",
        "plt.title(\"Vectors a and b and c/a-b/\")\n",
        "plt.grid()\n",
        "plt.show()"
      ],
      "execution_count": 19,
      "outputs": [
        {
          "output_type": "display_data",
          "data": {
            "image/png": "[encoded data removed]",
            "text/plain": [
              "<Figure size 432x288 with 1 Axes>"
            ]
          },
          "metadata": {
            "tags": [],
            "needs_background": "light"
          }
        }
      ]
    },
    {
      "cell_type": "markdown",
      "metadata": {
        "id": "3bcqiq2HcjBA",
        "colab_type": "text"
      },
      "source": [
        "vector a is longer than vector b and c/a-b/\n",
        "\n",
        "\n",
        "vector c which is the orange one is the difference of vector a and vector b\n",
        "\n",
        "\n",
        "vector c which is the orange one is [2, 3]"
      ]
    },
    {
      "cell_type": "markdown",
      "metadata": {
        "id": "1ZPVuJAlehu_",
        "colab_type": "text"
      },
      "source": [
        "## 1.6 Find $c \\cdot d$\n",
        "\n",
        "\\begin{align}\n",
        "\\vec{c} = \\begin{bmatrix}7 & 22 & 4 & 16\\end{bmatrix}\n",
        "\\qquad\n",
        "\\vec{d} = \\begin{bmatrix}12 & 6 & 2 & 9\\end{bmatrix}\n",
        "\\end{align}\n"
      ]
    },
    {
      "cell_type": "code",
      "metadata": {
        "id": "2_cZQFCskYNr",
        "colab_type": "code",
        "colab": {
          "base_uri": "https://localhost:8080/",
          "height": 34
        },
        "outputId": "137901a8-93ce-4cab-da01-aeb69f6565bc"
      },
      "source": [
        "#lets creat array of the above vectors first\n",
        "c=np.array([7,22,4,16])\n",
        "d=np.array([12,6,2,9])\n",
        "np.dot(c,d)"
      ],
      "execution_count": 20,
      "outputs": [
        {
          "output_type": "execute_result",
          "data": {
            "text/plain": [
              "368"
            ]
          },
          "metadata": {
            "tags": []
          },
          "execution_count": 20
        }
      ]
    },
    {
      "cell_type": "markdown",
      "metadata": {
        "id": "cLm8yokpfg9B",
        "colab_type": "text"
      },
      "source": [
        "##  1.7 Find $e \\times f$\n",
        "\n",
        "\\begin{align}\n",
        "\\vec{e} = \\begin{bmatrix} 5 \\\\ 7 \\\\ 2 \\end{bmatrix}\n",
        "\\qquad\n",
        "\\vec{f} = \\begin{bmatrix} 3 \\\\4 \\\\ 6 \\end{bmatrix}\n",
        "\\end{align}"
      ]
    },
    {
      "cell_type": "code",
      "metadata": {
        "id": "ku-TdCKAkYs8",
        "colab_type": "code",
        "colab": {
          "base_uri": "https://localhost:8080/",
          "height": 86
        },
        "outputId": "a645c0d7-9da7-4cdf-c95d-c8b9d282deed"
      },
      "source": [
        "#lets creat array of the above vectors first\n",
        "e = np.array([[5],[7],[2]])\n",
        "f = np.array([[3],[4],[6]])\n",
        "print('Cross Product: \\n', np.cross(e,f,axis=0))"
      ],
      "execution_count": 21,
      "outputs": [
        {
          "output_type": "stream",
          "text": [
            "Cross Product: \n",
            " [[ 34]\n",
            " [-24]\n",
            " [ -1]]\n"
          ],
          "name": "stdout"
        }
      ]
    },
    {
      "cell_type": "markdown",
      "metadata": {
        "id": "-TN8wO2-h53s",
        "colab_type": "text"
      },
      "source": [
        "## 1.8 Find $||g||$ and then find $||h||$. Which is longer?\n",
        "\n",
        "\\begin{align}\n",
        "\\vec{g} = \\begin{bmatrix} 1 \\\\ 1 \\\\ 1 \\\\ 8 \\end{bmatrix}\n",
        "\\qquad\n",
        "\\vec{h} = \\begin{bmatrix} 3 \\\\3 \\\\ 3 \\\\ 3 \\end{bmatrix}\n",
        "\\end{align}"
      ]
    },
    {
      "cell_type": "code",
      "metadata": {
        "id": "-5VKOMKBlgaA",
        "colab_type": "code",
        "colab": {}
      },
      "source": [
        "#lets creat array of the above vectors first\n",
        "g = np.array([1,1,1,8])\n",
        "h = np.array([3,3,3,3])"
      ],
      "execution_count": 22,
      "outputs": []
    },
    {
      "cell_type": "code",
      "metadata": {
        "id": "Z__FIs5Vj-lb",
        "colab_type": "code",
        "colab": {
          "base_uri": "https://localhost:8080/",
          "height": 52
        },
        "outputId": "83b297cc-5185-47cf-b6a7-2dc4d8139367"
      },
      "source": [
        "# Find the length of the above vectors using numpy\n",
        "\n",
        "norm_g = np.linalg.norm(g)\n",
        "norm_h = np.linalg.norm(h)\n",
        "print(\"Norm of g:\", norm_g)\n",
        "print(\"Norm of h:\", norm_h)"
      ],
      "execution_count": 23,
      "outputs": [
        {
          "output_type": "stream",
          "text": [
            "Norm of g: 8.18535277187245\n",
            "Norm of h: 6.0\n"
          ],
          "name": "stdout"
        }
      ]
    },
    {
      "cell_type": "markdown",
      "metadata": {
        "id": "Cx2-kVnylFE7",
        "colab_type": "text"
      },
      "source": [
        "##the length of vector g is greater than vector h"
      ]
    },
    {
      "cell_type": "markdown",
      "metadata": {
        "id": "njrWIMS-ZAoH",
        "colab_type": "text"
      },
      "source": [
        "# Part 2 - Matrices"
      ]
    },
    {
      "cell_type": "markdown",
      "metadata": {
        "id": "GjkcAVIOmOnn",
        "colab_type": "text"
      },
      "source": [
        "## 2.1 What are the dimensions of the following matrices? Which of the following can be multiplied together? See if you can find all of the different legal combinations.\n",
        "\\begin{align}\n",
        "A = \\begin{bmatrix}\n",
        "1 & 2 \\\\\n",
        "3 & 4 \\\\\n",
        "5 & 6\n",
        "\\end{bmatrix}\n",
        "\\qquad\n",
        "B = \\begin{bmatrix}\n",
        "2 & 4 & 6 \\\\\n",
        "\\end{bmatrix}\n",
        "\\qquad\n",
        "C = \\begin{bmatrix}\n",
        "9 & 6 & 3 \\\\\n",
        "4 & 7 & 11\n",
        "\\end{bmatrix}\n",
        "\\qquad\n",
        "D = \\begin{bmatrix}\n",
        "1 & 0 & 0 \\\\\n",
        "0 & 1 & 0 \\\\\n",
        "0 & 0 & 1\n",
        "\\end{bmatrix}\n",
        "\\qquad\n",
        "E = \\begin{bmatrix}\n",
        "1 & 3 \\\\\n",
        "5 & 7\n",
        "\\end{bmatrix}\n",
        "\\end{align}"
      ]
    },
    {
      "cell_type": "code",
      "metadata": {
        "id": "Z69c-uPtnbIx",
        "colab_type": "code",
        "colab": {}
      },
      "source": [
        "\n",
        "# The number of rows and columns that a matrix has is called its dimension.\n",
        "# When listing the dimension of a matrix we always list rows first and then columns.\n",
        "\n",
        "#Dimension of matrix A=(3,2)\n",
        "#Dimension of matrix B=(1,3)\n",
        "#Dimension of matrix C=(2,3)\n",
        "#Dimension of matrix D=(3,3)\n",
        "#Dimension of matrix E=(2,2)"
      ],
      "execution_count": 24,
      "outputs": []
    },
    {
      "cell_type": "markdown",
      "metadata": {
        "id": "1HgTij6fpBK2",
        "colab_type": "text"
      },
      "source": [
        "WE can multipy any two matrices where the number of columns of the first matrix is equal to the number of rows of the second matrix.\n",
        "\n",
        "The unused dimensions of the factor matrices tell you what the dimensions of the product matrix will be.\n",
        "\n",
        "A can be multipled by C\n",
        "\n",
        "A can be multipled by E\n",
        "\n",
        "B can be multipled by A\n",
        "\n",
        "B can be multipled by D\n",
        "\n",
        "C can be multipled by A\n",
        "\n",
        "C can be multipled by D\n",
        "\n",
        "D can be multipled by A\n",
        "\n",
        "D can be multipled by D\n",
        "\n",
        "E can be multipled by C\n",
        "\n",
        "E can be multipled by E"
      ]
    },
    {
      "cell_type": "markdown",
      "metadata": {
        "id": "lMOlCoM3ncGa",
        "colab_type": "text"
      },
      "source": [
        "## 2.2 Find the following products: CD, AE, and BA. What are the dimensions of the resulting matrices? How does that relate to the dimensions of their factor matrices?"
      ]
    },
    {
      "cell_type": "markdown",
      "metadata": {
        "id": "cSY6ez1Kw-q2",
        "colab_type": "text"
      },
      "source": [
        "# CD will be 2x3 matrix\n",
        "# AE will be 3x2 matrix\n",
        "# BA will be 1x2 matrix"
      ]
    },
    {
      "cell_type": "code",
      "metadata": {
        "id": "zhKwiSItoE2F",
        "colab_type": "code",
        "colab": {}
      },
      "source": [
        "#lets represent arrays of the above vectors\n",
        "\n",
        "c = np.array([[9,6,3], [4,7,11]])\n",
        "d = np.array([[1,0,0], [0,1,0], [0,0,1]])\n",
        "\n",
        "a = np.array([[1,2], [3,4], [5,6]])\n",
        "e = np.array([[1,3], [5,7]])\n",
        "\n",
        "b = np.array([2,4,6])\n",
        "a = np.array([[1,2], [3,4], [5,6]])"
      ],
      "execution_count": 25,
      "outputs": []
    },
    {
      "cell_type": "code",
      "metadata": {
        "id": "4teHRuLPxTWn",
        "colab_type": "code",
        "colab": {
          "base_uri": "https://localhost:8080/",
          "height": 121
        },
        "outputId": "067b80a4-0b1c-421d-aac5-db1e926ba8fd"
      },
      "source": [
        "#lets find the dot product of above matrix\n",
        "print('The product of CD become: ',  np.dot(c,d))\n",
        "print('The product of AE looks become: ',  np.dot(a,e))\n",
        "print('The product of BA looks become: ',  np.dot(b,a))"
      ],
      "execution_count": 26,
      "outputs": [
        {
          "output_type": "stream",
          "text": [
            "The product of CD become:  [[ 9  6  3]\n",
            " [ 4  7 11]]\n",
            "The product of AE looks become:  [[11 17]\n",
            " [23 37]\n",
            " [35 57]]\n",
            "The product of BA looks become:  [44 56]\n"
          ],
          "name": "stdout"
        }
      ]
    },
    {
      "cell_type": "markdown",
      "metadata": {
        "id": "p2jmaGLgoFPN",
        "colab_type": "text"
      },
      "source": [
        "## 2.3  Find $F^{T}$. How are the numbers along the main diagonal (top left to bottom right) of the original matrix and its transpose related? What are the dimensions of $F$? What are the dimensions of $F^{T}$?\n",
        "\n",
        "\\begin{align}\n",
        "F = \n",
        "\\begin{bmatrix}\n",
        "20 & 19 & 18 & 17 \\\\\n",
        "16 & 15 & 14 & 13 \\\\\n",
        "12 & 11 & 10 & 9 \\\\\n",
        "8 & 7 & 6 & 5 \\\\\n",
        "4 & 3 & 2 & 1\n",
        "\\end{bmatrix}\n",
        "\\end{align}"
      ]
    },
    {
      "cell_type": "code",
      "metadata": {
        "id": "Wl3ElwgLqaAn",
        "colab_type": "code",
        "colab": {
          "base_uri": "https://localhost:8080/",
          "height": 86
        },
        "outputId": "7a7f0fbc-86aa-4201-ec6a-2159b875dd19"
      },
      "source": [
        "#lets creat the above matrix\n",
        "f=np.array([[20,19,18,17],[16,15,14,13],[12,11,10,9],[8,7,6,5],[4,3,2,1]])\n",
        "f.T"
      ],
      "execution_count": 27,
      "outputs": [
        {
          "output_type": "execute_result",
          "data": {
            "text/plain": [
              "array([[20, 16, 12,  8,  4],\n",
              "       [19, 15, 11,  7,  3],\n",
              "       [18, 14, 10,  6,  2],\n",
              "       [17, 13,  9,  5,  1]])"
            ]
          },
          "metadata": {
            "tags": []
          },
          "execution_count": 27
        }
      ]
    },
    {
      "cell_type": "markdown",
      "metadata": {
        "id": "13ik2LEEZLHn",
        "colab_type": "text"
      },
      "source": [
        "# Part 3 - Square Matrices"
      ]
    },
    {
      "cell_type": "markdown",
      "metadata": {
        "id": "sDBAPUwfp7f7",
        "colab_type": "text"
      },
      "source": [
        "## 3.1 Find $IG$ (be sure to show your work) 😃\n",
        "\n",
        "You don't have to do anything crazy complicated here to show your work, just create the G matrix as specified below, and a corresponding 2x2 Identity matrix and then multiply them together to show the result. You don't need to write LaTeX or anything like that (unless you want to).\n",
        "\n",
        "\\begin{align}\n",
        "G= \n",
        "\\begin{bmatrix}\n",
        "13 & 14 \\\\\n",
        "21 & 12 \n",
        "\\end{bmatrix}\n",
        "\\end{align}"
      ]
    },
    {
      "cell_type": "code",
      "metadata": {
        "id": "ZnqvZBOYqar3",
        "colab_type": "code",
        "colab": {}
      },
      "source": [
        "g=np.array([[13,14],[21,12]])\n",
        "i=np.array([[1,0],[0,1]])\n"
      ],
      "execution_count": 32,
      "outputs": []
    },
    {
      "cell_type": "code",
      "metadata": {
        "id": "yhRfXLEjCiwm",
        "colab_type": "code",
        "colab": {
          "base_uri": "https://localhost:8080/",
          "height": 52
        },
        "outputId": "cc7dc842-34e6-46a1-9b12-e34d75cacd28"
      },
      "source": [
        "#multiplying any matrix withe the identity matrix gives the matrix itself\n",
        "np.dot(g, i)"
      ],
      "execution_count": 35,
      "outputs": [
        {
          "output_type": "execute_result",
          "data": {
            "text/plain": [
              "array([[13, 14],\n",
              "       [21, 12]])"
            ]
          },
          "metadata": {
            "tags": []
          },
          "execution_count": 35
        }
      ]
    },
    {
      "cell_type": "code",
      "metadata": {
        "id": "4STwF-swDTK7",
        "colab_type": "code",
        "colab": {
          "base_uri": "https://localhost:8080/",
          "height": 52
        },
        "outputId": "5cec175d-ca6a-4b34-aac2-9c52dd6b2982"
      },
      "source": [
        "#to find the inverse of matrix g\n",
        "np.linalg.inv(g)"
      ],
      "execution_count": 36,
      "outputs": [
        {
          "output_type": "execute_result",
          "data": {
            "text/plain": [
              "array([[-0.08695652,  0.10144928],\n",
              "       [ 0.15217391, -0.0942029 ]])"
            ]
          },
          "metadata": {
            "tags": []
          },
          "execution_count": 36
        }
      ]
    },
    {
      "cell_type": "markdown",
      "metadata": {
        "id": "DZ_0XTDQqpMT",
        "colab_type": "text"
      },
      "source": [
        "## 3.2 Find $|H|$ and then find $|J|$.\n",
        "\n",
        "\\begin{align}\n",
        "H= \n",
        "\\begin{bmatrix}\n",
        "12 & 11 \\\\\n",
        "7 & 10 \n",
        "\\end{bmatrix}\n",
        "\\qquad\n",
        "J= \n",
        "\\begin{bmatrix}\n",
        "0 & 1 & 2 \\\\\n",
        "7 & 10 & 4 \\\\\n",
        "3 & 2 & 0\n",
        "\\end{bmatrix}\n",
        "\\end{align}\n"
      ]
    },
    {
      "cell_type": "code",
      "metadata": {
        "id": "5QShhoXyrjDS",
        "colab_type": "code",
        "colab": {
          "base_uri": "https://localhost:8080/",
          "height": 52
        },
        "outputId": "b3dfc851-6c5e-41dd-8fed-c4af815e5e60"
      },
      "source": [
        "#To find the determinant of vector H and vectr J\n",
        "H=np.array([[12,11],[7,10]])\n",
        "J=np.array([[0,1,2],[7,10,4],[3,2,0]])\n",
        "\n",
        "\n",
        "print(np.linalg.det(H))\n",
        "print(np.linalg.det(J))"
      ],
      "execution_count": 38,
      "outputs": [
        {
          "output_type": "stream",
          "text": [
            "43.000000000000014\n",
            "-19.999999999999996\n"
          ],
          "name": "stdout"
        }
      ]
    },
    {
      "cell_type": "markdown",
      "metadata": {
        "id": "2gZl1CFwrXSH",
        "colab_type": "text"
      },
      "source": [
        "## 3.3 Find $H^{-1}$ and then find $J^{-1}$"
      ]
    },
    {
      "cell_type": "code",
      "metadata": {
        "id": "nyX6De2-rio1",
        "colab_type": "code",
        "colab": {
          "base_uri": "https://localhost:8080/",
          "height": 208
        },
        "outputId": "2c56778c-c877-4ab4-bfed-f811c463e2e4"
      },
      "source": [
        "#find the inverse of H and J\n",
        "print(H)\n",
        "print(np.linalg.inv(H))\n",
        "print(\" \")\n",
        "print(J)\n",
        "print(np.linalg.inv(J))"
      ],
      "execution_count": 39,
      "outputs": [
        {
          "output_type": "stream",
          "text": [
            "[[12 11]\n",
            " [ 7 10]]\n",
            "[[ 0.23255814 -0.25581395]\n",
            " [-0.1627907   0.27906977]]\n",
            " \n",
            "[[ 0  1  2]\n",
            " [ 7 10  4]\n",
            " [ 3  2  0]]\n",
            "[[ 0.4  -0.2   0.8 ]\n",
            " [-0.6   0.3  -0.7 ]\n",
            " [ 0.8  -0.15  0.35]]\n"
          ],
          "name": "stdout"
        }
      ]
    },
    {
      "cell_type": "markdown",
      "metadata": {
        "id": "Vvd4Pe86rjhW",
        "colab_type": "text"
      },
      "source": [
        "## 3.4 Find $HH^{-1}$ and then find $J^{-1}J$. Is $HH^{-1} == J^{-1}J$? Why or Why not? \n",
        "\n",
        "Please ignore Python rounding errors. If necessary, format your output so that it rounds to 5 significant digits (the fifth decimal place)."
      ]
    },
    {
      "cell_type": "code",
      "metadata": {
        "id": "uc-BK_3GFeHt",
        "colab_type": "code",
        "colab": {
          "base_uri": "https://localhost:8080/",
          "height": 208
        },
        "outputId": "1bc408a5-b1ed-46a2-97f6-f75505cdc679"
      },
      "source": [
        "print(H)\n",
        "print(np.linalg.inv(H))\n",
        "print(\" \")\n",
        "print(J)\n",
        "print(np.linalg.inv(J))"
      ],
      "execution_count": 40,
      "outputs": [
        {
          "output_type": "stream",
          "text": [
            "[[12 11]\n",
            " [ 7 10]]\n",
            "[[ 0.23255814 -0.25581395]\n",
            " [-0.1627907   0.27906977]]\n",
            " \n",
            "[[ 0  1  2]\n",
            " [ 7 10  4]\n",
            " [ 3  2  0]]\n",
            "[[ 0.4  -0.2   0.8 ]\n",
            " [-0.6   0.3  -0.7 ]\n",
            " [ 0.8  -0.15  0.35]]\n"
          ],
          "name": "stdout"
        }
      ]
    },
    {
      "cell_type": "code",
      "metadata": {
        "id": "XuclB11yFzaT",
        "colab_type": "code",
        "colab": {
          "base_uri": "https://localhost:8080/",
          "height": 69
        },
        "outputId": "b8cc7e70-31a0-48a9-ec41-4e39523f0cb7"
      },
      "source": [
        "# H == G, True. the matricies are indentical. Matrix Equality \n",
        "H == J"
      ],
      "execution_count": 42,
      "outputs": [
        {
          "output_type": "stream",
          "text": [
            "/usr/local/lib/python3.6/dist-packages/ipykernel_launcher.py:2: DeprecationWarning: elementwise comparison failed; this will raise an error in the future.\n",
            "  \n"
          ],
          "name": "stderr"
        },
        {
          "output_type": "execute_result",
          "data": {
            "text/plain": [
              "False"
            ]
          },
          "metadata": {
            "tags": []
          },
          "execution_count": 42
        }
      ]
    },
    {
      "cell_type": "markdown",
      "metadata": {
        "id": "V0iTO4McYjtk",
        "colab_type": "text"
      },
      "source": [
        "# Stretch Goals: \n",
        "\n",
        "A reminder that these challenges are optional. If you finish your work quickly we welcome you to work on them. If there are other activities that you feel like will help your understanding of the above topics more, feel free to work on that. Topics from the Stretch Goals sections will never end up on Sprint Challenges. You don't have to do these in order, you don't have to do all of them. \n",
        "\n",
        "- Write a function that can calculate the dot product of any two vectors of equal length that are passed to it.\n",
        "- Write a function that can calculate the norm of any vector\n",
        "- Prove to yourself again that the vectors in 1.9 are orthogonal by graphing them. \n",
        "- Research how to plot a 3d graph with animations so that you can make the graph rotate (this will be easier in a local notebook than in google colab)\n",
        "- Create and plot a matrix on a 2d graph.\n",
        "- Create and plot a matrix on a 3d graph.\n",
        "- Plot two vectors that are not collinear on a 2d graph. Calculate the determinant of the 2x2 matrix that these vectors form. How does this determinant relate to the graphical interpretation of the vectors?\n",
        "\n"
      ]
    }
  ]
}