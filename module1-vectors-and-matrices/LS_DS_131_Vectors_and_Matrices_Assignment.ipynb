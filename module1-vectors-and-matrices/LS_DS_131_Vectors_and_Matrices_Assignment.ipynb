{
  "nbformat": 4,
  "nbformat_minor": 0,
  "metadata": {
    "colab": {
      "name": "Kumar_Veeravel-LS_DS_131_Vectors_and_Matrices_Assignment.ipynb",
      "provenance": [],
      "collapsed_sections": [
        "m2A02oaDdaMv"
      ],
      "include_colab_link": true
    },
    "kernelspec": {
      "name": "python3",
      "display_name": "Python 3"
    }
  },
  "cells": [
    {
      "cell_type": "markdown",
      "metadata": {
        "id": "view-in-github",
        "colab_type": "text"
      },
      "source": [
        "<a href=\"https://colab.research.google.com/github/mvkumar14/DS-Unit-1-Sprint-3-Linear-Algebra/blob/master/module1-vectors-and-matrices/LS_DS_131_Vectors_and_Matrices_Assignment.ipynb\" target=\"_parent\"><img src=\"https://colab.research.google.com/assets/colab-badge.svg\" alt=\"Open In Colab\"/></a>"
      ]
    },
    {
      "cell_type": "markdown",
      "metadata": {
        "id": "yXA3GwWhY9KL",
        "colab_type": "text"
      },
      "source": [
        "# Part 1 - Scalars and Vectors\n",
        "\n",
        "For the questions below it is not sufficient to simply provide answer to the questions, but you must solve the problems and show your work using python (the NumPy library will help a lot!) Translate the vectors and matrices into their appropriate python  representations and use numpy or functions that you write yourself to demonstrate the result or property. "
      ]
    },
    {
      "cell_type": "code",
      "metadata": {
        "id": "XNqjzQzrkVG7",
        "colab_type": "code",
        "colab": {}
      },
      "source": [
        "#All import statements\n",
        "import math\n",
        "import matplotlib.pyplot as plt\n",
        "import numpy as np\n",
        "from mpl_toolkits.mplot3d import Axes3D"
      ],
      "execution_count": 0,
      "outputs": []
    },
    {
      "cell_type": "markdown",
      "metadata": {
        "id": "oNOTv43_Zi9L",
        "colab_type": "text"
      },
      "source": [
        "## 1.1 Create a two-dimensional vector and plot it on a graph"
      ]
    },
    {
      "cell_type": "markdown",
      "metadata": {
        "id": "1ta08_xD76dw",
        "colab_type": "text"
      },
      "source": [
        "###A function to plot the np values directly"
      ]
    },
    {
      "cell_type": "code",
      "metadata": {
        "id": "Juw5Trv07yP2",
        "colab_type": "code",
        "colab": {}
      },
      "source": [
        "#A semi-useless function for performing this plotting:\n",
        "\n",
        "def plot_arrow(end,start = None,\n",
        "               padding = 1,\n",
        "               x_lims=None,\n",
        "               y_lims=None,\n",
        "               color=\"black\",\n",
        "               arrow = 0.5):\n",
        "  try:\n",
        "    if start == None:\n",
        "      start = [0,0]\n",
        "      plt.arrow(start[0],start[1],\n",
        "                end[0],end[1],\n",
        "                head_width=arrow,\n",
        "                head_length=arrow,\n",
        "                color=color)\n",
        "  except ValueError:\n",
        "    plt.arrow(start[0],start[1],\n",
        "            end[0],end[1],\n",
        "            head_width=arrow,\n",
        "            head_length=arrow,\n",
        "            color=color)\n",
        "  #xs\n",
        "  if x_lims == None:\n",
        "    if (end[0] > start[0]):\n",
        "      x_low = start[0]-padding\n",
        "      x_high = end[0]+padding\n",
        "    else:\n",
        "      x_low = end[0]-padding\n",
        "      x_high = start[0]+padding\n",
        "  else:\n",
        "    x_low = x_lims[0]\n",
        "    x_high= x_lims[1]\n",
        "   \n",
        "  #ys\n",
        "  if y_lims == None:\n",
        "    if end[1]> start[1]:\n",
        "      y_low = start[1]-padding\n",
        "      y_high = end[1]+padding\n",
        "    else:\n",
        "      y_low = end[1]-padding\n",
        "      y_high = start[1]+padding\n",
        "  else:\n",
        "    y_low = y_lims[0]\n",
        "    y_high= y_lims[1]\n",
        "  #these calculations are to pad the graph so I can view\n",
        "  #the full vector\n",
        "  plt.xlim(x_low,x_high)\n",
        "  plt.ylim(y_low,y_high)"
      ],
      "execution_count": 0,
      "outputs": []
    },
    {
      "cell_type": "markdown",
      "metadata": {
        "id": "SYJ5B6l38DDI",
        "colab_type": "text"
      },
      "source": [
        "### function in action"
      ]
    },
    {
      "cell_type": "code",
      "metadata": {
        "id": "0iyozsYm0gnv",
        "colab_type": "code",
        "colab": {
          "base_uri": "https://localhost:8080/",
          "height": 269
        },
        "outputId": "c61b1d81-3491-49e3-c3f6-85d7e51c7247"
      },
      "source": [
        "#My vector (2d = in plane, but also just 2 values in the array)\n",
        "a = np.array([0.5,0.5])\n",
        "#the origin\n",
        "o = np.array([0,0])\n",
        "#plotting my arrow\n",
        "plot_arrow(a)\n",
        "plt.show()"
      ],
      "execution_count": 49,
      "outputs": [
        {
          "output_type": "display_data",
          "data": {
            "image/png": "[encoded data removed]",
            "text/plain": [
              "<Figure size 432x288 with 1 Axes>"
            ]
          },
          "metadata": {
            "tags": []
          }
        }
      ]
    },
    {
      "cell_type": "markdown",
      "metadata": {
        "id": "unKFT619lk3e",
        "colab_type": "text"
      },
      "source": [
        "## 1.2 Create a three-dimensional vecor and plot it on a graph"
      ]
    },
    {
      "cell_type": "code",
      "metadata": {
        "id": "atUEd3T6llKm",
        "colab_type": "code",
        "colab": {
          "base_uri": "https://localhost:8080/",
          "height": 266
        },
        "outputId": "18d3ccab-8108-47d7-c078-c402ac3e45bb"
      },
      "source": [
        "#from mpl_toolkits.mplot3d import Axes3D\n",
        "\n",
        "b = np.array([1,2,3])\n",
        "o = np.array([0,0,0])\n",
        "\n",
        "fig = plt.figure()\n",
        "ax = fig.add_subplot(111,projection='3d')\n",
        "ax.quiver(o[0],o[1],o[2],b[0],b[1],b[2])\n",
        "ax.set_xlim([0,2])\n",
        "ax.set_ylim([0,3])\n",
        "ax.set_zlim([0,4])\n"
      ],
      "execution_count": 54,
      "outputs": [
        {
          "output_type": "execute_result",
          "data": {
            "text/plain": [
              "(0, 4)"
            ]
          },
          "metadata": {
            "tags": []
          },
          "execution_count": 54
        },
        {
          "output_type": "display_data",
          "data": {
            "image/png": "[encoded data removed]",
            "text/plain": [
              "<Figure size 432x288 with 1 Axes>"
            ]
          },
          "metadata": {
            "tags": []
          }
        }
      ]
    },
    {
      "cell_type": "markdown",
      "metadata": {
        "id": "b7qFxbKxZmI2",
        "colab_type": "text"
      },
      "source": [
        "## 1.3 Scale the vectors you created in 1.1 by $5$, $\\pi$, and $-e$ and plot all four vectors (original + 3 scaled vectors) on a graph. What do you notice about these vectors? "
      ]
    },
    {
      "cell_type": "code",
      "metadata": {
        "id": "ah6zMSLJdJwL",
        "colab_type": "code",
        "outputId": "4ff74f88-197f-454b-8411-ef580fecfad0",
        "colab": {
          "base_uri": "https://localhost:8080/",
          "height": 54
        }
      },
      "source": [
        "from math import e, pi\n",
        "print(e)\n",
        "print(pi)"
      ],
      "execution_count": 56,
      "outputs": [
        {
          "output_type": "stream",
          "text": [
            "2.718281828459045\n",
            "3.141592653589793\n"
          ],
          "name": "stdout"
        }
      ]
    },
    {
      "cell_type": "code",
      "metadata": {
        "id": "3qpwDlzXkVf5",
        "colab_type": "code",
        "colab": {
          "base_uri": "https://localhost:8080/",
          "height": 91
        },
        "outputId": "6af8373a-4b79-4bf6-b64f-461e096439de"
      },
      "source": [
        "print(a)\n",
        "print(a*5)\n",
        "print(a*pi)\n",
        "print(a*e)"
      ],
      "execution_count": 58,
      "outputs": [
        {
          "output_type": "stream",
          "text": [
            "[0.5 0.5]\n",
            "[2.5 2.5]\n",
            "[1.57079633 1.57079633]\n",
            "[1.35914091 1.35914091]\n"
          ],
          "name": "stdout"
        }
      ]
    },
    {
      "cell_type": "markdown",
      "metadata": {
        "id": "wrgqa6sWimbH",
        "colab_type": "text"
      },
      "source": [
        "## 1.4 Graph vectors $\\vec{a}$ and $\\vec{b}$ and plot them on a graph\n",
        "\n",
        "\\begin{align}\n",
        "\\vec{a} = \\begin{bmatrix} 5 \\\\ 7 \\end{bmatrix}\n",
        "\\qquad\n",
        "\\vec{b} = \\begin{bmatrix} 3 \\\\4 \\end{bmatrix}\n",
        "\\end{align}"
      ]
    },
    {
      "cell_type": "code",
      "metadata": {
        "id": "I1BGXA_skV-b",
        "colab_type": "code",
        "colab": {
          "base_uri": "https://localhost:8080/",
          "height": 269
        },
        "outputId": "b149683b-844b-4406-bd00-63325569a325"
      },
      "source": [
        "a = np.array([5,7])\n",
        "b = np.array([3,4])\n",
        "arrow_scale = 0.2\n",
        "\n",
        "plot_arrow(b,arrow=arrow_scale,color=\"blue\")\n",
        "plot_arrow(a,arrow = arrow_scale)"
      ],
      "execution_count": 92,
      "outputs": [
        {
          "output_type": "display_data",
          "data": {
            "image/png": "[encoded data removed]",
            "text/plain": [
              "<Figure size 432x288 with 1 Axes>"
            ]
          },
          "metadata": {
            "tags": []
          }
        }
      ]
    },
    {
      "cell_type": "markdown",
      "metadata": {
        "id": "QN6RU_3gizpw",
        "colab_type": "text"
      },
      "source": [
        "## 1.5 find $\\vec{a} - \\vec{b}$ and plot the result on the same graph as $\\vec{a}$ and $\\vec{b}$. Is there a relationship between vectors $\\vec{a} \\thinspace, \\vec{b} \\thinspace \\text{and} \\thinspace \\vec{a-b}$"
      ]
    },
    {
      "cell_type": "code",
      "metadata": {
        "id": "68sWHIOPkXp5",
        "colab_type": "code",
        "colab": {
          "base_uri": "https://localhost:8080/",
          "height": 287
        },
        "outputId": "dd5f50d7-50b1-4c08-d14c-45df8f3a0213"
      },
      "source": [
        "print(a-b)\n",
        "c = a-b\n",
        "plot_arrow(c,arrow=arrow_scale,color='red')\n",
        "plot_arrow(b,arrow=arrow_scale,color=\"blue\")\n",
        "plot_arrow(a,arrow = arrow_scale)\n"
      ],
      "execution_count": 97,
      "outputs": [
        {
          "output_type": "stream",
          "text": [
            "[2 3]\n"
          ],
          "name": "stdout"
        },
        {
          "output_type": "display_data",
          "data": {
            "image/png": "[encoded data removed]",
            "text/plain": [
              "<Figure size 432x288 with 1 Axes>"
            ]
          },
          "metadata": {
            "tags": []
          }
        }
      ]
    },
    {
      "cell_type": "code",
      "metadata": {
        "id": "QqxlZdGLFR6s",
        "colab_type": "code",
        "colab": {
          "base_uri": "https://localhost:8080/",
          "height": 269
        },
        "outputId": "127ee2b9-ef53-4380-a8d9-3ca8d08f77a2"
      },
      "source": [
        "#here is the same vector but starting at \n",
        "#tip of a going to tip of b\n",
        "plot_arrow(b,a)\n",
        "#and this is where I relaize my function is broken :D"
      ],
      "execution_count": 104,
      "outputs": [
        {
          "output_type": "display_data",
          "data": {
            "image/png": "[encoded data removed]",
            "text/plain": [
              "<Figure size 432x288 with 1 Axes>"
            ]
          },
          "metadata": {
            "tags": []
          }
        }
      ]
    },
    {
      "cell_type": "markdown",
      "metadata": {
        "id": "1ZPVuJAlehu_",
        "colab_type": "text"
      },
      "source": [
        "## 1.6 Find $c \\cdot d$\n",
        "\n",
        "\\begin{align}\n",
        "\\vec{c} = \\begin{bmatrix}7 & 22 & 4 & 16\\end{bmatrix}\n",
        "\\qquad\n",
        "\\vec{d} = \\begin{bmatrix}12 & 6 & 2 & 9\\end{bmatrix}\n",
        "\\end{align}\n"
      ]
    },
    {
      "cell_type": "code",
      "metadata": {
        "id": "2_cZQFCskYNr",
        "colab_type": "code",
        "colab": {
          "base_uri": "https://localhost:8080/",
          "height": 54
        },
        "outputId": "9dac928d-febe-4175-fec2-be1b1149a56b"
      },
      "source": [
        "c = np.array([7,22,4,16])\n",
        "d = np.array([12,6,2,9])\n",
        "print(c*d)\n",
        "print(\"dot product =\",sum(c*d))"
      ],
      "execution_count": 112,
      "outputs": [
        {
          "output_type": "stream",
          "text": [
            "[ 84 132   8 144]\n",
            "dot product = 368\n"
          ],
          "name": "stdout"
        }
      ]
    },
    {
      "cell_type": "code",
      "metadata": {
        "id": "8mLVa8ATHvgt",
        "colab_type": "code",
        "colab": {
          "base_uri": "https://localhost:8080/",
          "height": 35
        },
        "outputId": "a4e7b16c-fd12-48ef-e11f-91f1e6f7867b"
      },
      "source": [
        "!pip install numpy"
      ],
      "execution_count": 115,
      "outputs": [
        {
          "output_type": "stream",
          "text": [
            "Requirement already satisfied: numpy in /usr/local/lib/python3.6/dist-packages (1.16.5)\n"
          ],
          "name": "stdout"
        }
      ]
    },
    {
      "cell_type": "code",
      "metadata": {
        "id": "d3CYweIAHNIu",
        "colab_type": "code",
        "colab": {
          "base_uri": "https://localhost:8080/",
          "height": 35
        },
        "outputId": "0b0b63d0-7beb-4e49-9b4d-8eb2c5cd14a6"
      },
      "source": [
        "import numpy.linalg\n",
        "#testing with the library:\n",
        "#I made the mistake of thinking it was \n",
        "#np.linalg.dot(). That doesn't work\n",
        "np.dot(c,d)"
      ],
      "execution_count": 124,
      "outputs": [
        {
          "output_type": "execute_result",
          "data": {
            "text/plain": [
              "368"
            ]
          },
          "metadata": {
            "tags": []
          },
          "execution_count": 124
        }
      ]
    },
    {
      "cell_type": "markdown",
      "metadata": {
        "id": "cLm8yokpfg9B",
        "colab_type": "text"
      },
      "source": [
        "##  1.7 Find $e \\times f$\n",
        "\n",
        "\\begin{align}\n",
        "\\vec{e} = \\begin{bmatrix} 5 \\\\ 7 \\\\ 2 \\end{bmatrix}\n",
        "\\qquad\n",
        "\\vec{f} = \\begin{bmatrix} 3 \\\\4 \\\\ 6 \\end{bmatrix}\n",
        "\\end{align}\n",
        "\n",
        "I'm assuming these vectors represent x,y,z coordinates, so I'm not taking into account that they are shaped in columns instead of rows (neither does numpy so it shouldn't be a problem)\n"
      ]
    },
    {
      "cell_type": "code",
      "metadata": {
        "id": "ku-TdCKAkYs8",
        "colab_type": "code",
        "colab": {
          "base_uri": "https://localhost:8080/",
          "height": 35
        },
        "outputId": "5a06fde5-3336-425f-84bb-6928e05d8a81"
      },
      "source": [
        "\n",
        "#Here it is with numpy\n",
        "e= np.array([5,7,2])\n",
        "f= np.array([3,4,6])\n",
        "np.cross(e,f)"
      ],
      "execution_count": 126,
      "outputs": [
        {
          "output_type": "execute_result",
          "data": {
            "text/plain": [
              "array([ 34, -24,  -1])"
            ]
          },
          "metadata": {
            "tags": []
          },
          "execution_count": 126
        }
      ]
    },
    {
      "cell_type": "code",
      "metadata": {
        "id": "qZ8sEiPuNrqR",
        "colab_type": "code",
        "colab": {
          "base_uri": "https://localhost:8080/",
          "height": 35
        },
        "outputId": "1c4c2352-43da-45d5-e0e6-c3dcf432c603"
      },
      "source": [
        "#And here we have it manually. \n",
        "result = []\n",
        "#element 1 \n",
        "result.append(7*6 - 4*2)\n",
        "#element 2\n",
        "result.append(5*6 - 3*2)\n",
        "#element 3\n",
        "result.append(5*4 - 3*7)\n",
        "print(result)"
      ],
      "execution_count": 129,
      "outputs": [
        {
          "output_type": "stream",
          "text": [
            "[34, 24, -1]\n"
          ],
          "name": "stdout"
        }
      ]
    },
    {
      "cell_type": "markdown",
      "metadata": {
        "id": "-TN8wO2-h53s",
        "colab_type": "text"
      },
      "source": [
        "## 1.8 Find $||g||$ and then find $||h||$. Which is longer?\n",
        "\n",
        "\\begin{align}\n",
        "\\vec{g} = \\begin{bmatrix} 1 \\\\ 1 \\\\ 1 \\\\ 8 \\end{bmatrix}\n",
        "\\qquad\n",
        "\\vec{h} = \\begin{bmatrix} 3 \\\\3 \\\\ 3 \\\\ 3 \\end{bmatrix}\n",
        "\\end{align}"
      ]
    },
    {
      "cell_type": "code",
      "metadata": {
        "id": "-5VKOMKBlgaA",
        "colab_type": "code",
        "colab": {
          "base_uri": "https://localhost:8080/",
          "height": 91
        },
        "outputId": "7a5eebe3-18eb-41fb-8435-07de6256746e"
      },
      "source": [
        "def vec_len(a):\n",
        "  my_sum = 0\n",
        "  for i in a:\n",
        "    my_sum += i**2\n",
        "  return my_sum**0.5\n",
        "  \n",
        "#^The cleaner way to do the above is:\n",
        "\n",
        "def mag(x):\n",
        "  return sum(i**2 for i in x)**0.5\n",
        "\n",
        "#The even cleaner way (assuming x is np array)\n",
        "\n",
        "def mag_clean(x):\n",
        "  return sum(x*x)**0.5\n",
        "\n",
        "g = np.array([1,1,1,8])\n",
        "h = np.array([3,3,3,3])\n",
        "\n",
        "print(vec_len(g))\n",
        "print(mag_clean(g))\n",
        "print(mag(g))\n",
        "print(mag(h))\n",
        "\n"
      ],
      "execution_count": 208,
      "outputs": [
        {
          "output_type": "stream",
          "text": [
            "8.18535277187245\n",
            "8.18535277187245\n",
            "8.18535277187245\n",
            "6.0\n"
          ],
          "name": "stdout"
        }
      ]
    },
    {
      "cell_type": "code",
      "metadata": {
        "id": "L5drqhAlR0jr",
        "colab_type": "code",
        "colab": {
          "base_uri": "https://localhost:8080/",
          "height": 54
        },
        "outputId": "b61a62dd-a767-4224-f60c-bb1aa52958a4"
      },
      "source": [
        "print(np.linalg.norm(g))\n",
        "print(np.linalg.norm(h))"
      ],
      "execution_count": 138,
      "outputs": [
        {
          "output_type": "stream",
          "text": [
            "8.18535277187245\n",
            "6.0\n"
          ],
          "name": "stdout"
        }
      ]
    },
    {
      "cell_type": "markdown",
      "metadata": {
        "id": "njrWIMS-ZAoH",
        "colab_type": "text"
      },
      "source": [
        "# Part 2 - Matrices"
      ]
    },
    {
      "cell_type": "markdown",
      "metadata": {
        "id": "GjkcAVIOmOnn",
        "colab_type": "text"
      },
      "source": [
        "## 2.1 What are the dimensions of the following matrices? Which of the following can be multiplied together? See if you can find all of the different legal combinations.\n",
        "\\begin{align}\n",
        "A = \\begin{bmatrix}\n",
        "1 & 2 \\\\\n",
        "3 & 4 \\\\\n",
        "5 & 6\n",
        "\\end{bmatrix}\n",
        "\\qquad\n",
        "B = \\begin{bmatrix}\n",
        "2 & 4 & 6 \\\\\n",
        "\\end{bmatrix}\n",
        "\\qquad\n",
        "C = \\begin{bmatrix}\n",
        "9 & 6 & 3 \\\\\n",
        "4 & 7 & 11\n",
        "\\end{bmatrix}\n",
        "\\qquad\n",
        "D = \\begin{bmatrix}\n",
        "1 & 0 & 0 \\\\\n",
        "0 & 1 & 0 \\\\\n",
        "0 & 0 & 1\n",
        "\\end{bmatrix}\n",
        "\\qquad\n",
        "E = \\begin{bmatrix}\n",
        "1 & 3 \\\\\n",
        "5 & 7\n",
        "\\end{bmatrix}\n",
        "\\end{align}"
      ]
    },
    {
      "cell_type": "markdown",
      "metadata": {
        "id": "l4REvUUYShnr",
        "colab_type": "text"
      },
      "source": [
        "A = (3,2), B = (1,3),C = (2,3),D = (3,3),E = (2,2)\n",
        "\n",
        "---\n",
        "Possible multiplcations:\n",
        "* AxC\n",
        "* AxE\n",
        "* BxA\n",
        "* BxD\n",
        "* CxA\n",
        "* CxD\n",
        "* DxA\n",
        "* ExC\n",
        "\n",
        "\n",
        "\n",
        "\n"
      ]
    },
    {
      "cell_type": "code",
      "metadata": {
        "id": "2PJ9Ch9pTvdz",
        "colab_type": "code",
        "colab": {}
      },
      "source": [
        "A = np.array([[1,2],[3,4],[5,6]])\n",
        "B = np.array([2,4,6])\n",
        "C = np.array([[9,6,3],[4,7,11]])\n",
        "D = np.array([[1,0,0],[0,1,0],[0,0,1]])\n",
        "E = np.array([[1,3],[5,7]])"
      ],
      "execution_count": 0,
      "outputs": []
    },
    {
      "cell_type": "markdown",
      "metadata": {
        "id": "lMOlCoM3ncGa",
        "colab_type": "text"
      },
      "source": [
        "## 2.2 Find the following products: CD, AE, and BA. What are the dimensions of the resulting matrices? How does that relate to the dimensions of their factor matrices?"
      ]
    },
    {
      "cell_type": "code",
      "metadata": {
        "id": "8vCcyUcfdNFu",
        "colab_type": "code",
        "colab": {
          "base_uri": "https://localhost:8080/",
          "height": 128
        },
        "outputId": "d9510e8a-bf37-4f2f-fa05-82e616cf7809"
      },
      "source": [
        "AE = np.matmul(A,E)\n",
        "BA = np.matmul(B,A)\n",
        "print(AE.shape)\n",
        "print(AE)\n",
        "print(BA.shape)\n",
        "print(BA)"
      ],
      "execution_count": 182,
      "outputs": [
        {
          "output_type": "stream",
          "text": [
            "(3, 2)\n",
            "[[11 17]\n",
            " [23 37]\n",
            " [35 57]]\n",
            "(2,)\n",
            "[44 56]\n"
          ],
          "name": "stdout"
        }
      ]
    },
    {
      "cell_type": "code",
      "metadata": {
        "id": "zhKwiSItoE2F",
        "colab_type": "code",
        "colab": {
          "base_uri": "https://localhost:8080/",
          "height": 72
        },
        "outputId": "e231a1a6-3a62-410c-e606-e5232821b666"
      },
      "source": [
        "CD = np.matmul(C,D)\n",
        "print(CD.shape)\n",
        "CD\n"
      ],
      "execution_count": 180,
      "outputs": [
        {
          "output_type": "stream",
          "text": [
            "(2, 3)\n"
          ],
          "name": "stdout"
        },
        {
          "output_type": "execute_result",
          "data": {
            "text/plain": [
              "array([[ 9,  6,  3],\n",
              "       [ 4,  7, 11]])"
            ]
          },
          "metadata": {
            "tags": []
          },
          "execution_count": 180
        }
      ]
    },
    {
      "cell_type": "code",
      "metadata": {
        "id": "CU9iQ2xRWWtj",
        "colab_type": "code",
        "colab": {
          "base_uri": "https://localhost:8080/",
          "height": 35
        },
        "outputId": "8c846d49-8098-4c67-a389-8e0eee3ffc88"
      },
      "source": [
        "print(len(C))"
      ],
      "execution_count": 160,
      "outputs": [
        {
          "output_type": "stream",
          "text": [
            "2\n"
          ],
          "name": "stdout"
        }
      ]
    },
    {
      "cell_type": "code",
      "metadata": {
        "id": "rBcsY-tdU03q",
        "colab_type": "code",
        "colab": {
          "base_uri": "https://localhost:8080/",
          "height": 128
        },
        "outputId": "c93ab5d7-9ba9-418b-cd07-ea7ff60b40f8"
      },
      "source": [
        "#Manually: \n",
        "#location 1,1\n",
        "print(np.dot(C[0],D[:,0]))\n",
        "#location 1,2\n",
        "print(np.dot(C[0],D[:,1]))\n",
        "#location 1,3\n",
        "print(np.dot(C[0],D[:,2]))\n",
        "#location 2,1\n",
        "print(np.dot(C[1],D[:,0]))\n",
        "#location 2,2\n",
        "print(np.dot(C[1],D[:,1]))\n",
        "#location 2,3\n",
        "print(np.dot(C[1],D[:,2]))\n"
      ],
      "execution_count": 179,
      "outputs": [
        {
          "output_type": "stream",
          "text": [
            "9\n",
            "6\n",
            "3\n",
            "4\n",
            "7\n",
            "11\n"
          ],
          "name": "stdout"
        }
      ]
    },
    {
      "cell_type": "markdown",
      "metadata": {
        "id": "m2A02oaDdaMv",
        "colab_type": "text"
      },
      "source": [
        "### let see if I can write my own matmult"
      ]
    },
    {
      "cell_type": "code",
      "metadata": {
        "id": "lTsnRiP5c9Q6",
        "colab_type": "code",
        "colab": {
          "base_uri": "https://localhost:8080/",
          "height": 72
        },
        "outputId": "d31dfbd7-ff8a-4d35-9490-4bb0fbab5605"
      },
      "source": [
        "#there is no check the two have to be proper numpy matrices\n",
        "def my_matmult(A,B):\n",
        "  result = []\n",
        "  for i in A:\n",
        "    # print(i)\n",
        "    sub_result = []\n",
        "    for j in B.T:\n",
        "      # print(j)\n",
        "      sub_result.append(np.dot(i,j))\n",
        "      # print(sub_result)\n",
        "    result.append(sub_result)\n",
        "  return np.array(result)"
      ],
      "execution_count": 247,
      "outputs": [
        {
          "output_type": "execute_result",
          "data": {
            "text/plain": [
              "array([[11, 17],\n",
              "       [23, 37],\n",
              "       [35, 57]])"
            ]
          },
          "metadata": {
            "tags": []
          },
          "execution_count": 247
        }
      ]
    },
    {
      "cell_type": "code",
      "metadata": {
        "id": "nzTjdx9LAz_A",
        "colab_type": "code",
        "colab": {
          "base_uri": "https://localhost:8080/",
          "height": 72
        },
        "outputId": "72d0512e-0fe6-4a48-a1da-9e21ac86ea63"
      },
      "source": [
        "#Testing here to make sure it works\n",
        "my_matmult(A,E)\n",
        "#And it does!"
      ],
      "execution_count": 249,
      "outputs": [
        {
          "output_type": "execute_result",
          "data": {
            "text/plain": [
              "array([[11, 17],\n",
              "       [23, 37],\n",
              "       [35, 57]])"
            ]
          },
          "metadata": {
            "tags": []
          },
          "execution_count": 249
        }
      ]
    },
    {
      "cell_type": "code",
      "metadata": {
        "id": "tsRdf4NucL7N",
        "colab_type": "code",
        "colab": {
          "base_uri": "https://localhost:8080/",
          "height": 201
        },
        "outputId": "64c2b777-9aa2-4f6d-ab41-7703c15628ac"
      },
      "source": [
        "#The core functionality of that comes with testing this bit out\n",
        "#I couldn't get it to work just by slicing the original array,\n",
        "#So I transposed the original array to access the columns easier. \n",
        "print(C)\n",
        "for i in range(2):\n",
        "  for index,j in enumerate(C[:,i]):\n",
        "    print(\"loop:\",i,index,'value:',j)\n",
        "    print(C[i,index])"
      ],
      "execution_count": 248,
      "outputs": [
        {
          "output_type": "stream",
          "text": [
            "[[ 9  6  3]\n",
            " [ 4  7 11]]\n",
            "loop: 0 0 value: 9\n",
            "9\n",
            "loop: 0 1 value: 4\n",
            "6\n",
            "loop: 1 0 value: 6\n",
            "4\n",
            "loop: 1 1 value: 7\n",
            "7\n"
          ],
          "name": "stdout"
        }
      ]
    },
    {
      "cell_type": "code",
      "metadata": {
        "id": "02Po9Rrv-9Fa",
        "colab_type": "code",
        "colab": {
          "base_uri": "https://localhost:8080/",
          "height": 54
        },
        "outputId": "1fd36ace-0f4c-4423-d6c7-220889af4830"
      },
      "source": [
        "for i in C[:,1]:\n",
        "  print(\"i\",i)"
      ],
      "execution_count": 237,
      "outputs": [
        {
          "output_type": "stream",
          "text": [
            "i 6\n",
            "i 7\n"
          ],
          "name": "stdout"
        }
      ]
    },
    {
      "cell_type": "markdown",
      "metadata": {
        "id": "p2jmaGLgoFPN",
        "colab_type": "text"
      },
      "source": [
        "## 2.3  Find $F^{T}$. How are the numbers along the main diagonal (top left to bottom right) of the original matrix and its transpose related? What are the dimensions of $F$? What are the dimensions of $F^{T}$?\n",
        "\n",
        "\\begin{align}\n",
        "F = \n",
        "\\begin{bmatrix}\n",
        "20 & 19 & 18 & 17 \\\\\n",
        "16 & 15 & 14 & 13 \\\\\n",
        "12 & 11 & 10 & 9 \\\\\n",
        "8 & 7 & 6 & 5 \\\\\n",
        "4 & 3 & 2 & 1\n",
        "\\end{bmatrix}\n",
        "\\end{align}"
      ]
    },
    {
      "cell_type": "markdown",
      "metadata": {
        "id": "8KFugw9qd6c4",
        "colab_type": "text"
      },
      "source": [
        "The numbers along the main diagonal are the same. \n",
        "\n",
        "Old shape = (5,4)\n",
        "New shape = (4,5)"
      ]
    },
    {
      "cell_type": "code",
      "metadata": {
        "id": "Wl3ElwgLqaAn",
        "colab_type": "code",
        "colab": {
          "base_uri": "https://localhost:8080/",
          "height": 128
        },
        "outputId": "5f23bc62-0f02-4e86-8d43-08fe6310cfea"
      },
      "source": [
        "F = np.array([[20,19,18,17],\n",
        "              [16,15,14,13],\n",
        "              [12,11,10,9],\n",
        "              [8,7,6,5],\n",
        "              [4,3,2,1]])\n",
        "print(F.shape)\n",
        "F"
      ],
      "execution_count": 187,
      "outputs": [
        {
          "output_type": "stream",
          "text": [
            "(5, 4)\n"
          ],
          "name": "stdout"
        },
        {
          "output_type": "execute_result",
          "data": {
            "text/plain": [
              "array([[20, 19, 18, 17],\n",
              "       [16, 15, 14, 13],\n",
              "       [12, 11, 10,  9],\n",
              "       [ 8,  7,  6,  5],\n",
              "       [ 4,  3,  2,  1]])"
            ]
          },
          "metadata": {
            "tags": []
          },
          "execution_count": 187
        }
      ]
    },
    {
      "cell_type": "code",
      "metadata": {
        "id": "OTHEgzFGeVdq",
        "colab_type": "code",
        "colab": {
          "base_uri": "https://localhost:8080/",
          "height": 109
        },
        "outputId": "2a50a14a-43d5-47bf-b88b-7fbc0a88e0ca"
      },
      "source": [
        "print(F.T.shape)\n",
        "F.T"
      ],
      "execution_count": 188,
      "outputs": [
        {
          "output_type": "stream",
          "text": [
            "(4, 5)\n"
          ],
          "name": "stdout"
        },
        {
          "output_type": "execute_result",
          "data": {
            "text/plain": [
              "array([[20, 16, 12,  8,  4],\n",
              "       [19, 15, 11,  7,  3],\n",
              "       [18, 14, 10,  6,  2],\n",
              "       [17, 13,  9,  5,  1]])"
            ]
          },
          "metadata": {
            "tags": []
          },
          "execution_count": 188
        }
      ]
    },
    {
      "cell_type": "markdown",
      "metadata": {
        "id": "13ik2LEEZLHn",
        "colab_type": "text"
      },
      "source": [
        "# Part 3 - Square Matrices"
      ]
    },
    {
      "cell_type": "markdown",
      "metadata": {
        "id": "sDBAPUwfp7f7",
        "colab_type": "text"
      },
      "source": [
        "## 3.1 Find $IG$ (be sure to show your work) 😃\n",
        "\n",
        "You don't have to do anything crazy complicated here to show your work, just create the G matrix as specified below, and a corresponding 2x2 Identity matrix and then multiply them together to show the result. You don't need to write LaTeX or anything like that (unless you want to).\n",
        "\n",
        "\\begin{align}\n",
        "G= \n",
        "\\begin{bmatrix}\n",
        "13 & 14 \\\\\n",
        "21 & 12 \n",
        "\\end{bmatrix}\n",
        "\\end{align}"
      ]
    },
    {
      "cell_type": "code",
      "metadata": {
        "id": "ZnqvZBOYqar3",
        "colab_type": "code",
        "colab": {
          "base_uri": "https://localhost:8080/",
          "height": 91
        },
        "outputId": "362d9f59-9592-42a9-e780-39b3d473431e"
      },
      "source": [
        "I = np.array([[1,0],\n",
        "              [0,1]])\n",
        "G = np.array([[12,11],\n",
        "              [7,10]])\n",
        "np.matmul(I,G)\n",
        "#G is unchanged as it should be\n"
      ],
      "execution_count": 194,
      "outputs": [
        {
          "output_type": "stream",
          "text": [
            "[[1 0]\n",
            " [0 1]]\n"
          ],
          "name": "stdout"
        },
        {
          "output_type": "execute_result",
          "data": {
            "text/plain": [
              "array([[12, 11],\n",
              "       [ 7, 10]])"
            ]
          },
          "metadata": {
            "tags": []
          },
          "execution_count": 194
        }
      ]
    },
    {
      "cell_type": "code",
      "metadata": {
        "id": "GyCrO4uTe6sP",
        "colab_type": "code",
        "colab": {
          "base_uri": "https://localhost:8080/",
          "height": 54
        },
        "outputId": "c920b18a-5f85-43b4-eea6-05875ab0c0ef"
      },
      "source": [
        "# and for good measure\n",
        "np.matmul(G,I)"
      ],
      "execution_count": 191,
      "outputs": [
        {
          "output_type": "execute_result",
          "data": {
            "text/plain": [
              "array([[12, 11],\n",
              "       [ 7, 10]])"
            ]
          },
          "metadata": {
            "tags": []
          },
          "execution_count": 191
        }
      ]
    },
    {
      "cell_type": "markdown",
      "metadata": {
        "id": "DZ_0XTDQqpMT",
        "colab_type": "text"
      },
      "source": [
        "## 3.2 Find $|H|$ and then find $|J|$.\n",
        "\n",
        "\\begin{align}\n",
        "H= \n",
        "\\begin{bmatrix}\n",
        "12 & 11 \\\\\n",
        "7 & 10 \n",
        "\\end{bmatrix}\n",
        "\\qquad\n",
        "J= \n",
        "\\begin{bmatrix}\n",
        "0 & 1 & 2 \\\\\n",
        "7 & 10 & 4 \\\\\n",
        "3 & 2 & 0\n",
        "\\end{bmatrix}\n",
        "\\end{align}\n"
      ]
    },
    {
      "cell_type": "code",
      "metadata": {
        "id": "5QShhoXyrjDS",
        "colab_type": "code",
        "colab": {}
      },
      "source": [
        "H = [12,11],[7,10]\n",
        "H = np.array(H)\n",
        "\n",
        "J = [[0,1,2],\n",
        "    [7,10,4],\n",
        "    [3,2,0]]\n",
        "J = np.array(J)"
      ],
      "execution_count": 0,
      "outputs": []
    },
    {
      "cell_type": "code",
      "metadata": {
        "id": "vVTxthLhfvMD",
        "colab_type": "code",
        "colab": {
          "base_uri": "https://localhost:8080/",
          "height": 35
        },
        "outputId": "9add343a-a90a-4dd0-a495-e6e1be860e81"
      },
      "source": [
        "#Manual:\n",
        "H_det = 12*10-7*11\n",
        "H_det"
      ],
      "execution_count": 205,
      "outputs": [
        {
          "output_type": "execute_result",
          "data": {
            "text/plain": [
              "43"
            ]
          },
          "metadata": {
            "tags": []
          },
          "execution_count": 205
        }
      ]
    },
    {
      "cell_type": "code",
      "metadata": {
        "id": "Aex2ibqffjso",
        "colab_type": "code",
        "colab": {
          "base_uri": "https://localhost:8080/",
          "height": 35
        },
        "outputId": "8d098717-0f45-4fc7-a19a-c1fed477fcac"
      },
      "source": [
        "#Auto\n",
        "np.linalg.det(H)"
      ],
      "execution_count": 202,
      "outputs": [
        {
          "output_type": "execute_result",
          "data": {
            "text/plain": [
              "43.000000000000014"
            ]
          },
          "metadata": {
            "tags": []
          },
          "execution_count": 202
        }
      ]
    },
    {
      "cell_type": "code",
      "metadata": {
        "id": "cD6-4_N0f8ru",
        "colab_type": "code",
        "colab": {
          "base_uri": "https://localhost:8080/",
          "height": 35
        },
        "outputId": "565b3700-b78a-44f9-e467-6675bab1eb05"
      },
      "source": [
        "#Manual\n",
        "J_det = 0*(10*0-4*2)-1*(7*0-4*3)+2*(7*2-10*3)\n",
        "J_det"
      ],
      "execution_count": 206,
      "outputs": [
        {
          "output_type": "execute_result",
          "data": {
            "text/plain": [
              "-20"
            ]
          },
          "metadata": {
            "tags": []
          },
          "execution_count": 206
        }
      ]
    },
    {
      "cell_type": "code",
      "metadata": {
        "id": "YqE0JnBYf9A6",
        "colab_type": "code",
        "colab": {
          "base_uri": "https://localhost:8080/",
          "height": 35
        },
        "outputId": "e831bd34-118d-418f-e5ff-e63e7b4dffec"
      },
      "source": [
        "np.linalg.det(J)"
      ],
      "execution_count": 207,
      "outputs": [
        {
          "output_type": "execute_result",
          "data": {
            "text/plain": [
              "-19.999999999999996"
            ]
          },
          "metadata": {
            "tags": []
          },
          "execution_count": 207
        }
      ]
    },
    {
      "cell_type": "markdown",
      "metadata": {
        "id": "2gZl1CFwrXSH",
        "colab_type": "text"
      },
      "source": [
        "## 3.3 Find $H^{-1}$ and then find $J^{-1}$"
      ]
    },
    {
      "cell_type": "code",
      "metadata": {
        "id": "nyX6De2-rio1",
        "colab_type": "code",
        "colab": {
          "base_uri": "https://localhost:8080/",
          "height": 54
        },
        "outputId": "9236919c-72dc-4058-c91e-be7694a60c05"
      },
      "source": [
        "#With Numpy:\n",
        "H_inv = numpy.linalg.inv(H)\n",
        "print(H_inv)\n",
        "#Lets check:\n",
        "numpy.matmul(H,H_inv)\n",
        "#effectivley the identity matrix (rounding error aside)"
      ],
      "execution_count": 212,
      "outputs": [
        {
          "output_type": "execute_result",
          "data": {
            "text/plain": [
              "array([[1.00000000e+00, 5.55111512e-16],\n",
              "       [2.22044605e-16, 1.00000000e+00]])"
            ]
          },
          "metadata": {
            "tags": []
          },
          "execution_count": 212
        }
      ]
    },
    {
      "cell_type": "code",
      "metadata": {
        "id": "eYmsj41I7vif",
        "colab_type": "code",
        "colab": {
          "base_uri": "https://localhost:8080/",
          "height": 72
        },
        "outputId": "f792c5d9-40be-4bce-e356-8d00a799ef32"
      },
      "source": [
        "J_inv = numpy.linalg.inv(J)\n",
        "print(J_inv)\n"
      ],
      "execution_count": 214,
      "outputs": [
        {
          "output_type": "execute_result",
          "data": {
            "text/plain": [
              "array([[ 0.4 , -0.2 ,  0.8 ],\n",
              "       [-0.6 ,  0.3 , -0.7 ],\n",
              "       [ 0.8 , -0.15,  0.35]])"
            ]
          },
          "metadata": {
            "tags": []
          },
          "execution_count": 214
        }
      ]
    },
    {
      "cell_type": "markdown",
      "metadata": {
        "id": "Vvd4Pe86rjhW",
        "colab_type": "text"
      },
      "source": [
        "## 3.4 Find $HH^{-1}$ and then find $J^{-1}J$. Is $HH^{-1} == J^{-1}J$? Why or Why not? \n",
        "\n",
        "Please ignore Python rounding errors. If necessary, format your output so that it rounds to 5 significant digits (the fifth decimal place)."
      ]
    },
    {
      "cell_type": "code",
      "metadata": {
        "id": "RzaGWZ1D88xN",
        "colab_type": "code",
        "colab": {
          "base_uri": "https://localhost:8080/",
          "height": 91
        },
        "outputId": "275bc9fb-86e0-41a8-96fa-4f87601a5951"
      },
      "source": [
        "#Manually\n",
        "print(H)\n",
        "print(H_inv)"
      ],
      "execution_count": 217,
      "outputs": [
        {
          "output_type": "stream",
          "text": [
            "[[12 11]\n",
            " [ 7 10]]\n",
            "[[ 0.23255814 -0.25581395]\n",
            " [-0.1627907   0.27906977]]\n"
          ],
          "name": "stdout"
        }
      ]
    },
    {
      "cell_type": "code",
      "metadata": {
        "id": "aFVVsiIC9MLC",
        "colab_type": "code",
        "colab": {
          "base_uri": "https://localhost:8080/",
          "height": 91
        },
        "outputId": "6fdaabee-6f44-4bec-cc5f-a626ddfc0080"
      },
      "source": [
        "print(\"(1,1)=\",12*0.23255814+11*(-0.1627907))\n",
        "print('(1,2)=',12*(-0.25581395)+11*0.27906977)\n",
        "print(\"(2,1)=\",7*0.23255814+10*(-0.1627907))\n",
        "print('(2,2)=',7*(-0.25581395)+10*0.27906977)"
      ],
      "execution_count": 222,
      "outputs": [
        {
          "output_type": "stream",
          "text": [
            "(1,1)= 0.9999999799999999\n",
            "(1,2)= 7.000000001866624e-08\n",
            "(2,1)= -2.0000000100495186e-08\n",
            "(2,2)= 1.00000005\n"
          ],
          "name": "stdout"
        }
      ]
    },
    {
      "cell_type": "code",
      "metadata": {
        "id": "EQk1g4XR76Ce",
        "colab_type": "code",
        "colab": {
          "base_uri": "https://localhost:8080/",
          "height": 109
        },
        "outputId": "3160ad06-d723-484c-8460-658dd53ec317"
      },
      "source": [
        "#\"Automatically\"\n",
        "print(numpy.matmul(H,H_inv))\n",
        "print(np.matmul(J,J_inv))"
      ],
      "execution_count": 216,
      "outputs": [
        {
          "output_type": "stream",
          "text": [
            "[[1.00000000e+00 5.55111512e-16]\n",
            " [2.22044605e-16 1.00000000e+00]]\n",
            "[[ 1.00000000e+00 -5.55111512e-17  0.00000000e+00]\n",
            " [ 0.00000000e+00  1.00000000e+00  0.00000000e+00]\n",
            " [ 0.00000000e+00  0.00000000e+00  1.00000000e+00]]\n"
          ],
          "name": "stdout"
        }
      ]
    },
    {
      "cell_type": "markdown",
      "metadata": {
        "id": "HebGJfhY8vlp",
        "colab_type": "text"
      },
      "source": [
        "These two are not the same. They are both the identity matrix, but their dimensions are different. HH^-1 is a (2,2) matrix, and JJ^-1 is a (3,3) matrix. "
      ]
    },
    {
      "cell_type": "markdown",
      "metadata": {
        "id": "V0iTO4McYjtk",
        "colab_type": "text"
      },
      "source": [
        "# Stretch Goals: \n",
        "\n",
        "A reminder that these challenges are optional. If you finish your work quickly we welcome you to work on them. If there are other activities that you feel like will help your understanding of the above topics more, feel free to work on that. Topics from the Stretch Goals sections will never end up on Sprint Challenges. You don't have to do these in order, you don't have to do all of them. \n",
        "\n",
        "- Write a function that can calculate the dot product of any two vectors of equal length that are passed to it.\n",
        "- Write a function that can calculate the norm of any vector\n",
        "- Prove to yourself again that the vectors in 1.9 are orthogonal by graphing them. \n",
        "- Research how to plot a 3d graph with animations so that you can make the graph rotate (this will be easier in a local notebook than in google colab)\n",
        "- Create and plot a matrix on a 2d graph.\n",
        "- Create and plot a matrix on a 3d graph.\n",
        "- Plot two vectors that are not collinear on a 2d graph. Calculate the determinant of the 2x2 matrix that these vectors form. How does this determinant relate to the graphical interpretation of the vectors?\n",
        "\n"
      ]
    }
  ]
}