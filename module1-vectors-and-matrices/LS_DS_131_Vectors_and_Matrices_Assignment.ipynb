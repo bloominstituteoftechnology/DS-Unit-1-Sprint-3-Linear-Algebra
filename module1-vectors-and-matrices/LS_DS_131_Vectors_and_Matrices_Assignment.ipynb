{
  "nbformat": 4,
  "nbformat_minor": 0,
  "metadata": {
    "colab": {
      "name": "LS_DS_131_Vectors_and_Matrices_Assignment.ipynb",
      "provenance": [],
      "collapsed_sections": [],
      "toc_visible": true,
      "include_colab_link": true
    },
    "kernelspec": {
      "name": "python3",
      "display_name": "Python 3"
    }
  },
  "cells": [
    {
      "cell_type": "markdown",
      "metadata": {
        "id": "view-in-github",
        "colab_type": "text"
      },
      "source": [
        "<a href=\"https://colab.research.google.com/github/jmmiddour/DS-Unit-1-Sprint-3-Linear-Algebra/blob/master/module1-vectors-and-matrices/LS_DS_131_Vectors_and_Matrices_Assignment.ipynb\" target=\"_parent\"><img src=\"https://colab.research.google.com/assets/colab-badge.svg\" alt=\"Open In Colab\"/></a>"
      ]
    },
    {
      "cell_type": "markdown",
      "metadata": {
        "id": "yXA3GwWhY9KL",
        "colab_type": "text"
      },
      "source": [
        "# Part 1 - Scalars and Vectors\n",
        "\n",
        "For the questions below it is not sufficient to simply provide answer to the questions, but you must solve the problems and show your work using python (the NumPy library will help a lot!) Translate the vectors and matrices into their appropriate python  representations and use numpy or functions that you write yourself to demonstrate the result or property. "
      ]
    },
    {
      "cell_type": "markdown",
      "metadata": {
        "id": "oNOTv43_Zi9L",
        "colab_type": "text"
      },
      "source": [
        "## 1.1 Create a two-dimensional vector and plot it on a graph"
      ]
    },
    {
      "cell_type": "code",
      "metadata": {
        "id": "XNqjzQzrkVG7",
        "colab_type": "code",
        "colab": {}
      },
      "source": [
        "# Import my libraries:\n",
        "import numpy as np\n",
        "import math\n",
        "import matplotlib.pyplot as plt"
      ],
      "execution_count": 0,
      "outputs": []
    },
    {
      "cell_type": "code",
      "metadata": {
        "id": "x8Zz_YWsHGky",
        "colab_type": "code",
        "outputId": "b6079b0e-503a-444c-e2fb-2baee0e31fd1",
        "colab": {
          "base_uri": "https://localhost:8080/",
          "height": 34
        }
      },
      "source": [
        "# Create a 2D row vector as a list:\n",
        "g = [3, 6]\n",
        "g"
      ],
      "execution_count": 2,
      "outputs": [
        {
          "output_type": "execute_result",
          "data": {
            "text/plain": [
              "[3, 6]"
            ]
          },
          "metadata": {
            "tags": []
          },
          "execution_count": 2
        }
      ]
    },
    {
      "cell_type": "code",
      "metadata": {
        "id": "6z0VtqYHGwnx",
        "colab_type": "code",
        "outputId": "2281732f-7278-449c-a8f2-66dc21f4e0e8",
        "colab": {
          "base_uri": "https://localhost:8080/",
          "height": 345
        }
      },
      "source": [
        "# Plot 'g' on a graph:\n",
        "fig, ax = plt.subplots (facecolor = 'white',\n",
        "                        figsize=(10,5))      # Creates a blank 'canvas'.\n",
        "ax.grid ()                                   # Shows the grid lines on the graph.\n",
        "plt.xlim (-1, 4)                             # The x axis limits.\n",
        "plt.ylim (-1, 8)                             # The y axis limits.\n",
        "plt.title(r'2D Vector $\\vec g$', size=20, \n",
        "          fontweight='bold')                 # Title of graph.\n",
        "plt.arrow (0, 0,                             # The starting point of the line.\n",
        "           g[0], g[1],                       # x, y coordinates.\n",
        "           head_width = .3,                  # Base of the arrow head.\n",
        "           head_length = .4,                 # Base to point of arrow head.\n",
        "           linewidth = 4,                    # Width of the line.\n",
        "           color = 'purple',                 # Color of the line.\n",
        "           length_includes_head = True);     # Point of arrow on the coordinate."
      ],
      "execution_count": 3,
      "outputs": [
        {
          "output_type": "display_data",
          "data": {
            "image/png": "[encoded data removed]",
            "text/plain": [
              "<Figure size 720x360 with 1 Axes>"
            ]
          },
          "metadata": {
            "tags": []
          }
        }
      ]
    },
    {
      "cell_type": "markdown",
      "metadata": {
        "id": "unKFT619lk3e",
        "colab_type": "text"
      },
      "source": [
        "## 1.2 Create a three-dimensional vecor and plot it on a graph"
      ]
    },
    {
      "cell_type": "code",
      "metadata": {
        "id": "2beOwJCFJ-WG",
        "colab_type": "code",
        "outputId": "cb1a0c20-0233-4ac8-8988-be81fab021a5",
        "colab": {
          "base_uri": "https://localhost:8080/",
          "height": 34
        }
      },
      "source": [
        "# Create a 3D row vector as a list:\n",
        "m = [3, 4, 6]\n",
        "\n",
        "# Turn it into a np.array:\n",
        "vec_m = np.array([[0, 0, 0,             # The starting point of the lines\n",
        "                   m[0], m[1], m[2]]])  # Using indexing.\n",
        "\n",
        "# View the np.array:\n",
        "vec_m"
      ],
      "execution_count": 4,
      "outputs": [
        {
          "output_type": "execute_result",
          "data": {
            "text/plain": [
              "array([[0, 0, 0, 3, 4, 6]])"
            ]
          },
          "metadata": {
            "tags": []
          },
          "execution_count": 4
        }
      ]
    },
    {
      "cell_type": "code",
      "metadata": {
        "id": "atUEd3T6llKm",
        "colab_type": "code",
        "colab": {
          "base_uri": "https://localhost:8080/",
          "height": 118
        },
        "outputId": "15869d6b-5a11-4688-95e9-ca80f485f7ef"
      },
      "source": [
        "# Need to unzip the vector to pull out the individual elements to graph it:\n",
        "x, y, z, u, v, w = zip(*vec_m)\n",
        "\n",
        "# Unpack the unziped vector using a for loop:\n",
        "for letter in [x, y, z, u, v, w]:\n",
        "  print (letter)"
      ],
      "execution_count": 5,
      "outputs": [
        {
          "output_type": "stream",
          "text": [
            "(0,)\n",
            "(0,)\n",
            "(0,)\n",
            "(3,)\n",
            "(4,)\n",
            "(6,)\n"
          ],
          "name": "stdout"
        }
      ]
    },
    {
      "cell_type": "code",
      "metadata": {
        "id": "sOqh8FND4uci",
        "colab_type": "code",
        "colab": {
          "base_uri": "https://localhost:8080/",
          "height": 357
        },
        "outputId": "ecf25829-ab42-45c7-e91e-c4b8bab2de35"
      },
      "source": [
        "# Display 'vec_b' in a 3D graph:\n",
        "# Import the Axes3D library:\n",
        "from mpl_toolkits.mplot3d import Axes3D\n",
        "\n",
        "# Create the 3D graph:\n",
        "fig = plt.figure(facecolor='white', figsize=(10, 6))\n",
        "ax = fig.add_subplot(111, projection='3d')\n",
        "plt.title(r'3D Vector $\\vec m$', size=20, fontweight='bold')\n",
        "\n",
        "# Use .quiver to graph the list:\n",
        "ax.quiver(x, y, z, u, v, w, length=1, color='green', linewidth=3)\n",
        "ax.set_xlim([0, 6])\n",
        "ax.set_ylim([0, 6])\n",
        "ax.set_zlim([0, 6])\n",
        "ax.set_xlabel('x', size=16, fontweight='bold')\n",
        "ax.set_ylabel('y', size=16, fontweight='bold')\n",
        "ax.set_zlabel('z', size=16, fontweight='bold');"
      ],
      "execution_count": 6,
      "outputs": [
        {
          "output_type": "display_data",
          "data": {
            "image/png": "[encoded data removed]",
            "text/plain": [
              "<Figure size 720x432 with 1 Axes>"
            ]
          },
          "metadata": {
            "tags": []
          }
        }
      ]
    },
    {
      "cell_type": "markdown",
      "metadata": {
        "id": "b7qFxbKxZmI2",
        "colab_type": "text"
      },
      "source": [
        "## 1.3 Scale the vectors you created in 1.1 by $5$, $\\pi$, and $-e$ and plot all four vectors (original + 3 scaled vectors) on a graph. What do you notice about these vectors? "
      ]
    },
    {
      "cell_type": "code",
      "metadata": {
        "id": "ah6zMSLJdJwL",
        "colab_type": "code",
        "outputId": "7524236f-8d09-4226-bcd0-8f82ce366d2a",
        "colab": {
          "base_uri": "https://localhost:8080/",
          "height": 50
        }
      },
      "source": [
        "# Import library for e and pi:\n",
        "from math import e, pi\n",
        "print(e)\n",
        "print(pi)"
      ],
      "execution_count": 7,
      "outputs": [
        {
          "output_type": "stream",
          "text": [
            "2.718281828459045\n",
            "3.141592653589793\n"
          ],
          "name": "stdout"
        }
      ]
    },
    {
      "cell_type": "code",
      "metadata": {
        "id": "3qpwDlzXkVf5",
        "colab_type": "code",
        "colab": {
          "base_uri": "https://localhost:8080/",
          "height": 34
        },
        "outputId": "210c5d76-33f9-48fa-8307-034a49a9c382"
      },
      "source": [
        "# Recall what 'g' looks like from part 1.1:\n",
        "g"
      ],
      "execution_count": 8,
      "outputs": [
        {
          "output_type": "execute_result",
          "data": {
            "text/plain": [
              "[3, 6]"
            ]
          },
          "metadata": {
            "tags": []
          },
          "execution_count": 8
        }
      ]
    },
    {
      "cell_type": "code",
      "metadata": {
        "id": "beX-pkpxG1B2",
        "colab_type": "code",
        "colab": {
          "base_uri": "https://localhost:8080/",
          "height": 202
        },
        "outputId": "cd1c5793-571c-4f0f-82c8-febe330fe8e8"
      },
      "source": [
        "# Scale 'a' by 5:\n",
        "g_5 = np.multiply(5, g)\n",
        "\n",
        "# Scale 'a' by -e:\n",
        "g_e = np.multiply(-e, g)\n",
        "\n",
        "#Scale 'a' by pi:\n",
        "g_pi = np.multiply(pi, g)\n",
        "\n",
        "# Print all 4 vectors to be plotted:\n",
        "print ('Vector g:', '\\n', g, '\\n')\n",
        "print ('Vector g Scaled by 5:', '\\n', g_5, '\\n')\n",
        "print ('Vector g Scaled by -\\u212F:', '\\n', g_e, '\\n')\n",
        "print ('Vector g Scaled by \\u03C0:', '\\n', g_pi)"
      ],
      "execution_count": 9,
      "outputs": [
        {
          "output_type": "stream",
          "text": [
            "Vector g: \n",
            " [3, 6] \n",
            "\n",
            "Vector g Scaled by 5: \n",
            " [15 30] \n",
            "\n",
            "Vector g Scaled by -ℯ: \n",
            " [ -8.15484549 -16.30969097] \n",
            "\n",
            "Vector g Scaled by π: \n",
            " [ 9.42477796 18.84955592]\n"
          ],
          "name": "stdout"
        }
      ]
    },
    {
      "cell_type": "code",
      "metadata": {
        "id": "OvuB_f-NG09X",
        "colab_type": "code",
        "colab": {
          "base_uri": "https://localhost:8080/",
          "height": 508
        },
        "outputId": "6b170cdd-84cd-4149-df1c-5a5747cd9b38"
      },
      "source": [
        "# Plot vector 'a' & all 3 scaled vectors on the same graph:\n",
        "# Set up the figure:\n",
        "fig, ax = plt.subplots(facecolor='white', figsize=(14, 8))\n",
        "ax.grid()\n",
        "\n",
        "# Set axis limits:\n",
        "plt.xlim(-20, 35)\n",
        "plt.ylim(-20, 35)\n",
        "\n",
        "# Set the values of the arrows:\n",
        "plt.plot(0, 0, 'ok')\n",
        "ax2 = plt.arrow(0, 0, g_5[0], g_5[1], head_width=.5, head_length=.5,\n",
        "                color='blue', linewidth=10, length_includes_head = True)\n",
        "ax3 = plt.arrow(0, 0, g_e[0], g_e[1], head_width=.6, head_length=.6,\n",
        "                color='purple', linewidth=5, length_includes_head = True)\n",
        "ax1 = plt.arrow(0, 0, g[0], g[1], head_width=.5, head_length=.5, \n",
        "               color='red', linewidth=7.5, length_includes_head = True)\n",
        "ax4 = plt.arrow(0, 0, g_pi[0], g_pi[1], head_width=1, head_length=1,\n",
        "                 color='orange', linewidth=2.5, length_includes_head = True)\n",
        "\n",
        "# Set the title of my graph:\n",
        "plt.title(r'Vector $\\vec g$ ' 'and ' r'Vector $\\vec g$ ''Scaled by 5, -\\u212F, and \\u03C0', size=20, \n",
        "          fontweight='bold')\n",
        "\n",
        "# Add a legend to my graph:\n",
        "plt.legend((ax1, ax2, ax3, ax4), (r'Vector $\\vec g$', r'Vector $\\vec g$ by 5', \n",
        "                                  r'Vector $\\vec g$ ' 'by -\\u212F',\n",
        "                                  r'Vector $\\vec g$ ' 'by \\u03C0'), \n",
        "           fontsize=14);"
      ],
      "execution_count": 10,
      "outputs": [
        {
          "output_type": "display_data",
          "data": {
            "image/png": "[encoded data removed]",
            "text/plain": [
              "<Figure size 1008x576 with 1 Axes>"
            ]
          },
          "metadata": {
            "tags": []
          }
        }
      ]
    },
    {
      "cell_type": "markdown",
      "metadata": {
        "id": "WDMJHWvGXVwE",
        "colab_type": "text"
      },
      "source": [
        "- What do you notice about these vectors?\n",
        "  - All of the vectors are going in the same direction. However, the line lengths are different for each one. They are also all on the same line.  \n",
        "  - When vector $\\vec{a}$ was scaled by -$e$ there is a change in the direction and the length of the line.   \n",
        "  - When vector $\\vec{a}$ was scaled by 5 it resulted in the longest line.  "
      ]
    },
    {
      "cell_type": "markdown",
      "metadata": {
        "id": "wrgqa6sWimbH",
        "colab_type": "text"
      },
      "source": [
        "## 1.4 Graph vectors $\\vec{a}$ and $\\vec{b}$ and plot them on a graph\n",
        "\n",
        "\\begin{align}\n",
        "\\vec{a} = \\begin{bmatrix} 5 \\\\ 7 \\end{bmatrix}\n",
        "\\qquad\n",
        "\\vec{b} = \\begin{bmatrix} 3 \\\\4 \\end{bmatrix}\n",
        "\\end{align}"
      ]
    },
    {
      "cell_type": "code",
      "metadata": {
        "id": "8a_yZdGBG07k",
        "colab_type": "code",
        "colab": {
          "base_uri": "https://localhost:8080/",
          "height": 50
        },
        "outputId": "16e8a86b-fde0-4e7c-c43b-6b84bec1a2d2"
      },
      "source": [
        "# Create a variable to hold vectors a and b in:\n",
        "a = [5, 7]\n",
        "b = [3, 4]\n",
        "\n",
        "# Print them to check work:\n",
        "print (a)\n",
        "print (b)"
      ],
      "execution_count": 11,
      "outputs": [
        {
          "output_type": "stream",
          "text": [
            "[5, 7]\n",
            "[3, 4]\n"
          ],
          "name": "stdout"
        }
      ]
    },
    {
      "cell_type": "code",
      "metadata": {
        "id": "Qfnp8njWG06G",
        "colab_type": "code",
        "colab": {
          "base_uri": "https://localhost:8080/",
          "height": 343
        },
        "outputId": "6859802a-0521-4263-9b1f-fecce419d5e9"
      },
      "source": [
        "# Plot 'a' on a graph:\n",
        "fig, ax = plt.subplots (facecolor = 'white',\n",
        "                        figsize=(10,5))\n",
        "ax.grid ()\n",
        "plt.xlim (-1, 8)\n",
        "plt.ylim (-1, 8)\n",
        "plt.title(r'2D Vector $\\vec a$', size=20, \n",
        "          fontweight='bold')\n",
        "plt.arrow (0, 0,\n",
        "           a[0], a[1],\n",
        "           head_width = .3,\n",
        "           head_length = .4,\n",
        "           linewidth = 4,\n",
        "           color = 'green',\n",
        "           length_includes_head = True);"
      ],
      "execution_count": 12,
      "outputs": [
        {
          "output_type": "display_data",
          "data": {
            "image/png": "[encoded data removed]",
            "text/plain": [
              "<Figure size 720x360 with 1 Axes>"
            ]
          },
          "metadata": {
            "tags": []
          }
        }
      ]
    },
    {
      "cell_type": "code",
      "metadata": {
        "id": "u4d-qE_HG04a",
        "colab_type": "code",
        "colab": {
          "base_uri": "https://localhost:8080/",
          "height": 347
        },
        "outputId": "347328a1-7e22-4a97-ee5e-88b7a736f829"
      },
      "source": [
        "# Plot 'b' on a graph:\n",
        "fig, ax = plt.subplots (facecolor = 'white',\n",
        "                        figsize=(10,5))\n",
        "ax.grid ()\n",
        "plt.xlim (-1, 5)\n",
        "plt.ylim (-1, 5)\n",
        "plt.title(r'2D Vector $\\vec b$', size=20, \n",
        "          fontweight='bold')\n",
        "plt.arrow (0, 0,\n",
        "           b[0], b[1],\n",
        "           head_width = .3,\n",
        "           head_length = .4,\n",
        "           linewidth = 4,\n",
        "           color = 'red',\n",
        "           length_includes_head = True);"
      ],
      "execution_count": 13,
      "outputs": [
        {
          "output_type": "display_data",
          "data": {
            "image/png": "[encoded data removed]",
            "text/plain": [
              "<Figure size 720x360 with 1 Axes>"
            ]
          },
          "metadata": {
            "tags": []
          }
        }
      ]
    },
    {
      "cell_type": "code",
      "metadata": {
        "id": "JVS7zm64G01v",
        "colab_type": "code",
        "colab": {
          "base_uri": "https://localhost:8080/",
          "height": 347
        },
        "outputId": "bc6dcf58-3eb3-4206-eb0e-efeebc94d9b0"
      },
      "source": [
        "# Plot both 'a' and 'b' on a graph:\n",
        "fig, ax = plt.subplots (facecolor = 'white',\n",
        "                        figsize=(10,5))\n",
        "ax.grid ()\n",
        "plt.xlim (-1, 8)\n",
        "plt.ylim (-1, 8)\n",
        "plt.title(r'Vector $\\vec a$ and $\\vec b$', size=20, \n",
        "          fontweight='bold')\n",
        "ax1 = plt.arrow (0, 0,\n",
        "                 a[0], a[1],\n",
        "                 head_width = .3,\n",
        "                 head_length = .4,\n",
        "                 linewidth = 4,\n",
        "                 color = 'green',\n",
        "                 length_includes_head = True)\n",
        "ax2 = plt.arrow (0, 0,\n",
        "                 b[0], b[1],\n",
        "                 head_width = .3,\n",
        "                 head_length = .4,\n",
        "                 linewidth = 4,\n",
        "                 color = 'red',\n",
        "                 length_includes_head = True)\n",
        "plt.legend((ax1, ax2), (r'Vector $\\vec a$', r'Vector $\\vec b$'), fontsize=14);"
      ],
      "execution_count": 14,
      "outputs": [
        {
          "output_type": "display_data",
          "data": {
            "image/png": "[encoded data removed]",
            "text/plain": [
              "<Figure size 720x360 with 1 Axes>"
            ]
          },
          "metadata": {
            "tags": []
          }
        }
      ]
    },
    {
      "cell_type": "markdown",
      "metadata": {
        "id": "QN6RU_3gizpw",
        "colab_type": "text"
      },
      "source": [
        "## 1.5 find $\\vec{a} - \\vec{b}$ and plot the result on the same graph as $\\vec{a}$ and $\\vec{b}$. Is there a relationship between vectors $\\vec{a} \\thinspace, \\vec{b} \\thinspace \\text{and} \\thinspace \\vec{a-b}$"
      ]
    },
    {
      "cell_type": "code",
      "metadata": {
        "id": "FcXd8hIbH_-7",
        "colab_type": "code",
        "colab": {
          "base_uri": "https://localhost:8080/",
          "height": 34
        },
        "outputId": "74819c4b-710d-48b5-d7a4-e80737b486ea"
      },
      "source": [
        "# Turn a and b into np.array:\n",
        "np_a = np.array(a)\n",
        "np_b = np.array(b)\n",
        "\n",
        "# Check my work:\n",
        "print (np_a, np_b)"
      ],
      "execution_count": 15,
      "outputs": [
        {
          "output_type": "stream",
          "text": [
            "[5 7] [3 4]\n"
          ],
          "name": "stdout"
        }
      ]
    },
    {
      "cell_type": "code",
      "metadata": {
        "id": "I8jtkoq1G0wb",
        "colab_type": "code",
        "colab": {
          "base_uri": "https://localhost:8080/",
          "height": 34
        },
        "outputId": "0b077485-54a5-4c7a-901d-6b362476c397"
      },
      "source": [
        "# Subtract vector b from a:\n",
        "a_b = np_a - np_b\n",
        "a_b"
      ],
      "execution_count": 16,
      "outputs": [
        {
          "output_type": "execute_result",
          "data": {
            "text/plain": [
              "array([2, 3])"
            ]
          },
          "metadata": {
            "tags": []
          },
          "execution_count": 16
        }
      ]
    },
    {
      "cell_type": "code",
      "metadata": {
        "id": "GhBF0Hh3G0t2",
        "colab_type": "code",
        "colab": {
          "base_uri": "https://localhost:8080/",
          "height": 347
        },
        "outputId": "645fe1d3-04ea-4b79-baea-6771c5919105"
      },
      "source": [
        "# Plot both 'a' and 'b' on a graph:\n",
        "fig, ax = plt.subplots (facecolor = 'white',\n",
        "                        figsize=(10,5))\n",
        "ax.grid ()\n",
        "plt.xlim (-1, 8)\n",
        "plt.ylim (-1, 8)\n",
        "plt.title(r'Vector $\\vec a$ and $\\vec b$', size=20, \n",
        "          fontweight='bold')\n",
        "ax1 = plt.arrow (0, 0,\n",
        "                 a[0], a[1],\n",
        "                 head_width = .3,\n",
        "                 head_length = .4,\n",
        "                 linewidth = 4,\n",
        "                 color = 'green',\n",
        "                 length_includes_head = True)\n",
        "ax2 = plt.arrow (0, 0,\n",
        "                 b[0], b[1],\n",
        "                 head_width = .3,\n",
        "                 head_length = .4,\n",
        "                 linewidth = 4,\n",
        "                 color = 'red',\n",
        "                 length_includes_head = True)\n",
        "ax3 = plt.arrow (0, 0,\n",
        "                 a_b[0], a_b[1],\n",
        "                 head_width = .3,\n",
        "                 head_length = .4,\n",
        "                 linewidth = 4,\n",
        "                 color = 'blue',\n",
        "                 length_includes_head = True)\n",
        "plt.legend((ax1, ax2, ax3), (r'Vector $\\vec a$', r'Vector $\\vec b$', \n",
        "                             r'Vector $\\vec a$ - $\\vec b$'), fontsize=14);"
      ],
      "execution_count": 17,
      "outputs": [
        {
          "output_type": "display_data",
          "data": {
            "image/png": "[encoded data removed]",
            "text/plain": [
              "<Figure size 720x360 with 1 Axes>"
            ]
          },
          "metadata": {
            "tags": []
          }
        }
      ]
    },
    {
      "cell_type": "markdown",
      "metadata": {
        "id": "X9vkeYLINBTr",
        "colab_type": "text"
      },
      "source": [
        "- Is there a relationship between vectors $\\vec{a} \\thinspace, \\vec{b} \\thinspace \\text{and} \\thinspace \\vec{a-b}$?\n",
        "  - There does not seam to be much of a difference between them.  \n",
        "  - All the vectors are almost on the same line.  \n",
        "  - All of the vectors are going the same direction.  \n",
        "  - The only true difference I really see is that the length of the lines are different sizes.  \n",
        "  - So I would say that yes there is a relationship between all of these.\n",
        "  - I am assuming the reason behind this is because the numbers are small numbers."
      ]
    },
    {
      "cell_type": "markdown",
      "metadata": {
        "id": "1ZPVuJAlehu_",
        "colab_type": "text"
      },
      "source": [
        "## 1.6 Find $c \\cdot d$\n",
        "\n",
        "\\begin{align}\n",
        "\\vec{c} = \\begin{bmatrix}7 & 22 & 4 & 16\\end{bmatrix}\n",
        "\\qquad\n",
        "\\vec{d} = \\begin{bmatrix}12 & 6 & 2 & 9\\end{bmatrix}\n",
        "\\end{align}\n"
      ]
    },
    {
      "cell_type": "code",
      "metadata": {
        "id": "UphHf442OSBz",
        "colab_type": "code",
        "colab": {
          "base_uri": "https://localhost:8080/",
          "height": 50
        },
        "outputId": "899a9e35-a00f-4fc2-f766-db3997217640"
      },
      "source": [
        "# Create a np.array with row vectors c and d:\n",
        "c = np.array([7, 22, 4, 16])\n",
        "d = np.array([12, 6, 2, 9])\n",
        "\n",
        "# Check my work:\n",
        "print (c, '\\n', d)"
      ],
      "execution_count": 18,
      "outputs": [
        {
          "output_type": "stream",
          "text": [
            "[ 7 22  4 16] \n",
            " [12  6  2  9]\n"
          ],
          "name": "stdout"
        }
      ]
    },
    {
      "cell_type": "code",
      "metadata": {
        "id": "I1BGXA_skV-b",
        "colab_type": "code",
        "colab": {
          "base_uri": "https://localhost:8080/",
          "height": 34
        },
        "outputId": "897c4a43-ed5c-4e89-ec26-54c7b863a7e5"
      },
      "source": [
        "# Find the dot product of vector c and d by hand using index notation:\n",
        "cd_dot = (c[0] * d[0]) + (c[1] * d[1]) + (c[2] * d[2]) + (c[3] * d[3])\n",
        "print ('Dot Product: ', cd_dot)"
      ],
      "execution_count": 19,
      "outputs": [
        {
          "output_type": "stream",
          "text": [
            "Dot Product:  368\n"
          ],
          "name": "stdout"
        }
      ]
    },
    {
      "cell_type": "code",
      "metadata": {
        "id": "GanUcYl0TBZ3",
        "colab_type": "code",
        "colab": {
          "base_uri": "https://localhost:8080/",
          "height": 34
        },
        "outputId": "825d3796-6aee-4e3a-c4af-adef4cc4bb21"
      },
      "source": [
        "# Check my work with the dot product function:\n",
        "print ('Dot Product: ', np.dot(c, d))"
      ],
      "execution_count": 20,
      "outputs": [
        {
          "output_type": "stream",
          "text": [
            "Dot Product:  368\n"
          ],
          "name": "stdout"
        }
      ]
    },
    {
      "cell_type": "markdown",
      "metadata": {
        "id": "cLm8yokpfg9B",
        "colab_type": "text"
      },
      "source": [
        "##  1.7 Find $e \\times f$\n",
        "\n",
        "\\begin{align}\n",
        "\\vec{e} = \\begin{bmatrix} 5 \\\\ 7 \\\\ 2 \\end{bmatrix}\n",
        "\\qquad\n",
        "\\vec{f} = \\begin{bmatrix} 3 \\\\4 \\\\ 6 \\end{bmatrix}\n",
        "\\end{align}"
      ]
    },
    {
      "cell_type": "code",
      "metadata": {
        "id": "68sWHIOPkXp5",
        "colab_type": "code",
        "colab": {
          "base_uri": "https://localhost:8080/",
          "height": 168
        },
        "outputId": "ab1fa99e-3564-468f-b250-2c4a0dde7287"
      },
      "source": [
        "# Create a np.array with column vectors e & f:\n",
        "e = np.array([[5], [7], [2]])\n",
        "f = np.array([[3], [4], [6]])\n",
        "\n",
        "# Check my work:\n",
        "print ('Vector e:', '\\n', e)\n",
        "print ('')\n",
        "print ('Vector f:', '\\n', f)"
      ],
      "execution_count": 21,
      "outputs": [
        {
          "output_type": "stream",
          "text": [
            "Vector e: \n",
            " [[5]\n",
            " [7]\n",
            " [2]]\n",
            "\n",
            "Vector f: \n",
            " [[3]\n",
            " [4]\n",
            " [6]]\n"
          ],
          "name": "stdout"
        }
      ]
    },
    {
      "cell_type": "code",
      "metadata": {
        "id": "2_cZQFCskYNr",
        "colab_type": "code",
        "colab": {
          "base_uri": "https://localhost:8080/",
          "height": 84
        },
        "outputId": "3f179ad9-3498-476a-fc1d-820afa1f1b71"
      },
      "source": [
        "# Find the cross product of vector e and f:\n",
        "print ('Cross Product of Vector e and f: \\n', np.cross(e, f, axis=0))"
      ],
      "execution_count": 22,
      "outputs": [
        {
          "output_type": "stream",
          "text": [
            "Cross Product of Vector e and f: \n",
            " [[ 34]\n",
            " [-24]\n",
            " [ -1]]\n"
          ],
          "name": "stdout"
        }
      ]
    },
    {
      "cell_type": "markdown",
      "metadata": {
        "id": "-TN8wO2-h53s",
        "colab_type": "text"
      },
      "source": [
        "## 1.8 Find $||g||$ and then find $||h||$. Which is longer?\n",
        "\n",
        "\\begin{align}\n",
        "\\vec{g} = \\begin{bmatrix} 1 \\\\ 1 \\\\ 1 \\\\ 8 \\end{bmatrix}\n",
        "\\qquad\n",
        "\\vec{h} = \\begin{bmatrix} 3 \\\\3 \\\\ 3 \\\\ 3 \\end{bmatrix}\n",
        "\\end{align}"
      ]
    },
    {
      "cell_type": "code",
      "metadata": {
        "id": "ku-TdCKAkYs8",
        "colab_type": "code",
        "colab": {
          "base_uri": "https://localhost:8080/",
          "height": 101
        },
        "outputId": "231a75ac-9a88-4a9e-bd19-fe3f3b3b9bcd"
      },
      "source": [
        "# Create a np.array for vectors g and h:\n",
        "vec_g = np.array([1, 1, 1, 8])\n",
        "vec_h = np.array([3, 3, 3, 3])\n",
        "\n",
        "# Check my work:\n",
        "print ('Vector g:\\n', vec_g, '\\n\\n', 'Vector h:\\n', vec_h)"
      ],
      "execution_count": 23,
      "outputs": [
        {
          "output_type": "stream",
          "text": [
            "Vector g:\n",
            " [1 1 1 8] \n",
            "\n",
            " Vector h:\n",
            " [3 3 3 3]\n"
          ],
          "name": "stdout"
        }
      ]
    },
    {
      "cell_type": "code",
      "metadata": {
        "id": "6R9txPE9VvqH",
        "colab_type": "code",
        "colab": {
          "base_uri": "https://localhost:8080/",
          "height": 101
        },
        "outputId": "8a38b9f4-94c1-4764-93ef-57e272d363cd"
      },
      "source": [
        "# Find the norm of ||g|| and ||h||:\n",
        "norm_g = np.linalg.norm(vec_g)\n",
        "norm_h = np.linalg.norm(vec_h)\n",
        "\n",
        "# View them both:\n",
        "print ('Norm of g:\\n', norm_g, '\\n\\n', 'Norm of h:\\n', norm_h)"
      ],
      "execution_count": 24,
      "outputs": [
        {
          "output_type": "stream",
          "text": [
            "Norm of g:\n",
            " 8.18535277187245 \n",
            "\n",
            " Norm of h:\n",
            " 6.0\n"
          ],
          "name": "stdout"
        }
      ]
    },
    {
      "cell_type": "markdown",
      "metadata": {
        "id": "aRKo7tKTW36I",
        "colab_type": "text"
      },
      "source": [
        "- Which is longer?\n",
        "  - The norm of g is longer."
      ]
    },
    {
      "cell_type": "markdown",
      "metadata": {
        "id": "njrWIMS-ZAoH",
        "colab_type": "text"
      },
      "source": [
        "# Part 2 - Matrices"
      ]
    },
    {
      "cell_type": "markdown",
      "metadata": {
        "id": "GjkcAVIOmOnn",
        "colab_type": "text"
      },
      "source": [
        "## 2.1 What are the dimensions of the following matrices? Which of the following can be multiplied together? See if you can find all of the different legal combinations.\n",
        "\\begin{align}\n",
        "A = \\begin{bmatrix}\n",
        "1 & 2 \\\\\n",
        "3 & 4 \\\\\n",
        "5 & 6\n",
        "\\end{bmatrix}\n",
        "\\qquad\n",
        "B = \\begin{bmatrix}\n",
        "2 & 4 & 6 \\\\\n",
        "\\end{bmatrix}\n",
        "\\qquad\n",
        "C = \\begin{bmatrix}\n",
        "9 & 6 & 3 \\\\\n",
        "4 & 7 & 11\n",
        "\\end{bmatrix}\n",
        "\\qquad\n",
        "D = \\begin{bmatrix}\n",
        "1 & 0 & 0 \\\\\n",
        "0 & 1 & 0 \\\\\n",
        "0 & 0 & 1\n",
        "\\end{bmatrix}\n",
        "\\qquad\n",
        "E = \\begin{bmatrix}\n",
        "1 & 3 \\\\\n",
        "5 & 7\n",
        "\\end{bmatrix}\n",
        "\\end{align}"
      ]
    },
    {
      "cell_type": "markdown",
      "metadata": {
        "id": "i3I4rdxKav08",
        "colab_type": "text"
      },
      "source": [
        "- What are the dimensions of the following matrices? \n",
        "  - A = 3 x 2 Matrix\n",
        "  - B = 1 x 3 Matrix\n",
        "  - C = 2 x 3 Matrix\n",
        "  - D = 3 x 3 Matrix (this is also an Identity Matrix)\n",
        "  - E = 2 x 2 Matrix"
      ]
    },
    {
      "cell_type": "markdown",
      "metadata": {
        "id": "yYVNxW5xeH8l",
        "colab_type": "text"
      },
      "source": [
        "- Which of the following can be multiplied together?\n",
        "  - A and C  \n",
        "  - A and E  \n",
        "  - B and A  \n",
        "  - B and D  \n",
        "  - C and A\n",
        "  - C and D\n",
        "  - D and A\n",
        "  - E and C\n"
      ]
    },
    {
      "cell_type": "code",
      "metadata": {
        "id": "39DY8gpUVvfK",
        "colab_type": "code",
        "colab": {
          "base_uri": "https://localhost:8080/",
          "height": 353
        },
        "outputId": "8d547617-4b96-4f90-86bd-3e87133c2b11"
      },
      "source": [
        "# Create np.arrays for all of the above Matrices:\n",
        "A = np.array([[1, 2], [3, 4], [5, 6]])\n",
        "B = np.array([[2, 4, 6]])\n",
        "C = np.array([[9, 6, 3], [4, 7, 11]])\n",
        "D = np.array([[1, 0, 0], [0, 1, 0], [0, 0, 1]])\n",
        "E = np.array([[1, 3], [5, 7]])\n",
        "\n",
        "# View all of the Matrices:\n",
        "print ('Matrix A\\n', A, '\\n\\n', 'Matrix B\\n', B, '\\n\\n', 'Matrix C\\n', C, \n",
        "       '\\n\\n', 'Matrix D\\n', D, '\\n\\n', 'Matrix E\\n', E)"
      ],
      "execution_count": 25,
      "outputs": [
        {
          "output_type": "stream",
          "text": [
            "Matrix A\n",
            " [[1 2]\n",
            " [3 4]\n",
            " [5 6]] \n",
            "\n",
            " Matrix B\n",
            " [[2 4 6]] \n",
            "\n",
            " Matrix C\n",
            " [[ 9  6  3]\n",
            " [ 4  7 11]] \n",
            "\n",
            " Matrix D\n",
            " [[1 0 0]\n",
            " [0 1 0]\n",
            " [0 0 1]] \n",
            "\n",
            " Matrix E\n",
            " [[1 3]\n",
            " [5 7]]\n"
          ],
          "name": "stdout"
        }
      ]
    },
    {
      "cell_type": "code",
      "metadata": {
        "id": "KlLX4RTyVvbC",
        "colab_type": "code",
        "colab": {
          "base_uri": "https://localhost:8080/",
          "height": 134
        },
        "outputId": "c160a656-3ecd-46ef-f47a-34a667b32bfe"
      },
      "source": [
        "# Import Pandas:\n",
        "import pandas as pd\n",
        "\n",
        "# Multiply A and C and display it as a dataframe:\n",
        "pd.DataFrame(np.matmul(A, C))"
      ],
      "execution_count": 26,
      "outputs": [
        {
          "output_type": "execute_result",
          "data": {
            "text/html": [
              "<div>\n",
              "<style scoped>\n",
              "    .dataframe tbody tr th:only-of-type {\n",
              "        vertical-align: middle;\n",
              "    }\n",
              "\n",
              "    .dataframe tbody tr th {\n",
              "        vertical-align: top;\n",
              "    }\n",
              "\n",
              "    .dataframe thead th {\n",
              "        text-align: right;\n",
              "    }\n",
              "</style>\n",
              "<table border=\"1\" class=\"dataframe\">\n",
              "  <thead>\n",
              "    <tr style=\"text-align: right;\">\n",
              "      <th></th>\n",
              "      <th>0</th>\n",
              "      <th>1</th>\n",
              "      <th>2</th>\n",
              "    </tr>\n",
              "  </thead>\n",
              "  <tbody>\n",
              "    <tr>\n",
              "      <th>0</th>\n",
              "      <td>17</td>\n",
              "      <td>20</td>\n",
              "      <td>25</td>\n",
              "    </tr>\n",
              "    <tr>\n",
              "      <th>1</th>\n",
              "      <td>43</td>\n",
              "      <td>46</td>\n",
              "      <td>53</td>\n",
              "    </tr>\n",
              "    <tr>\n",
              "      <th>2</th>\n",
              "      <td>69</td>\n",
              "      <td>72</td>\n",
              "      <td>81</td>\n",
              "    </tr>\n",
              "  </tbody>\n",
              "</table>\n",
              "</div>"
            ],
            "text/plain": [
              "    0   1   2\n",
              "0  17  20  25\n",
              "1  43  46  53\n",
              "2  69  72  81"
            ]
          },
          "metadata": {
            "tags": []
          },
          "execution_count": 26
        }
      ]
    },
    {
      "cell_type": "code",
      "metadata": {
        "id": "sB48EYm-qaTH",
        "colab_type": "code",
        "colab": {
          "base_uri": "https://localhost:8080/",
          "height": 134
        },
        "outputId": "d833a3a3-f693-4399-d9fc-11cc936df2c3"
      },
      "source": [
        "# Can also do this using indexing:\n",
        "AC_r1_c1 = ((A[0][0] * C[0][0]) + (A[0][1] * C[1][0]))\n",
        "AC_r1_c2 = ((A[0][0] * C[0][1]) + (A[0][1] * C[1][1]))\n",
        "AC_r1_c3 = ((A[0][0] * C[0][2]) + (A[0][1] * C[1][2]))\n",
        "AC_r2_c1 = ((A[1][0] * C[0][0]) + (A[1][1] * C[1][0]))\n",
        "AC_r2_c2 = ((A[1][0] * C[0][1]) + (A[1][1] * C[1][1]))\n",
        "AC_r2_c3 = ((A[1][0] * C[0][2]) + (A[1][1] * C[1][2]))\n",
        "AC_r3_c1 = ((A[2][0] * C[0][0]) + (A[2][1] * C[1][0]))\n",
        "AC_r3_c2 = ((A[2][0] * C[0][1]) + (A[2][1] * C[1][1]))\n",
        "AC_r3_c3 = ((A[2][0] * C[0][2]) + (A[2][1] * C[1][2]))\n",
        "\n",
        "# Calculate the new Matrix:\n",
        "AC_man = np.array([[AC_r1_c1, AC_r1_c2, AC_r1_c3],\n",
        "                   [AC_r2_c1, AC_r2_c2, AC_r2_c3],\n",
        "                   [AC_r3_c1, AC_r3_c2, AC_r3_c3]])\n",
        "\n",
        "# Turn the new Matrix into a dataframe:\n",
        "pd.DataFrame(AC_man)"
      ],
      "execution_count": 27,
      "outputs": [
        {
          "output_type": "execute_result",
          "data": {
            "text/html": [
              "<div>\n",
              "<style scoped>\n",
              "    .dataframe tbody tr th:only-of-type {\n",
              "        vertical-align: middle;\n",
              "    }\n",
              "\n",
              "    .dataframe tbody tr th {\n",
              "        vertical-align: top;\n",
              "    }\n",
              "\n",
              "    .dataframe thead th {\n",
              "        text-align: right;\n",
              "    }\n",
              "</style>\n",
              "<table border=\"1\" class=\"dataframe\">\n",
              "  <thead>\n",
              "    <tr style=\"text-align: right;\">\n",
              "      <th></th>\n",
              "      <th>0</th>\n",
              "      <th>1</th>\n",
              "      <th>2</th>\n",
              "    </tr>\n",
              "  </thead>\n",
              "  <tbody>\n",
              "    <tr>\n",
              "      <th>0</th>\n",
              "      <td>17</td>\n",
              "      <td>20</td>\n",
              "      <td>25</td>\n",
              "    </tr>\n",
              "    <tr>\n",
              "      <th>1</th>\n",
              "      <td>43</td>\n",
              "      <td>46</td>\n",
              "      <td>53</td>\n",
              "    </tr>\n",
              "    <tr>\n",
              "      <th>2</th>\n",
              "      <td>69</td>\n",
              "      <td>72</td>\n",
              "      <td>81</td>\n",
              "    </tr>\n",
              "  </tbody>\n",
              "</table>\n",
              "</div>"
            ],
            "text/plain": [
              "    0   1   2\n",
              "0  17  20  25\n",
              "1  43  46  53\n",
              "2  69  72  81"
            ]
          },
          "metadata": {
            "tags": []
          },
          "execution_count": 27
        }
      ]
    },
    {
      "cell_type": "code",
      "metadata": {
        "id": "X314tx97hqQA",
        "colab_type": "code",
        "colab": {
          "base_uri": "https://localhost:8080/",
          "height": 134
        },
        "outputId": "e76ae249-1e83-433e-8e05-439bff1a47c2"
      },
      "source": [
        "# Multiply A and E and display it as a dataframe:\n",
        "pd.DataFrame(np.matmul(A, E))"
      ],
      "execution_count": 28,
      "outputs": [
        {
          "output_type": "execute_result",
          "data": {
            "text/html": [
              "<div>\n",
              "<style scoped>\n",
              "    .dataframe tbody tr th:only-of-type {\n",
              "        vertical-align: middle;\n",
              "    }\n",
              "\n",
              "    .dataframe tbody tr th {\n",
              "        vertical-align: top;\n",
              "    }\n",
              "\n",
              "    .dataframe thead th {\n",
              "        text-align: right;\n",
              "    }\n",
              "</style>\n",
              "<table border=\"1\" class=\"dataframe\">\n",
              "  <thead>\n",
              "    <tr style=\"text-align: right;\">\n",
              "      <th></th>\n",
              "      <th>0</th>\n",
              "      <th>1</th>\n",
              "    </tr>\n",
              "  </thead>\n",
              "  <tbody>\n",
              "    <tr>\n",
              "      <th>0</th>\n",
              "      <td>11</td>\n",
              "      <td>17</td>\n",
              "    </tr>\n",
              "    <tr>\n",
              "      <th>1</th>\n",
              "      <td>23</td>\n",
              "      <td>37</td>\n",
              "    </tr>\n",
              "    <tr>\n",
              "      <th>2</th>\n",
              "      <td>35</td>\n",
              "      <td>57</td>\n",
              "    </tr>\n",
              "  </tbody>\n",
              "</table>\n",
              "</div>"
            ],
            "text/plain": [
              "    0   1\n",
              "0  11  17\n",
              "1  23  37\n",
              "2  35  57"
            ]
          },
          "metadata": {
            "tags": []
          },
          "execution_count": 28
        }
      ]
    },
    {
      "cell_type": "code",
      "metadata": {
        "id": "Rt6_5Sqg2-sv",
        "colab_type": "code",
        "colab": {
          "base_uri": "https://localhost:8080/",
          "height": 219
        },
        "outputId": "16d7df25-4766-4de6-b0e7-f2ec73543e78"
      },
      "source": [
        "# Can also use dot product:\n",
        "print (np.dot(A, E), '\\n\\n')\n",
        "\n",
        "# Can then turn that into a dataframe:\n",
        "pd.DataFrame(np.dot(A, E))"
      ],
      "execution_count": 29,
      "outputs": [
        {
          "output_type": "stream",
          "text": [
            "[[11 17]\n",
            " [23 37]\n",
            " [35 57]] \n",
            "\n",
            "\n"
          ],
          "name": "stdout"
        },
        {
          "output_type": "execute_result",
          "data": {
            "text/html": [
              "<div>\n",
              "<style scoped>\n",
              "    .dataframe tbody tr th:only-of-type {\n",
              "        vertical-align: middle;\n",
              "    }\n",
              "\n",
              "    .dataframe tbody tr th {\n",
              "        vertical-align: top;\n",
              "    }\n",
              "\n",
              "    .dataframe thead th {\n",
              "        text-align: right;\n",
              "    }\n",
              "</style>\n",
              "<table border=\"1\" class=\"dataframe\">\n",
              "  <thead>\n",
              "    <tr style=\"text-align: right;\">\n",
              "      <th></th>\n",
              "      <th>0</th>\n",
              "      <th>1</th>\n",
              "    </tr>\n",
              "  </thead>\n",
              "  <tbody>\n",
              "    <tr>\n",
              "      <th>0</th>\n",
              "      <td>11</td>\n",
              "      <td>17</td>\n",
              "    </tr>\n",
              "    <tr>\n",
              "      <th>1</th>\n",
              "      <td>23</td>\n",
              "      <td>37</td>\n",
              "    </tr>\n",
              "    <tr>\n",
              "      <th>2</th>\n",
              "      <td>35</td>\n",
              "      <td>57</td>\n",
              "    </tr>\n",
              "  </tbody>\n",
              "</table>\n",
              "</div>"
            ],
            "text/plain": [
              "    0   1\n",
              "0  11  17\n",
              "1  23  37\n",
              "2  35  57"
            ]
          },
          "metadata": {
            "tags": []
          },
          "execution_count": 29
        }
      ]
    },
    {
      "cell_type": "code",
      "metadata": {
        "id": "BSHr1uNOhqOi",
        "colab_type": "code",
        "colab": {
          "base_uri": "https://localhost:8080/",
          "height": 76
        },
        "outputId": "e36879f5-85b0-4bf4-c017-bc0f56c6f0a2"
      },
      "source": [
        "# Multiply B and A by hand and display it as a dataframe:\n",
        "r1_c1 = (2 * 1) + (4 * 3) + (6 * 5)\n",
        "r1_c2 = (2 * 2) + (4 * 4) + (6 * 6)\n",
        "\n",
        "# The new Matrix:\n",
        "man = np.array([[r1_c1, r1_c2]])\n",
        "\n",
        "# Turn the new Matrix into a dataframe:\n",
        "pd.DataFrame(man)"
      ],
      "execution_count": 30,
      "outputs": [
        {
          "output_type": "execute_result",
          "data": {
            "text/html": [
              "<div>\n",
              "<style scoped>\n",
              "    .dataframe tbody tr th:only-of-type {\n",
              "        vertical-align: middle;\n",
              "    }\n",
              "\n",
              "    .dataframe tbody tr th {\n",
              "        vertical-align: top;\n",
              "    }\n",
              "\n",
              "    .dataframe thead th {\n",
              "        text-align: right;\n",
              "    }\n",
              "</style>\n",
              "<table border=\"1\" class=\"dataframe\">\n",
              "  <thead>\n",
              "    <tr style=\"text-align: right;\">\n",
              "      <th></th>\n",
              "      <th>0</th>\n",
              "      <th>1</th>\n",
              "    </tr>\n",
              "  </thead>\n",
              "  <tbody>\n",
              "    <tr>\n",
              "      <th>0</th>\n",
              "      <td>44</td>\n",
              "      <td>56</td>\n",
              "    </tr>\n",
              "  </tbody>\n",
              "</table>\n",
              "</div>"
            ],
            "text/plain": [
              "    0   1\n",
              "0  44  56"
            ]
          },
          "metadata": {
            "tags": []
          },
          "execution_count": 30
        }
      ]
    },
    {
      "cell_type": "code",
      "metadata": {
        "id": "yr5_46EdhqL3",
        "colab_type": "code",
        "colab": {
          "base_uri": "https://localhost:8080/",
          "height": 76
        },
        "outputId": "c24240c4-5ab8-4a8f-b344-a00efda4d6d4"
      },
      "source": [
        "# Check my work on multiplying B and A:\n",
        "pd.DataFrame(np.matmul(B, A))"
      ],
      "execution_count": 31,
      "outputs": [
        {
          "output_type": "execute_result",
          "data": {
            "text/html": [
              "<div>\n",
              "<style scoped>\n",
              "    .dataframe tbody tr th:only-of-type {\n",
              "        vertical-align: middle;\n",
              "    }\n",
              "\n",
              "    .dataframe tbody tr th {\n",
              "        vertical-align: top;\n",
              "    }\n",
              "\n",
              "    .dataframe thead th {\n",
              "        text-align: right;\n",
              "    }\n",
              "</style>\n",
              "<table border=\"1\" class=\"dataframe\">\n",
              "  <thead>\n",
              "    <tr style=\"text-align: right;\">\n",
              "      <th></th>\n",
              "      <th>0</th>\n",
              "      <th>1</th>\n",
              "    </tr>\n",
              "  </thead>\n",
              "  <tbody>\n",
              "    <tr>\n",
              "      <th>0</th>\n",
              "      <td>44</td>\n",
              "      <td>56</td>\n",
              "    </tr>\n",
              "  </tbody>\n",
              "</table>\n",
              "</div>"
            ],
            "text/plain": [
              "    0   1\n",
              "0  44  56"
            ]
          },
          "metadata": {
            "tags": []
          },
          "execution_count": 31
        }
      ]
    },
    {
      "cell_type": "code",
      "metadata": {
        "id": "GKokqXgChqIj",
        "colab_type": "code",
        "colab": {
          "base_uri": "https://localhost:8080/",
          "height": 76
        },
        "outputId": "140a0684-63ef-4af4-9f9a-030a46fe7e3b"
      },
      "source": [
        "# Multiply B and D and turn it into a dataframe:\n",
        "pd.DataFrame(np.matmul(B, D))\n",
        "\n",
        "# Since D is an Identity Matrix, B stays the same."
      ],
      "execution_count": 32,
      "outputs": [
        {
          "output_type": "execute_result",
          "data": {
            "text/html": [
              "<div>\n",
              "<style scoped>\n",
              "    .dataframe tbody tr th:only-of-type {\n",
              "        vertical-align: middle;\n",
              "    }\n",
              "\n",
              "    .dataframe tbody tr th {\n",
              "        vertical-align: top;\n",
              "    }\n",
              "\n",
              "    .dataframe thead th {\n",
              "        text-align: right;\n",
              "    }\n",
              "</style>\n",
              "<table border=\"1\" class=\"dataframe\">\n",
              "  <thead>\n",
              "    <tr style=\"text-align: right;\">\n",
              "      <th></th>\n",
              "      <th>0</th>\n",
              "      <th>1</th>\n",
              "      <th>2</th>\n",
              "    </tr>\n",
              "  </thead>\n",
              "  <tbody>\n",
              "    <tr>\n",
              "      <th>0</th>\n",
              "      <td>2</td>\n",
              "      <td>4</td>\n",
              "      <td>6</td>\n",
              "    </tr>\n",
              "  </tbody>\n",
              "</table>\n",
              "</div>"
            ],
            "text/plain": [
              "   0  1  2\n",
              "0  2  4  6"
            ]
          },
          "metadata": {
            "tags": []
          },
          "execution_count": 32
        }
      ]
    },
    {
      "cell_type": "code",
      "metadata": {
        "id": "MM8WuCythqGN",
        "colab_type": "code",
        "colab": {
          "base_uri": "https://localhost:8080/",
          "height": 105
        },
        "outputId": "92e873bd-83eb-498e-b7f7-c1a7443ddf46"
      },
      "source": [
        "# Multiply C and A and turn it into a dataframe:\n",
        "pd.DataFrame(np.matmul(C, A))"
      ],
      "execution_count": 33,
      "outputs": [
        {
          "output_type": "execute_result",
          "data": {
            "text/html": [
              "<div>\n",
              "<style scoped>\n",
              "    .dataframe tbody tr th:only-of-type {\n",
              "        vertical-align: middle;\n",
              "    }\n",
              "\n",
              "    .dataframe tbody tr th {\n",
              "        vertical-align: top;\n",
              "    }\n",
              "\n",
              "    .dataframe thead th {\n",
              "        text-align: right;\n",
              "    }\n",
              "</style>\n",
              "<table border=\"1\" class=\"dataframe\">\n",
              "  <thead>\n",
              "    <tr style=\"text-align: right;\">\n",
              "      <th></th>\n",
              "      <th>0</th>\n",
              "      <th>1</th>\n",
              "    </tr>\n",
              "  </thead>\n",
              "  <tbody>\n",
              "    <tr>\n",
              "      <th>0</th>\n",
              "      <td>42</td>\n",
              "      <td>60</td>\n",
              "    </tr>\n",
              "    <tr>\n",
              "      <th>1</th>\n",
              "      <td>80</td>\n",
              "      <td>102</td>\n",
              "    </tr>\n",
              "  </tbody>\n",
              "</table>\n",
              "</div>"
            ],
            "text/plain": [
              "    0    1\n",
              "0  42   60\n",
              "1  80  102"
            ]
          },
          "metadata": {
            "tags": []
          },
          "execution_count": 33
        }
      ]
    },
    {
      "cell_type": "code",
      "metadata": {
        "id": "LEMYUSZU9r7s",
        "colab_type": "code",
        "colab": {}
      },
      "source": [
        "# Can define my own function to do the same thing:\n",
        "def mat_mult (A, B):\n",
        "  C = [[0 for row in range(len(B[0]))]  # Where new column values go\n",
        "       for col in range(len(A))]        # Where new row values go\n",
        "  for i in range(len(A)):               # All values in row of A\n",
        "    for c in range(len(B[0])):          # All values in column of B\n",
        "      for v in range(len(A[0])):        # All values in column of A\n",
        "        C[i][c] += A[i][v] * B[v][c]    # Calculate the new values/products\n",
        "  return pd.DataFrame(C)                # Complete my function"
      ],
      "execution_count": 0,
      "outputs": []
    },
    {
      "cell_type": "code",
      "metadata": {
        "id": "1cSL9YeKDsu9",
        "colab_type": "code",
        "colab": {
          "base_uri": "https://localhost:8080/",
          "height": 105
        },
        "outputId": "c62b5bb2-9585-4f9f-ff07-285cfdb612cb"
      },
      "source": [
        "# Test my function on C and A:\n",
        "mat_mult(C, A)"
      ],
      "execution_count": 35,
      "outputs": [
        {
          "output_type": "execute_result",
          "data": {
            "text/html": [
              "<div>\n",
              "<style scoped>\n",
              "    .dataframe tbody tr th:only-of-type {\n",
              "        vertical-align: middle;\n",
              "    }\n",
              "\n",
              "    .dataframe tbody tr th {\n",
              "        vertical-align: top;\n",
              "    }\n",
              "\n",
              "    .dataframe thead th {\n",
              "        text-align: right;\n",
              "    }\n",
              "</style>\n",
              "<table border=\"1\" class=\"dataframe\">\n",
              "  <thead>\n",
              "    <tr style=\"text-align: right;\">\n",
              "      <th></th>\n",
              "      <th>0</th>\n",
              "      <th>1</th>\n",
              "    </tr>\n",
              "  </thead>\n",
              "  <tbody>\n",
              "    <tr>\n",
              "      <th>0</th>\n",
              "      <td>42</td>\n",
              "      <td>60</td>\n",
              "    </tr>\n",
              "    <tr>\n",
              "      <th>1</th>\n",
              "      <td>80</td>\n",
              "      <td>102</td>\n",
              "    </tr>\n",
              "  </tbody>\n",
              "</table>\n",
              "</div>"
            ],
            "text/plain": [
              "    0    1\n",
              "0  42   60\n",
              "1  80  102"
            ]
          },
          "metadata": {
            "tags": []
          },
          "execution_count": 35
        }
      ]
    },
    {
      "cell_type": "code",
      "metadata": {
        "id": "yMt2q3ythp_o",
        "colab_type": "code",
        "colab": {
          "base_uri": "https://localhost:8080/",
          "height": 105
        },
        "outputId": "e7b6f94c-8168-44ec-b7c6-b83cd6e8d56e"
      },
      "source": [
        "# Multiply C and D and turn it into a dataframe:\n",
        "pd.DataFrame(np.matmul(C, D))\n",
        "\n",
        "# Since D is an Identity Matrix, C stays the same."
      ],
      "execution_count": 36,
      "outputs": [
        {
          "output_type": "execute_result",
          "data": {
            "text/html": [
              "<div>\n",
              "<style scoped>\n",
              "    .dataframe tbody tr th:only-of-type {\n",
              "        vertical-align: middle;\n",
              "    }\n",
              "\n",
              "    .dataframe tbody tr th {\n",
              "        vertical-align: top;\n",
              "    }\n",
              "\n",
              "    .dataframe thead th {\n",
              "        text-align: right;\n",
              "    }\n",
              "</style>\n",
              "<table border=\"1\" class=\"dataframe\">\n",
              "  <thead>\n",
              "    <tr style=\"text-align: right;\">\n",
              "      <th></th>\n",
              "      <th>0</th>\n",
              "      <th>1</th>\n",
              "      <th>2</th>\n",
              "    </tr>\n",
              "  </thead>\n",
              "  <tbody>\n",
              "    <tr>\n",
              "      <th>0</th>\n",
              "      <td>9</td>\n",
              "      <td>6</td>\n",
              "      <td>3</td>\n",
              "    </tr>\n",
              "    <tr>\n",
              "      <th>1</th>\n",
              "      <td>4</td>\n",
              "      <td>7</td>\n",
              "      <td>11</td>\n",
              "    </tr>\n",
              "  </tbody>\n",
              "</table>\n",
              "</div>"
            ],
            "text/plain": [
              "   0  1   2\n",
              "0  9  6   3\n",
              "1  4  7  11"
            ]
          },
          "metadata": {
            "tags": []
          },
          "execution_count": 36
        }
      ]
    },
    {
      "cell_type": "code",
      "metadata": {
        "id": "ok3UhImqELEH",
        "colab_type": "code",
        "colab": {
          "base_uri": "https://localhost:8080/",
          "height": 105
        },
        "outputId": "7afe2e5c-bd36-43f1-c96d-9092e29be6d0"
      },
      "source": [
        "# Test my function on C and D:\n",
        "mat_mult(C, D)"
      ],
      "execution_count": 37,
      "outputs": [
        {
          "output_type": "execute_result",
          "data": {
            "text/html": [
              "<div>\n",
              "<style scoped>\n",
              "    .dataframe tbody tr th:only-of-type {\n",
              "        vertical-align: middle;\n",
              "    }\n",
              "\n",
              "    .dataframe tbody tr th {\n",
              "        vertical-align: top;\n",
              "    }\n",
              "\n",
              "    .dataframe thead th {\n",
              "        text-align: right;\n",
              "    }\n",
              "</style>\n",
              "<table border=\"1\" class=\"dataframe\">\n",
              "  <thead>\n",
              "    <tr style=\"text-align: right;\">\n",
              "      <th></th>\n",
              "      <th>0</th>\n",
              "      <th>1</th>\n",
              "      <th>2</th>\n",
              "    </tr>\n",
              "  </thead>\n",
              "  <tbody>\n",
              "    <tr>\n",
              "      <th>0</th>\n",
              "      <td>9</td>\n",
              "      <td>6</td>\n",
              "      <td>3</td>\n",
              "    </tr>\n",
              "    <tr>\n",
              "      <th>1</th>\n",
              "      <td>4</td>\n",
              "      <td>7</td>\n",
              "      <td>11</td>\n",
              "    </tr>\n",
              "  </tbody>\n",
              "</table>\n",
              "</div>"
            ],
            "text/plain": [
              "   0  1   2\n",
              "0  9  6   3\n",
              "1  4  7  11"
            ]
          },
          "metadata": {
            "tags": []
          },
          "execution_count": 37
        }
      ]
    },
    {
      "cell_type": "code",
      "metadata": {
        "id": "-5VKOMKBlgaA",
        "colab_type": "code",
        "colab": {
          "base_uri": "https://localhost:8080/",
          "height": 134
        },
        "outputId": "eb78f63b-ea55-4b91-95fe-fa9a5e58942f"
      },
      "source": [
        "# Multiply D and A and turn it into a dataframe:\n",
        "pd.DataFrame(np.matmul(D, A))\n",
        "\n",
        "# Since D is an Identity Matrix, A stays the same."
      ],
      "execution_count": 38,
      "outputs": [
        {
          "output_type": "execute_result",
          "data": {
            "text/html": [
              "<div>\n",
              "<style scoped>\n",
              "    .dataframe tbody tr th:only-of-type {\n",
              "        vertical-align: middle;\n",
              "    }\n",
              "\n",
              "    .dataframe tbody tr th {\n",
              "        vertical-align: top;\n",
              "    }\n",
              "\n",
              "    .dataframe thead th {\n",
              "        text-align: right;\n",
              "    }\n",
              "</style>\n",
              "<table border=\"1\" class=\"dataframe\">\n",
              "  <thead>\n",
              "    <tr style=\"text-align: right;\">\n",
              "      <th></th>\n",
              "      <th>0</th>\n",
              "      <th>1</th>\n",
              "    </tr>\n",
              "  </thead>\n",
              "  <tbody>\n",
              "    <tr>\n",
              "      <th>0</th>\n",
              "      <td>1</td>\n",
              "      <td>2</td>\n",
              "    </tr>\n",
              "    <tr>\n",
              "      <th>1</th>\n",
              "      <td>3</td>\n",
              "      <td>4</td>\n",
              "    </tr>\n",
              "    <tr>\n",
              "      <th>2</th>\n",
              "      <td>5</td>\n",
              "      <td>6</td>\n",
              "    </tr>\n",
              "  </tbody>\n",
              "</table>\n",
              "</div>"
            ],
            "text/plain": [
              "   0  1\n",
              "0  1  2\n",
              "1  3  4\n",
              "2  5  6"
            ]
          },
          "metadata": {
            "tags": []
          },
          "execution_count": 38
        }
      ]
    },
    {
      "cell_type": "code",
      "metadata": {
        "id": "Z69c-uPtnbIx",
        "colab_type": "code",
        "colab": {
          "base_uri": "https://localhost:8080/",
          "height": 105
        },
        "outputId": "0b2a1041-a0d0-4d96-9745-2ceebb0c4172"
      },
      "source": [
        "# Multiply E and C and turn it into a dataframe:\n",
        "pd.DataFrame(np.matmul(E, C))"
      ],
      "execution_count": 39,
      "outputs": [
        {
          "output_type": "execute_result",
          "data": {
            "text/html": [
              "<div>\n",
              "<style scoped>\n",
              "    .dataframe tbody tr th:only-of-type {\n",
              "        vertical-align: middle;\n",
              "    }\n",
              "\n",
              "    .dataframe tbody tr th {\n",
              "        vertical-align: top;\n",
              "    }\n",
              "\n",
              "    .dataframe thead th {\n",
              "        text-align: right;\n",
              "    }\n",
              "</style>\n",
              "<table border=\"1\" class=\"dataframe\">\n",
              "  <thead>\n",
              "    <tr style=\"text-align: right;\">\n",
              "      <th></th>\n",
              "      <th>0</th>\n",
              "      <th>1</th>\n",
              "      <th>2</th>\n",
              "    </tr>\n",
              "  </thead>\n",
              "  <tbody>\n",
              "    <tr>\n",
              "      <th>0</th>\n",
              "      <td>21</td>\n",
              "      <td>27</td>\n",
              "      <td>36</td>\n",
              "    </tr>\n",
              "    <tr>\n",
              "      <th>1</th>\n",
              "      <td>73</td>\n",
              "      <td>79</td>\n",
              "      <td>92</td>\n",
              "    </tr>\n",
              "  </tbody>\n",
              "</table>\n",
              "</div>"
            ],
            "text/plain": [
              "    0   1   2\n",
              "0  21  27  36\n",
              "1  73  79  92"
            ]
          },
          "metadata": {
            "tags": []
          },
          "execution_count": 39
        }
      ]
    },
    {
      "cell_type": "markdown",
      "metadata": {
        "id": "lMOlCoM3ncGa",
        "colab_type": "text"
      },
      "source": [
        "## 2.2 Find the following products: CD, AE, and BA. What are the dimensions of the resulting matrices? How does that relate to the dimensions of their factor matrices?"
      ]
    },
    {
      "cell_type": "code",
      "metadata": {
        "colab_type": "code",
        "outputId": "60283582-0c48-4f3b-959c-20663d5688c6",
        "id": "Yu9lLRaUpc-r",
        "colab": {
          "base_uri": "https://localhost:8080/",
          "height": 105
        }
      },
      "source": [
        "# Multiply C and D and turn it into a dataframe:\n",
        "mat_mult(C, D)"
      ],
      "execution_count": 40,
      "outputs": [
        {
          "output_type": "execute_result",
          "data": {
            "text/html": [
              "<div>\n",
              "<style scoped>\n",
              "    .dataframe tbody tr th:only-of-type {\n",
              "        vertical-align: middle;\n",
              "    }\n",
              "\n",
              "    .dataframe tbody tr th {\n",
              "        vertical-align: top;\n",
              "    }\n",
              "\n",
              "    .dataframe thead th {\n",
              "        text-align: right;\n",
              "    }\n",
              "</style>\n",
              "<table border=\"1\" class=\"dataframe\">\n",
              "  <thead>\n",
              "    <tr style=\"text-align: right;\">\n",
              "      <th></th>\n",
              "      <th>0</th>\n",
              "      <th>1</th>\n",
              "      <th>2</th>\n",
              "    </tr>\n",
              "  </thead>\n",
              "  <tbody>\n",
              "    <tr>\n",
              "      <th>0</th>\n",
              "      <td>9</td>\n",
              "      <td>6</td>\n",
              "      <td>3</td>\n",
              "    </tr>\n",
              "    <tr>\n",
              "      <th>1</th>\n",
              "      <td>4</td>\n",
              "      <td>7</td>\n",
              "      <td>11</td>\n",
              "    </tr>\n",
              "  </tbody>\n",
              "</table>\n",
              "</div>"
            ],
            "text/plain": [
              "   0  1   2\n",
              "0  9  6   3\n",
              "1  4  7  11"
            ]
          },
          "metadata": {
            "tags": []
          },
          "execution_count": 40
        }
      ]
    },
    {
      "cell_type": "markdown",
      "metadata": {
        "id": "Sl5CroRxElcU",
        "colab_type": "text"
      },
      "source": [
        "- Since D is an Identity Matrix, the resulting Matrix is the still the same as C, which is 2 x 3 because multiplying any Matrix by an Identity Matrix is like multipying it by 1. So you will also return the same Matrix."
      ]
    },
    {
      "cell_type": "code",
      "metadata": {
        "colab_type": "code",
        "outputId": "91b33a2e-1476-44b9-d55a-512e95bd81d5",
        "id": "JlFUlVrCprO0",
        "colab": {
          "base_uri": "https://localhost:8080/",
          "height": 134
        }
      },
      "source": [
        "# Multiply A and E and turn it into a dataframe:\n",
        "mat_mult(A, E)"
      ],
      "execution_count": 41,
      "outputs": [
        {
          "output_type": "execute_result",
          "data": {
            "text/html": [
              "<div>\n",
              "<style scoped>\n",
              "    .dataframe tbody tr th:only-of-type {\n",
              "        vertical-align: middle;\n",
              "    }\n",
              "\n",
              "    .dataframe tbody tr th {\n",
              "        vertical-align: top;\n",
              "    }\n",
              "\n",
              "    .dataframe thead th {\n",
              "        text-align: right;\n",
              "    }\n",
              "</style>\n",
              "<table border=\"1\" class=\"dataframe\">\n",
              "  <thead>\n",
              "    <tr style=\"text-align: right;\">\n",
              "      <th></th>\n",
              "      <th>0</th>\n",
              "      <th>1</th>\n",
              "    </tr>\n",
              "  </thead>\n",
              "  <tbody>\n",
              "    <tr>\n",
              "      <th>0</th>\n",
              "      <td>11</td>\n",
              "      <td>17</td>\n",
              "    </tr>\n",
              "    <tr>\n",
              "      <th>1</th>\n",
              "      <td>23</td>\n",
              "      <td>37</td>\n",
              "    </tr>\n",
              "    <tr>\n",
              "      <th>2</th>\n",
              "      <td>35</td>\n",
              "      <td>57</td>\n",
              "    </tr>\n",
              "  </tbody>\n",
              "</table>\n",
              "</div>"
            ],
            "text/plain": [
              "    0   1\n",
              "0  11  17\n",
              "1  23  37\n",
              "2  35  57"
            ]
          },
          "metadata": {
            "tags": []
          },
          "execution_count": 41
        }
      ]
    },
    {
      "cell_type": "markdown",
      "metadata": {
        "id": "KAXbY3R-H2q7",
        "colab_type": "text"
      },
      "source": [
        "- The resulting Matrix is a 3 x 2 Matrix because A was 3 x 2 and E was 2 x 2. Therefore the resulting Matrix will now hold the dimension of rows from A, which was 3, and the dimension of the columns from E, which was 2."
      ]
    },
    {
      "cell_type": "code",
      "metadata": {
        "colab_type": "code",
        "outputId": "b8ae8ee4-f58f-4f1e-c285-b6a0f9cff59f",
        "id": "tuQvDfg4pmmU",
        "colab": {
          "base_uri": "https://localhost:8080/",
          "height": 76
        }
      },
      "source": [
        "# Multiply B and A and turn it into a dataframe:\n",
        "mat_mult(B, A)"
      ],
      "execution_count": 42,
      "outputs": [
        {
          "output_type": "execute_result",
          "data": {
            "text/html": [
              "<div>\n",
              "<style scoped>\n",
              "    .dataframe tbody tr th:only-of-type {\n",
              "        vertical-align: middle;\n",
              "    }\n",
              "\n",
              "    .dataframe tbody tr th {\n",
              "        vertical-align: top;\n",
              "    }\n",
              "\n",
              "    .dataframe thead th {\n",
              "        text-align: right;\n",
              "    }\n",
              "</style>\n",
              "<table border=\"1\" class=\"dataframe\">\n",
              "  <thead>\n",
              "    <tr style=\"text-align: right;\">\n",
              "      <th></th>\n",
              "      <th>0</th>\n",
              "      <th>1</th>\n",
              "    </tr>\n",
              "  </thead>\n",
              "  <tbody>\n",
              "    <tr>\n",
              "      <th>0</th>\n",
              "      <td>44</td>\n",
              "      <td>56</td>\n",
              "    </tr>\n",
              "  </tbody>\n",
              "</table>\n",
              "</div>"
            ],
            "text/plain": [
              "    0   1\n",
              "0  44  56"
            ]
          },
          "metadata": {
            "tags": []
          },
          "execution_count": 42
        }
      ]
    },
    {
      "cell_type": "markdown",
      "metadata": {
        "colab_type": "text",
        "id": "KeI4qmWNI9W9"
      },
      "source": [
        "- The resulting Matrix is a 1 x 2 Matrix because B was 1 x 2 and A was 3 x 2. Therefore the resulting Matrix will now hold the dimension of rows from B, which was 1, and the dimension of the columns from A, which was 2."
      ]
    },
    {
      "cell_type": "markdown",
      "metadata": {
        "id": "p2jmaGLgoFPN",
        "colab_type": "text"
      },
      "source": [
        "## 2.3  Find $F^{T}$. How are the numbers along the main diagonal (top left to bottom right) of the original matrix and its transpose related? What are the dimensions of $F$? What are the dimensions of $F^{T}$?\n",
        "\n",
        "\\begin{align}\n",
        "F = \n",
        "\\begin{bmatrix}\n",
        "20 & 19 & 18 & 17 \\\\\n",
        "16 & 15 & 14 & 13 \\\\\n",
        "12 & 11 & 10 & 9 \\\\\n",
        "8 & 7 & 6 & 5 \\\\\n",
        "4 & 3 & 2 & 1\n",
        "\\end{bmatrix}\n",
        "\\end{align}"
      ]
    },
    {
      "cell_type": "code",
      "metadata": {
        "id": "Ju2Tz5s8pT6D",
        "colab_type": "code",
        "colab": {
          "base_uri": "https://localhost:8080/",
          "height": 193
        },
        "outputId": "267ab3bf-5f8e-4c75-d7f1-67ed35382de1"
      },
      "source": [
        "# Need to create the F Matrix:\n",
        "F = np.array([[20, 19, 18, 17],\n",
        "              [16, 15, 14, 13],\n",
        "              [12, 11, 10, 9],\n",
        "              [8, 7, 6, 5],\n",
        "              [4, 3, 2, 1]])\n",
        "\n",
        "# Turn it into a dataframe for easier viewing:\n",
        "F_df = pd.DataFrame(F)\n",
        "F_df"
      ],
      "execution_count": 43,
      "outputs": [
        {
          "output_type": "execute_result",
          "data": {
            "text/html": [
              "<div>\n",
              "<style scoped>\n",
              "    .dataframe tbody tr th:only-of-type {\n",
              "        vertical-align: middle;\n",
              "    }\n",
              "\n",
              "    .dataframe tbody tr th {\n",
              "        vertical-align: top;\n",
              "    }\n",
              "\n",
              "    .dataframe thead th {\n",
              "        text-align: right;\n",
              "    }\n",
              "</style>\n",
              "<table border=\"1\" class=\"dataframe\">\n",
              "  <thead>\n",
              "    <tr style=\"text-align: right;\">\n",
              "      <th></th>\n",
              "      <th>0</th>\n",
              "      <th>1</th>\n",
              "      <th>2</th>\n",
              "      <th>3</th>\n",
              "    </tr>\n",
              "  </thead>\n",
              "  <tbody>\n",
              "    <tr>\n",
              "      <th>0</th>\n",
              "      <td>20</td>\n",
              "      <td>19</td>\n",
              "      <td>18</td>\n",
              "      <td>17</td>\n",
              "    </tr>\n",
              "    <tr>\n",
              "      <th>1</th>\n",
              "      <td>16</td>\n",
              "      <td>15</td>\n",
              "      <td>14</td>\n",
              "      <td>13</td>\n",
              "    </tr>\n",
              "    <tr>\n",
              "      <th>2</th>\n",
              "      <td>12</td>\n",
              "      <td>11</td>\n",
              "      <td>10</td>\n",
              "      <td>9</td>\n",
              "    </tr>\n",
              "    <tr>\n",
              "      <th>3</th>\n",
              "      <td>8</td>\n",
              "      <td>7</td>\n",
              "      <td>6</td>\n",
              "      <td>5</td>\n",
              "    </tr>\n",
              "    <tr>\n",
              "      <th>4</th>\n",
              "      <td>4</td>\n",
              "      <td>3</td>\n",
              "      <td>2</td>\n",
              "      <td>1</td>\n",
              "    </tr>\n",
              "  </tbody>\n",
              "</table>\n",
              "</div>"
            ],
            "text/plain": [
              "    0   1   2   3\n",
              "0  20  19  18  17\n",
              "1  16  15  14  13\n",
              "2  12  11  10   9\n",
              "3   8   7   6   5\n",
              "4   4   3   2   1"
            ]
          },
          "metadata": {
            "tags": []
          },
          "execution_count": 43
        }
      ]
    },
    {
      "cell_type": "code",
      "metadata": {
        "id": "ga2pqcCrpT1a",
        "colab_type": "code",
        "colab": {
          "base_uri": "https://localhost:8080/",
          "height": 164
        },
        "outputId": "890f4535-def8-40a3-9cf9-2128b763e169"
      },
      "source": [
        "# Transpose the F Matrix:\n",
        "F_df.T"
      ],
      "execution_count": 44,
      "outputs": [
        {
          "output_type": "execute_result",
          "data": {
            "text/html": [
              "<div>\n",
              "<style scoped>\n",
              "    .dataframe tbody tr th:only-of-type {\n",
              "        vertical-align: middle;\n",
              "    }\n",
              "\n",
              "    .dataframe tbody tr th {\n",
              "        vertical-align: top;\n",
              "    }\n",
              "\n",
              "    .dataframe thead th {\n",
              "        text-align: right;\n",
              "    }\n",
              "</style>\n",
              "<table border=\"1\" class=\"dataframe\">\n",
              "  <thead>\n",
              "    <tr style=\"text-align: right;\">\n",
              "      <th></th>\n",
              "      <th>0</th>\n",
              "      <th>1</th>\n",
              "      <th>2</th>\n",
              "      <th>3</th>\n",
              "      <th>4</th>\n",
              "    </tr>\n",
              "  </thead>\n",
              "  <tbody>\n",
              "    <tr>\n",
              "      <th>0</th>\n",
              "      <td>20</td>\n",
              "      <td>16</td>\n",
              "      <td>12</td>\n",
              "      <td>8</td>\n",
              "      <td>4</td>\n",
              "    </tr>\n",
              "    <tr>\n",
              "      <th>1</th>\n",
              "      <td>19</td>\n",
              "      <td>15</td>\n",
              "      <td>11</td>\n",
              "      <td>7</td>\n",
              "      <td>3</td>\n",
              "    </tr>\n",
              "    <tr>\n",
              "      <th>2</th>\n",
              "      <td>18</td>\n",
              "      <td>14</td>\n",
              "      <td>10</td>\n",
              "      <td>6</td>\n",
              "      <td>2</td>\n",
              "    </tr>\n",
              "    <tr>\n",
              "      <th>3</th>\n",
              "      <td>17</td>\n",
              "      <td>13</td>\n",
              "      <td>9</td>\n",
              "      <td>5</td>\n",
              "      <td>1</td>\n",
              "    </tr>\n",
              "  </tbody>\n",
              "</table>\n",
              "</div>"
            ],
            "text/plain": [
              "    0   1   2  3  4\n",
              "0  20  16  12  8  4\n",
              "1  19  15  11  7  3\n",
              "2  18  14  10  6  2\n",
              "3  17  13   9  5  1"
            ]
          },
          "metadata": {
            "tags": []
          },
          "execution_count": 44
        }
      ]
    },
    {
      "cell_type": "markdown",
      "metadata": {
        "id": "v46oeq3QKari",
        "colab_type": "text"
      },
      "source": [
        "- How are the numbers along the main diagonal (top left to bottom right) of the original matrix and its transpose related? \n",
        "  - They are the same numbers. They stay the same and only the numbers around them move.\n",
        "\n",
        "- What are the dimensions of F? \n",
        "  - 5 x 4\n",
        "\n",
        "- What are the dimensions of FT?\n",
        "  - 4 x 5"
      ]
    },
    {
      "cell_type": "markdown",
      "metadata": {
        "id": "13ik2LEEZLHn",
        "colab_type": "text"
      },
      "source": [
        "# Part 3 - Square Matrices"
      ]
    },
    {
      "cell_type": "markdown",
      "metadata": {
        "id": "sDBAPUwfp7f7",
        "colab_type": "text"
      },
      "source": [
        "## 3.1 Find $IG$ (be sure to show your work) 😃\n",
        "\n",
        "You don't have to do anything crazy complicated here to show your work, just create the G matrix as specified below, and a corresponding 2x2 Identity matrix and then multiply them together to show the result. You don't need to write LaTeX or anything like that (unless you want to).\n",
        "\n",
        "\\begin{align}\n",
        "G= \n",
        "\\begin{bmatrix}\n",
        "13 & 14 \\\\\n",
        "21 & 12 \n",
        "\\end{bmatrix}\n",
        "\\end{align}"
      ]
    },
    {
      "cell_type": "code",
      "metadata": {
        "id": "RlK21tM5pTt0",
        "colab_type": "code",
        "colab": {
          "base_uri": "https://localhost:8080/",
          "height": 134
        },
        "outputId": "233daec8-20f3-4b6c-d4f2-a23cb934b0f1"
      },
      "source": [
        "# Create the G Matrix:\n",
        "G = np.array([[13, 14], [21, 12]])\n",
        "\n",
        "# Create the Identity Matrix:\n",
        "I = np.array([[1, 0], [0, 1]])\n",
        "\n",
        "# Show them both:\n",
        "print ('Matrix G\\n', G, '\\n\\n', 'Matrix I\\n', I)"
      ],
      "execution_count": 45,
      "outputs": [
        {
          "output_type": "stream",
          "text": [
            "Matrix G\n",
            " [[13 14]\n",
            " [21 12]] \n",
            "\n",
            " Matrix I\n",
            " [[1 0]\n",
            " [0 1]]\n"
          ],
          "name": "stdout"
        }
      ]
    },
    {
      "cell_type": "code",
      "metadata": {
        "id": "d5JzcMc1pTnp",
        "colab_type": "code",
        "colab": {
          "base_uri": "https://localhost:8080/",
          "height": 105
        },
        "outputId": "1d34f7a4-8d36-48c0-d7ff-99fe830df076"
      },
      "source": [
        "# Multiply Matrix G and I by hand:\n",
        "GIr1_c1 = (13 * 1) + (14 * 0)\n",
        "GIr1_c2 = (13 * 0) + (14 * 1)\n",
        "GIr2_c1 = (21 * 1) + (12 * 0)\n",
        "GIr2_c2 = (21 * 0) + (12 * 1)\n",
        "\n",
        "# Calculate the new Matrix:\n",
        "GI_man = np.array([[GIr1_c1, GIr1_c2], [GIr2_c1, GIr2_c2]])\n",
        "\n",
        "# Then I can turn the new Matrix into a dataframe:\n",
        "pd.DataFrame(GI_man)"
      ],
      "execution_count": 46,
      "outputs": [
        {
          "output_type": "execute_result",
          "data": {
            "text/html": [
              "<div>\n",
              "<style scoped>\n",
              "    .dataframe tbody tr th:only-of-type {\n",
              "        vertical-align: middle;\n",
              "    }\n",
              "\n",
              "    .dataframe tbody tr th {\n",
              "        vertical-align: top;\n",
              "    }\n",
              "\n",
              "    .dataframe thead th {\n",
              "        text-align: right;\n",
              "    }\n",
              "</style>\n",
              "<table border=\"1\" class=\"dataframe\">\n",
              "  <thead>\n",
              "    <tr style=\"text-align: right;\">\n",
              "      <th></th>\n",
              "      <th>0</th>\n",
              "      <th>1</th>\n",
              "    </tr>\n",
              "  </thead>\n",
              "  <tbody>\n",
              "    <tr>\n",
              "      <th>0</th>\n",
              "      <td>13</td>\n",
              "      <td>14</td>\n",
              "    </tr>\n",
              "    <tr>\n",
              "      <th>1</th>\n",
              "      <td>21</td>\n",
              "      <td>12</td>\n",
              "    </tr>\n",
              "  </tbody>\n",
              "</table>\n",
              "</div>"
            ],
            "text/plain": [
              "    0   1\n",
              "0  13  14\n",
              "1  21  12"
            ]
          },
          "metadata": {
            "tags": []
          },
          "execution_count": 46
        }
      ]
    },
    {
      "cell_type": "markdown",
      "metadata": {
        "id": "DZ_0XTDQqpMT",
        "colab_type": "text"
      },
      "source": [
        "## 3.2 Find $|H|$ and then find $|J|$.\n",
        "\n",
        "\\begin{align}\n",
        "H= \n",
        "\\begin{bmatrix}\n",
        "12 & 11 \\\\\n",
        "7 & 10 \n",
        "\\end{bmatrix}\n",
        "\\qquad\n",
        "J= \n",
        "\\begin{bmatrix}\n",
        "0 & 1 & 2 \\\\\n",
        "7 & 10 & 4 \\\\\n",
        "3 & 2 & 0\n",
        "\\end{bmatrix}\n",
        "\\end{align}\n"
      ]
    },
    {
      "cell_type": "code",
      "metadata": {
        "id": "Wl3ElwgLqaAn",
        "colab_type": "code",
        "colab": {
          "base_uri": "https://localhost:8080/",
          "height": 185
        },
        "outputId": "9f716379-6ed9-4b51-861a-270a42658d91"
      },
      "source": [
        "# Create the H and J Matrices:\n",
        "H = np.array([[12, 11], [7, 10]])\n",
        "J = np.array([[0, 1, 2], [7, 10, 4], [3, 2, 0]])\n",
        "\n",
        "# Turn them into a dataframe:\n",
        "H = pd.DataFrame(H)\n",
        "J = pd.DataFrame(J)\n",
        "\n",
        "# View both Matrices:\n",
        "print ('Matrix H', '\\n', H)\n",
        "print ('')\n",
        "print ('Matrix J', '\\n', J)"
      ],
      "execution_count": 47,
      "outputs": [
        {
          "output_type": "stream",
          "text": [
            "Matrix H \n",
            "     0   1\n",
            "0  12  11\n",
            "1   7  10\n",
            "\n",
            "Matrix J \n",
            "    0   1  2\n",
            "0  0   1  2\n",
            "1  7  10  4\n",
            "2  3   2  0\n"
          ],
          "name": "stdout"
        }
      ]
    },
    {
      "cell_type": "code",
      "metadata": {
        "id": "ZnqvZBOYqar3",
        "colab_type": "code",
        "colab": {
          "base_uri": "https://localhost:8080/",
          "height": 67
        },
        "outputId": "de386b72-1b28-46e1-d064-d2ed8715eb9e"
      },
      "source": [
        "# Find the determinant of both H and J:\n",
        "print ('|H|: ', np.linalg.det(H), '\\n')\n",
        "print ('|J|: ', np.linalg.det(J))"
      ],
      "execution_count": 48,
      "outputs": [
        {
          "output_type": "stream",
          "text": [
            "|H|:  43.000000000000014 \n",
            "\n",
            "|J|:  -19.999999999999996\n"
          ],
          "name": "stdout"
        }
      ]
    },
    {
      "cell_type": "markdown",
      "metadata": {
        "id": "2gZl1CFwrXSH",
        "colab_type": "text"
      },
      "source": [
        "## 3.3 Find $H^{-1}$ and then find $J^{-1}$"
      ]
    },
    {
      "cell_type": "code",
      "metadata": {
        "id": "5QShhoXyrjDS",
        "colab_type": "code",
        "colab": {
          "base_uri": "https://localhost:8080/",
          "height": 151
        },
        "outputId": "eb634dfc-2926-4cf8-e230-7b253ec58732"
      },
      "source": [
        "# Find the inverse of Matrix H and J:\n",
        "H_inv = np.linalg.inv(H)\n",
        "J_inv = np.linalg.inv(J)\n",
        "\n",
        "# Turn the inverse H and J into a dataframe:\n",
        "H_inv = pd.DataFrame(H_inv)\n",
        "J_inv = pd.DataFrame(J_inv)\n",
        "\n",
        "# Show both:\n",
        "print (H_inv)\n",
        "print ('')\n",
        "print (J_inv)"
      ],
      "execution_count": 49,
      "outputs": [
        {
          "output_type": "stream",
          "text": [
            "          0         1\n",
            "0  0.232558 -0.255814\n",
            "1 -0.162791  0.279070\n",
            "\n",
            "     0     1     2\n",
            "0  0.4 -0.20  0.80\n",
            "1 -0.6  0.30 -0.70\n",
            "2  0.8 -0.15  0.35\n"
          ],
          "name": "stdout"
        }
      ]
    },
    {
      "cell_type": "markdown",
      "metadata": {
        "id": "Vvd4Pe86rjhW",
        "colab_type": "text"
      },
      "source": [
        "## 3.4 Find $HH^{-1}$ and then find $J^{-1}J$. Is $HH^{-1} == J^{-1}J$? Why or Why not? \n",
        "\n",
        "Please ignore Python rounding errors. If necessary, format your output so that it rounds to 5 significant digits (the fifth decimal place)."
      ]
    },
    {
      "cell_type": "code",
      "metadata": {
        "id": "nyX6De2-rio1",
        "colab_type": "code",
        "colab": {
          "base_uri": "https://localhost:8080/",
          "height": 105
        },
        "outputId": "b71e955c-8644-4984-8074-2272cd1359df"
      },
      "source": [
        "# Multiply H by it's inverse:\n",
        "mat_mult(H, H_inv).round(5)"
      ],
      "execution_count": 50,
      "outputs": [
        {
          "output_type": "execute_result",
          "data": {
            "text/html": [
              "<div>\n",
              "<style scoped>\n",
              "    .dataframe tbody tr th:only-of-type {\n",
              "        vertical-align: middle;\n",
              "    }\n",
              "\n",
              "    .dataframe tbody tr th {\n",
              "        vertical-align: top;\n",
              "    }\n",
              "\n",
              "    .dataframe thead th {\n",
              "        text-align: right;\n",
              "    }\n",
              "</style>\n",
              "<table border=\"1\" class=\"dataframe\">\n",
              "  <thead>\n",
              "    <tr style=\"text-align: right;\">\n",
              "      <th></th>\n",
              "      <th>0</th>\n",
              "      <th>1</th>\n",
              "    </tr>\n",
              "  </thead>\n",
              "  <tbody>\n",
              "    <tr>\n",
              "      <th>0</th>\n",
              "      <td>1.0</td>\n",
              "      <td>0.0</td>\n",
              "    </tr>\n",
              "    <tr>\n",
              "      <th>1</th>\n",
              "      <td>0.0</td>\n",
              "      <td>1.0</td>\n",
              "    </tr>\n",
              "  </tbody>\n",
              "</table>\n",
              "</div>"
            ],
            "text/plain": [
              "     0    1\n",
              "0  1.0  0.0\n",
              "1  0.0  1.0"
            ]
          },
          "metadata": {
            "tags": []
          },
          "execution_count": 50
        }
      ]
    },
    {
      "cell_type": "code",
      "metadata": {
        "id": "eUrYB6leY1zH",
        "colab_type": "code",
        "colab": {
          "base_uri": "https://localhost:8080/",
          "height": 134
        },
        "outputId": "da4cab2e-c0bc-4c3d-a2a0-4f94245690bd"
      },
      "source": [
        "# Multiply the inverse of J by J:\n",
        "mat_mult(J_inv, J).round(5)"
      ],
      "execution_count": 51,
      "outputs": [
        {
          "output_type": "execute_result",
          "data": {
            "text/html": [
              "<div>\n",
              "<style scoped>\n",
              "    .dataframe tbody tr th:only-of-type {\n",
              "        vertical-align: middle;\n",
              "    }\n",
              "\n",
              "    .dataframe tbody tr th {\n",
              "        vertical-align: top;\n",
              "    }\n",
              "\n",
              "    .dataframe thead th {\n",
              "        text-align: right;\n",
              "    }\n",
              "</style>\n",
              "<table border=\"1\" class=\"dataframe\">\n",
              "  <thead>\n",
              "    <tr style=\"text-align: right;\">\n",
              "      <th></th>\n",
              "      <th>0</th>\n",
              "      <th>1</th>\n",
              "      <th>2</th>\n",
              "    </tr>\n",
              "  </thead>\n",
              "  <tbody>\n",
              "    <tr>\n",
              "      <th>0</th>\n",
              "      <td>1.0</td>\n",
              "      <td>0.0</td>\n",
              "      <td>0.0</td>\n",
              "    </tr>\n",
              "    <tr>\n",
              "      <th>1</th>\n",
              "      <td>-0.0</td>\n",
              "      <td>1.0</td>\n",
              "      <td>0.0</td>\n",
              "    </tr>\n",
              "    <tr>\n",
              "      <th>2</th>\n",
              "      <td>0.0</td>\n",
              "      <td>-0.0</td>\n",
              "      <td>1.0</td>\n",
              "    </tr>\n",
              "  </tbody>\n",
              "</table>\n",
              "</div>"
            ],
            "text/plain": [
              "     0    1    2\n",
              "0  1.0  0.0  0.0\n",
              "1 -0.0  1.0  0.0\n",
              "2  0.0 -0.0  1.0"
            ]
          },
          "metadata": {
            "tags": []
          },
          "execution_count": 51
        }
      ]
    },
    {
      "cell_type": "markdown",
      "metadata": {
        "id": "5JxaDI5_ZKU4",
        "colab_type": "text"
      },
      "source": [
        "- Is $HH^{-1} == J^{-1}J$? Why or Why not?\n",
        "  - Yes and no. They are both now Identity Matrices but they are not the same dimensions. H is a 2 x 2 Matrix and J is a 3 x 3 Matrix. Also H is showing all positive numbers while J is showing two -0.0's."
      ]
    },
    {
      "cell_type": "markdown",
      "metadata": {
        "id": "V0iTO4McYjtk",
        "colab_type": "text"
      },
      "source": [
        "# Stretch Goals: \n",
        "\n",
        "A reminder that these challenges are optional. If you finish your work quickly we welcome you to work on them. If there are other activities that you feel like will help your understanding of the above topics more, feel free to work on that. Topics from the Stretch Goals sections will never end up on Sprint Challenges. You don't have to do these in order, you don't have to do all of them. \n",
        "\n",
        "- Write a function that can calculate the dot product of any two vectors of equal length that are passed to it.\n",
        "- Write a function that can calculate the norm of any vector\n",
        "- Prove to yourself again that the vectors in 1.9 are orthogonal by graphing them. \n",
        "- Research how to plot a 3d graph with animations so that you can make the graph rotate (this will be easier in a local notebook than in google colab)\n",
        "- Create and plot a matrix on a 2d graph.\n",
        "- Create and plot a matrix on a 3d graph.\n",
        "- Plot two vectors that are not collinear on a 2d graph. Calculate the determinant of the 2x2 matrix that these vectors form. How does this determinant relate to the graphical interpretation of the vectors?\n",
        "\n"
      ]
    },
    {
      "cell_type": "markdown",
      "metadata": {
        "id": "WCDohcF-Zz1l",
        "colab_type": "text"
      },
      "source": [
        "## Write a function that can calculate the dot product of any two vectors of equal length that are passed to it."
      ]
    },
    {
      "cell_type": "code",
      "metadata": {
        "id": "W8bb7azoZ7gK",
        "colab_type": "code",
        "colab": {
          "base_uri": "https://localhost:8080/",
          "height": 34
        },
        "outputId": "62f9f57f-0bf9-47c0-d858-8519d45f6a8a"
      },
      "source": [
        "def my_dot (x, y):\n",
        "  return sum(i * n for i, n in zip(x, y))\n",
        "print ('Dot Product: ', my_dot (x, y))"
      ],
      "execution_count": 52,
      "outputs": [
        {
          "output_type": "stream",
          "text": [
            "Dot Product:  0\n"
          ],
          "name": "stdout"
        }
      ]
    },
    {
      "cell_type": "code",
      "metadata": {
        "id": "jp-2gxcVesfb",
        "colab_type": "code",
        "colab": {
          "base_uri": "https://localhost:8080/",
          "height": 50
        },
        "outputId": "90ece270-df6b-4c44-9290-a60ed288f9c0"
      },
      "source": [
        "# Run my dot product function:\n",
        "print ('My dot function: ', my_dot(c, d))\n",
        "\n",
        "# Check my work:\n",
        "print ('Numpy dot function: ', np.dot(c, d))"
      ],
      "execution_count": 53,
      "outputs": [
        {
          "output_type": "stream",
          "text": [
            "My dot function:  368\n",
            "Numpy dot function:  368\n"
          ],
          "name": "stdout"
        }
      ]
    },
    {
      "cell_type": "markdown",
      "metadata": {
        "id": "64eHWCUnZ_VI",
        "colab_type": "text"
      },
      "source": [
        "## Write a function that can calculate the norm of any vector"
      ]
    },
    {
      "cell_type": "code",
      "metadata": {
        "id": "PGAZJsLcaBLx",
        "colab_type": "code",
        "colab": {}
      },
      "source": [
        ""
      ],
      "execution_count": 0,
      "outputs": []
    },
    {
      "cell_type": "markdown",
      "metadata": {
        "id": "u7gX4SgVaC0-",
        "colab_type": "text"
      },
      "source": [
        "## Prove to yourself again that the vectors in 1.9 are orthogonal by graphing them."
      ]
    },
    {
      "cell_type": "code",
      "metadata": {
        "id": "yiNy1nhtaB_W",
        "colab_type": "code",
        "colab": {}
      },
      "source": [
        ""
      ],
      "execution_count": 0,
      "outputs": []
    },
    {
      "cell_type": "markdown",
      "metadata": {
        "id": "nXrMXV_baHx7",
        "colab_type": "text"
      },
      "source": [
        "## Research how to plot a 3d graph with animations so that you can make the graph rotate (this will be easier in a local notebook than in google colab)"
      ]
    },
    {
      "cell_type": "code",
      "metadata": {
        "id": "I3NDdsM9aMj8",
        "colab_type": "code",
        "colab": {}
      },
      "source": [
        ""
      ],
      "execution_count": 0,
      "outputs": []
    },
    {
      "cell_type": "markdown",
      "metadata": {
        "id": "CMMIZSZeaPzu",
        "colab_type": "text"
      },
      "source": [
        "## Create and plot a matrix on a 2d graph."
      ]
    },
    {
      "cell_type": "code",
      "metadata": {
        "id": "tw1r2PeuaReZ",
        "colab_type": "code",
        "colab": {}
      },
      "source": [
        ""
      ],
      "execution_count": 0,
      "outputs": []
    },
    {
      "cell_type": "markdown",
      "metadata": {
        "id": "ZQ1AuWFTaVbp",
        "colab_type": "text"
      },
      "source": [
        "## Create and plot a matrix on a 3d graph."
      ]
    },
    {
      "cell_type": "code",
      "metadata": {
        "id": "1NYkrN-uaXkY",
        "colab_type": "code",
        "colab": {}
      },
      "source": [
        ""
      ],
      "execution_count": 0,
      "outputs": []
    },
    {
      "cell_type": "markdown",
      "metadata": {
        "id": "wNzxIOpmacCm",
        "colab_type": "text"
      },
      "source": [
        "## Plot two vectors that are not collinear on a 2d graph. Calculate the determinant of the 2x2 matrix that these vectors form. How does this determinant relate to the graphical interpretation of the vectors?"
      ]
    },
    {
      "cell_type": "code",
      "metadata": {
        "id": "DBQpmkSHae7F",
        "colab_type": "code",
        "colab": {}
      },
      "source": [
        ""
      ],
      "execution_count": 0,
      "outputs": []
    }
  ]
}