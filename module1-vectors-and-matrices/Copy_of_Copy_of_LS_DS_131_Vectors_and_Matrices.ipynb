{
  "nbformat": 4,
  "nbformat_minor": 0,
  "metadata": {
    "colab": {
      "name": "Copy of Copy of LS_DS_131_Vectors_and_Matrices.ipynb",
      "provenance": [],
      "collapsed_sections": [],
      "include_colab_link": true
    },
    "kernelspec": {
      "display_name": "Python 3",
      "language": "python",
      "name": "python3"
    },
    "language_info": {
      "codemirror_mode": {
        "name": "ipython",
        "version": 3
      },
      "file_extension": ".py",
      "mimetype": "text/x-python",
      "name": "python",
      "nbconvert_exporter": "python",
      "pygments_lexer": "ipython3",
      "version": "3.7.3"
    }
  },
  "cells": [
    {
      "cell_type": "markdown",
      "metadata": {
        "id": "view-in-github",
        "colab_type": "text"
      },
      "source": [
        "<a href=\"https://colab.research.google.com/github/Darraysen/DS-Unit-1-Sprint-1-Data-Wrangling-and-Storytelling/blob/master/Copy_of_Copy_of_LS_DS_131_Vectors_and_Matrices.ipynb\" target=\"_parent\"><img src=\"https://colab.research.google.com/assets/colab-badge.svg\" alt=\"Open In Colab\"/></a>"
      ]
    },
    {
      "cell_type": "markdown",
      "metadata": {
        "colab_type": "text",
        "id": "iovQcSbqJl0_"
      },
      "source": [
        "**Objectives**\n",
        "- Student should be able to Explain why we care about linear algebra in the scope of data science\n",
        "- Student should be able to Conceptualize and utilize vectors and matrices through matrix operations and properties such as: square matrix, identity matrix, transpose and inverse"
      ]
    },
    {
      "cell_type": "markdown",
      "metadata": {
        "colab_type": "text",
        "id": "M8hglzzK9A-4"
      },
      "source": [
        "**Linear Algebra - organize and execute big calculations/operations really fast**\n",
        "\n",
        "So why linear algebra? Because the mathematical principles behinds **vectors** and **matrices** (lists and 2D lists) will help us lay the foundation for most algorithms used in machine learning.\n",
        "\n",
        "**Matrix Multiplication:**\n",
        "\n",
        "<img src=\"https://2000thingswpf.files.wordpress.com/2013/04/794-002.png?w=630\" width=\"400\">"
      ]
    },
    {
      "cell_type": "markdown",
      "metadata": {
        "colab_type": "text",
        "id": "Egs4F1Wgcb3J"
      },
      "source": [
        "- Deep Learning: Convolutional Neural Networks, (Image Recognition)\n",
        "\n",
        "\n",
        "\n",
        "\"Convolving\" is the process of passing a filter/kernel (small matrix) over the pixels of an image, multiplying them together, and using the result to create a new matrix. The resulting matrix will be a new image that has been modified by the filter to emphasize certain qualities of an image. This is entirely a linear algebra-based process. A convolutional neural network learns the filters that help it best identify certain aspects of images and thereby classify immages more accurately. \n",
        "\n",
        "<img src=\"https://icecreamlabs.com/wp-content/uploads/2018/08/33-con.gif\">"
      ]
    },
    {
      "cell_type": "markdown",
      "metadata": {
        "colab_type": "text",
        "id": "YceHUblDSHOF"
      },
      "source": [
        "# Linear Algebra Overview"
      ]
    },
    {
      "cell_type": "markdown",
      "metadata": {
        "id": "FHZLk85LN1g9",
        "colab_type": "text"
      },
      "source": [
        "## Part 0: Linear Algebra with Numpy\n",
        "\n",
        "[Helpful NumPy Linear Algebra Functions](https://docs.scipy.org/doc/numpy-1.15.1/reference/routines.linalg.html)"
      ]
    },
    {
      "cell_type": "code",
      "metadata": {
        "id": "bwDqOXXlN1g-",
        "colab_type": "code",
        "colab": {}
      },
      "source": [
        "# Imports\n",
        "import math\n",
        "import numpy as np\n",
        "import pandas as pd\n",
        "import matplotlib.pyplot as plt"
      ],
      "execution_count": 0,
      "outputs": []
    },
    {
      "cell_type": "code",
      "metadata": {
        "id": "_RKDXyR7N1hE",
        "colab_type": "code",
        "colab": {}
      },
      "source": [
        "# python lists\n",
        "a = [1, 2, 3]\n",
        "b = [3, 4, 5]"
      ],
      "execution_count": 0,
      "outputs": []
    },
    {
      "cell_type": "code",
      "metadata": {
        "id": "5IxIUbu-N1hH",
        "colab_type": "code",
        "outputId": "e6b66961-71ab-449b-dd90-a1a6771b7467",
        "colab": {
          "base_uri": "https://localhost:8080/",
          "height": 34
        }
      },
      "source": [
        "# list concatenation (appending one to the end of the other)\n",
        "a+b"
      ],
      "execution_count": 0,
      "outputs": [
        {
          "output_type": "execute_result",
          "data": {
            "text/plain": [
              "[1, 2, 3, 3, 4, 5]"
            ]
          },
          "metadata": {
            "tags": []
          },
          "execution_count": 3
        }
      ]
    },
    {
      "cell_type": "code",
      "metadata": {
        "id": "MMXb9d_GN1hK",
        "colab_type": "code",
        "colab": {}
      },
      "source": [
        "# turn these lists into numpy arrays\n",
        "np_a = np.array(a)\n",
        "np_b = np.array(b)"
      ],
      "execution_count": 0,
      "outputs": []
    },
    {
      "cell_type": "code",
      "metadata": {
        "id": "9Mjj_fgtT06h",
        "colab_type": "code",
        "outputId": "fd25fecf-b639-4ca0-fcdd-9b1e3dfda9df",
        "colab": {
          "base_uri": "https://localhost:8080/",
          "height": 34
        }
      },
      "source": [
        "np_a"
      ],
      "execution_count": 0,
      "outputs": [
        {
          "output_type": "execute_result",
          "data": {
            "text/plain": [
              "array([1, 2, 3])"
            ]
          },
          "metadata": {
            "tags": []
          },
          "execution_count": 5
        }
      ]
    },
    {
      "cell_type": "code",
      "metadata": {
        "id": "5GRS2VDyT4dF",
        "colab_type": "code",
        "outputId": "cf8768a4-f0ae-4334-c84f-cc249687a854",
        "colab": {
          "base_uri": "https://localhost:8080/",
          "height": 34
        }
      },
      "source": [
        "np_b"
      ],
      "execution_count": 0,
      "outputs": [
        {
          "output_type": "execute_result",
          "data": {
            "text/plain": [
              "array([3, 4, 5])"
            ]
          },
          "metadata": {
            "tags": []
          },
          "execution_count": 6
        }
      ]
    },
    {
      "cell_type": "code",
      "metadata": {
        "id": "JGXjpbm4N1hN",
        "colab_type": "code",
        "outputId": "7270b506-7b04-4161-8dea-a68385437815",
        "colab": {
          "base_uri": "https://localhost:8080/",
          "height": 34
        }
      },
      "source": [
        "# linear algebra is built on arrays.\n",
        "np_a + np_b"
      ],
      "execution_count": 0,
      "outputs": [
        {
          "output_type": "execute_result",
          "data": {
            "text/plain": [
              "array([4, 6, 8])"
            ]
          },
          "metadata": {
            "tags": []
          },
          "execution_count": 7
        }
      ]
    },
    {
      "cell_type": "markdown",
      "metadata": {
        "colab_type": "text",
        "id": "ke1ffJRNMOnv"
      },
      "source": [
        "## Part 1. Scalars"
      ]
    },
    {
      "cell_type": "markdown",
      "metadata": {
        "colab_type": "text",
        "id": "ODzKTJLGTnBz"
      },
      "source": [
        "A single number. Variables representing scalars are typically written in lower case.\n",
        "\n",
        "Scalars can be whole numbers or decimals.\n",
        "\n",
        "\\begin{align}\n",
        "a = 2\n",
        "\\qquad\n",
        "b = 4.815162342\n",
        "\\end{align}\n",
        "\n",
        "They can be positive, negative, 0 or any other real number.\n",
        "\n",
        "\\begin{align}\n",
        "c = -6.022\\mathrm{e}{+23}\n",
        "\\qquad\n",
        "d = \\pi\n",
        "\\end{align}"
      ]
    },
    {
      "cell_type": "code",
      "metadata": {
        "colab_type": "code",
        "id": "SIyzbJFxamu1",
        "outputId": "16ab8e3b-c853-435e-8ba2-45e5972f67ac",
        "colab": {
          "base_uri": "https://localhost:8080/",
          "height": 34
        }
      },
      "source": [
        "# scalars are just numbers.\n",
        "2\n",
        "4**3\n",
        "math.pi\n",
        "np.sqrt(9)\n",
        "math.e\n",
        "np.exp(3)"
      ],
      "execution_count": 0,
      "outputs": [
        {
          "output_type": "execute_result",
          "data": {
            "text/plain": [
              "20.085536923187668"
            ]
          },
          "metadata": {
            "tags": []
          },
          "execution_count": 8
        }
      ]
    },
    {
      "cell_type": "code",
      "metadata": {
        "id": "t_-tRKkQN1hY",
        "colab_type": "code",
        "colab": {}
      },
      "source": [
        "# Why is it called a 'scalar'?\n",
        "# It's called a scalar because we can \"scale\" a vector or a matrix by this number. More on that later."
      ],
      "execution_count": 0,
      "outputs": []
    },
    {
      "cell_type": "markdown",
      "metadata": {
        "colab_type": "text",
        "id": "d3tU-l96SNa3"
      },
      "source": [
        "## Part 2. Vectors"
      ]
    },
    {
      "cell_type": "markdown",
      "metadata": {
        "colab_type": "text",
        "id": "TRhtzFMwTz0Z"
      },
      "source": [
        "**Definition**  \n",
        "A vector of dimension *n* is an **ordered** collection of *n* elements, which are called **components** (Note, the components of a vector are **not** referred to as \"scalars\"). Vector notation variables are commonly written as a bold-faced lowercase letters or italicized non-bold-faced lowercase characters with an arrow (→) above the letters:\n",
        "\n",
        "Written: $\\vec{v}$ \n",
        "\n",
        "Examples:\n",
        "\n",
        "\\begin{align}\n",
        "   \\vec{a} = \n",
        "   \\begin{bmatrix}\n",
        "           1\\\\\n",
        "           2\n",
        "    \\end{bmatrix}\n",
        "    \\qquad\n",
        "    \\vec{b} =\n",
        "    \\begin{bmatrix}\n",
        "          -1\\\\\n",
        "           0\\\\\n",
        "           2\n",
        "    \\end{bmatrix}\n",
        "    \\qquad\n",
        "    \\vec{c} =\n",
        "    \\begin{bmatrix}\n",
        "           4.5\n",
        "    \\end{bmatrix}\n",
        "    \\qquad\n",
        "    \\vec{d} =\n",
        "    \\begin{bmatrix}\n",
        "           Pl\\\\\n",
        "           a\\\\\n",
        "           b\\\\\n",
        "           \\frac{2}{3}\n",
        "    \\end{bmatrix}\n",
        "\\end{align}\n",
        "\n",
        "The above vectors have dimensions 2, 3, 1, and 4 respectively."
      ]
    },
    {
      "cell_type": "markdown",
      "metadata": {
        "id": "uYNf8HL3N1hc",
        "colab_type": "text"
      },
      "source": [
        "### 2.1 Vector arithmetic"
      ]
    },
    {
      "cell_type": "code",
      "metadata": {
        "id": "K-g7F_LVN1hd",
        "colab_type": "code",
        "outputId": "8059b6f4-554a-41fc-fb64-1aa4213a707a",
        "colab": {
          "base_uri": "https://localhost:8080/",
          "height": 34
        }
      },
      "source": [
        "# you can add python lists(concatenation) but this is not arithmetic.\n",
        "# No arithmetic operations are supported by lists.\n",
        "a + b"
      ],
      "execution_count": 0,
      "outputs": [
        {
          "output_type": "execute_result",
          "data": {
            "text/plain": [
              "[1, 2, 3, 3, 4, 5]"
            ]
          },
          "metadata": {
            "tags": []
          },
          "execution_count": 10
        }
      ]
    },
    {
      "cell_type": "code",
      "metadata": {
        "id": "o2Eg24C3N1hg",
        "colab_type": "code",
        "colab": {}
      },
      "source": [
        "# Doing arithmetic operations element-wise is supported by NumPy. \n",
        "# This is called \"array broadcasting\""
      ],
      "execution_count": 0,
      "outputs": []
    },
    {
      "cell_type": "code",
      "metadata": {
        "id": "l9k4Vu7eN1hi",
        "colab_type": "code",
        "outputId": "2dc80b01-862f-420b-8cb1-37379fa97761",
        "colab": {
          "base_uri": "https://localhost:8080/",
          "height": 34
        }
      },
      "source": [
        "# addition\n",
        "a = np.array([1, 2, 3])\n",
        "b = np.array([4, 5, 6])\n",
        "a + b"
      ],
      "execution_count": 0,
      "outputs": [
        {
          "output_type": "execute_result",
          "data": {
            "text/plain": [
              "array([5, 7, 9])"
            ]
          },
          "metadata": {
            "tags": []
          },
          "execution_count": 12
        }
      ]
    },
    {
      "cell_type": "code",
      "metadata": {
        "id": "Lz_Lx_V9N1hl",
        "colab_type": "code",
        "outputId": "dcdf13cb-3a05-4b6f-a330-01b1260c767b",
        "colab": {
          "base_uri": "https://localhost:8080/",
          "height": 34
        }
      },
      "source": [
        "# subtraction\n",
        "b - a"
      ],
      "execution_count": 0,
      "outputs": [
        {
          "output_type": "execute_result",
          "data": {
            "text/plain": [
              "array([3, 3, 3])"
            ]
          },
          "metadata": {
            "tags": []
          },
          "execution_count": 34
        }
      ]
    },
    {
      "cell_type": "code",
      "metadata": {
        "id": "cgppF96mN1hn",
        "colab_type": "code",
        "outputId": "273d449a-d360-4ec5-ee44-ecea5ec75633",
        "colab": {
          "base_uri": "https://localhost:8080/",
          "height": 34
        }
      },
      "source": [
        "# multiplication\n",
        "b * a"
      ],
      "execution_count": 0,
      "outputs": [
        {
          "output_type": "execute_result",
          "data": {
            "text/plain": [
              "array([ 4, 10, 18])"
            ]
          },
          "metadata": {
            "tags": []
          },
          "execution_count": 35
        }
      ]
    },
    {
      "cell_type": "code",
      "metadata": {
        "id": "bEBnCSdhN1hq",
        "colab_type": "code",
        "outputId": "fe39de2d-6ad5-493b-b500-1151acfb2da4",
        "colab": {
          "base_uri": "https://localhost:8080/",
          "height": 34
        }
      },
      "source": [
        "# division\n",
        "b / a"
      ],
      "execution_count": 0,
      "outputs": [
        {
          "output_type": "execute_result",
          "data": {
            "text/plain": [
              "array([4. , 2.5, 2. ])"
            ]
          },
          "metadata": {
            "tags": []
          },
          "execution_count": 38
        }
      ]
    },
    {
      "cell_type": "code",
      "metadata": {
        "id": "W8QQJHkTN1ht",
        "colab_type": "code",
        "outputId": "8e9623a6-4c2a-4df4-aae5-a3995165f15b",
        "colab": {
          "base_uri": "https://localhost:8080/",
          "height": 34
        }
      },
      "source": [
        "# scale a vector by a factor of 4.\n",
        "a * 4"
      ],
      "execution_count": 0,
      "outputs": [
        {
          "output_type": "execute_result",
          "data": {
            "text/plain": [
              "array([ 4,  8, 12])"
            ]
          },
          "metadata": {
            "tags": []
          },
          "execution_count": 37
        }
      ]
    },
    {
      "cell_type": "code",
      "metadata": {
        "id": "jcKCByvkVyLr",
        "colab_type": "code",
        "outputId": "aa9d7985-cb74-40a2-c4a8-c6189dc00c2e",
        "colab": {
          "base_uri": "https://localhost:8080/",
          "height": 34
        }
      },
      "source": [
        "# practice\n",
        "c = np.array([1, 3, 5, 8])\n",
        "d = np.array([3.14, 15, 25, 69])\n",
        "\n",
        "c + d"
      ],
      "execution_count": 0,
      "outputs": [
        {
          "output_type": "execute_result",
          "data": {
            "text/plain": [
              "array([ 4.14, 18.  , 30.  , 77.  ])"
            ]
          },
          "metadata": {
            "tags": []
          },
          "execution_count": 39
        }
      ]
    },
    {
      "cell_type": "code",
      "metadata": {
        "id": "NJGCk4TMV_Ju",
        "colab_type": "code",
        "outputId": "45aeb82e-4a82-481c-a427-7b5977e0559d",
        "colab": {
          "base_uri": "https://localhost:8080/",
          "height": 34
        }
      },
      "source": [
        "d - c"
      ],
      "execution_count": 0,
      "outputs": [
        {
          "output_type": "execute_result",
          "data": {
            "text/plain": [
              "array([ 2.14, 12.  , 20.  , 61.  ])"
            ]
          },
          "metadata": {
            "tags": []
          },
          "execution_count": 40
        }
      ]
    },
    {
      "cell_type": "markdown",
      "metadata": {
        "id": "yibPtwEVN1hv",
        "colab_type": "text"
      },
      "source": [
        "### 2.2 Vector examples"
      ]
    },
    {
      "cell_type": "code",
      "metadata": {
        "colab_type": "code",
        "id": "GzxZcC8fdf5s",
        "colab": {}
      },
      "source": [
        "# Vector Examples \n",
        "yellow = np.array([.5, .5])\n",
        "red = np.array([.2, .1])\n",
        "blue = np.array([.1, .3])"
      ],
      "execution_count": 0,
      "outputs": []
    },
    {
      "cell_type": "code",
      "metadata": {
        "id": "bhpgg70IN1hy",
        "colab_type": "code",
        "outputId": "a5f648d0-3b07-4bfa-c99b-a95c9b8425fe",
        "colab": {
          "base_uri": "https://localhost:8080/",
          "height": 34
        }
      },
      "source": [
        "# Examine their \"components\". These are not scalars.\n",
        "print(yellow[0])"
      ],
      "execution_count": 0,
      "outputs": [
        {
          "output_type": "stream",
          "text": [
            "0.5\n"
          ],
          "name": "stdout"
        }
      ]
    },
    {
      "cell_type": "code",
      "metadata": {
        "id": "iy_7usJxN1h2",
        "colab_type": "code",
        "outputId": "1e1bee56-2af2-40a8-f45f-05e44ffbec70",
        "colab": {
          "base_uri": "https://localhost:8080/",
          "height": 269
        }
      },
      "source": [
        "# plot a vector using matplotlib\n",
        "import matplotlib.pyplot as plt\n",
        "fig, ax = plt.subplots()\n",
        "ax.grid()\n",
        "plt.xlim(-.2,.8)\n",
        "plt.ylim(-.1,.6)\n",
        "\n",
        "plt.arrow(0,0,\n",
        "          yellow[0],\n",
        "          yellow[1],\n",
        "          head_width = .02,\n",
        "          head_length = .02,\n",
        "          linewidth=3,\n",
        "          color='gold')\n",
        "\n",
        "plt.show()"
      ],
      "execution_count": 0,
      "outputs": [
        {
          "output_type": "display_data",
          "data": {
            "image/png": "[encoded data removed]",
            "text/plain": [
              "<Figure size 432x288 with 1 Axes>"
            ]
          },
          "metadata": {
            "tags": []
          }
        }
      ]
    },
    {
      "cell_type": "code",
      "metadata": {
        "id": "6L2FTsrRN1h4",
        "colab_type": "code",
        "outputId": "00b58808-1f06-4502-8175-fae8a7278acd",
        "colab": {
          "base_uri": "https://localhost:8080/",
          "height": 269
        }
      },
      "source": [
        "# plot all three vectors\n",
        "fig, ax = plt.subplots()\n",
        "ax.grid()\n",
        "plt.xlim(-.2,.8)\n",
        "plt.ylim(-.1,.6)\n",
        "plt.arrow(0,0,\n",
        "          yellow[0],\n",
        "          yellow[1],\n",
        "          head_width = .01,\n",
        "          head_length = .02,\n",
        "          color='gold')\n",
        "\n",
        "plt.arrow(0,0,\n",
        "          red[0],\n",
        "          red[1],\n",
        "          head_width = .01,\n",
        "          head_length = .02,\n",
        "          color='red')\n",
        "\n",
        "plt.arrow(0,0,\n",
        "          blue[0],\n",
        "          blue[1],\n",
        "          head_width = .01,\n",
        "          head_length = .02,\n",
        "          color='blue')\n",
        "\n",
        "plt.show()"
      ],
      "execution_count": 0,
      "outputs": [
        {
          "output_type": "display_data",
          "data": {
            "image/png": "[encoded data removed]",
            "text/plain": [
              "<Figure size 432x288 with 1 Axes>"
            ]
          },
          "metadata": {
            "tags": []
          }
        }
      ]
    },
    {
      "cell_type": "code",
      "metadata": {
        "id": "FDwKDTrmN1h7",
        "colab_type": "code",
        "outputId": "43bffc82-ec7f-43e8-88ad-febdc2ed860e",
        "colab": {
          "base_uri": "https://localhost:8080/",
          "height": 269
        }
      },
      "source": [
        "# using more efficient code.\n",
        "fig, ax = plt.subplots()\n",
        "ax.grid()\n",
        "plt.xlim(-.2,.8)\n",
        "plt.ylim(-.1,.6)\n",
        "for mycolor, vector in [('gold', yellow), ('crimson', red), ('darkcyan', blue)]:\n",
        "    plt.arrow(0,0,\n",
        "            *vector,\n",
        "            head_width=.02,\n",
        "            head_length=.01,\n",
        "            linewidth=2,\n",
        "            color = mycolor)\n",
        "plt.show()"
      ],
      "execution_count": 0,
      "outputs": [
        {
          "output_type": "display_data",
          "data": {
            "image/png": "[encoded data removed]",
            "text/plain": [
              "<Figure size 432x288 with 1 Axes>"
            ]
          },
          "metadata": {
            "tags": []
          }
        }
      ]
    },
    {
      "cell_type": "code",
      "metadata": {
        "id": "0buo1OalY2tD",
        "colab_type": "code",
        "outputId": "cb786ae9-8b71-4156-9920-1809272ffff0",
        "colab": {
          "base_uri": "https://localhost:8080/",
          "height": 320
        }
      },
      "source": [
        "tuplelist = [('gold', yellow), ('crimson', red), ('darkcyan', blue)]\n",
        "[plt.arrow(0,0,\n",
        "            *vector,\n",
        "            head_width=.02,\n",
        "            head_length=.01,\n",
        "            linewidth=2,\n",
        "            color = mycolor) for mycolor, vector in tuplelist]"
      ],
      "execution_count": 0,
      "outputs": [
        {
          "output_type": "execute_result",
          "data": {
            "text/plain": [
              "[<matplotlib.patches.FancyArrow at 0x7f27abfead30>,\n",
              " <matplotlib.patches.FancyArrow at 0x7f27abfeaf98>,\n",
              " <matplotlib.patches.FancyArrow at 0x7f27abff8240>]"
            ]
          },
          "metadata": {
            "tags": []
          },
          "execution_count": 56
        },
        {
          "output_type": "display_data",
          "data": {
            "image/png": "[encoded data removed]",
            "text/plain": [
              "<Figure size 432x288 with 1 Axes>"
            ]
          },
          "metadata": {
            "tags": []
          }
        }
      ]
    },
    {
      "cell_type": "markdown",
      "metadata": {
        "colab_type": "text",
        "id": "Q2pNvak3gDGY"
      },
      "source": [
        "In domains such as physics it is emphasized that vectors have two properties: direction and magnitude. It's rare that we talk about them in that sense in Data Science unless we're specifically in a physics context. We just note that the length of the vector is equal to the number of dimensions of the vector. \n",
        "\n",
        "What happens if we add a third component to each of our vectors?"
      ]
    },
    {
      "cell_type": "code",
      "metadata": {
        "id": "5tqiFbFKN1h_",
        "colab_type": "code",
        "outputId": "47de58cc-0ba6-40bf-8c62-d265321152c0",
        "colab": {
          "base_uri": "https://localhost:8080/",
          "height": 68
        }
      },
      "source": [
        "# print the vectors\n",
        "print(yellow)\n",
        "print(red)\n",
        "print(blue)"
      ],
      "execution_count": 0,
      "outputs": [
        {
          "output_type": "stream",
          "text": [
            "[0.5 0.5]\n",
            "[0.2 0.1]\n",
            "[0.1 0.3]\n"
          ],
          "name": "stdout"
        }
      ]
    },
    {
      "cell_type": "code",
      "metadata": {
        "id": "WmhTgldSN1iB",
        "colab_type": "code",
        "outputId": "e7d78a8b-75d8-43b7-bd53-aecb2b4f52aa",
        "colab": {
          "base_uri": "https://localhost:8080/",
          "height": 34
        }
      },
      "source": [
        "# add a third dimention to 'yellow'\n",
        "yellow = np.append(yellow, 0.5)\n",
        "yellow"
      ],
      "execution_count": 0,
      "outputs": [
        {
          "output_type": "execute_result",
          "data": {
            "text/plain": [
              "array([0.5, 0.5, 0.5])"
            ]
          },
          "metadata": {
            "tags": []
          },
          "execution_count": 62
        }
      ]
    },
    {
      "cell_type": "code",
      "metadata": {
        "id": "ZRTfBgweN1iD",
        "colab_type": "code",
        "outputId": "fa12045c-b6b2-47c8-da95-3c1f2f2ab209",
        "colab": {
          "base_uri": "https://localhost:8080/",
          "height": 129
        }
      },
      "source": [
        "# unzip that vector\n",
        "x, y, z = *yellow"
      ],
      "execution_count": 0,
      "outputs": [
        {
          "output_type": "error",
          "ename": "SyntaxError",
          "evalue": "ignored",
          "traceback": [
            "\u001b[0;36m  File \u001b[0;32m\"<ipython-input-65-ad1d4fb5788d>\"\u001b[0;36m, line \u001b[0;32m1\u001b[0m\n\u001b[0;31m    x, y, z = *yellow\u001b[0m\n\u001b[0m             ^\u001b[0m\n\u001b[0;31mSyntaxError\u001b[0m\u001b[0;31m:\u001b[0m can't use starred expression here\n"
          ]
        }
      ]
    },
    {
      "cell_type": "code",
      "metadata": {
        "id": "UpOWCm9RN1iG",
        "colab_type": "code",
        "outputId": "607cf71a-2399-4aec-815b-52607da2eccc",
        "colab": {
          "base_uri": "https://localhost:8080/",
          "height": 248
        }
      },
      "source": [
        "# display that in 3D\n",
        "from mpl_toolkits.mplot3d import Axes3D\n",
        "\n",
        "fig = plt.figure()\n",
        "ax = fig.add_subplot(111, projection='3d')\n",
        "ax.set_xlim([0, 1])\n",
        "ax.set_ylim([0, 1])\n",
        "ax.set_zlim([0, 1])\n",
        "ax.set_xlabel('X')\n",
        "ax.set_ylabel('Y')\n",
        "ax.set_zlabel('Z')\n",
        "plt.show()"
      ],
      "execution_count": 0,
      "outputs": [
        {
          "output_type": "display_data",
          "data": {
            "image/png": "[encoded data removed]",
            "text/plain": [
              "<Figure size 432x288 with 1 Axes>"
            ]
          },
          "metadata": {
            "tags": []
          }
        }
      ]
    },
    {
      "cell_type": "code",
      "metadata": {
        "colab_type": "code",
        "id": "BezrgDoH-Ky-",
        "colab": {}
      },
      "source": [
        "# What happens if we add a third dimension to EACH of the vectors?\n"
      ],
      "execution_count": 0,
      "outputs": []
    },
    {
      "cell_type": "code",
      "metadata": {
        "id": "j-mtS6gQN1iM",
        "colab_type": "code",
        "colab": {}
      },
      "source": [
        "# Add 3 zeroes to each vector, to indicate the starting corner."
      ],
      "execution_count": 0,
      "outputs": []
    },
    {
      "cell_type": "markdown",
      "metadata": {
        "id": "ECNEtfSQN1iO",
        "colab_type": "text"
      },
      "source": [
        "The asterisk in a zip() function converts the elements of the iterable into separate elements. For example: if a = [a1, a2, a3] then zip(*a) equals to (('a', 'a', 'a'), ('1', '2', '3')). In other words, we can say the asterisk in the zip function unzips the given iterable."
      ]
    },
    {
      "cell_type": "code",
      "metadata": {
        "id": "bTzQGt3aN1iP",
        "colab_type": "code",
        "colab": {}
      },
      "source": [
        "# zip"
      ],
      "execution_count": 0,
      "outputs": []
    },
    {
      "cell_type": "code",
      "metadata": {
        "id": "pYeEayfMN1iR",
        "colab_type": "code",
        "colab": {}
      },
      "source": [
        "# display the vector components"
      ],
      "execution_count": 0,
      "outputs": []
    },
    {
      "cell_type": "code",
      "metadata": {
        "id": "I8hWTRyuN1iT",
        "colab_type": "code",
        "colab": {}
      },
      "source": [
        "# plot that in 3-D\n"
      ],
      "execution_count": 0,
      "outputs": []
    },
    {
      "cell_type": "markdown",
      "metadata": {
        "id": "_5OA_eR5N1iV",
        "colab_type": "text"
      },
      "source": [
        "### 2.3 Scale a vector: multiply it by a 'scalar'"
      ]
    },
    {
      "cell_type": "code",
      "metadata": {
        "id": "hrTZxHtXN1iW",
        "colab_type": "code",
        "colab": {}
      },
      "source": [
        "# Start with a simple vector\n"
      ],
      "execution_count": 0,
      "outputs": []
    },
    {
      "cell_type": "code",
      "metadata": {
        "id": "q9sS_kE_N1iZ",
        "colab_type": "code",
        "outputId": "2c7a33c9-f507-4084-b5bc-8ba5ede6e91d",
        "colab": {
          "base_uri": "https://localhost:8080/",
          "height": 269
        }
      },
      "source": [
        "# Plot the vector\n",
        "fig, ax = plt.subplots()\n",
        "ax.grid()\n",
        "plt.xlim(-.2,.8)\n",
        "plt.ylim(-.1,.6)\n",
        "plt.show;"
      ],
      "execution_count": 0,
      "outputs": [
        {
          "output_type": "display_data",
          "data": {
            "image/png": "[encoded data removed]",
            "text/plain": [
              "<Figure size 432x288 with 1 Axes>"
            ]
          },
          "metadata": {
            "tags": []
          }
        }
      ]
    },
    {
      "cell_type": "code",
      "metadata": {
        "id": "qhPM55MsN1ib",
        "colab_type": "code",
        "colab": {}
      },
      "source": [
        "# Then multiply it by a scalar\n"
      ],
      "execution_count": 0,
      "outputs": []
    },
    {
      "cell_type": "code",
      "metadata": {
        "id": "rGjCIvF6N1ie",
        "colab_type": "code",
        "outputId": "1229299c-5691-4db2-e768-2c97408e6082",
        "colab": {
          "base_uri": "https://localhost:8080/",
          "height": 265
        }
      },
      "source": [
        "# Plot the scaled vector\n",
        "fig, ax = plt.subplots()\n",
        "ax.grid()\n",
        "plt.xlim(-.25,1.25)          \n",
        "plt.ylim(-.25,1.25)\n",
        "\n",
        "plt.show;"
      ],
      "execution_count": 0,
      "outputs": [
        {
          "output_type": "display_data",
          "data": {
            "image/png": "[encoded data removed]",
            "text/plain": [
              "<Figure size 432x288 with 1 Axes>"
            ]
          },
          "metadata": {
            "tags": []
          }
        }
      ]
    },
    {
      "cell_type": "code",
      "metadata": {
        "id": "zYzDqsQcN1ig",
        "colab_type": "code",
        "colab": {}
      },
      "source": [
        "# a few more.\n",
        "red = np.multiply(math.pi, blue)\n",
        "\n",
        "red = np.multiply(math.pi, blue)"
      ],
      "execution_count": 0,
      "outputs": []
    },
    {
      "cell_type": "code",
      "metadata": {
        "id": "6w54pdTtN1ij",
        "colab_type": "code",
        "outputId": "14186c10-a4d1-44f2-9f3e-9b3c00df4a1d",
        "colab": {
          "base_uri": "https://localhost:8080/",
          "height": 503
        }
      },
      "source": [
        "# Plot all the Scaled Vectors\n",
        "green = blue.copy\n",
        "fig, ax = plt.subplots()\n",
        "ax.grid()\n",
        "plt.xlim(-.5,2)          \n",
        "plt.ylim(-.5,2)\n",
        "plt.arrow(0,0, *blue, head_width=.05, color='dodgerblue')\n",
        "plt.arrow(0,0, *green, head_width=.05, linewidth=2, color='limegreen')\n",
        "\n",
        "plt.show()"
      ],
      "execution_count": 0,
      "outputs": [
        {
          "output_type": "error",
          "ename": "TypeError",
          "evalue": "ignored",
          "traceback": [
            "\u001b[0;31m---------------------------------------------------------------------------\u001b[0m",
            "\u001b[0;31mTypeError\u001b[0m                                 Traceback (most recent call last)",
            "\u001b[0;32m<ipython-input-68-4c8982818a37>\u001b[0m in \u001b[0;36m<module>\u001b[0;34m()\u001b[0m\n\u001b[1;32m      5\u001b[0m \u001b[0mplt\u001b[0m\u001b[0;34m.\u001b[0m\u001b[0mylim\u001b[0m\u001b[0;34m(\u001b[0m\u001b[0;34m-\u001b[0m\u001b[0;36m.5\u001b[0m\u001b[0;34m,\u001b[0m\u001b[0;36m2\u001b[0m\u001b[0;34m)\u001b[0m\u001b[0;34m\u001b[0m\u001b[0;34m\u001b[0m\u001b[0m\n\u001b[1;32m      6\u001b[0m \u001b[0mplt\u001b[0m\u001b[0;34m.\u001b[0m\u001b[0marrow\u001b[0m\u001b[0;34m(\u001b[0m\u001b[0;36m0\u001b[0m\u001b[0;34m,\u001b[0m\u001b[0;36m0\u001b[0m\u001b[0;34m,\u001b[0m \u001b[0;34m*\u001b[0m\u001b[0mblue\u001b[0m\u001b[0;34m,\u001b[0m \u001b[0mhead_width\u001b[0m\u001b[0;34m=\u001b[0m\u001b[0;36m.05\u001b[0m\u001b[0;34m,\u001b[0m \u001b[0mcolor\u001b[0m\u001b[0;34m=\u001b[0m\u001b[0;34m'dodgerblue'\u001b[0m\u001b[0;34m)\u001b[0m\u001b[0;34m\u001b[0m\u001b[0;34m\u001b[0m\u001b[0m\n\u001b[0;32m----> 7\u001b[0;31m \u001b[0mplt\u001b[0m\u001b[0;34m.\u001b[0m\u001b[0marrow\u001b[0m\u001b[0;34m(\u001b[0m\u001b[0;36m0\u001b[0m\u001b[0;34m,\u001b[0m\u001b[0;36m0\u001b[0m\u001b[0;34m,\u001b[0m \u001b[0;34m*\u001b[0m\u001b[0mgreen\u001b[0m\u001b[0;34m,\u001b[0m \u001b[0mhead_width\u001b[0m\u001b[0;34m=\u001b[0m\u001b[0;36m.05\u001b[0m\u001b[0;34m,\u001b[0m \u001b[0mlinewidth\u001b[0m\u001b[0;34m=\u001b[0m\u001b[0;36m2\u001b[0m\u001b[0;34m,\u001b[0m \u001b[0mcolor\u001b[0m\u001b[0;34m=\u001b[0m\u001b[0;34m'limegreen'\u001b[0m\u001b[0;34m)\u001b[0m\u001b[0;34m\u001b[0m\u001b[0;34m\u001b[0m\u001b[0m\n\u001b[0m\u001b[1;32m      8\u001b[0m \u001b[0;34m\u001b[0m\u001b[0m\n\u001b[1;32m      9\u001b[0m \u001b[0mplt\u001b[0m\u001b[0;34m.\u001b[0m\u001b[0mshow\u001b[0m\u001b[0;34m(\u001b[0m\u001b[0;34m)\u001b[0m\u001b[0;34m\u001b[0m\u001b[0;34m\u001b[0m\u001b[0m\n",
            "\u001b[0;31mTypeError\u001b[0m: arrow() argument after * must be an iterable, not builtin_function_or_method"
          ]
        },
        {
          "output_type": "display_data",
          "data": {
            "image/png": "[encoded data removed]",
            "text/plain": [
              "<Figure size 432x288 with 1 Axes>"
            ]
          },
          "metadata": {
            "tags": []
          }
        }
      ]
    },
    {
      "cell_type": "markdown",
      "metadata": {
        "colab_type": "text",
        "id": "Pzg99dFw-Oj8"
      },
      "source": [
        "### 2.4 Norm of a Vector \n",
        "\n",
        "The *Norm* or *Magnitude* of a vector is nothing more than the **length** of the vector. Since a vector is just a line (essentially) if you treat it as the hypotenuse of a triangle you could use the pythagorean theorem to find the equation for the norm of a vector. We're essentially just generalizing the equation for the hypotenuse of a triangle that results from the pythagorean theorem to n dimensional space.\n",
        "\n",
        "We denote the norm of a vector by wrapping it in double pipes (like double absolute value signs)\n",
        "\n",
        "\\begin{align}\n",
        "||v|| = \n",
        "\\sqrt{v_{1}^2 + v_{2}^2 + \\ldots + v_{n}^2}\n",
        "\\\\\n",
        "\\vec{a} = \n",
        "\\begin{bmatrix}\n",
        "3 & 7 & 2 & 4\n",
        "\\end{bmatrix}\n",
        "\\\\\n",
        "||a|| = \\sqrt{3^2 + 7^2 + 2^2 + 4^2} \\\\\n",
        "||a|| = \\sqrt{9 + 49 + 4 + 16} \\\\\n",
        "||a|| = \\sqrt{78}\n",
        "\\end{align}\n",
        "\n",
        "The Norm is the square root of the sum of the squared elements of a vector.\n",
        "\n",
        "Properties of the Norm:\n",
        "\n",
        "The norm is always positive or zero $||x|| \\geq 0$ \n",
        "\n",
        "The norm is only equal to zero if all of the elements of the vector are zero.\n",
        "\n",
        "The Triangle Inequality: $|| x + y ||\\leq ||x|| + ||y||$\n"
      ]
    },
    {
      "cell_type": "markdown",
      "metadata": {
        "id": "Ddt9QDHmN1il",
        "colab_type": "text"
      },
      "source": [
        "![right triangle](https://www.mathplanet.com/Oldsite/media/43183/triangle01.png\n",
        ")"
      ]
    },
    {
      "cell_type": "markdown",
      "metadata": {
        "id": "NX2-t848N1im",
        "colab_type": "text"
      },
      "source": [
        "**Pythagorean Theorem**\n",
        "\n",
        "Finding the length of the sides of a right triangle, if we knew the lengths of the other two sides.\n",
        "\n",
        "$a^2 + b^2 = c^2$\n",
        "\n",
        "**For Vector Applications:**\n",
        "\n",
        "Pretend that our vector is the hypotenuse (long diagonal side) of a right triangle.\n",
        "\n",
        "c is typically used to represent the hypotenuse.\n",
        "\n",
        "Lets solve for c.\n",
        "\n",
        "$c = \\sqrt{a^2 + b^2}$\n",
        "\n",
        "\n"
      ]
    },
    {
      "cell_type": "code",
      "metadata": {
        "id": "bn82-oyLN1in",
        "colab_type": "code",
        "colab": {}
      },
      "source": [
        "# Find ||𝑔|| (i.e., find the length of g)\n",
        "g = np.array([4, 3])"
      ],
      "execution_count": 0,
      "outputs": []
    },
    {
      "cell_type": "code",
      "metadata": {
        "id": "73Hf9IcReNaz",
        "colab_type": "code",
        "outputId": "ff1593c0-5e6b-4bb9-e19d-4b8d47bd5099",
        "colab": {
          "base_uri": "https://localhost:8080/",
          "height": 34
        }
      },
      "source": [
        "# its norm is its length (aka magnitude)\n",
        "norm_g = np.linalg.norm(g)\n",
        "norm_g"
      ],
      "execution_count": 0,
      "outputs": [
        {
          "output_type": "execute_result",
          "data": {
            "text/plain": [
              "5.0"
            ]
          },
          "metadata": {
            "tags": []
          },
          "execution_count": 71
        }
      ]
    },
    {
      "cell_type": "code",
      "metadata": {
        "id": "l3EGD9bneM2h",
        "colab_type": "code",
        "colab": {}
      },
      "source": [
        ""
      ],
      "execution_count": 0,
      "outputs": []
    },
    {
      "cell_type": "code",
      "metadata": {
        "id": "ecQe462WN1ip",
        "colab_type": "code",
        "outputId": "19fd5efe-e4d2-4d8e-cc2d-a202583d031b",
        "colab": {
          "base_uri": "https://localhost:8080/",
          "height": 269
        }
      },
      "source": [
        "# plot that vector.\n",
        "fig, ax = plt.subplots()\n",
        "ax.grid()\n",
        "plt.xlim(-1,5)          \n",
        "plt.ylim(-1,5)\n",
        "plt.arrow(0, 0, *g, color='deeppink')\n",
        "plt.show()"
      ],
      "execution_count": 0,
      "outputs": [
        {
          "output_type": "display_data",
          "data": {
            "image/png": "[encoded data removed]",
            "text/plain": [
              "<Figure size 432x288 with 1 Axes>"
            ]
          },
          "metadata": {
            "tags": []
          }
        }
      ]
    },
    {
      "cell_type": "code",
      "metadata": {
        "id": "XmFpBopfN1it",
        "colab_type": "code",
        "outputId": "54fce460-3231-41b8-f13c-0c4c75cc19a8",
        "colab": {
          "base_uri": "https://localhost:8080/",
          "height": 34
        }
      },
      "source": [
        "# Find ||𝑔|| and then find||ℎ||\n",
        "k = np.array([3, 4, 5, -7, 7])\n",
        "np.linalg.norm(k)"
      ],
      "execution_count": 0,
      "outputs": [
        {
          "output_type": "execute_result",
          "data": {
            "text/plain": [
              "12.165525060596439"
            ]
          },
          "metadata": {
            "tags": []
          },
          "execution_count": 73
        }
      ]
    },
    {
      "cell_type": "code",
      "metadata": {
        "id": "NPbTb0xKN1ix",
        "colab_type": "code",
        "colab": {}
      },
      "source": [
        "# which is longer?\n",
        "g = np.array([[2], [.5], [0], [.7]])\n",
        "h = np.array([4, 3, 1, 6])"
      ],
      "execution_count": 0,
      "outputs": []
    },
    {
      "cell_type": "code",
      "metadata": {
        "id": "XmW1LdE5fIP9",
        "colab_type": "code",
        "outputId": "da5e523b-e9b3-4cf9-be75-f145862e78b4",
        "colab": {
          "base_uri": "https://localhost:8080/",
          "height": 34
        }
      },
      "source": [
        "norm_g = np.linalg.norm(g)\n",
        "norm_h = np.linalg.norm(h)\n",
        "print(norm_g, norm_h)"
      ],
      "execution_count": 0,
      "outputs": [
        {
          "output_type": "stream",
          "text": [
            "7.297259759663212 7.874007874011811\n"
          ],
          "name": "stdout"
        }
      ]
    },
    {
      "cell_type": "markdown",
      "metadata": {
        "colab_type": "text",
        "id": "UOr0BCxn-Wlh"
      },
      "source": [
        "### 2.5 Dot Product of Vectors\n",
        "\n",
        "The dot product of two vectors $\\vec{a}$ and $\\vec{b}$ is a scalar quantity that is equal to the sum of pair-wise products of the components of vectors a and b. An example will make this make much more sense:\n",
        "\n",
        "\\begin{align} \\vec{a} \\cdot \\vec{b} = (a_{1} \\times b_{1}) + (a_{2} \\times b_{2}) + \\ldots + ( a_{n} \\times b_{n}) \\end{align}\n",
        "\n",
        "Example:\n",
        "\n",
        "\\begin{align}\n",
        "\\vec{a} = \n",
        "\\begin{bmatrix}\n",
        "3 & 7 & 2 & 4\n",
        "\\end{bmatrix}\n",
        "\\qquad\n",
        "\\vec{b} = \n",
        "\\begin{bmatrix}\n",
        "4 & 1 & 12 & 6\n",
        "\\end{bmatrix}\n",
        "\\end{align}\n",
        "\n",
        "The dot product of two vectors would be:\n",
        "\\begin{align}\n",
        "a \\cdot b = (3)(4) + (7)(1) + (2)(12) + (4)(6) \\\\ \n",
        "= 12 + 7 + 24 + 24  \\\\\n",
        "= 67\n",
        "\\end{align}\n",
        "\n",
        "The dot product is commutative: $ a \\cdot b = b \\cdot a$\n",
        "\n",
        "The dot product is distributive: $a \\cdot (b + c) = a \\cdot b + a \\cdot c$\n",
        "\n",
        "Two vectors must have the same number of components in order for the dot product to exist. If they lengths differ the dot product is undefined."
      ]
    },
    {
      "cell_type": "code",
      "metadata": {
        "id": "UnTKbw8iN1iz",
        "colab_type": "code",
        "colab": {}
      },
      "source": [
        "# find c * d\n"
      ],
      "execution_count": 0,
      "outputs": []
    },
    {
      "cell_type": "code",
      "metadata": {
        "id": "FBcqAokBN1i2",
        "colab_type": "code",
        "colab": {}
      },
      "source": [
        "# multiply these elements manually\n"
      ],
      "execution_count": 0,
      "outputs": []
    },
    {
      "cell_type": "code",
      "metadata": {
        "id": "vQ_4crW3N1i7",
        "colab_type": "code",
        "colab": {}
      },
      "source": [
        "# using index notation\n"
      ],
      "execution_count": 0,
      "outputs": []
    },
    {
      "cell_type": "code",
      "metadata": {
        "id": "dD_lHfEiN1i8",
        "colab_type": "code",
        "colab": {}
      },
      "source": [
        "# Using Dot-Product Method\n"
      ],
      "execution_count": 0,
      "outputs": []
    },
    {
      "cell_type": "code",
      "metadata": {
        "id": "VL9dFVsDN1jB",
        "colab_type": "code",
        "colab": {}
      },
      "source": [
        "# Multiply element-wise and sum. Any difference? Nope.\n"
      ],
      "execution_count": 0,
      "outputs": []
    },
    {
      "cell_type": "markdown",
      "metadata": {
        "id": "aerVIQv0N1jD",
        "colab_type": "text"
      },
      "source": [
        "Orthogonal vectors are perpendicular to one another. \n",
        "The dot product of these vectors cancels out (zero)."
      ]
    },
    {
      "cell_type": "code",
      "metadata": {
        "id": "BWpt6V5XN1jE",
        "colab_type": "code",
        "colab": {}
      },
      "source": [
        "# Show that the following vectors are orthogonal\n",
        "l = [1,0] \n",
        "m = [0,1]"
      ],
      "execution_count": 0,
      "outputs": []
    },
    {
      "cell_type": "code",
      "metadata": {
        "id": "ti-VxzApN1jF",
        "colab_type": "code",
        "outputId": "0249d702-15a2-4992-face-f45ccaad23ac",
        "colab": {
          "base_uri": "https://localhost:8080/",
          "height": 265
        }
      },
      "source": [
        "# using a plot\n",
        "fig, ax = plt.subplots()\n",
        "ax.grid()\n",
        "plt.xlim(-.25,1.25)          \n",
        "plt.ylim(-.25,1.25)  \n",
        "plt.arrow(0,0, *m,\n",
        "          head_with=.05,\n",
        "          head_length=.05,\n",
        "          ) \n",
        "\n",
        "plt.show;"
      ],
      "execution_count": 0,
      "outputs": [
        {
          "output_type": "display_data",
          "data": {
            "image/png": "[encoded data removed]",
            "text/plain": [
              "<Figure size 432x288 with 1 Axes>"
            ]
          },
          "metadata": {
            "tags": []
          }
        }
      ]
    },
    {
      "cell_type": "code",
      "metadata": {
        "id": "NyEpBABVN1jI",
        "colab_type": "code",
        "outputId": "e55157dd-2696-4371-b9b4-46ec9c51e5ad",
        "colab": {
          "base_uri": "https://localhost:8080/",
          "height": 34
        }
      },
      "source": [
        "# the dot product of orthogonal vectors cancels out\n",
        "np.dot(l,m)"
      ],
      "execution_count": 0,
      "outputs": [
        {
          "output_type": "execute_result",
          "data": {
            "text/plain": [
              "0"
            ]
          },
          "metadata": {
            "tags": []
          },
          "execution_count": 76
        }
      ]
    },
    {
      "cell_type": "code",
      "metadata": {
        "id": "UlAOT7hDN1jL",
        "colab_type": "code",
        "outputId": "e62630a2-8f46-4a6e-9439-7af1cc9c6751",
        "colab": {
          "base_uri": "https://localhost:8080/",
          "height": 34
        }
      },
      "source": [
        "# this is also true in multiple dimensions (though harder to plot)\n",
        "V = np.array([1, 1, 14])\n",
        "U = np.array([10, 4, -1])\n",
        "np.dot(V, U)"
      ],
      "execution_count": 0,
      "outputs": [
        {
          "output_type": "execute_result",
          "data": {
            "text/plain": [
              "0"
            ]
          },
          "metadata": {
            "tags": []
          },
          "execution_count": 77
        }
      ]
    },
    {
      "cell_type": "markdown",
      "metadata": {
        "colab_type": "text",
        "id": "IUeBZtVr-nro"
      },
      "source": [
        "### 2.6 Cross Product of Vectors\n",
        "\n",
        "The Cross Product is the vector equivalent of multiplication. The result is a third vector that is perpendicular to the first two vectors.\n",
        "\n",
        "It is written with a regular looking multiplication sign like $a \\times b$ but it is read as \"a cross b\"\n",
        "\n",
        "The cross product equation is a little complicated, and gaining an intuition for it is going to take a little bit more time than we have here. I think it's the least useful of the vector operations, but I'll give you a short example anyway.\n",
        "\n",
        "\n",
        "Assume that we have vectors $x$ and $y$.\n",
        "\n",
        "\\begin{align}\n",
        "x = \\begin{bmatrix} x_1 & x_2 & x_3 \\end{bmatrix}\n",
        "\\qquad\n",
        "y = \\begin{bmatrix} y_1 & y_2 & y_3 \\end{bmatrix}\n",
        "\\end{align}\n",
        "\n",
        "The cross product can be found by taking these two vectors and adding a third unit vector to create a 3x3 matrix and then finding the determinant of the 3x3 matrix like follows:\n",
        "\n",
        "\\begin{align}\n",
        "x = \\begin{vmatrix} \n",
        "  i & j & k \\\\\n",
        "  x_1 & x_2 & x_3 \\\\\n",
        "  y_1 & y_2 & y_3 \n",
        "  \\end{vmatrix}\n",
        "\\end{align}\n",
        "\\begin{align} =\n",
        "i\\begin{vmatrix}\n",
        "x_2 & x_3 \\\\\n",
        "y_2 & y_3 \n",
        "\\end{vmatrix} \n",
        "- j\\begin{vmatrix}\n",
        "x_1 & x_3 \\\\\n",
        "y_1 & y_3\n",
        "\\end{vmatrix} \n",
        "+ k\\begin{vmatrix}\n",
        "x_1 & x_2 \\\\\n",
        "y_1 & y_2\n",
        "\\end{vmatrix}\n",
        "\\end{align}\n",
        "\n"
      ]
    },
    {
      "cell_type": "code",
      "metadata": {
        "id": "sfYS5i4GN1jO",
        "colab_type": "code",
        "outputId": "3496f302-38c3-4a83-c00c-1548ddcf1777",
        "colab": {
          "base_uri": "https://localhost:8080/",
          "height": 119
        }
      },
      "source": [
        "# Column Vectors\n",
        "e = np.array([[5],\n",
        "              [3],\n",
        "              [2]])\n",
        "\n",
        "f = np.array([[7],\n",
        "              [6],\n",
        "              [3]])\n",
        "print(e, '\\n', f)"
      ],
      "execution_count": 0,
      "outputs": [
        {
          "output_type": "stream",
          "text": [
            "[[5]\n",
            " [3]\n",
            " [2]] \n",
            " [[7]\n",
            " [6]\n",
            " [3]]\n"
          ],
          "name": "stdout"
        }
      ]
    },
    {
      "cell_type": "code",
      "metadata": {
        "id": "qB9qVgEFN1jP",
        "colab_type": "code",
        "outputId": "00160bc3-479b-47be-ac73-03fb2ff28a78",
        "colab": {
          "base_uri": "https://localhost:8080/",
          "height": 68
        }
      },
      "source": [
        "# cross product of column vectors.\n",
        "np.cross(e,f, axis=0)"
      ],
      "execution_count": 0,
      "outputs": [
        {
          "output_type": "execute_result",
          "data": {
            "text/plain": [
              "array([[-3],\n",
              "       [-1],\n",
              "       [ 9]])"
            ]
          },
          "metadata": {
            "tags": []
          },
          "execution_count": 93
        }
      ]
    },
    {
      "cell_type": "code",
      "metadata": {
        "id": "2N_J9FwPN1jR",
        "colab_type": "code",
        "colab": {}
      },
      "source": [
        "# Row Vectors\n",
        "z = np.array([5, 3, 2])\n",
        "x = np.array([7, 6, 3])"
      ],
      "execution_count": 0,
      "outputs": []
    },
    {
      "cell_type": "code",
      "metadata": {
        "id": "E88Xxwk3N1jT",
        "colab_type": "code",
        "outputId": "7e179b05-ec37-4d91-a0b7-0ef828a256a6",
        "colab": {
          "base_uri": "https://localhost:8080/",
          "height": 34
        }
      },
      "source": [
        "# cross product of row vectors\n",
        "np.cross(z, x, axis=0)"
      ],
      "execution_count": 0,
      "outputs": [
        {
          "output_type": "execute_result",
          "data": {
            "text/plain": [
              "array([-3, -1,  9])"
            ]
          },
          "metadata": {
            "tags": []
          },
          "execution_count": 91
        }
      ]
    },
    {
      "cell_type": "markdown",
      "metadata": {
        "colab_type": "text",
        "id": "drCVY_F8SaPI"
      },
      "source": [
        "## Part 3. Matrices"
      ]
    },
    {
      "cell_type": "markdown",
      "metadata": {
        "colab_type": "text",
        "id": "dKYeFAUbaP4j"
      },
      "source": [
        "A **matrix** is a rectangular grid of numbers arranged in rows and columns. Variables that represent matrices are typically written as capital letters (boldfaced as well if you want to be super formal).\n",
        "\n",
        "\\begin{align}\n",
        "A = \n",
        "    \\begin{bmatrix}\n",
        "           1 & 2 & 3\\\\\n",
        "           4 & 5 & 6\\\\\n",
        "           7 & 8 & 9\n",
        "    \\end{bmatrix}\n",
        "    \\qquad\n",
        "    B = \\begin{bmatrix}\n",
        "           1 & 2 & 3\\\\\n",
        "           4 & 5 & 6\n",
        "    \\end{bmatrix}\n",
        " \\end{align}\n"
      ]
    },
    {
      "cell_type": "markdown",
      "metadata": {
        "colab_type": "text",
        "id": "4oKAHHil-0bm"
      },
      "source": [
        "#### Dimensionality\n",
        "\n",
        "The number of rows and columns that a matrix has is called its **dimension**.\n",
        "\n",
        "When listing the dimension of a matrix we always list rows first and then columns. \n",
        "\n",
        "The dimension of matrix A is 3x3. (Note: This is read \"Three by Three\", the 'x' isn't a multiplication sign.)\n",
        "\n",
        "What is the Dimension of Matrix B?"
      ]
    },
    {
      "cell_type": "markdown",
      "metadata": {
        "colab_type": "text",
        "id": "VqWzluoD-9Pf"
      },
      "source": [
        "#### Matrix Equality\n",
        "\n",
        "In order for two Matrices to be equal the following conditions must be true:\n",
        "\n",
        "1) They must have the same dimensions.\n",
        "\n",
        "2) Corresponding elements must be equal.\n",
        "\n",
        "\\begin{align}\n",
        "    \\begin{bmatrix}\n",
        "           1 & 4\\\\\n",
        "           2 & 5\\\\\n",
        "           3 & 6 \n",
        "    \\end{bmatrix} \n",
        "    \\neq\n",
        "    \\begin{bmatrix}\n",
        "           1 & 2 & 3\\\\\n",
        "           4 & 5 & 6\n",
        "    \\end{bmatrix}\n",
        "\\end{align}"
      ]
    },
    {
      "cell_type": "markdown",
      "metadata": {
        "id": "K_i5_-kbN1jX",
        "colab_type": "text"
      },
      "source": [
        "### 3.1 Matrices with NumPy"
      ]
    },
    {
      "cell_type": "code",
      "metadata": {
        "id": "AHhrfdp-N1jY",
        "colab_type": "code",
        "colab": {}
      },
      "source": [
        "# ndarrays\n",
        "m = np.mat([1, 2, 4, 5, 3])"
      ],
      "execution_count": 0,
      "outputs": []
    },
    {
      "cell_type": "code",
      "metadata": {
        "id": "rD6b7GCaN1ja",
        "colab_type": "code",
        "outputId": "bb8f5664-839a-44da-d9d1-71ab08b524d3",
        "colab": {
          "base_uri": "https://localhost:8080/",
          "height": 34
        }
      },
      "source": [
        "# check the type\n",
        "type(m)"
      ],
      "execution_count": 0,
      "outputs": [
        {
          "output_type": "execute_result",
          "data": {
            "text/plain": [
              "numpy.matrix"
            ]
          },
          "metadata": {
            "tags": []
          },
          "execution_count": 96
        }
      ]
    },
    {
      "cell_type": "code",
      "metadata": {
        "id": "qzelRio5N1jd",
        "colab_type": "code",
        "outputId": "933a824b-b5b8-4528-daf6-b28c0168de6e",
        "colab": {
          "base_uri": "https://localhost:8080/",
          "height": 51
        }
      },
      "source": [
        "# Numpy Matrix data type\n",
        "m = np.matrix([[1, 2], [3, 4]])\n",
        "print(m)"
      ],
      "execution_count": 0,
      "outputs": [
        {
          "output_type": "stream",
          "text": [
            "[[1 2]\n",
            " [3 4]]\n"
          ],
          "name": "stdout"
        }
      ]
    },
    {
      "cell_type": "markdown",
      "metadata": {
        "id": "bh7yXUUnN1jf",
        "colab_type": "text"
      },
      "source": [
        "**Don't use the numpy matrix datatype**\n",
        "- will be deprecated\n",
        "- don't work same way"
      ]
    },
    {
      "cell_type": "code",
      "metadata": {
        "id": "8JhCd2vPN1jg",
        "colab_type": "code",
        "colab": {}
      },
      "source": [
        "# transpose a matrix\n"
      ],
      "execution_count": 0,
      "outputs": []
    },
    {
      "cell_type": "code",
      "metadata": {
        "id": "7U6SB3UcN1ji",
        "colab_type": "code",
        "colab": {}
      },
      "source": [
        "# invert a matrix\n"
      ],
      "execution_count": 0,
      "outputs": []
    },
    {
      "cell_type": "markdown",
      "metadata": {
        "id": "82kRYuXMN1jk",
        "colab_type": "text"
      },
      "source": [
        "**quick review: 1 and 2D numpy arrays**"
      ]
    },
    {
      "cell_type": "code",
      "metadata": {
        "id": "K_z56ElDN1jk",
        "colab_type": "code",
        "colab": {}
      },
      "source": [
        "# 1D array"
      ],
      "execution_count": 0,
      "outputs": []
    },
    {
      "cell_type": "code",
      "metadata": {
        "id": "srBLklkUN1jn",
        "colab_type": "code",
        "colab": {}
      },
      "source": [
        "# There is no distinction between row and column vectors for 1D arrays.\n"
      ],
      "execution_count": 0,
      "outputs": []
    },
    {
      "cell_type": "markdown",
      "metadata": {
        "id": "t2aWEmYuN1jo",
        "colab_type": "text"
      },
      "source": [
        "Numpy has no distinction between row and column vectors if you are using a 1D numpy array."
      ]
    },
    {
      "cell_type": "code",
      "metadata": {
        "id": "TVU6reicN1jp",
        "colab_type": "code",
        "colab": {}
      },
      "source": [
        "# reshape"
      ],
      "execution_count": 0,
      "outputs": []
    },
    {
      "cell_type": "code",
      "metadata": {
        "id": "YmGK2GqHN1jt",
        "colab_type": "code",
        "colab": {}
      },
      "source": [
        "# column vector\n"
      ],
      "execution_count": 0,
      "outputs": []
    },
    {
      "cell_type": "code",
      "metadata": {
        "id": "m7BoBxBlN1jv",
        "colab_type": "code",
        "colab": {}
      },
      "source": [
        "# if transposed, I will get a row vector - only because I'm using\n",
        "# the 2D representation\n"
      ],
      "execution_count": 0,
      "outputs": []
    },
    {
      "cell_type": "code",
      "metadata": {
        "id": "w01M1HKDN1jw",
        "colab_type": "code",
        "colab": {}
      },
      "source": [
        ""
      ],
      "execution_count": 0,
      "outputs": []
    },
    {
      "cell_type": "markdown",
      "metadata": {
        "id": "DcmLuCPKN1jy",
        "colab_type": "text"
      },
      "source": [
        "**Apply array broadcasting to a dataframe**"
      ]
    },
    {
      "cell_type": "code",
      "metadata": {
        "id": "QxLCmIZvN1jy",
        "colab_type": "code",
        "outputId": "8c665ae6-0ec2-4017-dad4-36af0500b869",
        "colab": {
          "base_uri": "https://localhost:8080/",
          "height": 204
        }
      },
      "source": [
        "# Calculate BMI from height and weight:\n",
        "\n",
        "import pandas as pd\n",
        "# Make a dataframe of heights and weights\n",
        "hw_df = pd.DataFrame({'height':[1.5, 2, 1.8, 1.4, 1.7], 'weight':[60, 70, 80, 90, 100]})\n",
        "hw_df"
      ],
      "execution_count": 0,
      "outputs": [
        {
          "output_type": "execute_result",
          "data": {
            "text/html": [
              "<div>\n",
              "<style scoped>\n",
              "    .dataframe tbody tr th:only-of-type {\n",
              "        vertical-align: middle;\n",
              "    }\n",
              "\n",
              "    .dataframe tbody tr th {\n",
              "        vertical-align: top;\n",
              "    }\n",
              "\n",
              "    .dataframe thead th {\n",
              "        text-align: right;\n",
              "    }\n",
              "</style>\n",
              "<table border=\"1\" class=\"dataframe\">\n",
              "  <thead>\n",
              "    <tr style=\"text-align: right;\">\n",
              "      <th></th>\n",
              "      <th>height</th>\n",
              "      <th>weight</th>\n",
              "    </tr>\n",
              "  </thead>\n",
              "  <tbody>\n",
              "    <tr>\n",
              "      <th>0</th>\n",
              "      <td>1.5</td>\n",
              "      <td>60</td>\n",
              "    </tr>\n",
              "    <tr>\n",
              "      <th>1</th>\n",
              "      <td>2.0</td>\n",
              "      <td>70</td>\n",
              "    </tr>\n",
              "    <tr>\n",
              "      <th>2</th>\n",
              "      <td>1.8</td>\n",
              "      <td>80</td>\n",
              "    </tr>\n",
              "    <tr>\n",
              "      <th>3</th>\n",
              "      <td>1.4</td>\n",
              "      <td>90</td>\n",
              "    </tr>\n",
              "    <tr>\n",
              "      <th>4</th>\n",
              "      <td>1.7</td>\n",
              "      <td>100</td>\n",
              "    </tr>\n",
              "  </tbody>\n",
              "</table>\n",
              "</div>"
            ],
            "text/plain": [
              "   height  weight\n",
              "0     1.5      60\n",
              "1     2.0      70\n",
              "2     1.8      80\n",
              "3     1.4      90\n",
              "4     1.7     100"
            ]
          },
          "metadata": {
            "tags": []
          },
          "execution_count": 101
        }
      ]
    },
    {
      "cell_type": "code",
      "metadata": {
        "id": "Y2aLOxTDN1j0",
        "colab_type": "code",
        "outputId": "c9460e61-9139-4ad5-cca6-e666a25d191a",
        "colab": {
          "base_uri": "https://localhost:8080/",
          "height": 111
        }
      },
      "source": [
        "# Look, we can transpose dataframes because they're built on top of numpy!\n",
        "hw_df.T"
      ],
      "execution_count": 0,
      "outputs": [
        {
          "output_type": "execute_result",
          "data": {
            "text/html": [
              "<div>\n",
              "<style scoped>\n",
              "    .dataframe tbody tr th:only-of-type {\n",
              "        vertical-align: middle;\n",
              "    }\n",
              "\n",
              "    .dataframe tbody tr th {\n",
              "        vertical-align: top;\n",
              "    }\n",
              "\n",
              "    .dataframe thead th {\n",
              "        text-align: right;\n",
              "    }\n",
              "</style>\n",
              "<table border=\"1\" class=\"dataframe\">\n",
              "  <thead>\n",
              "    <tr style=\"text-align: right;\">\n",
              "      <th></th>\n",
              "      <th>0</th>\n",
              "      <th>1</th>\n",
              "      <th>2</th>\n",
              "      <th>3</th>\n",
              "      <th>4</th>\n",
              "    </tr>\n",
              "  </thead>\n",
              "  <tbody>\n",
              "    <tr>\n",
              "      <th>height</th>\n",
              "      <td>1.5</td>\n",
              "      <td>2.0</td>\n",
              "      <td>1.8</td>\n",
              "      <td>1.4</td>\n",
              "      <td>1.7</td>\n",
              "    </tr>\n",
              "    <tr>\n",
              "      <th>weight</th>\n",
              "      <td>60.0</td>\n",
              "      <td>70.0</td>\n",
              "      <td>80.0</td>\n",
              "      <td>90.0</td>\n",
              "      <td>100.0</td>\n",
              "    </tr>\n",
              "  </tbody>\n",
              "</table>\n",
              "</div>"
            ],
            "text/plain": [
              "           0     1     2     3      4\n",
              "height   1.5   2.0   1.8   1.4    1.7\n",
              "weight  60.0  70.0  80.0  90.0  100.0"
            ]
          },
          "metadata": {
            "tags": []
          },
          "execution_count": 102
        }
      ]
    },
    {
      "cell_type": "code",
      "metadata": {
        "id": "6v84LcwHN1j1",
        "colab_type": "code",
        "outputId": "e81b5055-ea3e-407b-a3e4-b9a9ab587ae2",
        "colab": {
          "base_uri": "https://localhost:8080/",
          "height": 102
        }
      },
      "source": [
        "# Turn our dataframe in to a 2D numpy array using .values\n",
        "hw_df.values"
      ],
      "execution_count": 0,
      "outputs": [
        {
          "output_type": "execute_result",
          "data": {
            "text/plain": [
              "array([[  1.5,  60. ],\n",
              "       [  2. ,  70. ],\n",
              "       [  1.8,  80. ],\n",
              "       [  1.4,  90. ],\n",
              "       [  1.7, 100. ]])"
            ]
          },
          "metadata": {
            "tags": []
          },
          "execution_count": 103
        }
      ]
    },
    {
      "cell_type": "code",
      "metadata": {
        "id": "Of5Mt2yXN1j4",
        "colab_type": "code",
        "outputId": "3fc3c357-0fbe-48a8-9c38-ff4f069cece5",
        "colab": {
          "base_uri": "https://localhost:8080/",
          "height": 102
        }
      },
      "source": [
        "# Isolate our heights and weights columns\n",
        "hw_df.values[:,0:1]"
      ],
      "execution_count": 0,
      "outputs": [
        {
          "output_type": "execute_result",
          "data": {
            "text/plain": [
              "array([[1.5],\n",
              "       [2. ],\n",
              "       [1.8],\n",
              "       [1.4],\n",
              "       [1.7]])"
            ]
          },
          "metadata": {
            "tags": []
          },
          "execution_count": 105
        }
      ]
    },
    {
      "cell_type": "code",
      "metadata": {
        "id": "5hF1v1U5N1j6",
        "colab_type": "code",
        "colab": {}
      },
      "source": [
        "# easily apply the BMI equation\n",
        "# to each row using array broadcasting:\n",
        "\n",
        "# BMI = weight/height**2\n",
        "\n",
        "# My equation almost looks like pseudocode."
      ],
      "execution_count": 0,
      "outputs": []
    },
    {
      "cell_type": "markdown",
      "metadata": {
        "colab_type": "text",
        "id": "MYwxF4R8_Gnf"
      },
      "source": [
        "### 3.2 Matrix Multiplication\n",
        "\n",
        "You can multipy any two matrices where the number of  columns of the first matrix is equal to the number of rows of the second matrix.\n",
        "\n",
        "The unused dimensions of the factor matrices tell you what the dimensions of the product matrix will be.\n",
        "\n",
        "![Matrix Multiplication Dimensions](https://encrypted-tbn0.gstatic.com/images?q=tbn:ANd9GcRunZv20HXxTMUgrkfdER06lPnMj0HpwDU_2i4IEHsBM5098440Jw)\n",
        "\n",
        "There is no commutative property of matrix multiplication (you can't switch the order of the matrices and always get the same result). \n",
        "\n",
        "Matrix multiplication is best understood in terms of the dot product. Remember:\n",
        "\n",
        "\\begin{align} \\vec{a} \\cdot \\vec{b} = (a_{1} \\times b_{1}) + (a_{2} \\times b_{2}) + \\ldots + ( a_{n} \\times b_{n}) \\end{align}\n",
        "\n",
        "To multiply to matrices together, we will take the dot product of each row of the first matrix with each column of the second matrix. The position of the resulting entries will correspond to the row number and column number of the row and column vector that were used to find that scalar. Lets look at an example to make this more clear.\n",
        "\n",
        "![Dot Product Matrix Multiplication](https://www.mathsisfun.com/algebra/images/matrix-multiply-a.svg)\n",
        "\n",
        "\\begin{align}\n",
        "\\begin{bmatrix}\n",
        "1 & 2 & 3 \\\\\n",
        "4 & 5 & 6\n",
        "\\end{bmatrix} \n",
        "\\times\n",
        "\\begin{bmatrix}\n",
        "7 & 8 \\\\\n",
        "9 & 10 \\\\\n",
        "11 & 12\n",
        "\\end{bmatrix} \n",
        "=\n",
        "\\begin{bmatrix}\n",
        "(1)(7)+(2)(9)+(3)(11) & (1)(8)+(2)(10)+(3)(12)\\\\\n",
        "(4)(7)+(5)(9)+(6)(11) & (4)(8)+(5)(10)+(6)(12)\n",
        "\\end{bmatrix}\n",
        "=\n",
        "\\begin{bmatrix}\n",
        "(7)+(18)+(33) & (8)+(20)+(36)\\\\\n",
        "(28)+(45)+(66) & (32)+(50)+(72)\n",
        "\\end{bmatrix}\n",
        "=\n",
        "\\begin{bmatrix}\n",
        "58 & 64\\\\\n",
        "139 & 154\n",
        "\\end{bmatrix}\n",
        "\\end{align}"
      ]
    },
    {
      "cell_type": "code",
      "metadata": {
        "id": "h9lOiZTpN1j8",
        "colab_type": "code",
        "outputId": "91df4f8c-40d0-4485-8e75-e5b1bcf04519",
        "colab": {
          "base_uri": "https://localhost:8080/",
          "height": 102
        }
      },
      "source": [
        "# Suppose we have the following matrices.\n",
        "A = np.array([[2,3],\n",
        "            [1, 5],\n",
        "            [7, 1]])\n",
        "\n",
        "B = np.array([[4, 4],\n",
        "              [5, 3]]\n",
        "            )\n",
        "print(A, '\\n', B)"
      ],
      "execution_count": 0,
      "outputs": [
        {
          "output_type": "stream",
          "text": [
            "[[2 3]\n",
            " [1 5]\n",
            " [7 1]] \n",
            " [[4 4]\n",
            " [5 3]]\n"
          ],
          "name": "stdout"
        }
      ]
    },
    {
      "cell_type": "code",
      "metadata": {
        "id": "qGdJ1XWkN1j-",
        "colab_type": "code",
        "outputId": "cc1c292f-ee09-4b75-e0aa-7687ee696a61",
        "colab": {
          "base_uri": "https://localhost:8080/",
          "height": 142
        }
      },
      "source": [
        "# Check this out\n",
        "pd.DataFrame(A)"
      ],
      "execution_count": 0,
      "outputs": [
        {
          "output_type": "execute_result",
          "data": {
            "text/html": [
              "<div>\n",
              "<style scoped>\n",
              "    .dataframe tbody tr th:only-of-type {\n",
              "        vertical-align: middle;\n",
              "    }\n",
              "\n",
              "    .dataframe tbody tr th {\n",
              "        vertical-align: top;\n",
              "    }\n",
              "\n",
              "    .dataframe thead th {\n",
              "        text-align: right;\n",
              "    }\n",
              "</style>\n",
              "<table border=\"1\" class=\"dataframe\">\n",
              "  <thead>\n",
              "    <tr style=\"text-align: right;\">\n",
              "      <th></th>\n",
              "      <th>0</th>\n",
              "      <th>1</th>\n",
              "    </tr>\n",
              "  </thead>\n",
              "  <tbody>\n",
              "    <tr>\n",
              "      <th>0</th>\n",
              "      <td>2</td>\n",
              "      <td>3</td>\n",
              "    </tr>\n",
              "    <tr>\n",
              "      <th>1</th>\n",
              "      <td>1</td>\n",
              "      <td>5</td>\n",
              "    </tr>\n",
              "    <tr>\n",
              "      <th>2</th>\n",
              "      <td>7</td>\n",
              "      <td>1</td>\n",
              "    </tr>\n",
              "  </tbody>\n",
              "</table>\n",
              "</div>"
            ],
            "text/plain": [
              "   0  1\n",
              "0  2  3\n",
              "1  1  5\n",
              "2  7  1"
            ]
          },
          "metadata": {
            "tags": []
          },
          "execution_count": 107
        }
      ]
    },
    {
      "cell_type": "code",
      "metadata": {
        "id": "qqXvQc5rN1kD",
        "colab_type": "code",
        "outputId": "37ec8833-a573-4545-eaac-b15da6c2d37e",
        "colab": {
          "base_uri": "https://localhost:8080/",
          "height": 111
        }
      },
      "source": [
        "# Check this out\n",
        "pd.DataFrame(B)"
      ],
      "execution_count": 0,
      "outputs": [
        {
          "output_type": "execute_result",
          "data": {
            "text/html": [
              "<div>\n",
              "<style scoped>\n",
              "    .dataframe tbody tr th:only-of-type {\n",
              "        vertical-align: middle;\n",
              "    }\n",
              "\n",
              "    .dataframe tbody tr th {\n",
              "        vertical-align: top;\n",
              "    }\n",
              "\n",
              "    .dataframe thead th {\n",
              "        text-align: right;\n",
              "    }\n",
              "</style>\n",
              "<table border=\"1\" class=\"dataframe\">\n",
              "  <thead>\n",
              "    <tr style=\"text-align: right;\">\n",
              "      <th></th>\n",
              "      <th>0</th>\n",
              "      <th>1</th>\n",
              "    </tr>\n",
              "  </thead>\n",
              "  <tbody>\n",
              "    <tr>\n",
              "      <th>0</th>\n",
              "      <td>4</td>\n",
              "      <td>4</td>\n",
              "    </tr>\n",
              "    <tr>\n",
              "      <th>1</th>\n",
              "      <td>5</td>\n",
              "      <td>3</td>\n",
              "    </tr>\n",
              "  </tbody>\n",
              "</table>\n",
              "</div>"
            ],
            "text/plain": [
              "   0  1\n",
              "0  4  4\n",
              "1  5  3"
            ]
          },
          "metadata": {
            "tags": []
          },
          "execution_count": 108
        }
      ]
    },
    {
      "cell_type": "code",
      "metadata": {
        "id": "_fwa-J3eN1kG",
        "colab_type": "code",
        "outputId": "ae92354b-97b7-4bf0-dd16-c828f1c4450d",
        "colab": {
          "base_uri": "https://localhost:8080/",
          "height": 68
        }
      },
      "source": [
        "# Multiply A * B\n",
        "np.matmul(A, B)"
      ],
      "execution_count": 0,
      "outputs": [
        {
          "output_type": "execute_result",
          "data": {
            "text/plain": [
              "array([[23, 17],\n",
              "       [29, 19],\n",
              "       [33, 31]])"
            ]
          },
          "metadata": {
            "tags": []
          },
          "execution_count": 109
        }
      ]
    },
    {
      "cell_type": "code",
      "metadata": {
        "id": "H12tBcgRN1kH",
        "colab_type": "code",
        "outputId": "71949cd2-a78e-4701-ed5f-148c05134f98",
        "colab": {
          "base_uri": "https://localhost:8080/",
          "height": 142
        }
      },
      "source": [
        "# Display that as dataframe\n",
        "pd.DataFrame(np.matmul(A, B))"
      ],
      "execution_count": 0,
      "outputs": [
        {
          "output_type": "execute_result",
          "data": {
            "text/html": [
              "<div>\n",
              "<style scoped>\n",
              "    .dataframe tbody tr th:only-of-type {\n",
              "        vertical-align: middle;\n",
              "    }\n",
              "\n",
              "    .dataframe tbody tr th {\n",
              "        vertical-align: top;\n",
              "    }\n",
              "\n",
              "    .dataframe thead th {\n",
              "        text-align: right;\n",
              "    }\n",
              "</style>\n",
              "<table border=\"1\" class=\"dataframe\">\n",
              "  <thead>\n",
              "    <tr style=\"text-align: right;\">\n",
              "      <th></th>\n",
              "      <th>0</th>\n",
              "      <th>1</th>\n",
              "    </tr>\n",
              "  </thead>\n",
              "  <tbody>\n",
              "    <tr>\n",
              "      <th>0</th>\n",
              "      <td>23</td>\n",
              "      <td>17</td>\n",
              "    </tr>\n",
              "    <tr>\n",
              "      <th>1</th>\n",
              "      <td>29</td>\n",
              "      <td>19</td>\n",
              "    </tr>\n",
              "    <tr>\n",
              "      <th>2</th>\n",
              "      <td>33</td>\n",
              "      <td>31</td>\n",
              "    </tr>\n",
              "  </tbody>\n",
              "</table>\n",
              "</div>"
            ],
            "text/plain": [
              "    0   1\n",
              "0  23  17\n",
              "1  29  19\n",
              "2  33  31"
            ]
          },
          "metadata": {
            "tags": []
          },
          "execution_count": 110
        }
      ]
    },
    {
      "cell_type": "code",
      "metadata": {
        "id": "HEHJawSfN1kI",
        "colab_type": "code",
        "outputId": "15059992-3e89-409f-be51-0233f578a6ff",
        "colab": {
          "base_uri": "https://localhost:8080/",
          "height": 163
        }
      },
      "source": [
        "# Why can't we multiply B*A?\n",
        "A * B"
      ],
      "execution_count": 0,
      "outputs": [
        {
          "output_type": "error",
          "ename": "ValueError",
          "evalue": "ignored",
          "traceback": [
            "\u001b[0;31m---------------------------------------------------------------------------\u001b[0m",
            "\u001b[0;31mValueError\u001b[0m                                Traceback (most recent call last)",
            "\u001b[0;32m<ipython-input-111-a4cedde81ed0>\u001b[0m in \u001b[0;36m<module>\u001b[0;34m()\u001b[0m\n\u001b[0;32m----> 1\u001b[0;31m \u001b[0mA\u001b[0m \u001b[0;34m*\u001b[0m \u001b[0mB\u001b[0m\u001b[0;34m\u001b[0m\u001b[0;34m\u001b[0m\u001b[0m\n\u001b[0m",
            "\u001b[0;31mValueError\u001b[0m: operands could not be broadcast together with shapes (3,2) (2,2) "
          ]
        }
      ]
    },
    {
      "cell_type": "code",
      "metadata": {
        "id": "BYbtp9m3pAb-",
        "colab_type": "code",
        "outputId": "68da1a85-955c-4fe5-fbf8-7d6201abac2f",
        "colab": {
          "base_uri": "https://localhost:8080/",
          "height": 163
        }
      },
      "source": [
        "B * A"
      ],
      "execution_count": 0,
      "outputs": [
        {
          "output_type": "error",
          "ename": "ValueError",
          "evalue": "ignored",
          "traceback": [
            "\u001b[0;31m---------------------------------------------------------------------------\u001b[0m",
            "\u001b[0;31mValueError\u001b[0m                                Traceback (most recent call last)",
            "\u001b[0;32m<ipython-input-112-36ca14b77ca1>\u001b[0m in \u001b[0;36m<module>\u001b[0;34m()\u001b[0m\n\u001b[0;32m----> 1\u001b[0;31m \u001b[0mB\u001b[0m \u001b[0;34m*\u001b[0m \u001b[0mA\u001b[0m\u001b[0;34m\u001b[0m\u001b[0;34m\u001b[0m\u001b[0m\n\u001b[0m",
            "\u001b[0;31mValueError\u001b[0m: operands could not be broadcast together with shapes (2,2) (3,2) "
          ]
        }
      ]
    },
    {
      "cell_type": "code",
      "metadata": {
        "id": "50s98YAXpC-9",
        "colab_type": "code",
        "outputId": "28b22b6a-7c03-48ac-8a6e-77e7d44bd0c9",
        "colab": {
          "base_uri": "https://localhost:8080/",
          "height": 183
        }
      },
      "source": [
        "np.matmul(B, A)"
      ],
      "execution_count": 0,
      "outputs": [
        {
          "output_type": "error",
          "ename": "ValueError",
          "evalue": "ignored",
          "traceback": [
            "\u001b[0;31m---------------------------------------------------------------------------\u001b[0m",
            "\u001b[0;31mValueError\u001b[0m                                Traceback (most recent call last)",
            "\u001b[0;32m<ipython-input-113-8c97b94ed9fa>\u001b[0m in \u001b[0;36m<module>\u001b[0;34m()\u001b[0m\n\u001b[0;32m----> 1\u001b[0;31m \u001b[0mnp\u001b[0m\u001b[0;34m.\u001b[0m\u001b[0mmatmul\u001b[0m\u001b[0;34m(\u001b[0m\u001b[0mB\u001b[0m\u001b[0;34m,\u001b[0m \u001b[0mA\u001b[0m\u001b[0;34m)\u001b[0m\u001b[0;34m\u001b[0m\u001b[0;34m\u001b[0m\u001b[0m\n\u001b[0m",
            "\u001b[0;31mValueError\u001b[0m: matmul: Input operand 1 has a mismatch in its core dimension 0, with gufunc signature (n?,k),(k,m?)->(n?,m?) (size 3 is different from 2)"
          ]
        }
      ]
    },
    {
      "cell_type": "code",
      "metadata": {
        "id": "mC_cZk19pH3Z",
        "colab_type": "code",
        "outputId": "b790cc3a-45d1-47c9-a805-ca916a8001aa",
        "colab": {
          "base_uri": "https://localhost:8080/",
          "height": 68
        }
      },
      "source": [
        "np.matmul(A, B)"
      ],
      "execution_count": 0,
      "outputs": [
        {
          "output_type": "execute_result",
          "data": {
            "text/plain": [
              "array([[23, 17],\n",
              "       [29, 19],\n",
              "       [33, 31]])"
            ]
          },
          "metadata": {
            "tags": []
          },
          "execution_count": 114
        }
      ]
    },
    {
      "cell_type": "code",
      "metadata": {
        "id": "flxbUcMFpLeo",
        "colab_type": "code",
        "colab": {}
      },
      "source": [
        "# number of rows in first must match number of columns in second"
      ],
      "execution_count": 0,
      "outputs": []
    },
    {
      "cell_type": "markdown",
      "metadata": {
        "colab_type": "text",
        "id": "aJt-S8zA_Lk9"
      },
      "source": [
        "### 3.2 Transpose\n",
        "\n",
        "A transposed matrix is one whose rows are the columns of the original and whose columns are the rows of the original.\n",
        "\n",
        "Common notation for the transpose of a matrix is to have a capital $T$ superscript or a tick mark:\n",
        "\n",
        "\\begin{align}\n",
        "B^{T}\n",
        "\\qquad\n",
        "B^{\\prime}\n",
        "\\end{align}\n",
        "\n",
        "The first is read \"B transpose\" the second is sometimes read as \"B prime\" but can also be read as \"B transpose\".\n",
        "\n",
        "The transpose of any matrix can be found easily by fixing the elements on the main diagonal and flipping the placement of all other elements across that diagonal."
      ]
    },
    {
      "cell_type": "markdown",
      "metadata": {
        "id": "BmVV9Jb4N1kK",
        "colab_type": "text"
      },
      "source": [
        "![Matrix Transpose](http://xaktly.com/Images/Mathematics/MatrixAlgebra/MatrixOperations/MatrixTranspose.png)"
      ]
    },
    {
      "cell_type": "markdown",
      "metadata": {
        "id": "vTHPkA3wN1kL",
        "colab_type": "text"
      },
      "source": [
        "  \n",
        "\\begin{align}\n",
        "  B = \n",
        "\\begin{bmatrix}\n",
        "  1 & 2 & 3 \\\\\n",
        "  4 & 5 & 6\n",
        "\\end{bmatrix}\n",
        "  \\qquad\n",
        "  B^{T} = \n",
        "  \\begin{bmatrix}\n",
        "  1 & 4 \\\\\n",
        "  2 & 5 \\\\\n",
        "  3 & 6\n",
        "  \\end{bmatrix}\n",
        "\\end{align}"
      ]
    },
    {
      "cell_type": "markdown",
      "metadata": {
        "id": "YSEC8dURN1kL",
        "colab_type": "text"
      },
      "source": [
        "![Matrix Transpose Wikipedia](https://upload.wikimedia.org/wikipedia/commons/e/e4/Matrix_transpose.gif)"
      ]
    },
    {
      "cell_type": "code",
      "metadata": {
        "id": "L0EISnI6N1kM",
        "colab_type": "code",
        "outputId": "76261ab7-2a85-4042-8149-b25d183bee73",
        "colab": {
          "base_uri": "https://localhost:8080/",
          "height": 68
        }
      },
      "source": [
        "# suppose we have a matrix.\n",
        "F = np.array([[20, 19, 18, 17],\n",
        "              [16, 15, 14, 12],\n",
        "              [12, 11, 101, 9]])\n",
        "F"
      ],
      "execution_count": 0,
      "outputs": [
        {
          "output_type": "execute_result",
          "data": {
            "text/plain": [
              "array([[ 20,  19,  18,  17],\n",
              "       [ 16,  15,  14,  12],\n",
              "       [ 12,  11, 101,   9]])"
            ]
          },
          "metadata": {
            "tags": []
          },
          "execution_count": 121
        }
      ]
    },
    {
      "cell_type": "code",
      "metadata": {
        "id": "iZbiMny6N1kN",
        "colab_type": "code",
        "outputId": "94a6a204-fecb-4055-a666-5e8b42f3a7ff",
        "colab": {
          "base_uri": "https://localhost:8080/",
          "height": 85
        }
      },
      "source": [
        "# this is its transpose. compare the diagonals.\n",
        "F.T"
      ],
      "execution_count": 0,
      "outputs": [
        {
          "output_type": "execute_result",
          "data": {
            "text/plain": [
              "array([[ 20,  16,  12],\n",
              "       [ 19,  15,  11],\n",
              "       [ 18,  14, 101],\n",
              "       [ 17,  12,   9]])"
            ]
          },
          "metadata": {
            "tags": []
          },
          "execution_count": 122
        }
      ]
    },
    {
      "cell_type": "code",
      "metadata": {
        "id": "eAET65zNpeut",
        "colab_type": "code",
        "outputId": "73f4681a-9c6f-4b1b-a318-08bba346eaae",
        "colab": {
          "base_uri": "https://localhost:8080/",
          "height": 142
        }
      },
      "source": [
        "# Same but as a dataframe\n",
        "F_df = pd.DataFrame(F)\n",
        "F_df"
      ],
      "execution_count": 0,
      "outputs": [
        {
          "output_type": "execute_result",
          "data": {
            "text/html": [
              "<div>\n",
              "<style scoped>\n",
              "    .dataframe tbody tr th:only-of-type {\n",
              "        vertical-align: middle;\n",
              "    }\n",
              "\n",
              "    .dataframe tbody tr th {\n",
              "        vertical-align: top;\n",
              "    }\n",
              "\n",
              "    .dataframe thead th {\n",
              "        text-align: right;\n",
              "    }\n",
              "</style>\n",
              "<table border=\"1\" class=\"dataframe\">\n",
              "  <thead>\n",
              "    <tr style=\"text-align: right;\">\n",
              "      <th></th>\n",
              "      <th>0</th>\n",
              "      <th>1</th>\n",
              "      <th>2</th>\n",
              "      <th>3</th>\n",
              "    </tr>\n",
              "  </thead>\n",
              "  <tbody>\n",
              "    <tr>\n",
              "      <th>0</th>\n",
              "      <td>20</td>\n",
              "      <td>19</td>\n",
              "      <td>18</td>\n",
              "      <td>17</td>\n",
              "    </tr>\n",
              "    <tr>\n",
              "      <th>1</th>\n",
              "      <td>16</td>\n",
              "      <td>15</td>\n",
              "      <td>14</td>\n",
              "      <td>12</td>\n",
              "    </tr>\n",
              "    <tr>\n",
              "      <th>2</th>\n",
              "      <td>12</td>\n",
              "      <td>11</td>\n",
              "      <td>101</td>\n",
              "      <td>9</td>\n",
              "    </tr>\n",
              "  </tbody>\n",
              "</table>\n",
              "</div>"
            ],
            "text/plain": [
              "    0   1    2   3\n",
              "0  20  19   18  17\n",
              "1  16  15   14  12\n",
              "2  12  11  101   9"
            ]
          },
          "metadata": {
            "tags": []
          },
          "execution_count": 123
        }
      ]
    },
    {
      "cell_type": "code",
      "metadata": {
        "id": "KEMEobf9pnF0",
        "colab_type": "code",
        "outputId": "be21e62e-2da2-4aa5-e105-7ffeea98436c",
        "colab": {
          "base_uri": "https://localhost:8080/",
          "height": 173
        }
      },
      "source": [
        "F_df.T"
      ],
      "execution_count": 0,
      "outputs": [
        {
          "output_type": "execute_result",
          "data": {
            "text/html": [
              "<div>\n",
              "<style scoped>\n",
              "    .dataframe tbody tr th:only-of-type {\n",
              "        vertical-align: middle;\n",
              "    }\n",
              "\n",
              "    .dataframe tbody tr th {\n",
              "        vertical-align: top;\n",
              "    }\n",
              "\n",
              "    .dataframe thead th {\n",
              "        text-align: right;\n",
              "    }\n",
              "</style>\n",
              "<table border=\"1\" class=\"dataframe\">\n",
              "  <thead>\n",
              "    <tr style=\"text-align: right;\">\n",
              "      <th></th>\n",
              "      <th>0</th>\n",
              "      <th>1</th>\n",
              "      <th>2</th>\n",
              "    </tr>\n",
              "  </thead>\n",
              "  <tbody>\n",
              "    <tr>\n",
              "      <th>0</th>\n",
              "      <td>20</td>\n",
              "      <td>16</td>\n",
              "      <td>12</td>\n",
              "    </tr>\n",
              "    <tr>\n",
              "      <th>1</th>\n",
              "      <td>19</td>\n",
              "      <td>15</td>\n",
              "      <td>11</td>\n",
              "    </tr>\n",
              "    <tr>\n",
              "      <th>2</th>\n",
              "      <td>18</td>\n",
              "      <td>14</td>\n",
              "      <td>101</td>\n",
              "    </tr>\n",
              "    <tr>\n",
              "      <th>3</th>\n",
              "      <td>17</td>\n",
              "      <td>12</td>\n",
              "      <td>9</td>\n",
              "    </tr>\n",
              "  </tbody>\n",
              "</table>\n",
              "</div>"
            ],
            "text/plain": [
              "    0   1    2\n",
              "0  20  16   12\n",
              "1  19  15   11\n",
              "2  18  14  101\n",
              "3  17  12    9"
            ]
          },
          "metadata": {
            "tags": []
          },
          "execution_count": 124
        }
      ]
    },
    {
      "cell_type": "markdown",
      "metadata": {
        "colab_type": "text",
        "id": "dDTzd-Mw_Q0G"
      },
      "source": [
        "## 3.3 Square Matrix:\n",
        "\n",
        "In a true linear algebra class after the first few weeks you would deal almost exclusively with square matrices. They have very nice properties that their lopsided sisters and brothers just don't possess. \n",
        "\n",
        "A square matrix is any matrix that has the same number of rows as columns:\n",
        "\n",
        "\\begin{align}\n",
        "A =\n",
        "\\begin{bmatrix}\n",
        "  a_{1,1}\n",
        "\\end{bmatrix}\n",
        "\\qquad\n",
        "B =\n",
        "\\begin{bmatrix}\n",
        "b_{1,1} & b_{1,2} \\\\\n",
        "b_{2,1} & b_{2,2}\n",
        "\\end{bmatrix}\n",
        "\\qquad\n",
        "C =\n",
        "\\begin{bmatrix}\n",
        "c_{1,1} & c_{1,2} & c_{1,3} \\\\\n",
        "c_{2,1} & c_{2,2} & c_{2,3} \\\\\n",
        "c_{3,1} & c_{3,2} & c_{3,3} \n",
        "\\end{bmatrix}\n",
        "\\end{align}"
      ]
    },
    {
      "cell_type": "code",
      "metadata": {
        "id": "40CE0NIXN1kO",
        "colab_type": "code",
        "outputId": "2bcae06c-2844-4d9e-b219-b6f1499a1ca0",
        "colab": {
          "base_uri": "https://localhost:8080/",
          "height": 142
        }
      },
      "source": [
        "# Create Identity Matrix\n",
        "I = np.array([[1, 0, 0],\n",
        "              [0, 1, 0],\n",
        "              [0, 0, 1]])\n",
        "pd.DataFrame(I)"
      ],
      "execution_count": 0,
      "outputs": [
        {
          "output_type": "execute_result",
          "data": {
            "text/html": [
              "<div>\n",
              "<style scoped>\n",
              "    .dataframe tbody tr th:only-of-type {\n",
              "        vertical-align: middle;\n",
              "    }\n",
              "\n",
              "    .dataframe tbody tr th {\n",
              "        vertical-align: top;\n",
              "    }\n",
              "\n",
              "    .dataframe thead th {\n",
              "        text-align: right;\n",
              "    }\n",
              "</style>\n",
              "<table border=\"1\" class=\"dataframe\">\n",
              "  <thead>\n",
              "    <tr style=\"text-align: right;\">\n",
              "      <th></th>\n",
              "      <th>0</th>\n",
              "      <th>1</th>\n",
              "      <th>2</th>\n",
              "    </tr>\n",
              "  </thead>\n",
              "  <tbody>\n",
              "    <tr>\n",
              "      <th>0</th>\n",
              "      <td>1</td>\n",
              "      <td>0</td>\n",
              "      <td>0</td>\n",
              "    </tr>\n",
              "    <tr>\n",
              "      <th>1</th>\n",
              "      <td>0</td>\n",
              "      <td>1</td>\n",
              "      <td>0</td>\n",
              "    </tr>\n",
              "    <tr>\n",
              "      <th>2</th>\n",
              "      <td>0</td>\n",
              "      <td>0</td>\n",
              "      <td>1</td>\n",
              "    </tr>\n",
              "  </tbody>\n",
              "</table>\n",
              "</div>"
            ],
            "text/plain": [
              "   0  1  2\n",
              "0  1  0  0\n",
              "1  0  1  0\n",
              "2  0  0  1"
            ]
          },
          "metadata": {
            "tags": []
          },
          "execution_count": 126
        }
      ]
    },
    {
      "cell_type": "code",
      "metadata": {
        "id": "i1-gau6uN1kP",
        "colab_type": "code",
        "colab": {}
      },
      "source": [
        "# Create G Matrix\n",
        "G = np.array([[10, 9, 8],\n",
        "             [6, 7, 5],\n",
        "             [2, 3, 45]])"
      ],
      "execution_count": 0,
      "outputs": []
    },
    {
      "cell_type": "code",
      "metadata": {
        "id": "HjccziUzN1kR",
        "colab_type": "code",
        "outputId": "b2a10acc-aa0a-4087-9b35-8e9621acc27e",
        "colab": {
          "base_uri": "https://localhost:8080/",
          "height": 68
        }
      },
      "source": [
        "#Multiplying G and Identity Matrix should give back G matrix\n",
        "np.matmul(I, G)"
      ],
      "execution_count": 0,
      "outputs": [
        {
          "output_type": "execute_result",
          "data": {
            "text/plain": [
              "array([[10,  9,  8],\n",
              "       [ 6,  7,  5],\n",
              "       [ 2,  3, 45]])"
            ]
          },
          "metadata": {
            "tags": []
          },
          "execution_count": 129
        }
      ]
    },
    {
      "cell_type": "markdown",
      "metadata": {
        "colab_type": "text",
        "id": "fSfLokfx_T4x"
      },
      "source": [
        "### Special Kinds of Square Matrices\n",
        "\n",
        "**Diagonal:** Values on the main diagonal, zeroes everywhere else.\n",
        "\n",
        "\\begin{align}\n",
        "A =\n",
        "\\begin{bmatrix}\n",
        "a_{1,1} & 0 & 0 \\\\\n",
        "0 & a_{2,2} & 0 \\\\\n",
        "0 & 0 & a_{3,3} \n",
        "\\end{bmatrix}\n",
        "\\end{align}\n",
        "\n",
        "**Upper Triangular:** Values on and above the main diagonal, zeroes everywhere else.\n",
        "\n",
        "\\begin{align}\n",
        "B =\n",
        "\\begin{bmatrix}\n",
        "b_{1,1} & b_{1,2} & b_{1,3} \\\\\n",
        "0 & b_{2,2} & b_{2,3} \\\\\n",
        "0 & 0 & b_{3,3} \n",
        "\\end{bmatrix}\n",
        "\\end{align}\n",
        "\n",
        "**Lower Triangular:** Values on and below the main diagonal, zeroes everywhere else.\n",
        "\n",
        "\\begin{align}\n",
        "C =\n",
        "\\begin{bmatrix}\n",
        "c_{1,1} & 0 & 0 \\\\\n",
        "c_{2,1} & c_{2,2} & 0 \\\\\n",
        "c_{3,1} & c_{3,2} & c_{3,3} \n",
        "\\end{bmatrix}\n",
        "\\end{align}\n",
        "\n",
        "**Identity Matrix:** A diagonal matrix with ones on the main diagonal and zeroes everywhere else. The product of the any square matrix and the identity matrix is the original square matrix $AI == A$. Also, any matrix multiplied by its inverse will give the identity matrix as its product.  $AA^{-1} = I$\n",
        "\n",
        "\\begin{align}\n",
        "D =\n",
        "\\begin{bmatrix}\n",
        "  1\n",
        "\\end{bmatrix}\n",
        "\\qquad\n",
        "E =\n",
        "\\begin{bmatrix}\n",
        "1 & 0 \\\\\n",
        "0 & 1\n",
        "\\end{bmatrix}\n",
        "\\qquad\n",
        "F =\n",
        "\\begin{bmatrix}\n",
        "1 & 0 & 0 \\\\\n",
        "0 & 1 & 0 \\\\\n",
        "0 & 0 & 1 \n",
        "\\end{bmatrix}\n",
        "\\end{align}\n",
        "\n",
        "**Symmetric:** The numbers above the main diagonal are mirrored below/across the main diagonal.\n",
        "\n",
        "\\begin{align}\n",
        "G =\n",
        "\\begin{bmatrix}\n",
        "1 & 4 & 5 \\\\\n",
        "4 & 2 & 6 \\\\\n",
        "5 & 6 & 3 \n",
        "\\end{bmatrix}\n",
        "\\end{align}\n",
        "\n",
        "\n"
      ]
    },
    {
      "cell_type": "markdown",
      "metadata": {
        "colab_type": "text",
        "id": "rBwAaji5San4"
      },
      "source": [
        "## 3.4 Determinant\n",
        "\n",
        "Every square matrix has a determinant. The determinant is a scalar assigned to each square matrix. It represents the area or volume of a parallelogram mapped by the column vectors in a square matrix.  The determinant is denoted $det(A)$ or using pipes (absolute value symbols) $|A|$\n",
        "\n",
        "![determinant](https://github.com/austinlasseter/DS-Unit-1-Sprint-3-Linear-Algebra/blob/master/module1-vectors-and-matrices/determinant.png?raw=1)\n",
        "\n",
        "The equation given for finding the determinant of a 2x2 matrix is as follows:\n",
        "\n",
        "\\begin{align}\n",
        "A = \\begin{bmatrix}\n",
        "a & b \\\\\n",
        "c & d\n",
        "\\end{bmatrix}\n",
        "\\qquad\n",
        "|A| = ad-bc\n",
        "\\end{align}\n",
        "\n",
        "For a 2x2 matrix:\n",
        "![twomatrixdet](https://www.mathsisfun.com/algebra/images/matrix-2x2-det-a.gif)\n",
        "\n",
        "* Blue is positive (+ad),\n",
        "* Red is negative (−bc)\n",
        "\n",
        "![twomatdetsolve](https://www.mathsisfun.com/algebra/images/matrix-2x2-det-c.gif)\n",
        "\n",
        "Find the determinant of larger square matrices recursively by finding the determinants of the smaller matrices that make up the large matrix."
      ]
    },
    {
      "cell_type": "markdown",
      "metadata": {
        "id": "HuZpS5eWN1kT",
        "colab_type": "text"
      },
      "source": [
        "**3x3 matrix**\n",
        "![three_det](https://www.mathsisfun.com/algebra/images/matrix-3x3-det-a.gif)\n",
        "For a 3x3 matrix, the determinant is:  \n",
        "|A| = a(ei − fh) − b(di − fg) + c(dh − eg)  \n",
        "Here's the pattern:\n",
        "![pattern](https://www.mathsisfun.com/algebra/images/matrix-3x3-det-c.gif)"
      ]
    },
    {
      "cell_type": "code",
      "metadata": {
        "id": "XcSQHtXKN1kU",
        "colab_type": "code",
        "outputId": "3f2b9ead-d0ff-4e0b-c209-638e44af1c57",
        "colab": {
          "base_uri": "https://localhost:8080/",
          "height": 111
        }
      },
      "source": [
        "# Find the determinant of a matrix\n",
        "H = np.array([[4, 6],\n",
        "              [3, 0]])\n",
        "pd.DataFrame(H)"
      ],
      "execution_count": 0,
      "outputs": [
        {
          "output_type": "execute_result",
          "data": {
            "text/html": [
              "<div>\n",
              "<style scoped>\n",
              "    .dataframe tbody tr th:only-of-type {\n",
              "        vertical-align: middle;\n",
              "    }\n",
              "\n",
              "    .dataframe tbody tr th {\n",
              "        vertical-align: top;\n",
              "    }\n",
              "\n",
              "    .dataframe thead th {\n",
              "        text-align: right;\n",
              "    }\n",
              "</style>\n",
              "<table border=\"1\" class=\"dataframe\">\n",
              "  <thead>\n",
              "    <tr style=\"text-align: right;\">\n",
              "      <th></th>\n",
              "      <th>0</th>\n",
              "      <th>1</th>\n",
              "    </tr>\n",
              "  </thead>\n",
              "  <tbody>\n",
              "    <tr>\n",
              "      <th>0</th>\n",
              "      <td>4</td>\n",
              "      <td>6</td>\n",
              "    </tr>\n",
              "    <tr>\n",
              "      <th>1</th>\n",
              "      <td>3</td>\n",
              "      <td>0</td>\n",
              "    </tr>\n",
              "  </tbody>\n",
              "</table>\n",
              "</div>"
            ],
            "text/plain": [
              "   0  1\n",
              "0  4  6\n",
              "1  3  0"
            ]
          },
          "metadata": {
            "tags": []
          },
          "execution_count": 130
        }
      ]
    },
    {
      "cell_type": "code",
      "metadata": {
        "id": "869MnuQ3saOz",
        "colab_type": "code",
        "outputId": "587ec915-6f2f-4bd2-9d5b-fb530ca5f99e",
        "colab": {
          "base_uri": "https://localhost:8080/",
          "height": 34
        }
      },
      "source": [
        "# Determinant\n",
        "np.linalg.det(H)"
      ],
      "execution_count": 0,
      "outputs": [
        {
          "output_type": "execute_result",
          "data": {
            "text/plain": [
              "-17.999999999999996"
            ]
          },
          "metadata": {
            "tags": []
          },
          "execution_count": 131
        }
      ]
    },
    {
      "cell_type": "code",
      "metadata": {
        "id": "21r6erXwN1kV",
        "colab_type": "code",
        "colab": {}
      },
      "source": [
        "# Find the determinant of a matrix\n"
      ],
      "execution_count": 0,
      "outputs": []
    },
    {
      "cell_type": "markdown",
      "metadata": {
        "id": "O4u1MUejN1kY",
        "colab_type": "text"
      },
      "source": [
        "Why do I want to know this? How will I ever use the determinant?  \n",
        "* helps find the inverse of the matrix\n",
        "* In data science, frequently used for dimensionality reduction.  \n",
        "* When the determinant is zero, this is problematic (avoid)    \n",
        "* A determinant of zero means there are infinite solutions to a system of equations (ie, no unique solution).  \n",
        "* The sign of the determinant of a matrix can be used to calculate the relative position of a point to a plane  \n",
        "* Commonly used in 3d programming and graphics techniques (matrices of pixels) where the determinant effectively represents the degree of unambiguousness.   \n",
        "* Determinants can be used to solve systems of linear equations (Cramer's rule).  \n",
        "\n",
        "https://www.gamedev.net/forums/topic/610673-what-is-a-practical-use-for-the-determinant-of-a-matrix/"
      ]
    },
    {
      "cell_type": "markdown",
      "metadata": {
        "colab_type": "text",
        "id": "8aGG5d4HSauH"
      },
      "source": [
        "## 3.5 Inverse\n",
        "\n",
        " There are multiple methods that we could use to find the inverse of a matrix by hand. I would suggest you explore those methods --if this content isn't already overwhelming enough. The inverse is like the reciprocal of the matrix that was used to generate it. Just like $\\frac{1}{8}$ is the reciprocal of 8, $A^{-1}$ acts like the reciprocal of $A$.  The equation for finding the determinant of a 2x2 matrix is as follows:\n",
        " \n",
        " \\begin{align}\n",
        "A = \\begin{bmatrix}\n",
        "a & b \\\\\n",
        "c & d\n",
        "\\end{bmatrix}\n",
        "\\qquad\n",
        "A^{-1} = \\frac{1}{ad-bc}\\begin{bmatrix}\n",
        "d & -b\\\\\n",
        "-c & a\n",
        "\\end{bmatrix}\n",
        "\\end{align}"
      ]
    },
    {
      "cell_type": "code",
      "metadata": {
        "id": "94SnrVS3N1kZ",
        "colab_type": "code",
        "outputId": "e958cfbc-a546-4fa2-8cb1-67b9e55cae2c",
        "colab": {
          "base_uri": "https://localhost:8080/",
          "height": 111
        }
      },
      "source": [
        "# Display H as a matrix\n",
        "pd.DataFrame(H)"
      ],
      "execution_count": 0,
      "outputs": [
        {
          "output_type": "execute_result",
          "data": {
            "text/html": [
              "<div>\n",
              "<style scoped>\n",
              "    .dataframe tbody tr th:only-of-type {\n",
              "        vertical-align: middle;\n",
              "    }\n",
              "\n",
              "    .dataframe tbody tr th {\n",
              "        vertical-align: top;\n",
              "    }\n",
              "\n",
              "    .dataframe thead th {\n",
              "        text-align: right;\n",
              "    }\n",
              "</style>\n",
              "<table border=\"1\" class=\"dataframe\">\n",
              "  <thead>\n",
              "    <tr style=\"text-align: right;\">\n",
              "      <th></th>\n",
              "      <th>0</th>\n",
              "      <th>1</th>\n",
              "    </tr>\n",
              "  </thead>\n",
              "  <tbody>\n",
              "    <tr>\n",
              "      <th>0</th>\n",
              "      <td>4</td>\n",
              "      <td>6</td>\n",
              "    </tr>\n",
              "    <tr>\n",
              "      <th>1</th>\n",
              "      <td>3</td>\n",
              "      <td>0</td>\n",
              "    </tr>\n",
              "  </tbody>\n",
              "</table>\n",
              "</div>"
            ],
            "text/plain": [
              "   0  1\n",
              "0  4  6\n",
              "1  3  0"
            ]
          },
          "metadata": {
            "tags": []
          },
          "execution_count": 133
        }
      ]
    },
    {
      "cell_type": "code",
      "metadata": {
        "id": "4s5YmdgtN1kc",
        "colab_type": "code",
        "colab": {}
      },
      "source": [
        "# Inverse of matrix H\n",
        "H_inverse = np.linalg.inv(H)"
      ],
      "execution_count": 0,
      "outputs": []
    },
    {
      "cell_type": "code",
      "metadata": {
        "id": "k0EqDEWqt3BU",
        "colab_type": "code",
        "outputId": "6b204d0b-3cfe-41fe-b219-65bf85df509a",
        "colab": {
          "base_uri": "https://localhost:8080/",
          "height": 111
        }
      },
      "source": [
        "pd.DataFrame(H_inverse)"
      ],
      "execution_count": 0,
      "outputs": [
        {
          "output_type": "execute_result",
          "data": {
            "text/html": [
              "<div>\n",
              "<style scoped>\n",
              "    .dataframe tbody tr th:only-of-type {\n",
              "        vertical-align: middle;\n",
              "    }\n",
              "\n",
              "    .dataframe tbody tr th {\n",
              "        vertical-align: top;\n",
              "    }\n",
              "\n",
              "    .dataframe thead th {\n",
              "        text-align: right;\n",
              "    }\n",
              "</style>\n",
              "<table border=\"1\" class=\"dataframe\">\n",
              "  <thead>\n",
              "    <tr style=\"text-align: right;\">\n",
              "      <th></th>\n",
              "      <th>0</th>\n",
              "      <th>1</th>\n",
              "    </tr>\n",
              "  </thead>\n",
              "  <tbody>\n",
              "    <tr>\n",
              "      <th>0</th>\n",
              "      <td>0.000000</td>\n",
              "      <td>0.333333</td>\n",
              "    </tr>\n",
              "    <tr>\n",
              "      <th>1</th>\n",
              "      <td>0.166667</td>\n",
              "      <td>-0.222222</td>\n",
              "    </tr>\n",
              "  </tbody>\n",
              "</table>\n",
              "</div>"
            ],
            "text/plain": [
              "          0         1\n",
              "0  0.000000  0.333333\n",
              "1  0.166667 -0.222222"
            ]
          },
          "metadata": {
            "tags": []
          },
          "execution_count": 135
        }
      ]
    },
    {
      "cell_type": "markdown",
      "metadata": {
        "id": "ME_X2E7VN1kd",
        "colab_type": "text"
      },
      "source": [
        "The reciprocal of a number is simply to flip the numerator and denominator .   \n",
        "  \n",
        "$8^{-1}=\\frac{1}{8}$   \n",
        "\n",
        "\n",
        "$\\frac{8}{1} \\times \\frac{1}{8} = 1 $"
      ]
    },
    {
      "cell_type": "markdown",
      "metadata": {
        "colab_type": "text",
        "id": "tlOXGq4QMSZy"
      },
      "source": [
        " #### What happens if we multiply a matrix by its inverse?\n",
        "\n",
        "The product of a matrix multiplied by its inverse is the identity matrix of the same dimensions as the original matrix. There is no concept of \"matrix division\" in linear algebra, but multiplying a matrix by its inverse is very similar since $8\\times\\frac{1}{8} = 1$. \n",
        "\n",
        "\\begin{align}\n",
        "A^{-1}A = I \n",
        "\\end{align}\n"
      ]
    },
    {
      "cell_type": "code",
      "metadata": {
        "id": "L1QtW4ecN1ke",
        "colab_type": "code",
        "colab": {}
      },
      "source": [
        "# Create G Matrix\n",
        "G = np.array([[12, 11],\n",
        "              [7, 10]])"
      ],
      "execution_count": 0,
      "outputs": []
    },
    {
      "cell_type": "code",
      "metadata": {
        "id": "Et6Coh8eN1kf",
        "colab_type": "code",
        "outputId": "7f898c42-5dd0-4746-dcec-b7e0a7cba9ee",
        "colab": {
          "base_uri": "https://localhost:8080/",
          "height": 51
        }
      },
      "source": [
        "# Find inverse of G \n",
        "G_inverse = np.linalg.inv(G)\n",
        "G_inverse"
      ],
      "execution_count": 0,
      "outputs": [
        {
          "output_type": "execute_result",
          "data": {
            "text/plain": [
              "array([[ 0.23255814, -0.25581395],\n",
              "       [-0.1627907 ,  0.27906977]])"
            ]
          },
          "metadata": {
            "tags": []
          },
          "execution_count": 137
        }
      ]
    },
    {
      "cell_type": "code",
      "metadata": {
        "id": "9w3RhmTMN1kg",
        "colab_type": "code",
        "outputId": "f08eea07-4336-4620-bda9-8b3e6b17e8b4",
        "colab": {
          "base_uri": "https://localhost:8080/",
          "height": 51
        }
      },
      "source": [
        "# Find G * inverse of G\n",
        "np.matmul(G, G_inverse)"
      ],
      "execution_count": 0,
      "outputs": [
        {
          "output_type": "execute_result",
          "data": {
            "text/plain": [
              "array([[1.00000000e+00, 5.55111512e-16],\n",
              "       [2.22044605e-16, 1.00000000e+00]])"
            ]
          },
          "metadata": {
            "tags": []
          },
          "execution_count": 138
        }
      ]
    },
    {
      "cell_type": "markdown",
      "metadata": {
        "colab_type": "text",
        "id": "46cJIv0YL7Jp"
      },
      "source": [
        "#### Not all matrices are invertible\n",
        "\n",
        "Matrices that are not square are not invertible.\n",
        " \n",
        " A matrix is invertible if and only if its determinant is non-zero. You'll notice that the fraction on the left side of the matrix is $\\frac{1}{det(A)}$.\n",
        " \n",
        " As you know, dividing anything by 0 leads to an undefined quotient. Therefore, if the determinant of a matrix is 0, then the entire inverse becomes undefined. "
      ]
    },
    {
      "cell_type": "markdown",
      "metadata": {
        "colab_type": "text",
        "id": "Iq0TYH-jMBwK"
      },
      "source": [
        "#### What leads to a 0 determinant?\n",
        " \n",
        " A square matrix that has a determinant of 0 is known as a \"singular\" matrix. One thing that can lead to a matrix having a determinant of 0 is if two rows or columns in the matrix are perfectly collinear. Another way of saying this is that the determinant will be zero if the rows or columns of a matrix are not linearly dependent. \n",
        " \n",
        "One of the most common ways that a matrix can end up having rows that are linearly dependent is if one column a multiple of another column. Lets look at an example:\n",
        "\n",
        "\\begin{align}\n",
        "C =\\begin{bmatrix}\n",
        "  1 & 5 & 2 \\\\\n",
        "  2 & 7 & 4 \\\\\n",
        "  3 & 2 & 6\n",
        "\\end{bmatrix}\n",
        "\\end{align}\n",
        "\n",
        "Look at the columns of the above matrix, column 3 is exactly double column 1. (could be any multiple or fraction) Think about if you had some measure in a dataset of distance in miles, but then you also wanted to convert its units to feet, so you create another column and multiply the mile measure by 5,280 (Thanks Imperial System). But then you forget to drop one of the columns so you end up with two columns that are linearly dependent which causes the determinant of your dataframe to be 0 and will cause certain algorithms to fail. We'll go deeper into this concept next week (this can cause problems with linear regression) so just know that matrices that have columns that are a multiple or fraction of another column will cause the determinant of that matrix to be 0.\n",
        " \n",
        " For more details about when a matrix is invertible google the \"Invertible Matrix Theorem\" but be prepared for some heavy linear algebra jargon."
      ]
    }
  ]
}