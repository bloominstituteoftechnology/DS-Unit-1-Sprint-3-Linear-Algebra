{
  "nbformat": 4,
  "nbformat_minor": 0,
  "metadata": {
    "colab": {
      "name": "ERLE_GRANGERII_DS18_LS_DS_131_Vectors_and_Matrices_Assignment.ipynb",
      "provenance": [],
      "collapsed_sections": [],
      "include_colab_link": true
    },
    "kernelspec": {
      "name": "python3",
      "display_name": "Python 3"
    }
  },
  "cells": [
    {
      "cell_type": "markdown",
      "metadata": {
        "id": "view-in-github",
        "colab_type": "text"
      },
      "source": [
        "<a href=\"https://colab.research.google.com/github/ilEnzio/DS-Unit-1-Sprint-3-Linear-Algebra/blob/master/module1-vectors-and-matrices/ERLE_GRANGERII_DS18_LS_DS_131_Vectors_and_Matrices_Assignment.ipynb\" target=\"_parent\"><img src=\"https://colab.research.google.com/assets/colab-badge.svg\" alt=\"Open In Colab\"/></a>"
      ]
    },
    {
      "cell_type": "markdown",
      "metadata": {
        "id": "yXA3GwWhY9KL",
        "colab_type": "text"
      },
      "source": [
        "# Part 1 - Scalars and Vectors\n",
        "\n",
        "For the questions below it is not sufficient to simply provide answer to the questions, but you must solve the problems and show your work using python (the NumPy library will help a lot!) Translate the vectors and matrices into their appropriate python  representations and use numpy or functions that you write yourself to demonstrate the result or property. "
      ]
    },
    {
      "cell_type": "markdown",
      "metadata": {
        "id": "oNOTv43_Zi9L",
        "colab_type": "text"
      },
      "source": [
        "## 1.1 Create a two-dimensional vector and plot it on a graph"
      ]
    },
    {
      "cell_type": "code",
      "metadata": {
        "id": "XNqjzQzrkVG7",
        "colab_type": "code",
        "colab": {}
      },
      "source": [
        "import numpy as np\n",
        "import pandas as pd\n",
        "import matplotlib.pyplot as plt\n",
        "\n"
      ],
      "execution_count": 354,
      "outputs": []
    },
    {
      "cell_type": "code",
      "metadata": {
        "id": "0uhgJX2gv4cN",
        "colab_type": "code",
        "colab": {}
      },
      "source": [
        "#import random to generate randoom numbers\n",
        "from numpy import random"
      ],
      "execution_count": 359,
      "outputs": []
    },
    {
      "cell_type": "code",
      "metadata": {
        "id": "T_hx_-YYwE3d",
        "colab_type": "code",
        "colab": {}
      },
      "source": [
        ""
      ],
      "execution_count": null,
      "outputs": []
    },
    {
      "cell_type": "code",
      "metadata": {
        "id": "7cFwjasjvPZA",
        "colab_type": "code",
        "colab": {
          "base_uri": "https://localhost:8080/",
          "height": 35
        },
        "outputId": "763f035d-e23e-4898-d86b-476d3a67ca08"
      },
      "source": [
        "# generate a np array of 2 dimensions, where each value is a range from 0 to less than 5\n",
        "v1 = np.random.uniform(0,5, size=(2))\n",
        "v1"
      ],
      "execution_count": 360,
      "outputs": [
        {
          "output_type": "execute_result",
          "data": {
            "text/plain": [
              "array([2.95188111, 4.12142795])"
            ]
          },
          "metadata": {
            "tags": []
          },
          "execution_count": 360
        }
      ]
    },
    {
      "cell_type": "code",
      "metadata": {
        "id": "AOeel6Yiv1KA",
        "colab_type": "code",
        "colab": {
          "base_uri": "https://localhost:8080/",
          "height": 269
        },
        "outputId": "02ea0688-f0ba-47dd-d8bf-439fe27a6a44"
      },
      "source": [
        "# plot this \n",
        "plt.plot(v1)\n",
        "\n",
        "plt.xlim(-1,3)\n",
        "plt.ylim(-1,6)\n",
        "plt.show()"
      ],
      "execution_count": 361,
      "outputs": [
        {
          "output_type": "display_data",
          "data": {
            "image/png": "[encoded data removed]",
            "text/plain": [
              "<Figure size 432x288 with 1 Axes>"
            ]
          },
          "metadata": {
            "tags": [],
            "needs_background": "light"
          }
        }
      ]
    },
    {
      "cell_type": "code",
      "metadata": {
        "id": "2dkycacfz3bY",
        "colab_type": "code",
        "colab": {
          "base_uri": "https://localhost:8080/",
          "height": 281
        },
        "outputId": "922c5591-30f7-4d1c-b7e8-3ee5e8beda37"
      },
      "source": [
        "# second try\n",
        "\n",
        "plt.arrow(0,0, v1[0], v1[1], head_width=.1, head_length=.1, color =\"blue\")\n",
        "\n",
        "plt.xlim(-1, 6)\n",
        "plt.ylim(-1, 6)\n",
        "\n",
        "plt.title(\"Random Vector\")\n",
        "plt.show()"
      ],
      "execution_count": 363,
      "outputs": [
        {
          "output_type": "display_data",
          "data": {
            "image/png": "[encoded data removed]",
            "text/plain": [
              "<Figure size 432x288 with 1 Axes>"
            ]
          },
          "metadata": {
            "tags": [],
            "needs_background": "light"
          }
        }
      ]
    },
    {
      "cell_type": "code",
      "metadata": {
        "id": "V64K-0wJW51i",
        "colab_type": "code",
        "colab": {}
      },
      "source": [
        ""
      ],
      "execution_count": null,
      "outputs": []
    },
    {
      "cell_type": "markdown",
      "metadata": {
        "id": "unKFT619lk3e",
        "colab_type": "text"
      },
      "source": [
        "## 1.2 Create a three-dimensional vecor and plot it on a graph"
      ]
    },
    {
      "cell_type": "code",
      "metadata": {
        "id": "fHxnroM21tso",
        "colab_type": "code",
        "colab": {}
      },
      "source": [
        "from mpl_toolkits.mplot3d import Axes3D"
      ],
      "execution_count": 364,
      "outputs": []
    },
    {
      "cell_type": "code",
      "metadata": {
        "id": "1oU9zWkE1vn-",
        "colab_type": "code",
        "colab": {}
      },
      "source": [
        "# same as above but with 3 dimensions\n",
        "v2 =  np.random.uniform(0,2, size=(3))"
      ],
      "execution_count": 365,
      "outputs": []
    },
    {
      "cell_type": "code",
      "metadata": {
        "id": "7Do0HJ0M22Ti",
        "colab_type": "code",
        "colab": {
          "base_uri": "https://localhost:8080/",
          "height": 35
        },
        "outputId": "9981e485-df57-471c-814c-a6559544a1f4"
      },
      "source": [
        "v2"
      ],
      "execution_count": 366,
      "outputs": [
        {
          "output_type": "execute_result",
          "data": {
            "text/plain": [
              "array([1.4210242 , 1.91050846, 1.82007831])"
            ]
          },
          "metadata": {
            "tags": []
          },
          "execution_count": 366
        }
      ]
    },
    {
      "cell_type": "code",
      "metadata": {
        "id": "atUEd3T6llKm",
        "colab_type": "code",
        "colab": {
          "base_uri": "https://localhost:8080/",
          "height": 248
        },
        "outputId": "55939499-17a5-4aaa-9abc-0abe9236f284"
      },
      "source": [
        "# same as above but with 3 dimensions\n",
        "# incomplete... i\"m not happy with the lecture example...\n",
        "\n",
        "fig = plt.figure()\n",
        "ax = plt.axes( projection=\"3d\")\n",
        "\n",
        "ax.plot3D(v2,v2)\n",
        "\n",
        "\n",
        "# plot this \n",
        "\n",
        "\n",
        "\n",
        "\n",
        "\n",
        "plt.show()"
      ],
      "execution_count": 341,
      "outputs": [
        {
          "output_type": "display_data",
          "data": {
            "image/png": "[encoded data removed]",
            "text/plain": [
              "<Figure size 432x288 with 1 Axes>"
            ]
          },
          "metadata": {
            "tags": [],
            "needs_background": "light"
          }
        }
      ]
    },
    {
      "cell_type": "code",
      "metadata": {
        "id": "e_PIGMFainED",
        "colab_type": "code",
        "colab": {}
      },
      "source": [
        ""
      ],
      "execution_count": null,
      "outputs": []
    },
    {
      "cell_type": "code",
      "metadata": {
        "id": "zaXnaG6Eeebm",
        "colab_type": "code",
        "colab": {}
      },
      "source": [
        ""
      ],
      "execution_count": 342,
      "outputs": []
    },
    {
      "cell_type": "code",
      "metadata": {
        "id": "Stlkjf4UfAew",
        "colab_type": "code",
        "colab": {}
      },
      "source": [
        ""
      ],
      "execution_count": null,
      "outputs": []
    },
    {
      "cell_type": "code",
      "metadata": {
        "id": "ZCjwvQxVpIpn",
        "colab_type": "code",
        "colab": {
          "base_uri": "https://localhost:8080/",
          "height": 248
        },
        "outputId": "25f92750-c46d-495d-deda-18104f42d30f"
      },
      "source": [
        "# second try\n",
        "\n",
        "v2_3d = np.array([0,0,0, 1.52224198, 1.87940158, 0.81282529])\n",
        "# v2_3d\n",
        "X, Y, Z, U, V, W = v2_3d\n",
        "fig = plt.figure()\n",
        "ax = fig.add_subplot(111, projection='3d')\n",
        "ax.quiver(X, Y, Z, U, V, W, length=1)\n",
        "ax.set_xlim([-1, 3])\n",
        "ax.set_ylim([-1, 3])\n",
        "ax.set_zlim([-1, 1])\n",
        "ax.set_xlabel('X')\n",
        "ax.set_ylabel('Y')\n",
        "ax.set_zlabel('Z')\n",
        "plt.show()"
      ],
      "execution_count": 383,
      "outputs": [
        {
          "output_type": "display_data",
          "data": {
            "image/png": "[encoded data removed]",
            "text/plain": [
              "<Figure size 432x288 with 1 Axes>"
            ]
          },
          "metadata": {
            "tags": [],
            "needs_background": "light"
          }
        }
      ]
    },
    {
      "cell_type": "code",
      "metadata": {
        "id": "MVCw-60Boq6Y",
        "colab_type": "code",
        "colab": {}
      },
      "source": [
        ""
      ],
      "execution_count": null,
      "outputs": []
    },
    {
      "cell_type": "code",
      "metadata": {
        "id": "zXx8fCpvYgXM",
        "colab_type": "code",
        "colab": {}
      },
      "source": [
        ""
      ],
      "execution_count": null,
      "outputs": []
    },
    {
      "cell_type": "markdown",
      "metadata": {
        "id": "b7qFxbKxZmI2",
        "colab_type": "text"
      },
      "source": [
        "## 1.3 Scale the vectors you created in 1.1 by $5$, $\\pi$, and $-e$ and plot all four vectors (original + 3 scaled vectors) on a graph. What do you notice about these vectors? "
      ]
    },
    {
      "cell_type": "code",
      "metadata": {
        "id": "ah6zMSLJdJwL",
        "colab_type": "code",
        "colab": {
          "base_uri": "https://localhost:8080/",
          "height": 52
        },
        "outputId": "c9848389-8870-4012-f548-9d02f2a8d797"
      },
      "source": [
        "from math import e, pi\n",
        "print(e)\n",
        "print(pi)"
      ],
      "execution_count": 231,
      "outputs": [
        {
          "output_type": "stream",
          "text": [
            "2.718281828459045\n",
            "3.141592653589793\n"
          ],
          "name": "stdout"
        }
      ]
    },
    {
      "cell_type": "code",
      "metadata": {
        "id": "3qpwDlzXkVf5",
        "colab_type": "code",
        "colab": {}
      },
      "source": [
        "def scale_vector(vector, scalar):\n",
        "  new_vector = [x*scalar for x in vector]\n",
        "  return new_vector"
      ],
      "execution_count": 232,
      "outputs": []
    },
    {
      "cell_type": "code",
      "metadata": {
        "id": "iF5ZhIeu-t17",
        "colab_type": "code",
        "colab": {
          "base_uri": "https://localhost:8080/",
          "height": 69
        },
        "outputId": "f451d2a3-cd59-4bb2-b1ef-48dcee4c700b"
      },
      "source": [
        "print(scale_vector(v1, 5))\n",
        "print(scale_vector(v1, -e))\n",
        "print(scale_vector(v1, pi))"
      ],
      "execution_count": 233,
      "outputs": [
        {
          "output_type": "stream",
          "text": [
            "[5.0044772038702225, 16.854037186367986]\n",
            "[2.7207158888435914, 9.162804603975422]\n",
            "[3.144405763747256, 10.589703881604569]\n"
          ],
          "name": "stdout"
        }
      ]
    },
    {
      "cell_type": "code",
      "metadata": {
        "id": "xhOtlnEHAdpP",
        "colab_type": "code",
        "colab": {}
      },
      "source": [
        "v1_s_5 = scale_vector(v1, 5)\n",
        "v1_s_e = scale_vector(v1, -e)\n",
        "v1_s_pi = scale_vector(v1, pi)"
      ],
      "execution_count": 234,
      "outputs": []
    },
    {
      "cell_type": "code",
      "metadata": {
        "id": "BiQWq9NVAV5H",
        "colab_type": "code",
        "colab": {
          "base_uri": "https://localhost:8080/",
          "height": 281
        },
        "outputId": "3784a77c-84d7-44cc-864f-c8a654f68e1c"
      },
      "source": [
        "# plot 4 lines\n",
        "# I clearly don't understand the plotting lol wtf...\n",
        "# plt.plot(v1)\n",
        "# plt.plot(v1_s_5)\n",
        "# plt.plot(v1_s_e)\n",
        "# plt.plot(v1_s_pi)\n",
        "plt.arrow(0,0, v1[0], v1[1],head_width=.1, head_length=0.1, color ='red')\n",
        "plt.arrow(0,0, v1_s_5[0], v1_s_5[1],head_width=.1, head_length=0.1, color ='green')\n",
        "plt.arrow(0,0, v1_s_e[0], v1_s_e[1],head_width=.1, head_length=0.05, color ='blue')\n",
        "plt.arrow(0,0, v1_s_pi[0], v1_s_pi[1],head_width=.1, head_length=0.05, color ='orange')\n",
        "\n",
        "plt.xlim(-1,7)\n",
        "plt.ylim(-1,20)\n",
        "plt.title (\"Scaled Vectors\")\n",
        "plt.show()"
      ],
      "execution_count": 237,
      "outputs": [
        {
          "output_type": "display_data",
          "data": {
            "image/png": "[encoded data removed]",
            "text/plain": [
              "<Figure size 432x288 with 1 Axes>"
            ]
          },
          "metadata": {
            "tags": [],
            "needs_background": "light"
          }
        }
      ]
    },
    {
      "cell_type": "code",
      "metadata": {
        "id": "U1cGdb3Y_iJs",
        "colab_type": "code",
        "colab": {
          "base_uri": "https://localhost:8080/",
          "height": 69
        },
        "outputId": "86e6ff06-0de2-4596-a733-eb830b9d6474"
      },
      "source": [
        "print(scale_vector(v2, 5))\n",
        "print(scale_vector(v2, e))\n",
        "print(scale_vector(v2, pi))"
      ],
      "execution_count": 93,
      "outputs": [
        {
          "output_type": "stream",
          "text": [
            "[183.67347500679176, 143.88765692729402, 251.19341678210765]\n",
            "[99.85525389617773, 78.2254406330025, 136.56290005346852]\n",
            "[115.4054479481291, 90.40728118900707, 157.8294785585577]\n"
          ],
          "name": "stdout"
        }
      ]
    },
    {
      "cell_type": "code",
      "metadata": {
        "id": "1DIbCRO--0Oq",
        "colab_type": "code",
        "colab": {}
      },
      "source": [
        ""
      ],
      "execution_count": null,
      "outputs": []
    },
    {
      "cell_type": "code",
      "metadata": {
        "id": "kBn1gO5U9u9z",
        "colab_type": "code",
        "colab": {}
      },
      "source": [
        ""
      ],
      "execution_count": null,
      "outputs": []
    },
    {
      "cell_type": "code",
      "metadata": {
        "id": "zX6BMN4F9_XR",
        "colab_type": "code",
        "colab": {}
      },
      "source": [
        ""
      ],
      "execution_count": null,
      "outputs": []
    },
    {
      "cell_type": "markdown",
      "metadata": {
        "id": "wrgqa6sWimbH",
        "colab_type": "text"
      },
      "source": [
        "## 1.4 Graph vectors $\\vec{a}$ and $\\vec{b}$ and plot them on a graph\n",
        "\n",
        "\\begin{align}\n",
        "\\vec{a} = \\begin{bmatrix} 5 \\\\ 7 \\end{bmatrix}\n",
        "\\qquad\n",
        "\\vec{b} = \\begin{bmatrix} 3 \\\\4 \\end{bmatrix}\n",
        "\\end{align}"
      ]
    },
    {
      "cell_type": "code",
      "metadata": {
        "id": "I1BGXA_skV-b",
        "colab_type": "code",
        "colab": {
          "base_uri": "https://localhost:8080/",
          "height": 265
        },
        "outputId": "e1c8b285-524d-4953-e5c6-2aab43f7ddbd"
      },
      "source": [
        "# define the vectors\n",
        "a, b = [5,7], [3,4]\n",
        "\n",
        "plt.arrow(0,0, a[0], a[1],head_width=.05, head_length=0.05, color ='red')\n",
        "plt.arrow(0,0, b[0], b[1],head_width=.05, head_length=0.05, color ='green')\n",
        "\n",
        "\n",
        "plt.xlim(-1,7)\n",
        "plt.ylim(-1,9)\n",
        "\n",
        "plt.show()\n"
      ],
      "execution_count": 114,
      "outputs": [
        {
          "output_type": "display_data",
          "data": {
            "image/png": "[encoded data removed]",
            "text/plain": [
              "<Figure size 432x288 with 1 Axes>"
            ]
          },
          "metadata": {
            "tags": [],
            "needs_background": "light"
          }
        }
      ]
    },
    {
      "cell_type": "code",
      "metadata": {
        "id": "w0AIpbuyEXB5",
        "colab_type": "code",
        "colab": {}
      },
      "source": [
        ""
      ],
      "execution_count": null,
      "outputs": []
    },
    {
      "cell_type": "markdown",
      "metadata": {
        "id": "QN6RU_3gizpw",
        "colab_type": "text"
      },
      "source": [
        "## 1.5 find $\\vec{a} - \\vec{b}$ and plot the result on the same graph as $\\vec{a}$ and $\\vec{b}$. Is there a relationship between vectors $\\vec{a} \\thinspace, \\vec{b} \\thinspace \\text{and} \\thinspace \\vec{a-b}$"
      ]
    },
    {
      "cell_type": "code",
      "metadata": {
        "id": "68sWHIOPkXp5",
        "colab_type": "code",
        "colab": {}
      },
      "source": [
        "# convert lists to arrays\n",
        "a, b = np.array(a), np.array(b)\n"
      ],
      "execution_count": 118,
      "outputs": []
    },
    {
      "cell_type": "code",
      "metadata": {
        "id": "lMqwMEC4GGup",
        "colab_type": "code",
        "colab": {
          "base_uri": "https://localhost:8080/",
          "height": 52
        },
        "outputId": "08a0ac63-aa9a-4c54-9414-b362f8c2cf06"
      },
      "source": [
        "print(a)\n",
        "print(b)"
      ],
      "execution_count": 120,
      "outputs": [
        {
          "output_type": "stream",
          "text": [
            "[5 7]\n",
            "[3 4]\n"
          ],
          "name": "stdout"
        }
      ]
    },
    {
      "cell_type": "code",
      "metadata": {
        "id": "pXPeb7BaFwat",
        "colab_type": "code",
        "colab": {
          "base_uri": "https://localhost:8080/",
          "height": 35
        },
        "outputId": "35139670-ba4e-4722-8775-87b482076508"
      },
      "source": [
        "# vector substraction\n",
        "c = a - b\n",
        "c"
      ],
      "execution_count": 119,
      "outputs": [
        {
          "output_type": "execute_result",
          "data": {
            "text/plain": [
              "array([2, 3])"
            ]
          },
          "metadata": {
            "tags": []
          },
          "execution_count": 119
        }
      ]
    },
    {
      "cell_type": "code",
      "metadata": {
        "id": "SN8mYDIKGE2H",
        "colab_type": "code",
        "colab": {
          "base_uri": "https://localhost:8080/",
          "height": 265
        },
        "outputId": "6c0d290d-e57c-4813-90a9-c58082142c49"
      },
      "source": [
        "# plot all three\n",
        "\n",
        "plt.arrow(0,0, a[0], a[1],head_width=.05, head_length=0.05, color ='red')\n",
        "plt.arrow(0,0 , b[0], b[1],head_width=.05, head_length=0.05, color ='green')\n",
        "plt.arrow(b[0],b[1], c[0], c[1],head_width=.05, head_length=0.05, color ='blue')\n",
        "\n",
        "plt.xlim(-1,7)\n",
        "plt.ylim(-1,9)\n",
        "\n",
        "plt.show()\n",
        "# yes if I connect the tail of c to the head of b, I will connect to the head of \n",
        "# a "
      ],
      "execution_count": 127,
      "outputs": [
        {
          "output_type": "display_data",
          "data": {
            "image/png": "[encoded data removed]",
            "text/plain": [
              "<Figure size 432x288 with 1 Axes>"
            ]
          },
          "metadata": {
            "tags": [],
            "needs_background": "light"
          }
        }
      ]
    },
    {
      "cell_type": "code",
      "metadata": {
        "id": "RgimVCP9Gbks",
        "colab_type": "code",
        "colab": {}
      },
      "source": [
        ""
      ],
      "execution_count": null,
      "outputs": []
    },
    {
      "cell_type": "code",
      "metadata": {
        "id": "LEvUcq1qEsKe",
        "colab_type": "code",
        "colab": {}
      },
      "source": [
        ""
      ],
      "execution_count": null,
      "outputs": []
    },
    {
      "cell_type": "markdown",
      "metadata": {
        "id": "1ZPVuJAlehu_",
        "colab_type": "text"
      },
      "source": [
        "## 1.6 Find $c \\cdot d$\n",
        "\n",
        "\\begin{align}\n",
        "\\vec{c} = \\begin{bmatrix}7 & 22 & 4 & 16\\end{bmatrix}\n",
        "\\qquad\n",
        "\\vec{d} = \\begin{bmatrix}12 & 6 & 2 & 9\\end{bmatrix}\n",
        "\\end{align}\n"
      ]
    },
    {
      "cell_type": "code",
      "metadata": {
        "id": "2_cZQFCskYNr",
        "colab_type": "code",
        "colab": {}
      },
      "source": [
        "# dot product of vectors c and d\n",
        "# I'll just write a function for practice\n",
        "c, d = np.array([7, 22, 4, 16]), np.array([12, 6, 2, 9])"
      ],
      "execution_count": 128,
      "outputs": []
    },
    {
      "cell_type": "code",
      "metadata": {
        "id": "hUj7U1sqMfOx",
        "colab_type": "code",
        "colab": {
          "base_uri": "https://localhost:8080/",
          "height": 52
        },
        "outputId": "4e541e8c-5563-416b-f1dd-6e5cb6df54bf"
      },
      "source": [
        "print(c)\n",
        "print(d)"
      ],
      "execution_count": 129,
      "outputs": [
        {
          "output_type": "stream",
          "text": [
            "[ 7 22  4 16]\n",
            "[12  6  2  9]\n"
          ],
          "name": "stdout"
        }
      ]
    },
    {
      "cell_type": "code",
      "metadata": {
        "id": "7_KgRvACMscF",
        "colab_type": "code",
        "colab": {}
      },
      "source": [
        "def dot_product(v1, v2):\n",
        "  dprod = np.array([v1*v2]).sum()\n",
        "  return dprod "
      ],
      "execution_count": 134,
      "outputs": []
    },
    {
      "cell_type": "code",
      "metadata": {
        "id": "p4JSk5yPNESd",
        "colab_type": "code",
        "colab": {
          "base_uri": "https://localhost:8080/",
          "height": 35
        },
        "outputId": "3ef5fb9a-c179-4a1b-d4f5-44d3e983c3c7"
      },
      "source": [
        "dot_product(c,d)"
      ],
      "execution_count": 136,
      "outputs": [
        {
          "output_type": "execute_result",
          "data": {
            "text/plain": [
              "368"
            ]
          },
          "metadata": {
            "tags": []
          },
          "execution_count": 136
        }
      ]
    },
    {
      "cell_type": "code",
      "metadata": {
        "id": "cBMvhR1INkOW",
        "colab_type": "code",
        "colab": {
          "base_uri": "https://localhost:8080/",
          "height": 35
        },
        "outputId": "b1e99f7d-ec13-458b-9496-830e042ce42c"
      },
      "source": [
        "# built in dot product function\n",
        "np.vdot(c, d)"
      ],
      "execution_count": 142,
      "outputs": [
        {
          "output_type": "execute_result",
          "data": {
            "text/plain": [
              "368"
            ]
          },
          "metadata": {
            "tags": []
          },
          "execution_count": 142
        }
      ]
    },
    {
      "cell_type": "code",
      "metadata": {
        "id": "OffOEewHOPWo",
        "colab_type": "code",
        "colab": {}
      },
      "source": [
        ""
      ],
      "execution_count": null,
      "outputs": []
    },
    {
      "cell_type": "code",
      "metadata": {
        "id": "9O71HeWXNHIq",
        "colab_type": "code",
        "colab": {}
      },
      "source": [
        ""
      ],
      "execution_count": null,
      "outputs": []
    },
    {
      "cell_type": "markdown",
      "metadata": {
        "id": "cLm8yokpfg9B",
        "colab_type": "text"
      },
      "source": [
        "##  1.7 Find $e \\times f$\n",
        "\n",
        "\\begin{align}\n",
        "\\vec{e} = \\begin{bmatrix} 5 \\\\ 7 \\\\ 2 \\end{bmatrix}\n",
        "\\qquad\n",
        "\\vec{f} = \\begin{bmatrix} 3 \\\\4 \\\\ 6 \\end{bmatrix}\n",
        "\\end{align}"
      ]
    },
    {
      "cell_type": "code",
      "metadata": {
        "id": "ku-TdCKAkYs8",
        "colab_type": "code",
        "colab": {}
      },
      "source": [
        "# I don't know the actual procedure for the cross product so I'll use the built\n",
        "# in function until later.  \n",
        "e, f = np.array([5, 7,2 ]), np.array([3, 4,6 ])"
      ],
      "execution_count": 140,
      "outputs": []
    },
    {
      "cell_type": "code",
      "metadata": {
        "id": "nQpojnmlO0Dz",
        "colab_type": "code",
        "colab": {
          "base_uri": "https://localhost:8080/",
          "height": 52
        },
        "outputId": "3f78beda-550d-447c-c901-f3da33e6f507"
      },
      "source": [
        "print(e)\n",
        "print(f)"
      ],
      "execution_count": 141,
      "outputs": [
        {
          "output_type": "stream",
          "text": [
            "[5 7 2]\n",
            "[3 4 6]\n"
          ],
          "name": "stdout"
        }
      ]
    },
    {
      "cell_type": "code",
      "metadata": {
        "id": "cqubFxvuO4o6",
        "colab_type": "code",
        "colab": {
          "base_uri": "https://localhost:8080/",
          "height": 35
        },
        "outputId": "a8075fc9-d700-4cee-c76d-03a7fb82493f"
      },
      "source": [
        "np.cross(e,f)"
      ],
      "execution_count": 143,
      "outputs": [
        {
          "output_type": "execute_result",
          "data": {
            "text/plain": [
              "array([ 34, -24,  -1])"
            ]
          },
          "metadata": {
            "tags": []
          },
          "execution_count": 143
        }
      ]
    },
    {
      "cell_type": "code",
      "metadata": {
        "id": "k1IenxQ3Ppfz",
        "colab_type": "code",
        "colab": {}
      },
      "source": [
        "# this is s vector which is orthogonal to the other plane created by the other vectors"
      ],
      "execution_count": null,
      "outputs": []
    },
    {
      "cell_type": "markdown",
      "metadata": {
        "id": "-TN8wO2-h53s",
        "colab_type": "text"
      },
      "source": [
        "## 1.8 Find $||g||$ and then find $||h||$. Which is longer?\n",
        "\n",
        "\\begin{align}\n",
        "\\vec{g} = \\begin{bmatrix} 1 \\\\ 1 \\\\ 1 \\\\ 8 \\end{bmatrix}\n",
        "\\qquad\n",
        "\\vec{h} = \\begin{bmatrix} 3 \\\\3 \\\\ 3 \\\\ 3 \\end{bmatrix}\n",
        "\\end{align}"
      ]
    },
    {
      "cell_type": "code",
      "metadata": {
        "id": "-cLYYBHtRV1B",
        "colab_type": "code",
        "colab": {}
      },
      "source": [
        "g, h = np.array([1, 1,1, 8 ]), np.array([3, 3,3,3 ])"
      ],
      "execution_count": 146,
      "outputs": []
    },
    {
      "cell_type": "code",
      "metadata": {
        "id": "frBKOdmySG2t",
        "colab_type": "code",
        "colab": {}
      },
      "source": [
        "import math # squareroot without math = **.5"
      ],
      "execution_count": 153,
      "outputs": []
    },
    {
      "cell_type": "code",
      "metadata": {
        "id": "M0g4zbYcOzJr",
        "colab_type": "code",
        "colab": {}
      },
      "source": [
        "# find the length or magnitude of g and h:\n",
        "# think I can write a function \n",
        "def vector_norm(vector):\n",
        "  values = []\n",
        "  for i in vector:\n",
        "    values.append(i**2)\n",
        "  v_sum = sum(values)\n",
        "  return math.sqrt(v_sum)\n"
      ],
      "execution_count": 156,
      "outputs": []
    },
    {
      "cell_type": "code",
      "metadata": {
        "id": "-5VKOMKBlgaA",
        "colab_type": "code",
        "colab": {
          "base_uri": "https://localhost:8080/",
          "height": 52
        },
        "outputId": "d79fe386-8c43-448e-9437-6bf18c9967ce"
      },
      "source": [
        "print(vector_norm(g))\n",
        "print(vector_norm(h))\n"
      ],
      "execution_count": 157,
      "outputs": [
        {
          "output_type": "stream",
          "text": [
            "8.18535277187245\n",
            "6.0\n"
          ],
          "name": "stdout"
        }
      ]
    },
    {
      "cell_type": "code",
      "metadata": {
        "id": "PlX0hCOQSUt8",
        "colab_type": "code",
        "colab": {}
      },
      "source": [
        "# according to my home made function g has a greater magnitude than h\n",
        "# now lets try the built in"
      ],
      "execution_count": 158,
      "outputs": []
    },
    {
      "cell_type": "code",
      "metadata": {
        "id": "qSNkG-PkRSr2",
        "colab_type": "code",
        "colab": {
          "base_uri": "https://localhost:8080/",
          "height": 52
        },
        "outputId": "459e6f3c-dbac-42f3-be96-1d988e40b274"
      },
      "source": [
        "print(np.linalg.norm(g))\n",
        "print(np.linalg.norm(h))"
      ],
      "execution_count": 159,
      "outputs": [
        {
          "output_type": "stream",
          "text": [
            "8.18535277187245\n",
            "6.0\n"
          ],
          "name": "stdout"
        }
      ]
    },
    {
      "cell_type": "code",
      "metadata": {
        "id": "FEXRJ6TaTKKF",
        "colab_type": "code",
        "colab": {}
      },
      "source": [
        "# they match! phew!"
      ],
      "execution_count": null,
      "outputs": []
    },
    {
      "cell_type": "markdown",
      "metadata": {
        "id": "njrWIMS-ZAoH",
        "colab_type": "text"
      },
      "source": [
        "# Part 2 - Matrices"
      ]
    },
    {
      "cell_type": "markdown",
      "metadata": {
        "id": "GjkcAVIOmOnn",
        "colab_type": "text"
      },
      "source": [
        "## 2.1 What are the dimensions of the following matrices? Which of the following can be multiplied together? See if you can find all of the different legal combinations.\n",
        "\\begin{align}\n",
        "A = \\begin{bmatrix}\n",
        "1 & 2 \\\\\n",
        "3 & 4 \\\\\n",
        "5 & 6\n",
        "\\end{bmatrix}\n",
        "\\qquad\n",
        "B = \\begin{bmatrix}\n",
        "2 & 4 & 6 \\\\\n",
        "\\end{bmatrix}\n",
        "\\qquad\n",
        "C = \\begin{bmatrix}\n",
        "9 & 6 & 3 \\\\\n",
        "4 & 7 & 11\n",
        "\\end{bmatrix}\n",
        "\\qquad\n",
        "D = \\begin{bmatrix}\n",
        "1 & 0 & 0 \\\\\n",
        "0 & 1 & 0 \\\\\n",
        "0 & 0 & 1\n",
        "\\end{bmatrix}\n",
        "\\qquad\n",
        "E = \\begin{bmatrix}\n",
        "1 & 3 \\\\\n",
        "5 & 7\n",
        "\\end{bmatrix}\n",
        "\\end{align}"
      ]
    },
    {
      "cell_type": "code",
      "metadata": {
        "id": "Z69c-uPtnbIx",
        "colab_type": "code",
        "colab": {}
      },
      "source": [
        "# function to display matrix dimensions\n",
        "A = np.array([[1, 2],[3, 4],[5,6]] )\n",
        "B = np.array([[2, 4, 6]]) # ?? \n",
        "C = np.array([[9,6,3], [4,7,11]])\n",
        "D = np.array([[1, 0, 0], [0, 1, 0], [0,0,1]])\n",
        "E = np.array([[1, 3], [5,7]])"
      ],
      "execution_count": 246,
      "outputs": []
    },
    {
      "cell_type": "code",
      "metadata": {
        "id": "_RnepgZtwRrg",
        "colab_type": "code",
        "colab": {
          "base_uri": "https://localhost:8080/",
          "height": 35
        },
        "outputId": "961b2e82-fd13-4faa-c841-9fcb2c1227ae"
      },
      "source": [
        "B.shape"
      ],
      "execution_count": 248,
      "outputs": [
        {
          "output_type": "execute_result",
          "data": {
            "text/plain": [
              "(1, 3)"
            ]
          },
          "metadata": {
            "tags": []
          },
          "execution_count": 248
        }
      ]
    },
    {
      "cell_type": "code",
      "metadata": {
        "id": "FFl-3GNjwTgR",
        "colab_type": "code",
        "colab": {}
      },
      "source": [
        "# "
      ],
      "execution_count": null,
      "outputs": []
    },
    {
      "cell_type": "code",
      "metadata": {
        "id": "JfsEELlCVjL9",
        "colab_type": "code",
        "colab": {}
      },
      "source": [
        "# the dimensions of a matrix are basically it's shape\n",
        "def get_dimensions(np_array):\n",
        "  x = np_array.shape[0]\n",
        "  # might be uncessary now..\n",
        "  if len(np_array.shape) == 1:\n",
        "    y = 0 \n",
        "  else:\n",
        "    y = np_array.shape[1]\n",
        "  print(\"The Dimensions of the array are:\")\n",
        "  print(f\"{x} rows, {y} columns\")"
      ],
      "execution_count": 249,
      "outputs": []
    },
    {
      "cell_type": "code",
      "metadata": {
        "id": "FHOqguWRWW9v",
        "colab_type": "code",
        "colab": {
          "base_uri": "https://localhost:8080/",
          "height": 190
        },
        "outputId": "934ffa7d-0a06-45a7-fcab-0180e588aa19"
      },
      "source": [
        "get_dimensions(A)\n",
        "get_dimensions(B) \n",
        "# 1 row, 3 columns? having a problem when\n",
        "get_dimensions(C)\n",
        "get_dimensions(D)\n",
        "get_dimensions(E)"
      ],
      "execution_count": 250,
      "outputs": [
        {
          "output_type": "stream",
          "text": [
            "The Dimensions of the array are:\n",
            "3 rows, 2 columns\n",
            "The Dimensions of the array are:\n",
            "1 rows, 3 columns\n",
            "The Dimensions of the array are:\n",
            "2 rows, 3 columns\n",
            "The Dimensions of the array are:\n",
            "3 rows, 3 columns\n",
            "The Dimensions of the array are:\n",
            "2 rows, 2 columns\n"
          ],
          "name": "stdout"
        }
      ]
    },
    {
      "cell_type": "code",
      "metadata": {
        "id": "n1ghZAxkWfVE",
        "colab_type": "code",
        "colab": {}
      },
      "source": [
        "# function to legal matrix multiplication\n",
        "# blank(m1, m1) for x \n",
        "# ml1 equal list for matrix\n",
        "# ml2\n",
        "def determine_multiplication(matrix_list1, matrix_list2):\n",
        "\n",
        "  for i in matrix_list1:\n",
        "    for j in matrix_list2: \n",
        "      if i.any == j.any:\n",
        "        continue\n",
        "      if i.shape[1] == j.shape[0]:\n",
        "        print(f\"Multiplicaton between\\n {i}\\n and \\n{j} is legal.\")\n",
        "      else:\n",
        "        print(f\"Multiplication between\\n {i}\\n and \\n{j} is illegal.\")\n"
      ],
      "execution_count": 270,
      "outputs": []
    },
    {
      "cell_type": "code",
      "metadata": {
        "id": "mrs8W44tVlEF",
        "colab_type": "code",
        "colab": {}
      },
      "source": [
        "matrix_l1 = [A, B, C, D, E]\n",
        "matrix_l2 = [A, B, C, D, E]\n",
        "# if I have time I should make this into a dictionary that way I might be able\n",
        "# keep track of these variables by key.  \n",
        "# that would make my output way cleaner.\n",
        "\n"
      ],
      "execution_count": 266,
      "outputs": []
    },
    {
      "cell_type": "code",
      "metadata": {
        "id": "SJNPTl-BFnGL",
        "colab_type": "code",
        "colab": {
          "base_uri": "https://localhost:8080/",
          "height": 1000
        },
        "outputId": "ca103a91-0889-472c-b0ab-df4f6bc62e1b"
      },
      "source": [
        "determine_multiplication(matrix_l1, matrix_l2)"
      ],
      "execution_count": 271,
      "outputs": [
        {
          "output_type": "stream",
          "text": [
            "Multiplication between\n",
            " [[1 2]\n",
            " [3 4]\n",
            " [5 6]]\n",
            " and \n",
            "[[2 4 6]] is illegal.\n",
            "Multiplicaton between\n",
            " [[1 2]\n",
            " [3 4]\n",
            " [5 6]]\n",
            " and \n",
            "[[ 9  6  3]\n",
            " [ 4  7 11]] is legal.\n",
            "Multiplication between\n",
            " [[1 2]\n",
            " [3 4]\n",
            " [5 6]]\n",
            " and \n",
            "[[1 0 0]\n",
            " [0 1 0]\n",
            " [0 0 1]] is illegal.\n",
            "Multiplicaton between\n",
            " [[1 2]\n",
            " [3 4]\n",
            " [5 6]]\n",
            " and \n",
            "[[1 3]\n",
            " [5 7]] is legal.\n",
            "Multiplicaton between\n",
            " [[2 4 6]]\n",
            " and \n",
            "[[1 2]\n",
            " [3 4]\n",
            " [5 6]] is legal.\n",
            "Multiplication between\n",
            " [[2 4 6]]\n",
            " and \n",
            "[[ 9  6  3]\n",
            " [ 4  7 11]] is illegal.\n",
            "Multiplicaton between\n",
            " [[2 4 6]]\n",
            " and \n",
            "[[1 0 0]\n",
            " [0 1 0]\n",
            " [0 0 1]] is legal.\n",
            "Multiplication between\n",
            " [[2 4 6]]\n",
            " and \n",
            "[[1 3]\n",
            " [5 7]] is illegal.\n",
            "Multiplicaton between\n",
            " [[ 9  6  3]\n",
            " [ 4  7 11]]\n",
            " and \n",
            "[[1 2]\n",
            " [3 4]\n",
            " [5 6]] is legal.\n",
            "Multiplication between\n",
            " [[ 9  6  3]\n",
            " [ 4  7 11]]\n",
            " and \n",
            "[[2 4 6]] is illegal.\n",
            "Multiplicaton between\n",
            " [[ 9  6  3]\n",
            " [ 4  7 11]]\n",
            " and \n",
            "[[1 0 0]\n",
            " [0 1 0]\n",
            " [0 0 1]] is legal.\n",
            "Multiplication between\n",
            " [[ 9  6  3]\n",
            " [ 4  7 11]]\n",
            " and \n",
            "[[1 3]\n",
            " [5 7]] is illegal.\n",
            "Multiplicaton between\n",
            " [[1 0 0]\n",
            " [0 1 0]\n",
            " [0 0 1]]\n",
            " and \n",
            "[[1 2]\n",
            " [3 4]\n",
            " [5 6]] is legal.\n",
            "Multiplication between\n",
            " [[1 0 0]\n",
            " [0 1 0]\n",
            " [0 0 1]]\n",
            " and \n",
            "[[2 4 6]] is illegal.\n",
            "Multiplication between\n",
            " [[1 0 0]\n",
            " [0 1 0]\n",
            " [0 0 1]]\n",
            " and \n",
            "[[ 9  6  3]\n",
            " [ 4  7 11]] is illegal.\n",
            "Multiplication between\n",
            " [[1 0 0]\n",
            " [0 1 0]\n",
            " [0 0 1]]\n",
            " and \n",
            "[[1 3]\n",
            " [5 7]] is illegal.\n",
            "Multiplication between\n",
            " [[1 3]\n",
            " [5 7]]\n",
            " and \n",
            "[[1 2]\n",
            " [3 4]\n",
            " [5 6]] is illegal.\n",
            "Multiplication between\n",
            " [[1 3]\n",
            " [5 7]]\n",
            " and \n",
            "[[2 4 6]] is illegal.\n",
            "Multiplicaton between\n",
            " [[1 3]\n",
            " [5 7]]\n",
            " and \n",
            "[[ 9  6  3]\n",
            " [ 4  7 11]] is legal.\n",
            "Multiplication between\n",
            " [[1 3]\n",
            " [5 7]]\n",
            " and \n",
            "[[1 0 0]\n",
            " [0 1 0]\n",
            " [0 0 1]] is illegal.\n"
          ],
          "name": "stdout"
        }
      ]
    },
    {
      "cell_type": "code",
      "metadata": {
        "id": "3MIS1gnjVp4c",
        "colab_type": "code",
        "colab": {}
      },
      "source": [
        "# I think BA  will yield a matrix  of 1, 2\n",
        "# AC will yield a matrix of 3, 3\n",
        "# AE will yield a matrix of 3, 2\n",
        "# CD will yield a matrix of 2, 3\n",
        "# CA will yield a matrix of 2, 2\n",
        "# DA will yield a matrix of 3, 2\n",
        "# I stopped doing it manually once I wrote the function.  I wish I could get\n"
      ],
      "execution_count": 272,
      "outputs": []
    },
    {
      "cell_type": "code",
      "metadata": {
        "id": "XjVCKW-1VIUb",
        "colab_type": "code",
        "colab": {}
      },
      "source": [
        ""
      ],
      "execution_count": null,
      "outputs": []
    },
    {
      "cell_type": "code",
      "metadata": {
        "id": "KoLOPqGGVRQ_",
        "colab_type": "code",
        "colab": {}
      },
      "source": [
        ""
      ],
      "execution_count": null,
      "outputs": []
    },
    {
      "cell_type": "code",
      "metadata": {
        "id": "vGGaQEH5UV5A",
        "colab_type": "code",
        "colab": {}
      },
      "source": [
        ""
      ],
      "execution_count": null,
      "outputs": []
    },
    {
      "cell_type": "markdown",
      "metadata": {
        "id": "lMOlCoM3ncGa",
        "colab_type": "text"
      },
      "source": [
        "## 2.2 Find the following products: CD, AE, and BA. What are the dimensions of the resulting matrices? How does that relate to the dimensions of their factor matrices?"
      ]
    },
    {
      "cell_type": "code",
      "metadata": {
        "id": "zhKwiSItoE2F",
        "colab_type": "code",
        "colab": {
          "base_uri": "https://localhost:8080/",
          "height": 52
        },
        "outputId": "d9f7675b-48cd-4410-8b72-abb22f7aebe1"
      },
      "source": [
        "# I think I will just use matmul\n",
        "np.matmul(C,D)"
      ],
      "execution_count": 273,
      "outputs": [
        {
          "output_type": "execute_result",
          "data": {
            "text/plain": [
              "array([[ 9,  6,  3],\n",
              "       [ 4,  7, 11]])"
            ]
          },
          "metadata": {
            "tags": []
          },
          "execution_count": 273
        }
      ]
    },
    {
      "cell_type": "code",
      "metadata": {
        "id": "imMj_FY7IyU4",
        "colab_type": "code",
        "colab": {}
      },
      "source": [
        "# the first matrix had 2 rows and the second matrix had 3 columns."
      ],
      "execution_count": 274,
      "outputs": []
    },
    {
      "cell_type": "code",
      "metadata": {
        "id": "K--ZCSa_JRVC",
        "colab_type": "code",
        "colab": {
          "base_uri": "https://localhost:8080/",
          "height": 69
        },
        "outputId": "09024975-c1fd-4d1b-81c2-7253a0c70565"
      },
      "source": [
        "np.matmul(A,E)"
      ],
      "execution_count": 275,
      "outputs": [
        {
          "output_type": "execute_result",
          "data": {
            "text/plain": [
              "array([[11, 17],\n",
              "       [23, 37],\n",
              "       [35, 57]])"
            ]
          },
          "metadata": {
            "tags": []
          },
          "execution_count": 275
        }
      ]
    },
    {
      "cell_type": "code",
      "metadata": {
        "id": "-p68j4_6JWkr",
        "colab_type": "code",
        "colab": {}
      },
      "source": [
        "# the first matrix had 3 rows and the second matrix had 2 columns."
      ],
      "execution_count": 276,
      "outputs": []
    },
    {
      "cell_type": "code",
      "metadata": {
        "id": "manyLowaJkzP",
        "colab_type": "code",
        "colab": {
          "base_uri": "https://localhost:8080/",
          "height": 35
        },
        "outputId": "35a9f7a4-85b1-463d-d5c0-405eee4dfeed"
      },
      "source": [
        "np.matmul(B, A)"
      ],
      "execution_count": 277,
      "outputs": [
        {
          "output_type": "execute_result",
          "data": {
            "text/plain": [
              "array([[44, 56]])"
            ]
          },
          "metadata": {
            "tags": []
          },
          "execution_count": 277
        }
      ]
    },
    {
      "cell_type": "code",
      "metadata": {
        "id": "uIUumwmYJo03",
        "colab_type": "code",
        "colab": {}
      },
      "source": [
        ""
      ],
      "execution_count": null,
      "outputs": []
    },
    {
      "cell_type": "markdown",
      "metadata": {
        "id": "p2jmaGLgoFPN",
        "colab_type": "text"
      },
      "source": [
        "## 2.3  Find $F^{T}$. How are the numbers along the main diagonal (top left to bottom right) of the original matrix and its transpose related? What are the dimensions of $F$? What are the dimensions of $F^{T}$?\n",
        "\n",
        "\\begin{align}\n",
        "F = \n",
        "\\begin{bmatrix}\n",
        "20 & 19 & 18 & 17 \\\\\n",
        "16 & 15 & 14 & 13 \\\\\n",
        "12 & 11 & 10 & 9 \\\\\n",
        "8 & 7 & 6 & 5 \\\\\n",
        "4 & 3 & 2 & 1\n",
        "\\end{bmatrix}\n",
        "\\end{align}"
      ]
    },
    {
      "cell_type": "code",
      "metadata": {
        "id": "Wl3ElwgLqaAn",
        "colab_type": "code",
        "colab": {
          "base_uri": "https://localhost:8080/",
          "height": 104
        },
        "outputId": "38165c04-b65b-4675-8c91-a2f32b9bbb08"
      },
      "source": [
        "F = np.array([[20, 19, 18, 17], [16, 15, 14, 13], [12, 11, 10, 9], [8, 7, 6, 5], [4, 3, 2, 1]])\n",
        "F"
      ],
      "execution_count": 278,
      "outputs": [
        {
          "output_type": "execute_result",
          "data": {
            "text/plain": [
              "array([[20, 19, 18, 17],\n",
              "       [16, 15, 14, 13],\n",
              "       [12, 11, 10,  9],\n",
              "       [ 8,  7,  6,  5],\n",
              "       [ 4,  3,  2,  1]])"
            ]
          },
          "metadata": {
            "tags": []
          },
          "execution_count": 278
        }
      ]
    },
    {
      "cell_type": "code",
      "metadata": {
        "id": "a8wWq4USKdJI",
        "colab_type": "code",
        "colab": {
          "base_uri": "https://localhost:8080/",
          "height": 86
        },
        "outputId": "381beba3-de45-4aa0-83fe-ef4b795f6460"
      },
      "source": [
        "F.T"
      ],
      "execution_count": 279,
      "outputs": [
        {
          "output_type": "execute_result",
          "data": {
            "text/plain": [
              "array([[20, 16, 12,  8,  4],\n",
              "       [19, 15, 11,  7,  3],\n",
              "       [18, 14, 10,  6,  2],\n",
              "       [17, 13,  9,  5,  1]])"
            ]
          },
          "metadata": {
            "tags": []
          },
          "execution_count": 279
        }
      ]
    },
    {
      "cell_type": "code",
      "metadata": {
        "id": "vsLIjf0QKfdg",
        "colab_type": "code",
        "colab": {
          "base_uri": "https://localhost:8080/",
          "height": 86
        },
        "outputId": "4c5ff789-718d-47bf-862f-5890649ba2e9"
      },
      "source": [
        "# the number along the main diagonal remain the same. \n",
        "get_dimensions(F)\n",
        "get_dimensions(F.T)"
      ],
      "execution_count": 281,
      "outputs": [
        {
          "output_type": "stream",
          "text": [
            "The Dimensions of the array are:\n",
            "5 rows, 4 columns\n",
            "The Dimensions of the array are:\n",
            "4 rows, 5 columns\n"
          ],
          "name": "stdout"
        }
      ]
    },
    {
      "cell_type": "code",
      "metadata": {
        "id": "nBK1evA2K3pd",
        "colab_type": "code",
        "colab": {}
      },
      "source": [
        ""
      ],
      "execution_count": null,
      "outputs": []
    },
    {
      "cell_type": "markdown",
      "metadata": {
        "id": "13ik2LEEZLHn",
        "colab_type": "text"
      },
      "source": [
        "# Part 3 - Square Matrices"
      ]
    },
    {
      "cell_type": "markdown",
      "metadata": {
        "id": "sDBAPUwfp7f7",
        "colab_type": "text"
      },
      "source": [
        "## 3.1 Find $IG$ (be sure to show your work) 😃\n",
        "\n",
        "You don't have to do anything crazy complicated here to show your work, just create the G matrix as specified below, and a corresponding 2x2 Identity matrix and then multiply them together to show the result. You don't need to write LaTeX or anything like that (unless you want to).\n",
        "\n",
        "\\begin{align}\n",
        "G= \n",
        "\\begin{bmatrix}\n",
        "13 & 14 \\\\\n",
        "21 & 12 \n",
        "\\end{bmatrix}\n",
        "\\end{align}"
      ]
    },
    {
      "cell_type": "code",
      "metadata": {
        "id": "ZnqvZBOYqar3",
        "colab_type": "code",
        "colab": {
          "base_uri": "https://localhost:8080/",
          "height": 52
        },
        "outputId": "9a46968a-3903-4a10-ac02-cf9f4f900e26"
      },
      "source": [
        "G = np.array([[13,14], [21,12]])\n",
        "G"
      ],
      "execution_count": 282,
      "outputs": [
        {
          "output_type": "execute_result",
          "data": {
            "text/plain": [
              "array([[13, 14],\n",
              "       [21, 12]])"
            ]
          },
          "metadata": {
            "tags": []
          },
          "execution_count": 282
        }
      ]
    },
    {
      "cell_type": "code",
      "metadata": {
        "id": "TOoVc4d7LTxL",
        "colab_type": "code",
        "colab": {
          "base_uri": "https://localhost:8080/",
          "height": 52
        },
        "outputId": "60e0b2ba-cc67-4676-bace-4844c6939258"
      },
      "source": [
        "# 2x2 Id matrix\n",
        "G_ID = np.array([[1,0], [0,1]])\n",
        "G_ID"
      ],
      "execution_count": 283,
      "outputs": [
        {
          "output_type": "execute_result",
          "data": {
            "text/plain": [
              "array([[1, 0],\n",
              "       [0, 1]])"
            ]
          },
          "metadata": {
            "tags": []
          },
          "execution_count": 283
        }
      ]
    },
    {
      "cell_type": "code",
      "metadata": {
        "id": "iF2GLya7MNk4",
        "colab_type": "code",
        "colab": {
          "base_uri": "https://localhost:8080/",
          "height": 52
        },
        "outputId": "c888e779-fec4-4e7a-e14d-132891858fb6"
      },
      "source": [
        "# Multiply the Matrix times the ID matrix using matmul\n",
        "np.matmul(G, G_ID)"
      ],
      "execution_count": 284,
      "outputs": [
        {
          "output_type": "execute_result",
          "data": {
            "text/plain": [
              "array([[13, 14],\n",
              "       [21, 12]])"
            ]
          },
          "metadata": {
            "tags": []
          },
          "execution_count": 284
        }
      ]
    },
    {
      "cell_type": "code",
      "metadata": {
        "id": "bFTePrAIMT7I",
        "colab_type": "code",
        "colab": {}
      },
      "source": [
        ""
      ],
      "execution_count": null,
      "outputs": []
    },
    {
      "cell_type": "markdown",
      "metadata": {
        "id": "DZ_0XTDQqpMT",
        "colab_type": "text"
      },
      "source": [
        "## 3.2 Find $|H|$ and then find $|J|$.\n",
        "\n",
        "\\begin{align}\n",
        "H= \n",
        "\\begin{bmatrix}\n",
        "12 & 11 \\\\\n",
        "7 & 10 \n",
        "\\end{bmatrix}\n",
        "\\qquad\n",
        "J= \n",
        "\\begin{bmatrix}\n",
        "0 & 1 & 2 \\\\\n",
        "7 & 10 & 4 \\\\\n",
        "3 & 2 & 0\n",
        "\\end{bmatrix}\n",
        "\\end{align}\n"
      ]
    },
    {
      "cell_type": "code",
      "metadata": {
        "id": "5QShhoXyrjDS",
        "colab_type": "code",
        "colab": {
          "base_uri": "https://localhost:8080/",
          "height": 52
        },
        "outputId": "f53d7dfd-bd45-4150-c7cb-60c37f41aea8"
      },
      "source": [
        "# linalg.det(a)\n",
        "H = np.array([[12,11], [7,10]])\n",
        "H"
      ],
      "execution_count": 285,
      "outputs": [
        {
          "output_type": "execute_result",
          "data": {
            "text/plain": [
              "array([[12, 11],\n",
              "       [ 7, 10]])"
            ]
          },
          "metadata": {
            "tags": []
          },
          "execution_count": 285
        }
      ]
    },
    {
      "cell_type": "code",
      "metadata": {
        "id": "QpT3fqPeNRFf",
        "colab_type": "code",
        "colab": {
          "base_uri": "https://localhost:8080/",
          "height": 35
        },
        "outputId": "1a9909fa-7b2c-4b59-eb0e-2ed3b01e9c6e"
      },
      "source": [
        "np.linalg.det(H)"
      ],
      "execution_count": 286,
      "outputs": [
        {
          "output_type": "execute_result",
          "data": {
            "text/plain": [
              "43.000000000000014"
            ]
          },
          "metadata": {
            "tags": []
          },
          "execution_count": 286
        }
      ]
    },
    {
      "cell_type": "code",
      "metadata": {
        "id": "C1AkcSv1NWoe",
        "colab_type": "code",
        "colab": {
          "base_uri": "https://localhost:8080/",
          "height": 69
        },
        "outputId": "3b6fbb50-ffb6-438c-f212-5d5804e08a9f"
      },
      "source": [
        "J = np.array([[0,1,2], [7,10,4],[3,2,0]])\n",
        "J"
      ],
      "execution_count": 287,
      "outputs": [
        {
          "output_type": "execute_result",
          "data": {
            "text/plain": [
              "array([[ 0,  1,  2],\n",
              "       [ 7, 10,  4],\n",
              "       [ 3,  2,  0]])"
            ]
          },
          "metadata": {
            "tags": []
          },
          "execution_count": 287
        }
      ]
    },
    {
      "cell_type": "code",
      "metadata": {
        "id": "coAe6aOLNkNm",
        "colab_type": "code",
        "colab": {
          "base_uri": "https://localhost:8080/",
          "height": 35
        },
        "outputId": "84fb1f7e-8a06-4a80-c86a-2716c546a868"
      },
      "source": [
        "np.linalg.det(J)"
      ],
      "execution_count": 289,
      "outputs": [
        {
          "output_type": "execute_result",
          "data": {
            "text/plain": [
              "-19.999999999999996"
            ]
          },
          "metadata": {
            "tags": []
          },
          "execution_count": 289
        }
      ]
    },
    {
      "cell_type": "code",
      "metadata": {
        "id": "OsontZMYNnrM",
        "colab_type": "code",
        "colab": {}
      },
      "source": [
        ""
      ],
      "execution_count": null,
      "outputs": []
    },
    {
      "cell_type": "markdown",
      "metadata": {
        "id": "2gZl1CFwrXSH",
        "colab_type": "text"
      },
      "source": [
        "## 3.3 Find $H^{-1}$ and then find $J^{-1}$"
      ]
    },
    {
      "cell_type": "code",
      "metadata": {
        "id": "nyX6De2-rio1",
        "colab_type": "code",
        "colab": {}
      },
      "source": [
        "# linalg.inv(a)\n",
        "H_i = np.linalg.inv(H)"
      ],
      "execution_count": 291,
      "outputs": []
    },
    {
      "cell_type": "code",
      "metadata": {
        "id": "8er5FnfAOvmy",
        "colab_type": "code",
        "colab": {
          "base_uri": "https://localhost:8080/",
          "height": 52
        },
        "outputId": "59300f3e-3958-493b-d4f2-4e3de259c79f"
      },
      "source": [
        "H_i"
      ],
      "execution_count": 292,
      "outputs": [
        {
          "output_type": "execute_result",
          "data": {
            "text/plain": [
              "array([[ 0.23255814, -0.25581395],\n",
              "       [-0.1627907 ,  0.27906977]])"
            ]
          },
          "metadata": {
            "tags": []
          },
          "execution_count": 292
        }
      ]
    },
    {
      "cell_type": "code",
      "metadata": {
        "id": "P8bF4WuWOxd6",
        "colab_type": "code",
        "colab": {}
      },
      "source": [
        "H_Id = np.matmul(H, H_i)"
      ],
      "execution_count": 298,
      "outputs": []
    },
    {
      "cell_type": "code",
      "metadata": {
        "id": "CIE0IZbyPtyy",
        "colab_type": "code",
        "colab": {
          "base_uri": "https://localhost:8080/",
          "height": 52
        },
        "outputId": "05db24f5-b301-48ed-b89e-304134285205"
      },
      "source": [
        "H_Id"
      ],
      "execution_count": 299,
      "outputs": [
        {
          "output_type": "execute_result",
          "data": {
            "text/plain": [
              "array([[1.00000000e+00, 5.55111512e-16],\n",
              "       [2.22044605e-16, 1.00000000e+00]])"
            ]
          },
          "metadata": {
            "tags": []
          },
          "execution_count": 299
        }
      ]
    },
    {
      "cell_type": "code",
      "metadata": {
        "id": "HeKvAcA0O1vp",
        "colab_type": "code",
        "colab": {}
      },
      "source": [
        "J_i = np.linalg.inv(J)"
      ],
      "execution_count": 294,
      "outputs": []
    },
    {
      "cell_type": "code",
      "metadata": {
        "id": "wNGk-20ePCHY",
        "colab_type": "code",
        "colab": {
          "base_uri": "https://localhost:8080/",
          "height": 69
        },
        "outputId": "f552d59d-beee-45e1-f790-c9f80a77a4b9"
      },
      "source": [
        "J_i"
      ],
      "execution_count": 295,
      "outputs": [
        {
          "output_type": "execute_result",
          "data": {
            "text/plain": [
              "array([[ 0.4 , -0.2 ,  0.8 ],\n",
              "       [-0.6 ,  0.3 , -0.7 ],\n",
              "       [ 0.8 , -0.15,  0.35]])"
            ]
          },
          "metadata": {
            "tags": []
          },
          "execution_count": 295
        }
      ]
    },
    {
      "cell_type": "code",
      "metadata": {
        "id": "OhKDWfW0PDVx",
        "colab_type": "code",
        "colab": {}
      },
      "source": [
        "J_ID = np.matmul(J_i, J)"
      ],
      "execution_count": 300,
      "outputs": []
    },
    {
      "cell_type": "code",
      "metadata": {
        "id": "Cvp30pTvPIkG",
        "colab_type": "code",
        "colab": {}
      },
      "source": [
        ""
      ],
      "execution_count": null,
      "outputs": []
    },
    {
      "cell_type": "markdown",
      "metadata": {
        "id": "Vvd4Pe86rjhW",
        "colab_type": "text"
      },
      "source": [
        "## 3.4 Find $HH^{-1}$ and then find $J^{-1}J$. Is $HH^{-1} == J^{-1}J$? Why or Why not? \n",
        "\n",
        "Please ignore Python rounding errors. If necessary, format your output so that it rounds to 5 significant digits (the fifth decimal place)."
      ]
    },
    {
      "cell_type": "code",
      "metadata": {
        "id": "8Fa95JWdOoLD",
        "colab_type": "code",
        "colab": {
          "base_uri": "https://localhost:8080/",
          "height": 52
        },
        "outputId": "f31843c6-3639-49e5-9f82-9e26376bb6fd"
      },
      "source": [
        "# they are NOT equal because they have different dimensions.\n",
        "get_dimensions(J_ID)"
      ],
      "execution_count": 301,
      "outputs": [
        {
          "output_type": "stream",
          "text": [
            "The Dimensions of the array are:\n",
            "3 rows, 3 columns\n"
          ],
          "name": "stdout"
        }
      ]
    },
    {
      "cell_type": "code",
      "metadata": {
        "id": "2WVjpa_SQAUn",
        "colab_type": "code",
        "colab": {
          "base_uri": "https://localhost:8080/",
          "height": 52
        },
        "outputId": "a8e5ce16-f459-4157-a778-334046ffd303"
      },
      "source": [
        "get_dimensions(H_Id)"
      ],
      "execution_count": 302,
      "outputs": [
        {
          "output_type": "stream",
          "text": [
            "The Dimensions of the array are:\n",
            "2 rows, 2 columns\n"
          ],
          "name": "stdout"
        }
      ]
    },
    {
      "cell_type": "code",
      "metadata": {
        "id": "IWgk_ITQQDZ-",
        "colab_type": "code",
        "colab": {}
      },
      "source": [
        "# but they are both Identity Matrices.  "
      ],
      "execution_count": null,
      "outputs": []
    },
    {
      "cell_type": "markdown",
      "metadata": {
        "id": "V0iTO4McYjtk",
        "colab_type": "text"
      },
      "source": [
        "# Stretch Goals: \n",
        "\n",
        "A reminder that these challenges are optional. If you finish your work quickly we welcome you to work on them. If there are other activities that you feel like will help your understanding of the above topics more, feel free to work on that. Topics from the Stretch Goals sections will never end up on Sprint Challenges. You don't have to do these in order, you don't have to do all of them. \n",
        "\n",
        "- Write a function that can calculate the dot product of any two vectors of equal length that are passed to it.\n",
        "- Write a function that can calculate the norm of any vector\n",
        "- Prove to yourself again that the vectors in 1.9 are orthogonal by graphing them. \n",
        "- Research how to plot a 3d graph with animations so that you can make the graph rotate (this will be easier in a local notebook than in google colab)\n",
        "- Create and plot a matrix on a 2d graph.\n",
        "- Create and plot a matrix on a 3d graph.\n",
        "- Plot two vectors that are not collinear on a 2d graph. Calculate the determinant of the 2x2 matrix that these vectors form. How does this determinant relate to the graphical interpretation of the vectors?\n",
        "\n"
      ]
    }
  ]
}