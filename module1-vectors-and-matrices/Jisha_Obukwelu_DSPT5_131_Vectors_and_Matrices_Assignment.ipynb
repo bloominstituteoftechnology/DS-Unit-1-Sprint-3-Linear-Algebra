{
  "nbformat": 4,
  "nbformat_minor": 0,
  "metadata": {
    "colab": {
      "name": "Jisha Obukwelu_DSPT5_131_Vectors_and_Matrices_Assignment.ipynb",
      "provenance": [],
      "collapsed_sections": [],
      "include_colab_link": true
    },
    "kernelspec": {
      "name": "python3",
      "display_name": "Python 3"
    }
  },
  "cells": [
    {
      "cell_type": "markdown",
      "metadata": {
        "id": "view-in-github",
        "colab_type": "text"
      },
      "source": [
        "<a href=\"https://colab.research.google.com/github/jiobu1/DS-Unit-1-Sprint-3-Linear-Algebra/blob/master/module1-vectors-and-matrices/Jisha_Obukwelu_DSPT5_131_Vectors_and_Matrices_Assignment.ipynb\" target=\"_parent\"><img src=\"https://colab.research.google.com/assets/colab-badge.svg\" alt=\"Open In Colab\"/></a>"
      ]
    },
    {
      "cell_type": "code",
      "metadata": {
        "id": "jJ5MG7ECulMK",
        "colab_type": "code",
        "colab": {}
      },
      "source": [
        "#Imports\n",
        "import math \n",
        "import pandas as pd\n",
        "import numpy as np\n",
        "import matplotlib.pyplot as plt\n",
        "from mpl_toolkits.mplot3d import Axes3D\n",
        "import matplotlib.cm as cm"
      ],
      "execution_count": 0,
      "outputs": []
    },
    {
      "cell_type": "markdown",
      "metadata": {
        "id": "yXA3GwWhY9KL",
        "colab_type": "text"
      },
      "source": [
        "# Part 1 - Scalars and Vectors\n",
        "\n",
        "For the questions below it is not sufficient to simply provide answer to the questions, but you must solve the problems and show your work using python (the NumPy library will help a lot!) Translate the vectors and matrices into their appropriate python  representations and use numpy or functions that you write yourself to demonstrate the result or property. "
      ]
    },
    {
      "cell_type": "markdown",
      "metadata": {
        "id": "oNOTv43_Zi9L",
        "colab_type": "text"
      },
      "source": [
        "## 1.1 Create a two-dimensional vector and plot it on a graph"
      ]
    },
    {
      "cell_type": "code",
      "metadata": {
        "id": "XNqjzQzrkVG7",
        "colab_type": "code",
        "colab": {
          "base_uri": "https://localhost:8080/",
          "height": 269
        },
        "outputId": "4ec54c2d-198c-44c2-d30b-9a3b93940c3f"
      },
      "source": [
        "orange = np.array([4, 6])\n",
        "\n",
        "fig, ax = plt.subplots()\n",
        "ax.grid()\n",
        "plt.xlim(-1, 10)\n",
        "plt.ylim(-1, 10)\n",
        "\n",
        "plt.arrow(0,0, \n",
        "          *orange, \n",
        "          head_width = 0.5, \n",
        "          head_length = 0.5, \n",
        "          linewidth = 3, \n",
        "          color = 'orange')\n",
        "\n",
        "plt.show()"
      ],
      "execution_count": 72,
      "outputs": [
        {
          "output_type": "display_data",
          "data": {
            "image/png": "[encoded data removed]",
            "text/plain": [
              "<Figure size 432x288 with 1 Axes>"
            ]
          },
          "metadata": {
            "tags": []
          }
        }
      ]
    },
    {
      "cell_type": "markdown",
      "metadata": {
        "id": "unKFT619lk3e",
        "colab_type": "text"
      },
      "source": [
        "## 1.2 Create a three-dimensional vecor and plot it on a graph"
      ]
    },
    {
      "cell_type": "code",
      "metadata": {
        "id": "atUEd3T6llKm",
        "colab_type": "code",
        "colab": {
          "base_uri": "https://localhost:8080/",
          "height": 367
        },
        "outputId": "31f1c471-a3a0-444a-af09-ac3094384e56"
      },
      "source": [
        "orange1 = [4, 6, 8]\n",
        "vector = np.array([[0, 0, 0, *orange1]])\n",
        "\n",
        "print(vector)\n",
        "\n",
        "#unzip that vector\n",
        "X, Y, Z, U, V, W = zip(*vector)\n",
        "for letter in [X, Y, Z, U, V, W]:\n",
        "  print(letter)\n",
        "\n",
        "#display that in 3D  \n",
        "from mpl_toolkits.mplot3d import Axes3D\n",
        "\n",
        "fig = plt.figure()\n",
        "ax = fig.add_subplot(111, projection='3d')\n",
        "ax.quiver(X, Y, Z, U, V, W, length=1, color='orange',linewidth=6)\n",
        "ax.set_xlim([0, 10])\n",
        "ax.set_ylim([0, 10])\n",
        "ax.set_zlim([0, 10])\n",
        "ax.set_xlabel('X')\n",
        "ax.set_ylabel('Y')\n",
        "ax.set_zlabel('Z')\n",
        "plt.show()"
      ],
      "execution_count": 73,
      "outputs": [
        {
          "output_type": "stream",
          "text": [
            "[[0 0 0 4 6 8]]\n",
            "(0,)\n",
            "(0,)\n",
            "(0,)\n",
            "(4,)\n",
            "(6,)\n",
            "(8,)\n"
          ],
          "name": "stdout"
        },
        {
          "output_type": "display_data",
          "data": {
            "image/png": "[encoded data removed]",
            "text/plain": [
              "<Figure size 432x288 with 1 Axes>"
            ]
          },
          "metadata": {
            "tags": []
          }
        }
      ]
    },
    {
      "cell_type": "markdown",
      "metadata": {
        "id": "b7qFxbKxZmI2",
        "colab_type": "text"
      },
      "source": [
        "## 1.3 Scale the vectors you created in 1.1 by $5$, $\\pi$, and $-e$ and plot all four vectors (original + 3 scaled vectors) on a graph. What do you notice about these vectors? "
      ]
    },
    {
      "cell_type": "code",
      "metadata": {
        "id": "ah6zMSLJdJwL",
        "colab_type": "code",
        "outputId": "afe14ed7-923d-489e-e176-a6e3a40e6f95",
        "colab": {
          "base_uri": "https://localhost:8080/",
          "height": 51
        }
      },
      "source": [
        "from math import e, pi\n",
        "print(e)\n",
        "print(pi)"
      ],
      "execution_count": 74,
      "outputs": [
        {
          "output_type": "stream",
          "text": [
            "2.718281828459045\n",
            "3.141592653589793\n"
          ],
          "name": "stdout"
        }
      ]
    },
    {
      "cell_type": "code",
      "metadata": {
        "id": "3qpwDlzXkVf5",
        "colab_type": "code",
        "colab": {
          "base_uri": "https://localhost:8080/",
          "height": 337
        },
        "outputId": "29bf5d8e-f2c3-4a9e-b97d-457ebfc59e35"
      },
      "source": [
        "#multiply orange by scalars\n",
        "\n",
        "purple = np.multiply(orange, 5)\n",
        "blue = np.multiply(orange, pi)\n",
        "brick = np.multiply(orange, -e)\n",
        "\n",
        "print(purple, '\\n', blue, '\\n', brick, '\\n')\n",
        "\n",
        "# Plot the scaled vector\n",
        "fig, ax = plt.subplots()\n",
        "ax.grid()\n",
        "\n",
        "plt.arrow(0,0, *purple, head_width=0.5, linewidth = 12, color = 'magenta')\n",
        "plt.arrow(0,0, *blue, head_width=0.5, linewidth = 8, color = 'dodgerblue')\n",
        "plt.arrow(0,0, *brick, head_width=0.5, linewidth = 10, color = 'red')\n",
        "\n",
        "\n",
        "plt.xlim(-25,40)          \n",
        "plt.ylim(-25,40)\n",
        "\n",
        "plt.show;\n",
        "\n",
        "\n"
      ],
      "execution_count": 75,
      "outputs": [
        {
          "output_type": "stream",
          "text": [
            "[20 30] \n",
            " [12.56637061 18.84955592] \n",
            " [-10.87312731 -16.30969097] \n",
            "\n"
          ],
          "name": "stdout"
        },
        {
          "output_type": "display_data",
          "data": {
            "image/png": "[encoded data removed]",
            "text/plain": [
              "<Figure size 432x288 with 1 Axes>"
            ]
          },
          "metadata": {
            "tags": []
          }
        }
      ]
    },
    {
      "cell_type": "markdown",
      "metadata": {
        "id": "wrgqa6sWimbH",
        "colab_type": "text"
      },
      "source": [
        "## 1.4 Graph vectors $\\vec{a}$ and $\\vec{b}$ and plot them on a graph\n",
        "\n",
        "\\begin{align}\n",
        "\\vec{a} = \\begin{bmatrix} 5 \\\\ 7 \\end{bmatrix}\n",
        "\\qquad\n",
        "\\vec{b} = \\begin{bmatrix} 3 \\\\4 \\end{bmatrix}\n",
        "\\end{align}"
      ]
    },
    {
      "cell_type": "code",
      "metadata": {
        "id": "I1BGXA_skV-b",
        "colab_type": "code",
        "colab": {
          "base_uri": "https://localhost:8080/",
          "height": 269
        },
        "outputId": "42057ed9-7b2b-40e0-b92b-891f53466c9f"
      },
      "source": [
        "a = np.array([5, 7])\n",
        "\n",
        "b = np.array([3, 4])\n",
        "\n",
        "\n",
        "# Plot the scaled vector\n",
        "fig, ax = plt.subplots()\n",
        "ax.grid()\n",
        "\n",
        "plt.arrow(0,0, *a, head_width=0.5, linewidth = 5, color = 'pink')\n",
        "plt.arrow(0,0, *b, head_width=0.5, linewidth = 3, color = 'cyan')\n",
        "\n",
        "\n",
        "plt.xlim(0,10)          \n",
        "plt.ylim(0,10)\n",
        "\n",
        "plt.show;"
      ],
      "execution_count": 76,
      "outputs": [
        {
          "output_type": "display_data",
          "data": {
            "image/png": "[encoded data removed]",
            "text/plain": [
              "<Figure size 432x288 with 1 Axes>"
            ]
          },
          "metadata": {
            "tags": []
          }
        }
      ]
    },
    {
      "cell_type": "markdown",
      "metadata": {
        "id": "QN6RU_3gizpw",
        "colab_type": "text"
      },
      "source": [
        "## 1.5 find $\\vec{a} - \\vec{b}$ and plot the result on the same graph as $\\vec{a}$ and $\\vec{b}$. Is there a relationship between vectors $\\vec{a} \\thinspace, \\vec{b} \\thinspace \\text{and} \\thinspace \\vec{a-b}$"
      ]
    },
    {
      "cell_type": "code",
      "metadata": {
        "id": "68sWHIOPkXp5",
        "colab_type": "code",
        "colab": {
          "base_uri": "https://localhost:8080/",
          "height": 286
        },
        "outputId": "2667c1bf-104c-4eef-96ba-cbfa777096c1"
      },
      "source": [
        "print(np.subtract(a,b))\n",
        "\n",
        "# Plot the scaled vector\n",
        "fig, ax = plt.subplots()\n",
        "ax.grid()\n",
        "\n",
        "plt.arrow(0,0, *a, head_width=0.5, linewidth = 5, color = 'pink')\n",
        "plt.arrow(0,0, *b, head_width=0.5, linewidth = 3, color = 'cyan')\n",
        "plt.arrow(0,0, *(np.subtract(a,b)), head_width=0.5, linewidth = 3, color = 'crimson')\n",
        "\n",
        "\n",
        "\n",
        "plt.xlim(0,10)          \n",
        "plt.ylim(0,10)\n",
        "\n",
        "plt.show;"
      ],
      "execution_count": 77,
      "outputs": [
        {
          "output_type": "stream",
          "text": [
            "[2 3]\n"
          ],
          "name": "stdout"
        },
        {
          "output_type": "display_data",
          "data": {
            "image/png": "[encoded data removed]",
            "text/plain": [
              "<Figure size 432x288 with 1 Axes>"
            ]
          },
          "metadata": {
            "tags": []
          }
        }
      ]
    },
    {
      "cell_type": "markdown",
      "metadata": {
        "id": "1ZPVuJAlehu_",
        "colab_type": "text"
      },
      "source": [
        "## 1.6 Find $c \\cdot d$\n",
        "\n",
        "\\begin{align}\n",
        "\\vec{c} = \\begin{bmatrix}7 & 22 & 4 & 16\\end{bmatrix}\n",
        "\\qquad\n",
        "\\vec{d} = \\begin{bmatrix}12 & 6 & 2 & 9\\end{bmatrix}\n",
        "\\end{align}\n"
      ]
    },
    {
      "cell_type": "code",
      "metadata": {
        "id": "2_cZQFCskYNr",
        "colab_type": "code",
        "colab": {
          "base_uri": "https://localhost:8080/",
          "height": 34
        },
        "outputId": "a87c160a-4bf5-49f4-9a3f-8c7fc9fab44d"
      },
      "source": [
        "c = np.array([7, 22, 4, 16])\n",
        "d = np.array([12, 6, 2, 9])\n",
        "\n",
        "# Using Dot-Product Method\n",
        "np.dot(c,d)"
      ],
      "execution_count": 78,
      "outputs": [
        {
          "output_type": "execute_result",
          "data": {
            "text/plain": [
              "368"
            ]
          },
          "metadata": {
            "tags": []
          },
          "execution_count": 78
        }
      ]
    },
    {
      "cell_type": "markdown",
      "metadata": {
        "id": "cLm8yokpfg9B",
        "colab_type": "text"
      },
      "source": [
        "##  1.7 Find $e \\times f$\n",
        "\n",
        "\\begin{align}\n",
        "\\vec{e} = \\begin{bmatrix} 5 \\\\ 7 \\\\ 2 \\end{bmatrix}\n",
        "\\qquad\n",
        "\\vec{f} = \\begin{bmatrix} 3 \\\\4 \\\\ 6 \\end{bmatrix}\n",
        "\\end{align}"
      ]
    },
    {
      "cell_type": "code",
      "metadata": {
        "id": "ku-TdCKAkYs8",
        "colab_type": "code",
        "colab": {
          "base_uri": "https://localhost:8080/",
          "height": 34
        },
        "outputId": "793ca3e0-3e5f-4f52-f7ec-5f1972c5d606"
      },
      "source": [
        "e = np.array([5, 7, 2])\n",
        "f = np.array([3, 4, 6])\n",
        "\n",
        "np.multiply(e, f)"
      ],
      "execution_count": 79,
      "outputs": [
        {
          "output_type": "execute_result",
          "data": {
            "text/plain": [
              "array([15, 28, 12])"
            ]
          },
          "metadata": {
            "tags": []
          },
          "execution_count": 79
        }
      ]
    },
    {
      "cell_type": "markdown",
      "metadata": {
        "id": "-TN8wO2-h53s",
        "colab_type": "text"
      },
      "source": [
        "## 1.8 Find $||g||$ and then find $||h||$. Which is longer?\n",
        "\n",
        "\\begin{align}\n",
        "\\vec{g} = \\begin{bmatrix} 1 \\\\ 1 \\\\ 1 \\\\ 8 \\end{bmatrix}\n",
        "\\qquad\n",
        "\\vec{h} = \\begin{bmatrix} 3 \\\\3 \\\\ 3 \\\\ 3 \\end{bmatrix}\n",
        "\\end{align}"
      ]
    },
    {
      "cell_type": "code",
      "metadata": {
        "id": "-5VKOMKBlgaA",
        "colab_type": "code",
        "colab": {
          "base_uri": "https://localhost:8080/",
          "height": 85
        },
        "outputId": "95971dcb-f293-4540-cb37-fe02bd9a611f"
      },
      "source": [
        "#Find ||𝑔|| and ||ℎ||\n",
        "g = np.array([1,1, 1, 8])\n",
        "h = np.array([3, 3, 3, 3])\n",
        "\n",
        "\n",
        "norm_g = np.linalg.norm(g)\n",
        "norm_h = np.linalg.norm(h)\n",
        "print(g, \"\\n Norm of g:\", norm_g)\n",
        "print(h, \"\\n Norm of h:\", norm_h)"
      ],
      "execution_count": 80,
      "outputs": [
        {
          "output_type": "stream",
          "text": [
            "[1 1 1 8] \n",
            " Norm of g: 8.18535277187245\n",
            "[3 3 3 3] \n",
            " Norm of h: 6.0\n"
          ],
          "name": "stdout"
        }
      ]
    },
    {
      "cell_type": "markdown",
      "metadata": {
        "id": "p9Xa3DpU_x2E",
        "colab_type": "text"
      },
      "source": [
        "g is longer than h"
      ]
    },
    {
      "cell_type": "markdown",
      "metadata": {
        "id": "njrWIMS-ZAoH",
        "colab_type": "text"
      },
      "source": [
        "# Part 2 - Matrices"
      ]
    },
    {
      "cell_type": "markdown",
      "metadata": {
        "id": "GjkcAVIOmOnn",
        "colab_type": "text"
      },
      "source": [
        "## 2.1 What are the dimensions of the following matrices? Which of the following can be multiplied together? See if you can find all of the different legal combinations.\n",
        "\\begin{align}\n",
        "A = \\begin{bmatrix}\n",
        "1 & 2 \\\\\n",
        "3 & 4 \\\\\n",
        "5 & 6\n",
        "\\end{bmatrix}\n",
        "\\qquad\n",
        "B = \\begin{bmatrix}\n",
        "2 & 4 & 6 \\\\\n",
        "\\end{bmatrix}\n",
        "\\qquad\n",
        "C = \\begin{bmatrix}\n",
        "9 & 6 & 3 \\\\\n",
        "4 & 7 & 11\n",
        "\\end{bmatrix}\n",
        "\\qquad\n",
        "D = \\begin{bmatrix}\n",
        "1 & 0 & 0 \\\\\n",
        "0 & 1 & 0 \\\\\n",
        "0 & 0 & 1\n",
        "\\end{bmatrix}\n",
        "\\qquad\n",
        "E = \\begin{bmatrix}\n",
        "1 & 3 \\\\\n",
        "5 & 7\n",
        "\\end{bmatrix}\n",
        "\\end{align}"
      ]
    },
    {
      "cell_type": "code",
      "metadata": {
        "id": "Z69c-uPtnbIx",
        "colab_type": "code",
        "colab": {
          "base_uri": "https://localhost:8080/",
          "height": 102
        },
        "outputId": "4ab14944-5387-4c27-e149-765e8851c46a"
      },
      "source": [
        "A = np.array([1, 2, 3, 4, 5, 6]).reshape(3, 2)\n",
        "B = np.array([2, 4, 6]).reshape(1,3)\n",
        "C = np.array([9, 6, 3, 4, 7, 11]).reshape(2,3)\n",
        "D = np.identity(3)\n",
        "E = np.array([1, 3, 5, 7]).reshape(2, 2)\n",
        "\n",
        "print(A.shape,'\\n', \n",
        "      B.shape,'\\n', \n",
        "      C.shape,'\\n', \n",
        "      D.shape,'\\n', \n",
        "      E.shape)"
      ],
      "execution_count": 81,
      "outputs": [
        {
          "output_type": "stream",
          "text": [
            "(3, 2) \n",
            " (1, 3) \n",
            " (2, 3) \n",
            " (3, 3) \n",
            " (2, 2)\n"
          ],
          "name": "stdout"
        }
      ]
    },
    {
      "cell_type": "markdown",
      "metadata": {
        "id": "PDRep94fAIXi",
        "colab_type": "text"
      },
      "source": [
        "A = 3, 2\n",
        "\n",
        "A.T = 2, 3\n",
        "\n",
        "B = 1, 3\n",
        "\n",
        "B.T = 3, 1\n",
        "\n",
        "C = 2, 3\n",
        "\n",
        "C.T = 3,2\n",
        "\n",
        "D = 3, 3\n",
        "\n",
        "E = 2, 2\n",
        "\n",
        "\n",
        "possible combinations:\n",
        "\n",
        "A can be multiplied by C and E, A.T\n",
        "\n",
        "A.T can be multiplied by A, B.T, C.T, and D\n",
        "\n",
        "B can be multiplied by A and D\n",
        "\n",
        "B.T can be multipled B\n",
        "\n",
        "C can be multiplied by D\n",
        "\n",
        "C.T can be multiplied by A.T, C, and E\n",
        "\n",
        "D can be multiplied by A, B.T and C.T\n",
        "\n",
        "E can be multiplied by C and A.T\n",
        "\n",
        "\\begin{align}\n",
        "\\begin{bmatrix}\n",
        "A[3, 2] & C[2, 3]\\\\\n",
        "A[3, 2] & E[2, 2]\\\\\n",
        "A[3, 2] & A.T[2, 3]\\\\\n",
        "A.T[3, 2] & A[2, 3]\\\\\n",
        "A.T[2, 3] & B.T[3, 1]\\\\\n",
        "A.T[2, 3] & C.T[3, 2]\\\\\n",
        "A.T[2, 3] & D[3, 3]\\\\\n",
        "B[1, 3] & A[3, 2]\\\\\n",
        "B[1, 3] & D[3, 3]\\\\\n",
        "B.T[3, 1] & B[1, 3]\\\\\n",
        "C[2, 3] & D[3, 3]\\\\\n",
        "C.T[3, 2] & A.T[2, 3]\\\\\n",
        "C.T[3, 2] & C[2, 3]\\\\\n",
        "C.T[3, 2] & E[2, 2]\\\\\n",
        "D[3, 3] & A[3, 2]\\\\\n",
        "D[3, 3] & B.T[3, 2]\\\\\n",
        "D[3, 3] & C.T[3, 2]\\\\\n",
        "E[2, 2] & C[2, 3]\\\\\n",
        "E[2, 2] & A.T[2, 3]\\\\\n",
        "\\end{bmatrix}\n",
        "\\end{align}\n"
      ]
    },
    {
      "cell_type": "markdown",
      "metadata": {
        "id": "lMOlCoM3ncGa",
        "colab_type": "text"
      },
      "source": [
        "## 2.2 Find the following products: CD, AE, and BA. What are the dimensions of the resulting matrices? How does that relate to the dimensions of their factor matrices?"
      ]
    },
    {
      "cell_type": "code",
      "metadata": {
        "id": "zhKwiSItoE2F",
        "colab_type": "code",
        "colab": {
          "base_uri": "https://localhost:8080/",
          "height": 272
        },
        "outputId": "8af4068c-35a9-4bcf-9d05-6fe77b231165"
      },
      "source": [
        "print('I am the product of C and D\\n',np.dot(C, D),'\\n I am the resulting shape',(np.dot(C, D)).shape,'\\n')\n",
        "print('I am the product of C and D\\n',np.dot(A, E), '\\n I am the resulting shape',np.dot(A, E).shape,'\\n')\n",
        "print('I am the product of C and D\\n',np.dot(B, A), '\\n I am the resulting shape',np.dot(B, A).shape,'\\n')"
      ],
      "execution_count": 82,
      "outputs": [
        {
          "output_type": "stream",
          "text": [
            "I am the product of C and D\n",
            " [[ 9.  6.  3.]\n",
            " [ 4.  7. 11.]] \n",
            " I am the resulting shape (2, 3) \n",
            "\n",
            "I am the product of C and D\n",
            " [[11 17]\n",
            " [23 37]\n",
            " [35 57]] \n",
            " I am the resulting shape (3, 2) \n",
            "\n",
            "I am the product of C and D\n",
            " [[44 56]] \n",
            " I am the resulting shape (1, 2) \n",
            "\n"
          ],
          "name": "stdout"
        }
      ]
    },
    {
      "cell_type": "markdown",
      "metadata": {
        "id": "p2jmaGLgoFPN",
        "colab_type": "text"
      },
      "source": [
        "## 2.3  Find $F^{T}$. How are the numbers along the main diagonal (top left to bottom right) of the original matrix and its transpose related? What are the dimensions of $F$? What are the dimensions of $F^{T}$?\n",
        "\n",
        "\\begin{align}\n",
        "F = \n",
        "\\begin{bmatrix}\n",
        "20 & 19 & 18 & 17 \\\\\n",
        "16 & 15 & 14 & 13 \\\\\n",
        "12 & 11 & 10 & 9 \\\\\n",
        "8 & 7 & 6 & 5 \\\\\n",
        "4 & 3 & 2 & 1\n",
        "\\end{bmatrix}\n",
        "\\end{align}"
      ]
    },
    {
      "cell_type": "code",
      "metadata": {
        "id": "Wl3ElwgLqaAn",
        "colab_type": "code",
        "colab": {
          "base_uri": "https://localhost:8080/",
          "height": 51
        },
        "outputId": "dfe17d2a-b944-4c47-d996-bb0d26af7a76"
      },
      "source": [
        "F = np.array([20,19, 18, 17, 16, 15, 14, 13, 12, 11, 10, 9, 8, 7, 6, 5, 4, 3, 2,1]).reshape(5, 4)\n",
        "print('Dimensions of F',F.shape)\n",
        "print('Dimensions of F^T',np.transpose(F).shape)"
      ],
      "execution_count": 83,
      "outputs": [
        {
          "output_type": "stream",
          "text": [
            "Dimensions of F (5, 4)\n",
            "Dimensions of F^T (4, 5)\n"
          ],
          "name": "stdout"
        }
      ]
    },
    {
      "cell_type": "markdown",
      "metadata": {
        "id": "13ik2LEEZLHn",
        "colab_type": "text"
      },
      "source": [
        "# Part 3 - Square Matrices"
      ]
    },
    {
      "cell_type": "markdown",
      "metadata": {
        "id": "sDBAPUwfp7f7",
        "colab_type": "text"
      },
      "source": [
        "## 3.1 Find $IG$ (be sure to show your work) 😃\n",
        "\n",
        "You don't have to do anything crazy complicated here to show your work, just create the G matrix as specified below, and a corresponding 2x2 Identity matrix and then multiply them together to show the result. You don't need to write LaTeX or anything like that (unless you want to).\n",
        "\n",
        "\\begin{align}\n",
        "G= \n",
        "\\begin{bmatrix}\n",
        "13 & 14 \\\\\n",
        "21 & 12 \n",
        "\\end{bmatrix}\n",
        "\\end{align}"
      ]
    },
    {
      "cell_type": "code",
      "metadata": {
        "id": "ZnqvZBOYqar3",
        "colab_type": "code",
        "colab": {
          "base_uri": "https://localhost:8080/",
          "height": 51
        },
        "outputId": "d5545460-c75b-4167-b820-4d74ff662d94"
      },
      "source": [
        "G = np.array([13, 14, 21, 12]).reshape(2,2)\n",
        "G_I = np.linalg.inv(G)\n",
        "np.dot(G, G_I)"
      ],
      "execution_count": 84,
      "outputs": [
        {
          "output_type": "execute_result",
          "data": {
            "text/plain": [
              "array([[ 1.00000000e+00, -1.38777878e-16],\n",
              "       [ 2.22044605e-16,  1.00000000e+00]])"
            ]
          },
          "metadata": {
            "tags": []
          },
          "execution_count": 84
        }
      ]
    },
    {
      "cell_type": "markdown",
      "metadata": {
        "id": "DZ_0XTDQqpMT",
        "colab_type": "text"
      },
      "source": [
        "## 3.2 Find $|H|$ and then find $|J|$.\n",
        "\n",
        "\\begin{align}\n",
        "H= \n",
        "\\begin{bmatrix}\n",
        "12 & 11 \\\\\n",
        "7 & 10 \n",
        "\\end{bmatrix}\n",
        "\\qquad\n",
        "J= \n",
        "\\begin{bmatrix}\n",
        "0 & 1 & 2 \\\\\n",
        "7 & 10 & 4 \\\\\n",
        "3 & 2 & 0\n",
        "\\end{bmatrix}\n",
        "\\end{align}\n"
      ]
    },
    {
      "cell_type": "code",
      "metadata": {
        "id": "5QShhoXyrjDS",
        "colab_type": "code",
        "colab": {
          "base_uri": "https://localhost:8080/",
          "height": 34
        },
        "outputId": "2addf42e-9d0c-4ad6-a9e7-3e4f72555fb7"
      },
      "source": [
        "H = np.array([12, 11, 7, 10]).reshape(2, 2)\n",
        "print('Determinant of H',np.linalg.det(H))"
      ],
      "execution_count": 85,
      "outputs": [
        {
          "output_type": "stream",
          "text": [
            "Determinant of H 43.000000000000014\n"
          ],
          "name": "stdout"
        }
      ]
    },
    {
      "cell_type": "code",
      "metadata": {
        "id": "SSHXW9DNJ--Z",
        "colab_type": "code",
        "colab": {
          "base_uri": "https://localhost:8080/",
          "height": 34
        },
        "outputId": "390b0e64-c1bf-4b68-b9e1-ec77a7699b3f"
      },
      "source": [
        "J = np.array([0, 1, 2, 7, 10, 4, 3, 2, 0]).reshape(3,3)\n",
        "print('Determinant of H',np.linalg.det(J))"
      ],
      "execution_count": 86,
      "outputs": [
        {
          "output_type": "stream",
          "text": [
            "Determinant of H -19.999999999999996\n"
          ],
          "name": "stdout"
        }
      ]
    },
    {
      "cell_type": "markdown",
      "metadata": {
        "id": "2gZl1CFwrXSH",
        "colab_type": "text"
      },
      "source": [
        "## 3.3 Find $H^{-1}$ and then find $J^{-1}$"
      ]
    },
    {
      "cell_type": "code",
      "metadata": {
        "id": "nyX6De2-rio1",
        "colab_type": "code",
        "colab": {
          "base_uri": "https://localhost:8080/",
          "height": 68
        },
        "outputId": "2a9e9a4f-d39e-43cc-e39f-bb938d9f843b"
      },
      "source": [
        "H_I = np.linalg.inv(H)\n",
        "print('Inverse of H\\n', H_I)"
      ],
      "execution_count": 87,
      "outputs": [
        {
          "output_type": "stream",
          "text": [
            "Inverse of H\n",
            " [[ 0.23255814 -0.25581395]\n",
            " [-0.1627907   0.27906977]]\n"
          ],
          "name": "stdout"
        }
      ]
    },
    {
      "cell_type": "code",
      "metadata": {
        "id": "0YYqVrZjKbBZ",
        "colab_type": "code",
        "colab": {
          "base_uri": "https://localhost:8080/",
          "height": 85
        },
        "outputId": "317c2395-ce45-4b1b-a072-7b7a4acdaa60"
      },
      "source": [
        "J_I = np.linalg.inv(J)\n",
        "print('Inverse of J\\n', J_I)"
      ],
      "execution_count": 88,
      "outputs": [
        {
          "output_type": "stream",
          "text": [
            "Inverse of J\n",
            " [[ 0.4  -0.2   0.8 ]\n",
            " [-0.6   0.3  -0.7 ]\n",
            " [ 0.8  -0.15  0.35]]\n"
          ],
          "name": "stdout"
        }
      ]
    },
    {
      "cell_type": "markdown",
      "metadata": {
        "id": "Vvd4Pe86rjhW",
        "colab_type": "text"
      },
      "source": [
        "## 3.4 Find $HH^{-1}$ and then find $J^{-1}J$. Is $HH^{-1} == J^{-1}J$? Why or Why not? \n",
        "\n",
        "Please ignore Python rounding errors. If necessary, format your output so that it rounds to 5 significant digits (the fifth decimal place)."
      ]
    },
    {
      "cell_type": "code",
      "metadata": {
        "id": "FvIkrBl8Kk3K",
        "colab_type": "code",
        "colab": {
          "base_uri": "https://localhost:8080/",
          "height": 102
        },
        "outputId": "a5e77239-e16d-44e2-de7a-ce7eaec6058e"
      },
      "source": [
        "print(f'Matrix H x H^-1\\n{np.dot(H, H_I)}')\n",
        "print((np.dot(H, H_I)))"
      ],
      "execution_count": 106,
      "outputs": [
        {
          "output_type": "stream",
          "text": [
            "Matrix H x H^-1\n",
            "[[1.00000000e+00 5.55111512e-16]\n",
            " [2.22044605e-16 1.00000000e+00]]\n",
            "[[1.00000000e+00 5.55111512e-16]\n",
            " [2.22044605e-16 1.00000000e+00]]\n"
          ],
          "name": "stdout"
        }
      ]
    },
    {
      "cell_type": "code",
      "metadata": {
        "id": "e-U7CApqKmBM",
        "colab_type": "code",
        "colab": {
          "base_uri": "https://localhost:8080/",
          "height": 102
        },
        "outputId": "8afb1032-cfe5-4957-bb46-9924fa576cee"
      },
      "source": [
        "print(\"Matrix J^-1 x J\\n\", np.dot(J_I, J))\n",
        "print((np.dot(J, J_I)).shape)"
      ],
      "execution_count": 90,
      "outputs": [
        {
          "output_type": "stream",
          "text": [
            "Matrix J^-1 x J\n",
            " [[ 1.00000000e+00  2.22044605e-16  0.00000000e+00]\n",
            " [-1.11022302e-16  1.00000000e+00  0.00000000e+00]\n",
            " [-1.66533454e-16 -1.11022302e-16  1.00000000e+00]]\n",
            "(3, 3)\n"
          ],
          "name": "stdout"
        }
      ]
    },
    {
      "cell_type": "code",
      "metadata": {
        "id": "bGDd_xiXKngu",
        "colab_type": "code",
        "colab": {}
      },
      "source": [
        "# assert np.allclose(np.dot(H, H_I), np.dot(J_I, J)) \n",
        "# returns an error becuase these do not have similar shapes. "
      ],
      "execution_count": 0,
      "outputs": []
    },
    {
      "cell_type": "markdown",
      "metadata": {
        "id": "jhx_vJvxK3S8",
        "colab_type": "text"
      },
      "source": [
        "$HH^{-1}$ is not equal to $J^{-1}J$?. Though both are square identity matrices, they do not share the same shape.\n",
        "\n"
      ]
    },
    {
      "cell_type": "code",
      "metadata": {
        "id": "AIQitWnbKxmx",
        "colab_type": "code",
        "colab": {}
      },
      "source": [
        "assert np.allclose(np.dot(H, H_I), np.identity(2))"
      ],
      "execution_count": 0,
      "outputs": []
    },
    {
      "cell_type": "code",
      "metadata": {
        "id": "ZN7Pio_mK0WS",
        "colab_type": "code",
        "colab": {}
      },
      "source": [
        "assert np.allclose(np.dot(J_I, J), np.identity(3))"
      ],
      "execution_count": 0,
      "outputs": []
    },
    {
      "cell_type": "markdown",
      "metadata": {
        "id": "V0iTO4McYjtk",
        "colab_type": "text"
      },
      "source": [
        "# Stretch Goals: \n",
        "\n",
        "A reminder that these challenges are optional. If you finish your work quickly we welcome you to work on them. If there are other activities that you feel like will help your understanding of the above topics more, feel free to work on that. Topics from the Stretch Goals sections will never end up on Sprint Challenges. You don't have to do these in order, you don't have to do all of them. \n",
        "\n",
        "- Write a function that can calculate the dot product of any two vectors of equal length that are passed to it.\n",
        "- Write a function that can calculate the norm of any vector\n",
        "- Prove to yourself again that the vectors in 1.9 are orthogonal by graphing them. \n",
        "- Research how to plot a 3d graph with animations so that you can make the graph rotate (this will be easier in a local notebook than in google colab)\n",
        "- Create and plot a matrix on a 2d graph.\n",
        "- Create and plot a matrix on a 3d graph.\n",
        "- Plot two vectors that are not collinear on a 2d graph. Calculate the determinant of the 2x2 matrix that these vectors form. How does this determinant relate to the graphical interpretation of the vectors?\n",
        "\n"
      ]
    },
    {
      "cell_type": "markdown",
      "metadata": {
        "id": "2tB_QGrnLL79",
        "colab_type": "text"
      },
      "source": [
        "**Write a function that can calculate the dot product of any two vectors of equal length that are passed to it.**\n"
      ]
    },
    {
      "cell_type": "code",
      "metadata": {
        "id": "WUZFB2HhLM6D",
        "colab_type": "code",
        "colab": {}
      },
      "source": [
        "def dotProduct(v_1, v_2): \n",
        "\n",
        "    product = 0\n",
        "    n = len(v_1)\n",
        "  \n",
        "    # Loop to calculate dot product \n",
        "    for i in range(0, n): \n",
        "        product = v_1[i] * v_2[i] + product #initially just multiplied two vectors but forgot to add the products together.\n",
        "        print(product)\n",
        "        \n",
        "    return product \n",
        "  \n",
        "A = ([2, 3, 4, 5])\n",
        "B = ([8, 9, 0, 7])\n",
        "\n",
        "print(\"Dot product:\", dotProduct(A, B))"
      ],
      "execution_count": 0,
      "outputs": []
    },
    {
      "cell_type": "markdown",
      "metadata": {
        "id": "0QnpFIDKLV1z",
        "colab_type": "text"
      },
      "source": [
        "**Write a function that can calculate the norm of any vector¶\n",
        "**"
      ]
    },
    {
      "cell_type": "code",
      "metadata": {
        "id": "oMuPW9BjLVaT",
        "colab_type": "code",
        "colab": {}
      },
      "source": [
        "def norm (v_1):\n",
        "\n",
        "  norm_vect = np.sqrt(np.sum(np.square(v_1)))\n",
        "\n",
        "  return norm_vect\n",
        "\n",
        "print('Length', norm(A))\n",
        "print('Length', norm(B))"
      ],
      "execution_count": 0,
      "outputs": []
    },
    {
      "cell_type": "markdown",
      "metadata": {
        "id": "SQOgTb3VLg7h",
        "colab_type": "text"
      },
      "source": [
        "**Research how to plot a 3d graph with animations so that you can make the graph rotate.**\n"
      ]
    },
    {
      "cell_type": "code",
      "metadata": {
        "id": "9M7a_-s7LdSi",
        "colab_type": "code",
        "colab": {}
      },
      "source": [
        "fig = plt.figure()\n",
        "ax = fig.add_subplot(111, projection = '3d')\n",
        "\n",
        "x, y, z = Axes3D.get_test_data(0.05)\n",
        "ax.plot_wireframe(x, y, z, rstride = 10, cstride = 10 )\n",
        "plt.show()"
      ],
      "execution_count": 0,
      "outputs": []
    },
    {
      "cell_type": "markdown",
      "metadata": {
        "id": "OcugaR9pMKLV",
        "colab_type": "text"
      },
      "source": [
        "**Create and plot a matrix on a 2d graph.**"
      ]
    },
    {
      "cell_type": "code",
      "metadata": {
        "id": "jF1KG_3gMRZ2",
        "colab_type": "code",
        "colab": {}
      },
      "source": [
        "# Make an array with ones in the shape of an 'X'\n",
        "a = np.eye(10,10)\n",
        "a -= a[::-1,:]\n",
        "\n",
        "fig = plt.figure()\n",
        "\n",
        "ax1 = fig.add_subplot(122)\n",
        "# 'nearest' interpolation \n",
        "#Reference  Polynomial interpolation is a method of estimating values between known data points. When graphical data contains a gap, but data is available on either side of the gap or at a few specific points within the gap, interpolation allows us to estimate the values within the gap.\n",
        "ax1.imshow(a, interpolation='nearest', cmap=cm.Greys_r)\n",
        "\n",
        "plt.show()\n",
        "\n",
        "#https://scipython.com/book/chapter-7-matplotlib/examples/visualizing-a-matrix-with-imshow/\n"
      ],
      "execution_count": 0,
      "outputs": []
    },
    {
      "cell_type": "code",
      "metadata": {
        "id": "1KnQYMGgMU6Q",
        "colab_type": "code",
        "colab": {}
      },
      "source": [
        "def surface_plot (matrix, **kwargs):\n",
        "    # acquire the cartesian coordinate matrices from the matrix\n",
        "    # x is cols, y is rows\n",
        "    (x, y) = np.meshgrid(np.arange(matrix.shape[0]), np.arange(matrix.shape[1]))\n",
        "    fig = plt.figure()\n",
        "    ax = fig.add_subplot(111, projection='3d')\n",
        "    surf = ax.plot_surface(x, y, matrix, **kwargs)\n",
        "    return (fig, ax, surf)\n",
        "\n",
        "# m.shape must be (10,10)\n",
        "m = np.fromfunction(lambda x, y: np.sin(np.sqrt(x**2 + y**2)), (10, 10))\n",
        "\n",
        "(fig, ax, surf) = surface_plot(m, cmap=plt.cm.coolwarm)\n",
        "\n",
        "fig.colorbar(surf)\n",
        "\n",
        "ax.set_xlabel('X (cols)')\n",
        "ax.set_ylabel('Y (rows)')\n",
        "ax.set_zlabel('Z (values)')\n",
        "\n",
        "plt.show()\n",
        "\n",
        "#https://gist.github.com/CMCDragonkai/dd420c0800cba33142505eff5a7d2589"
      ],
      "execution_count": 0,
      "outputs": []
    },
    {
      "cell_type": "markdown",
      "metadata": {
        "id": "NtU3CldxMZ0z",
        "colab_type": "text"
      },
      "source": [
        "**Plot two vectors that are not collinear on a 2d graph.**\n"
      ]
    },
    {
      "cell_type": "code",
      "metadata": {
        "id": "YhfoVxJQMd1K",
        "colab_type": "code",
        "colab": {}
      },
      "source": [
        "m_1 = np.matrix('1 0; 0 2')\n",
        "m_2 = np.matrix('3 4; 1 6')\n",
        "\n",
        "plt.arrow(0,0, m_2[0,0], m_2[1,0], head_width=.1, head_length=.25, color = \"orange\")\n",
        "plt.arrow(0,0, m_2[0,1], m_2[1,1], head_width=.1, head_length=.25, color = \"c\")\n",
        "plt.fill([0,3,7,4],[0,1,7,6], alpha = .5)\n",
        "\n",
        "plt.arrow(0,0, m_1[0,0], m_1[1,0], head_width=.1, head_length=.25, color = \"red\")\n",
        "plt.arrow(0,0, m_1[0,1], m_1[1,1], head_width=.1, head_length=.25, color = \"blue\")\n",
        "plt.fill([0,1,1,0],[0,0,2,2], color = 'purple')"
      ],
      "execution_count": 0,
      "outputs": []
    },
    {
      "cell_type": "code",
      "metadata": {
        "id": "vEvbEYHQMmzH",
        "colab_type": "code",
        "colab": {}
      },
      "source": [
        "np.linalg.det(m_1)"
      ],
      "execution_count": 0,
      "outputs": []
    },
    {
      "cell_type": "code",
      "metadata": {
        "id": "1LLLQJZkMoLp",
        "colab_type": "code",
        "colab": {}
      },
      "source": [
        "np.linalg.det(m_2)"
      ],
      "execution_count": 0,
      "outputs": []
    },
    {
      "cell_type": "markdown",
      "metadata": {
        "id": "xFEq1Wr-Mtan",
        "colab_type": "text"
      },
      "source": [
        "Determinant volume scaling factor of the linear transformation described by the matrix. It can also be thought of in a 2x2 matrix as the area of parallelogram. (Khan Academy)"
      ]
    }
  ]
}