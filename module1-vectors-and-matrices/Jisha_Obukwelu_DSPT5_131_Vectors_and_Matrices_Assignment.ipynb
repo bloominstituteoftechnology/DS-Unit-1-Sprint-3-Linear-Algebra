{
  "nbformat": 4,
  "nbformat_minor": 0,
  "metadata": {
    "colab": {
      "name": "Jisha Obukwelu_DSPT5_131_Vectors_and_Matrices_Assignment.ipynb",
      "provenance": [],
      "collapsed_sections": [],
      "include_colab_link": true
    },
    "kernelspec": {
      "name": "python3",
      "display_name": "Python 3"
    }
  },
  "cells": [
    {
      "cell_type": "markdown",
      "metadata": {
        "id": "view-in-github",
        "colab_type": "text"
      },
      "source": [
        "<a href=\"https://colab.research.google.com/github/jiobu1/DS-Unit-1-Sprint-3-Linear-Algebra/blob/master/module1-vectors-and-matrices/Jisha_Obukwelu_DSPT5_131_Vectors_and_Matrices_Assignment.ipynb\" target=\"_parent\"><img src=\"https://colab.research.google.com/assets/colab-badge.svg\" alt=\"Open In Colab\"/></a>"
      ]
    },
    {
      "cell_type": "code",
      "metadata": {
        "id": "jJ5MG7ECulMK",
        "colab_type": "code",
        "colab": {}
      },
      "source": [
        "#Imports\n",
        "import math \n",
        "import pandas as pd\n",
        "import numpy as np\n",
        "import matplotlib.pyplot as plt\n",
        "from mpl_toolkits.mplot3d import Axes3D\n",
        "import matplotlib.cm as cm"
      ],
      "execution_count": 0,
      "outputs": []
    },
    {
      "cell_type": "markdown",
      "metadata": {
        "id": "yXA3GwWhY9KL",
        "colab_type": "text"
      },
      "source": [
        "# Part 1 - Scalars and Vectors\n",
        "\n",
        "For the questions below it is not sufficient to simply provide answer to the questions, but you must solve the problems and show your work using python (the NumPy library will help a lot!) Translate the vectors and matrices into their appropriate python  representations and use numpy or functions that you write yourself to demonstrate the result or property. "
      ]
    },
    {
      "cell_type": "markdown",
      "metadata": {
        "id": "oNOTv43_Zi9L",
        "colab_type": "text"
      },
      "source": [
        "## 1.1 Create a two-dimensional vector and plot it on a graph"
      ]
    },
    {
      "cell_type": "code",
      "metadata": {
        "id": "XNqjzQzrkVG7",
        "colab_type": "code",
        "colab": {
          "base_uri": "https://localhost:8080/",
          "height": 269
        },
        "outputId": "4ec54c2d-198c-44c2-d30b-9a3b93940c3f"
      },
      "source": [
        "orange = np.array([4, 6])\n",
        "\n",
        "fig, ax = plt.subplots()\n",
        "ax.grid()\n",
        "plt.xlim(-1, 10)\n",
        "plt.ylim(-1, 10)\n",
        "\n",
        "plt.arrow(0,0, \n",
        "          *orange, \n",
        "          head_width = 0.5, \n",
        "          head_length = 0.5, \n",
        "          linewidth = 3, \n",
        "          color = 'orange')\n",
        "\n",
        "plt.show()"
      ],
      "execution_count": 72,
      "outputs": [
        {
          "output_type": "display_data",
          "data": {
            "image/png": "[encoded data removed]",
            "text/plain": [
              "<Figure size 432x288 with 1 Axes>"
            ]
          },
          "metadata": {
            "tags": []
          }
        }
      ]
    },
    {
      "cell_type": "markdown",
      "metadata": {
        "id": "unKFT619lk3e",
        "colab_type": "text"
      },
      "source": [
        "## 1.2 Create a three-dimensional vecor and plot it on a graph"
      ]
    },
    {
      "cell_type": "code",
      "metadata": {
        "id": "atUEd3T6llKm",
        "colab_type": "code",
        "colab": {
          "base_uri": "https://localhost:8080/",
          "height": 367
        },
        "outputId": "31f1c471-a3a0-444a-af09-ac3094384e56"
      },
      "source": [
        "orange1 = [4, 6, 8]\n",
        "vector = np.array([[0, 0, 0, *orange1]])\n",
        "\n",
        "print(vector)\n",
        "\n",
        "#unzip that vector\n",
        "X, Y, Z, U, V, W = zip(*vector)\n",
        "for letter in [X, Y, Z, U, V, W]:\n",
        "  print(letter)\n",
        "\n",
        "#display that in 3D  \n",
        "from mpl_toolkits.mplot3d import Axes3D\n",
        "\n",
        "fig = plt.figure()\n",
        "ax = fig.add_subplot(111, projection='3d')\n",
        "ax.quiver(X, Y, Z, U, V, W, length=1, color='orange',linewidth=6)\n",
        "ax.set_xlim([0, 10])\n",
        "ax.set_ylim([0, 10])\n",
        "ax.set_zlim([0, 10])\n",
        "ax.set_xlabel('X')\n",
        "ax.set_ylabel('Y')\n",
        "ax.set_zlabel('Z')\n",
        "plt.show()"
      ],
      "execution_count": 73,
      "outputs": [
        {
          "output_type": "stream",
          "text": [
            "[[0 0 0 4 6 8]]\n",
            "(0,)\n",
            "(0,)\n",
            "(0,)\n",
            "(4,)\n",
            "(6,)\n",
            "(8,)\n"
          ],
          "name": "stdout"
        },
        {
          "output_type": "display_data",
          "data": {
            "image/png": "[encoded data removed]",
            "text/plain": [
              "<Figure size 432x288 with 1 Axes>"
            ]
          },
          "metadata": {
            "tags": []
          }
        }
      ]
    },
    {
      "cell_type": "markdown",
      "metadata": {
        "id": "b7qFxbKxZmI2",
        "colab_type": "text"
      },
      "source": [
        "## 1.3 Scale the vectors you created in 1.1 by $5$, $\\pi$, and $-e$ and plot all four vectors (original + 3 scaled vectors) on a graph. What do you notice about these vectors? "
      ]
    },
    {
      "cell_type": "code",
      "metadata": {
        "id": "ah6zMSLJdJwL",
        "colab_type": "code",
        "outputId": "afe14ed7-923d-489e-e176-a6e3a40e6f95",
        "colab": {
          "base_uri": "https://localhost:8080/",
          "height": 51
        }
      },
      "source": [
        "from math import e, pi\n",
        "print(e)\n",
        "print(pi)"
      ],
      "execution_count": 74,
      "outputs": [
        {
          "output_type": "stream",
          "text": [
            "2.718281828459045\n",
            "3.141592653589793\n"
          ],
          "name": "stdout"
        }
      ]
    },
    {
      "cell_type": "code",
      "metadata": {
        "id": "3qpwDlzXkVf5",
        "colab_type": "code",
        "colab": {
          "base_uri": "https://localhost:8080/",
          "height": 337
        },
        "outputId": "29bf5d8e-f2c3-4a9e-b97d-457ebfc59e35"
      },
      "source": [
        "#multiply orange by scalars\n",
        "\n",
        "purple = np.multiply(orange, 5)\n",
        "blue = np.multiply(orange, pi)\n",
        "brick = np.multiply(orange, -e)\n",
        "\n",
        "print(purple, '\\n', blue, '\\n', brick, '\\n')\n",
        "\n",
        "# Plot the scaled vector\n",
        "fig, ax = plt.subplots()\n",
        "ax.grid()\n",
        "\n",
        "plt.arrow(0,0, *purple, head_width=0.5, linewidth = 12, color = 'magenta')\n",
        "plt.arrow(0,0, *blue, head_width=0.5, linewidth = 8, color = 'dodgerblue')\n",
        "plt.arrow(0,0, *brick, head_width=0.5, linewidth = 10, color = 'red')\n",
        "\n",
        "\n",
        "plt.xlim(-25,40)          \n",
        "plt.ylim(-25,40)\n",
        "\n",
        "plt.show;\n",
        "\n",
        "\n"
      ],
      "execution_count": 75,
      "outputs": [
        {
          "output_type": "stream",
          "text": [
            "[20 30] \n",
            " [12.56637061 18.84955592] \n",
            " [-10.87312731 -16.30969097] \n",
            "\n"
          ],
          "name": "stdout"
        },
        {
          "output_type": "display_data",
          "data": {
            "image/png": "[encoded data removed]",
            "text/plain": [
              "<Figure size 432x288 with 1 Axes>"
            ]
          },
          "metadata": {
            "tags": []
          }
        }
      ]
    },
    {
      "cell_type": "markdown",
      "metadata": {
        "id": "wrgqa6sWimbH",
        "colab_type": "text"
      },
      "source": [
        "## 1.4 Graph vectors $\\vec{a}$ and $\\vec{b}$ and plot them on a graph\n",
        "\n",
        "\\begin{align}\n",
        "\\vec{a} = \\begin{bmatrix} 5 \\\\ 7 \\end{bmatrix}\n",
        "\\qquad\n",
        "\\vec{b} = \\begin{bmatrix} 3 \\\\4 \\end{bmatrix}\n",
        "\\end{align}"
      ]
    },
    {
      "cell_type": "code",
      "metadata": {
        "id": "I1BGXA_skV-b",
        "colab_type": "code",
        "colab": {
          "base_uri": "https://localhost:8080/",
          "height": 269
        },
        "outputId": "42057ed9-7b2b-40e0-b92b-891f53466c9f"
      },
      "source": [
        "a = np.array([5, 7])\n",
        "\n",
        "b = np.array([3, 4])\n",
        "\n",
        "\n",
        "# Plot the scaled vector\n",
        "fig, ax = plt.subplots()\n",
        "ax.grid()\n",
        "\n",
        "plt.arrow(0,0, *a, head_width=0.5, linewidth = 5, color = 'pink')\n",
        "plt.arrow(0,0, *b, head_width=0.5, linewidth = 3, color = 'cyan')\n",
        "\n",
        "\n",
        "plt.xlim(0,10)          \n",
        "plt.ylim(0,10)\n",
        "\n",
        "plt.show;"
      ],
      "execution_count": 76,
      "outputs": [
        {
          "output_type": "display_data",
          "data": {
            "image/png": "[encoded data removed]",
            "text/plain": [
              "<Figure size 432x288 with 1 Axes>"
            ]
          },
          "metadata": {
            "tags": []
          }
        }
      ]
    },
    {
      "cell_type": "markdown",
      "metadata": {
        "id": "QN6RU_3gizpw",
        "colab_type": "text"
      },
      "source": [
        "## 1.5 find $\\vec{a} - \\vec{b}$ and plot the result on the same graph as $\\vec{a}$ and $\\vec{b}$. Is there a relationship between vectors $\\vec{a} \\thinspace, \\vec{b} \\thinspace \\text{and} \\thinspace \\vec{a-b}$"
      ]
    },
    {
      "cell_type": "code",
      "metadata": {
        "id": "68sWHIOPkXp5",
        "colab_type": "code",
        "colab": {
          "base_uri": "https://localhost:8080/",
          "height": 286
        },
        "outputId": "2667c1bf-104c-4eef-96ba-cbfa777096c1"
      },
      "source": [
        "print(np.subtract(a,b))\n",
        "\n",
        "# Plot the scaled vector\n",
        "fig, ax = plt.subplots()\n",
        "ax.grid()\n",
        "\n",
        "plt.arrow(0,0, *a, head_width=0.5, linewidth = 5, color = 'pink')\n",
        "plt.arrow(0,0, *b, head_width=0.5, linewidth = 3, color = 'cyan')\n",
        "plt.arrow(0,0, *(np.subtract(a,b)), head_width=0.5, linewidth = 3, color = 'crimson')\n",
        "\n",
        "\n",
        "\n",
        "plt.xlim(0,10)          \n",
        "plt.ylim(0,10)\n",
        "\n",
        "plt.show;"
      ],
      "execution_count": 77,
      "outputs": [
        {
          "output_type": "stream",
          "text": [
            "[2 3]\n"
          ],
          "name": "stdout"
        },
        {
          "output_type": "display_data",
          "data": {
            "image/png": "[encoded data removed]",
            "text/plain": [
              "<Figure size 432x288 with 1 Axes>"
            ]
          },
          "metadata": {
            "tags": []
          }
        }
      ]
    },
    {
      "cell_type": "markdown",
      "metadata": {
        "id": "1ZPVuJAlehu_",
        "colab_type": "text"
      },
      "source": [
        "## 1.6 Find $c \\cdot d$\n",
        "\n",
        "\\begin{align}\n",
        "\\vec{c} = \\begin{bmatrix}7 & 22 & 4 & 16\\end{bmatrix}\n",
        "\\qquad\n",
        "\\vec{d} = \\begin{bmatrix}12 & 6 & 2 & 9\\end{bmatrix}\n",
        "\\end{align}\n"
      ]
    },
    {
      "cell_type": "code",
      "metadata": {
        "id": "2_cZQFCskYNr",
        "colab_type": "code",
        "colab": {
          "base_uri": "https://localhost:8080/",
          "height": 34
        },
        "outputId": "a87c160a-4bf5-49f4-9a3f-8c7fc9fab44d"
      },
      "source": [
        "c = np.array([7, 22, 4, 16])\n",
        "d = np.array([12, 6, 2, 9])\n",
        "\n",
        "# Using Dot-Product Method\n",
        "np.dot(c,d)"
      ],
      "execution_count": 78,
      "outputs": [
        {
          "output_type": "execute_result",
          "data": {
            "text/plain": [
              "368"
            ]
          },
          "metadata": {
            "tags": []
          },
          "execution_count": 78
        }
      ]
    },
    {
      "cell_type": "markdown",
      "metadata": {
        "id": "cLm8yokpfg9B",
        "colab_type": "text"
      },
      "source": [
        "##  1.7 Find $e \\times f$\n",
        "\n",
        "\\begin{align}\n",
        "\\vec{e} = \\begin{bmatrix} 5 \\\\ 7 \\\\ 2 \\end{bmatrix}\n",
        "\\qquad\n",
        "\\vec{f} = \\begin{bmatrix} 3 \\\\4 \\\\ 6 \\end{bmatrix}\n",
        "\\end{align}"
      ]
    },
    {
      "cell_type": "code",
      "metadata": {
        "id": "ku-TdCKAkYs8",
        "colab_type": "code",
        "colab": {
          "base_uri": "https://localhost:8080/",
          "height": 34
        },
        "outputId": "793ca3e0-3e5f-4f52-f7ec-5f1972c5d606"
      },
      "source": [
        "e = np.array([5, 7, 2])\n",
        "f = np.array([3, 4, 6])\n",
        "\n",
        "np.multiply(e, f)"
      ],
      "execution_count": 79,
      "outputs": [
        {
          "output_type": "execute_result",
          "data": {
            "text/plain": [
              "array([15, 28, 12])"
            ]
          },
          "metadata": {
            "tags": []
          },
          "execution_count": 79
        }
      ]
    },
    {
      "cell_type": "markdown",
      "metadata": {
        "id": "-TN8wO2-h53s",
        "colab_type": "text"
      },
      "source": [
        "## 1.8 Find $||g||$ and then find $||h||$. Which is longer?\n",
        "\n",
        "\\begin{align}\n",
        "\\vec{g} = \\begin{bmatrix} 1 \\\\ 1 \\\\ 1 \\\\ 8 \\end{bmatrix}\n",
        "\\qquad\n",
        "\\vec{h} = \\begin{bmatrix} 3 \\\\3 \\\\ 3 \\\\ 3 \\end{bmatrix}\n",
        "\\end{align}"
      ]
    },
    {
      "cell_type": "code",
      "metadata": {
        "id": "-5VKOMKBlgaA",
        "colab_type": "code",
        "colab": {
          "base_uri": "https://localhost:8080/",
          "height": 85
        },
        "outputId": "95971dcb-f293-4540-cb37-fe02bd9a611f"
      },
      "source": [
        "#Find ||𝑔|| and ||ℎ||\n",
        "g = np.array([1,1, 1, 8])\n",
        "h = np.array([3, 3, 3, 3])\n",
        "\n",
        "\n",
        "norm_g = np.linalg.norm(g)\n",
        "norm_h = np.linalg.norm(h)\n",
        "print(g, \"\\n Norm of g:\", norm_g)\n",
        "print(h, \"\\n Norm of h:\", norm_h)"
      ],
      "execution_count": 80,
      "outputs": [
        {
          "output_type": "stream",
          "text": [
            "[1 1 1 8] \n",
            " Norm of g: 8.18535277187245\n",
            "[3 3 3 3] \n",
            " Norm of h: 6.0\n"
          ],
          "name": "stdout"
        }
      ]
    },
    {
      "cell_type": "markdown",
      "metadata": {
        "id": "p9Xa3DpU_x2E",
        "colab_type": "text"
      },
      "source": [
        "g is longer than h"
      ]
    },
    {
      "cell_type": "markdown",
      "metadata": {
        "id": "njrWIMS-ZAoH",
        "colab_type": "text"
      },
      "source": [
        "# Part 2 - Matrices"
      ]
    },
    {
      "cell_type": "markdown",
      "metadata": {
        "id": "GjkcAVIOmOnn",
        "colab_type": "text"
      },
      "source": [
        "## 2.1 What are the dimensions of the following matrices? Which of the following can be multiplied together? See if you can find all of the different legal combinations.\n",
        "\\begin{align}\n",
        "A = \\begin{bmatrix}\n",
        "1 & 2 \\\\\n",
        "3 & 4 \\\\\n",
        "5 & 6\n",
        "\\end{bmatrix}\n",
        "\\qquad\n",
        "B = \\begin{bmatrix}\n",
        "2 & 4 & 6 \\\\\n",
        "\\end{bmatrix}\n",
        "\\qquad\n",
        "C = \\begin{bmatrix}\n",
        "9 & 6 & 3 \\\\\n",
        "4 & 7 & 11\n",
        "\\end{bmatrix}\n",
        "\\qquad\n",
        "D = \\begin{bmatrix}\n",
        "1 & 0 & 0 \\\\\n",
        "0 & 1 & 0 \\\\\n",
        "0 & 0 & 1\n",
        "\\end{bmatrix}\n",
        "\\qquad\n",
        "E = \\begin{bmatrix}\n",
        "1 & 3 \\\\\n",
        "5 & 7\n",
        "\\end{bmatrix}\n",
        "\\end{align}"
      ]
    },
    {
      "cell_type": "code",
      "metadata": {
        "id": "Z69c-uPtnbIx",
        "colab_type": "code",
        "colab": {
          "base_uri": "https://localhost:8080/",
          "height": 102
        },
        "outputId": "4ab14944-5387-4c27-e149-765e8851c46a"
      },
      "source": [
        "A = np.array([1, 2, 3, 4, 5, 6]).reshape(3, 2)\n",
        "B = np.array([2, 4, 6]).reshape(1,3)\n",
        "C = np.array([9, 6, 3, 4, 7, 11]).reshape(2,3)\n",
        "D = np.identity(3)\n",
        "E = np.array([1, 3, 5, 7]).reshape(2, 2)\n",
        "\n",
        "print(A.shape,'\\n', \n",
        "      B.shape,'\\n', \n",
        "      C.shape,'\\n', \n",
        "      D.shape,'\\n', \n",
        "      E.shape)"
      ],
      "execution_count": 81,
      "outputs": [
        {
          "output_type": "stream",
          "text": [
            "(3, 2) \n",
            " (1, 3) \n",
            " (2, 3) \n",
            " (3, 3) \n",
            " (2, 2)\n"
          ],
          "name": "stdout"
        }
      ]
    },
    {
      "cell_type": "markdown",
      "metadata": {
        "id": "PDRep94fAIXi",
        "colab_type": "text"
      },
      "source": [
        "A = 3, 2\n",
        "\n",
        "A.T = 2, 3\n",
        "\n",
        "B = 1, 3\n",
        "\n",
        "B.T = 3, 1\n",
        "\n",
        "C = 2, 3\n",
        "\n",
        "C.T = 3,2\n",
        "\n",
        "D = 3, 3\n",
        "\n",
        "E = 2, 2\n",
        "\n",
        "\n",
        "possible combinations:\n",
        "\n",
        "A can be multiplied by C and E, A.T\n",
        "\n",
        "A.T can be multiplied by A, B.T, C.T, and D\n",
        "\n",
        "B can be multiplied by A and D\n",
        "\n",
        "B.T can be multipled B\n",
        "\n",
        "C can be multiplied by D\n",
        "\n",
        "C.T can be multiplied by A.T, C, and E\n",
        "\n",
        "D can be multiplied by A, B.T and C.T\n",
        "\n",
        "E can be multiplied by C and A.T\n",
        "\n",
        "\\begin{align}\n",
        "\\begin{bmatrix}\n",
        "A[3, 2] & C[2, 3]\\\\\n",
        "A[3, 2] & E[2, 2]\\\\\n",
        "A[3, 2] & A.T[2, 3]\\\\\n",
        "A.T[3, 2] & A[2, 3]\\\\\n",
        "A.T[2, 3] & B.T[3, 1]\\\\\n",
        "A.T[2, 3] & C.T[3, 2]\\\\\n",
        "A.T[2, 3] & D[3, 3]\\\\\n",
        "B[1, 3] & A[3, 2]\\\\\n",
        "B[1, 3] & D[3, 3]\\\\\n",
        "B.T[3, 1] & B[1, 3]\\\\\n",
        "C[2, 3] & D[3, 3]\\\\\n",
        "C.T[3, 2] & A.T[2, 3]\\\\\n",
        "C.T[3, 2] & C[2, 3]\\\\\n",
        "C.T[3, 2] & E[2, 2]\\\\\n",
        "D[3, 3] & A[3, 2]\\\\\n",
        "D[3, 3] & B.T[3, 2]\\\\\n",
        "D[3, 3] & C.T[3, 2]\\\\\n",
        "E[2, 2] & C[2, 3]\\\\\n",
        "E[2, 2] & A.T[2, 3]\\\\\n",
        "\\end{bmatrix}\n",
        "\\end{align}\n"
      ]
    },
    {
      "cell_type": "markdown",
      "metadata": {
        "id": "lMOlCoM3ncGa",
        "colab_type": "text"
      },
      "source": [
        "## 2.2 Find the following products: CD, AE, and BA. What are the dimensions of the resulting matrices? How does that relate to the dimensions of their factor matrices?"
      ]
    },
    {
      "cell_type": "code",
      "metadata": {
        "id": "zhKwiSItoE2F",
        "colab_type": "code",
        "colab": {
          "base_uri": "https://localhost:8080/",
          "height": 272
        },
        "outputId": "8af4068c-35a9-4bcf-9d05-6fe77b231165"
      },
      "source": [
        "print('I am the product of C and D\\n',np.dot(C, D),'\\n I am the resulting shape',(np.dot(C, D)).shape,'\\n')\n",
        "print('I am the product of C and D\\n',np.dot(A, E), '\\n I am the resulting shape',np.dot(A, E).shape,'\\n')\n",
        "print('I am the product of C and D\\n',np.dot(B, A), '\\n I am the resulting shape',np.dot(B, A).shape,'\\n')"
      ],
      "execution_count": 82,
      "outputs": [
        {
          "output_type": "stream",
          "text": [
            "I am the product of C and D\n",
            " [[ 9.  6.  3.]\n",
            " [ 4.  7. 11.]] \n",
            " I am the resulting shape (2, 3) \n",
            "\n",
            "I am the product of C and D\n",
            " [[11 17]\n",
            " [23 37]\n",
            " [35 57]] \n",
            " I am the resulting shape (3, 2) \n",
            "\n",
            "I am the product of C and D\n",
            " [[44 56]] \n",
            " I am the resulting shape (1, 2) \n",
            "\n"
          ],
          "name": "stdout"
        }
      ]
    },
    {
      "cell_type": "markdown",
      "metadata": {
        "id": "p2jmaGLgoFPN",
        "colab_type": "text"
      },
      "source": [
        "## 2.3  Find $F^{T}$. How are the numbers along the main diagonal (top left to bottom right) of the original matrix and its transpose related? What are the dimensions of $F$? What are the dimensions of $F^{T}$?\n",
        "\n",
        "\\begin{align}\n",
        "F = \n",
        "\\begin{bmatrix}\n",
        "20 & 19 & 18 & 17 \\\\\n",
        "16 & 15 & 14 & 13 \\\\\n",
        "12 & 11 & 10 & 9 \\\\\n",
        "8 & 7 & 6 & 5 \\\\\n",
        "4 & 3 & 2 & 1\n",
        "\\end{bmatrix}\n",
        "\\end{align}"
      ]
    },
    {
      "cell_type": "code",
      "metadata": {
        "id": "Wl3ElwgLqaAn",
        "colab_type": "code",
        "colab": {
          "base_uri": "https://localhost:8080/",
          "height": 51
        },
        "outputId": "dfe17d2a-b944-4c47-d996-bb0d26af7a76"
      },
      "source": [
        "F = np.array([20,19, 18, 17, 16, 15, 14, 13, 12, 11, 10, 9, 8, 7, 6, 5, 4, 3, 2,1]).reshape(5, 4)\n",
        "print('Dimensions of F',F.shape)\n",
        "print('Dimensions of F^T',np.transpose(F).shape)"
      ],
      "execution_count": 83,
      "outputs": [
        {
          "output_type": "stream",
          "text": [
            "Dimensions of F (5, 4)\n",
            "Dimensions of F^T (4, 5)\n"
          ],
          "name": "stdout"
        }
      ]
    },
    {
      "cell_type": "markdown",
      "metadata": {
        "id": "13ik2LEEZLHn",
        "colab_type": "text"
      },
      "source": [
        "# Part 3 - Square Matrices"
      ]
    },
    {
      "cell_type": "markdown",
      "metadata": {
        "id": "sDBAPUwfp7f7",
        "colab_type": "text"
      },
      "source": [
        "## 3.1 Find $IG$ (be sure to show your work) 😃\n",
        "\n",
        "You don't have to do anything crazy complicated here to show your work, just create the G matrix as specified below, and a corresponding 2x2 Identity matrix and then multiply them together to show the result. You don't need to write LaTeX or anything like that (unless you want to).\n",
        "\n",
        "\\begin{align}\n",
        "G= \n",
        "\\begin{bmatrix}\n",
        "13 & 14 \\\\\n",
        "21 & 12 \n",
        "\\end{bmatrix}\n",
        "\\end{align}"
      ]
    },
    {
      "cell_type": "code",
      "metadata": {
        "id": "ZnqvZBOYqar3",
        "colab_type": "code",
        "colab": {
          "base_uri": "https://localhost:8080/",
          "height": 51
        },
        "outputId": "d5545460-c75b-4167-b820-4d74ff662d94"
      },
      "source": [
        "G = np.array([13, 14, 21, 12]).reshape(2,2)\n",
        "G_I = np.linalg.inv(G)\n",
        "np.dot(G, G_I)"
      ],
      "execution_count": 84,
      "outputs": [
        {
          "output_type": "execute_result",
          "data": {
            "text/plain": [
              "array([[ 1.00000000e+00, -1.38777878e-16],\n",
              "       [ 2.22044605e-16,  1.00000000e+00]])"
            ]
          },
          "metadata": {
            "tags": []
          },
          "execution_count": 84
        }
      ]
    },
    {
      "cell_type": "markdown",
      "metadata": {
        "id": "DZ_0XTDQqpMT",
        "colab_type": "text"
      },
      "source": [
        "## 3.2 Find $|H|$ and then find $|J|$.\n",
        "\n",
        "\\begin{align}\n",
        "H= \n",
        "\\begin{bmatrix}\n",
        "12 & 11 \\\\\n",
        "7 & 10 \n",
        "\\end{bmatrix}\n",
        "\\qquad\n",
        "J= \n",
        "\\begin{bmatrix}\n",
        "0 & 1 & 2 \\\\\n",
        "7 & 10 & 4 \\\\\n",
        "3 & 2 & 0\n",
        "\\end{bmatrix}\n",
        "\\end{align}\n"
      ]
    },
    {
      "cell_type": "code",
      "metadata": {
        "id": "5QShhoXyrjDS",
        "colab_type": "code",
        "colab": {
          "base_uri": "https://localhost:8080/",
          "height": 34
        },
        "outputId": "2addf42e-9d0c-4ad6-a9e7-3e4f72555fb7"
      },
      "source": [
        "H = np.array([12, 11, 7, 10]).reshape(2, 2)\n",
        "print('Determinant of H',np.linalg.det(H))"
      ],
      "execution_count": 85,
      "outputs": [
        {
          "output_type": "stream",
          "text": [
            "Determinant of H 43.000000000000014\n"
          ],
          "name": "stdout"
        }
      ]
    },
    {
      "cell_type": "code",
      "metadata": {
        "id": "SSHXW9DNJ--Z",
        "colab_type": "code",
        "colab": {
          "base_uri": "https://localhost:8080/",
          "height": 34
        },
        "outputId": "390b0e64-c1bf-4b68-b9e1-ec77a7699b3f"
      },
      "source": [
        "J = np.array([0, 1, 2, 7, 10, 4, 3, 2, 0]).reshape(3,3)\n",
        "print('Determinant of H',np.linalg.det(J))"
      ],
      "execution_count": 86,
      "outputs": [
        {
          "output_type": "stream",
          "text": [
            "Determinant of H -19.999999999999996\n"
          ],
          "name": "stdout"
        }
      ]
    },
    {
      "cell_type": "markdown",
      "metadata": {
        "id": "2gZl1CFwrXSH",
        "colab_type": "text"
      },
      "source": [
        "## 3.3 Find $H^{-1}$ and then find $J^{-1}$"
      ]
    },
    {
      "cell_type": "code",
      "metadata": {
        "id": "nyX6De2-rio1",
        "colab_type": "code",
        "colab": {
          "base_uri": "https://localhost:8080/",
          "height": 68
        },
        "outputId": "2a9e9a4f-d39e-43cc-e39f-bb938d9f843b"
      },
      "source": [
        "H_I = np.linalg.inv(H)\n",
        "print('Inverse of H\\n', H_I)"
      ],
      "execution_count": 87,
      "outputs": [
        {
          "output_type": "stream",
          "text": [
            "Inverse of H\n",
            " [[ 0.23255814 -0.25581395]\n",
            " [-0.1627907   0.27906977]]\n"
          ],
          "name": "stdout"
        }
      ]
    },
    {
      "cell_type": "code",
      "metadata": {
        "id": "0YYqVrZjKbBZ",
        "colab_type": "code",
        "colab": {
          "base_uri": "https://localhost:8080/",
          "height": 85
        },
        "outputId": "317c2395-ce45-4b1b-a072-7b7a4acdaa60"
      },
      "source": [
        "J_I = np.linalg.inv(J)\n",
        "print('Inverse of J\\n', J_I)"
      ],
      "execution_count": 88,
      "outputs": [
        {
          "output_type": "stream",
          "text": [
            "Inverse of J\n",
            " [[ 0.4  -0.2   0.8 ]\n",
            " [-0.6   0.3  -0.7 ]\n",
            " [ 0.8  -0.15  0.35]]\n"
          ],
          "name": "stdout"
        }
      ]
    },
    {
      "cell_type": "markdown",
      "metadata": {
        "id": "Vvd4Pe86rjhW",
        "colab_type": "text"
      },
      "source": [
        "## 3.4 Find $HH^{-1}$ and then find $J^{-1}J$. Is $HH^{-1} == J^{-1}J$? Why or Why not? \n",
        "\n",
        "Please ignore Python rounding errors. If necessary, format your output so that it rounds to 5 significant digits (the fifth decimal place)."
      ]
    },
    {
      "cell_type": "code",
      "metadata": {
        "id": "FvIkrBl8Kk3K",
        "colab_type": "code",
        "colab": {
          "base_uri": "https://localhost:8080/",
          "height": 102
        },
        "outputId": "a5e77239-e16d-44e2-de7a-ce7eaec6058e"
      },
      "source": [
        "print(f'Matrix H x H^-1\\n{np.dot(H, H_I)}')\n",
        "print((np.dot(H, H_I)))"
      ],
      "execution_count": 106,
      "outputs": [
        {
          "output_type": "stream",
          "text": [
            "Matrix H x H^-1\n",
            "[[1.00000000e+00 5.55111512e-16]\n",
            " [2.22044605e-16 1.00000000e+00]]\n",
            "[[1.00000000e+00 5.55111512e-16]\n",
            " [2.22044605e-16 1.00000000e+00]]\n"
          ],
          "name": "stdout"
        }
      ]
    },
    {
      "cell_type": "code",
      "metadata": {
        "id": "e-U7CApqKmBM",
        "colab_type": "code",
        "colab": {
          "base_uri": "https://localhost:8080/",
          "height": 102
        },
        "outputId": "8afb1032-cfe5-4957-bb46-9924fa576cee"
      },
      "source": [
        "print(\"Matrix J^-1 x J\\n\", np.dot(J_I, J))\n",
        "print((np.dot(J, J_I)).shape)"
      ],
      "execution_count": 90,
      "outputs": [
        {
          "output_type": "stream",
          "text": [
            "Matrix J^-1 x J\n",
            " [[ 1.00000000e+00  2.22044605e-16  0.00000000e+00]\n",
            " [-1.11022302e-16  1.00000000e+00  0.00000000e+00]\n",
            " [-1.66533454e-16 -1.11022302e-16  1.00000000e+00]]\n",
            "(3, 3)\n"
          ],
          "name": "stdout"
        }
      ]
    },
    {
      "cell_type": "code",
      "metadata": {
        "id": "bGDd_xiXKngu",
        "colab_type": "code",
        "colab": {}
      },
      "source": [
        "# assert np.allclose(np.dot(H, H_I), np.dot(J_I, J)) \n",
        "# returns an error becuase these do not have similar shapes. "
      ],
      "execution_count": 0,
      "outputs": []
    },
    {
      "cell_type": "markdown",
      "metadata": {
        "id": "jhx_vJvxK3S8",
        "colab_type": "text"
      },
      "source": [
        "$HH^{-1}$ is not equal to $J^{-1}J$?. Though both are square identity matrices, they do not share the same shape.\n",
        "\n"
      ]
    },
    {
      "cell_type": "code",
      "metadata": {
        "id": "AIQitWnbKxmx",
        "colab_type": "code",
        "colab": {}
      },
      "source": [
        "assert np.allclose(np.dot(H, H_I), np.identity(2))"
      ],
      "execution_count": 0,
      "outputs": []
    },
    {
      "cell_type": "code",
      "metadata": {
        "id": "ZN7Pio_mK0WS",
        "colab_type": "code",
        "colab": {}
      },
      "source": [
        "assert np.allclose(np.dot(J_I, J), np.identity(3))"
      ],
      "execution_count": 0,
      "outputs": []
    },
    {
      "cell_type": "markdown",
      "metadata": {
        "id": "V0iTO4McYjtk",
        "colab_type": "text"
      },
      "source": [
        "# Stretch Goals: \n",
        "\n",
        "A reminder that these challenges are optional. If you finish your work quickly we welcome you to work on them. If there are other activities that you feel like will help your understanding of the above topics more, feel free to work on that. Topics from the Stretch Goals sections will never end up on Sprint Challenges. You don't have to do these in order, you don't have to do all of them. \n",
        "\n",
        "- Write a function that can calculate the dot product of any two vectors of equal length that are passed to it.\n",
        "- Write a function that can calculate the norm of any vector\n",
        "- Prove to yourself again that the vectors in 1.9 are orthogonal by graphing them. \n",
        "- Research how to plot a 3d graph with animations so that you can make the graph rotate (this will be easier in a local notebook than in google colab)\n",
        "- Create and plot a matrix on a 2d graph.\n",
        "- Create and plot a matrix on a 3d graph.\n",
        "- Plot two vectors that are not collinear on a 2d graph. Calculate the determinant of the 2x2 matrix that these vectors form. How does this determinant relate to the graphical interpretation of the vectors?\n",
        "\n"
      ]
    },
    {
      "cell_type": "markdown",
      "metadata": {
        "id": "2tB_QGrnLL79",
        "colab_type": "text"
      },
      "source": [
        "**Write a function that can calculate the dot product of any two vectors of equal length that are passed to it.**\n"
      ]
    },
    {
      "cell_type": "code",
      "metadata": {
        "id": "WUZFB2HhLM6D",
        "colab_type": "code",
        "colab": {}
      },
      "source": [
        "def dotProduct(v_1, v_2): \n",
        "\n",
        "    product = 0\n",
        "    n = len(v_1)\n",
        "  \n",
        "    # Loop to calculate dot product \n",
        "    for i in range(0, n): \n",
        "        product = v_1[i] * v_2[i] + product #initially just multiplied two vectors but forgot to add the products together.\n",
        "        print(product)\n",
        "        \n",
        "    return product \n",
        "  \n",
        "A = ([2, 3, 4, 5])\n",
        "B = ([8, 9, 0, 7])\n",
        "\n",
        "print(\"Dot product:\", dotProduct(A, B))"
      ],
      "execution_count": 0,
      "outputs": []
    },
    {
      "cell_type": "markdown",
      "metadata": {
        "id": "0QnpFIDKLV1z",
        "colab_type": "text"
      },
      "source": [
        "**Write a function that can calculate the norm of any vector**"
      ]
    },
    {
      "cell_type": "code",
      "metadata": {
        "id": "oMuPW9BjLVaT",
        "colab_type": "code",
        "colab": {}
      },
      "source": [
        "def norm (v_1):\n",
        "\n",
        "  norm_vect = np.sqrt(np.sum(np.square(v_1)))\n",
        "\n",
        "  return norm_vect\n",
        "\n",
        "print('Length', norm(A))\n",
        "print('Length', norm(B))"
      ],
      "execution_count": 0,
      "outputs": []
    },
    {
      "cell_type": "markdown",
      "metadata": {
        "id": "oYYcXw-Rt3S-",
        "colab_type": "text"
      },
      "source": [
        "**Prove to yourself again that the vectors in 1.9 are orthogonal by graphing them.** \n",
        "(There is no 1.9, so I just plotted two orthogonal vectors."
      ]
    },
    {
      "cell_type": "code",
      "metadata": {
        "id": "7FX65WOOt--6",
        "colab_type": "code",
        "colab": {
          "base_uri": "https://localhost:8080/",
          "height": 265
        },
        "outputId": "bb049a4e-f7a9-435d-9b42-bce75341ebde"
      },
      "source": [
        "# Show that the following vectors are orthogonal\n",
        "l = [0.5,0] \n",
        "m = [0,0.7]\n",
        "\n",
        "# using a plot\n",
        "fig, ax = plt.subplots()\n",
        "ax.grid()\n",
        "plt.xlim(-.25,1.25)          \n",
        "plt.ylim(-.25,1.25)   \n",
        "\n",
        "plt.arrow(0,0, l[0], l[1],\n",
        "          head_width=.05, \n",
        "          head_length=0.05, \n",
        "          linewidth=10,\n",
        "          color ='lightcoral',\n",
        "          )\n",
        "plt.arrow(0,0, m[0], m[1],\n",
        "          head_width=.05, \n",
        "          head_length=0.05, \n",
        "          linewidth=10,\n",
        "          length_includes_head = True,\n",
        "          color ='olivedrab',\n",
        "          )\n",
        "\n",
        "plt.show;"
      ],
      "execution_count": 118,
      "outputs": [
        {
          "output_type": "display_data",
          "data": {
            "image/png": "[encoded data removed]",
            "text/plain": [
              "<Figure size 432x288 with 1 Axes>"
            ]
          },
          "metadata": {
            "tags": []
          }
        }
      ]
    },
    {
      "cell_type": "markdown",
      "metadata": {
        "id": "SQOgTb3VLg7h",
        "colab_type": "text"
      },
      "source": [
        "**Research how to plot a 3d graph with animations so that you can make the graph rotate.**\n"
      ]
    },
    {
      "cell_type": "code",
      "metadata": {
        "id": "VtuXpXhVyD99",
        "colab_type": "code",
        "colab": {
          "base_uri": "https://localhost:8080/",
          "height": 190
        },
        "outputId": "3f3c7a18-c149-478c-fdbb-97b6c7aae477"
      },
      "source": [
        "!pip install chart_studio"
      ],
      "execution_count": 123,
      "outputs": [
        {
          "output_type": "stream",
          "text": [
            "Requirement already satisfied: chart_studio in /usr/local/lib/python3.6/dist-packages (1.0.0)\n",
            "Requirement already satisfied: plotly in /usr/local/lib/python3.6/dist-packages (from chart_studio) (4.4.1)\n",
            "Requirement already satisfied: requests in /usr/local/lib/python3.6/dist-packages (from chart_studio) (2.21.0)\n",
            "Requirement already satisfied: retrying>=1.3.3 in /usr/local/lib/python3.6/dist-packages (from chart_studio) (1.3.3)\n",
            "Requirement already satisfied: six in /usr/local/lib/python3.6/dist-packages (from chart_studio) (1.12.0)\n",
            "Requirement already satisfied: chardet<3.1.0,>=3.0.2 in /usr/local/lib/python3.6/dist-packages (from requests->chart_studio) (3.0.4)\n",
            "Requirement already satisfied: idna<2.9,>=2.5 in /usr/local/lib/python3.6/dist-packages (from requests->chart_studio) (2.8)\n",
            "Requirement already satisfied: urllib3<1.25,>=1.21.1 in /usr/local/lib/python3.6/dist-packages (from requests->chart_studio) (1.24.3)\n",
            "Requirement already satisfied: certifi>=2017.4.17 in /usr/local/lib/python3.6/dist-packages (from requests->chart_studio) (2019.11.28)\n"
          ],
          "name": "stdout"
        }
      ]
    },
    {
      "cell_type": "code",
      "metadata": {
        "id": "9M7a_-s7LdSi",
        "colab_type": "code",
        "colab": {
          "base_uri": "https://localhost:8080/",
          "height": 542
        },
        "outputId": "5af163f8-ed4e-4fa4-acc0-430a32025216"
      },
      "source": [
        "import plotly.figure_factory as ff\n",
        "import plotly.graph_objects as go\n",
        "\n",
        "import numpy as np\n",
        "\n",
        "x,y = np.meshgrid(np.arange(-2, 2, .2),\n",
        "                  np.arange(-2, 2, .25))\n",
        "z = x*np.exp(-x**2 - y**2)\n",
        "v, u = np.gradient(z, .2, .2)\n",
        "\n",
        "# Create quiver figure\n",
        "fig = ff.create_quiver(x, y, u, v,\n",
        "                       scale=.25,\n",
        "                       arrow_scale=.4,\n",
        "                       name='quiver',\n",
        "                       line_width=1)\n",
        "\n",
        "# Add points to figure\n",
        "fig.add_trace(go.Scatter(x=[-.7, .75], y=[0,0],\n",
        "                    mode='markers',\n",
        "                    marker_size=12,\n",
        "                    name='points'))\n",
        "\n",
        "fig.show()\n",
        "\n",
        "#https://plot.ly/python/quiver-plots/#reference\n",
        "#https://community.plot.ly/t/attributeerror-tuple-object-has-no-attribute-append/11782"
      ],
      "execution_count": 127,
      "outputs": [
        {
          "output_type": "display_data",
          "data": {
            "text/html": [
              "<html>\n",
              "<head><meta charset=\"utf-8\" /></head>\n",
              "<body>\n",
              "    <div>\n",
              "            <script src=\"https://cdnjs.cloudflare.com/ajax/libs/mathjax/2.7.5/MathJax.js?config=TeX-AMS-MML_SVG\"></script><script type=\"text/javascript\">if (window.MathJax) {MathJax.Hub.Config({SVG: {font: \"STIX-Web\"}});}</script>\n",
              "                <script type=\"text/javascript\">window.PlotlyConfig = {MathJaxConfig: 'local'};</script>\n",
              "        <script src=\"https://cdn.plot.ly/plotly-latest.min.js\"></script>    \n",
              "            <div id=\"5b715c85-6791-4fee-abfb-15321f71f019\" class=\"plotly-graph-div\" style=\"height:525px; width:100%;\"></div>\n",
              "            <script type=\"text/javascript\">\n",
              "                \n",
              "                    window.PLOTLYENV=window.PLOTLYENV || {};\n",
              "                    \n",
              "                if (document.getElementById(\"5b715c85-6791-4fee-abfb-15321f71f019\")) {\n",
              "                    Plotly.newPlot(\n",
              "                        '5b715c85-6791-4fee-abfb-15321f71f019',\n",
              "                        [{\"line\": {\"width\": 1}, \"mode\": \"lines\", \"name\": \"quiver\", \"type\": \"scatter\", \"x\": [-2.0, -2.0007752948904898, null, -1.8, -1.8009965574254687, null, -1.6, -1.601450447245401, null, -1.4000000000000001, -1.4018387267427075, null, -1.2000000000000002, -1.2019537938989049, null, -1.0000000000000002, -1.001574236360715, null, -0.8000000000000003, -0.8005806784941477, null, -0.6000000000000003, -0.5990730406662271, null, -0.40000000000000036, -0.3974077886833774, null, -0.2000000000000004, -0.1960981105200047, null, -4.440892098500626e-16, 0.0043993681039054, null, 0.1999999999999993, 0.203901889479995, null, 0.39999999999999947, 0.4025922113166225, null, 0.5999999999999996, 0.6009269593337728, null, 0.7999999999999994, 0.7994193215058519, null, 0.9999999999999991, 0.9984257636392844, null, 1.1999999999999993, 1.1980462061010946, null, 1.3999999999999995, 1.3981612732572921, null, 1.5999999999999992, 1.5985495527545983, null, 1.799999999999999, 1.7987821800395514, null, -2.0, -2.0019797848592447, null, -1.8, -1.8025447985360312, null, -1.6, -1.603703846795332, null, -1.4000000000000001, -1.4046953532264361, null, -1.2000000000000002, -1.2049891875034706, null, -1.0000000000000002, -1.0040199533752208, null, -0.8000000000000003, -0.8014828144811792, null, -0.6000000000000003, -0.5976329264172241, null, -0.40000000000000036, -0.3933805565088005, null, -0.2000000000000004, -0.19003617615735674, null, -4.440892098500626e-16, 0.01123418001227181, null, 0.1999999999999993, 0.20996382384264298, null, 0.39999999999999947, 0.4066194434911994, null, 0.5999999999999996, 0.6023670735827759, null, 0.7999999999999994, 0.7985171855188204, null, 0.9999999999999991, 0.9959800466247787, null, 1.1999999999999993, 1.1950108124965289, null, 1.3999999999999995, 1.3953046467735635, null, 1.5999999999999992, 1.5962961532046673, null, 1.799999999999999, 1.7968901877871812, null, -2.0, -2.0044615140515054, null, -1.8, -1.8057347920273954, null, -1.6, -1.6083467475997888, null, -1.4000000000000001, -1.4105811418340273, null, -1.2000000000000002, -1.2112433075990006, null, -1.0000000000000002, -1.0090591047740347, null, -0.8000000000000003, -0.8033415740163204, null, -0.6000000000000003, -0.5946657173373207, null, -0.40000000000000036, -0.3850828538205894, null, -0.2000000000000004, -0.1775461763569385, null, -4.440892098500626e-16, 0.02531661546347039, null, 0.1999999999999993, 0.2224538236430612, null, 0.39999999999999947, 0.4149171461794105, null, 0.5999999999999996, 0.6053342826626793, null, 0.7999999999999994, 0.7966584259836792, null, 0.9999999999999991, 0.9909408952259647, null, 1.1999999999999993, 1.188756692400999, null, 1.3999999999999995, 1.3894188581659723, null, 1.5999999999999992, 1.5916532524002105, null, 1.799999999999999, 1.7929919299967136, null, -2.0, -2.008872780165297, null, -1.8, -1.811404995785143, null, -1.6, -1.6165994897008458, null, -1.4000000000000001, -1.4210431132362946, null, -1.2000000000000002, -1.2223599871041713, null, -1.0000000000000002, -1.0180161811049944, null, -0.8000000000000003, -0.8066455134536388, null, -0.6000000000000003, -0.5893915121953862, null, -0.40000000000000036, -0.37033371245376945, null, -0.2000000000000004, -0.15534523958565044, null, -4.440892098500626e-16, 0.05034810177521046, null, 0.1999999999999993, 0.24465476041434928, null, 0.39999999999999947, 0.4296662875462305, null, 0.5999999999999996, 0.6106084878046139, null, 0.7999999999999994, 0.793354486546361, null, 0.9999999999999991, 0.9819838188950051, null, 1.1999999999999993, 1.1776400128958282, null, 1.3999999999999995, 1.378956886763705, null, 1.5999999999999992, 1.5834005102991535, null, 1.799999999999999, 1.7860627885950098, null, -2.0, -2.015572214149289, null, -1.8, -1.8200163909653277, null, -1.6, -1.6291330117026337, null, -1.4000000000000001, -1.4369318138823015, null, -1.2000000000000002, -1.239242999496748, null, -1.0000000000000002, -1.0316193825489601, null, -0.8000000000000003, -0.8116632393347009, null, -0.6000000000000003, -0.5813815240752057, null, -0.40000000000000036, -0.34793404388726445, null, -0.2000000000000004, -0.12162845477934914, null, -4.440892098500626e-16, 0.08836367048969451, null, 0.1999999999999993, 0.27837154522065066, null, 0.39999999999999947, 0.45206595611273553, null, 0.5999999999999996, 0.6186184759247944, null, 0.7999999999999994, 0.7883367606652989, null, 0.9999999999999991, 0.9683806174510392, null, 1.1999999999999993, 1.1607570005032515, null, 1.3999999999999995, 1.363068186117698, null, 1.5999999999999992, 1.5708669882973654, null, 1.799999999999999, 1.7755394322186326, null, -2.0, -2.024118717091238, null, -1.8, -1.831001992796406, null, -1.6, -1.645122091215502, null, -1.4000000000000001, -1.4572011123244253, null, -1.2000000000000002, -1.2607807466298473, null, -1.0000000000000002, -1.0489730577159329, null, -0.8000000000000003, -0.8180643784618059, null, -0.6000000000000003, -0.5711631403732883, null, -0.40000000000000036, -0.31935866964524, null, -0.2000000000000004, -0.07861577621148062, null, -4.440892098500626e-16, 0.13686033015296195, null, 0.1999999999999993, 0.32138422378851916, null, 0.39999999999999947, 0.4806413303547601, null, 0.5999999999999996, 0.6288368596267119, null, 0.7999999999999994, 0.781935621538194, null, 0.9999999999999991, 0.9510269422840666, null, 1.1999999999999993, 1.1392192533701522, null, 1.3999999999999995, 1.3427988876755743, null, 1.5999999999999992, 1.5548779087844973, null, 1.799999999999999, 1.762114731498425, null, -2.0, -2.032966377612741, null, -1.8, -1.8423747000061246, null, -1.6, -1.6616745862584528, null, -1.4000000000000001, -1.4781846506023686, null, -1.2000000000000002, -1.2830774305865464, null, -1.0000000000000002, -1.066938233381431, null, -0.8000000000000003, -0.8246910778653189, null, -0.6000000000000003, -0.5605846861579076, null, -0.40000000000000036, -0.2897763700443837, null, -0.2000000000000004, -0.03408743746592066, null, -4.440892098500626e-16, 0.18706589189464076, null, 0.1999999999999993, 0.36591256253407917, null, 0.39999999999999947, 0.5102236299556164, null, 0.5999999999999996, 0.6394153138420927, null, 0.7999999999999994, 0.775308922134681, null, 0.9999999999999991, 0.9330617666185684, null, 1.1999999999999993, 1.116922569413453, null, 1.3999999999999995, 1.321815349397631, null, 1.5999999999999992, 1.5383254137415463, null, 1.799999999999999, 1.7482169776004912, null, -2.0, -2.0397650418903233, null, -1.8, -1.8511136449575267, null, -1.6, -1.6743937515654694, null, -1.4000000000000001, -1.4943086905969871, null, -1.2000000000000002, -1.3002105098176642, null, -1.0000000000000002, -1.0807429219474833, null, -0.8000000000000003, -0.8297831250119565, null, -0.6000000000000003, -0.5524560561532466, null, -0.40000000000000036, -0.267044923346551, null, -0.2000000000000004, 0.00012875168755663302, null, -4.440892098500626e-16, 0.22564453743823074, null, 0.1999999999999993, 0.40012875168755657, null, 0.39999999999999947, 0.5329550766534492, null, 0.5999999999999996, 0.6475439438467538, null, 0.7999999999999994, 0.7702168749880435, null, 0.9999999999999991, 0.9192570780525161, null, 1.1999999999999993, 1.0997894901823353, null, 1.3999999999999995, 1.3056913094030125, null, 1.5999999999999992, 1.5256062484345299, null, 1.799999999999999, 1.7375377519752684, null, -2.0, -2.0423296667508852, null, -1.8, -1.854410191832382, null, -1.6, -1.6791917363195539, null, -1.4000000000000001, -1.5003910785682917, null, -1.2000000000000002, -1.3066735324262373, null, -1.0000000000000002, -1.0859503930099332, null, -0.8000000000000003, -0.8317039715444856, null, -0.6000000000000003, -0.549389735220029, null, -0.40000000000000036, -0.2584700576174043, null, -0.2000000000000004, 0.01303594724155227, null, -4.440892098500626e-16, 0.24019735978808018, null, 0.1999999999999993, 0.4130359472415522, null, 0.39999999999999947, 0.5415299423825961, null, 0.5999999999999996, 0.6506102647799714, null, 0.7999999999999994, 0.7682960284555145, null, 0.9999999999999991, 0.9140496069900663, null, 1.1999999999999993, 1.0933264675737622, null, 1.3999999999999995, 1.299608921431708, null, 1.5999999999999992, 1.5208082636804452, null, 1.799999999999999, 1.7335092830861203, null, -2.0, -2.0397650418903233, null, -1.8, -1.8511136449575267, null, -1.6, -1.6743937515654694, null, -1.4000000000000001, -1.4943086905969871, null, -1.2000000000000002, -1.3002105098176642, null, -1.0000000000000002, -1.0807429219474833, null, -0.8000000000000003, -0.8297831250119565, null, -0.6000000000000003, -0.5524560561532466, null, -0.40000000000000036, -0.267044923346551, null, -0.2000000000000004, 0.00012875168755663302, null, -4.440892098500626e-16, 0.22564453743823074, null, 0.1999999999999993, 0.40012875168755657, null, 0.39999999999999947, 0.5329550766534492, null, 0.5999999999999996, 0.6475439438467538, null, 0.7999999999999994, 0.7702168749880435, null, 0.9999999999999991, 0.9192570780525161, null, 1.1999999999999993, 1.0997894901823353, null, 1.3999999999999995, 1.3056913094030125, null, 1.5999999999999992, 1.5256062484345299, null, 1.799999999999999, 1.7375377519752684, null, -2.0, -2.032966377612741, null, -1.8, -1.8423747000061246, null, -1.6, -1.6616745862584528, null, -1.4000000000000001, -1.4781846506023686, null, -1.2000000000000002, -1.2830774305865464, null, -1.0000000000000002, -1.066938233381431, null, -0.8000000000000003, -0.8246910778653189, null, -0.6000000000000003, -0.5605846861579076, null, -0.40000000000000036, -0.2897763700443837, null, -0.2000000000000004, -0.03408743746592066, null, -4.440892098500626e-16, 0.18706589189464076, null, 0.1999999999999993, 0.36591256253407917, null, 0.39999999999999947, 0.5102236299556164, null, 0.5999999999999996, 0.6394153138420927, null, 0.7999999999999994, 0.775308922134681, null, 0.9999999999999991, 0.9330617666185684, null, 1.1999999999999993, 1.116922569413453, null, 1.3999999999999995, 1.321815349397631, null, 1.5999999999999992, 1.5383254137415463, null, 1.799999999999999, 1.7482169776004912, null, -2.0, -2.024118717091238, null, -1.8, -1.831001992796406, null, -1.6, -1.645122091215502, null, -1.4000000000000001, -1.4572011123244253, null, -1.2000000000000002, -1.2607807466298473, null, -1.0000000000000002, -1.0489730577159329, null, -0.8000000000000003, -0.8180643784618059, null, -0.6000000000000003, -0.5711631403732883, null, -0.40000000000000036, -0.31935866964524, null, -0.2000000000000004, -0.07861577621148062, null, -4.440892098500626e-16, 0.13686033015296195, null, 0.1999999999999993, 0.32138422378851916, null, 0.39999999999999947, 0.4806413303547601, null, 0.5999999999999996, 0.6288368596267119, null, 0.7999999999999994, 0.781935621538194, null, 0.9999999999999991, 0.9510269422840666, null, 1.1999999999999993, 1.1392192533701522, null, 1.3999999999999995, 1.3427988876755743, null, 1.5999999999999992, 1.5548779087844973, null, 1.799999999999999, 1.762114731498425, null, -2.0, -2.015572214149289, null, -1.8, -1.8200163909653277, null, -1.6, -1.6291330117026337, null, -1.4000000000000001, -1.4369318138823015, null, -1.2000000000000002, -1.239242999496748, null, -1.0000000000000002, -1.0316193825489601, null, -0.8000000000000003, -0.8116632393347009, null, -0.6000000000000003, -0.5813815240752057, null, -0.40000000000000036, -0.34793404388726445, null, -0.2000000000000004, -0.12162845477934914, null, -4.440892098500626e-16, 0.08836367048969451, null, 0.1999999999999993, 0.27837154522065066, null, 0.39999999999999947, 0.45206595611273553, null, 0.5999999999999996, 0.6186184759247944, null, 0.7999999999999994, 0.7883367606652989, null, 0.9999999999999991, 0.9683806174510392, null, 1.1999999999999993, 1.1607570005032515, null, 1.3999999999999995, 1.363068186117698, null, 1.5999999999999992, 1.5708669882973654, null, 1.799999999999999, 1.7755394322186326, null, -2.0, -2.008872780165297, null, -1.8, -1.811404995785143, null, -1.6, -1.6165994897008458, null, -1.4000000000000001, -1.4210431132362946, null, -1.2000000000000002, -1.2223599871041713, null, -1.0000000000000002, -1.0180161811049944, null, -0.8000000000000003, -0.8066455134536388, null, -0.6000000000000003, -0.5893915121953862, null, -0.40000000000000036, -0.37033371245376945, null, -0.2000000000000004, -0.15534523958565044, null, -4.440892098500626e-16, 0.05034810177521046, null, 0.1999999999999993, 0.24465476041434928, null, 0.39999999999999947, 0.4296662875462305, null, 0.5999999999999996, 0.6106084878046139, null, 0.7999999999999994, 0.793354486546361, null, 0.9999999999999991, 0.9819838188950051, null, 1.1999999999999993, 1.1776400128958282, null, 1.3999999999999995, 1.378956886763705, null, 1.5999999999999992, 1.5834005102991535, null, 1.799999999999999, 1.7860627885950098, null, -2.0, -2.0044615140515054, null, -1.8, -1.8057347920273954, null, -1.6, -1.6083467475997888, null, -1.4000000000000001, -1.4105811418340273, null, -1.2000000000000002, -1.2112433075990006, null, -1.0000000000000002, -1.0090591047740347, null, -0.8000000000000003, -0.8033415740163204, null, -0.6000000000000003, -0.5946657173373207, null, -0.40000000000000036, -0.3850828538205894, null, -0.2000000000000004, -0.1775461763569385, null, -4.440892098500626e-16, 0.02531661546347039, null, 0.1999999999999993, 0.2224538236430612, null, 0.39999999999999947, 0.4149171461794105, null, 0.5999999999999996, 0.6053342826626793, null, 0.7999999999999994, 0.7966584259836792, null, 0.9999999999999991, 0.9909408952259647, null, 1.1999999999999993, 1.188756692400999, null, 1.3999999999999995, 1.3894188581659723, null, 1.5999999999999992, 1.5916532524002105, null, 1.799999999999999, 1.7929919299967136, null, -2.0, -2.0019797848592447, null, -1.8, -1.8025447985360312, null, -1.6, -1.603703846795332, null, -1.4000000000000001, -1.4046953532264361, null, -1.2000000000000002, -1.2049891875034706, null, -1.0000000000000002, -1.0040199533752208, null, -0.8000000000000003, -0.8014828144811792, null, -0.6000000000000003, -0.5976329264172241, null, -0.40000000000000036, -0.3933805565088005, null, -0.2000000000000004, -0.19003617615735674, null, -4.440892098500626e-16, 0.01123418001227181, null, 0.1999999999999993, 0.20996382384264298, null, 0.39999999999999947, 0.4066194434911994, null, 0.5999999999999996, 0.6023670735827759, null, 0.7999999999999994, 0.7985171855188204, null, 0.9999999999999991, 0.9959800466247787, null, 1.1999999999999993, 1.1950108124965289, null, 1.3999999999999995, 1.3953046467735635, null, 1.5999999999999992, 1.5962961532046673, null, 1.799999999999999, 1.7968901877871812, null, -2.0006621303847814, -2.0007752948904898, -2.000305628286177, null, -1.8009650093439091, -1.8009965574254687, -1.8002789393799064, null, -1.601507132182596, -1.601450447245401, -1.6003033826495319, null, -1.4021071929736333, -1.4018387267427075, -1.4001879901503707, null, -1.202602901421216, -1.2019537938989049, -1.1998359138091237, null, -1.0027726510602784, -1.001574236360715, -0.9991923830279223, null, -0.8024150961688623, -0.8005806784941477, -0.7983097333826336, null, -0.6014584363643583, -0.5990730406662271, -0.5973844904446682, null, -0.4000407843493117, -0.3974077886833774, -0.39672349849404176, null, -0.19849979855999572, -0.1960981105200047, -0.19662968388119298, null, 0.0027457466065609138, 0.0043993681039054, 0.0027457466065609138, null, 0.2033703161188067, 0.203901889479995, 0.20150020144000397, null, 0.40327650150595806, 0.4025922113166225, 0.3999592156506882, null, 0.6026155095553317, 0.6009269593337728, 0.5985415636356417, null, 0.8016902666173661, 0.7994193215058519, 0.7975849038311373, null, 1.000807616972077, 0.9984257636392844, 0.997227348939721, null, 1.2001640861908758, 1.1980462061010946, 1.1973970985787834, null, 1.399812009849629, 1.3981612732572921, 1.3978928070263663, null, 1.5996966173504672, 1.5985495527545983, 1.5984928678174033, null, 1.799582965593664, 1.7987821800395514, 1.7988968956296614, null, -2.0015083887821947, -2.0019797848592447, -2.000962869557914, null, -1.8021131790270495, -1.8025447985360312, -1.8010633553204567, null, -1.603232644077699, -1.603703846795332, -1.601390667511289, null, -1.4043988590224363, -1.4046953532264361, -1.4014620964073439, null, -1.2052308875394024, -1.2049891875034706, -1.200996845322956, null, -1.0052482067965807, -1.0040199533752208, -0.9997696835357823, null, -0.804066469966018, -0.8014828144811792, -0.7977844471355737, null, -0.6016396294319404, -0.5976329264172241, -0.5954056806653815, null, -0.39840670746232454, -0.3933805565088005, -0.39333059931718833, null, -0.1952121728412333, -0.19003617615735674, -0.19235052486527454, null, 0.007011509589026696, 0.01123418001227181, 0.007011509589026696, null, 0.20764947513472518, 0.20996382384264298, 0.2047878271587664, null, 0.40666940068281154, 0.4066194434911994, 0.40159329253767534, null, 0.6045943193346185, 0.6023670735827759, 0.5983603705680596, null, 0.8022155528644259, 0.7985171855188204, 0.7959335300339816, null, 1.0002303164642172, 0.9959800466247787, 0.9947517932034187, null, 1.1990031546770434, 1.1950108124965289, 1.194769112460597, null, 1.3985379035926557, 1.3953046467735635, 1.3956011409775633, null, 1.5986093324887103, 1.5962961532046673, 1.5967673559223003, null, 1.7985840066758436, 1.7968901877871812, 1.7975341829692506, null, -2.0032945764399726, -2.0044615140515054, -2.0022744901976526, null, -1.804560767097105, -1.8057347920273954, -1.8025976635577776, null, -1.606931586243329, -1.6083467475997888, -1.6034872072545814, null, -1.4093497130972494, -1.4105811418340273, -1.4038581538500656, null, -1.2109759011084218, -1.2112433075990006, -1.2030585115423738, null, -1.0107762401824372, -1.0090591047740347, -1.0005317502399629, null, -0.8079590445470284, -0.8033415740163204, -0.7962120615296557, null, -0.6024992955476834, -0.5946657173373207, -0.5908422079712029, null, -0.39543586633512295, -0.3850828538205894, -0.3859438670564376, null, -0.18866160313674174, -0.1775461763569385, -0.183310503485786, null, 0.015800680769751205, 0.02531661546347039, 0.015800680769751205, null, 0.21668949651421365, 0.2224538236430612, 0.211338396863258, null, 0.41405613294356225, 0.4149171461794105, 0.4045641336648769, null, 0.609157792028797, 0.6053342826626793, 0.5975007044523165, null, 0.8037879384703439, 0.7966584259836792, 0.7920409554529713, null, 0.9994682497600365, 0.9909408952259647, 0.9892237598175622, null, 1.1969414884576257, 1.188756692400999, 1.1890240988915777, null, 1.396141846149934, 1.3894188581659723, 1.3906502869027502, null, 1.596512792745418, 1.5916532524002105, 1.5930684137566702, null, 1.7966076544335927, 1.7929919299967136, 1.7946445508942652, null, -2.006359835445419, -2.008872780165297, -2.004715576047427, null, -1.8087002659803602, -1.811404995785143, -1.8055359732864114, null, -1.6131360900138316, -1.6165994897008458, -1.6075841550033028, null, -1.41755936470373, -1.4210431132362946, -1.408707615187653, null, -1.220336332908644, -1.2223599871041713, -1.2075744293935724, null, -1.0195007703417676, -1.0180161811049944, -1.0029878539169368, null, -0.8136149970049064, -0.8066455134536388, -0.7946802379393971, null, -0.6027739283568391, -0.5893915121953862, -0.5839840702000878, null, -0.3891345839104567, -0.37033371245376945, -0.3738345941917271, null, -0.17644261168264747, -0.15534523958565044, -0.16781726656411527, null, 0.031423405891713024, 0.05034810177521046, 0.031423405891713024, null, 0.23218273343588441, 0.24465476041434928, 0.22355738831735222, null, 0.42616540580827283, 0.4296662875462305, 0.4108654160895432, null, 0.6160159297999122, 0.6106084878046139, 0.5972260716431609, null, 0.8053197620606025, 0.793354486546361, 0.7863850029950934, null, 0.9970121460830625, 0.9819838188950051, 0.9804992296582319, null, 1.192425570606427, 1.1776400128958282, 1.1796636670913554, null, 1.3912923848123468, 1.378956886763705, 1.3824406352962697, null, 1.5924158449966965, 1.5834005102991535, 1.5868639099861677, null, 1.7928836128266248, 1.7860627885950098, 1.789719320132676, null, -2.0108470903676543, -2.015572214149289, -2.008590862150616, null, -1.814663686626402, -1.8200163909653277, -1.810321691396346, null, -1.621991722454477, -1.6291330117026337, -1.6143734400562029, null, -1.4291231120095802, -1.4369318138823015, -1.4169768733730732, null, -1.2332483034902422, -1.239242999496748, -1.2157366098675746, null, -1.031063771157049, -1.0316193825489601, -1.0084049935768198, null, -0.8202702923212787, -0.8116632393347009, -0.7942882983983005, null, -0.601271363378728, -0.5813815240752057, -0.5754882003211311, null, -0.3780016506127989, -0.34793404388726445, -0.3570072329643707, null, -0.1570043048185595, -0.12162845477934914, -0.14516873491888685, null, 0.05514979484780495, 0.08836367048969451, 0.05514979484780495, null, 0.25483126508111287, 0.27837154522065066, 0.24299569518144026, null, 0.4429927670356292, 0.45206595611273553, 0.42199834938720104, null, 0.6245117996788689, 0.6186184759247944, 0.5987286366212721, null, 0.8057117016016991, 0.7883367606652989, 0.779729707678721, null, 0.9915950064231795, 0.9683806174510392, 0.9689362288429504, null, 1.1842633901324249, 1.1607570005032515, 1.1667516965097573, null, 1.3830231266269264, 1.363068186117698, 1.3708768879904194, null, 1.5856265599437962, 1.5708669882973654, 1.5780082775455222, null, 1.786904595851414, 1.7755394322186326, 1.782562600621358, null, -2.0163401157656735, -2.024118717091238, -2.013765974038035, null, -1.8218259569722093, -1.831001992796406, -1.8168721535322505, null, -1.6325076004445283, -1.645122091215502, -1.6238158650667671, null, -1.442629378381051, -1.4572011123244253, -1.428771675746193, null, -1.2479242471321927, -1.2607807466298473, -1.2279450708523616, null, -1.043490964013741, -1.0489730577159329, -1.0176394546557372, null, -0.8260958847153923, -0.8180643784618059, -0.7964529016965054, null, -0.5967103220120206, -0.5711631403732883, -0.5672941860928443, null, -0.3616462113864963, -0.31935866964524, -0.3376935783557653, null, -0.1309929495433359, -0.07861577621148062, -0.11748969037874324, null, 0.08541767322373717, 0.13686033015296195, 0.0854176732237372, null, 0.2825103096212565, 0.32138422378851916, 0.26900705045666384, null, 0.46230642164423463, 0.4806413303547601, 0.4383537886135037, null, 0.6327058139071559, 0.6288368596267119, 0.6032896779879795, null, 0.8035470983034945, 0.781935621538194, 0.7739041152846075, null, 0.9823605453442622, 0.9510269422840666, 0.9565090359862584, null, 1.1720549291476379, 1.1392192533701522, 1.1520757528678067, null, 1.3712283242538066, 1.3427988876755743, 1.3573706216189485, null, 1.5761841349332322, 1.5548779087844973, 1.567492399555471, null, 1.7788318361173732, 1.762114731498425, 1.7738780326774142, null, -2.0217328134750314, -2.032966377612741, -2.019417332329063, null, -1.8286750350676606, -1.8423747000061246, -1.824219010621571, null, -1.6424017014544652, -1.6616745862584528, -1.634583348184767, null, -1.4550294461208158, -1.4781846506023686, -1.4425642237001053, null, -1.2608363235266833, -1.2830774305865464, -1.242864738865585, null, -1.0534046083117137, -1.066938233381431, -1.0301507672855679, null, -0.8287424341353168, -0.8246910778653189, -0.8020781026598889, null, -0.5886301374462025, -0.5605846861579076, -0.5621698585203129, null, -0.3419797886138519, -0.2897763700443837, -0.3204340168393392, null, -0.10252335920965551, -0.03408743746592066, -0.09037696428935008, null, 0.11675211660898922, 0.18706589189464076, 0.11675211660898925, null, 0.3096230357106497, 0.36591256253407917, 0.2974766407903443, null, 0.47956598316066085, 0.5102236299556164, 0.4580202113861481, null, 0.6378301414796873, 0.6394153138420927, 0.6113698625537977, null, 0.797921897340111, 0.775308922134681, 0.771257565864683, null, 0.9698492327144316, 0.9330617666185684, 0.9465953916882857, null, 1.1571352611344146, 1.116922569413453, 1.1391636764733162, null, 1.3574357762998943, 1.321815349397631, 1.3449705538791838, null, 1.5654166518152324, 1.5383254137415463, 1.5575982985455339, null, 1.7699090394358594, 1.7482169776004912, 1.76545301498977, null, -2.0255111063744113, -2.0397650418903233, -2.024125444262572, null, -1.8332345167168285, -1.8511136449575267, -1.8305678812077781, null, -1.648770231125693, -1.6743937515654694, -1.6440914645023246, null, -1.4625900233693463, -1.4943086905969871, -1.455130413320652, null, -1.2679210807592698, -1.3002105098176642, -1.2571662775953765, null, -1.057351452651189, -1.0807429219474833, -1.043435568895984, null, -0.8265667500992597, -0.8297831250119565, -0.8106099136865097, null, -0.5782440956697011, -0.5524560561532466, -0.5624093711934752, null, -0.3234665438341157, -0.267044923346551, -0.31057282640080325, null, -0.07872945923240394, 0.00012875168755663302, -0.07146064632679701, null, 0.14082993473768854, 0.22564453743823074, 0.14082993473768854, null, 0.32853935367320286, 0.40012875168755657, 0.3212705407675959, null, 0.4894271735991968, 0.5329550766534492, 0.4765334561658844, null, 0.637590628806525, 0.6475439438467538, 0.6217559043302991, null, 0.7893900863134902, 0.7702168749880435, 0.7734332499007401, null, 0.9565644311040156, 0.9192570780525161, 0.9426485473488105, null, 1.142833722404623, 1.0997894901823353, 1.1320789192407297, null, 1.3448695866793476, 1.3056913094030125, 1.3374099766306533, null, 1.5559085354976747, 1.5256062484345299, 1.5512297688743062, null, 1.762349195148409, 1.7375377519752684, 1.7596825596393586, null, -2.0264189165564317, -2.0423296667508852, -2.0264189165564317, null, -1.833958649528208, -1.854410191832382, -1.833958649528208, null, -1.6494253802208707, -1.6791917363195539, -1.6494253802208707, null, -1.4626563762789468, -1.5003910785682917, -1.4626563762789468, null, -1.2665773999245968, -1.3066735324262373, -1.2665773999245968, null, -1.0536436129839002, -1.0859503930099332, -1.0536436129839002, null, -0.8197871763005019, -0.8317039715444856, -0.8197871763005019, null, -0.568412972159933, -0.549389735220029, -0.568412972159933, null, -0.3116679146082764, -0.2584700576174043, -0.3116679146082764, null, -0.067039375792457, 0.01303594724155227, -0.067039375792457, null, 0.1499126851780333, 0.24019735978808018, 0.1499126851780333, null, 0.33296062420754285, 0.4130359472415522, 0.33296062420754285, null, 0.4883320853917238, 0.5415299423825961, 0.4883320853917238, null, 0.6315870278400673, 0.6506102647799714, 0.6315870278400673, null, 0.7802128236994981, 0.7682960284555145, 0.7802128236994981, null, 0.9463563870160994, 0.9140496069900663, 0.9463563870160994, null, 1.1334226000754026, 1.0933264675737622, 1.1334226000754026, null, 1.3373436237210528, 1.299608921431708, 1.3373436237210528, null, 1.5505746197791286, 1.5208082636804452, 1.5505746197791286, null, 1.758501617500015, 1.7335092830861203, 1.758501617500015, null, -2.024125444262572, -2.0397650418903233, -2.0255111063744113, null, -1.8305678812077781, -1.8511136449575267, -1.8332345167168285, null, -1.6440914645023246, -1.6743937515654694, -1.648770231125693, null, -1.455130413320652, -1.4943086905969871, -1.4625900233693463, null, -1.2571662775953765, -1.3002105098176642, -1.2679210807592698, null, -1.043435568895984, -1.0807429219474833, -1.057351452651189, null, -0.8106099136865097, -0.8297831250119565, -0.8265667500992597, null, -0.5624093711934752, -0.5524560561532466, -0.5782440956697011, null, -0.31057282640080325, -0.267044923346551, -0.3234665438341157, null, -0.07146064632679701, 0.00012875168755663302, -0.07872945923240394, null, 0.14082993473768854, 0.22564453743823074, 0.14082993473768854, null, 0.3212705407675959, 0.40012875168755657, 0.32853935367320286, null, 0.4765334561658844, 0.5329550766534492, 0.4894271735991968, null, 0.6217559043302991, 0.6475439438467538, 0.637590628806525, null, 0.7734332499007401, 0.7702168749880435, 0.7893900863134902, null, 0.9426485473488105, 0.9192570780525161, 0.9565644311040156, null, 1.1320789192407297, 1.0997894901823353, 1.142833722404623, null, 1.3374099766306533, 1.3056913094030125, 1.3448695866793476, null, 1.5512297688743062, 1.5256062484345299, 1.5559085354976747, null, 1.7596825596393586, 1.7375377519752684, 1.762349195148409, null, -2.019417332329063, -2.032966377612741, -2.0217328134750314, null, -1.824219010621571, -1.8423747000061246, -1.8286750350676606, null, -1.634583348184767, -1.6616745862584528, -1.6424017014544652, null, -1.4425642237001053, -1.4781846506023686, -1.4550294461208158, null, -1.242864738865585, -1.2830774305865464, -1.2608363235266833, null, -1.0301507672855679, -1.066938233381431, -1.0534046083117137, null, -0.8020781026598889, -0.8246910778653189, -0.8287424341353168, null, -0.5621698585203129, -0.5605846861579076, -0.5886301374462025, null, -0.3204340168393392, -0.2897763700443837, -0.3419797886138519, null, -0.09037696428935008, -0.03408743746592066, -0.10252335920965551, null, 0.11675211660898925, 0.18706589189464076, 0.11675211660898922, null, 0.2974766407903443, 0.36591256253407917, 0.3096230357106497, null, 0.4580202113861481, 0.5102236299556164, 0.47956598316066085, null, 0.6113698625537977, 0.6394153138420927, 0.6378301414796873, null, 0.771257565864683, 0.775308922134681, 0.797921897340111, null, 0.9465953916882857, 0.9330617666185684, 0.9698492327144316, null, 1.1391636764733162, 1.116922569413453, 1.1571352611344146, null, 1.3449705538791838, 1.321815349397631, 1.3574357762998943, null, 1.5575982985455339, 1.5383254137415463, 1.5654166518152324, null, 1.76545301498977, 1.7482169776004912, 1.7699090394358594, null, -2.013765974038035, -2.024118717091238, -2.0163401157656735, null, -1.8168721535322505, -1.831001992796406, -1.8218259569722093, null, -1.6238158650667671, -1.645122091215502, -1.6325076004445283, null, -1.428771675746193, -1.4572011123244253, -1.442629378381051, null, -1.2279450708523616, -1.2607807466298473, -1.2479242471321927, null, -1.0176394546557372, -1.0489730577159329, -1.043490964013741, null, -0.7964529016965054, -0.8180643784618059, -0.8260958847153923, null, -0.5672941860928443, -0.5711631403732883, -0.5967103220120206, null, -0.3376935783557653, -0.31935866964524, -0.3616462113864963, null, -0.11748969037874324, -0.07861577621148062, -0.1309929495433359, null, 0.0854176732237372, 0.13686033015296195, 0.08541767322373717, null, 0.26900705045666384, 0.32138422378851916, 0.2825103096212565, null, 0.4383537886135037, 0.4806413303547601, 0.46230642164423463, null, 0.6032896779879795, 0.6288368596267119, 0.6327058139071559, null, 0.7739041152846075, 0.781935621538194, 0.8035470983034945, null, 0.9565090359862584, 0.9510269422840666, 0.9823605453442622, null, 1.1520757528678067, 1.1392192533701522, 1.1720549291476379, null, 1.3573706216189485, 1.3427988876755743, 1.3712283242538066, null, 1.567492399555471, 1.5548779087844973, 1.5761841349332322, null, 1.7738780326774142, 1.762114731498425, 1.7788318361173732, null, -2.008590862150616, -2.015572214149289, -2.0108470903676543, null, -1.810321691396346, -1.8200163909653277, -1.814663686626402, null, -1.6143734400562029, -1.6291330117026337, -1.621991722454477, null, -1.4169768733730732, -1.4369318138823015, -1.4291231120095802, null, -1.2157366098675746, -1.239242999496748, -1.2332483034902422, null, -1.0084049935768198, -1.0316193825489601, -1.031063771157049, null, -0.7942882983983005, -0.8116632393347009, -0.8202702923212787, null, -0.5754882003211311, -0.5813815240752057, -0.601271363378728, null, -0.3570072329643707, -0.34793404388726445, -0.3780016506127989, null, -0.14516873491888685, -0.12162845477934914, -0.1570043048185595, null, 0.05514979484780495, 0.08836367048969451, 0.05514979484780495, null, 0.24299569518144026, 0.27837154522065066, 0.25483126508111287, null, 0.42199834938720104, 0.45206595611273553, 0.4429927670356292, null, 0.5987286366212721, 0.6186184759247944, 0.6245117996788689, null, 0.779729707678721, 0.7883367606652989, 0.8057117016016991, null, 0.9689362288429504, 0.9683806174510392, 0.9915950064231795, null, 1.1667516965097573, 1.1607570005032515, 1.1842633901324249, null, 1.3708768879904194, 1.363068186117698, 1.3830231266269264, null, 1.5780082775455222, 1.5708669882973654, 1.5856265599437962, null, 1.782562600621358, 1.7755394322186326, 1.786904595851414, null, -2.004715576047427, -2.008872780165297, -2.006359835445419, null, -1.8055359732864114, -1.811404995785143, -1.8087002659803602, null, -1.6075841550033028, -1.6165994897008458, -1.6131360900138316, null, -1.408707615187653, -1.4210431132362946, -1.41755936470373, null, -1.2075744293935724, -1.2223599871041713, -1.220336332908644, null, -1.0029878539169368, -1.0180161811049944, -1.0195007703417676, null, -0.7946802379393971, -0.8066455134536388, -0.8136149970049064, null, -0.5839840702000878, -0.5893915121953862, -0.6027739283568391, null, -0.3738345941917271, -0.37033371245376945, -0.3891345839104567, null, -0.16781726656411527, -0.15534523958565044, -0.17644261168264747, null, 0.031423405891713024, 0.05034810177521046, 0.031423405891713024, null, 0.22355738831735222, 0.24465476041434928, 0.23218273343588441, null, 0.4108654160895432, 0.4296662875462305, 0.42616540580827283, null, 0.5972260716431609, 0.6106084878046139, 0.6160159297999122, null, 0.7863850029950934, 0.793354486546361, 0.8053197620606025, null, 0.9804992296582319, 0.9819838188950051, 0.9970121460830625, null, 1.1796636670913554, 1.1776400128958282, 1.192425570606427, null, 1.3824406352962697, 1.378956886763705, 1.3912923848123468, null, 1.5868639099861677, 1.5834005102991535, 1.5924158449966965, null, 1.789719320132676, 1.7860627885950098, 1.7928836128266248, null, -2.0022744901976526, -2.0044615140515054, -2.0032945764399726, null, -1.8025976635577776, -1.8057347920273954, -1.804560767097105, null, -1.6034872072545814, -1.6083467475997888, -1.606931586243329, null, -1.4038581538500656, -1.4105811418340273, -1.4093497130972494, null, -1.2030585115423738, -1.2112433075990006, -1.2109759011084218, null, -1.0005317502399629, -1.0090591047740347, -1.0107762401824372, null, -0.7962120615296557, -0.8033415740163204, -0.8079590445470284, null, -0.5908422079712029, -0.5946657173373207, -0.6024992955476834, null, -0.3859438670564376, -0.3850828538205894, -0.39543586633512295, null, -0.183310503485786, -0.1775461763569385, -0.18866160313674174, null, 0.015800680769751205, 0.02531661546347039, 0.015800680769751205, null, 0.211338396863258, 0.2224538236430612, 0.21668949651421365, null, 0.4045641336648769, 0.4149171461794105, 0.41405613294356225, null, 0.5975007044523165, 0.6053342826626793, 0.609157792028797, null, 0.7920409554529713, 0.7966584259836792, 0.8037879384703439, null, 0.9892237598175622, 0.9909408952259647, 0.9994682497600365, null, 1.1890240988915777, 1.188756692400999, 1.1969414884576257, null, 1.3906502869027502, 1.3894188581659723, 1.396141846149934, null, 1.5930684137566702, 1.5916532524002105, 1.596512792745418, null, 1.7946445508942652, 1.7929919299967136, 1.7966076544335927, null, -2.0008683609950757, -2.0019797848592447, -2.0016028973450326, null, -1.8008814784491616, -1.8025447985360312, -1.8022950558983446, null, -1.601071553994616, -1.603703846795332, -1.6035517575943719, null, -1.400953316511429, -1.4046953532264361, -1.4049076389183512, null, -1.200263318020779, -1.2049891875034706, -1.2059644148415796, null, -0.9988205559215612, -1.0040199533752208, -1.006197334410802, null, -0.7966961171134659, -0.8014828144811792, -0.8051547999881258, null, -0.594325679241947, -0.5976329264172241, -0.6027196308553748, null, -0.39245118817225516, -0.3933805565088005, -0.3992861186072577, null, -0.19185475821669654, -0.19003617615735674, -0.19570793948981127, null, 0.007011509589026696, 0.01123418001227181, 0.007011509589026696, null, 0.20429206051018842, 0.20996382384264298, 0.20814524178330315, null, 0.40071388139274217, 0.4066194434911994, 0.4075488118277447, null, 0.5972803691446251, 0.6023670735827759, 0.6056743207580529, null, 0.7948452000118739, 0.7985171855188204, 0.8033038828865338, null, 0.9938026655891975, 0.9959800466247787, 1.0011794440784383, null, 1.19403558515842, 1.1950108124965289, 1.1997366819792206, null, 1.3950923610816484, 1.3953046467735635, 1.3990466834885706, null, 1.5964482424056274, 1.5962961532046673, 1.5989284460053832, null, 1.7973523060979557, 1.7968901877871812, 1.7987658835471385, null], \"y\": [-2.0, -2.0013029280057086, null, -2.0, -2.0025074179744635, null, -2.0, -2.0043994102268337, null, -2.0, -2.0070142170743255, null, -2.0, -2.0101126631942905, null, -2.0, -2.0130850042834574, null, -2.0, -2.015004097223302, null, -2.0, -2.01488927625752, null, -2.0, -2.012123868725296, null, -2.0, -2.0068348119083663, null, -2.0, -2.0, null, -2.0, -1.9931651880916337, null, -2.0, -1.987876131274704, null, -2.0, -1.9851107237424799, null, -2.0, -1.984995902776698, null, -2.0, -1.9869149957165426, null, -2.0, -1.9898873368057095, null, -2.0, -1.9929857829256743, null, -2.0, -1.9956005897731666, null, -2.0, -1.9974925820255367, null, -1.75, -1.7519937393854066, null, -1.75, -1.7538368489659144, null, -1.75, -1.7567319739873333, null, -1.75, -1.7607331493203022, null, -1.75, -1.7654743890786528, null, -1.75, -1.770022663020398, null, -1.75, -1.7729592574919726, null, -1.75, -1.7727835585425704, null, -1.75, -1.7685519341630662, null, -1.75, -1.7604586236797826, null, -1.75, -1.75, null, -1.75, -1.7395413763202174, null, -1.75, -1.7314480658369338, null, -1.75, -1.7272164414574296, null, -1.75, -1.7270407425080274, null, -1.75, -1.729977336979602, null, -1.75, -1.734525610921347, null, -1.75, -1.7392668506796978, null, -1.75, -1.7432680260126667, null, -1.75, -1.7461631510340856, null, -1.5, -1.5037281658048003, null, -1.5, -1.5071746634578265, null, -1.5, -1.512588363053912, null, -1.5, -1.5200703063633403, null, -1.5, -1.5289361230637706, null, -1.5, -1.5374411059640407, null, -1.5, -1.5429323507935442, null, -1.5, -1.5426038049365005, null, -1.5, -1.5346909365717063, null, -1.5, -1.5195569608814694, null, -1.5, -1.5, null, -1.5, -1.4804430391185308, null, -1.5, -1.4653090634282937, null, -1.5, -1.4573961950634997, null, -1.5, -1.4570676492064558, null, -1.5, -1.462558894035959, null, -1.5, -1.4710638769362294, null, -1.5, -1.4799296936366597, null, -1.5, -1.487411636946088, null, -1.5, -1.4928253365421735, null, -1.25, -1.2560093660785723, null, -1.25, -1.2615647161274641, null, -1.25, -1.2702909650165046, null, -1.25, -1.282350980230309, null, -1.25, -1.2966416370647789, null, -1.25, -1.3103506721280567, null, -1.25, -1.3192019148397045, null, -1.25, -1.318672337446437, null, -1.25, -1.3059177215775895, null, -1.25, -1.281523527513112, null, -1.25, -1.25, null, -1.25, -1.218476472486888, null, -1.25, -1.1940822784224105, null, -1.25, -1.181327662553563, null, -1.25, -1.1807980851602955, null, -1.25, -1.1896493278719433, null, -1.25, -1.2033583629352211, null, -1.25, -1.2176490197696908, null, -1.25, -1.2297090349834954, null, -1.25, -1.2384352838725359, null, -1.0, -1.0082459624859355, null, -1.0, -1.0158689309489062, null, -1.0, -1.0278429594971985, null, -1.0, -1.0443915324635622, null, -1.0, -1.0640009585853292, null, -1.0, -1.0828122919892382, null, -1.0, -1.0949578351962677, null, -1.0, -1.0942311569974053, null, -1.0, -1.07672946337417, null, -1.0, -1.0432561141888759, null, -1.0, -1.0, null, -1.0, -0.9567438858111244, null, -1.0, -0.9232705366258303, null, -1.0, -0.9057688430025947, null, -1.0, -0.9050421648037322, null, -1.0, -0.9171877080107618, null, -1.0, -0.9359990414146706, null, -1.0, -0.9556084675364377, null, -1.0, -0.9721570405028014, null, -1.0, -0.9841310690510938, null, -0.75, -0.7594078586373922, null, -0.75, -0.7681049403691182, null, -0.75, -0.7817661676781891, null, -0.75, -0.8006465149249373, null, -0.75, -0.8230190043982559, null, -0.75, -0.8444809460147359, null, -0.75, -0.8583378552307268, null, -0.75, -0.857508784545354, null, -0.75, -0.8375410173134286, null, -0.75, -0.7993511107024732, null, -0.75, -0.7500000000000001, null, -0.75, -0.700648889297527, null, -0.75, -0.6624589826865716, null, -0.75, -0.642491215454646, null, -0.75, -0.6416621447692732, null, -0.75, -0.6555190539852641, null, -0.75, -0.676980995601744, null, -0.75, -0.6993534850750626, null, -0.75, -0.7182338323218109, null, -0.75, -0.7318950596308816, null, -0.5, -0.5084625174538461, null, -0.5, -0.5162856798533886, null, -0.5, -0.5285741696149668, null, -0.5, -0.545557340203356, null, -0.5, -0.5656817478875287, null, -0.5, -0.5849871033911729, null, -0.5, -0.5974516121190792, null, -0.5, -0.5967058499413235, null, -0.5, -0.5787445278990374, null, -0.5, -0.5443921036426345, null, -0.5, -0.5000000000000001, null, -0.5, -0.4556078963573657, null, -0.5, -0.4212554721009627, null, -0.5, -0.4032941500586765, null, -0.5, -0.40254838788092073, null, -0.5, -0.415012896608827, null, -0.5, -0.4343182521124712, null, -0.5, -0.45444265979664394, null, -0.5, -0.4714258303850331, null, -0.5, -0.4837143201466114, null, -0.25, -0.25506425622466866, null, -0.25, -0.25974590079374077, null, -0.25, -0.2670997480509262, null, -0.25, -0.2772630508548419, null, -0.25, -0.2893061760168494, null, -0.25, -0.3008591526945326, null, -0.25, -0.30831833564535155, null, -0.25, -0.3078720463736992, null, -0.25, -0.297123384707473, null, -0.25, -0.2765657339467198, null, -0.25, -0.25000000000000006, null, -0.25, -0.22343426605328034, null, -0.25, -0.20287661529252704, null, -0.25, -0.19212795362630075, null, -0.25, -0.19168166435464845, null, -0.25, -0.19914084730546727, null, -0.25, -0.2106938239831506, null, -0.25, -0.2227369491451581, null, -0.25, -0.23290025194907377, null, -0.25, -0.24025409920625918, null, 0.0, 0.0, null, 0.0, 0.0, null, 0.0, 0.0, null, 0.0, 0.0, null, 0.0, 0.0, null, 0.0, 0.0, null, 0.0, 0.0, null, 0.0, 0.0, null, 0.0, 0.0, null, 0.0, 0.0, null, 0.0, 0.0, null, 0.0, 0.0, null, 0.0, 0.0, null, 0.0, 0.0, null, 0.0, 0.0, null, 0.0, 0.0, null, 0.0, 0.0, null, 0.0, 0.0, null, 0.0, 0.0, null, 0.0, 0.0, null, 0.25, 0.25506425622466866, null, 0.25, 0.25974590079374077, null, 0.25, 0.2670997480509262, null, 0.25, 0.2772630508548419, null, 0.25, 0.2893061760168494, null, 0.25, 0.3008591526945326, null, 0.25, 0.30831833564535155, null, 0.25, 0.3078720463736992, null, 0.25, 0.297123384707473, null, 0.25, 0.2765657339467198, null, 0.25, 0.25000000000000006, null, 0.25, 0.22343426605328034, null, 0.25, 0.20287661529252704, null, 0.25, 0.19212795362630075, null, 0.25, 0.19168166435464845, null, 0.25, 0.19914084730546727, null, 0.25, 0.2106938239831506, null, 0.25, 0.2227369491451581, null, 0.25, 0.23290025194907377, null, 0.25, 0.24025409920625918, null, 0.5, 0.5084625174538461, null, 0.5, 0.5162856798533886, null, 0.5, 0.5285741696149668, null, 0.5, 0.545557340203356, null, 0.5, 0.5656817478875287, null, 0.5, 0.5849871033911729, null, 0.5, 0.5974516121190792, null, 0.5, 0.5967058499413235, null, 0.5, 0.5787445278990374, null, 0.5, 0.5443921036426345, null, 0.5, 0.5000000000000001, null, 0.5, 0.4556078963573657, null, 0.5, 0.4212554721009627, null, 0.5, 0.4032941500586765, null, 0.5, 0.40254838788092073, null, 0.5, 0.415012896608827, null, 0.5, 0.4343182521124712, null, 0.5, 0.45444265979664394, null, 0.5, 0.4714258303850331, null, 0.5, 0.4837143201466114, null, 0.75, 0.7594078586373922, null, 0.75, 0.7681049403691182, null, 0.75, 0.7817661676781891, null, 0.75, 0.8006465149249373, null, 0.75, 0.8230190043982559, null, 0.75, 0.8444809460147359, null, 0.75, 0.8583378552307268, null, 0.75, 0.857508784545354, null, 0.75, 0.8375410173134286, null, 0.75, 0.7993511107024732, null, 0.75, 0.7500000000000001, null, 0.75, 0.700648889297527, null, 0.75, 0.6624589826865716, null, 0.75, 0.642491215454646, null, 0.75, 0.6416621447692732, null, 0.75, 0.6555190539852641, null, 0.75, 0.676980995601744, null, 0.75, 0.6993534850750626, null, 0.75, 0.7182338323218109, null, 0.75, 0.7318950596308816, null, 1.0, 1.0082459624859355, null, 1.0, 1.0158689309489062, null, 1.0, 1.0278429594971985, null, 1.0, 1.0443915324635622, null, 1.0, 1.0640009585853292, null, 1.0, 1.0828122919892382, null, 1.0, 1.0949578351962677, null, 1.0, 1.0942311569974053, null, 1.0, 1.07672946337417, null, 1.0, 1.0432561141888759, null, 1.0, 1.0, null, 1.0, 0.9567438858111244, null, 1.0, 0.9232705366258303, null, 1.0, 0.9057688430025947, null, 1.0, 0.9050421648037322, null, 1.0, 0.9171877080107618, null, 1.0, 0.9359990414146706, null, 1.0, 0.9556084675364377, null, 1.0, 0.9721570405028014, null, 1.0, 0.9841310690510938, null, 1.25, 1.2560093660785723, null, 1.25, 1.2615647161274641, null, 1.25, 1.2702909650165046, null, 1.25, 1.282350980230309, null, 1.25, 1.2966416370647789, null, 1.25, 1.3103506721280567, null, 1.25, 1.3192019148397045, null, 1.25, 1.318672337446437, null, 1.25, 1.3059177215775895, null, 1.25, 1.281523527513112, null, 1.25, 1.25, null, 1.25, 1.218476472486888, null, 1.25, 1.1940822784224105, null, 1.25, 1.181327662553563, null, 1.25, 1.1807980851602955, null, 1.25, 1.1896493278719433, null, 1.25, 1.2033583629352211, null, 1.25, 1.2176490197696908, null, 1.25, 1.2297090349834954, null, 1.25, 1.2384352838725359, null, 1.5, 1.5037281658048003, null, 1.5, 1.5071746634578265, null, 1.5, 1.512588363053912, null, 1.5, 1.5200703063633403, null, 1.5, 1.5289361230637706, null, 1.5, 1.5374411059640407, null, 1.5, 1.5429323507935442, null, 1.5, 1.5426038049365005, null, 1.5, 1.5346909365717063, null, 1.5, 1.5195569608814694, null, 1.5, 1.5, null, 1.5, 1.4804430391185308, null, 1.5, 1.4653090634282937, null, 1.5, 1.4573961950634997, null, 1.5, 1.4570676492064558, null, 1.5, 1.462558894035959, null, 1.5, 1.4710638769362294, null, 1.5, 1.4799296936366597, null, 1.5, 1.487411636946088, null, 1.5, 1.4928253365421735, null, 1.75, 1.7526845507651043, null, 1.75, 1.7551662799573653, null, 1.75, 1.759064537747833, null, 1.75, 1.7644520815662788, null, 1.75, 1.7708361149630154, null, 1.75, 1.7769603217573382, null, 1.75, 1.7809144177606433, null, 1.75, 1.7806778408276207, null, 1.75, 1.7749799996008364, null, 1.75, 1.7640824354511986, null, 1.75, 1.75, null, 1.75, 1.7359175645488014, null, 1.75, 1.7250200003991636, null, 1.75, 1.7193221591723793, null, 1.75, 1.7190855822393567, null, 1.75, 1.7230396782426618, null, 1.75, 1.7291638850369846, null, 1.75, 1.7355479184337212, null, 1.75, 1.740935462252167, null, 1.75, 1.7448337200426345, null, -2.0007071206849307, -2.0013029280057086, -2.000919253860583, null, -2.0014286000219355, -2.0025074179744635, -2.0017012741927283, null, -2.002547340026544, -2.0043994102268337, -2.002944205766351, null, -2.0041261812305606, -2.0070142170743255, -2.004629286497823, null, -2.00604425045449, -2.0101126631942905, -2.006578839949956, null, -2.0079512832779227, -2.0130850042834574, -2.0083820197144986, null, -2.009284959949668, -2.015004097223302, -2.0094438429431034, null, -2.009419554551984, -2.01488927625752, -2.0091659235406287, null, -2.007921420129098, -2.012123868725296, -2.007212149340264, null, -2.0047995729021415, -2.0068348119083663, -2.00373195306279, null, -2.000601869003776, -2.0, -1.9993981309962239, null, -1.9962680469372098, -1.9931651880916337, -1.9952004270978587, null, -1.9927878506597358, -1.987876131274704, -1.9920785798709024, null, -1.9908340764593713, -1.9851107237424799, -1.990580445448016, null, -1.9905561570568966, -1.984995902776698, -1.9907150400503322, null, -1.9916179802855014, -1.9869149957165426, -1.9920487167220775, null, -1.9934211600500438, -1.9898873368057095, -1.9939557495455096, null, -1.995370713502177, -1.9929857829256743, -1.9958738187694391, null, -1.9970557942336493, -1.9956005897731666, -1.9974526599734561, null, -1.9982684553097014, -1.9974925820255367, -1.9986016704756353, null, -1.7509734879895866, -1.7519937393854066, -1.751515189030637, null, -1.7520465165577672, -1.7538368489659144, -1.7527428144457897, null, -1.753694863390927, -1.7567319739873333, -1.7547082955603637, null, -1.7560564426812817, -1.7607331493203022, -1.7573411669880579, null, -1.7589753603372946, -1.7654743890786528, -1.760340482437307, null, -1.7619466415330753, -1.770022663020398, -1.7630465655567198, null, -1.7641265385858491, -1.7729592574919726, -1.7645322605229519, null, -1.764543576545909, -1.7727835585425704, -1.763895907069074, null, -1.762484281113969, -1.7685519341630662, -1.760673094704692, null, -1.7578905984650883, -1.7604586236797826, -1.7551643356981022, null, -1.7515369263431775, -1.75, -1.7484630736568225, null, -1.7448356643018978, -1.7395413763202174, -1.7421094015349117, null, -1.739326905295308, -1.7314480658369338, -1.737515718886031, null, -1.736104092930926, -1.7272164414574296, -1.735456423454091, null, -1.7354677394770481, -1.7270407425080274, -1.7358734614141509, null, -1.7369534344432802, -1.729977336979602, -1.7380533584669247, null, -1.7396595175626928, -1.734525610921347, -1.7410246396627054, null, -1.7426588330119421, -1.7392668506796978, -1.7439435573187183, null, -1.7452917044396363, -1.7432680260126667, -1.746305136609073, null, -1.747179887130724, -1.7461631510340856, -1.748030781865719, null, -1.5017164627763273, -1.5037281658048003, -1.5029372049166037, null, -1.5036933063781888, -1.5071746634578265, -1.5052624378911108, null, -1.5067147839819448, -1.512588363053912, -1.5089985886302513, null, -1.5110787533900736, -1.5200703063633403, -1.5139739243073722, null, -1.5165215234663134, -1.5289361230637706, -1.519597873607485, null, -1.5221284950433647, -1.5374411059640407, -1.524607212093939, null, -1.526337911250472, -1.5429323507935442, -1.527252219749668, null, -1.5273197853383396, -1.5426038049365005, -1.525860239641676, null, -1.5236921955195895, -1.5346909365717063, -1.5196106239401557, null, -1.515277812143587, -1.5195569608814694, -1.5091340841590994, null, -1.5034635169797348, -1.5, -1.4965364830202652, null, -1.4908659158409006, -1.4804430391185308, -1.4847221878564132, null, -1.4803893760598443, -1.4653090634282937, -1.4763078044804105, null, -1.4741397603583242, -1.4573961950634997, -1.4726802146616607, null, -1.472747780250332, -1.4570676492064558, -1.473662088749528, null, -1.475392787906061, -1.462558894035959, -1.477871504956635, null, -1.480402126392515, -1.4710638769362294, -1.4834784765336866, null, -1.4860260756926278, -1.4799296936366597, -1.4889212466099264, null, -1.4910014113697487, -1.487411636946088, -1.4932852160180552, null, -1.4945633674225662, -1.4928253365421735, -1.4964808883081342, null, -1.2525367154771851, -1.2560093660785723, -1.2549644511122509, null, -1.255657509447654, -1.2615647161274641, -1.2587781000821048, null, -1.2603931130400043, -1.2702909650165046, -1.2649350009172973, null, -1.2673121218292258, -1.282350980230309, -1.2730698567133025, null, -1.2760510897986685, -1.2966416370647789, -1.2821691425939714, null, -1.2852014808872902, -1.3103506721280567, -1.2901309983622593, null, -1.2922813435665, -1.3192019148397045, -1.294099663137609, null, -1.2943113085539835, -1.318672337446437, -1.2914086553384614, null, -1.2889581206099416, -1.3059177215775895, -1.2808409462751398, null, -1.2757836880618627, -1.281523527513112, -1.263565426016191, null, -1.2568880259941333, -1.25, -1.2431119740058667, null, -1.236434573983809, -1.218476472486888, -1.2242163119381373, null, -1.2191590537248602, -1.1940822784224105, -1.2110418793900584, null, -1.2085913446615386, -1.181327662553563, -1.2056886914460165, null, -1.205900336862391, -1.1807980851602955, -1.2077186564335, null, -1.2098690016377407, -1.1896493278719433, -1.2147985191127098, null, -1.2178308574060286, -1.2033583629352211, -1.2239489102013315, null, -1.2269301432866975, -1.2176490197696908, -1.232687878170774, null, -1.2350649990827027, -1.2297090349834954, -1.2396068869599957, null, -1.2408754724182027, -1.2384352838725359, -1.2446889180520384, null, -1.003016090080116, -1.0082459624859355, -1.0072768988123062, null, -1.0071657604611972, -1.0158689309489062, -1.0126425675866564, null, -1.0133917993298378, -1.0278429594971985, -1.0213630608002724, null, -1.0226532045600865, -1.0443915324635622, -1.032758343981928, null, -1.0345757086580232, -1.0640009585853292, -1.0453132257079485, null, -1.0473592658116704, -1.0828122919892382, -1.0560108384126818, null, -1.0576697392728145, -1.0949578351962677, -1.0608609895039312, null, -1.0613589853676948, -1.0942311569974053, -1.0562646703242518, null, -1.0550116614711682, -1.07672946337417, -1.0407655768535156, null, -1.0377189925176207, -1.0432561141888759, -1.0162752748144037, null, -1.012088862098267, -1.0, -0.9879111379017329, null, -0.9837247251855965, -0.9567438858111244, -0.9622810074823794, null, -0.9592344231464847, -0.9232705366258303, -0.9449883385288318, null, -0.9437353296757484, -0.9057688430025947, -0.9386410146323053, null, -0.9391390104960688, -0.9050421648037322, -0.9423302607271855, null, -0.943989161587318, -0.9171877080107618, -0.9526407341883296, null, -0.9546867742920513, -0.9359990414146706, -0.9654242913419767, null, -0.9672416560180721, -0.9556084675364377, -0.9773467954399134, null, -0.9786369391997275, -0.9721570405028014, -0.9866082006701621, null, -0.986749433216709, -0.9841310690510938, -0.9934422387354371, null, -0.7525720256712599, -0.7594078586373922, -0.759171295332361, null, -0.7570583864154232, -0.7681049403691182, -0.7655410312311098, null, -0.7636529286931802, -0.7817661676781891, -0.7759990599769242, null, -0.7737840793333075, -0.8006465149249373, -0.7894352254417776, null, -0.7872575406846734, -0.8230190043982559, -0.8038881324236986, null, -0.8022678180171284, -0.8444809460147359, -0.8156676357924081, null, -0.815144789461654, -0.8583378552307268, -0.8200874945101307, null, -0.8210438146876176, -0.857508784545354, -0.8131535851975453, null, -0.8156687418655836, -0.8375410173134286, -0.7936039743728573, null, -0.797407500727642, -0.7993511107024732, -0.7641948210335424, null, -0.7687235958938059, -0.7500000000000001, -0.7312764041061942, null, -0.7358051789664578, -0.700648889297527, -0.7025924992723581, null, -0.7063960256271428, -0.6624589826865716, -0.6843312581344165, null, -0.6868464148024547, -0.642491215454646, -0.6789561853123824, null, -0.6799125054898693, -0.6416621447692732, -0.684855210538346, null, -0.6843323642075919, -0.6555190539852641, -0.6977321819828716, null, -0.6961118675763014, -0.676980995601744, -0.7127424593153265, null, -0.7105647745582224, -0.6993534850750626, -0.7262159206666924, null, -0.7240009400230758, -0.7182338323218109, -0.7363470713068198, null, -0.7335172811915975, -0.7318950596308816, -0.7438833011618693, null, -0.5007715852935705, -0.5084625174538461, -0.5097917174504007, null, -0.5043670661925134, -0.5162856798533886, -0.515961466968095, null, -0.5093962147493922, -0.5285741696149668, -0.526271375414726, null, -0.5177370914767095, -0.545557340203356, -0.539129671800621, null, -0.5296278244769007, -0.5656817478875287, -0.5523591482499718, null, -0.5438847121536776, -0.5849871033911729, -0.5622000914937448, null, -0.5574438494061388, -0.5974516121190792, -0.5641997261984281, null, -0.5657486730264466, -0.5967058499413235, -0.5549640079948476, null, -0.5642257478675574, -0.5787445278990374, -0.534066786495321, null, -0.5504043061239496, -0.5443921036426345, -0.5050079553900018, null, -0.5255921212628598, -0.5000000000000001, -0.47440787873714035, null, -0.49499204460999835, -0.4556078963573657, -0.4495956938760504, null, -0.4659332135046791, -0.4212554721009627, -0.43577425213244264, null, -0.44503599200515254, -0.4032941500586765, -0.4342513269735534, null, -0.43580027380157194, -0.40254838788092073, -0.44255615059386105, null, -0.43779990850625516, -0.415012896608827, -0.4561152878463223, null, -0.44764085175002816, -0.4343182521124712, -0.47037217552309923, null, -0.46087032819937895, -0.45444265979664394, -0.48226290852329046, null, -0.47372862458527387, -0.4714258303850331, -0.49060378525060777, null, -0.4827513987225294, -0.4837143201466114, -0.4969200681168622, null, -0.24772054041236072, -0.25506425622466866, -0.2586008966737044, null, -0.24908988190051662, -0.25974590079374077, -0.26307539883993314, null, -0.25049468059744234, -0.2670997480509262, -0.27085000985580715, null, -0.2541133070215445, -0.2772630508548419, -0.2799176845214146, null, -0.2608222814228809, -0.2893061760168494, -0.28824149176734154, null, -0.27069608220513763, -0.3008591526945326, -0.2927886467947468, null, -0.28232324030626027, -0.30831833564535155, -0.2904723832544807, null, -0.29262366699833486, -0.3078720463736992, -0.2796148778073475, null, -0.29760011170620104, -0.297123384707473, -0.2612214602078906, null, -0.29395951001882825, -0.2765657339467198, -0.2392010585502159, null, -0.28086999081411124, -0.25000000000000006, -0.21913000918588882, null, -0.2607989414497842, -0.22343426605328034, -0.2060404899811718, null, -0.23877853979210945, -0.20287661529252704, -0.20239988829379893, null, -0.22038512219265255, -0.19212795362630075, -0.20737633300166503, null, -0.20952761674551934, -0.19168166435464845, -0.2176767596937397, null, -0.20721135320525316, -0.19914084730546727, -0.2293039177948623, null, -0.21175850823265846, -0.2106938239831506, -0.23917771857711909, null, -0.2200823154785854, -0.2227369491451581, -0.24588669297845553, null, -0.2291499901441928, -0.23290025194907377, -0.2495053194025576, null, -0.23537202082103037, -0.24025409920625918, -0.2524626984385198, null, 0.005791039475626224, 0.0, -0.005791039475626227, null, 0.0074437526435553744, 0.0, -0.007443752643555379, null, 0.010834067602488938, 0.0, -0.010834067602488945, null, 0.013734308432218215, 0.0, -0.013734308432218224, null, 0.014593798739790793, 0.0, -0.014593798739790803, null, 0.011758706294461936, 0.0, -0.011758706294461943, null, 0.004337358756655119, 0.0, -0.004337358756655122, null, -0.006923892005518335, 0.0, 0.006923892005518335, null, -0.01936243647142765, 0.0, 0.01936243647142765, null, -0.02914503408363018, 0.0, 0.02914503408363018, null, -0.03286093416846662, 0.0, 0.03286093416846662, null, -0.029145034083630207, 0.0, 0.029145034083630207, null, -0.019362436471427734, 0.0, 0.019362436471427734, null, -0.006923892005518396, 0.0, 0.006923892005518396, null, 0.004337358756655058, 0.0, -0.004337358756655062, null, 0.011758706294461905, 0.0, -0.011758706294461914, null, 0.014593798739790793, 0.0, -0.014593798739790803, null, 0.013734308432218215, 0.0, -0.013734308432218224, null, 0.01083406760248897, 0.0, -0.010834067602488976, null, 0.009096465811484494, 0.0, -0.009096465811484501, null, 0.2586008966737044, 0.25506425622466866, 0.24772054041236072, null, 0.26307539883993314, 0.25974590079374077, 0.24908988190051662, null, 0.27085000985580715, 0.2670997480509262, 0.25049468059744234, null, 0.2799176845214146, 0.2772630508548419, 0.2541133070215445, null, 0.28824149176734154, 0.2893061760168494, 0.2608222814228809, null, 0.2927886467947468, 0.3008591526945326, 0.27069608220513763, null, 0.2904723832544807, 0.30831833564535155, 0.28232324030626027, null, 0.2796148778073475, 0.3078720463736992, 0.29262366699833486, null, 0.2612214602078906, 0.297123384707473, 0.29760011170620104, null, 0.2392010585502159, 0.2765657339467198, 0.29395951001882825, null, 0.21913000918588882, 0.25000000000000006, 0.28086999081411124, null, 0.2060404899811718, 0.22343426605328034, 0.2607989414497842, null, 0.20239988829379893, 0.20287661529252704, 0.23877853979210945, null, 0.20737633300166503, 0.19212795362630075, 0.22038512219265255, null, 0.2176767596937397, 0.19168166435464845, 0.20952761674551934, null, 0.2293039177948623, 0.19914084730546727, 0.20721135320525316, null, 0.23917771857711909, 0.2106938239831506, 0.21175850823265846, null, 0.24588669297845553, 0.2227369491451581, 0.2200823154785854, null, 0.2495053194025576, 0.23290025194907377, 0.2291499901441928, null, 0.2524626984385198, 0.24025409920625918, 0.23537202082103037, null, 0.5097917174504007, 0.5084625174538461, 0.5007715852935705, null, 0.515961466968095, 0.5162856798533886, 0.5043670661925134, null, 0.526271375414726, 0.5285741696149668, 0.5093962147493922, null, 0.539129671800621, 0.545557340203356, 0.5177370914767095, null, 0.5523591482499718, 0.5656817478875287, 0.5296278244769007, null, 0.5622000914937448, 0.5849871033911729, 0.5438847121536776, null, 0.5641997261984281, 0.5974516121190792, 0.5574438494061388, null, 0.5549640079948476, 0.5967058499413235, 0.5657486730264466, null, 0.534066786495321, 0.5787445278990374, 0.5642257478675574, null, 0.5050079553900018, 0.5443921036426345, 0.5504043061239496, null, 0.47440787873714035, 0.5000000000000001, 0.5255921212628598, null, 0.4495956938760504, 0.4556078963573657, 0.49499204460999835, null, 0.43577425213244264, 0.4212554721009627, 0.4659332135046791, null, 0.4342513269735534, 0.4032941500586765, 0.44503599200515254, null, 0.44255615059386105, 0.40254838788092073, 0.43580027380157194, null, 0.4561152878463223, 0.415012896608827, 0.43779990850625516, null, 0.47037217552309923, 0.4343182521124712, 0.44764085175002816, null, 0.48226290852329046, 0.45444265979664394, 0.46087032819937895, null, 0.49060378525060777, 0.4714258303850331, 0.47372862458527387, null, 0.4969200681168622, 0.4837143201466114, 0.4827513987225294, null, 0.759171295332361, 0.7594078586373922, 0.7525720256712599, null, 0.7655410312311098, 0.7681049403691182, 0.7570583864154232, null, 0.7759990599769242, 0.7817661676781891, 0.7636529286931802, null, 0.7894352254417776, 0.8006465149249373, 0.7737840793333075, null, 0.8038881324236986, 0.8230190043982559, 0.7872575406846734, null, 0.8156676357924081, 0.8444809460147359, 0.8022678180171284, null, 0.8200874945101307, 0.8583378552307268, 0.815144789461654, null, 0.8131535851975453, 0.857508784545354, 0.8210438146876176, null, 0.7936039743728573, 0.8375410173134286, 0.8156687418655836, null, 0.7641948210335424, 0.7993511107024732, 0.797407500727642, null, 0.7312764041061942, 0.7500000000000001, 0.7687235958938059, null, 0.7025924992723581, 0.700648889297527, 0.7358051789664578, null, 0.6843312581344165, 0.6624589826865716, 0.7063960256271428, null, 0.6789561853123824, 0.642491215454646, 0.6868464148024547, null, 0.684855210538346, 0.6416621447692732, 0.6799125054898693, null, 0.6977321819828716, 0.6555190539852641, 0.6843323642075919, null, 0.7127424593153265, 0.676980995601744, 0.6961118675763014, null, 0.7262159206666924, 0.6993534850750626, 0.7105647745582224, null, 0.7363470713068198, 0.7182338323218109, 0.7240009400230758, null, 0.7438833011618693, 0.7318950596308816, 0.7335172811915975, null, 1.0072768988123062, 1.0082459624859355, 1.003016090080116, null, 1.0126425675866564, 1.0158689309489062, 1.0071657604611972, null, 1.0213630608002724, 1.0278429594971985, 1.0133917993298378, null, 1.032758343981928, 1.0443915324635622, 1.0226532045600865, null, 1.0453132257079485, 1.0640009585853292, 1.0345757086580232, null, 1.0560108384126818, 1.0828122919892382, 1.0473592658116704, null, 1.0608609895039312, 1.0949578351962677, 1.0576697392728145, null, 1.0562646703242518, 1.0942311569974053, 1.0613589853676948, null, 1.0407655768535156, 1.07672946337417, 1.0550116614711682, null, 1.0162752748144037, 1.0432561141888759, 1.0377189925176207, null, 0.9879111379017329, 1.0, 1.012088862098267, null, 0.9622810074823794, 0.9567438858111244, 0.9837247251855965, null, 0.9449883385288318, 0.9232705366258303, 0.9592344231464847, null, 0.9386410146323053, 0.9057688430025947, 0.9437353296757484, null, 0.9423302607271855, 0.9050421648037322, 0.9391390104960688, null, 0.9526407341883296, 0.9171877080107618, 0.943989161587318, null, 0.9654242913419767, 0.9359990414146706, 0.9546867742920513, null, 0.9773467954399134, 0.9556084675364377, 0.9672416560180721, null, 0.9866082006701621, 0.9721570405028014, 0.9786369391997275, null, 0.9934422387354371, 0.9841310690510938, 0.986749433216709, null, 1.2549644511122509, 1.2560093660785723, 1.2525367154771851, null, 1.2587781000821048, 1.2615647161274641, 1.255657509447654, null, 1.2649350009172973, 1.2702909650165046, 1.2603931130400043, null, 1.2730698567133025, 1.282350980230309, 1.2673121218292258, null, 1.2821691425939714, 1.2966416370647789, 1.2760510897986685, null, 1.2901309983622593, 1.3103506721280567, 1.2852014808872902, null, 1.294099663137609, 1.3192019148397045, 1.2922813435665, null, 1.2914086553384614, 1.318672337446437, 1.2943113085539835, null, 1.2808409462751398, 1.3059177215775895, 1.2889581206099416, null, 1.263565426016191, 1.281523527513112, 1.2757836880618627, null, 1.2431119740058667, 1.25, 1.2568880259941333, null, 1.2242163119381373, 1.218476472486888, 1.236434573983809, null, 1.2110418793900584, 1.1940822784224105, 1.2191590537248602, null, 1.2056886914460165, 1.181327662553563, 1.2085913446615386, null, 1.2077186564335, 1.1807980851602955, 1.205900336862391, null, 1.2147985191127098, 1.1896493278719433, 1.2098690016377407, null, 1.2239489102013315, 1.2033583629352211, 1.2178308574060286, null, 1.232687878170774, 1.2176490197696908, 1.2269301432866975, null, 1.2396068869599957, 1.2297090349834954, 1.2350649990827027, null, 1.2446889180520384, 1.2384352838725359, 1.2408754724182027, null, 1.5029372049166037, 1.5037281658048003, 1.5017164627763273, null, 1.5052624378911108, 1.5071746634578265, 1.5036933063781888, null, 1.5089985886302513, 1.512588363053912, 1.5067147839819448, null, 1.5139739243073722, 1.5200703063633403, 1.5110787533900736, null, 1.519597873607485, 1.5289361230637706, 1.5165215234663134, null, 1.524607212093939, 1.5374411059640407, 1.5221284950433647, null, 1.527252219749668, 1.5429323507935442, 1.526337911250472, null, 1.525860239641676, 1.5426038049365005, 1.5273197853383396, null, 1.5196106239401557, 1.5346909365717063, 1.5236921955195895, null, 1.5091340841590994, 1.5195569608814694, 1.515277812143587, null, 1.4965364830202652, 1.5, 1.5034635169797348, null, 1.4847221878564132, 1.4804430391185308, 1.4908659158409006, null, 1.4763078044804105, 1.4653090634282937, 1.4803893760598443, null, 1.4726802146616607, 1.4573961950634997, 1.4741397603583242, null, 1.473662088749528, 1.4570676492064558, 1.472747780250332, null, 1.477871504956635, 1.462558894035959, 1.475392787906061, null, 1.4834784765336866, 1.4710638769362294, 1.480402126392515, null, 1.4889212466099264, 1.4799296936366597, 1.4860260756926278, null, 1.4932852160180552, 1.487411636946088, 1.4910014113697487, null, 1.4964808883081342, 1.4928253365421735, 1.4945633674225662, null, 1.751946340267992, 1.7526845507651043, 1.7514046392269418, null, 1.7535725428402364, 1.7551662799573653, 1.752876244952214, null, 1.7561641021395615, 1.759064537747833, 1.7551506699701251, null, 1.7596622379585356, 1.7644520815662788, 1.7583775136517594, null, 1.7636868586223846, 1.7708361149630154, 1.7623217365223722, null, 1.7673765176054066, 1.7769603217573382, 1.7662765935817621, null, 1.7694972586309667, 1.7809144177606433, 1.7690915366938642, null, 1.7688229098302592, 1.7806778408276207, 1.7694705793070942, null, 1.7646849978793415, 1.7749799996008364, 1.7664961842886187, null, 1.7574260397972314, 1.7640824354511986, 1.7601523025642176, null, 1.7484630736568225, 1.75, 1.7515369263431775, null, 1.7398476974357824, 1.7359175645488014, 1.7425739602027686, null, 1.7335038157113813, 1.7250200003991636, 1.7353150021206585, null, 1.7305294206929058, 1.7193221591723793, 1.7311770901697408, null, 1.7309084633061358, 1.7190855822393567, 1.7305027413690333, null, 1.7337234064182379, 1.7230396782426618, 1.7326234823945934, null, 1.7376782634776278, 1.7291638850369846, 1.7363131413776154, null, 1.7416224863482406, 1.7355479184337212, 1.7403377620414644, null, 1.7448493300298749, 1.740935462252167, 1.7438358978604385, null, 1.7472010534712723, 1.7448337200426345, 1.746350158736277, null]}, {\"marker\": {\"size\": 12}, \"mode\": \"markers\", \"name\": \"points\", \"type\": \"scatter\", \"x\": [-0.7, 0.75], \"y\": [0, 0]}],\n",
              "                        {\"hovermode\": \"closest\", \"template\": {\"data\": {\"bar\": [{\"error_x\": {\"color\": \"#2a3f5f\"}, \"error_y\": {\"color\": \"#2a3f5f\"}, \"marker\": {\"line\": {\"color\": \"#E5ECF6\", \"width\": 0.5}}, \"type\": \"bar\"}], \"barpolar\": [{\"marker\": {\"line\": {\"color\": \"#E5ECF6\", \"width\": 0.5}}, \"type\": \"barpolar\"}], \"carpet\": [{\"aaxis\": {\"endlinecolor\": \"#2a3f5f\", \"gridcolor\": \"white\", \"linecolor\": \"white\", \"minorgridcolor\": \"white\", \"startlinecolor\": \"#2a3f5f\"}, \"baxis\": {\"endlinecolor\": \"#2a3f5f\", \"gridcolor\": \"white\", \"linecolor\": \"white\", \"minorgridcolor\": \"white\", \"startlinecolor\": \"#2a3f5f\"}, \"type\": \"carpet\"}], \"choropleth\": [{\"colorbar\": {\"outlinewidth\": 0, \"ticks\": \"\"}, \"type\": \"choropleth\"}], \"contour\": [{\"colorbar\": {\"outlinewidth\": 0, \"ticks\": \"\"}, \"colorscale\": [[0.0, \"#0d0887\"], [0.1111111111111111, \"#46039f\"], [0.2222222222222222, \"#7201a8\"], [0.3333333333333333, \"#9c179e\"], [0.4444444444444444, \"#bd3786\"], [0.5555555555555556, \"#d8576b\"], [0.6666666666666666, \"#ed7953\"], [0.7777777777777778, \"#fb9f3a\"], [0.8888888888888888, \"#fdca26\"], [1.0, \"#f0f921\"]], \"type\": \"contour\"}], \"contourcarpet\": [{\"colorbar\": {\"outlinewidth\": 0, \"ticks\": \"\"}, \"type\": \"contourcarpet\"}], \"heatmap\": [{\"colorbar\": {\"outlinewidth\": 0, \"ticks\": \"\"}, \"colorscale\": [[0.0, \"#0d0887\"], [0.1111111111111111, \"#46039f\"], [0.2222222222222222, \"#7201a8\"], [0.3333333333333333, \"#9c179e\"], [0.4444444444444444, \"#bd3786\"], [0.5555555555555556, \"#d8576b\"], [0.6666666666666666, \"#ed7953\"], [0.7777777777777778, \"#fb9f3a\"], [0.8888888888888888, \"#fdca26\"], [1.0, \"#f0f921\"]], \"type\": \"heatmap\"}], \"heatmapgl\": [{\"colorbar\": {\"outlinewidth\": 0, \"ticks\": \"\"}, \"colorscale\": [[0.0, \"#0d0887\"], [0.1111111111111111, \"#46039f\"], [0.2222222222222222, \"#7201a8\"], [0.3333333333333333, \"#9c179e\"], [0.4444444444444444, \"#bd3786\"], [0.5555555555555556, \"#d8576b\"], [0.6666666666666666, \"#ed7953\"], [0.7777777777777778, \"#fb9f3a\"], [0.8888888888888888, \"#fdca26\"], [1.0, \"#f0f921\"]], \"type\": \"heatmapgl\"}], \"histogram\": [{\"marker\": {\"colorbar\": {\"outlinewidth\": 0, \"ticks\": \"\"}}, \"type\": \"histogram\"}], \"histogram2d\": [{\"colorbar\": {\"outlinewidth\": 0, \"ticks\": \"\"}, \"colorscale\": [[0.0, \"#0d0887\"], [0.1111111111111111, \"#46039f\"], [0.2222222222222222, \"#7201a8\"], [0.3333333333333333, \"#9c179e\"], [0.4444444444444444, \"#bd3786\"], [0.5555555555555556, \"#d8576b\"], [0.6666666666666666, \"#ed7953\"], [0.7777777777777778, \"#fb9f3a\"], [0.8888888888888888, \"#fdca26\"], [1.0, \"#f0f921\"]], \"type\": \"histogram2d\"}], \"histogram2dcontour\": [{\"colorbar\": {\"outlinewidth\": 0, \"ticks\": \"\"}, \"colorscale\": [[0.0, \"#0d0887\"], [0.1111111111111111, \"#46039f\"], [0.2222222222222222, \"#7201a8\"], [0.3333333333333333, \"#9c179e\"], [0.4444444444444444, \"#bd3786\"], [0.5555555555555556, \"#d8576b\"], [0.6666666666666666, \"#ed7953\"], [0.7777777777777778, \"#fb9f3a\"], [0.8888888888888888, \"#fdca26\"], [1.0, \"#f0f921\"]], \"type\": \"histogram2dcontour\"}], \"mesh3d\": [{\"colorbar\": {\"outlinewidth\": 0, \"ticks\": \"\"}, \"type\": \"mesh3d\"}], \"parcoords\": [{\"line\": {\"colorbar\": {\"outlinewidth\": 0, \"ticks\": \"\"}}, \"type\": \"parcoords\"}], \"pie\": [{\"automargin\": true, \"type\": \"pie\"}], \"scatter\": [{\"marker\": {\"colorbar\": {\"outlinewidth\": 0, \"ticks\": \"\"}}, \"type\": \"scatter\"}], \"scatter3d\": [{\"line\": {\"colorbar\": {\"outlinewidth\": 0, \"ticks\": \"\"}}, \"marker\": {\"colorbar\": {\"outlinewidth\": 0, \"ticks\": \"\"}}, \"type\": \"scatter3d\"}], \"scattercarpet\": [{\"marker\": {\"colorbar\": {\"outlinewidth\": 0, \"ticks\": \"\"}}, \"type\": \"scattercarpet\"}], \"scattergeo\": [{\"marker\": {\"colorbar\": {\"outlinewidth\": 0, \"ticks\": \"\"}}, \"type\": \"scattergeo\"}], \"scattergl\": [{\"marker\": {\"colorbar\": {\"outlinewidth\": 0, \"ticks\": \"\"}}, \"type\": \"scattergl\"}], \"scattermapbox\": [{\"marker\": {\"colorbar\": {\"outlinewidth\": 0, \"ticks\": \"\"}}, \"type\": \"scattermapbox\"}], \"scatterpolar\": [{\"marker\": {\"colorbar\": {\"outlinewidth\": 0, \"ticks\": \"\"}}, \"type\": \"scatterpolar\"}], \"scatterpolargl\": [{\"marker\": {\"colorbar\": {\"outlinewidth\": 0, \"ticks\": \"\"}}, \"type\": \"scatterpolargl\"}], \"scatterternary\": [{\"marker\": {\"colorbar\": {\"outlinewidth\": 0, \"ticks\": \"\"}}, \"type\": \"scatterternary\"}], \"surface\": [{\"colorbar\": {\"outlinewidth\": 0, \"ticks\": \"\"}, \"colorscale\": [[0.0, \"#0d0887\"], [0.1111111111111111, \"#46039f\"], [0.2222222222222222, \"#7201a8\"], [0.3333333333333333, \"#9c179e\"], [0.4444444444444444, \"#bd3786\"], [0.5555555555555556, \"#d8576b\"], [0.6666666666666666, \"#ed7953\"], [0.7777777777777778, \"#fb9f3a\"], [0.8888888888888888, \"#fdca26\"], [1.0, \"#f0f921\"]], \"type\": \"surface\"}], \"table\": [{\"cells\": {\"fill\": {\"color\": \"#EBF0F8\"}, \"line\": {\"color\": \"white\"}}, \"header\": {\"fill\": {\"color\": \"#C8D4E3\"}, \"line\": {\"color\": \"white\"}}, \"type\": \"table\"}]}, \"layout\": {\"annotationdefaults\": {\"arrowcolor\": \"#2a3f5f\", \"arrowhead\": 0, \"arrowwidth\": 1}, \"coloraxis\": {\"colorbar\": {\"outlinewidth\": 0, \"ticks\": \"\"}}, \"colorscale\": {\"diverging\": [[0, \"#8e0152\"], [0.1, \"#c51b7d\"], [0.2, \"#de77ae\"], [0.3, \"#f1b6da\"], [0.4, \"#fde0ef\"], [0.5, \"#f7f7f7\"], [0.6, \"#e6f5d0\"], [0.7, \"#b8e186\"], [0.8, \"#7fbc41\"], [0.9, \"#4d9221\"], [1, \"#276419\"]], \"sequential\": [[0.0, \"#0d0887\"], [0.1111111111111111, \"#46039f\"], [0.2222222222222222, \"#7201a8\"], [0.3333333333333333, \"#9c179e\"], [0.4444444444444444, \"#bd3786\"], [0.5555555555555556, \"#d8576b\"], [0.6666666666666666, \"#ed7953\"], [0.7777777777777778, \"#fb9f3a\"], [0.8888888888888888, \"#fdca26\"], [1.0, \"#f0f921\"]], \"sequentialminus\": [[0.0, \"#0d0887\"], [0.1111111111111111, \"#46039f\"], [0.2222222222222222, \"#7201a8\"], [0.3333333333333333, \"#9c179e\"], [0.4444444444444444, \"#bd3786\"], [0.5555555555555556, \"#d8576b\"], [0.6666666666666666, \"#ed7953\"], [0.7777777777777778, \"#fb9f3a\"], [0.8888888888888888, \"#fdca26\"], [1.0, \"#f0f921\"]]}, \"colorway\": [\"#636efa\", \"#EF553B\", \"#00cc96\", \"#ab63fa\", \"#FFA15A\", \"#19d3f3\", \"#FF6692\", \"#B6E880\", \"#FF97FF\", \"#FECB52\"], \"font\": {\"color\": \"#2a3f5f\"}, \"geo\": {\"bgcolor\": \"white\", \"lakecolor\": \"white\", \"landcolor\": \"#E5ECF6\", \"showlakes\": true, \"showland\": true, \"subunitcolor\": \"white\"}, \"hoverlabel\": {\"align\": \"left\"}, \"hovermode\": \"closest\", \"mapbox\": {\"style\": \"light\"}, \"paper_bgcolor\": \"white\", \"plot_bgcolor\": \"#E5ECF6\", \"polar\": {\"angularaxis\": {\"gridcolor\": \"white\", \"linecolor\": \"white\", \"ticks\": \"\"}, \"bgcolor\": \"#E5ECF6\", \"radialaxis\": {\"gridcolor\": \"white\", \"linecolor\": \"white\", \"ticks\": \"\"}}, \"scene\": {\"xaxis\": {\"backgroundcolor\": \"#E5ECF6\", \"gridcolor\": \"white\", \"gridwidth\": 2, \"linecolor\": \"white\", \"showbackground\": true, \"ticks\": \"\", \"zerolinecolor\": \"white\"}, \"yaxis\": {\"backgroundcolor\": \"#E5ECF6\", \"gridcolor\": \"white\", \"gridwidth\": 2, \"linecolor\": \"white\", \"showbackground\": true, \"ticks\": \"\", \"zerolinecolor\": \"white\"}, \"zaxis\": {\"backgroundcolor\": \"#E5ECF6\", \"gridcolor\": \"white\", \"gridwidth\": 2, \"linecolor\": \"white\", \"showbackground\": true, \"ticks\": \"\", \"zerolinecolor\": \"white\"}}, \"shapedefaults\": {\"line\": {\"color\": \"#2a3f5f\"}}, \"ternary\": {\"aaxis\": {\"gridcolor\": \"white\", \"linecolor\": \"white\", \"ticks\": \"\"}, \"baxis\": {\"gridcolor\": \"white\", \"linecolor\": \"white\", \"ticks\": \"\"}, \"bgcolor\": \"#E5ECF6\", \"caxis\": {\"gridcolor\": \"white\", \"linecolor\": \"white\", \"ticks\": \"\"}}, \"title\": {\"x\": 0.05}, \"xaxis\": {\"automargin\": true, \"gridcolor\": \"white\", \"linecolor\": \"white\", \"ticks\": \"\", \"title\": {\"standoff\": 15}, \"zerolinecolor\": \"white\", \"zerolinewidth\": 2}, \"yaxis\": {\"automargin\": true, \"gridcolor\": \"white\", \"linecolor\": \"white\", \"ticks\": \"\", \"title\": {\"standoff\": 15}, \"zerolinecolor\": \"white\", \"zerolinewidth\": 2}}}},\n",
              "                        {\"responsive\": true}\n",
              "                    ).then(function(){\n",
              "                            \n",
              "var gd = document.getElementById('5b715c85-6791-4fee-abfb-15321f71f019');\n",
              "var x = new MutationObserver(function (mutations, observer) {{\n",
              "        var display = window.getComputedStyle(gd).display;\n",
              "        if (!display || display === 'none') {{\n",
              "            console.log([gd, 'removed!']);\n",
              "            Plotly.purge(gd);\n",
              "            observer.disconnect();\n",
              "        }}\n",
              "}});\n",
              "\n",
              "// Listen for the removal of the full notebook cells\n",
              "var notebookContainer = gd.closest('#notebook-container');\n",
              "if (notebookContainer) {{\n",
              "    x.observe(notebookContainer, {childList: true});\n",
              "}}\n",
              "\n",
              "// Listen for the clearing of the current output cell\n",
              "var outputEl = gd.closest('.output');\n",
              "if (outputEl) {{\n",
              "    x.observe(outputEl, {childList: true});\n",
              "}}\n",
              "\n",
              "                        })\n",
              "                };\n",
              "                \n",
              "            </script>\n",
              "        </div>\n",
              "</body>\n",
              "</html>"
            ]
          },
          "metadata": {
            "tags": []
          }
        }
      ]
    },
    {
      "cell_type": "markdown",
      "metadata": {
        "id": "OcugaR9pMKLV",
        "colab_type": "text"
      },
      "source": [
        "**Create and plot a matrix on a 2d graph.**"
      ]
    },
    {
      "cell_type": "code",
      "metadata": {
        "id": "jF1KG_3gMRZ2",
        "colab_type": "code",
        "colab": {
          "base_uri": "https://localhost:8080/",
          "height": 200
        },
        "outputId": "84d070dc-1b8f-43be-b93e-cbbaf4024abb"
      },
      "source": [
        "# Make an array with ones in the shape of an 'X'\n",
        "a = np.eye(10,10)\n",
        "a -= a[::-1,:]\n",
        "\n",
        "fig = plt.figure()\n",
        "\n",
        "ax1 = fig.add_subplot(122)\n",
        "# 'nearest' interpolation \n",
        "#Reference  Polynomial interpolation is a method of estimating values between known data points. When graphical data contains a gap, but data is available on either side of the gap or at a few specific points within the gap, interpolation allows us to estimate the values within the gap.\n",
        "ax1.imshow(a, interpolation='nearest', cmap=cm.Greys_r)\n",
        "\n",
        "plt.show()\n",
        "\n",
        "#https://scipython.com/book/chapter-7-matplotlib/examples/visualizing-a-matrix-with-imshow/\n"
      ],
      "execution_count": 109,
      "outputs": [
        {
          "output_type": "display_data",
          "data": {
            "image/png": "[encoded data removed]",
            "text/plain": [
              "<Figure size 432x288 with 1 Axes>"
            ]
          },
          "metadata": {
            "tags": []
          }
        }
      ]
    },
    {
      "cell_type": "code",
      "metadata": {
        "id": "1KnQYMGgMU6Q",
        "colab_type": "code",
        "colab": {
          "base_uri": "https://localhost:8080/",
          "height": 248
        },
        "outputId": "2c6f681d-cc35-4999-d725-4f55ca643126"
      },
      "source": [
        "def surface_plot (matrix, **kwargs):\n",
        "    # acquire the cartesian coordinate matrices from the matrix\n",
        "    # x is cols, y is rows\n",
        "    (x, y) = np.meshgrid(np.arange(matrix.shape[0]), np.arange(matrix.shape[1]))\n",
        "    fig = plt.figure()\n",
        "    ax = fig.add_subplot(111, projection='3d')\n",
        "    surf = ax.plot_surface(x, y, matrix, **kwargs)\n",
        "    return (fig, ax, surf)\n",
        "\n",
        "# m.shape must be (10,10)\n",
        "m = np.fromfunction(lambda x, y: np.sin(np.sqrt(x**2 + y**2)), (10, 10))\n",
        "\n",
        "(fig, ax, surf) = surface_plot(m, cmap=plt.cm.coolwarm)\n",
        "\n",
        "fig.colorbar(surf)\n",
        "\n",
        "ax.set_xlabel('X (cols)')\n",
        "ax.set_ylabel('Y (rows)')\n",
        "ax.set_zlabel('Z (values)')\n",
        "\n",
        "plt.show()\n",
        "\n",
        "#https://gist.github.com/CMCDragonkai/dd420c0800cba33142505eff5a7d2589"
      ],
      "execution_count": 110,
      "outputs": [
        {
          "output_type": "display_data",
          "data": {
            "image/png": "[encoded data removed]",
            "text/plain": [
              "<Figure size 432x288 with 2 Axes>"
            ]
          },
          "metadata": {
            "tags": []
          }
        }
      ]
    },
    {
      "cell_type": "markdown",
      "metadata": {
        "id": "NtU3CldxMZ0z",
        "colab_type": "text"
      },
      "source": [
        "**Plot two vectors that are not collinear on a 2d graph.**\n"
      ]
    },
    {
      "cell_type": "code",
      "metadata": {
        "id": "YhfoVxJQMd1K",
        "colab_type": "code",
        "colab": {
          "base_uri": "https://localhost:8080/",
          "height": 282
        },
        "outputId": "14f27336-bd52-42d0-f4f4-d96ef999127c"
      },
      "source": [
        "m_1 = np.matrix('1 0; 0 2')\n",
        "m_2 = np.matrix('3 4; 1 6')\n",
        "\n",
        "plt.arrow(0,0, m_2[0,0], m_2[1,0], head_width=.1, head_length=.25, color = \"orange\")\n",
        "plt.arrow(0,0, m_2[0,1], m_2[1,1], head_width=.1, head_length=.25, color = \"c\")\n",
        "plt.fill([0,3,7,4],[0,1,7,6], alpha = .5)\n",
        "\n",
        "plt.arrow(0,0, m_1[0,0], m_1[1,0], head_width=.1, head_length=.25, color = \"red\")\n",
        "plt.arrow(0,0, m_1[0,1], m_1[1,1], head_width=.1, head_length=.25, color = \"blue\")\n",
        "plt.fill([0,1,1,0],[0,0,2,2], color = 'purple')"
      ],
      "execution_count": 111,
      "outputs": [
        {
          "output_type": "execute_result",
          "data": {
            "text/plain": [
              "[<matplotlib.patches.Polygon at 0x7fce35139a90>]"
            ]
          },
          "metadata": {
            "tags": []
          },
          "execution_count": 111
        },
        {
          "output_type": "display_data",
          "data": {
            "image/png": "[encoded data removed]",
            "text/plain": [
              "<Figure size 432x288 with 1 Axes>"
            ]
          },
          "metadata": {
            "tags": []
          }
        }
      ]
    },
    {
      "cell_type": "code",
      "metadata": {
        "id": "vEvbEYHQMmzH",
        "colab_type": "code",
        "colab": {
          "base_uri": "https://localhost:8080/",
          "height": 34
        },
        "outputId": "6b005cb3-ab42-47cd-d0b5-641eb4fe264b"
      },
      "source": [
        "np.linalg.det(m_1)"
      ],
      "execution_count": 112,
      "outputs": [
        {
          "output_type": "execute_result",
          "data": {
            "text/plain": [
              "2.0"
            ]
          },
          "metadata": {
            "tags": []
          },
          "execution_count": 112
        }
      ]
    },
    {
      "cell_type": "code",
      "metadata": {
        "id": "1LLLQJZkMoLp",
        "colab_type": "code",
        "colab": {
          "base_uri": "https://localhost:8080/",
          "height": 34
        },
        "outputId": "0f0bd162-bcf8-4cfb-e185-d8bdc3b4829f"
      },
      "source": [
        "np.linalg.det(m_2)"
      ],
      "execution_count": 113,
      "outputs": [
        {
          "output_type": "execute_result",
          "data": {
            "text/plain": [
              "14.000000000000004"
            ]
          },
          "metadata": {
            "tags": []
          },
          "execution_count": 113
        }
      ]
    },
    {
      "cell_type": "markdown",
      "metadata": {
        "id": "xFEq1Wr-Mtan",
        "colab_type": "text"
      },
      "source": [
        "Determinant volume scaling factor of the linear transformation described by the matrix. It can also be thought of in a 2x2 matrix as the area of parallelogram. (Khan Academy)"
      ]
    }
  ]
}