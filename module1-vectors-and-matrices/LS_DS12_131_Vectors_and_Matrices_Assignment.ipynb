{
  "nbformat": 4,
  "nbformat_minor": 0,
  "metadata": {
    "colab": {
      "name": "LS_DS12_131_Vectors_and_Matrices_Assignment.ipynb",
      "provenance": [],
      "collapsed_sections": [],
      "include_colab_link": true
    },
    "kernelspec": {
      "name": "python3",
      "display_name": "Python 3"
    }
  },
  "cells": [
    {
      "cell_type": "markdown",
      "metadata": {
        "id": "view-in-github",
        "colab_type": "text"
      },
      "source": [
        "<a href=\"https://colab.research.google.com/github/jdz014/DS-Unit-1-Sprint-3-Linear-Algebra/blob/master/module1-vectors-and-matrices/LS_DS12_131_Vectors_and_Matrices_Assignment.ipynb\" target=\"_parent\"><img src=\"https://colab.research.google.com/assets/colab-badge.svg\" alt=\"Open In Colab\"/></a>"
      ]
    },
    {
      "cell_type": "markdown",
      "metadata": {
        "id": "yXA3GwWhY9KL",
        "colab_type": "text"
      },
      "source": [
        "# Part 1 - Scalars and Vectors\n",
        "\n",
        "For the questions below it is not sufficient to simply provide answer to the questions, but you must solve the problems and show your work using python (the NumPy library will help a lot!) Translate the vectors and matrices into their appropriate python  representations and use numpy or functions that you write yourself to demonstrate the result or property. "
      ]
    },
    {
      "cell_type": "markdown",
      "metadata": {
        "id": "oNOTv43_Zi9L",
        "colab_type": "text"
      },
      "source": [
        "## 1.1 Create a two-dimensional vector and plot it on a graph"
      ]
    },
    {
      "cell_type": "code",
      "metadata": {
        "id": "SrpiZEL1nfKP",
        "colab_type": "code",
        "colab": {}
      },
      "source": [
        "import math\n",
        "import matplotlib.pyplot as plt\n",
        "import numpy as np"
      ],
      "execution_count": 0,
      "outputs": []
    },
    {
      "cell_type": "code",
      "metadata": {
        "id": "XNqjzQzrkVG7",
        "colab_type": "code",
        "colab": {
          "base_uri": "https://localhost:8080/",
          "height": 269
        },
        "outputId": "25b40f85-b002-48de-9f27-635b7d42bb04"
      },
      "source": [
        "red = [.7, .7]\n",
        "blue = [.3, .3]\n",
        "\n",
        "plt.arrow(0, 0, .7, .7, head_width=.02, head_length=.01, color='r')\n",
        "plt.arrow(0, 0, .3, .2, head_width=.02, head_length=.01, color='b')\n",
        "\n",
        "plt.show()"
      ],
      "execution_count": 21,
      "outputs": [
        {
          "output_type": "display_data",
          "data": {
            "image/png": "[encoded data removed]",
            "text/plain": [
              "<Figure size 432x288 with 1 Axes>"
            ]
          },
          "metadata": {
            "tags": []
          }
        }
      ]
    },
    {
      "cell_type": "markdown",
      "metadata": {
        "id": "unKFT619lk3e",
        "colab_type": "text"
      },
      "source": [
        "## 1.2 Create a three-dimensional vector and plot it on a graph"
      ]
    },
    {
      "cell_type": "code",
      "metadata": {
        "id": "atUEd3T6llKm",
        "colab_type": "code",
        "colab": {
          "base_uri": "https://localhost:8080/",
          "height": 269
        },
        "outputId": "a14269b1-3765-4267-e910-20b4ca9f4536"
      },
      "source": [
        "red = [.7, .7]\n",
        "blue = [.3, .3]\n",
        "yellow = [.2, .4]\n",
        "\n",
        "plt.arrow(0, 0, .7, .7, head_width=.02, head_length=.01, color='r')\n",
        "plt.arrow(0, 0, .3, .2, head_width=.02, head_length=.01, color='b')\n",
        "plt.arrow(0, 0, .2, .4, head_width=.02, head_length=.01, color='y')\n",
        "\n",
        "plt.show()"
      ],
      "execution_count": 19,
      "outputs": [
        {
          "output_type": "display_data",
          "data": {
            "image/png": "[encoded data removed]",
            "text/plain": [
              "<Figure size 432x288 with 1 Axes>"
            ]
          },
          "metadata": {
            "tags": []
          }
        }
      ]
    },
    {
      "cell_type": "markdown",
      "metadata": {
        "id": "b7qFxbKxZmI2",
        "colab_type": "text"
      },
      "source": [
        "## 1.3 Scale the vectors you created in 1.1 by $5$, $\\pi$, and $-e$ and plot all four vectors (original + 3 scaled vectors) on a graph. What do you notice about these vectors? "
      ]
    },
    {
      "cell_type": "code",
      "metadata": {
        "id": "ah6zMSLJdJwL",
        "colab_type": "code",
        "outputId": "a9e35477-c094-41c1-a937-9de100eac836",
        "colab": {
          "base_uri": "https://localhost:8080/",
          "height": 51
        }
      },
      "source": [
        "from math import e, pi\n",
        "print(e)\n",
        "print(pi)"
      ],
      "execution_count": 10,
      "outputs": [
        {
          "output_type": "stream",
          "text": [
            "2.718281828459045\n",
            "3.141592653589793\n"
          ],
          "name": "stdout"
        }
      ]
    },
    {
      "cell_type": "code",
      "metadata": {
        "id": "3qpwDlzXkVf5",
        "colab_type": "code",
        "colab": {
          "base_uri": "https://localhost:8080/",
          "height": 281
        },
        "outputId": "f09ceb2b-b7fa-4398-b8b3-6c662fa92d05"
      },
      "source": [
        "red = [.7, .7]\n",
        "\n",
        "green = np.multiply(5, red)\n",
        "orange2 = np.multiply(pi, red)\n",
        "yellow2 = np.multiply(-e, red)\n",
        "\n",
        "plt.arrow(0,0, green[0], green[1],head_width=.05, head_length=0.05, color ='green')\n",
        "plt.arrow(0,0, orange2[0], orange2[1],head_width=.05, head_length=0.05, color ='orange')\n",
        "plt.arrow(0,0, yellow2[0], yellow2[1],head_width=.05, head_length=0.05, color ='yellow')\n",
        "plt.arrow(0,0, red[0], red[1],head_width=.05, head_length=0.05, color ='red')\n",
        "\n",
        "plt.xlim(-3,4)          \n",
        "plt.ylim(-3,4)\n",
        "plt.title(\"Scaled Vectors\")\n",
        "\n",
        "plt.show()"
      ],
      "execution_count": 16,
      "outputs": [
        {
          "output_type": "display_data",
          "data": {
            "image/png": "[encoded data removed]",
            "text/plain": [
              "<Figure size 432x288 with 1 Axes>"
            ]
          },
          "metadata": {
            "tags": []
          }
        }
      ]
    },
    {
      "cell_type": "code",
      "metadata": {
        "id": "Ky9MT5trsceg",
        "colab_type": "code",
        "colab": {
          "base_uri": "https://localhost:8080/",
          "height": 281
        },
        "outputId": "d260b0f2-88b1-418e-c542-6f0f67e03902"
      },
      "source": [
        "blue = [.3, .3]\n",
        "\n",
        "green2 = np.multiply(5, red)\n",
        "orange3 = np.multiply(pi, red)\n",
        "yellow3 = np.multiply(-e, red)\n",
        "\n",
        "plt.arrow(0,0, green2[0], green2[1],head_width=.05, head_length=0.05, color ='green')\n",
        "plt.arrow(0,0, orange3[0], orange3[1],head_width=.05, head_length=0.05, color ='orange')\n",
        "plt.arrow(0,0, yellow3[0], yellow3[1],head_width=.05, head_length=0.05, color ='yellow')\n",
        "plt.arrow(0,0, blue[0], blue[1],head_width=.05, head_length=0.05, color ='blue')\n",
        "\n",
        "plt.xlim(-2,4)          \n",
        "plt.ylim(-2,4)\n",
        "plt.title(\"Scaled Vectors\")\n",
        "\n",
        "plt.show()"
      ],
      "execution_count": 20,
      "outputs": [
        {
          "output_type": "display_data",
          "data": {
            "image/png": "[encoded data removed]",
            "text/plain": [
              "<Figure size 432x288 with 1 Axes>"
            ]
          },
          "metadata": {
            "tags": []
          }
        }
      ]
    },
    {
      "cell_type": "markdown",
      "metadata": {
        "id": "wrgqa6sWimbH",
        "colab_type": "text"
      },
      "source": [
        "## 1.4 Graph vectors $\\vec{a}$ and $\\vec{b}$ and plot them on a graph\n",
        "\n",
        "\\begin{align}\n",
        "\\vec{a} = \\begin{bmatrix} 5 \\\\ 7 \\end{bmatrix}\n",
        "\\qquad\n",
        "\\vec{b} = \\begin{bmatrix} 3 \\\\4 \\end{bmatrix}\n",
        "\\end{align}"
      ]
    },
    {
      "cell_type": "code",
      "metadata": {
        "id": "I1BGXA_skV-b",
        "colab_type": "code",
        "colab": {
          "base_uri": "https://localhost:8080/",
          "height": 269
        },
        "outputId": "d14fd18f-78c5-48d7-b52e-1142a79b9092"
      },
      "source": [
        "a = [5, 7]\n",
        "b = [3, 4]\n",
        "\n",
        "plt.arrow(0, 0, a[0], a[1], head_width=.05, head_length=.05, color='r')\n",
        "plt.arrow(0, 0, b[0], b[1], head_width=.05, head_length=.05, color='b')\n",
        "\n",
        "plt.xlim(0, 6)\n",
        "plt.ylim(0, 8)\n",
        "\n",
        "plt.show()"
      ],
      "execution_count": 27,
      "outputs": [
        {
          "output_type": "display_data",
          "data": {
            "image/png": "[encoded data removed]",
            "text/plain": [
              "<Figure size 432x288 with 1 Axes>"
            ]
          },
          "metadata": {
            "tags": []
          }
        }
      ]
    },
    {
      "cell_type": "markdown",
      "metadata": {
        "id": "QN6RU_3gizpw",
        "colab_type": "text"
      },
      "source": [
        "## 1.5 find $\\vec{a} - \\vec{b}$ and plot the result on the same graph as $\\vec{a}$ and $\\vec{b}$. Is there a relationship between vectors $\\vec{a} \\thinspace, \\vec{b} \\thinspace \\text{and} \\thinspace \\vec{a-b}$"
      ]
    },
    {
      "cell_type": "code",
      "metadata": {
        "id": "68sWHIOPkXp5",
        "colab_type": "code",
        "colab": {
          "base_uri": "https://localhost:8080/",
          "height": 34
        },
        "outputId": "35fcd0f9-5f65-49e1-dd11-218fd65b4a15"
      },
      "source": [
        "# Making vectors a and b arrays\n",
        "a_np = np.array(a)\n",
        "b_np = np.array(b)\n",
        "\n",
        "a_minus_b = a_np - b_np\n",
        "a_minus_b"
      ],
      "execution_count": 30,
      "outputs": [
        {
          "output_type": "execute_result",
          "data": {
            "text/plain": [
              "array([2, 3])"
            ]
          },
          "metadata": {
            "tags": []
          },
          "execution_count": 30
        }
      ]
    },
    {
      "cell_type": "code",
      "metadata": {
        "id": "ZWDgs-6Hxds2",
        "colab_type": "code",
        "colab": {
          "base_uri": "https://localhost:8080/",
          "height": 269
        },
        "outputId": "942e3010-f3d9-401f-ecb1-20556f5091b7"
      },
      "source": [
        "a = [5, 7]\n",
        "b = [3, 4]\n",
        "\n",
        "plt.arrow(0, 0, a[0], a[1], head_width=.05, head_length=.05, color='r')\n",
        "plt.arrow(0, 0, b[0], b[1], head_width=.05, head_length=.05, color='b')\n",
        "plt.arrow(0, 0, a_minus_b[0], a_minus_b[1], head_width=.05, head_length=.05, color='y')\n",
        "\n",
        "plt.xlim(0, 6)\n",
        "plt.ylim(0, 8)\n",
        "\n",
        "plt.show()"
      ],
      "execution_count": 31,
      "outputs": [
        {
          "output_type": "display_data",
          "data": {
            "image/png": "[encoded data removed]",
            "text/plain": [
              "<Figure size 432x288 with 1 Axes>"
            ]
          },
          "metadata": {
            "tags": []
          }
        }
      ]
    },
    {
      "cell_type": "markdown",
      "metadata": {
        "id": "1ZPVuJAlehu_",
        "colab_type": "text"
      },
      "source": [
        "## 1.6 Find $c \\cdot d$\n",
        "\n",
        "\\begin{align}\n",
        "\\vec{c} = \\begin{bmatrix}7 & 22 & 4 & 16\\end{bmatrix}\n",
        "\\qquad\n",
        "\\vec{d} = \\begin{bmatrix}12 & 6 & 2 & 9\\end{bmatrix}\n",
        "\\end{align}\n"
      ]
    },
    {
      "cell_type": "code",
      "metadata": {
        "id": "2_cZQFCskYNr",
        "colab_type": "code",
        "colab": {
          "base_uri": "https://localhost:8080/",
          "height": 34
        },
        "outputId": "7a65fc4f-ab0b-4bc8-e39c-59545e2de73a"
      },
      "source": [
        "# Making vectors c and d arrays\n",
        "c_np = np.array([7, 22, 4, 16])\n",
        "d_np = np.array([12, 6, 2, 9])\n",
        "\n",
        "c_np * d_np"
      ],
      "execution_count": 37,
      "outputs": [
        {
          "output_type": "execute_result",
          "data": {
            "text/plain": [
              "array([ 84, 132,   8, 144])"
            ]
          },
          "metadata": {
            "tags": []
          },
          "execution_count": 37
        }
      ]
    },
    {
      "cell_type": "markdown",
      "metadata": {
        "id": "cLm8yokpfg9B",
        "colab_type": "text"
      },
      "source": [
        "##  1.7 Find $e \\times f$\n",
        "\n",
        "\\begin{align}\n",
        "\\vec{e} = \\begin{bmatrix} 5 \\\\ 7 \\\\ 2 \\end{bmatrix}\n",
        "\\qquad\n",
        "\\vec{f} = \\begin{bmatrix} 3 \\\\4 \\\\ 6 \\end{bmatrix}\n",
        "\\end{align}"
      ]
    },
    {
      "cell_type": "code",
      "metadata": {
        "id": "ku-TdCKAkYs8",
        "colab_type": "code",
        "colab": {
          "base_uri": "https://localhost:8080/",
          "height": 34
        },
        "outputId": "dc308193-22f2-48d5-d4bd-36630252375d"
      },
      "source": [
        "# Making vectors e and f arrays\n",
        "e_np = np.array([5, 7, 2])\n",
        "f_np = np.array([3, 4, 6])\n",
        "\n",
        "# Finding cross product of vectors e and f\n",
        "print('Cross product:', np.cross(e_np, f_np))"
      ],
      "execution_count": 41,
      "outputs": [
        {
          "output_type": "stream",
          "text": [
            "Cross product: [ 34 -24  -1]\n"
          ],
          "name": "stdout"
        }
      ]
    },
    {
      "cell_type": "markdown",
      "metadata": {
        "id": "-TN8wO2-h53s",
        "colab_type": "text"
      },
      "source": [
        "## 1.8 Find $||g||$ and then find $||h||$. Which is longer?\n",
        "\n",
        "\\begin{align}\n",
        "\\vec{g} = \\begin{bmatrix} 1 \\\\ 1 \\\\ 1 \\\\ 8 \\end{bmatrix}\n",
        "\\qquad\n",
        "\\vec{h} = \\begin{bmatrix} 3 \\\\3 \\\\ 3 \\\\ 3 \\end{bmatrix}\n",
        "\\end{align}"
      ]
    },
    {
      "cell_type": "code",
      "metadata": {
        "id": "-5VKOMKBlgaA",
        "colab_type": "code",
        "colab": {
          "base_uri": "https://localhost:8080/",
          "height": 51
        },
        "outputId": "5c69c8c5-a6f9-4adc-cfa8-96fa3a1e3c8a"
      },
      "source": [
        "# Making G and H arrays\n",
        "g_np = np.array([1, 1, 1, 8])\n",
        "h_np = np.array([3, 3, 3, 3])\n",
        "\n",
        "# Finding norms of g and h vectors\n",
        "print('vector g norm:', np.linalg.norm(g_np))\n",
        "print('vector h norm:', np.linalg.norm(h_np))"
      ],
      "execution_count": 40,
      "outputs": [
        {
          "output_type": "stream",
          "text": [
            "vector g norm: 8.18535277187245\n",
            "vector h norm: 6.0\n"
          ],
          "name": "stdout"
        }
      ]
    },
    {
      "cell_type": "markdown",
      "metadata": {
        "id": "njrWIMS-ZAoH",
        "colab_type": "text"
      },
      "source": [
        "# Part 2 - Matrices"
      ]
    },
    {
      "cell_type": "markdown",
      "metadata": {
        "id": "GjkcAVIOmOnn",
        "colab_type": "text"
      },
      "source": [
        "## 2.1 What are the dimensions of the following matrices? Which of the following can be multiplied together? See if you can find all of the different legal combinations.\n",
        "\\begin{align}\n",
        "A = \\begin{bmatrix}\n",
        "1 & 2 \\\\\n",
        "3 & 4 \\\\\n",
        "5 & 6\n",
        "\\end{bmatrix}\n",
        "\\qquad\n",
        "B = \\begin{bmatrix}\n",
        "2 & 4 & 6 \\\\\n",
        "\\end{bmatrix}\n",
        "\\qquad\n",
        "C = \\begin{bmatrix}\n",
        "9 & 6 & 3 \\\\\n",
        "4 & 7 & 11\n",
        "\\end{bmatrix}\n",
        "\\qquad\n",
        "D = \\begin{bmatrix}\n",
        "1 & 0 & 0 \\\\\n",
        "0 & 1 & 0 \\\\\n",
        "0 & 0 & 1\n",
        "\\end{bmatrix}\n",
        "\\qquad\n",
        "E = \\begin{bmatrix}\n",
        "1 & 3 \\\\\n",
        "5 & 7\n",
        "\\end{bmatrix}\n",
        "\\end{align}"
      ]
    },
    {
      "cell_type": "code",
      "metadata": {
        "id": "Z69c-uPtnbIx",
        "colab_type": "code",
        "colab": {
          "base_uri": "https://localhost:8080/",
          "height": 102
        },
        "outputId": "76e7870d-84c8-4f3d-f325-ea5af2811328"
      },
      "source": [
        "# Making all matrices arrays\n",
        "a_m_np = np.array([[1, 2],[3, 4],[5, 6]]) \n",
        "b_m_np = np.array([2, 4, 6])\n",
        "c_m_np = np.array([[9, 6, 3],[4, 7, 11]])\n",
        "d_m_np = np.array([[1, 0, 0],[0, 1, 0],[0, 0, 1]])\n",
        "e_m_np = np.array([[1, 3], [5, 7]])\n",
        "\n",
        "# Finding dimensions of all matrices\n",
        "print('Matrix A dimensions:',a_m_np.shape)\n",
        "print('Matrix B dimensions:',b_m_np.shape)\n",
        "print('Matrix C dimensions:',c_m_np.shape)\n",
        "print('Matrix D dimensions:',d_m_np.shape)\n",
        "print('Matrix E dimensions:',e_m_np.shape)"
      ],
      "execution_count": 71,
      "outputs": [
        {
          "output_type": "stream",
          "text": [
            "Matrix A dimensions: (3, 2)\n",
            "Matrix B dimensions: (3,)\n",
            "Matrix C dimensions: (2, 3)\n",
            "Matrix D dimensions: (3, 3)\n",
            "Matrix E dimensions: (2, 2)\n"
          ],
          "name": "stdout"
        }
      ]
    },
    {
      "cell_type": "code",
      "metadata": {
        "id": "-KJswUVM8m5E",
        "colab_type": "code",
        "colab": {
          "base_uri": "https://localhost:8080/",
          "height": 306
        },
        "outputId": "b1c8fff3-b02c-4191-c079-2f7e3b5de322"
      },
      "source": [
        "# All possible legal combinations\n",
        "print('Matrix AC:', np.matmul(a_m_np, c_m_np))\n",
        "print('Matrix AE:', np.matmul(a_m_np, e_m_np))\n",
        "print('Matrix BA:', np.matmul(b_m_np, a_m_np))\n",
        "print('Matrix BD:', np.matmul(b_m_np, d_m_np))\n",
        "print('Matrix CD:', np.matmul(c_m_np, d_m_np))\n",
        "print('Matrix CA:', np.matmul(c_m_np, a_m_np))\n",
        "print('Matrix DA:', np.matmul(d_m_np, a_m_np))\n",
        "print('Matrix EC:', np.matmul(e_m_np, c_m_np))"
      ],
      "execution_count": 72,
      "outputs": [
        {
          "output_type": "stream",
          "text": [
            "Matrix AC: [[17 20 25]\n",
            " [43 46 53]\n",
            " [69 72 81]]\n",
            "Matrix AE: [[11 17]\n",
            " [23 37]\n",
            " [35 57]]\n",
            "Matrix BA: [44 56]\n",
            "Matrix BD: [2 4 6]\n",
            "Matrix CD: [[ 9  6  3]\n",
            " [ 4  7 11]]\n",
            "Matrix CA: [[ 42  60]\n",
            " [ 80 102]]\n",
            "Matrix DA: [[1 2]\n",
            " [3 4]\n",
            " [5 6]]\n",
            "Matrix EC: [[21 27 36]\n",
            " [73 79 92]]\n"
          ],
          "name": "stdout"
        }
      ]
    },
    {
      "cell_type": "markdown",
      "metadata": {
        "id": "lMOlCoM3ncGa",
        "colab_type": "text"
      },
      "source": [
        "## 2.2 Find the following products: CD, AE, and BA. What are the dimensions of the resulting matrices? How does that relate to the dimensions of their factor matrices?"
      ]
    },
    {
      "cell_type": "code",
      "metadata": {
        "id": "zhKwiSItoE2F",
        "colab_type": "code",
        "colab": {
          "base_uri": "https://localhost:8080/",
          "height": 68
        },
        "outputId": "77354bf5-c741-469d-c6bd-7e51c677a727"
      },
      "source": [
        "# Multiplying matrices\n",
        "CD = np.matmul(c_m_np, d_m_np)\n",
        "AE = np.matmul(a_m_np, e_m_np)\n",
        "BA = np.matmul(b_m_np, a_m_np)\n",
        "\n",
        "#Finding dimensions of matrices\n",
        "print('CD dimension:', CD.shape)\n",
        "print('AE dimension:', AE.shape)\n",
        "print('BA dimension:', BA.shape)"
      ],
      "execution_count": 67,
      "outputs": [
        {
          "output_type": "stream",
          "text": [
            "CD dimension: (2, 3)\n",
            "AE dimension: (3, 2)\n",
            "BA dimension: (2,)\n"
          ],
          "name": "stdout"
        }
      ]
    },
    {
      "cell_type": "markdown",
      "metadata": {
        "id": "p2jmaGLgoFPN",
        "colab_type": "text"
      },
      "source": [
        "## 2.3  Find $F^{T}$. How are the numbers along the main diagonal (top left to bottom right) of the original matrix and its transpose related? What are the dimensions of $F$? What are the dimensions of $F^{T}$?\n",
        "\n",
        "\\begin{align}\n",
        "F = \n",
        "\\begin{bmatrix}\n",
        "20 & 19 & 18 & 17 \\\\\n",
        "16 & 15 & 14 & 13 \\\\\n",
        "12 & 11 & 10 & 9 \\\\\n",
        "8 & 7 & 6 & 5 \\\\\n",
        "4 & 3 & 2 & 1\n",
        "\\end{bmatrix}\n",
        "\\end{align}"
      ]
    },
    {
      "cell_type": "code",
      "metadata": {
        "id": "Wl3ElwgLqaAn",
        "colab_type": "code",
        "colab": {}
      },
      "source": [
        "# Making F to array\n",
        "f_m_np = np.array([[20, 19, 18, 17],\n",
        "           [16, 15, 14, 13],\n",
        "           [12, 11, 10, 9],\n",
        "           [8, 7, 6, 5],\n",
        "           [4, 3, 2, 1]])"
      ],
      "execution_count": 0,
      "outputs": []
    },
    {
      "cell_type": "code",
      "metadata": {
        "id": "VLvqTHskCTSA",
        "colab_type": "code",
        "colab": {
          "base_uri": "https://localhost:8080/",
          "height": 85
        },
        "outputId": "60289098-1fbd-40b4-fa4b-c3d4e96f3cdf"
      },
      "source": [
        "# Transposing F\n",
        "print('F transposed:', f_m_np.T)"
      ],
      "execution_count": 75,
      "outputs": [
        {
          "output_type": "stream",
          "text": [
            "F transposed: [[20 16 12  8  4]\n",
            " [19 15 11  7  3]\n",
            " [18 14 10  6  2]\n",
            " [17 13  9  5  1]]\n"
          ],
          "name": "stdout"
        }
      ]
    },
    {
      "cell_type": "code",
      "metadata": {
        "id": "ZLYrinNOC3EM",
        "colab_type": "code",
        "colab": {
          "base_uri": "https://localhost:8080/",
          "height": 34
        },
        "outputId": "61e4eb8c-1902-4dab-977c-a6f512e3249c"
      },
      "source": [
        "# Finding F dimensions\n",
        "print('F dimensions:', f_m_np.shape)"
      ],
      "execution_count": 76,
      "outputs": [
        {
          "output_type": "stream",
          "text": [
            "F dimensions: (5, 4)\n"
          ],
          "name": "stdout"
        }
      ]
    },
    {
      "cell_type": "code",
      "metadata": {
        "id": "ZDJ1ec6qDKkz",
        "colab_type": "code",
        "colab": {
          "base_uri": "https://localhost:8080/",
          "height": 34
        },
        "outputId": "a8301236-26b5-4ca2-de5d-ac76cee091dc"
      },
      "source": [
        "# Finding F transposed dimensions\n",
        "print('F transposed dimensions:', f_m_np.T.shape)"
      ],
      "execution_count": 78,
      "outputs": [
        {
          "output_type": "stream",
          "text": [
            "F transposed dimensions: (4, 5)\n"
          ],
          "name": "stdout"
        }
      ]
    },
    {
      "cell_type": "markdown",
      "metadata": {
        "id": "13ik2LEEZLHn",
        "colab_type": "text"
      },
      "source": [
        "# Part 3 - Square Matrices"
      ]
    },
    {
      "cell_type": "markdown",
      "metadata": {
        "id": "sDBAPUwfp7f7",
        "colab_type": "text"
      },
      "source": [
        "## 3.1 Find $IG$ (be sure to show your work) 😃\n",
        "\n",
        "You don't have to do anything crazy complicated here to show your work, just create the G matrix as specified below, and a corresponding 2x2 Identity matrix and then multiply them together to show the result. You don't need to write LaTeX or anything like that (unless you want to).\n",
        "\n",
        "\\begin{align}\n",
        "G= \n",
        "\\begin{bmatrix}\n",
        "13 & 14 \\\\\n",
        "21 & 12 \n",
        "\\end{bmatrix}\n",
        "\\end{align}"
      ]
    },
    {
      "cell_type": "code",
      "metadata": {
        "id": "ZnqvZBOYqar3",
        "colab_type": "code",
        "colab": {
          "base_uri": "https://localhost:8080/",
          "height": 51
        },
        "outputId": "6fc91abe-006c-4d4d-ae61-f3c6fdc29e53"
      },
      "source": [
        "# Making G matrix into array\n",
        "g_m_np = np.array([[13, 14], [21, 12]])\n",
        "\n",
        "# Making corresponding 2x2 identity matrix\n",
        "g_i_m_np = np.array([[1, 0], [0, 1]])\n",
        "\n",
        "# Finding identity matrix for G\n",
        "np.matmul(g_m_np, g_i_m_np)"
      ],
      "execution_count": 83,
      "outputs": [
        {
          "output_type": "execute_result",
          "data": {
            "text/plain": [
              "array([[13, 14],\n",
              "       [21, 12]])"
            ]
          },
          "metadata": {
            "tags": []
          },
          "execution_count": 83
        }
      ]
    },
    {
      "cell_type": "markdown",
      "metadata": {
        "id": "DZ_0XTDQqpMT",
        "colab_type": "text"
      },
      "source": [
        "## 3.2 Find $|H|$ and then find $|J|$.\n",
        "\n",
        "\\begin{align}\n",
        "H= \n",
        "\\begin{bmatrix}\n",
        "12 & 11 \\\\\n",
        "7 & 10 \n",
        "\\end{bmatrix}\n",
        "\\qquad\n",
        "J= \n",
        "\\begin{bmatrix}\n",
        "0 & 1 & 2 \\\\\n",
        "7 & 10 & 4 \\\\\n",
        "3 & 2 & 0\n",
        "\\end{bmatrix}\n",
        "\\end{align}\n"
      ]
    },
    {
      "cell_type": "code",
      "metadata": {
        "id": "5QShhoXyrjDS",
        "colab_type": "code",
        "colab": {
          "base_uri": "https://localhost:8080/",
          "height": 51
        },
        "outputId": "c7598b6c-22db-408e-aad1-2abdd2fd1c5d"
      },
      "source": [
        "# Making H and J arrays\n",
        "h_m_np = np.array([[12, 11], [7, 10]])\n",
        "j_m_np = np.array([[0, 1, 2], [7, 10 ,4], [3, 2, 0]])\n",
        "\n",
        "# Finding determinants of H and J matrices\n",
        "print('Determinant H:', np.linalg.det(h_m_np))\n",
        "print('Determinant J:', np.linalg.det(j_m_np))"
      ],
      "execution_count": 85,
      "outputs": [
        {
          "output_type": "stream",
          "text": [
            "Determinant H: 43.000000000000014\n",
            "Determinant J: -19.999999999999996\n"
          ],
          "name": "stdout"
        }
      ]
    },
    {
      "cell_type": "markdown",
      "metadata": {
        "id": "2gZl1CFwrXSH",
        "colab_type": "text"
      },
      "source": [
        "## 3.3 Find $H^{-1}$ and then find $J^{-1}$"
      ]
    },
    {
      "cell_type": "code",
      "metadata": {
        "id": "nyX6De2-rio1",
        "colab_type": "code",
        "colab": {
          "base_uri": "https://localhost:8080/",
          "height": 102
        },
        "outputId": "81978a5a-d99c-46af-eab7-56ec972fe06f"
      },
      "source": [
        "# Finding inverses of H and J matrices\n",
        "print('Inverse of H:', np.linalg.inv(h_m_np))\n",
        "print('Inverse of J:', np.linalg.inv(j_m_np))"
      ],
      "execution_count": 86,
      "outputs": [
        {
          "output_type": "stream",
          "text": [
            "Inverse of H: [[ 0.23255814 -0.25581395]\n",
            " [-0.1627907   0.27906977]]\n",
            "Inverse of J: [[ 0.4  -0.2   0.8 ]\n",
            " [-0.6   0.3  -0.7 ]\n",
            " [ 0.8  -0.15  0.35]]\n"
          ],
          "name": "stdout"
        }
      ]
    },
    {
      "cell_type": "markdown",
      "metadata": {
        "id": "Vvd4Pe86rjhW",
        "colab_type": "text"
      },
      "source": [
        "## 3.4 Find $HH^{-1}$ and then find $J^{-1}J$. Is $HH^{-1} == J^{-1}J$? Why or Why not? \n",
        "\n",
        "Please ignore Python rounding errors. If necessary, format your output so that it rounds to 5 significant digits (the fifth decimal place)."
      ]
    },
    {
      "cell_type": "code",
      "metadata": {
        "id": "xLWxIzfx0Jwn",
        "colab_type": "code",
        "colab": {
          "base_uri": "https://localhost:8080/",
          "height": 51
        },
        "outputId": "55ca3bf1-427e-406d-cd78-d61bcc5a1e87"
      },
      "source": [
        "# Finding matrix H times the inverse of matrix H\n",
        "h_m_np * np.linalg.inv(h_m_np)"
      ],
      "execution_count": 87,
      "outputs": [
        {
          "output_type": "execute_result",
          "data": {
            "text/plain": [
              "array([[ 2.79069767, -2.81395349],\n",
              "       [-1.13953488,  2.79069767]])"
            ]
          },
          "metadata": {
            "tags": []
          },
          "execution_count": 87
        }
      ]
    },
    {
      "cell_type": "code",
      "metadata": {
        "id": "rmfYon7i1DwD",
        "colab_type": "code",
        "colab": {
          "base_uri": "https://localhost:8080/",
          "height": 68
        },
        "outputId": "60a12a68-8230-496c-f88c-f787da648bf5"
      },
      "source": [
        "# Finding matrix J times the inverse of matrix J\n",
        "np.linalg.inv(j_m_np) * j_m_np"
      ],
      "execution_count": 89,
      "outputs": [
        {
          "output_type": "execute_result",
          "data": {
            "text/plain": [
              "array([[ 0. , -0.2,  1.6],\n",
              "       [-4.2,  3. , -2.8],\n",
              "       [ 2.4, -0.3,  0. ]])"
            ]
          },
          "metadata": {
            "tags": []
          },
          "execution_count": 89
        }
      ]
    },
    {
      "cell_type": "markdown",
      "metadata": {
        "id": "V0iTO4McYjtk",
        "colab_type": "text"
      },
      "source": [
        "# Stretch Goals: \n",
        "\n",
        "A reminder that these challenges are optional. If you finish your work quickly we welcome you to work on them. If there are other activities that you feel like will help your understanding of the above topics more, feel free to work on that. Topics from the Stretch Goals sections will never end up on Sprint Challenges. You don't have to do these in order, you don't have to do all of them. \n",
        "\n",
        "- Write a function that can calculate the dot product of any two vectors of equal length that are passed to it.\n",
        "- Write a function that can calculate the norm of any vector\n",
        "- Prove to yourself again that the vectors in 1.9 are orthogonal by graphing them. \n",
        "- Research how to plot a 3d graph with animations so that you can make the graph rotate (this will be easier in a local notebook than in google colab)\n",
        "- Create and plot a matrix on a 2d graph.\n",
        "- Create and plot a matrix on a 3d graph.\n",
        "- Plot two vectors that are not collinear on a 2d graph. Calculate the determinant of the 2x2 matrix that these vectors form. How does this determinant relate to the graphical interpretation of the vectors?\n",
        "\n"
      ]
    }
  ]
}