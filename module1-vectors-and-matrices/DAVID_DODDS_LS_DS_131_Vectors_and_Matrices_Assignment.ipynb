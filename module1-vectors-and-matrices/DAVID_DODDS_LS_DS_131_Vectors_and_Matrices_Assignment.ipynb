{
  "nbformat": 4,
  "nbformat_minor": 0,
  "metadata": {
    "colab": {
      "name": "DAVID_DODDS_LS_DS_131_Vectors_and_Matrices_Assignment.ipynb",
      "provenance": [],
      "collapsed_sections": [],
      "include_colab_link": true
    },
    "kernelspec": {
      "name": "python3",
      "display_name": "Python 3"
    }
  },
  "cells": [
    {
      "cell_type": "markdown",
      "metadata": {
        "id": "view-in-github",
        "colab_type": "text"
      },
      "source": [
        "<a href=\"https://colab.research.google.com/github/ddodds42/DS-Unit-1-Sprint-3-Linear-Algebra/blob/master/module1-vectors-and-matrices/DAVID_DODDS_LS_DS_131_Vectors_and_Matrices_Assignment.ipynb\" target=\"_parent\"><img src=\"https://colab.research.google.com/assets/colab-badge.svg\" alt=\"Open In Colab\"/></a>"
      ]
    },
    {
      "cell_type": "markdown",
      "metadata": {
        "id": "yXA3GwWhY9KL",
        "colab_type": "text"
      },
      "source": [
        "# Part 1 - Scalars and Vectors\n",
        "\n",
        "For the questions below it is not sufficient to simply provide answer to the questions, but you must solve the problems and show your work using python (the NumPy library will help a lot!) Translate the vectors and matrices into their appropriate python  representations and use numpy or functions that you write yourself to demonstrate the result or property. "
      ]
    },
    {
      "cell_type": "markdown",
      "metadata": {
        "id": "oNOTv43_Zi9L",
        "colab_type": "text"
      },
      "source": [
        "## 1.1 Create a two-dimensional vector and plot it on a graph"
      ]
    },
    {
      "cell_type": "code",
      "metadata": {
        "id": "XNqjzQzrkVG7",
        "colab_type": "code",
        "colab": {}
      },
      "source": [
        "import numpy as np\n",
        "import matplotlib.pyplot as plt"
      ],
      "execution_count": 0,
      "outputs": []
    },
    {
      "cell_type": "code",
      "metadata": {
        "id": "-tSTUQVdl181",
        "colab_type": "code",
        "colab": {
          "base_uri": "https://localhost:8080/",
          "height": 52
        },
        "outputId": "f118ea07-ba11-4723-f398-2531331935eb"
      },
      "source": [
        "v2 = np.array([[0.8],\n",
        "               [0.4]])\n",
        "v2"
      ],
      "execution_count": 10,
      "outputs": [
        {
          "output_type": "execute_result",
          "data": {
            "text/plain": [
              "array([[0.8],\n",
              "       [0.4]])"
            ]
          },
          "metadata": {
            "tags": []
          },
          "execution_count": 10
        }
      ]
    },
    {
      "cell_type": "code",
      "metadata": {
        "id": "NUmiJtIxmNjb",
        "colab_type": "code",
        "colab": {
          "base_uri": "https://localhost:8080/",
          "height": 35
        },
        "outputId": "9d21ffac-5cdc-4ca8-e75f-f54b1fa9fac2"
      },
      "source": [
        "v2.shape"
      ],
      "execution_count": 3,
      "outputs": [
        {
          "output_type": "execute_result",
          "data": {
            "text/plain": [
              "(2, 1)"
            ]
          },
          "metadata": {
            "tags": []
          },
          "execution_count": 3
        }
      ]
    },
    {
      "cell_type": "code",
      "metadata": {
        "id": "6hbJZJVtmYbp",
        "colab_type": "code",
        "colab": {
          "base_uri": "https://localhost:8080/",
          "height": 269
        },
        "outputId": "144b6f60-28de-46d8-e4ce-30452cf799e4"
      },
      "source": [
        "plt.arrow(0,0,0.8,0.4, head_width=0.05, head_length=0.05);"
      ],
      "execution_count": 12,
      "outputs": [
        {
          "output_type": "display_data",
          "data": {
            "image/png": "[encoded data removed]",
            "text/plain": [
              "<Figure size 432x288 with 1 Axes>"
            ]
          },
          "metadata": {
            "tags": []
          }
        }
      ]
    },
    {
      "cell_type": "markdown",
      "metadata": {
        "id": "unKFT619lk3e",
        "colab_type": "text"
      },
      "source": [
        "## 1.2 Create a three-dimensional vecor and plot it on a graph"
      ]
    },
    {
      "cell_type": "code",
      "metadata": {
        "id": "atUEd3T6llKm",
        "colab_type": "code",
        "colab": {
          "base_uri": "https://localhost:8080/",
          "height": 70
        },
        "outputId": "4cbe538a-bdfc-4c18-aa54-ab6825857141"
      },
      "source": [
        "v3 = np.array([[np.random.rand()],\n",
        "               [np.random.rand()],\n",
        "               [np.random.rand()]])\n",
        "v3"
      ],
      "execution_count": 26,
      "outputs": [
        {
          "output_type": "execute_result",
          "data": {
            "text/plain": [
              "array([[0.67670051],\n",
              "       [0.83579722],\n",
              "       [0.94564913]])"
            ]
          },
          "metadata": {
            "tags": []
          },
          "execution_count": 26
        }
      ]
    },
    {
      "cell_type": "code",
      "metadata": {
        "id": "-Jr_WqvJszcB",
        "colab_type": "code",
        "colab": {
          "base_uri": "https://localhost:8080/",
          "height": 52
        },
        "outputId": "3db15f96-013b-44c8-a6ec-c6d1c900a4e8"
      },
      "source": [
        "vector = np.array([0,0,0,v3[0][0],v3[1][0],v3[2][0]])\n",
        "vector"
      ],
      "execution_count": 28,
      "outputs": [
        {
          "output_type": "execute_result",
          "data": {
            "text/plain": [
              "array([0.        , 0.        , 0.        , 0.67670051, 0.83579722,\n",
              "       0.94564913])"
            ]
          },
          "metadata": {
            "tags": []
          },
          "execution_count": 28
        }
      ]
    },
    {
      "cell_type": "code",
      "metadata": {
        "id": "XddYYqparxZw",
        "colab_type": "code",
        "colab": {
          "base_uri": "https://localhost:8080/",
          "height": 248
        },
        "outputId": "48b61462-54b0-4b3d-e82e-062d398d675d"
      },
      "source": [
        "from mpl_toolkits.mplot3d import Axes3D\n",
        "\n",
        "X, Y, Z, U, V, W = zip(vector)\n",
        "fig = plt.figure()\n",
        "ax = fig.add_subplot(111, projection='3d')\n",
        "ax.quiver(X, Y, Z, U, V, W, length=1)\n",
        "ax.set_xlim([0, 1])\n",
        "ax.set_ylim([0, 1])\n",
        "ax.set_zlim([0, 1])\n",
        "ax.set_xlabel('X')\n",
        "ax.set_ylabel('Y')\n",
        "ax.set_zlabel('Z')\n",
        "plt.show()"
      ],
      "execution_count": 31,
      "outputs": [
        {
          "output_type": "display_data",
          "data": {
            "image/png": "[encoded data removed]",
            "text/plain": [
              "<Figure size 432x288 with 1 Axes>"
            ]
          },
          "metadata": {
            "tags": []
          }
        }
      ]
    },
    {
      "cell_type": "markdown",
      "metadata": {
        "id": "b7qFxbKxZmI2",
        "colab_type": "text"
      },
      "source": [
        "## 1.3 Scale the vectors you created in 1.1 by $5$, $\\pi$, and $-e$ and plot all four vectors (original + 3 scaled vectors) on a graph. What do you notice about these vectors? "
      ]
    },
    {
      "cell_type": "code",
      "metadata": {
        "id": "ah6zMSLJdJwL",
        "colab_type": "code",
        "outputId": "bea9048b-8fca-421c-d757-5c1d9ee1371e",
        "colab": {
          "base_uri": "https://localhost:8080/",
          "height": 52
        }
      },
      "source": [
        "from math import e, pi\n",
        "print(e)\n",
        "print(pi)"
      ],
      "execution_count": 32,
      "outputs": [
        {
          "output_type": "stream",
          "text": [
            "2.718281828459045\n",
            "3.141592653589793\n"
          ],
          "name": "stdout"
        }
      ]
    },
    {
      "cell_type": "code",
      "metadata": {
        "id": "RRtDtS2fwpNY",
        "colab_type": "code",
        "colab": {
          "base_uri": "https://localhost:8080/",
          "height": 195
        },
        "outputId": "d26d1d14-0167-4e72-c223-5b2a13ccb550"
      },
      "source": [
        "v2_5 = 5*v2\n",
        "v2_e = e*v2\n",
        "v2_pi = pi*v2\n",
        "print(v2_5)\n",
        "print('\\n')\n",
        "print(v2_e)\n",
        "print('\\n')\n",
        "print(v2_pi)"
      ],
      "execution_count": 50,
      "outputs": [
        {
          "output_type": "stream",
          "text": [
            "[[4.]\n",
            " [2.]]\n",
            "\n",
            "\n",
            "[[2.17462546]\n",
            " [1.08731273]]\n",
            "\n",
            "\n",
            "[[2.51327412]\n",
            " [1.25663706]]\n"
          ],
          "name": "stdout"
        }
      ]
    },
    {
      "cell_type": "code",
      "metadata": {
        "id": "3qpwDlzXkVf5",
        "colab_type": "code",
        "colab": {
          "base_uri": "https://localhost:8080/",
          "height": 281
        },
        "outputId": "c9c1bdc0-9844-447e-9290-e44362ca4d85"
      },
      "source": [
        "plt.arrow(0,0,4,2, head_width=0.05, head_length=0.05, color = 'y')\n",
        "plt.arrow(0,0,0.8,0.4, head_width=0.05, head_length=0.05, color = 'r')\n",
        "plt.title('v2 scaled by 5')\n",
        "plt.axis([0, 5, 0, 5]);"
      ],
      "execution_count": 43,
      "outputs": [
        {
          "output_type": "display_data",
          "data": {
            "image/png": "[encoded data removed]",
            "text/plain": [
              "<Figure size 432x288 with 1 Axes>"
            ]
          },
          "metadata": {
            "tags": []
          }
        }
      ]
    },
    {
      "cell_type": "code",
      "metadata": {
        "id": "KwvNJnxX0xRB",
        "colab_type": "code",
        "colab": {
          "base_uri": "https://localhost:8080/",
          "height": 281
        },
        "outputId": "a7e45e55-a538-4f67-9bd8-33ba21d4463a"
      },
      "source": [
        "plt.arrow(0,0,v2_e[0][0],v2_e[1][0], head_width=0.05, head_length=0.05, color = 'y')\n",
        "plt.arrow(0,0,0.8,0.4, head_width=0.05, head_length=0.05, color = 'r')\n",
        "plt.title('v2 scaled by e')\n",
        "plt.axis([0, 5, 0, 5]);"
      ],
      "execution_count": 51,
      "outputs": [
        {
          "output_type": "display_data",
          "data": {
            "image/png": "[encoded data removed]",
            "text/plain": [
              "<Figure size 432x288 with 1 Axes>"
            ]
          },
          "metadata": {
            "tags": []
          }
        }
      ]
    },
    {
      "cell_type": "code",
      "metadata": {
        "id": "TsJ5ZeLg11vL",
        "colab_type": "code",
        "colab": {
          "base_uri": "https://localhost:8080/",
          "height": 281
        },
        "outputId": "9adbce18-6e18-4b38-e211-e6c92f920ac1"
      },
      "source": [
        "plt.arrow(0,0,v2_pi[0][0],v2_pi[1][0], head_width=0.05, head_length=0.05, color = 'y')\n",
        "plt.arrow(0,0,0.8,0.4, head_width=0.05, head_length=0.05, color = 'r')\n",
        "plt.title('v2 scaled by pi')\n",
        "plt.axis([0, 5, 0, 5]);"
      ],
      "execution_count": 52,
      "outputs": [
        {
          "output_type": "display_data",
          "data": {
            "image/png": "[encoded data removed]",
            "text/plain": [
              "<Figure size 432x288 with 1 Axes>"
            ]
          },
          "metadata": {
            "tags": []
          }
        }
      ]
    },
    {
      "cell_type": "code",
      "metadata": {
        "id": "1lCv5BRw16TO",
        "colab_type": "code",
        "colab": {
          "base_uri": "https://localhost:8080/",
          "height": 248
        },
        "outputId": "f4bafb6d-a4cc-4e14-bc0c-b3e6616e4ef7"
      },
      "source": [
        "v3_5 = 5*v3\n",
        "v3_e = e*v3\n",
        "v3_pi = pi*v3\n",
        "print(v3_5)\n",
        "print('\\n')\n",
        "print(v3_e)\n",
        "print('\\n')\n",
        "print(v3_pi)"
      ],
      "execution_count": 53,
      "outputs": [
        {
          "output_type": "stream",
          "text": [
            "[[3.38350253]\n",
            " [4.17898608]\n",
            " [4.72824564]]\n",
            "\n",
            "\n",
            "[[1.83946269]\n",
            " [2.27193238]\n",
            " [2.57054084]]\n",
            "\n",
            "\n",
            "[[2.12591734]\n",
            " [2.62573439]\n",
            " [2.97084436]]\n"
          ],
          "name": "stdout"
        }
      ]
    },
    {
      "cell_type": "code",
      "metadata": {
        "id": "Rp-T2quB2ZOJ",
        "colab_type": "code",
        "colab": {
          "base_uri": "https://localhost:8080/",
          "height": 141
        },
        "outputId": "d6e12631-f6ac-41f2-89dc-18bd8a92967b"
      },
      "source": [
        "vector_5 = 5*vector\n",
        "vector_e = e*vector\n",
        "vector_pi = pi*vector\n",
        "print(vector_5)\n",
        "print('\\n')\n",
        "print(vector_e)\n",
        "print('\\n')\n",
        "print(vector_pi)"
      ],
      "execution_count": 54,
      "outputs": [
        {
          "output_type": "stream",
          "text": [
            "[0.         0.         0.         3.38350253 4.17898608 4.72824564]\n",
            "\n",
            "\n",
            "[0.         0.         0.         1.83946269 2.27193238 2.57054084]\n",
            "\n",
            "\n",
            "[0.         0.         0.         2.12591734 2.62573439 2.97084436]\n"
          ],
          "name": "stdout"
        }
      ]
    },
    {
      "cell_type": "code",
      "metadata": {
        "id": "tFMFhxxG3FRM",
        "colab_type": "code",
        "colab": {
          "base_uri": "https://localhost:8080/",
          "height": 195
        },
        "outputId": "1a1d1194-3378-4308-edaf-bd991750d61e"
      },
      "source": [
        "vectors_5 = np.array([vector, vector_5])\n",
        "vectors_e = np.array([vector, vector_e])\n",
        "vectors_pi = np.array([vector, vector_pi])\n",
        "print(vectors_5)\n",
        "print('\\n')\n",
        "print(vectors_e)\n",
        "print('\\n')\n",
        "print(vectors_pi)"
      ],
      "execution_count": 59,
      "outputs": [
        {
          "output_type": "stream",
          "text": [
            "[[0.         0.         0.         0.67670051 0.83579722 0.94564913]\n",
            " [0.         0.         0.         3.38350253 4.17898608 4.72824564]]\n",
            "\n",
            "\n",
            "[[0.         0.         0.         0.67670051 0.83579722 0.94564913]\n",
            " [0.         0.         0.         1.83946269 2.27193238 2.57054084]]\n",
            "\n",
            "\n",
            "[[0.         0.         0.         0.67670051 0.83579722 0.94564913]\n",
            " [0.         0.         0.         2.12591734 2.62573439 2.97084436]]\n"
          ],
          "name": "stdout"
        }
      ]
    },
    {
      "cell_type": "code",
      "metadata": {
        "id": "bAtqVEDD2yFp",
        "colab_type": "code",
        "colab": {
          "base_uri": "https://localhost:8080/",
          "height": 248
        },
        "outputId": "ce5678a5-0f25-4ed0-e359-06d1e6e476b8"
      },
      "source": [
        "X, Y, Z, U, V, W = zip(*vectors_5)\n",
        "fig = plt.figure()\n",
        "ax = fig.add_subplot(111, projection='3d')\n",
        "ax.quiver(X, Y, Z, U, V, W, length=1)\n",
        "ax.set_xlim([0, 5])\n",
        "ax.set_ylim([0, 5])\n",
        "ax.set_zlim([0, 5])\n",
        "ax.set_xlabel('X')\n",
        "ax.set_ylabel('Y')\n",
        "ax.set_zlabel('Z')\n",
        "plt.title('v3 scaled by 5')\n",
        "plt.show()"
      ],
      "execution_count": 69,
      "outputs": [
        {
          "output_type": "display_data",
          "data": {
            "image/png": "[encoded data removed]",
            "text/plain": [
              "<Figure size 432x288 with 1 Axes>"
            ]
          },
          "metadata": {
            "tags": []
          }
        }
      ]
    },
    {
      "cell_type": "code",
      "metadata": {
        "id": "4dJygS5236mC",
        "colab_type": "code",
        "colab": {
          "base_uri": "https://localhost:8080/",
          "height": 248
        },
        "outputId": "829666e3-0a24-4272-faaf-a641bd67d1e6"
      },
      "source": [
        "X, Y, Z, U, V, W = zip(*vectors_e)\n",
        "fig = plt.figure()\n",
        "ax = fig.add_subplot(111, projection='3d')\n",
        "ax.quiver(X, Y, Z, U, V, W, length=1)\n",
        "ax.set_xlim([0, 5])\n",
        "ax.set_ylim([0, 5])\n",
        "ax.set_zlim([0, 5])\n",
        "ax.set_xlabel('X')\n",
        "ax.set_ylabel('Y')\n",
        "ax.set_zlabel('Z')\n",
        "plt.title('v3 scaled by e')\n",
        "plt.show()"
      ],
      "execution_count": 70,
      "outputs": [
        {
          "output_type": "display_data",
          "data": {
            "image/png": "[encoded data removed]",
            "text/plain": [
              "<Figure size 432x288 with 1 Axes>"
            ]
          },
          "metadata": {
            "tags": []
          }
        }
      ]
    },
    {
      "cell_type": "code",
      "metadata": {
        "id": "YZ04h0XO4or9",
        "colab_type": "code",
        "colab": {
          "base_uri": "https://localhost:8080/",
          "height": 248
        },
        "outputId": "8b70e53c-4136-4f78-abf2-ee9bbe613a9e"
      },
      "source": [
        "X, Y, Z, U, V, W = zip(*vectors_pi)\n",
        "fig = plt.figure()\n",
        "ax = fig.add_subplot(111, projection='3d')\n",
        "ax.quiver(X, Y, Z, U, V, W, length=1)\n",
        "ax.set_xlim([0, 5])\n",
        "ax.set_ylim([0, 5])\n",
        "ax.set_zlim([0, 5])\n",
        "ax.set_xlabel('X')\n",
        "ax.set_ylabel('Y')\n",
        "ax.set_zlabel('Z')\n",
        "plt.title('v3 scaled by pi')\n",
        "plt.show()"
      ],
      "execution_count": 71,
      "outputs": [
        {
          "output_type": "display_data",
          "data": {
            "image/png": "[encoded data removed]",
            "text/plain": [
              "<Figure size 432x288 with 1 Axes>"
            ]
          },
          "metadata": {
            "tags": []
          }
        }
      ]
    },
    {
      "cell_type": "code",
      "metadata": {
        "id": "Cl-gaa6c4r7N",
        "colab_type": "code",
        "colab": {}
      },
      "source": [
        "# The resultant vectors are longer than the original vector, by a scale equal\n",
        "# to the scalar values (5, e, and pi)!"
      ],
      "execution_count": 0,
      "outputs": []
    },
    {
      "cell_type": "markdown",
      "metadata": {
        "id": "wrgqa6sWimbH",
        "colab_type": "text"
      },
      "source": [
        "## 1.4 Graph vectors $\\vec{a}$ and $\\vec{b}$ and plot them on a graph\n",
        "\n",
        "\\begin{align}\n",
        "\\vec{a} = \\begin{bmatrix} 5 \\\\ 7 \\end{bmatrix}\n",
        "\\qquad\n",
        "\\vec{b} = \\begin{bmatrix} 3 \\\\4 \\end{bmatrix}\n",
        "\\end{align}"
      ]
    },
    {
      "cell_type": "code",
      "metadata": {
        "id": "AHlR94vK5yKb",
        "colab_type": "code",
        "colab": {}
      },
      "source": [
        "a = np.array([[5],\n",
        "              [7]])\n",
        "\n",
        "b = np.array([[3],\n",
        "              [4]])"
      ],
      "execution_count": 0,
      "outputs": []
    },
    {
      "cell_type": "code",
      "metadata": {
        "id": "I1BGXA_skV-b",
        "colab_type": "code",
        "colab": {
          "base_uri": "https://localhost:8080/",
          "height": 299
        },
        "outputId": "36691d5d-4980-41af-c278-fcc38f52eed6"
      },
      "source": [
        "plt.arrow(0,0,5,7, head_width=0.1, head_length=0.1, color = 'y')\n",
        "plt.arrow(0,0,3,4, head_width=0.1, head_length=0.1, color = 'r')\n",
        "plt.title('vectors a and b')\n",
        "plt.axis([0, 8, 0, 8])"
      ],
      "execution_count": 73,
      "outputs": [
        {
          "output_type": "execute_result",
          "data": {
            "text/plain": [
              "[0, 8, 0, 8]"
            ]
          },
          "metadata": {
            "tags": []
          },
          "execution_count": 73
        },
        {
          "output_type": "display_data",
          "data": {
            "image/png": "[encoded data removed]",
            "text/plain": [
              "<Figure size 432x288 with 1 Axes>"
            ]
          },
          "metadata": {
            "tags": []
          }
        }
      ]
    },
    {
      "cell_type": "markdown",
      "metadata": {
        "id": "QN6RU_3gizpw",
        "colab_type": "text"
      },
      "source": [
        "## 1.5 find $\\vec{a} - \\vec{b}$ and plot the result on the same graph as $\\vec{a}$ and $\\vec{b}$. Is there a relationship between vectors $\\vec{a} \\thinspace, \\vec{b} \\thinspace \\text{and} \\thinspace \\vec{a-b}$"
      ]
    },
    {
      "cell_type": "code",
      "metadata": {
        "id": "68sWHIOPkXp5",
        "colab_type": "code",
        "colab": {
          "base_uri": "https://localhost:8080/",
          "height": 52
        },
        "outputId": "c000064e-4f13-4918-d120-03cc97c09cb6"
      },
      "source": [
        "a-b"
      ],
      "execution_count": 75,
      "outputs": [
        {
          "output_type": "execute_result",
          "data": {
            "text/plain": [
              "array([[2],\n",
              "       [3]])"
            ]
          },
          "metadata": {
            "tags": []
          },
          "execution_count": 75
        }
      ]
    },
    {
      "cell_type": "code",
      "metadata": {
        "id": "oklmp0Ir6B_G",
        "colab_type": "code",
        "colab": {
          "base_uri": "https://localhost:8080/",
          "height": 299
        },
        "outputId": "7e9b12be-a548-40c4-d2ec-70065b1c485d"
      },
      "source": [
        "plt.arrow(0,0,5,7, head_width=0.1, head_length=0.1, color = 'y')\n",
        "plt.arrow(0,0,3,4, head_width=0.1, head_length=0.1, color = 'r')\n",
        "plt.arrow(3,4,2,3, head_width=0.1, head_length=0.1, color = 'b')\n",
        "plt.title('vectors a and b')\n",
        "plt.axis([0, 8, 0, 8])"
      ],
      "execution_count": 76,
      "outputs": [
        {
          "output_type": "execute_result",
          "data": {
            "text/plain": [
              "[0, 8, 0, 8]"
            ]
          },
          "metadata": {
            "tags": []
          },
          "execution_count": 76
        },
        {
          "output_type": "display_data",
          "data": {
            "image/png": "[encoded data removed]",
            "text/plain": [
              "<Figure size 432x288 with 1 Axes>"
            ]
          },
          "metadata": {
            "tags": []
          }
        }
      ]
    },
    {
      "cell_type": "markdown",
      "metadata": {
        "id": "cQNz6a9G6ZCa",
        "colab_type": "text"
      },
      "source": [
        "$\\vec{a-b}$ represents the expanse between the end of $\\vec{a}$ and the end of $\\vec{b}$ when both $\\vec{a}$ and $\\vec{b}$ originate from (0,0)."
      ]
    },
    {
      "cell_type": "code",
      "metadata": {
        "id": "EctXl-Zr6Rfb",
        "colab_type": "code",
        "colab": {}
      },
      "source": [
        ""
      ],
      "execution_count": 0,
      "outputs": []
    },
    {
      "cell_type": "markdown",
      "metadata": {
        "id": "1ZPVuJAlehu_",
        "colab_type": "text"
      },
      "source": [
        "## 1.6 Find $c \\cdot d$\n",
        "\n",
        "\\begin{align}\n",
        "\\vec{c} = \\begin{bmatrix}7 & 22 & 4 & 16\\end{bmatrix}\n",
        "\\qquad\n",
        "\\vec{d} = \\begin{bmatrix}12 & 6 & 2 & 9\\end{bmatrix}\n",
        "\\end{align}\n"
      ]
    },
    {
      "cell_type": "code",
      "metadata": {
        "id": "2_cZQFCskYNr",
        "colab_type": "code",
        "colab": {
          "base_uri": "https://localhost:8080/",
          "height": 35
        },
        "outputId": "67702bdd-4f00-41dc-9d38-ff03075c034a"
      },
      "source": [
        "c = np.array([7,22,4,16])\n",
        "d = np.array([12,6,2,9])\n",
        "c*d"
      ],
      "execution_count": 77,
      "outputs": [
        {
          "output_type": "execute_result",
          "data": {
            "text/plain": [
              "array([ 84, 132,   8, 144])"
            ]
          },
          "metadata": {
            "tags": []
          },
          "execution_count": 77
        }
      ]
    },
    {
      "cell_type": "markdown",
      "metadata": {
        "id": "cLm8yokpfg9B",
        "colab_type": "text"
      },
      "source": [
        "##  1.7 Find $e \\times f$\n",
        "\n",
        "\\begin{align}\n",
        "\\vec{e} = \\begin{bmatrix} 5 \\\\ 7 \\\\ 2 \\end{bmatrix}\n",
        "\\qquad\n",
        "\\vec{f} = \\begin{bmatrix} 3 \\\\4 \\\\ 6 \\end{bmatrix}\n",
        "\\end{align}"
      ]
    },
    {
      "cell_type": "code",
      "metadata": {
        "id": "ku-TdCKAkYs8",
        "colab_type": "code",
        "colab": {
          "base_uri": "https://localhost:8080/",
          "height": 70
        },
        "outputId": "59e60596-12db-4935-f44d-4580fc6eb39d"
      },
      "source": [
        "e = np.array([[5],\n",
        "              [7],\n",
        "              [2]])\n",
        "\n",
        "f = np.array([[3],\n",
        "              [4],\n",
        "              [6]])\n",
        "\n",
        "np.cross(e,f, axis=0)"
      ],
      "execution_count": 79,
      "outputs": [
        {
          "output_type": "execute_result",
          "data": {
            "text/plain": [
              "array([[ 34],\n",
              "       [-24],\n",
              "       [ -1]])"
            ]
          },
          "metadata": {
            "tags": []
          },
          "execution_count": 79
        }
      ]
    },
    {
      "cell_type": "code",
      "metadata": {
        "id": "QHCwjW6i74gm",
        "colab_type": "code",
        "colab": {}
      },
      "source": [
        ""
      ],
      "execution_count": 0,
      "outputs": []
    },
    {
      "cell_type": "markdown",
      "metadata": {
        "id": "-TN8wO2-h53s",
        "colab_type": "text"
      },
      "source": [
        "## 1.8 Find $||g||$ and then find $||h||$. Which is longer?\n",
        "\n",
        "\\begin{align}\n",
        "\\vec{g} = \\begin{bmatrix} 1 \\\\ 1 \\\\ 1 \\\\ 8 \\end{bmatrix}\n",
        "\\qquad\n",
        "\\vec{h} = \\begin{bmatrix} 3 \\\\3 \\\\ 3 \\\\ 3 \\end{bmatrix}\n",
        "\\end{align}"
      ]
    },
    {
      "cell_type": "code",
      "metadata": {
        "id": "-5VKOMKBlgaA",
        "colab_type": "code",
        "colab": {
          "base_uri": "https://localhost:8080/",
          "height": 35
        },
        "outputId": "1790b581-4f56-4f15-f670-2785efb21b3c"
      },
      "source": [
        "g = np.array([[1],\n",
        "              [1],\n",
        "              [1],\n",
        "              [8]])\n",
        "\n",
        "np.linalg.norm(g)"
      ],
      "execution_count": 80,
      "outputs": [
        {
          "output_type": "execute_result",
          "data": {
            "text/plain": [
              "8.18535277187245"
            ]
          },
          "metadata": {
            "tags": []
          },
          "execution_count": 80
        }
      ]
    },
    {
      "cell_type": "code",
      "metadata": {
        "id": "kydkWwWW8zCs",
        "colab_type": "code",
        "colab": {
          "base_uri": "https://localhost:8080/",
          "height": 35
        },
        "outputId": "789e801e-01c2-4d10-9212-1f803d5dce37"
      },
      "source": [
        "h = np.array([[3],\n",
        "              [3],\n",
        "              [3],\n",
        "              [3]])\n",
        "\n",
        "np.linalg.norm(h)"
      ],
      "execution_count": 81,
      "outputs": [
        {
          "output_type": "execute_result",
          "data": {
            "text/plain": [
              "6.0"
            ]
          },
          "metadata": {
            "tags": []
          },
          "execution_count": 81
        }
      ]
    },
    {
      "cell_type": "markdown",
      "metadata": {
        "id": "xboT28p49Fyz",
        "colab_type": "text"
      },
      "source": [
        "$\\vec{g}$ is the longer vector."
      ]
    },
    {
      "cell_type": "markdown",
      "metadata": {
        "id": "njrWIMS-ZAoH",
        "colab_type": "text"
      },
      "source": [
        "# Part 2 - Matrices"
      ]
    },
    {
      "cell_type": "markdown",
      "metadata": {
        "id": "GjkcAVIOmOnn",
        "colab_type": "text"
      },
      "source": [
        "## 2.1 What are the dimensions of the following matrices? Which of the following can be multiplied together? See if you can find all of the different legal combinations.\n",
        "\\begin{align}\n",
        "A = \\begin{bmatrix}\n",
        "1 & 2 \\\\\n",
        "3 & 4 \\\\\n",
        "5 & 6\n",
        "\\end{bmatrix}\n",
        "\\qquad\n",
        "B = \\begin{bmatrix}\n",
        "2 & 4 & 6 \\\\\n",
        "\\end{bmatrix}\n",
        "\\qquad\n",
        "C = \\begin{bmatrix}\n",
        "9 & 6 & 3 \\\\\n",
        "4 & 7 & 11\n",
        "\\end{bmatrix}\n",
        "\\qquad\n",
        "D = \\begin{bmatrix}\n",
        "1 & 0 & 0 \\\\\n",
        "0 & 1 & 0 \\\\\n",
        "0 & 0 & 1\n",
        "\\end{bmatrix}\n",
        "\\qquad\n",
        "E = \\begin{bmatrix}\n",
        "1 & 3 \\\\\n",
        "5 & 7\n",
        "\\end{bmatrix}\n",
        "\\end{align}"
      ]
    },
    {
      "cell_type": "code",
      "metadata": {
        "id": "Z69c-uPtnbIx",
        "colab_type": "code",
        "colab": {}
      },
      "source": [
        "# A is (3x2)\n",
        "# B is (1x3)\n",
        "# C is (2x3)\n",
        "# D is (3x3)\n",
        "# E is (2x2)"
      ],
      "execution_count": 0,
      "outputs": []
    },
    {
      "cell_type": "markdown",
      "metadata": {
        "id": "lMOlCoM3ncGa",
        "colab_type": "text"
      },
      "source": [
        "## 2.2 Find the following products: CD, AE, and BA. What are the dimensions of the resulting matrices? How does that relate to the dimensions of their factor matrices?"
      ]
    },
    {
      "cell_type": "code",
      "metadata": {
        "id": "zhKwiSItoE2F",
        "colab_type": "code",
        "colab": {
          "base_uri": "https://localhost:8080/",
          "height": 70
        },
        "outputId": "fc8e45f7-aef8-46de-9f97-15a07c04f6a4"
      },
      "source": [
        "A = np.array([[1,2], [3,4], [5,6]])\n",
        "B = np.array([[2,4,6]])\n",
        "C = np.array([[9,6,3], [4,7,11]])\n",
        "D = np.array([[1,0,0], [0,1,0], [0,0,1]])\n",
        "E = np.array([[1,3], [5,7]])\n",
        "D"
      ],
      "execution_count": 83,
      "outputs": [
        {
          "output_type": "execute_result",
          "data": {
            "text/plain": [
              "array([[1, 0, 0],\n",
              "       [0, 1, 0],\n",
              "       [0, 0, 1]])"
            ]
          },
          "metadata": {
            "tags": []
          },
          "execution_count": 83
        }
      ]
    },
    {
      "cell_type": "code",
      "metadata": {
        "id": "y5zHly_3-3LZ",
        "colab_type": "code",
        "colab": {
          "base_uri": "https://localhost:8080/",
          "height": 52
        },
        "outputId": "5709ea76-b0f9-4ee1-d317-e3684ed0eeb6"
      },
      "source": [
        "np.matmul(C,D)\n",
        "# (2,3) matrix"
      ],
      "execution_count": 90,
      "outputs": [
        {
          "output_type": "execute_result",
          "data": {
            "text/plain": [
              "array([[ 9,  6,  3],\n",
              "       [ 4,  7, 11]])"
            ]
          },
          "metadata": {
            "tags": []
          },
          "execution_count": 90
        }
      ]
    },
    {
      "cell_type": "code",
      "metadata": {
        "id": "LFqXaQGu-6CL",
        "colab_type": "code",
        "colab": {
          "base_uri": "https://localhost:8080/",
          "height": 70
        },
        "outputId": "44eff81d-e626-4ffa-c38c-1403b2a70e97"
      },
      "source": [
        "np.matmul(A,E)\n",
        "# (3,2) matrix"
      ],
      "execution_count": 91,
      "outputs": [
        {
          "output_type": "execute_result",
          "data": {
            "text/plain": [
              "array([[11, 17],\n",
              "       [23, 37],\n",
              "       [35, 57]])"
            ]
          },
          "metadata": {
            "tags": []
          },
          "execution_count": 91
        }
      ]
    },
    {
      "cell_type": "code",
      "metadata": {
        "id": "79R3namp_mNv",
        "colab_type": "code",
        "colab": {
          "base_uri": "https://localhost:8080/",
          "height": 35
        },
        "outputId": "c1882854-3f7b-4ef2-889b-f43e9fd3cb6c"
      },
      "source": [
        "np.matmul(B,A)\n",
        "# (1,2) matrix"
      ],
      "execution_count": 92,
      "outputs": [
        {
          "output_type": "execute_result",
          "data": {
            "text/plain": [
              "array([[44, 56]])"
            ]
          },
          "metadata": {
            "tags": []
          },
          "execution_count": 92
        }
      ]
    },
    {
      "cell_type": "code",
      "metadata": {
        "id": "cUq8on31_xeb",
        "colab_type": "code",
        "colab": {}
      },
      "source": [
        "# The dimensions of the resultant matrices are indeed equal to the outer values\n",
        "# of the dimensions of the original matrices when written in order."
      ],
      "execution_count": 0,
      "outputs": []
    },
    {
      "cell_type": "markdown",
      "metadata": {
        "id": "p2jmaGLgoFPN",
        "colab_type": "text"
      },
      "source": [
        "## 2.3  Find $F^{T}$. How are the numbers along the main diagonal (top left to bottom right) of the original matrix and its transpose related? What are the dimensions of $F$? What are the dimensions of $F^{T}$?\n",
        "\n",
        "\\begin{align}\n",
        "F = \n",
        "\\begin{bmatrix}\n",
        "20 & 19 & 18 & 17 \\\\\n",
        "16 & 15 & 14 & 13 \\\\\n",
        "12 & 11 & 10 & 9 \\\\\n",
        "8 & 7 & 6 & 5 \\\\\n",
        "4 & 3 & 2 & 1\n",
        "\\end{bmatrix}\n",
        "\\end{align}"
      ]
    },
    {
      "cell_type": "code",
      "metadata": {
        "id": "Wl3ElwgLqaAn",
        "colab_type": "code",
        "colab": {
          "base_uri": "https://localhost:8080/",
          "height": 212
        },
        "outputId": "a1d6ba38-b203-4439-b42a-1eda481ddbda"
      },
      "source": [
        "F = np.array([[20,19,18,17],\n",
        "              [16,15,14,13],\n",
        "              [12,11,10,9],\n",
        "              [8,7,6,5],\n",
        "              [4,3,2,1]])\n",
        "\n",
        "print(F)\n",
        "print('\\n')\n",
        "print(F.T)"
      ],
      "execution_count": 94,
      "outputs": [
        {
          "output_type": "stream",
          "text": [
            "[[20 19 18 17]\n",
            " [16 15 14 13]\n",
            " [12 11 10  9]\n",
            " [ 8  7  6  5]\n",
            " [ 4  3  2  1]]\n",
            "\n",
            "\n",
            "[[20 16 12  8  4]\n",
            " [19 15 11  7  3]\n",
            " [18 14 10  6  2]\n",
            " [17 13  9  5  1]]\n"
          ],
          "name": "stdout"
        }
      ]
    },
    {
      "cell_type": "markdown",
      "metadata": {
        "id": "ipeEGDa9Bc9Z",
        "colab_type": "text"
      },
      "source": [
        "The main diagonal is preserved, unchanged! The dimensions of $F$ are $(5,4)$, and the dimensions of $F^{T}$ are $(4,5)$. The dimensions are reciprocal."
      ]
    },
    {
      "cell_type": "code",
      "metadata": {
        "id": "rUlZJ4ZrBN5x",
        "colab_type": "code",
        "colab": {}
      },
      "source": [
        ""
      ],
      "execution_count": 0,
      "outputs": []
    },
    {
      "cell_type": "markdown",
      "metadata": {
        "id": "13ik2LEEZLHn",
        "colab_type": "text"
      },
      "source": [
        "# Part 3 - Square Matrices"
      ]
    },
    {
      "cell_type": "markdown",
      "metadata": {
        "id": "sDBAPUwfp7f7",
        "colab_type": "text"
      },
      "source": [
        "## 3.1 Find $IG$ (be sure to show your work) 😃\n",
        "\n",
        "You don't have to do anything crazy complicated here to show your work, just create the G matrix as specified below, and a corresponding 2x2 Identity matrix and then multiply them together to show the result. You don't need to write LaTeX or anything like that (unless you want to).\n",
        "\n",
        "\\begin{align}\n",
        "G= \n",
        "\\begin{bmatrix}\n",
        "13 & 14 \\\\\n",
        "21 & 12 \n",
        "\\end{bmatrix}\n",
        "\\end{align}"
      ]
    },
    {
      "cell_type": "code",
      "metadata": {
        "id": "ZnqvZBOYqar3",
        "colab_type": "code",
        "colab": {
          "base_uri": "https://localhost:8080/",
          "height": 52
        },
        "outputId": "df2ec3f2-b6b5-4f0e-b649-3977ff6fe580"
      },
      "source": [
        "I = np.array([[1,0],\n",
        "             [0,1]])\n",
        "\n",
        "G = np.array([[13,14],\n",
        "             [21,12]])\n",
        "\n",
        "np.matmul(I,G)"
      ],
      "execution_count": 96,
      "outputs": [
        {
          "output_type": "execute_result",
          "data": {
            "text/plain": [
              "array([[13, 14],\n",
              "       [21, 12]])"
            ]
          },
          "metadata": {
            "tags": []
          },
          "execution_count": 96
        }
      ]
    },
    {
      "cell_type": "code",
      "metadata": {
        "id": "vysqk9uVCTbf",
        "colab_type": "code",
        "colab": {}
      },
      "source": [
        ""
      ],
      "execution_count": 0,
      "outputs": []
    },
    {
      "cell_type": "markdown",
      "metadata": {
        "id": "DZ_0XTDQqpMT",
        "colab_type": "text"
      },
      "source": [
        "## 3.2 Find $|H|$ and then find $|J|$.\n",
        "\n",
        "\\begin{align}\n",
        "H= \n",
        "\\begin{bmatrix}\n",
        "12 & 11 \\\\\n",
        "7 & 10 \n",
        "\\end{bmatrix}\n",
        "\\qquad\n",
        "J= \n",
        "\\begin{bmatrix}\n",
        "0 & 1 & 2 \\\\\n",
        "7 & 10 & 4 \\\\\n",
        "3 & 2 & 0\n",
        "\\end{bmatrix}\n",
        "\\end{align}\n"
      ]
    },
    {
      "cell_type": "code",
      "metadata": {
        "id": "5QShhoXyrjDS",
        "colab_type": "code",
        "colab": {
          "base_uri": "https://localhost:8080/",
          "height": 52
        },
        "outputId": "1bfc55ea-ecea-4e3d-a380-a1e25a306452"
      },
      "source": [
        "H = np.array([[12,11],\n",
        "              [7,10]])\n",
        "\n",
        "J = np.array([[0,1,2],\n",
        "              [7,10,4],\n",
        "              [3,2,0]])\n",
        "\n",
        "print(np.linalg.det(H))\n",
        "print(np.linalg.det(J))"
      ],
      "execution_count": 97,
      "outputs": [
        {
          "output_type": "stream",
          "text": [
            "43.000000000000014\n",
            "-19.999999999999996\n"
          ],
          "name": "stdout"
        }
      ]
    },
    {
      "cell_type": "markdown",
      "metadata": {
        "id": "2gZl1CFwrXSH",
        "colab_type": "text"
      },
      "source": [
        "## 3.3 Find $H^{-1}$ and then find $J^{-1}$"
      ]
    },
    {
      "cell_type": "code",
      "metadata": {
        "id": "nyX6De2-rio1",
        "colab_type": "code",
        "colab": {
          "base_uri": "https://localhost:8080/",
          "height": 141
        },
        "outputId": "8ef793a6-9e89-40ab-e0a2-b570a89dcfb7"
      },
      "source": [
        "Hinv = np.linalg.inv(H)\n",
        "Jinv = np.linalg.inv(J)\n",
        "\n",
        "print(Hinv)\n",
        "print('\\n')\n",
        "print(Jinv)"
      ],
      "execution_count": 100,
      "outputs": [
        {
          "output_type": "stream",
          "text": [
            "[[ 0.23255814 -0.25581395]\n",
            " [-0.1627907   0.27906977]]\n",
            "\n",
            "\n",
            "[[ 0.4  -0.2   0.8 ]\n",
            " [-0.6   0.3  -0.7 ]\n",
            " [ 0.8  -0.15  0.35]]\n"
          ],
          "name": "stdout"
        }
      ]
    },
    {
      "cell_type": "markdown",
      "metadata": {
        "id": "Vvd4Pe86rjhW",
        "colab_type": "text"
      },
      "source": [
        "## 3.4 Find $HH^{-1}$ and then find $J^{-1}J$. Is $HH^{-1} == J^{-1}J$? Why or Why not? \n",
        "\n",
        "Please ignore Python rounding errors. If necessary, format your output so that it rounds to 5 significant digits (the fifth decimal place)."
      ]
    },
    {
      "cell_type": "code",
      "metadata": {
        "id": "q_nzXCtXElOH",
        "colab_type": "code",
        "colab": {
          "base_uri": "https://localhost:8080/",
          "height": 90
        },
        "outputId": "b5594803-6d4c-42aa-f85a-d2331780337c"
      },
      "source": [
        "if np.matmul(H,Hinv) == np.matmul(J,Jinv):\n",
        "  print('They are equivalent because multiplying reciprocal matrices yeilds' +\n",
        "        'the identity matrix')\n",
        "else:\n",
        "  print('Should I blame python for not recognizing the equivalence of identity'+\n",
        "         'matrices? Or maybe... it is because matrix equality is strict' +\n",
        "        'strict. They are both identity matrices, but not of the same size,' +\n",
        "        'and therefore not equivalent.')         "
      ],
      "execution_count": 103,
      "outputs": [
        {
          "output_type": "stream",
          "text": [
            "Should I blame python for not recognizing the equivalence of identitymatrices? Or maybe... it is because matrix equality is strictstrict. They are both identity matrices, but not of the same size,and therefore not equivalent.\n"
          ],
          "name": "stdout"
        },
        {
          "output_type": "stream",
          "text": [
            "/usr/local/lib/python3.6/dist-packages/ipykernel_launcher.py:1: DeprecationWarning: elementwise comparison failed; this will raise an error in the future.\n",
            "  \"\"\"Entry point for launching an IPython kernel.\n"
          ],
          "name": "stderr"
        }
      ]
    },
    {
      "cell_type": "code",
      "metadata": {
        "id": "h1e5tWHvGWS8",
        "colab_type": "code",
        "colab": {
          "base_uri": "https://localhost:8080/",
          "height": 141
        },
        "outputId": "23424184-0d9b-4da5-96d2-72e8b9720f1d"
      },
      "source": [
        "print(np.matmul(H,Hinv))\n",
        "print('\\n')\n",
        "print(np.matmul(J,Jinv))"
      ],
      "execution_count": 104,
      "outputs": [
        {
          "output_type": "stream",
          "text": [
            "[[1.00000000e+00 5.55111512e-16]\n",
            " [2.22044605e-16 1.00000000e+00]]\n",
            "\n",
            "\n",
            "[[ 1.00000000e+00 -5.55111512e-17  0.00000000e+00]\n",
            " [ 0.00000000e+00  1.00000000e+00  0.00000000e+00]\n",
            " [ 0.00000000e+00  0.00000000e+00  1.00000000e+00]]\n"
          ],
          "name": "stdout"
        }
      ]
    },
    {
      "cell_type": "code",
      "metadata": {
        "id": "N_Guc_oYGfro",
        "colab_type": "code",
        "colab": {}
      },
      "source": [
        "# Despite the rounding errors, these are both identity matrices of their\n",
        "# respective dimensions. However, they are not equivalent because they do not\n",
        "# have the same dimensions."
      ],
      "execution_count": 0,
      "outputs": []
    },
    {
      "cell_type": "markdown",
      "metadata": {
        "id": "V0iTO4McYjtk",
        "colab_type": "text"
      },
      "source": [
        "# Stretch Goals: \n",
        "\n",
        "A reminder that these challenges are optional. If you finish your work quickly we welcome you to work on them. If there are other activities that you feel like will help your understanding of the above topics more, feel free to work on that. Topics from the Stretch Goals sections will never end up on Sprint Challenges. You don't have to do these in order, you don't have to do all of them. \n",
        "\n",
        "- Write a function that can calculate the dot product of any two vectors of equal length that are passed to it.\n",
        "- Write a function that can calculate the norm of any vector\n",
        "- Prove to yourself again that the vectors in 1.9 are orthogonal by graphing them. \n",
        "- Research how to plot a 3d graph with animations so that you can make the graph rotate (this will be easier in a local notebook than in google colab)\n",
        "- Create and plot a matrix on a 2d graph.\n",
        "- Create and plot a matrix on a 3d graph.\n",
        "- Plot two vectors that are not collinear on a 2d graph. Calculate the determinant of the 2x2 matrix that these vectors form. How does this determinant relate to the graphical interpretation of the vectors?\n",
        "\n"
      ]
    }
  ]
}