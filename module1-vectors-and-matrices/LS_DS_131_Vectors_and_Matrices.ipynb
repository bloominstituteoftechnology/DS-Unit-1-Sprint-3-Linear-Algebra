{
  "nbformat": 4,
  "nbformat_minor": 0,
  "metadata": {
    "colab": {
      "name": "Vectors & Matrices (DS20).ipynb",
      "provenance": [],
      "collapsed_sections": [],
      "include_colab_link": true
    },
    "kernelspec": {
      "name": "python3",
      "display_name": "Python 3"
    }
  },
  "cells": [
    {
      "cell_type": "markdown",
      "metadata": {
        "id": "view-in-github",
        "colab_type": "text"
      },
      "source": [
        "<a href=\"https://colab.research.google.com/github/Collin-Campbell/DS-Unit-1-Sprint-3-Linear-Algebra/blob/master/module1-vectors-and-matrices/LS_DS_131_Vectors_and_Matrices.ipynb\" target=\"_parent\"><img src=\"https://colab.research.google.com/assets/colab-badge.svg\" alt=\"Open In Colab\"/></a>"
      ]
    },
    {
      "cell_type": "markdown",
      "metadata": {
        "id": "8ItqEpV-DlUV",
        "colab_type": "text"
      },
      "source": [
        "# Vectors & Matrices\n",
        "\n",
        "## Objectives: \n",
        "\n",
        "- Explain **why we care about linear algebra** in the scope of data science\n",
        "- **Graph vectors**, identify their **dimensionality**, calculate their length (**norm**), and take the **dot product of two vectors**.\n",
        "- Identify the **dimensionality of matrices**, multiply them, identify when **matrix multiplication** is a legal operation, and **transpose a matrix**.\n",
        "- Identify special types of square matrices including the **identity matrix**, as well as find the **determinant** and **inverse of a matrix**.\n",
        "- Use **NumPy** to perform basic **Linear Algebra operations** with Python."
      ]
    },
    {
      "cell_type": "markdown",
      "metadata": {
        "id": "wo-wWSfPHpih",
        "colab_type": "text"
      },
      "source": [
        "## Why Linear Algebra?"
      ]
    },
    {
      "cell_type": "markdown",
      "metadata": {
        "id": "TZ1nkVGpZyH5",
        "colab_type": "text"
      },
      "source": [
        "Linear algebra is a mathematical discipline concerning **vectors** and **matrices** and how to go about using them.\n",
        "\n",
        "> The study of linear systems (finite sets of linear equations)  and representing them in \"**vector spaces**\"."
      ]
    },
    {
      "cell_type": "markdown",
      "metadata": {
        "id": "diEooxiXJgn2",
        "colab_type": "text"
      },
      "source": [
        "Data Science, Machine Learning, and Artificial intelligence is all about getting computers to do things for us better, cheaper, and faster than we could do them ourselves.\n",
        "\n",
        "How do we do that? Computers are good at doing small repetitive tasks (like arithmetic). If we tell them what small repetitive tasks to do in the right order then sometimes all of those combined behaviors will result in something that looks like a human's behavior (or at least the decisions/output look like something a human might decide to do/create)."
      ]
    },
    {
      "cell_type": "markdown",
      "metadata": {
        "id": "7UgOdBGdbz9t",
        "colab_type": "text"
      },
      "source": [
        "**Algorithm** = A set of instructions that we give to a computer to complete certain tasks.\n",
        "\n",
        "**Data Structure** = The method that we use to organize and store our set of instructions so that the computer can do them super fast.\n",
        "\n",
        "**Computer Science** = The practice of optimizing the organization of our data structures so that they run really fast and efficiently."
      ]
    },
    {
      "cell_type": "markdown",
      "metadata": {
        "id": "QH_6eMXO9GAn",
        "colab_type": "text"
      },
      "source": [
        "Here's a simple data structure, in Python it's known as a **list**. It's one of the simplest ways that we can store things (data) and maintain their order. When giving instructions to a computer, it's important that the computer knows in what order to execute them."
      ]
    },
    {
      "cell_type": "code",
      "metadata": {
        "id": "V2oY39t19X-U",
        "colab_type": "code",
        "colab": {}
      },
      "source": [
        "selfDrivingCarInstructions = [\"open door\", \n",
        "          \"sit on seat\", \n",
        "          \"put key in ignition\", \n",
        "          \"turn key to the right until it stops\", \n",
        "          \"push brake pedal\", \n",
        "          \"change gear to 'Drive'\", \n",
        "          \"release brake pedal\", \n",
        "          \"push gas pedal\",\n",
        "          '''turn wheel to navigate streets with thousands of small rules and \n",
        "          exeptions to rules all while avoiding collision with other \n",
        "          objects/humans/cars, obeying traffic laws, not running out of fuel and \n",
        "          getting there in a timely manner''',\n",
        "          \"close door\"]\n",
        "\n",
        "# We'll have self-driving cars next week for sure. NBD"
      ],
      "execution_count": null,
      "outputs": []
    },
    {
      "cell_type": "markdown",
      "metadata": {
        "id": "0dKKkG2mcn-9",
        "colab_type": "text"
      },
      "source": [
        "### Common Applications of Linear Algebra in Data Science:\n",
        "\n",
        "- GANs\n",
        "- Convolutional Neural Networks (Image Recognition)\n",
        "- PCA"
      ]
    },
    {
      "cell_type": "markdown",
      "metadata": {
        "id": "bjDL_TdYNVK1",
        "colab_type": "text"
      },
      "source": [
        "So why linear algebra? Because the mathematical principles behinds **vectors** and **matrices** (lists and 2D lists) will help us understand how we can tell computers how to do an insane number of calculations in a very short amount of time.\n",
        "\n",
        "Remember when we said that computers are really good at doing small and repetitive tasks very quickly?"
      ]
    },
    {
      "cell_type": "markdown",
      "metadata": {
        "id": "ew_3eKta2h3W",
        "colab_type": "text"
      },
      "source": [
        "### Are we going to learn to do Linear Algebra by hand?\n",
        "\n",
        "Let me quote your seventh grade math teacher:\n",
        "\n",
        "> \"**ArE yOu GoInG To CaRrY a CaLcUlAtOr ArOuNd wItH yOu EvErYwHeRe YoU gO???**\"\n",
        "\n",
        "Of course you're going to carry a calculator around everywhere, so mostly **NO**, we're not going to do a lot of hand calculating. We're going to try and refrain from calculating things by hand unless it is absolutely necessary in order to understand and implement the concepts.\n",
        "\n",
        "We're not trying to re-invent the wheel.\n",
        "\n",
        "We're learning how to  **use** the wheel. "
      ]
    },
    {
      "cell_type": "markdown",
      "metadata": {
        "id": "Xai2ZKruXLCo",
        "colab_type": "text"
      },
      "source": [
        "## NumPy"
      ]
    },
    {
      "cell_type": "markdown",
      "metadata": {
        "id": "cZLPRupx14SX",
        "colab_type": "text"
      },
      "source": [
        "\n",
        "NumPy is at the core of many types of scientific computing and is the main tool that we will use to perform Linear Algebra operations with Python. \n",
        "\n",
        "We have talked about how vectors are a lot like Python Lists, however we will mostly use NumPy arrays instead of Python lists as the main data structure. Lets demonstrate some of the main differences betwen Python lists and NumPy Arrays."
      ]
    },
    {
      "cell_type": "code",
      "metadata": {
        "id": "xAXZXcZF1wFA",
        "colab_type": "code",
        "colab": {}
      },
      "source": [
        "import numpy as np"
      ],
      "execution_count": 4,
      "outputs": []
    },
    {
      "cell_type": "markdown",
      "metadata": {
        "id": "IZd2jkfPXY_X",
        "colab_type": "text"
      },
      "source": [
        "- Why not Python lists? (Array broadcasting)\n",
        "- 1-Dimensional vs 2-Dimensional NumPy Arrays\n",
        "- If I explicitly want a row of column vector then I need to use a 2D NumPy Array\n",
        "- Only use NumPy Arrans, DO NOT use the NumPy Matrix class."
      ]
    },
    {
      "cell_type": "markdown",
      "metadata": {
        "id": "ANtP3EcMXXiL",
        "colab_type": "text"
      },
      "source": [
        "Remember that you'll need many functions from [the documentation](https://docs.scipy.org/doc/numpy-1.15.1/reference/routines.linalg.html) in order to complete the assignment"
      ]
    },
    {
      "cell_type": "code",
      "metadata": {
        "id": "3FJDPjwytDfZ",
        "colab_type": "code",
        "colab": {
          "base_uri": "https://localhost:8080/",
          "height": 34
        },
        "outputId": "7648854b-8e80-473e-d788-6471fb4fcdef"
      },
      "source": [
        "### What will happen when I add the two Python lists together?\n",
        "\n",
        "a = [1, 2, 3]\n",
        "\n",
        "b = [4, 5, 6]\n",
        "\n",
        "a + b"
      ],
      "execution_count": 9,
      "outputs": [
        {
          "output_type": "execute_result",
          "data": {
            "text/plain": [
              "[1, 2, 3, 4, 5, 6]"
            ]
          },
          "metadata": {
            "tags": []
          },
          "execution_count": 9
        }
      ]
    },
    {
      "cell_type": "code",
      "metadata": {
        "id": "N7S-i-CAZv67",
        "colab_type": "code",
        "colab": {
          "base_uri": "https://localhost:8080/",
          "height": 164
        },
        "outputId": "790fcbe3-9dbc-45e8-f827-2445f23933f0"
      },
      "source": [
        "a * b"
      ],
      "execution_count": 10,
      "outputs": [
        {
          "output_type": "error",
          "ename": "TypeError",
          "evalue": "ignored",
          "traceback": [
            "\u001b[0;31m---------------------------------------------------------------------------\u001b[0m",
            "\u001b[0;31mTypeError\u001b[0m                                 Traceback (most recent call last)",
            "\u001b[0;32m<ipython-input-10-9bc1a869709f>\u001b[0m in \u001b[0;36m<module>\u001b[0;34m()\u001b[0m\n\u001b[0;32m----> 1\u001b[0;31m \u001b[0ma\u001b[0m \u001b[0;34m*\u001b[0m \u001b[0mb\u001b[0m\u001b[0;34m\u001b[0m\u001b[0;34m\u001b[0m\u001b[0m\n\u001b[0m",
            "\u001b[0;31mTypeError\u001b[0m: can't multiply sequence by non-int of type 'list'"
          ]
        }
      ]
    },
    {
      "cell_type": "code",
      "metadata": {
        "id": "SFtJF1symxuY",
        "colab_type": "code",
        "colab": {
          "base_uri": "https://localhost:8080/",
          "height": 51
        },
        "outputId": "a4fbb926-a1fb-4099-9eaa-a3b92d95afe9"
      },
      "source": [
        "# Lets create two 1-Dimensional NumPy arrays and add them together?\n",
        "# What do you think the result will be?\n",
        "\n",
        "# Array Broadcasting\n",
        "# Doing some arithmetic operation to vectors \"element-wise\"\n",
        "\n",
        "np_a = np.array(a)\n",
        "\n",
        "np_b = np.array(b)\n",
        "\n",
        "print(np_a)\n",
        "print(np_b)"
      ],
      "execution_count": null,
      "outputs": [
        {
          "output_type": "stream",
          "text": [
            "[1 2 3]\n",
            "[4 5 6]\n"
          ],
          "name": "stdout"
        }
      ]
    },
    {
      "cell_type": "markdown",
      "metadata": {
        "id": "wVuKmynAm5qF",
        "colab_type": "text"
      },
      "source": [
        "What we have just demonstrated is one of the primary benefits of NumPy and it is called \"**Array Broadcasting**\" This means that arithmetic operations happen \"element-wise\"."
      ]
    },
    {
      "cell_type": "code",
      "metadata": {
        "id": "dIOBi3uznKnx",
        "colab_type": "code",
        "colab": {
          "base_uri": "https://localhost:8080/",
          "height": 34
        },
        "outputId": "7f264b13-0571-4596-f531-3b3a08a47558"
      },
      "source": [
        "np_a + np_b"
      ],
      "execution_count": null,
      "outputs": [
        {
          "output_type": "execute_result",
          "data": {
            "text/plain": [
              "array([5, 7, 9])"
            ]
          },
          "metadata": {
            "tags": []
          },
          "execution_count": 6
        }
      ]
    },
    {
      "cell_type": "code",
      "metadata": {
        "id": "Qd5bsOXUnNL2",
        "colab_type": "code",
        "colab": {
          "base_uri": "https://localhost:8080/",
          "height": 34
        },
        "outputId": "e0567f28-54e7-49f3-d837-3524bae8f467"
      },
      "source": [
        "# multiplying np arrays\n",
        "np_a * np_b"
      ],
      "execution_count": null,
      "outputs": [
        {
          "output_type": "execute_result",
          "data": {
            "text/plain": [
              "array([ 4, 10, 18])"
            ]
          },
          "metadata": {
            "tags": []
          },
          "execution_count": 7
        }
      ]
    },
    {
      "cell_type": "code",
      "metadata": {
        "id": "vLSUyDEYnPMo",
        "colab_type": "code",
        "colab": {}
      },
      "source": [
        ""
      ],
      "execution_count": null,
      "outputs": []
    },
    {
      "cell_type": "markdown",
      "metadata": {
        "id": "-CaNxeTao4ZQ",
        "colab_type": "text"
      },
      "source": [
        "### Only use NumPy Arrans, DO NOT use the NumPy Matrix class.\n",
        "\n",
        "NumPy has a matrix class which can be used for representing matrices. However, I don't want you to use that datatype because it will be removed from NumPy in the future. However, I want you to be aware that this other datatype exists so that you don't get confused when you look at stack overflow posts or other tutorials that use the matrix datatype. Keep an eye out for resources that use it and just know that they will soon be outdated. Anything that can be done with the matrix class can also be done with simple NumPY arrays."
      ]
    },
    {
      "cell_type": "code",
      "metadata": {
        "id": "omwR_dinrAzW",
        "colab_type": "code",
        "colab": {
          "base_uri": "https://localhost:8080/",
          "height": 51
        },
        "outputId": "16ba78ec-07a9-46cc-d932-ba01024c2ca3"
      },
      "source": [
        "# Do NOT work with this datatype\n",
        "# This will be removed from NumPy in the future\n",
        "\n",
        "matrix = np.mat('1 2 ; 4 5')\n",
        "matrix"
      ],
      "execution_count": null,
      "outputs": [
        {
          "output_type": "execute_result",
          "data": {
            "text/plain": [
              "matrix([[1, 2],\n",
              "        [4, 5]])"
            ]
          },
          "metadata": {
            "tags": []
          },
          "execution_count": 8
        }
      ]
    },
    {
      "cell_type": "markdown",
      "metadata": {
        "id": "vLhyGxURJTmV",
        "colab_type": "text"
      },
      "source": [
        "## Scalars & Vectors"
      ]
    },
    {
      "cell_type": "markdown",
      "metadata": {
        "id": "khawZAeo2N1P",
        "colab_type": "text"
      },
      "source": [
        "### Scalars\n",
        "\n",
        "A simple, singular value. In the context of linear algebra scalars are usually quantities that **scale** vectors.\n",
        "\n",
        "- Variables representing scalars are typically written in lower case.\n",
        "\n",
        "- Scalars can be whole numbers or decimals.\n",
        "\n",
        "\\begin{align}\n",
        "a = 2\n",
        "\\qquad\n",
        "b = 4.815162342\n",
        "\\end{align}\n",
        "\n",
        "- They can be positive, negative, 0 or any other real number.\n",
        "\n",
        "\\begin{align}\n",
        "c = -6.022\\mathrm{e}{+23}\n",
        "\\qquad\n",
        "d = \\pi\n",
        "\\end{align}"
      ]
    },
    {
      "cell_type": "markdown",
      "metadata": {
        "id": "updpWOo74b82",
        "colab_type": "text"
      },
      "source": [
        "### Vectors\n",
        "\n",
        "A quantity possessing both magnitude and direction\n",
        "\n",
        "A vector of dimension $n$ is an **ordered** collection of $n$ elements, which are called **components**\n",
        "\n",
        "- *Note, the components of a vector are **not** referred to as \"scalars\"*\n",
        "\n",
        "- Vector notation variables are commonly written as a bold-faced lowercase letters or italicized non-bold-faced lowercase characters with an arrow (→) above the letters:\n",
        "\n",
        "Written: $\\vec{v}$ \n",
        "\n",
        "Examples:\n",
        "\n",
        "\\begin{align}\n",
        "   \\vec{a} = \n",
        "   \\begin{bmatrix}\n",
        "           1\\\\\n",
        "           2\n",
        "    \\end{bmatrix}\n",
        "    \\qquad\n",
        "    \\vec{b} =\n",
        "    \\begin{bmatrix}\n",
        "          -1\\\\\n",
        "           0\\\\\n",
        "           2\n",
        "    \\end{bmatrix}\n",
        "    \\qquad\n",
        "    \\vec{c} =\n",
        "    \\begin{bmatrix}\n",
        "           4.5\n",
        "    \\end{bmatrix}\n",
        "    \\qquad\n",
        "    \\vec{d} =\n",
        "    \\begin{bmatrix}\n",
        "           Pl\\\\\n",
        "           a\\\\\n",
        "           b\\\\\n",
        "           \\frac{2}{3}\n",
        "    \\end{bmatrix}\n",
        "\\end{align}\n",
        "\n",
        "The above vectors have dimensions 2, 3, 1, and 4 respectively."
      ]
    },
    {
      "cell_type": "code",
      "metadata": {
        "id": "0AEyK-J3gEVe",
        "colab_type": "code",
        "colab": {}
      },
      "source": [
        ""
      ],
      "execution_count": null,
      "outputs": []
    },
    {
      "cell_type": "markdown",
      "metadata": {
        "id": "yh5x6DXVouPW",
        "colab_type": "text"
      },
      "source": [
        "### Vectors in NumPy\n",
        "\n",
        "One dimensional NumPy arrays can be used to represent vectors but cannot be used to differentiate between row and column vectors.\n",
        "\n",
        "\\begin{align}\n",
        "\\text{column vector} = \\begin{bmatrix}1 \\\\ 2 \\\\ 3\\end{bmatrix}\n",
        "\\end{align}\n",
        "\n",
        "\\begin{align}\n",
        "\\text{row vector} = \\begin{bmatrix} 1 & 2 & 3\\end{bmatrix}\n",
        "\\end{align}\n",
        "\n",
        "Notice that one dimensional arrays do not have a second element listed for their shape. so that there is no way to tell if they represent column vectors or row vectors"
      ]
    },
    {
      "cell_type": "code",
      "metadata": {
        "id": "clrA_q4PpXgk",
        "colab_type": "code",
        "colab": {
          "base_uri": "https://localhost:8080/",
          "height": 34
        },
        "outputId": "622f45fa-158c-4196-c975-f7c08d99e2e4"
      },
      "source": [
        "c = np.array([1, 2, 3, 4, 5])\n",
        "c"
      ],
      "execution_count": null,
      "outputs": [
        {
          "output_type": "execute_result",
          "data": {
            "text/plain": [
              "array([1, 2, 3, 4, 5])"
            ]
          },
          "metadata": {
            "tags": []
          },
          "execution_count": 10
        }
      ]
    },
    {
      "cell_type": "code",
      "metadata": {
        "id": "RrmCLJXlqZLb",
        "colab_type": "code",
        "colab": {
          "base_uri": "https://localhost:8080/",
          "height": 34
        },
        "outputId": "ab565f2e-ea88-42b5-91f4-f74aead1d539"
      },
      "source": [
        "# Notice how only the number of items in the array is listed\n",
        "c.shape"
      ],
      "execution_count": null,
      "outputs": [
        {
          "output_type": "execute_result",
          "data": {
            "text/plain": [
              "(5,)"
            ]
          },
          "metadata": {
            "tags": []
          },
          "execution_count": 11
        }
      ]
    },
    {
      "cell_type": "code",
      "metadata": {
        "id": "Dt6h6fMQqy6N",
        "colab_type": "code",
        "colab": {
          "base_uri": "https://localhost:8080/",
          "height": 34
        },
        "outputId": "cb768077-7e10-42cf-b7d8-9105f1836f7e"
      },
      "source": [
        "# And if we swap rows and columns the shape does not change\n",
        "c.T"
      ],
      "execution_count": null,
      "outputs": [
        {
          "output_type": "execute_result",
          "data": {
            "text/plain": [
              "array([1, 2, 3, 4, 5])"
            ]
          },
          "metadata": {
            "tags": []
          },
          "execution_count": 12
        }
      ]
    },
    {
      "cell_type": "markdown",
      "metadata": {
        "id": "LXOIB20Lq2j0",
        "colab_type": "text"
      },
      "source": [
        "**If you explicitly want a row of column vector then you need to use a 2D NumPy Array**"
      ]
    },
    {
      "cell_type": "code",
      "metadata": {
        "id": "CAMZw2Eqq6e5",
        "colab_type": "code",
        "colab": {}
      },
      "source": [
        "c_row = np.array([[1, 2, 3, 4, 5]])\n",
        "\n",
        "c_column = np.array([[1], \n",
        "                     [2], \n",
        "                     [3], \n",
        "                     [4],\n",
        "                     [5]])"
      ],
      "execution_count": null,
      "outputs": []
    },
    {
      "cell_type": "code",
      "metadata": {
        "id": "SJpV0Y09eibh",
        "colab_type": "code",
        "colab": {
          "base_uri": "https://localhost:8080/",
          "height": 51
        },
        "outputId": "bd257e45-9e12-404c-a19f-e5152a9887cb"
      },
      "source": [
        "print(c_row.shape)\n",
        "print(c_row)"
      ],
      "execution_count": null,
      "outputs": [
        {
          "output_type": "stream",
          "text": [
            "(1, 5)\n",
            "[[1 2 3 4 5]]\n"
          ],
          "name": "stdout"
        }
      ]
    },
    {
      "cell_type": "code",
      "metadata": {
        "id": "Vi3CK8Fnen2P",
        "colab_type": "code",
        "colab": {
          "base_uri": "https://localhost:8080/",
          "height": 119
        },
        "outputId": "8b0caad9-464e-4a5d-a5b6-ecb458cfb479"
      },
      "source": [
        "print(c_column.shape)\n",
        "print(c_column)"
      ],
      "execution_count": null,
      "outputs": [
        {
          "output_type": "stream",
          "text": [
            "(5, 1)\n",
            "[[1]\n",
            " [2]\n",
            " [3]\n",
            " [4]\n",
            " [5]]\n"
          ],
          "name": "stdout"
        }
      ]
    },
    {
      "cell_type": "markdown",
      "metadata": {
        "id": "QFyj54ln6q2Z",
        "colab_type": "text"
      },
      "source": [
        "### Plotting Vectors"
      ]
    },
    {
      "cell_type": "code",
      "metadata": {
        "id": "PNTsHRWXB8n8",
        "colab_type": "code",
        "colab": {
          "base_uri": "https://localhost:8080/",
          "height": 281
        },
        "outputId": "9f180516-9034-4470-9b02-79d92c6d50e0"
      },
      "source": [
        "import math\n",
        "import matplotlib.pyplot as plt\n",
        "import numpy as np\n",
        "\n",
        "# Start with a simple vector\n",
        "blue = [.5, .5]\n",
        "\n",
        "# Then multiply it by a scalar\n",
        "\n",
        "green = np.multiply(2, blue)\n",
        "\n",
        "red = np.multiply(math.pi, blue)\n",
        "\n",
        "orange = np.multiply(-0.5, blue)\n",
        "\n",
        "# Plot the Scaled Vectors\n",
        "plt.arrow(0,0, red[0], red[1],head_width=.05, head_length=0.05, color ='red')\n",
        "plt.arrow(0,0, green[0], green[1],head_width=.05, head_length=0.05, color ='green')\n",
        "plt.arrow(0,0, blue[0], blue[1],head_width=.05, head_length=0.05, color ='blue')\n",
        "plt.arrow(0,0, orange[0], orange[1],head_width=.05, head_length=0.05, color ='orange')\n",
        "plt.xlim(-1,2)          \n",
        "plt.ylim(-1,2)\n",
        "plt.title(\"Scaled Vectors\")\n",
        "plt.show()"
      ],
      "execution_count": 3,
      "outputs": [
        {
          "output_type": "display_data",
          "data": {
            "image/png": "[encoded data removed]",
            "text/plain": [
              "<Figure size 432x288 with 1 Axes>"
            ]
          },
          "metadata": {
            "tags": [],
            "needs_background": "light"
          }
        }
      ]
    },
    {
      "cell_type": "code",
      "metadata": {
        "id": "COePyv9DCFgB",
        "colab_type": "code",
        "colab": {
          "base_uri": "https://localhost:8080/",
          "height": 298
        },
        "outputId": "13e6f1d7-1860-4043-b2f7-4202ca366927"
      },
      "source": [
        "# Plotting Vectors\n",
        "yellow = np.array([[.5, .5]])\n",
        "red = np.array([[.2, .1]])\n",
        "blue = np.array([[.1, .3]])\n",
        "\n",
        "# Coordinate Pairs for where the arrowheads are\n",
        "# yellow = (.5, .5)\n",
        "# red = (.2, .1)\n",
        "# blue = (.1, .3)\n",
        "\n",
        "plt.arrow(0, 0, .5, .5, head_width=0.02, head_length=0.01, color='y')\n",
        "# can also do:\n",
        "# plt.arrow(0, 0, yellow[0][0], yellow[0][1])\n",
        "plt.arrow(0, 0, 0.1, 0.3, head_width=0.02, head_length=0.01, color='b')\n",
        "plt.arrow(0, 0, 0.2, 0.1, head_width=0.02, head_length=0.01, color='r')\n",
        "\n",
        "\n",
        "plt.title('Vector Examples')\n",
        "plt.show"
      ],
      "execution_count": null,
      "outputs": [
        {
          "output_type": "execute_result",
          "data": {
            "text/plain": [
              "<function matplotlib.pyplot.show>"
            ]
          },
          "metadata": {
            "tags": []
          },
          "execution_count": 32
        },
        {
          "output_type": "display_data",
          "data": {
            "image/png": "[encoded data removed]",
            "text/plain": [
              "<Figure size 432x288 with 1 Axes>"
            ]
          },
          "metadata": {
            "tags": [],
            "needs_background": "light"
          }
        }
      ]
    },
    {
      "cell_type": "code",
      "metadata": {
        "id": "hF1kRxu6CKtG",
        "colab_type": "code",
        "colab": {
          "base_uri": "https://localhost:8080/",
          "height": 248
        },
        "outputId": "7917dc98-b05e-4ec4-ab6e-bcda8f60b84f"
      },
      "source": [
        "# Plotting in 3D\n",
        "\n",
        "from mpl_toolkits.mplot3d import Axes3D\n",
        "import numpy as np\n",
        "\n",
        "yellow = [.5, .5, .5]\n",
        "red = [.2, .1, .0]\n",
        "blue = [.1, .3, .3]\n",
        "\n",
        "vectors = np.array([[0, 0, 0, .5, .5, .5], \n",
        "                    [0, 0, 0, .2, .1, .0],\n",
        "                    [0, 0, 0, .1, .3, .3]])\n",
        "\n",
        "X, Y, Z, U, V, W = zip(*vectors)\n",
        "fig = plt.figure()\n",
        "ax = fig.add_subplot(111, projection='3d')\n",
        "ax.quiver(X, Y, Z, U, V, W, length=1)\n",
        "ax.set_xlim([0, 1])\n",
        "ax.set_ylim([0, 1])\n",
        "ax.set_zlim([0, 1])\n",
        "ax.set_xlabel('X')\n",
        "ax.set_ylabel('Y')\n",
        "ax.set_zlabel('Z')\n",
        "plt.show()"
      ],
      "execution_count": null,
      "outputs": [
        {
          "output_type": "display_data",
          "data": {
            "image/png": "[encoded data removed]",
            "text/plain": [
              "<Figure size 432x288 with 1 Axes>"
            ]
          },
          "metadata": {
            "tags": [],
            "needs_background": "light"
          }
        }
      ]
    },
    {
      "cell_type": "markdown",
      "metadata": {
        "id": "0j15soxH6ujQ",
        "colab_type": "text"
      },
      "source": [
        "### Norm of a Vector (Magnitude or Length)\n",
        "\n",
        "The **Norm** or **Magnitude** of a vector is nothing more than the **length** of the vector.\n",
        "\n",
        "\n",
        "- We denote the norm of a vector by wrapping it in double pipes (like double absolute value signs):\n",
        "\n",
        "Written: $||v||$ "
      ]
    },
    {
      "cell_type": "markdown",
      "metadata": {
        "id": "f6lwR9Nz9MJW",
        "colab_type": "text"
      },
      "source": [
        "- Since a vector is just a line (essentially) if you treat it as the hypotenuse of a triangle you could use the pythagorean theorem to find the equation for the norm of a vector.\n",
        "\n",
        "- We're essentially just generalizing the equation for the hypotenuse of a triangle that results from the pythagorean theorem to $n$ dimensional space.\n",
        "\n",
        "\\begin{align}\n",
        "||v|| = \n",
        "\\sqrt{v_{1}^2 + v_{2}^2 + \\ldots + v_{n}^2}\n",
        "\\\\\n",
        "\\vec{a} = \n",
        "\\begin{bmatrix}\n",
        "3 & 7 & 2 & 4\n",
        "\\end{bmatrix}\n",
        "\\\\\n",
        "||a|| = \\sqrt{3^2 + 7^2 + 2^2 + 4^2} \\\\\n",
        "||a|| = \\sqrt{9 + 49 + 4 + 16} \\\\\n",
        "||a|| = \\sqrt{78}\n",
        "\\end{align}\n",
        "\n",
        "- The Norm is the square root of the sum of the squared elements of a vector.\n",
        "\n",
        "- Properties of the Norm:\n",
        "\n",
        "  - The norm is always positive or zero $||x|| \\geq 0$ \n",
        "\n",
        "  - The norm is only equal to zero if all of the elements of the vector are zero.\n",
        "\n",
        "  - The Triangle Inequality: $|| x + y ||\\leq ||x|| + ||y||$"
      ]
    },
    {
      "cell_type": "markdown",
      "metadata": {
        "id": "IUmSOT3PCaTo",
        "colab_type": "text"
      },
      "source": [
        "**The Equation for the norm of a vector is just Pythagorean Theorem extended to more than two dimensions**:\n",
        "\n",
        "$a^2 + b^2 = c^2$\n",
        "\n",
        "a = one side of a right triangle\n",
        "\n",
        "b = the other side\n",
        "\n",
        "c = the \"hypotenuse\" of a right triangle (We consider the vector that we're looking at to be the hypotenuse of a triangle\n",
        "\n",
        "![Pythagorean Theorem](http://mathworld.wolfram.com/images/eps-gif/PythagoreanTheoremFigure_1000.gif)\n",
        "\n",
        "$c = \\sqrt{a^2 + b^2}$"
      ]
    },
    {
      "cell_type": "code",
      "metadata": {
        "id": "Fr43SJ2KjOyC",
        "colab_type": "code",
        "colab": {
          "base_uri": "https://localhost:8080/",
          "height": 51
        },
        "outputId": "258c71c3-c2a2-451a-ecf2-336a6d2bae37"
      },
      "source": [
        "h = np.array([[1],\n",
        "             [1],\n",
        "             [1],\n",
        "             [8]])\n",
        "\n",
        "j = np.array([[3],\n",
        "              [3],\n",
        "              [3],\n",
        "              [3]])\n",
        "\n",
        "# using the norm method\n",
        "norm_h = np.linalg.norm(h)\n",
        "norm_j = np.linalg.norm(j)\n",
        "\n",
        "print(norm_h)\n",
        "print(norm_j)"
      ],
      "execution_count": null,
      "outputs": [
        {
          "output_type": "stream",
          "text": [
            "8.18535277187245\n",
            "6.0\n"
          ],
          "name": "stdout"
        }
      ]
    },
    {
      "cell_type": "markdown",
      "metadata": {
        "id": "gRDqhvVT681g",
        "colab_type": "text"
      },
      "source": [
        "### Dot Product\n",
        "\n",
        "The dot product of two vectors $\\vec{a}$ and $\\vec{b}$ is a...\n",
        "\n",
        "\\begin{align} \\vec{a} \\cdot \\vec{b} = (a_{1} \\times b_{1}) + (a_{2} \\times b_{2}) + \\ldots + ( a_{n} \\times b_{n}) \\end{align}\n",
        "\n",
        "Example:\n",
        "\n",
        "\\begin{align}\n",
        "\\vec{a} = \n",
        "\\begin{bmatrix}\n",
        "3 & 7 & 2 & 4\n",
        "\\end{bmatrix}\n",
        "\\qquad\n",
        "\\vec{b} = \n",
        "\\begin{bmatrix}\n",
        "4 & 1 & 12 & 6\n",
        "\\end{bmatrix}\n",
        "\\end{align}\n",
        "\n",
        "The dot product of two vectors would be:\n",
        "\\begin{align}\n",
        "a \\cdot b = (3)(4) + (7)(1) + (2)(12) + (4)(6) \\\\ \n",
        "= 12 + 7 + 24 + 24  \\\\\n",
        "= 67\n",
        "\\end{align}\n",
        "\n",
        "The dot product is commutative: $ a \\cdot b = b \\cdot a$\n",
        "\n",
        "The dot product is distributive: $a \\cdot (b + c) = a \\cdot b + a \\cdot c$\n",
        "\n",
        "Two vectors must have the same number of components in order for the dot product to exist. If they lengths differ the dot product is undefined."
      ]
    },
    {
      "cell_type": "markdown",
      "metadata": {
        "id": "iqjRIRFItg3X",
        "colab_type": "text"
      },
      "source": [
        "**Follow Along**\n",
        "\n",
        "Lets calculate a dot product. What do we need to do? We need to multiply two vectors \"element-wise\" and them sum up all of those products"
      ]
    },
    {
      "cell_type": "code",
      "metadata": {
        "id": "ZcGlUN55qoGt",
        "colab_type": "code",
        "colab": {
          "base_uri": "https://localhost:8080/",
          "height": 51
        },
        "outputId": "adfc5328-2a42-42b4-c51a-e7d8a045cc18"
      },
      "source": [
        "# Find the dot product of vectors a and b\n",
        "\n",
        "a = np.array([7, 22, 4, 16])\n",
        "b = np.array([12, 6, 2, 9])\n",
        "\n",
        "# Dot Product\n",
        "print(\"Dot product: \", (a * b).sum())\n",
        "\n",
        "# using the numpy method\n",
        "print(\"Dot product: \", np.dot(a, b))"
      ],
      "execution_count": null,
      "outputs": [
        {
          "output_type": "stream",
          "text": [
            "Dot product:  368\n",
            "Dot product:  368\n"
          ],
          "name": "stdout"
        }
      ]
    },
    {
      "cell_type": "markdown",
      "metadata": {
        "id": "p1BE4P3lnr1-",
        "colab_type": "text"
      },
      "source": [
        "We can also use provided linear algebra functions from the [np.linalg](https://docs.scipy.org/doc/numpy-1.15.1/reference/routines.linalg.html) documentation in order to perform Linear Algebra processes."
      ]
    },
    {
      "cell_type": "markdown",
      "metadata": {
        "id": "K7Ah6ZU5mXbt",
        "colab_type": "text"
      },
      "source": [
        "### Cross Product\n",
        "\n",
        "- A measure of difference of the vectors\n",
        "\n",
        "Notation: $\\vec{a} \\times \\vec{b}$\n",
        "\n",
        "np.cross"
      ]
    },
    {
      "cell_type": "markdown",
      "metadata": {
        "id": "B6bWZVc6JkiX",
        "colab_type": "text"
      },
      "source": [
        "## Matrices\n",
        "\n",
        "A matrix is a rectangular grid of numbers arranged in rows and columns. Variables that represent matrices are typically written as capital letters (boldfaced as well if you want to be super formal)."
      ]
    },
    {
      "cell_type": "markdown",
      "metadata": {
        "id": "_Ud_7rF-TrUd",
        "colab_type": "text"
      },
      "source": [
        "### Matrix Dimensionality\n",
        "\n",
        "The number of rows and columns that a matrix has is called its **dimension**.\n",
        "\n",
        "When listing the dimension of a matrix we always list rows first and then columns. \n",
        "\n",
        "The dimension of matrix A is 3x3. (Note: This is read \"Three by Three\", the 'x' isn't a multiplication sign.)\n",
        "\n",
        "What is the Dimension of Matrix B?"
      ]
    },
    {
      "cell_type": "markdown",
      "metadata": {
        "id": "_nFQuzwpDkgi",
        "colab_type": "text"
      },
      "source": [
        "### Matrix Equality\n",
        "\n",
        "In order for two Matrices to be equal the following conditions must be true:\n",
        "\n",
        "1) They must have the same dimensions.\n",
        "\n",
        "2) Corresponding elements must be equal.\n",
        "\n",
        "\\begin{align}\n",
        "    \\begin{bmatrix}\n",
        "           1 & 4\\\\\n",
        "           2 & 5\\\\\n",
        "           3 & 6 \n",
        "    \\end{bmatrix} \n",
        "    \\neq\n",
        "    \\begin{bmatrix}\n",
        "           1 & 2 & 3\\\\\n",
        "           4 & 5 & 6\n",
        "    \\end{bmatrix}\n",
        "\\end{align}"
      ]
    },
    {
      "cell_type": "markdown",
      "metadata": {
        "id": "EpmtZFFTDoqh",
        "colab_type": "text"
      },
      "source": [
        "### Matrix Multiplication\n",
        "\n",
        "You can multipy any two matrices where the number of  columns of the first matrix is equal to the number of rows of the second matrix.\n",
        "\n",
        "The unused dimensions of the factor matrices tell you what the dimensions of the product matrix will be.\n",
        "\n",
        "![Matrix Multiplication Dimensions](https://encrypted-tbn0.gstatic.com/images?q=tbn:ANd9GcRunZv20HXxTMUgrkfdER06lPnMj0HpwDU_2i4IEHsBM5098440Jw)\n",
        "\n",
        "There is no commutative property of matrix multiplication (you can't switch the order of the matrices and always get the same result). \n",
        "\n",
        "Matrix multiplication is best understood in terms of the dot product. Remember:\n",
        "\n",
        "\\begin{align} \\vec{a} \\cdot \\vec{b} = (a_{1} \\times b_{1}) + (a_{2} \\times b_{2}) + \\ldots + ( a_{n} \\times b_{n}) \\end{align}\n",
        "\n",
        "To multiply to matrices together, we will take the dot product of each row of the first matrix with each column of the second matrix. The position of the resulting entries will correspond to the row number and column number of the row and column vector that were used to find that scalar. Lets look at an example to make this more clear.\n",
        "\n",
        "![Dot Product Matrix Multiplication](https://www.mathsisfun.com/algebra/images/matrix-multiply-a.svg)\n",
        "\n",
        "\\begin{align}\n",
        "\\begin{bmatrix}\n",
        "1 & 2 & 3 \\\\\n",
        "4 & 5 & 6\n",
        "\\end{bmatrix} \n",
        "\\begin{bmatrix}\n",
        "7 & 8 \\\\\n",
        "9 & 10 \\\\\n",
        "11 & 12\n",
        "\\end{bmatrix} \n",
        "=\n",
        "\\begin{bmatrix}\n",
        "(1)(7)+(2)(9)+(3)(11) & (1)(8)+(2)(10)+(3)(12)\\\\\n",
        "(4)(7)+(5)(9)+(6)(11) & (4)(8)+(5)(10)+(6)(12)\n",
        "\\end{bmatrix}\n",
        "=\n",
        "\\begin{bmatrix}\n",
        "(7)+(18)+(33) & (8)+(20)+(36)\\\\\n",
        "(28)+(45)+(66) & (32)+(50)+(72)\n",
        "\\end{bmatrix}\n",
        "=\n",
        "\\begin{bmatrix}\n",
        "58 & 64\\\\\n",
        "139 & 154\n",
        "\\end{bmatrix}\n",
        "\\end{align}"
      ]
    },
    {
      "cell_type": "code",
      "metadata": {
        "id": "R8-wwG1AoTKa",
        "colab_type": "code",
        "colab": {
          "base_uri": "https://localhost:8080/",
          "height": 51
        },
        "outputId": "9ecc1f82-bcf4-44e2-9bda-39160a3e2b5e"
      },
      "source": [
        "# matrices are represented by capital letters\n",
        "\n",
        "A = np.array([[9, 6, 3], [4, 7, 11]])\n",
        "# 2 by 3\n",
        "\n",
        "B = np.array([[1, 0, 0], [0, 1, 0], [0, 0, 1]])\n",
        "# 3 by 3\n",
        "\n",
        "# using the matmul method\n",
        "\n",
        "np.matmul(A, B)\n",
        "# resulting matrix is 2 by 3"
      ],
      "execution_count": null,
      "outputs": [
        {
          "output_type": "execute_result",
          "data": {
            "text/plain": [
              "array([[ 9,  6,  3],\n",
              "       [ 4,  7, 11]])"
            ]
          },
          "metadata": {
            "tags": []
          },
          "execution_count": 42
        }
      ]
    },
    {
      "cell_type": "markdown",
      "metadata": {
        "id": "zUHeGSPGDsR8",
        "colab_type": "text"
      },
      "source": [
        "## Transpose\n",
        "\n",
        "A transposed matrix is one whose rows are the columns of the original and whose columns are the rows of the original.\n",
        "\n",
        "Common notation for the transpose of a matrix is to have a capital $T$ superscript or a tick mark:\n",
        "\n",
        "\\begin{align}\n",
        "B^{T}\n",
        "\\qquad\n",
        "B^{\\prime}\n",
        "\\end{align}\n",
        "\n",
        "The first is read \"B transpose\" the second is sometimes read as \"B prime\" but can also be read as \"B transpose\".\n",
        "\n",
        "The transpose of any matrix can be found easily by fixing the elements on the main diagonal and flipping the placement of all other elements across that diagonal.\n",
        "\n",
        "![Matrix Transpose](http://xaktly.com/Images/Mathematics/MatrixAlgebra/MatrixOperations/MatrixTranspose.png)\n",
        "  \n",
        "\\begin{align}\n",
        "  B = \n",
        "\\begin{bmatrix}\n",
        "  1 & 2 & 3 \\\\\n",
        "  4 & 5 & 6\n",
        "\\end{bmatrix}\n",
        "  \\qquad\n",
        "  B^{T} = \n",
        "  \\begin{bmatrix}\n",
        "  1 & 4 \\\\\n",
        "  2 & 5 \\\\\n",
        "  3 & 6\n",
        "  \\end{bmatrix}\n",
        "\\end{align}\n",
        "\n",
        "![Matrix Transpose](https://upload.wikimedia.org/wikipedia/commons/e/e4/Matrix_transpose.gif)"
      ]
    },
    {
      "cell_type": "code",
      "metadata": {
        "id": "jLTfBIRqDxtS",
        "colab_type": "code",
        "colab": {
          "base_uri": "https://localhost:8080/",
          "height": 138
        },
        "outputId": "9a98b11a-d2de-4d6e-9c44-2a4564e03ed9"
      },
      "source": [
        "df"
      ],
      "execution_count": null,
      "outputs": [
        {
          "output_type": "execute_result",
          "data": {
            "text/html": [
              "<div>\n",
              "<style scoped>\n",
              "    .dataframe tbody tr th:only-of-type {\n",
              "        vertical-align: middle;\n",
              "    }\n",
              "\n",
              "    .dataframe tbody tr th {\n",
              "        vertical-align: top;\n",
              "    }\n",
              "\n",
              "    .dataframe thead th {\n",
              "        text-align: right;\n",
              "    }\n",
              "</style>\n",
              "<table border=\"1\" class=\"dataframe\">\n",
              "  <thead>\n",
              "    <tr style=\"text-align: right;\">\n",
              "      <th></th>\n",
              "      <th>a</th>\n",
              "      <th>b</th>\n",
              "    </tr>\n",
              "  </thead>\n",
              "  <tbody>\n",
              "    <tr>\n",
              "      <th>0</th>\n",
              "      <td>1</td>\n",
              "      <td>4</td>\n",
              "    </tr>\n",
              "    <tr>\n",
              "      <th>1</th>\n",
              "      <td>2</td>\n",
              "      <td>5</td>\n",
              "    </tr>\n",
              "    <tr>\n",
              "      <th>2</th>\n",
              "      <td>3</td>\n",
              "      <td>6</td>\n",
              "    </tr>\n",
              "  </tbody>\n",
              "</table>\n",
              "</div>"
            ],
            "text/plain": [
              "   a  b\n",
              "0  1  4\n",
              "1  2  5\n",
              "2  3  6"
            ]
          },
          "metadata": {
            "tags": []
          },
          "execution_count": 33
        }
      ]
    },
    {
      "cell_type": "code",
      "metadata": {
        "id": "v31YheDkDyPC",
        "colab_type": "code",
        "colab": {
          "base_uri": "https://localhost:8080/",
          "height": 108
        },
        "outputId": "03feef30-301e-4146-99b1-2d2201ca7dce"
      },
      "source": [
        "# Transposing a dataframe switches its rows and columns\n",
        "df.T"
      ],
      "execution_count": null,
      "outputs": [
        {
          "output_type": "execute_result",
          "data": {
            "text/html": [
              "<div>\n",
              "<style scoped>\n",
              "    .dataframe tbody tr th:only-of-type {\n",
              "        vertical-align: middle;\n",
              "    }\n",
              "\n",
              "    .dataframe tbody tr th {\n",
              "        vertical-align: top;\n",
              "    }\n",
              "\n",
              "    .dataframe thead th {\n",
              "        text-align: right;\n",
              "    }\n",
              "</style>\n",
              "<table border=\"1\" class=\"dataframe\">\n",
              "  <thead>\n",
              "    <tr style=\"text-align: right;\">\n",
              "      <th></th>\n",
              "      <th>0</th>\n",
              "      <th>1</th>\n",
              "      <th>2</th>\n",
              "    </tr>\n",
              "  </thead>\n",
              "  <tbody>\n",
              "    <tr>\n",
              "      <th>a</th>\n",
              "      <td>1</td>\n",
              "      <td>2</td>\n",
              "      <td>3</td>\n",
              "    </tr>\n",
              "    <tr>\n",
              "      <th>b</th>\n",
              "      <td>4</td>\n",
              "      <td>5</td>\n",
              "      <td>6</td>\n",
              "    </tr>\n",
              "  </tbody>\n",
              "</table>\n",
              "</div>"
            ],
            "text/plain": [
              "   0  1  2\n",
              "a  1  2  3\n",
              "b  4  5  6"
            ]
          },
          "metadata": {
            "tags": []
          },
          "execution_count": 34
        }
      ]
    },
    {
      "cell_type": "markdown",
      "metadata": {
        "id": "1ljuvruQJrFt",
        "colab_type": "text"
      },
      "source": [
        "## Square Matrices\n",
        "\n",
        "In a traditional linear algebra class after the first few weeks you would deal almost exclusively with square matrices. They have very nice properties that their lopsided sisters and brothers just don't possess. \n",
        "\n",
        "A square matrix is any matrix that has the same number of rows as columns:\n",
        "\n",
        "\\begin{align}\n",
        "A =\n",
        "\\begin{bmatrix}\n",
        "  a_{1,1}\n",
        "\\end{bmatrix}\n",
        "\\qquad\n",
        "B =\n",
        "\\begin{bmatrix}\n",
        "b_{1,1} & b_{1,2} \\\\\n",
        "b_{2,1} & b_{2,2}\n",
        "\\end{bmatrix}\n",
        "\\qquad\n",
        "C =\n",
        "\\begin{bmatrix}\n",
        "c_{1,1} & c_{1,2} & c_{1,3} \\\\\n",
        "c_{2,1} & c_{2,2} & c_{2,3} \\\\\n",
        "c_{3,1} & c_{3,2} & c_{3,3} \n",
        "\\end{bmatrix}\n",
        "\\end{align}"
      ]
    },
    {
      "cell_type": "markdown",
      "metadata": {
        "id": "RcB6ruT3AYUt",
        "colab_type": "text"
      },
      "source": [
        "### Special Kinds of Square Matrices\n",
        "\n",
        "**Diagonal:** Values on the main diagonal, zeroes everywhere else.\n",
        "\n",
        "\\begin{align}\n",
        "A =\n",
        "\\begin{bmatrix}\n",
        "a_{1,1} & 0 & 0 \\\\\n",
        "0 & a_{2,2} & 0 \\\\\n",
        "0 & 0 & a_{3,3} \n",
        "\\end{bmatrix}\n",
        "\\end{align}\n",
        "\n",
        "**Upper Triangular:** Values on and above the main diagonal, zeroes everywhere else.\n",
        "\n",
        "\\begin{align}\n",
        "B =\n",
        "\\begin{bmatrix}\n",
        "b_{1,1} & b_{1,2} & b_{1,3} \\\\\n",
        "0 & b_{2,2} & b_{2,3} \\\\\n",
        "0 & 0 & b_{3,3} \n",
        "\\end{bmatrix}\n",
        "\\end{align}\n",
        "\n",
        "**Lower Triangular:** Values on and below the main diagonal, zeroes everywhere else.\n",
        "\n",
        "\\begin{align}\n",
        "C =\n",
        "\\begin{bmatrix}\n",
        "c_{1,1} & 0 & 0 \\\\\n",
        "c_{2,1} & c_{2,2} & 0 \\\\\n",
        "c_{3,1} & c_{3,2} & c_{3,3} \n",
        "\\end{bmatrix}\n",
        "\\end{align}\n",
        "\n",
        "**Identity Matrix:** A diagonal matrix with ones on the main diagonal and zeroes everywhere else. The product of any square matrix and the identity matrix is the original square matrix $AI == A$. Also, any matrix multiplied by its inverse will give the identity matrix as its product.  $AA^{-1} = I$\n",
        "\n",
        "\\begin{align}\n",
        "D =\n",
        "\\begin{bmatrix}\n",
        "  1\n",
        "\\end{bmatrix}\n",
        "\\qquad\n",
        "E =\n",
        "\\begin{bmatrix}\n",
        "1 & 0 \\\\\n",
        "0 & 1\n",
        "\\end{bmatrix}\n",
        "\\qquad\n",
        "F =\n",
        "\\begin{bmatrix}\n",
        "1 & 0 & 0 \\\\\n",
        "0 & 1 & 0 \\\\\n",
        "0 & 0 & 1 \n",
        "\\end{bmatrix}\n",
        "\\end{align}\n",
        "\n",
        "**Symmetric:** The numbers above the main diagonal are mirrored below/across the main diagonal.\n",
        "\n",
        "\\begin{align}\n",
        "G =\n",
        "\\begin{bmatrix}\n",
        "1 & 4 & 5 \\\\\n",
        "4 & 2 & 6 \\\\\n",
        "5 & 6 & 3 \n",
        "\\end{bmatrix}\n",
        "\\end{align}\n",
        "\n",
        "\n"
      ]
    },
    {
      "cell_type": "markdown",
      "metadata": {
        "id": "jrx56SQRW7pl",
        "colab_type": "text"
      },
      "source": [
        "### Determinant\n",
        "\n",
        "The determinant is a property that all square matrices possess and is denoted $det(A)$ or using pipes (absolute value symbols) $|A|$\n",
        "\n",
        "The equation given for finding the determinant of a 2x2 matrix is as follows:\n",
        "\n",
        "\\begin{align}\n",
        "A = \\begin{bmatrix}\n",
        "a & b \\\\\n",
        "c & d\n",
        "\\end{bmatrix}\n",
        "\\qquad\n",
        "|A| = ad-bc\n",
        "\\end{align}\n",
        "\n",
        "The determinant of larger square matrices recursively by finding the determinats of the smaller matrics that make up the large matrix.\n",
        "\n",
        "For example:\n",
        "\n",
        "<center><img src=\"https://wikimedia.org/api/rest_v1/media/math/render/svg/14f2f2a449d6d152ee71261e47551aa0a31c801e\" width=500></center>\n",
        "\n",
        "The above equation is **very** similar to the equation that we use to find the cross-product of a 3x3 matrix. "
      ]
    },
    {
      "cell_type": "code",
      "metadata": {
        "id": "d8fW27Ctx7nL",
        "colab_type": "code",
        "colab": {
          "base_uri": "https://localhost:8080/",
          "height": 34
        },
        "outputId": "11c48d41-6262-4b6a-c237-6f16db47a7c8"
      },
      "source": [
        "P = np.array([[5,4], [5,2]])\n",
        "print(\"Determinant of P: \" + str(np.linalg.det(P)))"
      ],
      "execution_count": null,
      "outputs": [
        {
          "output_type": "stream",
          "text": [
            "Determinant of P: -9.999999999999998\n"
          ],
          "name": "stdout"
        }
      ]
    },
    {
      "cell_type": "markdown",
      "metadata": {
        "id": "ihd9Co1jgkuU",
        "colab_type": "text"
      },
      "source": [
        "**What leads to a 0 determinant?**\n",
        " \n",
        " A square matrix that has a determinant of 0 is known as a \"singular\" matrix. One thing that can lead to a matrix having a determinant of 0 is if two rows or columns in the matrix are perfectly collinear. Another way of saying this is that the determinant will be zero if the rows or columns of a matrix are not linearly dependent. \n",
        " \n",
        "One of the most common ways that a matrix can end up having rows that are linearly dependent is if one column a multiple of another column. Lets look at an example:\n",
        "\n",
        "\\begin{align}\n",
        "C =\\begin{bmatrix}\n",
        "  1 & 5 & 2 \\\\\n",
        "  2 & 7 & 4 \\\\\n",
        "  3 & 2 & 6\n",
        "\\end{bmatrix}\n",
        "\\end{align}\n",
        "\n",
        "Look at the columns of the above matrix, column 3 is exactly double column 1. (could be any multiple or fraction) Think about if you had some measure in a dataset of distance in miles, but then you also wanted to convert its units to feet, so you create another column and multiply the mile measure by 5,280 (Thanks Imperial System). But then you forget to drop one of the columns so you end up with two columns that are linearly dependent which causes the determinant of your dataframe to be 0 and will cause certain algorithms to fail. We'll go deeper into this concept next week (this can cause problems with linear regression) so just know that matrices that have columns that are a multiple or fraction of another column will cause the determinant of that matrix to be 0."
      ]
    },
    {
      "cell_type": "markdown",
      "metadata": {
        "id": "fBRh1YLyW-C_",
        "colab_type": "text"
      },
      "source": [
        "### Inverse\n",
        "\n",
        "There are multiple methods that we could use to find the inverse of a matrix by hand. I would suggest you explore those methods --if this content isn't already overwhelming enough. The inverse is like the reciprocal of the matrix that was used to generate it. Just like $\\frac{1}{8}$ is the reciprocal of 8, $A^{-1}$ acts like the reciprocal of $A$.  The equation for finding the determinant of a 2x2 matrix is as follows:\n",
        " \n",
        " \\begin{align}\n",
        "A = \\begin{bmatrix}\n",
        "a & b \\\\\n",
        "c & d\n",
        "\\end{bmatrix}\n",
        "\\qquad\n",
        "A^{-1} = \\frac{1}{ad-bc}\\begin{bmatrix}\n",
        "d & -b\\\\\n",
        "-c & a\n",
        "\\end{bmatrix}\n",
        "\\end{align}"
      ]
    },
    {
      "cell_type": "markdown",
      "metadata": {
        "id": "oSoPNVMeFVsP",
        "colab_type": "text"
      },
      "source": [
        "**Not all matrices are invertible**\n",
        "\n",
        "Matrices that are not square are not invertible.\n",
        " \n",
        " A matrix is invertible if and only if its determinant is non-zero. You'll notice that the fraction on the left side of the matrix is $\\frac{1}{det(A)}$.\n",
        " \n",
        " As you know, dividing anything by 0 leads to an undefined quotient. Therefore, if the determinant of a matrix is 0, then the entire inverse becomes undefined. "
      ]
    },
    {
      "cell_type": "code",
      "metadata": {
        "id": "QjYQMp2ku_tT",
        "colab_type": "code",
        "colab": {
          "base_uri": "https://localhost:8080/",
          "height": 68
        },
        "outputId": "dc081a9a-57a1-4c6c-fd63-98abdebec4e6"
      },
      "source": [
        "L = np.array([[0, 1, 2], \n",
        "              [7, 10, 4], \n",
        "              [3, 2, 0]])\n",
        "\n",
        "L_inverse = np.linalg.inv(L)\n",
        "\n",
        "L_inverse"
      ],
      "execution_count": 6,
      "outputs": [
        {
          "output_type": "execute_result",
          "data": {
            "text/plain": [
              "array([[ 0.4 , -0.2 ,  0.8 ],\n",
              "       [-0.6 ,  0.3 , -0.7 ],\n",
              "       [ 0.8 , -0.15,  0.35]])"
            ]
          },
          "metadata": {
            "tags": []
          },
          "execution_count": 6
        }
      ]
    },
    {
      "cell_type": "code",
      "metadata": {
        "id": "0P8FXm00vbzb",
        "colab_type": "code",
        "colab": {
          "base_uri": "https://localhost:8080/",
          "height": 68
        },
        "outputId": "521e6c76-31a0-4c3e-f5a8-6a248d4b8d20"
      },
      "source": [
        "np.matmul(L, L_inverse).round(5)"
      ],
      "execution_count": 8,
      "outputs": [
        {
          "output_type": "execute_result",
          "data": {
            "text/plain": [
              "array([[ 1., -0.,  0.],\n",
              "       [ 0.,  1.,  0.],\n",
              "       [ 0.,  0.,  1.]])"
            ]
          },
          "metadata": {
            "tags": []
          },
          "execution_count": 8
        }
      ]
    }
  ]
}