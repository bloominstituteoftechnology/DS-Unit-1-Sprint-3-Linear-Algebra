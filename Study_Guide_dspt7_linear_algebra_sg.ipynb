{
  "nbformat": 4,
  "nbformat_minor": 0,
  "metadata": {
    "colab": {
      "name": "Study Guide dspt7-linear-algebra-sg.ipynb",
      "provenance": [],
      "include_colab_link": true
    },
    "kernelspec": {
      "name": "python3",
      "display_name": "Python 3"
    }
  },
  "cells": [
    {
      "cell_type": "markdown",
      "metadata": {
        "id": "view-in-github",
        "colab_type": "text"
      },
      "source": [
        "<a href=\"https://colab.research.google.com/github/sampath11/DS-Unit-1-Sprint-3-Linear-Algebra/blob/master/Study_Guide_dspt7_linear_algebra_sg.ipynb\" target=\"_parent\"><img src=\"https://colab.research.google.com/assets/colab-badge.svg\" alt=\"Open In Colab\"/></a>"
      ]
    },
    {
      "cell_type": "markdown",
      "metadata": {
        "id": "GNU2zVjEjc2y",
        "colab_type": "text"
      },
      "source": [
        "## Vectors and Matrices"
      ]
    },
    {
      "cell_type": "code",
      "metadata": {
        "id": "1pFvnbPseJZW",
        "colab_type": "code",
        "colab": {}
      },
      "source": [
        "# Very useful math library\n",
        "import numpy as np\n"
      ],
      "execution_count": 0,
      "outputs": []
    },
    {
      "cell_type": "code",
      "metadata": {
        "id": "vQcUz8c0eaL-",
        "colab_type": "code",
        "outputId": "901dfc46-c551-4009-fb71-5c97036d337f",
        "colab": {
          "base_uri": "https://localhost:8080/",
          "height": 53
        }
      },
      "source": [
        "# The difference between a ndarray (Multidimensional)\n",
        "# and an array (1 dimensional)\n",
        "array_1d = np.array([1,2,3])\n",
        "array_2d = np.array([[1,2,3]])\n",
        "\n",
        "print(array_1d.shape)\n",
        "print(array_2d.shape)\n"
      ],
      "execution_count": 0,
      "outputs": [
        {
          "output_type": "stream",
          "text": [
            "(3,)\n",
            "(1, 3)\n"
          ],
          "name": "stdout"
        }
      ]
    },
    {
      "cell_type": "markdown",
      "metadata": {
        "id": "BLeNdH6sfcwk",
        "colab_type": "text"
      },
      "source": [
        "In the `array_1d`, we can see that it has only 1 value for shape. That value is the number of _elements_ in the array. This type of array has no **rows** or **columns**.\n",
        "\n",
        "In the `array_2d`, the first value in it's shape is the number of **rows**, the second being the number of **columns**."
      ]
    },
    {
      "cell_type": "code",
      "metadata": {
        "id": "fkycf9Teeynb",
        "colab_type": "code",
        "colab": {}
      },
      "source": [
        "# Try to answer these questions on your own:"
      ],
      "execution_count": 0,
      "outputs": []
    },
    {
      "cell_type": "markdown",
      "metadata": {
        "id": "lyGTIuLegD5K",
        "colab_type": "text"
      },
      "source": [
        "1. What is a unit vector?\n",
        "\n",
        "    _your words_\n",
        "\n",
        "1. What does Orthogonal mean?\n",
        "\n",
        "    _your words_\n",
        "\n",
        "1. How can you tell if any given vectors are Orthogonal?\n",
        "\n",
        "    _your words_\n",
        "\n",
        "1. What defines a square matrix?\n",
        "\n",
        "    _your words_\n",
        "\n",
        "1. What condition must be satisfied for _Matrix Multiplication_ to be legal?\n",
        "\n",
        "    _your words_\n",
        "\n",
        "1. What is a scalar?\n",
        "\n",
        "    _your words_\n",
        "\n",
        "1. What is the special name for a sqaure matrix with 1's down the main diagnal, and 0's everywhere else?\n",
        "\n",
        "    _your words_\n",
        "\n",
        "1. How is the inverse of a matrix $ A^{-1} $ special?\n",
        "\n",
        "    _your words_\n",
        "\n"
      ]
    },
    {
      "cell_type": "code",
      "metadata": {
        "id": "IRowfnFJkAM7",
        "colab_type": "code",
        "colab": {}
      },
      "source": [
        "# Demonstrate a Scalar"
      ],
      "execution_count": 0,
      "outputs": []
    },
    {
      "cell_type": "code",
      "metadata": {
        "id": "cENsheiwkGgy",
        "colab_type": "code",
        "colab": {}
      },
      "source": [
        "# Graph the vectors [1, 2] and [2, -1].\n",
        "import matplotlib.pyplot as plt"
      ],
      "execution_count": 0,
      "outputs": []
    },
    {
      "cell_type": "code",
      "metadata": {
        "id": "9dVOoVROk0RL",
        "colab_type": "code",
        "colab": {}
      },
      "source": [
        "# Are the above vectors Orthogonal?\n",
        "# Show your thinking..."
      ],
      "execution_count": 0,
      "outputs": []
    },
    {
      "cell_type": "code",
      "metadata": {
        "id": "Lnokx__RlARn",
        "colab_type": "code",
        "colab": {}
      },
      "source": [
        "# Find the determinant of A\n",
        "A = np.array([[1, 2],\n",
        "              [4, 8]])"
      ],
      "execution_count": 0,
      "outputs": []
    },
    {
      "cell_type": "code",
      "metadata": {
        "id": "psWuwZf0lR8E",
        "colab_type": "code",
        "colab": {}
      },
      "source": [
        "# Find the inverse of A"
      ],
      "execution_count": 0,
      "outputs": []
    },
    {
      "cell_type": "code",
      "metadata": {
        "id": "eL60naCTlTzD",
        "colab_type": "code",
        "colab": {}
      },
      "source": [
        "# Show what happens when you multiply a matrix by it's inverse."
      ],
      "execution_count": 0,
      "outputs": []
    },
    {
      "cell_type": "code",
      "metadata": {
        "id": "xqP-jePyl2Mj",
        "colab_type": "code",
        "colab": {}
      },
      "source": [
        "# What is the rank of A? Why?"
      ],
      "execution_count": 0,
      "outputs": []
    },
    {
      "cell_type": "markdown",
      "metadata": {
        "id": "4v74AYKDjbJP",
        "colab_type": "text"
      },
      "source": [
        "## Dimensionality Reduction"
      ]
    },
    {
      "cell_type": "code",
      "metadata": {
        "id": "9vZSA4O_gCI7",
        "colab_type": "code",
        "colab": {}
      },
      "source": [
        "# Why would you want to reduce dimensionality?"
      ],
      "execution_count": 0,
      "outputs": []
    },
    {
      "cell_type": "code",
      "metadata": {
        "id": "8Dk3tArjnFfD",
        "colab_type": "code",
        "colab": {}
      },
      "source": [
        "# What is the Curse of Dimensionality?"
      ],
      "execution_count": 0,
      "outputs": []
    },
    {
      "cell_type": "code",
      "metadata": {
        "id": "uVmqk466nHlO",
        "colab_type": "code",
        "colab": {}
      },
      "source": [
        "# How many rows should you have for every column?"
      ],
      "execution_count": 0,
      "outputs": []
    },
    {
      "cell_type": "markdown",
      "metadata": {
        "id": "AdXkCkKimGzH",
        "colab_type": "text"
      },
      "source": [
        "_your words_"
      ]
    },
    {
      "cell_type": "code",
      "metadata": {
        "id": "h_A_AKrbmGEK",
        "colab_type": "code",
        "colab": {}
      },
      "source": [
        "# Do a 2 component PCA on matrix X\n",
        "# Print the 2 principal components.\n",
        "from sklearn.decomposition import PCA\n",
        "\n",
        "X = np.array([[4, 7, 9], \n",
        "              [2, 5, 3], \n",
        "              [8, 2, 7], \n",
        "              [3, 5, 9], \n",
        "              [6, 5, 4],\n",
        "              [7, 9, 2],\n",
        "              [4, 8, 5]])\n"
      ],
      "execution_count": 0,
      "outputs": []
    },
    {
      "cell_type": "code",
      "metadata": {
        "id": "EhuUZKo7oFQM",
        "colab_type": "code",
        "colab": {}
      },
      "source": [
        "# Graph the resulting 2 PC's, with PC1 being the x axis, and PC2 being the y"
      ],
      "execution_count": 0,
      "outputs": []
    },
    {
      "cell_type": "markdown",
      "metadata": {
        "id": "grVICxb3nSY5",
        "colab_type": "text"
      },
      "source": [
        "## Clustering"
      ]
    },
    {
      "cell_type": "code",
      "metadata": {
        "id": "fL-hWu0om3-_",
        "colab_type": "code",
        "colab": {}
      },
      "source": [
        "# Clustering is considered what type of Machine Learning?"
      ],
      "execution_count": 0,
      "outputs": []
    },
    {
      "cell_type": "code",
      "metadata": {
        "id": "H6EaWw80nXrl",
        "colab_type": "code",
        "colab": {}
      },
      "source": [
        "# Can you perform a Clustering operation without labels?"
      ],
      "execution_count": 0,
      "outputs": []
    },
    {
      "cell_type": "code",
      "metadata": {
        "id": "npOBOgwFnbSC",
        "colab_type": "code",
        "colab": {}
      },
      "source": [
        "# Perform a KMeans clustering on PC1 and PC2 from earlier.\n",
        "from sklearn.cluster import KMeans\n"
      ],
      "execution_count": 0,
      "outputs": []
    },
    {
      "cell_type": "code",
      "metadata": {
        "id": "g8kUuSKen3-K",
        "colab_type": "code",
        "colab": {}
      },
      "source": [
        "# Graph the result of your clustering"
      ],
      "execution_count": 0,
      "outputs": []
    }
  ]
}