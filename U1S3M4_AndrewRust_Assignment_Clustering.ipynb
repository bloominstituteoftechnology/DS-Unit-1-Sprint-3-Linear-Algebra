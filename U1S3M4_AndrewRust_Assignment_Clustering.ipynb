{
  "nbformat": 4,
  "nbformat_minor": 0,
  "metadata": {
    "colab": {
      "name": "U1S3M4_AndrewRust_Assignment_Clustering.ipynb",
      "provenance": [],
      "collapsed_sections": [],
      "include_colab_link": true
    },
    "kernelspec": {
      "name": "python3",
      "display_name": "Python 3"
    }
  },
  "cells": [
    {
      "cell_type": "markdown",
      "metadata": {
        "id": "view-in-github",
        "colab_type": "text"
      },
      "source": [
        "<a href=\"https://colab.research.google.com/github/DrewRust/DS-Unit-1-Sprint-3-Linear-Algebra/blob/master/U1S3M4_AndrewRust_Assignment_Clustering.ipynb\" target=\"_parent\"><img src=\"https://colab.research.google.com/assets/colab-badge.svg\" alt=\"Open In Colab\"/></a>"
      ]
    },
    {
      "cell_type": "markdown",
      "metadata": {
        "id": "y-3rVFtGLMJM",
        "colab_type": "text"
      },
      "source": [
        "# K-Means Clustering"
      ]
    },
    {
      "cell_type": "markdown",
      "metadata": {
        "id": "_VS3FFSFLR3a",
        "colab_type": "text"
      },
      "source": [
        "# 1) Use the \"Breast Cancer Wisconsin (Diagnostic) Data Set\" from Kaggle to try and cluster types of cancer cells. \n",
        "\n",
        "Here's the original dataset for your reference:\n",
        "\n",
        "<https://www.kaggle.com/uciml/breast-cancer-wisconsin-data>"
      ]
    },
    {
      "cell_type": "markdown",
      "metadata": {
        "id": "899RK3bBn4OE",
        "colab_type": "text"
      },
      "source": [
        "## This is a supervised learning dataset\n",
        "\n",
        "(Because it has **labels** - The \"diagnosis\" column.)"
      ]
    },
    {
      "cell_type": "code",
      "metadata": {
        "id": "ws5R9X6hLJQ2",
        "colab_type": "code",
        "outputId": "2e41ef48-c8cc-447f-e985-c970aff8ad59",
        "colab": {
          "base_uri": "https://localhost:8080/",
          "height": 249
        }
      },
      "source": [
        "import pandas as pd\n",
        "import numpy as np\n",
        "import matplotlib.pyplot as plt\n",
        "from sklearn.decomposition import PCA # You don't necessarily have to use this\n",
        "from sklearn.cluster import KMeans # You don't necessarily have to use this\n",
        "from sklearn.preprocessing import StandardScaler # You don't necessarily have to use this\n",
        "\n",
        "df = pd.read_csv(\"https://raw.githubusercontent.com/ryanleeallred/datasets/master/Cancer_Cells.csv\")\n",
        "print(df.shape)\n",
        "df.sample(5)"
      ],
      "execution_count": 174,
      "outputs": [
        {
          "output_type": "stream",
          "text": [
            "(569, 33)\n"
          ],
          "name": "stdout"
        },
        {
          "output_type": "execute_result",
          "data": {
            "text/html": [
              "<div>\n",
              "<style scoped>\n",
              "    .dataframe tbody tr th:only-of-type {\n",
              "        vertical-align: middle;\n",
              "    }\n",
              "\n",
              "    .dataframe tbody tr th {\n",
              "        vertical-align: top;\n",
              "    }\n",
              "\n",
              "    .dataframe thead th {\n",
              "        text-align: right;\n",
              "    }\n",
              "</style>\n",
              "<table border=\"1\" class=\"dataframe\">\n",
              "  <thead>\n",
              "    <tr style=\"text-align: right;\">\n",
              "      <th></th>\n",
              "      <th>id</th>\n",
              "      <th>diagnosis</th>\n",
              "      <th>radius_mean</th>\n",
              "      <th>texture_mean</th>\n",
              "      <th>perimeter_mean</th>\n",
              "      <th>area_mean</th>\n",
              "      <th>smoothness_mean</th>\n",
              "      <th>compactness_mean</th>\n",
              "      <th>concavity_mean</th>\n",
              "      <th>concave points_mean</th>\n",
              "      <th>symmetry_mean</th>\n",
              "      <th>fractal_dimension_mean</th>\n",
              "      <th>radius_se</th>\n",
              "      <th>texture_se</th>\n",
              "      <th>perimeter_se</th>\n",
              "      <th>area_se</th>\n",
              "      <th>smoothness_se</th>\n",
              "      <th>compactness_se</th>\n",
              "      <th>concavity_se</th>\n",
              "      <th>concave points_se</th>\n",
              "      <th>symmetry_se</th>\n",
              "      <th>fractal_dimension_se</th>\n",
              "      <th>radius_worst</th>\n",
              "      <th>texture_worst</th>\n",
              "      <th>perimeter_worst</th>\n",
              "      <th>area_worst</th>\n",
              "      <th>smoothness_worst</th>\n",
              "      <th>compactness_worst</th>\n",
              "      <th>concavity_worst</th>\n",
              "      <th>concave points_worst</th>\n",
              "      <th>symmetry_worst</th>\n",
              "      <th>fractal_dimension_worst</th>\n",
              "      <th>Unnamed: 32</th>\n",
              "    </tr>\n",
              "  </thead>\n",
              "  <tbody>\n",
              "    <tr>\n",
              "      <th>208</th>\n",
              "      <td>8810158</td>\n",
              "      <td>B</td>\n",
              "      <td>13.11</td>\n",
              "      <td>22.54</td>\n",
              "      <td>87.02</td>\n",
              "      <td>529.4</td>\n",
              "      <td>0.10020</td>\n",
              "      <td>0.14830</td>\n",
              "      <td>0.08705</td>\n",
              "      <td>0.05102</td>\n",
              "      <td>0.1850</td>\n",
              "      <td>0.07310</td>\n",
              "      <td>0.1931</td>\n",
              "      <td>0.9223</td>\n",
              "      <td>1.491</td>\n",
              "      <td>15.09</td>\n",
              "      <td>0.005251</td>\n",
              "      <td>0.03041</td>\n",
              "      <td>0.02526</td>\n",
              "      <td>0.008304</td>\n",
              "      <td>0.02514</td>\n",
              "      <td>0.004198</td>\n",
              "      <td>14.55</td>\n",
              "      <td>29.16</td>\n",
              "      <td>99.48</td>\n",
              "      <td>639.3</td>\n",
              "      <td>0.1349</td>\n",
              "      <td>0.4402</td>\n",
              "      <td>0.3162</td>\n",
              "      <td>0.11260</td>\n",
              "      <td>0.4128</td>\n",
              "      <td>0.10760</td>\n",
              "      <td>NaN</td>\n",
              "    </tr>\n",
              "    <tr>\n",
              "      <th>15</th>\n",
              "      <td>84799002</td>\n",
              "      <td>M</td>\n",
              "      <td>14.54</td>\n",
              "      <td>27.54</td>\n",
              "      <td>96.73</td>\n",
              "      <td>658.8</td>\n",
              "      <td>0.11390</td>\n",
              "      <td>0.15950</td>\n",
              "      <td>0.16390</td>\n",
              "      <td>0.07364</td>\n",
              "      <td>0.2303</td>\n",
              "      <td>0.07077</td>\n",
              "      <td>0.3700</td>\n",
              "      <td>1.0330</td>\n",
              "      <td>2.879</td>\n",
              "      <td>32.55</td>\n",
              "      <td>0.005607</td>\n",
              "      <td>0.04240</td>\n",
              "      <td>0.04741</td>\n",
              "      <td>0.010900</td>\n",
              "      <td>0.01857</td>\n",
              "      <td>0.005466</td>\n",
              "      <td>17.46</td>\n",
              "      <td>37.13</td>\n",
              "      <td>124.10</td>\n",
              "      <td>943.2</td>\n",
              "      <td>0.1678</td>\n",
              "      <td>0.6577</td>\n",
              "      <td>0.7026</td>\n",
              "      <td>0.17120</td>\n",
              "      <td>0.4218</td>\n",
              "      <td>0.13410</td>\n",
              "      <td>NaN</td>\n",
              "    </tr>\n",
              "    <tr>\n",
              "      <th>93</th>\n",
              "      <td>862009</td>\n",
              "      <td>B</td>\n",
              "      <td>13.45</td>\n",
              "      <td>18.30</td>\n",
              "      <td>86.60</td>\n",
              "      <td>555.1</td>\n",
              "      <td>0.10220</td>\n",
              "      <td>0.08165</td>\n",
              "      <td>0.03974</td>\n",
              "      <td>0.02780</td>\n",
              "      <td>0.1638</td>\n",
              "      <td>0.05710</td>\n",
              "      <td>0.2950</td>\n",
              "      <td>1.3730</td>\n",
              "      <td>2.099</td>\n",
              "      <td>25.22</td>\n",
              "      <td>0.005884</td>\n",
              "      <td>0.01491</td>\n",
              "      <td>0.01872</td>\n",
              "      <td>0.009366</td>\n",
              "      <td>0.01884</td>\n",
              "      <td>0.001817</td>\n",
              "      <td>15.10</td>\n",
              "      <td>25.94</td>\n",
              "      <td>97.59</td>\n",
              "      <td>699.4</td>\n",
              "      <td>0.1339</td>\n",
              "      <td>0.1751</td>\n",
              "      <td>0.1381</td>\n",
              "      <td>0.07911</td>\n",
              "      <td>0.2678</td>\n",
              "      <td>0.06603</td>\n",
              "      <td>NaN</td>\n",
              "    </tr>\n",
              "    <tr>\n",
              "      <th>426</th>\n",
              "      <td>907409</td>\n",
              "      <td>B</td>\n",
              "      <td>10.48</td>\n",
              "      <td>14.98</td>\n",
              "      <td>67.49</td>\n",
              "      <td>333.6</td>\n",
              "      <td>0.09816</td>\n",
              "      <td>0.10130</td>\n",
              "      <td>0.06335</td>\n",
              "      <td>0.02218</td>\n",
              "      <td>0.1925</td>\n",
              "      <td>0.06915</td>\n",
              "      <td>0.3276</td>\n",
              "      <td>1.1270</td>\n",
              "      <td>2.564</td>\n",
              "      <td>20.77</td>\n",
              "      <td>0.007364</td>\n",
              "      <td>0.03867</td>\n",
              "      <td>0.05263</td>\n",
              "      <td>0.012640</td>\n",
              "      <td>0.02161</td>\n",
              "      <td>0.004830</td>\n",
              "      <td>12.13</td>\n",
              "      <td>21.57</td>\n",
              "      <td>81.41</td>\n",
              "      <td>440.4</td>\n",
              "      <td>0.1327</td>\n",
              "      <td>0.2996</td>\n",
              "      <td>0.2939</td>\n",
              "      <td>0.09310</td>\n",
              "      <td>0.3020</td>\n",
              "      <td>0.09646</td>\n",
              "      <td>NaN</td>\n",
              "    </tr>\n",
              "    <tr>\n",
              "      <th>374</th>\n",
              "      <td>9013005</td>\n",
              "      <td>B</td>\n",
              "      <td>13.69</td>\n",
              "      <td>16.07</td>\n",
              "      <td>87.84</td>\n",
              "      <td>579.1</td>\n",
              "      <td>0.08302</td>\n",
              "      <td>0.06374</td>\n",
              "      <td>0.02556</td>\n",
              "      <td>0.02031</td>\n",
              "      <td>0.1872</td>\n",
              "      <td>0.05669</td>\n",
              "      <td>0.1705</td>\n",
              "      <td>0.5066</td>\n",
              "      <td>1.372</td>\n",
              "      <td>14.00</td>\n",
              "      <td>0.004230</td>\n",
              "      <td>0.01587</td>\n",
              "      <td>0.01169</td>\n",
              "      <td>0.006335</td>\n",
              "      <td>0.01943</td>\n",
              "      <td>0.002177</td>\n",
              "      <td>14.84</td>\n",
              "      <td>20.21</td>\n",
              "      <td>99.16</td>\n",
              "      <td>670.6</td>\n",
              "      <td>0.1105</td>\n",
              "      <td>0.2096</td>\n",
              "      <td>0.1346</td>\n",
              "      <td>0.06987</td>\n",
              "      <td>0.3323</td>\n",
              "      <td>0.07701</td>\n",
              "      <td>NaN</td>\n",
              "    </tr>\n",
              "  </tbody>\n",
              "</table>\n",
              "</div>"
            ],
            "text/plain": [
              "           id diagnosis  ...  fractal_dimension_worst  Unnamed: 32\n",
              "208   8810158         B  ...                  0.10760          NaN\n",
              "15   84799002         M  ...                  0.13410          NaN\n",
              "93     862009         B  ...                  0.06603          NaN\n",
              "426    907409         B  ...                  0.09646          NaN\n",
              "374   9013005         B  ...                  0.07701          NaN\n",
              "\n",
              "[5 rows x 33 columns]"
            ]
          },
          "metadata": {
            "tags": []
          },
          "execution_count": 174
        }
      ]
    },
    {
      "cell_type": "code",
      "metadata": {
        "id": "WphraGjDbqWi",
        "colab_type": "code",
        "outputId": "75e36e9c-210e-4884-c029-ff8be236be13",
        "colab": {
          "base_uri": "https://localhost:8080/",
          "height": 67
        }
      },
      "source": [
        "# Benign or Malignant\n",
        "df['diagnosis'].value_counts()"
      ],
      "execution_count": 149,
      "outputs": [
        {
          "output_type": "execute_result",
          "data": {
            "text/plain": [
              "B    357\n",
              "M    212\n",
              "Name: diagnosis, dtype: int64"
            ]
          },
          "metadata": {
            "tags": []
          },
          "execution_count": 149
        }
      ]
    },
    {
      "cell_type": "markdown",
      "metadata": {
        "id": "IHDDqaU-ove4",
        "colab_type": "text"
      },
      "source": [
        "## Now it's an unsupervised learning dataset\n",
        "\n",
        "(Because we've removed the diagnosis label) - Use this version."
      ]
    },
    {
      "cell_type": "code",
      "metadata": {
        "id": "86MHoPJon_aC",
        "colab_type": "code",
        "outputId": "8f857d5a-8244-4c62-e709-69ab4d486255",
        "colab": {
          "base_uri": "https://localhost:8080/",
          "height": 232
        }
      },
      "source": [
        "# Depending on the code I'm running this may or may not be dropped\n",
        "df = df.drop('diagnosis', axis=1)\n",
        "df.head()"
      ],
      "execution_count": 119,
      "outputs": [
        {
          "output_type": "execute_result",
          "data": {
            "text/html": [
              "<div>\n",
              "<style scoped>\n",
              "    .dataframe tbody tr th:only-of-type {\n",
              "        vertical-align: middle;\n",
              "    }\n",
              "\n",
              "    .dataframe tbody tr th {\n",
              "        vertical-align: top;\n",
              "    }\n",
              "\n",
              "    .dataframe thead th {\n",
              "        text-align: right;\n",
              "    }\n",
              "</style>\n",
              "<table border=\"1\" class=\"dataframe\">\n",
              "  <thead>\n",
              "    <tr style=\"text-align: right;\">\n",
              "      <th></th>\n",
              "      <th>id</th>\n",
              "      <th>radius_mean</th>\n",
              "      <th>texture_mean</th>\n",
              "      <th>perimeter_mean</th>\n",
              "      <th>area_mean</th>\n",
              "      <th>smoothness_mean</th>\n",
              "      <th>compactness_mean</th>\n",
              "      <th>concavity_mean</th>\n",
              "      <th>concave points_mean</th>\n",
              "      <th>symmetry_mean</th>\n",
              "      <th>fractal_dimension_mean</th>\n",
              "      <th>radius_se</th>\n",
              "      <th>texture_se</th>\n",
              "      <th>perimeter_se</th>\n",
              "      <th>area_se</th>\n",
              "      <th>smoothness_se</th>\n",
              "      <th>compactness_se</th>\n",
              "      <th>concavity_se</th>\n",
              "      <th>concave points_se</th>\n",
              "      <th>symmetry_se</th>\n",
              "      <th>fractal_dimension_se</th>\n",
              "      <th>radius_worst</th>\n",
              "      <th>texture_worst</th>\n",
              "      <th>perimeter_worst</th>\n",
              "      <th>area_worst</th>\n",
              "      <th>smoothness_worst</th>\n",
              "      <th>compactness_worst</th>\n",
              "      <th>concavity_worst</th>\n",
              "      <th>concave points_worst</th>\n",
              "      <th>symmetry_worst</th>\n",
              "      <th>fractal_dimension_worst</th>\n",
              "      <th>Unnamed: 32</th>\n",
              "    </tr>\n",
              "  </thead>\n",
              "  <tbody>\n",
              "    <tr>\n",
              "      <th>0</th>\n",
              "      <td>842302</td>\n",
              "      <td>17.99</td>\n",
              "      <td>10.38</td>\n",
              "      <td>122.80</td>\n",
              "      <td>1001.0</td>\n",
              "      <td>0.11840</td>\n",
              "      <td>0.27760</td>\n",
              "      <td>0.3001</td>\n",
              "      <td>0.14710</td>\n",
              "      <td>0.2419</td>\n",
              "      <td>0.07871</td>\n",
              "      <td>1.0950</td>\n",
              "      <td>0.9053</td>\n",
              "      <td>8.589</td>\n",
              "      <td>153.40</td>\n",
              "      <td>0.006399</td>\n",
              "      <td>0.04904</td>\n",
              "      <td>0.05373</td>\n",
              "      <td>0.01587</td>\n",
              "      <td>0.03003</td>\n",
              "      <td>0.006193</td>\n",
              "      <td>25.38</td>\n",
              "      <td>17.33</td>\n",
              "      <td>184.60</td>\n",
              "      <td>2019.0</td>\n",
              "      <td>0.1622</td>\n",
              "      <td>0.6656</td>\n",
              "      <td>0.7119</td>\n",
              "      <td>0.2654</td>\n",
              "      <td>0.4601</td>\n",
              "      <td>0.11890</td>\n",
              "      <td>NaN</td>\n",
              "    </tr>\n",
              "    <tr>\n",
              "      <th>1</th>\n",
              "      <td>842517</td>\n",
              "      <td>20.57</td>\n",
              "      <td>17.77</td>\n",
              "      <td>132.90</td>\n",
              "      <td>1326.0</td>\n",
              "      <td>0.08474</td>\n",
              "      <td>0.07864</td>\n",
              "      <td>0.0869</td>\n",
              "      <td>0.07017</td>\n",
              "      <td>0.1812</td>\n",
              "      <td>0.05667</td>\n",
              "      <td>0.5435</td>\n",
              "      <td>0.7339</td>\n",
              "      <td>3.398</td>\n",
              "      <td>74.08</td>\n",
              "      <td>0.005225</td>\n",
              "      <td>0.01308</td>\n",
              "      <td>0.01860</td>\n",
              "      <td>0.01340</td>\n",
              "      <td>0.01389</td>\n",
              "      <td>0.003532</td>\n",
              "      <td>24.99</td>\n",
              "      <td>23.41</td>\n",
              "      <td>158.80</td>\n",
              "      <td>1956.0</td>\n",
              "      <td>0.1238</td>\n",
              "      <td>0.1866</td>\n",
              "      <td>0.2416</td>\n",
              "      <td>0.1860</td>\n",
              "      <td>0.2750</td>\n",
              "      <td>0.08902</td>\n",
              "      <td>NaN</td>\n",
              "    </tr>\n",
              "    <tr>\n",
              "      <th>2</th>\n",
              "      <td>84300903</td>\n",
              "      <td>19.69</td>\n",
              "      <td>21.25</td>\n",
              "      <td>130.00</td>\n",
              "      <td>1203.0</td>\n",
              "      <td>0.10960</td>\n",
              "      <td>0.15990</td>\n",
              "      <td>0.1974</td>\n",
              "      <td>0.12790</td>\n",
              "      <td>0.2069</td>\n",
              "      <td>0.05999</td>\n",
              "      <td>0.7456</td>\n",
              "      <td>0.7869</td>\n",
              "      <td>4.585</td>\n",
              "      <td>94.03</td>\n",
              "      <td>0.006150</td>\n",
              "      <td>0.04006</td>\n",
              "      <td>0.03832</td>\n",
              "      <td>0.02058</td>\n",
              "      <td>0.02250</td>\n",
              "      <td>0.004571</td>\n",
              "      <td>23.57</td>\n",
              "      <td>25.53</td>\n",
              "      <td>152.50</td>\n",
              "      <td>1709.0</td>\n",
              "      <td>0.1444</td>\n",
              "      <td>0.4245</td>\n",
              "      <td>0.4504</td>\n",
              "      <td>0.2430</td>\n",
              "      <td>0.3613</td>\n",
              "      <td>0.08758</td>\n",
              "      <td>NaN</td>\n",
              "    </tr>\n",
              "    <tr>\n",
              "      <th>3</th>\n",
              "      <td>84348301</td>\n",
              "      <td>11.42</td>\n",
              "      <td>20.38</td>\n",
              "      <td>77.58</td>\n",
              "      <td>386.1</td>\n",
              "      <td>0.14250</td>\n",
              "      <td>0.28390</td>\n",
              "      <td>0.2414</td>\n",
              "      <td>0.10520</td>\n",
              "      <td>0.2597</td>\n",
              "      <td>0.09744</td>\n",
              "      <td>0.4956</td>\n",
              "      <td>1.1560</td>\n",
              "      <td>3.445</td>\n",
              "      <td>27.23</td>\n",
              "      <td>0.009110</td>\n",
              "      <td>0.07458</td>\n",
              "      <td>0.05661</td>\n",
              "      <td>0.01867</td>\n",
              "      <td>0.05963</td>\n",
              "      <td>0.009208</td>\n",
              "      <td>14.91</td>\n",
              "      <td>26.50</td>\n",
              "      <td>98.87</td>\n",
              "      <td>567.7</td>\n",
              "      <td>0.2098</td>\n",
              "      <td>0.8663</td>\n",
              "      <td>0.6869</td>\n",
              "      <td>0.2575</td>\n",
              "      <td>0.6638</td>\n",
              "      <td>0.17300</td>\n",
              "      <td>NaN</td>\n",
              "    </tr>\n",
              "    <tr>\n",
              "      <th>4</th>\n",
              "      <td>84358402</td>\n",
              "      <td>20.29</td>\n",
              "      <td>14.34</td>\n",
              "      <td>135.10</td>\n",
              "      <td>1297.0</td>\n",
              "      <td>0.10030</td>\n",
              "      <td>0.13280</td>\n",
              "      <td>0.1980</td>\n",
              "      <td>0.10430</td>\n",
              "      <td>0.1809</td>\n",
              "      <td>0.05883</td>\n",
              "      <td>0.7572</td>\n",
              "      <td>0.7813</td>\n",
              "      <td>5.438</td>\n",
              "      <td>94.44</td>\n",
              "      <td>0.011490</td>\n",
              "      <td>0.02461</td>\n",
              "      <td>0.05688</td>\n",
              "      <td>0.01885</td>\n",
              "      <td>0.01756</td>\n",
              "      <td>0.005115</td>\n",
              "      <td>22.54</td>\n",
              "      <td>16.67</td>\n",
              "      <td>152.20</td>\n",
              "      <td>1575.0</td>\n",
              "      <td>0.1374</td>\n",
              "      <td>0.2050</td>\n",
              "      <td>0.4000</td>\n",
              "      <td>0.1625</td>\n",
              "      <td>0.2364</td>\n",
              "      <td>0.07678</td>\n",
              "      <td>NaN</td>\n",
              "    </tr>\n",
              "  </tbody>\n",
              "</table>\n",
              "</div>"
            ],
            "text/plain": [
              "         id  radius_mean  ...  fractal_dimension_worst  Unnamed: 32\n",
              "0    842302        17.99  ...                  0.11890          NaN\n",
              "1    842517        20.57  ...                  0.08902          NaN\n",
              "2  84300903        19.69  ...                  0.08758          NaN\n",
              "3  84348301        11.42  ...                  0.17300          NaN\n",
              "4  84358402        20.29  ...                  0.07678          NaN\n",
              "\n",
              "[5 rows x 32 columns]"
            ]
          },
          "metadata": {
            "tags": []
          },
          "execution_count": 119
        }
      ]
    },
    {
      "cell_type": "markdown",
      "metadata": {
        "id": "rskC80k3OKMA",
        "colab_type": "text"
      },
      "source": [
        "## Let's do it!\n",
        "\n",
        "- You might want to do some data exploration to see if you can find specific columns that will help you find distinct clusters of cells\n",
        "- You might want to use the elbow method to decide on the number of clusters to use.\n"
      ]
    },
    {
      "cell_type": "markdown",
      "metadata": {
        "id": "RUi_8EplDGoZ",
        "colab_type": "text"
      },
      "source": [
        "Data Expoloration is done below."
      ]
    },
    {
      "cell_type": "code",
      "metadata": {
        "id": "uv_RKJ1tt1Qs",
        "colab_type": "code",
        "colab": {}
      },
      "source": [
        "# Perform K-Means Clustering on the Dataset\n",
        "\n",
        "k = 3\n",
        "model = KMeans(n_clusters=k, max_iter=1)"
      ],
      "execution_count": 0,
      "outputs": []
    },
    {
      "cell_type": "code",
      "metadata": {
        "id": "0l3MwO5nMXOs",
        "colab_type": "code",
        "colab": {}
      },
      "source": [
        "# THIS IS CELL IS STILL A WORK IN PROGRESS:\n",
        "# can use however many PCAs you would like than input PCAs into the data\n",
        "# append to distortion the intertia of the model\n",
        "# k you choose for kmeans \n",
        "# components does not equal n_clusters\n",
        "# clustering is unsupervised\n",
        "# later on when we train models we won't know what the answer is whether it's cancer or benign\n",
        "distortion = []\n",
        "for k in range(1, 10):\n",
        "  model = KMeans(n_clusters=k)\n",
        "  model.fit"
      ],
      "execution_count": 0,
      "outputs": []
    },
    {
      "cell_type": "code",
      "metadata": {
        "id": "2gC-PwQfuAHP",
        "colab_type": "code",
        "colab": {
          "base_uri": "https://localhost:8080/",
          "height": 322
        },
        "outputId": "5c03128c-f47a-4056-b83a-3d3419449a69"
      },
      "source": [
        "feature_test1 = ['compactness_worst', 'concavity_worst']\n",
        "df[feature_test1].plot(kind='scatter', x=feature_test1[0], y=feature_test1[1]);"
      ],
      "execution_count": 152,
      "outputs": [
        {
          "output_type": "stream",
          "text": [
            "'c' argument looks like a single numeric RGB or RGBA sequence, which should be avoided as value-mapping will have precedence in case its length matches with 'x' & 'y'.  Please use a 2-D array with a single row if you really want to specify the same RGB or RGBA value for all points.\n"
          ],
          "name": "stderr"
        },
        {
          "output_type": "display_data",
          "data": {
            "image/png": "[encoded data removed]",
            "text/plain": [
              "<Figure size 432x288 with 1 Axes>"
            ]
          },
          "metadata": {
            "tags": []
          }
        }
      ]
    },
    {
      "cell_type": "code",
      "metadata": {
        "id": "zgiOHn1aubU_",
        "colab_type": "code",
        "colab": {
          "base_uri": "https://localhost:8080/",
          "height": 338
        },
        "outputId": "09617f21-0e55-4d2c-d2bc-c300d51c22f1"
      },
      "source": [
        "feature_test2 = ['radius_mean', 'area_mean']\n",
        "df[feature_test2].plot(kind='scatter', x=feature_test2[0], y=feature_test2[1])"
      ],
      "execution_count": 153,
      "outputs": [
        {
          "output_type": "stream",
          "text": [
            "'c' argument looks like a single numeric RGB or RGBA sequence, which should be avoided as value-mapping will have precedence in case its length matches with 'x' & 'y'.  Please use a 2-D array with a single row if you really want to specify the same RGB or RGBA value for all points.\n"
          ],
          "name": "stderr"
        },
        {
          "output_type": "execute_result",
          "data": {
            "text/plain": [
              "<matplotlib.axes._subplots.AxesSubplot at 0x7f2424100080>"
            ]
          },
          "metadata": {
            "tags": []
          },
          "execution_count": 153
        },
        {
          "output_type": "display_data",
          "data": {
            "image/png": "[encoded data removed]",
            "text/plain": [
              "<Figure size 432x288 with 1 Axes>"
            ]
          },
          "metadata": {
            "tags": []
          }
        }
      ]
    },
    {
      "cell_type": "code",
      "metadata": {
        "id": "I3xSOB8dwkaw",
        "colab_type": "code",
        "colab": {}
      },
      "source": [
        "# Pair plot with the help of Eyve and Kush\n",
        "import seaborn as sns; sns.set(style='ticks', color_codes=True)"
      ],
      "execution_count": 0,
      "outputs": []
    },
    {
      "cell_type": "code",
      "metadata": {
        "id": "g9gHyEz-wzLO",
        "colab_type": "code",
        "colab": {}
      },
      "source": [
        "# first 4 columns without the diagnosis column (columns 1 - 4):\n",
        "df1 = df[df.columns[0:5]]"
      ],
      "execution_count": 0,
      "outputs": []
    },
    {
      "cell_type": "code",
      "metadata": {
        "id": "pXjGZs2hw4Up",
        "colab_type": "code",
        "colab": {
          "base_uri": "https://localhost:8080/",
          "height": 758
        },
        "outputId": "204620ac-dd93-4eb5-dc6a-ed778f86e6e5"
      },
      "source": [
        "pair_plt = sns.pairplot(df1)"
      ],
      "execution_count": 156,
      "outputs": [
        {
          "output_type": "display_data",
          "data": {
            "image/png": "[encoded data removed]",
            "text/plain": [
              "<Figure size 720x720 with 20 Axes>"
            ]
          },
          "metadata": {
            "tags": []
          }
        }
      ]
    },
    {
      "cell_type": "code",
      "metadata": {
        "id": "FdqenRnzxUUs",
        "colab_type": "code",
        "colab": {
          "base_uri": "https://localhost:8080/",
          "height": 758
        },
        "outputId": "96298614-ee12-4ded-c6ae-59c8ef529a58"
      },
      "source": [
        "# first 4 columns With the diagnosis column: \n",
        "# (when you run this df['diagnosis'] has to not have been dropped)\n",
        "# using df1 from above\n",
        "pair_plt = sns.pairplot(df1, hue='diagnosis')"
      ],
      "execution_count": 157,
      "outputs": [
        {
          "output_type": "display_data",
          "data": {
            "image/png": "[encoded data removed]",
            "text/plain": [
              "<Figure size 777.3x720 with 20 Axes>"
            ]
          },
          "metadata": {
            "tags": []
          }
        }
      ]
    },
    {
      "cell_type": "code",
      "metadata": {
        "id": "tCpAmPxbeOSs",
        "colab_type": "code",
        "outputId": "2c4c8838-81ed-4e31-e91c-f4a52fc4c726",
        "colab": {
          "base_uri": "https://localhost:8080/",
          "height": 54
        }
      },
      "source": [
        "print(list(df.columns))"
      ],
      "execution_count": 158,
      "outputs": [
        {
          "output_type": "stream",
          "text": [
            "['id', 'diagnosis', 'radius_mean', 'texture_mean', 'perimeter_mean', 'area_mean', 'smoothness_mean', 'compactness_mean', 'concavity_mean', 'concave points_mean', 'symmetry_mean', 'fractal_dimension_mean', 'radius_se', 'texture_se', 'perimeter_se', 'area_se', 'smoothness_se', 'compactness_se', 'concavity_se', 'concave points_se', 'symmetry_se', 'fractal_dimension_se', 'radius_worst', 'texture_worst', 'perimeter_worst', 'area_worst', 'smoothness_worst', 'compactness_worst', 'concavity_worst', 'concave points_worst', 'symmetry_worst', 'fractal_dimension_worst', 'Unnamed: 32']\n"
          ],
          "name": "stdout"
        }
      ]
    },
    {
      "cell_type": "code",
      "metadata": {
        "id": "tCEBK0mV1HNM",
        "colab_type": "code",
        "colab": {
          "base_uri": "https://localhost:8080/",
          "height": 34
        },
        "outputId": "2382974b-a6d2-4f1d-9ba2-c7042570ef0b"
      },
      "source": [
        "# There's a lot of columns\n",
        "print(len(list(df.columns)))"
      ],
      "execution_count": 159,
      "outputs": [
        {
          "output_type": "stream",
          "text": [
            "33\n"
          ],
          "name": "stdout"
        }
      ]
    },
    {
      "cell_type": "code",
      "metadata": {
        "id": "68YjklQrlVwY",
        "colab_type": "code",
        "colab": {
          "base_uri": "https://localhost:8080/",
          "height": 67
        },
        "outputId": "67ddc81a-4dec-48d2-d950-c00b5f0866d9"
      },
      "source": [
        "# Remove the id column I don't need it\n",
        "feature_cols = df.columns[1:]\n",
        "feature_cols[:5]"
      ],
      "execution_count": 160,
      "outputs": [
        {
          "output_type": "execute_result",
          "data": {
            "text/plain": [
              "Index(['diagnosis', 'radius_mean', 'texture_mean', 'perimeter_mean',\n",
              "       'area_mean'],\n",
              "      dtype='object')"
            ]
          },
          "metadata": {
            "tags": []
          },
          "execution_count": 160
        }
      ]
    },
    {
      "cell_type": "code",
      "metadata": {
        "id": "-_hq8Hg8m0Kn",
        "colab_type": "code",
        "colab": {}
      },
      "source": [
        "features = ['radius_mean', 'texture_mean']"
      ],
      "execution_count": 0,
      "outputs": []
    },
    {
      "cell_type": "code",
      "metadata": {
        "id": "wiQ7HSKEnAba",
        "colab_type": "code",
        "colab": {
          "base_uri": "https://localhost:8080/",
          "height": 322
        },
        "outputId": "413d3546-c0b0-4636-b1b8-a343d753a3b8"
      },
      "source": [
        "# plot them to see how they look.\n",
        "df[features].plot(kind='scatter', x=features[0], y=features[1]);"
      ],
      "execution_count": 162,
      "outputs": [
        {
          "output_type": "stream",
          "text": [
            "'c' argument looks like a single numeric RGB or RGBA sequence, which should be avoided as value-mapping will have precedence in case its length matches with 'x' & 'y'.  Please use a 2-D array with a single row if you really want to specify the same RGB or RGBA value for all points.\n"
          ],
          "name": "stderr"
        },
        {
          "output_type": "display_data",
          "data": {
            "image/png": "[encoded data removed]",
            "text/plain": [
              "<Figure size 432x288 with 1 Axes>"
            ]
          },
          "metadata": {
            "tags": []
          }
        }
      ]
    },
    {
      "cell_type": "markdown",
      "metadata": {
        "id": "EZhk22DAIdrp",
        "colab_type": "text"
      },
      "source": [
        "## Check you work: (done above)\n",
        "\n",
        "This is something that in a truly unsupervised learning situation **WOULD NOT BE POSSIBLE**. But for educational purposes go back and grab the true diagnosis column (label) from the original dataset. Take your cluster labels and compare them to the original diagnosis column. You can make scatterplots for each to see how they compare or you can calculate a percent accuracy score like: \n",
        "\\begin{align}\n",
        "\\frac{\\text{Num Correct Labels}}{\\text{Num Total Observations}}\n",
        "\\end{align}"
      ]
    },
    {
      "cell_type": "code",
      "metadata": {
        "id": "lewDNxxJIgc0",
        "colab_type": "code",
        "colab": {
          "base_uri": "https://localhost:8080/",
          "height": 143
        },
        "outputId": "4660c0f1-d330-475f-924b-e77e135c9435"
      },
      "source": [
        "# Your code here\n",
        "df.head(2)"
      ],
      "execution_count": 163,
      "outputs": [
        {
          "output_type": "execute_result",
          "data": {
            "text/html": [
              "<div>\n",
              "<style scoped>\n",
              "    .dataframe tbody tr th:only-of-type {\n",
              "        vertical-align: middle;\n",
              "    }\n",
              "\n",
              "    .dataframe tbody tr th {\n",
              "        vertical-align: top;\n",
              "    }\n",
              "\n",
              "    .dataframe thead th {\n",
              "        text-align: right;\n",
              "    }\n",
              "</style>\n",
              "<table border=\"1\" class=\"dataframe\">\n",
              "  <thead>\n",
              "    <tr style=\"text-align: right;\">\n",
              "      <th></th>\n",
              "      <th>id</th>\n",
              "      <th>diagnosis</th>\n",
              "      <th>radius_mean</th>\n",
              "      <th>texture_mean</th>\n",
              "      <th>perimeter_mean</th>\n",
              "      <th>area_mean</th>\n",
              "      <th>smoothness_mean</th>\n",
              "      <th>compactness_mean</th>\n",
              "      <th>concavity_mean</th>\n",
              "      <th>concave points_mean</th>\n",
              "      <th>symmetry_mean</th>\n",
              "      <th>fractal_dimension_mean</th>\n",
              "      <th>radius_se</th>\n",
              "      <th>texture_se</th>\n",
              "      <th>perimeter_se</th>\n",
              "      <th>area_se</th>\n",
              "      <th>smoothness_se</th>\n",
              "      <th>compactness_se</th>\n",
              "      <th>concavity_se</th>\n",
              "      <th>concave points_se</th>\n",
              "      <th>symmetry_se</th>\n",
              "      <th>fractal_dimension_se</th>\n",
              "      <th>radius_worst</th>\n",
              "      <th>texture_worst</th>\n",
              "      <th>perimeter_worst</th>\n",
              "      <th>area_worst</th>\n",
              "      <th>smoothness_worst</th>\n",
              "      <th>compactness_worst</th>\n",
              "      <th>concavity_worst</th>\n",
              "      <th>concave points_worst</th>\n",
              "      <th>symmetry_worst</th>\n",
              "      <th>fractal_dimension_worst</th>\n",
              "      <th>Unnamed: 32</th>\n",
              "    </tr>\n",
              "  </thead>\n",
              "  <tbody>\n",
              "    <tr>\n",
              "      <th>0</th>\n",
              "      <td>842302</td>\n",
              "      <td>M</td>\n",
              "      <td>17.99</td>\n",
              "      <td>10.38</td>\n",
              "      <td>122.8</td>\n",
              "      <td>1001.0</td>\n",
              "      <td>0.11840</td>\n",
              "      <td>0.27760</td>\n",
              "      <td>0.3001</td>\n",
              "      <td>0.14710</td>\n",
              "      <td>0.2419</td>\n",
              "      <td>0.07871</td>\n",
              "      <td>1.0950</td>\n",
              "      <td>0.9053</td>\n",
              "      <td>8.589</td>\n",
              "      <td>153.40</td>\n",
              "      <td>0.006399</td>\n",
              "      <td>0.04904</td>\n",
              "      <td>0.05373</td>\n",
              "      <td>0.01587</td>\n",
              "      <td>0.03003</td>\n",
              "      <td>0.006193</td>\n",
              "      <td>25.38</td>\n",
              "      <td>17.33</td>\n",
              "      <td>184.6</td>\n",
              "      <td>2019.0</td>\n",
              "      <td>0.1622</td>\n",
              "      <td>0.6656</td>\n",
              "      <td>0.7119</td>\n",
              "      <td>0.2654</td>\n",
              "      <td>0.4601</td>\n",
              "      <td>0.11890</td>\n",
              "      <td>NaN</td>\n",
              "    </tr>\n",
              "    <tr>\n",
              "      <th>1</th>\n",
              "      <td>842517</td>\n",
              "      <td>M</td>\n",
              "      <td>20.57</td>\n",
              "      <td>17.77</td>\n",
              "      <td>132.9</td>\n",
              "      <td>1326.0</td>\n",
              "      <td>0.08474</td>\n",
              "      <td>0.07864</td>\n",
              "      <td>0.0869</td>\n",
              "      <td>0.07017</td>\n",
              "      <td>0.1812</td>\n",
              "      <td>0.05667</td>\n",
              "      <td>0.5435</td>\n",
              "      <td>0.7339</td>\n",
              "      <td>3.398</td>\n",
              "      <td>74.08</td>\n",
              "      <td>0.005225</td>\n",
              "      <td>0.01308</td>\n",
              "      <td>0.01860</td>\n",
              "      <td>0.01340</td>\n",
              "      <td>0.01389</td>\n",
              "      <td>0.003532</td>\n",
              "      <td>24.99</td>\n",
              "      <td>23.41</td>\n",
              "      <td>158.8</td>\n",
              "      <td>1956.0</td>\n",
              "      <td>0.1238</td>\n",
              "      <td>0.1866</td>\n",
              "      <td>0.2416</td>\n",
              "      <td>0.1860</td>\n",
              "      <td>0.2750</td>\n",
              "      <td>0.08902</td>\n",
              "      <td>NaN</td>\n",
              "    </tr>\n",
              "  </tbody>\n",
              "</table>\n",
              "</div>"
            ],
            "text/plain": [
              "       id diagnosis  ...  fractal_dimension_worst  Unnamed: 32\n",
              "0  842302         M  ...                  0.11890          NaN\n",
              "1  842517         M  ...                  0.08902          NaN\n",
              "\n",
              "[2 rows x 33 columns]"
            ]
          },
          "metadata": {
            "tags": []
          },
          "execution_count": 163
        }
      ]
    },
    {
      "cell_type": "code",
      "metadata": {
        "id": "jjUoMk4s4h_1",
        "colab_type": "code",
        "colab": {}
      },
      "source": [
        "df = df.drop('diagnosis', axis=1)"
      ],
      "execution_count": 0,
      "outputs": []
    },
    {
      "cell_type": "code",
      "metadata": {
        "id": "ukA8mVyT4kfP",
        "colab_type": "code",
        "colab": {}
      },
      "source": [
        "df = df.drop('id', axis=1)"
      ],
      "execution_count": 0,
      "outputs": []
    },
    {
      "cell_type": "code",
      "metadata": {
        "id": "AbHdCuQr4pRu",
        "colab_type": "code",
        "colab": {}
      },
      "source": [
        "df = df.drop('Unnamed: 32', axis=1)"
      ],
      "execution_count": 0,
      "outputs": []
    },
    {
      "cell_type": "code",
      "metadata": {
        "id": "9kM6UQWS4vmJ",
        "colab_type": "code",
        "colab": {
          "base_uri": "https://localhost:8080/",
          "height": 143
        },
        "outputId": "37d0efe7-f0a3-473a-ec2c-22e67e7207e7"
      },
      "source": [
        "df.head(2)"
      ],
      "execution_count": 167,
      "outputs": [
        {
          "output_type": "execute_result",
          "data": {
            "text/html": [
              "<div>\n",
              "<style scoped>\n",
              "    .dataframe tbody tr th:only-of-type {\n",
              "        vertical-align: middle;\n",
              "    }\n",
              "\n",
              "    .dataframe tbody tr th {\n",
              "        vertical-align: top;\n",
              "    }\n",
              "\n",
              "    .dataframe thead th {\n",
              "        text-align: right;\n",
              "    }\n",
              "</style>\n",
              "<table border=\"1\" class=\"dataframe\">\n",
              "  <thead>\n",
              "    <tr style=\"text-align: right;\">\n",
              "      <th></th>\n",
              "      <th>radius_mean</th>\n",
              "      <th>texture_mean</th>\n",
              "      <th>perimeter_mean</th>\n",
              "      <th>area_mean</th>\n",
              "      <th>smoothness_mean</th>\n",
              "      <th>compactness_mean</th>\n",
              "      <th>concavity_mean</th>\n",
              "      <th>concave points_mean</th>\n",
              "      <th>symmetry_mean</th>\n",
              "      <th>fractal_dimension_mean</th>\n",
              "      <th>radius_se</th>\n",
              "      <th>texture_se</th>\n",
              "      <th>perimeter_se</th>\n",
              "      <th>area_se</th>\n",
              "      <th>smoothness_se</th>\n",
              "      <th>compactness_se</th>\n",
              "      <th>concavity_se</th>\n",
              "      <th>concave points_se</th>\n",
              "      <th>symmetry_se</th>\n",
              "      <th>fractal_dimension_se</th>\n",
              "      <th>radius_worst</th>\n",
              "      <th>texture_worst</th>\n",
              "      <th>perimeter_worst</th>\n",
              "      <th>area_worst</th>\n",
              "      <th>smoothness_worst</th>\n",
              "      <th>compactness_worst</th>\n",
              "      <th>concavity_worst</th>\n",
              "      <th>concave points_worst</th>\n",
              "      <th>symmetry_worst</th>\n",
              "      <th>fractal_dimension_worst</th>\n",
              "    </tr>\n",
              "  </thead>\n",
              "  <tbody>\n",
              "    <tr>\n",
              "      <th>0</th>\n",
              "      <td>17.99</td>\n",
              "      <td>10.38</td>\n",
              "      <td>122.8</td>\n",
              "      <td>1001.0</td>\n",
              "      <td>0.11840</td>\n",
              "      <td>0.27760</td>\n",
              "      <td>0.3001</td>\n",
              "      <td>0.14710</td>\n",
              "      <td>0.2419</td>\n",
              "      <td>0.07871</td>\n",
              "      <td>1.0950</td>\n",
              "      <td>0.9053</td>\n",
              "      <td>8.589</td>\n",
              "      <td>153.40</td>\n",
              "      <td>0.006399</td>\n",
              "      <td>0.04904</td>\n",
              "      <td>0.05373</td>\n",
              "      <td>0.01587</td>\n",
              "      <td>0.03003</td>\n",
              "      <td>0.006193</td>\n",
              "      <td>25.38</td>\n",
              "      <td>17.33</td>\n",
              "      <td>184.6</td>\n",
              "      <td>2019.0</td>\n",
              "      <td>0.1622</td>\n",
              "      <td>0.6656</td>\n",
              "      <td>0.7119</td>\n",
              "      <td>0.2654</td>\n",
              "      <td>0.4601</td>\n",
              "      <td>0.11890</td>\n",
              "    </tr>\n",
              "    <tr>\n",
              "      <th>1</th>\n",
              "      <td>20.57</td>\n",
              "      <td>17.77</td>\n",
              "      <td>132.9</td>\n",
              "      <td>1326.0</td>\n",
              "      <td>0.08474</td>\n",
              "      <td>0.07864</td>\n",
              "      <td>0.0869</td>\n",
              "      <td>0.07017</td>\n",
              "      <td>0.1812</td>\n",
              "      <td>0.05667</td>\n",
              "      <td>0.5435</td>\n",
              "      <td>0.7339</td>\n",
              "      <td>3.398</td>\n",
              "      <td>74.08</td>\n",
              "      <td>0.005225</td>\n",
              "      <td>0.01308</td>\n",
              "      <td>0.01860</td>\n",
              "      <td>0.01340</td>\n",
              "      <td>0.01389</td>\n",
              "      <td>0.003532</td>\n",
              "      <td>24.99</td>\n",
              "      <td>23.41</td>\n",
              "      <td>158.8</td>\n",
              "      <td>1956.0</td>\n",
              "      <td>0.1238</td>\n",
              "      <td>0.1866</td>\n",
              "      <td>0.2416</td>\n",
              "      <td>0.1860</td>\n",
              "      <td>0.2750</td>\n",
              "      <td>0.08902</td>\n",
              "    </tr>\n",
              "  </tbody>\n",
              "</table>\n",
              "</div>"
            ],
            "text/plain": [
              "   radius_mean  texture_mean  ...  symmetry_worst  fractal_dimension_worst\n",
              "0        17.99         10.38  ...          0.4601                  0.11890\n",
              "1        20.57         17.77  ...          0.2750                  0.08902\n",
              "\n",
              "[2 rows x 30 columns]"
            ]
          },
          "metadata": {
            "tags": []
          },
          "execution_count": 167
        }
      ]
    },
    {
      "cell_type": "code",
      "metadata": {
        "id": "RlvbtzEt5cKw",
        "colab_type": "code",
        "colab": {
          "base_uri": "https://localhost:8080/",
          "height": 67
        },
        "outputId": "2a00f492-de0c-489d-c88d-e2653bc1fe5b"
      },
      "source": [
        "# Standardizing the data \n",
        "from sklearn.preprocessing import StandardScaler\n",
        "feature_cols=df.columns[1:]\n",
        "feature_cols[:5]"
      ],
      "execution_count": 168,
      "outputs": [
        {
          "output_type": "execute_result",
          "data": {
            "text/plain": [
              "Index(['texture_mean', 'perimeter_mean', 'area_mean', 'smoothness_mean',\n",
              "       'compactness_mean'],\n",
              "      dtype='object')"
            ]
          },
          "metadata": {
            "tags": []
          },
          "execution_count": 168
        }
      ]
    },
    {
      "cell_type": "code",
      "metadata": {
        "id": "xWW_IxH46GMo",
        "colab_type": "code",
        "colab": {
          "base_uri": "https://localhost:8080/",
          "height": 235
        },
        "outputId": "13a995b5-bf8a-4bcf-a5d9-d6e5793afc4f"
      },
      "source": [
        "# normalizing the features\n",
        "x = df.loc[:, feature_cols].values\n",
        "x = StandardScaler().fit_transform(x)\n",
        "x"
      ],
      "execution_count": 169,
      "outputs": [
        {
          "output_type": "execute_result",
          "data": {
            "text/plain": [
              "array([[-2.07333501,  1.26993369,  0.9843749 , ...,  2.29607613,\n",
              "         2.75062224,  1.93701461],\n",
              "       [-0.35363241,  1.68595471,  1.90870825, ...,  1.0870843 ,\n",
              "        -0.24388967,  0.28118999],\n",
              "       [ 0.45618695,  1.56650313,  1.55888363, ...,  1.95500035,\n",
              "         1.152255  ,  0.20139121],\n",
              "       ...,\n",
              "       [ 2.0455738 ,  0.67267578,  0.57795264, ...,  0.41406869,\n",
              "        -1.10454895, -0.31840916],\n",
              "       [ 2.33645719,  1.98252415,  1.73521799, ...,  2.28998549,\n",
              "         1.91908301,  2.21963528],\n",
              "       [ 1.22179204, -1.81438851, -1.34778924, ..., -1.74506282,\n",
              "        -0.04813821, -0.75120669]])"
            ]
          },
          "metadata": {
            "tags": []
          },
          "execution_count": 169
        }
      ]
    },
    {
      "cell_type": "code",
      "metadata": {
        "id": "qxW-Cp7J6P4g",
        "colab_type": "code",
        "colab": {}
      },
      "source": [
        "# use the sklearn library to import the PCA module\n",
        "from sklearn.decomposition import PCA"
      ],
      "execution_count": 0,
      "outputs": []
    },
    {
      "cell_type": "code",
      "metadata": {
        "id": "M1wKakCa6S6h",
        "colab_type": "code",
        "colab": {}
      },
      "source": [
        "# instantiate the sklearn class & pass the desired number of components \n",
        "pca_cancer = PCA(n_components=2)"
      ],
      "execution_count": 0,
      "outputs": []
    },
    {
      "cell_type": "code",
      "metadata": {
        "id": "xNjhD85G6Y8c",
        "colab_type": "code",
        "colab": {}
      },
      "source": [
        "# call fit_transform on the aggregate data\n",
        "pca_data = pca_cancer.fit_transform(x)"
      ],
      "execution_count": 0,
      "outputs": []
    },
    {
      "cell_type": "code",
      "metadata": {
        "id": "PiGN9sKT6cJh",
        "colab_type": "code",
        "colab": {
          "base_uri": "https://localhost:8080/",
          "height": 195
        },
        "outputId": "38956021-ade9-4db7-9307-46765a3b327a"
      },
      "source": [
        "# create a DataFrame with principal component values for all 569 samples\n",
        "df_final = pd.DataFrame(data=pca_data, columns=['comp1', 'comp2'])\n",
        "df_final.head()"
      ],
      "execution_count": 173,
      "outputs": [
        {
          "output_type": "execute_result",
          "data": {
            "text/html": [
              "<div>\n",
              "<style scoped>\n",
              "    .dataframe tbody tr th:only-of-type {\n",
              "        vertical-align: middle;\n",
              "    }\n",
              "\n",
              "    .dataframe tbody tr th {\n",
              "        vertical-align: top;\n",
              "    }\n",
              "\n",
              "    .dataframe thead th {\n",
              "        text-align: right;\n",
              "    }\n",
              "</style>\n",
              "<table border=\"1\" class=\"dataframe\">\n",
              "  <thead>\n",
              "    <tr style=\"text-align: right;\">\n",
              "      <th></th>\n",
              "      <th>comp1</th>\n",
              "      <th>comp2</th>\n",
              "    </tr>\n",
              "  </thead>\n",
              "  <tbody>\n",
              "    <tr>\n",
              "      <th>0</th>\n",
              "      <td>9.235605</td>\n",
              "      <td>1.426035</td>\n",
              "    </tr>\n",
              "    <tr>\n",
              "      <th>1</th>\n",
              "      <td>1.891443</td>\n",
              "      <td>-3.611959</td>\n",
              "    </tr>\n",
              "    <tr>\n",
              "      <th>2</th>\n",
              "      <td>5.474754</td>\n",
              "      <td>-1.230815</td>\n",
              "    </tr>\n",
              "    <tr>\n",
              "      <th>3</th>\n",
              "      <td>7.859774</td>\n",
              "      <td>9.691994</td>\n",
              "    </tr>\n",
              "    <tr>\n",
              "      <th>4</th>\n",
              "      <td>3.561768</td>\n",
              "      <td>-1.901793</td>\n",
              "    </tr>\n",
              "  </tbody>\n",
              "</table>\n",
              "</div>"
            ],
            "text/plain": [
              "      comp1     comp2\n",
              "0  9.235605  1.426035\n",
              "1  1.891443 -3.611959\n",
              "2  5.474754 -1.230815\n",
              "3  7.859774  9.691994\n",
              "4  3.561768 -1.901793"
            ]
          },
          "metadata": {
            "tags": []
          },
          "execution_count": 173
        }
      ]
    },
    {
      "cell_type": "code",
      "metadata": {
        "id": "nvsfKSi66iF1",
        "colab_type": "code",
        "colab": {
          "base_uri": "https://localhost:8080/",
          "height": 195
        },
        "outputId": "8fcc949c-3f08-4608-ac67-f04517cecdef"
      },
      "source": [
        "# add back in the type of diagnosis 'M' or 'B'\n",
        "df_final['diagnosis']=df['diagnosis']\n",
        "df_final.sample(5)"
      ],
      "execution_count": 175,
      "outputs": [
        {
          "output_type": "execute_result",
          "data": {
            "text/html": [
              "<div>\n",
              "<style scoped>\n",
              "    .dataframe tbody tr th:only-of-type {\n",
              "        vertical-align: middle;\n",
              "    }\n",
              "\n",
              "    .dataframe tbody tr th {\n",
              "        vertical-align: top;\n",
              "    }\n",
              "\n",
              "    .dataframe thead th {\n",
              "        text-align: right;\n",
              "    }\n",
              "</style>\n",
              "<table border=\"1\" class=\"dataframe\">\n",
              "  <thead>\n",
              "    <tr style=\"text-align: right;\">\n",
              "      <th></th>\n",
              "      <th>comp1</th>\n",
              "      <th>comp2</th>\n",
              "      <th>diagnosis</th>\n",
              "    </tr>\n",
              "  </thead>\n",
              "  <tbody>\n",
              "    <tr>\n",
              "      <th>134</th>\n",
              "      <td>1.843001</td>\n",
              "      <td>-2.799507</td>\n",
              "      <td>M</td>\n",
              "    </tr>\n",
              "    <tr>\n",
              "      <th>108</th>\n",
              "      <td>12.885646</td>\n",
              "      <td>0.370924</td>\n",
              "      <td>M</td>\n",
              "    </tr>\n",
              "    <tr>\n",
              "      <th>295</th>\n",
              "      <td>-3.428148</td>\n",
              "      <td>-1.179026</td>\n",
              "      <td>B</td>\n",
              "    </tr>\n",
              "    <tr>\n",
              "      <th>492</th>\n",
              "      <td>2.885414</td>\n",
              "      <td>-1.281569</td>\n",
              "      <td>M</td>\n",
              "    </tr>\n",
              "    <tr>\n",
              "      <th>132</th>\n",
              "      <td>1.213129</td>\n",
              "      <td>-1.170224</td>\n",
              "      <td>M</td>\n",
              "    </tr>\n",
              "  </tbody>\n",
              "</table>\n",
              "</div>"
            ],
            "text/plain": [
              "         comp1     comp2 diagnosis\n",
              "134   1.843001 -2.799507         M\n",
              "108  12.885646  0.370924         M\n",
              "295  -3.428148 -1.179026         B\n",
              "492   2.885414 -1.281569         M\n",
              "132   1.213129 -1.170224         M"
            ]
          },
          "metadata": {
            "tags": []
          },
          "execution_count": 175
        }
      ]
    },
    {
      "cell_type": "code",
      "metadata": {
        "id": "MSOfzlQP6-26",
        "colab_type": "code",
        "colab": {
          "base_uri": "https://localhost:8080/",
          "height": 611
        },
        "outputId": "7b819632-f014-4e7e-a244-69350c5ad41d"
      },
      "source": [
        "# plot the visualization of the data by the components\n",
        "# Have to set the letters M and B to strings\n",
        "plt.figure(figsize=(10,10))\n",
        "plt.xlabel('Component 1')\n",
        "plt.ylabel('Component 2')\n",
        "for k, c in [('M', 'indigo'), ('B', 'gold')]:\n",
        "  subset=df_final[df_final['diagnosis']==k]\n",
        "  plt.scatter(x=subset['comp1'],\n",
        "              y=subset['comp2'],\n",
        "              s=200,\n",
        "              alpha=.5,\n",
        "              color=c,\n",
        "              label=k)\n",
        "plt.legend();"
      ],
      "execution_count": 179,
      "outputs": [
        {
          "output_type": "display_data",
          "data": {
            "image/png": "[encoded data removed]",
            "text/plain": [
              "<Figure size 720x720 with 1 Axes>"
            ]
          },
          "metadata": {
            "tags": []
          }
        }
      ]
    },
    {
      "cell_type": "markdown",
      "metadata": {
        "id": "HMbs4t-FHbM-",
        "colab_type": "text"
      },
      "source": [
        "# 2) Perform PCA on your dataset first and *then* use k-means clustering (all done).\n",
        "\n",
        "- You need to standardize your data before PCA.\n",
        "- First try clustering just on PC1 and PC2 so that you can make a scatterplot of your clustering.\n",
        "- Then use use a scree plot to decide how many principal components to include in your clustering, and use however many principal components you need in order to retain 90% of the variation of the original dataset"
      ]
    },
    {
      "cell_type": "markdown",
      "metadata": {
        "id": "6r_CKfmYM0jJ",
        "colab_type": "text"
      },
      "source": [
        "##Standardize Data (done)"
      ]
    },
    {
      "cell_type": "code",
      "metadata": {
        "id": "QqYtYw11NeVR",
        "colab_type": "code",
        "outputId": "4ebe5362-9006-425f-8827-721152d6fd83",
        "colab": {
          "base_uri": "https://localhost:8080/",
          "height": 143
        }
      },
      "source": [
        "df.head(2)"
      ],
      "execution_count": 0,
      "outputs": [
        {
          "output_type": "execute_result",
          "data": {
            "text/html": [
              "<div>\n",
              "<style scoped>\n",
              "    .dataframe tbody tr th:only-of-type {\n",
              "        vertical-align: middle;\n",
              "    }\n",
              "\n",
              "    .dataframe tbody tr th {\n",
              "        vertical-align: top;\n",
              "    }\n",
              "\n",
              "    .dataframe thead th {\n",
              "        text-align: right;\n",
              "    }\n",
              "</style>\n",
              "<table border=\"1\" class=\"dataframe\">\n",
              "  <thead>\n",
              "    <tr style=\"text-align: right;\">\n",
              "      <th></th>\n",
              "      <th>id</th>\n",
              "      <th>radius_mean</th>\n",
              "      <th>texture_mean</th>\n",
              "      <th>perimeter_mean</th>\n",
              "      <th>area_mean</th>\n",
              "      <th>smoothness_mean</th>\n",
              "      <th>compactness_mean</th>\n",
              "      <th>concavity_mean</th>\n",
              "      <th>concave points_mean</th>\n",
              "      <th>symmetry_mean</th>\n",
              "      <th>fractal_dimension_mean</th>\n",
              "      <th>radius_se</th>\n",
              "      <th>texture_se</th>\n",
              "      <th>perimeter_se</th>\n",
              "      <th>area_se</th>\n",
              "      <th>smoothness_se</th>\n",
              "      <th>compactness_se</th>\n",
              "      <th>concavity_se</th>\n",
              "      <th>concave points_se</th>\n",
              "      <th>symmetry_se</th>\n",
              "      <th>fractal_dimension_se</th>\n",
              "      <th>radius_worst</th>\n",
              "      <th>texture_worst</th>\n",
              "      <th>perimeter_worst</th>\n",
              "      <th>area_worst</th>\n",
              "      <th>smoothness_worst</th>\n",
              "      <th>compactness_worst</th>\n",
              "      <th>concavity_worst</th>\n",
              "      <th>concave points_worst</th>\n",
              "      <th>symmetry_worst</th>\n",
              "      <th>fractal_dimension_worst</th>\n",
              "      <th>Unnamed: 32</th>\n",
              "    </tr>\n",
              "  </thead>\n",
              "  <tbody>\n",
              "    <tr>\n",
              "      <th>0</th>\n",
              "      <td>842302</td>\n",
              "      <td>17.99</td>\n",
              "      <td>10.38</td>\n",
              "      <td>122.8</td>\n",
              "      <td>1001.0</td>\n",
              "      <td>0.11840</td>\n",
              "      <td>0.27760</td>\n",
              "      <td>0.3001</td>\n",
              "      <td>0.14710</td>\n",
              "      <td>0.2419</td>\n",
              "      <td>0.07871</td>\n",
              "      <td>1.0950</td>\n",
              "      <td>0.9053</td>\n",
              "      <td>8.589</td>\n",
              "      <td>153.40</td>\n",
              "      <td>0.006399</td>\n",
              "      <td>0.04904</td>\n",
              "      <td>0.05373</td>\n",
              "      <td>0.01587</td>\n",
              "      <td>0.03003</td>\n",
              "      <td>0.006193</td>\n",
              "      <td>25.38</td>\n",
              "      <td>17.33</td>\n",
              "      <td>184.6</td>\n",
              "      <td>2019.0</td>\n",
              "      <td>0.1622</td>\n",
              "      <td>0.6656</td>\n",
              "      <td>0.7119</td>\n",
              "      <td>0.2654</td>\n",
              "      <td>0.4601</td>\n",
              "      <td>0.11890</td>\n",
              "      <td>NaN</td>\n",
              "    </tr>\n",
              "    <tr>\n",
              "      <th>1</th>\n",
              "      <td>842517</td>\n",
              "      <td>20.57</td>\n",
              "      <td>17.77</td>\n",
              "      <td>132.9</td>\n",
              "      <td>1326.0</td>\n",
              "      <td>0.08474</td>\n",
              "      <td>0.07864</td>\n",
              "      <td>0.0869</td>\n",
              "      <td>0.07017</td>\n",
              "      <td>0.1812</td>\n",
              "      <td>0.05667</td>\n",
              "      <td>0.5435</td>\n",
              "      <td>0.7339</td>\n",
              "      <td>3.398</td>\n",
              "      <td>74.08</td>\n",
              "      <td>0.005225</td>\n",
              "      <td>0.01308</td>\n",
              "      <td>0.01860</td>\n",
              "      <td>0.01340</td>\n",
              "      <td>0.01389</td>\n",
              "      <td>0.003532</td>\n",
              "      <td>24.99</td>\n",
              "      <td>23.41</td>\n",
              "      <td>158.8</td>\n",
              "      <td>1956.0</td>\n",
              "      <td>0.1238</td>\n",
              "      <td>0.1866</td>\n",
              "      <td>0.2416</td>\n",
              "      <td>0.1860</td>\n",
              "      <td>0.2750</td>\n",
              "      <td>0.08902</td>\n",
              "      <td>NaN</td>\n",
              "    </tr>\n",
              "  </tbody>\n",
              "</table>\n",
              "</div>"
            ],
            "text/plain": [
              "       id  radius_mean  ...  fractal_dimension_worst  Unnamed: 32\n",
              "0  842302        17.99  ...                  0.11890          NaN\n",
              "1  842517        20.57  ...                  0.08902          NaN\n",
              "\n",
              "[2 rows x 32 columns]"
            ]
          },
          "metadata": {
            "tags": []
          },
          "execution_count": 60
        }
      ]
    },
    {
      "cell_type": "code",
      "metadata": {
        "id": "AMN0sBGtNncd",
        "colab_type": "code",
        "colab": {}
      },
      "source": [
        "df.isnull().sum()"
      ],
      "execution_count": 0,
      "outputs": []
    },
    {
      "cell_type": "code",
      "metadata": {
        "id": "ev1Rk6PeN0KX",
        "colab_type": "code",
        "colab": {}
      },
      "source": [
        "# dropping last column full of nulls\n",
        "df.drop(['Unnamed: 32'], axis=1, inplace=True)"
      ],
      "execution_count": 0,
      "outputs": []
    },
    {
      "cell_type": "code",
      "metadata": {
        "id": "Ekg4hW3-N267",
        "colab_type": "code",
        "outputId": "ee38bd34-5bdb-4148-ce1c-8d6d5187d397",
        "colab": {
          "base_uri": "https://localhost:8080/",
          "height": 34
        }
      },
      "source": [
        "df.isnull().sum().sum()"
      ],
      "execution_count": 0,
      "outputs": [
        {
          "output_type": "execute_result",
          "data": {
            "text/plain": [
              "0"
            ]
          },
          "metadata": {
            "tags": []
          },
          "execution_count": 63
        }
      ]
    },
    {
      "cell_type": "code",
      "metadata": {
        "id": "N4kYzoPFN8jD",
        "colab_type": "code",
        "colab": {}
      },
      "source": [
        "# make lists of categorical and numeric columns\n",
        "cat_cols = df.columns[df.dtypes=='object']\n",
        "num_cols = df.columns[df.dtypes!='object']"
      ],
      "execution_count": 0,
      "outputs": []
    },
    {
      "cell_type": "code",
      "metadata": {
        "id": "vqkiP_hcOAco",
        "colab_type": "code",
        "outputId": "2d9bd820-9f1b-4859-ece2-352233092045",
        "colab": {
          "base_uri": "https://localhost:8080/",
          "height": 50
        }
      },
      "source": [
        "# There are only numerical columns\n",
        "print(len(cat_cols))\n",
        "len(num_cols)"
      ],
      "execution_count": 0,
      "outputs": [
        {
          "output_type": "stream",
          "text": [
            "0\n"
          ],
          "name": "stdout"
        },
        {
          "output_type": "execute_result",
          "data": {
            "text/plain": [
              "31"
            ]
          },
          "metadata": {
            "tags": []
          },
          "execution_count": 65
        }
      ]
    },
    {
      "cell_type": "code",
      "metadata": {
        "id": "31D3P_O2ONgz",
        "colab_type": "code",
        "colab": {}
      },
      "source": [
        "from sklearn.preprocessing import StandardScaler"
      ],
      "execution_count": 0,
      "outputs": []
    },
    {
      "cell_type": "code",
      "metadata": {
        "id": "xFOE_iCcRJTL",
        "colab_type": "code",
        "outputId": "9d5576c8-dc86-4e4b-8044-f528c4d72635",
        "colab": {
          "base_uri": "https://localhost:8080/",
          "height": 67
        }
      },
      "source": [
        "# Remove the id column I don't need it\n",
        "feature_cols = df.columns[1:]\n",
        "feature_cols[:5]"
      ],
      "execution_count": 0,
      "outputs": [
        {
          "output_type": "execute_result",
          "data": {
            "text/plain": [
              "Index(['radius_mean', 'texture_mean', 'perimeter_mean', 'area_mean',\n",
              "       'smoothness_mean'],\n",
              "      dtype='object')"
            ]
          },
          "metadata": {
            "tags": []
          },
          "execution_count": 66
        }
      ]
    },
    {
      "cell_type": "code",
      "metadata": {
        "id": "84QYVsYDRV74",
        "colab_type": "code",
        "outputId": "dfb7297a-f93a-4d77-bfb6-e598d179da46",
        "colab": {
          "base_uri": "https://localhost:8080/",
          "height": 235
        }
      },
      "source": [
        "x = df.loc[:, feature_cols].values\n",
        "x = StandardScaler().fit_transform(x)\n",
        "x"
      ],
      "execution_count": 0,
      "outputs": [
        {
          "output_type": "execute_result",
          "data": {
            "text/plain": [
              "array([[ 1.09706398, -2.07333501,  1.26993369, ...,  2.29607613,\n",
              "         2.75062224,  1.93701461],\n",
              "       [ 1.82982061, -0.35363241,  1.68595471, ...,  1.0870843 ,\n",
              "        -0.24388967,  0.28118999],\n",
              "       [ 1.57988811,  0.45618695,  1.56650313, ...,  1.95500035,\n",
              "         1.152255  ,  0.20139121],\n",
              "       ...,\n",
              "       [ 0.70228425,  2.0455738 ,  0.67267578, ...,  0.41406869,\n",
              "        -1.10454895, -0.31840916],\n",
              "       [ 1.83834103,  2.33645719,  1.98252415, ...,  2.28998549,\n",
              "         1.91908301,  2.21963528],\n",
              "       [-1.80840125,  1.22179204, -1.81438851, ..., -1.74506282,\n",
              "        -0.04813821, -0.75120669]])"
            ]
          },
          "metadata": {
            "tags": []
          },
          "execution_count": 68
        }
      ]
    },
    {
      "cell_type": "code",
      "metadata": {
        "id": "IwEDWOi3RheA",
        "colab_type": "code",
        "outputId": "8d075aa6-3f2a-48ff-d368-6f8fd50c30d1",
        "colab": {
          "base_uri": "https://localhost:8080/",
          "height": 50
        }
      },
      "source": [
        "print(np.mean(x))\n",
        "print('{:.2f}'.format(np.mean(x)))"
      ],
      "execution_count": 0,
      "outputs": [
        {
          "output_type": "stream",
          "text": [
            "1.2487570048507913e-18\n",
            "0.00\n"
          ],
          "name": "stdout"
        }
      ]
    },
    {
      "cell_type": "code",
      "metadata": {
        "id": "Y736HsaTRlzt",
        "colab_type": "code",
        "outputId": "f3245575-6c33-43cd-ba33-d06ca63c5b2b",
        "colab": {
          "base_uri": "https://localhost:8080/",
          "height": 34
        }
      },
      "source": [
        "print(round(np.std(x), 1))"
      ],
      "execution_count": 0,
      "outputs": [
        {
          "output_type": "stream",
          "text": [
            "1.0\n"
          ],
          "name": "stdout"
        }
      ]
    },
    {
      "cell_type": "code",
      "metadata": {
        "id": "vnnEds91RuIY",
        "colab_type": "code",
        "outputId": "fb901e02-e177-4322-f746-af7e049eb350",
        "colab": {
          "base_uri": "https://localhost:8080/",
          "height": 232
        }
      },
      "source": [
        "bc_df_processed = pd.DataFrame(x, columns=feature_cols)\n",
        "bc_df_processed.head(5)"
      ],
      "execution_count": 0,
      "outputs": [
        {
          "output_type": "execute_result",
          "data": {
            "text/html": [
              "<div>\n",
              "<style scoped>\n",
              "    .dataframe tbody tr th:only-of-type {\n",
              "        vertical-align: middle;\n",
              "    }\n",
              "\n",
              "    .dataframe tbody tr th {\n",
              "        vertical-align: top;\n",
              "    }\n",
              "\n",
              "    .dataframe thead th {\n",
              "        text-align: right;\n",
              "    }\n",
              "</style>\n",
              "<table border=\"1\" class=\"dataframe\">\n",
              "  <thead>\n",
              "    <tr style=\"text-align: right;\">\n",
              "      <th></th>\n",
              "      <th>radius_mean</th>\n",
              "      <th>texture_mean</th>\n",
              "      <th>perimeter_mean</th>\n",
              "      <th>area_mean</th>\n",
              "      <th>smoothness_mean</th>\n",
              "      <th>compactness_mean</th>\n",
              "      <th>concavity_mean</th>\n",
              "      <th>concave points_mean</th>\n",
              "      <th>symmetry_mean</th>\n",
              "      <th>fractal_dimension_mean</th>\n",
              "      <th>radius_se</th>\n",
              "      <th>texture_se</th>\n",
              "      <th>perimeter_se</th>\n",
              "      <th>area_se</th>\n",
              "      <th>smoothness_se</th>\n",
              "      <th>compactness_se</th>\n",
              "      <th>concavity_se</th>\n",
              "      <th>concave points_se</th>\n",
              "      <th>symmetry_se</th>\n",
              "      <th>fractal_dimension_se</th>\n",
              "      <th>radius_worst</th>\n",
              "      <th>texture_worst</th>\n",
              "      <th>perimeter_worst</th>\n",
              "      <th>area_worst</th>\n",
              "      <th>smoothness_worst</th>\n",
              "      <th>compactness_worst</th>\n",
              "      <th>concavity_worst</th>\n",
              "      <th>concave points_worst</th>\n",
              "      <th>symmetry_worst</th>\n",
              "      <th>fractal_dimension_worst</th>\n",
              "    </tr>\n",
              "  </thead>\n",
              "  <tbody>\n",
              "    <tr>\n",
              "      <th>0</th>\n",
              "      <td>1.097064</td>\n",
              "      <td>-2.073335</td>\n",
              "      <td>1.269934</td>\n",
              "      <td>0.984375</td>\n",
              "      <td>1.568466</td>\n",
              "      <td>3.283515</td>\n",
              "      <td>2.652874</td>\n",
              "      <td>2.532475</td>\n",
              "      <td>2.217515</td>\n",
              "      <td>2.255747</td>\n",
              "      <td>2.489734</td>\n",
              "      <td>-0.565265</td>\n",
              "      <td>2.833031</td>\n",
              "      <td>2.487578</td>\n",
              "      <td>-0.214002</td>\n",
              "      <td>1.316862</td>\n",
              "      <td>0.724026</td>\n",
              "      <td>0.660820</td>\n",
              "      <td>1.148757</td>\n",
              "      <td>0.907083</td>\n",
              "      <td>1.886690</td>\n",
              "      <td>-1.359293</td>\n",
              "      <td>2.303601</td>\n",
              "      <td>2.001237</td>\n",
              "      <td>1.307686</td>\n",
              "      <td>2.616665</td>\n",
              "      <td>2.109526</td>\n",
              "      <td>2.296076</td>\n",
              "      <td>2.750622</td>\n",
              "      <td>1.937015</td>\n",
              "    </tr>\n",
              "    <tr>\n",
              "      <th>1</th>\n",
              "      <td>1.829821</td>\n",
              "      <td>-0.353632</td>\n",
              "      <td>1.685955</td>\n",
              "      <td>1.908708</td>\n",
              "      <td>-0.826962</td>\n",
              "      <td>-0.487072</td>\n",
              "      <td>-0.023846</td>\n",
              "      <td>0.548144</td>\n",
              "      <td>0.001392</td>\n",
              "      <td>-0.868652</td>\n",
              "      <td>0.499255</td>\n",
              "      <td>-0.876244</td>\n",
              "      <td>0.263327</td>\n",
              "      <td>0.742402</td>\n",
              "      <td>-0.605351</td>\n",
              "      <td>-0.692926</td>\n",
              "      <td>-0.440780</td>\n",
              "      <td>0.260162</td>\n",
              "      <td>-0.805450</td>\n",
              "      <td>-0.099444</td>\n",
              "      <td>1.805927</td>\n",
              "      <td>-0.369203</td>\n",
              "      <td>1.535126</td>\n",
              "      <td>1.890489</td>\n",
              "      <td>-0.375612</td>\n",
              "      <td>-0.430444</td>\n",
              "      <td>-0.146749</td>\n",
              "      <td>1.087084</td>\n",
              "      <td>-0.243890</td>\n",
              "      <td>0.281190</td>\n",
              "    </tr>\n",
              "    <tr>\n",
              "      <th>2</th>\n",
              "      <td>1.579888</td>\n",
              "      <td>0.456187</td>\n",
              "      <td>1.566503</td>\n",
              "      <td>1.558884</td>\n",
              "      <td>0.942210</td>\n",
              "      <td>1.052926</td>\n",
              "      <td>1.363478</td>\n",
              "      <td>2.037231</td>\n",
              "      <td>0.939685</td>\n",
              "      <td>-0.398008</td>\n",
              "      <td>1.228676</td>\n",
              "      <td>-0.780083</td>\n",
              "      <td>0.850928</td>\n",
              "      <td>1.181336</td>\n",
              "      <td>-0.297005</td>\n",
              "      <td>0.814974</td>\n",
              "      <td>0.213076</td>\n",
              "      <td>1.424827</td>\n",
              "      <td>0.237036</td>\n",
              "      <td>0.293559</td>\n",
              "      <td>1.511870</td>\n",
              "      <td>-0.023974</td>\n",
              "      <td>1.347475</td>\n",
              "      <td>1.456285</td>\n",
              "      <td>0.527407</td>\n",
              "      <td>1.082932</td>\n",
              "      <td>0.854974</td>\n",
              "      <td>1.955000</td>\n",
              "      <td>1.152255</td>\n",
              "      <td>0.201391</td>\n",
              "    </tr>\n",
              "    <tr>\n",
              "      <th>3</th>\n",
              "      <td>-0.768909</td>\n",
              "      <td>0.253732</td>\n",
              "      <td>-0.592687</td>\n",
              "      <td>-0.764464</td>\n",
              "      <td>3.283553</td>\n",
              "      <td>3.402909</td>\n",
              "      <td>1.915897</td>\n",
              "      <td>1.451707</td>\n",
              "      <td>2.867383</td>\n",
              "      <td>4.910919</td>\n",
              "      <td>0.326373</td>\n",
              "      <td>-0.110409</td>\n",
              "      <td>0.286593</td>\n",
              "      <td>-0.288378</td>\n",
              "      <td>0.689702</td>\n",
              "      <td>2.744280</td>\n",
              "      <td>0.819518</td>\n",
              "      <td>1.115007</td>\n",
              "      <td>4.732680</td>\n",
              "      <td>2.047511</td>\n",
              "      <td>-0.281464</td>\n",
              "      <td>0.133984</td>\n",
              "      <td>-0.249939</td>\n",
              "      <td>-0.550021</td>\n",
              "      <td>3.394275</td>\n",
              "      <td>3.893397</td>\n",
              "      <td>1.989588</td>\n",
              "      <td>2.175786</td>\n",
              "      <td>6.046041</td>\n",
              "      <td>4.935010</td>\n",
              "    </tr>\n",
              "    <tr>\n",
              "      <th>4</th>\n",
              "      <td>1.750297</td>\n",
              "      <td>-1.151816</td>\n",
              "      <td>1.776573</td>\n",
              "      <td>1.826229</td>\n",
              "      <td>0.280372</td>\n",
              "      <td>0.539340</td>\n",
              "      <td>1.371011</td>\n",
              "      <td>1.428493</td>\n",
              "      <td>-0.009560</td>\n",
              "      <td>-0.562450</td>\n",
              "      <td>1.270543</td>\n",
              "      <td>-0.790244</td>\n",
              "      <td>1.273189</td>\n",
              "      <td>1.190357</td>\n",
              "      <td>1.483067</td>\n",
              "      <td>-0.048520</td>\n",
              "      <td>0.828471</td>\n",
              "      <td>1.144205</td>\n",
              "      <td>-0.361092</td>\n",
              "      <td>0.499328</td>\n",
              "      <td>1.298575</td>\n",
              "      <td>-1.466770</td>\n",
              "      <td>1.338539</td>\n",
              "      <td>1.220724</td>\n",
              "      <td>0.220556</td>\n",
              "      <td>-0.313395</td>\n",
              "      <td>0.613179</td>\n",
              "      <td>0.729259</td>\n",
              "      <td>-0.868353</td>\n",
              "      <td>-0.397100</td>\n",
              "    </tr>\n",
              "  </tbody>\n",
              "</table>\n",
              "</div>"
            ],
            "text/plain": [
              "   radius_mean  texture_mean  ...  symmetry_worst  fractal_dimension_worst\n",
              "0     1.097064     -2.073335  ...        2.750622                 1.937015\n",
              "1     1.829821     -0.353632  ...       -0.243890                 0.281190\n",
              "2     1.579888      0.456187  ...        1.152255                 0.201391\n",
              "3    -0.768909      0.253732  ...        6.046041                 4.935010\n",
              "4     1.750297     -1.151816  ...       -0.868353                -0.397100\n",
              "\n",
              "[5 rows x 30 columns]"
            ]
          },
          "metadata": {
            "tags": []
          },
          "execution_count": 72
        }
      ]
    },
    {
      "cell_type": "markdown",
      "metadata": {
        "id": "GnNnBGq5R_Uc",
        "colab_type": "text"
      },
      "source": [
        "## PC1 and PC2 Cluster (done)"
      ]
    },
    {
      "cell_type": "code",
      "metadata": {
        "id": "bCAnQekMR4-a",
        "colab_type": "code",
        "colab": {}
      },
      "source": [
        "# Now that everything is standardized we can begin PCA\n",
        "from sklearn.decomposition import PCA"
      ],
      "execution_count": 0,
      "outputs": []
    },
    {
      "cell_type": "code",
      "metadata": {
        "id": "xUFerDQDSJvl",
        "colab_type": "code",
        "colab": {}
      },
      "source": [
        "canc_ch = PCA(n_components=2)"
      ],
      "execution_count": 0,
      "outputs": []
    },
    {
      "cell_type": "code",
      "metadata": {
        "id": "lQpJFNhbSWmO",
        "colab_type": "code",
        "colab": {}
      },
      "source": [
        "cancer_data = canc_ch.fit_transform(x)"
      ],
      "execution_count": 0,
      "outputs": []
    },
    {
      "cell_type": "code",
      "metadata": {
        "id": "QaVYcLGdSh0n",
        "colab_type": "code",
        "outputId": "5a00e173-c1b0-4676-c70f-975317375cf5",
        "colab": {
          "base_uri": "https://localhost:8080/",
          "height": 195
        }
      },
      "source": [
        "df_final = pd.DataFrame(data=cancer_data, columns=['pca_1', 'pca_2'])\n",
        "df_final.head()"
      ],
      "execution_count": 0,
      "outputs": [
        {
          "output_type": "execute_result",
          "data": {
            "text/html": [
              "<div>\n",
              "<style scoped>\n",
              "    .dataframe tbody tr th:only-of-type {\n",
              "        vertical-align: middle;\n",
              "    }\n",
              "\n",
              "    .dataframe tbody tr th {\n",
              "        vertical-align: top;\n",
              "    }\n",
              "\n",
              "    .dataframe thead th {\n",
              "        text-align: right;\n",
              "    }\n",
              "</style>\n",
              "<table border=\"1\" class=\"dataframe\">\n",
              "  <thead>\n",
              "    <tr style=\"text-align: right;\">\n",
              "      <th></th>\n",
              "      <th>pca_1</th>\n",
              "      <th>pca_2</th>\n",
              "    </tr>\n",
              "  </thead>\n",
              "  <tbody>\n",
              "    <tr>\n",
              "      <th>0</th>\n",
              "      <td>9.192837</td>\n",
              "      <td>1.948583</td>\n",
              "    </tr>\n",
              "    <tr>\n",
              "      <th>1</th>\n",
              "      <td>2.387802</td>\n",
              "      <td>-3.768172</td>\n",
              "    </tr>\n",
              "    <tr>\n",
              "      <th>2</th>\n",
              "      <td>5.733896</td>\n",
              "      <td>-1.075174</td>\n",
              "    </tr>\n",
              "    <tr>\n",
              "      <th>3</th>\n",
              "      <td>7.122953</td>\n",
              "      <td>10.275589</td>\n",
              "    </tr>\n",
              "    <tr>\n",
              "      <th>4</th>\n",
              "      <td>3.935302</td>\n",
              "      <td>-1.948072</td>\n",
              "    </tr>\n",
              "  </tbody>\n",
              "</table>\n",
              "</div>"
            ],
            "text/plain": [
              "      pca_1      pca_2\n",
              "0  9.192837   1.948583\n",
              "1  2.387802  -3.768172\n",
              "2  5.733896  -1.075174\n",
              "3  7.122953  10.275589\n",
              "4  3.935302  -1.948072"
            ]
          },
          "metadata": {
            "tags": []
          },
          "execution_count": 76
        }
      ]
    },
    {
      "cell_type": "code",
      "metadata": {
        "id": "0tWYxGeHSuOF",
        "colab_type": "code",
        "outputId": "47dae078-5ce1-4e59-cd31-1654404ea078",
        "colab": {
          "base_uri": "https://localhost:8080/",
          "height": 34
        }
      },
      "source": [
        "canc_ch.explained_variance_ratio_"
      ],
      "execution_count": 0,
      "outputs": [
        {
          "output_type": "execute_result",
          "data": {
            "text/plain": [
              "array([0.44272026, 0.18971182])"
            ]
          },
          "metadata": {
            "tags": []
          },
          "execution_count": 77
        }
      ]
    },
    {
      "cell_type": "code",
      "metadata": {
        "id": "W8nJ3YnWS3bM",
        "colab_type": "code",
        "outputId": "c9ac4cd4-e9d2-4b2a-8cd4-59d3c9d92059",
        "colab": {
          "base_uri": "https://localhost:8080/",
          "height": 34
        }
      },
      "source": [
        "# how much total variance did we explain?\n",
        "sum(canc_ch.explained_variance_ratio_)"
      ],
      "execution_count": 0,
      "outputs": [
        {
          "output_type": "execute_result",
          "data": {
            "text/plain": [
              "0.6324320765155951"
            ]
          },
          "metadata": {
            "tags": []
          },
          "execution_count": 78
        }
      ]
    },
    {
      "cell_type": "code",
      "metadata": {
        "id": "sRYAvPxTS-fp",
        "colab_type": "code",
        "outputId": "f78856a3-b0bd-4f18-8b53-7191677afa12",
        "colab": {
          "base_uri": "https://localhost:8080/",
          "height": 34
        }
      },
      "source": [
        "1-sum(canc_ch.explained_variance_ratio_)"
      ],
      "execution_count": 0,
      "outputs": [
        {
          "output_type": "execute_result",
          "data": {
            "text/plain": [
              "0.3675679234844049"
            ]
          },
          "metadata": {
            "tags": []
          },
          "execution_count": 79
        }
      ]
    },
    {
      "cell_type": "code",
      "metadata": {
        "id": "zUBOORnBVlQi",
        "colab_type": "code",
        "colab": {}
      },
      "source": [
        "import matplotlib.pyplot as plt"
      ],
      "execution_count": 0,
      "outputs": []
    },
    {
      "cell_type": "code",
      "metadata": {
        "id": "pIxCEZblTEi8",
        "colab_type": "code",
        "outputId": "b6dfba78-418c-4a9c-a5d7-ec8490e3dd48",
        "colab": {
          "base_uri": "https://localhost:8080/",
          "height": 296
        }
      },
      "source": [
        "# It looks nicer because I added back in 'diagnosis' above\n",
        "plt.scatter(df_final['pca_1'], df_final['pca_2'], alpha=.3)\n",
        "\n",
        "plt.title('Pca')\n",
        "\n",
        "plt.xlabel('pca_1')\n",
        "\n",
        "plt.ylabel('pca_1')\n",
        "\n",
        "plt.show()"
      ],
      "execution_count": 0,
      "outputs": [
        {
          "output_type": "display_data",
          "data": {
            "image/png": "[encoded data removed]",
            "text/plain": [
              "<Figure size 432x288 with 1 Axes>"
            ]
          },
          "metadata": {
            "tags": [],
            "needs_background": "light"
          }
        }
      ]
    },
    {
      "cell_type": "code",
      "metadata": {
        "id": "6UVr2VRTLLzx",
        "colab_type": "code",
        "colab": {}
      },
      "source": [
        "# plot the visualization of the data by the components\n",
        "# Have to set the letters M and B to strings\n",
        "plt.figure(figsize=(10,10))\n",
        "plt.xlabel('Component 1')\n",
        "plt.ylabel('Component 2')\n",
        "for k, c in [('M', 'indigo'), ('B', 'gold')]:\n",
        "  subset=df_final[df_final['diagnosis']==k]\n",
        "  plt.scatter(x=subset['comp1'],\n",
        "              y=subset['comp2'],\n",
        "              s=200,\n",
        "              alpha=.5,\n",
        "              color=c,\n",
        "              label=k)\n",
        "plt.legend();"
      ],
      "execution_count": 0,
      "outputs": []
    },
    {
      "cell_type": "markdown",
      "metadata": {
        "id": "A8L-PHRLMq52",
        "colab_type": "text"
      },
      "source": [
        "##Scree Plot (done)"
      ]
    },
    {
      "cell_type": "code",
      "metadata": {
        "id": "qQc5Jaky-ot8",
        "colab_type": "code",
        "outputId": "98bd4c90-a749-471b-c8d9-9e39807533a8",
        "colab": {
          "base_uri": "https://localhost:8080/",
          "height": 571
        }
      },
      "source": [
        "# There are nulls in the last column need to eliminate\n",
        "df.isnull().sum()"
      ],
      "execution_count": 0,
      "outputs": [
        {
          "output_type": "execute_result",
          "data": {
            "text/plain": [
              "id                           0\n",
              "radius_mean                  0\n",
              "texture_mean                 0\n",
              "perimeter_mean               0\n",
              "area_mean                    0\n",
              "smoothness_mean              0\n",
              "compactness_mean             0\n",
              "concavity_mean               0\n",
              "concave points_mean          0\n",
              "symmetry_mean                0\n",
              "fractal_dimension_mean       0\n",
              "radius_se                    0\n",
              "texture_se                   0\n",
              "perimeter_se                 0\n",
              "area_se                      0\n",
              "smoothness_se                0\n",
              "compactness_se               0\n",
              "concavity_se                 0\n",
              "concave points_se            0\n",
              "symmetry_se                  0\n",
              "fractal_dimension_se         0\n",
              "radius_worst                 0\n",
              "texture_worst                0\n",
              "perimeter_worst              0\n",
              "area_worst                   0\n",
              "smoothness_worst             0\n",
              "compactness_worst            0\n",
              "concavity_worst              0\n",
              "concave points_worst         0\n",
              "symmetry_worst               0\n",
              "fractal_dimension_worst      0\n",
              "Unnamed: 32                569\n",
              "dtype: int64"
            ]
          },
          "metadata": {
            "tags": []
          },
          "execution_count": 20
        }
      ]
    },
    {
      "cell_type": "code",
      "metadata": {
        "id": "IQ-8EXl0_Drz",
        "colab_type": "code",
        "colab": {}
      },
      "source": [
        "# dropping last column full of nulls\n",
        "df.drop(['Unnamed: 32'], axis=1, inplace=True)"
      ],
      "execution_count": 0,
      "outputs": []
    },
    {
      "cell_type": "code",
      "metadata": {
        "id": "t1RNZMWA_Mmw",
        "colab_type": "code",
        "outputId": "223e4f20-c8cc-4ff6-f09b-e8aea11d5f30",
        "colab": {
          "base_uri": "https://localhost:8080/",
          "height": 34
        }
      },
      "source": [
        "# now there are no nulls\n",
        "df.isnull().sum().sum()"
      ],
      "execution_count": 0,
      "outputs": [
        {
          "output_type": "execute_result",
          "data": {
            "text/plain": [
              "0"
            ]
          },
          "metadata": {
            "tags": []
          },
          "execution_count": 40
        }
      ]
    },
    {
      "cell_type": "code",
      "metadata": {
        "id": "le_vQU5Y8gJ7",
        "colab_type": "code",
        "colab": {}
      },
      "source": [
        "# make lists of categorical and numeric columns\n",
        "cat_cols = df.columns[df.dtypes=='object']\n",
        "num_cols = df.columns[df.dtypes!='object']"
      ],
      "execution_count": 0,
      "outputs": []
    },
    {
      "cell_type": "code",
      "metadata": {
        "id": "945Iw-YY87Tw",
        "colab_type": "code",
        "outputId": "918101d8-5a91-4374-c6f3-0723201bc3be",
        "colab": {
          "base_uri": "https://localhost:8080/",
          "height": 50
        }
      },
      "source": [
        "# There are only numerical columns\n",
        "print(len(cat_cols))\n",
        "len(num_cols)"
      ],
      "execution_count": 0,
      "outputs": [
        {
          "output_type": "stream",
          "text": [
            "0\n"
          ],
          "name": "stdout"
        },
        {
          "output_type": "execute_result",
          "data": {
            "text/plain": [
              "31"
            ]
          },
          "metadata": {
            "tags": []
          },
          "execution_count": 29
        }
      ]
    },
    {
      "cell_type": "code",
      "metadata": {
        "id": "0I5QjDZQ9HC7",
        "colab_type": "code",
        "colab": {}
      },
      "source": [
        "# BEST PRACTICE to make a copy\n",
        "diagnostic_can = df.copy()"
      ],
      "execution_count": 0,
      "outputs": []
    },
    {
      "cell_type": "code",
      "metadata": {
        "id": "lYEKsKfc9iUE",
        "colab_type": "code",
        "colab": {}
      },
      "source": [
        "# import and initiate sklearn class\n",
        "from sklearn.preprocessing import StandardScaler\n",
        "myscaler = StandardScaler()"
      ],
      "execution_count": 0,
      "outputs": []
    },
    {
      "cell_type": "code",
      "metadata": {
        "id": "Rg6hLwV79qnN",
        "colab_type": "code",
        "colab": {}
      },
      "source": [
        "# standardize the dataset\n",
        "diagnostic_can = myscaler.fit_transform(diagnostic_can)"
      ],
      "execution_count": 0,
      "outputs": []
    },
    {
      "cell_type": "code",
      "metadata": {
        "id": "ca4BqkS69_Je",
        "colab_type": "code",
        "outputId": "f1a7a1e2-340f-4ec2-daba-5b7b94c23007",
        "colab": {
          "base_uri": "https://localhost:8080/",
          "height": 134
        }
      },
      "source": [
        "# look at first row of data\n",
        "diagnostic_can[:1]"
      ],
      "execution_count": 0,
      "outputs": [
        {
          "output_type": "execute_result",
          "data": {
            "text/plain": [
              "array([[-0.23640517,  1.09706398, -2.07333501,  1.26993369,  0.9843749 ,\n",
              "         1.56846633,  3.28351467,  2.65287398,  2.53247522,  2.21751501,\n",
              "         2.25574689,  2.48973393, -0.56526506,  2.83303087,  2.48757756,\n",
              "        -0.21400165,  1.31686157,  0.72402616,  0.66081994,  1.14875667,\n",
              "         0.90708308,  1.88668963, -1.35929347,  2.30360062,  2.00123749,\n",
              "         1.30768627,  2.61666502,  2.10952635,  2.29607613,  2.75062224,\n",
              "         1.93701461]])"
            ]
          },
          "metadata": {
            "tags": []
          },
          "execution_count": 35
        }
      ]
    },
    {
      "cell_type": "code",
      "metadata": {
        "id": "tw5vh6riADgB",
        "colab_type": "code",
        "outputId": "7283f7c9-7061-4447-e071-30cd55c67491",
        "colab": {
          "base_uri": "https://localhost:8080/",
          "height": 34
        }
      },
      "source": [
        "# mean should be zero\n",
        "diagnostic_can.mean()"
      ],
      "execution_count": 0,
      "outputs": [
        {
          "output_type": "execute_result",
          "data": {
            "text/plain": [
              "3.4240111423328146e-18"
            ]
          },
          "metadata": {
            "tags": []
          },
          "execution_count": 38
        }
      ]
    },
    {
      "cell_type": "code",
      "metadata": {
        "id": "KILttqgeAJZI",
        "colab_type": "code",
        "outputId": "bf032911-9b38-42ba-ae18-5097aa358219",
        "colab": {
          "base_uri": "https://localhost:8080/",
          "height": 34
        }
      },
      "source": [
        "# standard deviation should be 1\n",
        "diagnostic_can.std()"
      ],
      "execution_count": 0,
      "outputs": [
        {
          "output_type": "execute_result",
          "data": {
            "text/plain": [
              "1.0"
            ]
          },
          "metadata": {
            "tags": []
          },
          "execution_count": 37
        }
      ]
    },
    {
      "cell_type": "code",
      "metadata": {
        "id": "qKaNeV6sAk30",
        "colab_type": "code",
        "colab": {}
      },
      "source": [
        "# import and initiate PCA class choose 10 components\n",
        "from sklearn.decomposition import PCA\n",
        "mypca = PCA(n_components=10)"
      ],
      "execution_count": 0,
      "outputs": []
    },
    {
      "cell_type": "code",
      "metadata": {
        "id": "KNwljz5_ArvG",
        "colab_type": "code",
        "colab": {}
      },
      "source": [
        "# Apply PCA to the data\n",
        "pca_features = mypca.fit_transform(diagnostic_can)"
      ],
      "execution_count": 0,
      "outputs": []
    },
    {
      "cell_type": "code",
      "metadata": {
        "id": "8NRiJsZsAzvd",
        "colab_type": "code",
        "outputId": "7a47ca64-464b-4f87-d436-fcd2c43fb2cf",
        "colab": {
          "base_uri": "https://localhost:8080/",
          "height": 50
        }
      },
      "source": [
        "# Now there are only 10 columns of data\n",
        "pca_features[:1]"
      ],
      "execution_count": 0,
      "outputs": [
        {
          "output_type": "execute_result",
          "data": {
            "text/plain": [
              "array([[ 9.18319983,  1.97127137, -1.17162471,  3.6393323 , -1.19309841,\n",
              "        -1.37228031,  0.3718442 ,  2.18052842, -0.23161911, -0.09038915]])"
            ]
          },
          "metadata": {
            "tags": []
          },
          "execution_count": 42
        }
      ]
    },
    {
      "cell_type": "code",
      "metadata": {
        "id": "G5oAeluxA7m_",
        "colab_type": "code",
        "outputId": "6d22dc92-f648-44e5-e701-7da357bf5750",
        "colab": {
          "base_uri": "https://localhost:8080/",
          "height": 402
        }
      },
      "source": [
        "# take a look at the results\n",
        "pd.DataFrame(pca_features)"
      ],
      "execution_count": 0,
      "outputs": [
        {
          "output_type": "execute_result",
          "data": {
            "text/html": [
              "<div>\n",
              "<style scoped>\n",
              "    .dataframe tbody tr th:only-of-type {\n",
              "        vertical-align: middle;\n",
              "    }\n",
              "\n",
              "    .dataframe tbody tr th {\n",
              "        vertical-align: top;\n",
              "    }\n",
              "\n",
              "    .dataframe thead th {\n",
              "        text-align: right;\n",
              "    }\n",
              "</style>\n",
              "<table border=\"1\" class=\"dataframe\">\n",
              "  <thead>\n",
              "    <tr style=\"text-align: right;\">\n",
              "      <th></th>\n",
              "      <th>0</th>\n",
              "      <th>1</th>\n",
              "      <th>2</th>\n",
              "      <th>3</th>\n",
              "      <th>4</th>\n",
              "      <th>5</th>\n",
              "      <th>6</th>\n",
              "      <th>7</th>\n",
              "      <th>8</th>\n",
              "      <th>9</th>\n",
              "    </tr>\n",
              "  </thead>\n",
              "  <tbody>\n",
              "    <tr>\n",
              "      <th>0</th>\n",
              "      <td>9.183200</td>\n",
              "      <td>1.971271</td>\n",
              "      <td>-1.171625</td>\n",
              "      <td>3.639332</td>\n",
              "      <td>-1.193098</td>\n",
              "      <td>-1.372280</td>\n",
              "      <td>0.371844</td>\n",
              "      <td>2.180528</td>\n",
              "      <td>-0.231619</td>\n",
              "      <td>-0.090389</td>\n",
              "    </tr>\n",
              "    <tr>\n",
              "      <th>1</th>\n",
              "      <td>2.383298</td>\n",
              "      <td>-3.753459</td>\n",
              "      <td>-0.580229</td>\n",
              "      <td>1.127438</td>\n",
              "      <td>0.624850</td>\n",
              "      <td>-0.126616</td>\n",
              "      <td>-0.288270</td>\n",
              "      <td>0.044935</td>\n",
              "      <td>0.426924</td>\n",
              "      <td>-0.659939</td>\n",
              "    </tr>\n",
              "    <tr>\n",
              "      <th>2</th>\n",
              "      <td>5.742472</td>\n",
              "      <td>-1.080350</td>\n",
              "      <td>-0.533088</td>\n",
              "      <td>0.903470</td>\n",
              "      <td>-0.180601</td>\n",
              "      <td>-0.401855</td>\n",
              "      <td>0.463188</td>\n",
              "      <td>-0.715208</td>\n",
              "      <td>-0.010709</td>\n",
              "      <td>-0.082320</td>\n",
              "    </tr>\n",
              "    <tr>\n",
              "      <th>3</th>\n",
              "      <td>7.124384</td>\n",
              "      <td>10.272225</td>\n",
              "      <td>-3.150161</td>\n",
              "      <td>0.121512</td>\n",
              "      <td>-2.968055</td>\n",
              "      <td>-2.561668</td>\n",
              "      <td>1.950177</td>\n",
              "      <td>1.287991</td>\n",
              "      <td>1.272647</td>\n",
              "      <td>-1.171403</td>\n",
              "    </tr>\n",
              "    <tr>\n",
              "      <th>4</th>\n",
              "      <td>3.945694</td>\n",
              "      <td>-1.959689</td>\n",
              "      <td>1.401177</td>\n",
              "      <td>2.937555</td>\n",
              "      <td>0.540853</td>\n",
              "      <td>1.233300</td>\n",
              "      <td>-0.205435</td>\n",
              "      <td>-0.959329</td>\n",
              "      <td>0.629116</td>\n",
              "      <td>-0.166350</td>\n",
              "    </tr>\n",
              "    <tr>\n",
              "      <th>...</th>\n",
              "      <td>...</td>\n",
              "      <td>...</td>\n",
              "      <td>...</td>\n",
              "      <td>...</td>\n",
              "      <td>...</td>\n",
              "      <td>...</td>\n",
              "      <td>...</td>\n",
              "      <td>...</td>\n",
              "      <td>...</td>\n",
              "      <td>...</td>\n",
              "    </tr>\n",
              "    <tr>\n",
              "      <th>564</th>\n",
              "      <td>6.435329</td>\n",
              "      <td>-3.565358</td>\n",
              "      <td>2.399112</td>\n",
              "      <td>1.197814</td>\n",
              "      <td>-0.071089</td>\n",
              "      <td>2.028789</td>\n",
              "      <td>-1.345195</td>\n",
              "      <td>-0.522453</td>\n",
              "      <td>-0.184005</td>\n",
              "      <td>1.045664</td>\n",
              "    </tr>\n",
              "    <tr>\n",
              "      <th>565</th>\n",
              "      <td>3.789458</td>\n",
              "      <td>-3.573419</td>\n",
              "      <td>2.029505</td>\n",
              "      <td>-2.478688</td>\n",
              "      <td>-0.498521</td>\n",
              "      <td>-0.080423</td>\n",
              "      <td>-1.024112</td>\n",
              "      <td>-0.585571</td>\n",
              "      <td>-0.949732</td>\n",
              "      <td>-0.258752</td>\n",
              "    </tr>\n",
              "    <tr>\n",
              "      <th>566</th>\n",
              "      <td>1.251890</td>\n",
              "      <td>-1.893977</td>\n",
              "      <td>0.534467</td>\n",
              "      <td>-2.077633</td>\n",
              "      <td>1.814829</td>\n",
              "      <td>0.394713</td>\n",
              "      <td>-0.437806</td>\n",
              "      <td>-0.178669</td>\n",
              "      <td>0.262118</td>\n",
              "      <td>0.475978</td>\n",
              "    </tr>\n",
              "    <tr>\n",
              "      <th>567</th>\n",
              "      <td>10.365035</td>\n",
              "      <td>1.696398</td>\n",
              "      <td>-1.907418</td>\n",
              "      <td>-2.351807</td>\n",
              "      <td>-0.028220</td>\n",
              "      <td>-0.656719</td>\n",
              "      <td>-0.195263</td>\n",
              "      <td>0.275202</td>\n",
              "      <td>-0.072783</td>\n",
              "      <td>-0.518179</td>\n",
              "    </tr>\n",
              "    <tr>\n",
              "      <th>568</th>\n",
              "      <td>-5.478264</td>\n",
              "      <td>-0.672788</td>\n",
              "      <td>1.477165</td>\n",
              "      <td>-2.285042</td>\n",
              "      <td>-0.176874</td>\n",
              "      <td>-1.572076</td>\n",
              "      <td>0.600341</td>\n",
              "      <td>1.635592</td>\n",
              "      <td>0.969459</td>\n",
              "      <td>0.677728</td>\n",
              "    </tr>\n",
              "  </tbody>\n",
              "</table>\n",
              "<p>569 rows × 10 columns</p>\n",
              "</div>"
            ],
            "text/plain": [
              "             0          1         2  ...         7         8         9\n",
              "0     9.183200   1.971271 -1.171625  ...  2.180528 -0.231619 -0.090389\n",
              "1     2.383298  -3.753459 -0.580229  ...  0.044935  0.426924 -0.659939\n",
              "2     5.742472  -1.080350 -0.533088  ... -0.715208 -0.010709 -0.082320\n",
              "3     7.124384  10.272225 -3.150161  ...  1.287991  1.272647 -1.171403\n",
              "4     3.945694  -1.959689  1.401177  ... -0.959329  0.629116 -0.166350\n",
              "..         ...        ...       ...  ...       ...       ...       ...\n",
              "564   6.435329  -3.565358  2.399112  ... -0.522453 -0.184005  1.045664\n",
              "565   3.789458  -3.573419  2.029505  ... -0.585571 -0.949732 -0.258752\n",
              "566   1.251890  -1.893977  0.534467  ... -0.178669  0.262118  0.475978\n",
              "567  10.365035   1.696398 -1.907418  ...  0.275202 -0.072783 -0.518179\n",
              "568  -5.478264  -0.672788  1.477165  ...  1.635592  0.969459  0.677728\n",
              "\n",
              "[569 rows x 10 columns]"
            ]
          },
          "metadata": {
            "tags": []
          },
          "execution_count": 43
        }
      ]
    },
    {
      "cell_type": "code",
      "metadata": {
        "id": "Z-1FT7JlA7iP",
        "colab_type": "code",
        "outputId": "3531685f-4510-4c5e-8cff-9c33db9b0052",
        "colab": {
          "base_uri": "https://localhost:8080/",
          "height": 50
        }
      },
      "source": [
        "mypca.explained_variance_ratio_"
      ],
      "execution_count": 0,
      "outputs": [
        {
          "output_type": "execute_result",
          "data": {
            "text/plain": [
              "array([0.42864701, 0.18376792, 0.09146436, 0.06391475, 0.05318759,\n",
              "       0.03982815, 0.0315572 , 0.02166945, 0.01486427, 0.01300429])"
            ]
          },
          "metadata": {
            "tags": []
          },
          "execution_count": 44
        }
      ]
    },
    {
      "cell_type": "code",
      "metadata": {
        "id": "NtmMElcmA7dj",
        "colab_type": "code",
        "outputId": "12c5e73a-7780-4611-d7b9-a39312286a9d",
        "colab": {
          "base_uri": "https://localhost:8080/",
          "height": 34
        }
      },
      "source": [
        "sum(mypca.explained_variance_ratio_)"
      ],
      "execution_count": 0,
      "outputs": [
        {
          "output_type": "execute_result",
          "data": {
            "text/plain": [
              "0.9419049919773116"
            ]
          },
          "metadata": {
            "tags": []
          },
          "execution_count": 45
        }
      ]
    },
    {
      "cell_type": "code",
      "metadata": {
        "id": "yVjcIzSBA7Xn",
        "colab_type": "code",
        "outputId": "2198d3bc-0b63-45ee-b758-6ad2cb871457",
        "colab": {
          "base_uri": "https://localhost:8080/",
          "height": 34
        }
      },
      "source": [
        "1-sum(mypca.explained_variance_ratio_)"
      ],
      "execution_count": 0,
      "outputs": [
        {
          "output_type": "execute_result",
          "data": {
            "text/plain": [
              "0.05809500802268841"
            ]
          },
          "metadata": {
            "tags": []
          },
          "execution_count": 46
        }
      ]
    },
    {
      "cell_type": "code",
      "metadata": {
        "id": "gg5PE1o8A7P4",
        "colab_type": "code",
        "outputId": "87cc9bee-ca1e-4851-96d8-c28afda1b391",
        "colab": {
          "base_uri": "https://localhost:8080/",
          "height": 34
        }
      },
      "source": [
        "# define the number of components\n",
        "num_components = len(mypca.explained_variance_ratio_)\n",
        "num_components"
      ],
      "execution_count": 0,
      "outputs": [
        {
          "output_type": "execute_result",
          "data": {
            "text/plain": [
              "10"
            ]
          },
          "metadata": {
            "tags": []
          },
          "execution_count": 47
        }
      ]
    },
    {
      "cell_type": "code",
      "metadata": {
        "id": "ju8P-EpeA7DX",
        "colab_type": "code",
        "outputId": "48136ea4-b7e8-4a51-a585-b8e74dd99dad",
        "colab": {
          "base_uri": "https://localhost:8080/",
          "height": 34
        }
      },
      "source": [
        "ind = np.arange(num_components)\n",
        "ind"
      ],
      "execution_count": 0,
      "outputs": [
        {
          "output_type": "execute_result",
          "data": {
            "text/plain": [
              "array([0, 1, 2, 3, 4, 5, 6, 7, 8, 9])"
            ]
          },
          "metadata": {
            "tags": []
          },
          "execution_count": 48
        }
      ]
    },
    {
      "cell_type": "code",
      "metadata": {
        "id": "NN4-H02vA6mM",
        "colab_type": "code",
        "outputId": "cf218478-4e34-445b-82f5-0b65009bd426",
        "colab": {
          "base_uri": "https://localhost:8080/",
          "height": 50
        }
      },
      "source": [
        "vals = mypca.explained_variance_ratio_\n",
        "vals"
      ],
      "execution_count": 0,
      "outputs": [
        {
          "output_type": "execute_result",
          "data": {
            "text/plain": [
              "array([0.42864701, 0.18376792, 0.09146436, 0.06391475, 0.05318759,\n",
              "       0.03982815, 0.0315572 , 0.02166945, 0.01486427, 0.01300429])"
            ]
          },
          "metadata": {
            "tags": []
          },
          "execution_count": 49
        }
      ]
    },
    {
      "cell_type": "code",
      "metadata": {
        "id": "z8UAsj1VDGQq",
        "colab_type": "code",
        "outputId": "f3c54b36-aabd-45cc-ad12-960476a3ca63",
        "colab": {
          "base_uri": "https://localhost:8080/",
          "height": 265
        }
      },
      "source": [
        "plt.bar(ind, vals);"
      ],
      "execution_count": 0,
      "outputs": [
        {
          "output_type": "display_data",
          "data": {
            "image/png": "[encoded data removed]",
            "text/plain": [
              "<Figure size 432x288 with 1 Axes>"
            ]
          },
          "metadata": {
            "tags": [],
            "needs_background": "light"
          }
        }
      ]
    },
    {
      "cell_type": "code",
      "metadata": {
        "id": "OqHFEviCDX2p",
        "colab_type": "code",
        "outputId": "06147551-8ebe-4c14-ae1c-d9ddcb75d5a8",
        "colab": {
          "base_uri": "https://localhost:8080/",
          "height": 265
        }
      },
      "source": [
        "import matplotlib.pyplot as plt\n",
        "cumvals = np.cumsum(vals)\n",
        "plt.plot(ind, cumvals, c='r');"
      ],
      "execution_count": 0,
      "outputs": [
        {
          "output_type": "display_data",
          "data": {
            "image/png": "[encoded data removed]",
            "text/plain": [
              "<Figure size 432x288 with 1 Axes>"
            ]
          },
          "metadata": {
            "tags": [],
            "needs_background": "light"
          }
        }
      ]
    },
    {
      "cell_type": "code",
      "metadata": {
        "id": "K0OnJlbfDfw2",
        "colab_type": "code",
        "colab": {}
      },
      "source": [
        "# Define scree plot function\n",
        "# GENERIC FOR ANY PCA put into the function as a parameter\n",
        "def scree_plot(pca):\n",
        "\n",
        "    num_components=len(pca.explained_variance_ratio_)\n",
        "    ind = np.arange(num_components)\n",
        "    vals = pca.explained_variance_ratio_\n",
        " \n",
        "    plt.figure(figsize=(12, 6))\n",
        "    ax = plt.subplot(111)\n",
        "    cumvals = np.cumsum(vals)\n",
        "    ax.bar(ind, vals)\n",
        "    ax.plot(ind, cumvals, c='r')\n",
        "    for i in range(num_components):\n",
        "        ax.annotate(r\"%s\" % ((str(vals[i]*100)[:3])), (ind[i], vals[i]), va=\"bottom\", ha=\"center\", fontsize=4.5)\n",
        " \n",
        "    ax.xaxis.set_tick_params(width=0)\n",
        "    ax.yaxis.set_tick_params(width=2, length=12)\n",
        "\n",
        "    ax.set_xlabel(\"Principal Component\")\n",
        "    ax.set_ylabel(\"Variance Explained (%)\")\n",
        "    plt.title('Explained Variance Per Principal Component')"
      ],
      "execution_count": 0,
      "outputs": []
    },
    {
      "cell_type": "code",
      "metadata": {
        "id": "A6a4SzicDwz7",
        "colab_type": "code",
        "outputId": "59765ac0-022f-4d67-f436-cda25ea7c8bd",
        "colab": {
          "base_uri": "https://localhost:8080/",
          "height": 404
        }
      },
      "source": [
        "scree_plot(mypca)"
      ],
      "execution_count": 0,
      "outputs": [
        {
          "output_type": "display_data",
          "data": {
            "image/png": "[encoded data removed]",
            "text/plain": [
              "<Figure size 864x432 with 1 Axes>"
            ]
          },
          "metadata": {
            "tags": [],
            "needs_background": "light"
          }
        }
      ]
    },
    {
      "cell_type": "markdown",
      "metadata": {
        "id": "tGbI7yx7ILeO",
        "colab_type": "text"
      },
      "source": [
        "## Check your work: \n",
        "\n",
        "- Compare your PC1, PC2 clustering scatterplot to the clustering scatterplots you made on the raw data\n",
        "- Calculate accuracy scores for both the PC1,PC2 Principal component clustering and the 90% of explained variance clustering.\n",
        "\n",
        "How do your accuracy scores -when preprocessing the data with PCA- compare to the accuracy when simply clustering on the raw data?"
      ]
    },
    {
      "cell_type": "markdown",
      "metadata": {
        "id": "1BOBqMZiE0to",
        "colab_type": "text"
      },
      "source": [
        "The only way to compare the raw data was with the seaborn plot."
      ]
    },
    {
      "cell_type": "markdown",
      "metadata": {
        "id": "VuXh0qZ-9GeU",
        "colab_type": "text"
      },
      "source": [
        "**Processing the data with PCA actually works way better than when simply using raw data.  There is just simply too much raw data and the fact that it's not standardized makes it essentially impossible to compare results.**\n",
        "\n",
        "There is a great article here: \n",
        "\n",
        "https://towardsdatascience.com/dimensionality-reduction-does-pca-really-improve-classification-outcome-6e9ba21f0a32\n",
        "\n",
        "\n",
        "Per the article above: \n",
        "\n",
        "\"Dimensionality Reduction plays a really important role in machine learning, especially when you are working with thousands of features. Principal Components Analysis are one of the top dimensionality reduction algorithm, it is not hard to understand and use it in real projects. This technique, in addition to making the work of feature manipulation easier, it still helps to improve the results of the classifier, as we saw in this post.\n",
        "Finally, the answer of the initial questioning is yes, indeed Principal Component Analysis helps improve the outcome of a classifier.\""
      ]
    },
    {
      "cell_type": "markdown",
      "metadata": {
        "id": "wKBwVaGOOYsq",
        "colab_type": "text"
      },
      "source": [
        "# Stretch Goals:\n",
        "\n",
        "- Study for the Sprint Challenge\n",
        "- Work on your Data Storytelling Project"
      ]
    },
    {
      "cell_type": "code",
      "metadata": {
        "id": "9p2djjY5LNWd",
        "colab_type": "code",
        "colab": {}
      },
      "source": [
        "# Spent my extra time wrapping my head around all the notes for this homework. \n",
        "# I had some trouble getting my bearings for this project.  Overall I feel like I \n",
        "# understood the majority of it.  It's just applying it FULLY I'm still working on."
      ],
      "execution_count": 0,
      "outputs": []
    }
  ]
}