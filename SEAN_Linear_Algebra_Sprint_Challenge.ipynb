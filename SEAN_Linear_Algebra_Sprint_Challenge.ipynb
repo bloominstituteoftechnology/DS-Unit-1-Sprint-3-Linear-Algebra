{
  "nbformat": 4,
  "nbformat_minor": 0,
  "metadata": {
    "colab": {
      "name": "SEAN Linear_Algebra_Sprint_Challenge.ipynb",
      "provenance": [],
      "collapsed_sections": [],
      "include_colab_link": true
    },
    "kernelspec": {
      "name": "python3",
      "display_name": "Python 3"
    }
  },
  "cells": [
    {
      "cell_type": "markdown",
      "metadata": {
        "id": "view-in-github",
        "colab_type": "text"
      },
      "source": [
        "<a href=\"https://colab.research.google.com/github/ssbyrne89/DS-Unit-1-Sprint-3-Linear-Algebra/blob/master/SEAN_Linear_Algebra_Sprint_Challenge.ipynb\" target=\"_parent\"><img src=\"https://colab.research.google.com/assets/colab-badge.svg\" alt=\"Open In Colab\"/></a>"
      ]
    },
    {
      "cell_type": "markdown",
      "metadata": {
        "id": "-wQxiT7yC4_v",
        "colab_type": "text"
      },
      "source": [
        "#Linear Algebra"
      ]
    },
    {
      "cell_type": "markdown",
      "metadata": {
        "id": "aiUlaNJkECCL",
        "colab_type": "text"
      },
      "source": [
        "## 1.1 Graph vector $\\vec{a}$ \n",
        "\n",
        "\\begin{align}\n",
        "\\vec{a} = \\begin{bmatrix} 3 \\\\ 2 \\end{bmatrix}\n",
        "\\end{align}"
      ]
    },
    {
      "cell_type": "code",
      "metadata": {
        "id": "jC1TaMgh-ZKl",
        "colab_type": "code",
        "colab": {}
      },
      "source": [
        "import numpy as np\n",
        "import pandas as pd\n",
        "import matplotlib.pyplot as plt"
      ],
      "execution_count": 0,
      "outputs": []
    },
    {
      "cell_type": "code",
      "metadata": {
        "id": "QpCKt0n5IeiY",
        "colab_type": "code",
        "colab": {}
      },
      "source": [
        "a = np.array([3,2])"
      ],
      "execution_count": 0,
      "outputs": []
    },
    {
      "cell_type": "code",
      "metadata": {
        "id": "8OXVMTt5-wOF",
        "colab_type": "code",
        "outputId": "ec6ffebe-7452-4d50-d3d3-f75e80bc1a29",
        "colab": {
          "base_uri": "https://localhost:8080/",
          "height": 269
        }
      },
      "source": [
        "fig, ax = plt.subplots()\n",
        "ax.grid()\n",
        "plt.xlim(-0.5, 4)\n",
        "plt.ylim(-0.5, 3)\n",
        "\n",
        "plt.arrow(0,0,\n",
        "          a[0],\n",
        "          a[1],\n",
        "          head_width=.1,\n",
        "          head_length=.07,\n",
        "          linewidth=2.5,\n",
        "          length_includes_head=True,\n",
        "          color='g')\n",
        "\n",
        "plt.show()"
      ],
      "execution_count": 112,
      "outputs": [
        {
          "output_type": "display_data",
          "data": {
            "image/png": "[encoded data removed]",
            "text/plain": [
              "<Figure size 432x288 with 1 Axes>"
            ]
          },
          "metadata": {
            "tags": []
          }
        }
      ]
    },
    {
      "cell_type": "markdown",
      "metadata": {
        "id": "BDLB08NXEiUN",
        "colab_type": "text"
      },
      "source": [
        "## 1.2 Find $||\\vec{b}||$. What does the norm of a vector represent?\n",
        "\\begin{align}\n",
        "\\vec{b} = \\begin{bmatrix} 17 & -4 & -2 & 1\\end{bmatrix}\n",
        "\\end{align}\n"
      ]
    },
    {
      "cell_type": "code",
      "metadata": {
        "id": "Fp3mocAKIfGD",
        "colab_type": "code",
        "colab": {}
      },
      "source": [
        "b = np.array([[17],\n",
        "              [-4],\n",
        "              [-2],\n",
        "              [1]])\n"
      ],
      "execution_count": 0,
      "outputs": []
    },
    {
      "cell_type": "code",
      "metadata": {
        "id": "gueeEOo7AoCs",
        "colab_type": "code",
        "colab": {}
      },
      "source": [
        "norm_b = np.linalg.norm(b)"
      ],
      "execution_count": 0,
      "outputs": []
    },
    {
      "cell_type": "code",
      "metadata": {
        "id": "zam0SbdPAxjV",
        "colab_type": "code",
        "outputId": "b5a54dbe-c17f-4901-824f-15858ce8c6d0",
        "colab": {
          "base_uri": "https://localhost:8080/",
          "height": 34
        }
      },
      "source": [
        "\n",
        "f\"The norm of b is {norm_b}\"\n",
        "\n"
      ],
      "execution_count": 115,
      "outputs": [
        {
          "output_type": "execute_result",
          "data": {
            "text/plain": [
              "'The norm of b is 17.60681686165901'"
            ]
          },
          "metadata": {
            "tags": []
          },
          "execution_count": 115
        }
      ]
    },
    {
      "cell_type": "code",
      "metadata": {
        "id": "6pW-Qtx7Dy6c",
        "colab_type": "code",
        "outputId": "acb4d357-4ab5-4c1f-a141-7ab9169504d0",
        "colab": {
          "base_uri": "https://localhost:8080/",
          "height": 34
        }
      },
      "source": [
        "f\"The norm is important because it tells us the length of a vector\""
      ],
      "execution_count": 116,
      "outputs": [
        {
          "output_type": "execute_result",
          "data": {
            "text/plain": [
              "'The norm is important because it tells us the length of a vector'"
            ]
          },
          "metadata": {
            "tags": []
          },
          "execution_count": 116
        }
      ]
    },
    {
      "cell_type": "markdown",
      "metadata": {
        "id": "vBbJ0ZyPD6RG",
        "colab_type": "text"
      },
      "source": [
        "## 1.3 Find $\\vec{c} \\cdot \\vec{d}$ - Are these vectors orthogonal? Why or why not?\n",
        "\n",
        "\\begin{align}\n",
        "\\vec{c} = \\begin{bmatrix}3 & 7 & -2 & 12\\end{bmatrix}\n",
        "\\qquad\n",
        "\\vec{d} = \\begin{bmatrix}9 & -7 & 4 & 6\\end{bmatrix}\n",
        "\\end{align}"
      ]
    },
    {
      "cell_type": "code",
      "metadata": {
        "id": "NYb8BalmIfgY",
        "colab_type": "code",
        "colab": {}
      },
      "source": [
        "c = np.array([3,7,-2,12])\n"
      ],
      "execution_count": 0,
      "outputs": []
    },
    {
      "cell_type": "code",
      "metadata": {
        "id": "3MvwFk63FHj_",
        "colab_type": "code",
        "colab": {}
      },
      "source": [
        "d = np.array([9,-7,4,6])"
      ],
      "execution_count": 0,
      "outputs": []
    },
    {
      "cell_type": "code",
      "metadata": {
        "id": "nED36kb5EuIf",
        "colab_type": "code",
        "outputId": "224149b5-ac2f-4f36-c170-09ce93ceb142",
        "colab": {
          "base_uri": "https://localhost:8080/",
          "height": 34
        }
      },
      "source": [
        "np.dot(c,d)"
      ],
      "execution_count": 119,
      "outputs": [
        {
          "output_type": "execute_result",
          "data": {
            "text/plain": [
              "42"
            ]
          },
          "metadata": {
            "tags": []
          },
          "execution_count": 119
        }
      ]
    },
    {
      "cell_type": "markdown",
      "metadata": {
        "id": "gS85sJHWG7iU",
        "colab_type": "text"
      },
      "source": [
        "## 1.4 Find $E^{-1}$ and $E^{T}$\n",
        "\n",
        "\\begin{align}\n",
        "E = \n",
        "\\begin{bmatrix}\n",
        "    7 & 4 & 2 \\\\\n",
        "    1 & 3 & -1 \\\\\n",
        "    2 & 6 & -4\n",
        "\\end{bmatrix}\n",
        "\\end{align}"
      ]
    },
    {
      "cell_type": "code",
      "metadata": {
        "id": "QiISq5egIgSS",
        "colab_type": "code",
        "colab": {}
      },
      "source": [
        " E = np.array([[7, 4, 2],\n",
        "    [1, 3, -1],\n",
        "    [2, 6, -4]])"
      ],
      "execution_count": 0,
      "outputs": []
    },
    {
      "cell_type": "code",
      "metadata": {
        "id": "KpaOwtF2G0xi",
        "colab_type": "code",
        "colab": {}
      },
      "source": [
        "E_inverse = np.linalg.inv(E)"
      ],
      "execution_count": 0,
      "outputs": []
    },
    {
      "cell_type": "code",
      "metadata": {
        "id": "0K94LmzUG27P",
        "colab_type": "code",
        "outputId": "31821f4e-a06d-4b0d-ca5b-8af5f430cc15",
        "colab": {
          "base_uri": "https://localhost:8080/",
          "height": 142
        }
      },
      "source": [
        "pd.DataFrame(E_inverse)"
      ],
      "execution_count": 122,
      "outputs": [
        {
          "output_type": "execute_result",
          "data": {
            "text/html": [
              "<div>\n",
              "<style scoped>\n",
              "    .dataframe tbody tr th:only-of-type {\n",
              "        vertical-align: middle;\n",
              "    }\n",
              "\n",
              "    .dataframe tbody tr th {\n",
              "        vertical-align: top;\n",
              "    }\n",
              "\n",
              "    .dataframe thead th {\n",
              "        text-align: right;\n",
              "    }\n",
              "</style>\n",
              "<table border=\"1\" class=\"dataframe\">\n",
              "  <thead>\n",
              "    <tr style=\"text-align: right;\">\n",
              "      <th></th>\n",
              "      <th>0</th>\n",
              "      <th>1</th>\n",
              "      <th>2</th>\n",
              "    </tr>\n",
              "  </thead>\n",
              "  <tbody>\n",
              "    <tr>\n",
              "      <th>0</th>\n",
              "      <td>0.176471</td>\n",
              "      <td>-0.823529</td>\n",
              "      <td>0.294118</td>\n",
              "    </tr>\n",
              "    <tr>\n",
              "      <th>1</th>\n",
              "      <td>-0.058824</td>\n",
              "      <td>0.941176</td>\n",
              "      <td>-0.264706</td>\n",
              "    </tr>\n",
              "    <tr>\n",
              "      <th>2</th>\n",
              "      <td>0.000000</td>\n",
              "      <td>1.000000</td>\n",
              "      <td>-0.500000</td>\n",
              "    </tr>\n",
              "  </tbody>\n",
              "</table>\n",
              "</div>"
            ],
            "text/plain": [
              "          0         1         2\n",
              "0  0.176471 -0.823529  0.294118\n",
              "1 -0.058824  0.941176 -0.264706\n",
              "2  0.000000  1.000000 -0.500000"
            ]
          },
          "metadata": {
            "tags": []
          },
          "execution_count": 122
        }
      ]
    },
    {
      "cell_type": "code",
      "metadata": {
        "id": "1Ml09klcHG2_",
        "colab_type": "code",
        "outputId": "6b579166-1a8a-4130-f5b5-4054885eece7",
        "colab": {
          "base_uri": "https://localhost:8080/",
          "height": 68
        }
      },
      "source": [
        "E.T"
      ],
      "execution_count": 123,
      "outputs": [
        {
          "output_type": "execute_result",
          "data": {
            "text/plain": [
              "array([[ 7,  1,  2],\n",
              "       [ 4,  3,  6],\n",
              "       [ 2, -1, -4]])"
            ]
          },
          "metadata": {
            "tags": []
          },
          "execution_count": 123
        }
      ]
    },
    {
      "cell_type": "markdown",
      "metadata": {
        "id": "_DFQHO2HcPNz",
        "colab_type": "text"
      },
      "source": [
        "## 1.5 Find $|F|$ - What is one reason why the determinant of a matrix would be 0? \n",
        "\n",
        "\\begin{align}\n",
        "F = \n",
        "\\begin{bmatrix}\n",
        "    2 & -2 & 5 \\\\\n",
        "    4 & 1 & 10 \\\\\n",
        "    12 & 6 & 30\n",
        "\\end{bmatrix}\n",
        "\\end{align}"
      ]
    },
    {
      "cell_type": "code",
      "metadata": {
        "id": "uQKXIhQWHfue",
        "colab_type": "code",
        "colab": {}
      },
      "source": [
        "F = np.array([[2,4,12],\n",
        "              [-2,1,6],\n",
        "              [5,10,30]])"
      ],
      "execution_count": 0,
      "outputs": []
    },
    {
      "cell_type": "code",
      "metadata": {
        "id": "zngrzsbkIN3L",
        "colab_type": "code",
        "outputId": "03fe26b3-1477-4629-9a14-f735dd57f851",
        "colab": {
          "base_uri": "https://localhost:8080/",
          "height": 34
        }
      },
      "source": [
        "\n",
        "f'The |F| is {np.linalg.det(F)}, which  means no unique solution'"
      ],
      "execution_count": 125,
      "outputs": [
        {
          "output_type": "execute_result",
          "data": {
            "text/plain": [
              "'The |F| is 0.0, which  means no unique solution'"
            ]
          },
          "metadata": {
            "tags": []
          },
          "execution_count": 125
        }
      ]
    },
    {
      "cell_type": "markdown",
      "metadata": {
        "id": "TPzrKzEvC5YU",
        "colab_type": "text"
      },
      "source": [
        "# Intermediate Linear Algebra"
      ]
    },
    {
      "cell_type": "markdown",
      "metadata": {
        "id": "ap-us2lBGQyi",
        "colab_type": "text"
      },
      "source": [
        "## 2.1 Suppose that the number of customers at a ski resort as well as the number of inches of fresh powder (snow)  was recorded for 7 days. \n",
        "\n",
        "### Customers: [820, 760, 1250, 990, 1080, 1450, 1600]\n",
        "\n",
        "### Inches of new snow: [0, 1, 7, 1, 0, 6, 4 ]\n",
        "\n",
        "## Find the mean, sample variance, and sample standard deviation for both the number of customers and inches of new snow for the week. Remember that on SCs you can use library functions, dataframes, .describe(), etc. \n",
        "\n"
      ]
    },
    {
      "cell_type": "code",
      "metadata": {
        "id": "xS-JuHl9JiiP",
        "colab_type": "code",
        "colab": {}
      },
      "source": [
        "customers = [820, 760, 1250, 990, 1080, 1450, 1600]\n",
        "snow = [0, 1, 7, 1, 0, 6, 4]"
      ],
      "execution_count": 0,
      "outputs": []
    },
    {
      "cell_type": "code",
      "metadata": {
        "id": "cNxeVa0cg40d",
        "colab_type": "code",
        "outputId": "3e205680-08d3-46cd-e1a1-edb47e2b6b44",
        "colab": {
          "base_uri": "https://localhost:8080/",
          "height": 34
        }
      },
      "source": [
        "##### Your Code Here #####\n",
        "\n",
        "mean_cust = sum(customers)/len(customers)\n",
        "mean_cust"
      ],
      "execution_count": 127,
      "outputs": [
        {
          "output_type": "execute_result",
          "data": {
            "text/plain": [
              "1135.7142857142858"
            ]
          },
          "metadata": {
            "tags": []
          },
          "execution_count": 127
        }
      ]
    },
    {
      "cell_type": "code",
      "metadata": {
        "id": "Z-nvHcBXLaoh",
        "colab_type": "code",
        "outputId": "1a710f34-a546-43ac-fb9f-c86584dd769f",
        "colab": {
          "base_uri": "https://localhost:8080/",
          "height": 34
        }
      },
      "source": [
        "mean_snow = sum(snow)/len(snow)\n",
        "mean_snow"
      ],
      "execution_count": 128,
      "outputs": [
        {
          "output_type": "execute_result",
          "data": {
            "text/plain": [
              "2.7142857142857144"
            ]
          },
          "metadata": {
            "tags": []
          },
          "execution_count": 128
        }
      ]
    },
    {
      "cell_type": "code",
      "metadata": {
        "id": "IQQlA-n3PEsV",
        "colab_type": "code",
        "outputId": "5ec676d5-8d6d-4c1f-def1-31ddfd5aee49",
        "colab": {
          "base_uri": "https://localhost:8080/",
          "height": 34
        }
      },
      "source": [
        "###print(variance_df.v1.var(ddof=1))\n",
        "var_of_customers = np.var(customers)\n",
        "var_of_customers"
      ],
      "execution_count": 129,
      "outputs": [
        {
          "output_type": "execute_result",
          "data": {
            "text/plain": [
              "84653.06122448981"
            ]
          },
          "metadata": {
            "tags": []
          },
          "execution_count": 129
        }
      ]
    },
    {
      "cell_type": "code",
      "metadata": {
        "id": "mVcdKKpDQTbM",
        "colab_type": "code",
        "outputId": "afc6074d-d75a-4385-bbe2-637c49427003",
        "colab": {
          "base_uri": "https://localhost:8080/",
          "height": 34
        }
      },
      "source": [
        "var_of_snow = np.var(snow)\n",
        "var_of_snow"
      ],
      "execution_count": 130,
      "outputs": [
        {
          "output_type": "execute_result",
          "data": {
            "text/plain": [
              "7.346938775510203"
            ]
          },
          "metadata": {
            "tags": []
          },
          "execution_count": 130
        }
      ]
    },
    {
      "cell_type": "code",
      "metadata": {
        "id": "tQHHZ8cyQ7Fr",
        "colab_type": "code",
        "outputId": "7dbf765c-cbac-4ab2-d957-ce756fcce7b2",
        "colab": {
          "base_uri": "https://localhost:8080/",
          "height": 34
        }
      },
      "source": [
        "std_of_customers = np.std(customers)\n",
        "std_of_customers"
      ],
      "execution_count": 131,
      "outputs": [
        {
          "output_type": "execute_result",
          "data": {
            "text/plain": [
              "290.95199127087926"
            ]
          },
          "metadata": {
            "tags": []
          },
          "execution_count": 131
        }
      ]
    },
    {
      "cell_type": "code",
      "metadata": {
        "id": "Jy4Cum4QRJMm",
        "colab_type": "code",
        "outputId": "a0415aa8-9bb1-4069-ec83-0159876d342d",
        "colab": {
          "base_uri": "https://localhost:8080/",
          "height": 34
        }
      },
      "source": [
        "std_of_snow = np.std(snow)\n",
        "std_of_snow"
      ],
      "execution_count": 132,
      "outputs": [
        {
          "output_type": "execute_result",
          "data": {
            "text/plain": [
              "2.7105237087157534"
            ]
          },
          "metadata": {
            "tags": []
          },
          "execution_count": 132
        }
      ]
    },
    {
      "cell_type": "markdown",
      "metadata": {
        "id": "3ePJtK4VLTLH",
        "colab_type": "text"
      },
      "source": [
        "## 2.2 Are the variances of the number of customers and inches of snow comparable? \n",
        "## Why or why not? "
      ]
    },
    {
      "cell_type": "code",
      "metadata": {
        "id": "LvTtgZ-5Ndw_",
        "colab_type": "code",
        "outputId": "aa6014ad-9314-490e-b5bd-593d66ca2f26",
        "colab": {
          "base_uri": "https://localhost:8080/",
          "height": 34
        }
      },
      "source": [
        "f\"they are not comparable because they don't share the same magnitude\""
      ],
      "execution_count": 133,
      "outputs": [
        {
          "output_type": "execute_result",
          "data": {
            "text/plain": [
              "\"they are not comparable because they don't share the same magnitude\""
            ]
          },
          "metadata": {
            "tags": []
          },
          "execution_count": 133
        }
      ]
    },
    {
      "cell_type": "markdown",
      "metadata": {
        "id": "ixhZVGxfGVFh",
        "colab_type": "text"
      },
      "source": [
        "## 2.3 Find the variance-covariance matrix for the number of customers and inches of snow at the ski resort. "
      ]
    },
    {
      "cell_type": "code",
      "metadata": {
        "id": "IbglmVaxJjO7",
        "colab_type": "code",
        "outputId": "c5c92861-8e0c-4ef3-81ea-f8a889df04fe",
        "colab": {
          "base_uri": "https://localhost:8080/",
          "height": 51
        }
      },
      "source": [
        "np.cov(customers, snow)"
      ],
      "execution_count": 134,
      "outputs": [
        {
          "output_type": "execute_result",
          "data": {
            "text/plain": [
              "array([[9.87619048e+04, 6.70238095e+02],\n",
              "       [6.70238095e+02, 8.57142857e+00]])"
            ]
          },
          "metadata": {
            "tags": []
          },
          "execution_count": 134
        }
      ]
    },
    {
      "cell_type": "code",
      "metadata": {
        "id": "vRZZUN8kSuMD",
        "colab_type": "code",
        "outputId": "9ac81eef-8834-4922-a20c-39e4645214d5",
        "colab": {
          "base_uri": "https://localhost:8080/",
          "height": 111
        }
      },
      "source": [
        "s_c_cov = pd.DataFrame(np.cov(customers, snow),\n",
        "                       columns=([\"customers\"], [\"snow\"]))\n",
        "s_c_cov"
      ],
      "execution_count": 135,
      "outputs": [
        {
          "output_type": "execute_result",
          "data": {
            "text/html": [
              "<div>\n",
              "<style scoped>\n",
              "    .dataframe tbody tr th:only-of-type {\n",
              "        vertical-align: middle;\n",
              "    }\n",
              "\n",
              "    .dataframe tbody tr th {\n",
              "        vertical-align: top;\n",
              "    }\n",
              "\n",
              "    .dataframe thead th {\n",
              "        text-align: right;\n",
              "    }\n",
              "</style>\n",
              "<table border=\"1\" class=\"dataframe\">\n",
              "  <thead>\n",
              "    <tr style=\"text-align: right;\">\n",
              "      <th></th>\n",
              "      <th>(customers,)</th>\n",
              "      <th>(snow,)</th>\n",
              "    </tr>\n",
              "  </thead>\n",
              "  <tbody>\n",
              "    <tr>\n",
              "      <th>0</th>\n",
              "      <td>98761.904762</td>\n",
              "      <td>670.238095</td>\n",
              "    </tr>\n",
              "    <tr>\n",
              "      <th>1</th>\n",
              "      <td>670.238095</td>\n",
              "      <td>8.571429</td>\n",
              "    </tr>\n",
              "  </tbody>\n",
              "</table>\n",
              "</div>"
            ],
            "text/plain": [
              "   (customers,)     (snow,)\n",
              "0  98761.904762  670.238095\n",
              "1    670.238095    8.571429"
            ]
          },
          "metadata": {
            "tags": []
          },
          "execution_count": 135
        }
      ]
    },
    {
      "cell_type": "markdown",
      "metadata": {
        "id": "6Ks3_TbNC5yJ",
        "colab_type": "text"
      },
      "source": [
        "# PCA"
      ]
    },
    {
      "cell_type": "markdown",
      "metadata": {
        "id": "f6qJAPaaOdzD",
        "colab_type": "text"
      },
      "source": [
        "## 3.1 Standardize the data so that it has a mean of 0 and a standard deviation of 1. \n",
        "\n",
        "We have included some code to get you started so that you don't get stuck on something that isn't standardizing the data or PCA.\n",
        "\n",
        "This might be helpful:\n",
        "\n",
        "<https://scikit-learn.org/stable/modules/generated/sklearn.preprocessing.StandardScaler.html>"
      ]
    },
    {
      "cell_type": "code",
      "metadata": {
        "id": "bogsxfNyJlAw",
        "colab_type": "code",
        "outputId": "7f70943c-a0fc-4f04-d7c7-63891e9d8480",
        "colab": {
          "base_uri": "https://localhost:8080/",
          "height": 244
        }
      },
      "source": [
        "# Let me get you some data to start you off.\n",
        "import pandas as pd\n",
        "\n",
        "data = {\"Country\": [\"England\",\"Wales\",\"Scotland\",\"North Ireland\"], \n",
        "        \"Cheese\": [105,103,103,66], \n",
        "        \"Carcass_Meat\": [245,227,242,267], \n",
        "        \"Other_Meat\": [685, 803, 750, 586], \n",
        "        \"Fish\": [147, 160, 122, 93], \n",
        "        \"Fats_and_Oils\": [193, 235, 184, 209], \n",
        "        \"Sugars\": [156, 175, 147, 139], \n",
        "        \"Fresh_Potatoes\": [720, 874, 566, 1033], \n",
        "        \"Fresh_Veg\": [253, 265, 171, 143], \n",
        "        \"Other_Veg\": [488, 570, 418, 355], \n",
        "        \"Processed_Potatoes\": [198, 203, 220, 187], \n",
        "        \"Processed_Veg\": [360, 365, 337, 334], \n",
        "        \"Fresh_Fruit\": [1102, 1137, 957, 674], \n",
        "        \"Cereals\": [1472, 1582, 1462, 1494], \n",
        "        \"Beverages\": [57,73,53,47], \n",
        "        \"Soft_Drinks\": [1374, 1256, 1572, 1506], \n",
        "        \"Alcoholic Drinks\": [375, 475, 458, 135], \n",
        "        \"Confectionery\": [54, 64, 62, 41]}\n",
        "\n",
        "df = pd.DataFrame(data)\n",
        "\n",
        "# Look at the data\n",
        "print(df.shape)\n",
        "df.head()"
      ],
      "execution_count": 136,
      "outputs": [
        {
          "output_type": "stream",
          "text": [
            "(4, 18)\n"
          ],
          "name": "stdout"
        },
        {
          "output_type": "execute_result",
          "data": {
            "text/html": [
              "<div>\n",
              "<style scoped>\n",
              "    .dataframe tbody tr th:only-of-type {\n",
              "        vertical-align: middle;\n",
              "    }\n",
              "\n",
              "    .dataframe tbody tr th {\n",
              "        vertical-align: top;\n",
              "    }\n",
              "\n",
              "    .dataframe thead th {\n",
              "        text-align: right;\n",
              "    }\n",
              "</style>\n",
              "<table border=\"1\" class=\"dataframe\">\n",
              "  <thead>\n",
              "    <tr style=\"text-align: right;\">\n",
              "      <th></th>\n",
              "      <th>Country</th>\n",
              "      <th>Cheese</th>\n",
              "      <th>Carcass_Meat</th>\n",
              "      <th>Other_Meat</th>\n",
              "      <th>Fish</th>\n",
              "      <th>Fats_and_Oils</th>\n",
              "      <th>Sugars</th>\n",
              "      <th>Fresh_Potatoes</th>\n",
              "      <th>Fresh_Veg</th>\n",
              "      <th>Other_Veg</th>\n",
              "      <th>Processed_Potatoes</th>\n",
              "      <th>Processed_Veg</th>\n",
              "      <th>Fresh_Fruit</th>\n",
              "      <th>Cereals</th>\n",
              "      <th>Beverages</th>\n",
              "      <th>Soft_Drinks</th>\n",
              "      <th>Alcoholic Drinks</th>\n",
              "      <th>Confectionery</th>\n",
              "    </tr>\n",
              "  </thead>\n",
              "  <tbody>\n",
              "    <tr>\n",
              "      <th>0</th>\n",
              "      <td>England</td>\n",
              "      <td>105</td>\n",
              "      <td>245</td>\n",
              "      <td>685</td>\n",
              "      <td>147</td>\n",
              "      <td>193</td>\n",
              "      <td>156</td>\n",
              "      <td>720</td>\n",
              "      <td>253</td>\n",
              "      <td>488</td>\n",
              "      <td>198</td>\n",
              "      <td>360</td>\n",
              "      <td>1102</td>\n",
              "      <td>1472</td>\n",
              "      <td>57</td>\n",
              "      <td>1374</td>\n",
              "      <td>375</td>\n",
              "      <td>54</td>\n",
              "    </tr>\n",
              "    <tr>\n",
              "      <th>1</th>\n",
              "      <td>Wales</td>\n",
              "      <td>103</td>\n",
              "      <td>227</td>\n",
              "      <td>803</td>\n",
              "      <td>160</td>\n",
              "      <td>235</td>\n",
              "      <td>175</td>\n",
              "      <td>874</td>\n",
              "      <td>265</td>\n",
              "      <td>570</td>\n",
              "      <td>203</td>\n",
              "      <td>365</td>\n",
              "      <td>1137</td>\n",
              "      <td>1582</td>\n",
              "      <td>73</td>\n",
              "      <td>1256</td>\n",
              "      <td>475</td>\n",
              "      <td>64</td>\n",
              "    </tr>\n",
              "    <tr>\n",
              "      <th>2</th>\n",
              "      <td>Scotland</td>\n",
              "      <td>103</td>\n",
              "      <td>242</td>\n",
              "      <td>750</td>\n",
              "      <td>122</td>\n",
              "      <td>184</td>\n",
              "      <td>147</td>\n",
              "      <td>566</td>\n",
              "      <td>171</td>\n",
              "      <td>418</td>\n",
              "      <td>220</td>\n",
              "      <td>337</td>\n",
              "      <td>957</td>\n",
              "      <td>1462</td>\n",
              "      <td>53</td>\n",
              "      <td>1572</td>\n",
              "      <td>458</td>\n",
              "      <td>62</td>\n",
              "    </tr>\n",
              "    <tr>\n",
              "      <th>3</th>\n",
              "      <td>North Ireland</td>\n",
              "      <td>66</td>\n",
              "      <td>267</td>\n",
              "      <td>586</td>\n",
              "      <td>93</td>\n",
              "      <td>209</td>\n",
              "      <td>139</td>\n",
              "      <td>1033</td>\n",
              "      <td>143</td>\n",
              "      <td>355</td>\n",
              "      <td>187</td>\n",
              "      <td>334</td>\n",
              "      <td>674</td>\n",
              "      <td>1494</td>\n",
              "      <td>47</td>\n",
              "      <td>1506</td>\n",
              "      <td>135</td>\n",
              "      <td>41</td>\n",
              "    </tr>\n",
              "  </tbody>\n",
              "</table>\n",
              "</div>"
            ],
            "text/plain": [
              "         Country  Cheese  ...  Alcoholic Drinks  Confectionery\n",
              "0        England     105  ...               375             54\n",
              "1          Wales     103  ...               475             64\n",
              "2       Scotland     103  ...               458             62\n",
              "3  North Ireland      66  ...               135             41\n",
              "\n",
              "[4 rows x 18 columns]"
            ]
          },
          "metadata": {
            "tags": []
          },
          "execution_count": 136
        }
      ]
    },
    {
      "cell_type": "code",
      "metadata": {
        "id": "2HY91nOpaTTZ",
        "colab_type": "code",
        "colab": {}
      },
      "source": [
        "##### Your Code Here #####\n",
        "\n",
        "from sklearn.decomposition import PCA\n",
        "from sklearn.preprocessing import StandardScaler"
      ],
      "execution_count": 0,
      "outputs": []
    },
    {
      "cell_type": "code",
      "metadata": {
        "id": "ZPqNj8UrY-24",
        "colab_type": "code",
        "colab": {}
      },
      "source": [
        "df = df.set_index('Country')"
      ],
      "execution_count": 0,
      "outputs": []
    },
    {
      "cell_type": "code",
      "metadata": {
        "id": "KTDlyRmwakwn",
        "colab_type": "code",
        "outputId": "02b18316-4778-427a-87f0-94d54bb71d00",
        "colab": {
          "base_uri": "https://localhost:8080/",
          "height": 258
        }
      },
      "source": [
        "df"
      ],
      "execution_count": 139,
      "outputs": [
        {
          "output_type": "execute_result",
          "data": {
            "text/html": [
              "<div>\n",
              "<style scoped>\n",
              "    .dataframe tbody tr th:only-of-type {\n",
              "        vertical-align: middle;\n",
              "    }\n",
              "\n",
              "    .dataframe tbody tr th {\n",
              "        vertical-align: top;\n",
              "    }\n",
              "\n",
              "    .dataframe thead th {\n",
              "        text-align: right;\n",
              "    }\n",
              "</style>\n",
              "<table border=\"1\" class=\"dataframe\">\n",
              "  <thead>\n",
              "    <tr style=\"text-align: right;\">\n",
              "      <th></th>\n",
              "      <th>Cheese</th>\n",
              "      <th>Carcass_Meat</th>\n",
              "      <th>Other_Meat</th>\n",
              "      <th>Fish</th>\n",
              "      <th>Fats_and_Oils</th>\n",
              "      <th>Sugars</th>\n",
              "      <th>Fresh_Potatoes</th>\n",
              "      <th>Fresh_Veg</th>\n",
              "      <th>Other_Veg</th>\n",
              "      <th>Processed_Potatoes</th>\n",
              "      <th>Processed_Veg</th>\n",
              "      <th>Fresh_Fruit</th>\n",
              "      <th>Cereals</th>\n",
              "      <th>Beverages</th>\n",
              "      <th>Soft_Drinks</th>\n",
              "      <th>Alcoholic Drinks</th>\n",
              "      <th>Confectionery</th>\n",
              "    </tr>\n",
              "    <tr>\n",
              "      <th>Country</th>\n",
              "      <th></th>\n",
              "      <th></th>\n",
              "      <th></th>\n",
              "      <th></th>\n",
              "      <th></th>\n",
              "      <th></th>\n",
              "      <th></th>\n",
              "      <th></th>\n",
              "      <th></th>\n",
              "      <th></th>\n",
              "      <th></th>\n",
              "      <th></th>\n",
              "      <th></th>\n",
              "      <th></th>\n",
              "      <th></th>\n",
              "      <th></th>\n",
              "      <th></th>\n",
              "    </tr>\n",
              "  </thead>\n",
              "  <tbody>\n",
              "    <tr>\n",
              "      <th>England</th>\n",
              "      <td>105</td>\n",
              "      <td>245</td>\n",
              "      <td>685</td>\n",
              "      <td>147</td>\n",
              "      <td>193</td>\n",
              "      <td>156</td>\n",
              "      <td>720</td>\n",
              "      <td>253</td>\n",
              "      <td>488</td>\n",
              "      <td>198</td>\n",
              "      <td>360</td>\n",
              "      <td>1102</td>\n",
              "      <td>1472</td>\n",
              "      <td>57</td>\n",
              "      <td>1374</td>\n",
              "      <td>375</td>\n",
              "      <td>54</td>\n",
              "    </tr>\n",
              "    <tr>\n",
              "      <th>Wales</th>\n",
              "      <td>103</td>\n",
              "      <td>227</td>\n",
              "      <td>803</td>\n",
              "      <td>160</td>\n",
              "      <td>235</td>\n",
              "      <td>175</td>\n",
              "      <td>874</td>\n",
              "      <td>265</td>\n",
              "      <td>570</td>\n",
              "      <td>203</td>\n",
              "      <td>365</td>\n",
              "      <td>1137</td>\n",
              "      <td>1582</td>\n",
              "      <td>73</td>\n",
              "      <td>1256</td>\n",
              "      <td>475</td>\n",
              "      <td>64</td>\n",
              "    </tr>\n",
              "    <tr>\n",
              "      <th>Scotland</th>\n",
              "      <td>103</td>\n",
              "      <td>242</td>\n",
              "      <td>750</td>\n",
              "      <td>122</td>\n",
              "      <td>184</td>\n",
              "      <td>147</td>\n",
              "      <td>566</td>\n",
              "      <td>171</td>\n",
              "      <td>418</td>\n",
              "      <td>220</td>\n",
              "      <td>337</td>\n",
              "      <td>957</td>\n",
              "      <td>1462</td>\n",
              "      <td>53</td>\n",
              "      <td>1572</td>\n",
              "      <td>458</td>\n",
              "      <td>62</td>\n",
              "    </tr>\n",
              "    <tr>\n",
              "      <th>North Ireland</th>\n",
              "      <td>66</td>\n",
              "      <td>267</td>\n",
              "      <td>586</td>\n",
              "      <td>93</td>\n",
              "      <td>209</td>\n",
              "      <td>139</td>\n",
              "      <td>1033</td>\n",
              "      <td>143</td>\n",
              "      <td>355</td>\n",
              "      <td>187</td>\n",
              "      <td>334</td>\n",
              "      <td>674</td>\n",
              "      <td>1494</td>\n",
              "      <td>47</td>\n",
              "      <td>1506</td>\n",
              "      <td>135</td>\n",
              "      <td>41</td>\n",
              "    </tr>\n",
              "  </tbody>\n",
              "</table>\n",
              "</div>"
            ],
            "text/plain": [
              "               Cheese  Carcass_Meat  ...  Alcoholic Drinks  Confectionery\n",
              "Country                              ...                                 \n",
              "England           105           245  ...               375             54\n",
              "Wales             103           227  ...               475             64\n",
              "Scotland          103           242  ...               458             62\n",
              "North Ireland      66           267  ...               135             41\n",
              "\n",
              "[4 rows x 17 columns]"
            ]
          },
          "metadata": {
            "tags": []
          },
          "execution_count": 139
        }
      ]
    },
    {
      "cell_type": "code",
      "metadata": {
        "id": "yaygeOffdVKs",
        "colab_type": "code",
        "outputId": "b7b9a254-5342-4e3f-8404-145a26606175",
        "colab": {
          "base_uri": "https://localhost:8080/",
          "height": 102
        }
      },
      "source": [
        "print(df.columns)"
      ],
      "execution_count": 140,
      "outputs": [
        {
          "output_type": "stream",
          "text": [
            "Index(['Cheese', 'Carcass_Meat', 'Other_Meat', 'Fish', 'Fats_and_Oils',\n",
            "       'Sugars', 'Fresh_Potatoes', 'Fresh_Veg', 'Other_Veg',\n",
            "       'Processed_Potatoes', 'Processed_Veg', 'Fresh_Fruit', 'Cereals',\n",
            "       'Beverages', 'Soft_Drinks', 'Alcoholic Drinks', 'Confectionery'],\n",
            "      dtype='object')\n"
          ],
          "name": "stdout"
        }
      ]
    },
    {
      "cell_type": "code",
      "metadata": {
        "id": "GdJk-EtVdizZ",
        "colab_type": "code",
        "outputId": "f038cbd5-8cbe-4346-8558-79195bde1929",
        "colab": {
          "base_uri": "https://localhost:8080/",
          "height": 34
        }
      },
      "source": [
        "df.index"
      ],
      "execution_count": 141,
      "outputs": [
        {
          "output_type": "execute_result",
          "data": {
            "text/plain": [
              "Index(['England', 'Wales', 'Scotland', 'North Ireland'], dtype='object', name='Country')"
            ]
          },
          "metadata": {
            "tags": []
          },
          "execution_count": 141
        }
      ]
    },
    {
      "cell_type": "code",
      "metadata": {
        "id": "JyWD7rDBbZrG",
        "colab_type": "code",
        "colab": {}
      },
      "source": [
        "x = df.loc[:, :].values\n",
        "x = StandardScaler().fit_transform(x)"
      ],
      "execution_count": 0,
      "outputs": []
    },
    {
      "cell_type": "code",
      "metadata": {
        "id": "I1buBdjtcKmA",
        "colab_type": "code",
        "outputId": "e21fff99-51ab-4e00-8e7a-39821e3d807a",
        "colab": {
          "base_uri": "https://localhost:8080/",
          "height": 51
        }
      },
      "source": [
        "print('{:.2f}'.format(np.mean(x)))\n",
        "print(np.std(x))"
      ],
      "execution_count": 143,
      "outputs": [
        {
          "output_type": "stream",
          "text": [
            "0.00\n",
            "1.0\n"
          ],
          "name": "stdout"
        }
      ]
    },
    {
      "cell_type": "markdown",
      "metadata": {
        "id": "5U50KZkdJb_s",
        "colab_type": "text"
      },
      "source": [
        "## 3.2 Perform PCA on the data and graph Principal Component 1 against Principal Component 2. \n",
        "\n",
        "This might be helpful:\n",
        "\n",
        "<https://scikit-learn.org/stable/modules/generated/sklearn.decomposition.PCA.html>"
      ]
    },
    {
      "cell_type": "code",
      "metadata": {
        "id": "RqjwVokgP1fL",
        "colab_type": "code",
        "colab": {}
      },
      "source": [
        "##### Your Code Here #####"
      ],
      "execution_count": 0,
      "outputs": []
    },
    {
      "cell_type": "code",
      "metadata": {
        "id": "4F9TFcM0cdf_",
        "colab_type": "code",
        "outputId": "3f571e28-1eaf-4f8f-e89d-4321cc2fd8f7",
        "colab": {
          "base_uri": "https://localhost:8080/",
          "height": 258
        }
      },
      "source": [
        "normal_df = pd.DataFrame(x, \n",
        "                         index=df.index,\n",
        "                         columns=df.columns)\n",
        "normal_df.head(5)"
      ],
      "execution_count": 145,
      "outputs": [
        {
          "output_type": "execute_result",
          "data": {
            "text/html": [
              "<div>\n",
              "<style scoped>\n",
              "    .dataframe tbody tr th:only-of-type {\n",
              "        vertical-align: middle;\n",
              "    }\n",
              "\n",
              "    .dataframe tbody tr th {\n",
              "        vertical-align: top;\n",
              "    }\n",
              "\n",
              "    .dataframe thead th {\n",
              "        text-align: right;\n",
              "    }\n",
              "</style>\n",
              "<table border=\"1\" class=\"dataframe\">\n",
              "  <thead>\n",
              "    <tr style=\"text-align: right;\">\n",
              "      <th></th>\n",
              "      <th>Cheese</th>\n",
              "      <th>Carcass_Meat</th>\n",
              "      <th>Other_Meat</th>\n",
              "      <th>Fish</th>\n",
              "      <th>Fats_and_Oils</th>\n",
              "      <th>Sugars</th>\n",
              "      <th>Fresh_Potatoes</th>\n",
              "      <th>Fresh_Veg</th>\n",
              "      <th>Other_Veg</th>\n",
              "      <th>Processed_Potatoes</th>\n",
              "      <th>Processed_Veg</th>\n",
              "      <th>Fresh_Fruit</th>\n",
              "      <th>Cereals</th>\n",
              "      <th>Beverages</th>\n",
              "      <th>Soft_Drinks</th>\n",
              "      <th>Alcoholic Drinks</th>\n",
              "      <th>Confectionery</th>\n",
              "    </tr>\n",
              "    <tr>\n",
              "      <th>Country</th>\n",
              "      <th></th>\n",
              "      <th></th>\n",
              "      <th></th>\n",
              "      <th></th>\n",
              "      <th></th>\n",
              "      <th></th>\n",
              "      <th></th>\n",
              "      <th></th>\n",
              "      <th></th>\n",
              "      <th></th>\n",
              "      <th></th>\n",
              "      <th></th>\n",
              "      <th></th>\n",
              "      <th></th>\n",
              "      <th></th>\n",
              "      <th></th>\n",
              "      <th></th>\n",
              "    </tr>\n",
              "  </thead>\n",
              "  <tbody>\n",
              "    <tr>\n",
              "      <th>England</th>\n",
              "      <td>0.658275</td>\n",
              "      <td>-0.017495</td>\n",
              "      <td>-0.259546</td>\n",
              "      <td>0.644585</td>\n",
              "      <td>-0.632429</td>\n",
              "      <td>0.130551</td>\n",
              "      <td>-0.450076</td>\n",
              "      <td>0.863312</td>\n",
              "      <td>0.377736</td>\n",
              "      <td>-0.336265</td>\n",
              "      <td>0.805477</td>\n",
              "      <td>0.737407</td>\n",
              "      <td>-0.644322</td>\n",
              "      <td>-0.051917</td>\n",
              "      <td>-0.435231</td>\n",
              "      <td>0.104998</td>\n",
              "      <td>-0.138303</td>\n",
              "    </tr>\n",
              "    <tr>\n",
              "      <th>Wales</th>\n",
              "      <td>0.535805</td>\n",
              "      <td>-1.277169</td>\n",
              "      <td>1.198856</td>\n",
              "      <td>1.152440</td>\n",
              "      <td>1.535899</td>\n",
              "      <td>1.547958</td>\n",
              "      <td>0.435696</td>\n",
              "      <td>1.093528</td>\n",
              "      <td>1.401682</td>\n",
              "      <td>0.084066</td>\n",
              "      <td>1.171603</td>\n",
              "      <td>0.929297</td>\n",
              "      <td>1.679463</td>\n",
              "      <td>1.609440</td>\n",
              "      <td>-1.404236</td>\n",
              "      <td>0.841823</td>\n",
              "      <td>0.968122</td>\n",
              "    </tr>\n",
              "    <tr>\n",
              "      <th>Scotland</th>\n",
              "      <td>0.535805</td>\n",
              "      <td>-0.227441</td>\n",
              "      <td>0.543811</td>\n",
              "      <td>-0.332059</td>\n",
              "      <td>-1.097071</td>\n",
              "      <td>-0.540853</td>\n",
              "      <td>-1.335847</td>\n",
              "      <td>-0.709834</td>\n",
              "      <td>-0.496364</td>\n",
              "      <td>1.513193</td>\n",
              "      <td>-0.878702</td>\n",
              "      <td>-0.057567</td>\n",
              "      <td>-0.855575</td>\n",
              "      <td>-0.467257</td>\n",
              "      <td>1.190727</td>\n",
              "      <td>0.716563</td>\n",
              "      <td>0.746837</td>\n",
              "    </tr>\n",
              "    <tr>\n",
              "      <th>North Ireland</th>\n",
              "      <td>-1.729885</td>\n",
              "      <td>1.522105</td>\n",
              "      <td>-1.483121</td>\n",
              "      <td>-1.464967</td>\n",
              "      <td>0.193601</td>\n",
              "      <td>-1.137656</td>\n",
              "      <td>1.350227</td>\n",
              "      <td>-1.247006</td>\n",
              "      <td>-1.283054</td>\n",
              "      <td>-1.260994</td>\n",
              "      <td>-1.098378</td>\n",
              "      <td>-1.609137</td>\n",
              "      <td>-0.179565</td>\n",
              "      <td>-1.090266</td>\n",
              "      <td>0.648741</td>\n",
              "      <td>-1.663384</td>\n",
              "      <td>-1.576656</td>\n",
              "    </tr>\n",
              "  </tbody>\n",
              "</table>\n",
              "</div>"
            ],
            "text/plain": [
              "                 Cheese  Carcass_Meat  ...  Alcoholic Drinks  Confectionery\n",
              "Country                                ...                                 \n",
              "England        0.658275     -0.017495  ...          0.104998      -0.138303\n",
              "Wales          0.535805     -1.277169  ...          0.841823       0.968122\n",
              "Scotland       0.535805     -0.227441  ...          0.716563       0.746837\n",
              "North Ireland -1.729885      1.522105  ...         -1.663384      -1.576656\n",
              "\n",
              "[4 rows x 17 columns]"
            ]
          },
          "metadata": {
            "tags": []
          },
          "execution_count": 145
        }
      ]
    },
    {
      "cell_type": "code",
      "metadata": {
        "id": "xrY_t-LeYhN_",
        "colab_type": "code",
        "colab": {}
      },
      "source": [
        "pca_df = PCA(n_components=2)"
      ],
      "execution_count": 0,
      "outputs": []
    },
    {
      "cell_type": "code",
      "metadata": {
        "id": "FSleNJoqYoA1",
        "colab_type": "code",
        "colab": {}
      },
      "source": [
        "pca_data = pca_df.fit_transform(x)"
      ],
      "execution_count": 0,
      "outputs": []
    },
    {
      "cell_type": "code",
      "metadata": {
        "id": "h5HIM0yXeR9y",
        "colab_type": "code",
        "outputId": "c53067dd-df16-499b-c5e7-fd523f9c1023",
        "colab": {
          "base_uri": "https://localhost:8080/",
          "height": 204
        }
      },
      "source": [
        "df_final = pd.DataFrame(data = pca_data, index=df.index, columns = ['comp_1', 'comp_2'])\n",
        "df_final.head()"
      ],
      "execution_count": 148,
      "outputs": [
        {
          "output_type": "execute_result",
          "data": {
            "text/html": [
              "<div>\n",
              "<style scoped>\n",
              "    .dataframe tbody tr th:only-of-type {\n",
              "        vertical-align: middle;\n",
              "    }\n",
              "\n",
              "    .dataframe tbody tr th {\n",
              "        vertical-align: top;\n",
              "    }\n",
              "\n",
              "    .dataframe thead th {\n",
              "        text-align: right;\n",
              "    }\n",
              "</style>\n",
              "<table border=\"1\" class=\"dataframe\">\n",
              "  <thead>\n",
              "    <tr style=\"text-align: right;\">\n",
              "      <th></th>\n",
              "      <th>comp_1</th>\n",
              "      <th>comp_2</th>\n",
              "    </tr>\n",
              "    <tr>\n",
              "      <th>Country</th>\n",
              "      <th></th>\n",
              "      <th></th>\n",
              "    </tr>\n",
              "  </thead>\n",
              "  <tbody>\n",
              "    <tr>\n",
              "      <th>England</th>\n",
              "      <td>-0.954490</td>\n",
              "      <td>0.328318</td>\n",
              "    </tr>\n",
              "    <tr>\n",
              "      <th>Wales</th>\n",
              "      <td>-4.520951</td>\n",
              "      <td>-1.735380</td>\n",
              "    </tr>\n",
              "    <tr>\n",
              "      <th>Scotland</th>\n",
              "      <td>0.487978</td>\n",
              "      <td>3.233672</td>\n",
              "    </tr>\n",
              "    <tr>\n",
              "      <th>North Ireland</th>\n",
              "      <td>4.987462</td>\n",
              "      <td>-1.826611</td>\n",
              "    </tr>\n",
              "  </tbody>\n",
              "</table>\n",
              "</div>"
            ],
            "text/plain": [
              "                 comp_1    comp_2\n",
              "Country                          \n",
              "England       -0.954490  0.328318\n",
              "Wales         -4.520951 -1.735380\n",
              "Scotland       0.487978  3.233672\n",
              "North Ireland  4.987462 -1.826611"
            ]
          },
          "metadata": {
            "tags": []
          },
          "execution_count": 148
        }
      ]
    },
    {
      "cell_type": "code",
      "metadata": {
        "id": "dO2RUjEefms5",
        "colab_type": "code",
        "outputId": "5e9a37a9-f186-4add-f9d9-1603b63957c2",
        "colab": {
          "base_uri": "https://localhost:8080/",
          "height": 524
        }
      },
      "source": [
        "fig = plt.figure(figsize = (8,8))\n",
        "ax = fig.add_subplot(1,1,1) \n",
        "ax.set_xlabel('Comp_1', fontsize = 15)\n",
        "ax.set_ylabel('Comp_2', fontsize = 15)\n",
        "ax.set_title('2 component PCA', fontsize = 20)\n",
        "colors = ['r', 'g', 'b', 'y']\n",
        "for target, color in zip(df_final.index,colors):\n",
        "    indicesToKeep = df_final.index == target\n",
        "    ax.scatter(df_final.loc[indicesToKeep, 'comp_1'],\n",
        "               df_final.loc[indicesToKeep, 'comp_2'],\n",
        "               c = color,\n",
        "               s = 50)\n",
        "\n",
        "ax.legend(df_final.index)\n",
        "ax.grid()"
      ],
      "execution_count": 149,
      "outputs": [
        {
          "output_type": "display_data",
          "data": {
            "image/png": "[encoded data removed]",
            "text/plain": [
              "<Figure size 576x576 with 1 Axes>"
            ]
          },
          "metadata": {
            "tags": []
          }
        }
      ]
    },
    {
      "cell_type": "markdown",
      "metadata": {
        "id": "m_sdj4vvG_tg",
        "colab_type": "text"
      },
      "source": [
        "## 3.3 What are Eigenvalues and Eigenvectors? -In general, not just in PCA."
      ]
    },
    {
      "cell_type": "markdown",
      "metadata": {
        "id": "QlhJnyR2HUTR",
        "colab_type": "text"
      },
      "source": [
        "*An eigenvector is any vector that doesn't change its orientation during a given transformation, but it could still get scaled by a scalar. That particular scalar is called the eigenvalue. They come in pairs.*\n",
        "*italicized text*"
      ]
    },
    {
      "cell_type": "markdown",
      "metadata": {
        "id": "z-RzYKR0C6Wg",
        "colab_type": "text"
      },
      "source": [
        "# Clustering"
      ]
    },
    {
      "cell_type": "markdown",
      "metadata": {
        "id": "62efk4plJe54",
        "colab_type": "text"
      },
      "source": [
        "## 4.1 Use K-Means to cluster the following data and then graph your results. \n",
        "\n",
        "We have included some code to get you started so that you don't get stuck on something that isn't standardizing clustering.\n",
        "\n",
        "Prioritize calculating the clusters over graphing them. \n",
        "\n",
        "Scikit-Learn K-Means Documentation:\n",
        "\n",
        "<https://scikit-learn.org/stable/modules/generated/sklearn.cluster.KMeans.html>"
      ]
    },
    {
      "cell_type": "code",
      "metadata": {
        "id": "miK5Aeg-JlzJ",
        "colab_type": "code",
        "outputId": "e60fc829-a03c-4c61-d59b-0c61b26a90ea",
        "colab": {
          "base_uri": "https://localhost:8080/",
          "height": 221
        }
      },
      "source": [
        "points = pd.read_csv('https://raw.githubusercontent.com/ryanleeallred/datasets/master/points.csv')\n",
        "print(points.shape)\n",
        "points.head()"
      ],
      "execution_count": 150,
      "outputs": [
        {
          "output_type": "stream",
          "text": [
            "(200, 2)\n"
          ],
          "name": "stdout"
        },
        {
          "output_type": "execute_result",
          "data": {
            "text/html": [
              "<div>\n",
              "<style scoped>\n",
              "    .dataframe tbody tr th:only-of-type {\n",
              "        vertical-align: middle;\n",
              "    }\n",
              "\n",
              "    .dataframe tbody tr th {\n",
              "        vertical-align: top;\n",
              "    }\n",
              "\n",
              "    .dataframe thead th {\n",
              "        text-align: right;\n",
              "    }\n",
              "</style>\n",
              "<table border=\"1\" class=\"dataframe\">\n",
              "  <thead>\n",
              "    <tr style=\"text-align: right;\">\n",
              "      <th></th>\n",
              "      <th>x</th>\n",
              "      <th>y</th>\n",
              "    </tr>\n",
              "  </thead>\n",
              "  <tbody>\n",
              "    <tr>\n",
              "      <th>0</th>\n",
              "      <td>-7.846803</td>\n",
              "      <td>-3.421277</td>\n",
              "    </tr>\n",
              "    <tr>\n",
              "      <th>1</th>\n",
              "      <td>-3.554323</td>\n",
              "      <td>-6.884729</td>\n",
              "    </tr>\n",
              "    <tr>\n",
              "      <th>2</th>\n",
              "      <td>-0.192822</td>\n",
              "      <td>-9.671030</td>\n",
              "    </tr>\n",
              "    <tr>\n",
              "      <th>3</th>\n",
              "      <td>-6.401456</td>\n",
              "      <td>-5.223972</td>\n",
              "    </tr>\n",
              "    <tr>\n",
              "      <th>4</th>\n",
              "      <td>-0.804026</td>\n",
              "      <td>-9.704457</td>\n",
              "    </tr>\n",
              "  </tbody>\n",
              "</table>\n",
              "</div>"
            ],
            "text/plain": [
              "          x         y\n",
              "0 -7.846803 -3.421277\n",
              "1 -3.554323 -6.884729\n",
              "2 -0.192822 -9.671030\n",
              "3 -6.401456 -5.223972\n",
              "4 -0.804026 -9.704457"
            ]
          },
          "metadata": {
            "tags": []
          },
          "execution_count": 150
        }
      ]
    },
    {
      "cell_type": "code",
      "metadata": {
        "id": "qX0zKKznTzcI",
        "colab_type": "code",
        "colab": {}
      },
      "source": [
        "##### Your Code Here #####"
      ],
      "execution_count": 0,
      "outputs": []
    },
    {
      "cell_type": "code",
      "metadata": {
        "id": "twlpjRg8G-6o",
        "colab_type": "code",
        "colab": {}
      },
      "source": [
        "dataset_cx = points['x'].mean()\n",
        "dataset_cy = points['y'].mean()"
      ],
      "execution_count": 0,
      "outputs": []
    },
    {
      "cell_type": "code",
      "metadata": {
        "id": "9NPUIPfnHE9O",
        "colab_type": "code",
        "outputId": "c2bb4b70-cf00-4fcd-dd24-d598bbf2b611",
        "colab": {
          "base_uri": "https://localhost:8080/",
          "height": 265
        }
      },
      "source": [
        "# Display the plots and their centroid\n",
        "plt.scatter(points['x'], points['y'])\n",
        "plt.plot(dataset_cx, dataset_cy, 'or');"
      ],
      "execution_count": 153,
      "outputs": [
        {
          "output_type": "display_data",
          "data": {
            "image/png": "[encoded data removed]",
            "text/plain": [
              "<Figure size 432x288 with 1 Axes>"
            ]
          },
          "metadata": {
            "tags": []
          }
        }
      ]
    },
    {
      "cell_type": "code",
      "metadata": {
        "id": "66uoDc8BIOiE",
        "colab_type": "code",
        "colab": {}
      },
      "source": [
        "import math\n",
        "import numpy as np\n",
        "from scipy.spatial import distance\n",
        "from sklearn.cluster import KMeans"
      ],
      "execution_count": 0,
      "outputs": []
    },
    {
      "cell_type": "code",
      "metadata": {
        "id": "xB8GVjwWIYYy",
        "colab_type": "code",
        "colab": {}
      },
      "source": [
        "from sklearn.preprocessing import StandardScaler\n",
        "myscaler = StandardScaler()"
      ],
      "execution_count": 0,
      "outputs": []
    },
    {
      "cell_type": "code",
      "metadata": {
        "id": "VM6LkEZILAbt",
        "colab_type": "code",
        "colab": {}
      },
      "source": [
        "scaled_data = myscaler.fit_transform(points)"
      ],
      "execution_count": 0,
      "outputs": []
    },
    {
      "cell_type": "code",
      "metadata": {
        "id": "GlSgbzRALQpY",
        "colab_type": "code",
        "outputId": "edadf2d0-fe89-4ecc-f479-8fc9ab3a9089",
        "colab": {
          "base_uri": "https://localhost:8080/",
          "height": 34
        }
      },
      "source": [
        "features=list(points.columns)\n",
        "features"
      ],
      "execution_count": 157,
      "outputs": [
        {
          "output_type": "execute_result",
          "data": {
            "text/plain": [
              "['x', 'y']"
            ]
          },
          "metadata": {
            "tags": []
          },
          "execution_count": 157
        }
      ]
    },
    {
      "cell_type": "code",
      "metadata": {
        "id": "0qdS6glbLIXa",
        "colab_type": "code",
        "colab": {}
      },
      "source": [
        "df_scaled = pd.DataFrame(scaled_data, columns=features)"
      ],
      "execution_count": 0,
      "outputs": []
    },
    {
      "cell_type": "code",
      "metadata": {
        "id": "iI6xsUuxPd6P",
        "colab_type": "code",
        "colab": {}
      },
      "source": [
        "kmeans = KMeans(n_clusters=5)"
      ],
      "execution_count": 0,
      "outputs": []
    },
    {
      "cell_type": "code",
      "metadata": {
        "id": "InC1XkCaN3w8",
        "colab_type": "code",
        "outputId": "50bfabb9-a344-458b-cf98-de5589bf4e1a",
        "colab": {
          "base_uri": "https://localhost:8080/",
          "height": 68
        }
      },
      "source": [
        "## just checking my work\n",
        "df_scaled.mean()"
      ],
      "execution_count": 160,
      "outputs": [
        {
          "output_type": "execute_result",
          "data": {
            "text/plain": [
              "x    3.247402e-17\n",
              "y    3.330669e-17\n",
              "dtype: float64"
            ]
          },
          "metadata": {
            "tags": []
          },
          "execution_count": 160
        }
      ]
    },
    {
      "cell_type": "code",
      "metadata": {
        "id": "nC-gpojtNk_B",
        "colab_type": "code",
        "outputId": "fb927b9c-4f05-4d43-9cec-6a6e676ea810",
        "colab": {
          "base_uri": "https://localhost:8080/",
          "height": 68
        }
      },
      "source": [
        "## just checking my work\n",
        "df_scaled[features].std()"
      ],
      "execution_count": 161,
      "outputs": [
        {
          "output_type": "execute_result",
          "data": {
            "text/plain": [
              "x    1.002509\n",
              "y    1.002509\n",
              "dtype: float64"
            ]
          },
          "metadata": {
            "tags": []
          },
          "execution_count": 161
        }
      ]
    },
    {
      "cell_type": "code",
      "metadata": {
        "id": "__Lh11opPg2j",
        "colab_type": "code",
        "outputId": "376e3a0f-d241-4940-8746-a3b4fb8f949c",
        "colab": {
          "base_uri": "https://localhost:8080/",
          "height": 68
        }
      },
      "source": [
        "kmeans.fit(df_scaled)"
      ],
      "execution_count": 162,
      "outputs": [
        {
          "output_type": "execute_result",
          "data": {
            "text/plain": [
              "KMeans(algorithm='auto', copy_x=True, init='k-means++', max_iter=300,\n",
              "       n_clusters=5, n_init=10, n_jobs=None, precompute_distances='auto',\n",
              "       random_state=None, tol=0.0001, verbose=0)"
            ]
          },
          "metadata": {
            "tags": []
          },
          "execution_count": 162
        }
      ]
    },
    {
      "cell_type": "code",
      "metadata": {
        "id": "lAK_4OU6Pk2m",
        "colab_type": "code",
        "outputId": "daf74048-cfff-4ebf-86c1-7d45c831dd31",
        "colab": {
          "base_uri": "https://localhost:8080/",
          "height": 119
        }
      },
      "source": [
        "labels = kmeans.labels_\n",
        "print(labels)"
      ],
      "execution_count": 163,
      "outputs": [
        {
          "output_type": "stream",
          "text": [
            "[3 4 0 3 0 4 3 3 1 4 4 4 0 4 3 0 3 4 4 2 3 2 2 2 4 4 0 1 4 4 4 4 0 2 4 4 4\n",
            " 4 1 0 0 2 1 1 1 4 4 4 3 0 2 3 3 1 2 0 4 1 1 3 2 0 3 1 2 1 2 1 3 1 4 4 4 4\n",
            " 2 2 4 4 1 2 1 4 4 4 1 4 1 4 4 2 1 4 2 4 0 4 4 4 4 0 4 4 3 4 4 2 3 3 3 2 0\n",
            " 2 4 3 0 4 1 1 2 1 2 0 4 3 4 3 4 2 1 3 0 3 4 3 1 1 0 2 3 4 1 4 4 2 0 1 4 1\n",
            " 3 4 4 0 3 2 4 1 0 2 4 3 0 4 1 3 2 2 0 1 0 0 3 0 1 2 0 4 4 4 4 3 4 0 4 4 0\n",
            " 4 3 2 1 0 4 3 2 3 4 1 2 2 0 0]\n"
          ],
          "name": "stdout"
        }
      ]
    },
    {
      "cell_type": "code",
      "metadata": {
        "id": "sXqax5RPQRiX",
        "colab_type": "code",
        "outputId": "516cb383-498e-4e4b-a5b6-739830a773c0",
        "colab": {
          "base_uri": "https://localhost:8080/",
          "height": 204
        }
      },
      "source": [
        "new_series = pd.Series(labels)\n",
        "df_scaled['clusters'] = new_series.values\n",
        "df_scaled.head()"
      ],
      "execution_count": 164,
      "outputs": [
        {
          "output_type": "execute_result",
          "data": {
            "text/html": [
              "<div>\n",
              "<style scoped>\n",
              "    .dataframe tbody tr th:only-of-type {\n",
              "        vertical-align: middle;\n",
              "    }\n",
              "\n",
              "    .dataframe tbody tr th {\n",
              "        vertical-align: top;\n",
              "    }\n",
              "\n",
              "    .dataframe thead th {\n",
              "        text-align: right;\n",
              "    }\n",
              "</style>\n",
              "<table border=\"1\" class=\"dataframe\">\n",
              "  <thead>\n",
              "    <tr style=\"text-align: right;\">\n",
              "      <th></th>\n",
              "      <th>x</th>\n",
              "      <th>y</th>\n",
              "      <th>clusters</th>\n",
              "    </tr>\n",
              "  </thead>\n",
              "  <tbody>\n",
              "    <tr>\n",
              "      <th>0</th>\n",
              "      <td>-1.215264</td>\n",
              "      <td>0.000286</td>\n",
              "      <td>3</td>\n",
              "    </tr>\n",
              "    <tr>\n",
              "      <th>1</th>\n",
              "      <td>-0.270846</td>\n",
              "      <td>-0.621863</td>\n",
              "      <td>4</td>\n",
              "    </tr>\n",
              "    <tr>\n",
              "      <th>2</th>\n",
              "      <td>0.468740</td>\n",
              "      <td>-1.122373</td>\n",
              "      <td>0</td>\n",
              "    </tr>\n",
              "    <tr>\n",
              "      <th>3</th>\n",
              "      <td>-0.897263</td>\n",
              "      <td>-0.323537</td>\n",
              "      <td>3</td>\n",
              "    </tr>\n",
              "    <tr>\n",
              "      <th>4</th>\n",
              "      <td>0.334265</td>\n",
              "      <td>-1.128378</td>\n",
              "      <td>0</td>\n",
              "    </tr>\n",
              "  </tbody>\n",
              "</table>\n",
              "</div>"
            ],
            "text/plain": [
              "          x         y  clusters\n",
              "0 -1.215264  0.000286         3\n",
              "1 -0.270846 -0.621863         4\n",
              "2  0.468740 -1.122373         0\n",
              "3 -0.897263 -0.323537         3\n",
              "4  0.334265 -1.128378         0"
            ]
          },
          "metadata": {
            "tags": []
          },
          "execution_count": 164
        }
      ]
    },
    {
      "cell_type": "code",
      "metadata": {
        "id": "yXuZRSUHROFU",
        "colab_type": "code",
        "colab": {}
      },
      "source": [
        "def find_nearest_centroid(df, centroids, iteration):\n",
        "    \n",
        "    # calculate the distances between each point and each centroid\n",
        "    distances = distance.cdist(df, centroids, 'euclidean')\n",
        "\n",
        "    # Get nearest centroid to each point based on distance\n",
        "    nearest_centroids = np.argmin(distances, axis=1)\n",
        "\n",
        "    se = pd.Series(nearest_centroids)\n",
        "    df['cluster_'+iteration] = se.values\n",
        "\n",
        "    return df"
      ],
      "execution_count": 0,
      "outputs": []
    },
    {
      "cell_type": "code",
      "metadata": {
        "id": "mH7TmEpXRg0w",
        "colab_type": "code",
        "colab": {}
      },
      "source": [
        "def plot_clusters(df, column_header, centroids):\n",
        "    colors = {0:'red', 1:'blue', 2:'gold', 3:'orange', 4:'green'}\n",
        "    fig, ax = plt.subplots()\n",
        "    ax.plot(centroids.loc[0, 'x'], centroids.loc[0, 'y'], \"ok\")\n",
        "    ax.plot(centroids.loc[1, 'x'], centroids.loc[1, 'y'], \"ok\")\n",
        "    ax.plot(centroids.loc[2, 'x'], centroids.loc[2, 'y'], \"ok\")\n",
        "    ax.plot(centroids.loc[3, 'x'], centroids.loc[3, 'y'], \"ok\")\n",
        "    ax.plot(centroids.loc[4, 'x'], centroids.loc[4, 'y'], \"ok\")\n",
        "    grouped = df_scaled.groupby(column_header)\n",
        "    for key, group in grouped:\n",
        "        group.plot(ax=ax, kind='scatter', x='x', y='y', label=key, color=colors[key])\n",
        "    plt.show()\n",
        "\n"
      ],
      "execution_count": 0,
      "outputs": []
    },
    {
      "cell_type": "code",
      "metadata": {
        "id": "5rmrD_aXQhLj",
        "colab_type": "code",
        "colab": {}
      },
      "source": [
        "def get_centroids(df, column_header):\n",
        "    new_centroids = df.groupby(column_header).mean()\n",
        "    return new_centroids"
      ],
      "execution_count": 0,
      "outputs": []
    },
    {
      "cell_type": "code",
      "metadata": {
        "id": "RW5NyaCiQk7D",
        "colab_type": "code",
        "outputId": "3db0cdf1-ac09-43b1-90f5-56451199a4d1",
        "colab": {
          "base_uri": "https://localhost:8080/",
          "height": 279
        }
      },
      "source": [
        "centroids = get_centroids(df_scaled, 'clusters')\n",
        "plot_clusters(df_scaled, 'clusters', centroids)"
      ],
      "execution_count": 168,
      "outputs": [
        {
          "output_type": "display_data",
          "data": {
            "image/png": "[encoded data removed]",
            "text/plain": [
              "<Figure size 432x288 with 1 Axes>"
            ]
          },
          "metadata": {
            "tags": []
          }
        }
      ]
    },
    {
      "cell_type": "markdown",
      "metadata": {
        "id": "oxxNyhv_FGKB",
        "colab_type": "text"
      },
      "source": [
        "# Stretch Goals (AKA how to get a 3):\n",
        "\n",
        "Complete the stretch goals for each section in order to get a 3 on that section.\n",
        "\n",
        "## Parts 1 & 2 (do all of the following): \n",
        "  - Comment your code well with both markdown and inline comments where appropriate\n",
        "  - Show your work with code and possibly LaTeX \n",
        "  - Justify your answers particularly well to show advanced mastery of this section\n",
        "\n",
        "## Part 3 (do all of the following): \n",
        " - Create a Scree Plot to show the Proportion of Explained Variance of each Principal Component (more than the first two)\n",
        "    - If you want to include a the cumulative proportion of explained variance, you might be interested in this NumPy Function: [numpy.cumsum](https://docs.scipy.org/doc/numpy/reference/generated/numpy.cumsum.html)\n",
        " - Give a top-notch explanation of eigenvalues and eigenvectors. Feel free to any materials, images, code, graphs, LaTeX, etc. to spruce up your answer.\n",
        "\n",
        "## Part 4 (do all of the following):\n",
        "- Justify your choice of k, both visually (scatterplot) and mathematically (elbow plot)."
      ]
    }
  ]
}