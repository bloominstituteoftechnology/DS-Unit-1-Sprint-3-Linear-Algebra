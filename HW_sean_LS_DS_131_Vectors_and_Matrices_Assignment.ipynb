{
  "nbformat": 4,
  "nbformat_minor": 0,
  "metadata": {
    "colab": {
      "name": "HW sean LS_DS_131_Vectors_and_Matrices_Assignment.ipynb",
      "provenance": [],
      "collapsed_sections": [],
      "include_colab_link": true
    },
    "kernelspec": {
      "name": "python3",
      "display_name": "Python 3"
    }
  },
  "cells": [
    {
      "cell_type": "markdown",
      "metadata": {
        "id": "view-in-github",
        "colab_type": "text"
      },
      "source": [
        "<a href=\"https://colab.research.google.com/github/ssbyrne89/DS-Unit-1-Sprint-3-Linear-Algebra/blob/master/HW_sean_LS_DS_131_Vectors_and_Matrices_Assignment.ipynb\" target=\"_parent\"><img src=\"https://colab.research.google.com/assets/colab-badge.svg\" alt=\"Open In Colab\"/></a>"
      ]
    },
    {
      "cell_type": "markdown",
      "metadata": {
        "id": "yXA3GwWhY9KL",
        "colab_type": "text"
      },
      "source": [
        "# Part 1 - Scalars and Vectors\n",
        "\n",
        "For the questions below it is not sufficient to simply provide answer to the questions, but you must solve the problems and show your work using python (the NumPy library will help a lot!) Translate the vectors and matrices into their appropriate python  representations and use numpy or functions that you write yourself to demonstrate the result or property. "
      ]
    },
    {
      "cell_type": "markdown",
      "metadata": {
        "id": "oNOTv43_Zi9L",
        "colab_type": "text"
      },
      "source": [
        "## 1.1 Create a two-dimensional vector and plot it on a graph"
      ]
    },
    {
      "cell_type": "code",
      "metadata": {
        "id": "XNqjzQzrkVG7",
        "colab_type": "code",
        "colab": {}
      },
      "source": [
        "### do the imports\n",
        "import math\n",
        "import numpy as np\n",
        "import pandas as pd\n",
        "import matplotlib.pyplot as plt\n",
        "\n"
      ],
      "execution_count": 0,
      "outputs": []
    },
    {
      "cell_type": "code",
      "metadata": {
        "id": "Snzf1_bfHih4",
        "colab_type": "code",
        "colab": {}
      },
      "source": [
        "#create the vector with numpy array thing\n",
        "a = np.array([1,3])"
      ],
      "execution_count": 0,
      "outputs": []
    },
    {
      "cell_type": "code",
      "metadata": {
        "id": "pmNXsCgCG61e",
        "colab_type": "code",
        "colab": {
          "base_uri": "https://localhost:8080/",
          "height": 268
        },
        "outputId": "7114abf6-5a0a-4e32-c582-e6869f8eb3bc"
      },
      "source": [
        "### plot the newly created vector as an arrow on a graph\n",
        "\n",
        "fig, ax = plt.subplots()\n",
        "ax.grid()\n",
        "plt.xlim(-0.5, 2)\n",
        "plt.ylim(-0.5, 4)\n",
        "\n",
        "plt.arrow(0,0,\n",
        "          a[0],\n",
        "          a[1],\n",
        "          head_width=.1,\n",
        "          head_length=.07,\n",
        "          linewidth=2.5,\n",
        "          length_includes_head=True,\n",
        "          color='darkgreen')\n",
        "\n",
        "plt.show()"
      ],
      "execution_count": 4,
      "outputs": [
        {
          "output_type": "display_data",
          "data": {
            "image/png": "[encoded data removed]",
            "text/plain": [
              "<Figure size 432x288 with 1 Axes>"
            ]
          },
          "metadata": {
            "tags": []
          }
        }
      ]
    },
    {
      "cell_type": "markdown",
      "metadata": {
        "id": "unKFT619lk3e",
        "colab_type": "text"
      },
      "source": [
        "## 1.2 Create a three-dimensional vecor and plot it on a graph"
      ]
    },
    {
      "cell_type": "code",
      "metadata": {
        "id": "atUEd3T6llKm",
        "colab_type": "code",
        "colab": {
          "base_uri": "https://localhost:8080/",
          "height": 34
        },
        "outputId": "636db77a-ee88-432c-93dc-947173d8295c"
      },
      "source": [
        "yellow = [.5, .5, .5]\n",
        "vector = np.array([[0,0,0,\n",
        "                    yellow[0], yellow[1], yellow[2]]])\n",
        "vector\n",
        "\n"
      ],
      "execution_count": 19,
      "outputs": [
        {
          "output_type": "execute_result",
          "data": {
            "text/plain": [
              "array([[0. , 0. , 0. , 0.5, 0.5, 0.5]])"
            ]
          },
          "metadata": {
            "tags": []
          },
          "execution_count": 19
        }
      ]
    },
    {
      "cell_type": "code",
      "metadata": {
        "id": "izc9XHP8XQPN",
        "colab_type": "code",
        "colab": {
          "base_uri": "https://localhost:8080/",
          "height": 123
        },
        "outputId": "b13892dc-e54f-474f-de2f-4cd45b268f2c"
      },
      "source": [
        "# unzip that vector\n",
        "X, Y, Z, U, V, W = zip(*vector)\n",
        "for letter in [X, Y, Z, U, V, W]:\n",
        "    print(letter)"
      ],
      "execution_count": 21,
      "outputs": [
        {
          "output_type": "stream",
          "text": [
            "(0.0,)\n",
            "(0.0,)\n",
            "(0.0,)\n",
            "(0.5,)\n",
            "(0.5,)\n",
            "(0.5,)\n"
          ],
          "name": "stdout"
        }
      ]
    },
    {
      "cell_type": "code",
      "metadata": {
        "id": "0ZYRN6qXXeKw",
        "colab_type": "code",
        "colab": {
          "base_uri": "https://localhost:8080/",
          "height": 247
        },
        "outputId": "2f4a2f67-db02-4070-be43-b0f73e7fd22c"
      },
      "source": [
        "# display that in 3D\n",
        "from mpl_toolkits.mplot3d import Axes3D\n",
        "\n",
        "fig = plt.figure()\n",
        "ax = fig.add_subplot(111, projection='3d')\n",
        "ax.quiver(X, Y, Z, U, V, W, length=1, color='forestgreen',linewidth=6)\n",
        "ax.set_xlim([0, 1])\n",
        "ax.set_ylim([0, 1])\n",
        "ax.set_zlim([0, 1])\n",
        "ax.set_xlabel('X')\n",
        "ax.set_ylabel('Y')\n",
        "ax.set_zlabel('Z')\n",
        "plt.show()"
      ],
      "execution_count": 24,
      "outputs": [
        {
          "output_type": "display_data",
          "data": {
            "image/png": "[encoded data removed]",
            "text/plain": [
              "<Figure size 432x288 with 1 Axes>"
            ]
          },
          "metadata": {
            "tags": []
          }
        }
      ]
    },
    {
      "cell_type": "markdown",
      "metadata": {
        "id": "b7qFxbKxZmI2",
        "colab_type": "text"
      },
      "source": [
        "## 1.3 Scale the vectors you created in 1.1 by $5$, $\\pi$, and $-e$ and plot all four vectors (original + 3 scaled vectors) on a graph. What do you notice about these vectors? "
      ]
    },
    {
      "cell_type": "code",
      "metadata": {
        "id": "ah6zMSLJdJwL",
        "colab_type": "code",
        "outputId": "ef610b15-df39-4441-c5d2-d2f1f120a9b6",
        "colab": {
          "base_uri": "https://localhost:8080/",
          "height": 52
        }
      },
      "source": [
        "from math import e, pi\n",
        "print(e)\n",
        "print(pi)"
      ],
      "execution_count": 25,
      "outputs": [
        {
          "output_type": "stream",
          "text": [
            "2.718281828459045\n",
            "3.141592653589793\n"
          ],
          "name": "stdout"
        }
      ]
    },
    {
      "cell_type": "code",
      "metadata": {
        "id": "3qpwDlzXkVf5",
        "colab_type": "code",
        "colab": {
          "base_uri": "https://localhost:8080/",
          "height": 34
        },
        "outputId": "68b49096-61b1-43c2-e517-39f9e1c6a12e"
      },
      "source": [
        "5*a"
      ],
      "execution_count": 26,
      "outputs": [
        {
          "output_type": "execute_result",
          "data": {
            "text/plain": [
              "array([ 5, 15])"
            ]
          },
          "metadata": {
            "tags": []
          },
          "execution_count": 26
        }
      ]
    },
    {
      "cell_type": "code",
      "metadata": {
        "id": "wahmBDIdZPwZ",
        "colab_type": "code",
        "colab": {
          "base_uri": "https://localhost:8080/",
          "height": 268
        },
        "outputId": "87e76b0b-106a-47f0-c884-4c63e8b917b1"
      },
      "source": [
        "fig, ax = plt.subplots()\n",
        "ax.grid()\n",
        "plt.xlim(0, 10)\n",
        "plt.ylim(0, 20)\n",
        "\n",
        "plt.arrow(0,0,\n",
        "          5*a[0],\n",
        "          5*a[1],\n",
        "          head_width=.5,\n",
        "          head_length=1,\n",
        "          linewidth=8,\n",
        "          length_includes_head=True,\n",
        "          color='limegreen')\n",
        "\n",
        "plt.show()"
      ],
      "execution_count": 39,
      "outputs": [
        {
          "output_type": "display_data",
          "data": {
            "image/png": "[encoded data removed]",
            "text/plain": [
              "<Figure size 432x288 with 1 Axes>"
            ]
          },
          "metadata": {
            "tags": []
          }
        }
      ]
    },
    {
      "cell_type": "code",
      "metadata": {
        "id": "0D0hLASPY6Yd",
        "colab_type": "code",
        "colab": {
          "base_uri": "https://localhost:8080/",
          "height": 34
        },
        "outputId": "86f4dc15-404d-47df-d397-03184ab6787d"
      },
      "source": [
        "pi*a"
      ],
      "execution_count": 27,
      "outputs": [
        {
          "output_type": "execute_result",
          "data": {
            "text/plain": [
              "array([3.14159265, 9.42477796])"
            ]
          },
          "metadata": {
            "tags": []
          },
          "execution_count": 27
        }
      ]
    },
    {
      "cell_type": "code",
      "metadata": {
        "id": "_2BuGitQZ5u3",
        "colab_type": "code",
        "colab": {
          "base_uri": "https://localhost:8080/",
          "height": 268
        },
        "outputId": "da7fe914-82b6-49bd-dd7a-fc11c6ae2bab"
      },
      "source": [
        "fig, ax = plt.subplots()\n",
        "ax.grid()\n",
        "plt.xlim(0, 4)\n",
        "plt.ylim(0, 10)\n",
        "\n",
        "plt.arrow(0,0,\n",
        "          pi*a[0],\n",
        "          pi*a[1],\n",
        "          head_width=.5,\n",
        "          head_length=1,\n",
        "          linewidth=8,\n",
        "          length_includes_head=True,\n",
        "          color='turquoise')\n",
        "\n",
        "plt.show()"
      ],
      "execution_count": 40,
      "outputs": [
        {
          "output_type": "display_data",
          "data": {
            "image/png": "[encoded data removed]",
            "text/plain": [
              "<Figure size 432x288 with 1 Axes>"
            ]
          },
          "metadata": {
            "tags": []
          }
        }
      ]
    },
    {
      "cell_type": "code",
      "metadata": {
        "id": "qJP5pWHWZAZY",
        "colab_type": "code",
        "colab": {
          "base_uri": "https://localhost:8080/",
          "height": 34
        },
        "outputId": "5f61f340-0154-4643-e0b9-a451957bdcc5"
      },
      "source": [
        "-e*a"
      ],
      "execution_count": 28,
      "outputs": [
        {
          "output_type": "execute_result",
          "data": {
            "text/plain": [
              "array([-2.71828183, -8.15484549])"
            ]
          },
          "metadata": {
            "tags": []
          },
          "execution_count": 28
        }
      ]
    },
    {
      "cell_type": "code",
      "metadata": {
        "id": "H1W3M_NnaYw_",
        "colab_type": "code",
        "colab": {
          "base_uri": "https://localhost:8080/",
          "height": 268
        },
        "outputId": "e7405b74-b9fd-45af-a632-005af1c27c4f"
      },
      "source": [
        "fig, ax = plt.subplots()\n",
        "ax.grid()\n",
        "plt.xlim(-3, 0)\n",
        "plt.ylim(-9, 0)\n",
        "\n",
        "plt.arrow(0,0,\n",
        "          -e*a[0],\n",
        "          -e*a[1],\n",
        "          head_width=.5,\n",
        "          head_length=1,\n",
        "          linewidth=8,\n",
        "          length_includes_head=True,\n",
        "          color='green')\n",
        "\n",
        "plt.show()"
      ],
      "execution_count": 45,
      "outputs": [
        {
          "output_type": "display_data",
          "data": {
            "image/png": "[encoded data removed]",
            "text/plain": [
              "<Figure size 432x288 with 1 Axes>"
            ]
          },
          "metadata": {
            "tags": []
          }
        }
      ]
    },
    {
      "cell_type": "markdown",
      "metadata": {
        "id": "wrgqa6sWimbH",
        "colab_type": "text"
      },
      "source": [
        "## 1.4 Graph vectors $\\vec{a}$ and $\\vec{b}$ and plot them on a graph\n",
        "\n",
        "\\begin{align}\n",
        "\\vec{a} = \\begin{bmatrix} 5 \\\\ 7 \\end{bmatrix}\n",
        "\\qquad\n",
        "\\vec{b} = \\begin{bmatrix} 3 \\\\4 \\end{bmatrix}\n",
        "\\end{align}"
      ]
    },
    {
      "cell_type": "code",
      "metadata": {
        "id": "I1BGXA_skV-b",
        "colab_type": "code",
        "colab": {}
      },
      "source": [
        "a = np.array([5,\n",
        "              7])\n",
        "b = np.array([3,\n",
        "              4])"
      ],
      "execution_count": 0,
      "outputs": []
    },
    {
      "cell_type": "code",
      "metadata": {
        "id": "xXbiqROFbQfw",
        "colab_type": "code",
        "colab": {
          "base_uri": "https://localhost:8080/",
          "height": 268
        },
        "outputId": "735eed7b-7667-4e56-9a5f-acf298dd65f7"
      },
      "source": [
        "fig, ax = plt.subplots()\n",
        "ax.grid()\n",
        "plt.xlim(0,6)\n",
        "plt.ylim(0,8)\n",
        "\n",
        "for color, vector in [('gold',a), ('crimson',b)]:\n",
        "    plt.arrow(0, 0,\n",
        "              vector[0],\n",
        "              vector[1],\n",
        "              head_width=.8,\n",
        "              head_length=1,\n",
        "              linewidth=2,\n",
        "              color = color)\n",
        "plt.show()"
      ],
      "execution_count": 57,
      "outputs": [
        {
          "output_type": "display_data",
          "data": {
            "image/png": "[encoded data removed]",
            "text/plain": [
              "<Figure size 432x288 with 1 Axes>"
            ]
          },
          "metadata": {
            "tags": []
          }
        }
      ]
    },
    {
      "cell_type": "markdown",
      "metadata": {
        "id": "QN6RU_3gizpw",
        "colab_type": "text"
      },
      "source": [
        "## 1.5 find $\\vec{a} - \\vec{b}$ and plot the result on the same graph as $\\vec{a}$ and $\\vec{b}$. Is there a relationship between vectors $\\vec{a} \\thinspace, \\vec{b} \\thinspace \\text{and} \\thinspace \\vec{a-b}$"
      ]
    },
    {
      "cell_type": "code",
      "metadata": {
        "id": "68sWHIOPkXp5",
        "colab_type": "code",
        "colab": {
          "base_uri": "https://localhost:8080/",
          "height": 34
        },
        "outputId": "c8eb04e8-bb39-4494-9e98-642db79426bb"
      },
      "source": [
        "lucy=a - b\n",
        "lucy"
      ],
      "execution_count": 59,
      "outputs": [
        {
          "output_type": "execute_result",
          "data": {
            "text/plain": [
              "array([2, 3])"
            ]
          },
          "metadata": {
            "tags": []
          },
          "execution_count": 59
        }
      ]
    },
    {
      "cell_type": "code",
      "metadata": {
        "id": "JDVGa5qaesGk",
        "colab_type": "code",
        "colab": {
          "base_uri": "https://localhost:8080/",
          "height": 268
        },
        "outputId": "c25e105a-72aa-4298-b309-8238e58a8be1"
      },
      "source": [
        "fig, ax = plt.subplots()\n",
        "ax.grid()\n",
        "plt.xlim(0,3)\n",
        "plt.ylim(0,4)\n",
        "\n",
        "plt.arrow(0, 0, \n",
        "          lucy[0], \n",
        "          lucy[1], \n",
        "          head_width=.2, \n",
        "          head_length=0.2,\n",
        "          linewidth=3,\n",
        "          color = 'darkorange')\n",
        "plt.show()"
      ],
      "execution_count": 70,
      "outputs": [
        {
          "output_type": "display_data",
          "data": {
            "image/png": "[encoded data removed]",
            "text/plain": [
              "<Figure size 432x288 with 1 Axes>"
            ]
          },
          "metadata": {
            "tags": []
          }
        }
      ]
    },
    {
      "cell_type": "markdown",
      "metadata": {
        "id": "1ZPVuJAlehu_",
        "colab_type": "text"
      },
      "source": [
        "## 1.6 Find $c \\cdot d$\n",
        "\n",
        "\\begin{align}\n",
        "\\vec{c} = \\begin{bmatrix}7 & 22 & 4 & 16\\end{bmatrix}\n",
        "\\qquad\n",
        "\\vec{d} = \\begin{bmatrix}12 & 6 & 2 & 9\\end{bmatrix}\n",
        "\\end{align}\n"
      ]
    },
    {
      "cell_type": "code",
      "metadata": {
        "id": "2_cZQFCskYNr",
        "colab_type": "code",
        "colab": {
          "base_uri": "https://localhost:8080/",
          "height": 34
        },
        "outputId": "c12cfba5-8466-4531-a5aa-9c7828a70fb5"
      },
      "source": [
        "c = np.array([7,22,4,16])\n",
        "d = np.array([12,6,2,9])\n",
        "print(\"Dot Product:\", np.dot(c,d))"
      ],
      "execution_count": 72,
      "outputs": [
        {
          "output_type": "stream",
          "text": [
            "Dot Product: 368\n"
          ],
          "name": "stdout"
        }
      ]
    },
    {
      "cell_type": "markdown",
      "metadata": {
        "id": "cLm8yokpfg9B",
        "colab_type": "text"
      },
      "source": [
        "##  1.7 Find $e \\times f$\n",
        "\n",
        "\\begin{align}\n",
        "\\vec{e} = \\begin{bmatrix} 5 \\\\ 7 \\\\ 2 \\end{bmatrix}\n",
        "\\qquad\n",
        "\\vec{f} = \\begin{bmatrix} 3 \\\\4 \\\\ 6 \\end{bmatrix}\n",
        "\\end{align}"
      ]
    },
    {
      "cell_type": "code",
      "metadata": {
        "id": "ku-TdCKAkYs8",
        "colab_type": "code",
        "colab": {}
      },
      "source": [
        "e = np.array([[5],\n",
        "     [7],\n",
        "     [2]])\n",
        "\n",
        "f = np.array([[3],\n",
        "     [4],\n",
        "     [6]])"
      ],
      "execution_count": 0,
      "outputs": []
    },
    {
      "cell_type": "code",
      "metadata": {
        "id": "6MZs3TSEjKGx",
        "colab_type": "code",
        "colab": {
          "base_uri": "https://localhost:8080/",
          "height": 70
        },
        "outputId": "7cbe5306-beb8-4237-b0bf-7359cbda24fa"
      },
      "source": [
        "e * f"
      ],
      "execution_count": 78,
      "outputs": [
        {
          "output_type": "execute_result",
          "data": {
            "text/plain": [
              "array([[15],\n",
              "       [28],\n",
              "       [12]])"
            ]
          },
          "metadata": {
            "tags": []
          },
          "execution_count": 78
        }
      ]
    },
    {
      "cell_type": "markdown",
      "metadata": {
        "id": "-TN8wO2-h53s",
        "colab_type": "text"
      },
      "source": [
        "## 1.8 Find $||g||$ and then find $||h||$. Which is longer?\n",
        "\n",
        "\\begin{align}\n",
        "\\vec{g} = \\begin{bmatrix} 1 \\\\ 1 \\\\ 1 \\\\ 8 \\end{bmatrix}\n",
        "\\qquad\n",
        "\\vec{h} = \\begin{bmatrix} 3 \\\\3 \\\\ 3 \\\\ 3 \\end{bmatrix}\n",
        "\\end{align}"
      ]
    },
    {
      "cell_type": "code",
      "metadata": {
        "id": "-5VKOMKBlgaA",
        "colab_type": "code",
        "colab": {}
      },
      "source": [
        "g = np.array([[1],\n",
        "              [1],\n",
        "              [1],\n",
        "              [8]])"
      ],
      "execution_count": 0,
      "outputs": []
    },
    {
      "cell_type": "code",
      "metadata": {
        "id": "idW0UQ2oj3U2",
        "colab_type": "code",
        "colab": {}
      },
      "source": [
        "h = np.array([[3],\n",
        "              [3],\n",
        "              [3],\n",
        "              [3]])"
      ],
      "execution_count": 0,
      "outputs": []
    },
    {
      "cell_type": "code",
      "metadata": {
        "id": "PKNQE_yekSSP",
        "colab_type": "code",
        "colab": {
          "base_uri": "https://localhost:8080/",
          "height": 52
        },
        "outputId": "f3603b28-7f51-47b8-d71b-ec7ab06b357f"
      },
      "source": [
        "norm_g = np.linalg.norm(g)\n",
        "norm_h = np.linalg.norm(h)\n",
        "\n",
        "print(norm_g)\n",
        "print(norm_h)"
      ],
      "execution_count": 81,
      "outputs": [
        {
          "output_type": "stream",
          "text": [
            "8.18535277187245\n",
            "6.0\n"
          ],
          "name": "stdout"
        }
      ]
    },
    {
      "cell_type": "code",
      "metadata": {
        "id": "rPBI3wpyktPQ",
        "colab_type": "code",
        "colab": {}
      },
      "source": [
        "#### the g vector is longer"
      ],
      "execution_count": 0,
      "outputs": []
    },
    {
      "cell_type": "markdown",
      "metadata": {
        "id": "njrWIMS-ZAoH",
        "colab_type": "text"
      },
      "source": [
        "\n",
        "# Part 2 - Matrices"
      ]
    },
    {
      "cell_type": "markdown",
      "metadata": {
        "id": "GjkcAVIOmOnn",
        "colab_type": "text"
      },
      "source": [
        "## 2.1 What are the dimensions of the following matrices? Which of the following can be multiplied together? See if you can find all of the different legal combinations.\n",
        "\\begin{align}\n",
        "A = \\begin{bmatrix}\n",
        "1 & 2 \\\\\n",
        "3 & 4 \\\\\n",
        "5 & 6\n",
        "\\end{bmatrix}\n",
        "\\qquad\n",
        "B = \\begin{bmatrix}\n",
        "2 & 4 & 6 \\\\\n",
        "\\end{bmatrix}\n",
        "\\qquad\n",
        "C = \\begin{bmatrix}\n",
        "9 & 6 & 3 \\\\\n",
        "4 & 7 & 11\n",
        "\\end{bmatrix}\n",
        "\\qquad\n",
        "D = \\begin{bmatrix}\n",
        "1 & 0 & 0 \\\\\n",
        "0 & 1 & 0 \\\\\n",
        "0 & 0 & 1\n",
        "\\end{bmatrix}\n",
        "\\qquad\n",
        "E = \\begin{bmatrix}\n",
        "1 & 3 \\\\\n",
        "5 & 7\n",
        "\\end{bmatrix}\n",
        "\\end{align}"
      ]
    },
    {
      "cell_type": "code",
      "metadata": {
        "id": "Z69c-uPtnbIx",
        "colab_type": "code",
        "colab": {}
      },
      "source": [
        "# A is 3x2\n",
        "# B is 1x3\n",
        "# C is 2x3\n",
        "# D is 3x3\n",
        "# E is 2x2"
      ],
      "execution_count": 0,
      "outputs": []
    },
    {
      "cell_type": "code",
      "metadata": {
        "id": "y0tKdcswmGHF",
        "colab_type": "code",
        "colab": {}
      },
      "source": [
        "# A and C can be multiplied\n",
        "# B and D can be multiplied\n",
        "# B and A can be multiplied\n",
        "# D and A can be multiplied\n",
        "# C and A can be multiplied\n",
        "# C and D can be multiplied\n",
        "# A and E can be multiplied\n",
        "# E and C can be multiplied\n"
      ],
      "execution_count": 0,
      "outputs": []
    },
    {
      "cell_type": "markdown",
      "metadata": {
        "id": "lMOlCoM3ncGa",
        "colab_type": "text"
      },
      "source": [
        "## 2.2 Find the following products: CD, AE, and BA. What are the dimensions of the resulting matrices? How does that relate to the dimensions of their factor matrices?"
      ]
    },
    {
      "cell_type": "code",
      "metadata": {
        "id": "zhKwiSItoE2F",
        "colab_type": "code",
        "colab": {
          "base_uri": "https://localhost:8080/",
          "height": 107
        },
        "outputId": "025b45df-8c90-402e-9ef3-6b7e59e23213"
      },
      "source": [
        "A = [[1,2],[3,4],[5,6]]\n",
        "pd.DataFrame(A)\n",
        "\n",
        "B = [2,4,6]\n",
        "pd.DataFrame(B)\n",
        "\n",
        "C = [[9,6,3],[4,7,11]]\n",
        "pd.DataFrame(C)\n",
        "\n",
        "D = [[1,0,0],[0,1,0],[0,0,1]]\n",
        "pd.DataFrame(D)\n",
        "\n",
        "E = [[1,3],[5,7]]\n",
        "pd.DataFrame(E)"
      ],
      "execution_count": 87,
      "outputs": [
        {
          "output_type": "execute_result",
          "data": {
            "text/html": [
              "<div>\n",
              "<style scoped>\n",
              "    .dataframe tbody tr th:only-of-type {\n",
              "        vertical-align: middle;\n",
              "    }\n",
              "\n",
              "    .dataframe tbody tr th {\n",
              "        vertical-align: top;\n",
              "    }\n",
              "\n",
              "    .dataframe thead th {\n",
              "        text-align: right;\n",
              "    }\n",
              "</style>\n",
              "<table border=\"1\" class=\"dataframe\">\n",
              "  <thead>\n",
              "    <tr style=\"text-align: right;\">\n",
              "      <th></th>\n",
              "      <th>0</th>\n",
              "      <th>1</th>\n",
              "    </tr>\n",
              "  </thead>\n",
              "  <tbody>\n",
              "    <tr>\n",
              "      <th>0</th>\n",
              "      <td>1</td>\n",
              "      <td>3</td>\n",
              "    </tr>\n",
              "    <tr>\n",
              "      <th>1</th>\n",
              "      <td>5</td>\n",
              "      <td>7</td>\n",
              "    </tr>\n",
              "  </tbody>\n",
              "</table>\n",
              "</div>"
            ],
            "text/plain": [
              "   0  1\n",
              "0  1  3\n",
              "1  5  7"
            ]
          },
          "metadata": {
            "tags": []
          },
          "execution_count": 87
        }
      ]
    },
    {
      "cell_type": "code",
      "metadata": {
        "id": "hDqFxoVdrOLr",
        "colab_type": "code",
        "colab": {
          "base_uri": "https://localhost:8080/",
          "height": 52
        },
        "outputId": "030d304a-f889-49e8-f0fd-d82a98195e98"
      },
      "source": [
        "np.matmul(C,D)\n",
        "# the new matrix is 2x3\n",
        "# the new dimensions match matrix C"
      ],
      "execution_count": 88,
      "outputs": [
        {
          "output_type": "execute_result",
          "data": {
            "text/plain": [
              "array([[ 9,  6,  3],\n",
              "       [ 4,  7, 11]])"
            ]
          },
          "metadata": {
            "tags": []
          },
          "execution_count": 88
        }
      ]
    },
    {
      "cell_type": "code",
      "metadata": {
        "id": "Y6mHej68rToV",
        "colab_type": "code",
        "colab": {
          "base_uri": "https://localhost:8080/",
          "height": 70
        },
        "outputId": "7b1c9bb2-253e-421c-da3b-a0d16c5b161f"
      },
      "source": [
        "np.matmul(A,E)\n",
        "# the new matric is 3x2\n",
        "# the new dimensions match matrix A"
      ],
      "execution_count": 89,
      "outputs": [
        {
          "output_type": "execute_result",
          "data": {
            "text/plain": [
              "array([[11, 17],\n",
              "       [23, 37],\n",
              "       [35, 57]])"
            ]
          },
          "metadata": {
            "tags": []
          },
          "execution_count": 89
        }
      ]
    },
    {
      "cell_type": "code",
      "metadata": {
        "id": "IV8WMkGRrT1-",
        "colab_type": "code",
        "colab": {
          "base_uri": "https://localhost:8080/",
          "height": 34
        },
        "outputId": "fa806150-6fa2-456a-d7f3-1a2edbd96124"
      },
      "source": [
        "np.matmul(B,A)\n",
        "# the new matrix is 1x2\n",
        "# the new dimensions match matrix B's rows and matrix A's columns"
      ],
      "execution_count": 90,
      "outputs": [
        {
          "output_type": "execute_result",
          "data": {
            "text/plain": [
              "array([44, 56])"
            ]
          },
          "metadata": {
            "tags": []
          },
          "execution_count": 90
        }
      ]
    },
    {
      "cell_type": "markdown",
      "metadata": {
        "id": "p2jmaGLgoFPN",
        "colab_type": "text"
      },
      "source": [
        "## 2.3  Find $F^{T}$. How are the numbers along the main diagonal (top left to bottom right) of the original matrix and its transpose related? What are the dimensions of $F$? What are the dimensions of $F^{T}$?\n",
        "\n",
        "\\begin{align}\n",
        "F = \n",
        "\\begin{bmatrix}\n",
        "20 & 19 & 18 & 17 \\\\\n",
        "16 & 15 & 14 & 13 \\\\\n",
        "12 & 11 & 10 & 9 \\\\\n",
        "8 & 7 & 6 & 5 \\\\\n",
        "4 & 3 & 2 & 1\n",
        "\\end{bmatrix}\n",
        "\\end{align}"
      ]
    },
    {
      "cell_type": "code",
      "metadata": {
        "id": "Wl3ElwgLqaAn",
        "colab_type": "code",
        "colab": {}
      },
      "source": [
        "F = np.array([[20,19,18,17],\n",
        "     [16,15,14,13],\n",
        "     [12,11,10,9],\n",
        "     [8,7,6,5],\n",
        "     [4,3,2,1]])"
      ],
      "execution_count": 0,
      "outputs": []
    },
    {
      "cell_type": "code",
      "metadata": {
        "id": "KEkmjLUQvxH2",
        "colab_type": "code",
        "colab": {
          "base_uri": "https://localhost:8080/",
          "height": 87
        },
        "outputId": "3ba59e01-c234-4d1d-e346-8a9f0a97336c"
      },
      "source": [
        "F.T\n",
        "# the numbers have maintained their numerical order, however read down and to the right\n",
        "# instead of to the right and then down like in the original dataset\n",
        "# the dimensions of the transposed dataset is now 4x5"
      ],
      "execution_count": 94,
      "outputs": [
        {
          "output_type": "execute_result",
          "data": {
            "text/plain": [
              "array([[20, 16, 12,  8,  4],\n",
              "       [19, 15, 11,  7,  3],\n",
              "       [18, 14, 10,  6,  2],\n",
              "       [17, 13,  9,  5,  1]])"
            ]
          },
          "metadata": {
            "tags": []
          },
          "execution_count": 94
        }
      ]
    },
    {
      "cell_type": "markdown",
      "metadata": {
        "id": "13ik2LEEZLHn",
        "colab_type": "text"
      },
      "source": [
        "# Part 3 - Square Matrices"
      ]
    },
    {
      "cell_type": "markdown",
      "metadata": {
        "id": "sDBAPUwfp7f7",
        "colab_type": "text"
      },
      "source": [
        "## 3.1 Find $IG$ (be sure to show your work) 😃\n",
        "\n",
        "You don't have to do anything crazy complicated here to show your work, just create the G matrix as specified below, and a corresponding 2x2 Identity matrix and then multiply them together to show the result. You don't need to write LaTeX or anything like that (unless you want to).\n",
        "\n",
        "\\begin{align}\n",
        "G= \n",
        "\\begin{bmatrix}\n",
        "13 & 14 \\\\\n",
        "21 & 12 \n",
        "\\end{bmatrix}\n",
        "\\end{align}"
      ]
    },
    {
      "cell_type": "code",
      "metadata": {
        "id": "ZnqvZBOYqar3",
        "colab_type": "code",
        "colab": {
          "base_uri": "https://localhost:8080/",
          "height": 52
        },
        "outputId": "069b1df7-ea43-41d1-cdcc-6446e9ac8c6c"
      },
      "source": [
        "G = np.array([[13,14],\n",
        "              [21,12]])\n",
        "I = np.array([[1,0],\n",
        "              [0,1]])\n",
        "\n",
        "np.matmul(G,I)"
      ],
      "execution_count": 101,
      "outputs": [
        {
          "output_type": "execute_result",
          "data": {
            "text/plain": [
              "array([[13, 14],\n",
              "       [21, 12]])"
            ]
          },
          "metadata": {
            "tags": []
          },
          "execution_count": 101
        }
      ]
    },
    {
      "cell_type": "markdown",
      "metadata": {
        "id": "DZ_0XTDQqpMT",
        "colab_type": "text"
      },
      "source": [
        "## 3.2 Find $|H|$ and then find $|J|$.\n",
        "\n",
        "\\begin{align}\n",
        "H= \n",
        "\\begin{bmatrix}\n",
        "12 & 11 \\\\\n",
        "7 & 10 \n",
        "\\end{bmatrix}\n",
        "\\qquad\n",
        "J= \n",
        "\\begin{bmatrix}\n",
        "0 & 1 & 2 \\\\\n",
        "7 & 10 & 4 \\\\\n",
        "3 & 2 & 0\n",
        "\\end{bmatrix}\n",
        "\\end{align}\n"
      ]
    },
    {
      "cell_type": "code",
      "metadata": {
        "id": "5QShhoXyrjDS",
        "colab_type": "code",
        "colab": {
          "base_uri": "https://localhost:8080/",
          "height": 34
        },
        "outputId": "88fc71e4-6595-4936-d10c-678687143cf9"
      },
      "source": [
        "h = (12*10)-(11*7)\n",
        "f'|H| equals {h}'"
      ],
      "execution_count": 104,
      "outputs": [
        {
          "output_type": "execute_result",
          "data": {
            "text/plain": [
              "'|H| equals 43'"
            ]
          },
          "metadata": {
            "tags": []
          },
          "execution_count": 104
        }
      ]
    },
    {
      "cell_type": "code",
      "metadata": {
        "id": "I50NLx__2oTq",
        "colab_type": "code",
        "colab": {
          "base_uri": "https://localhost:8080/",
          "height": 34
        },
        "outputId": "1e5f7ee3-3158-40b4-a885-0188f0a15ac8"
      },
      "source": [
        "H = np.array([[12,11],[7,10]])\n",
        "np.linalg.det(H)"
      ],
      "execution_count": 106,
      "outputs": [
        {
          "output_type": "execute_result",
          "data": {
            "text/plain": [
              "43.000000000000014"
            ]
          },
          "metadata": {
            "tags": []
          },
          "execution_count": 106
        }
      ]
    },
    {
      "cell_type": "code",
      "metadata": {
        "id": "mZQWCHbn2JyM",
        "colab_type": "code",
        "colab": {
          "base_uri": "https://localhost:8080/",
          "height": 34
        },
        "outputId": "963640f1-3396-47f1-e73e-260a1bc36ea8"
      },
      "source": [
        "J = np.array([[0,1,2],[7,10,4],[3,2,0]])\n",
        "np.linalg.det(J)"
      ],
      "execution_count": 105,
      "outputs": [
        {
          "output_type": "execute_result",
          "data": {
            "text/plain": [
              "-19.999999999999996"
            ]
          },
          "metadata": {
            "tags": []
          },
          "execution_count": 105
        }
      ]
    },
    {
      "cell_type": "markdown",
      "metadata": {
        "id": "2gZl1CFwrXSH",
        "colab_type": "text"
      },
      "source": [
        "## 3.3 Find $H^{-1}$ and then find $J^{-1}$"
      ]
    },
    {
      "cell_type": "code",
      "metadata": {
        "id": "nyX6De2-rio1",
        "colab_type": "code",
        "colab": {
          "base_uri": "https://localhost:8080/",
          "height": 107
        },
        "outputId": "f6bf2a5c-e8f4-44cc-c444-6d3f8b1293f6"
      },
      "source": [
        "H_inverse=np.linalg.inv(H)\n",
        "pd.DataFrame(H_inverse)"
      ],
      "execution_count": 107,
      "outputs": [
        {
          "output_type": "execute_result",
          "data": {
            "text/html": [
              "<div>\n",
              "<style scoped>\n",
              "    .dataframe tbody tr th:only-of-type {\n",
              "        vertical-align: middle;\n",
              "    }\n",
              "\n",
              "    .dataframe tbody tr th {\n",
              "        vertical-align: top;\n",
              "    }\n",
              "\n",
              "    .dataframe thead th {\n",
              "        text-align: right;\n",
              "    }\n",
              "</style>\n",
              "<table border=\"1\" class=\"dataframe\">\n",
              "  <thead>\n",
              "    <tr style=\"text-align: right;\">\n",
              "      <th></th>\n",
              "      <th>0</th>\n",
              "      <th>1</th>\n",
              "    </tr>\n",
              "  </thead>\n",
              "  <tbody>\n",
              "    <tr>\n",
              "      <th>0</th>\n",
              "      <td>0.232558</td>\n",
              "      <td>-0.255814</td>\n",
              "    </tr>\n",
              "    <tr>\n",
              "      <th>1</th>\n",
              "      <td>-0.162791</td>\n",
              "      <td>0.279070</td>\n",
              "    </tr>\n",
              "  </tbody>\n",
              "</table>\n",
              "</div>"
            ],
            "text/plain": [
              "          0         1\n",
              "0  0.232558 -0.255814\n",
              "1 -0.162791  0.279070"
            ]
          },
          "metadata": {
            "tags": []
          },
          "execution_count": 107
        }
      ]
    },
    {
      "cell_type": "code",
      "metadata": {
        "id": "IbcyYuyY3EuW",
        "colab_type": "code",
        "colab": {
          "base_uri": "https://localhost:8080/",
          "height": 137
        },
        "outputId": "59516607-a04b-4377-e5a9-2d9546a66021"
      },
      "source": [
        "J_inverse=np.linalg.inv(J)\n",
        "pd.DataFrame(J_inverse)"
      ],
      "execution_count": 109,
      "outputs": [
        {
          "output_type": "execute_result",
          "data": {
            "text/html": [
              "<div>\n",
              "<style scoped>\n",
              "    .dataframe tbody tr th:only-of-type {\n",
              "        vertical-align: middle;\n",
              "    }\n",
              "\n",
              "    .dataframe tbody tr th {\n",
              "        vertical-align: top;\n",
              "    }\n",
              "\n",
              "    .dataframe thead th {\n",
              "        text-align: right;\n",
              "    }\n",
              "</style>\n",
              "<table border=\"1\" class=\"dataframe\">\n",
              "  <thead>\n",
              "    <tr style=\"text-align: right;\">\n",
              "      <th></th>\n",
              "      <th>0</th>\n",
              "      <th>1</th>\n",
              "      <th>2</th>\n",
              "    </tr>\n",
              "  </thead>\n",
              "  <tbody>\n",
              "    <tr>\n",
              "      <th>0</th>\n",
              "      <td>0.4</td>\n",
              "      <td>-0.20</td>\n",
              "      <td>0.80</td>\n",
              "    </tr>\n",
              "    <tr>\n",
              "      <th>1</th>\n",
              "      <td>-0.6</td>\n",
              "      <td>0.30</td>\n",
              "      <td>-0.70</td>\n",
              "    </tr>\n",
              "    <tr>\n",
              "      <th>2</th>\n",
              "      <td>0.8</td>\n",
              "      <td>-0.15</td>\n",
              "      <td>0.35</td>\n",
              "    </tr>\n",
              "  </tbody>\n",
              "</table>\n",
              "</div>"
            ],
            "text/plain": [
              "     0     1     2\n",
              "0  0.4 -0.20  0.80\n",
              "1 -0.6  0.30 -0.70\n",
              "2  0.8 -0.15  0.35"
            ]
          },
          "metadata": {
            "tags": []
          },
          "execution_count": 109
        }
      ]
    },
    {
      "cell_type": "markdown",
      "metadata": {
        "id": "Vvd4Pe86rjhW",
        "colab_type": "text"
      },
      "source": [
        "## 3.4 Find $HH^{-1}$ and then find $J^{-1}J$. Is $HH^{-1} == J^{-1}J$? Why or Why not? \n",
        "\n",
        "Please ignore Python rounding errors. If necessary, format your output so that it rounds to 5 significant digits (the fifth decimal place)."
      ]
    },
    {
      "cell_type": "code",
      "metadata": {
        "id": "HUuw_GKn3b4w",
        "colab_type": "code",
        "colab": {
          "base_uri": "https://localhost:8080/",
          "height": 107
        },
        "outputId": "c19ecdc4-7757-44f1-eb2a-d4ebbed33882"
      },
      "source": [
        "H_inverse_H = np.matmul(H,H_inverse)\n",
        "pd.DataFrame(H_inverse_H)"
      ],
      "execution_count": 112,
      "outputs": [
        {
          "output_type": "execute_result",
          "data": {
            "text/html": [
              "<div>\n",
              "<style scoped>\n",
              "    .dataframe tbody tr th:only-of-type {\n",
              "        vertical-align: middle;\n",
              "    }\n",
              "\n",
              "    .dataframe tbody tr th {\n",
              "        vertical-align: top;\n",
              "    }\n",
              "\n",
              "    .dataframe thead th {\n",
              "        text-align: right;\n",
              "    }\n",
              "</style>\n",
              "<table border=\"1\" class=\"dataframe\">\n",
              "  <thead>\n",
              "    <tr style=\"text-align: right;\">\n",
              "      <th></th>\n",
              "      <th>0</th>\n",
              "      <th>1</th>\n",
              "    </tr>\n",
              "  </thead>\n",
              "  <tbody>\n",
              "    <tr>\n",
              "      <th>0</th>\n",
              "      <td>1.000000e+00</td>\n",
              "      <td>5.551115e-16</td>\n",
              "    </tr>\n",
              "    <tr>\n",
              "      <th>1</th>\n",
              "      <td>2.220446e-16</td>\n",
              "      <td>1.000000e+00</td>\n",
              "    </tr>\n",
              "  </tbody>\n",
              "</table>\n",
              "</div>"
            ],
            "text/plain": [
              "              0             1\n",
              "0  1.000000e+00  5.551115e-16\n",
              "1  2.220446e-16  1.000000e+00"
            ]
          },
          "metadata": {
            "tags": []
          },
          "execution_count": 112
        }
      ]
    },
    {
      "cell_type": "code",
      "metadata": {
        "id": "5R1yRvIM3s53",
        "colab_type": "code",
        "colab": {
          "base_uri": "https://localhost:8080/",
          "height": 70
        },
        "outputId": "ba10d59e-a4a6-4ee1-fcb1-73f23fbdd852"
      },
      "source": [
        "J_inverse*J\n",
        "### I was just testing this out"
      ],
      "execution_count": 111,
      "outputs": [
        {
          "output_type": "execute_result",
          "data": {
            "text/plain": [
              "array([[ 0. , -0.2,  1.6],\n",
              "       [-4.2,  3. , -2.8],\n",
              "       [ 2.4, -0.3,  0. ]])"
            ]
          },
          "metadata": {
            "tags": []
          },
          "execution_count": 111
        }
      ]
    },
    {
      "cell_type": "code",
      "metadata": {
        "id": "AWPmsNA04Uo4",
        "colab_type": "code",
        "colab": {
          "base_uri": "https://localhost:8080/",
          "height": 137
        },
        "outputId": "2fef8ed2-4d59-4931-e7b4-75c036019ce6"
      },
      "source": [
        "J_J_inverse = np.matmul(J_inverse,J)\n",
        "pd.DataFrame(J_J_inverse)"
      ],
      "execution_count": 113,
      "outputs": [
        {
          "output_type": "execute_result",
          "data": {
            "text/html": [
              "<div>\n",
              "<style scoped>\n",
              "    .dataframe tbody tr th:only-of-type {\n",
              "        vertical-align: middle;\n",
              "    }\n",
              "\n",
              "    .dataframe tbody tr th {\n",
              "        vertical-align: top;\n",
              "    }\n",
              "\n",
              "    .dataframe thead th {\n",
              "        text-align: right;\n",
              "    }\n",
              "</style>\n",
              "<table border=\"1\" class=\"dataframe\">\n",
              "  <thead>\n",
              "    <tr style=\"text-align: right;\">\n",
              "      <th></th>\n",
              "      <th>0</th>\n",
              "      <th>1</th>\n",
              "      <th>2</th>\n",
              "    </tr>\n",
              "  </thead>\n",
              "  <tbody>\n",
              "    <tr>\n",
              "      <th>0</th>\n",
              "      <td>1.000000e+00</td>\n",
              "      <td>2.220446e-16</td>\n",
              "      <td>0.0</td>\n",
              "    </tr>\n",
              "    <tr>\n",
              "      <th>1</th>\n",
              "      <td>-1.110223e-16</td>\n",
              "      <td>1.000000e+00</td>\n",
              "      <td>0.0</td>\n",
              "    </tr>\n",
              "    <tr>\n",
              "      <th>2</th>\n",
              "      <td>-1.665335e-16</td>\n",
              "      <td>-1.110223e-16</td>\n",
              "      <td>1.0</td>\n",
              "    </tr>\n",
              "  </tbody>\n",
              "</table>\n",
              "</div>"
            ],
            "text/plain": [
              "              0             1    2\n",
              "0  1.000000e+00  2.220446e-16  0.0\n",
              "1 -1.110223e-16  1.000000e+00  0.0\n",
              "2 -1.665335e-16 -1.110223e-16  1.0"
            ]
          },
          "metadata": {
            "tags": []
          },
          "execution_count": 113
        }
      ]
    },
    {
      "cell_type": "code",
      "metadata": {
        "id": "uF9kEM2q4nmP",
        "colab_type": "code",
        "colab": {
          "base_uri": "https://localhost:8080/",
          "height": 90
        },
        "outputId": "e4bf56af-2c5a-4277-a76e-bac0e4318f5e"
      },
      "source": [
        "H_inverse_H == J_J_inverse\n",
        "\n",
        "### they do not equal each other per the output"
      ],
      "execution_count": 114,
      "outputs": [
        {
          "output_type": "stream",
          "text": [
            "/usr/local/lib/python3.6/dist-packages/ipykernel_launcher.py:1: DeprecationWarning: elementwise comparison failed; this will raise an error in the future.\n",
            "  \"\"\"Entry point for launching an IPython kernel.\n"
          ],
          "name": "stderr"
        },
        {
          "output_type": "execute_result",
          "data": {
            "text/plain": [
              "False"
            ]
          },
          "metadata": {
            "tags": []
          },
          "execution_count": 114
        }
      ]
    },
    {
      "cell_type": "markdown",
      "metadata": {
        "id": "V0iTO4McYjtk",
        "colab_type": "text"
      },
      "source": [
        "# Stretch Goals: \n",
        "\n",
        "A reminder that these challenges are optional. If you finish your work quickly we welcome you to work on them. If there are other activities that you feel like will help your understanding of the above topics more, feel free to work on that. Topics from the Stretch Goals sections will never end up on Sprint Challenges. You don't have to do these in order, you don't have to do all of them. \n",
        "\n",
        "- Write a function that can calculate the dot product of any two vectors of equal length that are passed to it.\n",
        "- Write a function that can calculate the norm of any vector\n",
        "- Prove to yourself again that the vectors in 1.9 are orthogonal by graphing them. \n",
        "- Research how to plot a 3d graph with animations so that you can make the graph rotate (this will be easier in a local notebook than in google colab)\n",
        "- Create and plot a matrix on a 2d graph.\n",
        "- Create and plot a matrix on a 3d graph.\n",
        "- Plot two vectors that are not collinear on a 2d graph. Calculate the determinant of the 2x2 matrix that these vectors form. How does this determinant relate to the graphical interpretation of the vectors?\n",
        "\n"
      ]
    }
  ]
}