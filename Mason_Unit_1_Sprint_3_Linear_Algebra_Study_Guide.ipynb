{
  "nbformat": 4,
  "nbformat_minor": 0,
  "metadata": {
    "colab": {
      "name": "Mason Unit 1 Sprint 3 - Linear Algebra - Study Guide.ipynb",
      "provenance": [],
      "collapsed_sections": [
        "IjAwwT2BdFW_",
        "WhCRNGcIpqLA",
        "0tGpkbE4tmc0",
        "IY34EYXT4UF6"
      ],
      "include_colab_link": true
    },
    "kernelspec": {
      "name": "python3",
      "display_name": "Python 3"
    }
  },
  "cells": [
    {
      "cell_type": "markdown",
      "metadata": {
        "id": "view-in-github",
        "colab_type": "text"
      },
      "source": [
        "<a href=\"https://colab.research.google.com/github/masonnystrom/DS-Unit-1-Sprint-3-Linear-Algebra/blob/master/Mason_Unit_1_Sprint_3_Linear_Algebra_Study_Guide.ipynb\" target=\"_parent\"><img src=\"https://colab.research.google.com/assets/colab-badge.svg\" alt=\"Open In Colab\"/></a>"
      ]
    },
    {
      "cell_type": "markdown",
      "metadata": {
        "id": "cMiprvKNZHSH",
        "colab_type": "text"
      },
      "source": [
        "This study guide should reinforce and provide practice for all of the concepts you have seen in the past week. There are a mix of written questions and coding exercises, both are equally important to prepare you for the sprint challenge as well as to be able to speak on these topics comfortably in interviews and on the job.\n",
        "\n",
        "If you get stuck or are unsure of something remember the 20 minute rule. If that doesn't help, then research a solution with google and stackoverflow. Only once you have exausted these methods should you turn to your Team Lead - they won't be there on your SC or during an interview. That being said, don't hesitate to ask for help if you truly are stuck.\n",
        "\n",
        "Have fun studying!"
      ]
    },
    {
      "cell_type": "markdown",
      "metadata": {
        "id": "n9p56FSWj2Kc",
        "colab_type": "text"
      },
      "source": [
        "#Resources\n",
        "[Numpy Linear Algebra Documentation](https://docs.scipy.org/doc/numpy-1.15.1/reference/routines.linalg.html)\n",
        "\n",
        "[LaTex Cheat Sheet](https://wch.github.io/latexsheet/latexsheet.pdf)"
      ]
    },
    {
      "cell_type": "code",
      "metadata": {
        "id": "-e2sdAAUQ2dS",
        "colab_type": "code",
        "colab": {}
      },
      "source": [
        "import pandas as pd\n",
        "import numpy as np\n",
        "import matplotlib.pyplot as plt\n",
        "from sklearn.preprocessing import StandardScaler\n",
        "from sklearn.decomposition import PCA"
      ],
      "execution_count": 0,
      "outputs": []
    },
    {
      "cell_type": "markdown",
      "metadata": {
        "id": "VIoGpwj1SMP6",
        "colab_type": "text"
      },
      "source": [
        "# Vectors"
      ]
    },
    {
      "cell_type": "markdown",
      "metadata": {
        "id": "rCOmnIrFSRMz",
        "colab_type": "text"
      },
      "source": [
        "Define the following terms in your own words, do not simply copy and paste a definition found elsewhere but reword it to be understandable and memorable to you. *Double click the markdown to add your definitions*\n",
        "\n",
        "**Vector:** `A vector can be anything, but in linear algebra is typically refered to as an arrow in gridspace and denominated as a list of n elements`\n",
        "\n",
        "**Scalar:** `A scalar is a number that represents how a vector moves about the axes.`\n",
        "\n",
        "**Norm:** `The norm is the square root of the sum of the squared elements of a vector\n",
        "\n",
        "**Dot Product:** `matrix multiplicaiton`\n",
        "\n",
        "**Cross Product:** `The cross product of a and b in R^3 is a vector perpendicular to both a and b.`\n",
        "\n",
        "**Unit Vector:** `Your Answer Here`\n",
        "\n",
        "**Span:** `Your Answer Here`\n",
        "\n",
        "**Basis:** `To form a basis means that a set of vectors are linearly independent from one another.`"
      ]
    },
    {
      "cell_type": "markdown",
      "metadata": {
        "id": "hjDK-ncUVQDQ",
        "colab_type": "text"
      },
      "source": [
        "Use the following vectors to answer the questions below.\n",
        "\\begin{align}\n",
        "\\vec{a} = \\begin{bmatrix} 3 \\\\ 2 \\end{bmatrix}\n",
        "\\vec{b} = \\begin{bmatrix} 4 \\\\ -6 \\end{bmatrix}\n",
        "\\vec{c} = \\begin{bmatrix} 6 \\\\ 4 \\end{bmatrix}\n",
        "\\end{align}"
      ]
    },
    {
      "cell_type": "markdown",
      "metadata": {
        "id": "gu2qRyRbYYMr",
        "colab_type": "text"
      },
      "source": [
        "Graph all three vectors.\n",
        "- Make sure to color each vector for visual clarity\n",
        "- Label your x and y axis and title the graph (this should be habit any time you graph)"
      ]
    },
    {
      "cell_type": "code",
      "metadata": {
        "id": "wSt1H2N4YjT6",
        "colab_type": "code",
        "outputId": "3bc0000d-7f6e-48fa-9541-202674f18a72",
        "colab": {
          "base_uri": "https://localhost:8080/",
          "height": 295
        }
      },
      "source": [
        "a = np.array([3, 2])\n",
        "b = np.array([4, -6])\n",
        "c = np.array([6, 4])\n",
        "\n",
        "\n",
        "plt.arrow(0, 0, a[0], a[1], head_width=0.5, head_length=0.5, color='red')\n",
        "plt.arrow(0, 0, b[0], b[1], head_width=0.5, head_length=0.5, color='cyan')\n",
        "plt.arrow(0, 0, c[0], c[1], head_width=0.5, head_length=0.5, color='green')\n",
        "\n",
        "plt.ylim(-8,10)\n",
        "plt.xlim(-1,10)\n",
        "\n",
        "plt.xlabel('vector length')\n",
        "plt.ylabel('vector height')\n",
        "plt.title('Vecotrs a, b, c graphed')\n",
        "plt.show()"
      ],
      "execution_count": 54,
      "outputs": [
        {
          "output_type": "display_data",
          "data": {
            "image/png": "[encoded data removed]",
            "text/plain": [
              "<Figure size 432x288 with 1 Axes>"
            ]
          },
          "metadata": {
            "tags": []
          }
        }
      ]
    },
    {
      "cell_type": "markdown",
      "metadata": {
        "id": "OSSWRNNpYkCa",
        "colab_type": "text"
      },
      "source": [
        "Find: \n",
        "- $\\vec{a} \\cdot \\vec{b}$\n",
        "- $\\vec{a} \\cdot \\vec{c}$\n",
        "- $\\vec{b} \\cdot \\vec{c}$ "
      ]
    },
    {
      "cell_type": "code",
      "metadata": {
        "id": "jp8rffcoZHaU",
        "colab_type": "code",
        "outputId": "e5cceacc-e5a2-4eff-e8a6-90a353874ff0",
        "colab": {
          "base_uri": "https://localhost:8080/",
          "height": 68
        }
      },
      "source": [
        "print(np.dot(a,b))\n",
        "print(np.dot(a,c))\n",
        "print(np.dot(b,c))\n",
        "# makes sense because perpandicular should be 0 "
      ],
      "execution_count": 102,
      "outputs": [
        {
          "output_type": "stream",
          "text": [
            "0\n",
            "26\n",
            "0\n"
          ],
          "name": "stdout"
        }
      ]
    },
    {
      "cell_type": "markdown",
      "metadata": {
        "id": "-DiheNfjZMgP",
        "colab_type": "text"
      },
      "source": [
        "Find:\n",
        "- $\\vec{a} \\times \\vec{b}$\n",
        "- $\\vec{a} \\times \\vec{c}$\n",
        "- $\\vec{b} \\times \\vec{c}$"
      ]
    },
    {
      "cell_type": "code",
      "metadata": {
        "id": "njBBAAZSZ_gm",
        "colab_type": "code",
        "outputId": "5734f014-cdc1-440b-9a33-dc76b61689e8",
        "colab": {
          "base_uri": "https://localhost:8080/",
          "height": 68
        }
      },
      "source": [
        "print(np.cross(a,b))\n",
        "print(np.cross(a,c))\n",
        "print(np.cross(b,c))"
      ],
      "execution_count": 103,
      "outputs": [
        {
          "output_type": "stream",
          "text": [
            "-26\n",
            "0\n",
            "52\n"
          ],
          "name": "stdout"
        }
      ]
    },
    {
      "cell_type": "markdown",
      "metadata": {
        "id": "eZf7MrzBaE99",
        "colab_type": "text"
      },
      "source": [
        "Find:\n",
        "- $||\\vec{a}||$\n",
        "- $||\\vec{b}||$\n",
        "- $||\\vec{c}||$"
      ]
    },
    {
      "cell_type": "code",
      "metadata": {
        "id": "To2NOc0naYtS",
        "colab_type": "code",
        "outputId": "1b2eed5f-6b5c-416d-d08d-9967d81c0359",
        "colab": {
          "base_uri": "https://localhost:8080/",
          "height": 68
        }
      },
      "source": [
        "# find the norm , Det is one set of parallel lines\n",
        "print(np.linalg.norm(a))\n",
        "print(np.linalg.norm(b))\n",
        "print(np.linalg.norm(c))"
      ],
      "execution_count": 57,
      "outputs": [
        {
          "output_type": "stream",
          "text": [
            "3.605551275463989\n",
            "7.211102550927978\n",
            "7.211102550927978\n"
          ],
          "name": "stdout"
        }
      ]
    },
    {
      "cell_type": "code",
      "metadata": {
        "id": "QbgpwktWuKOH",
        "colab_type": "code",
        "colab": {
          "base_uri": "https://localhost:8080/",
          "height": 34
        },
        "outputId": "b03f42c7-e6fc-4602-dee1-54330eaade23"
      },
      "source": [
        "# turn vector B into a unit vector\n",
        "\n",
        "def unitvector(array):\n",
        "  return(np.linalg.norm(array) / array)\n",
        "\n",
        "unitvector(b)"
      ],
      "execution_count": 58,
      "outputs": [
        {
          "output_type": "execute_result",
          "data": {
            "text/plain": [
              "array([ 1.80277564, -1.20185043])"
            ]
          },
          "metadata": {
            "tags": []
          },
          "execution_count": 58
        }
      ]
    },
    {
      "cell_type": "markdown",
      "metadata": {
        "id": "9spMDpj-agVq",
        "colab_type": "text"
      },
      "source": [
        "Using the vectors and calculations above, answer the following questions.\n",
        "\n",
        "1. What vectors are orthogonal to each other? How do we know that? `Vectors a and c are both perpandicular/orthogonal to vector b becuase the dot products are zero.`\n",
        "\n",
        "2. What is the longest vector? How do we know that? `the longest vector's are b and c which have equal norms`\n",
        "\n",
        "3. Which vectors are linearly independent? How do we know that? `Vectors a and c are linearly dependent because they fall on the same line just at different scales. Vector b is linearly indpenedent`\n",
        "\n",
        "4. Which vector is formed from multiplying one of the other vectors by a scalar of 2? `Vector C is formed by multiplying vector a by a scalar of 2`"
      ]
    },
    {
      "cell_type": "markdown",
      "metadata": {
        "id": "-ucqMCJWdr71",
        "colab_type": "text"
      },
      "source": [
        "Using $\\vec{a}$, transform it into a unit vector."
      ]
    },
    {
      "cell_type": "code",
      "metadata": {
        "id": "cahmWZZBdrTW",
        "colab_type": "code",
        "colab": {
          "base_uri": "https://localhost:8080/",
          "height": 34
        },
        "outputId": "ee641f48-28a3-4c54-c420-c300511c6c85"
      },
      "source": [
        "a.T"
      ],
      "execution_count": 59,
      "outputs": [
        {
          "output_type": "execute_result",
          "data": {
            "text/plain": [
              "array([3, 2])"
            ]
          },
          "metadata": {
            "tags": []
          },
          "execution_count": 59
        }
      ]
    },
    {
      "cell_type": "markdown",
      "metadata": {
        "id": "Ym8IlKh-eCE8",
        "colab_type": "text"
      },
      "source": [
        "Using $\\vec{a}$ and LaTex, describe $\\vec{a}$ as a linear combination of scalars and unit vectors.\n",
        "\n",
        "*Double click the markdown and add your answer here.*"
      ]
    },
    {
      "cell_type": "markdown",
      "metadata": {
        "id": "IjAwwT2BdFW_",
        "colab_type": "text"
      },
      "source": [
        "# Matrices"
      ]
    },
    {
      "cell_type": "markdown",
      "metadata": {
        "id": "uxZVgAHde3I1",
        "colab_type": "text"
      },
      "source": [
        "Define the following terms in your own words, do not simply copy and paste a definition found elsewhere but reword it to be understandable and memorable to you. *Double click the markdown to add your definitions*\n",
        "\n",
        "**Matrix:** `a matrix is a grid of n elements arranged in rows and columns.`\n",
        "\n",
        "**Dimensionality:** `The number of rows and columns`\n",
        "\n",
        "**Transpose:** `The process in which the rows and columsn of the orignal matrix switch. So a 2x3 matrix trasposed will become a 3x2`\n",
        "\n",
        "**Determinant:** `The scalar value that can be computed from the elements of a square matrix`\n",
        "\n",
        "**Inverse:** `The direct and exact oppositve. -1 is the inverse of 1`\n",
        "\n",
        "**Rank:** `The number of linearly independent column vectors in the matrix`\n",
        "\n",
        "**Row-Echelon Form:** `Your Answer Here`\n",
        "\n",
        "**Identity Matrix:** `A diagonal matrix with ones on the main diagonal and zeroes everywhere else`"
      ]
    },
    {
      "cell_type": "markdown",
      "metadata": {
        "id": "d8-ZpD_pgnlV",
        "colab_type": "text"
      },
      "source": [
        "Use the matrices below to answer the following questions.\n",
        "\n",
        "\\begin{align}\n",
        "    A = \\begin{bmatrix}\n",
        "           1 & 4\\\\\n",
        "           2 & 5\\\\\n",
        "           3 & 6 \n",
        "    \\end{bmatrix} \n",
        "    \\\n",
        "    B = \\begin{bmatrix}\n",
        "           1 & 2 & 3\\\\\n",
        "           4 & 5 & 6\n",
        "    \\end{bmatrix}\n",
        "    \\\n",
        "    C = \\begin{bmatrix}\n",
        "           1 & 2 & 3 & 4\\\\\n",
        "           5 & 3 & 7 & 9\\\\\n",
        "           3 & 7 & 7 & 7\\\\\n",
        "           2 & 4 & 6 & 8\\\\\n",
        "    \\end{bmatrix}\n",
        "\\end{align}"
      ]
    },
    {
      "cell_type": "markdown",
      "metadata": {
        "id": "dgYc01JrjKbb",
        "colab_type": "text"
      },
      "source": [
        "What are the dimensions of each matrix?\n",
        "- $A$: `3x2`\n",
        "- $B$: `2x3`\n",
        "- $C$: `4x4`"
      ]
    },
    {
      "cell_type": "markdown",
      "metadata": {
        "id": "Up5bJzfBjqev",
        "colab_type": "text"
      },
      "source": [
        "Do matrix multiplication with all valid combinations of $A$, $B$, and $C$.\n",
        "- Are there any combinations that cannot be multiplied? Why? `If the column of the first and the row of the second match, you can multiply them`"
      ]
    },
    {
      "cell_type": "code",
      "metadata": {
        "id": "68diJCtxi6tr",
        "colab_type": "code",
        "colab": {
          "base_uri": "https://localhost:8080/",
          "height": 170
        },
        "outputId": "0d610d7f-0f66-4977-93e9-e3a31cfa62a3"
      },
      "source": [
        "# Matrix Multiplication Here\n",
        "# A and B can be multiplied\n",
        "A = np.array([[1,4], [2,5], [3,6]])\n",
        "B = np.array([[1,2,3], [4,5,6]])\n",
        "C = np.array([[1,2,3,4], [5,3,7,9],[3,7,7,7],[2,4,6,8]])\n",
        "print(A)\n",
        "print(B)\n",
        "print(C)"
      ],
      "execution_count": 100,
      "outputs": [
        {
          "output_type": "stream",
          "text": [
            "[[1 4]\n",
            " [2 5]\n",
            " [3 6]]\n",
            "[[1 2 3]\n",
            " [4 5 6]]\n",
            "[[1 2 3 4]\n",
            " [5 3 7 9]\n",
            " [3 7 7 7]\n",
            " [2 4 6 8]]\n"
          ],
          "name": "stdout"
        }
      ]
    },
    {
      "cell_type": "code",
      "metadata": {
        "id": "WFnusTRL4QQ9",
        "colab_type": "code",
        "colab": {
          "base_uri": "https://localhost:8080/",
          "height": 68
        },
        "outputId": "e5a45608-d9ab-41ba-a13e-e81115142a9b"
      },
      "source": [
        "np.dot(A,B)"
      ],
      "execution_count": 101,
      "outputs": [
        {
          "output_type": "execute_result",
          "data": {
            "text/plain": [
              "array([[17, 22, 27],\n",
              "       [22, 29, 36],\n",
              "       [27, 36, 45]])"
            ]
          },
          "metadata": {
            "tags": []
          },
          "execution_count": 101
        }
      ]
    },
    {
      "cell_type": "markdown",
      "metadata": {
        "id": "VH3NjopzkSLN",
        "colab_type": "text"
      },
      "source": [
        "Find $T$ of each matrix."
      ]
    },
    {
      "cell_type": "code",
      "metadata": {
        "id": "NHFQFTc8knh9",
        "colab_type": "code",
        "colab": {
          "base_uri": "https://localhost:8080/",
          "height": 170
        },
        "outputId": "8a992fe0-2a5c-4ffc-8789-efb86e18720d"
      },
      "source": [
        "print(A.T)\n",
        "print(B.T)\n",
        "print(C.T)"
      ],
      "execution_count": 63,
      "outputs": [
        {
          "output_type": "stream",
          "text": [
            "[[1 2 3]\n",
            " [4 5 6]]\n",
            "[[1 4]\n",
            " [2 5]\n",
            " [3 6]]\n",
            "[[1 5 3 2]\n",
            " [2 3 7 4]\n",
            " [3 7 7 6]\n",
            " [4 9 7 8]]\n"
          ],
          "name": "stdout"
        }
      ]
    },
    {
      "cell_type": "markdown",
      "metadata": {
        "id": "B994bkDCl5QP",
        "colab_type": "text"
      },
      "source": [
        "Find the determinant of $C$"
      ]
    },
    {
      "cell_type": "code",
      "metadata": {
        "id": "pBbJHNbKm-gT",
        "colab_type": "code",
        "colab": {
          "base_uri": "https://localhost:8080/",
          "height": 34
        },
        "outputId": "fbcbe309-c2f4-4a35-ddcf-0e77024b7396"
      },
      "source": [
        "np.linalg.det(C)"
      ],
      "execution_count": 64,
      "outputs": [
        {
          "output_type": "execute_result",
          "data": {
            "text/plain": [
              "0.0"
            ]
          },
          "metadata": {
            "tags": []
          },
          "execution_count": 64
        }
      ]
    },
    {
      "cell_type": "markdown",
      "metadata": {
        "id": "8QGB1NO-nAWZ",
        "colab_type": "text"
      },
      "source": [
        "What causes a determinant of 0?\n",
        "\n",
        "`When the determinant of a matrix is zero, its rows are linearly dependent vectors, and its columns are linearly dependent vectors. Additionally, the matrix is not invertable.`"
      ]
    },
    {
      "cell_type": "markdown",
      "metadata": {
        "id": "PtJC8u8BnJLM",
        "colab_type": "text"
      },
      "source": [
        "Find the rank of $C$ (You may use a function to save time)"
      ]
    },
    {
      "cell_type": "code",
      "metadata": {
        "id": "SREkl6pQnf4Q",
        "colab_type": "code",
        "colab": {
          "base_uri": "https://localhost:8080/",
          "height": 34
        },
        "outputId": "1880323e-5ec6-42ff-b72f-d630ca17138a"
      },
      "source": [
        "np.linalg.matrix_rank(C)"
      ],
      "execution_count": 65,
      "outputs": [
        {
          "output_type": "execute_result",
          "data": {
            "text/plain": [
              "3"
            ]
          },
          "metadata": {
            "tags": []
          },
          "execution_count": 65
        }
      ]
    },
    {
      "cell_type": "code",
      "metadata": {
        "id": "yz_B82V7I-F_",
        "colab_type": "code",
        "colab": {}
      },
      "source": [
        "# X \n",
        "np.cross()"
      ],
      "execution_count": 0,
      "outputs": []
    },
    {
      "cell_type": "markdown",
      "metadata": {
        "id": "md8KrAfsninY",
        "colab_type": "text"
      },
      "source": [
        "What is Gaussian Elimination? What are the three row operations you can perform?\n",
        "\n",
        "`Guassian Elimination is a way to reduce the number of rows by filtering out linearly dependent rows. The three operations include: 1) Swaping the positions of two rows 2)Multiply a row by a non-zero scalar and 3)Adding a scalar multiple of one row to another row.`"
      ]
    },
    {
      "cell_type": "markdown",
      "metadata": {
        "id": "oG0K72c3n2iA",
        "colab_type": "text"
      },
      "source": [
        "Given:\n",
        "\\begin{align}\n",
        "    D = \\begin{bmatrix}\n",
        "           1 & 3\\\\\n",
        "           2 & 5\\\n",
        "    \\end{bmatrix} \n",
        "\\end{align}\n",
        "\n",
        "Find $D^{-1}$"
      ]
    },
    {
      "cell_type": "code",
      "metadata": {
        "id": "TRPxeKy0oI7y",
        "colab_type": "code",
        "colab": {
          "base_uri": "https://localhost:8080/",
          "height": 51
        },
        "outputId": "dde640da-67ad-47f8-ba8b-2e79e63d45bc"
      },
      "source": [
        "# inverse\n",
        "D = np.array([[1,3], [2,5]])\n",
        "Dinv = np.linalg.inv(D)\n",
        "print(Dinv)"
      ],
      "execution_count": 66,
      "outputs": [
        {
          "output_type": "stream",
          "text": [
            "[[-5.  3.]\n",
            " [ 2. -1.]]\n"
          ],
          "name": "stdout"
        }
      ]
    },
    {
      "cell_type": "markdown",
      "metadata": {
        "id": "MCimmBAfpS-Q",
        "colab_type": "text"
      },
      "source": [
        "Find $D^{-1}D$. What is the name of the resulting matrix?"
      ]
    },
    {
      "cell_type": "code",
      "metadata": {
        "id": "pwainl_To_CM",
        "colab_type": "code",
        "colab": {
          "base_uri": "https://localhost:8080/",
          "height": 51
        },
        "outputId": "0d4656f7-5f53-44c3-b084-3cdf9aaa34ec"
      },
      "source": [
        "# identity matrix\n",
        "np.dot(D,Dinv)"
      ],
      "execution_count": 67,
      "outputs": [
        {
          "output_type": "execute_result",
          "data": {
            "text/plain": [
              "array([[1., 0.],\n",
              "       [0., 1.]])"
            ]
          },
          "metadata": {
            "tags": []
          },
          "execution_count": 67
        }
      ]
    },
    {
      "cell_type": "markdown",
      "metadata": {
        "id": "WhCRNGcIpqLA",
        "colab_type": "text"
      },
      "source": [
        "# Statistics"
      ]
    },
    {
      "cell_type": "markdown",
      "metadata": {
        "id": "C0YpgbY_puoV",
        "colab_type": "text"
      },
      "source": [
        "Define the following terms in your own words, do not simply copy and paste a definition found elsewhere but reword it to be understandable and memorable to you. *Double click the markdown to add your definitions*\n",
        "\n",
        "**Variance:** `The variance measures the spread of a random variables observed versus expected values. It is calculated as the average of the squares of the differences between the observed and expected values.`\n",
        "\n",
        "**Covariance:** `Covariance measures how changes in oe variable are associated or vary with changes in another variable. While covairance can help identify if a relationship exists, it cannot tell us the strength or positive/negative direction of the relationship.`\n",
        "\n",
        "**Correlation Coefficient:** `The correlatin coefficient calculates the strength and directionality of the relationship between the relative movements of two variables. The range varies from -1 to 1 which both equal perfect correlation while 0 is equal to no correlation. `"
      ]
    },
    {
      "cell_type": "markdown",
      "metadata": {
        "id": "exHY2ZyRqooH",
        "colab_type": "text"
      },
      "source": [
        "Given the data below, answer the following questions.\n",
        "```\n",
        "tweetle_beatles = [100, 657, 42, 1001, 501]\n",
        "\n",
        "puddle_battles = [5, 0, 3, 10, 7]\n",
        "```"
      ]
    },
    {
      "cell_type": "code",
      "metadata": {
        "id": "NR84a0Mq0rDE",
        "colab_type": "code",
        "colab": {}
      },
      "source": [
        "tweetle_beatles = [100, 657, 42, 1001, 501]\n",
        " \n",
        "puddle_battles = [5, 0, 3, 10, 7]"
      ],
      "execution_count": 0,
      "outputs": []
    },
    {
      "cell_type": "markdown",
      "metadata": {
        "id": "WuvtpAq_sXkB",
        "colab_type": "text"
      },
      "source": [
        "Find the mean, variance, and standard deviation for `tweetle_beatles` and `puddle_battles`."
      ]
    },
    {
      "cell_type": "code",
      "metadata": {
        "id": "sjTmdaqSswr2",
        "colab_type": "code",
        "colab": {
          "base_uri": "https://localhost:8080/",
          "height": 136
        },
        "outputId": "ebd98199-e378-4dfd-d444-5f7fe35bcb8c"
      },
      "source": [
        "print(np.mean(tweetle_beatles))\n",
        "print(np.var(tweetle_beatles))\n",
        "print(np.std(tweetle_beatles, ddof=1))\n",
        "\n",
        "print('puddle_battles')\n",
        "print(np.mean(puddle_battles))\n",
        "print(np.var(puddle_battles))\n",
        "print(np.std(puddle_battles, ddof=1))"
      ],
      "execution_count": 69,
      "outputs": [
        {
          "output_type": "stream",
          "text": [
            "460.2\n",
            "127498.95999999999\n",
            "399.21635738030574\n",
            "puddle_battles\n",
            "5.0\n",
            "11.6\n",
            "3.8078865529319543\n"
          ],
          "name": "stdout"
        }
      ]
    },
    {
      "cell_type": "markdown",
      "metadata": {
        "id": "stBvJ8Lrs80J",
        "colab_type": "text"
      },
      "source": [
        "Find the variance-covariance matrix of `tweetle_beatles` and `puddle_battles`."
      ]
    },
    {
      "cell_type": "code",
      "metadata": {
        "id": "DwVOFOkEtFmv",
        "colab_type": "code",
        "colab": {
          "base_uri": "https://localhost:8080/",
          "height": 51
        },
        "outputId": "2dae2a5e-afdf-4977-8afc-9ae52b80ffdd"
      },
      "source": [
        "np.cov(tweetle_beatles, puddle_battles)"
      ],
      "execution_count": 70,
      "outputs": [
        {
          "output_type": "execute_result",
          "data": {
            "text/plain": [
              "array([[1.593737e+05, 6.595000e+02],\n",
              "       [6.595000e+02, 1.450000e+01]])"
            ]
          },
          "metadata": {
            "tags": []
          },
          "execution_count": 70
        }
      ]
    },
    {
      "cell_type": "markdown",
      "metadata": {
        "id": "bcg4CJa3tIB2",
        "colab_type": "text"
      },
      "source": [
        "Find the correlation coefficient of `tweetle_beatles` and `puddle_battles`."
      ]
    },
    {
      "cell_type": "code",
      "metadata": {
        "id": "RpmjphYOtU-r",
        "colab_type": "code",
        "colab": {
          "base_uri": "https://localhost:8080/",
          "height": 51
        },
        "outputId": "c570916b-5844-4083-cc75-01b9a23bb326"
      },
      "source": [
        "np.corrcoef(tweetle_beatles, puddle_battles)"
      ],
      "execution_count": 71,
      "outputs": [
        {
          "output_type": "execute_result",
          "data": {
            "text/plain": [
              "array([[1.        , 0.43383289],\n",
              "       [0.43383289, 1.        ]])"
            ]
          },
          "metadata": {
            "tags": []
          },
          "execution_count": 71
        }
      ]
    },
    {
      "cell_type": "markdown",
      "metadata": {
        "id": "6IfL4m6AtUUn",
        "colab_type": "text"
      },
      "source": [
        "Can we compare the variance of `tweetle_beatles` and `puddle_battles`? Why or why not?\n",
        "\n",
        "`Yes we can say they they are slighlty positively correlated`"
      ]
    },
    {
      "cell_type": "markdown",
      "metadata": {
        "id": "-QQRf5NWwiJU",
        "colab_type": "text"
      },
      "source": [
        "What is the relationship between Variance and Standard Deviation?\n",
        "\n",
        "`The standard deviation is the square root of the variance`"
      ]
    },
    {
      "cell_type": "markdown",
      "metadata": {
        "id": "0tGpkbE4tmc0",
        "colab_type": "text"
      },
      "source": [
        "# Dimensionality Reduction"
      ]
    },
    {
      "cell_type": "markdown",
      "metadata": {
        "id": "Qgfd6Ymctsh8",
        "colab_type": "text"
      },
      "source": [
        "Define the following terms in your own words, do not simply copy and paste a definition found elsewhere but reword it to be understandable and memorable to you. *Double click the markdown to add your definitions*\n",
        "\n",
        "**Projection:** `a projection is using one vector as the scalar for another vector.`\n",
        "\n",
        "**Principle Component Analysis:** `PCA is a procedure that takes a dataset(set of observations) of possibly correlated variables and uses a perpandicular transformation to return a set of linearly uncorrelated variables which are called the prinicple components. The first principle maintains the largest spread and each successive variable has a larger variance than the preceding variable. `\n",
        "\n",
        "**Eigenvalue:** `Eigenvalues are the paired values for the eigenvectors and represetn how the vector was scaled during a transformation.`\n",
        "\n",
        "**Eigenvector:** `Eigen vectors remain static and do not change orientation when any transformation of a vector occurs.`\n",
        "\n",
        "**Scree Plot:** `A scree plot is an analysis that returns the breakdown of additional significance that is given by a range of variables. So if you have 20 variables and only 5 makeup 99% of the significance, a scree plot will return a bar chart with those 5 variables and show the additional sinificance gained by each variable.`"
      ]
    },
    {
      "cell_type": "markdown",
      "metadata": {
        "id": "a557ulVkvPwu",
        "colab_type": "text"
      },
      "source": [
        "Line $L$ is formed by all vectors that can be created by scaling vector $v$. \n",
        "\\begin{align}\n",
        "\\vec{v} = \\begin{bmatrix} 1 \\\\ .5 \\end{bmatrix}\n",
        "\\vec{w} = \\begin{bmatrix} 2 \\\\ 2 \\end{bmatrix}\n",
        "\\end{align}\n",
        "Find $proj_{L}(\\vec{w})$"
      ]
    },
    {
      "cell_type": "code",
      "metadata": {
        "id": "9-j-V0levpSl",
        "colab_type": "code",
        "colab": {
          "base_uri": "https://localhost:8080/",
          "height": 34
        },
        "outputId": "3d7e41f0-3c09-456c-86e4-852907876172"
      },
      "source": [
        "V = np.array([1,.5])\n",
        "W = np.array([2,2])\n",
        "\n",
        "V_norm = np.sqrt(sum(V**2))\n",
        "V_norm"
      ],
      "execution_count": 72,
      "outputs": [
        {
          "output_type": "execute_result",
          "data": {
            "text/plain": [
              "1.118033988749895"
            ]
          },
          "metadata": {
            "tags": []
          },
          "execution_count": 72
        }
      ]
    },
    {
      "cell_type": "code",
      "metadata": {
        "id": "Zv9LnL5v7Dqm",
        "colab_type": "code",
        "colab": {
          "base_uri": "https://localhost:8080/",
          "height": 34
        },
        "outputId": "8b484f65-2fc4-4326-c121-3ae9b353ade1"
      },
      "source": [
        "# project W on V\n",
        "# (determinant/vector norm squared) * Vector\n",
        "L = (np.dot(W,V)/V_norm**2)*V\n",
        "L"
      ],
      "execution_count": 73,
      "outputs": [
        {
          "output_type": "execute_result",
          "data": {
            "text/plain": [
              "array([2.4, 1.2])"
            ]
          },
          "metadata": {
            "tags": []
          },
          "execution_count": 73
        }
      ]
    },
    {
      "cell_type": "markdown",
      "metadata": {
        "id": "MxZXfPQTwOtV",
        "colab_type": "text"
      },
      "source": [
        "Graph your projected vector to check your work"
      ]
    },
    {
      "cell_type": "code",
      "metadata": {
        "id": "5VyqpWDcwU8L",
        "colab_type": "code",
        "colab": {
          "base_uri": "https://localhost:8080/",
          "height": 295
        },
        "outputId": "3b4a08a5-3ac2-4045-8a0e-3e6fd31b73c4"
      },
      "source": [
        "plt.arrow(0, 0, V[0], V[1], head_width=.5, color='magenta')\n",
        "plt.arrow(0, 0, W[0], W[1], head_width=.5, color='cyan')\n",
        "plt.arrow(0, 0, L[0], L[1], head_width=.5, color='black')\n",
        "\n",
        "\n",
        "plt.xlim(-2,5)\n",
        "plt.ylim(-2,5)\n",
        "plt.xlabel('x')\n",
        "plt.ylabel('y')\n",
        "plt.title('Vectors V, W and L')\n",
        "#plt.legend((V, W, L), ('V', 'W', 'Projection'))\n",
        "plt.show()"
      ],
      "execution_count": 125,
      "outputs": [
        {
          "output_type": "display_data",
          "data": {
            "image/png": "[encoded data removed]",
            "text/plain": [
              "<Figure size 432x288 with 1 Axes>"
            ]
          },
          "metadata": {
            "tags": []
          }
        }
      ]
    },
    {
      "cell_type": "markdown",
      "metadata": {
        "id": "cYp5oVRwwV_W",
        "colab_type": "text"
      },
      "source": [
        "What is the Curse of Dimensionality?\n",
        "\n",
        "`The Curse of Dimensionality is the phenomena where additional columns/features become more spaced or spread as the number of dimensions increases. The higher the dimensionality the further away data points will appear to be which makes working with the data more difficult. In regards to machine learning the number of training data required increases exponentially as dimensionality increases. "
      ]
    },
    {
      "cell_type": "markdown",
      "metadata": {
        "id": "eNCqWVBTz4JR",
        "colab_type": "text"
      },
      "source": [
        "Use the dataset below to perform PCA with the numeric features."
      ]
    },
    {
      "cell_type": "code",
      "metadata": {
        "id": "GFmlBSLQ0IYU",
        "colab_type": "code",
        "outputId": "3db2c105-08d4-4f71-9f5c-8dbdba8884e2",
        "colab": {
          "base_uri": "https://localhost:8080/",
          "height": 204
        }
      },
      "source": [
        "url = \"https://archive.ics.uci.edu/ml/machine-learning-databases/iris/iris.data\"\n",
        "df = pd.read_csv(url, names=['sepal length','sepal width','petal length','petal width','target'])\n",
        "df.head()"
      ],
      "execution_count": 75,
      "outputs": [
        {
          "output_type": "execute_result",
          "data": {
            "text/html": [
              "<div>\n",
              "<style scoped>\n",
              "    .dataframe tbody tr th:only-of-type {\n",
              "        vertical-align: middle;\n",
              "    }\n",
              "\n",
              "    .dataframe tbody tr th {\n",
              "        vertical-align: top;\n",
              "    }\n",
              "\n",
              "    .dataframe thead th {\n",
              "        text-align: right;\n",
              "    }\n",
              "</style>\n",
              "<table border=\"1\" class=\"dataframe\">\n",
              "  <thead>\n",
              "    <tr style=\"text-align: right;\">\n",
              "      <th></th>\n",
              "      <th>sepal length</th>\n",
              "      <th>sepal width</th>\n",
              "      <th>petal length</th>\n",
              "      <th>petal width</th>\n",
              "      <th>target</th>\n",
              "    </tr>\n",
              "  </thead>\n",
              "  <tbody>\n",
              "    <tr>\n",
              "      <th>0</th>\n",
              "      <td>5.1</td>\n",
              "      <td>3.5</td>\n",
              "      <td>1.4</td>\n",
              "      <td>0.2</td>\n",
              "      <td>Iris-setosa</td>\n",
              "    </tr>\n",
              "    <tr>\n",
              "      <th>1</th>\n",
              "      <td>4.9</td>\n",
              "      <td>3.0</td>\n",
              "      <td>1.4</td>\n",
              "      <td>0.2</td>\n",
              "      <td>Iris-setosa</td>\n",
              "    </tr>\n",
              "    <tr>\n",
              "      <th>2</th>\n",
              "      <td>4.7</td>\n",
              "      <td>3.2</td>\n",
              "      <td>1.3</td>\n",
              "      <td>0.2</td>\n",
              "      <td>Iris-setosa</td>\n",
              "    </tr>\n",
              "    <tr>\n",
              "      <th>3</th>\n",
              "      <td>4.6</td>\n",
              "      <td>3.1</td>\n",
              "      <td>1.5</td>\n",
              "      <td>0.2</td>\n",
              "      <td>Iris-setosa</td>\n",
              "    </tr>\n",
              "    <tr>\n",
              "      <th>4</th>\n",
              "      <td>5.0</td>\n",
              "      <td>3.6</td>\n",
              "      <td>1.4</td>\n",
              "      <td>0.2</td>\n",
              "      <td>Iris-setosa</td>\n",
              "    </tr>\n",
              "  </tbody>\n",
              "</table>\n",
              "</div>"
            ],
            "text/plain": [
              "   sepal length  sepal width  petal length  petal width       target\n",
              "0           5.1          3.5           1.4          0.2  Iris-setosa\n",
              "1           4.9          3.0           1.4          0.2  Iris-setosa\n",
              "2           4.7          3.2           1.3          0.2  Iris-setosa\n",
              "3           4.6          3.1           1.5          0.2  Iris-setosa\n",
              "4           5.0          3.6           1.4          0.2  Iris-setosa"
            ]
          },
          "metadata": {
            "tags": []
          },
          "execution_count": 75
        }
      ]
    },
    {
      "cell_type": "markdown",
      "metadata": {
        "id": "MAFmHFQE3Ij3",
        "colab_type": "text"
      },
      "source": [
        "Standardize your data"
      ]
    },
    {
      "cell_type": "code",
      "metadata": {
        "id": "TNdWsT0I0TMb",
        "colab_type": "code",
        "colab": {
          "base_uri": "https://localhost:8080/",
          "height": 359
        },
        "outputId": "8988d316-b27e-4c5c-da45-40e40d1a49a7"
      },
      "source": [
        "pca_df = df.copy()\n",
        "pca_df.head(10)"
      ],
      "execution_count": 76,
      "outputs": [
        {
          "output_type": "execute_result",
          "data": {
            "text/html": [
              "<div>\n",
              "<style scoped>\n",
              "    .dataframe tbody tr th:only-of-type {\n",
              "        vertical-align: middle;\n",
              "    }\n",
              "\n",
              "    .dataframe tbody tr th {\n",
              "        vertical-align: top;\n",
              "    }\n",
              "\n",
              "    .dataframe thead th {\n",
              "        text-align: right;\n",
              "    }\n",
              "</style>\n",
              "<table border=\"1\" class=\"dataframe\">\n",
              "  <thead>\n",
              "    <tr style=\"text-align: right;\">\n",
              "      <th></th>\n",
              "      <th>sepal length</th>\n",
              "      <th>sepal width</th>\n",
              "      <th>petal length</th>\n",
              "      <th>petal width</th>\n",
              "      <th>target</th>\n",
              "    </tr>\n",
              "  </thead>\n",
              "  <tbody>\n",
              "    <tr>\n",
              "      <th>0</th>\n",
              "      <td>5.1</td>\n",
              "      <td>3.5</td>\n",
              "      <td>1.4</td>\n",
              "      <td>0.2</td>\n",
              "      <td>Iris-setosa</td>\n",
              "    </tr>\n",
              "    <tr>\n",
              "      <th>1</th>\n",
              "      <td>4.9</td>\n",
              "      <td>3.0</td>\n",
              "      <td>1.4</td>\n",
              "      <td>0.2</td>\n",
              "      <td>Iris-setosa</td>\n",
              "    </tr>\n",
              "    <tr>\n",
              "      <th>2</th>\n",
              "      <td>4.7</td>\n",
              "      <td>3.2</td>\n",
              "      <td>1.3</td>\n",
              "      <td>0.2</td>\n",
              "      <td>Iris-setosa</td>\n",
              "    </tr>\n",
              "    <tr>\n",
              "      <th>3</th>\n",
              "      <td>4.6</td>\n",
              "      <td>3.1</td>\n",
              "      <td>1.5</td>\n",
              "      <td>0.2</td>\n",
              "      <td>Iris-setosa</td>\n",
              "    </tr>\n",
              "    <tr>\n",
              "      <th>4</th>\n",
              "      <td>5.0</td>\n",
              "      <td>3.6</td>\n",
              "      <td>1.4</td>\n",
              "      <td>0.2</td>\n",
              "      <td>Iris-setosa</td>\n",
              "    </tr>\n",
              "    <tr>\n",
              "      <th>5</th>\n",
              "      <td>5.4</td>\n",
              "      <td>3.9</td>\n",
              "      <td>1.7</td>\n",
              "      <td>0.4</td>\n",
              "      <td>Iris-setosa</td>\n",
              "    </tr>\n",
              "    <tr>\n",
              "      <th>6</th>\n",
              "      <td>4.6</td>\n",
              "      <td>3.4</td>\n",
              "      <td>1.4</td>\n",
              "      <td>0.3</td>\n",
              "      <td>Iris-setosa</td>\n",
              "    </tr>\n",
              "    <tr>\n",
              "      <th>7</th>\n",
              "      <td>5.0</td>\n",
              "      <td>3.4</td>\n",
              "      <td>1.5</td>\n",
              "      <td>0.2</td>\n",
              "      <td>Iris-setosa</td>\n",
              "    </tr>\n",
              "    <tr>\n",
              "      <th>8</th>\n",
              "      <td>4.4</td>\n",
              "      <td>2.9</td>\n",
              "      <td>1.4</td>\n",
              "      <td>0.2</td>\n",
              "      <td>Iris-setosa</td>\n",
              "    </tr>\n",
              "    <tr>\n",
              "      <th>9</th>\n",
              "      <td>4.9</td>\n",
              "      <td>3.1</td>\n",
              "      <td>1.5</td>\n",
              "      <td>0.1</td>\n",
              "      <td>Iris-setosa</td>\n",
              "    </tr>\n",
              "  </tbody>\n",
              "</table>\n",
              "</div>"
            ],
            "text/plain": [
              "   sepal length  sepal width  petal length  petal width       target\n",
              "0           5.1          3.5           1.4          0.2  Iris-setosa\n",
              "1           4.9          3.0           1.4          0.2  Iris-setosa\n",
              "2           4.7          3.2           1.3          0.2  Iris-setosa\n",
              "3           4.6          3.1           1.5          0.2  Iris-setosa\n",
              "4           5.0          3.6           1.4          0.2  Iris-setosa\n",
              "5           5.4          3.9           1.7          0.4  Iris-setosa\n",
              "6           4.6          3.4           1.4          0.3  Iris-setosa\n",
              "7           5.0          3.4           1.5          0.2  Iris-setosa\n",
              "8           4.4          2.9           1.4          0.2  Iris-setosa\n",
              "9           4.9          3.1           1.5          0.1  Iris-setosa"
            ]
          },
          "metadata": {
            "tags": []
          },
          "execution_count": 76
        }
      ]
    },
    {
      "cell_type": "code",
      "metadata": {
        "id": "IcPDnZe5s2hT",
        "colab_type": "code",
        "colab": {
          "base_uri": "https://localhost:8080/",
          "height": 119
        },
        "outputId": "c11e1af4-7c11-4e1a-997b-81bdb0e1e363"
      },
      "source": [
        "pca_df.dtypes"
      ],
      "execution_count": 77,
      "outputs": [
        {
          "output_type": "execute_result",
          "data": {
            "text/plain": [
              "sepal length    float64\n",
              "sepal width     float64\n",
              "petal length    float64\n",
              "petal width     float64\n",
              "target           object\n",
              "dtype: object"
            ]
          },
          "metadata": {
            "tags": []
          },
          "execution_count": 77
        }
      ]
    },
    {
      "cell_type": "code",
      "metadata": {
        "id": "w5hO_dwRs6rI",
        "colab_type": "code",
        "colab": {
          "base_uri": "https://localhost:8080/",
          "height": 204
        },
        "outputId": "5285653f-16da-48c4-903b-fdda4ad838e5"
      },
      "source": [
        "pca_df = pca_df.drop(['target'], axis=1)\n",
        "pca_df.head()"
      ],
      "execution_count": 78,
      "outputs": [
        {
          "output_type": "execute_result",
          "data": {
            "text/html": [
              "<div>\n",
              "<style scoped>\n",
              "    .dataframe tbody tr th:only-of-type {\n",
              "        vertical-align: middle;\n",
              "    }\n",
              "\n",
              "    .dataframe tbody tr th {\n",
              "        vertical-align: top;\n",
              "    }\n",
              "\n",
              "    .dataframe thead th {\n",
              "        text-align: right;\n",
              "    }\n",
              "</style>\n",
              "<table border=\"1\" class=\"dataframe\">\n",
              "  <thead>\n",
              "    <tr style=\"text-align: right;\">\n",
              "      <th></th>\n",
              "      <th>sepal length</th>\n",
              "      <th>sepal width</th>\n",
              "      <th>petal length</th>\n",
              "      <th>petal width</th>\n",
              "    </tr>\n",
              "  </thead>\n",
              "  <tbody>\n",
              "    <tr>\n",
              "      <th>0</th>\n",
              "      <td>5.1</td>\n",
              "      <td>3.5</td>\n",
              "      <td>1.4</td>\n",
              "      <td>0.2</td>\n",
              "    </tr>\n",
              "    <tr>\n",
              "      <th>1</th>\n",
              "      <td>4.9</td>\n",
              "      <td>3.0</td>\n",
              "      <td>1.4</td>\n",
              "      <td>0.2</td>\n",
              "    </tr>\n",
              "    <tr>\n",
              "      <th>2</th>\n",
              "      <td>4.7</td>\n",
              "      <td>3.2</td>\n",
              "      <td>1.3</td>\n",
              "      <td>0.2</td>\n",
              "    </tr>\n",
              "    <tr>\n",
              "      <th>3</th>\n",
              "      <td>4.6</td>\n",
              "      <td>3.1</td>\n",
              "      <td>1.5</td>\n",
              "      <td>0.2</td>\n",
              "    </tr>\n",
              "    <tr>\n",
              "      <th>4</th>\n",
              "      <td>5.0</td>\n",
              "      <td>3.6</td>\n",
              "      <td>1.4</td>\n",
              "      <td>0.2</td>\n",
              "    </tr>\n",
              "  </tbody>\n",
              "</table>\n",
              "</div>"
            ],
            "text/plain": [
              "   sepal length  sepal width  petal length  petal width\n",
              "0           5.1          3.5           1.4          0.2\n",
              "1           4.9          3.0           1.4          0.2\n",
              "2           4.7          3.2           1.3          0.2\n",
              "3           4.6          3.1           1.5          0.2\n",
              "4           5.0          3.6           1.4          0.2"
            ]
          },
          "metadata": {
            "tags": []
          },
          "execution_count": 78
        }
      ]
    },
    {
      "cell_type": "markdown",
      "metadata": {
        "id": "YfJxWlMz3SvD",
        "colab_type": "text"
      },
      "source": [
        "Use PCA to project to 2 dimensions"
      ]
    },
    {
      "cell_type": "code",
      "metadata": {
        "id": "WSqv6j423pVL",
        "colab_type": "code",
        "colab": {
          "base_uri": "https://localhost:8080/",
          "height": 1000
        },
        "outputId": "1d727838-0f61-4cce-e455-dc771372e926"
      },
      "source": [
        "scaler = StandardScaler()\n",
        "Z = scaler.fit_transform(pca_df)\n",
        "Z"
      ],
      "execution_count": 79,
      "outputs": [
        {
          "output_type": "execute_result",
          "data": {
            "text/plain": [
              "array([[-9.00681170e-01,  1.03205722e+00, -1.34127240e+00,\n",
              "        -1.31297673e+00],\n",
              "       [-1.14301691e+00, -1.24957601e-01, -1.34127240e+00,\n",
              "        -1.31297673e+00],\n",
              "       [-1.38535265e+00,  3.37848329e-01, -1.39813811e+00,\n",
              "        -1.31297673e+00],\n",
              "       [-1.50652052e+00,  1.06445364e-01, -1.28440670e+00,\n",
              "        -1.31297673e+00],\n",
              "       [-1.02184904e+00,  1.26346019e+00, -1.34127240e+00,\n",
              "        -1.31297673e+00],\n",
              "       [-5.37177559e-01,  1.95766909e+00, -1.17067529e+00,\n",
              "        -1.05003079e+00],\n",
              "       [-1.50652052e+00,  8.00654259e-01, -1.34127240e+00,\n",
              "        -1.18150376e+00],\n",
              "       [-1.02184904e+00,  8.00654259e-01, -1.28440670e+00,\n",
              "        -1.31297673e+00],\n",
              "       [-1.74885626e+00, -3.56360566e-01, -1.34127240e+00,\n",
              "        -1.31297673e+00],\n",
              "       [-1.14301691e+00,  1.06445364e-01, -1.28440670e+00,\n",
              "        -1.44444970e+00],\n",
              "       [-5.37177559e-01,  1.49486315e+00, -1.28440670e+00,\n",
              "        -1.31297673e+00],\n",
              "       [-1.26418478e+00,  8.00654259e-01, -1.22754100e+00,\n",
              "        -1.31297673e+00],\n",
              "       [-1.26418478e+00, -1.24957601e-01, -1.34127240e+00,\n",
              "        -1.44444970e+00],\n",
              "       [-1.87002413e+00, -1.24957601e-01, -1.51186952e+00,\n",
              "        -1.44444970e+00],\n",
              "       [-5.25060772e-02,  2.18907205e+00, -1.45500381e+00,\n",
              "        -1.31297673e+00],\n",
              "       [-1.73673948e-01,  3.11468391e+00, -1.28440670e+00,\n",
              "        -1.05003079e+00],\n",
              "       [-5.37177559e-01,  1.95766909e+00, -1.39813811e+00,\n",
              "        -1.05003079e+00],\n",
              "       [-9.00681170e-01,  1.03205722e+00, -1.34127240e+00,\n",
              "        -1.18150376e+00],\n",
              "       [-1.73673948e-01,  1.72626612e+00, -1.17067529e+00,\n",
              "        -1.18150376e+00],\n",
              "       [-9.00681170e-01,  1.72626612e+00, -1.28440670e+00,\n",
              "        -1.18150376e+00],\n",
              "       [-5.37177559e-01,  8.00654259e-01, -1.17067529e+00,\n",
              "        -1.31297673e+00],\n",
              "       [-9.00681170e-01,  1.49486315e+00, -1.28440670e+00,\n",
              "        -1.05003079e+00],\n",
              "       [-1.50652052e+00,  1.26346019e+00, -1.56873522e+00,\n",
              "        -1.31297673e+00],\n",
              "       [-9.00681170e-01,  5.69251294e-01, -1.17067529e+00,\n",
              "        -9.18557817e-01],\n",
              "       [-1.26418478e+00,  8.00654259e-01, -1.05694388e+00,\n",
              "        -1.31297673e+00],\n",
              "       [-1.02184904e+00, -1.24957601e-01, -1.22754100e+00,\n",
              "        -1.31297673e+00],\n",
              "       [-1.02184904e+00,  8.00654259e-01, -1.22754100e+00,\n",
              "        -1.05003079e+00],\n",
              "       [-7.79513300e-01,  1.03205722e+00, -1.28440670e+00,\n",
              "        -1.31297673e+00],\n",
              "       [-7.79513300e-01,  8.00654259e-01, -1.34127240e+00,\n",
              "        -1.31297673e+00],\n",
              "       [-1.38535265e+00,  3.37848329e-01, -1.22754100e+00,\n",
              "        -1.31297673e+00],\n",
              "       [-1.26418478e+00,  1.06445364e-01, -1.22754100e+00,\n",
              "        -1.31297673e+00],\n",
              "       [-5.37177559e-01,  8.00654259e-01, -1.28440670e+00,\n",
              "        -1.05003079e+00],\n",
              "       [-7.79513300e-01,  2.42047502e+00, -1.28440670e+00,\n",
              "        -1.44444970e+00],\n",
              "       [-4.16009689e-01,  2.65187798e+00, -1.34127240e+00,\n",
              "        -1.31297673e+00],\n",
              "       [-1.14301691e+00,  1.06445364e-01, -1.28440670e+00,\n",
              "        -1.44444970e+00],\n",
              "       [-1.02184904e+00,  3.37848329e-01, -1.45500381e+00,\n",
              "        -1.31297673e+00],\n",
              "       [-4.16009689e-01,  1.03205722e+00, -1.39813811e+00,\n",
              "        -1.31297673e+00],\n",
              "       [-1.14301691e+00,  1.06445364e-01, -1.28440670e+00,\n",
              "        -1.44444970e+00],\n",
              "       [-1.74885626e+00, -1.24957601e-01, -1.39813811e+00,\n",
              "        -1.31297673e+00],\n",
              "       [-9.00681170e-01,  8.00654259e-01, -1.28440670e+00,\n",
              "        -1.31297673e+00],\n",
              "       [-1.02184904e+00,  1.03205722e+00, -1.39813811e+00,\n",
              "        -1.18150376e+00],\n",
              "       [-1.62768839e+00, -1.74477836e+00, -1.39813811e+00,\n",
              "        -1.18150376e+00],\n",
              "       [-1.74885626e+00,  3.37848329e-01, -1.39813811e+00,\n",
              "        -1.31297673e+00],\n",
              "       [-1.02184904e+00,  1.03205722e+00, -1.22754100e+00,\n",
              "        -7.87084847e-01],\n",
              "       [-9.00681170e-01,  1.72626612e+00, -1.05694388e+00,\n",
              "        -1.05003079e+00],\n",
              "       [-1.26418478e+00, -1.24957601e-01, -1.34127240e+00,\n",
              "        -1.18150376e+00],\n",
              "       [-9.00681170e-01,  1.72626612e+00, -1.22754100e+00,\n",
              "        -1.31297673e+00],\n",
              "       [-1.50652052e+00,  3.37848329e-01, -1.34127240e+00,\n",
              "        -1.31297673e+00],\n",
              "       [-6.58345429e-01,  1.49486315e+00, -1.28440670e+00,\n",
              "        -1.31297673e+00],\n",
              "       [-1.02184904e+00,  5.69251294e-01, -1.34127240e+00,\n",
              "        -1.31297673e+00],\n",
              "       [ 1.40150837e+00,  3.37848329e-01,  5.35295827e-01,\n",
              "         2.64698913e-01],\n",
              "       [ 6.74501145e-01,  3.37848329e-01,  4.21564419e-01,\n",
              "         3.96171883e-01],\n",
              "       [ 1.28034050e+00,  1.06445364e-01,  6.49027235e-01,\n",
              "         3.96171883e-01],\n",
              "       [-4.16009689e-01, -1.74477836e+00,  1.37235899e-01,\n",
              "         1.33225943e-01],\n",
              "       [ 7.95669016e-01, -5.87763531e-01,  4.78430123e-01,\n",
              "         3.96171883e-01],\n",
              "       [-1.73673948e-01, -5.87763531e-01,  4.21564419e-01,\n",
              "         1.33225943e-01],\n",
              "       [ 5.53333275e-01,  5.69251294e-01,  5.35295827e-01,\n",
              "         5.27644853e-01],\n",
              "       [-1.14301691e+00, -1.51337539e+00, -2.60824029e-01,\n",
              "        -2.61192967e-01],\n",
              "       [ 9.16836886e-01, -3.56360566e-01,  4.78430123e-01,\n",
              "         1.33225943e-01],\n",
              "       [-7.79513300e-01, -8.19166497e-01,  8.03701950e-02,\n",
              "         2.64698913e-01],\n",
              "       [-1.02184904e+00, -2.43898725e+00, -1.47092621e-01,\n",
              "        -2.61192967e-01],\n",
              "       [ 6.86617933e-02, -1.24957601e-01,  2.50967307e-01,\n",
              "         3.96171883e-01],\n",
              "       [ 1.89829664e-01, -1.97618132e+00,  1.37235899e-01,\n",
              "        -2.61192967e-01],\n",
              "       [ 3.10997534e-01, -3.56360566e-01,  5.35295827e-01,\n",
              "         2.64698913e-01],\n",
              "       [-2.94841818e-01, -3.56360566e-01, -9.02269170e-02,\n",
              "         1.33225943e-01],\n",
              "       [ 1.03800476e+00,  1.06445364e-01,  3.64698715e-01,\n",
              "         2.64698913e-01],\n",
              "       [-2.94841818e-01, -1.24957601e-01,  4.21564419e-01,\n",
              "         3.96171883e-01],\n",
              "       [-5.25060772e-02, -8.19166497e-01,  1.94101603e-01,\n",
              "        -2.61192967e-01],\n",
              "       [ 4.32165405e-01, -1.97618132e+00,  4.21564419e-01,\n",
              "         3.96171883e-01],\n",
              "       [-2.94841818e-01, -1.28197243e+00,  8.03701950e-02,\n",
              "        -1.29719997e-01],\n",
              "       [ 6.86617933e-02,  3.37848329e-01,  5.92161531e-01,\n",
              "         7.90590793e-01],\n",
              "       [ 3.10997534e-01, -5.87763531e-01,  1.37235899e-01,\n",
              "         1.33225943e-01],\n",
              "       [ 5.53333275e-01, -1.28197243e+00,  6.49027235e-01,\n",
              "         3.96171883e-01],\n",
              "       [ 3.10997534e-01, -5.87763531e-01,  5.35295827e-01,\n",
              "         1.75297293e-03],\n",
              "       [ 6.74501145e-01, -3.56360566e-01,  3.07833011e-01,\n",
              "         1.33225943e-01],\n",
              "       [ 9.16836886e-01, -1.24957601e-01,  3.64698715e-01,\n",
              "         2.64698913e-01],\n",
              "       [ 1.15917263e+00, -5.87763531e-01,  5.92161531e-01,\n",
              "         2.64698913e-01],\n",
              "       [ 1.03800476e+00, -1.24957601e-01,  7.05892939e-01,\n",
              "         6.59117823e-01],\n",
              "       [ 1.89829664e-01, -3.56360566e-01,  4.21564419e-01,\n",
              "         3.96171883e-01],\n",
              "       [-1.73673948e-01, -1.05056946e+00, -1.47092621e-01,\n",
              "        -2.61192967e-01],\n",
              "       [-4.16009689e-01, -1.51337539e+00,  2.35044910e-02,\n",
              "        -1.29719997e-01],\n",
              "       [-4.16009689e-01, -1.51337539e+00, -3.33612130e-02,\n",
              "        -2.61192967e-01],\n",
              "       [-5.25060772e-02, -8.19166497e-01,  8.03701950e-02,\n",
              "         1.75297293e-03],\n",
              "       [ 1.89829664e-01, -8.19166497e-01,  7.62758643e-01,\n",
              "         5.27644853e-01],\n",
              "       [-5.37177559e-01, -1.24957601e-01,  4.21564419e-01,\n",
              "         3.96171883e-01],\n",
              "       [ 1.89829664e-01,  8.00654259e-01,  4.21564419e-01,\n",
              "         5.27644853e-01],\n",
              "       [ 1.03800476e+00,  1.06445364e-01,  5.35295827e-01,\n",
              "         3.96171883e-01],\n",
              "       [ 5.53333275e-01, -1.74477836e+00,  3.64698715e-01,\n",
              "         1.33225943e-01],\n",
              "       [-2.94841818e-01, -1.24957601e-01,  1.94101603e-01,\n",
              "         1.33225943e-01],\n",
              "       [-4.16009689e-01, -1.28197243e+00,  1.37235899e-01,\n",
              "         1.33225943e-01],\n",
              "       [-4.16009689e-01, -1.05056946e+00,  3.64698715e-01,\n",
              "         1.75297293e-03],\n",
              "       [ 3.10997534e-01, -1.24957601e-01,  4.78430123e-01,\n",
              "         2.64698913e-01],\n",
              "       [-5.25060772e-02, -1.05056946e+00,  1.37235899e-01,\n",
              "         1.75297293e-03],\n",
              "       [-1.02184904e+00, -1.74477836e+00, -2.60824029e-01,\n",
              "        -2.61192967e-01],\n",
              "       [-2.94841818e-01, -8.19166497e-01,  2.50967307e-01,\n",
              "         1.33225943e-01],\n",
              "       [-1.73673948e-01, -1.24957601e-01,  2.50967307e-01,\n",
              "         1.75297293e-03],\n",
              "       [-1.73673948e-01, -3.56360566e-01,  2.50967307e-01,\n",
              "         1.33225943e-01],\n",
              "       [ 4.32165405e-01, -3.56360566e-01,  3.07833011e-01,\n",
              "         1.33225943e-01],\n",
              "       [-9.00681170e-01, -1.28197243e+00, -4.31421141e-01,\n",
              "        -1.29719997e-01],\n",
              "       [-1.73673948e-01, -5.87763531e-01,  1.94101603e-01,\n",
              "         1.33225943e-01],\n",
              "       [ 5.53333275e-01,  5.69251294e-01,  1.27454998e+00,\n",
              "         1.71090158e+00],\n",
              "       [-5.25060772e-02, -8.19166497e-01,  7.62758643e-01,\n",
              "         9.22063763e-01],\n",
              "       [ 1.52267624e+00, -1.24957601e-01,  1.21768427e+00,\n",
              "         1.18500970e+00],\n",
              "       [ 5.53333275e-01, -3.56360566e-01,  1.04708716e+00,\n",
              "         7.90590793e-01],\n",
              "       [ 7.95669016e-01, -1.24957601e-01,  1.16081857e+00,\n",
              "         1.31648267e+00],\n",
              "       [ 2.12851559e+00, -1.24957601e-01,  1.61574420e+00,\n",
              "         1.18500970e+00],\n",
              "       [-1.14301691e+00, -1.28197243e+00,  4.21564419e-01,\n",
              "         6.59117823e-01],\n",
              "       [ 1.76501198e+00, -3.56360566e-01,  1.44514709e+00,\n",
              "         7.90590793e-01],\n",
              "       [ 1.03800476e+00, -1.28197243e+00,  1.16081857e+00,\n",
              "         7.90590793e-01],\n",
              "       [ 1.64384411e+00,  1.26346019e+00,  1.33141568e+00,\n",
              "         1.71090158e+00],\n",
              "       [ 7.95669016e-01,  3.37848329e-01,  7.62758643e-01,\n",
              "         1.05353673e+00],\n",
              "       [ 6.74501145e-01, -8.19166497e-01,  8.76490051e-01,\n",
              "         9.22063763e-01],\n",
              "       [ 1.15917263e+00, -1.24957601e-01,  9.90221459e-01,\n",
              "         1.18500970e+00],\n",
              "       [-1.73673948e-01, -1.28197243e+00,  7.05892939e-01,\n",
              "         1.05353673e+00],\n",
              "       [-5.25060772e-02, -5.87763531e-01,  7.62758643e-01,\n",
              "         1.57942861e+00],\n",
              "       [ 6.74501145e-01,  3.37848329e-01,  8.76490051e-01,\n",
              "         1.44795564e+00],\n",
              "       [ 7.95669016e-01, -1.24957601e-01,  9.90221459e-01,\n",
              "         7.90590793e-01],\n",
              "       [ 2.24968346e+00,  1.72626612e+00,  1.67260991e+00,\n",
              "         1.31648267e+00],\n",
              "       [ 2.24968346e+00, -1.05056946e+00,  1.78634131e+00,\n",
              "         1.44795564e+00],\n",
              "       [ 1.89829664e-01, -1.97618132e+00,  7.05892939e-01,\n",
              "         3.96171883e-01],\n",
              "       [ 1.28034050e+00,  3.37848329e-01,  1.10395287e+00,\n",
              "         1.44795564e+00],\n",
              "       [-2.94841818e-01, -5.87763531e-01,  6.49027235e-01,\n",
              "         1.05353673e+00],\n",
              "       [ 2.24968346e+00, -5.87763531e-01,  1.67260991e+00,\n",
              "         1.05353673e+00],\n",
              "       [ 5.53333275e-01, -8.19166497e-01,  6.49027235e-01,\n",
              "         7.90590793e-01],\n",
              "       [ 1.03800476e+00,  5.69251294e-01,  1.10395287e+00,\n",
              "         1.18500970e+00],\n",
              "       [ 1.64384411e+00,  3.37848329e-01,  1.27454998e+00,\n",
              "         7.90590793e-01],\n",
              "       [ 4.32165405e-01, -5.87763531e-01,  5.92161531e-01,\n",
              "         7.90590793e-01],\n",
              "       [ 3.10997534e-01, -1.24957601e-01,  6.49027235e-01,\n",
              "         7.90590793e-01],\n",
              "       [ 6.74501145e-01, -5.87763531e-01,  1.04708716e+00,\n",
              "         1.18500970e+00],\n",
              "       [ 1.64384411e+00, -1.24957601e-01,  1.16081857e+00,\n",
              "         5.27644853e-01],\n",
              "       [ 1.88617985e+00, -5.87763531e-01,  1.33141568e+00,\n",
              "         9.22063763e-01],\n",
              "       [ 2.49201920e+00,  1.72626612e+00,  1.50201279e+00,\n",
              "         1.05353673e+00],\n",
              "       [ 6.74501145e-01, -5.87763531e-01,  1.04708716e+00,\n",
              "         1.31648267e+00],\n",
              "       [ 5.53333275e-01, -5.87763531e-01,  7.62758643e-01,\n",
              "         3.96171883e-01],\n",
              "       [ 3.10997534e-01, -1.05056946e+00,  1.04708716e+00,\n",
              "         2.64698913e-01],\n",
              "       [ 2.24968346e+00, -1.24957601e-01,  1.33141568e+00,\n",
              "         1.44795564e+00],\n",
              "       [ 5.53333275e-01,  8.00654259e-01,  1.04708716e+00,\n",
              "         1.57942861e+00],\n",
              "       [ 6.74501145e-01,  1.06445364e-01,  9.90221459e-01,\n",
              "         7.90590793e-01],\n",
              "       [ 1.89829664e-01, -1.24957601e-01,  5.92161531e-01,\n",
              "         7.90590793e-01],\n",
              "       [ 1.28034050e+00,  1.06445364e-01,  9.33355755e-01,\n",
              "         1.18500970e+00],\n",
              "       [ 1.03800476e+00,  1.06445364e-01,  1.04708716e+00,\n",
              "         1.57942861e+00],\n",
              "       [ 1.28034050e+00,  1.06445364e-01,  7.62758643e-01,\n",
              "         1.44795564e+00],\n",
              "       [-5.25060772e-02, -8.19166497e-01,  7.62758643e-01,\n",
              "         9.22063763e-01],\n",
              "       [ 1.15917263e+00,  3.37848329e-01,  1.21768427e+00,\n",
              "         1.44795564e+00],\n",
              "       [ 1.03800476e+00,  5.69251294e-01,  1.10395287e+00,\n",
              "         1.71090158e+00],\n",
              "       [ 1.03800476e+00, -1.24957601e-01,  8.19624347e-01,\n",
              "         1.44795564e+00],\n",
              "       [ 5.53333275e-01, -1.28197243e+00,  7.05892939e-01,\n",
              "         9.22063763e-01],\n",
              "       [ 7.95669016e-01, -1.24957601e-01,  8.19624347e-01,\n",
              "         1.05353673e+00],\n",
              "       [ 4.32165405e-01,  8.00654259e-01,  9.33355755e-01,\n",
              "         1.44795564e+00],\n",
              "       [ 6.86617933e-02, -1.24957601e-01,  7.62758643e-01,\n",
              "         7.90590793e-01]])"
            ]
          },
          "metadata": {
            "tags": []
          },
          "execution_count": 79
        }
      ]
    },
    {
      "cell_type": "code",
      "metadata": {
        "id": "FvFdblMxuKgd",
        "colab_type": "code",
        "colab": {
          "base_uri": "https://localhost:8080/",
          "height": 1000
        },
        "outputId": "87f874ab-0dec-49a0-fe83-1844fa9fb04a"
      },
      "source": [
        "# create pca and fit the data\n",
        "pca=PCA()\n",
        "pca.fit_transform(Z)\n",
        "\n",
        "B = pca.transform(Z)\n",
        "B"
      ],
      "execution_count": 80,
      "outputs": [
        {
          "output_type": "execute_result",
          "data": {
            "text/plain": [
              "array([[-2.26454173e+00,  5.05703903e-01, -1.21943348e-01,\n",
              "        -2.30733235e-02],\n",
              "       [-2.08642550e+00, -6.55404729e-01, -2.27250832e-01,\n",
              "        -1.03208244e-01],\n",
              "       [-2.36795045e+00, -3.18477311e-01,  5.14796236e-02,\n",
              "        -2.78252250e-02],\n",
              "       [-2.30419716e+00, -5.75367713e-01,  9.88604444e-02,\n",
              "         6.63114622e-02],\n",
              "       [-2.38877749e+00,  6.74767397e-01,  2.14278490e-02,\n",
              "         3.73972870e-02],\n",
              "       [-2.07053681e+00,  1.51854856e+00,  3.06842583e-02,\n",
              "        -4.39877494e-03],\n",
              "       [-2.44571134e+00,  7.45626750e-02,  3.42197636e-01,\n",
              "         3.80965668e-02],\n",
              "       [-2.23384186e+00,  2.47613932e-01, -8.25744645e-02,\n",
              "         2.55051623e-02],\n",
              "       [-2.34195768e+00, -1.09514636e+00,  1.53562399e-01,\n",
              "         2.67938291e-02],\n",
              "       [-2.18867576e+00, -4.48629048e-01, -2.46559522e-01,\n",
              "         3.99073035e-02],\n",
              "       [-2.16348656e+00,  1.07059558e+00, -2.64009373e-01,\n",
              "        -1.53011377e-02],\n",
              "       [-2.32737775e+00,  1.58587455e-01,  1.00165616e-01,\n",
              "         1.34554258e-01],\n",
              "       [-2.22408272e+00, -7.09118158e-01, -2.23214514e-01,\n",
              "        -2.63061382e-03],\n",
              "       [-2.63971626e+00, -9.38281982e-01,  1.89570030e-01,\n",
              "         1.94220183e-02],\n",
              "       [-2.19229151e+00,  1.88997851e+00, -4.69480095e-01,\n",
              "        -1.92782042e-01],\n",
              "       [-2.25146521e+00,  2.72237108e+00,  3.26037967e-02,\n",
              "        -4.71257043e-02],\n",
              "       [-2.20275048e+00,  1.51375028e+00, -1.36349158e-03,\n",
              "        -1.86631581e-01],\n",
              "       [-2.19017916e+00,  5.14304308e-01, -3.86155949e-02,\n",
              "        -9.19055067e-02],\n",
              "       [-1.89407429e+00,  1.43111071e+00, -3.70742834e-01,\n",
              "        -5.95280968e-02],\n",
              "       [-2.33994907e+00,  1.15803343e+00,  1.37417719e-01,\n",
              "         3.98281842e-02],\n",
              "       [-1.91455639e+00,  4.30465163e-01, -4.16006875e-01,\n",
              "        -1.03602240e-02],\n",
              "       [-2.20464540e+00,  9.52457317e-01,  1.64738346e-01,\n",
              "        -5.77291622e-02],\n",
              "       [-2.77416979e+00,  4.89517027e-01,  3.38836384e-01,\n",
              "        -1.78537297e-02],\n",
              "       [-1.82041156e+00,  1.06750793e-01,  4.00614724e-02,\n",
              "        -1.50345595e-01],\n",
              "       [-2.22821750e+00,  1.62186163e-01,  1.24201428e-01,\n",
              "         2.71228863e-01],\n",
              "       [-1.95702401e+00, -6.07892567e-01, -2.98591029e-01,\n",
              "        -4.38372887e-02],\n",
              "       [-2.05206331e+00,  2.66014312e-01,  9.20929788e-02,\n",
              "        -6.66010028e-02],\n",
              "       [-2.16819365e+00,  5.52016495e-01, -2.01295482e-01,\n",
              "        -9.26056927e-03],\n",
              "       [-2.14030596e+00,  3.36640409e-01, -2.65314545e-01,\n",
              "        -8.35439339e-02],\n",
              "       [-2.26879019e+00, -3.14878603e-01,  7.55154360e-02,\n",
              "         1.08849380e-01],\n",
              "       [-2.14455443e+00, -4.83942097e-01, -6.78557607e-02,\n",
              "         4.83787691e-02],\n",
              "       [-1.83193810e+00,  4.45266836e-01, -2.65375244e-01,\n",
              "        -2.39140994e-01],\n",
              "       [-2.60820287e+00,  1.82847519e+00,  5.14195182e-02,\n",
              "         2.31922593e-01],\n",
              "       [-2.43795086e+00,  2.18539162e+00, -7.93497549e-02,\n",
              "         5.10210291e-02],\n",
              "       [-2.18867576e+00, -4.48629048e-01, -2.46559522e-01,\n",
              "         3.99073035e-02],\n",
              "       [-2.21111990e+00, -1.84337811e-01, -2.18624528e-01,\n",
              "        -1.68619769e-01],\n",
              "       [-2.04441652e+00,  6.84956426e-01, -4.79411570e-01,\n",
              "        -1.95613314e-01],\n",
              "       [-2.18867576e+00, -4.48629048e-01, -2.46559522e-01,\n",
              "         3.99073035e-02],\n",
              "       [-2.43595220e+00, -8.82169415e-01,  2.01557587e-01,\n",
              "         9.96079072e-03],\n",
              "       [-2.17054720e+00,  2.92726955e-01, -1.69938536e-01,\n",
              "        -6.24028506e-03],\n",
              "       [-2.28652724e+00,  4.67991716e-01,  4.07365390e-02,\n",
              "        -1.05718261e-01],\n",
              "       [-1.87170722e+00, -2.32769161e+00, -1.94528610e-01,\n",
              "        -2.91692982e-01],\n",
              "       [-2.55783442e+00, -4.53816380e-01,  3.13571838e-01,\n",
              "         6.74111170e-02],\n",
              "       [-1.96427929e+00,  4.97391640e-01,  3.14755610e-01,\n",
              "        -1.75540206e-01],\n",
              "       [-2.13337283e+00,  1.17143211e+00,  2.52793222e-01,\n",
              "         1.53228807e-01],\n",
              "       [-2.07535759e+00, -6.91917347e-01, -5.65590082e-02,\n",
              "        -1.40294980e-01],\n",
              "       [-2.38125822e+00,  1.15063259e+00,  6.21019035e-02,\n",
              "         1.54218569e-01],\n",
              "       [-2.39819169e+00, -3.62390765e-01,  1.46855632e-01,\n",
              "         4.94784238e-02],\n",
              "       [-2.22678121e+00,  1.02548255e+00, -1.76645302e-01,\n",
              "         1.64443096e-02],\n",
              "       [-2.20595417e+00,  3.22378453e-02, -1.46593527e-01,\n",
              "        -4.87782024e-02],\n",
              "       [ 1.10399365e+00,  8.63112446e-01, -6.85555108e-01,\n",
              "        -3.49778613e-02],\n",
              "       [ 7.32481440e-01,  5.98635573e-01, -9.40668020e-02,\n",
              "        -4.45376367e-03],\n",
              "       [ 1.24210951e+00,  6.14822450e-01, -5.54846534e-01,\n",
              "        -9.67335738e-03],\n",
              "       [ 3.97307283e-01, -1.75816895e+00, -1.85694824e-02,\n",
              "        -6.73978468e-02],\n",
              "       [ 1.07259395e+00, -2.11757903e-01, -3.97447438e-01,\n",
              "        -1.05541662e-01],\n",
              "       [ 3.84458146e-01, -5.91062469e-01,  1.26797690e-01,\n",
              "         2.40528082e-01],\n",
              "       [ 7.48715076e-01,  7.78698611e-01,  1.48656023e-01,\n",
              "         7.83010665e-02],\n",
              "       [-4.97863388e-01, -1.84886877e+00,  2.55555250e-01,\n",
              "         3.93891395e-02],\n",
              "       [ 9.26222368e-01,  3.03308268e-02, -5.95459889e-01,\n",
              "         2.91024204e-02],\n",
              "       [ 4.96802558e-03, -1.02940111e+00,  5.42867049e-01,\n",
              "         2.83487629e-02],\n",
              "       [-1.24697461e-01, -2.65806268e+00, -3.98134482e-02,\n",
              "        -1.61405573e-02],\n",
              "       [ 4.38730118e-01, -5.88812850e-02,  2.06703491e-01,\n",
              "        -3.98514578e-02],\n",
              "       [ 5.51633981e-01, -1.77258156e+00, -7.61380223e-01,\n",
              "        -4.83536968e-02],\n",
              "       [ 7.17165066e-01, -1.85434315e-01, -6.72998424e-02,\n",
              "         1.64555675e-01],\n",
              "       [-3.72583830e-02, -4.32795099e-01,  1.98061449e-01,\n",
              "        -1.09025121e-01],\n",
              "       [ 8.75890536e-01,  5.09998151e-01, -5.03505832e-01,\n",
              "        -1.05141287e-01],\n",
              "       [ 3.48006402e-01, -1.90621647e-01,  4.92831518e-01,\n",
              "         1.92059489e-01],\n",
              "       [ 1.53392545e-01, -7.90725456e-01, -2.98604516e-01,\n",
              "         2.04321215e-01],\n",
              "       [ 1.21530321e+00, -1.63335564e+00, -4.79409914e-01,\n",
              "        -2.28214500e-01],\n",
              "       [ 1.56941176e-01, -1.30310327e+00, -1.68586746e-01,\n",
              "         5.04131971e-02],\n",
              "       [ 7.38256104e-01,  4.02470382e-01,  6.16772626e-01,\n",
              "         8.44515277e-02],\n",
              "       [ 4.72369682e-01, -4.16608222e-01, -2.62718283e-01,\n",
              "        -1.14244715e-01],\n",
              "       [ 1.22798821e+00, -9.40914793e-01, -3.66704859e-01,\n",
              "         8.44834785e-03],\n",
              "       [ 6.29381045e-01, -4.16811643e-01, -2.89962474e-01,\n",
              "         2.73494879e-01],\n",
              "       [ 7.00472799e-01, -6.34939277e-02, -4.44767559e-01,\n",
              "        -4.40812895e-02],\n",
              "       [ 8.73536987e-01,  2.50708611e-01, -4.72148886e-01,\n",
              "        -1.02121003e-01],\n",
              "       [ 1.25422219e+00, -8.26200998e-02, -7.26843529e-01,\n",
              "        -4.08294177e-02],\n",
              "       [ 1.35823985e+00,  3.28820266e-01, -2.61458074e-01,\n",
              "        -6.70137909e-02],\n",
              "       [ 6.62126138e-01, -2.24346071e-01,  8.73681069e-02,\n",
              "         3.63525363e-02],\n",
              "       [-4.72815133e-02, -1.05721241e+00, -3.15319195e-01,\n",
              "        -6.60077099e-02],\n",
              "       [ 1.21534209e-01, -1.56359238e+00, -1.45241738e-01,\n",
              "         7.87527979e-03],\n",
              "       [ 1.41182261e-02, -1.57339235e+00, -2.36581428e-01,\n",
              "         3.11492615e-02],\n",
              "       [ 2.36010837e-01, -7.75923784e-01, -1.47972885e-01,\n",
              "        -2.44595546e-02],\n",
              "       [ 1.05669143e+00, -6.36901284e-01,  1.06753234e-01,\n",
              "         1.83419236e-01],\n",
              "       [ 2.21417088e-01, -2.80847693e-01,  6.67559660e-01,\n",
              "         2.55550383e-01],\n",
              "       [ 4.31783161e-01,  8.55136920e-01,  4.50731487e-01,\n",
              "         1.11146169e-01],\n",
              "       [ 1.04941336e+00,  5.22197265e-01, -3.96142266e-01,\n",
              "        -3.72988658e-02],\n",
              "       [ 1.03587821e+00, -1.39246648e+00, -6.85434303e-01,\n",
              "        -1.39128619e-01],\n",
              "       [ 6.70675999e-02, -2.12620735e-01,  2.94128262e-01,\n",
              "         1.47491049e-01],\n",
              "       [ 2.75425066e-01, -1.32981591e+00,  9.34447685e-02,\n",
              "        -9.94752060e-03],\n",
              "       [ 2.72335066e-01, -1.11944152e+00,  9.81718909e-02,\n",
              "         2.69842632e-01],\n",
              "       [ 6.23170540e-01,  2.75426333e-02, -1.93046544e-02,\n",
              "         1.47722637e-01],\n",
              "       [ 3.30005364e-01, -9.88900732e-01, -1.95968073e-01,\n",
              "        -7.62651620e-03],\n",
              "       [-3.73627623e-01, -2.01793227e+00,  1.12184053e-01,\n",
              "        -2.10814710e-02],\n",
              "       [ 2.82944343e-01, -8.53950717e-01,  1.34118823e-01,\n",
              "         1.06873761e-01],\n",
              "       [ 8.90531103e-02, -1.74908548e-01,  1.31448375e-01,\n",
              "         2.30135987e-01],\n",
              "       [ 2.24356783e-01, -3.80484659e-01,  1.58769003e-01,\n",
              "         1.32578640e-01],\n",
              "       [ 5.73883486e-01, -1.53719974e-01, -2.70039416e-01,\n",
              "         1.94096051e-02],\n",
              "       [-4.57012873e-01, -1.53946451e+00,  1.96126173e-01,\n",
              "        -2.00883380e-01],\n",
              "       [ 2.52244473e-01, -5.95860746e-01,  9.47499397e-02,\n",
              "         5.82952756e-02],\n",
              "       [ 1.84767259e+00,  8.71696662e-01,  1.00276099e+00,\n",
              "         5.10680368e-02],\n",
              "       [ 1.15318981e+00, -7.01326114e-01,  5.31464635e-01,\n",
              "         4.04135807e-02],\n",
              "       [ 2.20634950e+00,  5.54470105e-01, -2.05495910e-01,\n",
              "        -5.93004996e-02],\n",
              "       [ 1.43868540e+00, -5.00105223e-02,  1.63390464e-01,\n",
              "         2.35759861e-01],\n",
              "       [ 1.86789070e+00,  2.91192802e-01,  3.94004333e-01,\n",
              "         1.67817996e-02],\n",
              "       [ 2.75419671e+00,  7.88432206e-01, -5.86232704e-01,\n",
              "         1.00879674e-01],\n",
              "       [ 3.58374475e-01, -1.56009458e+00,  9.90999895e-01,\n",
              "         1.32987438e-01],\n",
              "       [ 2.30300590e+00,  4.09516695e-01, -6.54166687e-01,\n",
              "         2.37212798e-01],\n",
              "       [ 2.00173530e+00, -7.23865359e-01, -3.94070448e-01,\n",
              "         8.49938224e-02],\n",
              "       [ 2.26755460e+00,  1.92144299e+00,  3.92517658e-01,\n",
              "        -1.02907298e-01],\n",
              "       [ 1.36590943e+00,  6.93948040e-01,  2.83279516e-01,\n",
              "        -1.07010918e-01],\n",
              "       [ 1.59906459e+00, -4.28248836e-01,  2.33040821e-02,\n",
              "        -5.89427002e-02],\n",
              "       [ 1.88425185e+00,  4.14332758e-01,  2.45485540e-02,\n",
              "        -1.46296964e-01],\n",
              "       [ 1.25308651e+00, -1.16739134e+00,  5.82130271e-01,\n",
              "        -9.96816830e-02],\n",
              "       [ 1.46406152e+00, -4.44147569e-01,  1.00411052e+00,\n",
              "        -2.75022173e-01],\n",
              "       [ 1.59180930e+00,  6.77035372e-01,  6.36650721e-01,\n",
              "        -1.90645618e-01],\n",
              "       [ 1.47128019e+00,  2.53192472e-01,  3.66575092e-02,\n",
              "         1.55435928e-01],\n",
              "       [ 2.43737848e+00,  2.55675734e+00, -1.34200082e-01,\n",
              "         2.75661550e-01],\n",
              "       [ 3.30914118e+00, -2.36132010e-03, -7.06933959e-01,\n",
              "        -4.67561875e-02],\n",
              "       [ 1.25398099e+00, -1.71758384e+00, -2.64622084e-01,\n",
              "         6.30674020e-02],\n",
              "       [ 2.04049626e+00,  9.07398765e-01,  2.31878114e-01,\n",
              "        -1.67140048e-01],\n",
              "       [ 9.73915114e-01, -5.71174376e-01,  8.29503781e-01,\n",
              "        -2.73189478e-02],\n",
              "       [ 2.89806444e+00,  3.97791359e-01, -8.60926842e-01,\n",
              "         1.26074286e-01],\n",
              "       [ 1.32919369e+00, -4.86760542e-01, -4.70734933e-03,\n",
              "        -1.40597876e-01],\n",
              "       [ 1.70424071e+00,  1.01414842e+00,  2.95957877e-01,\n",
              "         6.27403760e-02],\n",
              "       [ 1.95772766e+00,  1.00333452e+00, -4.22817052e-01,\n",
              "         2.18459131e-01],\n",
              "       [ 1.17190451e+00, -3.18896617e-01,  1.30651910e-01,\n",
              "        -1.25685467e-01],\n",
              "       [ 1.01978105e+00,  6.55429631e-02,  3.38042170e-01,\n",
              "         9.06850833e-03],\n",
              "       [ 1.78600886e+00, -1.93272800e-01,  2.70002526e-01,\n",
              "        -3.12072991e-02],\n",
              "       [ 1.86477791e+00,  5.55381532e-01, -7.17510683e-01,\n",
              "         2.07556768e-01],\n",
              "       [ 2.43549739e+00,  2.46654468e-01, -7.30234006e-01,\n",
              "         1.67936017e-02],\n",
              "       [ 2.31608241e+00,  2.62618387e+00, -4.99619543e-01,\n",
              "         2.13160418e-01],\n",
              "       [ 1.86037143e+00, -1.84672394e-01,  3.53330279e-01,\n",
              "        -1.00039482e-01],\n",
              "       [ 1.11127173e+00, -2.95986102e-01, -1.82659608e-01,\n",
              "         1.85740240e-01],\n",
              "       [ 1.19746916e+00, -8.17167742e-01, -1.63213782e-01,\n",
              "         4.88404000e-01],\n",
              "       [ 2.80094940e+00,  8.44748194e-01, -5.47000957e-01,\n",
              "        -2.96321147e-01],\n",
              "       [ 1.58015525e+00,  1.07247450e+00,  9.43392608e-01,\n",
              "        -3.36074229e-02],\n",
              "       [ 1.34704442e+00,  4.22255966e-01,  1.80028706e-01,\n",
              "         2.15906539e-01],\n",
              "       [ 9.23432978e-01,  1.92303705e-02,  4.17394303e-01,\n",
              "        -4.74424586e-03],\n",
              "       [ 1.85355198e+00,  6.72422729e-01, -1.48203294e-02,\n",
              "        -1.94875449e-01],\n",
              "       [ 2.01615720e+00,  6.10397038e-01,  4.25914947e-01,\n",
              "        -2.46764702e-01],\n",
              "       [ 1.90311686e+00,  6.86024832e-01,  1.27799364e-01,\n",
              "        -4.69214421e-01],\n",
              "       [ 1.15318981e+00, -7.01326114e-01,  5.31464635e-01,\n",
              "         4.04135807e-02],\n",
              "       [ 2.04330844e+00,  8.64684880e-01,  3.35266061e-01,\n",
              "        -4.42781979e-02],\n",
              "       [ 2.00169097e+00,  1.04855005e+00,  6.29268888e-01,\n",
              "        -2.12588357e-01],\n",
              "       [ 1.87052207e+00,  3.82821838e-01,  2.54532319e-01,\n",
              "        -3.88890487e-01],\n",
              "       [ 1.55849189e+00, -9.05313601e-01, -2.53819099e-02,\n",
              "        -2.21322184e-01],\n",
              "       [ 1.52084506e+00,  2.66794575e-01,  1.79277203e-01,\n",
              "        -1.18903043e-01],\n",
              "       [ 1.37639119e+00,  1.01636193e+00,  9.31405052e-01,\n",
              "        -2.41461953e-02],\n",
              "       [ 9.59298576e-01, -2.22839447e-02,  5.28794187e-01,\n",
              "         1.63675806e-01]])"
            ]
          },
          "metadata": {
            "tags": []
          },
          "execution_count": 80
        }
      ]
    },
    {
      "cell_type": "markdown",
      "metadata": {
        "id": "kivap4uE3sFK",
        "colab_type": "text"
      },
      "source": [
        "Graph your 2 principal components against each other."
      ]
    },
    {
      "cell_type": "code",
      "metadata": {
        "id": "r0Cmd0NM326w",
        "colab_type": "code",
        "colab": {
          "base_uri": "https://localhost:8080/",
          "height": 295
        },
        "outputId": "01790867-2a67-47f8-d4f0-81124c3814cf"
      },
      "source": [
        "plt.scatter(B[:,0], B[:,1])\n",
        "\n",
        "plt.xlabel('PC1')\n",
        "plt.ylabel('PC2')\n",
        "plt.title('PC1 vs PC2')\n",
        "plt.show()"
      ],
      "execution_count": 81,
      "outputs": [
        {
          "output_type": "display_data",
          "data": {
            "image/png": "[encoded data removed]",
            "text/plain": [
              "<Figure size 432x288 with 1 Axes>"
            ]
          },
          "metadata": {
            "tags": []
          }
        }
      ]
    },
    {
      "cell_type": "markdown",
      "metadata": {
        "id": "MBdSt84O33Vx",
        "colab_type": "text"
      },
      "source": [
        "Give 2 examples of when you would use PCA. What would the trade-offs be?\n",
        "\n",
        "PCA should be used when variables are strongly correlated. The primary tradeoff of PCA is that it does not provide a measure of significance and therefore cannot be used for stand alone analysis. Additionally, the data cannot be evaluated once it is transformed. \n",
        "\n",
        "1. One example of using PCA could be for comparing the protein levels in cells between two species of animals and in the field of bioinformatics. \n",
        "\n",
        "2. Since PCA is primarily used to reduce dimensionality in machine learning algorithms, it can be used to filter unusually noisy datasets that invovle image recognition or facial recognition. "
      ]
    },
    {
      "cell_type": "markdown",
      "metadata": {
        "id": "1bzmNtAh4XQd",
        "colab_type": "text"
      },
      "source": [
        "If you were calculating PCA by hand, what are the steps you would need to take?\n",
        "\n",
        "`We would need to find the mean, covaraince, eigenvectors, eigenvalues, transform the matrices in order to calcualte the PCA`"
      ]
    },
    {
      "cell_type": "markdown",
      "metadata": {
        "id": "IY34EYXT4UF6",
        "colab_type": "text"
      },
      "source": [
        "# Clustering"
      ]
    },
    {
      "cell_type": "markdown",
      "metadata": {
        "id": "PnvBvn184pEz",
        "colab_type": "text"
      },
      "source": [
        "Define the following terms in your own words, do not simply copy and paste a definition found elsewhere but reword it to be understandable and memorable to you. *Double click the markdown to add your definitions*\n",
        "\n",
        "**Supervised Learning:** `Supervised learning is used in predictions where both the inputs and outputs are labeled. Backtesting for stock trading is one example. The two broad types are 1) classification which has discrete output cagetories and 2) regression which utilizes continuous output values`\n",
        "\n",
        "**Unsupervised Learning:** `Outputs are not labelled and this is actually how we as humans learn. Clustering is one of the most common forms of unsupervised learning. `\n",
        "\n",
        "**Reinforcement Learning:** `Creating an algorigthm that involves rewards or punishments for behaviors. `\n",
        "\n",
        "**Clustering:** `The method of identifying groupings of related observations.`\n",
        "\n",
        "**Centroids:** `the point of intersection of its medians`\n",
        "\n",
        "**No Free Lunch:** `The better an algorithm gets at a specific problem, the worse it beocmes at all other types of problems. The more specialized something becomes, the less of a generalize application.`"
      ]
    },
    {
      "cell_type": "markdown",
      "metadata": {
        "id": "bfhysUDA6NUr",
        "colab_type": "text"
      },
      "source": [
        "Use the iris dataframe above, choosing two of the numeric columns, to perform clustering on. Don't perform the clustering on the PCA'd dataset."
      ]
    },
    {
      "cell_type": "markdown",
      "metadata": {
        "id": "vS6rVGZj6v3W",
        "colab_type": "text"
      },
      "source": [
        "Plot the two features against each other"
      ]
    },
    {
      "cell_type": "code",
      "metadata": {
        "id": "SfXUW7h364x_",
        "colab_type": "code",
        "colab": {
          "base_uri": "https://localhost:8080/",
          "height": 204
        },
        "outputId": "4154baa1-8724-4fcd-a364-8ccc8dc7ab24"
      },
      "source": [
        "iris_df = df.drop(['target'],axis=1)\n",
        "iris_df.head()"
      ],
      "execution_count": 82,
      "outputs": [
        {
          "output_type": "execute_result",
          "data": {
            "text/html": [
              "<div>\n",
              "<style scoped>\n",
              "    .dataframe tbody tr th:only-of-type {\n",
              "        vertical-align: middle;\n",
              "    }\n",
              "\n",
              "    .dataframe tbody tr th {\n",
              "        vertical-align: top;\n",
              "    }\n",
              "\n",
              "    .dataframe thead th {\n",
              "        text-align: right;\n",
              "    }\n",
              "</style>\n",
              "<table border=\"1\" class=\"dataframe\">\n",
              "  <thead>\n",
              "    <tr style=\"text-align: right;\">\n",
              "      <th></th>\n",
              "      <th>sepal length</th>\n",
              "      <th>sepal width</th>\n",
              "      <th>petal length</th>\n",
              "      <th>petal width</th>\n",
              "    </tr>\n",
              "  </thead>\n",
              "  <tbody>\n",
              "    <tr>\n",
              "      <th>0</th>\n",
              "      <td>5.1</td>\n",
              "      <td>3.5</td>\n",
              "      <td>1.4</td>\n",
              "      <td>0.2</td>\n",
              "    </tr>\n",
              "    <tr>\n",
              "      <th>1</th>\n",
              "      <td>4.9</td>\n",
              "      <td>3.0</td>\n",
              "      <td>1.4</td>\n",
              "      <td>0.2</td>\n",
              "    </tr>\n",
              "    <tr>\n",
              "      <th>2</th>\n",
              "      <td>4.7</td>\n",
              "      <td>3.2</td>\n",
              "      <td>1.3</td>\n",
              "      <td>0.2</td>\n",
              "    </tr>\n",
              "    <tr>\n",
              "      <th>3</th>\n",
              "      <td>4.6</td>\n",
              "      <td>3.1</td>\n",
              "      <td>1.5</td>\n",
              "      <td>0.2</td>\n",
              "    </tr>\n",
              "    <tr>\n",
              "      <th>4</th>\n",
              "      <td>5.0</td>\n",
              "      <td>3.6</td>\n",
              "      <td>1.4</td>\n",
              "      <td>0.2</td>\n",
              "    </tr>\n",
              "  </tbody>\n",
              "</table>\n",
              "</div>"
            ],
            "text/plain": [
              "   sepal length  sepal width  petal length  petal width\n",
              "0           5.1          3.5           1.4          0.2\n",
              "1           4.9          3.0           1.4          0.2\n",
              "2           4.7          3.2           1.3          0.2\n",
              "3           4.6          3.1           1.5          0.2\n",
              "4           5.0          3.6           1.4          0.2"
            ]
          },
          "metadata": {
            "tags": []
          },
          "execution_count": 82
        }
      ]
    },
    {
      "cell_type": "code",
      "metadata": {
        "id": "IrK7aIihxaNn",
        "colab_type": "code",
        "colab": {}
      },
      "source": [
        "from sklearn.cluster import KMeans "
      ],
      "execution_count": 0,
      "outputs": []
    },
    {
      "cell_type": "markdown",
      "metadata": {
        "id": "iDU6wgfb69eu",
        "colab_type": "text"
      },
      "source": [
        "There are three ways to decide how many clusters we should have. The easiest is that we know how many to expect due to outside knowledge or the data is labeled (`target` has three labels in it, thus we know there should be 3 clusters). What are the other two ways to figure out how many clusters there should be?\n",
        "\n",
        "1. Determining the elbow using KMeans\n",
        "\n",
        "2. `Your Answer Here`"
      ]
    },
    {
      "cell_type": "markdown",
      "metadata": {
        "id": "KG9JmzHN7sKq",
        "colab_type": "text"
      },
      "source": [
        "Create an elbow plot to determine K."
      ]
    },
    {
      "cell_type": "code",
      "metadata": {
        "id": "meC181h971iK",
        "colab_type": "code",
        "colab": {}
      },
      "source": [
        "sum_of_squared_distances = []\n",
        "K = range(1,15)\n",
        "for k in K:\n",
        "    km = KMeans(n_clusters=k)\n",
        "    km = km.fit(iris_df)\n",
        "    sum_of_squared_distances.append(km.inertia_)"
      ],
      "execution_count": 0,
      "outputs": []
    },
    {
      "cell_type": "code",
      "metadata": {
        "id": "2iPF1J1oxL6p",
        "colab_type": "code",
        "colab": {
          "base_uri": "https://localhost:8080/",
          "height": 295
        },
        "outputId": "537e84b7-d57e-4305-a467-975d6c1e0058"
      },
      "source": [
        "plt.plot(K, sum_of_squared_distances, 'bx-')\n",
        "plt.xlabel('k')\n",
        "plt.ylabel('Sum_of_squared_distances')\n",
        "plt.title('Elbow Method For Optimal k')\n",
        "plt.show()"
      ],
      "execution_count": 85,
      "outputs": [
        {
          "output_type": "display_data",
          "data": {
            "image/png": "[encoded data removed]",
            "text/plain": [
              "<Figure size 432x288 with 1 Axes>"
            ]
          },
          "metadata": {
            "tags": []
          }
        }
      ]
    },
    {
      "cell_type": "markdown",
      "metadata": {
        "id": "hNjrAKfw72GB",
        "colab_type": "text"
      },
      "source": [
        "Perform clustering with K clusters."
      ]
    },
    {
      "cell_type": "code",
      "metadata": {
        "id": "WDE3lvkM8Aw0",
        "colab_type": "code",
        "colab": {
          "base_uri": "https://localhost:8080/",
          "height": 102
        },
        "outputId": "6c6a8184-66cd-4031-e350-5fd4487f2bd5"
      },
      "source": [
        "kmeans=KMeans(n_clusters=2)\n",
        "kmeans.fit(iris_df)\n",
        "labels = kmeans.labels_\n",
        "print(labels)"
      ],
      "execution_count": 86,
      "outputs": [
        {
          "output_type": "stream",
          "text": [
            "[1 1 1 1 1 1 1 1 1 1 1 1 1 1 1 1 1 1 1 1 1 1 1 1 1 1 1 1 1 1 1 1 1 1 1 1 1\n",
            " 1 1 1 1 1 1 1 1 1 1 1 1 1 0 0 0 0 0 0 0 1 0 0 0 0 0 0 0 0 0 0 0 0 0 0 0 0\n",
            " 0 0 0 0 0 0 0 0 0 0 0 0 0 0 0 0 0 0 0 1 0 0 0 0 1 0 0 0 0 0 0 0 0 0 0 0 0\n",
            " 0 0 0 0 0 0 0 0 0 0 0 0 0 0 0 0 0 0 0 0 0 0 0 0 0 0 0 0 0 0 0 0 0 0 0 0 0\n",
            " 0 0]\n"
          ],
          "name": "stdout"
        }
      ]
    },
    {
      "cell_type": "code",
      "metadata": {
        "id": "tCpT44Kt0DuR",
        "colab_type": "code",
        "colab": {
          "base_uri": "https://localhost:8080/",
          "height": 204
        },
        "outputId": "49cb7c97-a453-4326-945e-f4f34c295932"
      },
      "source": [
        "iris_df['clusters'] = pd.Series(labels)\n",
        "\n",
        "iris_df.head()"
      ],
      "execution_count": 87,
      "outputs": [
        {
          "output_type": "execute_result",
          "data": {
            "text/html": [
              "<div>\n",
              "<style scoped>\n",
              "    .dataframe tbody tr th:only-of-type {\n",
              "        vertical-align: middle;\n",
              "    }\n",
              "\n",
              "    .dataframe tbody tr th {\n",
              "        vertical-align: top;\n",
              "    }\n",
              "\n",
              "    .dataframe thead th {\n",
              "        text-align: right;\n",
              "    }\n",
              "</style>\n",
              "<table border=\"1\" class=\"dataframe\">\n",
              "  <thead>\n",
              "    <tr style=\"text-align: right;\">\n",
              "      <th></th>\n",
              "      <th>sepal length</th>\n",
              "      <th>sepal width</th>\n",
              "      <th>petal length</th>\n",
              "      <th>petal width</th>\n",
              "      <th>clusters</th>\n",
              "    </tr>\n",
              "  </thead>\n",
              "  <tbody>\n",
              "    <tr>\n",
              "      <th>0</th>\n",
              "      <td>5.1</td>\n",
              "      <td>3.5</td>\n",
              "      <td>1.4</td>\n",
              "      <td>0.2</td>\n",
              "      <td>1</td>\n",
              "    </tr>\n",
              "    <tr>\n",
              "      <th>1</th>\n",
              "      <td>4.9</td>\n",
              "      <td>3.0</td>\n",
              "      <td>1.4</td>\n",
              "      <td>0.2</td>\n",
              "      <td>1</td>\n",
              "    </tr>\n",
              "    <tr>\n",
              "      <th>2</th>\n",
              "      <td>4.7</td>\n",
              "      <td>3.2</td>\n",
              "      <td>1.3</td>\n",
              "      <td>0.2</td>\n",
              "      <td>1</td>\n",
              "    </tr>\n",
              "    <tr>\n",
              "      <th>3</th>\n",
              "      <td>4.6</td>\n",
              "      <td>3.1</td>\n",
              "      <td>1.5</td>\n",
              "      <td>0.2</td>\n",
              "      <td>1</td>\n",
              "    </tr>\n",
              "    <tr>\n",
              "      <th>4</th>\n",
              "      <td>5.0</td>\n",
              "      <td>3.6</td>\n",
              "      <td>1.4</td>\n",
              "      <td>0.2</td>\n",
              "      <td>1</td>\n",
              "    </tr>\n",
              "  </tbody>\n",
              "</table>\n",
              "</div>"
            ],
            "text/plain": [
              "   sepal length  sepal width  petal length  petal width  clusters\n",
              "0           5.1          3.5           1.4          0.2         1\n",
              "1           4.9          3.0           1.4          0.2         1\n",
              "2           4.7          3.2           1.3          0.2         1\n",
              "3           4.6          3.1           1.5          0.2         1\n",
              "4           5.0          3.6           1.4          0.2         1"
            ]
          },
          "metadata": {
            "tags": []
          },
          "execution_count": 87
        }
      ]
    },
    {
      "cell_type": "code",
      "metadata": {
        "id": "saD7NJM30ZsF",
        "colab_type": "code",
        "colab": {}
      },
      "source": [
        "# centroids function\n",
        "def get_centroids(df, column_header):\n",
        "  new_centroids = df.groupby(column_header).mean()\n",
        "  return new_centroids"
      ],
      "execution_count": 0,
      "outputs": []
    },
    {
      "cell_type": "code",
      "metadata": {
        "id": "BLCYAz5H0kIf",
        "colab_type": "code",
        "colab": {
          "base_uri": "https://localhost:8080/",
          "height": 142
        },
        "outputId": "d12fd8df-d485-4923-d18d-39b41a975fe1"
      },
      "source": [
        "# get centroids\n",
        "centroids = get_centroids(iris_df, 'clusters')\n",
        "centroids"
      ],
      "execution_count": 89,
      "outputs": [
        {
          "output_type": "execute_result",
          "data": {
            "text/html": [
              "<div>\n",
              "<style scoped>\n",
              "    .dataframe tbody tr th:only-of-type {\n",
              "        vertical-align: middle;\n",
              "    }\n",
              "\n",
              "    .dataframe tbody tr th {\n",
              "        vertical-align: top;\n",
              "    }\n",
              "\n",
              "    .dataframe thead th {\n",
              "        text-align: right;\n",
              "    }\n",
              "</style>\n",
              "<table border=\"1\" class=\"dataframe\">\n",
              "  <thead>\n",
              "    <tr style=\"text-align: right;\">\n",
              "      <th></th>\n",
              "      <th>sepal length</th>\n",
              "      <th>sepal width</th>\n",
              "      <th>petal length</th>\n",
              "      <th>petal width</th>\n",
              "    </tr>\n",
              "    <tr>\n",
              "      <th>clusters</th>\n",
              "      <th></th>\n",
              "      <th></th>\n",
              "      <th></th>\n",
              "      <th></th>\n",
              "    </tr>\n",
              "  </thead>\n",
              "  <tbody>\n",
              "    <tr>\n",
              "      <th>0</th>\n",
              "      <td>6.301031</td>\n",
              "      <td>2.886598</td>\n",
              "      <td>4.958763</td>\n",
              "      <td>1.695876</td>\n",
              "    </tr>\n",
              "    <tr>\n",
              "      <th>1</th>\n",
              "      <td>5.005660</td>\n",
              "      <td>3.360377</td>\n",
              "      <td>1.562264</td>\n",
              "      <td>0.288679</td>\n",
              "    </tr>\n",
              "  </tbody>\n",
              "</table>\n",
              "</div>"
            ],
            "text/plain": [
              "          sepal length  sepal width  petal length  petal width\n",
              "clusters                                                      \n",
              "0             6.301031     2.886598      4.958763     1.695876\n",
              "1             5.005660     3.360377      1.562264     0.288679"
            ]
          },
          "metadata": {
            "tags": []
          },
          "execution_count": 89
        }
      ]
    },
    {
      "cell_type": "code",
      "metadata": {
        "id": "Rn2MFWcG0rgu",
        "colab_type": "code",
        "colab": {
          "base_uri": "https://localhost:8080/",
          "height": 34
        },
        "outputId": "98133335-8189-40fb-bdff-cd5818cd1636"
      },
      "source": [
        "centroids.index.values"
      ],
      "execution_count": 90,
      "outputs": [
        {
          "output_type": "execute_result",
          "data": {
            "text/plain": [
              "array([0, 1])"
            ]
          },
          "metadata": {
            "tags": []
          },
          "execution_count": 90
        }
      ]
    },
    {
      "cell_type": "markdown",
      "metadata": {
        "id": "GfhkI5kq8BB2",
        "colab_type": "text"
      },
      "source": [
        "Plot your clusters with the centroids distinct and each cluster of points a different color."
      ]
    },
    {
      "cell_type": "code",
      "metadata": {
        "id": "SdCH5vo29diO",
        "colab_type": "code",
        "colab": {
          "base_uri": "https://localhost:8080/",
          "height": 265
        },
        "outputId": "53d38e6c-6217-43d2-bf0a-e3eb86b75552"
      },
      "source": [
        "plt.scatter(iris_df['sepal length'], iris_df['petal length'], c=iris_df['clusters']);\n"
      ],
      "execution_count": 91,
      "outputs": [
        {
          "output_type": "display_data",
          "data": {
            "image/png": "[encoded data removed]",
            "text/plain": [
              "<Figure size 432x288 with 1 Axes>"
            ]
          },
          "metadata": {
            "tags": []
          }
        }
      ]
    },
    {
      "cell_type": "code",
      "metadata": {
        "id": "PE85bWd906_Y",
        "colab_type": "code",
        "colab": {}
      },
      "source": [
        "# group by cluster\n",
        "cluster0 = iris_df[iris_df['clusters'] == 0]\n",
        "cluster1 = iris_df[iris_df['clusters'] == 1]"
      ],
      "execution_count": 0,
      "outputs": []
    },
    {
      "cell_type": "code",
      "metadata": {
        "id": "MdA-yFmk__D5",
        "colab_type": "code",
        "colab": {}
      },
      "source": [
        "# find x and y of centroids\n",
        "centroid0_x = cluster0['sepal length'].mean()\n",
        "centroid0_y = cluster0['petal length'].mean()\n",
        "centroid1_x = cluster1['sepal length'].mean()\n",
        "centroid1_y = cluster1['petal length'].mean()"
      ],
      "execution_count": 0,
      "outputs": []
    },
    {
      "cell_type": "code",
      "metadata": {
        "id": "uW9HtJ4OAFYN",
        "colab_type": "code",
        "colab": {
          "base_uri": "https://localhost:8080/",
          "height": 265
        },
        "outputId": "3518ec4a-f6fc-48d2-f53e-b77ec12e4e0d"
      },
      "source": [
        "# plot scatter with centroids \n",
        "plt.scatter(iris_df['sepal length'], iris_df['petal length'], c=iris_df['clusters'])\n",
        "plt.scatter([centroid0_x], [centroid0_y], c='r')\n",
        "plt.scatter([centroid1_x], [centroid1_y], c='b')\n",
        "\n",
        "\n",
        "plt.show()"
      ],
      "execution_count": 121,
      "outputs": [
        {
          "output_type": "display_data",
          "data": {
            "image/png": "[encoded data removed]",
            "text/plain": [
              "<Figure size 432x288 with 1 Axes>"
            ]
          },
          "metadata": {
            "tags": []
          }
        }
      ]
    },
    {
      "cell_type": "markdown",
      "metadata": {
        "id": "1wAVdZOiNS9E",
        "colab_type": "text"
      },
      "source": [
        "#Strech Goals\n"
      ]
    },
    {
      "cell_type": "code",
      "metadata": {
        "id": "VcOwTIBaNUyz",
        "colab_type": "code",
        "colab": {
          "base_uri": "https://localhost:8080/",
          "height": 248
        },
        "outputId": "be1c6bb4-2337-4148-e5a3-1d285c534710"
      },
      "source": [
        "from mpl_toolkits import mplot3d\n",
        "\n",
        "yellow = [0, 0, 0, 1, 3, 5]\n",
        "blue = [1, 4, 0, 4, 2, -1]\n",
        "red = [0, -1, 4, 3, 4, 2]\n",
        "\n",
        "\n",
        "vectors = np.array([blue, red, yellow])\n",
        "\n",
        "fig = plt.figure()\n",
        "ax = fig.gca(projection='3d')\n",
        "X, Y, Z, U, V, W = zip(*vectors)\n",
        "\n",
        "ax.quiver(X, Y, Z, U, V, W, length=.6)\n",
        "\n",
        "# labels and limits\n",
        "ax.set_xlim([-4, 5])\n",
        "ax.set_ylim([-4, 5])\n",
        "ax.set_zlim([-4, 5])\n",
        "ax.set_xlabel('X')\n",
        "ax.set_ylabel('Y')\n",
        "ax.set_zlabel('Z')\n",
        "plt.show()"
      ],
      "execution_count": 105,
      "outputs": [
        {
          "output_type": "display_data",
          "data": {
            "image/png": "[encoded data removed]",
            "text/plain": [
              "<Figure size 432x288 with 1 Axes>"
            ]
          },
          "metadata": {
            "tags": []
          }
        }
      ]
    },
    {
      "cell_type": "code",
      "metadata": {
        "id": "Dq7w6ZlxWI7n",
        "colab_type": "code",
        "colab": {
          "base_uri": "https://localhost:8080/",
          "height": 248
        },
        "outputId": "c95aad56-a5b4-427b-a4f4-a58fad849c07"
      },
      "source": [
        "fig = plt.figure()\n",
        "ax = plt.axes(projection='3d')\n",
        "ax.scatter(iris_df['petal length'], iris_df['sepal length'], iris_df['sepal width'], c=iris_df['clusters'], cmap='viridis', linewidth=0.5);\n",
        "\n"
      ],
      "execution_count": 113,
      "outputs": [
        {
          "output_type": "display_data",
          "data": {
            "image/png": "[encoded data removed]",
            "text/plain": [
              "<Figure size 432x288 with 1 Axes>"
            ]
          },
          "metadata": {
            "tags": []
          }
        }
      ]
    },
    {
      "cell_type": "code",
      "metadata": {
        "id": "LePXeQu3Wdxf",
        "colab_type": "code",
        "colab": {
          "base_uri": "https://localhost:8080/",
          "height": 281
        },
        "outputId": "c3e7f781-ead4-494a-de4e-88bb6f391612"
      },
      "source": [
        "# plotting for vectors one greater length\n",
        "vector1 = np.array([\n",
        "                    [-1, 3],\n",
        "                    [1, 3]\n",
        "                    ])\n",
        "\n",
        "plt.quiver(0,0, vector1[:,0], vector1[:,1], color=['r','b','g'], scale=13)\n",
        "\n",
        "plt.title('Vector 2D Example')\n",
        "plt.show()"
      ],
      "execution_count": 128,
      "outputs": [
        {
          "output_type": "display_data",
          "data": {
            "image/png": "[encoded data removed]",
            "text/plain": [
              "<Figure size 432x288 with 1 Axes>"
            ]
          },
          "metadata": {
            "tags": []
          }
        }
      ]
    },
    {
      "cell_type": "code",
      "metadata": {
        "id": "4--kBWfpZlEN",
        "colab_type": "code",
        "colab": {
          "base_uri": "https://localhost:8080/",
          "height": 51
        },
        "outputId": "ccafba90-6c60-4465-a2a2-aafe7a4f729e"
      },
      "source": [
        "from math import e, pi\n",
        "print(e)\n",
        "print(pi)"
      ],
      "execution_count": 136,
      "outputs": [
        {
          "output_type": "stream",
          "text": [
            "2.718281828459045\n",
            "3.141592653589793\n"
          ],
          "name": "stdout"
        }
      ]
    },
    {
      "cell_type": "code",
      "metadata": {
        "id": "GrUyBuAhZVJ9",
        "colab_type": "code",
        "colab": {
          "base_uri": "https://localhost:8080/",
          "height": 281
        },
        "outputId": "20ddff1d-79aa-4079-ecb8-0ebd9a9cbb38"
      },
      "source": [
        "# scaling vectors\n",
        "green = np.multiply(1.1, vector1)\n",
        "red = np.multiply(5, vector1)\n",
        "yellow = np.multiply(pi, vector1)\n",
        "blue = np.multiply(e, vector1)\n",
        "\n",
        "plt.quiver(0,0, vector1[:,0], vector1[:,1], color=['magenta','magenta'], scale=13)\n",
        "plt.quiver(0,0, green[:,0], green[:,1], color=['g','g'], scale=13)\n",
        "plt.quiver(0,0, yellow[:,0], yellow[:,1], color=['yellow','yellow'], scale=30)\n",
        "plt.quiver(0,0, red[:,0], red[:,1], color=['red','red'], scale=30)\n",
        "plt.quiver(0,0, blue[:,0], blue[:,1], color=['cyan','cyan'], scale=30)\n",
        "\n",
        "\n",
        "plt.xlim(-4,8)\n",
        "plt.ylim(-4,20)\n",
        "plt.title('Example of scaling vector plot')\n",
        "plt.show()"
      ],
      "execution_count": 138,
      "outputs": [
        {
          "output_type": "display_data",
          "data": {
            "image/png": "[encoded data removed]",
            "text/plain": [
              "<Figure size 432x288 with 1 Axes>"
            ]
          },
          "metadata": {
            "tags": []
          }
        }
      ]
    },
    {
      "cell_type": "code",
      "metadata": {
        "id": "zcBNwsESZyKB",
        "colab_type": "code",
        "colab": {}
      },
      "source": [
        "def scree_plot(pca):\n",
        "    '''\n",
        "    Creates a scree plot associated with the principal components \n",
        "    \n",
        "    INPUT: pca - the result of instantian of PCA in scikit learn\n",
        "            \n",
        "    OUTPUT:\n",
        "            None\n",
        "    '''\n",
        "    num_components=len(pca.explained_variance_ratio_)\n",
        "    ind = np.arange(num_components)\n",
        "    vals = pca.explained_variance_ratio_\n",
        " \n",
        "    plt.figure(figsize=(18, 6))\n",
        "    ax = plt.subplot(111)\n",
        "    cumvals = np.cumsum(vals)\n",
        "    ax.bar(ind, vals)\n",
        "    ax.plot(ind, cumvals)\n",
        "    for i in range(num_components):\n",
        "        ax.annotate(r\"%s\" % ((str(vals[i]*100)[:3])), (ind[i], vals[i]), va=\"bottom\", ha=\"center\", fontsize=4.5)\n",
        " \n",
        "    ax.xaxis.set_tick_params(width=0)\n",
        "    ax.yaxis.set_tick_params(width=2, length=12)\n",
        " \n",
        "    ax.set_xlabel(\"Principal Component\")\n",
        "    ax.set_ylabel(\"Variance Explained (%)\")\n",
        "    plt.title('Explained Variance Per Principal Component')"
      ],
      "execution_count": 0,
      "outputs": []
    },
    {
      "cell_type": "code",
      "metadata": {
        "id": "QycaQJqub8lF",
        "colab_type": "code",
        "colab": {}
      },
      "source": [
        "# determining rank\n",
        "\"\"\"\n",
        "M(1,2,3) = (3, 4, 5)\n",
        "N(1,2,3,4) = (4, 8)\n",
        "\n",
        "# There are 3 inputs and 3 independent outputs/dimensionalities for funciton m\n",
        "# There are 4 inputs and 2 independent outputs/dimensionalities for funciton n\n",
        "\"\"\"\n"
      ],
      "execution_count": 0,
      "outputs": []
    }
  ]
}