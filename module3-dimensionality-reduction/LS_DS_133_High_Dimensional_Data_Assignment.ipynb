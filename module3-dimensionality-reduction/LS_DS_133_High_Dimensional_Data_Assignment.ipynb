{
  "nbformat": 4,
  "nbformat_minor": 0,
  "metadata": {
    "colab": {
      "name": "LS_DS_133_High_Dimensional_Data_Assignment.ipynb",
      "provenance": [],
      "collapsed_sections": [
        "RQx7UvsucIrL"
      ],
      "include_colab_link": true
    },
    "kernelspec": {
      "name": "python3",
      "display_name": "Python 3"
    }
  },
  "cells": [
    {
      "cell_type": "markdown",
      "metadata": {
        "id": "view-in-github",
        "colab_type": "text"
      },
      "source": [
        "<a href=\"https://colab.research.google.com/github/Lolo-17/DS-Unit-1-Sprint-3-Linear-Algebra/blob/master/module3-dimensionality-reduction/LS_DS_133_High_Dimensional_Data_Assignment.ipynb\" target=\"_parent\"><img src=\"https://colab.research.google.com/assets/colab-badge.svg\" alt=\"Open In Colab\"/></a>"
      ]
    },
    {
      "cell_type": "code",
      "metadata": {
        "id": "nOouiTto7iiO",
        "colab_type": "code",
        "colab": {}
      },
      "source": [
        "# importing libraries\n",
        "import numpy as np\n",
        "import pandas as pd\n",
        "import math\n",
        "import matplotlib.pyplot as plt\n",
        "\n",
        "from urllib.request import urlopen\n",
        "from zipfile import ZipFile\n",
        "from io import BytesIO\n",
        "import os.path\n",
        "import matplotlib.pyplot as plt\n",
        "\n",
        "from sklearn.preprocessing import StandardScaler\n",
        "from sklearn.decomposition import PCA"
      ],
      "execution_count": 124,
      "outputs": []
    },
    {
      "cell_type": "markdown",
      "metadata": {
        "id": "7wMWCkE1RZpM",
        "colab_type": "text"
      },
      "source": [
        "# Vertical Line Test"
      ]
    },
    {
      "cell_type": "markdown",
      "metadata": {
        "id": "W0-g7aprRv2j",
        "colab_type": "text"
      },
      "source": [
        "## 1.1 Create two graphs, one that passes the vertical line test and one that does not."
      ]
    },
    {
      "cell_type": "code",
      "metadata": {
        "id": "HkGjP9piTVnQ",
        "colab_type": "code",
        "colab": {
          "base_uri": "https://localhost:8080/",
          "height": 265
        },
        "outputId": "d654ba25-2ef8-4f80-e230-cbecba72d02e"
      },
      "source": [
        "# Graph 1 - It passes vertical test\n",
        "x = [0,2,4,6,8]\n",
        "y = [0,2,4,6,8]\n",
        "\n",
        "plt.plot(x,y)\n",
        "plt.show()"
      ],
      "execution_count": null,
      "outputs": [
        {
          "output_type": "display_data",
          "data": {
            "image/png": "[encoded data removed]",
            "text/plain": [
              "<Figure size 432x288 with 1 Axes>"
            ]
          },
          "metadata": {
            "tags": [],
            "needs_background": "light"
          }
        }
      ]
    },
    {
      "cell_type": "code",
      "metadata": {
        "id": "4HVYS3JexGir",
        "colab_type": "code",
        "colab": {
          "base_uri": "https://localhost:8080/",
          "height": 265
        },
        "outputId": "c50de036-fd63-4b89-d1f4-f8355f6cc6da"
      },
      "source": [
        "# Graph 2 - It fails the vertical test\n",
        "x = [0,-2,2,6,6]\n",
        "y = [0,-2,4,6,8]\n",
        "\n",
        "plt.plot(x,y)\n",
        "plt.show()"
      ],
      "execution_count": null,
      "outputs": [
        {
          "output_type": "display_data",
          "data": {
            "image/png": "[encoded data removed]",
            "text/plain": [
              "<Figure size 432x288 with 1 Axes>"
            ]
          },
          "metadata": {
            "tags": [],
            "needs_background": "light"
          }
        }
      ]
    },
    {
      "cell_type": "markdown",
      "metadata": {
        "id": "ckeTKqMgRy7g",
        "colab_type": "text"
      },
      "source": [
        "## 1.2 Why are graphs that don't pass the vertical line test not considered \"functions?\""
      ]
    },
    {
      "cell_type": "markdown",
      "metadata": {
        "id": "le0Rv_cE3yPp",
        "colab_type": "text"
      },
      "source": [
        "Because a function has only one unique **x** input while **y** has one output."
      ]
    },
    {
      "cell_type": "markdown",
      "metadata": {
        "id": "g21uN62xSKSk",
        "colab_type": "text"
      },
      "source": [
        "# Functions as Relations"
      ]
    },
    {
      "cell_type": "markdown",
      "metadata": {
        "id": "gwkcV-EMSMNd",
        "colab_type": "text"
      },
      "source": [
        "## 2.1 Which of the following relations are functions? Why?\n",
        "\n",
        "\\begin{align}\n",
        "\\text{Relation 1: } \\{(1, 2), (3, 2), (1, 3)\\}\n",
        "\\\\\n",
        "\\text{Relation 2: } \\{(1, 3), (2, 3), (6, 7)\\}\n",
        "\\\\\n",
        "\\text{Relation 3: } \\{(9, 4), (2, 1), (9, 6)\\}\n",
        "\\\\\n",
        "\\text{Relation 4: } \\{(6, 2), (8, 3), (6, 4)\\}\n",
        "\\\\\n",
        "\\text{Relation 5: } \\{(2, 6), (2, 7), (2, 4)\\}\n",
        "\\end{align}"
      ]
    },
    {
      "cell_type": "markdown",
      "metadata": {
        "id": "wSXOAdyCuOO1",
        "colab_type": "text"
      },
      "source": [
        "**Relation 2 is a function because it passes the vertical test.**"
      ]
    },
    {
      "cell_type": "code",
      "metadata": {
        "id": "ez8oG44E5Bua",
        "colab_type": "code",
        "colab": {}
      },
      "source": [
        "R1x = [1,3,1]\n",
        "R1y = [2,2,3]\n",
        "plt.plot(R1x,R1y)\n",
        "plt.show()"
      ],
      "execution_count": null,
      "outputs": []
    },
    {
      "cell_type": "code",
      "metadata": {
        "id": "cWT-4yIj5fgE",
        "colab_type": "code",
        "colab": {}
      },
      "source": [
        "R2x = [1,2,6]\n",
        "R2y = [3,3,7]\n",
        "plt.plot(R2x,R2y)\n",
        "plt.show()"
      ],
      "execution_count": null,
      "outputs": []
    },
    {
      "cell_type": "code",
      "metadata": {
        "id": "nS34fkJy5sZr",
        "colab_type": "code",
        "colab": {}
      },
      "source": [
        "R3x = [9,2,9]\n",
        "R3y = [4,1,6]\n",
        "plt.plot(R3x,R3y)\n",
        "plt.show()"
      ],
      "execution_count": null,
      "outputs": []
    },
    {
      "cell_type": "code",
      "metadata": {
        "id": "YfYCu5zU5ywL",
        "colab_type": "code",
        "colab": {}
      },
      "source": [
        "R4x = [6,8,6]\n",
        "R4y = [2,3,4]\n",
        "plt.plot(R4x,R4y)\n",
        "plt.show()"
      ],
      "execution_count": null,
      "outputs": []
    },
    {
      "cell_type": "code",
      "metadata": {
        "id": "gBLRKhbX5z2L",
        "colab_type": "code",
        "colab": {}
      },
      "source": [
        "R5x = [2,2,2]\n",
        "R5y = [6,7,4]\n",
        "plt.plot(R5x,R5y)\n",
        "plt.show()"
      ],
      "execution_count": null,
      "outputs": []
    },
    {
      "cell_type": "markdown",
      "metadata": {
        "id": "y0U30PrlTAAa",
        "colab_type": "text"
      },
      "source": [
        "# Functions as a mapping between dimensions\n"
      ]
    },
    {
      "cell_type": "markdown",
      "metadata": {
        "id": "pw-OU9qmT5Ua",
        "colab_type": "text"
      },
      "source": [
        "## 3.1 for the following functions what is the dimensionality of the domain (input) and codomain (range/output)?\n",
        "\n",
        "\\begin{align}\n",
        "m(𝑥_1,𝑥_2,𝑥_3)=(x_1+x_2, x_1+x_3, x_2+x_3)\n",
        "\\\\\n",
        "n(𝑥_1,𝑥_2,𝑥_3,𝑥_4)=(x_2^2 + x_3, x_2x_4)\n",
        "\\end{align}"
      ]
    },
    {
      "cell_type": "markdown",
      "metadata": {
        "id": "5_gGLqQG7uVy",
        "colab_type": "text"
      },
      "source": [
        "Function **m** has 3 dimensions and function **n** has 4 dimensions. So, **m**\n",
        "\n",
        "has 3 outputs and **n** has 2 output."
      ]
    },
    {
      "cell_type": "markdown",
      "metadata": {
        "id": "k4tKHjdHUevC",
        "colab_type": "text"
      },
      "source": [
        "## 3.2 Do you think it's possible to create a function that maps from a lower dimensional space to a higher dimensional space? If so, provide an example."
      ]
    },
    {
      "cell_type": "markdown",
      "metadata": {
        "id": "ypE_ejsG-4Gb",
        "colab_type": "text"
      },
      "source": [
        "No. If a function is made with one input, we can't simply add another\n",
        "\n",
        "input. We need to create another function with two inputs in order to\n",
        "\n",
        "go to higher dimensions."
      ]
    },
    {
      "cell_type": "markdown",
      "metadata": {
        "id": "2nEWvwVyVWdW",
        "colab_type": "text"
      },
      "source": [
        "# Vector Transformations"
      ]
    },
    {
      "cell_type": "markdown",
      "metadata": {
        "id": "1n0-6FsYVcVk",
        "colab_type": "text"
      },
      "source": [
        "## 4.1 Plug the corresponding unit vectors into each function. Use the output vectors to create a transformation matrix.\n",
        "\n",
        "\\begin{align}\n",
        "p(\\begin{bmatrix}x_1 \\\\ x_2 \\end{bmatrix}) = \\begin{bmatrix} x_1 + 3x_2 \\\\2 x_2 - x_1 \\\\  \\end{bmatrix}\n",
        "\\\\\n",
        "\\\\\n",
        "q(\\begin{bmatrix}x_1 \\\\ x_2 \\\\ x_3\\end{bmatrix}) = \\begin{bmatrix} 4x_1 + x_2 + 2x_3 \\\\2 x_2 - x_1 + 3x_3 \\\\ 5x_1 - 2x_3 + x_2  \\end{bmatrix}\n",
        "\\end{align}"
      ]
    },
    {
      "cell_type": "markdown",
      "metadata": {
        "id": "n5HUOQIxZ2gp",
        "colab_type": "text"
      },
      "source": [
        "## 4.2 Verify that your transformation matrices are correct by choosing an input matrix and calculating the result both via the traditional functions above and also via vector-matrix multiplication."
      ]
    },
    {
      "cell_type": "markdown",
      "metadata": {
        "id": "SKYTjSl0A-es",
        "colab_type": "text"
      },
      "source": [
        "**Vector #1**\n",
        "\n",
        "\\begin{align}\n",
        "p(\\begin{bmatrix}x_1 \\\\ x_2 \\end{bmatrix}) = \\begin{bmatrix} x_1 + 3x_2 \\\\-x_1+2x_2\\\\  \\end{bmatrix}\\end{align}\n",
        "\\\n",
        "\\begin{align}\n",
        "p(\\begin{bmatrix}1 \\\\ 0 \\end{bmatrix}) = \\begin{bmatrix} 1 + 3(0) \\\\-(1) + 2(0) \\\\  \\end{bmatrix} = \\begin{bmatrix}1 \\\\-1 \\end{bmatrix}\\end{align}\n",
        "\\\n",
        "\\begin{align}\n",
        "p(\\begin{bmatrix}0 \\\\ 1 \\end{bmatrix}) = \\begin{bmatrix} 0 + 3(1) \\\\-(0) + 2(1) \\\\  \\end{bmatrix} = \\begin{bmatrix} 3\\\\ 2 \\end{bmatrix}\\end{align}\n",
        "\\\n",
        "\\begin{align}\n",
        "\\begin{bmatrix} 1 & 3\\\\ -1 & 2\\end{bmatrix}\\begin{bmatrix} x_1 \\\\ x_2\\end{bmatrix}= \\begin{bmatrix} x_1 + 3x_2\\\\ -x_1 + 2x_2\\end{bmatrix}\n",
        " \\end{align}"
      ]
    },
    {
      "cell_type": "markdown",
      "metadata": {
        "id": "fGPWGBGeNetP",
        "colab_type": "text"
      },
      "source": [
        "**Vector #2**\n",
        "\n",
        "\\begin{align}\n",
        "q(\\begin{bmatrix}x_1 \\\\ x_2 \\\\ x_3\\end{bmatrix}) = \\begin{bmatrix} 4x_1 + x_2 + 2x_3 \\\\  -x_1 +2 x_2 + 3x_3 \\\\ 5x_1 + x_2 - 2x_3 \\end{bmatrix}\n",
        "\\end{align}\n",
        "\\\n",
        "\\begin{align}\n",
        "q(\\begin{bmatrix}1 \\\\ 0 \\\\ 0\\end{bmatrix}) = \\begin{bmatrix} 4(1) + 0 + 2(0) \\\\  -1 + 2(0) + 3(0) \\\\ 5(1) + 0 - 2(0) \\end{bmatrix}=\\begin{bmatrix}4\\\\-1\\\\5\n",
        "\\end{bmatrix}\n",
        "\\end{align}\n",
        "\\\n",
        "\\begin{align}\n",
        "q(\\begin{bmatrix}0 \\\\ 1 \\\\ 0\\end{bmatrix}) = \\begin{bmatrix} 4(0) + 1 + 2(0) \\\\  -(0) +2(1)  + 3(0) \\\\ 5(0) + 1 - 2(0) \\end{bmatrix}=\\begin{bmatrix}1\\\\2\\\\1\n",
        "\\end{bmatrix}\n",
        "\\end{align}\n",
        "\\\n",
        "\\begin{align}\n",
        "q(\\begin{bmatrix}0 \\\\ 0 \\\\ 1\\end{bmatrix}) = \\begin{bmatrix} 4(0) + 0 + 2(1) \\\\  -(0) +2(0) + 3(1) \\\\ 5(0) + 0 - 2(1) \\end{bmatrix}=\\begin{bmatrix}2\\\\3\\\\-2\n",
        "\\end{bmatrix}\n",
        "\\end{align}\n",
        "\\\n",
        "\\begin{align}\n",
        "\\begin{bmatrix} 4&1&2\\\\-1&2&3\\\\5&1&-2\\end{bmatrix}\\begin{bmatrix}x_1\\\\x_2\\\\x_3\\end{bmatrix}= \\begin{bmatrix}4x_1+x_2+2x_3\\\\-x_1+2x_2+3x_3\\\\5x_1+x_2-2x_3\\end{bmatrix}\n",
        " \\end{align}"
      ]
    },
    {
      "cell_type": "markdown",
      "metadata": {
        "id": "vEoiri3mak7j",
        "colab_type": "text"
      },
      "source": [
        "# Eigenvalues and Eigenvectors"
      ]
    },
    {
      "cell_type": "markdown",
      "metadata": {
        "id": "5HY0R4u7anIr",
        "colab_type": "text"
      },
      "source": [
        "## 5.1 In your own words, give an explanation for the intuition behind eigenvalues and eigenvectors."
      ]
    },
    {
      "cell_type": "markdown",
      "metadata": {
        "id": "Y7NCZPvXZGdH",
        "colab_type": "text"
      },
      "source": [
        "An eigenvector is any vector that doesn't change its orientation during a given transformation, but an eigenvector might still get scaled by some scalar. It can get stretched or squished, it just can't change the direction in which it is pointing. An eigenvalue is the scalar that represents how its corresponding eigenvector was scaled during the transformation. Eigenvectors and eigenvalues always come in pairs."
      ]
    },
    {
      "cell_type": "markdown",
      "metadata": {
        "id": "VdehMwBtatKI",
        "colab_type": "text"
      },
      "source": [
        "# The Curse of Dimensionality"
      ]
    },
    {
      "cell_type": "markdown",
      "metadata": {
        "id": "4oVrJax-a3SK",
        "colab_type": "text"
      },
      "source": [
        "## 6.1 What are some of the challenges of working with high dimensional spaces?"
      ]
    },
    {
      "cell_type": "markdown",
      "metadata": {
        "id": "alSz2s7DZjqx",
        "colab_type": "text"
      },
      "source": [
        "The challenges are working with large amount of datasets and it's difficult\n",
        "\n",
        "to explore data and visualize."
      ]
    },
    {
      "cell_type": "markdown",
      "metadata": {
        "id": "ZiBJxsZla88c",
        "colab_type": "text"
      },
      "source": [
        "## 6.2 What is the rule of thumb for how many observations you should have compared to parameters in your model?"
      ]
    },
    {
      "cell_type": "markdown",
      "metadata": {
        "id": "ZmwbIZP4bANk",
        "colab_type": "text"
      },
      "source": [
        "Have 5 times the number of observations as you have parameters in your model."
      ]
    },
    {
      "cell_type": "markdown",
      "metadata": {
        "id": "NZmqdeygbHJx",
        "colab_type": "text"
      },
      "source": [
        "# Principal Component Analysis"
      ]
    },
    {
      "cell_type": "markdown",
      "metadata": {
        "id": "7iEheetpbJdN",
        "colab_type": "text"
      },
      "source": [
        "## 7.1 Code for loading and cleaning the 2013 national dataset from the [Housing Affordability Data System (HADS)](https://www.huduser.gov/portal/datasets/hads/hads.html) --housing data, can be found below. \n",
        "\n",
        "## Perform PCA on the processed dataset `national_processed` (Make sure you standardize your data!) and then make a scatterplot of PC1 against PC2. Some of our discussion and work around PCA with this dataset will continue during tomorrow's lecture and assignment.\n",
        "\n",
        "Not only does this dataset have decent amount columns to begin with (99), but in preparing the data for PCA we have also [one-hot-encoded](https://hackernoon.com/what-is-one-hot-encoding-why-and-when-do-you-have-to-use-it-e3c6186d008f#targetText=One%20hot%20encoding%20is%20a,the%20entry%20in%20the%20dataset.) all of the categorical variables. This has the effect of creating a new column for each individual category of each categorical variable. After processing this dataset has 64738 columns. --Das a lot of columns.\n",
        "\n",
        "Don't worry too much about the mechanics of one-hot encoding right now, you will learn and experiment with a whole bunch of categorical encoding approaches in unit 2. \n",
        "\n",
        "The code below will read in the dataset and perform the one-hot encoding of the categorical variables. Start adding your PCA code at the bottom of the provided code."
      ]
    },
    {
      "cell_type": "code",
      "metadata": {
        "id": "Us4nNFs02HlD",
        "colab_type": "code",
        "colab": {}
      },
      "source": [
        "# Read National Data \n",
        "national_url = 'https://www.huduser.gov/portal/datasets/hads/hads2013n_ASCII.zip'\n",
        "national_file = 'thads2013n.txt'\n",
        "\n",
        "if os.path.exists(national_file):\n",
        "    national = pd.read_csv(national_file)\n",
        "else: \n",
        "    z_national = urlopen(national_url)\n",
        "    zip_national = ZipFile(BytesIO(z_national.read())).extract(national_file)\n",
        "    national = pd.read_csv(zip_national)\n",
        "\n",
        "print(national.shape)\n",
        "national.head()"
      ],
      "execution_count": null,
      "outputs": []
    },
    {
      "cell_type": "code",
      "metadata": {
        "id": "O5zrMTud2qFU",
        "colab_type": "code",
        "colab": {}
      },
      "source": [
        "# Look at datatypes\n",
        "# a lot of object datatypes even though they seem to be strings of numbers.\n",
        "national.dtypes"
      ],
      "execution_count": null,
      "outputs": []
    },
    {
      "cell_type": "code",
      "metadata": {
        "id": "yIrOjVmd2yLz",
        "colab_type": "code",
        "colab": {}
      },
      "source": [
        "# check for null values\n",
        "national.isnull().sum().any()"
      ],
      "execution_count": null,
      "outputs": []
    },
    {
      "cell_type": "code",
      "metadata": {
        "id": "2u9tdmwX3KL_",
        "colab_type": "code",
        "colab": {}
      },
      "source": [
        "# check for number of categorical vs numeric columns\n",
        "cat_cols = national.columns[national.dtypes=='object']\n",
        "num_cols = national.columns[national.dtypes!='object']\n",
        "\n",
        "print(f'{len(cat_cols)} categorical columns')\n",
        "print(f'{len(num_cols)} numerical columns')"
      ],
      "execution_count": null,
      "outputs": []
    },
    {
      "cell_type": "code",
      "metadata": {
        "id": "UMHOtOs_3gcL",
        "colab_type": "code",
        "colab": {}
      },
      "source": [
        "# We're making a copy of our data in case we mess something up.\n",
        "national_processed = national.copy()\n",
        "\n",
        "# Categorically Encode our Variables:\n",
        "# They need to all be numeric before we do PCA.\n",
        "# https://pbpython.com/categorical-encoding.html\n",
        "\n",
        "# Cast categorical columns to \"category\" data type\n",
        "national_processed[cat_cols] = national_processed[cat_cols].astype('category')\n",
        "\n",
        "national_processed.dtypes"
      ],
      "execution_count": null,
      "outputs": []
    },
    {
      "cell_type": "code",
      "metadata": {
        "id": "ymxU-aPtQ1eq",
        "colab_type": "code",
        "colab": {}
      },
      "source": [
        "# Replace all category cell values with their numeric category codes\n",
        "for col in cat_cols:\n",
        "  national_processed[col] = national_processed[col].cat.codes\n",
        "\n",
        "print(national_processed.shape)\n",
        "national_processed.head()"
      ],
      "execution_count": null,
      "outputs": []
    },
    {
      "cell_type": "code",
      "metadata": {
        "id": "6NS5AQpcQ8Je",
        "colab_type": "code",
        "colab": {}
      },
      "source": [
        "# Now we only have numeric columns (ints and floats)\n",
        "national_processed.dtypes"
      ],
      "execution_count": null,
      "outputs": []
    },
    {
      "cell_type": "code",
      "metadata": {
        "id": "_UnL0980fZj1",
        "colab_type": "code",
        "colab": {}
      },
      "source": [
        "# Creating 99 PCA columns\n",
        "nums = list(range(1,100))\n",
        "pc = 'PC'\n",
        "for v in nums:\n",
        "  print(\"'\",pc,v,\"'\",\",\",sep='')"
      ],
      "execution_count": null,
      "outputs": []
    },
    {
      "cell_type": "code",
      "metadata": {
        "id": "WAJ8bjVcEwhA",
        "colab_type": "code",
        "colab": {
          "base_uri": "https://localhost:8080/",
          "height": 328
        },
        "outputId": "cc180fc8-dc9f-4eab-a8e8-10d148ff3c5e"
      },
      "source": [
        "# Performing PCA\n",
        "\n",
        "# Standardize our Data\n",
        "scaler = StandardScaler()\n",
        "Z = scaler.fit_transform(national_processed)\n",
        "\n",
        "# Extract new features with PCA\n",
        "pca = PCA()\n",
        "new_features = pca.fit_transform(Z)\n",
        "# Turn our new_features into a dataframe\n",
        "new_features = pd.DataFrame(new_features)\n",
        "new_features.columns = ['PC1','PC2','PC3','PC4','PC5','PC6','PC7','PC8','PC9','PC10','PC11','PC12',\n",
        "                        'PC13','PC14','PC15','PC16','PC17','PC18','PC19','PC20','PC21','PC22','PC23',\n",
        "                        'PC24','PC25','PC26','PC27','PC28','PC29','PC30','PC31','PC32','PC33','PC34',\n",
        "                        'PC35','PC36','PC37','PC38','PC39','PC40','PC41','PC42','PC43','PC44','PC45',\n",
        "                        'PC46','PC47','PC48','PC49','PC50','PC51','PC52','PC53','PC54','PC55','PC56',\n",
        "                        'PC57','PC58','PC59','PC60','PC61','PC62','PC63','PC64','PC65','PC66','PC67',\n",
        "                        'PC68','PC69','PC70','PC71','PC72','PC73','PC74','PC75','PC76','PC77','PC78',\n",
        "                        'PC79','PC80','PC81','PC82','PC83','PC84','PC85','PC86','PC87','PC88','PC89',\n",
        "                        'PC90','PC91','PC92','PC93','PC94','PC95','PC96','PC97','PC98','PC99',]\n",
        "new_features.head()"
      ],
      "execution_count": 157,
      "outputs": [
        {
          "output_type": "execute_result",
          "data": {
            "text/html": [
              "<div>\n",
              "<style scoped>\n",
              "    .dataframe tbody tr th:only-of-type {\n",
              "        vertical-align: middle;\n",
              "    }\n",
              "\n",
              "    .dataframe tbody tr th {\n",
              "        vertical-align: top;\n",
              "    }\n",
              "\n",
              "    .dataframe thead th {\n",
              "        text-align: right;\n",
              "    }\n",
              "</style>\n",
              "<table border=\"1\" class=\"dataframe\">\n",
              "  <thead>\n",
              "    <tr style=\"text-align: right;\">\n",
              "      <th></th>\n",
              "      <th>PC1</th>\n",
              "      <th>PC2</th>\n",
              "      <th>PC3</th>\n",
              "      <th>PC4</th>\n",
              "      <th>PC5</th>\n",
              "      <th>PC6</th>\n",
              "      <th>PC7</th>\n",
              "      <th>PC8</th>\n",
              "      <th>PC9</th>\n",
              "      <th>PC10</th>\n",
              "      <th>PC11</th>\n",
              "      <th>PC12</th>\n",
              "      <th>PC13</th>\n",
              "      <th>PC14</th>\n",
              "      <th>PC15</th>\n",
              "      <th>PC16</th>\n",
              "      <th>PC17</th>\n",
              "      <th>PC18</th>\n",
              "      <th>PC19</th>\n",
              "      <th>PC20</th>\n",
              "      <th>PC21</th>\n",
              "      <th>PC22</th>\n",
              "      <th>PC23</th>\n",
              "      <th>PC24</th>\n",
              "      <th>PC25</th>\n",
              "      <th>PC26</th>\n",
              "      <th>PC27</th>\n",
              "      <th>PC28</th>\n",
              "      <th>PC29</th>\n",
              "      <th>PC30</th>\n",
              "      <th>PC31</th>\n",
              "      <th>PC32</th>\n",
              "      <th>PC33</th>\n",
              "      <th>PC34</th>\n",
              "      <th>PC35</th>\n",
              "      <th>PC36</th>\n",
              "      <th>PC37</th>\n",
              "      <th>PC38</th>\n",
              "      <th>PC39</th>\n",
              "      <th>PC40</th>\n",
              "      <th>...</th>\n",
              "      <th>PC60</th>\n",
              "      <th>PC61</th>\n",
              "      <th>PC62</th>\n",
              "      <th>PC63</th>\n",
              "      <th>PC64</th>\n",
              "      <th>PC65</th>\n",
              "      <th>PC66</th>\n",
              "      <th>PC67</th>\n",
              "      <th>PC68</th>\n",
              "      <th>PC69</th>\n",
              "      <th>PC70</th>\n",
              "      <th>PC71</th>\n",
              "      <th>PC72</th>\n",
              "      <th>PC73</th>\n",
              "      <th>PC74</th>\n",
              "      <th>PC75</th>\n",
              "      <th>PC76</th>\n",
              "      <th>PC77</th>\n",
              "      <th>PC78</th>\n",
              "      <th>PC79</th>\n",
              "      <th>PC80</th>\n",
              "      <th>PC81</th>\n",
              "      <th>PC82</th>\n",
              "      <th>PC83</th>\n",
              "      <th>PC84</th>\n",
              "      <th>PC85</th>\n",
              "      <th>PC86</th>\n",
              "      <th>PC87</th>\n",
              "      <th>PC88</th>\n",
              "      <th>PC89</th>\n",
              "      <th>PC90</th>\n",
              "      <th>PC91</th>\n",
              "      <th>PC92</th>\n",
              "      <th>PC93</th>\n",
              "      <th>PC94</th>\n",
              "      <th>PC95</th>\n",
              "      <th>PC96</th>\n",
              "      <th>PC97</th>\n",
              "      <th>PC98</th>\n",
              "      <th>PC99</th>\n",
              "    </tr>\n",
              "  </thead>\n",
              "  <tbody>\n",
              "    <tr>\n",
              "      <th>0</th>\n",
              "      <td>-2.576570</td>\n",
              "      <td>-1.376127</td>\n",
              "      <td>-1.253835</td>\n",
              "      <td>-0.619882</td>\n",
              "      <td>1.592855</td>\n",
              "      <td>-2.529629</td>\n",
              "      <td>-1.024384</td>\n",
              "      <td>2.038971</td>\n",
              "      <td>0.743631</td>\n",
              "      <td>-0.981357</td>\n",
              "      <td>-0.958024</td>\n",
              "      <td>-0.983633</td>\n",
              "      <td>-0.124320</td>\n",
              "      <td>2.130272</td>\n",
              "      <td>-0.232511</td>\n",
              "      <td>-1.259668</td>\n",
              "      <td>-1.811215</td>\n",
              "      <td>0.800230</td>\n",
              "      <td>0.157496</td>\n",
              "      <td>0.057891</td>\n",
              "      <td>0.076233</td>\n",
              "      <td>-0.303851</td>\n",
              "      <td>0.234631</td>\n",
              "      <td>0.311692</td>\n",
              "      <td>1.414847</td>\n",
              "      <td>0.665575</td>\n",
              "      <td>0.206075</td>\n",
              "      <td>0.297168</td>\n",
              "      <td>-0.885343</td>\n",
              "      <td>-1.100812</td>\n",
              "      <td>0.017568</td>\n",
              "      <td>-0.296827</td>\n",
              "      <td>-0.045226</td>\n",
              "      <td>0.328718</td>\n",
              "      <td>-0.227059</td>\n",
              "      <td>-0.206567</td>\n",
              "      <td>0.105183</td>\n",
              "      <td>0.209632</td>\n",
              "      <td>-0.452949</td>\n",
              "      <td>0.487132</td>\n",
              "      <td>...</td>\n",
              "      <td>-0.022755</td>\n",
              "      <td>-0.005380</td>\n",
              "      <td>0.017097</td>\n",
              "      <td>0.017509</td>\n",
              "      <td>0.007771</td>\n",
              "      <td>-0.001771</td>\n",
              "      <td>-0.005635</td>\n",
              "      <td>0.002438</td>\n",
              "      <td>0.000044</td>\n",
              "      <td>-1.555674e-12</td>\n",
              "      <td>-2.275710e-12</td>\n",
              "      <td>-7.244823e-12</td>\n",
              "      <td>-2.792285e-12</td>\n",
              "      <td>1.391321e-13</td>\n",
              "      <td>2.899610e-12</td>\n",
              "      <td>-1.398466e-12</td>\n",
              "      <td>5.030034e-12</td>\n",
              "      <td>-1.453494e-12</td>\n",
              "      <td>-7.971580e-15</td>\n",
              "      <td>-8.595370e-16</td>\n",
              "      <td>1.397316e-15</td>\n",
              "      <td>-4.201700e-15</td>\n",
              "      <td>-2.629575e-15</td>\n",
              "      <td>1.662437e-15</td>\n",
              "      <td>2.281487e-16</td>\n",
              "      <td>-8.200807e-15</td>\n",
              "      <td>7.638178e-15</td>\n",
              "      <td>2.129641e-15</td>\n",
              "      <td>1.126562e-15</td>\n",
              "      <td>4.763201e-15</td>\n",
              "      <td>-1.111901e-15</td>\n",
              "      <td>1.643459e-15</td>\n",
              "      <td>-2.481185e-15</td>\n",
              "      <td>1.627337e-15</td>\n",
              "      <td>4.206682e-16</td>\n",
              "      <td>2.517816e-15</td>\n",
              "      <td>4.136666e-15</td>\n",
              "      <td>6.081237e-15</td>\n",
              "      <td>-5.551242e-16</td>\n",
              "      <td>-7.942743e-16</td>\n",
              "    </tr>\n",
              "    <tr>\n",
              "      <th>1</th>\n",
              "      <td>2.040643</td>\n",
              "      <td>-0.988061</td>\n",
              "      <td>-2.237999</td>\n",
              "      <td>-2.987403</td>\n",
              "      <td>2.160320</td>\n",
              "      <td>1.220875</td>\n",
              "      <td>1.076368</td>\n",
              "      <td>-0.681369</td>\n",
              "      <td>0.948055</td>\n",
              "      <td>-0.182382</td>\n",
              "      <td>-0.690309</td>\n",
              "      <td>0.670541</td>\n",
              "      <td>-0.312950</td>\n",
              "      <td>0.160716</td>\n",
              "      <td>0.063940</td>\n",
              "      <td>-0.032742</td>\n",
              "      <td>-1.310611</td>\n",
              "      <td>-0.029583</td>\n",
              "      <td>-0.320912</td>\n",
              "      <td>-1.213295</td>\n",
              "      <td>0.082541</td>\n",
              "      <td>-0.438037</td>\n",
              "      <td>-0.140961</td>\n",
              "      <td>-0.417153</td>\n",
              "      <td>0.129375</td>\n",
              "      <td>-0.373254</td>\n",
              "      <td>0.162462</td>\n",
              "      <td>0.426850</td>\n",
              "      <td>-0.294672</td>\n",
              "      <td>1.196620</td>\n",
              "      <td>0.034442</td>\n",
              "      <td>0.739189</td>\n",
              "      <td>-0.334534</td>\n",
              "      <td>-0.349723</td>\n",
              "      <td>-0.051191</td>\n",
              "      <td>0.107043</td>\n",
              "      <td>0.952603</td>\n",
              "      <td>0.199457</td>\n",
              "      <td>0.022768</td>\n",
              "      <td>0.199969</td>\n",
              "      <td>...</td>\n",
              "      <td>-0.065489</td>\n",
              "      <td>0.030766</td>\n",
              "      <td>-0.021506</td>\n",
              "      <td>-0.014176</td>\n",
              "      <td>0.010088</td>\n",
              "      <td>0.000578</td>\n",
              "      <td>-0.010665</td>\n",
              "      <td>-0.002009</td>\n",
              "      <td>-0.000083</td>\n",
              "      <td>1.985665e-11</td>\n",
              "      <td>1.697024e-11</td>\n",
              "      <td>-1.820959e-11</td>\n",
              "      <td>-4.569093e-12</td>\n",
              "      <td>-8.943151e-12</td>\n",
              "      <td>-1.002888e-11</td>\n",
              "      <td>3.043135e-12</td>\n",
              "      <td>-1.867900e-12</td>\n",
              "      <td>-7.525301e-12</td>\n",
              "      <td>-1.236942e-13</td>\n",
              "      <td>-2.811725e-14</td>\n",
              "      <td>-2.859341e-15</td>\n",
              "      <td>-1.245108e-14</td>\n",
              "      <td>6.380007e-15</td>\n",
              "      <td>-3.271522e-14</td>\n",
              "      <td>6.700829e-14</td>\n",
              "      <td>3.538613e-14</td>\n",
              "      <td>-3.039974e-14</td>\n",
              "      <td>-1.604190e-14</td>\n",
              "      <td>-5.531218e-15</td>\n",
              "      <td>7.315701e-15</td>\n",
              "      <td>-9.227129e-15</td>\n",
              "      <td>-2.709105e-15</td>\n",
              "      <td>-3.293959e-15</td>\n",
              "      <td>4.693389e-15</td>\n",
              "      <td>-3.784732e-15</td>\n",
              "      <td>7.904892e-15</td>\n",
              "      <td>-1.024321e-14</td>\n",
              "      <td>-7.866356e-15</td>\n",
              "      <td>-6.322116e-16</td>\n",
              "      <td>-2.619343e-16</td>\n",
              "    </tr>\n",
              "    <tr>\n",
              "      <th>2</th>\n",
              "      <td>1.215270</td>\n",
              "      <td>0.370168</td>\n",
              "      <td>-3.248606</td>\n",
              "      <td>-2.123899</td>\n",
              "      <td>1.229951</td>\n",
              "      <td>-2.559945</td>\n",
              "      <td>0.984291</td>\n",
              "      <td>0.088488</td>\n",
              "      <td>-0.209300</td>\n",
              "      <td>-0.715159</td>\n",
              "      <td>-0.243996</td>\n",
              "      <td>1.168680</td>\n",
              "      <td>-0.136100</td>\n",
              "      <td>0.491252</td>\n",
              "      <td>0.358669</td>\n",
              "      <td>-0.462415</td>\n",
              "      <td>-1.494570</td>\n",
              "      <td>0.114951</td>\n",
              "      <td>-0.160159</td>\n",
              "      <td>-0.889462</td>\n",
              "      <td>0.678651</td>\n",
              "      <td>-0.002222</td>\n",
              "      <td>0.162761</td>\n",
              "      <td>-0.738769</td>\n",
              "      <td>-0.844579</td>\n",
              "      <td>0.332651</td>\n",
              "      <td>-0.014602</td>\n",
              "      <td>0.525549</td>\n",
              "      <td>-0.134705</td>\n",
              "      <td>0.832489</td>\n",
              "      <td>-0.366875</td>\n",
              "      <td>0.429854</td>\n",
              "      <td>-0.639612</td>\n",
              "      <td>-0.112777</td>\n",
              "      <td>-0.114059</td>\n",
              "      <td>0.258893</td>\n",
              "      <td>0.974611</td>\n",
              "      <td>0.167855</td>\n",
              "      <td>0.177374</td>\n",
              "      <td>-0.033658</td>\n",
              "      <td>...</td>\n",
              "      <td>-0.037108</td>\n",
              "      <td>0.019828</td>\n",
              "      <td>-0.032203</td>\n",
              "      <td>0.003294</td>\n",
              "      <td>0.006182</td>\n",
              "      <td>0.000272</td>\n",
              "      <td>-0.008307</td>\n",
              "      <td>0.000210</td>\n",
              "      <td>0.000053</td>\n",
              "      <td>-3.011104e-11</td>\n",
              "      <td>-3.448156e-11</td>\n",
              "      <td>-2.696771e-12</td>\n",
              "      <td>-1.342672e-11</td>\n",
              "      <td>3.055270e-11</td>\n",
              "      <td>-1.853116e-11</td>\n",
              "      <td>6.526787e-12</td>\n",
              "      <td>1.171080e-11</td>\n",
              "      <td>2.918130e-11</td>\n",
              "      <td>1.978506e-14</td>\n",
              "      <td>-6.917647e-15</td>\n",
              "      <td>-8.690510e-15</td>\n",
              "      <td>3.585682e-15</td>\n",
              "      <td>-4.658132e-15</td>\n",
              "      <td>-8.145799e-15</td>\n",
              "      <td>-4.673181e-16</td>\n",
              "      <td>-5.639147e-15</td>\n",
              "      <td>-2.337729e-15</td>\n",
              "      <td>-5.838861e-15</td>\n",
              "      <td>2.205696e-15</td>\n",
              "      <td>-2.530473e-15</td>\n",
              "      <td>-4.543976e-16</td>\n",
              "      <td>-6.528784e-15</td>\n",
              "      <td>-2.303640e-15</td>\n",
              "      <td>-2.500232e-15</td>\n",
              "      <td>2.893038e-15</td>\n",
              "      <td>2.086186e-15</td>\n",
              "      <td>1.598883e-15</td>\n",
              "      <td>3.318875e-15</td>\n",
              "      <td>8.989284e-16</td>\n",
              "      <td>-3.788372e-17</td>\n",
              "    </tr>\n",
              "    <tr>\n",
              "      <th>3</th>\n",
              "      <td>2.821837</td>\n",
              "      <td>1.723711</td>\n",
              "      <td>-4.375157</td>\n",
              "      <td>-1.479343</td>\n",
              "      <td>0.085327</td>\n",
              "      <td>-1.755050</td>\n",
              "      <td>0.710440</td>\n",
              "      <td>-0.064843</td>\n",
              "      <td>0.487051</td>\n",
              "      <td>-0.175074</td>\n",
              "      <td>-0.947811</td>\n",
              "      <td>0.273949</td>\n",
              "      <td>-0.083829</td>\n",
              "      <td>-0.606772</td>\n",
              "      <td>-0.058791</td>\n",
              "      <td>0.293943</td>\n",
              "      <td>-1.319074</td>\n",
              "      <td>1.225816</td>\n",
              "      <td>-0.688633</td>\n",
              "      <td>-0.437567</td>\n",
              "      <td>-0.155818</td>\n",
              "      <td>-0.934189</td>\n",
              "      <td>0.070781</td>\n",
              "      <td>0.082882</td>\n",
              "      <td>0.259157</td>\n",
              "      <td>-0.305200</td>\n",
              "      <td>-0.157419</td>\n",
              "      <td>0.136505</td>\n",
              "      <td>-0.678651</td>\n",
              "      <td>0.363593</td>\n",
              "      <td>-0.497262</td>\n",
              "      <td>0.453585</td>\n",
              "      <td>0.099106</td>\n",
              "      <td>0.302715</td>\n",
              "      <td>-0.319196</td>\n",
              "      <td>0.502472</td>\n",
              "      <td>-0.056209</td>\n",
              "      <td>0.043986</td>\n",
              "      <td>0.284494</td>\n",
              "      <td>0.152548</td>\n",
              "      <td>...</td>\n",
              "      <td>0.051131</td>\n",
              "      <td>-0.016479</td>\n",
              "      <td>0.032716</td>\n",
              "      <td>-0.001735</td>\n",
              "      <td>-0.006142</td>\n",
              "      <td>-0.000083</td>\n",
              "      <td>0.003233</td>\n",
              "      <td>0.000369</td>\n",
              "      <td>0.000047</td>\n",
              "      <td>1.570527e-11</td>\n",
              "      <td>-2.956002e-11</td>\n",
              "      <td>-4.246039e-11</td>\n",
              "      <td>-3.625665e-11</td>\n",
              "      <td>-3.904595e-11</td>\n",
              "      <td>-8.910011e-12</td>\n",
              "      <td>2.530238e-12</td>\n",
              "      <td>7.069996e-12</td>\n",
              "      <td>3.740412e-13</td>\n",
              "      <td>8.286938e-15</td>\n",
              "      <td>6.592696e-16</td>\n",
              "      <td>-1.280837e-15</td>\n",
              "      <td>9.213680e-16</td>\n",
              "      <td>-3.869037e-17</td>\n",
              "      <td>1.861092e-16</td>\n",
              "      <td>-3.535306e-16</td>\n",
              "      <td>2.137629e-15</td>\n",
              "      <td>-3.969571e-16</td>\n",
              "      <td>-1.665115e-15</td>\n",
              "      <td>2.604798e-15</td>\n",
              "      <td>-3.388406e-15</td>\n",
              "      <td>3.325411e-16</td>\n",
              "      <td>-1.605029e-15</td>\n",
              "      <td>-2.185016e-15</td>\n",
              "      <td>-2.579443e-15</td>\n",
              "      <td>3.379958e-15</td>\n",
              "      <td>1.414309e-15</td>\n",
              "      <td>-3.038426e-15</td>\n",
              "      <td>-1.618005e-15</td>\n",
              "      <td>-2.137277e-16</td>\n",
              "      <td>-7.535854e-16</td>\n",
              "    </tr>\n",
              "    <tr>\n",
              "      <th>4</th>\n",
              "      <td>-1.570106</td>\n",
              "      <td>-0.878362</td>\n",
              "      <td>-3.307062</td>\n",
              "      <td>0.785881</td>\n",
              "      <td>-2.310400</td>\n",
              "      <td>3.881736</td>\n",
              "      <td>-0.645952</td>\n",
              "      <td>0.464725</td>\n",
              "      <td>-0.092147</td>\n",
              "      <td>0.439502</td>\n",
              "      <td>0.680427</td>\n",
              "      <td>1.297333</td>\n",
              "      <td>-2.176527</td>\n",
              "      <td>0.873973</td>\n",
              "      <td>-1.258729</td>\n",
              "      <td>0.078789</td>\n",
              "      <td>-1.274484</td>\n",
              "      <td>-1.278863</td>\n",
              "      <td>-0.049121</td>\n",
              "      <td>-1.107579</td>\n",
              "      <td>-1.315707</td>\n",
              "      <td>0.183007</td>\n",
              "      <td>-0.463981</td>\n",
              "      <td>-0.126541</td>\n",
              "      <td>-0.632876</td>\n",
              "      <td>-0.490356</td>\n",
              "      <td>0.227040</td>\n",
              "      <td>0.448714</td>\n",
              "      <td>0.362058</td>\n",
              "      <td>0.192815</td>\n",
              "      <td>-0.061116</td>\n",
              "      <td>0.423652</td>\n",
              "      <td>0.060251</td>\n",
              "      <td>0.066255</td>\n",
              "      <td>0.087248</td>\n",
              "      <td>0.049826</td>\n",
              "      <td>-0.007892</td>\n",
              "      <td>-0.222354</td>\n",
              "      <td>-0.017775</td>\n",
              "      <td>0.482700</td>\n",
              "      <td>...</td>\n",
              "      <td>0.029508</td>\n",
              "      <td>0.017652</td>\n",
              "      <td>-0.007901</td>\n",
              "      <td>0.005932</td>\n",
              "      <td>-0.008180</td>\n",
              "      <td>0.001159</td>\n",
              "      <td>0.004948</td>\n",
              "      <td>0.003858</td>\n",
              "      <td>-0.000114</td>\n",
              "      <td>-1.210293e-12</td>\n",
              "      <td>-7.386035e-13</td>\n",
              "      <td>1.444818e-12</td>\n",
              "      <td>-7.904880e-13</td>\n",
              "      <td>-9.223507e-14</td>\n",
              "      <td>-6.033953e-13</td>\n",
              "      <td>5.752033e-14</td>\n",
              "      <td>-3.907023e-13</td>\n",
              "      <td>8.020451e-13</td>\n",
              "      <td>-3.283658e-13</td>\n",
              "      <td>5.266361e-14</td>\n",
              "      <td>3.634224e-15</td>\n",
              "      <td>1.832897e-14</td>\n",
              "      <td>4.621295e-14</td>\n",
              "      <td>-3.589585e-14</td>\n",
              "      <td>-1.776807e-14</td>\n",
              "      <td>-2.737603e-14</td>\n",
              "      <td>-8.598189e-15</td>\n",
              "      <td>-3.794475e-14</td>\n",
              "      <td>-1.916136e-14</td>\n",
              "      <td>-8.228730e-15</td>\n",
              "      <td>-6.056303e-15</td>\n",
              "      <td>-1.204971e-14</td>\n",
              "      <td>-1.099331e-14</td>\n",
              "      <td>7.764073e-15</td>\n",
              "      <td>-3.602489e-15</td>\n",
              "      <td>9.824194e-15</td>\n",
              "      <td>3.711774e-15</td>\n",
              "      <td>5.388211e-15</td>\n",
              "      <td>-7.548762e-16</td>\n",
              "      <td>-5.272142e-17</td>\n",
              "    </tr>\n",
              "  </tbody>\n",
              "</table>\n",
              "<p>5 rows × 99 columns</p>\n",
              "</div>"
            ],
            "text/plain": [
              "        PC1       PC2       PC3  ...          PC97          PC98          PC99\n",
              "0 -2.576570 -1.376127 -1.253835  ...  6.081237e-15 -5.551242e-16 -7.942743e-16\n",
              "1  2.040643 -0.988061 -2.237999  ... -7.866356e-15 -6.322116e-16 -2.619343e-16\n",
              "2  1.215270  0.370168 -3.248606  ...  3.318875e-15  8.989284e-16 -3.788372e-17\n",
              "3  2.821837  1.723711 -4.375157  ... -1.618005e-15 -2.137277e-16 -7.535854e-16\n",
              "4 -1.570106 -0.878362 -3.307062  ...  5.388211e-15 -7.548762e-16 -5.272142e-17\n",
              "\n",
              "[5 rows x 99 columns]"
            ]
          },
          "metadata": {
            "tags": []
          },
          "execution_count": 157
        }
      ]
    },
    {
      "cell_type": "code",
      "metadata": {
        "id": "snGu2AlRiujO",
        "colab_type": "code",
        "colab": {
          "base_uri": "https://localhost:8080/",
          "height": 295
        },
        "outputId": "e3170b85-52ee-46c2-b35e-bb6955ebf7f6"
      },
      "source": [
        "# Graphing PC1 agaisnt PC2\n",
        "plt.scatter(new_features['PC1'], new_features['PC2'], alpha=.15)\n",
        "plt.title('PC1 against PC2')\n",
        "plt.xlabel('PC1')\n",
        "plt.ylabel('PC2')\n",
        "plt.show()"
      ],
      "execution_count": 166,
      "outputs": [
        {
          "output_type": "display_data",
          "data": {
            "image/png": "[encoded data removed]",
            "text/plain": [
              "<Figure size 432x288 with 1 Axes>"
            ]
          },
          "metadata": {
            "tags": [],
            "needs_background": "light"
          }
        }
      ]
    },
    {
      "cell_type": "code",
      "metadata": {
        "id": "PgMrSbkdjG-7",
        "colab_type": "code",
        "colab": {
          "base_uri": "https://localhost:8080/",
          "height": 295
        },
        "outputId": "2dc1ef93-4dda-472f-982f-79500fe30c00"
      },
      "source": [
        "# Graphing PC1 agaisnt PC3\n",
        "plt.scatter(new_features['PC1'], new_features['PC3'], alpha=.15)\n",
        "plt.title('PC1 against PC3')\n",
        "plt.xlabel('PC1')\n",
        "plt.ylabel('PC3')\n",
        "plt.show()"
      ],
      "execution_count": 167,
      "outputs": [
        {
          "output_type": "display_data",
          "data": {
            "image/png": "[encoded data removed]",
            "text/plain": [
              "<Figure size 432x288 with 1 Axes>"
            ]
          },
          "metadata": {
            "tags": [],
            "needs_background": "light"
          }
        }
      ]
    },
    {
      "cell_type": "code",
      "metadata": {
        "id": "LPhgM71-jUq-",
        "colab_type": "code",
        "colab": {
          "base_uri": "https://localhost:8080/",
          "height": 295
        },
        "outputId": "a5e3ec08-cce8-41e9-887f-c8523d735a04"
      },
      "source": [
        "# Graphing PC1 agaisnt PC17, my favorite number\n",
        "plt.scatter(new_features['PC1'], new_features['PC17'], alpha=.15)\n",
        "plt.title('PC1 against PC17')\n",
        "plt.xlabel('PC1')\n",
        "plt.ylabel('PC17')\n",
        "plt.show()"
      ],
      "execution_count": 171,
      "outputs": [
        {
          "output_type": "display_data",
          "data": {
            "image/png": "[encoded data removed]",
            "text/plain": [
              "<Figure size 432x288 with 1 Axes>"
            ]
          },
          "metadata": {
            "tags": [],
            "needs_background": "light"
          }
        }
      ]
    },
    {
      "cell_type": "markdown",
      "metadata": {
        "id": "RQx7UvsucIrL",
        "colab_type": "text"
      },
      "source": [
        "# Stretch Goals\n",
        "\n",
        "## 1) Perform further data exploration on the HADS national dataset (the version before we one-hot encoded it) Make scatterplots and see if you can see any resemblance between the original scatterplots and the plot of the principal components that you made in 7.1. \n",
        "\n",
        "(You may or may not not see very much resemblance depending on the variables you choose, and that's ok!)\n",
        "\n",
        "## 2) Study \"Scree Plots\" and then try and make one for your PCA dataset. How many principal conponents do you need to retain in order for your PCs to contain 90% of the explained variance? \n",
        "\n",
        "We will present this topic formally at the beginning of tomorrow's lecture, so if you figure this stretch goal out, you're ahead of the game. \n",
        "\n",
        "## 3) Explore further the intuition behind eigenvalues and eigenvectors by creating your very own eigenfaces:\n",
        "\n",
        "Prioritize self-study over this stretch goal if you are not semi-comfortable with the topics of PCA, Eigenvalues, and Eigenvectors.\n",
        "\n",
        "![Eigenfaces](https://i.pinimg.com/236x/1c/f1/01/1cf101a9859437a5d096a04b05be06b4--faces-tattoo.jpg)\n",
        "\n",
        "You don't necessarily have to use this resource, but this will get you started: \n",
        "[Eigenface Tutorial](https://sandipanweb.wordpress.com/2018/01/06/eigenfaces-and-a-simple-face-detector-with-pca-svd-in-python/)"
      ]
    }
  ]
}