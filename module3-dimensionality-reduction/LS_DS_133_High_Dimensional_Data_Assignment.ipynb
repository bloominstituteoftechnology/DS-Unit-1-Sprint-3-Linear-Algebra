{
 "cells": [
  {
   "cell_type": "markdown",
   "metadata": {
    "colab_type": "text",
    "id": "7wMWCkE1RZpM"
   },
   "source": [
    "# Vertical Line Test"
   ]
  },
  {
   "cell_type": "markdown",
   "metadata": {
    "colab_type": "text",
    "id": "W0-g7aprRv2j"
   },
   "source": [
    "## 1.1 Create two graphs, one that passes the vertical line test and one that does not."
   ]
  },
  {
   "cell_type": "code",
   "execution_count": 123,
   "metadata": {
    "colab": {},
    "colab_type": "code",
    "id": "fIJhCtF6RW_U"
   },
   "outputs": [
    {
     "data": {
      "image/png": "[encoded data removed]",
      "text/plain": [
       "<Figure size 432x288 with 2 Axes>"
      ]
     },
     "metadata": {
      "needs_background": "light"
     },
     "output_type": "display_data"
    }
   ],
   "source": [
    "#orthogoal means perpendicular\n",
    "import matplotlib.pyplot as plt\n",
    "\n",
    "fig = plt.figure()\n",
    "ax = fig.add_subplot(121)\n",
    "ax2 = fig.add_subplot(122)\n",
    "\n",
    "a = [1,2] \n",
    "\n",
    "b = [1,1]\n",
    "c = [-2,2]\n",
    "# Plot function line\n",
    "ax.arrow(0,0, *a, linewidth=3, head_width=0, head_length=0.05, color ='blue')\n",
    "ax.set_title(\"represents a function\")\n",
    "\n",
    "\n",
    "ax2.set_xlim([0, 2.5])\n",
    "ax2.set_ylim([0, 2.5])\n",
    "ax2.arrow(0,0, *b, linewidth=3, head_width=0, head_length=0.05, color ='red')\n",
    "ax2.arrow(*b, *c, linewidth=3, head_width=0, head_length=0.05, color ='red')\n",
    "\n",
    "ax2.set_title(\"not a function\")\n",
    "plt.grid(True)\n",
    "plt.show()\n"
   ]
  },
  {
   "cell_type": "markdown",
   "metadata": {
    "colab_type": "text",
    "id": "ckeTKqMgRy7g"
   },
   "source": [
    "## 1.2 Why are graphs that don't pass the vertical line test not considered \"functions?\""
   ]
  },
  {
   "cell_type": "markdown",
   "metadata": {
    "colab_type": "text",
    "id": "Gtl20YeDR6x-"
   },
   "source": [
    "the graphs that dont pass the vertical line test indicate that there are two different output value for a single input value"
   ]
  },
  {
   "cell_type": "markdown",
   "metadata": {
    "colab_type": "text",
    "id": "g21uN62xSKSk"
   },
   "source": [
    "# Functions as Relations"
   ]
  },
  {
   "cell_type": "markdown",
   "metadata": {
    "colab_type": "text",
    "id": "gwkcV-EMSMNd"
   },
   "source": [
    "## 2.1 Which of the following relations are functions? Why?\n",
    "\n",
    "\\begin{align}\n",
    "\\text{Relation 1: } \\{(1, 2), (3, 2), (1, 3)\\} - not a function\n",
    "\\\\\n",
    "\\text{Relation 2: } \\{(1, 3), (2, 3), (6, 7)\\} - function \n",
    "\\\\\n",
    "\\text{Relation 3: } \\{(9, 4), (2, 1), (9, 6)\\} - not a function\n",
    "\\\\\n",
    "\\text{Relation 4: } \\{(6, 2), (8, 3), (6, 4)\\} - not a function\n",
    "\\\\\n",
    "\\text{Relation 5: } \\{(2, 6), (2, 7), (2, 4)\\} - not a function\n",
    "\\end{align}\n",
    "\n",
    "the relation of the form \n",
    "\\begin{falign}\n",
    "    \\({(x_1,y_1),(x_2,y_2),...(x_n,y_n)}\\) that is a function contains a single single value for y for each value of x \n",
    "\n"
   ]
  },
  {
   "cell_type": "markdown",
   "metadata": {
    "colab_type": "text",
    "id": "y0U30PrlTAAa"
   },
   "source": [
    "# Functions as a mapping between dimensions\n"
   ]
  },
  {
   "cell_type": "markdown",
   "metadata": {
    "colab_type": "text",
    "id": "pw-OU9qmT5Ua"
   },
   "source": [
    "## 3.1 for the following functions what is the dimensionality of the domain (input) and codomain (range/output)?\n",
    "\n",
    "\\begin{align}\n",
    "m(𝑥_1,𝑥_2,𝑥_3)=(x_1+x_2, x_1+x_3, x_2+x_3)\n",
    "\\\\\n",
    "n(𝑥_1,𝑥_2,𝑥_3,𝑥_4)=(x_2^2 + x_3, x_2x_4)\n",
    "\\end{align}\n",
    "The dimensionality of the domains are \\(3,4\\) respectively. The codomains' dimensionalities are 3 and 2.\\\\\n",
    "#TODO fix latex\n"
   ]
  },
  {
   "cell_type": "markdown",
   "metadata": {
    "colab_type": "text",
    "id": "k4tKHjdHUevC"
   },
   "source": [
    "# 3.2 Do you think it's possible to create a function that maps from a lower dimensional space to a higher dimensional space? If so, provide an example.\n",
    "\n",
    "\\begin{align}\n",
    "\n",
    "yes you can map non linearly for example to go from (x,y) => (x,y, x^2 +  y^2)\\\\\n",
    "\\end{align}\n",
    "\\begin{quote}\n",
    "#TODO  this is annoying!\\\\\n",
    "\\end{quote}"
   ]
  },
  {
   "cell_type": "markdown",
   "metadata": {
    "colab_type": "text",
    "id": "2nEWvwVyVWdW"
   },
   "source": [
    "# Vector Transformations"
   ]
  },
  {
   "cell_type": "markdown",
   "metadata": {
    "colab_type": "text",
    "id": "1n0-6FsYVcVk"
   },
   "source": [
    "## 4.1 Plug the corresponding unit vectors into each function. Use the output vectors to create a transformation matrix.\n",
    "\n",
    "\\begin{align}\n",
    "p(\\begin{bmatrix}x_1 \\\\ x_2 \\end{bmatrix}) = \\begin{bmatrix} x_1 + 3x_2 \\\\2 x_2 - x_1 \\\\  \\end{bmatrix}\n",
    "\\\\\n",
    "\\\\\n",
    "q(\\begin{bmatrix}x_1 \\\\ x_2 \\\\ x_3\\end{bmatrix}) = \\begin{bmatrix} 4x_1 + x_2 + 2x_3 \\\\2 x_2 - x_1 + 3x_3 \\\\ 5x_1 - 2x_3 + x_2  \\end{bmatrix}\n",
    "\\end{align}"
   ]
  },
  {
   "cell_type": "markdown",
   "metadata": {
    "colab_type": "text",
    "id": "n5HUOQIxZ2gp"
   },
   "source": [
    "## 4.2 Verify that your transformation matrices are correct by choosing an input matrix and calculating the result both via the traditional functions above and also via vector-matrix multiplication."
   ]
  },
  {
   "cell_type": "code",
   "execution_count": 124,
   "metadata": {
    "colab": {},
    "colab_type": "code",
    "id": "0UANR1IEaVWE"
   },
   "outputs": [
    {
     "name": "stdout",
     "output_type": "stream",
     "text": [
      "the transformation matrix of p:\n",
      " [[ 1  3]\n",
      " [-1  2]]\n",
      "the transformation matrix of q: \n",
      " [[ 4  1  2]\n",
      " [-1  2  3]\n",
      " [ 5  1 -2]]\n",
      "[[ True False]\n",
      " [False  True]]\n",
      "[182 103]\n",
      "[[ True False False]\n",
      " [False  True False]\n",
      " [False False  True]]\n"
     ]
    }
   ],
   "source": [
    "import numpy as np#TODO\n",
    "def p(x):\n",
    "    \"\"\" function p(x) as defined above \"\"\"\n",
    "    return np.array([[x[0] + 3*x[1]], [2*x[1] -x[0]]])\n",
    "#unit vectors    \n",
    "a = [1,0]\n",
    "b = [0,1]\n",
    "\n",
    "#insert results into cols of matrix to get the transformation matrix\n",
    "pt = np.concatenate((p(a),  p(b)), axis=1)\n",
    "####                 ^^^    ^^^ output vectors\n",
    "print('the transformation matrix of p:\\n',pt)\n",
    "\n",
    "def q(x):\n",
    "    \"\"\" function q(x) as defined above \"\"\"\n",
    "    return np.array([[4*x[0] + x[1] + 2*x[2]],\n",
    "                     [2*x[1] -x[0]  + 3*x[2]],\n",
    "                    [5*x[0] -2*x[2] + x[1]]])\n",
    "c = [1,0,0]\n",
    "d = [0,1,0]\n",
    "e = [0,0,1]\n",
    "qt = np.concatenate((q(c),q(d),q(e)), axis=1)\n",
    "print('the transformation matrix of q: \\n', qt)\n",
    "\n",
    "## check p\n",
    "f = [11,57]  #test input\n",
    "print(np.matmul(pt,f)== p(f))\n",
    "print(np.matmul(pt,f))\n",
    "\n",
    "## check q\n",
    "g = [21,188,15]\n",
    "print(np.matmul(qt,g)== q(g)) ##dentity\n",
    "# our implementation is correct for this test\n",
    "\n"
   ]
  },
  {
   "cell_type": "markdown",
   "metadata": {
    "colab_type": "text",
    "id": "vEoiri3mak7j"
   },
   "source": [
    "\n",
    "\n",
    "# Eigenvalues and Eigenvectors"
   ]
  },
  {
   "cell_type": "markdown",
   "metadata": {
    "colab_type": "text",
    "id": "5HY0R4u7anIr"
   },
   "source": [
    "## 5.1 In your own words, give an explanation for the intuition behind eigenvalues and eigenvectors.\n",
    "\n",
    "if the eigenvalue and its corresponding eigenvector represent a linear transformation, the \n",
    "eigenvalue provides the notion of a magnitude of scaling or stretching of the eigenvector when the function is applied to it. the eigenvector doesnt change direction under the transformation. "
   ]
  },
  {
   "cell_type": "markdown",
   "metadata": {
    "colab_type": "text",
    "id": "VdehMwBtatKI"
   },
   "source": [
    "# The Curse of Dimensionality"
   ]
  },
  {
   "cell_type": "markdown",
   "metadata": {
    "colab_type": "text",
    "id": "4oVrJax-a3SK"
   },
   "source": [
    "## 6.1 What are some of the challenges of working with high dimensional spaces?\n",
    "\n",
    "- high dimensional spaces are computationally expensive\n",
    "- high dimensional spaces may contain redundant features \n",
    "- high dimensional spaces require many observations to make statistically significant claims"
   ]
  },
  {
   "cell_type": "markdown",
   "metadata": {
    "colab_type": "text",
    "id": "ZiBJxsZla88c"
   },
   "source": [
    "## 6.2 What is the rule of thumb for how many observations you should have compared to parameters in your model?\n",
    "\n",
    " - the rule is to have the number of rows (observations) be 5 x the number of parameters\n",
    " "
   ]
  },
  {
   "cell_type": "markdown",
   "metadata": {
    "colab_type": "text",
    "id": "NZmqdeygbHJx"
   },
   "source": [
    "# Principal Component Analysis"
   ]
  },
  {
   "cell_type": "markdown",
   "metadata": {
    "colab_type": "text",
    "id": "7iEheetpbJdN"
   },
   "source": [
    "## 7.1 Code for loading and cleaning the 2013 national dataset from the [Housing Affordability Data System (HADS)](https://www.huduser.gov/portal/datasets/hads/hads.html) --housing data, can be found below. \n",
    "\n",
    "## Perform PCA on the processed dataset `national_processed` (Make sure you standardize your data!) and then make a scatterplot of PC1 against PC2. Some of our discussion and work around PCA with this dataset will continue during tomorrow's lecture and assignment.\n",
    "\n",
    "Not only does this dataset have decent amount columns to begin with (99), but in preparing the data for PCA we have also [one-hot-encoded](https://hackernoon.com/what-is-one-hot-encoding-why-and-when-do-you-have-to-use-it-e3c6186d008f#targetText=One%20hot%20encoding%20is%20a,the%20entry%20in%20the%20dataset.) all of the categorical variables. This has the effect of creating a new column for each individual category of each categorical variable. After processing this dataset has 64738 columns. --Das a lot of columns.\n",
    "\n",
    "Don't worry too much about the mechanics of one-hot encoding right now, you will learn and experiment with a whole bunch of categorical encoding approaches in unit 2. \n",
    "\n",
    "The code below will read in the dataset and perform the one-hot encoding of the categorical variables. Start adding your PCA code at the bottom of the provided code."
   ]
  },
  {
   "cell_type": "code",
   "execution_count": 125,
   "metadata": {
    "colab": {
     "base_uri": "https://localhost:8080/",
     "height": 351
    },
    "colab_type": "code",
    "id": "Us4nNFs02HlD",
    "outputId": "974e831f-cd76-41ed-c225-8ab4d1fea275"
   },
   "outputs": [
    {
     "name": "stdout",
     "output_type": "stream",
     "text": [
      "(64535, 99)\n"
     ]
    },
    {
     "data": {
      "text/html": [
       "<div>\n",
       "<style scoped>\n",
       "    .dataframe tbody tr th:only-of-type {\n",
       "        vertical-align: middle;\n",
       "    }\n",
       "\n",
       "    .dataframe tbody tr th {\n",
       "        vertical-align: top;\n",
       "    }\n",
       "\n",
       "    .dataframe thead th {\n",
       "        text-align: right;\n",
       "    }\n",
       "</style>\n",
       "<table border=\"1\" class=\"dataframe\">\n",
       "  <thead>\n",
       "    <tr style=\"text-align: right;\">\n",
       "      <th></th>\n",
       "      <th>CONTROL</th>\n",
       "      <th>AGE1</th>\n",
       "      <th>METRO3</th>\n",
       "      <th>REGION</th>\n",
       "      <th>LMED</th>\n",
       "      <th>FMR</th>\n",
       "      <th>L30</th>\n",
       "      <th>L50</th>\n",
       "      <th>L80</th>\n",
       "      <th>IPOV</th>\n",
       "      <th>...</th>\n",
       "      <th>FMTINCRELFMRCAT</th>\n",
       "      <th>FMTCOST06RELAMICAT</th>\n",
       "      <th>FMTCOST08RELAMICAT</th>\n",
       "      <th>FMTCOST12RELAMICAT</th>\n",
       "      <th>FMTCOSTMEDRELAMICAT</th>\n",
       "      <th>FMTINCRELAMICAT</th>\n",
       "      <th>FMTASSISTED</th>\n",
       "      <th>FMTBURDEN</th>\n",
       "      <th>FMTREGION</th>\n",
       "      <th>FMTSTATUS</th>\n",
       "    </tr>\n",
       "  </thead>\n",
       "  <tbody>\n",
       "    <tr>\n",
       "      <td>0</td>\n",
       "      <td>'100003130103'</td>\n",
       "      <td>82</td>\n",
       "      <td>'3'</td>\n",
       "      <td>'1'</td>\n",
       "      <td>73738</td>\n",
       "      <td>956</td>\n",
       "      <td>15738</td>\n",
       "      <td>26213</td>\n",
       "      <td>40322</td>\n",
       "      <td>11067</td>\n",
       "      <td>...</td>\n",
       "      <td>'1 LTE 50% FMR'</td>\n",
       "      <td>'2 30 - 50% AMI'</td>\n",
       "      <td>'2 30 - 50% AMI'</td>\n",
       "      <td>'2 30 - 50% AMI'</td>\n",
       "      <td>'2 30 - 50% AMI'</td>\n",
       "      <td>'2 30 - 50% AMI'</td>\n",
       "      <td>'.'</td>\n",
       "      <td>'2 30% to 50%'</td>\n",
       "      <td>'-5'</td>\n",
       "      <td>'-5'</td>\n",
       "    </tr>\n",
       "    <tr>\n",
       "      <td>1</td>\n",
       "      <td>'100006110249'</td>\n",
       "      <td>50</td>\n",
       "      <td>'5'</td>\n",
       "      <td>'3'</td>\n",
       "      <td>55846</td>\n",
       "      <td>1100</td>\n",
       "      <td>17165</td>\n",
       "      <td>28604</td>\n",
       "      <td>45744</td>\n",
       "      <td>24218</td>\n",
       "      <td>...</td>\n",
       "      <td>'3 GT FMR'</td>\n",
       "      <td>'4 60 - 80% AMI'</td>\n",
       "      <td>'4 60 - 80% AMI'</td>\n",
       "      <td>'6 100 - 120% AMI'</td>\n",
       "      <td>'4 60 - 80% AMI'</td>\n",
       "      <td>'7 120% AMI +'</td>\n",
       "      <td>'.'</td>\n",
       "      <td>'1 Less than 30%'</td>\n",
       "      <td>'-5'</td>\n",
       "      <td>'-5'</td>\n",
       "    </tr>\n",
       "    <tr>\n",
       "      <td>2</td>\n",
       "      <td>'100006370140'</td>\n",
       "      <td>53</td>\n",
       "      <td>'5'</td>\n",
       "      <td>'3'</td>\n",
       "      <td>55846</td>\n",
       "      <td>1100</td>\n",
       "      <td>13750</td>\n",
       "      <td>22897</td>\n",
       "      <td>36614</td>\n",
       "      <td>15470</td>\n",
       "      <td>...</td>\n",
       "      <td>'2 50.1 - 100% FMR'</td>\n",
       "      <td>'4 60 - 80% AMI'</td>\n",
       "      <td>'5 80 - 100% AMI'</td>\n",
       "      <td>'6 100 - 120% AMI'</td>\n",
       "      <td>'4 60 - 80% AMI'</td>\n",
       "      <td>'4 60 - 80% AMI'</td>\n",
       "      <td>'.'</td>\n",
       "      <td>'3 50% or More'</td>\n",
       "      <td>'-5'</td>\n",
       "      <td>'-5'</td>\n",
       "    </tr>\n",
       "    <tr>\n",
       "      <td>3</td>\n",
       "      <td>'100006520140'</td>\n",
       "      <td>67</td>\n",
       "      <td>'5'</td>\n",
       "      <td>'3'</td>\n",
       "      <td>55846</td>\n",
       "      <td>949</td>\n",
       "      <td>13750</td>\n",
       "      <td>22897</td>\n",
       "      <td>36614</td>\n",
       "      <td>13964</td>\n",
       "      <td>...</td>\n",
       "      <td>'2 50.1 - 100% FMR'</td>\n",
       "      <td>'6 100 - 120% AMI'</td>\n",
       "      <td>'7 120% AMI +'</td>\n",
       "      <td>'7 120% AMI +'</td>\n",
       "      <td>'5 80 - 100% AMI'</td>\n",
       "      <td>'4 60 - 80% AMI'</td>\n",
       "      <td>'.'</td>\n",
       "      <td>'1 Less than 30%'</td>\n",
       "      <td>'-5'</td>\n",
       "      <td>'-5'</td>\n",
       "    </tr>\n",
       "    <tr>\n",
       "      <td>4</td>\n",
       "      <td>'100007130148'</td>\n",
       "      <td>26</td>\n",
       "      <td>'1'</td>\n",
       "      <td>'3'</td>\n",
       "      <td>60991</td>\n",
       "      <td>737</td>\n",
       "      <td>14801</td>\n",
       "      <td>24628</td>\n",
       "      <td>39421</td>\n",
       "      <td>15492</td>\n",
       "      <td>...</td>\n",
       "      <td>'3 GT FMR'</td>\n",
       "      <td>'3 50 - 60% AMI'</td>\n",
       "      <td>'3 50 - 60% AMI'</td>\n",
       "      <td>'3 50 - 60% AMI'</td>\n",
       "      <td>'3 50 - 60% AMI'</td>\n",
       "      <td>'7 120% AMI +'</td>\n",
       "      <td>'0 Not Assisted'</td>\n",
       "      <td>'1 Less than 30%'</td>\n",
       "      <td>'-5'</td>\n",
       "      <td>'-5'</td>\n",
       "    </tr>\n",
       "  </tbody>\n",
       "</table>\n",
       "<p>5 rows × 99 columns</p>\n",
       "</div>"
      ],
      "text/plain": [
       "          CONTROL  AGE1 METRO3 REGION   LMED   FMR    L30    L50    L80  \\\n",
       "0  '100003130103'    82    '3'    '1'  73738   956  15738  26213  40322   \n",
       "1  '100006110249'    50    '5'    '3'  55846  1100  17165  28604  45744   \n",
       "2  '100006370140'    53    '5'    '3'  55846  1100  13750  22897  36614   \n",
       "3  '100006520140'    67    '5'    '3'  55846   949  13750  22897  36614   \n",
       "4  '100007130148'    26    '1'    '3'  60991   737  14801  24628  39421   \n",
       "\n",
       "    IPOV  ...      FMTINCRELFMRCAT  FMTCOST06RELAMICAT FMTCOST08RELAMICAT  \\\n",
       "0  11067  ...      '1 LTE 50% FMR'    '2 30 - 50% AMI'   '2 30 - 50% AMI'   \n",
       "1  24218  ...           '3 GT FMR'    '4 60 - 80% AMI'   '4 60 - 80% AMI'   \n",
       "2  15470  ...  '2 50.1 - 100% FMR'    '4 60 - 80% AMI'  '5 80 - 100% AMI'   \n",
       "3  13964  ...  '2 50.1 - 100% FMR'  '6 100 - 120% AMI'     '7 120% AMI +'   \n",
       "4  15492  ...           '3 GT FMR'    '3 50 - 60% AMI'   '3 50 - 60% AMI'   \n",
       "\n",
       "   FMTCOST12RELAMICAT  FMTCOSTMEDRELAMICAT   FMTINCRELAMICAT  \\\n",
       "0    '2 30 - 50% AMI'     '2 30 - 50% AMI'  '2 30 - 50% AMI'   \n",
       "1  '6 100 - 120% AMI'     '4 60 - 80% AMI'    '7 120% AMI +'   \n",
       "2  '6 100 - 120% AMI'     '4 60 - 80% AMI'  '4 60 - 80% AMI'   \n",
       "3      '7 120% AMI +'    '5 80 - 100% AMI'  '4 60 - 80% AMI'   \n",
       "4    '3 50 - 60% AMI'     '3 50 - 60% AMI'    '7 120% AMI +'   \n",
       "\n",
       "        FMTASSISTED          FMTBURDEN  FMTREGION  FMTSTATUS  \n",
       "0               '.'     '2 30% to 50%'       '-5'       '-5'  \n",
       "1               '.'  '1 Less than 30%'       '-5'       '-5'  \n",
       "2               '.'    '3 50% or More'       '-5'       '-5'  \n",
       "3               '.'  '1 Less than 30%'       '-5'       '-5'  \n",
       "4  '0 Not Assisted'  '1 Less than 30%'       '-5'       '-5'  \n",
       "\n",
       "[5 rows x 99 columns]"
      ]
     },
     "execution_count": 125,
     "metadata": {},
     "output_type": "execute_result"
    }
   ],
   "source": [
    "from urllib.request import urlopen\n",
    "from zipfile import ZipFile\n",
    "from io import BytesIO\n",
    "import os.path\n",
    "import pandas as pd\n",
    "import numpy as np\n",
    "import matplotlib.pyplot as plt\n",
    "\n",
    "# Read Natinal Data \n",
    "national_url = 'https://www.huduser.gov/portal/datasets/hads/hads2013n_ASCII.zip'\n",
    "national_file = 'thads2013n.txt'\n",
    "\n",
    "if os.path.exists(national_file):\n",
    "    national = pd.read_csv(national_file)\n",
    "else: \n",
    "    z_national = urlopen(national_url)\n",
    "    zip_national = ZipFile(BytesIO(z_national.read())).extract(national_file)\n",
    "    national = pd.read_csv(zip_national)\n",
    "\n",
    "print(national.shape)\n",
    "national.head()"
   ]
  },
  {
   "cell_type": "code",
   "execution_count": 126,
   "metadata": {
    "colab": {
     "base_uri": "https://localhost:8080/",
     "height": 1000
    },
    "colab_type": "code",
    "id": "O5zrMTud2qFU",
    "outputId": "22a279ad-ad46-46ba-82c4-47ff31864e01"
   },
   "outputs": [
    {
     "data": {
      "text/plain": [
       "CONTROL            object\n",
       "AGE1                int64\n",
       "METRO3             object\n",
       "REGION             object\n",
       "LMED                int64\n",
       "                    ...  \n",
       "FMTINCRELAMICAT    object\n",
       "FMTASSISTED        object\n",
       "FMTBURDEN          object\n",
       "FMTREGION          object\n",
       "FMTSTATUS          object\n",
       "Length: 99, dtype: object"
      ]
     },
     "execution_count": 126,
     "metadata": {},
     "output_type": "execute_result"
    }
   ],
   "source": [
    "# Look at datatypes\n",
    "# a lot of object datatypes even though they seem to be strings of numbers.\n",
    "national.dtypes"
   ]
  },
  {
   "cell_type": "code",
   "execution_count": 127,
   "metadata": {
    "colab": {
     "base_uri": "https://localhost:8080/",
     "height": 35
    },
    "colab_type": "code",
    "id": "yIrOjVmd2yLz",
    "outputId": "d855cbbd-42ba-47a2-aba9-584813e9c5ab"
   },
   "outputs": [
    {
     "data": {
      "text/plain": [
       "False"
      ]
     },
     "execution_count": 127,
     "metadata": {},
     "output_type": "execute_result"
    }
   ],
   "source": [
    "# check for null values\n",
    "national.isnull().sum().any()"
   ]
  },
  {
   "cell_type": "code",
   "execution_count": 128,
   "metadata": {
    "colab": {
     "base_uri": "https://localhost:8080/",
     "height": 52
    },
    "colab_type": "code",
    "id": "2u9tdmwX3KL_",
    "outputId": "ce3e8bc6-7571-4b9b-8b4f-b8ae7c94f837"
   },
   "outputs": [
    {
     "name": "stdout",
     "output_type": "stream",
     "text": [
      "32 categorical columns\n",
      "67 numerical columns\n"
     ]
    }
   ],
   "source": [
    "# check for number of categorical vs numeric columns\n",
    "cat_cols = national.columns[national.dtypes=='object']\n",
    "num_cols = national.columns[national.dtypes!='object']\n",
    "\n",
    "print(f'{len(cat_cols)} categorical columns')\n",
    "print(f'{len(num_cols)} numerical columns')"
   ]
  },
  {
   "cell_type": "code",
   "execution_count": 129,
   "metadata": {
    "colab": {
     "base_uri": "https://localhost:8080/",
     "height": 1000
    },
    "colab_type": "code",
    "id": "UMHOtOs_3gcL",
    "outputId": "9194fefa-217a-49e4-cd81-b2d416d77b19"
   },
   "outputs": [
    {
     "data": {
      "text/plain": [
       "CONTROL            category\n",
       "AGE1                  int64\n",
       "METRO3             category\n",
       "REGION             category\n",
       "LMED                  int64\n",
       "                     ...   \n",
       "FMTINCRELAMICAT    category\n",
       "FMTASSISTED        category\n",
       "FMTBURDEN          category\n",
       "FMTREGION          category\n",
       "FMTSTATUS          category\n",
       "Length: 99, dtype: object"
      ]
     },
     "execution_count": 129,
     "metadata": {},
     "output_type": "execute_result"
    }
   ],
   "source": [
    "# We're making a copy of our data in case we mess something up.\n",
    "national_processed = national.copy()\n",
    "\n",
    "# Categorically Encode our Variables:\n",
    "# They need to all be numeric before we do PCA.\n",
    "# https://pbpython.com/categorical-encoding.html\n",
    "\n",
    "# Cast categorical columns to \"category\" data type\n",
    "national_processed[cat_cols] = national_processed[cat_cols].astype('category')\n",
    "\n",
    "national_processed.dtypes"
   ]
  },
  {
   "cell_type": "code",
   "execution_count": 130,
   "metadata": {
    "colab": {
     "base_uri": "https://localhost:8080/",
     "height": 265
    },
    "colab_type": "code",
    "id": "ymxU-aPtQ1eq",
    "outputId": "02fe0fad-81bb-404c-a4cd-92242cfe4c6c"
   },
   "outputs": [
    {
     "name": "stdout",
     "output_type": "stream",
     "text": [
      "(64535, 99)\n"
     ]
    },
    {
     "data": {
      "text/html": [
       "<div>\n",
       "<style scoped>\n",
       "    .dataframe tbody tr th:only-of-type {\n",
       "        vertical-align: middle;\n",
       "    }\n",
       "\n",
       "    .dataframe tbody tr th {\n",
       "        vertical-align: top;\n",
       "    }\n",
       "\n",
       "    .dataframe thead th {\n",
       "        text-align: right;\n",
       "    }\n",
       "</style>\n",
       "<table border=\"1\" class=\"dataframe\">\n",
       "  <thead>\n",
       "    <tr style=\"text-align: right;\">\n",
       "      <th></th>\n",
       "      <th>CONTROL</th>\n",
       "      <th>AGE1</th>\n",
       "      <th>METRO3</th>\n",
       "      <th>REGION</th>\n",
       "      <th>LMED</th>\n",
       "      <th>FMR</th>\n",
       "      <th>L30</th>\n",
       "      <th>L50</th>\n",
       "      <th>L80</th>\n",
       "      <th>IPOV</th>\n",
       "      <th>...</th>\n",
       "      <th>FMTINCRELFMRCAT</th>\n",
       "      <th>FMTCOST06RELAMICAT</th>\n",
       "      <th>FMTCOST08RELAMICAT</th>\n",
       "      <th>FMTCOST12RELAMICAT</th>\n",
       "      <th>FMTCOSTMEDRELAMICAT</th>\n",
       "      <th>FMTINCRELAMICAT</th>\n",
       "      <th>FMTASSISTED</th>\n",
       "      <th>FMTBURDEN</th>\n",
       "      <th>FMTREGION</th>\n",
       "      <th>FMTSTATUS</th>\n",
       "    </tr>\n",
       "  </thead>\n",
       "  <tbody>\n",
       "    <tr>\n",
       "      <td>0</td>\n",
       "      <td>0</td>\n",
       "      <td>82</td>\n",
       "      <td>2</td>\n",
       "      <td>0</td>\n",
       "      <td>73738</td>\n",
       "      <td>956</td>\n",
       "      <td>15738</td>\n",
       "      <td>26213</td>\n",
       "      <td>40322</td>\n",
       "      <td>11067</td>\n",
       "      <td>...</td>\n",
       "      <td>1</td>\n",
       "      <td>1</td>\n",
       "      <td>1</td>\n",
       "      <td>1</td>\n",
       "      <td>1</td>\n",
       "      <td>2</td>\n",
       "      <td>0</td>\n",
       "      <td>2</td>\n",
       "      <td>0</td>\n",
       "      <td>0</td>\n",
       "    </tr>\n",
       "    <tr>\n",
       "      <td>1</td>\n",
       "      <td>1</td>\n",
       "      <td>50</td>\n",
       "      <td>4</td>\n",
       "      <td>2</td>\n",
       "      <td>55846</td>\n",
       "      <td>1100</td>\n",
       "      <td>17165</td>\n",
       "      <td>28604</td>\n",
       "      <td>45744</td>\n",
       "      <td>24218</td>\n",
       "      <td>...</td>\n",
       "      <td>3</td>\n",
       "      <td>3</td>\n",
       "      <td>3</td>\n",
       "      <td>5</td>\n",
       "      <td>3</td>\n",
       "      <td>7</td>\n",
       "      <td>0</td>\n",
       "      <td>1</td>\n",
       "      <td>0</td>\n",
       "      <td>0</td>\n",
       "    </tr>\n",
       "    <tr>\n",
       "      <td>2</td>\n",
       "      <td>2</td>\n",
       "      <td>53</td>\n",
       "      <td>4</td>\n",
       "      <td>2</td>\n",
       "      <td>55846</td>\n",
       "      <td>1100</td>\n",
       "      <td>13750</td>\n",
       "      <td>22897</td>\n",
       "      <td>36614</td>\n",
       "      <td>15470</td>\n",
       "      <td>...</td>\n",
       "      <td>2</td>\n",
       "      <td>3</td>\n",
       "      <td>4</td>\n",
       "      <td>5</td>\n",
       "      <td>3</td>\n",
       "      <td>4</td>\n",
       "      <td>0</td>\n",
       "      <td>3</td>\n",
       "      <td>0</td>\n",
       "      <td>0</td>\n",
       "    </tr>\n",
       "    <tr>\n",
       "      <td>3</td>\n",
       "      <td>3</td>\n",
       "      <td>67</td>\n",
       "      <td>4</td>\n",
       "      <td>2</td>\n",
       "      <td>55846</td>\n",
       "      <td>949</td>\n",
       "      <td>13750</td>\n",
       "      <td>22897</td>\n",
       "      <td>36614</td>\n",
       "      <td>13964</td>\n",
       "      <td>...</td>\n",
       "      <td>2</td>\n",
       "      <td>5</td>\n",
       "      <td>6</td>\n",
       "      <td>6</td>\n",
       "      <td>4</td>\n",
       "      <td>4</td>\n",
       "      <td>0</td>\n",
       "      <td>1</td>\n",
       "      <td>0</td>\n",
       "      <td>0</td>\n",
       "    </tr>\n",
       "    <tr>\n",
       "      <td>4</td>\n",
       "      <td>4</td>\n",
       "      <td>26</td>\n",
       "      <td>0</td>\n",
       "      <td>2</td>\n",
       "      <td>60991</td>\n",
       "      <td>737</td>\n",
       "      <td>14801</td>\n",
       "      <td>24628</td>\n",
       "      <td>39421</td>\n",
       "      <td>15492</td>\n",
       "      <td>...</td>\n",
       "      <td>3</td>\n",
       "      <td>2</td>\n",
       "      <td>2</td>\n",
       "      <td>2</td>\n",
       "      <td>2</td>\n",
       "      <td>7</td>\n",
       "      <td>1</td>\n",
       "      <td>1</td>\n",
       "      <td>0</td>\n",
       "      <td>0</td>\n",
       "    </tr>\n",
       "  </tbody>\n",
       "</table>\n",
       "<p>5 rows × 99 columns</p>\n",
       "</div>"
      ],
      "text/plain": [
       "   CONTROL  AGE1  METRO3  REGION   LMED   FMR    L30    L50    L80   IPOV  \\\n",
       "0        0    82       2       0  73738   956  15738  26213  40322  11067   \n",
       "1        1    50       4       2  55846  1100  17165  28604  45744  24218   \n",
       "2        2    53       4       2  55846  1100  13750  22897  36614  15470   \n",
       "3        3    67       4       2  55846   949  13750  22897  36614  13964   \n",
       "4        4    26       0       2  60991   737  14801  24628  39421  15492   \n",
       "\n",
       "   ...  FMTINCRELFMRCAT  FMTCOST06RELAMICAT  FMTCOST08RELAMICAT  \\\n",
       "0  ...                1                   1                   1   \n",
       "1  ...                3                   3                   3   \n",
       "2  ...                2                   3                   4   \n",
       "3  ...                2                   5                   6   \n",
       "4  ...                3                   2                   2   \n",
       "\n",
       "   FMTCOST12RELAMICAT  FMTCOSTMEDRELAMICAT  FMTINCRELAMICAT  FMTASSISTED  \\\n",
       "0                   1                    1                2            0   \n",
       "1                   5                    3                7            0   \n",
       "2                   5                    3                4            0   \n",
       "3                   6                    4                4            0   \n",
       "4                   2                    2                7            1   \n",
       "\n",
       "   FMTBURDEN  FMTREGION  FMTSTATUS  \n",
       "0          2          0          0  \n",
       "1          1          0          0  \n",
       "2          3          0          0  \n",
       "3          1          0          0  \n",
       "4          1          0          0  \n",
       "\n",
       "[5 rows x 99 columns]"
      ]
     },
     "execution_count": 130,
     "metadata": {},
     "output_type": "execute_result"
    }
   ],
   "source": [
    "# Replace all category cell values with their numeric category codes\n",
    "for col in cat_cols:\n",
    "  national_processed[col] = national_processed[col].cat.codes\n",
    "\n",
    "print(national_processed.shape)\n",
    "national_processed.head()"
   ]
  },
  {
   "cell_type": "code",
   "execution_count": null,
   "metadata": {},
   "outputs": [],
   "source": []
  },
  {
   "cell_type": "code",
   "execution_count": 131,
   "metadata": {
    "colab": {
     "base_uri": "https://localhost:8080/",
     "height": 1000
    },
    "colab_type": "code",
    "id": "6NS5AQpcQ8Je",
    "outputId": "3cbe9b8e-05e4-4126-f072-030c8d2ac7b4"
   },
   "outputs": [
    {
     "data": {
      "text/plain": [
       "CONTROL            int32\n",
       "AGE1               int64\n",
       "METRO3              int8\n",
       "REGION              int8\n",
       "LMED               int64\n",
       "                   ...  \n",
       "FMTINCRELAMICAT     int8\n",
       "FMTASSISTED         int8\n",
       "FMTBURDEN           int8\n",
       "FMTREGION           int8\n",
       "FMTSTATUS           int8\n",
       "Length: 99, dtype: object"
      ]
     },
     "execution_count": 131,
     "metadata": {},
     "output_type": "execute_result"
    }
   ],
   "source": [
    "# Now we only ahve numeric columns (ints and floats)\n",
    "national_processed.dtypes"
   ]
  },
  {
   "cell_type": "code",
   "execution_count": 132,
   "metadata": {
    "colab": {},
    "colab_type": "code",
    "id": "WAJ8bjVcEwhA"
   },
   "outputs": [],
   "source": [
    "### PERFORM PCA\n",
    "# not sure what the Y variable is but it looks like we got only x here"
   ]
  },
  {
   "cell_type": "markdown",
   "metadata": {},
   "source": [
    "## scratch\n",
    "features = national_processed.copy()\n",
    "def center(data):\n",
    "    r= pd.DataFrame()\n",
    "    for c in data.columns:\n",
    "        m = data[c].mean() #need to set this incase \n",
    "        r[c] = data[c].apply(lambda x : x - m )\n",
    "    return r\n",
    "def standardize (data):\n",
    "    r = pd.DataFrame()\n",
    "    for c in data.columns:\n",
    "        sd = data[c].std() #need to set this incase \n",
    "        r[c] = data[c].apply(lambda x : x - sd )\n",
    "    return r\n",
    "#var - covariance matrix of standardized data\n",
    "\n",
    "#eigenvectors and eigenvalues of the preceding\n",
    "\n",
    "#sort\n",
    "\n",
    "\n",
    "scaled = standardize(center(features))\n",
    "scaled\n"
   ]
  },
  {
   "cell_type": "code",
   "execution_count": 133,
   "metadata": {},
   "outputs": [
    {
     "name": "stdout",
     "output_type": "stream",
     "text": [
      "Data: \n",
      "        CONTROL  AGE1  METRO3  REGION   LMED   FMR    L30    L50    L80   IPOV  \\\n",
      "0            0    82       2       0  73738   956  15738  26213  40322  11067   \n",
      "1            1    50       4       2  55846  1100  17165  28604  45744  24218   \n",
      "2            2    53       4       2  55846  1100  13750  22897  36614  15470   \n",
      "3            3    67       4       2  55846   949  13750  22897  36614  13964   \n",
      "4            4    26       0       2  60991   737  14801  24628  39421  15492   \n",
      "...        ...   ...     ...     ...    ...   ...    ...    ...    ...    ...   \n",
      "64530    64530    55       0       3  55929   556  12938  21525  34414  12019   \n",
      "64531    64531    37       0       1  73600   966  23900  39750  63650  28229   \n",
      "64532    64532    23       1       3  86300  2701  23500  39200  62650  15517   \n",
      "64533    64533    57       0       3  79659   770  17150  28577  43494  12055   \n",
      "64534    64534    66       3       2  50723   542  11092  18470  29536  11114   \n",
      "\n",
      "       ...  FMTINCRELFMRCAT  FMTCOST06RELAMICAT  FMTCOST08RELAMICAT  \\\n",
      "0      ...                1                   1                   1   \n",
      "1      ...                3                   3                   3   \n",
      "2      ...                2                   3                   4   \n",
      "3      ...                2                   5                   6   \n",
      "4      ...                3                   2                   2   \n",
      "...    ...              ...                 ...                 ...   \n",
      "64530  ...                1                   2                   2   \n",
      "64531  ...                3                   0                   0   \n",
      "64532  ...                1                   4                   4   \n",
      "64533  ...                3                   0                   0   \n",
      "64534  ...                2                   0                   0   \n",
      "\n",
      "       FMTCOST12RELAMICAT  FMTCOSTMEDRELAMICAT  FMTINCRELAMICAT  FMTASSISTED  \\\n",
      "0                       1                    1                2            0   \n",
      "1                       5                    3                7            0   \n",
      "2                       5                    3                4            0   \n",
      "3                       6                    4                4            0   \n",
      "4                       2                    2                7            1   \n",
      "...                   ...                  ...              ...          ...   \n",
      "64530                   2                    2                1            1   \n",
      "64531                   0                    0                5            1   \n",
      "64532                   4                    4                3            1   \n",
      "64533                   0                    0                6            1   \n",
      "64534                   0                    0                2            1   \n",
      "\n",
      "       FMTBURDEN  FMTREGION  FMTSTATUS  \n",
      "0              2          0          0  \n",
      "1              1          0          0  \n",
      "2              3          0          0  \n",
      "3              1          0          0  \n",
      "4              1          0          0  \n",
      "...          ...        ...        ...  \n",
      "64530          3          1          0  \n",
      "64531          1          0          0  \n",
      "64532          3          1          0  \n",
      "64533          1          1          0  \n",
      "64534          1          0          0  \n",
      "\n",
      "[64535 rows x 99 columns]\n",
      "\n",
      " Standardized Data: \n",
      " [[-1.73202397  1.48807451  0.60878419 ...  0.54947295 -0.46210707\n",
      "   0.        ]\n",
      " [-1.73197029  0.08881241  2.18426992 ... -0.54470863 -0.46210707\n",
      "   0.        ]\n",
      " [-1.73191661  0.21999323  2.18426992 ...  1.64365453 -0.46210707\n",
      "   0.        ]\n",
      " ...\n",
      " [ 1.73191661 -1.09181499 -0.17895868 ...  1.64365453  2.16400067\n",
      "   0.        ]\n",
      " [ 1.73197029  0.39490099 -0.96670154 ... -0.54470863  2.16400067\n",
      "   0.        ]\n",
      " [ 1.73202397  0.78844346  1.39652706 ... -0.54470863 -0.46210707\n",
      "   0.        ]]\n",
      "\n",
      " Eigenvectors: \n",
      " [[-0.01762294  0.04564172  0.00224448 -0.0056805   0.04142715  0.08969161\n",
      "   0.06498292  0.0649871   0.06422065  0.06147403  0.08585244  0.01801879\n",
      "  -0.05896537 -0.01528452  0.13234213 -0.05711476 -0.03969967 -0.02559715\n",
      "   0.09915137  0.02420272  0.06848524  0.10804133  0.02549375  0.12591589\n",
      "  -0.0686994  -0.09686185  0.09495694  0.06829523  0.13890808  0.13843111\n",
      "   0.13897851  0.138511    0.0905027  -0.07741872  0.04142715  0.06498292\n",
      "   0.0649871   0.06422065  0.07923954  0.0921104   0.09210336  0.09490276\n",
      "   0.08739559  0.00091387  0.10149966  0.10199758  0.1018149   0.08553625\n",
      "   0.09217413  0.0781451   0.13215061  0.14670343  0.1335704   0.09089986\n",
      "   0.12974258  0.12772056  0.13365417  0.14824806  0.13368685  0.0902927\n",
      "   0.13209618  0.12802126  0.13470573  0.1470892   0.13320525  0.08919073\n",
      "   0.13411974  0.12560459  0.13025193  0.14427022  0.13314257  0.09127039\n",
      "   0.1269716   0.12604755  0.02549375 -0.02868194  0.02198791 -0.06878637\n",
      "   0.08502306 -0.09686185  0.12430766  0.1236005   0.12184815  0.12455057\n",
      "   0.10357345  0.12772056  0.12802126  0.12560459  0.12604755  0.09767683\n",
      "   0.14670343  0.14824806  0.1470892   0.14427022  0.11025228 -0.08541172\n",
      "   0.00320622  0.01421383 -0.        ]\n",
      " [-0.00232268 -0.12881974  0.02787248  0.02355993 -0.05103525 -0.03833234\n",
      "  -0.10241577 -0.10242769 -0.10406663 -0.16868994 -0.01158043  0.02224374\n",
      "   0.22379537  0.00406118  0.07554282  0.22202935 -0.17613668  0.01102132\n",
      "  -0.00219947 -0.00774407 -0.20946021 -0.03104596 -0.16686104 -0.0276374\n",
      "   0.00239875 -0.02138781 -0.01017962  0.03905815  0.08279444  0.08127423\n",
      "   0.08232351  0.08302786 -0.03769061 -0.10264061 -0.05103525 -0.10241577\n",
      "  -0.10242769 -0.10406663 -0.20229415 -0.04714243 -0.0472246  -0.04437527\n",
      "  -0.04544984 -0.00410633 -0.0243843  -0.17315565 -0.02241456 -0.20463355\n",
      "  -0.03479403 -0.21272755  0.102165    0.0761984   0.04409669 -0.19809081\n",
      "   0.10852792  0.07185395  0.10098787  0.07256343  0.04730334 -0.19897927\n",
      "   0.10684339  0.06898156  0.09847618  0.06586526  0.05166391 -0.20021042\n",
      "   0.10334089  0.06413585  0.10281403  0.07875107  0.04107962 -0.19724869\n",
      "   0.10950206  0.07374035 -0.16686104 -0.00998768  0.02400899  0.00247039\n",
      "  -0.01286988 -0.02138781 -0.10647349 -0.10987843 -0.11449743 -0.10326949\n",
      "  -0.11457314  0.07185395  0.06898156  0.06413585  0.07374035 -0.12050047\n",
      "   0.0761984   0.07256343  0.06586526  0.07875107 -0.07724314 -0.09534592\n",
      "  -0.09249567 -0.00290366  0.        ]]\n",
      "\n",
      " Eigenvalues: \n",
      " [33.37004789 14.1535396 ]\n",
      "\n",
      " Projected Data: \n",
      " [[-2.57657018 -1.37612733]\n",
      " [ 2.04064284 -0.98806144]\n",
      " [ 1.21527025  0.37016816]\n",
      " ...\n",
      " [ 1.83162816 -2.95570213]\n",
      " [-5.02514474 -2.52857814]\n",
      " [-9.89816404 -0.80284267]]\n"
     ]
    }
   ],
   "source": [
    "# Principal Component Analysis\n",
    "from numpy import array\n",
    "from sklearn.preprocessing import StandardScaler\n",
    "from sklearn.decomposition import PCA\n",
    "# define a matrix\n",
    "X=national_processed\n",
    "print(\"Data: \\n\", X)\n",
    "# Standardize the Data and fit_transform data\n",
    "Z = StandardScaler().fit_transform(X)\n",
    "print(\"\\n Standardized Data: \\n\", Z)\n",
    "# create the PCA instance\n",
    "pca = PCA(2)\n",
    "# fit on data\n",
    "pca.fit(Z)\n",
    "# access values and vectors\n",
    "print(\"\\n Eigenvectors: \\n\", pca.components_)\n",
    "print(\"\\n Eigenvalues: \\n\",pca.explained_variance_)\n",
    "# transform data\n",
    "B = pca.transform(Z)\n",
    "print(\"\\n Projected Data: \\n\", B)\n"
   ]
  },
  {
   "cell_type": "code",
   "execution_count": 143,
   "metadata": {},
   "outputs": [
    {
     "name": "stdout",
     "output_type": "stream",
     "text": [
      "<class 'numpy.ndarray'>\n"
     ]
    },
    {
     "data": {
      "image/png": "[encoded data removed]",
      "text/plain": [
       "<Figure size 432x288 with 1 Axes>"
      ]
     },
     "metadata": {
      "needs_background": "light"
     },
     "output_type": "display_data"
    },
    {
     "data": {
      "text/plain": [
       "PCA(copy=True, iterated_power='auto', n_components=2, random_state=None,\n",
       "    svd_solver='auto', tol=0.0, whiten=False)"
      ]
     },
     "execution_count": 143,
     "metadata": {},
     "output_type": "execute_result"
    }
   ],
   "source": [
    "print(type(B))\n",
    "# Graph 2D data on a 2D plot\n",
    "plt.xlim(-30,50)\n",
    "plt.ylim(-30,40)\n",
    "\n",
    "plt.scatter(B[:,0], B[:,1])\n",
    "plt.title(\"pca 1 vs pca 2\")\n",
    "plt.show()\n",
    "\n",
    "pca"
   ]
  },
  {
   "cell_type": "markdown",
   "metadata": {
    "colab_type": "text",
    "id": "RQx7UvsucIrL"
   },
   "source": [
    "# Stretch Goals\n",
    "\n",
    "## 1) Perform further data exploration on the HADS national dataset (the version before we one-hot encoded it) Make scatterplots and see if you can see any resemblance between the original scatterplots and the plot of the principal components that you made in 7.1. \n",
    "\n",
    "(You may or may not not see very much resemblance depending on the variables you choose, and that's ok!)\n",
    "\n",
    "## 2) Study \"Scree Plots\" and then try and make one for your PCA dataset. How many principal conponents do you need to retain in order for your PCs to contain 90% of the explained variance? \n",
    "\n",
    "We will present this topic formally at the beginning of tomorrow's lecture, so if you figure this stretch goal out, you're ahead of the game. \n",
    "\n",
    "## 3) Explore further the intuition behind eigenvalues and eigenvectors by creating your very own eigenfaces:\n",
    "\n",
    "Prioritize self-study over this stretch goal if you are not semi-comfortable with the topics of PCA, Eigenvalues, and Eigenvectors.\n",
    "\n",
    "![Eigenfaces](https://i.pinimg.com/236x/1c/f1/01/1cf101a9859437a5d096a04b05be06b4--faces-tattoo.jpg)\n",
    "\n",
    "You don't necessarily have to use this resource, but this will get you started: \n",
    "[Eigenface Tutorial](https://sandipanweb.wordpress.com/2018/01/06/eigenfaces-and-a-simple-face-detector-with-pca-svd-in-python/)"
   ]
  }
 ],
 "metadata": {
  "colab": {
   "collapsed_sections": [],
   "name": "LS_DS_133_High_Dimensional_Data_Assignment.ipynb",
   "provenance": []
  },
  "kernelspec": {
   "display_name": "Python 3",
   "language": "python",
   "name": "python3"
  },
  "language_info": {
   "codemirror_mode": {
    "name": "ipython",
    "version": 3
   },
   "file_extension": ".py",
   "mimetype": "text/x-python",
   "name": "python",
   "nbconvert_exporter": "python",
   "pygments_lexer": "ipython3",
   "version": "3.7.4"
  }
 },
 "nbformat": 4,
 "nbformat_minor": 1
}
