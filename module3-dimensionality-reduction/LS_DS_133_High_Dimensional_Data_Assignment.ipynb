{
  "nbformat": 4,
  "nbformat_minor": 0,
  "metadata": {
    "colab": {
      "name": "LS_DS_133_High_Dimensional_Data_Assignment.ipynb",
      "provenance": [],
      "collapsed_sections": [],
      "include_colab_link": true
    },
    "kernelspec": {
      "name": "python3",
      "display_name": "Python 3"
    }
  },
  "cells": [
    {
      "cell_type": "markdown",
      "metadata": {
        "id": "view-in-github",
        "colab_type": "text"
      },
      "source": [
        "<a href=\"https://colab.research.google.com/github/Tristan-Brown1096/DS-Unit-1-Sprint-3-Linear-Algebra/blob/master/module3-dimensionality-reduction/LS_DS_133_High_Dimensional_Data_Assignment.ipynb\" target=\"_parent\"><img src=\"https://colab.research.google.com/assets/colab-badge.svg\" alt=\"Open In Colab\"/></a>"
      ]
    },
    {
      "cell_type": "markdown",
      "metadata": {
        "id": "7wMWCkE1RZpM",
        "colab_type": "text"
      },
      "source": [
        "# Vertical Line Test"
      ]
    },
    {
      "cell_type": "markdown",
      "metadata": {
        "id": "W0-g7aprRv2j",
        "colab_type": "text"
      },
      "source": [
        "## 1.1 Create two graphs, one that passes the vertical line test and one that does not."
      ]
    },
    {
      "cell_type": "code",
      "metadata": {
        "id": "fIJhCtF6RW_U",
        "colab_type": "code",
        "colab": {}
      },
      "source": [
        "import pandas as pd\n",
        "import matplotlib.pyplot as plt\n",
        "import numpy as np"
      ],
      "execution_count": null,
      "outputs": []
    },
    {
      "cell_type": "code",
      "metadata": {
        "id": "FpE6SuVEEXgn",
        "colab_type": "code",
        "colab": {
          "base_uri": "https://localhost:8080/",
          "height": 269
        },
        "outputId": "8fc3690d-de4c-404e-b0e7-50f324b8fc19"
      },
      "source": [
        "fig, ax = plt.subplots()\n",
        "\n",
        "plt.plot([0, 1, 2, 3, 4], [0, 1, 2, 3, 4])\n",
        "plt.plot([1, 1, 1, 1, 1], [0, 1, 2, 3, 4])\n",
        "\n",
        "plt.ylim(-1, 5)\n",
        "plt.xlim(-1, 5)\n",
        "\n",
        "plt.show()"
      ],
      "execution_count": null,
      "outputs": [
        {
          "output_type": "display_data",
          "data": {
            "image/png": "[encoded data removed]",
            "text/plain": [
              "<Figure size 432x288 with 1 Axes>"
            ]
          },
          "metadata": {
            "tags": [],
            "needs_background": "light"
          }
        }
      ]
    },
    {
      "cell_type": "markdown",
      "metadata": {
        "id": "ckeTKqMgRy7g",
        "colab_type": "text"
      },
      "source": [
        "## 1.2 Why are graphs that don't pass the vertical line test not considered \"functions?\""
      ]
    },
    {
      "cell_type": "markdown",
      "metadata": {
        "id": "Gtl20YeDR6x-",
        "colab_type": "text"
      },
      "source": [
        "graphs that fail the vertical line test aren't considered functions because the input corresponds to multiple outputs."
      ]
    },
    {
      "cell_type": "markdown",
      "metadata": {
        "id": "g21uN62xSKSk",
        "colab_type": "text"
      },
      "source": [
        "# Functions as Relations"
      ]
    },
    {
      "cell_type": "markdown",
      "metadata": {
        "id": "gwkcV-EMSMNd",
        "colab_type": "text"
      },
      "source": [
        "## 2.1 Which of the following relations are functions? Why?\n",
        "\n",
        "\\begin{align}\n",
        "\\text{Relation 1: } \\{(1, 2), (3, 2), (1, 3)\\}\n",
        "\\\\\n",
        "\\text{Relation 2: } \\{(1, 3), (2, 3), (6, 7)\\}\n",
        "\\\\\n",
        "\\text{Relation 3: } \\{(9, 4), (2, 1), (9, 6)\\}\n",
        "\\\\\n",
        "\\text{Relation 4: } \\{(6, 2), (8, 3), (6, 4)\\}\n",
        "\\\\\n",
        "\\text{Relation 5: } \\{(2, 6), (2, 7), (2, 4)\\}\n",
        "\\end{align}"
      ]
    },
    {
      "cell_type": "markdown",
      "metadata": {
        "id": "iE3sV5DWG0F4",
        "colab_type": "text"
      },
      "source": [
        "Relation 2 is the only function, because it's the only one that has a different input for each output."
      ]
    },
    {
      "cell_type": "markdown",
      "metadata": {
        "id": "y0U30PrlTAAa",
        "colab_type": "text"
      },
      "source": [
        "# Functions as a mapping between dimensions\n"
      ]
    },
    {
      "cell_type": "markdown",
      "metadata": {
        "id": "pw-OU9qmT5Ua",
        "colab_type": "text"
      },
      "source": [
        "## 3.1 for the following functions what is the dimensionality of the domain (input) and codomain (range/output)?\n",
        "\n",
        "\\begin{align}\n",
        "m(𝑥_1,𝑥_2,𝑥_3)=(x_1+x_2, x_1+x_3, x_2+x_3)\n",
        "\\\\\n",
        "n(𝑥_1,𝑥_2,𝑥_3,𝑥_4)=(x_2^2 + x_3, x_2x_4)\n",
        "\\end{align}"
      ]
    },
    {
      "cell_type": "markdown",
      "metadata": {
        "id": "SVXhPdYrHAk1",
        "colab_type": "text"
      },
      "source": [
        "The domain of $m$ has a dimensionality of 3, and the codomain has a dimensionality of 3.\n",
        "\n",
        "The domain of $n$ has a dimensionality of 4, and the codomain has a dimensionality of 2."
      ]
    },
    {
      "cell_type": "markdown",
      "metadata": {
        "id": "k4tKHjdHUevC",
        "colab_type": "text"
      },
      "source": [
        "## 3.2 Do you think it's possible to create a function that maps from a lower dimensional space to a higher dimensional space? If so, provide an example."
      ]
    },
    {
      "cell_type": "markdown",
      "metadata": {
        "id": "2nEWvwVyVWdW",
        "colab_type": "text"
      },
      "source": [
        "# Vector Transformations"
      ]
    },
    {
      "cell_type": "markdown",
      "metadata": {
        "id": "1n0-6FsYVcVk",
        "colab_type": "text"
      },
      "source": [
        "## 4.1 Plug the corresponding unit vectors into each function. Use the output vectors to create a transformation matrix.\n",
        "\n",
        "\\begin{align}\n",
        "p(\\begin{bmatrix}x_1 \\\\ x_2 \\end{bmatrix}) = \\begin{bmatrix} x_1 + 3x_2 \\\\2 x_2 - x_1 \\\\  \\end{bmatrix}\n",
        "\\\\\n",
        "\\\\\n",
        "q(\\begin{bmatrix}x_1 \\\\ x_2 \\\\ x_3\\end{bmatrix}) = \\begin{bmatrix} 4x_1 + x_2 + 2x_3 \\\\2 x_2 - x_1 + 3x_3 \\\\ 5x_1 - 2x_3 + x_2  \\end{bmatrix}\n",
        "\\end{align}"
      ]
    },
    {
      "cell_type": "markdown",
      "metadata": {
        "id": "cyRsxI1lLWYE",
        "colab_type": "text"
      },
      "source": [
        "\\begin{align}\n",
        "p(\\begin{bmatrix}1 \\\\ 0 \\end{bmatrix}) = \\begin{bmatrix} 1 \\\\ -1 \\\\  \\end{bmatrix}\n",
        "\\\\\n",
        "p(\\begin{bmatrix}0 \\\\ 1 \\end{bmatrix}) = \\begin{bmatrix} 3 \\\\ 2 \\end{bmatrix}\n",
        "\\\\\n",
        "Tp = \\begin{bmatrix} 1 & 3 \\\\ -1 & 2 \\end{bmatrix}\n",
        "\\end{align}"
      ]
    },
    {
      "cell_type": "markdown",
      "metadata": {
        "id": "edZcBCuFIa49",
        "colab_type": "text"
      },
      "source": [
        "\\begin{align}\n",
        "q(\\begin{bmatrix} 1 \\\\ 0 \\\\ 0 \\end{bmatrix}) = \\begin{bmatrix} 4 \\\\ -1 \\\\ 5 \\end{bmatrix}\n",
        "\\\\\n",
        "q(\\begin{bmatrix} 0 \\\\ 1 \\\\ 0 \\end{bmatrix}) = \\begin{bmatrix} 1 \\\\ 2 \\\\ 1 \\end{bmatrix}\n",
        "\\\\\n",
        "q(\\begin{bmatrix} 0 \\\\ 0 \\\\ 1 \\end{bmatrix}) = \\begin{bmatrix} 2 \\\\ 3 \\\\ -2 \\end{bmatrix}\n",
        "\\\\\n",
        "Tq = \\begin{bmatrix} 4 & 1 & 2 \\\\ -1 & 2 & 3 \\\\ 5 & 1 & -2 \\end{bmatrix}\n",
        "\\end{align}"
      ]
    },
    {
      "cell_type": "markdown",
      "metadata": {
        "id": "n5HUOQIxZ2gp",
        "colab_type": "text"
      },
      "source": [
        "## 4.2 Verify that your transformation matrices are correct by choosing an input matrix and calculating the result both via the traditional functions above and also via vector-matrix multiplication."
      ]
    },
    {
      "cell_type": "code",
      "metadata": {
        "id": "0UANR1IEaVWE",
        "colab_type": "code",
        "colab": {
          "base_uri": "https://localhost:8080/",
          "height": 238
        },
        "outputId": "f539f428-f33d-4129-bed3-f8ce616199cb"
      },
      "source": [
        "Tp = np.array([[1, 3], \n",
        "              [-1, 2]])\n",
        "\n",
        "p = np.array([[3],\n",
        "             [5]])\n",
        "\n",
        "Tq = np.array([[4, 1, 2],\n",
        "              [-1, 2, 3],\n",
        "              [5, 1, -2]])\n",
        "\n",
        "q = np.array([[2],\n",
        "             [5],\n",
        "             [11]])\n",
        "\n",
        "print(np.matmul(Tp, p))\n",
        "\n",
        "P = np.array([[p[0] + 3 * p[1]],\n",
        "              [2 * p[1] - p[0]]])\n",
        "print(P)\n",
        "\n",
        "print(np.matmul(Tq, q))\n",
        "\n",
        "Q = np.array([[4 * q[0] + q[1] + 2 * q[2]],\n",
        "              [2 * q[1] - q[0] + 3 * q[2]],\n",
        "              [5 * q[0] - 2 * q[2] + q[1]]])\n",
        "Q"
      ],
      "execution_count": null,
      "outputs": [
        {
          "output_type": "stream",
          "text": [
            "[[18]\n",
            " [ 7]]\n",
            "[[[18]]\n",
            "\n",
            " [[ 7]]]\n",
            "[[35]\n",
            " [41]\n",
            " [-7]]\n"
          ],
          "name": "stdout"
        },
        {
          "output_type": "execute_result",
          "data": {
            "text/plain": [
              "array([[[35]],\n",
              "\n",
              "       [[41]],\n",
              "\n",
              "       [[-7]]])"
            ]
          },
          "metadata": {
            "tags": []
          },
          "execution_count": 27
        }
      ]
    },
    {
      "cell_type": "markdown",
      "metadata": {
        "id": "vEoiri3mak7j",
        "colab_type": "text"
      },
      "source": [
        "# Eigenvalues and Eigenvectors"
      ]
    },
    {
      "cell_type": "markdown",
      "metadata": {
        "id": "5HY0R4u7anIr",
        "colab_type": "text"
      },
      "source": [
        "## 5.1 In your own words, give an explanation for the intuition behind eigenvalues and eigenvectors."
      ]
    },
    {
      "cell_type": "markdown",
      "metadata": {
        "id": "1zLOUVr0QqVJ",
        "colab_type": "text"
      },
      "source": [
        "In a 3d space, the eigenvectors are the axes of rotation with an eigen value of 1."
      ]
    },
    {
      "cell_type": "markdown",
      "metadata": {
        "id": "VdehMwBtatKI",
        "colab_type": "text"
      },
      "source": [
        "# The Curse of Dimensionality"
      ]
    },
    {
      "cell_type": "markdown",
      "metadata": {
        "id": "4oVrJax-a3SK",
        "colab_type": "text"
      },
      "source": [
        "## 6.1 What are some of the challenges of working with high dimensional spaces?"
      ]
    },
    {
      "cell_type": "markdown",
      "metadata": {
        "id": "c6ZcFlFLflfk",
        "colab_type": "text"
      },
      "source": [
        "Working in high dimensional spaces spreads values exponentially, making euclidean distance less useful. It can also make the data less generalizable."
      ]
    },
    {
      "cell_type": "markdown",
      "metadata": {
        "id": "ZiBJxsZla88c",
        "colab_type": "text"
      },
      "source": [
        "## 6.2 What is the rule of thumb for how many observations you should have compared to parameters in your model?"
      ]
    },
    {
      "cell_type": "markdown",
      "metadata": {
        "id": "0-IfMcAwgAkg",
        "colab_type": "text"
      },
      "source": [
        "You should try to have at least five times as many rows as parameters."
      ]
    },
    {
      "cell_type": "markdown",
      "metadata": {
        "id": "NZmqdeygbHJx",
        "colab_type": "text"
      },
      "source": [
        "# Principal Component Analysis"
      ]
    },
    {
      "cell_type": "markdown",
      "metadata": {
        "id": "7iEheetpbJdN",
        "colab_type": "text"
      },
      "source": [
        "## 7.1 Code for loading and cleaning the 2013 national dataset from the [Housing Affordability Data System (HADS)](https://www.huduser.gov/portal/datasets/hads/hads.html) --housing data, can be found below. \n",
        "\n",
        "## Perform PCA on the processed dataset `national_processed` (Make sure you standardize your data!) and then make a scatterplot of PC1 against PC2. Some of our discussion and work around PCA with this dataset will continue during tomorrow's lecture and assignment.\n",
        "\n",
        "Not only does this dataset have decent amount columns to begin with (99), but in preparing the data for PCA we have also [one-hot-encoded](https://hackernoon.com/what-is-one-hot-encoding-why-and-when-do-you-have-to-use-it-e3c6186d008f#targetText=One%20hot%20encoding%20is%20a,the%20entry%20in%20the%20dataset.) all of the categorical variables. This has the effect of creating a new column for each individual category of each categorical variable. After processing this dataset has 64738 columns. --Das a lot of columns.\n",
        "\n",
        "Don't worry too much about the mechanics of one-hot encoding right now, you will learn and experiment with a whole bunch of categorical encoding approaches in unit 2. \n",
        "\n",
        "The code below will read in the dataset and perform the one-hot encoding of the categorical variables. Start adding your PCA code at the bottom of the provided code."
      ]
    },
    {
      "cell_type": "code",
      "metadata": {
        "id": "Us4nNFs02HlD",
        "colab_type": "code",
        "colab": {
          "base_uri": "https://localhost:8080/",
          "height": 355
        },
        "outputId": "ec53a68f-597a-4829-90b6-aee1502ed2d4"
      },
      "source": [
        "from urllib.request import urlopen\n",
        "from zipfile import ZipFile\n",
        "from io import BytesIO\n",
        "import os.path\n",
        "import pandas as pd\n",
        "import numpy as np\n",
        "import matplotlib.pyplot as plt\n",
        "\n",
        "# Read Natinal Data \n",
        "national_url = 'https://www.huduser.gov/portal/datasets/hads/hads2013n_ASCII.zip'\n",
        "national_file = 'thads2013n.txt'\n",
        "\n",
        "if os.path.exists(national_file):\n",
        "    national = pd.read_csv(national_file)\n",
        "else: \n",
        "    z_national = urlopen(national_url)\n",
        "    zip_national = ZipFile(BytesIO(z_national.read())).extract(national_file)\n",
        "    national = pd.read_csv(zip_national)\n",
        "\n",
        "print(national.shape)\n",
        "national.head()"
      ],
      "execution_count": 1,
      "outputs": [
        {
          "output_type": "stream",
          "text": [
            "(64535, 99)\n"
          ],
          "name": "stdout"
        },
        {
          "output_type": "execute_result",
          "data": {
            "text/html": [
              "<div>\n",
              "<style scoped>\n",
              "    .dataframe tbody tr th:only-of-type {\n",
              "        vertical-align: middle;\n",
              "    }\n",
              "\n",
              "    .dataframe tbody tr th {\n",
              "        vertical-align: top;\n",
              "    }\n",
              "\n",
              "    .dataframe thead th {\n",
              "        text-align: right;\n",
              "    }\n",
              "</style>\n",
              "<table border=\"1\" class=\"dataframe\">\n",
              "  <thead>\n",
              "    <tr style=\"text-align: right;\">\n",
              "      <th></th>\n",
              "      <th>CONTROL</th>\n",
              "      <th>AGE1</th>\n",
              "      <th>METRO3</th>\n",
              "      <th>REGION</th>\n",
              "      <th>LMED</th>\n",
              "      <th>FMR</th>\n",
              "      <th>L30</th>\n",
              "      <th>L50</th>\n",
              "      <th>L80</th>\n",
              "      <th>IPOV</th>\n",
              "      <th>BEDRMS</th>\n",
              "      <th>BUILT</th>\n",
              "      <th>STATUS</th>\n",
              "      <th>TYPE</th>\n",
              "      <th>VALUE</th>\n",
              "      <th>VACANCY</th>\n",
              "      <th>TENURE</th>\n",
              "      <th>NUNITS</th>\n",
              "      <th>ROOMS</th>\n",
              "      <th>WEIGHT</th>\n",
              "      <th>PER</th>\n",
              "      <th>ZINC2</th>\n",
              "      <th>ZADEQ</th>\n",
              "      <th>ZSMHC</th>\n",
              "      <th>STRUCTURETYPE</th>\n",
              "      <th>OWNRENT</th>\n",
              "      <th>UTILITY</th>\n",
              "      <th>OTHERCOST</th>\n",
              "      <th>COST06</th>\n",
              "      <th>COST12</th>\n",
              "      <th>COST08</th>\n",
              "      <th>COSTMED</th>\n",
              "      <th>TOTSAL</th>\n",
              "      <th>ASSISTED</th>\n",
              "      <th>GLMED</th>\n",
              "      <th>GL30</th>\n",
              "      <th>GL50</th>\n",
              "      <th>GL80</th>\n",
              "      <th>APLMED</th>\n",
              "      <th>ABL30</th>\n",
              "      <th>...</th>\n",
              "      <th>COST08RELPOVCAT</th>\n",
              "      <th>COST08RELFMRPCT</th>\n",
              "      <th>COST08RELFMRCAT</th>\n",
              "      <th>COST12RELAMIPCT</th>\n",
              "      <th>COST12RELAMICAT</th>\n",
              "      <th>COST12RELPOVPCT</th>\n",
              "      <th>COST12RELPOVCAT</th>\n",
              "      <th>COST12RELFMRPCT</th>\n",
              "      <th>COST12RELFMRCAT</th>\n",
              "      <th>COSTMedRELAMIPCT</th>\n",
              "      <th>COSTMedRELAMICAT</th>\n",
              "      <th>COSTMedRELPOVPCT</th>\n",
              "      <th>COSTMedRELPOVCAT</th>\n",
              "      <th>COSTMedRELFMRPCT</th>\n",
              "      <th>COSTMedRELFMRCAT</th>\n",
              "      <th>FMTZADEQ</th>\n",
              "      <th>FMTMETRO3</th>\n",
              "      <th>FMTBUILT</th>\n",
              "      <th>FMTSTRUCTURETYPE</th>\n",
              "      <th>FMTBEDRMS</th>\n",
              "      <th>FMTOWNRENT</th>\n",
              "      <th>FMTCOST06RELPOVCAT</th>\n",
              "      <th>FMTCOST08RELPOVCAT</th>\n",
              "      <th>FMTCOST12RELPOVCAT</th>\n",
              "      <th>FMTCOSTMEDRELPOVCAT</th>\n",
              "      <th>FMTINCRELPOVCAT</th>\n",
              "      <th>FMTCOST06RELFMRCAT</th>\n",
              "      <th>FMTCOST08RELFMRCAT</th>\n",
              "      <th>FMTCOST12RELFMRCAT</th>\n",
              "      <th>FMTCOSTMEDRELFMRCAT</th>\n",
              "      <th>FMTINCRELFMRCAT</th>\n",
              "      <th>FMTCOST06RELAMICAT</th>\n",
              "      <th>FMTCOST08RELAMICAT</th>\n",
              "      <th>FMTCOST12RELAMICAT</th>\n",
              "      <th>FMTCOSTMEDRELAMICAT</th>\n",
              "      <th>FMTINCRELAMICAT</th>\n",
              "      <th>FMTASSISTED</th>\n",
              "      <th>FMTBURDEN</th>\n",
              "      <th>FMTREGION</th>\n",
              "      <th>FMTSTATUS</th>\n",
              "    </tr>\n",
              "  </thead>\n",
              "  <tbody>\n",
              "    <tr>\n",
              "      <th>0</th>\n",
              "      <td>'100003130103'</td>\n",
              "      <td>82</td>\n",
              "      <td>'3'</td>\n",
              "      <td>'1'</td>\n",
              "      <td>73738</td>\n",
              "      <td>956</td>\n",
              "      <td>15738</td>\n",
              "      <td>26213</td>\n",
              "      <td>40322</td>\n",
              "      <td>11067</td>\n",
              "      <td>2</td>\n",
              "      <td>2006</td>\n",
              "      <td>'1'</td>\n",
              "      <td>1</td>\n",
              "      <td>40000</td>\n",
              "      <td>-6</td>\n",
              "      <td>'1'</td>\n",
              "      <td>1</td>\n",
              "      <td>6</td>\n",
              "      <td>3117.394239</td>\n",
              "      <td>1</td>\n",
              "      <td>18021</td>\n",
              "      <td>'1'</td>\n",
              "      <td>533</td>\n",
              "      <td>1</td>\n",
              "      <td>'1'</td>\n",
              "      <td>169.000000</td>\n",
              "      <td>213.750000</td>\n",
              "      <td>648.588189</td>\n",
              "      <td>803.050535</td>\n",
              "      <td>696.905247</td>\n",
              "      <td>615.156712</td>\n",
              "      <td>0</td>\n",
              "      <td>-9</td>\n",
              "      <td>73738</td>\n",
              "      <td>15738</td>\n",
              "      <td>26213</td>\n",
              "      <td>40322</td>\n",
              "      <td>51616.6</td>\n",
              "      <td>20234.571429</td>\n",
              "      <td>...</td>\n",
              "      <td>4</td>\n",
              "      <td>72.898038</td>\n",
              "      <td>2</td>\n",
              "      <td>48.402635</td>\n",
              "      <td>2</td>\n",
              "      <td>290.250487</td>\n",
              "      <td>4</td>\n",
              "      <td>84.001102</td>\n",
              "      <td>2</td>\n",
              "      <td>37.077624</td>\n",
              "      <td>2</td>\n",
              "      <td>222.339102</td>\n",
              "      <td>4</td>\n",
              "      <td>64.346936</td>\n",
              "      <td>2</td>\n",
              "      <td>'1 Adequate'</td>\n",
              "      <td>'-5'</td>\n",
              "      <td>'2000-2009'</td>\n",
              "      <td>'1 Single Family'</td>\n",
              "      <td>'2 2BR'</td>\n",
              "      <td>'1 Owner'</td>\n",
              "      <td>'4 200%+ Poverty'</td>\n",
              "      <td>'4 200%+ Poverty'</td>\n",
              "      <td>'4 200%+ Poverty'</td>\n",
              "      <td>'4 200%+ Poverty'</td>\n",
              "      <td>'3 150-200% Poverty'</td>\n",
              "      <td>'2 50.1 - 100% FMR'</td>\n",
              "      <td>'2 50.1 - 100% FMR'</td>\n",
              "      <td>'2 50.1 - 100% FMR'</td>\n",
              "      <td>'2 50.1 - 100% FMR'</td>\n",
              "      <td>'1 LTE 50% FMR'</td>\n",
              "      <td>'2 30 - 50% AMI'</td>\n",
              "      <td>'2 30 - 50% AMI'</td>\n",
              "      <td>'2 30 - 50% AMI'</td>\n",
              "      <td>'2 30 - 50% AMI'</td>\n",
              "      <td>'2 30 - 50% AMI'</td>\n",
              "      <td>'.'</td>\n",
              "      <td>'2 30% to 50%'</td>\n",
              "      <td>'-5'</td>\n",
              "      <td>'-5'</td>\n",
              "    </tr>\n",
              "    <tr>\n",
              "      <th>1</th>\n",
              "      <td>'100006110249'</td>\n",
              "      <td>50</td>\n",
              "      <td>'5'</td>\n",
              "      <td>'3'</td>\n",
              "      <td>55846</td>\n",
              "      <td>1100</td>\n",
              "      <td>17165</td>\n",
              "      <td>28604</td>\n",
              "      <td>45744</td>\n",
              "      <td>24218</td>\n",
              "      <td>4</td>\n",
              "      <td>1980</td>\n",
              "      <td>'1'</td>\n",
              "      <td>1</td>\n",
              "      <td>130000</td>\n",
              "      <td>-6</td>\n",
              "      <td>'1'</td>\n",
              "      <td>1</td>\n",
              "      <td>6</td>\n",
              "      <td>2150.725544</td>\n",
              "      <td>4</td>\n",
              "      <td>122961</td>\n",
              "      <td>'1'</td>\n",
              "      <td>487</td>\n",
              "      <td>1</td>\n",
              "      <td>'1'</td>\n",
              "      <td>245.333333</td>\n",
              "      <td>58.333333</td>\n",
              "      <td>1167.640781</td>\n",
              "      <td>1669.643405</td>\n",
              "      <td>1324.671218</td>\n",
              "      <td>1058.988479</td>\n",
              "      <td>123000</td>\n",
              "      <td>-9</td>\n",
              "      <td>55846</td>\n",
              "      <td>17165</td>\n",
              "      <td>28604</td>\n",
              "      <td>45744</td>\n",
              "      <td>55846.0</td>\n",
              "      <td>19911.400000</td>\n",
              "      <td>...</td>\n",
              "      <td>4</td>\n",
              "      <td>120.424656</td>\n",
              "      <td>3</td>\n",
              "      <td>103.094063</td>\n",
              "      <td>6</td>\n",
              "      <td>275.768999</td>\n",
              "      <td>4</td>\n",
              "      <td>151.785764</td>\n",
              "      <td>3</td>\n",
              "      <td>65.388468</td>\n",
              "      <td>4</td>\n",
              "      <td>174.909320</td>\n",
              "      <td>3</td>\n",
              "      <td>96.271680</td>\n",
              "      <td>2</td>\n",
              "      <td>'1 Adequate'</td>\n",
              "      <td>'-5'</td>\n",
              "      <td>'1980-1989'</td>\n",
              "      <td>'1 Single Family'</td>\n",
              "      <td>'4 4BR+'</td>\n",
              "      <td>'1 Owner'</td>\n",
              "      <td>'3 150-200% Poverty'</td>\n",
              "      <td>'4 200%+ Poverty'</td>\n",
              "      <td>'4 200%+ Poverty'</td>\n",
              "      <td>'3 150-200% Poverty'</td>\n",
              "      <td>'4 200%+ Poverty'</td>\n",
              "      <td>'3 GT FMR'</td>\n",
              "      <td>'3 GT FMR'</td>\n",
              "      <td>'3 GT FMR'</td>\n",
              "      <td>'2 50.1 - 100% FMR'</td>\n",
              "      <td>'3 GT FMR'</td>\n",
              "      <td>'4 60 - 80% AMI'</td>\n",
              "      <td>'4 60 - 80% AMI'</td>\n",
              "      <td>'6 100 - 120% AMI'</td>\n",
              "      <td>'4 60 - 80% AMI'</td>\n",
              "      <td>'7 120% AMI +'</td>\n",
              "      <td>'.'</td>\n",
              "      <td>'1 Less than 30%'</td>\n",
              "      <td>'-5'</td>\n",
              "      <td>'-5'</td>\n",
              "    </tr>\n",
              "    <tr>\n",
              "      <th>2</th>\n",
              "      <td>'100006370140'</td>\n",
              "      <td>53</td>\n",
              "      <td>'5'</td>\n",
              "      <td>'3'</td>\n",
              "      <td>55846</td>\n",
              "      <td>1100</td>\n",
              "      <td>13750</td>\n",
              "      <td>22897</td>\n",
              "      <td>36614</td>\n",
              "      <td>15470</td>\n",
              "      <td>4</td>\n",
              "      <td>1985</td>\n",
              "      <td>'1'</td>\n",
              "      <td>1</td>\n",
              "      <td>150000</td>\n",
              "      <td>-6</td>\n",
              "      <td>'1'</td>\n",
              "      <td>1</td>\n",
              "      <td>7</td>\n",
              "      <td>2213.789404</td>\n",
              "      <td>2</td>\n",
              "      <td>27974</td>\n",
              "      <td>'1'</td>\n",
              "      <td>1405</td>\n",
              "      <td>1</td>\n",
              "      <td>'1'</td>\n",
              "      <td>159.000000</td>\n",
              "      <td>37.500000</td>\n",
              "      <td>1193.393209</td>\n",
              "      <td>1772.627006</td>\n",
              "      <td>1374.582175</td>\n",
              "      <td>1068.025168</td>\n",
              "      <td>28000</td>\n",
              "      <td>-9</td>\n",
              "      <td>55846</td>\n",
              "      <td>13750</td>\n",
              "      <td>22897</td>\n",
              "      <td>36614</td>\n",
              "      <td>44676.8</td>\n",
              "      <td>19937.500000</td>\n",
              "      <td>...</td>\n",
              "      <td>4</td>\n",
              "      <td>124.962016</td>\n",
              "      <td>3</td>\n",
              "      <td>109.452905</td>\n",
              "      <td>6</td>\n",
              "      <td>458.339239</td>\n",
              "      <td>4</td>\n",
              "      <td>161.147910</td>\n",
              "      <td>3</td>\n",
              "      <td>65.946449</td>\n",
              "      <td>4</td>\n",
              "      <td>276.153890</td>\n",
              "      <td>4</td>\n",
              "      <td>97.093197</td>\n",
              "      <td>2</td>\n",
              "      <td>'1 Adequate'</td>\n",
              "      <td>'-5'</td>\n",
              "      <td>'1980-1989'</td>\n",
              "      <td>'1 Single Family'</td>\n",
              "      <td>'4 4BR+'</td>\n",
              "      <td>'1 Owner'</td>\n",
              "      <td>'4 200%+ Poverty'</td>\n",
              "      <td>'4 200%+ Poverty'</td>\n",
              "      <td>'4 200%+ Poverty'</td>\n",
              "      <td>'4 200%+ Poverty'</td>\n",
              "      <td>'3 150-200% Poverty'</td>\n",
              "      <td>'3 GT FMR'</td>\n",
              "      <td>'3 GT FMR'</td>\n",
              "      <td>'3 GT FMR'</td>\n",
              "      <td>'2 50.1 - 100% FMR'</td>\n",
              "      <td>'2 50.1 - 100% FMR'</td>\n",
              "      <td>'4 60 - 80% AMI'</td>\n",
              "      <td>'5 80 - 100% AMI'</td>\n",
              "      <td>'6 100 - 120% AMI'</td>\n",
              "      <td>'4 60 - 80% AMI'</td>\n",
              "      <td>'4 60 - 80% AMI'</td>\n",
              "      <td>'.'</td>\n",
              "      <td>'3 50% or More'</td>\n",
              "      <td>'-5'</td>\n",
              "      <td>'-5'</td>\n",
              "    </tr>\n",
              "    <tr>\n",
              "      <th>3</th>\n",
              "      <td>'100006520140'</td>\n",
              "      <td>67</td>\n",
              "      <td>'5'</td>\n",
              "      <td>'3'</td>\n",
              "      <td>55846</td>\n",
              "      <td>949</td>\n",
              "      <td>13750</td>\n",
              "      <td>22897</td>\n",
              "      <td>36614</td>\n",
              "      <td>13964</td>\n",
              "      <td>3</td>\n",
              "      <td>1985</td>\n",
              "      <td>'1'</td>\n",
              "      <td>1</td>\n",
              "      <td>200000</td>\n",
              "      <td>-6</td>\n",
              "      <td>'1'</td>\n",
              "      <td>1</td>\n",
              "      <td>6</td>\n",
              "      <td>2364.585097</td>\n",
              "      <td>2</td>\n",
              "      <td>32220</td>\n",
              "      <td>'1'</td>\n",
              "      <td>279</td>\n",
              "      <td>1</td>\n",
              "      <td>'1'</td>\n",
              "      <td>179.000000</td>\n",
              "      <td>70.666667</td>\n",
              "      <td>1578.857612</td>\n",
              "      <td>2351.169341</td>\n",
              "      <td>1820.442900</td>\n",
              "      <td>1411.700224</td>\n",
              "      <td>0</td>\n",
              "      <td>-9</td>\n",
              "      <td>55846</td>\n",
              "      <td>13750</td>\n",
              "      <td>22897</td>\n",
              "      <td>36614</td>\n",
              "      <td>44676.8</td>\n",
              "      <td>17875.000000</td>\n",
              "      <td>...</td>\n",
              "      <td>4</td>\n",
              "      <td>191.827492</td>\n",
              "      <td>3</td>\n",
              "      <td>161.926709</td>\n",
              "      <td>7</td>\n",
              "      <td>673.494512</td>\n",
              "      <td>4</td>\n",
              "      <td>247.752301</td>\n",
              "      <td>3</td>\n",
              "      <td>97.224801</td>\n",
              "      <td>5</td>\n",
              "      <td>404.382763</td>\n",
              "      <td>4</td>\n",
              "      <td>148.756610</td>\n",
              "      <td>3</td>\n",
              "      <td>'1 Adequate'</td>\n",
              "      <td>'-5'</td>\n",
              "      <td>'1980-1989'</td>\n",
              "      <td>'1 Single Family'</td>\n",
              "      <td>'3 3BR'</td>\n",
              "      <td>'1 Owner'</td>\n",
              "      <td>'4 200%+ Poverty'</td>\n",
              "      <td>'4 200%+ Poverty'</td>\n",
              "      <td>'4 200%+ Poverty'</td>\n",
              "      <td>'4 200%+ Poverty'</td>\n",
              "      <td>'4 200%+ Poverty'</td>\n",
              "      <td>'3 GT FMR'</td>\n",
              "      <td>'3 GT FMR'</td>\n",
              "      <td>'3 GT FMR'</td>\n",
              "      <td>'3 GT FMR'</td>\n",
              "      <td>'2 50.1 - 100% FMR'</td>\n",
              "      <td>'6 100 - 120% AMI'</td>\n",
              "      <td>'7 120% AMI +'</td>\n",
              "      <td>'7 120% AMI +'</td>\n",
              "      <td>'5 80 - 100% AMI'</td>\n",
              "      <td>'4 60 - 80% AMI'</td>\n",
              "      <td>'.'</td>\n",
              "      <td>'1 Less than 30%'</td>\n",
              "      <td>'-5'</td>\n",
              "      <td>'-5'</td>\n",
              "    </tr>\n",
              "    <tr>\n",
              "      <th>4</th>\n",
              "      <td>'100007130148'</td>\n",
              "      <td>26</td>\n",
              "      <td>'1'</td>\n",
              "      <td>'3'</td>\n",
              "      <td>60991</td>\n",
              "      <td>737</td>\n",
              "      <td>14801</td>\n",
              "      <td>24628</td>\n",
              "      <td>39421</td>\n",
              "      <td>15492</td>\n",
              "      <td>2</td>\n",
              "      <td>1980</td>\n",
              "      <td>'1'</td>\n",
              "      <td>1</td>\n",
              "      <td>-6</td>\n",
              "      <td>-6</td>\n",
              "      <td>'2'</td>\n",
              "      <td>100</td>\n",
              "      <td>4</td>\n",
              "      <td>2314.524902</td>\n",
              "      <td>2</td>\n",
              "      <td>96874</td>\n",
              "      <td>'1'</td>\n",
              "      <td>759</td>\n",
              "      <td>5</td>\n",
              "      <td>'2'</td>\n",
              "      <td>146.000000</td>\n",
              "      <td>12.500000</td>\n",
              "      <td>759.000000</td>\n",
              "      <td>759.000000</td>\n",
              "      <td>759.000000</td>\n",
              "      <td>759.000000</td>\n",
              "      <td>96900</td>\n",
              "      <td>0</td>\n",
              "      <td>60991</td>\n",
              "      <td>14801</td>\n",
              "      <td>24628</td>\n",
              "      <td>39421</td>\n",
              "      <td>48792.8</td>\n",
              "      <td>16651.125000</td>\n",
              "      <td>...</td>\n",
              "      <td>3</td>\n",
              "      <td>102.985075</td>\n",
              "      <td>3</td>\n",
              "      <td>55.308707</td>\n",
              "      <td>3</td>\n",
              "      <td>195.972115</td>\n",
              "      <td>3</td>\n",
              "      <td>102.985075</td>\n",
              "      <td>3</td>\n",
              "      <td>55.308707</td>\n",
              "      <td>3</td>\n",
              "      <td>195.972115</td>\n",
              "      <td>3</td>\n",
              "      <td>102.985075</td>\n",
              "      <td>3</td>\n",
              "      <td>'1 Adequate'</td>\n",
              "      <td>'Central City'</td>\n",
              "      <td>'1980-1989'</td>\n",
              "      <td>'5 50+ units'</td>\n",
              "      <td>'2 2BR'</td>\n",
              "      <td>'2 Renter'</td>\n",
              "      <td>'3 150-200% Poverty'</td>\n",
              "      <td>'3 150-200% Poverty'</td>\n",
              "      <td>'3 150-200% Poverty'</td>\n",
              "      <td>'3 150-200% Poverty'</td>\n",
              "      <td>'4 200%+ Poverty'</td>\n",
              "      <td>'3 GT FMR'</td>\n",
              "      <td>'3 GT FMR'</td>\n",
              "      <td>'3 GT FMR'</td>\n",
              "      <td>'3 GT FMR'</td>\n",
              "      <td>'3 GT FMR'</td>\n",
              "      <td>'3 50 - 60% AMI'</td>\n",
              "      <td>'3 50 - 60% AMI'</td>\n",
              "      <td>'3 50 - 60% AMI'</td>\n",
              "      <td>'3 50 - 60% AMI'</td>\n",
              "      <td>'7 120% AMI +'</td>\n",
              "      <td>'0 Not Assisted'</td>\n",
              "      <td>'1 Less than 30%'</td>\n",
              "      <td>'-5'</td>\n",
              "      <td>'-5'</td>\n",
              "    </tr>\n",
              "  </tbody>\n",
              "</table>\n",
              "<p>5 rows × 99 columns</p>\n",
              "</div>"
            ],
            "text/plain": [
              "          CONTROL  AGE1 METRO3  ...          FMTBURDEN  FMTREGION  FMTSTATUS\n",
              "0  '100003130103'    82    '3'  ...     '2 30% to 50%'       '-5'       '-5'\n",
              "1  '100006110249'    50    '5'  ...  '1 Less than 30%'       '-5'       '-5'\n",
              "2  '100006370140'    53    '5'  ...    '3 50% or More'       '-5'       '-5'\n",
              "3  '100006520140'    67    '5'  ...  '1 Less than 30%'       '-5'       '-5'\n",
              "4  '100007130148'    26    '1'  ...  '1 Less than 30%'       '-5'       '-5'\n",
              "\n",
              "[5 rows x 99 columns]"
            ]
          },
          "metadata": {
            "tags": []
          },
          "execution_count": 1
        }
      ]
    },
    {
      "cell_type": "code",
      "metadata": {
        "id": "O5zrMTud2qFU",
        "colab_type": "code",
        "colab": {
          "base_uri": "https://localhost:8080/",
          "height": 221
        },
        "outputId": "36a90bb9-34b4-45f4-82e6-26ec29b6513c"
      },
      "source": [
        "# Look at datatypes\n",
        "# a lot of object datatypes even though they seem to be strings of numbers.\n",
        "national.dtypes"
      ],
      "execution_count": 2,
      "outputs": [
        {
          "output_type": "execute_result",
          "data": {
            "text/plain": [
              "CONTROL            object\n",
              "AGE1                int64\n",
              "METRO3             object\n",
              "REGION             object\n",
              "LMED                int64\n",
              "                    ...  \n",
              "FMTINCRELAMICAT    object\n",
              "FMTASSISTED        object\n",
              "FMTBURDEN          object\n",
              "FMTREGION          object\n",
              "FMTSTATUS          object\n",
              "Length: 99, dtype: object"
            ]
          },
          "metadata": {
            "tags": []
          },
          "execution_count": 2
        }
      ]
    },
    {
      "cell_type": "code",
      "metadata": {
        "id": "yIrOjVmd2yLz",
        "colab_type": "code",
        "colab": {
          "base_uri": "https://localhost:8080/",
          "height": 34
        },
        "outputId": "84e87c35-d347-4cea-86bf-fb99c6f04992"
      },
      "source": [
        "# check for null values\n",
        "national.isnull().sum().any()"
      ],
      "execution_count": 3,
      "outputs": [
        {
          "output_type": "execute_result",
          "data": {
            "text/plain": [
              "False"
            ]
          },
          "metadata": {
            "tags": []
          },
          "execution_count": 3
        }
      ]
    },
    {
      "cell_type": "code",
      "metadata": {
        "id": "2u9tdmwX3KL_",
        "colab_type": "code",
        "colab": {
          "base_uri": "https://localhost:8080/",
          "height": 51
        },
        "outputId": "c8381f44-903e-4c34-f736-212f6d12f7ed"
      },
      "source": [
        "# check for number of categorical vs numeric columns\n",
        "cat_cols = national.columns[national.dtypes=='object']\n",
        "num_cols = national.columns[national.dtypes!='object']\n",
        "\n",
        "print(f'{len(cat_cols)} categorical columns')\n",
        "print(f'{len(num_cols)} numerical columns')"
      ],
      "execution_count": 4,
      "outputs": [
        {
          "output_type": "stream",
          "text": [
            "32 categorical columns\n",
            "67 numerical columns\n"
          ],
          "name": "stdout"
        }
      ]
    },
    {
      "cell_type": "code",
      "metadata": {
        "id": "UMHOtOs_3gcL",
        "colab_type": "code",
        "colab": {
          "base_uri": "https://localhost:8080/",
          "height": 221
        },
        "outputId": "5fc4c0d1-c6d6-4ddf-c5e5-743cc6627f85"
      },
      "source": [
        "# We're making a copy of our data in case we mess something up.\n",
        "national_processed = national.copy()\n",
        "\n",
        "# Categorically Encode our Variables:\n",
        "# They need to all be numeric before we do PCA.\n",
        "# https://pbpython.com/categorical-encoding.html\n",
        "\n",
        "# Cast categorical columns to \"category\" data type\n",
        "national_processed[cat_cols] = national_processed[cat_cols].astype('category')\n",
        "\n",
        "national_processed.dtypes"
      ],
      "execution_count": 5,
      "outputs": [
        {
          "output_type": "execute_result",
          "data": {
            "text/plain": [
              "CONTROL            category\n",
              "AGE1                  int64\n",
              "METRO3             category\n",
              "REGION             category\n",
              "LMED                  int64\n",
              "                     ...   \n",
              "FMTINCRELAMICAT    category\n",
              "FMTASSISTED        category\n",
              "FMTBURDEN          category\n",
              "FMTREGION          category\n",
              "FMTSTATUS          category\n",
              "Length: 99, dtype: object"
            ]
          },
          "metadata": {
            "tags": []
          },
          "execution_count": 5
        }
      ]
    },
    {
      "cell_type": "code",
      "metadata": {
        "id": "ymxU-aPtQ1eq",
        "colab_type": "code",
        "colab": {
          "base_uri": "https://localhost:8080/",
          "height": 270
        },
        "outputId": "57e50e1d-5adc-45d4-d340-429cb05d124e"
      },
      "source": [
        "# Replace all category cell values with their numeric category codes\n",
        "for col in cat_cols:\n",
        "  national_processed[col] = national_processed[col].cat.codes\n",
        "\n",
        "print(national_processed.shape)\n",
        "national_processed.head()"
      ],
      "execution_count": 6,
      "outputs": [
        {
          "output_type": "stream",
          "text": [
            "(64535, 99)\n"
          ],
          "name": "stdout"
        },
        {
          "output_type": "execute_result",
          "data": {
            "text/html": [
              "<div>\n",
              "<style scoped>\n",
              "    .dataframe tbody tr th:only-of-type {\n",
              "        vertical-align: middle;\n",
              "    }\n",
              "\n",
              "    .dataframe tbody tr th {\n",
              "        vertical-align: top;\n",
              "    }\n",
              "\n",
              "    .dataframe thead th {\n",
              "        text-align: right;\n",
              "    }\n",
              "</style>\n",
              "<table border=\"1\" class=\"dataframe\">\n",
              "  <thead>\n",
              "    <tr style=\"text-align: right;\">\n",
              "      <th></th>\n",
              "      <th>CONTROL</th>\n",
              "      <th>AGE1</th>\n",
              "      <th>METRO3</th>\n",
              "      <th>REGION</th>\n",
              "      <th>LMED</th>\n",
              "      <th>FMR</th>\n",
              "      <th>L30</th>\n",
              "      <th>L50</th>\n",
              "      <th>L80</th>\n",
              "      <th>IPOV</th>\n",
              "      <th>BEDRMS</th>\n",
              "      <th>BUILT</th>\n",
              "      <th>STATUS</th>\n",
              "      <th>TYPE</th>\n",
              "      <th>VALUE</th>\n",
              "      <th>VACANCY</th>\n",
              "      <th>TENURE</th>\n",
              "      <th>NUNITS</th>\n",
              "      <th>ROOMS</th>\n",
              "      <th>WEIGHT</th>\n",
              "      <th>PER</th>\n",
              "      <th>ZINC2</th>\n",
              "      <th>ZADEQ</th>\n",
              "      <th>ZSMHC</th>\n",
              "      <th>STRUCTURETYPE</th>\n",
              "      <th>OWNRENT</th>\n",
              "      <th>UTILITY</th>\n",
              "      <th>OTHERCOST</th>\n",
              "      <th>COST06</th>\n",
              "      <th>COST12</th>\n",
              "      <th>COST08</th>\n",
              "      <th>COSTMED</th>\n",
              "      <th>TOTSAL</th>\n",
              "      <th>ASSISTED</th>\n",
              "      <th>GLMED</th>\n",
              "      <th>GL30</th>\n",
              "      <th>GL50</th>\n",
              "      <th>GL80</th>\n",
              "      <th>APLMED</th>\n",
              "      <th>ABL30</th>\n",
              "      <th>...</th>\n",
              "      <th>COST08RELPOVCAT</th>\n",
              "      <th>COST08RELFMRPCT</th>\n",
              "      <th>COST08RELFMRCAT</th>\n",
              "      <th>COST12RELAMIPCT</th>\n",
              "      <th>COST12RELAMICAT</th>\n",
              "      <th>COST12RELPOVPCT</th>\n",
              "      <th>COST12RELPOVCAT</th>\n",
              "      <th>COST12RELFMRPCT</th>\n",
              "      <th>COST12RELFMRCAT</th>\n",
              "      <th>COSTMedRELAMIPCT</th>\n",
              "      <th>COSTMedRELAMICAT</th>\n",
              "      <th>COSTMedRELPOVPCT</th>\n",
              "      <th>COSTMedRELPOVCAT</th>\n",
              "      <th>COSTMedRELFMRPCT</th>\n",
              "      <th>COSTMedRELFMRCAT</th>\n",
              "      <th>FMTZADEQ</th>\n",
              "      <th>FMTMETRO3</th>\n",
              "      <th>FMTBUILT</th>\n",
              "      <th>FMTSTRUCTURETYPE</th>\n",
              "      <th>FMTBEDRMS</th>\n",
              "      <th>FMTOWNRENT</th>\n",
              "      <th>FMTCOST06RELPOVCAT</th>\n",
              "      <th>FMTCOST08RELPOVCAT</th>\n",
              "      <th>FMTCOST12RELPOVCAT</th>\n",
              "      <th>FMTCOSTMEDRELPOVCAT</th>\n",
              "      <th>FMTINCRELPOVCAT</th>\n",
              "      <th>FMTCOST06RELFMRCAT</th>\n",
              "      <th>FMTCOST08RELFMRCAT</th>\n",
              "      <th>FMTCOST12RELFMRCAT</th>\n",
              "      <th>FMTCOSTMEDRELFMRCAT</th>\n",
              "      <th>FMTINCRELFMRCAT</th>\n",
              "      <th>FMTCOST06RELAMICAT</th>\n",
              "      <th>FMTCOST08RELAMICAT</th>\n",
              "      <th>FMTCOST12RELAMICAT</th>\n",
              "      <th>FMTCOSTMEDRELAMICAT</th>\n",
              "      <th>FMTINCRELAMICAT</th>\n",
              "      <th>FMTASSISTED</th>\n",
              "      <th>FMTBURDEN</th>\n",
              "      <th>FMTREGION</th>\n",
              "      <th>FMTSTATUS</th>\n",
              "    </tr>\n",
              "  </thead>\n",
              "  <tbody>\n",
              "    <tr>\n",
              "      <th>0</th>\n",
              "      <td>0</td>\n",
              "      <td>82</td>\n",
              "      <td>2</td>\n",
              "      <td>0</td>\n",
              "      <td>73738</td>\n",
              "      <td>956</td>\n",
              "      <td>15738</td>\n",
              "      <td>26213</td>\n",
              "      <td>40322</td>\n",
              "      <td>11067</td>\n",
              "      <td>2</td>\n",
              "      <td>2006</td>\n",
              "      <td>0</td>\n",
              "      <td>1</td>\n",
              "      <td>40000</td>\n",
              "      <td>-6</td>\n",
              "      <td>1</td>\n",
              "      <td>1</td>\n",
              "      <td>6</td>\n",
              "      <td>3117.394239</td>\n",
              "      <td>1</td>\n",
              "      <td>18021</td>\n",
              "      <td>1</td>\n",
              "      <td>533</td>\n",
              "      <td>1</td>\n",
              "      <td>0</td>\n",
              "      <td>169.000000</td>\n",
              "      <td>213.750000</td>\n",
              "      <td>648.588189</td>\n",
              "      <td>803.050535</td>\n",
              "      <td>696.905247</td>\n",
              "      <td>615.156712</td>\n",
              "      <td>0</td>\n",
              "      <td>-9</td>\n",
              "      <td>73738</td>\n",
              "      <td>15738</td>\n",
              "      <td>26213</td>\n",
              "      <td>40322</td>\n",
              "      <td>51616.6</td>\n",
              "      <td>20234.571429</td>\n",
              "      <td>...</td>\n",
              "      <td>4</td>\n",
              "      <td>72.898038</td>\n",
              "      <td>2</td>\n",
              "      <td>48.402635</td>\n",
              "      <td>2</td>\n",
              "      <td>290.250487</td>\n",
              "      <td>4</td>\n",
              "      <td>84.001102</td>\n",
              "      <td>2</td>\n",
              "      <td>37.077624</td>\n",
              "      <td>2</td>\n",
              "      <td>222.339102</td>\n",
              "      <td>4</td>\n",
              "      <td>64.346936</td>\n",
              "      <td>2</td>\n",
              "      <td>1</td>\n",
              "      <td>0</td>\n",
              "      <td>5</td>\n",
              "      <td>1</td>\n",
              "      <td>2</td>\n",
              "      <td>0</td>\n",
              "      <td>4</td>\n",
              "      <td>4</td>\n",
              "      <td>4</td>\n",
              "      <td>4</td>\n",
              "      <td>3</td>\n",
              "      <td>1</td>\n",
              "      <td>1</td>\n",
              "      <td>1</td>\n",
              "      <td>1</td>\n",
              "      <td>1</td>\n",
              "      <td>1</td>\n",
              "      <td>1</td>\n",
              "      <td>1</td>\n",
              "      <td>1</td>\n",
              "      <td>2</td>\n",
              "      <td>0</td>\n",
              "      <td>2</td>\n",
              "      <td>0</td>\n",
              "      <td>0</td>\n",
              "    </tr>\n",
              "    <tr>\n",
              "      <th>1</th>\n",
              "      <td>1</td>\n",
              "      <td>50</td>\n",
              "      <td>4</td>\n",
              "      <td>2</td>\n",
              "      <td>55846</td>\n",
              "      <td>1100</td>\n",
              "      <td>17165</td>\n",
              "      <td>28604</td>\n",
              "      <td>45744</td>\n",
              "      <td>24218</td>\n",
              "      <td>4</td>\n",
              "      <td>1980</td>\n",
              "      <td>0</td>\n",
              "      <td>1</td>\n",
              "      <td>130000</td>\n",
              "      <td>-6</td>\n",
              "      <td>1</td>\n",
              "      <td>1</td>\n",
              "      <td>6</td>\n",
              "      <td>2150.725544</td>\n",
              "      <td>4</td>\n",
              "      <td>122961</td>\n",
              "      <td>1</td>\n",
              "      <td>487</td>\n",
              "      <td>1</td>\n",
              "      <td>0</td>\n",
              "      <td>245.333333</td>\n",
              "      <td>58.333333</td>\n",
              "      <td>1167.640781</td>\n",
              "      <td>1669.643405</td>\n",
              "      <td>1324.671218</td>\n",
              "      <td>1058.988479</td>\n",
              "      <td>123000</td>\n",
              "      <td>-9</td>\n",
              "      <td>55846</td>\n",
              "      <td>17165</td>\n",
              "      <td>28604</td>\n",
              "      <td>45744</td>\n",
              "      <td>55846.0</td>\n",
              "      <td>19911.400000</td>\n",
              "      <td>...</td>\n",
              "      <td>4</td>\n",
              "      <td>120.424656</td>\n",
              "      <td>3</td>\n",
              "      <td>103.094063</td>\n",
              "      <td>6</td>\n",
              "      <td>275.768999</td>\n",
              "      <td>4</td>\n",
              "      <td>151.785764</td>\n",
              "      <td>3</td>\n",
              "      <td>65.388468</td>\n",
              "      <td>4</td>\n",
              "      <td>174.909320</td>\n",
              "      <td>3</td>\n",
              "      <td>96.271680</td>\n",
              "      <td>2</td>\n",
              "      <td>1</td>\n",
              "      <td>0</td>\n",
              "      <td>3</td>\n",
              "      <td>1</td>\n",
              "      <td>4</td>\n",
              "      <td>0</td>\n",
              "      <td>3</td>\n",
              "      <td>4</td>\n",
              "      <td>4</td>\n",
              "      <td>3</td>\n",
              "      <td>4</td>\n",
              "      <td>2</td>\n",
              "      <td>2</td>\n",
              "      <td>2</td>\n",
              "      <td>1</td>\n",
              "      <td>3</td>\n",
              "      <td>3</td>\n",
              "      <td>3</td>\n",
              "      <td>5</td>\n",
              "      <td>3</td>\n",
              "      <td>7</td>\n",
              "      <td>0</td>\n",
              "      <td>1</td>\n",
              "      <td>0</td>\n",
              "      <td>0</td>\n",
              "    </tr>\n",
              "    <tr>\n",
              "      <th>2</th>\n",
              "      <td>2</td>\n",
              "      <td>53</td>\n",
              "      <td>4</td>\n",
              "      <td>2</td>\n",
              "      <td>55846</td>\n",
              "      <td>1100</td>\n",
              "      <td>13750</td>\n",
              "      <td>22897</td>\n",
              "      <td>36614</td>\n",
              "      <td>15470</td>\n",
              "      <td>4</td>\n",
              "      <td>1985</td>\n",
              "      <td>0</td>\n",
              "      <td>1</td>\n",
              "      <td>150000</td>\n",
              "      <td>-6</td>\n",
              "      <td>1</td>\n",
              "      <td>1</td>\n",
              "      <td>7</td>\n",
              "      <td>2213.789404</td>\n",
              "      <td>2</td>\n",
              "      <td>27974</td>\n",
              "      <td>1</td>\n",
              "      <td>1405</td>\n",
              "      <td>1</td>\n",
              "      <td>0</td>\n",
              "      <td>159.000000</td>\n",
              "      <td>37.500000</td>\n",
              "      <td>1193.393209</td>\n",
              "      <td>1772.627006</td>\n",
              "      <td>1374.582175</td>\n",
              "      <td>1068.025168</td>\n",
              "      <td>28000</td>\n",
              "      <td>-9</td>\n",
              "      <td>55846</td>\n",
              "      <td>13750</td>\n",
              "      <td>22897</td>\n",
              "      <td>36614</td>\n",
              "      <td>44676.8</td>\n",
              "      <td>19937.500000</td>\n",
              "      <td>...</td>\n",
              "      <td>4</td>\n",
              "      <td>124.962016</td>\n",
              "      <td>3</td>\n",
              "      <td>109.452905</td>\n",
              "      <td>6</td>\n",
              "      <td>458.339239</td>\n",
              "      <td>4</td>\n",
              "      <td>161.147910</td>\n",
              "      <td>3</td>\n",
              "      <td>65.946449</td>\n",
              "      <td>4</td>\n",
              "      <td>276.153890</td>\n",
              "      <td>4</td>\n",
              "      <td>97.093197</td>\n",
              "      <td>2</td>\n",
              "      <td>1</td>\n",
              "      <td>0</td>\n",
              "      <td>3</td>\n",
              "      <td>1</td>\n",
              "      <td>4</td>\n",
              "      <td>0</td>\n",
              "      <td>4</td>\n",
              "      <td>4</td>\n",
              "      <td>4</td>\n",
              "      <td>4</td>\n",
              "      <td>3</td>\n",
              "      <td>2</td>\n",
              "      <td>2</td>\n",
              "      <td>2</td>\n",
              "      <td>1</td>\n",
              "      <td>2</td>\n",
              "      <td>3</td>\n",
              "      <td>4</td>\n",
              "      <td>5</td>\n",
              "      <td>3</td>\n",
              "      <td>4</td>\n",
              "      <td>0</td>\n",
              "      <td>3</td>\n",
              "      <td>0</td>\n",
              "      <td>0</td>\n",
              "    </tr>\n",
              "    <tr>\n",
              "      <th>3</th>\n",
              "      <td>3</td>\n",
              "      <td>67</td>\n",
              "      <td>4</td>\n",
              "      <td>2</td>\n",
              "      <td>55846</td>\n",
              "      <td>949</td>\n",
              "      <td>13750</td>\n",
              "      <td>22897</td>\n",
              "      <td>36614</td>\n",
              "      <td>13964</td>\n",
              "      <td>3</td>\n",
              "      <td>1985</td>\n",
              "      <td>0</td>\n",
              "      <td>1</td>\n",
              "      <td>200000</td>\n",
              "      <td>-6</td>\n",
              "      <td>1</td>\n",
              "      <td>1</td>\n",
              "      <td>6</td>\n",
              "      <td>2364.585097</td>\n",
              "      <td>2</td>\n",
              "      <td>32220</td>\n",
              "      <td>1</td>\n",
              "      <td>279</td>\n",
              "      <td>1</td>\n",
              "      <td>0</td>\n",
              "      <td>179.000000</td>\n",
              "      <td>70.666667</td>\n",
              "      <td>1578.857612</td>\n",
              "      <td>2351.169341</td>\n",
              "      <td>1820.442900</td>\n",
              "      <td>1411.700224</td>\n",
              "      <td>0</td>\n",
              "      <td>-9</td>\n",
              "      <td>55846</td>\n",
              "      <td>13750</td>\n",
              "      <td>22897</td>\n",
              "      <td>36614</td>\n",
              "      <td>44676.8</td>\n",
              "      <td>17875.000000</td>\n",
              "      <td>...</td>\n",
              "      <td>4</td>\n",
              "      <td>191.827492</td>\n",
              "      <td>3</td>\n",
              "      <td>161.926709</td>\n",
              "      <td>7</td>\n",
              "      <td>673.494512</td>\n",
              "      <td>4</td>\n",
              "      <td>247.752301</td>\n",
              "      <td>3</td>\n",
              "      <td>97.224801</td>\n",
              "      <td>5</td>\n",
              "      <td>404.382763</td>\n",
              "      <td>4</td>\n",
              "      <td>148.756610</td>\n",
              "      <td>3</td>\n",
              "      <td>1</td>\n",
              "      <td>0</td>\n",
              "      <td>3</td>\n",
              "      <td>1</td>\n",
              "      <td>3</td>\n",
              "      <td>0</td>\n",
              "      <td>4</td>\n",
              "      <td>4</td>\n",
              "      <td>4</td>\n",
              "      <td>4</td>\n",
              "      <td>4</td>\n",
              "      <td>2</td>\n",
              "      <td>2</td>\n",
              "      <td>2</td>\n",
              "      <td>2</td>\n",
              "      <td>2</td>\n",
              "      <td>5</td>\n",
              "      <td>6</td>\n",
              "      <td>6</td>\n",
              "      <td>4</td>\n",
              "      <td>4</td>\n",
              "      <td>0</td>\n",
              "      <td>1</td>\n",
              "      <td>0</td>\n",
              "      <td>0</td>\n",
              "    </tr>\n",
              "    <tr>\n",
              "      <th>4</th>\n",
              "      <td>4</td>\n",
              "      <td>26</td>\n",
              "      <td>0</td>\n",
              "      <td>2</td>\n",
              "      <td>60991</td>\n",
              "      <td>737</td>\n",
              "      <td>14801</td>\n",
              "      <td>24628</td>\n",
              "      <td>39421</td>\n",
              "      <td>15492</td>\n",
              "      <td>2</td>\n",
              "      <td>1980</td>\n",
              "      <td>0</td>\n",
              "      <td>1</td>\n",
              "      <td>-6</td>\n",
              "      <td>-6</td>\n",
              "      <td>2</td>\n",
              "      <td>100</td>\n",
              "      <td>4</td>\n",
              "      <td>2314.524902</td>\n",
              "      <td>2</td>\n",
              "      <td>96874</td>\n",
              "      <td>1</td>\n",
              "      <td>759</td>\n",
              "      <td>5</td>\n",
              "      <td>1</td>\n",
              "      <td>146.000000</td>\n",
              "      <td>12.500000</td>\n",
              "      <td>759.000000</td>\n",
              "      <td>759.000000</td>\n",
              "      <td>759.000000</td>\n",
              "      <td>759.000000</td>\n",
              "      <td>96900</td>\n",
              "      <td>0</td>\n",
              "      <td>60991</td>\n",
              "      <td>14801</td>\n",
              "      <td>24628</td>\n",
              "      <td>39421</td>\n",
              "      <td>48792.8</td>\n",
              "      <td>16651.125000</td>\n",
              "      <td>...</td>\n",
              "      <td>3</td>\n",
              "      <td>102.985075</td>\n",
              "      <td>3</td>\n",
              "      <td>55.308707</td>\n",
              "      <td>3</td>\n",
              "      <td>195.972115</td>\n",
              "      <td>3</td>\n",
              "      <td>102.985075</td>\n",
              "      <td>3</td>\n",
              "      <td>55.308707</td>\n",
              "      <td>3</td>\n",
              "      <td>195.972115</td>\n",
              "      <td>3</td>\n",
              "      <td>102.985075</td>\n",
              "      <td>3</td>\n",
              "      <td>1</td>\n",
              "      <td>1</td>\n",
              "      <td>3</td>\n",
              "      <td>5</td>\n",
              "      <td>2</td>\n",
              "      <td>1</td>\n",
              "      <td>3</td>\n",
              "      <td>3</td>\n",
              "      <td>3</td>\n",
              "      <td>3</td>\n",
              "      <td>4</td>\n",
              "      <td>2</td>\n",
              "      <td>2</td>\n",
              "      <td>2</td>\n",
              "      <td>2</td>\n",
              "      <td>3</td>\n",
              "      <td>2</td>\n",
              "      <td>2</td>\n",
              "      <td>2</td>\n",
              "      <td>2</td>\n",
              "      <td>7</td>\n",
              "      <td>1</td>\n",
              "      <td>1</td>\n",
              "      <td>0</td>\n",
              "      <td>0</td>\n",
              "    </tr>\n",
              "  </tbody>\n",
              "</table>\n",
              "<p>5 rows × 99 columns</p>\n",
              "</div>"
            ],
            "text/plain": [
              "   CONTROL  AGE1  METRO3  REGION  ...  FMTASSISTED  FMTBURDEN  FMTREGION  FMTSTATUS\n",
              "0        0    82       2       0  ...            0          2          0          0\n",
              "1        1    50       4       2  ...            0          1          0          0\n",
              "2        2    53       4       2  ...            0          3          0          0\n",
              "3        3    67       4       2  ...            0          1          0          0\n",
              "4        4    26       0       2  ...            1          1          0          0\n",
              "\n",
              "[5 rows x 99 columns]"
            ]
          },
          "metadata": {
            "tags": []
          },
          "execution_count": 6
        }
      ]
    },
    {
      "cell_type": "code",
      "metadata": {
        "id": "6NS5AQpcQ8Je",
        "colab_type": "code",
        "colab": {
          "base_uri": "https://localhost:8080/",
          "height": 221
        },
        "outputId": "7daad198-0c0d-4efe-d756-06444e912734"
      },
      "source": [
        "# Now we only ahve numeric columns (ints and floats)\n",
        "national_processed.dtypes"
      ],
      "execution_count": 7,
      "outputs": [
        {
          "output_type": "execute_result",
          "data": {
            "text/plain": [
              "CONTROL            int32\n",
              "AGE1               int64\n",
              "METRO3              int8\n",
              "REGION              int8\n",
              "LMED               int64\n",
              "                   ...  \n",
              "FMTINCRELAMICAT     int8\n",
              "FMTASSISTED         int8\n",
              "FMTBURDEN           int8\n",
              "FMTREGION           int8\n",
              "FMTSTATUS           int8\n",
              "Length: 99, dtype: object"
            ]
          },
          "metadata": {
            "tags": []
          },
          "execution_count": 7
        }
      ]
    },
    {
      "cell_type": "code",
      "metadata": {
        "id": "WAJ8bjVcEwhA",
        "colab_type": "code",
        "colab": {
          "base_uri": "https://localhost:8080/",
          "height": 1000
        },
        "outputId": "b22a816f-f527-434c-db62-d2a7ac7be928"
      },
      "source": [
        "### Your Code Here\n",
        "from numpy import array\n",
        "from sklearn.preprocessing import StandardScaler\n",
        "from sklearn.decomposition import PCA\n",
        "\n",
        "scaler = StandardScaler()\n",
        "\n",
        "Z = scaler.fit_transform(national_processed)\n",
        "print(\"\\n Standardized Data: \\n\", Z)\n",
        "\n",
        "pca.fit(Z)\n",
        "# access values and vectors\n",
        "print(\"\\n Eigenvectors: \\n\", pca.components_)\n",
        "print(\"\\n Eigenvalues: \\n\",pca.explained_variance_)\n",
        "# transform data\n",
        "B = pca.transform(Z)\n",
        "print(\"\\n Projected Data: \\n\", B)"
      ],
      "execution_count": 37,
      "outputs": [
        {
          "output_type": "stream",
          "text": [
            "\n",
            " Standardized Data: \n",
            " [[-1.73202397  1.48807451  0.60878419 ...  0.54947295 -0.46210707\n",
            "   0.        ]\n",
            " [-1.73197029  0.08881241  2.18426992 ... -0.54470863 -0.46210707\n",
            "   0.        ]\n",
            " [-1.73191661  0.21999323  2.18426992 ...  1.64365453 -0.46210707\n",
            "   0.        ]\n",
            " ...\n",
            " [ 1.73191661 -1.09181499 -0.17895868 ...  1.64365453  2.16400067\n",
            "   0.        ]\n",
            " [ 1.73197029  0.39490099 -0.96670154 ... -0.54470863  2.16400067\n",
            "   0.        ]\n",
            " [ 1.73202397  0.78844346  1.39652706 ... -0.54470863 -0.46210707\n",
            "   0.        ]]\n",
            "\n",
            " Eigenvectors: \n",
            " [[-0.01762294  0.04564172  0.00224448 -0.0056805   0.04142715  0.08969161\n",
            "   0.06498292  0.0649871   0.06422065  0.06147403  0.08585244  0.01801879\n",
            "  -0.05896537 -0.01528452  0.13234213 -0.05711476 -0.03969967 -0.02559715\n",
            "   0.09915137  0.02420272  0.06848524  0.10804133  0.02549375  0.12591589\n",
            "  -0.0686994  -0.09686185  0.09495694  0.06829523  0.13890808  0.13843111\n",
            "   0.13897851  0.138511    0.0905027  -0.07741872  0.04142715  0.06498292\n",
            "   0.0649871   0.06422065  0.07923954  0.0921104   0.09210336  0.09490276\n",
            "   0.08739559  0.00091387  0.10149966  0.10199758  0.1018149   0.08553625\n",
            "   0.09217413  0.0781451   0.13215061  0.14670343  0.1335704   0.09089986\n",
            "   0.12974258  0.12772056  0.13365417  0.14824806  0.13368685  0.0902927\n",
            "   0.13209618  0.12802126  0.13470573  0.1470892   0.13320525  0.08919073\n",
            "   0.13411974  0.12560459  0.13025193  0.14427022  0.13314257  0.09127039\n",
            "   0.1269716   0.12604755  0.02549375 -0.02868194  0.02198791 -0.06878637\n",
            "   0.08502306 -0.09686185  0.12430766  0.1236005   0.12184815  0.12455057\n",
            "   0.10357345  0.12772056  0.12802126  0.12560459  0.12604755  0.09767683\n",
            "   0.14670343  0.14824806  0.1470892   0.14427022  0.11025228 -0.08541172\n",
            "   0.00320622  0.01421383 -0.        ]\n",
            " [-0.00232268 -0.12881974  0.02787248  0.02355993 -0.05103525 -0.03833234\n",
            "  -0.10241577 -0.10242769 -0.10406663 -0.16868994 -0.01158043  0.02224374\n",
            "   0.22379537  0.00406118  0.07554282  0.22202935 -0.17613668  0.01102132\n",
            "  -0.00219947 -0.00774407 -0.20946021 -0.03104596 -0.16686104 -0.0276374\n",
            "   0.00239875 -0.02138781 -0.01017962  0.03905815  0.08279444  0.08127423\n",
            "   0.08232351  0.08302786 -0.03769061 -0.10264061 -0.05103525 -0.10241577\n",
            "  -0.10242769 -0.10406663 -0.20229415 -0.04714243 -0.0472246  -0.04437527\n",
            "  -0.04544984 -0.00410633 -0.0243843  -0.17315565 -0.02241456 -0.20463355\n",
            "  -0.03479403 -0.21272755  0.102165    0.0761984   0.04409669 -0.19809081\n",
            "   0.10852792  0.07185395  0.10098787  0.07256343  0.04730334 -0.19897927\n",
            "   0.10684339  0.06898156  0.09847618  0.06586526  0.05166391 -0.20021042\n",
            "   0.10334089  0.06413585  0.10281403  0.07875107  0.04107962 -0.19724869\n",
            "   0.10950206  0.07374035 -0.16686104 -0.00998768  0.02400899  0.00247039\n",
            "  -0.01286988 -0.02138781 -0.10647349 -0.10987843 -0.11449743 -0.10326949\n",
            "  -0.11457314  0.07185395  0.06898156  0.06413585  0.07374035 -0.12050047\n",
            "   0.0761984   0.07256343  0.06586526  0.07875107 -0.07724314 -0.09534592\n",
            "  -0.09249567 -0.00290366 -0.        ]]\n",
            "\n",
            " Eigenvalues: \n",
            " [33.37004789 14.1535396 ]\n",
            "\n",
            " Projected Data: \n",
            " [[-2.57657018 -1.37612732]\n",
            " [ 2.04064284 -0.98806144]\n",
            " [ 1.21527025  0.37016816]\n",
            " ...\n",
            " [ 1.83162816 -2.95570213]\n",
            " [-5.02514474 -2.52857814]\n",
            " [-9.89816404 -0.80284267]]\n"
          ],
          "name": "stdout"
        }
      ]
    },
    {
      "cell_type": "code",
      "metadata": {
        "id": "f7qmllc8TjzK",
        "colab_type": "code",
        "colab": {
          "base_uri": "https://localhost:8080/",
          "height": 34
        },
        "outputId": "8d95c607-f40b-4ddc-e6eb-41ade4753997"
      },
      "source": [
        "B[0:, 0].min()"
      ],
      "execution_count": 36,
      "outputs": [
        {
          "output_type": "execute_result",
          "data": {
            "text/plain": [
              "-13.931672501532011"
            ]
          },
          "metadata": {
            "tags": []
          },
          "execution_count": 36
        }
      ]
    },
    {
      "cell_type": "code",
      "metadata": {
        "id": "3ZcI0546REJq",
        "colab_type": "code",
        "colab": {
          "base_uri": "https://localhost:8080/",
          "height": 265
        },
        "outputId": "e2aa6c77-6234-4178-89a3-a086f8b3efae"
      },
      "source": [
        "PC1 = B[0:, 0]\n",
        "PC2 = B[0:, 1]\n",
        "\n",
        "plt.scatter(PC1, PC2)\n",
        "plt.show()"
      ],
      "execution_count": 38,
      "outputs": [
        {
          "output_type": "display_data",
          "data": {
            "image/png": "[encoded data removed]",
            "text/plain": [
              "<Figure size 432x288 with 1 Axes>"
            ]
          },
          "metadata": {
            "tags": [],
            "needs_background": "light"
          }
        }
      ]
    },
    {
      "cell_type": "markdown",
      "metadata": {
        "id": "RQx7UvsucIrL",
        "colab_type": "text"
      },
      "source": [
        "# Stretch Goals\n",
        "\n",
        "## 1) Perform further data exploration on the HADS national dataset (the version before we one-hot encoded it) Make scatterplots and see if you can see any resemblance between the original scatterplots and the plot of the principal components that you made in 7.1. \n",
        "\n",
        "(You may or may not not see very much resemblance depending on the variables you choose, and that's ok!)\n",
        "\n",
        "## 2) Study \"Scree Plots\" and then try and make one for your PCA dataset. How many principal conponents do you need to retain in order for your PCs to contain 90% of the explained variance? \n",
        "\n",
        "We will present this topic formally at the beginning of tomorrow's lecture, so if you figure this stretch goal out, you're ahead of the game. \n",
        "\n",
        "## 3) Explore further the intuition behind eigenvalues and eigenvectors by creating your very own eigenfaces:\n",
        "\n",
        "Prioritize self-study over this stretch goal if you are not semi-comfortable with the topics of PCA, Eigenvalues, and Eigenvectors.\n",
        "\n",
        "![Eigenfaces](https://i.pinimg.com/236x/1c/f1/01/1cf101a9859437a5d096a04b05be06b4--faces-tattoo.jpg)\n",
        "\n",
        "You don't necessarily have to use this resource, but this will get you started: \n",
        "[Eigenface Tutorial](https://sandipanweb.wordpress.com/2018/01/06/eigenfaces-and-a-simple-face-detector-with-pca-svd-in-python/)"
      ]
    }
  ]
}